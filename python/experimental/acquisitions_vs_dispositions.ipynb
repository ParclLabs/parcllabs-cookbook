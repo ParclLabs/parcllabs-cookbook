{
 "cells": [
  {
   "cell_type": "markdown",
   "metadata": {
    "application/vnd.databricks.v1+cell": {
     "cellMetadata": {},
     "inputWidgets": {},
     "nuid": "f78add2d-a006-4434-92fe-48a53ff1a51b",
     "showTitle": false,
     "title": ""
    }
   },
   "source": [
    "# Welcome to the Lab 🥼🧪\n",
    "\n",
    "## Market Supply & Demand\n",
    "\n",
    "Let's review supply, demand\n",
    "\n",
    "Let's get into the lab and take a peak at whats going on.\n",
    "\n",
    "**Note** This notebook will work with any of the 70k+ markets supported by the Parcl Labs API.\n",
    "\n",
    "As a reminder, you can get your Parcl Labs API key [here](https://dashboard.parcllabs.com/signup) to follow along. "
   ]
  },
  {
   "cell_type": "code",
   "execution_count": 0,
   "metadata": {
    "application/vnd.databricks.v1+cell": {
     "cellMetadata": {
      "byteLimit": 2048000,
      "rowLimit": 10000
     },
     "inputWidgets": {},
     "nuid": "f603a96d-c851-4b5c-8d05-e6e8c4e458ce",
     "showTitle": false,
     "title": ""
    }
   },
   "outputs": [],
   "source": [
    "import os\n",
    "import sys\n",
    "import subprocess\n",
    "from datetime import datetime\n",
    "\n",
    "if \"google.colab\" in sys.modules:\n",
    "    from google.colab import userdata\n",
    "    %pip install parcllabs plotly kaleido\n",
    "    api_key = userdata.get('PARCL_LABS_API_KEY')\n",
    "elif 'DATABRICKS_RUNTIME_VERSION' in os.environ:\n",
    "    print(\"Running in Databricks environment.\")\n",
    "    api_key = dbutils.secrets.get('pricefeed-api', 'PARCL_LABS_API_KEY')  # assuming API key is set in Databricks secrets\n",
    "    %pip install parcllabs plotly kaleido\n",
    "else:\n",
    "    api_key = os.getenv('PARCL_LABS_API_KEY')"
   ]
  },
  {
   "cell_type": "code",
   "execution_count": 0,
   "metadata": {
    "application/vnd.databricks.v1+cell": {
     "cellMetadata": {
      "byteLimit": 2048000,
      "rowLimit": 10000
     },
     "inputWidgets": {},
     "nuid": "c8b53413-4c96-4630-983b-a0699fa04bb6",
     "showTitle": false,
     "title": ""
    }
   },
   "outputs": [],
   "source": [
    "import parcllabs\n",
    "import pandas as pd\n",
    "import plotly.express as px\n",
    "from parcllabs import ParclLabsClient\n",
    "\n",
    "print(f\"Parcl Labs Version: {parcllabs.__version__}\")"
   ]
  },
  {
   "cell_type": "code",
   "execution_count": 0,
   "metadata": {
    "application/vnd.databricks.v1+cell": {
     "cellMetadata": {
      "byteLimit": 2048000,
      "rowLimit": 10000
     },
     "inputWidgets": {},
     "nuid": "28449590-8dd3-41d1-911f-585016e33d55",
     "showTitle": false,
     "title": ""
    }
   },
   "outputs": [],
   "source": [
    "# charting setup\n",
    "# set some constants for the analysis, such as the logo for the chart, we have a white and blue version\n",
    "labs_logo_lookup = {\n",
    "    'blue': 'https://parcllabs-assets.s3.amazonaws.com/powered-by-parcllabs-api.png',\n",
    "    'white': 'https://parcllabs-assets.s3.amazonaws.com/powered-by-parcllabs-api-logo-white+(1).svg',\n",
    "    'x': 'https://parcllabs-assets.s3.amazonaws.com/Parcl-x-ParclLabs+API_White.svg'\n",
    "}\n",
    "\n",
    "# set charting constants\n",
    "labs_logo_dict = dict(\n",
    "        source=labs_logo_lookup['white'],\n",
    "        xref=\"paper\",\n",
    "        yref=\"paper\",\n",
    "        x=0.5,  # Centering the logo below the title\n",
    "        y=1.02,  # Adjust this value to position the logo just below the title\n",
    "        sizex=0.15, \n",
    "        sizey=0.15,\n",
    "        xanchor=\"center\",\n",
    "        yanchor=\"bottom\"\n",
    ")\n",
    "\n",
    "# define image dimentions\n",
    "media_img_size_lookup = {\n",
    "    'X': {\n",
    "        'width': 1600,\n",
    "        'height': 900\n",
    "    }\n",
    "}\n",
    "\n",
    "# optimize the visual for the platform in this case X\n",
    "PLATFORM = 'X'\n",
    "\n",
    "# set image sizes\n",
    "IMG_WIDTH = media_img_size_lookup[PLATFORM]['width']\n",
    "IMG_HEIGHT = media_img_size_lookup[PLATFORM]['height']\n",
    "\n",
    "# plotting title settings\n",
    "PLOT_TITLE_SETTINGS = {\n",
    "        'y':0.97,\n",
    "        'x':0.5,\n",
    "        'xanchor': 'center',\n",
    "        'yanchor': 'top'\n",
    "    }"
   ]
  },
  {
   "cell_type": "code",
   "execution_count": 0,
   "metadata": {
    "application/vnd.databricks.v1+cell": {
     "cellMetadata": {
      "byteLimit": 2048000,
      "rowLimit": 10000
     },
     "inputWidgets": {},
     "nuid": "fa5923b1-4668-4a46-a1b1-d2ce2d366ff4",
     "showTitle": false,
     "title": ""
    }
   },
   "outputs": [],
   "source": [
    "client = ParclLabsClient(api_key=api_key)"
   ]
  },
  {
   "cell_type": "code",
   "execution_count": 0,
   "metadata": {
    "application/vnd.databricks.v1+cell": {
     "cellMetadata": {
      "byteLimit": 2048000,
      "rowLimit": 10000
     },
     "inputWidgets": {},
     "nuid": "c898859b-f3f2-4e24-9091-7c6dc6c12cdb",
     "showTitle": false,
     "title": ""
    }
   },
   "outputs": [],
   "source": [
    "# we are looking at homes in San Diego, so we look for the name and the type of market\n",
    "results = client.search_markets.retrieve(\n",
    "    sort_by='PARCL_EXCHANGE_MARKET',\n",
    "    as_dataframe=True,\n",
    "    params={\n",
    "        'limit': 14\n",
    "    }\n",
    ")\n",
    "\n",
    "trade_parcl_ids = results['parcl_id'].tolist()"
   ]
  },
  {
   "cell_type": "markdown",
   "metadata": {
    "application/vnd.databricks.v1+cell": {
     "cellMetadata": {
      "byteLimit": 2048000,
      "rowLimit": 10000
     },
     "inputWidgets": {},
     "nuid": "c37a566c-b6e4-4f00-a5b3-04ce8226048e",
     "showTitle": false,
     "title": ""
    }
   },
   "source": [
    "### Supply and Demand Activity\n",
    "\n",
    "Let's review supply and demand drivers"
   ]
  },
  {
   "cell_type": "code",
   "execution_count": 0,
   "metadata": {
    "application/vnd.databricks.v1+cell": {
     "cellMetadata": {
      "byteLimit": 2048000,
      "rowLimit": 10000
     },
     "inputWidgets": {},
     "nuid": "706f856d-5736-493a-aa91-c20238aa227e",
     "showTitle": false,
     "title": ""
    }
   },
   "outputs": [],
   "source": [
    "# Prices\n",
    "supply_demand = client.market_metrics_housing_event_counts.retrieve(\n",
    "    parcl_id=5826765,\n",
    "    as_dataframe=True,\n",
    "    params={\n",
    "        'limit': 36\n",
    "    },\n",
    "    start_date='2023-01-01'\n",
    ")\n",
    "\n",
    "supply_demand.head(1)"
   ]
  },
  {
   "cell_type": "code",
   "execution_count": 0,
   "metadata": {
    "application/vnd.databricks.v1+cell": {
     "cellMetadata": {
      "byteLimit": 2048000,
      "rowLimit": 10000
     },
     "inputWidgets": {},
     "nuid": "3d1ff7d7-29cd-42ed-8a61-2c1715994304",
     "showTitle": false,
     "title": ""
    }
   },
   "outputs": [],
   "source": [
    "import plotly.graph_objects as go\n",
    "import os\n",
    "\n",
    "# Example data\n",
    "months = supply_demand['date'].tolist()\n",
    "sales = supply_demand['sales'].tolist()\n",
    "new_listings = supply_demand['new_listings_for_sale'].tolist()\n",
    "\n",
    "# Create figure\n",
    "fig = go.Figure()\n",
    "\n",
    "# Add bar for New Listings\n",
    "fig.add_trace(go.Bar(\n",
    "    x=months,\n",
    "    y=new_listings,\n",
    "    name='New Listings',\n",
    "    marker_color='#DCECFF'\n",
    "))\n",
    "\n",
    "# Add bar for Sales (inverted to appear negative)\n",
    "fig.add_trace(go.Bar(\n",
    "    x=months,\n",
    "    y=[-x for x in sales],\n",
    "    name='Sales',\n",
    "    marker_color='#04428C'\n",
    "))\n",
    "\n",
    "# Update layout\n",
    "fig.update_layout(\n",
    "    title='US Home Sales and New Listings',\n",
    "    title_x=0.5,  # Centering the title\n",
    "    xaxis_tickfont_size=14,\n",
    "    yaxis=dict(\n",
    "        title='Number of Transactions',\n",
    "        titlefont_size=16,\n",
    "        tickfont_size=14,\n",
    "        # Auto range adjustment for y-axis\n",
    "        autorange=True\n",
    "    ),\n",
    "    height=800,  # Update according to your constant or preference\n",
    "    width=1200,   # Update according to your constant or preference\n",
    "    legend=dict(\n",
    "        x=0.01,\n",
    "        y=0.99,\n",
    "        bgcolor='rgba(255, 255, 255, 0)',\n",
    "        bordercolor='rgba(255, 255, 255, 0)'\n",
    "    ),\n",
    "    barmode='overlay',\n",
    "    bargap=0.15, # gap between bars of adjacent location coordinates\n",
    "    bargroupgap=0.1, # gap between bars of the same location coordinates\n",
    "    plot_bgcolor='#080D16', \n",
    "    paper_bgcolor='#080D16',\n",
    "    font=dict(color='#FFFFFF')\n",
    ")\n",
    "\n",
    "# Assuming 'labs_logo_dict' is defined elsewhere in your code\n",
    "# Uncomment and configure the following line if you have a logo to add:\n",
    "fig.add_layout_image(labs_logo_dict)\n",
    "\n",
    "# Adding gridlines\n",
    "fig.update_xaxes(showgrid=True, gridwidth=1, gridcolor='LightGrey')\n",
    "fig.update_yaxes(showgrid=True, gridwidth=1, gridcolor='LightGrey')\n",
    "\n",
    "# Show the plot\n",
    "fig.show()\n"
   ]
  },
  {
   "cell_type": "markdown",
   "metadata": {
    "application/vnd.databricks.v1+cell": {
     "cellMetadata": {},
     "inputWidgets": {},
     "nuid": "0addf350-6a9f-4c7c-8d8d-d6ed741012af",
     "showTitle": false,
     "title": ""
    }
   },
   "source": [
    "Now lets convert this to a ratio, and a table to measure this in a comparable way across many markets. \n",
    "\n",
    "new listings/sales"
   ]
  },
  {
   "cell_type": "code",
   "execution_count": 0,
   "metadata": {
    "application/vnd.databricks.v1+cell": {
     "cellMetadata": {
      "byteLimit": 2048000,
      "rowLimit": 10000
     },
     "inputWidgets": {},
     "nuid": "8e053b86-71fe-4a56-9944-8d6d35bc88bd",
     "showTitle": false,
     "title": ""
    }
   },
   "outputs": [],
   "source": [
    "# lets do top 50 metros\n",
    "\n",
    "results = client.search_markets.retrieve(\n",
    "    sort_by='TOTAL_POPULATION',\n",
    "    as_dataframe=True,\n",
    "    location_type='CBSA',\n",
    "    params={\n",
    "        'limit': 50\n",
    "    }\n",
    ")\n",
    "\n",
    "ids = results['parcl_id'].tolist()"
   ]
  },
  {
   "cell_type": "code",
   "execution_count": 0,
   "metadata": {
    "application/vnd.databricks.v1+cell": {
     "cellMetadata": {
      "byteLimit": 2048000,
      "rowLimit": 10000
     },
     "inputWidgets": {},
     "nuid": "ad6c2d1c-bbfd-4626-bbb7-49e876b50961",
     "showTitle": false,
     "title": ""
    }
   },
   "outputs": [],
   "source": [
    "supply_demand = client.market_metrics_housing_event_counts.retrieve_many(\n",
    "    parcl_ids=ids,\n",
    "    as_dataframe=True,\n",
    "    params={\n",
    "        'limit': 36\n",
    "    },\n",
    "    start_date='2023-03-01'\n",
    ")\n",
    "\n",
    "supply_demand.head()"
   ]
  },
  {
   "cell_type": "code",
   "execution_count": 0,
   "metadata": {
    "application/vnd.databricks.v1+cell": {
     "cellMetadata": {
      "byteLimit": 2048000,
      "rowLimit": 10000
     },
     "inputWidgets": {},
     "nuid": "29c55bb0-cb93-4ae4-b025-90aa73215dd3",
     "showTitle": false,
     "title": ""
    }
   },
   "outputs": [],
   "source": [
    "supply_demand['ratio'] = round(supply_demand['new_listings_for_sale']/supply_demand['sales'], 2)\n",
    "supply_demand.head()"
   ]
  },
  {
   "cell_type": "code",
   "execution_count": 0,
   "metadata": {
    "application/vnd.databricks.v1+cell": {
     "cellMetadata": {
      "byteLimit": 2048000,
      "rowLimit": 10000
     },
     "inputWidgets": {},
     "nuid": "8314bbc4-8984-46a3-adbf-678ad806c053",
     "showTitle": false,
     "title": ""
    }
   },
   "outputs": [],
   "source": [
    "chart = pd.merge(supply_demand, results[['parcl_id', 'name']], on='parcl_id')"
   ]
  },
  {
   "cell_type": "code",
   "execution_count": 0,
   "metadata": {
    "application/vnd.databricks.v1+cell": {
     "cellMetadata": {
      "byteLimit": 2048000,
      "rowLimit": 10000
     },
     "inputWidgets": {},
     "nuid": "802adbed-6699-430e-9b21-03522da030a6",
     "showTitle": false,
     "title": ""
    }
   },
   "outputs": [],
   "source": [
    "def format_names(nme):\n",
    "    metro = nme.split(',')[0].split('-')[0].strip()\n",
    "    metro = metro.split('/')[0].strip()\n",
    "    return metro\n",
    "\n",
    "chart['name'] = chart['name'].apply(lambda x: format_names(x))"
   ]
  },
  {
   "cell_type": "code",
   "execution_count": 0,
   "metadata": {
    "application/vnd.databricks.v1+cell": {
     "cellMetadata": {
      "byteLimit": 2048000,
      "rowLimit": 10000
     },
     "inputWidgets": {},
     "nuid": "09863b74-3221-48d6-a6f0-5ad4b313462f",
     "showTitle": false,
     "title": ""
    }
   },
   "outputs": [],
   "source": [
    "chart.head()"
   ]
  },
  {
   "cell_type": "code",
   "execution_count": 0,
   "metadata": {
    "application/vnd.databricks.v1+cell": {
     "cellMetadata": {
      "byteLimit": 2048000,
      "rowLimit": 10000
     },
     "inputWidgets": {},
     "nuid": "7760c63d-c268-404d-8b2f-826262adf5ff",
     "showTitle": false,
     "title": ""
    }
   },
   "outputs": [],
   "source": [
    "chart = chart.loc[chart['name'] != 'Austin']\n",
    "chart = chart.loc[chart['name'] != 'Memphis']\n",
    "charting_data = chart.pivot_table(values='ratio', index='name', columns='date')\n",
    "charting_data = charting_data.sort_values('2024-03-01', ascending=False)\n"
   ]
  },
  {
   "cell_type": "code",
   "execution_count": 0,
   "metadata": {
    "application/vnd.databricks.v1+cell": {
     "cellMetadata": {
      "byteLimit": 2048000,
      "rowLimit": 10000
     },
     "inputWidgets": {},
     "nuid": "13b924b9-4ebd-4886-b07b-809c62106894",
     "showTitle": false,
     "title": ""
    }
   },
   "outputs": [],
   "source": [
    "import plotly.graph_objects as go\n",
    "import pandas as pd\n",
    "import numpy as np\n",
    "from datetime import datetime\n",
    "\n",
    "# Define a function to scale the color based on the value\n",
    "def color_scale(value):\n",
    "    # Normalize the value to the new range [0, 2] with a midpoint at 1\n",
    "    if value < 1:\n",
    "        # Scale from light blue to blue as value approaches 1 from 0\n",
    "        normalized = value  # No need to normalize since it's already 0 to 1\n",
    "        r = int(173 + (65 - 173) * normalized)  # Decrease red channel towards darker blue\n",
    "        g = int(216 + (105 - 216) * normalized)  # Decrease green channel towards darker blue\n",
    "        b = int(230 + (225 - 230) * normalized)  # Slightly increase blue channel towards 225\n",
    "    else:\n",
    "        # Scale from blue to dark blue as value goes from 1 to 2\n",
    "        normalized = (value - 1) / 1  # Normalize the upper half from 0 to 1\n",
    "        r = int(65 + (0 - 65) * normalized)  # Decrease red channel towards darkest blue\n",
    "        g = int(105 + (0 - 105) * normalized)  # Decrease green channel towards darkest blue\n",
    "        b = int(225 + (139 - 225) * normalized)  # Decrease blue channel towards darker blue\n",
    "\n",
    "    # Ensure RGB values are within the valid range\n",
    "    r = max(0, min(255, r))\n",
    "    g = max(0, min(255, g))\n",
    "    b = max(0, min(255, b))\n",
    "\n",
    "    return f'rgb({r},{g},{b})'\n",
    "\n",
    "# Define a function to format the date\n",
    "def format_date(date):\n",
    "    date = datetime.strptime(date, '%Y-%m-%d')\n",
    "    return date.strftime('%b `' + date.strftime('%y'))\n",
    "\n",
    "dates = charting_data.columns.tolist()"
   ]
  },
  {
   "cell_type": "code",
   "execution_count": 0,
   "metadata": {
    "application/vnd.databricks.v1+cell": {
     "cellMetadata": {
      "byteLimit": 2048000,
      "rowLimit": 10000
     },
     "inputWidgets": {},
     "nuid": "54e6d525-7b85-4c55-a565-6a3dec0e62e6",
     "showTitle": false,
     "title": ""
    }
   },
   "outputs": [],
   "source": [
    "import plotly.graph_objects as go\n",
    "\n",
    "# Assuming 'charting_data', 'dates', 'format_date', 'color_scale', and 'labs_logo_dict' are defined\n",
    "\n",
    "# Define the table\n",
    "fig = go.Figure(\n",
    "    data=[go.Table(\n",
    "        header=dict(\n",
    "            values=['<b>Market</b>'] + [f\"<b>{format_date(date)}</b>\" for date in dates],\n",
    "            fill_color='#080D16',\n",
    "            font=dict(color='#FFFFFF', size=12),\n",
    "            align='center',\n",
    "            height=30\n",
    "        ),\n",
    "        cells=dict(\n",
    "            values=[[f\"{name}\" for name in charting_data.index]] + \n",
    "                   [charting_data[date] for date in dates],\n",
    "            fill=dict(\n",
    "                color=[\n",
    "                    ['#080D16']*len(charting_data.index)] +\n",
    "                    [[color_scale(charting_data.at[market, date]) for market in charting_data.index] for date in dates]\n",
    "            ),\n",
    "            font=dict(\n",
    "                color='#FFFFFF',\n",
    "                size=11  # Uniform size for all cells\n",
    "            ),\n",
    "            align='center',\n",
    "            height=30\n",
    "        ),\n",
    "        columnwidth=[125] + [100] * len(dates)  # Adjust these values based on your needs\n",
    "    )]\n",
    ")\n",
    "\n",
    "# Add layout image\n",
    "fig.add_layout_image(labs_logo_dict)\n",
    "\n",
    "# Update layout with title and dimensions\n",
    "fig.update_layout(\n",
    "    title={\n",
    "        'text': 'Ratio of New Listings / Home Sales (all unit types)',\n",
    "        'y': 0.98,\n",
    "        'x': 0.5,\n",
    "        'xanchor': 'center',\n",
    "        'yanchor': 'top'\n",
    "    },\n",
    "    title_font_color='#FFFFFF',\n",
    "    width=1200,  # Slightly wider to accommodate more columns\n",
    "    height=1600,  # Adjust height based on the number of markets\n",
    "    paper_bgcolor='#080D16',\n",
    "    margin=dict(l=10, r=10, t=120, b=10)\n",
    ")\n",
    "\n",
    "# Show the plot\n",
    "fig.show()\n"
   ]
  },
  {
   "cell_type": "code",
   "execution_count": 0,
   "metadata": {
    "application/vnd.databricks.v1+cell": {
     "cellMetadata": {},
     "inputWidgets": {},
     "nuid": "54151c0b-98ba-40a1-8a15-e4ab4a9ac220",
     "showTitle": false,
     "title": ""
    }
   },
   "outputs": [],
   "source": []
  }
 ],
 "metadata": {
  "application/vnd.databricks.v1+notebook": {
   "dashboards": [],
   "language": "python",
   "notebookMetadata": {
    "pythonIndentUnit": 4
   },
   "notebookName": "acquisitions_vs_dispositions",
   "widgets": {}
  },
  "kernelspec": {
   "display_name": "Python 3 (ipykernel)",
   "language": "python",
   "name": "python3"
  },
  "language_info": {
   "codemirror_mode": {
    "name": "ipython",
    "version": 3
   },
   "file_extension": ".py",
   "mimetype": "text/x-python",
   "name": "python",
   "nbconvert_exporter": "python",
   "pygments_lexer": "ipython3",
   "version": "3.11.7"
  }
 },
 "nbformat": 4,
 "nbformat_minor": 0
}
