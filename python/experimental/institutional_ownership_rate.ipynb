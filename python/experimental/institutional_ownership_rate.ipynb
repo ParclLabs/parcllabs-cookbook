{
 "cells": [
  {
   "cell_type": "code",
   "execution_count": 1,
   "id": "64636b5e-2f47-4e05-aab5-e551384bab13",
   "metadata": {},
   "outputs": [],
   "source": [
    "# Environment setup\n",
    "import os\n",
    "import sys\n",
    "import json\n",
    "import subprocess\n",
    "from datetime import datetime\n",
    "from urllib.request import urlopen\n",
    "\n",
    "# Collab setup from one click above\n",
    "if \"google.colab\" in sys.modules:\n",
    "    from google.colab import userdata\n",
    "    %pip install parcllabs plotly kaleido\n",
    "    api_key = userdata.get('PARCL_LABS_API_KEY')\n",
    "else:\n",
    "    api_key = os.getenv('PARCL_LABS_API_KEY')"
   ]
  },
  {
   "cell_type": "code",
   "execution_count": 2,
   "id": "db0d416e-dbb2-4b18-b078-541154820167",
   "metadata": {},
   "outputs": [
    {
     "name": "stdout",
     "output_type": "stream",
     "text": [
      "Parcl Labs Version: 0.2.1\n"
     ]
    }
   ],
   "source": [
    "import parcllabs\n",
    "import pandas as pd\n",
    "import plotly.express as px\n",
    "from parcllabs import ParclLabsClient\n",
    "\n",
    "print(f\"Parcl Labs Version: {parcllabs.__version__}\")"
   ]
  },
  {
   "cell_type": "code",
   "execution_count": 3,
   "id": "cc46aa3c-457a-4211-9d6d-904dced07b6a",
   "metadata": {},
   "outputs": [],
   "source": [
    "client = ParclLabsClient(api_key=api_key)"
   ]
  },
  {
   "cell_type": "code",
   "execution_count": 4,
   "id": "b24a6f1b-ae9b-4e73-a339-e1a8e2e54a67",
   "metadata": {},
   "outputs": [],
   "source": [
    "# lets get all metros in the country\n",
    "counties_df = client.search_markets.retrieve(\n",
    "    location_type='COUNTY',\n",
    "    as_dataframe=True,\n",
    "    params={\n",
    "        'limit': 1000\n",
    "    },\n",
    "    auto_paginate=True\n",
    ")"
   ]
  },
  {
   "cell_type": "code",
   "execution_count": 5,
   "id": "d6cf9f25-af81-4b51-982c-200bc644588f",
   "metadata": {},
   "outputs": [
    {
     "data": {
      "text/plain": [
       "3087"
      ]
     },
     "execution_count": 5,
     "metadata": {},
     "output_type": "execute_result"
    }
   ],
   "source": [
    "# get the ids\n",
    "county_ids = counties_df['parcl_id'].tolist()\n",
    "len(county_ids)"
   ]
  },
  {
   "cell_type": "code",
   "execution_count": 6,
   "id": "9101571b-af14-4f1b-b920-8bad8a7abadf",
   "metadata": {},
   "outputs": [
    {
     "name": "stdout",
     "output_type": "stream",
     "text": [
      "|████████████████████████████████████▏⚠︎  | (!) 2790/3087 [90%] in 8:01.1 (5.80/s) \n"
     ]
    },
    {
     "name": "stderr",
     "output_type": "stream",
     "text": [
      "/opt/anaconda3/envs/parcllabs-env/lib/python3.11/site-packages/parcllabs/services/portfolio_metrics.py:66: FutureWarning: The behavior of DataFrame concatenation with empty or all-NA entries is deprecated. In a future version, this will no longer exclude empty or all-NA columns when determining the result dtypes. To retain the old behavior, exclude the relevant entries before the concat operation.\n",
      "  return pd.concat(out).reset_index(drop=True)\n"
     ]
    }
   ],
   "source": [
    "# How big are the investors? Let's find out\n",
    "df = client.portfolio_metrics_sf_housing_stock_ownership.retrieve_many(\n",
    "    parcl_ids=county_ids,\n",
    "    as_dataframe=True,\n",
    "    params={\n",
    "        'limit': 1\n",
    "    }\n",
    ")"
   ]
  },
  {
   "cell_type": "code",
   "execution_count": 7,
   "id": "795a4783-30dd-46ee-a5d1-ca13a440946c",
   "metadata": {},
   "outputs": [
    {
     "data": {
      "text/html": [
       "<div>\n",
       "<style scoped>\n",
       "    .dataframe tbody tr th:only-of-type {\n",
       "        vertical-align: middle;\n",
       "    }\n",
       "\n",
       "    .dataframe tbody tr th {\n",
       "        vertical-align: top;\n",
       "    }\n",
       "\n",
       "    .dataframe thead th {\n",
       "        text-align: right;\n",
       "    }\n",
       "</style>\n",
       "<table border=\"1\" class=\"dataframe\">\n",
       "  <thead>\n",
       "    <tr style=\"text-align: right;\">\n",
       "      <th></th>\n",
       "      <th>date</th>\n",
       "      <th>count_portfolio_2_to_9</th>\n",
       "      <th>count_portfolio_10_to_99</th>\n",
       "      <th>count_portfolio_100_to_999</th>\n",
       "      <th>count_portfolio_1000_plus</th>\n",
       "      <th>count_all_portfolios</th>\n",
       "      <th>pct_sf_housing_stock_portfolio_2_to_9</th>\n",
       "      <th>pct_sf_housing_stock_portfolio_10_to_99</th>\n",
       "      <th>pct_sf_housing_stock_portfolio_100_to_999</th>\n",
       "      <th>pct_sf_housing_stock_portfolio_1000_plus</th>\n",
       "      <th>pct_sf_housing_stock_all_portfolios</th>\n",
       "      <th>parcl_id</th>\n",
       "    </tr>\n",
       "  </thead>\n",
       "  <tbody>\n",
       "    <tr>\n",
       "      <th>0</th>\n",
       "      <td>2024-04-01</td>\n",
       "      <td>136492</td>\n",
       "      <td>7955</td>\n",
       "      <td>828</td>\n",
       "      <td>4073</td>\n",
       "      <td>149348</td>\n",
       "      <td>9.51</td>\n",
       "      <td>0.55</td>\n",
       "      <td>0.06</td>\n",
       "      <td>0.28</td>\n",
       "      <td>10.41</td>\n",
       "      <td>5821714</td>\n",
       "    </tr>\n",
       "    <tr>\n",
       "      <th>1</th>\n",
       "      <td>2024-04-01</td>\n",
       "      <td>33892</td>\n",
       "      <td>5499</td>\n",
       "      <td>1411</td>\n",
       "      <td>5100</td>\n",
       "      <td>45902</td>\n",
       "      <td>4.16</td>\n",
       "      <td>0.67</td>\n",
       "      <td>0.17</td>\n",
       "      <td>0.63</td>\n",
       "      <td>5.63</td>\n",
       "      <td>5822729</td>\n",
       "    </tr>\n",
       "    <tr>\n",
       "      <th>2</th>\n",
       "      <td>2024-04-01</td>\n",
       "      <td>91817</td>\n",
       "      <td>12556</td>\n",
       "      <td>1490</td>\n",
       "      <td>15509</td>\n",
       "      <td>121372</td>\n",
       "      <td>8.60</td>\n",
       "      <td>1.18</td>\n",
       "      <td>0.14</td>\n",
       "      <td>1.45</td>\n",
       "      <td>11.37</td>\n",
       "      <td>5821868</td>\n",
       "    </tr>\n",
       "    <tr>\n",
       "      <th>3</th>\n",
       "      <td>2024-04-01</td>\n",
       "      <td>117191</td>\n",
       "      <td>12116</td>\n",
       "      <td>1937</td>\n",
       "      <td>28714</td>\n",
       "      <td>159958</td>\n",
       "      <td>10.23</td>\n",
       "      <td>1.06</td>\n",
       "      <td>0.17</td>\n",
       "      <td>2.51</td>\n",
       "      <td>13.97</td>\n",
       "      <td>5823191</td>\n",
       "    </tr>\n",
       "    <tr>\n",
       "      <th>4</th>\n",
       "      <td>2024-04-01</td>\n",
       "      <td>56000</td>\n",
       "      <td>2210</td>\n",
       "      <td>39</td>\n",
       "      <td>352</td>\n",
       "      <td>58601</td>\n",
       "      <td>9.76</td>\n",
       "      <td>0.39</td>\n",
       "      <td>0.01</td>\n",
       "      <td>0.06</td>\n",
       "      <td>10.21</td>\n",
       "      <td>5822624</td>\n",
       "    </tr>\n",
       "  </tbody>\n",
       "</table>\n",
       "</div>"
      ],
      "text/plain": [
       "         date count_portfolio_2_to_9 count_portfolio_10_to_99  \\\n",
       "0  2024-04-01                 136492                     7955   \n",
       "1  2024-04-01                  33892                     5499   \n",
       "2  2024-04-01                  91817                    12556   \n",
       "3  2024-04-01                 117191                    12116   \n",
       "4  2024-04-01                  56000                     2210   \n",
       "\n",
       "  count_portfolio_100_to_999 count_portfolio_1000_plus  count_all_portfolios  \\\n",
       "0                        828                      4073                149348   \n",
       "1                       1411                      5100                 45902   \n",
       "2                       1490                     15509                121372   \n",
       "3                       1937                     28714                159958   \n",
       "4                         39                       352                 58601   \n",
       "\n",
       "   pct_sf_housing_stock_portfolio_2_to_9  \\\n",
       "0                                   9.51   \n",
       "1                                   4.16   \n",
       "2                                   8.60   \n",
       "3                                  10.23   \n",
       "4                                   9.76   \n",
       "\n",
       "   pct_sf_housing_stock_portfolio_10_to_99  \\\n",
       "0                                     0.55   \n",
       "1                                     0.67   \n",
       "2                                     1.18   \n",
       "3                                     1.06   \n",
       "4                                     0.39   \n",
       "\n",
       "   pct_sf_housing_stock_portfolio_100_to_999  \\\n",
       "0                                       0.06   \n",
       "1                                       0.17   \n",
       "2                                       0.14   \n",
       "3                                       0.17   \n",
       "4                                       0.01   \n",
       "\n",
       "   pct_sf_housing_stock_portfolio_1000_plus  \\\n",
       "0                                      0.28   \n",
       "1                                      0.63   \n",
       "2                                      1.45   \n",
       "3                                      2.51   \n",
       "4                                      0.06   \n",
       "\n",
       "   pct_sf_housing_stock_all_portfolios  parcl_id  \n",
       "0                                10.41   5821714  \n",
       "1                                 5.63   5822729  \n",
       "2                                11.37   5821868  \n",
       "3                                13.97   5823191  \n",
       "4                                10.21   5822624  "
      ]
     },
     "execution_count": 7,
     "metadata": {},
     "output_type": "execute_result"
    }
   ],
   "source": [
    "df.head()"
   ]
  },
  {
   "cell_type": "code",
   "execution_count": 11,
   "id": "c2733fa3-55ef-46c7-aba9-70fdd0e53874",
   "metadata": {},
   "outputs": [],
   "source": [
    "tmp = df.loc[(df['date']=='2024-04-01')]\n",
    "out = pd.merge(tmp[['parcl_id', 'count_portfolio_1000_plus', 'pct_sf_housing_stock_portfolio_1000_plus']], counties_df[['parcl_id', 'geoid', 'name', 'state_abbreviation', 'total_population', 'median_income']], on='parcl_id', how='right')\n",
    "out['pct_sf_housing_stock_portfolio_1000_plus'] = out['pct_sf_housing_stock_portfolio_1000_plus']/100"
   ]
  },
  {
   "cell_type": "code",
   "execution_count": 12,
   "id": "7a7b23fa-d619-49c0-b39f-2e111497bd69",
   "metadata": {},
   "outputs": [
    {
     "name": "stderr",
     "output_type": "stream",
     "text": [
      "/var/folders/5f/q4j8ct3j05q0crlw433m3n540000gn/T/ipykernel_7713/3033459878.py:2: FutureWarning: Downcasting object dtype arrays on .fillna, .ffill, .bfill is deprecated and will change in a future version. Call result.infer_objects(copy=False) instead. To opt-in to the future behavior, set `pd.set_option('future.no_silent_downcasting', True)`\n",
      "  out = out.fillna(0)\n"
     ]
    }
   ],
   "source": [
    "out = out.rename(columns={'geoid': 'id'})\n",
    "out = out.fillna(0)\n",
    "out.to_csv('/Users/jasonlewris/repos/viz/maps/institutional_ownership/large_ownership.csv', index=False)"
   ]
  },
  {
   "cell_type": "code",
   "execution_count": 10,
   "id": "2521ef64-b175-414c-bb4b-f1352d864c15",
   "metadata": {},
   "outputs": [
    {
     "data": {
      "text/html": [
       "<div>\n",
       "<style scoped>\n",
       "    .dataframe tbody tr th:only-of-type {\n",
       "        vertical-align: middle;\n",
       "    }\n",
       "\n",
       "    .dataframe tbody tr th {\n",
       "        vertical-align: top;\n",
       "    }\n",
       "\n",
       "    .dataframe thead th {\n",
       "        text-align: right;\n",
       "    }\n",
       "</style>\n",
       "<table border=\"1\" class=\"dataframe\">\n",
       "  <thead>\n",
       "    <tr style=\"text-align: right;\">\n",
       "      <th></th>\n",
       "      <th>parcl_id</th>\n",
       "      <th>count_portfolio_1000_plus</th>\n",
       "      <th>pct_sf_housing_stock_portfolio_1000_plus</th>\n",
       "      <th>id</th>\n",
       "      <th>name</th>\n",
       "      <th>state_abbreviation</th>\n",
       "      <th>total_population</th>\n",
       "      <th>median_income</th>\n",
       "    </tr>\n",
       "  </thead>\n",
       "  <tbody>\n",
       "    <tr>\n",
       "      <th>0</th>\n",
       "      <td>5821714</td>\n",
       "      <td>0</td>\n",
       "      <td>0.0</td>\n",
       "      <td>06037</td>\n",
       "      <td>Los Angeles County</td>\n",
       "      <td>CA</td>\n",
       "      <td>9936690</td>\n",
       "      <td>83411.0</td>\n",
       "    </tr>\n",
       "  </tbody>\n",
       "</table>\n",
       "</div>"
      ],
      "text/plain": [
       "   parcl_id  count_portfolio_1000_plus  \\\n",
       "0   5821714                          0   \n",
       "\n",
       "   pct_sf_housing_stock_portfolio_1000_plus     id                name  \\\n",
       "0                                       0.0  06037  Los Angeles County   \n",
       "\n",
       "  state_abbreviation  total_population  median_income  \n",
       "0                 CA           9936690        83411.0  "
      ]
     },
     "execution_count": 10,
     "metadata": {},
     "output_type": "execute_result"
    }
   ],
   "source": [
    "out.head(1)"
   ]
  },
  {
   "cell_type": "code",
   "execution_count": null,
   "id": "68436de2-16e7-4da9-938e-d4d84f8e5f5d",
   "metadata": {},
   "outputs": [],
   "source": [
    "# lets create the map\n",
    "with urlopen('https://raw.githubusercontent.com/plotly/datasets/master/geojson-counties-fips.json') as response:\n",
    "    counties = json.load(response)"
   ]
  },
  {
   "cell_type": "code",
   "execution_count": null,
   "id": "3d736237-d40c-4af3-b0f2-427ed55639d0",
   "metadata": {},
   "outputs": [],
   "source": [
    "# rename geoid to fips\n",
    "out = out.rename(columns={'id': 'fips'})\n",
    "out.head()"
   ]
  },
  {
   "cell_type": "code",
   "execution_count": null,
   "id": "d9647476-1772-49e0-acca-82b01168e787",
   "metadata": {},
   "outputs": [],
   "source": [
    "all_fips_ids = [i['id'] for i in counties['features']]\n",
    "len(all_fips_ids)"
   ]
  },
  {
   "cell_type": "code",
   "execution_count": null,
   "id": "8e05afa3-7f01-4c6d-b111-7efde0324428",
   "metadata": {},
   "outputs": [],
   "source": [
    "# fill holes with no data\n",
    "map_ids = out['fips'].unique().tolist()\n",
    "missing = [i for i in all_fips_ids if i not in map_ids]\n",
    "missing_df = pd.DataFrame({'fips': missing})\n",
    "missing_df['counts'] = 0\n",
    "missing_df['pct_sf_for_sale_market'] = 0\n",
    "\n",
    "\n",
    "out = pd.concat([out, missing_df])\n",
    "out"
   ]
  },
  {
   "cell_type": "code",
   "execution_count": null,
   "id": "0be8ae2a-261f-4a4e-b2af-20937f2014ed",
   "metadata": {},
   "outputs": [],
   "source": [
    "labs_logo_lookup = {\n",
    "    'blue': 'https://parcllabs-assets.s3.amazonaws.com/powered-by-parcllabs-api.png',\n",
    "    'white': 'https://parcllabs-assets.s3.amazonaws.com/powered-by-parcllabs-api-logo-white+(1).svg'\n",
    "}\n",
    "\n",
    "# set charting constants\n",
    "labs_logo_dict = dict(\n",
    "        source=labs_logo_lookup['white'],\n",
    "        xref=\"paper\",\n",
    "        yref=\"paper\",\n",
    "        x=0.5,  # Centering the logo below the title\n",
    "        y=1.05,  # Adjust this value to position the logo just below the title\n",
    "        sizex=0.15, \n",
    "        sizey=0.15,\n",
    "        xanchor=\"center\",\n",
    "        yanchor=\"bottom\"\n",
    ")\n",
    "\n",
    "media_img_size_lookup = {\n",
    "    'X': {\n",
    "        'width': 1600,\n",
    "        'height': 900\n",
    "    }\n",
    "}\n",
    "\n",
    "PLATFORM = 'X'\n",
    "\n",
    "# set image sizes\n",
    "IMG_WIDTH = media_img_size_lookup[PLATFORM]['width']\n",
    "IMG_HEIGHT = media_img_size_lookup[PLATFORM]['height']\n",
    "\n",
    "# plotting title settings\n",
    "PLOT_TITLE_SETTINGS = {\n",
    "        'y':0,\n",
    "        'x':0,\n",
    "        'xanchor': 'left',\n",
    "        'yanchor': 'bottom'\n",
    "    }"
   ]
  },
  {
   "cell_type": "code",
   "execution_count": null,
   "id": "1288bf92-6ae8-49fc-9f3a-5709f5743a43",
   "metadata": {},
   "outputs": [],
   "source": [
    "# df['pct_sf_housing_stock_portfolio_1000_plus'] = df['pct_sf_housing_stock_portfolio_1000_plus']+100"
   ]
  },
  {
   "cell_type": "code",
   "execution_count": null,
   "id": "5ef44bfc-6ee4-4553-804f-c0b2ebc3d120",
   "metadata": {},
   "outputs": [],
   "source": [
    "# df.head()\n",
    "# out['pct_sf_for_sale_market'] = out['pct_sf_for_sale_market']*100"
   ]
  },
  {
   "cell_type": "code",
   "execution_count": null,
   "id": "04ff8758-9108-432f-9a51-075ead47c6f5",
   "metadata": {},
   "outputs": [],
   "source": [
    "import plotly.express as px\n",
    "import pandas as pd\n",
    "import os\n",
    "\n",
    "# Assuming 'df', 'out', 'counties', and 'labs_logo_lookup' are properly configured\n",
    "\n",
    "# Define the color scale\n",
    "color_continuous_scale=[\n",
    "    (0, \"#FFFFFF\"),\n",
    "    (0.5, \"#B0CFFF\"),  \n",
    "    (1, \"#04428C\") \n",
    "]\n",
    "\n",
    "# Set your Mapbox access token\n",
    "mapbox_access_token = os.getenv('MBOX_ACCESS_TOKEN')\n",
    "\n",
    "px.set_mapbox_access_token(mapbox_access_token)\n",
    "\n",
    "# Create the choropleth map\n",
    "fig = px.choropleth_mapbox(out,\n",
    "                           geojson=counties, \n",
    "                           locations='fips', \n",
    "                           color='pct_sf_for_sale_market',\n",
    "                           color_continuous_scale=color_continuous_scale,\n",
    "                           range_color=(5, 20),\n",
    "                           mapbox_style=\"mapbox://styles/mapbox/dark-v9\",\n",
    "                           zoom=6,\n",
    "                           center={\"lat\": 32.3846, \"lon\": -83.2554},\n",
    "                           opacity=0.9,  # Set opacity for the map\n",
    "                           labels={'pct_sf_for_sale_market':\"% of SFH's Listed\"}\n",
    "                          )\n",
    "\n",
    "# Adjust color bar and title text color\n",
    "fig.update_coloraxes(colorbar=dict(\n",
    "    title=\"% of New SFH's Listed\",\n",
    "    tickfont=dict(color='white', size=12),\n",
    "    title_font=dict(color='white', size=14),  # Title font size set to 14\n",
    "    y=-0.01, # Color bar y position (below the map)\n",
    "    len=0.35, # Length of the color bar (35% of the horizontal dimension)\n",
    "    orientation='h',  # Horizontal color bar\n",
    "    thickness=15,  # Thickness of the color bar\n",
    "    xanchor='center',  # Center the color bar horizontally\n",
    "))\n",
    "\n",
    "fig.add_layout_image(dict(\n",
    "     source=labs_logo_lookup['white'],\n",
    "     xref=\"paper\",\n",
    "     yref=\"paper\",\n",
    "     x=0.5,\n",
    "     y=1.05,\n",
    "     sizex=0.15, \n",
    "     sizey=0.15,\n",
    "     xanchor=\"center\",\n",
    "     yanchor=\"top\"\n",
    "))\n",
    "\n",
    "# Update the layout for background color, margins, and figure dimensions\n",
    "fig.update_layout(\n",
    "    title=\"🏠 % of all New SFH's Listed coming from Mom and Pops\",\n",
    "    title_x=0.5,  # Center the title\n",
    "    title_font=dict(color='white', size=20),  # Title font size set to 20\n",
    "    paper_bgcolor='#080D16',  # Background color of the paper\n",
    "    geo_bgcolor='#080D16',  # Background color of the map\n",
    "    margin={\"r\":0, \"t\":100, \"l\":0, \"b\":0},  # Adjust top margin to give space for the title\n",
    "    width=1600,\n",
    "    height=900,\n",
    "    mapbox=dict(\n",
    "        layers=[\n",
    "            {\n",
    "                'source': counties,\n",
    "                'type': 'fill',\n",
    "                'below': 'traces',\n",
    "                'opacity': 1,\n",
    "                'color': 'rgba(255,255,255,0.5)',  # Adjust the fill color and opacity\n",
    "            }\n",
    "        ],\n",
    "        style='mapbox://styles/mapbox/dark-v9',\n",
    "        center={\"lat\": 32.3846, \"lon\": -83.2554},\n",
    "        zoom=6,\n",
    "    ),\n",
    "    showlegend=False,  # Hide the legend\n",
    "    annotations=[],  # Remove any annotations\n",
    ")\n",
    "\n",
    "# Display the map\n",
    "fig.show()\n"
   ]
  },
  {
   "cell_type": "code",
   "execution_count": null,
   "id": "610653f3-b325-4c0b-babb-f1aee1d5512a",
   "metadata": {},
   "outputs": [],
   "source": [
    "out['pct_sf_for_sale_market'].mean()"
   ]
  },
  {
   "cell_type": "code",
   "execution_count": null,
   "id": "15ddb1f9-950c-4f9b-a62a-98753b44e6a8",
   "metadata": {},
   "outputs": [],
   "source": [
    "out.sort_values(['total_population', 'pct_sf_for_sale_market'], ascending=False)"
   ]
  },
  {
   "cell_type": "code",
   "execution_count": null,
   "id": "8e4c3bbd-47f7-4a0c-93c7-e63baa1569a0",
   "metadata": {},
   "outputs": [],
   "source": [
    "top = out.loc[(out['total_population'] > 10000) & (out['counts']>10)].sort_values('pct_sf_for_sale_market', ascending=False).head(50).reset_index()\n",
    "for index, row in top.iterrows():\n",
    "    rank = index + 1\n",
    "    name = row['name']\n",
    "    state = row['state_abbreviation']\n",
    "    pct = row['pct_sf_for_sale_market']\n",
    "    msg = f\"{rank}. {name}, {state}: {pct:.02%}\"\n",
    "    print(msg)"
   ]
  },
  {
   "cell_type": "code",
   "execution_count": null,
   "id": "95f773cd-054d-4bdb-a5d6-5ad2bba6e6af",
   "metadata": {},
   "outputs": [],
   "source": [
    "out['median_income'].describe()"
   ]
  },
  {
   "cell_type": "code",
   "execution_count": null,
   "id": "acd08ebd-6bd5-4ace-95e6-f4e73e33b65e",
   "metadata": {},
   "outputs": [],
   "source": [
    "def income_buckets(inc):\n",
    "    if inc <= 50000:\n",
    "        return '< $50,000'\n",
    "    if inc > 50000 and inc <= 60000:\n",
    "        return '$50k to $60k'\n",
    "    if inc > 60000 and inc <= 70000:\n",
    "        return '$60k to $70k'\n",
    "    else:\n",
    "        return '> $70k'\n",
    "\n",
    "out['inc_buckets'] = out['median_income'].apply(lambda x: income_buckets(x))"
   ]
  },
  {
   "cell_type": "code",
   "execution_count": null,
   "id": "ba4b42d3-47a3-4007-9cab-df1a4f029e4a",
   "metadata": {},
   "outputs": [],
   "source": [
    "out.groupby('inc_buckets')['pct_sf_for_sale_market'].mean()"
   ]
  },
  {
   "cell_type": "code",
   "execution_count": null,
   "id": "0dd93f4d-dafe-408e-86a5-a47c0be3da23",
   "metadata": {},
   "outputs": [],
   "source": [
    "out.groupby('inc_buckets')['parcl_id'].nunique()"
   ]
  },
  {
   "cell_type": "code",
   "execution_count": null,
   "id": "29b8c1b2-8835-41de-bda0-a61b328fd0e1",
   "metadata": {},
   "outputs": [],
   "source": []
  }
 ],
 "metadata": {
  "kernelspec": {
   "display_name": "parcllabs-env",
   "language": "python",
   "name": "python3"
  },
  "language_info": {
   "codemirror_mode": {
    "name": "ipython",
    "version": 3
   },
   "file_extension": ".py",
   "mimetype": "text/x-python",
   "name": "python",
   "nbconvert_exporter": "python",
   "pygments_lexer": "ipython3",
   "version": "3.11.9"
  }
 },
 "nbformat": 4,
 "nbformat_minor": 5
}
