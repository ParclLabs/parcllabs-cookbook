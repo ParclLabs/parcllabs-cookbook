{
 "cells": [
  {
   "cell_type": "markdown",
   "id": "88835f52-f2a2-449c-b63a-05d5fb819801",
   "metadata": {},
   "source": [
    "# Welcome to the Lab 🥼🧪\n",
    "\n",
    "## Introduction\n",
    "\n",
    "In this notebook, we will go over how to do a simple housing stock analysis. We will be explicitly addressing the following questions:\n",
    "- Which markets have the highest/lowest percentage of single family homes?\n",
    "- Which markets have seen the greatest increase/decrease in the percentage of single family home development out of all construction in the last 5 years?\n",
    "\n",
    "**Note** This notebook will work with any of the 70k+ markets supported by the Parcl Labs API.\n",
    "\n",
    "As a reminder, you can get your Parcl Labs API key [here](https://dashboard.parcllabs.com/signup) to follow along. \n",
    "\n",
    "To run this immediately, you can use Google Colab. Remember, you must set your `PARCL_LABS_API_KEY` as a secret. See this [guide](https://medium.com/@parthdasawant/how-to-use-secrets-in-google-colab-450c38e3ec75) for more information.\n",
    "\n",
    "[![Open in Colab](https://colab.research.google.com/assets/colab-badge.svg)](https://colab.research.google.com/github/ParclLabs/parcllabs-examples/blob/main/python/introduction.ipynb)"
   ]
  },
  {
   "cell_type": "code",
   "execution_count": null,
   "id": "59da8027-a4f0-4073-8d03-8fcaf370f456",
   "metadata": {},
   "outputs": [],
   "source": [
    "# Environment setup\n",
    "import os\n",
    "import sys\n",
    "import subprocess\n",
    "from datetime import datetime\n",
    "\n",
    "# Collab setup from one click above\n",
    "if \"google.colab\" in sys.modules:\n",
    "    from google.colab import userdata\n",
    "    %pip install parcllabs plotly kaleido\n",
    "    api_key = userdata.get('PARCL_LABS_API_KEY')\n",
    "else:\n",
    "    api_key = os.getenv('PARCL_LABS_API_KEY')"
   ]
  },
  {
   "cell_type": "code",
   "execution_count": null,
   "id": "377876bd-feac-4f05-9529-15962b876020",
   "metadata": {},
   "outputs": [
    {
     "name": "stdout",
     "output_type": "stream",
     "text": [
      "Parcl Labs Version: 0.1.16\n"
     ]
    }
   ],
   "source": [
    "import parcllabs\n",
    "import pandas as pd\n",
    "import plotly.express as px\n",
    "from parcllabs import ParclLabsClient\n",
    "\n",
    "print(f\"Parcl Labs Version: {parcllabs.__version__}\")"
   ]
  },
  {
   "cell_type": "code",
   "execution_count": null,
   "id": "ded85fed-8be6-4e0c-aac3-37800e688753",
   "metadata": {},
   "outputs": [],
   "source": [
    "# Set up client\n",
    "client = ParclLabsClient(api_key=api_key)"
   ]
  },
  {
   "cell_type": "code",
   "execution_count": null,
   "id": "41863f96-92b1-4a34-8ddf-0212b0f22bfd",
   "metadata": {},
   "outputs": [
    {
     "data": {
      "text/html": [
       "<div>\n",
       "<style scoped>\n",
       "    .dataframe tbody tr th:only-of-type {\n",
       "        vertical-align: middle;\n",
       "    }\n",
       "\n",
       "    .dataframe tbody tr th {\n",
       "        vertical-align: top;\n",
       "    }\n",
       "\n",
       "    .dataframe thead th {\n",
       "        text-align: right;\n",
       "    }\n",
       "</style>\n",
       "<table border=\"1\" class=\"dataframe\">\n",
       "  <thead>\n",
       "    <tr style=\"text-align: right;\">\n",
       "      <th></th>\n",
       "      <th>parcl_id</th>\n",
       "      <th>country</th>\n",
       "      <th>geoid</th>\n",
       "      <th>state_fips_code</th>\n",
       "      <th>name</th>\n",
       "      <th>state_abbreviation</th>\n",
       "      <th>region</th>\n",
       "      <th>location_type</th>\n",
       "      <th>total_population</th>\n",
       "      <th>median_income</th>\n",
       "      <th>parcl_exchange_market</th>\n",
       "      <th>pricefeed_market</th>\n",
       "      <th>case_shiller_10_market</th>\n",
       "      <th>case_shiller_20_market</th>\n",
       "    </tr>\n",
       "  </thead>\n",
       "  <tbody>\n",
       "    <tr>\n",
       "      <th>0</th>\n",
       "      <td>2900187</td>\n",
       "      <td>USA</td>\n",
       "      <td>35620</td>\n",
       "      <td>None</td>\n",
       "      <td>New York-Newark-Jersey City, Ny-Nj-Pa</td>\n",
       "      <td>None</td>\n",
       "      <td>None</td>\n",
       "      <td>CBSA</td>\n",
       "      <td>19908595</td>\n",
       "      <td>93610</td>\n",
       "      <td>0</td>\n",
       "      <td>1</td>\n",
       "      <td>1</td>\n",
       "      <td>1</td>\n",
       "    </tr>\n",
       "    <tr>\n",
       "      <th>1</th>\n",
       "      <td>2900078</td>\n",
       "      <td>USA</td>\n",
       "      <td>31080</td>\n",
       "      <td>None</td>\n",
       "      <td>Los Angeles-Long Beach-Anaheim, Ca</td>\n",
       "      <td>None</td>\n",
       "      <td>None</td>\n",
       "      <td>CBSA</td>\n",
       "      <td>13111917</td>\n",
       "      <td>89105</td>\n",
       "      <td>0</td>\n",
       "      <td>1</td>\n",
       "      <td>1</td>\n",
       "      <td>1</td>\n",
       "    </tr>\n",
       "    <tr>\n",
       "      <th>2</th>\n",
       "      <td>2899845</td>\n",
       "      <td>USA</td>\n",
       "      <td>16980</td>\n",
       "      <td>None</td>\n",
       "      <td>Chicago-Naperville-Elgin, Il-In-Wi</td>\n",
       "      <td>None</td>\n",
       "      <td>None</td>\n",
       "      <td>CBSA</td>\n",
       "      <td>9566955</td>\n",
       "      <td>85087</td>\n",
       "      <td>0</td>\n",
       "      <td>1</td>\n",
       "      <td>1</td>\n",
       "      <td>1</td>\n",
       "    </tr>\n",
       "    <tr>\n",
       "      <th>3</th>\n",
       "      <td>2899734</td>\n",
       "      <td>USA</td>\n",
       "      <td>19100</td>\n",
       "      <td>None</td>\n",
       "      <td>Dallas-Fort Worth-Arlington, Tx</td>\n",
       "      <td>None</td>\n",
       "      <td>None</td>\n",
       "      <td>CBSA</td>\n",
       "      <td>7673379</td>\n",
       "      <td>83398</td>\n",
       "      <td>0</td>\n",
       "      <td>1</td>\n",
       "      <td>0</td>\n",
       "      <td>1</td>\n",
       "    </tr>\n",
       "    <tr>\n",
       "      <th>4</th>\n",
       "      <td>2899967</td>\n",
       "      <td>USA</td>\n",
       "      <td>26420</td>\n",
       "      <td>None</td>\n",
       "      <td>Houston-The Woodlands-Sugar Land, Tx</td>\n",
       "      <td>None</td>\n",
       "      <td>None</td>\n",
       "      <td>CBSA</td>\n",
       "      <td>7142603</td>\n",
       "      <td>78061</td>\n",
       "      <td>0</td>\n",
       "      <td>1</td>\n",
       "      <td>0</td>\n",
       "      <td>0</td>\n",
       "    </tr>\n",
       "  </tbody>\n",
       "</table>\n",
       "</div>"
      ],
      "text/plain": [
       "   parcl_id country  geoid state_fips_code  \\\n",
       "0   2900187     USA  35620            None   \n",
       "1   2900078     USA  31080            None   \n",
       "2   2899845     USA  16980            None   \n",
       "3   2899734     USA  19100            None   \n",
       "4   2899967     USA  26420            None   \n",
       "\n",
       "                                    name state_abbreviation region  \\\n",
       "0  New York-Newark-Jersey City, Ny-Nj-Pa               None   None   \n",
       "1     Los Angeles-Long Beach-Anaheim, Ca               None   None   \n",
       "2     Chicago-Naperville-Elgin, Il-In-Wi               None   None   \n",
       "3        Dallas-Fort Worth-Arlington, Tx               None   None   \n",
       "4   Houston-The Woodlands-Sugar Land, Tx               None   None   \n",
       "\n",
       "  location_type  total_population  median_income  parcl_exchange_market  \\\n",
       "0          CBSA          19908595          93610                      0   \n",
       "1          CBSA          13111917          89105                      0   \n",
       "2          CBSA           9566955          85087                      0   \n",
       "3          CBSA           7673379          83398                      0   \n",
       "4          CBSA           7142603          78061                      0   \n",
       "\n",
       "   pricefeed_market  case_shiller_10_market  case_shiller_20_market  \n",
       "0                 1                       1                       1  \n",
       "1                 1                       1                       1  \n",
       "2                 1                       1                       1  \n",
       "3                 1                       0                       1  \n",
       "4                 1                       0                       0  "
      ]
     },
     "execution_count": 7,
     "metadata": {},
     "output_type": "execute_result"
    }
   ],
   "source": [
    "# lets get the top 50 metros by popution size\n",
    "top_50_metros = client.search_markets.retrieve(\n",
    "    location_type='CBSA',\n",
    "    sort_by='TOTAL_POPULATION',\n",
    "    sort_order='DESC',\n",
    "    params={\n",
    "        'limit': 50\n",
    "    },\n",
    "    as_dataframe=True\n",
    ")\n",
    "\n",
    "top_50_metros.head()"
   ]
  },
  {
   "cell_type": "code",
   "execution_count": null,
   "id": "a079e7e2-60b0-49c6-a3b4-001e9f5a4ec8",
   "metadata": {},
   "outputs": [
    {
     "data": {
      "text/plain": [
       "2900187"
      ]
     },
     "execution_count": 9,
     "metadata": {},
     "output_type": "execute_result"
    }
   ],
   "source": [
    "# let's set aside the NY MSA parcl_id for analysis\n",
    "ny_msa_parcl_id = top_50_metros.iloc[0]['parcl_id']\n",
    "ny_msa_parcl_id"
   ]
  },
  {
   "cell_type": "code",
   "execution_count": null,
   "id": "2cc9c902-5637-44b3-8e48-6c7def962033",
   "metadata": {},
   "outputs": [],
   "source": [
    "# let's set aside all top markets as well\n",
    "top_market_ids = top_50_metros['parcl_id'].tolist()"
   ]
  },
  {
   "cell_type": "markdown",
   "id": "383b682a-86e7-4051-9d3f-a7d0a6781f18",
   "metadata": {},
   "source": [
    "#### Retrieve Housing Stock for a Single Market"
   ]
  },
  {
   "cell_type": "code",
   "execution_count": null,
   "id": "2ff9d80a-90da-4257-8a72-9cb00411e673",
   "metadata": {},
   "outputs": [
    {
     "data": {
      "text/html": [
       "<div>\n",
       "<style scoped>\n",
       "    .dataframe tbody tr th:only-of-type {\n",
       "        vertical-align: middle;\n",
       "    }\n",
       "\n",
       "    .dataframe tbody tr th {\n",
       "        vertical-align: top;\n",
       "    }\n",
       "\n",
       "    .dataframe thead th {\n",
       "        text-align: right;\n",
       "    }\n",
       "</style>\n",
       "<table border=\"1\" class=\"dataframe\">\n",
       "  <thead>\n",
       "    <tr style=\"text-align: right;\">\n",
       "      <th></th>\n",
       "      <th>date</th>\n",
       "      <th>single_family</th>\n",
       "      <th>condo</th>\n",
       "      <th>townhouse</th>\n",
       "      <th>other</th>\n",
       "      <th>all_properties</th>\n",
       "      <th>parcl_id</th>\n",
       "    </tr>\n",
       "  </thead>\n",
       "  <tbody>\n",
       "    <tr>\n",
       "      <th>0</th>\n",
       "      <td>2024-03-01</td>\n",
       "      <td>2802362</td>\n",
       "      <td>957017</td>\n",
       "      <td>76608</td>\n",
       "      <td>1583688</td>\n",
       "      <td>5419675</td>\n",
       "      <td>2900187</td>\n",
       "    </tr>\n",
       "  </tbody>\n",
       "</table>\n",
       "</div>"
      ],
      "text/plain": [
       "         date  single_family   condo  townhouse    other  all_properties  \\\n",
       "0  2024-03-01        2802362  957017      76608  1583688         5419675   \n",
       "\n",
       "   parcl_id  \n",
       "0   2900187  "
      ]
     },
     "execution_count": 11,
     "metadata": {},
     "output_type": "execute_result"
    }
   ],
   "source": [
    "# let's start with the basics, let's get the breakdown of housing stock in New York Metro. \n",
    "# Housing stock is the mix of condos, single family homes, townhomes in a market. This mix changes all the time. Urban\n",
    "# areas will get built out creating denser concentration of units. Covid caused a suburban shock, increasing the velocity of \n",
    "# suburban home developments. Assuming a fixed denominator in housing is a mistake. \n",
    "\n",
    "housing_stock_ny_msa = client.market_metrics_housing_stock.retrieve(\n",
    "    parcl_id=ny_msa_parcl_id,\n",
    "    params={\n",
    "        'limit': 1 # let's get the most recent stock\n",
    "    },\n",
    "    as_dataframe=True # make life easy on ourselves\n",
    ")\n",
    "\n",
    "housing_stock_ny_msa"
   ]
  },
  {
   "cell_type": "markdown",
   "id": "576838b5-ad53-4d09-b70a-7e1138b9b299",
   "metadata": {},
   "source": [
    "#### Retrieve Housing Stock for Many Markets"
   ]
  },
  {
   "cell_type": "code",
   "execution_count": null,
   "id": "3dcce47e-7d37-4915-8d5f-c21039c9d649",
   "metadata": {},
   "outputs": [
    {
     "name": "stdout",
     "output_type": "stream",
     "text": [
      "|████████████████████████████████████████| 927/927 [100%] in 2:27.1 (6.30/s) \n"
     ]
    },
    {
     "data": {
      "text/html": [
       "<div>\n",
       "<style scoped>\n",
       "    .dataframe tbody tr th:only-of-type {\n",
       "        vertical-align: middle;\n",
       "    }\n",
       "\n",
       "    .dataframe tbody tr th {\n",
       "        vertical-align: top;\n",
       "    }\n",
       "\n",
       "    .dataframe thead th {\n",
       "        text-align: right;\n",
       "    }\n",
       "</style>\n",
       "<table border=\"1\" class=\"dataframe\">\n",
       "  <thead>\n",
       "    <tr style=\"text-align: right;\">\n",
       "      <th></th>\n",
       "      <th>date</th>\n",
       "      <th>single_family</th>\n",
       "      <th>condo</th>\n",
       "      <th>townhouse</th>\n",
       "      <th>other</th>\n",
       "      <th>all_properties</th>\n",
       "      <th>parcl_id</th>\n",
       "    </tr>\n",
       "  </thead>\n",
       "  <tbody>\n",
       "    <tr>\n",
       "      <th>0</th>\n",
       "      <td>2024-03-01</td>\n",
       "      <td>2802362</td>\n",
       "      <td>957017</td>\n",
       "      <td>76608</td>\n",
       "      <td>1583688</td>\n",
       "      <td>5419675</td>\n",
       "      <td>2900187</td>\n",
       "    </tr>\n",
       "    <tr>\n",
       "      <th>1</th>\n",
       "      <td>2024-03-01</td>\n",
       "      <td>1997656</td>\n",
       "      <td>858838</td>\n",
       "      <td>19719</td>\n",
       "      <td>555526</td>\n",
       "      <td>3431739</td>\n",
       "      <td>2900078</td>\n",
       "    </tr>\n",
       "    <tr>\n",
       "      <th>2</th>\n",
       "      <td>2024-03-01</td>\n",
       "      <td>2017899</td>\n",
       "      <td>768604</td>\n",
       "      <td>123514</td>\n",
       "      <td>588914</td>\n",
       "      <td>3498931</td>\n",
       "      <td>2899845</td>\n",
       "    </tr>\n",
       "    <tr>\n",
       "      <th>3</th>\n",
       "      <td>2024-03-01</td>\n",
       "      <td>1921281</td>\n",
       "      <td>457709</td>\n",
       "      <td>41641</td>\n",
       "      <td>373657</td>\n",
       "      <td>2794288</td>\n",
       "      <td>2899734</td>\n",
       "    </tr>\n",
       "    <tr>\n",
       "      <th>4</th>\n",
       "      <td>2024-03-01</td>\n",
       "      <td>1765489</td>\n",
       "      <td>383733</td>\n",
       "      <td>33520</td>\n",
       "      <td>355410</td>\n",
       "      <td>2538152</td>\n",
       "      <td>2899967</td>\n",
       "    </tr>\n",
       "  </tbody>\n",
       "</table>\n",
       "</div>"
      ],
      "text/plain": [
       "         date  single_family   condo townhouse    other  all_properties  \\\n",
       "0  2024-03-01        2802362  957017     76608  1583688         5419675   \n",
       "1  2024-03-01        1997656  858838     19719   555526         3431739   \n",
       "2  2024-03-01        2017899  768604    123514   588914         3498931   \n",
       "3  2024-03-01        1921281  457709     41641   373657         2794288   \n",
       "4  2024-03-01        1765489  383733     33520   355410         2538152   \n",
       "\n",
       "   parcl_id  \n",
       "0   2900187  \n",
       "1   2900078  \n",
       "2   2899845  \n",
       "3   2899734  \n",
       "4   2899967  "
      ]
     },
     "execution_count": 12,
     "metadata": {},
     "output_type": "execute_result"
    }
   ],
   "source": [
    "# as of March, 2024, there are 5.4 million units within NY Metro, 2.8 million of which are single family homes, \n",
    "# and a million are condos. \n",
    "\n",
    "# let's see how this mix compares to other metros on a proportional basis. \n",
    "housing_stock = client.market_metrics_housing_stock.retrieve_many(\n",
    "    parcl_ids=top_market_ids,\n",
    "    params={\n",
    "        'limit': 1 # let's get most recent again\n",
    "    },\n",
    "    as_dataframe=True\n",
    ")\n",
    "\n",
    "housing_stock.head()"
   ]
  },
  {
   "cell_type": "code",
   "execution_count": null,
   "id": "2a876735-10ca-4a94-8b1f-5484100340df",
   "metadata": {},
   "outputs": [],
   "source": [
    "# add names back\n",
    "housing_stock = pd.merge(housing_stock, top_50_metros, on='parcl_id')\n",
    "housing_stock.head()"
   ]
  },
  {
   "cell_type": "code",
   "execution_count": null,
   "id": "0caa36b2-f222-4d6f-8dc3-bc457e99ab43",
   "metadata": {},
   "outputs": [],
   "source": [
    "# let's focus on mix of single family homes, condos, and townhouses\n",
    "housing_stock['pct_single_family'] = housing_stock['single_family']/housing_stock['all_properties']\n",
    "housing_stock['pct_condo'] = housing_stock['condo']/housing_stock['all_properties']\n",
    "housing_stock['pct_townhouse'] = housing_stock['townhouse']/housing_stock['all_properties']"
   ]
  },
  {
   "cell_type": "code",
   "execution_count": null,
   "id": "ad95628a-3cfc-4f7c-bfbb-0deb7add279c",
   "metadata": {},
   "outputs": [],
   "source": [
    "# which market has the highest percentage of single family homes?\n",
    "housing_stock.sort_values('pct_single_family', ascending=False).head(5)\n",
    "# Oklahoma, Sacramento, Freso, Richmond, and Indianopolis all have over 75% of the mix allocated towards\n",
    "# single family homes"
   ]
  },
  {
   "cell_type": "code",
   "execution_count": null,
   "id": "d1683383-c27b-4a1a-b42f-d5cf64ca35e2",
   "metadata": {},
   "outputs": [],
   "source": [
    "# which markets have the smallest percentage of single family homes? \n",
    "housing_stock.sort_values('pct_single_family').head(5)\n",
    "# Miami, Boston, Washington DC, Baltimore, and New York all approximately under 50% single family homes. \n",
    "\n",
    "# why is this important? Indices like the Case Shiller Index only track single family homes. They are leaving out a lot of the activity"
   ]
  },
  {
   "cell_type": "markdown",
   "id": "bc742415-519f-40ae-bdc9-46a4539cecc1",
   "metadata": {},
   "source": [
    "#### Retrieve Housing Stock for Many Markets Over Time"
   ]
  },
  {
   "cell_type": "code",
   "execution_count": null,
   "id": "d73bb2e3-8ac4-45d1-8c5d-0146c1b4adf5",
   "metadata": {},
   "outputs": [],
   "source": [
    "# now lets see how this has changed over the last 5 years, by market.\n",
    "# lets find the market that has the greatest share increase in Single Family Homes over the last \n",
    "# 5 years and the greatest decline in the proportion of single family homes\n",
    "\n",
    "start_date = '2019-01-01'\n",
    "end_date = '2024-04-01'\n",
    "housing_stock_hist = client.market_metrics_housing_stock.retrieve_many(\n",
    "    parcl_ids=top_market_ids,\n",
    "    start_date=start_date,\n",
    "    end_date=end_date,\n",
    "    params={\n",
    "        'limit': 200 # let's expand the limit to collect all observations in one call\n",
    "    },\n",
    "    as_dataframe=True\n",
    ")\n",
    "\n",
    "housing_stock_hist.head()\n",
    "# add names\n",
    "housing_stock_hist = pd.merge(housing_stock_hist, top_50_metros, on='parcl_id')"
   ]
  },
  {
   "cell_type": "code",
   "execution_count": null,
   "id": "2e8c749f-b99f-4b5e-9aac-1f2805220510",
   "metadata": {},
   "outputs": [],
   "source": [
    "# recalc percentages\n",
    "housing_stock_hist['pct_single_family'] = housing_stock_hist['single_family']/housing_stock_hist['all_properties']\n",
    "housing_stock_hist['pct_condo'] = housing_stock_hist['condo']/housing_stock_hist['all_properties']\n",
    "housing_stock_hist['pct_townhouse'] = housing_stock_hist['townhouse']/housing_stock_hist['all_properties']"
   ]
  },
  {
   "cell_type": "code",
   "execution_count": null,
   "id": "d75888c7-397e-4e58-8e0f-7eb80861ad69",
   "metadata": {},
   "outputs": [],
   "source": [
    "# get the first value at 2019-01-01\n",
    "hs_first = housing_stock_hist.loc[housing_stock_hist['date'] == start_date][['parcl_id', 'pct_single_family', 'pct_condo', 'pct_townhouse']]\n",
    "hs_first = hs_first.rename(\n",
    "    columns={\n",
    "    'pct_single_family': 'pct_single_family_start',\n",
    "    'pct_condo': 'pct_condo_start',\n",
    "    'pct_townhouse': 'pct_townhouse_start'\n",
    "    }\n",
    ")"
   ]
  },
  {
   "cell_type": "code",
   "execution_count": null,
   "id": "2af1b3b9-b0e6-4cb0-80c9-0ab25c07d8cf",
   "metadata": {},
   "outputs": [],
   "source": [
    "# join with full history\n",
    "housing_stock_hist_v2 = pd.merge(housing_stock_hist, hs_first, on='parcl_id')\n",
    "housing_stock_hist_v2.head()"
   ]
  },
  {
   "cell_type": "code",
   "execution_count": null,
   "id": "5fc44d5f-72f4-41e4-8eec-89cb4ca58aee",
   "metadata": {},
   "outputs": [],
   "source": [
    "# going back to our original question, which has had the highest increase in single family home percentage\n",
    "housing_stock_hist_v2['pct_single_family_delta'] = housing_stock_hist_v2['pct_single_family']-housing_stock_hist_v2['pct_single_family_start']\n",
    "\n",
    "housing_stock_hist_v2.loc[housing_stock_hist_v2['date'] == '2024-03-01'].sort_values('pct_single_family_delta', ascending=False)[['name', 'pct_single_family_delta']].head(5)"
   ]
  },
  {
   "cell_type": "code",
   "execution_count": null,
   "id": "cb99c1a4-e263-4943-a0c6-b26ff6368ece",
   "metadata": {},
   "outputs": [],
   "source": [
    "# Dallas, Austin, Jacksonville, Las Vegas, and Orlando have added over 50 basis points of the proportion of single family homes.\n",
    "# of all development in these markets, single family homes have increased their share by 50 basis points. \n",
    "# consumers of these markets, or at least their is a thesis, that consumers in these markets particularly enjoy single family\n",
    "# homes over other types of housing stock"
   ]
  },
  {
   "cell_type": "code",
   "execution_count": null,
   "id": "af01f4bf-476a-4023-88d7-8666efe5f603",
   "metadata": {},
   "outputs": [],
   "source": [
    "# what about the inverse? \n",
    "housing_stock_hist_v2.loc[housing_stock_hist_v2['date'] == '2024-03-01'].sort_values('pct_single_family_delta', ascending=True)[['name', 'pct_single_family_delta']].head(5)"
   ]
  },
  {
   "cell_type": "code",
   "execution_count": null,
   "id": "219932f3-cf38-44ca-92a2-e969ae54f3b7",
   "metadata": {},
   "outputs": [],
   "source": [
    "# Charlotte, Seattle, Salt Lake City, Nashville, Boston have decreased their share of single family homes \n",
    "# over the last 5 years relative to all new construction being built in these markets"
   ]
  }
 ],
 "metadata": {
  "kernelspec": {
   "display_name": "Python (parcllabs-env)",
   "language": "python",
   "name": "parcllabs-env"
  },
  "language_info": {
   "codemirror_mode": {
    "name": "ipython",
    "version": 3
   },
   "file_extension": ".py",
   "mimetype": "text/x-python",
   "name": "python",
   "nbconvert_exporter": "python",
   "pygments_lexer": "ipython3",
   "version": "3.11.9"
  }
 },
 "nbformat": 4,
 "nbformat_minor": 5
}
