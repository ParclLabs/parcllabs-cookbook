{
 "cells": [
  {
   "cell_type": "markdown",
   "id": "8d9dee2b-9603-40d8-a448-f8605aacf623",
   "metadata": {},
   "source": [
    "# Welcome to the Lab 🥼🧪\n",
    "## Which metros have the highest net acquisitions from investors? \n",
    "\n",
    "In this notebook, we are going to create a table of the last 6 months of the investor purchase to sale ratio for the top 50 metros. This is a ratio showing investor acquisitions/dispositions.\n",
    "\n",
    "If investors bought and sold 10 homes in month, 10/10 = 1. No change in purchase to sale ratio. \n",
    "\n",
    "If investors bought 10 homes and sold 100 homes, 10/100 = .1. For every home bought, they are selling 10.\n",
    "\n",
    "Welcome to the Lab - LFG\n",
    "\n",
    "**Note** This notebook will work with any of the 70k+ markets supported by the Parcl Labs API.\n",
    "\n",
    "As a reminder, you can get your Parcl Labs API key [here](https://dashboard.parcllabs.com/signup) to follow along. \n",
    "\n",
    "To run this immediately, you can use Google Colab. Remember, you must set your `PARCL_LABS_API_KEY` as a secret. See this [guide](https://medium.com/@parthdasawant/how-to-use-secrets-in-google-colab-450c38e3ec75) for more information.\n",
    "\n",
    "[![Open in Colab](https://colab.research.google.com/assets/colab-badge.svg)](https://colab.research.google.com/github/ParclLabs/parcllabs-examples/blob/main/python/table_of_purchase_to_sale_ratio.ipynb)\n",
    "\n",
    "We will be creating this table: \n",
    "\n",
    "![Chart](assets/purchase_to_sale_ratio.png)"
   ]
  },
  {
   "cell_type": "code",
   "execution_count": 1,
   "id": "64636b5e-2f47-4e05-aab5-e551384bab13",
   "metadata": {},
   "outputs": [
    {
     "name": "stdout",
     "output_type": "stream",
     "text": [
      "Parcl Labs Version: 0.1.14\n"
     ]
    }
   ],
   "source": [
    "# Environment setup\n",
    "import os\n",
    "import sys\n",
    "import subprocess\n",
    "from datetime import datetime\n",
    "\n",
    "# Collab setup from one click above\n",
    "if \"google.colab\" in sys.modules:\n",
    "    from google.colab import userdata\n",
    "    %pip install parcllabs plotly kaleido\n",
    "    api_key = userdata.get('PARCL_LABS_API_KEY')\n",
    "else:\n",
    "    api_key = os.getenv('PARCL_LABS_API_KEY')"
   ]
  },
  {
   "cell_type": "code",
   "execution_count": null,
   "id": "51941a8b-527f-4612-8aec-29396f3ef068",
   "metadata": {},
   "outputs": [],
   "source": [
    "import parcllabs\n",
    "import pandas as pd\n",
    "import plotly.express as px\n",
    "from parcllabs import ParclLabsClient\n",
    "\n",
    "print(f\"Parcl Labs Version: {parcllabs.__version__}\")"
   ]
  },
  {
   "cell_type": "code",
   "execution_count": 2,
   "id": "cc46aa3c-457a-4211-9d6d-904dced07b6a",
   "metadata": {},
   "outputs": [],
   "source": [
    "client = ParclLabsClient(api_key=api_key)"
   ]
  },
  {
   "cell_type": "code",
   "execution_count": 3,
   "id": "b24a6f1b-ae9b-4e73-a339-e1a8e2e54a67",
   "metadata": {},
   "outputs": [],
   "source": [
    "# lets get all metros in the country\n",
    "metros = client.search_markets.retrieve(\n",
    "    location_type='CBSA',\n",
    "    as_dataframe=True,\n",
    "    params={\n",
    "        'limit': 1000\n",
    "    }\n",
    ")"
   ]
  },
  {
   "cell_type": "code",
   "execution_count": 4,
   "id": "d6cf9f25-af81-4b51-982c-200bc644588f",
   "metadata": {},
   "outputs": [],
   "source": [
    "# get the ids\n",
    "metro_ids = metros['parcl_id'].tolist()"
   ]
  },
  {
   "cell_type": "code",
   "execution_count": 5,
   "id": "c2733fa3-55ef-46c7-aba9-70fdd0e53874",
   "metadata": {},
   "outputs": [],
   "source": [
    "# get most recent housing stock for all metros\n",
    "housing_stock = client.market_metrics_housing_stock.retrieve_many(\n",
    "    parcl_ids=metro_ids,\n",
    "    params={\n",
    "        'limit': 1 # let's get the most recent stock\n",
    "    },\n",
    "    as_dataframe=True # make life easy on ourselves\n",
    ")"
   ]
  },
  {
   "cell_type": "code",
   "execution_count": 6,
   "id": "b1d76ce9-a149-4b7d-a8db-4a5f52ca3155",
   "metadata": {},
   "outputs": [
    {
     "data": {
      "text/html": [
       "<div>\n",
       "<style scoped>\n",
       "    .dataframe tbody tr th:only-of-type {\n",
       "        vertical-align: middle;\n",
       "    }\n",
       "\n",
       "    .dataframe tbody tr th {\n",
       "        vertical-align: top;\n",
       "    }\n",
       "\n",
       "    .dataframe thead th {\n",
       "        text-align: right;\n",
       "    }\n",
       "</style>\n",
       "<table border=\"1\" class=\"dataframe\">\n",
       "  <thead>\n",
       "    <tr style=\"text-align: right;\">\n",
       "      <th></th>\n",
       "      <th>date</th>\n",
       "      <th>single_family</th>\n",
       "      <th>condo</th>\n",
       "      <th>townhouse</th>\n",
       "      <th>other</th>\n",
       "      <th>all_properties</th>\n",
       "      <th>parcl_id</th>\n",
       "    </tr>\n",
       "  </thead>\n",
       "  <tbody>\n",
       "    <tr>\n",
       "      <th>0</th>\n",
       "      <td>2024-03-01</td>\n",
       "      <td>2802362</td>\n",
       "      <td>957017</td>\n",
       "      <td>76608</td>\n",
       "      <td>1583688</td>\n",
       "      <td>5419675</td>\n",
       "      <td>2900187</td>\n",
       "    </tr>\n",
       "    <tr>\n",
       "      <th>1</th>\n",
       "      <td>2024-03-01</td>\n",
       "      <td>1997656</td>\n",
       "      <td>858838</td>\n",
       "      <td>19719</td>\n",
       "      <td>555526</td>\n",
       "      <td>3431739</td>\n",
       "      <td>2900078</td>\n",
       "    </tr>\n",
       "    <tr>\n",
       "      <th>2</th>\n",
       "      <td>2024-03-01</td>\n",
       "      <td>2017899</td>\n",
       "      <td>768604</td>\n",
       "      <td>123514</td>\n",
       "      <td>588914</td>\n",
       "      <td>3498931</td>\n",
       "      <td>2899845</td>\n",
       "    </tr>\n",
       "    <tr>\n",
       "      <th>3</th>\n",
       "      <td>2024-03-01</td>\n",
       "      <td>1921281</td>\n",
       "      <td>457709</td>\n",
       "      <td>41641</td>\n",
       "      <td>373657</td>\n",
       "      <td>2794288</td>\n",
       "      <td>2899734</td>\n",
       "    </tr>\n",
       "    <tr>\n",
       "      <th>4</th>\n",
       "      <td>2024-03-01</td>\n",
       "      <td>1765489</td>\n",
       "      <td>383733</td>\n",
       "      <td>33520</td>\n",
       "      <td>355410</td>\n",
       "      <td>2538152</td>\n",
       "      <td>2899967</td>\n",
       "    </tr>\n",
       "  </tbody>\n",
       "</table>\n",
       "</div>"
      ],
      "text/plain": [
       "         date  single_family   condo townhouse    other  all_properties  \\\n",
       "0  2024-03-01        2802362  957017     76608  1583688         5419675   \n",
       "1  2024-03-01        1997656  858838     19719   555526         3431739   \n",
       "2  2024-03-01        2017899  768604    123514   588914         3498931   \n",
       "3  2024-03-01        1921281  457709     41641   373657         2794288   \n",
       "4  2024-03-01        1765489  383733     33520   355410         2538152   \n",
       "\n",
       "   parcl_id  \n",
       "0   2900187  \n",
       "1   2900078  \n",
       "2   2899845  \n",
       "3   2899734  \n",
       "4   2899967  "
      ]
     },
     "execution_count": 6,
     "metadata": {},
     "output_type": "execute_result"
    }
   ],
   "source": [
    "housing_stock.head()"
   ]
  },
  {
   "cell_type": "code",
   "execution_count": 7,
   "id": "6751be32-0c8c-47ad-885d-a95921f2316a",
   "metadata": {},
   "outputs": [
    {
     "data": {
      "text/html": [
       "<div>\n",
       "<style scoped>\n",
       "    .dataframe tbody tr th:only-of-type {\n",
       "        vertical-align: middle;\n",
       "    }\n",
       "\n",
       "    .dataframe tbody tr th {\n",
       "        vertical-align: top;\n",
       "    }\n",
       "\n",
       "    .dataframe thead th {\n",
       "        text-align: right;\n",
       "    }\n",
       "</style>\n",
       "<table border=\"1\" class=\"dataframe\">\n",
       "  <thead>\n",
       "    <tr style=\"text-align: right;\">\n",
       "      <th></th>\n",
       "      <th>parcl_id</th>\n",
       "      <th>country</th>\n",
       "      <th>geoid</th>\n",
       "      <th>state_fips_code</th>\n",
       "      <th>name</th>\n",
       "      <th>state_abbreviation</th>\n",
       "      <th>region</th>\n",
       "      <th>location_type</th>\n",
       "      <th>total_population</th>\n",
       "      <th>median_income</th>\n",
       "      <th>parcl_exchange_market</th>\n",
       "      <th>pricefeed_market</th>\n",
       "      <th>case_shiller_10_market</th>\n",
       "      <th>case_shiller_20_market</th>\n",
       "    </tr>\n",
       "  </thead>\n",
       "  <tbody>\n",
       "    <tr>\n",
       "      <th>0</th>\n",
       "      <td>2900187</td>\n",
       "      <td>USA</td>\n",
       "      <td>35620</td>\n",
       "      <td>None</td>\n",
       "      <td>New York-Newark-Jersey City, Ny-Nj-Pa</td>\n",
       "      <td>None</td>\n",
       "      <td>None</td>\n",
       "      <td>CBSA</td>\n",
       "      <td>19908595</td>\n",
       "      <td>93610</td>\n",
       "      <td>0</td>\n",
       "      <td>1</td>\n",
       "      <td>1</td>\n",
       "      <td>1</td>\n",
       "    </tr>\n",
       "    <tr>\n",
       "      <th>1</th>\n",
       "      <td>2900078</td>\n",
       "      <td>USA</td>\n",
       "      <td>31080</td>\n",
       "      <td>None</td>\n",
       "      <td>Los Angeles-Long Beach-Anaheim, Ca</td>\n",
       "      <td>None</td>\n",
       "      <td>None</td>\n",
       "      <td>CBSA</td>\n",
       "      <td>13111917</td>\n",
       "      <td>89105</td>\n",
       "      <td>0</td>\n",
       "      <td>1</td>\n",
       "      <td>1</td>\n",
       "      <td>1</td>\n",
       "    </tr>\n",
       "    <tr>\n",
       "      <th>2</th>\n",
       "      <td>2899845</td>\n",
       "      <td>USA</td>\n",
       "      <td>16980</td>\n",
       "      <td>None</td>\n",
       "      <td>Chicago-Naperville-Elgin, Il-In-Wi</td>\n",
       "      <td>None</td>\n",
       "      <td>None</td>\n",
       "      <td>CBSA</td>\n",
       "      <td>9566955</td>\n",
       "      <td>85087</td>\n",
       "      <td>0</td>\n",
       "      <td>1</td>\n",
       "      <td>1</td>\n",
       "      <td>1</td>\n",
       "    </tr>\n",
       "    <tr>\n",
       "      <th>3</th>\n",
       "      <td>2899734</td>\n",
       "      <td>USA</td>\n",
       "      <td>19100</td>\n",
       "      <td>None</td>\n",
       "      <td>Dallas-Fort Worth-Arlington, Tx</td>\n",
       "      <td>None</td>\n",
       "      <td>None</td>\n",
       "      <td>CBSA</td>\n",
       "      <td>7673379</td>\n",
       "      <td>83398</td>\n",
       "      <td>0</td>\n",
       "      <td>1</td>\n",
       "      <td>0</td>\n",
       "      <td>1</td>\n",
       "    </tr>\n",
       "    <tr>\n",
       "      <th>4</th>\n",
       "      <td>2899967</td>\n",
       "      <td>USA</td>\n",
       "      <td>26420</td>\n",
       "      <td>None</td>\n",
       "      <td>Houston-The Woodlands-Sugar Land, Tx</td>\n",
       "      <td>None</td>\n",
       "      <td>None</td>\n",
       "      <td>CBSA</td>\n",
       "      <td>7142603</td>\n",
       "      <td>78061</td>\n",
       "      <td>0</td>\n",
       "      <td>1</td>\n",
       "      <td>0</td>\n",
       "      <td>0</td>\n",
       "    </tr>\n",
       "  </tbody>\n",
       "</table>\n",
       "</div>"
      ],
      "text/plain": [
       "   parcl_id country  geoid state_fips_code  \\\n",
       "0   2900187     USA  35620            None   \n",
       "1   2900078     USA  31080            None   \n",
       "2   2899845     USA  16980            None   \n",
       "3   2899734     USA  19100            None   \n",
       "4   2899967     USA  26420            None   \n",
       "\n",
       "                                    name state_abbreviation region  \\\n",
       "0  New York-Newark-Jersey City, Ny-Nj-Pa               None   None   \n",
       "1     Los Angeles-Long Beach-Anaheim, Ca               None   None   \n",
       "2     Chicago-Naperville-Elgin, Il-In-Wi               None   None   \n",
       "3        Dallas-Fort Worth-Arlington, Tx               None   None   \n",
       "4   Houston-The Woodlands-Sugar Land, Tx               None   None   \n",
       "\n",
       "  location_type  total_population  median_income  parcl_exchange_market  \\\n",
       "0          CBSA          19908595          93610                      0   \n",
       "1          CBSA          13111917          89105                      0   \n",
       "2          CBSA           9566955          85087                      0   \n",
       "3          CBSA           7673379          83398                      0   \n",
       "4          CBSA           7142603          78061                      0   \n",
       "\n",
       "   pricefeed_market  case_shiller_10_market  case_shiller_20_market  \n",
       "0                 1                       1                       1  \n",
       "1                 1                       1                       1  \n",
       "2                 1                       1                       1  \n",
       "3                 1                       0                       1  \n",
       "4                 1                       0                       0  "
      ]
     },
     "execution_count": 7,
     "metadata": {},
     "output_type": "execute_result"
    }
   ],
   "source": [
    "top_50 = housing_stock.sort_values('all_properties', ascending=False).head(50)\n",
    "metros.head()"
   ]
  },
  {
   "cell_type": "code",
   "execution_count": 8,
   "id": "07fbcfd9-da05-4947-840f-f5d88942a710",
   "metadata": {},
   "outputs": [
    {
     "data": {
      "text/html": [
       "<div>\n",
       "<style scoped>\n",
       "    .dataframe tbody tr th:only-of-type {\n",
       "        vertical-align: middle;\n",
       "    }\n",
       "\n",
       "    .dataframe tbody tr th {\n",
       "        vertical-align: top;\n",
       "    }\n",
       "\n",
       "    .dataframe thead th {\n",
       "        text-align: right;\n",
       "    }\n",
       "</style>\n",
       "<table border=\"1\" class=\"dataframe\">\n",
       "  <thead>\n",
       "    <tr style=\"text-align: right;\">\n",
       "      <th></th>\n",
       "      <th>date</th>\n",
       "      <th>purchase_to_sale_ratio</th>\n",
       "      <th>parcl_id</th>\n",
       "    </tr>\n",
       "  </thead>\n",
       "  <tbody>\n",
       "    <tr>\n",
       "      <th>0</th>\n",
       "      <td>2024-03-01</td>\n",
       "      <td>1.50</td>\n",
       "      <td>2900187</td>\n",
       "    </tr>\n",
       "    <tr>\n",
       "      <th>1</th>\n",
       "      <td>2024-02-01</td>\n",
       "      <td>1.57</td>\n",
       "      <td>2900187</td>\n",
       "    </tr>\n",
       "    <tr>\n",
       "      <th>2</th>\n",
       "      <td>2024-01-01</td>\n",
       "      <td>1.61</td>\n",
       "      <td>2900187</td>\n",
       "    </tr>\n",
       "    <tr>\n",
       "      <th>3</th>\n",
       "      <td>2023-12-01</td>\n",
       "      <td>1.55</td>\n",
       "      <td>2900187</td>\n",
       "    </tr>\n",
       "    <tr>\n",
       "      <th>4</th>\n",
       "      <td>2023-11-01</td>\n",
       "      <td>1.43</td>\n",
       "      <td>2900187</td>\n",
       "    </tr>\n",
       "  </tbody>\n",
       "</table>\n",
       "</div>"
      ],
      "text/plain": [
       "         date  purchase_to_sale_ratio  parcl_id\n",
       "0  2024-03-01                    1.50   2900187\n",
       "1  2024-02-01                    1.57   2900187\n",
       "2  2024-01-01                    1.61   2900187\n",
       "3  2023-12-01                    1.55   2900187\n",
       "4  2023-11-01                    1.43   2900187"
      ]
     },
     "execution_count": 8,
     "metadata": {},
     "output_type": "execute_result"
    }
   ],
   "source": [
    "# investor ownership for these top 100 markets\n",
    "purchase_to_sale = client.investor_metrics_purchase_to_sale_ratio.retrieve_many(\n",
    "    parcl_ids=top_50['parcl_id'].tolist(),\n",
    "    params={\n",
    "        'limit': 6, # get last 6 mo's \n",
    "    },\n",
    "    as_dataframe=True\n",
    ")\n",
    "\n",
    "purchase_to_sale.head()"
   ]
  },
  {
   "cell_type": "code",
   "execution_count": 9,
   "id": "e3afc128-1d34-4d04-80a2-77b6339fd365",
   "metadata": {},
   "outputs": [
    {
     "data": {
      "text/html": [
       "<div>\n",
       "<style scoped>\n",
       "    .dataframe tbody tr th:only-of-type {\n",
       "        vertical-align: middle;\n",
       "    }\n",
       "\n",
       "    .dataframe tbody tr th {\n",
       "        vertical-align: top;\n",
       "    }\n",
       "\n",
       "    .dataframe thead th {\n",
       "        text-align: right;\n",
       "    }\n",
       "</style>\n",
       "<table border=\"1\" class=\"dataframe\">\n",
       "  <thead>\n",
       "    <tr style=\"text-align: right;\">\n",
       "      <th></th>\n",
       "      <th>name</th>\n",
       "      <th>date</th>\n",
       "      <th>purchase_to_sale_ratio</th>\n",
       "    </tr>\n",
       "  </thead>\n",
       "  <tbody>\n",
       "    <tr>\n",
       "      <th>0</th>\n",
       "      <td>New York-Newark-Jersey City, Ny-Nj-Pa</td>\n",
       "      <td>2024-03-01</td>\n",
       "      <td>1.50</td>\n",
       "    </tr>\n",
       "    <tr>\n",
       "      <th>1</th>\n",
       "      <td>New York-Newark-Jersey City, Ny-Nj-Pa</td>\n",
       "      <td>2024-02-01</td>\n",
       "      <td>1.57</td>\n",
       "    </tr>\n",
       "    <tr>\n",
       "      <th>2</th>\n",
       "      <td>New York-Newark-Jersey City, Ny-Nj-Pa</td>\n",
       "      <td>2024-01-01</td>\n",
       "      <td>1.61</td>\n",
       "    </tr>\n",
       "    <tr>\n",
       "      <th>3</th>\n",
       "      <td>New York-Newark-Jersey City, Ny-Nj-Pa</td>\n",
       "      <td>2023-12-01</td>\n",
       "      <td>1.55</td>\n",
       "    </tr>\n",
       "    <tr>\n",
       "      <th>4</th>\n",
       "      <td>New York-Newark-Jersey City, Ny-Nj-Pa</td>\n",
       "      <td>2023-11-01</td>\n",
       "      <td>1.43</td>\n",
       "    </tr>\n",
       "  </tbody>\n",
       "</table>\n",
       "</div>"
      ],
      "text/plain": [
       "                                    name        date  purchase_to_sale_ratio\n",
       "0  New York-Newark-Jersey City, Ny-Nj-Pa  2024-03-01                    1.50\n",
       "1  New York-Newark-Jersey City, Ny-Nj-Pa  2024-02-01                    1.57\n",
       "2  New York-Newark-Jersey City, Ny-Nj-Pa  2024-01-01                    1.61\n",
       "3  New York-Newark-Jersey City, Ny-Nj-Pa  2023-12-01                    1.55\n",
       "4  New York-Newark-Jersey City, Ny-Nj-Pa  2023-11-01                    1.43"
      ]
     },
     "execution_count": 9,
     "metadata": {},
     "output_type": "execute_result"
    }
   ],
   "source": [
    "out = pd.merge(metros[['parcl_id', 'name']], purchase_to_sale[['parcl_id',  'date', 'purchase_to_sale_ratio']], on='parcl_id')\n",
    "out = out.drop('parcl_id', axis=1)\n",
    "out.head()"
   ]
  },
  {
   "cell_type": "code",
   "execution_count": 10,
   "id": "db4592db-4501-48f7-b54e-d00a970f438f",
   "metadata": {},
   "outputs": [
    {
     "data": {
      "text/plain": [
       "Index(['Atlanta', 'Austin', 'Baltimore', 'Birmingham', 'Boston', 'Cape Coral',\n",
       "       'Charlotte', 'Chicago', 'Cincinnati', 'Cleveland', 'Columbus', 'Dallas',\n",
       "       'Denver', 'Detroit', 'Hartford', 'Houston', 'Indianapolis',\n",
       "       'Jacksonville', 'Kansas City', 'Las Vegas', 'Los Angeles', 'Louisville',\n",
       "       'Memphis', 'Miami', 'Milwaukee', 'Minneapolis', 'Nashville',\n",
       "       'New Orleans', 'New York', 'North Port', 'Oklahoma City', 'Orlando',\n",
       "       'Philadelphia', 'Phoenix', 'Pittsburgh', 'Portland', 'Providence',\n",
       "       'Raleigh', 'Richmond', 'Riverside', 'Sacramento', 'San Antonio',\n",
       "       'San Diego', 'San Francisco', 'San Jose', 'Seattle', 'St. Louis',\n",
       "       'Tampa', 'Virginia Beach', 'Washington'],\n",
       "      dtype='object', name='name')"
      ]
     },
     "execution_count": 10,
     "metadata": {},
     "output_type": "execute_result"
    }
   ],
   "source": [
    "def format_names(nme):\n",
    "    state = nme.split(',')[-1].strip()\n",
    "    metro = nme.split(',')[0].split('-')[0].strip()\n",
    "    metro = metro.split('/')[0].strip()\n",
    "    return metro\n",
    "    # return f\"{metro}, {state}\"\n",
    "\n",
    "out['name'] = out['name'].apply(lambda x: format_names(x))\n",
    "\n",
    "charting_data = out.pivot_table(values='purchase_to_sale_ratio', index='name', columns='date')\n",
    "charting_data.index"
   ]
  },
  {
   "cell_type": "code",
   "execution_count": 11,
   "id": "3bf6785b-9cde-49f7-9641-7eb051024ed8",
   "metadata": {},
   "outputs": [
    {
     "data": {
      "text/html": [
       "<div>\n",
       "<style scoped>\n",
       "    .dataframe tbody tr th:only-of-type {\n",
       "        vertical-align: middle;\n",
       "    }\n",
       "\n",
       "    .dataframe tbody tr th {\n",
       "        vertical-align: top;\n",
       "    }\n",
       "\n",
       "    .dataframe thead th {\n",
       "        text-align: right;\n",
       "    }\n",
       "</style>\n",
       "<table border=\"1\" class=\"dataframe\">\n",
       "  <thead>\n",
       "    <tr style=\"text-align: right;\">\n",
       "      <th>date</th>\n",
       "      <th>2023-10-01</th>\n",
       "      <th>2023-11-01</th>\n",
       "      <th>2023-12-01</th>\n",
       "      <th>2024-01-01</th>\n",
       "      <th>2024-02-01</th>\n",
       "      <th>2024-03-01</th>\n",
       "    </tr>\n",
       "    <tr>\n",
       "      <th>name</th>\n",
       "      <th></th>\n",
       "      <th></th>\n",
       "      <th></th>\n",
       "      <th></th>\n",
       "      <th></th>\n",
       "      <th></th>\n",
       "    </tr>\n",
       "  </thead>\n",
       "  <tbody>\n",
       "    <tr>\n",
       "      <th>Atlanta</th>\n",
       "      <td>1.72</td>\n",
       "      <td>1.63</td>\n",
       "      <td>1.60</td>\n",
       "      <td>1.45</td>\n",
       "      <td>1.30</td>\n",
       "      <td>0.89</td>\n",
       "    </tr>\n",
       "    <tr>\n",
       "      <th>Austin</th>\n",
       "      <td>1.14</td>\n",
       "      <td>1.14</td>\n",
       "      <td>1.18</td>\n",
       "      <td>1.21</td>\n",
       "      <td>0.92</td>\n",
       "      <td>0.98</td>\n",
       "    </tr>\n",
       "    <tr>\n",
       "      <th>Baltimore</th>\n",
       "      <td>1.13</td>\n",
       "      <td>1.03</td>\n",
       "      <td>0.91</td>\n",
       "      <td>1.38</td>\n",
       "      <td>0.97</td>\n",
       "      <td>0.95</td>\n",
       "    </tr>\n",
       "    <tr>\n",
       "      <th>Birmingham</th>\n",
       "      <td>1.18</td>\n",
       "      <td>1.09</td>\n",
       "      <td>1.23</td>\n",
       "      <td>1.03</td>\n",
       "      <td>1.15</td>\n",
       "      <td>0.99</td>\n",
       "    </tr>\n",
       "    <tr>\n",
       "      <th>Boston</th>\n",
       "      <td>0.99</td>\n",
       "      <td>0.97</td>\n",
       "      <td>0.99</td>\n",
       "      <td>1.13</td>\n",
       "      <td>0.97</td>\n",
       "      <td>0.75</td>\n",
       "    </tr>\n",
       "  </tbody>\n",
       "</table>\n",
       "</div>"
      ],
      "text/plain": [
       "date        2023-10-01  2023-11-01  2023-12-01  2024-01-01  2024-02-01  \\\n",
       "name                                                                     \n",
       "Atlanta           1.72        1.63        1.60        1.45        1.30   \n",
       "Austin            1.14        1.14        1.18        1.21        0.92   \n",
       "Baltimore         1.13        1.03        0.91        1.38        0.97   \n",
       "Birmingham        1.18        1.09        1.23        1.03        1.15   \n",
       "Boston            0.99        0.97        0.99        1.13        0.97   \n",
       "\n",
       "date        2024-03-01  \n",
       "name                    \n",
       "Atlanta           0.89  \n",
       "Austin            0.98  \n",
       "Baltimore         0.95  \n",
       "Birmingham        0.99  \n",
       "Boston            0.75  "
      ]
     },
     "execution_count": 11,
     "metadata": {},
     "output_type": "execute_result"
    }
   ],
   "source": [
    "charting_data.head()"
   ]
  },
  {
   "cell_type": "code",
   "execution_count": 12,
   "id": "25659e6b-53d9-4304-aae7-70da9dff886b",
   "metadata": {},
   "outputs": [
    {
     "data": {
      "text/html": [
       "<div>\n",
       "<style scoped>\n",
       "    .dataframe tbody tr th:only-of-type {\n",
       "        vertical-align: middle;\n",
       "    }\n",
       "\n",
       "    .dataframe tbody tr th {\n",
       "        vertical-align: top;\n",
       "    }\n",
       "\n",
       "    .dataframe thead th {\n",
       "        text-align: right;\n",
       "    }\n",
       "</style>\n",
       "<table border=\"1\" class=\"dataframe\">\n",
       "  <thead>\n",
       "    <tr style=\"text-align: right;\">\n",
       "      <th>date</th>\n",
       "      <th>2023-10-01</th>\n",
       "      <th>2023-11-01</th>\n",
       "      <th>2023-12-01</th>\n",
       "      <th>2024-01-01</th>\n",
       "      <th>2024-02-01</th>\n",
       "      <th>2024-03-01</th>\n",
       "    </tr>\n",
       "    <tr>\n",
       "      <th>name</th>\n",
       "      <th></th>\n",
       "      <th></th>\n",
       "      <th></th>\n",
       "      <th></th>\n",
       "      <th></th>\n",
       "      <th></th>\n",
       "    </tr>\n",
       "  </thead>\n",
       "  <tbody>\n",
       "    <tr>\n",
       "      <th>Pittsburgh</th>\n",
       "      <td>1.17</td>\n",
       "      <td>1.58</td>\n",
       "      <td>1.23</td>\n",
       "      <td>1.76</td>\n",
       "      <td>1.37</td>\n",
       "      <td>1.89</td>\n",
       "    </tr>\n",
       "    <tr>\n",
       "      <th>New York</th>\n",
       "      <td>1.51</td>\n",
       "      <td>1.43</td>\n",
       "      <td>1.55</td>\n",
       "      <td>1.61</td>\n",
       "      <td>1.57</td>\n",
       "      <td>1.50</td>\n",
       "    </tr>\n",
       "    <tr>\n",
       "      <th>New Orleans</th>\n",
       "      <td>1.83</td>\n",
       "      <td>1.51</td>\n",
       "      <td>1.63</td>\n",
       "      <td>1.66</td>\n",
       "      <td>2.01</td>\n",
       "      <td>1.48</td>\n",
       "    </tr>\n",
       "    <tr>\n",
       "      <th>Memphis</th>\n",
       "      <td>1.34</td>\n",
       "      <td>1.19</td>\n",
       "      <td>1.16</td>\n",
       "      <td>1.22</td>\n",
       "      <td>1.27</td>\n",
       "      <td>1.48</td>\n",
       "    </tr>\n",
       "    <tr>\n",
       "      <th>Hartford</th>\n",
       "      <td>1.19</td>\n",
       "      <td>1.04</td>\n",
       "      <td>1.22</td>\n",
       "      <td>1.18</td>\n",
       "      <td>0.93</td>\n",
       "      <td>1.31</td>\n",
       "    </tr>\n",
       "    <tr>\n",
       "      <th>Cleveland</th>\n",
       "      <td>1.34</td>\n",
       "      <td>1.13</td>\n",
       "      <td>1.18</td>\n",
       "      <td>1.09</td>\n",
       "      <td>1.07</td>\n",
       "      <td>1.24</td>\n",
       "    </tr>\n",
       "    <tr>\n",
       "      <th>Denver</th>\n",
       "      <td>1.49</td>\n",
       "      <td>1.49</td>\n",
       "      <td>1.71</td>\n",
       "      <td>1.65</td>\n",
       "      <td>1.25</td>\n",
       "      <td>1.21</td>\n",
       "    </tr>\n",
       "    <tr>\n",
       "      <th>San Antonio</th>\n",
       "      <td>1.34</td>\n",
       "      <td>1.23</td>\n",
       "      <td>1.36</td>\n",
       "      <td>1.14</td>\n",
       "      <td>1.16</td>\n",
       "      <td>1.14</td>\n",
       "    </tr>\n",
       "    <tr>\n",
       "      <th>Louisville</th>\n",
       "      <td>1.38</td>\n",
       "      <td>1.08</td>\n",
       "      <td>1.42</td>\n",
       "      <td>1.49</td>\n",
       "      <td>1.40</td>\n",
       "      <td>1.09</td>\n",
       "    </tr>\n",
       "    <tr>\n",
       "      <th>Philadelphia</th>\n",
       "      <td>1.45</td>\n",
       "      <td>1.36</td>\n",
       "      <td>1.14</td>\n",
       "      <td>1.32</td>\n",
       "      <td>1.26</td>\n",
       "      <td>1.08</td>\n",
       "    </tr>\n",
       "    <tr>\n",
       "      <th>Houston</th>\n",
       "      <td>1.39</td>\n",
       "      <td>1.19</td>\n",
       "      <td>1.26</td>\n",
       "      <td>1.35</td>\n",
       "      <td>1.36</td>\n",
       "      <td>1.07</td>\n",
       "    </tr>\n",
       "    <tr>\n",
       "      <th>St. Louis</th>\n",
       "      <td>1.28</td>\n",
       "      <td>1.32</td>\n",
       "      <td>1.11</td>\n",
       "      <td>1.19</td>\n",
       "      <td>1.12</td>\n",
       "      <td>1.06</td>\n",
       "    </tr>\n",
       "    <tr>\n",
       "      <th>Indianapolis</th>\n",
       "      <td>1.34</td>\n",
       "      <td>1.06</td>\n",
       "      <td>1.17</td>\n",
       "      <td>1.43</td>\n",
       "      <td>1.24</td>\n",
       "      <td>1.05</td>\n",
       "    </tr>\n",
       "    <tr>\n",
       "      <th>Raleigh</th>\n",
       "      <td>1.65</td>\n",
       "      <td>1.81</td>\n",
       "      <td>1.41</td>\n",
       "      <td>1.39</td>\n",
       "      <td>1.27</td>\n",
       "      <td>1.05</td>\n",
       "    </tr>\n",
       "    <tr>\n",
       "      <th>Kansas City</th>\n",
       "      <td>1.16</td>\n",
       "      <td>1.20</td>\n",
       "      <td>1.08</td>\n",
       "      <td>1.22</td>\n",
       "      <td>1.11</td>\n",
       "      <td>1.01</td>\n",
       "    </tr>\n",
       "    <tr>\n",
       "      <th>Dallas</th>\n",
       "      <td>1.17</td>\n",
       "      <td>1.17</td>\n",
       "      <td>1.12</td>\n",
       "      <td>1.18</td>\n",
       "      <td>1.04</td>\n",
       "      <td>1.00</td>\n",
       "    </tr>\n",
       "    <tr>\n",
       "      <th>Cape Coral</th>\n",
       "      <td>1.06</td>\n",
       "      <td>1.00</td>\n",
       "      <td>0.87</td>\n",
       "      <td>1.03</td>\n",
       "      <td>0.99</td>\n",
       "      <td>0.99</td>\n",
       "    </tr>\n",
       "    <tr>\n",
       "      <th>Birmingham</th>\n",
       "      <td>1.18</td>\n",
       "      <td>1.09</td>\n",
       "      <td>1.23</td>\n",
       "      <td>1.03</td>\n",
       "      <td>1.15</td>\n",
       "      <td>0.99</td>\n",
       "    </tr>\n",
       "    <tr>\n",
       "      <th>Austin</th>\n",
       "      <td>1.14</td>\n",
       "      <td>1.14</td>\n",
       "      <td>1.18</td>\n",
       "      <td>1.21</td>\n",
       "      <td>0.92</td>\n",
       "      <td>0.98</td>\n",
       "    </tr>\n",
       "    <tr>\n",
       "      <th>Baltimore</th>\n",
       "      <td>1.13</td>\n",
       "      <td>1.03</td>\n",
       "      <td>0.91</td>\n",
       "      <td>1.38</td>\n",
       "      <td>0.97</td>\n",
       "      <td>0.95</td>\n",
       "    </tr>\n",
       "    <tr>\n",
       "      <th>Richmond</th>\n",
       "      <td>1.20</td>\n",
       "      <td>1.23</td>\n",
       "      <td>1.16</td>\n",
       "      <td>1.53</td>\n",
       "      <td>1.21</td>\n",
       "      <td>0.94</td>\n",
       "    </tr>\n",
       "    <tr>\n",
       "      <th>Nashville</th>\n",
       "      <td>1.29</td>\n",
       "      <td>1.15</td>\n",
       "      <td>1.13</td>\n",
       "      <td>1.24</td>\n",
       "      <td>1.18</td>\n",
       "      <td>0.94</td>\n",
       "    </tr>\n",
       "    <tr>\n",
       "      <th>Miami</th>\n",
       "      <td>1.10</td>\n",
       "      <td>1.24</td>\n",
       "      <td>1.02</td>\n",
       "      <td>1.13</td>\n",
       "      <td>0.94</td>\n",
       "      <td>0.93</td>\n",
       "    </tr>\n",
       "    <tr>\n",
       "      <th>Chicago</th>\n",
       "      <td>0.97</td>\n",
       "      <td>0.99</td>\n",
       "      <td>0.95</td>\n",
       "      <td>1.08</td>\n",
       "      <td>1.00</td>\n",
       "      <td>0.92</td>\n",
       "    </tr>\n",
       "    <tr>\n",
       "      <th>Virginia Beach</th>\n",
       "      <td>1.13</td>\n",
       "      <td>1.17</td>\n",
       "      <td>1.11</td>\n",
       "      <td>1.13</td>\n",
       "      <td>1.05</td>\n",
       "      <td>0.91</td>\n",
       "    </tr>\n",
       "    <tr>\n",
       "      <th>Milwaukee</th>\n",
       "      <td>0.91</td>\n",
       "      <td>1.01</td>\n",
       "      <td>1.05</td>\n",
       "      <td>1.23</td>\n",
       "      <td>1.18</td>\n",
       "      <td>0.90</td>\n",
       "    </tr>\n",
       "    <tr>\n",
       "      <th>Atlanta</th>\n",
       "      <td>1.72</td>\n",
       "      <td>1.63</td>\n",
       "      <td>1.60</td>\n",
       "      <td>1.45</td>\n",
       "      <td>1.30</td>\n",
       "      <td>0.89</td>\n",
       "    </tr>\n",
       "    <tr>\n",
       "      <th>Orlando</th>\n",
       "      <td>1.07</td>\n",
       "      <td>1.00</td>\n",
       "      <td>1.08</td>\n",
       "      <td>1.19</td>\n",
       "      <td>1.29</td>\n",
       "      <td>0.88</td>\n",
       "    </tr>\n",
       "    <tr>\n",
       "      <th>Columbus</th>\n",
       "      <td>1.03</td>\n",
       "      <td>1.03</td>\n",
       "      <td>1.05</td>\n",
       "      <td>1.09</td>\n",
       "      <td>0.94</td>\n",
       "      <td>0.87</td>\n",
       "    </tr>\n",
       "    <tr>\n",
       "      <th>Jacksonville</th>\n",
       "      <td>1.13</td>\n",
       "      <td>1.09</td>\n",
       "      <td>0.94</td>\n",
       "      <td>1.09</td>\n",
       "      <td>1.14</td>\n",
       "      <td>0.84</td>\n",
       "    </tr>\n",
       "    <tr>\n",
       "      <th>Providence</th>\n",
       "      <td>1.14</td>\n",
       "      <td>1.12</td>\n",
       "      <td>1.15</td>\n",
       "      <td>1.26</td>\n",
       "      <td>1.19</td>\n",
       "      <td>0.83</td>\n",
       "    </tr>\n",
       "    <tr>\n",
       "      <th>Washington</th>\n",
       "      <td>0.89</td>\n",
       "      <td>0.87</td>\n",
       "      <td>0.88</td>\n",
       "      <td>0.90</td>\n",
       "      <td>0.90</td>\n",
       "      <td>0.82</td>\n",
       "    </tr>\n",
       "    <tr>\n",
       "      <th>Oklahoma City</th>\n",
       "      <td>0.99</td>\n",
       "      <td>0.83</td>\n",
       "      <td>1.08</td>\n",
       "      <td>1.06</td>\n",
       "      <td>0.85</td>\n",
       "      <td>0.79</td>\n",
       "    </tr>\n",
       "    <tr>\n",
       "      <th>Boston</th>\n",
       "      <td>0.99</td>\n",
       "      <td>0.97</td>\n",
       "      <td>0.99</td>\n",
       "      <td>1.13</td>\n",
       "      <td>0.97</td>\n",
       "      <td>0.75</td>\n",
       "    </tr>\n",
       "    <tr>\n",
       "      <th>Minneapolis</th>\n",
       "      <td>0.94</td>\n",
       "      <td>0.82</td>\n",
       "      <td>0.99</td>\n",
       "      <td>0.91</td>\n",
       "      <td>0.82</td>\n",
       "      <td>0.75</td>\n",
       "    </tr>\n",
       "    <tr>\n",
       "      <th>Las Vegas</th>\n",
       "      <td>0.95</td>\n",
       "      <td>0.81</td>\n",
       "      <td>0.77</td>\n",
       "      <td>0.81</td>\n",
       "      <td>0.69</td>\n",
       "      <td>0.71</td>\n",
       "    </tr>\n",
       "    <tr>\n",
       "      <th>Detroit</th>\n",
       "      <td>1.24</td>\n",
       "      <td>0.94</td>\n",
       "      <td>0.98</td>\n",
       "      <td>0.91</td>\n",
       "      <td>0.85</td>\n",
       "      <td>0.67</td>\n",
       "    </tr>\n",
       "    <tr>\n",
       "      <th>Tampa</th>\n",
       "      <td>0.92</td>\n",
       "      <td>0.99</td>\n",
       "      <td>0.95</td>\n",
       "      <td>1.05</td>\n",
       "      <td>1.04</td>\n",
       "      <td>0.66</td>\n",
       "    </tr>\n",
       "    <tr>\n",
       "      <th>Phoenix</th>\n",
       "      <td>0.87</td>\n",
       "      <td>0.77</td>\n",
       "      <td>0.85</td>\n",
       "      <td>0.79</td>\n",
       "      <td>0.69</td>\n",
       "      <td>0.61</td>\n",
       "    </tr>\n",
       "    <tr>\n",
       "      <th>North Port</th>\n",
       "      <td>0.91</td>\n",
       "      <td>0.84</td>\n",
       "      <td>0.97</td>\n",
       "      <td>0.99</td>\n",
       "      <td>0.73</td>\n",
       "      <td>0.61</td>\n",
       "    </tr>\n",
       "    <tr>\n",
       "      <th>Seattle</th>\n",
       "      <td>0.83</td>\n",
       "      <td>0.78</td>\n",
       "      <td>0.80</td>\n",
       "      <td>0.99</td>\n",
       "      <td>0.71</td>\n",
       "      <td>0.58</td>\n",
       "    </tr>\n",
       "    <tr>\n",
       "      <th>Charlotte</th>\n",
       "      <td>1.37</td>\n",
       "      <td>1.43</td>\n",
       "      <td>1.33</td>\n",
       "      <td>1.43</td>\n",
       "      <td>1.07</td>\n",
       "      <td>0.56</td>\n",
       "    </tr>\n",
       "    <tr>\n",
       "      <th>Portland</th>\n",
       "      <td>0.68</td>\n",
       "      <td>0.58</td>\n",
       "      <td>0.56</td>\n",
       "      <td>0.54</td>\n",
       "      <td>0.56</td>\n",
       "      <td>0.48</td>\n",
       "    </tr>\n",
       "    <tr>\n",
       "      <th>Cincinnati</th>\n",
       "      <td>1.08</td>\n",
       "      <td>1.05</td>\n",
       "      <td>1.05</td>\n",
       "      <td>1.34</td>\n",
       "      <td>0.93</td>\n",
       "      <td>0.42</td>\n",
       "    </tr>\n",
       "    <tr>\n",
       "      <th>Riverside</th>\n",
       "      <td>0.54</td>\n",
       "      <td>0.53</td>\n",
       "      <td>0.52</td>\n",
       "      <td>0.47</td>\n",
       "      <td>0.46</td>\n",
       "      <td>0.40</td>\n",
       "    </tr>\n",
       "    <tr>\n",
       "      <th>Los Angeles</th>\n",
       "      <td>0.43</td>\n",
       "      <td>0.41</td>\n",
       "      <td>0.49</td>\n",
       "      <td>0.42</td>\n",
       "      <td>0.42</td>\n",
       "      <td>0.38</td>\n",
       "    </tr>\n",
       "    <tr>\n",
       "      <th>Sacramento</th>\n",
       "      <td>0.47</td>\n",
       "      <td>0.44</td>\n",
       "      <td>0.68</td>\n",
       "      <td>0.41</td>\n",
       "      <td>0.42</td>\n",
       "      <td>0.38</td>\n",
       "    </tr>\n",
       "    <tr>\n",
       "      <th>San Diego</th>\n",
       "      <td>0.45</td>\n",
       "      <td>0.47</td>\n",
       "      <td>0.47</td>\n",
       "      <td>0.43</td>\n",
       "      <td>0.36</td>\n",
       "      <td>0.38</td>\n",
       "    </tr>\n",
       "    <tr>\n",
       "      <th>San Francisco</th>\n",
       "      <td>0.32</td>\n",
       "      <td>0.31</td>\n",
       "      <td>0.37</td>\n",
       "      <td>0.28</td>\n",
       "      <td>0.26</td>\n",
       "      <td>0.22</td>\n",
       "    </tr>\n",
       "    <tr>\n",
       "      <th>San Jose</th>\n",
       "      <td>0.31</td>\n",
       "      <td>0.28</td>\n",
       "      <td>0.30</td>\n",
       "      <td>0.33</td>\n",
       "      <td>0.23</td>\n",
       "      <td>0.09</td>\n",
       "    </tr>\n",
       "  </tbody>\n",
       "</table>\n",
       "</div>"
      ],
      "text/plain": [
       "date            2023-10-01  2023-11-01  2023-12-01  2024-01-01  2024-02-01  \\\n",
       "name                                                                         \n",
       "Pittsburgh            1.17        1.58        1.23        1.76        1.37   \n",
       "New York              1.51        1.43        1.55        1.61        1.57   \n",
       "New Orleans           1.83        1.51        1.63        1.66        2.01   \n",
       "Memphis               1.34        1.19        1.16        1.22        1.27   \n",
       "Hartford              1.19        1.04        1.22        1.18        0.93   \n",
       "Cleveland             1.34        1.13        1.18        1.09        1.07   \n",
       "Denver                1.49        1.49        1.71        1.65        1.25   \n",
       "San Antonio           1.34        1.23        1.36        1.14        1.16   \n",
       "Louisville            1.38        1.08        1.42        1.49        1.40   \n",
       "Philadelphia          1.45        1.36        1.14        1.32        1.26   \n",
       "Houston               1.39        1.19        1.26        1.35        1.36   \n",
       "St. Louis             1.28        1.32        1.11        1.19        1.12   \n",
       "Indianapolis          1.34        1.06        1.17        1.43        1.24   \n",
       "Raleigh               1.65        1.81        1.41        1.39        1.27   \n",
       "Kansas City           1.16        1.20        1.08        1.22        1.11   \n",
       "Dallas                1.17        1.17        1.12        1.18        1.04   \n",
       "Cape Coral            1.06        1.00        0.87        1.03        0.99   \n",
       "Birmingham            1.18        1.09        1.23        1.03        1.15   \n",
       "Austin                1.14        1.14        1.18        1.21        0.92   \n",
       "Baltimore             1.13        1.03        0.91        1.38        0.97   \n",
       "Richmond              1.20        1.23        1.16        1.53        1.21   \n",
       "Nashville             1.29        1.15        1.13        1.24        1.18   \n",
       "Miami                 1.10        1.24        1.02        1.13        0.94   \n",
       "Chicago               0.97        0.99        0.95        1.08        1.00   \n",
       "Virginia Beach        1.13        1.17        1.11        1.13        1.05   \n",
       "Milwaukee             0.91        1.01        1.05        1.23        1.18   \n",
       "Atlanta               1.72        1.63        1.60        1.45        1.30   \n",
       "Orlando               1.07        1.00        1.08        1.19        1.29   \n",
       "Columbus              1.03        1.03        1.05        1.09        0.94   \n",
       "Jacksonville          1.13        1.09        0.94        1.09        1.14   \n",
       "Providence            1.14        1.12        1.15        1.26        1.19   \n",
       "Washington            0.89        0.87        0.88        0.90        0.90   \n",
       "Oklahoma City         0.99        0.83        1.08        1.06        0.85   \n",
       "Boston                0.99        0.97        0.99        1.13        0.97   \n",
       "Minneapolis           0.94        0.82        0.99        0.91        0.82   \n",
       "Las Vegas             0.95        0.81        0.77        0.81        0.69   \n",
       "Detroit               1.24        0.94        0.98        0.91        0.85   \n",
       "Tampa                 0.92        0.99        0.95        1.05        1.04   \n",
       "Phoenix               0.87        0.77        0.85        0.79        0.69   \n",
       "North Port            0.91        0.84        0.97        0.99        0.73   \n",
       "Seattle               0.83        0.78        0.80        0.99        0.71   \n",
       "Charlotte             1.37        1.43        1.33        1.43        1.07   \n",
       "Portland              0.68        0.58        0.56        0.54        0.56   \n",
       "Cincinnati            1.08        1.05        1.05        1.34        0.93   \n",
       "Riverside             0.54        0.53        0.52        0.47        0.46   \n",
       "Los Angeles           0.43        0.41        0.49        0.42        0.42   \n",
       "Sacramento            0.47        0.44        0.68        0.41        0.42   \n",
       "San Diego             0.45        0.47        0.47        0.43        0.36   \n",
       "San Francisco         0.32        0.31        0.37        0.28        0.26   \n",
       "San Jose              0.31        0.28        0.30        0.33        0.23   \n",
       "\n",
       "date            2024-03-01  \n",
       "name                        \n",
       "Pittsburgh            1.89  \n",
       "New York              1.50  \n",
       "New Orleans           1.48  \n",
       "Memphis               1.48  \n",
       "Hartford              1.31  \n",
       "Cleveland             1.24  \n",
       "Denver                1.21  \n",
       "San Antonio           1.14  \n",
       "Louisville            1.09  \n",
       "Philadelphia          1.08  \n",
       "Houston               1.07  \n",
       "St. Louis             1.06  \n",
       "Indianapolis          1.05  \n",
       "Raleigh               1.05  \n",
       "Kansas City           1.01  \n",
       "Dallas                1.00  \n",
       "Cape Coral            0.99  \n",
       "Birmingham            0.99  \n",
       "Austin                0.98  \n",
       "Baltimore             0.95  \n",
       "Richmond              0.94  \n",
       "Nashville             0.94  \n",
       "Miami                 0.93  \n",
       "Chicago               0.92  \n",
       "Virginia Beach        0.91  \n",
       "Milwaukee             0.90  \n",
       "Atlanta               0.89  \n",
       "Orlando               0.88  \n",
       "Columbus              0.87  \n",
       "Jacksonville          0.84  \n",
       "Providence            0.83  \n",
       "Washington            0.82  \n",
       "Oklahoma City         0.79  \n",
       "Boston                0.75  \n",
       "Minneapolis           0.75  \n",
       "Las Vegas             0.71  \n",
       "Detroit               0.67  \n",
       "Tampa                 0.66  \n",
       "Phoenix               0.61  \n",
       "North Port            0.61  \n",
       "Seattle               0.58  \n",
       "Charlotte             0.56  \n",
       "Portland              0.48  \n",
       "Cincinnati            0.42  \n",
       "Riverside             0.40  \n",
       "Los Angeles           0.38  \n",
       "Sacramento            0.38  \n",
       "San Diego             0.38  \n",
       "San Francisco         0.22  \n",
       "San Jose              0.09  "
      ]
     },
     "execution_count": 12,
     "metadata": {},
     "output_type": "execute_result"
    }
   ],
   "source": [
    "charting_data = charting_data.sort_values('2024-03-01', ascending=False)\n",
    "charting_data"
   ]
  },
  {
   "cell_type": "code",
   "execution_count": 15,
   "id": "3a2709fd-a8cf-4a28-924f-df5b5ab46be3",
   "metadata": {},
   "outputs": [
    {
     "data": {
      "application/vnd.plotly.v1+json": {
       "config": {
        "plotlyServerURL": "https://plot.ly"
       },
       "data": [
        {
         "cells": {
          "align": "center",
          "fill": {
           "color": [
            [
             "#080D16",
             "#080D16",
             "#080D16",
             "#080D16",
             "#080D16",
             "#080D16",
             "#080D16",
             "#080D16",
             "#080D16",
             "#080D16",
             "#080D16",
             "#080D16",
             "#080D16",
             "#080D16",
             "#080D16",
             "#080D16",
             "#080D16",
             "#080D16",
             "#080D16",
             "#080D16",
             "#080D16",
             "#080D16",
             "#080D16",
             "#080D16",
             "#080D16",
             "#080D16",
             "#080D16",
             "#080D16",
             "#080D16",
             "#080D16",
             "#080D16",
             "#080D16",
             "#080D16",
             "#080D16",
             "#080D16",
             "#080D16",
             "#080D16",
             "#080D16",
             "#080D16",
             "#080D16",
             "#080D16",
             "#080D16",
             "#080D16",
             "#080D16",
             "#080D16",
             "#080D16",
             "#080D16",
             "#080D16",
             "#080D16",
             "#080D16"
            ],
            [
             "rgb(53,87,210)",
             "rgb(31,51,181)",
             "rgb(11,17,153)",
             "rgb(42,69,195)",
             "rgb(52,85,208)",
             "rgb(42,69,195)",
             "rgb(33,53,182)",
             "rgb(42,69,195)",
             "rgb(40,65,192)",
             "rgb(35,57,186)",
             "rgb(39,64,191)",
             "rgb(46,75,200)",
             "rgb(42,69,195)",
             "rgb(22,36,169)",
             "rgb(54,88,211)",
             "rgb(53,87,210)",
             "rgb(61,98,219)",
             "rgb(53,86,209)",
             "rgb(55,90,212)",
             "rgb(56,91,213)",
             "rgb(52,84,207)",
             "rgb(46,74,200)",
             "rgb(58,94,216)",
             "rgb(68,108,225)",
             "rgb(56,91,213)",
             "rgb(74,114,225)",
             "rgb(18,29,163)",
             "rgb(60,97,218)",
             "rgb(63,101,222)",
             "rgb(56,91,213)",
             "rgb(55,90,212)",
             "rgb(76,117,225)",
             "rgb(66,106,225)",
             "rgb(66,106,225)",
             "rgb(71,111,225)",
             "rgb(70,110,225)",
             "rgb(49,79,204)",
             "rgb(73,113,225)",
             "rgb(79,119,225)",
             "rgb(74,114,225)",
             "rgb(83,123,225)",
             "rgb(40,66,193)",
             "rgb(99,140,226)",
             "rgb(59,96,218)",
             "rgb(114,156,227)",
             "rgb(126,168,227)",
             "rgb(122,163,227)",
             "rgb(124,166,227)",
             "rgb(138,180,228)",
             "rgb(139,181,228)"
            ],
            [
             "rgb(27,44,175)",
             "rgb(37,59,188)",
             "rgb(31,51,181)",
             "rgb(52,85,208)",
             "rgb(62,100,221)",
             "rgb(56,91,213)",
             "rgb(33,53,182)",
             "rgb(50,80,205)",
             "rgb(59,96,218)",
             "rgb(41,67,194)",
             "rgb(52,85,208)",
             "rgb(44,71,197)",
             "rgb(61,98,219)",
             "rgb(12,19,155)",
             "rgb(52,84,207)",
             "rgb(53,87,210)",
             "rgb(65,105,225)",
             "rgb(59,95,217)",
             "rgb(55,90,212)",
             "rgb(63,101,222)",
             "rgb(50,80,205)",
             "rgb(55,89,212)",
             "rgb(49,79,204)",
             "rgb(66,106,225)",
             "rgb(53,87,210)",
             "rgb(64,103,224)",
             "rgb(24,38,170)",
             "rgb(65,105,225)",
             "rgb(63,101,222)",
             "rgb(59,95,217)",
             "rgb(57,92,214)",
             "rgb(79,119,225)",
             "rgb(83,123,225)",
             "rgb(68,108,225)",
             "rgb(84,124,225)",
             "rgb(85,126,225)",
             "rgb(71,111,225)",
             "rgb(66,106,225)",
             "rgb(89,130,226)",
             "rgb(82,122,225)",
             "rgb(88,129,226)",
             "rgb(37,59,188)",
             "rgb(110,151,227)",
             "rgb(61,99,220)",
             "rgb(115,157,227)",
             "rgb(128,170,227)",
             "rgb(125,167,227)",
             "rgb(122,163,227)",
             "rgb(139,181,228)",
             "rgb(142,184,228)"
            ],
            [
             "rgb(50,80,205)",
             "rgb(29,47,177)",
             "rgb(24,38,170)",
             "rgb(54,88,211)",
             "rgb(50,81,206)",
             "rgb(53,86,209)",
             "rgb(18,30,163)",
             "rgb(41,67,194)",
             "rgb(37,60,188)",
             "rgb(55,90,212)",
             "rgb(48,77,202)",
             "rgb(57,93,215)",
             "rgb(53,87,210)",
             "rgb(38,61,189)",
             "rgb(59,96,218)",
             "rgb(57,92,214)",
             "rgb(79,119,225)",
             "rgb(50,80,205)",
             "rgb(53,86,209)",
             "rgb(74,114,225)",
             "rgb(54,88,211)",
             "rgb(56,91,213)",
             "rgb(63,102,223)",
             "rgb(70,110,225)",
             "rgb(57,93,215)",
             "rgb(61,99,220)",
             "rgb(25,41,173)",
             "rgb(59,96,218)",
             "rgb(61,99,220)",
             "rgb(71,111,225)",
             "rgb(55,89,212)",
             "rgb(77,118,225)",
             "rgb(59,96,218)",
             "rgb(66,106,225)",
             "rgb(66,106,225)",
             "rgb(89,130,226)",
             "rgb(67,107,225)",
             "rgb(70,110,225)",
             "rgb(81,121,225)",
             "rgb(68,108,225)",
             "rgb(86,127,226)",
             "rgb(43,70,196)",
             "rgb(112,153,227)",
             "rgb(61,99,220)",
             "rgb(116,158,227)",
             "rgb(120,161,227)",
             "rgb(99,140,226)",
             "rgb(122,163,227)",
             "rgb(133,174,228)",
             "rgb(140,182,228)"
            ],
            [
             "rgb(15,25,159)",
             "rgb(25,40,172)",
             "rgb(22,35,168)",
             "rgb(50,81,206)",
             "rgb(53,86,209)",
             "rgb(59,95,217)",
             "rgb(22,36,169)",
             "rgb(55,90,212)",
             "rgb(33,53,182)",
             "rgb(44,71,197)",
             "rgb(42,68,194)",
             "rgb(52,85,208)",
             "rgb(37,59,188)",
             "rgb(39,64,191)",
             "rgb(50,81,206)",
             "rgb(53,86,209)",
             "rgb(63,101,222)",
             "rgb(63,101,222)",
             "rgb(51,82,206)",
             "rgb(40,65,192)",
             "rgb(30,49,179)",
             "rgb(49,79,204)",
             "rgb(56,91,213)",
             "rgb(59,96,218)",
             "rgb(56,91,213)",
             "rgb(50,80,205)",
             "rgb(35,57,186)",
             "rgb(52,85,208)",
             "rgb(59,95,217)",
             "rgb(59,95,217)",
             "rgb(48,77,202)",
             "rgb(75,116,225)",
             "rgb(61,98,219)",
             "rgb(56,91,213)",
             "rgb(74,114,225)",
             "rgb(85,126,225)",
             "rgb(74,114,225)",
             "rgb(61,99,220)",
             "rgb(87,128,226)",
             "rgb(66,106,225)",
             "rgb(66,106,225)",
             "rgb(37,59,188)",
             "rgb(114,156,227)",
             "rgb(42,69,195)",
             "rgb(122,163,227)",
             "rgb(127,169,227)",
             "rgb(128,170,227)",
             "rgb(126,168,227)",
             "rgb(142,184,228)",
             "rgb(137,179,228)"
            ],
            [
             "rgb(40,66,193)",
             "rgb(27,45,175)",
             "rgb(0,0,138)",
             "rgb(47,76,201)",
             "rgb(72,112,225)",
             "rgb(60,97,218)",
             "rgb(48,78,203)",
             "rgb(54,88,211)",
             "rgb(39,63,190)",
             "rgb(48,77,202)",
             "rgb(41,67,194)",
             "rgb(57,92,214)",
             "rgb(49,79,204)",
             "rgb(47,76,201)",
             "rgb(57,93,215)",
             "rgb(62,100,221)",
             "rgb(66,106,225)",
             "rgb(55,89,212)",
             "rgb(73,113,225)",
             "rgb(68,108,225)",
             "rgb(51,82,206)",
             "rgb(53,86,209)",
             "rgb(71,111,225)",
             "rgb(65,105,225)",
             "rgb(61,99,220)",
             "rgb(53,86,209)",
             "rgb(45,73,199)",
             "rgb(46,74,200)",
             "rgb(71,111,225)",
             "rgb(55,90,212)",
             "rgb(52,85,208)",
             "rgb(75,116,225)",
             "rgb(81,121,225)",
             "rgb(68,108,225)",
             "rgb(84,124,225)",
             "rgb(98,139,226)",
             "rgb(81,121,225)",
             "rgb(62,100,221)",
             "rgb(98,139,226)",
             "rgb(94,134,226)",
             "rgb(96,137,226)",
             "rgb(60,97,218)",
             "rgb(112,153,227)",
             "rgb(72,112,225)",
             "rgb(123,164,227)",
             "rgb(127,169,227)",
             "rgb(127,169,227)",
             "rgb(134,176,228)",
             "rgb(144,187,228)",
             "rgb(148,190,228)"
            ],
            [
             "rgb(7,11,148)",
             "rgb(32,52,182)",
             "rgb(33,54,183)",
             "rgb(33,54,183)",
             "rgb(44,72,198)",
             "rgb(49,79,204)",
             "rgb(51,82,206)",
             "rgb(55,90,212)",
             "rgb(59,95,217)",
             "rgb(59,96,218)",
             "rgb(60,97,218)",
             "rgb(61,98,219)",
             "rgb(61,99,220)",
             "rgb(61,99,220)",
             "rgb(64,103,224)",
             "rgb(65,105,225)",
             "rgb(66,106,225)",
             "rgb(66,106,225)",
             "rgb(67,107,225)",
             "rgb(70,110,225)",
             "rgb(71,111,225)",
             "rgb(71,111,225)",
             "rgb(72,112,225)",
             "rgb(73,113,225)",
             "rgb(74,114,225)",
             "rgb(75,116,225)",
             "rgb(76,117,225)",
             "rgb(77,118,225)",
             "rgb(79,119,225)",
             "rgb(82,122,225)",
             "rgb(83,123,225)",
             "rgb(84,124,225)",
             "rgb(87,128,226)",
             "rgb(92,132,226)",
             "rgb(92,132,226)",
             "rgb(96,137,226)",
             "rgb(100,141,226)",
             "rgb(101,142,226)",
             "rgb(107,148,226)",
             "rgb(107,148,226)",
             "rgb(110,151,227)",
             "rgb(112,153,227)",
             "rgb(121,162,227)",
             "rgb(127,169,227)",
             "rgb(129,171,228)",
             "rgb(131,173,228)",
             "rgb(131,173,228)",
             "rgb(131,173,228)",
             "rgb(149,191,228)",
             "rgb(163,206,229)"
            ]
           ]
          },
          "font": {
           "color": "#FFFFFF",
           "size": 11
          },
          "height": 30,
          "values": [
           [
            "Pittsburgh",
            "New York",
            "New Orleans",
            "Memphis",
            "Hartford",
            "Cleveland",
            "Denver",
            "San Antonio",
            "Louisville",
            "Philadelphia",
            "Houston",
            "St. Louis",
            "Indianapolis",
            "Raleigh",
            "Kansas City",
            "Dallas",
            "Cape Coral",
            "Birmingham",
            "Austin",
            "Baltimore",
            "Richmond",
            "Nashville",
            "Miami",
            "Chicago",
            "Virginia Beach",
            "Milwaukee",
            "Atlanta",
            "Orlando",
            "Columbus",
            "Jacksonville",
            "Providence",
            "Washington",
            "Oklahoma City",
            "Boston",
            "Minneapolis",
            "Las Vegas",
            "Detroit",
            "Tampa",
            "Phoenix",
            "North Port",
            "Seattle",
            "Charlotte",
            "Portland",
            "Cincinnati",
            "Riverside",
            "Los Angeles",
            "Sacramento",
            "San Diego",
            "San Francisco",
            "San Jose"
           ],
           [
            1.17,
            1.51,
            1.83,
            1.34,
            1.19,
            1.34,
            1.49,
            1.34,
            1.38,
            1.45,
            1.39,
            1.28,
            1.34,
            1.65,
            1.16,
            1.17,
            1.06,
            1.18,
            1.14,
            1.13,
            1.2,
            1.29,
            1.1,
            0.97,
            1.13,
            0.91,
            1.72,
            1.07,
            1.03,
            1.13,
            1.14,
            0.89,
            0.99,
            0.99,
            0.94,
            0.95,
            1.24,
            0.92,
            0.87,
            0.91,
            0.83,
            1.37,
            0.68,
            1.08,
            0.54,
            0.43,
            0.47,
            0.45,
            0.32,
            0.31
           ],
           [
            1.58,
            1.43,
            1.51,
            1.19,
            1.04,
            1.13,
            1.49,
            1.23,
            1.08,
            1.36,
            1.19,
            1.32,
            1.06,
            1.81,
            1.2,
            1.17,
            1,
            1.09,
            1.14,
            1.03,
            1.23,
            1.15,
            1.24,
            0.99,
            1.17,
            1.01,
            1.63,
            1,
            1.03,
            1.09,
            1.12,
            0.87,
            0.83,
            0.97,
            0.82,
            0.81,
            0.94,
            0.99,
            0.77,
            0.84,
            0.78,
            1.43,
            0.58,
            1.05,
            0.53,
            0.41,
            0.44,
            0.47,
            0.31,
            0.28
           ],
           [
            1.23,
            1.55,
            1.63,
            1.16,
            1.22,
            1.18,
            1.71,
            1.36,
            1.42,
            1.14,
            1.26,
            1.11,
            1.17,
            1.41,
            1.08,
            1.12,
            0.87,
            1.23,
            1.18,
            0.91,
            1.16,
            1.13,
            1.02,
            0.95,
            1.11,
            1.05,
            1.6,
            1.08,
            1.05,
            0.94,
            1.15,
            0.88,
            1.08,
            0.99,
            0.99,
            0.77,
            0.98,
            0.95,
            0.85,
            0.97,
            0.8,
            1.33,
            0.56,
            1.05,
            0.52,
            0.49,
            0.68,
            0.47,
            0.37,
            0.3
           ],
           [
            1.76,
            1.61,
            1.66,
            1.22,
            1.18,
            1.09,
            1.65,
            1.14,
            1.49,
            1.32,
            1.35,
            1.19,
            1.43,
            1.39,
            1.22,
            1.18,
            1.03,
            1.03,
            1.21,
            1.38,
            1.53,
            1.24,
            1.13,
            1.08,
            1.13,
            1.23,
            1.45,
            1.19,
            1.09,
            1.09,
            1.26,
            0.9,
            1.06,
            1.13,
            0.91,
            0.81,
            0.91,
            1.05,
            0.79,
            0.99,
            0.99,
            1.43,
            0.54,
            1.34,
            0.47,
            0.42,
            0.41,
            0.43,
            0.28,
            0.33
           ],
           [
            1.37,
            1.57,
            2.01,
            1.27,
            0.93,
            1.07,
            1.25,
            1.16,
            1.4,
            1.26,
            1.36,
            1.12,
            1.24,
            1.27,
            1.11,
            1.04,
            0.99,
            1.15,
            0.92,
            0.97,
            1.21,
            1.18,
            0.94,
            1,
            1.05,
            1.18,
            1.3,
            1.29,
            0.94,
            1.14,
            1.19,
            0.9,
            0.85,
            0.97,
            0.82,
            0.69,
            0.85,
            1.04,
            0.69,
            0.73,
            0.71,
            1.07,
            0.56,
            0.93,
            0.46,
            0.42,
            0.42,
            0.36,
            0.26,
            0.23
           ],
           [
            1.89,
            1.5,
            1.48,
            1.48,
            1.31,
            1.24,
            1.21,
            1.14,
            1.09,
            1.08,
            1.07,
            1.06,
            1.05,
            1.05,
            1.01,
            1,
            0.99,
            0.99,
            0.98,
            0.95,
            0.94,
            0.94,
            0.93,
            0.92,
            0.91,
            0.9,
            0.89,
            0.88,
            0.87,
            0.84,
            0.83,
            0.82,
            0.79,
            0.75,
            0.75,
            0.71,
            0.67,
            0.66,
            0.61,
            0.61,
            0.58,
            0.56,
            0.48,
            0.42,
            0.4,
            0.38,
            0.38,
            0.38,
            0.22,
            0.09
           ]
          ]
         },
         "header": {
          "align": "center",
          "fill": {
           "color": "#080D16"
          },
          "font": {
           "color": "#FFFFFF",
           "size": 12
          },
          "height": 30,
          "values": [
           "<b>Market</b>",
           "<b>Oct `23</b>",
           "<b>Nov `23</b>",
           "<b>Dec `23</b>",
           "<b>Jan `24</b>",
           "<b>Feb `24</b>",
           "<b>Mar `24</b>"
          ]
         },
         "type": "table"
        }
       ],
       "layout": {
        "height": 1600,
        "images": [
         {
          "sizex": 0.3,
          "sizey": 0.2,
          "source": "https://parcllabs-assets.s3.amazonaws.com/powered-by-parcllabs-api-logo-white.png",
          "x": 0.5,
          "xanchor": "center",
          "xref": "paper",
          "y": 1.02,
          "yanchor": "bottom",
          "yref": "paper"
         }
        ],
        "margin": {
         "b": 10,
         "l": 10,
         "r": 10,
         "t": 120
        },
        "paper_bgcolor": "#080D16",
        "template": {
         "data": {
          "bar": [
           {
            "error_x": {
             "color": "#2a3f5f"
            },
            "error_y": {
             "color": "#2a3f5f"
            },
            "marker": {
             "line": {
              "color": "#E5ECF6",
              "width": 0.5
             },
             "pattern": {
              "fillmode": "overlay",
              "size": 10,
              "solidity": 0.2
             }
            },
            "type": "bar"
           }
          ],
          "barpolar": [
           {
            "marker": {
             "line": {
              "color": "#E5ECF6",
              "width": 0.5
             },
             "pattern": {
              "fillmode": "overlay",
              "size": 10,
              "solidity": 0.2
             }
            },
            "type": "barpolar"
           }
          ],
          "carpet": [
           {
            "aaxis": {
             "endlinecolor": "#2a3f5f",
             "gridcolor": "white",
             "linecolor": "white",
             "minorgridcolor": "white",
             "startlinecolor": "#2a3f5f"
            },
            "baxis": {
             "endlinecolor": "#2a3f5f",
             "gridcolor": "white",
             "linecolor": "white",
             "minorgridcolor": "white",
             "startlinecolor": "#2a3f5f"
            },
            "type": "carpet"
           }
          ],
          "choropleth": [
           {
            "colorbar": {
             "outlinewidth": 0,
             "ticks": ""
            },
            "type": "choropleth"
           }
          ],
          "contour": [
           {
            "colorbar": {
             "outlinewidth": 0,
             "ticks": ""
            },
            "colorscale": [
             [
              0,
              "#0d0887"
             ],
             [
              0.1111111111111111,
              "#46039f"
             ],
             [
              0.2222222222222222,
              "#7201a8"
             ],
             [
              0.3333333333333333,
              "#9c179e"
             ],
             [
              0.4444444444444444,
              "#bd3786"
             ],
             [
              0.5555555555555556,
              "#d8576b"
             ],
             [
              0.6666666666666666,
              "#ed7953"
             ],
             [
              0.7777777777777778,
              "#fb9f3a"
             ],
             [
              0.8888888888888888,
              "#fdca26"
             ],
             [
              1,
              "#f0f921"
             ]
            ],
            "type": "contour"
           }
          ],
          "contourcarpet": [
           {
            "colorbar": {
             "outlinewidth": 0,
             "ticks": ""
            },
            "type": "contourcarpet"
           }
          ],
          "heatmap": [
           {
            "colorbar": {
             "outlinewidth": 0,
             "ticks": ""
            },
            "colorscale": [
             [
              0,
              "#0d0887"
             ],
             [
              0.1111111111111111,
              "#46039f"
             ],
             [
              0.2222222222222222,
              "#7201a8"
             ],
             [
              0.3333333333333333,
              "#9c179e"
             ],
             [
              0.4444444444444444,
              "#bd3786"
             ],
             [
              0.5555555555555556,
              "#d8576b"
             ],
             [
              0.6666666666666666,
              "#ed7953"
             ],
             [
              0.7777777777777778,
              "#fb9f3a"
             ],
             [
              0.8888888888888888,
              "#fdca26"
             ],
             [
              1,
              "#f0f921"
             ]
            ],
            "type": "heatmap"
           }
          ],
          "heatmapgl": [
           {
            "colorbar": {
             "outlinewidth": 0,
             "ticks": ""
            },
            "colorscale": [
             [
              0,
              "#0d0887"
             ],
             [
              0.1111111111111111,
              "#46039f"
             ],
             [
              0.2222222222222222,
              "#7201a8"
             ],
             [
              0.3333333333333333,
              "#9c179e"
             ],
             [
              0.4444444444444444,
              "#bd3786"
             ],
             [
              0.5555555555555556,
              "#d8576b"
             ],
             [
              0.6666666666666666,
              "#ed7953"
             ],
             [
              0.7777777777777778,
              "#fb9f3a"
             ],
             [
              0.8888888888888888,
              "#fdca26"
             ],
             [
              1,
              "#f0f921"
             ]
            ],
            "type": "heatmapgl"
           }
          ],
          "histogram": [
           {
            "marker": {
             "pattern": {
              "fillmode": "overlay",
              "size": 10,
              "solidity": 0.2
             }
            },
            "type": "histogram"
           }
          ],
          "histogram2d": [
           {
            "colorbar": {
             "outlinewidth": 0,
             "ticks": ""
            },
            "colorscale": [
             [
              0,
              "#0d0887"
             ],
             [
              0.1111111111111111,
              "#46039f"
             ],
             [
              0.2222222222222222,
              "#7201a8"
             ],
             [
              0.3333333333333333,
              "#9c179e"
             ],
             [
              0.4444444444444444,
              "#bd3786"
             ],
             [
              0.5555555555555556,
              "#d8576b"
             ],
             [
              0.6666666666666666,
              "#ed7953"
             ],
             [
              0.7777777777777778,
              "#fb9f3a"
             ],
             [
              0.8888888888888888,
              "#fdca26"
             ],
             [
              1,
              "#f0f921"
             ]
            ],
            "type": "histogram2d"
           }
          ],
          "histogram2dcontour": [
           {
            "colorbar": {
             "outlinewidth": 0,
             "ticks": ""
            },
            "colorscale": [
             [
              0,
              "#0d0887"
             ],
             [
              0.1111111111111111,
              "#46039f"
             ],
             [
              0.2222222222222222,
              "#7201a8"
             ],
             [
              0.3333333333333333,
              "#9c179e"
             ],
             [
              0.4444444444444444,
              "#bd3786"
             ],
             [
              0.5555555555555556,
              "#d8576b"
             ],
             [
              0.6666666666666666,
              "#ed7953"
             ],
             [
              0.7777777777777778,
              "#fb9f3a"
             ],
             [
              0.8888888888888888,
              "#fdca26"
             ],
             [
              1,
              "#f0f921"
             ]
            ],
            "type": "histogram2dcontour"
           }
          ],
          "mesh3d": [
           {
            "colorbar": {
             "outlinewidth": 0,
             "ticks": ""
            },
            "type": "mesh3d"
           }
          ],
          "parcoords": [
           {
            "line": {
             "colorbar": {
              "outlinewidth": 0,
              "ticks": ""
             }
            },
            "type": "parcoords"
           }
          ],
          "pie": [
           {
            "automargin": true,
            "type": "pie"
           }
          ],
          "scatter": [
           {
            "fillpattern": {
             "fillmode": "overlay",
             "size": 10,
             "solidity": 0.2
            },
            "type": "scatter"
           }
          ],
          "scatter3d": [
           {
            "line": {
             "colorbar": {
              "outlinewidth": 0,
              "ticks": ""
             }
            },
            "marker": {
             "colorbar": {
              "outlinewidth": 0,
              "ticks": ""
             }
            },
            "type": "scatter3d"
           }
          ],
          "scattercarpet": [
           {
            "marker": {
             "colorbar": {
              "outlinewidth": 0,
              "ticks": ""
             }
            },
            "type": "scattercarpet"
           }
          ],
          "scattergeo": [
           {
            "marker": {
             "colorbar": {
              "outlinewidth": 0,
              "ticks": ""
             }
            },
            "type": "scattergeo"
           }
          ],
          "scattergl": [
           {
            "marker": {
             "colorbar": {
              "outlinewidth": 0,
              "ticks": ""
             }
            },
            "type": "scattergl"
           }
          ],
          "scattermapbox": [
           {
            "marker": {
             "colorbar": {
              "outlinewidth": 0,
              "ticks": ""
             }
            },
            "type": "scattermapbox"
           }
          ],
          "scatterpolar": [
           {
            "marker": {
             "colorbar": {
              "outlinewidth": 0,
              "ticks": ""
             }
            },
            "type": "scatterpolar"
           }
          ],
          "scatterpolargl": [
           {
            "marker": {
             "colorbar": {
              "outlinewidth": 0,
              "ticks": ""
             }
            },
            "type": "scatterpolargl"
           }
          ],
          "scatterternary": [
           {
            "marker": {
             "colorbar": {
              "outlinewidth": 0,
              "ticks": ""
             }
            },
            "type": "scatterternary"
           }
          ],
          "surface": [
           {
            "colorbar": {
             "outlinewidth": 0,
             "ticks": ""
            },
            "colorscale": [
             [
              0,
              "#0d0887"
             ],
             [
              0.1111111111111111,
              "#46039f"
             ],
             [
              0.2222222222222222,
              "#7201a8"
             ],
             [
              0.3333333333333333,
              "#9c179e"
             ],
             [
              0.4444444444444444,
              "#bd3786"
             ],
             [
              0.5555555555555556,
              "#d8576b"
             ],
             [
              0.6666666666666666,
              "#ed7953"
             ],
             [
              0.7777777777777778,
              "#fb9f3a"
             ],
             [
              0.8888888888888888,
              "#fdca26"
             ],
             [
              1,
              "#f0f921"
             ]
            ],
            "type": "surface"
           }
          ],
          "table": [
           {
            "cells": {
             "fill": {
              "color": "#EBF0F8"
             },
             "line": {
              "color": "white"
             }
            },
            "header": {
             "fill": {
              "color": "#C8D4E3"
             },
             "line": {
              "color": "white"
             }
            },
            "type": "table"
           }
          ]
         },
         "layout": {
          "annotationdefaults": {
           "arrowcolor": "#2a3f5f",
           "arrowhead": 0,
           "arrowwidth": 1
          },
          "autotypenumbers": "strict",
          "coloraxis": {
           "colorbar": {
            "outlinewidth": 0,
            "ticks": ""
           }
          },
          "colorscale": {
           "diverging": [
            [
             0,
             "#8e0152"
            ],
            [
             0.1,
             "#c51b7d"
            ],
            [
             0.2,
             "#de77ae"
            ],
            [
             0.3,
             "#f1b6da"
            ],
            [
             0.4,
             "#fde0ef"
            ],
            [
             0.5,
             "#f7f7f7"
            ],
            [
             0.6,
             "#e6f5d0"
            ],
            [
             0.7,
             "#b8e186"
            ],
            [
             0.8,
             "#7fbc41"
            ],
            [
             0.9,
             "#4d9221"
            ],
            [
             1,
             "#276419"
            ]
           ],
           "sequential": [
            [
             0,
             "#0d0887"
            ],
            [
             0.1111111111111111,
             "#46039f"
            ],
            [
             0.2222222222222222,
             "#7201a8"
            ],
            [
             0.3333333333333333,
             "#9c179e"
            ],
            [
             0.4444444444444444,
             "#bd3786"
            ],
            [
             0.5555555555555556,
             "#d8576b"
            ],
            [
             0.6666666666666666,
             "#ed7953"
            ],
            [
             0.7777777777777778,
             "#fb9f3a"
            ],
            [
             0.8888888888888888,
             "#fdca26"
            ],
            [
             1,
             "#f0f921"
            ]
           ],
           "sequentialminus": [
            [
             0,
             "#0d0887"
            ],
            [
             0.1111111111111111,
             "#46039f"
            ],
            [
             0.2222222222222222,
             "#7201a8"
            ],
            [
             0.3333333333333333,
             "#9c179e"
            ],
            [
             0.4444444444444444,
             "#bd3786"
            ],
            [
             0.5555555555555556,
             "#d8576b"
            ],
            [
             0.6666666666666666,
             "#ed7953"
            ],
            [
             0.7777777777777778,
             "#fb9f3a"
            ],
            [
             0.8888888888888888,
             "#fdca26"
            ],
            [
             1,
             "#f0f921"
            ]
           ]
          },
          "colorway": [
           "#636efa",
           "#EF553B",
           "#00cc96",
           "#ab63fa",
           "#FFA15A",
           "#19d3f3",
           "#FF6692",
           "#B6E880",
           "#FF97FF",
           "#FECB52"
          ],
          "font": {
           "color": "#2a3f5f"
          },
          "geo": {
           "bgcolor": "white",
           "lakecolor": "white",
           "landcolor": "#E5ECF6",
           "showlakes": true,
           "showland": true,
           "subunitcolor": "white"
          },
          "hoverlabel": {
           "align": "left"
          },
          "hovermode": "closest",
          "mapbox": {
           "style": "light"
          },
          "paper_bgcolor": "white",
          "plot_bgcolor": "#E5ECF6",
          "polar": {
           "angularaxis": {
            "gridcolor": "white",
            "linecolor": "white",
            "ticks": ""
           },
           "bgcolor": "#E5ECF6",
           "radialaxis": {
            "gridcolor": "white",
            "linecolor": "white",
            "ticks": ""
           }
          },
          "scene": {
           "xaxis": {
            "backgroundcolor": "#E5ECF6",
            "gridcolor": "white",
            "gridwidth": 2,
            "linecolor": "white",
            "showbackground": true,
            "ticks": "",
            "zerolinecolor": "white"
           },
           "yaxis": {
            "backgroundcolor": "#E5ECF6",
            "gridcolor": "white",
            "gridwidth": 2,
            "linecolor": "white",
            "showbackground": true,
            "ticks": "",
            "zerolinecolor": "white"
           },
           "zaxis": {
            "backgroundcolor": "#E5ECF6",
            "gridcolor": "white",
            "gridwidth": 2,
            "linecolor": "white",
            "showbackground": true,
            "ticks": "",
            "zerolinecolor": "white"
           }
          },
          "shapedefaults": {
           "line": {
            "color": "#2a3f5f"
           }
          },
          "ternary": {
           "aaxis": {
            "gridcolor": "white",
            "linecolor": "white",
            "ticks": ""
           },
           "baxis": {
            "gridcolor": "white",
            "linecolor": "white",
            "ticks": ""
           },
           "bgcolor": "#E5ECF6",
           "caxis": {
            "gridcolor": "white",
            "linecolor": "white",
            "ticks": ""
           }
          },
          "title": {
           "x": 0.05
          },
          "xaxis": {
           "automargin": true,
           "gridcolor": "white",
           "linecolor": "white",
           "ticks": "",
           "title": {
            "standoff": 15
           },
           "zerolinecolor": "white",
           "zerolinewidth": 2
          },
          "yaxis": {
           "automargin": true,
           "gridcolor": "white",
           "linecolor": "white",
           "ticks": "",
           "title": {
            "standoff": 15
           },
           "zerolinecolor": "white",
           "zerolinewidth": 2
          }
         }
        },
        "title": {
         "font": {
          "color": "#FFFFFF"
         },
         "text": "Investor Purchase to Sale Ratio (Acquisitions/Dispositions)",
         "x": 0.5,
         "xanchor": "center",
         "y": 0.98,
         "yanchor": "top"
        },
        "width": 900
       }
      },
      "image/png": "[encoded data removed]",
      "text/html": [
       "<div>                            <div id=\"40badf98-316e-471f-b467-b25c517f8362\" class=\"plotly-graph-div\" style=\"height:1600px; width:900px;\"></div>            <script type=\"text/javascript\">                require([\"plotly\"], function(Plotly) {                    window.PLOTLYENV=window.PLOTLYENV || {};                                    if (document.getElementById(\"40badf98-316e-471f-b467-b25c517f8362\")) {                    Plotly.newPlot(                        \"40badf98-316e-471f-b467-b25c517f8362\",                        [{\"cells\":{\"align\":\"center\",\"fill\":{\"color\":[[\"#080D16\",\"#080D16\",\"#080D16\",\"#080D16\",\"#080D16\",\"#080D16\",\"#080D16\",\"#080D16\",\"#080D16\",\"#080D16\",\"#080D16\",\"#080D16\",\"#080D16\",\"#080D16\",\"#080D16\",\"#080D16\",\"#080D16\",\"#080D16\",\"#080D16\",\"#080D16\",\"#080D16\",\"#080D16\",\"#080D16\",\"#080D16\",\"#080D16\",\"#080D16\",\"#080D16\",\"#080D16\",\"#080D16\",\"#080D16\",\"#080D16\",\"#080D16\",\"#080D16\",\"#080D16\",\"#080D16\",\"#080D16\",\"#080D16\",\"#080D16\",\"#080D16\",\"#080D16\",\"#080D16\",\"#080D16\",\"#080D16\",\"#080D16\",\"#080D16\",\"#080D16\",\"#080D16\",\"#080D16\",\"#080D16\",\"#080D16\"],[\"rgb(53,87,210)\",\"rgb(31,51,181)\",\"rgb(11,17,153)\",\"rgb(42,69,195)\",\"rgb(52,85,208)\",\"rgb(42,69,195)\",\"rgb(33,53,182)\",\"rgb(42,69,195)\",\"rgb(40,65,192)\",\"rgb(35,57,186)\",\"rgb(39,64,191)\",\"rgb(46,75,200)\",\"rgb(42,69,195)\",\"rgb(22,36,169)\",\"rgb(54,88,211)\",\"rgb(53,87,210)\",\"rgb(61,98,219)\",\"rgb(53,86,209)\",\"rgb(55,90,212)\",\"rgb(56,91,213)\",\"rgb(52,84,207)\",\"rgb(46,74,200)\",\"rgb(58,94,216)\",\"rgb(68,108,225)\",\"rgb(56,91,213)\",\"rgb(74,114,225)\",\"rgb(18,29,163)\",\"rgb(60,97,218)\",\"rgb(63,101,222)\",\"rgb(56,91,213)\",\"rgb(55,90,212)\",\"rgb(76,117,225)\",\"rgb(66,106,225)\",\"rgb(66,106,225)\",\"rgb(71,111,225)\",\"rgb(70,110,225)\",\"rgb(49,79,204)\",\"rgb(73,113,225)\",\"rgb(79,119,225)\",\"rgb(74,114,225)\",\"rgb(83,123,225)\",\"rgb(40,66,193)\",\"rgb(99,140,226)\",\"rgb(59,96,218)\",\"rgb(114,156,227)\",\"rgb(126,168,227)\",\"rgb(122,163,227)\",\"rgb(124,166,227)\",\"rgb(138,180,228)\",\"rgb(139,181,228)\"],[\"rgb(27,44,175)\",\"rgb(37,59,188)\",\"rgb(31,51,181)\",\"rgb(52,85,208)\",\"rgb(62,100,221)\",\"rgb(56,91,213)\",\"rgb(33,53,182)\",\"rgb(50,80,205)\",\"rgb(59,96,218)\",\"rgb(41,67,194)\",\"rgb(52,85,208)\",\"rgb(44,71,197)\",\"rgb(61,98,219)\",\"rgb(12,19,155)\",\"rgb(52,84,207)\",\"rgb(53,87,210)\",\"rgb(65,105,225)\",\"rgb(59,95,217)\",\"rgb(55,90,212)\",\"rgb(63,101,222)\",\"rgb(50,80,205)\",\"rgb(55,89,212)\",\"rgb(49,79,204)\",\"rgb(66,106,225)\",\"rgb(53,87,210)\",\"rgb(64,103,224)\",\"rgb(24,38,170)\",\"rgb(65,105,225)\",\"rgb(63,101,222)\",\"rgb(59,95,217)\",\"rgb(57,92,214)\",\"rgb(79,119,225)\",\"rgb(83,123,225)\",\"rgb(68,108,225)\",\"rgb(84,124,225)\",\"rgb(85,126,225)\",\"rgb(71,111,225)\",\"rgb(66,106,225)\",\"rgb(89,130,226)\",\"rgb(82,122,225)\",\"rgb(88,129,226)\",\"rgb(37,59,188)\",\"rgb(110,151,227)\",\"rgb(61,99,220)\",\"rgb(115,157,227)\",\"rgb(128,170,227)\",\"rgb(125,167,227)\",\"rgb(122,163,227)\",\"rgb(139,181,228)\",\"rgb(142,184,228)\"],[\"rgb(50,80,205)\",\"rgb(29,47,177)\",\"rgb(24,38,170)\",\"rgb(54,88,211)\",\"rgb(50,81,206)\",\"rgb(53,86,209)\",\"rgb(18,30,163)\",\"rgb(41,67,194)\",\"rgb(37,60,188)\",\"rgb(55,90,212)\",\"rgb(48,77,202)\",\"rgb(57,93,215)\",\"rgb(53,87,210)\",\"rgb(38,61,189)\",\"rgb(59,96,218)\",\"rgb(57,92,214)\",\"rgb(79,119,225)\",\"rgb(50,80,205)\",\"rgb(53,86,209)\",\"rgb(74,114,225)\",\"rgb(54,88,211)\",\"rgb(56,91,213)\",\"rgb(63,102,223)\",\"rgb(70,110,225)\",\"rgb(57,93,215)\",\"rgb(61,99,220)\",\"rgb(25,41,173)\",\"rgb(59,96,218)\",\"rgb(61,99,220)\",\"rgb(71,111,225)\",\"rgb(55,89,212)\",\"rgb(77,118,225)\",\"rgb(59,96,218)\",\"rgb(66,106,225)\",\"rgb(66,106,225)\",\"rgb(89,130,226)\",\"rgb(67,107,225)\",\"rgb(70,110,225)\",\"rgb(81,121,225)\",\"rgb(68,108,225)\",\"rgb(86,127,226)\",\"rgb(43,70,196)\",\"rgb(112,153,227)\",\"rgb(61,99,220)\",\"rgb(116,158,227)\",\"rgb(120,161,227)\",\"rgb(99,140,226)\",\"rgb(122,163,227)\",\"rgb(133,174,228)\",\"rgb(140,182,228)\"],[\"rgb(15,25,159)\",\"rgb(25,40,172)\",\"rgb(22,35,168)\",\"rgb(50,81,206)\",\"rgb(53,86,209)\",\"rgb(59,95,217)\",\"rgb(22,36,169)\",\"rgb(55,90,212)\",\"rgb(33,53,182)\",\"rgb(44,71,197)\",\"rgb(42,68,194)\",\"rgb(52,85,208)\",\"rgb(37,59,188)\",\"rgb(39,64,191)\",\"rgb(50,81,206)\",\"rgb(53,86,209)\",\"rgb(63,101,222)\",\"rgb(63,101,222)\",\"rgb(51,82,206)\",\"rgb(40,65,192)\",\"rgb(30,49,179)\",\"rgb(49,79,204)\",\"rgb(56,91,213)\",\"rgb(59,96,218)\",\"rgb(56,91,213)\",\"rgb(50,80,205)\",\"rgb(35,57,186)\",\"rgb(52,85,208)\",\"rgb(59,95,217)\",\"rgb(59,95,217)\",\"rgb(48,77,202)\",\"rgb(75,116,225)\",\"rgb(61,98,219)\",\"rgb(56,91,213)\",\"rgb(74,114,225)\",\"rgb(85,126,225)\",\"rgb(74,114,225)\",\"rgb(61,99,220)\",\"rgb(87,128,226)\",\"rgb(66,106,225)\",\"rgb(66,106,225)\",\"rgb(37,59,188)\",\"rgb(114,156,227)\",\"rgb(42,69,195)\",\"rgb(122,163,227)\",\"rgb(127,169,227)\",\"rgb(128,170,227)\",\"rgb(126,168,227)\",\"rgb(142,184,228)\",\"rgb(137,179,228)\"],[\"rgb(40,66,193)\",\"rgb(27,45,175)\",\"rgb(0,0,138)\",\"rgb(47,76,201)\",\"rgb(72,112,225)\",\"rgb(60,97,218)\",\"rgb(48,78,203)\",\"rgb(54,88,211)\",\"rgb(39,63,190)\",\"rgb(48,77,202)\",\"rgb(41,67,194)\",\"rgb(57,92,214)\",\"rgb(49,79,204)\",\"rgb(47,76,201)\",\"rgb(57,93,215)\",\"rgb(62,100,221)\",\"rgb(66,106,225)\",\"rgb(55,89,212)\",\"rgb(73,113,225)\",\"rgb(68,108,225)\",\"rgb(51,82,206)\",\"rgb(53,86,209)\",\"rgb(71,111,225)\",\"rgb(65,105,225)\",\"rgb(61,99,220)\",\"rgb(53,86,209)\",\"rgb(45,73,199)\",\"rgb(46,74,200)\",\"rgb(71,111,225)\",\"rgb(55,90,212)\",\"rgb(52,85,208)\",\"rgb(75,116,225)\",\"rgb(81,121,225)\",\"rgb(68,108,225)\",\"rgb(84,124,225)\",\"rgb(98,139,226)\",\"rgb(81,121,225)\",\"rgb(62,100,221)\",\"rgb(98,139,226)\",\"rgb(94,134,226)\",\"rgb(96,137,226)\",\"rgb(60,97,218)\",\"rgb(112,153,227)\",\"rgb(72,112,225)\",\"rgb(123,164,227)\",\"rgb(127,169,227)\",\"rgb(127,169,227)\",\"rgb(134,176,228)\",\"rgb(144,187,228)\",\"rgb(148,190,228)\"],[\"rgb(7,11,148)\",\"rgb(32,52,182)\",\"rgb(33,54,183)\",\"rgb(33,54,183)\",\"rgb(44,72,198)\",\"rgb(49,79,204)\",\"rgb(51,82,206)\",\"rgb(55,90,212)\",\"rgb(59,95,217)\",\"rgb(59,96,218)\",\"rgb(60,97,218)\",\"rgb(61,98,219)\",\"rgb(61,99,220)\",\"rgb(61,99,220)\",\"rgb(64,103,224)\",\"rgb(65,105,225)\",\"rgb(66,106,225)\",\"rgb(66,106,225)\",\"rgb(67,107,225)\",\"rgb(70,110,225)\",\"rgb(71,111,225)\",\"rgb(71,111,225)\",\"rgb(72,112,225)\",\"rgb(73,113,225)\",\"rgb(74,114,225)\",\"rgb(75,116,225)\",\"rgb(76,117,225)\",\"rgb(77,118,225)\",\"rgb(79,119,225)\",\"rgb(82,122,225)\",\"rgb(83,123,225)\",\"rgb(84,124,225)\",\"rgb(87,128,226)\",\"rgb(92,132,226)\",\"rgb(92,132,226)\",\"rgb(96,137,226)\",\"rgb(100,141,226)\",\"rgb(101,142,226)\",\"rgb(107,148,226)\",\"rgb(107,148,226)\",\"rgb(110,151,227)\",\"rgb(112,153,227)\",\"rgb(121,162,227)\",\"rgb(127,169,227)\",\"rgb(129,171,228)\",\"rgb(131,173,228)\",\"rgb(131,173,228)\",\"rgb(131,173,228)\",\"rgb(149,191,228)\",\"rgb(163,206,229)\"]]},\"font\":{\"color\":\"#FFFFFF\",\"size\":11},\"height\":30,\"values\":[[\"Pittsburgh\",\"New York\",\"New Orleans\",\"Memphis\",\"Hartford\",\"Cleveland\",\"Denver\",\"San Antonio\",\"Louisville\",\"Philadelphia\",\"Houston\",\"St. Louis\",\"Indianapolis\",\"Raleigh\",\"Kansas City\",\"Dallas\",\"Cape Coral\",\"Birmingham\",\"Austin\",\"Baltimore\",\"Richmond\",\"Nashville\",\"Miami\",\"Chicago\",\"Virginia Beach\",\"Milwaukee\",\"Atlanta\",\"Orlando\",\"Columbus\",\"Jacksonville\",\"Providence\",\"Washington\",\"Oklahoma City\",\"Boston\",\"Minneapolis\",\"Las Vegas\",\"Detroit\",\"Tampa\",\"Phoenix\",\"North Port\",\"Seattle\",\"Charlotte\",\"Portland\",\"Cincinnati\",\"Riverside\",\"Los Angeles\",\"Sacramento\",\"San Diego\",\"San Francisco\",\"San Jose\"],[1.17,1.51,1.83,1.34,1.19,1.34,1.49,1.34,1.38,1.45,1.39,1.28,1.34,1.65,1.16,1.17,1.06,1.18,1.14,1.13,1.2,1.29,1.1,0.97,1.13,0.91,1.72,1.07,1.03,1.13,1.14,0.89,0.99,0.99,0.94,0.95,1.24,0.92,0.87,0.91,0.83,1.37,0.68,1.08,0.54,0.43,0.47,0.45,0.32,0.31],[1.58,1.43,1.51,1.19,1.04,1.13,1.49,1.23,1.08,1.36,1.19,1.32,1.06,1.81,1.2,1.17,1.0,1.09,1.14,1.03,1.23,1.15,1.24,0.99,1.17,1.01,1.63,1.0,1.03,1.09,1.12,0.87,0.83,0.97,0.82,0.81,0.94,0.99,0.77,0.84,0.78,1.43,0.58,1.05,0.53,0.41,0.44,0.47,0.31,0.28],[1.23,1.55,1.63,1.16,1.22,1.18,1.71,1.36,1.42,1.14,1.26,1.11,1.17,1.41,1.08,1.12,0.87,1.23,1.18,0.91,1.16,1.13,1.02,0.95,1.11,1.05,1.6,1.08,1.05,0.94,1.15,0.88,1.08,0.99,0.99,0.77,0.98,0.95,0.85,0.97,0.8,1.33,0.56,1.05,0.52,0.49,0.68,0.47,0.37,0.3],[1.76,1.61,1.66,1.22,1.18,1.09,1.65,1.14,1.49,1.32,1.35,1.19,1.43,1.39,1.22,1.18,1.03,1.03,1.21,1.38,1.53,1.24,1.13,1.08,1.13,1.23,1.45,1.19,1.09,1.09,1.26,0.9,1.06,1.13,0.91,0.81,0.91,1.05,0.79,0.99,0.99,1.43,0.54,1.34,0.47,0.42,0.41,0.43,0.28,0.33],[1.37,1.57,2.01,1.27,0.93,1.07,1.25,1.16,1.4,1.26,1.36,1.12,1.24,1.27,1.11,1.04,0.99,1.15,0.92,0.97,1.21,1.18,0.94,1.0,1.05,1.18,1.3,1.29,0.94,1.14,1.19,0.9,0.85,0.97,0.82,0.69,0.85,1.04,0.69,0.73,0.71,1.07,0.56,0.93,0.46,0.42,0.42,0.36,0.26,0.23],[1.89,1.5,1.48,1.48,1.31,1.24,1.21,1.14,1.09,1.08,1.07,1.06,1.05,1.05,1.01,1.0,0.99,0.99,0.98,0.95,0.94,0.94,0.93,0.92,0.91,0.9,0.89,0.88,0.87,0.84,0.83,0.82,0.79,0.75,0.75,0.71,0.67,0.66,0.61,0.61,0.58,0.56,0.48,0.42,0.4,0.38,0.38,0.38,0.22,0.09]]},\"header\":{\"align\":\"center\",\"fill\":{\"color\":\"#080D16\"},\"font\":{\"color\":\"#FFFFFF\",\"size\":12},\"height\":30,\"values\":[\"\\u003cb\\u003eMarket\\u003c\\u002fb\\u003e\",\"\\u003cb\\u003eOct `23\\u003c\\u002fb\\u003e\",\"\\u003cb\\u003eNov `23\\u003c\\u002fb\\u003e\",\"\\u003cb\\u003eDec `23\\u003c\\u002fb\\u003e\",\"\\u003cb\\u003eJan `24\\u003c\\u002fb\\u003e\",\"\\u003cb\\u003eFeb `24\\u003c\\u002fb\\u003e\",\"\\u003cb\\u003eMar `24\\u003c\\u002fb\\u003e\"]},\"type\":\"table\"}],                        {\"template\":{\"data\":{\"histogram2dcontour\":[{\"type\":\"histogram2dcontour\",\"colorbar\":{\"outlinewidth\":0,\"ticks\":\"\"},\"colorscale\":[[0.0,\"#0d0887\"],[0.1111111111111111,\"#46039f\"],[0.2222222222222222,\"#7201a8\"],[0.3333333333333333,\"#9c179e\"],[0.4444444444444444,\"#bd3786\"],[0.5555555555555556,\"#d8576b\"],[0.6666666666666666,\"#ed7953\"],[0.7777777777777778,\"#fb9f3a\"],[0.8888888888888888,\"#fdca26\"],[1.0,\"#f0f921\"]]}],\"choropleth\":[{\"type\":\"choropleth\",\"colorbar\":{\"outlinewidth\":0,\"ticks\":\"\"}}],\"histogram2d\":[{\"type\":\"histogram2d\",\"colorbar\":{\"outlinewidth\":0,\"ticks\":\"\"},\"colorscale\":[[0.0,\"#0d0887\"],[0.1111111111111111,\"#46039f\"],[0.2222222222222222,\"#7201a8\"],[0.3333333333333333,\"#9c179e\"],[0.4444444444444444,\"#bd3786\"],[0.5555555555555556,\"#d8576b\"],[0.6666666666666666,\"#ed7953\"],[0.7777777777777778,\"#fb9f3a\"],[0.8888888888888888,\"#fdca26\"],[1.0,\"#f0f921\"]]}],\"heatmap\":[{\"type\":\"heatmap\",\"colorbar\":{\"outlinewidth\":0,\"ticks\":\"\"},\"colorscale\":[[0.0,\"#0d0887\"],[0.1111111111111111,\"#46039f\"],[0.2222222222222222,\"#7201a8\"],[0.3333333333333333,\"#9c179e\"],[0.4444444444444444,\"#bd3786\"],[0.5555555555555556,\"#d8576b\"],[0.6666666666666666,\"#ed7953\"],[0.7777777777777778,\"#fb9f3a\"],[0.8888888888888888,\"#fdca26\"],[1.0,\"#f0f921\"]]}],\"heatmapgl\":[{\"type\":\"heatmapgl\",\"colorbar\":{\"outlinewidth\":0,\"ticks\":\"\"},\"colorscale\":[[0.0,\"#0d0887\"],[0.1111111111111111,\"#46039f\"],[0.2222222222222222,\"#7201a8\"],[0.3333333333333333,\"#9c179e\"],[0.4444444444444444,\"#bd3786\"],[0.5555555555555556,\"#d8576b\"],[0.6666666666666666,\"#ed7953\"],[0.7777777777777778,\"#fb9f3a\"],[0.8888888888888888,\"#fdca26\"],[1.0,\"#f0f921\"]]}],\"contourcarpet\":[{\"type\":\"contourcarpet\",\"colorbar\":{\"outlinewidth\":0,\"ticks\":\"\"}}],\"contour\":[{\"type\":\"contour\",\"colorbar\":{\"outlinewidth\":0,\"ticks\":\"\"},\"colorscale\":[[0.0,\"#0d0887\"],[0.1111111111111111,\"#46039f\"],[0.2222222222222222,\"#7201a8\"],[0.3333333333333333,\"#9c179e\"],[0.4444444444444444,\"#bd3786\"],[0.5555555555555556,\"#d8576b\"],[0.6666666666666666,\"#ed7953\"],[0.7777777777777778,\"#fb9f3a\"],[0.8888888888888888,\"#fdca26\"],[1.0,\"#f0f921\"]]}],\"surface\":[{\"type\":\"surface\",\"colorbar\":{\"outlinewidth\":0,\"ticks\":\"\"},\"colorscale\":[[0.0,\"#0d0887\"],[0.1111111111111111,\"#46039f\"],[0.2222222222222222,\"#7201a8\"],[0.3333333333333333,\"#9c179e\"],[0.4444444444444444,\"#bd3786\"],[0.5555555555555556,\"#d8576b\"],[0.6666666666666666,\"#ed7953\"],[0.7777777777777778,\"#fb9f3a\"],[0.8888888888888888,\"#fdca26\"],[1.0,\"#f0f921\"]]}],\"mesh3d\":[{\"type\":\"mesh3d\",\"colorbar\":{\"outlinewidth\":0,\"ticks\":\"\"}}],\"scatter\":[{\"fillpattern\":{\"fillmode\":\"overlay\",\"size\":10,\"solidity\":0.2},\"type\":\"scatter\"}],\"parcoords\":[{\"type\":\"parcoords\",\"line\":{\"colorbar\":{\"outlinewidth\":0,\"ticks\":\"\"}}}],\"scatterpolargl\":[{\"type\":\"scatterpolargl\",\"marker\":{\"colorbar\":{\"outlinewidth\":0,\"ticks\":\"\"}}}],\"bar\":[{\"error_x\":{\"color\":\"#2a3f5f\"},\"error_y\":{\"color\":\"#2a3f5f\"},\"marker\":{\"line\":{\"color\":\"#E5ECF6\",\"width\":0.5},\"pattern\":{\"fillmode\":\"overlay\",\"size\":10,\"solidity\":0.2}},\"type\":\"bar\"}],\"scattergeo\":[{\"type\":\"scattergeo\",\"marker\":{\"colorbar\":{\"outlinewidth\":0,\"ticks\":\"\"}}}],\"scatterpolar\":[{\"type\":\"scatterpolar\",\"marker\":{\"colorbar\":{\"outlinewidth\":0,\"ticks\":\"\"}}}],\"histogram\":[{\"marker\":{\"pattern\":{\"fillmode\":\"overlay\",\"size\":10,\"solidity\":0.2}},\"type\":\"histogram\"}],\"scattergl\":[{\"type\":\"scattergl\",\"marker\":{\"colorbar\":{\"outlinewidth\":0,\"ticks\":\"\"}}}],\"scatter3d\":[{\"type\":\"scatter3d\",\"line\":{\"colorbar\":{\"outlinewidth\":0,\"ticks\":\"\"}},\"marker\":{\"colorbar\":{\"outlinewidth\":0,\"ticks\":\"\"}}}],\"scattermapbox\":[{\"type\":\"scattermapbox\",\"marker\":{\"colorbar\":{\"outlinewidth\":0,\"ticks\":\"\"}}}],\"scatterternary\":[{\"type\":\"scatterternary\",\"marker\":{\"colorbar\":{\"outlinewidth\":0,\"ticks\":\"\"}}}],\"scattercarpet\":[{\"type\":\"scattercarpet\",\"marker\":{\"colorbar\":{\"outlinewidth\":0,\"ticks\":\"\"}}}],\"carpet\":[{\"aaxis\":{\"endlinecolor\":\"#2a3f5f\",\"gridcolor\":\"white\",\"linecolor\":\"white\",\"minorgridcolor\":\"white\",\"startlinecolor\":\"#2a3f5f\"},\"baxis\":{\"endlinecolor\":\"#2a3f5f\",\"gridcolor\":\"white\",\"linecolor\":\"white\",\"minorgridcolor\":\"white\",\"startlinecolor\":\"#2a3f5f\"},\"type\":\"carpet\"}],\"table\":[{\"cells\":{\"fill\":{\"color\":\"#EBF0F8\"},\"line\":{\"color\":\"white\"}},\"header\":{\"fill\":{\"color\":\"#C8D4E3\"},\"line\":{\"color\":\"white\"}},\"type\":\"table\"}],\"barpolar\":[{\"marker\":{\"line\":{\"color\":\"#E5ECF6\",\"width\":0.5},\"pattern\":{\"fillmode\":\"overlay\",\"size\":10,\"solidity\":0.2}},\"type\":\"barpolar\"}],\"pie\":[{\"automargin\":true,\"type\":\"pie\"}]},\"layout\":{\"autotypenumbers\":\"strict\",\"colorway\":[\"#636efa\",\"#EF553B\",\"#00cc96\",\"#ab63fa\",\"#FFA15A\",\"#19d3f3\",\"#FF6692\",\"#B6E880\",\"#FF97FF\",\"#FECB52\"],\"font\":{\"color\":\"#2a3f5f\"},\"hovermode\":\"closest\",\"hoverlabel\":{\"align\":\"left\"},\"paper_bgcolor\":\"white\",\"plot_bgcolor\":\"#E5ECF6\",\"polar\":{\"bgcolor\":\"#E5ECF6\",\"angularaxis\":{\"gridcolor\":\"white\",\"linecolor\":\"white\",\"ticks\":\"\"},\"radialaxis\":{\"gridcolor\":\"white\",\"linecolor\":\"white\",\"ticks\":\"\"}},\"ternary\":{\"bgcolor\":\"#E5ECF6\",\"aaxis\":{\"gridcolor\":\"white\",\"linecolor\":\"white\",\"ticks\":\"\"},\"baxis\":{\"gridcolor\":\"white\",\"linecolor\":\"white\",\"ticks\":\"\"},\"caxis\":{\"gridcolor\":\"white\",\"linecolor\":\"white\",\"ticks\":\"\"}},\"coloraxis\":{\"colorbar\":{\"outlinewidth\":0,\"ticks\":\"\"}},\"colorscale\":{\"sequential\":[[0.0,\"#0d0887\"],[0.1111111111111111,\"#46039f\"],[0.2222222222222222,\"#7201a8\"],[0.3333333333333333,\"#9c179e\"],[0.4444444444444444,\"#bd3786\"],[0.5555555555555556,\"#d8576b\"],[0.6666666666666666,\"#ed7953\"],[0.7777777777777778,\"#fb9f3a\"],[0.8888888888888888,\"#fdca26\"],[1.0,\"#f0f921\"]],\"sequentialminus\":[[0.0,\"#0d0887\"],[0.1111111111111111,\"#46039f\"],[0.2222222222222222,\"#7201a8\"],[0.3333333333333333,\"#9c179e\"],[0.4444444444444444,\"#bd3786\"],[0.5555555555555556,\"#d8576b\"],[0.6666666666666666,\"#ed7953\"],[0.7777777777777778,\"#fb9f3a\"],[0.8888888888888888,\"#fdca26\"],[1.0,\"#f0f921\"]],\"diverging\":[[0,\"#8e0152\"],[0.1,\"#c51b7d\"],[0.2,\"#de77ae\"],[0.3,\"#f1b6da\"],[0.4,\"#fde0ef\"],[0.5,\"#f7f7f7\"],[0.6,\"#e6f5d0\"],[0.7,\"#b8e186\"],[0.8,\"#7fbc41\"],[0.9,\"#4d9221\"],[1,\"#276419\"]]},\"xaxis\":{\"gridcolor\":\"white\",\"linecolor\":\"white\",\"ticks\":\"\",\"title\":{\"standoff\":15},\"zerolinecolor\":\"white\",\"automargin\":true,\"zerolinewidth\":2},\"yaxis\":{\"gridcolor\":\"white\",\"linecolor\":\"white\",\"ticks\":\"\",\"title\":{\"standoff\":15},\"zerolinecolor\":\"white\",\"automargin\":true,\"zerolinewidth\":2},\"scene\":{\"xaxis\":{\"backgroundcolor\":\"#E5ECF6\",\"gridcolor\":\"white\",\"linecolor\":\"white\",\"showbackground\":true,\"ticks\":\"\",\"zerolinecolor\":\"white\",\"gridwidth\":2},\"yaxis\":{\"backgroundcolor\":\"#E5ECF6\",\"gridcolor\":\"white\",\"linecolor\":\"white\",\"showbackground\":true,\"ticks\":\"\",\"zerolinecolor\":\"white\",\"gridwidth\":2},\"zaxis\":{\"backgroundcolor\":\"#E5ECF6\",\"gridcolor\":\"white\",\"linecolor\":\"white\",\"showbackground\":true,\"ticks\":\"\",\"zerolinecolor\":\"white\",\"gridwidth\":2}},\"shapedefaults\":{\"line\":{\"color\":\"#2a3f5f\"}},\"annotationdefaults\":{\"arrowcolor\":\"#2a3f5f\",\"arrowhead\":0,\"arrowwidth\":1},\"geo\":{\"bgcolor\":\"white\",\"landcolor\":\"#E5ECF6\",\"subunitcolor\":\"white\",\"showland\":true,\"showlakes\":true,\"lakecolor\":\"white\"},\"title\":{\"x\":0.05},\"mapbox\":{\"style\":\"light\"}}},\"images\":[{\"sizex\":0.3,\"sizey\":0.2,\"source\":\"https:\\u002f\\u002fparcllabs-assets.s3.amazonaws.com\\u002fpowered-by-parcllabs-api-logo-white.png\",\"x\":0.5,\"xanchor\":\"center\",\"xref\":\"paper\",\"y\":1.02,\"yanchor\":\"bottom\",\"yref\":\"paper\"}],\"title\":{\"font\":{\"color\":\"#FFFFFF\"},\"text\":\"Investor Purchase to Sale Ratio (Acquisitions\\u002fDispositions)\",\"y\":0.98,\"x\":0.5,\"xanchor\":\"center\",\"yanchor\":\"top\"},\"margin\":{\"l\":10,\"r\":10,\"t\":120,\"b\":10},\"width\":900,\"height\":1600,\"paper_bgcolor\":\"#080D16\"},                        {\"responsive\": true}                    ).then(function(){\n",
       "                            \n",
       "var gd = document.getElementById('40badf98-316e-471f-b467-b25c517f8362');\n",
       "var x = new MutationObserver(function (mutations, observer) {{\n",
       "        var display = window.getComputedStyle(gd).display;\n",
       "        if (!display || display === 'none') {{\n",
       "            console.log([gd, 'removed!']);\n",
       "            Plotly.purge(gd);\n",
       "            observer.disconnect();\n",
       "        }}\n",
       "}});\n",
       "\n",
       "// Listen for the removal of the full notebook cells\n",
       "var notebookContainer = gd.closest('#notebook-container');\n",
       "if (notebookContainer) {{\n",
       "    x.observe(notebookContainer, {childList: true});\n",
       "}}\n",
       "\n",
       "// Listen for the clearing of the current output cell\n",
       "var outputEl = gd.closest('.output');\n",
       "if (outputEl) {{\n",
       "    x.observe(outputEl, {childList: true});\n",
       "}}\n",
       "\n",
       "                        })                };                });            </script>        </div>"
      ]
     },
     "metadata": {},
     "output_type": "display_data"
    }
   ],
   "source": [
    "import plotly.graph_objects as go\n",
    "import pandas as pd\n",
    "import numpy as np\n",
    "from datetime import datetime\n",
    "\n",
    "# Assuming charting_data is defined and contains data for 50 markets and 6 months\n",
    "\n",
    "def color_scale(value):\n",
    "    # Normalize the value to the new range [0, 2] with a midpoint at 1\n",
    "    if value < 1:\n",
    "        # Scale from light blue to blue as value approaches 1 from 0\n",
    "        normalized = value  # No need to normalize since it's already 0 to 1\n",
    "        r = int(173 + (65 - 173) * normalized)  # Decrease red channel towards darker blue\n",
    "        g = int(216 + (105 - 216) * normalized)  # Decrease green channel towards darker blue\n",
    "        b = int(230 + (225 - 230) * normalized)  # Slightly increase blue channel towards 225\n",
    "    else:\n",
    "        # Scale from blue to dark blue as value goes from 1 to 2\n",
    "        normalized = (value - 1) / 1  # Normalize the upper half from 0 to 1\n",
    "        r = int(65 + (0 - 65) * normalized)  # Decrease red channel towards darkest blue\n",
    "        g = int(105 + (0 - 105) * normalized)  # Decrease green channel towards darkest blue\n",
    "        b = int(225 + (139 - 225) * normalized)  # Decrease blue channel towards darker blue\n",
    "\n",
    "    # Ensure RGB values are within the valid range\n",
    "    r = max(0, min(255, r))\n",
    "    g = max(0, min(255, g))\n",
    "    b = max(0, min(255, b))\n",
    "\n",
    "    return f'rgb({r},{g},{b})'\n",
    "\n",
    "\n",
    "\n",
    "def format_date(date):\n",
    "    date = datetime.strptime(date, '%Y-%m-%d')\n",
    "    return date.strftime('%b `' + date.strftime('%y'))\n",
    "\n",
    "dates = charting_data.columns.tolist()\n",
    "\n",
    "labs_logo_lookup = {\n",
    "    'blue': 'https://parcllabs-assets.s3.amazonaws.com/powered-by-parcllabs-api.png',\n",
    "    'white': 'https://parcllabs-assets.s3.amazonaws.com/powered-by-parcllabs-api-logo-white.png'\n",
    "}\n",
    "\n",
    "labs_logo_dict = dict(\n",
    "    source=labs_logo_lookup['white'],\n",
    "    xref=\"paper\",\n",
    "    yref=\"paper\",\n",
    "    x=0.5,\n",
    "    y=1.02,  # Adjusted for more data\n",
    "    sizex=0.3,\n",
    "    sizey=0.2,\n",
    "    xanchor=\"center\",\n",
    "    yanchor=\"bottom\"\n",
    ")\n",
    "\n",
    "fig = go.Figure(\n",
    "    data=[go.Table(\n",
    "        header=dict(\n",
    "            values=['<b>Market</b>'] + [f\"<b>{format_date(date)}</b>\" for date in dates],\n",
    "            fill_color='#080D16',\n",
    "            font=dict(color='#FFFFFF', size=12),\n",
    "            align='center',\n",
    "            height=30\n",
    "        ),\n",
    "        cells=dict(\n",
    "            values=[[f\"{name}\" for name in charting_data.index]] + \n",
    "                   [charting_data[date] for date in dates],\n",
    "            fill=dict(\n",
    "                color=[\n",
    "                    ['#080D16']*len(charting_data.index)] +\n",
    "                    [[color_scale(charting_data.at[market, date]) for market in charting_data.index] for date in dates]\n",
    "            ),\n",
    "            font=dict(\n",
    "                color='#FFFFFF',\n",
    "                size=11  # Uniform size for all cells\n",
    "            ),\n",
    "            align='center',\n",
    "            height=30\n",
    "        ))\n",
    "])\n",
    "\n",
    "fig.add_layout_image(labs_logo_dict)\n",
    "\n",
    "fig.update_layout(\n",
    "    title={\n",
    "        'text': 'Investor Purchase to Sale Ratio (Acquisitions/Dispositions)',\n",
    "        'y': 0.98,\n",
    "        'x': 0.5,\n",
    "        'xanchor': 'center',\n",
    "        'yanchor': 'top'\n",
    "    },\n",
    "    title_font_color='#FFFFFF',\n",
    "    width=900,  # Slightly wider to accommodate more columns\n",
    "    height=1600, # + 100 * len(charting_data.index),  # Adjust height based on the number of markets\n",
    "    paper_bgcolor='#080D16',\n",
    "    margin=dict(l=10, r=10, t=120, b=10)\n",
    ")\n",
    "\n",
    "fig.show()"
   ]
  },
  {
   "cell_type": "code",
   "execution_count": null,
   "id": "3962e5dc-9100-4d3b-bd69-30776a9b7fb5",
   "metadata": {},
   "outputs": [],
   "source": []
  }
 ],
 "metadata": {
  "kernelspec": {
   "display_name": "Python (parcllabs-env)",
   "language": "python",
   "name": "parcllabs-env"
  },
  "language_info": {
   "codemirror_mode": {
    "name": "ipython",
    "version": 3
   },
   "file_extension": ".py",
   "mimetype": "text/x-python",
   "name": "python",
   "nbconvert_exporter": "python",
   "pygments_lexer": "ipython3",
   "version": "3.11.9"
  }
 },
 "nbformat": 4,
 "nbformat_minor": 5
}
