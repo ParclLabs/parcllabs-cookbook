{
 "cells": [
  {
   "cell_type": "markdown",
   "id": "8d9dee2b-9603-40d8-a448-f8605aacf623",
   "metadata": {},
   "source": [
    "# Welcome to the Lab 🥼🧪\n",
    "## Which markets have large institutions had the greatest impact on single family home resale listings? \n",
    "\n",
    "We will be reviewing 1000+ unit portfolios, specifically their impact on the single family home resale market. \n",
    "\n",
    "Welcome to the Lab - LFG\n",
    "\n",
    "**Note** This notebook will work with any of the 70k+ markets supported by the Parcl Labs API.\n",
    "\n",
    "As a reminder, you can get your Parcl Labs API key [here](https://dashboard.parcllabs.com/signup) to follow along. \n",
    "\n",
    "To run this immediately, you can use Google Colab. Remember, you must set your `PARCL_LABS_API_KEY` as as secret. See this [guide](https://medium.com/@parthdasawant/how-to-use-secrets-in-google-colab-450c38e3ec75) for more information.\n",
    "\n",
    "[![Open in Colab](https://colab.research.google.com/assets/colab-badge.svg)](https://colab.research.google.com/github/ParclLabs/parcllabs-examples/blob/main/python/large_institutional_impact_on_resale_market.ipynb)\n",
    "\n",
    "We will be making 👇\n",
    "\n",
    "![Chart1](assets/percent_of_resale_market_by_1000_plus_unit_portfolios.png)"
   ]
  },
  {
   "cell_type": "code",
   "execution_count": 1,
   "id": "64636b5e-2f47-4e05-aab5-e551384bab13",
   "metadata": {},
   "outputs": [],
   "source": [
    "# Environment setup\n",
    "import os\n",
    "import sys\n",
    "import subprocess\n",
    "from datetime import datetime\n",
    "\n",
    "# Collab setup from one click above\n",
    "if \"google.colab\" in sys.modules:\n",
    "    from google.colab import userdata\n",
    "    %pip install parcllabs plotly kaleido\n",
    "    api_key = userdata.get('PARCL_LABS_API_KEY')\n",
    "else:\n",
    "    api_key = os.getenv('PARCL_LABS_API_KEY')"
   ]
  },
  {
   "cell_type": "code",
   "execution_count": 2,
   "id": "51941a8b-527f-4612-8aec-29396f3ef068",
   "metadata": {},
   "outputs": [
    {
     "name": "stdout",
     "output_type": "stream",
     "text": [
      "Parcl Labs Version: 0.1.16\n"
     ]
    }
   ],
   "source": [
    "import parcllabs\n",
    "import pandas as pd\n",
    "import plotly.express as px\n",
    "from parcllabs import ParclLabsClient\n",
    "\n",
    "print(f\"Parcl Labs Version: {parcllabs.__version__}\")"
   ]
  },
  {
   "cell_type": "code",
   "execution_count": 4,
   "id": "cc46aa3c-457a-4211-9d6d-904dced07b6a",
   "metadata": {},
   "outputs": [],
   "source": [
    "client = ParclLabsClient(api_key=api_key)"
   ]
  },
  {
   "cell_type": "code",
   "execution_count": 5,
   "id": "b24a6f1b-ae9b-4e73-a339-e1a8e2e54a67",
   "metadata": {},
   "outputs": [],
   "source": [
    "# lets get all metros in the country\n",
    "metros = client.search_markets.retrieve(\n",
    "    location_type='CBSA',\n",
    "    as_dataframe=True,\n",
    "    params={\n",
    "        'limit': 1000\n",
    "    }\n",
    ")"
   ]
  },
  {
   "cell_type": "code",
   "execution_count": 7,
   "id": "d6cf9f25-af81-4b51-982c-200bc644588f",
   "metadata": {},
   "outputs": [],
   "source": [
    "# get the ids\n",
    "metro_ids = metros['parcl_id'].tolist()"
   ]
  },
  {
   "cell_type": "code",
   "execution_count": 10,
   "id": "c2733fa3-55ef-46c7-aba9-70fdd0e53874",
   "metadata": {},
   "outputs": [
    {
     "name": "stdout",
     "output_type": "stream",
     "text": [
      "|████████████████████████▊⚠︎              | (!) 575/927 [62%] in 2:34.3 (3.73/s) \n"
     ]
    }
   ],
   "source": [
    "# get most recent housing stock for all metros\n",
    "portfolio_resale = client.portfolio_metrics_new_listings_for_sale_rolling_counts.retrieve_many(\n",
    "    parcl_ids=metro_ids,\n",
    "    params={\n",
    "        'limit': 1 # let's get the most recent stock\n",
    "    },\n",
    "    portfolio_size='PORTFOLIO_1000_PLUS',\n",
    "    as_dataframe=True # make life easy on ourselves\n",
    ")"
   ]
  },
  {
   "cell_type": "code",
   "execution_count": 15,
   "id": "63fa1c50-68ce-4fed-9b3c-62c5cd9ead3d",
   "metadata": {},
   "outputs": [
    {
     "data": {
      "text/html": [
       "<div>\n",
       "<style scoped>\n",
       "    .dataframe tbody tr th:only-of-type {\n",
       "        vertical-align: middle;\n",
       "    }\n",
       "\n",
       "    .dataframe tbody tr th {\n",
       "        vertical-align: top;\n",
       "    }\n",
       "\n",
       "    .dataframe thead th {\n",
       "        text-align: right;\n",
       "    }\n",
       "</style>\n",
       "<table border=\"1\" class=\"dataframe\">\n",
       "  <thead>\n",
       "    <tr style=\"text-align: right;\">\n",
       "      <th></th>\n",
       "      <th>date</th>\n",
       "      <th>period</th>\n",
       "      <th>counts</th>\n",
       "      <th>pct_sf_for_sale_market</th>\n",
       "      <th>parcl_id</th>\n",
       "      <th>portfolio_size</th>\n",
       "    </tr>\n",
       "  </thead>\n",
       "  <tbody>\n",
       "    <tr>\n",
       "      <th>0</th>\n",
       "      <td>2024-04-22</td>\n",
       "      <td>rolling_7_day</td>\n",
       "      <td>19.0</td>\n",
       "      <td>1.06</td>\n",
       "      <td>2900187</td>\n",
       "      <td>PORTFOLIO_1000_PLUS</td>\n",
       "    </tr>\n",
       "    <tr>\n",
       "      <th>1</th>\n",
       "      <td>2024-04-22</td>\n",
       "      <td>rolling_30_day</td>\n",
       "      <td>72.0</td>\n",
       "      <td>1.02</td>\n",
       "      <td>2900187</td>\n",
       "      <td>PORTFOLIO_1000_PLUS</td>\n",
       "    </tr>\n",
       "    <tr>\n",
       "      <th>2</th>\n",
       "      <td>2024-04-22</td>\n",
       "      <td>rolling_60_day</td>\n",
       "      <td>157.0</td>\n",
       "      <td>1.11</td>\n",
       "      <td>2900187</td>\n",
       "      <td>PORTFOLIO_1000_PLUS</td>\n",
       "    </tr>\n",
       "    <tr>\n",
       "      <th>3</th>\n",
       "      <td>2024-04-22</td>\n",
       "      <td>rolling_90_day</td>\n",
       "      <td>217.0</td>\n",
       "      <td>1.11</td>\n",
       "      <td>2900187</td>\n",
       "      <td>PORTFOLIO_1000_PLUS</td>\n",
       "    </tr>\n",
       "    <tr>\n",
       "      <th>4</th>\n",
       "      <td>2024-04-22</td>\n",
       "      <td>rolling_7_day</td>\n",
       "      <td>12.0</td>\n",
       "      <td>0.65</td>\n",
       "      <td>2900078</td>\n",
       "      <td>PORTFOLIO_1000_PLUS</td>\n",
       "    </tr>\n",
       "  </tbody>\n",
       "</table>\n",
       "</div>"
      ],
      "text/plain": [
       "         date          period  counts  pct_sf_for_sale_market  parcl_id  \\\n",
       "0  2024-04-22   rolling_7_day    19.0                    1.06   2900187   \n",
       "1  2024-04-22  rolling_30_day    72.0                    1.02   2900187   \n",
       "2  2024-04-22  rolling_60_day   157.0                    1.11   2900187   \n",
       "3  2024-04-22  rolling_90_day   217.0                    1.11   2900187   \n",
       "4  2024-04-22   rolling_7_day    12.0                    0.65   2900078   \n",
       "\n",
       "        portfolio_size  \n",
       "0  PORTFOLIO_1000_PLUS  \n",
       "1  PORTFOLIO_1000_PLUS  \n",
       "2  PORTFOLIO_1000_PLUS  \n",
       "3  PORTFOLIO_1000_PLUS  \n",
       "4  PORTFOLIO_1000_PLUS  "
      ]
     },
     "execution_count": 15,
     "metadata": {},
     "output_type": "execute_result"
    }
   ],
   "source": [
    "portfolio_resale.head()"
   ]
  },
  {
   "cell_type": "code",
   "execution_count": 18,
   "id": "b1d76ce9-a149-4b7d-a8db-4a5f52ca3155",
   "metadata": {},
   "outputs": [
    {
     "data": {
      "text/html": [
       "<div>\n",
       "<style scoped>\n",
       "    .dataframe tbody tr th:only-of-type {\n",
       "        vertical-align: middle;\n",
       "    }\n",
       "\n",
       "    .dataframe tbody tr th {\n",
       "        vertical-align: top;\n",
       "    }\n",
       "\n",
       "    .dataframe thead th {\n",
       "        text-align: right;\n",
       "    }\n",
       "</style>\n",
       "<table border=\"1\" class=\"dataframe\">\n",
       "  <thead>\n",
       "    <tr style=\"text-align: right;\">\n",
       "      <th></th>\n",
       "      <th>parcl_id</th>\n",
       "      <th>date</th>\n",
       "      <th>counts</th>\n",
       "      <th>pct_sf_for_sale_market</th>\n",
       "    </tr>\n",
       "  </thead>\n",
       "  <tbody>\n",
       "    <tr>\n",
       "      <th>1</th>\n",
       "      <td>2900187</td>\n",
       "      <td>2024-04-22</td>\n",
       "      <td>72.0</td>\n",
       "      <td>1.02</td>\n",
       "    </tr>\n",
       "    <tr>\n",
       "      <th>5</th>\n",
       "      <td>2900078</td>\n",
       "      <td>2024-04-22</td>\n",
       "      <td>50.0</td>\n",
       "      <td>0.70</td>\n",
       "    </tr>\n",
       "    <tr>\n",
       "      <th>9</th>\n",
       "      <td>2899845</td>\n",
       "      <td>2024-04-22</td>\n",
       "      <td>123.0</td>\n",
       "      <td>1.45</td>\n",
       "    </tr>\n",
       "    <tr>\n",
       "      <th>13</th>\n",
       "      <td>2899734</td>\n",
       "      <td>2024-04-22</td>\n",
       "      <td>254.0</td>\n",
       "      <td>1.89</td>\n",
       "    </tr>\n",
       "    <tr>\n",
       "      <th>17</th>\n",
       "      <td>2899967</td>\n",
       "      <td>2024-04-22</td>\n",
       "      <td>202.0</td>\n",
       "      <td>1.74</td>\n",
       "    </tr>\n",
       "  </tbody>\n",
       "</table>\n",
       "</div>"
      ],
      "text/plain": [
       "    parcl_id        date  counts  pct_sf_for_sale_market\n",
       "1    2900187  2024-04-22    72.0                    1.02\n",
       "5    2900078  2024-04-22    50.0                    0.70\n",
       "9    2899845  2024-04-22   123.0                    1.45\n",
       "13   2899734  2024-04-22   254.0                    1.89\n",
       "17   2899967  2024-04-22   202.0                    1.74"
      ]
     },
     "execution_count": 18,
     "metadata": {},
     "output_type": "execute_result"
    }
   ],
   "source": [
    "# get 30 day rolling count\n",
    "df = portfolio_resale.loc[(portfolio_resale['period']=='rolling_30_day')&(portfolio_resale['date']=='2024-04-22')][['parcl_id', 'date', 'counts', 'pct_sf_for_sale_market']]\n",
    "df.head()"
   ]
  },
  {
   "cell_type": "code",
   "execution_count": 57,
   "id": "e3afc128-1d34-4d04-80a2-77b6339fd365",
   "metadata": {},
   "outputs": [
    {
     "data": {
      "text/html": [
       "<div>\n",
       "<style scoped>\n",
       "    .dataframe tbody tr th:only-of-type {\n",
       "        vertical-align: middle;\n",
       "    }\n",
       "\n",
       "    .dataframe tbody tr th {\n",
       "        vertical-align: top;\n",
       "    }\n",
       "\n",
       "    .dataframe thead th {\n",
       "        text-align: right;\n",
       "    }\n",
       "</style>\n",
       "<table border=\"1\" class=\"dataframe\">\n",
       "  <thead>\n",
       "    <tr style=\"text-align: right;\">\n",
       "      <th></th>\n",
       "      <th>name</th>\n",
       "      <th>date</th>\n",
       "      <th>counts</th>\n",
       "      <th>pct_sf_for_sale_market</th>\n",
       "    </tr>\n",
       "  </thead>\n",
       "  <tbody>\n",
       "    <tr>\n",
       "      <th>0</th>\n",
       "      <td>New York-Newark-Jersey City, Ny-Nj-Pa</td>\n",
       "      <td>2024-04-22</td>\n",
       "      <td>72.0</td>\n",
       "      <td>1.02</td>\n",
       "    </tr>\n",
       "    <tr>\n",
       "      <th>1</th>\n",
       "      <td>Los Angeles-Long Beach-Anaheim, Ca</td>\n",
       "      <td>2024-04-22</td>\n",
       "      <td>50.0</td>\n",
       "      <td>0.70</td>\n",
       "    </tr>\n",
       "    <tr>\n",
       "      <th>2</th>\n",
       "      <td>Chicago-Naperville-Elgin, Il-In-Wi</td>\n",
       "      <td>2024-04-22</td>\n",
       "      <td>123.0</td>\n",
       "      <td>1.45</td>\n",
       "    </tr>\n",
       "    <tr>\n",
       "      <th>3</th>\n",
       "      <td>Dallas-Fort Worth-Arlington, Tx</td>\n",
       "      <td>2024-04-22</td>\n",
       "      <td>254.0</td>\n",
       "      <td>1.89</td>\n",
       "    </tr>\n",
       "    <tr>\n",
       "      <th>4</th>\n",
       "      <td>Houston-The Woodlands-Sugar Land, Tx</td>\n",
       "      <td>2024-04-22</td>\n",
       "      <td>202.0</td>\n",
       "      <td>1.74</td>\n",
       "    </tr>\n",
       "  </tbody>\n",
       "</table>\n",
       "</div>"
      ],
      "text/plain": [
       "                                    name        date  counts  \\\n",
       "0  New York-Newark-Jersey City, Ny-Nj-Pa  2024-04-22    72.0   \n",
       "1     Los Angeles-Long Beach-Anaheim, Ca  2024-04-22    50.0   \n",
       "2     Chicago-Naperville-Elgin, Il-In-Wi  2024-04-22   123.0   \n",
       "3        Dallas-Fort Worth-Arlington, Tx  2024-04-22   254.0   \n",
       "4   Houston-The Woodlands-Sugar Land, Tx  2024-04-22   202.0   \n",
       "\n",
       "   pct_sf_for_sale_market  \n",
       "0                    1.02  \n",
       "1                    0.70  \n",
       "2                    1.45  \n",
       "3                    1.89  \n",
       "4                    1.74  "
      ]
     },
     "execution_count": 57,
     "metadata": {},
     "output_type": "execute_result"
    }
   ],
   "source": [
    "out = pd.merge(metros[['parcl_id', 'name']], df, on='parcl_id')\n",
    "out = out.drop('parcl_id', axis=1)\n",
    "out.head()"
   ]
  },
  {
   "cell_type": "code",
   "execution_count": 58,
   "id": "7a6b5d4a-cd4e-468f-893b-d886f7ac7134",
   "metadata": {},
   "outputs": [],
   "source": [
    "out = out.loc[out['counts'] > 25].sort_values('pct_sf_for_sale_market', ascending=False).reset_index(drop=True)"
   ]
  },
  {
   "cell_type": "code",
   "execution_count": 59,
   "id": "db4592db-4501-48f7-b54e-d00a970f438f",
   "metadata": {},
   "outputs": [],
   "source": [
    "def format_names(nme):\n",
    "    state = nme.split(',')[-1].strip()\n",
    "    metro = nme.split(',')[0].split('-')[0].strip()\n",
    "    metro = metro.split('/')[0].strip()\n",
    "    return metro\n",
    "\n",
    "labs_logo_lookup = {\n",
    "    'blue': 'https://parcllabs-assets.s3.amazonaws.com/powered-by-parcllabs-api.png',\n",
    "    'white': 'https://parcllabs-assets.s3.amazonaws.com/powered-by-parcllabs-api-logo-white.png'\n",
    "}\n",
    "\n",
    "# set charting constants\n",
    "labs_logo_dict = dict(\n",
    "        source=labs_logo_lookup['white'],\n",
    "        xref=\"paper\",\n",
    "        yref=\"paper\",\n",
    "        x=0.5,  # Centering the logo below the title\n",
    "        y=1.02,  # Adjust this value to position the logo just below the title\n",
    "        sizex=0.15, \n",
    "        sizey=0.15,\n",
    "        xanchor=\"center\",\n",
    "        yanchor=\"bottom\"\n",
    ")\n",
    "\n",
    "media_img_size_lookup = {\n",
    "    'X': {\n",
    "        'width': 1600,\n",
    "        'height': 900\n",
    "    }\n",
    "}\n",
    "\n",
    "PLATFORM = 'X'\n",
    "\n",
    "# set image sizes\n",
    "IMG_WIDTH = media_img_size_lookup[PLATFORM]['width']\n",
    "IMG_HEIGHT = media_img_size_lookup[PLATFORM]['height']\n",
    "\n",
    "# plotting title settings\n",
    "PLOT_TITLE_SETTINGS = {\n",
    "        'y':0.97,\n",
    "        'x':0.5,\n",
    "        'xanchor': 'center',\n",
    "        'yanchor': 'top'\n",
    "    }\n",
    "\n",
    "# set default save directory\n",
    "save_dir = './graphics'\n",
    "new_dir_name = f\"resale_1000_plus_units-metros-{datetime.today().date()}\"\n",
    "output_dir = os.path.join(save_dir, new_dir_name)\n",
    "\n",
    "if not os.path.exists(output_dir):\n",
    "    os.makedirs(output_dir)\n",
    "\n",
    "out['name'] = out['name'].apply(lambda x: format_names(x))\n",
    "out['pct_sf_for_sale_market'] = out['pct_sf_for_sale_market']/100 # format pct for charting"
   ]
  },
  {
   "cell_type": "code",
   "execution_count": 67,
   "id": "3a2709fd-a8cf-4a28-924f-df5b5ab46be3",
   "metadata": {},
   "outputs": [
    {
     "data": {
      "application/vnd.plotly.v1+json": {
       "config": {
        "plotlyServerURL": "https://plot.ly"
       },
       "data": [
        {
         "alignmentgroup": "True",
         "hovertemplate": "name=%{x}<br>pct_sf_for_sale_market=%{y}<extra></extra>",
         "legendgroup": "",
         "marker": {
          "color": "#448CF2",
          "line": {
           "color": "#FFFFFF",
           "width": 1.5
          },
          "pattern": {
           "shape": ""
          }
         },
         "name": "",
         "offsetgroup": "",
         "opacity": 0.8,
         "orientation": "v",
         "showlegend": false,
         "textposition": "auto",
         "type": "bar",
         "x": [
          "Columbia",
          "Jacksonville",
          "Las Vegas",
          "Charlotte",
          "Indianapolis",
          "Cape Coral",
          "Birmingham",
          "San Antonio",
          "Lakeland",
          "Atlanta",
          "Orlando",
          "Kansas City",
          "Raleigh",
          "Cincinnati",
          "Detroit",
          "Tampa",
          "Dallas",
          "Sacramento",
          "Palm Bay",
          "Houston",
          "St. Louis",
          "Phoenix",
          "Cleveland",
          "Pittsburgh",
          "Miami",
          "Chicago",
          "Columbus",
          "Austin",
          "Denver",
          "New York",
          "Philadelphia",
          "Minneapolis",
          "Oklahoma City",
          "Seattle",
          "Riverside",
          "Los Angeles",
          "Washington"
         ],
         "xaxis": "x",
         "y": [
          0.0365,
          0.0321,
          0.0313,
          0.027200000000000002,
          0.0265,
          0.0259,
          0.0256,
          0.0245,
          0.0241,
          0.023799999999999998,
          0.0216,
          0.020099999999999996,
          0.0199,
          0.0199,
          0.0197,
          0.0197,
          0.0189,
          0.0187,
          0.0184,
          0.0174,
          0.016399999999999998,
          0.0151,
          0.0148,
          0.0146,
          0.0146,
          0.014499999999999999,
          0.0131,
          0.0126,
          0.0108,
          0.0102,
          0.0101,
          0.0101,
          0.01,
          0.0074,
          0.0073,
          0.006999999999999999,
          0.006500000000000001
         ],
         "yaxis": "y"
        }
       ],
       "layout": {
        "barmode": "relative",
        "font": {
         "color": "#FFFFFF"
        },
        "height": 900,
        "images": [
         {
          "sizex": 0.15,
          "sizey": 0.15,
          "source": "https://parcllabs-assets.s3.amazonaws.com/powered-by-parcllabs-api-logo-white.png",
          "x": 0.5,
          "xanchor": "center",
          "xref": "paper",
          "y": 1.02,
          "yanchor": "bottom",
          "yref": "paper"
         }
        ],
        "legend": {
         "title": {
          "text": "Rolling Window (Days)"
         },
         "tracegroupgap": 0,
         "traceorder": "normal",
         "x": 0.01,
         "xanchor": "left",
         "y": 0.99,
         "yanchor": "top"
        },
        "margin": {
         "b": 100
        },
        "paper_bgcolor": "#080D16",
        "plot_bgcolor": "#080D16",
        "template": {
         "data": {
          "bar": [
           {
            "error_x": {
             "color": "#2a3f5f"
            },
            "error_y": {
             "color": "#2a3f5f"
            },
            "marker": {
             "line": {
              "color": "#E5ECF6",
              "width": 0.5
             },
             "pattern": {
              "fillmode": "overlay",
              "size": 10,
              "solidity": 0.2
             }
            },
            "type": "bar"
           }
          ],
          "barpolar": [
           {
            "marker": {
             "line": {
              "color": "#E5ECF6",
              "width": 0.5
             },
             "pattern": {
              "fillmode": "overlay",
              "size": 10,
              "solidity": 0.2
             }
            },
            "type": "barpolar"
           }
          ],
          "carpet": [
           {
            "aaxis": {
             "endlinecolor": "#2a3f5f",
             "gridcolor": "white",
             "linecolor": "white",
             "minorgridcolor": "white",
             "startlinecolor": "#2a3f5f"
            },
            "baxis": {
             "endlinecolor": "#2a3f5f",
             "gridcolor": "white",
             "linecolor": "white",
             "minorgridcolor": "white",
             "startlinecolor": "#2a3f5f"
            },
            "type": "carpet"
           }
          ],
          "choropleth": [
           {
            "colorbar": {
             "outlinewidth": 0,
             "ticks": ""
            },
            "type": "choropleth"
           }
          ],
          "contour": [
           {
            "colorbar": {
             "outlinewidth": 0,
             "ticks": ""
            },
            "colorscale": [
             [
              0,
              "#0d0887"
             ],
             [
              0.1111111111111111,
              "#46039f"
             ],
             [
              0.2222222222222222,
              "#7201a8"
             ],
             [
              0.3333333333333333,
              "#9c179e"
             ],
             [
              0.4444444444444444,
              "#bd3786"
             ],
             [
              0.5555555555555556,
              "#d8576b"
             ],
             [
              0.6666666666666666,
              "#ed7953"
             ],
             [
              0.7777777777777778,
              "#fb9f3a"
             ],
             [
              0.8888888888888888,
              "#fdca26"
             ],
             [
              1,
              "#f0f921"
             ]
            ],
            "type": "contour"
           }
          ],
          "contourcarpet": [
           {
            "colorbar": {
             "outlinewidth": 0,
             "ticks": ""
            },
            "type": "contourcarpet"
           }
          ],
          "heatmap": [
           {
            "colorbar": {
             "outlinewidth": 0,
             "ticks": ""
            },
            "colorscale": [
             [
              0,
              "#0d0887"
             ],
             [
              0.1111111111111111,
              "#46039f"
             ],
             [
              0.2222222222222222,
              "#7201a8"
             ],
             [
              0.3333333333333333,
              "#9c179e"
             ],
             [
              0.4444444444444444,
              "#bd3786"
             ],
             [
              0.5555555555555556,
              "#d8576b"
             ],
             [
              0.6666666666666666,
              "#ed7953"
             ],
             [
              0.7777777777777778,
              "#fb9f3a"
             ],
             [
              0.8888888888888888,
              "#fdca26"
             ],
             [
              1,
              "#f0f921"
             ]
            ],
            "type": "heatmap"
           }
          ],
          "heatmapgl": [
           {
            "colorbar": {
             "outlinewidth": 0,
             "ticks": ""
            },
            "colorscale": [
             [
              0,
              "#0d0887"
             ],
             [
              0.1111111111111111,
              "#46039f"
             ],
             [
              0.2222222222222222,
              "#7201a8"
             ],
             [
              0.3333333333333333,
              "#9c179e"
             ],
             [
              0.4444444444444444,
              "#bd3786"
             ],
             [
              0.5555555555555556,
              "#d8576b"
             ],
             [
              0.6666666666666666,
              "#ed7953"
             ],
             [
              0.7777777777777778,
              "#fb9f3a"
             ],
             [
              0.8888888888888888,
              "#fdca26"
             ],
             [
              1,
              "#f0f921"
             ]
            ],
            "type": "heatmapgl"
           }
          ],
          "histogram": [
           {
            "marker": {
             "pattern": {
              "fillmode": "overlay",
              "size": 10,
              "solidity": 0.2
             }
            },
            "type": "histogram"
           }
          ],
          "histogram2d": [
           {
            "colorbar": {
             "outlinewidth": 0,
             "ticks": ""
            },
            "colorscale": [
             [
              0,
              "#0d0887"
             ],
             [
              0.1111111111111111,
              "#46039f"
             ],
             [
              0.2222222222222222,
              "#7201a8"
             ],
             [
              0.3333333333333333,
              "#9c179e"
             ],
             [
              0.4444444444444444,
              "#bd3786"
             ],
             [
              0.5555555555555556,
              "#d8576b"
             ],
             [
              0.6666666666666666,
              "#ed7953"
             ],
             [
              0.7777777777777778,
              "#fb9f3a"
             ],
             [
              0.8888888888888888,
              "#fdca26"
             ],
             [
              1,
              "#f0f921"
             ]
            ],
            "type": "histogram2d"
           }
          ],
          "histogram2dcontour": [
           {
            "colorbar": {
             "outlinewidth": 0,
             "ticks": ""
            },
            "colorscale": [
             [
              0,
              "#0d0887"
             ],
             [
              0.1111111111111111,
              "#46039f"
             ],
             [
              0.2222222222222222,
              "#7201a8"
             ],
             [
              0.3333333333333333,
              "#9c179e"
             ],
             [
              0.4444444444444444,
              "#bd3786"
             ],
             [
              0.5555555555555556,
              "#d8576b"
             ],
             [
              0.6666666666666666,
              "#ed7953"
             ],
             [
              0.7777777777777778,
              "#fb9f3a"
             ],
             [
              0.8888888888888888,
              "#fdca26"
             ],
             [
              1,
              "#f0f921"
             ]
            ],
            "type": "histogram2dcontour"
           }
          ],
          "mesh3d": [
           {
            "colorbar": {
             "outlinewidth": 0,
             "ticks": ""
            },
            "type": "mesh3d"
           }
          ],
          "parcoords": [
           {
            "line": {
             "colorbar": {
              "outlinewidth": 0,
              "ticks": ""
             }
            },
            "type": "parcoords"
           }
          ],
          "pie": [
           {
            "automargin": true,
            "type": "pie"
           }
          ],
          "scatter": [
           {
            "fillpattern": {
             "fillmode": "overlay",
             "size": 10,
             "solidity": 0.2
            },
            "type": "scatter"
           }
          ],
          "scatter3d": [
           {
            "line": {
             "colorbar": {
              "outlinewidth": 0,
              "ticks": ""
             }
            },
            "marker": {
             "colorbar": {
              "outlinewidth": 0,
              "ticks": ""
             }
            },
            "type": "scatter3d"
           }
          ],
          "scattercarpet": [
           {
            "marker": {
             "colorbar": {
              "outlinewidth": 0,
              "ticks": ""
             }
            },
            "type": "scattercarpet"
           }
          ],
          "scattergeo": [
           {
            "marker": {
             "colorbar": {
              "outlinewidth": 0,
              "ticks": ""
             }
            },
            "type": "scattergeo"
           }
          ],
          "scattergl": [
           {
            "marker": {
             "colorbar": {
              "outlinewidth": 0,
              "ticks": ""
             }
            },
            "type": "scattergl"
           }
          ],
          "scattermapbox": [
           {
            "marker": {
             "colorbar": {
              "outlinewidth": 0,
              "ticks": ""
             }
            },
            "type": "scattermapbox"
           }
          ],
          "scatterpolar": [
           {
            "marker": {
             "colorbar": {
              "outlinewidth": 0,
              "ticks": ""
             }
            },
            "type": "scatterpolar"
           }
          ],
          "scatterpolargl": [
           {
            "marker": {
             "colorbar": {
              "outlinewidth": 0,
              "ticks": ""
             }
            },
            "type": "scatterpolargl"
           }
          ],
          "scatterternary": [
           {
            "marker": {
             "colorbar": {
              "outlinewidth": 0,
              "ticks": ""
             }
            },
            "type": "scatterternary"
           }
          ],
          "surface": [
           {
            "colorbar": {
             "outlinewidth": 0,
             "ticks": ""
            },
            "colorscale": [
             [
              0,
              "#0d0887"
             ],
             [
              0.1111111111111111,
              "#46039f"
             ],
             [
              0.2222222222222222,
              "#7201a8"
             ],
             [
              0.3333333333333333,
              "#9c179e"
             ],
             [
              0.4444444444444444,
              "#bd3786"
             ],
             [
              0.5555555555555556,
              "#d8576b"
             ],
             [
              0.6666666666666666,
              "#ed7953"
             ],
             [
              0.7777777777777778,
              "#fb9f3a"
             ],
             [
              0.8888888888888888,
              "#fdca26"
             ],
             [
              1,
              "#f0f921"
             ]
            ],
            "type": "surface"
           }
          ],
          "table": [
           {
            "cells": {
             "fill": {
              "color": "#EBF0F8"
             },
             "line": {
              "color": "white"
             }
            },
            "header": {
             "fill": {
              "color": "#C8D4E3"
             },
             "line": {
              "color": "white"
             }
            },
            "type": "table"
           }
          ]
         },
         "layout": {
          "annotationdefaults": {
           "arrowcolor": "#2a3f5f",
           "arrowhead": 0,
           "arrowwidth": 1
          },
          "autotypenumbers": "strict",
          "coloraxis": {
           "colorbar": {
            "outlinewidth": 0,
            "ticks": ""
           }
          },
          "colorscale": {
           "diverging": [
            [
             0,
             "#8e0152"
            ],
            [
             0.1,
             "#c51b7d"
            ],
            [
             0.2,
             "#de77ae"
            ],
            [
             0.3,
             "#f1b6da"
            ],
            [
             0.4,
             "#fde0ef"
            ],
            [
             0.5,
             "#f7f7f7"
            ],
            [
             0.6,
             "#e6f5d0"
            ],
            [
             0.7,
             "#b8e186"
            ],
            [
             0.8,
             "#7fbc41"
            ],
            [
             0.9,
             "#4d9221"
            ],
            [
             1,
             "#276419"
            ]
           ],
           "sequential": [
            [
             0,
             "#0d0887"
            ],
            [
             0.1111111111111111,
             "#46039f"
            ],
            [
             0.2222222222222222,
             "#7201a8"
            ],
            [
             0.3333333333333333,
             "#9c179e"
            ],
            [
             0.4444444444444444,
             "#bd3786"
            ],
            [
             0.5555555555555556,
             "#d8576b"
            ],
            [
             0.6666666666666666,
             "#ed7953"
            ],
            [
             0.7777777777777778,
             "#fb9f3a"
            ],
            [
             0.8888888888888888,
             "#fdca26"
            ],
            [
             1,
             "#f0f921"
            ]
           ],
           "sequentialminus": [
            [
             0,
             "#0d0887"
            ],
            [
             0.1111111111111111,
             "#46039f"
            ],
            [
             0.2222222222222222,
             "#7201a8"
            ],
            [
             0.3333333333333333,
             "#9c179e"
            ],
            [
             0.4444444444444444,
             "#bd3786"
            ],
            [
             0.5555555555555556,
             "#d8576b"
            ],
            [
             0.6666666666666666,
             "#ed7953"
            ],
            [
             0.7777777777777778,
             "#fb9f3a"
            ],
            [
             0.8888888888888888,
             "#fdca26"
            ],
            [
             1,
             "#f0f921"
            ]
           ]
          },
          "colorway": [
           "#636efa",
           "#EF553B",
           "#00cc96",
           "#ab63fa",
           "#FFA15A",
           "#19d3f3",
           "#FF6692",
           "#B6E880",
           "#FF97FF",
           "#FECB52"
          ],
          "font": {
           "color": "#2a3f5f"
          },
          "geo": {
           "bgcolor": "white",
           "lakecolor": "white",
           "landcolor": "#E5ECF6",
           "showlakes": true,
           "showland": true,
           "subunitcolor": "white"
          },
          "hoverlabel": {
           "align": "left"
          },
          "hovermode": "closest",
          "mapbox": {
           "style": "light"
          },
          "paper_bgcolor": "white",
          "plot_bgcolor": "#E5ECF6",
          "polar": {
           "angularaxis": {
            "gridcolor": "white",
            "linecolor": "white",
            "ticks": ""
           },
           "bgcolor": "#E5ECF6",
           "radialaxis": {
            "gridcolor": "white",
            "linecolor": "white",
            "ticks": ""
           }
          },
          "scene": {
           "xaxis": {
            "backgroundcolor": "#E5ECF6",
            "gridcolor": "white",
            "gridwidth": 2,
            "linecolor": "white",
            "showbackground": true,
            "ticks": "",
            "zerolinecolor": "white"
           },
           "yaxis": {
            "backgroundcolor": "#E5ECF6",
            "gridcolor": "white",
            "gridwidth": 2,
            "linecolor": "white",
            "showbackground": true,
            "ticks": "",
            "zerolinecolor": "white"
           },
           "zaxis": {
            "backgroundcolor": "#E5ECF6",
            "gridcolor": "white",
            "gridwidth": 2,
            "linecolor": "white",
            "showbackground": true,
            "ticks": "",
            "zerolinecolor": "white"
           }
          },
          "shapedefaults": {
           "line": {
            "color": "#2a3f5f"
           }
          },
          "ternary": {
           "aaxis": {
            "gridcolor": "white",
            "linecolor": "white",
            "ticks": ""
           },
           "baxis": {
            "gridcolor": "white",
            "linecolor": "white",
            "ticks": ""
           },
           "bgcolor": "#E5ECF6",
           "caxis": {
            "gridcolor": "white",
            "linecolor": "white",
            "ticks": ""
           }
          },
          "title": {
           "x": 0.05
          },
          "xaxis": {
           "automargin": true,
           "gridcolor": "white",
           "linecolor": "white",
           "ticks": "",
           "title": {
            "standoff": 15
           },
           "zerolinecolor": "white",
           "zerolinewidth": 2
          },
          "yaxis": {
           "automargin": true,
           "gridcolor": "white",
           "linecolor": "white",
           "ticks": "",
           "title": {
            "standoff": 15
           },
           "zerolinecolor": "white",
           "zerolinewidth": 2
          }
         }
        },
        "title": {
         "text": "Percent of For Sale Single Family Home Listings from 1000+ Unit Portfolios by Market (Rolling 30 Days)",
         "x": 0.5,
         "xanchor": "center",
         "y": 0.97,
         "yanchor": "top"
        },
        "width": 1600,
        "xaxis": {
         "anchor": "y",
         "autorange": true,
         "domain": [
          0,
          1
         ],
         "gridcolor": "LightGrey",
         "gridwidth": 1,
         "range": [
          -0.5,
          36.5
         ],
         "showgrid": true,
         "title": {},
         "type": "category"
        },
        "yaxis": {
         "anchor": "x",
         "autorange": true,
         "domain": [
          0,
          1
         ],
         "gridcolor": "LightGrey",
         "gridwidth": 1,
         "range": [
          0,
          0.038421052631578946
         ],
         "showgrid": true,
         "tickformat": ".1%",
         "title": {
          "text": "Percent of For Sale Listings Market"
         },
         "type": "linear"
        }
       }
      },
      "image/png": "[encoded data removed]",
      "text/html": [
       "<div>                            <div id=\"dc61e625-a41d-4a5d-a367-ab0b1277cb56\" class=\"plotly-graph-div\" style=\"height:900px; width:1600px;\"></div>            <script type=\"text/javascript\">                require([\"plotly\"], function(Plotly) {                    window.PLOTLYENV=window.PLOTLYENV || {};                                    if (document.getElementById(\"dc61e625-a41d-4a5d-a367-ab0b1277cb56\")) {                    Plotly.newPlot(                        \"dc61e625-a41d-4a5d-a367-ab0b1277cb56\",                        [{\"alignmentgroup\":\"True\",\"hovertemplate\":\"name=%{x}\\u003cbr\\u003epct_sf_for_sale_market=%{y}\\u003cextra\\u003e\\u003c\\u002fextra\\u003e\",\"legendgroup\":\"\",\"marker\":{\"color\":\"#448CF2\",\"pattern\":{\"shape\":\"\"},\"line\":{\"color\":\"#FFFFFF\",\"width\":1.5}},\"name\":\"\",\"offsetgroup\":\"\",\"orientation\":\"v\",\"showlegend\":false,\"textposition\":\"auto\",\"x\":[\"Columbia\",\"Jacksonville\",\"Las Vegas\",\"Charlotte\",\"Indianapolis\",\"Cape Coral\",\"Birmingham\",\"San Antonio\",\"Lakeland\",\"Atlanta\",\"Orlando\",\"Kansas City\",\"Raleigh\",\"Cincinnati\",\"Detroit\",\"Tampa\",\"Dallas\",\"Sacramento\",\"Palm Bay\",\"Houston\",\"St. Louis\",\"Phoenix\",\"Cleveland\",\"Pittsburgh\",\"Miami\",\"Chicago\",\"Columbus\",\"Austin\",\"Denver\",\"New York\",\"Philadelphia\",\"Minneapolis\",\"Oklahoma City\",\"Seattle\",\"Riverside\",\"Los Angeles\",\"Washington\"],\"xaxis\":\"x\",\"y\":[0.0365,0.0321,0.0313,0.027200000000000002,0.0265,0.0259,0.0256,0.0245,0.0241,0.023799999999999998,0.0216,0.020099999999999996,0.0199,0.0199,0.0197,0.0197,0.0189,0.0187,0.0184,0.0174,0.016399999999999998,0.0151,0.0148,0.0146,0.0146,0.014499999999999999,0.0131,0.0126,0.0108,0.0102,0.0101,0.0101,0.01,0.0074,0.0073,0.006999999999999999,0.006500000000000001],\"yaxis\":\"y\",\"type\":\"bar\",\"opacity\":0.8}],                        {\"template\":{\"data\":{\"histogram2dcontour\":[{\"type\":\"histogram2dcontour\",\"colorbar\":{\"outlinewidth\":0,\"ticks\":\"\"},\"colorscale\":[[0.0,\"#0d0887\"],[0.1111111111111111,\"#46039f\"],[0.2222222222222222,\"#7201a8\"],[0.3333333333333333,\"#9c179e\"],[0.4444444444444444,\"#bd3786\"],[0.5555555555555556,\"#d8576b\"],[0.6666666666666666,\"#ed7953\"],[0.7777777777777778,\"#fb9f3a\"],[0.8888888888888888,\"#fdca26\"],[1.0,\"#f0f921\"]]}],\"choropleth\":[{\"type\":\"choropleth\",\"colorbar\":{\"outlinewidth\":0,\"ticks\":\"\"}}],\"histogram2d\":[{\"type\":\"histogram2d\",\"colorbar\":{\"outlinewidth\":0,\"ticks\":\"\"},\"colorscale\":[[0.0,\"#0d0887\"],[0.1111111111111111,\"#46039f\"],[0.2222222222222222,\"#7201a8\"],[0.3333333333333333,\"#9c179e\"],[0.4444444444444444,\"#bd3786\"],[0.5555555555555556,\"#d8576b\"],[0.6666666666666666,\"#ed7953\"],[0.7777777777777778,\"#fb9f3a\"],[0.8888888888888888,\"#fdca26\"],[1.0,\"#f0f921\"]]}],\"heatmap\":[{\"type\":\"heatmap\",\"colorbar\":{\"outlinewidth\":0,\"ticks\":\"\"},\"colorscale\":[[0.0,\"#0d0887\"],[0.1111111111111111,\"#46039f\"],[0.2222222222222222,\"#7201a8\"],[0.3333333333333333,\"#9c179e\"],[0.4444444444444444,\"#bd3786\"],[0.5555555555555556,\"#d8576b\"],[0.6666666666666666,\"#ed7953\"],[0.7777777777777778,\"#fb9f3a\"],[0.8888888888888888,\"#fdca26\"],[1.0,\"#f0f921\"]]}],\"heatmapgl\":[{\"type\":\"heatmapgl\",\"colorbar\":{\"outlinewidth\":0,\"ticks\":\"\"},\"colorscale\":[[0.0,\"#0d0887\"],[0.1111111111111111,\"#46039f\"],[0.2222222222222222,\"#7201a8\"],[0.3333333333333333,\"#9c179e\"],[0.4444444444444444,\"#bd3786\"],[0.5555555555555556,\"#d8576b\"],[0.6666666666666666,\"#ed7953\"],[0.7777777777777778,\"#fb9f3a\"],[0.8888888888888888,\"#fdca26\"],[1.0,\"#f0f921\"]]}],\"contourcarpet\":[{\"type\":\"contourcarpet\",\"colorbar\":{\"outlinewidth\":0,\"ticks\":\"\"}}],\"contour\":[{\"type\":\"contour\",\"colorbar\":{\"outlinewidth\":0,\"ticks\":\"\"},\"colorscale\":[[0.0,\"#0d0887\"],[0.1111111111111111,\"#46039f\"],[0.2222222222222222,\"#7201a8\"],[0.3333333333333333,\"#9c179e\"],[0.4444444444444444,\"#bd3786\"],[0.5555555555555556,\"#d8576b\"],[0.6666666666666666,\"#ed7953\"],[0.7777777777777778,\"#fb9f3a\"],[0.8888888888888888,\"#fdca26\"],[1.0,\"#f0f921\"]]}],\"surface\":[{\"type\":\"surface\",\"colorbar\":{\"outlinewidth\":0,\"ticks\":\"\"},\"colorscale\":[[0.0,\"#0d0887\"],[0.1111111111111111,\"#46039f\"],[0.2222222222222222,\"#7201a8\"],[0.3333333333333333,\"#9c179e\"],[0.4444444444444444,\"#bd3786\"],[0.5555555555555556,\"#d8576b\"],[0.6666666666666666,\"#ed7953\"],[0.7777777777777778,\"#fb9f3a\"],[0.8888888888888888,\"#fdca26\"],[1.0,\"#f0f921\"]]}],\"mesh3d\":[{\"type\":\"mesh3d\",\"colorbar\":{\"outlinewidth\":0,\"ticks\":\"\"}}],\"scatter\":[{\"fillpattern\":{\"fillmode\":\"overlay\",\"size\":10,\"solidity\":0.2},\"type\":\"scatter\"}],\"parcoords\":[{\"type\":\"parcoords\",\"line\":{\"colorbar\":{\"outlinewidth\":0,\"ticks\":\"\"}}}],\"scatterpolargl\":[{\"type\":\"scatterpolargl\",\"marker\":{\"colorbar\":{\"outlinewidth\":0,\"ticks\":\"\"}}}],\"bar\":[{\"error_x\":{\"color\":\"#2a3f5f\"},\"error_y\":{\"color\":\"#2a3f5f\"},\"marker\":{\"line\":{\"color\":\"#E5ECF6\",\"width\":0.5},\"pattern\":{\"fillmode\":\"overlay\",\"size\":10,\"solidity\":0.2}},\"type\":\"bar\"}],\"scattergeo\":[{\"type\":\"scattergeo\",\"marker\":{\"colorbar\":{\"outlinewidth\":0,\"ticks\":\"\"}}}],\"scatterpolar\":[{\"type\":\"scatterpolar\",\"marker\":{\"colorbar\":{\"outlinewidth\":0,\"ticks\":\"\"}}}],\"histogram\":[{\"marker\":{\"pattern\":{\"fillmode\":\"overlay\",\"size\":10,\"solidity\":0.2}},\"type\":\"histogram\"}],\"scattergl\":[{\"type\":\"scattergl\",\"marker\":{\"colorbar\":{\"outlinewidth\":0,\"ticks\":\"\"}}}],\"scatter3d\":[{\"type\":\"scatter3d\",\"line\":{\"colorbar\":{\"outlinewidth\":0,\"ticks\":\"\"}},\"marker\":{\"colorbar\":{\"outlinewidth\":0,\"ticks\":\"\"}}}],\"scattermapbox\":[{\"type\":\"scattermapbox\",\"marker\":{\"colorbar\":{\"outlinewidth\":0,\"ticks\":\"\"}}}],\"scatterternary\":[{\"type\":\"scatterternary\",\"marker\":{\"colorbar\":{\"outlinewidth\":0,\"ticks\":\"\"}}}],\"scattercarpet\":[{\"type\":\"scattercarpet\",\"marker\":{\"colorbar\":{\"outlinewidth\":0,\"ticks\":\"\"}}}],\"carpet\":[{\"aaxis\":{\"endlinecolor\":\"#2a3f5f\",\"gridcolor\":\"white\",\"linecolor\":\"white\",\"minorgridcolor\":\"white\",\"startlinecolor\":\"#2a3f5f\"},\"baxis\":{\"endlinecolor\":\"#2a3f5f\",\"gridcolor\":\"white\",\"linecolor\":\"white\",\"minorgridcolor\":\"white\",\"startlinecolor\":\"#2a3f5f\"},\"type\":\"carpet\"}],\"table\":[{\"cells\":{\"fill\":{\"color\":\"#EBF0F8\"},\"line\":{\"color\":\"white\"}},\"header\":{\"fill\":{\"color\":\"#C8D4E3\"},\"line\":{\"color\":\"white\"}},\"type\":\"table\"}],\"barpolar\":[{\"marker\":{\"line\":{\"color\":\"#E5ECF6\",\"width\":0.5},\"pattern\":{\"fillmode\":\"overlay\",\"size\":10,\"solidity\":0.2}},\"type\":\"barpolar\"}],\"pie\":[{\"automargin\":true,\"type\":\"pie\"}]},\"layout\":{\"autotypenumbers\":\"strict\",\"colorway\":[\"#636efa\",\"#EF553B\",\"#00cc96\",\"#ab63fa\",\"#FFA15A\",\"#19d3f3\",\"#FF6692\",\"#B6E880\",\"#FF97FF\",\"#FECB52\"],\"font\":{\"color\":\"#2a3f5f\"},\"hovermode\":\"closest\",\"hoverlabel\":{\"align\":\"left\"},\"paper_bgcolor\":\"white\",\"plot_bgcolor\":\"#E5ECF6\",\"polar\":{\"bgcolor\":\"#E5ECF6\",\"angularaxis\":{\"gridcolor\":\"white\",\"linecolor\":\"white\",\"ticks\":\"\"},\"radialaxis\":{\"gridcolor\":\"white\",\"linecolor\":\"white\",\"ticks\":\"\"}},\"ternary\":{\"bgcolor\":\"#E5ECF6\",\"aaxis\":{\"gridcolor\":\"white\",\"linecolor\":\"white\",\"ticks\":\"\"},\"baxis\":{\"gridcolor\":\"white\",\"linecolor\":\"white\",\"ticks\":\"\"},\"caxis\":{\"gridcolor\":\"white\",\"linecolor\":\"white\",\"ticks\":\"\"}},\"coloraxis\":{\"colorbar\":{\"outlinewidth\":0,\"ticks\":\"\"}},\"colorscale\":{\"sequential\":[[0.0,\"#0d0887\"],[0.1111111111111111,\"#46039f\"],[0.2222222222222222,\"#7201a8\"],[0.3333333333333333,\"#9c179e\"],[0.4444444444444444,\"#bd3786\"],[0.5555555555555556,\"#d8576b\"],[0.6666666666666666,\"#ed7953\"],[0.7777777777777778,\"#fb9f3a\"],[0.8888888888888888,\"#fdca26\"],[1.0,\"#f0f921\"]],\"sequentialminus\":[[0.0,\"#0d0887\"],[0.1111111111111111,\"#46039f\"],[0.2222222222222222,\"#7201a8\"],[0.3333333333333333,\"#9c179e\"],[0.4444444444444444,\"#bd3786\"],[0.5555555555555556,\"#d8576b\"],[0.6666666666666666,\"#ed7953\"],[0.7777777777777778,\"#fb9f3a\"],[0.8888888888888888,\"#fdca26\"],[1.0,\"#f0f921\"]],\"diverging\":[[0,\"#8e0152\"],[0.1,\"#c51b7d\"],[0.2,\"#de77ae\"],[0.3,\"#f1b6da\"],[0.4,\"#fde0ef\"],[0.5,\"#f7f7f7\"],[0.6,\"#e6f5d0\"],[0.7,\"#b8e186\"],[0.8,\"#7fbc41\"],[0.9,\"#4d9221\"],[1,\"#276419\"]]},\"xaxis\":{\"gridcolor\":\"white\",\"linecolor\":\"white\",\"ticks\":\"\",\"title\":{\"standoff\":15},\"zerolinecolor\":\"white\",\"automargin\":true,\"zerolinewidth\":2},\"yaxis\":{\"gridcolor\":\"white\",\"linecolor\":\"white\",\"ticks\":\"\",\"title\":{\"standoff\":15},\"zerolinecolor\":\"white\",\"automargin\":true,\"zerolinewidth\":2},\"scene\":{\"xaxis\":{\"backgroundcolor\":\"#E5ECF6\",\"gridcolor\":\"white\",\"linecolor\":\"white\",\"showbackground\":true,\"ticks\":\"\",\"zerolinecolor\":\"white\",\"gridwidth\":2},\"yaxis\":{\"backgroundcolor\":\"#E5ECF6\",\"gridcolor\":\"white\",\"linecolor\":\"white\",\"showbackground\":true,\"ticks\":\"\",\"zerolinecolor\":\"white\",\"gridwidth\":2},\"zaxis\":{\"backgroundcolor\":\"#E5ECF6\",\"gridcolor\":\"white\",\"linecolor\":\"white\",\"showbackground\":true,\"ticks\":\"\",\"zerolinecolor\":\"white\",\"gridwidth\":2}},\"shapedefaults\":{\"line\":{\"color\":\"#2a3f5f\"}},\"annotationdefaults\":{\"arrowcolor\":\"#2a3f5f\",\"arrowhead\":0,\"arrowwidth\":1},\"geo\":{\"bgcolor\":\"white\",\"landcolor\":\"#E5ECF6\",\"subunitcolor\":\"white\",\"showland\":true,\"showlakes\":true,\"lakecolor\":\"white\"},\"title\":{\"x\":0.05},\"mapbox\":{\"style\":\"light\"}}},\"xaxis\":{\"anchor\":\"y\",\"domain\":[0.0,1.0],\"title\":{},\"showgrid\":true,\"gridwidth\":1,\"gridcolor\":\"LightGrey\"},\"yaxis\":{\"anchor\":\"x\",\"domain\":[0.0,1.0],\"title\":{\"text\":\"Percent of For Sale Listings Market\"},\"showgrid\":true,\"gridwidth\":1,\"gridcolor\":\"LightGrey\",\"tickformat\":\".1%\"},\"legend\":{\"tracegroupgap\":0,\"x\":0.01,\"y\":0.99,\"traceorder\":\"normal\",\"xanchor\":\"left\",\"yanchor\":\"top\",\"title\":{\"text\":\"Rolling Window (Days)\"}},\"title\":{\"text\":\"Percent of For Sale Single Family Home Listings from 1000+ Unit Portfolios by Market (Rolling 30 Days)\",\"y\":0.97,\"x\":0.5,\"xanchor\":\"center\",\"yanchor\":\"top\"},\"barmode\":\"relative\",\"images\":[{\"sizex\":0.15,\"sizey\":0.15,\"source\":\"https:\\u002f\\u002fparcllabs-assets.s3.amazonaws.com\\u002fpowered-by-parcllabs-api-logo-white.png\",\"x\":0.5,\"xanchor\":\"center\",\"xref\":\"paper\",\"y\":1.02,\"yanchor\":\"bottom\",\"yref\":\"paper\"}],\"margin\":{\"b\":100},\"font\":{\"color\":\"#FFFFFF\"},\"width\":1600,\"height\":900,\"plot_bgcolor\":\"#080D16\",\"paper_bgcolor\":\"#080D16\"},                        {\"responsive\": true}                    ).then(function(){\n",
       "                            \n",
       "var gd = document.getElementById('dc61e625-a41d-4a5d-a367-ab0b1277cb56');\n",
       "var x = new MutationObserver(function (mutations, observer) {{\n",
       "        var display = window.getComputedStyle(gd).display;\n",
       "        if (!display || display === 'none') {{\n",
       "            console.log([gd, 'removed!']);\n",
       "            Plotly.purge(gd);\n",
       "            observer.disconnect();\n",
       "        }}\n",
       "}});\n",
       "\n",
       "// Listen for the removal of the full notebook cells\n",
       "var notebookContainer = gd.closest('#notebook-container');\n",
       "if (notebookContainer) {{\n",
       "    x.observe(notebookContainer, {childList: true});\n",
       "}}\n",
       "\n",
       "// Listen for the clearing of the current output cell\n",
       "var outputEl = gd.closest('.output');\n",
       "if (outputEl) {{\n",
       "    x.observe(outputEl, {childList: true});\n",
       "}}\n",
       "\n",
       "                        })                };                });            </script>        </div>"
      ]
     },
     "metadata": {},
     "output_type": "display_data"
    }
   ],
   "source": [
    "# Creating the horizontal bar chart\n",
    "fig = px.bar(\n",
    "    out, \n",
    "    y='pct_sf_for_sale_market',\n",
    "    x='name', \n",
    "    orientation='v',\n",
    "    title=f'Percent of For Sale Single Family Home Listings from 1000+ Unit Portfolios by Market (Rolling 30 Days)',\n",
    "    labels={'percent': 'Percent of Single Family Homes'}\n",
    ")\n",
    "\n",
    "# Adding the logo as a layout_image\n",
    "fig.add_layout_image(labs_logo_dict)\n",
    "\n",
    "# Adjusting the layout\n",
    "fig.update_layout(\n",
    "    margin=dict(b=100),\n",
    "    width=IMG_WIDTH,\n",
    "    height=IMG_HEIGHT,\n",
    "    legend=dict(\n",
    "        x=0.01,\n",
    "        y=0.99,\n",
    "        traceorder=\"normal\",\n",
    "        xanchor='left',\n",
    "        yanchor='top',\n",
    "        title='Rolling Window (Days)'\n",
    "    ),\n",
    "    title=PLOT_TITLE_SETTINGS,\n",
    "    plot_bgcolor='#080D16',\n",
    "    paper_bgcolor='#080D16',\n",
    "    font=dict(color='#FFFFFF'),\n",
    "    yaxis_title='Percent of For Sale Listings Market',\n",
    "    xaxis_title=None\n",
    ")\n",
    "\n",
    "# Bar color and other properties\n",
    "fig.update_traces(\n",
    "    marker_color='#448CF2',\n",
    "    marker_line_color='#FFFFFF',\n",
    "    marker_line_width=1.5,\n",
    "    opacity=0.8\n",
    ")\n",
    "\n",
    "# Adding gridlines\n",
    "fig.update_yaxes(showgrid=True, gridwidth=1, gridcolor='LightGrey', tickformat=\".1%\")\n",
    "fig.update_xaxes(showgrid=True, gridwidth=1, gridcolor='LightGrey')\n",
    "\n",
    "# Save the figure\n",
    "fig.write_image(os.path.join(output_dir, 'percent_of_resale_market_by_1000_plus_unit_portfolios.png'), width=IMG_WIDTH, height=IMG_HEIGHT)\n",
    "\n",
    "# Show the plot\n",
    "fig.show()\n"
   ]
  },
  {
   "cell_type": "code",
   "execution_count": 65,
   "id": "3962e5dc-9100-4d3b-bd69-30776a9b7fb5",
   "metadata": {},
   "outputs": [
    {
     "name": "stdout",
     "output_type": "stream",
     "text": [
      "1. Columbia: 43 units, 3.6% of market\n",
      "2. Jacksonville: 115 units, 3.2% of market\n",
      "3. Las Vegas: 161 units, 3.1% of market\n",
      "4. Charlotte: 114 units, 2.7% of market\n",
      "5. Indianapolis: 76 units, 2.6% of market\n",
      "6. Cape Coral: 55 units, 2.6% of market\n",
      "7. Birmingham: 53 units, 2.6% of market\n",
      "8. San Antonio: 113 units, 2.5% of market\n",
      "9. Lakeland: 38 units, 2.4% of market\n",
      "10. Atlanta: 294 units, 2.4% of market\n",
      "11. Orlando: 92 units, 2.2% of market\n",
      "12. Kansas City: 82 units, 2.0% of market\n",
      "13. Raleigh: 39 units, 2.0% of market\n",
      "14. Cincinnati: 54 units, 2.0% of market\n",
      "15. Detroit: 113 units, 2.0% of market\n",
      "16. Tampa: 120 units, 2.0% of market\n",
      "17. Dallas: 254 units, 1.9% of market\n",
      "18. Sacramento: 44 units, 1.9% of market\n",
      "19. Palm Bay: 26 units, 1.8% of market\n",
      "20. Houston: 202 units, 1.7% of market\n",
      "21. St. Louis: 72 units, 1.6% of market\n",
      "22. Phoenix: 110 units, 1.5% of market\n",
      "23. Cleveland: 27 units, 1.5% of market\n",
      "24. Pittsburgh: 29 units, 1.5% of market\n",
      "25. Miami: 84 units, 1.5% of market\n",
      "26. Chicago: 123 units, 1.4% of market\n",
      "27. Columbus: 35 units, 1.3% of market\n",
      "28. Austin: 57 units, 1.3% of market\n",
      "29. Denver: 44 units, 1.1% of market\n",
      "30. New York: 72 units, 1.0% of market\n",
      "31. Philadelphia: 44 units, 1.0% of market\n",
      "32. Minneapolis: 54 units, 1.0% of market\n",
      "33. Oklahoma City: 28 units, 1.0% of market\n",
      "34. Seattle: 28 units, 0.7% of market\n",
      "35. Riverside: 38 units, 0.7% of market\n",
      "36. Los Angeles: 50 units, 0.7% of market\n",
      "37. Washington: 27 units, 0.7% of market\n"
     ]
    }
   ],
   "source": [
    "# now lets simplify writing the text\n",
    "\n",
    "for index, row in out.iterrows():\n",
    "    rank = index+1\n",
    "    name = row['name']\n",
    "    count = int(row['counts'])\n",
    "    pct = row['pct_sf_for_sale_market']\n",
    "    msg = f\"{rank}. {name}: {count} units, {round(pct*100, 1)}% of market\"\n",
    "    print(msg)"
   ]
  },
  {
   "cell_type": "code",
   "execution_count": null,
   "id": "384b20ea-4b0e-4725-8ae1-fdd57848389c",
   "metadata": {},
   "outputs": [],
   "source": []
  }
 ],
 "metadata": {
  "kernelspec": {
   "display_name": "Python (parcllabs-env)",
   "language": "python",
   "name": "parcllabs-env"
  },
  "language_info": {
   "codemirror_mode": {
    "name": "ipython",
    "version": 3
   },
   "file_extension": ".py",
   "mimetype": "text/x-python",
   "name": "python",
   "nbconvert_exporter": "python",
   "pygments_lexer": "ipython3",
   "version": "3.11.9"
  }
 },
 "nbformat": 4,
 "nbformat_minor": 5
}
