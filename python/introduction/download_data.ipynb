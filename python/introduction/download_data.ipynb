{
  "cells": [
    {
      "cell_type": "markdown",
      "metadata": {
        "id": "6K7y3kvryiwc"
      },
      "source": [
        "# Welcome to the Lab 🥼🧪\n",
        "\n",
        "#### How to Download Data as a CSV?\n",
        "\n",
        "In this notebook, you will learn how to use the Parcl Labs API to search for markets and download data as CSV files. This guide will help you:\n",
        "\n",
        "1. **Search for Markets:** Understand how to use the search feature to find markets and retrieve their unique identifiers (`parcl_ids`).\n",
        "2. **Retrieve Data:** Use these `parcl_ids` to pull various types of data about the markets, including housing metrics, investor metrics, portfolio metrics, and more.\n",
        "3. **Download CSV Files:** Save the retrieved data as CSV files for further analysis and use in tools like Excel.\n",
        "\n",
        "The Parcl Labs API includes over 70,000 markets, each identified by a unique `parcl_id`. The search feature allows you to retrieve these `parcl_ids`, which you can then use to pull detailed data about specific markets using other API methods.\n",
        "\n",
        "**Reminders:**\n",
        "\n",
        "- You can get your Parcl Labs API key [here](https://dashboard.parcllabs.com/signup) to follow along.\n",
        "\n",
        "- To run this immediately, you can use Google Colab. Remember, you must set your `PARCL_LABS_API_KEY` as a secret. See this Google Colab [guide](https://medium.com/@parthdasawant/how-to-use-secrets-in-google-colab-450c38e3ec75) for more information.\n",
        "- To run this notebook at scale and download data for multiple markets and endpoints, you will need to upgrade your Parcl Labs API account from free to starter to get additional credits. You can easily upgrade at any time by visiting your [Parcl Labs dashboard](https://dashboard.parcllabs.com/login), clicking \"Upgrade Now\" ($99, no commitment). This will unlock more credits immediately.\n",
        "\n",
        "Run in Collab --> [![Open in Colab](https://colab.research.google.com/assets/colab-badge.svg)](https://colab.research.google.com/github/ParclLabs/parcllabs-examples/blob/main/python/introduction/download_data.ipynb)\n",
        "\n",
        "**Table of Contents Of Endpoint Data Downloads:**\n",
        "1. **Market Metrics:**\n",
        "   - [Housing Event Counts](https://docs.parcllabs.com/reference/housing_event_counts_v1_market_metrics__parcl_id__housing_event_counts_get-1)\n",
        "   - [Housing Event Prices](https://docs.parcllabs.com/reference/housing_event_prices_v1_market_metrics__parcl_id__housing_event_prices_get-1)\n",
        "   - [Housing Stock](https://docs.parcllabs.com/reference/housing_stock_v1_market_metrics__parcl_id__housing_stock_get-1)\n",
        "   - [All Cash Transactions](https://docs.parcllabs.com/reference/all_cash_v1_market_metrics__parcl_id__all_cash_get)\n",
        "   - [Housing Event Property Attributes](https://docs.parcllabs.com/reference/housing_event_property_attributes_v1_market_metrics__parcl_id__housing_event_property_attributes_get)\n",
        "2. **For Sale Market Metrics:**\n",
        "   - [New Listings Rolling Counts](https://docs.parcllabs.com/reference/new_listings_rolling_counts_v1_for_sale_market_metrics__parcl_id__new_listings_rolling_counts_get-1)\n",
        "   - [For Sale Inventory](https://docs.parcllabs.com/reference/for_sale_inventory_v1_for_sale_market_metrics__parcl_id__for_sale_inventory_get)\n",
        "   - [For Sale Inventory Price Changes](https://docs.parcllabs.com/reference/for_sale_inventory_price_changes_v1_for_sale_market_metrics__parcl_id__for_sale_inventory_price_changes_get)\n",
        "3. **Rental Market Metrics:**\n",
        "   - [Gross Yield](https://docs.parcllabs.com/reference/gross_yield_v1_rental_market_metrics__parcl_id__gross_yield_get-1)\n",
        "   - [Rental Units Concentration](https://docs.parcllabs.com/reference/rental_units_concentration_v1_rental_market_metrics__parcl_id__rental_units_concentration_get)\n",
        "   - [New Listings for Rent Rolling Counts](https://docs.parcllabs.com/reference/new_listings_for_rent_rolling_counts_v1_rental_market_metrics__parcl_id__new_listings_for_rent_rolling_counts_get-1)\n",
        "4. **Investor Metrics:**\n",
        "   - [Housing Event Counts](https://docs.parcllabs.com/reference/housing_event_counts_v1_investor_metrics__parcl_id__housing_event_counts_get-1)\n",
        "   - [Purchase to Sale Ratio](https://docs.parcllabs.com/reference/purchase_to_sale_ratio_v1_investor_metrics__parcl_id__purchase_to_sale_ratio_get-1)\n",
        "   - [New Listings for Sale Rolling Counts](https://docs.parcllabs.com/reference/new_listings_for_sale_rolling_counts_v1_investor_metrics__parcl_id__new_listings_for_sale_rolling_counts_get-1)\n",
        "   - [Housing Stock Ownership](https://docs.parcllabs.com/reference/housing_stock_ownership_v1_investor_metrics__parcl_id__housing_stock_ownership_get-1)\n",
        "   - [Housing Event Prices](https://docs.parcllabs.com/reference/housing_event_prices_v1_investor_metrics__parcl_id__housing_event_prices_get)\n",
        "5. **Portfolio Metrics:**\n",
        "   - [Single Family Housing Event Counts](https://docs.parcllabs.com/reference/sf_housing_event_counts_v1_portfolio_metrics__parcl_id__sf_housing_event_counts_get)\n",
        "   - [Single Family Housing Stock Ownership](https://docs.parcllabs.com/reference/sf_housing_stock_ownership_v1_portfolio_metrics__parcl_id__sf_housing_stock_ownership_get-1)\n",
        "   - [New Listings for Sale Rolling Counts](https://docs.parcllabs.com/reference/sf_new_listings_for_sale_rolling_counts_v1_portfolio_metrics__parcl_id__sf_new_listings_for_sale_rolling_counts_get)\n",
        "   - [New Listings for Rent Rolling Counts](https://docs.parcllabs.com/reference/sf_new_listings_for_rent_rolling_counts_v1_portfolio_metrics__parcl_id__sf_new_listings_for_rent_rolling_counts_get)"
      ]
    },
    {
      "cell_type": "code",
      "execution_count": null,
      "metadata": {
        "id": "9yBKLjQgyiwf"
      },
      "outputs": [],
      "source": [
        "import os\n",
        "import sys\n",
        "import json\n",
        "import subprocess\n",
        "from datetime import datetime\n",
        "from urllib.request import urlopen\n",
        "\n",
        "# Check if running in Google Colab\n",
        "if \"google.colab\" in sys.modules:\n",
        "    from google.colab import userdata\n",
        "    # Install required packages\n",
        "    subprocess.check_call([sys.executable, '-m', 'pip', 'install', 'parcllabs', 'plotly', 'kaleido'])\n",
        "    # Retrieve API key from user data\n",
        "    api_key = userdata.get('PARCL_LABS_API_KEY')\n",
        "else:\n",
        "    # Retrieve API key from environment variable\n",
        "    api_key = os.getenv('PARCL_LABS_API_KEY')\n",
        "\n",
        "# Ensure the API key is available\n",
        "if not api_key:\n",
        "    raise ValueError(\"API key for Parcl Labs is not set. Please set the 'PARCL_LABS_API_KEY' environment variable or provide it in Google Colab's userdata.\")"
      ]
    },
    {
      "cell_type": "code",
      "execution_count": null,
      "metadata": {
        "colab": {
          "base_uri": "https://localhost:8080/"
        },
        "id": "NaeIYWshyiwg",
        "outputId": "4a5beaff-262c-4dc4-d225-4b2879dad714"
      },
      "outputs": [],
      "source": [
        "# Import parcllabs and create a client\n",
        "import parcllabs\n",
        "from parcllabs import ParclLabsClient\n",
        "\n",
        "# Print the version of parcllabs\n",
        "print(f\"Parcl Labs Version: {parcllabs.__version__}\")"
      ]
    },
    {
      "cell_type": "code",
      "execution_count": null,
      "metadata": {
        "id": "iVRJ_V4jyiwg"
      },
      "outputs": [],
      "source": [
        "# Initialize the Parcl Labs client with a limit for all calls\n",
        "client = ParclLabsClient(api_key, limit=12)"
      ]
    },
    {
      "cell_type": "code",
      "execution_count": null,
      "metadata": {
        "colab": {
          "base_uri": "https://localhost:8080/",
          "height": 204
        },
        "id": "N4pF7_wByiwg",
        "outputId": "956bca3b-3b5f-4702-b372-47053754d996"
      },
      "outputs": [],
      "source": [
        "# Let's get some sample markets to download data for; everything starts with a search.\n",
        "# We'll retrieve the top 12 most populous metropolitan statistical areas (MSAs) in the country.\n",
        "# There are many different ways to search for markets. The markets defined here will be used to set the fields for downloaded data.\n",
        "# For more details, please refer to the Search Notebook: https://github.com/ParclLabs/parcllabs-examples/blob/main/python/introduction/search.ipynb\n",
        "\n",
        "markets = client.search_markets.retrieve(\n",
        "    location_type='CBSA',  # Used: CBSA stands for Core-Based Statistical Area, which includes metropolitan areas. Example: 'CITY'\n",
        "    sort_by='TOTAL_POPULATION',  # Used: We're sorting the results by total population to get the largest metros. Example: 'MEDIAN_INCOME'\n",
        "    sort_order='DESC',  # Used: DESC means descending order, so the largest populations come first. Example: 'ASC'\n",
        "    as_dataframe=True  # Used: We want the results returned as a DataFrame for easy handling in Python.\n",
        "\n",
        "    # Other available parameters:\n",
        "    # region='EAST_NORTH_CENTRAL',  # Specify the region if needed.\n",
        "    # state_abbreviation='CA',  # Filter by state abbreviation.\n",
        "    # query='San Francisco',  # Search by market name or other keywords.\n",
        ")\n",
        "\n",
        "# Let's store the unique identifiers (parcl_ids) of these markets for later use.\n",
        "# We'll need these IDs to download specific data for each market in subsequent steps.\n",
        "parcl_ids = markets['parcl_id'].tolist()\n",
        "\n",
        "# Display the top 5 markets to verify our search results.\n",
        "markets.head(5)"
      ]
    },
    {
      "cell_type": "code",
      "execution_count": null,
      "metadata": {
        "id": "ROmBzD0Dyiwh"
      },
      "outputs": [],
      "source": [
        "# Set the start date for the entire notebook.\n",
        "# This date defines the beginning of the data range we want to retrieve.\n",
        "# You can change this date to alter the range of data that is returned.\n",
        "START_DATE = '2023-01-01'\n",
        "\n",
        "# Placeholder for the end date parameter.\n",
        "# END_DATE = 'YYYY-MM-DD'  # Uncomment and set the end date if needed.\n",
        "\n",
        "# For this example, we're only setting the start date to get data from the past year."
      ]
    },
    {
      "cell_type": "code",
      "execution_count": null,
      "metadata": {
        "colab": {
          "base_uri": "https://localhost:8080/",
          "height": 221
        },
        "id": "nrGG0QVPzOW3",
        "outputId": "03850b45-2886-470e-f2d2-2e23a4d449f1"
      },
      "outputs": [],
      "source": [
        "# Download data from the Housing Event Counts endpoint\n",
        "results_housing_event_counts = client.market_metrics_housing_event_counts.retrieve_many(\n",
        "    parcl_ids=parcl_ids,\n",
        "    start_date=START_DATE,\n",
        "    # end_date=END_DATE,  # Uncomment and set the end date if needed.\n",
        "    # property_type='ALL_PROPERTIES',  # Uncomment and set the property type if needed.\n",
        "    as_dataframe=True\n",
        ")\n",
        "\n",
        "# Include the parcl_id and market name in the DataFrame\n",
        "results_housing_event_counts = results_housing_event_counts.merge(markets[['parcl_id', 'name']], on='parcl_id')\n",
        "\n",
        "# Display the first few rows to verify the results\n",
        "results_housing_event_counts.head()"
      ]
    },
    {
      "cell_type": "code",
      "execution_count": null,
      "metadata": {
        "id": "3kHabnvDzOUg"
      },
      "outputs": [],
      "source": [
        "# Save the data to the housing_event_counts CSV file locally\n",
        "results_housing_event_counts.to_csv('housing_event_counts.csv', index=False)"
      ]
    },
    {
      "cell_type": "code",
      "execution_count": null,
      "metadata": {
        "colab": {
          "base_uri": "https://localhost:8080/",
          "height": 221
        },
        "id": "9WhNVUrRzOR8",
        "outputId": "52f8a186-639d-4d3b-b524-7be39ef8fc37"
      },
      "outputs": [],
      "source": [
        "# Download data from the Housing Stock endpoint\n",
        "results_housing_stock = client.market_metrics_housing_stock.retrieve_many(\n",
        "    parcl_ids=parcl_ids,\n",
        "    start_date=START_DATE,\n",
        "    # end_date=END_DATE,  # Uncomment and set the end date if needed.\n",
        "    as_dataframe=True\n",
        ")\n",
        "\n",
        "# Include the parcl_id and market name in the DataFrame\n",
        "results_housing_stock = results_housing_stock.merge(markets[['parcl_id', 'name']], on='parcl_id')\n",
        "\n",
        "# Display the first few rows to verify the results\n",
        "results_housing_stock.head()"
      ]
    },
    {
      "cell_type": "code",
      "execution_count": null,
      "metadata": {
        "id": "0RBi2mR7zOPI"
      },
      "outputs": [],
      "source": [
        "# Save the data to the housing_stock CSV file locally\n",
        "results_housing_stock.to_csv('housing_stock.csv', index=False)"
      ]
    },
    {
      "cell_type": "code",
      "execution_count": null,
      "metadata": {
        "colab": {
          "base_uri": "https://localhost:8080/",
          "height": 780
        },
        "id": "gR1Olc7IzOMJ",
        "outputId": "6e67015b-8458-46e6-d1cf-147854f0a6b8"
      },
      "outputs": [],
      "source": [
        "# Download data from the Housing Event Prices endpoint\n",
        "results_housing_event_prices = client.market_metrics_housing_event_prices.retrieve_many(\n",
        "    parcl_ids=parcl_ids,\n",
        "    start_date=START_DATE,\n",
        "    # end_date=END_DATE,  # Uncomment and set the end date if needed.\n",
        "    # property_type='ALL_PROPERTIES',  # Uncomment and set the property type if needed.\n",
        "    as_dataframe=True\n",
        ")\n",
        "\n",
        "# Include the parcl_id and market name in the DataFrame\n",
        "results_housing_event_prices = results_housing_event_prices.merge(markets[['parcl_id', 'name']], on='parcl_id')\n",
        "\n",
        "# Display the first few rows to verify the results\n",
        "results_housing_event_prices.head()"
      ]
    },
    {
      "cell_type": "code",
      "execution_count": null,
      "metadata": {
        "id": "Nk-2HjXdzOD4"
      },
      "outputs": [],
      "source": [
        "# Save the data to the housing_event_prices CSV file locally\n",
        "results_housing_event_prices.to_csv('housing_event_prices.csv', index=False)"
      ]
    },
    {
      "cell_type": "code",
      "execution_count": null,
      "metadata": {
        "colab": {
          "base_uri": "https://localhost:8080/",
          "height": 780
        },
        "id": "Pt2mqBfJ40TN",
        "outputId": "d811acdc-8b1a-43d7-f482-93e2f58db1e9"
      },
      "outputs": [],
      "source": [
        "# Download data from the Housing Event Property Attributes endpoint\n",
        "results_housing_event_property_attributes = client.market_metrics_housing_event_property_attributes.retrieve_many(\n",
        "    parcl_ids=parcl_ids,\n",
        "    start_date=START_DATE,\n",
        "    # end_date=END_DATE,  # Uncomment and set the end date if needed.\n",
        "    # property_type='ALL_PROPERTIES',  # Uncomment and set the property type if needed.\n",
        "    as_dataframe=True\n",
        ")\n",
        "\n",
        "# Include the parcl_id and market name in the DataFrame\n",
        "results_housing_event_property_attributes = results_housing_event_property_attributes.merge(markets[['parcl_id', 'name']], on='parcl_id')\n",
        "\n",
        "# Display the first few rows to verify the results\n",
        "results_housing_event_property_attributes.head()"
      ]
    },
    {
      "cell_type": "code",
      "execution_count": null,
      "metadata": {
        "id": "OGc9Cj3d40QX"
      },
      "outputs": [],
      "source": [
        "# Save the data to the housing_event_property_attributes CSV file locally\n",
        "results_housing_event_property_attributes.to_csv('housing_event_property_attributes.csv', index=False)"
      ]
    },
    {
      "cell_type": "code",
      "execution_count": null,
      "metadata": {
        "colab": {
          "base_uri": "https://localhost:8080/",
          "height": 221
        },
        "id": "veayTnF940NJ",
        "outputId": "67f29ccc-524f-4391-e6dd-7b89e69994e1"
      },
      "outputs": [],
      "source": [
        "# Download data from the All Cash endpoint\n",
        "results_all_cash = client.market_metrics_all_cash.retrieve_many(\n",
        "    parcl_ids=parcl_ids,\n",
        "    start_date=START_DATE,\n",
        "    # end_date=END_DATE,  # Uncomment and set the end date if needed.\n",
        "    # property_type='ALL_PROPERTIES',  # Uncomment and set the property type if needed.\n",
        "    as_dataframe=True\n",
        ")\n",
        "\n",
        "# Include the parcl_id and market name in the DataFrame\n",
        "results_all_cash = results_all_cash.merge(markets[['parcl_id', 'name']], on='parcl_id')\n",
        "\n",
        "# Display the first few rows to verify the results\n",
        "results_all_cash.head()"
      ]
    },
    {
      "cell_type": "code",
      "execution_count": null,
      "metadata": {
        "id": "8RDgL1YU40Ky"
      },
      "outputs": [],
      "source": [
        "# Save the data to the all_cash CSV file locally\n",
        "results_all_cash.to_csv('all_cash.csv', index=False)"
      ]
    },
    {
      "cell_type": "code",
      "execution_count": null,
      "metadata": {
        "colab": {
          "base_uri": "https://localhost:8080/",
          "height": 221
        },
        "id": "YRO14M3040Ik",
        "outputId": "ffbabef5-62fc-4074-ccd9-69010b43df3c"
      },
      "outputs": [],
      "source": [
        "# Download data from the Rental Market Metrics Gross Yield endpoint\n",
        "results_gross_yield = client.rental_market_metrics_gross_yield.retrieve_many(\n",
        "    parcl_ids=parcl_ids,\n",
        "    start_date=START_DATE,\n",
        "    # end_date=END_DATE,  # Uncomment and set the end date if needed.\n",
        "    # property_type='ALL_PROPERTIES',  # Uncomment and set the property type if needed.\n",
        "    as_dataframe=True\n",
        ")\n",
        "\n",
        "# Include the parcl_id and market name in the DataFrame\n",
        "results_gross_yield = results_gross_yield.merge(markets[['parcl_id', 'name']], on='parcl_id')\n",
        "\n",
        "# Display the first few rows to verify the results\n",
        "results_gross_yield.head()"
      ]
    },
    {
      "cell_type": "code",
      "execution_count": null,
      "metadata": {
        "id": "IQgowV2a4z9W"
      },
      "outputs": [],
      "source": [
        "# Save the data to the gross_yield CSV file locally\n",
        "results_gross_yield.to_csv('gross_yield.csv', index=False)"
      ]
    },
    {
      "cell_type": "code",
      "execution_count": null,
      "metadata": {
        "colab": {
          "base_uri": "https://localhost:8080/",
          "height": 221
        },
        "id": "bkgN7u3V5qng",
        "outputId": "1c2507a7-075b-4c98-cfc0-117c754e39be"
      },
      "outputs": [],
      "source": [
        "# Download data from the Rental Market Metrics Rental Units Concentration endpoint\n",
        "results_rental_units_concentration = client.rental_market_metrics_rental_units_concentration.retrieve_many(\n",
        "    parcl_ids=parcl_ids,\n",
        "    start_date=START_DATE,\n",
        "    # end_date=END_DATE,  # Uncomment and set the end date if needed.\n",
        "    # property_type='ALL_PROPERTIES',  # Uncomment and set the property type if needed.\n",
        "    as_dataframe=True\n",
        ")\n",
        "\n",
        "# Include the parcl_id and market name in the DataFrame\n",
        "results_rental_units_concentration = results_rental_units_concentration.merge(markets[['parcl_id', 'name']], on='parcl_id')\n",
        "\n",
        "# Display the first few rows to verify the results\n",
        "results_rental_units_concentration.head()"
      ]
    },
    {
      "cell_type": "code",
      "execution_count": null,
      "metadata": {
        "id": "F4FwDY855qi0"
      },
      "outputs": [],
      "source": [
        "# Save the data to the rental_units_concentration CSV file locally\n",
        "results_rental_units_concentration.to_csv('rental_units_concentration.csv', index=False)"
      ]
    },
    {
      "cell_type": "code",
      "execution_count": null,
      "metadata": {
        "colab": {
          "base_uri": "https://localhost:8080/",
          "height": 221
        },
        "id": "lHY6egHG5qbk",
        "outputId": "08f52985-75d9-4093-de33-b47787450fbc"
      },
      "outputs": [],
      "source": [
        "# Download data from the Rental Market Metrics New Listings for Rent Rolling Counts endpoint\n",
        "results_new_listings_for_rent_rolling_counts = client.rental_market_metrics_new_listings_for_rent_rolling_counts.retrieve_many(\n",
        "    parcl_ids=parcl_ids,\n",
        "    start_date=START_DATE,\n",
        "    # end_date=END_DATE,  # Uncomment and set the end date if needed.\n",
        "    # property_type='ALL_PROPERTIES',  # Uncomment and set the property type if needed.\n",
        "    as_dataframe=True\n",
        ")\n",
        "\n",
        "# Include the parcl_id and market name in the DataFrame\n",
        "results_new_listings_for_rent_rolling_counts = results_new_listings_for_rent_rolling_counts.merge(markets[['parcl_id', 'name']], on='parcl_id')\n",
        "\n",
        "# Display the first few rows to verify the results\n",
        "results_new_listings_for_rent_rolling_counts.head()"
      ]
    },
    {
      "cell_type": "code",
      "execution_count": null,
      "metadata": {
        "id": "q6mNyq8h5qY4"
      },
      "outputs": [],
      "source": [
        "# Save the data to the new_listings_for_rent_rolling_counts CSV file locally\n",
        "results_new_listings_for_rent_rolling_counts.to_csv('new_listings_for_rent_rolling_counts.csv', index=False)"
      ]
    },
    {
      "cell_type": "code",
      "execution_count": null,
      "metadata": {
        "colab": {
          "base_uri": "https://localhost:8080/",
          "height": 221
        },
        "id": "mndg44W46s7U",
        "outputId": "40cd5790-c9f5-4625-9ed4-cb81a9b5ec6b"
      },
      "outputs": [],
      "source": [
        "# Download data from the For Sale Market Metrics New Listings Rolling Counts endpoint\n",
        "results_new_listings_rolling_counts = client.for_sale_market_metrics_new_listings_rolling_counts.retrieve_many(\n",
        "    parcl_ids=parcl_ids,\n",
        "    start_date=START_DATE,\n",
        "    # end_date=END_DATE,  # Uncomment and set the end date if needed.\n",
        "    # property_type='ALL_PROPERTIES',  # Uncomment and set the property type if needed.\n",
        "    as_dataframe=True\n",
        ")\n",
        "\n",
        "# Include the parcl_id and market name in the DataFrame\n",
        "results_new_listings_rolling_counts = results_new_listings_rolling_counts.merge(markets[['parcl_id', 'name']], on='parcl_id')\n",
        "\n",
        "# Display the first few rows to verify the results\n",
        "results_new_listings_rolling_counts.head()"
      ]
    },
    {
      "cell_type": "code",
      "execution_count": null,
      "metadata": {
        "id": "-gZV33q26s5A"
      },
      "outputs": [],
      "source": [
        "# Save the data to the new_listings_rolling_counts CSV file locally\n",
        "results_new_listings_rolling_counts.to_csv('new_listings_rolling_counts.csv', index=False)"
      ]
    },
    {
      "cell_type": "code",
      "execution_count": null,
      "metadata": {
        "colab": {
          "base_uri": "https://localhost:8080/",
          "height": 221
        },
        "id": "gs8mcEee6s2o",
        "outputId": "ccc354d6-12f9-4996-c0cb-f4a725118d1f"
      },
      "outputs": [],
      "source": [
        "# Download data from the For Sale Market Metrics For Sale Inventory Price Changes endpoint\n",
        "results_for_sale_inventory_price_changes = client.for_sale_market_metrics_for_sale_inventory_price_changes.retrieve_many(\n",
        "    parcl_ids=parcl_ids,\n",
        "    start_date=START_DATE,\n",
        "    # end_date=END_DATE,  # Uncomment and set the end date if needed.\n",
        "    # property_type='ALL_PROPERTIES',  # Uncomment and set the property type if needed.\n",
        "    as_dataframe=True\n",
        ")\n",
        "\n",
        "# Include the parcl_id and market name in the DataFrame\n",
        "results_for_sale_inventory_price_changes = results_for_sale_inventory_price_changes.merge(markets[['parcl_id', 'name']], on='parcl_id')\n",
        "\n",
        "# Display the first few rows to verify the results\n",
        "results_for_sale_inventory_price_changes.head()"
      ]
    },
    {
      "cell_type": "code",
      "execution_count": null,
      "metadata": {
        "id": "S3J9vaf36s0Y"
      },
      "outputs": [],
      "source": [
        "# Save the data to the for_sale_inventory_price_changes CSV file locally\n",
        "results_for_sale_inventory_price_changes.to_csv('for_sale_inventory_price_changes.csv', index=False)"
      ]
    },
    {
      "cell_type": "code",
      "execution_count": null,
      "metadata": {
        "colab": {
          "base_uri": "https://localhost:8080/",
          "height": 221
        },
        "id": "HbclBfL36sx7",
        "outputId": "09948b6f-ae5e-4617-f9d4-3e0c4a51f123"
      },
      "outputs": [],
      "source": [
        "# Download data from the Investor Metrics Housing Event Counts endpoint\n",
        "results_investor_housing_event_counts = client.investor_metrics_housing_event_counts.retrieve_many(\n",
        "    parcl_ids=parcl_ids,\n",
        "    start_date=START_DATE,\n",
        "    # end_date=END_DATE,  # Uncomment and set the end date if needed.\n",
        "    as_dataframe=True\n",
        ")\n",
        "\n",
        "# Include the parcl_id and market name in the DataFrame\n",
        "results_investor_housing_event_counts = results_investor_housing_event_counts.merge(markets[['parcl_id', 'name']], on='parcl_id')\n",
        "\n",
        "# Display the first few rows to verify the results\n",
        "results_investor_housing_event_counts.head()"
      ]
    },
    {
      "cell_type": "code",
      "execution_count": null,
      "metadata": {
        "id": "y9qBRIAk6svs"
      },
      "outputs": [],
      "source": [
        "# Save the data to the investor_housing_event_counts CSV file locally\n",
        "results_investor_housing_event_counts.to_csv('investor_housing_event_counts.csv', index=False)"
      ]
    },
    {
      "cell_type": "code",
      "execution_count": null,
      "metadata": {
        "colab": {
          "base_uri": "https://localhost:8080/",
          "height": 221
        },
        "id": "nwSbft8f6skN",
        "outputId": "94c734d2-5caf-4757-a88e-3d615e7cae5b"
      },
      "outputs": [],
      "source": [
        "# Download data from the Investor Metrics Purchase to Sale Ratio endpoint\n",
        "results_purchase_to_sale_ratio = client.investor_metrics_purchase_to_sale_ratio.retrieve_many(\n",
        "    parcl_ids=parcl_ids,\n",
        "    start_date=START_DATE,\n",
        "    # end_date=END_DATE,  # Uncomment and set the end date if needed.\n",
        "    as_dataframe=True\n",
        ")\n",
        "\n",
        "# Include the parcl_id and market name in the DataFrame\n",
        "results_purchase_to_sale_ratio = results_purchase_to_sale_ratio.merge(markets[['parcl_id', 'name']], on='parcl_id')\n",
        "\n",
        "# Display the first few rows to verify the results\n",
        "results_purchase_to_sale_ratio.head()"
      ]
    },
    {
      "cell_type": "code",
      "execution_count": null,
      "metadata": {
        "id": "IaQ1cs-A8pF2"
      },
      "outputs": [],
      "source": [
        "# Save the data to the purchase_to_sale_ratio CSV file locally\n",
        "results_purchase_to_sale_ratio.to_csv('purchase_to_sale_ratio.csv', index=False)"
      ]
    },
    {
      "cell_type": "code",
      "execution_count": null,
      "metadata": {
        "colab": {
          "base_uri": "https://localhost:8080/",
          "height": 306
        },
        "id": "0y7w_U8c8pC1",
        "outputId": "50125b4b-3cdd-4196-9e0d-a2728802fb73"
      },
      "outputs": [],
      "source": [
        "# Download data from the Investor Metrics New Listings for Sale Rolling Counts endpoint\n",
        "results_new_listings_for_sale_rolling_counts = client.investor_metrics_new_listings_for_sale_rolling_counts.retrieve_many(\n",
        "    parcl_ids=parcl_ids,\n",
        "    start_date=START_DATE,\n",
        "    # end_date=END_DATE,  # Uncomment and set the end date if needed.\n",
        "    as_dataframe=True\n",
        ")\n",
        "\n",
        "# Include the parcl_id and market name in the DataFrame\n",
        "results_new_listings_for_sale_rolling_counts = results_new_listings_for_sale_rolling_counts.merge(markets[['parcl_id', 'name']], on='parcl_id')\n",
        "\n",
        "# Display the first few rows to verify the results\n",
        "results_new_listings_for_sale_rolling_counts.head()"
      ]
    },
    {
      "cell_type": "code",
      "execution_count": null,
      "metadata": {
        "id": "IyQLz75d9Lmn"
      },
      "outputs": [],
      "source": [
        "# Save the data to the new_listings_for_sale_rolling_counts CSV file locally\n",
        "results_new_listings_for_sale_rolling_counts.to_csv('new_listings_for_sale_rolling_counts.csv', index=False)"
      ]
    },
    {
      "cell_type": "code",
      "execution_count": null,
      "metadata": {
        "colab": {
          "base_uri": "https://localhost:8080/",
          "height": 221
        },
        "id": "heJBS46Z9Lkx",
        "outputId": "d6df26ea-5869-49b0-d956-f26f082359e1"
      },
      "outputs": [],
      "source": [
        "# Download data from the Investor Metrics Housing Stock Ownership endpoint\n",
        "results_housing_stock_ownership = client.investor_metrics_housing_stock_ownership.retrieve_many(\n",
        "    parcl_ids=parcl_ids,\n",
        "    start_date=START_DATE,\n",
        "    # end_date=END_DATE,  # Uncomment and set the end date if needed.\n",
        "    as_dataframe=True\n",
        ")\n",
        "\n",
        "# Include the parcl_id and market name in the DataFrame\n",
        "results_housing_stock_ownership = results_housing_stock_ownership.merge(markets[['parcl_id', 'name']], on='parcl_id')\n",
        "\n",
        "# Display the first few rows to verify the results\n",
        "results_housing_stock_ownership.head()"
      ]
    },
    {
      "cell_type": "code",
      "execution_count": null,
      "metadata": {
        "id": "fsormAvX9Lh0"
      },
      "outputs": [],
      "source": [
        "# Save the data to the housing_stock_ownership CSV file locally\n",
        "results_housing_stock_ownership.to_csv('housing_stock_ownership.csv', index=False)"
      ]
    },
    {
      "cell_type": "code",
      "execution_count": null,
      "metadata": {
        "colab": {
          "base_uri": "https://localhost:8080/",
          "height": 751
        },
        "id": "f672Pe8u9LXX",
        "outputId": "7eb6e855-64b0-4803-fc9e-2551ef9d4629"
      },
      "outputs": [],
      "source": [
        "# Download data from the Investor Metrics Housing Event Prices endpoint\n",
        "results_investor_housing_event_prices = client.investor_metrics_housing_event_prices.retrieve_many(\n",
        "    parcl_ids=parcl_ids,\n",
        "    start_date=START_DATE,\n",
        "    # end_date=END_DATE,  # Uncomment and set the end date if needed.\n",
        "    as_dataframe=True\n",
        ")\n",
        "\n",
        "# Include the parcl_id and market name in the DataFrame\n",
        "results_investor_housing_event_prices = results_investor_housing_event_prices.merge(markets[['parcl_id', 'name']], on='parcl_id')\n",
        "\n",
        "# Display the first few rows to verify the results\n",
        "results_investor_housing_event_prices.head()"
      ]
    },
    {
      "cell_type": "code",
      "execution_count": null,
      "metadata": {
        "id": "QQEtnyk79ZQB"
      },
      "outputs": [],
      "source": [
        "# Save the data to the investor_housing_event_prices CSV file locally\n",
        "results_investor_housing_event_prices.to_csv('investor_housing_event_prices.csv', index=False)"
      ]
    },
    {
      "cell_type": "code",
      "execution_count": null,
      "metadata": {
        "colab": {
          "base_uri": "https://localhost:8080/",
          "height": 221
        },
        "id": "JQd7A5Gh9vez",
        "outputId": "94c86acc-2014-4dee-801f-dc42d8b0fe92"
      },
      "outputs": [],
      "source": [
        "# Download data from the Portfolio Metrics Single Family Housing Event Counts endpoint\n",
        "results_sf_housing_event_counts = client.portfolio_metrics_sf_housing_event_counts.retrieve_many(\n",
        "    parcl_ids=parcl_ids,\n",
        "    # end_date=END_DATE,  # Uncomment and set the end date if needed.\n",
        "    # portfolio_size='ALL_PORTFOLIOS',  # Uncomment and set the portfolio size if needed.\n",
        "    # Options: 'PORTFOLIO_2_TO_9', 'PORTFOLIO_10_TO_99', 'PORTFOLIO_100_TO_999', 'PORTFOLIO_1000_PLUS', 'ALL_PORTFOLIOS'\n",
        "    as_dataframe=True\n",
        ")\n",
        "\n",
        "# Include the parcl_id and market name in the DataFrame\n",
        "results_sf_housing_event_counts = results_sf_housing_event_counts.merge(markets[['parcl_id', 'name']], on='parcl_id')\n",
        "\n",
        "# Display the first few rows to verify the results\n",
        "results_sf_housing_event_counts.head()"
      ]
    },
    {
      "cell_type": "code",
      "execution_count": null,
      "metadata": {
        "id": "SXX7yKs59vcU"
      },
      "outputs": [],
      "source": [
        "# Save the data to the sf_housing_event_counts CSV file locally\n",
        "results_sf_housing_event_counts.to_csv('sf_housing_event_counts.csv', index=False)"
      ]
    },
    {
      "cell_type": "code",
      "execution_count": null,
      "metadata": {
        "colab": {
          "base_uri": "https://localhost:8080/",
          "height": 598
        },
        "id": "7seu8Z6WBIWS",
        "outputId": "ee34979a-e3d6-4634-afdd-2de5565aabe9"
      },
      "outputs": [],
      "source": [
        "# Download data from the Portfolio Metrics Single Family Housing Stock Ownership endpoint\n",
        "results_sf_housing_stock_ownership = client.portfolio_metrics_sf_housing_stock_ownership.retrieve_many(\n",
        "    parcl_ids=parcl_ids,\n",
        "    # end_date=END_DATE,  # Uncomment and set the end date if needed.\n",
        "    # portfolio_size='ALL_PORTFOLIOS',  # Uncomment and set the portfolio size if needed.\n",
        "    # Options: 'PORTFOLIO_2_TO_9', 'PORTFOLIO_10_TO_99', 'PORTFOLIO_100_TO_999', 'PORTFOLIO_1000_PLUS', 'ALL_PORTFOLIOS'\n",
        "    as_dataframe=True\n",
        ")\n",
        "\n",
        "# Include the parcl_id and market name in the DataFrame\n",
        "results_sf_housing_stock_ownership = results_sf_housing_stock_ownership.merge(markets[['parcl_id', 'name']], on='parcl_id')\n",
        "\n",
        "# Display the first few rows to verify the results\n",
        "results_sf_housing_stock_ownership.head()"
      ]
    },
    {
      "cell_type": "code",
      "execution_count": null,
      "metadata": {
        "id": "vOqV1jIfBIUJ"
      },
      "outputs": [],
      "source": [
        "# Save the data to the sf_housing_stock_ownership CSV file locally\n",
        "results_sf_housing_stock_ownership.to_csv('sf_housing_stock_ownership.csv', index=False)"
      ]
    },
    {
      "cell_type": "code",
      "execution_count": null,
      "metadata": {
        "colab": {
          "base_uri": "https://localhost:8080/",
          "height": 731
        },
        "id": "dVzKFiuH9vVx",
        "outputId": "d4a575ca-3959-41ea-ab3f-e4a92933d8b5"
      },
      "outputs": [],
      "source": [
        "# Download data from the Portfolio Metrics New Listings for Sale Rolling Counts endpoint\n",
        "results_new_listings_for_sale_rolling_counts = client.portfolio_metrics_new_listings_for_sale_rolling_counts.retrieve_many(\n",
        "    parcl_ids=parcl_ids,\n",
        "    # end_date=END_DATE,  # Uncomment and set the end date if needed.\n",
        "    # portfolio_size='ALL_PORTFOLIOS',  # Uncomment and set the portfolio size if needed.\n",
        "    # Options: 'PORTFOLIO_2_TO_9', 'PORTFOLIO_10_TO_99', 'PORTFOLIO_100_TO_999', 'PORTFOLIO_1000_PLUS', 'ALL_PORTFOLIOS'\n",
        "    as_dataframe=True\n",
        ")\n",
        "\n",
        "# Include the parcl_id and market name in the DataFrame\n",
        "results_new_listings_for_sale_rolling_counts = results_new_listings_for_sale_rolling_counts.merge(markets[['parcl_id', 'name']], on='parcl_id')\n",
        "\n",
        "# Display the first few rows to verify the results\n",
        "results_new_listings_for_sale_rolling_counts.head()"
      ]
    },
    {
      "cell_type": "code",
      "execution_count": null,
      "metadata": {
        "id": "zB_pOFSLB3au"
      },
      "outputs": [],
      "source": [
        "# Save the data to the portfolio_metrics_new_listings_for_sale_rolling_counts CSV file locally\n",
        "results_new_listings_for_sale_rolling_counts.to_csv('portfolio_metrics_new_listings_for_sale_rolling_counts.csv', index=False)"
      ]
    },
    {
      "cell_type": "code",
      "execution_count": null,
      "metadata": {
        "colab": {
          "base_uri": "https://localhost:8080/",
          "height": 731
        },
        "id": "JFfS9cyFB3YK",
        "outputId": "1f5f639a-beb2-410b-da15-5a9582fbe148"
      },
      "outputs": [],
      "source": [
        "# Download data from the Portfolio Metrics New Listings for Rent Rolling Counts endpoint\n",
        "results_new_listings_for_rent_rolling_counts = client.portfolio_metrics_sf_new_listings_for_rent_rolling_counts.retrieve_many(\n",
        "    parcl_ids=parcl_ids,\n",
        "    # end_date=END_DATE,  # Uncomment and set the end date if needed.\n",
        "    # portfolio_size='ALL_PORTFOLIOS',  # Uncomment and set the portfolio size if needed.\n",
        "    # Options: 'PORTFOLIO_2_TO_9', 'PORTFOLIO_10_TO_99', 'PORTFOLIO_100_TO_999', 'PORTFOLIO_1000_PLUS', 'ALL_PORTFOLIOS'\n",
        "    as_dataframe=True\n",
        ")\n",
        "\n",
        "# Include the parcl_id and market name in the DataFrame\n",
        "results_new_listings_for_rent_rolling_counts = results_new_listings_for_rent_rolling_counts.merge(markets[['parcl_id', 'name']], on='parcl_id')\n",
        "\n",
        "# Display the first few rows to verify the results\n",
        "results_new_listings_for_rent_rolling_counts.head()"
      ]
    },
    {
      "cell_type": "code",
      "execution_count": null,
      "metadata": {
        "id": "Nyw0SjvGB3Ux"
      },
      "outputs": [],
      "source": [
        "# Save the data to the portfolio_metrics_new_listings_for_rent_rolling_counts CSV file locally\n",
        "results_new_listings_for_rent_rolling_counts.to_csv('portfolio_metrics_new_listings_for_rent_rolling_counts.csv', index=False)"
      ]
    },
    {
      "cell_type": "code",
      "execution_count": null,
      "metadata": {
        "id": "iUAQzQwOC1s0"
      },
      "outputs": [],
      "source": [
        "# For downloading Price Feed data, please refer to the Price Feed Notebook:\n",
        "# https://github.com/ParclLabs/parcllabs-examples/blob/main/python/introduction/price_feed.ipynb"
      ]
    }
  ],
  "metadata": {
    "colab": {
      "provenance": []
    },
    "kernelspec": {
      "display_name": "parcllabs-env",
      "language": "python",
      "name": "python3"
    },
    "language_info": {
      "codemirror_mode": {
        "name": "ipython",
        "version": 3
      },
      "file_extension": ".py",
      "mimetype": "text/x-python",
      "name": "python",
      "nbconvert_exporter": "python",
      "pygments_lexer": "ipython3",
      "version": "3.12.3"
    }
  },
  "nbformat": 4,
  "nbformat_minor": 0
}
