{
 "cells": [
  {
   "cell_type": "markdown",
   "metadata": {},
   "source": [
    "# Welcome to the Lab 🥼🧪"
   ]
  },
  {
   "cell_type": "code",
   "execution_count": null,
   "metadata": {},
   "outputs": [],
   "source": [
    "import os\n",
    "import sys\n",
    "import json\n",
    "\n",
    "# Collab setup from one click above\n",
    "if \"google.colab\" in sys.modules:\n",
    "    from google.colab import userdata\n",
    "    %pip install parcllabs plotly kaleido numpy\n",
    "    !git clone https://github.com/ParclLabs/parcllabs-examples.git\n",
    "    sys.path.append('/content/parcllabs-examples/python/')\n",
    "    api_key = userdata.get('PARCL_LABS_API_KEY')\n",
    "else:\n",
    "    api_key = os.getenv('PARCL_LABS_API_KEY')\n",
    "    cur_dir = os.getcwd()\n",
    "    chart_dir = os.path.join(cur_dir, '..', '..')\n",
    "    sys.path.append(chart_dir)"
   ]
  },
  {
   "cell_type": "code",
   "execution_count": null,
   "metadata": {},
   "outputs": [],
   "source": [
    "import os\n",
    "import parcllabs\n",
    "from parcllabs import ParclLabsClient\n",
    "\n",
    "api_key = os.getenv('PARCL_LABS_API_KEY')\n",
    "print(f\"Parcl Labs Version: {parcllabs.__version__}\")\n",
    "\n",
    "\n",
    "\n",
    "# Initialize the Parcl Labs client\n",
    "client = ParclLabsClient(api_key=api_key, limit=100)\n",
    "\n",
    "# Get top 100 CBSAs by population\n",
    "markets = client.search_markets.retrieve(\n",
    "    location_type='CBSA',\n",
    "    sort_order='DESC',\n",
    "    sort_by='TOTAL_POPULATION',\n",
    "    as_dataframe=True\n",
    ")\n",
    "\n",
    "housing_events = client.market_metrics_housing_event_prices.retrieve_many(\n",
    "    parcl_ids=markets['parcl_id'].tolist(),\n",
    "    start_date='2022-05-01'\n",
    ")\n",
    "\n",
    "print(housing_events)\n",
    "\n",
    "START_DATE = '2023-06-01'\n",
    "data = client.portfolio_metrics_sf_housing_event_counts.retrieve_many(\n",
    "    parcl_ids=markets['parcl_id'].tolist(),\n",
    "    portfolio_size='PORTFOLIO_1000_PLUS'\n",
    ")\n",
    "print(data)\n",
    "# get supply\n",
    "inventory = client.for_sale_market_metrics_for_sale_inventory.retrieve_many(\n",
    "    parcl_ids=markets['parcl_id'].tolist(),\n",
    "    start_date=START_DATE,\n",
    ")\n",
    "\n",
    "print(inventory)\n",
    "\n",
    "# get demand\n",
    "demand = client.market_metrics_housing_event_counts.retrieve_many(\n",
    "    parcl_ids=markets['parcl_id'].tolist(),\n",
    "    start_date='2023-05-01',\n",
    ")\n",
    "\n",
    "print(demand)\n",
    "\n"
   ]
  },
  {
   "cell_type": "code",
   "execution_count": null,
   "metadata": {},
   "outputs": [],
   "source": [
    "import parcllabs\n",
    "import numpy as np\n",
    "import pandas as pd\n",
    "import plotly.graph_objects as go\n",
    "from parcllabs import ParclLabsClient\n",
    "\n",
    "api_key = os.getenv('PARCL_LABS_API_KEY')\n",
    "print(f\"Parcl Labs Version: {parcllabs.__version__}\")"
   ]
  },
  {
   "cell_type": "code",
   "execution_count": null,
   "metadata": {},
   "outputs": [],
   "source": [
    "# import technical charts\n",
    "from charting.utils import create_labs_logo_dict\n",
    "from charting.pricefeed_utils import TimeSeriesAnalysis\n",
    "from charting.name_formats import format_names, create_ticker, format_cs_10_names\n",
    "from charting.technical_charts import technical_pricefeed_charts, calculate_stats\n"
   ]
  },
  {
   "cell_type": "code",
   "execution_count": null,
   "metadata": {},
   "outputs": [],
   "source": [
    "# Initialize the Parcl Labs client\n",
    "client = ParclLabsClient(api_key)"
   ]
  },
  {
   "cell_type": "code",
   "execution_count": null,
   "metadata": {},
   "outputs": [],
   "source": [
    "# Get top 100 CBSAs by population\n",
    "markets = client.search_markets.retrieve(\n",
    "    as_dataframe=True,\n",
    "    location_type='CBSA',\n",
    "    sort_order='DESC',\n",
    "    sort_by='TOTAL_POPULATION',\n",
    "    params={\n",
    "        'limit': 50\n",
    "    }\n",
    ")\n",
    "markets['clean_name'] = markets['name'].apply(format_cs_10_names)\n",
    "markets"
   ]
  },
  {
   "cell_type": "code",
   "execution_count": null,
   "metadata": {},
   "outputs": [],
   "source": [
    "# lets retrieve data back to 2011 for these price feeds\n",
    "START_DATE = '2023-06-01'\n",
    "price_changes = client.for_sale_market_metrics_for_sale_inventory_price_changes.retrieve_many(\n",
    "    parcl_ids=markets['parcl_id'].tolist(),\n",
    "    start_date=START_DATE,\n",
    "    as_dataframe=True,\n",
    "    params={'limit': 1000},  # expand the limit to 1000, these are daily series\n",
    "    auto_paginate=True, # auto paginate to get all the data - WARNING: ~6k credits can be used in one parcl price feed. Change the START_DATE to a more recent date to reduce the number of credits used\n",
    ")"
   ]
  },
  {
   "cell_type": "code",
   "execution_count": null,
   "metadata": {},
   "outputs": [],
   "source": [
    "# get supply and demand\n",
    "inventory = client.for_sale_market_metrics_for_sale_inventory.retrieve_many(\n",
    "    parcl_ids=markets['parcl_id'].tolist(),\n",
    "    start_date=START_DATE,\n",
    "    as_dataframe=True,\n",
    "    params={'limit': 1000},  # expand the limit to 1000, these are daily series\n",
    ")"
   ]
  },
  {
   "cell_type": "code",
   "execution_count": null,
   "metadata": {},
   "outputs": [],
   "source": [
    "# get supply and demand\n",
    "demand = client.market_metrics_housing_event_counts.retrieve_many(\n",
    "    parcl_ids=markets['parcl_id'].tolist(),\n",
    "    start_date='2023-05-01',\n",
    "    as_dataframe=True,\n",
    "    params={'limit': 1000},  # expand the limit to 1000, these are daily series\n",
    ")"
   ]
  },
  {
   "cell_type": "code",
   "execution_count": null,
   "metadata": {},
   "outputs": [],
   "source": [
    "chart = inventory.merge(price_changes[['date', 'parcl_id', 'count_price_drop']], on=['date', 'parcl_id'], how='inner')"
   ]
  },
  {
   "cell_type": "code",
   "execution_count": null,
   "metadata": {},
   "outputs": [],
   "source": [
    "chart['pct_price_drop'] = chart['count_price_drop'] / chart['for_sale_inventory']\n",
    "chart"
   ]
  },
  {
   "cell_type": "code",
   "execution_count": null,
   "metadata": {},
   "outputs": [],
   "source": [
    "chart.sort_values('pct_price_drop', ascending=False)"
   ]
  },
  {
   "cell_type": "code",
   "execution_count": null,
   "metadata": {},
   "outputs": [],
   "source": [
    "markets.loc[markets['parcl_id']==2900417]"
   ]
  },
  {
   "cell_type": "code",
   "execution_count": null,
   "metadata": {},
   "outputs": [],
   "source": [
    "data = chart.loc[chart['parcl_id']==2900417]"
   ]
  },
  {
   "cell_type": "code",
   "execution_count": null,
   "metadata": {},
   "outputs": [],
   "source": [
    "import plotly.graph_objects as go\n",
    "import pandas as pd\n",
    "\n",
    "\n",
    "# config logo\n",
    "labs_logo_dict = create_labs_logo_dict(\n",
    "    src='labs',\n",
    "    y=1.04,\n",
    "    x=0.5,\n",
    "    xanchor='center',\n",
    "    yanchor='top',\n",
    "    sizex=0.15,\n",
    "    sizey=0.15,\n",
    ")\n",
    "\n",
    "def demand_vs_pf_chart(\n",
    "    data,\n",
    "    line_chart_series: str = 'for_sale_inventory',\n",
    "    bar_chart_series: str = 'pct_price_drop',\n",
    "    save_path: str = None,\n",
    "    title: str = None,\n",
    "    line_chart_title: str = 'Percentage Price Drop',\n",
    "    bar_chart_title: str = 'For Sale Inventory'\n",
    "):\n",
    "    HEIGHT = 900\n",
    "    WIDTH = 1600\n",
    "    \n",
    "    fig = go.Figure()\n",
    "\n",
    "    # Add bar trace for For Sale Inventory\n",
    "    fig.add_trace(go.Bar(\n",
    "        x=data['date'],\n",
    "        y=data[bar_chart_series],\n",
    "        marker=dict(color='#636EFA', opacity=0.7),\n",
    "        name=bar_chart_title,\n",
    "        yaxis='y2'\n",
    "    ))\n",
    "\n",
    "    # Add primary y-axis trace for Percentage Price Drop\n",
    "    fig.add_trace(go.Scatter(\n",
    "        x=data['date'],\n",
    "        y=data[line_chart_series] * 100,  # Convert to percentage\n",
    "        mode='lines+markers',\n",
    "        line=dict(width=4, color='#00CC96'),  # Solid green color for price series\n",
    "        marker=dict(size=6),\n",
    "        name=line_chart_title\n",
    "    ))\n",
    "\n",
    "    # Reorder traces so the line is in front\n",
    "    fig.data = fig.data[::-1]\n",
    "\n",
    "    # Add logo image\n",
    "    fig.add_layout_image(\n",
    "        labs_logo_dict\n",
    "    )\n",
    "    \n",
    "    fig.update_layout(\n",
    "        margin=dict(l=20, r=20, t=110, b=20),\n",
    "        height=HEIGHT,\n",
    "        width=WIDTH,\n",
    "        title={\n",
    "            'text': title,\n",
    "            'y': 0.95,\n",
    "            'x': 0.5,\n",
    "            'xanchor': 'center',\n",
    "            'yanchor': 'top',\n",
    "            'font': dict(size=28, color='#FFFFFF'),\n",
    "        },\n",
    "        plot_bgcolor='#222222',\n",
    "        paper_bgcolor='#222222',\n",
    "        font=dict(color='#FFFFFF'),\n",
    "        xaxis=dict(\n",
    "            title_text='',\n",
    "            showgrid=True,\n",
    "            gridwidth=0.5,\n",
    "            gridcolor='rgba(255, 255, 255, 0.1)',\n",
    "            tickangle=-45,\n",
    "            tickfont=dict(size=14),\n",
    "            linecolor='rgba(255, 255, 255, 0.7)',\n",
    "            linewidth=1\n",
    "        ),\n",
    "        yaxis=dict(\n",
    "            title_text=line_chart_title,\n",
    "            showgrid=True,\n",
    "            gridwidth=0.5,\n",
    "            gridcolor='rgba(255, 255, 255, 0.2)',\n",
    "            tickfont=dict(size=14),\n",
    "            ticksuffix='%',\n",
    "            zeroline=False,\n",
    "            linecolor='rgba(255, 255, 255, 0.7)',\n",
    "            linewidth=1\n",
    "        ),\n",
    "        yaxis2=dict(\n",
    "            title_text=bar_chart_title,\n",
    "            showgrid=True,\n",
    "            gridwidth=0.5,\n",
    "            gridcolor='rgba(255, 255, 255, 0.2)',\n",
    "            tickfont=dict(size=14),\n",
    "            zeroline=False,\n",
    "            linecolor='rgba(255, 255, 255, 0.7)',\n",
    "            linewidth=1,\n",
    "            overlaying='y',\n",
    "            side='right',\n",
    "            ticksuffix=' units'\n",
    "        ),\n",
    "        hovermode='x unified',\n",
    "        hoverlabel=dict(\n",
    "            bgcolor='#333333',\n",
    "            font_size=14,\n",
    "            font_family=\"Rockwell\"\n",
    "        ),\n",
    "        legend=dict(\n",
    "            x=0.02,  # Position legend in the top right corner\n",
    "            y=0.98,\n",
    "            xanchor='left',\n",
    "            yanchor='top',\n",
    "            font=dict(size=14, color='#FFFFFF'),\n",
    "            bgcolor='rgba(0, 0, 0, 0.5)'\n",
    "        ),\n",
    "        barmode='stack'  # Stack the bars\n",
    "    )\n",
    "\n",
    "    if save_path:\n",
    "        fig.write_image(save_path, width=WIDTH, height=HEIGHT)\n",
    "    fig.show()\n"
   ]
  },
  {
   "cell_type": "code",
   "execution_count": null,
   "metadata": {},
   "outputs": [],
   "source": [
    "demand_vs_pf_chart(\n",
    "    data,\n",
    "    line_chart_series = 'pct_price_drop',\n",
    "    bar_chart_series= 'for_sale_inventory',\n",
    "    save_path = None,\n",
    "    title = 'Tampa, FL Supply vs. Pct of Supply w/Price Drops',\n",
    "    line_chart_title = '% of Supply w/Price Drop',\n",
    "    bar_chart_title = 'For Sale Inventory'\n",
    ")"
   ]
  },
  {
   "cell_type": "code",
   "execution_count": null,
   "metadata": {},
   "outputs": [],
   "source": [
    "demand.loc[demand['parcl_id']==2900417]"
   ]
  },
  {
   "cell_type": "code",
   "execution_count": null,
   "metadata": {},
   "outputs": [],
   "source": []
  }
 ],
 "metadata": {
  "kernelspec": {
   "display_name": "parcllabs-env",
   "language": "python",
   "name": "python3"
  },
  "language_info": {
   "codemirror_mode": {
    "name": "ipython",
    "version": 3
   },
   "file_extension": ".py",
   "mimetype": "text/x-python",
   "name": "python",
   "nbconvert_exporter": "python",
   "pygments_lexer": "ipython3",
   "version": "3.12.3"
  }
 },
 "nbformat": 4,
 "nbformat_minor": 2
}
