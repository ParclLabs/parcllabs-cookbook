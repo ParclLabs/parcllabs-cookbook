{
 "cells": [
  {
   "cell_type": "markdown",
   "id": "8d9dee2b-9603-40d8-a448-f8605aacf623",
   "metadata": {
    "tags": []
   },
   "source": [
    "# Welcome to the Lab 🥼🧪\n",
    "## Where do 1000+ unit portfolios own the greatest share of all homes in the country?\n",
    "\n",
    "In this notebook, we are going to create a great map showing Institutional ownership for single family homes for the entire country. We are going to pull the data for all 3000+ counties.\n",
    "\n",
    "Welcome to the Lab - LFG\n",
    "\n",
    "**Note** This notebook will work with any of the 70k+ markets supported by the Parcl Labs API.\n",
    "\n",
    "As a reminder, you can get your Parcl Labs API key [here](https://dashboard.parcllabs.com/signup) to follow along. \n",
    "\n",
    "To run this immediately, you can use Google Colab. Remember, you must set your `PARCL_LABS_API_KEY` as a secret. See this [guide](https://medium.com/@parthdasawant/how-to-use-secrets-in-google-colab-450c38e3ec75) for more information.\n",
    "\n",
    "[![Open in Colab](https://colab.research.google.com/assets/colab-badge.svg)](https://colab.research.google.com/github/ParclLabs/parcllabs-examples/blob/main/python/inspiration/map_of_investor_ownership.ipynb)\n",
    "\n",
    "\n",
    "You can expect to create this: \n",
    "\n",
    "![Chart](../assets/large_institutional_ownership.png)"
   ]
  },
  {
   "cell_type": "code",
   "execution_count": null,
   "id": "64636b5e-2f47-4e05-aab5-e551384bab13",
   "metadata": {},
   "outputs": [],
   "source": [
    "# Environment setup\n",
    "import os\n",
    "import sys\n",
    "import json\n",
    "import subprocess\n",
    "from datetime import datetime\n",
    "from urllib.request import urlopen\n",
    "\n",
    "# Collab setup from one click above\n",
    "if \"google.colab\" in sys.modules:\n",
    "    from google.colab import userdata\n",
    "    %pip install parcllabs plotly kaleido\n",
    "    api_key = userdata.get('PARCL_LABS_API_KEY')\n",
    "else:\n",
    "    api_key = os.getenv('PARCL_LABS_API_KEY')"
   ]
  },
  {
   "cell_type": "code",
   "execution_count": null,
   "id": "db0d416e-dbb2-4b18-b078-541154820167",
   "metadata": {},
   "outputs": [],
   "source": [
    "import parcllabs\n",
    "import pandas as pd\n",
    "import plotly.express as px\n",
    "from parcllabs import ParclLabsClient\n",
    "\n",
    "print(f\"Parcl Labs Version: {parcllabs.__version__}\")"
   ]
  },
  {
   "cell_type": "code",
   "execution_count": null,
   "id": "cc46aa3c-457a-4211-9d6d-904dced07b6a",
   "metadata": {},
   "outputs": [],
   "source": [
    "client = ParclLabsClient(api_key=api_key)"
   ]
  },
  {
   "cell_type": "code",
   "execution_count": null,
   "id": "b24a6f1b-ae9b-4e73-a339-e1a8e2e54a67",
   "metadata": {},
   "outputs": [],
   "source": [
    "# lets get all metros in the country\n",
    "counties = client.search_markets.retrieve(\n",
    "    location_type='COUNTY',\n",
    "    as_dataframe=True,\n",
    "    params={\n",
    "        'limit': 1000\n",
    "    }\n",
    ")"
   ]
  },
  {
   "cell_type": "code",
   "execution_count": null,
   "id": "d6cf9f25-af81-4b51-982c-200bc644588f",
   "metadata": {},
   "outputs": [],
   "source": [
    "# get the ids\n",
    "county_ids = counties['parcl_id'].tolist()\n",
    "len(county_ids)"
   ]
  },
  {
   "cell_type": "code",
   "execution_count": null,
   "id": "9101571b-af14-4f1b-b920-8bad8a7abadf",
   "metadata": {},
   "outputs": [],
   "source": [
    "# How big are the investors? Let's find out\n",
    "portfolio_size_ownership = client.portfolio_metrics_sf_housing_stock_ownership.retrieve_many(\n",
    "    parcl_ids=county_ids,\n",
    "    as_dataframe=True,\n",
    "    params={\n",
    "        'limit': 1\n",
    "    }\n",
    ")"
   ]
  },
  {
   "cell_type": "code",
   "execution_count": null,
   "id": "c2733fa3-55ef-46c7-aba9-70fdd0e53874",
   "metadata": {},
   "outputs": [],
   "source": [
    "# get most recent housing stock for all metros\n",
    "# gross_yields = client.rental_market_metrics_gross_yield.retrieve_many(\n",
    "#     parcl_ids=county_ids,\n",
    "#     property_type='SINGLE_FAMILY',\n",
    "#     params={\n",
    "#         'limit': 6 # let's get the most recent stock\n",
    "#     },\n",
    "#     as_dataframe=True # make life easy on ourselves\n",
    "# )"
   ]
  },
  {
   "cell_type": "code",
   "execution_count": null,
   "id": "b1d76ce9-a149-4b7d-a8db-4a5f52ca3155",
   "metadata": {},
   "outputs": [],
   "source": [
    "# merge with search results to get geoid\n",
    "\n",
    "df = pd.merge(portfolio_size_ownership, counties, on='parcl_id')\n",
    "df.head()"
   ]
  },
  {
   "cell_type": "code",
   "execution_count": null,
   "id": "1f7b51ce-196c-4e78-887f-5ee77a91aa11",
   "metadata": {},
   "outputs": [],
   "source": [
    "df.sort_values('pct_sf_housing_stock_portfolio_1000_plus', ascending=False)[['name', 'state_abbreviation', 'count_portfolio_1000_plus', 'pct_sf_housing_stock_portfolio_1000_plus']].head(20)\n",
    "                                                                             "
   ]
  },
  {
   "cell_type": "code",
   "execution_count": null,
   "id": "0a49a6cb-9e1a-4722-9d7a-bb2deec538e7",
   "metadata": {},
   "outputs": [],
   "source": [
    "df = df[['count_portfolio_1000_plus', 'pct_sf_housing_stock_portfolio_1000_plus', 'geoid']]"
   ]
  },
  {
   "cell_type": "code",
   "execution_count": null,
   "id": "1f457112-560f-4211-bf02-09af5d7f83e3",
   "metadata": {},
   "outputs": [],
   "source": [
    "# lets also get number of single family homes owned by institutions"
   ]
  },
  {
   "cell_type": "code",
   "execution_count": null,
   "id": "68436de2-16e7-4da9-938e-d4d84f8e5f5d",
   "metadata": {},
   "outputs": [],
   "source": [
    "# lets create the map\n",
    "with urlopen('https://raw.githubusercontent.com/plotly/datasets/master/geojson-counties-fips.json') as response:\n",
    "    counties = json.load(response)"
   ]
  },
  {
   "cell_type": "code",
   "execution_count": null,
   "id": "3d736237-d40c-4af3-b0f2-427ed55639d0",
   "metadata": {},
   "outputs": [],
   "source": [
    "# rename geoid to fips\n",
    "df = df.rename(columns={'geoid': 'fips'})\n",
    "df.head()"
   ]
  },
  {
   "cell_type": "code",
   "execution_count": null,
   "id": "ef4e09ef-43a8-48de-867b-de18264d045c",
   "metadata": {},
   "outputs": [],
   "source": [
    "df.head()"
   ]
  },
  {
   "cell_type": "code",
   "execution_count": null,
   "id": "d9647476-1772-49e0-acca-82b01168e787",
   "metadata": {},
   "outputs": [],
   "source": [
    "all_fips_ids = [i['id'] for i in counties['features']]\n",
    "len(all_fips_ids)"
   ]
  },
  {
   "cell_type": "code",
   "execution_count": null,
   "id": "8e05afa3-7f01-4c6d-b111-7efde0324428",
   "metadata": {},
   "outputs": [],
   "source": [
    "# fill holes with no data\n",
    "map_ids = df['fips'].unique().tolist()\n",
    "missing = [i for i in all_fips_ids if i not in map_ids]\n",
    "missing_df = pd.DataFrame({'fips': missing})\n",
    "missing_df['count_portfolio_1000_plus'] = 0\n",
    "missing_df['pct_sf_housing_stock_portfolio_1000_plus'] = 0\n",
    "\n",
    "\n",
    "out = pd.concat([df, missing_df])\n",
    "out"
   ]
  },
  {
   "cell_type": "code",
   "execution_count": null,
   "id": "0be8ae2a-261f-4a4e-b2af-20937f2014ed",
   "metadata": {},
   "outputs": [],
   "source": [
    "labs_logo_lookup = {\n",
    "    'blue': 'https://parcllabs-assets.s3.amazonaws.com/powered-by-parcllabs-api.png',\n",
    "    'white': 'https://parcllabs-assets.s3.amazonaws.com/powered-by-parcllabs-api-logo-white.png'\n",
    "}\n",
    "\n",
    "# set charting constants\n",
    "labs_logo_dict = dict(\n",
    "        source=labs_logo_lookup['white'],\n",
    "        xref=\"paper\",\n",
    "        yref=\"paper\",\n",
    "        x=0.5,  # Centering the logo below the title\n",
    "        y=1.02,  # Adjust this value to position the logo just below the title\n",
    "        sizex=0.15, \n",
    "        sizey=0.15,\n",
    "        xanchor=\"center\",\n",
    "        yanchor=\"bottom\"\n",
    ")\n",
    "\n",
    "media_img_size_lookup = {\n",
    "    'X': {\n",
    "        'width': 1600,\n",
    "        'height': 900\n",
    "    }\n",
    "}\n",
    "\n",
    "PLATFORM = 'X'\n",
    "\n",
    "# set image sizes\n",
    "IMG_WIDTH = media_img_size_lookup[PLATFORM]['width']\n",
    "IMG_HEIGHT = media_img_size_lookup[PLATFORM]['height']\n",
    "\n",
    "# plotting title settings\n",
    "PLOT_TITLE_SETTINGS = {\n",
    "        'y':0,\n",
    "        'x':0,\n",
    "        'xanchor': 'left',\n",
    "        'yanchor': 'bottom'\n",
    "    }"
   ]
  },
  {
   "cell_type": "code",
   "execution_count": null,
   "id": "1288bf92-6ae8-49fc-9f3a-5709f5743a43",
   "metadata": {},
   "outputs": [],
   "source": [
    "# df['pct_sf_housing_stock_portfolio_1000_plus'] = df['pct_sf_housing_stock_portfolio_1000_plus']+100"
   ]
  },
  {
   "cell_type": "code",
   "execution_count": null,
   "id": "5ef44bfc-6ee4-4553-804f-c0b2ebc3d120",
   "metadata": {},
   "outputs": [],
   "source": [
    "# df.head()"
   ]
  },
  {
   "cell_type": "code",
   "execution_count": null,
   "id": "04ff8758-9108-432f-9a51-075ead47c6f5",
   "metadata": {},
   "outputs": [],
   "source": [
    "import plotly.express as px\n",
    "import pandas as pd\n",
    "\n",
    "# Assuming 'df' and 'counties' are already defined with the correct data.\n",
    "# Example DataFrame 'df' and counties GeoJSON should be properly defined here.\n",
    "color_continuous_scale=[\n",
    "    (0, \"#EEF7FF\"),\n",
    "    (0.2, \"#B0CFFF\"),  \n",
    "    (1, \"#04428C\") \n",
    "]\n",
    "\n",
    "fig = px.choropleth(df, geojson=counties, locations='fips', color='pct_sf_housing_stock_portfolio_1000_plus',\n",
    "                    color_continuous_scale=color_continuous_scale,\n",
    "                    range_color=(0, 5),\n",
    "                    scope=\"usa\",\n",
    "                    labels={'pct_sf_housing_stock_portfolio_1000_plus':'# Homes Owned'},\n",
    "                    )\n",
    "\n",
    "# Update layout for background color, margins, and figure size\n",
    "fig.update_layout(\n",
    "    title='% of Single Family Homes Owned by Large Institutional Portfolios (1000+ Units)',  # Set the title for the map\n",
    "    title_x=0.5,  # Center title\n",
    "    title_font=dict(color='white', size=16),  # Make title font white and set size\n",
    "    paper_bgcolor='#080D16',  # Dark background color\n",
    "    geo_bgcolor='#080D16',  # Matching geo background color\n",
    "    margin={\"r\":0, \"t\":30, \"l\":0, \"b\":0},  # Adjust top margin to give space for title\n",
    "    width=800,  # Width of the figure\n",
    "    height=450,  # Height of the figure\n",
    ")\n",
    "\n",
    "# Adjust color bar tick text and title color\n",
    "fig.update_coloraxes(colorbar=dict(\n",
    "    title=\"% of SFH's Owned\",\n",
    "    tickfont=dict(color='white'),\n",
    "    title_font=dict(color='white', size=12)\n",
    "))\n",
    "\n",
    "# Customize boundary borders and centering\n",
    "fig.update_geos(\n",
    "    fitbounds='locations',\n",
    "    visible=False,\n",
    "    showcountries=True,  # Ensure countries are shown\n",
    "    countrycolor=\"white\",  # Country border color\n",
    "    showsubunits=True,  # Ensure subunit boundaries are shown (like states)\n",
    "    subunitcolor=\"white\",  # Subunits (state) border color\n",
    "    center=dict(lon=-98.5795, lat=39.8283)  # Center on the middle of the USA\n",
    ")\n",
    "\n",
    "# Adding layout image\n",
    "fig.add_layout_image(\n",
    "    dict(\n",
    "        source=labs_logo_lookup['white'],\n",
    "        xref=\"paper\",\n",
    "        yref=\"paper\",\n",
    "        x=0,  # Centering the logo below the title\n",
    "        y=0,  # Adjust this value to position the logo just below the title\n",
    "        sizex=0.15, \n",
    "        sizey=0.15,\n",
    "        xanchor=\"left\",\n",
    "        yanchor=\"bottom\"\n",
    ")\n",
    ")\n",
    "\n",
    "fig.show()\n"
   ]
  },
  {
   "cell_type": "code",
   "execution_count": null,
   "id": "610653f3-b325-4c0b-babb-f1aee1d5512a",
   "metadata": {},
   "outputs": [],
   "source": []
  }
 ],
 "metadata": {
  "kernelspec": {
   "display_name": "Python (parcllabs-env)",
   "language": "python",
   "name": "parcllabs-env"
  },
  "language_info": {
   "codemirror_mode": {
    "name": "ipython",
    "version": 3
   },
   "file_extension": ".py",
   "mimetype": "text/x-python",
   "name": "python",
   "nbconvert_exporter": "python",
   "pygments_lexer": "ipython3",
   "version": "3.11.7"
  }
 },
 "nbformat": 4,
 "nbformat_minor": 5
}
