{
 "cells": [
  {
   "cell_type": "markdown",
   "id": "8d9dee2b-9603-40d8-a448-f8605aacf623",
   "metadata": {
    "tags": []
   },
   "source": [
    "# Welcome to the Lab 🥼🧪\n",
    "## Where do 1000+ unit portfolios own the greatest share of all homes by zip code in one state?\n",
    "\n",
    "In this notebook, we are going to create a great map showing Institutional ownership for single family homes by zip code for an entire state.\n",
    "\n",
    "Welcome to the Lab - LFG\n",
    "\n",
    "**Note** This notebook will work with any of the 70k+ markets supported by the Parcl Labs API.\n",
    "\n",
    "As a reminder, you can get your Parcl Labs API key [here](https://dashboard.parcllabs.com/signup) to follow along. \n",
    "\n",
    "To run this immediately, you can use Google Colab. Remember, you must set your `PARCL_LABS_API_KEY` as a secret. See this [guide](https://medium.com/@parthdasawant/how-to-use-secrets-in-google-colab-450c38e3ec75) for more information.\n",
    "\n",
    "[![Open in Colab](https://colab.research.google.com/assets/colab-badge.svg)](https://colab.research.google.com/github/ParclLabs/parcllabs-examples/blob/main/python/inspiration/map_of_investor_ownership_zip_code.ipynb)\n",
    "\n",
    "\n",
    "You can expect to create this:\n",
    "\n",
    "![Chart](../assets/atlanta_investor_ownership.png)"
   ]
  },
  {
   "cell_type": "code",
   "execution_count": null,
   "id": "64636b5e-2f47-4e05-aab5-e551384bab13",
   "metadata": {},
   "outputs": [],
   "source": [
    "# Environment setup\n",
    "import os\n",
    "import sys\n",
    "import json\n",
    "import subprocess\n",
    "from datetime import datetime\n",
    "from urllib.request import urlopen\n",
    "\n",
    "# Collab setup from one click above\n",
    "if \"google.colab\" in sys.modules:\n",
    "    from google.colab import userdata\n",
    "    %pip install parcllabs plotly kaleido\n",
    "    api_key = userdata.get('PARCL_LABS_API_KEY')\n",
    "else:\n",
    "    api_key = os.getenv('PARCL_LABS_API_KEY')"
   ]
  },
  {
   "cell_type": "code",
   "execution_count": null,
   "id": "db0d416e-dbb2-4b18-b078-541154820167",
   "metadata": {},
   "outputs": [],
   "source": [
    "import parcllabs\n",
    "import pandas as pd\n",
    "import plotly.express as px\n",
    "from parcllabs import ParclLabsClient\n",
    "\n",
    "print(f\"Parcl Labs Version: {parcllabs.__version__}\")"
   ]
  },
  {
   "cell_type": "code",
   "execution_count": null,
   "id": "cc46aa3c-457a-4211-9d6d-904dced07b6a",
   "metadata": {},
   "outputs": [],
   "source": [
    "client = ParclLabsClient(api_key=api_key)"
   ]
  },
  {
   "cell_type": "code",
   "execution_count": null,
   "id": "b24a6f1b-ae9b-4e73-a339-e1a8e2e54a67",
   "metadata": {},
   "outputs": [],
   "source": [
    "# get all zips in GA\n",
    "ga_zips = client.search_markets.retrieve(\n",
    "    location_type='ZIP5',\n",
    "    state_abbreviation='GA',\n",
    "    as_dataframe=True,\n",
    "    params={\n",
    "        'limit': 1000\n",
    "    }\n",
    ")\n",
    "\n",
    "ga_zips"
   ]
  },
  {
   "cell_type": "code",
   "execution_count": null,
   "id": "d6cf9f25-af81-4b51-982c-200bc644588f",
   "metadata": {},
   "outputs": [],
   "source": [
    "# get the ids\n",
    "zip_ids = ga_zips['parcl_id'].tolist()\n",
    "len(zip_ids)"
   ]
  },
  {
   "cell_type": "code",
   "execution_count": null,
   "id": "9101571b-af14-4f1b-b920-8bad8a7abadf",
   "metadata": {},
   "outputs": [],
   "source": [
    "# How big are the investors? Let's find out\n",
    "portfolio_size_ownership = client.portfolio_metrics_sf_housing_stock_ownership.retrieve_many(\n",
    "    parcl_ids=zip_ids,\n",
    "    as_dataframe=True,\n",
    "    params={\n",
    "        'limit': 1\n",
    "    }\n",
    ")"
   ]
  },
  {
   "cell_type": "code",
   "execution_count": null,
   "id": "b1d76ce9-a149-4b7d-a8db-4a5f52ca3155",
   "metadata": {},
   "outputs": [],
   "source": [
    "# merge with search results to get geoid\n",
    "\n",
    "df = pd.merge(portfolio_size_ownership, ga_zips, on='parcl_id')\n",
    "df.head()"
   ]
  },
  {
   "cell_type": "code",
   "execution_count": null,
   "id": "1f7b51ce-196c-4e78-887f-5ee77a91aa11",
   "metadata": {},
   "outputs": [],
   "source": [
    "df.sort_values('pct_sf_housing_stock_portfolio_1000_plus', ascending=False)[['name', 'state_abbreviation', 'count_portfolio_1000_plus', 'pct_sf_housing_stock_portfolio_1000_plus']].head(20)\n",
    "                                                                           "
   ]
  },
  {
   "cell_type": "code",
   "execution_count": null,
   "id": "0a49a6cb-9e1a-4722-9d7a-bb2deec538e7",
   "metadata": {},
   "outputs": [],
   "source": [
    "df = df[['count_portfolio_1000_plus', 'pct_sf_housing_stock_portfolio_1000_plus', 'name']]\n",
    "df.head()"
   ]
  },
  {
   "cell_type": "code",
   "execution_count": null,
   "id": "1f457112-560f-4211-bf02-09af5d7f83e3",
   "metadata": {},
   "outputs": [],
   "source": [
    "# lets also get number of single family homes owned by institutions"
   ]
  },
  {
   "cell_type": "code",
   "execution_count": null,
   "id": "68436de2-16e7-4da9-938e-d4d84f8e5f5d",
   "metadata": {},
   "outputs": [],
   "source": [
    "# lets create the map\n",
    "with urlopen('https://raw.githubusercontent.com/OpenDataDE/State-zip-code-GeoJSON/master/ga_georgia_zip_codes_geo.min.json') as response:\n",
    "    zips = json.load(response)"
   ]
  },
  {
   "cell_type": "code",
   "execution_count": null,
   "id": "3d736237-d40c-4af3-b0f2-427ed55639d0",
   "metadata": {},
   "outputs": [],
   "source": [
    "# rename geoid to fips\n",
    "df = df.rename(columns={'name': 'ZCTA5CE10'})\n",
    "df.head()"
   ]
  },
  {
   "cell_type": "code",
   "execution_count": null,
   "id": "ef4e09ef-43a8-48de-867b-de18264d045c",
   "metadata": {},
   "outputs": [],
   "source": [
    "df.head()"
   ]
  },
  {
   "cell_type": "code",
   "execution_count": null,
   "id": "d9647476-1772-49e0-acca-82b01168e787",
   "metadata": {},
   "outputs": [],
   "source": [
    "all_fips_ids = [i['properties']['ZCTA5CE10'] for i in zips['features']]\n",
    "len(all_fips_ids)"
   ]
  },
  {
   "cell_type": "code",
   "execution_count": null,
   "id": "8e05afa3-7f01-4c6d-b111-7efde0324428",
   "metadata": {},
   "outputs": [],
   "source": [
    "# fill holes with no data\n",
    "map_ids = df['ZCTA5CE10'].unique().tolist()\n",
    "missing = [i for i in all_fips_ids if i not in map_ids]\n",
    "missing_df = pd.DataFrame({'ZCTA5CE10': missing})\n",
    "missing_df['count_portfolio_1000_plus'] = 0\n",
    "missing_df['pct_sf_housing_stock_portfolio_1000_plus'] = 0\n",
    "\n",
    "\n",
    "out = pd.concat([df, missing_df])\n",
    "out"
   ]
  },
  {
   "cell_type": "code",
   "execution_count": null,
   "id": "0be8ae2a-261f-4a4e-b2af-20937f2014ed",
   "metadata": {},
   "outputs": [],
   "source": [
    "labs_logo_lookup = {\n",
    "    'blue': 'https://parcllabs-assets.s3.amazonaws.com/powered-by-parcllabs-api.png',\n",
    "    'white': 'https://parcllabs-assets.s3.amazonaws.com/powered-by-parcllabs-api-logo-white+(1).svg'\n",
    "}\n",
    "\n",
    "# set charting constants\n",
    "labs_logo_dict = dict(\n",
    "        source=labs_logo_lookup['white'],\n",
    "        xref=\"paper\",\n",
    "        yref=\"paper\",\n",
    "        x=0.5,  # Centering the logo below the title\n",
    "        y=1.02,  # Adjust this value to position the logo just below the title\n",
    "        sizex=0.15, \n",
    "        sizey=0.15,\n",
    "        xanchor=\"center\",\n",
    "        yanchor=\"bottom\"\n",
    ")\n",
    "\n",
    "media_img_size_lookup = {\n",
    "    'X': {\n",
    "        'width': 1600,\n",
    "        'height': 900\n",
    "    }\n",
    "}\n",
    "\n",
    "PLATFORM = 'X'\n",
    "\n",
    "# set image sizes\n",
    "IMG_WIDTH = media_img_size_lookup[PLATFORM]['width']\n",
    "IMG_HEIGHT = media_img_size_lookup[PLATFORM]['height']\n",
    "\n",
    "# plotting title settings\n",
    "PLOT_TITLE_SETTINGS = {\n",
    "        'y':0,\n",
    "        'x':0,\n",
    "        'xanchor': 'left',\n",
    "        'yanchor': 'bottom'\n",
    "    }"
   ]
  },
  {
   "cell_type": "code",
   "execution_count": null,
   "id": "610653f3-b325-4c0b-babb-f1aee1d5512a",
   "metadata": {},
   "outputs": [],
   "source": [
    "import plotly.express as px\n",
    "import pandas as pd\n",
    "\n",
    "# Assuming 'df' and 'ga_zips' are properly configured\n",
    "\n",
    "# Define the color scale\n",
    "color_continuous_scale=[\n",
    "    (0, \"#EEF7FF\"),\n",
    "    (0.2, \"#B0CFFF\"),  \n",
    "    (1, \"#04428C\") \n",
    "]\n",
    "\n",
    "# Set your Mapbox access token\n",
    "mapbox_access_token = os.getenv('MBOX_ACCESS_TOKEN')\n",
    "\n",
    "px.set_mapbox_access_token(mapbox_access_token)\n",
    "\n",
    "# Create the choropleth map\n",
    "fig = px.choropleth_mapbox(out,\n",
    "                           geojson=zips, \n",
    "                           featureidkey='properties.ZCTA5CE10',\n",
    "                           locations='ZCTA5CE10', \n",
    "                           color='pct_sf_housing_stock_portfolio_1000_plus',\n",
    "                           color_continuous_scale=color_continuous_scale,\n",
    "                           range_color=(0, 10),\n",
    "                           mapbox_style=\"mapbox://styles/mapbox/dark-v9\",\n",
    "                           zoom=6,\n",
    "                           center={\"lat\": 32.3846, \"lon\": -83.2554},# latitude 32° 38´ 46\" N., longitude 83° 25´ 54\"\n",
    "                           opacity=0.9,\n",
    "                           labels={'pct_sf_housing_stock_portfolio_1000_plus':'% Homes Owned'}\n",
    "                          )\n",
    "\n",
    "# Adjust color bar and title text color\n",
    "fig.update_coloraxes(colorbar=dict(\n",
    "    title=\"% of SFH's Owned\",\n",
    "    tickfont=dict(color='white', size=8),\n",
    "    title_font=dict(color='white', size=10),  # Title font size set to 10\n",
    "    # modify color bar position to the bottom center\n",
    "    #x=0.5,  # Color bar x position (left)\n",
    "    y=-0.01, # Color bar y position (middle vertically)\n",
    "    len=0.35, # Length of the color bar (70% of the vertical dimension)\n",
    "    orientation='h',  # Horizontal color bar\n",
    "    thickness=15,  # Thickness of the color bar\n",
    "    xanchor='center',  # Center the color bar horizontally\n",
    ")\n",
    ")\n",
    "\n",
    "\n",
    "fig.add_layout_image(dict(\n",
    "     source=labs_logo_lookup['white'],\n",
    "     xref=\"paper\",\n",
    "     yref=\"paper\",\n",
    "     x=0.5,\n",
    "     y=1.03,\n",
    "     sizex=0.15, \n",
    "     sizey=0.15,\n",
    "     xanchor=\"center\",\n",
    "     yanchor=\"top\"\n",
    "))\n",
    "\n",
    "# Update the layout for background color, margins, and figure dimensions\n",
    "fig.update_layout(\n",
    "    title='% of Single Family Homes Owned by Large Institutional Portfolios (1000+ Units) Georgia',\n",
    "    title_x=0.5,  # Center the title\n",
    "    title_font=dict(color='white', size=16),\n",
    "    paper_bgcolor='#080D16',\n",
    "    geo_bgcolor='#080D16',\n",
    "    margin={\"r\":0, \"t\":60, \"l\":0, \"b\":0},  # Adjust top margin to give space for the title\n",
    "    width=1200,\n",
    "    height=800,\n",
    "    \n",
    "   \n",
    ")\n",
    "\n",
    "# Display the map\n",
    "fig.show()"
   ]
  },
  {
   "cell_type": "code",
   "execution_count": null,
   "id": "090f51d2-3c2e-48fc-a268-dc7e70f62469",
   "metadata": {},
   "outputs": [],
   "source": [
    "# lets write the ranked tweet: \n",
    "\n",
    "# sort\n",
    "out = out.sort_values('pct_sf_housing_stock_portfolio_1000_plus', ascending=False).reset_index(drop=True).head(50)\n",
    "\n",
    "for index, row in out.iterrows():\n",
    "    rank = index+1\n",
    "    name = row['ZCTA5CE10']\n",
    "    pct = row['pct_sf_housing_stock_portfolio_1000_plus']\n",
    "    msg = f\"{rank}. {name}: Own {pct}% of SFH's\"\n",
    "    print(msg)"
   ]
  }
 ],
 "metadata": {
  "kernelspec": {
   "display_name": "Python 3 (ipykernel)",
   "language": "python",
   "name": "python3"
  },
  "language_info": {
   "codemirror_mode": {
    "name": "ipython",
    "version": 3
   },
   "file_extension": ".py",
   "mimetype": "text/x-python",
   "name": "python",
   "nbconvert_exporter": "python",
   "pygments_lexer": "ipython3",
   "version": "3.11.9"
  }
 },
 "nbformat": 4,
 "nbformat_minor": 5
}
