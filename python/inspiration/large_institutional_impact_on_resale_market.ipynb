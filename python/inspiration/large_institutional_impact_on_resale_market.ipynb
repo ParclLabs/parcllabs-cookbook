{
 "cells": [
  {
   "cell_type": "markdown",
   "id": "8d9dee2b-9603-40d8-a448-f8605aacf623",
   "metadata": {},
   "source": [
    "# Welcome to the Lab 🥼🧪\n",
    "## Which markets have large institutions had the greatest impact on single family home resale listings? \n",
    "\n",
    "We will be reviewing 1000+ unit portfolios, specifically their impact on the single family home resale market. \n",
    "\n",
    "Welcome to the Lab - LFG\n",
    "\n",
    "**Note** This notebook will work with any of the 70k+ markets supported by the Parcl Labs API.\n",
    "\n",
    "As a reminder, you can get your Parcl Labs API key [here](https://dashboard.parcllabs.com/signup) to follow along. \n",
    "\n",
    "To run this immediately, you can use Google Colab. Remember, you must set your `PARCL_LABS_API_KEY` as as secret. See this [guide](https://medium.com/@parthdasawant/how-to-use-secrets-in-google-colab-450c38e3ec75) for more information.\n",
    "\n",
    "[![Open in Colab](https://colab.research.google.com/assets/colab-badge.svg)](https://colab.research.google.com/github/ParclLabs/parcllabs-examples/blob/main/python/inspiration/large_institutional_impact_on_resale_market.ipynb)\n",
    "\n",
    "We will be making 👇\n",
    "\n",
    "![Chart1](assets/percent_of_resale_market_by_1000_plus_unit_portfolios.png)"
   ]
  },
  {
   "cell_type": "code",
   "execution_count": null,
   "id": "64636b5e-2f47-4e05-aab5-e551384bab13",
   "metadata": {},
   "outputs": [],
   "source": [
    "# Environment setup\n",
    "import os\n",
    "import sys\n",
    "import subprocess\n",
    "from datetime import datetime\n",
    "\n",
    "# Collab setup from one click above\n",
    "if \"google.colab\" in sys.modules:\n",
    "    from google.colab import userdata\n",
    "    %pip install parcllabs plotly kaleido\n",
    "    api_key = userdata.get('PARCL_LABS_API_KEY')\n",
    "else:\n",
    "    api_key = os.getenv('PARCL_LABS_API_KEY')"
   ]
  },
  {
   "cell_type": "code",
   "execution_count": null,
   "id": "51941a8b-527f-4612-8aec-29396f3ef068",
   "metadata": {},
   "outputs": [],
   "source": [
    "import parcllabs\n",
    "import pandas as pd\n",
    "import plotly.express as px\n",
    "from parcllabs import ParclLabsClient\n",
    "\n",
    "print(f\"Parcl Labs Version: {parcllabs.__version__}\")"
   ]
  },
  {
   "cell_type": "code",
   "execution_count": null,
   "id": "cc46aa3c-457a-4211-9d6d-904dced07b6a",
   "metadata": {},
   "outputs": [],
   "source": [
    "client = ParclLabsClient(api_key=api_key)"
   ]
  },
  {
   "cell_type": "code",
   "execution_count": null,
   "id": "b24a6f1b-ae9b-4e73-a339-e1a8e2e54a67",
   "metadata": {},
   "outputs": [],
   "source": [
    "# lets get all metros in the country\n",
    "metros = client.search_markets.retrieve(\n",
    "    location_type='CBSA',\n",
    "    as_dataframe=True,\n",
    "    params={\n",
    "        'limit': 1000\n",
    "    }\n",
    ")"
   ]
  },
  {
   "cell_type": "code",
   "execution_count": null,
   "id": "d6cf9f25-af81-4b51-982c-200bc644588f",
   "metadata": {},
   "outputs": [],
   "source": [
    "# get the ids\n",
    "metro_ids = metros['parcl_id'].tolist()"
   ]
  },
  {
   "cell_type": "code",
   "execution_count": null,
   "id": "c2733fa3-55ef-46c7-aba9-70fdd0e53874",
   "metadata": {},
   "outputs": [],
   "source": [
    "# get most recent housing stock for all metros\n",
    "portfolio_resale = client.portfolio_metrics_new_listings_for_sale_rolling_counts.retrieve_many(\n",
    "    parcl_ids=metro_ids,\n",
    "    params={\n",
    "        'limit': 1 # let's get the most recent stock\n",
    "    },\n",
    "    portfolio_size='PORTFOLIO_1000_PLUS',\n",
    "    as_dataframe=True # make life easy on ourselves\n",
    ")"
   ]
  },
  {
   "cell_type": "code",
   "execution_count": null,
   "id": "63fa1c50-68ce-4fed-9b3c-62c5cd9ead3d",
   "metadata": {},
   "outputs": [],
   "source": [
    "portfolio_resale.head()"
   ]
  },
  {
   "cell_type": "code",
   "execution_count": null,
   "id": "b1d76ce9-a149-4b7d-a8db-4a5f52ca3155",
   "metadata": {},
   "outputs": [],
   "source": [
    "# get 30 day rolling count\n",
    "df = portfolio_resale.loc[(portfolio_resale['period']=='rolling_30_day')&(portfolio_resale['date']=='2024-04-22')][['parcl_id', 'date', 'counts', 'pct_sf_for_sale_market']]\n",
    "df.head()"
   ]
  },
  {
   "cell_type": "code",
   "execution_count": null,
   "id": "e3afc128-1d34-4d04-80a2-77b6339fd365",
   "metadata": {},
   "outputs": [],
   "source": [
    "# merge Parcl data with rolling resale data\n",
    "out = pd.merge(metros[['parcl_id', 'name']], df, on='parcl_id')\n",
    "out = out.drop('parcl_id', axis=1)\n",
    "out.head()"
   ]
  },
  {
   "cell_type": "code",
   "execution_count": null,
   "id": "7a6b5d4a-cd4e-468f-893b-d886f7ac7134",
   "metadata": {},
   "outputs": [],
   "source": [
    "# filter out rows with less than 25 events, sort by percentage of market in descending order\n",
    "out = out.loc[out['counts'] > 25].sort_values('pct_sf_for_sale_market', ascending=False).reset_index(drop=True)"
   ]
  },
  {
   "cell_type": "code",
   "execution_count": null,
   "id": "db4592db-4501-48f7-b54e-d00a970f438f",
   "metadata": {},
   "outputs": [],
   "source": [
    "# create function to format metro names\n",
    "def format_names(nme):\n",
    "    state = nme.split(',')[-1].strip()\n",
    "    metro = nme.split(',')[0].split('-')[0].strip()\n",
    "    metro = metro.split('/')[0].strip()\n",
    "    return metro\n",
    "\n",
    "labs_logo_lookup = {\n",
    "    'blue': 'https://parcllabs-assets.s3.amazonaws.com/powered-by-parcllabs-api.png',\n",
    "    'white': 'https://parcllabs-assets.s3.amazonaws.com/powered-by-parcllabs-api-logo-white.png'\n",
    "}\n",
    "\n",
    "# set charting constants\n",
    "labs_logo_dict = dict(\n",
    "        source=labs_logo_lookup['white'],\n",
    "        xref=\"paper\",\n",
    "        yref=\"paper\",\n",
    "        x=0.5,  # Centering the logo below the title\n",
    "        y=1.02,  # Adjust this value to position the logo just below the title\n",
    "        sizex=0.15, \n",
    "        sizey=0.15,\n",
    "        xanchor=\"center\",\n",
    "        yanchor=\"bottom\"\n",
    ")\n",
    "\n",
    "media_img_size_lookup = {\n",
    "    'X': {\n",
    "        'width': 1600,\n",
    "        'height': 900\n",
    "    }\n",
    "}\n",
    "\n",
    "PLATFORM = 'X'\n",
    "\n",
    "# set image sizes\n",
    "IMG_WIDTH = media_img_size_lookup[PLATFORM]['width']\n",
    "IMG_HEIGHT = media_img_size_lookup[PLATFORM]['height']\n",
    "\n",
    "# plotting title settings\n",
    "PLOT_TITLE_SETTINGS = {\n",
    "        'y':0.97,\n",
    "        'x':0.5,\n",
    "        'xanchor': 'center',\n",
    "        'yanchor': 'top'\n",
    "    }\n",
    "\n",
    "# set default save directory\n",
    "save_dir = './graphics'\n",
    "new_dir_name = f\"resale_1000_plus_units-metros-{datetime.today().date()}\"\n",
    "output_dir = os.path.join(save_dir, new_dir_name)\n",
    "\n",
    "if not os.path.exists(output_dir):\n",
    "    os.makedirs(output_dir)\n",
    "\n",
    "out['name'] = out['name'].apply(lambda x: format_names(x))\n",
    "out['pct_sf_for_sale_market'] = out['pct_sf_for_sale_market']/100 # format pct for charting"
   ]
  },
  {
   "cell_type": "code",
   "execution_count": null,
   "id": "3a2709fd-a8cf-4a28-924f-df5b5ab46be3",
   "metadata": {},
   "outputs": [],
   "source": [
    "# Creating the horizontal bar chart\n",
    "fig = px.bar(\n",
    "    out, \n",
    "    y='pct_sf_for_sale_market',\n",
    "    x='name', \n",
    "    orientation='v',\n",
    "    title=f'Percent of For Sale Single Family Home Listings from 1000+ Unit Portfolios by Market (Rolling 30 Days)',\n",
    "    labels={'percent': 'Percent of Single Family Homes'}\n",
    ")\n",
    "\n",
    "# Adding the logo as a layout_image\n",
    "fig.add_layout_image(labs_logo_dict)\n",
    "\n",
    "# Adjusting the layout\n",
    "fig.update_layout(\n",
    "    margin=dict(b=100),\n",
    "    width=IMG_WIDTH,\n",
    "    height=IMG_HEIGHT,\n",
    "    legend=dict(\n",
    "        x=0.01,\n",
    "        y=0.99,\n",
    "        traceorder=\"normal\",\n",
    "        xanchor='left',\n",
    "        yanchor='top',\n",
    "        title='Rolling Window (Days)'\n",
    "    ),\n",
    "    title=PLOT_TITLE_SETTINGS,\n",
    "    plot_bgcolor='#080D16',\n",
    "    paper_bgcolor='#080D16',\n",
    "    font=dict(color='#FFFFFF'),\n",
    "    yaxis_title='Percent of For Sale Listings Market',\n",
    "    xaxis_title=None\n",
    ")\n",
    "\n",
    "# Bar color and other properties\n",
    "fig.update_traces(\n",
    "    marker_color='#448CF2',\n",
    "    marker_line_color='#FFFFFF',\n",
    "    marker_line_width=1.5,\n",
    "    opacity=0.8\n",
    ")\n",
    "\n",
    "# Adding gridlines\n",
    "fig.update_yaxes(showgrid=True, gridwidth=1, gridcolor='LightGrey', tickformat=\".1%\")\n",
    "fig.update_xaxes(showgrid=True, gridwidth=1, gridcolor='LightGrey')\n",
    "\n",
    "# Save the figure\n",
    "fig.write_image(os.path.join(output_dir, 'percent_of_resale_market_by_1000_plus_unit_portfolios.png'), width=IMG_WIDTH, height=IMG_HEIGHT)\n",
    "\n",
    "# Show the plot\n",
    "fig.show()\n"
   ]
  },
  {
   "cell_type": "code",
   "execution_count": null,
   "id": "3962e5dc-9100-4d3b-bd69-30776a9b7fb5",
   "metadata": {},
   "outputs": [],
   "source": [
    "# now lets simplify writing the text\n",
    "\n",
    "for index, row in out.iterrows():\n",
    "    rank = index+1\n",
    "    name = row['name']\n",
    "    count = int(row['counts'])\n",
    "    pct = row['pct_sf_for_sale_market']\n",
    "    msg = f\"{rank}. {name}: {count} units, {round(pct*100, 1)}% of market\"\n",
    "    print(msg)"
   ]
  }
 ],
 "metadata": {
  "kernelspec": {
   "display_name": "Python (parcllabs-env)",
   "language": "python",
   "name": "parcllabs-env"
  },
  "language_info": {
   "codemirror_mode": {
    "name": "ipython",
    "version": 3
   },
   "file_extension": ".py",
   "mimetype": "text/x-python",
   "name": "python",
   "nbconvert_exporter": "python",
   "pygments_lexer": "ipython3",
   "version": "3.11.7"
  }
 },
 "nbformat": 4,
 "nbformat_minor": 5
}
