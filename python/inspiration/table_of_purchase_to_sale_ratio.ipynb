{
 "cells": [
  {
   "cell_type": "markdown",
   "id": "8d9dee2b-9603-40d8-a448-f8605aacf623",
   "metadata": {},
   "source": [
    "# Welcome to the Lab 🥼🧪\n",
    "## Which metros have the highest net acquisitions from investors? \n",
    "\n",
    "In this notebook, we are going to create a table of the last 6 months of the investor purchase to sale ratio for the top 50 metros. This is a ratio showing investor acquisitions/dispositions.\n",
    "\n",
    "If investors bought and sold 10 homes in month, 10/10 = 1. No change in purchase to sale ratio. \n",
    "\n",
    "If investors bought 10 homes and sold 100 homes, 10/100 = .1. For every home bought, they are selling 10.\n",
    "\n",
    "**Note** This notebook will work with any of the 70k+ markets supported by the Parcl Labs API.\n",
    "\n",
    "As a reminder, you can get your Parcl Labs API key [here](https://dashboard.parcllabs.com/signup) to follow along. \n",
    "\n",
    "To run this immediately, you can use Google Colab. Remember, you must set your `PARCL_LABS_API_KEY` as a secret. See this [guide](https://medium.com/@parthdasawant/how-to-use-secrets-in-google-colab-450c38e3ec75) for more information.\n",
    "\n",
    "[![Open in Colab](https://colab.research.google.com/assets/colab-badge.svg)](https://colab.research.google.com/github/ParclLabs/parcllabs-examples/blob/main/python/inspiration/table_of_purchase_to_sale_ratio.ipynb)\n",
    "\n",
    "We will be creating this table: \n",
    "\n",
    "![Chart](assets/purchase_to_sale_ratio.png)"
   ]
  },
  {
   "cell_type": "code",
   "execution_count": null,
   "id": "64636b5e-2f47-4e05-aab5-e551384bab13",
   "metadata": {},
   "outputs": [],
   "source": [
    "# Environment setup\n",
    "import os\n",
    "import sys\n",
    "import subprocess\n",
    "from datetime import datetime\n",
    "\n",
    "# Collab setup from one click above\n",
    "if \"google.colab\" in sys.modules:\n",
    "    from google.colab import userdata\n",
    "    %pip install parcllabs plotly kaleido\n",
    "    api_key = userdata.get('PARCL_LABS_API_KEY')\n",
    "else:\n",
    "    api_key = os.getenv('PARCL_LABS_API_KEY')"
   ]
  },
  {
   "cell_type": "code",
   "execution_count": null,
   "id": "51941a8b-527f-4612-8aec-29396f3ef068",
   "metadata": {},
   "outputs": [],
   "source": [
    "import parcllabs\n",
    "import pandas as pd\n",
    "import plotly.express as px\n",
    "from parcllabs import ParclLabsClient\n",
    "\n",
    "print(f\"Parcl Labs Version: {parcllabs.__version__}\")"
   ]
  },
  {
   "cell_type": "code",
   "execution_count": null,
   "id": "cc46aa3c-457a-4211-9d6d-904dced07b6a",
   "metadata": {},
   "outputs": [],
   "source": [
    "# instantiate the client\n",
    "client = ParclLabsClient(api_key=api_key)"
   ]
  },
  {
   "cell_type": "code",
   "execution_count": null,
   "id": "b24a6f1b-ae9b-4e73-a339-e1a8e2e54a67",
   "metadata": {},
   "outputs": [],
   "source": [
    "# lets get all metros in the country\n",
    "metros = client.search_markets.retrieve(\n",
    "    location_type='CBSA',\n",
    "    as_dataframe=True,\n",
    "    params={\n",
    "        'limit': 1000\n",
    "    }\n",
    ")"
   ]
  },
  {
   "cell_type": "code",
   "execution_count": null,
   "id": "d6cf9f25-af81-4b51-982c-200bc644588f",
   "metadata": {},
   "outputs": [],
   "source": [
    "# get the ids\n",
    "metro_ids = metros['parcl_id'].tolist()"
   ]
  },
  {
   "cell_type": "code",
   "execution_count": null,
   "id": "c2733fa3-55ef-46c7-aba9-70fdd0e53874",
   "metadata": {},
   "outputs": [],
   "source": [
    "# get most recent housing stock for all metros\n",
    "housing_stock = client.market_metrics_housing_stock.retrieve_many(\n",
    "    parcl_ids=metro_ids,\n",
    "    params={\n",
    "        'limit': 1 # let's get the most recent stock\n",
    "    },\n",
    "    as_dataframe=True # if we want to get the data as a pandas dataframe\n",
    ")\n",
    "\n",
    "housing_stock.head()"
   ]
  },
  {
   "cell_type": "code",
   "execution_count": null,
   "id": "6751be32-0c8c-47ad-885d-a95921f2316a",
   "metadata": {},
   "outputs": [],
   "source": [
    "# lets select the top 50 metros by housing stock\n",
    "top_50 = housing_stock.sort_values('all_properties', ascending=False).head(50)\n",
    "top_50.head()"
   ]
  },
  {
   "cell_type": "code",
   "execution_count": null,
   "id": "07fbcfd9-da05-4947-840f-f5d88942a710",
   "metadata": {},
   "outputs": [],
   "source": [
    "# now lets hit the purchase to sale ratio for those 50 metropolitan areas\n",
    "purchase_to_sale = client.investor_metrics_purchase_to_sale_ratio.retrieve_many(\n",
    "    parcl_ids=top_50['parcl_id'].tolist(),\n",
    "    params={\n",
    "        'limit': 6, # get last 6 months\n",
    "    },\n",
    "    as_dataframe=True\n",
    ")\n",
    "\n",
    "purchase_to_sale.head()"
   ]
  },
  {
   "cell_type": "code",
   "execution_count": null,
   "id": "e3afc128-1d34-4d04-80a2-77b6339fd365",
   "metadata": {},
   "outputs": [],
   "source": [
    "# merge the data with the metropolitan areas info to get the names\n",
    "out = pd.merge(metros[['parcl_id', 'name']], purchase_to_sale[['parcl_id',  'date', 'purchase_to_sale_ratio']], on='parcl_id')\n",
    "out = out.drop('parcl_id', axis=1)\n",
    "out.head()"
   ]
  },
  {
   "cell_type": "code",
   "execution_count": null,
   "id": "db4592db-4501-48f7-b54e-d00a970f438f",
   "metadata": {},
   "outputs": [],
   "source": [
    "# define a function to clean up the official names and make them easier to read\n",
    "def format_names(nme):\n",
    "    metro = nme.split(',')[0].split('-')[0].strip()\n",
    "    metro = metro.split('/')[0].strip()\n",
    "    return metro\n",
    "\n",
    "out['name'] = out['name'].apply(lambda x: format_names(x))"
   ]
  },
  {
   "cell_type": "code",
   "execution_count": null,
   "id": "c14095f9",
   "metadata": {},
   "outputs": [],
   "source": [
    "# we pivot the data for easy charting and sort by the highest purchase to sale ratio for the latest available month\n",
    "charting_data = out.pivot_table(values='purchase_to_sale_ratio', index='name', columns='date')\n",
    "charting_data = charting_data.sort_values('2024-03-01', ascending=False)\n",
    "charting_data.head()"
   ]
  },
  {
   "cell_type": "code",
   "execution_count": null,
   "id": "3a2709fd-a8cf-4a28-924f-df5b5ab46be3",
   "metadata": {},
   "outputs": [],
   "source": [
    "import plotly.graph_objects as go\n",
    "import pandas as pd\n",
    "import numpy as np\n",
    "from datetime import datetime\n",
    "\n",
    "# Define a function to scale the color based on the value\n",
    "def color_scale(value):\n",
    "    # Normalize the value to the new range [0, 2] with a midpoint at 1\n",
    "    if value < 1:\n",
    "        # Scale from light blue to blue as value approaches 1 from 0\n",
    "        normalized = value  # No need to normalize since it's already 0 to 1\n",
    "        r = int(173 + (65 - 173) * normalized)  # Decrease red channel towards darker blue\n",
    "        g = int(216 + (105 - 216) * normalized)  # Decrease green channel towards darker blue\n",
    "        b = int(230 + (225 - 230) * normalized)  # Slightly increase blue channel towards 225\n",
    "    else:\n",
    "        # Scale from blue to dark blue as value goes from 1 to 2\n",
    "        normalized = (value - 1) / 1  # Normalize the upper half from 0 to 1\n",
    "        r = int(65 + (0 - 65) * normalized)  # Decrease red channel towards darkest blue\n",
    "        g = int(105 + (0 - 105) * normalized)  # Decrease green channel towards darkest blue\n",
    "        b = int(225 + (139 - 225) * normalized)  # Decrease blue channel towards darker blue\n",
    "\n",
    "    # Ensure RGB values are within the valid range\n",
    "    r = max(0, min(255, r))\n",
    "    g = max(0, min(255, g))\n",
    "    b = max(0, min(255, b))\n",
    "\n",
    "    return f'rgb({r},{g},{b})'\n",
    "\n",
    "# Define a function to format the date\n",
    "def format_date(date):\n",
    "    date = datetime.strptime(date, '%Y-%m-%d')\n",
    "    return date.strftime('%b `' + date.strftime('%y'))\n",
    "\n",
    "dates = charting_data.columns.tolist()"
   ]
  },
  {
   "cell_type": "code",
   "execution_count": null,
   "id": "783a052b",
   "metadata": {},
   "outputs": [],
   "source": [
    "# define the parameters for the visualization\n",
    "\n",
    "# Define the dictionary that points to logo to be displayed on the chart\n",
    "labs_logo_lookup = {\n",
    "    'blue': 'https://parcllabs-assets.s3.amazonaws.com/powered-by-parcllabs-api.png',\n",
    "    'white': 'https://parcllabs-assets.s3.amazonaws.com/powered-by-parcllabs-api-logo-white.png'\n",
    "}\n",
    "\n",
    "labs_logo_dict = dict(\n",
    "    source=labs_logo_lookup['white'],\n",
    "    xref=\"paper\",\n",
    "    yref=\"paper\",\n",
    "    x=0.5,\n",
    "    y=1.02,  # Adjusted for more data\n",
    "    sizex=0.3,\n",
    "    sizey=0.2,\n",
    "    xanchor=\"center\",\n",
    "    yanchor=\"bottom\"\n",
    ")\n",
    "\n",
    "# define the table\n",
    "fig = go.Figure(\n",
    "    data=[go.Table(\n",
    "        header=dict(\n",
    "            values=['<b>Market</b>'] + [f\"<b>{format_date(date)}</b>\" for date in dates],\n",
    "            fill_color='#080D16',\n",
    "            font=dict(color='#FFFFFF', size=12),\n",
    "            align='center',\n",
    "            height=30\n",
    "        ),\n",
    "        cells=dict(\n",
    "            values=[[f\"{name}\" for name in charting_data.index]] + \n",
    "                   [charting_data[date] for date in dates],\n",
    "            fill=dict(\n",
    "                color=[\n",
    "                    ['#080D16']*len(charting_data.index)] +\n",
    "                    [[color_scale(charting_data.at[market, date]) for market in charting_data.index] for date in dates]\n",
    "            ),\n",
    "            font=dict(\n",
    "                color='#FFFFFF',\n",
    "                size=11  # Uniform size for all cells\n",
    "            ),\n",
    "            align='center',\n",
    "            height=30\n",
    "        ))\n",
    "])\n",
    "\n",
    "fig.add_layout_image(labs_logo_dict)\n",
    "\n",
    "fig.update_layout(\n",
    "    title={\n",
    "        'text': 'Investor Purchase to Sale Ratio Top 50 Metro Markets by Housing Stock',\n",
    "        'y': 0.98,\n",
    "        'x': 0.5,\n",
    "        'xanchor': 'center',\n",
    "        'yanchor': 'top'\n",
    "    },\n",
    "    title_font_color='#FFFFFF',\n",
    "    width=900,  # Slightly wider to accommodate more columns\n",
    "    height=1600, # + 100 * len(charting_data.index),  # Adjust height based on the number of markets\n",
    "    paper_bgcolor='#080D16',\n",
    "    margin=dict(l=10, r=10, t=120, b=10)\n",
    ")\n",
    "\n",
    "fig.show()"
   ]
  }
 ],
 "metadata": {
  "kernelspec": {
   "display_name": "Python 3 (ipykernel)",
   "language": "python",
   "name": "python3"
  },
  "language_info": {
   "codemirror_mode": {
    "name": "ipython",
    "version": 3
   },
   "file_extension": ".py",
   "mimetype": "text/x-python",
   "name": "python",
   "nbconvert_exporter": "python",
   "pygments_lexer": "ipython3",
   "version": "3.11.7"
  }
 },
 "nbformat": 4,
 "nbformat_minor": 5
}
