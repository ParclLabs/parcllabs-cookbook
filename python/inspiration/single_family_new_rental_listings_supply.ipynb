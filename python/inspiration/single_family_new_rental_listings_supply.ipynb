{
 "cells": [
  {
   "cell_type": "markdown",
   "id": "f3efb2e5-450a-40c4-adc8-ab658bc163cb",
   "metadata": {},
   "source": [
    "# Welcome to the Lab 🥼🧪\n",
    "\n",
    "## Single Family New Rental Supply for Top SFR Markets\n",
    "\n",
    "In this notebook, we will go over new rental supply for hot SFR markets. \n",
    "\n",
    "We will create a chart like this: \n",
    "\n",
    "![Chart](../assets/sfh_rental_supply_30_day.png)\n",
    "\n",
    "**Note** This notebook will work with any of the 70k+ markets supported by the Parcl Labs API.\n",
    "\n",
    "As a reminder, you can get your Parcl Labs API key [here](https://dashboard.parcllabs.com/signup) to follow along. \n",
    "\n",
    "To run this immediately, you can use Google Colab. Remember, you must set your `PARCL_LABS_API_KEY` as a secret. See this [guide](https://medium.com/@parthdasawant/how-to-use-secrets-in-google-colab-450c38e3ec75) for more information.\n",
    "\n",
    "[![Open in Colab](https://colab.research.google.com/assets/colab-badge.svg)](https://colab.research.google.com/github/ParclLabs/parcllabs-examples/blob/main/python/inspiration/single_family_new_rental_listings_supply.ipynb)"
   ]
  },
  {
   "cell_type": "code",
   "execution_count": null,
   "id": "26ee502a-3815-401f-8681-59311d2db750",
   "metadata": {
    "tags": []
   },
   "outputs": [],
   "source": [
    "# Environment setup\n",
    "import os\n",
    "import sys\n",
    "import subprocess\n",
    "from datetime import datetime\n",
    "\n",
    "# Collab setup from one click above\n",
    "if \"google.colab\" in sys.modules:\n",
    "    from google.colab import userdata\n",
    "    %pip install parcllabs plotly kaleido\n",
    "    api_key = userdata.get('PARCL_LABS_API_KEY')\n",
    "else:\n",
    "    api_key = os.getenv('PARCL_LABS_API_KEY')"
   ]
  },
  {
   "cell_type": "code",
   "execution_count": null,
   "id": "0c14e32c-9570-42f0-889f-fe737fdb9450",
   "metadata": {
    "tags": []
   },
   "outputs": [],
   "source": [
    "import parcllabs\n",
    "import pandas as pd\n",
    "import plotly.express as px\n",
    "from parcllabs import ParclLabsClient\n",
    "\n",
    "print(f\"Parcl Labs Version: {parcllabs.__version__}\")"
   ]
  },
  {
   "cell_type": "code",
   "execution_count": null,
   "id": "710cba2b-a582-4da8-a2eb-f6e4e8e656b0",
   "metadata": {
    "tags": []
   },
   "outputs": [],
   "source": [
    "# initialize client\n",
    "client = ParclLabsClient(api_key=api_key)"
   ]
  },
  {
   "cell_type": "code",
   "execution_count": null,
   "id": "2c97c190-cdd8-49ae-813f-6fc8ef1f8167",
   "metadata": {
    "tags": []
   },
   "outputs": [],
   "source": [
    "# we want to isolate the top SFR markets, some of which include: \n",
    "# Atlanta, Tampa, Dallas phoenix Houston and charlotte. We previously looked these \n",
    "# metropolitan statistical areas up to get their parcl_id's\n",
    "\n",
    "# If you wanted to look these up yourself: \n",
    "\n",
    "# results = client.search_markets.retrieve(\n",
    "#     query='Charlotte',\n",
    "#     location_type='CBSA',\n",
    "#     as_dataframe=True\n",
    "# )\n",
    "\n",
    "\n",
    "sfr_markets = {\n",
    "    'Atlanta': 2887280,\n",
    "    'Tampa': 2900417,\n",
    "    'Dallas': 2899734,\n",
    "    'Phoenix': 2900245,\n",
    "    'Houston': 2899967,\n",
    "    'Charlotte': 2899841\n",
    "}\n",
    "\n",
    "sfr_names = {v: k for k, v in sfr_markets.items()}"
   ]
  },
  {
   "cell_type": "code",
   "execution_count": null,
   "id": "e07c31ce-a7e0-4b12-b96e-90a6cbb171d3",
   "metadata": {
    "tags": []
   },
   "outputs": [],
   "source": [
    "# now lets get the investor share of listings for multiple markets\n",
    "\n",
    "rentals = client.rental_market_metrics_new_listings_for_rent_rolling_counts.retrieve_many(\n",
    "    parcl_ids=sfr_markets.values(),\n",
    "    params={\n",
    "        'limit': 300\n",
    "    },\n",
    "    start_date='2023-03-01',\n",
    "    as_dataframe=True,\n",
    "    property_type='SINGLE_FAMILY',\n",
    ")\n",
    "\n",
    "rentals.head()"
   ]
  },
  {
   "cell_type": "code",
   "execution_count": null,
   "id": "4d7e227c-132b-4aaf-9dea-d66700b1cd39",
   "metadata": {
    "tags": []
   },
   "outputs": [],
   "source": [
    "# retrieve name\n",
    "rentals['name'] = rentals['parcl_id'].apply(lambda x: sfr_names[x])\n",
    "\n",
    "rentals.head()"
   ]
  },
  {
   "cell_type": "code",
   "execution_count": null,
   "id": "42b59859-ce38-4501-9e91-8d8ea410d3de",
   "metadata": {
    "tags": []
   },
   "outputs": [],
   "source": [
    "labs_logo_lookup = {\n",
    "    'blue': 'https://parcllabs-assets.s3.amazonaws.com/powered-by-parcllabs-api.png',\n",
    "    'white': 'https://parcllabs-assets.s3.amazonaws.com/powered-by-parcllabs-api-logo-white+(1).svg'\n",
    "}\n",
    "\n",
    "# set charting constants\n",
    "labs_logo_dict = dict(\n",
    "        source=labs_logo_lookup['white'],\n",
    "        xref=\"paper\",\n",
    "        yref=\"paper\",\n",
    "        x=0.5,  # Centering the logo below the title\n",
    "        y=1.02,  # Adjust this value to position the logo just below the title\n",
    "        sizex=0.15, \n",
    "        sizey=0.15,\n",
    "        xanchor=\"center\",\n",
    "        yanchor=\"bottom\"\n",
    ")"
   ]
  },
  {
   "cell_type": "code",
   "execution_count": null,
   "id": "7c7ba207-1041-48a7-8aa6-d42e22f74e68",
   "metadata": {
    "tags": []
   },
   "outputs": [],
   "source": [
    "# create chart, overlay the logo and format our viz\n",
    "fig = px.line(\n",
    "    rentals,\n",
    "    x='date',\n",
    "    y='rolling_30_day',\n",
    "    color='name',  # This creates separate lines for each period\n",
    "    title=f'New Single Family Home Rental Supply (Rolling 30 Day)',\n",
    "    labels={'rolling_30_day': 'Rolling 30 Day SFH Rental Supply'},\n",
    "    line_shape='linear'  # 'spline' for smooth lines, if preferred\n",
    ")\n",
    "\n",
    "fig.add_layout_image(labs_logo_dict)\n",
    "\n",
    "fig.update_layout(\n",
    "    margin=dict(b=100),\n",
    "    height=900,\n",
    "    width=1600,\n",
    "    legend=dict(\n",
    "        x=0.01,\n",
    "        y=0.99,\n",
    "        traceorder=\"normal\",\n",
    "        xanchor='left',\n",
    "        yanchor='top',\n",
    "        title='Market'\n",
    "    ),\n",
    "    title={\n",
    "        'y':0.97,\n",
    "        'x':0.5,\n",
    "        'xanchor': 'center',\n",
    "        'yanchor': 'top'\n",
    "    },\n",
    "    plot_bgcolor='#080D16',\n",
    "    paper_bgcolor='#080D16',\n",
    "    font=dict(color='#FFFFFF'),\n",
    "    xaxis_title=None\n",
    ")\n",
    "\n",
    "# fig.update_yaxes(tickformat=\".0%\")\n",
    "\n",
    "color_map = {\n",
    "    'rolling_30_day': '#448CF2',\n",
    "    'rolling_90_day': '#FFFFFF',\n",
    "}\n",
    "\n",
    "fig.update_traces(\n",
    "    line=dict(width=3),\n",
    "    mode='lines+markers',\n",
    "    marker=dict(size=5)\n",
    ")\n",
    "\n",
    "\n",
    "for trace in fig.data:\n",
    "    if trace.name in color_map:\n",
    "        trace.line.color = color_map[trace.name]\n",
    "        trace.marker.color = color_map[trace.name]\n",
    "\n",
    "# Adding gridlines\n",
    "fig.update_xaxes(showgrid=True, gridwidth=1, gridcolor='LightGrey')\n",
    "fig.update_yaxes(showgrid=True, gridwidth=1, gridcolor='LightGrey')\n",
    "\n",
    "# Show the plot\n",
    "fig.show() # Vegas, Atlanta, San Fran, USA\n",
    "fig.write_image('assets/single_family_new_rental_supply.png', width=1600, height=900)"
   ]
  },
  {
   "cell_type": "code",
   "execution_count": null,
   "id": "b4e431fd-f96d-4904-b90c-e09422b122a8",
   "metadata": {},
   "outputs": [],
   "source": []
  }
 ],
 "metadata": {
  "kernelspec": {
   "display_name": "Python (parcllabs-env)",
   "language": "python",
   "name": "parcllabs-env"
  },
  "language_info": {
   "codemirror_mode": {
    "name": "ipython",
    "version": 3
   },
   "file_extension": ".py",
   "mimetype": "text/x-python",
   "name": "python",
   "nbconvert_exporter": "python",
   "pygments_lexer": "ipython3",
   "version": "3.11.7"
  }
 },
 "nbformat": 4,
 "nbformat_minor": 5
}
