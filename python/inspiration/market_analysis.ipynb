{
 "cells": [
  {
   "cell_type": "markdown",
   "id": "00775985-42bd-4ebc-87d6-6a8abbe0035a",
   "metadata": {},
   "source": [
    "# Welcome to the Lab 🥼🧪\n",
    "\n",
    "## Market Analysis \n",
    "\n",
    "Let's do a deep dive on one specific market, your choice. \n",
    "\n",
    "Let's get into the lab and take a peak at whats going on. \n",
    "\n",
    "**Note** This notebook will work with any of the 70k+ markets supported by the Parcl Labs API.\n",
    "\n",
    "As a reminder, you can get your Parcl Labs API key [here](https://dashboard.parcllabs.com/signup) to follow along. \n",
    "\n",
    "To run this immediately, you can use Google Colab. Remember, you must set your `PARCL_LABS_API_KEY` as a secret. See this [guide](https://medium.com/@parthdasawant/how-to-use-secrets-in-google-colab-450c38e3ec75) for more information.\n",
    "\n",
    "[![Open in Colab](https://colab.research.google.com/assets/colab-badge.svg)](https://colab.research.google.com/github/ParclLabs/parcllabs-examples/blob/main/python/inspiration/market_analysis.ipynb)\n",
    "\n",
    "## Table of Contents\n",
    "\n",
    "### [Market Overview](#market)\n",
    "- Housing Stock/Mix Analysis\n",
    "- Percent of Overall Market Owned by Investors\n",
    "- Market Overview: Percent of all units that are rentals\n",
    "- Who owns the homes? Size of investors in the market\n",
    "\n",
    "### [Listing Overview](#listings)\n",
    "- New listings analysis\n",
    "- Of listings, what share do investors account for?\n",
    "\n",
    "### [Prices Overview](#prices)\n",
    "- Rental Prices\n",
    "- New Listing for Sale Prices\n",
    "- Purchase Prices\n",
    "\n",
    "We will be creating charts like this: \n",
    "\n",
    "![Chart1](../assets/purchase_price_vs_list_price.png)\n",
    "![Chart2](../assets/rental_listing_price.png)\n",
    "![Chart3](../assets/single_family_homes_percentage.png)"
   ]
  },
  {
   "cell_type": "code",
   "execution_count": 1,
   "id": "cd87dd1d-b6d0-491c-922a-88e9a75cdb49",
   "metadata": {},
   "outputs": [],
   "source": [
    "# Environment setup\n",
    "import os\n",
    "import sys\n",
    "import subprocess\n",
    "from datetime import datetime\n",
    "\n",
    "# Collab setup from one click above\n",
    "if \"google.colab\" in sys.modules:\n",
    "    from google.colab import userdata\n",
    "    %pip install parcllabs plotly kaleido\n",
    "    api_key = userdata.get('PARCL_LABS_API_KEY')\n",
    "else:\n",
    "    api_key = os.getenv('PARCL_LABS_API_KEY')"
   ]
  },
  {
   "cell_type": "code",
   "execution_count": 2,
   "id": "bd6635c6-8cd8-446c-a4a4-d0497550e2bf",
   "metadata": {},
   "outputs": [
    {
     "name": "stdout",
     "output_type": "stream",
     "text": [
      "Parcl Labs Version: 0.2.2\n"
     ]
    }
   ],
   "source": [
    "import parcllabs\n",
    "import pandas as pd\n",
    "import plotly.express as px\n",
    "from parcllabs import ParclLabsClient\n",
    "\n",
    "print(f\"Parcl Labs Version: {parcllabs.__version__}\")"
   ]
  },
  {
   "cell_type": "code",
   "execution_count": 3,
   "id": "19dbcf0d-717d-4a9b-acee-82006e1f6f20",
   "metadata": {},
   "outputs": [],
   "source": [
    "client = ParclLabsClient(api_key=api_key)"
   ]
  },
  {
   "cell_type": "code",
   "execution_count": 4,
   "id": "79f8e9fc-73e0-4c53-88ff-1fdd92b95849",
   "metadata": {},
   "outputs": [
    {
     "data": {
      "text/html": [
       "<div>\n",
       "<style scoped>\n",
       "    .dataframe tbody tr th:only-of-type {\n",
       "        vertical-align: middle;\n",
       "    }\n",
       "\n",
       "    .dataframe tbody tr th {\n",
       "        vertical-align: top;\n",
       "    }\n",
       "\n",
       "    .dataframe thead th {\n",
       "        text-align: right;\n",
       "    }\n",
       "</style>\n",
       "<table border=\"1\" class=\"dataframe\">\n",
       "  <thead>\n",
       "    <tr style=\"text-align: right;\">\n",
       "      <th></th>\n",
       "      <th>parcl_id</th>\n",
       "      <th>country</th>\n",
       "      <th>geoid</th>\n",
       "      <th>state_fips_code</th>\n",
       "      <th>name</th>\n",
       "      <th>state_abbreviation</th>\n",
       "      <th>region</th>\n",
       "      <th>location_type</th>\n",
       "      <th>total_population</th>\n",
       "      <th>median_income</th>\n",
       "      <th>parcl_exchange_market</th>\n",
       "      <th>pricefeed_market</th>\n",
       "      <th>case_shiller_10_market</th>\n",
       "      <th>case_shiller_20_market</th>\n",
       "    </tr>\n",
       "  </thead>\n",
       "  <tbody>\n",
       "    <tr>\n",
       "      <th>0</th>\n",
       "      <td>5374167</td>\n",
       "      <td>USA</td>\n",
       "      <td>0666000</td>\n",
       "      <td>06</td>\n",
       "      <td>San Diego City</td>\n",
       "      <td>CA</td>\n",
       "      <td>PACIFIC</td>\n",
       "      <td>CITY</td>\n",
       "      <td>1383987</td>\n",
       "      <td>98657</td>\n",
       "      <td>1</td>\n",
       "      <td>1</td>\n",
       "      <td>0</td>\n",
       "      <td>0</td>\n",
       "    </tr>\n",
       "    <tr>\n",
       "      <th>1</th>\n",
       "      <td>5316648</td>\n",
       "      <td>USA</td>\n",
       "      <td>4865180</td>\n",
       "      <td>48</td>\n",
       "      <td>San Diego City</td>\n",
       "      <td>TX</td>\n",
       "      <td>WEST_SOUTH_CENTRAL</td>\n",
       "      <td>CITY</td>\n",
       "      <td>3801</td>\n",
       "      <td>46620</td>\n",
       "      <td>0</td>\n",
       "      <td>0</td>\n",
       "      <td>0</td>\n",
       "      <td>0</td>\n",
       "    </tr>\n",
       "  </tbody>\n",
       "</table>\n",
       "</div>"
      ],
      "text/plain": [
       "   parcl_id country    geoid state_fips_code            name  \\\n",
       "0   5374167     USA  0666000              06  San Diego City   \n",
       "1   5316648     USA  4865180              48  San Diego City   \n",
       "\n",
       "  state_abbreviation              region location_type  total_population  \\\n",
       "0                 CA             PACIFIC          CITY           1383987   \n",
       "1                 TX  WEST_SOUTH_CENTRAL          CITY              3801   \n",
       "\n",
       "   median_income  parcl_exchange_market  pricefeed_market  \\\n",
       "0          98657                      1                 1   \n",
       "1          46620                      0                 0   \n",
       "\n",
       "   case_shiller_10_market  case_shiller_20_market  \n",
       "0                       0                       0  \n",
       "1                       0                       0  "
      ]
     },
     "execution_count": 4,
     "metadata": {},
     "output_type": "execute_result"
    }
   ],
   "source": [
    "# we are looking at homes in San Diego, so we look for the name and the type of market\n",
    "results = client.search_markets.retrieve(\n",
    "    query='San Diego',\n",
    "    location_type='CITY',\n",
    "    as_dataframe=True\n",
    ")\n",
    "\n",
    "results.head()"
   ]
  },
  {
   "cell_type": "code",
   "execution_count": 5,
   "id": "96dcb760-43b1-4dac-8025-85b1b5fdf343",
   "metadata": {},
   "outputs": [
    {
     "name": "stdout",
     "output_type": "stream",
     "text": [
      "In this analysis, we are studying: San Diego City which has parcl id: 5374167. Saving graphics to: ./graphics\n"
     ]
    }
   ],
   "source": [
    "# we see that the the first result is the city of San Diego, so we will use the parcl id of 5374167\n",
    "analysis_parcl_id = results.iloc[0]['parcl_id']\n",
    "name = results.iloc[0]['name']\n",
    "\n",
    "# set default save directory\n",
    "save_dir = './graphics'\n",
    "new_dir_name = f\"{analysis_parcl_id}-{name}-{datetime.today().date()}\"\n",
    "output_dir = os.path.join(save_dir, new_dir_name)\n",
    "\n",
    "if not os.path.exists(output_dir):\n",
    "    os.makedirs(output_dir)\n",
    "\n",
    "print(f\"In this analysis, we are studying: {name} which has parcl id: {analysis_parcl_id}. Saving graphics to: {save_dir}\")"
   ]
  },
  {
   "cell_type": "markdown",
   "id": "9f98b170-8778-4f70-bc36-d0d37af5bcab",
   "metadata": {},
   "source": [
    "<a id='market'></a>\n",
    "#### Market Overview\n",
    "\n",
    "Let's review housing stock mix, percent of housing stock owned by investors, and percent of all units that are rentals."
   ]
  },
  {
   "cell_type": "code",
   "execution_count": 6,
   "id": "bc08008a-0465-47e0-8f89-9d39f1558279",
   "metadata": {},
   "outputs": [
    {
     "data": {
      "text/html": [
       "<div>\n",
       "<style scoped>\n",
       "    .dataframe tbody tr th:only-of-type {\n",
       "        vertical-align: middle;\n",
       "    }\n",
       "\n",
       "    .dataframe tbody tr th {\n",
       "        vertical-align: top;\n",
       "    }\n",
       "\n",
       "    .dataframe thead th {\n",
       "        text-align: right;\n",
       "    }\n",
       "</style>\n",
       "<table border=\"1\" class=\"dataframe\">\n",
       "  <thead>\n",
       "    <tr style=\"text-align: right;\">\n",
       "      <th></th>\n",
       "      <th>date</th>\n",
       "      <th>single_family</th>\n",
       "      <th>condo</th>\n",
       "      <th>townhouse</th>\n",
       "      <th>other</th>\n",
       "      <th>all_properties</th>\n",
       "      <th>parcl_id</th>\n",
       "    </tr>\n",
       "  </thead>\n",
       "  <tbody>\n",
       "    <tr>\n",
       "      <th>0</th>\n",
       "      <td>2024-04-01</td>\n",
       "      <td>216872</td>\n",
       "      <td>166089</td>\n",
       "      <td>2801</td>\n",
       "      <td>46828</td>\n",
       "      <td>432590</td>\n",
       "      <td>5374167</td>\n",
       "    </tr>\n",
       "    <tr>\n",
       "      <th>1</th>\n",
       "      <td>2024-03-01</td>\n",
       "      <td>216869</td>\n",
       "      <td>166082</td>\n",
       "      <td>2798</td>\n",
       "      <td>46825</td>\n",
       "      <td>432574</td>\n",
       "      <td>5374167</td>\n",
       "    </tr>\n",
       "    <tr>\n",
       "      <th>2</th>\n",
       "      <td>2024-02-01</td>\n",
       "      <td>216867</td>\n",
       "      <td>166072</td>\n",
       "      <td>2797</td>\n",
       "      <td>46820</td>\n",
       "      <td>432556</td>\n",
       "      <td>5374167</td>\n",
       "    </tr>\n",
       "    <tr>\n",
       "      <th>3</th>\n",
       "      <td>2024-01-01</td>\n",
       "      <td>216866</td>\n",
       "      <td>166066</td>\n",
       "      <td>2796</td>\n",
       "      <td>46817</td>\n",
       "      <td>432545</td>\n",
       "      <td>5374167</td>\n",
       "    </tr>\n",
       "    <tr>\n",
       "      <th>4</th>\n",
       "      <td>2023-12-01</td>\n",
       "      <td>216860</td>\n",
       "      <td>166047</td>\n",
       "      <td>2795</td>\n",
       "      <td>46812</td>\n",
       "      <td>432514</td>\n",
       "      <td>5374167</td>\n",
       "    </tr>\n",
       "  </tbody>\n",
       "</table>\n",
       "</div>"
      ],
      "text/plain": [
       "         date  single_family   condo  townhouse  other  all_properties  \\\n",
       "0  2024-04-01         216872  166089       2801  46828          432590   \n",
       "1  2024-03-01         216869  166082       2798  46825          432574   \n",
       "2  2024-02-01         216867  166072       2797  46820          432556   \n",
       "3  2024-01-01         216866  166066       2796  46817          432545   \n",
       "4  2023-12-01         216860  166047       2795  46812          432514   \n",
       "\n",
       "   parcl_id  \n",
       "0   5374167  \n",
       "1   5374167  \n",
       "2   5374167  \n",
       "3   5374167  \n",
       "4   5374167  "
      ]
     },
     "execution_count": 6,
     "metadata": {},
     "output_type": "execute_result"
    }
   ],
   "source": [
    "# we call the API specifying the parcl id and the necessary parameters\n",
    "housing_stock = client.market_metrics_housing_stock.retrieve(\n",
    "    parcl_id=analysis_parcl_id,\n",
    "    params={\n",
    "        'limit': 100\n",
    "    },\n",
    "    as_dataframe=True # set to true to default to a pandas dataframe for easier manipulation\n",
    ")\n",
    "\n",
    "housing_stock.head()"
   ]
  },
  {
   "cell_type": "code",
   "execution_count": 7,
   "id": "164d9733-9749-491e-9861-dc0e1dcf9dd5",
   "metadata": {},
   "outputs": [
    {
     "data": {
      "text/html": [
       "<div>\n",
       "<style scoped>\n",
       "    .dataframe tbody tr th:only-of-type {\n",
       "        vertical-align: middle;\n",
       "    }\n",
       "\n",
       "    .dataframe tbody tr th {\n",
       "        vertical-align: top;\n",
       "    }\n",
       "\n",
       "    .dataframe thead th {\n",
       "        text-align: right;\n",
       "    }\n",
       "</style>\n",
       "<table border=\"1\" class=\"dataframe\">\n",
       "  <thead>\n",
       "    <tr style=\"text-align: right;\">\n",
       "      <th></th>\n",
       "      <th>date</th>\n",
       "      <th>single_family</th>\n",
       "      <th>condo</th>\n",
       "      <th>townhouse</th>\n",
       "      <th>other</th>\n",
       "      <th>all_properties</th>\n",
       "      <th>parcl_id</th>\n",
       "      <th>pct_condo</th>\n",
       "      <th>pct_townhouse</th>\n",
       "      <th>pct_single_family</th>\n",
       "      <th>pct_other</th>\n",
       "    </tr>\n",
       "  </thead>\n",
       "  <tbody>\n",
       "    <tr>\n",
       "      <th>0</th>\n",
       "      <td>2024-04-01</td>\n",
       "      <td>216872</td>\n",
       "      <td>166089</td>\n",
       "      <td>2801</td>\n",
       "      <td>46828</td>\n",
       "      <td>432590</td>\n",
       "      <td>5374167</td>\n",
       "      <td>0.383941</td>\n",
       "      <td>0.006475</td>\n",
       "      <td>0.501334</td>\n",
       "      <td>0.108250</td>\n",
       "    </tr>\n",
       "    <tr>\n",
       "      <th>1</th>\n",
       "      <td>2024-03-01</td>\n",
       "      <td>216869</td>\n",
       "      <td>166082</td>\n",
       "      <td>2798</td>\n",
       "      <td>46825</td>\n",
       "      <td>432574</td>\n",
       "      <td>5374167</td>\n",
       "      <td>0.383939</td>\n",
       "      <td>0.006468</td>\n",
       "      <td>0.501345</td>\n",
       "      <td>0.108247</td>\n",
       "    </tr>\n",
       "    <tr>\n",
       "      <th>2</th>\n",
       "      <td>2024-02-01</td>\n",
       "      <td>216867</td>\n",
       "      <td>166072</td>\n",
       "      <td>2797</td>\n",
       "      <td>46820</td>\n",
       "      <td>432556</td>\n",
       "      <td>5374167</td>\n",
       "      <td>0.383932</td>\n",
       "      <td>0.006466</td>\n",
       "      <td>0.501362</td>\n",
       "      <td>0.108240</td>\n",
       "    </tr>\n",
       "    <tr>\n",
       "      <th>3</th>\n",
       "      <td>2024-01-01</td>\n",
       "      <td>216866</td>\n",
       "      <td>166066</td>\n",
       "      <td>2796</td>\n",
       "      <td>46817</td>\n",
       "      <td>432545</td>\n",
       "      <td>5374167</td>\n",
       "      <td>0.383928</td>\n",
       "      <td>0.006464</td>\n",
       "      <td>0.501372</td>\n",
       "      <td>0.108236</td>\n",
       "    </tr>\n",
       "    <tr>\n",
       "      <th>4</th>\n",
       "      <td>2023-12-01</td>\n",
       "      <td>216860</td>\n",
       "      <td>166047</td>\n",
       "      <td>2795</td>\n",
       "      <td>46812</td>\n",
       "      <td>432514</td>\n",
       "      <td>5374167</td>\n",
       "      <td>0.383911</td>\n",
       "      <td>0.006462</td>\n",
       "      <td>0.501394</td>\n",
       "      <td>0.108232</td>\n",
       "    </tr>\n",
       "  </tbody>\n",
       "</table>\n",
       "</div>"
      ],
      "text/plain": [
       "         date  single_family   condo  townhouse  other  all_properties  \\\n",
       "0  2024-04-01         216872  166089       2801  46828          432590   \n",
       "1  2024-03-01         216869  166082       2798  46825          432574   \n",
       "2  2024-02-01         216867  166072       2797  46820          432556   \n",
       "3  2024-01-01         216866  166066       2796  46817          432545   \n",
       "4  2023-12-01         216860  166047       2795  46812          432514   \n",
       "\n",
       "   parcl_id  pct_condo  pct_townhouse  pct_single_family  pct_other  \n",
       "0   5374167   0.383941       0.006475           0.501334   0.108250  \n",
       "1   5374167   0.383939       0.006468           0.501345   0.108247  \n",
       "2   5374167   0.383932       0.006466           0.501362   0.108240  \n",
       "3   5374167   0.383928       0.006464           0.501372   0.108236  \n",
       "4   5374167   0.383911       0.006462           0.501394   0.108232  "
      ]
     },
     "execution_count": 7,
     "metadata": {},
     "output_type": "execute_result"
    }
   ],
   "source": [
    "# calculate the percentage of each property type\n",
    "housing_stock['pct_condo'] = housing_stock['condo']/housing_stock['all_properties']\n",
    "housing_stock['pct_townhouse'] = housing_stock['townhouse']/housing_stock['all_properties']\n",
    "housing_stock['pct_single_family'] = housing_stock['single_family']/housing_stock['all_properties']\n",
    "housing_stock['pct_other'] = housing_stock['other']/housing_stock['all_properties']\n",
    "housing_stock.head()"
   ]
  },
  {
   "cell_type": "markdown",
   "id": "0db73713-4ae7-424f-8980-4cbf9c8f5736",
   "metadata": {},
   "source": [
    "\n",
    "Let's analyze how the percent of single family homes as a proportion of the overall housing stock has changed\n",
    "since 2019 in San Diego. The API returns monthly data for this endpoint since January 2019. We will see how the supply of housing has changed over the last 5 years. "
   ]
  },
  {
   "cell_type": "code",
   "execution_count": 8,
   "id": "df44bc92-0975-4cea-9c60-fee6dae00aa4",
   "metadata": {},
   "outputs": [],
   "source": [
    "# set some constants for the analysis, such as the logo for the chart, we have a white and blue version\n",
    "labs_logo_lookup = {\n",
    "    'blue': 'https://parcllabs-assets.s3.amazonaws.com/powered-by-parcllabs-api.png',\n",
    "    'white': 'https://parcllabs-assets.s3.amazonaws.com/powered-by-parcllabs-api-logo-white.png'\n",
    "}\n",
    "\n",
    "# set charting constants\n",
    "labs_logo_dict = dict(\n",
    "        source=labs_logo_lookup['white'],\n",
    "        xref=\"paper\",\n",
    "        yref=\"paper\",\n",
    "        x=0.5,  # Centering the logo below the title\n",
    "        y=1.02,  # Adjust this value to position the logo just below the title\n",
    "        sizex=0.15, \n",
    "        sizey=0.15,\n",
    "        xanchor=\"center\",\n",
    "        yanchor=\"bottom\"\n",
    ")\n",
    "\n",
    "# define image dimentions\n",
    "media_img_size_lookup = {\n",
    "    'X': {\n",
    "        'width': 1600,\n",
    "        'height': 900\n",
    "    }\n",
    "}\n",
    "\n",
    "# optimize the visual for the platform in this case X\n",
    "PLATFORM = 'X'\n",
    "\n",
    "# set image sizes\n",
    "IMG_WIDTH = media_img_size_lookup[PLATFORM]['width']\n",
    "IMG_HEIGHT = media_img_size_lookup[PLATFORM]['height']\n",
    "\n",
    "# plotting title settings\n",
    "PLOT_TITLE_SETTINGS = {\n",
    "        'y':0.97,\n",
    "        'x':0.5,\n",
    "        'xanchor': 'center',\n",
    "        'yanchor': 'top'\n",
    "    }"
   ]
  },
  {
   "cell_type": "code",
   "execution_count": 9,
   "id": "76c45c55-b7e2-468c-9dc8-7b3b3fe57e8b",
   "metadata": {},
   "outputs": [
    {
     "data": {
      "application/vnd.plotly.v1+json": {
       "config": {
        "plotlyServerURL": "https://plot.ly"
       },
       "data": [
        {
         "hovertemplate": "date=%{x}<br>Percent of Single Family Homes=%{y}<extra></extra>",
         "legendgroup": "",
         "line": {
          "color": "#FFFFFF",
          "dash": "solid",
          "width": 3
         },
         "marker": {
          "color": "#448CF2",
          "size": 5,
          "symbol": "circle"
         },
         "mode": "lines+markers",
         "name": "",
         "orientation": "v",
         "showlegend": false,
         "type": "scatter",
         "x": [
          "2024-04-01",
          "2024-03-01",
          "2024-02-01",
          "2024-01-01",
          "2023-12-01",
          "2023-11-01",
          "2023-10-01",
          "2023-09-01",
          "2023-08-01",
          "2023-07-01",
          "2023-06-01",
          "2023-05-01",
          "2023-04-01",
          "2023-03-01",
          "2023-02-01",
          "2023-01-01",
          "2022-12-01",
          "2022-11-01",
          "2022-10-01",
          "2022-09-01",
          "2022-08-01",
          "2022-07-01",
          "2022-06-01",
          "2022-05-01",
          "2022-04-01",
          "2022-03-01",
          "2022-02-01",
          "2022-01-01",
          "2021-12-01",
          "2021-11-01",
          "2021-10-01",
          "2021-09-01",
          "2021-08-01",
          "2021-07-01",
          "2021-06-01",
          "2021-05-01",
          "2021-04-01",
          "2021-03-01",
          "2021-02-01",
          "2021-01-01",
          "2020-12-01",
          "2020-11-01",
          "2020-10-01",
          "2020-09-01",
          "2020-08-01",
          "2020-07-01",
          "2020-06-01",
          "2020-05-01",
          "2020-04-01",
          "2020-03-01",
          "2020-02-01",
          "2020-01-01",
          "2019-12-01",
          "2019-11-01",
          "2019-10-01",
          "2019-09-01",
          "2019-08-01",
          "2019-07-01",
          "2019-06-01",
          "2019-05-01",
          "2019-04-01",
          "2019-03-01",
          "2019-02-01",
          "2019-01-01"
         ],
         "xaxis": "x",
         "y": [
          0.5013338264869738,
          0.501345434538368,
          0.5013616734018255,
          0.5013721115722064,
          0.5013941745238304,
          0.5014174000305215,
          0.5014336453438899,
          0.5014614947020817,
          0.5014766112638729,
          0.5014986747829465,
          0.5015091276201578,
          0.5015323339817322,
          0.5015416499934078,
          0.501556738851853,
          0.5015730035577639,
          0.5015938964638169,
          0.5016182802042342,
          0.501658954187876,
          0.5016914640072194,
          0.5017216642754663,
          0.5017495545115827,
          0.5018157662672521,
          0.5018204122255784,
          0.5018251174116433,
          0.5018355716659954,
          0.5018448903250896,
          0.5018508101200769,
          0.5018508358277368,
          0.5018590028521688,
          0.5018602852823304,
          0.5018673001363719,
          0.5018708467433838,
          0.5018825283768577,
          0.5018872381022953,
          0.5018769264258736,
          0.5018829120520267,
          0.5019108899883262,
          0.5019180519263913,
          0.5019473463496233,
          0.5019696625620443,
          0.5019733442100945,
          0.5019909976311996,
          0.502024939089554,
          0.5020449423613752,
          0.5020474507730692,
          0.5021162315539981,
          0.5021419906712653,
          0.5021527526468651,
          0.5021448274742075,
          0.5021519871368014,
          0.5021650546716914,
          0.5021826663108182,
          0.502186294578825,
          0.5021842271410533,
          0.5021751746871881,
          0.5021568436253546,
          0.5021523701612304,
          0.5021480556032901,
          0.5021612243144122,
          0.5021672473867596,
          0.5021953157305407,
          0.50220473099494,
          0.5022129804955683,
          0.5022293888988283
         ],
         "yaxis": "y"
        }
       ],
       "layout": {
        "font": {
         "color": "#FFFFFF"
        },
        "height": 900,
        "images": [
         {
          "sizex": 0.15,
          "sizey": 0.15,
          "source": "https://parcllabs-assets.s3.amazonaws.com/powered-by-parcllabs-api-logo-white.png",
          "x": 0.5,
          "xanchor": "center",
          "xref": "paper",
          "y": 1.02,
          "yanchor": "bottom",
          "yref": "paper"
         }
        ],
        "legend": {
         "title": {
          "text": "Rolling Window (Days)"
         },
         "tracegroupgap": 0,
         "traceorder": "normal",
         "x": 0.01,
         "xanchor": "left",
         "y": 0.99,
         "yanchor": "top"
        },
        "margin": {
         "b": 100
        },
        "paper_bgcolor": "#080D16",
        "plot_bgcolor": "#080D16",
        "template": {
         "data": {
          "bar": [
           {
            "error_x": {
             "color": "#2a3f5f"
            },
            "error_y": {
             "color": "#2a3f5f"
            },
            "marker": {
             "line": {
              "color": "#E5ECF6",
              "width": 0.5
             },
             "pattern": {
              "fillmode": "overlay",
              "size": 10,
              "solidity": 0.2
             }
            },
            "type": "bar"
           }
          ],
          "barpolar": [
           {
            "marker": {
             "line": {
              "color": "#E5ECF6",
              "width": 0.5
             },
             "pattern": {
              "fillmode": "overlay",
              "size": 10,
              "solidity": 0.2
             }
            },
            "type": "barpolar"
           }
          ],
          "carpet": [
           {
            "aaxis": {
             "endlinecolor": "#2a3f5f",
             "gridcolor": "white",
             "linecolor": "white",
             "minorgridcolor": "white",
             "startlinecolor": "#2a3f5f"
            },
            "baxis": {
             "endlinecolor": "#2a3f5f",
             "gridcolor": "white",
             "linecolor": "white",
             "minorgridcolor": "white",
             "startlinecolor": "#2a3f5f"
            },
            "type": "carpet"
           }
          ],
          "choropleth": [
           {
            "colorbar": {
             "outlinewidth": 0,
             "ticks": ""
            },
            "type": "choropleth"
           }
          ],
          "contour": [
           {
            "colorbar": {
             "outlinewidth": 0,
             "ticks": ""
            },
            "colorscale": [
             [
              0,
              "#0d0887"
             ],
             [
              0.1111111111111111,
              "#46039f"
             ],
             [
              0.2222222222222222,
              "#7201a8"
             ],
             [
              0.3333333333333333,
              "#9c179e"
             ],
             [
              0.4444444444444444,
              "#bd3786"
             ],
             [
              0.5555555555555556,
              "#d8576b"
             ],
             [
              0.6666666666666666,
              "#ed7953"
             ],
             [
              0.7777777777777778,
              "#fb9f3a"
             ],
             [
              0.8888888888888888,
              "#fdca26"
             ],
             [
              1,
              "#f0f921"
             ]
            ],
            "type": "contour"
           }
          ],
          "contourcarpet": [
           {
            "colorbar": {
             "outlinewidth": 0,
             "ticks": ""
            },
            "type": "contourcarpet"
           }
          ],
          "heatmap": [
           {
            "colorbar": {
             "outlinewidth": 0,
             "ticks": ""
            },
            "colorscale": [
             [
              0,
              "#0d0887"
             ],
             [
              0.1111111111111111,
              "#46039f"
             ],
             [
              0.2222222222222222,
              "#7201a8"
             ],
             [
              0.3333333333333333,
              "#9c179e"
             ],
             [
              0.4444444444444444,
              "#bd3786"
             ],
             [
              0.5555555555555556,
              "#d8576b"
             ],
             [
              0.6666666666666666,
              "#ed7953"
             ],
             [
              0.7777777777777778,
              "#fb9f3a"
             ],
             [
              0.8888888888888888,
              "#fdca26"
             ],
             [
              1,
              "#f0f921"
             ]
            ],
            "type": "heatmap"
           }
          ],
          "heatmapgl": [
           {
            "colorbar": {
             "outlinewidth": 0,
             "ticks": ""
            },
            "colorscale": [
             [
              0,
              "#0d0887"
             ],
             [
              0.1111111111111111,
              "#46039f"
             ],
             [
              0.2222222222222222,
              "#7201a8"
             ],
             [
              0.3333333333333333,
              "#9c179e"
             ],
             [
              0.4444444444444444,
              "#bd3786"
             ],
             [
              0.5555555555555556,
              "#d8576b"
             ],
             [
              0.6666666666666666,
              "#ed7953"
             ],
             [
              0.7777777777777778,
              "#fb9f3a"
             ],
             [
              0.8888888888888888,
              "#fdca26"
             ],
             [
              1,
              "#f0f921"
             ]
            ],
            "type": "heatmapgl"
           }
          ],
          "histogram": [
           {
            "marker": {
             "pattern": {
              "fillmode": "overlay",
              "size": 10,
              "solidity": 0.2
             }
            },
            "type": "histogram"
           }
          ],
          "histogram2d": [
           {
            "colorbar": {
             "outlinewidth": 0,
             "ticks": ""
            },
            "colorscale": [
             [
              0,
              "#0d0887"
             ],
             [
              0.1111111111111111,
              "#46039f"
             ],
             [
              0.2222222222222222,
              "#7201a8"
             ],
             [
              0.3333333333333333,
              "#9c179e"
             ],
             [
              0.4444444444444444,
              "#bd3786"
             ],
             [
              0.5555555555555556,
              "#d8576b"
             ],
             [
              0.6666666666666666,
              "#ed7953"
             ],
             [
              0.7777777777777778,
              "#fb9f3a"
             ],
             [
              0.8888888888888888,
              "#fdca26"
             ],
             [
              1,
              "#f0f921"
             ]
            ],
            "type": "histogram2d"
           }
          ],
          "histogram2dcontour": [
           {
            "colorbar": {
             "outlinewidth": 0,
             "ticks": ""
            },
            "colorscale": [
             [
              0,
              "#0d0887"
             ],
             [
              0.1111111111111111,
              "#46039f"
             ],
             [
              0.2222222222222222,
              "#7201a8"
             ],
             [
              0.3333333333333333,
              "#9c179e"
             ],
             [
              0.4444444444444444,
              "#bd3786"
             ],
             [
              0.5555555555555556,
              "#d8576b"
             ],
             [
              0.6666666666666666,
              "#ed7953"
             ],
             [
              0.7777777777777778,
              "#fb9f3a"
             ],
             [
              0.8888888888888888,
              "#fdca26"
             ],
             [
              1,
              "#f0f921"
             ]
            ],
            "type": "histogram2dcontour"
           }
          ],
          "mesh3d": [
           {
            "colorbar": {
             "outlinewidth": 0,
             "ticks": ""
            },
            "type": "mesh3d"
           }
          ],
          "parcoords": [
           {
            "line": {
             "colorbar": {
              "outlinewidth": 0,
              "ticks": ""
             }
            },
            "type": "parcoords"
           }
          ],
          "pie": [
           {
            "automargin": true,
            "type": "pie"
           }
          ],
          "scatter": [
           {
            "fillpattern": {
             "fillmode": "overlay",
             "size": 10,
             "solidity": 0.2
            },
            "type": "scatter"
           }
          ],
          "scatter3d": [
           {
            "line": {
             "colorbar": {
              "outlinewidth": 0,
              "ticks": ""
             }
            },
            "marker": {
             "colorbar": {
              "outlinewidth": 0,
              "ticks": ""
             }
            },
            "type": "scatter3d"
           }
          ],
          "scattercarpet": [
           {
            "marker": {
             "colorbar": {
              "outlinewidth": 0,
              "ticks": ""
             }
            },
            "type": "scattercarpet"
           }
          ],
          "scattergeo": [
           {
            "marker": {
             "colorbar": {
              "outlinewidth": 0,
              "ticks": ""
             }
            },
            "type": "scattergeo"
           }
          ],
          "scattergl": [
           {
            "marker": {
             "colorbar": {
              "outlinewidth": 0,
              "ticks": ""
             }
            },
            "type": "scattergl"
           }
          ],
          "scattermapbox": [
           {
            "marker": {
             "colorbar": {
              "outlinewidth": 0,
              "ticks": ""
             }
            },
            "type": "scattermapbox"
           }
          ],
          "scatterpolar": [
           {
            "marker": {
             "colorbar": {
              "outlinewidth": 0,
              "ticks": ""
             }
            },
            "type": "scatterpolar"
           }
          ],
          "scatterpolargl": [
           {
            "marker": {
             "colorbar": {
              "outlinewidth": 0,
              "ticks": ""
             }
            },
            "type": "scatterpolargl"
           }
          ],
          "scatterternary": [
           {
            "marker": {
             "colorbar": {
              "outlinewidth": 0,
              "ticks": ""
             }
            },
            "type": "scatterternary"
           }
          ],
          "surface": [
           {
            "colorbar": {
             "outlinewidth": 0,
             "ticks": ""
            },
            "colorscale": [
             [
              0,
              "#0d0887"
             ],
             [
              0.1111111111111111,
              "#46039f"
             ],
             [
              0.2222222222222222,
              "#7201a8"
             ],
             [
              0.3333333333333333,
              "#9c179e"
             ],
             [
              0.4444444444444444,
              "#bd3786"
             ],
             [
              0.5555555555555556,
              "#d8576b"
             ],
             [
              0.6666666666666666,
              "#ed7953"
             ],
             [
              0.7777777777777778,
              "#fb9f3a"
             ],
             [
              0.8888888888888888,
              "#fdca26"
             ],
             [
              1,
              "#f0f921"
             ]
            ],
            "type": "surface"
           }
          ],
          "table": [
           {
            "cells": {
             "fill": {
              "color": "#EBF0F8"
             },
             "line": {
              "color": "white"
             }
            },
            "header": {
             "fill": {
              "color": "#C8D4E3"
             },
             "line": {
              "color": "white"
             }
            },
            "type": "table"
           }
          ]
         },
         "layout": {
          "annotationdefaults": {
           "arrowcolor": "#2a3f5f",
           "arrowhead": 0,
           "arrowwidth": 1
          },
          "autotypenumbers": "strict",
          "coloraxis": {
           "colorbar": {
            "outlinewidth": 0,
            "ticks": ""
           }
          },
          "colorscale": {
           "diverging": [
            [
             0,
             "#8e0152"
            ],
            [
             0.1,
             "#c51b7d"
            ],
            [
             0.2,
             "#de77ae"
            ],
            [
             0.3,
             "#f1b6da"
            ],
            [
             0.4,
             "#fde0ef"
            ],
            [
             0.5,
             "#f7f7f7"
            ],
            [
             0.6,
             "#e6f5d0"
            ],
            [
             0.7,
             "#b8e186"
            ],
            [
             0.8,
             "#7fbc41"
            ],
            [
             0.9,
             "#4d9221"
            ],
            [
             1,
             "#276419"
            ]
           ],
           "sequential": [
            [
             0,
             "#0d0887"
            ],
            [
             0.1111111111111111,
             "#46039f"
            ],
            [
             0.2222222222222222,
             "#7201a8"
            ],
            [
             0.3333333333333333,
             "#9c179e"
            ],
            [
             0.4444444444444444,
             "#bd3786"
            ],
            [
             0.5555555555555556,
             "#d8576b"
            ],
            [
             0.6666666666666666,
             "#ed7953"
            ],
            [
             0.7777777777777778,
             "#fb9f3a"
            ],
            [
             0.8888888888888888,
             "#fdca26"
            ],
            [
             1,
             "#f0f921"
            ]
           ],
           "sequentialminus": [
            [
             0,
             "#0d0887"
            ],
            [
             0.1111111111111111,
             "#46039f"
            ],
            [
             0.2222222222222222,
             "#7201a8"
            ],
            [
             0.3333333333333333,
             "#9c179e"
            ],
            [
             0.4444444444444444,
             "#bd3786"
            ],
            [
             0.5555555555555556,
             "#d8576b"
            ],
            [
             0.6666666666666666,
             "#ed7953"
            ],
            [
             0.7777777777777778,
             "#fb9f3a"
            ],
            [
             0.8888888888888888,
             "#fdca26"
            ],
            [
             1,
             "#f0f921"
            ]
           ]
          },
          "colorway": [
           "#636efa",
           "#EF553B",
           "#00cc96",
           "#ab63fa",
           "#FFA15A",
           "#19d3f3",
           "#FF6692",
           "#B6E880",
           "#FF97FF",
           "#FECB52"
          ],
          "font": {
           "color": "#2a3f5f"
          },
          "geo": {
           "bgcolor": "white",
           "lakecolor": "white",
           "landcolor": "#E5ECF6",
           "showlakes": true,
           "showland": true,
           "subunitcolor": "white"
          },
          "hoverlabel": {
           "align": "left"
          },
          "hovermode": "closest",
          "mapbox": {
           "style": "light"
          },
          "paper_bgcolor": "white",
          "plot_bgcolor": "#E5ECF6",
          "polar": {
           "angularaxis": {
            "gridcolor": "white",
            "linecolor": "white",
            "ticks": ""
           },
           "bgcolor": "#E5ECF6",
           "radialaxis": {
            "gridcolor": "white",
            "linecolor": "white",
            "ticks": ""
           }
          },
          "scene": {
           "xaxis": {
            "backgroundcolor": "#E5ECF6",
            "gridcolor": "white",
            "gridwidth": 2,
            "linecolor": "white",
            "showbackground": true,
            "ticks": "",
            "zerolinecolor": "white"
           },
           "yaxis": {
            "backgroundcolor": "#E5ECF6",
            "gridcolor": "white",
            "gridwidth": 2,
            "linecolor": "white",
            "showbackground": true,
            "ticks": "",
            "zerolinecolor": "white"
           },
           "zaxis": {
            "backgroundcolor": "#E5ECF6",
            "gridcolor": "white",
            "gridwidth": 2,
            "linecolor": "white",
            "showbackground": true,
            "ticks": "",
            "zerolinecolor": "white"
           }
          },
          "shapedefaults": {
           "line": {
            "color": "#2a3f5f"
           }
          },
          "ternary": {
           "aaxis": {
            "gridcolor": "white",
            "linecolor": "white",
            "ticks": ""
           },
           "baxis": {
            "gridcolor": "white",
            "linecolor": "white",
            "ticks": ""
           },
           "bgcolor": "#E5ECF6",
           "caxis": {
            "gridcolor": "white",
            "linecolor": "white",
            "ticks": ""
           }
          },
          "title": {
           "x": 0.05
          },
          "xaxis": {
           "automargin": true,
           "gridcolor": "white",
           "linecolor": "white",
           "ticks": "",
           "title": {
            "standoff": 15
           },
           "zerolinecolor": "white",
           "zerolinewidth": 2
          },
          "yaxis": {
           "automargin": true,
           "gridcolor": "white",
           "linecolor": "white",
           "ticks": "",
           "title": {
            "standoff": 15
           },
           "zerolinecolor": "white",
           "zerolinewidth": 2
          }
         }
        },
        "title": {
         "text": "Percent of all homes that are Single Family Homes in San Diego City",
         "x": 0.5,
         "xanchor": "center",
         "y": 0.97,
         "yanchor": "top"
        },
        "width": 1600,
        "xaxis": {
         "anchor": "y",
         "domain": [
          0,
          1
         ],
         "gridcolor": "LightGrey",
         "gridwidth": 1,
         "showgrid": true,
         "title": {
          "text": "date"
         }
        },
        "yaxis": {
         "anchor": "x",
         "domain": [
          0,
          1
         ],
         "gridcolor": "LightGrey",
         "gridwidth": 1,
         "showgrid": true,
         "tickformat": ".2%",
         "title": {
          "text": "Percent of Single Family Homes"
         }
        }
       }
      }
     },
     "metadata": {},
     "output_type": "display_data"
    }
   ],
   "source": [
    "# Creating the line chart\n",
    "fig = px.line(\n",
    "    housing_stock, \n",
    "    x='date', \n",
    "    y='pct_single_family', \n",
    "    title=f'Percent of all homes that are Single Family Homes in {name}',\n",
    "    labels={'pct_single_family': 'Percent of Single Family Homes'}\n",
    ")\n",
    "\n",
    "# Showing the plot\n",
    "# Add the logo as a layout_image\n",
    "fig.add_layout_image(\n",
    "    labs_logo_dict\n",
    ")\n",
    "\n",
    "fig.update_layout(\n",
    "    margin=dict(b=100),\n",
    "    width=IMG_WIDTH,\n",
    "    height=IMG_HEIGHT,\n",
    "    legend=dict(\n",
    "        x=0.01,\n",
    "        y=0.99,\n",
    "        traceorder=\"normal\",\n",
    "        xanchor='left',\n",
    "        yanchor='top',\n",
    "        title='Rolling Window (Days)'\n",
    "    ),\n",
    "    title=PLOT_TITLE_SETTINGS,\n",
    "    plot_bgcolor='#080D16',\n",
    "    paper_bgcolor='#080D16',\n",
    "    font=dict(color='#FFFFFF'),\n",
    "    xaxis_title='date'\n",
    ")\n",
    "\n",
    "fig.update_traces(\n",
    "    line=dict(color='#FFFFFF', width=3),\n",
    "    mode='lines+markers',\n",
    "    marker=dict(color='#448CF2', size=5)\n",
    ")\n",
    "\n",
    "\n",
    "# Adding gridlines\n",
    "fig.update_xaxes(showgrid=True, gridwidth=1, gridcolor='LightGrey')\n",
    "fig.update_yaxes(showgrid=True, gridwidth=1, gridcolor='LightGrey')\n",
    "fig.update_yaxes(tickformat=\".2%\")\n",
    "\n",
    "# save fig\n",
    "fig.write_image(os.path.join(output_dir, 'percent_single_family_homes.png'), width=IMG_WIDTH, height=IMG_HEIGHT)\n",
    "# Show the plot\n",
    "fig.show()"
   ]
  },
  {
   "cell_type": "code",
   "execution_count": 10,
   "id": "30ad20d6-f1e9-4cd1-92d7-52a02d5d918d",
   "metadata": {},
   "outputs": [],
   "source": [
    "# Now lets find out how much of the housing stock is owned by investors in San Diego\n",
    "investor_ownership = client.investor_metrics_housing_stock_ownership.retrieve(\n",
    "    parcl_id=analysis_parcl_id,\n",
    "    params={\n",
    "        'limit': 200,\n",
    "    },\n",
    "    as_dataframe=True\n",
    ")\n",
    "\n",
    "# the results returned by the API are in percentage points, howver for graph formatting we divide pct_ownership \n",
    "# so plotly can handles this internally\n",
    "investor_ownership['pct_ownership'] = investor_ownership['pct_ownership']/100"
   ]
  },
  {
   "cell_type": "code",
   "execution_count": 11,
   "id": "3305369a-01ae-4f5d-8085-eab5015744d3",
   "metadata": {},
   "outputs": [
    {
     "data": {
      "application/vnd.plotly.v1+json": {
       "config": {
        "plotlyServerURL": "https://plot.ly"
       },
       "data": [
        {
         "hovertemplate": "date=%{x}<br>Percent of all Homes Owned by Investors=%{y}<extra></extra>",
         "legendgroup": "",
         "line": {
          "color": "#FFFFFF",
          "dash": "solid",
          "width": 3
         },
         "marker": {
          "color": "#448CF2",
          "size": 5,
          "symbol": "circle"
         },
         "mode": "lines+markers",
         "name": "",
         "orientation": "v",
         "showlegend": false,
         "type": "scatter",
         "x": [
          "2024-04-01",
          "2024-03-01",
          "2024-02-01",
          "2024-01-01",
          "2023-12-01",
          "2023-11-01",
          "2023-10-01",
          "2023-09-01",
          "2023-08-01",
          "2023-07-01",
          "2023-06-01",
          "2023-05-01",
          "2023-04-01",
          "2023-03-01",
          "2023-02-01",
          "2023-01-01",
          "2022-12-01",
          "2022-11-01",
          "2022-10-01",
          "2022-09-01",
          "2022-08-01",
          "2022-07-01",
          "2022-06-01",
          "2022-05-01",
          "2022-04-01",
          "2022-03-01",
          "2022-02-01",
          "2022-01-01",
          "2021-12-01",
          "2021-11-01",
          "2021-10-01",
          "2021-09-01",
          "2021-08-01",
          "2021-07-01",
          "2021-06-01",
          "2021-05-01",
          "2021-04-01",
          "2021-03-01",
          "2021-02-01",
          "2021-01-01",
          "2020-12-01",
          "2020-11-01",
          "2020-10-01",
          "2020-09-01",
          "2020-08-01",
          "2020-07-01",
          "2020-06-01",
          "2020-05-01",
          "2020-04-01",
          "2020-03-01",
          "2020-02-01",
          "2020-01-01",
          "2019-12-01",
          "2019-11-01",
          "2019-10-01",
          "2019-09-01",
          "2019-08-01",
          "2019-07-01",
          "2019-06-01",
          "2019-05-01",
          "2019-04-01",
          "2019-03-01",
          "2019-02-01",
          "2019-01-01"
         ],
         "xaxis": "x",
         "y": [
          0.2053,
          0.20600000000000002,
          0.2066,
          0.2072,
          0.2077,
          0.20800000000000002,
          0.20850000000000002,
          0.2089,
          0.2094,
          0.2101,
          0.21059999999999998,
          0.2113,
          0.212,
          0.2126,
          0.2133,
          0.2138,
          0.2144,
          0.215,
          0.2155,
          0.2162,
          0.21710000000000002,
          0.218,
          0.2187,
          0.2195,
          0.2206,
          0.2218,
          0.2231,
          0.2241,
          0.2253,
          0.22649999999999998,
          0.228,
          0.2297,
          0.2314,
          0.23309999999999997,
          0.2349,
          0.2371,
          0.2396,
          0.2425,
          0.2457,
          0.249,
          0.2488,
          0.2486,
          0.248,
          0.2477,
          0.2473,
          0.2469,
          0.24670000000000003,
          0.24600000000000002,
          0.2457,
          0.2457,
          0.245,
          0.2443,
          0.24359999999999998,
          0.2426,
          0.2416,
          0.2404,
          0.2396,
          0.2386,
          0.2378,
          0.2368,
          0.2359,
          0.2348,
          0.23379999999999998,
          0.23199999999999998
         ],
         "yaxis": "y"
        }
       ],
       "layout": {
        "font": {
         "color": "#FFFFFF"
        },
        "height": 900,
        "images": [
         {
          "sizex": 0.15,
          "sizey": 0.15,
          "source": "https://parcllabs-assets.s3.amazonaws.com/powered-by-parcllabs-api-logo-white.png",
          "x": 0.5,
          "xanchor": "center",
          "xref": "paper",
          "y": 1.02,
          "yanchor": "bottom",
          "yref": "paper"
         }
        ],
        "legend": {
         "title": {
          "text": "Rolling Window (Days)"
         },
         "tracegroupgap": 0,
         "traceorder": "normal",
         "x": 0.01,
         "xanchor": "left",
         "y": 0.99,
         "yanchor": "top"
        },
        "margin": {
         "b": 100
        },
        "paper_bgcolor": "#080D16",
        "plot_bgcolor": "#080D16",
        "template": {
         "data": {
          "bar": [
           {
            "error_x": {
             "color": "#2a3f5f"
            },
            "error_y": {
             "color": "#2a3f5f"
            },
            "marker": {
             "line": {
              "color": "#E5ECF6",
              "width": 0.5
             },
             "pattern": {
              "fillmode": "overlay",
              "size": 10,
              "solidity": 0.2
             }
            },
            "type": "bar"
           }
          ],
          "barpolar": [
           {
            "marker": {
             "line": {
              "color": "#E5ECF6",
              "width": 0.5
             },
             "pattern": {
              "fillmode": "overlay",
              "size": 10,
              "solidity": 0.2
             }
            },
            "type": "barpolar"
           }
          ],
          "carpet": [
           {
            "aaxis": {
             "endlinecolor": "#2a3f5f",
             "gridcolor": "white",
             "linecolor": "white",
             "minorgridcolor": "white",
             "startlinecolor": "#2a3f5f"
            },
            "baxis": {
             "endlinecolor": "#2a3f5f",
             "gridcolor": "white",
             "linecolor": "white",
             "minorgridcolor": "white",
             "startlinecolor": "#2a3f5f"
            },
            "type": "carpet"
           }
          ],
          "choropleth": [
           {
            "colorbar": {
             "outlinewidth": 0,
             "ticks": ""
            },
            "type": "choropleth"
           }
          ],
          "contour": [
           {
            "colorbar": {
             "outlinewidth": 0,
             "ticks": ""
            },
            "colorscale": [
             [
              0,
              "#0d0887"
             ],
             [
              0.1111111111111111,
              "#46039f"
             ],
             [
              0.2222222222222222,
              "#7201a8"
             ],
             [
              0.3333333333333333,
              "#9c179e"
             ],
             [
              0.4444444444444444,
              "#bd3786"
             ],
             [
              0.5555555555555556,
              "#d8576b"
             ],
             [
              0.6666666666666666,
              "#ed7953"
             ],
             [
              0.7777777777777778,
              "#fb9f3a"
             ],
             [
              0.8888888888888888,
              "#fdca26"
             ],
             [
              1,
              "#f0f921"
             ]
            ],
            "type": "contour"
           }
          ],
          "contourcarpet": [
           {
            "colorbar": {
             "outlinewidth": 0,
             "ticks": ""
            },
            "type": "contourcarpet"
           }
          ],
          "heatmap": [
           {
            "colorbar": {
             "outlinewidth": 0,
             "ticks": ""
            },
            "colorscale": [
             [
              0,
              "#0d0887"
             ],
             [
              0.1111111111111111,
              "#46039f"
             ],
             [
              0.2222222222222222,
              "#7201a8"
             ],
             [
              0.3333333333333333,
              "#9c179e"
             ],
             [
              0.4444444444444444,
              "#bd3786"
             ],
             [
              0.5555555555555556,
              "#d8576b"
             ],
             [
              0.6666666666666666,
              "#ed7953"
             ],
             [
              0.7777777777777778,
              "#fb9f3a"
             ],
             [
              0.8888888888888888,
              "#fdca26"
             ],
             [
              1,
              "#f0f921"
             ]
            ],
            "type": "heatmap"
           }
          ],
          "heatmapgl": [
           {
            "colorbar": {
             "outlinewidth": 0,
             "ticks": ""
            },
            "colorscale": [
             [
              0,
              "#0d0887"
             ],
             [
              0.1111111111111111,
              "#46039f"
             ],
             [
              0.2222222222222222,
              "#7201a8"
             ],
             [
              0.3333333333333333,
              "#9c179e"
             ],
             [
              0.4444444444444444,
              "#bd3786"
             ],
             [
              0.5555555555555556,
              "#d8576b"
             ],
             [
              0.6666666666666666,
              "#ed7953"
             ],
             [
              0.7777777777777778,
              "#fb9f3a"
             ],
             [
              0.8888888888888888,
              "#fdca26"
             ],
             [
              1,
              "#f0f921"
             ]
            ],
            "type": "heatmapgl"
           }
          ],
          "histogram": [
           {
            "marker": {
             "pattern": {
              "fillmode": "overlay",
              "size": 10,
              "solidity": 0.2
             }
            },
            "type": "histogram"
           }
          ],
          "histogram2d": [
           {
            "colorbar": {
             "outlinewidth": 0,
             "ticks": ""
            },
            "colorscale": [
             [
              0,
              "#0d0887"
             ],
             [
              0.1111111111111111,
              "#46039f"
             ],
             [
              0.2222222222222222,
              "#7201a8"
             ],
             [
              0.3333333333333333,
              "#9c179e"
             ],
             [
              0.4444444444444444,
              "#bd3786"
             ],
             [
              0.5555555555555556,
              "#d8576b"
             ],
             [
              0.6666666666666666,
              "#ed7953"
             ],
             [
              0.7777777777777778,
              "#fb9f3a"
             ],
             [
              0.8888888888888888,
              "#fdca26"
             ],
             [
              1,
              "#f0f921"
             ]
            ],
            "type": "histogram2d"
           }
          ],
          "histogram2dcontour": [
           {
            "colorbar": {
             "outlinewidth": 0,
             "ticks": ""
            },
            "colorscale": [
             [
              0,
              "#0d0887"
             ],
             [
              0.1111111111111111,
              "#46039f"
             ],
             [
              0.2222222222222222,
              "#7201a8"
             ],
             [
              0.3333333333333333,
              "#9c179e"
             ],
             [
              0.4444444444444444,
              "#bd3786"
             ],
             [
              0.5555555555555556,
              "#d8576b"
             ],
             [
              0.6666666666666666,
              "#ed7953"
             ],
             [
              0.7777777777777778,
              "#fb9f3a"
             ],
             [
              0.8888888888888888,
              "#fdca26"
             ],
             [
              1,
              "#f0f921"
             ]
            ],
            "type": "histogram2dcontour"
           }
          ],
          "mesh3d": [
           {
            "colorbar": {
             "outlinewidth": 0,
             "ticks": ""
            },
            "type": "mesh3d"
           }
          ],
          "parcoords": [
           {
            "line": {
             "colorbar": {
              "outlinewidth": 0,
              "ticks": ""
             }
            },
            "type": "parcoords"
           }
          ],
          "pie": [
           {
            "automargin": true,
            "type": "pie"
           }
          ],
          "scatter": [
           {
            "fillpattern": {
             "fillmode": "overlay",
             "size": 10,
             "solidity": 0.2
            },
            "type": "scatter"
           }
          ],
          "scatter3d": [
           {
            "line": {
             "colorbar": {
              "outlinewidth": 0,
              "ticks": ""
             }
            },
            "marker": {
             "colorbar": {
              "outlinewidth": 0,
              "ticks": ""
             }
            },
            "type": "scatter3d"
           }
          ],
          "scattercarpet": [
           {
            "marker": {
             "colorbar": {
              "outlinewidth": 0,
              "ticks": ""
             }
            },
            "type": "scattercarpet"
           }
          ],
          "scattergeo": [
           {
            "marker": {
             "colorbar": {
              "outlinewidth": 0,
              "ticks": ""
             }
            },
            "type": "scattergeo"
           }
          ],
          "scattergl": [
           {
            "marker": {
             "colorbar": {
              "outlinewidth": 0,
              "ticks": ""
             }
            },
            "type": "scattergl"
           }
          ],
          "scattermapbox": [
           {
            "marker": {
             "colorbar": {
              "outlinewidth": 0,
              "ticks": ""
             }
            },
            "type": "scattermapbox"
           }
          ],
          "scatterpolar": [
           {
            "marker": {
             "colorbar": {
              "outlinewidth": 0,
              "ticks": ""
             }
            },
            "type": "scatterpolar"
           }
          ],
          "scatterpolargl": [
           {
            "marker": {
             "colorbar": {
              "outlinewidth": 0,
              "ticks": ""
             }
            },
            "type": "scatterpolargl"
           }
          ],
          "scatterternary": [
           {
            "marker": {
             "colorbar": {
              "outlinewidth": 0,
              "ticks": ""
             }
            },
            "type": "scatterternary"
           }
          ],
          "surface": [
           {
            "colorbar": {
             "outlinewidth": 0,
             "ticks": ""
            },
            "colorscale": [
             [
              0,
              "#0d0887"
             ],
             [
              0.1111111111111111,
              "#46039f"
             ],
             [
              0.2222222222222222,
              "#7201a8"
             ],
             [
              0.3333333333333333,
              "#9c179e"
             ],
             [
              0.4444444444444444,
              "#bd3786"
             ],
             [
              0.5555555555555556,
              "#d8576b"
             ],
             [
              0.6666666666666666,
              "#ed7953"
             ],
             [
              0.7777777777777778,
              "#fb9f3a"
             ],
             [
              0.8888888888888888,
              "#fdca26"
             ],
             [
              1,
              "#f0f921"
             ]
            ],
            "type": "surface"
           }
          ],
          "table": [
           {
            "cells": {
             "fill": {
              "color": "#EBF0F8"
             },
             "line": {
              "color": "white"
             }
            },
            "header": {
             "fill": {
              "color": "#C8D4E3"
             },
             "line": {
              "color": "white"
             }
            },
            "type": "table"
           }
          ]
         },
         "layout": {
          "annotationdefaults": {
           "arrowcolor": "#2a3f5f",
           "arrowhead": 0,
           "arrowwidth": 1
          },
          "autotypenumbers": "strict",
          "coloraxis": {
           "colorbar": {
            "outlinewidth": 0,
            "ticks": ""
           }
          },
          "colorscale": {
           "diverging": [
            [
             0,
             "#8e0152"
            ],
            [
             0.1,
             "#c51b7d"
            ],
            [
             0.2,
             "#de77ae"
            ],
            [
             0.3,
             "#f1b6da"
            ],
            [
             0.4,
             "#fde0ef"
            ],
            [
             0.5,
             "#f7f7f7"
            ],
            [
             0.6,
             "#e6f5d0"
            ],
            [
             0.7,
             "#b8e186"
            ],
            [
             0.8,
             "#7fbc41"
            ],
            [
             0.9,
             "#4d9221"
            ],
            [
             1,
             "#276419"
            ]
           ],
           "sequential": [
            [
             0,
             "#0d0887"
            ],
            [
             0.1111111111111111,
             "#46039f"
            ],
            [
             0.2222222222222222,
             "#7201a8"
            ],
            [
             0.3333333333333333,
             "#9c179e"
            ],
            [
             0.4444444444444444,
             "#bd3786"
            ],
            [
             0.5555555555555556,
             "#d8576b"
            ],
            [
             0.6666666666666666,
             "#ed7953"
            ],
            [
             0.7777777777777778,
             "#fb9f3a"
            ],
            [
             0.8888888888888888,
             "#fdca26"
            ],
            [
             1,
             "#f0f921"
            ]
           ],
           "sequentialminus": [
            [
             0,
             "#0d0887"
            ],
            [
             0.1111111111111111,
             "#46039f"
            ],
            [
             0.2222222222222222,
             "#7201a8"
            ],
            [
             0.3333333333333333,
             "#9c179e"
            ],
            [
             0.4444444444444444,
             "#bd3786"
            ],
            [
             0.5555555555555556,
             "#d8576b"
            ],
            [
             0.6666666666666666,
             "#ed7953"
            ],
            [
             0.7777777777777778,
             "#fb9f3a"
            ],
            [
             0.8888888888888888,
             "#fdca26"
            ],
            [
             1,
             "#f0f921"
            ]
           ]
          },
          "colorway": [
           "#636efa",
           "#EF553B",
           "#00cc96",
           "#ab63fa",
           "#FFA15A",
           "#19d3f3",
           "#FF6692",
           "#B6E880",
           "#FF97FF",
           "#FECB52"
          ],
          "font": {
           "color": "#2a3f5f"
          },
          "geo": {
           "bgcolor": "white",
           "lakecolor": "white",
           "landcolor": "#E5ECF6",
           "showlakes": true,
           "showland": true,
           "subunitcolor": "white"
          },
          "hoverlabel": {
           "align": "left"
          },
          "hovermode": "closest",
          "mapbox": {
           "style": "light"
          },
          "paper_bgcolor": "white",
          "plot_bgcolor": "#E5ECF6",
          "polar": {
           "angularaxis": {
            "gridcolor": "white",
            "linecolor": "white",
            "ticks": ""
           },
           "bgcolor": "#E5ECF6",
           "radialaxis": {
            "gridcolor": "white",
            "linecolor": "white",
            "ticks": ""
           }
          },
          "scene": {
           "xaxis": {
            "backgroundcolor": "#E5ECF6",
            "gridcolor": "white",
            "gridwidth": 2,
            "linecolor": "white",
            "showbackground": true,
            "ticks": "",
            "zerolinecolor": "white"
           },
           "yaxis": {
            "backgroundcolor": "#E5ECF6",
            "gridcolor": "white",
            "gridwidth": 2,
            "linecolor": "white",
            "showbackground": true,
            "ticks": "",
            "zerolinecolor": "white"
           },
           "zaxis": {
            "backgroundcolor": "#E5ECF6",
            "gridcolor": "white",
            "gridwidth": 2,
            "linecolor": "white",
            "showbackground": true,
            "ticks": "",
            "zerolinecolor": "white"
           }
          },
          "shapedefaults": {
           "line": {
            "color": "#2a3f5f"
           }
          },
          "ternary": {
           "aaxis": {
            "gridcolor": "white",
            "linecolor": "white",
            "ticks": ""
           },
           "baxis": {
            "gridcolor": "white",
            "linecolor": "white",
            "ticks": ""
           },
           "bgcolor": "#E5ECF6",
           "caxis": {
            "gridcolor": "white",
            "linecolor": "white",
            "ticks": ""
           }
          },
          "title": {
           "x": 0.05
          },
          "xaxis": {
           "automargin": true,
           "gridcolor": "white",
           "linecolor": "white",
           "ticks": "",
           "title": {
            "standoff": 15
           },
           "zerolinecolor": "white",
           "zerolinewidth": 2
          },
          "yaxis": {
           "automargin": true,
           "gridcolor": "white",
           "linecolor": "white",
           "ticks": "",
           "title": {
            "standoff": 15
           },
           "zerolinecolor": "white",
           "zerolinewidth": 2
          }
         }
        },
        "title": {
         "text": "Percent of all homes owned by investors in San Diego City",
         "x": 0.5,
         "xanchor": "center",
         "y": 0.97,
         "yanchor": "top"
        },
        "width": 1600,
        "xaxis": {
         "anchor": "y",
         "domain": [
          0,
          1
         ],
         "gridcolor": "LightGrey",
         "gridwidth": 1,
         "showgrid": true,
         "title": {
          "text": "date"
         }
        },
        "yaxis": {
         "anchor": "x",
         "domain": [
          0,
          1
         ],
         "gridcolor": "LightGrey",
         "gridwidth": 1,
         "showgrid": true,
         "tickformat": ".1%",
         "title": {
          "text": "Percent of all Homes Owned by Investors"
         }
        }
       }
      }
     },
     "metadata": {},
     "output_type": "display_data"
    }
   ],
   "source": [
    "# Creating the line chart\n",
    "fig = px.line(\n",
    "    investor_ownership, \n",
    "    x='date', \n",
    "    y='pct_ownership', \n",
    "    title=f'Percent of all homes owned by investors in {name}',\n",
    "    labels={'pct_ownership': 'Percent of all Homes Owned by Investors'}\n",
    ")\n",
    "\n",
    "# Showing the plot\n",
    "# Add the logo as a layout_image\n",
    "fig.add_layout_image(\n",
    "    labs_logo_dict\n",
    ")\n",
    "\n",
    "fig.update_layout(\n",
    "    margin=dict(b=100),\n",
    "    height=IMG_HEIGHT,\n",
    "    width=IMG_WIDTH,\n",
    "    legend=dict(\n",
    "        x=0.01,\n",
    "        y=0.99,\n",
    "        traceorder=\"normal\",\n",
    "        xanchor='left',\n",
    "        yanchor='top',\n",
    "        title='Rolling Window (Days)'\n",
    "    ),\n",
    "    title=PLOT_TITLE_SETTINGS,\n",
    "    plot_bgcolor='#080D16',\n",
    "    paper_bgcolor='#080D16',\n",
    "    font=dict(color='#FFFFFF'),\n",
    "    xaxis_title='date'\n",
    ")\n",
    "\n",
    "fig.update_traces(\n",
    "    line=dict(color='#FFFFFF', width=3),\n",
    "    mode='lines+markers',\n",
    "    marker=dict(color='#448CF2', size=5)\n",
    ")\n",
    "\n",
    "\n",
    "# Adding gridlines\n",
    "fig.update_xaxes(showgrid=True, gridwidth=1, gridcolor='LightGrey')\n",
    "fig.update_yaxes(showgrid=True, gridwidth=1, gridcolor='LightGrey')\n",
    "fig.update_yaxes(tickformat=\".1%\")\n",
    "\n",
    "# save\n",
    "fig.write_image(os.path.join(output_dir, 'percent_all_homes_owned_by_investors.png'), width=IMG_WIDTH, height=IMG_HEIGHT)\n",
    "\n",
    "# Show the plot\n",
    "fig.show()"
   ]
  },
  {
   "cell_type": "markdown",
   "id": "9b636f98",
   "metadata": {},
   "source": [
    "We can see that 1 in 5 homes in the San Diego market are owned by investors. That concentration is not evenly distributed among property types. Lets now analyze the ownership structure of Single Family Homes by portfolio size of the investors that own these properties. "
   ]
  },
  {
   "cell_type": "code",
   "execution_count": 12,
   "id": "547ab805-2016-4a3e-b7c9-86acab4c36b0",
   "metadata": {},
   "outputs": [
    {
     "data": {
      "text/html": [
       "<div>\n",
       "<style scoped>\n",
       "    .dataframe tbody tr th:only-of-type {\n",
       "        vertical-align: middle;\n",
       "    }\n",
       "\n",
       "    .dataframe tbody tr th {\n",
       "        vertical-align: top;\n",
       "    }\n",
       "\n",
       "    .dataframe thead th {\n",
       "        text-align: right;\n",
       "    }\n",
       "</style>\n",
       "<table border=\"1\" class=\"dataframe\">\n",
       "  <thead>\n",
       "    <tr style=\"text-align: right;\">\n",
       "      <th></th>\n",
       "      <th>date</th>\n",
       "      <th>count_portfolio_2_to_9</th>\n",
       "      <th>count_portfolio_10_to_99</th>\n",
       "      <th>count_portfolio_100_to_999</th>\n",
       "      <th>count_portfolio_1000_plus</th>\n",
       "      <th>count_all_portfolios</th>\n",
       "      <th>pct_sf_housing_stock_portfolio_2_to_9</th>\n",
       "      <th>pct_sf_housing_stock_portfolio_10_to_99</th>\n",
       "      <th>pct_sf_housing_stock_portfolio_100_to_999</th>\n",
       "      <th>pct_sf_housing_stock_portfolio_1000_plus</th>\n",
       "      <th>pct_sf_housing_stock_all_portfolios</th>\n",
       "      <th>parcl_id</th>\n",
       "    </tr>\n",
       "  </thead>\n",
       "  <tbody>\n",
       "    <tr>\n",
       "      <th>0</th>\n",
       "      <td>2024-04-01</td>\n",
       "      <td>22826</td>\n",
       "      <td>756</td>\n",
       "      <td>12</td>\n",
       "      <td>118</td>\n",
       "      <td>23712</td>\n",
       "      <td>10.53</td>\n",
       "      <td>0.35</td>\n",
       "      <td>0.01</td>\n",
       "      <td>0.05</td>\n",
       "      <td>10.93</td>\n",
       "      <td>5374167</td>\n",
       "    </tr>\n",
       "    <tr>\n",
       "      <th>1</th>\n",
       "      <td>2024-03-01</td>\n",
       "      <td>22783</td>\n",
       "      <td>755</td>\n",
       "      <td>11</td>\n",
       "      <td>115</td>\n",
       "      <td>23664</td>\n",
       "      <td>10.52</td>\n",
       "      <td>0.35</td>\n",
       "      <td>0.01</td>\n",
       "      <td>0.05</td>\n",
       "      <td>10.92</td>\n",
       "      <td>5374167</td>\n",
       "    </tr>\n",
       "  </tbody>\n",
       "</table>\n",
       "</div>"
      ],
      "text/plain": [
       "         date  count_portfolio_2_to_9  count_portfolio_10_to_99  \\\n",
       "0  2024-04-01                   22826                       756   \n",
       "1  2024-03-01                   22783                       755   \n",
       "\n",
       "   count_portfolio_100_to_999  count_portfolio_1000_plus  \\\n",
       "0                          12                        118   \n",
       "1                          11                        115   \n",
       "\n",
       "   count_all_portfolios  pct_sf_housing_stock_portfolio_2_to_9  \\\n",
       "0                 23712                                  10.53   \n",
       "1                 23664                                  10.52   \n",
       "\n",
       "   pct_sf_housing_stock_portfolio_10_to_99  \\\n",
       "0                                     0.35   \n",
       "1                                     0.35   \n",
       "\n",
       "   pct_sf_housing_stock_portfolio_100_to_999  \\\n",
       "0                                       0.01   \n",
       "1                                       0.01   \n",
       "\n",
       "   pct_sf_housing_stock_portfolio_1000_plus  \\\n",
       "0                                      0.05   \n",
       "1                                      0.05   \n",
       "\n",
       "   pct_sf_housing_stock_all_portfolios  parcl_id  \n",
       "0                                10.93   5374167  \n",
       "1                                10.92   5374167  "
      ]
     },
     "execution_count": 12,
     "metadata": {},
     "output_type": "execute_result"
    }
   ],
   "source": [
    "# lets retrieve the portfolio size ownership metrics\n",
    "portfolio_size_ownership = client.portfolio_metrics_sf_housing_stock_ownership.retrieve(\n",
    "    parcl_id=analysis_parcl_id,\n",
    "    as_dataframe=True\n",
    ")\n",
    "\n",
    "portfolio_size_ownership.head()"
   ]
  },
  {
   "cell_type": "code",
   "execution_count": 13,
   "id": "4adc1923-9253-4b65-a250-f73636077f7a",
   "metadata": {},
   "outputs": [
    {
     "data": {
      "text/html": [
       "<div>\n",
       "<style scoped>\n",
       "    .dataframe tbody tr th:only-of-type {\n",
       "        vertical-align: middle;\n",
       "    }\n",
       "\n",
       "    .dataframe tbody tr th {\n",
       "        vertical-align: top;\n",
       "    }\n",
       "\n",
       "    .dataframe thead th {\n",
       "        text-align: right;\n",
       "    }\n",
       "</style>\n",
       "<table border=\"1\" class=\"dataframe\">\n",
       "  <thead>\n",
       "    <tr style=\"text-align: right;\">\n",
       "      <th></th>\n",
       "      <th>date</th>\n",
       "      <th>category</th>\n",
       "      <th>percentage</th>\n",
       "    </tr>\n",
       "  </thead>\n",
       "  <tbody>\n",
       "    <tr>\n",
       "      <th>0</th>\n",
       "      <td>2024-04-01</td>\n",
       "      <td>Investor Portfolio (2 to 9 Units)</td>\n",
       "      <td>0.1053</td>\n",
       "    </tr>\n",
       "    <tr>\n",
       "      <th>1</th>\n",
       "      <td>2024-03-01</td>\n",
       "      <td>Investor Portfolio (2 to 9 Units)</td>\n",
       "      <td>0.1052</td>\n",
       "    </tr>\n",
       "    <tr>\n",
       "      <th>2</th>\n",
       "      <td>2024-04-01</td>\n",
       "      <td>Investor Portfolio (10 to 99 Units)</td>\n",
       "      <td>0.0035</td>\n",
       "    </tr>\n",
       "    <tr>\n",
       "      <th>3</th>\n",
       "      <td>2024-03-01</td>\n",
       "      <td>Investor Portfolio (10 to 99 Units)</td>\n",
       "      <td>0.0035</td>\n",
       "    </tr>\n",
       "    <tr>\n",
       "      <th>4</th>\n",
       "      <td>2024-04-01</td>\n",
       "      <td>Investor Portfolio (100 to 999 Units)</td>\n",
       "      <td>0.0001</td>\n",
       "    </tr>\n",
       "  </tbody>\n",
       "</table>\n",
       "</div>"
      ],
      "text/plain": [
       "         date                               category  percentage\n",
       "0  2024-04-01      Investor Portfolio (2 to 9 Units)      0.1053\n",
       "1  2024-03-01      Investor Portfolio (2 to 9 Units)      0.1052\n",
       "2  2024-04-01    Investor Portfolio (10 to 99 Units)      0.0035\n",
       "3  2024-03-01    Investor Portfolio (10 to 99 Units)      0.0035\n",
       "4  2024-04-01  Investor Portfolio (100 to 999 Units)      0.0001"
      ]
     },
     "execution_count": 13,
     "metadata": {},
     "output_type": "execute_result"
    }
   ],
   "source": [
    "# lets focus on the percentages, so we create a subset of the data\n",
    "pso_pcts = portfolio_size_ownership[[\n",
    "    'date', \n",
    "    'pct_sf_housing_stock_portfolio_2_to_9', \n",
    "    'pct_sf_housing_stock_portfolio_10_to_99', \n",
    "    'pct_sf_housing_stock_portfolio_100_to_999',\n",
    "    'pct_sf_housing_stock_portfolio_1000_plus',\n",
    "    'pct_sf_housing_stock_all_portfolios'\n",
    "]]\n",
    "\n",
    "# do some data wrangling to make the data long format and divide by 100 so plotly can handle the formatting\n",
    "pso_pcts_long = pso_pcts.melt(id_vars=['date'], var_name='category', value_name='percentage')\n",
    "pso_pcts_long['percentage'] = pso_pcts_long['percentage']/100\n",
    "\n",
    "# rename to friendly labels\n",
    "friendly_labels = {\n",
    "    'pct_sf_housing_stock_portfolio_2_to_9': 'Investor Portfolio (2 to 9 Units)', \n",
    "    'pct_sf_housing_stock_portfolio_10_to_99': 'Investor Portfolio (10 to 99 Units)', \n",
    "    'pct_sf_housing_stock_portfolio_100_to_999': 'Investor Portfolio (100 to 999 Units)',\n",
    "    'pct_sf_housing_stock_portfolio_1000_plus': 'Investor Portfolio (1000+ Units)',\n",
    "    'pct_sf_housing_stock_all_portfolios': 'Investor Portfolio (All Sizes)'\n",
    "}\n",
    "\n",
    "pso_pcts_long['category'] = pso_pcts_long['category'].replace(friendly_labels)\n",
    "pso_pcts_long.head()"
   ]
  },
  {
   "cell_type": "code",
   "execution_count": 14,
   "id": "49e00717-43d9-45ca-9d54-ebccb116c2fa",
   "metadata": {},
   "outputs": [
    {
     "data": {
      "application/vnd.plotly.v1+json": {
       "config": {
        "plotlyServerURL": "https://plot.ly"
       },
       "data": [
        {
         "alignmentgroup": "True",
         "hovertemplate": "Portfolio Size=%{x}<br>% of Single Family Homes Owned=%{y}<extra></extra>",
         "legendgroup": "",
         "marker": {
          "color": "#448CF2",
          "pattern": {
           "shape": ""
          }
         },
         "name": "",
         "offsetgroup": "",
         "orientation": "v",
         "showlegend": false,
         "textposition": "auto",
         "type": "bar",
         "x": [
          "Investor Portfolio (2 to 9 Units)",
          "Investor Portfolio (2 to 9 Units)",
          "Investor Portfolio (10 to 99 Units)",
          "Investor Portfolio (10 to 99 Units)",
          "Investor Portfolio (100 to 999 Units)",
          "Investor Portfolio (100 to 999 Units)",
          "Investor Portfolio (1000+ Units)",
          "Investor Portfolio (1000+ Units)",
          "Investor Portfolio (All Sizes)",
          "Investor Portfolio (All Sizes)"
         ],
         "xaxis": "x",
         "y": [
          0.10529999999999999,
          0.1052,
          0.0034999999999999996,
          0.0034999999999999996,
          0.0001,
          0.0001,
          0.0005,
          0.0005,
          0.1093,
          0.1092
         ],
         "yaxis": "y"
        }
       ],
       "layout": {
        "barmode": "relative",
        "font": {
         "color": "#FFFFFF"
        },
        "height": 900,
        "images": [
         {
          "sizex": 0.15,
          "sizey": 0.15,
          "source": "https://parcllabs-assets.s3.amazonaws.com/powered-by-parcllabs-api-logo-white.png",
          "x": 0.5,
          "xanchor": "center",
          "xref": "paper",
          "y": 1.02,
          "yanchor": "bottom",
          "yref": "paper"
         }
        ],
        "legend": {
         "title": {
          "text": "Rolling Window (Days)"
         },
         "tracegroupgap": 0,
         "traceorder": "normal",
         "x": 0.01,
         "xanchor": "left",
         "y": 0.99,
         "yanchor": "top"
        },
        "margin": {
         "b": 100
        },
        "paper_bgcolor": "#080D16",
        "plot_bgcolor": "#080D16",
        "template": {
         "data": {
          "bar": [
           {
            "error_x": {
             "color": "#2a3f5f"
            },
            "error_y": {
             "color": "#2a3f5f"
            },
            "marker": {
             "line": {
              "color": "#E5ECF6",
              "width": 0.5
             },
             "pattern": {
              "fillmode": "overlay",
              "size": 10,
              "solidity": 0.2
             }
            },
            "type": "bar"
           }
          ],
          "barpolar": [
           {
            "marker": {
             "line": {
              "color": "#E5ECF6",
              "width": 0.5
             },
             "pattern": {
              "fillmode": "overlay",
              "size": 10,
              "solidity": 0.2
             }
            },
            "type": "barpolar"
           }
          ],
          "carpet": [
           {
            "aaxis": {
             "endlinecolor": "#2a3f5f",
             "gridcolor": "white",
             "linecolor": "white",
             "minorgridcolor": "white",
             "startlinecolor": "#2a3f5f"
            },
            "baxis": {
             "endlinecolor": "#2a3f5f",
             "gridcolor": "white",
             "linecolor": "white",
             "minorgridcolor": "white",
             "startlinecolor": "#2a3f5f"
            },
            "type": "carpet"
           }
          ],
          "choropleth": [
           {
            "colorbar": {
             "outlinewidth": 0,
             "ticks": ""
            },
            "type": "choropleth"
           }
          ],
          "contour": [
           {
            "colorbar": {
             "outlinewidth": 0,
             "ticks": ""
            },
            "colorscale": [
             [
              0,
              "#0d0887"
             ],
             [
              0.1111111111111111,
              "#46039f"
             ],
             [
              0.2222222222222222,
              "#7201a8"
             ],
             [
              0.3333333333333333,
              "#9c179e"
             ],
             [
              0.4444444444444444,
              "#bd3786"
             ],
             [
              0.5555555555555556,
              "#d8576b"
             ],
             [
              0.6666666666666666,
              "#ed7953"
             ],
             [
              0.7777777777777778,
              "#fb9f3a"
             ],
             [
              0.8888888888888888,
              "#fdca26"
             ],
             [
              1,
              "#f0f921"
             ]
            ],
            "type": "contour"
           }
          ],
          "contourcarpet": [
           {
            "colorbar": {
             "outlinewidth": 0,
             "ticks": ""
            },
            "type": "contourcarpet"
           }
          ],
          "heatmap": [
           {
            "colorbar": {
             "outlinewidth": 0,
             "ticks": ""
            },
            "colorscale": [
             [
              0,
              "#0d0887"
             ],
             [
              0.1111111111111111,
              "#46039f"
             ],
             [
              0.2222222222222222,
              "#7201a8"
             ],
             [
              0.3333333333333333,
              "#9c179e"
             ],
             [
              0.4444444444444444,
              "#bd3786"
             ],
             [
              0.5555555555555556,
              "#d8576b"
             ],
             [
              0.6666666666666666,
              "#ed7953"
             ],
             [
              0.7777777777777778,
              "#fb9f3a"
             ],
             [
              0.8888888888888888,
              "#fdca26"
             ],
             [
              1,
              "#f0f921"
             ]
            ],
            "type": "heatmap"
           }
          ],
          "heatmapgl": [
           {
            "colorbar": {
             "outlinewidth": 0,
             "ticks": ""
            },
            "colorscale": [
             [
              0,
              "#0d0887"
             ],
             [
              0.1111111111111111,
              "#46039f"
             ],
             [
              0.2222222222222222,
              "#7201a8"
             ],
             [
              0.3333333333333333,
              "#9c179e"
             ],
             [
              0.4444444444444444,
              "#bd3786"
             ],
             [
              0.5555555555555556,
              "#d8576b"
             ],
             [
              0.6666666666666666,
              "#ed7953"
             ],
             [
              0.7777777777777778,
              "#fb9f3a"
             ],
             [
              0.8888888888888888,
              "#fdca26"
             ],
             [
              1,
              "#f0f921"
             ]
            ],
            "type": "heatmapgl"
           }
          ],
          "histogram": [
           {
            "marker": {
             "pattern": {
              "fillmode": "overlay",
              "size": 10,
              "solidity": 0.2
             }
            },
            "type": "histogram"
           }
          ],
          "histogram2d": [
           {
            "colorbar": {
             "outlinewidth": 0,
             "ticks": ""
            },
            "colorscale": [
             [
              0,
              "#0d0887"
             ],
             [
              0.1111111111111111,
              "#46039f"
             ],
             [
              0.2222222222222222,
              "#7201a8"
             ],
             [
              0.3333333333333333,
              "#9c179e"
             ],
             [
              0.4444444444444444,
              "#bd3786"
             ],
             [
              0.5555555555555556,
              "#d8576b"
             ],
             [
              0.6666666666666666,
              "#ed7953"
             ],
             [
              0.7777777777777778,
              "#fb9f3a"
             ],
             [
              0.8888888888888888,
              "#fdca26"
             ],
             [
              1,
              "#f0f921"
             ]
            ],
            "type": "histogram2d"
           }
          ],
          "histogram2dcontour": [
           {
            "colorbar": {
             "outlinewidth": 0,
             "ticks": ""
            },
            "colorscale": [
             [
              0,
              "#0d0887"
             ],
             [
              0.1111111111111111,
              "#46039f"
             ],
             [
              0.2222222222222222,
              "#7201a8"
             ],
             [
              0.3333333333333333,
              "#9c179e"
             ],
             [
              0.4444444444444444,
              "#bd3786"
             ],
             [
              0.5555555555555556,
              "#d8576b"
             ],
             [
              0.6666666666666666,
              "#ed7953"
             ],
             [
              0.7777777777777778,
              "#fb9f3a"
             ],
             [
              0.8888888888888888,
              "#fdca26"
             ],
             [
              1,
              "#f0f921"
             ]
            ],
            "type": "histogram2dcontour"
           }
          ],
          "mesh3d": [
           {
            "colorbar": {
             "outlinewidth": 0,
             "ticks": ""
            },
            "type": "mesh3d"
           }
          ],
          "parcoords": [
           {
            "line": {
             "colorbar": {
              "outlinewidth": 0,
              "ticks": ""
             }
            },
            "type": "parcoords"
           }
          ],
          "pie": [
           {
            "automargin": true,
            "type": "pie"
           }
          ],
          "scatter": [
           {
            "fillpattern": {
             "fillmode": "overlay",
             "size": 10,
             "solidity": 0.2
            },
            "type": "scatter"
           }
          ],
          "scatter3d": [
           {
            "line": {
             "colorbar": {
              "outlinewidth": 0,
              "ticks": ""
             }
            },
            "marker": {
             "colorbar": {
              "outlinewidth": 0,
              "ticks": ""
             }
            },
            "type": "scatter3d"
           }
          ],
          "scattercarpet": [
           {
            "marker": {
             "colorbar": {
              "outlinewidth": 0,
              "ticks": ""
             }
            },
            "type": "scattercarpet"
           }
          ],
          "scattergeo": [
           {
            "marker": {
             "colorbar": {
              "outlinewidth": 0,
              "ticks": ""
             }
            },
            "type": "scattergeo"
           }
          ],
          "scattergl": [
           {
            "marker": {
             "colorbar": {
              "outlinewidth": 0,
              "ticks": ""
             }
            },
            "type": "scattergl"
           }
          ],
          "scattermapbox": [
           {
            "marker": {
             "colorbar": {
              "outlinewidth": 0,
              "ticks": ""
             }
            },
            "type": "scattermapbox"
           }
          ],
          "scatterpolar": [
           {
            "marker": {
             "colorbar": {
              "outlinewidth": 0,
              "ticks": ""
             }
            },
            "type": "scatterpolar"
           }
          ],
          "scatterpolargl": [
           {
            "marker": {
             "colorbar": {
              "outlinewidth": 0,
              "ticks": ""
             }
            },
            "type": "scatterpolargl"
           }
          ],
          "scatterternary": [
           {
            "marker": {
             "colorbar": {
              "outlinewidth": 0,
              "ticks": ""
             }
            },
            "type": "scatterternary"
           }
          ],
          "surface": [
           {
            "colorbar": {
             "outlinewidth": 0,
             "ticks": ""
            },
            "colorscale": [
             [
              0,
              "#0d0887"
             ],
             [
              0.1111111111111111,
              "#46039f"
             ],
             [
              0.2222222222222222,
              "#7201a8"
             ],
             [
              0.3333333333333333,
              "#9c179e"
             ],
             [
              0.4444444444444444,
              "#bd3786"
             ],
             [
              0.5555555555555556,
              "#d8576b"
             ],
             [
              0.6666666666666666,
              "#ed7953"
             ],
             [
              0.7777777777777778,
              "#fb9f3a"
             ],
             [
              0.8888888888888888,
              "#fdca26"
             ],
             [
              1,
              "#f0f921"
             ]
            ],
            "type": "surface"
           }
          ],
          "table": [
           {
            "cells": {
             "fill": {
              "color": "#EBF0F8"
             },
             "line": {
              "color": "white"
             }
            },
            "header": {
             "fill": {
              "color": "#C8D4E3"
             },
             "line": {
              "color": "white"
             }
            },
            "type": "table"
           }
          ]
         },
         "layout": {
          "annotationdefaults": {
           "arrowcolor": "#2a3f5f",
           "arrowhead": 0,
           "arrowwidth": 1
          },
          "autotypenumbers": "strict",
          "coloraxis": {
           "colorbar": {
            "outlinewidth": 0,
            "ticks": ""
           }
          },
          "colorscale": {
           "diverging": [
            [
             0,
             "#8e0152"
            ],
            [
             0.1,
             "#c51b7d"
            ],
            [
             0.2,
             "#de77ae"
            ],
            [
             0.3,
             "#f1b6da"
            ],
            [
             0.4,
             "#fde0ef"
            ],
            [
             0.5,
             "#f7f7f7"
            ],
            [
             0.6,
             "#e6f5d0"
            ],
            [
             0.7,
             "#b8e186"
            ],
            [
             0.8,
             "#7fbc41"
            ],
            [
             0.9,
             "#4d9221"
            ],
            [
             1,
             "#276419"
            ]
           ],
           "sequential": [
            [
             0,
             "#0d0887"
            ],
            [
             0.1111111111111111,
             "#46039f"
            ],
            [
             0.2222222222222222,
             "#7201a8"
            ],
            [
             0.3333333333333333,
             "#9c179e"
            ],
            [
             0.4444444444444444,
             "#bd3786"
            ],
            [
             0.5555555555555556,
             "#d8576b"
            ],
            [
             0.6666666666666666,
             "#ed7953"
            ],
            [
             0.7777777777777778,
             "#fb9f3a"
            ],
            [
             0.8888888888888888,
             "#fdca26"
            ],
            [
             1,
             "#f0f921"
            ]
           ],
           "sequentialminus": [
            [
             0,
             "#0d0887"
            ],
            [
             0.1111111111111111,
             "#46039f"
            ],
            [
             0.2222222222222222,
             "#7201a8"
            ],
            [
             0.3333333333333333,
             "#9c179e"
            ],
            [
             0.4444444444444444,
             "#bd3786"
            ],
            [
             0.5555555555555556,
             "#d8576b"
            ],
            [
             0.6666666666666666,
             "#ed7953"
            ],
            [
             0.7777777777777778,
             "#fb9f3a"
            ],
            [
             0.8888888888888888,
             "#fdca26"
            ],
            [
             1,
             "#f0f921"
            ]
           ]
          },
          "colorway": [
           "#636efa",
           "#EF553B",
           "#00cc96",
           "#ab63fa",
           "#FFA15A",
           "#19d3f3",
           "#FF6692",
           "#B6E880",
           "#FF97FF",
           "#FECB52"
          ],
          "font": {
           "color": "#2a3f5f"
          },
          "geo": {
           "bgcolor": "white",
           "lakecolor": "white",
           "landcolor": "#E5ECF6",
           "showlakes": true,
           "showland": true,
           "subunitcolor": "white"
          },
          "hoverlabel": {
           "align": "left"
          },
          "hovermode": "closest",
          "mapbox": {
           "style": "light"
          },
          "paper_bgcolor": "white",
          "plot_bgcolor": "#E5ECF6",
          "polar": {
           "angularaxis": {
            "gridcolor": "white",
            "linecolor": "white",
            "ticks": ""
           },
           "bgcolor": "#E5ECF6",
           "radialaxis": {
            "gridcolor": "white",
            "linecolor": "white",
            "ticks": ""
           }
          },
          "scene": {
           "xaxis": {
            "backgroundcolor": "#E5ECF6",
            "gridcolor": "white",
            "gridwidth": 2,
            "linecolor": "white",
            "showbackground": true,
            "ticks": "",
            "zerolinecolor": "white"
           },
           "yaxis": {
            "backgroundcolor": "#E5ECF6",
            "gridcolor": "white",
            "gridwidth": 2,
            "linecolor": "white",
            "showbackground": true,
            "ticks": "",
            "zerolinecolor": "white"
           },
           "zaxis": {
            "backgroundcolor": "#E5ECF6",
            "gridcolor": "white",
            "gridwidth": 2,
            "linecolor": "white",
            "showbackground": true,
            "ticks": "",
            "zerolinecolor": "white"
           }
          },
          "shapedefaults": {
           "line": {
            "color": "#2a3f5f"
           }
          },
          "ternary": {
           "aaxis": {
            "gridcolor": "white",
            "linecolor": "white",
            "ticks": ""
           },
           "baxis": {
            "gridcolor": "white",
            "linecolor": "white",
            "ticks": ""
           },
           "bgcolor": "#E5ECF6",
           "caxis": {
            "gridcolor": "white",
            "linecolor": "white",
            "ticks": ""
           }
          },
          "title": {
           "x": 0.05
          },
          "xaxis": {
           "automargin": true,
           "gridcolor": "white",
           "linecolor": "white",
           "ticks": "",
           "title": {
            "standoff": 15
           },
           "zerolinecolor": "white",
           "zerolinewidth": 2
          },
          "yaxis": {
           "automargin": true,
           "gridcolor": "white",
           "linecolor": "white",
           "ticks": "",
           "title": {
            "standoff": 15
           },
           "zerolinecolor": "white",
           "zerolinewidth": 2
          }
         }
        },
        "title": {
         "text": "Percentages of Single Family Housing Stock by Portfolio Size: San Diego City",
         "x": 0.5,
         "xanchor": "center",
         "y": 0.97,
         "yanchor": "top"
        },
        "width": 1600,
        "xaxis": {
         "anchor": "y",
         "domain": [
          0,
          1
         ],
         "gridcolor": "LightGrey",
         "gridwidth": 1,
         "showgrid": true,
         "title": {
          "text": ""
         }
        },
        "yaxis": {
         "anchor": "x",
         "domain": [
          0,
          1
         ],
         "gridcolor": "LightGrey",
         "gridwidth": 1,
         "showgrid": true,
         "tickformat": ".1%",
         "title": {
          "text": "% of Single Family Homes Owned"
         }
        }
       }
      }
     },
     "metadata": {},
     "output_type": "display_data"
    }
   ],
   "source": [
    "# Creating the bar chart\n",
    "fig = px.bar(\n",
    "    pso_pcts_long,\n",
    "    x='category',\n",
    "    y='percentage',\n",
    "    title=f'Percentages of Single Family Housing Stock by Portfolio Size: {name}',\n",
    "    labels={'percentage': '% of Single Family Homes Owned', 'category': 'Portfolio Size'},\n",
    "    color_discrete_sequence=['#448CF2']  # Sets the color of the bars\n",
    ")\n",
    "\n",
    "# Adding layout image\n",
    "fig.add_layout_image(\n",
    "    labs_logo_dict\n",
    ")\n",
    "\n",
    "fig.update_layout(\n",
    "    margin=dict(b=100),\n",
    "    height=IMG_HEIGHT,\n",
    "    width=IMG_WIDTH,\n",
    "    legend=dict(\n",
    "        x=0.01,\n",
    "        y=0.99,\n",
    "        traceorder=\"normal\",\n",
    "        xanchor='left',\n",
    "        yanchor='top',\n",
    "        title='Rolling Window (Days)' \n",
    "    ),\n",
    "    title=PLOT_TITLE_SETTINGS,\n",
    "    plot_bgcolor='#080D16', \n",
    "    paper_bgcolor='#080D16',\n",
    "    font=dict(color='#FFFFFF'),\n",
    ")\n",
    "\n",
    "# Removing x-axis title as requested in previous query\n",
    "fig.update_layout(xaxis_title=\"\")\n",
    "fig.update_yaxes(tickformat=\".1%\") \n",
    "\n",
    "# Adding gridlines\n",
    "fig.update_xaxes(showgrid=True, gridwidth=1, gridcolor='LightGrey')\n",
    "fig.update_yaxes(showgrid=True, gridwidth=1, gridcolor='LightGrey')\n",
    "\n",
    "# save image\n",
    "fig.write_image(os.path.join(output_dir, 'portfolio_sfh_size_breakout.png'), width=IMG_WIDTH, height=IMG_HEIGHT)\n",
    "\n",
    "# Show the plot\n",
    "fig.show()"
   ]
  },
  {
   "cell_type": "markdown",
   "id": "ecf9956e-0cc3-4819-ad41-8166fa6f6b68",
   "metadata": {},
   "source": [
    "<a id='listings'></a>\n",
    "#### New Listings Analysis\n",
    "We can also capture the change in new listings on a 7, 30, 60 and 90 day rolling basis"
   ]
  },
  {
   "cell_type": "code",
   "execution_count": 15,
   "id": "b5fc6982-5c05-4a33-8ad4-f898ca996ca6",
   "metadata": {},
   "outputs": [
    {
     "data": {
      "text/html": [
       "<div>\n",
       "<style scoped>\n",
       "    .dataframe tbody tr th:only-of-type {\n",
       "        vertical-align: middle;\n",
       "    }\n",
       "\n",
       "    .dataframe tbody tr th {\n",
       "        vertical-align: top;\n",
       "    }\n",
       "\n",
       "    .dataframe thead th {\n",
       "        text-align: right;\n",
       "    }\n",
       "</style>\n",
       "<table border=\"1\" class=\"dataframe\">\n",
       "  <thead>\n",
       "    <tr style=\"text-align: right;\">\n",
       "      <th></th>\n",
       "      <th>date</th>\n",
       "      <th>rolling_7_day</th>\n",
       "      <th>rolling_30_day</th>\n",
       "      <th>rolling_60_day</th>\n",
       "      <th>rolling_90_day</th>\n",
       "      <th>parcl_id</th>\n",
       "    </tr>\n",
       "  </thead>\n",
       "  <tbody>\n",
       "    <tr>\n",
       "      <th>0</th>\n",
       "      <td>2024-05-20</td>\n",
       "      <td>415</td>\n",
       "      <td>1714</td>\n",
       "      <td>3462</td>\n",
       "      <td>5165</td>\n",
       "      <td>5374167</td>\n",
       "    </tr>\n",
       "    <tr>\n",
       "      <th>1</th>\n",
       "      <td>2024-05-13</td>\n",
       "      <td>414</td>\n",
       "      <td>1698</td>\n",
       "      <td>3434</td>\n",
       "      <td>5099</td>\n",
       "      <td>5374167</td>\n",
       "    </tr>\n",
       "    <tr>\n",
       "      <th>2</th>\n",
       "      <td>2024-05-06</td>\n",
       "      <td>385</td>\n",
       "      <td>1674</td>\n",
       "      <td>3391</td>\n",
       "      <td>4953</td>\n",
       "      <td>5374167</td>\n",
       "    </tr>\n",
       "    <tr>\n",
       "      <th>3</th>\n",
       "      <td>2024-04-29</td>\n",
       "      <td>387</td>\n",
       "      <td>1679</td>\n",
       "      <td>3396</td>\n",
       "      <td>4847</td>\n",
       "      <td>5374167</td>\n",
       "    </tr>\n",
       "    <tr>\n",
       "      <th>4</th>\n",
       "      <td>2024-04-22</td>\n",
       "      <td>398</td>\n",
       "      <td>1582</td>\n",
       "      <td>3354</td>\n",
       "      <td>4785</td>\n",
       "      <td>5374167</td>\n",
       "    </tr>\n",
       "  </tbody>\n",
       "</table>\n",
       "</div>"
      ],
      "text/plain": [
       "         date  rolling_7_day  rolling_30_day  rolling_60_day  rolling_90_day  \\\n",
       "0  2024-05-20            415            1714            3462            5165   \n",
       "1  2024-05-13            414            1698            3434            5099   \n",
       "2  2024-05-06            385            1674            3391            4953   \n",
       "3  2024-04-29            387            1679            3396            4847   \n",
       "4  2024-04-22            398            1582            3354            4785   \n",
       "\n",
       "   parcl_id  \n",
       "0   5374167  \n",
       "1   5374167  \n",
       "2   5374167  \n",
       "3   5374167  \n",
       "4   5374167  "
      ]
     },
     "execution_count": 15,
     "metadata": {},
     "output_type": "execute_result"
    }
   ],
   "source": [
    "# first order of business, lets see how new listings have changed over the last year\n",
    "start_date = '2023-01-01'\n",
    "\n",
    "new_listings = client.for_sale_market_metrics_new_listings_rolling_counts.retrieve(\n",
    "    parcl_id=analysis_parcl_id,\n",
    "    start_date=start_date,\n",
    "    as_dataframe=True,\n",
    "    params={\n",
    "        'limit': 300\n",
    "    }\n",
    ")\n",
    "new_listings.head()"
   ]
  },
  {
   "cell_type": "code",
   "execution_count": 16,
   "id": "afac419d-fee1-4e46-9cec-212cb6c20323",
   "metadata": {},
   "outputs": [],
   "source": [
    "# we will melt the data to make it long format\n",
    "new_listings_long = pd.melt(\n",
    "    new_listings, \n",
    "    id_vars=['date', 'parcl_id'], \n",
    "    value_vars=['rolling_30_day', 'rolling_60_day', 'rolling_90_day'],\n",
    "    value_name='Number of New Listings',\n",
    "    var_name='Rolling Window (Days)'\n",
    ")"
   ]
  },
  {
   "cell_type": "code",
   "execution_count": 17,
   "id": "cdee7bea-f2aa-4ca5-b325-d1af6f43b6b7",
   "metadata": {},
   "outputs": [
    {
     "data": {
      "application/vnd.plotly.v1+json": {
       "config": {
        "plotlyServerURL": "https://plot.ly"
       },
       "data": [
        {
         "hovertemplate": "Rolling Window (Days)=rolling_30_day<br>date=%{x}<br>Number of New Listings=%{y}<extra></extra>",
         "legendgroup": "rolling_30_day",
         "line": {
          "color": "#448CF2",
          "dash": "solid",
          "width": 3
         },
         "marker": {
          "color": "#448CF2",
          "size": 5,
          "symbol": "circle"
         },
         "mode": "lines+markers",
         "name": "rolling_30_day",
         "orientation": "v",
         "showlegend": true,
         "type": "scatter",
         "x": [
          "2024-05-20",
          "2024-05-13",
          "2024-05-06",
          "2024-04-29",
          "2024-04-22",
          "2024-04-15",
          "2024-04-08",
          "2024-04-01",
          "2024-03-25",
          "2024-03-18",
          "2024-03-11",
          "2024-03-04",
          "2024-02-26",
          "2024-02-19",
          "2024-02-12",
          "2024-02-05",
          "2024-01-29",
          "2024-01-22",
          "2024-01-15",
          "2024-01-08",
          "2024-01-01",
          "2023-12-25",
          "2023-12-18",
          "2023-12-11",
          "2023-12-04",
          "2023-11-27",
          "2023-11-20",
          "2023-11-13",
          "2023-11-06",
          "2023-10-30",
          "2023-10-23",
          "2023-10-16",
          "2023-10-09",
          "2023-10-02",
          "2023-09-25",
          "2023-09-18",
          "2023-09-11",
          "2023-09-04",
          "2023-08-28",
          "2023-08-21",
          "2023-08-14",
          "2023-08-07",
          "2023-07-31",
          "2023-07-24",
          "2023-07-17",
          "2023-07-10",
          "2023-07-03",
          "2023-06-26",
          "2023-06-19",
          "2023-06-12",
          "2023-06-05",
          "2023-05-29",
          "2023-05-22",
          "2023-05-15",
          "2023-05-08",
          "2023-05-01",
          "2023-04-24",
          "2023-04-17",
          "2023-04-10",
          "2023-04-03",
          "2023-03-27",
          "2023-03-20",
          "2023-03-13",
          "2023-03-06",
          "2023-02-27",
          "2023-02-20",
          "2023-02-13",
          "2023-02-06",
          "2023-01-30",
          "2023-01-23",
          "2023-01-16",
          "2023-01-09",
          "2023-01-02"
         ],
         "xaxis": "x",
         "y": [
          1714,
          1698,
          1674,
          1679,
          1582,
          1530,
          1528,
          1524,
          1645,
          1593,
          1565,
          1450,
          1356,
          1402,
          1349,
          1469,
          1471,
          1205,
          1024,
          858,
          792,
          958,
          994,
          1083,
          1124,
          1162,
          1318,
          1355,
          1356,
          1414,
          1453,
          1436,
          1458,
          1368,
          1356,
          1381,
          1421,
          1493,
          1541,
          1536,
          1557,
          1561,
          1526,
          1570,
          1580,
          1568,
          1632,
          1606,
          1566,
          1564,
          1502,
          1522,
          1534,
          1548,
          1541,
          1496,
          1470,
          1409,
          1370,
          1375,
          1387,
          1365,
          1357,
          1391,
          1419,
          1461,
          1440,
          1400,
          1315,
          1107,
          915,
          824,
          768
         ],
         "yaxis": "y"
        },
        {
         "hovertemplate": "Rolling Window (Days)=rolling_60_day<br>date=%{x}<br>Number of New Listings=%{y}<extra></extra>",
         "legendgroup": "rolling_60_day",
         "line": {
          "color": "#EF553B",
          "dash": "solid",
          "width": 3
         },
         "marker": {
          "size": 5,
          "symbol": "circle"
         },
         "mode": "lines+markers",
         "name": "rolling_60_day",
         "orientation": "v",
         "showlegend": true,
         "type": "scatter",
         "x": [
          "2024-05-20",
          "2024-05-13",
          "2024-05-06",
          "2024-04-29",
          "2024-04-22",
          "2024-04-15",
          "2024-04-08",
          "2024-04-01",
          "2024-03-25",
          "2024-03-18",
          "2024-03-11",
          "2024-03-04",
          "2024-02-26",
          "2024-02-19",
          "2024-02-12",
          "2024-02-05",
          "2024-01-29",
          "2024-01-22",
          "2024-01-15",
          "2024-01-08",
          "2024-01-01",
          "2023-12-25",
          "2023-12-18",
          "2023-12-11",
          "2023-12-04",
          "2023-11-27",
          "2023-11-20",
          "2023-11-13",
          "2023-11-06",
          "2023-10-30",
          "2023-10-23",
          "2023-10-16",
          "2023-10-09",
          "2023-10-02",
          "2023-09-25",
          "2023-09-18",
          "2023-09-11",
          "2023-09-04",
          "2023-08-28",
          "2023-08-21",
          "2023-08-14",
          "2023-08-07",
          "2023-07-31",
          "2023-07-24",
          "2023-07-17",
          "2023-07-10",
          "2023-07-03",
          "2023-06-26",
          "2023-06-19",
          "2023-06-12",
          "2023-06-05",
          "2023-05-29",
          "2023-05-22",
          "2023-05-15",
          "2023-05-08",
          "2023-05-01",
          "2023-04-24",
          "2023-04-17",
          "2023-04-10",
          "2023-04-03",
          "2023-03-27",
          "2023-03-20",
          "2023-03-13",
          "2023-03-06",
          "2023-02-27",
          "2023-02-20",
          "2023-02-13",
          "2023-02-06",
          "2023-01-30",
          "2023-01-23",
          "2023-01-16",
          "2023-01-09",
          "2023-01-02"
         ],
         "xaxis": "x",
         "y": [
          3462,
          3434,
          3391,
          3396,
          3354,
          3273,
          3163,
          3067,
          3105,
          3115,
          3046,
          3021,
          2838,
          2613,
          2418,
          2399,
          2387,
          2191,
          2118,
          2053,
          2027,
          2220,
          2428,
          2534,
          2602,
          2701,
          2879,
          2913,
          2912,
          2884,
          2954,
          2938,
          2996,
          2990,
          3018,
          3052,
          3127,
          3199,
          3195,
          3224,
          3261,
          3269,
          3293,
          3284,
          3277,
          3237,
          3269,
          3248,
          3240,
          3210,
          3153,
          3127,
          3089,
          3039,
          3003,
          2966,
          2947,
          2886,
          2833,
          2893,
          2919,
          2910,
          2889,
          2871,
          2737,
          2559,
          2410,
          2291,
          2199,
          2055,
          2037,
          2051,
          2055
         ],
         "yaxis": "y"
        },
        {
         "hovertemplate": "Rolling Window (Days)=rolling_90_day<br>date=%{x}<br>Number of New Listings=%{y}<extra></extra>",
         "legendgroup": "rolling_90_day",
         "line": {
          "color": "#FFFFFF",
          "dash": "solid",
          "width": 3
         },
         "marker": {
          "color": "#FFFFFF",
          "size": 5,
          "symbol": "circle"
         },
         "mode": "lines+markers",
         "name": "rolling_90_day",
         "orientation": "v",
         "showlegend": true,
         "type": "scatter",
         "x": [
          "2024-05-20",
          "2024-05-13",
          "2024-05-06",
          "2024-04-29",
          "2024-04-22",
          "2024-04-15",
          "2024-04-08",
          "2024-04-01",
          "2024-03-25",
          "2024-03-18",
          "2024-03-11",
          "2024-03-04",
          "2024-02-26",
          "2024-02-19",
          "2024-02-12",
          "2024-02-05",
          "2024-01-29",
          "2024-01-22",
          "2024-01-15",
          "2024-01-08",
          "2024-01-01",
          "2023-12-25",
          "2023-12-18",
          "2023-12-11",
          "2023-12-04",
          "2023-11-27",
          "2023-11-20",
          "2023-11-13",
          "2023-11-06",
          "2023-10-30",
          "2023-10-23",
          "2023-10-16",
          "2023-10-09",
          "2023-10-02",
          "2023-09-25",
          "2023-09-18",
          "2023-09-11",
          "2023-09-04",
          "2023-08-28",
          "2023-08-21",
          "2023-08-14",
          "2023-08-07",
          "2023-07-31",
          "2023-07-24",
          "2023-07-17",
          "2023-07-10",
          "2023-07-03",
          "2023-06-26",
          "2023-06-19",
          "2023-06-12",
          "2023-06-05",
          "2023-05-29",
          "2023-05-22",
          "2023-05-15",
          "2023-05-08",
          "2023-05-01",
          "2023-04-24",
          "2023-04-17",
          "2023-04-10",
          "2023-04-03",
          "2023-03-27",
          "2023-03-20",
          "2023-03-13",
          "2023-03-06",
          "2023-02-27",
          "2023-02-20",
          "2023-02-13",
          "2023-02-06",
          "2023-01-30",
          "2023-01-23",
          "2023-01-16",
          "2023-01-09",
          "2023-01-02"
         ],
         "xaxis": "x",
         "y": [
          5165,
          5099,
          4953,
          4847,
          4785,
          4702,
          4658,
          4617,
          4461,
          4204,
          4010,
          3900,
          3776,
          3603,
          3513,
          3570,
          3581,
          3519,
          3512,
          3462,
          3470,
          3735,
          3947,
          4042,
          4083,
          4109,
          4346,
          4378,
          4410,
          4491,
          4528,
          4551,
          4640,
          4598,
          4615,
          4694,
          4738,
          4836,
          4894,
          4868,
          4888,
          4853,
          4846,
          4870,
          4891,
          4850,
          4846,
          4797,
          4722,
          4662,
          4564,
          4578,
          4523,
          4475,
          4450,
          4455,
          4429,
          4378,
          4316,
          4283,
          4131,
          3917,
          3774,
          3703,
          3638,
          3533,
          3523,
          3487,
          3443,
          3458,
          3533,
          3641,
          3723
         ],
         "yaxis": "y"
        }
       ],
       "layout": {
        "font": {
         "color": "#FFFFFF"
        },
        "height": 900,
        "images": [
         {
          "sizex": 0.15,
          "sizey": 0.15,
          "source": "https://parcllabs-assets.s3.amazonaws.com/powered-by-parcllabs-api-logo-white.png",
          "x": 0.5,
          "xanchor": "center",
          "xref": "paper",
          "y": 1.02,
          "yanchor": "bottom",
          "yref": "paper"
         }
        ],
        "legend": {
         "title": {
          "text": "Rolling Window (Days)"
         },
         "tracegroupgap": 0,
         "traceorder": "normal",
         "x": 0.01,
         "xanchor": "left",
         "y": 0.99,
         "yanchor": "top"
        },
        "margin": {
         "b": 100
        },
        "paper_bgcolor": "#080D16",
        "plot_bgcolor": "#080D16",
        "template": {
         "data": {
          "bar": [
           {
            "error_x": {
             "color": "#2a3f5f"
            },
            "error_y": {
             "color": "#2a3f5f"
            },
            "marker": {
             "line": {
              "color": "#E5ECF6",
              "width": 0.5
             },
             "pattern": {
              "fillmode": "overlay",
              "size": 10,
              "solidity": 0.2
             }
            },
            "type": "bar"
           }
          ],
          "barpolar": [
           {
            "marker": {
             "line": {
              "color": "#E5ECF6",
              "width": 0.5
             },
             "pattern": {
              "fillmode": "overlay",
              "size": 10,
              "solidity": 0.2
             }
            },
            "type": "barpolar"
           }
          ],
          "carpet": [
           {
            "aaxis": {
             "endlinecolor": "#2a3f5f",
             "gridcolor": "white",
             "linecolor": "white",
             "minorgridcolor": "white",
             "startlinecolor": "#2a3f5f"
            },
            "baxis": {
             "endlinecolor": "#2a3f5f",
             "gridcolor": "white",
             "linecolor": "white",
             "minorgridcolor": "white",
             "startlinecolor": "#2a3f5f"
            },
            "type": "carpet"
           }
          ],
          "choropleth": [
           {
            "colorbar": {
             "outlinewidth": 0,
             "ticks": ""
            },
            "type": "choropleth"
           }
          ],
          "contour": [
           {
            "colorbar": {
             "outlinewidth": 0,
             "ticks": ""
            },
            "colorscale": [
             [
              0,
              "#0d0887"
             ],
             [
              0.1111111111111111,
              "#46039f"
             ],
             [
              0.2222222222222222,
              "#7201a8"
             ],
             [
              0.3333333333333333,
              "#9c179e"
             ],
             [
              0.4444444444444444,
              "#bd3786"
             ],
             [
              0.5555555555555556,
              "#d8576b"
             ],
             [
              0.6666666666666666,
              "#ed7953"
             ],
             [
              0.7777777777777778,
              "#fb9f3a"
             ],
             [
              0.8888888888888888,
              "#fdca26"
             ],
             [
              1,
              "#f0f921"
             ]
            ],
            "type": "contour"
           }
          ],
          "contourcarpet": [
           {
            "colorbar": {
             "outlinewidth": 0,
             "ticks": ""
            },
            "type": "contourcarpet"
           }
          ],
          "heatmap": [
           {
            "colorbar": {
             "outlinewidth": 0,
             "ticks": ""
            },
            "colorscale": [
             [
              0,
              "#0d0887"
             ],
             [
              0.1111111111111111,
              "#46039f"
             ],
             [
              0.2222222222222222,
              "#7201a8"
             ],
             [
              0.3333333333333333,
              "#9c179e"
             ],
             [
              0.4444444444444444,
              "#bd3786"
             ],
             [
              0.5555555555555556,
              "#d8576b"
             ],
             [
              0.6666666666666666,
              "#ed7953"
             ],
             [
              0.7777777777777778,
              "#fb9f3a"
             ],
             [
              0.8888888888888888,
              "#fdca26"
             ],
             [
              1,
              "#f0f921"
             ]
            ],
            "type": "heatmap"
           }
          ],
          "heatmapgl": [
           {
            "colorbar": {
             "outlinewidth": 0,
             "ticks": ""
            },
            "colorscale": [
             [
              0,
              "#0d0887"
             ],
             [
              0.1111111111111111,
              "#46039f"
             ],
             [
              0.2222222222222222,
              "#7201a8"
             ],
             [
              0.3333333333333333,
              "#9c179e"
             ],
             [
              0.4444444444444444,
              "#bd3786"
             ],
             [
              0.5555555555555556,
              "#d8576b"
             ],
             [
              0.6666666666666666,
              "#ed7953"
             ],
             [
              0.7777777777777778,
              "#fb9f3a"
             ],
             [
              0.8888888888888888,
              "#fdca26"
             ],
             [
              1,
              "#f0f921"
             ]
            ],
            "type": "heatmapgl"
           }
          ],
          "histogram": [
           {
            "marker": {
             "pattern": {
              "fillmode": "overlay",
              "size": 10,
              "solidity": 0.2
             }
            },
            "type": "histogram"
           }
          ],
          "histogram2d": [
           {
            "colorbar": {
             "outlinewidth": 0,
             "ticks": ""
            },
            "colorscale": [
             [
              0,
              "#0d0887"
             ],
             [
              0.1111111111111111,
              "#46039f"
             ],
             [
              0.2222222222222222,
              "#7201a8"
             ],
             [
              0.3333333333333333,
              "#9c179e"
             ],
             [
              0.4444444444444444,
              "#bd3786"
             ],
             [
              0.5555555555555556,
              "#d8576b"
             ],
             [
              0.6666666666666666,
              "#ed7953"
             ],
             [
              0.7777777777777778,
              "#fb9f3a"
             ],
             [
              0.8888888888888888,
              "#fdca26"
             ],
             [
              1,
              "#f0f921"
             ]
            ],
            "type": "histogram2d"
           }
          ],
          "histogram2dcontour": [
           {
            "colorbar": {
             "outlinewidth": 0,
             "ticks": ""
            },
            "colorscale": [
             [
              0,
              "#0d0887"
             ],
             [
              0.1111111111111111,
              "#46039f"
             ],
             [
              0.2222222222222222,
              "#7201a8"
             ],
             [
              0.3333333333333333,
              "#9c179e"
             ],
             [
              0.4444444444444444,
              "#bd3786"
             ],
             [
              0.5555555555555556,
              "#d8576b"
             ],
             [
              0.6666666666666666,
              "#ed7953"
             ],
             [
              0.7777777777777778,
              "#fb9f3a"
             ],
             [
              0.8888888888888888,
              "#fdca26"
             ],
             [
              1,
              "#f0f921"
             ]
            ],
            "type": "histogram2dcontour"
           }
          ],
          "mesh3d": [
           {
            "colorbar": {
             "outlinewidth": 0,
             "ticks": ""
            },
            "type": "mesh3d"
           }
          ],
          "parcoords": [
           {
            "line": {
             "colorbar": {
              "outlinewidth": 0,
              "ticks": ""
             }
            },
            "type": "parcoords"
           }
          ],
          "pie": [
           {
            "automargin": true,
            "type": "pie"
           }
          ],
          "scatter": [
           {
            "fillpattern": {
             "fillmode": "overlay",
             "size": 10,
             "solidity": 0.2
            },
            "type": "scatter"
           }
          ],
          "scatter3d": [
           {
            "line": {
             "colorbar": {
              "outlinewidth": 0,
              "ticks": ""
             }
            },
            "marker": {
             "colorbar": {
              "outlinewidth": 0,
              "ticks": ""
             }
            },
            "type": "scatter3d"
           }
          ],
          "scattercarpet": [
           {
            "marker": {
             "colorbar": {
              "outlinewidth": 0,
              "ticks": ""
             }
            },
            "type": "scattercarpet"
           }
          ],
          "scattergeo": [
           {
            "marker": {
             "colorbar": {
              "outlinewidth": 0,
              "ticks": ""
             }
            },
            "type": "scattergeo"
           }
          ],
          "scattergl": [
           {
            "marker": {
             "colorbar": {
              "outlinewidth": 0,
              "ticks": ""
             }
            },
            "type": "scattergl"
           }
          ],
          "scattermapbox": [
           {
            "marker": {
             "colorbar": {
              "outlinewidth": 0,
              "ticks": ""
             }
            },
            "type": "scattermapbox"
           }
          ],
          "scatterpolar": [
           {
            "marker": {
             "colorbar": {
              "outlinewidth": 0,
              "ticks": ""
             }
            },
            "type": "scatterpolar"
           }
          ],
          "scatterpolargl": [
           {
            "marker": {
             "colorbar": {
              "outlinewidth": 0,
              "ticks": ""
             }
            },
            "type": "scatterpolargl"
           }
          ],
          "scatterternary": [
           {
            "marker": {
             "colorbar": {
              "outlinewidth": 0,
              "ticks": ""
             }
            },
            "type": "scatterternary"
           }
          ],
          "surface": [
           {
            "colorbar": {
             "outlinewidth": 0,
             "ticks": ""
            },
            "colorscale": [
             [
              0,
              "#0d0887"
             ],
             [
              0.1111111111111111,
              "#46039f"
             ],
             [
              0.2222222222222222,
              "#7201a8"
             ],
             [
              0.3333333333333333,
              "#9c179e"
             ],
             [
              0.4444444444444444,
              "#bd3786"
             ],
             [
              0.5555555555555556,
              "#d8576b"
             ],
             [
              0.6666666666666666,
              "#ed7953"
             ],
             [
              0.7777777777777778,
              "#fb9f3a"
             ],
             [
              0.8888888888888888,
              "#fdca26"
             ],
             [
              1,
              "#f0f921"
             ]
            ],
            "type": "surface"
           }
          ],
          "table": [
           {
            "cells": {
             "fill": {
              "color": "#EBF0F8"
             },
             "line": {
              "color": "white"
             }
            },
            "header": {
             "fill": {
              "color": "#C8D4E3"
             },
             "line": {
              "color": "white"
             }
            },
            "type": "table"
           }
          ]
         },
         "layout": {
          "annotationdefaults": {
           "arrowcolor": "#2a3f5f",
           "arrowhead": 0,
           "arrowwidth": 1
          },
          "autotypenumbers": "strict",
          "coloraxis": {
           "colorbar": {
            "outlinewidth": 0,
            "ticks": ""
           }
          },
          "colorscale": {
           "diverging": [
            [
             0,
             "#8e0152"
            ],
            [
             0.1,
             "#c51b7d"
            ],
            [
             0.2,
             "#de77ae"
            ],
            [
             0.3,
             "#f1b6da"
            ],
            [
             0.4,
             "#fde0ef"
            ],
            [
             0.5,
             "#f7f7f7"
            ],
            [
             0.6,
             "#e6f5d0"
            ],
            [
             0.7,
             "#b8e186"
            ],
            [
             0.8,
             "#7fbc41"
            ],
            [
             0.9,
             "#4d9221"
            ],
            [
             1,
             "#276419"
            ]
           ],
           "sequential": [
            [
             0,
             "#0d0887"
            ],
            [
             0.1111111111111111,
             "#46039f"
            ],
            [
             0.2222222222222222,
             "#7201a8"
            ],
            [
             0.3333333333333333,
             "#9c179e"
            ],
            [
             0.4444444444444444,
             "#bd3786"
            ],
            [
             0.5555555555555556,
             "#d8576b"
            ],
            [
             0.6666666666666666,
             "#ed7953"
            ],
            [
             0.7777777777777778,
             "#fb9f3a"
            ],
            [
             0.8888888888888888,
             "#fdca26"
            ],
            [
             1,
             "#f0f921"
            ]
           ],
           "sequentialminus": [
            [
             0,
             "#0d0887"
            ],
            [
             0.1111111111111111,
             "#46039f"
            ],
            [
             0.2222222222222222,
             "#7201a8"
            ],
            [
             0.3333333333333333,
             "#9c179e"
            ],
            [
             0.4444444444444444,
             "#bd3786"
            ],
            [
             0.5555555555555556,
             "#d8576b"
            ],
            [
             0.6666666666666666,
             "#ed7953"
            ],
            [
             0.7777777777777778,
             "#fb9f3a"
            ],
            [
             0.8888888888888888,
             "#fdca26"
            ],
            [
             1,
             "#f0f921"
            ]
           ]
          },
          "colorway": [
           "#636efa",
           "#EF553B",
           "#00cc96",
           "#ab63fa",
           "#FFA15A",
           "#19d3f3",
           "#FF6692",
           "#B6E880",
           "#FF97FF",
           "#FECB52"
          ],
          "font": {
           "color": "#2a3f5f"
          },
          "geo": {
           "bgcolor": "white",
           "lakecolor": "white",
           "landcolor": "#E5ECF6",
           "showlakes": true,
           "showland": true,
           "subunitcolor": "white"
          },
          "hoverlabel": {
           "align": "left"
          },
          "hovermode": "closest",
          "mapbox": {
           "style": "light"
          },
          "paper_bgcolor": "white",
          "plot_bgcolor": "#E5ECF6",
          "polar": {
           "angularaxis": {
            "gridcolor": "white",
            "linecolor": "white",
            "ticks": ""
           },
           "bgcolor": "#E5ECF6",
           "radialaxis": {
            "gridcolor": "white",
            "linecolor": "white",
            "ticks": ""
           }
          },
          "scene": {
           "xaxis": {
            "backgroundcolor": "#E5ECF6",
            "gridcolor": "white",
            "gridwidth": 2,
            "linecolor": "white",
            "showbackground": true,
            "ticks": "",
            "zerolinecolor": "white"
           },
           "yaxis": {
            "backgroundcolor": "#E5ECF6",
            "gridcolor": "white",
            "gridwidth": 2,
            "linecolor": "white",
            "showbackground": true,
            "ticks": "",
            "zerolinecolor": "white"
           },
           "zaxis": {
            "backgroundcolor": "#E5ECF6",
            "gridcolor": "white",
            "gridwidth": 2,
            "linecolor": "white",
            "showbackground": true,
            "ticks": "",
            "zerolinecolor": "white"
           }
          },
          "shapedefaults": {
           "line": {
            "color": "#2a3f5f"
           }
          },
          "ternary": {
           "aaxis": {
            "gridcolor": "white",
            "linecolor": "white",
            "ticks": ""
           },
           "baxis": {
            "gridcolor": "white",
            "linecolor": "white",
            "ticks": ""
           },
           "bgcolor": "#E5ECF6",
           "caxis": {
            "gridcolor": "white",
            "linecolor": "white",
            "ticks": ""
           }
          },
          "title": {
           "x": 0.05
          },
          "xaxis": {
           "automargin": true,
           "gridcolor": "white",
           "linecolor": "white",
           "ticks": "",
           "title": {
            "standoff": 15
           },
           "zerolinecolor": "white",
           "zerolinewidth": 2
          },
          "yaxis": {
           "automargin": true,
           "gridcolor": "white",
           "linecolor": "white",
           "ticks": "",
           "title": {
            "standoff": 15
           },
           "zerolinecolor": "white",
           "zerolinewidth": 2
          }
         }
        },
        "title": {
         "text": "New Listings (Rolling Day Counts): San Diego City",
         "x": 0.5,
         "xanchor": "center",
         "y": 0.97,
         "yanchor": "top"
        },
        "width": 1600,
        "xaxis": {
         "anchor": "y",
         "domain": [
          0,
          1
         ],
         "gridcolor": "LightGrey",
         "gridwidth": 1,
         "showgrid": true,
         "title": {
          "text": "date"
         }
        },
        "yaxis": {
         "anchor": "x",
         "domain": [
          0,
          1
         ],
         "gridcolor": "LightGrey",
         "gridwidth": 1,
         "showgrid": true,
         "title": {
          "text": "Number of New Listings"
         }
        }
       }
      }
     },
     "metadata": {},
     "output_type": "display_data"
    }
   ],
   "source": [
    "# Creating the line chart where we show new listings for different rolling windows\n",
    "fig = px.line(\n",
    "    new_listings_long,\n",
    "    x='date',\n",
    "    y='Number of New Listings',\n",
    "    color='Rolling Window (Days)',\n",
    "    title=f'New Listings (Rolling Day Counts): {name}',\n",
    "    labels={'count': 'Rolling Day Count'}\n",
    ")\n",
    "\n",
    "fig.add_layout_image(\n",
    "    labs_logo_dict\n",
    ")\n",
    "\n",
    "fig.update_layout(\n",
    "    margin=dict(b=100),\n",
    "    width=IMG_WIDTH,\n",
    "    height=IMG_HEIGHT,\n",
    "    legend=dict(\n",
    "        x=0.01,\n",
    "        y=0.99,\n",
    "        traceorder=\"normal\",\n",
    "        xanchor='left',\n",
    "        yanchor='top',\n",
    "        title='Rolling Window (Days)'\n",
    "    ),\n",
    "    title=PLOT_TITLE_SETTINGS,\n",
    "    plot_bgcolor='#080D16',\n",
    "    paper_bgcolor='#080D16',\n",
    "    font=dict(color='#FFFFFF'),\n",
    "    xaxis_title='date'\n",
    ")\n",
    "\n",
    "color_map = {\n",
    "    'rolling_30_day': '#448CF2',\n",
    "    'rolling_90_day': '#FFFFFF',\n",
    "}\n",
    "\n",
    "fig.update_traces(\n",
    "    line=dict(width=3),\n",
    "    mode='lines+markers',\n",
    "    marker=dict(size=5)\n",
    ")\n",
    "\n",
    "for trace in fig.data:\n",
    "    if trace.name in color_map:\n",
    "        trace.line.color = color_map[trace.name]\n",
    "        trace.marker.color = color_map[trace.name]\n",
    "\n",
    "# Adding gridlines\n",
    "fig.update_xaxes(showgrid=True, gridwidth=1, gridcolor='LightGrey')\n",
    "fig.update_yaxes(showgrid=True, gridwidth=1, gridcolor='LightGrey')\n",
    "\n",
    "# save figure\n",
    "fig.write_image(os.path.join(output_dir, 'new_listings_rolling_n_periods.png'), width=IMG_WIDTH, height=IMG_HEIGHT)\n",
    "\n",
    "\n",
    "# Show the plot\n",
    "fig.show()"
   ]
  },
  {
   "cell_type": "markdown",
   "id": "bf09bc45",
   "metadata": {},
   "source": [
    "We can also determine what percent of the new listings are coming from investors that are offloading properties."
   ]
  },
  {
   "cell_type": "code",
   "execution_count": null,
   "id": "04581af3-df37-4eaf-a483-3ab7994ffed4",
   "metadata": {},
   "outputs": [],
   "source": [
    "# of listings on the market, what percent of them are coming from investors?\n",
    "investor_listings = client.investor_metrics_new_listings_for_sale_rolling_counts.retrieve(\n",
    "    parcl_id=analysis_parcl_id,\n",
    "    params={\n",
    "        'limit': 300\n",
    "    },\n",
    "    as_dataframe=True\n",
    ")\n",
    "investor_listings.head(4)"
   ]
  },
  {
   "cell_type": "code",
   "execution_count": null,
   "id": "ad7a7849",
   "metadata": {},
   "outputs": [],
   "source": [
    "# we divide by 100 so plotly can handle the formatting, we also fiter out the rolling_7_day period\n",
    "investor_listings['pct_for_sale_market'] = investor_listings['pct_for_sale_market']/100\n",
    "investor_listings = investor_listings.loc[investor_listings['period'] != 'rolling_7_day']"
   ]
  },
  {
   "cell_type": "code",
   "execution_count": null,
   "id": "08cfd426-e0f7-4c23-8673-94b38b2ead06",
   "metadata": {},
   "outputs": [],
   "source": [
    "# Create the line chart\n",
    "fig = px.line(\n",
    "    investor_listings,\n",
    "    x='date',\n",
    "    y='pct_for_sale_market',\n",
    "    color='period',  # This creates separate lines for each period\n",
    "    title=f'Investor Share of New Resale Listings Activity: {name}',\n",
    "    labels={'pct_for_sale_market': '% of New Listings by Investors'},\n",
    "    line_shape='linear'  # 'spline' for smooth lines, if preferred\n",
    ")\n",
    "\n",
    "fig.add_layout_image(labs_logo_dict)\n",
    "\n",
    "fig.update_layout(\n",
    "    margin=dict(b=100),\n",
    "    height=IMG_HEIGHT,\n",
    "    width=IMG_WIDTH,\n",
    "    legend=dict(\n",
    "        x=0.01,\n",
    "        y=0.99,\n",
    "        traceorder=\"normal\",\n",
    "        xanchor='left',\n",
    "        yanchor='top',\n",
    "        title='Period (Days)'\n",
    "    ),\n",
    "    title=PLOT_TITLE_SETTINGS,\n",
    "    plot_bgcolor='#080D16',\n",
    "    paper_bgcolor='#080D16',\n",
    "    font=dict(color='#FFFFFF'),\n",
    "    xaxis_title='date' \n",
    ")\n",
    "\n",
    "fig.update_yaxes(tickformat=\".0%\")\n",
    "\n",
    "color_map = {\n",
    "    'rolling_30_day': '#448CF2',\n",
    "    'rolling_90_day': '#FFFFFF',\n",
    "}\n",
    "\n",
    "fig.update_traces(\n",
    "    line=dict(width=3),\n",
    "    mode='lines+markers',\n",
    "    marker=dict(size=5)\n",
    ")\n",
    "\n",
    "\n",
    "for trace in fig.data:\n",
    "    if trace.name in color_map:\n",
    "        trace.line.color = color_map[trace.name]\n",
    "        trace.marker.color = color_map[trace.name]\n",
    "\n",
    "# Adding gridlines\n",
    "fig.update_xaxes(showgrid=True, gridwidth=1, gridcolor='LightGrey')\n",
    "fig.update_yaxes(showgrid=True, gridwidth=1, gridcolor='LightGrey')\n",
    "\n",
    "# save figure\n",
    "fig.write_image(os.path.join(output_dir, 'investor_share_of_resale_listings_rolling_n_period.png'), width=IMG_WIDTH, height=IMG_HEIGHT)\n",
    "\n",
    "# Show the plot\n",
    "fig.show()\n"
   ]
  },
  {
   "cell_type": "markdown",
   "id": "36bacb10",
   "metadata": {},
   "source": [
    "We can also filter out new listings by investors based on their portfolio size."
   ]
  },
  {
   "cell_type": "code",
   "execution_count": null,
   "id": "0d4c32a3-0ca2-43a7-a44d-49565449ebd9",
   "metadata": {},
   "outputs": [],
   "source": [
    "# now lets get the listings by portfolio sizes in San Diego city as of this week\n",
    "portfolio_metrics_new_listings_2_to_9 = client.portfolio_metrics_new_listings_for_sale_rolling_counts.retrieve(\n",
    "        parcl_id=analysis_parcl_id,\n",
    "        as_dataframe=True,\n",
    "        portfolio_size='PORTFOLIO_2_TO_9',\n",
    "    )\n",
    "\n",
    "portfolio_metrics_new_listings_2_to_9.head()"
   ]
  },
  {
   "cell_type": "code",
   "execution_count": null,
   "id": "95d96cd4-ed15-40b0-bba7-1abdd60df471",
   "metadata": {},
   "outputs": [],
   "source": [
    "# repeat for portfolio size of 10 to 99\n",
    "portfolio_metrics_new_listings_10_to_9 = client.portfolio_metrics_new_listings_for_sale_rolling_counts.retrieve(\n",
    "        parcl_id=analysis_parcl_id,\n",
    "        as_dataframe=True,\n",
    "        portfolio_size='PORTFOLIO_10_TO_99',\n",
    "    )\n",
    "\n",
    "portfolio_metrics_new_listings_10_to_9.head()"
   ]
  },
  {
   "cell_type": "code",
   "execution_count": null,
   "id": "b27cb461-9117-467b-bf8e-000ed50f4868",
   "metadata": {},
   "outputs": [],
   "source": [
    "# repeat for portfolio size of 1000+\n",
    "portfolio_metrics_new_listings_1000_plus = client.portfolio_metrics_new_listings_for_sale_rolling_counts.retrieve(\n",
    "        parcl_id=analysis_parcl_id,\n",
    "        as_dataframe=True,\n",
    "        portfolio_size='PORTFOLIO_1000_PLUS',\n",
    "    )\n",
    "\n",
    "portfolio_metrics_new_listings_1000_plus.head()"
   ]
  },
  {
   "cell_type": "markdown",
   "id": "8ae4ab6a-8f50-4223-bd30-aa2317fb590f",
   "metadata": {},
   "source": [
    "<a id='prices'></a>\n",
    "### Price Activity\n",
    "\n",
    "Let's review rental prices, new listing prices and home sales prices. "
   ]
  },
  {
   "cell_type": "code",
   "execution_count": null,
   "id": "c5d43a99-2a06-4e61-b8b2-f9daf34bd974",
   "metadata": {},
   "outputs": [],
   "source": [
    "# Prices\n",
    "prices = client.market_metrics_housing_event_prices.retrieve(\n",
    "    parcl_id=analysis_parcl_id,\n",
    "    as_dataframe=True,\n",
    "    params={\n",
    "        'limit': 300\n",
    "    }\n",
    ")\n",
    "\n",
    "# subset the data and melt it to long format\n",
    "prices_long = prices[['date', 'parcl_id', 'price_median_sales', 'price_median_new_listings_for_sale']]\n",
    "\n",
    "prices_long = pd.melt(\n",
    "    prices_long, \n",
    "    id_vars=['date', 'parcl_id'], \n",
    "    value_vars=['price_median_sales', 'price_median_new_listings_for_sale'],\n",
    "    value_name='Median Price ($)',\n",
    "    var_name='Transaction Type'\n",
    ")\n",
    "\n",
    "# replace the variable names to make them more user friendly\n",
    "r = {\n",
    "    'price_median_sales': 'Median Sales Price',\n",
    "    'price_median_new_listings_for_sale': 'Median New Listing Price'\n",
    "}\n",
    "\n",
    "prices_long['Transaction Type'] = prices_long['Transaction Type'].replace(r)"
   ]
  },
  {
   "cell_type": "code",
   "execution_count": null,
   "id": "61ee6897-ca06-4a43-9fa3-1fd182a55314",
   "metadata": {},
   "outputs": [],
   "source": [
    "# Creating the line chart\n",
    "fig = px.line(\n",
    "    prices_long,\n",
    "    x='date',\n",
    "    y='Median Price ($)',\n",
    "    color='Transaction Type',\n",
    "    title=f'Purchase Price vs. New Listings Median Prices ($): {name}',\n",
    ")\n",
    "\n",
    "fig.add_layout_image(\n",
    "    labs_logo_dict\n",
    ")\n",
    "\n",
    "fig.update_layout(\n",
    "    margin=dict(b=100),\n",
    "    height=IMG_HEIGHT,\n",
    "    width=IMG_WIDTH,\n",
    "    title=PLOT_TITLE_SETTINGS,\n",
    "    xaxis_title=\"Date\",\n",
    "    yaxis_title=\"Price ($)\",\n",
    "    yaxis_tickformat='$,', \n",
    "    xaxis_tickformat='%b %Y',\n",
    "    plot_bgcolor='#080D16', \n",
    "    paper_bgcolor='#080D16',\n",
    "    font=dict(color='#FFFFFF'),\n",
    "    showlegend=True, \n",
    "    legend=dict(\n",
    "        x=0.01,\n",
    "        y=0.99,\n",
    "        traceorder=\"normal\",\n",
    "        xanchor='left',\n",
    "        yanchor='top'\n",
    "    ),\n",
    ")\n",
    "\n",
    "color_map = {\n",
    "    'Median Sales Price': '#448CF2',\n",
    "    'Median New Listing Price': '#FFFFFF',\n",
    "}\n",
    "\n",
    "fig.update_traces(\n",
    "    line=dict(width=3),\n",
    "    mode='lines+markers',\n",
    "    marker=dict(size=5)\n",
    ")\n",
    "\n",
    "for trace in fig.data:\n",
    "    if trace.name in color_map:\n",
    "        trace.line.color = color_map[trace.name]\n",
    "        trace.marker.color = color_map[trace.name]\n",
    "\n",
    "# Adding gridlines\n",
    "fig.update_xaxes(showgrid=True, gridwidth=1, gridcolor='LightGrey')\n",
    "fig.update_yaxes(showgrid=True, gridwidth=1, gridcolor='LightGrey')\n",
    "\n",
    "# save figure\n",
    "fig.write_image(os.path.join(output_dir, 'purchase_price_vs_new_listings_price.png'), width=IMG_WIDTH, height=IMG_HEIGHT)\n",
    "\n",
    "# Show the plot\n",
    "fig.show()"
   ]
  },
  {
   "cell_type": "code",
   "execution_count": null,
   "id": "59e31a8e-bd98-455e-b11a-87503cdfff9d",
   "metadata": {},
   "outputs": [],
   "source": [
    "# we now do it for rental prices\n",
    "fig = px.line(\n",
    "    prices, \n",
    "    x='date', \n",
    "    y='price_median_new_rental_listings', \n",
    "    title=f'Median Rental Listing Price in {name}',  # Add city or location in title if needed\n",
    "    labels={'price_median_new_rental_listings': 'Asking Rental Price ($)'},\n",
    "    line_shape='linear'  # 'spline' for smooth lines, if preferred\n",
    ")\n",
    "\n",
    "# Adding layout image\n",
    "fig.add_layout_image(labs_logo_dict)\n",
    "\n",
    "fig.update_layout(\n",
    "    margin=dict(b=100),\n",
    "    height=IMG_HEIGHT,\n",
    "    width=IMG_WIDTH,\n",
    "    title=PLOT_TITLE_SETTINGS,\n",
    "    xaxis_title=\"Date\",\n",
    "    yaxis_title=\"Price ($)\",\n",
    "    yaxis_tickformat='$,',\n",
    "    xaxis_tickformat='%b %Y',\n",
    "    plot_bgcolor='#080D16',\n",
    "    paper_bgcolor='#080D16',\n",
    "    font=dict(color='#FFFFFF'),\n",
    "    showlegend=True,\n",
    "    legend=dict(\n",
    "        x=0.01,\n",
    "        y=0.99,\n",
    "        traceorder=\"normal\",\n",
    "        xanchor='left',\n",
    "        yanchor='top'\n",
    "    ),\n",
    ")\n",
    "\n",
    "fig.update_traces(\n",
    "    line=dict(color='#FFFFFF', width=3),\n",
    "    mode='lines+markers',\n",
    "    marker=dict(color='#448CF2', size=5)\n",
    ")\n",
    "\n",
    "# Adding gridlines\n",
    "fig.update_xaxes(showgrid=True, gridwidth=1, gridcolor='LightGrey')\n",
    "fig.update_yaxes(showgrid=True, gridwidth=1, gridcolor='LightGrey')\n",
    "\n",
    "# save figure\n",
    "fig.write_image(os.path.join(output_dir, 'median_rental_listings_price.png'), width=IMG_WIDTH, height=IMG_HEIGHT)\n",
    "\n",
    "# Show the plot\n",
    "fig.show()\n"
   ]
  }
 ],
 "metadata": {
  "kernelspec": {
   "display_name": "Python 3 (ipykernel)",
   "language": "python",
   "name": "python3"
  },
  "language_info": {
   "codemirror_mode": {
    "name": "ipython",
    "version": 3
   },
   "file_extension": ".py",
   "mimetype": "text/x-python",
   "name": "python",
   "nbconvert_exporter": "python",
   "pygments_lexer": "ipython3",
   "version": "3.11.9"
  }
 },
 "nbformat": 4,
 "nbformat_minor": 5
}
