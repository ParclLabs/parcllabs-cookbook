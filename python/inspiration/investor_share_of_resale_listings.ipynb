{
 "cells": [
  {
   "cell_type": "markdown",
   "id": "f3efb2e5-450a-40c4-adc8-ab658bc163cb",
   "metadata": {},
   "source": [
    "# Welcome to the Lab 🥼🧪\n",
    "\n",
    "## Investor Share of Resale Listings\n",
    "\n",
    "In this notebook, we will go over how much of an impact investors have on the resale listing market. \n",
    "\n",
    "We will create a chart like this: \n",
    "\n",
    "![Chart](assets/atlanta_investor_share.png)\n",
    "\n",
    "**Note** This notebook will work with any of the 70k+ markets supported by the Parcl Labs API.\n",
    "\n",
    "As a reminder, you can get your Parcl Labs API key [here](https://dashboard.parcllabs.com/signup) to follow along. \n",
    "\n",
    "To run this immediately, you can use Google Colab. Remember, you must set your `PARCL_LABS_API_KEY` as a secret. See this [guide](https://medium.com/@parthdasawant/how-to-use-secrets-in-google-colab-450c38e3ec75) for more information.\n",
    "\n",
    "[![Open in Colab](https://colab.research.google.com/assets/colab-badge.svg)](https://colab.research.google.com/github/ParclLabs/parcllabs-examples/blob/main/python/inspiration/investor_share_of_resale_listings.ipynb)"
   ]
  },
  {
   "cell_type": "code",
   "execution_count": null,
   "id": "26ee502a-3815-401f-8681-59311d2db750",
   "metadata": {},
   "outputs": [],
   "source": [
    "# Environment setup\n",
    "import os\n",
    "import sys\n",
    "import subprocess\n",
    "from datetime import datetime\n",
    "\n",
    "# Collab setup from one click above\n",
    "if \"google.colab\" in sys.modules:\n",
    "    from google.colab import userdata\n",
    "    %pip install parcllabs plotly kaleido\n",
    "    api_key = userdata.get('PARCL_LABS_API_KEY')\n",
    "else:\n",
    "    api_key = os.getenv('PARCL_LABS_API_KEY')"
   ]
  },
  {
   "cell_type": "code",
   "execution_count": null,
   "id": "0c14e32c-9570-42f0-889f-fe737fdb9450",
   "metadata": {},
   "outputs": [],
   "source": [
    "import parcllabs\n",
    "import pandas as pd\n",
    "import plotly.express as px\n",
    "from parcllabs import ParclLabsClient\n",
    "\n",
    "print(f\"Parcl Labs Version: {parcllabs.__version__}\")"
   ]
  },
  {
   "cell_type": "code",
   "execution_count": null,
   "id": "710cba2b-a582-4da8-a2eb-f6e4e8e656b0",
   "metadata": {},
   "outputs": [],
   "source": [
    "# initialize client\n",
    "client = ParclLabsClient(api_key=api_key)"
   ]
  },
  {
   "cell_type": "code",
   "execution_count": null,
   "id": "21da876e-629e-4a99-a249-b6930e88a015",
   "metadata": {},
   "outputs": [],
   "source": [
    "# retrieving info for the US Parcl\n",
    "us = client.search_markets.retrieve(\n",
    "    query='United States',\n",
    "    as_dataframe=True\n",
    ")\n",
    "us.head()"
   ]
  },
  {
   "cell_type": "code",
   "execution_count": null,
   "id": "1ad03f7a-c2b8-4d59-a1d6-e8d3028e4798",
   "metadata": {},
   "outputs": [],
   "source": [
    "# retrieving info for the Tampa Parcl\n",
    "tampa = client.search_markets.retrieve(\n",
    "    query='Tampa',\n",
    "    location_type='CBSA',\n",
    "    as_dataframe=True\n",
    ")\n",
    "tampa.head()"
   ]
  },
  {
   "cell_type": "code",
   "execution_count": null,
   "id": "a56776e8-b6b4-4b1f-bf69-6c51a9872bea",
   "metadata": {},
   "outputs": [],
   "source": [
    "# retrieving info for the Phoenix Parcl\n",
    "phoenix = client.search_markets.retrieve(\n",
    "    query='Phoenix',\n",
    "    location_type='CBSA',\n",
    "    as_dataframe=True\n",
    ")\n",
    "\n",
    "phoenix.head()"
   ]
  },
  {
   "cell_type": "code",
   "execution_count": null,
   "id": "172a5670-9523-4d0c-a65e-c8e4413501eb",
   "metadata": {},
   "outputs": [],
   "source": [
    "# retrieving info for the Atlanta Parcl\n",
    "atlanta = client.search_markets.retrieve(\n",
    "    query='Atlanta',\n",
    "    location_type='CBSA',\n",
    "    as_dataframe=True\n",
    ")\n",
    "\n",
    "atlanta.head()"
   ]
  },
  {
   "cell_type": "code",
   "execution_count": null,
   "id": "23f2fdce-4a84-4f25-adb0-333b1bc43546",
   "metadata": {},
   "outputs": [],
   "source": [
    "# retrieving info for the San Francisco Parcl\n",
    "sf = client.search_markets.retrieve(\n",
    "    query='San Francisco',\n",
    "    location_type='CBSA',\n",
    "    as_dataframe=True\n",
    ")\n",
    "\n",
    "sf.head()"
   ]
  },
  {
   "cell_type": "code",
   "execution_count": null,
   "id": "730f5336-dd65-4f39-8305-f75a630e0a75",
   "metadata": {},
   "outputs": [],
   "source": [
    "# retrieving info for the Miami Parcl\n",
    "miami = client.search_markets.retrieve(\n",
    "    query='Miami',\n",
    "    location_type='CBSA',\n",
    "    as_dataframe=True,\n",
    ")\n",
    "\n",
    "miami = miami.loc[miami['name'].str.contains('Fl')]\n",
    "miami"
   ]
  },
  {
   "cell_type": "code",
   "execution_count": null,
   "id": "4269ad26-5611-4c76-a502-47554f6d54ae",
   "metadata": {},
   "outputs": [],
   "source": [
    "# retrieving info for the Austin Parcl\n",
    "austin = client.search_markets.retrieve(\n",
    "    query='Austin',\n",
    "    location_type='CBSA',\n",
    "    as_dataframe=True\n",
    ")\n",
    "\n",
    "austin = austin.loc[austin['name'].str.contains('Tx')]\n",
    "austin.head()"
   ]
  },
  {
   "cell_type": "code",
   "execution_count": null,
   "id": "3717fe10-65b7-473b-8234-e5d4f5ad5535",
   "metadata": {},
   "outputs": [],
   "source": [
    "# retrieving info for the Vegas Parcl\n",
    "vegas = client.search_markets.retrieve(\n",
    "    query='Las Vegas',\n",
    "    location_type='CBSA',\n",
    "    as_dataframe=True\n",
    ")\n",
    "\n",
    "vegas = vegas.loc[vegas['name'].str.contains('Nv')]\n",
    "vegas.head()"
   ]
  },
  {
   "cell_type": "code",
   "execution_count": null,
   "id": "dcd7677f-fdff-4aaf-8f0f-e76d5ef87706",
   "metadata": {},
   "outputs": [],
   "source": [
    "# retrieving info for the East North Central census region Parcls\n",
    "east_north_central_cities = client.search_markets.retrieve(\n",
    "    location_type='CITY',\n",
    "    region='EAST_NORTH_CENTRAL',\n",
    "    params={\n",
    "        'limit': 1000\n",
    "    },\n",
    "    as_dataframe=True\n",
    ")\n",
    "\n",
    "east_north_central_cities.head()"
   ]
  },
  {
   "cell_type": "code",
   "execution_count": null,
   "id": "9e5ad526-ea22-4032-9353-e019453a88e7",
   "metadata": {},
   "outputs": [],
   "source": [
    "# concatenate all Parcls of interest\n",
    "locations = pd.concat([us, phoenix, sf, atlanta, vegas])\n",
    "locations"
   ]
  },
  {
   "cell_type": "code",
   "execution_count": null,
   "id": "d08dcb88-215e-420c-8274-454448590368",
   "metadata": {},
   "outputs": [],
   "source": [
    "location_ids = locations['parcl_id'].tolist()\n",
    "location_ids"
   ]
  },
  {
   "cell_type": "code",
   "execution_count": null,
   "id": "e07c31ce-a7e0-4b12-b96e-90a6cbb171d3",
   "metadata": {},
   "outputs": [],
   "source": [
    "# now lets get the investor share of listings for multiple markets\n",
    "\n",
    "investor_listings = client.investor_metrics_new_listings_for_sale_rolling_counts.retrieve_many(\n",
    "    parcl_ids=location_ids,\n",
    "    params={\n",
    "        'limit': 300\n",
    "    },\n",
    "    as_dataframe=True\n",
    ")\n",
    "\n",
    "investor_listings['pct_for_sale_market'] = investor_listings['pct_for_sale_market']/100\n",
    "investor_listings.head(4)"
   ]
  },
  {
   "cell_type": "code",
   "execution_count": null,
   "id": "a9cc024a-8982-4299-96a5-36525f7e6919",
   "metadata": {},
   "outputs": [],
   "source": [
    "# lets focus on 30 day period\n",
    "investor_listings_30 = investor_listings.loc[investor_listings['period'] == 'rolling_60_day']\n",
    "investor_listings_30"
   ]
  },
  {
   "cell_type": "code",
   "execution_count": null,
   "id": "2ee7eab3-56b7-4256-950b-70c1fd0e1649",
   "metadata": {},
   "outputs": [],
   "source": [
    "# join against location name\n",
    "locations.name.unique()\n",
    "\n",
    "# cleanup names\n",
    "name_map = {\n",
    "    'United States Of America': 'USA', \n",
    "    'Tampa-St. Petersburg-Clearwater, Fl': 'Tampa',\n",
    "    'Atlanta-Sandy Springs-Alpharetta, Ga': \"Atlanta\",\n",
    "    'San Francisco-Oakland-Berkeley, Ca': \"San Francisco\",\n",
    "    'Miami-Fort Lauderdale-Pompano Beach, Fl': \"Miami\",\n",
    "    'Austin-Round Rock-Georgetown, Tx': \"Austin\",\n",
    "    \"Atlanta-Sandy Springs-Alpharetta, Ga\": \"Atlanta\", \n",
    "    \"Las Vegas-Henderson-Paradise, Nv\": \"Vegas\"\n",
    "}\n",
    "\n",
    "locations['name'] = locations['name'].replace(name_map)\n",
    "\n",
    "investor_listings_30 = pd.merge(investor_listings_30, locations[['parcl_id', 'name']], on='parcl_id')\n",
    "investor_listings_30"
   ]
  },
  {
   "cell_type": "code",
   "execution_count": null,
   "id": "42b59859-ce38-4501-9e91-8d8ea410d3de",
   "metadata": {},
   "outputs": [],
   "source": [
    "labs_logo_lookup = {\n",
    "    'blue': 'https://parcllabs-assets.s3.amazonaws.com/powered-by-parcllabs-api.png',\n",
    "    'white': 'https://parcllabs-assets.s3.amazonaws.com/powered-by-parcllabs-api-logo-white.png'\n",
    "}\n",
    "\n",
    "# set charting constants\n",
    "labs_logo_dict = dict(\n",
    "        source=labs_logo_lookup['white'],\n",
    "        xref=\"paper\",\n",
    "        yref=\"paper\",\n",
    "        x=0.5,  # Centering the logo below the title\n",
    "        y=1.02,  # Adjust this value to position the logo just below the title\n",
    "        sizex=0.15, \n",
    "        sizey=0.15,\n",
    "        xanchor=\"center\",\n",
    "        yanchor=\"bottom\"\n",
    ")"
   ]
  },
  {
   "cell_type": "code",
   "execution_count": null,
   "id": "7c7ba207-1041-48a7-8aa6-d42e22f74e68",
   "metadata": {},
   "outputs": [],
   "source": [
    "# create chart, overlay the logo and format our viz\n",
    "fig = px.line(\n",
    "    investor_listings_30,\n",
    "    x='date',\n",
    "    y='pct_for_sale_market',\n",
    "    color='name',  # This creates separate lines for each period\n",
    "    title=f'Investor Share of New Resale Listings Activity (Rolling 60 Days)',\n",
    "    labels={'pct_for_sale_market': '% of New Listings by Investors'},\n",
    "    line_shape='linear'  # 'spline' for smooth lines, if preferred\n",
    ")\n",
    "\n",
    "fig.add_layout_image(labs_logo_dict)\n",
    "\n",
    "fig.update_layout(\n",
    "    margin=dict(b=100),\n",
    "    height=900,\n",
    "    width=1600,\n",
    "    legend=dict(\n",
    "        x=0.01,\n",
    "        y=0.99,\n",
    "        traceorder=\"normal\",\n",
    "        xanchor='left',\n",
    "        yanchor='top',\n",
    "        title='Market'\n",
    "    ),\n",
    "    title={\n",
    "        'y':0.95,\n",
    "        'x':0.5,\n",
    "        'xanchor': 'center',\n",
    "        'yanchor': 'top'\n",
    "    },\n",
    "    plot_bgcolor='#080D16',\n",
    "    paper_bgcolor='#080D16',\n",
    "    font=dict(color='#FFFFFF'),\n",
    "    xaxis_title='date' \n",
    ")\n",
    "\n",
    "fig.update_yaxes(tickformat=\".0%\")\n",
    "\n",
    "color_map = {\n",
    "    'rolling_30_day': '#448CF2',\n",
    "    'rolling_90_day': '#FFFFFF',\n",
    "}\n",
    "\n",
    "fig.update_traces(\n",
    "    line=dict(width=3),\n",
    "    mode='lines+markers',\n",
    "    marker=dict(size=5)\n",
    ")\n",
    "\n",
    "\n",
    "for trace in fig.data:\n",
    "    if trace.name in color_map:\n",
    "        trace.line.color = color_map[trace.name]\n",
    "        trace.marker.color = color_map[trace.name]\n",
    "\n",
    "# Adding gridlines\n",
    "fig.update_xaxes(showgrid=True, gridwidth=1, gridcolor='LightGrey')\n",
    "fig.update_yaxes(showgrid=True, gridwidth=1, gridcolor='LightGrey')\n",
    "\n",
    "# Show the plot\n",
    "fig.show() # Vegas, Atlanta, San Fran, USA"
   ]
  }
 ],
 "metadata": {
  "kernelspec": {
   "display_name": "Python 3 (ipykernel)",
   "language": "python",
   "name": "python3"
  },
  "language_info": {
   "codemirror_mode": {
    "name": "ipython",
    "version": 3
   },
   "file_extension": ".py",
   "mimetype": "text/x-python",
   "name": "python",
   "nbconvert_exporter": "python",
   "pygments_lexer": "ipython3",
   "version": "3.11.7"
  }
 },
 "nbformat": 4,
 "nbformat_minor": 5
}
