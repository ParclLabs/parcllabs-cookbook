{
 "cells": [
  {
   "cell_type": "markdown",
   "id": "00775985-42bd-4ebc-87d6-6a8abbe0035a",
   "metadata": {},
   "source": [
    "# Welcome to the Lab 🥼🧪\n",
    "\n",
    "## Gross Yield and Median Rental Price\n",
    "\n",
    "Let's do a deep dive on one specific rental market, and analyze how rental profits, as represented by gross yield could be related to rental prices.\n",
    "\n",
    "At the market level, gross yield is calculated by dividing the annual median rental income by its median new listings for sale price. Gross yiled is often used by landlords (both institutional and non-institutional) to calculate the yearly return on a rental property without accounting for expenses. It is used as one input to understand the potential value of a rental property.\n",
    "\n",
    "**Note** This notebook will work with any of the 70k+ markets supported by the Parcl Labs API.\n",
    "\n",
    "As a reminder, you can get your Parcl Labs API key [here](https://dashboard.parcllabs.com/signup) to follow along. \n",
    "\n",
    "To run this immediately, you can use Google Colab. Remember, you must set your `PARCL_LABS_API_KEY` as a secret. See this [guide](https://medium.com/@parthdasawant/how-to-use-secrets-in-google-colab-450c38e3ec75) for more information.\n",
    "\n",
    "[![Open in Colab](https://colab.research.google.com/assets/colab-badge.svg)](https://colab.research.google.com/github/ParclLabs/parcllabs-examples/blob/main/python/gross_yield_vs_rental_price.ipynb)\n",
    "\n",
    "## Table of Contents\n",
    "\n",
    "### [Rental Metrics](#metrics)\n",
    "- Gross yield by month in Atlanta\n",
    "- Median Rental price by month\n",
    "\n",
    "### [Visualize the results for Analysis](#chart)\n",
    "- Visualizing the monthly gross yield and median rental prices\n",
    "- What's the relationship between gross yields and rents in Atlanta?\n",
    "\n",
    "We will be creating the following chart: \n",
    "\n",
    "![Chart1](assets/gross_yield_and_rent_price.png)"
   ]
  },
  {
   "cell_type": "code",
   "execution_count": 1,
   "id": "cd87dd1d-b6d0-491c-922a-88e9a75cdb49",
   "metadata": {},
   "outputs": [],
   "source": [
    "# Environment setup\n",
    "import os\n",
    "import sys\n",
    "import subprocess\n",
    "from datetime import datetime\n",
    "\n",
    "# Collab setup from one click above\n",
    "if \"google.colab\" in sys.modules:\n",
    "    from google.colab import userdata\n",
    "    %pip install parcllabs plotly kaleido\n",
    "    api_key = userdata.get('PARCL_LABS_API_KEY')\n",
    "else:\n",
    "    api_key = os.getenv('PARCL_LABS_API_KEY')"
   ]
  },
  {
   "cell_type": "code",
   "execution_count": 2,
   "id": "fc01c518",
   "metadata": {},
   "outputs": [
    {
     "name": "stdout",
     "output_type": "stream",
     "text": [
      "Parcl Labs Version: 0.1.16\n"
     ]
    }
   ],
   "source": [
    "import parcllabs\n",
    "import pandas as pd\n",
    "import plotly.express as px\n",
    "import plotly.graph_objects as go\n",
    "from parcllabs import ParclLabsClient\n",
    "\n",
    "print(f\"Parcl Labs Version: {parcllabs.__version__}\")"
   ]
  },
  {
   "cell_type": "code",
   "execution_count": 3,
   "id": "19dbcf0d-717d-4a9b-acee-82006e1f6f20",
   "metadata": {},
   "outputs": [],
   "source": [
    "client = ParclLabsClient(api_key=api_key)"
   ]
  },
  {
   "cell_type": "code",
   "execution_count": 4,
   "id": "79f8e9fc-73e0-4c53-88ff-1fdd92b95849",
   "metadata": {},
   "outputs": [
    {
     "data": {
      "text/html": [
       "<div>\n",
       "<style scoped>\n",
       "    .dataframe tbody tr th:only-of-type {\n",
       "        vertical-align: middle;\n",
       "    }\n",
       "\n",
       "    .dataframe tbody tr th {\n",
       "        vertical-align: top;\n",
       "    }\n",
       "\n",
       "    .dataframe thead th {\n",
       "        text-align: right;\n",
       "    }\n",
       "</style>\n",
       "<table border=\"1\" class=\"dataframe\">\n",
       "  <thead>\n",
       "    <tr style=\"text-align: right;\">\n",
       "      <th></th>\n",
       "      <th>parcl_id</th>\n",
       "      <th>country</th>\n",
       "      <th>geoid</th>\n",
       "      <th>state_fips_code</th>\n",
       "      <th>name</th>\n",
       "      <th>state_abbreviation</th>\n",
       "      <th>region</th>\n",
       "      <th>location_type</th>\n",
       "      <th>total_population</th>\n",
       "      <th>median_income</th>\n",
       "      <th>parcl_exchange_market</th>\n",
       "      <th>pricefeed_market</th>\n",
       "      <th>case_shiller_10_market</th>\n",
       "      <th>case_shiller_20_market</th>\n",
       "    </tr>\n",
       "  </thead>\n",
       "  <tbody>\n",
       "    <tr>\n",
       "      <th>0</th>\n",
       "      <td>5384169</td>\n",
       "      <td>USA</td>\n",
       "      <td>1304000</td>\n",
       "      <td>13</td>\n",
       "      <td>Atlanta City</td>\n",
       "      <td>GA</td>\n",
       "      <td>SOUTH_ATLANTIC</td>\n",
       "      <td>CITY</td>\n",
       "      <td>494838</td>\n",
       "      <td>77655</td>\n",
       "      <td>1</td>\n",
       "      <td>1</td>\n",
       "      <td>0</td>\n",
       "      <td>0</td>\n",
       "    </tr>\n",
       "  </tbody>\n",
       "</table>\n",
       "</div>"
      ],
      "text/plain": [
       "   parcl_id country    geoid state_fips_code          name state_abbreviation  \\\n",
       "0   5384169     USA  1304000              13  Atlanta City                 GA   \n",
       "\n",
       "           region location_type  total_population  median_income  \\\n",
       "0  SOUTH_ATLANTIC          CITY            494838          77655   \n",
       "\n",
       "   parcl_exchange_market  pricefeed_market  case_shiller_10_market  \\\n",
       "0                      1                 1                       0   \n",
       "\n",
       "   case_shiller_20_market  \n",
       "0                       0  "
      ]
     },
     "execution_count": 4,
     "metadata": {},
     "output_type": "execute_result"
    }
   ],
   "source": [
    "# we are looking at homes in Atlanta, where institutional activity is high, so we look for the name and the type of market. We can use state and location parameters to get the correct city\n",
    "results = client.search_markets.retrieve(\n",
    "    query='Atlanta',\n",
    "    location_type='CITY',\n",
    "    state_abbreviation='GA',\n",
    "    as_dataframe=True\n",
    ")\n",
    "\n",
    "results.head()"
   ]
  },
  {
   "cell_type": "code",
   "execution_count": 5,
   "id": "96dcb760-43b1-4dac-8025-85b1b5fdf343",
   "metadata": {},
   "outputs": [
    {
     "name": "stdout",
     "output_type": "stream",
     "text": [
      "In this analysis, we are studying: Atlanta City which has parcl id: 5384169. Saving graphics to: ./graphics\n"
     ]
    }
   ],
   "source": [
    "# we see that the the only result is the city of Atlanta, so we will use the parcl id of 5384169\n",
    "analysis_parcl_id = results.iloc[0]['parcl_id']\n",
    "name = results.iloc[0]['name']\n",
    "\n",
    "# set default save directory\n",
    "save_dir = './graphics'\n",
    "new_dir_name = f\"{analysis_parcl_id}-{name}-{datetime.today().date()}\"\n",
    "output_dir = os.path.join(save_dir, new_dir_name)\n",
    "\n",
    "if not os.path.exists(output_dir):\n",
    "    os.makedirs(output_dir)\n",
    "\n",
    "print(f\"In this analysis, we are studying: {name} which has parcl id: {analysis_parcl_id}. Saving graphics to: {save_dir}\")"
   ]
  },
  {
   "cell_type": "markdown",
   "id": "9f98b170-8778-4f70-bc36-d0d37af5bcab",
   "metadata": {},
   "source": [
    "<a id='metrics'></a>\n",
    "#### Rental Metrics\n",
    "\n",
    "Let's start off this analysis by pulling in gross yields and median monthly rents for Atlanta, and then joining together the dataframes for analysis."
   ]
  },
  {
   "cell_type": "code",
   "execution_count": 6,
   "id": "bc08008a-0465-47e0-8f89-9d39f1558279",
   "metadata": {},
   "outputs": [
    {
     "data": {
      "text/html": [
       "<div>\n",
       "<style scoped>\n",
       "    .dataframe tbody tr th:only-of-type {\n",
       "        vertical-align: middle;\n",
       "    }\n",
       "\n",
       "    .dataframe tbody tr th {\n",
       "        vertical-align: top;\n",
       "    }\n",
       "\n",
       "    .dataframe thead th {\n",
       "        text-align: right;\n",
       "    }\n",
       "</style>\n",
       "<table border=\"1\" class=\"dataframe\">\n",
       "  <thead>\n",
       "    <tr style=\"text-align: right;\">\n",
       "      <th></th>\n",
       "      <th>date</th>\n",
       "      <th>pct_gross_yield</th>\n",
       "      <th>parcl_id</th>\n",
       "    </tr>\n",
       "  </thead>\n",
       "  <tbody>\n",
       "    <tr>\n",
       "      <th>0</th>\n",
       "      <td>2024-03-01</td>\n",
       "      <td>5.44</td>\n",
       "      <td>5384169</td>\n",
       "    </tr>\n",
       "    <tr>\n",
       "      <th>1</th>\n",
       "      <td>2024-02-01</td>\n",
       "      <td>5.49</td>\n",
       "      <td>5384169</td>\n",
       "    </tr>\n",
       "    <tr>\n",
       "      <th>2</th>\n",
       "      <td>2024-01-01</td>\n",
       "      <td>5.87</td>\n",
       "      <td>5384169</td>\n",
       "    </tr>\n",
       "    <tr>\n",
       "      <th>3</th>\n",
       "      <td>2023-12-01</td>\n",
       "      <td>5.68</td>\n",
       "      <td>5384169</td>\n",
       "    </tr>\n",
       "    <tr>\n",
       "      <th>4</th>\n",
       "      <td>2023-11-01</td>\n",
       "      <td>5.76</td>\n",
       "      <td>5384169</td>\n",
       "    </tr>\n",
       "  </tbody>\n",
       "</table>\n",
       "</div>"
      ],
      "text/plain": [
       "         date  pct_gross_yield  parcl_id\n",
       "0  2024-03-01             5.44   5384169\n",
       "1  2024-02-01             5.49   5384169\n",
       "2  2024-01-01             5.87   5384169\n",
       "3  2023-12-01             5.68   5384169\n",
       "4  2023-11-01             5.76   5384169"
      ]
     },
     "execution_count": 6,
     "metadata": {},
     "output_type": "execute_result"
    }
   ],
   "source": [
    "# we call the specific groos yield endpoint, specifying our parcl id and ALL_PROPERTIES property type\n",
    "gross_yield = client.rental_market_metrics_gross_yield.retrieve(\n",
    "    parcl_id=analysis_parcl_id,\n",
    "    property_type='ALL_PROPERTIES',\n",
    "    params={\n",
    "        'limit': 100\n",
    "    },\n",
    "    as_dataframe=True # set to true to default to a pandas dataframe for easier manipulation\n",
    ")\n",
    "\n",
    "gross_yield.head()"
   ]
  },
  {
   "cell_type": "code",
   "execution_count": 7,
   "id": "508f0a85",
   "metadata": {},
   "outputs": [
    {
     "data": {
      "text/html": [
       "<div>\n",
       "<style scoped>\n",
       "    .dataframe tbody tr th:only-of-type {\n",
       "        vertical-align: middle;\n",
       "    }\n",
       "\n",
       "    .dataframe tbody tr th {\n",
       "        vertical-align: top;\n",
       "    }\n",
       "\n",
       "    .dataframe thead th {\n",
       "        text-align: right;\n",
       "    }\n",
       "</style>\n",
       "<table border=\"1\" class=\"dataframe\">\n",
       "  <thead>\n",
       "    <tr style=\"text-align: right;\">\n",
       "      <th></th>\n",
       "      <th>date</th>\n",
       "      <th>price_median_sales</th>\n",
       "      <th>price_median_new_listings_for_sale</th>\n",
       "      <th>price_median_new_rental_listings</th>\n",
       "      <th>price_standard_deviation_sales</th>\n",
       "      <th>price_standard_deviation_new_listings_for_sale</th>\n",
       "      <th>price_standard_deviation_new_rental_listings</th>\n",
       "      <th>price_percentile_20th_sales</th>\n",
       "      <th>price_percentile_20th_new_listings_for_sale</th>\n",
       "      <th>price_percentile_20th_new_rental_listings</th>\n",
       "      <th>...</th>\n",
       "      <th>price_per_square_foot_standard_deviation_sales</th>\n",
       "      <th>price_per_square_foot_standard_deviation_new_listings_for_sale</th>\n",
       "      <th>price_per_square_foot_standard_deviation_new_rental_listings</th>\n",
       "      <th>price_per_square_foot_percentile_20th_sales</th>\n",
       "      <th>price_per_square_foot_percentile_20th_new_listings_for_sale</th>\n",
       "      <th>price_per_square_foot_percentile_20th_new_rental_listings</th>\n",
       "      <th>price_per_square_foot_percentile_80th_sales</th>\n",
       "      <th>price_per_square_foot_percentile_80th_new_listings_for_sale</th>\n",
       "      <th>price_per_square_foot_percentile_80th_new_rental_listings</th>\n",
       "      <th>parcl_id</th>\n",
       "    </tr>\n",
       "  </thead>\n",
       "  <tbody>\n",
       "    <tr>\n",
       "      <th>0</th>\n",
       "      <td>2024-03-01</td>\n",
       "      <td>400000</td>\n",
       "      <td>430000</td>\n",
       "      <td>1950</td>\n",
       "      <td>136221</td>\n",
       "      <td>145464</td>\n",
       "      <td>283</td>\n",
       "      <td>300000</td>\n",
       "      <td>335000</td>\n",
       "      <td>1715</td>\n",
       "      <td>...</td>\n",
       "      <td>91.74</td>\n",
       "      <td>98.22</td>\n",
       "      <td>0.58</td>\n",
       "      <td>216.29</td>\n",
       "      <td>220.35</td>\n",
       "      <td>1.76</td>\n",
       "      <td>375.27</td>\n",
       "      <td>390.13</td>\n",
       "      <td>2.81</td>\n",
       "      <td>5384169</td>\n",
       "    </tr>\n",
       "    <tr>\n",
       "      <th>1</th>\n",
       "      <td>2024-02-01</td>\n",
       "      <td>415000</td>\n",
       "      <td>415000</td>\n",
       "      <td>1900</td>\n",
       "      <td>142904</td>\n",
       "      <td>133026</td>\n",
       "      <td>289</td>\n",
       "      <td>304192</td>\n",
       "      <td>325000</td>\n",
       "      <td>1674</td>\n",
       "      <td>...</td>\n",
       "      <td>100.30</td>\n",
       "      <td>93.77</td>\n",
       "      <td>0.58</td>\n",
       "      <td>215.18</td>\n",
       "      <td>219.60</td>\n",
       "      <td>1.80</td>\n",
       "      <td>382.02</td>\n",
       "      <td>389.16</td>\n",
       "      <td>2.75</td>\n",
       "      <td>5384169</td>\n",
       "    </tr>\n",
       "    <tr>\n",
       "      <th>2</th>\n",
       "      <td>2024-01-01</td>\n",
       "      <td>340000</td>\n",
       "      <td>400000</td>\n",
       "      <td>1956</td>\n",
       "      <td>126643</td>\n",
       "      <td>117344</td>\n",
       "      <td>316</td>\n",
       "      <td>250000</td>\n",
       "      <td>317899</td>\n",
       "      <td>1715</td>\n",
       "      <td>...</td>\n",
       "      <td>99.76</td>\n",
       "      <td>93.97</td>\n",
       "      <td>0.64</td>\n",
       "      <td>185.71</td>\n",
       "      <td>212.84</td>\n",
       "      <td>1.80</td>\n",
       "      <td>352.10</td>\n",
       "      <td>374.26</td>\n",
       "      <td>2.85</td>\n",
       "      <td>5384169</td>\n",
       "    </tr>\n",
       "    <tr>\n",
       "      <th>3</th>\n",
       "      <td>2023-12-01</td>\n",
       "      <td>385000</td>\n",
       "      <td>399000</td>\n",
       "      <td>1890</td>\n",
       "      <td>133339</td>\n",
       "      <td>114420</td>\n",
       "      <td>303</td>\n",
       "      <td>282182</td>\n",
       "      <td>315800</td>\n",
       "      <td>1650</td>\n",
       "      <td>...</td>\n",
       "      <td>103.42</td>\n",
       "      <td>91.26</td>\n",
       "      <td>0.62</td>\n",
       "      <td>194.13</td>\n",
       "      <td>196.43</td>\n",
       "      <td>1.76</td>\n",
       "      <td>379.27</td>\n",
       "      <td>356.19</td>\n",
       "      <td>2.81</td>\n",
       "      <td>5384169</td>\n",
       "    </tr>\n",
       "    <tr>\n",
       "      <th>4</th>\n",
       "      <td>2023-11-01</td>\n",
       "      <td>370000</td>\n",
       "      <td>399000</td>\n",
       "      <td>1916</td>\n",
       "      <td>138808</td>\n",
       "      <td>116426</td>\n",
       "      <td>311</td>\n",
       "      <td>279240</td>\n",
       "      <td>319900</td>\n",
       "      <td>1675</td>\n",
       "      <td>...</td>\n",
       "      <td>98.19</td>\n",
       "      <td>98.49</td>\n",
       "      <td>0.64</td>\n",
       "      <td>200.47</td>\n",
       "      <td>212.01</td>\n",
       "      <td>1.77</td>\n",
       "      <td>372.20</td>\n",
       "      <td>373.49</td>\n",
       "      <td>2.82</td>\n",
       "      <td>5384169</td>\n",
       "    </tr>\n",
       "  </tbody>\n",
       "</table>\n",
       "<p>5 rows × 26 columns</p>\n",
       "</div>"
      ],
      "text/plain": [
       "         date  price_median_sales  price_median_new_listings_for_sale  \\\n",
       "0  2024-03-01              400000                              430000   \n",
       "1  2024-02-01              415000                              415000   \n",
       "2  2024-01-01              340000                              400000   \n",
       "3  2023-12-01              385000                              399000   \n",
       "4  2023-11-01              370000                              399000   \n",
       "\n",
       "   price_median_new_rental_listings  price_standard_deviation_sales  \\\n",
       "0                              1950                          136221   \n",
       "1                              1900                          142904   \n",
       "2                              1956                          126643   \n",
       "3                              1890                          133339   \n",
       "4                              1916                          138808   \n",
       "\n",
       "   price_standard_deviation_new_listings_for_sale  \\\n",
       "0                                          145464   \n",
       "1                                          133026   \n",
       "2                                          117344   \n",
       "3                                          114420   \n",
       "4                                          116426   \n",
       "\n",
       "   price_standard_deviation_new_rental_listings  price_percentile_20th_sales  \\\n",
       "0                                           283                       300000   \n",
       "1                                           289                       304192   \n",
       "2                                           316                       250000   \n",
       "3                                           303                       282182   \n",
       "4                                           311                       279240   \n",
       "\n",
       "   price_percentile_20th_new_listings_for_sale  \\\n",
       "0                                       335000   \n",
       "1                                       325000   \n",
       "2                                       317899   \n",
       "3                                       315800   \n",
       "4                                       319900   \n",
       "\n",
       "   price_percentile_20th_new_rental_listings  ...  \\\n",
       "0                                       1715  ...   \n",
       "1                                       1674  ...   \n",
       "2                                       1715  ...   \n",
       "3                                       1650  ...   \n",
       "4                                       1675  ...   \n",
       "\n",
       "   price_per_square_foot_standard_deviation_sales  \\\n",
       "0                                           91.74   \n",
       "1                                          100.30   \n",
       "2                                           99.76   \n",
       "3                                          103.42   \n",
       "4                                           98.19   \n",
       "\n",
       "   price_per_square_foot_standard_deviation_new_listings_for_sale  \\\n",
       "0                                              98.22                \n",
       "1                                              93.77                \n",
       "2                                              93.97                \n",
       "3                                              91.26                \n",
       "4                                              98.49                \n",
       "\n",
       "   price_per_square_foot_standard_deviation_new_rental_listings  \\\n",
       "0                                               0.58              \n",
       "1                                               0.58              \n",
       "2                                               0.64              \n",
       "3                                               0.62              \n",
       "4                                               0.64              \n",
       "\n",
       "   price_per_square_foot_percentile_20th_sales  \\\n",
       "0                                       216.29   \n",
       "1                                       215.18   \n",
       "2                                       185.71   \n",
       "3                                       194.13   \n",
       "4                                       200.47   \n",
       "\n",
       "   price_per_square_foot_percentile_20th_new_listings_for_sale  \\\n",
       "0                                             220.35             \n",
       "1                                             219.60             \n",
       "2                                             212.84             \n",
       "3                                             196.43             \n",
       "4                                             212.01             \n",
       "\n",
       "   price_per_square_foot_percentile_20th_new_rental_listings  \\\n",
       "0                                               1.76           \n",
       "1                                               1.80           \n",
       "2                                               1.80           \n",
       "3                                               1.76           \n",
       "4                                               1.77           \n",
       "\n",
       "   price_per_square_foot_percentile_80th_sales  \\\n",
       "0                                       375.27   \n",
       "1                                       382.02   \n",
       "2                                       352.10   \n",
       "3                                       379.27   \n",
       "4                                       372.20   \n",
       "\n",
       "   price_per_square_foot_percentile_80th_new_listings_for_sale  \\\n",
       "0                                             390.13             \n",
       "1                                             389.16             \n",
       "2                                             374.26             \n",
       "3                                             356.19             \n",
       "4                                             373.49             \n",
       "\n",
       "   price_per_square_foot_percentile_80th_new_rental_listings  parcl_id  \n",
       "0                                               2.81           5384169  \n",
       "1                                               2.75           5384169  \n",
       "2                                               2.85           5384169  \n",
       "3                                               2.81           5384169  \n",
       "4                                               2.82           5384169  \n",
       "\n",
       "[5 rows x 26 columns]"
      ]
     },
     "execution_count": 7,
     "metadata": {},
     "output_type": "execute_result"
    }
   ],
   "source": [
    "# Next we query the event prices in Atlanta over the same time frame for all property types. \n",
    "rental_prices = client.market_metrics_housing_event_prices.retrieve(\n",
    "    parcl_id=analysis_parcl_id,\n",
    "    property_type='ALL_PROPERTIES',\n",
    "    params={\n",
    "        'limit': 100\n",
    "    },\n",
    "    as_dataframe=True # set to true to default to a pandas dataframe for easier manipulation\n",
    ")\n",
    "\n",
    "rental_prices.head()"
   ]
  },
  {
   "cell_type": "code",
   "execution_count": 8,
   "id": "85bf1987",
   "metadata": {},
   "outputs": [
    {
     "data": {
      "text/html": [
       "<div>\n",
       "<style scoped>\n",
       "    .dataframe tbody tr th:only-of-type {\n",
       "        vertical-align: middle;\n",
       "    }\n",
       "\n",
       "    .dataframe tbody tr th {\n",
       "        vertical-align: top;\n",
       "    }\n",
       "\n",
       "    .dataframe thead th {\n",
       "        text-align: right;\n",
       "    }\n",
       "</style>\n",
       "<table border=\"1\" class=\"dataframe\">\n",
       "  <thead>\n",
       "    <tr style=\"text-align: right;\">\n",
       "      <th></th>\n",
       "      <th>date</th>\n",
       "      <th>pct_gross_yield</th>\n",
       "      <th>parcl_id</th>\n",
       "      <th>price_median_new_rental_listings</th>\n",
       "    </tr>\n",
       "  </thead>\n",
       "  <tbody>\n",
       "    <tr>\n",
       "      <th>0</th>\n",
       "      <td>2024-03-01</td>\n",
       "      <td>5.44</td>\n",
       "      <td>5384169</td>\n",
       "      <td>1950</td>\n",
       "    </tr>\n",
       "    <tr>\n",
       "      <th>1</th>\n",
       "      <td>2024-02-01</td>\n",
       "      <td>5.49</td>\n",
       "      <td>5384169</td>\n",
       "      <td>1900</td>\n",
       "    </tr>\n",
       "    <tr>\n",
       "      <th>2</th>\n",
       "      <td>2024-01-01</td>\n",
       "      <td>5.87</td>\n",
       "      <td>5384169</td>\n",
       "      <td>1956</td>\n",
       "    </tr>\n",
       "    <tr>\n",
       "      <th>3</th>\n",
       "      <td>2023-12-01</td>\n",
       "      <td>5.68</td>\n",
       "      <td>5384169</td>\n",
       "      <td>1890</td>\n",
       "    </tr>\n",
       "    <tr>\n",
       "      <th>4</th>\n",
       "      <td>2023-11-01</td>\n",
       "      <td>5.76</td>\n",
       "      <td>5384169</td>\n",
       "      <td>1916</td>\n",
       "    </tr>\n",
       "  </tbody>\n",
       "</table>\n",
       "</div>"
      ],
      "text/plain": [
       "         date  pct_gross_yield  parcl_id  price_median_new_rental_listings\n",
       "0  2024-03-01             5.44   5384169                              1950\n",
       "1  2024-02-01             5.49   5384169                              1900\n",
       "2  2024-01-01             5.87   5384169                              1956\n",
       "3  2023-12-01             5.68   5384169                              1890\n",
       "4  2023-11-01             5.76   5384169                              1916"
      ]
     },
     "execution_count": 8,
     "metadata": {},
     "output_type": "execute_result"
    }
   ],
   "source": [
    "#Next you can join the rental prices to the gross yield dataframe to have one clean df for analysis. Make sure to join on both parcl id and date\n",
    "\n",
    "gy_analysis = pd.merge(gross_yield, rental_prices[['parcl_id', 'date', 'price_median_new_rental_listings']], on=['parcl_id', 'date'])\n",
    "gy_analysis.head()"
   ]
  },
  {
   "cell_type": "markdown",
   "id": "8ae4ab6a-8f50-4223-bd30-aa2317fb590f",
   "metadata": {},
   "source": [
    "<a id='chart'></a>\n",
    "### Visualize the results for Analysis\n",
    "\n",
    "Let's review rental prices, and gross yields on the same chart to understand the relationship."
   ]
  },
  {
   "cell_type": "code",
   "execution_count": 9,
   "id": "df44bc92-0975-4cea-9c60-fee6dae00aa4",
   "metadata": {},
   "outputs": [],
   "source": [
    "# set some constants for the analysis, such as the logo for the chart, we have a white and blue version\n",
    "labs_logo_lookup = {\n",
    "    'blue': 'https://parcllabs-assets.s3.amazonaws.com/powered-by-parcllabs-api.png',\n",
    "    'white': 'https://parcllabs-assets.s3.amazonaws.com/powered-by-parcllabs-api-logo-white+(1).svg'\n",
    "}\n",
    "\n",
    "# set charting constants\n",
    "labs_logo_dict = dict(\n",
    "        source=labs_logo_lookup['white'],\n",
    "        xref=\"paper\",\n",
    "        yref=\"paper\",\n",
    "        x=0.5,  # Centering the logo below the title\n",
    "        y=1.02,  # Adjust this value to position the logo just below the title\n",
    "        sizex=0.15, \n",
    "        sizey=0.15,\n",
    "        xanchor=\"center\",\n",
    "        yanchor=\"bottom\"\n",
    ")\n",
    "\n",
    "# define image dimentions\n",
    "media_img_size_lookup = {\n",
    "    'X': {\n",
    "        'width': 1600,\n",
    "        'height': 900\n",
    "    }\n",
    "}\n",
    "\n",
    "# optimize the visual for the platform in this case X\n",
    "PLATFORM = 'X'\n",
    "\n",
    "# set image sizes\n",
    "IMG_WIDTH = media_img_size_lookup[PLATFORM]['width']\n",
    "IMG_HEIGHT = media_img_size_lookup[PLATFORM]['height']\n",
    "\n",
    "# plotting title settings\n",
    "PLOT_TITLE_SETTINGS = {\n",
    "        'text': 'Gross Yield and Median Rental Price for Atlanta',\n",
    "        'y':0.97,\n",
    "        'x':0.5,\n",
    "        'xanchor': 'center',\n",
    "        'yanchor': 'top'\n",
    "    }"
   ]
  },
  {
   "cell_type": "code",
   "execution_count": 10,
   "id": "76c45c55-b7e2-468c-9dc8-7b3b3fe57e8b",
   "metadata": {},
   "outputs": [
    {
     "data": {
      "application/vnd.plotly.v1+json": {
       "config": {
        "plotlyServerURL": "https://plotly.com"
       },
       "data": [
        {
         "line": {
          "color": "#448CF2",
          "width": 3
         },
         "marker": {
          "color": "#448CF2",
          "size": 5
         },
         "mode": "lines+markers",
         "name": "Gross Yield",
         "type": "scatter",
         "x": [
          "2024-03-01",
          "2024-02-01",
          "2024-01-01",
          "2023-12-01",
          "2023-11-01",
          "2023-10-01",
          "2023-09-01",
          "2023-08-01",
          "2023-07-01",
          "2023-06-01",
          "2023-05-01",
          "2023-04-01",
          "2023-03-01",
          "2023-02-01",
          "2023-01-01",
          "2022-12-01",
          "2022-11-01",
          "2022-10-01",
          "2022-09-01",
          "2022-08-01",
          "2022-07-01",
          "2022-06-01",
          "2022-05-01",
          "2022-04-01",
          "2022-03-01",
          "2022-02-01",
          "2022-01-01",
          "2021-12-01",
          "2021-11-01",
          "2021-10-01",
          "2021-09-01",
          "2021-08-01",
          "2021-07-01",
          "2021-06-01",
          "2021-05-01",
          "2021-04-01",
          "2021-03-01",
          "2021-02-01",
          "2021-01-01",
          "2020-12-01",
          "2020-11-01",
          "2020-10-01",
          "2020-09-01",
          "2020-08-01",
          "2020-07-01",
          "2020-06-01",
          "2020-05-01",
          "2020-04-01",
          "2020-03-01",
          "2020-02-01",
          "2020-01-01",
          "2019-12-01",
          "2019-11-01",
          "2019-10-01",
          "2019-09-01",
          "2019-08-01",
          "2019-07-01",
          "2019-06-01",
          "2019-05-01",
          "2019-04-01",
          "2019-03-01",
          "2019-02-01",
          "2019-01-01"
         ],
         "y": [
          5.44,
          5.49,
          5.87,
          5.68,
          5.76,
          5.59,
          5.4,
          5.97,
          5.75,
          6.02,
          5.69,
          6.2,
          6.11,
          6.22,
          6.17,
          6.88,
          6.88,
          6.15,
          6.16,
          6.55,
          6.32,
          6.26,
          6.06,
          6.5,
          6.53,
          6.88,
          7.12,
          7.74,
          7.18,
          7.05,
          7.04,
          7.4,
          7.59,
          6.99,
          6.48,
          6.25,
          6.74,
          5.76,
          6.92,
          6.91,
          7.41,
          5.85,
          7.27,
          6.4,
          6.74,
          6.12,
          6.17,
          6.39,
          7.21,
          7.95,
          7.3,
          8.03,
          8.14,
          8.03,
          8.82,
          7.62,
          7.98,
          7.87,
          7.49,
          7.63,
          6.55,
          7.5,
          8.18
         ]
        },
        {
         "line": {
          "color": "#FFFFFF",
          "width": 3
         },
         "marker": {
          "color": "#FFFFFF",
          "size": 5
         },
         "mode": "lines+markers",
         "name": "Median Rent",
         "type": "scatter",
         "x": [
          "2024-03-01",
          "2024-02-01",
          "2024-01-01",
          "2023-12-01",
          "2023-11-01",
          "2023-10-01",
          "2023-09-01",
          "2023-08-01",
          "2023-07-01",
          "2023-06-01",
          "2023-05-01",
          "2023-04-01",
          "2023-03-01",
          "2023-02-01",
          "2023-01-01",
          "2022-12-01",
          "2022-11-01",
          "2022-10-01",
          "2022-09-01",
          "2022-08-01",
          "2022-07-01",
          "2022-06-01",
          "2022-05-01",
          "2022-04-01",
          "2022-03-01",
          "2022-02-01",
          "2022-01-01",
          "2021-12-01",
          "2021-11-01",
          "2021-10-01",
          "2021-09-01",
          "2021-08-01",
          "2021-07-01",
          "2021-06-01",
          "2021-05-01",
          "2021-04-01",
          "2021-03-01",
          "2021-02-01",
          "2021-01-01",
          "2020-12-01",
          "2020-11-01",
          "2020-10-01",
          "2020-09-01",
          "2020-08-01",
          "2020-07-01",
          "2020-06-01",
          "2020-05-01",
          "2020-04-01",
          "2020-03-01",
          "2020-02-01",
          "2020-01-01",
          "2019-12-01",
          "2019-11-01",
          "2019-10-01",
          "2019-09-01",
          "2019-08-01",
          "2019-07-01",
          "2019-06-01",
          "2019-05-01",
          "2019-04-01",
          "2019-03-01",
          "2019-02-01",
          "2019-01-01"
         ],
         "y": [
          1950,
          1900,
          1956,
          1890,
          1916,
          1981,
          1980,
          2039,
          1990,
          2006,
          2035,
          2065,
          2035,
          2046,
          2055,
          2063,
          2179,
          2050,
          2182,
          2183,
          2212,
          2164,
          2095,
          2045,
          2025,
          1995,
          2018,
          2000,
          1992,
          2049,
          2050,
          2004,
          1993,
          1923,
          1890,
          1819,
          1768,
          1735,
          1730,
          1697,
          1699,
          1705,
          1800,
          1760,
          1781,
          1773,
          1800,
          1770,
          1800,
          1855,
          1825,
          1800,
          1830,
          1829,
          1800,
          1809,
          1795,
          1804,
          1780,
          1795,
          1800,
          1750,
          1805
         ],
         "yaxis": "y2"
        }
       ],
       "layout": {
        "font": {
         "color": "#FFFFFF"
        },
        "height": 900,
        "images": [
         {
          "sizex": 0.15,
          "sizey": 0.15,
          "source": "https://parcllabs-assets.s3.amazonaws.com/powered-by-parcllabs-api-logo-white+(1).svg",
          "x": 0.5,
          "xanchor": "center",
          "xref": "paper",
          "y": 1.02,
          "yanchor": "bottom",
          "yref": "paper"
         }
        ],
        "legend": {
         "title": {
          "text": "Gross Yield x Rental Price"
         },
         "traceorder": "normal",
         "x": 0.01,
         "xanchor": "left",
         "y": 0.99,
         "yanchor": "top"
        },
        "margin": {
         "b": 100
        },
        "paper_bgcolor": "#080D16",
        "plot_bgcolor": "#080D16",
        "template": {
         "data": {
          "bar": [
           {
            "error_x": {
             "color": "#2a3f5f"
            },
            "error_y": {
             "color": "#2a3f5f"
            },
            "marker": {
             "line": {
              "color": "#E5ECF6",
              "width": 0.5
             },
             "pattern": {
              "fillmode": "overlay",
              "size": 10,
              "solidity": 0.2
             }
            },
            "type": "bar"
           }
          ],
          "barpolar": [
           {
            "marker": {
             "line": {
              "color": "#E5ECF6",
              "width": 0.5
             },
             "pattern": {
              "fillmode": "overlay",
              "size": 10,
              "solidity": 0.2
             }
            },
            "type": "barpolar"
           }
          ],
          "carpet": [
           {
            "aaxis": {
             "endlinecolor": "#2a3f5f",
             "gridcolor": "white",
             "linecolor": "white",
             "minorgridcolor": "white",
             "startlinecolor": "#2a3f5f"
            },
            "baxis": {
             "endlinecolor": "#2a3f5f",
             "gridcolor": "white",
             "linecolor": "white",
             "minorgridcolor": "white",
             "startlinecolor": "#2a3f5f"
            },
            "type": "carpet"
           }
          ],
          "choropleth": [
           {
            "colorbar": {
             "outlinewidth": 0,
             "ticks": ""
            },
            "type": "choropleth"
           }
          ],
          "contour": [
           {
            "colorbar": {
             "outlinewidth": 0,
             "ticks": ""
            },
            "colorscale": [
             [
              0,
              "#0d0887"
             ],
             [
              0.1111111111111111,
              "#46039f"
             ],
             [
              0.2222222222222222,
              "#7201a8"
             ],
             [
              0.3333333333333333,
              "#9c179e"
             ],
             [
              0.4444444444444444,
              "#bd3786"
             ],
             [
              0.5555555555555556,
              "#d8576b"
             ],
             [
              0.6666666666666666,
              "#ed7953"
             ],
             [
              0.7777777777777778,
              "#fb9f3a"
             ],
             [
              0.8888888888888888,
              "#fdca26"
             ],
             [
              1,
              "#f0f921"
             ]
            ],
            "type": "contour"
           }
          ],
          "contourcarpet": [
           {
            "colorbar": {
             "outlinewidth": 0,
             "ticks": ""
            },
            "type": "contourcarpet"
           }
          ],
          "heatmap": [
           {
            "colorbar": {
             "outlinewidth": 0,
             "ticks": ""
            },
            "colorscale": [
             [
              0,
              "#0d0887"
             ],
             [
              0.1111111111111111,
              "#46039f"
             ],
             [
              0.2222222222222222,
              "#7201a8"
             ],
             [
              0.3333333333333333,
              "#9c179e"
             ],
             [
              0.4444444444444444,
              "#bd3786"
             ],
             [
              0.5555555555555556,
              "#d8576b"
             ],
             [
              0.6666666666666666,
              "#ed7953"
             ],
             [
              0.7777777777777778,
              "#fb9f3a"
             ],
             [
              0.8888888888888888,
              "#fdca26"
             ],
             [
              1,
              "#f0f921"
             ]
            ],
            "type": "heatmap"
           }
          ],
          "heatmapgl": [
           {
            "colorbar": {
             "outlinewidth": 0,
             "ticks": ""
            },
            "colorscale": [
             [
              0,
              "#0d0887"
             ],
             [
              0.1111111111111111,
              "#46039f"
             ],
             [
              0.2222222222222222,
              "#7201a8"
             ],
             [
              0.3333333333333333,
              "#9c179e"
             ],
             [
              0.4444444444444444,
              "#bd3786"
             ],
             [
              0.5555555555555556,
              "#d8576b"
             ],
             [
              0.6666666666666666,
              "#ed7953"
             ],
             [
              0.7777777777777778,
              "#fb9f3a"
             ],
             [
              0.8888888888888888,
              "#fdca26"
             ],
             [
              1,
              "#f0f921"
             ]
            ],
            "type": "heatmapgl"
           }
          ],
          "histogram": [
           {
            "marker": {
             "pattern": {
              "fillmode": "overlay",
              "size": 10,
              "solidity": 0.2
             }
            },
            "type": "histogram"
           }
          ],
          "histogram2d": [
           {
            "colorbar": {
             "outlinewidth": 0,
             "ticks": ""
            },
            "colorscale": [
             [
              0,
              "#0d0887"
             ],
             [
              0.1111111111111111,
              "#46039f"
             ],
             [
              0.2222222222222222,
              "#7201a8"
             ],
             [
              0.3333333333333333,
              "#9c179e"
             ],
             [
              0.4444444444444444,
              "#bd3786"
             ],
             [
              0.5555555555555556,
              "#d8576b"
             ],
             [
              0.6666666666666666,
              "#ed7953"
             ],
             [
              0.7777777777777778,
              "#fb9f3a"
             ],
             [
              0.8888888888888888,
              "#fdca26"
             ],
             [
              1,
              "#f0f921"
             ]
            ],
            "type": "histogram2d"
           }
          ],
          "histogram2dcontour": [
           {
            "colorbar": {
             "outlinewidth": 0,
             "ticks": ""
            },
            "colorscale": [
             [
              0,
              "#0d0887"
             ],
             [
              0.1111111111111111,
              "#46039f"
             ],
             [
              0.2222222222222222,
              "#7201a8"
             ],
             [
              0.3333333333333333,
              "#9c179e"
             ],
             [
              0.4444444444444444,
              "#bd3786"
             ],
             [
              0.5555555555555556,
              "#d8576b"
             ],
             [
              0.6666666666666666,
              "#ed7953"
             ],
             [
              0.7777777777777778,
              "#fb9f3a"
             ],
             [
              0.8888888888888888,
              "#fdca26"
             ],
             [
              1,
              "#f0f921"
             ]
            ],
            "type": "histogram2dcontour"
           }
          ],
          "mesh3d": [
           {
            "colorbar": {
             "outlinewidth": 0,
             "ticks": ""
            },
            "type": "mesh3d"
           }
          ],
          "parcoords": [
           {
            "line": {
             "colorbar": {
              "outlinewidth": 0,
              "ticks": ""
             }
            },
            "type": "parcoords"
           }
          ],
          "pie": [
           {
            "automargin": true,
            "type": "pie"
           }
          ],
          "scatter": [
           {
            "fillpattern": {
             "fillmode": "overlay",
             "size": 10,
             "solidity": 0.2
            },
            "type": "scatter"
           }
          ],
          "scatter3d": [
           {
            "line": {
             "colorbar": {
              "outlinewidth": 0,
              "ticks": ""
             }
            },
            "marker": {
             "colorbar": {
              "outlinewidth": 0,
              "ticks": ""
             }
            },
            "type": "scatter3d"
           }
          ],
          "scattercarpet": [
           {
            "marker": {
             "colorbar": {
              "outlinewidth": 0,
              "ticks": ""
             }
            },
            "type": "scattercarpet"
           }
          ],
          "scattergeo": [
           {
            "marker": {
             "colorbar": {
              "outlinewidth": 0,
              "ticks": ""
             }
            },
            "type": "scattergeo"
           }
          ],
          "scattergl": [
           {
            "marker": {
             "colorbar": {
              "outlinewidth": 0,
              "ticks": ""
             }
            },
            "type": "scattergl"
           }
          ],
          "scattermapbox": [
           {
            "marker": {
             "colorbar": {
              "outlinewidth": 0,
              "ticks": ""
             }
            },
            "type": "scattermapbox"
           }
          ],
          "scatterpolar": [
           {
            "marker": {
             "colorbar": {
              "outlinewidth": 0,
              "ticks": ""
             }
            },
            "type": "scatterpolar"
           }
          ],
          "scatterpolargl": [
           {
            "marker": {
             "colorbar": {
              "outlinewidth": 0,
              "ticks": ""
             }
            },
            "type": "scatterpolargl"
           }
          ],
          "scatterternary": [
           {
            "marker": {
             "colorbar": {
              "outlinewidth": 0,
              "ticks": ""
             }
            },
            "type": "scatterternary"
           }
          ],
          "surface": [
           {
            "colorbar": {
             "outlinewidth": 0,
             "ticks": ""
            },
            "colorscale": [
             [
              0,
              "#0d0887"
             ],
             [
              0.1111111111111111,
              "#46039f"
             ],
             [
              0.2222222222222222,
              "#7201a8"
             ],
             [
              0.3333333333333333,
              "#9c179e"
             ],
             [
              0.4444444444444444,
              "#bd3786"
             ],
             [
              0.5555555555555556,
              "#d8576b"
             ],
             [
              0.6666666666666666,
              "#ed7953"
             ],
             [
              0.7777777777777778,
              "#fb9f3a"
             ],
             [
              0.8888888888888888,
              "#fdca26"
             ],
             [
              1,
              "#f0f921"
             ]
            ],
            "type": "surface"
           }
          ],
          "table": [
           {
            "cells": {
             "fill": {
              "color": "#EBF0F8"
             },
             "line": {
              "color": "white"
             }
            },
            "header": {
             "fill": {
              "color": "#C8D4E3"
             },
             "line": {
              "color": "white"
             }
            },
            "type": "table"
           }
          ]
         },
         "layout": {
          "annotationdefaults": {
           "arrowcolor": "#2a3f5f",
           "arrowhead": 0,
           "arrowwidth": 1
          },
          "autotypenumbers": "strict",
          "coloraxis": {
           "colorbar": {
            "outlinewidth": 0,
            "ticks": ""
           }
          },
          "colorscale": {
           "diverging": [
            [
             0,
             "#8e0152"
            ],
            [
             0.1,
             "#c51b7d"
            ],
            [
             0.2,
             "#de77ae"
            ],
            [
             0.3,
             "#f1b6da"
            ],
            [
             0.4,
             "#fde0ef"
            ],
            [
             0.5,
             "#f7f7f7"
            ],
            [
             0.6,
             "#e6f5d0"
            ],
            [
             0.7,
             "#b8e186"
            ],
            [
             0.8,
             "#7fbc41"
            ],
            [
             0.9,
             "#4d9221"
            ],
            [
             1,
             "#276419"
            ]
           ],
           "sequential": [
            [
             0,
             "#0d0887"
            ],
            [
             0.1111111111111111,
             "#46039f"
            ],
            [
             0.2222222222222222,
             "#7201a8"
            ],
            [
             0.3333333333333333,
             "#9c179e"
            ],
            [
             0.4444444444444444,
             "#bd3786"
            ],
            [
             0.5555555555555556,
             "#d8576b"
            ],
            [
             0.6666666666666666,
             "#ed7953"
            ],
            [
             0.7777777777777778,
             "#fb9f3a"
            ],
            [
             0.8888888888888888,
             "#fdca26"
            ],
            [
             1,
             "#f0f921"
            ]
           ],
           "sequentialminus": [
            [
             0,
             "#0d0887"
            ],
            [
             0.1111111111111111,
             "#46039f"
            ],
            [
             0.2222222222222222,
             "#7201a8"
            ],
            [
             0.3333333333333333,
             "#9c179e"
            ],
            [
             0.4444444444444444,
             "#bd3786"
            ],
            [
             0.5555555555555556,
             "#d8576b"
            ],
            [
             0.6666666666666666,
             "#ed7953"
            ],
            [
             0.7777777777777778,
             "#fb9f3a"
            ],
            [
             0.8888888888888888,
             "#fdca26"
            ],
            [
             1,
             "#f0f921"
            ]
           ]
          },
          "colorway": [
           "#636efa",
           "#EF553B",
           "#00cc96",
           "#ab63fa",
           "#FFA15A",
           "#19d3f3",
           "#FF6692",
           "#B6E880",
           "#FF97FF",
           "#FECB52"
          ],
          "font": {
           "color": "#2a3f5f"
          },
          "geo": {
           "bgcolor": "white",
           "lakecolor": "white",
           "landcolor": "#E5ECF6",
           "showlakes": true,
           "showland": true,
           "subunitcolor": "white"
          },
          "hoverlabel": {
           "align": "left"
          },
          "hovermode": "closest",
          "mapbox": {
           "style": "light"
          },
          "paper_bgcolor": "white",
          "plot_bgcolor": "#E5ECF6",
          "polar": {
           "angularaxis": {
            "gridcolor": "white",
            "linecolor": "white",
            "ticks": ""
           },
           "bgcolor": "#E5ECF6",
           "radialaxis": {
            "gridcolor": "white",
            "linecolor": "white",
            "ticks": ""
           }
          },
          "scene": {
           "xaxis": {
            "backgroundcolor": "#E5ECF6",
            "gridcolor": "white",
            "gridwidth": 2,
            "linecolor": "white",
            "showbackground": true,
            "ticks": "",
            "zerolinecolor": "white"
           },
           "yaxis": {
            "backgroundcolor": "#E5ECF6",
            "gridcolor": "white",
            "gridwidth": 2,
            "linecolor": "white",
            "showbackground": true,
            "ticks": "",
            "zerolinecolor": "white"
           },
           "zaxis": {
            "backgroundcolor": "#E5ECF6",
            "gridcolor": "white",
            "gridwidth": 2,
            "linecolor": "white",
            "showbackground": true,
            "ticks": "",
            "zerolinecolor": "white"
           }
          },
          "shapedefaults": {
           "line": {
            "color": "#2a3f5f"
           }
          },
          "ternary": {
           "aaxis": {
            "gridcolor": "white",
            "linecolor": "white",
            "ticks": ""
           },
           "baxis": {
            "gridcolor": "white",
            "linecolor": "white",
            "ticks": ""
           },
           "bgcolor": "#E5ECF6",
           "caxis": {
            "gridcolor": "white",
            "linecolor": "white",
            "ticks": ""
           }
          },
          "title": {
           "x": 0.05
          },
          "xaxis": {
           "automargin": true,
           "gridcolor": "white",
           "linecolor": "white",
           "ticks": "",
           "title": {
            "standoff": 15
           },
           "zerolinecolor": "white",
           "zerolinewidth": 2
          },
          "yaxis": {
           "automargin": true,
           "gridcolor": "white",
           "linecolor": "white",
           "ticks": "",
           "title": {
            "standoff": 15
           },
           "zerolinecolor": "white",
           "zerolinewidth": 2
          }
         }
        },
        "title": {
         "text": "Gross Yield and Median Rental Price for Atlanta",
         "x": 0.5,
         "xanchor": "center",
         "y": 0.97,
         "yanchor": "top"
        },
        "width": 1600,
        "xaxis": {
         "gridcolor": "LightGrey",
         "gridwidth": 1,
         "showgrid": true,
         "title": {
          "text": "Date"
         }
        },
        "yaxis": {
         "showgrid": false,
         "side": "left",
         "title": {
          "text": "Gross Yield (%)"
         }
        },
        "yaxis2": {
         "anchor": "x",
         "overlaying": "y",
         "showgrid": false,
         "side": "right",
         "tickformat": ",.0f",
         "title": {
          "text": "Median Rental Price ($)"
         }
        }
       }
      }
     },
     "metadata": {},
     "output_type": "display_data"
    }
   ],
   "source": [
    "# Create figure with secondary y-axis\n",
    "fig = go.Figure()\n",
    "\n",
    "# Add the first line\n",
    "fig.add_trace(\n",
    "    go.Scatter(\n",
    "    x = gy_analysis['date'],\n",
    "    y = gy_analysis['pct_gross_yield'],\n",
    "    name='Gross Yield',\n",
    "    line=dict(color='#448CF2', width=3),\n",
    "    mode='lines+markers',\n",
    "    marker=dict(color='#448CF2', size=5)\n",
    "    ),\n",
    ")\n",
    "\n",
    "# Add the second line\n",
    "fig.add_trace(\n",
    "    go.Scatter(\n",
    "    x = gy_analysis['date'],\n",
    "    y = gy_analysis['price_median_new_rental_listings'],\n",
    "    name='Median Rent',\n",
    "    line=dict(color='#FFFFFF', width=3),\n",
    "    mode='lines+markers',\n",
    "    marker=dict(color='#FFFFFF', size=5),\n",
    "    yaxis=\"y2\"\n",
    "    ),\n",
    ")\n",
    "\n",
    "# Add the logo as a layout_image\n",
    "fig.add_layout_image(\n",
    "    labs_logo_dict\n",
    ")\n",
    "\n",
    "# format our figure\n",
    "fig.update_layout(\n",
    "    xaxis=dict(title='Date'),\n",
    "    yaxis=dict(title='Gross Yield (%)', side='left', showgrid=False),\n",
    "    yaxis2=dict(title='Median Rental Price ($)', side='right', overlaying='y', showgrid=False, anchor=\"x\", tickformat=',.0f'),\n",
    "    margin=dict(b=100),\n",
    "    width=IMG_WIDTH,\n",
    "    height=IMG_HEIGHT,\n",
    "    legend=dict(\n",
    "        x=0.01,\n",
    "        y=0.99,\n",
    "        traceorder=\"normal\",\n",
    "        xanchor='left',\n",
    "        yanchor='top',\n",
    "        title='Gross Yield x Rental Price'\n",
    "    ),\n",
    "    title=PLOT_TITLE_SETTINGS,\n",
    "    plot_bgcolor='#080D16',\n",
    "    paper_bgcolor='#080D16',\n",
    "    font=dict(color='#FFFFFF'),\n",
    ")\n",
    "\n",
    "# Adding gridlines\n",
    "fig.update_xaxes(showgrid=True, gridwidth=1, gridcolor='LightGrey')\n",
    "\n",
    "# save fig\n",
    "fig.write_image(os.path.join(output_dir, 'gross_yield_and_rent_price.png'), width=IMG_WIDTH, height=IMG_HEIGHT)\n",
    "# Show the plot\n",
    "fig.show()"
   ]
  },
  {
   "cell_type": "markdown",
   "id": "9b636f98",
   "metadata": {},
   "source": [
    " We can see that in the second half of 2020 and through 2021 median rents in the city skyrocketed and have since maintained a new normal. Additional gross yields remained high through 2021. Since then, however, gross yields have consistently declined, although still maintaining higher than 5% returns for owners, while rents have remained high - likely due to the rising price of homes for sale."
   ]
  }
 ],
 "metadata": {
  "kernelspec": {
   "display_name": "parcllabs-env",
   "language": "python",
   "name": "python3"
  },
  "language_info": {
   "codemirror_mode": {
    "name": "ipython",
    "version": 3
   },
   "file_extension": ".py",
   "mimetype": "text/x-python",
   "name": "python",
   "nbconvert_exporter": "python",
   "pygments_lexer": "ipython3",
   "version": "3.9.16"
  }
 },
 "nbformat": 4,
 "nbformat_minor": 5
}
