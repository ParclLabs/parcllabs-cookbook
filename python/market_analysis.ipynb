{
 "cells": [
  {
   "cell_type": "markdown",
   "id": "00775985-42bd-4ebc-87d6-6a8abbe0035a",
   "metadata": {},
   "source": [
    "# Welcome to the Lab 🥼🧪\n",
    "\n",
    "## Market Analysis \n",
    "\n",
    "Let's do a deep dive on one specific market, your choice. \n",
    "\n",
    "Let's get into the lab and take a peak at whats going on. \n",
    "\n",
    "**Note** This notebook will work with any of the 70k+ markets supported by the Parcl Labs API.\n",
    "\n",
    "As a reminder, you can get your Parcl Labs API key [here](https://dashboard.parcllabs.com/signup) to follow along. \n",
    "\n",
    "To run this immediately, you can use Google Colab. Remember, you must set your `PARCL_LABS_API_KEY` as a secret. See this [guide](https://medium.com/@parthdasawant/how-to-use-secrets-in-google-colab-450c38e3ec75) for more information.\n",
    "\n",
    "[![Open in Colab](https://colab.research.google.com/assets/colab-badge.svg)](https://colab.research.google.com/github/ParclLabs/parcllabs-examples/blob/main/python/market_analysis.ipynb)\n",
    "\n",
    "## Table of Contents\n",
    "\n",
    "### [Market Overview](#market)\n",
    "- Housing Stock/Mix Analysis\n",
    "- Percent of Overall Market Owned by Investors\n",
    "- Market Overview: Percent of all units that are rentals\n",
    "- Who owns the homes? Size of investors in the market\n",
    "\n",
    "### [Listing Overview](#listings)\n",
    "- New listings analysis\n",
    "- Of listings, what share do investors account for?\n",
    "\n",
    "### [Prices Overview](#prices)\n",
    "- Rental Prices\n",
    "- New Listing for Sale Prices\n",
    "- Purchase Prices\n",
    "\n",
    "We will be creating charts like this: \n",
    "\n",
    "![Chart1](assets/purchase_price_vs_list_price.png)\n",
    "![Chart2](assets/rental_listing_price.png)\n",
    "![Chart3](assets/single_family_homes_percentage.png)"
   ]
  },
  {
   "cell_type": "code",
   "execution_count": 10,
   "id": "cd87dd1d-b6d0-491c-922a-88e9a75cdb49",
   "metadata": {},
   "outputs": [],
   "source": [
    "# Environment setup\n",
    "import os\n",
    "import sys\n",
    "import subprocess\n",
    "from datetime import datetime\n",
    "\n",
    "# Collab setup from one click above\n",
    "if \"google.colab\" in sys.modules:\n",
    "    from google.colab import userdata\n",
    "    %pip install parcllabs plotly kaleido\n",
    "    api_key = userdata.get('PARCL_LABS_API_KEY')\n",
    "else:\n",
    "    api_key = os.getenv('PARCL_LABS_API_KEY')"
   ]
  },
  {
   "cell_type": "code",
   "execution_count": 11,
   "id": "bd6635c6-8cd8-446c-a4a4-d0497550e2bf",
   "metadata": {},
   "outputs": [
    {
     "name": "stdout",
     "output_type": "stream",
     "text": [
      "Parcl Labs Version: 0.1.16\n"
     ]
    }
   ],
   "source": [
    "import parcllabs\n",
    "import pandas as pd\n",
    "import plotly.express as px\n",
    "from parcllabs import ParclLabsClient\n",
    "\n",
    "print(f\"Parcl Labs Version: {parcllabs.__version__}\")"
   ]
  },
  {
   "cell_type": "code",
   "execution_count": 37,
   "id": "19dbcf0d-717d-4a9b-acee-82006e1f6f20",
   "metadata": {},
   "outputs": [],
   "source": [
    "client = ParclLabsClient(api_key=api_key)"
   ]
  },
  {
   "cell_type": "code",
   "execution_count": 38,
   "id": "79f8e9fc-73e0-4c53-88ff-1fdd92b95849",
   "metadata": {},
   "outputs": [
    {
     "data": {
      "text/html": [
       "<div>\n",
       "<style scoped>\n",
       "    .dataframe tbody tr th:only-of-type {\n",
       "        vertical-align: middle;\n",
       "    }\n",
       "\n",
       "    .dataframe tbody tr th {\n",
       "        vertical-align: top;\n",
       "    }\n",
       "\n",
       "    .dataframe thead th {\n",
       "        text-align: right;\n",
       "    }\n",
       "</style>\n",
       "<table border=\"1\" class=\"dataframe\">\n",
       "  <thead>\n",
       "    <tr style=\"text-align: right;\">\n",
       "      <th></th>\n",
       "      <th>parcl_id</th>\n",
       "      <th>country</th>\n",
       "      <th>geoid</th>\n",
       "      <th>state_fips_code</th>\n",
       "      <th>name</th>\n",
       "      <th>state_abbreviation</th>\n",
       "      <th>region</th>\n",
       "      <th>location_type</th>\n",
       "      <th>total_population</th>\n",
       "      <th>median_income</th>\n",
       "      <th>parcl_exchange_market</th>\n",
       "      <th>pricefeed_market</th>\n",
       "      <th>case_shiller_10_market</th>\n",
       "      <th>case_shiller_20_market</th>\n",
       "    </tr>\n",
       "  </thead>\n",
       "  <tbody>\n",
       "    <tr>\n",
       "      <th>0</th>\n",
       "      <td>5374167</td>\n",
       "      <td>USA</td>\n",
       "      <td>0666000</td>\n",
       "      <td>06</td>\n",
       "      <td>San Diego City</td>\n",
       "      <td>CA</td>\n",
       "      <td>PACIFIC</td>\n",
       "      <td>CITY</td>\n",
       "      <td>1383987</td>\n",
       "      <td>98657</td>\n",
       "      <td>0</td>\n",
       "      <td>1</td>\n",
       "      <td>0</td>\n",
       "      <td>0</td>\n",
       "    </tr>\n",
       "    <tr>\n",
       "      <th>1</th>\n",
       "      <td>5316648</td>\n",
       "      <td>USA</td>\n",
       "      <td>4865180</td>\n",
       "      <td>48</td>\n",
       "      <td>San Diego City</td>\n",
       "      <td>TX</td>\n",
       "      <td>WEST_SOUTH_CENTRAL</td>\n",
       "      <td>CITY</td>\n",
       "      <td>3801</td>\n",
       "      <td>46620</td>\n",
       "      <td>0</td>\n",
       "      <td>0</td>\n",
       "      <td>0</td>\n",
       "      <td>0</td>\n",
       "    </tr>\n",
       "  </tbody>\n",
       "</table>\n",
       "</div>"
      ],
      "text/plain": [
       "   parcl_id country    geoid state_fips_code            name  \\\n",
       "0   5374167     USA  0666000              06  San Diego City   \n",
       "1   5316648     USA  4865180              48  San Diego City   \n",
       "\n",
       "  state_abbreviation              region location_type  total_population  \\\n",
       "0                 CA             PACIFIC          CITY           1383987   \n",
       "1                 TX  WEST_SOUTH_CENTRAL          CITY              3801   \n",
       "\n",
       "   median_income  parcl_exchange_market  pricefeed_market  \\\n",
       "0          98657                      0                 1   \n",
       "1          46620                      0                 0   \n",
       "\n",
       "   case_shiller_10_market  case_shiller_20_market  \n",
       "0                       0                       0  \n",
       "1                       0                       0  "
      ]
     },
     "execution_count": 38,
     "metadata": {},
     "output_type": "execute_result"
    }
   ],
   "source": [
    "# we are looking at homes in San Diego, so we look for the name and the type of market\n",
    "results = client.search_markets.retrieve(\n",
    "    query='San Diego',\n",
    "    location_type='CITY',\n",
    "    as_dataframe=True\n",
    ")\n",
    "\n",
    "results.head()"
   ]
  },
  {
   "cell_type": "code",
   "execution_count": 39,
   "id": "96dcb760-43b1-4dac-8025-85b1b5fdf343",
   "metadata": {},
   "outputs": [
    {
     "name": "stdout",
     "output_type": "stream",
     "text": [
      "In this analysis, we are studying: San Diego City which has parcl id: 5374167. Saving graphics to: ./graphics\n"
     ]
    }
   ],
   "source": [
    "# we see that the the first result is the city of San Diego, so we will use the parcl id of 5374167\n",
    "analysis_parcl_id = results.iloc[0]['parcl_id']\n",
    "name = results.iloc[0]['name']\n",
    "\n",
    "# set default save directory\n",
    "save_dir = './graphics'\n",
    "new_dir_name = f\"{analysis_parcl_id}-{name}-{datetime.today().date()}\"\n",
    "output_dir = os.path.join(save_dir, new_dir_name)\n",
    "\n",
    "if not os.path.exists(output_dir):\n",
    "    os.makedirs(output_dir)\n",
    "\n",
    "print(f\"In this analysis, we are studying: {name} which has parcl id: {analysis_parcl_id}. Saving graphics to: {save_dir}\")"
   ]
  },
  {
   "cell_type": "markdown",
   "id": "9f98b170-8778-4f70-bc36-d0d37af5bcab",
   "metadata": {},
   "source": [
    "<a id='market'></a>\n",
    "#### Market Overview\n",
    "\n",
    "Let's review housing stock mix, percent of housing stock owned by investors, and percent of all units that are rentals."
   ]
  },
  {
   "cell_type": "code",
   "execution_count": 40,
   "id": "bc08008a-0465-47e0-8f89-9d39f1558279",
   "metadata": {},
   "outputs": [
    {
     "data": {
      "text/html": [
       "<div>\n",
       "<style scoped>\n",
       "    .dataframe tbody tr th:only-of-type {\n",
       "        vertical-align: middle;\n",
       "    }\n",
       "\n",
       "    .dataframe tbody tr th {\n",
       "        vertical-align: top;\n",
       "    }\n",
       "\n",
       "    .dataframe thead th {\n",
       "        text-align: right;\n",
       "    }\n",
       "</style>\n",
       "<table border=\"1\" class=\"dataframe\">\n",
       "  <thead>\n",
       "    <tr style=\"text-align: right;\">\n",
       "      <th></th>\n",
       "      <th>date</th>\n",
       "      <th>single_family</th>\n",
       "      <th>condo</th>\n",
       "      <th>townhouse</th>\n",
       "      <th>other</th>\n",
       "      <th>all_properties</th>\n",
       "      <th>parcl_id</th>\n",
       "    </tr>\n",
       "  </thead>\n",
       "  <tbody>\n",
       "    <tr>\n",
       "      <th>0</th>\n",
       "      <td>2024-03-01</td>\n",
       "      <td>216661</td>\n",
       "      <td>163945</td>\n",
       "      <td>2717</td>\n",
       "      <td>46806</td>\n",
       "      <td>430129</td>\n",
       "      <td>5374167</td>\n",
       "    </tr>\n",
       "    <tr>\n",
       "      <th>1</th>\n",
       "      <td>2024-02-01</td>\n",
       "      <td>216659</td>\n",
       "      <td>163935</td>\n",
       "      <td>2716</td>\n",
       "      <td>46801</td>\n",
       "      <td>430111</td>\n",
       "      <td>5374167</td>\n",
       "    </tr>\n",
       "    <tr>\n",
       "      <th>2</th>\n",
       "      <td>2024-01-01</td>\n",
       "      <td>216658</td>\n",
       "      <td>163928</td>\n",
       "      <td>2715</td>\n",
       "      <td>46798</td>\n",
       "      <td>430099</td>\n",
       "      <td>5374167</td>\n",
       "    </tr>\n",
       "    <tr>\n",
       "      <th>3</th>\n",
       "      <td>2023-12-01</td>\n",
       "      <td>216652</td>\n",
       "      <td>163909</td>\n",
       "      <td>2714</td>\n",
       "      <td>46793</td>\n",
       "      <td>430068</td>\n",
       "      <td>5374167</td>\n",
       "    </tr>\n",
       "    <tr>\n",
       "      <th>4</th>\n",
       "      <td>2023-11-01</td>\n",
       "      <td>216646</td>\n",
       "      <td>163886</td>\n",
       "      <td>2714</td>\n",
       "      <td>46790</td>\n",
       "      <td>430036</td>\n",
       "      <td>5374167</td>\n",
       "    </tr>\n",
       "  </tbody>\n",
       "</table>\n",
       "</div>"
      ],
      "text/plain": [
       "         date  single_family   condo  townhouse  other  all_properties  \\\n",
       "0  2024-03-01         216661  163945       2717  46806          430129   \n",
       "1  2024-02-01         216659  163935       2716  46801          430111   \n",
       "2  2024-01-01         216658  163928       2715  46798          430099   \n",
       "3  2023-12-01         216652  163909       2714  46793          430068   \n",
       "4  2023-11-01         216646  163886       2714  46790          430036   \n",
       "\n",
       "   parcl_id  \n",
       "0   5374167  \n",
       "1   5374167  \n",
       "2   5374167  \n",
       "3   5374167  \n",
       "4   5374167  "
      ]
     },
     "execution_count": 40,
     "metadata": {},
     "output_type": "execute_result"
    }
   ],
   "source": [
    "# we call the API specifying the parcl id and the necessary parameters\n",
    "housing_stock = client.market_metrics_housing_stock.retrieve(\n",
    "    parcl_id=analysis_parcl_id,\n",
    "    params={\n",
    "        'limit': 100\n",
    "    },\n",
    "    as_dataframe=True # set to true to default to a pandas dataframe for easier manipulation\n",
    ")\n",
    "\n",
    "housing_stock.head()"
   ]
  },
  {
   "cell_type": "code",
   "execution_count": 41,
   "id": "164d9733-9749-491e-9861-dc0e1dcf9dd5",
   "metadata": {},
   "outputs": [
    {
     "data": {
      "text/html": [
       "<div>\n",
       "<style scoped>\n",
       "    .dataframe tbody tr th:only-of-type {\n",
       "        vertical-align: middle;\n",
       "    }\n",
       "\n",
       "    .dataframe tbody tr th {\n",
       "        vertical-align: top;\n",
       "    }\n",
       "\n",
       "    .dataframe thead th {\n",
       "        text-align: right;\n",
       "    }\n",
       "</style>\n",
       "<table border=\"1\" class=\"dataframe\">\n",
       "  <thead>\n",
       "    <tr style=\"text-align: right;\">\n",
       "      <th></th>\n",
       "      <th>date</th>\n",
       "      <th>single_family</th>\n",
       "      <th>condo</th>\n",
       "      <th>townhouse</th>\n",
       "      <th>other</th>\n",
       "      <th>all_properties</th>\n",
       "      <th>parcl_id</th>\n",
       "      <th>pct_condo</th>\n",
       "      <th>pct_townhouse</th>\n",
       "      <th>pct_single_family</th>\n",
       "      <th>pct_other</th>\n",
       "    </tr>\n",
       "  </thead>\n",
       "  <tbody>\n",
       "    <tr>\n",
       "      <th>0</th>\n",
       "      <td>2024-03-01</td>\n",
       "      <td>216661</td>\n",
       "      <td>163945</td>\n",
       "      <td>2717</td>\n",
       "      <td>46806</td>\n",
       "      <td>430129</td>\n",
       "      <td>5374167</td>\n",
       "      <td>0.381153</td>\n",
       "      <td>0.006317</td>\n",
       "      <td>0.503712</td>\n",
       "      <td>0.108819</td>\n",
       "    </tr>\n",
       "    <tr>\n",
       "      <th>1</th>\n",
       "      <td>2024-02-01</td>\n",
       "      <td>216659</td>\n",
       "      <td>163935</td>\n",
       "      <td>2716</td>\n",
       "      <td>46801</td>\n",
       "      <td>430111</td>\n",
       "      <td>5374167</td>\n",
       "      <td>0.381146</td>\n",
       "      <td>0.006315</td>\n",
       "      <td>0.503728</td>\n",
       "      <td>0.108811</td>\n",
       "    </tr>\n",
       "    <tr>\n",
       "      <th>2</th>\n",
       "      <td>2024-01-01</td>\n",
       "      <td>216658</td>\n",
       "      <td>163928</td>\n",
       "      <td>2715</td>\n",
       "      <td>46798</td>\n",
       "      <td>430099</td>\n",
       "      <td>5374167</td>\n",
       "      <td>0.381140</td>\n",
       "      <td>0.006313</td>\n",
       "      <td>0.503740</td>\n",
       "      <td>0.108808</td>\n",
       "    </tr>\n",
       "    <tr>\n",
       "      <th>3</th>\n",
       "      <td>2023-12-01</td>\n",
       "      <td>216652</td>\n",
       "      <td>163909</td>\n",
       "      <td>2714</td>\n",
       "      <td>46793</td>\n",
       "      <td>430068</td>\n",
       "      <td>5374167</td>\n",
       "      <td>0.381123</td>\n",
       "      <td>0.006311</td>\n",
       "      <td>0.503762</td>\n",
       "      <td>0.108804</td>\n",
       "    </tr>\n",
       "    <tr>\n",
       "      <th>4</th>\n",
       "      <td>2023-11-01</td>\n",
       "      <td>216646</td>\n",
       "      <td>163886</td>\n",
       "      <td>2714</td>\n",
       "      <td>46790</td>\n",
       "      <td>430036</td>\n",
       "      <td>5374167</td>\n",
       "      <td>0.381098</td>\n",
       "      <td>0.006311</td>\n",
       "      <td>0.503786</td>\n",
       "      <td>0.108805</td>\n",
       "    </tr>\n",
       "  </tbody>\n",
       "</table>\n",
       "</div>"
      ],
      "text/plain": [
       "         date  single_family   condo  townhouse  other  all_properties  \\\n",
       "0  2024-03-01         216661  163945       2717  46806          430129   \n",
       "1  2024-02-01         216659  163935       2716  46801          430111   \n",
       "2  2024-01-01         216658  163928       2715  46798          430099   \n",
       "3  2023-12-01         216652  163909       2714  46793          430068   \n",
       "4  2023-11-01         216646  163886       2714  46790          430036   \n",
       "\n",
       "   parcl_id  pct_condo  pct_townhouse  pct_single_family  pct_other  \n",
       "0   5374167   0.381153       0.006317           0.503712   0.108819  \n",
       "1   5374167   0.381146       0.006315           0.503728   0.108811  \n",
       "2   5374167   0.381140       0.006313           0.503740   0.108808  \n",
       "3   5374167   0.381123       0.006311           0.503762   0.108804  \n",
       "4   5374167   0.381098       0.006311           0.503786   0.108805  "
      ]
     },
     "execution_count": 41,
     "metadata": {},
     "output_type": "execute_result"
    }
   ],
   "source": [
    "# calculate the percentage of each property type\n",
    "housing_stock['pct_condo'] = housing_stock['condo']/housing_stock['all_properties']\n",
    "housing_stock['pct_townhouse'] = housing_stock['townhouse']/housing_stock['all_properties']\n",
    "housing_stock['pct_single_family'] = housing_stock['single_family']/housing_stock['all_properties']\n",
    "housing_stock['pct_other'] = housing_stock['other']/housing_stock['all_properties']\n",
    "housing_stock.head()"
   ]
  },
  {
   "cell_type": "markdown",
   "id": "0db73713-4ae7-424f-8980-4cbf9c8f5736",
   "metadata": {},
   "source": [
    "\n",
    "Let's analyze how the percent of single family homes as a proportion of the overall housing stock has changed\n",
    "since 2019 in San Diego. The API returns monthly data for this endpoint since January 2019. We will see how the supply of housing has changed over the last 5 years. "
   ]
  },
  {
   "cell_type": "code",
   "execution_count": 42,
   "id": "df44bc92-0975-4cea-9c60-fee6dae00aa4",
   "metadata": {},
   "outputs": [],
   "source": [
    "# set some constants for the analysis, such as the logo for the chart, we have a white and blue version\n",
    "labs_logo_lookup = {\n",
    "    'blue': 'https://parcllabs-assets.s3.amazonaws.com/powered-by-parcllabs-api.png',\n",
    "    'white': 'https://parcllabs-assets.s3.amazonaws.com/powered-by-parcllabs-api-logo-white.png'\n",
    "}\n",
    "\n",
    "# set charting constants\n",
    "labs_logo_dict = dict(\n",
    "        source=labs_logo_lookup['white'],\n",
    "        xref=\"paper\",\n",
    "        yref=\"paper\",\n",
    "        x=0.5,  # Centering the logo below the title\n",
    "        y=1.02,  # Adjust this value to position the logo just below the title\n",
    "        sizex=0.15, \n",
    "        sizey=0.15,\n",
    "        xanchor=\"center\",\n",
    "        yanchor=\"bottom\"\n",
    ")\n",
    "\n",
    "# define image dimentions\n",
    "media_img_size_lookup = {\n",
    "    'X': {\n",
    "        'width': 1600,\n",
    "        'height': 900\n",
    "    }\n",
    "}\n",
    "\n",
    "# optimize the visual for the platform in this case X\n",
    "PLATFORM = 'X'\n",
    "\n",
    "# set image sizes\n",
    "IMG_WIDTH = media_img_size_lookup[PLATFORM]['width']\n",
    "IMG_HEIGHT = media_img_size_lookup[PLATFORM]['height']\n",
    "\n",
    "# plotting title settings\n",
    "PLOT_TITLE_SETTINGS = {\n",
    "        'y':0.97,\n",
    "        'x':0.5,\n",
    "        'xanchor': 'center',\n",
    "        'yanchor': 'top'\n",
    "    }"
   ]
  },
  {
   "cell_type": "code",
   "execution_count": 43,
   "id": "76c45c55-b7e2-468c-9dc8-7b3b3fe57e8b",
   "metadata": {},
   "outputs": [
    {
     "data": {
      "application/vnd.plotly.v1+json": {
       "config": {
        "plotlyServerURL": "https://plot.ly"
       },
       "data": [
        {
         "hovertemplate": "date=%{x}<br>Percent of Single Family Homes=%{y}<extra></extra>",
         "legendgroup": "",
         "line": {
          "color": "#FFFFFF",
          "dash": "solid",
          "width": 3
         },
         "marker": {
          "color": "#448CF2",
          "size": 5,
          "symbol": "circle"
         },
         "mode": "lines+markers",
         "name": "",
         "orientation": "v",
         "showlegend": false,
         "type": "scatter",
         "x": [
          "2024-03-01",
          "2024-02-01",
          "2024-01-01",
          "2023-12-01",
          "2023-11-01",
          "2023-10-01",
          "2023-09-01",
          "2023-08-01",
          "2023-07-01",
          "2023-06-01",
          "2023-05-01",
          "2023-04-01",
          "2023-03-01",
          "2023-02-01",
          "2023-01-01",
          "2022-12-01",
          "2022-11-01",
          "2022-10-01",
          "2022-09-01",
          "2022-08-01",
          "2022-07-01",
          "2022-06-01",
          "2022-05-01",
          "2022-04-01",
          "2022-03-01",
          "2022-02-01",
          "2022-01-01",
          "2021-12-01",
          "2021-11-01",
          "2021-10-01",
          "2021-09-01",
          "2021-08-01",
          "2021-07-01",
          "2021-06-01",
          "2021-05-01",
          "2021-04-01",
          "2021-03-01",
          "2021-02-01",
          "2021-01-01",
          "2020-12-01",
          "2020-11-01",
          "2020-10-01",
          "2020-09-01",
          "2020-08-01",
          "2020-07-01",
          "2020-06-01",
          "2020-05-01",
          "2020-04-01",
          "2020-03-01",
          "2020-02-01",
          "2020-01-01",
          "2019-12-01",
          "2019-11-01",
          "2019-10-01",
          "2019-09-01",
          "2019-08-01",
          "2019-07-01",
          "2019-06-01",
          "2019-05-01",
          "2019-04-01",
          "2019-03-01",
          "2019-02-01",
          "2019-01-01"
         ],
         "xaxis": "x",
         "y": [
          0.503711677194516,
          0.5037281073955328,
          0.5037398366422614,
          0.5037621957457891,
          0.503785729566827,
          0.5038009948397629,
          0.5038291677228952,
          0.5038445079122903,
          0.5038668456076123,
          0.5038774294991673,
          0.5039008890398277,
          0.5039103572126434,
          0.5039267868275843,
          0.5039432543596807,
          0.503965548930151,
          0.5039902094452795,
          0.5040313854702585,
          0.504065419038355,
          0.5040959571041583,
          0.5041241720235906,
          0.5041910982516334,
          0.5041957928011601,
          0.504200624332195,
          0.5042111879321182,
          0.5042206371229828,
          0.5042267621209475,
          0.5042268211650707,
          0.5042351177171808,
          0.5042365679026719,
          0.5042437112739516,
          0.5042473721713293,
          0.5042592532218025,
          0.5042640894271075,
          0.5042538573508005,
          0.5042589517179052,
          0.5042873215945435,
          0.5042936352623241,
          0.5043246870660167,
          0.5043486772190838,
          0.5043549601329446,
          0.5043730419215277,
          0.504408747551991,
          0.5044292153328499,
          0.5044319604866412,
          0.504501562718664,
          0.5045277473232406,
          0.5045389326334209,
          0.5045311792732381,
          0.5045386026237557,
          0.5045532621988219,
          0.5045712031705502,
          0.5045750138884351,
          0.5045732134353027,
          0.5045655437444696,
          0.5045473755980471,
          0.504543066307051,
          0.5045379171824276,
          0.5045516023462301,
          0.5045579000485927,
          0.5045863414406205,
          0.504595944727164,
          0.504604370003949,
          0.5046210288945752
         ],
         "yaxis": "y"
        }
       ],
       "layout": {
        "font": {
         "color": "#FFFFFF"
        },
        "height": 900,
        "images": [
         {
          "sizex": 0.15,
          "sizey": 0.15,
          "source": "https://parcllabs-assets.s3.amazonaws.com/powered-by-parcllabs-api-logo-white.png",
          "x": 0.5,
          "xanchor": "center",
          "xref": "paper",
          "y": 1.02,
          "yanchor": "bottom",
          "yref": "paper"
         }
        ],
        "legend": {
         "title": {
          "text": "Rolling Window (Days)"
         },
         "tracegroupgap": 0,
         "traceorder": "normal",
         "x": 0.01,
         "xanchor": "left",
         "y": 0.99,
         "yanchor": "top"
        },
        "margin": {
         "b": 100
        },
        "paper_bgcolor": "#080D16",
        "plot_bgcolor": "#080D16",
        "template": {
         "data": {
          "bar": [
           {
            "error_x": {
             "color": "#2a3f5f"
            },
            "error_y": {
             "color": "#2a3f5f"
            },
            "marker": {
             "line": {
              "color": "#E5ECF6",
              "width": 0.5
             },
             "pattern": {
              "fillmode": "overlay",
              "size": 10,
              "solidity": 0.2
             }
            },
            "type": "bar"
           }
          ],
          "barpolar": [
           {
            "marker": {
             "line": {
              "color": "#E5ECF6",
              "width": 0.5
             },
             "pattern": {
              "fillmode": "overlay",
              "size": 10,
              "solidity": 0.2
             }
            },
            "type": "barpolar"
           }
          ],
          "carpet": [
           {
            "aaxis": {
             "endlinecolor": "#2a3f5f",
             "gridcolor": "white",
             "linecolor": "white",
             "minorgridcolor": "white",
             "startlinecolor": "#2a3f5f"
            },
            "baxis": {
             "endlinecolor": "#2a3f5f",
             "gridcolor": "white",
             "linecolor": "white",
             "minorgridcolor": "white",
             "startlinecolor": "#2a3f5f"
            },
            "type": "carpet"
           }
          ],
          "choropleth": [
           {
            "colorbar": {
             "outlinewidth": 0,
             "ticks": ""
            },
            "type": "choropleth"
           }
          ],
          "contour": [
           {
            "colorbar": {
             "outlinewidth": 0,
             "ticks": ""
            },
            "colorscale": [
             [
              0,
              "#0d0887"
             ],
             [
              0.1111111111111111,
              "#46039f"
             ],
             [
              0.2222222222222222,
              "#7201a8"
             ],
             [
              0.3333333333333333,
              "#9c179e"
             ],
             [
              0.4444444444444444,
              "#bd3786"
             ],
             [
              0.5555555555555556,
              "#d8576b"
             ],
             [
              0.6666666666666666,
              "#ed7953"
             ],
             [
              0.7777777777777778,
              "#fb9f3a"
             ],
             [
              0.8888888888888888,
              "#fdca26"
             ],
             [
              1,
              "#f0f921"
             ]
            ],
            "type": "contour"
           }
          ],
          "contourcarpet": [
           {
            "colorbar": {
             "outlinewidth": 0,
             "ticks": ""
            },
            "type": "contourcarpet"
           }
          ],
          "heatmap": [
           {
            "colorbar": {
             "outlinewidth": 0,
             "ticks": ""
            },
            "colorscale": [
             [
              0,
              "#0d0887"
             ],
             [
              0.1111111111111111,
              "#46039f"
             ],
             [
              0.2222222222222222,
              "#7201a8"
             ],
             [
              0.3333333333333333,
              "#9c179e"
             ],
             [
              0.4444444444444444,
              "#bd3786"
             ],
             [
              0.5555555555555556,
              "#d8576b"
             ],
             [
              0.6666666666666666,
              "#ed7953"
             ],
             [
              0.7777777777777778,
              "#fb9f3a"
             ],
             [
              0.8888888888888888,
              "#fdca26"
             ],
             [
              1,
              "#f0f921"
             ]
            ],
            "type": "heatmap"
           }
          ],
          "heatmapgl": [
           {
            "colorbar": {
             "outlinewidth": 0,
             "ticks": ""
            },
            "colorscale": [
             [
              0,
              "#0d0887"
             ],
             [
              0.1111111111111111,
              "#46039f"
             ],
             [
              0.2222222222222222,
              "#7201a8"
             ],
             [
              0.3333333333333333,
              "#9c179e"
             ],
             [
              0.4444444444444444,
              "#bd3786"
             ],
             [
              0.5555555555555556,
              "#d8576b"
             ],
             [
              0.6666666666666666,
              "#ed7953"
             ],
             [
              0.7777777777777778,
              "#fb9f3a"
             ],
             [
              0.8888888888888888,
              "#fdca26"
             ],
             [
              1,
              "#f0f921"
             ]
            ],
            "type": "heatmapgl"
           }
          ],
          "histogram": [
           {
            "marker": {
             "pattern": {
              "fillmode": "overlay",
              "size": 10,
              "solidity": 0.2
             }
            },
            "type": "histogram"
           }
          ],
          "histogram2d": [
           {
            "colorbar": {
             "outlinewidth": 0,
             "ticks": ""
            },
            "colorscale": [
             [
              0,
              "#0d0887"
             ],
             [
              0.1111111111111111,
              "#46039f"
             ],
             [
              0.2222222222222222,
              "#7201a8"
             ],
             [
              0.3333333333333333,
              "#9c179e"
             ],
             [
              0.4444444444444444,
              "#bd3786"
             ],
             [
              0.5555555555555556,
              "#d8576b"
             ],
             [
              0.6666666666666666,
              "#ed7953"
             ],
             [
              0.7777777777777778,
              "#fb9f3a"
             ],
             [
              0.8888888888888888,
              "#fdca26"
             ],
             [
              1,
              "#f0f921"
             ]
            ],
            "type": "histogram2d"
           }
          ],
          "histogram2dcontour": [
           {
            "colorbar": {
             "outlinewidth": 0,
             "ticks": ""
            },
            "colorscale": [
             [
              0,
              "#0d0887"
             ],
             [
              0.1111111111111111,
              "#46039f"
             ],
             [
              0.2222222222222222,
              "#7201a8"
             ],
             [
              0.3333333333333333,
              "#9c179e"
             ],
             [
              0.4444444444444444,
              "#bd3786"
             ],
             [
              0.5555555555555556,
              "#d8576b"
             ],
             [
              0.6666666666666666,
              "#ed7953"
             ],
             [
              0.7777777777777778,
              "#fb9f3a"
             ],
             [
              0.8888888888888888,
              "#fdca26"
             ],
             [
              1,
              "#f0f921"
             ]
            ],
            "type": "histogram2dcontour"
           }
          ],
          "mesh3d": [
           {
            "colorbar": {
             "outlinewidth": 0,
             "ticks": ""
            },
            "type": "mesh3d"
           }
          ],
          "parcoords": [
           {
            "line": {
             "colorbar": {
              "outlinewidth": 0,
              "ticks": ""
             }
            },
            "type": "parcoords"
           }
          ],
          "pie": [
           {
            "automargin": true,
            "type": "pie"
           }
          ],
          "scatter": [
           {
            "fillpattern": {
             "fillmode": "overlay",
             "size": 10,
             "solidity": 0.2
            },
            "type": "scatter"
           }
          ],
          "scatter3d": [
           {
            "line": {
             "colorbar": {
              "outlinewidth": 0,
              "ticks": ""
             }
            },
            "marker": {
             "colorbar": {
              "outlinewidth": 0,
              "ticks": ""
             }
            },
            "type": "scatter3d"
           }
          ],
          "scattercarpet": [
           {
            "marker": {
             "colorbar": {
              "outlinewidth": 0,
              "ticks": ""
             }
            },
            "type": "scattercarpet"
           }
          ],
          "scattergeo": [
           {
            "marker": {
             "colorbar": {
              "outlinewidth": 0,
              "ticks": ""
             }
            },
            "type": "scattergeo"
           }
          ],
          "scattergl": [
           {
            "marker": {
             "colorbar": {
              "outlinewidth": 0,
              "ticks": ""
             }
            },
            "type": "scattergl"
           }
          ],
          "scattermapbox": [
           {
            "marker": {
             "colorbar": {
              "outlinewidth": 0,
              "ticks": ""
             }
            },
            "type": "scattermapbox"
           }
          ],
          "scatterpolar": [
           {
            "marker": {
             "colorbar": {
              "outlinewidth": 0,
              "ticks": ""
             }
            },
            "type": "scatterpolar"
           }
          ],
          "scatterpolargl": [
           {
            "marker": {
             "colorbar": {
              "outlinewidth": 0,
              "ticks": ""
             }
            },
            "type": "scatterpolargl"
           }
          ],
          "scatterternary": [
           {
            "marker": {
             "colorbar": {
              "outlinewidth": 0,
              "ticks": ""
             }
            },
            "type": "scatterternary"
           }
          ],
          "surface": [
           {
            "colorbar": {
             "outlinewidth": 0,
             "ticks": ""
            },
            "colorscale": [
             [
              0,
              "#0d0887"
             ],
             [
              0.1111111111111111,
              "#46039f"
             ],
             [
              0.2222222222222222,
              "#7201a8"
             ],
             [
              0.3333333333333333,
              "#9c179e"
             ],
             [
              0.4444444444444444,
              "#bd3786"
             ],
             [
              0.5555555555555556,
              "#d8576b"
             ],
             [
              0.6666666666666666,
              "#ed7953"
             ],
             [
              0.7777777777777778,
              "#fb9f3a"
             ],
             [
              0.8888888888888888,
              "#fdca26"
             ],
             [
              1,
              "#f0f921"
             ]
            ],
            "type": "surface"
           }
          ],
          "table": [
           {
            "cells": {
             "fill": {
              "color": "#EBF0F8"
             },
             "line": {
              "color": "white"
             }
            },
            "header": {
             "fill": {
              "color": "#C8D4E3"
             },
             "line": {
              "color": "white"
             }
            },
            "type": "table"
           }
          ]
         },
         "layout": {
          "annotationdefaults": {
           "arrowcolor": "#2a3f5f",
           "arrowhead": 0,
           "arrowwidth": 1
          },
          "autotypenumbers": "strict",
          "coloraxis": {
           "colorbar": {
            "outlinewidth": 0,
            "ticks": ""
           }
          },
          "colorscale": {
           "diverging": [
            [
             0,
             "#8e0152"
            ],
            [
             0.1,
             "#c51b7d"
            ],
            [
             0.2,
             "#de77ae"
            ],
            [
             0.3,
             "#f1b6da"
            ],
            [
             0.4,
             "#fde0ef"
            ],
            [
             0.5,
             "#f7f7f7"
            ],
            [
             0.6,
             "#e6f5d0"
            ],
            [
             0.7,
             "#b8e186"
            ],
            [
             0.8,
             "#7fbc41"
            ],
            [
             0.9,
             "#4d9221"
            ],
            [
             1,
             "#276419"
            ]
           ],
           "sequential": [
            [
             0,
             "#0d0887"
            ],
            [
             0.1111111111111111,
             "#46039f"
            ],
            [
             0.2222222222222222,
             "#7201a8"
            ],
            [
             0.3333333333333333,
             "#9c179e"
            ],
            [
             0.4444444444444444,
             "#bd3786"
            ],
            [
             0.5555555555555556,
             "#d8576b"
            ],
            [
             0.6666666666666666,
             "#ed7953"
            ],
            [
             0.7777777777777778,
             "#fb9f3a"
            ],
            [
             0.8888888888888888,
             "#fdca26"
            ],
            [
             1,
             "#f0f921"
            ]
           ],
           "sequentialminus": [
            [
             0,
             "#0d0887"
            ],
            [
             0.1111111111111111,
             "#46039f"
            ],
            [
             0.2222222222222222,
             "#7201a8"
            ],
            [
             0.3333333333333333,
             "#9c179e"
            ],
            [
             0.4444444444444444,
             "#bd3786"
            ],
            [
             0.5555555555555556,
             "#d8576b"
            ],
            [
             0.6666666666666666,
             "#ed7953"
            ],
            [
             0.7777777777777778,
             "#fb9f3a"
            ],
            [
             0.8888888888888888,
             "#fdca26"
            ],
            [
             1,
             "#f0f921"
            ]
           ]
          },
          "colorway": [
           "#636efa",
           "#EF553B",
           "#00cc96",
           "#ab63fa",
           "#FFA15A",
           "#19d3f3",
           "#FF6692",
           "#B6E880",
           "#FF97FF",
           "#FECB52"
          ],
          "font": {
           "color": "#2a3f5f"
          },
          "geo": {
           "bgcolor": "white",
           "lakecolor": "white",
           "landcolor": "#E5ECF6",
           "showlakes": true,
           "showland": true,
           "subunitcolor": "white"
          },
          "hoverlabel": {
           "align": "left"
          },
          "hovermode": "closest",
          "mapbox": {
           "style": "light"
          },
          "paper_bgcolor": "white",
          "plot_bgcolor": "#E5ECF6",
          "polar": {
           "angularaxis": {
            "gridcolor": "white",
            "linecolor": "white",
            "ticks": ""
           },
           "bgcolor": "#E5ECF6",
           "radialaxis": {
            "gridcolor": "white",
            "linecolor": "white",
            "ticks": ""
           }
          },
          "scene": {
           "xaxis": {
            "backgroundcolor": "#E5ECF6",
            "gridcolor": "white",
            "gridwidth": 2,
            "linecolor": "white",
            "showbackground": true,
            "ticks": "",
            "zerolinecolor": "white"
           },
           "yaxis": {
            "backgroundcolor": "#E5ECF6",
            "gridcolor": "white",
            "gridwidth": 2,
            "linecolor": "white",
            "showbackground": true,
            "ticks": "",
            "zerolinecolor": "white"
           },
           "zaxis": {
            "backgroundcolor": "#E5ECF6",
            "gridcolor": "white",
            "gridwidth": 2,
            "linecolor": "white",
            "showbackground": true,
            "ticks": "",
            "zerolinecolor": "white"
           }
          },
          "shapedefaults": {
           "line": {
            "color": "#2a3f5f"
           }
          },
          "ternary": {
           "aaxis": {
            "gridcolor": "white",
            "linecolor": "white",
            "ticks": ""
           },
           "baxis": {
            "gridcolor": "white",
            "linecolor": "white",
            "ticks": ""
           },
           "bgcolor": "#E5ECF6",
           "caxis": {
            "gridcolor": "white",
            "linecolor": "white",
            "ticks": ""
           }
          },
          "title": {
           "x": 0.05
          },
          "xaxis": {
           "automargin": true,
           "gridcolor": "white",
           "linecolor": "white",
           "ticks": "",
           "title": {
            "standoff": 15
           },
           "zerolinecolor": "white",
           "zerolinewidth": 2
          },
          "yaxis": {
           "automargin": true,
           "gridcolor": "white",
           "linecolor": "white",
           "ticks": "",
           "title": {
            "standoff": 15
           },
           "zerolinecolor": "white",
           "zerolinewidth": 2
          }
         }
        },
        "title": {
         "text": "Percent of all homes that are Single Family Homes in San Diego City",
         "x": 0.5,
         "xanchor": "center",
         "y": 0.97,
         "yanchor": "top"
        },
        "width": 1600,
        "xaxis": {
         "anchor": "y",
         "autorange": true,
         "domain": [
          0,
          1
         ],
         "gridcolor": "LightGrey",
         "gridwidth": 1,
         "range": [
          "2018-09-13 02:57:45.8777",
          "2024-06-18 21:02:14.1223"
         ],
         "showgrid": true,
         "title": {
          "text": "date"
         },
         "type": "date"
        },
        "yaxis": {
         "anchor": "x",
         "autorange": true,
         "domain": [
          0,
          1
         ],
         "gridcolor": "LightGrey",
         "gridwidth": 1,
         "range": [
          0.5036560955775785,
          0.5046766105115127
         ],
         "showgrid": true,
         "tickformat": ".2%",
         "title": {
          "text": "Percent of Single Family Homes"
         },
         "type": "linear"
        }
       }
      },
      "image/png": "[encoded data removed]"
     },
     "metadata": {},
     "output_type": "display_data"
    }
   ],
   "source": [
    "# Creating the line chart\n",
    "fig = px.line(\n",
    "    housing_stock, \n",
    "    x='date', \n",
    "    y='pct_single_family', \n",
    "    title=f'Percent of all homes that are Single Family Homes in {name}',\n",
    "    labels={'pct_single_family': 'Percent of Single Family Homes'}\n",
    ")\n",
    "\n",
    "# Showing the plot\n",
    "# Add the logo as a layout_image\n",
    "fig.add_layout_image(\n",
    "    labs_logo_dict\n",
    ")\n",
    "\n",
    "fig.update_layout(\n",
    "    margin=dict(b=100),\n",
    "    width=IMG_WIDTH,\n",
    "    height=IMG_HEIGHT,\n",
    "    legend=dict(\n",
    "        x=0.01,\n",
    "        y=0.99,\n",
    "        traceorder=\"normal\",\n",
    "        xanchor='left',\n",
    "        yanchor='top',\n",
    "        title='Rolling Window (Days)'\n",
    "    ),\n",
    "    title=PLOT_TITLE_SETTINGS,\n",
    "    plot_bgcolor='#080D16',\n",
    "    paper_bgcolor='#080D16',\n",
    "    font=dict(color='#FFFFFF'),\n",
    "    xaxis_title='date'\n",
    ")\n",
    "\n",
    "fig.update_traces(\n",
    "    line=dict(color='#FFFFFF', width=3),\n",
    "    mode='lines+markers',\n",
    "    marker=dict(color='#448CF2', size=5)\n",
    ")\n",
    "\n",
    "\n",
    "# Adding gridlines\n",
    "fig.update_xaxes(showgrid=True, gridwidth=1, gridcolor='LightGrey')\n",
    "fig.update_yaxes(showgrid=True, gridwidth=1, gridcolor='LightGrey')\n",
    "fig.update_yaxes(tickformat=\".2%\")\n",
    "\n",
    "# save fig\n",
    "fig.write_image(os.path.join(output_dir, 'percent_single_family_homes.png'), width=IMG_WIDTH, height=IMG_HEIGHT)\n",
    "# Show the plot\n",
    "fig.show()"
   ]
  },
  {
   "cell_type": "code",
   "execution_count": 44,
   "id": "30ad20d6-f1e9-4cd1-92d7-52a02d5d918d",
   "metadata": {},
   "outputs": [],
   "source": [
    "# Now lets find out how much of the housing stock is owned by investors in San Diego\n",
    "investor_ownership = client.investor_metrics_housing_stock_ownership.retrieve(\n",
    "    parcl_id=analysis_parcl_id,\n",
    "    params={\n",
    "        'limit': 200,\n",
    "    },\n",
    "    as_dataframe=True\n",
    ")\n",
    "\n",
    "# the results returned by the API are in percentage points, howver for graph formatting we divide pct_ownership \n",
    "# so plotly can handles this internally\n",
    "investor_ownership['pct_ownership'] = investor_ownership['pct_ownership']/100"
   ]
  },
  {
   "cell_type": "code",
   "execution_count": 45,
   "id": "3305369a-01ae-4f5d-8085-eab5015744d3",
   "metadata": {},
   "outputs": [
    {
     "data": {
      "application/vnd.plotly.v1+json": {
       "config": {
        "plotlyServerURL": "https://plot.ly"
       },
       "data": [
        {
         "hovertemplate": "date=%{x}<br>Percent of all Homes Owned by Investors=%{y}<extra></extra>",
         "legendgroup": "",
         "line": {
          "color": "#FFFFFF",
          "dash": "solid",
          "width": 3
         },
         "marker": {
          "color": "#448CF2",
          "size": 5,
          "symbol": "circle"
         },
         "mode": "lines+markers",
         "name": "",
         "orientation": "v",
         "showlegend": false,
         "type": "scatter",
         "x": [
          "2024-03-01",
          "2024-02-01",
          "2024-01-01",
          "2023-12-01",
          "2023-11-01",
          "2023-10-01",
          "2023-09-01",
          "2023-08-01",
          "2023-07-01",
          "2023-06-01",
          "2023-05-01",
          "2023-04-01",
          "2023-03-01",
          "2023-02-01",
          "2023-01-01",
          "2022-12-01",
          "2022-11-01",
          "2022-10-01",
          "2022-09-01",
          "2022-08-01",
          "2022-07-01",
          "2022-06-01",
          "2022-05-01",
          "2022-04-01",
          "2022-03-01",
          "2022-02-01",
          "2022-01-01",
          "2021-12-01",
          "2021-11-01",
          "2021-10-01",
          "2021-09-01",
          "2021-08-01",
          "2021-07-01",
          "2021-06-01",
          "2021-05-01",
          "2021-04-01",
          "2021-03-01",
          "2021-02-01",
          "2021-01-01",
          "2020-12-01",
          "2020-11-01",
          "2020-10-01",
          "2020-09-01",
          "2020-08-01",
          "2020-07-01",
          "2020-06-01",
          "2020-05-01",
          "2020-04-01",
          "2020-03-01",
          "2020-02-01",
          "2020-01-01",
          "2019-12-01",
          "2019-11-01",
          "2019-10-01",
          "2019-09-01",
          "2019-08-01",
          "2019-07-01",
          "2019-06-01",
          "2019-05-01",
          "2019-04-01",
          "2019-03-01",
          "2019-02-01",
          "2019-01-01"
         ],
         "xaxis": "x",
         "y": [
          0.2072,
          0.2078,
          0.20829999999999999,
          0.20879999999999999,
          0.20920000000000002,
          0.2097,
          0.2101,
          0.21059999999999998,
          0.2113,
          0.2119,
          0.2125,
          0.2132,
          0.2138,
          0.2145,
          0.215,
          0.21559999999999999,
          0.2162,
          0.2167,
          0.21739999999999998,
          0.2183,
          0.2192,
          0.21989999999999998,
          0.2207,
          0.2218,
          0.223,
          0.2243,
          0.2254,
          0.22649999999999998,
          0.2278,
          0.2293,
          0.231,
          0.2327,
          0.23440000000000003,
          0.23620000000000002,
          0.2384,
          0.2408,
          0.2438,
          0.24710000000000001,
          0.2504,
          0.2502,
          0.24989999999999998,
          0.2494,
          0.2491,
          0.2486,
          0.2482,
          0.2481,
          0.24739999999999998,
          0.24710000000000001,
          0.24710000000000001,
          0.2464,
          0.24559999999999998,
          0.24489999999999998,
          0.2439,
          0.2429,
          0.24170000000000003,
          0.2409,
          0.23989999999999997,
          0.2391,
          0.2382,
          0.2372,
          0.23600000000000002,
          0.2351,
          0.2332
         ],
         "yaxis": "y"
        }
       ],
       "layout": {
        "font": {
         "color": "#FFFFFF"
        },
        "height": 900,
        "images": [
         {
          "sizex": 0.15,
          "sizey": 0.15,
          "source": "https://parcllabs-assets.s3.amazonaws.com/powered-by-parcllabs-api-logo-white.png",
          "x": 0.5,
          "xanchor": "center",
          "xref": "paper",
          "y": 1.02,
          "yanchor": "bottom",
          "yref": "paper"
         }
        ],
        "legend": {
         "title": {
          "text": "Rolling Window (Days)"
         },
         "tracegroupgap": 0,
         "traceorder": "normal",
         "x": 0.01,
         "xanchor": "left",
         "y": 0.99,
         "yanchor": "top"
        },
        "margin": {
         "b": 100
        },
        "paper_bgcolor": "#080D16",
        "plot_bgcolor": "#080D16",
        "template": {
         "data": {
          "bar": [
           {
            "error_x": {
             "color": "#2a3f5f"
            },
            "error_y": {
             "color": "#2a3f5f"
            },
            "marker": {
             "line": {
              "color": "#E5ECF6",
              "width": 0.5
             },
             "pattern": {
              "fillmode": "overlay",
              "size": 10,
              "solidity": 0.2
             }
            },
            "type": "bar"
           }
          ],
          "barpolar": [
           {
            "marker": {
             "line": {
              "color": "#E5ECF6",
              "width": 0.5
             },
             "pattern": {
              "fillmode": "overlay",
              "size": 10,
              "solidity": 0.2
             }
            },
            "type": "barpolar"
           }
          ],
          "carpet": [
           {
            "aaxis": {
             "endlinecolor": "#2a3f5f",
             "gridcolor": "white",
             "linecolor": "white",
             "minorgridcolor": "white",
             "startlinecolor": "#2a3f5f"
            },
            "baxis": {
             "endlinecolor": "#2a3f5f",
             "gridcolor": "white",
             "linecolor": "white",
             "minorgridcolor": "white",
             "startlinecolor": "#2a3f5f"
            },
            "type": "carpet"
           }
          ],
          "choropleth": [
           {
            "colorbar": {
             "outlinewidth": 0,
             "ticks": ""
            },
            "type": "choropleth"
           }
          ],
          "contour": [
           {
            "colorbar": {
             "outlinewidth": 0,
             "ticks": ""
            },
            "colorscale": [
             [
              0,
              "#0d0887"
             ],
             [
              0.1111111111111111,
              "#46039f"
             ],
             [
              0.2222222222222222,
              "#7201a8"
             ],
             [
              0.3333333333333333,
              "#9c179e"
             ],
             [
              0.4444444444444444,
              "#bd3786"
             ],
             [
              0.5555555555555556,
              "#d8576b"
             ],
             [
              0.6666666666666666,
              "#ed7953"
             ],
             [
              0.7777777777777778,
              "#fb9f3a"
             ],
             [
              0.8888888888888888,
              "#fdca26"
             ],
             [
              1,
              "#f0f921"
             ]
            ],
            "type": "contour"
           }
          ],
          "contourcarpet": [
           {
            "colorbar": {
             "outlinewidth": 0,
             "ticks": ""
            },
            "type": "contourcarpet"
           }
          ],
          "heatmap": [
           {
            "colorbar": {
             "outlinewidth": 0,
             "ticks": ""
            },
            "colorscale": [
             [
              0,
              "#0d0887"
             ],
             [
              0.1111111111111111,
              "#46039f"
             ],
             [
              0.2222222222222222,
              "#7201a8"
             ],
             [
              0.3333333333333333,
              "#9c179e"
             ],
             [
              0.4444444444444444,
              "#bd3786"
             ],
             [
              0.5555555555555556,
              "#d8576b"
             ],
             [
              0.6666666666666666,
              "#ed7953"
             ],
             [
              0.7777777777777778,
              "#fb9f3a"
             ],
             [
              0.8888888888888888,
              "#fdca26"
             ],
             [
              1,
              "#f0f921"
             ]
            ],
            "type": "heatmap"
           }
          ],
          "heatmapgl": [
           {
            "colorbar": {
             "outlinewidth": 0,
             "ticks": ""
            },
            "colorscale": [
             [
              0,
              "#0d0887"
             ],
             [
              0.1111111111111111,
              "#46039f"
             ],
             [
              0.2222222222222222,
              "#7201a8"
             ],
             [
              0.3333333333333333,
              "#9c179e"
             ],
             [
              0.4444444444444444,
              "#bd3786"
             ],
             [
              0.5555555555555556,
              "#d8576b"
             ],
             [
              0.6666666666666666,
              "#ed7953"
             ],
             [
              0.7777777777777778,
              "#fb9f3a"
             ],
             [
              0.8888888888888888,
              "#fdca26"
             ],
             [
              1,
              "#f0f921"
             ]
            ],
            "type": "heatmapgl"
           }
          ],
          "histogram": [
           {
            "marker": {
             "pattern": {
              "fillmode": "overlay",
              "size": 10,
              "solidity": 0.2
             }
            },
            "type": "histogram"
           }
          ],
          "histogram2d": [
           {
            "colorbar": {
             "outlinewidth": 0,
             "ticks": ""
            },
            "colorscale": [
             [
              0,
              "#0d0887"
             ],
             [
              0.1111111111111111,
              "#46039f"
             ],
             [
              0.2222222222222222,
              "#7201a8"
             ],
             [
              0.3333333333333333,
              "#9c179e"
             ],
             [
              0.4444444444444444,
              "#bd3786"
             ],
             [
              0.5555555555555556,
              "#d8576b"
             ],
             [
              0.6666666666666666,
              "#ed7953"
             ],
             [
              0.7777777777777778,
              "#fb9f3a"
             ],
             [
              0.8888888888888888,
              "#fdca26"
             ],
             [
              1,
              "#f0f921"
             ]
            ],
            "type": "histogram2d"
           }
          ],
          "histogram2dcontour": [
           {
            "colorbar": {
             "outlinewidth": 0,
             "ticks": ""
            },
            "colorscale": [
             [
              0,
              "#0d0887"
             ],
             [
              0.1111111111111111,
              "#46039f"
             ],
             [
              0.2222222222222222,
              "#7201a8"
             ],
             [
              0.3333333333333333,
              "#9c179e"
             ],
             [
              0.4444444444444444,
              "#bd3786"
             ],
             [
              0.5555555555555556,
              "#d8576b"
             ],
             [
              0.6666666666666666,
              "#ed7953"
             ],
             [
              0.7777777777777778,
              "#fb9f3a"
             ],
             [
              0.8888888888888888,
              "#fdca26"
             ],
             [
              1,
              "#f0f921"
             ]
            ],
            "type": "histogram2dcontour"
           }
          ],
          "mesh3d": [
           {
            "colorbar": {
             "outlinewidth": 0,
             "ticks": ""
            },
            "type": "mesh3d"
           }
          ],
          "parcoords": [
           {
            "line": {
             "colorbar": {
              "outlinewidth": 0,
              "ticks": ""
             }
            },
            "type": "parcoords"
           }
          ],
          "pie": [
           {
            "automargin": true,
            "type": "pie"
           }
          ],
          "scatter": [
           {
            "fillpattern": {
             "fillmode": "overlay",
             "size": 10,
             "solidity": 0.2
            },
            "type": "scatter"
           }
          ],
          "scatter3d": [
           {
            "line": {
             "colorbar": {
              "outlinewidth": 0,
              "ticks": ""
             }
            },
            "marker": {
             "colorbar": {
              "outlinewidth": 0,
              "ticks": ""
             }
            },
            "type": "scatter3d"
           }
          ],
          "scattercarpet": [
           {
            "marker": {
             "colorbar": {
              "outlinewidth": 0,
              "ticks": ""
             }
            },
            "type": "scattercarpet"
           }
          ],
          "scattergeo": [
           {
            "marker": {
             "colorbar": {
              "outlinewidth": 0,
              "ticks": ""
             }
            },
            "type": "scattergeo"
           }
          ],
          "scattergl": [
           {
            "marker": {
             "colorbar": {
              "outlinewidth": 0,
              "ticks": ""
             }
            },
            "type": "scattergl"
           }
          ],
          "scattermapbox": [
           {
            "marker": {
             "colorbar": {
              "outlinewidth": 0,
              "ticks": ""
             }
            },
            "type": "scattermapbox"
           }
          ],
          "scatterpolar": [
           {
            "marker": {
             "colorbar": {
              "outlinewidth": 0,
              "ticks": ""
             }
            },
            "type": "scatterpolar"
           }
          ],
          "scatterpolargl": [
           {
            "marker": {
             "colorbar": {
              "outlinewidth": 0,
              "ticks": ""
             }
            },
            "type": "scatterpolargl"
           }
          ],
          "scatterternary": [
           {
            "marker": {
             "colorbar": {
              "outlinewidth": 0,
              "ticks": ""
             }
            },
            "type": "scatterternary"
           }
          ],
          "surface": [
           {
            "colorbar": {
             "outlinewidth": 0,
             "ticks": ""
            },
            "colorscale": [
             [
              0,
              "#0d0887"
             ],
             [
              0.1111111111111111,
              "#46039f"
             ],
             [
              0.2222222222222222,
              "#7201a8"
             ],
             [
              0.3333333333333333,
              "#9c179e"
             ],
             [
              0.4444444444444444,
              "#bd3786"
             ],
             [
              0.5555555555555556,
              "#d8576b"
             ],
             [
              0.6666666666666666,
              "#ed7953"
             ],
             [
              0.7777777777777778,
              "#fb9f3a"
             ],
             [
              0.8888888888888888,
              "#fdca26"
             ],
             [
              1,
              "#f0f921"
             ]
            ],
            "type": "surface"
           }
          ],
          "table": [
           {
            "cells": {
             "fill": {
              "color": "#EBF0F8"
             },
             "line": {
              "color": "white"
             }
            },
            "header": {
             "fill": {
              "color": "#C8D4E3"
             },
             "line": {
              "color": "white"
             }
            },
            "type": "table"
           }
          ]
         },
         "layout": {
          "annotationdefaults": {
           "arrowcolor": "#2a3f5f",
           "arrowhead": 0,
           "arrowwidth": 1
          },
          "autotypenumbers": "strict",
          "coloraxis": {
           "colorbar": {
            "outlinewidth": 0,
            "ticks": ""
           }
          },
          "colorscale": {
           "diverging": [
            [
             0,
             "#8e0152"
            ],
            [
             0.1,
             "#c51b7d"
            ],
            [
             0.2,
             "#de77ae"
            ],
            [
             0.3,
             "#f1b6da"
            ],
            [
             0.4,
             "#fde0ef"
            ],
            [
             0.5,
             "#f7f7f7"
            ],
            [
             0.6,
             "#e6f5d0"
            ],
            [
             0.7,
             "#b8e186"
            ],
            [
             0.8,
             "#7fbc41"
            ],
            [
             0.9,
             "#4d9221"
            ],
            [
             1,
             "#276419"
            ]
           ],
           "sequential": [
            [
             0,
             "#0d0887"
            ],
            [
             0.1111111111111111,
             "#46039f"
            ],
            [
             0.2222222222222222,
             "#7201a8"
            ],
            [
             0.3333333333333333,
             "#9c179e"
            ],
            [
             0.4444444444444444,
             "#bd3786"
            ],
            [
             0.5555555555555556,
             "#d8576b"
            ],
            [
             0.6666666666666666,
             "#ed7953"
            ],
            [
             0.7777777777777778,
             "#fb9f3a"
            ],
            [
             0.8888888888888888,
             "#fdca26"
            ],
            [
             1,
             "#f0f921"
            ]
           ],
           "sequentialminus": [
            [
             0,
             "#0d0887"
            ],
            [
             0.1111111111111111,
             "#46039f"
            ],
            [
             0.2222222222222222,
             "#7201a8"
            ],
            [
             0.3333333333333333,
             "#9c179e"
            ],
            [
             0.4444444444444444,
             "#bd3786"
            ],
            [
             0.5555555555555556,
             "#d8576b"
            ],
            [
             0.6666666666666666,
             "#ed7953"
            ],
            [
             0.7777777777777778,
             "#fb9f3a"
            ],
            [
             0.8888888888888888,
             "#fdca26"
            ],
            [
             1,
             "#f0f921"
            ]
           ]
          },
          "colorway": [
           "#636efa",
           "#EF553B",
           "#00cc96",
           "#ab63fa",
           "#FFA15A",
           "#19d3f3",
           "#FF6692",
           "#B6E880",
           "#FF97FF",
           "#FECB52"
          ],
          "font": {
           "color": "#2a3f5f"
          },
          "geo": {
           "bgcolor": "white",
           "lakecolor": "white",
           "landcolor": "#E5ECF6",
           "showlakes": true,
           "showland": true,
           "subunitcolor": "white"
          },
          "hoverlabel": {
           "align": "left"
          },
          "hovermode": "closest",
          "mapbox": {
           "style": "light"
          },
          "paper_bgcolor": "white",
          "plot_bgcolor": "#E5ECF6",
          "polar": {
           "angularaxis": {
            "gridcolor": "white",
            "linecolor": "white",
            "ticks": ""
           },
           "bgcolor": "#E5ECF6",
           "radialaxis": {
            "gridcolor": "white",
            "linecolor": "white",
            "ticks": ""
           }
          },
          "scene": {
           "xaxis": {
            "backgroundcolor": "#E5ECF6",
            "gridcolor": "white",
            "gridwidth": 2,
            "linecolor": "white",
            "showbackground": true,
            "ticks": "",
            "zerolinecolor": "white"
           },
           "yaxis": {
            "backgroundcolor": "#E5ECF6",
            "gridcolor": "white",
            "gridwidth": 2,
            "linecolor": "white",
            "showbackground": true,
            "ticks": "",
            "zerolinecolor": "white"
           },
           "zaxis": {
            "backgroundcolor": "#E5ECF6",
            "gridcolor": "white",
            "gridwidth": 2,
            "linecolor": "white",
            "showbackground": true,
            "ticks": "",
            "zerolinecolor": "white"
           }
          },
          "shapedefaults": {
           "line": {
            "color": "#2a3f5f"
           }
          },
          "ternary": {
           "aaxis": {
            "gridcolor": "white",
            "linecolor": "white",
            "ticks": ""
           },
           "baxis": {
            "gridcolor": "white",
            "linecolor": "white",
            "ticks": ""
           },
           "bgcolor": "#E5ECF6",
           "caxis": {
            "gridcolor": "white",
            "linecolor": "white",
            "ticks": ""
           }
          },
          "title": {
           "x": 0.05
          },
          "xaxis": {
           "automargin": true,
           "gridcolor": "white",
           "linecolor": "white",
           "ticks": "",
           "title": {
            "standoff": 15
           },
           "zerolinecolor": "white",
           "zerolinewidth": 2
          },
          "yaxis": {
           "automargin": true,
           "gridcolor": "white",
           "linecolor": "white",
           "ticks": "",
           "title": {
            "standoff": 15
           },
           "zerolinecolor": "white",
           "zerolinewidth": 2
          }
         }
        },
        "title": {
         "text": "Percent of all homes owned by investors in San Diego City",
         "x": 0.5,
         "xanchor": "center",
         "y": 0.97,
         "yanchor": "top"
        },
        "width": 1600,
        "xaxis": {
         "anchor": "y",
         "autorange": true,
         "domain": [
          0,
          1
         ],
         "gridcolor": "LightGrey",
         "gridwidth": 1,
         "range": [
          "2018-09-13 03:28:30.3315",
          "2024-06-18 20:31:29.6685"
         ],
         "showgrid": true,
         "title": {
          "text": "date"
         },
         "type": "date"
        },
        "yaxis": {
         "anchor": "x",
         "autorange": true,
         "domain": [
          0,
          1
         ],
         "gridcolor": "LightGrey",
         "gridwidth": 1,
         "range": [
          0.20455951903807615,
          0.2530404809619239
         ],
         "showgrid": true,
         "tickformat": ".1%",
         "title": {
          "text": "Percent of all Homes Owned by Investors"
         },
         "type": "linear"
        }
       }
      },
      "image/png": "[encoded data removed]"
     },
     "metadata": {},
     "output_type": "display_data"
    }
   ],
   "source": [
    "# Creating the line chart\n",
    "fig = px.line(\n",
    "    investor_ownership, \n",
    "    x='date', \n",
    "    y='pct_ownership', \n",
    "    title=f'Percent of all homes owned by investors in {name}',\n",
    "    labels={'pct_ownership': 'Percent of all Homes Owned by Investors'}\n",
    ")\n",
    "\n",
    "# Showing the plot\n",
    "# Add the logo as a layout_image\n",
    "fig.add_layout_image(\n",
    "    labs_logo_dict\n",
    ")\n",
    "\n",
    "fig.update_layout(\n",
    "    margin=dict(b=100),\n",
    "    height=IMG_HEIGHT,\n",
    "    width=IMG_WIDTH,\n",
    "    legend=dict(\n",
    "        x=0.01,\n",
    "        y=0.99,\n",
    "        traceorder=\"normal\",\n",
    "        xanchor='left',\n",
    "        yanchor='top',\n",
    "        title='Rolling Window (Days)'\n",
    "    ),\n",
    "    title=PLOT_TITLE_SETTINGS,\n",
    "    plot_bgcolor='#080D16',\n",
    "    paper_bgcolor='#080D16',\n",
    "    font=dict(color='#FFFFFF'),\n",
    "    xaxis_title='date'\n",
    ")\n",
    "\n",
    "fig.update_traces(\n",
    "    line=dict(color='#FFFFFF', width=3),\n",
    "    mode='lines+markers',\n",
    "    marker=dict(color='#448CF2', size=5)\n",
    ")\n",
    "\n",
    "\n",
    "# Adding gridlines\n",
    "fig.update_xaxes(showgrid=True, gridwidth=1, gridcolor='LightGrey')\n",
    "fig.update_yaxes(showgrid=True, gridwidth=1, gridcolor='LightGrey')\n",
    "fig.update_yaxes(tickformat=\".1%\")\n",
    "\n",
    "# save\n",
    "fig.write_image(os.path.join(output_dir, 'percent_all_homes_owned_by_investors.png'), width=IMG_WIDTH, height=IMG_HEIGHT)\n",
    "\n",
    "# Show the plot\n",
    "fig.show()"
   ]
  },
  {
   "cell_type": "markdown",
   "id": "9b636f98",
   "metadata": {},
   "source": [
    "We can see that 1 in 5 homes in the San Diego market are owned by investors. That concentration is not evenly distributed among property types. Lets now analyze the ownership structure of Single Family Homes by portfolio size of the investors that own these properties. "
   ]
  },
  {
   "cell_type": "code",
   "execution_count": 46,
   "id": "547ab805-2016-4a3e-b7c9-86acab4c36b0",
   "metadata": {},
   "outputs": [
    {
     "data": {
      "text/html": [
       "<div>\n",
       "<style scoped>\n",
       "    .dataframe tbody tr th:only-of-type {\n",
       "        vertical-align: middle;\n",
       "    }\n",
       "\n",
       "    .dataframe tbody tr th {\n",
       "        vertical-align: top;\n",
       "    }\n",
       "\n",
       "    .dataframe thead th {\n",
       "        text-align: right;\n",
       "    }\n",
       "</style>\n",
       "<table border=\"1\" class=\"dataframe\">\n",
       "  <thead>\n",
       "    <tr style=\"text-align: right;\">\n",
       "      <th></th>\n",
       "      <th>date</th>\n",
       "      <th>count_portfolio_2_to_9</th>\n",
       "      <th>count_portfolio_10_to_99</th>\n",
       "      <th>count_portfolio_100_to_999</th>\n",
       "      <th>count_portfolio_1000_plus</th>\n",
       "      <th>count_all_portfolios</th>\n",
       "      <th>pct_sf_housing_stock_portfolio_2_to_9</th>\n",
       "      <th>pct_sf_housing_stock_portfolio_10_to_99</th>\n",
       "      <th>pct_sf_housing_stock_portfolio_100_to_999</th>\n",
       "      <th>pct_sf_housing_stock_portfolio_1000_plus</th>\n",
       "      <th>pct_sf_housing_stock_all_portfolios</th>\n",
       "      <th>parcl_id</th>\n",
       "    </tr>\n",
       "  </thead>\n",
       "  <tbody>\n",
       "    <tr>\n",
       "      <th>0</th>\n",
       "      <td>2024-03-01</td>\n",
       "      <td>22783</td>\n",
       "      <td>755</td>\n",
       "      <td>11</td>\n",
       "      <td>115</td>\n",
       "      <td>23664</td>\n",
       "      <td>10.52</td>\n",
       "      <td>0.35</td>\n",
       "      <td>0.01</td>\n",
       "      <td>0.05</td>\n",
       "      <td>10.92</td>\n",
       "      <td>5374167</td>\n",
       "    </tr>\n",
       "  </tbody>\n",
       "</table>\n",
       "</div>"
      ],
      "text/plain": [
       "         date  count_portfolio_2_to_9  count_portfolio_10_to_99  \\\n",
       "0  2024-03-01                   22783                       755   \n",
       "\n",
       "   count_portfolio_100_to_999  count_portfolio_1000_plus  \\\n",
       "0                          11                        115   \n",
       "\n",
       "   count_all_portfolios  pct_sf_housing_stock_portfolio_2_to_9  \\\n",
       "0                 23664                                  10.52   \n",
       "\n",
       "   pct_sf_housing_stock_portfolio_10_to_99  \\\n",
       "0                                     0.35   \n",
       "\n",
       "   pct_sf_housing_stock_portfolio_100_to_999  \\\n",
       "0                                       0.01   \n",
       "\n",
       "   pct_sf_housing_stock_portfolio_1000_plus  \\\n",
       "0                                      0.05   \n",
       "\n",
       "   pct_sf_housing_stock_all_portfolios  parcl_id  \n",
       "0                                10.92   5374167  "
      ]
     },
     "execution_count": 46,
     "metadata": {},
     "output_type": "execute_result"
    }
   ],
   "source": [
    "# lets retrieve the portfolio size ownership metrics\n",
    "portfolio_size_ownership = client.portfolio_metrics_sf_housing_stock_ownership.retrieve(\n",
    "    parcl_id=analysis_parcl_id,\n",
    "    as_dataframe=True\n",
    ")\n",
    "\n",
    "portfolio_size_ownership.head()"
   ]
  },
  {
   "cell_type": "code",
   "execution_count": 47,
   "id": "4adc1923-9253-4b65-a250-f73636077f7a",
   "metadata": {},
   "outputs": [
    {
     "data": {
      "text/html": [
       "<div>\n",
       "<style scoped>\n",
       "    .dataframe tbody tr th:only-of-type {\n",
       "        vertical-align: middle;\n",
       "    }\n",
       "\n",
       "    .dataframe tbody tr th {\n",
       "        vertical-align: top;\n",
       "    }\n",
       "\n",
       "    .dataframe thead th {\n",
       "        text-align: right;\n",
       "    }\n",
       "</style>\n",
       "<table border=\"1\" class=\"dataframe\">\n",
       "  <thead>\n",
       "    <tr style=\"text-align: right;\">\n",
       "      <th></th>\n",
       "      <th>date</th>\n",
       "      <th>category</th>\n",
       "      <th>percentage</th>\n",
       "    </tr>\n",
       "  </thead>\n",
       "  <tbody>\n",
       "    <tr>\n",
       "      <th>0</th>\n",
       "      <td>2024-03-01</td>\n",
       "      <td>Investor Portfolio (2 to 9 Units)</td>\n",
       "      <td>0.1052</td>\n",
       "    </tr>\n",
       "    <tr>\n",
       "      <th>1</th>\n",
       "      <td>2024-03-01</td>\n",
       "      <td>Investor Portfolio (10 to 99 Units)</td>\n",
       "      <td>0.0035</td>\n",
       "    </tr>\n",
       "    <tr>\n",
       "      <th>2</th>\n",
       "      <td>2024-03-01</td>\n",
       "      <td>Investor Portfolio (100 to 999 Units)</td>\n",
       "      <td>0.0001</td>\n",
       "    </tr>\n",
       "    <tr>\n",
       "      <th>3</th>\n",
       "      <td>2024-03-01</td>\n",
       "      <td>Investor Portfolio (1000+ Units)</td>\n",
       "      <td>0.0005</td>\n",
       "    </tr>\n",
       "    <tr>\n",
       "      <th>4</th>\n",
       "      <td>2024-03-01</td>\n",
       "      <td>Investor Portfolio (All Sizes)</td>\n",
       "      <td>0.1092</td>\n",
       "    </tr>\n",
       "  </tbody>\n",
       "</table>\n",
       "</div>"
      ],
      "text/plain": [
       "         date                               category  percentage\n",
       "0  2024-03-01      Investor Portfolio (2 to 9 Units)      0.1052\n",
       "1  2024-03-01    Investor Portfolio (10 to 99 Units)      0.0035\n",
       "2  2024-03-01  Investor Portfolio (100 to 999 Units)      0.0001\n",
       "3  2024-03-01       Investor Portfolio (1000+ Units)      0.0005\n",
       "4  2024-03-01         Investor Portfolio (All Sizes)      0.1092"
      ]
     },
     "execution_count": 47,
     "metadata": {},
     "output_type": "execute_result"
    }
   ],
   "source": [
    "# lets focus on the percentages, so we create a subset of the data\n",
    "pso_pcts = portfolio_size_ownership[[\n",
    "    'date', \n",
    "    'pct_sf_housing_stock_portfolio_2_to_9', \n",
    "    'pct_sf_housing_stock_portfolio_10_to_99', \n",
    "    'pct_sf_housing_stock_portfolio_100_to_999',\n",
    "    'pct_sf_housing_stock_portfolio_1000_plus',\n",
    "    'pct_sf_housing_stock_all_portfolios'\n",
    "]]\n",
    "\n",
    "# do some data wrangling to make the data long format and divide by 100 so plotly can handle the formatting\n",
    "pso_pcts_long = pso_pcts.melt(id_vars=['date'], var_name='category', value_name='percentage')\n",
    "pso_pcts_long['percentage'] = pso_pcts_long['percentage']/100\n",
    "\n",
    "# rename to friendly labels\n",
    "friendly_labels = {\n",
    "    'pct_sf_housing_stock_portfolio_2_to_9': 'Investor Portfolio (2 to 9 Units)', \n",
    "    'pct_sf_housing_stock_portfolio_10_to_99': 'Investor Portfolio (10 to 99 Units)', \n",
    "    'pct_sf_housing_stock_portfolio_100_to_999': 'Investor Portfolio (100 to 999 Units)',\n",
    "    'pct_sf_housing_stock_portfolio_1000_plus': 'Investor Portfolio (1000+ Units)',\n",
    "    'pct_sf_housing_stock_all_portfolios': 'Investor Portfolio (All Sizes)'\n",
    "}\n",
    "\n",
    "pso_pcts_long['category'] = pso_pcts_long['category'].replace(friendly_labels)\n",
    "pso_pcts_long.head()"
   ]
  },
  {
   "cell_type": "code",
   "execution_count": 48,
   "id": "49e00717-43d9-45ca-9d54-ebccb116c2fa",
   "metadata": {},
   "outputs": [
    {
     "data": {
      "application/vnd.plotly.v1+json": {
       "config": {
        "plotlyServerURL": "https://plot.ly"
       },
       "data": [
        {
         "alignmentgroup": "True",
         "hovertemplate": "Portfolio Size=%{x}<br>% of Single Family Homes Owned=%{y}<extra></extra>",
         "legendgroup": "",
         "marker": {
          "color": "#448CF2",
          "pattern": {
           "shape": ""
          }
         },
         "name": "",
         "offsetgroup": "",
         "orientation": "v",
         "showlegend": false,
         "textposition": "auto",
         "type": "bar",
         "x": [
          "Investor Portfolio (2 to 9 Units)",
          "Investor Portfolio (10 to 99 Units)",
          "Investor Portfolio (100 to 999 Units)",
          "Investor Portfolio (1000+ Units)",
          "Investor Portfolio (All Sizes)"
         ],
         "xaxis": "x",
         "y": [
          0.1052,
          0.0034999999999999996,
          0.0001,
          0.0005,
          0.1092
         ],
         "yaxis": "y"
        }
       ],
       "layout": {
        "barmode": "relative",
        "font": {
         "color": "#FFFFFF"
        },
        "height": 900,
        "images": [
         {
          "sizex": 0.15,
          "sizey": 0.15,
          "source": "https://parcllabs-assets.s3.amazonaws.com/powered-by-parcllabs-api-logo-white.png",
          "x": 0.5,
          "xanchor": "center",
          "xref": "paper",
          "y": 1.02,
          "yanchor": "bottom",
          "yref": "paper"
         }
        ],
        "legend": {
         "title": {
          "text": "Rolling Window (Days)"
         },
         "tracegroupgap": 0,
         "traceorder": "normal",
         "x": 0.01,
         "xanchor": "left",
         "y": 0.99,
         "yanchor": "top"
        },
        "margin": {
         "b": 100
        },
        "paper_bgcolor": "#080D16",
        "plot_bgcolor": "#080D16",
        "template": {
         "data": {
          "bar": [
           {
            "error_x": {
             "color": "#2a3f5f"
            },
            "error_y": {
             "color": "#2a3f5f"
            },
            "marker": {
             "line": {
              "color": "#E5ECF6",
              "width": 0.5
             },
             "pattern": {
              "fillmode": "overlay",
              "size": 10,
              "solidity": 0.2
             }
            },
            "type": "bar"
           }
          ],
          "barpolar": [
           {
            "marker": {
             "line": {
              "color": "#E5ECF6",
              "width": 0.5
             },
             "pattern": {
              "fillmode": "overlay",
              "size": 10,
              "solidity": 0.2
             }
            },
            "type": "barpolar"
           }
          ],
          "carpet": [
           {
            "aaxis": {
             "endlinecolor": "#2a3f5f",
             "gridcolor": "white",
             "linecolor": "white",
             "minorgridcolor": "white",
             "startlinecolor": "#2a3f5f"
            },
            "baxis": {
             "endlinecolor": "#2a3f5f",
             "gridcolor": "white",
             "linecolor": "white",
             "minorgridcolor": "white",
             "startlinecolor": "#2a3f5f"
            },
            "type": "carpet"
           }
          ],
          "choropleth": [
           {
            "colorbar": {
             "outlinewidth": 0,
             "ticks": ""
            },
            "type": "choropleth"
           }
          ],
          "contour": [
           {
            "colorbar": {
             "outlinewidth": 0,
             "ticks": ""
            },
            "colorscale": [
             [
              0,
              "#0d0887"
             ],
             [
              0.1111111111111111,
              "#46039f"
             ],
             [
              0.2222222222222222,
              "#7201a8"
             ],
             [
              0.3333333333333333,
              "#9c179e"
             ],
             [
              0.4444444444444444,
              "#bd3786"
             ],
             [
              0.5555555555555556,
              "#d8576b"
             ],
             [
              0.6666666666666666,
              "#ed7953"
             ],
             [
              0.7777777777777778,
              "#fb9f3a"
             ],
             [
              0.8888888888888888,
              "#fdca26"
             ],
             [
              1,
              "#f0f921"
             ]
            ],
            "type": "contour"
           }
          ],
          "contourcarpet": [
           {
            "colorbar": {
             "outlinewidth": 0,
             "ticks": ""
            },
            "type": "contourcarpet"
           }
          ],
          "heatmap": [
           {
            "colorbar": {
             "outlinewidth": 0,
             "ticks": ""
            },
            "colorscale": [
             [
              0,
              "#0d0887"
             ],
             [
              0.1111111111111111,
              "#46039f"
             ],
             [
              0.2222222222222222,
              "#7201a8"
             ],
             [
              0.3333333333333333,
              "#9c179e"
             ],
             [
              0.4444444444444444,
              "#bd3786"
             ],
             [
              0.5555555555555556,
              "#d8576b"
             ],
             [
              0.6666666666666666,
              "#ed7953"
             ],
             [
              0.7777777777777778,
              "#fb9f3a"
             ],
             [
              0.8888888888888888,
              "#fdca26"
             ],
             [
              1,
              "#f0f921"
             ]
            ],
            "type": "heatmap"
           }
          ],
          "heatmapgl": [
           {
            "colorbar": {
             "outlinewidth": 0,
             "ticks": ""
            },
            "colorscale": [
             [
              0,
              "#0d0887"
             ],
             [
              0.1111111111111111,
              "#46039f"
             ],
             [
              0.2222222222222222,
              "#7201a8"
             ],
             [
              0.3333333333333333,
              "#9c179e"
             ],
             [
              0.4444444444444444,
              "#bd3786"
             ],
             [
              0.5555555555555556,
              "#d8576b"
             ],
             [
              0.6666666666666666,
              "#ed7953"
             ],
             [
              0.7777777777777778,
              "#fb9f3a"
             ],
             [
              0.8888888888888888,
              "#fdca26"
             ],
             [
              1,
              "#f0f921"
             ]
            ],
            "type": "heatmapgl"
           }
          ],
          "histogram": [
           {
            "marker": {
             "pattern": {
              "fillmode": "overlay",
              "size": 10,
              "solidity": 0.2
             }
            },
            "type": "histogram"
           }
          ],
          "histogram2d": [
           {
            "colorbar": {
             "outlinewidth": 0,
             "ticks": ""
            },
            "colorscale": [
             [
              0,
              "#0d0887"
             ],
             [
              0.1111111111111111,
              "#46039f"
             ],
             [
              0.2222222222222222,
              "#7201a8"
             ],
             [
              0.3333333333333333,
              "#9c179e"
             ],
             [
              0.4444444444444444,
              "#bd3786"
             ],
             [
              0.5555555555555556,
              "#d8576b"
             ],
             [
              0.6666666666666666,
              "#ed7953"
             ],
             [
              0.7777777777777778,
              "#fb9f3a"
             ],
             [
              0.8888888888888888,
              "#fdca26"
             ],
             [
              1,
              "#f0f921"
             ]
            ],
            "type": "histogram2d"
           }
          ],
          "histogram2dcontour": [
           {
            "colorbar": {
             "outlinewidth": 0,
             "ticks": ""
            },
            "colorscale": [
             [
              0,
              "#0d0887"
             ],
             [
              0.1111111111111111,
              "#46039f"
             ],
             [
              0.2222222222222222,
              "#7201a8"
             ],
             [
              0.3333333333333333,
              "#9c179e"
             ],
             [
              0.4444444444444444,
              "#bd3786"
             ],
             [
              0.5555555555555556,
              "#d8576b"
             ],
             [
              0.6666666666666666,
              "#ed7953"
             ],
             [
              0.7777777777777778,
              "#fb9f3a"
             ],
             [
              0.8888888888888888,
              "#fdca26"
             ],
             [
              1,
              "#f0f921"
             ]
            ],
            "type": "histogram2dcontour"
           }
          ],
          "mesh3d": [
           {
            "colorbar": {
             "outlinewidth": 0,
             "ticks": ""
            },
            "type": "mesh3d"
           }
          ],
          "parcoords": [
           {
            "line": {
             "colorbar": {
              "outlinewidth": 0,
              "ticks": ""
             }
            },
            "type": "parcoords"
           }
          ],
          "pie": [
           {
            "automargin": true,
            "type": "pie"
           }
          ],
          "scatter": [
           {
            "fillpattern": {
             "fillmode": "overlay",
             "size": 10,
             "solidity": 0.2
            },
            "type": "scatter"
           }
          ],
          "scatter3d": [
           {
            "line": {
             "colorbar": {
              "outlinewidth": 0,
              "ticks": ""
             }
            },
            "marker": {
             "colorbar": {
              "outlinewidth": 0,
              "ticks": ""
             }
            },
            "type": "scatter3d"
           }
          ],
          "scattercarpet": [
           {
            "marker": {
             "colorbar": {
              "outlinewidth": 0,
              "ticks": ""
             }
            },
            "type": "scattercarpet"
           }
          ],
          "scattergeo": [
           {
            "marker": {
             "colorbar": {
              "outlinewidth": 0,
              "ticks": ""
             }
            },
            "type": "scattergeo"
           }
          ],
          "scattergl": [
           {
            "marker": {
             "colorbar": {
              "outlinewidth": 0,
              "ticks": ""
             }
            },
            "type": "scattergl"
           }
          ],
          "scattermapbox": [
           {
            "marker": {
             "colorbar": {
              "outlinewidth": 0,
              "ticks": ""
             }
            },
            "type": "scattermapbox"
           }
          ],
          "scatterpolar": [
           {
            "marker": {
             "colorbar": {
              "outlinewidth": 0,
              "ticks": ""
             }
            },
            "type": "scatterpolar"
           }
          ],
          "scatterpolargl": [
           {
            "marker": {
             "colorbar": {
              "outlinewidth": 0,
              "ticks": ""
             }
            },
            "type": "scatterpolargl"
           }
          ],
          "scatterternary": [
           {
            "marker": {
             "colorbar": {
              "outlinewidth": 0,
              "ticks": ""
             }
            },
            "type": "scatterternary"
           }
          ],
          "surface": [
           {
            "colorbar": {
             "outlinewidth": 0,
             "ticks": ""
            },
            "colorscale": [
             [
              0,
              "#0d0887"
             ],
             [
              0.1111111111111111,
              "#46039f"
             ],
             [
              0.2222222222222222,
              "#7201a8"
             ],
             [
              0.3333333333333333,
              "#9c179e"
             ],
             [
              0.4444444444444444,
              "#bd3786"
             ],
             [
              0.5555555555555556,
              "#d8576b"
             ],
             [
              0.6666666666666666,
              "#ed7953"
             ],
             [
              0.7777777777777778,
              "#fb9f3a"
             ],
             [
              0.8888888888888888,
              "#fdca26"
             ],
             [
              1,
              "#f0f921"
             ]
            ],
            "type": "surface"
           }
          ],
          "table": [
           {
            "cells": {
             "fill": {
              "color": "#EBF0F8"
             },
             "line": {
              "color": "white"
             }
            },
            "header": {
             "fill": {
              "color": "#C8D4E3"
             },
             "line": {
              "color": "white"
             }
            },
            "type": "table"
           }
          ]
         },
         "layout": {
          "annotationdefaults": {
           "arrowcolor": "#2a3f5f",
           "arrowhead": 0,
           "arrowwidth": 1
          },
          "autotypenumbers": "strict",
          "coloraxis": {
           "colorbar": {
            "outlinewidth": 0,
            "ticks": ""
           }
          },
          "colorscale": {
           "diverging": [
            [
             0,
             "#8e0152"
            ],
            [
             0.1,
             "#c51b7d"
            ],
            [
             0.2,
             "#de77ae"
            ],
            [
             0.3,
             "#f1b6da"
            ],
            [
             0.4,
             "#fde0ef"
            ],
            [
             0.5,
             "#f7f7f7"
            ],
            [
             0.6,
             "#e6f5d0"
            ],
            [
             0.7,
             "#b8e186"
            ],
            [
             0.8,
             "#7fbc41"
            ],
            [
             0.9,
             "#4d9221"
            ],
            [
             1,
             "#276419"
            ]
           ],
           "sequential": [
            [
             0,
             "#0d0887"
            ],
            [
             0.1111111111111111,
             "#46039f"
            ],
            [
             0.2222222222222222,
             "#7201a8"
            ],
            [
             0.3333333333333333,
             "#9c179e"
            ],
            [
             0.4444444444444444,
             "#bd3786"
            ],
            [
             0.5555555555555556,
             "#d8576b"
            ],
            [
             0.6666666666666666,
             "#ed7953"
            ],
            [
             0.7777777777777778,
             "#fb9f3a"
            ],
            [
             0.8888888888888888,
             "#fdca26"
            ],
            [
             1,
             "#f0f921"
            ]
           ],
           "sequentialminus": [
            [
             0,
             "#0d0887"
            ],
            [
             0.1111111111111111,
             "#46039f"
            ],
            [
             0.2222222222222222,
             "#7201a8"
            ],
            [
             0.3333333333333333,
             "#9c179e"
            ],
            [
             0.4444444444444444,
             "#bd3786"
            ],
            [
             0.5555555555555556,
             "#d8576b"
            ],
            [
             0.6666666666666666,
             "#ed7953"
            ],
            [
             0.7777777777777778,
             "#fb9f3a"
            ],
            [
             0.8888888888888888,
             "#fdca26"
            ],
            [
             1,
             "#f0f921"
            ]
           ]
          },
          "colorway": [
           "#636efa",
           "#EF553B",
           "#00cc96",
           "#ab63fa",
           "#FFA15A",
           "#19d3f3",
           "#FF6692",
           "#B6E880",
           "#FF97FF",
           "#FECB52"
          ],
          "font": {
           "color": "#2a3f5f"
          },
          "geo": {
           "bgcolor": "white",
           "lakecolor": "white",
           "landcolor": "#E5ECF6",
           "showlakes": true,
           "showland": true,
           "subunitcolor": "white"
          },
          "hoverlabel": {
           "align": "left"
          },
          "hovermode": "closest",
          "mapbox": {
           "style": "light"
          },
          "paper_bgcolor": "white",
          "plot_bgcolor": "#E5ECF6",
          "polar": {
           "angularaxis": {
            "gridcolor": "white",
            "linecolor": "white",
            "ticks": ""
           },
           "bgcolor": "#E5ECF6",
           "radialaxis": {
            "gridcolor": "white",
            "linecolor": "white",
            "ticks": ""
           }
          },
          "scene": {
           "xaxis": {
            "backgroundcolor": "#E5ECF6",
            "gridcolor": "white",
            "gridwidth": 2,
            "linecolor": "white",
            "showbackground": true,
            "ticks": "",
            "zerolinecolor": "white"
           },
           "yaxis": {
            "backgroundcolor": "#E5ECF6",
            "gridcolor": "white",
            "gridwidth": 2,
            "linecolor": "white",
            "showbackground": true,
            "ticks": "",
            "zerolinecolor": "white"
           },
           "zaxis": {
            "backgroundcolor": "#E5ECF6",
            "gridcolor": "white",
            "gridwidth": 2,
            "linecolor": "white",
            "showbackground": true,
            "ticks": "",
            "zerolinecolor": "white"
           }
          },
          "shapedefaults": {
           "line": {
            "color": "#2a3f5f"
           }
          },
          "ternary": {
           "aaxis": {
            "gridcolor": "white",
            "linecolor": "white",
            "ticks": ""
           },
           "baxis": {
            "gridcolor": "white",
            "linecolor": "white",
            "ticks": ""
           },
           "bgcolor": "#E5ECF6",
           "caxis": {
            "gridcolor": "white",
            "linecolor": "white",
            "ticks": ""
           }
          },
          "title": {
           "x": 0.05
          },
          "xaxis": {
           "automargin": true,
           "gridcolor": "white",
           "linecolor": "white",
           "ticks": "",
           "title": {
            "standoff": 15
           },
           "zerolinecolor": "white",
           "zerolinewidth": 2
          },
          "yaxis": {
           "automargin": true,
           "gridcolor": "white",
           "linecolor": "white",
           "ticks": "",
           "title": {
            "standoff": 15
           },
           "zerolinecolor": "white",
           "zerolinewidth": 2
          }
         }
        },
        "title": {
         "text": "Percentages of Single Family Housing Stock by Portfolio Size: San Diego City",
         "x": 0.5,
         "xanchor": "center",
         "y": 0.97,
         "yanchor": "top"
        },
        "width": 1600,
        "xaxis": {
         "anchor": "y",
         "autorange": true,
         "domain": [
          0,
          1
         ],
         "gridcolor": "LightGrey",
         "gridwidth": 1,
         "range": [
          -0.5,
          4.5
         ],
         "showgrid": true,
         "title": {
          "text": ""
         },
         "type": "category"
        },
        "yaxis": {
         "anchor": "x",
         "autorange": true,
         "domain": [
          0,
          1
         ],
         "gridcolor": "LightGrey",
         "gridwidth": 1,
         "range": [
          0,
          0.11494736842105263
         ],
         "showgrid": true,
         "tickformat": ".1%",
         "title": {
          "text": "% of Single Family Homes Owned"
         },
         "type": "linear"
        }
       }
      },
      "image/png": "[encoded data removed]"
     },
     "metadata": {},
     "output_type": "display_data"
    }
   ],
   "source": [
    "# Creating the bar chart\n",
    "fig = px.bar(\n",
    "    pso_pcts_long,\n",
    "    x='category',\n",
    "    y='percentage',\n",
    "    title=f'Percentages of Single Family Housing Stock by Portfolio Size: {name}',\n",
    "    labels={'percentage': '% of Single Family Homes Owned', 'category': 'Portfolio Size'},\n",
    "    color_discrete_sequence=['#448CF2']  # Sets the color of the bars\n",
    ")\n",
    "\n",
    "# Adding layout image\n",
    "fig.add_layout_image(\n",
    "    labs_logo_dict\n",
    ")\n",
    "\n",
    "fig.update_layout(\n",
    "    margin=dict(b=100),\n",
    "    height=IMG_HEIGHT,\n",
    "    width=IMG_WIDTH,\n",
    "    legend=dict(\n",
    "        x=0.01,\n",
    "        y=0.99,\n",
    "        traceorder=\"normal\",\n",
    "        xanchor='left',\n",
    "        yanchor='top',\n",
    "        title='Rolling Window (Days)' \n",
    "    ),\n",
    "    title=PLOT_TITLE_SETTINGS,\n",
    "    plot_bgcolor='#080D16', \n",
    "    paper_bgcolor='#080D16',\n",
    "    font=dict(color='#FFFFFF'),\n",
    ")\n",
    "\n",
    "# Removing x-axis title as requested in previous query\n",
    "fig.update_layout(xaxis_title=\"\")\n",
    "fig.update_yaxes(tickformat=\".1%\") \n",
    "\n",
    "# Adding gridlines\n",
    "fig.update_xaxes(showgrid=True, gridwidth=1, gridcolor='LightGrey')\n",
    "fig.update_yaxes(showgrid=True, gridwidth=1, gridcolor='LightGrey')\n",
    "\n",
    "# save image\n",
    "fig.write_image(os.path.join(output_dir, 'portfolio_sfh_size_breakout.png'), width=IMG_WIDTH, height=IMG_HEIGHT)\n",
    "\n",
    "# Show the plot\n",
    "fig.show()"
   ]
  },
  {
   "cell_type": "markdown",
   "id": "ecf9956e-0cc3-4819-ad41-8166fa6f6b68",
   "metadata": {},
   "source": [
    "<a id='listings'></a>\n",
    "#### New Listings Analysis\n",
    "We can also capture the change in new listings on a 7, 30, 60 and 90 day rolling basis"
   ]
  },
  {
   "cell_type": "code",
   "execution_count": 49,
   "id": "b5fc6982-5c05-4a33-8ad4-f898ca996ca6",
   "metadata": {},
   "outputs": [
    {
     "data": {
      "text/html": [
       "<div>\n",
       "<style scoped>\n",
       "    .dataframe tbody tr th:only-of-type {\n",
       "        vertical-align: middle;\n",
       "    }\n",
       "\n",
       "    .dataframe tbody tr th {\n",
       "        vertical-align: top;\n",
       "    }\n",
       "\n",
       "    .dataframe thead th {\n",
       "        text-align: right;\n",
       "    }\n",
       "</style>\n",
       "<table border=\"1\" class=\"dataframe\">\n",
       "  <thead>\n",
       "    <tr style=\"text-align: right;\">\n",
       "      <th></th>\n",
       "      <th>date</th>\n",
       "      <th>rolling_7_day</th>\n",
       "      <th>rolling_30_day</th>\n",
       "      <th>rolling_60_day</th>\n",
       "      <th>rolling_90_day</th>\n",
       "      <th>parcl_id</th>\n",
       "    </tr>\n",
       "  </thead>\n",
       "  <tbody>\n",
       "    <tr>\n",
       "      <th>0</th>\n",
       "      <td>2024-04-29</td>\n",
       "      <td>387</td>\n",
       "      <td>1679</td>\n",
       "      <td>3396</td>\n",
       "      <td>4847</td>\n",
       "      <td>5374167</td>\n",
       "    </tr>\n",
       "    <tr>\n",
       "      <th>1</th>\n",
       "      <td>2024-04-22</td>\n",
       "      <td>398</td>\n",
       "      <td>1582</td>\n",
       "      <td>3354</td>\n",
       "      <td>4785</td>\n",
       "      <td>5374167</td>\n",
       "    </tr>\n",
       "    <tr>\n",
       "      <th>2</th>\n",
       "      <td>2024-04-15</td>\n",
       "      <td>399</td>\n",
       "      <td>1530</td>\n",
       "      <td>3273</td>\n",
       "      <td>4702</td>\n",
       "      <td>5374167</td>\n",
       "    </tr>\n",
       "    <tr>\n",
       "      <th>3</th>\n",
       "      <td>2024-04-08</td>\n",
       "      <td>411</td>\n",
       "      <td>1528</td>\n",
       "      <td>3163</td>\n",
       "      <td>4658</td>\n",
       "      <td>5374167</td>\n",
       "    </tr>\n",
       "    <tr>\n",
       "      <th>4</th>\n",
       "      <td>2024-04-01</td>\n",
       "      <td>298</td>\n",
       "      <td>1524</td>\n",
       "      <td>3067</td>\n",
       "      <td>4617</td>\n",
       "      <td>5374167</td>\n",
       "    </tr>\n",
       "  </tbody>\n",
       "</table>\n",
       "</div>"
      ],
      "text/plain": [
       "         date  rolling_7_day  rolling_30_day  rolling_60_day  rolling_90_day  \\\n",
       "0  2024-04-29            387            1679            3396            4847   \n",
       "1  2024-04-22            398            1582            3354            4785   \n",
       "2  2024-04-15            399            1530            3273            4702   \n",
       "3  2024-04-08            411            1528            3163            4658   \n",
       "4  2024-04-01            298            1524            3067            4617   \n",
       "\n",
       "   parcl_id  \n",
       "0   5374167  \n",
       "1   5374167  \n",
       "2   5374167  \n",
       "3   5374167  \n",
       "4   5374167  "
      ]
     },
     "execution_count": 49,
     "metadata": {},
     "output_type": "execute_result"
    }
   ],
   "source": [
    "# first order of business, lets see how new listings have changed over the last year\n",
    "start_date = '2023-01-01'\n",
    "\n",
    "new_listings = client.for_sale_market_metrics_new_listings_rolling_counts.retrieve(\n",
    "    parcl_id=analysis_parcl_id,\n",
    "    start_date=start_date,\n",
    "    as_dataframe=True,\n",
    "    params={\n",
    "        'limit': 300\n",
    "    }\n",
    ")\n",
    "new_listings.head()"
   ]
  },
  {
   "cell_type": "code",
   "execution_count": 50,
   "id": "afac419d-fee1-4e46-9cec-212cb6c20323",
   "metadata": {},
   "outputs": [],
   "source": [
    "# we will melt the data to make it long format\n",
    "new_listings_long = pd.melt(\n",
    "    new_listings, \n",
    "    id_vars=['date', 'parcl_id'], \n",
    "    value_vars=['rolling_30_day', 'rolling_60_day', 'rolling_90_day'],\n",
    "    value_name='Number of New Listings',\n",
    "    var_name='Rolling Window (Days)'\n",
    ")"
   ]
  },
  {
   "cell_type": "code",
   "execution_count": 51,
   "id": "cdee7bea-f2aa-4ca5-b325-d1af6f43b6b7",
   "metadata": {},
   "outputs": [
    {
     "data": {
      "application/vnd.plotly.v1+json": {
       "config": {
        "plotlyServerURL": "https://plot.ly"
       },
       "data": [
        {
         "hovertemplate": "Rolling Window (Days)=rolling_30_day<br>date=%{x}<br>Number of New Listings=%{y}<extra></extra>",
         "legendgroup": "rolling_30_day",
         "line": {
          "color": "#448CF2",
          "dash": "solid",
          "width": 3
         },
         "marker": {
          "color": "#448CF2",
          "size": 5,
          "symbol": "circle"
         },
         "mode": "lines+markers",
         "name": "rolling_30_day",
         "orientation": "v",
         "showlegend": true,
         "type": "scatter",
         "x": [
          "2024-04-29",
          "2024-04-22",
          "2024-04-15",
          "2024-04-08",
          "2024-04-01",
          "2024-03-25",
          "2024-03-18",
          "2024-03-11",
          "2024-03-04",
          "2024-02-26",
          "2024-02-19",
          "2024-02-12",
          "2024-02-05",
          "2024-01-29",
          "2024-01-22",
          "2024-01-15",
          "2024-01-08",
          "2024-01-01",
          "2023-12-25",
          "2023-12-18",
          "2023-12-11",
          "2023-12-04",
          "2023-11-27",
          "2023-11-20",
          "2023-11-13",
          "2023-11-06",
          "2023-10-30",
          "2023-10-23",
          "2023-10-16",
          "2023-10-09",
          "2023-10-02",
          "2023-09-25",
          "2023-09-18",
          "2023-09-11",
          "2023-09-04",
          "2023-08-28",
          "2023-08-21",
          "2023-08-14",
          "2023-08-07",
          "2023-07-31",
          "2023-07-24",
          "2023-07-17",
          "2023-07-10",
          "2023-07-03",
          "2023-06-26",
          "2023-06-19",
          "2023-06-12",
          "2023-06-05",
          "2023-05-29",
          "2023-05-22",
          "2023-05-15",
          "2023-05-08",
          "2023-05-01",
          "2023-04-24",
          "2023-04-17",
          "2023-04-10",
          "2023-04-03",
          "2023-03-27",
          "2023-03-20",
          "2023-03-13",
          "2023-03-06",
          "2023-02-27",
          "2023-02-20",
          "2023-02-13",
          "2023-02-06",
          "2023-01-30",
          "2023-01-23",
          "2023-01-16",
          "2023-01-09",
          "2023-01-02"
         ],
         "xaxis": "x",
         "y": [
          1679,
          1582,
          1530,
          1528,
          1524,
          1645,
          1593,
          1565,
          1450,
          1356,
          1402,
          1349,
          1469,
          1471,
          1205,
          1024,
          858,
          792,
          958,
          994,
          1083,
          1124,
          1162,
          1318,
          1355,
          1356,
          1414,
          1453,
          1436,
          1458,
          1368,
          1356,
          1381,
          1421,
          1493,
          1541,
          1536,
          1557,
          1561,
          1526,
          1570,
          1580,
          1568,
          1632,
          1606,
          1566,
          1564,
          1502,
          1522,
          1534,
          1548,
          1541,
          1496,
          1470,
          1409,
          1370,
          1375,
          1387,
          1365,
          1357,
          1391,
          1419,
          1461,
          1440,
          1400,
          1315,
          1107,
          915,
          824,
          768
         ],
         "yaxis": "y"
        },
        {
         "hovertemplate": "Rolling Window (Days)=rolling_60_day<br>date=%{x}<br>Number of New Listings=%{y}<extra></extra>",
         "legendgroup": "rolling_60_day",
         "line": {
          "color": "#EF553B",
          "dash": "solid",
          "width": 3
         },
         "marker": {
          "size": 5,
          "symbol": "circle"
         },
         "mode": "lines+markers",
         "name": "rolling_60_day",
         "orientation": "v",
         "showlegend": true,
         "type": "scatter",
         "x": [
          "2024-04-29",
          "2024-04-22",
          "2024-04-15",
          "2024-04-08",
          "2024-04-01",
          "2024-03-25",
          "2024-03-18",
          "2024-03-11",
          "2024-03-04",
          "2024-02-26",
          "2024-02-19",
          "2024-02-12",
          "2024-02-05",
          "2024-01-29",
          "2024-01-22",
          "2024-01-15",
          "2024-01-08",
          "2024-01-01",
          "2023-12-25",
          "2023-12-18",
          "2023-12-11",
          "2023-12-04",
          "2023-11-27",
          "2023-11-20",
          "2023-11-13",
          "2023-11-06",
          "2023-10-30",
          "2023-10-23",
          "2023-10-16",
          "2023-10-09",
          "2023-10-02",
          "2023-09-25",
          "2023-09-18",
          "2023-09-11",
          "2023-09-04",
          "2023-08-28",
          "2023-08-21",
          "2023-08-14",
          "2023-08-07",
          "2023-07-31",
          "2023-07-24",
          "2023-07-17",
          "2023-07-10",
          "2023-07-03",
          "2023-06-26",
          "2023-06-19",
          "2023-06-12",
          "2023-06-05",
          "2023-05-29",
          "2023-05-22",
          "2023-05-15",
          "2023-05-08",
          "2023-05-01",
          "2023-04-24",
          "2023-04-17",
          "2023-04-10",
          "2023-04-03",
          "2023-03-27",
          "2023-03-20",
          "2023-03-13",
          "2023-03-06",
          "2023-02-27",
          "2023-02-20",
          "2023-02-13",
          "2023-02-06",
          "2023-01-30",
          "2023-01-23",
          "2023-01-16",
          "2023-01-09",
          "2023-01-02"
         ],
         "xaxis": "x",
         "y": [
          3396,
          3354,
          3273,
          3163,
          3067,
          3105,
          3115,
          3046,
          3021,
          2838,
          2613,
          2418,
          2399,
          2387,
          2191,
          2118,
          2053,
          2027,
          2220,
          2428,
          2534,
          2602,
          2701,
          2879,
          2913,
          2912,
          2884,
          2954,
          2938,
          2996,
          2990,
          3018,
          3052,
          3127,
          3199,
          3195,
          3224,
          3261,
          3269,
          3293,
          3284,
          3277,
          3237,
          3269,
          3248,
          3240,
          3210,
          3153,
          3127,
          3089,
          3039,
          3003,
          2966,
          2947,
          2886,
          2833,
          2893,
          2919,
          2910,
          2889,
          2871,
          2737,
          2559,
          2410,
          2291,
          2199,
          2055,
          2037,
          2051,
          2055
         ],
         "yaxis": "y"
        },
        {
         "hovertemplate": "Rolling Window (Days)=rolling_90_day<br>date=%{x}<br>Number of New Listings=%{y}<extra></extra>",
         "legendgroup": "rolling_90_day",
         "line": {
          "color": "#FFFFFF",
          "dash": "solid",
          "width": 3
         },
         "marker": {
          "color": "#FFFFFF",
          "size": 5,
          "symbol": "circle"
         },
         "mode": "lines+markers",
         "name": "rolling_90_day",
         "orientation": "v",
         "showlegend": true,
         "type": "scatter",
         "x": [
          "2024-04-29",
          "2024-04-22",
          "2024-04-15",
          "2024-04-08",
          "2024-04-01",
          "2024-03-25",
          "2024-03-18",
          "2024-03-11",
          "2024-03-04",
          "2024-02-26",
          "2024-02-19",
          "2024-02-12",
          "2024-02-05",
          "2024-01-29",
          "2024-01-22",
          "2024-01-15",
          "2024-01-08",
          "2024-01-01",
          "2023-12-25",
          "2023-12-18",
          "2023-12-11",
          "2023-12-04",
          "2023-11-27",
          "2023-11-20",
          "2023-11-13",
          "2023-11-06",
          "2023-10-30",
          "2023-10-23",
          "2023-10-16",
          "2023-10-09",
          "2023-10-02",
          "2023-09-25",
          "2023-09-18",
          "2023-09-11",
          "2023-09-04",
          "2023-08-28",
          "2023-08-21",
          "2023-08-14",
          "2023-08-07",
          "2023-07-31",
          "2023-07-24",
          "2023-07-17",
          "2023-07-10",
          "2023-07-03",
          "2023-06-26",
          "2023-06-19",
          "2023-06-12",
          "2023-06-05",
          "2023-05-29",
          "2023-05-22",
          "2023-05-15",
          "2023-05-08",
          "2023-05-01",
          "2023-04-24",
          "2023-04-17",
          "2023-04-10",
          "2023-04-03",
          "2023-03-27",
          "2023-03-20",
          "2023-03-13",
          "2023-03-06",
          "2023-02-27",
          "2023-02-20",
          "2023-02-13",
          "2023-02-06",
          "2023-01-30",
          "2023-01-23",
          "2023-01-16",
          "2023-01-09",
          "2023-01-02"
         ],
         "xaxis": "x",
         "y": [
          4847,
          4785,
          4702,
          4658,
          4617,
          4461,
          4204,
          4010,
          3900,
          3776,
          3603,
          3513,
          3570,
          3581,
          3519,
          3512,
          3462,
          3470,
          3735,
          3947,
          4042,
          4083,
          4109,
          4346,
          4378,
          4410,
          4491,
          4528,
          4551,
          4640,
          4598,
          4615,
          4694,
          4738,
          4836,
          4894,
          4868,
          4888,
          4853,
          4846,
          4870,
          4891,
          4850,
          4846,
          4797,
          4722,
          4662,
          4564,
          4578,
          4523,
          4475,
          4450,
          4455,
          4429,
          4378,
          4316,
          4283,
          4131,
          3917,
          3774,
          3703,
          3638,
          3533,
          3523,
          3487,
          3443,
          3458,
          3533,
          3641,
          3723
         ],
         "yaxis": "y"
        }
       ],
       "layout": {
        "font": {
         "color": "#FFFFFF"
        },
        "height": 900,
        "images": [
         {
          "sizex": 0.15,
          "sizey": 0.15,
          "source": "https://parcllabs-assets.s3.amazonaws.com/powered-by-parcllabs-api-logo-white.png",
          "x": 0.5,
          "xanchor": "center",
          "xref": "paper",
          "y": 1.02,
          "yanchor": "bottom",
          "yref": "paper"
         }
        ],
        "legend": {
         "title": {
          "text": "Rolling Window (Days)"
         },
         "tracegroupgap": 0,
         "traceorder": "normal",
         "x": 0.01,
         "xanchor": "left",
         "y": 0.99,
         "yanchor": "top"
        },
        "margin": {
         "b": 100
        },
        "paper_bgcolor": "#080D16",
        "plot_bgcolor": "#080D16",
        "template": {
         "data": {
          "bar": [
           {
            "error_x": {
             "color": "#2a3f5f"
            },
            "error_y": {
             "color": "#2a3f5f"
            },
            "marker": {
             "line": {
              "color": "#E5ECF6",
              "width": 0.5
             },
             "pattern": {
              "fillmode": "overlay",
              "size": 10,
              "solidity": 0.2
             }
            },
            "type": "bar"
           }
          ],
          "barpolar": [
           {
            "marker": {
             "line": {
              "color": "#E5ECF6",
              "width": 0.5
             },
             "pattern": {
              "fillmode": "overlay",
              "size": 10,
              "solidity": 0.2
             }
            },
            "type": "barpolar"
           }
          ],
          "carpet": [
           {
            "aaxis": {
             "endlinecolor": "#2a3f5f",
             "gridcolor": "white",
             "linecolor": "white",
             "minorgridcolor": "white",
             "startlinecolor": "#2a3f5f"
            },
            "baxis": {
             "endlinecolor": "#2a3f5f",
             "gridcolor": "white",
             "linecolor": "white",
             "minorgridcolor": "white",
             "startlinecolor": "#2a3f5f"
            },
            "type": "carpet"
           }
          ],
          "choropleth": [
           {
            "colorbar": {
             "outlinewidth": 0,
             "ticks": ""
            },
            "type": "choropleth"
           }
          ],
          "contour": [
           {
            "colorbar": {
             "outlinewidth": 0,
             "ticks": ""
            },
            "colorscale": [
             [
              0,
              "#0d0887"
             ],
             [
              0.1111111111111111,
              "#46039f"
             ],
             [
              0.2222222222222222,
              "#7201a8"
             ],
             [
              0.3333333333333333,
              "#9c179e"
             ],
             [
              0.4444444444444444,
              "#bd3786"
             ],
             [
              0.5555555555555556,
              "#d8576b"
             ],
             [
              0.6666666666666666,
              "#ed7953"
             ],
             [
              0.7777777777777778,
              "#fb9f3a"
             ],
             [
              0.8888888888888888,
              "#fdca26"
             ],
             [
              1,
              "#f0f921"
             ]
            ],
            "type": "contour"
           }
          ],
          "contourcarpet": [
           {
            "colorbar": {
             "outlinewidth": 0,
             "ticks": ""
            },
            "type": "contourcarpet"
           }
          ],
          "heatmap": [
           {
            "colorbar": {
             "outlinewidth": 0,
             "ticks": ""
            },
            "colorscale": [
             [
              0,
              "#0d0887"
             ],
             [
              0.1111111111111111,
              "#46039f"
             ],
             [
              0.2222222222222222,
              "#7201a8"
             ],
             [
              0.3333333333333333,
              "#9c179e"
             ],
             [
              0.4444444444444444,
              "#bd3786"
             ],
             [
              0.5555555555555556,
              "#d8576b"
             ],
             [
              0.6666666666666666,
              "#ed7953"
             ],
             [
              0.7777777777777778,
              "#fb9f3a"
             ],
             [
              0.8888888888888888,
              "#fdca26"
             ],
             [
              1,
              "#f0f921"
             ]
            ],
            "type": "heatmap"
           }
          ],
          "heatmapgl": [
           {
            "colorbar": {
             "outlinewidth": 0,
             "ticks": ""
            },
            "colorscale": [
             [
              0,
              "#0d0887"
             ],
             [
              0.1111111111111111,
              "#46039f"
             ],
             [
              0.2222222222222222,
              "#7201a8"
             ],
             [
              0.3333333333333333,
              "#9c179e"
             ],
             [
              0.4444444444444444,
              "#bd3786"
             ],
             [
              0.5555555555555556,
              "#d8576b"
             ],
             [
              0.6666666666666666,
              "#ed7953"
             ],
             [
              0.7777777777777778,
              "#fb9f3a"
             ],
             [
              0.8888888888888888,
              "#fdca26"
             ],
             [
              1,
              "#f0f921"
             ]
            ],
            "type": "heatmapgl"
           }
          ],
          "histogram": [
           {
            "marker": {
             "pattern": {
              "fillmode": "overlay",
              "size": 10,
              "solidity": 0.2
             }
            },
            "type": "histogram"
           }
          ],
          "histogram2d": [
           {
            "colorbar": {
             "outlinewidth": 0,
             "ticks": ""
            },
            "colorscale": [
             [
              0,
              "#0d0887"
             ],
             [
              0.1111111111111111,
              "#46039f"
             ],
             [
              0.2222222222222222,
              "#7201a8"
             ],
             [
              0.3333333333333333,
              "#9c179e"
             ],
             [
              0.4444444444444444,
              "#bd3786"
             ],
             [
              0.5555555555555556,
              "#d8576b"
             ],
             [
              0.6666666666666666,
              "#ed7953"
             ],
             [
              0.7777777777777778,
              "#fb9f3a"
             ],
             [
              0.8888888888888888,
              "#fdca26"
             ],
             [
              1,
              "#f0f921"
             ]
            ],
            "type": "histogram2d"
           }
          ],
          "histogram2dcontour": [
           {
            "colorbar": {
             "outlinewidth": 0,
             "ticks": ""
            },
            "colorscale": [
             [
              0,
              "#0d0887"
             ],
             [
              0.1111111111111111,
              "#46039f"
             ],
             [
              0.2222222222222222,
              "#7201a8"
             ],
             [
              0.3333333333333333,
              "#9c179e"
             ],
             [
              0.4444444444444444,
              "#bd3786"
             ],
             [
              0.5555555555555556,
              "#d8576b"
             ],
             [
              0.6666666666666666,
              "#ed7953"
             ],
             [
              0.7777777777777778,
              "#fb9f3a"
             ],
             [
              0.8888888888888888,
              "#fdca26"
             ],
             [
              1,
              "#f0f921"
             ]
            ],
            "type": "histogram2dcontour"
           }
          ],
          "mesh3d": [
           {
            "colorbar": {
             "outlinewidth": 0,
             "ticks": ""
            },
            "type": "mesh3d"
           }
          ],
          "parcoords": [
           {
            "line": {
             "colorbar": {
              "outlinewidth": 0,
              "ticks": ""
             }
            },
            "type": "parcoords"
           }
          ],
          "pie": [
           {
            "automargin": true,
            "type": "pie"
           }
          ],
          "scatter": [
           {
            "fillpattern": {
             "fillmode": "overlay",
             "size": 10,
             "solidity": 0.2
            },
            "type": "scatter"
           }
          ],
          "scatter3d": [
           {
            "line": {
             "colorbar": {
              "outlinewidth": 0,
              "ticks": ""
             }
            },
            "marker": {
             "colorbar": {
              "outlinewidth": 0,
              "ticks": ""
             }
            },
            "type": "scatter3d"
           }
          ],
          "scattercarpet": [
           {
            "marker": {
             "colorbar": {
              "outlinewidth": 0,
              "ticks": ""
             }
            },
            "type": "scattercarpet"
           }
          ],
          "scattergeo": [
           {
            "marker": {
             "colorbar": {
              "outlinewidth": 0,
              "ticks": ""
             }
            },
            "type": "scattergeo"
           }
          ],
          "scattergl": [
           {
            "marker": {
             "colorbar": {
              "outlinewidth": 0,
              "ticks": ""
             }
            },
            "type": "scattergl"
           }
          ],
          "scattermapbox": [
           {
            "marker": {
             "colorbar": {
              "outlinewidth": 0,
              "ticks": ""
             }
            },
            "type": "scattermapbox"
           }
          ],
          "scatterpolar": [
           {
            "marker": {
             "colorbar": {
              "outlinewidth": 0,
              "ticks": ""
             }
            },
            "type": "scatterpolar"
           }
          ],
          "scatterpolargl": [
           {
            "marker": {
             "colorbar": {
              "outlinewidth": 0,
              "ticks": ""
             }
            },
            "type": "scatterpolargl"
           }
          ],
          "scatterternary": [
           {
            "marker": {
             "colorbar": {
              "outlinewidth": 0,
              "ticks": ""
             }
            },
            "type": "scatterternary"
           }
          ],
          "surface": [
           {
            "colorbar": {
             "outlinewidth": 0,
             "ticks": ""
            },
            "colorscale": [
             [
              0,
              "#0d0887"
             ],
             [
              0.1111111111111111,
              "#46039f"
             ],
             [
              0.2222222222222222,
              "#7201a8"
             ],
             [
              0.3333333333333333,
              "#9c179e"
             ],
             [
              0.4444444444444444,
              "#bd3786"
             ],
             [
              0.5555555555555556,
              "#d8576b"
             ],
             [
              0.6666666666666666,
              "#ed7953"
             ],
             [
              0.7777777777777778,
              "#fb9f3a"
             ],
             [
              0.8888888888888888,
              "#fdca26"
             ],
             [
              1,
              "#f0f921"
             ]
            ],
            "type": "surface"
           }
          ],
          "table": [
           {
            "cells": {
             "fill": {
              "color": "#EBF0F8"
             },
             "line": {
              "color": "white"
             }
            },
            "header": {
             "fill": {
              "color": "#C8D4E3"
             },
             "line": {
              "color": "white"
             }
            },
            "type": "table"
           }
          ]
         },
         "layout": {
          "annotationdefaults": {
           "arrowcolor": "#2a3f5f",
           "arrowhead": 0,
           "arrowwidth": 1
          },
          "autotypenumbers": "strict",
          "coloraxis": {
           "colorbar": {
            "outlinewidth": 0,
            "ticks": ""
           }
          },
          "colorscale": {
           "diverging": [
            [
             0,
             "#8e0152"
            ],
            [
             0.1,
             "#c51b7d"
            ],
            [
             0.2,
             "#de77ae"
            ],
            [
             0.3,
             "#f1b6da"
            ],
            [
             0.4,
             "#fde0ef"
            ],
            [
             0.5,
             "#f7f7f7"
            ],
            [
             0.6,
             "#e6f5d0"
            ],
            [
             0.7,
             "#b8e186"
            ],
            [
             0.8,
             "#7fbc41"
            ],
            [
             0.9,
             "#4d9221"
            ],
            [
             1,
             "#276419"
            ]
           ],
           "sequential": [
            [
             0,
             "#0d0887"
            ],
            [
             0.1111111111111111,
             "#46039f"
            ],
            [
             0.2222222222222222,
             "#7201a8"
            ],
            [
             0.3333333333333333,
             "#9c179e"
            ],
            [
             0.4444444444444444,
             "#bd3786"
            ],
            [
             0.5555555555555556,
             "#d8576b"
            ],
            [
             0.6666666666666666,
             "#ed7953"
            ],
            [
             0.7777777777777778,
             "#fb9f3a"
            ],
            [
             0.8888888888888888,
             "#fdca26"
            ],
            [
             1,
             "#f0f921"
            ]
           ],
           "sequentialminus": [
            [
             0,
             "#0d0887"
            ],
            [
             0.1111111111111111,
             "#46039f"
            ],
            [
             0.2222222222222222,
             "#7201a8"
            ],
            [
             0.3333333333333333,
             "#9c179e"
            ],
            [
             0.4444444444444444,
             "#bd3786"
            ],
            [
             0.5555555555555556,
             "#d8576b"
            ],
            [
             0.6666666666666666,
             "#ed7953"
            ],
            [
             0.7777777777777778,
             "#fb9f3a"
            ],
            [
             0.8888888888888888,
             "#fdca26"
            ],
            [
             1,
             "#f0f921"
            ]
           ]
          },
          "colorway": [
           "#636efa",
           "#EF553B",
           "#00cc96",
           "#ab63fa",
           "#FFA15A",
           "#19d3f3",
           "#FF6692",
           "#B6E880",
           "#FF97FF",
           "#FECB52"
          ],
          "font": {
           "color": "#2a3f5f"
          },
          "geo": {
           "bgcolor": "white",
           "lakecolor": "white",
           "landcolor": "#E5ECF6",
           "showlakes": true,
           "showland": true,
           "subunitcolor": "white"
          },
          "hoverlabel": {
           "align": "left"
          },
          "hovermode": "closest",
          "mapbox": {
           "style": "light"
          },
          "paper_bgcolor": "white",
          "plot_bgcolor": "#E5ECF6",
          "polar": {
           "angularaxis": {
            "gridcolor": "white",
            "linecolor": "white",
            "ticks": ""
           },
           "bgcolor": "#E5ECF6",
           "radialaxis": {
            "gridcolor": "white",
            "linecolor": "white",
            "ticks": ""
           }
          },
          "scene": {
           "xaxis": {
            "backgroundcolor": "#E5ECF6",
            "gridcolor": "white",
            "gridwidth": 2,
            "linecolor": "white",
            "showbackground": true,
            "ticks": "",
            "zerolinecolor": "white"
           },
           "yaxis": {
            "backgroundcolor": "#E5ECF6",
            "gridcolor": "white",
            "gridwidth": 2,
            "linecolor": "white",
            "showbackground": true,
            "ticks": "",
            "zerolinecolor": "white"
           },
           "zaxis": {
            "backgroundcolor": "#E5ECF6",
            "gridcolor": "white",
            "gridwidth": 2,
            "linecolor": "white",
            "showbackground": true,
            "ticks": "",
            "zerolinecolor": "white"
           }
          },
          "shapedefaults": {
           "line": {
            "color": "#2a3f5f"
           }
          },
          "ternary": {
           "aaxis": {
            "gridcolor": "white",
            "linecolor": "white",
            "ticks": ""
           },
           "baxis": {
            "gridcolor": "white",
            "linecolor": "white",
            "ticks": ""
           },
           "bgcolor": "#E5ECF6",
           "caxis": {
            "gridcolor": "white",
            "linecolor": "white",
            "ticks": ""
           }
          },
          "title": {
           "x": 0.05
          },
          "xaxis": {
           "automargin": true,
           "gridcolor": "white",
           "linecolor": "white",
           "ticks": "",
           "title": {
            "standoff": 15
           },
           "zerolinecolor": "white",
           "zerolinewidth": 2
          },
          "yaxis": {
           "automargin": true,
           "gridcolor": "white",
           "linecolor": "white",
           "ticks": "",
           "title": {
            "standoff": 15
           },
           "zerolinecolor": "white",
           "zerolinewidth": 2
          }
         }
        },
        "title": {
         "text": "New Listings (Rolling Day Counts): San Diego City",
         "x": 0.5,
         "xanchor": "center",
         "y": 0.97,
         "yanchor": "top"
        },
        "width": 1600,
        "xaxis": {
         "anchor": "y",
         "autorange": true,
         "domain": [
          0,
          1
         ],
         "gridcolor": "LightGrey",
         "gridwidth": 1,
         "range": [
          "2022-12-04 20:47:32.6459",
          "2024-05-27 03:12:27.3541"
         ],
         "showgrid": true,
         "title": {
          "text": "date"
         },
         "type": "date"
        },
        "yaxis": {
         "anchor": "x",
         "autorange": true,
         "domain": [
          0,
          1
         ],
         "gridcolor": "LightGrey",
         "gridwidth": 1,
         "range": [
          515.8096192384769,
          5146.190380761523
         ],
         "showgrid": true,
         "title": {
          "text": "Number of New Listings"
         },
         "type": "linear"
        }
       }
      }
     },
     "metadata": {},
     "output_type": "display_data"
    }
   ],
   "source": [
    "# Creating the line chart where we show new listings for different rolling windows\n",
    "fig = px.line(\n",
    "    new_listings_long,\n",
    "    x='date',\n",
    "    y='Number of New Listings',\n",
    "    color='Rolling Window (Days)',\n",
    "    title=f'New Listings (Rolling Day Counts): {name}',\n",
    "    labels={'count': 'Rolling Day Count'}\n",
    ")\n",
    "\n",
    "fig.add_layout_image(\n",
    "    labs_logo_dict\n",
    ")\n",
    "\n",
    "fig.update_layout(\n",
    "    margin=dict(b=100),\n",
    "    width=IMG_WIDTH,\n",
    "    height=IMG_HEIGHT,\n",
    "    legend=dict(\n",
    "        x=0.01,\n",
    "        y=0.99,\n",
    "        traceorder=\"normal\",\n",
    "        xanchor='left',\n",
    "        yanchor='top',\n",
    "        title='Rolling Window (Days)'\n",
    "    ),\n",
    "    title=PLOT_TITLE_SETTINGS,\n",
    "    plot_bgcolor='#080D16',\n",
    "    paper_bgcolor='#080D16',\n",
    "    font=dict(color='#FFFFFF'),\n",
    "    xaxis_title='date'\n",
    ")\n",
    "\n",
    "color_map = {\n",
    "    'rolling_30_day': '#448CF2',\n",
    "    'rolling_90_day': '#FFFFFF',\n",
    "}\n",
    "\n",
    "fig.update_traces(\n",
    "    line=dict(width=3),\n",
    "    mode='lines+markers',\n",
    "    marker=dict(size=5)\n",
    ")\n",
    "\n",
    "for trace in fig.data:\n",
    "    if trace.name in color_map:\n",
    "        trace.line.color = color_map[trace.name]\n",
    "        trace.marker.color = color_map[trace.name]\n",
    "\n",
    "# Adding gridlines\n",
    "fig.update_xaxes(showgrid=True, gridwidth=1, gridcolor='LightGrey')\n",
    "fig.update_yaxes(showgrid=True, gridwidth=1, gridcolor='LightGrey')\n",
    "\n",
    "# save figure\n",
    "fig.write_image(os.path.join(output_dir, 'new_listings_rolling_n_periods.png'), width=IMG_WIDTH, height=IMG_HEIGHT)\n",
    "\n",
    "\n",
    "# Show the plot\n",
    "fig.show()"
   ]
  },
  {
   "cell_type": "markdown",
   "id": "bf09bc45",
   "metadata": {},
   "source": [
    "We can also determine what percent of the new listings are coming from investors that are offloading properties."
   ]
  },
  {
   "cell_type": "code",
   "execution_count": 52,
   "id": "04581af3-df37-4eaf-a483-3ab7994ffed4",
   "metadata": {},
   "outputs": [
    {
     "data": {
      "text/html": [
       "<div>\n",
       "<style scoped>\n",
       "    .dataframe tbody tr th:only-of-type {\n",
       "        vertical-align: middle;\n",
       "    }\n",
       "\n",
       "    .dataframe tbody tr th {\n",
       "        vertical-align: top;\n",
       "    }\n",
       "\n",
       "    .dataframe thead th {\n",
       "        text-align: right;\n",
       "    }\n",
       "</style>\n",
       "<table border=\"1\" class=\"dataframe\">\n",
       "  <thead>\n",
       "    <tr style=\"text-align: right;\">\n",
       "      <th></th>\n",
       "      <th>date</th>\n",
       "      <th>period</th>\n",
       "      <th>counts</th>\n",
       "      <th>pct_for_sale_market</th>\n",
       "      <th>parcl_id</th>\n",
       "    </tr>\n",
       "  </thead>\n",
       "  <tbody>\n",
       "    <tr>\n",
       "      <th>0</th>\n",
       "      <td>2024-04-29</td>\n",
       "      <td>rolling_7_day</td>\n",
       "      <td>92</td>\n",
       "      <td>23.77</td>\n",
       "      <td>5374167</td>\n",
       "    </tr>\n",
       "    <tr>\n",
       "      <th>1</th>\n",
       "      <td>2024-04-29</td>\n",
       "      <td>rolling_30_day</td>\n",
       "      <td>417</td>\n",
       "      <td>24.84</td>\n",
       "      <td>5374167</td>\n",
       "    </tr>\n",
       "    <tr>\n",
       "      <th>2</th>\n",
       "      <td>2024-04-29</td>\n",
       "      <td>rolling_60_day</td>\n",
       "      <td>836</td>\n",
       "      <td>24.62</td>\n",
       "      <td>5374167</td>\n",
       "    </tr>\n",
       "    <tr>\n",
       "      <th>3</th>\n",
       "      <td>2024-04-29</td>\n",
       "      <td>rolling_90_day</td>\n",
       "      <td>1232</td>\n",
       "      <td>25.42</td>\n",
       "      <td>5374167</td>\n",
       "    </tr>\n",
       "  </tbody>\n",
       "</table>\n",
       "</div>"
      ],
      "text/plain": [
       "         date          period  counts  pct_for_sale_market  parcl_id\n",
       "0  2024-04-29   rolling_7_day      92                23.77   5374167\n",
       "1  2024-04-29  rolling_30_day     417                24.84   5374167\n",
       "2  2024-04-29  rolling_60_day     836                24.62   5374167\n",
       "3  2024-04-29  rolling_90_day    1232                25.42   5374167"
      ]
     },
     "execution_count": 52,
     "metadata": {},
     "output_type": "execute_result"
    }
   ],
   "source": [
    "# of listings on the market, what percent of them are coming from investors?\n",
    "investor_listings = client.investor_metrics_new_listings_for_sale_rolling_counts.retrieve(\n",
    "    parcl_id=analysis_parcl_id,\n",
    "    params={\n",
    "        'limit': 300\n",
    "    },\n",
    "    as_dataframe=True\n",
    ")\n",
    "investor_listings.head(4)"
   ]
  },
  {
   "cell_type": "code",
   "execution_count": 53,
   "id": "ad7a7849",
   "metadata": {},
   "outputs": [],
   "source": [
    "# we divide by 100 so plotly can handle the formatting, we also fiter out the rolling_7_day period\n",
    "investor_listings['pct_for_sale_market'] = investor_listings['pct_for_sale_market']/100\n",
    "investor_listings = investor_listings.loc[investor_listings['period'] != 'rolling_7_day']"
   ]
  },
  {
   "cell_type": "code",
   "execution_count": 54,
   "id": "08cfd426-e0f7-4c23-8673-94b38b2ead06",
   "metadata": {},
   "outputs": [
    {
     "data": {
      "application/vnd.plotly.v1+json": {
       "config": {
        "plotlyServerURL": "https://plot.ly"
       },
       "data": [
        {
         "hovertemplate": "period=rolling_30_day<br>date=%{x}<br>% of New Listings by Investors=%{y}<extra></extra>",
         "legendgroup": "rolling_30_day",
         "line": {
          "color": "#448CF2",
          "dash": "solid",
          "shape": "linear",
          "width": 3
         },
         "marker": {
          "color": "#448CF2",
          "size": 5,
          "symbol": "circle"
         },
         "mode": "lines+markers",
         "name": "rolling_30_day",
         "orientation": "v",
         "showlegend": true,
         "type": "scatter",
         "x": [
          "2024-04-29",
          "2024-04-22",
          "2024-04-15",
          "2024-04-08",
          "2024-04-01",
          "2024-03-25",
          "2024-03-18",
          "2024-03-11",
          "2024-03-04",
          "2024-02-26",
          "2024-02-19",
          "2024-02-12",
          "2024-02-05",
          "2024-01-29",
          "2024-01-22",
          "2024-01-15",
          "2024-01-08",
          "2024-01-01",
          "2023-12-25",
          "2023-12-18",
          "2023-12-11",
          "2023-12-04",
          "2023-11-27",
          "2023-11-20",
          "2023-11-13",
          "2023-11-06",
          "2023-10-30",
          "2023-10-23",
          "2023-10-16",
          "2023-10-09",
          "2023-10-02",
          "2023-09-25",
          "2023-09-18",
          "2023-09-11",
          "2023-09-04",
          "2023-08-28",
          "2023-08-21",
          "2023-08-14",
          "2023-08-07",
          "2023-07-31",
          "2023-07-24",
          "2023-07-17",
          "2023-07-10",
          "2023-07-03",
          "2023-06-26",
          "2023-06-19",
          "2023-06-12",
          "2023-06-05",
          "2023-05-29",
          "2023-05-22",
          "2023-05-15",
          "2023-05-08",
          "2023-05-01",
          "2023-04-24",
          "2023-04-17",
          "2023-04-10",
          "2023-04-03",
          "2023-03-27",
          "2023-03-20",
          "2023-03-13",
          "2023-03-06",
          "2023-02-27",
          "2023-02-20",
          "2023-02-13",
          "2023-02-06",
          "2023-01-30",
          "2023-01-23",
          "2023-01-16",
          "2023-01-09",
          "2023-01-02",
          "2022-12-26",
          "2022-12-19",
          "2022-12-12",
          "2022-12-05",
          "2022-11-28",
          "2022-11-21",
          "2022-11-14",
          "2022-11-07",
          "2022-10-31",
          "2022-10-24",
          "2022-10-17",
          "2022-10-10",
          "2022-10-03",
          "2022-09-26",
          "2022-09-19",
          "2022-09-12",
          "2022-09-05",
          "2022-08-29",
          "2022-08-22",
          "2022-08-15",
          "2022-08-08",
          "2022-08-01",
          "2022-07-25",
          "2022-07-18",
          "2022-07-11",
          "2022-07-04",
          "2022-06-27",
          "2022-06-20",
          "2022-06-13",
          "2022-06-06",
          "2022-05-30",
          "2022-05-23",
          "2022-05-16",
          "2022-05-09",
          "2022-05-02",
          "2022-04-25",
          "2022-04-18",
          "2022-04-11",
          "2022-04-04",
          "2022-03-28",
          "2022-03-21",
          "2022-03-14",
          "2022-03-07",
          "2022-02-28",
          "2022-02-21",
          "2022-02-14",
          "2022-02-07",
          "2022-01-31",
          "2022-01-24",
          "2022-01-17",
          "2022-01-10",
          "2022-01-03",
          "2021-12-27",
          "2021-12-20",
          "2021-12-13",
          "2021-12-06",
          "2021-11-29",
          "2021-11-22",
          "2021-11-15",
          "2021-11-08",
          "2021-11-01",
          "2021-10-25",
          "2021-10-18",
          "2021-10-11",
          "2021-10-04",
          "2021-09-27",
          "2021-09-20",
          "2021-09-13",
          "2021-09-06",
          "2021-08-30",
          "2021-08-23",
          "2021-08-16",
          "2021-08-09",
          "2021-08-02",
          "2021-07-26",
          "2021-07-19",
          "2021-07-12",
          "2021-07-05",
          "2021-06-28",
          "2021-06-21",
          "2021-06-14",
          "2021-06-07",
          "2021-05-31",
          "2021-05-24",
          "2021-05-17",
          "2021-05-10",
          "2021-05-03",
          "2021-04-26",
          "2021-04-19",
          "2021-04-12",
          "2021-04-05",
          "2021-03-29",
          "2021-03-22",
          "2021-03-15",
          "2021-03-08",
          "2021-03-01",
          "2021-02-22",
          "2021-02-15",
          "2021-02-08",
          "2021-02-01",
          "2021-01-25",
          "2021-01-18",
          "2021-01-11",
          "2021-01-04",
          "2020-12-28",
          "2020-12-21",
          "2020-12-14",
          "2020-12-07",
          "2020-11-30",
          "2020-11-23",
          "2020-11-16",
          "2020-11-09",
          "2020-11-02",
          "2020-10-26",
          "2020-10-19",
          "2020-10-12",
          "2020-10-05",
          "2020-09-28",
          "2020-09-21",
          "2020-09-14",
          "2020-09-07",
          "2020-08-31",
          "2020-08-24",
          "2020-08-17",
          "2020-08-10",
          "2020-08-03",
          "2020-07-27",
          "2020-07-20",
          "2020-07-13",
          "2020-07-06",
          "2020-06-29",
          "2020-06-22",
          "2020-06-15",
          "2020-06-08",
          "2020-06-01",
          "2020-05-25",
          "2020-05-18",
          "2020-05-11",
          "2020-05-04",
          "2020-04-27",
          "2020-04-20",
          "2020-04-13",
          "2020-04-06",
          "2020-03-30",
          "2020-03-23",
          "2020-03-16",
          "2020-03-09",
          "2020-03-02",
          "2020-02-24",
          "2020-02-17",
          "2020-02-10",
          "2020-02-03",
          "2020-01-27",
          "2020-01-20",
          "2020-01-13",
          "2020-01-06",
          "2019-12-30",
          "2019-12-23",
          "2019-12-16",
          "2019-12-09",
          "2019-12-02",
          "2019-11-25",
          "2019-11-18",
          "2019-11-11",
          "2019-11-04",
          "2019-10-28",
          "2019-10-21",
          "2019-10-14",
          "2019-10-07",
          "2019-09-30",
          "2019-09-23",
          "2019-09-16",
          "2019-09-09",
          "2019-09-02",
          "2019-08-26",
          "2019-08-19",
          "2019-08-12",
          "2019-08-05",
          "2019-07-29",
          "2019-07-22",
          "2019-07-15",
          "2019-07-08",
          "2019-07-01",
          "2019-06-24",
          "2019-06-17",
          "2019-06-10",
          "2019-06-03",
          "2019-05-27",
          "2019-05-20",
          "2019-05-13",
          "2019-05-06",
          "2019-04-29",
          "2019-04-22",
          "2019-04-15",
          "2019-04-08",
          "2019-04-01"
         ],
         "xaxis": "x",
         "y": [
          0.2484,
          0.2484,
          0.2477,
          0.2572,
          0.2487,
          0.2444,
          0.253,
          0.25429999999999997,
          0.2648,
          0.2817,
          0.2917,
          0.2891,
          0.2818,
          0.2699,
          0.2498,
          0.2666,
          0.2821,
          0.26890000000000003,
          0.2777,
          0.2626,
          0.24559999999999998,
          0.2571,
          0.26940000000000003,
          0.2792,
          0.2731,
          0.27140000000000003,
          0.2779,
          0.2801,
          0.2827,
          0.2942,
          0.2807,
          0.2883,
          0.2846,
          0.2702,
          0.2579,
          0.2446,
          0.2441,
          0.2633,
          0.278,
          0.2713,
          0.2822,
          0.2734,
          0.2672,
          0.2641,
          0.2597,
          0.2656,
          0.2832,
          0.28559999999999997,
          0.2825,
          0.2771,
          0.25579999999999997,
          0.26280000000000003,
          0.262,
          0.26530000000000004,
          0.2761,
          0.2839,
          0.2756,
          0.2776,
          0.2608,
          0.2594,
          0.2682,
          0.2713,
          0.2656,
          0.2701,
          0.2743,
          0.29510000000000003,
          0.3035,
          0.30269999999999997,
          0.2925,
          0.2695,
          0.2634,
          0.28350000000000003,
          0.2998,
          0.2894,
          0.2917,
          0.2863,
          0.2891,
          0.28859999999999997,
          0.2823,
          0.28300000000000003,
          0.2705,
          0.2656,
          0.27949999999999997,
          0.2766,
          0.26890000000000003,
          0.2746,
          0.26940000000000003,
          0.2687,
          0.2848,
          0.2884,
          0.2825,
          0.2909,
          0.282,
          0.28059999999999996,
          0.2875,
          0.2978,
          0.2964,
          0.3036,
          0.2964,
          0.28300000000000003,
          0.27899999999999997,
          0.2798,
          0.2778,
          0.2953,
          0.2857,
          0.2705,
          0.28059999999999996,
          0.26280000000000003,
          0.2843,
          0.2968,
          0.26890000000000003,
          0.2583,
          0.2408,
          0.2571,
          0.2837,
          0.315,
          0.3789,
          0.3822,
          0.3533,
          0.3836,
          0.3136,
          0.2692,
          0.2982,
          0.2984,
          0.259,
          0.2781,
          0.2593,
          0.2893,
          0.3237,
          0.3392,
          0.33880000000000005,
          0.32630000000000003,
          0.3408,
          0.3073,
          0.2944,
          0.2887,
          0.2762,
          0.2857,
          0.2968,
          0.29350000000000004,
          0.2716,
          0.282,
          0.2724,
          0.2657,
          0.30079999999999996,
          0.2986,
          0.2829,
          0.2899,
          0.3226,
          0.2957,
          0.33630000000000004,
          0.3663,
          0.36869999999999997,
          0.3864,
          0.37729999999999997,
          0.36479999999999996,
          0.34600000000000003,
          0.3135,
          0.2893,
          0.3054,
          0.31,
          0.3103,
          0.3564,
          0.35359999999999997,
          0.3693,
          0.38020000000000004,
          0.335,
          0.2892,
          0.2974,
          0.23809999999999998,
          0.2577,
          0.2973,
          0.3453,
          0.3667,
          0.391,
          0.3889,
          0.35979999999999995,
          0.3353,
          0.34759999999999996,
          0.3249,
          0.3196,
          0.3125,
          0.3119,
          0.32539999999999997,
          0.332,
          0.32420000000000004,
          0.3398,
          0.3296,
          0.3333,
          0.32380000000000003,
          0.29460000000000003,
          0.2857,
          0.27649999999999997,
          0.2708,
          0.2641,
          0.2395,
          0.2412,
          0.2713,
          0.28809999999999997,
          0.32159999999999994,
          0.2985,
          0.3034,
          0.3116,
          0.32539999999999997,
          0.34299999999999997,
          0.2851,
          0.2823,
          0.2736,
          0.2619,
          0.2949,
          0.3059,
          0.326,
          0.35,
          0.3319,
          0.3455,
          0.3319,
          0.31679999999999997,
          0.3367,
          0.3508,
          0.36560000000000004,
          0.3737,
          0.33159999999999995,
          0.3165,
          0.2868,
          0.2975,
          0.2991,
          0.2764,
          0.2887,
          0.2774,
          0.2601,
          0.24480000000000002,
          0.2462,
          0.2273,
          0.2696,
          0.2718,
          0.2982,
          0.3319,
          0.3178,
          0.30879999999999996,
          0.3119,
          0.3023,
          0.2468,
          0.2869,
          0.2575,
          0.2899,
          0.30670000000000003,
          0.3136,
          0.3362,
          0.3099,
          0.3178,
          0.3186,
          0.3025,
          0.2813,
          0.24789999999999998,
          0.23010000000000003,
          0.24789999999999998,
          0.22940000000000002,
          0.2551,
          0.2918,
          0.2747,
          0.29359999999999997,
          0.3319,
          0.34509999999999996,
          0.35869999999999996,
          0.355,
          0.3064
         ],
         "yaxis": "y"
        },
        {
         "hovertemplate": "period=rolling_60_day<br>date=%{x}<br>% of New Listings by Investors=%{y}<extra></extra>",
         "legendgroup": "rolling_60_day",
         "line": {
          "color": "#EF553B",
          "dash": "solid",
          "shape": "linear",
          "width": 3
         },
         "marker": {
          "size": 5,
          "symbol": "circle"
         },
         "mode": "lines+markers",
         "name": "rolling_60_day",
         "orientation": "v",
         "showlegend": true,
         "type": "scatter",
         "x": [
          "2024-04-29",
          "2024-04-22",
          "2024-04-15",
          "2024-04-08",
          "2024-04-01",
          "2024-03-25",
          "2024-03-18",
          "2024-03-11",
          "2024-03-04",
          "2024-02-26",
          "2024-02-19",
          "2024-02-12",
          "2024-02-05",
          "2024-01-29",
          "2024-01-22",
          "2024-01-15",
          "2024-01-08",
          "2024-01-01",
          "2023-12-25",
          "2023-12-18",
          "2023-12-11",
          "2023-12-04",
          "2023-11-27",
          "2023-11-20",
          "2023-11-13",
          "2023-11-06",
          "2023-10-30",
          "2023-10-23",
          "2023-10-16",
          "2023-10-09",
          "2023-10-02",
          "2023-09-25",
          "2023-09-18",
          "2023-09-11",
          "2023-09-04",
          "2023-08-28",
          "2023-08-21",
          "2023-08-14",
          "2023-08-07",
          "2023-07-31",
          "2023-07-24",
          "2023-07-17",
          "2023-07-10",
          "2023-07-03",
          "2023-06-26",
          "2023-06-19",
          "2023-06-12",
          "2023-06-05",
          "2023-05-29",
          "2023-05-22",
          "2023-05-15",
          "2023-05-08",
          "2023-05-01",
          "2023-04-24",
          "2023-04-17",
          "2023-04-10",
          "2023-04-03",
          "2023-03-27",
          "2023-03-20",
          "2023-03-13",
          "2023-03-06",
          "2023-02-27",
          "2023-02-20",
          "2023-02-13",
          "2023-02-06",
          "2023-01-30",
          "2023-01-23",
          "2023-01-16",
          "2023-01-09",
          "2023-01-02",
          "2022-12-26",
          "2022-12-19",
          "2022-12-12",
          "2022-12-05",
          "2022-11-28",
          "2022-11-21",
          "2022-11-14",
          "2022-11-07",
          "2022-10-31",
          "2022-10-24",
          "2022-10-17",
          "2022-10-10",
          "2022-10-03",
          "2022-09-26",
          "2022-09-19",
          "2022-09-12",
          "2022-09-05",
          "2022-08-29",
          "2022-08-22",
          "2022-08-15",
          "2022-08-08",
          "2022-08-01",
          "2022-07-25",
          "2022-07-18",
          "2022-07-11",
          "2022-07-04",
          "2022-06-27",
          "2022-06-20",
          "2022-06-13",
          "2022-06-06",
          "2022-05-30",
          "2022-05-23",
          "2022-05-16",
          "2022-05-09",
          "2022-05-02",
          "2022-04-25",
          "2022-04-18",
          "2022-04-11",
          "2022-04-04",
          "2022-03-28",
          "2022-03-21",
          "2022-03-14",
          "2022-03-07",
          "2022-02-28",
          "2022-02-21",
          "2022-02-14",
          "2022-02-07",
          "2022-01-31",
          "2022-01-24",
          "2022-01-17",
          "2022-01-10",
          "2022-01-03",
          "2021-12-27",
          "2021-12-20",
          "2021-12-13",
          "2021-12-06",
          "2021-11-29",
          "2021-11-22",
          "2021-11-15",
          "2021-11-08",
          "2021-11-01",
          "2021-10-25",
          "2021-10-18",
          "2021-10-11",
          "2021-10-04",
          "2021-09-27",
          "2021-09-20",
          "2021-09-13",
          "2021-09-06",
          "2021-08-30",
          "2021-08-23",
          "2021-08-16",
          "2021-08-09",
          "2021-08-02",
          "2021-07-26",
          "2021-07-19",
          "2021-07-12",
          "2021-07-05",
          "2021-06-28",
          "2021-06-21",
          "2021-06-14",
          "2021-06-07",
          "2021-05-31",
          "2021-05-24",
          "2021-05-17",
          "2021-05-10",
          "2021-05-03",
          "2021-04-26",
          "2021-04-19",
          "2021-04-12",
          "2021-04-05",
          "2021-03-29",
          "2021-03-22",
          "2021-03-15",
          "2021-03-08",
          "2021-03-01",
          "2021-02-22",
          "2021-02-15",
          "2021-02-08",
          "2021-02-01",
          "2021-01-25",
          "2021-01-18",
          "2021-01-11",
          "2021-01-04",
          "2020-12-28",
          "2020-12-21",
          "2020-12-14",
          "2020-12-07",
          "2020-11-30",
          "2020-11-23",
          "2020-11-16",
          "2020-11-09",
          "2020-11-02",
          "2020-10-26",
          "2020-10-19",
          "2020-10-12",
          "2020-10-05",
          "2020-09-28",
          "2020-09-21",
          "2020-09-14",
          "2020-09-07",
          "2020-08-31",
          "2020-08-24",
          "2020-08-17",
          "2020-08-10",
          "2020-08-03",
          "2020-07-27",
          "2020-07-20",
          "2020-07-13",
          "2020-07-06",
          "2020-06-29",
          "2020-06-22",
          "2020-06-15",
          "2020-06-08",
          "2020-06-01",
          "2020-05-25",
          "2020-05-18",
          "2020-05-11",
          "2020-05-04",
          "2020-04-27",
          "2020-04-20",
          "2020-04-13",
          "2020-04-06",
          "2020-03-30",
          "2020-03-23",
          "2020-03-16",
          "2020-03-09",
          "2020-03-02",
          "2020-02-24",
          "2020-02-17",
          "2020-02-10",
          "2020-02-03",
          "2020-01-27",
          "2020-01-20",
          "2020-01-13",
          "2020-01-06",
          "2019-12-30",
          "2019-12-23",
          "2019-12-16",
          "2019-12-09",
          "2019-12-02",
          "2019-11-25",
          "2019-11-18",
          "2019-11-11",
          "2019-11-04",
          "2019-10-28",
          "2019-10-21",
          "2019-10-14",
          "2019-10-07",
          "2019-09-30",
          "2019-09-23",
          "2019-09-16",
          "2019-09-09",
          "2019-09-02",
          "2019-08-26",
          "2019-08-19",
          "2019-08-12",
          "2019-08-05",
          "2019-07-29",
          "2019-07-22",
          "2019-07-15",
          "2019-07-08",
          "2019-07-01",
          "2019-06-24",
          "2019-06-17",
          "2019-06-10",
          "2019-06-03",
          "2019-05-27",
          "2019-05-20",
          "2019-05-13",
          "2019-05-06",
          "2019-04-29",
          "2019-04-22",
          "2019-04-15",
          "2019-04-08",
          "2019-04-01"
         ],
         "xaxis": "x",
         "y": [
          0.2462,
          0.24539999999999998,
          0.2548,
          0.2561,
          0.2579,
          0.2638,
          0.26839999999999997,
          0.2692,
          0.2708,
          0.2738,
          0.27440000000000003,
          0.2812,
          0.2784,
          0.26899999999999996,
          0.2597,
          0.2625,
          0.2625,
          0.26890000000000003,
          0.2748,
          0.26649999999999996,
          0.2632,
          0.2663,
          0.2732,
          0.2813,
          0.2812,
          0.28300000000000003,
          0.2833,
          0.2854,
          0.2818,
          0.2804,
          0.2699,
          0.2647,
          0.267,
          0.268,
          0.2673,
          0.262,
          0.2609,
          0.2677,
          0.2686,
          0.26780000000000004,
          0.2731,
          0.2737,
          0.2728,
          0.271,
          0.2725,
          0.2701,
          0.272,
          0.2696,
          0.2737,
          0.2713,
          0.2711,
          0.2704,
          0.26739999999999997,
          0.2708,
          0.2717,
          0.2711,
          0.2724,
          0.27,
          0.26489999999999997,
          0.2662,
          0.27690000000000003,
          0.2821,
          0.281,
          0.2805,
          0.2798,
          0.2851,
          0.2852,
          0.295,
          0.2955,
          0.2813,
          0.2846,
          0.2827,
          0.292,
          0.28800000000000003,
          0.2858,
          0.2817,
          0.27649999999999997,
          0.2802,
          0.2825,
          0.27949999999999997,
          0.2706,
          0.2734,
          0.27390000000000003,
          0.2748,
          0.2816,
          0.2833,
          0.2762,
          0.2816,
          0.2846,
          0.2862,
          0.2876,
          0.2944,
          0.2907,
          0.2895,
          0.2916,
          0.2932,
          0.29350000000000004,
          0.29510000000000003,
          0.29469999999999996,
          0.2853,
          0.2793,
          0.2763,
          0.2773,
          0.28600000000000003,
          0.2874,
          0.2742,
          0.2753,
          0.2595,
          0.2736,
          0.2832,
          0.2757,
          0.2948,
          0.311,
          0.3094,
          0.31679999999999997,
          0.3333,
          0.3482,
          0.3431,
          0.331,
          0.3309,
          0.2884,
          0.278,
          0.2977,
          0.29100000000000004,
          0.2963,
          0.30820000000000003,
          0.3029,
          0.3059,
          0.3361,
          0.31420000000000003,
          0.32049999999999995,
          0.30329999999999996,
          0.3005,
          0.3005,
          0.2993,
          0.2867,
          0.2777,
          0.2837,
          0.28600000000000003,
          0.2811,
          0.2901,
          0.2889,
          0.2789,
          0.2846,
          0.3096,
          0.306,
          0.3194,
          0.3373,
          0.34990000000000004,
          0.3435,
          0.35479999999999995,
          0.3653,
          0.348,
          0.34600000000000003,
          0.34409999999999996,
          0.3326,
          0.3309,
          0.3166,
          0.3209,
          0.3215,
          0.3368,
          0.34979999999999994,
          0.3425,
          0.3143,
          0.3212,
          0.3089,
          0.3042,
          0.3031,
          0.3175,
          0.2897,
          0.3211,
          0.3488,
          0.3417,
          0.35229999999999995,
          0.3533,
          0.33520000000000005,
          0.3298,
          0.3239,
          0.3283,
          0.3406,
          0.3165,
          0.3256,
          0.32409999999999994,
          0.33399999999999996,
          0.32770000000000005,
          0.31980000000000003,
          0.31620000000000004,
          0.306,
          0.2966,
          0.2854,
          0.2708,
          0.2575,
          0.2586,
          0.2731,
          0.2748,
          0.2761,
          0.2722,
          0.29059999999999997,
          0.30510000000000004,
          0.3186,
          0.3107,
          0.3015,
          0.3028,
          0.3041,
          0.3177,
          0.2953,
          0.2965,
          0.3045,
          0.312,
          0.3212,
          0.32939999999999997,
          0.3389,
          0.33640000000000003,
          0.3454,
          0.34299999999999997,
          0.3531,
          0.3392,
          0.32899999999999996,
          0.3381,
          0.34740000000000004,
          0.3333,
          0.3234,
          0.3066,
          0.2973,
          0.2774,
          0.266,
          0.25780000000000003,
          0.2622,
          0.2534,
          0.2626,
          0.26890000000000003,
          0.2746,
          0.2857,
          0.2864,
          0.2998,
          0.3063,
          0.31,
          0.29,
          0.2949,
          0.3004,
          0.2942,
          0.2818,
          0.2973,
          0.2985,
          0.3006,
          0.3197,
          0.3151,
          0.3103,
          0.2893,
          0.28,
          0.276,
          0.2723,
          0.2562,
          0.26649999999999996,
          0.25980000000000003,
          0.2561,
          0.2695,
          0.2921,
          0.3235,
          0.3134,
          0.3209,
          0.3086,
          0.303,
          0.31989999999999996,
          0.3186,
          0.3036
         ],
         "yaxis": "y"
        },
        {
         "hovertemplate": "period=rolling_90_day<br>date=%{x}<br>% of New Listings by Investors=%{y}<extra></extra>",
         "legendgroup": "rolling_90_day",
         "line": {
          "color": "#FFFFFF",
          "dash": "solid",
          "shape": "linear",
          "width": 3
         },
         "marker": {
          "color": "#FFFFFF",
          "size": 5,
          "symbol": "circle"
         },
         "mode": "lines+markers",
         "name": "rolling_90_day",
         "orientation": "v",
         "showlegend": true,
         "type": "scatter",
         "x": [
          "2024-04-29",
          "2024-04-22",
          "2024-04-15",
          "2024-04-08",
          "2024-04-01",
          "2024-03-25",
          "2024-03-18",
          "2024-03-11",
          "2024-03-04",
          "2024-02-26",
          "2024-02-19",
          "2024-02-12",
          "2024-02-05",
          "2024-01-29",
          "2024-01-22",
          "2024-01-15",
          "2024-01-08",
          "2024-01-01",
          "2023-12-25",
          "2023-12-18",
          "2023-12-11",
          "2023-12-04",
          "2023-11-27",
          "2023-11-20",
          "2023-11-13",
          "2023-11-06",
          "2023-10-30",
          "2023-10-23",
          "2023-10-16",
          "2023-10-09",
          "2023-10-02",
          "2023-09-25",
          "2023-09-18",
          "2023-09-11",
          "2023-09-04",
          "2023-08-28",
          "2023-08-21",
          "2023-08-14",
          "2023-08-07",
          "2023-07-31",
          "2023-07-24",
          "2023-07-17",
          "2023-07-10",
          "2023-07-03",
          "2023-06-26",
          "2023-06-19",
          "2023-06-12",
          "2023-06-05",
          "2023-05-29",
          "2023-05-22",
          "2023-05-15",
          "2023-05-08",
          "2023-05-01",
          "2023-04-24",
          "2023-04-17",
          "2023-04-10",
          "2023-04-03",
          "2023-03-27",
          "2023-03-20",
          "2023-03-13",
          "2023-03-06",
          "2023-02-27",
          "2023-02-20",
          "2023-02-13",
          "2023-02-06",
          "2023-01-30",
          "2023-01-23",
          "2023-01-16",
          "2023-01-09",
          "2023-01-02",
          "2022-12-26",
          "2022-12-19",
          "2022-12-12",
          "2022-12-05",
          "2022-11-28",
          "2022-11-21",
          "2022-11-14",
          "2022-11-07",
          "2022-10-31",
          "2022-10-24",
          "2022-10-17",
          "2022-10-10",
          "2022-10-03",
          "2022-09-26",
          "2022-09-19",
          "2022-09-12",
          "2022-09-05",
          "2022-08-29",
          "2022-08-22",
          "2022-08-15",
          "2022-08-08",
          "2022-08-01",
          "2022-07-25",
          "2022-07-18",
          "2022-07-11",
          "2022-07-04",
          "2022-06-27",
          "2022-06-20",
          "2022-06-13",
          "2022-06-06",
          "2022-05-30",
          "2022-05-23",
          "2022-05-16",
          "2022-05-09",
          "2022-05-02",
          "2022-04-25",
          "2022-04-18",
          "2022-04-11",
          "2022-04-04",
          "2022-03-28",
          "2022-03-21",
          "2022-03-14",
          "2022-03-07",
          "2022-02-28",
          "2022-02-21",
          "2022-02-14",
          "2022-02-07",
          "2022-01-31",
          "2022-01-24",
          "2022-01-17",
          "2022-01-10",
          "2022-01-03",
          "2021-12-27",
          "2021-12-20",
          "2021-12-13",
          "2021-12-06",
          "2021-11-29",
          "2021-11-22",
          "2021-11-15",
          "2021-11-08",
          "2021-11-01",
          "2021-10-25",
          "2021-10-18",
          "2021-10-11",
          "2021-10-04",
          "2021-09-27",
          "2021-09-20",
          "2021-09-13",
          "2021-09-06",
          "2021-08-30",
          "2021-08-23",
          "2021-08-16",
          "2021-08-09",
          "2021-08-02",
          "2021-07-26",
          "2021-07-19",
          "2021-07-12",
          "2021-07-05",
          "2021-06-28",
          "2021-06-21",
          "2021-06-14",
          "2021-06-07",
          "2021-05-31",
          "2021-05-24",
          "2021-05-17",
          "2021-05-10",
          "2021-05-03",
          "2021-04-26",
          "2021-04-19",
          "2021-04-12",
          "2021-04-05",
          "2021-03-29",
          "2021-03-22",
          "2021-03-15",
          "2021-03-08",
          "2021-03-01",
          "2021-02-22",
          "2021-02-15",
          "2021-02-08",
          "2021-02-01",
          "2021-01-25",
          "2021-01-18",
          "2021-01-11",
          "2021-01-04",
          "2020-12-28",
          "2020-12-21",
          "2020-12-14",
          "2020-12-07",
          "2020-11-30",
          "2020-11-23",
          "2020-11-16",
          "2020-11-09",
          "2020-11-02",
          "2020-10-26",
          "2020-10-19",
          "2020-10-12",
          "2020-10-05",
          "2020-09-28",
          "2020-09-21",
          "2020-09-14",
          "2020-09-07",
          "2020-08-31",
          "2020-08-24",
          "2020-08-17",
          "2020-08-10",
          "2020-08-03",
          "2020-07-27",
          "2020-07-20",
          "2020-07-13",
          "2020-07-06",
          "2020-06-29",
          "2020-06-22",
          "2020-06-15",
          "2020-06-08",
          "2020-06-01",
          "2020-05-25",
          "2020-05-18",
          "2020-05-11",
          "2020-05-04",
          "2020-04-27",
          "2020-04-20",
          "2020-04-13",
          "2020-04-06",
          "2020-03-30",
          "2020-03-23",
          "2020-03-16",
          "2020-03-09",
          "2020-03-02",
          "2020-02-24",
          "2020-02-17",
          "2020-02-10",
          "2020-02-03",
          "2020-01-27",
          "2020-01-20",
          "2020-01-13",
          "2020-01-06",
          "2019-12-30",
          "2019-12-23",
          "2019-12-16",
          "2019-12-09",
          "2019-12-02",
          "2019-11-25",
          "2019-11-18",
          "2019-11-11",
          "2019-11-04",
          "2019-10-28",
          "2019-10-21",
          "2019-10-14",
          "2019-10-07",
          "2019-09-30",
          "2019-09-23",
          "2019-09-16",
          "2019-09-09",
          "2019-09-02",
          "2019-08-26",
          "2019-08-19",
          "2019-08-12",
          "2019-08-05",
          "2019-07-29",
          "2019-07-22",
          "2019-07-15",
          "2019-07-08",
          "2019-07-01",
          "2019-06-24",
          "2019-06-17",
          "2019-06-10",
          "2019-06-03",
          "2019-05-27",
          "2019-05-20",
          "2019-05-13",
          "2019-05-06",
          "2019-04-29",
          "2019-04-22",
          "2019-04-15",
          "2019-04-08",
          "2019-04-01"
         ],
         "xaxis": "x",
         "y": [
          0.25420000000000004,
          0.2594,
          0.2627,
          0.2641,
          0.2632,
          0.262,
          0.2659,
          0.2698,
          0.271,
          0.2738,
          0.2717,
          0.2721,
          0.2692,
          0.26839999999999997,
          0.2677,
          0.2668,
          0.2646,
          0.2683,
          0.2755,
          0.2741,
          0.2726,
          0.2753,
          0.2799,
          0.2823,
          0.2771,
          0.2751,
          0.27190000000000003,
          0.2686,
          0.272,
          0.27690000000000003,
          0.27140000000000003,
          0.27190000000000003,
          0.2695,
          0.2661,
          0.2661,
          0.2605,
          0.2623,
          0.2709,
          0.273,
          0.2724,
          0.2758,
          0.2703,
          0.2687,
          0.2683,
          0.2683,
          0.2711,
          0.2748,
          0.27190000000000003,
          0.2741,
          0.27149999999999996,
          0.2675,
          0.2672,
          0.268,
          0.2673,
          0.2688,
          0.2711,
          0.27949999999999997,
          0.2781,
          0.275,
          0.2724,
          0.2771,
          0.2776,
          0.2785,
          0.285,
          0.2859,
          0.2838,
          0.2869,
          0.2915,
          0.292,
          0.282,
          0.2804,
          0.2809,
          0.28300000000000003,
          0.2832,
          0.28190000000000004,
          0.2793,
          0.2775,
          0.2779,
          0.2767,
          0.2805,
          0.2788,
          0.27649999999999997,
          0.2799,
          0.28059999999999996,
          0.2807,
          0.2834,
          0.2845,
          0.287,
          0.2908,
          0.2891,
          0.2891,
          0.2914,
          0.2893,
          0.2876,
          0.2912,
          0.2913,
          0.289,
          0.2914,
          0.29,
          0.2849,
          0.2816,
          0.27699999999999997,
          0.2761,
          0.2785,
          0.2776,
          0.2762,
          0.2752,
          0.2857,
          0.30079999999999996,
          0.304,
          0.2953,
          0.3034,
          0.3012,
          0.3059,
          0.3136,
          0.3159,
          0.32409999999999994,
          0.3215,
          0.322,
          0.3223,
          0.3013,
          0.2975,
          0.3048,
          0.3074,
          0.3039,
          0.3034,
          0.2983,
          0.2993,
          0.3086,
          0.3098,
          0.30829999999999996,
          0.2913,
          0.2892,
          0.2926,
          0.2884,
          0.2839,
          0.2898,
          0.2849,
          0.2863,
          0.29350000000000004,
          0.2954,
          0.30210000000000004,
          0.3025,
          0.3124,
          0.3319,
          0.32880000000000004,
          0.3383,
          0.3379,
          0.33899999999999997,
          0.3267,
          0.3423,
          0.34149999999999997,
          0.3422,
          0.3407,
          0.3446,
          0.337,
          0.34299999999999997,
          0.3322,
          0.318,
          0.3131,
          0.3172,
          0.31120000000000003,
          0.3232,
          0.3239,
          0.3275,
          0.3308,
          0.32659999999999995,
          0.3301,
          0.3191,
          0.3143,
          0.3292,
          0.3275,
          0.3378,
          0.33590000000000003,
          0.3494,
          0.3403,
          0.327,
          0.3328,
          0.32789999999999997,
          0.33039999999999997,
          0.321,
          0.3224,
          0.313,
          0.31629999999999997,
          0.3073,
          0.2977,
          0.2919,
          0.28550000000000003,
          0.28550000000000003,
          0.2904,
          0.2804,
          0.2732,
          0.2813,
          0.2844,
          0.2868,
          0.295,
          0.284,
          0.2893,
          0.2977,
          0.3072,
          0.3072,
          0.2987,
          0.3011,
          0.3184,
          0.3237,
          0.3063,
          0.3123,
          0.31629999999999997,
          0.3165,
          0.3301,
          0.33490000000000003,
          0.34700000000000003,
          0.3429,
          0.33549999999999996,
          0.3378,
          0.3387,
          0.32439999999999997,
          0.3234,
          0.3237,
          0.3197,
          0.3075,
          0.2871,
          0.27899999999999997,
          0.2688,
          0.2613,
          0.2676,
          0.2773,
          0.2828,
          0.2826,
          0.2784,
          0.2857,
          0.28859999999999997,
          0.2818,
          0.2813,
          0.2857,
          0.2978,
          0.30210000000000004,
          0.299,
          0.30329999999999996,
          0.3023,
          0.3025,
          0.2957,
          0.3039,
          0.2943,
          0.2877,
          0.2863,
          0.28850000000000003,
          0.2889,
          0.2734,
          0.2839,
          0.2737,
          0.2743,
          0.2787,
          0.2859,
          0.292,
          0.2865,
          0.2914,
          0.2865,
          0.3019,
          0.3036,
          0.3098,
          0.3091,
          0.3014,
          0.3119,
          0.3037,
          0.2955
         ],
         "yaxis": "y"
        }
       ],
       "layout": {
        "font": {
         "color": "#FFFFFF"
        },
        "height": 900,
        "images": [
         {
          "sizex": 0.15,
          "sizey": 0.15,
          "source": "https://parcllabs-assets.s3.amazonaws.com/powered-by-parcllabs-api-logo-white.png",
          "x": 0.5,
          "xanchor": "center",
          "xref": "paper",
          "y": 1.02,
          "yanchor": "bottom",
          "yref": "paper"
         }
        ],
        "legend": {
         "title": {
          "text": "Period (Days)"
         },
         "tracegroupgap": 0,
         "traceorder": "normal",
         "x": 0.01,
         "xanchor": "left",
         "y": 0.99,
         "yanchor": "top"
        },
        "margin": {
         "b": 100
        },
        "paper_bgcolor": "#080D16",
        "plot_bgcolor": "#080D16",
        "template": {
         "data": {
          "bar": [
           {
            "error_x": {
             "color": "#2a3f5f"
            },
            "error_y": {
             "color": "#2a3f5f"
            },
            "marker": {
             "line": {
              "color": "#E5ECF6",
              "width": 0.5
             },
             "pattern": {
              "fillmode": "overlay",
              "size": 10,
              "solidity": 0.2
             }
            },
            "type": "bar"
           }
          ],
          "barpolar": [
           {
            "marker": {
             "line": {
              "color": "#E5ECF6",
              "width": 0.5
             },
             "pattern": {
              "fillmode": "overlay",
              "size": 10,
              "solidity": 0.2
             }
            },
            "type": "barpolar"
           }
          ],
          "carpet": [
           {
            "aaxis": {
             "endlinecolor": "#2a3f5f",
             "gridcolor": "white",
             "linecolor": "white",
             "minorgridcolor": "white",
             "startlinecolor": "#2a3f5f"
            },
            "baxis": {
             "endlinecolor": "#2a3f5f",
             "gridcolor": "white",
             "linecolor": "white",
             "minorgridcolor": "white",
             "startlinecolor": "#2a3f5f"
            },
            "type": "carpet"
           }
          ],
          "choropleth": [
           {
            "colorbar": {
             "outlinewidth": 0,
             "ticks": ""
            },
            "type": "choropleth"
           }
          ],
          "contour": [
           {
            "colorbar": {
             "outlinewidth": 0,
             "ticks": ""
            },
            "colorscale": [
             [
              0,
              "#0d0887"
             ],
             [
              0.1111111111111111,
              "#46039f"
             ],
             [
              0.2222222222222222,
              "#7201a8"
             ],
             [
              0.3333333333333333,
              "#9c179e"
             ],
             [
              0.4444444444444444,
              "#bd3786"
             ],
             [
              0.5555555555555556,
              "#d8576b"
             ],
             [
              0.6666666666666666,
              "#ed7953"
             ],
             [
              0.7777777777777778,
              "#fb9f3a"
             ],
             [
              0.8888888888888888,
              "#fdca26"
             ],
             [
              1,
              "#f0f921"
             ]
            ],
            "type": "contour"
           }
          ],
          "contourcarpet": [
           {
            "colorbar": {
             "outlinewidth": 0,
             "ticks": ""
            },
            "type": "contourcarpet"
           }
          ],
          "heatmap": [
           {
            "colorbar": {
             "outlinewidth": 0,
             "ticks": ""
            },
            "colorscale": [
             [
              0,
              "#0d0887"
             ],
             [
              0.1111111111111111,
              "#46039f"
             ],
             [
              0.2222222222222222,
              "#7201a8"
             ],
             [
              0.3333333333333333,
              "#9c179e"
             ],
             [
              0.4444444444444444,
              "#bd3786"
             ],
             [
              0.5555555555555556,
              "#d8576b"
             ],
             [
              0.6666666666666666,
              "#ed7953"
             ],
             [
              0.7777777777777778,
              "#fb9f3a"
             ],
             [
              0.8888888888888888,
              "#fdca26"
             ],
             [
              1,
              "#f0f921"
             ]
            ],
            "type": "heatmap"
           }
          ],
          "heatmapgl": [
           {
            "colorbar": {
             "outlinewidth": 0,
             "ticks": ""
            },
            "colorscale": [
             [
              0,
              "#0d0887"
             ],
             [
              0.1111111111111111,
              "#46039f"
             ],
             [
              0.2222222222222222,
              "#7201a8"
             ],
             [
              0.3333333333333333,
              "#9c179e"
             ],
             [
              0.4444444444444444,
              "#bd3786"
             ],
             [
              0.5555555555555556,
              "#d8576b"
             ],
             [
              0.6666666666666666,
              "#ed7953"
             ],
             [
              0.7777777777777778,
              "#fb9f3a"
             ],
             [
              0.8888888888888888,
              "#fdca26"
             ],
             [
              1,
              "#f0f921"
             ]
            ],
            "type": "heatmapgl"
           }
          ],
          "histogram": [
           {
            "marker": {
             "pattern": {
              "fillmode": "overlay",
              "size": 10,
              "solidity": 0.2
             }
            },
            "type": "histogram"
           }
          ],
          "histogram2d": [
           {
            "colorbar": {
             "outlinewidth": 0,
             "ticks": ""
            },
            "colorscale": [
             [
              0,
              "#0d0887"
             ],
             [
              0.1111111111111111,
              "#46039f"
             ],
             [
              0.2222222222222222,
              "#7201a8"
             ],
             [
              0.3333333333333333,
              "#9c179e"
             ],
             [
              0.4444444444444444,
              "#bd3786"
             ],
             [
              0.5555555555555556,
              "#d8576b"
             ],
             [
              0.6666666666666666,
              "#ed7953"
             ],
             [
              0.7777777777777778,
              "#fb9f3a"
             ],
             [
              0.8888888888888888,
              "#fdca26"
             ],
             [
              1,
              "#f0f921"
             ]
            ],
            "type": "histogram2d"
           }
          ],
          "histogram2dcontour": [
           {
            "colorbar": {
             "outlinewidth": 0,
             "ticks": ""
            },
            "colorscale": [
             [
              0,
              "#0d0887"
             ],
             [
              0.1111111111111111,
              "#46039f"
             ],
             [
              0.2222222222222222,
              "#7201a8"
             ],
             [
              0.3333333333333333,
              "#9c179e"
             ],
             [
              0.4444444444444444,
              "#bd3786"
             ],
             [
              0.5555555555555556,
              "#d8576b"
             ],
             [
              0.6666666666666666,
              "#ed7953"
             ],
             [
              0.7777777777777778,
              "#fb9f3a"
             ],
             [
              0.8888888888888888,
              "#fdca26"
             ],
             [
              1,
              "#f0f921"
             ]
            ],
            "type": "histogram2dcontour"
           }
          ],
          "mesh3d": [
           {
            "colorbar": {
             "outlinewidth": 0,
             "ticks": ""
            },
            "type": "mesh3d"
           }
          ],
          "parcoords": [
           {
            "line": {
             "colorbar": {
              "outlinewidth": 0,
              "ticks": ""
             }
            },
            "type": "parcoords"
           }
          ],
          "pie": [
           {
            "automargin": true,
            "type": "pie"
           }
          ],
          "scatter": [
           {
            "fillpattern": {
             "fillmode": "overlay",
             "size": 10,
             "solidity": 0.2
            },
            "type": "scatter"
           }
          ],
          "scatter3d": [
           {
            "line": {
             "colorbar": {
              "outlinewidth": 0,
              "ticks": ""
             }
            },
            "marker": {
             "colorbar": {
              "outlinewidth": 0,
              "ticks": ""
             }
            },
            "type": "scatter3d"
           }
          ],
          "scattercarpet": [
           {
            "marker": {
             "colorbar": {
              "outlinewidth": 0,
              "ticks": ""
             }
            },
            "type": "scattercarpet"
           }
          ],
          "scattergeo": [
           {
            "marker": {
             "colorbar": {
              "outlinewidth": 0,
              "ticks": ""
             }
            },
            "type": "scattergeo"
           }
          ],
          "scattergl": [
           {
            "marker": {
             "colorbar": {
              "outlinewidth": 0,
              "ticks": ""
             }
            },
            "type": "scattergl"
           }
          ],
          "scattermapbox": [
           {
            "marker": {
             "colorbar": {
              "outlinewidth": 0,
              "ticks": ""
             }
            },
            "type": "scattermapbox"
           }
          ],
          "scatterpolar": [
           {
            "marker": {
             "colorbar": {
              "outlinewidth": 0,
              "ticks": ""
             }
            },
            "type": "scatterpolar"
           }
          ],
          "scatterpolargl": [
           {
            "marker": {
             "colorbar": {
              "outlinewidth": 0,
              "ticks": ""
             }
            },
            "type": "scatterpolargl"
           }
          ],
          "scatterternary": [
           {
            "marker": {
             "colorbar": {
              "outlinewidth": 0,
              "ticks": ""
             }
            },
            "type": "scatterternary"
           }
          ],
          "surface": [
           {
            "colorbar": {
             "outlinewidth": 0,
             "ticks": ""
            },
            "colorscale": [
             [
              0,
              "#0d0887"
             ],
             [
              0.1111111111111111,
              "#46039f"
             ],
             [
              0.2222222222222222,
              "#7201a8"
             ],
             [
              0.3333333333333333,
              "#9c179e"
             ],
             [
              0.4444444444444444,
              "#bd3786"
             ],
             [
              0.5555555555555556,
              "#d8576b"
             ],
             [
              0.6666666666666666,
              "#ed7953"
             ],
             [
              0.7777777777777778,
              "#fb9f3a"
             ],
             [
              0.8888888888888888,
              "#fdca26"
             ],
             [
              1,
              "#f0f921"
             ]
            ],
            "type": "surface"
           }
          ],
          "table": [
           {
            "cells": {
             "fill": {
              "color": "#EBF0F8"
             },
             "line": {
              "color": "white"
             }
            },
            "header": {
             "fill": {
              "color": "#C8D4E3"
             },
             "line": {
              "color": "white"
             }
            },
            "type": "table"
           }
          ]
         },
         "layout": {
          "annotationdefaults": {
           "arrowcolor": "#2a3f5f",
           "arrowhead": 0,
           "arrowwidth": 1
          },
          "autotypenumbers": "strict",
          "coloraxis": {
           "colorbar": {
            "outlinewidth": 0,
            "ticks": ""
           }
          },
          "colorscale": {
           "diverging": [
            [
             0,
             "#8e0152"
            ],
            [
             0.1,
             "#c51b7d"
            ],
            [
             0.2,
             "#de77ae"
            ],
            [
             0.3,
             "#f1b6da"
            ],
            [
             0.4,
             "#fde0ef"
            ],
            [
             0.5,
             "#f7f7f7"
            ],
            [
             0.6,
             "#e6f5d0"
            ],
            [
             0.7,
             "#b8e186"
            ],
            [
             0.8,
             "#7fbc41"
            ],
            [
             0.9,
             "#4d9221"
            ],
            [
             1,
             "#276419"
            ]
           ],
           "sequential": [
            [
             0,
             "#0d0887"
            ],
            [
             0.1111111111111111,
             "#46039f"
            ],
            [
             0.2222222222222222,
             "#7201a8"
            ],
            [
             0.3333333333333333,
             "#9c179e"
            ],
            [
             0.4444444444444444,
             "#bd3786"
            ],
            [
             0.5555555555555556,
             "#d8576b"
            ],
            [
             0.6666666666666666,
             "#ed7953"
            ],
            [
             0.7777777777777778,
             "#fb9f3a"
            ],
            [
             0.8888888888888888,
             "#fdca26"
            ],
            [
             1,
             "#f0f921"
            ]
           ],
           "sequentialminus": [
            [
             0,
             "#0d0887"
            ],
            [
             0.1111111111111111,
             "#46039f"
            ],
            [
             0.2222222222222222,
             "#7201a8"
            ],
            [
             0.3333333333333333,
             "#9c179e"
            ],
            [
             0.4444444444444444,
             "#bd3786"
            ],
            [
             0.5555555555555556,
             "#d8576b"
            ],
            [
             0.6666666666666666,
             "#ed7953"
            ],
            [
             0.7777777777777778,
             "#fb9f3a"
            ],
            [
             0.8888888888888888,
             "#fdca26"
            ],
            [
             1,
             "#f0f921"
            ]
           ]
          },
          "colorway": [
           "#636efa",
           "#EF553B",
           "#00cc96",
           "#ab63fa",
           "#FFA15A",
           "#19d3f3",
           "#FF6692",
           "#B6E880",
           "#FF97FF",
           "#FECB52"
          ],
          "font": {
           "color": "#2a3f5f"
          },
          "geo": {
           "bgcolor": "white",
           "lakecolor": "white",
           "landcolor": "#E5ECF6",
           "showlakes": true,
           "showland": true,
           "subunitcolor": "white"
          },
          "hoverlabel": {
           "align": "left"
          },
          "hovermode": "closest",
          "mapbox": {
           "style": "light"
          },
          "paper_bgcolor": "white",
          "plot_bgcolor": "#E5ECF6",
          "polar": {
           "angularaxis": {
            "gridcolor": "white",
            "linecolor": "white",
            "ticks": ""
           },
           "bgcolor": "#E5ECF6",
           "radialaxis": {
            "gridcolor": "white",
            "linecolor": "white",
            "ticks": ""
           }
          },
          "scene": {
           "xaxis": {
            "backgroundcolor": "#E5ECF6",
            "gridcolor": "white",
            "gridwidth": 2,
            "linecolor": "white",
            "showbackground": true,
            "ticks": "",
            "zerolinecolor": "white"
           },
           "yaxis": {
            "backgroundcolor": "#E5ECF6",
            "gridcolor": "white",
            "gridwidth": 2,
            "linecolor": "white",
            "showbackground": true,
            "ticks": "",
            "zerolinecolor": "white"
           },
           "zaxis": {
            "backgroundcolor": "#E5ECF6",
            "gridcolor": "white",
            "gridwidth": 2,
            "linecolor": "white",
            "showbackground": true,
            "ticks": "",
            "zerolinecolor": "white"
           }
          },
          "shapedefaults": {
           "line": {
            "color": "#2a3f5f"
           }
          },
          "ternary": {
           "aaxis": {
            "gridcolor": "white",
            "linecolor": "white",
            "ticks": ""
           },
           "baxis": {
            "gridcolor": "white",
            "linecolor": "white",
            "ticks": ""
           },
           "bgcolor": "#E5ECF6",
           "caxis": {
            "gridcolor": "white",
            "linecolor": "white",
            "ticks": ""
           }
          },
          "title": {
           "x": 0.05
          },
          "xaxis": {
           "automargin": true,
           "gridcolor": "white",
           "linecolor": "white",
           "ticks": "",
           "title": {
            "standoff": 15
           },
           "zerolinecolor": "white",
           "zerolinewidth": 2
          },
          "yaxis": {
           "automargin": true,
           "gridcolor": "white",
           "linecolor": "white",
           "ticks": "",
           "title": {
            "standoff": 15
           },
           "zerolinecolor": "white",
           "zerolinewidth": 2
          }
         }
        },
        "title": {
         "text": "Investor Share of New Resale Listings Activity: San Diego City",
         "x": 0.5,
         "xanchor": "center",
         "y": 0.97,
         "yanchor": "top"
        },
        "width": 1600,
        "xaxis": {
         "anchor": "y",
         "autorange": true,
         "domain": [
          0,
          1
         ],
         "gridcolor": "LightGrey",
         "gridwidth": 1,
         "range": [
          "2018-12-13 22:48:41.0312",
          "2024-08-15 01:11:18.9688"
         ],
         "showgrid": true,
         "title": {
          "text": "date"
         },
         "type": "date"
        },
        "yaxis": {
         "anchor": "x",
         "autorange": true,
         "domain": [
          0,
          1
         ],
         "gridcolor": "LightGrey",
         "gridwidth": 1,
         "range": [
          0.2172942885771543,
          0.4010057114228457
         ],
         "showgrid": true,
         "tickformat": ".0%",
         "title": {
          "text": "% of New Listings by Investors"
         },
         "type": "linear"
        }
       }
      }
     },
     "metadata": {},
     "output_type": "display_data"
    }
   ],
   "source": [
    "# Create the line chart\n",
    "fig = px.line(\n",
    "    investor_listings,\n",
    "    x='date',\n",
    "    y='pct_for_sale_market',\n",
    "    color='period',  # This creates separate lines for each period\n",
    "    title=f'Investor Share of New Resale Listings Activity: {name}',\n",
    "    labels={'pct_for_sale_market': '% of New Listings by Investors'},\n",
    "    line_shape='linear'  # 'spline' for smooth lines, if preferred\n",
    ")\n",
    "\n",
    "fig.add_layout_image(labs_logo_dict)\n",
    "\n",
    "fig.update_layout(\n",
    "    margin=dict(b=100),\n",
    "    height=IMG_HEIGHT,\n",
    "    width=IMG_WIDTH,\n",
    "    legend=dict(\n",
    "        x=0.01,\n",
    "        y=0.99,\n",
    "        traceorder=\"normal\",\n",
    "        xanchor='left',\n",
    "        yanchor='top',\n",
    "        title='Period (Days)'\n",
    "    ),\n",
    "    title=PLOT_TITLE_SETTINGS,\n",
    "    plot_bgcolor='#080D16',\n",
    "    paper_bgcolor='#080D16',\n",
    "    font=dict(color='#FFFFFF'),\n",
    "    xaxis_title='date' \n",
    ")\n",
    "\n",
    "fig.update_yaxes(tickformat=\".0%\")\n",
    "\n",
    "color_map = {\n",
    "    'rolling_30_day': '#448CF2',\n",
    "    'rolling_90_day': '#FFFFFF',\n",
    "}\n",
    "\n",
    "fig.update_traces(\n",
    "    line=dict(width=3),\n",
    "    mode='lines+markers',\n",
    "    marker=dict(size=5)\n",
    ")\n",
    "\n",
    "\n",
    "for trace in fig.data:\n",
    "    if trace.name in color_map:\n",
    "        trace.line.color = color_map[trace.name]\n",
    "        trace.marker.color = color_map[trace.name]\n",
    "\n",
    "# Adding gridlines\n",
    "fig.update_xaxes(showgrid=True, gridwidth=1, gridcolor='LightGrey')\n",
    "fig.update_yaxes(showgrid=True, gridwidth=1, gridcolor='LightGrey')\n",
    "\n",
    "# save figure\n",
    "fig.write_image(os.path.join(output_dir, 'investor_share_of_resale_listings_rolling_n_period.png'), width=IMG_WIDTH, height=IMG_HEIGHT)\n",
    "\n",
    "# Show the plot\n",
    "fig.show()\n"
   ]
  },
  {
   "cell_type": "markdown",
   "id": "36bacb10",
   "metadata": {},
   "source": [
    "We can also filter out new listings by investors based on their portfolio size."
   ]
  },
  {
   "cell_type": "code",
   "execution_count": 55,
   "id": "0d4c32a3-0ca2-43a7-a44d-49565449ebd9",
   "metadata": {},
   "outputs": [
    {
     "data": {
      "text/html": [
       "<div>\n",
       "<style scoped>\n",
       "    .dataframe tbody tr th:only-of-type {\n",
       "        vertical-align: middle;\n",
       "    }\n",
       "\n",
       "    .dataframe tbody tr th {\n",
       "        vertical-align: top;\n",
       "    }\n",
       "\n",
       "    .dataframe thead th {\n",
       "        text-align: right;\n",
       "    }\n",
       "</style>\n",
       "<table border=\"1\" class=\"dataframe\">\n",
       "  <thead>\n",
       "    <tr style=\"text-align: right;\">\n",
       "      <th></th>\n",
       "      <th>date</th>\n",
       "      <th>period</th>\n",
       "      <th>counts</th>\n",
       "      <th>pct_sf_for_sale_market</th>\n",
       "      <th>parcl_id</th>\n",
       "      <th>portfolio_size</th>\n",
       "    </tr>\n",
       "  </thead>\n",
       "  <tbody>\n",
       "    <tr>\n",
       "      <th>0</th>\n",
       "      <td>2024-04-22</td>\n",
       "      <td>rolling_7_day</td>\n",
       "      <td>29</td>\n",
       "      <td>16.96</td>\n",
       "      <td>5374167</td>\n",
       "      <td>PORTFOLIO_2_TO_9</td>\n",
       "    </tr>\n",
       "    <tr>\n",
       "      <th>1</th>\n",
       "      <td>2024-04-22</td>\n",
       "      <td>rolling_30_day</td>\n",
       "      <td>107</td>\n",
       "      <td>14.86</td>\n",
       "      <td>5374167</td>\n",
       "      <td>PORTFOLIO_2_TO_9</td>\n",
       "    </tr>\n",
       "    <tr>\n",
       "      <th>2</th>\n",
       "      <td>2024-04-22</td>\n",
       "      <td>rolling_60_day</td>\n",
       "      <td>209</td>\n",
       "      <td>13.45</td>\n",
       "      <td>5374167</td>\n",
       "      <td>PORTFOLIO_2_TO_9</td>\n",
       "    </tr>\n",
       "    <tr>\n",
       "      <th>3</th>\n",
       "      <td>2024-04-22</td>\n",
       "      <td>rolling_90_day</td>\n",
       "      <td>284</td>\n",
       "      <td>13.44</td>\n",
       "      <td>5374167</td>\n",
       "      <td>PORTFOLIO_2_TO_9</td>\n",
       "    </tr>\n",
       "    <tr>\n",
       "      <th>4</th>\n",
       "      <td>2024-04-15</td>\n",
       "      <td>rolling_7_day</td>\n",
       "      <td>25</td>\n",
       "      <td>13.59</td>\n",
       "      <td>5374167</td>\n",
       "      <td>PORTFOLIO_2_TO_9</td>\n",
       "    </tr>\n",
       "  </tbody>\n",
       "</table>\n",
       "</div>"
      ],
      "text/plain": [
       "         date          period  counts  pct_sf_for_sale_market  parcl_id  \\\n",
       "0  2024-04-22   rolling_7_day      29                   16.96   5374167   \n",
       "1  2024-04-22  rolling_30_day     107                   14.86   5374167   \n",
       "2  2024-04-22  rolling_60_day     209                   13.45   5374167   \n",
       "3  2024-04-22  rolling_90_day     284                   13.44   5374167   \n",
       "4  2024-04-15   rolling_7_day      25                   13.59   5374167   \n",
       "\n",
       "     portfolio_size  \n",
       "0  PORTFOLIO_2_TO_9  \n",
       "1  PORTFOLIO_2_TO_9  \n",
       "2  PORTFOLIO_2_TO_9  \n",
       "3  PORTFOLIO_2_TO_9  \n",
       "4  PORTFOLIO_2_TO_9  "
      ]
     },
     "execution_count": 55,
     "metadata": {},
     "output_type": "execute_result"
    }
   ],
   "source": [
    "# now lets get the listings by portfolio sizes in San Diego city as of this week\n",
    "portfolio_metrics_new_listings_2_to_9 = client.portfolio_metrics_new_listings_for_sale_rolling_counts.retrieve(\n",
    "        parcl_id=analysis_parcl_id,\n",
    "        as_dataframe=True,\n",
    "        portfolio_size='PORTFOLIO_2_TO_9',\n",
    "    )\n",
    "\n",
    "portfolio_metrics_new_listings_2_to_9.head()"
   ]
  },
  {
   "cell_type": "code",
   "execution_count": 56,
   "id": "95d96cd4-ed15-40b0-bba7-1abdd60df471",
   "metadata": {},
   "outputs": [
    {
     "data": {
      "text/html": [
       "<div>\n",
       "<style scoped>\n",
       "    .dataframe tbody tr th:only-of-type {\n",
       "        vertical-align: middle;\n",
       "    }\n",
       "\n",
       "    .dataframe tbody tr th {\n",
       "        vertical-align: top;\n",
       "    }\n",
       "\n",
       "    .dataframe thead th {\n",
       "        text-align: right;\n",
       "    }\n",
       "</style>\n",
       "<table border=\"1\" class=\"dataframe\">\n",
       "  <thead>\n",
       "    <tr style=\"text-align: right;\">\n",
       "      <th></th>\n",
       "      <th>date</th>\n",
       "      <th>period</th>\n",
       "      <th>counts</th>\n",
       "      <th>pct_sf_for_sale_market</th>\n",
       "      <th>parcl_id</th>\n",
       "      <th>portfolio_size</th>\n",
       "    </tr>\n",
       "  </thead>\n",
       "  <tbody>\n",
       "    <tr>\n",
       "      <th>0</th>\n",
       "      <td>2024-04-22</td>\n",
       "      <td>rolling_7_day</td>\n",
       "      <td>8</td>\n",
       "      <td>4.68</td>\n",
       "      <td>5374167</td>\n",
       "      <td>PORTFOLIO_10_TO_99</td>\n",
       "    </tr>\n",
       "    <tr>\n",
       "      <th>1</th>\n",
       "      <td>2024-04-22</td>\n",
       "      <td>rolling_30_day</td>\n",
       "      <td>28</td>\n",
       "      <td>3.89</td>\n",
       "      <td>5374167</td>\n",
       "      <td>PORTFOLIO_10_TO_99</td>\n",
       "    </tr>\n",
       "    <tr>\n",
       "      <th>2</th>\n",
       "      <td>2024-04-22</td>\n",
       "      <td>rolling_60_day</td>\n",
       "      <td>53</td>\n",
       "      <td>3.41</td>\n",
       "      <td>5374167</td>\n",
       "      <td>PORTFOLIO_10_TO_99</td>\n",
       "    </tr>\n",
       "    <tr>\n",
       "      <th>3</th>\n",
       "      <td>2024-04-22</td>\n",
       "      <td>rolling_90_day</td>\n",
       "      <td>67</td>\n",
       "      <td>3.17</td>\n",
       "      <td>5374167</td>\n",
       "      <td>PORTFOLIO_10_TO_99</td>\n",
       "    </tr>\n",
       "    <tr>\n",
       "      <th>4</th>\n",
       "      <td>2024-04-15</td>\n",
       "      <td>rolling_7_day</td>\n",
       "      <td>8</td>\n",
       "      <td>4.35</td>\n",
       "      <td>5374167</td>\n",
       "      <td>PORTFOLIO_10_TO_99</td>\n",
       "    </tr>\n",
       "  </tbody>\n",
       "</table>\n",
       "</div>"
      ],
      "text/plain": [
       "         date          period  counts  pct_sf_for_sale_market  parcl_id  \\\n",
       "0  2024-04-22   rolling_7_day       8                    4.68   5374167   \n",
       "1  2024-04-22  rolling_30_day      28                    3.89   5374167   \n",
       "2  2024-04-22  rolling_60_day      53                    3.41   5374167   \n",
       "3  2024-04-22  rolling_90_day      67                    3.17   5374167   \n",
       "4  2024-04-15   rolling_7_day       8                    4.35   5374167   \n",
       "\n",
       "       portfolio_size  \n",
       "0  PORTFOLIO_10_TO_99  \n",
       "1  PORTFOLIO_10_TO_99  \n",
       "2  PORTFOLIO_10_TO_99  \n",
       "3  PORTFOLIO_10_TO_99  \n",
       "4  PORTFOLIO_10_TO_99  "
      ]
     },
     "execution_count": 56,
     "metadata": {},
     "output_type": "execute_result"
    }
   ],
   "source": [
    "# repeat for portfolio size of 10 to 99\n",
    "portfolio_metrics_new_listings_10_to_9 = client.portfolio_metrics_new_listings_for_sale_rolling_counts.retrieve(\n",
    "        parcl_id=analysis_parcl_id,\n",
    "        as_dataframe=True,\n",
    "        portfolio_size='PORTFOLIO_10_TO_99',\n",
    "    )\n",
    "\n",
    "portfolio_metrics_new_listings_10_to_9.head()"
   ]
  },
  {
   "cell_type": "code",
   "execution_count": 57,
   "id": "b27cb461-9117-467b-bf8e-000ed50f4868",
   "metadata": {},
   "outputs": [
    {
     "data": {
      "text/html": [
       "<div>\n",
       "<style scoped>\n",
       "    .dataframe tbody tr th:only-of-type {\n",
       "        vertical-align: middle;\n",
       "    }\n",
       "\n",
       "    .dataframe tbody tr th {\n",
       "        vertical-align: top;\n",
       "    }\n",
       "\n",
       "    .dataframe thead th {\n",
       "        text-align: right;\n",
       "    }\n",
       "</style>\n",
       "<table border=\"1\" class=\"dataframe\">\n",
       "  <thead>\n",
       "    <tr style=\"text-align: right;\">\n",
       "      <th></th>\n",
       "      <th>date</th>\n",
       "      <th>period</th>\n",
       "      <th>counts</th>\n",
       "      <th>pct_sf_for_sale_market</th>\n",
       "      <th>parcl_id</th>\n",
       "      <th>portfolio_size</th>\n",
       "    </tr>\n",
       "  </thead>\n",
       "  <tbody>\n",
       "    <tr>\n",
       "      <th>0</th>\n",
       "      <td>2024-04-22</td>\n",
       "      <td>rolling_7_day</td>\n",
       "      <td>NaN</td>\n",
       "      <td>NaN</td>\n",
       "      <td>5374167</td>\n",
       "      <td>PORTFOLIO_1000_PLUS</td>\n",
       "    </tr>\n",
       "    <tr>\n",
       "      <th>1</th>\n",
       "      <td>2024-04-22</td>\n",
       "      <td>rolling_30_day</td>\n",
       "      <td>1.0</td>\n",
       "      <td>0.14</td>\n",
       "      <td>5374167</td>\n",
       "      <td>PORTFOLIO_1000_PLUS</td>\n",
       "    </tr>\n",
       "    <tr>\n",
       "      <th>2</th>\n",
       "      <td>2024-04-22</td>\n",
       "      <td>rolling_60_day</td>\n",
       "      <td>12.0</td>\n",
       "      <td>0.77</td>\n",
       "      <td>5374167</td>\n",
       "      <td>PORTFOLIO_1000_PLUS</td>\n",
       "    </tr>\n",
       "    <tr>\n",
       "      <th>3</th>\n",
       "      <td>2024-04-22</td>\n",
       "      <td>rolling_90_day</td>\n",
       "      <td>13.0</td>\n",
       "      <td>0.62</td>\n",
       "      <td>5374167</td>\n",
       "      <td>PORTFOLIO_1000_PLUS</td>\n",
       "    </tr>\n",
       "    <tr>\n",
       "      <th>4</th>\n",
       "      <td>2024-04-15</td>\n",
       "      <td>rolling_7_day</td>\n",
       "      <td>1.0</td>\n",
       "      <td>0.54</td>\n",
       "      <td>5374167</td>\n",
       "      <td>PORTFOLIO_1000_PLUS</td>\n",
       "    </tr>\n",
       "  </tbody>\n",
       "</table>\n",
       "</div>"
      ],
      "text/plain": [
       "         date          period  counts  pct_sf_for_sale_market  parcl_id  \\\n",
       "0  2024-04-22   rolling_7_day     NaN                     NaN   5374167   \n",
       "1  2024-04-22  rolling_30_day     1.0                    0.14   5374167   \n",
       "2  2024-04-22  rolling_60_day    12.0                    0.77   5374167   \n",
       "3  2024-04-22  rolling_90_day    13.0                    0.62   5374167   \n",
       "4  2024-04-15   rolling_7_day     1.0                    0.54   5374167   \n",
       "\n",
       "        portfolio_size  \n",
       "0  PORTFOLIO_1000_PLUS  \n",
       "1  PORTFOLIO_1000_PLUS  \n",
       "2  PORTFOLIO_1000_PLUS  \n",
       "3  PORTFOLIO_1000_PLUS  \n",
       "4  PORTFOLIO_1000_PLUS  "
      ]
     },
     "execution_count": 57,
     "metadata": {},
     "output_type": "execute_result"
    }
   ],
   "source": [
    "# repeat for portfolio size of 1000+\n",
    "portfolio_metrics_new_listings_1000_plus = client.portfolio_metrics_new_listings_for_sale_rolling_counts.retrieve(\n",
    "        parcl_id=analysis_parcl_id,\n",
    "        as_dataframe=True,\n",
    "        portfolio_size='PORTFOLIO_1000_PLUS',\n",
    "    )\n",
    "\n",
    "portfolio_metrics_new_listings_1000_plus.head()"
   ]
  },
  {
   "cell_type": "markdown",
   "id": "8ae4ab6a-8f50-4223-bd30-aa2317fb590f",
   "metadata": {},
   "source": [
    "<a id='prices'></a>\n",
    "### Price Activity\n",
    "\n",
    "Let's review rental prices, new listing prices and home sales prices. "
   ]
  },
  {
   "cell_type": "code",
   "execution_count": 58,
   "id": "c5d43a99-2a06-4e61-b8b2-f9daf34bd974",
   "metadata": {},
   "outputs": [],
   "source": [
    "# Prices\n",
    "prices = client.market_metrics_housing_event_prices.retrieve(\n",
    "    parcl_id=analysis_parcl_id,\n",
    "    as_dataframe=True,\n",
    "    params={\n",
    "        'limit': 300\n",
    "    }\n",
    ")\n",
    "\n",
    "# subset the data and melt it to long format\n",
    "prices_long = prices[['date', 'parcl_id', 'price_median_sales', 'price_median_new_listings_for_sale']]\n",
    "\n",
    "prices_long = pd.melt(\n",
    "    prices_long, \n",
    "    id_vars=['date', 'parcl_id'], \n",
    "    value_vars=['price_median_sales', 'price_median_new_listings_for_sale'],\n",
    "    value_name='Median Price ($)',\n",
    "    var_name='Transaction Type'\n",
    ")\n",
    "\n",
    "# replace the variable names to make them more user friendly\n",
    "r = {\n",
    "    'price_median_sales': 'Median Sales Price',\n",
    "    'price_median_new_listings_for_sale': 'Median New Listing Price'\n",
    "}\n",
    "\n",
    "prices_long['Transaction Type'] = prices_long['Transaction Type'].replace(r)"
   ]
  },
  {
   "cell_type": "code",
   "execution_count": 59,
   "id": "61ee6897-ca06-4a43-9fa3-1fd182a55314",
   "metadata": {},
   "outputs": [
    {
     "data": {
      "application/vnd.plotly.v1+json": {
       "config": {
        "plotlyServerURL": "https://plot.ly"
       },
       "data": [
        {
         "hovertemplate": "Transaction Type=Median Sales Price<br>date=%{x}<br>Median Price ($)=%{y}<extra></extra>",
         "legendgroup": "Median Sales Price",
         "line": {
          "color": "#448CF2",
          "dash": "solid",
          "width": 3
         },
         "marker": {
          "color": "#448CF2",
          "size": 5,
          "symbol": "circle"
         },
         "mode": "lines+markers",
         "name": "Median Sales Price",
         "orientation": "v",
         "showlegend": true,
         "type": "scatter",
         "x": [
          "2024-03-01",
          "2024-02-01",
          "2024-01-01",
          "2023-12-01",
          "2023-11-01",
          "2023-10-01",
          "2023-09-01",
          "2023-08-01",
          "2023-07-01",
          "2023-06-01",
          "2023-05-01",
          "2023-04-01",
          "2023-03-01",
          "2023-02-01",
          "2023-01-01",
          "2022-12-01",
          "2022-11-01",
          "2022-10-01",
          "2022-09-01",
          "2022-08-01",
          "2022-07-01",
          "2022-06-01",
          "2022-05-01",
          "2022-04-01",
          "2022-03-01",
          "2022-02-01",
          "2022-01-01",
          "2021-12-01",
          "2021-11-01",
          "2021-10-01",
          "2021-09-01",
          "2021-08-01",
          "2021-07-01",
          "2021-06-01",
          "2021-05-01",
          "2021-04-01",
          "2021-03-01",
          "2021-02-01",
          "2021-01-01",
          "2020-12-01",
          "2020-11-01",
          "2020-10-01",
          "2020-09-01",
          "2020-08-01",
          "2020-07-01",
          "2020-06-01",
          "2020-05-01",
          "2020-04-01",
          "2020-03-01",
          "2020-02-01",
          "2020-01-01",
          "2019-12-01",
          "2019-11-01",
          "2019-10-01",
          "2019-09-01",
          "2019-08-01",
          "2019-07-01",
          "2019-06-01",
          "2019-05-01",
          "2019-04-01",
          "2019-03-01",
          "2019-02-01",
          "2019-01-01"
         ],
         "xaxis": "x",
         "y": [
          896000,
          920000,
          855250,
          849000,
          880000,
          850000,
          862500,
          890000,
          877000,
          897000,
          900000,
          880000,
          835000,
          824000,
          760000,
          785000,
          804500,
          829000,
          820000,
          845000,
          861500,
          850000,
          895000,
          882000,
          900000,
          815000,
          785000,
          790000,
          800000,
          790000,
          760000,
          745000,
          770000,
          780000,
          750500,
          725000,
          700000,
          716500,
          676500,
          675000,
          685000,
          681000,
          680000,
          665000,
          665000,
          630000,
          640000,
          625500,
          640000,
          607250,
          600000,
          620000,
          625000,
          625000,
          599000,
          625000,
          630000,
          640000,
          630000,
          619000,
          605000,
          600000,
          580000
         ],
         "yaxis": "y"
        },
        {
         "hovertemplate": "Transaction Type=Median New Listing Price<br>date=%{x}<br>Median Price ($)=%{y}<extra></extra>",
         "legendgroup": "Median New Listing Price",
         "line": {
          "color": "#FFFFFF",
          "dash": "solid",
          "width": 3
         },
         "marker": {
          "color": "#FFFFFF",
          "size": 5,
          "symbol": "circle"
         },
         "mode": "lines+markers",
         "name": "Median New Listing Price",
         "orientation": "v",
         "showlegend": true,
         "type": "scatter",
         "x": [
          "2024-03-01",
          "2024-02-01",
          "2024-01-01",
          "2023-12-01",
          "2023-11-01",
          "2023-10-01",
          "2023-09-01",
          "2023-08-01",
          "2023-07-01",
          "2023-06-01",
          "2023-05-01",
          "2023-04-01",
          "2023-03-01",
          "2023-02-01",
          "2023-01-01",
          "2022-12-01",
          "2022-11-01",
          "2022-10-01",
          "2022-09-01",
          "2022-08-01",
          "2022-07-01",
          "2022-06-01",
          "2022-05-01",
          "2022-04-01",
          "2022-03-01",
          "2022-02-01",
          "2022-01-01",
          "2021-12-01",
          "2021-11-01",
          "2021-10-01",
          "2021-09-01",
          "2021-08-01",
          "2021-07-01",
          "2021-06-01",
          "2021-05-01",
          "2021-04-01",
          "2021-03-01",
          "2021-02-01",
          "2021-01-01",
          "2020-12-01",
          "2020-11-01",
          "2020-10-01",
          "2020-09-01",
          "2020-08-01",
          "2020-07-01",
          "2020-06-01",
          "2020-05-01",
          "2020-04-01",
          "2020-03-01",
          "2020-02-01",
          "2020-01-01",
          "2019-12-01",
          "2019-11-01",
          "2019-10-01",
          "2019-09-01",
          "2019-08-01",
          "2019-07-01",
          "2019-06-01",
          "2019-05-01",
          "2019-04-01",
          "2019-03-01",
          "2019-02-01",
          "2019-01-01"
         ],
         "xaxis": "x",
         "y": [
          985000,
          949000,
          949900,
          849999,
          925000,
          949000,
          949000,
          940000,
          950000,
          902500,
          899000,
          925000,
          898000,
          899000,
          890000,
          825000,
          899000,
          904000,
          875000,
          864500,
          900000,
          945000,
          969000,
          909000,
          949900,
          889000,
          899000,
          774450,
          799000,
          859000,
          768000,
          799950,
          777999,
          745000,
          715000,
          729999,
          675000,
          570000,
          639000,
          539000,
          600000,
          695000,
          699000,
          624950,
          698000,
          599700,
          615000,
          599000,
          729000,
          678000,
          699000,
          499000,
          579000,
          629450,
          625000,
          562450,
          635000,
          625000,
          585000,
          571944,
          599999,
          591950,
          639900
         ],
         "yaxis": "y"
        }
       ],
       "layout": {
        "font": {
         "color": "#FFFFFF"
        },
        "height": 900,
        "images": [
         {
          "sizex": 0.15,
          "sizey": 0.15,
          "source": "https://parcllabs-assets.s3.amazonaws.com/powered-by-parcllabs-api-logo-white.png",
          "x": 0.5,
          "xanchor": "center",
          "xref": "paper",
          "y": 1.02,
          "yanchor": "bottom",
          "yref": "paper"
         }
        ],
        "legend": {
         "title": {
          "text": "Transaction Type"
         },
         "tracegroupgap": 0,
         "traceorder": "normal",
         "x": 0.01,
         "xanchor": "left",
         "y": 0.99,
         "yanchor": "top"
        },
        "margin": {
         "b": 100
        },
        "paper_bgcolor": "#080D16",
        "plot_bgcolor": "#080D16",
        "showlegend": true,
        "template": {
         "data": {
          "bar": [
           {
            "error_x": {
             "color": "#2a3f5f"
            },
            "error_y": {
             "color": "#2a3f5f"
            },
            "marker": {
             "line": {
              "color": "#E5ECF6",
              "width": 0.5
             },
             "pattern": {
              "fillmode": "overlay",
              "size": 10,
              "solidity": 0.2
             }
            },
            "type": "bar"
           }
          ],
          "barpolar": [
           {
            "marker": {
             "line": {
              "color": "#E5ECF6",
              "width": 0.5
             },
             "pattern": {
              "fillmode": "overlay",
              "size": 10,
              "solidity": 0.2
             }
            },
            "type": "barpolar"
           }
          ],
          "carpet": [
           {
            "aaxis": {
             "endlinecolor": "#2a3f5f",
             "gridcolor": "white",
             "linecolor": "white",
             "minorgridcolor": "white",
             "startlinecolor": "#2a3f5f"
            },
            "baxis": {
             "endlinecolor": "#2a3f5f",
             "gridcolor": "white",
             "linecolor": "white",
             "minorgridcolor": "white",
             "startlinecolor": "#2a3f5f"
            },
            "type": "carpet"
           }
          ],
          "choropleth": [
           {
            "colorbar": {
             "outlinewidth": 0,
             "ticks": ""
            },
            "type": "choropleth"
           }
          ],
          "contour": [
           {
            "colorbar": {
             "outlinewidth": 0,
             "ticks": ""
            },
            "colorscale": [
             [
              0,
              "#0d0887"
             ],
             [
              0.1111111111111111,
              "#46039f"
             ],
             [
              0.2222222222222222,
              "#7201a8"
             ],
             [
              0.3333333333333333,
              "#9c179e"
             ],
             [
              0.4444444444444444,
              "#bd3786"
             ],
             [
              0.5555555555555556,
              "#d8576b"
             ],
             [
              0.6666666666666666,
              "#ed7953"
             ],
             [
              0.7777777777777778,
              "#fb9f3a"
             ],
             [
              0.8888888888888888,
              "#fdca26"
             ],
             [
              1,
              "#f0f921"
             ]
            ],
            "type": "contour"
           }
          ],
          "contourcarpet": [
           {
            "colorbar": {
             "outlinewidth": 0,
             "ticks": ""
            },
            "type": "contourcarpet"
           }
          ],
          "heatmap": [
           {
            "colorbar": {
             "outlinewidth": 0,
             "ticks": ""
            },
            "colorscale": [
             [
              0,
              "#0d0887"
             ],
             [
              0.1111111111111111,
              "#46039f"
             ],
             [
              0.2222222222222222,
              "#7201a8"
             ],
             [
              0.3333333333333333,
              "#9c179e"
             ],
             [
              0.4444444444444444,
              "#bd3786"
             ],
             [
              0.5555555555555556,
              "#d8576b"
             ],
             [
              0.6666666666666666,
              "#ed7953"
             ],
             [
              0.7777777777777778,
              "#fb9f3a"
             ],
             [
              0.8888888888888888,
              "#fdca26"
             ],
             [
              1,
              "#f0f921"
             ]
            ],
            "type": "heatmap"
           }
          ],
          "heatmapgl": [
           {
            "colorbar": {
             "outlinewidth": 0,
             "ticks": ""
            },
            "colorscale": [
             [
              0,
              "#0d0887"
             ],
             [
              0.1111111111111111,
              "#46039f"
             ],
             [
              0.2222222222222222,
              "#7201a8"
             ],
             [
              0.3333333333333333,
              "#9c179e"
             ],
             [
              0.4444444444444444,
              "#bd3786"
             ],
             [
              0.5555555555555556,
              "#d8576b"
             ],
             [
              0.6666666666666666,
              "#ed7953"
             ],
             [
              0.7777777777777778,
              "#fb9f3a"
             ],
             [
              0.8888888888888888,
              "#fdca26"
             ],
             [
              1,
              "#f0f921"
             ]
            ],
            "type": "heatmapgl"
           }
          ],
          "histogram": [
           {
            "marker": {
             "pattern": {
              "fillmode": "overlay",
              "size": 10,
              "solidity": 0.2
             }
            },
            "type": "histogram"
           }
          ],
          "histogram2d": [
           {
            "colorbar": {
             "outlinewidth": 0,
             "ticks": ""
            },
            "colorscale": [
             [
              0,
              "#0d0887"
             ],
             [
              0.1111111111111111,
              "#46039f"
             ],
             [
              0.2222222222222222,
              "#7201a8"
             ],
             [
              0.3333333333333333,
              "#9c179e"
             ],
             [
              0.4444444444444444,
              "#bd3786"
             ],
             [
              0.5555555555555556,
              "#d8576b"
             ],
             [
              0.6666666666666666,
              "#ed7953"
             ],
             [
              0.7777777777777778,
              "#fb9f3a"
             ],
             [
              0.8888888888888888,
              "#fdca26"
             ],
             [
              1,
              "#f0f921"
             ]
            ],
            "type": "histogram2d"
           }
          ],
          "histogram2dcontour": [
           {
            "colorbar": {
             "outlinewidth": 0,
             "ticks": ""
            },
            "colorscale": [
             [
              0,
              "#0d0887"
             ],
             [
              0.1111111111111111,
              "#46039f"
             ],
             [
              0.2222222222222222,
              "#7201a8"
             ],
             [
              0.3333333333333333,
              "#9c179e"
             ],
             [
              0.4444444444444444,
              "#bd3786"
             ],
             [
              0.5555555555555556,
              "#d8576b"
             ],
             [
              0.6666666666666666,
              "#ed7953"
             ],
             [
              0.7777777777777778,
              "#fb9f3a"
             ],
             [
              0.8888888888888888,
              "#fdca26"
             ],
             [
              1,
              "#f0f921"
             ]
            ],
            "type": "histogram2dcontour"
           }
          ],
          "mesh3d": [
           {
            "colorbar": {
             "outlinewidth": 0,
             "ticks": ""
            },
            "type": "mesh3d"
           }
          ],
          "parcoords": [
           {
            "line": {
             "colorbar": {
              "outlinewidth": 0,
              "ticks": ""
             }
            },
            "type": "parcoords"
           }
          ],
          "pie": [
           {
            "automargin": true,
            "type": "pie"
           }
          ],
          "scatter": [
           {
            "fillpattern": {
             "fillmode": "overlay",
             "size": 10,
             "solidity": 0.2
            },
            "type": "scatter"
           }
          ],
          "scatter3d": [
           {
            "line": {
             "colorbar": {
              "outlinewidth": 0,
              "ticks": ""
             }
            },
            "marker": {
             "colorbar": {
              "outlinewidth": 0,
              "ticks": ""
             }
            },
            "type": "scatter3d"
           }
          ],
          "scattercarpet": [
           {
            "marker": {
             "colorbar": {
              "outlinewidth": 0,
              "ticks": ""
             }
            },
            "type": "scattercarpet"
           }
          ],
          "scattergeo": [
           {
            "marker": {
             "colorbar": {
              "outlinewidth": 0,
              "ticks": ""
             }
            },
            "type": "scattergeo"
           }
          ],
          "scattergl": [
           {
            "marker": {
             "colorbar": {
              "outlinewidth": 0,
              "ticks": ""
             }
            },
            "type": "scattergl"
           }
          ],
          "scattermapbox": [
           {
            "marker": {
             "colorbar": {
              "outlinewidth": 0,
              "ticks": ""
             }
            },
            "type": "scattermapbox"
           }
          ],
          "scatterpolar": [
           {
            "marker": {
             "colorbar": {
              "outlinewidth": 0,
              "ticks": ""
             }
            },
            "type": "scatterpolar"
           }
          ],
          "scatterpolargl": [
           {
            "marker": {
             "colorbar": {
              "outlinewidth": 0,
              "ticks": ""
             }
            },
            "type": "scatterpolargl"
           }
          ],
          "scatterternary": [
           {
            "marker": {
             "colorbar": {
              "outlinewidth": 0,
              "ticks": ""
             }
            },
            "type": "scatterternary"
           }
          ],
          "surface": [
           {
            "colorbar": {
             "outlinewidth": 0,
             "ticks": ""
            },
            "colorscale": [
             [
              0,
              "#0d0887"
             ],
             [
              0.1111111111111111,
              "#46039f"
             ],
             [
              0.2222222222222222,
              "#7201a8"
             ],
             [
              0.3333333333333333,
              "#9c179e"
             ],
             [
              0.4444444444444444,
              "#bd3786"
             ],
             [
              0.5555555555555556,
              "#d8576b"
             ],
             [
              0.6666666666666666,
              "#ed7953"
             ],
             [
              0.7777777777777778,
              "#fb9f3a"
             ],
             [
              0.8888888888888888,
              "#fdca26"
             ],
             [
              1,
              "#f0f921"
             ]
            ],
            "type": "surface"
           }
          ],
          "table": [
           {
            "cells": {
             "fill": {
              "color": "#EBF0F8"
             },
             "line": {
              "color": "white"
             }
            },
            "header": {
             "fill": {
              "color": "#C8D4E3"
             },
             "line": {
              "color": "white"
             }
            },
            "type": "table"
           }
          ]
         },
         "layout": {
          "annotationdefaults": {
           "arrowcolor": "#2a3f5f",
           "arrowhead": 0,
           "arrowwidth": 1
          },
          "autotypenumbers": "strict",
          "coloraxis": {
           "colorbar": {
            "outlinewidth": 0,
            "ticks": ""
           }
          },
          "colorscale": {
           "diverging": [
            [
             0,
             "#8e0152"
            ],
            [
             0.1,
             "#c51b7d"
            ],
            [
             0.2,
             "#de77ae"
            ],
            [
             0.3,
             "#f1b6da"
            ],
            [
             0.4,
             "#fde0ef"
            ],
            [
             0.5,
             "#f7f7f7"
            ],
            [
             0.6,
             "#e6f5d0"
            ],
            [
             0.7,
             "#b8e186"
            ],
            [
             0.8,
             "#7fbc41"
            ],
            [
             0.9,
             "#4d9221"
            ],
            [
             1,
             "#276419"
            ]
           ],
           "sequential": [
            [
             0,
             "#0d0887"
            ],
            [
             0.1111111111111111,
             "#46039f"
            ],
            [
             0.2222222222222222,
             "#7201a8"
            ],
            [
             0.3333333333333333,
             "#9c179e"
            ],
            [
             0.4444444444444444,
             "#bd3786"
            ],
            [
             0.5555555555555556,
             "#d8576b"
            ],
            [
             0.6666666666666666,
             "#ed7953"
            ],
            [
             0.7777777777777778,
             "#fb9f3a"
            ],
            [
             0.8888888888888888,
             "#fdca26"
            ],
            [
             1,
             "#f0f921"
            ]
           ],
           "sequentialminus": [
            [
             0,
             "#0d0887"
            ],
            [
             0.1111111111111111,
             "#46039f"
            ],
            [
             0.2222222222222222,
             "#7201a8"
            ],
            [
             0.3333333333333333,
             "#9c179e"
            ],
            [
             0.4444444444444444,
             "#bd3786"
            ],
            [
             0.5555555555555556,
             "#d8576b"
            ],
            [
             0.6666666666666666,
             "#ed7953"
            ],
            [
             0.7777777777777778,
             "#fb9f3a"
            ],
            [
             0.8888888888888888,
             "#fdca26"
            ],
            [
             1,
             "#f0f921"
            ]
           ]
          },
          "colorway": [
           "#636efa",
           "#EF553B",
           "#00cc96",
           "#ab63fa",
           "#FFA15A",
           "#19d3f3",
           "#FF6692",
           "#B6E880",
           "#FF97FF",
           "#FECB52"
          ],
          "font": {
           "color": "#2a3f5f"
          },
          "geo": {
           "bgcolor": "white",
           "lakecolor": "white",
           "landcolor": "#E5ECF6",
           "showlakes": true,
           "showland": true,
           "subunitcolor": "white"
          },
          "hoverlabel": {
           "align": "left"
          },
          "hovermode": "closest",
          "mapbox": {
           "style": "light"
          },
          "paper_bgcolor": "white",
          "plot_bgcolor": "#E5ECF6",
          "polar": {
           "angularaxis": {
            "gridcolor": "white",
            "linecolor": "white",
            "ticks": ""
           },
           "bgcolor": "#E5ECF6",
           "radialaxis": {
            "gridcolor": "white",
            "linecolor": "white",
            "ticks": ""
           }
          },
          "scene": {
           "xaxis": {
            "backgroundcolor": "#E5ECF6",
            "gridcolor": "white",
            "gridwidth": 2,
            "linecolor": "white",
            "showbackground": true,
            "ticks": "",
            "zerolinecolor": "white"
           },
           "yaxis": {
            "backgroundcolor": "#E5ECF6",
            "gridcolor": "white",
            "gridwidth": 2,
            "linecolor": "white",
            "showbackground": true,
            "ticks": "",
            "zerolinecolor": "white"
           },
           "zaxis": {
            "backgroundcolor": "#E5ECF6",
            "gridcolor": "white",
            "gridwidth": 2,
            "linecolor": "white",
            "showbackground": true,
            "ticks": "",
            "zerolinecolor": "white"
           }
          },
          "shapedefaults": {
           "line": {
            "color": "#2a3f5f"
           }
          },
          "ternary": {
           "aaxis": {
            "gridcolor": "white",
            "linecolor": "white",
            "ticks": ""
           },
           "baxis": {
            "gridcolor": "white",
            "linecolor": "white",
            "ticks": ""
           },
           "bgcolor": "#E5ECF6",
           "caxis": {
            "gridcolor": "white",
            "linecolor": "white",
            "ticks": ""
           }
          },
          "title": {
           "x": 0.05
          },
          "xaxis": {
           "automargin": true,
           "gridcolor": "white",
           "linecolor": "white",
           "ticks": "",
           "title": {
            "standoff": 15
           },
           "zerolinecolor": "white",
           "zerolinewidth": 2
          },
          "yaxis": {
           "automargin": true,
           "gridcolor": "white",
           "linecolor": "white",
           "ticks": "",
           "title": {
            "standoff": 15
           },
           "zerolinecolor": "white",
           "zerolinewidth": 2
          }
         }
        },
        "title": {
         "text": "Purchase Price vs. New Listings Median Prices ($): San Diego City",
         "x": 0.5,
         "xanchor": "center",
         "y": 0.97,
         "yanchor": "top"
        },
        "width": 1600,
        "xaxis": {
         "anchor": "y",
         "autorange": true,
         "domain": [
          0,
          1
         ],
         "gridcolor": "LightGrey",
         "gridwidth": 1,
         "range": [
          "2018-09-13 01:02:48.1072",
          "2024-06-18 22:57:11.8928"
         ],
         "showgrid": true,
         "tickformat": "%b %Y",
         "title": {
          "text": "Date"
         },
         "type": "date"
        },
        "yaxis": {
         "anchor": "x",
         "autorange": true,
         "domain": [
          0,
          1
         ],
         "gridcolor": "LightGrey",
         "gridwidth": 1,
         "range": [
          469294.5891783567,
          1014705.4108216433
         ],
         "showgrid": true,
         "tickformat": "$,",
         "title": {
          "text": "Price ($)"
         },
         "type": "linear"
        }
       }
      }
     },
     "metadata": {},
     "output_type": "display_data"
    }
   ],
   "source": [
    "# Creating the line chart\n",
    "fig = px.line(\n",
    "    prices_long,\n",
    "    x='date',\n",
    "    y='Median Price ($)',\n",
    "    color='Transaction Type',\n",
    "    title=f'Purchase Price vs. New Listings Median Prices ($): {name}',\n",
    ")\n",
    "\n",
    "fig.add_layout_image(\n",
    "    labs_logo_dict\n",
    ")\n",
    "\n",
    "fig.update_layout(\n",
    "    margin=dict(b=100),\n",
    "    height=IMG_HEIGHT,\n",
    "    width=IMG_WIDTH,\n",
    "    title=PLOT_TITLE_SETTINGS,\n",
    "    xaxis_title=\"Date\",\n",
    "    yaxis_title=\"Price ($)\",\n",
    "    yaxis_tickformat='$,', \n",
    "    xaxis_tickformat='%b %Y',\n",
    "    plot_bgcolor='#080D16', \n",
    "    paper_bgcolor='#080D16',\n",
    "    font=dict(color='#FFFFFF'),\n",
    "    showlegend=True, \n",
    "    legend=dict(\n",
    "        x=0.01,\n",
    "        y=0.99,\n",
    "        traceorder=\"normal\",\n",
    "        xanchor='left',\n",
    "        yanchor='top'\n",
    "    ),\n",
    ")\n",
    "\n",
    "color_map = {\n",
    "    'Median Sales Price': '#448CF2',\n",
    "    'Median New Listing Price': '#FFFFFF',\n",
    "}\n",
    "\n",
    "fig.update_traces(\n",
    "    line=dict(width=3),\n",
    "    mode='lines+markers',\n",
    "    marker=dict(size=5)\n",
    ")\n",
    "\n",
    "for trace in fig.data:\n",
    "    if trace.name in color_map:\n",
    "        trace.line.color = color_map[trace.name]\n",
    "        trace.marker.color = color_map[trace.name]\n",
    "\n",
    "# Adding gridlines\n",
    "fig.update_xaxes(showgrid=True, gridwidth=1, gridcolor='LightGrey')\n",
    "fig.update_yaxes(showgrid=True, gridwidth=1, gridcolor='LightGrey')\n",
    "\n",
    "# save figure\n",
    "fig.write_image(os.path.join(output_dir, 'purchase_price_vs_new_listings_price.png'), width=IMG_WIDTH, height=IMG_HEIGHT)\n",
    "\n",
    "# Show the plot\n",
    "fig.show()"
   ]
  },
  {
   "cell_type": "code",
   "execution_count": 60,
   "id": "59e31a8e-bd98-455e-b11a-87503cdfff9d",
   "metadata": {},
   "outputs": [
    {
     "data": {
      "application/vnd.plotly.v1+json": {
       "config": {
        "plotlyServerURL": "https://plot.ly"
       },
       "data": [
        {
         "hovertemplate": "date=%{x}<br>Asking Rental Price ($)=%{y}<extra></extra>",
         "legendgroup": "",
         "line": {
          "color": "#FFFFFF",
          "dash": "solid",
          "shape": "linear",
          "width": 3
         },
         "marker": {
          "color": "#448CF2",
          "size": 5,
          "symbol": "circle"
         },
         "mode": "lines+markers",
         "name": "",
         "orientation": "v",
         "showlegend": false,
         "type": "scatter",
         "x": [
          "2024-03-01",
          "2024-02-01",
          "2024-01-01",
          "2023-12-01",
          "2023-11-01",
          "2023-10-01",
          "2023-09-01",
          "2023-08-01",
          "2023-07-01",
          "2023-06-01",
          "2023-05-01",
          "2023-04-01",
          "2023-03-01",
          "2023-02-01",
          "2023-01-01",
          "2022-12-01",
          "2022-11-01",
          "2022-10-01",
          "2022-09-01",
          "2022-08-01",
          "2022-07-01",
          "2022-06-01",
          "2022-05-01",
          "2022-04-01",
          "2022-03-01",
          "2022-02-01",
          "2022-01-01",
          "2021-12-01",
          "2021-11-01",
          "2021-10-01",
          "2021-09-01",
          "2021-08-01",
          "2021-07-01",
          "2021-06-01",
          "2021-05-01",
          "2021-04-01",
          "2021-03-01",
          "2021-02-01",
          "2021-01-01",
          "2020-12-01",
          "2020-11-01",
          "2020-10-01",
          "2020-09-01",
          "2020-08-01",
          "2020-07-01",
          "2020-06-01",
          "2020-05-01",
          "2020-04-01",
          "2020-03-01",
          "2020-02-01",
          "2020-01-01",
          "2019-12-01",
          "2019-11-01",
          "2019-10-01",
          "2019-09-01",
          "2019-08-01",
          "2019-07-01",
          "2019-06-01",
          "2019-05-01",
          "2019-04-01",
          "2019-03-01",
          "2019-02-01",
          "2019-01-01"
         ],
         "xaxis": "x",
         "y": [
          3095,
          3116,
          3075,
          3115,
          3125,
          3161,
          3200,
          3275,
          3275,
          3238,
          3200,
          3149,
          3186,
          3100,
          3137,
          3146,
          3209,
          3234,
          3275,
          3300,
          3400,
          3227,
          3200,
          3190,
          3176,
          3035,
          3000,
          2955,
          2948,
          2977,
          2950,
          2995,
          2921,
          2700,
          2653,
          2500,
          2523,
          2445,
          2445,
          2400,
          2374,
          2312,
          2345,
          2395,
          2445,
          2314,
          2300,
          2345,
          2393,
          2286,
          2350,
          2400,
          2385,
          2350,
          2375,
          2450,
          2450,
          2472,
          2400,
          2395,
          2210,
          2350,
          2385
         ],
         "yaxis": "y"
        }
       ],
       "layout": {
        "font": {
         "color": "#FFFFFF"
        },
        "height": 900,
        "images": [
         {
          "sizex": 0.15,
          "sizey": 0.15,
          "source": "https://parcllabs-assets.s3.amazonaws.com/powered-by-parcllabs-api-logo-white.png",
          "x": 0.5,
          "xanchor": "center",
          "xref": "paper",
          "y": 1.02,
          "yanchor": "bottom",
          "yref": "paper"
         }
        ],
        "legend": {
         "tracegroupgap": 0,
         "traceorder": "normal",
         "x": 0.01,
         "xanchor": "left",
         "y": 0.99,
         "yanchor": "top"
        },
        "margin": {
         "b": 100
        },
        "paper_bgcolor": "#080D16",
        "plot_bgcolor": "#080D16",
        "showlegend": true,
        "template": {
         "data": {
          "bar": [
           {
            "error_x": {
             "color": "#2a3f5f"
            },
            "error_y": {
             "color": "#2a3f5f"
            },
            "marker": {
             "line": {
              "color": "#E5ECF6",
              "width": 0.5
             },
             "pattern": {
              "fillmode": "overlay",
              "size": 10,
              "solidity": 0.2
             }
            },
            "type": "bar"
           }
          ],
          "barpolar": [
           {
            "marker": {
             "line": {
              "color": "#E5ECF6",
              "width": 0.5
             },
             "pattern": {
              "fillmode": "overlay",
              "size": 10,
              "solidity": 0.2
             }
            },
            "type": "barpolar"
           }
          ],
          "carpet": [
           {
            "aaxis": {
             "endlinecolor": "#2a3f5f",
             "gridcolor": "white",
             "linecolor": "white",
             "minorgridcolor": "white",
             "startlinecolor": "#2a3f5f"
            },
            "baxis": {
             "endlinecolor": "#2a3f5f",
             "gridcolor": "white",
             "linecolor": "white",
             "minorgridcolor": "white",
             "startlinecolor": "#2a3f5f"
            },
            "type": "carpet"
           }
          ],
          "choropleth": [
           {
            "colorbar": {
             "outlinewidth": 0,
             "ticks": ""
            },
            "type": "choropleth"
           }
          ],
          "contour": [
           {
            "colorbar": {
             "outlinewidth": 0,
             "ticks": ""
            },
            "colorscale": [
             [
              0,
              "#0d0887"
             ],
             [
              0.1111111111111111,
              "#46039f"
             ],
             [
              0.2222222222222222,
              "#7201a8"
             ],
             [
              0.3333333333333333,
              "#9c179e"
             ],
             [
              0.4444444444444444,
              "#bd3786"
             ],
             [
              0.5555555555555556,
              "#d8576b"
             ],
             [
              0.6666666666666666,
              "#ed7953"
             ],
             [
              0.7777777777777778,
              "#fb9f3a"
             ],
             [
              0.8888888888888888,
              "#fdca26"
             ],
             [
              1,
              "#f0f921"
             ]
            ],
            "type": "contour"
           }
          ],
          "contourcarpet": [
           {
            "colorbar": {
             "outlinewidth": 0,
             "ticks": ""
            },
            "type": "contourcarpet"
           }
          ],
          "heatmap": [
           {
            "colorbar": {
             "outlinewidth": 0,
             "ticks": ""
            },
            "colorscale": [
             [
              0,
              "#0d0887"
             ],
             [
              0.1111111111111111,
              "#46039f"
             ],
             [
              0.2222222222222222,
              "#7201a8"
             ],
             [
              0.3333333333333333,
              "#9c179e"
             ],
             [
              0.4444444444444444,
              "#bd3786"
             ],
             [
              0.5555555555555556,
              "#d8576b"
             ],
             [
              0.6666666666666666,
              "#ed7953"
             ],
             [
              0.7777777777777778,
              "#fb9f3a"
             ],
             [
              0.8888888888888888,
              "#fdca26"
             ],
             [
              1,
              "#f0f921"
             ]
            ],
            "type": "heatmap"
           }
          ],
          "heatmapgl": [
           {
            "colorbar": {
             "outlinewidth": 0,
             "ticks": ""
            },
            "colorscale": [
             [
              0,
              "#0d0887"
             ],
             [
              0.1111111111111111,
              "#46039f"
             ],
             [
              0.2222222222222222,
              "#7201a8"
             ],
             [
              0.3333333333333333,
              "#9c179e"
             ],
             [
              0.4444444444444444,
              "#bd3786"
             ],
             [
              0.5555555555555556,
              "#d8576b"
             ],
             [
              0.6666666666666666,
              "#ed7953"
             ],
             [
              0.7777777777777778,
              "#fb9f3a"
             ],
             [
              0.8888888888888888,
              "#fdca26"
             ],
             [
              1,
              "#f0f921"
             ]
            ],
            "type": "heatmapgl"
           }
          ],
          "histogram": [
           {
            "marker": {
             "pattern": {
              "fillmode": "overlay",
              "size": 10,
              "solidity": 0.2
             }
            },
            "type": "histogram"
           }
          ],
          "histogram2d": [
           {
            "colorbar": {
             "outlinewidth": 0,
             "ticks": ""
            },
            "colorscale": [
             [
              0,
              "#0d0887"
             ],
             [
              0.1111111111111111,
              "#46039f"
             ],
             [
              0.2222222222222222,
              "#7201a8"
             ],
             [
              0.3333333333333333,
              "#9c179e"
             ],
             [
              0.4444444444444444,
              "#bd3786"
             ],
             [
              0.5555555555555556,
              "#d8576b"
             ],
             [
              0.6666666666666666,
              "#ed7953"
             ],
             [
              0.7777777777777778,
              "#fb9f3a"
             ],
             [
              0.8888888888888888,
              "#fdca26"
             ],
             [
              1,
              "#f0f921"
             ]
            ],
            "type": "histogram2d"
           }
          ],
          "histogram2dcontour": [
           {
            "colorbar": {
             "outlinewidth": 0,
             "ticks": ""
            },
            "colorscale": [
             [
              0,
              "#0d0887"
             ],
             [
              0.1111111111111111,
              "#46039f"
             ],
             [
              0.2222222222222222,
              "#7201a8"
             ],
             [
              0.3333333333333333,
              "#9c179e"
             ],
             [
              0.4444444444444444,
              "#bd3786"
             ],
             [
              0.5555555555555556,
              "#d8576b"
             ],
             [
              0.6666666666666666,
              "#ed7953"
             ],
             [
              0.7777777777777778,
              "#fb9f3a"
             ],
             [
              0.8888888888888888,
              "#fdca26"
             ],
             [
              1,
              "#f0f921"
             ]
            ],
            "type": "histogram2dcontour"
           }
          ],
          "mesh3d": [
           {
            "colorbar": {
             "outlinewidth": 0,
             "ticks": ""
            },
            "type": "mesh3d"
           }
          ],
          "parcoords": [
           {
            "line": {
             "colorbar": {
              "outlinewidth": 0,
              "ticks": ""
             }
            },
            "type": "parcoords"
           }
          ],
          "pie": [
           {
            "automargin": true,
            "type": "pie"
           }
          ],
          "scatter": [
           {
            "fillpattern": {
             "fillmode": "overlay",
             "size": 10,
             "solidity": 0.2
            },
            "type": "scatter"
           }
          ],
          "scatter3d": [
           {
            "line": {
             "colorbar": {
              "outlinewidth": 0,
              "ticks": ""
             }
            },
            "marker": {
             "colorbar": {
              "outlinewidth": 0,
              "ticks": ""
             }
            },
            "type": "scatter3d"
           }
          ],
          "scattercarpet": [
           {
            "marker": {
             "colorbar": {
              "outlinewidth": 0,
              "ticks": ""
             }
            },
            "type": "scattercarpet"
           }
          ],
          "scattergeo": [
           {
            "marker": {
             "colorbar": {
              "outlinewidth": 0,
              "ticks": ""
             }
            },
            "type": "scattergeo"
           }
          ],
          "scattergl": [
           {
            "marker": {
             "colorbar": {
              "outlinewidth": 0,
              "ticks": ""
             }
            },
            "type": "scattergl"
           }
          ],
          "scattermapbox": [
           {
            "marker": {
             "colorbar": {
              "outlinewidth": 0,
              "ticks": ""
             }
            },
            "type": "scattermapbox"
           }
          ],
          "scatterpolar": [
           {
            "marker": {
             "colorbar": {
              "outlinewidth": 0,
              "ticks": ""
             }
            },
            "type": "scatterpolar"
           }
          ],
          "scatterpolargl": [
           {
            "marker": {
             "colorbar": {
              "outlinewidth": 0,
              "ticks": ""
             }
            },
            "type": "scatterpolargl"
           }
          ],
          "scatterternary": [
           {
            "marker": {
             "colorbar": {
              "outlinewidth": 0,
              "ticks": ""
             }
            },
            "type": "scatterternary"
           }
          ],
          "surface": [
           {
            "colorbar": {
             "outlinewidth": 0,
             "ticks": ""
            },
            "colorscale": [
             [
              0,
              "#0d0887"
             ],
             [
              0.1111111111111111,
              "#46039f"
             ],
             [
              0.2222222222222222,
              "#7201a8"
             ],
             [
              0.3333333333333333,
              "#9c179e"
             ],
             [
              0.4444444444444444,
              "#bd3786"
             ],
             [
              0.5555555555555556,
              "#d8576b"
             ],
             [
              0.6666666666666666,
              "#ed7953"
             ],
             [
              0.7777777777777778,
              "#fb9f3a"
             ],
             [
              0.8888888888888888,
              "#fdca26"
             ],
             [
              1,
              "#f0f921"
             ]
            ],
            "type": "surface"
           }
          ],
          "table": [
           {
            "cells": {
             "fill": {
              "color": "#EBF0F8"
             },
             "line": {
              "color": "white"
             }
            },
            "header": {
             "fill": {
              "color": "#C8D4E3"
             },
             "line": {
              "color": "white"
             }
            },
            "type": "table"
           }
          ]
         },
         "layout": {
          "annotationdefaults": {
           "arrowcolor": "#2a3f5f",
           "arrowhead": 0,
           "arrowwidth": 1
          },
          "autotypenumbers": "strict",
          "coloraxis": {
           "colorbar": {
            "outlinewidth": 0,
            "ticks": ""
           }
          },
          "colorscale": {
           "diverging": [
            [
             0,
             "#8e0152"
            ],
            [
             0.1,
             "#c51b7d"
            ],
            [
             0.2,
             "#de77ae"
            ],
            [
             0.3,
             "#f1b6da"
            ],
            [
             0.4,
             "#fde0ef"
            ],
            [
             0.5,
             "#f7f7f7"
            ],
            [
             0.6,
             "#e6f5d0"
            ],
            [
             0.7,
             "#b8e186"
            ],
            [
             0.8,
             "#7fbc41"
            ],
            [
             0.9,
             "#4d9221"
            ],
            [
             1,
             "#276419"
            ]
           ],
           "sequential": [
            [
             0,
             "#0d0887"
            ],
            [
             0.1111111111111111,
             "#46039f"
            ],
            [
             0.2222222222222222,
             "#7201a8"
            ],
            [
             0.3333333333333333,
             "#9c179e"
            ],
            [
             0.4444444444444444,
             "#bd3786"
            ],
            [
             0.5555555555555556,
             "#d8576b"
            ],
            [
             0.6666666666666666,
             "#ed7953"
            ],
            [
             0.7777777777777778,
             "#fb9f3a"
            ],
            [
             0.8888888888888888,
             "#fdca26"
            ],
            [
             1,
             "#f0f921"
            ]
           ],
           "sequentialminus": [
            [
             0,
             "#0d0887"
            ],
            [
             0.1111111111111111,
             "#46039f"
            ],
            [
             0.2222222222222222,
             "#7201a8"
            ],
            [
             0.3333333333333333,
             "#9c179e"
            ],
            [
             0.4444444444444444,
             "#bd3786"
            ],
            [
             0.5555555555555556,
             "#d8576b"
            ],
            [
             0.6666666666666666,
             "#ed7953"
            ],
            [
             0.7777777777777778,
             "#fb9f3a"
            ],
            [
             0.8888888888888888,
             "#fdca26"
            ],
            [
             1,
             "#f0f921"
            ]
           ]
          },
          "colorway": [
           "#636efa",
           "#EF553B",
           "#00cc96",
           "#ab63fa",
           "#FFA15A",
           "#19d3f3",
           "#FF6692",
           "#B6E880",
           "#FF97FF",
           "#FECB52"
          ],
          "font": {
           "color": "#2a3f5f"
          },
          "geo": {
           "bgcolor": "white",
           "lakecolor": "white",
           "landcolor": "#E5ECF6",
           "showlakes": true,
           "showland": true,
           "subunitcolor": "white"
          },
          "hoverlabel": {
           "align": "left"
          },
          "hovermode": "closest",
          "mapbox": {
           "style": "light"
          },
          "paper_bgcolor": "white",
          "plot_bgcolor": "#E5ECF6",
          "polar": {
           "angularaxis": {
            "gridcolor": "white",
            "linecolor": "white",
            "ticks": ""
           },
           "bgcolor": "#E5ECF6",
           "radialaxis": {
            "gridcolor": "white",
            "linecolor": "white",
            "ticks": ""
           }
          },
          "scene": {
           "xaxis": {
            "backgroundcolor": "#E5ECF6",
            "gridcolor": "white",
            "gridwidth": 2,
            "linecolor": "white",
            "showbackground": true,
            "ticks": "",
            "zerolinecolor": "white"
           },
           "yaxis": {
            "backgroundcolor": "#E5ECF6",
            "gridcolor": "white",
            "gridwidth": 2,
            "linecolor": "white",
            "showbackground": true,
            "ticks": "",
            "zerolinecolor": "white"
           },
           "zaxis": {
            "backgroundcolor": "#E5ECF6",
            "gridcolor": "white",
            "gridwidth": 2,
            "linecolor": "white",
            "showbackground": true,
            "ticks": "",
            "zerolinecolor": "white"
           }
          },
          "shapedefaults": {
           "line": {
            "color": "#2a3f5f"
           }
          },
          "ternary": {
           "aaxis": {
            "gridcolor": "white",
            "linecolor": "white",
            "ticks": ""
           },
           "baxis": {
            "gridcolor": "white",
            "linecolor": "white",
            "ticks": ""
           },
           "bgcolor": "#E5ECF6",
           "caxis": {
            "gridcolor": "white",
            "linecolor": "white",
            "ticks": ""
           }
          },
          "title": {
           "x": 0.05
          },
          "xaxis": {
           "automargin": true,
           "gridcolor": "white",
           "linecolor": "white",
           "ticks": "",
           "title": {
            "standoff": 15
           },
           "zerolinecolor": "white",
           "zerolinewidth": 2
          },
          "yaxis": {
           "automargin": true,
           "gridcolor": "white",
           "linecolor": "white",
           "ticks": "",
           "title": {
            "standoff": 15
           },
           "zerolinecolor": "white",
           "zerolinewidth": 2
          }
         }
        },
        "title": {
         "text": "Median Rental Listing Price in San Diego City",
         "x": 0.5,
         "xanchor": "center",
         "y": 0.97,
         "yanchor": "top"
        },
        "width": 1600,
        "xaxis": {
         "anchor": "y",
         "autorange": true,
         "domain": [
          0,
          1
         ],
         "gridcolor": "LightGrey",
         "gridwidth": 1,
         "range": [
          "2018-09-13 03:28:30.3315",
          "2024-06-18 20:31:29.6685"
         ],
         "showgrid": true,
         "tickformat": "%b %Y",
         "title": {
          "text": "Date"
         },
         "type": "date"
        },
        "yaxis": {
         "anchor": "x",
         "autorange": true,
         "domain": [
          0,
          1
         ],
         "gridcolor": "LightGrey",
         "gridwidth": 1,
         "range": [
          2137.2645290581163,
          3472.7354709418837
         ],
         "showgrid": true,
         "tickformat": "$,",
         "title": {
          "text": "Price ($)"
         },
         "type": "linear"
        }
       }
      }
     },
     "metadata": {},
     "output_type": "display_data"
    }
   ],
   "source": [
    "# we now do it for rental prices\n",
    "fig = px.line(\n",
    "    prices, \n",
    "    x='date', \n",
    "    y='price_median_new_rental_listings', \n",
    "    title=f'Median Rental Listing Price in {name}',  # Add city or location in title if needed\n",
    "    labels={'price_median_new_rental_listings': 'Asking Rental Price ($)'},\n",
    "    line_shape='linear'  # 'spline' for smooth lines, if preferred\n",
    ")\n",
    "\n",
    "# Adding layout image\n",
    "fig.add_layout_image(labs_logo_dict)\n",
    "\n",
    "fig.update_layout(\n",
    "    margin=dict(b=100),\n",
    "    height=IMG_HEIGHT,\n",
    "    width=IMG_WIDTH,\n",
    "    title=PLOT_TITLE_SETTINGS,\n",
    "    xaxis_title=\"Date\",\n",
    "    yaxis_title=\"Price ($)\",\n",
    "    yaxis_tickformat='$,',\n",
    "    xaxis_tickformat='%b %Y',\n",
    "    plot_bgcolor='#080D16',\n",
    "    paper_bgcolor='#080D16',\n",
    "    font=dict(color='#FFFFFF'),\n",
    "    showlegend=True,\n",
    "    legend=dict(\n",
    "        x=0.01,\n",
    "        y=0.99,\n",
    "        traceorder=\"normal\",\n",
    "        xanchor='left',\n",
    "        yanchor='top'\n",
    "    ),\n",
    ")\n",
    "\n",
    "fig.update_traces(\n",
    "    line=dict(color='#FFFFFF', width=3),\n",
    "    mode='lines+markers',\n",
    "    marker=dict(color='#448CF2', size=5)\n",
    ")\n",
    "\n",
    "# Adding gridlines\n",
    "fig.update_xaxes(showgrid=True, gridwidth=1, gridcolor='LightGrey')\n",
    "fig.update_yaxes(showgrid=True, gridwidth=1, gridcolor='LightGrey')\n",
    "\n",
    "# save figure\n",
    "fig.write_image(os.path.join(output_dir, 'median_rental_listings_price.png'), width=IMG_WIDTH, height=IMG_HEIGHT)\n",
    "\n",
    "# Show the plot\n",
    "fig.show()\n"
   ]
  }
 ],
 "metadata": {
  "kernelspec": {
   "display_name": "Python 3 (ipykernel)",
   "language": "python",
   "name": "python3"
  },
  "language_info": {
   "codemirror_mode": {
    "name": "ipython",
    "version": 3
   },
   "file_extension": ".py",
   "mimetype": "text/x-python",
   "name": "python",
   "nbconvert_exporter": "python",
   "pygments_lexer": "ipython3",
   "version": "3.9.7"
  }
 },
 "nbformat": 4,
 "nbformat_minor": 5
}
