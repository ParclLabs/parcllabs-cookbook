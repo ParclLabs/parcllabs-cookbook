{
 "cells": [
  {
   "cell_type": "markdown",
   "id": "00775985-42bd-4ebc-87d6-6a8abbe0035a",
   "metadata": {},
   "source": [
    "# Market Analysis\n",
    "\n",
    "Let's do a deep dive on one specific market, in this case Cape Coral, Florida. \n",
    "\n",
    "Cape Coral has been a hot market due to an influx of listing activity and declining home prices. Let's get into the lab and \n",
    "take a peak at whats going on. \n",
    "\n",
    "**Note** This notebook will work with any of the 70k+ markets supported by the Parcl Labs API.\n",
    "\n",
    "As a reminder, you can get your Parcl Labs API key [here](https://dashboard.parcllabs.com/signup) to follow along. "
   ]
  },
  {
   "cell_type": "code",
   "execution_count": 9,
   "id": "a350e288-f22b-4994-ba7b-e6c7f97f2534",
   "metadata": {},
   "outputs": [],
   "source": [
    "import os\n",
    "\n",
    "import plotly.express as px\n",
    "from parcllabs import ParclLabsClient\n",
    "\n",
    "\n",
    "api_key = os.getenv('PARCL_LABS_API_KEY')"
   ]
  },
  {
   "cell_type": "code",
   "execution_count": 2,
   "id": "19dbcf0d-717d-4a9b-acee-82006e1f6f20",
   "metadata": {},
   "outputs": [],
   "source": [
    "client = ParclLabsClient(api_key=api_key)"
   ]
  },
  {
   "cell_type": "code",
   "execution_count": 5,
   "id": "79f8e9fc-73e0-4c53-88ff-1fdd92b95849",
   "metadata": {},
   "outputs": [
    {
     "data": {
      "text/html": [
       "<div>\n",
       "<style scoped>\n",
       "    .dataframe tbody tr th:only-of-type {\n",
       "        vertical-align: middle;\n",
       "    }\n",
       "\n",
       "    .dataframe tbody tr th {\n",
       "        vertical-align: top;\n",
       "    }\n",
       "\n",
       "    .dataframe thead th {\n",
       "        text-align: right;\n",
       "    }\n",
       "</style>\n",
       "<table border=\"1\" class=\"dataframe\">\n",
       "  <thead>\n",
       "    <tr style=\"text-align: right;\">\n",
       "      <th></th>\n",
       "      <th>parcl_id</th>\n",
       "      <th>country</th>\n",
       "      <th>geoid</th>\n",
       "      <th>state_fips_code</th>\n",
       "      <th>name</th>\n",
       "      <th>state_abbreviation</th>\n",
       "      <th>region</th>\n",
       "      <th>location_type</th>\n",
       "    </tr>\n",
       "  </thead>\n",
       "  <tbody>\n",
       "    <tr>\n",
       "      <th>0</th>\n",
       "      <td>2899822</td>\n",
       "      <td>USA</td>\n",
       "      <td>15980</td>\n",
       "      <td>None</td>\n",
       "      <td>Cape Coral-Fort Myers, Fl</td>\n",
       "      <td>None</td>\n",
       "      <td>None</td>\n",
       "      <td>CBSA</td>\n",
       "    </tr>\n",
       "  </tbody>\n",
       "</table>\n",
       "</div>"
      ],
      "text/plain": [
       "   parcl_id country  geoid state_fips_code                       name  \\\n",
       "0   2899822     USA  15980            None  Cape Coral-Fort Myers, Fl   \n",
       "\n",
       "  state_abbreviation region location_type  \n",
       "0               None   None          CBSA  "
      ]
     },
     "execution_count": 5,
     "metadata": {},
     "output_type": "execute_result"
    }
   ],
   "source": [
    "# lets find cape coral metro (i.e. CBSA)\n",
    "\n",
    "results = client.search_markets.retrieve(\n",
    "    query='Cape Coral',\n",
    "    location_type='CBSA',\n",
    "    as_dataframe=True\n",
    ")\n",
    "\n",
    "results"
   ]
  },
  {
   "cell_type": "code",
   "execution_count": 6,
   "id": "96dcb760-43b1-4dac-8025-85b1b5fdf343",
   "metadata": {},
   "outputs": [
    {
     "data": {
      "text/plain": [
       "2899822"
      ]
     },
     "execution_count": 6,
     "metadata": {},
     "output_type": "execute_result"
    }
   ],
   "source": [
    "# we will use the cape coral parcl id of 2899822 throughout the rest of our analysis\n",
    "cape_coral_parcl_id = results.iloc[0]['parcl_id']\n",
    "cape_coral_parcl_id"
   ]
  },
  {
   "cell_type": "code",
   "execution_count": 20,
   "id": "b5fc6982-5c05-4a33-8ad4-f898ca996ca6",
   "metadata": {},
   "outputs": [
    {
     "data": {
      "text/html": [
       "<div>\n",
       "<style scoped>\n",
       "    .dataframe tbody tr th:only-of-type {\n",
       "        vertical-align: middle;\n",
       "    }\n",
       "\n",
       "    .dataframe tbody tr th {\n",
       "        vertical-align: top;\n",
       "    }\n",
       "\n",
       "    .dataframe thead th {\n",
       "        text-align: right;\n",
       "    }\n",
       "</style>\n",
       "<table border=\"1\" class=\"dataframe\">\n",
       "  <thead>\n",
       "    <tr style=\"text-align: right;\">\n",
       "      <th></th>\n",
       "      <th>date</th>\n",
       "      <th>rolling_7_day</th>\n",
       "      <th>rolling_30_day</th>\n",
       "      <th>rolling_60_day</th>\n",
       "      <th>rolling_90_day</th>\n",
       "      <th>parcl_id</th>\n",
       "    </tr>\n",
       "  </thead>\n",
       "  <tbody>\n",
       "    <tr>\n",
       "      <th>168</th>\n",
       "      <td>2021-02-01</td>\n",
       "      <td>182</td>\n",
       "      <td>689</td>\n",
       "      <td>1191</td>\n",
       "      <td>1756</td>\n",
       "      <td>2899822</td>\n",
       "    </tr>\n",
       "    <tr>\n",
       "      <th>169</th>\n",
       "      <td>2021-01-25</td>\n",
       "      <td>141</td>\n",
       "      <td>585</td>\n",
       "      <td>1130</td>\n",
       "      <td>1710</td>\n",
       "      <td>2899822</td>\n",
       "    </tr>\n",
       "    <tr>\n",
       "      <th>170</th>\n",
       "      <td>2021-01-18</td>\n",
       "      <td>192</td>\n",
       "      <td>531</td>\n",
       "      <td>1138</td>\n",
       "      <td>1670</td>\n",
       "      <td>2899822</td>\n",
       "    </tr>\n",
       "    <tr>\n",
       "      <th>171</th>\n",
       "      <td>2021-01-11</td>\n",
       "      <td>154</td>\n",
       "      <td>471</td>\n",
       "      <td>1076</td>\n",
       "      <td>1638</td>\n",
       "      <td>2899822</td>\n",
       "    </tr>\n",
       "    <tr>\n",
       "      <th>172</th>\n",
       "      <td>2021-01-04</td>\n",
       "      <td>87</td>\n",
       "      <td>472</td>\n",
       "      <td>1044</td>\n",
       "      <td>1634</td>\n",
       "      <td>2899822</td>\n",
       "    </tr>\n",
       "  </tbody>\n",
       "</table>\n",
       "</div>"
      ],
      "text/plain": [
       "           date  rolling_7_day  rolling_30_day  rolling_60_day  \\\n",
       "168  2021-02-01            182             689            1191   \n",
       "169  2021-01-25            141             585            1130   \n",
       "170  2021-01-18            192             531            1138   \n",
       "171  2021-01-11            154             471            1076   \n",
       "172  2021-01-04             87             472            1044   \n",
       "\n",
       "     rolling_90_day  parcl_id  \n",
       "168            1756   2899822  \n",
       "169            1710   2899822  \n",
       "170            1670   2899822  \n",
       "171            1638   2899822  \n",
       "172            1634   2899822  "
      ]
     },
     "execution_count": 20,
     "metadata": {},
     "output_type": "execute_result"
    }
   ],
   "source": [
    "# first order of business, lets see how new listings have changed over the last year\n",
    "\n",
    "start_date = '2021-01-01'\n",
    "\n",
    "new_listings = client.for_sale_market_metrics_new_listings_rolling_counts.retrieve(\n",
    "    parcl_id=cape_coral_parcl_id,\n",
    "    start_date=start_date,\n",
    "    as_dataframe=True,\n",
    "    params={\n",
    "        'limit': 300\n",
    "    }\n",
    ")\n",
    "new_listings.tail()"
   ]
  },
  {
   "cell_type": "code",
   "execution_count": 52,
   "id": "afac419d-fee1-4e46-9cec-212cb6c20323",
   "metadata": {},
   "outputs": [],
   "source": [
    "import pandas as pd\n",
    "new_listings_long = pd.melt(\n",
    "    new_listings, \n",
    "    id_vars=['date', 'parcl_id'], \n",
    "    value_vars=['rolling_30_day', 'rolling_60_day', 'rolling_90_day'],\n",
    "    value_name='Number of New Listings',\n",
    "    var_name='Rolling Window (Days)'\n",
    ")"
   ]
  },
  {
   "cell_type": "code",
   "execution_count": 53,
   "id": "a0aaf073-1216-4358-8e7b-6dcd86b8a043",
   "metadata": {},
   "outputs": [
    {
     "data": {
      "application/vnd.plotly.v1+json": {
       "config": {
        "plotlyServerURL": "https://plot.ly"
       },
       "data": [
        {
         "hovertemplate": "date=%{x}<br>Rolling 90-Day New Listings Count=%{y}<extra></extra>",
         "legendgroup": "",
         "line": {
          "color": "#636efa",
          "dash": "solid"
         },
         "marker": {
          "symbol": "circle"
         },
         "mode": "lines",
         "name": "",
         "orientation": "v",
         "showlegend": false,
         "type": "scatter",
         "x": [
          "2024-04-22",
          "2024-04-15",
          "2024-04-08",
          "2024-04-01",
          "2024-03-25",
          "2024-03-18",
          "2024-03-11",
          "2024-03-04",
          "2024-02-26",
          "2024-02-19",
          "2024-02-12",
          "2024-02-05",
          "2024-01-29",
          "2024-01-22",
          "2024-01-15",
          "2024-01-08",
          "2024-01-01",
          "2023-12-25",
          "2023-12-18",
          "2023-12-11",
          "2023-12-04",
          "2023-11-27",
          "2023-11-20",
          "2023-11-13",
          "2023-11-06",
          "2023-10-30",
          "2023-10-23",
          "2023-10-16",
          "2023-10-09",
          "2023-10-02",
          "2023-09-25",
          "2023-09-18",
          "2023-09-11",
          "2023-09-04",
          "2023-08-28",
          "2023-08-21",
          "2023-08-14",
          "2023-08-07",
          "2023-07-31",
          "2023-07-24",
          "2023-07-17",
          "2023-07-10",
          "2023-07-03",
          "2023-06-26",
          "2023-06-19",
          "2023-06-12",
          "2023-06-05",
          "2023-05-29",
          "2023-05-22",
          "2023-05-15",
          "2023-05-08",
          "2023-05-01",
          "2023-04-24",
          "2023-04-17",
          "2023-04-10",
          "2023-04-03",
          "2023-03-27",
          "2023-03-20",
          "2023-03-13",
          "2023-03-06",
          "2023-02-27",
          "2023-02-20",
          "2023-02-13",
          "2023-02-06",
          "2023-01-30",
          "2023-01-23",
          "2023-01-16",
          "2023-01-09",
          "2023-01-02",
          "2022-12-26",
          "2022-12-19",
          "2022-12-12",
          "2022-12-05",
          "2022-11-28",
          "2022-11-21",
          "2022-11-14",
          "2022-11-07",
          "2022-10-31",
          "2022-10-24",
          "2022-10-17",
          "2022-10-10",
          "2022-10-03",
          "2022-09-26",
          "2022-09-19",
          "2022-09-12",
          "2022-09-05",
          "2022-08-29",
          "2022-08-22",
          "2022-08-15",
          "2022-08-08",
          "2022-08-01",
          "2022-07-25",
          "2022-07-18",
          "2022-07-11",
          "2022-07-04",
          "2022-06-27",
          "2022-06-20",
          "2022-06-13",
          "2022-06-06",
          "2022-05-30",
          "2022-05-23",
          "2022-05-16",
          "2022-05-09",
          "2022-05-02",
          "2022-04-25",
          "2022-04-18",
          "2022-04-11",
          "2022-04-04",
          "2022-03-28",
          "2022-03-21",
          "2022-03-14",
          "2022-03-07",
          "2022-02-28",
          "2022-02-21",
          "2022-02-14",
          "2022-02-07",
          "2022-01-31",
          "2022-01-24",
          "2022-01-17",
          "2022-01-10",
          "2022-01-03",
          "2021-12-27",
          "2021-12-20",
          "2021-12-13",
          "2021-12-06",
          "2021-11-29",
          "2021-11-22",
          "2021-11-15",
          "2021-11-08",
          "2021-11-01",
          "2021-10-25",
          "2021-10-18",
          "2021-10-11",
          "2021-10-04",
          "2021-09-27",
          "2021-09-20",
          "2021-09-13",
          "2021-09-06",
          "2021-08-30",
          "2021-08-23",
          "2021-08-16",
          "2021-08-09",
          "2021-08-02",
          "2021-07-26",
          "2021-07-19",
          "2021-07-12",
          "2021-07-05",
          "2021-06-28",
          "2021-06-21",
          "2021-06-14",
          "2021-06-07",
          "2021-05-31",
          "2021-05-24",
          "2021-05-17",
          "2021-05-10",
          "2021-05-03",
          "2021-04-26",
          "2021-04-19",
          "2021-04-12",
          "2021-04-05",
          "2021-03-29",
          "2021-03-22",
          "2021-03-15",
          "2021-03-08",
          "2021-03-01",
          "2021-02-22",
          "2021-02-15",
          "2021-02-08",
          "2021-02-01",
          "2021-01-25",
          "2021-01-18",
          "2021-01-11",
          "2021-01-04"
         ],
         "xaxis": "x",
         "y": [
          16519,
          16746,
          16975,
          17367,
          16964,
          16582,
          16223,
          15942,
          15725,
          15180,
          14909,
          14427,
          14037,
          13613,
          13236,
          12860,
          13560,
          14132,
          14298,
          14292,
          14304,
          13961,
          14044,
          13883,
          13497,
          13255,
          13066,
          12878,
          12711,
          11461,
          11375,
          11390,
          11444,
          11518,
          11746,
          11806,
          11985,
          12274,
          12560,
          12866,
          13089,
          13277,
          13562,
          13811,
          13923,
          14075,
          14282,
          14635,
          14714,
          14710,
          14527,
          14265,
          13874,
          13480,
          12949,
          12428,
          11604,
          10778,
          9993,
          9263,
          8377,
          7644,
          7014,
          6408,
          5913,
          5464,
          5093,
          4701,
          4266,
          4051,
          4032,
          3898,
          3724,
          3569,
          3605,
          3481,
          3467,
          3337,
          3292,
          3246,
          3283,
          3373,
          3548,
          3502,
          3460,
          3450,
          3423,
          3360,
          3364,
          3297,
          3302,
          3245,
          3259,
          3209,
          3231,
          3183,
          3120,
          3093,
          3027,
          2969,
          2885,
          2783,
          2715,
          2640,
          2621,
          2525,
          2462,
          2367,
          2259,
          2118,
          2024,
          1994,
          2062,
          2072,
          2011,
          2003,
          1948,
          1897,
          1854,
          1868,
          1860,
          1933,
          2027,
          2066,
          2036,
          1911,
          1895,
          1899,
          1893,
          1906,
          1889,
          1889,
          1876,
          1857,
          1815,
          1817,
          1839,
          1912,
          1957,
          1960,
          1986,
          2054,
          2131,
          2197,
          2224,
          2252,
          2312,
          2337,
          2356,
          2385,
          2363,
          2368,
          2360,
          2309,
          2336,
          2272,
          2283,
          2260,
          2260,
          2240,
          2165,
          2038,
          1985,
          1938,
          1923,
          1870,
          1856,
          1786,
          1756,
          1710,
          1670,
          1638,
          1634
         ],
         "yaxis": "y"
        }
       ],
       "layout": {
        "autosize": true,
        "images": [
         {
          "sizex": 0.15,
          "sizey": 0.15,
          "source": "https://parcllabs-assets.s3.amazonaws.com/powered-by-parcllabs-api.png",
          "x": 1,
          "xanchor": "right",
          "xref": "paper",
          "y": 0,
          "yanchor": "bottom",
          "yref": "paper"
         }
        ],
        "legend": {
         "tracegroupgap": 0
        },
        "margin": {
         "b": 100
        },
        "template": {
         "data": {
          "bar": [
           {
            "error_x": {
             "color": "#2a3f5f"
            },
            "error_y": {
             "color": "#2a3f5f"
            },
            "marker": {
             "line": {
              "color": "#E5ECF6",
              "width": 0.5
             },
             "pattern": {
              "fillmode": "overlay",
              "size": 10,
              "solidity": 0.2
             }
            },
            "type": "bar"
           }
          ],
          "barpolar": [
           {
            "marker": {
             "line": {
              "color": "#E5ECF6",
              "width": 0.5
             },
             "pattern": {
              "fillmode": "overlay",
              "size": 10,
              "solidity": 0.2
             }
            },
            "type": "barpolar"
           }
          ],
          "carpet": [
           {
            "aaxis": {
             "endlinecolor": "#2a3f5f",
             "gridcolor": "white",
             "linecolor": "white",
             "minorgridcolor": "white",
             "startlinecolor": "#2a3f5f"
            },
            "baxis": {
             "endlinecolor": "#2a3f5f",
             "gridcolor": "white",
             "linecolor": "white",
             "minorgridcolor": "white",
             "startlinecolor": "#2a3f5f"
            },
            "type": "carpet"
           }
          ],
          "choropleth": [
           {
            "colorbar": {
             "outlinewidth": 0,
             "ticks": ""
            },
            "type": "choropleth"
           }
          ],
          "contour": [
           {
            "colorbar": {
             "outlinewidth": 0,
             "ticks": ""
            },
            "colorscale": [
             [
              0,
              "#0d0887"
             ],
             [
              0.1111111111111111,
              "#46039f"
             ],
             [
              0.2222222222222222,
              "#7201a8"
             ],
             [
              0.3333333333333333,
              "#9c179e"
             ],
             [
              0.4444444444444444,
              "#bd3786"
             ],
             [
              0.5555555555555556,
              "#d8576b"
             ],
             [
              0.6666666666666666,
              "#ed7953"
             ],
             [
              0.7777777777777778,
              "#fb9f3a"
             ],
             [
              0.8888888888888888,
              "#fdca26"
             ],
             [
              1,
              "#f0f921"
             ]
            ],
            "type": "contour"
           }
          ],
          "contourcarpet": [
           {
            "colorbar": {
             "outlinewidth": 0,
             "ticks": ""
            },
            "type": "contourcarpet"
           }
          ],
          "heatmap": [
           {
            "colorbar": {
             "outlinewidth": 0,
             "ticks": ""
            },
            "colorscale": [
             [
              0,
              "#0d0887"
             ],
             [
              0.1111111111111111,
              "#46039f"
             ],
             [
              0.2222222222222222,
              "#7201a8"
             ],
             [
              0.3333333333333333,
              "#9c179e"
             ],
             [
              0.4444444444444444,
              "#bd3786"
             ],
             [
              0.5555555555555556,
              "#d8576b"
             ],
             [
              0.6666666666666666,
              "#ed7953"
             ],
             [
              0.7777777777777778,
              "#fb9f3a"
             ],
             [
              0.8888888888888888,
              "#fdca26"
             ],
             [
              1,
              "#f0f921"
             ]
            ],
            "type": "heatmap"
           }
          ],
          "heatmapgl": [
           {
            "colorbar": {
             "outlinewidth": 0,
             "ticks": ""
            },
            "colorscale": [
             [
              0,
              "#0d0887"
             ],
             [
              0.1111111111111111,
              "#46039f"
             ],
             [
              0.2222222222222222,
              "#7201a8"
             ],
             [
              0.3333333333333333,
              "#9c179e"
             ],
             [
              0.4444444444444444,
              "#bd3786"
             ],
             [
              0.5555555555555556,
              "#d8576b"
             ],
             [
              0.6666666666666666,
              "#ed7953"
             ],
             [
              0.7777777777777778,
              "#fb9f3a"
             ],
             [
              0.8888888888888888,
              "#fdca26"
             ],
             [
              1,
              "#f0f921"
             ]
            ],
            "type": "heatmapgl"
           }
          ],
          "histogram": [
           {
            "marker": {
             "pattern": {
              "fillmode": "overlay",
              "size": 10,
              "solidity": 0.2
             }
            },
            "type": "histogram"
           }
          ],
          "histogram2d": [
           {
            "colorbar": {
             "outlinewidth": 0,
             "ticks": ""
            },
            "colorscale": [
             [
              0,
              "#0d0887"
             ],
             [
              0.1111111111111111,
              "#46039f"
             ],
             [
              0.2222222222222222,
              "#7201a8"
             ],
             [
              0.3333333333333333,
              "#9c179e"
             ],
             [
              0.4444444444444444,
              "#bd3786"
             ],
             [
              0.5555555555555556,
              "#d8576b"
             ],
             [
              0.6666666666666666,
              "#ed7953"
             ],
             [
              0.7777777777777778,
              "#fb9f3a"
             ],
             [
              0.8888888888888888,
              "#fdca26"
             ],
             [
              1,
              "#f0f921"
             ]
            ],
            "type": "histogram2d"
           }
          ],
          "histogram2dcontour": [
           {
            "colorbar": {
             "outlinewidth": 0,
             "ticks": ""
            },
            "colorscale": [
             [
              0,
              "#0d0887"
             ],
             [
              0.1111111111111111,
              "#46039f"
             ],
             [
              0.2222222222222222,
              "#7201a8"
             ],
             [
              0.3333333333333333,
              "#9c179e"
             ],
             [
              0.4444444444444444,
              "#bd3786"
             ],
             [
              0.5555555555555556,
              "#d8576b"
             ],
             [
              0.6666666666666666,
              "#ed7953"
             ],
             [
              0.7777777777777778,
              "#fb9f3a"
             ],
             [
              0.8888888888888888,
              "#fdca26"
             ],
             [
              1,
              "#f0f921"
             ]
            ],
            "type": "histogram2dcontour"
           }
          ],
          "mesh3d": [
           {
            "colorbar": {
             "outlinewidth": 0,
             "ticks": ""
            },
            "type": "mesh3d"
           }
          ],
          "parcoords": [
           {
            "line": {
             "colorbar": {
              "outlinewidth": 0,
              "ticks": ""
             }
            },
            "type": "parcoords"
           }
          ],
          "pie": [
           {
            "automargin": true,
            "type": "pie"
           }
          ],
          "scatter": [
           {
            "fillpattern": {
             "fillmode": "overlay",
             "size": 10,
             "solidity": 0.2
            },
            "type": "scatter"
           }
          ],
          "scatter3d": [
           {
            "line": {
             "colorbar": {
              "outlinewidth": 0,
              "ticks": ""
             }
            },
            "marker": {
             "colorbar": {
              "outlinewidth": 0,
              "ticks": ""
             }
            },
            "type": "scatter3d"
           }
          ],
          "scattercarpet": [
           {
            "marker": {
             "colorbar": {
              "outlinewidth": 0,
              "ticks": ""
             }
            },
            "type": "scattercarpet"
           }
          ],
          "scattergeo": [
           {
            "marker": {
             "colorbar": {
              "outlinewidth": 0,
              "ticks": ""
             }
            },
            "type": "scattergeo"
           }
          ],
          "scattergl": [
           {
            "marker": {
             "colorbar": {
              "outlinewidth": 0,
              "ticks": ""
             }
            },
            "type": "scattergl"
           }
          ],
          "scattermapbox": [
           {
            "marker": {
             "colorbar": {
              "outlinewidth": 0,
              "ticks": ""
             }
            },
            "type": "scattermapbox"
           }
          ],
          "scatterpolar": [
           {
            "marker": {
             "colorbar": {
              "outlinewidth": 0,
              "ticks": ""
             }
            },
            "type": "scatterpolar"
           }
          ],
          "scatterpolargl": [
           {
            "marker": {
             "colorbar": {
              "outlinewidth": 0,
              "ticks": ""
             }
            },
            "type": "scatterpolargl"
           }
          ],
          "scatterternary": [
           {
            "marker": {
             "colorbar": {
              "outlinewidth": 0,
              "ticks": ""
             }
            },
            "type": "scatterternary"
           }
          ],
          "surface": [
           {
            "colorbar": {
             "outlinewidth": 0,
             "ticks": ""
            },
            "colorscale": [
             [
              0,
              "#0d0887"
             ],
             [
              0.1111111111111111,
              "#46039f"
             ],
             [
              0.2222222222222222,
              "#7201a8"
             ],
             [
              0.3333333333333333,
              "#9c179e"
             ],
             [
              0.4444444444444444,
              "#bd3786"
             ],
             [
              0.5555555555555556,
              "#d8576b"
             ],
             [
              0.6666666666666666,
              "#ed7953"
             ],
             [
              0.7777777777777778,
              "#fb9f3a"
             ],
             [
              0.8888888888888888,
              "#fdca26"
             ],
             [
              1,
              "#f0f921"
             ]
            ],
            "type": "surface"
           }
          ],
          "table": [
           {
            "cells": {
             "fill": {
              "color": "#EBF0F8"
             },
             "line": {
              "color": "white"
             }
            },
            "header": {
             "fill": {
              "color": "#C8D4E3"
             },
             "line": {
              "color": "white"
             }
            },
            "type": "table"
           }
          ]
         },
         "layout": {
          "annotationdefaults": {
           "arrowcolor": "#2a3f5f",
           "arrowhead": 0,
           "arrowwidth": 1
          },
          "autotypenumbers": "strict",
          "coloraxis": {
           "colorbar": {
            "outlinewidth": 0,
            "ticks": ""
           }
          },
          "colorscale": {
           "diverging": [
            [
             0,
             "#8e0152"
            ],
            [
             0.1,
             "#c51b7d"
            ],
            [
             0.2,
             "#de77ae"
            ],
            [
             0.3,
             "#f1b6da"
            ],
            [
             0.4,
             "#fde0ef"
            ],
            [
             0.5,
             "#f7f7f7"
            ],
            [
             0.6,
             "#e6f5d0"
            ],
            [
             0.7,
             "#b8e186"
            ],
            [
             0.8,
             "#7fbc41"
            ],
            [
             0.9,
             "#4d9221"
            ],
            [
             1,
             "#276419"
            ]
           ],
           "sequential": [
            [
             0,
             "#0d0887"
            ],
            [
             0.1111111111111111,
             "#46039f"
            ],
            [
             0.2222222222222222,
             "#7201a8"
            ],
            [
             0.3333333333333333,
             "#9c179e"
            ],
            [
             0.4444444444444444,
             "#bd3786"
            ],
            [
             0.5555555555555556,
             "#d8576b"
            ],
            [
             0.6666666666666666,
             "#ed7953"
            ],
            [
             0.7777777777777778,
             "#fb9f3a"
            ],
            [
             0.8888888888888888,
             "#fdca26"
            ],
            [
             1,
             "#f0f921"
            ]
           ],
           "sequentialminus": [
            [
             0,
             "#0d0887"
            ],
            [
             0.1111111111111111,
             "#46039f"
            ],
            [
             0.2222222222222222,
             "#7201a8"
            ],
            [
             0.3333333333333333,
             "#9c179e"
            ],
            [
             0.4444444444444444,
             "#bd3786"
            ],
            [
             0.5555555555555556,
             "#d8576b"
            ],
            [
             0.6666666666666666,
             "#ed7953"
            ],
            [
             0.7777777777777778,
             "#fb9f3a"
            ],
            [
             0.8888888888888888,
             "#fdca26"
            ],
            [
             1,
             "#f0f921"
            ]
           ]
          },
          "colorway": [
           "#636efa",
           "#EF553B",
           "#00cc96",
           "#ab63fa",
           "#FFA15A",
           "#19d3f3",
           "#FF6692",
           "#B6E880",
           "#FF97FF",
           "#FECB52"
          ],
          "font": {
           "color": "#2a3f5f"
          },
          "geo": {
           "bgcolor": "white",
           "lakecolor": "white",
           "landcolor": "#E5ECF6",
           "showlakes": true,
           "showland": true,
           "subunitcolor": "white"
          },
          "hoverlabel": {
           "align": "left"
          },
          "hovermode": "closest",
          "mapbox": {
           "style": "light"
          },
          "paper_bgcolor": "white",
          "plot_bgcolor": "#E5ECF6",
          "polar": {
           "angularaxis": {
            "gridcolor": "white",
            "linecolor": "white",
            "ticks": ""
           },
           "bgcolor": "#E5ECF6",
           "radialaxis": {
            "gridcolor": "white",
            "linecolor": "white",
            "ticks": ""
           }
          },
          "scene": {
           "xaxis": {
            "backgroundcolor": "#E5ECF6",
            "gridcolor": "white",
            "gridwidth": 2,
            "linecolor": "white",
            "showbackground": true,
            "ticks": "",
            "zerolinecolor": "white"
           },
           "yaxis": {
            "backgroundcolor": "#E5ECF6",
            "gridcolor": "white",
            "gridwidth": 2,
            "linecolor": "white",
            "showbackground": true,
            "ticks": "",
            "zerolinecolor": "white"
           },
           "zaxis": {
            "backgroundcolor": "#E5ECF6",
            "gridcolor": "white",
            "gridwidth": 2,
            "linecolor": "white",
            "showbackground": true,
            "ticks": "",
            "zerolinecolor": "white"
           }
          },
          "shapedefaults": {
           "line": {
            "color": "#2a3f5f"
           }
          },
          "ternary": {
           "aaxis": {
            "gridcolor": "white",
            "linecolor": "white",
            "ticks": ""
           },
           "baxis": {
            "gridcolor": "white",
            "linecolor": "white",
            "ticks": ""
           },
           "bgcolor": "#E5ECF6",
           "caxis": {
            "gridcolor": "white",
            "linecolor": "white",
            "ticks": ""
           }
          },
          "title": {
           "x": 0.05
          },
          "xaxis": {
           "automargin": true,
           "gridcolor": "white",
           "linecolor": "white",
           "ticks": "",
           "title": {
            "standoff": 15
           },
           "zerolinecolor": "white",
           "zerolinewidth": 2
          },
          "yaxis": {
           "automargin": true,
           "gridcolor": "white",
           "linecolor": "white",
           "ticks": "",
           "title": {
            "standoff": 15
           },
           "zerolinecolor": "white",
           "zerolinewidth": 2
          }
         }
        },
        "title": {
         "text": "New Listings (Rolling 90 Day): Cape Coral Metro, Florida"
        },
        "xaxis": {
         "anchor": "y",
         "autorange": true,
         "domain": [
          0,
          1
         ],
         "range": [
          "2021-01-04",
          "2024-04-22"
         ],
         "title": {
          "text": "date"
         },
         "type": "date"
        },
        "yaxis": {
         "anchor": "x",
         "autorange": true,
         "domain": [
          0,
          1
         ],
         "range": [
          759.9444444444445,
          18241.055555555555
         ],
         "title": {
          "text": "Rolling 90-Day New Listings Count"
         },
         "type": "linear"
        }
       }
      },
      "image/png": "[encoded data removed]",
      "text/html": [
       "<div>                            <div id=\"b0098f3e-d488-464a-9f92-9908c6d826c3\" class=\"plotly-graph-div\" style=\"height:600px; width:100%;\"></div>            <script type=\"text/javascript\">                require([\"plotly\"], function(Plotly) {                    window.PLOTLYENV=window.PLOTLYENV || {};                                    if (document.getElementById(\"b0098f3e-d488-464a-9f92-9908c6d826c3\")) {                    Plotly.newPlot(                        \"b0098f3e-d488-464a-9f92-9908c6d826c3\",                        [{\"hovertemplate\":\"date=%{x}\\u003cbr\\u003eRolling 90-Day New Listings Count=%{y}\\u003cextra\\u003e\\u003c\\u002fextra\\u003e\",\"legendgroup\":\"\",\"line\":{\"color\":\"#636efa\",\"dash\":\"solid\"},\"marker\":{\"symbol\":\"circle\"},\"mode\":\"lines\",\"name\":\"\",\"orientation\":\"v\",\"showlegend\":false,\"x\":[\"2024-04-22\",\"2024-04-15\",\"2024-04-08\",\"2024-04-01\",\"2024-03-25\",\"2024-03-18\",\"2024-03-11\",\"2024-03-04\",\"2024-02-26\",\"2024-02-19\",\"2024-02-12\",\"2024-02-05\",\"2024-01-29\",\"2024-01-22\",\"2024-01-15\",\"2024-01-08\",\"2024-01-01\",\"2023-12-25\",\"2023-12-18\",\"2023-12-11\",\"2023-12-04\",\"2023-11-27\",\"2023-11-20\",\"2023-11-13\",\"2023-11-06\",\"2023-10-30\",\"2023-10-23\",\"2023-10-16\",\"2023-10-09\",\"2023-10-02\",\"2023-09-25\",\"2023-09-18\",\"2023-09-11\",\"2023-09-04\",\"2023-08-28\",\"2023-08-21\",\"2023-08-14\",\"2023-08-07\",\"2023-07-31\",\"2023-07-24\",\"2023-07-17\",\"2023-07-10\",\"2023-07-03\",\"2023-06-26\",\"2023-06-19\",\"2023-06-12\",\"2023-06-05\",\"2023-05-29\",\"2023-05-22\",\"2023-05-15\",\"2023-05-08\",\"2023-05-01\",\"2023-04-24\",\"2023-04-17\",\"2023-04-10\",\"2023-04-03\",\"2023-03-27\",\"2023-03-20\",\"2023-03-13\",\"2023-03-06\",\"2023-02-27\",\"2023-02-20\",\"2023-02-13\",\"2023-02-06\",\"2023-01-30\",\"2023-01-23\",\"2023-01-16\",\"2023-01-09\",\"2023-01-02\",\"2022-12-26\",\"2022-12-19\",\"2022-12-12\",\"2022-12-05\",\"2022-11-28\",\"2022-11-21\",\"2022-11-14\",\"2022-11-07\",\"2022-10-31\",\"2022-10-24\",\"2022-10-17\",\"2022-10-10\",\"2022-10-03\",\"2022-09-26\",\"2022-09-19\",\"2022-09-12\",\"2022-09-05\",\"2022-08-29\",\"2022-08-22\",\"2022-08-15\",\"2022-08-08\",\"2022-08-01\",\"2022-07-25\",\"2022-07-18\",\"2022-07-11\",\"2022-07-04\",\"2022-06-27\",\"2022-06-20\",\"2022-06-13\",\"2022-06-06\",\"2022-05-30\",\"2022-05-23\",\"2022-05-16\",\"2022-05-09\",\"2022-05-02\",\"2022-04-25\",\"2022-04-18\",\"2022-04-11\",\"2022-04-04\",\"2022-03-28\",\"2022-03-21\",\"2022-03-14\",\"2022-03-07\",\"2022-02-28\",\"2022-02-21\",\"2022-02-14\",\"2022-02-07\",\"2022-01-31\",\"2022-01-24\",\"2022-01-17\",\"2022-01-10\",\"2022-01-03\",\"2021-12-27\",\"2021-12-20\",\"2021-12-13\",\"2021-12-06\",\"2021-11-29\",\"2021-11-22\",\"2021-11-15\",\"2021-11-08\",\"2021-11-01\",\"2021-10-25\",\"2021-10-18\",\"2021-10-11\",\"2021-10-04\",\"2021-09-27\",\"2021-09-20\",\"2021-09-13\",\"2021-09-06\",\"2021-08-30\",\"2021-08-23\",\"2021-08-16\",\"2021-08-09\",\"2021-08-02\",\"2021-07-26\",\"2021-07-19\",\"2021-07-12\",\"2021-07-05\",\"2021-06-28\",\"2021-06-21\",\"2021-06-14\",\"2021-06-07\",\"2021-05-31\",\"2021-05-24\",\"2021-05-17\",\"2021-05-10\",\"2021-05-03\",\"2021-04-26\",\"2021-04-19\",\"2021-04-12\",\"2021-04-05\",\"2021-03-29\",\"2021-03-22\",\"2021-03-15\",\"2021-03-08\",\"2021-03-01\",\"2021-02-22\",\"2021-02-15\",\"2021-02-08\",\"2021-02-01\",\"2021-01-25\",\"2021-01-18\",\"2021-01-11\",\"2021-01-04\"],\"xaxis\":\"x\",\"y\":[16519,16746,16975,17367,16964,16582,16223,15942,15725,15180,14909,14427,14037,13613,13236,12860,13560,14132,14298,14292,14304,13961,14044,13883,13497,13255,13066,12878,12711,11461,11375,11390,11444,11518,11746,11806,11985,12274,12560,12866,13089,13277,13562,13811,13923,14075,14282,14635,14714,14710,14527,14265,13874,13480,12949,12428,11604,10778,9993,9263,8377,7644,7014,6408,5913,5464,5093,4701,4266,4051,4032,3898,3724,3569,3605,3481,3467,3337,3292,3246,3283,3373,3548,3502,3460,3450,3423,3360,3364,3297,3302,3245,3259,3209,3231,3183,3120,3093,3027,2969,2885,2783,2715,2640,2621,2525,2462,2367,2259,2118,2024,1994,2062,2072,2011,2003,1948,1897,1854,1868,1860,1933,2027,2066,2036,1911,1895,1899,1893,1906,1889,1889,1876,1857,1815,1817,1839,1912,1957,1960,1986,2054,2131,2197,2224,2252,2312,2337,2356,2385,2363,2368,2360,2309,2336,2272,2283,2260,2260,2240,2165,2038,1985,1938,1923,1870,1856,1786,1756,1710,1670,1638,1634],\"yaxis\":\"y\",\"type\":\"scatter\"}],                        {\"template\":{\"data\":{\"histogram2dcontour\":[{\"type\":\"histogram2dcontour\",\"colorbar\":{\"outlinewidth\":0,\"ticks\":\"\"},\"colorscale\":[[0.0,\"#0d0887\"],[0.1111111111111111,\"#46039f\"],[0.2222222222222222,\"#7201a8\"],[0.3333333333333333,\"#9c179e\"],[0.4444444444444444,\"#bd3786\"],[0.5555555555555556,\"#d8576b\"],[0.6666666666666666,\"#ed7953\"],[0.7777777777777778,\"#fb9f3a\"],[0.8888888888888888,\"#fdca26\"],[1.0,\"#f0f921\"]]}],\"choropleth\":[{\"type\":\"choropleth\",\"colorbar\":{\"outlinewidth\":0,\"ticks\":\"\"}}],\"histogram2d\":[{\"type\":\"histogram2d\",\"colorbar\":{\"outlinewidth\":0,\"ticks\":\"\"},\"colorscale\":[[0.0,\"#0d0887\"],[0.1111111111111111,\"#46039f\"],[0.2222222222222222,\"#7201a8\"],[0.3333333333333333,\"#9c179e\"],[0.4444444444444444,\"#bd3786\"],[0.5555555555555556,\"#d8576b\"],[0.6666666666666666,\"#ed7953\"],[0.7777777777777778,\"#fb9f3a\"],[0.8888888888888888,\"#fdca26\"],[1.0,\"#f0f921\"]]}],\"heatmap\":[{\"type\":\"heatmap\",\"colorbar\":{\"outlinewidth\":0,\"ticks\":\"\"},\"colorscale\":[[0.0,\"#0d0887\"],[0.1111111111111111,\"#46039f\"],[0.2222222222222222,\"#7201a8\"],[0.3333333333333333,\"#9c179e\"],[0.4444444444444444,\"#bd3786\"],[0.5555555555555556,\"#d8576b\"],[0.6666666666666666,\"#ed7953\"],[0.7777777777777778,\"#fb9f3a\"],[0.8888888888888888,\"#fdca26\"],[1.0,\"#f0f921\"]]}],\"heatmapgl\":[{\"type\":\"heatmapgl\",\"colorbar\":{\"outlinewidth\":0,\"ticks\":\"\"},\"colorscale\":[[0.0,\"#0d0887\"],[0.1111111111111111,\"#46039f\"],[0.2222222222222222,\"#7201a8\"],[0.3333333333333333,\"#9c179e\"],[0.4444444444444444,\"#bd3786\"],[0.5555555555555556,\"#d8576b\"],[0.6666666666666666,\"#ed7953\"],[0.7777777777777778,\"#fb9f3a\"],[0.8888888888888888,\"#fdca26\"],[1.0,\"#f0f921\"]]}],\"contourcarpet\":[{\"type\":\"contourcarpet\",\"colorbar\":{\"outlinewidth\":0,\"ticks\":\"\"}}],\"contour\":[{\"type\":\"contour\",\"colorbar\":{\"outlinewidth\":0,\"ticks\":\"\"},\"colorscale\":[[0.0,\"#0d0887\"],[0.1111111111111111,\"#46039f\"],[0.2222222222222222,\"#7201a8\"],[0.3333333333333333,\"#9c179e\"],[0.4444444444444444,\"#bd3786\"],[0.5555555555555556,\"#d8576b\"],[0.6666666666666666,\"#ed7953\"],[0.7777777777777778,\"#fb9f3a\"],[0.8888888888888888,\"#fdca26\"],[1.0,\"#f0f921\"]]}],\"surface\":[{\"type\":\"surface\",\"colorbar\":{\"outlinewidth\":0,\"ticks\":\"\"},\"colorscale\":[[0.0,\"#0d0887\"],[0.1111111111111111,\"#46039f\"],[0.2222222222222222,\"#7201a8\"],[0.3333333333333333,\"#9c179e\"],[0.4444444444444444,\"#bd3786\"],[0.5555555555555556,\"#d8576b\"],[0.6666666666666666,\"#ed7953\"],[0.7777777777777778,\"#fb9f3a\"],[0.8888888888888888,\"#fdca26\"],[1.0,\"#f0f921\"]]}],\"mesh3d\":[{\"type\":\"mesh3d\",\"colorbar\":{\"outlinewidth\":0,\"ticks\":\"\"}}],\"scatter\":[{\"fillpattern\":{\"fillmode\":\"overlay\",\"size\":10,\"solidity\":0.2},\"type\":\"scatter\"}],\"parcoords\":[{\"type\":\"parcoords\",\"line\":{\"colorbar\":{\"outlinewidth\":0,\"ticks\":\"\"}}}],\"scatterpolargl\":[{\"type\":\"scatterpolargl\",\"marker\":{\"colorbar\":{\"outlinewidth\":0,\"ticks\":\"\"}}}],\"bar\":[{\"error_x\":{\"color\":\"#2a3f5f\"},\"error_y\":{\"color\":\"#2a3f5f\"},\"marker\":{\"line\":{\"color\":\"#E5ECF6\",\"width\":0.5},\"pattern\":{\"fillmode\":\"overlay\",\"size\":10,\"solidity\":0.2}},\"type\":\"bar\"}],\"scattergeo\":[{\"type\":\"scattergeo\",\"marker\":{\"colorbar\":{\"outlinewidth\":0,\"ticks\":\"\"}}}],\"scatterpolar\":[{\"type\":\"scatterpolar\",\"marker\":{\"colorbar\":{\"outlinewidth\":0,\"ticks\":\"\"}}}],\"histogram\":[{\"marker\":{\"pattern\":{\"fillmode\":\"overlay\",\"size\":10,\"solidity\":0.2}},\"type\":\"histogram\"}],\"scattergl\":[{\"type\":\"scattergl\",\"marker\":{\"colorbar\":{\"outlinewidth\":0,\"ticks\":\"\"}}}],\"scatter3d\":[{\"type\":\"scatter3d\",\"line\":{\"colorbar\":{\"outlinewidth\":0,\"ticks\":\"\"}},\"marker\":{\"colorbar\":{\"outlinewidth\":0,\"ticks\":\"\"}}}],\"scattermapbox\":[{\"type\":\"scattermapbox\",\"marker\":{\"colorbar\":{\"outlinewidth\":0,\"ticks\":\"\"}}}],\"scatterternary\":[{\"type\":\"scatterternary\",\"marker\":{\"colorbar\":{\"outlinewidth\":0,\"ticks\":\"\"}}}],\"scattercarpet\":[{\"type\":\"scattercarpet\",\"marker\":{\"colorbar\":{\"outlinewidth\":0,\"ticks\":\"\"}}}],\"carpet\":[{\"aaxis\":{\"endlinecolor\":\"#2a3f5f\",\"gridcolor\":\"white\",\"linecolor\":\"white\",\"minorgridcolor\":\"white\",\"startlinecolor\":\"#2a3f5f\"},\"baxis\":{\"endlinecolor\":\"#2a3f5f\",\"gridcolor\":\"white\",\"linecolor\":\"white\",\"minorgridcolor\":\"white\",\"startlinecolor\":\"#2a3f5f\"},\"type\":\"carpet\"}],\"table\":[{\"cells\":{\"fill\":{\"color\":\"#EBF0F8\"},\"line\":{\"color\":\"white\"}},\"header\":{\"fill\":{\"color\":\"#C8D4E3\"},\"line\":{\"color\":\"white\"}},\"type\":\"table\"}],\"barpolar\":[{\"marker\":{\"line\":{\"color\":\"#E5ECF6\",\"width\":0.5},\"pattern\":{\"fillmode\":\"overlay\",\"size\":10,\"solidity\":0.2}},\"type\":\"barpolar\"}],\"pie\":[{\"automargin\":true,\"type\":\"pie\"}]},\"layout\":{\"autotypenumbers\":\"strict\",\"colorway\":[\"#636efa\",\"#EF553B\",\"#00cc96\",\"#ab63fa\",\"#FFA15A\",\"#19d3f3\",\"#FF6692\",\"#B6E880\",\"#FF97FF\",\"#FECB52\"],\"font\":{\"color\":\"#2a3f5f\"},\"hovermode\":\"closest\",\"hoverlabel\":{\"align\":\"left\"},\"paper_bgcolor\":\"white\",\"plot_bgcolor\":\"#E5ECF6\",\"polar\":{\"bgcolor\":\"#E5ECF6\",\"angularaxis\":{\"gridcolor\":\"white\",\"linecolor\":\"white\",\"ticks\":\"\"},\"radialaxis\":{\"gridcolor\":\"white\",\"linecolor\":\"white\",\"ticks\":\"\"}},\"ternary\":{\"bgcolor\":\"#E5ECF6\",\"aaxis\":{\"gridcolor\":\"white\",\"linecolor\":\"white\",\"ticks\":\"\"},\"baxis\":{\"gridcolor\":\"white\",\"linecolor\":\"white\",\"ticks\":\"\"},\"caxis\":{\"gridcolor\":\"white\",\"linecolor\":\"white\",\"ticks\":\"\"}},\"coloraxis\":{\"colorbar\":{\"outlinewidth\":0,\"ticks\":\"\"}},\"colorscale\":{\"sequential\":[[0.0,\"#0d0887\"],[0.1111111111111111,\"#46039f\"],[0.2222222222222222,\"#7201a8\"],[0.3333333333333333,\"#9c179e\"],[0.4444444444444444,\"#bd3786\"],[0.5555555555555556,\"#d8576b\"],[0.6666666666666666,\"#ed7953\"],[0.7777777777777778,\"#fb9f3a\"],[0.8888888888888888,\"#fdca26\"],[1.0,\"#f0f921\"]],\"sequentialminus\":[[0.0,\"#0d0887\"],[0.1111111111111111,\"#46039f\"],[0.2222222222222222,\"#7201a8\"],[0.3333333333333333,\"#9c179e\"],[0.4444444444444444,\"#bd3786\"],[0.5555555555555556,\"#d8576b\"],[0.6666666666666666,\"#ed7953\"],[0.7777777777777778,\"#fb9f3a\"],[0.8888888888888888,\"#fdca26\"],[1.0,\"#f0f921\"]],\"diverging\":[[0,\"#8e0152\"],[0.1,\"#c51b7d\"],[0.2,\"#de77ae\"],[0.3,\"#f1b6da\"],[0.4,\"#fde0ef\"],[0.5,\"#f7f7f7\"],[0.6,\"#e6f5d0\"],[0.7,\"#b8e186\"],[0.8,\"#7fbc41\"],[0.9,\"#4d9221\"],[1,\"#276419\"]]},\"xaxis\":{\"gridcolor\":\"white\",\"linecolor\":\"white\",\"ticks\":\"\",\"title\":{\"standoff\":15},\"zerolinecolor\":\"white\",\"automargin\":true,\"zerolinewidth\":2},\"yaxis\":{\"gridcolor\":\"white\",\"linecolor\":\"white\",\"ticks\":\"\",\"title\":{\"standoff\":15},\"zerolinecolor\":\"white\",\"automargin\":true,\"zerolinewidth\":2},\"scene\":{\"xaxis\":{\"backgroundcolor\":\"#E5ECF6\",\"gridcolor\":\"white\",\"linecolor\":\"white\",\"showbackground\":true,\"ticks\":\"\",\"zerolinecolor\":\"white\",\"gridwidth\":2},\"yaxis\":{\"backgroundcolor\":\"#E5ECF6\",\"gridcolor\":\"white\",\"linecolor\":\"white\",\"showbackground\":true,\"ticks\":\"\",\"zerolinecolor\":\"white\",\"gridwidth\":2},\"zaxis\":{\"backgroundcolor\":\"#E5ECF6\",\"gridcolor\":\"white\",\"linecolor\":\"white\",\"showbackground\":true,\"ticks\":\"\",\"zerolinecolor\":\"white\",\"gridwidth\":2}},\"shapedefaults\":{\"line\":{\"color\":\"#2a3f5f\"}},\"annotationdefaults\":{\"arrowcolor\":\"#2a3f5f\",\"arrowhead\":0,\"arrowwidth\":1},\"geo\":{\"bgcolor\":\"white\",\"landcolor\":\"#E5ECF6\",\"subunitcolor\":\"white\",\"showland\":true,\"showlakes\":true,\"lakecolor\":\"white\"},\"title\":{\"x\":0.05},\"mapbox\":{\"style\":\"light\"}}},\"xaxis\":{\"anchor\":\"y\",\"domain\":[0.0,1.0],\"title\":{\"text\":\"date\"}},\"yaxis\":{\"anchor\":\"x\",\"domain\":[0.0,1.0],\"title\":{\"text\":\"Rolling 90-Day New Listings Count\"}},\"legend\":{\"tracegroupgap\":0},\"title\":{\"text\":\"New Listings (Rolling 90 Day): Cape Coral Metro, Florida\"},\"images\":[{\"sizex\":0.15,\"sizey\":0.15,\"source\":\"https:\\u002f\\u002fparcllabs-assets.s3.amazonaws.com\\u002fpowered-by-parcllabs-api.png\",\"x\":1,\"xanchor\":\"right\",\"xref\":\"paper\",\"y\":0,\"yanchor\":\"bottom\",\"yref\":\"paper\"}],\"margin\":{\"b\":100},\"height\":600},                        {\"responsive\": true}                    ).then(function(){\n",
       "                            \n",
       "var gd = document.getElementById('b0098f3e-d488-464a-9f92-9908c6d826c3');\n",
       "var x = new MutationObserver(function (mutations, observer) {{\n",
       "        var display = window.getComputedStyle(gd).display;\n",
       "        if (!display || display === 'none') {{\n",
       "            console.log([gd, 'removed!']);\n",
       "            Plotly.purge(gd);\n",
       "            observer.disconnect();\n",
       "        }}\n",
       "}});\n",
       "\n",
       "// Listen for the removal of the full notebook cells\n",
       "var notebookContainer = gd.closest('#notebook-container');\n",
       "if (notebookContainer) {{\n",
       "    x.observe(notebookContainer, {childList: true});\n",
       "}}\n",
       "\n",
       "// Listen for the clearing of the current output cell\n",
       "var outputEl = gd.closest('.output');\n",
       "if (outputEl) {{\n",
       "    x.observe(outputEl, {childList: true});\n",
       "}}\n",
       "\n",
       "                        })                };                });            </script>        </div>"
      ]
     },
     "metadata": {},
     "output_type": "display_data"
    }
   ],
   "source": [
    "# Creating the line chart\n",
    "fig = px.line(\n",
    "    new_listings, \n",
    "    x='date', \n",
    "    y='rolling_90_day', \n",
    "    title='New Listings (Rolling 90 Day): Cape Coral Metro, Florida',\n",
    "    labels={'rolling_90_day': 'Rolling 90-Day New Listings Count'}\n",
    ")\n",
    "\n",
    "# Showing the plot\n",
    "# Add the logo as a layout_image\n",
    "fig.add_layout_image(\n",
    "    dict(\n",
    "        source=\"https://parcllabs-assets.s3.amazonaws.com/powered-by-parcllabs-api.png\",\n",
    "        xref=\"paper\",\n",
    "        yref=\"paper\",\n",
    "        x=1,\n",
    "        y=0, \n",
    "        sizex=0.15, \n",
    "        sizey=0.15,\n",
    "        xanchor=\"right\",\n",
    "        yanchor=\"bottom\"\n",
    "    )\n",
    ")\n",
    "\n",
    "fig.update_layout(\n",
    "    margin=dict(b=100),\n",
    "    height=600,\n",
    ")\n",
    "\n",
    "# Show the plot\n",
    "fig.show()"
   ]
  },
  {
   "cell_type": "code",
   "execution_count": 43,
   "id": "f42aefcf-3884-49e4-ac15-49fcda38694c",
   "metadata": {},
   "outputs": [
    {
     "data": {
      "text/html": [
       "<div>\n",
       "<style scoped>\n",
       "    .dataframe tbody tr th:only-of-type {\n",
       "        vertical-align: middle;\n",
       "    }\n",
       "\n",
       "    .dataframe tbody tr th {\n",
       "        vertical-align: top;\n",
       "    }\n",
       "\n",
       "    .dataframe thead th {\n",
       "        text-align: right;\n",
       "    }\n",
       "</style>\n",
       "<table border=\"1\" class=\"dataframe\">\n",
       "  <thead>\n",
       "    <tr style=\"text-align: right;\">\n",
       "      <th></th>\n",
       "      <th>date</th>\n",
       "      <th>parcl_id</th>\n",
       "      <th>variable</th>\n",
       "      <th>rolling_window</th>\n",
       "    </tr>\n",
       "  </thead>\n",
       "  <tbody>\n",
       "    <tr>\n",
       "      <th>0</th>\n",
       "      <td>2024-04-22</td>\n",
       "      <td>2899822</td>\n",
       "      <td>rolling_7_day</td>\n",
       "      <td>1125</td>\n",
       "    </tr>\n",
       "    <tr>\n",
       "      <th>1</th>\n",
       "      <td>2024-04-15</td>\n",
       "      <td>2899822</td>\n",
       "      <td>rolling_7_day</td>\n",
       "      <td>1059</td>\n",
       "    </tr>\n",
       "    <tr>\n",
       "      <th>2</th>\n",
       "      <td>2024-04-08</td>\n",
       "      <td>2899822</td>\n",
       "      <td>rolling_7_day</td>\n",
       "      <td>1027</td>\n",
       "    </tr>\n",
       "    <tr>\n",
       "      <th>3</th>\n",
       "      <td>2024-04-01</td>\n",
       "      <td>2899822</td>\n",
       "      <td>rolling_7_day</td>\n",
       "      <td>1056</td>\n",
       "    </tr>\n",
       "    <tr>\n",
       "      <th>4</th>\n",
       "      <td>2024-03-25</td>\n",
       "      <td>2899822</td>\n",
       "      <td>rolling_7_day</td>\n",
       "      <td>1069</td>\n",
       "    </tr>\n",
       "  </tbody>\n",
       "</table>\n",
       "</div>"
      ],
      "text/plain": [
       "         date  parcl_id       variable  rolling_window\n",
       "0  2024-04-22   2899822  rolling_7_day            1125\n",
       "1  2024-04-15   2899822  rolling_7_day            1059\n",
       "2  2024-04-08   2899822  rolling_7_day            1027\n",
       "3  2024-04-01   2899822  rolling_7_day            1056\n",
       "4  2024-03-25   2899822  rolling_7_day            1069"
      ]
     },
     "execution_count": 43,
     "metadata": {},
     "output_type": "execute_result"
    }
   ],
   "source": [
    "new_listings_long.head()"
   ]
  },
  {
   "cell_type": "code",
   "execution_count": 59,
   "id": "cdee7bea-f2aa-4ca5-b325-d1af6f43b6b7",
   "metadata": {},
   "outputs": [
    {
     "data": {
      "application/vnd.plotly.v1+json": {
       "config": {
        "plotlyServerURL": "https://plot.ly"
       },
       "data": [
        {
         "hovertemplate": "Rolling Window (Days)=rolling_30_day<br>date=%{x}<br>Number of New Listings=%{y}<extra></extra>",
         "legendgroup": "rolling_30_day",
         "line": {
          "color": "#636efa",
          "dash": "solid"
         },
         "marker": {
          "symbol": "circle"
         },
         "mode": "lines",
         "name": "rolling_30_day",
         "orientation": "v",
         "showlegend": true,
         "type": "scatter",
         "x": [
          "2024-04-22",
          "2024-04-15",
          "2024-04-08",
          "2024-04-01",
          "2024-03-25",
          "2024-03-18",
          "2024-03-11",
          "2024-03-04",
          "2024-02-26",
          "2024-02-19",
          "2024-02-12",
          "2024-02-05",
          "2024-01-29",
          "2024-01-22",
          "2024-01-15",
          "2024-01-08",
          "2024-01-01",
          "2023-12-25",
          "2023-12-18",
          "2023-12-11",
          "2023-12-04",
          "2023-11-27",
          "2023-11-20",
          "2023-11-13",
          "2023-11-06",
          "2023-10-30",
          "2023-10-23",
          "2023-10-16",
          "2023-10-09",
          "2023-10-02",
          "2023-09-25",
          "2023-09-18",
          "2023-09-11",
          "2023-09-04",
          "2023-08-28",
          "2023-08-21",
          "2023-08-14",
          "2023-08-07",
          "2023-07-31",
          "2023-07-24",
          "2023-07-17",
          "2023-07-10",
          "2023-07-03",
          "2023-06-26",
          "2023-06-19",
          "2023-06-12",
          "2023-06-05",
          "2023-05-29",
          "2023-05-22",
          "2023-05-15",
          "2023-05-08",
          "2023-05-01",
          "2023-04-24",
          "2023-04-17",
          "2023-04-10",
          "2023-04-03",
          "2023-03-27",
          "2023-03-20",
          "2023-03-13",
          "2023-03-06",
          "2023-02-27",
          "2023-02-20",
          "2023-02-13",
          "2023-02-06",
          "2023-01-30",
          "2023-01-23",
          "2023-01-16",
          "2023-01-09",
          "2023-01-02",
          "2022-12-26",
          "2022-12-19",
          "2022-12-12",
          "2022-12-05",
          "2022-11-28",
          "2022-11-21",
          "2022-11-14",
          "2022-11-07",
          "2022-10-31",
          "2022-10-24",
          "2022-10-17",
          "2022-10-10",
          "2022-10-03",
          "2022-09-26",
          "2022-09-19",
          "2022-09-12",
          "2022-09-05",
          "2022-08-29",
          "2022-08-22",
          "2022-08-15",
          "2022-08-08",
          "2022-08-01",
          "2022-07-25",
          "2022-07-18",
          "2022-07-11",
          "2022-07-04",
          "2022-06-27",
          "2022-06-20",
          "2022-06-13",
          "2022-06-06",
          "2022-05-30",
          "2022-05-23",
          "2022-05-16",
          "2022-05-09",
          "2022-05-02",
          "2022-04-25",
          "2022-04-18",
          "2022-04-11",
          "2022-04-04",
          "2022-03-28",
          "2022-03-21",
          "2022-03-14",
          "2022-03-07",
          "2022-02-28",
          "2022-02-21",
          "2022-02-14",
          "2022-02-07",
          "2022-01-31",
          "2022-01-24",
          "2022-01-17",
          "2022-01-10",
          "2022-01-03",
          "2021-12-27",
          "2021-12-20",
          "2021-12-13",
          "2021-12-06",
          "2021-11-29",
          "2021-11-22",
          "2021-11-15",
          "2021-11-08",
          "2021-11-01",
          "2021-10-25",
          "2021-10-18",
          "2021-10-11",
          "2021-10-04",
          "2021-09-27",
          "2021-09-20",
          "2021-09-13",
          "2021-09-06",
          "2021-08-30",
          "2021-08-23",
          "2021-08-16",
          "2021-08-09",
          "2021-08-02",
          "2021-07-26",
          "2021-07-19",
          "2021-07-12",
          "2021-07-05",
          "2021-06-28",
          "2021-06-21",
          "2021-06-14",
          "2021-06-07",
          "2021-05-31",
          "2021-05-24",
          "2021-05-17",
          "2021-05-10",
          "2021-05-03",
          "2021-04-26",
          "2021-04-19",
          "2021-04-12",
          "2021-04-05",
          "2021-03-29",
          "2021-03-22",
          "2021-03-15",
          "2021-03-08",
          "2021-03-01",
          "2021-02-22",
          "2021-02-15",
          "2021-02-08",
          "2021-02-01",
          "2021-01-25",
          "2021-01-18",
          "2021-01-11",
          "2021-01-04"
         ],
         "xaxis": "x",
         "y": [
          4649,
          4535,
          4674,
          4937,
          5178,
          5401,
          5462,
          5811,
          6000,
          6176,
          6334,
          6145,
          5795,
          4920,
          4249,
          3827,
          3527,
          3994,
          4026,
          4118,
          4229,
          4218,
          4518,
          4582,
          4546,
          5566,
          5471,
          5322,
          5219,
          3986,
          3801,
          3700,
          3547,
          3428,
          3502,
          3500,
          3587,
          3765,
          3704,
          3816,
          3882,
          3946,
          4132,
          4100,
          4175,
          4131,
          4233,
          4492,
          4638,
          4738,
          4737,
          4790,
          4739,
          4746,
          4785,
          4879,
          5001,
          4868,
          4686,
          4454,
          3947,
          3740,
          3384,
          3086,
          2756,
          2234,
          1914,
          1698,
          1551,
          1677,
          1645,
          1615,
          1504,
          1409,
          1463,
          1368,
          1259,
          1034,
          823,
          811,
          880,
          970,
          1220,
          1169,
          1182,
          1226,
          1177,
          1156,
          1123,
          1082,
          1070,
          1045,
          1074,
          1037,
          1071,
          1066,
          1050,
          1099,
          1081,
          1069,
          1029,
          994,
          990,
          979,
          992,
          912,
          900,
          845,
          836,
          793,
          785,
          757,
          746,
          748,
          750,
          719,
          690,
          582,
          483,
          458,
          498,
          670,
          730,
          759,
          720,
          595,
          577,
          578,
          582,
          619,
          646,
          673,
          659,
          634,
          624,
          593,
          604,
          601,
          593,
          559,
          547,
          578,
          557,
          587,
          617,
          636,
          717,
          733,
          735,
          773,
          756,
          803,
          817,
          783,
          797,
          745,
          732,
          766,
          767,
          769,
          774,
          730,
          709,
          733,
          701,
          740,
          720,
          701,
          689,
          585,
          531,
          471,
          472
         ],
         "yaxis": "y"
        },
        {
         "hovertemplate": "Rolling Window (Days)=rolling_60_day<br>date=%{x}<br>Number of New Listings=%{y}<extra></extra>",
         "legendgroup": "rolling_60_day",
         "line": {
          "color": "#EF553B",
          "dash": "solid"
         },
         "marker": {
          "symbol": "circle"
         },
         "mode": "lines",
         "name": "rolling_60_day",
         "orientation": "v",
         "showlegend": true,
         "type": "scatter",
         "x": [
          "2024-04-22",
          "2024-04-15",
          "2024-04-08",
          "2024-04-01",
          "2024-03-25",
          "2024-03-18",
          "2024-03-11",
          "2024-03-04",
          "2024-02-26",
          "2024-02-19",
          "2024-02-12",
          "2024-02-05",
          "2024-01-29",
          "2024-01-22",
          "2024-01-15",
          "2024-01-08",
          "2024-01-01",
          "2023-12-25",
          "2023-12-18",
          "2023-12-11",
          "2023-12-04",
          "2023-11-27",
          "2023-11-20",
          "2023-11-13",
          "2023-11-06",
          "2023-10-30",
          "2023-10-23",
          "2023-10-16",
          "2023-10-09",
          "2023-10-02",
          "2023-09-25",
          "2023-09-18",
          "2023-09-11",
          "2023-09-04",
          "2023-08-28",
          "2023-08-21",
          "2023-08-14",
          "2023-08-07",
          "2023-07-31",
          "2023-07-24",
          "2023-07-17",
          "2023-07-10",
          "2023-07-03",
          "2023-06-26",
          "2023-06-19",
          "2023-06-12",
          "2023-06-05",
          "2023-05-29",
          "2023-05-22",
          "2023-05-15",
          "2023-05-08",
          "2023-05-01",
          "2023-04-24",
          "2023-04-17",
          "2023-04-10",
          "2023-04-03",
          "2023-03-27",
          "2023-03-20",
          "2023-03-13",
          "2023-03-06",
          "2023-02-27",
          "2023-02-20",
          "2023-02-13",
          "2023-02-06",
          "2023-01-30",
          "2023-01-23",
          "2023-01-16",
          "2023-01-09",
          "2023-01-02",
          "2022-12-26",
          "2022-12-19",
          "2022-12-12",
          "2022-12-05",
          "2022-11-28",
          "2022-11-21",
          "2022-11-14",
          "2022-11-07",
          "2022-10-31",
          "2022-10-24",
          "2022-10-17",
          "2022-10-10",
          "2022-10-03",
          "2022-09-26",
          "2022-09-19",
          "2022-09-12",
          "2022-09-05",
          "2022-08-29",
          "2022-08-22",
          "2022-08-15",
          "2022-08-08",
          "2022-08-01",
          "2022-07-25",
          "2022-07-18",
          "2022-07-11",
          "2022-07-04",
          "2022-06-27",
          "2022-06-20",
          "2022-06-13",
          "2022-06-06",
          "2022-05-30",
          "2022-05-23",
          "2022-05-16",
          "2022-05-09",
          "2022-05-02",
          "2022-04-25",
          "2022-04-18",
          "2022-04-11",
          "2022-04-04",
          "2022-03-28",
          "2022-03-21",
          "2022-03-14",
          "2022-03-07",
          "2022-02-28",
          "2022-02-21",
          "2022-02-14",
          "2022-02-07",
          "2022-01-31",
          "2022-01-24",
          "2022-01-17",
          "2022-01-10",
          "2022-01-03",
          "2021-12-27",
          "2021-12-20",
          "2021-12-13",
          "2021-12-06",
          "2021-11-29",
          "2021-11-22",
          "2021-11-15",
          "2021-11-08",
          "2021-11-01",
          "2021-10-25",
          "2021-10-18",
          "2021-10-11",
          "2021-10-04",
          "2021-09-27",
          "2021-09-20",
          "2021-09-13",
          "2021-09-06",
          "2021-08-30",
          "2021-08-23",
          "2021-08-16",
          "2021-08-09",
          "2021-08-02",
          "2021-07-26",
          "2021-07-19",
          "2021-07-12",
          "2021-07-05",
          "2021-06-28",
          "2021-06-21",
          "2021-06-14",
          "2021-06-07",
          "2021-05-31",
          "2021-05-24",
          "2021-05-17",
          "2021-05-10",
          "2021-05-03",
          "2021-04-26",
          "2021-04-19",
          "2021-04-12",
          "2021-04-05",
          "2021-03-29",
          "2021-03-22",
          "2021-03-15",
          "2021-03-08",
          "2021-03-01",
          "2021-02-22",
          "2021-02-15",
          "2021-02-08",
          "2021-02-01",
          "2021-01-25",
          "2021-01-18",
          "2021-01-11",
          "2021-01-04"
         ],
         "xaxis": "x",
         "y": [
          10194,
          10237,
          10402,
          11161,
          11474,
          11905,
          12086,
          12199,
          11816,
          11089,
          10655,
          10093,
          9642,
          8963,
          8493,
          8145,
          7981,
          8477,
          8766,
          8885,
          9043,
          9950,
          10158,
          10107,
          9952,
          9680,
          9410,
          9186,
          8919,
          7584,
          7483,
          7385,
          7393,
          7419,
          7417,
          7550,
          7681,
          7902,
          8103,
          8099,
          8220,
          8296,
          8660,
          8885,
          9061,
          9106,
          9196,
          9531,
          9599,
          9728,
          9848,
          9933,
          9958,
          9855,
          9631,
          9434,
          9088,
          8715,
          8149,
          7584,
          6682,
          5941,
          5312,
          4821,
          4424,
          3931,
          3639,
          3347,
          3110,
          3147,
          3150,
          3019,
          2749,
          2398,
          2352,
          2268,
          2214,
          2107,
          2115,
          2045,
          2157,
          2247,
          2440,
          2389,
          2337,
          2360,
          2291,
          2265,
          2253,
          2183,
          2196,
          2160,
          2168,
          2185,
          2192,
          2176,
          2140,
          2136,
          2136,
          2078,
          2063,
          1958,
          1916,
          1875,
          1853,
          1757,
          1719,
          1631,
          1615,
          1581,
          1549,
          1512,
          1423,
          1318,
          1236,
          1195,
          1268,
          1278,
          1257,
          1262,
          1231,
          1275,
          1341,
          1375,
          1355,
          1255,
          1264,
          1272,
          1285,
          1299,
          1308,
          1302,
          1279,
          1265,
          1227,
          1189,
          1181,
          1209,
          1180,
          1186,
          1192,
          1254,
          1345,
          1361,
          1400,
          1447,
          1517,
          1572,
          1581,
          1597,
          1577,
          1573,
          1593,
          1583,
          1589,
          1547,
          1529,
          1505,
          1523,
          1520,
          1519,
          1483,
          1453,
          1459,
          1389,
          1298,
          1265,
          1204,
          1191,
          1130,
          1138,
          1076,
          1044
         ],
         "yaxis": "y"
        },
        {
         "hovertemplate": "Rolling Window (Days)=rolling_90_day<br>date=%{x}<br>Number of New Listings=%{y}<extra></extra>",
         "legendgroup": "rolling_90_day",
         "line": {
          "color": "#00cc96",
          "dash": "solid"
         },
         "marker": {
          "symbol": "circle"
         },
         "mode": "lines",
         "name": "rolling_90_day",
         "orientation": "v",
         "showlegend": true,
         "type": "scatter",
         "x": [
          "2024-04-22",
          "2024-04-15",
          "2024-04-08",
          "2024-04-01",
          "2024-03-25",
          "2024-03-18",
          "2024-03-11",
          "2024-03-04",
          "2024-02-26",
          "2024-02-19",
          "2024-02-12",
          "2024-02-05",
          "2024-01-29",
          "2024-01-22",
          "2024-01-15",
          "2024-01-08",
          "2024-01-01",
          "2023-12-25",
          "2023-12-18",
          "2023-12-11",
          "2023-12-04",
          "2023-11-27",
          "2023-11-20",
          "2023-11-13",
          "2023-11-06",
          "2023-10-30",
          "2023-10-23",
          "2023-10-16",
          "2023-10-09",
          "2023-10-02",
          "2023-09-25",
          "2023-09-18",
          "2023-09-11",
          "2023-09-04",
          "2023-08-28",
          "2023-08-21",
          "2023-08-14",
          "2023-08-07",
          "2023-07-31",
          "2023-07-24",
          "2023-07-17",
          "2023-07-10",
          "2023-07-03",
          "2023-06-26",
          "2023-06-19",
          "2023-06-12",
          "2023-06-05",
          "2023-05-29",
          "2023-05-22",
          "2023-05-15",
          "2023-05-08",
          "2023-05-01",
          "2023-04-24",
          "2023-04-17",
          "2023-04-10",
          "2023-04-03",
          "2023-03-27",
          "2023-03-20",
          "2023-03-13",
          "2023-03-06",
          "2023-02-27",
          "2023-02-20",
          "2023-02-13",
          "2023-02-06",
          "2023-01-30",
          "2023-01-23",
          "2023-01-16",
          "2023-01-09",
          "2023-01-02",
          "2022-12-26",
          "2022-12-19",
          "2022-12-12",
          "2022-12-05",
          "2022-11-28",
          "2022-11-21",
          "2022-11-14",
          "2022-11-07",
          "2022-10-31",
          "2022-10-24",
          "2022-10-17",
          "2022-10-10",
          "2022-10-03",
          "2022-09-26",
          "2022-09-19",
          "2022-09-12",
          "2022-09-05",
          "2022-08-29",
          "2022-08-22",
          "2022-08-15",
          "2022-08-08",
          "2022-08-01",
          "2022-07-25",
          "2022-07-18",
          "2022-07-11",
          "2022-07-04",
          "2022-06-27",
          "2022-06-20",
          "2022-06-13",
          "2022-06-06",
          "2022-05-30",
          "2022-05-23",
          "2022-05-16",
          "2022-05-09",
          "2022-05-02",
          "2022-04-25",
          "2022-04-18",
          "2022-04-11",
          "2022-04-04",
          "2022-03-28",
          "2022-03-21",
          "2022-03-14",
          "2022-03-07",
          "2022-02-28",
          "2022-02-21",
          "2022-02-14",
          "2022-02-07",
          "2022-01-31",
          "2022-01-24",
          "2022-01-17",
          "2022-01-10",
          "2022-01-03",
          "2021-12-27",
          "2021-12-20",
          "2021-12-13",
          "2021-12-06",
          "2021-11-29",
          "2021-11-22",
          "2021-11-15",
          "2021-11-08",
          "2021-11-01",
          "2021-10-25",
          "2021-10-18",
          "2021-10-11",
          "2021-10-04",
          "2021-09-27",
          "2021-09-20",
          "2021-09-13",
          "2021-09-06",
          "2021-08-30",
          "2021-08-23",
          "2021-08-16",
          "2021-08-09",
          "2021-08-02",
          "2021-07-26",
          "2021-07-19",
          "2021-07-12",
          "2021-07-05",
          "2021-06-28",
          "2021-06-21",
          "2021-06-14",
          "2021-06-07",
          "2021-05-31",
          "2021-05-24",
          "2021-05-17",
          "2021-05-10",
          "2021-05-03",
          "2021-04-26",
          "2021-04-19",
          "2021-04-12",
          "2021-04-05",
          "2021-03-29",
          "2021-03-22",
          "2021-03-15",
          "2021-03-08",
          "2021-03-01",
          "2021-02-22",
          "2021-02-15",
          "2021-02-08",
          "2021-02-01",
          "2021-01-25",
          "2021-01-18",
          "2021-01-11",
          "2021-01-04"
         ],
         "xaxis": "x",
         "y": [
          16519,
          16746,
          16975,
          17367,
          16964,
          16582,
          16223,
          15942,
          15725,
          15180,
          14909,
          14427,
          14037,
          13613,
          13236,
          12860,
          13560,
          14132,
          14298,
          14292,
          14304,
          13961,
          14044,
          13883,
          13497,
          13255,
          13066,
          12878,
          12711,
          11461,
          11375,
          11390,
          11444,
          11518,
          11746,
          11806,
          11985,
          12274,
          12560,
          12866,
          13089,
          13277,
          13562,
          13811,
          13923,
          14075,
          14282,
          14635,
          14714,
          14710,
          14527,
          14265,
          13874,
          13480,
          12949,
          12428,
          11604,
          10778,
          9993,
          9263,
          8377,
          7644,
          7014,
          6408,
          5913,
          5464,
          5093,
          4701,
          4266,
          4051,
          4032,
          3898,
          3724,
          3569,
          3605,
          3481,
          3467,
          3337,
          3292,
          3246,
          3283,
          3373,
          3548,
          3502,
          3460,
          3450,
          3423,
          3360,
          3364,
          3297,
          3302,
          3245,
          3259,
          3209,
          3231,
          3183,
          3120,
          3093,
          3027,
          2969,
          2885,
          2783,
          2715,
          2640,
          2621,
          2525,
          2462,
          2367,
          2259,
          2118,
          2024,
          1994,
          2062,
          2072,
          2011,
          2003,
          1948,
          1897,
          1854,
          1868,
          1860,
          1933,
          2027,
          2066,
          2036,
          1911,
          1895,
          1899,
          1893,
          1906,
          1889,
          1889,
          1876,
          1857,
          1815,
          1817,
          1839,
          1912,
          1957,
          1960,
          1986,
          2054,
          2131,
          2197,
          2224,
          2252,
          2312,
          2337,
          2356,
          2385,
          2363,
          2368,
          2360,
          2309,
          2336,
          2272,
          2283,
          2260,
          2260,
          2240,
          2165,
          2038,
          1985,
          1938,
          1923,
          1870,
          1856,
          1786,
          1756,
          1710,
          1670,
          1638,
          1634
         ],
         "yaxis": "y"
        }
       ],
       "layout": {
        "autosize": true,
        "images": [
         {
          "sizex": 0.15,
          "sizey": 0.15,
          "source": "https://parcllabs-assets.s3.amazonaws.com/powered-by-parcllabs-api.png",
          "x": 1,
          "xanchor": "right",
          "xref": "paper",
          "y": 0,
          "yanchor": "bottom",
          "yref": "paper"
         }
        ],
        "legend": {
         "title": {
          "text": "Rolling Window (Days)"
         },
         "tracegroupgap": 0,
         "traceorder": "normal",
         "x": 0.01,
         "xanchor": "left",
         "y": 0.99,
         "yanchor": "top"
        },
        "margin": {
         "b": 100
        },
        "template": {
         "data": {
          "bar": [
           {
            "error_x": {
             "color": "#2a3f5f"
            },
            "error_y": {
             "color": "#2a3f5f"
            },
            "marker": {
             "line": {
              "color": "#E5ECF6",
              "width": 0.5
             },
             "pattern": {
              "fillmode": "overlay",
              "size": 10,
              "solidity": 0.2
             }
            },
            "type": "bar"
           }
          ],
          "barpolar": [
           {
            "marker": {
             "line": {
              "color": "#E5ECF6",
              "width": 0.5
             },
             "pattern": {
              "fillmode": "overlay",
              "size": 10,
              "solidity": 0.2
             }
            },
            "type": "barpolar"
           }
          ],
          "carpet": [
           {
            "aaxis": {
             "endlinecolor": "#2a3f5f",
             "gridcolor": "white",
             "linecolor": "white",
             "minorgridcolor": "white",
             "startlinecolor": "#2a3f5f"
            },
            "baxis": {
             "endlinecolor": "#2a3f5f",
             "gridcolor": "white",
             "linecolor": "white",
             "minorgridcolor": "white",
             "startlinecolor": "#2a3f5f"
            },
            "type": "carpet"
           }
          ],
          "choropleth": [
           {
            "colorbar": {
             "outlinewidth": 0,
             "ticks": ""
            },
            "type": "choropleth"
           }
          ],
          "contour": [
           {
            "colorbar": {
             "outlinewidth": 0,
             "ticks": ""
            },
            "colorscale": [
             [
              0,
              "#0d0887"
             ],
             [
              0.1111111111111111,
              "#46039f"
             ],
             [
              0.2222222222222222,
              "#7201a8"
             ],
             [
              0.3333333333333333,
              "#9c179e"
             ],
             [
              0.4444444444444444,
              "#bd3786"
             ],
             [
              0.5555555555555556,
              "#d8576b"
             ],
             [
              0.6666666666666666,
              "#ed7953"
             ],
             [
              0.7777777777777778,
              "#fb9f3a"
             ],
             [
              0.8888888888888888,
              "#fdca26"
             ],
             [
              1,
              "#f0f921"
             ]
            ],
            "type": "contour"
           }
          ],
          "contourcarpet": [
           {
            "colorbar": {
             "outlinewidth": 0,
             "ticks": ""
            },
            "type": "contourcarpet"
           }
          ],
          "heatmap": [
           {
            "colorbar": {
             "outlinewidth": 0,
             "ticks": ""
            },
            "colorscale": [
             [
              0,
              "#0d0887"
             ],
             [
              0.1111111111111111,
              "#46039f"
             ],
             [
              0.2222222222222222,
              "#7201a8"
             ],
             [
              0.3333333333333333,
              "#9c179e"
             ],
             [
              0.4444444444444444,
              "#bd3786"
             ],
             [
              0.5555555555555556,
              "#d8576b"
             ],
             [
              0.6666666666666666,
              "#ed7953"
             ],
             [
              0.7777777777777778,
              "#fb9f3a"
             ],
             [
              0.8888888888888888,
              "#fdca26"
             ],
             [
              1,
              "#f0f921"
             ]
            ],
            "type": "heatmap"
           }
          ],
          "heatmapgl": [
           {
            "colorbar": {
             "outlinewidth": 0,
             "ticks": ""
            },
            "colorscale": [
             [
              0,
              "#0d0887"
             ],
             [
              0.1111111111111111,
              "#46039f"
             ],
             [
              0.2222222222222222,
              "#7201a8"
             ],
             [
              0.3333333333333333,
              "#9c179e"
             ],
             [
              0.4444444444444444,
              "#bd3786"
             ],
             [
              0.5555555555555556,
              "#d8576b"
             ],
             [
              0.6666666666666666,
              "#ed7953"
             ],
             [
              0.7777777777777778,
              "#fb9f3a"
             ],
             [
              0.8888888888888888,
              "#fdca26"
             ],
             [
              1,
              "#f0f921"
             ]
            ],
            "type": "heatmapgl"
           }
          ],
          "histogram": [
           {
            "marker": {
             "pattern": {
              "fillmode": "overlay",
              "size": 10,
              "solidity": 0.2
             }
            },
            "type": "histogram"
           }
          ],
          "histogram2d": [
           {
            "colorbar": {
             "outlinewidth": 0,
             "ticks": ""
            },
            "colorscale": [
             [
              0,
              "#0d0887"
             ],
             [
              0.1111111111111111,
              "#46039f"
             ],
             [
              0.2222222222222222,
              "#7201a8"
             ],
             [
              0.3333333333333333,
              "#9c179e"
             ],
             [
              0.4444444444444444,
              "#bd3786"
             ],
             [
              0.5555555555555556,
              "#d8576b"
             ],
             [
              0.6666666666666666,
              "#ed7953"
             ],
             [
              0.7777777777777778,
              "#fb9f3a"
             ],
             [
              0.8888888888888888,
              "#fdca26"
             ],
             [
              1,
              "#f0f921"
             ]
            ],
            "type": "histogram2d"
           }
          ],
          "histogram2dcontour": [
           {
            "colorbar": {
             "outlinewidth": 0,
             "ticks": ""
            },
            "colorscale": [
             [
              0,
              "#0d0887"
             ],
             [
              0.1111111111111111,
              "#46039f"
             ],
             [
              0.2222222222222222,
              "#7201a8"
             ],
             [
              0.3333333333333333,
              "#9c179e"
             ],
             [
              0.4444444444444444,
              "#bd3786"
             ],
             [
              0.5555555555555556,
              "#d8576b"
             ],
             [
              0.6666666666666666,
              "#ed7953"
             ],
             [
              0.7777777777777778,
              "#fb9f3a"
             ],
             [
              0.8888888888888888,
              "#fdca26"
             ],
             [
              1,
              "#f0f921"
             ]
            ],
            "type": "histogram2dcontour"
           }
          ],
          "mesh3d": [
           {
            "colorbar": {
             "outlinewidth": 0,
             "ticks": ""
            },
            "type": "mesh3d"
           }
          ],
          "parcoords": [
           {
            "line": {
             "colorbar": {
              "outlinewidth": 0,
              "ticks": ""
             }
            },
            "type": "parcoords"
           }
          ],
          "pie": [
           {
            "automargin": true,
            "type": "pie"
           }
          ],
          "scatter": [
           {
            "fillpattern": {
             "fillmode": "overlay",
             "size": 10,
             "solidity": 0.2
            },
            "type": "scatter"
           }
          ],
          "scatter3d": [
           {
            "line": {
             "colorbar": {
              "outlinewidth": 0,
              "ticks": ""
             }
            },
            "marker": {
             "colorbar": {
              "outlinewidth": 0,
              "ticks": ""
             }
            },
            "type": "scatter3d"
           }
          ],
          "scattercarpet": [
           {
            "marker": {
             "colorbar": {
              "outlinewidth": 0,
              "ticks": ""
             }
            },
            "type": "scattercarpet"
           }
          ],
          "scattergeo": [
           {
            "marker": {
             "colorbar": {
              "outlinewidth": 0,
              "ticks": ""
             }
            },
            "type": "scattergeo"
           }
          ],
          "scattergl": [
           {
            "marker": {
             "colorbar": {
              "outlinewidth": 0,
              "ticks": ""
             }
            },
            "type": "scattergl"
           }
          ],
          "scattermapbox": [
           {
            "marker": {
             "colorbar": {
              "outlinewidth": 0,
              "ticks": ""
             }
            },
            "type": "scattermapbox"
           }
          ],
          "scatterpolar": [
           {
            "marker": {
             "colorbar": {
              "outlinewidth": 0,
              "ticks": ""
             }
            },
            "type": "scatterpolar"
           }
          ],
          "scatterpolargl": [
           {
            "marker": {
             "colorbar": {
              "outlinewidth": 0,
              "ticks": ""
             }
            },
            "type": "scatterpolargl"
           }
          ],
          "scatterternary": [
           {
            "marker": {
             "colorbar": {
              "outlinewidth": 0,
              "ticks": ""
             }
            },
            "type": "scatterternary"
           }
          ],
          "surface": [
           {
            "colorbar": {
             "outlinewidth": 0,
             "ticks": ""
            },
            "colorscale": [
             [
              0,
              "#0d0887"
             ],
             [
              0.1111111111111111,
              "#46039f"
             ],
             [
              0.2222222222222222,
              "#7201a8"
             ],
             [
              0.3333333333333333,
              "#9c179e"
             ],
             [
              0.4444444444444444,
              "#bd3786"
             ],
             [
              0.5555555555555556,
              "#d8576b"
             ],
             [
              0.6666666666666666,
              "#ed7953"
             ],
             [
              0.7777777777777778,
              "#fb9f3a"
             ],
             [
              0.8888888888888888,
              "#fdca26"
             ],
             [
              1,
              "#f0f921"
             ]
            ],
            "type": "surface"
           }
          ],
          "table": [
           {
            "cells": {
             "fill": {
              "color": "#EBF0F8"
             },
             "line": {
              "color": "white"
             }
            },
            "header": {
             "fill": {
              "color": "#C8D4E3"
             },
             "line": {
              "color": "white"
             }
            },
            "type": "table"
           }
          ]
         },
         "layout": {
          "annotationdefaults": {
           "arrowcolor": "#2a3f5f",
           "arrowhead": 0,
           "arrowwidth": 1
          },
          "autotypenumbers": "strict",
          "coloraxis": {
           "colorbar": {
            "outlinewidth": 0,
            "ticks": ""
           }
          },
          "colorscale": {
           "diverging": [
            [
             0,
             "#8e0152"
            ],
            [
             0.1,
             "#c51b7d"
            ],
            [
             0.2,
             "#de77ae"
            ],
            [
             0.3,
             "#f1b6da"
            ],
            [
             0.4,
             "#fde0ef"
            ],
            [
             0.5,
             "#f7f7f7"
            ],
            [
             0.6,
             "#e6f5d0"
            ],
            [
             0.7,
             "#b8e186"
            ],
            [
             0.8,
             "#7fbc41"
            ],
            [
             0.9,
             "#4d9221"
            ],
            [
             1,
             "#276419"
            ]
           ],
           "sequential": [
            [
             0,
             "#0d0887"
            ],
            [
             0.1111111111111111,
             "#46039f"
            ],
            [
             0.2222222222222222,
             "#7201a8"
            ],
            [
             0.3333333333333333,
             "#9c179e"
            ],
            [
             0.4444444444444444,
             "#bd3786"
            ],
            [
             0.5555555555555556,
             "#d8576b"
            ],
            [
             0.6666666666666666,
             "#ed7953"
            ],
            [
             0.7777777777777778,
             "#fb9f3a"
            ],
            [
             0.8888888888888888,
             "#fdca26"
            ],
            [
             1,
             "#f0f921"
            ]
           ],
           "sequentialminus": [
            [
             0,
             "#0d0887"
            ],
            [
             0.1111111111111111,
             "#46039f"
            ],
            [
             0.2222222222222222,
             "#7201a8"
            ],
            [
             0.3333333333333333,
             "#9c179e"
            ],
            [
             0.4444444444444444,
             "#bd3786"
            ],
            [
             0.5555555555555556,
             "#d8576b"
            ],
            [
             0.6666666666666666,
             "#ed7953"
            ],
            [
             0.7777777777777778,
             "#fb9f3a"
            ],
            [
             0.8888888888888888,
             "#fdca26"
            ],
            [
             1,
             "#f0f921"
            ]
           ]
          },
          "colorway": [
           "#636efa",
           "#EF553B",
           "#00cc96",
           "#ab63fa",
           "#FFA15A",
           "#19d3f3",
           "#FF6692",
           "#B6E880",
           "#FF97FF",
           "#FECB52"
          ],
          "font": {
           "color": "#2a3f5f"
          },
          "geo": {
           "bgcolor": "white",
           "lakecolor": "white",
           "landcolor": "#E5ECF6",
           "showlakes": true,
           "showland": true,
           "subunitcolor": "white"
          },
          "hoverlabel": {
           "align": "left"
          },
          "hovermode": "closest",
          "mapbox": {
           "style": "light"
          },
          "paper_bgcolor": "white",
          "plot_bgcolor": "#E5ECF6",
          "polar": {
           "angularaxis": {
            "gridcolor": "white",
            "linecolor": "white",
            "ticks": ""
           },
           "bgcolor": "#E5ECF6",
           "radialaxis": {
            "gridcolor": "white",
            "linecolor": "white",
            "ticks": ""
           }
          },
          "scene": {
           "xaxis": {
            "backgroundcolor": "#E5ECF6",
            "gridcolor": "white",
            "gridwidth": 2,
            "linecolor": "white",
            "showbackground": true,
            "ticks": "",
            "zerolinecolor": "white"
           },
           "yaxis": {
            "backgroundcolor": "#E5ECF6",
            "gridcolor": "white",
            "gridwidth": 2,
            "linecolor": "white",
            "showbackground": true,
            "ticks": "",
            "zerolinecolor": "white"
           },
           "zaxis": {
            "backgroundcolor": "#E5ECF6",
            "gridcolor": "white",
            "gridwidth": 2,
            "linecolor": "white",
            "showbackground": true,
            "ticks": "",
            "zerolinecolor": "white"
           }
          },
          "shapedefaults": {
           "line": {
            "color": "#2a3f5f"
           }
          },
          "ternary": {
           "aaxis": {
            "gridcolor": "white",
            "linecolor": "white",
            "ticks": ""
           },
           "baxis": {
            "gridcolor": "white",
            "linecolor": "white",
            "ticks": ""
           },
           "bgcolor": "#E5ECF6",
           "caxis": {
            "gridcolor": "white",
            "linecolor": "white",
            "ticks": ""
           }
          },
          "title": {
           "x": 0.05
          },
          "xaxis": {
           "automargin": true,
           "gridcolor": "white",
           "linecolor": "white",
           "ticks": "",
           "title": {
            "standoff": 15
           },
           "zerolinecolor": "white",
           "zerolinewidth": 2
          },
          "yaxis": {
           "automargin": true,
           "gridcolor": "white",
           "linecolor": "white",
           "ticks": "",
           "title": {
            "standoff": 15
           },
           "zerolinecolor": "white",
           "zerolinewidth": 2
          }
         }
        },
        "title": {
         "text": "New Listings (Rolling Day Counts) for Cape Coral Metro, Florida"
        },
        "xaxis": {
         "anchor": "y",
         "autorange": true,
         "domain": [
          0,
          1
         ],
         "range": [
          "2021-01-04",
          "2024-04-22"
         ],
         "title": {
          "text": "date"
         },
         "type": "date"
        },
        "yaxis": {
         "anchor": "x",
         "autorange": true,
         "domain": [
          0,
          1
         ],
         "range": [
          -481.3888888888888,
          18306.38888888889
         ],
         "title": {
          "text": "Number of New Listings"
         },
         "type": "linear"
        }
       }
      },
      "image/png": "[encoded data removed]",
      "text/html": [
       "<div>                            <div id=\"95b362b7-069f-4456-aa30-2397d9872bd8\" class=\"plotly-graph-div\" style=\"height:600px; width:100%;\"></div>            <script type=\"text/javascript\">                require([\"plotly\"], function(Plotly) {                    window.PLOTLYENV=window.PLOTLYENV || {};                                    if (document.getElementById(\"95b362b7-069f-4456-aa30-2397d9872bd8\")) {                    Plotly.newPlot(                        \"95b362b7-069f-4456-aa30-2397d9872bd8\",                        [{\"hovertemplate\":\"Rolling Window (Days)=rolling_30_day\\u003cbr\\u003edate=%{x}\\u003cbr\\u003eNumber of New Listings=%{y}\\u003cextra\\u003e\\u003c\\u002fextra\\u003e\",\"legendgroup\":\"rolling_30_day\",\"line\":{\"color\":\"#636efa\",\"dash\":\"solid\"},\"marker\":{\"symbol\":\"circle\"},\"mode\":\"lines\",\"name\":\"rolling_30_day\",\"orientation\":\"v\",\"showlegend\":true,\"x\":[\"2024-04-22\",\"2024-04-15\",\"2024-04-08\",\"2024-04-01\",\"2024-03-25\",\"2024-03-18\",\"2024-03-11\",\"2024-03-04\",\"2024-02-26\",\"2024-02-19\",\"2024-02-12\",\"2024-02-05\",\"2024-01-29\",\"2024-01-22\",\"2024-01-15\",\"2024-01-08\",\"2024-01-01\",\"2023-12-25\",\"2023-12-18\",\"2023-12-11\",\"2023-12-04\",\"2023-11-27\",\"2023-11-20\",\"2023-11-13\",\"2023-11-06\",\"2023-10-30\",\"2023-10-23\",\"2023-10-16\",\"2023-10-09\",\"2023-10-02\",\"2023-09-25\",\"2023-09-18\",\"2023-09-11\",\"2023-09-04\",\"2023-08-28\",\"2023-08-21\",\"2023-08-14\",\"2023-08-07\",\"2023-07-31\",\"2023-07-24\",\"2023-07-17\",\"2023-07-10\",\"2023-07-03\",\"2023-06-26\",\"2023-06-19\",\"2023-06-12\",\"2023-06-05\",\"2023-05-29\",\"2023-05-22\",\"2023-05-15\",\"2023-05-08\",\"2023-05-01\",\"2023-04-24\",\"2023-04-17\",\"2023-04-10\",\"2023-04-03\",\"2023-03-27\",\"2023-03-20\",\"2023-03-13\",\"2023-03-06\",\"2023-02-27\",\"2023-02-20\",\"2023-02-13\",\"2023-02-06\",\"2023-01-30\",\"2023-01-23\",\"2023-01-16\",\"2023-01-09\",\"2023-01-02\",\"2022-12-26\",\"2022-12-19\",\"2022-12-12\",\"2022-12-05\",\"2022-11-28\",\"2022-11-21\",\"2022-11-14\",\"2022-11-07\",\"2022-10-31\",\"2022-10-24\",\"2022-10-17\",\"2022-10-10\",\"2022-10-03\",\"2022-09-26\",\"2022-09-19\",\"2022-09-12\",\"2022-09-05\",\"2022-08-29\",\"2022-08-22\",\"2022-08-15\",\"2022-08-08\",\"2022-08-01\",\"2022-07-25\",\"2022-07-18\",\"2022-07-11\",\"2022-07-04\",\"2022-06-27\",\"2022-06-20\",\"2022-06-13\",\"2022-06-06\",\"2022-05-30\",\"2022-05-23\",\"2022-05-16\",\"2022-05-09\",\"2022-05-02\",\"2022-04-25\",\"2022-04-18\",\"2022-04-11\",\"2022-04-04\",\"2022-03-28\",\"2022-03-21\",\"2022-03-14\",\"2022-03-07\",\"2022-02-28\",\"2022-02-21\",\"2022-02-14\",\"2022-02-07\",\"2022-01-31\",\"2022-01-24\",\"2022-01-17\",\"2022-01-10\",\"2022-01-03\",\"2021-12-27\",\"2021-12-20\",\"2021-12-13\",\"2021-12-06\",\"2021-11-29\",\"2021-11-22\",\"2021-11-15\",\"2021-11-08\",\"2021-11-01\",\"2021-10-25\",\"2021-10-18\",\"2021-10-11\",\"2021-10-04\",\"2021-09-27\",\"2021-09-20\",\"2021-09-13\",\"2021-09-06\",\"2021-08-30\",\"2021-08-23\",\"2021-08-16\",\"2021-08-09\",\"2021-08-02\",\"2021-07-26\",\"2021-07-19\",\"2021-07-12\",\"2021-07-05\",\"2021-06-28\",\"2021-06-21\",\"2021-06-14\",\"2021-06-07\",\"2021-05-31\",\"2021-05-24\",\"2021-05-17\",\"2021-05-10\",\"2021-05-03\",\"2021-04-26\",\"2021-04-19\",\"2021-04-12\",\"2021-04-05\",\"2021-03-29\",\"2021-03-22\",\"2021-03-15\",\"2021-03-08\",\"2021-03-01\",\"2021-02-22\",\"2021-02-15\",\"2021-02-08\",\"2021-02-01\",\"2021-01-25\",\"2021-01-18\",\"2021-01-11\",\"2021-01-04\"],\"xaxis\":\"x\",\"y\":[4649,4535,4674,4937,5178,5401,5462,5811,6000,6176,6334,6145,5795,4920,4249,3827,3527,3994,4026,4118,4229,4218,4518,4582,4546,5566,5471,5322,5219,3986,3801,3700,3547,3428,3502,3500,3587,3765,3704,3816,3882,3946,4132,4100,4175,4131,4233,4492,4638,4738,4737,4790,4739,4746,4785,4879,5001,4868,4686,4454,3947,3740,3384,3086,2756,2234,1914,1698,1551,1677,1645,1615,1504,1409,1463,1368,1259,1034,823,811,880,970,1220,1169,1182,1226,1177,1156,1123,1082,1070,1045,1074,1037,1071,1066,1050,1099,1081,1069,1029,994,990,979,992,912,900,845,836,793,785,757,746,748,750,719,690,582,483,458,498,670,730,759,720,595,577,578,582,619,646,673,659,634,624,593,604,601,593,559,547,578,557,587,617,636,717,733,735,773,756,803,817,783,797,745,732,766,767,769,774,730,709,733,701,740,720,701,689,585,531,471,472],\"yaxis\":\"y\",\"type\":\"scatter\"},{\"hovertemplate\":\"Rolling Window (Days)=rolling_60_day\\u003cbr\\u003edate=%{x}\\u003cbr\\u003eNumber of New Listings=%{y}\\u003cextra\\u003e\\u003c\\u002fextra\\u003e\",\"legendgroup\":\"rolling_60_day\",\"line\":{\"color\":\"#EF553B\",\"dash\":\"solid\"},\"marker\":{\"symbol\":\"circle\"},\"mode\":\"lines\",\"name\":\"rolling_60_day\",\"orientation\":\"v\",\"showlegend\":true,\"x\":[\"2024-04-22\",\"2024-04-15\",\"2024-04-08\",\"2024-04-01\",\"2024-03-25\",\"2024-03-18\",\"2024-03-11\",\"2024-03-04\",\"2024-02-26\",\"2024-02-19\",\"2024-02-12\",\"2024-02-05\",\"2024-01-29\",\"2024-01-22\",\"2024-01-15\",\"2024-01-08\",\"2024-01-01\",\"2023-12-25\",\"2023-12-18\",\"2023-12-11\",\"2023-12-04\",\"2023-11-27\",\"2023-11-20\",\"2023-11-13\",\"2023-11-06\",\"2023-10-30\",\"2023-10-23\",\"2023-10-16\",\"2023-10-09\",\"2023-10-02\",\"2023-09-25\",\"2023-09-18\",\"2023-09-11\",\"2023-09-04\",\"2023-08-28\",\"2023-08-21\",\"2023-08-14\",\"2023-08-07\",\"2023-07-31\",\"2023-07-24\",\"2023-07-17\",\"2023-07-10\",\"2023-07-03\",\"2023-06-26\",\"2023-06-19\",\"2023-06-12\",\"2023-06-05\",\"2023-05-29\",\"2023-05-22\",\"2023-05-15\",\"2023-05-08\",\"2023-05-01\",\"2023-04-24\",\"2023-04-17\",\"2023-04-10\",\"2023-04-03\",\"2023-03-27\",\"2023-03-20\",\"2023-03-13\",\"2023-03-06\",\"2023-02-27\",\"2023-02-20\",\"2023-02-13\",\"2023-02-06\",\"2023-01-30\",\"2023-01-23\",\"2023-01-16\",\"2023-01-09\",\"2023-01-02\",\"2022-12-26\",\"2022-12-19\",\"2022-12-12\",\"2022-12-05\",\"2022-11-28\",\"2022-11-21\",\"2022-11-14\",\"2022-11-07\",\"2022-10-31\",\"2022-10-24\",\"2022-10-17\",\"2022-10-10\",\"2022-10-03\",\"2022-09-26\",\"2022-09-19\",\"2022-09-12\",\"2022-09-05\",\"2022-08-29\",\"2022-08-22\",\"2022-08-15\",\"2022-08-08\",\"2022-08-01\",\"2022-07-25\",\"2022-07-18\",\"2022-07-11\",\"2022-07-04\",\"2022-06-27\",\"2022-06-20\",\"2022-06-13\",\"2022-06-06\",\"2022-05-30\",\"2022-05-23\",\"2022-05-16\",\"2022-05-09\",\"2022-05-02\",\"2022-04-25\",\"2022-04-18\",\"2022-04-11\",\"2022-04-04\",\"2022-03-28\",\"2022-03-21\",\"2022-03-14\",\"2022-03-07\",\"2022-02-28\",\"2022-02-21\",\"2022-02-14\",\"2022-02-07\",\"2022-01-31\",\"2022-01-24\",\"2022-01-17\",\"2022-01-10\",\"2022-01-03\",\"2021-12-27\",\"2021-12-20\",\"2021-12-13\",\"2021-12-06\",\"2021-11-29\",\"2021-11-22\",\"2021-11-15\",\"2021-11-08\",\"2021-11-01\",\"2021-10-25\",\"2021-10-18\",\"2021-10-11\",\"2021-10-04\",\"2021-09-27\",\"2021-09-20\",\"2021-09-13\",\"2021-09-06\",\"2021-08-30\",\"2021-08-23\",\"2021-08-16\",\"2021-08-09\",\"2021-08-02\",\"2021-07-26\",\"2021-07-19\",\"2021-07-12\",\"2021-07-05\",\"2021-06-28\",\"2021-06-21\",\"2021-06-14\",\"2021-06-07\",\"2021-05-31\",\"2021-05-24\",\"2021-05-17\",\"2021-05-10\",\"2021-05-03\",\"2021-04-26\",\"2021-04-19\",\"2021-04-12\",\"2021-04-05\",\"2021-03-29\",\"2021-03-22\",\"2021-03-15\",\"2021-03-08\",\"2021-03-01\",\"2021-02-22\",\"2021-02-15\",\"2021-02-08\",\"2021-02-01\",\"2021-01-25\",\"2021-01-18\",\"2021-01-11\",\"2021-01-04\"],\"xaxis\":\"x\",\"y\":[10194,10237,10402,11161,11474,11905,12086,12199,11816,11089,10655,10093,9642,8963,8493,8145,7981,8477,8766,8885,9043,9950,10158,10107,9952,9680,9410,9186,8919,7584,7483,7385,7393,7419,7417,7550,7681,7902,8103,8099,8220,8296,8660,8885,9061,9106,9196,9531,9599,9728,9848,9933,9958,9855,9631,9434,9088,8715,8149,7584,6682,5941,5312,4821,4424,3931,3639,3347,3110,3147,3150,3019,2749,2398,2352,2268,2214,2107,2115,2045,2157,2247,2440,2389,2337,2360,2291,2265,2253,2183,2196,2160,2168,2185,2192,2176,2140,2136,2136,2078,2063,1958,1916,1875,1853,1757,1719,1631,1615,1581,1549,1512,1423,1318,1236,1195,1268,1278,1257,1262,1231,1275,1341,1375,1355,1255,1264,1272,1285,1299,1308,1302,1279,1265,1227,1189,1181,1209,1180,1186,1192,1254,1345,1361,1400,1447,1517,1572,1581,1597,1577,1573,1593,1583,1589,1547,1529,1505,1523,1520,1519,1483,1453,1459,1389,1298,1265,1204,1191,1130,1138,1076,1044],\"yaxis\":\"y\",\"type\":\"scatter\"},{\"hovertemplate\":\"Rolling Window (Days)=rolling_90_day\\u003cbr\\u003edate=%{x}\\u003cbr\\u003eNumber of New Listings=%{y}\\u003cextra\\u003e\\u003c\\u002fextra\\u003e\",\"legendgroup\":\"rolling_90_day\",\"line\":{\"color\":\"#00cc96\",\"dash\":\"solid\"},\"marker\":{\"symbol\":\"circle\"},\"mode\":\"lines\",\"name\":\"rolling_90_day\",\"orientation\":\"v\",\"showlegend\":true,\"x\":[\"2024-04-22\",\"2024-04-15\",\"2024-04-08\",\"2024-04-01\",\"2024-03-25\",\"2024-03-18\",\"2024-03-11\",\"2024-03-04\",\"2024-02-26\",\"2024-02-19\",\"2024-02-12\",\"2024-02-05\",\"2024-01-29\",\"2024-01-22\",\"2024-01-15\",\"2024-01-08\",\"2024-01-01\",\"2023-12-25\",\"2023-12-18\",\"2023-12-11\",\"2023-12-04\",\"2023-11-27\",\"2023-11-20\",\"2023-11-13\",\"2023-11-06\",\"2023-10-30\",\"2023-10-23\",\"2023-10-16\",\"2023-10-09\",\"2023-10-02\",\"2023-09-25\",\"2023-09-18\",\"2023-09-11\",\"2023-09-04\",\"2023-08-28\",\"2023-08-21\",\"2023-08-14\",\"2023-08-07\",\"2023-07-31\",\"2023-07-24\",\"2023-07-17\",\"2023-07-10\",\"2023-07-03\",\"2023-06-26\",\"2023-06-19\",\"2023-06-12\",\"2023-06-05\",\"2023-05-29\",\"2023-05-22\",\"2023-05-15\",\"2023-05-08\",\"2023-05-01\",\"2023-04-24\",\"2023-04-17\",\"2023-04-10\",\"2023-04-03\",\"2023-03-27\",\"2023-03-20\",\"2023-03-13\",\"2023-03-06\",\"2023-02-27\",\"2023-02-20\",\"2023-02-13\",\"2023-02-06\",\"2023-01-30\",\"2023-01-23\",\"2023-01-16\",\"2023-01-09\",\"2023-01-02\",\"2022-12-26\",\"2022-12-19\",\"2022-12-12\",\"2022-12-05\",\"2022-11-28\",\"2022-11-21\",\"2022-11-14\",\"2022-11-07\",\"2022-10-31\",\"2022-10-24\",\"2022-10-17\",\"2022-10-10\",\"2022-10-03\",\"2022-09-26\",\"2022-09-19\",\"2022-09-12\",\"2022-09-05\",\"2022-08-29\",\"2022-08-22\",\"2022-08-15\",\"2022-08-08\",\"2022-08-01\",\"2022-07-25\",\"2022-07-18\",\"2022-07-11\",\"2022-07-04\",\"2022-06-27\",\"2022-06-20\",\"2022-06-13\",\"2022-06-06\",\"2022-05-30\",\"2022-05-23\",\"2022-05-16\",\"2022-05-09\",\"2022-05-02\",\"2022-04-25\",\"2022-04-18\",\"2022-04-11\",\"2022-04-04\",\"2022-03-28\",\"2022-03-21\",\"2022-03-14\",\"2022-03-07\",\"2022-02-28\",\"2022-02-21\",\"2022-02-14\",\"2022-02-07\",\"2022-01-31\",\"2022-01-24\",\"2022-01-17\",\"2022-01-10\",\"2022-01-03\",\"2021-12-27\",\"2021-12-20\",\"2021-12-13\",\"2021-12-06\",\"2021-11-29\",\"2021-11-22\",\"2021-11-15\",\"2021-11-08\",\"2021-11-01\",\"2021-10-25\",\"2021-10-18\",\"2021-10-11\",\"2021-10-04\",\"2021-09-27\",\"2021-09-20\",\"2021-09-13\",\"2021-09-06\",\"2021-08-30\",\"2021-08-23\",\"2021-08-16\",\"2021-08-09\",\"2021-08-02\",\"2021-07-26\",\"2021-07-19\",\"2021-07-12\",\"2021-07-05\",\"2021-06-28\",\"2021-06-21\",\"2021-06-14\",\"2021-06-07\",\"2021-05-31\",\"2021-05-24\",\"2021-05-17\",\"2021-05-10\",\"2021-05-03\",\"2021-04-26\",\"2021-04-19\",\"2021-04-12\",\"2021-04-05\",\"2021-03-29\",\"2021-03-22\",\"2021-03-15\",\"2021-03-08\",\"2021-03-01\",\"2021-02-22\",\"2021-02-15\",\"2021-02-08\",\"2021-02-01\",\"2021-01-25\",\"2021-01-18\",\"2021-01-11\",\"2021-01-04\"],\"xaxis\":\"x\",\"y\":[16519,16746,16975,17367,16964,16582,16223,15942,15725,15180,14909,14427,14037,13613,13236,12860,13560,14132,14298,14292,14304,13961,14044,13883,13497,13255,13066,12878,12711,11461,11375,11390,11444,11518,11746,11806,11985,12274,12560,12866,13089,13277,13562,13811,13923,14075,14282,14635,14714,14710,14527,14265,13874,13480,12949,12428,11604,10778,9993,9263,8377,7644,7014,6408,5913,5464,5093,4701,4266,4051,4032,3898,3724,3569,3605,3481,3467,3337,3292,3246,3283,3373,3548,3502,3460,3450,3423,3360,3364,3297,3302,3245,3259,3209,3231,3183,3120,3093,3027,2969,2885,2783,2715,2640,2621,2525,2462,2367,2259,2118,2024,1994,2062,2072,2011,2003,1948,1897,1854,1868,1860,1933,2027,2066,2036,1911,1895,1899,1893,1906,1889,1889,1876,1857,1815,1817,1839,1912,1957,1960,1986,2054,2131,2197,2224,2252,2312,2337,2356,2385,2363,2368,2360,2309,2336,2272,2283,2260,2260,2240,2165,2038,1985,1938,1923,1870,1856,1786,1756,1710,1670,1638,1634],\"yaxis\":\"y\",\"type\":\"scatter\"}],                        {\"template\":{\"data\":{\"histogram2dcontour\":[{\"type\":\"histogram2dcontour\",\"colorbar\":{\"outlinewidth\":0,\"ticks\":\"\"},\"colorscale\":[[0.0,\"#0d0887\"],[0.1111111111111111,\"#46039f\"],[0.2222222222222222,\"#7201a8\"],[0.3333333333333333,\"#9c179e\"],[0.4444444444444444,\"#bd3786\"],[0.5555555555555556,\"#d8576b\"],[0.6666666666666666,\"#ed7953\"],[0.7777777777777778,\"#fb9f3a\"],[0.8888888888888888,\"#fdca26\"],[1.0,\"#f0f921\"]]}],\"choropleth\":[{\"type\":\"choropleth\",\"colorbar\":{\"outlinewidth\":0,\"ticks\":\"\"}}],\"histogram2d\":[{\"type\":\"histogram2d\",\"colorbar\":{\"outlinewidth\":0,\"ticks\":\"\"},\"colorscale\":[[0.0,\"#0d0887\"],[0.1111111111111111,\"#46039f\"],[0.2222222222222222,\"#7201a8\"],[0.3333333333333333,\"#9c179e\"],[0.4444444444444444,\"#bd3786\"],[0.5555555555555556,\"#d8576b\"],[0.6666666666666666,\"#ed7953\"],[0.7777777777777778,\"#fb9f3a\"],[0.8888888888888888,\"#fdca26\"],[1.0,\"#f0f921\"]]}],\"heatmap\":[{\"type\":\"heatmap\",\"colorbar\":{\"outlinewidth\":0,\"ticks\":\"\"},\"colorscale\":[[0.0,\"#0d0887\"],[0.1111111111111111,\"#46039f\"],[0.2222222222222222,\"#7201a8\"],[0.3333333333333333,\"#9c179e\"],[0.4444444444444444,\"#bd3786\"],[0.5555555555555556,\"#d8576b\"],[0.6666666666666666,\"#ed7953\"],[0.7777777777777778,\"#fb9f3a\"],[0.8888888888888888,\"#fdca26\"],[1.0,\"#f0f921\"]]}],\"heatmapgl\":[{\"type\":\"heatmapgl\",\"colorbar\":{\"outlinewidth\":0,\"ticks\":\"\"},\"colorscale\":[[0.0,\"#0d0887\"],[0.1111111111111111,\"#46039f\"],[0.2222222222222222,\"#7201a8\"],[0.3333333333333333,\"#9c179e\"],[0.4444444444444444,\"#bd3786\"],[0.5555555555555556,\"#d8576b\"],[0.6666666666666666,\"#ed7953\"],[0.7777777777777778,\"#fb9f3a\"],[0.8888888888888888,\"#fdca26\"],[1.0,\"#f0f921\"]]}],\"contourcarpet\":[{\"type\":\"contourcarpet\",\"colorbar\":{\"outlinewidth\":0,\"ticks\":\"\"}}],\"contour\":[{\"type\":\"contour\",\"colorbar\":{\"outlinewidth\":0,\"ticks\":\"\"},\"colorscale\":[[0.0,\"#0d0887\"],[0.1111111111111111,\"#46039f\"],[0.2222222222222222,\"#7201a8\"],[0.3333333333333333,\"#9c179e\"],[0.4444444444444444,\"#bd3786\"],[0.5555555555555556,\"#d8576b\"],[0.6666666666666666,\"#ed7953\"],[0.7777777777777778,\"#fb9f3a\"],[0.8888888888888888,\"#fdca26\"],[1.0,\"#f0f921\"]]}],\"surface\":[{\"type\":\"surface\",\"colorbar\":{\"outlinewidth\":0,\"ticks\":\"\"},\"colorscale\":[[0.0,\"#0d0887\"],[0.1111111111111111,\"#46039f\"],[0.2222222222222222,\"#7201a8\"],[0.3333333333333333,\"#9c179e\"],[0.4444444444444444,\"#bd3786\"],[0.5555555555555556,\"#d8576b\"],[0.6666666666666666,\"#ed7953\"],[0.7777777777777778,\"#fb9f3a\"],[0.8888888888888888,\"#fdca26\"],[1.0,\"#f0f921\"]]}],\"mesh3d\":[{\"type\":\"mesh3d\",\"colorbar\":{\"outlinewidth\":0,\"ticks\":\"\"}}],\"scatter\":[{\"fillpattern\":{\"fillmode\":\"overlay\",\"size\":10,\"solidity\":0.2},\"type\":\"scatter\"}],\"parcoords\":[{\"type\":\"parcoords\",\"line\":{\"colorbar\":{\"outlinewidth\":0,\"ticks\":\"\"}}}],\"scatterpolargl\":[{\"type\":\"scatterpolargl\",\"marker\":{\"colorbar\":{\"outlinewidth\":0,\"ticks\":\"\"}}}],\"bar\":[{\"error_x\":{\"color\":\"#2a3f5f\"},\"error_y\":{\"color\":\"#2a3f5f\"},\"marker\":{\"line\":{\"color\":\"#E5ECF6\",\"width\":0.5},\"pattern\":{\"fillmode\":\"overlay\",\"size\":10,\"solidity\":0.2}},\"type\":\"bar\"}],\"scattergeo\":[{\"type\":\"scattergeo\",\"marker\":{\"colorbar\":{\"outlinewidth\":0,\"ticks\":\"\"}}}],\"scatterpolar\":[{\"type\":\"scatterpolar\",\"marker\":{\"colorbar\":{\"outlinewidth\":0,\"ticks\":\"\"}}}],\"histogram\":[{\"marker\":{\"pattern\":{\"fillmode\":\"overlay\",\"size\":10,\"solidity\":0.2}},\"type\":\"histogram\"}],\"scattergl\":[{\"type\":\"scattergl\",\"marker\":{\"colorbar\":{\"outlinewidth\":0,\"ticks\":\"\"}}}],\"scatter3d\":[{\"type\":\"scatter3d\",\"line\":{\"colorbar\":{\"outlinewidth\":0,\"ticks\":\"\"}},\"marker\":{\"colorbar\":{\"outlinewidth\":0,\"ticks\":\"\"}}}],\"scattermapbox\":[{\"type\":\"scattermapbox\",\"marker\":{\"colorbar\":{\"outlinewidth\":0,\"ticks\":\"\"}}}],\"scatterternary\":[{\"type\":\"scatterternary\",\"marker\":{\"colorbar\":{\"outlinewidth\":0,\"ticks\":\"\"}}}],\"scattercarpet\":[{\"type\":\"scattercarpet\",\"marker\":{\"colorbar\":{\"outlinewidth\":0,\"ticks\":\"\"}}}],\"carpet\":[{\"aaxis\":{\"endlinecolor\":\"#2a3f5f\",\"gridcolor\":\"white\",\"linecolor\":\"white\",\"minorgridcolor\":\"white\",\"startlinecolor\":\"#2a3f5f\"},\"baxis\":{\"endlinecolor\":\"#2a3f5f\",\"gridcolor\":\"white\",\"linecolor\":\"white\",\"minorgridcolor\":\"white\",\"startlinecolor\":\"#2a3f5f\"},\"type\":\"carpet\"}],\"table\":[{\"cells\":{\"fill\":{\"color\":\"#EBF0F8\"},\"line\":{\"color\":\"white\"}},\"header\":{\"fill\":{\"color\":\"#C8D4E3\"},\"line\":{\"color\":\"white\"}},\"type\":\"table\"}],\"barpolar\":[{\"marker\":{\"line\":{\"color\":\"#E5ECF6\",\"width\":0.5},\"pattern\":{\"fillmode\":\"overlay\",\"size\":10,\"solidity\":0.2}},\"type\":\"barpolar\"}],\"pie\":[{\"automargin\":true,\"type\":\"pie\"}]},\"layout\":{\"autotypenumbers\":\"strict\",\"colorway\":[\"#636efa\",\"#EF553B\",\"#00cc96\",\"#ab63fa\",\"#FFA15A\",\"#19d3f3\",\"#FF6692\",\"#B6E880\",\"#FF97FF\",\"#FECB52\"],\"font\":{\"color\":\"#2a3f5f\"},\"hovermode\":\"closest\",\"hoverlabel\":{\"align\":\"left\"},\"paper_bgcolor\":\"white\",\"plot_bgcolor\":\"#E5ECF6\",\"polar\":{\"bgcolor\":\"#E5ECF6\",\"angularaxis\":{\"gridcolor\":\"white\",\"linecolor\":\"white\",\"ticks\":\"\"},\"radialaxis\":{\"gridcolor\":\"white\",\"linecolor\":\"white\",\"ticks\":\"\"}},\"ternary\":{\"bgcolor\":\"#E5ECF6\",\"aaxis\":{\"gridcolor\":\"white\",\"linecolor\":\"white\",\"ticks\":\"\"},\"baxis\":{\"gridcolor\":\"white\",\"linecolor\":\"white\",\"ticks\":\"\"},\"caxis\":{\"gridcolor\":\"white\",\"linecolor\":\"white\",\"ticks\":\"\"}},\"coloraxis\":{\"colorbar\":{\"outlinewidth\":0,\"ticks\":\"\"}},\"colorscale\":{\"sequential\":[[0.0,\"#0d0887\"],[0.1111111111111111,\"#46039f\"],[0.2222222222222222,\"#7201a8\"],[0.3333333333333333,\"#9c179e\"],[0.4444444444444444,\"#bd3786\"],[0.5555555555555556,\"#d8576b\"],[0.6666666666666666,\"#ed7953\"],[0.7777777777777778,\"#fb9f3a\"],[0.8888888888888888,\"#fdca26\"],[1.0,\"#f0f921\"]],\"sequentialminus\":[[0.0,\"#0d0887\"],[0.1111111111111111,\"#46039f\"],[0.2222222222222222,\"#7201a8\"],[0.3333333333333333,\"#9c179e\"],[0.4444444444444444,\"#bd3786\"],[0.5555555555555556,\"#d8576b\"],[0.6666666666666666,\"#ed7953\"],[0.7777777777777778,\"#fb9f3a\"],[0.8888888888888888,\"#fdca26\"],[1.0,\"#f0f921\"]],\"diverging\":[[0,\"#8e0152\"],[0.1,\"#c51b7d\"],[0.2,\"#de77ae\"],[0.3,\"#f1b6da\"],[0.4,\"#fde0ef\"],[0.5,\"#f7f7f7\"],[0.6,\"#e6f5d0\"],[0.7,\"#b8e186\"],[0.8,\"#7fbc41\"],[0.9,\"#4d9221\"],[1,\"#276419\"]]},\"xaxis\":{\"gridcolor\":\"white\",\"linecolor\":\"white\",\"ticks\":\"\",\"title\":{\"standoff\":15},\"zerolinecolor\":\"white\",\"automargin\":true,\"zerolinewidth\":2},\"yaxis\":{\"gridcolor\":\"white\",\"linecolor\":\"white\",\"ticks\":\"\",\"title\":{\"standoff\":15},\"zerolinecolor\":\"white\",\"automargin\":true,\"zerolinewidth\":2},\"scene\":{\"xaxis\":{\"backgroundcolor\":\"#E5ECF6\",\"gridcolor\":\"white\",\"linecolor\":\"white\",\"showbackground\":true,\"ticks\":\"\",\"zerolinecolor\":\"white\",\"gridwidth\":2},\"yaxis\":{\"backgroundcolor\":\"#E5ECF6\",\"gridcolor\":\"white\",\"linecolor\":\"white\",\"showbackground\":true,\"ticks\":\"\",\"zerolinecolor\":\"white\",\"gridwidth\":2},\"zaxis\":{\"backgroundcolor\":\"#E5ECF6\",\"gridcolor\":\"white\",\"linecolor\":\"white\",\"showbackground\":true,\"ticks\":\"\",\"zerolinecolor\":\"white\",\"gridwidth\":2}},\"shapedefaults\":{\"line\":{\"color\":\"#2a3f5f\"}},\"annotationdefaults\":{\"arrowcolor\":\"#2a3f5f\",\"arrowhead\":0,\"arrowwidth\":1},\"geo\":{\"bgcolor\":\"white\",\"landcolor\":\"#E5ECF6\",\"subunitcolor\":\"white\",\"showland\":true,\"showlakes\":true,\"lakecolor\":\"white\"},\"title\":{\"x\":0.05},\"mapbox\":{\"style\":\"light\"}}},\"xaxis\":{\"anchor\":\"y\",\"domain\":[0.0,1.0],\"title\":{\"text\":\"date\"}},\"yaxis\":{\"anchor\":\"x\",\"domain\":[0.0,1.0],\"title\":{\"text\":\"Number of New Listings\"}},\"legend\":{\"title\":{\"text\":\"Rolling Window (Days)\"},\"tracegroupgap\":0,\"x\":0.01,\"y\":0.99,\"traceorder\":\"normal\",\"xanchor\":\"left\",\"yanchor\":\"top\"},\"title\":{\"text\":\"New Listings (Rolling Day Counts) for Cape Coral Metro, Florida\"},\"images\":[{\"sizex\":0.15,\"sizey\":0.15,\"source\":\"https:\\u002f\\u002fparcllabs-assets.s3.amazonaws.com\\u002fpowered-by-parcllabs-api.png\",\"x\":1,\"xanchor\":\"right\",\"xref\":\"paper\",\"y\":0,\"yanchor\":\"bottom\",\"yref\":\"paper\"}],\"margin\":{\"b\":100},\"height\":600},                        {\"responsive\": true}                    ).then(function(){\n",
       "                            \n",
       "var gd = document.getElementById('95b362b7-069f-4456-aa30-2397d9872bd8');\n",
       "var x = new MutationObserver(function (mutations, observer) {{\n",
       "        var display = window.getComputedStyle(gd).display;\n",
       "        if (!display || display === 'none') {{\n",
       "            console.log([gd, 'removed!']);\n",
       "            Plotly.purge(gd);\n",
       "            observer.disconnect();\n",
       "        }}\n",
       "}});\n",
       "\n",
       "// Listen for the removal of the full notebook cells\n",
       "var notebookContainer = gd.closest('#notebook-container');\n",
       "if (notebookContainer) {{\n",
       "    x.observe(notebookContainer, {childList: true});\n",
       "}}\n",
       "\n",
       "// Listen for the clearing of the current output cell\n",
       "var outputEl = gd.closest('.output');\n",
       "if (outputEl) {{\n",
       "    x.observe(outputEl, {childList: true});\n",
       "}}\n",
       "\n",
       "                        })                };                });            </script>        </div>"
      ]
     },
     "metadata": {},
     "output_type": "display_data"
    }
   ],
   "source": [
    "# Creating the line chart\n",
    "fig = px.line(\n",
    "    new_listings_long,\n",
    "    x='date',\n",
    "    y='Number of New Listings',\n",
    "    color='Rolling Window (Days)',  # This will create a separate line for each rolling window\n",
    "    title='New Listings (Rolling Day Counts) for Cape Coral Metro, Florida',\n",
    "    labels={'count': 'Rolling Day Count'}\n",
    ")\n",
    "\n",
    "# Showing the plot\n",
    "# Add the logo as a layout_image\n",
    "fig.add_layout_image(\n",
    "    dict(\n",
    "        source=\"https://parcllabs-assets.s3.amazonaws.com/powered-by-parcllabs-api.png\",\n",
    "        xref=\"paper\",\n",
    "        yref=\"paper\",\n",
    "        x=1,\n",
    "        y=0, \n",
    "        sizex=0.15, \n",
    "        sizey=0.15,\n",
    "        xanchor=\"right\",\n",
    "        yanchor=\"bottom\"\n",
    "    )\n",
    ")\n",
    "\n",
    "fig.update_layout(\n",
    "    margin=dict(b=100),\n",
    "    height=600,\n",
    "    legend=dict(\n",
    "        x=0.01,\n",
    "        y=0.99,\n",
    "        traceorder=\"normal\",\n",
    "        xanchor='left',\n",
    "        yanchor='top'\n",
    "    ),\n",
    ")\n",
    "\n",
    "# Show the plot\n",
    "fig.show()"
   ]
  },
  {
   "cell_type": "code",
   "execution_count": null,
   "id": "10a56f52-f2b5-41d7-9ee9-01157b60ab7d",
   "metadata": {},
   "outputs": [],
   "source": [
    "# 90 Day 1/2/2023 4,266, 4/22/2024 16.5k up 286%\n",
    "# 60 Day 1/2/2023 3,110, 4/22/2024 10.2k up 228%\n",
    "# 30 Day 1/2/2023 1,551, 4/22/2024 4,649 up 200%"
   ]
  }
 ],
 "metadata": {
  "kernelspec": {
   "display_name": "Python (parcllabs-env)",
   "language": "python",
   "name": "parcllabs-env"
  },
  "language_info": {
   "codemirror_mode": {
    "name": "ipython",
    "version": 3
   },
   "file_extension": ".py",
   "mimetype": "text/x-python",
   "name": "python",
   "nbconvert_exporter": "python",
   "pygments_lexer": "ipython3",
   "version": "3.11.9"
  }
 },
 "nbformat": 4,
 "nbformat_minor": 5
}
