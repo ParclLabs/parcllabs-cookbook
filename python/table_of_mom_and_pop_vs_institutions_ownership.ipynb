{
 "cells": [
  {
   "cell_type": "markdown",
   "id": "8d9dee2b-9603-40d8-a448-f8605aacf623",
   "metadata": {},
   "source": [
    "# Welcome to the Lab 🥼🧪\n",
    "## Which metros have the highest share of mom and pop ownership? Institutional Ownership? \n",
    "\n",
    "**Note** This notebook will work with any of the 70k+ markets supported by the Parcl Labs API.\n",
    "\n",
    "As a reminder, you can get your Parcl Labs API key [here](https://dashboard.parcllabs.com/signup) to follow along. \n",
    "\n",
    "To run this immediately, you can use Google Colab. Remember, you must set your `PARCL_LABS_API_KEY` as a secret. See this [guide](https://medium.com/@parthdasawant/how-to-use-secrets-in-google-colab-450c38e3ec75) for more information.\n",
    "\n",
    "[![Open in Colab](https://colab.research.google.com/assets/colab-badge.svg)](https://colab.research.google.com/github/ParclLabs/parcllabs-examples/blob/main/python/table_of_mom_and_pop_vs_institutions_ownership.ipynb)\n",
    "\n",
    "We will be creating this table: \n",
    "\n",
    "![Chart](assets/top100_metros_mom_and_pops.png)"
   ]
  },
  {
   "cell_type": "code",
   "execution_count": 4,
   "id": "64636b5e-2f47-4e05-aab5-e551384bab13",
   "metadata": {
    "tags": []
   },
   "outputs": [],
   "source": [
    "# Environment setup\n",
    "import os\n",
    "import sys\n",
    "import subprocess\n",
    "from datetime import datetime\n",
    "\n",
    "# Collab setup from one click above\n",
    "if \"google.colab\" in sys.modules:\n",
    "    from google.colab import userdata\n",
    "    %pip install parcllabs plotly kaleido\n",
    "    api_key = userdata.get('PARCL_LABS_API_KEY')\n",
    "else:\n",
    "    api_key = os.getenv('PARCL_LABS_API_KEY')"
   ]
  },
  {
   "cell_type": "code",
   "execution_count": 5,
   "id": "51941a8b-527f-4612-8aec-29396f3ef068",
   "metadata": {
    "tags": []
   },
   "outputs": [
    {
     "name": "stdout",
     "output_type": "stream",
     "text": [
      "Parcl Labs Version: 0.1.18\n"
     ]
    }
   ],
   "source": [
    "import parcllabs\n",
    "import pandas as pd\n",
    "import plotly.express as px\n",
    "from parcllabs import ParclLabsClient\n",
    "\n",
    "print(f\"Parcl Labs Version: {parcllabs.__version__}\")"
   ]
  },
  {
   "cell_type": "code",
   "execution_count": 6,
   "id": "cc46aa3c-457a-4211-9d6d-904dced07b6a",
   "metadata": {
    "tags": []
   },
   "outputs": [],
   "source": [
    "# instantiate the client\n",
    "client = ParclLabsClient(api_key=api_key, limit=1)"
   ]
  },
  {
   "cell_type": "code",
   "execution_count": 7,
   "id": "b24a6f1b-ae9b-4e73-a339-e1a8e2e54a67",
   "metadata": {
    "tags": []
   },
   "outputs": [],
   "source": [
    "# lets get all metros in the country\n",
    "metros = client.search_markets.retrieve(\n",
    "    location_type='CBSA',\n",
    "    as_dataframe=True,\n",
    "    params={\n",
    "        'limit': 100\n",
    "    },\n",
    "    sort_by='TOTAL_POPULATION',\n",
    "    sort_order='DESC'\n",
    ")"
   ]
  },
  {
   "cell_type": "code",
   "execution_count": 8,
   "id": "d6cf9f25-af81-4b51-982c-200bc644588f",
   "metadata": {
    "tags": []
   },
   "outputs": [
    {
     "data": {
      "text/plain": [
       "100"
      ]
     },
     "execution_count": 8,
     "metadata": {},
     "output_type": "execute_result"
    }
   ],
   "source": [
    "# get the ids\n",
    "metro_ids = metros['parcl_id'].tolist()\n",
    "len(metro_ids)"
   ]
  },
  {
   "cell_type": "code",
   "execution_count": 9,
   "id": "c2733fa3-55ef-46c7-aba9-70fdd0e53874",
   "metadata": {
    "tags": []
   },
   "outputs": [
    {
     "name": "stdout",
     "output_type": "stream",
     "text": [
      "|████████████████████████████████████████| 100/100 [100%] in 16.6s (6.04/s) \n"
     ]
    },
    {
     "data": {
      "text/html": [
       "<div>\n",
       "<style scoped>\n",
       "    .dataframe tbody tr th:only-of-type {\n",
       "        vertical-align: middle;\n",
       "    }\n",
       "\n",
       "    .dataframe tbody tr th {\n",
       "        vertical-align: top;\n",
       "    }\n",
       "\n",
       "    .dataframe thead th {\n",
       "        text-align: right;\n",
       "    }\n",
       "</style>\n",
       "<table border=\"1\" class=\"dataframe\">\n",
       "  <thead>\n",
       "    <tr style=\"text-align: right;\">\n",
       "      <th></th>\n",
       "      <th>date</th>\n",
       "      <th>count_portfolio_2_to_9</th>\n",
       "      <th>count_portfolio_10_to_99</th>\n",
       "      <th>count_portfolio_100_to_999</th>\n",
       "      <th>count_portfolio_1000_plus</th>\n",
       "      <th>count_all_portfolios</th>\n",
       "      <th>pct_sf_housing_stock_portfolio_2_to_9</th>\n",
       "      <th>pct_sf_housing_stock_portfolio_10_to_99</th>\n",
       "      <th>pct_sf_housing_stock_portfolio_100_to_999</th>\n",
       "      <th>pct_sf_housing_stock_portfolio_1000_plus</th>\n",
       "      <th>pct_sf_housing_stock_all_portfolios</th>\n",
       "      <th>parcl_id</th>\n",
       "    </tr>\n",
       "  </thead>\n",
       "  <tbody>\n",
       "    <tr>\n",
       "      <th>0</th>\n",
       "      <td>2024-03-01</td>\n",
       "      <td>135863</td>\n",
       "      <td>7295</td>\n",
       "      <td>1033</td>\n",
       "      <td>1998</td>\n",
       "      <td>146189</td>\n",
       "      <td>4.85</td>\n",
       "      <td>0.26</td>\n",
       "      <td>0.04</td>\n",
       "      <td>0.07</td>\n",
       "      <td>5.22</td>\n",
       "      <td>2900187</td>\n",
       "    </tr>\n",
       "    <tr>\n",
       "      <th>1</th>\n",
       "      <td>2024-03-01</td>\n",
       "      <td>194888</td>\n",
       "      <td>10628</td>\n",
       "      <td>861</td>\n",
       "      <td>4339</td>\n",
       "      <td>210716</td>\n",
       "      <td>9.76</td>\n",
       "      <td>0.53</td>\n",
       "      <td>0.04</td>\n",
       "      <td>0.22</td>\n",
       "      <td>10.55</td>\n",
       "      <td>2900078</td>\n",
       "    </tr>\n",
       "    <tr>\n",
       "      <th>2</th>\n",
       "      <td>2024-03-01</td>\n",
       "      <td>97120</td>\n",
       "      <td>16037</td>\n",
       "      <td>2857</td>\n",
       "      <td>10664</td>\n",
       "      <td>126678</td>\n",
       "      <td>4.81</td>\n",
       "      <td>0.79</td>\n",
       "      <td>0.14</td>\n",
       "      <td>0.53</td>\n",
       "      <td>6.28</td>\n",
       "      <td>2899845</td>\n",
       "    </tr>\n",
       "    <tr>\n",
       "      <th>3</th>\n",
       "      <td>2024-03-01</td>\n",
       "      <td>154043</td>\n",
       "      <td>27263</td>\n",
       "      <td>3125</td>\n",
       "      <td>30298</td>\n",
       "      <td>214729</td>\n",
       "      <td>8.02</td>\n",
       "      <td>1.42</td>\n",
       "      <td>0.16</td>\n",
       "      <td>1.58</td>\n",
       "      <td>11.18</td>\n",
       "      <td>2899734</td>\n",
       "    </tr>\n",
       "    <tr>\n",
       "      <th>4</th>\n",
       "      <td>2024-03-01</td>\n",
       "      <td>142690</td>\n",
       "      <td>18455</td>\n",
       "      <td>2118</td>\n",
       "      <td>23161</td>\n",
       "      <td>186424</td>\n",
       "      <td>8.08</td>\n",
       "      <td>1.05</td>\n",
       "      <td>0.12</td>\n",
       "      <td>1.31</td>\n",
       "      <td>10.56</td>\n",
       "      <td>2899967</td>\n",
       "    </tr>\n",
       "  </tbody>\n",
       "</table>\n",
       "</div>"
      ],
      "text/plain": [
       "         date  count_portfolio_2_to_9  count_portfolio_10_to_99  \\\n",
       "0  2024-03-01                  135863                      7295   \n",
       "1  2024-03-01                  194888                     10628   \n",
       "2  2024-03-01                   97120                     16037   \n",
       "3  2024-03-01                  154043                     27263   \n",
       "4  2024-03-01                  142690                     18455   \n",
       "\n",
       "   count_portfolio_100_to_999  count_portfolio_1000_plus  \\\n",
       "0                        1033                       1998   \n",
       "1                         861                       4339   \n",
       "2                        2857                      10664   \n",
       "3                        3125                      30298   \n",
       "4                        2118                      23161   \n",
       "\n",
       "   count_all_portfolios  pct_sf_housing_stock_portfolio_2_to_9  \\\n",
       "0                146189                                   4.85   \n",
       "1                210716                                   9.76   \n",
       "2                126678                                   4.81   \n",
       "3                214729                                   8.02   \n",
       "4                186424                                   8.08   \n",
       "\n",
       "   pct_sf_housing_stock_portfolio_10_to_99  \\\n",
       "0                                     0.26   \n",
       "1                                     0.53   \n",
       "2                                     0.79   \n",
       "3                                     1.42   \n",
       "4                                     1.05   \n",
       "\n",
       "   pct_sf_housing_stock_portfolio_100_to_999  \\\n",
       "0                                       0.04   \n",
       "1                                       0.04   \n",
       "2                                       0.14   \n",
       "3                                       0.16   \n",
       "4                                       0.12   \n",
       "\n",
       "   pct_sf_housing_stock_portfolio_1000_plus  \\\n",
       "0                                      0.07   \n",
       "1                                      0.22   \n",
       "2                                      0.53   \n",
       "3                                      1.58   \n",
       "4                                      1.31   \n",
       "\n",
       "   pct_sf_housing_stock_all_portfolios  parcl_id  \n",
       "0                                 5.22   2900187  \n",
       "1                                10.55   2900078  \n",
       "2                                 6.28   2899845  \n",
       "3                                11.18   2899734  \n",
       "4                                10.56   2899967  "
      ]
     },
     "execution_count": 9,
     "metadata": {},
     "output_type": "execute_result"
    }
   ],
   "source": [
    "# get most recent housing stock for all metros\n",
    "# lets retrieve the portfolio size ownership metrics\n",
    "ports = client.portfolio_metrics_sf_housing_stock_ownership.retrieve_many(\n",
    "    parcl_ids=metro_ids,\n",
    "    as_dataframe=True,\n",
    "    \n",
    ")\n",
    "\n",
    "ports.head()"
   ]
  },
  {
   "cell_type": "code",
   "execution_count": 10,
   "id": "103b55a2-8eb2-43d9-b1e5-f44913977764",
   "metadata": {
    "tags": []
   },
   "outputs": [],
   "source": [
    "# grab columns we want\n",
    "out = pd.merge(ports, metros, on='parcl_id')\n",
    "cols = [\n",
    "    'name',\n",
    "    'pct_sf_housing_stock_portfolio_2_to_9', \n",
    "    'pct_sf_housing_stock_portfolio_10_to_99', \n",
    "    'pct_sf_housing_stock_portfolio_100_to_999',\n",
    "    'pct_sf_housing_stock_portfolio_1000_plus',\n",
    "    'pct_sf_housing_stock_all_portfolios'\n",
    "]\n",
    "out = out[cols]\n",
    "\n",
    "# divide by 100 for charting\n",
    "# out['pct_sf_housing_stock_portfolio_2_to_9'] = out['pct_sf_housing_stock_portfolio_2_to_9']/100\n",
    "# out['pct_sf_housing_stock_portfolio_10_to_99'] = out['pct_sf_housing_stock_portfolio_10_to_99']/100\n",
    "# out['pct_sf_housing_stock_portfolio_100_to_999'] = out['pct_sf_housing_stock_portfolio_100_to_999']/100\n",
    "# out['pct_sf_housing_stock_portfolio_1000_plus'] = out['pct_sf_housing_stock_portfolio_1000_plus']/100\n",
    "# out['pct_sf_housing_stock_all_portfolios'] = out['pct_sf_housing_stock_all_portfolios']/100"
   ]
  },
  {
   "cell_type": "code",
   "execution_count": 23,
   "id": "db4592db-4501-48f7-b54e-d00a970f438f",
   "metadata": {
    "tags": []
   },
   "outputs": [
    {
     "ename": "KeyError",
     "evalue": "'name'",
     "output_type": "error",
     "traceback": [
      "\u001b[0;31m---------------------------------------------------------------------------\u001b[0m",
      "\u001b[0;31mKeyError\u001b[0m                                  Traceback (most recent call last)",
      "File \u001b[0;32m/opt/anaconda3/lib/python3.11/site-packages/pandas/core/indexes/base.py:3791\u001b[0m, in \u001b[0;36mIndex.get_loc\u001b[0;34m(self, key)\u001b[0m\n\u001b[1;32m   3790\u001b[0m \u001b[38;5;28;01mtry\u001b[39;00m:\n\u001b[0;32m-> 3791\u001b[0m     \u001b[38;5;28;01mreturn\u001b[39;00m \u001b[38;5;28mself\u001b[39m\u001b[38;5;241m.\u001b[39m_engine\u001b[38;5;241m.\u001b[39mget_loc(casted_key)\n\u001b[1;32m   3792\u001b[0m \u001b[38;5;28;01mexcept\u001b[39;00m \u001b[38;5;167;01mKeyError\u001b[39;00m \u001b[38;5;28;01mas\u001b[39;00m err:\n",
      "File \u001b[0;32mindex.pyx:152\u001b[0m, in \u001b[0;36mpandas._libs.index.IndexEngine.get_loc\u001b[0;34m()\u001b[0m\n",
      "File \u001b[0;32mindex.pyx:181\u001b[0m, in \u001b[0;36mpandas._libs.index.IndexEngine.get_loc\u001b[0;34m()\u001b[0m\n",
      "File \u001b[0;32mpandas/_libs/hashtable_class_helper.pxi:7080\u001b[0m, in \u001b[0;36mpandas._libs.hashtable.PyObjectHashTable.get_item\u001b[0;34m()\u001b[0m\n",
      "File \u001b[0;32mpandas/_libs/hashtable_class_helper.pxi:7088\u001b[0m, in \u001b[0;36mpandas._libs.hashtable.PyObjectHashTable.get_item\u001b[0;34m()\u001b[0m\n",
      "\u001b[0;31mKeyError\u001b[0m: 'name'",
      "\nThe above exception was the direct cause of the following exception:\n",
      "\u001b[0;31mKeyError\u001b[0m                                  Traceback (most recent call last)",
      "Cell \u001b[0;32mIn[23], line 7\u001b[0m\n\u001b[1;32m      4\u001b[0m     metro \u001b[38;5;241m=\u001b[39m metro\u001b[38;5;241m.\u001b[39msplit(\u001b[38;5;124m'\u001b[39m\u001b[38;5;124m/\u001b[39m\u001b[38;5;124m'\u001b[39m)[\u001b[38;5;241m0\u001b[39m]\u001b[38;5;241m.\u001b[39mstrip()\n\u001b[1;32m      5\u001b[0m     \u001b[38;5;28;01mreturn\u001b[39;00m metro\n\u001b[0;32m----> 7\u001b[0m out[\u001b[38;5;124m'\u001b[39m\u001b[38;5;124mname\u001b[39m\u001b[38;5;124m'\u001b[39m] \u001b[38;5;241m=\u001b[39m out[\u001b[38;5;124m'\u001b[39m\u001b[38;5;124mname\u001b[39m\u001b[38;5;124m'\u001b[39m]\u001b[38;5;241m.\u001b[39mapply(\u001b[38;5;28;01mlambda\u001b[39;00m x: format_names(x))\n\u001b[1;32m      9\u001b[0m out\u001b[38;5;241m.\u001b[39mindex \u001b[38;5;241m=\u001b[39m out\u001b[38;5;241m.\u001b[39mname\n\u001b[1;32m     10\u001b[0m out \u001b[38;5;241m=\u001b[39m out\u001b[38;5;241m.\u001b[39mdrop(\u001b[38;5;124m'\u001b[39m\u001b[38;5;124mname\u001b[39m\u001b[38;5;124m'\u001b[39m, axis\u001b[38;5;241m=\u001b[39m\u001b[38;5;241m1\u001b[39m)\n",
      "File \u001b[0;32m/opt/anaconda3/lib/python3.11/site-packages/pandas/core/frame.py:3893\u001b[0m, in \u001b[0;36mDataFrame.__getitem__\u001b[0;34m(self, key)\u001b[0m\n\u001b[1;32m   3891\u001b[0m \u001b[38;5;28;01mif\u001b[39;00m \u001b[38;5;28mself\u001b[39m\u001b[38;5;241m.\u001b[39mcolumns\u001b[38;5;241m.\u001b[39mnlevels \u001b[38;5;241m>\u001b[39m \u001b[38;5;241m1\u001b[39m:\n\u001b[1;32m   3892\u001b[0m     \u001b[38;5;28;01mreturn\u001b[39;00m \u001b[38;5;28mself\u001b[39m\u001b[38;5;241m.\u001b[39m_getitem_multilevel(key)\n\u001b[0;32m-> 3893\u001b[0m indexer \u001b[38;5;241m=\u001b[39m \u001b[38;5;28mself\u001b[39m\u001b[38;5;241m.\u001b[39mcolumns\u001b[38;5;241m.\u001b[39mget_loc(key)\n\u001b[1;32m   3894\u001b[0m \u001b[38;5;28;01mif\u001b[39;00m is_integer(indexer):\n\u001b[1;32m   3895\u001b[0m     indexer \u001b[38;5;241m=\u001b[39m [indexer]\n",
      "File \u001b[0;32m/opt/anaconda3/lib/python3.11/site-packages/pandas/core/indexes/base.py:3798\u001b[0m, in \u001b[0;36mIndex.get_loc\u001b[0;34m(self, key)\u001b[0m\n\u001b[1;32m   3793\u001b[0m     \u001b[38;5;28;01mif\u001b[39;00m \u001b[38;5;28misinstance\u001b[39m(casted_key, \u001b[38;5;28mslice\u001b[39m) \u001b[38;5;129;01mor\u001b[39;00m (\n\u001b[1;32m   3794\u001b[0m         \u001b[38;5;28misinstance\u001b[39m(casted_key, abc\u001b[38;5;241m.\u001b[39mIterable)\n\u001b[1;32m   3795\u001b[0m         \u001b[38;5;129;01mand\u001b[39;00m \u001b[38;5;28many\u001b[39m(\u001b[38;5;28misinstance\u001b[39m(x, \u001b[38;5;28mslice\u001b[39m) \u001b[38;5;28;01mfor\u001b[39;00m x \u001b[38;5;129;01min\u001b[39;00m casted_key)\n\u001b[1;32m   3796\u001b[0m     ):\n\u001b[1;32m   3797\u001b[0m         \u001b[38;5;28;01mraise\u001b[39;00m InvalidIndexError(key)\n\u001b[0;32m-> 3798\u001b[0m     \u001b[38;5;28;01mraise\u001b[39;00m \u001b[38;5;167;01mKeyError\u001b[39;00m(key) \u001b[38;5;28;01mfrom\u001b[39;00m \u001b[38;5;21;01merr\u001b[39;00m\n\u001b[1;32m   3799\u001b[0m \u001b[38;5;28;01mexcept\u001b[39;00m \u001b[38;5;167;01mTypeError\u001b[39;00m:\n\u001b[1;32m   3800\u001b[0m     \u001b[38;5;66;03m# If we have a listlike key, _check_indexing_error will raise\u001b[39;00m\n\u001b[1;32m   3801\u001b[0m     \u001b[38;5;66;03m#  InvalidIndexError. Otherwise we fall through and re-raise\u001b[39;00m\n\u001b[1;32m   3802\u001b[0m     \u001b[38;5;66;03m#  the TypeError.\u001b[39;00m\n\u001b[1;32m   3803\u001b[0m     \u001b[38;5;28mself\u001b[39m\u001b[38;5;241m.\u001b[39m_check_indexing_error(key)\n",
      "\u001b[0;31mKeyError\u001b[0m: 'name'"
     ]
    }
   ],
   "source": [
    "# define a function to clean up the official names and make them easier to read\n",
    "def format_names(nme):\n",
    "    metro = nme.split(',')[0].split('-')[0].strip()\n",
    "    metro = metro.split('/')[0].strip()\n",
    "    return metro\n",
    "\n",
    "out['name'] = out['name'].apply(lambda x: format_names(x))\n",
    "\n",
    "out.index = out.name\n",
    "out = out.drop('name', axis=1)"
   ]
  },
  {
   "cell_type": "code",
   "execution_count": 25,
   "id": "3a2709fd-a8cf-4a28-924f-df5b5ab46be3",
   "metadata": {
    "tags": []
   },
   "outputs": [],
   "source": [
    "# Define a function to scale the color based on the value\n",
    "def color_scale(value):\n",
    "    # Normalize the value to the new range [0, 2] with a midpoint at 1\n",
    "    if value < 2:\n",
    "        # Scale from light blue to blue as value approaches 1 from 0\n",
    "        normalized = value  # No need to normalize since it's already 0 to 1\n",
    "        r = int(173 + (65 - 173) * normalized)  # Decrease red channel towards darker blue\n",
    "        g = int(216 + (105 - 216) * normalized)  # Decrease green channel towards darker blue\n",
    "        b = int(230 + (225 - 230) * normalized)  # Slightly increase blue channel towards 225\n",
    "    else:\n",
    "        # Scale from blue to dark blue as value goes from 1 to 2\n",
    "        normalized = (value - 1) / 1  # Normalize the upper half from 0 to 1\n",
    "        r = int(65 + (0 - 65) * normalized)  # Decrease red channel towards darkest blue\n",
    "        g = int(105 + (0 - 105) * normalized)  # Decrease green channel towards darkest blue\n",
    "        b = int(225 + (139 - 225) * normalized)  # Decrease blue channel towards darker blue\n",
    "\n",
    "    # Ensure RGB values are within the valid range\n",
    "    r = max(0, min(255, r))\n",
    "    g = max(0, min(255, g))\n",
    "    b = max(0, min(255, b))\n",
    "\n",
    "    return f'rgb({r},{g},{b})'"
   ]
  },
  {
   "cell_type": "code",
   "execution_count": 27,
   "id": "fa471c7e-d27b-403a-9120-d2a5697138ae",
   "metadata": {
    "tags": []
   },
   "outputs": [],
   "source": [
    "# out = out.drop('name', axis=1)\n",
    "charting_data = out.copy(deep=True)"
   ]
  },
  {
   "cell_type": "code",
   "execution_count": 29,
   "id": "d3ff494f-c8ea-413f-87c3-95111a748ed1",
   "metadata": {
    "tags": []
   },
   "outputs": [],
   "source": [
    "charting_data = charting_data.sort_values('pct_sf_housing_stock_portfolio_1000_plus', ascending=False)"
   ]
  },
  {
   "cell_type": "code",
   "execution_count": null,
   "id": "783a052b",
   "metadata": {
    "tags": []
   },
   "outputs": [],
   "source": [
    "import plotly.graph_objects as go\n",
    "import pandas as pd\n",
    "import numpy as np\n",
    "import plotly.graph_objects as go\n",
    "import pandas as pd\n",
    "import numpy as np\n",
    "from datetime import datetime\n",
    "\n",
    "# Assuming charting_data is already defined and contains the necessary columns\n",
    "\n",
    "# Define the function to scale the color based on the value\n",
    "def color_scale(value):\n",
    "    if value < 2:\n",
    "        normalized = value / 2\n",
    "        r = int(173 + (65 - 173) * normalized)\n",
    "        g = int(216 + (105 - 216) * normalized)\n",
    "        b = int(230 + (225 - 230) * normalized)\n",
    "    elif value < 4:\n",
    "        normalized = (value - 2) / 2\n",
    "        r = int(65 + (0 - 65) * normalized)\n",
    "        g = int(105 + (0 - 105) * normalized)\n",
    "        b = int(225 + (139 - 225) * normalized)\n",
    "    else:\n",
    "        r, g, b = 0, 0, 139\n",
    "    r = max(0, min(255, r))\n",
    "    g = max(0, min(255, g))\n",
    "    b = max(0, min(255, b))\n",
    "    return f'rgb({r},{g},{b})'\n",
    "\n",
    "# Prepare data and colors for the table\n",
    "colors = [[] for _ in range(len(charting_data.columns))]\n",
    "formatted_data = []\n",
    "\n",
    "for i, col in enumerate(charting_data.columns):\n",
    "    formatted_column = []\n",
    "    color_column = []\n",
    "    for value in charting_data[col]:\n",
    "        # Formatting all values as bold percentages\n",
    "        formatted_column.append(f\"<b>{value:.2f}%</b>\")\n",
    "        # Apply color scale only to columns other than 'All Portfolios'\n",
    "        if col != 'pct_sf_housing_stock_all_portfolios':\n",
    "            color_column.append(color_scale(value))\n",
    "        else:\n",
    "            color_column.append(\"#080D16\")  # Set 'All Portfolios' background to match the main background color\n",
    "    formatted_data.append(formatted_column)\n",
    "    colors[i] = color_column\n",
    "\n",
    "# Define headers and table layout\n",
    "column_headers = ['2 to 9 Units', '10 to 99 Units', '100 to 999 Units', '1000+ Units', 'All Portfolios']\n",
    "\n",
    "fig = go.Figure(data=[go.Table(\n",
    "    header=dict(values=['<b>Market</b>'] + [f\"<b>{header}</b>\" for header in column_headers],\n",
    "                fill_color='#080D16',\n",
    "                font=dict(color='#FFFFFF', size=12),\n",
    "                align='center',\n",
    "                height=30),\n",
    "    cells=dict(values=[charting_data.index.tolist()] + formatted_data,\n",
    "               fill=dict(color=[['#080D16']*len(charting_data)] + colors),\n",
    "               font=dict(color='#FFFFFF', size=11),\n",
    "               align='center',\n",
    "               height=30)\n",
    ")])\n",
    "\n",
    "# Add the logo image\n",
    "labs_logo_lookup = {\n",
    "    'blue': 'https://parcllabs-assets.s3.amazonaws.com/powered-by-parcllabs-api.png',\n",
    "    'white': 'https://parcllabs-assets.s3.amazonaws.com/powered-by-parcllabs-api-logo-white+(1).svg'\n",
    "}\n",
    "labs_logo_dict = dict(\n",
    "    source=labs_logo_lookup['white'],\n",
    "    xref=\"paper\",\n",
    "    yref=\"paper\",\n",
    "    x=0.5,\n",
    "    y=1.01,\n",
    "    sizex=0.3,\n",
    "    sizey=0.2,\n",
    "    xanchor=\"center\",\n",
    "    yanchor=\"bottom\"\n",
    ")\n",
    "fig.add_layout_image(labs_logo_dict)\n",
    "\n",
    "# Update layout and display the figure\n",
    "fig.update_layout(\n",
    "    title={\n",
    "        'text': 'Percent of Single Family Homes owned by National Portfolio Size',\n",
    "        'y': 0.98,\n",
    "        'x': 0.5,\n",
    "        'xanchor': 'center',\n",
    "        'yanchor': 'top'\n",
    "    },\n",
    "    title_font_color='#FFFFFF',\n",
    "    width=850,\n",
    "    height=1600,\n",
    "    paper_bgcolor='#080D16',\n",
    "    margin=dict(l=10, r=10, t=120, b=10)\n",
    ")\n",
    "fig.show()\n"
   ]
  },
  {
   "cell_type": "code",
   "execution_count": null,
   "id": "ee1f56fa-514b-432a-bea5-985b7b13ee68",
   "metadata": {
    "tags": []
   },
   "outputs": [],
   "source": [
    "out.head()"
   ]
  },
  {
   "cell_type": "code",
   "execution_count": null,
   "id": "e3c070e7-e7b2-4628-99d8-c054b07a8931",
   "metadata": {
    "tags": []
   },
   "outputs": [],
   "source": [
    "\n",
    "for index, row in out.sort_values('pct_sf_housing_stock_portfolio_2_to_9', ascending=False).head(20).iterrows():\n",
    "    name = index\n",
    "    institution = row['pct_sf_housing_stock_portfolio_1000_plus']\n",
    "    mom = row['pct_sf_housing_stock_portfolio_2_to_9']\n",
    "    print(f\"{name}: {mom}% Owned\")"
   ]
  },
  {
   "cell_type": "code",
   "execution_count": null,
   "id": "4579f3d8-2dd8-48fb-ab83-bcd8bead8b47",
   "metadata": {},
   "outputs": [],
   "source": []
  }
 ],
 "metadata": {
  "kernelspec": {
   "display_name": "Python (parcllabs-env)",
   "language": "python",
   "name": "parcllabs-env"
  },
  "language_info": {
   "codemirror_mode": {
    "name": "ipython",
    "version": 3
   },
   "file_extension": ".py",
   "mimetype": "text/x-python",
   "name": "python",
   "nbconvert_exporter": "python",
   "pygments_lexer": "ipython3",
   "version": "3.11.7"
  }
 },
 "nbformat": 4,
 "nbformat_minor": 5
}
