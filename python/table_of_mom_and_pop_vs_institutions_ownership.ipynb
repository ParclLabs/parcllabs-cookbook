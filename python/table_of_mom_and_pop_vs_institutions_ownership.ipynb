{
 "cells": [
  {
   "cell_type": "markdown",
   "id": "8d9dee2b-9603-40d8-a448-f8605aacf623",
   "metadata": {},
   "source": [
    "# Welcome to the Lab 🥼🧪\n",
    "## Which metros have the highest share of mom and pop ownership? Institutional Ownership? \n",
    "\n",
    "**Note** This notebook will work with any of the 70k+ markets supported by the Parcl Labs API.\n",
    "\n",
    "As a reminder, you can get your Parcl Labs API key [here](https://dashboard.parcllabs.com/signup) to follow along. \n",
    "\n",
    "To run this immediately, you can use Google Colab. Remember, you must set your `PARCL_LABS_API_KEY` as a secret. See this [guide](https://medium.com/@parthdasawant/how-to-use-secrets-in-google-colab-450c38e3ec75) for more information.\n",
    "\n",
    "[![Open in Colab](https://colab.research.google.com/assets/colab-badge.svg)](https://colab.research.google.com/github/ParclLabs/parcllabs-examples/blob/main/python/table_of_mom_and_pop_vs_institutions_ownership.ipynb)\n",
    "\n",
    "We will be creating this table: \n",
    "\n",
    "![Chart](assets/top100_metros_mom_and_pops.png)"
   ]
  },
  {
   "cell_type": "code",
   "execution_count": null,
   "id": "64636b5e-2f47-4e05-aab5-e551384bab13",
   "metadata": {
    "tags": []
   },
   "outputs": [],
   "source": [
    "# Environment setup\n",
    "import os\n",
    "import sys\n",
    "import subprocess\n",
    "from datetime import datetime\n",
    "\n",
    "# Collab setup from one click above\n",
    "if \"google.colab\" in sys.modules:\n",
    "    from google.colab import userdata\n",
    "    %pip install parcllabs plotly kaleido\n",
    "    api_key = userdata.get('PARCL_LABS_API_KEY')\n",
    "else:\n",
    "    api_key = os.getenv('PARCL_LABS_API_KEY')"
   ]
  },
  {
   "cell_type": "code",
   "execution_count": null,
   "id": "51941a8b-527f-4612-8aec-29396f3ef068",
   "metadata": {
    "tags": []
   },
   "outputs": [],
   "source": [
    "import parcllabs\n",
    "import pandas as pd\n",
    "import numpy as np\n",
    "import plotly.express as px\n",
    "import plotly.graph_objects as go\n",
    "from parcllabs import ParclLabsClient\n",
    "\n",
    "print(f\"Parcl Labs Version: {parcllabs.__version__}\")"
   ]
  },
  {
   "cell_type": "code",
   "execution_count": null,
   "id": "cc46aa3c-457a-4211-9d6d-904dced07b6a",
   "metadata": {
    "tags": []
   },
   "outputs": [],
   "source": [
    "# instantiate the client\n",
    "client = ParclLabsClient(api_key=api_key, limit=1)"
   ]
  },
  {
   "cell_type": "code",
   "execution_count": null,
   "id": "b24a6f1b-ae9b-4e73-a339-e1a8e2e54a67",
   "metadata": {
    "tags": []
   },
   "outputs": [],
   "source": [
    "# lets get all metros in the country\n",
    "metros = client.search_markets.retrieve(\n",
    "    location_type='CBSA',\n",
    "    as_dataframe=True,\n",
    "    params={\n",
    "        'limit': 100\n",
    "    },\n",
    "    sort_by='TOTAL_POPULATION',\n",
    "    sort_order='DESC'\n",
    ")"
   ]
  },
  {
   "cell_type": "code",
   "execution_count": null,
   "id": "d6cf9f25-af81-4b51-982c-200bc644588f",
   "metadata": {
    "tags": []
   },
   "outputs": [],
   "source": [
    "# get the ids\n",
    "metro_ids = metros['parcl_id'].tolist()\n",
    "len(metro_ids)"
   ]
  },
  {
   "cell_type": "code",
   "execution_count": null,
   "id": "c2733fa3-55ef-46c7-aba9-70fdd0e53874",
   "metadata": {
    "tags": []
   },
   "outputs": [],
   "source": [
    "# get most recent housing stock for all metros\n",
    "# lets retrieve the portfolio size ownership metrics\n",
    "ports = client.portfolio_metrics_sf_housing_stock_ownership.retrieve_many(\n",
    "    parcl_ids=metro_ids,\n",
    "    as_dataframe=True,\n",
    "    \n",
    ")\n",
    "\n",
    "ports.head()"
   ]
  },
  {
   "cell_type": "code",
   "execution_count": null,
   "id": "103b55a2-8eb2-43d9-b1e5-f44913977764",
   "metadata": {
    "tags": []
   },
   "outputs": [],
   "source": [
    "# grab columns we want\n",
    "out = pd.merge(ports, metros, on='parcl_id')\n",
    "cols = [\n",
    "    'name',\n",
    "    'pct_sf_housing_stock_portfolio_2_to_9', \n",
    "    'pct_sf_housing_stock_portfolio_10_to_99', \n",
    "    'pct_sf_housing_stock_portfolio_100_to_999',\n",
    "    'pct_sf_housing_stock_portfolio_1000_plus',\n",
    "    'pct_sf_housing_stock_all_portfolios'\n",
    "]\n",
    "out = out[cols]\n",
    "\n",
    "# divide by 100 for charting\n",
    "# out['pct_sf_housing_stock_portfolio_2_to_9'] = out['pct_sf_housing_stock_portfolio_2_to_9']/100\n",
    "# out['pct_sf_housing_stock_portfolio_10_to_99'] = out['pct_sf_housing_stock_portfolio_10_to_99']/100\n",
    "# out['pct_sf_housing_stock_portfolio_100_to_999'] = out['pct_sf_housing_stock_portfolio_100_to_999']/100\n",
    "# out['pct_sf_housing_stock_portfolio_1000_plus'] = out['pct_sf_housing_stock_portfolio_1000_plus']/100\n",
    "# out['pct_sf_housing_stock_all_portfolios'] = out['pct_sf_housing_stock_all_portfolios']/100"
   ]
  },
  {
   "cell_type": "code",
   "execution_count": null,
   "id": "db4592db-4501-48f7-b54e-d00a970f438f",
   "metadata": {
    "tags": []
   },
   "outputs": [],
   "source": [
    "# define a function to clean up the official names and make them easier to read\n",
    "def format_names(nme):\n",
    "    metro = nme.split(',')[0].split('-')[0].strip()\n",
    "    metro = metro.split('/')[0].strip()\n",
    "    return metro\n",
    "\n",
    "out['name'] = out['name'].apply(lambda x: format_names(x))\n",
    "\n",
    "out.index = out.name\n",
    "out = out.drop('name', axis=1)"
   ]
  },
  {
   "cell_type": "code",
   "execution_count": null,
   "id": "3a2709fd-a8cf-4a28-924f-df5b5ab46be3",
   "metadata": {
    "tags": []
   },
   "outputs": [],
   "source": [
    "# Define a function to scale the color based on the value\n",
    "def color_scale(value):\n",
    "    # Normalize the value to the new range [0, 2] with a midpoint at 1\n",
    "    if value < 2:\n",
    "        # Scale from light blue to blue as value approaches 1 from 0\n",
    "        normalized = value  # No need to normalize since it's already 0 to 1\n",
    "        r = int(173 + (65 - 173) * normalized)  # Decrease red channel towards darker blue\n",
    "        g = int(216 + (105 - 216) * normalized)  # Decrease green channel towards darker blue\n",
    "        b = int(230 + (225 - 230) * normalized)  # Slightly increase blue channel towards 225\n",
    "    else:\n",
    "        # Scale from blue to dark blue as value goes from 1 to 2\n",
    "        normalized = (value - 1) / 1  # Normalize the upper half from 0 to 1\n",
    "        r = int(65 + (0 - 65) * normalized)  # Decrease red channel towards darkest blue\n",
    "        g = int(105 + (0 - 105) * normalized)  # Decrease green channel towards darkest blue\n",
    "        b = int(225 + (139 - 225) * normalized)  # Decrease blue channel towards darker blue\n",
    "\n",
    "    # Ensure RGB values are within the valid range\n",
    "    r = max(0, min(255, r))\n",
    "    g = max(0, min(255, g))\n",
    "    b = max(0, min(255, b))\n",
    "\n",
    "    return f'rgb({r},{g},{b})'"
   ]
  },
  {
   "cell_type": "code",
   "execution_count": null,
   "id": "d3ff494f-c8ea-413f-87c3-95111a748ed1",
   "metadata": {
    "tags": []
   },
   "outputs": [],
   "source": [
    "charting_data = out.copy(deep=True)\n",
    "charting_data = charting_data.sort_values('pct_sf_housing_stock_portfolio_1000_plus', ascending=False)"
   ]
  },
  {
   "cell_type": "code",
   "execution_count": null,
   "id": "783a052b",
   "metadata": {
    "tags": []
   },
   "outputs": [],
   "source": [
    "# Define the function to scale the color based on the value\n",
    "def color_scale(value):\n",
    "    if value < 2:\n",
    "        normalized = value / 2\n",
    "        r = int(173 + (65 - 173) * normalized)\n",
    "        g = int(216 + (105 - 216) * normalized)\n",
    "        b = int(230 + (225 - 230) * normalized)\n",
    "    elif value < 4:\n",
    "        normalized = (value - 2) / 2\n",
    "        r = int(65 + (0 - 65) * normalized)\n",
    "        g = int(105 + (0 - 105) * normalized)\n",
    "        b = int(225 + (139 - 225) * normalized)\n",
    "    else:\n",
    "        r, g, b = 0, 0, 139\n",
    "    r = max(0, min(255, r))\n",
    "    g = max(0, min(255, g))\n",
    "    b = max(0, min(255, b))\n",
    "    return f'rgb({r},{g},{b})'\n",
    "\n",
    "# Prepare data and colors for the table\n",
    "colors = [[] for _ in range(len(charting_data.columns))]\n",
    "formatted_data = []\n",
    "\n",
    "for i, col in enumerate(charting_data.columns):\n",
    "    formatted_column = []\n",
    "    color_column = []\n",
    "    for value in charting_data[col]:\n",
    "        # Formatting all values as bold percentages\n",
    "        formatted_column.append(f\"<b>{value:.2f}%</b>\")\n",
    "        # Apply color scale only to columns other than 'All Portfolios'\n",
    "        if col != 'pct_sf_housing_stock_all_portfolios':\n",
    "            color_column.append(color_scale(value))\n",
    "        else:\n",
    "            color_column.append(\"#080D16\")  # Set 'All Portfolios' background to match the main background color\n",
    "    formatted_data.append(formatted_column)\n",
    "    colors[i] = color_column\n",
    "\n",
    "# Define headers and table layout\n",
    "column_headers = ['2 to 9 Units', '10 to 99 Units', '100 to 999 Units', '1000+ Units', 'All Portfolios']\n",
    "\n",
    "fig = go.Figure(data=[go.Table(\n",
    "    header=dict(values=['<b>Market</b>'] + [f\"<b>{header}</b>\" for header in column_headers],\n",
    "                fill_color='#080D16',\n",
    "                font=dict(color='#FFFFFF', size=12),\n",
    "                align='center',\n",
    "                height=30),\n",
    "    cells=dict(values=[charting_data.index.tolist()] + formatted_data,\n",
    "               fill=dict(color=[['#080D16']*len(charting_data)] + colors),\n",
    "               font=dict(color='#FFFFFF', size=11),\n",
    "               align='center',\n",
    "               height=30)\n",
    ")])\n",
    "\n",
    "# Add the logo image\n",
    "labs_logo_lookup = {\n",
    "    'blue': 'https://parcllabs-assets.s3.amazonaws.com/powered-by-parcllabs-api.png',\n",
    "    'white': 'https://parcllabs-assets.s3.amazonaws.com/powered-by-parcllabs-api-logo-white+(1).svg'\n",
    "}\n",
    "labs_logo_dict = dict(\n",
    "    source=labs_logo_lookup['white'],\n",
    "    xref=\"paper\",\n",
    "    yref=\"paper\",\n",
    "    x=0.5,\n",
    "    y=1.01,\n",
    "    sizex=0.3,\n",
    "    sizey=0.2,\n",
    "    xanchor=\"center\",\n",
    "    yanchor=\"bottom\"\n",
    ")\n",
    "fig.add_layout_image(labs_logo_dict)\n",
    "\n",
    "# Update layout and display the figure\n",
    "fig.update_layout(\n",
    "    title={\n",
    "        'text': 'Percent of Single Family Homes owned by National Portfolio Size',\n",
    "        'y': 0.98,\n",
    "        'x': 0.5,\n",
    "        'xanchor': 'center',\n",
    "        'yanchor': 'top'\n",
    "    },\n",
    "    title_font_color='#FFFFFF',\n",
    "    width=850,\n",
    "    height=1600,\n",
    "    paper_bgcolor='#080D16',\n",
    "    margin=dict(l=10, r=10, t=120, b=10)\n",
    ")\n",
    "fig.show()\n"
   ]
  },
  {
   "cell_type": "code",
   "execution_count": null,
   "id": "e3c070e7-e7b2-4628-99d8-c054b07a8931",
   "metadata": {
    "tags": []
   },
   "outputs": [],
   "source": [
    "for index, row in out.sort_values('pct_sf_housing_stock_portfolio_2_to_9', ascending=False).head(20).iterrows():\n",
    "    name = index\n",
    "    institution = row['pct_sf_housing_stock_portfolio_1000_plus']\n",
    "    mom = row['pct_sf_housing_stock_portfolio_2_to_9']\n",
    "    print(f\"{name}: {mom}% Owned\")"
   ]
  },
  {
   "cell_type": "code",
   "execution_count": null,
   "id": "f5dec31f-7569-4d23-8194-ad121b6a55c5",
   "metadata": {},
   "outputs": [],
   "source": []
  }
 ],
 "metadata": {
  "kernelspec": {
   "display_name": "Python (parcllabs-env)",
   "language": "python",
   "name": "parcllabs-env"
  },
  "language_info": {
   "codemirror_mode": {
    "name": "ipython",
    "version": 3
   },
   "file_extension": ".py",
   "mimetype": "text/x-python",
   "name": "python",
   "nbconvert_exporter": "python",
   "pygments_lexer": "ipython3",
   "version": "3.11.7"
  }
 },
 "nbformat": 4,
 "nbformat_minor": 5
}
