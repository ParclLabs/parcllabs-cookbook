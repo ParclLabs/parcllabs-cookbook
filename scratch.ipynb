{
 "cells": [
  {
   "cell_type": "code",
   "execution_count": 1,
   "metadata": {},
   "outputs": [],
   "source": [
    "# Environment setup\n",
    "import os\n",
    "import sys\n",
    "import subprocess\n",
    "from datetime import datetime\n",
    "\n",
    "# Collab setup from one click above\n",
    "if \"google.colab\" in sys.modules:\n",
    "    from google.colab import userdata\n",
    "    %pip install parcllabs plotly kaleido\n",
    "    api_key = userdata.get('PARCL_LABS_API_KEY')\n",
    "else:\n",
    "    api_key = os.getenv('PARCL_LABS_API_KEY')"
   ]
  },
  {
   "cell_type": "code",
   "execution_count": 2,
   "metadata": {},
   "outputs": [
    {
     "name": "stdout",
     "output_type": "stream",
     "text": [
      "Parcl Labs Version: 0.1.18\n"
     ]
    }
   ],
   "source": [
    "import parcllabs\n",
    "import pandas as pd\n",
    "import plotly.express as px\n",
    "from parcllabs import ParclLabsClient\n",
    "\n",
    "print(f\"Parcl Labs Version: {parcllabs.__version__}\")"
   ]
  },
  {
   "cell_type": "code",
   "execution_count": 8,
   "metadata": {},
   "outputs": [
    {
     "data": {
      "text/html": [
       "<div>\n",
       "<style scoped>\n",
       "    .dataframe tbody tr th:only-of-type {\n",
       "        vertical-align: middle;\n",
       "    }\n",
       "\n",
       "    .dataframe tbody tr th {\n",
       "        vertical-align: top;\n",
       "    }\n",
       "\n",
       "    .dataframe thead th {\n",
       "        text-align: right;\n",
       "    }\n",
       "</style>\n",
       "<table border=\"1\" class=\"dataframe\">\n",
       "  <thead>\n",
       "    <tr style=\"text-align: right;\">\n",
       "      <th></th>\n",
       "      <th>parcl_id</th>\n",
       "      <th>country</th>\n",
       "      <th>geoid</th>\n",
       "      <th>state_fips_code</th>\n",
       "      <th>name</th>\n",
       "      <th>state_abbreviation</th>\n",
       "      <th>region</th>\n",
       "      <th>location_type</th>\n",
       "      <th>total_population</th>\n",
       "      <th>median_income</th>\n",
       "      <th>parcl_exchange_market</th>\n",
       "      <th>pricefeed_market</th>\n",
       "      <th>case_shiller_10_market</th>\n",
       "      <th>case_shiller_20_market</th>\n",
       "    </tr>\n",
       "  </thead>\n",
       "  <tbody>\n",
       "    <tr>\n",
       "      <th>0</th>\n",
       "      <td>2900289</td>\n",
       "      <td>USA</td>\n",
       "      <td>39900</td>\n",
       "      <td>None</td>\n",
       "      <td>Reno, Nv</td>\n",
       "      <td>None</td>\n",
       "      <td>None</td>\n",
       "      <td>CBSA</td>\n",
       "      <td>490769</td>\n",
       "      <td>81576</td>\n",
       "      <td>0</td>\n",
       "      <td>0</td>\n",
       "      <td>0</td>\n",
       "      <td>0</td>\n",
       "    </tr>\n",
       "  </tbody>\n",
       "</table>\n",
       "</div>"
      ],
      "text/plain": [
       "   parcl_id country  geoid state_fips_code      name state_abbreviation  \\\n",
       "0   2900289     USA  39900            None  Reno, Nv               None   \n",
       "\n",
       "  region location_type  total_population  median_income  \\\n",
       "0   None          CBSA            490769          81576   \n",
       "\n",
       "   parcl_exchange_market  pricefeed_market  case_shiller_10_market  \\\n",
       "0                      0                 0                       0   \n",
       "\n",
       "   case_shiller_20_market  \n",
       "0                       0  "
      ]
     },
     "execution_count": 8,
     "metadata": {},
     "output_type": "execute_result"
    }
   ],
   "source": [
    "# instantiate the client\n",
    "client = ParclLabsClient(api_key=api_key)\n",
    "\n",
    "# lets search for Reno, metro area (i.e. CBSA)\n",
    "reno = client.search_markets.retrieve(\n",
    "    query='Reno',\n",
    "    location_type='CBSA',\n",
    "    as_dataframe=True,\n",
    ")\n",
    "\n",
    "reno"
   ]
  },
  {
   "cell_type": "code",
   "execution_count": null,
   "metadata": {},
   "outputs": [],
   "source": [
    "Reno Metro: 2900289\n",
    "Las Vegas: 2900049"
   ]
  }
 ],
 "metadata": {
  "kernelspec": {
   "display_name": "parcllabs-env",
   "language": "python",
   "name": "python3"
  },
  "language_info": {
   "codemirror_mode": {
    "name": "ipython",
    "version": 3
   },
   "file_extension": ".py",
   "mimetype": "text/x-python",
   "name": "python",
   "nbconvert_exporter": "python",
   "pygments_lexer": "ipython3",
   "version": "3.11.9"
  }
 },
 "nbformat": 4,
 "nbformat_minor": 2
}
