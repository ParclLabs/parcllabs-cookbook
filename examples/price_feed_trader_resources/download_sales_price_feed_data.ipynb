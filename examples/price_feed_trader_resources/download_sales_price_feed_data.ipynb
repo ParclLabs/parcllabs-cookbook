{
 "cells": [
  {
   "cell_type": "markdown",
   "metadata": {},
   "source": [
    "<center>\n",
    "<h1>Welcome to the Lab 🥼🧪</h1>\n",
    "</center>\n",
    "\n",
    "### How do I retrieve and download price feeds for historical backtesting?\n",
    "\n",
    "In this notebook, we will retrieve all price feeds, back to 2011, for markets currently tradeable on the [Parcl Exchange](https://app.parcl.co/collection/active-markets)\n",
    "\n",
    "**Note** This notebook will work with any of the dozens of daily price feeds available.\n",
    "\n",
    "#### What will you create in this notebook?\n",
    "\n",
    "In this notebook, we will create a spreadsheet for backtesting like the one below:\n",
    "\n",
    "| date       | price_feed | parcl_id | name        | location_type | total_population | median_income |\n",
    "|------------|------------|----------|-------------|---------------|------------------|---------------|\n",
    "| 2024-06-17 | 415.29     | 5306725  | Denver City | CITY          | 710800           | 85853         |\n",
    "| 2024-06-16 | 415.16     | 5306725  | Denver City | CITY          | 710800           | 85853         |\n",
    "| 2024-06-15 | 414.92     | 5306725  | Denver City | CITY          | 710800           | 85853         |\n",
    "| 2024-06-14 | 414.58     | 5306725  | Denver City | CITY          | 710800           | 85853         |\n",
    "| 2024-06-13 | 414.61     | 5306725  | Denver City | CITY          | 710800           | 85853         |\n",
    "\n",
    "\n",
    "#### Need help getting started?\n",
    "\n",
    "As a reminder, you can get your Parcl Labs API key [here](https://dashboard.parcllabs.com/signup) to follow along.\n",
    "\n",
    "To run this immediately, you can use Google Colab. Remember, you must set your `PARCL_LABS_API_KEY`.\n",
    "\n",
    "Run in collab --> [![Open in Colab](https://colab.research.google.com/assets/colab-badge.svg)](https://colab.research.google.com/github/ParclLabs/parcllabs-cookbook/blob/main/examples/price_feed_trader_resources/download_sales_price_feed_data.ipynb)"
   ]
  },
  {
   "cell_type": "markdown",
   "metadata": {},
   "source": [
    "### 1. Import the Parcl Labs Python Library"
   ]
  },
  {
   "cell_type": "code",
   "execution_count": null,
   "metadata": {},
   "outputs": [],
   "source": [
    "# if needed, install and/or upgrade to the latest verison of the Parcl Labs Python library\n",
    "%pip install --upgrade parcllabs matplotlib"
   ]
  },
  {
   "cell_type": "code",
   "execution_count": null,
   "metadata": {},
   "outputs": [],
   "source": [
    "import os\n",
    "from parcllabs import ParclLabsClient\n",
    "\n",
    "client = ParclLabsClient(\n",
    "    api_key=os.environ.get('PARCL_LABS_API_KEY', \"<your Parcl Labs API key if not set as environment variable>\"), \n",
    "    limit=12 # set default limit\n",
    ")"
   ]
  },
  {
   "cell_type": "markdown",
   "metadata": {},
   "source": [
    "### 2. Search for Parcl Exchange Markets"
   ]
  },
  {
   "cell_type": "code",
   "execution_count": null,
   "metadata": {},
   "outputs": [],
   "source": [
    "# lets get all US markets currently available to trade on the Parcl Exchange\n",
    "# Now lets say you want all price feed markets that are on the parcl exchange\n",
    "sales_pricefeed_markets = client.search.markets.retrieve(\n",
    "    sort_by='PARCL_EXCHANGE_MARKET',\n",
    "    limit=15,  # expand the default limit to 14, as of this writing, 14 markets are available\n",
    ")\n",
    "\n",
    "sales_pricefeed_markets"
   ]
  },
  {
   "cell_type": "code",
   "execution_count": null,
   "metadata": {},
   "outputs": [],
   "source": [
    "# lets store the parcl_ids of the markets we are interested in\n",
    "sales_pricefeed_parcl_ids = sales_pricefeed_markets['parcl_id'].tolist()"
   ]
  },
  {
   "cell_type": "markdown",
   "metadata": {},
   "source": [
    "### 3. Retrieve Sales Price Feeds Data"
   ]
  },
  {
   "cell_type": "code",
   "execution_count": null,
   "metadata": {},
   "outputs": [],
   "source": [
    "# lets retrieve data back to 2011 for these price feeds\n",
    "START_DATE = '2011-01-01'\n",
    "\n",
    "sales_price_feeds = client.price_feed.price_feed.retrieve(\n",
    "    parcl_ids=sales_pricefeed_parcl_ids,\n",
    "    start_date=START_DATE,\n",
    "    limit=1000,  # expand the limit to 1000, these are daily series\n",
    "    auto_paginate=True, # auto paginate to get all the data - WARNING: ~6k credits can be used in one parcl price feed. Change the START_DATE to a more recent date to reduce the number of credits used\n",
    ")\n",
    "\n",
    "sales_price_feeds.head()"
   ]
  },
  {
   "cell_type": "code",
   "execution_count": null,
   "metadata": {},
   "outputs": [],
   "source": [
    "# 5384169 corresponds to Atlanta city\n",
    "ATL = 5384169\n",
    "sales_price_feeds.loc[sales_price_feeds['parcl_id'] == ATL].sort_values('date').plot(x='date', y='price_feed')"
   ]
  },
  {
   "cell_type": "markdown",
   "metadata": {},
   "source": [
    "### 4. Create a Spreadsheet for Backtesting"
   ]
  },
  {
   "cell_type": "code",
   "execution_count": null,
   "metadata": {},
   "outputs": [],
   "source": [
    "# lets pull in name, location_type, total_population, and median_income\n",
    "df = sales_price_feeds.merge(sales_pricefeed_markets[['parcl_id', 'name', 'location_type', 'total_population', 'median_income']], on='parcl_id', how='inner')\n",
    "df.head()"
   ]
  },
  {
   "cell_type": "code",
   "execution_count": null,
   "metadata": {},
   "outputs": [],
   "source": [
    "# save to csv\n",
    "df.to_csv('parcl_data.csv', index=False)"
   ]
  }
 ],
 "metadata": {
  "kernelspec": {
   "display_name": "parcllabs-env",
   "language": "python",
   "name": "python3"
  },
  "language_info": {
   "codemirror_mode": {
    "name": "ipython",
    "version": 3
   },
   "file_extension": ".py",
   "mimetype": "text/x-python",
   "name": "python",
   "nbconvert_exporter": "python",
   "pygments_lexer": "ipython3",
   "version": "3.11.9"
  }
 },
 "nbformat": 4,
 "nbformat_minor": 2
}
