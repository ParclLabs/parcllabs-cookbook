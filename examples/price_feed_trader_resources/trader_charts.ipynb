{
 "cells": [
  {
   "cell_type": "markdown",
   "metadata": {},
   "source": [
    "<center>\n",
    "<h1>Welcome to the Lab 🥼🧪</h1>\n",
    "</center>\n",
    "\n",
    "### How can I create technical chart analysis of real time price feeds?\n",
    "\n",
    "In this notebook, we will be creating a simple technical analysis chart of real time price feeds. It will include rates of change for prices overlayed by housing demand metrics via home purchases.\n",
    "\n",
    "#### What will you create in this notebook?\n",
    "\n",
    "<p align=\"center\">\n",
    "  <img src=\"../../images/technical_pf_usa_vs_demand_chart.png\" alt=\"Alt text\">\n",
    "</p>\n",
    "\n",
    "#### Need help getting started?\n",
    "\n",
    "As a reminder, you can get your Parcl Labs API key [here](https://dashboard.parcllabs.com/signup) to follow along.\n",
    "\n",
    "To run this immediately, you can use Google Colab. Remember, you must set your `PARCL_LABS_API_KEY`.\n",
    "\n",
    "Run in collab --> [![Open in Colab](https://colab.research.google.com/assets/colab-badge.svg)](https://colab.research.google.com/github/ParclLabs/parcllabs-cookbook/blob/main/examples/price_feed_trader_resources/trader_charts.ipynb)"
   ]
  },
  {
   "cell_type": "markdown",
   "metadata": {},
   "source": [
    "### 1. Import the Parcl Labs Python Library"
   ]
  },
  {
   "cell_type": "code",
   "execution_count": 2,
   "metadata": {},
   "outputs": [],
   "source": [
    "# if needed, install and/or upgrade to the latest verison of the Parcl Labs Python library\n",
    "%pip install --upgrade parcllabs nbformat"
   ]
  },
  {
   "cell_type": "code",
   "execution_count": 3,
   "metadata": {},
   "outputs": [],
   "source": [
    "import os\n",
    "import numpy as np\n",
    "import pandas as pd\n",
    "from parcllabs import ParclLabsClient\n",
    "from parcllabs.beta.ts_stats import TimeSeriesAnalysis\n",
    "from parcllabs.beta.charting.name_formats import format_names, create_ticker\n",
    "from parcllabs.beta.charting.technical_charts import build_technical_chart\n",
    "\n",
    "client = ParclLabsClient(\n",
    "    api_key=os.environ.get('PARCL_LABS_API_KEY', \"<your Parcl Labs API key if not set as environment variable>\"), \n",
    "    limit=12 # set default limit\n",
    ")"
   ]
  },
  {
   "cell_type": "markdown",
   "metadata": {},
   "source": [
    "### 2. Search for Price Feed Markets on Parcl Exchange"
   ]
  },
  {
   "cell_type": "code",
   "execution_count": 4,
   "metadata": {},
   "outputs": [],
   "source": [
    "sales_pricefeed_markets = client.search.markets.retrieve(\n",
    "    sort_by='PARCL_EXCHANGE_MARKET',\n",
    "    sort_order='DESC',\n",
    "    limit=15\n",
    ")\n",
    "\n",
    "sales_pricefeed_markets['clean_name'] = sales_pricefeed_markets['name'].apply(format_names)\n",
    "sales_pricefeed_markets['ticker'] = sales_pricefeed_markets['clean_name'].apply(create_ticker)"
   ]
  },
  {
   "cell_type": "markdown",
   "metadata": {},
   "source": [
    "### 3. Load the data for sales price feeds and sales demand"
   ]
  },
  {
   "cell_type": "code",
   "execution_count": 5,
   "metadata": {},
   "outputs": [
    {
     "name": "stdout",
     "output_type": "stream",
     "text": [
      "|████████████████████████████████████████| 15/15 [100%] in 4.6s (3.27/s) \n"
     ]
    }
   ],
   "source": [
    "# lets retrieve data back to 2011 for these price feeds\n",
    "START_DATE = '2019-01-01'\n",
    "sales_price_feeds = client.price_feed.price_feed.retrieve(\n",
    "    parcl_ids=sales_pricefeed_markets['parcl_id'].tolist(),\n",
    "    start_date=START_DATE,\n",
    "    limit=1000,  # expand the limit to 1000, these are daily series\n",
    "    auto_paginate=True, # auto paginate to get all the data - WARNING: ~6k credits can be used in one parcl price feed. Change the START_DATE to a more recent date to reduce the number of credits used\n",
    ")"
   ]
  },
  {
   "cell_type": "code",
   "execution_count": 6,
   "metadata": {},
   "outputs": [
    {
     "name": "stdout",
     "output_type": "stream",
     "text": [
      "|████████████████████████████████████████| 15/15 [100%] in 1.2s (12.51/s) \n"
     ]
    }
   ],
   "source": [
    "# get supply and demand\n",
    "demand = client.market_metrics.housing_event_counts.retrieve(\n",
    "    parcl_ids=sales_pricefeed_markets['parcl_id'].tolist(),\n",
    "    start_date=START_DATE,\n",
    "    limit=1000,  # expand the limit to 1000, these are daily series\n",
    ")"
   ]
  },
  {
   "cell_type": "markdown",
   "metadata": {},
   "source": [
    "### Prepare the data for analysis/charting"
   ]
  },
  {
   "cell_type": "code",
   "execution_count": 7,
   "metadata": {},
   "outputs": [
    {
     "data": {
      "text/html": [
       "<div>\n",
       "<style scoped>\n",
       "    .dataframe tbody tr th:only-of-type {\n",
       "        vertical-align: middle;\n",
       "    }\n",
       "\n",
       "    .dataframe tbody tr th {\n",
       "        vertical-align: top;\n",
       "    }\n",
       "\n",
       "    .dataframe thead th {\n",
       "        text-align: right;\n",
       "    }\n",
       "</style>\n",
       "<table border=\"1\" class=\"dataframe\">\n",
       "  <thead>\n",
       "    <tr style=\"text-align: right;\">\n",
       "      <th></th>\n",
       "      <th>parcl_id</th>\n",
       "      <th>country</th>\n",
       "      <th>geoid</th>\n",
       "      <th>state_fips_code</th>\n",
       "      <th>name</th>\n",
       "      <th>state_abbreviation</th>\n",
       "      <th>region</th>\n",
       "      <th>location_type</th>\n",
       "      <th>total_population</th>\n",
       "      <th>median_income</th>\n",
       "      <th>parcl_exchange_market</th>\n",
       "      <th>pricefeed_market</th>\n",
       "      <th>case_shiller_10_market</th>\n",
       "      <th>case_shiller_20_market</th>\n",
       "      <th>clean_name</th>\n",
       "      <th>ticker</th>\n",
       "    </tr>\n",
       "  </thead>\n",
       "  <tbody>\n",
       "    <tr>\n",
       "      <th>3</th>\n",
       "      <td>5377230</td>\n",
       "      <td>USA</td>\n",
       "      <td>3240000</td>\n",
       "      <td>32</td>\n",
       "      <td>Las Vegas City</td>\n",
       "      <td>NV</td>\n",
       "      <td>MOUNTAIN</td>\n",
       "      <td>CITY</td>\n",
       "      <td>644835</td>\n",
       "      <td>66356</td>\n",
       "      <td>1</td>\n",
       "      <td>1</td>\n",
       "      <td>0</td>\n",
       "      <td>0</td>\n",
       "      <td>Las Vegas City</td>\n",
       "      <td>LAS</td>\n",
       "    </tr>\n",
       "  </tbody>\n",
       "</table>\n",
       "</div>"
      ],
      "text/plain": [
       "   parcl_id country    geoid state_fips_code            name  \\\n",
       "3   5377230     USA  3240000              32  Las Vegas City   \n",
       "\n",
       "  state_abbreviation    region location_type  total_population  median_income  \\\n",
       "3                 NV  MOUNTAIN          CITY            644835          66356   \n",
       "\n",
       "   parcl_exchange_market  pricefeed_market  case_shiller_10_market  \\\n",
       "3                      1                 1                       0   \n",
       "\n",
       "   case_shiller_20_market      clean_name ticker  \n",
       "3                       0  Las Vegas City   LAS   "
      ]
     },
     "execution_count": 7,
     "metadata": {},
     "output_type": "execute_result"
    }
   ],
   "source": [
    "# lets analyze las vegas city with parcl_id: 5377230\n",
    "# we can confirm via:\n",
    "las_vegas_pid = 5377230\n",
    "sales_pricefeed_markets[sales_pricefeed_markets['parcl_id'] == las_vegas_pid]"
   ]
  },
  {
   "cell_type": "code",
   "execution_count": 8,
   "metadata": {},
   "outputs": [],
   "source": [
    "lv_pricefeed = sales_price_feeds[sales_price_feeds['parcl_id'] == las_vegas_pid].copy()\n",
    "lv_demand = demand[demand['parcl_id'] == las_vegas_pid].copy()\n",
    "# sort ascending order\n",
    "lv_pricefeed = lv_pricefeed.sort_values('date')\n",
    "lv_demand = lv_demand.sort_values('date')\n",
    "lv_metadata = sales_pricefeed_markets[sales_pricefeed_markets['parcl_id'] == las_vegas_pid]\n",
    "ticker = lv_metadata['ticker'].values[0]\n",
    "name = lv_metadata['clean_name'].values[0]\n",
    "\n",
    "pf_ts_analysis = TimeSeriesAnalysis(lv_pricefeed, 'date', 'price_feed', freq='D')\n",
    "pf_rate_of_change_stats = pf_ts_analysis.calculate_changes()\n",
    "\n",
    "demand_ts_analysis = TimeSeriesAnalysis(lv_demand, 'date', 'sales', freq='M')\n",
    "demand_rate_of_change_stats = demand_ts_analysis.calculate_changes()"
   ]
  },
  {
   "cell_type": "code",
   "execution_count": 9,
   "metadata": {},
   "outputs": [],
   "source": [
    "\n",
    "# get last information for pricefeed\n",
    "last_pricefeed_value = pf_rate_of_change_stats['last']['value']\n",
    "last_pricefeed_date_str = pf_rate_of_change_stats['last']['date']\n",
    "last_pricefeed_date = pd.to_datetime(last_pricefeed_date_str).strftime('%-d %B')\n",
    "last_pf_date = pd.to_datetime(last_pricefeed_date_str).strftime('%-d-%B-%Y')\n",
    "\n",
    "# get last information for demand\n",
    "last_demand_value = demand_rate_of_change_stats['last']['value']\n",
    "last_sales_month = pd.to_datetime(demand_rate_of_change_stats['last']['date']).strftime('%b')"
   ]
  },
  {
   "cell_type": "code",
   "execution_count": 10,
   "metadata": {},
   "outputs": [],
   "source": [
    "# calculate daily return\n",
    "lv_pricefeed['daily_return'] = lv_pricefeed['price_feed'].pct_change()\n",
    "# drop na values\n",
    "lv_pricefeed = lv_pricefeed.dropna().reset_index(drop=True)\n",
    "lv_pricefeed['month'] = lv_pricefeed['date'].dt.month\n",
    "lv_demand['month'] = lv_demand['date'].dt.month\n",
    "# start and end of the month change\n",
    "monthly_returns = lv_pricefeed.groupby('month')['price_feed'].agg(lambda x: x.iloc[-1] / x.iloc[0] - 1).reset_index(name='volColor')"
   ]
  },
  {
   "cell_type": "code",
   "execution_count": 11,
   "metadata": {},
   "outputs": [],
   "source": [
    "# merge monthly returns\n",
    "lv_pricefeed = lv_pricefeed.merge(monthly_returns, on='month', how='left')\n",
    "lv_demand = lv_demand.merge(monthly_returns, on='month', how='left')"
   ]
  },
  {
   "cell_type": "code",
   "execution_count": 12,
   "metadata": {},
   "outputs": [],
   "source": [
    "# Add volColor column directly to data_secondary\n",
    "lv_demand['volColor'] = np.where(lv_demand['volColor'] >= 0, 'green', 'red')"
   ]
  },
  {
   "cell_type": "code",
   "execution_count": 13,
   "metadata": {},
   "outputs": [],
   "source": [
    "# chart labels\n",
    "msg = f\"\"\"\n",
    "<b>52w High</b> {pf_rate_of_change_stats['52_week_high']['value']:.2f} \n",
    "<b>52w Low</b> {pf_rate_of_change_stats['52_week_low']['value']:.2f} \n",
    "<b>Last</b> {pf_rate_of_change_stats['last']['value']:.2f} \n",
    "<b>YoY Change</b> {pf_rate_of_change_stats['12_month']['value_diff']} ({pf_rate_of_change_stats['12_month']['percent_change']*100:.02f}%)\n",
    "\"\"\"\n",
    "msg = msg.replace('\\n', '')\n",
    "\n",
    "\n",
    "ticker_msg = f\"<b>{ticker}</b> {name} Parcl Exchange\"\n",
    "volume_msg = f'Sales Volume (Monthly) {last_demand_value:,} ({last_sales_month})'\n",
    "pricefeed_msg = f'{ticker} (Daily) ${last_pricefeed_value} ({last_pricefeed_date})'"
   ]
  },
  {
   "cell_type": "code",
   "execution_count": 14,
   "metadata": {},
   "outputs": [
    {
     "data": {
      "application/vnd.plotly.v1+json": {
       "config": {
        "plotlyServerURL": "https://plot.ly"
       },
       "data": [
        {
         "hoverinfo": "none",
         "line": {
          "color": "green",
          "width": 3
         },
         "mode": "lines",
         "showlegend": false,
         "type": "scatter",
         "x": [
          "2019-01-02T00:00:00",
          "2019-01-03T00:00:00"
         ],
         "xaxis": "x",
         "y": [
          162.17,
          162.3
         ],
         "yaxis": "y"
        },
        {
         "hoverinfo": "none",
         "line": {
          "color": "green",
          "width": 3
         },
         "mode": "lines",
         "showlegend": false,
         "type": "scatter",
         "x": [
          "2019-01-03T00:00:00",
          "2019-01-04T00:00:00"
         ],
         "xaxis": "x",
         "y": [
          162.3,
          162.32
         ],
         "yaxis": "y"
        },
        {
         "hoverinfo": "none",
         "line": {
          "color": "green",
          "width": 3
         },
         "mode": "lines",
         "showlegend": false,
         "type": "scatter",
         "x": [
          "2019-01-04T00:00:00",
          "2019-01-05T00:00:00"
         ],
         "xaxis": "x",
         "y": [
          162.32,
          162.33
         ],
         "yaxis": "y"
        },
        {
         "hoverinfo": "none",
         "line": {
          "color": "green",
          "width": 3
         },
         "mode": "lines",
         "showlegend": false,
         "type": "scatter",
         "x": [
          "2019-01-05T00:00:00",
          "2019-01-06T00:00:00"
         ],
         "xaxis": "x",
         "y": [
          162.33,
          162.34
         ],
         "yaxis": "y"
        },
        {
         "hoverinfo": "none",
         "line": {
          "color": "green",
          "width": 3
         },
         "mode": "lines",
         "showlegend": false,
         "type": "scatter",
         "x": [
          "2019-01-06T00:00:00",
          "2019-01-07T00:00:00"
         ],
         "xaxis": "x",
         "y": [
          162.34,
          162.35
         ],
         "yaxis": "y"
        },
        {
         "hoverinfo": "none",
         "line": {
          "color": "red",
          "width": 3
         },
         "mode": "lines",
         "showlegend": false,
         "type": "scatter",
         "x": [
          "2019-01-07T00:00:00",
          "2019-01-08T00:00:00"
         ],
         "xaxis": "x",
         "y": [
          162.35,
          162.24
         ],
         "yaxis": "y"
        },
        {
         "hoverinfo": "none",
         "line": {
          "color": "red",
          "width": 3
         },
         "mode": "lines",
         "showlegend": false,
         "type": "scatter",
         "x": [
          "2019-01-08T00:00:00",
          "2019-01-09T00:00:00"
         ],
         "xaxis": "x",
         "y": [
          162.24,
          162.12
         ],
         "yaxis": "y"
        },
        {
         "hoverinfo": "none",
         "line": {
          "color": "green",
          "width": 3
         },
         "mode": "lines",
         "showlegend": false,
         "type": "scatter",
         "x": [
          "2019-01-09T00:00:00",
          "2019-01-10T00:00:00"
         ],
         "xaxis": "x",
         "y": [
          162.12,
          162.23
         ],
         "yaxis": "y"
        },
        {
         "hoverinfo": "none",
         "line": {
          "color": "red",
          "width": 3
         },
         "mode": "lines",
         "showlegend": false,
         "type": "scatter",
         "x": [
          "2019-01-10T00:00:00",
          "2019-01-11T00:00:00"
         ],
         "xaxis": "x",
         "y": [
          162.23,
          162.09
         ],
         "yaxis": "y"
        },
        {
         "hoverinfo": "none",
         "line": {
          "color": "green",
          "width": 3
         },
         "mode": "lines",
         "showlegend": false,
         "type": "scatter",
         "x": [
          "2019-01-11T00:00:00",
          "2019-01-12T00:00:00"
         ],
         "xaxis": "x",
         "y": [
          162.09,
          162.09
         ],
         "yaxis": "y"
        },
        {
         "hoverinfo": "none",
         "line": {
          "color": "green",
          "width": 3
         },
         "mode": "lines",
         "showlegend": false,
         "type": "scatter",
         "x": [
          "2019-01-12T00:00:00",
          "2019-01-13T00:00:00"
         ],
         "xaxis": "x",
         "y": [
          162.09,
          162.1
         ],
         "yaxis": "y"
        },
        {
         "hoverinfo": "none",
         "line": {
          "color": "red",
          "width": 3
         },
         "mode": "lines",
         "showlegend": false,
         "type": "scatter",
         "x": [
          "2019-01-13T00:00:00",
          "2019-01-14T00:00:00"
         ],
         "xaxis": "x",
         "y": [
          162.1,
          162.09
         ],
         "yaxis": "y"
        },
        {
         "hoverinfo": "none",
         "line": {
          "color": "red",
          "width": 3
         },
         "mode": "lines",
         "showlegend": false,
         "type": "scatter",
         "x": [
          "2019-01-14T00:00:00",
          "2019-01-15T00:00:00"
         ],
         "xaxis": "x",
         "y": [
          162.09,
          162.08
         ],
         "yaxis": "y"
        },
        {
         "hoverinfo": "none",
         "line": {
          "color": "green",
          "width": 3
         },
         "mode": "lines",
         "showlegend": false,
         "type": "scatter",
         "x": [
          "2019-01-15T00:00:00",
          "2019-01-16T00:00:00"
         ],
         "xaxis": "x",
         "y": [
          162.08,
          162.2
         ],
         "yaxis": "y"
        },
        {
         "hoverinfo": "none",
         "line": {
          "color": "red",
          "width": 3
         },
         "mode": "lines",
         "showlegend": false,
         "type": "scatter",
         "x": [
          "2019-01-16T00:00:00",
          "2019-01-17T00:00:00"
         ],
         "xaxis": "x",
         "y": [
          162.2,
          162.09
         ],
         "yaxis": "y"
        },
        {
         "hoverinfo": "none",
         "line": {
          "color": "red",
          "width": 3
         },
         "mode": "lines",
         "showlegend": false,
         "type": "scatter",
         "x": [
          "2019-01-17T00:00:00",
          "2019-01-18T00:00:00"
         ],
         "xaxis": "x",
         "y": [
          162.09,
          161.87
         ],
         "yaxis": "y"
        },
        {
         "hoverinfo": "none",
         "line": {
          "color": "red",
          "width": 3
         },
         "mode": "lines",
         "showlegend": false,
         "type": "scatter",
         "x": [
          "2019-01-18T00:00:00",
          "2019-01-19T00:00:00"
         ],
         "xaxis": "x",
         "y": [
          161.87,
          161.77
         ],
         "yaxis": "y"
        },
        {
         "hoverinfo": "none",
         "line": {
          "color": "red",
          "width": 3
         },
         "mode": "lines",
         "showlegend": false,
         "type": "scatter",
         "x": [
          "2019-01-19T00:00:00",
          "2019-01-20T00:00:00"
         ],
         "xaxis": "x",
         "y": [
          161.77,
          161.66
         ],
         "yaxis": "y"
        },
        {
         "hoverinfo": "none",
         "line": {
          "color": "red",
          "width": 3
         },
         "mode": "lines",
         "showlegend": false,
         "type": "scatter",
         "x": [
          "2019-01-20T00:00:00",
          "2019-01-21T00:00:00"
         ],
         "xaxis": "x",
         "y": [
          161.66,
          161.54
         ],
         "yaxis": "y"
        },
        {
         "hoverinfo": "none",
         "line": {
          "color": "red",
          "width": 3
         },
         "mode": "lines",
         "showlegend": false,
         "type": "scatter",
         "x": [
          "2019-01-21T00:00:00",
          "2019-01-22T00:00:00"
         ],
         "xaxis": "x",
         "y": [
          161.54,
          161.44
         ],
         "yaxis": "y"
        },
        {
         "hoverinfo": "none",
         "line": {
          "color": "red",
          "width": 3
         },
         "mode": "lines",
         "showlegend": false,
         "type": "scatter",
         "x": [
          "2019-01-22T00:00:00",
          "2019-01-23T00:00:00"
         ],
         "xaxis": "x",
         "y": [
          161.44,
          161.33
         ],
         "yaxis": "y"
        },
        {
         "hoverinfo": "none",
         "line": {
          "color": "red",
          "width": 3
         },
         "mode": "lines",
         "showlegend": false,
         "type": "scatter",
         "x": [
          "2019-01-23T00:00:00",
          "2019-01-24T00:00:00"
         ],
         "xaxis": "x",
         "y": [
          161.33,
          161.21
         ],
         "yaxis": "y"
        },
        {
         "hoverinfo": "none",
         "line": {
          "color": "green",
          "width": 3
         },
         "mode": "lines",
         "showlegend": false,
         "type": "scatter",
         "x": [
          "2019-01-24T00:00:00",
          "2019-01-25T00:00:00"
         ],
         "xaxis": "x",
         "y": [
          161.21,
          161.33
         ],
         "yaxis": "y"
        },
        {
         "hoverinfo": "none",
         "line": {
          "color": "red",
          "width": 3
         },
         "mode": "lines",
         "showlegend": false,
         "type": "scatter",
         "x": [
          "2019-01-25T00:00:00",
          "2019-01-26T00:00:00"
         ],
         "xaxis": "x",
         "y": [
          161.33,
          161.32
         ],
         "yaxis": "y"
        },
        {
         "hoverinfo": "none",
         "line": {
          "color": "green",
          "width": 3
         },
         "mode": "lines",
         "showlegend": false,
         "type": "scatter",
         "x": [
          "2019-01-26T00:00:00",
          "2019-01-27T00:00:00"
         ],
         "xaxis": "x",
         "y": [
          161.32,
          161.33
         ],
         "yaxis": "y"
        },
        {
         "hoverinfo": "none",
         "line": {
          "color": "green",
          "width": 3
         },
         "mode": "lines",
         "showlegend": false,
         "type": "scatter",
         "x": [
          "2019-01-27T00:00:00",
          "2019-01-28T00:00:00"
         ],
         "xaxis": "x",
         "y": [
          161.33,
          161.34
         ],
         "yaxis": "y"
        },
        {
         "hoverinfo": "none",
         "line": {
          "color": "green",
          "width": 3
         },
         "mode": "lines",
         "showlegend": false,
         "type": "scatter",
         "x": [
          "2019-01-28T00:00:00",
          "2019-01-29T00:00:00"
         ],
         "xaxis": "x",
         "y": [
          161.34,
          161.35
         ],
         "yaxis": "y"
        },
        {
         "hoverinfo": "none",
         "line": {
          "color": "green",
          "width": 3
         },
         "mode": "lines",
         "showlegend": false,
         "type": "scatter",
         "x": [
          "2019-01-29T00:00:00",
          "2019-01-30T00:00:00"
         ],
         "xaxis": "x",
         "y": [
          161.35,
          161.35
         ],
         "yaxis": "y"
        },
        {
         "hoverinfo": "none",
         "line": {
          "color": "green",
          "width": 3
         },
         "mode": "lines",
         "showlegend": false,
         "type": "scatter",
         "x": [
          "2019-01-30T00:00:00",
          "2019-01-31T00:00:00"
         ],
         "xaxis": "x",
         "y": [
          161.35,
          161.35
         ],
         "yaxis": "y"
        },
        {
         "hoverinfo": "none",
         "line": {
          "color": "green",
          "width": 3
         },
         "mode": "lines",
         "showlegend": false,
         "type": "scatter",
         "x": [
          "2019-01-31T00:00:00",
          "2019-02-01T00:00:00"
         ],
         "xaxis": "x",
         "y": [
          161.35,
          161.35
         ],
         "yaxis": "y"
        },
        {
         "hoverinfo": "none",
         "line": {
          "color": "red",
          "width": 3
         },
         "mode": "lines",
         "showlegend": false,
         "type": "scatter",
         "x": [
          "2019-02-01T00:00:00",
          "2019-02-02T00:00:00"
         ],
         "xaxis": "x",
         "y": [
          161.35,
          161.23
         ],
         "yaxis": "y"
        },
        {
         "hoverinfo": "none",
         "line": {
          "color": "green",
          "width": 3
         },
         "mode": "lines",
         "showlegend": false,
         "type": "scatter",
         "x": [
          "2019-02-02T00:00:00",
          "2019-02-03T00:00:00"
         ],
         "xaxis": "x",
         "y": [
          161.23,
          161.35
         ],
         "yaxis": "y"
        },
        {
         "hoverinfo": "none",
         "line": {
          "color": "red",
          "width": 3
         },
         "mode": "lines",
         "showlegend": false,
         "type": "scatter",
         "x": [
          "2019-02-03T00:00:00",
          "2019-02-04T00:00:00"
         ],
         "xaxis": "x",
         "y": [
          161.35,
          161.34
         ],
         "yaxis": "y"
        },
        {
         "hoverinfo": "none",
         "line": {
          "color": "green",
          "width": 3
         },
         "mode": "lines",
         "showlegend": false,
         "type": "scatter",
         "x": [
          "2019-02-04T00:00:00",
          "2019-02-05T00:00:00"
         ],
         "xaxis": "x",
         "y": [
          161.34,
          161.34
         ],
         "yaxis": "y"
        },
        {
         "hoverinfo": "none",
         "line": {
          "color": "red",
          "width": 3
         },
         "mode": "lines",
         "showlegend": false,
         "type": "scatter",
         "x": [
          "2019-02-05T00:00:00",
          "2019-02-06T00:00:00"
         ],
         "xaxis": "x",
         "y": [
          161.34,
          161.33
         ],
         "yaxis": "y"
        },
        {
         "hoverinfo": "none",
         "line": {
          "color": "green",
          "width": 3
         },
         "mode": "lines",
         "showlegend": false,
         "type": "scatter",
         "x": [
          "2019-02-06T00:00:00",
          "2019-02-07T00:00:00"
         ],
         "xaxis": "x",
         "y": [
          161.33,
          161.34
         ],
         "yaxis": "y"
        },
        {
         "hoverinfo": "none",
         "line": {
          "color": "green",
          "width": 3
         },
         "mode": "lines",
         "showlegend": false,
         "type": "scatter",
         "x": [
          "2019-02-07T00:00:00",
          "2019-02-08T00:00:00"
         ],
         "xaxis": "x",
         "y": [
          161.34,
          161.35
         ],
         "yaxis": "y"
        },
        {
         "hoverinfo": "none",
         "line": {
          "color": "green",
          "width": 3
         },
         "mode": "lines",
         "showlegend": false,
         "type": "scatter",
         "x": [
          "2019-02-08T00:00:00",
          "2019-02-09T00:00:00"
         ],
         "xaxis": "x",
         "y": [
          161.35,
          161.48
         ],
         "yaxis": "y"
        },
        {
         "hoverinfo": "none",
         "line": {
          "color": "green",
          "width": 3
         },
         "mode": "lines",
         "showlegend": false,
         "type": "scatter",
         "x": [
          "2019-02-09T00:00:00",
          "2019-02-10T00:00:00"
         ],
         "xaxis": "x",
         "y": [
          161.48,
          161.49
         ],
         "yaxis": "y"
        },
        {
         "hoverinfo": "none",
         "line": {
          "color": "red",
          "width": 3
         },
         "mode": "lines",
         "showlegend": false,
         "type": "scatter",
         "x": [
          "2019-02-10T00:00:00",
          "2019-02-11T00:00:00"
         ],
         "xaxis": "x",
         "y": [
          161.49,
          161.39
         ],
         "yaxis": "y"
        },
        {
         "hoverinfo": "none",
         "line": {
          "color": "green",
          "width": 3
         },
         "mode": "lines",
         "showlegend": false,
         "type": "scatter",
         "x": [
          "2019-02-11T00:00:00",
          "2019-02-12T00:00:00"
         ],
         "xaxis": "x",
         "y": [
          161.39,
          161.4
         ],
         "yaxis": "y"
        },
        {
         "hoverinfo": "none",
         "line": {
          "color": "green",
          "width": 3
         },
         "mode": "lines",
         "showlegend": false,
         "type": "scatter",
         "x": [
          "2019-02-12T00:00:00",
          "2019-02-13T00:00:00"
         ],
         "xaxis": "x",
         "y": [
          161.4,
          161.42
         ],
         "yaxis": "y"
        },
        {
         "hoverinfo": "none",
         "line": {
          "color": "green",
          "width": 3
         },
         "mode": "lines",
         "showlegend": false,
         "type": "scatter",
         "x": [
          "2019-02-13T00:00:00",
          "2019-02-14T00:00:00"
         ],
         "xaxis": "x",
         "y": [
          161.42,
          161.42
         ],
         "yaxis": "y"
        },
        {
         "hoverinfo": "none",
         "line": {
          "color": "green",
          "width": 3
         },
         "mode": "lines",
         "showlegend": false,
         "type": "scatter",
         "x": [
          "2019-02-14T00:00:00",
          "2019-02-15T00:00:00"
         ],
         "xaxis": "x",
         "y": [
          161.42,
          161.42
         ],
         "yaxis": "y"
        },
        {
         "hoverinfo": "none",
         "line": {
          "color": "red",
          "width": 3
         },
         "mode": "lines",
         "showlegend": false,
         "type": "scatter",
         "x": [
          "2019-02-15T00:00:00",
          "2019-02-16T00:00:00"
         ],
         "xaxis": "x",
         "y": [
          161.42,
          161.41
         ],
         "yaxis": "y"
        },
        {
         "hoverinfo": "none",
         "line": {
          "color": "red",
          "width": 3
         },
         "mode": "lines",
         "showlegend": false,
         "type": "scatter",
         "x": [
          "2019-02-16T00:00:00",
          "2019-02-17T00:00:00"
         ],
         "xaxis": "x",
         "y": [
          161.41,
          161.28
         ],
         "yaxis": "y"
        },
        {
         "hoverinfo": "none",
         "line": {
          "color": "red",
          "width": 3
         },
         "mode": "lines",
         "showlegend": false,
         "type": "scatter",
         "x": [
          "2019-02-17T00:00:00",
          "2019-02-18T00:00:00"
         ],
         "xaxis": "x",
         "y": [
          161.28,
          161.27
         ],
         "yaxis": "y"
        },
        {
         "hoverinfo": "none",
         "line": {
          "color": "red",
          "width": 3
         },
         "mode": "lines",
         "showlegend": false,
         "type": "scatter",
         "x": [
          "2019-02-18T00:00:00",
          "2019-02-19T00:00:00"
         ],
         "xaxis": "x",
         "y": [
          161.27,
          161.26
         ],
         "yaxis": "y"
        },
        {
         "hoverinfo": "none",
         "line": {
          "color": "red",
          "width": 3
         },
         "mode": "lines",
         "showlegend": false,
         "type": "scatter",
         "x": [
          "2019-02-19T00:00:00",
          "2019-02-20T00:00:00"
         ],
         "xaxis": "x",
         "y": [
          161.26,
          161.13
         ],
         "yaxis": "y"
        },
        {
         "hoverinfo": "none",
         "line": {
          "color": "red",
          "width": 3
         },
         "mode": "lines",
         "showlegend": false,
         "type": "scatter",
         "x": [
          "2019-02-20T00:00:00",
          "2019-02-21T00:00:00"
         ],
         "xaxis": "x",
         "y": [
          161.13,
          160.98
         ],
         "yaxis": "y"
        },
        {
         "hoverinfo": "none",
         "line": {
          "color": "red",
          "width": 3
         },
         "mode": "lines",
         "showlegend": false,
         "type": "scatter",
         "x": [
          "2019-02-21T00:00:00",
          "2019-02-22T00:00:00"
         ],
         "xaxis": "x",
         "y": [
          160.98,
          160.85
         ],
         "yaxis": "y"
        },
        {
         "hoverinfo": "none",
         "line": {
          "color": "red",
          "width": 3
         },
         "mode": "lines",
         "showlegend": false,
         "type": "scatter",
         "x": [
          "2019-02-22T00:00:00",
          "2019-02-23T00:00:00"
         ],
         "xaxis": "x",
         "y": [
          160.85,
          160.73
         ],
         "yaxis": "y"
        },
        {
         "hoverinfo": "none",
         "line": {
          "color": "red",
          "width": 3
         },
         "mode": "lines",
         "showlegend": false,
         "type": "scatter",
         "x": [
          "2019-02-23T00:00:00",
          "2019-02-24T00:00:00"
         ],
         "xaxis": "x",
         "y": [
          160.73,
          160.49
         ],
         "yaxis": "y"
        },
        {
         "hoverinfo": "none",
         "line": {
          "color": "red",
          "width": 3
         },
         "mode": "lines",
         "showlegend": false,
         "type": "scatter",
         "x": [
          "2019-02-24T00:00:00",
          "2019-02-25T00:00:00"
         ],
         "xaxis": "x",
         "y": [
          160.49,
          160.37
         ],
         "yaxis": "y"
        },
        {
         "hoverinfo": "none",
         "line": {
          "color": "red",
          "width": 3
         },
         "mode": "lines",
         "showlegend": false,
         "type": "scatter",
         "x": [
          "2019-02-25T00:00:00",
          "2019-02-26T00:00:00"
         ],
         "xaxis": "x",
         "y": [
          160.37,
          160.24
         ],
         "yaxis": "y"
        },
        {
         "hoverinfo": "none",
         "line": {
          "color": "red",
          "width": 3
         },
         "mode": "lines",
         "showlegend": false,
         "type": "scatter",
         "x": [
          "2019-02-26T00:00:00",
          "2019-02-27T00:00:00"
         ],
         "xaxis": "x",
         "y": [
          160.24,
          160.13
         ],
         "yaxis": "y"
        },
        {
         "hoverinfo": "none",
         "line": {
          "color": "red",
          "width": 3
         },
         "mode": "lines",
         "showlegend": false,
         "type": "scatter",
         "x": [
          "2019-02-27T00:00:00",
          "2019-02-28T00:00:00"
         ],
         "xaxis": "x",
         "y": [
          160.13,
          160.12
         ],
         "yaxis": "y"
        },
        {
         "hoverinfo": "none",
         "line": {
          "color": "red",
          "width": 3
         },
         "mode": "lines",
         "showlegend": false,
         "type": "scatter",
         "x": [
          "2019-02-28T00:00:00",
          "2019-03-01T00:00:00"
         ],
         "xaxis": "x",
         "y": [
          160.12,
          160.01
         ],
         "yaxis": "y"
        },
        {
         "hoverinfo": "none",
         "line": {
          "color": "red",
          "width": 3
         },
         "mode": "lines",
         "showlegend": false,
         "type": "scatter",
         "x": [
          "2019-03-01T00:00:00",
          "2019-03-02T00:00:00"
         ],
         "xaxis": "x",
         "y": [
          160.01,
          159.89
         ],
         "yaxis": "y"
        },
        {
         "hoverinfo": "none",
         "line": {
          "color": "red",
          "width": 3
         },
         "mode": "lines",
         "showlegend": false,
         "type": "scatter",
         "x": [
          "2019-03-02T00:00:00",
          "2019-03-03T00:00:00"
         ],
         "xaxis": "x",
         "y": [
          159.89,
          159.77
         ],
         "yaxis": "y"
        },
        {
         "hoverinfo": "none",
         "line": {
          "color": "red",
          "width": 3
         },
         "mode": "lines",
         "showlegend": false,
         "type": "scatter",
         "x": [
          "2019-03-03T00:00:00",
          "2019-03-04T00:00:00"
         ],
         "xaxis": "x",
         "y": [
          159.77,
          159.76
         ],
         "yaxis": "y"
        },
        {
         "hoverinfo": "none",
         "line": {
          "color": "red",
          "width": 3
         },
         "mode": "lines",
         "showlegend": false,
         "type": "scatter",
         "x": [
          "2019-03-04T00:00:00",
          "2019-03-05T00:00:00"
         ],
         "xaxis": "x",
         "y": [
          159.76,
          159.64
         ],
         "yaxis": "y"
        },
        {
         "hoverinfo": "none",
         "line": {
          "color": "red",
          "width": 3
         },
         "mode": "lines",
         "showlegend": false,
         "type": "scatter",
         "x": [
          "2019-03-05T00:00:00",
          "2019-03-06T00:00:00"
         ],
         "xaxis": "x",
         "y": [
          159.64,
          159.39
         ],
         "yaxis": "y"
        },
        {
         "hoverinfo": "none",
         "line": {
          "color": "red",
          "width": 3
         },
         "mode": "lines",
         "showlegend": false,
         "type": "scatter",
         "x": [
          "2019-03-06T00:00:00",
          "2019-03-07T00:00:00"
         ],
         "xaxis": "x",
         "y": [
          159.39,
          159.15
         ],
         "yaxis": "y"
        },
        {
         "hoverinfo": "none",
         "line": {
          "color": "red",
          "width": 3
         },
         "mode": "lines",
         "showlegend": false,
         "type": "scatter",
         "x": [
          "2019-03-07T00:00:00",
          "2019-03-08T00:00:00"
         ],
         "xaxis": "x",
         "y": [
          159.15,
          158.91
         ],
         "yaxis": "y"
        },
        {
         "hoverinfo": "none",
         "line": {
          "color": "red",
          "width": 3
         },
         "mode": "lines",
         "showlegend": false,
         "type": "scatter",
         "x": [
          "2019-03-08T00:00:00",
          "2019-03-09T00:00:00"
         ],
         "xaxis": "x",
         "y": [
          158.91,
          158.78
         ],
         "yaxis": "y"
        },
        {
         "hoverinfo": "none",
         "line": {
          "color": "red",
          "width": 3
         },
         "mode": "lines",
         "showlegend": false,
         "type": "scatter",
         "x": [
          "2019-03-09T00:00:00",
          "2019-03-10T00:00:00"
         ],
         "xaxis": "x",
         "y": [
          158.78,
          158.77
         ],
         "yaxis": "y"
        },
        {
         "hoverinfo": "none",
         "line": {
          "color": "red",
          "width": 3
         },
         "mode": "lines",
         "showlegend": false,
         "type": "scatter",
         "x": [
          "2019-03-10T00:00:00",
          "2019-03-11T00:00:00"
         ],
         "xaxis": "x",
         "y": [
          158.77,
          158.76
         ],
         "yaxis": "y"
        },
        {
         "hoverinfo": "none",
         "line": {
          "color": "red",
          "width": 3
         },
         "mode": "lines",
         "showlegend": false,
         "type": "scatter",
         "x": [
          "2019-03-11T00:00:00",
          "2019-03-12T00:00:00"
         ],
         "xaxis": "x",
         "y": [
          158.76,
          158.75
         ],
         "yaxis": "y"
        },
        {
         "hoverinfo": "none",
         "line": {
          "color": "green",
          "width": 3
         },
         "mode": "lines",
         "showlegend": false,
         "type": "scatter",
         "x": [
          "2019-03-12T00:00:00",
          "2019-03-13T00:00:00"
         ],
         "xaxis": "x",
         "y": [
          158.75,
          158.75
         ],
         "yaxis": "y"
        },
        {
         "hoverinfo": "none",
         "line": {
          "color": "green",
          "width": 3
         },
         "mode": "lines",
         "showlegend": false,
         "type": "scatter",
         "x": [
          "2019-03-13T00:00:00",
          "2019-03-14T00:00:00"
         ],
         "xaxis": "x",
         "y": [
          158.75,
          158.86
         ],
         "yaxis": "y"
        },
        {
         "hoverinfo": "none",
         "line": {
          "color": "green",
          "width": 3
         },
         "mode": "lines",
         "showlegend": false,
         "type": "scatter",
         "x": [
          "2019-03-14T00:00:00",
          "2019-03-15T00:00:00"
         ],
         "xaxis": "x",
         "y": [
          158.86,
          158.96
         ],
         "yaxis": "y"
        },
        {
         "hoverinfo": "none",
         "line": {
          "color": "green",
          "width": 3
         },
         "mode": "lines",
         "showlegend": false,
         "type": "scatter",
         "x": [
          "2019-03-15T00:00:00",
          "2019-03-16T00:00:00"
         ],
         "xaxis": "x",
         "y": [
          158.96,
          159.07
         ],
         "yaxis": "y"
        },
        {
         "hoverinfo": "none",
         "line": {
          "color": "green",
          "width": 3
         },
         "mode": "lines",
         "showlegend": false,
         "type": "scatter",
         "x": [
          "2019-03-16T00:00:00",
          "2019-03-17T00:00:00"
         ],
         "xaxis": "x",
         "y": [
          159.07,
          159.18
         ],
         "yaxis": "y"
        },
        {
         "hoverinfo": "none",
         "line": {
          "color": "red",
          "width": 3
         },
         "mode": "lines",
         "showlegend": false,
         "type": "scatter",
         "x": [
          "2019-03-17T00:00:00",
          "2019-03-18T00:00:00"
         ],
         "xaxis": "x",
         "y": [
          159.18,
          159.16
         ],
         "yaxis": "y"
        },
        {
         "hoverinfo": "none",
         "line": {
          "color": "red",
          "width": 3
         },
         "mode": "lines",
         "showlegend": false,
         "type": "scatter",
         "x": [
          "2019-03-18T00:00:00",
          "2019-03-19T00:00:00"
         ],
         "xaxis": "x",
         "y": [
          159.16,
          159.14
         ],
         "yaxis": "y"
        },
        {
         "hoverinfo": "none",
         "line": {
          "color": "red",
          "width": 3
         },
         "mode": "lines",
         "showlegend": false,
         "type": "scatter",
         "x": [
          "2019-03-19T00:00:00",
          "2019-03-20T00:00:00"
         ],
         "xaxis": "x",
         "y": [
          159.14,
          159.13
         ],
         "yaxis": "y"
        },
        {
         "hoverinfo": "none",
         "line": {
          "color": "red",
          "width": 3
         },
         "mode": "lines",
         "showlegend": false,
         "type": "scatter",
         "x": [
          "2019-03-20T00:00:00",
          "2019-03-21T00:00:00"
         ],
         "xaxis": "x",
         "y": [
          159.13,
          159.12
         ],
         "yaxis": "y"
        },
        {
         "hoverinfo": "none",
         "line": {
          "color": "red",
          "width": 3
         },
         "mode": "lines",
         "showlegend": false,
         "type": "scatter",
         "x": [
          "2019-03-21T00:00:00",
          "2019-03-22T00:00:00"
         ],
         "xaxis": "x",
         "y": [
          159.12,
          159.11
         ],
         "yaxis": "y"
        },
        {
         "hoverinfo": "none",
         "line": {
          "color": "red",
          "width": 3
         },
         "mode": "lines",
         "showlegend": false,
         "type": "scatter",
         "x": [
          "2019-03-22T00:00:00",
          "2019-03-23T00:00:00"
         ],
         "xaxis": "x",
         "y": [
          159.11,
          159.1
         ],
         "yaxis": "y"
        },
        {
         "hoverinfo": "none",
         "line": {
          "color": "red",
          "width": 3
         },
         "mode": "lines",
         "showlegend": false,
         "type": "scatter",
         "x": [
          "2019-03-23T00:00:00",
          "2019-03-24T00:00:00"
         ],
         "xaxis": "x",
         "y": [
          159.1,
          158.98
         ],
         "yaxis": "y"
        },
        {
         "hoverinfo": "none",
         "line": {
          "color": "green",
          "width": 3
         },
         "mode": "lines",
         "showlegend": false,
         "type": "scatter",
         "x": [
          "2019-03-24T00:00:00",
          "2019-03-25T00:00:00"
         ],
         "xaxis": "x",
         "y": [
          158.98,
          158.98
         ],
         "yaxis": "y"
        },
        {
         "hoverinfo": "none",
         "line": {
          "color": "green",
          "width": 3
         },
         "mode": "lines",
         "showlegend": false,
         "type": "scatter",
         "x": [
          "2019-03-25T00:00:00",
          "2019-03-26T00:00:00"
         ],
         "xaxis": "x",
         "y": [
          158.98,
          158.98
         ],
         "yaxis": "y"
        },
        {
         "hoverinfo": "none",
         "line": {
          "color": "green",
          "width": 3
         },
         "mode": "lines",
         "showlegend": false,
         "type": "scatter",
         "x": [
          "2019-03-26T00:00:00",
          "2019-03-27T00:00:00"
         ],
         "xaxis": "x",
         "y": [
          158.98,
          158.98
         ],
         "yaxis": "y"
        },
        {
         "hoverinfo": "none",
         "line": {
          "color": "green",
          "width": 3
         },
         "mode": "lines",
         "showlegend": false,
         "type": "scatter",
         "x": [
          "2019-03-27T00:00:00",
          "2019-03-28T00:00:00"
         ],
         "xaxis": "x",
         "y": [
          158.98,
          158.98
         ],
         "yaxis": "y"
        },
        {
         "hoverinfo": "none",
         "line": {
          "color": "green",
          "width": 3
         },
         "mode": "lines",
         "showlegend": false,
         "type": "scatter",
         "x": [
          "2019-03-28T00:00:00",
          "2019-03-29T00:00:00"
         ],
         "xaxis": "x",
         "y": [
          158.98,
          158.98
         ],
         "yaxis": "y"
        },
        {
         "hoverinfo": "none",
         "line": {
          "color": "green",
          "width": 3
         },
         "mode": "lines",
         "showlegend": false,
         "type": "scatter",
         "x": [
          "2019-03-29T00:00:00",
          "2019-03-30T00:00:00"
         ],
         "xaxis": "x",
         "y": [
          158.98,
          158.98
         ],
         "yaxis": "y"
        },
        {
         "hoverinfo": "none",
         "line": {
          "color": "green",
          "width": 3
         },
         "mode": "lines",
         "showlegend": false,
         "type": "scatter",
         "x": [
          "2019-03-30T00:00:00",
          "2019-03-31T00:00:00"
         ],
         "xaxis": "x",
         "y": [
          158.98,
          158.98
         ],
         "yaxis": "y"
        },
        {
         "hoverinfo": "none",
         "line": {
          "color": "green",
          "width": 3
         },
         "mode": "lines",
         "showlegend": false,
         "type": "scatter",
         "x": [
          "2019-03-31T00:00:00",
          "2019-04-01T00:00:00"
         ],
         "xaxis": "x",
         "y": [
          158.98,
          159.09
         ],
         "yaxis": "y"
        },
        {
         "hoverinfo": "none",
         "line": {
          "color": "red",
          "width": 3
         },
         "mode": "lines",
         "showlegend": false,
         "type": "scatter",
         "x": [
          "2019-04-01T00:00:00",
          "2019-04-02T00:00:00"
         ],
         "xaxis": "x",
         "y": [
          159.09,
          159.08
         ],
         "yaxis": "y"
        },
        {
         "hoverinfo": "none",
         "line": {
          "color": "green",
          "width": 3
         },
         "mode": "lines",
         "showlegend": false,
         "type": "scatter",
         "x": [
          "2019-04-02T00:00:00",
          "2019-04-03T00:00:00"
         ],
         "xaxis": "x",
         "y": [
          159.08,
          159.08
         ],
         "yaxis": "y"
        },
        {
         "hoverinfo": "none",
         "line": {
          "color": "green",
          "width": 3
         },
         "mode": "lines",
         "showlegend": false,
         "type": "scatter",
         "x": [
          "2019-04-03T00:00:00",
          "2019-04-04T00:00:00"
         ],
         "xaxis": "x",
         "y": [
          159.08,
          159.08
         ],
         "yaxis": "y"
        },
        {
         "hoverinfo": "none",
         "line": {
          "color": "green",
          "width": 3
         },
         "mode": "lines",
         "showlegend": false,
         "type": "scatter",
         "x": [
          "2019-04-04T00:00:00",
          "2019-04-05T00:00:00"
         ],
         "xaxis": "x",
         "y": [
          159.08,
          159.08
         ],
         "yaxis": "y"
        },
        {
         "hoverinfo": "none",
         "line": {
          "color": "green",
          "width": 3
         },
         "mode": "lines",
         "showlegend": false,
         "type": "scatter",
         "x": [
          "2019-04-05T00:00:00",
          "2019-04-06T00:00:00"
         ],
         "xaxis": "x",
         "y": [
          159.08,
          159.09
         ],
         "yaxis": "y"
        },
        {
         "hoverinfo": "none",
         "line": {
          "color": "green",
          "width": 3
         },
         "mode": "lines",
         "showlegend": false,
         "type": "scatter",
         "x": [
          "2019-04-06T00:00:00",
          "2019-04-07T00:00:00"
         ],
         "xaxis": "x",
         "y": [
          159.09,
          159.09
         ],
         "yaxis": "y"
        },
        {
         "hoverinfo": "none",
         "line": {
          "color": "green",
          "width": 3
         },
         "mode": "lines",
         "showlegend": false,
         "type": "scatter",
         "x": [
          "2019-04-07T00:00:00",
          "2019-04-08T00:00:00"
         ],
         "xaxis": "x",
         "y": [
          159.09,
          159.09
         ],
         "yaxis": "y"
        },
        {
         "hoverinfo": "none",
         "line": {
          "color": "green",
          "width": 3
         },
         "mode": "lines",
         "showlegend": false,
         "type": "scatter",
         "x": [
          "2019-04-08T00:00:00",
          "2019-04-09T00:00:00"
         ],
         "xaxis": "x",
         "y": [
          159.09,
          159.1
         ],
         "yaxis": "y"
        },
        {
         "hoverinfo": "none",
         "line": {
          "color": "green",
          "width": 3
         },
         "mode": "lines",
         "showlegend": false,
         "type": "scatter",
         "x": [
          "2019-04-09T00:00:00",
          "2019-04-10T00:00:00"
         ],
         "xaxis": "x",
         "y": [
          159.1,
          159.11
         ],
         "yaxis": "y"
        },
        {
         "hoverinfo": "none",
         "line": {
          "color": "green",
          "width": 3
         },
         "mode": "lines",
         "showlegend": false,
         "type": "scatter",
         "x": [
          "2019-04-10T00:00:00",
          "2019-04-11T00:00:00"
         ],
         "xaxis": "x",
         "y": [
          159.11,
          159.11
         ],
         "yaxis": "y"
        },
        {
         "hoverinfo": "none",
         "line": {
          "color": "green",
          "width": 3
         },
         "mode": "lines",
         "showlegend": false,
         "type": "scatter",
         "x": [
          "2019-04-11T00:00:00",
          "2019-04-12T00:00:00"
         ],
         "xaxis": "x",
         "y": [
          159.11,
          159.11
         ],
         "yaxis": "y"
        },
        {
         "hoverinfo": "none",
         "line": {
          "color": "green",
          "width": 3
         },
         "mode": "lines",
         "showlegend": false,
         "type": "scatter",
         "x": [
          "2019-04-12T00:00:00",
          "2019-04-13T00:00:00"
         ],
         "xaxis": "x",
         "y": [
          159.11,
          159.11
         ],
         "yaxis": "y"
        },
        {
         "hoverinfo": "none",
         "line": {
          "color": "green",
          "width": 3
         },
         "mode": "lines",
         "showlegend": false,
         "type": "scatter",
         "x": [
          "2019-04-13T00:00:00",
          "2019-04-14T00:00:00"
         ],
         "xaxis": "x",
         "y": [
          159.11,
          159.11
         ],
         "yaxis": "y"
        },
        {
         "hoverinfo": "none",
         "line": {
          "color": "green",
          "width": 3
         },
         "mode": "lines",
         "showlegend": false,
         "type": "scatter",
         "x": [
          "2019-04-14T00:00:00",
          "2019-04-15T00:00:00"
         ],
         "xaxis": "x",
         "y": [
          159.11,
          159.11
         ],
         "yaxis": "y"
        },
        {
         "hoverinfo": "none",
         "line": {
          "color": "green",
          "width": 3
         },
         "mode": "lines",
         "showlegend": false,
         "type": "scatter",
         "x": [
          "2019-04-15T00:00:00",
          "2019-04-16T00:00:00"
         ],
         "xaxis": "x",
         "y": [
          159.11,
          159.11
         ],
         "yaxis": "y"
        },
        {
         "hoverinfo": "none",
         "line": {
          "color": "green",
          "width": 3
         },
         "mode": "lines",
         "showlegend": false,
         "type": "scatter",
         "x": [
          "2019-04-16T00:00:00",
          "2019-04-17T00:00:00"
         ],
         "xaxis": "x",
         "y": [
          159.11,
          159.22
         ],
         "yaxis": "y"
        },
        {
         "hoverinfo": "none",
         "line": {
          "color": "green",
          "width": 3
         },
         "mode": "lines",
         "showlegend": false,
         "type": "scatter",
         "x": [
          "2019-04-17T00:00:00",
          "2019-04-18T00:00:00"
         ],
         "xaxis": "x",
         "y": [
          159.22,
          159.22
         ],
         "yaxis": "y"
        },
        {
         "hoverinfo": "none",
         "line": {
          "color": "green",
          "width": 3
         },
         "mode": "lines",
         "showlegend": false,
         "type": "scatter",
         "x": [
          "2019-04-18T00:00:00",
          "2019-04-19T00:00:00"
         ],
         "xaxis": "x",
         "y": [
          159.22,
          159.34
         ],
         "yaxis": "y"
        },
        {
         "hoverinfo": "none",
         "line": {
          "color": "green",
          "width": 3
         },
         "mode": "lines",
         "showlegend": false,
         "type": "scatter",
         "x": [
          "2019-04-19T00:00:00",
          "2019-04-20T00:00:00"
         ],
         "xaxis": "x",
         "y": [
          159.34,
          159.47
         ],
         "yaxis": "y"
        },
        {
         "hoverinfo": "none",
         "line": {
          "color": "green",
          "width": 3
         },
         "mode": "lines",
         "showlegend": false,
         "type": "scatter",
         "x": [
          "2019-04-20T00:00:00",
          "2019-04-21T00:00:00"
         ],
         "xaxis": "x",
         "y": [
          159.47,
          159.6
         ],
         "yaxis": "y"
        },
        {
         "hoverinfo": "none",
         "line": {
          "color": "green",
          "width": 3
         },
         "mode": "lines",
         "showlegend": false,
         "type": "scatter",
         "x": [
          "2019-04-21T00:00:00",
          "2019-04-22T00:00:00"
         ],
         "xaxis": "x",
         "y": [
          159.6,
          159.72
         ],
         "yaxis": "y"
        },
        {
         "hoverinfo": "none",
         "line": {
          "color": "green",
          "width": 3
         },
         "mode": "lines",
         "showlegend": false,
         "type": "scatter",
         "x": [
          "2019-04-22T00:00:00",
          "2019-04-23T00:00:00"
         ],
         "xaxis": "x",
         "y": [
          159.72,
          159.85
         ],
         "yaxis": "y"
        },
        {
         "hoverinfo": "none",
         "line": {
          "color": "green",
          "width": 3
         },
         "mode": "lines",
         "showlegend": false,
         "type": "scatter",
         "x": [
          "2019-04-23T00:00:00",
          "2019-04-24T00:00:00"
         ],
         "xaxis": "x",
         "y": [
          159.85,
          159.98
         ],
         "yaxis": "y"
        },
        {
         "hoverinfo": "none",
         "line": {
          "color": "green",
          "width": 3
         },
         "mode": "lines",
         "showlegend": false,
         "type": "scatter",
         "x": [
          "2019-04-24T00:00:00",
          "2019-04-25T00:00:00"
         ],
         "xaxis": "x",
         "y": [
          159.98,
          159.99
         ],
         "yaxis": "y"
        },
        {
         "hoverinfo": "none",
         "line": {
          "color": "green",
          "width": 3
         },
         "mode": "lines",
         "showlegend": false,
         "type": "scatter",
         "x": [
          "2019-04-25T00:00:00",
          "2019-04-26T00:00:00"
         ],
         "xaxis": "x",
         "y": [
          159.99,
          160.12
         ],
         "yaxis": "y"
        },
        {
         "hoverinfo": "none",
         "line": {
          "color": "green",
          "width": 3
         },
         "mode": "lines",
         "showlegend": false,
         "type": "scatter",
         "x": [
          "2019-04-26T00:00:00",
          "2019-04-27T00:00:00"
         ],
         "xaxis": "x",
         "y": [
          160.12,
          160.12
         ],
         "yaxis": "y"
        },
        {
         "hoverinfo": "none",
         "line": {
          "color": "green",
          "width": 3
         },
         "mode": "lines",
         "showlegend": false,
         "type": "scatter",
         "x": [
          "2019-04-27T00:00:00",
          "2019-04-28T00:00:00"
         ],
         "xaxis": "x",
         "y": [
          160.12,
          160.12
         ],
         "yaxis": "y"
        },
        {
         "hoverinfo": "none",
         "line": {
          "color": "green",
          "width": 3
         },
         "mode": "lines",
         "showlegend": false,
         "type": "scatter",
         "x": [
          "2019-04-28T00:00:00",
          "2019-04-29T00:00:00"
         ],
         "xaxis": "x",
         "y": [
          160.12,
          160.13
         ],
         "yaxis": "y"
        },
        {
         "hoverinfo": "none",
         "line": {
          "color": "green",
          "width": 3
         },
         "mode": "lines",
         "showlegend": false,
         "type": "scatter",
         "x": [
          "2019-04-29T00:00:00",
          "2019-04-30T00:00:00"
         ],
         "xaxis": "x",
         "y": [
          160.13,
          160.14
         ],
         "yaxis": "y"
        },
        {
         "hoverinfo": "none",
         "line": {
          "color": "green",
          "width": 3
         },
         "mode": "lines",
         "showlegend": false,
         "type": "scatter",
         "x": [
          "2019-04-30T00:00:00",
          "2019-05-01T00:00:00"
         ],
         "xaxis": "x",
         "y": [
          160.14,
          160.14
         ],
         "yaxis": "y"
        },
        {
         "hoverinfo": "none",
         "line": {
          "color": "green",
          "width": 3
         },
         "mode": "lines",
         "showlegend": false,
         "type": "scatter",
         "x": [
          "2019-05-01T00:00:00",
          "2019-05-02T00:00:00"
         ],
         "xaxis": "x",
         "y": [
          160.14,
          160.14
         ],
         "yaxis": "y"
        },
        {
         "hoverinfo": "none",
         "line": {
          "color": "green",
          "width": 3
         },
         "mode": "lines",
         "showlegend": false,
         "type": "scatter",
         "x": [
          "2019-05-02T00:00:00",
          "2019-05-03T00:00:00"
         ],
         "xaxis": "x",
         "y": [
          160.14,
          160.25
         ],
         "yaxis": "y"
        },
        {
         "hoverinfo": "none",
         "line": {
          "color": "green",
          "width": 3
         },
         "mode": "lines",
         "showlegend": false,
         "type": "scatter",
         "x": [
          "2019-05-03T00:00:00",
          "2019-05-04T00:00:00"
         ],
         "xaxis": "x",
         "y": [
          160.25,
          160.37
         ],
         "yaxis": "y"
        },
        {
         "hoverinfo": "none",
         "line": {
          "color": "green",
          "width": 3
         },
         "mode": "lines",
         "showlegend": false,
         "type": "scatter",
         "x": [
          "2019-05-04T00:00:00",
          "2019-05-05T00:00:00"
         ],
         "xaxis": "x",
         "y": [
          160.37,
          160.49
         ],
         "yaxis": "y"
        },
        {
         "hoverinfo": "none",
         "line": {
          "color": "green",
          "width": 3
         },
         "mode": "lines",
         "showlegend": false,
         "type": "scatter",
         "x": [
          "2019-05-05T00:00:00",
          "2019-05-06T00:00:00"
         ],
         "xaxis": "x",
         "y": [
          160.49,
          160.6
         ],
         "yaxis": "y"
        },
        {
         "hoverinfo": "none",
         "line": {
          "color": "green",
          "width": 3
         },
         "mode": "lines",
         "showlegend": false,
         "type": "scatter",
         "x": [
          "2019-05-06T00:00:00",
          "2019-05-07T00:00:00"
         ],
         "xaxis": "x",
         "y": [
          160.6,
          160.72
         ],
         "yaxis": "y"
        },
        {
         "hoverinfo": "none",
         "line": {
          "color": "green",
          "width": 3
         },
         "mode": "lines",
         "showlegend": false,
         "type": "scatter",
         "x": [
          "2019-05-07T00:00:00",
          "2019-05-08T00:00:00"
         ],
         "xaxis": "x",
         "y": [
          160.72,
          160.84
         ],
         "yaxis": "y"
        },
        {
         "hoverinfo": "none",
         "line": {
          "color": "green",
          "width": 3
         },
         "mode": "lines",
         "showlegend": false,
         "type": "scatter",
         "x": [
          "2019-05-08T00:00:00",
          "2019-05-09T00:00:00"
         ],
         "xaxis": "x",
         "y": [
          160.84,
          161.07
         ],
         "yaxis": "y"
        },
        {
         "hoverinfo": "none",
         "line": {
          "color": "green",
          "width": 3
         },
         "mode": "lines",
         "showlegend": false,
         "type": "scatter",
         "x": [
          "2019-05-09T00:00:00",
          "2019-05-10T00:00:00"
         ],
         "xaxis": "x",
         "y": [
          161.07,
          161.31
         ],
         "yaxis": "y"
        },
        {
         "hoverinfo": "none",
         "line": {
          "color": "green",
          "width": 3
         },
         "mode": "lines",
         "showlegend": false,
         "type": "scatter",
         "x": [
          "2019-05-10T00:00:00",
          "2019-05-11T00:00:00"
         ],
         "xaxis": "x",
         "y": [
          161.31,
          161.43
         ],
         "yaxis": "y"
        },
        {
         "hoverinfo": "none",
         "line": {
          "color": "green",
          "width": 3
         },
         "mode": "lines",
         "showlegend": false,
         "type": "scatter",
         "x": [
          "2019-05-11T00:00:00",
          "2019-05-12T00:00:00"
         ],
         "xaxis": "x",
         "y": [
          161.43,
          161.56
         ],
         "yaxis": "y"
        },
        {
         "hoverinfo": "none",
         "line": {
          "color": "green",
          "width": 3
         },
         "mode": "lines",
         "showlegend": false,
         "type": "scatter",
         "x": [
          "2019-05-12T00:00:00",
          "2019-05-13T00:00:00"
         ],
         "xaxis": "x",
         "y": [
          161.56,
          161.68
         ],
         "yaxis": "y"
        },
        {
         "hoverinfo": "none",
         "line": {
          "color": "green",
          "width": 3
         },
         "mode": "lines",
         "showlegend": false,
         "type": "scatter",
         "x": [
          "2019-05-13T00:00:00",
          "2019-05-14T00:00:00"
         ],
         "xaxis": "x",
         "y": [
          161.68,
          161.81
         ],
         "yaxis": "y"
        },
        {
         "hoverinfo": "none",
         "line": {
          "color": "green",
          "width": 3
         },
         "mode": "lines",
         "showlegend": false,
         "type": "scatter",
         "x": [
          "2019-05-14T00:00:00",
          "2019-05-15T00:00:00"
         ],
         "xaxis": "x",
         "y": [
          161.81,
          161.92
         ],
         "yaxis": "y"
        },
        {
         "hoverinfo": "none",
         "line": {
          "color": "green",
          "width": 3
         },
         "mode": "lines",
         "showlegend": false,
         "type": "scatter",
         "x": [
          "2019-05-15T00:00:00",
          "2019-05-16T00:00:00"
         ],
         "xaxis": "x",
         "y": [
          161.92,
          162.03
         ],
         "yaxis": "y"
        },
        {
         "hoverinfo": "none",
         "line": {
          "color": "green",
          "width": 3
         },
         "mode": "lines",
         "showlegend": false,
         "type": "scatter",
         "x": [
          "2019-05-16T00:00:00",
          "2019-05-17T00:00:00"
         ],
         "xaxis": "x",
         "y": [
          162.03,
          162.04
         ],
         "yaxis": "y"
        },
        {
         "hoverinfo": "none",
         "line": {
          "color": "green",
          "width": 3
         },
         "mode": "lines",
         "showlegend": false,
         "type": "scatter",
         "x": [
          "2019-05-17T00:00:00",
          "2019-05-18T00:00:00"
         ],
         "xaxis": "x",
         "y": [
          162.04,
          162.04
         ],
         "yaxis": "y"
        },
        {
         "hoverinfo": "none",
         "line": {
          "color": "green",
          "width": 3
         },
         "mode": "lines",
         "showlegend": false,
         "type": "scatter",
         "x": [
          "2019-05-18T00:00:00",
          "2019-05-19T00:00:00"
         ],
         "xaxis": "x",
         "y": [
          162.04,
          162.04
         ],
         "yaxis": "y"
        },
        {
         "hoverinfo": "none",
         "line": {
          "color": "green",
          "width": 3
         },
         "mode": "lines",
         "showlegend": false,
         "type": "scatter",
         "x": [
          "2019-05-19T00:00:00",
          "2019-05-20T00:00:00"
         ],
         "xaxis": "x",
         "y": [
          162.04,
          162.04
         ],
         "yaxis": "y"
        },
        {
         "hoverinfo": "none",
         "line": {
          "color": "green",
          "width": 3
         },
         "mode": "lines",
         "showlegend": false,
         "type": "scatter",
         "x": [
          "2019-05-20T00:00:00",
          "2019-05-21T00:00:00"
         ],
         "xaxis": "x",
         "y": [
          162.04,
          162.04
         ],
         "yaxis": "y"
        },
        {
         "hoverinfo": "none",
         "line": {
          "color": "green",
          "width": 3
         },
         "mode": "lines",
         "showlegend": false,
         "type": "scatter",
         "x": [
          "2019-05-21T00:00:00",
          "2019-05-22T00:00:00"
         ],
         "xaxis": "x",
         "y": [
          162.04,
          162.04
         ],
         "yaxis": "y"
        },
        {
         "hoverinfo": "none",
         "line": {
          "color": "green",
          "width": 3
         },
         "mode": "lines",
         "showlegend": false,
         "type": "scatter",
         "x": [
          "2019-05-22T00:00:00",
          "2019-05-23T00:00:00"
         ],
         "xaxis": "x",
         "y": [
          162.04,
          162.04
         ],
         "yaxis": "y"
        },
        {
         "hoverinfo": "none",
         "line": {
          "color": "green",
          "width": 3
         },
         "mode": "lines",
         "showlegend": false,
         "type": "scatter",
         "x": [
          "2019-05-23T00:00:00",
          "2019-05-24T00:00:00"
         ],
         "xaxis": "x",
         "y": [
          162.04,
          162.05
         ],
         "yaxis": "y"
        },
        {
         "hoverinfo": "none",
         "line": {
          "color": "red",
          "width": 3
         },
         "mode": "lines",
         "showlegend": false,
         "type": "scatter",
         "x": [
          "2019-05-24T00:00:00",
          "2019-05-25T00:00:00"
         ],
         "xaxis": "x",
         "y": [
          162.05,
          162.04
         ],
         "yaxis": "y"
        },
        {
         "hoverinfo": "none",
         "line": {
          "color": "green",
          "width": 3
         },
         "mode": "lines",
         "showlegend": false,
         "type": "scatter",
         "x": [
          "2019-05-25T00:00:00",
          "2019-05-26T00:00:00"
         ],
         "xaxis": "x",
         "y": [
          162.04,
          162.04
         ],
         "yaxis": "y"
        },
        {
         "hoverinfo": "none",
         "line": {
          "color": "red",
          "width": 3
         },
         "mode": "lines",
         "showlegend": false,
         "type": "scatter",
         "x": [
          "2019-05-26T00:00:00",
          "2019-05-27T00:00:00"
         ],
         "xaxis": "x",
         "y": [
          162.04,
          162.03
         ],
         "yaxis": "y"
        },
        {
         "hoverinfo": "none",
         "line": {
          "color": "green",
          "width": 3
         },
         "mode": "lines",
         "showlegend": false,
         "type": "scatter",
         "x": [
          "2019-05-27T00:00:00",
          "2019-05-28T00:00:00"
         ],
         "xaxis": "x",
         "y": [
          162.03,
          162.03
         ],
         "yaxis": "y"
        },
        {
         "hoverinfo": "none",
         "line": {
          "color": "green",
          "width": 3
         },
         "mode": "lines",
         "showlegend": false,
         "type": "scatter",
         "x": [
          "2019-05-28T00:00:00",
          "2019-05-29T00:00:00"
         ],
         "xaxis": "x",
         "y": [
          162.03,
          162.03
         ],
         "yaxis": "y"
        },
        {
         "hoverinfo": "none",
         "line": {
          "color": "green",
          "width": 3
         },
         "mode": "lines",
         "showlegend": false,
         "type": "scatter",
         "x": [
          "2019-05-29T00:00:00",
          "2019-05-30T00:00:00"
         ],
         "xaxis": "x",
         "y": [
          162.03,
          162.14
         ],
         "yaxis": "y"
        },
        {
         "hoverinfo": "none",
         "line": {
          "color": "green",
          "width": 3
         },
         "mode": "lines",
         "showlegend": false,
         "type": "scatter",
         "x": [
          "2019-05-30T00:00:00",
          "2019-05-31T00:00:00"
         ],
         "xaxis": "x",
         "y": [
          162.14,
          162.26
         ],
         "yaxis": "y"
        },
        {
         "hoverinfo": "none",
         "line": {
          "color": "green",
          "width": 3
         },
         "mode": "lines",
         "showlegend": false,
         "type": "scatter",
         "x": [
          "2019-05-31T00:00:00",
          "2019-06-01T00:00:00"
         ],
         "xaxis": "x",
         "y": [
          162.26,
          162.38
         ],
         "yaxis": "y"
        },
        {
         "hoverinfo": "none",
         "line": {
          "color": "green",
          "width": 3
         },
         "mode": "lines",
         "showlegend": false,
         "type": "scatter",
         "x": [
          "2019-06-01T00:00:00",
          "2019-06-02T00:00:00"
         ],
         "xaxis": "x",
         "y": [
          162.38,
          162.49
         ],
         "yaxis": "y"
        },
        {
         "hoverinfo": "none",
         "line": {
          "color": "green",
          "width": 3
         },
         "mode": "lines",
         "showlegend": false,
         "type": "scatter",
         "x": [
          "2019-06-02T00:00:00",
          "2019-06-03T00:00:00"
         ],
         "xaxis": "x",
         "y": [
          162.49,
          162.62
         ],
         "yaxis": "y"
        },
        {
         "hoverinfo": "none",
         "line": {
          "color": "green",
          "width": 3
         },
         "mode": "lines",
         "showlegend": false,
         "type": "scatter",
         "x": [
          "2019-06-03T00:00:00",
          "2019-06-04T00:00:00"
         ],
         "xaxis": "x",
         "y": [
          162.62,
          162.74
         ],
         "yaxis": "y"
        },
        {
         "hoverinfo": "none",
         "line": {
          "color": "green",
          "width": 3
         },
         "mode": "lines",
         "showlegend": false,
         "type": "scatter",
         "x": [
          "2019-06-04T00:00:00",
          "2019-06-05T00:00:00"
         ],
         "xaxis": "x",
         "y": [
          162.74,
          162.85
         ],
         "yaxis": "y"
        },
        {
         "hoverinfo": "none",
         "line": {
          "color": "green",
          "width": 3
         },
         "mode": "lines",
         "showlegend": false,
         "type": "scatter",
         "x": [
          "2019-06-05T00:00:00",
          "2019-06-06T00:00:00"
         ],
         "xaxis": "x",
         "y": [
          162.85,
          163.09
         ],
         "yaxis": "y"
        },
        {
         "hoverinfo": "none",
         "line": {
          "color": "green",
          "width": 3
         },
         "mode": "lines",
         "showlegend": false,
         "type": "scatter",
         "x": [
          "2019-06-06T00:00:00",
          "2019-06-07T00:00:00"
         ],
         "xaxis": "x",
         "y": [
          163.09,
          163.2
         ],
         "yaxis": "y"
        },
        {
         "hoverinfo": "none",
         "line": {
          "color": "green",
          "width": 3
         },
         "mode": "lines",
         "showlegend": false,
         "type": "scatter",
         "x": [
          "2019-06-07T00:00:00",
          "2019-06-08T00:00:00"
         ],
         "xaxis": "x",
         "y": [
          163.2,
          163.31
         ],
         "yaxis": "y"
        },
        {
         "hoverinfo": "none",
         "line": {
          "color": "green",
          "width": 3
         },
         "mode": "lines",
         "showlegend": false,
         "type": "scatter",
         "x": [
          "2019-06-08T00:00:00",
          "2019-06-09T00:00:00"
         ],
         "xaxis": "x",
         "y": [
          163.31,
          163.44
         ],
         "yaxis": "y"
        },
        {
         "hoverinfo": "none",
         "line": {
          "color": "green",
          "width": 3
         },
         "mode": "lines",
         "showlegend": false,
         "type": "scatter",
         "x": [
          "2019-06-09T00:00:00",
          "2019-06-10T00:00:00"
         ],
         "xaxis": "x",
         "y": [
          163.44,
          163.56
         ],
         "yaxis": "y"
        },
        {
         "hoverinfo": "none",
         "line": {
          "color": "green",
          "width": 3
         },
         "mode": "lines",
         "showlegend": false,
         "type": "scatter",
         "x": [
          "2019-06-10T00:00:00",
          "2019-06-11T00:00:00"
         ],
         "xaxis": "x",
         "y": [
          163.56,
          163.69
         ],
         "yaxis": "y"
        },
        {
         "hoverinfo": "none",
         "line": {
          "color": "green",
          "width": 3
         },
         "mode": "lines",
         "showlegend": false,
         "type": "scatter",
         "x": [
          "2019-06-11T00:00:00",
          "2019-06-12T00:00:00"
         ],
         "xaxis": "x",
         "y": [
          163.69,
          163.82
         ],
         "yaxis": "y"
        },
        {
         "hoverinfo": "none",
         "line": {
          "color": "green",
          "width": 3
         },
         "mode": "lines",
         "showlegend": false,
         "type": "scatter",
         "x": [
          "2019-06-12T00:00:00",
          "2019-06-13T00:00:00"
         ],
         "xaxis": "x",
         "y": [
          163.82,
          164.01
         ],
         "yaxis": "y"
        },
        {
         "hoverinfo": "none",
         "line": {
          "color": "green",
          "width": 3
         },
         "mode": "lines",
         "showlegend": false,
         "type": "scatter",
         "x": [
          "2019-06-13T00:00:00",
          "2019-06-14T00:00:00"
         ],
         "xaxis": "x",
         "y": [
          164.01,
          164.14
         ],
         "yaxis": "y"
        },
        {
         "hoverinfo": "none",
         "line": {
          "color": "green",
          "width": 3
         },
         "mode": "lines",
         "showlegend": false,
         "type": "scatter",
         "x": [
          "2019-06-14T00:00:00",
          "2019-06-15T00:00:00"
         ],
         "xaxis": "x",
         "y": [
          164.14,
          164.27
         ],
         "yaxis": "y"
        },
        {
         "hoverinfo": "none",
         "line": {
          "color": "green",
          "width": 3
         },
         "mode": "lines",
         "showlegend": false,
         "type": "scatter",
         "x": [
          "2019-06-15T00:00:00",
          "2019-06-16T00:00:00"
         ],
         "xaxis": "x",
         "y": [
          164.27,
          164.4
         ],
         "yaxis": "y"
        },
        {
         "hoverinfo": "none",
         "line": {
          "color": "green",
          "width": 3
         },
         "mode": "lines",
         "showlegend": false,
         "type": "scatter",
         "x": [
          "2019-06-16T00:00:00",
          "2019-06-17T00:00:00"
         ],
         "xaxis": "x",
         "y": [
          164.4,
          164.53
         ],
         "yaxis": "y"
        },
        {
         "hoverinfo": "none",
         "line": {
          "color": "green",
          "width": 3
         },
         "mode": "lines",
         "showlegend": false,
         "type": "scatter",
         "x": [
          "2019-06-17T00:00:00",
          "2019-06-18T00:00:00"
         ],
         "xaxis": "x",
         "y": [
          164.53,
          164.65
         ],
         "yaxis": "y"
        },
        {
         "hoverinfo": "none",
         "line": {
          "color": "green",
          "width": 3
         },
         "mode": "lines",
         "showlegend": false,
         "type": "scatter",
         "x": [
          "2019-06-18T00:00:00",
          "2019-06-19T00:00:00"
         ],
         "xaxis": "x",
         "y": [
          164.65,
          164.65
         ],
         "yaxis": "y"
        },
        {
         "hoverinfo": "none",
         "line": {
          "color": "green",
          "width": 3
         },
         "mode": "lines",
         "showlegend": false,
         "type": "scatter",
         "x": [
          "2019-06-19T00:00:00",
          "2019-06-20T00:00:00"
         ],
         "xaxis": "x",
         "y": [
          164.65,
          164.65
         ],
         "yaxis": "y"
        },
        {
         "hoverinfo": "none",
         "line": {
          "color": "green",
          "width": 3
         },
         "mode": "lines",
         "showlegend": false,
         "type": "scatter",
         "x": [
          "2019-06-20T00:00:00",
          "2019-06-21T00:00:00"
         ],
         "xaxis": "x",
         "y": [
          164.65,
          164.65
         ],
         "yaxis": "y"
        },
        {
         "hoverinfo": "none",
         "line": {
          "color": "red",
          "width": 3
         },
         "mode": "lines",
         "showlegend": false,
         "type": "scatter",
         "x": [
          "2019-06-21T00:00:00",
          "2019-06-22T00:00:00"
         ],
         "xaxis": "x",
         "y": [
          164.65,
          164.54
         ],
         "yaxis": "y"
        },
        {
         "hoverinfo": "none",
         "line": {
          "color": "red",
          "width": 3
         },
         "mode": "lines",
         "showlegend": false,
         "type": "scatter",
         "x": [
          "2019-06-22T00:00:00",
          "2019-06-23T00:00:00"
         ],
         "xaxis": "x",
         "y": [
          164.54,
          164.42
         ],
         "yaxis": "y"
        },
        {
         "hoverinfo": "none",
         "line": {
          "color": "red",
          "width": 3
         },
         "mode": "lines",
         "showlegend": false,
         "type": "scatter",
         "x": [
          "2019-06-23T00:00:00",
          "2019-06-24T00:00:00"
         ],
         "xaxis": "x",
         "y": [
          164.42,
          164.3
         ],
         "yaxis": "y"
        },
        {
         "hoverinfo": "none",
         "line": {
          "color": "red",
          "width": 3
         },
         "mode": "lines",
         "showlegend": false,
         "type": "scatter",
         "x": [
          "2019-06-24T00:00:00",
          "2019-06-25T00:00:00"
         ],
         "xaxis": "x",
         "y": [
          164.3,
          164.19
         ],
         "yaxis": "y"
        },
        {
         "hoverinfo": "none",
         "line": {
          "color": "red",
          "width": 3
         },
         "mode": "lines",
         "showlegend": false,
         "type": "scatter",
         "x": [
          "2019-06-25T00:00:00",
          "2019-06-26T00:00:00"
         ],
         "xaxis": "x",
         "y": [
          164.19,
          164.08
         ],
         "yaxis": "y"
        },
        {
         "hoverinfo": "none",
         "line": {
          "color": "green",
          "width": 3
         },
         "mode": "lines",
         "showlegend": false,
         "type": "scatter",
         "x": [
          "2019-06-26T00:00:00",
          "2019-06-27T00:00:00"
         ],
         "xaxis": "x",
         "y": [
          164.08,
          164.09
         ],
         "yaxis": "y"
        },
        {
         "hoverinfo": "none",
         "line": {
          "color": "green",
          "width": 3
         },
         "mode": "lines",
         "showlegend": false,
         "type": "scatter",
         "x": [
          "2019-06-27T00:00:00",
          "2019-06-28T00:00:00"
         ],
         "xaxis": "x",
         "y": [
          164.09,
          164.11
         ],
         "yaxis": "y"
        },
        {
         "hoverinfo": "none",
         "line": {
          "color": "red",
          "width": 3
         },
         "mode": "lines",
         "showlegend": false,
         "type": "scatter",
         "x": [
          "2019-06-28T00:00:00",
          "2019-06-29T00:00:00"
         ],
         "xaxis": "x",
         "y": [
          164.11,
          164.06
         ],
         "yaxis": "y"
        },
        {
         "hoverinfo": "none",
         "line": {
          "color": "green",
          "width": 3
         },
         "mode": "lines",
         "showlegend": false,
         "type": "scatter",
         "x": [
          "2019-06-29T00:00:00",
          "2019-06-30T00:00:00"
         ],
         "xaxis": "x",
         "y": [
          164.06,
          164.07
         ],
         "yaxis": "y"
        },
        {
         "hoverinfo": "none",
         "line": {
          "color": "red",
          "width": 3
         },
         "mode": "lines",
         "showlegend": false,
         "type": "scatter",
         "x": [
          "2019-06-30T00:00:00",
          "2019-07-01T00:00:00"
         ],
         "xaxis": "x",
         "y": [
          164.07,
          163.97
         ],
         "yaxis": "y"
        },
        {
         "hoverinfo": "none",
         "line": {
          "color": "red",
          "width": 3
         },
         "mode": "lines",
         "showlegend": false,
         "type": "scatter",
         "x": [
          "2019-07-01T00:00:00",
          "2019-07-02T00:00:00"
         ],
         "xaxis": "x",
         "y": [
          163.97,
          163.86
         ],
         "yaxis": "y"
        },
        {
         "hoverinfo": "none",
         "line": {
          "color": "red",
          "width": 3
         },
         "mode": "lines",
         "showlegend": false,
         "type": "scatter",
         "x": [
          "2019-07-02T00:00:00",
          "2019-07-03T00:00:00"
         ],
         "xaxis": "x",
         "y": [
          163.86,
          163.74
         ],
         "yaxis": "y"
        },
        {
         "hoverinfo": "none",
         "line": {
          "color": "red",
          "width": 3
         },
         "mode": "lines",
         "showlegend": false,
         "type": "scatter",
         "x": [
          "2019-07-03T00:00:00",
          "2019-07-04T00:00:00"
         ],
         "xaxis": "x",
         "y": [
          163.74,
          163.61
         ],
         "yaxis": "y"
        },
        {
         "hoverinfo": "none",
         "line": {
          "color": "red",
          "width": 3
         },
         "mode": "lines",
         "showlegend": false,
         "type": "scatter",
         "x": [
          "2019-07-04T00:00:00",
          "2019-07-05T00:00:00"
         ],
         "xaxis": "x",
         "y": [
          163.61,
          163.49
         ],
         "yaxis": "y"
        },
        {
         "hoverinfo": "none",
         "line": {
          "color": "red",
          "width": 3
         },
         "mode": "lines",
         "showlegend": false,
         "type": "scatter",
         "x": [
          "2019-07-05T00:00:00",
          "2019-07-06T00:00:00"
         ],
         "xaxis": "x",
         "y": [
          163.49,
          163.36
         ],
         "yaxis": "y"
        },
        {
         "hoverinfo": "none",
         "line": {
          "color": "red",
          "width": 3
         },
         "mode": "lines",
         "showlegend": false,
         "type": "scatter",
         "x": [
          "2019-07-06T00:00:00",
          "2019-07-07T00:00:00"
         ],
         "xaxis": "x",
         "y": [
          163.36,
          163.24
         ],
         "yaxis": "y"
        },
        {
         "hoverinfo": "none",
         "line": {
          "color": "red",
          "width": 3
         },
         "mode": "lines",
         "showlegend": false,
         "type": "scatter",
         "x": [
          "2019-07-07T00:00:00",
          "2019-07-08T00:00:00"
         ],
         "xaxis": "x",
         "y": [
          163.24,
          163.11
         ],
         "yaxis": "y"
        },
        {
         "hoverinfo": "none",
         "line": {
          "color": "green",
          "width": 3
         },
         "mode": "lines",
         "showlegend": false,
         "type": "scatter",
         "x": [
          "2019-07-08T00:00:00",
          "2019-07-09T00:00:00"
         ],
         "xaxis": "x",
         "y": [
          163.11,
          163.23
         ],
         "yaxis": "y"
        },
        {
         "hoverinfo": "none",
         "line": {
          "color": "green",
          "width": 3
         },
         "mode": "lines",
         "showlegend": false,
         "type": "scatter",
         "x": [
          "2019-07-09T00:00:00",
          "2019-07-10T00:00:00"
         ],
         "xaxis": "x",
         "y": [
          163.23,
          163.23
         ],
         "yaxis": "y"
        },
        {
         "hoverinfo": "none",
         "line": {
          "color": "green",
          "width": 3
         },
         "mode": "lines",
         "showlegend": false,
         "type": "scatter",
         "x": [
          "2019-07-10T00:00:00",
          "2019-07-11T00:00:00"
         ],
         "xaxis": "x",
         "y": [
          163.23,
          163.23
         ],
         "yaxis": "y"
        },
        {
         "hoverinfo": "none",
         "line": {
          "color": "green",
          "width": 3
         },
         "mode": "lines",
         "showlegend": false,
         "type": "scatter",
         "x": [
          "2019-07-11T00:00:00",
          "2019-07-12T00:00:00"
         ],
         "xaxis": "x",
         "y": [
          163.23,
          163.34
         ],
         "yaxis": "y"
        },
        {
         "hoverinfo": "none",
         "line": {
          "color": "green",
          "width": 3
         },
         "mode": "lines",
         "showlegend": false,
         "type": "scatter",
         "x": [
          "2019-07-12T00:00:00",
          "2019-07-13T00:00:00"
         ],
         "xaxis": "x",
         "y": [
          163.34,
          163.46
         ],
         "yaxis": "y"
        },
        {
         "hoverinfo": "none",
         "line": {
          "color": "green",
          "width": 3
         },
         "mode": "lines",
         "showlegend": false,
         "type": "scatter",
         "x": [
          "2019-07-13T00:00:00",
          "2019-07-14T00:00:00"
         ],
         "xaxis": "x",
         "y": [
          163.46,
          163.57
         ],
         "yaxis": "y"
        },
        {
         "hoverinfo": "none",
         "line": {
          "color": "green",
          "width": 3
         },
         "mode": "lines",
         "showlegend": false,
         "type": "scatter",
         "x": [
          "2019-07-14T00:00:00",
          "2019-07-15T00:00:00"
         ],
         "xaxis": "x",
         "y": [
          163.57,
          163.68
         ],
         "yaxis": "y"
        },
        {
         "hoverinfo": "none",
         "line": {
          "color": "green",
          "width": 3
         },
         "mode": "lines",
         "showlegend": false,
         "type": "scatter",
         "x": [
          "2019-07-15T00:00:00",
          "2019-07-16T00:00:00"
         ],
         "xaxis": "x",
         "y": [
          163.68,
          163.79
         ],
         "yaxis": "y"
        },
        {
         "hoverinfo": "none",
         "line": {
          "color": "red",
          "width": 3
         },
         "mode": "lines",
         "showlegend": false,
         "type": "scatter",
         "x": [
          "2019-07-16T00:00:00",
          "2019-07-17T00:00:00"
         ],
         "xaxis": "x",
         "y": [
          163.79,
          163.78
         ],
         "yaxis": "y"
        },
        {
         "hoverinfo": "none",
         "line": {
          "color": "green",
          "width": 3
         },
         "mode": "lines",
         "showlegend": false,
         "type": "scatter",
         "x": [
          "2019-07-17T00:00:00",
          "2019-07-18T00:00:00"
         ],
         "xaxis": "x",
         "y": [
          163.78,
          163.89
         ],
         "yaxis": "y"
        },
        {
         "hoverinfo": "none",
         "line": {
          "color": "green",
          "width": 3
         },
         "mode": "lines",
         "showlegend": false,
         "type": "scatter",
         "x": [
          "2019-07-18T00:00:00",
          "2019-07-19T00:00:00"
         ],
         "xaxis": "x",
         "y": [
          163.89,
          164
         ],
         "yaxis": "y"
        },
        {
         "hoverinfo": "none",
         "line": {
          "color": "green",
          "width": 3
         },
         "mode": "lines",
         "showlegend": false,
         "type": "scatter",
         "x": [
          "2019-07-19T00:00:00",
          "2019-07-20T00:00:00"
         ],
         "xaxis": "x",
         "y": [
          164,
          164
         ],
         "yaxis": "y"
        },
        {
         "hoverinfo": "none",
         "line": {
          "color": "green",
          "width": 3
         },
         "mode": "lines",
         "showlegend": false,
         "type": "scatter",
         "x": [
          "2019-07-20T00:00:00",
          "2019-07-21T00:00:00"
         ],
         "xaxis": "x",
         "y": [
          164,
          164
         ],
         "yaxis": "y"
        },
        {
         "hoverinfo": "none",
         "line": {
          "color": "red",
          "width": 3
         },
         "mode": "lines",
         "showlegend": false,
         "type": "scatter",
         "x": [
          "2019-07-21T00:00:00",
          "2019-07-22T00:00:00"
         ],
         "xaxis": "x",
         "y": [
          164,
          163.99
         ],
         "yaxis": "y"
        },
        {
         "hoverinfo": "none",
         "line": {
          "color": "green",
          "width": 3
         },
         "mode": "lines",
         "showlegend": false,
         "type": "scatter",
         "x": [
          "2019-07-22T00:00:00",
          "2019-07-23T00:00:00"
         ],
         "xaxis": "x",
         "y": [
          163.99,
          163.99
         ],
         "yaxis": "y"
        },
        {
         "hoverinfo": "none",
         "line": {
          "color": "green",
          "width": 3
         },
         "mode": "lines",
         "showlegend": false,
         "type": "scatter",
         "x": [
          "2019-07-23T00:00:00",
          "2019-07-24T00:00:00"
         ],
         "xaxis": "x",
         "y": [
          163.99,
          163.99
         ],
         "yaxis": "y"
        },
        {
         "hoverinfo": "none",
         "line": {
          "color": "red",
          "width": 3
         },
         "mode": "lines",
         "showlegend": false,
         "type": "scatter",
         "x": [
          "2019-07-24T00:00:00",
          "2019-07-25T00:00:00"
         ],
         "xaxis": "x",
         "y": [
          163.99,
          163.98
         ],
         "yaxis": "y"
        },
        {
         "hoverinfo": "none",
         "line": {
          "color": "red",
          "width": 3
         },
         "mode": "lines",
         "showlegend": false,
         "type": "scatter",
         "x": [
          "2019-07-25T00:00:00",
          "2019-07-26T00:00:00"
         ],
         "xaxis": "x",
         "y": [
          163.98,
          163.97
         ],
         "yaxis": "y"
        },
        {
         "hoverinfo": "none",
         "line": {
          "color": "red",
          "width": 3
         },
         "mode": "lines",
         "showlegend": false,
         "type": "scatter",
         "x": [
          "2019-07-26T00:00:00",
          "2019-07-27T00:00:00"
         ],
         "xaxis": "x",
         "y": [
          163.97,
          163.85
         ],
         "yaxis": "y"
        },
        {
         "hoverinfo": "none",
         "line": {
          "color": "red",
          "width": 3
         },
         "mode": "lines",
         "showlegend": false,
         "type": "scatter",
         "x": [
          "2019-07-27T00:00:00",
          "2019-07-28T00:00:00"
         ],
         "xaxis": "x",
         "y": [
          163.85,
          163.72
         ],
         "yaxis": "y"
        },
        {
         "hoverinfo": "none",
         "line": {
          "color": "red",
          "width": 3
         },
         "mode": "lines",
         "showlegend": false,
         "type": "scatter",
         "x": [
          "2019-07-28T00:00:00",
          "2019-07-29T00:00:00"
         ],
         "xaxis": "x",
         "y": [
          163.72,
          163.6
         ],
         "yaxis": "y"
        },
        {
         "hoverinfo": "none",
         "line": {
          "color": "green",
          "width": 3
         },
         "mode": "lines",
         "showlegend": false,
         "type": "scatter",
         "x": [
          "2019-07-29T00:00:00",
          "2019-07-30T00:00:00"
         ],
         "xaxis": "x",
         "y": [
          163.6,
          163.6
         ],
         "yaxis": "y"
        },
        {
         "hoverinfo": "none",
         "line": {
          "color": "red",
          "width": 3
         },
         "mode": "lines",
         "showlegend": false,
         "type": "scatter",
         "x": [
          "2019-07-30T00:00:00",
          "2019-07-31T00:00:00"
         ],
         "xaxis": "x",
         "y": [
          163.6,
          163.59
         ],
         "yaxis": "y"
        },
        {
         "hoverinfo": "none",
         "line": {
          "color": "red",
          "width": 3
         },
         "mode": "lines",
         "showlegend": false,
         "type": "scatter",
         "x": [
          "2019-07-31T00:00:00",
          "2019-08-01T00:00:00"
         ],
         "xaxis": "x",
         "y": [
          163.59,
          163.48
         ],
         "yaxis": "y"
        },
        {
         "hoverinfo": "none",
         "line": {
          "color": "green",
          "width": 3
         },
         "mode": "lines",
         "showlegend": false,
         "type": "scatter",
         "x": [
          "2019-08-01T00:00:00",
          "2019-08-02T00:00:00"
         ],
         "xaxis": "x",
         "y": [
          163.48,
          163.48
         ],
         "yaxis": "y"
        },
        {
         "hoverinfo": "none",
         "line": {
          "color": "red",
          "width": 3
         },
         "mode": "lines",
         "showlegend": false,
         "type": "scatter",
         "x": [
          "2019-08-02T00:00:00",
          "2019-08-03T00:00:00"
         ],
         "xaxis": "x",
         "y": [
          163.48,
          163.37
         ],
         "yaxis": "y"
        },
        {
         "hoverinfo": "none",
         "line": {
          "color": "green",
          "width": 3
         },
         "mode": "lines",
         "showlegend": false,
         "type": "scatter",
         "x": [
          "2019-08-03T00:00:00",
          "2019-08-04T00:00:00"
         ],
         "xaxis": "x",
         "y": [
          163.37,
          163.38
         ],
         "yaxis": "y"
        },
        {
         "hoverinfo": "none",
         "line": {
          "color": "green",
          "width": 3
         },
         "mode": "lines",
         "showlegend": false,
         "type": "scatter",
         "x": [
          "2019-08-04T00:00:00",
          "2019-08-05T00:00:00"
         ],
         "xaxis": "x",
         "y": [
          163.38,
          163.39
         ],
         "yaxis": "y"
        },
        {
         "hoverinfo": "none",
         "line": {
          "color": "green",
          "width": 3
         },
         "mode": "lines",
         "showlegend": false,
         "type": "scatter",
         "x": [
          "2019-08-05T00:00:00",
          "2019-08-06T00:00:00"
         ],
         "xaxis": "x",
         "y": [
          163.39,
          163.4
         ],
         "yaxis": "y"
        },
        {
         "hoverinfo": "none",
         "line": {
          "color": "red",
          "width": 3
         },
         "mode": "lines",
         "showlegend": false,
         "type": "scatter",
         "x": [
          "2019-08-06T00:00:00",
          "2019-08-07T00:00:00"
         ],
         "xaxis": "x",
         "y": [
          163.4,
          163.29
         ],
         "yaxis": "y"
        },
        {
         "hoverinfo": "none",
         "line": {
          "color": "red",
          "width": 3
         },
         "mode": "lines",
         "showlegend": false,
         "type": "scatter",
         "x": [
          "2019-08-07T00:00:00",
          "2019-08-08T00:00:00"
         ],
         "xaxis": "x",
         "y": [
          163.29,
          163.18
         ],
         "yaxis": "y"
        },
        {
         "hoverinfo": "none",
         "line": {
          "color": "green",
          "width": 3
         },
         "mode": "lines",
         "showlegend": false,
         "type": "scatter",
         "x": [
          "2019-08-08T00:00:00",
          "2019-08-09T00:00:00"
         ],
         "xaxis": "x",
         "y": [
          163.18,
          163.18
         ],
         "yaxis": "y"
        },
        {
         "hoverinfo": "none",
         "line": {
          "color": "red",
          "width": 3
         },
         "mode": "lines",
         "showlegend": false,
         "type": "scatter",
         "x": [
          "2019-08-09T00:00:00",
          "2019-08-10T00:00:00"
         ],
         "xaxis": "x",
         "y": [
          163.18,
          163.06
         ],
         "yaxis": "y"
        },
        {
         "hoverinfo": "none",
         "line": {
          "color": "green",
          "width": 3
         },
         "mode": "lines",
         "showlegend": false,
         "type": "scatter",
         "x": [
          "2019-08-10T00:00:00",
          "2019-08-11T00:00:00"
         ],
         "xaxis": "x",
         "y": [
          163.06,
          163.18
         ],
         "yaxis": "y"
        },
        {
         "hoverinfo": "none",
         "line": {
          "color": "green",
          "width": 3
         },
         "mode": "lines",
         "showlegend": false,
         "type": "scatter",
         "x": [
          "2019-08-11T00:00:00",
          "2019-08-12T00:00:00"
         ],
         "xaxis": "x",
         "y": [
          163.18,
          163.18
         ],
         "yaxis": "y"
        },
        {
         "hoverinfo": "none",
         "line": {
          "color": "green",
          "width": 3
         },
         "mode": "lines",
         "showlegend": false,
         "type": "scatter",
         "x": [
          "2019-08-12T00:00:00",
          "2019-08-13T00:00:00"
         ],
         "xaxis": "x",
         "y": [
          163.18,
          163.29
         ],
         "yaxis": "y"
        },
        {
         "hoverinfo": "none",
         "line": {
          "color": "green",
          "width": 3
         },
         "mode": "lines",
         "showlegend": false,
         "type": "scatter",
         "x": [
          "2019-08-13T00:00:00",
          "2019-08-14T00:00:00"
         ],
         "xaxis": "x",
         "y": [
          163.29,
          163.41
         ],
         "yaxis": "y"
        },
        {
         "hoverinfo": "none",
         "line": {
          "color": "green",
          "width": 3
         },
         "mode": "lines",
         "showlegend": false,
         "type": "scatter",
         "x": [
          "2019-08-14T00:00:00",
          "2019-08-15T00:00:00"
         ],
         "xaxis": "x",
         "y": [
          163.41,
          163.53
         ],
         "yaxis": "y"
        },
        {
         "hoverinfo": "none",
         "line": {
          "color": "green",
          "width": 3
         },
         "mode": "lines",
         "showlegend": false,
         "type": "scatter",
         "x": [
          "2019-08-15T00:00:00",
          "2019-08-16T00:00:00"
         ],
         "xaxis": "x",
         "y": [
          163.53,
          163.53
         ],
         "yaxis": "y"
        },
        {
         "hoverinfo": "none",
         "line": {
          "color": "green",
          "width": 3
         },
         "mode": "lines",
         "showlegend": false,
         "type": "scatter",
         "x": [
          "2019-08-16T00:00:00",
          "2019-08-17T00:00:00"
         ],
         "xaxis": "x",
         "y": [
          163.53,
          163.53
         ],
         "yaxis": "y"
        },
        {
         "hoverinfo": "none",
         "line": {
          "color": "green",
          "width": 3
         },
         "mode": "lines",
         "showlegend": false,
         "type": "scatter",
         "x": [
          "2019-08-17T00:00:00",
          "2019-08-18T00:00:00"
         ],
         "xaxis": "x",
         "y": [
          163.53,
          163.53
         ],
         "yaxis": "y"
        },
        {
         "hoverinfo": "none",
         "line": {
          "color": "green",
          "width": 3
         },
         "mode": "lines",
         "showlegend": false,
         "type": "scatter",
         "x": [
          "2019-08-18T00:00:00",
          "2019-08-19T00:00:00"
         ],
         "xaxis": "x",
         "y": [
          163.53,
          163.53
         ],
         "yaxis": "y"
        },
        {
         "hoverinfo": "none",
         "line": {
          "color": "green",
          "width": 3
         },
         "mode": "lines",
         "showlegend": false,
         "type": "scatter",
         "x": [
          "2019-08-19T00:00:00",
          "2019-08-20T00:00:00"
         ],
         "xaxis": "x",
         "y": [
          163.53,
          163.65
         ],
         "yaxis": "y"
        },
        {
         "hoverinfo": "none",
         "line": {
          "color": "green",
          "width": 3
         },
         "mode": "lines",
         "showlegend": false,
         "type": "scatter",
         "x": [
          "2019-08-20T00:00:00",
          "2019-08-21T00:00:00"
         ],
         "xaxis": "x",
         "y": [
          163.65,
          163.66
         ],
         "yaxis": "y"
        },
        {
         "hoverinfo": "none",
         "line": {
          "color": "green",
          "width": 3
         },
         "mode": "lines",
         "showlegend": false,
         "type": "scatter",
         "x": [
          "2019-08-21T00:00:00",
          "2019-08-22T00:00:00"
         ],
         "xaxis": "x",
         "y": [
          163.66,
          163.67
         ],
         "yaxis": "y"
        },
        {
         "hoverinfo": "none",
         "line": {
          "color": "green",
          "width": 3
         },
         "mode": "lines",
         "showlegend": false,
         "type": "scatter",
         "x": [
          "2019-08-22T00:00:00",
          "2019-08-23T00:00:00"
         ],
         "xaxis": "x",
         "y": [
          163.67,
          163.67
         ],
         "yaxis": "y"
        },
        {
         "hoverinfo": "none",
         "line": {
          "color": "green",
          "width": 3
         },
         "mode": "lines",
         "showlegend": false,
         "type": "scatter",
         "x": [
          "2019-08-23T00:00:00",
          "2019-08-24T00:00:00"
         ],
         "xaxis": "x",
         "y": [
          163.67,
          163.8
         ],
         "yaxis": "y"
        },
        {
         "hoverinfo": "none",
         "line": {
          "color": "green",
          "width": 3
         },
         "mode": "lines",
         "showlegend": false,
         "type": "scatter",
         "x": [
          "2019-08-24T00:00:00",
          "2019-08-25T00:00:00"
         ],
         "xaxis": "x",
         "y": [
          163.8,
          163.93
         ],
         "yaxis": "y"
        },
        {
         "hoverinfo": "none",
         "line": {
          "color": "green",
          "width": 3
         },
         "mode": "lines",
         "showlegend": false,
         "type": "scatter",
         "x": [
          "2019-08-25T00:00:00",
          "2019-08-26T00:00:00"
         ],
         "xaxis": "x",
         "y": [
          163.93,
          164.07
         ],
         "yaxis": "y"
        },
        {
         "hoverinfo": "none",
         "line": {
          "color": "green",
          "width": 3
         },
         "mode": "lines",
         "showlegend": false,
         "type": "scatter",
         "x": [
          "2019-08-26T00:00:00",
          "2019-08-27T00:00:00"
         ],
         "xaxis": "x",
         "y": [
          164.07,
          164.08
         ],
         "yaxis": "y"
        },
        {
         "hoverinfo": "none",
         "line": {
          "color": "green",
          "width": 3
         },
         "mode": "lines",
         "showlegend": false,
         "type": "scatter",
         "x": [
          "2019-08-27T00:00:00",
          "2019-08-28T00:00:00"
         ],
         "xaxis": "x",
         "y": [
          164.08,
          164.08
         ],
         "yaxis": "y"
        },
        {
         "hoverinfo": "none",
         "line": {
          "color": "green",
          "width": 3
         },
         "mode": "lines",
         "showlegend": false,
         "type": "scatter",
         "x": [
          "2019-08-28T00:00:00",
          "2019-08-29T00:00:00"
         ],
         "xaxis": "x",
         "y": [
          164.08,
          164.09
         ],
         "yaxis": "y"
        },
        {
         "hoverinfo": "none",
         "line": {
          "color": "green",
          "width": 3
         },
         "mode": "lines",
         "showlegend": false,
         "type": "scatter",
         "x": [
          "2019-08-29T00:00:00",
          "2019-08-30T00:00:00"
         ],
         "xaxis": "x",
         "y": [
          164.09,
          164.1
         ],
         "yaxis": "y"
        },
        {
         "hoverinfo": "none",
         "line": {
          "color": "green",
          "width": 3
         },
         "mode": "lines",
         "showlegend": false,
         "type": "scatter",
         "x": [
          "2019-08-30T00:00:00",
          "2019-08-31T00:00:00"
         ],
         "xaxis": "x",
         "y": [
          164.1,
          164.11
         ],
         "yaxis": "y"
        },
        {
         "hoverinfo": "none",
         "line": {
          "color": "green",
          "width": 3
         },
         "mode": "lines",
         "showlegend": false,
         "type": "scatter",
         "x": [
          "2019-08-31T00:00:00",
          "2019-09-01T00:00:00"
         ],
         "xaxis": "x",
         "y": [
          164.11,
          164.23
         ],
         "yaxis": "y"
        },
        {
         "hoverinfo": "none",
         "line": {
          "color": "green",
          "width": 3
         },
         "mode": "lines",
         "showlegend": false,
         "type": "scatter",
         "x": [
          "2019-09-01T00:00:00",
          "2019-09-02T00:00:00"
         ],
         "xaxis": "x",
         "y": [
          164.23,
          164.34
         ],
         "yaxis": "y"
        },
        {
         "hoverinfo": "none",
         "line": {
          "color": "green",
          "width": 3
         },
         "mode": "lines",
         "showlegend": false,
         "type": "scatter",
         "x": [
          "2019-09-02T00:00:00",
          "2019-09-03T00:00:00"
         ],
         "xaxis": "x",
         "y": [
          164.34,
          164.4
         ],
         "yaxis": "y"
        },
        {
         "hoverinfo": "none",
         "line": {
          "color": "green",
          "width": 3
         },
         "mode": "lines",
         "showlegend": false,
         "type": "scatter",
         "x": [
          "2019-09-03T00:00:00",
          "2019-09-04T00:00:00"
         ],
         "xaxis": "x",
         "y": [
          164.4,
          164.4
         ],
         "yaxis": "y"
        },
        {
         "hoverinfo": "none",
         "line": {
          "color": "green",
          "width": 3
         },
         "mode": "lines",
         "showlegend": false,
         "type": "scatter",
         "x": [
          "2019-09-04T00:00:00",
          "2019-09-05T00:00:00"
         ],
         "xaxis": "x",
         "y": [
          164.4,
          164.41
         ],
         "yaxis": "y"
        },
        {
         "hoverinfo": "none",
         "line": {
          "color": "green",
          "width": 3
         },
         "mode": "lines",
         "showlegend": false,
         "type": "scatter",
         "x": [
          "2019-09-05T00:00:00",
          "2019-09-06T00:00:00"
         ],
         "xaxis": "x",
         "y": [
          164.41,
          164.48
         ],
         "yaxis": "y"
        },
        {
         "hoverinfo": "none",
         "line": {
          "color": "green",
          "width": 3
         },
         "mode": "lines",
         "showlegend": false,
         "type": "scatter",
         "x": [
          "2019-09-06T00:00:00",
          "2019-09-07T00:00:00"
         ],
         "xaxis": "x",
         "y": [
          164.48,
          164.49
         ],
         "yaxis": "y"
        },
        {
         "hoverinfo": "none",
         "line": {
          "color": "green",
          "width": 3
         },
         "mode": "lines",
         "showlegend": false,
         "type": "scatter",
         "x": [
          "2019-09-07T00:00:00",
          "2019-09-08T00:00:00"
         ],
         "xaxis": "x",
         "y": [
          164.49,
          164.5
         ],
         "yaxis": "y"
        },
        {
         "hoverinfo": "none",
         "line": {
          "color": "red",
          "width": 3
         },
         "mode": "lines",
         "showlegend": false,
         "type": "scatter",
         "x": [
          "2019-09-08T00:00:00",
          "2019-09-09T00:00:00"
         ],
         "xaxis": "x",
         "y": [
          164.5,
          164.4
         ],
         "yaxis": "y"
        },
        {
         "hoverinfo": "none",
         "line": {
          "color": "red",
          "width": 3
         },
         "mode": "lines",
         "showlegend": false,
         "type": "scatter",
         "x": [
          "2019-09-09T00:00:00",
          "2019-09-10T00:00:00"
         ],
         "xaxis": "x",
         "y": [
          164.4,
          164.28
         ],
         "yaxis": "y"
        },
        {
         "hoverinfo": "none",
         "line": {
          "color": "red",
          "width": 3
         },
         "mode": "lines",
         "showlegend": false,
         "type": "scatter",
         "x": [
          "2019-09-10T00:00:00",
          "2019-09-11T00:00:00"
         ],
         "xaxis": "x",
         "y": [
          164.28,
          164.24
         ],
         "yaxis": "y"
        },
        {
         "hoverinfo": "none",
         "line": {
          "color": "green",
          "width": 3
         },
         "mode": "lines",
         "showlegend": false,
         "type": "scatter",
         "x": [
          "2019-09-11T00:00:00",
          "2019-09-12T00:00:00"
         ],
         "xaxis": "x",
         "y": [
          164.24,
          164.25
         ],
         "yaxis": "y"
        },
        {
         "hoverinfo": "none",
         "line": {
          "color": "green",
          "width": 3
         },
         "mode": "lines",
         "showlegend": false,
         "type": "scatter",
         "x": [
          "2019-09-12T00:00:00",
          "2019-09-13T00:00:00"
         ],
         "xaxis": "x",
         "y": [
          164.25,
          164.26
         ],
         "yaxis": "y"
        },
        {
         "hoverinfo": "none",
         "line": {
          "color": "red",
          "width": 3
         },
         "mode": "lines",
         "showlegend": false,
         "type": "scatter",
         "x": [
          "2019-09-13T00:00:00",
          "2019-09-14T00:00:00"
         ],
         "xaxis": "x",
         "y": [
          164.26,
          164.21
         ],
         "yaxis": "y"
        },
        {
         "hoverinfo": "none",
         "line": {
          "color": "green",
          "width": 3
         },
         "mode": "lines",
         "showlegend": false,
         "type": "scatter",
         "x": [
          "2019-09-14T00:00:00",
          "2019-09-15T00:00:00"
         ],
         "xaxis": "x",
         "y": [
          164.21,
          164.21
         ],
         "yaxis": "y"
        },
        {
         "hoverinfo": "none",
         "line": {
          "color": "green",
          "width": 3
         },
         "mode": "lines",
         "showlegend": false,
         "type": "scatter",
         "x": [
          "2019-09-15T00:00:00",
          "2019-09-16T00:00:00"
         ],
         "xaxis": "x",
         "y": [
          164.21,
          164.22
         ],
         "yaxis": "y"
        },
        {
         "hoverinfo": "none",
         "line": {
          "color": "green",
          "width": 3
         },
         "mode": "lines",
         "showlegend": false,
         "type": "scatter",
         "x": [
          "2019-09-16T00:00:00",
          "2019-09-17T00:00:00"
         ],
         "xaxis": "x",
         "y": [
          164.22,
          164.23
         ],
         "yaxis": "y"
        },
        {
         "hoverinfo": "none",
         "line": {
          "color": "green",
          "width": 3
         },
         "mode": "lines",
         "showlegend": false,
         "type": "scatter",
         "x": [
          "2019-09-17T00:00:00",
          "2019-09-18T00:00:00"
         ],
         "xaxis": "x",
         "y": [
          164.23,
          164.23
         ],
         "yaxis": "y"
        },
        {
         "hoverinfo": "none",
         "line": {
          "color": "green",
          "width": 3
         },
         "mode": "lines",
         "showlegend": false,
         "type": "scatter",
         "x": [
          "2019-09-18T00:00:00",
          "2019-09-19T00:00:00"
         ],
         "xaxis": "x",
         "y": [
          164.23,
          164.24
         ],
         "yaxis": "y"
        },
        {
         "hoverinfo": "none",
         "line": {
          "color": "green",
          "width": 3
         },
         "mode": "lines",
         "showlegend": false,
         "type": "scatter",
         "x": [
          "2019-09-19T00:00:00",
          "2019-09-20T00:00:00"
         ],
         "xaxis": "x",
         "y": [
          164.24,
          164.24
         ],
         "yaxis": "y"
        },
        {
         "hoverinfo": "none",
         "line": {
          "color": "green",
          "width": 3
         },
         "mode": "lines",
         "showlegend": false,
         "type": "scatter",
         "x": [
          "2019-09-20T00:00:00",
          "2019-09-21T00:00:00"
         ],
         "xaxis": "x",
         "y": [
          164.24,
          164.24
         ],
         "yaxis": "y"
        },
        {
         "hoverinfo": "none",
         "line": {
          "color": "red",
          "width": 3
         },
         "mode": "lines",
         "showlegend": false,
         "type": "scatter",
         "x": [
          "2019-09-21T00:00:00",
          "2019-09-22T00:00:00"
         ],
         "xaxis": "x",
         "y": [
          164.24,
          164.23
         ],
         "yaxis": "y"
        },
        {
         "hoverinfo": "none",
         "line": {
          "color": "green",
          "width": 3
         },
         "mode": "lines",
         "showlegend": false,
         "type": "scatter",
         "x": [
          "2019-09-22T00:00:00",
          "2019-09-23T00:00:00"
         ],
         "xaxis": "x",
         "y": [
          164.23,
          164.23
         ],
         "yaxis": "y"
        },
        {
         "hoverinfo": "none",
         "line": {
          "color": "green",
          "width": 3
         },
         "mode": "lines",
         "showlegend": false,
         "type": "scatter",
         "x": [
          "2019-09-23T00:00:00",
          "2019-09-24T00:00:00"
         ],
         "xaxis": "x",
         "y": [
          164.23,
          164.23
         ],
         "yaxis": "y"
        },
        {
         "hoverinfo": "none",
         "line": {
          "color": "green",
          "width": 3
         },
         "mode": "lines",
         "showlegend": false,
         "type": "scatter",
         "x": [
          "2019-09-24T00:00:00",
          "2019-09-25T00:00:00"
         ],
         "xaxis": "x",
         "y": [
          164.23,
          164.23
         ],
         "yaxis": "y"
        },
        {
         "hoverinfo": "none",
         "line": {
          "color": "green",
          "width": 3
         },
         "mode": "lines",
         "showlegend": false,
         "type": "scatter",
         "x": [
          "2019-09-25T00:00:00",
          "2019-09-26T00:00:00"
         ],
         "xaxis": "x",
         "y": [
          164.23,
          164.23
         ],
         "yaxis": "y"
        },
        {
         "hoverinfo": "none",
         "line": {
          "color": "green",
          "width": 3
         },
         "mode": "lines",
         "showlegend": false,
         "type": "scatter",
         "x": [
          "2019-09-26T00:00:00",
          "2019-09-27T00:00:00"
         ],
         "xaxis": "x",
         "y": [
          164.23,
          164.23
         ],
         "yaxis": "y"
        },
        {
         "hoverinfo": "none",
         "line": {
          "color": "green",
          "width": 3
         },
         "mode": "lines",
         "showlegend": false,
         "type": "scatter",
         "x": [
          "2019-09-27T00:00:00",
          "2019-09-28T00:00:00"
         ],
         "xaxis": "x",
         "y": [
          164.23,
          164.23
         ],
         "yaxis": "y"
        },
        {
         "hoverinfo": "none",
         "line": {
          "color": "green",
          "width": 3
         },
         "mode": "lines",
         "showlegend": false,
         "type": "scatter",
         "x": [
          "2019-09-28T00:00:00",
          "2019-09-29T00:00:00"
         ],
         "xaxis": "x",
         "y": [
          164.23,
          164.23
         ],
         "yaxis": "y"
        },
        {
         "hoverinfo": "none",
         "line": {
          "color": "green",
          "width": 3
         },
         "mode": "lines",
         "showlegend": false,
         "type": "scatter",
         "x": [
          "2019-09-29T00:00:00",
          "2019-09-30T00:00:00"
         ],
         "xaxis": "x",
         "y": [
          164.23,
          164.23
         ],
         "yaxis": "y"
        },
        {
         "hoverinfo": "none",
         "line": {
          "color": "green",
          "width": 3
         },
         "mode": "lines",
         "showlegend": false,
         "type": "scatter",
         "x": [
          "2019-09-30T00:00:00",
          "2019-10-01T00:00:00"
         ],
         "xaxis": "x",
         "y": [
          164.23,
          164.24
         ],
         "yaxis": "y"
        },
        {
         "hoverinfo": "none",
         "line": {
          "color": "green",
          "width": 3
         },
         "mode": "lines",
         "showlegend": false,
         "type": "scatter",
         "x": [
          "2019-10-01T00:00:00",
          "2019-10-02T00:00:00"
         ],
         "xaxis": "x",
         "y": [
          164.24,
          164.24
         ],
         "yaxis": "y"
        },
        {
         "hoverinfo": "none",
         "line": {
          "color": "green",
          "width": 3
         },
         "mode": "lines",
         "showlegend": false,
         "type": "scatter",
         "x": [
          "2019-10-02T00:00:00",
          "2019-10-03T00:00:00"
         ],
         "xaxis": "x",
         "y": [
          164.24,
          164.24
         ],
         "yaxis": "y"
        },
        {
         "hoverinfo": "none",
         "line": {
          "color": "green",
          "width": 3
         },
         "mode": "lines",
         "showlegend": false,
         "type": "scatter",
         "x": [
          "2019-10-03T00:00:00",
          "2019-10-04T00:00:00"
         ],
         "xaxis": "x",
         "y": [
          164.24,
          164.25
         ],
         "yaxis": "y"
        },
        {
         "hoverinfo": "none",
         "line": {
          "color": "green",
          "width": 3
         },
         "mode": "lines",
         "showlegend": false,
         "type": "scatter",
         "x": [
          "2019-10-04T00:00:00",
          "2019-10-05T00:00:00"
         ],
         "xaxis": "x",
         "y": [
          164.25,
          164.26
         ],
         "yaxis": "y"
        },
        {
         "hoverinfo": "none",
         "line": {
          "color": "green",
          "width": 3
         },
         "mode": "lines",
         "showlegend": false,
         "type": "scatter",
         "x": [
          "2019-10-05T00:00:00",
          "2019-10-06T00:00:00"
         ],
         "xaxis": "x",
         "y": [
          164.26,
          164.26
         ],
         "yaxis": "y"
        },
        {
         "hoverinfo": "none",
         "line": {
          "color": "red",
          "width": 3
         },
         "mode": "lines",
         "showlegend": false,
         "type": "scatter",
         "x": [
          "2019-10-06T00:00:00",
          "2019-10-07T00:00:00"
         ],
         "xaxis": "x",
         "y": [
          164.26,
          164.25
         ],
         "yaxis": "y"
        },
        {
         "hoverinfo": "none",
         "line": {
          "color": "green",
          "width": 3
         },
         "mode": "lines",
         "showlegend": false,
         "type": "scatter",
         "x": [
          "2019-10-07T00:00:00",
          "2019-10-08T00:00:00"
         ],
         "xaxis": "x",
         "y": [
          164.25,
          164.25
         ],
         "yaxis": "y"
        },
        {
         "hoverinfo": "none",
         "line": {
          "color": "red",
          "width": 3
         },
         "mode": "lines",
         "showlegend": false,
         "type": "scatter",
         "x": [
          "2019-10-08T00:00:00",
          "2019-10-09T00:00:00"
         ],
         "xaxis": "x",
         "y": [
          164.25,
          164.24
         ],
         "yaxis": "y"
        },
        {
         "hoverinfo": "none",
         "line": {
          "color": "red",
          "width": 3
         },
         "mode": "lines",
         "showlegend": false,
         "type": "scatter",
         "x": [
          "2019-10-09T00:00:00",
          "2019-10-10T00:00:00"
         ],
         "xaxis": "x",
         "y": [
          164.24,
          164.23
         ],
         "yaxis": "y"
        },
        {
         "hoverinfo": "none",
         "line": {
          "color": "red",
          "width": 3
         },
         "mode": "lines",
         "showlegend": false,
         "type": "scatter",
         "x": [
          "2019-10-10T00:00:00",
          "2019-10-11T00:00:00"
         ],
         "xaxis": "x",
         "y": [
          164.23,
          164.22
         ],
         "yaxis": "y"
        },
        {
         "hoverinfo": "none",
         "line": {
          "color": "green",
          "width": 3
         },
         "mode": "lines",
         "showlegend": false,
         "type": "scatter",
         "x": [
          "2019-10-11T00:00:00",
          "2019-10-12T00:00:00"
         ],
         "xaxis": "x",
         "y": [
          164.22,
          164.23
         ],
         "yaxis": "y"
        },
        {
         "hoverinfo": "none",
         "line": {
          "color": "green",
          "width": 3
         },
         "mode": "lines",
         "showlegend": false,
         "type": "scatter",
         "x": [
          "2019-10-12T00:00:00",
          "2019-10-13T00:00:00"
         ],
         "xaxis": "x",
         "y": [
          164.23,
          164.23
         ],
         "yaxis": "y"
        },
        {
         "hoverinfo": "none",
         "line": {
          "color": "green",
          "width": 3
         },
         "mode": "lines",
         "showlegend": false,
         "type": "scatter",
         "x": [
          "2019-10-13T00:00:00",
          "2019-10-14T00:00:00"
         ],
         "xaxis": "x",
         "y": [
          164.23,
          164.23
         ],
         "yaxis": "y"
        },
        {
         "hoverinfo": "none",
         "line": {
          "color": "green",
          "width": 3
         },
         "mode": "lines",
         "showlegend": false,
         "type": "scatter",
         "x": [
          "2019-10-14T00:00:00",
          "2019-10-15T00:00:00"
         ],
         "xaxis": "x",
         "y": [
          164.23,
          164.24
         ],
         "yaxis": "y"
        },
        {
         "hoverinfo": "none",
         "line": {
          "color": "red",
          "width": 3
         },
         "mode": "lines",
         "showlegend": false,
         "type": "scatter",
         "x": [
          "2019-10-15T00:00:00",
          "2019-10-16T00:00:00"
         ],
         "xaxis": "x",
         "y": [
          164.24,
          164.18
         ],
         "yaxis": "y"
        },
        {
         "hoverinfo": "none",
         "line": {
          "color": "red",
          "width": 3
         },
         "mode": "lines",
         "showlegend": false,
         "type": "scatter",
         "x": [
          "2019-10-16T00:00:00",
          "2019-10-17T00:00:00"
         ],
         "xaxis": "x",
         "y": [
          164.18,
          164.07
         ],
         "yaxis": "y"
        },
        {
         "hoverinfo": "none",
         "line": {
          "color": "green",
          "width": 3
         },
         "mode": "lines",
         "showlegend": false,
         "type": "scatter",
         "x": [
          "2019-10-17T00:00:00",
          "2019-10-18T00:00:00"
         ],
         "xaxis": "x",
         "y": [
          164.07,
          164.07
         ],
         "yaxis": "y"
        },
        {
         "hoverinfo": "none",
         "line": {
          "color": "red",
          "width": 3
         },
         "mode": "lines",
         "showlegend": false,
         "type": "scatter",
         "x": [
          "2019-10-18T00:00:00",
          "2019-10-19T00:00:00"
         ],
         "xaxis": "x",
         "y": [
          164.07,
          163.96
         ],
         "yaxis": "y"
        },
        {
         "hoverinfo": "none",
         "line": {
          "color": "red",
          "width": 3
         },
         "mode": "lines",
         "showlegend": false,
         "type": "scatter",
         "x": [
          "2019-10-19T00:00:00",
          "2019-10-20T00:00:00"
         ],
         "xaxis": "x",
         "y": [
          163.96,
          163.83
         ],
         "yaxis": "y"
        },
        {
         "hoverinfo": "none",
         "line": {
          "color": "red",
          "width": 3
         },
         "mode": "lines",
         "showlegend": false,
         "type": "scatter",
         "x": [
          "2019-10-20T00:00:00",
          "2019-10-21T00:00:00"
         ],
         "xaxis": "x",
         "y": [
          163.83,
          163.71
         ],
         "yaxis": "y"
        },
        {
         "hoverinfo": "none",
         "line": {
          "color": "red",
          "width": 3
         },
         "mode": "lines",
         "showlegend": false,
         "type": "scatter",
         "x": [
          "2019-10-21T00:00:00",
          "2019-10-22T00:00:00"
         ],
         "xaxis": "x",
         "y": [
          163.71,
          163.6
         ],
         "yaxis": "y"
        },
        {
         "hoverinfo": "none",
         "line": {
          "color": "red",
          "width": 3
         },
         "mode": "lines",
         "showlegend": false,
         "type": "scatter",
         "x": [
          "2019-10-22T00:00:00",
          "2019-10-23T00:00:00"
         ],
         "xaxis": "x",
         "y": [
          163.6,
          163.49
         ],
         "yaxis": "y"
        },
        {
         "hoverinfo": "none",
         "line": {
          "color": "red",
          "width": 3
         },
         "mode": "lines",
         "showlegend": false,
         "type": "scatter",
         "x": [
          "2019-10-23T00:00:00",
          "2019-10-24T00:00:00"
         ],
         "xaxis": "x",
         "y": [
          163.49,
          163.44
         ],
         "yaxis": "y"
        },
        {
         "hoverinfo": "none",
         "line": {
          "color": "green",
          "width": 3
         },
         "mode": "lines",
         "showlegend": false,
         "type": "scatter",
         "x": [
          "2019-10-24T00:00:00",
          "2019-10-25T00:00:00"
         ],
         "xaxis": "x",
         "y": [
          163.44,
          163.44
         ],
         "yaxis": "y"
        },
        {
         "hoverinfo": "none",
         "line": {
          "color": "red",
          "width": 3
         },
         "mode": "lines",
         "showlegend": false,
         "type": "scatter",
         "x": [
          "2019-10-25T00:00:00",
          "2019-10-26T00:00:00"
         ],
         "xaxis": "x",
         "y": [
          163.44,
          163.32
         ],
         "yaxis": "y"
        },
        {
         "hoverinfo": "none",
         "line": {
          "color": "green",
          "width": 3
         },
         "mode": "lines",
         "showlegend": false,
         "type": "scatter",
         "x": [
          "2019-10-26T00:00:00",
          "2019-10-27T00:00:00"
         ],
         "xaxis": "x",
         "y": [
          163.32,
          163.32
         ],
         "yaxis": "y"
        },
        {
         "hoverinfo": "none",
         "line": {
          "color": "green",
          "width": 3
         },
         "mode": "lines",
         "showlegend": false,
         "type": "scatter",
         "x": [
          "2019-10-27T00:00:00",
          "2019-10-28T00:00:00"
         ],
         "xaxis": "x",
         "y": [
          163.32,
          163.33
         ],
         "yaxis": "y"
        },
        {
         "hoverinfo": "none",
         "line": {
          "color": "green",
          "width": 3
         },
         "mode": "lines",
         "showlegend": false,
         "type": "scatter",
         "x": [
          "2019-10-28T00:00:00",
          "2019-10-29T00:00:00"
         ],
         "xaxis": "x",
         "y": [
          163.33,
          163.33
         ],
         "yaxis": "y"
        },
        {
         "hoverinfo": "none",
         "line": {
          "color": "red",
          "width": 3
         },
         "mode": "lines",
         "showlegend": false,
         "type": "scatter",
         "x": [
          "2019-10-29T00:00:00",
          "2019-10-30T00:00:00"
         ],
         "xaxis": "x",
         "y": [
          163.33,
          163.32
         ],
         "yaxis": "y"
        },
        {
         "hoverinfo": "none",
         "line": {
          "color": "green",
          "width": 3
         },
         "mode": "lines",
         "showlegend": false,
         "type": "scatter",
         "x": [
          "2019-10-30T00:00:00",
          "2019-10-31T00:00:00"
         ],
         "xaxis": "x",
         "y": [
          163.32,
          163.32
         ],
         "yaxis": "y"
        },
        {
         "hoverinfo": "none",
         "line": {
          "color": "red",
          "width": 3
         },
         "mode": "lines",
         "showlegend": false,
         "type": "scatter",
         "x": [
          "2019-10-31T00:00:00",
          "2019-11-01T00:00:00"
         ],
         "xaxis": "x",
         "y": [
          163.32,
          163.25
         ],
         "yaxis": "y"
        },
        {
         "hoverinfo": "none",
         "line": {
          "color": "green",
          "width": 3
         },
         "mode": "lines",
         "showlegend": false,
         "type": "scatter",
         "x": [
          "2019-11-01T00:00:00",
          "2019-11-02T00:00:00"
         ],
         "xaxis": "x",
         "y": [
          163.25,
          163.25
         ],
         "yaxis": "y"
        },
        {
         "hoverinfo": "none",
         "line": {
          "color": "green",
          "width": 3
         },
         "mode": "lines",
         "showlegend": false,
         "type": "scatter",
         "x": [
          "2019-11-02T00:00:00",
          "2019-11-03T00:00:00"
         ],
         "xaxis": "x",
         "y": [
          163.25,
          163.25
         ],
         "yaxis": "y"
        },
        {
         "hoverinfo": "none",
         "line": {
          "color": "red",
          "width": 3
         },
         "mode": "lines",
         "showlegend": false,
         "type": "scatter",
         "x": [
          "2019-11-03T00:00:00",
          "2019-11-04T00:00:00"
         ],
         "xaxis": "x",
         "y": [
          163.25,
          163.24
         ],
         "yaxis": "y"
        },
        {
         "hoverinfo": "none",
         "line": {
          "color": "green",
          "width": 3
         },
         "mode": "lines",
         "showlegend": false,
         "type": "scatter",
         "x": [
          "2019-11-04T00:00:00",
          "2019-11-05T00:00:00"
         ],
         "xaxis": "x",
         "y": [
          163.24,
          163.34
         ],
         "yaxis": "y"
        },
        {
         "hoverinfo": "none",
         "line": {
          "color": "green",
          "width": 3
         },
         "mode": "lines",
         "showlegend": false,
         "type": "scatter",
         "x": [
          "2019-11-05T00:00:00",
          "2019-11-06T00:00:00"
         ],
         "xaxis": "x",
         "y": [
          163.34,
          163.46
         ],
         "yaxis": "y"
        },
        {
         "hoverinfo": "none",
         "line": {
          "color": "green",
          "width": 3
         },
         "mode": "lines",
         "showlegend": false,
         "type": "scatter",
         "x": [
          "2019-11-06T00:00:00",
          "2019-11-07T00:00:00"
         ],
         "xaxis": "x",
         "y": [
          163.46,
          163.69
         ],
         "yaxis": "y"
        },
        {
         "hoverinfo": "none",
         "line": {
          "color": "green",
          "width": 3
         },
         "mode": "lines",
         "showlegend": false,
         "type": "scatter",
         "x": [
          "2019-11-07T00:00:00",
          "2019-11-08T00:00:00"
         ],
         "xaxis": "x",
         "y": [
          163.69,
          163.92
         ],
         "yaxis": "y"
        },
        {
         "hoverinfo": "none",
         "line": {
          "color": "green",
          "width": 3
         },
         "mode": "lines",
         "showlegend": false,
         "type": "scatter",
         "x": [
          "2019-11-08T00:00:00",
          "2019-11-09T00:00:00"
         ],
         "xaxis": "x",
         "y": [
          163.92,
          164.22
         ],
         "yaxis": "y"
        },
        {
         "hoverinfo": "none",
         "line": {
          "color": "green",
          "width": 3
         },
         "mode": "lines",
         "showlegend": false,
         "type": "scatter",
         "x": [
          "2019-11-09T00:00:00",
          "2019-11-10T00:00:00"
         ],
         "xaxis": "x",
         "y": [
          164.22,
          164.34
         ],
         "yaxis": "y"
        },
        {
         "hoverinfo": "none",
         "line": {
          "color": "green",
          "width": 3
         },
         "mode": "lines",
         "showlegend": false,
         "type": "scatter",
         "x": [
          "2019-11-10T00:00:00",
          "2019-11-11T00:00:00"
         ],
         "xaxis": "x",
         "y": [
          164.34,
          164.57
         ],
         "yaxis": "y"
        },
        {
         "hoverinfo": "none",
         "line": {
          "color": "green",
          "width": 3
         },
         "mode": "lines",
         "showlegend": false,
         "type": "scatter",
         "x": [
          "2019-11-11T00:00:00",
          "2019-11-12T00:00:00"
         ],
         "xaxis": "x",
         "y": [
          164.57,
          164.68
         ],
         "yaxis": "y"
        },
        {
         "hoverinfo": "none",
         "line": {
          "color": "green",
          "width": 3
         },
         "mode": "lines",
         "showlegend": false,
         "type": "scatter",
         "x": [
          "2019-11-12T00:00:00",
          "2019-11-13T00:00:00"
         ],
         "xaxis": "x",
         "y": [
          164.68,
          164.78
         ],
         "yaxis": "y"
        },
        {
         "hoverinfo": "none",
         "line": {
          "color": "green",
          "width": 3
         },
         "mode": "lines",
         "showlegend": false,
         "type": "scatter",
         "x": [
          "2019-11-13T00:00:00",
          "2019-11-14T00:00:00"
         ],
         "xaxis": "x",
         "y": [
          164.78,
          164.89
         ],
         "yaxis": "y"
        },
        {
         "hoverinfo": "none",
         "line": {
          "color": "red",
          "width": 3
         },
         "mode": "lines",
         "showlegend": false,
         "type": "scatter",
         "x": [
          "2019-11-14T00:00:00",
          "2019-11-15T00:00:00"
         ],
         "xaxis": "x",
         "y": [
          164.89,
          164.88
         ],
         "yaxis": "y"
        },
        {
         "hoverinfo": "none",
         "line": {
          "color": "red",
          "width": 3
         },
         "mode": "lines",
         "showlegend": false,
         "type": "scatter",
         "x": [
          "2019-11-15T00:00:00",
          "2019-11-16T00:00:00"
         ],
         "xaxis": "x",
         "y": [
          164.88,
          164.86
         ],
         "yaxis": "y"
        },
        {
         "hoverinfo": "none",
         "line": {
          "color": "red",
          "width": 3
         },
         "mode": "lines",
         "showlegend": false,
         "type": "scatter",
         "x": [
          "2019-11-16T00:00:00",
          "2019-11-17T00:00:00"
         ],
         "xaxis": "x",
         "y": [
          164.86,
          164.72
         ],
         "yaxis": "y"
        },
        {
         "hoverinfo": "none",
         "line": {
          "color": "green",
          "width": 3
         },
         "mode": "lines",
         "showlegend": false,
         "type": "scatter",
         "x": [
          "2019-11-17T00:00:00",
          "2019-11-18T00:00:00"
         ],
         "xaxis": "x",
         "y": [
          164.72,
          164.83
         ],
         "yaxis": "y"
        },
        {
         "hoverinfo": "none",
         "line": {
          "color": "green",
          "width": 3
         },
         "mode": "lines",
         "showlegend": false,
         "type": "scatter",
         "x": [
          "2019-11-18T00:00:00",
          "2019-11-19T00:00:00"
         ],
         "xaxis": "x",
         "y": [
          164.83,
          164.84
         ],
         "yaxis": "y"
        },
        {
         "hoverinfo": "none",
         "line": {
          "color": "green",
          "width": 3
         },
         "mode": "lines",
         "showlegend": false,
         "type": "scatter",
         "x": [
          "2019-11-19T00:00:00",
          "2019-11-20T00:00:00"
         ],
         "xaxis": "x",
         "y": [
          164.84,
          164.97
         ],
         "yaxis": "y"
        },
        {
         "hoverinfo": "none",
         "line": {
          "color": "green",
          "width": 3
         },
         "mode": "lines",
         "showlegend": false,
         "type": "scatter",
         "x": [
          "2019-11-20T00:00:00",
          "2019-11-21T00:00:00"
         ],
         "xaxis": "x",
         "y": [
          164.97,
          164.98
         ],
         "yaxis": "y"
        },
        {
         "hoverinfo": "none",
         "line": {
          "color": "green",
          "width": 3
         },
         "mode": "lines",
         "showlegend": false,
         "type": "scatter",
         "x": [
          "2019-11-21T00:00:00",
          "2019-11-22T00:00:00"
         ],
         "xaxis": "x",
         "y": [
          164.98,
          165
         ],
         "yaxis": "y"
        },
        {
         "hoverinfo": "none",
         "line": {
          "color": "green",
          "width": 3
         },
         "mode": "lines",
         "showlegend": false,
         "type": "scatter",
         "x": [
          "2019-11-22T00:00:00",
          "2019-11-23T00:00:00"
         ],
         "xaxis": "x",
         "y": [
          165,
          165.01
         ],
         "yaxis": "y"
        },
        {
         "hoverinfo": "none",
         "line": {
          "color": "green",
          "width": 3
         },
         "mode": "lines",
         "showlegend": false,
         "type": "scatter",
         "x": [
          "2019-11-23T00:00:00",
          "2019-11-24T00:00:00"
         ],
         "xaxis": "x",
         "y": [
          165.01,
          165.13
         ],
         "yaxis": "y"
        },
        {
         "hoverinfo": "none",
         "line": {
          "color": "green",
          "width": 3
         },
         "mode": "lines",
         "showlegend": false,
         "type": "scatter",
         "x": [
          "2019-11-24T00:00:00",
          "2019-11-25T00:00:00"
         ],
         "xaxis": "x",
         "y": [
          165.13,
          165.38
         ],
         "yaxis": "y"
        },
        {
         "hoverinfo": "none",
         "line": {
          "color": "green",
          "width": 3
         },
         "mode": "lines",
         "showlegend": false,
         "type": "scatter",
         "x": [
          "2019-11-25T00:00:00",
          "2019-11-26T00:00:00"
         ],
         "xaxis": "x",
         "y": [
          165.38,
          165.5
         ],
         "yaxis": "y"
        },
        {
         "hoverinfo": "none",
         "line": {
          "color": "green",
          "width": 3
         },
         "mode": "lines",
         "showlegend": false,
         "type": "scatter",
         "x": [
          "2019-11-26T00:00:00",
          "2019-11-27T00:00:00"
         ],
         "xaxis": "x",
         "y": [
          165.5,
          165.62
         ],
         "yaxis": "y"
        },
        {
         "hoverinfo": "none",
         "line": {
          "color": "green",
          "width": 3
         },
         "mode": "lines",
         "showlegend": false,
         "type": "scatter",
         "x": [
          "2019-11-27T00:00:00",
          "2019-11-28T00:00:00"
         ],
         "xaxis": "x",
         "y": [
          165.62,
          165.74
         ],
         "yaxis": "y"
        },
        {
         "hoverinfo": "none",
         "line": {
          "color": "green",
          "width": 3
         },
         "mode": "lines",
         "showlegend": false,
         "type": "scatter",
         "x": [
          "2019-11-28T00:00:00",
          "2019-11-29T00:00:00"
         ],
         "xaxis": "x",
         "y": [
          165.74,
          165.97
         ],
         "yaxis": "y"
        },
        {
         "hoverinfo": "none",
         "line": {
          "color": "green",
          "width": 3
         },
         "mode": "lines",
         "showlegend": false,
         "type": "scatter",
         "x": [
          "2019-11-29T00:00:00",
          "2019-11-30T00:00:00"
         ],
         "xaxis": "x",
         "y": [
          165.97,
          166.16
         ],
         "yaxis": "y"
        },
        {
         "hoverinfo": "none",
         "line": {
          "color": "green",
          "width": 3
         },
         "mode": "lines",
         "showlegend": false,
         "type": "scatter",
         "x": [
          "2019-11-30T00:00:00",
          "2019-12-01T00:00:00"
         ],
         "xaxis": "x",
         "y": [
          166.16,
          166.4
         ],
         "yaxis": "y"
        },
        {
         "hoverinfo": "none",
         "line": {
          "color": "green",
          "width": 3
         },
         "mode": "lines",
         "showlegend": false,
         "type": "scatter",
         "x": [
          "2019-12-01T00:00:00",
          "2019-12-02T00:00:00"
         ],
         "xaxis": "x",
         "y": [
          166.4,
          166.53
         ],
         "yaxis": "y"
        },
        {
         "hoverinfo": "none",
         "line": {
          "color": "green",
          "width": 3
         },
         "mode": "lines",
         "showlegend": false,
         "type": "scatter",
         "x": [
          "2019-12-02T00:00:00",
          "2019-12-03T00:00:00"
         ],
         "xaxis": "x",
         "y": [
          166.53,
          166.66
         ],
         "yaxis": "y"
        },
        {
         "hoverinfo": "none",
         "line": {
          "color": "green",
          "width": 3
         },
         "mode": "lines",
         "showlegend": false,
         "type": "scatter",
         "x": [
          "2019-12-03T00:00:00",
          "2019-12-04T00:00:00"
         ],
         "xaxis": "x",
         "y": [
          166.66,
          166.79
         ],
         "yaxis": "y"
        },
        {
         "hoverinfo": "none",
         "line": {
          "color": "green",
          "width": 3
         },
         "mode": "lines",
         "showlegend": false,
         "type": "scatter",
         "x": [
          "2019-12-04T00:00:00",
          "2019-12-05T00:00:00"
         ],
         "xaxis": "x",
         "y": [
          166.79,
          166.92
         ],
         "yaxis": "y"
        },
        {
         "hoverinfo": "none",
         "line": {
          "color": "green",
          "width": 3
         },
         "mode": "lines",
         "showlegend": false,
         "type": "scatter",
         "x": [
          "2019-12-05T00:00:00",
          "2019-12-06T00:00:00"
         ],
         "xaxis": "x",
         "y": [
          166.92,
          167.17
         ],
         "yaxis": "y"
        },
        {
         "hoverinfo": "none",
         "line": {
          "color": "green",
          "width": 3
         },
         "mode": "lines",
         "showlegend": false,
         "type": "scatter",
         "x": [
          "2019-12-06T00:00:00",
          "2019-12-07T00:00:00"
         ],
         "xaxis": "x",
         "y": [
          167.17,
          167.3
         ],
         "yaxis": "y"
        },
        {
         "hoverinfo": "none",
         "line": {
          "color": "green",
          "width": 3
         },
         "mode": "lines",
         "showlegend": false,
         "type": "scatter",
         "x": [
          "2019-12-07T00:00:00",
          "2019-12-08T00:00:00"
         ],
         "xaxis": "x",
         "y": [
          167.3,
          167.49
         ],
         "yaxis": "y"
        },
        {
         "hoverinfo": "none",
         "line": {
          "color": "green",
          "width": 3
         },
         "mode": "lines",
         "showlegend": false,
         "type": "scatter",
         "x": [
          "2019-12-08T00:00:00",
          "2019-12-09T00:00:00"
         ],
         "xaxis": "x",
         "y": [
          167.49,
          167.61
         ],
         "yaxis": "y"
        },
        {
         "hoverinfo": "none",
         "line": {
          "color": "green",
          "width": 3
         },
         "mode": "lines",
         "showlegend": false,
         "type": "scatter",
         "x": [
          "2019-12-09T00:00:00",
          "2019-12-10T00:00:00"
         ],
         "xaxis": "x",
         "y": [
          167.61,
          167.74
         ],
         "yaxis": "y"
        },
        {
         "hoverinfo": "none",
         "line": {
          "color": "green",
          "width": 3
         },
         "mode": "lines",
         "showlegend": false,
         "type": "scatter",
         "x": [
          "2019-12-10T00:00:00",
          "2019-12-11T00:00:00"
         ],
         "xaxis": "x",
         "y": [
          167.74,
          167.87
         ],
         "yaxis": "y"
        },
        {
         "hoverinfo": "none",
         "line": {
          "color": "green",
          "width": 3
         },
         "mode": "lines",
         "showlegend": false,
         "type": "scatter",
         "x": [
          "2019-12-11T00:00:00",
          "2019-12-12T00:00:00"
         ],
         "xaxis": "x",
         "y": [
          167.87,
          167.99
         ],
         "yaxis": "y"
        },
        {
         "hoverinfo": "none",
         "line": {
          "color": "green",
          "width": 3
         },
         "mode": "lines",
         "showlegend": false,
         "type": "scatter",
         "x": [
          "2019-12-12T00:00:00",
          "2019-12-13T00:00:00"
         ],
         "xaxis": "x",
         "y": [
          167.99,
          168.17
         ],
         "yaxis": "y"
        },
        {
         "hoverinfo": "none",
         "line": {
          "color": "green",
          "width": 3
         },
         "mode": "lines",
         "showlegend": false,
         "type": "scatter",
         "x": [
          "2019-12-13T00:00:00",
          "2019-12-14T00:00:00"
         ],
         "xaxis": "x",
         "y": [
          168.17,
          168.29
         ],
         "yaxis": "y"
        },
        {
         "hoverinfo": "none",
         "line": {
          "color": "green",
          "width": 3
         },
         "mode": "lines",
         "showlegend": false,
         "type": "scatter",
         "x": [
          "2019-12-14T00:00:00",
          "2019-12-15T00:00:00"
         ],
         "xaxis": "x",
         "y": [
          168.29,
          168.41
         ],
         "yaxis": "y"
        },
        {
         "hoverinfo": "none",
         "line": {
          "color": "green",
          "width": 3
         },
         "mode": "lines",
         "showlegend": false,
         "type": "scatter",
         "x": [
          "2019-12-15T00:00:00",
          "2019-12-16T00:00:00"
         ],
         "xaxis": "x",
         "y": [
          168.41,
          168.54
         ],
         "yaxis": "y"
        },
        {
         "hoverinfo": "none",
         "line": {
          "color": "green",
          "width": 3
         },
         "mode": "lines",
         "showlegend": false,
         "type": "scatter",
         "x": [
          "2019-12-16T00:00:00",
          "2019-12-17T00:00:00"
         ],
         "xaxis": "x",
         "y": [
          168.54,
          168.67
         ],
         "yaxis": "y"
        },
        {
         "hoverinfo": "none",
         "line": {
          "color": "green",
          "width": 3
         },
         "mode": "lines",
         "showlegend": false,
         "type": "scatter",
         "x": [
          "2019-12-17T00:00:00",
          "2019-12-18T00:00:00"
         ],
         "xaxis": "x",
         "y": [
          168.67,
          168.79
         ],
         "yaxis": "y"
        },
        {
         "hoverinfo": "none",
         "line": {
          "color": "green",
          "width": 3
         },
         "mode": "lines",
         "showlegend": false,
         "type": "scatter",
         "x": [
          "2019-12-18T00:00:00",
          "2019-12-19T00:00:00"
         ],
         "xaxis": "x",
         "y": [
          168.79,
          168.93
         ],
         "yaxis": "y"
        },
        {
         "hoverinfo": "none",
         "line": {
          "color": "green",
          "width": 3
         },
         "mode": "lines",
         "showlegend": false,
         "type": "scatter",
         "x": [
          "2019-12-19T00:00:00",
          "2019-12-20T00:00:00"
         ],
         "xaxis": "x",
         "y": [
          168.93,
          169.06
         ],
         "yaxis": "y"
        },
        {
         "hoverinfo": "none",
         "line": {
          "color": "green",
          "width": 3
         },
         "mode": "lines",
         "showlegend": false,
         "type": "scatter",
         "x": [
          "2019-12-20T00:00:00",
          "2019-12-21T00:00:00"
         ],
         "xaxis": "x",
         "y": [
          169.06,
          169.24
         ],
         "yaxis": "y"
        },
        {
         "hoverinfo": "none",
         "line": {
          "color": "green",
          "width": 3
         },
         "mode": "lines",
         "showlegend": false,
         "type": "scatter",
         "x": [
          "2019-12-21T00:00:00",
          "2019-12-22T00:00:00"
         ],
         "xaxis": "x",
         "y": [
          169.24,
          169.36
         ],
         "yaxis": "y"
        },
        {
         "hoverinfo": "none",
         "line": {
          "color": "green",
          "width": 3
         },
         "mode": "lines",
         "showlegend": false,
         "type": "scatter",
         "x": [
          "2019-12-22T00:00:00",
          "2019-12-23T00:00:00"
         ],
         "xaxis": "x",
         "y": [
          169.36,
          169.36
         ],
         "yaxis": "y"
        },
        {
         "hoverinfo": "none",
         "line": {
          "color": "green",
          "width": 3
         },
         "mode": "lines",
         "showlegend": false,
         "type": "scatter",
         "x": [
          "2019-12-23T00:00:00",
          "2019-12-24T00:00:00"
         ],
         "xaxis": "x",
         "y": [
          169.36,
          169.36
         ],
         "yaxis": "y"
        },
        {
         "hoverinfo": "none",
         "line": {
          "color": "green",
          "width": 3
         },
         "mode": "lines",
         "showlegend": false,
         "type": "scatter",
         "x": [
          "2019-12-24T00:00:00",
          "2019-12-25T00:00:00"
         ],
         "xaxis": "x",
         "y": [
          169.36,
          169.46
         ],
         "yaxis": "y"
        },
        {
         "hoverinfo": "none",
         "line": {
          "color": "green",
          "width": 3
         },
         "mode": "lines",
         "showlegend": false,
         "type": "scatter",
         "x": [
          "2019-12-25T00:00:00",
          "2019-12-26T00:00:00"
         ],
         "xaxis": "x",
         "y": [
          169.46,
          169.57
         ],
         "yaxis": "y"
        },
        {
         "hoverinfo": "none",
         "line": {
          "color": "red",
          "width": 3
         },
         "mode": "lines",
         "showlegend": false,
         "type": "scatter",
         "x": [
          "2019-12-26T00:00:00",
          "2019-12-27T00:00:00"
         ],
         "xaxis": "x",
         "y": [
          169.57,
          169.55
         ],
         "yaxis": "y"
        },
        {
         "hoverinfo": "none",
         "line": {
          "color": "red",
          "width": 3
         },
         "mode": "lines",
         "showlegend": false,
         "type": "scatter",
         "x": [
          "2019-12-27T00:00:00",
          "2019-12-28T00:00:00"
         ],
         "xaxis": "x",
         "y": [
          169.55,
          169.53
         ],
         "yaxis": "y"
        },
        {
         "hoverinfo": "none",
         "line": {
          "color": "red",
          "width": 3
         },
         "mode": "lines",
         "showlegend": false,
         "type": "scatter",
         "x": [
          "2019-12-28T00:00:00",
          "2019-12-29T00:00:00"
         ],
         "xaxis": "x",
         "y": [
          169.53,
          169.4
         ],
         "yaxis": "y"
        },
        {
         "hoverinfo": "none",
         "line": {
          "color": "red",
          "width": 3
         },
         "mode": "lines",
         "showlegend": false,
         "type": "scatter",
         "x": [
          "2019-12-29T00:00:00",
          "2019-12-30T00:00:00"
         ],
         "xaxis": "x",
         "y": [
          169.4,
          169.28
         ],
         "yaxis": "y"
        },
        {
         "hoverinfo": "none",
         "line": {
          "color": "red",
          "width": 3
         },
         "mode": "lines",
         "showlegend": false,
         "type": "scatter",
         "x": [
          "2019-12-30T00:00:00",
          "2019-12-31T00:00:00"
         ],
         "xaxis": "x",
         "y": [
          169.28,
          169.26
         ],
         "yaxis": "y"
        },
        {
         "hoverinfo": "none",
         "line": {
          "color": "red",
          "width": 3
         },
         "mode": "lines",
         "showlegend": false,
         "type": "scatter",
         "x": [
          "2019-12-31T00:00:00",
          "2020-01-01T00:00:00"
         ],
         "xaxis": "x",
         "y": [
          169.26,
          169.24
         ],
         "yaxis": "y"
        },
        {
         "hoverinfo": "none",
         "line": {
          "color": "red",
          "width": 3
         },
         "mode": "lines",
         "showlegend": false,
         "type": "scatter",
         "x": [
          "2020-01-01T00:00:00",
          "2020-01-02T00:00:00"
         ],
         "xaxis": "x",
         "y": [
          169.24,
          169.11
         ],
         "yaxis": "y"
        },
        {
         "hoverinfo": "none",
         "line": {
          "color": "red",
          "width": 3
         },
         "mode": "lines",
         "showlegend": false,
         "type": "scatter",
         "x": [
          "2020-01-02T00:00:00",
          "2020-01-03T00:00:00"
         ],
         "xaxis": "x",
         "y": [
          169.11,
          168.98
         ],
         "yaxis": "y"
        },
        {
         "hoverinfo": "none",
         "line": {
          "color": "green",
          "width": 3
         },
         "mode": "lines",
         "showlegend": false,
         "type": "scatter",
         "x": [
          "2020-01-03T00:00:00",
          "2020-01-04T00:00:00"
         ],
         "xaxis": "x",
         "y": [
          168.98,
          169.2
         ],
         "yaxis": "y"
        },
        {
         "hoverinfo": "none",
         "line": {
          "color": "red",
          "width": 3
         },
         "mode": "lines",
         "showlegend": false,
         "type": "scatter",
         "x": [
          "2020-01-04T00:00:00",
          "2020-01-05T00:00:00"
         ],
         "xaxis": "x",
         "y": [
          169.2,
          169.19
         ],
         "yaxis": "y"
        },
        {
         "hoverinfo": "none",
         "line": {
          "color": "red",
          "width": 3
         },
         "mode": "lines",
         "showlegend": false,
         "type": "scatter",
         "x": [
          "2020-01-05T00:00:00",
          "2020-01-06T00:00:00"
         ],
         "xaxis": "x",
         "y": [
          169.19,
          169.18
         ],
         "yaxis": "y"
        },
        {
         "hoverinfo": "none",
         "line": {
          "color": "red",
          "width": 3
         },
         "mode": "lines",
         "showlegend": false,
         "type": "scatter",
         "x": [
          "2020-01-06T00:00:00",
          "2020-01-07T00:00:00"
         ],
         "xaxis": "x",
         "y": [
          169.18,
          169.16
         ],
         "yaxis": "y"
        },
        {
         "hoverinfo": "none",
         "line": {
          "color": "green",
          "width": 3
         },
         "mode": "lines",
         "showlegend": false,
         "type": "scatter",
         "x": [
          "2020-01-07T00:00:00",
          "2020-01-08T00:00:00"
         ],
         "xaxis": "x",
         "y": [
          169.16,
          169.16
         ],
         "yaxis": "y"
        },
        {
         "hoverinfo": "none",
         "line": {
          "color": "red",
          "width": 3
         },
         "mode": "lines",
         "showlegend": false,
         "type": "scatter",
         "x": [
          "2020-01-08T00:00:00",
          "2020-01-09T00:00:00"
         ],
         "xaxis": "x",
         "y": [
          169.16,
          169.14
         ],
         "yaxis": "y"
        },
        {
         "hoverinfo": "none",
         "line": {
          "color": "red",
          "width": 3
         },
         "mode": "lines",
         "showlegend": false,
         "type": "scatter",
         "x": [
          "2020-01-09T00:00:00",
          "2020-01-10T00:00:00"
         ],
         "xaxis": "x",
         "y": [
          169.14,
          169.12
         ],
         "yaxis": "y"
        },
        {
         "hoverinfo": "none",
         "line": {
          "color": "red",
          "width": 3
         },
         "mode": "lines",
         "showlegend": false,
         "type": "scatter",
         "x": [
          "2020-01-10T00:00:00",
          "2020-01-11T00:00:00"
         ],
         "xaxis": "x",
         "y": [
          169.12,
          169.11
         ],
         "yaxis": "y"
        },
        {
         "hoverinfo": "none",
         "line": {
          "color": "red",
          "width": 3
         },
         "mode": "lines",
         "showlegend": false,
         "type": "scatter",
         "x": [
          "2020-01-11T00:00:00",
          "2020-01-12T00:00:00"
         ],
         "xaxis": "x",
         "y": [
          169.11,
          168.86
         ],
         "yaxis": "y"
        },
        {
         "hoverinfo": "none",
         "line": {
          "color": "green",
          "width": 3
         },
         "mode": "lines",
         "showlegend": false,
         "type": "scatter",
         "x": [
          "2020-01-12T00:00:00",
          "2020-01-13T00:00:00"
         ],
         "xaxis": "x",
         "y": [
          168.86,
          168.86
         ],
         "yaxis": "y"
        },
        {
         "hoverinfo": "none",
         "line": {
          "color": "green",
          "width": 3
         },
         "mode": "lines",
         "showlegend": false,
         "type": "scatter",
         "x": [
          "2020-01-13T00:00:00",
          "2020-01-14T00:00:00"
         ],
         "xaxis": "x",
         "y": [
          168.86,
          168.86
         ],
         "yaxis": "y"
        },
        {
         "hoverinfo": "none",
         "line": {
          "color": "green",
          "width": 3
         },
         "mode": "lines",
         "showlegend": false,
         "type": "scatter",
         "x": [
          "2020-01-14T00:00:00",
          "2020-01-15T00:00:00"
         ],
         "xaxis": "x",
         "y": [
          168.86,
          168.86
         ],
         "yaxis": "y"
        },
        {
         "hoverinfo": "none",
         "line": {
          "color": "green",
          "width": 3
         },
         "mode": "lines",
         "showlegend": false,
         "type": "scatter",
         "x": [
          "2020-01-15T00:00:00",
          "2020-01-16T00:00:00"
         ],
         "xaxis": "x",
         "y": [
          168.86,
          168.86
         ],
         "yaxis": "y"
        },
        {
         "hoverinfo": "none",
         "line": {
          "color": "green",
          "width": 3
         },
         "mode": "lines",
         "showlegend": false,
         "type": "scatter",
         "x": [
          "2020-01-16T00:00:00",
          "2020-01-17T00:00:00"
         ],
         "xaxis": "x",
         "y": [
          168.86,
          168.86
         ],
         "yaxis": "y"
        },
        {
         "hoverinfo": "none",
         "line": {
          "color": "green",
          "width": 3
         },
         "mode": "lines",
         "showlegend": false,
         "type": "scatter",
         "x": [
          "2020-01-17T00:00:00",
          "2020-01-18T00:00:00"
         ],
         "xaxis": "x",
         "y": [
          168.86,
          168.86
         ],
         "yaxis": "y"
        },
        {
         "hoverinfo": "none",
         "line": {
          "color": "green",
          "width": 3
         },
         "mode": "lines",
         "showlegend": false,
         "type": "scatter",
         "x": [
          "2020-01-18T00:00:00",
          "2020-01-19T00:00:00"
         ],
         "xaxis": "x",
         "y": [
          168.86,
          168.86
         ],
         "yaxis": "y"
        },
        {
         "hoverinfo": "none",
         "line": {
          "color": "green",
          "width": 3
         },
         "mode": "lines",
         "showlegend": false,
         "type": "scatter",
         "x": [
          "2020-01-19T00:00:00",
          "2020-01-20T00:00:00"
         ],
         "xaxis": "x",
         "y": [
          168.86,
          168.87
         ],
         "yaxis": "y"
        },
        {
         "hoverinfo": "none",
         "line": {
          "color": "green",
          "width": 3
         },
         "mode": "lines",
         "showlegend": false,
         "type": "scatter",
         "x": [
          "2020-01-20T00:00:00",
          "2020-01-21T00:00:00"
         ],
         "xaxis": "x",
         "y": [
          168.87,
          168.87
         ],
         "yaxis": "y"
        },
        {
         "hoverinfo": "none",
         "line": {
          "color": "green",
          "width": 3
         },
         "mode": "lines",
         "showlegend": false,
         "type": "scatter",
         "x": [
          "2020-01-21T00:00:00",
          "2020-01-22T00:00:00"
         ],
         "xaxis": "x",
         "y": [
          168.87,
          168.87
         ],
         "yaxis": "y"
        },
        {
         "hoverinfo": "none",
         "line": {
          "color": "green",
          "width": 3
         },
         "mode": "lines",
         "showlegend": false,
         "type": "scatter",
         "x": [
          "2020-01-22T00:00:00",
          "2020-01-23T00:00:00"
         ],
         "xaxis": "x",
         "y": [
          168.87,
          168.87
         ],
         "yaxis": "y"
        },
        {
         "hoverinfo": "none",
         "line": {
          "color": "red",
          "width": 3
         },
         "mode": "lines",
         "showlegend": false,
         "type": "scatter",
         "x": [
          "2020-01-23T00:00:00",
          "2020-01-24T00:00:00"
         ],
         "xaxis": "x",
         "y": [
          168.87,
          168.81
         ],
         "yaxis": "y"
        },
        {
         "hoverinfo": "none",
         "line": {
          "color": "red",
          "width": 3
         },
         "mode": "lines",
         "showlegend": false,
         "type": "scatter",
         "x": [
          "2020-01-24T00:00:00",
          "2020-01-25T00:00:00"
         ],
         "xaxis": "x",
         "y": [
          168.81,
          168.7
         ],
         "yaxis": "y"
        },
        {
         "hoverinfo": "none",
         "line": {
          "color": "red",
          "width": 3
         },
         "mode": "lines",
         "showlegend": false,
         "type": "scatter",
         "x": [
          "2020-01-25T00:00:00",
          "2020-01-26T00:00:00"
         ],
         "xaxis": "x",
         "y": [
          168.7,
          168.59
         ],
         "yaxis": "y"
        },
        {
         "hoverinfo": "none",
         "line": {
          "color": "red",
          "width": 3
         },
         "mode": "lines",
         "showlegend": false,
         "type": "scatter",
         "x": [
          "2020-01-26T00:00:00",
          "2020-01-27T00:00:00"
         ],
         "xaxis": "x",
         "y": [
          168.59,
          168.49
         ],
         "yaxis": "y"
        },
        {
         "hoverinfo": "none",
         "line": {
          "color": "red",
          "width": 3
         },
         "mode": "lines",
         "showlegend": false,
         "type": "scatter",
         "x": [
          "2020-01-27T00:00:00",
          "2020-01-28T00:00:00"
         ],
         "xaxis": "x",
         "y": [
          168.49,
          168.37
         ],
         "yaxis": "y"
        },
        {
         "hoverinfo": "none",
         "line": {
          "color": "red",
          "width": 3
         },
         "mode": "lines",
         "showlegend": false,
         "type": "scatter",
         "x": [
          "2020-01-28T00:00:00",
          "2020-01-29T00:00:00"
         ],
         "xaxis": "x",
         "y": [
          168.37,
          168.25
         ],
         "yaxis": "y"
        },
        {
         "hoverinfo": "none",
         "line": {
          "color": "red",
          "width": 3
         },
         "mode": "lines",
         "showlegend": false,
         "type": "scatter",
         "x": [
          "2020-01-29T00:00:00",
          "2020-01-30T00:00:00"
         ],
         "xaxis": "x",
         "y": [
          168.25,
          168.14
         ],
         "yaxis": "y"
        },
        {
         "hoverinfo": "none",
         "line": {
          "color": "red",
          "width": 3
         },
         "mode": "lines",
         "showlegend": false,
         "type": "scatter",
         "x": [
          "2020-01-30T00:00:00",
          "2020-01-31T00:00:00"
         ],
         "xaxis": "x",
         "y": [
          168.14,
          167.92
         ],
         "yaxis": "y"
        },
        {
         "hoverinfo": "none",
         "line": {
          "color": "red",
          "width": 3
         },
         "mode": "lines",
         "showlegend": false,
         "type": "scatter",
         "x": [
          "2020-01-31T00:00:00",
          "2020-02-01T00:00:00"
         ],
         "xaxis": "x",
         "y": [
          167.92,
          167.75
         ],
         "yaxis": "y"
        },
        {
         "hoverinfo": "none",
         "line": {
          "color": "red",
          "width": 3
         },
         "mode": "lines",
         "showlegend": false,
         "type": "scatter",
         "x": [
          "2020-02-01T00:00:00",
          "2020-02-02T00:00:00"
         ],
         "xaxis": "x",
         "y": [
          167.75,
          167.65
         ],
         "yaxis": "y"
        },
        {
         "hoverinfo": "none",
         "line": {
          "color": "green",
          "width": 3
         },
         "mode": "lines",
         "showlegend": false,
         "type": "scatter",
         "x": [
          "2020-02-02T00:00:00",
          "2020-02-03T00:00:00"
         ],
         "xaxis": "x",
         "y": [
          167.65,
          167.67
         ],
         "yaxis": "y"
        },
        {
         "hoverinfo": "none",
         "line": {
          "color": "green",
          "width": 3
         },
         "mode": "lines",
         "showlegend": false,
         "type": "scatter",
         "x": [
          "2020-02-03T00:00:00",
          "2020-02-04T00:00:00"
         ],
         "xaxis": "x",
         "y": [
          167.67,
          167.68
         ],
         "yaxis": "y"
        },
        {
         "hoverinfo": "none",
         "line": {
          "color": "red",
          "width": 3
         },
         "mode": "lines",
         "showlegend": false,
         "type": "scatter",
         "x": [
          "2020-02-04T00:00:00",
          "2020-02-05T00:00:00"
         ],
         "xaxis": "x",
         "y": [
          167.68,
          167.58
         ],
         "yaxis": "y"
        },
        {
         "hoverinfo": "none",
         "line": {
          "color": "green",
          "width": 3
         },
         "mode": "lines",
         "showlegend": false,
         "type": "scatter",
         "x": [
          "2020-02-05T00:00:00",
          "2020-02-06T00:00:00"
         ],
         "xaxis": "x",
         "y": [
          167.58,
          167.61
         ],
         "yaxis": "y"
        },
        {
         "hoverinfo": "none",
         "line": {
          "color": "green",
          "width": 3
         },
         "mode": "lines",
         "showlegend": false,
         "type": "scatter",
         "x": [
          "2020-02-06T00:00:00",
          "2020-02-07T00:00:00"
         ],
         "xaxis": "x",
         "y": [
          167.61,
          167.62
         ],
         "yaxis": "y"
        },
        {
         "hoverinfo": "none",
         "line": {
          "color": "green",
          "width": 3
         },
         "mode": "lines",
         "showlegend": false,
         "type": "scatter",
         "x": [
          "2020-02-07T00:00:00",
          "2020-02-08T00:00:00"
         ],
         "xaxis": "x",
         "y": [
          167.62,
          167.63
         ],
         "yaxis": "y"
        },
        {
         "hoverinfo": "none",
         "line": {
          "color": "green",
          "width": 3
         },
         "mode": "lines",
         "showlegend": false,
         "type": "scatter",
         "x": [
          "2020-02-08T00:00:00",
          "2020-02-09T00:00:00"
         ],
         "xaxis": "x",
         "y": [
          167.63,
          167.65
         ],
         "yaxis": "y"
        },
        {
         "hoverinfo": "none",
         "line": {
          "color": "green",
          "width": 3
         },
         "mode": "lines",
         "showlegend": false,
         "type": "scatter",
         "x": [
          "2020-02-09T00:00:00",
          "2020-02-10T00:00:00"
         ],
         "xaxis": "x",
         "y": [
          167.65,
          167.67
         ],
         "yaxis": "y"
        },
        {
         "hoverinfo": "none",
         "line": {
          "color": "red",
          "width": 3
         },
         "mode": "lines",
         "showlegend": false,
         "type": "scatter",
         "x": [
          "2020-02-10T00:00:00",
          "2020-02-11T00:00:00"
         ],
         "xaxis": "x",
         "y": [
          167.67,
          167.57
         ],
         "yaxis": "y"
        },
        {
         "hoverinfo": "none",
         "line": {
          "color": "red",
          "width": 3
         },
         "mode": "lines",
         "showlegend": false,
         "type": "scatter",
         "x": [
          "2020-02-11T00:00:00",
          "2020-02-12T00:00:00"
         ],
         "xaxis": "x",
         "y": [
          167.57,
          167.53
         ],
         "yaxis": "y"
        },
        {
         "hoverinfo": "none",
         "line": {
          "color": "green",
          "width": 3
         },
         "mode": "lines",
         "showlegend": false,
         "type": "scatter",
         "x": [
          "2020-02-12T00:00:00",
          "2020-02-13T00:00:00"
         ],
         "xaxis": "x",
         "y": [
          167.53,
          167.55
         ],
         "yaxis": "y"
        },
        {
         "hoverinfo": "none",
         "line": {
          "color": "red",
          "width": 3
         },
         "mode": "lines",
         "showlegend": false,
         "type": "scatter",
         "x": [
          "2020-02-13T00:00:00",
          "2020-02-14T00:00:00"
         ],
         "xaxis": "x",
         "y": [
          167.55,
          167.44
         ],
         "yaxis": "y"
        },
        {
         "hoverinfo": "none",
         "line": {
          "color": "red",
          "width": 3
         },
         "mode": "lines",
         "showlegend": false,
         "type": "scatter",
         "x": [
          "2020-02-14T00:00:00",
          "2020-02-15T00:00:00"
         ],
         "xaxis": "x",
         "y": [
          167.44,
          167.34
         ],
         "yaxis": "y"
        },
        {
         "hoverinfo": "none",
         "line": {
          "color": "green",
          "width": 3
         },
         "mode": "lines",
         "showlegend": false,
         "type": "scatter",
         "x": [
          "2020-02-15T00:00:00",
          "2020-02-16T00:00:00"
         ],
         "xaxis": "x",
         "y": [
          167.34,
          167.36
         ],
         "yaxis": "y"
        },
        {
         "hoverinfo": "none",
         "line": {
          "color": "green",
          "width": 3
         },
         "mode": "lines",
         "showlegend": false,
         "type": "scatter",
         "x": [
          "2020-02-16T00:00:00",
          "2020-02-17T00:00:00"
         ],
         "xaxis": "x",
         "y": [
          167.36,
          167.37
         ],
         "yaxis": "y"
        },
        {
         "hoverinfo": "none",
         "line": {
          "color": "green",
          "width": 3
         },
         "mode": "lines",
         "showlegend": false,
         "type": "scatter",
         "x": [
          "2020-02-17T00:00:00",
          "2020-02-18T00:00:00"
         ],
         "xaxis": "x",
         "y": [
          167.37,
          167.38
         ],
         "yaxis": "y"
        },
        {
         "hoverinfo": "none",
         "line": {
          "color": "green",
          "width": 3
         },
         "mode": "lines",
         "showlegend": false,
         "type": "scatter",
         "x": [
          "2020-02-18T00:00:00",
          "2020-02-19T00:00:00"
         ],
         "xaxis": "x",
         "y": [
          167.38,
          167.4
         ],
         "yaxis": "y"
        },
        {
         "hoverinfo": "none",
         "line": {
          "color": "red",
          "width": 3
         },
         "mode": "lines",
         "showlegend": false,
         "type": "scatter",
         "x": [
          "2020-02-19T00:00:00",
          "2020-02-20T00:00:00"
         ],
         "xaxis": "x",
         "y": [
          167.4,
          167.35
         ],
         "yaxis": "y"
        },
        {
         "hoverinfo": "none",
         "line": {
          "color": "green",
          "width": 3
         },
         "mode": "lines",
         "showlegend": false,
         "type": "scatter",
         "x": [
          "2020-02-20T00:00:00",
          "2020-02-21T00:00:00"
         ],
         "xaxis": "x",
         "y": [
          167.35,
          167.35
         ],
         "yaxis": "y"
        },
        {
         "hoverinfo": "none",
         "line": {
          "color": "green",
          "width": 3
         },
         "mode": "lines",
         "showlegend": false,
         "type": "scatter",
         "x": [
          "2020-02-21T00:00:00",
          "2020-02-22T00:00:00"
         ],
         "xaxis": "x",
         "y": [
          167.35,
          167.47
         ],
         "yaxis": "y"
        },
        {
         "hoverinfo": "none",
         "line": {
          "color": "green",
          "width": 3
         },
         "mode": "lines",
         "showlegend": false,
         "type": "scatter",
         "x": [
          "2020-02-22T00:00:00",
          "2020-02-23T00:00:00"
         ],
         "xaxis": "x",
         "y": [
          167.47,
          167.59
         ],
         "yaxis": "y"
        },
        {
         "hoverinfo": "none",
         "line": {
          "color": "green",
          "width": 3
         },
         "mode": "lines",
         "showlegend": false,
         "type": "scatter",
         "x": [
          "2020-02-23T00:00:00",
          "2020-02-24T00:00:00"
         ],
         "xaxis": "x",
         "y": [
          167.59,
          167.59
         ],
         "yaxis": "y"
        },
        {
         "hoverinfo": "none",
         "line": {
          "color": "green",
          "width": 3
         },
         "mode": "lines",
         "showlegend": false,
         "type": "scatter",
         "x": [
          "2020-02-24T00:00:00",
          "2020-02-25T00:00:00"
         ],
         "xaxis": "x",
         "y": [
          167.59,
          167.71
         ],
         "yaxis": "y"
        },
        {
         "hoverinfo": "none",
         "line": {
          "color": "green",
          "width": 3
         },
         "mode": "lines",
         "showlegend": false,
         "type": "scatter",
         "x": [
          "2020-02-25T00:00:00",
          "2020-02-26T00:00:00"
         ],
         "xaxis": "x",
         "y": [
          167.71,
          167.83
         ],
         "yaxis": "y"
        },
        {
         "hoverinfo": "none",
         "line": {
          "color": "green",
          "width": 3
         },
         "mode": "lines",
         "showlegend": false,
         "type": "scatter",
         "x": [
          "2020-02-26T00:00:00",
          "2020-02-27T00:00:00"
         ],
         "xaxis": "x",
         "y": [
          167.83,
          167.94
         ],
         "yaxis": "y"
        },
        {
         "hoverinfo": "none",
         "line": {
          "color": "green",
          "width": 3
         },
         "mode": "lines",
         "showlegend": false,
         "type": "scatter",
         "x": [
          "2020-02-27T00:00:00",
          "2020-02-28T00:00:00"
         ],
         "xaxis": "x",
         "y": [
          167.94,
          168.06
         ],
         "yaxis": "y"
        },
        {
         "hoverinfo": "none",
         "line": {
          "color": "green",
          "width": 3
         },
         "mode": "lines",
         "showlegend": false,
         "type": "scatter",
         "x": [
          "2020-02-28T00:00:00",
          "2020-02-29T00:00:00"
         ],
         "xaxis": "x",
         "y": [
          168.06,
          168.19
         ],
         "yaxis": "y"
        },
        {
         "hoverinfo": "none",
         "line": {
          "color": "green",
          "width": 3
         },
         "mode": "lines",
         "showlegend": false,
         "type": "scatter",
         "x": [
          "2020-02-29T00:00:00",
          "2020-03-01T00:00:00"
         ],
         "xaxis": "x",
         "y": [
          168.19,
          168.21
         ],
         "yaxis": "y"
        },
        {
         "hoverinfo": "none",
         "line": {
          "color": "green",
          "width": 3
         },
         "mode": "lines",
         "showlegend": false,
         "type": "scatter",
         "x": [
          "2020-03-01T00:00:00",
          "2020-03-02T00:00:00"
         ],
         "xaxis": "x",
         "y": [
          168.21,
          168.22
         ],
         "yaxis": "y"
        },
        {
         "hoverinfo": "none",
         "line": {
          "color": "green",
          "width": 3
         },
         "mode": "lines",
         "showlegend": false,
         "type": "scatter",
         "x": [
          "2020-03-02T00:00:00",
          "2020-03-03T00:00:00"
         ],
         "xaxis": "x",
         "y": [
          168.22,
          168.36
         ],
         "yaxis": "y"
        },
        {
         "hoverinfo": "none",
         "line": {
          "color": "green",
          "width": 3
         },
         "mode": "lines",
         "showlegend": false,
         "type": "scatter",
         "x": [
          "2020-03-03T00:00:00",
          "2020-03-04T00:00:00"
         ],
         "xaxis": "x",
         "y": [
          168.36,
          168.37
         ],
         "yaxis": "y"
        },
        {
         "hoverinfo": "none",
         "line": {
          "color": "red",
          "width": 3
         },
         "mode": "lines",
         "showlegend": false,
         "type": "scatter",
         "x": [
          "2020-03-04T00:00:00",
          "2020-03-05T00:00:00"
         ],
         "xaxis": "x",
         "y": [
          168.37,
          168.26
         ],
         "yaxis": "y"
        },
        {
         "hoverinfo": "none",
         "line": {
          "color": "red",
          "width": 3
         },
         "mode": "lines",
         "showlegend": false,
         "type": "scatter",
         "x": [
          "2020-03-05T00:00:00",
          "2020-03-06T00:00:00"
         ],
         "xaxis": "x",
         "y": [
          168.26,
          168.17
         ],
         "yaxis": "y"
        },
        {
         "hoverinfo": "none",
         "line": {
          "color": "green",
          "width": 3
         },
         "mode": "lines",
         "showlegend": false,
         "type": "scatter",
         "x": [
          "2020-03-06T00:00:00",
          "2020-03-07T00:00:00"
         ],
         "xaxis": "x",
         "y": [
          168.17,
          168.19
         ],
         "yaxis": "y"
        },
        {
         "hoverinfo": "none",
         "line": {
          "color": "green",
          "width": 3
         },
         "mode": "lines",
         "showlegend": false,
         "type": "scatter",
         "x": [
          "2020-03-07T00:00:00",
          "2020-03-08T00:00:00"
         ],
         "xaxis": "x",
         "y": [
          168.19,
          168.2
         ],
         "yaxis": "y"
        },
        {
         "hoverinfo": "none",
         "line": {
          "color": "green",
          "width": 3
         },
         "mode": "lines",
         "showlegend": false,
         "type": "scatter",
         "x": [
          "2020-03-08T00:00:00",
          "2020-03-09T00:00:00"
         ],
         "xaxis": "x",
         "y": [
          168.2,
          168.23
         ],
         "yaxis": "y"
        },
        {
         "hoverinfo": "none",
         "line": {
          "color": "green",
          "width": 3
         },
         "mode": "lines",
         "showlegend": false,
         "type": "scatter",
         "x": [
          "2020-03-09T00:00:00",
          "2020-03-10T00:00:00"
         ],
         "xaxis": "x",
         "y": [
          168.23,
          168.23
         ],
         "yaxis": "y"
        },
        {
         "hoverinfo": "none",
         "line": {
          "color": "green",
          "width": 3
         },
         "mode": "lines",
         "showlegend": false,
         "type": "scatter",
         "x": [
          "2020-03-10T00:00:00",
          "2020-03-11T00:00:00"
         ],
         "xaxis": "x",
         "y": [
          168.23,
          168.24
         ],
         "yaxis": "y"
        },
        {
         "hoverinfo": "none",
         "line": {
          "color": "red",
          "width": 3
         },
         "mode": "lines",
         "showlegend": false,
         "type": "scatter",
         "x": [
          "2020-03-11T00:00:00",
          "2020-03-12T00:00:00"
         ],
         "xaxis": "x",
         "y": [
          168.24,
          168.23
         ],
         "yaxis": "y"
        },
        {
         "hoverinfo": "none",
         "line": {
          "color": "green",
          "width": 3
         },
         "mode": "lines",
         "showlegend": false,
         "type": "scatter",
         "x": [
          "2020-03-12T00:00:00",
          "2020-03-13T00:00:00"
         ],
         "xaxis": "x",
         "y": [
          168.23,
          168.33
         ],
         "yaxis": "y"
        },
        {
         "hoverinfo": "none",
         "line": {
          "color": "green",
          "width": 3
         },
         "mode": "lines",
         "showlegend": false,
         "type": "scatter",
         "x": [
          "2020-03-13T00:00:00",
          "2020-03-14T00:00:00"
         ],
         "xaxis": "x",
         "y": [
          168.33,
          168.42
         ],
         "yaxis": "y"
        },
        {
         "hoverinfo": "none",
         "line": {
          "color": "red",
          "width": 3
         },
         "mode": "lines",
         "showlegend": false,
         "type": "scatter",
         "x": [
          "2020-03-14T00:00:00",
          "2020-03-15T00:00:00"
         ],
         "xaxis": "x",
         "y": [
          168.42,
          168.28
         ],
         "yaxis": "y"
        },
        {
         "hoverinfo": "none",
         "line": {
          "color": "red",
          "width": 3
         },
         "mode": "lines",
         "showlegend": false,
         "type": "scatter",
         "x": [
          "2020-03-15T00:00:00",
          "2020-03-16T00:00:00"
         ],
         "xaxis": "x",
         "y": [
          168.28,
          168.14
         ],
         "yaxis": "y"
        },
        {
         "hoverinfo": "none",
         "line": {
          "color": "red",
          "width": 3
         },
         "mode": "lines",
         "showlegend": false,
         "type": "scatter",
         "x": [
          "2020-03-16T00:00:00",
          "2020-03-17T00:00:00"
         ],
         "xaxis": "x",
         "y": [
          168.14,
          168.13
         ],
         "yaxis": "y"
        },
        {
         "hoverinfo": "none",
         "line": {
          "color": "green",
          "width": 3
         },
         "mode": "lines",
         "showlegend": false,
         "type": "scatter",
         "x": [
          "2020-03-17T00:00:00",
          "2020-03-18T00:00:00"
         ],
         "xaxis": "x",
         "y": [
          168.13,
          168.13
         ],
         "yaxis": "y"
        },
        {
         "hoverinfo": "none",
         "line": {
          "color": "green",
          "width": 3
         },
         "mode": "lines",
         "showlegend": false,
         "type": "scatter",
         "x": [
          "2020-03-18T00:00:00",
          "2020-03-19T00:00:00"
         ],
         "xaxis": "x",
         "y": [
          168.13,
          168.15
         ],
         "yaxis": "y"
        },
        {
         "hoverinfo": "none",
         "line": {
          "color": "green",
          "width": 3
         },
         "mode": "lines",
         "showlegend": false,
         "type": "scatter",
         "x": [
          "2020-03-19T00:00:00",
          "2020-03-20T00:00:00"
         ],
         "xaxis": "x",
         "y": [
          168.15,
          168.17
         ],
         "yaxis": "y"
        },
        {
         "hoverinfo": "none",
         "line": {
          "color": "green",
          "width": 3
         },
         "mode": "lines",
         "showlegend": false,
         "type": "scatter",
         "x": [
          "2020-03-20T00:00:00",
          "2020-03-21T00:00:00"
         ],
         "xaxis": "x",
         "y": [
          168.17,
          168.19
         ],
         "yaxis": "y"
        },
        {
         "hoverinfo": "none",
         "line": {
          "color": "red",
          "width": 3
         },
         "mode": "lines",
         "showlegend": false,
         "type": "scatter",
         "x": [
          "2020-03-21T00:00:00",
          "2020-03-22T00:00:00"
         ],
         "xaxis": "x",
         "y": [
          168.19,
          168.08
         ],
         "yaxis": "y"
        },
        {
         "hoverinfo": "none",
         "line": {
          "color": "green",
          "width": 3
         },
         "mode": "lines",
         "showlegend": false,
         "type": "scatter",
         "x": [
          "2020-03-22T00:00:00",
          "2020-03-23T00:00:00"
         ],
         "xaxis": "x",
         "y": [
          168.08,
          168.21
         ],
         "yaxis": "y"
        },
        {
         "hoverinfo": "none",
         "line": {
          "color": "green",
          "width": 3
         },
         "mode": "lines",
         "showlegend": false,
         "type": "scatter",
         "x": [
          "2020-03-23T00:00:00",
          "2020-03-24T00:00:00"
         ],
         "xaxis": "x",
         "y": [
          168.21,
          168.32
         ],
         "yaxis": "y"
        },
        {
         "hoverinfo": "none",
         "line": {
          "color": "green",
          "width": 3
         },
         "mode": "lines",
         "showlegend": false,
         "type": "scatter",
         "x": [
          "2020-03-24T00:00:00",
          "2020-03-25T00:00:00"
         ],
         "xaxis": "x",
         "y": [
          168.32,
          168.32
         ],
         "yaxis": "y"
        },
        {
         "hoverinfo": "none",
         "line": {
          "color": "red",
          "width": 3
         },
         "mode": "lines",
         "showlegend": false,
         "type": "scatter",
         "x": [
          "2020-03-25T00:00:00",
          "2020-03-26T00:00:00"
         ],
         "xaxis": "x",
         "y": [
          168.32,
          168.31
         ],
         "yaxis": "y"
        },
        {
         "hoverinfo": "none",
         "line": {
          "color": "red",
          "width": 3
         },
         "mode": "lines",
         "showlegend": false,
         "type": "scatter",
         "x": [
          "2020-03-26T00:00:00",
          "2020-03-27T00:00:00"
         ],
         "xaxis": "x",
         "y": [
          168.31,
          168.29
         ],
         "yaxis": "y"
        },
        {
         "hoverinfo": "none",
         "line": {
          "color": "red",
          "width": 3
         },
         "mode": "lines",
         "showlegend": false,
         "type": "scatter",
         "x": [
          "2020-03-27T00:00:00",
          "2020-03-28T00:00:00"
         ],
         "xaxis": "x",
         "y": [
          168.29,
          168.27
         ],
         "yaxis": "y"
        },
        {
         "hoverinfo": "none",
         "line": {
          "color": "green",
          "width": 3
         },
         "mode": "lines",
         "showlegend": false,
         "type": "scatter",
         "x": [
          "2020-03-28T00:00:00",
          "2020-03-29T00:00:00"
         ],
         "xaxis": "x",
         "y": [
          168.27,
          168.27
         ],
         "yaxis": "y"
        },
        {
         "hoverinfo": "none",
         "line": {
          "color": "green",
          "width": 3
         },
         "mode": "lines",
         "showlegend": false,
         "type": "scatter",
         "x": [
          "2020-03-29T00:00:00",
          "2020-03-30T00:00:00"
         ],
         "xaxis": "x",
         "y": [
          168.27,
          168.51
         ],
         "yaxis": "y"
        },
        {
         "hoverinfo": "none",
         "line": {
          "color": "green",
          "width": 3
         },
         "mode": "lines",
         "showlegend": false,
         "type": "scatter",
         "x": [
          "2020-03-30T00:00:00",
          "2020-03-31T00:00:00"
         ],
         "xaxis": "x",
         "y": [
          168.51,
          168.63
         ],
         "yaxis": "y"
        },
        {
         "hoverinfo": "none",
         "line": {
          "color": "green",
          "width": 3
         },
         "mode": "lines",
         "showlegend": false,
         "type": "scatter",
         "x": [
          "2020-03-31T00:00:00",
          "2020-04-01T00:00:00"
         ],
         "xaxis": "x",
         "y": [
          168.63,
          168.76
         ],
         "yaxis": "y"
        },
        {
         "hoverinfo": "none",
         "line": {
          "color": "green",
          "width": 3
         },
         "mode": "lines",
         "showlegend": false,
         "type": "scatter",
         "x": [
          "2020-04-01T00:00:00",
          "2020-04-02T00:00:00"
         ],
         "xaxis": "x",
         "y": [
          168.76,
          168.89
         ],
         "yaxis": "y"
        },
        {
         "hoverinfo": "none",
         "line": {
          "color": "green",
          "width": 3
         },
         "mode": "lines",
         "showlegend": false,
         "type": "scatter",
         "x": [
          "2020-04-02T00:00:00",
          "2020-04-03T00:00:00"
         ],
         "xaxis": "x",
         "y": [
          168.89,
          169.03
         ],
         "yaxis": "y"
        },
        {
         "hoverinfo": "none",
         "line": {
          "color": "green",
          "width": 3
         },
         "mode": "lines",
         "showlegend": false,
         "type": "scatter",
         "x": [
          "2020-04-03T00:00:00",
          "2020-04-04T00:00:00"
         ],
         "xaxis": "x",
         "y": [
          169.03,
          169.15
         ],
         "yaxis": "y"
        },
        {
         "hoverinfo": "none",
         "line": {
          "color": "green",
          "width": 3
         },
         "mode": "lines",
         "showlegend": false,
         "type": "scatter",
         "x": [
          "2020-04-04T00:00:00",
          "2020-04-05T00:00:00"
         ],
         "xaxis": "x",
         "y": [
          169.15,
          169.26
         ],
         "yaxis": "y"
        },
        {
         "hoverinfo": "none",
         "line": {
          "color": "green",
          "width": 3
         },
         "mode": "lines",
         "showlegend": false,
         "type": "scatter",
         "x": [
          "2020-04-05T00:00:00",
          "2020-04-06T00:00:00"
         ],
         "xaxis": "x",
         "y": [
          169.26,
          169.38
         ],
         "yaxis": "y"
        },
        {
         "hoverinfo": "none",
         "line": {
          "color": "red",
          "width": 3
         },
         "mode": "lines",
         "showlegend": false,
         "type": "scatter",
         "x": [
          "2020-04-06T00:00:00",
          "2020-04-07T00:00:00"
         ],
         "xaxis": "x",
         "y": [
          169.38,
          169.37
         ],
         "yaxis": "y"
        },
        {
         "hoverinfo": "none",
         "line": {
          "color": "green",
          "width": 3
         },
         "mode": "lines",
         "showlegend": false,
         "type": "scatter",
         "x": [
          "2020-04-07T00:00:00",
          "2020-04-08T00:00:00"
         ],
         "xaxis": "x",
         "y": [
          169.37,
          169.37
         ],
         "yaxis": "y"
        },
        {
         "hoverinfo": "none",
         "line": {
          "color": "red",
          "width": 3
         },
         "mode": "lines",
         "showlegend": false,
         "type": "scatter",
         "x": [
          "2020-04-08T00:00:00",
          "2020-04-09T00:00:00"
         ],
         "xaxis": "x",
         "y": [
          169.37,
          169.36
         ],
         "yaxis": "y"
        },
        {
         "hoverinfo": "none",
         "line": {
          "color": "red",
          "width": 3
         },
         "mode": "lines",
         "showlegend": false,
         "type": "scatter",
         "x": [
          "2020-04-09T00:00:00",
          "2020-04-10T00:00:00"
         ],
         "xaxis": "x",
         "y": [
          169.36,
          169.35
         ],
         "yaxis": "y"
        },
        {
         "hoverinfo": "none",
         "line": {
          "color": "green",
          "width": 3
         },
         "mode": "lines",
         "showlegend": false,
         "type": "scatter",
         "x": [
          "2020-04-10T00:00:00",
          "2020-04-11T00:00:00"
         ],
         "xaxis": "x",
         "y": [
          169.35,
          169.35
         ],
         "yaxis": "y"
        },
        {
         "hoverinfo": "none",
         "line": {
          "color": "green",
          "width": 3
         },
         "mode": "lines",
         "showlegend": false,
         "type": "scatter",
         "x": [
          "2020-04-11T00:00:00",
          "2020-04-12T00:00:00"
         ],
         "xaxis": "x",
         "y": [
          169.35,
          169.47
         ],
         "yaxis": "y"
        },
        {
         "hoverinfo": "none",
         "line": {
          "color": "green",
          "width": 3
         },
         "mode": "lines",
         "showlegend": false,
         "type": "scatter",
         "x": [
          "2020-04-12T00:00:00",
          "2020-04-13T00:00:00"
         ],
         "xaxis": "x",
         "y": [
          169.47,
          169.6
         ],
         "yaxis": "y"
        },
        {
         "hoverinfo": "none",
         "line": {
          "color": "green",
          "width": 3
         },
         "mode": "lines",
         "showlegend": false,
         "type": "scatter",
         "x": [
          "2020-04-13T00:00:00",
          "2020-04-14T00:00:00"
         ],
         "xaxis": "x",
         "y": [
          169.6,
          169.73
         ],
         "yaxis": "y"
        },
        {
         "hoverinfo": "none",
         "line": {
          "color": "green",
          "width": 3
         },
         "mode": "lines",
         "showlegend": false,
         "type": "scatter",
         "x": [
          "2020-04-14T00:00:00",
          "2020-04-15T00:00:00"
         ],
         "xaxis": "x",
         "y": [
          169.73,
          169.85
         ],
         "yaxis": "y"
        },
        {
         "hoverinfo": "none",
         "line": {
          "color": "green",
          "width": 3
         },
         "mode": "lines",
         "showlegend": false,
         "type": "scatter",
         "x": [
          "2020-04-15T00:00:00",
          "2020-04-16T00:00:00"
         ],
         "xaxis": "x",
         "y": [
          169.85,
          169.97
         ],
         "yaxis": "y"
        },
        {
         "hoverinfo": "none",
         "line": {
          "color": "green",
          "width": 3
         },
         "mode": "lines",
         "showlegend": false,
         "type": "scatter",
         "x": [
          "2020-04-16T00:00:00",
          "2020-04-17T00:00:00"
         ],
         "xaxis": "x",
         "y": [
          169.97,
          170.09
         ],
         "yaxis": "y"
        },
        {
         "hoverinfo": "none",
         "line": {
          "color": "green",
          "width": 3
         },
         "mode": "lines",
         "showlegend": false,
         "type": "scatter",
         "x": [
          "2020-04-17T00:00:00",
          "2020-04-18T00:00:00"
         ],
         "xaxis": "x",
         "y": [
          170.09,
          170.2
         ],
         "yaxis": "y"
        },
        {
         "hoverinfo": "none",
         "line": {
          "color": "green",
          "width": 3
         },
         "mode": "lines",
         "showlegend": false,
         "type": "scatter",
         "x": [
          "2020-04-18T00:00:00",
          "2020-04-19T00:00:00"
         ],
         "xaxis": "x",
         "y": [
          170.2,
          170.31
         ],
         "yaxis": "y"
        },
        {
         "hoverinfo": "none",
         "line": {
          "color": "green",
          "width": 3
         },
         "mode": "lines",
         "showlegend": false,
         "type": "scatter",
         "x": [
          "2020-04-19T00:00:00",
          "2020-04-20T00:00:00"
         ],
         "xaxis": "x",
         "y": [
          170.31,
          170.31
         ],
         "yaxis": "y"
        },
        {
         "hoverinfo": "none",
         "line": {
          "color": "red",
          "width": 3
         },
         "mode": "lines",
         "showlegend": false,
         "type": "scatter",
         "x": [
          "2020-04-20T00:00:00",
          "2020-04-21T00:00:00"
         ],
         "xaxis": "x",
         "y": [
          170.31,
          170.17
         ],
         "yaxis": "y"
        },
        {
         "hoverinfo": "none",
         "line": {
          "color": "red",
          "width": 3
         },
         "mode": "lines",
         "showlegend": false,
         "type": "scatter",
         "x": [
          "2020-04-21T00:00:00",
          "2020-04-22T00:00:00"
         ],
         "xaxis": "x",
         "y": [
          170.17,
          170.05
         ],
         "yaxis": "y"
        },
        {
         "hoverinfo": "none",
         "line": {
          "color": "red",
          "width": 3
         },
         "mode": "lines",
         "showlegend": false,
         "type": "scatter",
         "x": [
          "2020-04-22T00:00:00",
          "2020-04-23T00:00:00"
         ],
         "xaxis": "x",
         "y": [
          170.05,
          169.94
         ],
         "yaxis": "y"
        },
        {
         "hoverinfo": "none",
         "line": {
          "color": "green",
          "width": 3
         },
         "mode": "lines",
         "showlegend": false,
         "type": "scatter",
         "x": [
          "2020-04-23T00:00:00",
          "2020-04-24T00:00:00"
         ],
         "xaxis": "x",
         "y": [
          169.94,
          169.96
         ],
         "yaxis": "y"
        },
        {
         "hoverinfo": "none",
         "line": {
          "color": "green",
          "width": 3
         },
         "mode": "lines",
         "showlegend": false,
         "type": "scatter",
         "x": [
          "2020-04-24T00:00:00",
          "2020-04-25T00:00:00"
         ],
         "xaxis": "x",
         "y": [
          169.96,
          169.98
         ],
         "yaxis": "y"
        },
        {
         "hoverinfo": "none",
         "line": {
          "color": "green",
          "width": 3
         },
         "mode": "lines",
         "showlegend": false,
         "type": "scatter",
         "x": [
          "2020-04-25T00:00:00",
          "2020-04-26T00:00:00"
         ],
         "xaxis": "x",
         "y": [
          169.98,
          170
         ],
         "yaxis": "y"
        },
        {
         "hoverinfo": "none",
         "line": {
          "color": "green",
          "width": 3
         },
         "mode": "lines",
         "showlegend": false,
         "type": "scatter",
         "x": [
          "2020-04-26T00:00:00",
          "2020-04-27T00:00:00"
         ],
         "xaxis": "x",
         "y": [
          170,
          170.02
         ],
         "yaxis": "y"
        },
        {
         "hoverinfo": "none",
         "line": {
          "color": "green",
          "width": 3
         },
         "mode": "lines",
         "showlegend": false,
         "type": "scatter",
         "x": [
          "2020-04-27T00:00:00",
          "2020-04-28T00:00:00"
         ],
         "xaxis": "x",
         "y": [
          170.02,
          170.02
         ],
         "yaxis": "y"
        },
        {
         "hoverinfo": "none",
         "line": {
          "color": "green",
          "width": 3
         },
         "mode": "lines",
         "showlegend": false,
         "type": "scatter",
         "x": [
          "2020-04-28T00:00:00",
          "2020-04-29T00:00:00"
         ],
         "xaxis": "x",
         "y": [
          170.02,
          170.03
         ],
         "yaxis": "y"
        },
        {
         "hoverinfo": "none",
         "line": {
          "color": "green",
          "width": 3
         },
         "mode": "lines",
         "showlegend": false,
         "type": "scatter",
         "x": [
          "2020-04-29T00:00:00",
          "2020-04-30T00:00:00"
         ],
         "xaxis": "x",
         "y": [
          170.03,
          170.15
         ],
         "yaxis": "y"
        },
        {
         "hoverinfo": "none",
         "line": {
          "color": "green",
          "width": 3
         },
         "mode": "lines",
         "showlegend": false,
         "type": "scatter",
         "x": [
          "2020-04-30T00:00:00",
          "2020-05-01T00:00:00"
         ],
         "xaxis": "x",
         "y": [
          170.15,
          170.27
         ],
         "yaxis": "y"
        },
        {
         "hoverinfo": "none",
         "line": {
          "color": "red",
          "width": 3
         },
         "mode": "lines",
         "showlegend": false,
         "type": "scatter",
         "x": [
          "2020-05-01T00:00:00",
          "2020-05-02T00:00:00"
         ],
         "xaxis": "x",
         "y": [
          170.27,
          170.25
         ],
         "yaxis": "y"
        },
        {
         "hoverinfo": "none",
         "line": {
          "color": "red",
          "width": 3
         },
         "mode": "lines",
         "showlegend": false,
         "type": "scatter",
         "x": [
          "2020-05-02T00:00:00",
          "2020-05-03T00:00:00"
         ],
         "xaxis": "x",
         "y": [
          170.25,
          170.23
         ],
         "yaxis": "y"
        },
        {
         "hoverinfo": "none",
         "line": {
          "color": "red",
          "width": 3
         },
         "mode": "lines",
         "showlegend": false,
         "type": "scatter",
         "x": [
          "2020-05-03T00:00:00",
          "2020-05-04T00:00:00"
         ],
         "xaxis": "x",
         "y": [
          170.23,
          170.21
         ],
         "yaxis": "y"
        },
        {
         "hoverinfo": "none",
         "line": {
          "color": "red",
          "width": 3
         },
         "mode": "lines",
         "showlegend": false,
         "type": "scatter",
         "x": [
          "2020-05-04T00:00:00",
          "2020-05-05T00:00:00"
         ],
         "xaxis": "x",
         "y": [
          170.21,
          170.2
         ],
         "yaxis": "y"
        },
        {
         "hoverinfo": "none",
         "line": {
          "color": "green",
          "width": 3
         },
         "mode": "lines",
         "showlegend": false,
         "type": "scatter",
         "x": [
          "2020-05-05T00:00:00",
          "2020-05-06T00:00:00"
         ],
         "xaxis": "x",
         "y": [
          170.2,
          170.2
         ],
         "yaxis": "y"
        },
        {
         "hoverinfo": "none",
         "line": {
          "color": "green",
          "width": 3
         },
         "mode": "lines",
         "showlegend": false,
         "type": "scatter",
         "x": [
          "2020-05-06T00:00:00",
          "2020-05-07T00:00:00"
         ],
         "xaxis": "x",
         "y": [
          170.2,
          170.31
         ],
         "yaxis": "y"
        },
        {
         "hoverinfo": "none",
         "line": {
          "color": "green",
          "width": 3
         },
         "mode": "lines",
         "showlegend": false,
         "type": "scatter",
         "x": [
          "2020-05-07T00:00:00",
          "2020-05-08T00:00:00"
         ],
         "xaxis": "x",
         "y": [
          170.31,
          170.31
         ],
         "yaxis": "y"
        },
        {
         "hoverinfo": "none",
         "line": {
          "color": "red",
          "width": 3
         },
         "mode": "lines",
         "showlegend": false,
         "type": "scatter",
         "x": [
          "2020-05-08T00:00:00",
          "2020-05-09T00:00:00"
         ],
         "xaxis": "x",
         "y": [
          170.31,
          170.3
         ],
         "yaxis": "y"
        },
        {
         "hoverinfo": "none",
         "line": {
          "color": "green",
          "width": 3
         },
         "mode": "lines",
         "showlegend": false,
         "type": "scatter",
         "x": [
          "2020-05-09T00:00:00",
          "2020-05-10T00:00:00"
         ],
         "xaxis": "x",
         "y": [
          170.3,
          170.31
         ],
         "yaxis": "y"
        },
        {
         "hoverinfo": "none",
         "line": {
          "color": "green",
          "width": 3
         },
         "mode": "lines",
         "showlegend": false,
         "type": "scatter",
         "x": [
          "2020-05-10T00:00:00",
          "2020-05-11T00:00:00"
         ],
         "xaxis": "x",
         "y": [
          170.31,
          170.31
         ],
         "yaxis": "y"
        },
        {
         "hoverinfo": "none",
         "line": {
          "color": "green",
          "width": 3
         },
         "mode": "lines",
         "showlegend": false,
         "type": "scatter",
         "x": [
          "2020-05-11T00:00:00",
          "2020-05-12T00:00:00"
         ],
         "xaxis": "x",
         "y": [
          170.31,
          170.31
         ],
         "yaxis": "y"
        },
        {
         "hoverinfo": "none",
         "line": {
          "color": "green",
          "width": 3
         },
         "mode": "lines",
         "showlegend": false,
         "type": "scatter",
         "x": [
          "2020-05-12T00:00:00",
          "2020-05-13T00:00:00"
         ],
         "xaxis": "x",
         "y": [
          170.31,
          170.31
         ],
         "yaxis": "y"
        },
        {
         "hoverinfo": "none",
         "line": {
          "color": "green",
          "width": 3
         },
         "mode": "lines",
         "showlegend": false,
         "type": "scatter",
         "x": [
          "2020-05-13T00:00:00",
          "2020-05-14T00:00:00"
         ],
         "xaxis": "x",
         "y": [
          170.31,
          170.54
         ],
         "yaxis": "y"
        },
        {
         "hoverinfo": "none",
         "line": {
          "color": "green",
          "width": 3
         },
         "mode": "lines",
         "showlegend": false,
         "type": "scatter",
         "x": [
          "2020-05-14T00:00:00",
          "2020-05-15T00:00:00"
         ],
         "xaxis": "x",
         "y": [
          170.54,
          170.78
         ],
         "yaxis": "y"
        },
        {
         "hoverinfo": "none",
         "line": {
          "color": "green",
          "width": 3
         },
         "mode": "lines",
         "showlegend": false,
         "type": "scatter",
         "x": [
          "2020-05-15T00:00:00",
          "2020-05-16T00:00:00"
         ],
         "xaxis": "x",
         "y": [
          170.78,
          171.01
         ],
         "yaxis": "y"
        },
        {
         "hoverinfo": "none",
         "line": {
          "color": "red",
          "width": 3
         },
         "mode": "lines",
         "showlegend": false,
         "type": "scatter",
         "x": [
          "2020-05-16T00:00:00",
          "2020-05-17T00:00:00"
         ],
         "xaxis": "x",
         "y": [
          171.01,
          171
         ],
         "yaxis": "y"
        },
        {
         "hoverinfo": "none",
         "line": {
          "color": "red",
          "width": 3
         },
         "mode": "lines",
         "showlegend": false,
         "type": "scatter",
         "x": [
          "2020-05-17T00:00:00",
          "2020-05-18T00:00:00"
         ],
         "xaxis": "x",
         "y": [
          171,
          170.99
         ],
         "yaxis": "y"
        },
        {
         "hoverinfo": "none",
         "line": {
          "color": "red",
          "width": 3
         },
         "mode": "lines",
         "showlegend": false,
         "type": "scatter",
         "x": [
          "2020-05-18T00:00:00",
          "2020-05-19T00:00:00"
         ],
         "xaxis": "x",
         "y": [
          170.99,
          170.98
         ],
         "yaxis": "y"
        },
        {
         "hoverinfo": "none",
         "line": {
          "color": "red",
          "width": 3
         },
         "mode": "lines",
         "showlegend": false,
         "type": "scatter",
         "x": [
          "2020-05-19T00:00:00",
          "2020-05-20T00:00:00"
         ],
         "xaxis": "x",
         "y": [
          170.98,
          170.95
         ],
         "yaxis": "y"
        },
        {
         "hoverinfo": "none",
         "line": {
          "color": "green",
          "width": 3
         },
         "mode": "lines",
         "showlegend": false,
         "type": "scatter",
         "x": [
          "2020-05-20T00:00:00",
          "2020-05-21T00:00:00"
         ],
         "xaxis": "x",
         "y": [
          170.95,
          171.04
         ],
         "yaxis": "y"
        },
        {
         "hoverinfo": "none",
         "line": {
          "color": "red",
          "width": 3
         },
         "mode": "lines",
         "showlegend": false,
         "type": "scatter",
         "x": [
          "2020-05-21T00:00:00",
          "2020-05-22T00:00:00"
         ],
         "xaxis": "x",
         "y": [
          171.04,
          170.9
         ],
         "yaxis": "y"
        },
        {
         "hoverinfo": "none",
         "line": {
          "color": "red",
          "width": 3
         },
         "mode": "lines",
         "showlegend": false,
         "type": "scatter",
         "x": [
          "2020-05-22T00:00:00",
          "2020-05-23T00:00:00"
         ],
         "xaxis": "x",
         "y": [
          170.9,
          170.74
         ],
         "yaxis": "y"
        },
        {
         "hoverinfo": "none",
         "line": {
          "color": "red",
          "width": 3
         },
         "mode": "lines",
         "showlegend": false,
         "type": "scatter",
         "x": [
          "2020-05-23T00:00:00",
          "2020-05-24T00:00:00"
         ],
         "xaxis": "x",
         "y": [
          170.74,
          170.59
         ],
         "yaxis": "y"
        },
        {
         "hoverinfo": "none",
         "line": {
          "color": "red",
          "width": 3
         },
         "mode": "lines",
         "showlegend": false,
         "type": "scatter",
         "x": [
          "2020-05-24T00:00:00",
          "2020-05-25T00:00:00"
         ],
         "xaxis": "x",
         "y": [
          170.59,
          170.55
         ],
         "yaxis": "y"
        },
        {
         "hoverinfo": "none",
         "line": {
          "color": "red",
          "width": 3
         },
         "mode": "lines",
         "showlegend": false,
         "type": "scatter",
         "x": [
          "2020-05-25T00:00:00",
          "2020-05-26T00:00:00"
         ],
         "xaxis": "x",
         "y": [
          170.55,
          170.52
         ],
         "yaxis": "y"
        },
        {
         "hoverinfo": "none",
         "line": {
          "color": "green",
          "width": 3
         },
         "mode": "lines",
         "showlegend": false,
         "type": "scatter",
         "x": [
          "2020-05-26T00:00:00",
          "2020-05-27T00:00:00"
         ],
         "xaxis": "x",
         "y": [
          170.52,
          170.62
         ],
         "yaxis": "y"
        },
        {
         "hoverinfo": "none",
         "line": {
          "color": "green",
          "width": 3
         },
         "mode": "lines",
         "showlegend": false,
         "type": "scatter",
         "x": [
          "2020-05-27T00:00:00",
          "2020-05-28T00:00:00"
         ],
         "xaxis": "x",
         "y": [
          170.62,
          170.73
         ],
         "yaxis": "y"
        },
        {
         "hoverinfo": "none",
         "line": {
          "color": "green",
          "width": 3
         },
         "mode": "lines",
         "showlegend": false,
         "type": "scatter",
         "x": [
          "2020-05-28T00:00:00",
          "2020-05-29T00:00:00"
         ],
         "xaxis": "x",
         "y": [
          170.73,
          170.73
         ],
         "yaxis": "y"
        },
        {
         "hoverinfo": "none",
         "line": {
          "color": "red",
          "width": 3
         },
         "mode": "lines",
         "showlegend": false,
         "type": "scatter",
         "x": [
          "2020-05-29T00:00:00",
          "2020-05-30T00:00:00"
         ],
         "xaxis": "x",
         "y": [
          170.73,
          170.59
         ],
         "yaxis": "y"
        },
        {
         "hoverinfo": "none",
         "line": {
          "color": "red",
          "width": 3
         },
         "mode": "lines",
         "showlegend": false,
         "type": "scatter",
         "x": [
          "2020-05-30T00:00:00",
          "2020-05-31T00:00:00"
         ],
         "xaxis": "x",
         "y": [
          170.59,
          170.48
         ],
         "yaxis": "y"
        },
        {
         "hoverinfo": "none",
         "line": {
          "color": "green",
          "width": 3
         },
         "mode": "lines",
         "showlegend": false,
         "type": "scatter",
         "x": [
          "2020-05-31T00:00:00",
          "2020-06-01T00:00:00"
         ],
         "xaxis": "x",
         "y": [
          170.48,
          170.48
         ],
         "yaxis": "y"
        },
        {
         "hoverinfo": "none",
         "line": {
          "color": "green",
          "width": 3
         },
         "mode": "lines",
         "showlegend": false,
         "type": "scatter",
         "x": [
          "2020-06-01T00:00:00",
          "2020-06-02T00:00:00"
         ],
         "xaxis": "x",
         "y": [
          170.48,
          170.59
         ],
         "yaxis": "y"
        },
        {
         "hoverinfo": "none",
         "line": {
          "color": "green",
          "width": 3
         },
         "mode": "lines",
         "showlegend": false,
         "type": "scatter",
         "x": [
          "2020-06-02T00:00:00",
          "2020-06-03T00:00:00"
         ],
         "xaxis": "x",
         "y": [
          170.59,
          170.6
         ],
         "yaxis": "y"
        },
        {
         "hoverinfo": "none",
         "line": {
          "color": "red",
          "width": 3
         },
         "mode": "lines",
         "showlegend": false,
         "type": "scatter",
         "x": [
          "2020-06-03T00:00:00",
          "2020-06-04T00:00:00"
         ],
         "xaxis": "x",
         "y": [
          170.6,
          170.49
         ],
         "yaxis": "y"
        },
        {
         "hoverinfo": "none",
         "line": {
          "color": "red",
          "width": 3
         },
         "mode": "lines",
         "showlegend": false,
         "type": "scatter",
         "x": [
          "2020-06-04T00:00:00",
          "2020-06-05T00:00:00"
         ],
         "xaxis": "x",
         "y": [
          170.49,
          170.39
         ],
         "yaxis": "y"
        },
        {
         "hoverinfo": "none",
         "line": {
          "color": "red",
          "width": 3
         },
         "mode": "lines",
         "showlegend": false,
         "type": "scatter",
         "x": [
          "2020-06-05T00:00:00",
          "2020-06-06T00:00:00"
         ],
         "xaxis": "x",
         "y": [
          170.39,
          170.28
         ],
         "yaxis": "y"
        },
        {
         "hoverinfo": "none",
         "line": {
          "color": "green",
          "width": 3
         },
         "mode": "lines",
         "showlegend": false,
         "type": "scatter",
         "x": [
          "2020-06-06T00:00:00",
          "2020-06-07T00:00:00"
         ],
         "xaxis": "x",
         "y": [
          170.28,
          170.29
         ],
         "yaxis": "y"
        },
        {
         "hoverinfo": "none",
         "line": {
          "color": "green",
          "width": 3
         },
         "mode": "lines",
         "showlegend": false,
         "type": "scatter",
         "x": [
          "2020-06-07T00:00:00",
          "2020-06-08T00:00:00"
         ],
         "xaxis": "x",
         "y": [
          170.29,
          170.29
         ],
         "yaxis": "y"
        },
        {
         "hoverinfo": "none",
         "line": {
          "color": "red",
          "width": 3
         },
         "mode": "lines",
         "showlegend": false,
         "type": "scatter",
         "x": [
          "2020-06-08T00:00:00",
          "2020-06-09T00:00:00"
         ],
         "xaxis": "x",
         "y": [
          170.29,
          170.17
         ],
         "yaxis": "y"
        },
        {
         "hoverinfo": "none",
         "line": {
          "color": "red",
          "width": 3
         },
         "mode": "lines",
         "showlegend": false,
         "type": "scatter",
         "x": [
          "2020-06-09T00:00:00",
          "2020-06-10T00:00:00"
         ],
         "xaxis": "x",
         "y": [
          170.17,
          170.05
         ],
         "yaxis": "y"
        },
        {
         "hoverinfo": "none",
         "line": {
          "color": "red",
          "width": 3
         },
         "mode": "lines",
         "showlegend": false,
         "type": "scatter",
         "x": [
          "2020-06-10T00:00:00",
          "2020-06-11T00:00:00"
         ],
         "xaxis": "x",
         "y": [
          170.05,
          170.04
         ],
         "yaxis": "y"
        },
        {
         "hoverinfo": "none",
         "line": {
          "color": "red",
          "width": 3
         },
         "mode": "lines",
         "showlegend": false,
         "type": "scatter",
         "x": [
          "2020-06-11T00:00:00",
          "2020-06-12T00:00:00"
         ],
         "xaxis": "x",
         "y": [
          170.04,
          169.92
         ],
         "yaxis": "y"
        },
        {
         "hoverinfo": "none",
         "line": {
          "color": "red",
          "width": 3
         },
         "mode": "lines",
         "showlegend": false,
         "type": "scatter",
         "x": [
          "2020-06-12T00:00:00",
          "2020-06-13T00:00:00"
         ],
         "xaxis": "x",
         "y": [
          169.92,
          169.79
         ],
         "yaxis": "y"
        },
        {
         "hoverinfo": "none",
         "line": {
          "color": "red",
          "width": 3
         },
         "mode": "lines",
         "showlegend": false,
         "type": "scatter",
         "x": [
          "2020-06-13T00:00:00",
          "2020-06-14T00:00:00"
         ],
         "xaxis": "x",
         "y": [
          169.79,
          169.67
         ],
         "yaxis": "y"
        },
        {
         "hoverinfo": "none",
         "line": {
          "color": "red",
          "width": 3
         },
         "mode": "lines",
         "showlegend": false,
         "type": "scatter",
         "x": [
          "2020-06-14T00:00:00",
          "2020-06-15T00:00:00"
         ],
         "xaxis": "x",
         "y": [
          169.67,
          169.55
         ],
         "yaxis": "y"
        },
        {
         "hoverinfo": "none",
         "line": {
          "color": "red",
          "width": 3
         },
         "mode": "lines",
         "showlegend": false,
         "type": "scatter",
         "x": [
          "2020-06-15T00:00:00",
          "2020-06-16T00:00:00"
         ],
         "xaxis": "x",
         "y": [
          169.55,
          169.44
         ],
         "yaxis": "y"
        },
        {
         "hoverinfo": "none",
         "line": {
          "color": "red",
          "width": 3
         },
         "mode": "lines",
         "showlegend": false,
         "type": "scatter",
         "x": [
          "2020-06-16T00:00:00",
          "2020-06-17T00:00:00"
         ],
         "xaxis": "x",
         "y": [
          169.44,
          169.32
         ],
         "yaxis": "y"
        },
        {
         "hoverinfo": "none",
         "line": {
          "color": "red",
          "width": 3
         },
         "mode": "lines",
         "showlegend": false,
         "type": "scatter",
         "x": [
          "2020-06-17T00:00:00",
          "2020-06-18T00:00:00"
         ],
         "xaxis": "x",
         "y": [
          169.32,
          169.2
         ],
         "yaxis": "y"
        },
        {
         "hoverinfo": "none",
         "line": {
          "color": "red",
          "width": 3
         },
         "mode": "lines",
         "showlegend": false,
         "type": "scatter",
         "x": [
          "2020-06-18T00:00:00",
          "2020-06-19T00:00:00"
         ],
         "xaxis": "x",
         "y": [
          169.2,
          169.09
         ],
         "yaxis": "y"
        },
        {
         "hoverinfo": "none",
         "line": {
          "color": "green",
          "width": 3
         },
         "mode": "lines",
         "showlegend": false,
         "type": "scatter",
         "x": [
          "2020-06-19T00:00:00",
          "2020-06-20T00:00:00"
         ],
         "xaxis": "x",
         "y": [
          169.09,
          169.09
         ],
         "yaxis": "y"
        },
        {
         "hoverinfo": "none",
         "line": {
          "color": "green",
          "width": 3
         },
         "mode": "lines",
         "showlegend": false,
         "type": "scatter",
         "x": [
          "2020-06-20T00:00:00",
          "2020-06-21T00:00:00"
         ],
         "xaxis": "x",
         "y": [
          169.09,
          169.2
         ],
         "yaxis": "y"
        },
        {
         "hoverinfo": "none",
         "line": {
          "color": "green",
          "width": 3
         },
         "mode": "lines",
         "showlegend": false,
         "type": "scatter",
         "x": [
          "2020-06-21T00:00:00",
          "2020-06-22T00:00:00"
         ],
         "xaxis": "x",
         "y": [
          169.2,
          169.32
         ],
         "yaxis": "y"
        },
        {
         "hoverinfo": "none",
         "line": {
          "color": "green",
          "width": 3
         },
         "mode": "lines",
         "showlegend": false,
         "type": "scatter",
         "x": [
          "2020-06-22T00:00:00",
          "2020-06-23T00:00:00"
         ],
         "xaxis": "x",
         "y": [
          169.32,
          169.39
         ],
         "yaxis": "y"
        },
        {
         "hoverinfo": "none",
         "line": {
          "color": "green",
          "width": 3
         },
         "mode": "lines",
         "showlegend": false,
         "type": "scatter",
         "x": [
          "2020-06-23T00:00:00",
          "2020-06-24T00:00:00"
         ],
         "xaxis": "x",
         "y": [
          169.39,
          169.52
         ],
         "yaxis": "y"
        },
        {
         "hoverinfo": "none",
         "line": {
          "color": "green",
          "width": 3
         },
         "mode": "lines",
         "showlegend": false,
         "type": "scatter",
         "x": [
          "2020-06-24T00:00:00",
          "2020-06-25T00:00:00"
         ],
         "xaxis": "x",
         "y": [
          169.52,
          169.65
         ],
         "yaxis": "y"
        },
        {
         "hoverinfo": "none",
         "line": {
          "color": "green",
          "width": 3
         },
         "mode": "lines",
         "showlegend": false,
         "type": "scatter",
         "x": [
          "2020-06-25T00:00:00",
          "2020-06-26T00:00:00"
         ],
         "xaxis": "x",
         "y": [
          169.65,
          169.79
         ],
         "yaxis": "y"
        },
        {
         "hoverinfo": "none",
         "line": {
          "color": "green",
          "width": 3
         },
         "mode": "lines",
         "showlegend": false,
         "type": "scatter",
         "x": [
          "2020-06-26T00:00:00",
          "2020-06-27T00:00:00"
         ],
         "xaxis": "x",
         "y": [
          169.79,
          169.92
         ],
         "yaxis": "y"
        },
        {
         "hoverinfo": "none",
         "line": {
          "color": "green",
          "width": 3
         },
         "mode": "lines",
         "showlegend": false,
         "type": "scatter",
         "x": [
          "2020-06-27T00:00:00",
          "2020-06-28T00:00:00"
         ],
         "xaxis": "x",
         "y": [
          169.92,
          170.05
         ],
         "yaxis": "y"
        },
        {
         "hoverinfo": "none",
         "line": {
          "color": "green",
          "width": 3
         },
         "mode": "lines",
         "showlegend": false,
         "type": "scatter",
         "x": [
          "2020-06-28T00:00:00",
          "2020-06-29T00:00:00"
         ],
         "xaxis": "x",
         "y": [
          170.05,
          170.07
         ],
         "yaxis": "y"
        },
        {
         "hoverinfo": "none",
         "line": {
          "color": "green",
          "width": 3
         },
         "mode": "lines",
         "showlegend": false,
         "type": "scatter",
         "x": [
          "2020-06-29T00:00:00",
          "2020-06-30T00:00:00"
         ],
         "xaxis": "x",
         "y": [
          170.07,
          170.1
         ],
         "yaxis": "y"
        },
        {
         "hoverinfo": "none",
         "line": {
          "color": "green",
          "width": 3
         },
         "mode": "lines",
         "showlegend": false,
         "type": "scatter",
         "x": [
          "2020-06-30T00:00:00",
          "2020-07-01T00:00:00"
         ],
         "xaxis": "x",
         "y": [
          170.1,
          170.18
         ],
         "yaxis": "y"
        },
        {
         "hoverinfo": "none",
         "line": {
          "color": "green",
          "width": 3
         },
         "mode": "lines",
         "showlegend": false,
         "type": "scatter",
         "x": [
          "2020-07-01T00:00:00",
          "2020-07-02T00:00:00"
         ],
         "xaxis": "x",
         "y": [
          170.18,
          170.2
         ],
         "yaxis": "y"
        },
        {
         "hoverinfo": "none",
         "line": {
          "color": "green",
          "width": 3
         },
         "mode": "lines",
         "showlegend": false,
         "type": "scatter",
         "x": [
          "2020-07-02T00:00:00",
          "2020-07-03T00:00:00"
         ],
         "xaxis": "x",
         "y": [
          170.2,
          170.22
         ],
         "yaxis": "y"
        },
        {
         "hoverinfo": "none",
         "line": {
          "color": "green",
          "width": 3
         },
         "mode": "lines",
         "showlegend": false,
         "type": "scatter",
         "x": [
          "2020-07-03T00:00:00",
          "2020-07-04T00:00:00"
         ],
         "xaxis": "x",
         "y": [
          170.22,
          170.23
         ],
         "yaxis": "y"
        },
        {
         "hoverinfo": "none",
         "line": {
          "color": "green",
          "width": 3
         },
         "mode": "lines",
         "showlegend": false,
         "type": "scatter",
         "x": [
          "2020-07-04T00:00:00",
          "2020-07-05T00:00:00"
         ],
         "xaxis": "x",
         "y": [
          170.23,
          170.24
         ],
         "yaxis": "y"
        },
        {
         "hoverinfo": "none",
         "line": {
          "color": "green",
          "width": 3
         },
         "mode": "lines",
         "showlegend": false,
         "type": "scatter",
         "x": [
          "2020-07-05T00:00:00",
          "2020-07-06T00:00:00"
         ],
         "xaxis": "x",
         "y": [
          170.24,
          170.25
         ],
         "yaxis": "y"
        },
        {
         "hoverinfo": "none",
         "line": {
          "color": "green",
          "width": 3
         },
         "mode": "lines",
         "showlegend": false,
         "type": "scatter",
         "x": [
          "2020-07-06T00:00:00",
          "2020-07-07T00:00:00"
         ],
         "xaxis": "x",
         "y": [
          170.25,
          170.27
         ],
         "yaxis": "y"
        },
        {
         "hoverinfo": "none",
         "line": {
          "color": "green",
          "width": 3
         },
         "mode": "lines",
         "showlegend": false,
         "type": "scatter",
         "x": [
          "2020-07-07T00:00:00",
          "2020-07-08T00:00:00"
         ],
         "xaxis": "x",
         "y": [
          170.27,
          170.27
         ],
         "yaxis": "y"
        },
        {
         "hoverinfo": "none",
         "line": {
          "color": "green",
          "width": 3
         },
         "mode": "lines",
         "showlegend": false,
         "type": "scatter",
         "x": [
          "2020-07-08T00:00:00",
          "2020-07-09T00:00:00"
         ],
         "xaxis": "x",
         "y": [
          170.27,
          170.28
         ],
         "yaxis": "y"
        },
        {
         "hoverinfo": "none",
         "line": {
          "color": "green",
          "width": 3
         },
         "mode": "lines",
         "showlegend": false,
         "type": "scatter",
         "x": [
          "2020-07-09T00:00:00",
          "2020-07-10T00:00:00"
         ],
         "xaxis": "x",
         "y": [
          170.28,
          170.29
         ],
         "yaxis": "y"
        },
        {
         "hoverinfo": "none",
         "line": {
          "color": "green",
          "width": 3
         },
         "mode": "lines",
         "showlegend": false,
         "type": "scatter",
         "x": [
          "2020-07-10T00:00:00",
          "2020-07-11T00:00:00"
         ],
         "xaxis": "x",
         "y": [
          170.29,
          170.42
         ],
         "yaxis": "y"
        },
        {
         "hoverinfo": "none",
         "line": {
          "color": "green",
          "width": 3
         },
         "mode": "lines",
         "showlegend": false,
         "type": "scatter",
         "x": [
          "2020-07-11T00:00:00",
          "2020-07-12T00:00:00"
         ],
         "xaxis": "x",
         "y": [
          170.42,
          170.55
         ],
         "yaxis": "y"
        },
        {
         "hoverinfo": "none",
         "line": {
          "color": "green",
          "width": 3
         },
         "mode": "lines",
         "showlegend": false,
         "type": "scatter",
         "x": [
          "2020-07-12T00:00:00",
          "2020-07-13T00:00:00"
         ],
         "xaxis": "x",
         "y": [
          170.55,
          170.68
         ],
         "yaxis": "y"
        },
        {
         "hoverinfo": "none",
         "line": {
          "color": "green",
          "width": 3
         },
         "mode": "lines",
         "showlegend": false,
         "type": "scatter",
         "x": [
          "2020-07-13T00:00:00",
          "2020-07-14T00:00:00"
         ],
         "xaxis": "x",
         "y": [
          170.68,
          170.82
         ],
         "yaxis": "y"
        },
        {
         "hoverinfo": "none",
         "line": {
          "color": "green",
          "width": 3
         },
         "mode": "lines",
         "showlegend": false,
         "type": "scatter",
         "x": [
          "2020-07-14T00:00:00",
          "2020-07-15T00:00:00"
         ],
         "xaxis": "x",
         "y": [
          170.82,
          170.95
         ],
         "yaxis": "y"
        },
        {
         "hoverinfo": "none",
         "line": {
          "color": "green",
          "width": 3
         },
         "mode": "lines",
         "showlegend": false,
         "type": "scatter",
         "x": [
          "2020-07-15T00:00:00",
          "2020-07-16T00:00:00"
         ],
         "xaxis": "x",
         "y": [
          170.95,
          171.08
         ],
         "yaxis": "y"
        },
        {
         "hoverinfo": "none",
         "line": {
          "color": "green",
          "width": 3
         },
         "mode": "lines",
         "showlegend": false,
         "type": "scatter",
         "x": [
          "2020-07-16T00:00:00",
          "2020-07-17T00:00:00"
         ],
         "xaxis": "x",
         "y": [
          171.08,
          171.22
         ],
         "yaxis": "y"
        },
        {
         "hoverinfo": "none",
         "line": {
          "color": "green",
          "width": 3
         },
         "mode": "lines",
         "showlegend": false,
         "type": "scatter",
         "x": [
          "2020-07-17T00:00:00",
          "2020-07-18T00:00:00"
         ],
         "xaxis": "x",
         "y": [
          171.22,
          171.35
         ],
         "yaxis": "y"
        },
        {
         "hoverinfo": "none",
         "line": {
          "color": "green",
          "width": 3
         },
         "mode": "lines",
         "showlegend": false,
         "type": "scatter",
         "x": [
          "2020-07-18T00:00:00",
          "2020-07-19T00:00:00"
         ],
         "xaxis": "x",
         "y": [
          171.35,
          171.37
         ],
         "yaxis": "y"
        },
        {
         "hoverinfo": "none",
         "line": {
          "color": "green",
          "width": 3
         },
         "mode": "lines",
         "showlegend": false,
         "type": "scatter",
         "x": [
          "2020-07-19T00:00:00",
          "2020-07-20T00:00:00"
         ],
         "xaxis": "x",
         "y": [
          171.37,
          171.39
         ],
         "yaxis": "y"
        },
        {
         "hoverinfo": "none",
         "line": {
          "color": "green",
          "width": 3
         },
         "mode": "lines",
         "showlegend": false,
         "type": "scatter",
         "x": [
          "2020-07-20T00:00:00",
          "2020-07-21T00:00:00"
         ],
         "xaxis": "x",
         "y": [
          171.39,
          171.41
         ],
         "yaxis": "y"
        },
        {
         "hoverinfo": "none",
         "line": {
          "color": "green",
          "width": 3
         },
         "mode": "lines",
         "showlegend": false,
         "type": "scatter",
         "x": [
          "2020-07-21T00:00:00",
          "2020-07-22T00:00:00"
         ],
         "xaxis": "x",
         "y": [
          171.41,
          171.44
         ],
         "yaxis": "y"
        },
        {
         "hoverinfo": "none",
         "line": {
          "color": "green",
          "width": 3
         },
         "mode": "lines",
         "showlegend": false,
         "type": "scatter",
         "x": [
          "2020-07-22T00:00:00",
          "2020-07-23T00:00:00"
         ],
         "xaxis": "x",
         "y": [
          171.44,
          171.46
         ],
         "yaxis": "y"
        },
        {
         "hoverinfo": "none",
         "line": {
          "color": "green",
          "width": 3
         },
         "mode": "lines",
         "showlegend": false,
         "type": "scatter",
         "x": [
          "2020-07-23T00:00:00",
          "2020-07-24T00:00:00"
         ],
         "xaxis": "x",
         "y": [
          171.46,
          171.59
         ],
         "yaxis": "y"
        },
        {
         "hoverinfo": "none",
         "line": {
          "color": "green",
          "width": 3
         },
         "mode": "lines",
         "showlegend": false,
         "type": "scatter",
         "x": [
          "2020-07-24T00:00:00",
          "2020-07-25T00:00:00"
         ],
         "xaxis": "x",
         "y": [
          171.59,
          171.73
         ],
         "yaxis": "y"
        },
        {
         "hoverinfo": "none",
         "line": {
          "color": "green",
          "width": 3
         },
         "mode": "lines",
         "showlegend": false,
         "type": "scatter",
         "x": [
          "2020-07-25T00:00:00",
          "2020-07-26T00:00:00"
         ],
         "xaxis": "x",
         "y": [
          171.73,
          171.88
         ],
         "yaxis": "y"
        },
        {
         "hoverinfo": "none",
         "line": {
          "color": "green",
          "width": 3
         },
         "mode": "lines",
         "showlegend": false,
         "type": "scatter",
         "x": [
          "2020-07-26T00:00:00",
          "2020-07-27T00:00:00"
         ],
         "xaxis": "x",
         "y": [
          171.88,
          171.89
         ],
         "yaxis": "y"
        },
        {
         "hoverinfo": "none",
         "line": {
          "color": "green",
          "width": 3
         },
         "mode": "lines",
         "showlegend": false,
         "type": "scatter",
         "x": [
          "2020-07-27T00:00:00",
          "2020-07-28T00:00:00"
         ],
         "xaxis": "x",
         "y": [
          171.89,
          172.14
         ],
         "yaxis": "y"
        },
        {
         "hoverinfo": "none",
         "line": {
          "color": "green",
          "width": 3
         },
         "mode": "lines",
         "showlegend": false,
         "type": "scatter",
         "x": [
          "2020-07-28T00:00:00",
          "2020-07-29T00:00:00"
         ],
         "xaxis": "x",
         "y": [
          172.14,
          172.39
         ],
         "yaxis": "y"
        },
        {
         "hoverinfo": "none",
         "line": {
          "color": "green",
          "width": 3
         },
         "mode": "lines",
         "showlegend": false,
         "type": "scatter",
         "x": [
          "2020-07-29T00:00:00",
          "2020-07-30T00:00:00"
         ],
         "xaxis": "x",
         "y": [
          172.39,
          172.63
         ],
         "yaxis": "y"
        },
        {
         "hoverinfo": "none",
         "line": {
          "color": "green",
          "width": 3
         },
         "mode": "lines",
         "showlegend": false,
         "type": "scatter",
         "x": [
          "2020-07-30T00:00:00",
          "2020-07-31T00:00:00"
         ],
         "xaxis": "x",
         "y": [
          172.63,
          172.74
         ],
         "yaxis": "y"
        },
        {
         "hoverinfo": "none",
         "line": {
          "color": "red",
          "width": 3
         },
         "mode": "lines",
         "showlegend": false,
         "type": "scatter",
         "x": [
          "2020-07-31T00:00:00",
          "2020-08-01T00:00:00"
         ],
         "xaxis": "x",
         "y": [
          172.74,
          172.73
         ],
         "yaxis": "y"
        },
        {
         "hoverinfo": "none",
         "line": {
          "color": "green",
          "width": 3
         },
         "mode": "lines",
         "showlegend": false,
         "type": "scatter",
         "x": [
          "2020-08-01T00:00:00",
          "2020-08-02T00:00:00"
         ],
         "xaxis": "x",
         "y": [
          172.73,
          172.84
         ],
         "yaxis": "y"
        },
        {
         "hoverinfo": "none",
         "line": {
          "color": "green",
          "width": 3
         },
         "mode": "lines",
         "showlegend": false,
         "type": "scatter",
         "x": [
          "2020-08-02T00:00:00",
          "2020-08-03T00:00:00"
         ],
         "xaxis": "x",
         "y": [
          172.84,
          172.94
         ],
         "yaxis": "y"
        },
        {
         "hoverinfo": "none",
         "line": {
          "color": "green",
          "width": 3
         },
         "mode": "lines",
         "showlegend": false,
         "type": "scatter",
         "x": [
          "2020-08-03T00:00:00",
          "2020-08-04T00:00:00"
         ],
         "xaxis": "x",
         "y": [
          172.94,
          173.28
         ],
         "yaxis": "y"
        },
        {
         "hoverinfo": "none",
         "line": {
          "color": "green",
          "width": 3
         },
         "mode": "lines",
         "showlegend": false,
         "type": "scatter",
         "x": [
          "2020-08-04T00:00:00",
          "2020-08-05T00:00:00"
         ],
         "xaxis": "x",
         "y": [
          173.28,
          173.38
         ],
         "yaxis": "y"
        },
        {
         "hoverinfo": "none",
         "line": {
          "color": "green",
          "width": 3
         },
         "mode": "lines",
         "showlegend": false,
         "type": "scatter",
         "x": [
          "2020-08-05T00:00:00",
          "2020-08-06T00:00:00"
         ],
         "xaxis": "x",
         "y": [
          173.38,
          173.48
         ],
         "yaxis": "y"
        },
        {
         "hoverinfo": "none",
         "line": {
          "color": "green",
          "width": 3
         },
         "mode": "lines",
         "showlegend": false,
         "type": "scatter",
         "x": [
          "2020-08-06T00:00:00",
          "2020-08-07T00:00:00"
         ],
         "xaxis": "x",
         "y": [
          173.48,
          173.58
         ],
         "yaxis": "y"
        },
        {
         "hoverinfo": "none",
         "line": {
          "color": "green",
          "width": 3
         },
         "mode": "lines",
         "showlegend": false,
         "type": "scatter",
         "x": [
          "2020-08-07T00:00:00",
          "2020-08-08T00:00:00"
         ],
         "xaxis": "x",
         "y": [
          173.58,
          173.79
         ],
         "yaxis": "y"
        },
        {
         "hoverinfo": "none",
         "line": {
          "color": "green",
          "width": 3
         },
         "mode": "lines",
         "showlegend": false,
         "type": "scatter",
         "x": [
          "2020-08-08T00:00:00",
          "2020-08-09T00:00:00"
         ],
         "xaxis": "x",
         "y": [
          173.79,
          174
         ],
         "yaxis": "y"
        },
        {
         "hoverinfo": "none",
         "line": {
          "color": "green",
          "width": 3
         },
         "mode": "lines",
         "showlegend": false,
         "type": "scatter",
         "x": [
          "2020-08-09T00:00:00",
          "2020-08-10T00:00:00"
         ],
         "xaxis": "x",
         "y": [
          174,
          174.11
         ],
         "yaxis": "y"
        },
        {
         "hoverinfo": "none",
         "line": {
          "color": "green",
          "width": 3
         },
         "mode": "lines",
         "showlegend": false,
         "type": "scatter",
         "x": [
          "2020-08-10T00:00:00",
          "2020-08-11T00:00:00"
         ],
         "xaxis": "x",
         "y": [
          174.11,
          174.23
         ],
         "yaxis": "y"
        },
        {
         "hoverinfo": "none",
         "line": {
          "color": "green",
          "width": 3
         },
         "mode": "lines",
         "showlegend": false,
         "type": "scatter",
         "x": [
          "2020-08-11T00:00:00",
          "2020-08-12T00:00:00"
         ],
         "xaxis": "x",
         "y": [
          174.23,
          174.23
         ],
         "yaxis": "y"
        },
        {
         "hoverinfo": "none",
         "line": {
          "color": "red",
          "width": 3
         },
         "mode": "lines",
         "showlegend": false,
         "type": "scatter",
         "x": [
          "2020-08-12T00:00:00",
          "2020-08-13T00:00:00"
         ],
         "xaxis": "x",
         "y": [
          174.23,
          174.22
         ],
         "yaxis": "y"
        },
        {
         "hoverinfo": "none",
         "line": {
          "color": "green",
          "width": 3
         },
         "mode": "lines",
         "showlegend": false,
         "type": "scatter",
         "x": [
          "2020-08-13T00:00:00",
          "2020-08-14T00:00:00"
         ],
         "xaxis": "x",
         "y": [
          174.22,
          174.22
         ],
         "yaxis": "y"
        },
        {
         "hoverinfo": "none",
         "line": {
          "color": "green",
          "width": 3
         },
         "mode": "lines",
         "showlegend": false,
         "type": "scatter",
         "x": [
          "2020-08-14T00:00:00",
          "2020-08-15T00:00:00"
         ],
         "xaxis": "x",
         "y": [
          174.22,
          174.22
         ],
         "yaxis": "y"
        },
        {
         "hoverinfo": "none",
         "line": {
          "color": "green",
          "width": 3
         },
         "mode": "lines",
         "showlegend": false,
         "type": "scatter",
         "x": [
          "2020-08-15T00:00:00",
          "2020-08-16T00:00:00"
         ],
         "xaxis": "x",
         "y": [
          174.22,
          174.22
         ],
         "yaxis": "y"
        },
        {
         "hoverinfo": "none",
         "line": {
          "color": "green",
          "width": 3
         },
         "mode": "lines",
         "showlegend": false,
         "type": "scatter",
         "x": [
          "2020-08-16T00:00:00",
          "2020-08-17T00:00:00"
         ],
         "xaxis": "x",
         "y": [
          174.22,
          174.22
         ],
         "yaxis": "y"
        },
        {
         "hoverinfo": "none",
         "line": {
          "color": "red",
          "width": 3
         },
         "mode": "lines",
         "showlegend": false,
         "type": "scatter",
         "x": [
          "2020-08-17T00:00:00",
          "2020-08-18T00:00:00"
         ],
         "xaxis": "x",
         "y": [
          174.22,
          174.21
         ],
         "yaxis": "y"
        },
        {
         "hoverinfo": "none",
         "line": {
          "color": "red",
          "width": 3
         },
         "mode": "lines",
         "showlegend": false,
         "type": "scatter",
         "x": [
          "2020-08-18T00:00:00",
          "2020-08-19T00:00:00"
         ],
         "xaxis": "x",
         "y": [
          174.21,
          174.19
         ],
         "yaxis": "y"
        },
        {
         "hoverinfo": "none",
         "line": {
          "color": "red",
          "width": 3
         },
         "mode": "lines",
         "showlegend": false,
         "type": "scatter",
         "x": [
          "2020-08-19T00:00:00",
          "2020-08-20T00:00:00"
         ],
         "xaxis": "x",
         "y": [
          174.19,
          174.17
         ],
         "yaxis": "y"
        },
        {
         "hoverinfo": "none",
         "line": {
          "color": "red",
          "width": 3
         },
         "mode": "lines",
         "showlegend": false,
         "type": "scatter",
         "x": [
          "2020-08-20T00:00:00",
          "2020-08-21T00:00:00"
         ],
         "xaxis": "x",
         "y": [
          174.17,
          174.16
         ],
         "yaxis": "y"
        },
        {
         "hoverinfo": "none",
         "line": {
          "color": "green",
          "width": 3
         },
         "mode": "lines",
         "showlegend": false,
         "type": "scatter",
         "x": [
          "2020-08-21T00:00:00",
          "2020-08-22T00:00:00"
         ],
         "xaxis": "x",
         "y": [
          174.16,
          174.26
         ],
         "yaxis": "y"
        },
        {
         "hoverinfo": "none",
         "line": {
          "color": "green",
          "width": 3
         },
         "mode": "lines",
         "showlegend": false,
         "type": "scatter",
         "x": [
          "2020-08-22T00:00:00",
          "2020-08-23T00:00:00"
         ],
         "xaxis": "x",
         "y": [
          174.26,
          174.37
         ],
         "yaxis": "y"
        },
        {
         "hoverinfo": "none",
         "line": {
          "color": "green",
          "width": 3
         },
         "mode": "lines",
         "showlegend": false,
         "type": "scatter",
         "x": [
          "2020-08-23T00:00:00",
          "2020-08-24T00:00:00"
         ],
         "xaxis": "x",
         "y": [
          174.37,
          174.48
         ],
         "yaxis": "y"
        },
        {
         "hoverinfo": "none",
         "line": {
          "color": "green",
          "width": 3
         },
         "mode": "lines",
         "showlegend": false,
         "type": "scatter",
         "x": [
          "2020-08-24T00:00:00",
          "2020-08-25T00:00:00"
         ],
         "xaxis": "x",
         "y": [
          174.48,
          174.59
         ],
         "yaxis": "y"
        },
        {
         "hoverinfo": "none",
         "line": {
          "color": "green",
          "width": 3
         },
         "mode": "lines",
         "showlegend": false,
         "type": "scatter",
         "x": [
          "2020-08-25T00:00:00",
          "2020-08-26T00:00:00"
         ],
         "xaxis": "x",
         "y": [
          174.59,
          174.83
         ],
         "yaxis": "y"
        },
        {
         "hoverinfo": "none",
         "line": {
          "color": "green",
          "width": 3
         },
         "mode": "lines",
         "showlegend": false,
         "type": "scatter",
         "x": [
          "2020-08-26T00:00:00",
          "2020-08-27T00:00:00"
         ],
         "xaxis": "x",
         "y": [
          174.83,
          174.95
         ],
         "yaxis": "y"
        },
        {
         "hoverinfo": "none",
         "line": {
          "color": "green",
          "width": 3
         },
         "mode": "lines",
         "showlegend": false,
         "type": "scatter",
         "x": [
          "2020-08-27T00:00:00",
          "2020-08-28T00:00:00"
         ],
         "xaxis": "x",
         "y": [
          174.95,
          175.2
         ],
         "yaxis": "y"
        },
        {
         "hoverinfo": "none",
         "line": {
          "color": "green",
          "width": 3
         },
         "mode": "lines",
         "showlegend": false,
         "type": "scatter",
         "x": [
          "2020-08-28T00:00:00",
          "2020-08-29T00:00:00"
         ],
         "xaxis": "x",
         "y": [
          175.2,
          175.44
         ],
         "yaxis": "y"
        },
        {
         "hoverinfo": "none",
         "line": {
          "color": "green",
          "width": 3
         },
         "mode": "lines",
         "showlegend": false,
         "type": "scatter",
         "x": [
          "2020-08-29T00:00:00",
          "2020-08-30T00:00:00"
         ],
         "xaxis": "x",
         "y": [
          175.44,
          175.57
         ],
         "yaxis": "y"
        },
        {
         "hoverinfo": "none",
         "line": {
          "color": "green",
          "width": 3
         },
         "mode": "lines",
         "showlegend": false,
         "type": "scatter",
         "x": [
          "2020-08-30T00:00:00",
          "2020-08-31T00:00:00"
         ],
         "xaxis": "x",
         "y": [
          175.57,
          175.7
         ],
         "yaxis": "y"
        },
        {
         "hoverinfo": "none",
         "line": {
          "color": "green",
          "width": 3
         },
         "mode": "lines",
         "showlegend": false,
         "type": "scatter",
         "x": [
          "2020-08-31T00:00:00",
          "2020-09-01T00:00:00"
         ],
         "xaxis": "x",
         "y": [
          175.7,
          175.84
         ],
         "yaxis": "y"
        },
        {
         "hoverinfo": "none",
         "line": {
          "color": "green",
          "width": 3
         },
         "mode": "lines",
         "showlegend": false,
         "type": "scatter",
         "x": [
          "2020-09-01T00:00:00",
          "2020-09-02T00:00:00"
         ],
         "xaxis": "x",
         "y": [
          175.84,
          175.98
         ],
         "yaxis": "y"
        },
        {
         "hoverinfo": "none",
         "line": {
          "color": "green",
          "width": 3
         },
         "mode": "lines",
         "showlegend": false,
         "type": "scatter",
         "x": [
          "2020-09-02T00:00:00",
          "2020-09-03T00:00:00"
         ],
         "xaxis": "x",
         "y": [
          175.98,
          176
         ],
         "yaxis": "y"
        },
        {
         "hoverinfo": "none",
         "line": {
          "color": "green",
          "width": 3
         },
         "mode": "lines",
         "showlegend": false,
         "type": "scatter",
         "x": [
          "2020-09-03T00:00:00",
          "2020-09-04T00:00:00"
         ],
         "xaxis": "x",
         "y": [
          176,
          176.14
         ],
         "yaxis": "y"
        },
        {
         "hoverinfo": "none",
         "line": {
          "color": "green",
          "width": 3
         },
         "mode": "lines",
         "showlegend": false,
         "type": "scatter",
         "x": [
          "2020-09-04T00:00:00",
          "2020-09-05T00:00:00"
         ],
         "xaxis": "x",
         "y": [
          176.14,
          176.17
         ],
         "yaxis": "y"
        },
        {
         "hoverinfo": "none",
         "line": {
          "color": "green",
          "width": 3
         },
         "mode": "lines",
         "showlegend": false,
         "type": "scatter",
         "x": [
          "2020-09-05T00:00:00",
          "2020-09-06T00:00:00"
         ],
         "xaxis": "x",
         "y": [
          176.17,
          176.19
         ],
         "yaxis": "y"
        },
        {
         "hoverinfo": "none",
         "line": {
          "color": "green",
          "width": 3
         },
         "mode": "lines",
         "showlegend": false,
         "type": "scatter",
         "x": [
          "2020-09-06T00:00:00",
          "2020-09-07T00:00:00"
         ],
         "xaxis": "x",
         "y": [
          176.19,
          176.22
         ],
         "yaxis": "y"
        },
        {
         "hoverinfo": "none",
         "line": {
          "color": "green",
          "width": 3
         },
         "mode": "lines",
         "showlegend": false,
         "type": "scatter",
         "x": [
          "2020-09-07T00:00:00",
          "2020-09-08T00:00:00"
         ],
         "xaxis": "x",
         "y": [
          176.22,
          176.24
         ],
         "yaxis": "y"
        },
        {
         "hoverinfo": "none",
         "line": {
          "color": "green",
          "width": 3
         },
         "mode": "lines",
         "showlegend": false,
         "type": "scatter",
         "x": [
          "2020-09-08T00:00:00",
          "2020-09-09T00:00:00"
         ],
         "xaxis": "x",
         "y": [
          176.24,
          176.24
         ],
         "yaxis": "y"
        },
        {
         "hoverinfo": "none",
         "line": {
          "color": "green",
          "width": 3
         },
         "mode": "lines",
         "showlegend": false,
         "type": "scatter",
         "x": [
          "2020-09-09T00:00:00",
          "2020-09-10T00:00:00"
         ],
         "xaxis": "x",
         "y": [
          176.24,
          176.24
         ],
         "yaxis": "y"
        },
        {
         "hoverinfo": "none",
         "line": {
          "color": "red",
          "width": 3
         },
         "mode": "lines",
         "showlegend": false,
         "type": "scatter",
         "x": [
          "2020-09-10T00:00:00",
          "2020-09-11T00:00:00"
         ],
         "xaxis": "x",
         "y": [
          176.24,
          176.23
         ],
         "yaxis": "y"
        },
        {
         "hoverinfo": "none",
         "line": {
          "color": "green",
          "width": 3
         },
         "mode": "lines",
         "showlegend": false,
         "type": "scatter",
         "x": [
          "2020-09-11T00:00:00",
          "2020-09-12T00:00:00"
         ],
         "xaxis": "x",
         "y": [
          176.23,
          176.23
         ],
         "yaxis": "y"
        },
        {
         "hoverinfo": "none",
         "line": {
          "color": "red",
          "width": 3
         },
         "mode": "lines",
         "showlegend": false,
         "type": "scatter",
         "x": [
          "2020-09-12T00:00:00",
          "2020-09-13T00:00:00"
         ],
         "xaxis": "x",
         "y": [
          176.23,
          176.09
         ],
         "yaxis": "y"
        },
        {
         "hoverinfo": "none",
         "line": {
          "color": "red",
          "width": 3
         },
         "mode": "lines",
         "showlegend": false,
         "type": "scatter",
         "x": [
          "2020-09-13T00:00:00",
          "2020-09-14T00:00:00"
         ],
         "xaxis": "x",
         "y": [
          176.09,
          176.06
         ],
         "yaxis": "y"
        },
        {
         "hoverinfo": "none",
         "line": {
          "color": "red",
          "width": 3
         },
         "mode": "lines",
         "showlegend": false,
         "type": "scatter",
         "x": [
          "2020-09-14T00:00:00",
          "2020-09-15T00:00:00"
         ],
         "xaxis": "x",
         "y": [
          176.06,
          176.04
         ],
         "yaxis": "y"
        },
        {
         "hoverinfo": "none",
         "line": {
          "color": "red",
          "width": 3
         },
         "mode": "lines",
         "showlegend": false,
         "type": "scatter",
         "x": [
          "2020-09-15T00:00:00",
          "2020-09-16T00:00:00"
         ],
         "xaxis": "x",
         "y": [
          176.04,
          176.02
         ],
         "yaxis": "y"
        },
        {
         "hoverinfo": "none",
         "line": {
          "color": "green",
          "width": 3
         },
         "mode": "lines",
         "showlegend": false,
         "type": "scatter",
         "x": [
          "2020-09-16T00:00:00",
          "2020-09-17T00:00:00"
         ],
         "xaxis": "x",
         "y": [
          176.02,
          176.02
         ],
         "yaxis": "y"
        },
        {
         "hoverinfo": "none",
         "line": {
          "color": "red",
          "width": 3
         },
         "mode": "lines",
         "showlegend": false,
         "type": "scatter",
         "x": [
          "2020-09-17T00:00:00",
          "2020-09-18T00:00:00"
         ],
         "xaxis": "x",
         "y": [
          176.02,
          176
         ],
         "yaxis": "y"
        },
        {
         "hoverinfo": "none",
         "line": {
          "color": "red",
          "width": 3
         },
         "mode": "lines",
         "showlegend": false,
         "type": "scatter",
         "x": [
          "2020-09-18T00:00:00",
          "2020-09-19T00:00:00"
         ],
         "xaxis": "x",
         "y": [
          176,
          175.99
         ],
         "yaxis": "y"
        },
        {
         "hoverinfo": "none",
         "line": {
          "color": "red",
          "width": 3
         },
         "mode": "lines",
         "showlegend": false,
         "type": "scatter",
         "x": [
          "2020-09-19T00:00:00",
          "2020-09-20T00:00:00"
         ],
         "xaxis": "x",
         "y": [
          175.99,
          175.98
         ],
         "yaxis": "y"
        },
        {
         "hoverinfo": "none",
         "line": {
          "color": "green",
          "width": 3
         },
         "mode": "lines",
         "showlegend": false,
         "type": "scatter",
         "x": [
          "2020-09-20T00:00:00",
          "2020-09-21T00:00:00"
         ],
         "xaxis": "x",
         "y": [
          175.98,
          176.11
         ],
         "yaxis": "y"
        },
        {
         "hoverinfo": "none",
         "line": {
          "color": "green",
          "width": 3
         },
         "mode": "lines",
         "showlegend": false,
         "type": "scatter",
         "x": [
          "2020-09-21T00:00:00",
          "2020-09-22T00:00:00"
         ],
         "xaxis": "x",
         "y": [
          176.11,
          176.12
         ],
         "yaxis": "y"
        },
        {
         "hoverinfo": "none",
         "line": {
          "color": "green",
          "width": 3
         },
         "mode": "lines",
         "showlegend": false,
         "type": "scatter",
         "x": [
          "2020-09-22T00:00:00",
          "2020-09-23T00:00:00"
         ],
         "xaxis": "x",
         "y": [
          176.12,
          176.13
         ],
         "yaxis": "y"
        },
        {
         "hoverinfo": "none",
         "line": {
          "color": "green",
          "width": 3
         },
         "mode": "lines",
         "showlegend": false,
         "type": "scatter",
         "x": [
          "2020-09-23T00:00:00",
          "2020-09-24T00:00:00"
         ],
         "xaxis": "x",
         "y": [
          176.13,
          176.13
         ],
         "yaxis": "y"
        },
        {
         "hoverinfo": "none",
         "line": {
          "color": "red",
          "width": 3
         },
         "mode": "lines",
         "showlegend": false,
         "type": "scatter",
         "x": [
          "2020-09-24T00:00:00",
          "2020-09-25T00:00:00"
         ],
         "xaxis": "x",
         "y": [
          176.13,
          176.11
         ],
         "yaxis": "y"
        },
        {
         "hoverinfo": "none",
         "line": {
          "color": "green",
          "width": 3
         },
         "mode": "lines",
         "showlegend": false,
         "type": "scatter",
         "x": [
          "2020-09-25T00:00:00",
          "2020-09-26T00:00:00"
         ],
         "xaxis": "x",
         "y": [
          176.11,
          176.11
         ],
         "yaxis": "y"
        },
        {
         "hoverinfo": "none",
         "line": {
          "color": "red",
          "width": 3
         },
         "mode": "lines",
         "showlegend": false,
         "type": "scatter",
         "x": [
          "2020-09-26T00:00:00",
          "2020-09-27T00:00:00"
         ],
         "xaxis": "x",
         "y": [
          176.11,
          176.1
         ],
         "yaxis": "y"
        },
        {
         "hoverinfo": "none",
         "line": {
          "color": "green",
          "width": 3
         },
         "mode": "lines",
         "showlegend": false,
         "type": "scatter",
         "x": [
          "2020-09-27T00:00:00",
          "2020-09-28T00:00:00"
         ],
         "xaxis": "x",
         "y": [
          176.1,
          176.1
         ],
         "yaxis": "y"
        },
        {
         "hoverinfo": "none",
         "line": {
          "color": "red",
          "width": 3
         },
         "mode": "lines",
         "showlegend": false,
         "type": "scatter",
         "x": [
          "2020-09-28T00:00:00",
          "2020-09-29T00:00:00"
         ],
         "xaxis": "x",
         "y": [
          176.1,
          176.09
         ],
         "yaxis": "y"
        },
        {
         "hoverinfo": "none",
         "line": {
          "color": "red",
          "width": 3
         },
         "mode": "lines",
         "showlegend": false,
         "type": "scatter",
         "x": [
          "2020-09-29T00:00:00",
          "2020-09-30T00:00:00"
         ],
         "xaxis": "x",
         "y": [
          176.09,
          176.08
         ],
         "yaxis": "y"
        },
        {
         "hoverinfo": "none",
         "line": {
          "color": "green",
          "width": 3
         },
         "mode": "lines",
         "showlegend": false,
         "type": "scatter",
         "x": [
          "2020-09-30T00:00:00",
          "2020-10-01T00:00:00"
         ],
         "xaxis": "x",
         "y": [
          176.08,
          176.09
         ],
         "yaxis": "y"
        },
        {
         "hoverinfo": "none",
         "line": {
          "color": "green",
          "width": 3
         },
         "mode": "lines",
         "showlegend": false,
         "type": "scatter",
         "x": [
          "2020-10-01T00:00:00",
          "2020-10-02T00:00:00"
         ],
         "xaxis": "x",
         "y": [
          176.09,
          176.09
         ],
         "yaxis": "y"
        },
        {
         "hoverinfo": "none",
         "line": {
          "color": "green",
          "width": 3
         },
         "mode": "lines",
         "showlegend": false,
         "type": "scatter",
         "x": [
          "2020-10-02T00:00:00",
          "2020-10-03T00:00:00"
         ],
         "xaxis": "x",
         "y": [
          176.09,
          176.23
         ],
         "yaxis": "y"
        },
        {
         "hoverinfo": "none",
         "line": {
          "color": "green",
          "width": 3
         },
         "mode": "lines",
         "showlegend": false,
         "type": "scatter",
         "x": [
          "2020-10-03T00:00:00",
          "2020-10-04T00:00:00"
         ],
         "xaxis": "x",
         "y": [
          176.23,
          176.36
         ],
         "yaxis": "y"
        },
        {
         "hoverinfo": "none",
         "line": {
          "color": "green",
          "width": 3
         },
         "mode": "lines",
         "showlegend": false,
         "type": "scatter",
         "x": [
          "2020-10-04T00:00:00",
          "2020-10-05T00:00:00"
         ],
         "xaxis": "x",
         "y": [
          176.36,
          176.4
         ],
         "yaxis": "y"
        },
        {
         "hoverinfo": "none",
         "line": {
          "color": "green",
          "width": 3
         },
         "mode": "lines",
         "showlegend": false,
         "type": "scatter",
         "x": [
          "2020-10-05T00:00:00",
          "2020-10-06T00:00:00"
         ],
         "xaxis": "x",
         "y": [
          176.4,
          176.44
         ],
         "yaxis": "y"
        },
        {
         "hoverinfo": "none",
         "line": {
          "color": "green",
          "width": 3
         },
         "mode": "lines",
         "showlegend": false,
         "type": "scatter",
         "x": [
          "2020-10-06T00:00:00",
          "2020-10-07T00:00:00"
         ],
         "xaxis": "x",
         "y": [
          176.44,
          176.47
         ],
         "yaxis": "y"
        },
        {
         "hoverinfo": "none",
         "line": {
          "color": "green",
          "width": 3
         },
         "mode": "lines",
         "showlegend": false,
         "type": "scatter",
         "x": [
          "2020-10-07T00:00:00",
          "2020-10-08T00:00:00"
         ],
         "xaxis": "x",
         "y": [
          176.47,
          176.5
         ],
         "yaxis": "y"
        },
        {
         "hoverinfo": "none",
         "line": {
          "color": "green",
          "width": 3
         },
         "mode": "lines",
         "showlegend": false,
         "type": "scatter",
         "x": [
          "2020-10-08T00:00:00",
          "2020-10-09T00:00:00"
         ],
         "xaxis": "x",
         "y": [
          176.5,
          176.65
         ],
         "yaxis": "y"
        },
        {
         "hoverinfo": "none",
         "line": {
          "color": "green",
          "width": 3
         },
         "mode": "lines",
         "showlegend": false,
         "type": "scatter",
         "x": [
          "2020-10-09T00:00:00",
          "2020-10-10T00:00:00"
         ],
         "xaxis": "x",
         "y": [
          176.65,
          176.81
         ],
         "yaxis": "y"
        },
        {
         "hoverinfo": "none",
         "line": {
          "color": "green",
          "width": 3
         },
         "mode": "lines",
         "showlegend": false,
         "type": "scatter",
         "x": [
          "2020-10-10T00:00:00",
          "2020-10-11T00:00:00"
         ],
         "xaxis": "x",
         "y": [
          176.81,
          176.83
         ],
         "yaxis": "y"
        },
        {
         "hoverinfo": "none",
         "line": {
          "color": "red",
          "width": 3
         },
         "mode": "lines",
         "showlegend": false,
         "type": "scatter",
         "x": [
          "2020-10-11T00:00:00",
          "2020-10-12T00:00:00"
         ],
         "xaxis": "x",
         "y": [
          176.83,
          176.74
         ],
         "yaxis": "y"
        },
        {
         "hoverinfo": "none",
         "line": {
          "color": "green",
          "width": 3
         },
         "mode": "lines",
         "showlegend": false,
         "type": "scatter",
         "x": [
          "2020-10-12T00:00:00",
          "2020-10-13T00:00:00"
         ],
         "xaxis": "x",
         "y": [
          176.74,
          176.87
         ],
         "yaxis": "y"
        },
        {
         "hoverinfo": "none",
         "line": {
          "color": "green",
          "width": 3
         },
         "mode": "lines",
         "showlegend": false,
         "type": "scatter",
         "x": [
          "2020-10-13T00:00:00",
          "2020-10-14T00:00:00"
         ],
         "xaxis": "x",
         "y": [
          176.87,
          176.99
         ],
         "yaxis": "y"
        },
        {
         "hoverinfo": "none",
         "line": {
          "color": "green",
          "width": 3
         },
         "mode": "lines",
         "showlegend": false,
         "type": "scatter",
         "x": [
          "2020-10-14T00:00:00",
          "2020-10-15T00:00:00"
         ],
         "xaxis": "x",
         "y": [
          176.99,
          177.13
         ],
         "yaxis": "y"
        },
        {
         "hoverinfo": "none",
         "line": {
          "color": "green",
          "width": 3
         },
         "mode": "lines",
         "showlegend": false,
         "type": "scatter",
         "x": [
          "2020-10-15T00:00:00",
          "2020-10-16T00:00:00"
         ],
         "xaxis": "x",
         "y": [
          177.13,
          177.27
         ],
         "yaxis": "y"
        },
        {
         "hoverinfo": "none",
         "line": {
          "color": "green",
          "width": 3
         },
         "mode": "lines",
         "showlegend": false,
         "type": "scatter",
         "x": [
          "2020-10-16T00:00:00",
          "2020-10-17T00:00:00"
         ],
         "xaxis": "x",
         "y": [
          177.27,
          177.28
         ],
         "yaxis": "y"
        },
        {
         "hoverinfo": "none",
         "line": {
          "color": "green",
          "width": 3
         },
         "mode": "lines",
         "showlegend": false,
         "type": "scatter",
         "x": [
          "2020-10-17T00:00:00",
          "2020-10-18T00:00:00"
         ],
         "xaxis": "x",
         "y": [
          177.28,
          177.41
         ],
         "yaxis": "y"
        },
        {
         "hoverinfo": "none",
         "line": {
          "color": "green",
          "width": 3
         },
         "mode": "lines",
         "showlegend": false,
         "type": "scatter",
         "x": [
          "2020-10-18T00:00:00",
          "2020-10-19T00:00:00"
         ],
         "xaxis": "x",
         "y": [
          177.41,
          177.54
         ],
         "yaxis": "y"
        },
        {
         "hoverinfo": "none",
         "line": {
          "color": "green",
          "width": 3
         },
         "mode": "lines",
         "showlegend": false,
         "type": "scatter",
         "x": [
          "2020-10-19T00:00:00",
          "2020-10-20T00:00:00"
         ],
         "xaxis": "x",
         "y": [
          177.54,
          177.79
         ],
         "yaxis": "y"
        },
        {
         "hoverinfo": "none",
         "line": {
          "color": "green",
          "width": 3
         },
         "mode": "lines",
         "showlegend": false,
         "type": "scatter",
         "x": [
          "2020-10-20T00:00:00",
          "2020-10-21T00:00:00"
         ],
         "xaxis": "x",
         "y": [
          177.79,
          177.91
         ],
         "yaxis": "y"
        },
        {
         "hoverinfo": "none",
         "line": {
          "color": "green",
          "width": 3
         },
         "mode": "lines",
         "showlegend": false,
         "type": "scatter",
         "x": [
          "2020-10-21T00:00:00",
          "2020-10-22T00:00:00"
         ],
         "xaxis": "x",
         "y": [
          177.91,
          178.03
         ],
         "yaxis": "y"
        },
        {
         "hoverinfo": "none",
         "line": {
          "color": "green",
          "width": 3
         },
         "mode": "lines",
         "showlegend": false,
         "type": "scatter",
         "x": [
          "2020-10-22T00:00:00",
          "2020-10-23T00:00:00"
         ],
         "xaxis": "x",
         "y": [
          178.03,
          178.15
         ],
         "yaxis": "y"
        },
        {
         "hoverinfo": "none",
         "line": {
          "color": "green",
          "width": 3
         },
         "mode": "lines",
         "showlegend": false,
         "type": "scatter",
         "x": [
          "2020-10-23T00:00:00",
          "2020-10-24T00:00:00"
         ],
         "xaxis": "x",
         "y": [
          178.15,
          178.27
         ],
         "yaxis": "y"
        },
        {
         "hoverinfo": "none",
         "line": {
          "color": "green",
          "width": 3
         },
         "mode": "lines",
         "showlegend": false,
         "type": "scatter",
         "x": [
          "2020-10-24T00:00:00",
          "2020-10-25T00:00:00"
         ],
         "xaxis": "x",
         "y": [
          178.27,
          178.39
         ],
         "yaxis": "y"
        },
        {
         "hoverinfo": "none",
         "line": {
          "color": "red",
          "width": 3
         },
         "mode": "lines",
         "showlegend": false,
         "type": "scatter",
         "x": [
          "2020-10-25T00:00:00",
          "2020-10-26T00:00:00"
         ],
         "xaxis": "x",
         "y": [
          178.39,
          178.26
         ],
         "yaxis": "y"
        },
        {
         "hoverinfo": "none",
         "line": {
          "color": "green",
          "width": 3
         },
         "mode": "lines",
         "showlegend": false,
         "type": "scatter",
         "x": [
          "2020-10-26T00:00:00",
          "2020-10-27T00:00:00"
         ],
         "xaxis": "x",
         "y": [
          178.26,
          178.26
         ],
         "yaxis": "y"
        },
        {
         "hoverinfo": "none",
         "line": {
          "color": "green",
          "width": 3
         },
         "mode": "lines",
         "showlegend": false,
         "type": "scatter",
         "x": [
          "2020-10-27T00:00:00",
          "2020-10-28T00:00:00"
         ],
         "xaxis": "x",
         "y": [
          178.26,
          178.26
         ],
         "yaxis": "y"
        },
        {
         "hoverinfo": "none",
         "line": {
          "color": "red",
          "width": 3
         },
         "mode": "lines",
         "showlegend": false,
         "type": "scatter",
         "x": [
          "2020-10-28T00:00:00",
          "2020-10-29T00:00:00"
         ],
         "xaxis": "x",
         "y": [
          178.26,
          178.25
         ],
         "yaxis": "y"
        },
        {
         "hoverinfo": "none",
         "line": {
          "color": "green",
          "width": 3
         },
         "mode": "lines",
         "showlegend": false,
         "type": "scatter",
         "x": [
          "2020-10-29T00:00:00",
          "2020-10-30T00:00:00"
         ],
         "xaxis": "x",
         "y": [
          178.25,
          178.25
         ],
         "yaxis": "y"
        },
        {
         "hoverinfo": "none",
         "line": {
          "color": "red",
          "width": 3
         },
         "mode": "lines",
         "showlegend": false,
         "type": "scatter",
         "x": [
          "2020-10-30T00:00:00",
          "2020-10-31T00:00:00"
         ],
         "xaxis": "x",
         "y": [
          178.25,
          178.24
         ],
         "yaxis": "y"
        },
        {
         "hoverinfo": "none",
         "line": {
          "color": "red",
          "width": 3
         },
         "mode": "lines",
         "showlegend": false,
         "type": "scatter",
         "x": [
          "2020-10-31T00:00:00",
          "2020-11-01T00:00:00"
         ],
         "xaxis": "x",
         "y": [
          178.24,
          178.23
         ],
         "yaxis": "y"
        },
        {
         "hoverinfo": "none",
         "line": {
          "color": "red",
          "width": 3
         },
         "mode": "lines",
         "showlegend": false,
         "type": "scatter",
         "x": [
          "2020-11-01T00:00:00",
          "2020-11-02T00:00:00"
         ],
         "xaxis": "x",
         "y": [
          178.23,
          178.21
         ],
         "yaxis": "y"
        },
        {
         "hoverinfo": "none",
         "line": {
          "color": "green",
          "width": 3
         },
         "mode": "lines",
         "showlegend": false,
         "type": "scatter",
         "x": [
          "2020-11-02T00:00:00",
          "2020-11-03T00:00:00"
         ],
         "xaxis": "x",
         "y": [
          178.21,
          178.33
         ],
         "yaxis": "y"
        },
        {
         "hoverinfo": "none",
         "line": {
          "color": "red",
          "width": 3
         },
         "mode": "lines",
         "showlegend": false,
         "type": "scatter",
         "x": [
          "2020-11-03T00:00:00",
          "2020-11-04T00:00:00"
         ],
         "xaxis": "x",
         "y": [
          178.33,
          178.2
         ],
         "yaxis": "y"
        },
        {
         "hoverinfo": "none",
         "line": {
          "color": "red",
          "width": 3
         },
         "mode": "lines",
         "showlegend": false,
         "type": "scatter",
         "x": [
          "2020-11-04T00:00:00",
          "2020-11-05T00:00:00"
         ],
         "xaxis": "x",
         "y": [
          178.2,
          178.05
         ],
         "yaxis": "y"
        },
        {
         "hoverinfo": "none",
         "line": {
          "color": "red",
          "width": 3
         },
         "mode": "lines",
         "showlegend": false,
         "type": "scatter",
         "x": [
          "2020-11-05T00:00:00",
          "2020-11-06T00:00:00"
         ],
         "xaxis": "x",
         "y": [
          178.05,
          177.9
         ],
         "yaxis": "y"
        },
        {
         "hoverinfo": "none",
         "line": {
          "color": "red",
          "width": 3
         },
         "mode": "lines",
         "showlegend": false,
         "type": "scatter",
         "x": [
          "2020-11-06T00:00:00",
          "2020-11-07T00:00:00"
         ],
         "xaxis": "x",
         "y": [
          177.9,
          177.75
         ],
         "yaxis": "y"
        },
        {
         "hoverinfo": "none",
         "line": {
          "color": "red",
          "width": 3
         },
         "mode": "lines",
         "showlegend": false,
         "type": "scatter",
         "x": [
          "2020-11-07T00:00:00",
          "2020-11-08T00:00:00"
         ],
         "xaxis": "x",
         "y": [
          177.75,
          177.73
         ],
         "yaxis": "y"
        },
        {
         "hoverinfo": "none",
         "line": {
          "color": "red",
          "width": 3
         },
         "mode": "lines",
         "showlegend": false,
         "type": "scatter",
         "x": [
          "2020-11-08T00:00:00",
          "2020-11-09T00:00:00"
         ],
         "xaxis": "x",
         "y": [
          177.73,
          177.7
         ],
         "yaxis": "y"
        },
        {
         "hoverinfo": "none",
         "line": {
          "color": "red",
          "width": 3
         },
         "mode": "lines",
         "showlegend": false,
         "type": "scatter",
         "x": [
          "2020-11-09T00:00:00",
          "2020-11-10T00:00:00"
         ],
         "xaxis": "x",
         "y": [
          177.7,
          177.56
         ],
         "yaxis": "y"
        },
        {
         "hoverinfo": "none",
         "line": {
          "color": "red",
          "width": 3
         },
         "mode": "lines",
         "showlegend": false,
         "type": "scatter",
         "x": [
          "2020-11-10T00:00:00",
          "2020-11-11T00:00:00"
         ],
         "xaxis": "x",
         "y": [
          177.56,
          177.41
         ],
         "yaxis": "y"
        },
        {
         "hoverinfo": "none",
         "line": {
          "color": "red",
          "width": 3
         },
         "mode": "lines",
         "showlegend": false,
         "type": "scatter",
         "x": [
          "2020-11-11T00:00:00",
          "2020-11-12T00:00:00"
         ],
         "xaxis": "x",
         "y": [
          177.41,
          177.37
         ],
         "yaxis": "y"
        },
        {
         "hoverinfo": "none",
         "line": {
          "color": "green",
          "width": 3
         },
         "mode": "lines",
         "showlegend": false,
         "type": "scatter",
         "x": [
          "2020-11-12T00:00:00",
          "2020-11-13T00:00:00"
         ],
         "xaxis": "x",
         "y": [
          177.37,
          177.48
         ],
         "yaxis": "y"
        },
        {
         "hoverinfo": "none",
         "line": {
          "color": "green",
          "width": 3
         },
         "mode": "lines",
         "showlegend": false,
         "type": "scatter",
         "x": [
          "2020-11-13T00:00:00",
          "2020-11-14T00:00:00"
         ],
         "xaxis": "x",
         "y": [
          177.48,
          177.7
         ],
         "yaxis": "y"
        },
        {
         "hoverinfo": "none",
         "line": {
          "color": "green",
          "width": 3
         },
         "mode": "lines",
         "showlegend": false,
         "type": "scatter",
         "x": [
          "2020-11-14T00:00:00",
          "2020-11-15T00:00:00"
         ],
         "xaxis": "x",
         "y": [
          177.7,
          177.93
         ],
         "yaxis": "y"
        },
        {
         "hoverinfo": "none",
         "line": {
          "color": "green",
          "width": 3
         },
         "mode": "lines",
         "showlegend": false,
         "type": "scatter",
         "x": [
          "2020-11-15T00:00:00",
          "2020-11-16T00:00:00"
         ],
         "xaxis": "x",
         "y": [
          177.93,
          178.03
         ],
         "yaxis": "y"
        },
        {
         "hoverinfo": "none",
         "line": {
          "color": "green",
          "width": 3
         },
         "mode": "lines",
         "showlegend": false,
         "type": "scatter",
         "x": [
          "2020-11-16T00:00:00",
          "2020-11-17T00:00:00"
         ],
         "xaxis": "x",
         "y": [
          178.03,
          178.14
         ],
         "yaxis": "y"
        },
        {
         "hoverinfo": "none",
         "line": {
          "color": "green",
          "width": 3
         },
         "mode": "lines",
         "showlegend": false,
         "type": "scatter",
         "x": [
          "2020-11-17T00:00:00",
          "2020-11-18T00:00:00"
         ],
         "xaxis": "x",
         "y": [
          178.14,
          178.36
         ],
         "yaxis": "y"
        },
        {
         "hoverinfo": "none",
         "line": {
          "color": "green",
          "width": 3
         },
         "mode": "lines",
         "showlegend": false,
         "type": "scatter",
         "x": [
          "2020-11-18T00:00:00",
          "2020-11-19T00:00:00"
         ],
         "xaxis": "x",
         "y": [
          178.36,
          178.59
         ],
         "yaxis": "y"
        },
        {
         "hoverinfo": "none",
         "line": {
          "color": "green",
          "width": 3
         },
         "mode": "lines",
         "showlegend": false,
         "type": "scatter",
         "x": [
          "2020-11-19T00:00:00",
          "2020-11-20T00:00:00"
         ],
         "xaxis": "x",
         "y": [
          178.59,
          178.82
         ],
         "yaxis": "y"
        },
        {
         "hoverinfo": "none",
         "line": {
          "color": "green",
          "width": 3
         },
         "mode": "lines",
         "showlegend": false,
         "type": "scatter",
         "x": [
          "2020-11-20T00:00:00",
          "2020-11-21T00:00:00"
         ],
         "xaxis": "x",
         "y": [
          178.82,
          178.94
         ],
         "yaxis": "y"
        },
        {
         "hoverinfo": "none",
         "line": {
          "color": "green",
          "width": 3
         },
         "mode": "lines",
         "showlegend": false,
         "type": "scatter",
         "x": [
          "2020-11-21T00:00:00",
          "2020-11-22T00:00:00"
         ],
         "xaxis": "x",
         "y": [
          178.94,
          178.94
         ],
         "yaxis": "y"
        },
        {
         "hoverinfo": "none",
         "line": {
          "color": "green",
          "width": 3
         },
         "mode": "lines",
         "showlegend": false,
         "type": "scatter",
         "x": [
          "2020-11-22T00:00:00",
          "2020-11-23T00:00:00"
         ],
         "xaxis": "x",
         "y": [
          178.94,
          179.05
         ],
         "yaxis": "y"
        },
        {
         "hoverinfo": "none",
         "line": {
          "color": "green",
          "width": 3
         },
         "mode": "lines",
         "showlegend": false,
         "type": "scatter",
         "x": [
          "2020-11-23T00:00:00",
          "2020-11-24T00:00:00"
         ],
         "xaxis": "x",
         "y": [
          179.05,
          179.05
         ],
         "yaxis": "y"
        },
        {
         "hoverinfo": "none",
         "line": {
          "color": "green",
          "width": 3
         },
         "mode": "lines",
         "showlegend": false,
         "type": "scatter",
         "x": [
          "2020-11-24T00:00:00",
          "2020-11-25T00:00:00"
         ],
         "xaxis": "x",
         "y": [
          179.05,
          179.17
         ],
         "yaxis": "y"
        },
        {
         "hoverinfo": "none",
         "line": {
          "color": "green",
          "width": 3
         },
         "mode": "lines",
         "showlegend": false,
         "type": "scatter",
         "x": [
          "2020-11-25T00:00:00",
          "2020-11-26T00:00:00"
         ],
         "xaxis": "x",
         "y": [
          179.17,
          179.3
         ],
         "yaxis": "y"
        },
        {
         "hoverinfo": "none",
         "line": {
          "color": "green",
          "width": 3
         },
         "mode": "lines",
         "showlegend": false,
         "type": "scatter",
         "x": [
          "2020-11-26T00:00:00",
          "2020-11-27T00:00:00"
         ],
         "xaxis": "x",
         "y": [
          179.3,
          179.43
         ],
         "yaxis": "y"
        },
        {
         "hoverinfo": "none",
         "line": {
          "color": "green",
          "width": 3
         },
         "mode": "lines",
         "showlegend": false,
         "type": "scatter",
         "x": [
          "2020-11-27T00:00:00",
          "2020-11-28T00:00:00"
         ],
         "xaxis": "x",
         "y": [
          179.43,
          179.56
         ],
         "yaxis": "y"
        },
        {
         "hoverinfo": "none",
         "line": {
          "color": "green",
          "width": 3
         },
         "mode": "lines",
         "showlegend": false,
         "type": "scatter",
         "x": [
          "2020-11-28T00:00:00",
          "2020-11-29T00:00:00"
         ],
         "xaxis": "x",
         "y": [
          179.56,
          179.56
         ],
         "yaxis": "y"
        },
        {
         "hoverinfo": "none",
         "line": {
          "color": "green",
          "width": 3
         },
         "mode": "lines",
         "showlegend": false,
         "type": "scatter",
         "x": [
          "2020-11-29T00:00:00",
          "2020-11-30T00:00:00"
         ],
         "xaxis": "x",
         "y": [
          179.56,
          179.57
         ],
         "yaxis": "y"
        },
        {
         "hoverinfo": "none",
         "line": {
          "color": "red",
          "width": 3
         },
         "mode": "lines",
         "showlegend": false,
         "type": "scatter",
         "x": [
          "2020-11-30T00:00:00",
          "2020-12-01T00:00:00"
         ],
         "xaxis": "x",
         "y": [
          179.57,
          179.46
         ],
         "yaxis": "y"
        },
        {
         "hoverinfo": "none",
         "line": {
          "color": "green",
          "width": 3
         },
         "mode": "lines",
         "showlegend": false,
         "type": "scatter",
         "x": [
          "2020-12-01T00:00:00",
          "2020-12-02T00:00:00"
         ],
         "xaxis": "x",
         "y": [
          179.46,
          179.58
         ],
         "yaxis": "y"
        },
        {
         "hoverinfo": "none",
         "line": {
          "color": "red",
          "width": 3
         },
         "mode": "lines",
         "showlegend": false,
         "type": "scatter",
         "x": [
          "2020-12-02T00:00:00",
          "2020-12-03T00:00:00"
         ],
         "xaxis": "x",
         "y": [
          179.58,
          179.48
         ],
         "yaxis": "y"
        },
        {
         "hoverinfo": "none",
         "line": {
          "color": "red",
          "width": 3
         },
         "mode": "lines",
         "showlegend": false,
         "type": "scatter",
         "x": [
          "2020-12-03T00:00:00",
          "2020-12-04T00:00:00"
         ],
         "xaxis": "x",
         "y": [
          179.48,
          179.35
         ],
         "yaxis": "y"
        },
        {
         "hoverinfo": "none",
         "line": {
          "color": "red",
          "width": 3
         },
         "mode": "lines",
         "showlegend": false,
         "type": "scatter",
         "x": [
          "2020-12-04T00:00:00",
          "2020-12-05T00:00:00"
         ],
         "xaxis": "x",
         "y": [
          179.35,
          179.23
         ],
         "yaxis": "y"
        },
        {
         "hoverinfo": "none",
         "line": {
          "color": "green",
          "width": 3
         },
         "mode": "lines",
         "showlegend": false,
         "type": "scatter",
         "x": [
          "2020-12-05T00:00:00",
          "2020-12-06T00:00:00"
         ],
         "xaxis": "x",
         "y": [
          179.23,
          179.24
         ],
         "yaxis": "y"
        },
        {
         "hoverinfo": "none",
         "line": {
          "color": "green",
          "width": 3
         },
         "mode": "lines",
         "showlegend": false,
         "type": "scatter",
         "x": [
          "2020-12-06T00:00:00",
          "2020-12-07T00:00:00"
         ],
         "xaxis": "x",
         "y": [
          179.24,
          179.25
         ],
         "yaxis": "y"
        },
        {
         "hoverinfo": "none",
         "line": {
          "color": "green",
          "width": 3
         },
         "mode": "lines",
         "showlegend": false,
         "type": "scatter",
         "x": [
          "2020-12-07T00:00:00",
          "2020-12-08T00:00:00"
         ],
         "xaxis": "x",
         "y": [
          179.25,
          179.26
         ],
         "yaxis": "y"
        },
        {
         "hoverinfo": "none",
         "line": {
          "color": "green",
          "width": 3
         },
         "mode": "lines",
         "showlegend": false,
         "type": "scatter",
         "x": [
          "2020-12-08T00:00:00",
          "2020-12-09T00:00:00"
         ],
         "xaxis": "x",
         "y": [
          179.26,
          179.26
         ],
         "yaxis": "y"
        },
        {
         "hoverinfo": "none",
         "line": {
          "color": "red",
          "width": 3
         },
         "mode": "lines",
         "showlegend": false,
         "type": "scatter",
         "x": [
          "2020-12-09T00:00:00",
          "2020-12-10T00:00:00"
         ],
         "xaxis": "x",
         "y": [
          179.26,
          179.15
         ],
         "yaxis": "y"
        },
        {
         "hoverinfo": "none",
         "line": {
          "color": "green",
          "width": 3
         },
         "mode": "lines",
         "showlegend": false,
         "type": "scatter",
         "x": [
          "2020-12-10T00:00:00",
          "2020-12-11T00:00:00"
         ],
         "xaxis": "x",
         "y": [
          179.15,
          179.27
         ],
         "yaxis": "y"
        },
        {
         "hoverinfo": "none",
         "line": {
          "color": "green",
          "width": 3
         },
         "mode": "lines",
         "showlegend": false,
         "type": "scatter",
         "x": [
          "2020-12-11T00:00:00",
          "2020-12-12T00:00:00"
         ],
         "xaxis": "x",
         "y": [
          179.27,
          179.4
         ],
         "yaxis": "y"
        },
        {
         "hoverinfo": "none",
         "line": {
          "color": "green",
          "width": 3
         },
         "mode": "lines",
         "showlegend": false,
         "type": "scatter",
         "x": [
          "2020-12-12T00:00:00",
          "2020-12-13T00:00:00"
         ],
         "xaxis": "x",
         "y": [
          179.4,
          179.53
         ],
         "yaxis": "y"
        },
        {
         "hoverinfo": "none",
         "line": {
          "color": "green",
          "width": 3
         },
         "mode": "lines",
         "showlegend": false,
         "type": "scatter",
         "x": [
          "2020-12-13T00:00:00",
          "2020-12-14T00:00:00"
         ],
         "xaxis": "x",
         "y": [
          179.53,
          179.53
         ],
         "yaxis": "y"
        },
        {
         "hoverinfo": "none",
         "line": {
          "color": "green",
          "width": 3
         },
         "mode": "lines",
         "showlegend": false,
         "type": "scatter",
         "x": [
          "2020-12-14T00:00:00",
          "2020-12-15T00:00:00"
         ],
         "xaxis": "x",
         "y": [
          179.53,
          179.64
         ],
         "yaxis": "y"
        },
        {
         "hoverinfo": "none",
         "line": {
          "color": "green",
          "width": 3
         },
         "mode": "lines",
         "showlegend": false,
         "type": "scatter",
         "x": [
          "2020-12-15T00:00:00",
          "2020-12-16T00:00:00"
         ],
         "xaxis": "x",
         "y": [
          179.64,
          179.76
         ],
         "yaxis": "y"
        },
        {
         "hoverinfo": "none",
         "line": {
          "color": "green",
          "width": 3
         },
         "mode": "lines",
         "showlegend": false,
         "type": "scatter",
         "x": [
          "2020-12-16T00:00:00",
          "2020-12-17T00:00:00"
         ],
         "xaxis": "x",
         "y": [
          179.76,
          179.88
         ],
         "yaxis": "y"
        },
        {
         "hoverinfo": "none",
         "line": {
          "color": "green",
          "width": 3
         },
         "mode": "lines",
         "showlegend": false,
         "type": "scatter",
         "x": [
          "2020-12-17T00:00:00",
          "2020-12-18T00:00:00"
         ],
         "xaxis": "x",
         "y": [
          179.88,
          179.88
         ],
         "yaxis": "y"
        },
        {
         "hoverinfo": "none",
         "line": {
          "color": "red",
          "width": 3
         },
         "mode": "lines",
         "showlegend": false,
         "type": "scatter",
         "x": [
          "2020-12-18T00:00:00",
          "2020-12-19T00:00:00"
         ],
         "xaxis": "x",
         "y": [
          179.88,
          179.76
         ],
         "yaxis": "y"
        },
        {
         "hoverinfo": "none",
         "line": {
          "color": "red",
          "width": 3
         },
         "mode": "lines",
         "showlegend": false,
         "type": "scatter",
         "x": [
          "2020-12-19T00:00:00",
          "2020-12-20T00:00:00"
         ],
         "xaxis": "x",
         "y": [
          179.76,
          179.65
         ],
         "yaxis": "y"
        },
        {
         "hoverinfo": "none",
         "line": {
          "color": "red",
          "width": 3
         },
         "mode": "lines",
         "showlegend": false,
         "type": "scatter",
         "x": [
          "2020-12-20T00:00:00",
          "2020-12-21T00:00:00"
         ],
         "xaxis": "x",
         "y": [
          179.65,
          179.54
         ],
         "yaxis": "y"
        },
        {
         "hoverinfo": "none",
         "line": {
          "color": "red",
          "width": 3
         },
         "mode": "lines",
         "showlegend": false,
         "type": "scatter",
         "x": [
          "2020-12-21T00:00:00",
          "2020-12-22T00:00:00"
         ],
         "xaxis": "x",
         "y": [
          179.54,
          179.42
         ],
         "yaxis": "y"
        },
        {
         "hoverinfo": "none",
         "line": {
          "color": "red",
          "width": 3
         },
         "mode": "lines",
         "showlegend": false,
         "type": "scatter",
         "x": [
          "2020-12-22T00:00:00",
          "2020-12-23T00:00:00"
         ],
         "xaxis": "x",
         "y": [
          179.42,
          179.3
         ],
         "yaxis": "y"
        },
        {
         "hoverinfo": "none",
         "line": {
          "color": "red",
          "width": 3
         },
         "mode": "lines",
         "showlegend": false,
         "type": "scatter",
         "x": [
          "2020-12-23T00:00:00",
          "2020-12-24T00:00:00"
         ],
         "xaxis": "x",
         "y": [
          179.3,
          179.16
         ],
         "yaxis": "y"
        },
        {
         "hoverinfo": "none",
         "line": {
          "color": "red",
          "width": 3
         },
         "mode": "lines",
         "showlegend": false,
         "type": "scatter",
         "x": [
          "2020-12-24T00:00:00",
          "2020-12-25T00:00:00"
         ],
         "xaxis": "x",
         "y": [
          179.16,
          179.04
         ],
         "yaxis": "y"
        },
        {
         "hoverinfo": "none",
         "line": {
          "color": "green",
          "width": 3
         },
         "mode": "lines",
         "showlegend": false,
         "type": "scatter",
         "x": [
          "2020-12-25T00:00:00",
          "2020-12-26T00:00:00"
         ],
         "xaxis": "x",
         "y": [
          179.04,
          179.04
         ],
         "yaxis": "y"
        },
        {
         "hoverinfo": "none",
         "line": {
          "color": "green",
          "width": 3
         },
         "mode": "lines",
         "showlegend": false,
         "type": "scatter",
         "x": [
          "2020-12-26T00:00:00",
          "2020-12-27T00:00:00"
         ],
         "xaxis": "x",
         "y": [
          179.04,
          179.04
         ],
         "yaxis": "y"
        },
        {
         "hoverinfo": "none",
         "line": {
          "color": "green",
          "width": 3
         },
         "mode": "lines",
         "showlegend": false,
         "type": "scatter",
         "x": [
          "2020-12-27T00:00:00",
          "2020-12-28T00:00:00"
         ],
         "xaxis": "x",
         "y": [
          179.04,
          179.04
         ],
         "yaxis": "y"
        },
        {
         "hoverinfo": "none",
         "line": {
          "color": "red",
          "width": 3
         },
         "mode": "lines",
         "showlegend": false,
         "type": "scatter",
         "x": [
          "2020-12-28T00:00:00",
          "2020-12-29T00:00:00"
         ],
         "xaxis": "x",
         "y": [
          179.04,
          179.03
         ],
         "yaxis": "y"
        },
        {
         "hoverinfo": "none",
         "line": {
          "color": "green",
          "width": 3
         },
         "mode": "lines",
         "showlegend": false,
         "type": "scatter",
         "x": [
          "2020-12-29T00:00:00",
          "2020-12-30T00:00:00"
         ],
         "xaxis": "x",
         "y": [
          179.03,
          179.15
         ],
         "yaxis": "y"
        },
        {
         "hoverinfo": "none",
         "line": {
          "color": "green",
          "width": 3
         },
         "mode": "lines",
         "showlegend": false,
         "type": "scatter",
         "x": [
          "2020-12-30T00:00:00",
          "2020-12-31T00:00:00"
         ],
         "xaxis": "x",
         "y": [
          179.15,
          179.27
         ],
         "yaxis": "y"
        },
        {
         "hoverinfo": "none",
         "line": {
          "color": "green",
          "width": 3
         },
         "mode": "lines",
         "showlegend": false,
         "type": "scatter",
         "x": [
          "2020-12-31T00:00:00",
          "2021-01-01T00:00:00"
         ],
         "xaxis": "x",
         "y": [
          179.27,
          179.4
         ],
         "yaxis": "y"
        },
        {
         "hoverinfo": "none",
         "line": {
          "color": "green",
          "width": 3
         },
         "mode": "lines",
         "showlegend": false,
         "type": "scatter",
         "x": [
          "2021-01-01T00:00:00",
          "2021-01-02T00:00:00"
         ],
         "xaxis": "x",
         "y": [
          179.4,
          179.5
         ],
         "yaxis": "y"
        },
        {
         "hoverinfo": "none",
         "line": {
          "color": "green",
          "width": 3
         },
         "mode": "lines",
         "showlegend": false,
         "type": "scatter",
         "x": [
          "2021-01-02T00:00:00",
          "2021-01-03T00:00:00"
         ],
         "xaxis": "x",
         "y": [
          179.5,
          179.6
         ],
         "yaxis": "y"
        },
        {
         "hoverinfo": "none",
         "line": {
          "color": "green",
          "width": 3
         },
         "mode": "lines",
         "showlegend": false,
         "type": "scatter",
         "x": [
          "2021-01-03T00:00:00",
          "2021-01-04T00:00:00"
         ],
         "xaxis": "x",
         "y": [
          179.6,
          179.72
         ],
         "yaxis": "y"
        },
        {
         "hoverinfo": "none",
         "line": {
          "color": "green",
          "width": 3
         },
         "mode": "lines",
         "showlegend": false,
         "type": "scatter",
         "x": [
          "2021-01-04T00:00:00",
          "2021-01-05T00:00:00"
         ],
         "xaxis": "x",
         "y": [
          179.72,
          179.82
         ],
         "yaxis": "y"
        },
        {
         "hoverinfo": "none",
         "line": {
          "color": "green",
          "width": 3
         },
         "mode": "lines",
         "showlegend": false,
         "type": "scatter",
         "x": [
          "2021-01-05T00:00:00",
          "2021-01-06T00:00:00"
         ],
         "xaxis": "x",
         "y": [
          179.82,
          179.92
         ],
         "yaxis": "y"
        },
        {
         "hoverinfo": "none",
         "line": {
          "color": "red",
          "width": 3
         },
         "mode": "lines",
         "showlegend": false,
         "type": "scatter",
         "x": [
          "2021-01-06T00:00:00",
          "2021-01-07T00:00:00"
         ],
         "xaxis": "x",
         "y": [
          179.92,
          179.89
         ],
         "yaxis": "y"
        },
        {
         "hoverinfo": "none",
         "line": {
          "color": "red",
          "width": 3
         },
         "mode": "lines",
         "showlegend": false,
         "type": "scatter",
         "x": [
          "2021-01-07T00:00:00",
          "2021-01-08T00:00:00"
         ],
         "xaxis": "x",
         "y": [
          179.89,
          179.86
         ],
         "yaxis": "y"
        },
        {
         "hoverinfo": "none",
         "line": {
          "color": "red",
          "width": 3
         },
         "mode": "lines",
         "showlegend": false,
         "type": "scatter",
         "x": [
          "2021-01-08T00:00:00",
          "2021-01-09T00:00:00"
         ],
         "xaxis": "x",
         "y": [
          179.86,
          179.84
         ],
         "yaxis": "y"
        },
        {
         "hoverinfo": "none",
         "line": {
          "color": "green",
          "width": 3
         },
         "mode": "lines",
         "showlegend": false,
         "type": "scatter",
         "x": [
          "2021-01-09T00:00:00",
          "2021-01-10T00:00:00"
         ],
         "xaxis": "x",
         "y": [
          179.84,
          179.95
         ],
         "yaxis": "y"
        },
        {
         "hoverinfo": "none",
         "line": {
          "color": "green",
          "width": 3
         },
         "mode": "lines",
         "showlegend": false,
         "type": "scatter",
         "x": [
          "2021-01-10T00:00:00",
          "2021-01-11T00:00:00"
         ],
         "xaxis": "x",
         "y": [
          179.95,
          180.06
         ],
         "yaxis": "y"
        },
        {
         "hoverinfo": "none",
         "line": {
          "color": "green",
          "width": 3
         },
         "mode": "lines",
         "showlegend": false,
         "type": "scatter",
         "x": [
          "2021-01-11T00:00:00",
          "2021-01-12T00:00:00"
         ],
         "xaxis": "x",
         "y": [
          180.06,
          180.15
         ],
         "yaxis": "y"
        },
        {
         "hoverinfo": "none",
         "line": {
          "color": "green",
          "width": 3
         },
         "mode": "lines",
         "showlegend": false,
         "type": "scatter",
         "x": [
          "2021-01-12T00:00:00",
          "2021-01-13T00:00:00"
         ],
         "xaxis": "x",
         "y": [
          180.15,
          180.26
         ],
         "yaxis": "y"
        },
        {
         "hoverinfo": "none",
         "line": {
          "color": "green",
          "width": 3
         },
         "mode": "lines",
         "showlegend": false,
         "type": "scatter",
         "x": [
          "2021-01-13T00:00:00",
          "2021-01-14T00:00:00"
         ],
         "xaxis": "x",
         "y": [
          180.26,
          180.26
         ],
         "yaxis": "y"
        },
        {
         "hoverinfo": "none",
         "line": {
          "color": "green",
          "width": 3
         },
         "mode": "lines",
         "showlegend": false,
         "type": "scatter",
         "x": [
          "2021-01-14T00:00:00",
          "2021-01-15T00:00:00"
         ],
         "xaxis": "x",
         "y": [
          180.26,
          180.27
         ],
         "yaxis": "y"
        },
        {
         "hoverinfo": "none",
         "line": {
          "color": "red",
          "width": 3
         },
         "mode": "lines",
         "showlegend": false,
         "type": "scatter",
         "x": [
          "2021-01-15T00:00:00",
          "2021-01-16T00:00:00"
         ],
         "xaxis": "x",
         "y": [
          180.27,
          180.17
         ],
         "yaxis": "y"
        },
        {
         "hoverinfo": "none",
         "line": {
          "color": "red",
          "width": 3
         },
         "mode": "lines",
         "showlegend": false,
         "type": "scatter",
         "x": [
          "2021-01-16T00:00:00",
          "2021-01-17T00:00:00"
         ],
         "xaxis": "x",
         "y": [
          180.17,
          180.06
         ],
         "yaxis": "y"
        },
        {
         "hoverinfo": "none",
         "line": {
          "color": "red",
          "width": 3
         },
         "mode": "lines",
         "showlegend": false,
         "type": "scatter",
         "x": [
          "2021-01-17T00:00:00",
          "2021-01-18T00:00:00"
         ],
         "xaxis": "x",
         "y": [
          180.06,
          179.84
         ],
         "yaxis": "y"
        },
        {
         "hoverinfo": "none",
         "line": {
          "color": "red",
          "width": 3
         },
         "mode": "lines",
         "showlegend": false,
         "type": "scatter",
         "x": [
          "2021-01-18T00:00:00",
          "2021-01-19T00:00:00"
         ],
         "xaxis": "x",
         "y": [
          179.84,
          179.62
         ],
         "yaxis": "y"
        },
        {
         "hoverinfo": "none",
         "line": {
          "color": "red",
          "width": 3
         },
         "mode": "lines",
         "showlegend": false,
         "type": "scatter",
         "x": [
          "2021-01-19T00:00:00",
          "2021-01-20T00:00:00"
         ],
         "xaxis": "x",
         "y": [
          179.62,
          179.4
         ],
         "yaxis": "y"
        },
        {
         "hoverinfo": "none",
         "line": {
          "color": "red",
          "width": 3
         },
         "mode": "lines",
         "showlegend": false,
         "type": "scatter",
         "x": [
          "2021-01-20T00:00:00",
          "2021-01-21T00:00:00"
         ],
         "xaxis": "x",
         "y": [
          179.4,
          179.17
         ],
         "yaxis": "y"
        },
        {
         "hoverinfo": "none",
         "line": {
          "color": "red",
          "width": 3
         },
         "mode": "lines",
         "showlegend": false,
         "type": "scatter",
         "x": [
          "2021-01-21T00:00:00",
          "2021-01-22T00:00:00"
         ],
         "xaxis": "x",
         "y": [
          179.17,
          179.06
         ],
         "yaxis": "y"
        },
        {
         "hoverinfo": "none",
         "line": {
          "color": "red",
          "width": 3
         },
         "mode": "lines",
         "showlegend": false,
         "type": "scatter",
         "x": [
          "2021-01-22T00:00:00",
          "2021-01-23T00:00:00"
         ],
         "xaxis": "x",
         "y": [
          179.06,
          178.95
         ],
         "yaxis": "y"
        },
        {
         "hoverinfo": "none",
         "line": {
          "color": "red",
          "width": 3
         },
         "mode": "lines",
         "showlegend": false,
         "type": "scatter",
         "x": [
          "2021-01-23T00:00:00",
          "2021-01-24T00:00:00"
         ],
         "xaxis": "x",
         "y": [
          178.95,
          178.84
         ],
         "yaxis": "y"
        },
        {
         "hoverinfo": "none",
         "line": {
          "color": "red",
          "width": 3
         },
         "mode": "lines",
         "showlegend": false,
         "type": "scatter",
         "x": [
          "2021-01-24T00:00:00",
          "2021-01-25T00:00:00"
         ],
         "xaxis": "x",
         "y": [
          178.84,
          178.73
         ],
         "yaxis": "y"
        },
        {
         "hoverinfo": "none",
         "line": {
          "color": "red",
          "width": 3
         },
         "mode": "lines",
         "showlegend": false,
         "type": "scatter",
         "x": [
          "2021-01-25T00:00:00",
          "2021-01-26T00:00:00"
         ],
         "xaxis": "x",
         "y": [
          178.73,
          178.62
         ],
         "yaxis": "y"
        },
        {
         "hoverinfo": "none",
         "line": {
          "color": "red",
          "width": 3
         },
         "mode": "lines",
         "showlegend": false,
         "type": "scatter",
         "x": [
          "2021-01-26T00:00:00",
          "2021-01-27T00:00:00"
         ],
         "xaxis": "x",
         "y": [
          178.62,
          178.52
         ],
         "yaxis": "y"
        },
        {
         "hoverinfo": "none",
         "line": {
          "color": "red",
          "width": 3
         },
         "mode": "lines",
         "showlegend": false,
         "type": "scatter",
         "x": [
          "2021-01-27T00:00:00",
          "2021-01-28T00:00:00"
         ],
         "xaxis": "x",
         "y": [
          178.52,
          178.47
         ],
         "yaxis": "y"
        },
        {
         "hoverinfo": "none",
         "line": {
          "color": "green",
          "width": 3
         },
         "mode": "lines",
         "showlegend": false,
         "type": "scatter",
         "x": [
          "2021-01-28T00:00:00",
          "2021-01-29T00:00:00"
         ],
         "xaxis": "x",
         "y": [
          178.47,
          178.48
         ],
         "yaxis": "y"
        },
        {
         "hoverinfo": "none",
         "line": {
          "color": "green",
          "width": 3
         },
         "mode": "lines",
         "showlegend": false,
         "type": "scatter",
         "x": [
          "2021-01-29T00:00:00",
          "2021-01-30T00:00:00"
         ],
         "xaxis": "x",
         "y": [
          178.48,
          178.5
         ],
         "yaxis": "y"
        },
        {
         "hoverinfo": "none",
         "line": {
          "color": "green",
          "width": 3
         },
         "mode": "lines",
         "showlegend": false,
         "type": "scatter",
         "x": [
          "2021-01-30T00:00:00",
          "2021-01-31T00:00:00"
         ],
         "xaxis": "x",
         "y": [
          178.5,
          178.51
         ],
         "yaxis": "y"
        },
        {
         "hoverinfo": "none",
         "line": {
          "color": "green",
          "width": 3
         },
         "mode": "lines",
         "showlegend": false,
         "type": "scatter",
         "x": [
          "2021-01-31T00:00:00",
          "2021-02-01T00:00:00"
         ],
         "xaxis": "x",
         "y": [
          178.51,
          178.65
         ],
         "yaxis": "y"
        },
        {
         "hoverinfo": "none",
         "line": {
          "color": "green",
          "width": 3
         },
         "mode": "lines",
         "showlegend": false,
         "type": "scatter",
         "x": [
          "2021-02-01T00:00:00",
          "2021-02-02T00:00:00"
         ],
         "xaxis": "x",
         "y": [
          178.65,
          178.79
         ],
         "yaxis": "y"
        },
        {
         "hoverinfo": "none",
         "line": {
          "color": "green",
          "width": 3
         },
         "mode": "lines",
         "showlegend": false,
         "type": "scatter",
         "x": [
          "2021-02-02T00:00:00",
          "2021-02-03T00:00:00"
         ],
         "xaxis": "x",
         "y": [
          178.79,
          178.92
         ],
         "yaxis": "y"
        },
        {
         "hoverinfo": "none",
         "line": {
          "color": "green",
          "width": 3
         },
         "mode": "lines",
         "showlegend": false,
         "type": "scatter",
         "x": [
          "2021-02-03T00:00:00",
          "2021-02-04T00:00:00"
         ],
         "xaxis": "x",
         "y": [
          178.92,
          179.17
         ],
         "yaxis": "y"
        },
        {
         "hoverinfo": "none",
         "line": {
          "color": "green",
          "width": 3
         },
         "mode": "lines",
         "showlegend": false,
         "type": "scatter",
         "x": [
          "2021-02-04T00:00:00",
          "2021-02-05T00:00:00"
         ],
         "xaxis": "x",
         "y": [
          179.17,
          179.24
         ],
         "yaxis": "y"
        },
        {
         "hoverinfo": "none",
         "line": {
          "color": "green",
          "width": 3
         },
         "mode": "lines",
         "showlegend": false,
         "type": "scatter",
         "x": [
          "2021-02-05T00:00:00",
          "2021-02-06T00:00:00"
         ],
         "xaxis": "x",
         "y": [
          179.24,
          179.38
         ],
         "yaxis": "y"
        },
        {
         "hoverinfo": "none",
         "line": {
          "color": "green",
          "width": 3
         },
         "mode": "lines",
         "showlegend": false,
         "type": "scatter",
         "x": [
          "2021-02-06T00:00:00",
          "2021-02-07T00:00:00"
         ],
         "xaxis": "x",
         "y": [
          179.38,
          179.52
         ],
         "yaxis": "y"
        },
        {
         "hoverinfo": "none",
         "line": {
          "color": "green",
          "width": 3
         },
         "mode": "lines",
         "showlegend": false,
         "type": "scatter",
         "x": [
          "2021-02-07T00:00:00",
          "2021-02-08T00:00:00"
         ],
         "xaxis": "x",
         "y": [
          179.52,
          179.67
         ],
         "yaxis": "y"
        },
        {
         "hoverinfo": "none",
         "line": {
          "color": "green",
          "width": 3
         },
         "mode": "lines",
         "showlegend": false,
         "type": "scatter",
         "x": [
          "2021-02-08T00:00:00",
          "2021-02-09T00:00:00"
         ],
         "xaxis": "x",
         "y": [
          179.67,
          179.82
         ],
         "yaxis": "y"
        },
        {
         "hoverinfo": "none",
         "line": {
          "color": "green",
          "width": 3
         },
         "mode": "lines",
         "showlegend": false,
         "type": "scatter",
         "x": [
          "2021-02-09T00:00:00",
          "2021-02-10T00:00:00"
         ],
         "xaxis": "x",
         "y": [
          179.82,
          179.85
         ],
         "yaxis": "y"
        },
        {
         "hoverinfo": "none",
         "line": {
          "color": "green",
          "width": 3
         },
         "mode": "lines",
         "showlegend": false,
         "type": "scatter",
         "x": [
          "2021-02-10T00:00:00",
          "2021-02-11T00:00:00"
         ],
         "xaxis": "x",
         "y": [
          179.85,
          179.89
         ],
         "yaxis": "y"
        },
        {
         "hoverinfo": "none",
         "line": {
          "color": "red",
          "width": 3
         },
         "mode": "lines",
         "showlegend": false,
         "type": "scatter",
         "x": [
          "2021-02-11T00:00:00",
          "2021-02-12T00:00:00"
         ],
         "xaxis": "x",
         "y": [
          179.89,
          179.82
         ],
         "yaxis": "y"
        },
        {
         "hoverinfo": "none",
         "line": {
          "color": "green",
          "width": 3
         },
         "mode": "lines",
         "showlegend": false,
         "type": "scatter",
         "x": [
          "2021-02-12T00:00:00",
          "2021-02-13T00:00:00"
         ],
         "xaxis": "x",
         "y": [
          179.82,
          179.86
         ],
         "yaxis": "y"
        },
        {
         "hoverinfo": "none",
         "line": {
          "color": "green",
          "width": 3
         },
         "mode": "lines",
         "showlegend": false,
         "type": "scatter",
         "x": [
          "2021-02-13T00:00:00",
          "2021-02-14T00:00:00"
         ],
         "xaxis": "x",
         "y": [
          179.86,
          179.9
         ],
         "yaxis": "y"
        },
        {
         "hoverinfo": "none",
         "line": {
          "color": "green",
          "width": 3
         },
         "mode": "lines",
         "showlegend": false,
         "type": "scatter",
         "x": [
          "2021-02-14T00:00:00",
          "2021-02-15T00:00:00"
         ],
         "xaxis": "x",
         "y": [
          179.9,
          179.93
         ],
         "yaxis": "y"
        },
        {
         "hoverinfo": "none",
         "line": {
          "color": "green",
          "width": 3
         },
         "mode": "lines",
         "showlegend": false,
         "type": "scatter",
         "x": [
          "2021-02-15T00:00:00",
          "2021-02-16T00:00:00"
         ],
         "xaxis": "x",
         "y": [
          179.93,
          179.97
         ],
         "yaxis": "y"
        },
        {
         "hoverinfo": "none",
         "line": {
          "color": "green",
          "width": 3
         },
         "mode": "lines",
         "showlegend": false,
         "type": "scatter",
         "x": [
          "2021-02-16T00:00:00",
          "2021-02-17T00:00:00"
         ],
         "xaxis": "x",
         "y": [
          179.97,
          179.99
         ],
         "yaxis": "y"
        },
        {
         "hoverinfo": "none",
         "line": {
          "color": "green",
          "width": 3
         },
         "mode": "lines",
         "showlegend": false,
         "type": "scatter",
         "x": [
          "2021-02-17T00:00:00",
          "2021-02-18T00:00:00"
         ],
         "xaxis": "x",
         "y": [
          179.99,
          180.12
         ],
         "yaxis": "y"
        },
        {
         "hoverinfo": "none",
         "line": {
          "color": "green",
          "width": 3
         },
         "mode": "lines",
         "showlegend": false,
         "type": "scatter",
         "x": [
          "2021-02-18T00:00:00",
          "2021-02-19T00:00:00"
         ],
         "xaxis": "x",
         "y": [
          180.12,
          180.25
         ],
         "yaxis": "y"
        },
        {
         "hoverinfo": "none",
         "line": {
          "color": "green",
          "width": 3
         },
         "mode": "lines",
         "showlegend": false,
         "type": "scatter",
         "x": [
          "2021-02-19T00:00:00",
          "2021-02-20T00:00:00"
         ],
         "xaxis": "x",
         "y": [
          180.25,
          180.49
         ],
         "yaxis": "y"
        },
        {
         "hoverinfo": "none",
         "line": {
          "color": "green",
          "width": 3
         },
         "mode": "lines",
         "showlegend": false,
         "type": "scatter",
         "x": [
          "2021-02-20T00:00:00",
          "2021-02-21T00:00:00"
         ],
         "xaxis": "x",
         "y": [
          180.49,
          180.73
         ],
         "yaxis": "y"
        },
        {
         "hoverinfo": "none",
         "line": {
          "color": "green",
          "width": 3
         },
         "mode": "lines",
         "showlegend": false,
         "type": "scatter",
         "x": [
          "2021-02-21T00:00:00",
          "2021-02-22T00:00:00"
         ],
         "xaxis": "x",
         "y": [
          180.73,
          180.83
         ],
         "yaxis": "y"
        },
        {
         "hoverinfo": "none",
         "line": {
          "color": "green",
          "width": 3
         },
         "mode": "lines",
         "showlegend": false,
         "type": "scatter",
         "x": [
          "2021-02-22T00:00:00",
          "2021-02-23T00:00:00"
         ],
         "xaxis": "x",
         "y": [
          180.83,
          180.94
         ],
         "yaxis": "y"
        },
        {
         "hoverinfo": "none",
         "line": {
          "color": "green",
          "width": 3
         },
         "mode": "lines",
         "showlegend": false,
         "type": "scatter",
         "x": [
          "2021-02-23T00:00:00",
          "2021-02-24T00:00:00"
         ],
         "xaxis": "x",
         "y": [
          180.94,
          181.05
         ],
         "yaxis": "y"
        },
        {
         "hoverinfo": "none",
         "line": {
          "color": "green",
          "width": 3
         },
         "mode": "lines",
         "showlegend": false,
         "type": "scatter",
         "x": [
          "2021-02-24T00:00:00",
          "2021-02-25T00:00:00"
         ],
         "xaxis": "x",
         "y": [
          181.05,
          181.16
         ],
         "yaxis": "y"
        },
        {
         "hoverinfo": "none",
         "line": {
          "color": "green",
          "width": 3
         },
         "mode": "lines",
         "showlegend": false,
         "type": "scatter",
         "x": [
          "2021-02-25T00:00:00",
          "2021-02-26T00:00:00"
         ],
         "xaxis": "x",
         "y": [
          181.16,
          181.25
         ],
         "yaxis": "y"
        },
        {
         "hoverinfo": "none",
         "line": {
          "color": "green",
          "width": 3
         },
         "mode": "lines",
         "showlegend": false,
         "type": "scatter",
         "x": [
          "2021-02-26T00:00:00",
          "2021-02-27T00:00:00"
         ],
         "xaxis": "x",
         "y": [
          181.25,
          181.35
         ],
         "yaxis": "y"
        },
        {
         "hoverinfo": "none",
         "line": {
          "color": "red",
          "width": 3
         },
         "mode": "lines",
         "showlegend": false,
         "type": "scatter",
         "x": [
          "2021-02-27T00:00:00",
          "2021-02-28T00:00:00"
         ],
         "xaxis": "x",
         "y": [
          181.35,
          181.33
         ],
         "yaxis": "y"
        },
        {
         "hoverinfo": "none",
         "line": {
          "color": "red",
          "width": 3
         },
         "mode": "lines",
         "showlegend": false,
         "type": "scatter",
         "x": [
          "2021-02-28T00:00:00",
          "2021-03-01T00:00:00"
         ],
         "xaxis": "x",
         "y": [
          181.33,
          181.32
         ],
         "yaxis": "y"
        },
        {
         "hoverinfo": "none",
         "line": {
          "color": "red",
          "width": 3
         },
         "mode": "lines",
         "showlegend": false,
         "type": "scatter",
         "x": [
          "2021-03-01T00:00:00",
          "2021-03-02T00:00:00"
         ],
         "xaxis": "x",
         "y": [
          181.32,
          181.3
         ],
         "yaxis": "y"
        },
        {
         "hoverinfo": "none",
         "line": {
          "color": "red",
          "width": 3
         },
         "mode": "lines",
         "showlegend": false,
         "type": "scatter",
         "x": [
          "2021-03-02T00:00:00",
          "2021-03-03T00:00:00"
         ],
         "xaxis": "x",
         "y": [
          181.3,
          181.28
         ],
         "yaxis": "y"
        },
        {
         "hoverinfo": "none",
         "line": {
          "color": "red",
          "width": 3
         },
         "mode": "lines",
         "showlegend": false,
         "type": "scatter",
         "x": [
          "2021-03-03T00:00:00",
          "2021-03-04T00:00:00"
         ],
         "xaxis": "x",
         "y": [
          181.28,
          181.26
         ],
         "yaxis": "y"
        },
        {
         "hoverinfo": "none",
         "line": {
          "color": "red",
          "width": 3
         },
         "mode": "lines",
         "showlegend": false,
         "type": "scatter",
         "x": [
          "2021-03-04T00:00:00",
          "2021-03-05T00:00:00"
         ],
         "xaxis": "x",
         "y": [
          181.26,
          181.23
         ],
         "yaxis": "y"
        },
        {
         "hoverinfo": "none",
         "line": {
          "color": "green",
          "width": 3
         },
         "mode": "lines",
         "showlegend": false,
         "type": "scatter",
         "x": [
          "2021-03-05T00:00:00",
          "2021-03-06T00:00:00"
         ],
         "xaxis": "x",
         "y": [
          181.23,
          181.24
         ],
         "yaxis": "y"
        },
        {
         "hoverinfo": "none",
         "line": {
          "color": "green",
          "width": 3
         },
         "mode": "lines",
         "showlegend": false,
         "type": "scatter",
         "x": [
          "2021-03-06T00:00:00",
          "2021-03-07T00:00:00"
         ],
         "xaxis": "x",
         "y": [
          181.24,
          181.36
         ],
         "yaxis": "y"
        },
        {
         "hoverinfo": "none",
         "line": {
          "color": "green",
          "width": 3
         },
         "mode": "lines",
         "showlegend": false,
         "type": "scatter",
         "x": [
          "2021-03-07T00:00:00",
          "2021-03-08T00:00:00"
         ],
         "xaxis": "x",
         "y": [
          181.36,
          181.49
         ],
         "yaxis": "y"
        },
        {
         "hoverinfo": "none",
         "line": {
          "color": "green",
          "width": 3
         },
         "mode": "lines",
         "showlegend": false,
         "type": "scatter",
         "x": [
          "2021-03-08T00:00:00",
          "2021-03-09T00:00:00"
         ],
         "xaxis": "x",
         "y": [
          181.49,
          181.6
         ],
         "yaxis": "y"
        },
        {
         "hoverinfo": "none",
         "line": {
          "color": "green",
          "width": 3
         },
         "mode": "lines",
         "showlegend": false,
         "type": "scatter",
         "x": [
          "2021-03-09T00:00:00",
          "2021-03-10T00:00:00"
         ],
         "xaxis": "x",
         "y": [
          181.6,
          181.73
         ],
         "yaxis": "y"
        },
        {
         "hoverinfo": "none",
         "line": {
          "color": "green",
          "width": 3
         },
         "mode": "lines",
         "showlegend": false,
         "type": "scatter",
         "x": [
          "2021-03-10T00:00:00",
          "2021-03-11T00:00:00"
         ],
         "xaxis": "x",
         "y": [
          181.73,
          181.86
         ],
         "yaxis": "y"
        },
        {
         "hoverinfo": "none",
         "line": {
          "color": "green",
          "width": 3
         },
         "mode": "lines",
         "showlegend": false,
         "type": "scatter",
         "x": [
          "2021-03-11T00:00:00",
          "2021-03-12T00:00:00"
         ],
         "xaxis": "x",
         "y": [
          181.86,
          182.11
         ],
         "yaxis": "y"
        },
        {
         "hoverinfo": "none",
         "line": {
          "color": "green",
          "width": 3
         },
         "mode": "lines",
         "showlegend": false,
         "type": "scatter",
         "x": [
          "2021-03-12T00:00:00",
          "2021-03-13T00:00:00"
         ],
         "xaxis": "x",
         "y": [
          182.11,
          182.36
         ],
         "yaxis": "y"
        },
        {
         "hoverinfo": "none",
         "line": {
          "color": "green",
          "width": 3
         },
         "mode": "lines",
         "showlegend": false,
         "type": "scatter",
         "x": [
          "2021-03-13T00:00:00",
          "2021-03-14T00:00:00"
         ],
         "xaxis": "x",
         "y": [
          182.36,
          182.6
         ],
         "yaxis": "y"
        },
        {
         "hoverinfo": "none",
         "line": {
          "color": "green",
          "width": 3
         },
         "mode": "lines",
         "showlegend": false,
         "type": "scatter",
         "x": [
          "2021-03-14T00:00:00",
          "2021-03-15T00:00:00"
         ],
         "xaxis": "x",
         "y": [
          182.6,
          182.72
         ],
         "yaxis": "y"
        },
        {
         "hoverinfo": "none",
         "line": {
          "color": "green",
          "width": 3
         },
         "mode": "lines",
         "showlegend": false,
         "type": "scatter",
         "x": [
          "2021-03-15T00:00:00",
          "2021-03-16T00:00:00"
         ],
         "xaxis": "x",
         "y": [
          182.72,
          182.86
         ],
         "yaxis": "y"
        },
        {
         "hoverinfo": "none",
         "line": {
          "color": "green",
          "width": 3
         },
         "mode": "lines",
         "showlegend": false,
         "type": "scatter",
         "x": [
          "2021-03-16T00:00:00",
          "2021-03-17T00:00:00"
         ],
         "xaxis": "x",
         "y": [
          182.86,
          183
         ],
         "yaxis": "y"
        },
        {
         "hoverinfo": "none",
         "line": {
          "color": "green",
          "width": 3
         },
         "mode": "lines",
         "showlegend": false,
         "type": "scatter",
         "x": [
          "2021-03-17T00:00:00",
          "2021-03-18T00:00:00"
         ],
         "xaxis": "x",
         "y": [
          183,
          183.13
         ],
         "yaxis": "y"
        },
        {
         "hoverinfo": "none",
         "line": {
          "color": "green",
          "width": 3
         },
         "mode": "lines",
         "showlegend": false,
         "type": "scatter",
         "x": [
          "2021-03-18T00:00:00",
          "2021-03-19T00:00:00"
         ],
         "xaxis": "x",
         "y": [
          183.13,
          183.38
         ],
         "yaxis": "y"
        },
        {
         "hoverinfo": "none",
         "line": {
          "color": "green",
          "width": 3
         },
         "mode": "lines",
         "showlegend": false,
         "type": "scatter",
         "x": [
          "2021-03-19T00:00:00",
          "2021-03-20T00:00:00"
         ],
         "xaxis": "x",
         "y": [
          183.38,
          183.52
         ],
         "yaxis": "y"
        },
        {
         "hoverinfo": "none",
         "line": {
          "color": "green",
          "width": 3
         },
         "mode": "lines",
         "showlegend": false,
         "type": "scatter",
         "x": [
          "2021-03-20T00:00:00",
          "2021-03-21T00:00:00"
         ],
         "xaxis": "x",
         "y": [
          183.52,
          183.63
         ],
         "yaxis": "y"
        },
        {
         "hoverinfo": "none",
         "line": {
          "color": "green",
          "width": 3
         },
         "mode": "lines",
         "showlegend": false,
         "type": "scatter",
         "x": [
          "2021-03-21T00:00:00",
          "2021-03-22T00:00:00"
         ],
         "xaxis": "x",
         "y": [
          183.63,
          183.77
         ],
         "yaxis": "y"
        },
        {
         "hoverinfo": "none",
         "line": {
          "color": "green",
          "width": 3
         },
         "mode": "lines",
         "showlegend": false,
         "type": "scatter",
         "x": [
          "2021-03-22T00:00:00",
          "2021-03-23T00:00:00"
         ],
         "xaxis": "x",
         "y": [
          183.77,
          183.9
         ],
         "yaxis": "y"
        },
        {
         "hoverinfo": "none",
         "line": {
          "color": "green",
          "width": 3
         },
         "mode": "lines",
         "showlegend": false,
         "type": "scatter",
         "x": [
          "2021-03-23T00:00:00",
          "2021-03-24T00:00:00"
         ],
         "xaxis": "x",
         "y": [
          183.9,
          184.02
         ],
         "yaxis": "y"
        },
        {
         "hoverinfo": "none",
         "line": {
          "color": "green",
          "width": 3
         },
         "mode": "lines",
         "showlegend": false,
         "type": "scatter",
         "x": [
          "2021-03-24T00:00:00",
          "2021-03-25T00:00:00"
         ],
         "xaxis": "x",
         "y": [
          184.02,
          184.15
         ],
         "yaxis": "y"
        },
        {
         "hoverinfo": "none",
         "line": {
          "color": "green",
          "width": 3
         },
         "mode": "lines",
         "showlegend": false,
         "type": "scatter",
         "x": [
          "2021-03-25T00:00:00",
          "2021-03-26T00:00:00"
         ],
         "xaxis": "x",
         "y": [
          184.15,
          184.41
         ],
         "yaxis": "y"
        },
        {
         "hoverinfo": "none",
         "line": {
          "color": "green",
          "width": 3
         },
         "mode": "lines",
         "showlegend": false,
         "type": "scatter",
         "x": [
          "2021-03-26T00:00:00",
          "2021-03-27T00:00:00"
         ],
         "xaxis": "x",
         "y": [
          184.41,
          184.53
         ],
         "yaxis": "y"
        },
        {
         "hoverinfo": "none",
         "line": {
          "color": "green",
          "width": 3
         },
         "mode": "lines",
         "showlegend": false,
         "type": "scatter",
         "x": [
          "2021-03-27T00:00:00",
          "2021-03-28T00:00:00"
         ],
         "xaxis": "x",
         "y": [
          184.53,
          184.67
         ],
         "yaxis": "y"
        },
        {
         "hoverinfo": "none",
         "line": {
          "color": "green",
          "width": 3
         },
         "mode": "lines",
         "showlegend": false,
         "type": "scatter",
         "x": [
          "2021-03-28T00:00:00",
          "2021-03-29T00:00:00"
         ],
         "xaxis": "x",
         "y": [
          184.67,
          184.89
         ],
         "yaxis": "y"
        },
        {
         "hoverinfo": "none",
         "line": {
          "color": "green",
          "width": 3
         },
         "mode": "lines",
         "showlegend": false,
         "type": "scatter",
         "x": [
          "2021-03-29T00:00:00",
          "2021-03-30T00:00:00"
         ],
         "xaxis": "x",
         "y": [
          184.89,
          185.09
         ],
         "yaxis": "y"
        },
        {
         "hoverinfo": "none",
         "line": {
          "color": "green",
          "width": 3
         },
         "mode": "lines",
         "showlegend": false,
         "type": "scatter",
         "x": [
          "2021-03-30T00:00:00",
          "2021-03-31T00:00:00"
         ],
         "xaxis": "x",
         "y": [
          185.09,
          185.23
         ],
         "yaxis": "y"
        },
        {
         "hoverinfo": "none",
         "line": {
          "color": "green",
          "width": 3
         },
         "mode": "lines",
         "showlegend": false,
         "type": "scatter",
         "x": [
          "2021-03-31T00:00:00",
          "2021-04-01T00:00:00"
         ],
         "xaxis": "x",
         "y": [
          185.23,
          185.49
         ],
         "yaxis": "y"
        },
        {
         "hoverinfo": "none",
         "line": {
          "color": "green",
          "width": 3
         },
         "mode": "lines",
         "showlegend": false,
         "type": "scatter",
         "x": [
          "2021-04-01T00:00:00",
          "2021-04-02T00:00:00"
         ],
         "xaxis": "x",
         "y": [
          185.49,
          185.73
         ],
         "yaxis": "y"
        },
        {
         "hoverinfo": "none",
         "line": {
          "color": "green",
          "width": 3
         },
         "mode": "lines",
         "showlegend": false,
         "type": "scatter",
         "x": [
          "2021-04-02T00:00:00",
          "2021-04-03T00:00:00"
         ],
         "xaxis": "x",
         "y": [
          185.73,
          185.86
         ],
         "yaxis": "y"
        },
        {
         "hoverinfo": "none",
         "line": {
          "color": "green",
          "width": 3
         },
         "mode": "lines",
         "showlegend": false,
         "type": "scatter",
         "x": [
          "2021-04-03T00:00:00",
          "2021-04-04T00:00:00"
         ],
         "xaxis": "x",
         "y": [
          185.86,
          186.11
         ],
         "yaxis": "y"
        },
        {
         "hoverinfo": "none",
         "line": {
          "color": "green",
          "width": 3
         },
         "mode": "lines",
         "showlegend": false,
         "type": "scatter",
         "x": [
          "2021-04-04T00:00:00",
          "2021-04-05T00:00:00"
         ],
         "xaxis": "x",
         "y": [
          186.11,
          186.36
         ],
         "yaxis": "y"
        },
        {
         "hoverinfo": "none",
         "line": {
          "color": "green",
          "width": 3
         },
         "mode": "lines",
         "showlegend": false,
         "type": "scatter",
         "x": [
          "2021-04-05T00:00:00",
          "2021-04-06T00:00:00"
         ],
         "xaxis": "x",
         "y": [
          186.36,
          186.54
         ],
         "yaxis": "y"
        },
        {
         "hoverinfo": "none",
         "line": {
          "color": "green",
          "width": 3
         },
         "mode": "lines",
         "showlegend": false,
         "type": "scatter",
         "x": [
          "2021-04-06T00:00:00",
          "2021-04-07T00:00:00"
         ],
         "xaxis": "x",
         "y": [
          186.54,
          186.73
         ],
         "yaxis": "y"
        },
        {
         "hoverinfo": "none",
         "line": {
          "color": "green",
          "width": 3
         },
         "mode": "lines",
         "showlegend": false,
         "type": "scatter",
         "x": [
          "2021-04-07T00:00:00",
          "2021-04-08T00:00:00"
         ],
         "xaxis": "x",
         "y": [
          186.73,
          186.96
         ],
         "yaxis": "y"
        },
        {
         "hoverinfo": "none",
         "line": {
          "color": "green",
          "width": 3
         },
         "mode": "lines",
         "showlegend": false,
         "type": "scatter",
         "x": [
          "2021-04-08T00:00:00",
          "2021-04-09T00:00:00"
         ],
         "xaxis": "x",
         "y": [
          186.96,
          187.09
         ],
         "yaxis": "y"
        },
        {
         "hoverinfo": "none",
         "line": {
          "color": "green",
          "width": 3
         },
         "mode": "lines",
         "showlegend": false,
         "type": "scatter",
         "x": [
          "2021-04-09T00:00:00",
          "2021-04-10T00:00:00"
         ],
         "xaxis": "x",
         "y": [
          187.09,
          187.34
         ],
         "yaxis": "y"
        },
        {
         "hoverinfo": "none",
         "line": {
          "color": "green",
          "width": 3
         },
         "mode": "lines",
         "showlegend": false,
         "type": "scatter",
         "x": [
          "2021-04-10T00:00:00",
          "2021-04-11T00:00:00"
         ],
         "xaxis": "x",
         "y": [
          187.34,
          187.59
         ],
         "yaxis": "y"
        },
        {
         "hoverinfo": "none",
         "line": {
          "color": "green",
          "width": 3
         },
         "mode": "lines",
         "showlegend": false,
         "type": "scatter",
         "x": [
          "2021-04-11T00:00:00",
          "2021-04-12T00:00:00"
         ],
         "xaxis": "x",
         "y": [
          187.59,
          187.72
         ],
         "yaxis": "y"
        },
        {
         "hoverinfo": "none",
         "line": {
          "color": "green",
          "width": 3
         },
         "mode": "lines",
         "showlegend": false,
         "type": "scatter",
         "x": [
          "2021-04-12T00:00:00",
          "2021-04-13T00:00:00"
         ],
         "xaxis": "x",
         "y": [
          187.72,
          187.84
         ],
         "yaxis": "y"
        },
        {
         "hoverinfo": "none",
         "line": {
          "color": "green",
          "width": 3
         },
         "mode": "lines",
         "showlegend": false,
         "type": "scatter",
         "x": [
          "2021-04-13T00:00:00",
          "2021-04-14T00:00:00"
         ],
         "xaxis": "x",
         "y": [
          187.84,
          187.96
         ],
         "yaxis": "y"
        },
        {
         "hoverinfo": "none",
         "line": {
          "color": "green",
          "width": 3
         },
         "mode": "lines",
         "showlegend": false,
         "type": "scatter",
         "x": [
          "2021-04-14T00:00:00",
          "2021-04-15T00:00:00"
         ],
         "xaxis": "x",
         "y": [
          187.96,
          188.2
         ],
         "yaxis": "y"
        },
        {
         "hoverinfo": "none",
         "line": {
          "color": "green",
          "width": 3
         },
         "mode": "lines",
         "showlegend": false,
         "type": "scatter",
         "x": [
          "2021-04-15T00:00:00",
          "2021-04-16T00:00:00"
         ],
         "xaxis": "x",
         "y": [
          188.2,
          188.44
         ],
         "yaxis": "y"
        },
        {
         "hoverinfo": "none",
         "line": {
          "color": "green",
          "width": 3
         },
         "mode": "lines",
         "showlegend": false,
         "type": "scatter",
         "x": [
          "2021-04-16T00:00:00",
          "2021-04-17T00:00:00"
         ],
         "xaxis": "x",
         "y": [
          188.44,
          188.67
         ],
         "yaxis": "y"
        },
        {
         "hoverinfo": "none",
         "line": {
          "color": "green",
          "width": 3
         },
         "mode": "lines",
         "showlegend": false,
         "type": "scatter",
         "x": [
          "2021-04-17T00:00:00",
          "2021-04-18T00:00:00"
         ],
         "xaxis": "x",
         "y": [
          188.67,
          188.79
         ],
         "yaxis": "y"
        },
        {
         "hoverinfo": "none",
         "line": {
          "color": "green",
          "width": 3
         },
         "mode": "lines",
         "showlegend": false,
         "type": "scatter",
         "x": [
          "2021-04-18T00:00:00",
          "2021-04-19T00:00:00"
         ],
         "xaxis": "x",
         "y": [
          188.79,
          188.9
         ],
         "yaxis": "y"
        },
        {
         "hoverinfo": "none",
         "line": {
          "color": "green",
          "width": 3
         },
         "mode": "lines",
         "showlegend": false,
         "type": "scatter",
         "x": [
          "2021-04-19T00:00:00",
          "2021-04-20T00:00:00"
         ],
         "xaxis": "x",
         "y": [
          188.9,
          189.03
         ],
         "yaxis": "y"
        },
        {
         "hoverinfo": "none",
         "line": {
          "color": "green",
          "width": 3
         },
         "mode": "lines",
         "showlegend": false,
         "type": "scatter",
         "x": [
          "2021-04-20T00:00:00",
          "2021-04-21T00:00:00"
         ],
         "xaxis": "x",
         "y": [
          189.03,
          189.18
         ],
         "yaxis": "y"
        },
        {
         "hoverinfo": "none",
         "line": {
          "color": "green",
          "width": 3
         },
         "mode": "lines",
         "showlegend": false,
         "type": "scatter",
         "x": [
          "2021-04-21T00:00:00",
          "2021-04-22T00:00:00"
         ],
         "xaxis": "x",
         "y": [
          189.18,
          189.33
         ],
         "yaxis": "y"
        },
        {
         "hoverinfo": "none",
         "line": {
          "color": "green",
          "width": 3
         },
         "mode": "lines",
         "showlegend": false,
         "type": "scatter",
         "x": [
          "2021-04-22T00:00:00",
          "2021-04-23T00:00:00"
         ],
         "xaxis": "x",
         "y": [
          189.33,
          189.37
         ],
         "yaxis": "y"
        },
        {
         "hoverinfo": "none",
         "line": {
          "color": "green",
          "width": 3
         },
         "mode": "lines",
         "showlegend": false,
         "type": "scatter",
         "x": [
          "2021-04-23T00:00:00",
          "2021-04-24T00:00:00"
         ],
         "xaxis": "x",
         "y": [
          189.37,
          189.41
         ],
         "yaxis": "y"
        },
        {
         "hoverinfo": "none",
         "line": {
          "color": "green",
          "width": 3
         },
         "mode": "lines",
         "showlegend": false,
         "type": "scatter",
         "x": [
          "2021-04-24T00:00:00",
          "2021-04-25T00:00:00"
         ],
         "xaxis": "x",
         "y": [
          189.41,
          189.44
         ],
         "yaxis": "y"
        },
        {
         "hoverinfo": "none",
         "line": {
          "color": "green",
          "width": 3
         },
         "mode": "lines",
         "showlegend": false,
         "type": "scatter",
         "x": [
          "2021-04-25T00:00:00",
          "2021-04-26T00:00:00"
         ],
         "xaxis": "x",
         "y": [
          189.44,
          189.59
         ],
         "yaxis": "y"
        },
        {
         "hoverinfo": "none",
         "line": {
          "color": "green",
          "width": 3
         },
         "mode": "lines",
         "showlegend": false,
         "type": "scatter",
         "x": [
          "2021-04-26T00:00:00",
          "2021-04-27T00:00:00"
         ],
         "xaxis": "x",
         "y": [
          189.59,
          189.86
         ],
         "yaxis": "y"
        },
        {
         "hoverinfo": "none",
         "line": {
          "color": "green",
          "width": 3
         },
         "mode": "lines",
         "showlegend": false,
         "type": "scatter",
         "x": [
          "2021-04-27T00:00:00",
          "2021-04-28T00:00:00"
         ],
         "xaxis": "x",
         "y": [
          189.86,
          190.12
         ],
         "yaxis": "y"
        },
        {
         "hoverinfo": "none",
         "line": {
          "color": "green",
          "width": 3
         },
         "mode": "lines",
         "showlegend": false,
         "type": "scatter",
         "x": [
          "2021-04-28T00:00:00",
          "2021-04-29T00:00:00"
         ],
         "xaxis": "x",
         "y": [
          190.12,
          190.36
         ],
         "yaxis": "y"
        },
        {
         "hoverinfo": "none",
         "line": {
          "color": "green",
          "width": 3
         },
         "mode": "lines",
         "showlegend": false,
         "type": "scatter",
         "x": [
          "2021-04-29T00:00:00",
          "2021-04-30T00:00:00"
         ],
         "xaxis": "x",
         "y": [
          190.36,
          190.6
         ],
         "yaxis": "y"
        },
        {
         "hoverinfo": "none",
         "line": {
          "color": "green",
          "width": 3
         },
         "mode": "lines",
         "showlegend": false,
         "type": "scatter",
         "x": [
          "2021-04-30T00:00:00",
          "2021-05-01T00:00:00"
         ],
         "xaxis": "x",
         "y": [
          190.6,
          190.84
         ],
         "yaxis": "y"
        },
        {
         "hoverinfo": "none",
         "line": {
          "color": "green",
          "width": 3
         },
         "mode": "lines",
         "showlegend": false,
         "type": "scatter",
         "x": [
          "2021-05-01T00:00:00",
          "2021-05-02T00:00:00"
         ],
         "xaxis": "x",
         "y": [
          190.84,
          191.08
         ],
         "yaxis": "y"
        },
        {
         "hoverinfo": "none",
         "line": {
          "color": "green",
          "width": 3
         },
         "mode": "lines",
         "showlegend": false,
         "type": "scatter",
         "x": [
          "2021-05-02T00:00:00",
          "2021-05-03T00:00:00"
         ],
         "xaxis": "x",
         "y": [
          191.08,
          191.31
         ],
         "yaxis": "y"
        },
        {
         "hoverinfo": "none",
         "line": {
          "color": "green",
          "width": 3
         },
         "mode": "lines",
         "showlegend": false,
         "type": "scatter",
         "x": [
          "2021-05-03T00:00:00",
          "2021-05-04T00:00:00"
         ],
         "xaxis": "x",
         "y": [
          191.31,
          191.46
         ],
         "yaxis": "y"
        },
        {
         "hoverinfo": "none",
         "line": {
          "color": "green",
          "width": 3
         },
         "mode": "lines",
         "showlegend": false,
         "type": "scatter",
         "x": [
          "2021-05-04T00:00:00",
          "2021-05-05T00:00:00"
         ],
         "xaxis": "x",
         "y": [
          191.46,
          191.59
         ],
         "yaxis": "y"
        },
        {
         "hoverinfo": "none",
         "line": {
          "color": "green",
          "width": 3
         },
         "mode": "lines",
         "showlegend": false,
         "type": "scatter",
         "x": [
          "2021-05-05T00:00:00",
          "2021-05-06T00:00:00"
         ],
         "xaxis": "x",
         "y": [
          191.59,
          191.72
         ],
         "yaxis": "y"
        },
        {
         "hoverinfo": "none",
         "line": {
          "color": "green",
          "width": 3
         },
         "mode": "lines",
         "showlegend": false,
         "type": "scatter",
         "x": [
          "2021-05-06T00:00:00",
          "2021-05-07T00:00:00"
         ],
         "xaxis": "x",
         "y": [
          191.72,
          191.86
         ],
         "yaxis": "y"
        },
        {
         "hoverinfo": "none",
         "line": {
          "color": "green",
          "width": 3
         },
         "mode": "lines",
         "showlegend": false,
         "type": "scatter",
         "x": [
          "2021-05-07T00:00:00",
          "2021-05-08T00:00:00"
         ],
         "xaxis": "x",
         "y": [
          191.86,
          191.98
         ],
         "yaxis": "y"
        },
        {
         "hoverinfo": "none",
         "line": {
          "color": "green",
          "width": 3
         },
         "mode": "lines",
         "showlegend": false,
         "type": "scatter",
         "x": [
          "2021-05-08T00:00:00",
          "2021-05-09T00:00:00"
         ],
         "xaxis": "x",
         "y": [
          191.98,
          192.11
         ],
         "yaxis": "y"
        },
        {
         "hoverinfo": "none",
         "line": {
          "color": "green",
          "width": 3
         },
         "mode": "lines",
         "showlegend": false,
         "type": "scatter",
         "x": [
          "2021-05-09T00:00:00",
          "2021-05-10T00:00:00"
         ],
         "xaxis": "x",
         "y": [
          192.11,
          192.23
         ],
         "yaxis": "y"
        },
        {
         "hoverinfo": "none",
         "line": {
          "color": "green",
          "width": 3
         },
         "mode": "lines",
         "showlegend": false,
         "type": "scatter",
         "x": [
          "2021-05-10T00:00:00",
          "2021-05-11T00:00:00"
         ],
         "xaxis": "x",
         "y": [
          192.23,
          192.41
         ],
         "yaxis": "y"
        },
        {
         "hoverinfo": "none",
         "line": {
          "color": "green",
          "width": 3
         },
         "mode": "lines",
         "showlegend": false,
         "type": "scatter",
         "x": [
          "2021-05-11T00:00:00",
          "2021-05-12T00:00:00"
         ],
         "xaxis": "x",
         "y": [
          192.41,
          192.53
         ],
         "yaxis": "y"
        },
        {
         "hoverinfo": "none",
         "line": {
          "color": "red",
          "width": 3
         },
         "mode": "lines",
         "showlegend": false,
         "type": "scatter",
         "x": [
          "2021-05-12T00:00:00",
          "2021-05-13T00:00:00"
         ],
         "xaxis": "x",
         "y": [
          192.53,
          192.52
         ],
         "yaxis": "y"
        },
        {
         "hoverinfo": "none",
         "line": {
          "color": "green",
          "width": 3
         },
         "mode": "lines",
         "showlegend": false,
         "type": "scatter",
         "x": [
          "2021-05-13T00:00:00",
          "2021-05-14T00:00:00"
         ],
         "xaxis": "x",
         "y": [
          192.52,
          192.64
         ],
         "yaxis": "y"
        },
        {
         "hoverinfo": "none",
         "line": {
          "color": "green",
          "width": 3
         },
         "mode": "lines",
         "showlegend": false,
         "type": "scatter",
         "x": [
          "2021-05-14T00:00:00",
          "2021-05-15T00:00:00"
         ],
         "xaxis": "x",
         "y": [
          192.64,
          192.77
         ],
         "yaxis": "y"
        },
        {
         "hoverinfo": "none",
         "line": {
          "color": "green",
          "width": 3
         },
         "mode": "lines",
         "showlegend": false,
         "type": "scatter",
         "x": [
          "2021-05-15T00:00:00",
          "2021-05-16T00:00:00"
         ],
         "xaxis": "x",
         "y": [
          192.77,
          192.89
         ],
         "yaxis": "y"
        },
        {
         "hoverinfo": "none",
         "line": {
          "color": "green",
          "width": 3
         },
         "mode": "lines",
         "showlegend": false,
         "type": "scatter",
         "x": [
          "2021-05-16T00:00:00",
          "2021-05-17T00:00:00"
         ],
         "xaxis": "x",
         "y": [
          192.89,
          193.02
         ],
         "yaxis": "y"
        },
        {
         "hoverinfo": "none",
         "line": {
          "color": "green",
          "width": 3
         },
         "mode": "lines",
         "showlegend": false,
         "type": "scatter",
         "x": [
          "2021-05-17T00:00:00",
          "2021-05-18T00:00:00"
         ],
         "xaxis": "x",
         "y": [
          193.02,
          193.14
         ],
         "yaxis": "y"
        },
        {
         "hoverinfo": "none",
         "line": {
          "color": "green",
          "width": 3
         },
         "mode": "lines",
         "showlegend": false,
         "type": "scatter",
         "x": [
          "2021-05-18T00:00:00",
          "2021-05-19T00:00:00"
         ],
         "xaxis": "x",
         "y": [
          193.14,
          193.33
         ],
         "yaxis": "y"
        },
        {
         "hoverinfo": "none",
         "line": {
          "color": "green",
          "width": 3
         },
         "mode": "lines",
         "showlegend": false,
         "type": "scatter",
         "x": [
          "2021-05-19T00:00:00",
          "2021-05-20T00:00:00"
         ],
         "xaxis": "x",
         "y": [
          193.33,
          193.56
         ],
         "yaxis": "y"
        },
        {
         "hoverinfo": "none",
         "line": {
          "color": "green",
          "width": 3
         },
         "mode": "lines",
         "showlegend": false,
         "type": "scatter",
         "x": [
          "2021-05-20T00:00:00",
          "2021-05-21T00:00:00"
         ],
         "xaxis": "x",
         "y": [
          193.56,
          193.81
         ],
         "yaxis": "y"
        },
        {
         "hoverinfo": "none",
         "line": {
          "color": "green",
          "width": 3
         },
         "mode": "lines",
         "showlegend": false,
         "type": "scatter",
         "x": [
          "2021-05-21T00:00:00",
          "2021-05-22T00:00:00"
         ],
         "xaxis": "x",
         "y": [
          193.81,
          194.05
         ],
         "yaxis": "y"
        },
        {
         "hoverinfo": "none",
         "line": {
          "color": "green",
          "width": 3
         },
         "mode": "lines",
         "showlegend": false,
         "type": "scatter",
         "x": [
          "2021-05-22T00:00:00",
          "2021-05-23T00:00:00"
         ],
         "xaxis": "x",
         "y": [
          194.05,
          194.29
         ],
         "yaxis": "y"
        },
        {
         "hoverinfo": "none",
         "line": {
          "color": "green",
          "width": 3
         },
         "mode": "lines",
         "showlegend": false,
         "type": "scatter",
         "x": [
          "2021-05-23T00:00:00",
          "2021-05-24T00:00:00"
         ],
         "xaxis": "x",
         "y": [
          194.29,
          194.52
         ],
         "yaxis": "y"
        },
        {
         "hoverinfo": "none",
         "line": {
          "color": "green",
          "width": 3
         },
         "mode": "lines",
         "showlegend": false,
         "type": "scatter",
         "x": [
          "2021-05-24T00:00:00",
          "2021-05-25T00:00:00"
         ],
         "xaxis": "x",
         "y": [
          194.52,
          194.75
         ],
         "yaxis": "y"
        },
        {
         "hoverinfo": "none",
         "line": {
          "color": "green",
          "width": 3
         },
         "mode": "lines",
         "showlegend": false,
         "type": "scatter",
         "x": [
          "2021-05-25T00:00:00",
          "2021-05-26T00:00:00"
         ],
         "xaxis": "x",
         "y": [
          194.75,
          194.99
         ],
         "yaxis": "y"
        },
        {
         "hoverinfo": "none",
         "line": {
          "color": "green",
          "width": 3
         },
         "mode": "lines",
         "showlegend": false,
         "type": "scatter",
         "x": [
          "2021-05-26T00:00:00",
          "2021-05-27T00:00:00"
         ],
         "xaxis": "x",
         "y": [
          194.99,
          195.11
         ],
         "yaxis": "y"
        },
        {
         "hoverinfo": "none",
         "line": {
          "color": "green",
          "width": 3
         },
         "mode": "lines",
         "showlegend": false,
         "type": "scatter",
         "x": [
          "2021-05-27T00:00:00",
          "2021-05-28T00:00:00"
         ],
         "xaxis": "x",
         "y": [
          195.11,
          195.36
         ],
         "yaxis": "y"
        },
        {
         "hoverinfo": "none",
         "line": {
          "color": "green",
          "width": 3
         },
         "mode": "lines",
         "showlegend": false,
         "type": "scatter",
         "x": [
          "2021-05-28T00:00:00",
          "2021-05-29T00:00:00"
         ],
         "xaxis": "x",
         "y": [
          195.36,
          195.6
         ],
         "yaxis": "y"
        },
        {
         "hoverinfo": "none",
         "line": {
          "color": "green",
          "width": 3
         },
         "mode": "lines",
         "showlegend": false,
         "type": "scatter",
         "x": [
          "2021-05-29T00:00:00",
          "2021-05-30T00:00:00"
         ],
         "xaxis": "x",
         "y": [
          195.6,
          195.71
         ],
         "yaxis": "y"
        },
        {
         "hoverinfo": "none",
         "line": {
          "color": "green",
          "width": 3
         },
         "mode": "lines",
         "showlegend": false,
         "type": "scatter",
         "x": [
          "2021-05-30T00:00:00",
          "2021-05-31T00:00:00"
         ],
         "xaxis": "x",
         "y": [
          195.71,
          195.83
         ],
         "yaxis": "y"
        },
        {
         "hoverinfo": "none",
         "line": {
          "color": "green",
          "width": 3
         },
         "mode": "lines",
         "showlegend": false,
         "type": "scatter",
         "x": [
          "2021-05-31T00:00:00",
          "2021-06-01T00:00:00"
         ],
         "xaxis": "x",
         "y": [
          195.83,
          195.96
         ],
         "yaxis": "y"
        },
        {
         "hoverinfo": "none",
         "line": {
          "color": "green",
          "width": 3
         },
         "mode": "lines",
         "showlegend": false,
         "type": "scatter",
         "x": [
          "2021-06-01T00:00:00",
          "2021-06-02T00:00:00"
         ],
         "xaxis": "x",
         "y": [
          195.96,
          196.09
         ],
         "yaxis": "y"
        },
        {
         "hoverinfo": "none",
         "line": {
          "color": "green",
          "width": 3
         },
         "mode": "lines",
         "showlegend": false,
         "type": "scatter",
         "x": [
          "2021-06-02T00:00:00",
          "2021-06-03T00:00:00"
         ],
         "xaxis": "x",
         "y": [
          196.09,
          196.22
         ],
         "yaxis": "y"
        },
        {
         "hoverinfo": "none",
         "line": {
          "color": "green",
          "width": 3
         },
         "mode": "lines",
         "showlegend": false,
         "type": "scatter",
         "x": [
          "2021-06-03T00:00:00",
          "2021-06-04T00:00:00"
         ],
         "xaxis": "x",
         "y": [
          196.22,
          196.34
         ],
         "yaxis": "y"
        },
        {
         "hoverinfo": "none",
         "line": {
          "color": "green",
          "width": 3
         },
         "mode": "lines",
         "showlegend": false,
         "type": "scatter",
         "x": [
          "2021-06-04T00:00:00",
          "2021-06-05T00:00:00"
         ],
         "xaxis": "x",
         "y": [
          196.34,
          196.34
         ],
         "yaxis": "y"
        },
        {
         "hoverinfo": "none",
         "line": {
          "color": "green",
          "width": 3
         },
         "mode": "lines",
         "showlegend": false,
         "type": "scatter",
         "x": [
          "2021-06-05T00:00:00",
          "2021-06-06T00:00:00"
         ],
         "xaxis": "x",
         "y": [
          196.34,
          196.36
         ],
         "yaxis": "y"
        },
        {
         "hoverinfo": "none",
         "line": {
          "color": "green",
          "width": 3
         },
         "mode": "lines",
         "showlegend": false,
         "type": "scatter",
         "x": [
          "2021-06-06T00:00:00",
          "2021-06-07T00:00:00"
         ],
         "xaxis": "x",
         "y": [
          196.36,
          196.5
         ],
         "yaxis": "y"
        },
        {
         "hoverinfo": "none",
         "line": {
          "color": "green",
          "width": 3
         },
         "mode": "lines",
         "showlegend": false,
         "type": "scatter",
         "x": [
          "2021-06-07T00:00:00",
          "2021-06-08T00:00:00"
         ],
         "xaxis": "x",
         "y": [
          196.5,
          196.64
         ],
         "yaxis": "y"
        },
        {
         "hoverinfo": "none",
         "line": {
          "color": "green",
          "width": 3
         },
         "mode": "lines",
         "showlegend": false,
         "type": "scatter",
         "x": [
          "2021-06-08T00:00:00",
          "2021-06-09T00:00:00"
         ],
         "xaxis": "x",
         "y": [
          196.64,
          196.78
         ],
         "yaxis": "y"
        },
        {
         "hoverinfo": "none",
         "line": {
          "color": "green",
          "width": 3
         },
         "mode": "lines",
         "showlegend": false,
         "type": "scatter",
         "x": [
          "2021-06-09T00:00:00",
          "2021-06-10T00:00:00"
         ],
         "xaxis": "x",
         "y": [
          196.78,
          196.93
         ],
         "yaxis": "y"
        },
        {
         "hoverinfo": "none",
         "line": {
          "color": "green",
          "width": 3
         },
         "mode": "lines",
         "showlegend": false,
         "type": "scatter",
         "x": [
          "2021-06-10T00:00:00",
          "2021-06-11T00:00:00"
         ],
         "xaxis": "x",
         "y": [
          196.93,
          197.13
         ],
         "yaxis": "y"
        },
        {
         "hoverinfo": "none",
         "line": {
          "color": "green",
          "width": 3
         },
         "mode": "lines",
         "showlegend": false,
         "type": "scatter",
         "x": [
          "2021-06-11T00:00:00",
          "2021-06-12T00:00:00"
         ],
         "xaxis": "x",
         "y": [
          197.13,
          197.41
         ],
         "yaxis": "y"
        },
        {
         "hoverinfo": "none",
         "line": {
          "color": "green",
          "width": 3
         },
         "mode": "lines",
         "showlegend": false,
         "type": "scatter",
         "x": [
          "2021-06-12T00:00:00",
          "2021-06-13T00:00:00"
         ],
         "xaxis": "x",
         "y": [
          197.41,
          197.7
         ],
         "yaxis": "y"
        },
        {
         "hoverinfo": "none",
         "line": {
          "color": "green",
          "width": 3
         },
         "mode": "lines",
         "showlegend": false,
         "type": "scatter",
         "x": [
          "2021-06-13T00:00:00",
          "2021-06-14T00:00:00"
         ],
         "xaxis": "x",
         "y": [
          197.7,
          197.96
         ],
         "yaxis": "y"
        },
        {
         "hoverinfo": "none",
         "line": {
          "color": "green",
          "width": 3
         },
         "mode": "lines",
         "showlegend": false,
         "type": "scatter",
         "x": [
          "2021-06-14T00:00:00",
          "2021-06-15T00:00:00"
         ],
         "xaxis": "x",
         "y": [
          197.96,
          198.22
         ],
         "yaxis": "y"
        },
        {
         "hoverinfo": "none",
         "line": {
          "color": "green",
          "width": 3
         },
         "mode": "lines",
         "showlegend": false,
         "type": "scatter",
         "x": [
          "2021-06-15T00:00:00",
          "2021-06-16T00:00:00"
         ],
         "xaxis": "x",
         "y": [
          198.22,
          198.5
         ],
         "yaxis": "y"
        },
        {
         "hoverinfo": "none",
         "line": {
          "color": "green",
          "width": 3
         },
         "mode": "lines",
         "showlegend": false,
         "type": "scatter",
         "x": [
          "2021-06-16T00:00:00",
          "2021-06-17T00:00:00"
         ],
         "xaxis": "x",
         "y": [
          198.5,
          198.78
         ],
         "yaxis": "y"
        },
        {
         "hoverinfo": "none",
         "line": {
          "color": "green",
          "width": 3
         },
         "mode": "lines",
         "showlegend": false,
         "type": "scatter",
         "x": [
          "2021-06-17T00:00:00",
          "2021-06-18T00:00:00"
         ],
         "xaxis": "x",
         "y": [
          198.78,
          199.13
         ],
         "yaxis": "y"
        },
        {
         "hoverinfo": "none",
         "line": {
          "color": "green",
          "width": 3
         },
         "mode": "lines",
         "showlegend": false,
         "type": "scatter",
         "x": [
          "2021-06-18T00:00:00",
          "2021-06-19T00:00:00"
         ],
         "xaxis": "x",
         "y": [
          199.13,
          199.47
         ],
         "yaxis": "y"
        },
        {
         "hoverinfo": "none",
         "line": {
          "color": "green",
          "width": 3
         },
         "mode": "lines",
         "showlegend": false,
         "type": "scatter",
         "x": [
          "2021-06-19T00:00:00",
          "2021-06-20T00:00:00"
         ],
         "xaxis": "x",
         "y": [
          199.47,
          199.87
         ],
         "yaxis": "y"
        },
        {
         "hoverinfo": "none",
         "line": {
          "color": "green",
          "width": 3
         },
         "mode": "lines",
         "showlegend": false,
         "type": "scatter",
         "x": [
          "2021-06-20T00:00:00",
          "2021-06-21T00:00:00"
         ],
         "xaxis": "x",
         "y": [
          199.87,
          200.26
         ],
         "yaxis": "y"
        },
        {
         "hoverinfo": "none",
         "line": {
          "color": "green",
          "width": 3
         },
         "mode": "lines",
         "showlegend": false,
         "type": "scatter",
         "x": [
          "2021-06-21T00:00:00",
          "2021-06-22T00:00:00"
         ],
         "xaxis": "x",
         "y": [
          200.26,
          200.67
         ],
         "yaxis": "y"
        },
        {
         "hoverinfo": "none",
         "line": {
          "color": "green",
          "width": 3
         },
         "mode": "lines",
         "showlegend": false,
         "type": "scatter",
         "x": [
          "2021-06-22T00:00:00",
          "2021-06-23T00:00:00"
         ],
         "xaxis": "x",
         "y": [
          200.67,
          200.97
         ],
         "yaxis": "y"
        },
        {
         "hoverinfo": "none",
         "line": {
          "color": "green",
          "width": 3
         },
         "mode": "lines",
         "showlegend": false,
         "type": "scatter",
         "x": [
          "2021-06-23T00:00:00",
          "2021-06-24T00:00:00"
         ],
         "xaxis": "x",
         "y": [
          200.97,
          201.25
         ],
         "yaxis": "y"
        },
        {
         "hoverinfo": "none",
         "line": {
          "color": "green",
          "width": 3
         },
         "mode": "lines",
         "showlegend": false,
         "type": "scatter",
         "x": [
          "2021-06-24T00:00:00",
          "2021-06-25T00:00:00"
         ],
         "xaxis": "x",
         "y": [
          201.25,
          201.53
         ],
         "yaxis": "y"
        },
        {
         "hoverinfo": "none",
         "line": {
          "color": "green",
          "width": 3
         },
         "mode": "lines",
         "showlegend": false,
         "type": "scatter",
         "x": [
          "2021-06-25T00:00:00",
          "2021-06-26T00:00:00"
         ],
         "xaxis": "x",
         "y": [
          201.53,
          201.76
         ],
         "yaxis": "y"
        },
        {
         "hoverinfo": "none",
         "line": {
          "color": "green",
          "width": 3
         },
         "mode": "lines",
         "showlegend": false,
         "type": "scatter",
         "x": [
          "2021-06-26T00:00:00",
          "2021-06-27T00:00:00"
         ],
         "xaxis": "x",
         "y": [
          201.76,
          202.04
         ],
         "yaxis": "y"
        },
        {
         "hoverinfo": "none",
         "line": {
          "color": "green",
          "width": 3
         },
         "mode": "lines",
         "showlegend": false,
         "type": "scatter",
         "x": [
          "2021-06-27T00:00:00",
          "2021-06-28T00:00:00"
         ],
         "xaxis": "x",
         "y": [
          202.04,
          202.2
         ],
         "yaxis": "y"
        },
        {
         "hoverinfo": "none",
         "line": {
          "color": "green",
          "width": 3
         },
         "mode": "lines",
         "showlegend": false,
         "type": "scatter",
         "x": [
          "2021-06-28T00:00:00",
          "2021-06-29T00:00:00"
         ],
         "xaxis": "x",
         "y": [
          202.2,
          202.37
         ],
         "yaxis": "y"
        },
        {
         "hoverinfo": "none",
         "line": {
          "color": "green",
          "width": 3
         },
         "mode": "lines",
         "showlegend": false,
         "type": "scatter",
         "x": [
          "2021-06-29T00:00:00",
          "2021-06-30T00:00:00"
         ],
         "xaxis": "x",
         "y": [
          202.37,
          202.54
         ],
         "yaxis": "y"
        },
        {
         "hoverinfo": "none",
         "line": {
          "color": "green",
          "width": 3
         },
         "mode": "lines",
         "showlegend": false,
         "type": "scatter",
         "x": [
          "2021-06-30T00:00:00",
          "2021-07-01T00:00:00"
         ],
         "xaxis": "x",
         "y": [
          202.54,
          202.82
         ],
         "yaxis": "y"
        },
        {
         "hoverinfo": "none",
         "line": {
          "color": "green",
          "width": 3
         },
         "mode": "lines",
         "showlegend": false,
         "type": "scatter",
         "x": [
          "2021-07-01T00:00:00",
          "2021-07-02T00:00:00"
         ],
         "xaxis": "x",
         "y": [
          202.82,
          203.09
         ],
         "yaxis": "y"
        },
        {
         "hoverinfo": "none",
         "line": {
          "color": "green",
          "width": 3
         },
         "mode": "lines",
         "showlegend": false,
         "type": "scatter",
         "x": [
          "2021-07-02T00:00:00",
          "2021-07-03T00:00:00"
         ],
         "xaxis": "x",
         "y": [
          203.09,
          203.48
         ],
         "yaxis": "y"
        },
        {
         "hoverinfo": "none",
         "line": {
          "color": "green",
          "width": 3
         },
         "mode": "lines",
         "showlegend": false,
         "type": "scatter",
         "x": [
          "2021-07-03T00:00:00",
          "2021-07-04T00:00:00"
         ],
         "xaxis": "x",
         "y": [
          203.48,
          203.86
         ],
         "yaxis": "y"
        },
        {
         "hoverinfo": "none",
         "line": {
          "color": "green",
          "width": 3
         },
         "mode": "lines",
         "showlegend": false,
         "type": "scatter",
         "x": [
          "2021-07-04T00:00:00",
          "2021-07-05T00:00:00"
         ],
         "xaxis": "x",
         "y": [
          203.86,
          204.12
         ],
         "yaxis": "y"
        },
        {
         "hoverinfo": "none",
         "line": {
          "color": "green",
          "width": 3
         },
         "mode": "lines",
         "showlegend": false,
         "type": "scatter",
         "x": [
          "2021-07-05T00:00:00",
          "2021-07-06T00:00:00"
         ],
         "xaxis": "x",
         "y": [
          204.12,
          204.5
         ],
         "yaxis": "y"
        },
        {
         "hoverinfo": "none",
         "line": {
          "color": "green",
          "width": 3
         },
         "mode": "lines",
         "showlegend": false,
         "type": "scatter",
         "x": [
          "2021-07-06T00:00:00",
          "2021-07-07T00:00:00"
         ],
         "xaxis": "x",
         "y": [
          204.5,
          204.85
         ],
         "yaxis": "y"
        },
        {
         "hoverinfo": "none",
         "line": {
          "color": "green",
          "width": 3
         },
         "mode": "lines",
         "showlegend": false,
         "type": "scatter",
         "x": [
          "2021-07-07T00:00:00",
          "2021-07-08T00:00:00"
         ],
         "xaxis": "x",
         "y": [
          204.85,
          205.2
         ],
         "yaxis": "y"
        },
        {
         "hoverinfo": "none",
         "line": {
          "color": "green",
          "width": 3
         },
         "mode": "lines",
         "showlegend": false,
         "type": "scatter",
         "x": [
          "2021-07-08T00:00:00",
          "2021-07-09T00:00:00"
         ],
         "xaxis": "x",
         "y": [
          205.2,
          205.42
         ],
         "yaxis": "y"
        },
        {
         "hoverinfo": "none",
         "line": {
          "color": "green",
          "width": 3
         },
         "mode": "lines",
         "showlegend": false,
         "type": "scatter",
         "x": [
          "2021-07-09T00:00:00",
          "2021-07-10T00:00:00"
         ],
         "xaxis": "x",
         "y": [
          205.42,
          205.63
         ],
         "yaxis": "y"
        },
        {
         "hoverinfo": "none",
         "line": {
          "color": "green",
          "width": 3
         },
         "mode": "lines",
         "showlegend": false,
         "type": "scatter",
         "x": [
          "2021-07-10T00:00:00",
          "2021-07-11T00:00:00"
         ],
         "xaxis": "x",
         "y": [
          205.63,
          205.71
         ],
         "yaxis": "y"
        },
        {
         "hoverinfo": "none",
         "line": {
          "color": "green",
          "width": 3
         },
         "mode": "lines",
         "showlegend": false,
         "type": "scatter",
         "x": [
          "2021-07-11T00:00:00",
          "2021-07-12T00:00:00"
         ],
         "xaxis": "x",
         "y": [
          205.71,
          205.93
         ],
         "yaxis": "y"
        },
        {
         "hoverinfo": "none",
         "line": {
          "color": "green",
          "width": 3
         },
         "mode": "lines",
         "showlegend": false,
         "type": "scatter",
         "x": [
          "2021-07-12T00:00:00",
          "2021-07-13T00:00:00"
         ],
         "xaxis": "x",
         "y": [
          205.93,
          206.14
         ],
         "yaxis": "y"
        },
        {
         "hoverinfo": "none",
         "line": {
          "color": "green",
          "width": 3
         },
         "mode": "lines",
         "showlegend": false,
         "type": "scatter",
         "x": [
          "2021-07-13T00:00:00",
          "2021-07-14T00:00:00"
         ],
         "xaxis": "x",
         "y": [
          206.14,
          206.23
         ],
         "yaxis": "y"
        },
        {
         "hoverinfo": "none",
         "line": {
          "color": "green",
          "width": 3
         },
         "mode": "lines",
         "showlegend": false,
         "type": "scatter",
         "x": [
          "2021-07-14T00:00:00",
          "2021-07-15T00:00:00"
         ],
         "xaxis": "x",
         "y": [
          206.23,
          206.34
         ],
         "yaxis": "y"
        },
        {
         "hoverinfo": "none",
         "line": {
          "color": "green",
          "width": 3
         },
         "mode": "lines",
         "showlegend": false,
         "type": "scatter",
         "x": [
          "2021-07-15T00:00:00",
          "2021-07-16T00:00:00"
         ],
         "xaxis": "x",
         "y": [
          206.34,
          206.56
         ],
         "yaxis": "y"
        },
        {
         "hoverinfo": "none",
         "line": {
          "color": "green",
          "width": 3
         },
         "mode": "lines",
         "showlegend": false,
         "type": "scatter",
         "x": [
          "2021-07-16T00:00:00",
          "2021-07-17T00:00:00"
         ],
         "xaxis": "x",
         "y": [
          206.56,
          206.79
         ],
         "yaxis": "y"
        },
        {
         "hoverinfo": "none",
         "line": {
          "color": "green",
          "width": 3
         },
         "mode": "lines",
         "showlegend": false,
         "type": "scatter",
         "x": [
          "2021-07-17T00:00:00",
          "2021-07-18T00:00:00"
         ],
         "xaxis": "x",
         "y": [
          206.79,
          207.02
         ],
         "yaxis": "y"
        },
        {
         "hoverinfo": "none",
         "line": {
          "color": "green",
          "width": 3
         },
         "mode": "lines",
         "showlegend": false,
         "type": "scatter",
         "x": [
          "2021-07-18T00:00:00",
          "2021-07-19T00:00:00"
         ],
         "xaxis": "x",
         "y": [
          207.02,
          207.37
         ],
         "yaxis": "y"
        },
        {
         "hoverinfo": "none",
         "line": {
          "color": "green",
          "width": 3
         },
         "mode": "lines",
         "showlegend": false,
         "type": "scatter",
         "x": [
          "2021-07-19T00:00:00",
          "2021-07-20T00:00:00"
         ],
         "xaxis": "x",
         "y": [
          207.37,
          207.59
         ],
         "yaxis": "y"
        },
        {
         "hoverinfo": "none",
         "line": {
          "color": "green",
          "width": 3
         },
         "mode": "lines",
         "showlegend": false,
         "type": "scatter",
         "x": [
          "2021-07-20T00:00:00",
          "2021-07-21T00:00:00"
         ],
         "xaxis": "x",
         "y": [
          207.59,
          207.82
         ],
         "yaxis": "y"
        },
        {
         "hoverinfo": "none",
         "line": {
          "color": "green",
          "width": 3
         },
         "mode": "lines",
         "showlegend": false,
         "type": "scatter",
         "x": [
          "2021-07-21T00:00:00",
          "2021-07-22T00:00:00"
         ],
         "xaxis": "x",
         "y": [
          207.82,
          208.04
         ],
         "yaxis": "y"
        },
        {
         "hoverinfo": "none",
         "line": {
          "color": "green",
          "width": 3
         },
         "mode": "lines",
         "showlegend": false,
         "type": "scatter",
         "x": [
          "2021-07-22T00:00:00",
          "2021-07-23T00:00:00"
         ],
         "xaxis": "x",
         "y": [
          208.04,
          208.37
         ],
         "yaxis": "y"
        },
        {
         "hoverinfo": "none",
         "line": {
          "color": "green",
          "width": 3
         },
         "mode": "lines",
         "showlegend": false,
         "type": "scatter",
         "x": [
          "2021-07-23T00:00:00",
          "2021-07-24T00:00:00"
         ],
         "xaxis": "x",
         "y": [
          208.37,
          208.59
         ],
         "yaxis": "y"
        },
        {
         "hoverinfo": "none",
         "line": {
          "color": "green",
          "width": 3
         },
         "mode": "lines",
         "showlegend": false,
         "type": "scatter",
         "x": [
          "2021-07-24T00:00:00",
          "2021-07-25T00:00:00"
         ],
         "xaxis": "x",
         "y": [
          208.59,
          208.88
         ],
         "yaxis": "y"
        },
        {
         "hoverinfo": "none",
         "line": {
          "color": "green",
          "width": 3
         },
         "mode": "lines",
         "showlegend": false,
         "type": "scatter",
         "x": [
          "2021-07-25T00:00:00",
          "2021-07-26T00:00:00"
         ],
         "xaxis": "x",
         "y": [
          208.88,
          209.22
         ],
         "yaxis": "y"
        },
        {
         "hoverinfo": "none",
         "line": {
          "color": "green",
          "width": 3
         },
         "mode": "lines",
         "showlegend": false,
         "type": "scatter",
         "x": [
          "2021-07-26T00:00:00",
          "2021-07-27T00:00:00"
         ],
         "xaxis": "x",
         "y": [
          209.22,
          209.45
         ],
         "yaxis": "y"
        },
        {
         "hoverinfo": "none",
         "line": {
          "color": "green",
          "width": 3
         },
         "mode": "lines",
         "showlegend": false,
         "type": "scatter",
         "x": [
          "2021-07-27T00:00:00",
          "2021-07-28T00:00:00"
         ],
         "xaxis": "x",
         "y": [
          209.45,
          209.8
         ],
         "yaxis": "y"
        },
        {
         "hoverinfo": "none",
         "line": {
          "color": "green",
          "width": 3
         },
         "mode": "lines",
         "showlegend": false,
         "type": "scatter",
         "x": [
          "2021-07-28T00:00:00",
          "2021-07-29T00:00:00"
         ],
         "xaxis": "x",
         "y": [
          209.8,
          210.16
         ],
         "yaxis": "y"
        },
        {
         "hoverinfo": "none",
         "line": {
          "color": "green",
          "width": 3
         },
         "mode": "lines",
         "showlegend": false,
         "type": "scatter",
         "x": [
          "2021-07-29T00:00:00",
          "2021-07-30T00:00:00"
         ],
         "xaxis": "x",
         "y": [
          210.16,
          210.51
         ],
         "yaxis": "y"
        },
        {
         "hoverinfo": "none",
         "line": {
          "color": "green",
          "width": 3
         },
         "mode": "lines",
         "showlegend": false,
         "type": "scatter",
         "x": [
          "2021-07-30T00:00:00",
          "2021-07-31T00:00:00"
         ],
         "xaxis": "x",
         "y": [
          210.51,
          210.86
         ],
         "yaxis": "y"
        },
        {
         "hoverinfo": "none",
         "line": {
          "color": "green",
          "width": 3
         },
         "mode": "lines",
         "showlegend": false,
         "type": "scatter",
         "x": [
          "2021-07-31T00:00:00",
          "2021-08-01T00:00:00"
         ],
         "xaxis": "x",
         "y": [
          210.86,
          211.34
         ],
         "yaxis": "y"
        },
        {
         "hoverinfo": "none",
         "line": {
          "color": "green",
          "width": 3
         },
         "mode": "lines",
         "showlegend": false,
         "type": "scatter",
         "x": [
          "2021-08-01T00:00:00",
          "2021-08-02T00:00:00"
         ],
         "xaxis": "x",
         "y": [
          211.34,
          211.87
         ],
         "yaxis": "y"
        },
        {
         "hoverinfo": "none",
         "line": {
          "color": "green",
          "width": 3
         },
         "mode": "lines",
         "showlegend": false,
         "type": "scatter",
         "x": [
          "2021-08-02T00:00:00",
          "2021-08-03T00:00:00"
         ],
         "xaxis": "x",
         "y": [
          211.87,
          212.35
         ],
         "yaxis": "y"
        },
        {
         "hoverinfo": "none",
         "line": {
          "color": "green",
          "width": 3
         },
         "mode": "lines",
         "showlegend": false,
         "type": "scatter",
         "x": [
          "2021-08-03T00:00:00",
          "2021-08-04T00:00:00"
         ],
         "xaxis": "x",
         "y": [
          212.35,
          212.83
         ],
         "yaxis": "y"
        },
        {
         "hoverinfo": "none",
         "line": {
          "color": "green",
          "width": 3
         },
         "mode": "lines",
         "showlegend": false,
         "type": "scatter",
         "x": [
          "2021-08-04T00:00:00",
          "2021-08-05T00:00:00"
         ],
         "xaxis": "x",
         "y": [
          212.83,
          213.26
         ],
         "yaxis": "y"
        },
        {
         "hoverinfo": "none",
         "line": {
          "color": "green",
          "width": 3
         },
         "mode": "lines",
         "showlegend": false,
         "type": "scatter",
         "x": [
          "2021-08-05T00:00:00",
          "2021-08-06T00:00:00"
         ],
         "xaxis": "x",
         "y": [
          213.26,
          213.62
         ],
         "yaxis": "y"
        },
        {
         "hoverinfo": "none",
         "line": {
          "color": "green",
          "width": 3
         },
         "mode": "lines",
         "showlegend": false,
         "type": "scatter",
         "x": [
          "2021-08-06T00:00:00",
          "2021-08-07T00:00:00"
         ],
         "xaxis": "x",
         "y": [
          213.62,
          214.07
         ],
         "yaxis": "y"
        },
        {
         "hoverinfo": "none",
         "line": {
          "color": "green",
          "width": 3
         },
         "mode": "lines",
         "showlegend": false,
         "type": "scatter",
         "x": [
          "2021-08-07T00:00:00",
          "2021-08-08T00:00:00"
         ],
         "xaxis": "x",
         "y": [
          214.07,
          214.47
         ],
         "yaxis": "y"
        },
        {
         "hoverinfo": "none",
         "line": {
          "color": "green",
          "width": 3
         },
         "mode": "lines",
         "showlegend": false,
         "type": "scatter",
         "x": [
          "2021-08-08T00:00:00",
          "2021-08-09T00:00:00"
         ],
         "xaxis": "x",
         "y": [
          214.47,
          214.75
         ],
         "yaxis": "y"
        },
        {
         "hoverinfo": "none",
         "line": {
          "color": "green",
          "width": 3
         },
         "mode": "lines",
         "showlegend": false,
         "type": "scatter",
         "x": [
          "2021-08-09T00:00:00",
          "2021-08-10T00:00:00"
         ],
         "xaxis": "x",
         "y": [
          214.75,
          214.79
         ],
         "yaxis": "y"
        },
        {
         "hoverinfo": "none",
         "line": {
          "color": "green",
          "width": 3
         },
         "mode": "lines",
         "showlegend": false,
         "type": "scatter",
         "x": [
          "2021-08-10T00:00:00",
          "2021-08-11T00:00:00"
         ],
         "xaxis": "x",
         "y": [
          214.79,
          214.83
         ],
         "yaxis": "y"
        },
        {
         "hoverinfo": "none",
         "line": {
          "color": "green",
          "width": 3
         },
         "mode": "lines",
         "showlegend": false,
         "type": "scatter",
         "x": [
          "2021-08-11T00:00:00",
          "2021-08-12T00:00:00"
         ],
         "xaxis": "x",
         "y": [
          214.83,
          214.86
         ],
         "yaxis": "y"
        },
        {
         "hoverinfo": "none",
         "line": {
          "color": "red",
          "width": 3
         },
         "mode": "lines",
         "showlegend": false,
         "type": "scatter",
         "x": [
          "2021-08-12T00:00:00",
          "2021-08-13T00:00:00"
         ],
         "xaxis": "x",
         "y": [
          214.86,
          214.82
         ],
         "yaxis": "y"
        },
        {
         "hoverinfo": "none",
         "line": {
          "color": "green",
          "width": 3
         },
         "mode": "lines",
         "showlegend": false,
         "type": "scatter",
         "x": [
          "2021-08-13T00:00:00",
          "2021-08-14T00:00:00"
         ],
         "xaxis": "x",
         "y": [
          214.82,
          214.84
         ],
         "yaxis": "y"
        },
        {
         "hoverinfo": "none",
         "line": {
          "color": "red",
          "width": 3
         },
         "mode": "lines",
         "showlegend": false,
         "type": "scatter",
         "x": [
          "2021-08-14T00:00:00",
          "2021-08-15T00:00:00"
         ],
         "xaxis": "x",
         "y": [
          214.84,
          214.78
         ],
         "yaxis": "y"
        },
        {
         "hoverinfo": "none",
         "line": {
          "color": "red",
          "width": 3
         },
         "mode": "lines",
         "showlegend": false,
         "type": "scatter",
         "x": [
          "2021-08-15T00:00:00",
          "2021-08-16T00:00:00"
         ],
         "xaxis": "x",
         "y": [
          214.78,
          214.66
         ],
         "yaxis": "y"
        },
        {
         "hoverinfo": "none",
         "line": {
          "color": "red",
          "width": 3
         },
         "mode": "lines",
         "showlegend": false,
         "type": "scatter",
         "x": [
          "2021-08-16T00:00:00",
          "2021-08-17T00:00:00"
         ],
         "xaxis": "x",
         "y": [
          214.66,
          214.54
         ],
         "yaxis": "y"
        },
        {
         "hoverinfo": "none",
         "line": {
          "color": "green",
          "width": 3
         },
         "mode": "lines",
         "showlegend": false,
         "type": "scatter",
         "x": [
          "2021-08-17T00:00:00",
          "2021-08-18T00:00:00"
         ],
         "xaxis": "x",
         "y": [
          214.54,
          214.54
         ],
         "yaxis": "y"
        },
        {
         "hoverinfo": "none",
         "line": {
          "color": "red",
          "width": 3
         },
         "mode": "lines",
         "showlegend": false,
         "type": "scatter",
         "x": [
          "2021-08-18T00:00:00",
          "2021-08-19T00:00:00"
         ],
         "xaxis": "x",
         "y": [
          214.54,
          214.53
         ],
         "yaxis": "y"
        },
        {
         "hoverinfo": "none",
         "line": {
          "color": "red",
          "width": 3
         },
         "mode": "lines",
         "showlegend": false,
         "type": "scatter",
         "x": [
          "2021-08-19T00:00:00",
          "2021-08-20T00:00:00"
         ],
         "xaxis": "x",
         "y": [
          214.53,
          214.51
         ],
         "yaxis": "y"
        },
        {
         "hoverinfo": "none",
         "line": {
          "color": "green",
          "width": 3
         },
         "mode": "lines",
         "showlegend": false,
         "type": "scatter",
         "x": [
          "2021-08-20T00:00:00",
          "2021-08-21T00:00:00"
         ],
         "xaxis": "x",
         "y": [
          214.51,
          214.51
         ],
         "yaxis": "y"
        },
        {
         "hoverinfo": "none",
         "line": {
          "color": "green",
          "width": 3
         },
         "mode": "lines",
         "showlegend": false,
         "type": "scatter",
         "x": [
          "2021-08-21T00:00:00",
          "2021-08-22T00:00:00"
         ],
         "xaxis": "x",
         "y": [
          214.51,
          214.63
         ],
         "yaxis": "y"
        },
        {
         "hoverinfo": "none",
         "line": {
          "color": "green",
          "width": 3
         },
         "mode": "lines",
         "showlegend": false,
         "type": "scatter",
         "x": [
          "2021-08-22T00:00:00",
          "2021-08-23T00:00:00"
         ],
         "xaxis": "x",
         "y": [
          214.63,
          214.76
         ],
         "yaxis": "y"
        },
        {
         "hoverinfo": "none",
         "line": {
          "color": "green",
          "width": 3
         },
         "mode": "lines",
         "showlegend": false,
         "type": "scatter",
         "x": [
          "2021-08-23T00:00:00",
          "2021-08-24T00:00:00"
         ],
         "xaxis": "x",
         "y": [
          214.76,
          214.88
         ],
         "yaxis": "y"
        },
        {
         "hoverinfo": "none",
         "line": {
          "color": "green",
          "width": 3
         },
         "mode": "lines",
         "showlegend": false,
         "type": "scatter",
         "x": [
          "2021-08-24T00:00:00",
          "2021-08-25T00:00:00"
         ],
         "xaxis": "x",
         "y": [
          214.88,
          215.01
         ],
         "yaxis": "y"
        },
        {
         "hoverinfo": "none",
         "line": {
          "color": "green",
          "width": 3
         },
         "mode": "lines",
         "showlegend": false,
         "type": "scatter",
         "x": [
          "2021-08-25T00:00:00",
          "2021-08-26T00:00:00"
         ],
         "xaxis": "x",
         "y": [
          215.01,
          215.13
         ],
         "yaxis": "y"
        },
        {
         "hoverinfo": "none",
         "line": {
          "color": "green",
          "width": 3
         },
         "mode": "lines",
         "showlegend": false,
         "type": "scatter",
         "x": [
          "2021-08-26T00:00:00",
          "2021-08-27T00:00:00"
         ],
         "xaxis": "x",
         "y": [
          215.13,
          215.37
         ],
         "yaxis": "y"
        },
        {
         "hoverinfo": "none",
         "line": {
          "color": "green",
          "width": 3
         },
         "mode": "lines",
         "showlegend": false,
         "type": "scatter",
         "x": [
          "2021-08-27T00:00:00",
          "2021-08-28T00:00:00"
         ],
         "xaxis": "x",
         "y": [
          215.37,
          215.59
         ],
         "yaxis": "y"
        },
        {
         "hoverinfo": "none",
         "line": {
          "color": "green",
          "width": 3
         },
         "mode": "lines",
         "showlegend": false,
         "type": "scatter",
         "x": [
          "2021-08-28T00:00:00",
          "2021-08-29T00:00:00"
         ],
         "xaxis": "x",
         "y": [
          215.59,
          215.94
         ],
         "yaxis": "y"
        },
        {
         "hoverinfo": "none",
         "line": {
          "color": "green",
          "width": 3
         },
         "mode": "lines",
         "showlegend": false,
         "type": "scatter",
         "x": [
          "2021-08-29T00:00:00",
          "2021-08-30T00:00:00"
         ],
         "xaxis": "x",
         "y": [
          215.94,
          216.16
         ],
         "yaxis": "y"
        },
        {
         "hoverinfo": "none",
         "line": {
          "color": "green",
          "width": 3
         },
         "mode": "lines",
         "showlegend": false,
         "type": "scatter",
         "x": [
          "2021-08-30T00:00:00",
          "2021-08-31T00:00:00"
         ],
         "xaxis": "x",
         "y": [
          216.16,
          216.37
         ],
         "yaxis": "y"
        },
        {
         "hoverinfo": "none",
         "line": {
          "color": "green",
          "width": 3
         },
         "mode": "lines",
         "showlegend": false,
         "type": "scatter",
         "x": [
          "2021-08-31T00:00:00",
          "2021-09-01T00:00:00"
         ],
         "xaxis": "x",
         "y": [
          216.37,
          216.58
         ],
         "yaxis": "y"
        },
        {
         "hoverinfo": "none",
         "line": {
          "color": "green",
          "width": 3
         },
         "mode": "lines",
         "showlegend": false,
         "type": "scatter",
         "x": [
          "2021-09-01T00:00:00",
          "2021-09-02T00:00:00"
         ],
         "xaxis": "x",
         "y": [
          216.58,
          216.77
         ],
         "yaxis": "y"
        },
        {
         "hoverinfo": "none",
         "line": {
          "color": "green",
          "width": 3
         },
         "mode": "lines",
         "showlegend": false,
         "type": "scatter",
         "x": [
          "2021-09-02T00:00:00",
          "2021-09-03T00:00:00"
         ],
         "xaxis": "x",
         "y": [
          216.77,
          216.97
         ],
         "yaxis": "y"
        },
        {
         "hoverinfo": "none",
         "line": {
          "color": "green",
          "width": 3
         },
         "mode": "lines",
         "showlegend": false,
         "type": "scatter",
         "x": [
          "2021-09-03T00:00:00",
          "2021-09-04T00:00:00"
         ],
         "xaxis": "x",
         "y": [
          216.97,
          217.05
         ],
         "yaxis": "y"
        },
        {
         "hoverinfo": "none",
         "line": {
          "color": "green",
          "width": 3
         },
         "mode": "lines",
         "showlegend": false,
         "type": "scatter",
         "x": [
          "2021-09-04T00:00:00",
          "2021-09-05T00:00:00"
         ],
         "xaxis": "x",
         "y": [
          217.05,
          217.14
         ],
         "yaxis": "y"
        },
        {
         "hoverinfo": "none",
         "line": {
          "color": "red",
          "width": 3
         },
         "mode": "lines",
         "showlegend": false,
         "type": "scatter",
         "x": [
          "2021-09-05T00:00:00",
          "2021-09-06T00:00:00"
         ],
         "xaxis": "x",
         "y": [
          217.14,
          217.11
         ],
         "yaxis": "y"
        },
        {
         "hoverinfo": "none",
         "line": {
          "color": "red",
          "width": 3
         },
         "mode": "lines",
         "showlegend": false,
         "type": "scatter",
         "x": [
          "2021-09-06T00:00:00",
          "2021-09-07T00:00:00"
         ],
         "xaxis": "x",
         "y": [
          217.11,
          217.08
         ],
         "yaxis": "y"
        },
        {
         "hoverinfo": "none",
         "line": {
          "color": "red",
          "width": 3
         },
         "mode": "lines",
         "showlegend": false,
         "type": "scatter",
         "x": [
          "2021-09-07T00:00:00",
          "2021-09-08T00:00:00"
         ],
         "xaxis": "x",
         "y": [
          217.08,
          217.04
         ],
         "yaxis": "y"
        },
        {
         "hoverinfo": "none",
         "line": {
          "color": "red",
          "width": 3
         },
         "mode": "lines",
         "showlegend": false,
         "type": "scatter",
         "x": [
          "2021-09-08T00:00:00",
          "2021-09-09T00:00:00"
         ],
         "xaxis": "x",
         "y": [
          217.04,
          216.99
         ],
         "yaxis": "y"
        },
        {
         "hoverinfo": "none",
         "line": {
          "color": "red",
          "width": 3
         },
         "mode": "lines",
         "showlegend": false,
         "type": "scatter",
         "x": [
          "2021-09-09T00:00:00",
          "2021-09-10T00:00:00"
         ],
         "xaxis": "x",
         "y": [
          216.99,
          216.95
         ],
         "yaxis": "y"
        },
        {
         "hoverinfo": "none",
         "line": {
          "color": "red",
          "width": 3
         },
         "mode": "lines",
         "showlegend": false,
         "type": "scatter",
         "x": [
          "2021-09-10T00:00:00",
          "2021-09-11T00:00:00"
         ],
         "xaxis": "x",
         "y": [
          216.95,
          216.92
         ],
         "yaxis": "y"
        },
        {
         "hoverinfo": "none",
         "line": {
          "color": "green",
          "width": 3
         },
         "mode": "lines",
         "showlegend": false,
         "type": "scatter",
         "x": [
          "2021-09-11T00:00:00",
          "2021-09-12T00:00:00"
         ],
         "xaxis": "x",
         "y": [
          216.92,
          217.01
         ],
         "yaxis": "y"
        },
        {
         "hoverinfo": "none",
         "line": {
          "color": "green",
          "width": 3
         },
         "mode": "lines",
         "showlegend": false,
         "type": "scatter",
         "x": [
          "2021-09-12T00:00:00",
          "2021-09-13T00:00:00"
         ],
         "xaxis": "x",
         "y": [
          217.01,
          217.1
         ],
         "yaxis": "y"
        },
        {
         "hoverinfo": "none",
         "line": {
          "color": "green",
          "width": 3
         },
         "mode": "lines",
         "showlegend": false,
         "type": "scatter",
         "x": [
          "2021-09-13T00:00:00",
          "2021-09-14T00:00:00"
         ],
         "xaxis": "x",
         "y": [
          217.1,
          217.33
         ],
         "yaxis": "y"
        },
        {
         "hoverinfo": "none",
         "line": {
          "color": "green",
          "width": 3
         },
         "mode": "lines",
         "showlegend": false,
         "type": "scatter",
         "x": [
          "2021-09-14T00:00:00",
          "2021-09-15T00:00:00"
         ],
         "xaxis": "x",
         "y": [
          217.33,
          217.45
         ],
         "yaxis": "y"
        },
        {
         "hoverinfo": "none",
         "line": {
          "color": "green",
          "width": 3
         },
         "mode": "lines",
         "showlegend": false,
         "type": "scatter",
         "x": [
          "2021-09-15T00:00:00",
          "2021-09-16T00:00:00"
         ],
         "xaxis": "x",
         "y": [
          217.45,
          217.67
         ],
         "yaxis": "y"
        },
        {
         "hoverinfo": "none",
         "line": {
          "color": "green",
          "width": 3
         },
         "mode": "lines",
         "showlegend": false,
         "type": "scatter",
         "x": [
          "2021-09-16T00:00:00",
          "2021-09-17T00:00:00"
         ],
         "xaxis": "x",
         "y": [
          217.67,
          217.81
         ],
         "yaxis": "y"
        },
        {
         "hoverinfo": "none",
         "line": {
          "color": "green",
          "width": 3
         },
         "mode": "lines",
         "showlegend": false,
         "type": "scatter",
         "x": [
          "2021-09-17T00:00:00",
          "2021-09-18T00:00:00"
         ],
         "xaxis": "x",
         "y": [
          217.81,
          217.95
         ],
         "yaxis": "y"
        },
        {
         "hoverinfo": "none",
         "line": {
          "color": "green",
          "width": 3
         },
         "mode": "lines",
         "showlegend": false,
         "type": "scatter",
         "x": [
          "2021-09-18T00:00:00",
          "2021-09-19T00:00:00"
         ],
         "xaxis": "x",
         "y": [
          217.95,
          218.1
         ],
         "yaxis": "y"
        },
        {
         "hoverinfo": "none",
         "line": {
          "color": "green",
          "width": 3
         },
         "mode": "lines",
         "showlegend": false,
         "type": "scatter",
         "x": [
          "2021-09-19T00:00:00",
          "2021-09-20T00:00:00"
         ],
         "xaxis": "x",
         "y": [
          218.1,
          218.12
         ],
         "yaxis": "y"
        },
        {
         "hoverinfo": "none",
         "line": {
          "color": "green",
          "width": 3
         },
         "mode": "lines",
         "showlegend": false,
         "type": "scatter",
         "x": [
          "2021-09-20T00:00:00",
          "2021-09-21T00:00:00"
         ],
         "xaxis": "x",
         "y": [
          218.12,
          218.26
         ],
         "yaxis": "y"
        },
        {
         "hoverinfo": "none",
         "line": {
          "color": "green",
          "width": 3
         },
         "mode": "lines",
         "showlegend": false,
         "type": "scatter",
         "x": [
          "2021-09-21T00:00:00",
          "2021-09-22T00:00:00"
         ],
         "xaxis": "x",
         "y": [
          218.26,
          218.27
         ],
         "yaxis": "y"
        },
        {
         "hoverinfo": "none",
         "line": {
          "color": "green",
          "width": 3
         },
         "mode": "lines",
         "showlegend": false,
         "type": "scatter",
         "x": [
          "2021-09-22T00:00:00",
          "2021-09-23T00:00:00"
         ],
         "xaxis": "x",
         "y": [
          218.27,
          218.39
         ],
         "yaxis": "y"
        },
        {
         "hoverinfo": "none",
         "line": {
          "color": "green",
          "width": 3
         },
         "mode": "lines",
         "showlegend": false,
         "type": "scatter",
         "x": [
          "2021-09-23T00:00:00",
          "2021-09-24T00:00:00"
         ],
         "xaxis": "x",
         "y": [
          218.39,
          218.42
         ],
         "yaxis": "y"
        },
        {
         "hoverinfo": "none",
         "line": {
          "color": "green",
          "width": 3
         },
         "mode": "lines",
         "showlegend": false,
         "type": "scatter",
         "x": [
          "2021-09-24T00:00:00",
          "2021-09-25T00:00:00"
         ],
         "xaxis": "x",
         "y": [
          218.42,
          218.54
         ],
         "yaxis": "y"
        },
        {
         "hoverinfo": "none",
         "line": {
          "color": "green",
          "width": 3
         },
         "mode": "lines",
         "showlegend": false,
         "type": "scatter",
         "x": [
          "2021-09-25T00:00:00",
          "2021-09-26T00:00:00"
         ],
         "xaxis": "x",
         "y": [
          218.54,
          218.66
         ],
         "yaxis": "y"
        },
        {
         "hoverinfo": "none",
         "line": {
          "color": "green",
          "width": 3
         },
         "mode": "lines",
         "showlegend": false,
         "type": "scatter",
         "x": [
          "2021-09-26T00:00:00",
          "2021-09-27T00:00:00"
         ],
         "xaxis": "x",
         "y": [
          218.66,
          218.77
         ],
         "yaxis": "y"
        },
        {
         "hoverinfo": "none",
         "line": {
          "color": "green",
          "width": 3
         },
         "mode": "lines",
         "showlegend": false,
         "type": "scatter",
         "x": [
          "2021-09-27T00:00:00",
          "2021-09-28T00:00:00"
         ],
         "xaxis": "x",
         "y": [
          218.77,
          218.88
         ],
         "yaxis": "y"
        },
        {
         "hoverinfo": "none",
         "line": {
          "color": "green",
          "width": 3
         },
         "mode": "lines",
         "showlegend": false,
         "type": "scatter",
         "x": [
          "2021-09-28T00:00:00",
          "2021-09-29T00:00:00"
         ],
         "xaxis": "x",
         "y": [
          218.88,
          218.88
         ],
         "yaxis": "y"
        },
        {
         "hoverinfo": "none",
         "line": {
          "color": "green",
          "width": 3
         },
         "mode": "lines",
         "showlegend": false,
         "type": "scatter",
         "x": [
          "2021-09-29T00:00:00",
          "2021-09-30T00:00:00"
         ],
         "xaxis": "x",
         "y": [
          218.88,
          218.88
         ],
         "yaxis": "y"
        },
        {
         "hoverinfo": "none",
         "line": {
          "color": "green",
          "width": 3
         },
         "mode": "lines",
         "showlegend": false,
         "type": "scatter",
         "x": [
          "2021-09-30T00:00:00",
          "2021-10-01T00:00:00"
         ],
         "xaxis": "x",
         "y": [
          218.88,
          218.88
         ],
         "yaxis": "y"
        },
        {
         "hoverinfo": "none",
         "line": {
          "color": "red",
          "width": 3
         },
         "mode": "lines",
         "showlegend": false,
         "type": "scatter",
         "x": [
          "2021-10-01T00:00:00",
          "2021-10-02T00:00:00"
         ],
         "xaxis": "x",
         "y": [
          218.88,
          218.76
         ],
         "yaxis": "y"
        },
        {
         "hoverinfo": "none",
         "line": {
          "color": "red",
          "width": 3
         },
         "mode": "lines",
         "showlegend": false,
         "type": "scatter",
         "x": [
          "2021-10-02T00:00:00",
          "2021-10-03T00:00:00"
         ],
         "xaxis": "x",
         "y": [
          218.76,
          218.6
         ],
         "yaxis": "y"
        },
        {
         "hoverinfo": "none",
         "line": {
          "color": "red",
          "width": 3
         },
         "mode": "lines",
         "showlegend": false,
         "type": "scatter",
         "x": [
          "2021-10-03T00:00:00",
          "2021-10-04T00:00:00"
         ],
         "xaxis": "x",
         "y": [
          218.6,
          218.36
         ],
         "yaxis": "y"
        },
        {
         "hoverinfo": "none",
         "line": {
          "color": "red",
          "width": 3
         },
         "mode": "lines",
         "showlegend": false,
         "type": "scatter",
         "x": [
          "2021-10-04T00:00:00",
          "2021-10-05T00:00:00"
         ],
         "xaxis": "x",
         "y": [
          218.36,
          218.12
         ],
         "yaxis": "y"
        },
        {
         "hoverinfo": "none",
         "line": {
          "color": "green",
          "width": 3
         },
         "mode": "lines",
         "showlegend": false,
         "type": "scatter",
         "x": [
          "2021-10-05T00:00:00",
          "2021-10-06T00:00:00"
         ],
         "xaxis": "x",
         "y": [
          218.12,
          218.12
         ],
         "yaxis": "y"
        },
        {
         "hoverinfo": "none",
         "line": {
          "color": "red",
          "width": 3
         },
         "mode": "lines",
         "showlegend": false,
         "type": "scatter",
         "x": [
          "2021-10-06T00:00:00",
          "2021-10-07T00:00:00"
         ],
         "xaxis": "x",
         "y": [
          218.12,
          218.05
         ],
         "yaxis": "y"
        },
        {
         "hoverinfo": "none",
         "line": {
          "color": "red",
          "width": 3
         },
         "mode": "lines",
         "showlegend": false,
         "type": "scatter",
         "x": [
          "2021-10-07T00:00:00",
          "2021-10-08T00:00:00"
         ],
         "xaxis": "x",
         "y": [
          218.05,
          217.93
         ],
         "yaxis": "y"
        },
        {
         "hoverinfo": "none",
         "line": {
          "color": "red",
          "width": 3
         },
         "mode": "lines",
         "showlegend": false,
         "type": "scatter",
         "x": [
          "2021-10-08T00:00:00",
          "2021-10-09T00:00:00"
         ],
         "xaxis": "x",
         "y": [
          217.93,
          217.81
         ],
         "yaxis": "y"
        },
        {
         "hoverinfo": "none",
         "line": {
          "color": "green",
          "width": 3
         },
         "mode": "lines",
         "showlegend": false,
         "type": "scatter",
         "x": [
          "2021-10-09T00:00:00",
          "2021-10-10T00:00:00"
         ],
         "xaxis": "x",
         "y": [
          217.81,
          217.82
         ],
         "yaxis": "y"
        },
        {
         "hoverinfo": "none",
         "line": {
          "color": "green",
          "width": 3
         },
         "mode": "lines",
         "showlegend": false,
         "type": "scatter",
         "x": [
          "2021-10-10T00:00:00",
          "2021-10-11T00:00:00"
         ],
         "xaxis": "x",
         "y": [
          217.82,
          217.87
         ],
         "yaxis": "y"
        },
        {
         "hoverinfo": "none",
         "line": {
          "color": "green",
          "width": 3
         },
         "mode": "lines",
         "showlegend": false,
         "type": "scatter",
         "x": [
          "2021-10-11T00:00:00",
          "2021-10-12T00:00:00"
         ],
         "xaxis": "x",
         "y": [
          217.87,
          218.11
         ],
         "yaxis": "y"
        },
        {
         "hoverinfo": "none",
         "line": {
          "color": "green",
          "width": 3
         },
         "mode": "lines",
         "showlegend": false,
         "type": "scatter",
         "x": [
          "2021-10-12T00:00:00",
          "2021-10-13T00:00:00"
         ],
         "xaxis": "x",
         "y": [
          218.11,
          218.36
         ],
         "yaxis": "y"
        },
        {
         "hoverinfo": "none",
         "line": {
          "color": "green",
          "width": 3
         },
         "mode": "lines",
         "showlegend": false,
         "type": "scatter",
         "x": [
          "2021-10-13T00:00:00",
          "2021-10-14T00:00:00"
         ],
         "xaxis": "x",
         "y": [
          218.36,
          218.37
         ],
         "yaxis": "y"
        },
        {
         "hoverinfo": "none",
         "line": {
          "color": "green",
          "width": 3
         },
         "mode": "lines",
         "showlegend": false,
         "type": "scatter",
         "x": [
          "2021-10-14T00:00:00",
          "2021-10-15T00:00:00"
         ],
         "xaxis": "x",
         "y": [
          218.37,
          218.45
         ],
         "yaxis": "y"
        },
        {
         "hoverinfo": "none",
         "line": {
          "color": "green",
          "width": 3
         },
         "mode": "lines",
         "showlegend": false,
         "type": "scatter",
         "x": [
          "2021-10-15T00:00:00",
          "2021-10-16T00:00:00"
         ],
         "xaxis": "x",
         "y": [
          218.45,
          218.57
         ],
         "yaxis": "y"
        },
        {
         "hoverinfo": "none",
         "line": {
          "color": "green",
          "width": 3
         },
         "mode": "lines",
         "showlegend": false,
         "type": "scatter",
         "x": [
          "2021-10-16T00:00:00",
          "2021-10-17T00:00:00"
         ],
         "xaxis": "x",
         "y": [
          218.57,
          218.7
         ],
         "yaxis": "y"
        },
        {
         "hoverinfo": "none",
         "line": {
          "color": "green",
          "width": 3
         },
         "mode": "lines",
         "showlegend": false,
         "type": "scatter",
         "x": [
          "2021-10-17T00:00:00",
          "2021-10-18T00:00:00"
         ],
         "xaxis": "x",
         "y": [
          218.7,
          218.94
         ],
         "yaxis": "y"
        },
        {
         "hoverinfo": "none",
         "line": {
          "color": "green",
          "width": 3
         },
         "mode": "lines",
         "showlegend": false,
         "type": "scatter",
         "x": [
          "2021-10-18T00:00:00",
          "2021-10-19T00:00:00"
         ],
         "xaxis": "x",
         "y": [
          218.94,
          219.07
         ],
         "yaxis": "y"
        },
        {
         "hoverinfo": "none",
         "line": {
          "color": "green",
          "width": 3
         },
         "mode": "lines",
         "showlegend": false,
         "type": "scatter",
         "x": [
          "2021-10-19T00:00:00",
          "2021-10-20T00:00:00"
         ],
         "xaxis": "x",
         "y": [
          219.07,
          219.08
         ],
         "yaxis": "y"
        },
        {
         "hoverinfo": "none",
         "line": {
          "color": "green",
          "width": 3
         },
         "mode": "lines",
         "showlegend": false,
         "type": "scatter",
         "x": [
          "2021-10-20T00:00:00",
          "2021-10-21T00:00:00"
         ],
         "xaxis": "x",
         "y": [
          219.08,
          219.08
         ],
         "yaxis": "y"
        },
        {
         "hoverinfo": "none",
         "line": {
          "color": "green",
          "width": 3
         },
         "mode": "lines",
         "showlegend": false,
         "type": "scatter",
         "x": [
          "2021-10-21T00:00:00",
          "2021-10-22T00:00:00"
         ],
         "xaxis": "x",
         "y": [
          219.08,
          219.2
         ],
         "yaxis": "y"
        },
        {
         "hoverinfo": "none",
         "line": {
          "color": "green",
          "width": 3
         },
         "mode": "lines",
         "showlegend": false,
         "type": "scatter",
         "x": [
          "2021-10-22T00:00:00",
          "2021-10-23T00:00:00"
         ],
         "xaxis": "x",
         "y": [
          219.2,
          219.31
         ],
         "yaxis": "y"
        },
        {
         "hoverinfo": "none",
         "line": {
          "color": "green",
          "width": 3
         },
         "mode": "lines",
         "showlegend": false,
         "type": "scatter",
         "x": [
          "2021-10-23T00:00:00",
          "2021-10-24T00:00:00"
         ],
         "xaxis": "x",
         "y": [
          219.31,
          219.42
         ],
         "yaxis": "y"
        },
        {
         "hoverinfo": "none",
         "line": {
          "color": "green",
          "width": 3
         },
         "mode": "lines",
         "showlegend": false,
         "type": "scatter",
         "x": [
          "2021-10-24T00:00:00",
          "2021-10-25T00:00:00"
         ],
         "xaxis": "x",
         "y": [
          219.42,
          219.53
         ],
         "yaxis": "y"
        },
        {
         "hoverinfo": "none",
         "line": {
          "color": "green",
          "width": 3
         },
         "mode": "lines",
         "showlegend": false,
         "type": "scatter",
         "x": [
          "2021-10-25T00:00:00",
          "2021-10-26T00:00:00"
         ],
         "xaxis": "x",
         "y": [
          219.53,
          219.53
         ],
         "yaxis": "y"
        },
        {
         "hoverinfo": "none",
         "line": {
          "color": "green",
          "width": 3
         },
         "mode": "lines",
         "showlegend": false,
         "type": "scatter",
         "x": [
          "2021-10-26T00:00:00",
          "2021-10-27T00:00:00"
         ],
         "xaxis": "x",
         "y": [
          219.53,
          219.65
         ],
         "yaxis": "y"
        },
        {
         "hoverinfo": "none",
         "line": {
          "color": "green",
          "width": 3
         },
         "mode": "lines",
         "showlegend": false,
         "type": "scatter",
         "x": [
          "2021-10-27T00:00:00",
          "2021-10-28T00:00:00"
         ],
         "xaxis": "x",
         "y": [
          219.65,
          219.89
         ],
         "yaxis": "y"
        },
        {
         "hoverinfo": "none",
         "line": {
          "color": "green",
          "width": 3
         },
         "mode": "lines",
         "showlegend": false,
         "type": "scatter",
         "x": [
          "2021-10-28T00:00:00",
          "2021-10-29T00:00:00"
         ],
         "xaxis": "x",
         "y": [
          219.89,
          220.01
         ],
         "yaxis": "y"
        },
        {
         "hoverinfo": "none",
         "line": {
          "color": "green",
          "width": 3
         },
         "mode": "lines",
         "showlegend": false,
         "type": "scatter",
         "x": [
          "2021-10-29T00:00:00",
          "2021-10-30T00:00:00"
         ],
         "xaxis": "x",
         "y": [
          220.01,
          220.02
         ],
         "yaxis": "y"
        },
        {
         "hoverinfo": "none",
         "line": {
          "color": "green",
          "width": 3
         },
         "mode": "lines",
         "showlegend": false,
         "type": "scatter",
         "x": [
          "2021-10-30T00:00:00",
          "2021-10-31T00:00:00"
         ],
         "xaxis": "x",
         "y": [
          220.02,
          220.04
         ],
         "yaxis": "y"
        },
        {
         "hoverinfo": "none",
         "line": {
          "color": "green",
          "width": 3
         },
         "mode": "lines",
         "showlegend": false,
         "type": "scatter",
         "x": [
          "2021-10-31T00:00:00",
          "2021-11-01T00:00:00"
         ],
         "xaxis": "x",
         "y": [
          220.04,
          220.18
         ],
         "yaxis": "y"
        },
        {
         "hoverinfo": "none",
         "line": {
          "color": "green",
          "width": 3
         },
         "mode": "lines",
         "showlegend": false,
         "type": "scatter",
         "x": [
          "2021-11-01T00:00:00",
          "2021-11-02T00:00:00"
         ],
         "xaxis": "x",
         "y": [
          220.18,
          220.32
         ],
         "yaxis": "y"
        },
        {
         "hoverinfo": "none",
         "line": {
          "color": "green",
          "width": 3
         },
         "mode": "lines",
         "showlegend": false,
         "type": "scatter",
         "x": [
          "2021-11-02T00:00:00",
          "2021-11-03T00:00:00"
         ],
         "xaxis": "x",
         "y": [
          220.32,
          220.46
         ],
         "yaxis": "y"
        },
        {
         "hoverinfo": "none",
         "line": {
          "color": "green",
          "width": 3
         },
         "mode": "lines",
         "showlegend": false,
         "type": "scatter",
         "x": [
          "2021-11-03T00:00:00",
          "2021-11-04T00:00:00"
         ],
         "xaxis": "x",
         "y": [
          220.46,
          220.61
         ],
         "yaxis": "y"
        },
        {
         "hoverinfo": "none",
         "line": {
          "color": "green",
          "width": 3
         },
         "mode": "lines",
         "showlegend": false,
         "type": "scatter",
         "x": [
          "2021-11-04T00:00:00",
          "2021-11-05T00:00:00"
         ],
         "xaxis": "x",
         "y": [
          220.61,
          220.64
         ],
         "yaxis": "y"
        },
        {
         "hoverinfo": "none",
         "line": {
          "color": "green",
          "width": 3
         },
         "mode": "lines",
         "showlegend": false,
         "type": "scatter",
         "x": [
          "2021-11-05T00:00:00",
          "2021-11-06T00:00:00"
         ],
         "xaxis": "x",
         "y": [
          220.64,
          220.79
         ],
         "yaxis": "y"
        },
        {
         "hoverinfo": "none",
         "line": {
          "color": "green",
          "width": 3
         },
         "mode": "lines",
         "showlegend": false,
         "type": "scatter",
         "x": [
          "2021-11-06T00:00:00",
          "2021-11-07T00:00:00"
         ],
         "xaxis": "x",
         "y": [
          220.79,
          221.05
         ],
         "yaxis": "y"
        },
        {
         "hoverinfo": "none",
         "line": {
          "color": "green",
          "width": 3
         },
         "mode": "lines",
         "showlegend": false,
         "type": "scatter",
         "x": [
          "2021-11-07T00:00:00",
          "2021-11-08T00:00:00"
         ],
         "xaxis": "x",
         "y": [
          221.05,
          221.33
         ],
         "yaxis": "y"
        },
        {
         "hoverinfo": "none",
         "line": {
          "color": "green",
          "width": 3
         },
         "mode": "lines",
         "showlegend": false,
         "type": "scatter",
         "x": [
          "2021-11-08T00:00:00",
          "2021-11-09T00:00:00"
         ],
         "xaxis": "x",
         "y": [
          221.33,
          221.48
         ],
         "yaxis": "y"
        },
        {
         "hoverinfo": "none",
         "line": {
          "color": "green",
          "width": 3
         },
         "mode": "lines",
         "showlegend": false,
         "type": "scatter",
         "x": [
          "2021-11-09T00:00:00",
          "2021-11-10T00:00:00"
         ],
         "xaxis": "x",
         "y": [
          221.48,
          221.63
         ],
         "yaxis": "y"
        },
        {
         "hoverinfo": "none",
         "line": {
          "color": "green",
          "width": 3
         },
         "mode": "lines",
         "showlegend": false,
         "type": "scatter",
         "x": [
          "2021-11-10T00:00:00",
          "2021-11-11T00:00:00"
         ],
         "xaxis": "x",
         "y": [
          221.63,
          221.78
         ],
         "yaxis": "y"
        },
        {
         "hoverinfo": "none",
         "line": {
          "color": "green",
          "width": 3
         },
         "mode": "lines",
         "showlegend": false,
         "type": "scatter",
         "x": [
          "2021-11-11T00:00:00",
          "2021-11-12T00:00:00"
         ],
         "xaxis": "x",
         "y": [
          221.78,
          221.93
         ],
         "yaxis": "y"
        },
        {
         "hoverinfo": "none",
         "line": {
          "color": "green",
          "width": 3
         },
         "mode": "lines",
         "showlegend": false,
         "type": "scatter",
         "x": [
          "2021-11-12T00:00:00",
          "2021-11-13T00:00:00"
         ],
         "xaxis": "x",
         "y": [
          221.93,
          222.06
         ],
         "yaxis": "y"
        },
        {
         "hoverinfo": "none",
         "line": {
          "color": "green",
          "width": 3
         },
         "mode": "lines",
         "showlegend": false,
         "type": "scatter",
         "x": [
          "2021-11-13T00:00:00",
          "2021-11-14T00:00:00"
         ],
         "xaxis": "x",
         "y": [
          222.06,
          222.19
         ],
         "yaxis": "y"
        },
        {
         "hoverinfo": "none",
         "line": {
          "color": "green",
          "width": 3
         },
         "mode": "lines",
         "showlegend": false,
         "type": "scatter",
         "x": [
          "2021-11-14T00:00:00",
          "2021-11-15T00:00:00"
         ],
         "xaxis": "x",
         "y": [
          222.19,
          222.19
         ],
         "yaxis": "y"
        },
        {
         "hoverinfo": "none",
         "line": {
          "color": "green",
          "width": 3
         },
         "mode": "lines",
         "showlegend": false,
         "type": "scatter",
         "x": [
          "2021-11-15T00:00:00",
          "2021-11-16T00:00:00"
         ],
         "xaxis": "x",
         "y": [
          222.19,
          222.26
         ],
         "yaxis": "y"
        },
        {
         "hoverinfo": "none",
         "line": {
          "color": "green",
          "width": 3
         },
         "mode": "lines",
         "showlegend": false,
         "type": "scatter",
         "x": [
          "2021-11-16T00:00:00",
          "2021-11-17T00:00:00"
         ],
         "xaxis": "x",
         "y": [
          222.26,
          222.39
         ],
         "yaxis": "y"
        },
        {
         "hoverinfo": "none",
         "line": {
          "color": "green",
          "width": 3
         },
         "mode": "lines",
         "showlegend": false,
         "type": "scatter",
         "x": [
          "2021-11-17T00:00:00",
          "2021-11-18T00:00:00"
         ],
         "xaxis": "x",
         "y": [
          222.39,
          222.51
         ],
         "yaxis": "y"
        },
        {
         "hoverinfo": "none",
         "line": {
          "color": "green",
          "width": 3
         },
         "mode": "lines",
         "showlegend": false,
         "type": "scatter",
         "x": [
          "2021-11-18T00:00:00",
          "2021-11-19T00:00:00"
         ],
         "xaxis": "x",
         "y": [
          222.51,
          222.62
         ],
         "yaxis": "y"
        },
        {
         "hoverinfo": "none",
         "line": {
          "color": "green",
          "width": 3
         },
         "mode": "lines",
         "showlegend": false,
         "type": "scatter",
         "x": [
          "2021-11-19T00:00:00",
          "2021-11-20T00:00:00"
         ],
         "xaxis": "x",
         "y": [
          222.62,
          222.74
         ],
         "yaxis": "y"
        },
        {
         "hoverinfo": "none",
         "line": {
          "color": "green",
          "width": 3
         },
         "mode": "lines",
         "showlegend": false,
         "type": "scatter",
         "x": [
          "2021-11-20T00:00:00",
          "2021-11-21T00:00:00"
         ],
         "xaxis": "x",
         "y": [
          222.74,
          222.86
         ],
         "yaxis": "y"
        },
        {
         "hoverinfo": "none",
         "line": {
          "color": "green",
          "width": 3
         },
         "mode": "lines",
         "showlegend": false,
         "type": "scatter",
         "x": [
          "2021-11-21T00:00:00",
          "2021-11-22T00:00:00"
         ],
         "xaxis": "x",
         "y": [
          222.86,
          222.98
         ],
         "yaxis": "y"
        },
        {
         "hoverinfo": "none",
         "line": {
          "color": "green",
          "width": 3
         },
         "mode": "lines",
         "showlegend": false,
         "type": "scatter",
         "x": [
          "2021-11-22T00:00:00",
          "2021-11-23T00:00:00"
         ],
         "xaxis": "x",
         "y": [
          222.98,
          223.35
         ],
         "yaxis": "y"
        },
        {
         "hoverinfo": "none",
         "line": {
          "color": "green",
          "width": 3
         },
         "mode": "lines",
         "showlegend": false,
         "type": "scatter",
         "x": [
          "2021-11-23T00:00:00",
          "2021-11-24T00:00:00"
         ],
         "xaxis": "x",
         "y": [
          223.35,
          223.68
         ],
         "yaxis": "y"
        },
        {
         "hoverinfo": "none",
         "line": {
          "color": "green",
          "width": 3
         },
         "mode": "lines",
         "showlegend": false,
         "type": "scatter",
         "x": [
          "2021-11-24T00:00:00",
          "2021-11-25T00:00:00"
         ],
         "xaxis": "x",
         "y": [
          223.68,
          223.93
         ],
         "yaxis": "y"
        },
        {
         "hoverinfo": "none",
         "line": {
          "color": "green",
          "width": 3
         },
         "mode": "lines",
         "showlegend": false,
         "type": "scatter",
         "x": [
          "2021-11-25T00:00:00",
          "2021-11-26T00:00:00"
         ],
         "xaxis": "x",
         "y": [
          223.93,
          224.19
         ],
         "yaxis": "y"
        },
        {
         "hoverinfo": "none",
         "line": {
          "color": "green",
          "width": 3
         },
         "mode": "lines",
         "showlegend": false,
         "type": "scatter",
         "x": [
          "2021-11-26T00:00:00",
          "2021-11-27T00:00:00"
         ],
         "xaxis": "x",
         "y": [
          224.19,
          224.46
         ],
         "yaxis": "y"
        },
        {
         "hoverinfo": "none",
         "line": {
          "color": "green",
          "width": 3
         },
         "mode": "lines",
         "showlegend": false,
         "type": "scatter",
         "x": [
          "2021-11-27T00:00:00",
          "2021-11-28T00:00:00"
         ],
         "xaxis": "x",
         "y": [
          224.46,
          224.72
         ],
         "yaxis": "y"
        },
        {
         "hoverinfo": "none",
         "line": {
          "color": "green",
          "width": 3
         },
         "mode": "lines",
         "showlegend": false,
         "type": "scatter",
         "x": [
          "2021-11-28T00:00:00",
          "2021-11-29T00:00:00"
         ],
         "xaxis": "x",
         "y": [
          224.72,
          224.98
         ],
         "yaxis": "y"
        },
        {
         "hoverinfo": "none",
         "line": {
          "color": "green",
          "width": 3
         },
         "mode": "lines",
         "showlegend": false,
         "type": "scatter",
         "x": [
          "2021-11-29T00:00:00",
          "2021-11-30T00:00:00"
         ],
         "xaxis": "x",
         "y": [
          224.98,
          225.24
         ],
         "yaxis": "y"
        },
        {
         "hoverinfo": "none",
         "line": {
          "color": "green",
          "width": 3
         },
         "mode": "lines",
         "showlegend": false,
         "type": "scatter",
         "x": [
          "2021-11-30T00:00:00",
          "2021-12-01T00:00:00"
         ],
         "xaxis": "x",
         "y": [
          225.24,
          225.25
         ],
         "yaxis": "y"
        },
        {
         "hoverinfo": "none",
         "line": {
          "color": "green",
          "width": 3
         },
         "mode": "lines",
         "showlegend": false,
         "type": "scatter",
         "x": [
          "2021-12-01T00:00:00",
          "2021-12-02T00:00:00"
         ],
         "xaxis": "x",
         "y": [
          225.25,
          225.25
         ],
         "yaxis": "y"
        },
        {
         "hoverinfo": "none",
         "line": {
          "color": "green",
          "width": 3
         },
         "mode": "lines",
         "showlegend": false,
         "type": "scatter",
         "x": [
          "2021-12-02T00:00:00",
          "2021-12-03T00:00:00"
         ],
         "xaxis": "x",
         "y": [
          225.25,
          225.37
         ],
         "yaxis": "y"
        },
        {
         "hoverinfo": "none",
         "line": {
          "color": "green",
          "width": 3
         },
         "mode": "lines",
         "showlegend": false,
         "type": "scatter",
         "x": [
          "2021-12-03T00:00:00",
          "2021-12-04T00:00:00"
         ],
         "xaxis": "x",
         "y": [
          225.37,
          225.61
         ],
         "yaxis": "y"
        },
        {
         "hoverinfo": "none",
         "line": {
          "color": "green",
          "width": 3
         },
         "mode": "lines",
         "showlegend": false,
         "type": "scatter",
         "x": [
          "2021-12-04T00:00:00",
          "2021-12-05T00:00:00"
         ],
         "xaxis": "x",
         "y": [
          225.61,
          225.84
         ],
         "yaxis": "y"
        },
        {
         "hoverinfo": "none",
         "line": {
          "color": "green",
          "width": 3
         },
         "mode": "lines",
         "showlegend": false,
         "type": "scatter",
         "x": [
          "2021-12-05T00:00:00",
          "2021-12-06T00:00:00"
         ],
         "xaxis": "x",
         "y": [
          225.84,
          226.08
         ],
         "yaxis": "y"
        },
        {
         "hoverinfo": "none",
         "line": {
          "color": "green",
          "width": 3
         },
         "mode": "lines",
         "showlegend": false,
         "type": "scatter",
         "x": [
          "2021-12-06T00:00:00",
          "2021-12-07T00:00:00"
         ],
         "xaxis": "x",
         "y": [
          226.08,
          226.32
         ],
         "yaxis": "y"
        },
        {
         "hoverinfo": "none",
         "line": {
          "color": "green",
          "width": 3
         },
         "mode": "lines",
         "showlegend": false,
         "type": "scatter",
         "x": [
          "2021-12-07T00:00:00",
          "2021-12-08T00:00:00"
         ],
         "xaxis": "x",
         "y": [
          226.32,
          226.56
         ],
         "yaxis": "y"
        },
        {
         "hoverinfo": "none",
         "line": {
          "color": "green",
          "width": 3
         },
         "mode": "lines",
         "showlegend": false,
         "type": "scatter",
         "x": [
          "2021-12-08T00:00:00",
          "2021-12-09T00:00:00"
         ],
         "xaxis": "x",
         "y": [
          226.56,
          226.79
         ],
         "yaxis": "y"
        },
        {
         "hoverinfo": "none",
         "line": {
          "color": "green",
          "width": 3
         },
         "mode": "lines",
         "showlegend": false,
         "type": "scatter",
         "x": [
          "2021-12-09T00:00:00",
          "2021-12-10T00:00:00"
         ],
         "xaxis": "x",
         "y": [
          226.79,
          227.15
         ],
         "yaxis": "y"
        },
        {
         "hoverinfo": "none",
         "line": {
          "color": "green",
          "width": 3
         },
         "mode": "lines",
         "showlegend": false,
         "type": "scatter",
         "x": [
          "2021-12-10T00:00:00",
          "2021-12-11T00:00:00"
         ],
         "xaxis": "x",
         "y": [
          227.15,
          227.32
         ],
         "yaxis": "y"
        },
        {
         "hoverinfo": "none",
         "line": {
          "color": "red",
          "width": 3
         },
         "mode": "lines",
         "showlegend": false,
         "type": "scatter",
         "x": [
          "2021-12-11T00:00:00",
          "2021-12-12T00:00:00"
         ],
         "xaxis": "x",
         "y": [
          227.32,
          227.3
         ],
         "yaxis": "y"
        },
        {
         "hoverinfo": "none",
         "line": {
          "color": "green",
          "width": 3
         },
         "mode": "lines",
         "showlegend": false,
         "type": "scatter",
         "x": [
          "2021-12-12T00:00:00",
          "2021-12-13T00:00:00"
         ],
         "xaxis": "x",
         "y": [
          227.3,
          227.3
         ],
         "yaxis": "y"
        },
        {
         "hoverinfo": "none",
         "line": {
          "color": "green",
          "width": 3
         },
         "mode": "lines",
         "showlegend": false,
         "type": "scatter",
         "x": [
          "2021-12-13T00:00:00",
          "2021-12-14T00:00:00"
         ],
         "xaxis": "x",
         "y": [
          227.3,
          227.3
         ],
         "yaxis": "y"
        },
        {
         "hoverinfo": "none",
         "line": {
          "color": "red",
          "width": 3
         },
         "mode": "lines",
         "showlegend": false,
         "type": "scatter",
         "x": [
          "2021-12-14T00:00:00",
          "2021-12-15T00:00:00"
         ],
         "xaxis": "x",
         "y": [
          227.3,
          227.29
         ],
         "yaxis": "y"
        },
        {
         "hoverinfo": "none",
         "line": {
          "color": "red",
          "width": 3
         },
         "mode": "lines",
         "showlegend": false,
         "type": "scatter",
         "x": [
          "2021-12-15T00:00:00",
          "2021-12-16T00:00:00"
         ],
         "xaxis": "x",
         "y": [
          227.29,
          227.27
         ],
         "yaxis": "y"
        },
        {
         "hoverinfo": "none",
         "line": {
          "color": "red",
          "width": 3
         },
         "mode": "lines",
         "showlegend": false,
         "type": "scatter",
         "x": [
          "2021-12-16T00:00:00",
          "2021-12-17T00:00:00"
         ],
         "xaxis": "x",
         "y": [
          227.27,
          227.25
         ],
         "yaxis": "y"
        },
        {
         "hoverinfo": "none",
         "line": {
          "color": "red",
          "width": 3
         },
         "mode": "lines",
         "showlegend": false,
         "type": "scatter",
         "x": [
          "2021-12-17T00:00:00",
          "2021-12-18T00:00:00"
         ],
         "xaxis": "x",
         "y": [
          227.25,
          227.24
         ],
         "yaxis": "y"
        },
        {
         "hoverinfo": "none",
         "line": {
          "color": "red",
          "width": 3
         },
         "mode": "lines",
         "showlegend": false,
         "type": "scatter",
         "x": [
          "2021-12-18T00:00:00",
          "2021-12-19T00:00:00"
         ],
         "xaxis": "x",
         "y": [
          227.24,
          227.17
         ],
         "yaxis": "y"
        },
        {
         "hoverinfo": "none",
         "line": {
          "color": "green",
          "width": 3
         },
         "mode": "lines",
         "showlegend": false,
         "type": "scatter",
         "x": [
          "2021-12-19T00:00:00",
          "2021-12-20T00:00:00"
         ],
         "xaxis": "x",
         "y": [
          227.17,
          227.17
         ],
         "yaxis": "y"
        },
        {
         "hoverinfo": "none",
         "line": {
          "color": "red",
          "width": 3
         },
         "mode": "lines",
         "showlegend": false,
         "type": "scatter",
         "x": [
          "2021-12-20T00:00:00",
          "2021-12-21T00:00:00"
         ],
         "xaxis": "x",
         "y": [
          227.17,
          227.15
         ],
         "yaxis": "y"
        },
        {
         "hoverinfo": "none",
         "line": {
          "color": "red",
          "width": 3
         },
         "mode": "lines",
         "showlegend": false,
         "type": "scatter",
         "x": [
          "2021-12-21T00:00:00",
          "2021-12-22T00:00:00"
         ],
         "xaxis": "x",
         "y": [
          227.15,
          227.14
         ],
         "yaxis": "y"
        },
        {
         "hoverinfo": "none",
         "line": {
          "color": "green",
          "width": 3
         },
         "mode": "lines",
         "showlegend": false,
         "type": "scatter",
         "x": [
          "2021-12-22T00:00:00",
          "2021-12-23T00:00:00"
         ],
         "xaxis": "x",
         "y": [
          227.14,
          227.25
         ],
         "yaxis": "y"
        },
        {
         "hoverinfo": "none",
         "line": {
          "color": "green",
          "width": 3
         },
         "mode": "lines",
         "showlegend": false,
         "type": "scatter",
         "x": [
          "2021-12-23T00:00:00",
          "2021-12-24T00:00:00"
         ],
         "xaxis": "x",
         "y": [
          227.25,
          227.37
         ],
         "yaxis": "y"
        },
        {
         "hoverinfo": "none",
         "line": {
          "color": "green",
          "width": 3
         },
         "mode": "lines",
         "showlegend": false,
         "type": "scatter",
         "x": [
          "2021-12-24T00:00:00",
          "2021-12-25T00:00:00"
         ],
         "xaxis": "x",
         "y": [
          227.37,
          227.48
         ],
         "yaxis": "y"
        },
        {
         "hoverinfo": "none",
         "line": {
          "color": "red",
          "width": 3
         },
         "mode": "lines",
         "showlegend": false,
         "type": "scatter",
         "x": [
          "2021-12-25T00:00:00",
          "2021-12-26T00:00:00"
         ],
         "xaxis": "x",
         "y": [
          227.48,
          227.47
         ],
         "yaxis": "y"
        },
        {
         "hoverinfo": "none",
         "line": {
          "color": "green",
          "width": 3
         },
         "mode": "lines",
         "showlegend": false,
         "type": "scatter",
         "x": [
          "2021-12-26T00:00:00",
          "2021-12-27T00:00:00"
         ],
         "xaxis": "x",
         "y": [
          227.47,
          227.58
         ],
         "yaxis": "y"
        },
        {
         "hoverinfo": "none",
         "line": {
          "color": "green",
          "width": 3
         },
         "mode": "lines",
         "showlegend": false,
         "type": "scatter",
         "x": [
          "2021-12-27T00:00:00",
          "2021-12-28T00:00:00"
         ],
         "xaxis": "x",
         "y": [
          227.58,
          227.68
         ],
         "yaxis": "y"
        },
        {
         "hoverinfo": "none",
         "line": {
          "color": "green",
          "width": 3
         },
         "mode": "lines",
         "showlegend": false,
         "type": "scatter",
         "x": [
          "2021-12-28T00:00:00",
          "2021-12-29T00:00:00"
         ],
         "xaxis": "x",
         "y": [
          227.68,
          227.79
         ],
         "yaxis": "y"
        },
        {
         "hoverinfo": "none",
         "line": {
          "color": "green",
          "width": 3
         },
         "mode": "lines",
         "showlegend": false,
         "type": "scatter",
         "x": [
          "2021-12-29T00:00:00",
          "2021-12-30T00:00:00"
         ],
         "xaxis": "x",
         "y": [
          227.79,
          227.9
         ],
         "yaxis": "y"
        },
        {
         "hoverinfo": "none",
         "line": {
          "color": "red",
          "width": 3
         },
         "mode": "lines",
         "showlegend": false,
         "type": "scatter",
         "x": [
          "2021-12-30T00:00:00",
          "2021-12-31T00:00:00"
         ],
         "xaxis": "x",
         "y": [
          227.9,
          227.88
         ],
         "yaxis": "y"
        },
        {
         "hoverinfo": "none",
         "line": {
          "color": "red",
          "width": 3
         },
         "mode": "lines",
         "showlegend": false,
         "type": "scatter",
         "x": [
          "2021-12-31T00:00:00",
          "2022-01-01T00:00:00"
         ],
         "xaxis": "x",
         "y": [
          227.88,
          227.87
         ],
         "yaxis": "y"
        },
        {
         "hoverinfo": "none",
         "line": {
          "color": "green",
          "width": 3
         },
         "mode": "lines",
         "showlegend": false,
         "type": "scatter",
         "x": [
          "2022-01-01T00:00:00",
          "2022-01-02T00:00:00"
         ],
         "xaxis": "x",
         "y": [
          227.87,
          227.99
         ],
         "yaxis": "y"
        },
        {
         "hoverinfo": "none",
         "line": {
          "color": "green",
          "width": 3
         },
         "mode": "lines",
         "showlegend": false,
         "type": "scatter",
         "x": [
          "2022-01-02T00:00:00",
          "2022-01-03T00:00:00"
         ],
         "xaxis": "x",
         "y": [
          227.99,
          228.11
         ],
         "yaxis": "y"
        },
        {
         "hoverinfo": "none",
         "line": {
          "color": "green",
          "width": 3
         },
         "mode": "lines",
         "showlegend": false,
         "type": "scatter",
         "x": [
          "2022-01-03T00:00:00",
          "2022-01-04T00:00:00"
         ],
         "xaxis": "x",
         "y": [
          228.11,
          228.23
         ],
         "yaxis": "y"
        },
        {
         "hoverinfo": "none",
         "line": {
          "color": "green",
          "width": 3
         },
         "mode": "lines",
         "showlegend": false,
         "type": "scatter",
         "x": [
          "2022-01-04T00:00:00",
          "2022-01-05T00:00:00"
         ],
         "xaxis": "x",
         "y": [
          228.23,
          228.29
         ],
         "yaxis": "y"
        },
        {
         "hoverinfo": "none",
         "line": {
          "color": "green",
          "width": 3
         },
         "mode": "lines",
         "showlegend": false,
         "type": "scatter",
         "x": [
          "2022-01-05T00:00:00",
          "2022-01-06T00:00:00"
         ],
         "xaxis": "x",
         "y": [
          228.29,
          228.29
         ],
         "yaxis": "y"
        },
        {
         "hoverinfo": "none",
         "line": {
          "color": "green",
          "width": 3
         },
         "mode": "lines",
         "showlegend": false,
         "type": "scatter",
         "x": [
          "2022-01-06T00:00:00",
          "2022-01-07T00:00:00"
         ],
         "xaxis": "x",
         "y": [
          228.29,
          228.4
         ],
         "yaxis": "y"
        },
        {
         "hoverinfo": "none",
         "line": {
          "color": "green",
          "width": 3
         },
         "mode": "lines",
         "showlegend": false,
         "type": "scatter",
         "x": [
          "2022-01-07T00:00:00",
          "2022-01-08T00:00:00"
         ],
         "xaxis": "x",
         "y": [
          228.4,
          228.51
         ],
         "yaxis": "y"
        },
        {
         "hoverinfo": "none",
         "line": {
          "color": "green",
          "width": 3
         },
         "mode": "lines",
         "showlegend": false,
         "type": "scatter",
         "x": [
          "2022-01-08T00:00:00",
          "2022-01-09T00:00:00"
         ],
         "xaxis": "x",
         "y": [
          228.51,
          228.62
         ],
         "yaxis": "y"
        },
        {
         "hoverinfo": "none",
         "line": {
          "color": "green",
          "width": 3
         },
         "mode": "lines",
         "showlegend": false,
         "type": "scatter",
         "x": [
          "2022-01-09T00:00:00",
          "2022-01-10T00:00:00"
         ],
         "xaxis": "x",
         "y": [
          228.62,
          228.62
         ],
         "yaxis": "y"
        },
        {
         "hoverinfo": "none",
         "line": {
          "color": "green",
          "width": 3
         },
         "mode": "lines",
         "showlegend": false,
         "type": "scatter",
         "x": [
          "2022-01-10T00:00:00",
          "2022-01-11T00:00:00"
         ],
         "xaxis": "x",
         "y": [
          228.62,
          228.62
         ],
         "yaxis": "y"
        },
        {
         "hoverinfo": "none",
         "line": {
          "color": "green",
          "width": 3
         },
         "mode": "lines",
         "showlegend": false,
         "type": "scatter",
         "x": [
          "2022-01-11T00:00:00",
          "2022-01-12T00:00:00"
         ],
         "xaxis": "x",
         "y": [
          228.62,
          228.62
         ],
         "yaxis": "y"
        },
        {
         "hoverinfo": "none",
         "line": {
          "color": "green",
          "width": 3
         },
         "mode": "lines",
         "showlegend": false,
         "type": "scatter",
         "x": [
          "2022-01-12T00:00:00",
          "2022-01-13T00:00:00"
         ],
         "xaxis": "x",
         "y": [
          228.62,
          228.79
         ],
         "yaxis": "y"
        },
        {
         "hoverinfo": "none",
         "line": {
          "color": "green",
          "width": 3
         },
         "mode": "lines",
         "showlegend": false,
         "type": "scatter",
         "x": [
          "2022-01-13T00:00:00",
          "2022-01-14T00:00:00"
         ],
         "xaxis": "x",
         "y": [
          228.79,
          229.04
         ],
         "yaxis": "y"
        },
        {
         "hoverinfo": "none",
         "line": {
          "color": "green",
          "width": 3
         },
         "mode": "lines",
         "showlegend": false,
         "type": "scatter",
         "x": [
          "2022-01-14T00:00:00",
          "2022-01-15T00:00:00"
         ],
         "xaxis": "x",
         "y": [
          229.04,
          229.16
         ],
         "yaxis": "y"
        },
        {
         "hoverinfo": "none",
         "line": {
          "color": "green",
          "width": 3
         },
         "mode": "lines",
         "showlegend": false,
         "type": "scatter",
         "x": [
          "2022-01-15T00:00:00",
          "2022-01-16T00:00:00"
         ],
         "xaxis": "x",
         "y": [
          229.16,
          229.19
         ],
         "yaxis": "y"
        },
        {
         "hoverinfo": "none",
         "line": {
          "color": "green",
          "width": 3
         },
         "mode": "lines",
         "showlegend": false,
         "type": "scatter",
         "x": [
          "2022-01-16T00:00:00",
          "2022-01-17T00:00:00"
         ],
         "xaxis": "x",
         "y": [
          229.19,
          229.33
         ],
         "yaxis": "y"
        },
        {
         "hoverinfo": "none",
         "line": {
          "color": "green",
          "width": 3
         },
         "mode": "lines",
         "showlegend": false,
         "type": "scatter",
         "x": [
          "2022-01-17T00:00:00",
          "2022-01-18T00:00:00"
         ],
         "xaxis": "x",
         "y": [
          229.33,
          229.47
         ],
         "yaxis": "y"
        },
        {
         "hoverinfo": "none",
         "line": {
          "color": "green",
          "width": 3
         },
         "mode": "lines",
         "showlegend": false,
         "type": "scatter",
         "x": [
          "2022-01-18T00:00:00",
          "2022-01-19T00:00:00"
         ],
         "xaxis": "x",
         "y": [
          229.47,
          229.61
         ],
         "yaxis": "y"
        },
        {
         "hoverinfo": "none",
         "line": {
          "color": "green",
          "width": 3
         },
         "mode": "lines",
         "showlegend": false,
         "type": "scatter",
         "x": [
          "2022-01-19T00:00:00",
          "2022-01-20T00:00:00"
         ],
         "xaxis": "x",
         "y": [
          229.61,
          229.73
         ],
         "yaxis": "y"
        },
        {
         "hoverinfo": "none",
         "line": {
          "color": "green",
          "width": 3
         },
         "mode": "lines",
         "showlegend": false,
         "type": "scatter",
         "x": [
          "2022-01-20T00:00:00",
          "2022-01-21T00:00:00"
         ],
         "xaxis": "x",
         "y": [
          229.73,
          229.74
         ],
         "yaxis": "y"
        },
        {
         "hoverinfo": "none",
         "line": {
          "color": "green",
          "width": 3
         },
         "mode": "lines",
         "showlegend": false,
         "type": "scatter",
         "x": [
          "2022-01-21T00:00:00",
          "2022-01-22T00:00:00"
         ],
         "xaxis": "x",
         "y": [
          229.74,
          229.76
         ],
         "yaxis": "y"
        },
        {
         "hoverinfo": "none",
         "line": {
          "color": "green",
          "width": 3
         },
         "mode": "lines",
         "showlegend": false,
         "type": "scatter",
         "x": [
          "2022-01-22T00:00:00",
          "2022-01-23T00:00:00"
         ],
         "xaxis": "x",
         "y": [
          229.76,
          229.77
         ],
         "yaxis": "y"
        },
        {
         "hoverinfo": "none",
         "line": {
          "color": "green",
          "width": 3
         },
         "mode": "lines",
         "showlegend": false,
         "type": "scatter",
         "x": [
          "2022-01-23T00:00:00",
          "2022-01-24T00:00:00"
         ],
         "xaxis": "x",
         "y": [
          229.77,
          229.89
         ],
         "yaxis": "y"
        },
        {
         "hoverinfo": "none",
         "line": {
          "color": "green",
          "width": 3
         },
         "mode": "lines",
         "showlegend": false,
         "type": "scatter",
         "x": [
          "2022-01-24T00:00:00",
          "2022-01-25T00:00:00"
         ],
         "xaxis": "x",
         "y": [
          229.89,
          229.9
         ],
         "yaxis": "y"
        },
        {
         "hoverinfo": "none",
         "line": {
          "color": "green",
          "width": 3
         },
         "mode": "lines",
         "showlegend": false,
         "type": "scatter",
         "x": [
          "2022-01-25T00:00:00",
          "2022-01-26T00:00:00"
         ],
         "xaxis": "x",
         "y": [
          229.9,
          229.91
         ],
         "yaxis": "y"
        },
        {
         "hoverinfo": "none",
         "line": {
          "color": "green",
          "width": 3
         },
         "mode": "lines",
         "showlegend": false,
         "type": "scatter",
         "x": [
          "2022-01-26T00:00:00",
          "2022-01-27T00:00:00"
         ],
         "xaxis": "x",
         "y": [
          229.91,
          230.03
         ],
         "yaxis": "y"
        },
        {
         "hoverinfo": "none",
         "line": {
          "color": "green",
          "width": 3
         },
         "mode": "lines",
         "showlegend": false,
         "type": "scatter",
         "x": [
          "2022-01-27T00:00:00",
          "2022-01-28T00:00:00"
         ],
         "xaxis": "x",
         "y": [
          230.03,
          230.17
         ],
         "yaxis": "y"
        },
        {
         "hoverinfo": "none",
         "line": {
          "color": "green",
          "width": 3
         },
         "mode": "lines",
         "showlegend": false,
         "type": "scatter",
         "x": [
          "2022-01-28T00:00:00",
          "2022-01-29T00:00:00"
         ],
         "xaxis": "x",
         "y": [
          230.17,
          230.21
         ],
         "yaxis": "y"
        },
        {
         "hoverinfo": "none",
         "line": {
          "color": "green",
          "width": 3
         },
         "mode": "lines",
         "showlegend": false,
         "type": "scatter",
         "x": [
          "2022-01-29T00:00:00",
          "2022-01-30T00:00:00"
         ],
         "xaxis": "x",
         "y": [
          230.21,
          230.47
         ],
         "yaxis": "y"
        },
        {
         "hoverinfo": "none",
         "line": {
          "color": "green",
          "width": 3
         },
         "mode": "lines",
         "showlegend": false,
         "type": "scatter",
         "x": [
          "2022-01-30T00:00:00",
          "2022-01-31T00:00:00"
         ],
         "xaxis": "x",
         "y": [
          230.47,
          230.62
         ],
         "yaxis": "y"
        },
        {
         "hoverinfo": "none",
         "line": {
          "color": "green",
          "width": 3
         },
         "mode": "lines",
         "showlegend": false,
         "type": "scatter",
         "x": [
          "2022-01-31T00:00:00",
          "2022-02-01T00:00:00"
         ],
         "xaxis": "x",
         "y": [
          230.62,
          230.77
         ],
         "yaxis": "y"
        },
        {
         "hoverinfo": "none",
         "line": {
          "color": "green",
          "width": 3
         },
         "mode": "lines",
         "showlegend": false,
         "type": "scatter",
         "x": [
          "2022-02-01T00:00:00",
          "2022-02-02T00:00:00"
         ],
         "xaxis": "x",
         "y": [
          230.77,
          230.9
         ],
         "yaxis": "y"
        },
        {
         "hoverinfo": "none",
         "line": {
          "color": "green",
          "width": 3
         },
         "mode": "lines",
         "showlegend": false,
         "type": "scatter",
         "x": [
          "2022-02-02T00:00:00",
          "2022-02-03T00:00:00"
         ],
         "xaxis": "x",
         "y": [
          230.9,
          230.92
         ],
         "yaxis": "y"
        },
        {
         "hoverinfo": "none",
         "line": {
          "color": "red",
          "width": 3
         },
         "mode": "lines",
         "showlegend": false,
         "type": "scatter",
         "x": [
          "2022-02-03T00:00:00",
          "2022-02-04T00:00:00"
         ],
         "xaxis": "x",
         "y": [
          230.92,
          230.82
         ],
         "yaxis": "y"
        },
        {
         "hoverinfo": "none",
         "line": {
          "color": "red",
          "width": 3
         },
         "mode": "lines",
         "showlegend": false,
         "type": "scatter",
         "x": [
          "2022-02-04T00:00:00",
          "2022-02-05T00:00:00"
         ],
         "xaxis": "x",
         "y": [
          230.82,
          230.71
         ],
         "yaxis": "y"
        },
        {
         "hoverinfo": "none",
         "line": {
          "color": "green",
          "width": 3
         },
         "mode": "lines",
         "showlegend": false,
         "type": "scatter",
         "x": [
          "2022-02-05T00:00:00",
          "2022-02-06T00:00:00"
         ],
         "xaxis": "x",
         "y": [
          230.71,
          230.78
         ],
         "yaxis": "y"
        },
        {
         "hoverinfo": "none",
         "line": {
          "color": "red",
          "width": 3
         },
         "mode": "lines",
         "showlegend": false,
         "type": "scatter",
         "x": [
          "2022-02-06T00:00:00",
          "2022-02-07T00:00:00"
         ],
         "xaxis": "x",
         "y": [
          230.78,
          230.66
         ],
         "yaxis": "y"
        },
        {
         "hoverinfo": "none",
         "line": {
          "color": "green",
          "width": 3
         },
         "mode": "lines",
         "showlegend": false,
         "type": "scatter",
         "x": [
          "2022-02-07T00:00:00",
          "2022-02-08T00:00:00"
         ],
         "xaxis": "x",
         "y": [
          230.66,
          230.67
         ],
         "yaxis": "y"
        },
        {
         "hoverinfo": "none",
         "line": {
          "color": "green",
          "width": 3
         },
         "mode": "lines",
         "showlegend": false,
         "type": "scatter",
         "x": [
          "2022-02-08T00:00:00",
          "2022-02-09T00:00:00"
         ],
         "xaxis": "x",
         "y": [
          230.67,
          230.68
         ],
         "yaxis": "y"
        },
        {
         "hoverinfo": "none",
         "line": {
          "color": "green",
          "width": 3
         },
         "mode": "lines",
         "showlegend": false,
         "type": "scatter",
         "x": [
          "2022-02-09T00:00:00",
          "2022-02-10T00:00:00"
         ],
         "xaxis": "x",
         "y": [
          230.68,
          230.71
         ],
         "yaxis": "y"
        },
        {
         "hoverinfo": "none",
         "line": {
          "color": "green",
          "width": 3
         },
         "mode": "lines",
         "showlegend": false,
         "type": "scatter",
         "x": [
          "2022-02-10T00:00:00",
          "2022-02-11T00:00:00"
         ],
         "xaxis": "x",
         "y": [
          230.71,
          230.86
         ],
         "yaxis": "y"
        },
        {
         "hoverinfo": "none",
         "line": {
          "color": "green",
          "width": 3
         },
         "mode": "lines",
         "showlegend": false,
         "type": "scatter",
         "x": [
          "2022-02-11T00:00:00",
          "2022-02-12T00:00:00"
         ],
         "xaxis": "x",
         "y": [
          230.86,
          231.01
         ],
         "yaxis": "y"
        },
        {
         "hoverinfo": "none",
         "line": {
          "color": "green",
          "width": 3
         },
         "mode": "lines",
         "showlegend": false,
         "type": "scatter",
         "x": [
          "2022-02-12T00:00:00",
          "2022-02-13T00:00:00"
         ],
         "xaxis": "x",
         "y": [
          231.01,
          231.28
         ],
         "yaxis": "y"
        },
        {
         "hoverinfo": "none",
         "line": {
          "color": "green",
          "width": 3
         },
         "mode": "lines",
         "showlegend": false,
         "type": "scatter",
         "x": [
          "2022-02-13T00:00:00",
          "2022-02-14T00:00:00"
         ],
         "xaxis": "x",
         "y": [
          231.28,
          231.48
         ],
         "yaxis": "y"
        },
        {
         "hoverinfo": "none",
         "line": {
          "color": "green",
          "width": 3
         },
         "mode": "lines",
         "showlegend": false,
         "type": "scatter",
         "x": [
          "2022-02-14T00:00:00",
          "2022-02-15T00:00:00"
         ],
         "xaxis": "x",
         "y": [
          231.48,
          231.63
         ],
         "yaxis": "y"
        },
        {
         "hoverinfo": "none",
         "line": {
          "color": "green",
          "width": 3
         },
         "mode": "lines",
         "showlegend": false,
         "type": "scatter",
         "x": [
          "2022-02-15T00:00:00",
          "2022-02-16T00:00:00"
         ],
         "xaxis": "x",
         "y": [
          231.63,
          231.78
         ],
         "yaxis": "y"
        },
        {
         "hoverinfo": "none",
         "line": {
          "color": "green",
          "width": 3
         },
         "mode": "lines",
         "showlegend": false,
         "type": "scatter",
         "x": [
          "2022-02-16T00:00:00",
          "2022-02-17T00:00:00"
         ],
         "xaxis": "x",
         "y": [
          231.78,
          231.91
         ],
         "yaxis": "y"
        },
        {
         "hoverinfo": "none",
         "line": {
          "color": "green",
          "width": 3
         },
         "mode": "lines",
         "showlegend": false,
         "type": "scatter",
         "x": [
          "2022-02-17T00:00:00",
          "2022-02-18T00:00:00"
         ],
         "xaxis": "x",
         "y": [
          231.91,
          232.05
         ],
         "yaxis": "y"
        },
        {
         "hoverinfo": "none",
         "line": {
          "color": "green",
          "width": 3
         },
         "mode": "lines",
         "showlegend": false,
         "type": "scatter",
         "x": [
          "2022-02-18T00:00:00",
          "2022-02-19T00:00:00"
         ],
         "xaxis": "x",
         "y": [
          232.05,
          232.3
         ],
         "yaxis": "y"
        },
        {
         "hoverinfo": "none",
         "line": {
          "color": "green",
          "width": 3
         },
         "mode": "lines",
         "showlegend": false,
         "type": "scatter",
         "x": [
          "2022-02-19T00:00:00",
          "2022-02-20T00:00:00"
         ],
         "xaxis": "x",
         "y": [
          232.3,
          232.56
         ],
         "yaxis": "y"
        },
        {
         "hoverinfo": "none",
         "line": {
          "color": "green",
          "width": 3
         },
         "mode": "lines",
         "showlegend": false,
         "type": "scatter",
         "x": [
          "2022-02-20T00:00:00",
          "2022-02-21T00:00:00"
         ],
         "xaxis": "x",
         "y": [
          232.56,
          232.7
         ],
         "yaxis": "y"
        },
        {
         "hoverinfo": "none",
         "line": {
          "color": "green",
          "width": 3
         },
         "mode": "lines",
         "showlegend": false,
         "type": "scatter",
         "x": [
          "2022-02-21T00:00:00",
          "2022-02-22T00:00:00"
         ],
         "xaxis": "x",
         "y": [
          232.7,
          232.83
         ],
         "yaxis": "y"
        },
        {
         "hoverinfo": "none",
         "line": {
          "color": "green",
          "width": 3
         },
         "mode": "lines",
         "showlegend": false,
         "type": "scatter",
         "x": [
          "2022-02-22T00:00:00",
          "2022-02-23T00:00:00"
         ],
         "xaxis": "x",
         "y": [
          232.83,
          232.96
         ],
         "yaxis": "y"
        },
        {
         "hoverinfo": "none",
         "line": {
          "color": "green",
          "width": 3
         },
         "mode": "lines",
         "showlegend": false,
         "type": "scatter",
         "x": [
          "2022-02-23T00:00:00",
          "2022-02-24T00:00:00"
         ],
         "xaxis": "x",
         "y": [
          232.96,
          233.1
         ],
         "yaxis": "y"
        },
        {
         "hoverinfo": "none",
         "line": {
          "color": "green",
          "width": 3
         },
         "mode": "lines",
         "showlegend": false,
         "type": "scatter",
         "x": [
          "2022-02-24T00:00:00",
          "2022-02-25T00:00:00"
         ],
         "xaxis": "x",
         "y": [
          233.1,
          233.24
         ],
         "yaxis": "y"
        },
        {
         "hoverinfo": "none",
         "line": {
          "color": "green",
          "width": 3
         },
         "mode": "lines",
         "showlegend": false,
         "type": "scatter",
         "x": [
          "2022-02-25T00:00:00",
          "2022-02-26T00:00:00"
         ],
         "xaxis": "x",
         "y": [
          233.24,
          233.49
         ],
         "yaxis": "y"
        },
        {
         "hoverinfo": "none",
         "line": {
          "color": "green",
          "width": 3
         },
         "mode": "lines",
         "showlegend": false,
         "type": "scatter",
         "x": [
          "2022-02-26T00:00:00",
          "2022-02-27T00:00:00"
         ],
         "xaxis": "x",
         "y": [
          233.49,
          233.63
         ],
         "yaxis": "y"
        },
        {
         "hoverinfo": "none",
         "line": {
          "color": "green",
          "width": 3
         },
         "mode": "lines",
         "showlegend": false,
         "type": "scatter",
         "x": [
          "2022-02-27T00:00:00",
          "2022-02-28T00:00:00"
         ],
         "xaxis": "x",
         "y": [
          233.63,
          233.76
         ],
         "yaxis": "y"
        },
        {
         "hoverinfo": "none",
         "line": {
          "color": "green",
          "width": 3
         },
         "mode": "lines",
         "showlegend": false,
         "type": "scatter",
         "x": [
          "2022-02-28T00:00:00",
          "2022-03-01T00:00:00"
         ],
         "xaxis": "x",
         "y": [
          233.76,
          233.88
         ],
         "yaxis": "y"
        },
        {
         "hoverinfo": "none",
         "line": {
          "color": "green",
          "width": 3
         },
         "mode": "lines",
         "showlegend": false,
         "type": "scatter",
         "x": [
          "2022-03-01T00:00:00",
          "2022-03-02T00:00:00"
         ],
         "xaxis": "x",
         "y": [
          233.88,
          234.13
         ],
         "yaxis": "y"
        },
        {
         "hoverinfo": "none",
         "line": {
          "color": "green",
          "width": 3
         },
         "mode": "lines",
         "showlegend": false,
         "type": "scatter",
         "x": [
          "2022-03-02T00:00:00",
          "2022-03-03T00:00:00"
         ],
         "xaxis": "x",
         "y": [
          234.13,
          234.38
         ],
         "yaxis": "y"
        },
        {
         "hoverinfo": "none",
         "line": {
          "color": "green",
          "width": 3
         },
         "mode": "lines",
         "showlegend": false,
         "type": "scatter",
         "x": [
          "2022-03-03T00:00:00",
          "2022-03-04T00:00:00"
         ],
         "xaxis": "x",
         "y": [
          234.38,
          234.75
         ],
         "yaxis": "y"
        },
        {
         "hoverinfo": "none",
         "line": {
          "color": "green",
          "width": 3
         },
         "mode": "lines",
         "showlegend": false,
         "type": "scatter",
         "x": [
          "2022-03-04T00:00:00",
          "2022-03-05T00:00:00"
         ],
         "xaxis": "x",
         "y": [
          234.75,
          235.14
         ],
         "yaxis": "y"
        },
        {
         "hoverinfo": "none",
         "line": {
          "color": "green",
          "width": 3
         },
         "mode": "lines",
         "showlegend": false,
         "type": "scatter",
         "x": [
          "2022-03-05T00:00:00",
          "2022-03-06T00:00:00"
         ],
         "xaxis": "x",
         "y": [
          235.14,
          235.42
         ],
         "yaxis": "y"
        },
        {
         "hoverinfo": "none",
         "line": {
          "color": "green",
          "width": 3
         },
         "mode": "lines",
         "showlegend": false,
         "type": "scatter",
         "x": [
          "2022-03-06T00:00:00",
          "2022-03-07T00:00:00"
         ],
         "xaxis": "x",
         "y": [
          235.42,
          235.69
         ],
         "yaxis": "y"
        },
        {
         "hoverinfo": "none",
         "line": {
          "color": "green",
          "width": 3
         },
         "mode": "lines",
         "showlegend": false,
         "type": "scatter",
         "x": [
          "2022-03-07T00:00:00",
          "2022-03-08T00:00:00"
         ],
         "xaxis": "x",
         "y": [
          235.69,
          235.96
         ],
         "yaxis": "y"
        },
        {
         "hoverinfo": "none",
         "line": {
          "color": "green",
          "width": 3
         },
         "mode": "lines",
         "showlegend": false,
         "type": "scatter",
         "x": [
          "2022-03-08T00:00:00",
          "2022-03-09T00:00:00"
         ],
         "xaxis": "x",
         "y": [
          235.96,
          236.23
         ],
         "yaxis": "y"
        },
        {
         "hoverinfo": "none",
         "line": {
          "color": "green",
          "width": 3
         },
         "mode": "lines",
         "showlegend": false,
         "type": "scatter",
         "x": [
          "2022-03-09T00:00:00",
          "2022-03-10T00:00:00"
         ],
         "xaxis": "x",
         "y": [
          236.23,
          236.5
         ],
         "yaxis": "y"
        },
        {
         "hoverinfo": "none",
         "line": {
          "color": "green",
          "width": 3
         },
         "mode": "lines",
         "showlegend": false,
         "type": "scatter",
         "x": [
          "2022-03-10T00:00:00",
          "2022-03-11T00:00:00"
         ],
         "xaxis": "x",
         "y": [
          236.5,
          236.78
         ],
         "yaxis": "y"
        },
        {
         "hoverinfo": "none",
         "line": {
          "color": "green",
          "width": 3
         },
         "mode": "lines",
         "showlegend": false,
         "type": "scatter",
         "x": [
          "2022-03-11T00:00:00",
          "2022-03-12T00:00:00"
         ],
         "xaxis": "x",
         "y": [
          236.78,
          236.79
         ],
         "yaxis": "y"
        },
        {
         "hoverinfo": "none",
         "line": {
          "color": "green",
          "width": 3
         },
         "mode": "lines",
         "showlegend": false,
         "type": "scatter",
         "x": [
          "2022-03-12T00:00:00",
          "2022-03-13T00:00:00"
         ],
         "xaxis": "x",
         "y": [
          236.79,
          236.92
         ],
         "yaxis": "y"
        },
        {
         "hoverinfo": "none",
         "line": {
          "color": "green",
          "width": 3
         },
         "mode": "lines",
         "showlegend": false,
         "type": "scatter",
         "x": [
          "2022-03-13T00:00:00",
          "2022-03-14T00:00:00"
         ],
         "xaxis": "x",
         "y": [
          236.92,
          237.04
         ],
         "yaxis": "y"
        },
        {
         "hoverinfo": "none",
         "line": {
          "color": "green",
          "width": 3
         },
         "mode": "lines",
         "showlegend": false,
         "type": "scatter",
         "x": [
          "2022-03-14T00:00:00",
          "2022-03-15T00:00:00"
         ],
         "xaxis": "x",
         "y": [
          237.04,
          237.14
         ],
         "yaxis": "y"
        },
        {
         "hoverinfo": "none",
         "line": {
          "color": "green",
          "width": 3
         },
         "mode": "lines",
         "showlegend": false,
         "type": "scatter",
         "x": [
          "2022-03-15T00:00:00",
          "2022-03-16T00:00:00"
         ],
         "xaxis": "x",
         "y": [
          237.14,
          237.27
         ],
         "yaxis": "y"
        },
        {
         "hoverinfo": "none",
         "line": {
          "color": "green",
          "width": 3
         },
         "mode": "lines",
         "showlegend": false,
         "type": "scatter",
         "x": [
          "2022-03-16T00:00:00",
          "2022-03-17T00:00:00"
         ],
         "xaxis": "x",
         "y": [
          237.27,
          237.4
         ],
         "yaxis": "y"
        },
        {
         "hoverinfo": "none",
         "line": {
          "color": "green",
          "width": 3
         },
         "mode": "lines",
         "showlegend": false,
         "type": "scatter",
         "x": [
          "2022-03-17T00:00:00",
          "2022-03-18T00:00:00"
         ],
         "xaxis": "x",
         "y": [
          237.4,
          237.41
         ],
         "yaxis": "y"
        },
        {
         "hoverinfo": "none",
         "line": {
          "color": "green",
          "width": 3
         },
         "mode": "lines",
         "showlegend": false,
         "type": "scatter",
         "x": [
          "2022-03-18T00:00:00",
          "2022-03-19T00:00:00"
         ],
         "xaxis": "x",
         "y": [
          237.41,
          237.41
         ],
         "yaxis": "y"
        },
        {
         "hoverinfo": "none",
         "line": {
          "color": "green",
          "width": 3
         },
         "mode": "lines",
         "showlegend": false,
         "type": "scatter",
         "x": [
          "2022-03-19T00:00:00",
          "2022-03-20T00:00:00"
         ],
         "xaxis": "x",
         "y": [
          237.41,
          237.66
         ],
         "yaxis": "y"
        },
        {
         "hoverinfo": "none",
         "line": {
          "color": "green",
          "width": 3
         },
         "mode": "lines",
         "showlegend": false,
         "type": "scatter",
         "x": [
          "2022-03-20T00:00:00",
          "2022-03-21T00:00:00"
         ],
         "xaxis": "x",
         "y": [
          237.66,
          237.78
         ],
         "yaxis": "y"
        },
        {
         "hoverinfo": "none",
         "line": {
          "color": "green",
          "width": 3
         },
         "mode": "lines",
         "showlegend": false,
         "type": "scatter",
         "x": [
          "2022-03-21T00:00:00",
          "2022-03-22T00:00:00"
         ],
         "xaxis": "x",
         "y": [
          237.78,
          237.89
         ],
         "yaxis": "y"
        },
        {
         "hoverinfo": "none",
         "line": {
          "color": "green",
          "width": 3
         },
         "mode": "lines",
         "showlegend": false,
         "type": "scatter",
         "x": [
          "2022-03-22T00:00:00",
          "2022-03-23T00:00:00"
         ],
         "xaxis": "x",
         "y": [
          237.89,
          238.03
         ],
         "yaxis": "y"
        },
        {
         "hoverinfo": "none",
         "line": {
          "color": "green",
          "width": 3
         },
         "mode": "lines",
         "showlegend": false,
         "type": "scatter",
         "x": [
          "2022-03-23T00:00:00",
          "2022-03-24T00:00:00"
         ],
         "xaxis": "x",
         "y": [
          238.03,
          238.15
         ],
         "yaxis": "y"
        },
        {
         "hoverinfo": "none",
         "line": {
          "color": "green",
          "width": 3
         },
         "mode": "lines",
         "showlegend": false,
         "type": "scatter",
         "x": [
          "2022-03-24T00:00:00",
          "2022-03-25T00:00:00"
         ],
         "xaxis": "x",
         "y": [
          238.15,
          238.51
         ],
         "yaxis": "y"
        },
        {
         "hoverinfo": "none",
         "line": {
          "color": "green",
          "width": 3
         },
         "mode": "lines",
         "showlegend": false,
         "type": "scatter",
         "x": [
          "2022-03-25T00:00:00",
          "2022-03-26T00:00:00"
         ],
         "xaxis": "x",
         "y": [
          238.51,
          238.75
         ],
         "yaxis": "y"
        },
        {
         "hoverinfo": "none",
         "line": {
          "color": "green",
          "width": 3
         },
         "mode": "lines",
         "showlegend": false,
         "type": "scatter",
         "x": [
          "2022-03-26T00:00:00",
          "2022-03-27T00:00:00"
         ],
         "xaxis": "x",
         "y": [
          238.75,
          239.11
         ],
         "yaxis": "y"
        },
        {
         "hoverinfo": "none",
         "line": {
          "color": "green",
          "width": 3
         },
         "mode": "lines",
         "showlegend": false,
         "type": "scatter",
         "x": [
          "2022-03-27T00:00:00",
          "2022-03-28T00:00:00"
         ],
         "xaxis": "x",
         "y": [
          239.11,
          239.34
         ],
         "yaxis": "y"
        },
        {
         "hoverinfo": "none",
         "line": {
          "color": "green",
          "width": 3
         },
         "mode": "lines",
         "showlegend": false,
         "type": "scatter",
         "x": [
          "2022-03-28T00:00:00",
          "2022-03-29T00:00:00"
         ],
         "xaxis": "x",
         "y": [
          239.34,
          239.59
         ],
         "yaxis": "y"
        },
        {
         "hoverinfo": "none",
         "line": {
          "color": "green",
          "width": 3
         },
         "mode": "lines",
         "showlegend": false,
         "type": "scatter",
         "x": [
          "2022-03-29T00:00:00",
          "2022-03-30T00:00:00"
         ],
         "xaxis": "x",
         "y": [
          239.59,
          239.83
         ],
         "yaxis": "y"
        },
        {
         "hoverinfo": "none",
         "line": {
          "color": "green",
          "width": 3
         },
         "mode": "lines",
         "showlegend": false,
         "type": "scatter",
         "x": [
          "2022-03-30T00:00:00",
          "2022-03-31T00:00:00"
         ],
         "xaxis": "x",
         "y": [
          239.83,
          240.12
         ],
         "yaxis": "y"
        },
        {
         "hoverinfo": "none",
         "line": {
          "color": "green",
          "width": 3
         },
         "mode": "lines",
         "showlegend": false,
         "type": "scatter",
         "x": [
          "2022-03-31T00:00:00",
          "2022-04-01T00:00:00"
         ],
         "xaxis": "x",
         "y": [
          240.12,
          240.36
         ],
         "yaxis": "y"
        },
        {
         "hoverinfo": "none",
         "line": {
          "color": "green",
          "width": 3
         },
         "mode": "lines",
         "showlegend": false,
         "type": "scatter",
         "x": [
          "2022-04-01T00:00:00",
          "2022-04-02T00:00:00"
         ],
         "xaxis": "x",
         "y": [
          240.36,
          240.37
         ],
         "yaxis": "y"
        },
        {
         "hoverinfo": "none",
         "line": {
          "color": "green",
          "width": 3
         },
         "mode": "lines",
         "showlegend": false,
         "type": "scatter",
         "x": [
          "2022-04-02T00:00:00",
          "2022-04-03T00:00:00"
         ],
         "xaxis": "x",
         "y": [
          240.37,
          240.62
         ],
         "yaxis": "y"
        },
        {
         "hoverinfo": "none",
         "line": {
          "color": "green",
          "width": 3
         },
         "mode": "lines",
         "showlegend": false,
         "type": "scatter",
         "x": [
          "2022-04-03T00:00:00",
          "2022-04-04T00:00:00"
         ],
         "xaxis": "x",
         "y": [
          240.62,
          240.87
         ],
         "yaxis": "y"
        },
        {
         "hoverinfo": "none",
         "line": {
          "color": "green",
          "width": 3
         },
         "mode": "lines",
         "showlegend": false,
         "type": "scatter",
         "x": [
          "2022-04-04T00:00:00",
          "2022-04-05T00:00:00"
         ],
         "xaxis": "x",
         "y": [
          240.87,
          241.01
         ],
         "yaxis": "y"
        },
        {
         "hoverinfo": "none",
         "line": {
          "color": "green",
          "width": 3
         },
         "mode": "lines",
         "showlegend": false,
         "type": "scatter",
         "x": [
          "2022-04-05T00:00:00",
          "2022-04-06T00:00:00"
         ],
         "xaxis": "x",
         "y": [
          241.01,
          241.26
         ],
         "yaxis": "y"
        },
        {
         "hoverinfo": "none",
         "line": {
          "color": "green",
          "width": 3
         },
         "mode": "lines",
         "showlegend": false,
         "type": "scatter",
         "x": [
          "2022-04-06T00:00:00",
          "2022-04-07T00:00:00"
         ],
         "xaxis": "x",
         "y": [
          241.26,
          241.51
         ],
         "yaxis": "y"
        },
        {
         "hoverinfo": "none",
         "line": {
          "color": "green",
          "width": 3
         },
         "mode": "lines",
         "showlegend": false,
         "type": "scatter",
         "x": [
          "2022-04-07T00:00:00",
          "2022-04-08T00:00:00"
         ],
         "xaxis": "x",
         "y": [
          241.51,
          241.72
         ],
         "yaxis": "y"
        },
        {
         "hoverinfo": "none",
         "line": {
          "color": "green",
          "width": 3
         },
         "mode": "lines",
         "showlegend": false,
         "type": "scatter",
         "x": [
          "2022-04-08T00:00:00",
          "2022-04-09T00:00:00"
         ],
         "xaxis": "x",
         "y": [
          241.72,
          241.99
         ],
         "yaxis": "y"
        },
        {
         "hoverinfo": "none",
         "line": {
          "color": "green",
          "width": 3
         },
         "mode": "lines",
         "showlegend": false,
         "type": "scatter",
         "x": [
          "2022-04-09T00:00:00",
          "2022-04-10T00:00:00"
         ],
         "xaxis": "x",
         "y": [
          241.99,
          242.36
         ],
         "yaxis": "y"
        },
        {
         "hoverinfo": "none",
         "line": {
          "color": "green",
          "width": 3
         },
         "mode": "lines",
         "showlegend": false,
         "type": "scatter",
         "x": [
          "2022-04-10T00:00:00",
          "2022-04-11T00:00:00"
         ],
         "xaxis": "x",
         "y": [
          242.36,
          242.63
         ],
         "yaxis": "y"
        },
        {
         "hoverinfo": "none",
         "line": {
          "color": "green",
          "width": 3
         },
         "mode": "lines",
         "showlegend": false,
         "type": "scatter",
         "x": [
          "2022-04-11T00:00:00",
          "2022-04-12T00:00:00"
         ],
         "xaxis": "x",
         "y": [
          242.63,
          242.78
         ],
         "yaxis": "y"
        },
        {
         "hoverinfo": "none",
         "line": {
          "color": "green",
          "width": 3
         },
         "mode": "lines",
         "showlegend": false,
         "type": "scatter",
         "x": [
          "2022-04-12T00:00:00",
          "2022-04-13T00:00:00"
         ],
         "xaxis": "x",
         "y": [
          242.78,
          243.05
         ],
         "yaxis": "y"
        },
        {
         "hoverinfo": "none",
         "line": {
          "color": "green",
          "width": 3
         },
         "mode": "lines",
         "showlegend": false,
         "type": "scatter",
         "x": [
          "2022-04-13T00:00:00",
          "2022-04-14T00:00:00"
         ],
         "xaxis": "x",
         "y": [
          243.05,
          243.32
         ],
         "yaxis": "y"
        },
        {
         "hoverinfo": "none",
         "line": {
          "color": "green",
          "width": 3
         },
         "mode": "lines",
         "showlegend": false,
         "type": "scatter",
         "x": [
          "2022-04-14T00:00:00",
          "2022-04-15T00:00:00"
         ],
         "xaxis": "x",
         "y": [
          243.32,
          243.6
         ],
         "yaxis": "y"
        },
        {
         "hoverinfo": "none",
         "line": {
          "color": "green",
          "width": 3
         },
         "mode": "lines",
         "showlegend": false,
         "type": "scatter",
         "x": [
          "2022-04-15T00:00:00",
          "2022-04-16T00:00:00"
         ],
         "xaxis": "x",
         "y": [
          243.6,
          243.97
         ],
         "yaxis": "y"
        },
        {
         "hoverinfo": "none",
         "line": {
          "color": "green",
          "width": 3
         },
         "mode": "lines",
         "showlegend": false,
         "type": "scatter",
         "x": [
          "2022-04-16T00:00:00",
          "2022-04-17T00:00:00"
         ],
         "xaxis": "x",
         "y": [
          243.97,
          244.35
         ],
         "yaxis": "y"
        },
        {
         "hoverinfo": "none",
         "line": {
          "color": "green",
          "width": 3
         },
         "mode": "lines",
         "showlegend": false,
         "type": "scatter",
         "x": [
          "2022-04-17T00:00:00",
          "2022-04-18T00:00:00"
         ],
         "xaxis": "x",
         "y": [
          244.35,
          244.73
         ],
         "yaxis": "y"
        },
        {
         "hoverinfo": "none",
         "line": {
          "color": "green",
          "width": 3
         },
         "mode": "lines",
         "showlegend": false,
         "type": "scatter",
         "x": [
          "2022-04-18T00:00:00",
          "2022-04-19T00:00:00"
         ],
         "xaxis": "x",
         "y": [
          244.73,
          245.11
         ],
         "yaxis": "y"
        },
        {
         "hoverinfo": "none",
         "line": {
          "color": "green",
          "width": 3
         },
         "mode": "lines",
         "showlegend": false,
         "type": "scatter",
         "x": [
          "2022-04-19T00:00:00",
          "2022-04-20T00:00:00"
         ],
         "xaxis": "x",
         "y": [
          245.11,
          245.42
         ],
         "yaxis": "y"
        },
        {
         "hoverinfo": "none",
         "line": {
          "color": "green",
          "width": 3
         },
         "mode": "lines",
         "showlegend": false,
         "type": "scatter",
         "x": [
          "2022-04-20T00:00:00",
          "2022-04-21T00:00:00"
         ],
         "xaxis": "x",
         "y": [
          245.42,
          245.8
         ],
         "yaxis": "y"
        },
        {
         "hoverinfo": "none",
         "line": {
          "color": "green",
          "width": 3
         },
         "mode": "lines",
         "showlegend": false,
         "type": "scatter",
         "x": [
          "2022-04-21T00:00:00",
          "2022-04-22T00:00:00"
         ],
         "xaxis": "x",
         "y": [
          245.8,
          246.05
         ],
         "yaxis": "y"
        },
        {
         "hoverinfo": "none",
         "line": {
          "color": "green",
          "width": 3
         },
         "mode": "lines",
         "showlegend": false,
         "type": "scatter",
         "x": [
          "2022-04-22T00:00:00",
          "2022-04-23T00:00:00"
         ],
         "xaxis": "x",
         "y": [
          246.05,
          246.3
         ],
         "yaxis": "y"
        },
        {
         "hoverinfo": "none",
         "line": {
          "color": "green",
          "width": 3
         },
         "mode": "lines",
         "showlegend": false,
         "type": "scatter",
         "x": [
          "2022-04-23T00:00:00",
          "2022-04-24T00:00:00"
         ],
         "xaxis": "x",
         "y": [
          246.3,
          246.68
         ],
         "yaxis": "y"
        },
        {
         "hoverinfo": "none",
         "line": {
          "color": "green",
          "width": 3
         },
         "mode": "lines",
         "showlegend": false,
         "type": "scatter",
         "x": [
          "2022-04-24T00:00:00",
          "2022-04-25T00:00:00"
         ],
         "xaxis": "x",
         "y": [
          246.68,
          247.06
         ],
         "yaxis": "y"
        },
        {
         "hoverinfo": "none",
         "line": {
          "color": "green",
          "width": 3
         },
         "mode": "lines",
         "showlegend": false,
         "type": "scatter",
         "x": [
          "2022-04-25T00:00:00",
          "2022-04-26T00:00:00"
         ],
         "xaxis": "x",
         "y": [
          247.06,
          247.33
         ],
         "yaxis": "y"
        },
        {
         "hoverinfo": "none",
         "line": {
          "color": "green",
          "width": 3
         },
         "mode": "lines",
         "showlegend": false,
         "type": "scatter",
         "x": [
          "2022-04-26T00:00:00",
          "2022-04-27T00:00:00"
         ],
         "xaxis": "x",
         "y": [
          247.33,
          247.58
         ],
         "yaxis": "y"
        },
        {
         "hoverinfo": "none",
         "line": {
          "color": "green",
          "width": 3
         },
         "mode": "lines",
         "showlegend": false,
         "type": "scatter",
         "x": [
          "2022-04-27T00:00:00",
          "2022-04-28T00:00:00"
         ],
         "xaxis": "x",
         "y": [
          247.58,
          247.9
         ],
         "yaxis": "y"
        },
        {
         "hoverinfo": "none",
         "line": {
          "color": "green",
          "width": 3
         },
         "mode": "lines",
         "showlegend": false,
         "type": "scatter",
         "x": [
          "2022-04-28T00:00:00",
          "2022-04-29T00:00:00"
         ],
         "xaxis": "x",
         "y": [
          247.9,
          248.16
         ],
         "yaxis": "y"
        },
        {
         "hoverinfo": "none",
         "line": {
          "color": "green",
          "width": 3
         },
         "mode": "lines",
         "showlegend": false,
         "type": "scatter",
         "x": [
          "2022-04-29T00:00:00",
          "2022-04-30T00:00:00"
         ],
         "xaxis": "x",
         "y": [
          248.16,
          248.43
         ],
         "yaxis": "y"
        },
        {
         "hoverinfo": "none",
         "line": {
          "color": "green",
          "width": 3
         },
         "mode": "lines",
         "showlegend": false,
         "type": "scatter",
         "x": [
          "2022-04-30T00:00:00",
          "2022-05-01T00:00:00"
         ],
         "xaxis": "x",
         "y": [
          248.43,
          248.7
         ],
         "yaxis": "y"
        },
        {
         "hoverinfo": "none",
         "line": {
          "color": "green",
          "width": 3
         },
         "mode": "lines",
         "showlegend": false,
         "type": "scatter",
         "x": [
          "2022-05-01T00:00:00",
          "2022-05-02T00:00:00"
         ],
         "xaxis": "x",
         "y": [
          248.7,
          248.72
         ],
         "yaxis": "y"
        },
        {
         "hoverinfo": "none",
         "line": {
          "color": "green",
          "width": 3
         },
         "mode": "lines",
         "showlegend": false,
         "type": "scatter",
         "x": [
          "2022-05-02T00:00:00",
          "2022-05-03T00:00:00"
         ],
         "xaxis": "x",
         "y": [
          248.72,
          248.75
         ],
         "yaxis": "y"
        },
        {
         "hoverinfo": "none",
         "line": {
          "color": "green",
          "width": 3
         },
         "mode": "lines",
         "showlegend": false,
         "type": "scatter",
         "x": [
          "2022-05-03T00:00:00",
          "2022-05-04T00:00:00"
         ],
         "xaxis": "x",
         "y": [
          248.75,
          248.9
         ],
         "yaxis": "y"
        },
        {
         "hoverinfo": "none",
         "line": {
          "color": "green",
          "width": 3
         },
         "mode": "lines",
         "showlegend": false,
         "type": "scatter",
         "x": [
          "2022-05-04T00:00:00",
          "2022-05-05T00:00:00"
         ],
         "xaxis": "x",
         "y": [
          248.9,
          249.05
         ],
         "yaxis": "y"
        },
        {
         "hoverinfo": "none",
         "line": {
          "color": "green",
          "width": 3
         },
         "mode": "lines",
         "showlegend": false,
         "type": "scatter",
         "x": [
          "2022-05-05T00:00:00",
          "2022-05-06T00:00:00"
         ],
         "xaxis": "x",
         "y": [
          249.05,
          249.19
         ],
         "yaxis": "y"
        },
        {
         "hoverinfo": "none",
         "line": {
          "color": "green",
          "width": 3
         },
         "mode": "lines",
         "showlegend": false,
         "type": "scatter",
         "x": [
          "2022-05-06T00:00:00",
          "2022-05-07T00:00:00"
         ],
         "xaxis": "x",
         "y": [
          249.19,
          249.44
         ],
         "yaxis": "y"
        },
        {
         "hoverinfo": "none",
         "line": {
          "color": "green",
          "width": 3
         },
         "mode": "lines",
         "showlegend": false,
         "type": "scatter",
         "x": [
          "2022-05-07T00:00:00",
          "2022-05-08T00:00:00"
         ],
         "xaxis": "x",
         "y": [
          249.44,
          249.81
         ],
         "yaxis": "y"
        },
        {
         "hoverinfo": "none",
         "line": {
          "color": "green",
          "width": 3
         },
         "mode": "lines",
         "showlegend": false,
         "type": "scatter",
         "x": [
          "2022-05-08T00:00:00",
          "2022-05-09T00:00:00"
         ],
         "xaxis": "x",
         "y": [
          249.81,
          250.2
         ],
         "yaxis": "y"
        },
        {
         "hoverinfo": "none",
         "line": {
          "color": "green",
          "width": 3
         },
         "mode": "lines",
         "showlegend": false,
         "type": "scatter",
         "x": [
          "2022-05-09T00:00:00",
          "2022-05-10T00:00:00"
         ],
         "xaxis": "x",
         "y": [
          250.2,
          250.46
         ],
         "yaxis": "y"
        },
        {
         "hoverinfo": "none",
         "line": {
          "color": "green",
          "width": 3
         },
         "mode": "lines",
         "showlegend": false,
         "type": "scatter",
         "x": [
          "2022-05-10T00:00:00",
          "2022-05-11T00:00:00"
         ],
         "xaxis": "x",
         "y": [
          250.46,
          250.85
         ],
         "yaxis": "y"
        },
        {
         "hoverinfo": "none",
         "line": {
          "color": "green",
          "width": 3
         },
         "mode": "lines",
         "showlegend": false,
         "type": "scatter",
         "x": [
          "2022-05-11T00:00:00",
          "2022-05-12T00:00:00"
         ],
         "xaxis": "x",
         "y": [
          250.85,
          251.1
         ],
         "yaxis": "y"
        },
        {
         "hoverinfo": "none",
         "line": {
          "color": "green",
          "width": 3
         },
         "mode": "lines",
         "showlegend": false,
         "type": "scatter",
         "x": [
          "2022-05-12T00:00:00",
          "2022-05-13T00:00:00"
         ],
         "xaxis": "x",
         "y": [
          251.1,
          251.37
         ],
         "yaxis": "y"
        },
        {
         "hoverinfo": "none",
         "line": {
          "color": "green",
          "width": 3
         },
         "mode": "lines",
         "showlegend": false,
         "type": "scatter",
         "x": [
          "2022-05-13T00:00:00",
          "2022-05-14T00:00:00"
         ],
         "xaxis": "x",
         "y": [
          251.37,
          251.78
         ],
         "yaxis": "y"
        },
        {
         "hoverinfo": "none",
         "line": {
          "color": "green",
          "width": 3
         },
         "mode": "lines",
         "showlegend": false,
         "type": "scatter",
         "x": [
          "2022-05-14T00:00:00",
          "2022-05-15T00:00:00"
         ],
         "xaxis": "x",
         "y": [
          251.78,
          252.05
         ],
         "yaxis": "y"
        },
        {
         "hoverinfo": "none",
         "line": {
          "color": "green",
          "width": 3
         },
         "mode": "lines",
         "showlegend": false,
         "type": "scatter",
         "x": [
          "2022-05-15T00:00:00",
          "2022-05-16T00:00:00"
         ],
         "xaxis": "x",
         "y": [
          252.05,
          252.2
         ],
         "yaxis": "y"
        },
        {
         "hoverinfo": "none",
         "line": {
          "color": "green",
          "width": 3
         },
         "mode": "lines",
         "showlegend": false,
         "type": "scatter",
         "x": [
          "2022-05-16T00:00:00",
          "2022-05-17T00:00:00"
         ],
         "xaxis": "x",
         "y": [
          252.2,
          252.46
         ],
         "yaxis": "y"
        },
        {
         "hoverinfo": "none",
         "line": {
          "color": "green",
          "width": 3
         },
         "mode": "lines",
         "showlegend": false,
         "type": "scatter",
         "x": [
          "2022-05-17T00:00:00",
          "2022-05-18T00:00:00"
         ],
         "xaxis": "x",
         "y": [
          252.46,
          252.85
         ],
         "yaxis": "y"
        },
        {
         "hoverinfo": "none",
         "line": {
          "color": "green",
          "width": 3
         },
         "mode": "lines",
         "showlegend": false,
         "type": "scatter",
         "x": [
          "2022-05-18T00:00:00",
          "2022-05-19T00:00:00"
         ],
         "xaxis": "x",
         "y": [
          252.85,
          252.99
         ],
         "yaxis": "y"
        },
        {
         "hoverinfo": "none",
         "line": {
          "color": "green",
          "width": 3
         },
         "mode": "lines",
         "showlegend": false,
         "type": "scatter",
         "x": [
          "2022-05-19T00:00:00",
          "2022-05-20T00:00:00"
         ],
         "xaxis": "x",
         "y": [
          252.99,
          253.25
         ],
         "yaxis": "y"
        },
        {
         "hoverinfo": "none",
         "line": {
          "color": "green",
          "width": 3
         },
         "mode": "lines",
         "showlegend": false,
         "type": "scatter",
         "x": [
          "2022-05-20T00:00:00",
          "2022-05-21T00:00:00"
         ],
         "xaxis": "x",
         "y": [
          253.25,
          253.5
         ],
         "yaxis": "y"
        },
        {
         "hoverinfo": "none",
         "line": {
          "color": "green",
          "width": 3
         },
         "mode": "lines",
         "showlegend": false,
         "type": "scatter",
         "x": [
          "2022-05-21T00:00:00",
          "2022-05-22T00:00:00"
         ],
         "xaxis": "x",
         "y": [
          253.5,
          253.75
         ],
         "yaxis": "y"
        },
        {
         "hoverinfo": "none",
         "line": {
          "color": "green",
          "width": 3
         },
         "mode": "lines",
         "showlegend": false,
         "type": "scatter",
         "x": [
          "2022-05-22T00:00:00",
          "2022-05-23T00:00:00"
         ],
         "xaxis": "x",
         "y": [
          253.75,
          254
         ],
         "yaxis": "y"
        },
        {
         "hoverinfo": "none",
         "line": {
          "color": "green",
          "width": 3
         },
         "mode": "lines",
         "showlegend": false,
         "type": "scatter",
         "x": [
          "2022-05-23T00:00:00",
          "2022-05-24T00:00:00"
         ],
         "xaxis": "x",
         "y": [
          254,
          254.26
         ],
         "yaxis": "y"
        },
        {
         "hoverinfo": "none",
         "line": {
          "color": "green",
          "width": 3
         },
         "mode": "lines",
         "showlegend": false,
         "type": "scatter",
         "x": [
          "2022-05-24T00:00:00",
          "2022-05-25T00:00:00"
         ],
         "xaxis": "x",
         "y": [
          254.26,
          254.38
         ],
         "yaxis": "y"
        },
        {
         "hoverinfo": "none",
         "line": {
          "color": "green",
          "width": 3
         },
         "mode": "lines",
         "showlegend": false,
         "type": "scatter",
         "x": [
          "2022-05-25T00:00:00",
          "2022-05-26T00:00:00"
         ],
         "xaxis": "x",
         "y": [
          254.38,
          254.51
         ],
         "yaxis": "y"
        },
        {
         "hoverinfo": "none",
         "line": {
          "color": "green",
          "width": 3
         },
         "mode": "lines",
         "showlegend": false,
         "type": "scatter",
         "x": [
          "2022-05-26T00:00:00",
          "2022-05-27T00:00:00"
         ],
         "xaxis": "x",
         "y": [
          254.51,
          254.75
         ],
         "yaxis": "y"
        },
        {
         "hoverinfo": "none",
         "line": {
          "color": "green",
          "width": 3
         },
         "mode": "lines",
         "showlegend": false,
         "type": "scatter",
         "x": [
          "2022-05-27T00:00:00",
          "2022-05-28T00:00:00"
         ],
         "xaxis": "x",
         "y": [
          254.75,
          254.88
         ],
         "yaxis": "y"
        },
        {
         "hoverinfo": "none",
         "line": {
          "color": "green",
          "width": 3
         },
         "mode": "lines",
         "showlegend": false,
         "type": "scatter",
         "x": [
          "2022-05-28T00:00:00",
          "2022-05-29T00:00:00"
         ],
         "xaxis": "x",
         "y": [
          254.88,
          255
         ],
         "yaxis": "y"
        },
        {
         "hoverinfo": "none",
         "line": {
          "color": "green",
          "width": 3
         },
         "mode": "lines",
         "showlegend": false,
         "type": "scatter",
         "x": [
          "2022-05-29T00:00:00",
          "2022-05-30T00:00:00"
         ],
         "xaxis": "x",
         "y": [
          255,
          255
         ],
         "yaxis": "y"
        },
        {
         "hoverinfo": "none",
         "line": {
          "color": "green",
          "width": 3
         },
         "mode": "lines",
         "showlegend": false,
         "type": "scatter",
         "x": [
          "2022-05-30T00:00:00",
          "2022-05-31T00:00:00"
         ],
         "xaxis": "x",
         "y": [
          255,
          255
         ],
         "yaxis": "y"
        },
        {
         "hoverinfo": "none",
         "line": {
          "color": "green",
          "width": 3
         },
         "mode": "lines",
         "showlegend": false,
         "type": "scatter",
         "x": [
          "2022-05-31T00:00:00",
          "2022-06-01T00:00:00"
         ],
         "xaxis": "x",
         "y": [
          255,
          255
         ],
         "yaxis": "y"
        },
        {
         "hoverinfo": "none",
         "line": {
          "color": "green",
          "width": 3
         },
         "mode": "lines",
         "showlegend": false,
         "type": "scatter",
         "x": [
          "2022-06-01T00:00:00",
          "2022-06-02T00:00:00"
         ],
         "xaxis": "x",
         "y": [
          255,
          255.12
         ],
         "yaxis": "y"
        },
        {
         "hoverinfo": "none",
         "line": {
          "color": "green",
          "width": 3
         },
         "mode": "lines",
         "showlegend": false,
         "type": "scatter",
         "x": [
          "2022-06-02T00:00:00",
          "2022-06-03T00:00:00"
         ],
         "xaxis": "x",
         "y": [
          255.12,
          255.24
         ],
         "yaxis": "y"
        },
        {
         "hoverinfo": "none",
         "line": {
          "color": "green",
          "width": 3
         },
         "mode": "lines",
         "showlegend": false,
         "type": "scatter",
         "x": [
          "2022-06-03T00:00:00",
          "2022-06-04T00:00:00"
         ],
         "xaxis": "x",
         "y": [
          255.24,
          255.35
         ],
         "yaxis": "y"
        },
        {
         "hoverinfo": "none",
         "line": {
          "color": "green",
          "width": 3
         },
         "mode": "lines",
         "showlegend": false,
         "type": "scatter",
         "x": [
          "2022-06-04T00:00:00",
          "2022-06-05T00:00:00"
         ],
         "xaxis": "x",
         "y": [
          255.35,
          255.58
         ],
         "yaxis": "y"
        },
        {
         "hoverinfo": "none",
         "line": {
          "color": "green",
          "width": 3
         },
         "mode": "lines",
         "showlegend": false,
         "type": "scatter",
         "x": [
          "2022-06-05T00:00:00",
          "2022-06-06T00:00:00"
         ],
         "xaxis": "x",
         "y": [
          255.58,
          255.82
         ],
         "yaxis": "y"
        },
        {
         "hoverinfo": "none",
         "line": {
          "color": "green",
          "width": 3
         },
         "mode": "lines",
         "showlegend": false,
         "type": "scatter",
         "x": [
          "2022-06-06T00:00:00",
          "2022-06-07T00:00:00"
         ],
         "xaxis": "x",
         "y": [
          255.82,
          256.18
         ],
         "yaxis": "y"
        },
        {
         "hoverinfo": "none",
         "line": {
          "color": "green",
          "width": 3
         },
         "mode": "lines",
         "showlegend": false,
         "type": "scatter",
         "x": [
          "2022-06-07T00:00:00",
          "2022-06-08T00:00:00"
         ],
         "xaxis": "x",
         "y": [
          256.18,
          256.53
         ],
         "yaxis": "y"
        },
        {
         "hoverinfo": "none",
         "line": {
          "color": "green",
          "width": 3
         },
         "mode": "lines",
         "showlegend": false,
         "type": "scatter",
         "x": [
          "2022-06-08T00:00:00",
          "2022-06-09T00:00:00"
         ],
         "xaxis": "x",
         "y": [
          256.53,
          256.88
         ],
         "yaxis": "y"
        },
        {
         "hoverinfo": "none",
         "line": {
          "color": "green",
          "width": 3
         },
         "mode": "lines",
         "showlegend": false,
         "type": "scatter",
         "x": [
          "2022-06-09T00:00:00",
          "2022-06-10T00:00:00"
         ],
         "xaxis": "x",
         "y": [
          256.88,
          257.12
         ],
         "yaxis": "y"
        },
        {
         "hoverinfo": "none",
         "line": {
          "color": "green",
          "width": 3
         },
         "mode": "lines",
         "showlegend": false,
         "type": "scatter",
         "x": [
          "2022-06-10T00:00:00",
          "2022-06-11T00:00:00"
         ],
         "xaxis": "x",
         "y": [
          257.12,
          257.35
         ],
         "yaxis": "y"
        },
        {
         "hoverinfo": "none",
         "line": {
          "color": "green",
          "width": 3
         },
         "mode": "lines",
         "showlegend": false,
         "type": "scatter",
         "x": [
          "2022-06-11T00:00:00",
          "2022-06-12T00:00:00"
         ],
         "xaxis": "x",
         "y": [
          257.35,
          257.59
         ],
         "yaxis": "y"
        },
        {
         "hoverinfo": "none",
         "line": {
          "color": "green",
          "width": 3
         },
         "mode": "lines",
         "showlegend": false,
         "type": "scatter",
         "x": [
          "2022-06-12T00:00:00",
          "2022-06-13T00:00:00"
         ],
         "xaxis": "x",
         "y": [
          257.59,
          257.71
         ],
         "yaxis": "y"
        },
        {
         "hoverinfo": "none",
         "line": {
          "color": "green",
          "width": 3
         },
         "mode": "lines",
         "showlegend": false,
         "type": "scatter",
         "x": [
          "2022-06-13T00:00:00",
          "2022-06-14T00:00:00"
         ],
         "xaxis": "x",
         "y": [
          257.71,
          257.83
         ],
         "yaxis": "y"
        },
        {
         "hoverinfo": "none",
         "line": {
          "color": "green",
          "width": 3
         },
         "mode": "lines",
         "showlegend": false,
         "type": "scatter",
         "x": [
          "2022-06-14T00:00:00",
          "2022-06-15T00:00:00"
         ],
         "xaxis": "x",
         "y": [
          257.83,
          257.83
         ],
         "yaxis": "y"
        },
        {
         "hoverinfo": "none",
         "line": {
          "color": "green",
          "width": 3
         },
         "mode": "lines",
         "showlegend": false,
         "type": "scatter",
         "x": [
          "2022-06-15T00:00:00",
          "2022-06-16T00:00:00"
         ],
         "xaxis": "x",
         "y": [
          257.83,
          257.83
         ],
         "yaxis": "y"
        },
        {
         "hoverinfo": "none",
         "line": {
          "color": "green",
          "width": 3
         },
         "mode": "lines",
         "showlegend": false,
         "type": "scatter",
         "x": [
          "2022-06-16T00:00:00",
          "2022-06-17T00:00:00"
         ],
         "xaxis": "x",
         "y": [
          257.83,
          257.83
         ],
         "yaxis": "y"
        },
        {
         "hoverinfo": "none",
         "line": {
          "color": "green",
          "width": 3
         },
         "mode": "lines",
         "showlegend": false,
         "type": "scatter",
         "x": [
          "2022-06-17T00:00:00",
          "2022-06-18T00:00:00"
         ],
         "xaxis": "x",
         "y": [
          257.83,
          257.83
         ],
         "yaxis": "y"
        },
        {
         "hoverinfo": "none",
         "line": {
          "color": "green",
          "width": 3
         },
         "mode": "lines",
         "showlegend": false,
         "type": "scatter",
         "x": [
          "2022-06-18T00:00:00",
          "2022-06-19T00:00:00"
         ],
         "xaxis": "x",
         "y": [
          257.83,
          257.83
         ],
         "yaxis": "y"
        },
        {
         "hoverinfo": "none",
         "line": {
          "color": "green",
          "width": 3
         },
         "mode": "lines",
         "showlegend": false,
         "type": "scatter",
         "x": [
          "2022-06-19T00:00:00",
          "2022-06-20T00:00:00"
         ],
         "xaxis": "x",
         "y": [
          257.83,
          257.83
         ],
         "yaxis": "y"
        },
        {
         "hoverinfo": "none",
         "line": {
          "color": "green",
          "width": 3
         },
         "mode": "lines",
         "showlegend": false,
         "type": "scatter",
         "x": [
          "2022-06-20T00:00:00",
          "2022-06-21T00:00:00"
         ],
         "xaxis": "x",
         "y": [
          257.83,
          257.83
         ],
         "yaxis": "y"
        },
        {
         "hoverinfo": "none",
         "line": {
          "color": "green",
          "width": 3
         },
         "mode": "lines",
         "showlegend": false,
         "type": "scatter",
         "x": [
          "2022-06-21T00:00:00",
          "2022-06-22T00:00:00"
         ],
         "xaxis": "x",
         "y": [
          257.83,
          257.83
         ],
         "yaxis": "y"
        },
        {
         "hoverinfo": "none",
         "line": {
          "color": "red",
          "width": 3
         },
         "mode": "lines",
         "showlegend": false,
         "type": "scatter",
         "x": [
          "2022-06-22T00:00:00",
          "2022-06-23T00:00:00"
         ],
         "xaxis": "x",
         "y": [
          257.83,
          257.82
         ],
         "yaxis": "y"
        },
        {
         "hoverinfo": "none",
         "line": {
          "color": "red",
          "width": 3
         },
         "mode": "lines",
         "showlegend": false,
         "type": "scatter",
         "x": [
          "2022-06-23T00:00:00",
          "2022-06-24T00:00:00"
         ],
         "xaxis": "x",
         "y": [
          257.82,
          257.69
         ],
         "yaxis": "y"
        },
        {
         "hoverinfo": "none",
         "line": {
          "color": "green",
          "width": 3
         },
         "mode": "lines",
         "showlegend": false,
         "type": "scatter",
         "x": [
          "2022-06-24T00:00:00",
          "2022-06-25T00:00:00"
         ],
         "xaxis": "x",
         "y": [
          257.69,
          257.69
         ],
         "yaxis": "y"
        },
        {
         "hoverinfo": "none",
         "line": {
          "color": "red",
          "width": 3
         },
         "mode": "lines",
         "showlegend": false,
         "type": "scatter",
         "x": [
          "2022-06-25T00:00:00",
          "2022-06-26T00:00:00"
         ],
         "xaxis": "x",
         "y": [
          257.69,
          257.68
         ],
         "yaxis": "y"
        },
        {
         "hoverinfo": "none",
         "line": {
          "color": "green",
          "width": 3
         },
         "mode": "lines",
         "showlegend": false,
         "type": "scatter",
         "x": [
          "2022-06-26T00:00:00",
          "2022-06-27T00:00:00"
         ],
         "xaxis": "x",
         "y": [
          257.68,
          257.68
         ],
         "yaxis": "y"
        },
        {
         "hoverinfo": "none",
         "line": {
          "color": "green",
          "width": 3
         },
         "mode": "lines",
         "showlegend": false,
         "type": "scatter",
         "x": [
          "2022-06-27T00:00:00",
          "2022-06-28T00:00:00"
         ],
         "xaxis": "x",
         "y": [
          257.68,
          257.68
         ],
         "yaxis": "y"
        },
        {
         "hoverinfo": "none",
         "line": {
          "color": "green",
          "width": 3
         },
         "mode": "lines",
         "showlegend": false,
         "type": "scatter",
         "x": [
          "2022-06-28T00:00:00",
          "2022-06-29T00:00:00"
         ],
         "xaxis": "x",
         "y": [
          257.68,
          257.68
         ],
         "yaxis": "y"
        },
        {
         "hoverinfo": "none",
         "line": {
          "color": "green",
          "width": 3
         },
         "mode": "lines",
         "showlegend": false,
         "type": "scatter",
         "x": [
          "2022-06-29T00:00:00",
          "2022-06-30T00:00:00"
         ],
         "xaxis": "x",
         "y": [
          257.68,
          257.79
         ],
         "yaxis": "y"
        },
        {
         "hoverinfo": "none",
         "line": {
          "color": "green",
          "width": 3
         },
         "mode": "lines",
         "showlegend": false,
         "type": "scatter",
         "x": [
          "2022-06-30T00:00:00",
          "2022-07-01T00:00:00"
         ],
         "xaxis": "x",
         "y": [
          257.79,
          258.03
         ],
         "yaxis": "y"
        },
        {
         "hoverinfo": "none",
         "line": {
          "color": "green",
          "width": 3
         },
         "mode": "lines",
         "showlegend": false,
         "type": "scatter",
         "x": [
          "2022-07-01T00:00:00",
          "2022-07-02T00:00:00"
         ],
         "xaxis": "x",
         "y": [
          258.03,
          258.39
         ],
         "yaxis": "y"
        },
        {
         "hoverinfo": "none",
         "line": {
          "color": "green",
          "width": 3
         },
         "mode": "lines",
         "showlegend": false,
         "type": "scatter",
         "x": [
          "2022-07-02T00:00:00",
          "2022-07-03T00:00:00"
         ],
         "xaxis": "x",
         "y": [
          258.39,
          258.63
         ],
         "yaxis": "y"
        },
        {
         "hoverinfo": "none",
         "line": {
          "color": "green",
          "width": 3
         },
         "mode": "lines",
         "showlegend": false,
         "type": "scatter",
         "x": [
          "2022-07-03T00:00:00",
          "2022-07-04T00:00:00"
         ],
         "xaxis": "x",
         "y": [
          258.63,
          258.86
         ],
         "yaxis": "y"
        },
        {
         "hoverinfo": "none",
         "line": {
          "color": "green",
          "width": 3
         },
         "mode": "lines",
         "showlegend": false,
         "type": "scatter",
         "x": [
          "2022-07-04T00:00:00",
          "2022-07-05T00:00:00"
         ],
         "xaxis": "x",
         "y": [
          258.86,
          259.1
         ],
         "yaxis": "y"
        },
        {
         "hoverinfo": "none",
         "line": {
          "color": "green",
          "width": 3
         },
         "mode": "lines",
         "showlegend": false,
         "type": "scatter",
         "x": [
          "2022-07-05T00:00:00",
          "2022-07-06T00:00:00"
         ],
         "xaxis": "x",
         "y": [
          259.1,
          259.46
         ],
         "yaxis": "y"
        },
        {
         "hoverinfo": "none",
         "line": {
          "color": "green",
          "width": 3
         },
         "mode": "lines",
         "showlegend": false,
         "type": "scatter",
         "x": [
          "2022-07-06T00:00:00",
          "2022-07-07T00:00:00"
         ],
         "xaxis": "x",
         "y": [
          259.46,
          259.69
         ],
         "yaxis": "y"
        },
        {
         "hoverinfo": "none",
         "line": {
          "color": "green",
          "width": 3
         },
         "mode": "lines",
         "showlegend": false,
         "type": "scatter",
         "x": [
          "2022-07-07T00:00:00",
          "2022-07-08T00:00:00"
         ],
         "xaxis": "x",
         "y": [
          259.69,
          259.8
         ],
         "yaxis": "y"
        },
        {
         "hoverinfo": "none",
         "line": {
          "color": "red",
          "width": 3
         },
         "mode": "lines",
         "showlegend": false,
         "type": "scatter",
         "x": [
          "2022-07-08T00:00:00",
          "2022-07-09T00:00:00"
         ],
         "xaxis": "x",
         "y": [
          259.8,
          259.79
         ],
         "yaxis": "y"
        },
        {
         "hoverinfo": "none",
         "line": {
          "color": "green",
          "width": 3
         },
         "mode": "lines",
         "showlegend": false,
         "type": "scatter",
         "x": [
          "2022-07-09T00:00:00",
          "2022-07-10T00:00:00"
         ],
         "xaxis": "x",
         "y": [
          259.79,
          259.79
         ],
         "yaxis": "y"
        },
        {
         "hoverinfo": "none",
         "line": {
          "color": "red",
          "width": 3
         },
         "mode": "lines",
         "showlegend": false,
         "type": "scatter",
         "x": [
          "2022-07-10T00:00:00",
          "2022-07-11T00:00:00"
         ],
         "xaxis": "x",
         "y": [
          259.79,
          259.78
         ],
         "yaxis": "y"
        },
        {
         "hoverinfo": "none",
         "line": {
          "color": "green",
          "width": 3
         },
         "mode": "lines",
         "showlegend": false,
         "type": "scatter",
         "x": [
          "2022-07-11T00:00:00",
          "2022-07-12T00:00:00"
         ],
         "xaxis": "x",
         "y": [
          259.78,
          259.78
         ],
         "yaxis": "y"
        },
        {
         "hoverinfo": "none",
         "line": {
          "color": "red",
          "width": 3
         },
         "mode": "lines",
         "showlegend": false,
         "type": "scatter",
         "x": [
          "2022-07-12T00:00:00",
          "2022-07-13T00:00:00"
         ],
         "xaxis": "x",
         "y": [
          259.78,
          259.76
         ],
         "yaxis": "y"
        },
        {
         "hoverinfo": "none",
         "line": {
          "color": "red",
          "width": 3
         },
         "mode": "lines",
         "showlegend": false,
         "type": "scatter",
         "x": [
          "2022-07-13T00:00:00",
          "2022-07-14T00:00:00"
         ],
         "xaxis": "x",
         "y": [
          259.76,
          259.63
         ],
         "yaxis": "y"
        },
        {
         "hoverinfo": "none",
         "line": {
          "color": "red",
          "width": 3
         },
         "mode": "lines",
         "showlegend": false,
         "type": "scatter",
         "x": [
          "2022-07-14T00:00:00",
          "2022-07-15T00:00:00"
         ],
         "xaxis": "x",
         "y": [
          259.63,
          259.61
         ],
         "yaxis": "y"
        },
        {
         "hoverinfo": "none",
         "line": {
          "color": "red",
          "width": 3
         },
         "mode": "lines",
         "showlegend": false,
         "type": "scatter",
         "x": [
          "2022-07-15T00:00:00",
          "2022-07-16T00:00:00"
         ],
         "xaxis": "x",
         "y": [
          259.61,
          259.48
         ],
         "yaxis": "y"
        },
        {
         "hoverinfo": "none",
         "line": {
          "color": "red",
          "width": 3
         },
         "mode": "lines",
         "showlegend": false,
         "type": "scatter",
         "x": [
          "2022-07-16T00:00:00",
          "2022-07-17T00:00:00"
         ],
         "xaxis": "x",
         "y": [
          259.48,
          259.35
         ],
         "yaxis": "y"
        },
        {
         "hoverinfo": "none",
         "line": {
          "color": "red",
          "width": 3
         },
         "mode": "lines",
         "showlegend": false,
         "type": "scatter",
         "x": [
          "2022-07-17T00:00:00",
          "2022-07-18T00:00:00"
         ],
         "xaxis": "x",
         "y": [
          259.35,
          259.23
         ],
         "yaxis": "y"
        },
        {
         "hoverinfo": "none",
         "line": {
          "color": "red",
          "width": 3
         },
         "mode": "lines",
         "showlegend": false,
         "type": "scatter",
         "x": [
          "2022-07-18T00:00:00",
          "2022-07-19T00:00:00"
         ],
         "xaxis": "x",
         "y": [
          259.23,
          259.1
         ],
         "yaxis": "y"
        },
        {
         "hoverinfo": "none",
         "line": {
          "color": "red",
          "width": 3
         },
         "mode": "lines",
         "showlegend": false,
         "type": "scatter",
         "x": [
          "2022-07-19T00:00:00",
          "2022-07-20T00:00:00"
         ],
         "xaxis": "x",
         "y": [
          259.1,
          258.98
         ],
         "yaxis": "y"
        },
        {
         "hoverinfo": "none",
         "line": {
          "color": "red",
          "width": 3
         },
         "mode": "lines",
         "showlegend": false,
         "type": "scatter",
         "x": [
          "2022-07-20T00:00:00",
          "2022-07-21T00:00:00"
         ],
         "xaxis": "x",
         "y": [
          258.98,
          258.86
         ],
         "yaxis": "y"
        },
        {
         "hoverinfo": "none",
         "line": {
          "color": "red",
          "width": 3
         },
         "mode": "lines",
         "showlegend": false,
         "type": "scatter",
         "x": [
          "2022-07-21T00:00:00",
          "2022-07-22T00:00:00"
         ],
         "xaxis": "x",
         "y": [
          258.86,
          258.74
         ],
         "yaxis": "y"
        },
        {
         "hoverinfo": "none",
         "line": {
          "color": "red",
          "width": 3
         },
         "mode": "lines",
         "showlegend": false,
         "type": "scatter",
         "x": [
          "2022-07-22T00:00:00",
          "2022-07-23T00:00:00"
         ],
         "xaxis": "x",
         "y": [
          258.74,
          258.63
         ],
         "yaxis": "y"
        },
        {
         "hoverinfo": "none",
         "line": {
          "color": "red",
          "width": 3
         },
         "mode": "lines",
         "showlegend": false,
         "type": "scatter",
         "x": [
          "2022-07-23T00:00:00",
          "2022-07-24T00:00:00"
         ],
         "xaxis": "x",
         "y": [
          258.63,
          258.51
         ],
         "yaxis": "y"
        },
        {
         "hoverinfo": "none",
         "line": {
          "color": "green",
          "width": 3
         },
         "mode": "lines",
         "showlegend": false,
         "type": "scatter",
         "x": [
          "2022-07-24T00:00:00",
          "2022-07-25T00:00:00"
         ],
         "xaxis": "x",
         "y": [
          258.51,
          258.51
         ],
         "yaxis": "y"
        },
        {
         "hoverinfo": "none",
         "line": {
          "color": "red",
          "width": 3
         },
         "mode": "lines",
         "showlegend": false,
         "type": "scatter",
         "x": [
          "2022-07-25T00:00:00",
          "2022-07-26T00:00:00"
         ],
         "xaxis": "x",
         "y": [
          258.51,
          258.38
         ],
         "yaxis": "y"
        },
        {
         "hoverinfo": "none",
         "line": {
          "color": "red",
          "width": 3
         },
         "mode": "lines",
         "showlegend": false,
         "type": "scatter",
         "x": [
          "2022-07-26T00:00:00",
          "2022-07-27T00:00:00"
         ],
         "xaxis": "x",
         "y": [
          258.38,
          258.25
         ],
         "yaxis": "y"
        },
        {
         "hoverinfo": "none",
         "line": {
          "color": "red",
          "width": 3
         },
         "mode": "lines",
         "showlegend": false,
         "type": "scatter",
         "x": [
          "2022-07-27T00:00:00",
          "2022-07-28T00:00:00"
         ],
         "xaxis": "x",
         "y": [
          258.25,
          258.13
         ],
         "yaxis": "y"
        },
        {
         "hoverinfo": "none",
         "line": {
          "color": "red",
          "width": 3
         },
         "mode": "lines",
         "showlegend": false,
         "type": "scatter",
         "x": [
          "2022-07-28T00:00:00",
          "2022-07-29T00:00:00"
         ],
         "xaxis": "x",
         "y": [
          258.13,
          257.99
         ],
         "yaxis": "y"
        },
        {
         "hoverinfo": "none",
         "line": {
          "color": "red",
          "width": 3
         },
         "mode": "lines",
         "showlegend": false,
         "type": "scatter",
         "x": [
          "2022-07-29T00:00:00",
          "2022-07-30T00:00:00"
         ],
         "xaxis": "x",
         "y": [
          257.99,
          257.87
         ],
         "yaxis": "y"
        },
        {
         "hoverinfo": "none",
         "line": {
          "color": "red",
          "width": 3
         },
         "mode": "lines",
         "showlegend": false,
         "type": "scatter",
         "x": [
          "2022-07-30T00:00:00",
          "2022-07-31T00:00:00"
         ],
         "xaxis": "x",
         "y": [
          257.87,
          257.74
         ],
         "yaxis": "y"
        },
        {
         "hoverinfo": "none",
         "line": {
          "color": "green",
          "width": 3
         },
         "mode": "lines",
         "showlegend": false,
         "type": "scatter",
         "x": [
          "2022-07-31T00:00:00",
          "2022-08-01T00:00:00"
         ],
         "xaxis": "x",
         "y": [
          257.74,
          257.74
         ],
         "yaxis": "y"
        },
        {
         "hoverinfo": "none",
         "line": {
          "color": "red",
          "width": 3
         },
         "mode": "lines",
         "showlegend": false,
         "type": "scatter",
         "x": [
          "2022-08-01T00:00:00",
          "2022-08-02T00:00:00"
         ],
         "xaxis": "x",
         "y": [
          257.74,
          257.61
         ],
         "yaxis": "y"
        },
        {
         "hoverinfo": "none",
         "line": {
          "color": "red",
          "width": 3
         },
         "mode": "lines",
         "showlegend": false,
         "type": "scatter",
         "x": [
          "2022-08-02T00:00:00",
          "2022-08-03T00:00:00"
         ],
         "xaxis": "x",
         "y": [
          257.61,
          257.6
         ],
         "yaxis": "y"
        },
        {
         "hoverinfo": "none",
         "line": {
          "color": "green",
          "width": 3
         },
         "mode": "lines",
         "showlegend": false,
         "type": "scatter",
         "x": [
          "2022-08-03T00:00:00",
          "2022-08-04T00:00:00"
         ],
         "xaxis": "x",
         "y": [
          257.6,
          257.6
         ],
         "yaxis": "y"
        },
        {
         "hoverinfo": "none",
         "line": {
          "color": "red",
          "width": 3
         },
         "mode": "lines",
         "showlegend": false,
         "type": "scatter",
         "x": [
          "2022-08-04T00:00:00",
          "2022-08-05T00:00:00"
         ],
         "xaxis": "x",
         "y": [
          257.6,
          257.59
         ],
         "yaxis": "y"
        },
        {
         "hoverinfo": "none",
         "line": {
          "color": "red",
          "width": 3
         },
         "mode": "lines",
         "showlegend": false,
         "type": "scatter",
         "x": [
          "2022-08-05T00:00:00",
          "2022-08-06T00:00:00"
         ],
         "xaxis": "x",
         "y": [
          257.59,
          257.58
         ],
         "yaxis": "y"
        },
        {
         "hoverinfo": "none",
         "line": {
          "color": "green",
          "width": 3
         },
         "mode": "lines",
         "showlegend": false,
         "type": "scatter",
         "x": [
          "2022-08-06T00:00:00",
          "2022-08-07T00:00:00"
         ],
         "xaxis": "x",
         "y": [
          257.58,
          257.58
         ],
         "yaxis": "y"
        },
        {
         "hoverinfo": "none",
         "line": {
          "color": "red",
          "width": 3
         },
         "mode": "lines",
         "showlegend": false,
         "type": "scatter",
         "x": [
          "2022-08-07T00:00:00",
          "2022-08-08T00:00:00"
         ],
         "xaxis": "x",
         "y": [
          257.58,
          257.57
         ],
         "yaxis": "y"
        },
        {
         "hoverinfo": "none",
         "line": {
          "color": "red",
          "width": 3
         },
         "mode": "lines",
         "showlegend": false,
         "type": "scatter",
         "x": [
          "2022-08-08T00:00:00",
          "2022-08-09T00:00:00"
         ],
         "xaxis": "x",
         "y": [
          257.57,
          257.44
         ],
         "yaxis": "y"
        },
        {
         "hoverinfo": "none",
         "line": {
          "color": "red",
          "width": 3
         },
         "mode": "lines",
         "showlegend": false,
         "type": "scatter",
         "x": [
          "2022-08-09T00:00:00",
          "2022-08-10T00:00:00"
         ],
         "xaxis": "x",
         "y": [
          257.44,
          257.32
         ],
         "yaxis": "y"
        },
        {
         "hoverinfo": "none",
         "line": {
          "color": "red",
          "width": 3
         },
         "mode": "lines",
         "showlegend": false,
         "type": "scatter",
         "x": [
          "2022-08-10T00:00:00",
          "2022-08-11T00:00:00"
         ],
         "xaxis": "x",
         "y": [
          257.32,
          257.2
         ],
         "yaxis": "y"
        },
        {
         "hoverinfo": "none",
         "line": {
          "color": "red",
          "width": 3
         },
         "mode": "lines",
         "showlegend": false,
         "type": "scatter",
         "x": [
          "2022-08-11T00:00:00",
          "2022-08-12T00:00:00"
         ],
         "xaxis": "x",
         "y": [
          257.2,
          257.07
         ],
         "yaxis": "y"
        },
        {
         "hoverinfo": "none",
         "line": {
          "color": "red",
          "width": 3
         },
         "mode": "lines",
         "showlegend": false,
         "type": "scatter",
         "x": [
          "2022-08-12T00:00:00",
          "2022-08-13T00:00:00"
         ],
         "xaxis": "x",
         "y": [
          257.07,
          256.94
         ],
         "yaxis": "y"
        },
        {
         "hoverinfo": "none",
         "line": {
          "color": "red",
          "width": 3
         },
         "mode": "lines",
         "showlegend": false,
         "type": "scatter",
         "x": [
          "2022-08-13T00:00:00",
          "2022-08-14T00:00:00"
         ],
         "xaxis": "x",
         "y": [
          256.94,
          256.69
         ],
         "yaxis": "y"
        },
        {
         "hoverinfo": "none",
         "line": {
          "color": "red",
          "width": 3
         },
         "mode": "lines",
         "showlegend": false,
         "type": "scatter",
         "x": [
          "2022-08-14T00:00:00",
          "2022-08-15T00:00:00"
         ],
         "xaxis": "x",
         "y": [
          256.69,
          256.45
         ],
         "yaxis": "y"
        },
        {
         "hoverinfo": "none",
         "line": {
          "color": "red",
          "width": 3
         },
         "mode": "lines",
         "showlegend": false,
         "type": "scatter",
         "x": [
          "2022-08-15T00:00:00",
          "2022-08-16T00:00:00"
         ],
         "xaxis": "x",
         "y": [
          256.45,
          256.21
         ],
         "yaxis": "y"
        },
        {
         "hoverinfo": "none",
         "line": {
          "color": "red",
          "width": 3
         },
         "mode": "lines",
         "showlegend": false,
         "type": "scatter",
         "x": [
          "2022-08-16T00:00:00",
          "2022-08-17T00:00:00"
         ],
         "xaxis": "x",
         "y": [
          256.21,
          256.08
         ],
         "yaxis": "y"
        },
        {
         "hoverinfo": "none",
         "line": {
          "color": "red",
          "width": 3
         },
         "mode": "lines",
         "showlegend": false,
         "type": "scatter",
         "x": [
          "2022-08-17T00:00:00",
          "2022-08-18T00:00:00"
         ],
         "xaxis": "x",
         "y": [
          256.08,
          255.95
         ],
         "yaxis": "y"
        },
        {
         "hoverinfo": "none",
         "line": {
          "color": "red",
          "width": 3
         },
         "mode": "lines",
         "showlegend": false,
         "type": "scatter",
         "x": [
          "2022-08-18T00:00:00",
          "2022-08-19T00:00:00"
         ],
         "xaxis": "x",
         "y": [
          255.95,
          255.82
         ],
         "yaxis": "y"
        },
        {
         "hoverinfo": "none",
         "line": {
          "color": "red",
          "width": 3
         },
         "mode": "lines",
         "showlegend": false,
         "type": "scatter",
         "x": [
          "2022-08-19T00:00:00",
          "2022-08-20T00:00:00"
         ],
         "xaxis": "x",
         "y": [
          255.82,
          255.69
         ],
         "yaxis": "y"
        },
        {
         "hoverinfo": "none",
         "line": {
          "color": "red",
          "width": 3
         },
         "mode": "lines",
         "showlegend": false,
         "type": "scatter",
         "x": [
          "2022-08-20T00:00:00",
          "2022-08-21T00:00:00"
         ],
         "xaxis": "x",
         "y": [
          255.69,
          255.57
         ],
         "yaxis": "y"
        },
        {
         "hoverinfo": "none",
         "line": {
          "color": "green",
          "width": 3
         },
         "mode": "lines",
         "showlegend": false,
         "type": "scatter",
         "x": [
          "2022-08-21T00:00:00",
          "2022-08-22T00:00:00"
         ],
         "xaxis": "x",
         "y": [
          255.57,
          255.57
         ],
         "yaxis": "y"
        },
        {
         "hoverinfo": "none",
         "line": {
          "color": "red",
          "width": 3
         },
         "mode": "lines",
         "showlegend": false,
         "type": "scatter",
         "x": [
          "2022-08-22T00:00:00",
          "2022-08-23T00:00:00"
         ],
         "xaxis": "x",
         "y": [
          255.57,
          255.56
         ],
         "yaxis": "y"
        },
        {
         "hoverinfo": "none",
         "line": {
          "color": "red",
          "width": 3
         },
         "mode": "lines",
         "showlegend": false,
         "type": "scatter",
         "x": [
          "2022-08-23T00:00:00",
          "2022-08-24T00:00:00"
         ],
         "xaxis": "x",
         "y": [
          255.56,
          255.55
         ],
         "yaxis": "y"
        },
        {
         "hoverinfo": "none",
         "line": {
          "color": "red",
          "width": 3
         },
         "mode": "lines",
         "showlegend": false,
         "type": "scatter",
         "x": [
          "2022-08-24T00:00:00",
          "2022-08-25T00:00:00"
         ],
         "xaxis": "x",
         "y": [
          255.55,
          255.54
         ],
         "yaxis": "y"
        },
        {
         "hoverinfo": "none",
         "line": {
          "color": "red",
          "width": 3
         },
         "mode": "lines",
         "showlegend": false,
         "type": "scatter",
         "x": [
          "2022-08-25T00:00:00",
          "2022-08-26T00:00:00"
         ],
         "xaxis": "x",
         "y": [
          255.54,
          255.53
         ],
         "yaxis": "y"
        },
        {
         "hoverinfo": "none",
         "line": {
          "color": "red",
          "width": 3
         },
         "mode": "lines",
         "showlegend": false,
         "type": "scatter",
         "x": [
          "2022-08-26T00:00:00",
          "2022-08-27T00:00:00"
         ],
         "xaxis": "x",
         "y": [
          255.53,
          255.52
         ],
         "yaxis": "y"
        },
        {
         "hoverinfo": "none",
         "line": {
          "color": "red",
          "width": 3
         },
         "mode": "lines",
         "showlegend": false,
         "type": "scatter",
         "x": [
          "2022-08-27T00:00:00",
          "2022-08-28T00:00:00"
         ],
         "xaxis": "x",
         "y": [
          255.52,
          255.38
         ],
         "yaxis": "y"
        },
        {
         "hoverinfo": "none",
         "line": {
          "color": "red",
          "width": 3
         },
         "mode": "lines",
         "showlegend": false,
         "type": "scatter",
         "x": [
          "2022-08-28T00:00:00",
          "2022-08-29T00:00:00"
         ],
         "xaxis": "x",
         "y": [
          255.38,
          255.24
         ],
         "yaxis": "y"
        },
        {
         "hoverinfo": "none",
         "line": {
          "color": "red",
          "width": 3
         },
         "mode": "lines",
         "showlegend": false,
         "type": "scatter",
         "x": [
          "2022-08-29T00:00:00",
          "2022-08-30T00:00:00"
         ],
         "xaxis": "x",
         "y": [
          255.24,
          255.11
         ],
         "yaxis": "y"
        },
        {
         "hoverinfo": "none",
         "line": {
          "color": "red",
          "width": 3
         },
         "mode": "lines",
         "showlegend": false,
         "type": "scatter",
         "x": [
          "2022-08-30T00:00:00",
          "2022-08-31T00:00:00"
         ],
         "xaxis": "x",
         "y": [
          255.11,
          254.86
         ],
         "yaxis": "y"
        },
        {
         "hoverinfo": "none",
         "line": {
          "color": "red",
          "width": 3
         },
         "mode": "lines",
         "showlegend": false,
         "type": "scatter",
         "x": [
          "2022-08-31T00:00:00",
          "2022-09-01T00:00:00"
         ],
         "xaxis": "x",
         "y": [
          254.86,
          254.49
         ],
         "yaxis": "y"
        },
        {
         "hoverinfo": "none",
         "line": {
          "color": "red",
          "width": 3
         },
         "mode": "lines",
         "showlegend": false,
         "type": "scatter",
         "x": [
          "2022-09-01T00:00:00",
          "2022-09-02T00:00:00"
         ],
         "xaxis": "x",
         "y": [
          254.49,
          254.24
         ],
         "yaxis": "y"
        },
        {
         "hoverinfo": "none",
         "line": {
          "color": "red",
          "width": 3
         },
         "mode": "lines",
         "showlegend": false,
         "type": "scatter",
         "x": [
          "2022-09-02T00:00:00",
          "2022-09-03T00:00:00"
         ],
         "xaxis": "x",
         "y": [
          254.24,
          253.99
         ],
         "yaxis": "y"
        },
        {
         "hoverinfo": "none",
         "line": {
          "color": "red",
          "width": 3
         },
         "mode": "lines",
         "showlegend": false,
         "type": "scatter",
         "x": [
          "2022-09-03T00:00:00",
          "2022-09-04T00:00:00"
         ],
         "xaxis": "x",
         "y": [
          253.99,
          253.64
         ],
         "yaxis": "y"
        },
        {
         "hoverinfo": "none",
         "line": {
          "color": "red",
          "width": 3
         },
         "mode": "lines",
         "showlegend": false,
         "type": "scatter",
         "x": [
          "2022-09-04T00:00:00",
          "2022-09-05T00:00:00"
         ],
         "xaxis": "x",
         "y": [
          253.64,
          253.43
         ],
         "yaxis": "y"
        },
        {
         "hoverinfo": "none",
         "line": {
          "color": "red",
          "width": 3
         },
         "mode": "lines",
         "showlegend": false,
         "type": "scatter",
         "x": [
          "2022-09-05T00:00:00",
          "2022-09-06T00:00:00"
         ],
         "xaxis": "x",
         "y": [
          253.43,
          253.2
         ],
         "yaxis": "y"
        },
        {
         "hoverinfo": "none",
         "line": {
          "color": "red",
          "width": 3
         },
         "mode": "lines",
         "showlegend": false,
         "type": "scatter",
         "x": [
          "2022-09-06T00:00:00",
          "2022-09-07T00:00:00"
         ],
         "xaxis": "x",
         "y": [
          253.2,
          252.98
         ],
         "yaxis": "y"
        },
        {
         "hoverinfo": "none",
         "line": {
          "color": "red",
          "width": 3
         },
         "mode": "lines",
         "showlegend": false,
         "type": "scatter",
         "x": [
          "2022-09-07T00:00:00",
          "2022-09-08T00:00:00"
         ],
         "xaxis": "x",
         "y": [
          252.98,
          252.87
         ],
         "yaxis": "y"
        },
        {
         "hoverinfo": "none",
         "line": {
          "color": "green",
          "width": 3
         },
         "mode": "lines",
         "showlegend": false,
         "type": "scatter",
         "x": [
          "2022-09-08T00:00:00",
          "2022-09-09T00:00:00"
         ],
         "xaxis": "x",
         "y": [
          252.87,
          252.89
         ],
         "yaxis": "y"
        },
        {
         "hoverinfo": "none",
         "line": {
          "color": "red",
          "width": 3
         },
         "mode": "lines",
         "showlegend": false,
         "type": "scatter",
         "x": [
          "2022-09-09T00:00:00",
          "2022-09-10T00:00:00"
         ],
         "xaxis": "x",
         "y": [
          252.89,
          252.66
         ],
         "yaxis": "y"
        },
        {
         "hoverinfo": "none",
         "line": {
          "color": "red",
          "width": 3
         },
         "mode": "lines",
         "showlegend": false,
         "type": "scatter",
         "x": [
          "2022-09-10T00:00:00",
          "2022-09-11T00:00:00"
         ],
         "xaxis": "x",
         "y": [
          252.66,
          252.44
         ],
         "yaxis": "y"
        },
        {
         "hoverinfo": "none",
         "line": {
          "color": "red",
          "width": 3
         },
         "mode": "lines",
         "showlegend": false,
         "type": "scatter",
         "x": [
          "2022-09-11T00:00:00",
          "2022-09-12T00:00:00"
         ],
         "xaxis": "x",
         "y": [
          252.44,
          252.32
         ],
         "yaxis": "y"
        },
        {
         "hoverinfo": "none",
         "line": {
          "color": "red",
          "width": 3
         },
         "mode": "lines",
         "showlegend": false,
         "type": "scatter",
         "x": [
          "2022-09-12T00:00:00",
          "2022-09-13T00:00:00"
         ],
         "xaxis": "x",
         "y": [
          252.32,
          252.08
         ],
         "yaxis": "y"
        },
        {
         "hoverinfo": "none",
         "line": {
          "color": "red",
          "width": 3
         },
         "mode": "lines",
         "showlegend": false,
         "type": "scatter",
         "x": [
          "2022-09-13T00:00:00",
          "2022-09-14T00:00:00"
         ],
         "xaxis": "x",
         "y": [
          252.08,
          251.96
         ],
         "yaxis": "y"
        },
        {
         "hoverinfo": "none",
         "line": {
          "color": "red",
          "width": 3
         },
         "mode": "lines",
         "showlegend": false,
         "type": "scatter",
         "x": [
          "2022-09-14T00:00:00",
          "2022-09-15T00:00:00"
         ],
         "xaxis": "x",
         "y": [
          251.96,
          251.77
         ],
         "yaxis": "y"
        },
        {
         "hoverinfo": "none",
         "line": {
          "color": "red",
          "width": 3
         },
         "mode": "lines",
         "showlegend": false,
         "type": "scatter",
         "x": [
          "2022-09-15T00:00:00",
          "2022-09-16T00:00:00"
         ],
         "xaxis": "x",
         "y": [
          251.77,
          251.64
         ],
         "yaxis": "y"
        },
        {
         "hoverinfo": "none",
         "line": {
          "color": "red",
          "width": 3
         },
         "mode": "lines",
         "showlegend": false,
         "type": "scatter",
         "x": [
          "2022-09-16T00:00:00",
          "2022-09-17T00:00:00"
         ],
         "xaxis": "x",
         "y": [
          251.64,
          251.38
         ],
         "yaxis": "y"
        },
        {
         "hoverinfo": "none",
         "line": {
          "color": "red",
          "width": 3
         },
         "mode": "lines",
         "showlegend": false,
         "type": "scatter",
         "x": [
          "2022-09-17T00:00:00",
          "2022-09-18T00:00:00"
         ],
         "xaxis": "x",
         "y": [
          251.38,
          251.25
         ],
         "yaxis": "y"
        },
        {
         "hoverinfo": "none",
         "line": {
          "color": "red",
          "width": 3
         },
         "mode": "lines",
         "showlegend": false,
         "type": "scatter",
         "x": [
          "2022-09-18T00:00:00",
          "2022-09-19T00:00:00"
         ],
         "xaxis": "x",
         "y": [
          251.25,
          251.12
         ],
         "yaxis": "y"
        },
        {
         "hoverinfo": "none",
         "line": {
          "color": "red",
          "width": 3
         },
         "mode": "lines",
         "showlegend": false,
         "type": "scatter",
         "x": [
          "2022-09-19T00:00:00",
          "2022-09-20T00:00:00"
         ],
         "xaxis": "x",
         "y": [
          251.12,
          250.99
         ],
         "yaxis": "y"
        },
        {
         "hoverinfo": "none",
         "line": {
          "color": "red",
          "width": 3
         },
         "mode": "lines",
         "showlegend": false,
         "type": "scatter",
         "x": [
          "2022-09-20T00:00:00",
          "2022-09-21T00:00:00"
         ],
         "xaxis": "x",
         "y": [
          250.99,
          250.85
         ],
         "yaxis": "y"
        },
        {
         "hoverinfo": "none",
         "line": {
          "color": "red",
          "width": 3
         },
         "mode": "lines",
         "showlegend": false,
         "type": "scatter",
         "x": [
          "2022-09-21T00:00:00",
          "2022-09-22T00:00:00"
         ],
         "xaxis": "x",
         "y": [
          250.85,
          250.61
         ],
         "yaxis": "y"
        },
        {
         "hoverinfo": "none",
         "line": {
          "color": "red",
          "width": 3
         },
         "mode": "lines",
         "showlegend": false,
         "type": "scatter",
         "x": [
          "2022-09-22T00:00:00",
          "2022-09-23T00:00:00"
         ],
         "xaxis": "x",
         "y": [
          250.61,
          250.54
         ],
         "yaxis": "y"
        },
        {
         "hoverinfo": "none",
         "line": {
          "color": "green",
          "width": 3
         },
         "mode": "lines",
         "showlegend": false,
         "type": "scatter",
         "x": [
          "2022-09-23T00:00:00",
          "2022-09-24T00:00:00"
         ],
         "xaxis": "x",
         "y": [
          250.54,
          250.54
         ],
         "yaxis": "y"
        },
        {
         "hoverinfo": "none",
         "line": {
          "color": "green",
          "width": 3
         },
         "mode": "lines",
         "showlegend": false,
         "type": "scatter",
         "x": [
          "2022-09-24T00:00:00",
          "2022-09-25T00:00:00"
         ],
         "xaxis": "x",
         "y": [
          250.54,
          250.66
         ],
         "yaxis": "y"
        },
        {
         "hoverinfo": "none",
         "line": {
          "color": "green",
          "width": 3
         },
         "mode": "lines",
         "showlegend": false,
         "type": "scatter",
         "x": [
          "2022-09-25T00:00:00",
          "2022-09-26T00:00:00"
         ],
         "xaxis": "x",
         "y": [
          250.66,
          250.67
         ],
         "yaxis": "y"
        },
        {
         "hoverinfo": "none",
         "line": {
          "color": "green",
          "width": 3
         },
         "mode": "lines",
         "showlegend": false,
         "type": "scatter",
         "x": [
          "2022-09-26T00:00:00",
          "2022-09-27T00:00:00"
         ],
         "xaxis": "x",
         "y": [
          250.67,
          250.68
         ],
         "yaxis": "y"
        },
        {
         "hoverinfo": "none",
         "line": {
          "color": "green",
          "width": 3
         },
         "mode": "lines",
         "showlegend": false,
         "type": "scatter",
         "x": [
          "2022-09-27T00:00:00",
          "2022-09-28T00:00:00"
         ],
         "xaxis": "x",
         "y": [
          250.68,
          250.8
         ],
         "yaxis": "y"
        },
        {
         "hoverinfo": "none",
         "line": {
          "color": "green",
          "width": 3
         },
         "mode": "lines",
         "showlegend": false,
         "type": "scatter",
         "x": [
          "2022-09-28T00:00:00",
          "2022-09-29T00:00:00"
         ],
         "xaxis": "x",
         "y": [
          250.8,
          251.04
         ],
         "yaxis": "y"
        },
        {
         "hoverinfo": "none",
         "line": {
          "color": "green",
          "width": 3
         },
         "mode": "lines",
         "showlegend": false,
         "type": "scatter",
         "x": [
          "2022-09-29T00:00:00",
          "2022-09-30T00:00:00"
         ],
         "xaxis": "x",
         "y": [
          251.04,
          251.28
         ],
         "yaxis": "y"
        },
        {
         "hoverinfo": "none",
         "line": {
          "color": "green",
          "width": 3
         },
         "mode": "lines",
         "showlegend": false,
         "type": "scatter",
         "x": [
          "2022-09-30T00:00:00",
          "2022-10-01T00:00:00"
         ],
         "xaxis": "x",
         "y": [
          251.28,
          251.28
         ],
         "yaxis": "y"
        },
        {
         "hoverinfo": "none",
         "line": {
          "color": "red",
          "width": 3
         },
         "mode": "lines",
         "showlegend": false,
         "type": "scatter",
         "x": [
          "2022-10-01T00:00:00",
          "2022-10-02T00:00:00"
         ],
         "xaxis": "x",
         "y": [
          251.28,
          251.04
         ],
         "yaxis": "y"
        },
        {
         "hoverinfo": "none",
         "line": {
          "color": "red",
          "width": 3
         },
         "mode": "lines",
         "showlegend": false,
         "type": "scatter",
         "x": [
          "2022-10-02T00:00:00",
          "2022-10-03T00:00:00"
         ],
         "xaxis": "x",
         "y": [
          251.04,
          250.8
         ],
         "yaxis": "y"
        },
        {
         "hoverinfo": "none",
         "line": {
          "color": "red",
          "width": 3
         },
         "mode": "lines",
         "showlegend": false,
         "type": "scatter",
         "x": [
          "2022-10-03T00:00:00",
          "2022-10-04T00:00:00"
         ],
         "xaxis": "x",
         "y": [
          250.8,
          250.56
         ],
         "yaxis": "y"
        },
        {
         "hoverinfo": "none",
         "line": {
          "color": "red",
          "width": 3
         },
         "mode": "lines",
         "showlegend": false,
         "type": "scatter",
         "x": [
          "2022-10-04T00:00:00",
          "2022-10-05T00:00:00"
         ],
         "xaxis": "x",
         "y": [
          250.56,
          250.3
         ],
         "yaxis": "y"
        },
        {
         "hoverinfo": "none",
         "line": {
          "color": "red",
          "width": 3
         },
         "mode": "lines",
         "showlegend": false,
         "type": "scatter",
         "x": [
          "2022-10-05T00:00:00",
          "2022-10-06T00:00:00"
         ],
         "xaxis": "x",
         "y": [
          250.3,
          249.92
         ],
         "yaxis": "y"
        },
        {
         "hoverinfo": "none",
         "line": {
          "color": "red",
          "width": 3
         },
         "mode": "lines",
         "showlegend": false,
         "type": "scatter",
         "x": [
          "2022-10-06T00:00:00",
          "2022-10-07T00:00:00"
         ],
         "xaxis": "x",
         "y": [
          249.92,
          249.54
         ],
         "yaxis": "y"
        },
        {
         "hoverinfo": "none",
         "line": {
          "color": "red",
          "width": 3
         },
         "mode": "lines",
         "showlegend": false,
         "type": "scatter",
         "x": [
          "2022-10-07T00:00:00",
          "2022-10-08T00:00:00"
         ],
         "xaxis": "x",
         "y": [
          249.54,
          249.15
         ],
         "yaxis": "y"
        },
        {
         "hoverinfo": "none",
         "line": {
          "color": "red",
          "width": 3
         },
         "mode": "lines",
         "showlegend": false,
         "type": "scatter",
         "x": [
          "2022-10-08T00:00:00",
          "2022-10-09T00:00:00"
         ],
         "xaxis": "x",
         "y": [
          249.15,
          248.89
         ],
         "yaxis": "y"
        },
        {
         "hoverinfo": "none",
         "line": {
          "color": "red",
          "width": 3
         },
         "mode": "lines",
         "showlegend": false,
         "type": "scatter",
         "x": [
          "2022-10-09T00:00:00",
          "2022-10-10T00:00:00"
         ],
         "xaxis": "x",
         "y": [
          248.89,
          248.75
         ],
         "yaxis": "y"
        },
        {
         "hoverinfo": "none",
         "line": {
          "color": "red",
          "width": 3
         },
         "mode": "lines",
         "showlegend": false,
         "type": "scatter",
         "x": [
          "2022-10-10T00:00:00",
          "2022-10-11T00:00:00"
         ],
         "xaxis": "x",
         "y": [
          248.75,
          248.61
         ],
         "yaxis": "y"
        },
        {
         "hoverinfo": "none",
         "line": {
          "color": "red",
          "width": 3
         },
         "mode": "lines",
         "showlegend": false,
         "type": "scatter",
         "x": [
          "2022-10-11T00:00:00",
          "2022-10-12T00:00:00"
         ],
         "xaxis": "x",
         "y": [
          248.61,
          248.58
         ],
         "yaxis": "y"
        },
        {
         "hoverinfo": "none",
         "line": {
          "color": "red",
          "width": 3
         },
         "mode": "lines",
         "showlegend": false,
         "type": "scatter",
         "x": [
          "2022-10-12T00:00:00",
          "2022-10-13T00:00:00"
         ],
         "xaxis": "x",
         "y": [
          248.58,
          248.57
         ],
         "yaxis": "y"
        },
        {
         "hoverinfo": "none",
         "line": {
          "color": "red",
          "width": 3
         },
         "mode": "lines",
         "showlegend": false,
         "type": "scatter",
         "x": [
          "2022-10-13T00:00:00",
          "2022-10-14T00:00:00"
         ],
         "xaxis": "x",
         "y": [
          248.57,
          248.56
         ],
         "yaxis": "y"
        },
        {
         "hoverinfo": "none",
         "line": {
          "color": "red",
          "width": 3
         },
         "mode": "lines",
         "showlegend": false,
         "type": "scatter",
         "x": [
          "2022-10-14T00:00:00",
          "2022-10-15T00:00:00"
         ],
         "xaxis": "x",
         "y": [
          248.56,
          248.55
         ],
         "yaxis": "y"
        },
        {
         "hoverinfo": "none",
         "line": {
          "color": "red",
          "width": 3
         },
         "mode": "lines",
         "showlegend": false,
         "type": "scatter",
         "x": [
          "2022-10-15T00:00:00",
          "2022-10-16T00:00:00"
         ],
         "xaxis": "x",
         "y": [
          248.55,
          248.54
         ],
         "yaxis": "y"
        },
        {
         "hoverinfo": "none",
         "line": {
          "color": "red",
          "width": 3
         },
         "mode": "lines",
         "showlegend": false,
         "type": "scatter",
         "x": [
          "2022-10-16T00:00:00",
          "2022-10-17T00:00:00"
         ],
         "xaxis": "x",
         "y": [
          248.54,
          248.53
         ],
         "yaxis": "y"
        },
        {
         "hoverinfo": "none",
         "line": {
          "color": "green",
          "width": 3
         },
         "mode": "lines",
         "showlegend": false,
         "type": "scatter",
         "x": [
          "2022-10-17T00:00:00",
          "2022-10-18T00:00:00"
         ],
         "xaxis": "x",
         "y": [
          248.53,
          248.53
         ],
         "yaxis": "y"
        },
        {
         "hoverinfo": "none",
         "line": {
          "color": "red",
          "width": 3
         },
         "mode": "lines",
         "showlegend": false,
         "type": "scatter",
         "x": [
          "2022-10-18T00:00:00",
          "2022-10-19T00:00:00"
         ],
         "xaxis": "x",
         "y": [
          248.53,
          248.52
         ],
         "yaxis": "y"
        },
        {
         "hoverinfo": "none",
         "line": {
          "color": "red",
          "width": 3
         },
         "mode": "lines",
         "showlegend": false,
         "type": "scatter",
         "x": [
          "2022-10-19T00:00:00",
          "2022-10-20T00:00:00"
         ],
         "xaxis": "x",
         "y": [
          248.52,
          248.39
         ],
         "yaxis": "y"
        },
        {
         "hoverinfo": "none",
         "line": {
          "color": "green",
          "width": 3
         },
         "mode": "lines",
         "showlegend": false,
         "type": "scatter",
         "x": [
          "2022-10-20T00:00:00",
          "2022-10-21T00:00:00"
         ],
         "xaxis": "x",
         "y": [
          248.39,
          248.39
         ],
         "yaxis": "y"
        },
        {
         "hoverinfo": "none",
         "line": {
          "color": "red",
          "width": 3
         },
         "mode": "lines",
         "showlegend": false,
         "type": "scatter",
         "x": [
          "2022-10-21T00:00:00",
          "2022-10-22T00:00:00"
         ],
         "xaxis": "x",
         "y": [
          248.39,
          248.25
         ],
         "yaxis": "y"
        },
        {
         "hoverinfo": "none",
         "line": {
          "color": "red",
          "width": 3
         },
         "mode": "lines",
         "showlegend": false,
         "type": "scatter",
         "x": [
          "2022-10-22T00:00:00",
          "2022-10-23T00:00:00"
         ],
         "xaxis": "x",
         "y": [
          248.25,
          248.12
         ],
         "yaxis": "y"
        },
        {
         "hoverinfo": "none",
         "line": {
          "color": "red",
          "width": 3
         },
         "mode": "lines",
         "showlegend": false,
         "type": "scatter",
         "x": [
          "2022-10-23T00:00:00",
          "2022-10-24T00:00:00"
         ],
         "xaxis": "x",
         "y": [
          248.12,
          247.93
         ],
         "yaxis": "y"
        },
        {
         "hoverinfo": "none",
         "line": {
          "color": "red",
          "width": 3
         },
         "mode": "lines",
         "showlegend": false,
         "type": "scatter",
         "x": [
          "2022-10-24T00:00:00",
          "2022-10-25T00:00:00"
         ],
         "xaxis": "x",
         "y": [
          247.93,
          247.56
         ],
         "yaxis": "y"
        },
        {
         "hoverinfo": "none",
         "line": {
          "color": "red",
          "width": 3
         },
         "mode": "lines",
         "showlegend": false,
         "type": "scatter",
         "x": [
          "2022-10-25T00:00:00",
          "2022-10-26T00:00:00"
         ],
         "xaxis": "x",
         "y": [
          247.56,
          247.19
         ],
         "yaxis": "y"
        },
        {
         "hoverinfo": "none",
         "line": {
          "color": "red",
          "width": 3
         },
         "mode": "lines",
         "showlegend": false,
         "type": "scatter",
         "x": [
          "2022-10-26T00:00:00",
          "2022-10-27T00:00:00"
         ],
         "xaxis": "x",
         "y": [
          247.19,
          246.81
         ],
         "yaxis": "y"
        },
        {
         "hoverinfo": "none",
         "line": {
          "color": "red",
          "width": 3
         },
         "mode": "lines",
         "showlegend": false,
         "type": "scatter",
         "x": [
          "2022-10-27T00:00:00",
          "2022-10-28T00:00:00"
         ],
         "xaxis": "x",
         "y": [
          246.81,
          246.55
         ],
         "yaxis": "y"
        },
        {
         "hoverinfo": "none",
         "line": {
          "color": "red",
          "width": 3
         },
         "mode": "lines",
         "showlegend": false,
         "type": "scatter",
         "x": [
          "2022-10-28T00:00:00",
          "2022-10-29T00:00:00"
         ],
         "xaxis": "x",
         "y": [
          246.55,
          246.18
         ],
         "yaxis": "y"
        },
        {
         "hoverinfo": "none",
         "line": {
          "color": "red",
          "width": 3
         },
         "mode": "lines",
         "showlegend": false,
         "type": "scatter",
         "x": [
          "2022-10-29T00:00:00",
          "2022-10-30T00:00:00"
         ],
         "xaxis": "x",
         "y": [
          246.18,
          245.94
         ],
         "yaxis": "y"
        },
        {
         "hoverinfo": "none",
         "line": {
          "color": "red",
          "width": 3
         },
         "mode": "lines",
         "showlegend": false,
         "type": "scatter",
         "x": [
          "2022-10-30T00:00:00",
          "2022-10-31T00:00:00"
         ],
         "xaxis": "x",
         "y": [
          245.94,
          245.57
         ],
         "yaxis": "y"
        },
        {
         "hoverinfo": "none",
         "line": {
          "color": "red",
          "width": 3
         },
         "mode": "lines",
         "showlegend": false,
         "type": "scatter",
         "x": [
          "2022-10-31T00:00:00",
          "2022-11-01T00:00:00"
         ],
         "xaxis": "x",
         "y": [
          245.57,
          245.26
         ],
         "yaxis": "y"
        },
        {
         "hoverinfo": "none",
         "line": {
          "color": "red",
          "width": 3
         },
         "mode": "lines",
         "showlegend": false,
         "type": "scatter",
         "x": [
          "2022-11-01T00:00:00",
          "2022-11-02T00:00:00"
         ],
         "xaxis": "x",
         "y": [
          245.26,
          245.14
         ],
         "yaxis": "y"
        },
        {
         "hoverinfo": "none",
         "line": {
          "color": "red",
          "width": 3
         },
         "mode": "lines",
         "showlegend": false,
         "type": "scatter",
         "x": [
          "2022-11-02T00:00:00",
          "2022-11-03T00:00:00"
         ],
         "xaxis": "x",
         "y": [
          245.14,
          245.02
         ],
         "yaxis": "y"
        },
        {
         "hoverinfo": "none",
         "line": {
          "color": "red",
          "width": 3
         },
         "mode": "lines",
         "showlegend": false,
         "type": "scatter",
         "x": [
          "2022-11-03T00:00:00",
          "2022-11-04T00:00:00"
         ],
         "xaxis": "x",
         "y": [
          245.02,
          244.9
         ],
         "yaxis": "y"
        },
        {
         "hoverinfo": "none",
         "line": {
          "color": "red",
          "width": 3
         },
         "mode": "lines",
         "showlegend": false,
         "type": "scatter",
         "x": [
          "2022-11-04T00:00:00",
          "2022-11-05T00:00:00"
         ],
         "xaxis": "x",
         "y": [
          244.9,
          244.66
         ],
         "yaxis": "y"
        },
        {
         "hoverinfo": "none",
         "line": {
          "color": "red",
          "width": 3
         },
         "mode": "lines",
         "showlegend": false,
         "type": "scatter",
         "x": [
          "2022-11-05T00:00:00",
          "2022-11-06T00:00:00"
         ],
         "xaxis": "x",
         "y": [
          244.66,
          244.3
         ],
         "yaxis": "y"
        },
        {
         "hoverinfo": "none",
         "line": {
          "color": "red",
          "width": 3
         },
         "mode": "lines",
         "showlegend": false,
         "type": "scatter",
         "x": [
          "2022-11-06T00:00:00",
          "2022-11-07T00:00:00"
         ],
         "xaxis": "x",
         "y": [
          244.3,
          243.94
         ],
         "yaxis": "y"
        },
        {
         "hoverinfo": "none",
         "line": {
          "color": "red",
          "width": 3
         },
         "mode": "lines",
         "showlegend": false,
         "type": "scatter",
         "x": [
          "2022-11-07T00:00:00",
          "2022-11-08T00:00:00"
         ],
         "xaxis": "x",
         "y": [
          243.94,
          243.59
         ],
         "yaxis": "y"
        },
        {
         "hoverinfo": "none",
         "line": {
          "color": "red",
          "width": 3
         },
         "mode": "lines",
         "showlegend": false,
         "type": "scatter",
         "x": [
          "2022-11-08T00:00:00",
          "2022-11-09T00:00:00"
         ],
         "xaxis": "x",
         "y": [
          243.59,
          243.24
         ],
         "yaxis": "y"
        },
        {
         "hoverinfo": "none",
         "line": {
          "color": "red",
          "width": 3
         },
         "mode": "lines",
         "showlegend": false,
         "type": "scatter",
         "x": [
          "2022-11-09T00:00:00",
          "2022-11-10T00:00:00"
         ],
         "xaxis": "x",
         "y": [
          243.24,
          242.88
         ],
         "yaxis": "y"
        },
        {
         "hoverinfo": "none",
         "line": {
          "color": "red",
          "width": 3
         },
         "mode": "lines",
         "showlegend": false,
         "type": "scatter",
         "x": [
          "2022-11-10T00:00:00",
          "2022-11-11T00:00:00"
         ],
         "xaxis": "x",
         "y": [
          242.88,
          242.53
         ],
         "yaxis": "y"
        },
        {
         "hoverinfo": "none",
         "line": {
          "color": "red",
          "width": 3
         },
         "mode": "lines",
         "showlegend": false,
         "type": "scatter",
         "x": [
          "2022-11-11T00:00:00",
          "2022-11-12T00:00:00"
         ],
         "xaxis": "x",
         "y": [
          242.53,
          242.17
         ],
         "yaxis": "y"
        },
        {
         "hoverinfo": "none",
         "line": {
          "color": "red",
          "width": 3
         },
         "mode": "lines",
         "showlegend": false,
         "type": "scatter",
         "x": [
          "2022-11-12T00:00:00",
          "2022-11-13T00:00:00"
         ],
         "xaxis": "x",
         "y": [
          242.17,
          241.93
         ],
         "yaxis": "y"
        },
        {
         "hoverinfo": "none",
         "line": {
          "color": "red",
          "width": 3
         },
         "mode": "lines",
         "showlegend": false,
         "type": "scatter",
         "x": [
          "2022-11-13T00:00:00",
          "2022-11-14T00:00:00"
         ],
         "xaxis": "x",
         "y": [
          241.93,
          241.68
         ],
         "yaxis": "y"
        },
        {
         "hoverinfo": "none",
         "line": {
          "color": "red",
          "width": 3
         },
         "mode": "lines",
         "showlegend": false,
         "type": "scatter",
         "x": [
          "2022-11-14T00:00:00",
          "2022-11-15T00:00:00"
         ],
         "xaxis": "x",
         "y": [
          241.68,
          241.43
         ],
         "yaxis": "y"
        },
        {
         "hoverinfo": "none",
         "line": {
          "color": "red",
          "width": 3
         },
         "mode": "lines",
         "showlegend": false,
         "type": "scatter",
         "x": [
          "2022-11-15T00:00:00",
          "2022-11-16T00:00:00"
         ],
         "xaxis": "x",
         "y": [
          241.43,
          241.3
         ],
         "yaxis": "y"
        },
        {
         "hoverinfo": "none",
         "line": {
          "color": "red",
          "width": 3
         },
         "mode": "lines",
         "showlegend": false,
         "type": "scatter",
         "x": [
          "2022-11-16T00:00:00",
          "2022-11-17T00:00:00"
         ],
         "xaxis": "x",
         "y": [
          241.3,
          241.12
         ],
         "yaxis": "y"
        },
        {
         "hoverinfo": "none",
         "line": {
          "color": "red",
          "width": 3
         },
         "mode": "lines",
         "showlegend": false,
         "type": "scatter",
         "x": [
          "2022-11-17T00:00:00",
          "2022-11-18T00:00:00"
         ],
         "xaxis": "x",
         "y": [
          241.12,
          240.87
         ],
         "yaxis": "y"
        },
        {
         "hoverinfo": "none",
         "line": {
          "color": "red",
          "width": 3
         },
         "mode": "lines",
         "showlegend": false,
         "type": "scatter",
         "x": [
          "2022-11-18T00:00:00",
          "2022-11-19T00:00:00"
         ],
         "xaxis": "x",
         "y": [
          240.87,
          240.62
         ],
         "yaxis": "y"
        },
        {
         "hoverinfo": "none",
         "line": {
          "color": "red",
          "width": 3
         },
         "mode": "lines",
         "showlegend": false,
         "type": "scatter",
         "x": [
          "2022-11-19T00:00:00",
          "2022-11-20T00:00:00"
         ],
         "xaxis": "x",
         "y": [
          240.62,
          240.37
         ],
         "yaxis": "y"
        },
        {
         "hoverinfo": "none",
         "line": {
          "color": "red",
          "width": 3
         },
         "mode": "lines",
         "showlegend": false,
         "type": "scatter",
         "x": [
          "2022-11-20T00:00:00",
          "2022-11-21T00:00:00"
         ],
         "xaxis": "x",
         "y": [
          240.37,
          240.13
         ],
         "yaxis": "y"
        },
        {
         "hoverinfo": "none",
         "line": {
          "color": "red",
          "width": 3
         },
         "mode": "lines",
         "showlegend": false,
         "type": "scatter",
         "x": [
          "2022-11-21T00:00:00",
          "2022-11-22T00:00:00"
         ],
         "xaxis": "x",
         "y": [
          240.13,
          239.89
         ],
         "yaxis": "y"
        },
        {
         "hoverinfo": "none",
         "line": {
          "color": "red",
          "width": 3
         },
         "mode": "lines",
         "showlegend": false,
         "type": "scatter",
         "x": [
          "2022-11-22T00:00:00",
          "2022-11-23T00:00:00"
         ],
         "xaxis": "x",
         "y": [
          239.89,
          239.66
         ],
         "yaxis": "y"
        },
        {
         "hoverinfo": "none",
         "line": {
          "color": "red",
          "width": 3
         },
         "mode": "lines",
         "showlegend": false,
         "type": "scatter",
         "x": [
          "2022-11-23T00:00:00",
          "2022-11-24T00:00:00"
         ],
         "xaxis": "x",
         "y": [
          239.66,
          239.3
         ],
         "yaxis": "y"
        },
        {
         "hoverinfo": "none",
         "line": {
          "color": "red",
          "width": 3
         },
         "mode": "lines",
         "showlegend": false,
         "type": "scatter",
         "x": [
          "2022-11-24T00:00:00",
          "2022-11-25T00:00:00"
         ],
         "xaxis": "x",
         "y": [
          239.3,
          238.99
         ],
         "yaxis": "y"
        },
        {
         "hoverinfo": "none",
         "line": {
          "color": "red",
          "width": 3
         },
         "mode": "lines",
         "showlegend": false,
         "type": "scatter",
         "x": [
          "2022-11-25T00:00:00",
          "2022-11-26T00:00:00"
         ],
         "xaxis": "x",
         "y": [
          238.99,
          238.74
         ],
         "yaxis": "y"
        },
        {
         "hoverinfo": "none",
         "line": {
          "color": "red",
          "width": 3
         },
         "mode": "lines",
         "showlegend": false,
         "type": "scatter",
         "x": [
          "2022-11-26T00:00:00",
          "2022-11-27T00:00:00"
         ],
         "xaxis": "x",
         "y": [
          238.74,
          238.38
         ],
         "yaxis": "y"
        },
        {
         "hoverinfo": "none",
         "line": {
          "color": "red",
          "width": 3
         },
         "mode": "lines",
         "showlegend": false,
         "type": "scatter",
         "x": [
          "2022-11-27T00:00:00",
          "2022-11-28T00:00:00"
         ],
         "xaxis": "x",
         "y": [
          238.38,
          238.02
         ],
         "yaxis": "y"
        },
        {
         "hoverinfo": "none",
         "line": {
          "color": "red",
          "width": 3
         },
         "mode": "lines",
         "showlegend": false,
         "type": "scatter",
         "x": [
          "2022-11-28T00:00:00",
          "2022-11-29T00:00:00"
         ],
         "xaxis": "x",
         "y": [
          238.02,
          237.65
         ],
         "yaxis": "y"
        },
        {
         "hoverinfo": "none",
         "line": {
          "color": "red",
          "width": 3
         },
         "mode": "lines",
         "showlegend": false,
         "type": "scatter",
         "x": [
          "2022-11-29T00:00:00",
          "2022-11-30T00:00:00"
         ],
         "xaxis": "x",
         "y": [
          237.65,
          237.4
         ],
         "yaxis": "y"
        },
        {
         "hoverinfo": "none",
         "line": {
          "color": "red",
          "width": 3
         },
         "mode": "lines",
         "showlegend": false,
         "type": "scatter",
         "x": [
          "2022-11-30T00:00:00",
          "2022-12-01T00:00:00"
         ],
         "xaxis": "x",
         "y": [
          237.4,
          237.14
         ],
         "yaxis": "y"
        },
        {
         "hoverinfo": "none",
         "line": {
          "color": "red",
          "width": 3
         },
         "mode": "lines",
         "showlegend": false,
         "type": "scatter",
         "x": [
          "2022-12-01T00:00:00",
          "2022-12-02T00:00:00"
         ],
         "xaxis": "x",
         "y": [
          237.14,
          237.01
         ],
         "yaxis": "y"
        },
        {
         "hoverinfo": "none",
         "line": {
          "color": "red",
          "width": 3
         },
         "mode": "lines",
         "showlegend": false,
         "type": "scatter",
         "x": [
          "2022-12-02T00:00:00",
          "2022-12-03T00:00:00"
         ],
         "xaxis": "x",
         "y": [
          237.01,
          236.76
         ],
         "yaxis": "y"
        },
        {
         "hoverinfo": "none",
         "line": {
          "color": "red",
          "width": 3
         },
         "mode": "lines",
         "showlegend": false,
         "type": "scatter",
         "x": [
          "2022-12-03T00:00:00",
          "2022-12-04T00:00:00"
         ],
         "xaxis": "x",
         "y": [
          236.76,
          236.51
         ],
         "yaxis": "y"
        },
        {
         "hoverinfo": "none",
         "line": {
          "color": "green",
          "width": 3
         },
         "mode": "lines",
         "showlegend": false,
         "type": "scatter",
         "x": [
          "2022-12-04T00:00:00",
          "2022-12-05T00:00:00"
         ],
         "xaxis": "x",
         "y": [
          236.51,
          236.51
         ],
         "yaxis": "y"
        },
        {
         "hoverinfo": "none",
         "line": {
          "color": "red",
          "width": 3
         },
         "mode": "lines",
         "showlegend": false,
         "type": "scatter",
         "x": [
          "2022-12-05T00:00:00",
          "2022-12-06T00:00:00"
         ],
         "xaxis": "x",
         "y": [
          236.51,
          236.5
         ],
         "yaxis": "y"
        },
        {
         "hoverinfo": "none",
         "line": {
          "color": "red",
          "width": 3
         },
         "mode": "lines",
         "showlegend": false,
         "type": "scatter",
         "x": [
          "2022-12-06T00:00:00",
          "2022-12-07T00:00:00"
         ],
         "xaxis": "x",
         "y": [
          236.5,
          236.38
         ],
         "yaxis": "y"
        },
        {
         "hoverinfo": "none",
         "line": {
          "color": "red",
          "width": 3
         },
         "mode": "lines",
         "showlegend": false,
         "type": "scatter",
         "x": [
          "2022-12-07T00:00:00",
          "2022-12-08T00:00:00"
         ],
         "xaxis": "x",
         "y": [
          236.38,
          236.25
         ],
         "yaxis": "y"
        },
        {
         "hoverinfo": "none",
         "line": {
          "color": "red",
          "width": 3
         },
         "mode": "lines",
         "showlegend": false,
         "type": "scatter",
         "x": [
          "2022-12-08T00:00:00",
          "2022-12-09T00:00:00"
         ],
         "xaxis": "x",
         "y": [
          236.25,
          236.13
         ],
         "yaxis": "y"
        },
        {
         "hoverinfo": "none",
         "line": {
          "color": "red",
          "width": 3
         },
         "mode": "lines",
         "showlegend": false,
         "type": "scatter",
         "x": [
          "2022-12-09T00:00:00",
          "2022-12-10T00:00:00"
         ],
         "xaxis": "x",
         "y": [
          236.13,
          235.88
         ],
         "yaxis": "y"
        },
        {
         "hoverinfo": "none",
         "line": {
          "color": "red",
          "width": 3
         },
         "mode": "lines",
         "showlegend": false,
         "type": "scatter",
         "x": [
          "2022-12-10T00:00:00",
          "2022-12-11T00:00:00"
         ],
         "xaxis": "x",
         "y": [
          235.88,
          235.64
         ],
         "yaxis": "y"
        },
        {
         "hoverinfo": "none",
         "line": {
          "color": "red",
          "width": 3
         },
         "mode": "lines",
         "showlegend": false,
         "type": "scatter",
         "x": [
          "2022-12-11T00:00:00",
          "2022-12-12T00:00:00"
         ],
         "xaxis": "x",
         "y": [
          235.64,
          235.41
         ],
         "yaxis": "y"
        },
        {
         "hoverinfo": "none",
         "line": {
          "color": "red",
          "width": 3
         },
         "mode": "lines",
         "showlegend": false,
         "type": "scatter",
         "x": [
          "2022-12-12T00:00:00",
          "2022-12-13T00:00:00"
         ],
         "xaxis": "x",
         "y": [
          235.41,
          235.04
         ],
         "yaxis": "y"
        },
        {
         "hoverinfo": "none",
         "line": {
          "color": "red",
          "width": 3
         },
         "mode": "lines",
         "showlegend": false,
         "type": "scatter",
         "x": [
          "2022-12-13T00:00:00",
          "2022-12-14T00:00:00"
         ],
         "xaxis": "x",
         "y": [
          235.04,
          234.68
         ],
         "yaxis": "y"
        },
        {
         "hoverinfo": "none",
         "line": {
          "color": "red",
          "width": 3
         },
         "mode": "lines",
         "showlegend": false,
         "type": "scatter",
         "x": [
          "2022-12-14T00:00:00",
          "2022-12-15T00:00:00"
         ],
         "xaxis": "x",
         "y": [
          234.68,
          234.45
         ],
         "yaxis": "y"
        },
        {
         "hoverinfo": "none",
         "line": {
          "color": "red",
          "width": 3
         },
         "mode": "lines",
         "showlegend": false,
         "type": "scatter",
         "x": [
          "2022-12-15T00:00:00",
          "2022-12-16T00:00:00"
         ],
         "xaxis": "x",
         "y": [
          234.45,
          234.22
         ],
         "yaxis": "y"
        },
        {
         "hoverinfo": "none",
         "line": {
          "color": "red",
          "width": 3
         },
         "mode": "lines",
         "showlegend": false,
         "type": "scatter",
         "x": [
          "2022-12-16T00:00:00",
          "2022-12-17T00:00:00"
         ],
         "xaxis": "x",
         "y": [
          234.22,
          233.93
         ],
         "yaxis": "y"
        },
        {
         "hoverinfo": "none",
         "line": {
          "color": "red",
          "width": 3
         },
         "mode": "lines",
         "showlegend": false,
         "type": "scatter",
         "x": [
          "2022-12-17T00:00:00",
          "2022-12-18T00:00:00"
         ],
         "xaxis": "x",
         "y": [
          233.93,
          233.7
         ],
         "yaxis": "y"
        },
        {
         "hoverinfo": "none",
         "line": {
          "color": "red",
          "width": 3
         },
         "mode": "lines",
         "showlegend": false,
         "type": "scatter",
         "x": [
          "2022-12-18T00:00:00",
          "2022-12-19T00:00:00"
         ],
         "xaxis": "x",
         "y": [
          233.7,
          233.58
         ],
         "yaxis": "y"
        },
        {
         "hoverinfo": "none",
         "line": {
          "color": "red",
          "width": 3
         },
         "mode": "lines",
         "showlegend": false,
         "type": "scatter",
         "x": [
          "2022-12-19T00:00:00",
          "2022-12-20T00:00:00"
         ],
         "xaxis": "x",
         "y": [
          233.58,
          233.45
         ],
         "yaxis": "y"
        },
        {
         "hoverinfo": "none",
         "line": {
          "color": "red",
          "width": 3
         },
         "mode": "lines",
         "showlegend": false,
         "type": "scatter",
         "x": [
          "2022-12-20T00:00:00",
          "2022-12-21T00:00:00"
         ],
         "xaxis": "x",
         "y": [
          233.45,
          233.33
         ],
         "yaxis": "y"
        },
        {
         "hoverinfo": "none",
         "line": {
          "color": "red",
          "width": 3
         },
         "mode": "lines",
         "showlegend": false,
         "type": "scatter",
         "x": [
          "2022-12-21T00:00:00",
          "2022-12-22T00:00:00"
         ],
         "xaxis": "x",
         "y": [
          233.33,
          233.2
         ],
         "yaxis": "y"
        },
        {
         "hoverinfo": "none",
         "line": {
          "color": "red",
          "width": 3
         },
         "mode": "lines",
         "showlegend": false,
         "type": "scatter",
         "x": [
          "2022-12-22T00:00:00",
          "2022-12-23T00:00:00"
         ],
         "xaxis": "x",
         "y": [
          233.2,
          233.01
         ],
         "yaxis": "y"
        },
        {
         "hoverinfo": "none",
         "line": {
          "color": "red",
          "width": 3
         },
         "mode": "lines",
         "showlegend": false,
         "type": "scatter",
         "x": [
          "2022-12-23T00:00:00",
          "2022-12-24T00:00:00"
         ],
         "xaxis": "x",
         "y": [
          233.01,
          232.77
         ],
         "yaxis": "y"
        },
        {
         "hoverinfo": "none",
         "line": {
          "color": "red",
          "width": 3
         },
         "mode": "lines",
         "showlegend": false,
         "type": "scatter",
         "x": [
          "2022-12-24T00:00:00",
          "2022-12-25T00:00:00"
         ],
         "xaxis": "x",
         "y": [
          232.77,
          232.58
         ],
         "yaxis": "y"
        },
        {
         "hoverinfo": "none",
         "line": {
          "color": "red",
          "width": 3
         },
         "mode": "lines",
         "showlegend": false,
         "type": "scatter",
         "x": [
          "2022-12-25T00:00:00",
          "2022-12-26T00:00:00"
         ],
         "xaxis": "x",
         "y": [
          232.58,
          232.46
         ],
         "yaxis": "y"
        },
        {
         "hoverinfo": "none",
         "line": {
          "color": "red",
          "width": 3
         },
         "mode": "lines",
         "showlegend": false,
         "type": "scatter",
         "x": [
          "2022-12-26T00:00:00",
          "2022-12-27T00:00:00"
         ],
         "xaxis": "x",
         "y": [
          232.46,
          232.34
         ],
         "yaxis": "y"
        },
        {
         "hoverinfo": "none",
         "line": {
          "color": "red",
          "width": 3
         },
         "mode": "lines",
         "showlegend": false,
         "type": "scatter",
         "x": [
          "2022-12-27T00:00:00",
          "2022-12-28T00:00:00"
         ],
         "xaxis": "x",
         "y": [
          232.34,
          232.17
         ],
         "yaxis": "y"
        },
        {
         "hoverinfo": "none",
         "line": {
          "color": "red",
          "width": 3
         },
         "mode": "lines",
         "showlegend": false,
         "type": "scatter",
         "x": [
          "2022-12-28T00:00:00",
          "2022-12-29T00:00:00"
         ],
         "xaxis": "x",
         "y": [
          232.17,
          232.06
         ],
         "yaxis": "y"
        },
        {
         "hoverinfo": "none",
         "line": {
          "color": "red",
          "width": 3
         },
         "mode": "lines",
         "showlegend": false,
         "type": "scatter",
         "x": [
          "2022-12-29T00:00:00",
          "2022-12-30T00:00:00"
         ],
         "xaxis": "x",
         "y": [
          232.06,
          231.82
         ],
         "yaxis": "y"
        },
        {
         "hoverinfo": "none",
         "line": {
          "color": "red",
          "width": 3
         },
         "mode": "lines",
         "showlegend": false,
         "type": "scatter",
         "x": [
          "2022-12-30T00:00:00",
          "2022-12-31T00:00:00"
         ],
         "xaxis": "x",
         "y": [
          231.82,
          231.64
         ],
         "yaxis": "y"
        },
        {
         "hoverinfo": "none",
         "line": {
          "color": "red",
          "width": 3
         },
         "mode": "lines",
         "showlegend": false,
         "type": "scatter",
         "x": [
          "2022-12-31T00:00:00",
          "2023-01-01T00:00:00"
         ],
         "xaxis": "x",
         "y": [
          231.64,
          231.4
         ],
         "yaxis": "y"
        },
        {
         "hoverinfo": "none",
         "line": {
          "color": "green",
          "width": 3
         },
         "mode": "lines",
         "showlegend": false,
         "type": "scatter",
         "x": [
          "2023-01-01T00:00:00",
          "2023-01-02T00:00:00"
         ],
         "xaxis": "x",
         "y": [
          231.4,
          231.4
         ],
         "yaxis": "y"
        },
        {
         "hoverinfo": "none",
         "line": {
          "color": "red",
          "width": 3
         },
         "mode": "lines",
         "showlegend": false,
         "type": "scatter",
         "x": [
          "2023-01-02T00:00:00",
          "2023-01-03T00:00:00"
         ],
         "xaxis": "x",
         "y": [
          231.4,
          231.17
         ],
         "yaxis": "y"
        },
        {
         "hoverinfo": "none",
         "line": {
          "color": "red",
          "width": 3
         },
         "mode": "lines",
         "showlegend": false,
         "type": "scatter",
         "x": [
          "2023-01-03T00:00:00",
          "2023-01-04T00:00:00"
         ],
         "xaxis": "x",
         "y": [
          231.17,
          230.93
         ],
         "yaxis": "y"
        },
        {
         "hoverinfo": "none",
         "line": {
          "color": "red",
          "width": 3
         },
         "mode": "lines",
         "showlegend": false,
         "type": "scatter",
         "x": [
          "2023-01-04T00:00:00",
          "2023-01-05T00:00:00"
         ],
         "xaxis": "x",
         "y": [
          230.93,
          230.86
         ],
         "yaxis": "y"
        },
        {
         "hoverinfo": "none",
         "line": {
          "color": "red",
          "width": 3
         },
         "mode": "lines",
         "showlegend": false,
         "type": "scatter",
         "x": [
          "2023-01-05T00:00:00",
          "2023-01-06T00:00:00"
         ],
         "xaxis": "x",
         "y": [
          230.86,
          230.74
         ],
         "yaxis": "y"
        },
        {
         "hoverinfo": "none",
         "line": {
          "color": "green",
          "width": 3
         },
         "mode": "lines",
         "showlegend": false,
         "type": "scatter",
         "x": [
          "2023-01-06T00:00:00",
          "2023-01-07T00:00:00"
         ],
         "xaxis": "x",
         "y": [
          230.74,
          230.74
         ],
         "yaxis": "y"
        },
        {
         "hoverinfo": "none",
         "line": {
          "color": "green",
          "width": 3
         },
         "mode": "lines",
         "showlegend": false,
         "type": "scatter",
         "x": [
          "2023-01-07T00:00:00",
          "2023-01-08T00:00:00"
         ],
         "xaxis": "x",
         "y": [
          230.74,
          230.86
         ],
         "yaxis": "y"
        },
        {
         "hoverinfo": "none",
         "line": {
          "color": "green",
          "width": 3
         },
         "mode": "lines",
         "showlegend": false,
         "type": "scatter",
         "x": [
          "2023-01-08T00:00:00",
          "2023-01-09T00:00:00"
         ],
         "xaxis": "x",
         "y": [
          230.86,
          231.04
         ],
         "yaxis": "y"
        },
        {
         "hoverinfo": "none",
         "line": {
          "color": "red",
          "width": 3
         },
         "mode": "lines",
         "showlegend": false,
         "type": "scatter",
         "x": [
          "2023-01-09T00:00:00",
          "2023-01-10T00:00:00"
         ],
         "xaxis": "x",
         "y": [
          231.04,
          230.92
         ],
         "yaxis": "y"
        },
        {
         "hoverinfo": "none",
         "line": {
          "color": "green",
          "width": 3
         },
         "mode": "lines",
         "showlegend": false,
         "type": "scatter",
         "x": [
          "2023-01-10T00:00:00",
          "2023-01-11T00:00:00"
         ],
         "xaxis": "x",
         "y": [
          230.92,
          231.04
         ],
         "yaxis": "y"
        },
        {
         "hoverinfo": "none",
         "line": {
          "color": "green",
          "width": 3
         },
         "mode": "lines",
         "showlegend": false,
         "type": "scatter",
         "x": [
          "2023-01-11T00:00:00",
          "2023-01-12T00:00:00"
         ],
         "xaxis": "x",
         "y": [
          231.04,
          231.16
         ],
         "yaxis": "y"
        },
        {
         "hoverinfo": "none",
         "line": {
          "color": "green",
          "width": 3
         },
         "mode": "lines",
         "showlegend": false,
         "type": "scatter",
         "x": [
          "2023-01-12T00:00:00",
          "2023-01-13T00:00:00"
         ],
         "xaxis": "x",
         "y": [
          231.16,
          231.16
         ],
         "yaxis": "y"
        },
        {
         "hoverinfo": "none",
         "line": {
          "color": "green",
          "width": 3
         },
         "mode": "lines",
         "showlegend": false,
         "type": "scatter",
         "x": [
          "2023-01-13T00:00:00",
          "2023-01-14T00:00:00"
         ],
         "xaxis": "x",
         "y": [
          231.16,
          231.17
         ],
         "yaxis": "y"
        },
        {
         "hoverinfo": "none",
         "line": {
          "color": "green",
          "width": 3
         },
         "mode": "lines",
         "showlegend": false,
         "type": "scatter",
         "x": [
          "2023-01-14T00:00:00",
          "2023-01-15T00:00:00"
         ],
         "xaxis": "x",
         "y": [
          231.17,
          231.17
         ],
         "yaxis": "y"
        },
        {
         "hoverinfo": "none",
         "line": {
          "color": "red",
          "width": 3
         },
         "mode": "lines",
         "showlegend": false,
         "type": "scatter",
         "x": [
          "2023-01-15T00:00:00",
          "2023-01-16T00:00:00"
         ],
         "xaxis": "x",
         "y": [
          231.17,
          230.93
         ],
         "yaxis": "y"
        },
        {
         "hoverinfo": "none",
         "line": {
          "color": "red",
          "width": 3
         },
         "mode": "lines",
         "showlegend": false,
         "type": "scatter",
         "x": [
          "2023-01-16T00:00:00",
          "2023-01-17T00:00:00"
         ],
         "xaxis": "x",
         "y": [
          230.93,
          230.75
         ],
         "yaxis": "y"
        },
        {
         "hoverinfo": "none",
         "line": {
          "color": "red",
          "width": 3
         },
         "mode": "lines",
         "showlegend": false,
         "type": "scatter",
         "x": [
          "2023-01-17T00:00:00",
          "2023-01-18T00:00:00"
         ],
         "xaxis": "x",
         "y": [
          230.75,
          230.63
         ],
         "yaxis": "y"
        },
        {
         "hoverinfo": "none",
         "line": {
          "color": "red",
          "width": 3
         },
         "mode": "lines",
         "showlegend": false,
         "type": "scatter",
         "x": [
          "2023-01-18T00:00:00",
          "2023-01-19T00:00:00"
         ],
         "xaxis": "x",
         "y": [
          230.63,
          230.5
         ],
         "yaxis": "y"
        },
        {
         "hoverinfo": "none",
         "line": {
          "color": "red",
          "width": 3
         },
         "mode": "lines",
         "showlegend": false,
         "type": "scatter",
         "x": [
          "2023-01-19T00:00:00",
          "2023-01-20T00:00:00"
         ],
         "xaxis": "x",
         "y": [
          230.5,
          230.39
         ],
         "yaxis": "y"
        },
        {
         "hoverinfo": "none",
         "line": {
          "color": "red",
          "width": 3
         },
         "mode": "lines",
         "showlegend": false,
         "type": "scatter",
         "x": [
          "2023-01-20T00:00:00",
          "2023-01-21T00:00:00"
         ],
         "xaxis": "x",
         "y": [
          230.39,
          230.27
         ],
         "yaxis": "y"
        },
        {
         "hoverinfo": "none",
         "line": {
          "color": "red",
          "width": 3
         },
         "mode": "lines",
         "showlegend": false,
         "type": "scatter",
         "x": [
          "2023-01-21T00:00:00",
          "2023-01-22T00:00:00"
         ],
         "xaxis": "x",
         "y": [
          230.27,
          230.03
         ],
         "yaxis": "y"
        },
        {
         "hoverinfo": "none",
         "line": {
          "color": "red",
          "width": 3
         },
         "mode": "lines",
         "showlegend": false,
         "type": "scatter",
         "x": [
          "2023-01-22T00:00:00",
          "2023-01-23T00:00:00"
         ],
         "xaxis": "x",
         "y": [
          230.03,
          229.79
         ],
         "yaxis": "y"
        },
        {
         "hoverinfo": "none",
         "line": {
          "color": "red",
          "width": 3
         },
         "mode": "lines",
         "showlegend": false,
         "type": "scatter",
         "x": [
          "2023-01-23T00:00:00",
          "2023-01-24T00:00:00"
         ],
         "xaxis": "x",
         "y": [
          229.79,
          229.68
         ],
         "yaxis": "y"
        },
        {
         "hoverinfo": "none",
         "line": {
          "color": "red",
          "width": 3
         },
         "mode": "lines",
         "showlegend": false,
         "type": "scatter",
         "x": [
          "2023-01-24T00:00:00",
          "2023-01-25T00:00:00"
         ],
         "xaxis": "x",
         "y": [
          229.68,
          229.57
         ],
         "yaxis": "y"
        },
        {
         "hoverinfo": "none",
         "line": {
          "color": "red",
          "width": 3
         },
         "mode": "lines",
         "showlegend": false,
         "type": "scatter",
         "x": [
          "2023-01-25T00:00:00",
          "2023-01-26T00:00:00"
         ],
         "xaxis": "x",
         "y": [
          229.57,
          229.45
         ],
         "yaxis": "y"
        },
        {
         "hoverinfo": "none",
         "line": {
          "color": "red",
          "width": 3
         },
         "mode": "lines",
         "showlegend": false,
         "type": "scatter",
         "x": [
          "2023-01-26T00:00:00",
          "2023-01-27T00:00:00"
         ],
         "xaxis": "x",
         "y": [
          229.45,
          229.34
         ],
         "yaxis": "y"
        },
        {
         "hoverinfo": "none",
         "line": {
          "color": "red",
          "width": 3
         },
         "mode": "lines",
         "showlegend": false,
         "type": "scatter",
         "x": [
          "2023-01-27T00:00:00",
          "2023-01-28T00:00:00"
         ],
         "xaxis": "x",
         "y": [
          229.34,
          229.1
         ],
         "yaxis": "y"
        },
        {
         "hoverinfo": "none",
         "line": {
          "color": "red",
          "width": 3
         },
         "mode": "lines",
         "showlegend": false,
         "type": "scatter",
         "x": [
          "2023-01-28T00:00:00",
          "2023-01-29T00:00:00"
         ],
         "xaxis": "x",
         "y": [
          229.1,
          228.86
         ],
         "yaxis": "y"
        },
        {
         "hoverinfo": "none",
         "line": {
          "color": "red",
          "width": 3
         },
         "mode": "lines",
         "showlegend": false,
         "type": "scatter",
         "x": [
          "2023-01-29T00:00:00",
          "2023-01-30T00:00:00"
         ],
         "xaxis": "x",
         "y": [
          228.86,
          228.74
         ],
         "yaxis": "y"
        },
        {
         "hoverinfo": "none",
         "line": {
          "color": "green",
          "width": 3
         },
         "mode": "lines",
         "showlegend": false,
         "type": "scatter",
         "x": [
          "2023-01-30T00:00:00",
          "2023-01-31T00:00:00"
         ],
         "xaxis": "x",
         "y": [
          228.74,
          228.86
         ],
         "yaxis": "y"
        },
        {
         "hoverinfo": "none",
         "line": {
          "color": "green",
          "width": 3
         },
         "mode": "lines",
         "showlegend": false,
         "type": "scatter",
         "x": [
          "2023-01-31T00:00:00",
          "2023-02-01T00:00:00"
         ],
         "xaxis": "x",
         "y": [
          228.86,
          228.98
         ],
         "yaxis": "y"
        },
        {
         "hoverinfo": "none",
         "line": {
          "color": "green",
          "width": 3
         },
         "mode": "lines",
         "showlegend": false,
         "type": "scatter",
         "x": [
          "2023-02-01T00:00:00",
          "2023-02-02T00:00:00"
         ],
         "xaxis": "x",
         "y": [
          228.98,
          228.98
         ],
         "yaxis": "y"
        },
        {
         "hoverinfo": "none",
         "line": {
          "color": "red",
          "width": 3
         },
         "mode": "lines",
         "showlegend": false,
         "type": "scatter",
         "x": [
          "2023-02-02T00:00:00",
          "2023-02-03T00:00:00"
         ],
         "xaxis": "x",
         "y": [
          228.98,
          228.86
         ],
         "yaxis": "y"
        },
        {
         "hoverinfo": "none",
         "line": {
          "color": "red",
          "width": 3
         },
         "mode": "lines",
         "showlegend": false,
         "type": "scatter",
         "x": [
          "2023-02-03T00:00:00",
          "2023-02-04T00:00:00"
         ],
         "xaxis": "x",
         "y": [
          228.86,
          228.74
         ],
         "yaxis": "y"
        },
        {
         "hoverinfo": "none",
         "line": {
          "color": "green",
          "width": 3
         },
         "mode": "lines",
         "showlegend": false,
         "type": "scatter",
         "x": [
          "2023-02-04T00:00:00",
          "2023-02-05T00:00:00"
         ],
         "xaxis": "x",
         "y": [
          228.74,
          228.74
         ],
         "yaxis": "y"
        },
        {
         "hoverinfo": "none",
         "line": {
          "color": "green",
          "width": 3
         },
         "mode": "lines",
         "showlegend": false,
         "type": "scatter",
         "x": [
          "2023-02-05T00:00:00",
          "2023-02-06T00:00:00"
         ],
         "xaxis": "x",
         "y": [
          228.74,
          228.74
         ],
         "yaxis": "y"
        },
        {
         "hoverinfo": "none",
         "line": {
          "color": "green",
          "width": 3
         },
         "mode": "lines",
         "showlegend": false,
         "type": "scatter",
         "x": [
          "2023-02-06T00:00:00",
          "2023-02-07T00:00:00"
         ],
         "xaxis": "x",
         "y": [
          228.74,
          228.74
         ],
         "yaxis": "y"
        },
        {
         "hoverinfo": "none",
         "line": {
          "color": "red",
          "width": 3
         },
         "mode": "lines",
         "showlegend": false,
         "type": "scatter",
         "x": [
          "2023-02-07T00:00:00",
          "2023-02-08T00:00:00"
         ],
         "xaxis": "x",
         "y": [
          228.74,
          228.51
         ],
         "yaxis": "y"
        },
        {
         "hoverinfo": "none",
         "line": {
          "color": "red",
          "width": 3
         },
         "mode": "lines",
         "showlegend": false,
         "type": "scatter",
         "x": [
          "2023-02-08T00:00:00",
          "2023-02-09T00:00:00"
         ],
         "xaxis": "x",
         "y": [
          228.51,
          228.27
         ],
         "yaxis": "y"
        },
        {
         "hoverinfo": "none",
         "line": {
          "color": "red",
          "width": 3
         },
         "mode": "lines",
         "showlegend": false,
         "type": "scatter",
         "x": [
          "2023-02-09T00:00:00",
          "2023-02-10T00:00:00"
         ],
         "xaxis": "x",
         "y": [
          228.27,
          228.15
         ],
         "yaxis": "y"
        },
        {
         "hoverinfo": "none",
         "line": {
          "color": "green",
          "width": 3
         },
         "mode": "lines",
         "showlegend": false,
         "type": "scatter",
         "x": [
          "2023-02-10T00:00:00",
          "2023-02-11T00:00:00"
         ],
         "xaxis": "x",
         "y": [
          228.15,
          228.15
         ],
         "yaxis": "y"
        },
        {
         "hoverinfo": "none",
         "line": {
          "color": "red",
          "width": 3
         },
         "mode": "lines",
         "showlegend": false,
         "type": "scatter",
         "x": [
          "2023-02-11T00:00:00",
          "2023-02-12T00:00:00"
         ],
         "xaxis": "x",
         "y": [
          228.15,
          228.03
         ],
         "yaxis": "y"
        },
        {
         "hoverinfo": "none",
         "line": {
          "color": "red",
          "width": 3
         },
         "mode": "lines",
         "showlegend": false,
         "type": "scatter",
         "x": [
          "2023-02-12T00:00:00",
          "2023-02-13T00:00:00"
         ],
         "xaxis": "x",
         "y": [
          228.03,
          227.91
         ],
         "yaxis": "y"
        },
        {
         "hoverinfo": "none",
         "line": {
          "color": "red",
          "width": 3
         },
         "mode": "lines",
         "showlegend": false,
         "type": "scatter",
         "x": [
          "2023-02-13T00:00:00",
          "2023-02-14T00:00:00"
         ],
         "xaxis": "x",
         "y": [
          227.91,
          227.78
         ],
         "yaxis": "y"
        },
        {
         "hoverinfo": "none",
         "line": {
          "color": "red",
          "width": 3
         },
         "mode": "lines",
         "showlegend": false,
         "type": "scatter",
         "x": [
          "2023-02-14T00:00:00",
          "2023-02-15T00:00:00"
         ],
         "xaxis": "x",
         "y": [
          227.78,
          227.66
         ],
         "yaxis": "y"
        },
        {
         "hoverinfo": "none",
         "line": {
          "color": "red",
          "width": 3
         },
         "mode": "lines",
         "showlegend": false,
         "type": "scatter",
         "x": [
          "2023-02-15T00:00:00",
          "2023-02-16T00:00:00"
         ],
         "xaxis": "x",
         "y": [
          227.66,
          227.53
         ],
         "yaxis": "y"
        },
        {
         "hoverinfo": "none",
         "line": {
          "color": "red",
          "width": 3
         },
         "mode": "lines",
         "showlegend": false,
         "type": "scatter",
         "x": [
          "2023-02-16T00:00:00",
          "2023-02-17T00:00:00"
         ],
         "xaxis": "x",
         "y": [
          227.53,
          227.4
         ],
         "yaxis": "y"
        },
        {
         "hoverinfo": "none",
         "line": {
          "color": "red",
          "width": 3
         },
         "mode": "lines",
         "showlegend": false,
         "type": "scatter",
         "x": [
          "2023-02-17T00:00:00",
          "2023-02-18T00:00:00"
         ],
         "xaxis": "x",
         "y": [
          227.4,
          227.28
         ],
         "yaxis": "y"
        },
        {
         "hoverinfo": "none",
         "line": {
          "color": "red",
          "width": 3
         },
         "mode": "lines",
         "showlegend": false,
         "type": "scatter",
         "x": [
          "2023-02-18T00:00:00",
          "2023-02-19T00:00:00"
         ],
         "xaxis": "x",
         "y": [
          227.28,
          227.16
         ],
         "yaxis": "y"
        },
        {
         "hoverinfo": "none",
         "line": {
          "color": "green",
          "width": 3
         },
         "mode": "lines",
         "showlegend": false,
         "type": "scatter",
         "x": [
          "2023-02-19T00:00:00",
          "2023-02-20T00:00:00"
         ],
         "xaxis": "x",
         "y": [
          227.16,
          227.27
         ],
         "yaxis": "y"
        },
        {
         "hoverinfo": "none",
         "line": {
          "color": "green",
          "width": 3
         },
         "mode": "lines",
         "showlegend": false,
         "type": "scatter",
         "x": [
          "2023-02-20T00:00:00",
          "2023-02-21T00:00:00"
         ],
         "xaxis": "x",
         "y": [
          227.27,
          227.39
         ],
         "yaxis": "y"
        },
        {
         "hoverinfo": "none",
         "line": {
          "color": "green",
          "width": 3
         },
         "mode": "lines",
         "showlegend": false,
         "type": "scatter",
         "x": [
          "2023-02-21T00:00:00",
          "2023-02-22T00:00:00"
         ],
         "xaxis": "x",
         "y": [
          227.39,
          227.51
         ],
         "yaxis": "y"
        },
        {
         "hoverinfo": "none",
         "line": {
          "color": "green",
          "width": 3
         },
         "mode": "lines",
         "showlegend": false,
         "type": "scatter",
         "x": [
          "2023-02-22T00:00:00",
          "2023-02-23T00:00:00"
         ],
         "xaxis": "x",
         "y": [
          227.51,
          227.63
         ],
         "yaxis": "y"
        },
        {
         "hoverinfo": "none",
         "line": {
          "color": "green",
          "width": 3
         },
         "mode": "lines",
         "showlegend": false,
         "type": "scatter",
         "x": [
          "2023-02-23T00:00:00",
          "2023-02-24T00:00:00"
         ],
         "xaxis": "x",
         "y": [
          227.63,
          227.76
         ],
         "yaxis": "y"
        },
        {
         "hoverinfo": "none",
         "line": {
          "color": "green",
          "width": 3
         },
         "mode": "lines",
         "showlegend": false,
         "type": "scatter",
         "x": [
          "2023-02-24T00:00:00",
          "2023-02-25T00:00:00"
         ],
         "xaxis": "x",
         "y": [
          227.76,
          228.01
         ],
         "yaxis": "y"
        },
        {
         "hoverinfo": "none",
         "line": {
          "color": "green",
          "width": 3
         },
         "mode": "lines",
         "showlegend": false,
         "type": "scatter",
         "x": [
          "2023-02-25T00:00:00",
          "2023-02-26T00:00:00"
         ],
         "xaxis": "x",
         "y": [
          228.01,
          228.26
         ],
         "yaxis": "y"
        },
        {
         "hoverinfo": "none",
         "line": {
          "color": "green",
          "width": 3
         },
         "mode": "lines",
         "showlegend": false,
         "type": "scatter",
         "x": [
          "2023-02-26T00:00:00",
          "2023-02-27T00:00:00"
         ],
         "xaxis": "x",
         "y": [
          228.26,
          228.5
         ],
         "yaxis": "y"
        },
        {
         "hoverinfo": "none",
         "line": {
          "color": "green",
          "width": 3
         },
         "mode": "lines",
         "showlegend": false,
         "type": "scatter",
         "x": [
          "2023-02-27T00:00:00",
          "2023-02-28T00:00:00"
         ],
         "xaxis": "x",
         "y": [
          228.5,
          228.63
         ],
         "yaxis": "y"
        },
        {
         "hoverinfo": "none",
         "line": {
          "color": "green",
          "width": 3
         },
         "mode": "lines",
         "showlegend": false,
         "type": "scatter",
         "x": [
          "2023-02-28T00:00:00",
          "2023-03-01T00:00:00"
         ],
         "xaxis": "x",
         "y": [
          228.63,
          228.76
         ],
         "yaxis": "y"
        },
        {
         "hoverinfo": "none",
         "line": {
          "color": "green",
          "width": 3
         },
         "mode": "lines",
         "showlegend": false,
         "type": "scatter",
         "x": [
          "2023-03-01T00:00:00",
          "2023-03-02T00:00:00"
         ],
         "xaxis": "x",
         "y": [
          228.76,
          228.89
         ],
         "yaxis": "y"
        },
        {
         "hoverinfo": "none",
         "line": {
          "color": "green",
          "width": 3
         },
         "mode": "lines",
         "showlegend": false,
         "type": "scatter",
         "x": [
          "2023-03-02T00:00:00",
          "2023-03-03T00:00:00"
         ],
         "xaxis": "x",
         "y": [
          228.89,
          229.01
         ],
         "yaxis": "y"
        },
        {
         "hoverinfo": "none",
         "line": {
          "color": "green",
          "width": 3
         },
         "mode": "lines",
         "showlegend": false,
         "type": "scatter",
         "x": [
          "2023-03-03T00:00:00",
          "2023-03-04T00:00:00"
         ],
         "xaxis": "x",
         "y": [
          229.01,
          229.14
         ],
         "yaxis": "y"
        },
        {
         "hoverinfo": "none",
         "line": {
          "color": "green",
          "width": 3
         },
         "mode": "lines",
         "showlegend": false,
         "type": "scatter",
         "x": [
          "2023-03-04T00:00:00",
          "2023-03-05T00:00:00"
         ],
         "xaxis": "x",
         "y": [
          229.14,
          229.14
         ],
         "yaxis": "y"
        },
        {
         "hoverinfo": "none",
         "line": {
          "color": "green",
          "width": 3
         },
         "mode": "lines",
         "showlegend": false,
         "type": "scatter",
         "x": [
          "2023-03-05T00:00:00",
          "2023-03-06T00:00:00"
         ],
         "xaxis": "x",
         "y": [
          229.14,
          229.28
         ],
         "yaxis": "y"
        },
        {
         "hoverinfo": "none",
         "line": {
          "color": "green",
          "width": 3
         },
         "mode": "lines",
         "showlegend": false,
         "type": "scatter",
         "x": [
          "2023-03-06T00:00:00",
          "2023-03-07T00:00:00"
         ],
         "xaxis": "x",
         "y": [
          229.28,
          229.41
         ],
         "yaxis": "y"
        },
        {
         "hoverinfo": "none",
         "line": {
          "color": "green",
          "width": 3
         },
         "mode": "lines",
         "showlegend": false,
         "type": "scatter",
         "x": [
          "2023-03-07T00:00:00",
          "2023-03-08T00:00:00"
         ],
         "xaxis": "x",
         "y": [
          229.41,
          229.54
         ],
         "yaxis": "y"
        },
        {
         "hoverinfo": "none",
         "line": {
          "color": "green",
          "width": 3
         },
         "mode": "lines",
         "showlegend": false,
         "type": "scatter",
         "x": [
          "2023-03-08T00:00:00",
          "2023-03-09T00:00:00"
         ],
         "xaxis": "x",
         "y": [
          229.54,
          229.67
         ],
         "yaxis": "y"
        },
        {
         "hoverinfo": "none",
         "line": {
          "color": "green",
          "width": 3
         },
         "mode": "lines",
         "showlegend": false,
         "type": "scatter",
         "x": [
          "2023-03-09T00:00:00",
          "2023-03-10T00:00:00"
         ],
         "xaxis": "x",
         "y": [
          229.67,
          229.92
         ],
         "yaxis": "y"
        },
        {
         "hoverinfo": "none",
         "line": {
          "color": "green",
          "width": 3
         },
         "mode": "lines",
         "showlegend": false,
         "type": "scatter",
         "x": [
          "2023-03-10T00:00:00",
          "2023-03-11T00:00:00"
         ],
         "xaxis": "x",
         "y": [
          229.92,
          229.93
         ],
         "yaxis": "y"
        },
        {
         "hoverinfo": "none",
         "line": {
          "color": "green",
          "width": 3
         },
         "mode": "lines",
         "showlegend": false,
         "type": "scatter",
         "x": [
          "2023-03-11T00:00:00",
          "2023-03-12T00:00:00"
         ],
         "xaxis": "x",
         "y": [
          229.93,
          230.05
         ],
         "yaxis": "y"
        },
        {
         "hoverinfo": "none",
         "line": {
          "color": "green",
          "width": 3
         },
         "mode": "lines",
         "showlegend": false,
         "type": "scatter",
         "x": [
          "2023-03-12T00:00:00",
          "2023-03-13T00:00:00"
         ],
         "xaxis": "x",
         "y": [
          230.05,
          230.06
         ],
         "yaxis": "y"
        },
        {
         "hoverinfo": "none",
         "line": {
          "color": "red",
          "width": 3
         },
         "mode": "lines",
         "showlegend": false,
         "type": "scatter",
         "x": [
          "2023-03-13T00:00:00",
          "2023-03-14T00:00:00"
         ],
         "xaxis": "x",
         "y": [
          230.06,
          229.94
         ],
         "yaxis": "y"
        },
        {
         "hoverinfo": "none",
         "line": {
          "color": "red",
          "width": 3
         },
         "mode": "lines",
         "showlegend": false,
         "type": "scatter",
         "x": [
          "2023-03-14T00:00:00",
          "2023-03-15T00:00:00"
         ],
         "xaxis": "x",
         "y": [
          229.94,
          229.82
         ],
         "yaxis": "y"
        },
        {
         "hoverinfo": "none",
         "line": {
          "color": "red",
          "width": 3
         },
         "mode": "lines",
         "showlegend": false,
         "type": "scatter",
         "x": [
          "2023-03-15T00:00:00",
          "2023-03-16T00:00:00"
         ],
         "xaxis": "x",
         "y": [
          229.82,
          229.7
         ],
         "yaxis": "y"
        },
        {
         "hoverinfo": "none",
         "line": {
          "color": "red",
          "width": 3
         },
         "mode": "lines",
         "showlegend": false,
         "type": "scatter",
         "x": [
          "2023-03-16T00:00:00",
          "2023-03-17T00:00:00"
         ],
         "xaxis": "x",
         "y": [
          229.7,
          229.59
         ],
         "yaxis": "y"
        },
        {
         "hoverinfo": "none",
         "line": {
          "color": "red",
          "width": 3
         },
         "mode": "lines",
         "showlegend": false,
         "type": "scatter",
         "x": [
          "2023-03-17T00:00:00",
          "2023-03-18T00:00:00"
         ],
         "xaxis": "x",
         "y": [
          229.59,
          229.23
         ],
         "yaxis": "y"
        },
        {
         "hoverinfo": "none",
         "line": {
          "color": "green",
          "width": 3
         },
         "mode": "lines",
         "showlegend": false,
         "type": "scatter",
         "x": [
          "2023-03-18T00:00:00",
          "2023-03-19T00:00:00"
         ],
         "xaxis": "x",
         "y": [
          229.23,
          229.23
         ],
         "yaxis": "y"
        },
        {
         "hoverinfo": "none",
         "line": {
          "color": "red",
          "width": 3
         },
         "mode": "lines",
         "showlegend": false,
         "type": "scatter",
         "x": [
          "2023-03-19T00:00:00",
          "2023-03-20T00:00:00"
         ],
         "xaxis": "x",
         "y": [
          229.23,
          229.11
         ],
         "yaxis": "y"
        },
        {
         "hoverinfo": "none",
         "line": {
          "color": "red",
          "width": 3
         },
         "mode": "lines",
         "showlegend": false,
         "type": "scatter",
         "x": [
          "2023-03-20T00:00:00",
          "2023-03-21T00:00:00"
         ],
         "xaxis": "x",
         "y": [
          229.11,
          229.1
         ],
         "yaxis": "y"
        },
        {
         "hoverinfo": "none",
         "line": {
          "color": "green",
          "width": 3
         },
         "mode": "lines",
         "showlegend": false,
         "type": "scatter",
         "x": [
          "2023-03-21T00:00:00",
          "2023-03-22T00:00:00"
         ],
         "xaxis": "x",
         "y": [
          229.1,
          229.1
         ],
         "yaxis": "y"
        },
        {
         "hoverinfo": "none",
         "line": {
          "color": "green",
          "width": 3
         },
         "mode": "lines",
         "showlegend": false,
         "type": "scatter",
         "x": [
          "2023-03-22T00:00:00",
          "2023-03-23T00:00:00"
         ],
         "xaxis": "x",
         "y": [
          229.1,
          229.11
         ],
         "yaxis": "y"
        },
        {
         "hoverinfo": "none",
         "line": {
          "color": "green",
          "width": 3
         },
         "mode": "lines",
         "showlegend": false,
         "type": "scatter",
         "x": [
          "2023-03-23T00:00:00",
          "2023-03-24T00:00:00"
         ],
         "xaxis": "x",
         "y": [
          229.11,
          229.11
         ],
         "yaxis": "y"
        },
        {
         "hoverinfo": "none",
         "line": {
          "color": "red",
          "width": 3
         },
         "mode": "lines",
         "showlegend": false,
         "type": "scatter",
         "x": [
          "2023-03-24T00:00:00",
          "2023-03-25T00:00:00"
         ],
         "xaxis": "x",
         "y": [
          229.11,
          229.1
         ],
         "yaxis": "y"
        },
        {
         "hoverinfo": "none",
         "line": {
          "color": "green",
          "width": 3
         },
         "mode": "lines",
         "showlegend": false,
         "type": "scatter",
         "x": [
          "2023-03-25T00:00:00",
          "2023-03-26T00:00:00"
         ],
         "xaxis": "x",
         "y": [
          229.1,
          229.23
         ],
         "yaxis": "y"
        },
        {
         "hoverinfo": "none",
         "line": {
          "color": "green",
          "width": 3
         },
         "mode": "lines",
         "showlegend": false,
         "type": "scatter",
         "x": [
          "2023-03-26T00:00:00",
          "2023-03-27T00:00:00"
         ],
         "xaxis": "x",
         "y": [
          229.23,
          229.23
         ],
         "yaxis": "y"
        },
        {
         "hoverinfo": "none",
         "line": {
          "color": "green",
          "width": 3
         },
         "mode": "lines",
         "showlegend": false,
         "type": "scatter",
         "x": [
          "2023-03-27T00:00:00",
          "2023-03-28T00:00:00"
         ],
         "xaxis": "x",
         "y": [
          229.23,
          229.34
         ],
         "yaxis": "y"
        },
        {
         "hoverinfo": "none",
         "line": {
          "color": "green",
          "width": 3
         },
         "mode": "lines",
         "showlegend": false,
         "type": "scatter",
         "x": [
          "2023-03-28T00:00:00",
          "2023-03-29T00:00:00"
         ],
         "xaxis": "x",
         "y": [
          229.34,
          229.46
         ],
         "yaxis": "y"
        },
        {
         "hoverinfo": "none",
         "line": {
          "color": "green",
          "width": 3
         },
         "mode": "lines",
         "showlegend": false,
         "type": "scatter",
         "x": [
          "2023-03-29T00:00:00",
          "2023-03-30T00:00:00"
         ],
         "xaxis": "x",
         "y": [
          229.46,
          229.57
         ],
         "yaxis": "y"
        },
        {
         "hoverinfo": "none",
         "line": {
          "color": "green",
          "width": 3
         },
         "mode": "lines",
         "showlegend": false,
         "type": "scatter",
         "x": [
          "2023-03-30T00:00:00",
          "2023-03-31T00:00:00"
         ],
         "xaxis": "x",
         "y": [
          229.57,
          229.8
         ],
         "yaxis": "y"
        },
        {
         "hoverinfo": "none",
         "line": {
          "color": "green",
          "width": 3
         },
         "mode": "lines",
         "showlegend": false,
         "type": "scatter",
         "x": [
          "2023-03-31T00:00:00",
          "2023-04-01T00:00:00"
         ],
         "xaxis": "x",
         "y": [
          229.8,
          230.02
         ],
         "yaxis": "y"
        },
        {
         "hoverinfo": "none",
         "line": {
          "color": "green",
          "width": 3
         },
         "mode": "lines",
         "showlegend": false,
         "type": "scatter",
         "x": [
          "2023-04-01T00:00:00",
          "2023-04-02T00:00:00"
         ],
         "xaxis": "x",
         "y": [
          230.02,
          230.14
         ],
         "yaxis": "y"
        },
        {
         "hoverinfo": "none",
         "line": {
          "color": "green",
          "width": 3
         },
         "mode": "lines",
         "showlegend": false,
         "type": "scatter",
         "x": [
          "2023-04-02T00:00:00",
          "2023-04-03T00:00:00"
         ],
         "xaxis": "x",
         "y": [
          230.14,
          230.25
         ],
         "yaxis": "y"
        },
        {
         "hoverinfo": "none",
         "line": {
          "color": "green",
          "width": 3
         },
         "mode": "lines",
         "showlegend": false,
         "type": "scatter",
         "x": [
          "2023-04-03T00:00:00",
          "2023-04-04T00:00:00"
         ],
         "xaxis": "x",
         "y": [
          230.25,
          230.48
         ],
         "yaxis": "y"
        },
        {
         "hoverinfo": "none",
         "line": {
          "color": "green",
          "width": 3
         },
         "mode": "lines",
         "showlegend": false,
         "type": "scatter",
         "x": [
          "2023-04-04T00:00:00",
          "2023-04-05T00:00:00"
         ],
         "xaxis": "x",
         "y": [
          230.48,
          230.59
         ],
         "yaxis": "y"
        },
        {
         "hoverinfo": "none",
         "line": {
          "color": "green",
          "width": 3
         },
         "mode": "lines",
         "showlegend": false,
         "type": "scatter",
         "x": [
          "2023-04-05T00:00:00",
          "2023-04-06T00:00:00"
         ],
         "xaxis": "x",
         "y": [
          230.59,
          230.71
         ],
         "yaxis": "y"
        },
        {
         "hoverinfo": "none",
         "line": {
          "color": "green",
          "width": 3
         },
         "mode": "lines",
         "showlegend": false,
         "type": "scatter",
         "x": [
          "2023-04-06T00:00:00",
          "2023-04-07T00:00:00"
         ],
         "xaxis": "x",
         "y": [
          230.71,
          230.82
         ],
         "yaxis": "y"
        },
        {
         "hoverinfo": "none",
         "line": {
          "color": "green",
          "width": 3
         },
         "mode": "lines",
         "showlegend": false,
         "type": "scatter",
         "x": [
          "2023-04-07T00:00:00",
          "2023-04-08T00:00:00"
         ],
         "xaxis": "x",
         "y": [
          230.82,
          230.82
         ],
         "yaxis": "y"
        },
        {
         "hoverinfo": "none",
         "line": {
          "color": "green",
          "width": 3
         },
         "mode": "lines",
         "showlegend": false,
         "type": "scatter",
         "x": [
          "2023-04-08T00:00:00",
          "2023-04-09T00:00:00"
         ],
         "xaxis": "x",
         "y": [
          230.82,
          230.94
         ],
         "yaxis": "y"
        },
        {
         "hoverinfo": "none",
         "line": {
          "color": "green",
          "width": 3
         },
         "mode": "lines",
         "showlegend": false,
         "type": "scatter",
         "x": [
          "2023-04-09T00:00:00",
          "2023-04-10T00:00:00"
         ],
         "xaxis": "x",
         "y": [
          230.94,
          231.17
         ],
         "yaxis": "y"
        },
        {
         "hoverinfo": "none",
         "line": {
          "color": "green",
          "width": 3
         },
         "mode": "lines",
         "showlegend": false,
         "type": "scatter",
         "x": [
          "2023-04-10T00:00:00",
          "2023-04-11T00:00:00"
         ],
         "xaxis": "x",
         "y": [
          231.17,
          231.41
         ],
         "yaxis": "y"
        },
        {
         "hoverinfo": "none",
         "line": {
          "color": "green",
          "width": 3
         },
         "mode": "lines",
         "showlegend": false,
         "type": "scatter",
         "x": [
          "2023-04-11T00:00:00",
          "2023-04-12T00:00:00"
         ],
         "xaxis": "x",
         "y": [
          231.41,
          231.53
         ],
         "yaxis": "y"
        },
        {
         "hoverinfo": "none",
         "line": {
          "color": "green",
          "width": 3
         },
         "mode": "lines",
         "showlegend": false,
         "type": "scatter",
         "x": [
          "2023-04-12T00:00:00",
          "2023-04-13T00:00:00"
         ],
         "xaxis": "x",
         "y": [
          231.53,
          231.64
         ],
         "yaxis": "y"
        },
        {
         "hoverinfo": "none",
         "line": {
          "color": "green",
          "width": 3
         },
         "mode": "lines",
         "showlegend": false,
         "type": "scatter",
         "x": [
          "2023-04-13T00:00:00",
          "2023-04-14T00:00:00"
         ],
         "xaxis": "x",
         "y": [
          231.64,
          231.76
         ],
         "yaxis": "y"
        },
        {
         "hoverinfo": "none",
         "line": {
          "color": "green",
          "width": 3
         },
         "mode": "lines",
         "showlegend": false,
         "type": "scatter",
         "x": [
          "2023-04-14T00:00:00",
          "2023-04-15T00:00:00"
         ],
         "xaxis": "x",
         "y": [
          231.76,
          231.88
         ],
         "yaxis": "y"
        },
        {
         "hoverinfo": "none",
         "line": {
          "color": "green",
          "width": 3
         },
         "mode": "lines",
         "showlegend": false,
         "type": "scatter",
         "x": [
          "2023-04-15T00:00:00",
          "2023-04-16T00:00:00"
         ],
         "xaxis": "x",
         "y": [
          231.88,
          232
         ],
         "yaxis": "y"
        },
        {
         "hoverinfo": "none",
         "line": {
          "color": "green",
          "width": 3
         },
         "mode": "lines",
         "showlegend": false,
         "type": "scatter",
         "x": [
          "2023-04-16T00:00:00",
          "2023-04-17T00:00:00"
         ],
         "xaxis": "x",
         "y": [
          232,
          232
         ],
         "yaxis": "y"
        },
        {
         "hoverinfo": "none",
         "line": {
          "color": "green",
          "width": 3
         },
         "mode": "lines",
         "showlegend": false,
         "type": "scatter",
         "x": [
          "2023-04-17T00:00:00",
          "2023-04-18T00:00:00"
         ],
         "xaxis": "x",
         "y": [
          232,
          232
         ],
         "yaxis": "y"
        },
        {
         "hoverinfo": "none",
         "line": {
          "color": "green",
          "width": 3
         },
         "mode": "lines",
         "showlegend": false,
         "type": "scatter",
         "x": [
          "2023-04-18T00:00:00",
          "2023-04-19T00:00:00"
         ],
         "xaxis": "x",
         "y": [
          232,
          232
         ],
         "yaxis": "y"
        },
        {
         "hoverinfo": "none",
         "line": {
          "color": "green",
          "width": 3
         },
         "mode": "lines",
         "showlegend": false,
         "type": "scatter",
         "x": [
          "2023-04-19T00:00:00",
          "2023-04-20T00:00:00"
         ],
         "xaxis": "x",
         "y": [
          232,
          232
         ],
         "yaxis": "y"
        },
        {
         "hoverinfo": "none",
         "line": {
          "color": "green",
          "width": 3
         },
         "mode": "lines",
         "showlegend": false,
         "type": "scatter",
         "x": [
          "2023-04-20T00:00:00",
          "2023-04-21T00:00:00"
         ],
         "xaxis": "x",
         "y": [
          232,
          232
         ],
         "yaxis": "y"
        },
        {
         "hoverinfo": "none",
         "line": {
          "color": "green",
          "width": 3
         },
         "mode": "lines",
         "showlegend": false,
         "type": "scatter",
         "x": [
          "2023-04-21T00:00:00",
          "2023-04-22T00:00:00"
         ],
         "xaxis": "x",
         "y": [
          232,
          232
         ],
         "yaxis": "y"
        },
        {
         "hoverinfo": "none",
         "line": {
          "color": "green",
          "width": 3
         },
         "mode": "lines",
         "showlegend": false,
         "type": "scatter",
         "x": [
          "2023-04-22T00:00:00",
          "2023-04-23T00:00:00"
         ],
         "xaxis": "x",
         "y": [
          232,
          232
         ],
         "yaxis": "y"
        },
        {
         "hoverinfo": "none",
         "line": {
          "color": "green",
          "width": 3
         },
         "mode": "lines",
         "showlegend": false,
         "type": "scatter",
         "x": [
          "2023-04-23T00:00:00",
          "2023-04-24T00:00:00"
         ],
         "xaxis": "x",
         "y": [
          232,
          232
         ],
         "yaxis": "y"
        },
        {
         "hoverinfo": "none",
         "line": {
          "color": "green",
          "width": 3
         },
         "mode": "lines",
         "showlegend": false,
         "type": "scatter",
         "x": [
          "2023-04-24T00:00:00",
          "2023-04-25T00:00:00"
         ],
         "xaxis": "x",
         "y": [
          232,
          232.12
         ],
         "yaxis": "y"
        },
        {
         "hoverinfo": "none",
         "line": {
          "color": "green",
          "width": 3
         },
         "mode": "lines",
         "showlegend": false,
         "type": "scatter",
         "x": [
          "2023-04-25T00:00:00",
          "2023-04-26T00:00:00"
         ],
         "xaxis": "x",
         "y": [
          232.12,
          232.24
         ],
         "yaxis": "y"
        },
        {
         "hoverinfo": "none",
         "line": {
          "color": "green",
          "width": 3
         },
         "mode": "lines",
         "showlegend": false,
         "type": "scatter",
         "x": [
          "2023-04-26T00:00:00",
          "2023-04-27T00:00:00"
         ],
         "xaxis": "x",
         "y": [
          232.24,
          232.24
         ],
         "yaxis": "y"
        },
        {
         "hoverinfo": "none",
         "line": {
          "color": "green",
          "width": 3
         },
         "mode": "lines",
         "showlegend": false,
         "type": "scatter",
         "x": [
          "2023-04-27T00:00:00",
          "2023-04-28T00:00:00"
         ],
         "xaxis": "x",
         "y": [
          232.24,
          232.36
         ],
         "yaxis": "y"
        },
        {
         "hoverinfo": "none",
         "line": {
          "color": "green",
          "width": 3
         },
         "mode": "lines",
         "showlegend": false,
         "type": "scatter",
         "x": [
          "2023-04-28T00:00:00",
          "2023-04-29T00:00:00"
         ],
         "xaxis": "x",
         "y": [
          232.36,
          232.47
         ],
         "yaxis": "y"
        },
        {
         "hoverinfo": "none",
         "line": {
          "color": "green",
          "width": 3
         },
         "mode": "lines",
         "showlegend": false,
         "type": "scatter",
         "x": [
          "2023-04-29T00:00:00",
          "2023-04-30T00:00:00"
         ],
         "xaxis": "x",
         "y": [
          232.47,
          232.72
         ],
         "yaxis": "y"
        },
        {
         "hoverinfo": "none",
         "line": {
          "color": "green",
          "width": 3
         },
         "mode": "lines",
         "showlegend": false,
         "type": "scatter",
         "x": [
          "2023-04-30T00:00:00",
          "2023-05-01T00:00:00"
         ],
         "xaxis": "x",
         "y": [
          232.72,
          232.96
         ],
         "yaxis": "y"
        },
        {
         "hoverinfo": "none",
         "line": {
          "color": "green",
          "width": 3
         },
         "mode": "lines",
         "showlegend": false,
         "type": "scatter",
         "x": [
          "2023-05-01T00:00:00",
          "2023-05-02T00:00:00"
         ],
         "xaxis": "x",
         "y": [
          232.96,
          233.21
         ],
         "yaxis": "y"
        },
        {
         "hoverinfo": "none",
         "line": {
          "color": "green",
          "width": 3
         },
         "mode": "lines",
         "showlegend": false,
         "type": "scatter",
         "x": [
          "2023-05-02T00:00:00",
          "2023-05-03T00:00:00"
         ],
         "xaxis": "x",
         "y": [
          233.21,
          233.33
         ],
         "yaxis": "y"
        },
        {
         "hoverinfo": "none",
         "line": {
          "color": "green",
          "width": 3
         },
         "mode": "lines",
         "showlegend": false,
         "type": "scatter",
         "x": [
          "2023-05-03T00:00:00",
          "2023-05-04T00:00:00"
         ],
         "xaxis": "x",
         "y": [
          233.33,
          233.46
         ],
         "yaxis": "y"
        },
        {
         "hoverinfo": "none",
         "line": {
          "color": "green",
          "width": 3
         },
         "mode": "lines",
         "showlegend": false,
         "type": "scatter",
         "x": [
          "2023-05-04T00:00:00",
          "2023-05-05T00:00:00"
         ],
         "xaxis": "x",
         "y": [
          233.46,
          233.7
         ],
         "yaxis": "y"
        },
        {
         "hoverinfo": "none",
         "line": {
          "color": "green",
          "width": 3
         },
         "mode": "lines",
         "showlegend": false,
         "type": "scatter",
         "x": [
          "2023-05-05T00:00:00",
          "2023-05-06T00:00:00"
         ],
         "xaxis": "x",
         "y": [
          233.7,
          233.71
         ],
         "yaxis": "y"
        },
        {
         "hoverinfo": "none",
         "line": {
          "color": "green",
          "width": 3
         },
         "mode": "lines",
         "showlegend": false,
         "type": "scatter",
         "x": [
          "2023-05-06T00:00:00",
          "2023-05-07T00:00:00"
         ],
         "xaxis": "x",
         "y": [
          233.71,
          233.72
         ],
         "yaxis": "y"
        },
        {
         "hoverinfo": "none",
         "line": {
          "color": "red",
          "width": 3
         },
         "mode": "lines",
         "showlegend": false,
         "type": "scatter",
         "x": [
          "2023-05-07T00:00:00",
          "2023-05-08T00:00:00"
         ],
         "xaxis": "x",
         "y": [
          233.72,
          233.61
         ],
         "yaxis": "y"
        },
        {
         "hoverinfo": "none",
         "line": {
          "color": "red",
          "width": 3
         },
         "mode": "lines",
         "showlegend": false,
         "type": "scatter",
         "x": [
          "2023-05-08T00:00:00",
          "2023-05-09T00:00:00"
         ],
         "xaxis": "x",
         "y": [
          233.61,
          233.5
         ],
         "yaxis": "y"
        },
        {
         "hoverinfo": "none",
         "line": {
          "color": "red",
          "width": 3
         },
         "mode": "lines",
         "showlegend": false,
         "type": "scatter",
         "x": [
          "2023-05-09T00:00:00",
          "2023-05-10T00:00:00"
         ],
         "xaxis": "x",
         "y": [
          233.5,
          233.38
         ],
         "yaxis": "y"
        },
        {
         "hoverinfo": "none",
         "line": {
          "color": "red",
          "width": 3
         },
         "mode": "lines",
         "showlegend": false,
         "type": "scatter",
         "x": [
          "2023-05-10T00:00:00",
          "2023-05-11T00:00:00"
         ],
         "xaxis": "x",
         "y": [
          233.38,
          233.27
         ],
         "yaxis": "y"
        },
        {
         "hoverinfo": "none",
         "line": {
          "color": "red",
          "width": 3
         },
         "mode": "lines",
         "showlegend": false,
         "type": "scatter",
         "x": [
          "2023-05-11T00:00:00",
          "2023-05-12T00:00:00"
         ],
         "xaxis": "x",
         "y": [
          233.27,
          233.16
         ],
         "yaxis": "y"
        },
        {
         "hoverinfo": "none",
         "line": {
          "color": "green",
          "width": 3
         },
         "mode": "lines",
         "showlegend": false,
         "type": "scatter",
         "x": [
          "2023-05-12T00:00:00",
          "2023-05-13T00:00:00"
         ],
         "xaxis": "x",
         "y": [
          233.16,
          233.16
         ],
         "yaxis": "y"
        },
        {
         "hoverinfo": "none",
         "line": {
          "color": "green",
          "width": 3
         },
         "mode": "lines",
         "showlegend": false,
         "type": "scatter",
         "x": [
          "2023-05-13T00:00:00",
          "2023-05-14T00:00:00"
         ],
         "xaxis": "x",
         "y": [
          233.16,
          233.29
         ],
         "yaxis": "y"
        },
        {
         "hoverinfo": "none",
         "line": {
          "color": "green",
          "width": 3
         },
         "mode": "lines",
         "showlegend": false,
         "type": "scatter",
         "x": [
          "2023-05-14T00:00:00",
          "2023-05-15T00:00:00"
         ],
         "xaxis": "x",
         "y": [
          233.29,
          233.42
         ],
         "yaxis": "y"
        },
        {
         "hoverinfo": "none",
         "line": {
          "color": "green",
          "width": 3
         },
         "mode": "lines",
         "showlegend": false,
         "type": "scatter",
         "x": [
          "2023-05-15T00:00:00",
          "2023-05-16T00:00:00"
         ],
         "xaxis": "x",
         "y": [
          233.42,
          233.54
         ],
         "yaxis": "y"
        },
        {
         "hoverinfo": "none",
         "line": {
          "color": "green",
          "width": 3
         },
         "mode": "lines",
         "showlegend": false,
         "type": "scatter",
         "x": [
          "2023-05-16T00:00:00",
          "2023-05-17T00:00:00"
         ],
         "xaxis": "x",
         "y": [
          233.54,
          233.67
         ],
         "yaxis": "y"
        },
        {
         "hoverinfo": "none",
         "line": {
          "color": "green",
          "width": 3
         },
         "mode": "lines",
         "showlegend": false,
         "type": "scatter",
         "x": [
          "2023-05-17T00:00:00",
          "2023-05-18T00:00:00"
         ],
         "xaxis": "x",
         "y": [
          233.67,
          233.79
         ],
         "yaxis": "y"
        },
        {
         "hoverinfo": "none",
         "line": {
          "color": "green",
          "width": 3
         },
         "mode": "lines",
         "showlegend": false,
         "type": "scatter",
         "x": [
          "2023-05-18T00:00:00",
          "2023-05-19T00:00:00"
         ],
         "xaxis": "x",
         "y": [
          233.79,
          233.92
         ],
         "yaxis": "y"
        },
        {
         "hoverinfo": "none",
         "line": {
          "color": "green",
          "width": 3
         },
         "mode": "lines",
         "showlegend": false,
         "type": "scatter",
         "x": [
          "2023-05-19T00:00:00",
          "2023-05-20T00:00:00"
         ],
         "xaxis": "x",
         "y": [
          233.92,
          234.17
         ],
         "yaxis": "y"
        },
        {
         "hoverinfo": "none",
         "line": {
          "color": "green",
          "width": 3
         },
         "mode": "lines",
         "showlegend": false,
         "type": "scatter",
         "x": [
          "2023-05-20T00:00:00",
          "2023-05-21T00:00:00"
         ],
         "xaxis": "x",
         "y": [
          234.17,
          234.31
         ],
         "yaxis": "y"
        },
        {
         "hoverinfo": "none",
         "line": {
          "color": "green",
          "width": 3
         },
         "mode": "lines",
         "showlegend": false,
         "type": "scatter",
         "x": [
          "2023-05-21T00:00:00",
          "2023-05-22T00:00:00"
         ],
         "xaxis": "x",
         "y": [
          234.31,
          234.43
         ],
         "yaxis": "y"
        },
        {
         "hoverinfo": "none",
         "line": {
          "color": "green",
          "width": 3
         },
         "mode": "lines",
         "showlegend": false,
         "type": "scatter",
         "x": [
          "2023-05-22T00:00:00",
          "2023-05-23T00:00:00"
         ],
         "xaxis": "x",
         "y": [
          234.43,
          234.56
         ],
         "yaxis": "y"
        },
        {
         "hoverinfo": "none",
         "line": {
          "color": "green",
          "width": 3
         },
         "mode": "lines",
         "showlegend": false,
         "type": "scatter",
         "x": [
          "2023-05-23T00:00:00",
          "2023-05-24T00:00:00"
         ],
         "xaxis": "x",
         "y": [
          234.56,
          234.8
         ],
         "yaxis": "y"
        },
        {
         "hoverinfo": "none",
         "line": {
          "color": "green",
          "width": 3
         },
         "mode": "lines",
         "showlegend": false,
         "type": "scatter",
         "x": [
          "2023-05-24T00:00:00",
          "2023-05-25T00:00:00"
         ],
         "xaxis": "x",
         "y": [
          234.8,
          235.04
         ],
         "yaxis": "y"
        },
        {
         "hoverinfo": "none",
         "line": {
          "color": "green",
          "width": 3
         },
         "mode": "lines",
         "showlegend": false,
         "type": "scatter",
         "x": [
          "2023-05-25T00:00:00",
          "2023-05-26T00:00:00"
         ],
         "xaxis": "x",
         "y": [
          235.04,
          235.29
         ],
         "yaxis": "y"
        },
        {
         "hoverinfo": "none",
         "line": {
          "color": "green",
          "width": 3
         },
         "mode": "lines",
         "showlegend": false,
         "type": "scatter",
         "x": [
          "2023-05-26T00:00:00",
          "2023-05-27T00:00:00"
         ],
         "xaxis": "x",
         "y": [
          235.29,
          235.53
         ],
         "yaxis": "y"
        },
        {
         "hoverinfo": "none",
         "line": {
          "color": "green",
          "width": 3
         },
         "mode": "lines",
         "showlegend": false,
         "type": "scatter",
         "x": [
          "2023-05-27T00:00:00",
          "2023-05-28T00:00:00"
         ],
         "xaxis": "x",
         "y": [
          235.53,
          235.66
         ],
         "yaxis": "y"
        },
        {
         "hoverinfo": "none",
         "line": {
          "color": "green",
          "width": 3
         },
         "mode": "lines",
         "showlegend": false,
         "type": "scatter",
         "x": [
          "2023-05-28T00:00:00",
          "2023-05-29T00:00:00"
         ],
         "xaxis": "x",
         "y": [
          235.66,
          235.78
         ],
         "yaxis": "y"
        },
        {
         "hoverinfo": "none",
         "line": {
          "color": "green",
          "width": 3
         },
         "mode": "lines",
         "showlegend": false,
         "type": "scatter",
         "x": [
          "2023-05-29T00:00:00",
          "2023-05-30T00:00:00"
         ],
         "xaxis": "x",
         "y": [
          235.78,
          235.91
         ],
         "yaxis": "y"
        },
        {
         "hoverinfo": "none",
         "line": {
          "color": "green",
          "width": 3
         },
         "mode": "lines",
         "showlegend": false,
         "type": "scatter",
         "x": [
          "2023-05-30T00:00:00",
          "2023-05-31T00:00:00"
         ],
         "xaxis": "x",
         "y": [
          235.91,
          236.04
         ],
         "yaxis": "y"
        },
        {
         "hoverinfo": "none",
         "line": {
          "color": "green",
          "width": 3
         },
         "mode": "lines",
         "showlegend": false,
         "type": "scatter",
         "x": [
          "2023-05-31T00:00:00",
          "2023-06-01T00:00:00"
         ],
         "xaxis": "x",
         "y": [
          236.04,
          236.04
         ],
         "yaxis": "y"
        },
        {
         "hoverinfo": "none",
         "line": {
          "color": "green",
          "width": 3
         },
         "mode": "lines",
         "showlegend": false,
         "type": "scatter",
         "x": [
          "2023-06-01T00:00:00",
          "2023-06-02T00:00:00"
         ],
         "xaxis": "x",
         "y": [
          236.04,
          236.05
         ],
         "yaxis": "y"
        },
        {
         "hoverinfo": "none",
         "line": {
          "color": "green",
          "width": 3
         },
         "mode": "lines",
         "showlegend": false,
         "type": "scatter",
         "x": [
          "2023-06-02T00:00:00",
          "2023-06-03T00:00:00"
         ],
         "xaxis": "x",
         "y": [
          236.05,
          236.06
         ],
         "yaxis": "y"
        },
        {
         "hoverinfo": "none",
         "line": {
          "color": "green",
          "width": 3
         },
         "mode": "lines",
         "showlegend": false,
         "type": "scatter",
         "x": [
          "2023-06-03T00:00:00",
          "2023-06-04T00:00:00"
         ],
         "xaxis": "x",
         "y": [
          236.06,
          236.06
         ],
         "yaxis": "y"
        },
        {
         "hoverinfo": "none",
         "line": {
          "color": "green",
          "width": 3
         },
         "mode": "lines",
         "showlegend": false,
         "type": "scatter",
         "x": [
          "2023-06-04T00:00:00",
          "2023-06-05T00:00:00"
         ],
         "xaxis": "x",
         "y": [
          236.06,
          236.06
         ],
         "yaxis": "y"
        },
        {
         "hoverinfo": "none",
         "line": {
          "color": "green",
          "width": 3
         },
         "mode": "lines",
         "showlegend": false,
         "type": "scatter",
         "x": [
          "2023-06-05T00:00:00",
          "2023-06-06T00:00:00"
         ],
         "xaxis": "x",
         "y": [
          236.06,
          236.06
         ],
         "yaxis": "y"
        },
        {
         "hoverinfo": "none",
         "line": {
          "color": "red",
          "width": 3
         },
         "mode": "lines",
         "showlegend": false,
         "type": "scatter",
         "x": [
          "2023-06-06T00:00:00",
          "2023-06-07T00:00:00"
         ],
         "xaxis": "x",
         "y": [
          236.06,
          236.04
         ],
         "yaxis": "y"
        },
        {
         "hoverinfo": "none",
         "line": {
          "color": "green",
          "width": 3
         },
         "mode": "lines",
         "showlegend": false,
         "type": "scatter",
         "x": [
          "2023-06-07T00:00:00",
          "2023-06-08T00:00:00"
         ],
         "xaxis": "x",
         "y": [
          236.04,
          236.04
         ],
         "yaxis": "y"
        },
        {
         "hoverinfo": "none",
         "line": {
          "color": "green",
          "width": 3
         },
         "mode": "lines",
         "showlegend": false,
         "type": "scatter",
         "x": [
          "2023-06-08T00:00:00",
          "2023-06-09T00:00:00"
         ],
         "xaxis": "x",
         "y": [
          236.04,
          236.04
         ],
         "yaxis": "y"
        },
        {
         "hoverinfo": "none",
         "line": {
          "color": "red",
          "width": 3
         },
         "mode": "lines",
         "showlegend": false,
         "type": "scatter",
         "x": [
          "2023-06-09T00:00:00",
          "2023-06-10T00:00:00"
         ],
         "xaxis": "x",
         "y": [
          236.04,
          236.03
         ],
         "yaxis": "y"
        },
        {
         "hoverinfo": "none",
         "line": {
          "color": "red",
          "width": 3
         },
         "mode": "lines",
         "showlegend": false,
         "type": "scatter",
         "x": [
          "2023-06-10T00:00:00",
          "2023-06-11T00:00:00"
         ],
         "xaxis": "x",
         "y": [
          236.03,
          236.02
         ],
         "yaxis": "y"
        },
        {
         "hoverinfo": "none",
         "line": {
          "color": "green",
          "width": 3
         },
         "mode": "lines",
         "showlegend": false,
         "type": "scatter",
         "x": [
          "2023-06-11T00:00:00",
          "2023-06-12T00:00:00"
         ],
         "xaxis": "x",
         "y": [
          236.02,
          236.02
         ],
         "yaxis": "y"
        },
        {
         "hoverinfo": "none",
         "line": {
          "color": "green",
          "width": 3
         },
         "mode": "lines",
         "showlegend": false,
         "type": "scatter",
         "x": [
          "2023-06-12T00:00:00",
          "2023-06-13T00:00:00"
         ],
         "xaxis": "x",
         "y": [
          236.02,
          236.02
         ],
         "yaxis": "y"
        },
        {
         "hoverinfo": "none",
         "line": {
          "color": "red",
          "width": 3
         },
         "mode": "lines",
         "showlegend": false,
         "type": "scatter",
         "x": [
          "2023-06-13T00:00:00",
          "2023-06-14T00:00:00"
         ],
         "xaxis": "x",
         "y": [
          236.02,
          236.01
         ],
         "yaxis": "y"
        },
        {
         "hoverinfo": "none",
         "line": {
          "color": "green",
          "width": 3
         },
         "mode": "lines",
         "showlegend": false,
         "type": "scatter",
         "x": [
          "2023-06-14T00:00:00",
          "2023-06-15T00:00:00"
         ],
         "xaxis": "x",
         "y": [
          236.01,
          236.01
         ],
         "yaxis": "y"
        },
        {
         "hoverinfo": "none",
         "line": {
          "color": "green",
          "width": 3
         },
         "mode": "lines",
         "showlegend": false,
         "type": "scatter",
         "x": [
          "2023-06-15T00:00:00",
          "2023-06-16T00:00:00"
         ],
         "xaxis": "x",
         "y": [
          236.01,
          236.01
         ],
         "yaxis": "y"
        },
        {
         "hoverinfo": "none",
         "line": {
          "color": "green",
          "width": 3
         },
         "mode": "lines",
         "showlegend": false,
         "type": "scatter",
         "x": [
          "2023-06-16T00:00:00",
          "2023-06-17T00:00:00"
         ],
         "xaxis": "x",
         "y": [
          236.01,
          236.01
         ],
         "yaxis": "y"
        },
        {
         "hoverinfo": "none",
         "line": {
          "color": "green",
          "width": 3
         },
         "mode": "lines",
         "showlegend": false,
         "type": "scatter",
         "x": [
          "2023-06-17T00:00:00",
          "2023-06-18T00:00:00"
         ],
         "xaxis": "x",
         "y": [
          236.01,
          236.01
         ],
         "yaxis": "y"
        },
        {
         "hoverinfo": "none",
         "line": {
          "color": "green",
          "width": 3
         },
         "mode": "lines",
         "showlegend": false,
         "type": "scatter",
         "x": [
          "2023-06-18T00:00:00",
          "2023-06-19T00:00:00"
         ],
         "xaxis": "x",
         "y": [
          236.01,
          236.02
         ],
         "yaxis": "y"
        },
        {
         "hoverinfo": "none",
         "line": {
          "color": "green",
          "width": 3
         },
         "mode": "lines",
         "showlegend": false,
         "type": "scatter",
         "x": [
          "2023-06-19T00:00:00",
          "2023-06-20T00:00:00"
         ],
         "xaxis": "x",
         "y": [
          236.02,
          236.02
         ],
         "yaxis": "y"
        },
        {
         "hoverinfo": "none",
         "line": {
          "color": "green",
          "width": 3
         },
         "mode": "lines",
         "showlegend": false,
         "type": "scatter",
         "x": [
          "2023-06-20T00:00:00",
          "2023-06-21T00:00:00"
         ],
         "xaxis": "x",
         "y": [
          236.02,
          236.02
         ],
         "yaxis": "y"
        },
        {
         "hoverinfo": "none",
         "line": {
          "color": "green",
          "width": 3
         },
         "mode": "lines",
         "showlegend": false,
         "type": "scatter",
         "x": [
          "2023-06-21T00:00:00",
          "2023-06-22T00:00:00"
         ],
         "xaxis": "x",
         "y": [
          236.02,
          236.02
         ],
         "yaxis": "y"
        },
        {
         "hoverinfo": "none",
         "line": {
          "color": "green",
          "width": 3
         },
         "mode": "lines",
         "showlegend": false,
         "type": "scatter",
         "x": [
          "2023-06-22T00:00:00",
          "2023-06-23T00:00:00"
         ],
         "xaxis": "x",
         "y": [
          236.02,
          236.15
         ],
         "yaxis": "y"
        },
        {
         "hoverinfo": "none",
         "line": {
          "color": "green",
          "width": 3
         },
         "mode": "lines",
         "showlegend": false,
         "type": "scatter",
         "x": [
          "2023-06-23T00:00:00",
          "2023-06-24T00:00:00"
         ],
         "xaxis": "x",
         "y": [
          236.15,
          236.27
         ],
         "yaxis": "y"
        },
        {
         "hoverinfo": "none",
         "line": {
          "color": "green",
          "width": 3
         },
         "mode": "lines",
         "showlegend": false,
         "type": "scatter",
         "x": [
          "2023-06-24T00:00:00",
          "2023-06-25T00:00:00"
         ],
         "xaxis": "x",
         "y": [
          236.27,
          236.27
         ],
         "yaxis": "y"
        },
        {
         "hoverinfo": "none",
         "line": {
          "color": "green",
          "width": 3
         },
         "mode": "lines",
         "showlegend": false,
         "type": "scatter",
         "x": [
          "2023-06-25T00:00:00",
          "2023-06-26T00:00:00"
         ],
         "xaxis": "x",
         "y": [
          236.27,
          236.4
         ],
         "yaxis": "y"
        },
        {
         "hoverinfo": "none",
         "line": {
          "color": "green",
          "width": 3
         },
         "mode": "lines",
         "showlegend": false,
         "type": "scatter",
         "x": [
          "2023-06-26T00:00:00",
          "2023-06-27T00:00:00"
         ],
         "xaxis": "x",
         "y": [
          236.4,
          236.52
         ],
         "yaxis": "y"
        },
        {
         "hoverinfo": "none",
         "line": {
          "color": "green",
          "width": 3
         },
         "mode": "lines",
         "showlegend": false,
         "type": "scatter",
         "x": [
          "2023-06-27T00:00:00",
          "2023-06-28T00:00:00"
         ],
         "xaxis": "x",
         "y": [
          236.52,
          236.64
         ],
         "yaxis": "y"
        },
        {
         "hoverinfo": "none",
         "line": {
          "color": "green",
          "width": 3
         },
         "mode": "lines",
         "showlegend": false,
         "type": "scatter",
         "x": [
          "2023-06-28T00:00:00",
          "2023-06-29T00:00:00"
         ],
         "xaxis": "x",
         "y": [
          236.64,
          236.77
         ],
         "yaxis": "y"
        },
        {
         "hoverinfo": "none",
         "line": {
          "color": "green",
          "width": 3
         },
         "mode": "lines",
         "showlegend": false,
         "type": "scatter",
         "x": [
          "2023-06-29T00:00:00",
          "2023-06-30T00:00:00"
         ],
         "xaxis": "x",
         "y": [
          236.77,
          236.77
         ],
         "yaxis": "y"
        },
        {
         "hoverinfo": "none",
         "line": {
          "color": "green",
          "width": 3
         },
         "mode": "lines",
         "showlegend": false,
         "type": "scatter",
         "x": [
          "2023-06-30T00:00:00",
          "2023-07-01T00:00:00"
         ],
         "xaxis": "x",
         "y": [
          236.77,
          236.77
         ],
         "yaxis": "y"
        },
        {
         "hoverinfo": "none",
         "line": {
          "color": "green",
          "width": 3
         },
         "mode": "lines",
         "showlegend": false,
         "type": "scatter",
         "x": [
          "2023-07-01T00:00:00",
          "2023-07-02T00:00:00"
         ],
         "xaxis": "x",
         "y": [
          236.77,
          236.77
         ],
         "yaxis": "y"
        },
        {
         "hoverinfo": "none",
         "line": {
          "color": "green",
          "width": 3
         },
         "mode": "lines",
         "showlegend": false,
         "type": "scatter",
         "x": [
          "2023-07-02T00:00:00",
          "2023-07-03T00:00:00"
         ],
         "xaxis": "x",
         "y": [
          236.77,
          236.88
         ],
         "yaxis": "y"
        },
        {
         "hoverinfo": "none",
         "line": {
          "color": "green",
          "width": 3
         },
         "mode": "lines",
         "showlegend": false,
         "type": "scatter",
         "x": [
          "2023-07-03T00:00:00",
          "2023-07-04T00:00:00"
         ],
         "xaxis": "x",
         "y": [
          236.88,
          236.89
         ],
         "yaxis": "y"
        },
        {
         "hoverinfo": "none",
         "line": {
          "color": "green",
          "width": 3
         },
         "mode": "lines",
         "showlegend": false,
         "type": "scatter",
         "x": [
          "2023-07-04T00:00:00",
          "2023-07-05T00:00:00"
         ],
         "xaxis": "x",
         "y": [
          236.89,
          237.02
         ],
         "yaxis": "y"
        },
        {
         "hoverinfo": "none",
         "line": {
          "color": "green",
          "width": 3
         },
         "mode": "lines",
         "showlegend": false,
         "type": "scatter",
         "x": [
          "2023-07-05T00:00:00",
          "2023-07-06T00:00:00"
         ],
         "xaxis": "x",
         "y": [
          237.02,
          237.19
         ],
         "yaxis": "y"
        },
        {
         "hoverinfo": "none",
         "line": {
          "color": "green",
          "width": 3
         },
         "mode": "lines",
         "showlegend": false,
         "type": "scatter",
         "x": [
          "2023-07-06T00:00:00",
          "2023-07-07T00:00:00"
         ],
         "xaxis": "x",
         "y": [
          237.19,
          237.44
         ],
         "yaxis": "y"
        },
        {
         "hoverinfo": "none",
         "line": {
          "color": "green",
          "width": 3
         },
         "mode": "lines",
         "showlegend": false,
         "type": "scatter",
         "x": [
          "2023-07-07T00:00:00",
          "2023-07-08T00:00:00"
         ],
         "xaxis": "x",
         "y": [
          237.44,
          237.82
         ],
         "yaxis": "y"
        },
        {
         "hoverinfo": "none",
         "line": {
          "color": "green",
          "width": 3
         },
         "mode": "lines",
         "showlegend": false,
         "type": "scatter",
         "x": [
          "2023-07-08T00:00:00",
          "2023-07-09T00:00:00"
         ],
         "xaxis": "x",
         "y": [
          237.82,
          238.07
         ],
         "yaxis": "y"
        },
        {
         "hoverinfo": "none",
         "line": {
          "color": "green",
          "width": 3
         },
         "mode": "lines",
         "showlegend": false,
         "type": "scatter",
         "x": [
          "2023-07-09T00:00:00",
          "2023-07-10T00:00:00"
         ],
         "xaxis": "x",
         "y": [
          238.07,
          238.33
         ],
         "yaxis": "y"
        },
        {
         "hoverinfo": "none",
         "line": {
          "color": "green",
          "width": 3
         },
         "mode": "lines",
         "showlegend": false,
         "type": "scatter",
         "x": [
          "2023-07-10T00:00:00",
          "2023-07-11T00:00:00"
         ],
         "xaxis": "x",
         "y": [
          238.33,
          238.58
         ],
         "yaxis": "y"
        },
        {
         "hoverinfo": "none",
         "line": {
          "color": "green",
          "width": 3
         },
         "mode": "lines",
         "showlegend": false,
         "type": "scatter",
         "x": [
          "2023-07-11T00:00:00",
          "2023-07-12T00:00:00"
         ],
         "xaxis": "x",
         "y": [
          238.58,
          238.84
         ],
         "yaxis": "y"
        },
        {
         "hoverinfo": "none",
         "line": {
          "color": "green",
          "width": 3
         },
         "mode": "lines",
         "showlegend": false,
         "type": "scatter",
         "x": [
          "2023-07-12T00:00:00",
          "2023-07-13T00:00:00"
         ],
         "xaxis": "x",
         "y": [
          238.84,
          239.1
         ],
         "yaxis": "y"
        },
        {
         "hoverinfo": "none",
         "line": {
          "color": "green",
          "width": 3
         },
         "mode": "lines",
         "showlegend": false,
         "type": "scatter",
         "x": [
          "2023-07-13T00:00:00",
          "2023-07-14T00:00:00"
         ],
         "xaxis": "x",
         "y": [
          239.1,
          239.29
         ],
         "yaxis": "y"
        },
        {
         "hoverinfo": "none",
         "line": {
          "color": "green",
          "width": 3
         },
         "mode": "lines",
         "showlegend": false,
         "type": "scatter",
         "x": [
          "2023-07-14T00:00:00",
          "2023-07-15T00:00:00"
         ],
         "xaxis": "x",
         "y": [
          239.29,
          239.43
         ],
         "yaxis": "y"
        },
        {
         "hoverinfo": "none",
         "line": {
          "color": "green",
          "width": 3
         },
         "mode": "lines",
         "showlegend": false,
         "type": "scatter",
         "x": [
          "2023-07-15T00:00:00",
          "2023-07-16T00:00:00"
         ],
         "xaxis": "x",
         "y": [
          239.43,
          239.57
         ],
         "yaxis": "y"
        },
        {
         "hoverinfo": "none",
         "line": {
          "color": "green",
          "width": 3
         },
         "mode": "lines",
         "showlegend": false,
         "type": "scatter",
         "x": [
          "2023-07-16T00:00:00",
          "2023-07-17T00:00:00"
         ],
         "xaxis": "x",
         "y": [
          239.57,
          239.7
         ],
         "yaxis": "y"
        },
        {
         "hoverinfo": "none",
         "line": {
          "color": "green",
          "width": 3
         },
         "mode": "lines",
         "showlegend": false,
         "type": "scatter",
         "x": [
          "2023-07-17T00:00:00",
          "2023-07-18T00:00:00"
         ],
         "xaxis": "x",
         "y": [
          239.7,
          239.83
         ],
         "yaxis": "y"
        },
        {
         "hoverinfo": "none",
         "line": {
          "color": "green",
          "width": 3
         },
         "mode": "lines",
         "showlegend": false,
         "type": "scatter",
         "x": [
          "2023-07-18T00:00:00",
          "2023-07-19T00:00:00"
         ],
         "xaxis": "x",
         "y": [
          239.83,
          239.96
         ],
         "yaxis": "y"
        },
        {
         "hoverinfo": "none",
         "line": {
          "color": "green",
          "width": 3
         },
         "mode": "lines",
         "showlegend": false,
         "type": "scatter",
         "x": [
          "2023-07-19T00:00:00",
          "2023-07-20T00:00:00"
         ],
         "xaxis": "x",
         "y": [
          239.96,
          240.09
         ],
         "yaxis": "y"
        },
        {
         "hoverinfo": "none",
         "line": {
          "color": "green",
          "width": 3
         },
         "mode": "lines",
         "showlegend": false,
         "type": "scatter",
         "x": [
          "2023-07-20T00:00:00",
          "2023-07-21T00:00:00"
         ],
         "xaxis": "x",
         "y": [
          240.09,
          240.09
         ],
         "yaxis": "y"
        },
        {
         "hoverinfo": "none",
         "line": {
          "color": "green",
          "width": 3
         },
         "mode": "lines",
         "showlegend": false,
         "type": "scatter",
         "x": [
          "2023-07-21T00:00:00",
          "2023-07-22T00:00:00"
         ],
         "xaxis": "x",
         "y": [
          240.09,
          240.1
         ],
         "yaxis": "y"
        },
        {
         "hoverinfo": "none",
         "line": {
          "color": "red",
          "width": 3
         },
         "mode": "lines",
         "showlegend": false,
         "type": "scatter",
         "x": [
          "2023-07-22T00:00:00",
          "2023-07-23T00:00:00"
         ],
         "xaxis": "x",
         "y": [
          240.1,
          240.09
         ],
         "yaxis": "y"
        },
        {
         "hoverinfo": "none",
         "line": {
          "color": "red",
          "width": 3
         },
         "mode": "lines",
         "showlegend": false,
         "type": "scatter",
         "x": [
          "2023-07-23T00:00:00",
          "2023-07-24T00:00:00"
         ],
         "xaxis": "x",
         "y": [
          240.09,
          240.08
         ],
         "yaxis": "y"
        },
        {
         "hoverinfo": "none",
         "line": {
          "color": "green",
          "width": 3
         },
         "mode": "lines",
         "showlegend": false,
         "type": "scatter",
         "x": [
          "2023-07-24T00:00:00",
          "2023-07-25T00:00:00"
         ],
         "xaxis": "x",
         "y": [
          240.08,
          240.08
         ],
         "yaxis": "y"
        },
        {
         "hoverinfo": "none",
         "line": {
          "color": "red",
          "width": 3
         },
         "mode": "lines",
         "showlegend": false,
         "type": "scatter",
         "x": [
          "2023-07-25T00:00:00",
          "2023-07-26T00:00:00"
         ],
         "xaxis": "x",
         "y": [
          240.08,
          240.07
         ],
         "yaxis": "y"
        },
        {
         "hoverinfo": "none",
         "line": {
          "color": "red",
          "width": 3
         },
         "mode": "lines",
         "showlegend": false,
         "type": "scatter",
         "x": [
          "2023-07-26T00:00:00",
          "2023-07-27T00:00:00"
         ],
         "xaxis": "x",
         "y": [
          240.07,
          240.06
         ],
         "yaxis": "y"
        },
        {
         "hoverinfo": "none",
         "line": {
          "color": "green",
          "width": 3
         },
         "mode": "lines",
         "showlegend": false,
         "type": "scatter",
         "x": [
          "2023-07-27T00:00:00",
          "2023-07-28T00:00:00"
         ],
         "xaxis": "x",
         "y": [
          240.06,
          240.06
         ],
         "yaxis": "y"
        },
        {
         "hoverinfo": "none",
         "line": {
          "color": "red",
          "width": 3
         },
         "mode": "lines",
         "showlegend": false,
         "type": "scatter",
         "x": [
          "2023-07-28T00:00:00",
          "2023-07-29T00:00:00"
         ],
         "xaxis": "x",
         "y": [
          240.06,
          240.05
         ],
         "yaxis": "y"
        },
        {
         "hoverinfo": "none",
         "line": {
          "color": "green",
          "width": 3
         },
         "mode": "lines",
         "showlegend": false,
         "type": "scatter",
         "x": [
          "2023-07-29T00:00:00",
          "2023-07-30T00:00:00"
         ],
         "xaxis": "x",
         "y": [
          240.05,
          240.17
         ],
         "yaxis": "y"
        },
        {
         "hoverinfo": "none",
         "line": {
          "color": "green",
          "width": 3
         },
         "mode": "lines",
         "showlegend": false,
         "type": "scatter",
         "x": [
          "2023-07-30T00:00:00",
          "2023-07-31T00:00:00"
         ],
         "xaxis": "x",
         "y": [
          240.17,
          240.29
         ],
         "yaxis": "y"
        },
        {
         "hoverinfo": "none",
         "line": {
          "color": "green",
          "width": 3
         },
         "mode": "lines",
         "showlegend": false,
         "type": "scatter",
         "x": [
          "2023-07-31T00:00:00",
          "2023-08-01T00:00:00"
         ],
         "xaxis": "x",
         "y": [
          240.29,
          240.43
         ],
         "yaxis": "y"
        },
        {
         "hoverinfo": "none",
         "line": {
          "color": "green",
          "width": 3
         },
         "mode": "lines",
         "showlegend": false,
         "type": "scatter",
         "x": [
          "2023-08-01T00:00:00",
          "2023-08-02T00:00:00"
         ],
         "xaxis": "x",
         "y": [
          240.43,
          240.54
         ],
         "yaxis": "y"
        },
        {
         "hoverinfo": "none",
         "line": {
          "color": "green",
          "width": 3
         },
         "mode": "lines",
         "showlegend": false,
         "type": "scatter",
         "x": [
          "2023-08-02T00:00:00",
          "2023-08-03T00:00:00"
         ],
         "xaxis": "x",
         "y": [
          240.54,
          240.67
         ],
         "yaxis": "y"
        },
        {
         "hoverinfo": "none",
         "line": {
          "color": "green",
          "width": 3
         },
         "mode": "lines",
         "showlegend": false,
         "type": "scatter",
         "x": [
          "2023-08-03T00:00:00",
          "2023-08-04T00:00:00"
         ],
         "xaxis": "x",
         "y": [
          240.67,
          240.79
         ],
         "yaxis": "y"
        },
        {
         "hoverinfo": "none",
         "line": {
          "color": "green",
          "width": 3
         },
         "mode": "lines",
         "showlegend": false,
         "type": "scatter",
         "x": [
          "2023-08-04T00:00:00",
          "2023-08-05T00:00:00"
         ],
         "xaxis": "x",
         "y": [
          240.79,
          240.91
         ],
         "yaxis": "y"
        },
        {
         "hoverinfo": "none",
         "line": {
          "color": "green",
          "width": 3
         },
         "mode": "lines",
         "showlegend": false,
         "type": "scatter",
         "x": [
          "2023-08-05T00:00:00",
          "2023-08-06T00:00:00"
         ],
         "xaxis": "x",
         "y": [
          240.91,
          241.03
         ],
         "yaxis": "y"
        },
        {
         "hoverinfo": "none",
         "line": {
          "color": "green",
          "width": 3
         },
         "mode": "lines",
         "showlegend": false,
         "type": "scatter",
         "x": [
          "2023-08-06T00:00:00",
          "2023-08-07T00:00:00"
         ],
         "xaxis": "x",
         "y": [
          241.03,
          241.14
         ],
         "yaxis": "y"
        },
        {
         "hoverinfo": "none",
         "line": {
          "color": "green",
          "width": 3
         },
         "mode": "lines",
         "showlegend": false,
         "type": "scatter",
         "x": [
          "2023-08-07T00:00:00",
          "2023-08-08T00:00:00"
         ],
         "xaxis": "x",
         "y": [
          241.14,
          241.26
         ],
         "yaxis": "y"
        },
        {
         "hoverinfo": "none",
         "line": {
          "color": "green",
          "width": 3
         },
         "mode": "lines",
         "showlegend": false,
         "type": "scatter",
         "x": [
          "2023-08-08T00:00:00",
          "2023-08-09T00:00:00"
         ],
         "xaxis": "x",
         "y": [
          241.26,
          241.36
         ],
         "yaxis": "y"
        },
        {
         "hoverinfo": "none",
         "line": {
          "color": "green",
          "width": 3
         },
         "mode": "lines",
         "showlegend": false,
         "type": "scatter",
         "x": [
          "2023-08-09T00:00:00",
          "2023-08-10T00:00:00"
         ],
         "xaxis": "x",
         "y": [
          241.36,
          241.48
         ],
         "yaxis": "y"
        },
        {
         "hoverinfo": "none",
         "line": {
          "color": "green",
          "width": 3
         },
         "mode": "lines",
         "showlegend": false,
         "type": "scatter",
         "x": [
          "2023-08-10T00:00:00",
          "2023-08-11T00:00:00"
         ],
         "xaxis": "x",
         "y": [
          241.48,
          241.7
         ],
         "yaxis": "y"
        },
        {
         "hoverinfo": "none",
         "line": {
          "color": "green",
          "width": 3
         },
         "mode": "lines",
         "showlegend": false,
         "type": "scatter",
         "x": [
          "2023-08-11T00:00:00",
          "2023-08-12T00:00:00"
         ],
         "xaxis": "x",
         "y": [
          241.7,
          241.93
         ],
         "yaxis": "y"
        },
        {
         "hoverinfo": "none",
         "line": {
          "color": "green",
          "width": 3
         },
         "mode": "lines",
         "showlegend": false,
         "type": "scatter",
         "x": [
          "2023-08-12T00:00:00",
          "2023-08-13T00:00:00"
         ],
         "xaxis": "x",
         "y": [
          241.93,
          242.16
         ],
         "yaxis": "y"
        },
        {
         "hoverinfo": "none",
         "line": {
          "color": "green",
          "width": 3
         },
         "mode": "lines",
         "showlegend": false,
         "type": "scatter",
         "x": [
          "2023-08-13T00:00:00",
          "2023-08-14T00:00:00"
         ],
         "xaxis": "x",
         "y": [
          242.16,
          242.28
         ],
         "yaxis": "y"
        },
        {
         "hoverinfo": "none",
         "line": {
          "color": "green",
          "width": 3
         },
         "mode": "lines",
         "showlegend": false,
         "type": "scatter",
         "x": [
          "2023-08-14T00:00:00",
          "2023-08-15T00:00:00"
         ],
         "xaxis": "x",
         "y": [
          242.28,
          242.38
         ],
         "yaxis": "y"
        },
        {
         "hoverinfo": "none",
         "line": {
          "color": "green",
          "width": 3
         },
         "mode": "lines",
         "showlegend": false,
         "type": "scatter",
         "x": [
          "2023-08-15T00:00:00",
          "2023-08-16T00:00:00"
         ],
         "xaxis": "x",
         "y": [
          242.38,
          242.49
         ],
         "yaxis": "y"
        },
        {
         "hoverinfo": "none",
         "line": {
          "color": "green",
          "width": 3
         },
         "mode": "lines",
         "showlegend": false,
         "type": "scatter",
         "x": [
          "2023-08-16T00:00:00",
          "2023-08-17T00:00:00"
         ],
         "xaxis": "x",
         "y": [
          242.49,
          242.61
         ],
         "yaxis": "y"
        },
        {
         "hoverinfo": "none",
         "line": {
          "color": "green",
          "width": 3
         },
         "mode": "lines",
         "showlegend": false,
         "type": "scatter",
         "x": [
          "2023-08-17T00:00:00",
          "2023-08-18T00:00:00"
         ],
         "xaxis": "x",
         "y": [
          242.61,
          242.85
         ],
         "yaxis": "y"
        },
        {
         "hoverinfo": "none",
         "line": {
          "color": "green",
          "width": 3
         },
         "mode": "lines",
         "showlegend": false,
         "type": "scatter",
         "x": [
          "2023-08-18T00:00:00",
          "2023-08-19T00:00:00"
         ],
         "xaxis": "x",
         "y": [
          242.85,
          242.97
         ],
         "yaxis": "y"
        },
        {
         "hoverinfo": "none",
         "line": {
          "color": "green",
          "width": 3
         },
         "mode": "lines",
         "showlegend": false,
         "type": "scatter",
         "x": [
          "2023-08-19T00:00:00",
          "2023-08-20T00:00:00"
         ],
         "xaxis": "x",
         "y": [
          242.97,
          242.97
         ],
         "yaxis": "y"
        },
        {
         "hoverinfo": "none",
         "line": {
          "color": "green",
          "width": 3
         },
         "mode": "lines",
         "showlegend": false,
         "type": "scatter",
         "x": [
          "2023-08-20T00:00:00",
          "2023-08-21T00:00:00"
         ],
         "xaxis": "x",
         "y": [
          242.97,
          243.09
         ],
         "yaxis": "y"
        },
        {
         "hoverinfo": "none",
         "line": {
          "color": "green",
          "width": 3
         },
         "mode": "lines",
         "showlegend": false,
         "type": "scatter",
         "x": [
          "2023-08-21T00:00:00",
          "2023-08-22T00:00:00"
         ],
         "xaxis": "x",
         "y": [
          243.09,
          243.34
         ],
         "yaxis": "y"
        },
        {
         "hoverinfo": "none",
         "line": {
          "color": "green",
          "width": 3
         },
         "mode": "lines",
         "showlegend": false,
         "type": "scatter",
         "x": [
          "2023-08-22T00:00:00",
          "2023-08-23T00:00:00"
         ],
         "xaxis": "x",
         "y": [
          243.34,
          243.47
         ],
         "yaxis": "y"
        },
        {
         "hoverinfo": "none",
         "line": {
          "color": "green",
          "width": 3
         },
         "mode": "lines",
         "showlegend": false,
         "type": "scatter",
         "x": [
          "2023-08-23T00:00:00",
          "2023-08-24T00:00:00"
         ],
         "xaxis": "x",
         "y": [
          243.47,
          243.6
         ],
         "yaxis": "y"
        },
        {
         "hoverinfo": "none",
         "line": {
          "color": "green",
          "width": 3
         },
         "mode": "lines",
         "showlegend": false,
         "type": "scatter",
         "x": [
          "2023-08-24T00:00:00",
          "2023-08-25T00:00:00"
         ],
         "xaxis": "x",
         "y": [
          243.6,
          243.73
         ],
         "yaxis": "y"
        },
        {
         "hoverinfo": "none",
         "line": {
          "color": "green",
          "width": 3
         },
         "mode": "lines",
         "showlegend": false,
         "type": "scatter",
         "x": [
          "2023-08-25T00:00:00",
          "2023-08-26T00:00:00"
         ],
         "xaxis": "x",
         "y": [
          243.73,
          243.74
         ],
         "yaxis": "y"
        },
        {
         "hoverinfo": "none",
         "line": {
          "color": "red",
          "width": 3
         },
         "mode": "lines",
         "showlegend": false,
         "type": "scatter",
         "x": [
          "2023-08-26T00:00:00",
          "2023-08-27T00:00:00"
         ],
         "xaxis": "x",
         "y": [
          243.74,
          243.63
         ],
         "yaxis": "y"
        },
        {
         "hoverinfo": "none",
         "line": {
          "color": "green",
          "width": 3
         },
         "mode": "lines",
         "showlegend": false,
         "type": "scatter",
         "x": [
          "2023-08-27T00:00:00",
          "2023-08-28T00:00:00"
         ],
         "xaxis": "x",
         "y": [
          243.63,
          243.64
         ],
         "yaxis": "y"
        },
        {
         "hoverinfo": "none",
         "line": {
          "color": "red",
          "width": 3
         },
         "mode": "lines",
         "showlegend": false,
         "type": "scatter",
         "x": [
          "2023-08-28T00:00:00",
          "2023-08-29T00:00:00"
         ],
         "xaxis": "x",
         "y": [
          243.64,
          243.52
         ],
         "yaxis": "y"
        },
        {
         "hoverinfo": "none",
         "line": {
          "color": "green",
          "width": 3
         },
         "mode": "lines",
         "showlegend": false,
         "type": "scatter",
         "x": [
          "2023-08-29T00:00:00",
          "2023-08-30T00:00:00"
         ],
         "xaxis": "x",
         "y": [
          243.52,
          243.52
         ],
         "yaxis": "y"
        },
        {
         "hoverinfo": "none",
         "line": {
          "color": "red",
          "width": 3
         },
         "mode": "lines",
         "showlegend": false,
         "type": "scatter",
         "x": [
          "2023-08-30T00:00:00",
          "2023-08-31T00:00:00"
         ],
         "xaxis": "x",
         "y": [
          243.52,
          243.39
         ],
         "yaxis": "y"
        },
        {
         "hoverinfo": "none",
         "line": {
          "color": "red",
          "width": 3
         },
         "mode": "lines",
         "showlegend": false,
         "type": "scatter",
         "x": [
          "2023-08-31T00:00:00",
          "2023-09-01T00:00:00"
         ],
         "xaxis": "x",
         "y": [
          243.39,
          243.38
         ],
         "yaxis": "y"
        },
        {
         "hoverinfo": "none",
         "line": {
          "color": "green",
          "width": 3
         },
         "mode": "lines",
         "showlegend": false,
         "type": "scatter",
         "x": [
          "2023-09-01T00:00:00",
          "2023-09-02T00:00:00"
         ],
         "xaxis": "x",
         "y": [
          243.38,
          243.38
         ],
         "yaxis": "y"
        },
        {
         "hoverinfo": "none",
         "line": {
          "color": "green",
          "width": 3
         },
         "mode": "lines",
         "showlegend": false,
         "type": "scatter",
         "x": [
          "2023-09-02T00:00:00",
          "2023-09-03T00:00:00"
         ],
         "xaxis": "x",
         "y": [
          243.38,
          243.38
         ],
         "yaxis": "y"
        },
        {
         "hoverinfo": "none",
         "line": {
          "color": "green",
          "width": 3
         },
         "mode": "lines",
         "showlegend": false,
         "type": "scatter",
         "x": [
          "2023-09-03T00:00:00",
          "2023-09-04T00:00:00"
         ],
         "xaxis": "x",
         "y": [
          243.38,
          243.5
         ],
         "yaxis": "y"
        },
        {
         "hoverinfo": "none",
         "line": {
          "color": "green",
          "width": 3
         },
         "mode": "lines",
         "showlegend": false,
         "type": "scatter",
         "x": [
          "2023-09-04T00:00:00",
          "2023-09-05T00:00:00"
         ],
         "xaxis": "x",
         "y": [
          243.5,
          243.62
         ],
         "yaxis": "y"
        },
        {
         "hoverinfo": "none",
         "line": {
          "color": "green",
          "width": 3
         },
         "mode": "lines",
         "showlegend": false,
         "type": "scatter",
         "x": [
          "2023-09-05T00:00:00",
          "2023-09-06T00:00:00"
         ],
         "xaxis": "x",
         "y": [
          243.62,
          243.74
         ],
         "yaxis": "y"
        },
        {
         "hoverinfo": "none",
         "line": {
          "color": "green",
          "width": 3
         },
         "mode": "lines",
         "showlegend": false,
         "type": "scatter",
         "x": [
          "2023-09-06T00:00:00",
          "2023-09-07T00:00:00"
         ],
         "xaxis": "x",
         "y": [
          243.74,
          243.74
         ],
         "yaxis": "y"
        },
        {
         "hoverinfo": "none",
         "line": {
          "color": "green",
          "width": 3
         },
         "mode": "lines",
         "showlegend": false,
         "type": "scatter",
         "x": [
          "2023-09-07T00:00:00",
          "2023-09-08T00:00:00"
         ],
         "xaxis": "x",
         "y": [
          243.74,
          243.86
         ],
         "yaxis": "y"
        },
        {
         "hoverinfo": "none",
         "line": {
          "color": "green",
          "width": 3
         },
         "mode": "lines",
         "showlegend": false,
         "type": "scatter",
         "x": [
          "2023-09-08T00:00:00",
          "2023-09-09T00:00:00"
         ],
         "xaxis": "x",
         "y": [
          243.86,
          243.86
         ],
         "yaxis": "y"
        },
        {
         "hoverinfo": "none",
         "line": {
          "color": "green",
          "width": 3
         },
         "mode": "lines",
         "showlegend": false,
         "type": "scatter",
         "x": [
          "2023-09-09T00:00:00",
          "2023-09-10T00:00:00"
         ],
         "xaxis": "x",
         "y": [
          243.86,
          243.86
         ],
         "yaxis": "y"
        },
        {
         "hoverinfo": "none",
         "line": {
          "color": "green",
          "width": 3
         },
         "mode": "lines",
         "showlegend": false,
         "type": "scatter",
         "x": [
          "2023-09-10T00:00:00",
          "2023-09-11T00:00:00"
         ],
         "xaxis": "x",
         "y": [
          243.86,
          243.86
         ],
         "yaxis": "y"
        },
        {
         "hoverinfo": "none",
         "line": {
          "color": "green",
          "width": 3
         },
         "mode": "lines",
         "showlegend": false,
         "type": "scatter",
         "x": [
          "2023-09-11T00:00:00",
          "2023-09-12T00:00:00"
         ],
         "xaxis": "x",
         "y": [
          243.86,
          243.86
         ],
         "yaxis": "y"
        },
        {
         "hoverinfo": "none",
         "line": {
          "color": "green",
          "width": 3
         },
         "mode": "lines",
         "showlegend": false,
         "type": "scatter",
         "x": [
          "2023-09-12T00:00:00",
          "2023-09-13T00:00:00"
         ],
         "xaxis": "x",
         "y": [
          243.86,
          243.86
         ],
         "yaxis": "y"
        },
        {
         "hoverinfo": "none",
         "line": {
          "color": "green",
          "width": 3
         },
         "mode": "lines",
         "showlegend": false,
         "type": "scatter",
         "x": [
          "2023-09-13T00:00:00",
          "2023-09-14T00:00:00"
         ],
         "xaxis": "x",
         "y": [
          243.86,
          243.86
         ],
         "yaxis": "y"
        },
        {
         "hoverinfo": "none",
         "line": {
          "color": "green",
          "width": 3
         },
         "mode": "lines",
         "showlegend": false,
         "type": "scatter",
         "x": [
          "2023-09-14T00:00:00",
          "2023-09-15T00:00:00"
         ],
         "xaxis": "x",
         "y": [
          243.86,
          243.86
         ],
         "yaxis": "y"
        },
        {
         "hoverinfo": "none",
         "line": {
          "color": "green",
          "width": 3
         },
         "mode": "lines",
         "showlegend": false,
         "type": "scatter",
         "x": [
          "2023-09-15T00:00:00",
          "2023-09-16T00:00:00"
         ],
         "xaxis": "x",
         "y": [
          243.86,
          243.86
         ],
         "yaxis": "y"
        },
        {
         "hoverinfo": "none",
         "line": {
          "color": "green",
          "width": 3
         },
         "mode": "lines",
         "showlegend": false,
         "type": "scatter",
         "x": [
          "2023-09-16T00:00:00",
          "2023-09-17T00:00:00"
         ],
         "xaxis": "x",
         "y": [
          243.86,
          243.86
         ],
         "yaxis": "y"
        },
        {
         "hoverinfo": "none",
         "line": {
          "color": "green",
          "width": 3
         },
         "mode": "lines",
         "showlegend": false,
         "type": "scatter",
         "x": [
          "2023-09-17T00:00:00",
          "2023-09-18T00:00:00"
         ],
         "xaxis": "x",
         "y": [
          243.86,
          243.86
         ],
         "yaxis": "y"
        },
        {
         "hoverinfo": "none",
         "line": {
          "color": "green",
          "width": 3
         },
         "mode": "lines",
         "showlegend": false,
         "type": "scatter",
         "x": [
          "2023-09-18T00:00:00",
          "2023-09-19T00:00:00"
         ],
         "xaxis": "x",
         "y": [
          243.86,
          243.86
         ],
         "yaxis": "y"
        },
        {
         "hoverinfo": "none",
         "line": {
          "color": "green",
          "width": 3
         },
         "mode": "lines",
         "showlegend": false,
         "type": "scatter",
         "x": [
          "2023-09-19T00:00:00",
          "2023-09-20T00:00:00"
         ],
         "xaxis": "x",
         "y": [
          243.86,
          243.98
         ],
         "yaxis": "y"
        },
        {
         "hoverinfo": "none",
         "line": {
          "color": "green",
          "width": 3
         },
         "mode": "lines",
         "showlegend": false,
         "type": "scatter",
         "x": [
          "2023-09-20T00:00:00",
          "2023-09-21T00:00:00"
         ],
         "xaxis": "x",
         "y": [
          243.98,
          244.09
         ],
         "yaxis": "y"
        },
        {
         "hoverinfo": "none",
         "line": {
          "color": "green",
          "width": 3
         },
         "mode": "lines",
         "showlegend": false,
         "type": "scatter",
         "x": [
          "2023-09-21T00:00:00",
          "2023-09-22T00:00:00"
         ],
         "xaxis": "x",
         "y": [
          244.09,
          244.32
         ],
         "yaxis": "y"
        },
        {
         "hoverinfo": "none",
         "line": {
          "color": "green",
          "width": 3
         },
         "mode": "lines",
         "showlegend": false,
         "type": "scatter",
         "x": [
          "2023-09-22T00:00:00",
          "2023-09-23T00:00:00"
         ],
         "xaxis": "x",
         "y": [
          244.32,
          244.56
         ],
         "yaxis": "y"
        },
        {
         "hoverinfo": "none",
         "line": {
          "color": "green",
          "width": 3
         },
         "mode": "lines",
         "showlegend": false,
         "type": "scatter",
         "x": [
          "2023-09-23T00:00:00",
          "2023-09-24T00:00:00"
         ],
         "xaxis": "x",
         "y": [
          244.56,
          244.8
         ],
         "yaxis": "y"
        },
        {
         "hoverinfo": "none",
         "line": {
          "color": "green",
          "width": 3
         },
         "mode": "lines",
         "showlegend": false,
         "type": "scatter",
         "x": [
          "2023-09-24T00:00:00",
          "2023-09-25T00:00:00"
         ],
         "xaxis": "x",
         "y": [
          244.8,
          244.92
         ],
         "yaxis": "y"
        },
        {
         "hoverinfo": "none",
         "line": {
          "color": "green",
          "width": 3
         },
         "mode": "lines",
         "showlegend": false,
         "type": "scatter",
         "x": [
          "2023-09-25T00:00:00",
          "2023-09-26T00:00:00"
         ],
         "xaxis": "x",
         "y": [
          244.92,
          245.03
         ],
         "yaxis": "y"
        },
        {
         "hoverinfo": "none",
         "line": {
          "color": "green",
          "width": 3
         },
         "mode": "lines",
         "showlegend": false,
         "type": "scatter",
         "x": [
          "2023-09-26T00:00:00",
          "2023-09-27T00:00:00"
         ],
         "xaxis": "x",
         "y": [
          245.03,
          245.26
         ],
         "yaxis": "y"
        },
        {
         "hoverinfo": "none",
         "line": {
          "color": "green",
          "width": 3
         },
         "mode": "lines",
         "showlegend": false,
         "type": "scatter",
         "x": [
          "2023-09-27T00:00:00",
          "2023-09-28T00:00:00"
         ],
         "xaxis": "x",
         "y": [
          245.26,
          245.38
         ],
         "yaxis": "y"
        },
        {
         "hoverinfo": "none",
         "line": {
          "color": "green",
          "width": 3
         },
         "mode": "lines",
         "showlegend": false,
         "type": "scatter",
         "x": [
          "2023-09-28T00:00:00",
          "2023-09-29T00:00:00"
         ],
         "xaxis": "x",
         "y": [
          245.38,
          245.51
         ],
         "yaxis": "y"
        },
        {
         "hoverinfo": "none",
         "line": {
          "color": "green",
          "width": 3
         },
         "mode": "lines",
         "showlegend": false,
         "type": "scatter",
         "x": [
          "2023-09-29T00:00:00",
          "2023-09-30T00:00:00"
         ],
         "xaxis": "x",
         "y": [
          245.51,
          245.53
         ],
         "yaxis": "y"
        },
        {
         "hoverinfo": "none",
         "line": {
          "color": "green",
          "width": 3
         },
         "mode": "lines",
         "showlegend": false,
         "type": "scatter",
         "x": [
          "2023-09-30T00:00:00",
          "2023-10-01T00:00:00"
         ],
         "xaxis": "x",
         "y": [
          245.53,
          245.53
         ],
         "yaxis": "y"
        },
        {
         "hoverinfo": "none",
         "line": {
          "color": "green",
          "width": 3
         },
         "mode": "lines",
         "showlegend": false,
         "type": "scatter",
         "x": [
          "2023-10-01T00:00:00",
          "2023-10-02T00:00:00"
         ],
         "xaxis": "x",
         "y": [
          245.53,
          245.54
         ],
         "yaxis": "y"
        },
        {
         "hoverinfo": "none",
         "line": {
          "color": "green",
          "width": 3
         },
         "mode": "lines",
         "showlegend": false,
         "type": "scatter",
         "x": [
          "2023-10-02T00:00:00",
          "2023-10-03T00:00:00"
         ],
         "xaxis": "x",
         "y": [
          245.54,
          245.66
         ],
         "yaxis": "y"
        },
        {
         "hoverinfo": "none",
         "line": {
          "color": "green",
          "width": 3
         },
         "mode": "lines",
         "showlegend": false,
         "type": "scatter",
         "x": [
          "2023-10-03T00:00:00",
          "2023-10-04T00:00:00"
         ],
         "xaxis": "x",
         "y": [
          245.66,
          245.78
         ],
         "yaxis": "y"
        },
        {
         "hoverinfo": "none",
         "line": {
          "color": "green",
          "width": 3
         },
         "mode": "lines",
         "showlegend": false,
         "type": "scatter",
         "x": [
          "2023-10-04T00:00:00",
          "2023-10-05T00:00:00"
         ],
         "xaxis": "x",
         "y": [
          245.78,
          245.78
         ],
         "yaxis": "y"
        },
        {
         "hoverinfo": "none",
         "line": {
          "color": "green",
          "width": 3
         },
         "mode": "lines",
         "showlegend": false,
         "type": "scatter",
         "x": [
          "2023-10-05T00:00:00",
          "2023-10-06T00:00:00"
         ],
         "xaxis": "x",
         "y": [
          245.78,
          245.91
         ],
         "yaxis": "y"
        },
        {
         "hoverinfo": "none",
         "line": {
          "color": "green",
          "width": 3
         },
         "mode": "lines",
         "showlegend": false,
         "type": "scatter",
         "x": [
          "2023-10-06T00:00:00",
          "2023-10-07T00:00:00"
         ],
         "xaxis": "x",
         "y": [
          245.91,
          245.91
         ],
         "yaxis": "y"
        },
        {
         "hoverinfo": "none",
         "line": {
          "color": "green",
          "width": 3
         },
         "mode": "lines",
         "showlegend": false,
         "type": "scatter",
         "x": [
          "2023-10-07T00:00:00",
          "2023-10-08T00:00:00"
         ],
         "xaxis": "x",
         "y": [
          245.91,
          245.91
         ],
         "yaxis": "y"
        },
        {
         "hoverinfo": "none",
         "line": {
          "color": "green",
          "width": 3
         },
         "mode": "lines",
         "showlegend": false,
         "type": "scatter",
         "x": [
          "2023-10-08T00:00:00",
          "2023-10-09T00:00:00"
         ],
         "xaxis": "x",
         "y": [
          245.91,
          245.91
         ],
         "yaxis": "y"
        },
        {
         "hoverinfo": "none",
         "line": {
          "color": "green",
          "width": 3
         },
         "mode": "lines",
         "showlegend": false,
         "type": "scatter",
         "x": [
          "2023-10-09T00:00:00",
          "2023-10-10T00:00:00"
         ],
         "xaxis": "x",
         "y": [
          245.91,
          245.91
         ],
         "yaxis": "y"
        },
        {
         "hoverinfo": "none",
         "line": {
          "color": "red",
          "width": 3
         },
         "mode": "lines",
         "showlegend": false,
         "type": "scatter",
         "x": [
          "2023-10-10T00:00:00",
          "2023-10-11T00:00:00"
         ],
         "xaxis": "x",
         "y": [
          245.91,
          245.79
         ],
         "yaxis": "y"
        },
        {
         "hoverinfo": "none",
         "line": {
          "color": "red",
          "width": 3
         },
         "mode": "lines",
         "showlegend": false,
         "type": "scatter",
         "x": [
          "2023-10-11T00:00:00",
          "2023-10-12T00:00:00"
         ],
         "xaxis": "x",
         "y": [
          245.79,
          245.68
         ],
         "yaxis": "y"
        },
        {
         "hoverinfo": "none",
         "line": {
          "color": "red",
          "width": 3
         },
         "mode": "lines",
         "showlegend": false,
         "type": "scatter",
         "x": [
          "2023-10-12T00:00:00",
          "2023-10-13T00:00:00"
         ],
         "xaxis": "x",
         "y": [
          245.68,
          245.56
         ],
         "yaxis": "y"
        },
        {
         "hoverinfo": "none",
         "line": {
          "color": "red",
          "width": 3
         },
         "mode": "lines",
         "showlegend": false,
         "type": "scatter",
         "x": [
          "2023-10-13T00:00:00",
          "2023-10-14T00:00:00"
         ],
         "xaxis": "x",
         "y": [
          245.56,
          245.45
         ],
         "yaxis": "y"
        },
        {
         "hoverinfo": "none",
         "line": {
          "color": "green",
          "width": 3
         },
         "mode": "lines",
         "showlegend": false,
         "type": "scatter",
         "x": [
          "2023-10-14T00:00:00",
          "2023-10-15T00:00:00"
         ],
         "xaxis": "x",
         "y": [
          245.45,
          245.46
         ],
         "yaxis": "y"
        },
        {
         "hoverinfo": "none",
         "line": {
          "color": "green",
          "width": 3
         },
         "mode": "lines",
         "showlegend": false,
         "type": "scatter",
         "x": [
          "2023-10-15T00:00:00",
          "2023-10-16T00:00:00"
         ],
         "xaxis": "x",
         "y": [
          245.46,
          245.48
         ],
         "yaxis": "y"
        },
        {
         "hoverinfo": "none",
         "line": {
          "color": "red",
          "width": 3
         },
         "mode": "lines",
         "showlegend": false,
         "type": "scatter",
         "x": [
          "2023-10-16T00:00:00",
          "2023-10-17T00:00:00"
         ],
         "xaxis": "x",
         "y": [
          245.48,
          245.25
         ],
         "yaxis": "y"
        },
        {
         "hoverinfo": "none",
         "line": {
          "color": "red",
          "width": 3
         },
         "mode": "lines",
         "showlegend": false,
         "type": "scatter",
         "x": [
          "2023-10-17T00:00:00",
          "2023-10-18T00:00:00"
         ],
         "xaxis": "x",
         "y": [
          245.25,
          245.14
         ],
         "yaxis": "y"
        },
        {
         "hoverinfo": "none",
         "line": {
          "color": "green",
          "width": 3
         },
         "mode": "lines",
         "showlegend": false,
         "type": "scatter",
         "x": [
          "2023-10-18T00:00:00",
          "2023-10-19T00:00:00"
         ],
         "xaxis": "x",
         "y": [
          245.14,
          245.15
         ],
         "yaxis": "y"
        },
        {
         "hoverinfo": "none",
         "line": {
          "color": "green",
          "width": 3
         },
         "mode": "lines",
         "showlegend": false,
         "type": "scatter",
         "x": [
          "2023-10-19T00:00:00",
          "2023-10-20T00:00:00"
         ],
         "xaxis": "x",
         "y": [
          245.15,
          245.28
         ],
         "yaxis": "y"
        },
        {
         "hoverinfo": "none",
         "line": {
          "color": "green",
          "width": 3
         },
         "mode": "lines",
         "showlegend": false,
         "type": "scatter",
         "x": [
          "2023-10-20T00:00:00",
          "2023-10-21T00:00:00"
         ],
         "xaxis": "x",
         "y": [
          245.28,
          245.4
         ],
         "yaxis": "y"
        },
        {
         "hoverinfo": "none",
         "line": {
          "color": "red",
          "width": 3
         },
         "mode": "lines",
         "showlegend": false,
         "type": "scatter",
         "x": [
          "2023-10-21T00:00:00",
          "2023-10-22T00:00:00"
         ],
         "xaxis": "x",
         "y": [
          245.4,
          245.17
         ],
         "yaxis": "y"
        },
        {
         "hoverinfo": "none",
         "line": {
          "color": "red",
          "width": 3
         },
         "mode": "lines",
         "showlegend": false,
         "type": "scatter",
         "x": [
          "2023-10-22T00:00:00",
          "2023-10-23T00:00:00"
         ],
         "xaxis": "x",
         "y": [
          245.17,
          244.93
         ],
         "yaxis": "y"
        },
        {
         "hoverinfo": "none",
         "line": {
          "color": "green",
          "width": 3
         },
         "mode": "lines",
         "showlegend": false,
         "type": "scatter",
         "x": [
          "2023-10-23T00:00:00",
          "2023-10-24T00:00:00"
         ],
         "xaxis": "x",
         "y": [
          244.93,
          244.93
         ],
         "yaxis": "y"
        },
        {
         "hoverinfo": "none",
         "line": {
          "color": "green",
          "width": 3
         },
         "mode": "lines",
         "showlegend": false,
         "type": "scatter",
         "x": [
          "2023-10-24T00:00:00",
          "2023-10-25T00:00:00"
         ],
         "xaxis": "x",
         "y": [
          244.93,
          245.17
         ],
         "yaxis": "y"
        },
        {
         "hoverinfo": "none",
         "line": {
          "color": "red",
          "width": 3
         },
         "mode": "lines",
         "showlegend": false,
         "type": "scatter",
         "x": [
          "2023-10-25T00:00:00",
          "2023-10-26T00:00:00"
         ],
         "xaxis": "x",
         "y": [
          245.17,
          245.05
         ],
         "yaxis": "y"
        },
        {
         "hoverinfo": "none",
         "line": {
          "color": "green",
          "width": 3
         },
         "mode": "lines",
         "showlegend": false,
         "type": "scatter",
         "x": [
          "2023-10-26T00:00:00",
          "2023-10-27T00:00:00"
         ],
         "xaxis": "x",
         "y": [
          245.05,
          245.06
         ],
         "yaxis": "y"
        },
        {
         "hoverinfo": "none",
         "line": {
          "color": "green",
          "width": 3
         },
         "mode": "lines",
         "showlegend": false,
         "type": "scatter",
         "x": [
          "2023-10-27T00:00:00",
          "2023-10-28T00:00:00"
         ],
         "xaxis": "x",
         "y": [
          245.06,
          245.06
         ],
         "yaxis": "y"
        },
        {
         "hoverinfo": "none",
         "line": {
          "color": "green",
          "width": 3
         },
         "mode": "lines",
         "showlegend": false,
         "type": "scatter",
         "x": [
          "2023-10-28T00:00:00",
          "2023-10-29T00:00:00"
         ],
         "xaxis": "x",
         "y": [
          245.06,
          245.07
         ],
         "yaxis": "y"
        },
        {
         "hoverinfo": "none",
         "line": {
          "color": "green",
          "width": 3
         },
         "mode": "lines",
         "showlegend": false,
         "type": "scatter",
         "x": [
          "2023-10-29T00:00:00",
          "2023-10-30T00:00:00"
         ],
         "xaxis": "x",
         "y": [
          245.07,
          245.31
         ],
         "yaxis": "y"
        },
        {
         "hoverinfo": "none",
         "line": {
          "color": "green",
          "width": 3
         },
         "mode": "lines",
         "showlegend": false,
         "type": "scatter",
         "x": [
          "2023-10-30T00:00:00",
          "2023-10-31T00:00:00"
         ],
         "xaxis": "x",
         "y": [
          245.31,
          245.54
         ],
         "yaxis": "y"
        },
        {
         "hoverinfo": "none",
         "line": {
          "color": "red",
          "width": 3
         },
         "mode": "lines",
         "showlegend": false,
         "type": "scatter",
         "x": [
          "2023-10-31T00:00:00",
          "2023-11-01T00:00:00"
         ],
         "xaxis": "x",
         "y": [
          245.54,
          245.43
         ],
         "yaxis": "y"
        },
        {
         "hoverinfo": "none",
         "line": {
          "color": "red",
          "width": 3
         },
         "mode": "lines",
         "showlegend": false,
         "type": "scatter",
         "x": [
          "2023-11-01T00:00:00",
          "2023-11-02T00:00:00"
         ],
         "xaxis": "x",
         "y": [
          245.43,
          245.31
         ],
         "yaxis": "y"
        },
        {
         "hoverinfo": "none",
         "line": {
          "color": "green",
          "width": 3
         },
         "mode": "lines",
         "showlegend": false,
         "type": "scatter",
         "x": [
          "2023-11-02T00:00:00",
          "2023-11-03T00:00:00"
         ],
         "xaxis": "x",
         "y": [
          245.31,
          245.54
         ],
         "yaxis": "y"
        },
        {
         "hoverinfo": "none",
         "line": {
          "color": "red",
          "width": 3
         },
         "mode": "lines",
         "showlegend": false,
         "type": "scatter",
         "x": [
          "2023-11-03T00:00:00",
          "2023-11-04T00:00:00"
         ],
         "xaxis": "x",
         "y": [
          245.54,
          245.42
         ],
         "yaxis": "y"
        },
        {
         "hoverinfo": "none",
         "line": {
          "color": "red",
          "width": 3
         },
         "mode": "lines",
         "showlegend": false,
         "type": "scatter",
         "x": [
          "2023-11-04T00:00:00",
          "2023-11-05T00:00:00"
         ],
         "xaxis": "x",
         "y": [
          245.42,
          245.41
         ],
         "yaxis": "y"
        },
        {
         "hoverinfo": "none",
         "line": {
          "color": "red",
          "width": 3
         },
         "mode": "lines",
         "showlegend": false,
         "type": "scatter",
         "x": [
          "2023-11-05T00:00:00",
          "2023-11-06T00:00:00"
         ],
         "xaxis": "x",
         "y": [
          245.41,
          245.4
         ],
         "yaxis": "y"
        },
        {
         "hoverinfo": "none",
         "line": {
          "color": "red",
          "width": 3
         },
         "mode": "lines",
         "showlegend": false,
         "type": "scatter",
         "x": [
          "2023-11-06T00:00:00",
          "2023-11-07T00:00:00"
         ],
         "xaxis": "x",
         "y": [
          245.4,
          245.39
         ],
         "yaxis": "y"
        },
        {
         "hoverinfo": "none",
         "line": {
          "color": "red",
          "width": 3
         },
         "mode": "lines",
         "showlegend": false,
         "type": "scatter",
         "x": [
          "2023-11-07T00:00:00",
          "2023-11-08T00:00:00"
         ],
         "xaxis": "x",
         "y": [
          245.39,
          245.38
         ],
         "yaxis": "y"
        },
        {
         "hoverinfo": "none",
         "line": {
          "color": "red",
          "width": 3
         },
         "mode": "lines",
         "showlegend": false,
         "type": "scatter",
         "x": [
          "2023-11-08T00:00:00",
          "2023-11-09T00:00:00"
         ],
         "xaxis": "x",
         "y": [
          245.38,
          245.36
         ],
         "yaxis": "y"
        },
        {
         "hoverinfo": "none",
         "line": {
          "color": "red",
          "width": 3
         },
         "mode": "lines",
         "showlegend": false,
         "type": "scatter",
         "x": [
          "2023-11-09T00:00:00",
          "2023-11-10T00:00:00"
         ],
         "xaxis": "x",
         "y": [
          245.36,
          245.23
         ],
         "yaxis": "y"
        },
        {
         "hoverinfo": "none",
         "line": {
          "color": "red",
          "width": 3
         },
         "mode": "lines",
         "showlegend": false,
         "type": "scatter",
         "x": [
          "2023-11-10T00:00:00",
          "2023-11-11T00:00:00"
         ],
         "xaxis": "x",
         "y": [
          245.23,
          245.03
         ],
         "yaxis": "y"
        },
        {
         "hoverinfo": "none",
         "line": {
          "color": "red",
          "width": 3
         },
         "mode": "lines",
         "showlegend": false,
         "type": "scatter",
         "x": [
          "2023-11-11T00:00:00",
          "2023-11-12T00:00:00"
         ],
         "xaxis": "x",
         "y": [
          245.03,
          245.02
         ],
         "yaxis": "y"
        },
        {
         "hoverinfo": "none",
         "line": {
          "color": "red",
          "width": 3
         },
         "mode": "lines",
         "showlegend": false,
         "type": "scatter",
         "x": [
          "2023-11-12T00:00:00",
          "2023-11-13T00:00:00"
         ],
         "xaxis": "x",
         "y": [
          245.02,
          244.77
         ],
         "yaxis": "y"
        },
        {
         "hoverinfo": "none",
         "line": {
          "color": "red",
          "width": 3
         },
         "mode": "lines",
         "showlegend": false,
         "type": "scatter",
         "x": [
          "2023-11-13T00:00:00",
          "2023-11-14T00:00:00"
         ],
         "xaxis": "x",
         "y": [
          244.77,
          244.52
         ],
         "yaxis": "y"
        },
        {
         "hoverinfo": "none",
         "line": {
          "color": "red",
          "width": 3
         },
         "mode": "lines",
         "showlegend": false,
         "type": "scatter",
         "x": [
          "2023-11-14T00:00:00",
          "2023-11-15T00:00:00"
         ],
         "xaxis": "x",
         "y": [
          244.52,
          244.39
         ],
         "yaxis": "y"
        },
        {
         "hoverinfo": "none",
         "line": {
          "color": "red",
          "width": 3
         },
         "mode": "lines",
         "showlegend": false,
         "type": "scatter",
         "x": [
          "2023-11-15T00:00:00",
          "2023-11-16T00:00:00"
         ],
         "xaxis": "x",
         "y": [
          244.39,
          244.25
         ],
         "yaxis": "y"
        },
        {
         "hoverinfo": "none",
         "line": {
          "color": "red",
          "width": 3
         },
         "mode": "lines",
         "showlegend": false,
         "type": "scatter",
         "x": [
          "2023-11-16T00:00:00",
          "2023-11-17T00:00:00"
         ],
         "xaxis": "x",
         "y": [
          244.25,
          244.12
         ],
         "yaxis": "y"
        },
        {
         "hoverinfo": "none",
         "line": {
          "color": "red",
          "width": 3
         },
         "mode": "lines",
         "showlegend": false,
         "type": "scatter",
         "x": [
          "2023-11-17T00:00:00",
          "2023-11-18T00:00:00"
         ],
         "xaxis": "x",
         "y": [
          244.12,
          244.11
         ],
         "yaxis": "y"
        },
        {
         "hoverinfo": "none",
         "line": {
          "color": "red",
          "width": 3
         },
         "mode": "lines",
         "showlegend": false,
         "type": "scatter",
         "x": [
          "2023-11-18T00:00:00",
          "2023-11-19T00:00:00"
         ],
         "xaxis": "x",
         "y": [
          244.11,
          244.04
         ],
         "yaxis": "y"
        },
        {
         "hoverinfo": "none",
         "line": {
          "color": "green",
          "width": 3
         },
         "mode": "lines",
         "showlegend": false,
         "type": "scatter",
         "x": [
          "2023-11-19T00:00:00",
          "2023-11-20T00:00:00"
         ],
         "xaxis": "x",
         "y": [
          244.04,
          244.16
         ],
         "yaxis": "y"
        },
        {
         "hoverinfo": "none",
         "line": {
          "color": "green",
          "width": 3
         },
         "mode": "lines",
         "showlegend": false,
         "type": "scatter",
         "x": [
          "2023-11-20T00:00:00",
          "2023-11-21T00:00:00"
         ],
         "xaxis": "x",
         "y": [
          244.16,
          244.27
         ],
         "yaxis": "y"
        },
        {
         "hoverinfo": "none",
         "line": {
          "color": "green",
          "width": 3
         },
         "mode": "lines",
         "showlegend": false,
         "type": "scatter",
         "x": [
          "2023-11-21T00:00:00",
          "2023-11-22T00:00:00"
         ],
         "xaxis": "x",
         "y": [
          244.27,
          244.27
         ],
         "yaxis": "y"
        },
        {
         "hoverinfo": "none",
         "line": {
          "color": "green",
          "width": 3
         },
         "mode": "lines",
         "showlegend": false,
         "type": "scatter",
         "x": [
          "2023-11-22T00:00:00",
          "2023-11-23T00:00:00"
         ],
         "xaxis": "x",
         "y": [
          244.27,
          244.27
         ],
         "yaxis": "y"
        },
        {
         "hoverinfo": "none",
         "line": {
          "color": "red",
          "width": 3
         },
         "mode": "lines",
         "showlegend": false,
         "type": "scatter",
         "x": [
          "2023-11-23T00:00:00",
          "2023-11-24T00:00:00"
         ],
         "xaxis": "x",
         "y": [
          244.27,
          244.16
         ],
         "yaxis": "y"
        },
        {
         "hoverinfo": "none",
         "line": {
          "color": "green",
          "width": 3
         },
         "mode": "lines",
         "showlegend": false,
         "type": "scatter",
         "x": [
          "2023-11-24T00:00:00",
          "2023-11-25T00:00:00"
         ],
         "xaxis": "x",
         "y": [
          244.16,
          244.16
         ],
         "yaxis": "y"
        },
        {
         "hoverinfo": "none",
         "line": {
          "color": "green",
          "width": 3
         },
         "mode": "lines",
         "showlegend": false,
         "type": "scatter",
         "x": [
          "2023-11-25T00:00:00",
          "2023-11-26T00:00:00"
         ],
         "xaxis": "x",
         "y": [
          244.16,
          244.28
         ],
         "yaxis": "y"
        },
        {
         "hoverinfo": "none",
         "line": {
          "color": "green",
          "width": 3
         },
         "mode": "lines",
         "showlegend": false,
         "type": "scatter",
         "x": [
          "2023-11-26T00:00:00",
          "2023-11-27T00:00:00"
         ],
         "xaxis": "x",
         "y": [
          244.28,
          244.39
         ],
         "yaxis": "y"
        },
        {
         "hoverinfo": "none",
         "line": {
          "color": "green",
          "width": 3
         },
         "mode": "lines",
         "showlegend": false,
         "type": "scatter",
         "x": [
          "2023-11-27T00:00:00",
          "2023-11-28T00:00:00"
         ],
         "xaxis": "x",
         "y": [
          244.39,
          244.39
         ],
         "yaxis": "y"
        },
        {
         "hoverinfo": "none",
         "line": {
          "color": "red",
          "width": 3
         },
         "mode": "lines",
         "showlegend": false,
         "type": "scatter",
         "x": [
          "2023-11-28T00:00:00",
          "2023-11-29T00:00:00"
         ],
         "xaxis": "x",
         "y": [
          244.39,
          244.28
         ],
         "yaxis": "y"
        },
        {
         "hoverinfo": "none",
         "line": {
          "color": "red",
          "width": 3
         },
         "mode": "lines",
         "showlegend": false,
         "type": "scatter",
         "x": [
          "2023-11-29T00:00:00",
          "2023-11-30T00:00:00"
         ],
         "xaxis": "x",
         "y": [
          244.28,
          244.27
         ],
         "yaxis": "y"
        },
        {
         "hoverinfo": "none",
         "line": {
          "color": "red",
          "width": 3
         },
         "mode": "lines",
         "showlegend": false,
         "type": "scatter",
         "x": [
          "2023-11-30T00:00:00",
          "2023-12-01T00:00:00"
         ],
         "xaxis": "x",
         "y": [
          244.27,
          244.14
         ],
         "yaxis": "y"
        },
        {
         "hoverinfo": "none",
         "line": {
          "color": "green",
          "width": 3
         },
         "mode": "lines",
         "showlegend": false,
         "type": "scatter",
         "x": [
          "2023-12-01T00:00:00",
          "2023-12-02T00:00:00"
         ],
         "xaxis": "x",
         "y": [
          244.14,
          244.26
         ],
         "yaxis": "y"
        },
        {
         "hoverinfo": "none",
         "line": {
          "color": "green",
          "width": 3
         },
         "mode": "lines",
         "showlegend": false,
         "type": "scatter",
         "x": [
          "2023-12-02T00:00:00",
          "2023-12-03T00:00:00"
         ],
         "xaxis": "x",
         "y": [
          244.26,
          244.38
         ],
         "yaxis": "y"
        },
        {
         "hoverinfo": "none",
         "line": {
          "color": "green",
          "width": 3
         },
         "mode": "lines",
         "showlegend": false,
         "type": "scatter",
         "x": [
          "2023-12-03T00:00:00",
          "2023-12-04T00:00:00"
         ],
         "xaxis": "x",
         "y": [
          244.38,
          244.5
         ],
         "yaxis": "y"
        },
        {
         "hoverinfo": "none",
         "line": {
          "color": "green",
          "width": 3
         },
         "mode": "lines",
         "showlegend": false,
         "type": "scatter",
         "x": [
          "2023-12-04T00:00:00",
          "2023-12-05T00:00:00"
         ],
         "xaxis": "x",
         "y": [
          244.5,
          244.63
         ],
         "yaxis": "y"
        },
        {
         "hoverinfo": "none",
         "line": {
          "color": "green",
          "width": 3
         },
         "mode": "lines",
         "showlegend": false,
         "type": "scatter",
         "x": [
          "2023-12-05T00:00:00",
          "2023-12-06T00:00:00"
         ],
         "xaxis": "x",
         "y": [
          244.63,
          244.69
         ],
         "yaxis": "y"
        },
        {
         "hoverinfo": "none",
         "line": {
          "color": "green",
          "width": 3
         },
         "mode": "lines",
         "showlegend": false,
         "type": "scatter",
         "x": [
          "2023-12-06T00:00:00",
          "2023-12-07T00:00:00"
         ],
         "xaxis": "x",
         "y": [
          244.69,
          244.93
         ],
         "yaxis": "y"
        },
        {
         "hoverinfo": "none",
         "line": {
          "color": "green",
          "width": 3
         },
         "mode": "lines",
         "showlegend": false,
         "type": "scatter",
         "x": [
          "2023-12-07T00:00:00",
          "2023-12-08T00:00:00"
         ],
         "xaxis": "x",
         "y": [
          244.93,
          245.18
         ],
         "yaxis": "y"
        },
        {
         "hoverinfo": "none",
         "line": {
          "color": "green",
          "width": 3
         },
         "mode": "lines",
         "showlegend": false,
         "type": "scatter",
         "x": [
          "2023-12-08T00:00:00",
          "2023-12-09T00:00:00"
         ],
         "xaxis": "x",
         "y": [
          245.18,
          245.43
         ],
         "yaxis": "y"
        },
        {
         "hoverinfo": "none",
         "line": {
          "color": "green",
          "width": 3
         },
         "mode": "lines",
         "showlegend": false,
         "type": "scatter",
         "x": [
          "2023-12-09T00:00:00",
          "2023-12-10T00:00:00"
         ],
         "xaxis": "x",
         "y": [
          245.43,
          245.55
         ],
         "yaxis": "y"
        },
        {
         "hoverinfo": "none",
         "line": {
          "color": "green",
          "width": 3
         },
         "mode": "lines",
         "showlegend": false,
         "type": "scatter",
         "x": [
          "2023-12-10T00:00:00",
          "2023-12-11T00:00:00"
         ],
         "xaxis": "x",
         "y": [
          245.55,
          245.67
         ],
         "yaxis": "y"
        },
        {
         "hoverinfo": "none",
         "line": {
          "color": "green",
          "width": 3
         },
         "mode": "lines",
         "showlegend": false,
         "type": "scatter",
         "x": [
          "2023-12-11T00:00:00",
          "2023-12-12T00:00:00"
         ],
         "xaxis": "x",
         "y": [
          245.67,
          245.67
         ],
         "yaxis": "y"
        },
        {
         "hoverinfo": "none",
         "line": {
          "color": "green",
          "width": 3
         },
         "mode": "lines",
         "showlegend": false,
         "type": "scatter",
         "x": [
          "2023-12-12T00:00:00",
          "2023-12-13T00:00:00"
         ],
         "xaxis": "x",
         "y": [
          245.67,
          245.67
         ],
         "yaxis": "y"
        },
        {
         "hoverinfo": "none",
         "line": {
          "color": "red",
          "width": 3
         },
         "mode": "lines",
         "showlegend": false,
         "type": "scatter",
         "x": [
          "2023-12-13T00:00:00",
          "2023-12-14T00:00:00"
         ],
         "xaxis": "x",
         "y": [
          245.67,
          245.61
         ],
         "yaxis": "y"
        },
        {
         "hoverinfo": "none",
         "line": {
          "color": "green",
          "width": 3
         },
         "mode": "lines",
         "showlegend": false,
         "type": "scatter",
         "x": [
          "2023-12-14T00:00:00",
          "2023-12-15T00:00:00"
         ],
         "xaxis": "x",
         "y": [
          245.61,
          245.61
         ],
         "yaxis": "y"
        },
        {
         "hoverinfo": "none",
         "line": {
          "color": "green",
          "width": 3
         },
         "mode": "lines",
         "showlegend": false,
         "type": "scatter",
         "x": [
          "2023-12-15T00:00:00",
          "2023-12-16T00:00:00"
         ],
         "xaxis": "x",
         "y": [
          245.61,
          245.61
         ],
         "yaxis": "y"
        },
        {
         "hoverinfo": "none",
         "line": {
          "color": "green",
          "width": 3
         },
         "mode": "lines",
         "showlegend": false,
         "type": "scatter",
         "x": [
          "2023-12-16T00:00:00",
          "2023-12-17T00:00:00"
         ],
         "xaxis": "x",
         "y": [
          245.61,
          245.67
         ],
         "yaxis": "y"
        },
        {
         "hoverinfo": "none",
         "line": {
          "color": "red",
          "width": 3
         },
         "mode": "lines",
         "showlegend": false,
         "type": "scatter",
         "x": [
          "2023-12-17T00:00:00",
          "2023-12-18T00:00:00"
         ],
         "xaxis": "x",
         "y": [
          245.67,
          245.66
         ],
         "yaxis": "y"
        },
        {
         "hoverinfo": "none",
         "line": {
          "color": "green",
          "width": 3
         },
         "mode": "lines",
         "showlegend": false,
         "type": "scatter",
         "x": [
          "2023-12-18T00:00:00",
          "2023-12-19T00:00:00"
         ],
         "xaxis": "x",
         "y": [
          245.66,
          245.78
         ],
         "yaxis": "y"
        },
        {
         "hoverinfo": "none",
         "line": {
          "color": "green",
          "width": 3
         },
         "mode": "lines",
         "showlegend": false,
         "type": "scatter",
         "x": [
          "2023-12-19T00:00:00",
          "2023-12-20T00:00:00"
         ],
         "xaxis": "x",
         "y": [
          245.78,
          245.9
         ],
         "yaxis": "y"
        },
        {
         "hoverinfo": "none",
         "line": {
          "color": "green",
          "width": 3
         },
         "mode": "lines",
         "showlegend": false,
         "type": "scatter",
         "x": [
          "2023-12-20T00:00:00",
          "2023-12-21T00:00:00"
         ],
         "xaxis": "x",
         "y": [
          245.9,
          246.02
         ],
         "yaxis": "y"
        },
        {
         "hoverinfo": "none",
         "line": {
          "color": "green",
          "width": 3
         },
         "mode": "lines",
         "showlegend": false,
         "type": "scatter",
         "x": [
          "2023-12-21T00:00:00",
          "2023-12-22T00:00:00"
         ],
         "xaxis": "x",
         "y": [
          246.02,
          246.13
         ],
         "yaxis": "y"
        },
        {
         "hoverinfo": "none",
         "line": {
          "color": "green",
          "width": 3
         },
         "mode": "lines",
         "showlegend": false,
         "type": "scatter",
         "x": [
          "2023-12-22T00:00:00",
          "2023-12-23T00:00:00"
         ],
         "xaxis": "x",
         "y": [
          246.13,
          246.13
         ],
         "yaxis": "y"
        },
        {
         "hoverinfo": "none",
         "line": {
          "color": "green",
          "width": 3
         },
         "mode": "lines",
         "showlegend": false,
         "type": "scatter",
         "x": [
          "2023-12-23T00:00:00",
          "2023-12-24T00:00:00"
         ],
         "xaxis": "x",
         "y": [
          246.13,
          246.13
         ],
         "yaxis": "y"
        },
        {
         "hoverinfo": "none",
         "line": {
          "color": "red",
          "width": 3
         },
         "mode": "lines",
         "showlegend": false,
         "type": "scatter",
         "x": [
          "2023-12-24T00:00:00",
          "2023-12-25T00:00:00"
         ],
         "xaxis": "x",
         "y": [
          246.13,
          246.06
         ],
         "yaxis": "y"
        },
        {
         "hoverinfo": "none",
         "line": {
          "color": "red",
          "width": 3
         },
         "mode": "lines",
         "showlegend": false,
         "type": "scatter",
         "x": [
          "2023-12-25T00:00:00",
          "2023-12-26T00:00:00"
         ],
         "xaxis": "x",
         "y": [
          246.06,
          246.05
         ],
         "yaxis": "y"
        },
        {
         "hoverinfo": "none",
         "line": {
          "color": "red",
          "width": 3
         },
         "mode": "lines",
         "showlegend": false,
         "type": "scatter",
         "x": [
          "2023-12-26T00:00:00",
          "2023-12-27T00:00:00"
         ],
         "xaxis": "x",
         "y": [
          246.05,
          245.93
         ],
         "yaxis": "y"
        },
        {
         "hoverinfo": "none",
         "line": {
          "color": "green",
          "width": 3
         },
         "mode": "lines",
         "showlegend": false,
         "type": "scatter",
         "x": [
          "2023-12-27T00:00:00",
          "2023-12-28T00:00:00"
         ],
         "xaxis": "x",
         "y": [
          245.93,
          245.93
         ],
         "yaxis": "y"
        },
        {
         "hoverinfo": "none",
         "line": {
          "color": "red",
          "width": 3
         },
         "mode": "lines",
         "showlegend": false,
         "type": "scatter",
         "x": [
          "2023-12-28T00:00:00",
          "2023-12-29T00:00:00"
         ],
         "xaxis": "x",
         "y": [
          245.93,
          245.74
         ],
         "yaxis": "y"
        },
        {
         "hoverinfo": "none",
         "line": {
          "color": "red",
          "width": 3
         },
         "mode": "lines",
         "showlegend": false,
         "type": "scatter",
         "x": [
          "2023-12-29T00:00:00",
          "2023-12-30T00:00:00"
         ],
         "xaxis": "x",
         "y": [
          245.74,
          245.62
         ],
         "yaxis": "y"
        },
        {
         "hoverinfo": "none",
         "line": {
          "color": "red",
          "width": 3
         },
         "mode": "lines",
         "showlegend": false,
         "type": "scatter",
         "x": [
          "2023-12-30T00:00:00",
          "2023-12-31T00:00:00"
         ],
         "xaxis": "x",
         "y": [
          245.62,
          245.49
         ],
         "yaxis": "y"
        },
        {
         "hoverinfo": "none",
         "line": {
          "color": "red",
          "width": 3
         },
         "mode": "lines",
         "showlegend": false,
         "type": "scatter",
         "x": [
          "2023-12-31T00:00:00",
          "2024-01-01T00:00:00"
         ],
         "xaxis": "x",
         "y": [
          245.49,
          245.37
         ],
         "yaxis": "y"
        },
        {
         "hoverinfo": "none",
         "line": {
          "color": "red",
          "width": 3
         },
         "mode": "lines",
         "showlegend": false,
         "type": "scatter",
         "x": [
          "2024-01-01T00:00:00",
          "2024-01-02T00:00:00"
         ],
         "xaxis": "x",
         "y": [
          245.37,
          245.36
         ],
         "yaxis": "y"
        },
        {
         "hoverinfo": "none",
         "line": {
          "color": "green",
          "width": 3
         },
         "mode": "lines",
         "showlegend": false,
         "type": "scatter",
         "x": [
          "2024-01-02T00:00:00",
          "2024-01-03T00:00:00"
         ],
         "xaxis": "x",
         "y": [
          245.36,
          245.49
         ],
         "yaxis": "y"
        },
        {
         "hoverinfo": "none",
         "line": {
          "color": "green",
          "width": 3
         },
         "mode": "lines",
         "showlegend": false,
         "type": "scatter",
         "x": [
          "2024-01-03T00:00:00",
          "2024-01-04T00:00:00"
         ],
         "xaxis": "x",
         "y": [
          245.49,
          245.62
         ],
         "yaxis": "y"
        },
        {
         "hoverinfo": "none",
         "line": {
          "color": "green",
          "width": 3
         },
         "mode": "lines",
         "showlegend": false,
         "type": "scatter",
         "x": [
          "2024-01-04T00:00:00",
          "2024-01-05T00:00:00"
         ],
         "xaxis": "x",
         "y": [
          245.62,
          245.62
         ],
         "yaxis": "y"
        },
        {
         "hoverinfo": "none",
         "line": {
          "color": "green",
          "width": 3
         },
         "mode": "lines",
         "showlegend": false,
         "type": "scatter",
         "x": [
          "2024-01-05T00:00:00",
          "2024-01-06T00:00:00"
         ],
         "xaxis": "x",
         "y": [
          245.62,
          245.69
         ],
         "yaxis": "y"
        },
        {
         "hoverinfo": "none",
         "line": {
          "color": "green",
          "width": 3
         },
         "mode": "lines",
         "showlegend": false,
         "type": "scatter",
         "x": [
          "2024-01-06T00:00:00",
          "2024-01-07T00:00:00"
         ],
         "xaxis": "x",
         "y": [
          245.69,
          245.83
         ],
         "yaxis": "y"
        },
        {
         "hoverinfo": "none",
         "line": {
          "color": "green",
          "width": 3
         },
         "mode": "lines",
         "showlegend": false,
         "type": "scatter",
         "x": [
          "2024-01-07T00:00:00",
          "2024-01-08T00:00:00"
         ],
         "xaxis": "x",
         "y": [
          245.83,
          245.96
         ],
         "yaxis": "y"
        },
        {
         "hoverinfo": "none",
         "line": {
          "color": "green",
          "width": 3
         },
         "mode": "lines",
         "showlegend": false,
         "type": "scatter",
         "x": [
          "2024-01-08T00:00:00",
          "2024-01-09T00:00:00"
         ],
         "xaxis": "x",
         "y": [
          245.96,
          246.09
         ],
         "yaxis": "y"
        },
        {
         "hoverinfo": "none",
         "line": {
          "color": "green",
          "width": 3
         },
         "mode": "lines",
         "showlegend": false,
         "type": "scatter",
         "x": [
          "2024-01-09T00:00:00",
          "2024-01-10T00:00:00"
         ],
         "xaxis": "x",
         "y": [
          246.09,
          246.1
         ],
         "yaxis": "y"
        },
        {
         "hoverinfo": "none",
         "line": {
          "color": "red",
          "width": 3
         },
         "mode": "lines",
         "showlegend": false,
         "type": "scatter",
         "x": [
          "2024-01-10T00:00:00",
          "2024-01-11T00:00:00"
         ],
         "xaxis": "x",
         "y": [
          246.1,
          245.99
         ],
         "yaxis": "y"
        },
        {
         "hoverinfo": "none",
         "line": {
          "color": "red",
          "width": 3
         },
         "mode": "lines",
         "showlegend": false,
         "type": "scatter",
         "x": [
          "2024-01-11T00:00:00",
          "2024-01-12T00:00:00"
         ],
         "xaxis": "x",
         "y": [
          245.99,
          245.76
         ],
         "yaxis": "y"
        },
        {
         "hoverinfo": "none",
         "line": {
          "color": "red",
          "width": 3
         },
         "mode": "lines",
         "showlegend": false,
         "type": "scatter",
         "x": [
          "2024-01-12T00:00:00",
          "2024-01-13T00:00:00"
         ],
         "xaxis": "x",
         "y": [
          245.76,
          245.53
         ],
         "yaxis": "y"
        },
        {
         "hoverinfo": "none",
         "line": {
          "color": "red",
          "width": 3
         },
         "mode": "lines",
         "showlegend": false,
         "type": "scatter",
         "x": [
          "2024-01-13T00:00:00",
          "2024-01-14T00:00:00"
         ],
         "xaxis": "x",
         "y": [
          245.53,
          245.43
         ],
         "yaxis": "y"
        },
        {
         "hoverinfo": "none",
         "line": {
          "color": "red",
          "width": 3
         },
         "mode": "lines",
         "showlegend": false,
         "type": "scatter",
         "x": [
          "2024-01-14T00:00:00",
          "2024-01-15T00:00:00"
         ],
         "xaxis": "x",
         "y": [
          245.43,
          245.38
         ],
         "yaxis": "y"
        },
        {
         "hoverinfo": "none",
         "line": {
          "color": "green",
          "width": 3
         },
         "mode": "lines",
         "showlegend": false,
         "type": "scatter",
         "x": [
          "2024-01-15T00:00:00",
          "2024-01-16T00:00:00"
         ],
         "xaxis": "x",
         "y": [
          245.38,
          245.4
         ],
         "yaxis": "y"
        },
        {
         "hoverinfo": "none",
         "line": {
          "color": "red",
          "width": 3
         },
         "mode": "lines",
         "showlegend": false,
         "type": "scatter",
         "x": [
          "2024-01-16T00:00:00",
          "2024-01-17T00:00:00"
         ],
         "xaxis": "x",
         "y": [
          245.4,
          245.3
         ],
         "yaxis": "y"
        },
        {
         "hoverinfo": "none",
         "line": {
          "color": "green",
          "width": 3
         },
         "mode": "lines",
         "showlegend": false,
         "type": "scatter",
         "x": [
          "2024-01-17T00:00:00",
          "2024-01-18T00:00:00"
         ],
         "xaxis": "x",
         "y": [
          245.3,
          245.32
         ],
         "yaxis": "y"
        },
        {
         "hoverinfo": "none",
         "line": {
          "color": "green",
          "width": 3
         },
         "mode": "lines",
         "showlegend": false,
         "type": "scatter",
         "x": [
          "2024-01-18T00:00:00",
          "2024-01-19T00:00:00"
         ],
         "xaxis": "x",
         "y": [
          245.32,
          245.33
         ],
         "yaxis": "y"
        },
        {
         "hoverinfo": "none",
         "line": {
          "color": "green",
          "width": 3
         },
         "mode": "lines",
         "showlegend": false,
         "type": "scatter",
         "x": [
          "2024-01-19T00:00:00",
          "2024-01-20T00:00:00"
         ],
         "xaxis": "x",
         "y": [
          245.33,
          245.46
         ],
         "yaxis": "y"
        },
        {
         "hoverinfo": "none",
         "line": {
          "color": "green",
          "width": 3
         },
         "mode": "lines",
         "showlegend": false,
         "type": "scatter",
         "x": [
          "2024-01-20T00:00:00",
          "2024-01-21T00:00:00"
         ],
         "xaxis": "x",
         "y": [
          245.46,
          245.47
         ],
         "yaxis": "y"
        },
        {
         "hoverinfo": "none",
         "line": {
          "color": "green",
          "width": 3
         },
         "mode": "lines",
         "showlegend": false,
         "type": "scatter",
         "x": [
          "2024-01-21T00:00:00",
          "2024-01-22T00:00:00"
         ],
         "xaxis": "x",
         "y": [
          245.47,
          245.47
         ],
         "yaxis": "y"
        },
        {
         "hoverinfo": "none",
         "line": {
          "color": "red",
          "width": 3
         },
         "mode": "lines",
         "showlegend": false,
         "type": "scatter",
         "x": [
          "2024-01-22T00:00:00",
          "2024-01-23T00:00:00"
         ],
         "xaxis": "x",
         "y": [
          245.47,
          245.42
         ],
         "yaxis": "y"
        },
        {
         "hoverinfo": "none",
         "line": {
          "color": "red",
          "width": 3
         },
         "mode": "lines",
         "showlegend": false,
         "type": "scatter",
         "x": [
          "2024-01-23T00:00:00",
          "2024-01-24T00:00:00"
         ],
         "xaxis": "x",
         "y": [
          245.42,
          245.29
         ],
         "yaxis": "y"
        },
        {
         "hoverinfo": "none",
         "line": {
          "color": "green",
          "width": 3
         },
         "mode": "lines",
         "showlegend": false,
         "type": "scatter",
         "x": [
          "2024-01-24T00:00:00",
          "2024-01-25T00:00:00"
         ],
         "xaxis": "x",
         "y": [
          245.29,
          245.29
         ],
         "yaxis": "y"
        },
        {
         "hoverinfo": "none",
         "line": {
          "color": "red",
          "width": 3
         },
         "mode": "lines",
         "showlegend": false,
         "type": "scatter",
         "x": [
          "2024-01-25T00:00:00",
          "2024-01-26T00:00:00"
         ],
         "xaxis": "x",
         "y": [
          245.29,
          245.17
         ],
         "yaxis": "y"
        },
        {
         "hoverinfo": "none",
         "line": {
          "color": "red",
          "width": 3
         },
         "mode": "lines",
         "showlegend": false,
         "type": "scatter",
         "x": [
          "2024-01-26T00:00:00",
          "2024-01-27T00:00:00"
         ],
         "xaxis": "x",
         "y": [
          245.17,
          245.05
         ],
         "yaxis": "y"
        },
        {
         "hoverinfo": "none",
         "line": {
          "color": "red",
          "width": 3
         },
         "mode": "lines",
         "showlegend": false,
         "type": "scatter",
         "x": [
          "2024-01-27T00:00:00",
          "2024-01-28T00:00:00"
         ],
         "xaxis": "x",
         "y": [
          245.05,
          244.92
         ],
         "yaxis": "y"
        },
        {
         "hoverinfo": "none",
         "line": {
          "color": "green",
          "width": 3
         },
         "mode": "lines",
         "showlegend": false,
         "type": "scatter",
         "x": [
          "2024-01-28T00:00:00",
          "2024-01-29T00:00:00"
         ],
         "xaxis": "x",
         "y": [
          244.92,
          244.92
         ],
         "yaxis": "y"
        },
        {
         "hoverinfo": "none",
         "line": {
          "color": "red",
          "width": 3
         },
         "mode": "lines",
         "showlegend": false,
         "type": "scatter",
         "x": [
          "2024-01-29T00:00:00",
          "2024-01-30T00:00:00"
         ],
         "xaxis": "x",
         "y": [
          244.92,
          244.91
         ],
         "yaxis": "y"
        },
        {
         "hoverinfo": "none",
         "line": {
          "color": "green",
          "width": 3
         },
         "mode": "lines",
         "showlegend": false,
         "type": "scatter",
         "x": [
          "2024-01-30T00:00:00",
          "2024-01-31T00:00:00"
         ],
         "xaxis": "x",
         "y": [
          244.91,
          244.91
         ],
         "yaxis": "y"
        },
        {
         "hoverinfo": "none",
         "line": {
          "color": "red",
          "width": 3
         },
         "mode": "lines",
         "showlegend": false,
         "type": "scatter",
         "x": [
          "2024-01-31T00:00:00",
          "2024-02-01T00:00:00"
         ],
         "xaxis": "x",
         "y": [
          244.91,
          244.8
         ],
         "yaxis": "y"
        },
        {
         "hoverinfo": "none",
         "line": {
          "color": "green",
          "width": 3
         },
         "mode": "lines",
         "showlegend": false,
         "type": "scatter",
         "x": [
          "2024-02-01T00:00:00",
          "2024-02-02T00:00:00"
         ],
         "xaxis": "x",
         "y": [
          244.8,
          244.8
         ],
         "yaxis": "y"
        },
        {
         "hoverinfo": "none",
         "line": {
          "color": "red",
          "width": 3
         },
         "mode": "lines",
         "showlegend": false,
         "type": "scatter",
         "x": [
          "2024-02-02T00:00:00",
          "2024-02-03T00:00:00"
         ],
         "xaxis": "x",
         "y": [
          244.8,
          244.68
         ],
         "yaxis": "y"
        },
        {
         "hoverinfo": "none",
         "line": {
          "color": "red",
          "width": 3
         },
         "mode": "lines",
         "showlegend": false,
         "type": "scatter",
         "x": [
          "2024-02-03T00:00:00",
          "2024-02-04T00:00:00"
         ],
         "xaxis": "x",
         "y": [
          244.68,
          244.44
         ],
         "yaxis": "y"
        },
        {
         "hoverinfo": "none",
         "line": {
          "color": "red",
          "width": 3
         },
         "mode": "lines",
         "showlegend": false,
         "type": "scatter",
         "x": [
          "2024-02-04T00:00:00",
          "2024-02-05T00:00:00"
         ],
         "xaxis": "x",
         "y": [
          244.44,
          244.32
         ],
         "yaxis": "y"
        },
        {
         "hoverinfo": "none",
         "line": {
          "color": "red",
          "width": 3
         },
         "mode": "lines",
         "showlegend": false,
         "type": "scatter",
         "x": [
          "2024-02-05T00:00:00",
          "2024-02-06T00:00:00"
         ],
         "xaxis": "x",
         "y": [
          244.32,
          244.21
         ],
         "yaxis": "y"
        },
        {
         "hoverinfo": "none",
         "line": {
          "color": "red",
          "width": 3
         },
         "mode": "lines",
         "showlegend": false,
         "type": "scatter",
         "x": [
          "2024-02-06T00:00:00",
          "2024-02-07T00:00:00"
         ],
         "xaxis": "x",
         "y": [
          244.21,
          244.09
         ],
         "yaxis": "y"
        },
        {
         "hoverinfo": "none",
         "line": {
          "color": "red",
          "width": 3
         },
         "mode": "lines",
         "showlegend": false,
         "type": "scatter",
         "x": [
          "2024-02-07T00:00:00",
          "2024-02-08T00:00:00"
         ],
         "xaxis": "x",
         "y": [
          244.09,
          243.96
         ],
         "yaxis": "y"
        },
        {
         "hoverinfo": "none",
         "line": {
          "color": "red",
          "width": 3
         },
         "mode": "lines",
         "showlegend": false,
         "type": "scatter",
         "x": [
          "2024-02-08T00:00:00",
          "2024-02-09T00:00:00"
         ],
         "xaxis": "x",
         "y": [
          243.96,
          243.73
         ],
         "yaxis": "y"
        },
        {
         "hoverinfo": "none",
         "line": {
          "color": "red",
          "width": 3
         },
         "mode": "lines",
         "showlegend": false,
         "type": "scatter",
         "x": [
          "2024-02-09T00:00:00",
          "2024-02-10T00:00:00"
         ],
         "xaxis": "x",
         "y": [
          243.73,
          243.38
         ],
         "yaxis": "y"
        },
        {
         "hoverinfo": "none",
         "line": {
          "color": "red",
          "width": 3
         },
         "mode": "lines",
         "showlegend": false,
         "type": "scatter",
         "x": [
          "2024-02-10T00:00:00",
          "2024-02-11T00:00:00"
         ],
         "xaxis": "x",
         "y": [
          243.38,
          243.14
         ],
         "yaxis": "y"
        },
        {
         "hoverinfo": "none",
         "line": {
          "color": "red",
          "width": 3
         },
         "mode": "lines",
         "showlegend": false,
         "type": "scatter",
         "x": [
          "2024-02-11T00:00:00",
          "2024-02-12T00:00:00"
         ],
         "xaxis": "x",
         "y": [
          243.14,
          243.04
         ],
         "yaxis": "y"
        },
        {
         "hoverinfo": "none",
         "line": {
          "color": "red",
          "width": 3
         },
         "mode": "lines",
         "showlegend": false,
         "type": "scatter",
         "x": [
          "2024-02-12T00:00:00",
          "2024-02-13T00:00:00"
         ],
         "xaxis": "x",
         "y": [
          243.04,
          242.81
         ],
         "yaxis": "y"
        },
        {
         "hoverinfo": "none",
         "line": {
          "color": "red",
          "width": 3
         },
         "mode": "lines",
         "showlegend": false,
         "type": "scatter",
         "x": [
          "2024-02-13T00:00:00",
          "2024-02-14T00:00:00"
         ],
         "xaxis": "x",
         "y": [
          242.81,
          242.58
         ],
         "yaxis": "y"
        },
        {
         "hoverinfo": "none",
         "line": {
          "color": "red",
          "width": 3
         },
         "mode": "lines",
         "showlegend": false,
         "type": "scatter",
         "x": [
          "2024-02-14T00:00:00",
          "2024-02-15T00:00:00"
         ],
         "xaxis": "x",
         "y": [
          242.58,
          242.47
         ],
         "yaxis": "y"
        },
        {
         "hoverinfo": "none",
         "line": {
          "color": "red",
          "width": 3
         },
         "mode": "lines",
         "showlegend": false,
         "type": "scatter",
         "x": [
          "2024-02-15T00:00:00",
          "2024-02-16T00:00:00"
         ],
         "xaxis": "x",
         "y": [
          242.47,
          242.24
         ],
         "yaxis": "y"
        },
        {
         "hoverinfo": "none",
         "line": {
          "color": "green",
          "width": 3
         },
         "mode": "lines",
         "showlegend": false,
         "type": "scatter",
         "x": [
          "2024-02-16T00:00:00",
          "2024-02-17T00:00:00"
         ],
         "xaxis": "x",
         "y": [
          242.24,
          242.36
         ],
         "yaxis": "y"
        },
        {
         "hoverinfo": "none",
         "line": {
          "color": "green",
          "width": 3
         },
         "mode": "lines",
         "showlegend": false,
         "type": "scatter",
         "x": [
          "2024-02-17T00:00:00",
          "2024-02-18T00:00:00"
         ],
         "xaxis": "x",
         "y": [
          242.36,
          242.48
         ],
         "yaxis": "y"
        },
        {
         "hoverinfo": "none",
         "line": {
          "color": "green",
          "width": 3
         },
         "mode": "lines",
         "showlegend": false,
         "type": "scatter",
         "x": [
          "2024-02-18T00:00:00",
          "2024-02-19T00:00:00"
         ],
         "xaxis": "x",
         "y": [
          242.48,
          242.6
         ],
         "yaxis": "y"
        },
        {
         "hoverinfo": "none",
         "line": {
          "color": "green",
          "width": 3
         },
         "mode": "lines",
         "showlegend": false,
         "type": "scatter",
         "x": [
          "2024-02-19T00:00:00",
          "2024-02-20T00:00:00"
         ],
         "xaxis": "x",
         "y": [
          242.6,
          242.83
         ],
         "yaxis": "y"
        },
        {
         "hoverinfo": "none",
         "line": {
          "color": "green",
          "width": 3
         },
         "mode": "lines",
         "showlegend": false,
         "type": "scatter",
         "x": [
          "2024-02-20T00:00:00",
          "2024-02-21T00:00:00"
         ],
         "xaxis": "x",
         "y": [
          242.83,
          243.08
         ],
         "yaxis": "y"
        },
        {
         "hoverinfo": "none",
         "line": {
          "color": "green",
          "width": 3
         },
         "mode": "lines",
         "showlegend": false,
         "type": "scatter",
         "x": [
          "2024-02-21T00:00:00",
          "2024-02-22T00:00:00"
         ],
         "xaxis": "x",
         "y": [
          243.08,
          243.31
         ],
         "yaxis": "y"
        },
        {
         "hoverinfo": "none",
         "line": {
          "color": "green",
          "width": 3
         },
         "mode": "lines",
         "showlegend": false,
         "type": "scatter",
         "x": [
          "2024-02-22T00:00:00",
          "2024-02-23T00:00:00"
         ],
         "xaxis": "x",
         "y": [
          243.31,
          243.43
         ],
         "yaxis": "y"
        },
        {
         "hoverinfo": "none",
         "line": {
          "color": "green",
          "width": 3
         },
         "mode": "lines",
         "showlegend": false,
         "type": "scatter",
         "x": [
          "2024-02-23T00:00:00",
          "2024-02-24T00:00:00"
         ],
         "xaxis": "x",
         "y": [
          243.43,
          243.68
         ],
         "yaxis": "y"
        },
        {
         "hoverinfo": "none",
         "line": {
          "color": "green",
          "width": 3
         },
         "mode": "lines",
         "showlegend": false,
         "type": "scatter",
         "x": [
          "2024-02-24T00:00:00",
          "2024-02-25T00:00:00"
         ],
         "xaxis": "x",
         "y": [
          243.68,
          243.81
         ],
         "yaxis": "y"
        },
        {
         "hoverinfo": "none",
         "line": {
          "color": "green",
          "width": 3
         },
         "mode": "lines",
         "showlegend": false,
         "type": "scatter",
         "x": [
          "2024-02-25T00:00:00",
          "2024-02-26T00:00:00"
         ],
         "xaxis": "x",
         "y": [
          243.81,
          243.94
         ],
         "yaxis": "y"
        },
        {
         "hoverinfo": "none",
         "line": {
          "color": "green",
          "width": 3
         },
         "mode": "lines",
         "showlegend": false,
         "type": "scatter",
         "x": [
          "2024-02-26T00:00:00",
          "2024-02-27T00:00:00"
         ],
         "xaxis": "x",
         "y": [
          243.94,
          244.19
         ],
         "yaxis": "y"
        },
        {
         "hoverinfo": "none",
         "line": {
          "color": "green",
          "width": 3
         },
         "mode": "lines",
         "showlegend": false,
         "type": "scatter",
         "x": [
          "2024-02-27T00:00:00",
          "2024-02-28T00:00:00"
         ],
         "xaxis": "x",
         "y": [
          244.19,
          244.32
         ],
         "yaxis": "y"
        },
        {
         "hoverinfo": "none",
         "line": {
          "color": "green",
          "width": 3
         },
         "mode": "lines",
         "showlegend": false,
         "type": "scatter",
         "x": [
          "2024-02-28T00:00:00",
          "2024-02-29T00:00:00"
         ],
         "xaxis": "x",
         "y": [
          244.32,
          244.44
         ],
         "yaxis": "y"
        },
        {
         "hoverinfo": "none",
         "line": {
          "color": "green",
          "width": 3
         },
         "mode": "lines",
         "showlegend": false,
         "type": "scatter",
         "x": [
          "2024-02-29T00:00:00",
          "2024-03-01T00:00:00"
         ],
         "xaxis": "x",
         "y": [
          244.44,
          244.57
         ],
         "yaxis": "y"
        },
        {
         "hoverinfo": "none",
         "line": {
          "color": "green",
          "width": 3
         },
         "mode": "lines",
         "showlegend": false,
         "type": "scatter",
         "x": [
          "2024-03-01T00:00:00",
          "2024-03-02T00:00:00"
         ],
         "xaxis": "x",
         "y": [
          244.57,
          244.58
         ],
         "yaxis": "y"
        },
        {
         "hoverinfo": "none",
         "line": {
          "color": "green",
          "width": 3
         },
         "mode": "lines",
         "showlegend": false,
         "type": "scatter",
         "x": [
          "2024-03-02T00:00:00",
          "2024-03-03T00:00:00"
         ],
         "xaxis": "x",
         "y": [
          244.58,
          244.58
         ],
         "yaxis": "y"
        },
        {
         "hoverinfo": "none",
         "line": {
          "color": "green",
          "width": 3
         },
         "mode": "lines",
         "showlegend": false,
         "type": "scatter",
         "x": [
          "2024-03-03T00:00:00",
          "2024-03-04T00:00:00"
         ],
         "xaxis": "x",
         "y": [
          244.58,
          244.58
         ],
         "yaxis": "y"
        },
        {
         "hoverinfo": "none",
         "line": {
          "color": "green",
          "width": 3
         },
         "mode": "lines",
         "showlegend": false,
         "type": "scatter",
         "x": [
          "2024-03-04T00:00:00",
          "2024-03-05T00:00:00"
         ],
         "xaxis": "x",
         "y": [
          244.58,
          244.71
         ],
         "yaxis": "y"
        },
        {
         "hoverinfo": "none",
         "line": {
          "color": "green",
          "width": 3
         },
         "mode": "lines",
         "showlegend": false,
         "type": "scatter",
         "x": [
          "2024-03-05T00:00:00",
          "2024-03-06T00:00:00"
         ],
         "xaxis": "x",
         "y": [
          244.71,
          244.71
         ],
         "yaxis": "y"
        },
        {
         "hoverinfo": "none",
         "line": {
          "color": "green",
          "width": 3
         },
         "mode": "lines",
         "showlegend": false,
         "type": "scatter",
         "x": [
          "2024-03-06T00:00:00",
          "2024-03-07T00:00:00"
         ],
         "xaxis": "x",
         "y": [
          244.71,
          244.72
         ],
         "yaxis": "y"
        },
        {
         "hoverinfo": "none",
         "line": {
          "color": "red",
          "width": 3
         },
         "mode": "lines",
         "showlegend": false,
         "type": "scatter",
         "x": [
          "2024-03-07T00:00:00",
          "2024-03-08T00:00:00"
         ],
         "xaxis": "x",
         "y": [
          244.72,
          244.61
         ],
         "yaxis": "y"
        },
        {
         "hoverinfo": "none",
         "line": {
          "color": "red",
          "width": 3
         },
         "mode": "lines",
         "showlegend": false,
         "type": "scatter",
         "x": [
          "2024-03-08T00:00:00",
          "2024-03-09T00:00:00"
         ],
         "xaxis": "x",
         "y": [
          244.61,
          244.49
         ],
         "yaxis": "y"
        },
        {
         "hoverinfo": "none",
         "line": {
          "color": "green",
          "width": 3
         },
         "mode": "lines",
         "showlegend": false,
         "type": "scatter",
         "x": [
          "2024-03-09T00:00:00",
          "2024-03-10T00:00:00"
         ],
         "xaxis": "x",
         "y": [
          244.49,
          244.5
         ],
         "yaxis": "y"
        },
        {
         "hoverinfo": "none",
         "line": {
          "color": "green",
          "width": 3
         },
         "mode": "lines",
         "showlegend": false,
         "type": "scatter",
         "x": [
          "2024-03-10T00:00:00",
          "2024-03-11T00:00:00"
         ],
         "xaxis": "x",
         "y": [
          244.5,
          244.63
         ],
         "yaxis": "y"
        },
        {
         "hoverinfo": "none",
         "line": {
          "color": "green",
          "width": 3
         },
         "mode": "lines",
         "showlegend": false,
         "type": "scatter",
         "x": [
          "2024-03-11T00:00:00",
          "2024-03-12T00:00:00"
         ],
         "xaxis": "x",
         "y": [
          244.63,
          244.75
         ],
         "yaxis": "y"
        },
        {
         "hoverinfo": "none",
         "line": {
          "color": "green",
          "width": 3
         },
         "mode": "lines",
         "showlegend": false,
         "type": "scatter",
         "x": [
          "2024-03-12T00:00:00",
          "2024-03-13T00:00:00"
         ],
         "xaxis": "x",
         "y": [
          244.75,
          244.87
         ],
         "yaxis": "y"
        },
        {
         "hoverinfo": "none",
         "line": {
          "color": "green",
          "width": 3
         },
         "mode": "lines",
         "showlegend": false,
         "type": "scatter",
         "x": [
          "2024-03-13T00:00:00",
          "2024-03-14T00:00:00"
         ],
         "xaxis": "x",
         "y": [
          244.87,
          244.87
         ],
         "yaxis": "y"
        },
        {
         "hoverinfo": "none",
         "line": {
          "color": "green",
          "width": 3
         },
         "mode": "lines",
         "showlegend": false,
         "type": "scatter",
         "x": [
          "2024-03-14T00:00:00",
          "2024-03-15T00:00:00"
         ],
         "xaxis": "x",
         "y": [
          244.87,
          244.88
         ],
         "yaxis": "y"
        },
        {
         "hoverinfo": "none",
         "line": {
          "color": "green",
          "width": 3
         },
         "mode": "lines",
         "showlegend": false,
         "type": "scatter",
         "x": [
          "2024-03-15T00:00:00",
          "2024-03-16T00:00:00"
         ],
         "xaxis": "x",
         "y": [
          244.88,
          245
         ],
         "yaxis": "y"
        },
        {
         "hoverinfo": "none",
         "line": {
          "color": "green",
          "width": 3
         },
         "mode": "lines",
         "showlegend": false,
         "type": "scatter",
         "x": [
          "2024-03-16T00:00:00",
          "2024-03-17T00:00:00"
         ],
         "xaxis": "x",
         "y": [
          245,
          245.12
         ],
         "yaxis": "y"
        },
        {
         "hoverinfo": "none",
         "line": {
          "color": "green",
          "width": 3
         },
         "mode": "lines",
         "showlegend": false,
         "type": "scatter",
         "x": [
          "2024-03-17T00:00:00",
          "2024-03-18T00:00:00"
         ],
         "xaxis": "x",
         "y": [
          245.12,
          245.24
         ],
         "yaxis": "y"
        },
        {
         "hoverinfo": "none",
         "line": {
          "color": "green",
          "width": 3
         },
         "mode": "lines",
         "showlegend": false,
         "type": "scatter",
         "x": [
          "2024-03-18T00:00:00",
          "2024-03-19T00:00:00"
         ],
         "xaxis": "x",
         "y": [
          245.24,
          245.24
         ],
         "yaxis": "y"
        },
        {
         "hoverinfo": "none",
         "line": {
          "color": "green",
          "width": 3
         },
         "mode": "lines",
         "showlegend": false,
         "type": "scatter",
         "x": [
          "2024-03-19T00:00:00",
          "2024-03-20T00:00:00"
         ],
         "xaxis": "x",
         "y": [
          245.24,
          245.25
         ],
         "yaxis": "y"
        },
        {
         "hoverinfo": "none",
         "line": {
          "color": "red",
          "width": 3
         },
         "mode": "lines",
         "showlegend": false,
         "type": "scatter",
         "x": [
          "2024-03-20T00:00:00",
          "2024-03-21T00:00:00"
         ],
         "xaxis": "x",
         "y": [
          245.25,
          245.14
         ],
         "yaxis": "y"
        },
        {
         "hoverinfo": "none",
         "line": {
          "color": "green",
          "width": 3
         },
         "mode": "lines",
         "showlegend": false,
         "type": "scatter",
         "x": [
          "2024-03-21T00:00:00",
          "2024-03-22T00:00:00"
         ],
         "xaxis": "x",
         "y": [
          245.14,
          245.19
         ],
         "yaxis": "y"
        },
        {
         "hoverinfo": "none",
         "line": {
          "color": "green",
          "width": 3
         },
         "mode": "lines",
         "showlegend": false,
         "type": "scatter",
         "x": [
          "2024-03-22T00:00:00",
          "2024-03-23T00:00:00"
         ],
         "xaxis": "x",
         "y": [
          245.19,
          245.19
         ],
         "yaxis": "y"
        },
        {
         "hoverinfo": "none",
         "line": {
          "color": "green",
          "width": 3
         },
         "mode": "lines",
         "showlegend": false,
         "type": "scatter",
         "x": [
          "2024-03-23T00:00:00",
          "2024-03-24T00:00:00"
         ],
         "xaxis": "x",
         "y": [
          245.19,
          245.19
         ],
         "yaxis": "y"
        },
        {
         "hoverinfo": "none",
         "line": {
          "color": "green",
          "width": 3
         },
         "mode": "lines",
         "showlegend": false,
         "type": "scatter",
         "x": [
          "2024-03-24T00:00:00",
          "2024-03-25T00:00:00"
         ],
         "xaxis": "x",
         "y": [
          245.19,
          245.2
         ],
         "yaxis": "y"
        },
        {
         "hoverinfo": "none",
         "line": {
          "color": "green",
          "width": 3
         },
         "mode": "lines",
         "showlegend": false,
         "type": "scatter",
         "x": [
          "2024-03-25T00:00:00",
          "2024-03-26T00:00:00"
         ],
         "xaxis": "x",
         "y": [
          245.2,
          245.33
         ],
         "yaxis": "y"
        },
        {
         "hoverinfo": "none",
         "line": {
          "color": "green",
          "width": 3
         },
         "mode": "lines",
         "showlegend": false,
         "type": "scatter",
         "x": [
          "2024-03-26T00:00:00",
          "2024-03-27T00:00:00"
         ],
         "xaxis": "x",
         "y": [
          245.33,
          245.45
         ],
         "yaxis": "y"
        },
        {
         "hoverinfo": "none",
         "line": {
          "color": "green",
          "width": 3
         },
         "mode": "lines",
         "showlegend": false,
         "type": "scatter",
         "x": [
          "2024-03-27T00:00:00",
          "2024-03-28T00:00:00"
         ],
         "xaxis": "x",
         "y": [
          245.45,
          245.7
         ],
         "yaxis": "y"
        },
        {
         "hoverinfo": "none",
         "line": {
          "color": "green",
          "width": 3
         },
         "mode": "lines",
         "showlegend": false,
         "type": "scatter",
         "x": [
          "2024-03-28T00:00:00",
          "2024-03-29T00:00:00"
         ],
         "xaxis": "x",
         "y": [
          245.7,
          246.05
         ],
         "yaxis": "y"
        },
        {
         "hoverinfo": "none",
         "line": {
          "color": "green",
          "width": 3
         },
         "mode": "lines",
         "showlegend": false,
         "type": "scatter",
         "x": [
          "2024-03-29T00:00:00",
          "2024-03-30T00:00:00"
         ],
         "xaxis": "x",
         "y": [
          246.05,
          246.46
         ],
         "yaxis": "y"
        },
        {
         "hoverinfo": "none",
         "line": {
          "color": "green",
          "width": 3
         },
         "mode": "lines",
         "showlegend": false,
         "type": "scatter",
         "x": [
          "2024-03-30T00:00:00",
          "2024-03-31T00:00:00"
         ],
         "xaxis": "x",
         "y": [
          246.46,
          246.94
         ],
         "yaxis": "y"
        },
        {
         "hoverinfo": "none",
         "line": {
          "color": "green",
          "width": 3
         },
         "mode": "lines",
         "showlegend": false,
         "type": "scatter",
         "x": [
          "2024-03-31T00:00:00",
          "2024-04-01T00:00:00"
         ],
         "xaxis": "x",
         "y": [
          246.94,
          247.4
         ],
         "yaxis": "y"
        },
        {
         "hoverinfo": "none",
         "line": {
          "color": "green",
          "width": 3
         },
         "mode": "lines",
         "showlegend": false,
         "type": "scatter",
         "x": [
          "2024-04-01T00:00:00",
          "2024-04-02T00:00:00"
         ],
         "xaxis": "x",
         "y": [
          247.4,
          247.87
         ],
         "yaxis": "y"
        },
        {
         "hoverinfo": "none",
         "line": {
          "color": "green",
          "width": 3
         },
         "mode": "lines",
         "showlegend": false,
         "type": "scatter",
         "x": [
          "2024-04-02T00:00:00",
          "2024-04-03T00:00:00"
         ],
         "xaxis": "x",
         "y": [
          247.87,
          248.35
         ],
         "yaxis": "y"
        },
        {
         "hoverinfo": "none",
         "line": {
          "color": "green",
          "width": 3
         },
         "mode": "lines",
         "showlegend": false,
         "type": "scatter",
         "x": [
          "2024-04-03T00:00:00",
          "2024-04-04T00:00:00"
         ],
         "xaxis": "x",
         "y": [
          248.35,
          248.7
         ],
         "yaxis": "y"
        },
        {
         "hoverinfo": "none",
         "line": {
          "color": "green",
          "width": 3
         },
         "mode": "lines",
         "showlegend": false,
         "type": "scatter",
         "x": [
          "2024-04-04T00:00:00",
          "2024-04-05T00:00:00"
         ],
         "xaxis": "x",
         "y": [
          248.7,
          248.94
         ],
         "yaxis": "y"
        },
        {
         "hoverinfo": "none",
         "line": {
          "color": "green",
          "width": 3
         },
         "mode": "lines",
         "showlegend": false,
         "type": "scatter",
         "x": [
          "2024-04-05T00:00:00",
          "2024-04-06T00:00:00"
         ],
         "xaxis": "x",
         "y": [
          248.94,
          249.07
         ],
         "yaxis": "y"
        },
        {
         "hoverinfo": "none",
         "line": {
          "color": "green",
          "width": 3
         },
         "mode": "lines",
         "showlegend": false,
         "type": "scatter",
         "x": [
          "2024-04-06T00:00:00",
          "2024-04-07T00:00:00"
         ],
         "xaxis": "x",
         "y": [
          249.07,
          249.08
         ],
         "yaxis": "y"
        },
        {
         "hoverinfo": "none",
         "line": {
          "color": "green",
          "width": 3
         },
         "mode": "lines",
         "showlegend": false,
         "type": "scatter",
         "x": [
          "2024-04-07T00:00:00",
          "2024-04-08T00:00:00"
         ],
         "xaxis": "x",
         "y": [
          249.08,
          249.08
         ],
         "yaxis": "y"
        },
        {
         "hoverinfo": "none",
         "line": {
          "color": "green",
          "width": 3
         },
         "mode": "lines",
         "showlegend": false,
         "type": "scatter",
         "x": [
          "2024-04-08T00:00:00",
          "2024-04-09T00:00:00"
         ],
         "xaxis": "x",
         "y": [
          249.08,
          249.09
         ],
         "yaxis": "y"
        },
        {
         "hoverinfo": "none",
         "line": {
          "color": "green",
          "width": 3
         },
         "mode": "lines",
         "showlegend": false,
         "type": "scatter",
         "x": [
          "2024-04-09T00:00:00",
          "2024-04-10T00:00:00"
         ],
         "xaxis": "x",
         "y": [
          249.09,
          249.22
         ],
         "yaxis": "y"
        },
        {
         "hoverinfo": "none",
         "line": {
          "color": "green",
          "width": 3
         },
         "mode": "lines",
         "showlegend": false,
         "type": "scatter",
         "x": [
          "2024-04-10T00:00:00",
          "2024-04-11T00:00:00"
         ],
         "xaxis": "x",
         "y": [
          249.22,
          249.22
         ],
         "yaxis": "y"
        },
        {
         "hoverinfo": "none",
         "line": {
          "color": "green",
          "width": 3
         },
         "mode": "lines",
         "showlegend": false,
         "type": "scatter",
         "x": [
          "2024-04-11T00:00:00",
          "2024-04-12T00:00:00"
         ],
         "xaxis": "x",
         "y": [
          249.22,
          249.4
         ],
         "yaxis": "y"
        },
        {
         "hoverinfo": "none",
         "line": {
          "color": "green",
          "width": 3
         },
         "mode": "lines",
         "showlegend": false,
         "type": "scatter",
         "x": [
          "2024-04-12T00:00:00",
          "2024-04-13T00:00:00"
         ],
         "xaxis": "x",
         "y": [
          249.4,
          249.52
         ],
         "yaxis": "y"
        },
        {
         "hoverinfo": "none",
         "line": {
          "color": "green",
          "width": 3
         },
         "mode": "lines",
         "showlegend": false,
         "type": "scatter",
         "x": [
          "2024-04-13T00:00:00",
          "2024-04-14T00:00:00"
         ],
         "xaxis": "x",
         "y": [
          249.52,
          249.65
         ],
         "yaxis": "y"
        },
        {
         "hoverinfo": "none",
         "line": {
          "color": "green",
          "width": 3
         },
         "mode": "lines",
         "showlegend": false,
         "type": "scatter",
         "x": [
          "2024-04-14T00:00:00",
          "2024-04-15T00:00:00"
         ],
         "xaxis": "x",
         "y": [
          249.65,
          249.77
         ],
         "yaxis": "y"
        },
        {
         "hoverinfo": "none",
         "line": {
          "color": "green",
          "width": 3
         },
         "mode": "lines",
         "showlegend": false,
         "type": "scatter",
         "x": [
          "2024-04-15T00:00:00",
          "2024-04-16T00:00:00"
         ],
         "xaxis": "x",
         "y": [
          249.77,
          249.9
         ],
         "yaxis": "y"
        },
        {
         "hoverinfo": "none",
         "line": {
          "color": "green",
          "width": 3
         },
         "mode": "lines",
         "showlegend": false,
         "type": "scatter",
         "x": [
          "2024-04-16T00:00:00",
          "2024-04-17T00:00:00"
         ],
         "xaxis": "x",
         "y": [
          249.9,
          250.14
         ],
         "yaxis": "y"
        },
        {
         "hoverinfo": "none",
         "line": {
          "color": "green",
          "width": 3
         },
         "mode": "lines",
         "showlegend": false,
         "type": "scatter",
         "x": [
          "2024-04-17T00:00:00",
          "2024-04-18T00:00:00"
         ],
         "xaxis": "x",
         "y": [
          250.14,
          250.27
         ],
         "yaxis": "y"
        },
        {
         "hoverinfo": "none",
         "line": {
          "color": "green",
          "width": 3
         },
         "mode": "lines",
         "showlegend": false,
         "type": "scatter",
         "x": [
          "2024-04-18T00:00:00",
          "2024-04-19T00:00:00"
         ],
         "xaxis": "x",
         "y": [
          250.27,
          250.28
         ],
         "yaxis": "y"
        },
        {
         "hoverinfo": "none",
         "line": {
          "color": "red",
          "width": 3
         },
         "mode": "lines",
         "showlegend": false,
         "type": "scatter",
         "x": [
          "2024-04-19T00:00:00",
          "2024-04-20T00:00:00"
         ],
         "xaxis": "x",
         "y": [
          250.28,
          250.23
         ],
         "yaxis": "y"
        },
        {
         "hoverinfo": "none",
         "line": {
          "color": "green",
          "width": 3
         },
         "mode": "lines",
         "showlegend": false,
         "type": "scatter",
         "x": [
          "2024-04-20T00:00:00",
          "2024-04-21T00:00:00"
         ],
         "xaxis": "x",
         "y": [
          250.23,
          250.24
         ],
         "yaxis": "y"
        },
        {
         "hoverinfo": "none",
         "line": {
          "color": "green",
          "width": 3
         },
         "mode": "lines",
         "showlegend": false,
         "type": "scatter",
         "x": [
          "2024-04-21T00:00:00",
          "2024-04-22T00:00:00"
         ],
         "xaxis": "x",
         "y": [
          250.24,
          250.26
         ],
         "yaxis": "y"
        },
        {
         "hoverinfo": "none",
         "line": {
          "color": "green",
          "width": 3
         },
         "mode": "lines",
         "showlegend": false,
         "type": "scatter",
         "x": [
          "2024-04-22T00:00:00",
          "2024-04-23T00:00:00"
         ],
         "xaxis": "x",
         "y": [
          250.26,
          250.28
         ],
         "yaxis": "y"
        },
        {
         "hoverinfo": "none",
         "line": {
          "color": "green",
          "width": 3
         },
         "mode": "lines",
         "showlegend": false,
         "type": "scatter",
         "x": [
          "2024-04-23T00:00:00",
          "2024-04-24T00:00:00"
         ],
         "xaxis": "x",
         "y": [
          250.28,
          250.3
         ],
         "yaxis": "y"
        },
        {
         "hoverinfo": "none",
         "line": {
          "color": "red",
          "width": 3
         },
         "mode": "lines",
         "showlegend": false,
         "type": "scatter",
         "x": [
          "2024-04-24T00:00:00",
          "2024-04-25T00:00:00"
         ],
         "xaxis": "x",
         "y": [
          250.3,
          250.2
         ],
         "yaxis": "y"
        },
        {
         "hoverinfo": "none",
         "line": {
          "color": "red",
          "width": 3
         },
         "mode": "lines",
         "showlegend": false,
         "type": "scatter",
         "x": [
          "2024-04-25T00:00:00",
          "2024-04-26T00:00:00"
         ],
         "xaxis": "x",
         "y": [
          250.2,
          250.1
         ],
         "yaxis": "y"
        },
        {
         "hoverinfo": "none",
         "line": {
          "color": "green",
          "width": 3
         },
         "mode": "lines",
         "showlegend": false,
         "type": "scatter",
         "x": [
          "2024-04-26T00:00:00",
          "2024-04-27T00:00:00"
         ],
         "xaxis": "x",
         "y": [
          250.1,
          250.11
         ],
         "yaxis": "y"
        },
        {
         "hoverinfo": "none",
         "line": {
          "color": "green",
          "width": 3
         },
         "mode": "lines",
         "showlegend": false,
         "type": "scatter",
         "x": [
          "2024-04-27T00:00:00",
          "2024-04-28T00:00:00"
         ],
         "xaxis": "x",
         "y": [
          250.11,
          250.24
         ],
         "yaxis": "y"
        },
        {
         "hoverinfo": "none",
         "line": {
          "color": "green",
          "width": 3
         },
         "mode": "lines",
         "showlegend": false,
         "type": "scatter",
         "x": [
          "2024-04-28T00:00:00",
          "2024-04-29T00:00:00"
         ],
         "xaxis": "x",
         "y": [
          250.24,
          250.37
         ],
         "yaxis": "y"
        },
        {
         "hoverinfo": "none",
         "line": {
          "color": "green",
          "width": 3
         },
         "mode": "lines",
         "showlegend": false,
         "type": "scatter",
         "x": [
          "2024-04-29T00:00:00",
          "2024-04-30T00:00:00"
         ],
         "xaxis": "x",
         "y": [
          250.37,
          250.5
         ],
         "yaxis": "y"
        },
        {
         "hoverinfo": "none",
         "line": {
          "color": "green",
          "width": 3
         },
         "mode": "lines",
         "showlegend": false,
         "type": "scatter",
         "x": [
          "2024-04-30T00:00:00",
          "2024-05-01T00:00:00"
         ],
         "xaxis": "x",
         "y": [
          250.5,
          250.63
         ],
         "yaxis": "y"
        },
        {
         "hoverinfo": "none",
         "line": {
          "color": "green",
          "width": 3
         },
         "mode": "lines",
         "showlegend": false,
         "type": "scatter",
         "x": [
          "2024-05-01T00:00:00",
          "2024-05-02T00:00:00"
         ],
         "xaxis": "x",
         "y": [
          250.63,
          250.75
         ],
         "yaxis": "y"
        },
        {
         "hoverinfo": "none",
         "line": {
          "color": "green",
          "width": 3
         },
         "mode": "lines",
         "showlegend": false,
         "type": "scatter",
         "x": [
          "2024-05-02T00:00:00",
          "2024-05-03T00:00:00"
         ],
         "xaxis": "x",
         "y": [
          250.75,
          250.87
         ],
         "yaxis": "y"
        },
        {
         "hoverinfo": "none",
         "line": {
          "color": "green",
          "width": 3
         },
         "mode": "lines",
         "showlegend": false,
         "type": "scatter",
         "x": [
          "2024-05-03T00:00:00",
          "2024-05-04T00:00:00"
         ],
         "xaxis": "x",
         "y": [
          250.87,
          250.99
         ],
         "yaxis": "y"
        },
        {
         "hoverinfo": "none",
         "line": {
          "color": "green",
          "width": 3
         },
         "mode": "lines",
         "showlegend": false,
         "type": "scatter",
         "x": [
          "2024-05-04T00:00:00",
          "2024-05-05T00:00:00"
         ],
         "xaxis": "x",
         "y": [
          250.99,
          251.1
         ],
         "yaxis": "y"
        },
        {
         "hoverinfo": "none",
         "line": {
          "color": "green",
          "width": 3
         },
         "mode": "lines",
         "showlegend": false,
         "type": "scatter",
         "x": [
          "2024-05-05T00:00:00",
          "2024-05-06T00:00:00"
         ],
         "xaxis": "x",
         "y": [
          251.1,
          251.11
         ],
         "yaxis": "y"
        },
        {
         "hoverinfo": "none",
         "line": {
          "color": "green",
          "width": 3
         },
         "mode": "lines",
         "showlegend": false,
         "type": "scatter",
         "x": [
          "2024-05-06T00:00:00",
          "2024-05-07T00:00:00"
         ],
         "xaxis": "x",
         "y": [
          251.11,
          251.12
         ],
         "yaxis": "y"
        },
        {
         "hoverinfo": "none",
         "line": {
          "color": "green",
          "width": 3
         },
         "mode": "lines",
         "showlegend": false,
         "type": "scatter",
         "x": [
          "2024-05-07T00:00:00",
          "2024-05-08T00:00:00"
         ],
         "xaxis": "x",
         "y": [
          251.12,
          251.13
         ],
         "yaxis": "y"
        },
        {
         "hoverinfo": "none",
         "line": {
          "color": "green",
          "width": 3
         },
         "mode": "lines",
         "showlegend": false,
         "type": "scatter",
         "x": [
          "2024-05-08T00:00:00",
          "2024-05-09T00:00:00"
         ],
         "xaxis": "x",
         "y": [
          251.13,
          251.14
         ],
         "yaxis": "y"
        },
        {
         "hoverinfo": "none",
         "line": {
          "color": "green",
          "width": 3
         },
         "mode": "lines",
         "showlegend": false,
         "type": "scatter",
         "x": [
          "2024-05-09T00:00:00",
          "2024-05-10T00:00:00"
         ],
         "xaxis": "x",
         "y": [
          251.14,
          251.15
         ],
         "yaxis": "y"
        },
        {
         "hoverinfo": "none",
         "line": {
          "color": "green",
          "width": 3
         },
         "mode": "lines",
         "showlegend": false,
         "type": "scatter",
         "x": [
          "2024-05-10T00:00:00",
          "2024-05-11T00:00:00"
         ],
         "xaxis": "x",
         "y": [
          251.15,
          251.16
         ],
         "yaxis": "y"
        },
        {
         "hoverinfo": "none",
         "line": {
          "color": "green",
          "width": 3
         },
         "mode": "lines",
         "showlegend": false,
         "type": "scatter",
         "x": [
          "2024-05-11T00:00:00",
          "2024-05-12T00:00:00"
         ],
         "xaxis": "x",
         "y": [
          251.16,
          251.28
         ],
         "yaxis": "y"
        },
        {
         "hoverinfo": "none",
         "line": {
          "color": "green",
          "width": 3
         },
         "mode": "lines",
         "showlegend": false,
         "type": "scatter",
         "x": [
          "2024-05-12T00:00:00",
          "2024-05-13T00:00:00"
         ],
         "xaxis": "x",
         "y": [
          251.28,
          251.39
         ],
         "yaxis": "y"
        },
        {
         "hoverinfo": "none",
         "line": {
          "color": "green",
          "width": 3
         },
         "mode": "lines",
         "showlegend": false,
         "type": "scatter",
         "x": [
          "2024-05-13T00:00:00",
          "2024-05-14T00:00:00"
         ],
         "xaxis": "x",
         "y": [
          251.39,
          251.51
         ],
         "yaxis": "y"
        },
        {
         "hoverinfo": "none",
         "line": {
          "color": "green",
          "width": 3
         },
         "mode": "lines",
         "showlegend": false,
         "type": "scatter",
         "x": [
          "2024-05-14T00:00:00",
          "2024-05-15T00:00:00"
         ],
         "xaxis": "x",
         "y": [
          251.51,
          251.61
         ],
         "yaxis": "y"
        },
        {
         "hoverinfo": "none",
         "line": {
          "color": "green",
          "width": 3
         },
         "mode": "lines",
         "showlegend": false,
         "type": "scatter",
         "x": [
          "2024-05-15T00:00:00",
          "2024-05-16T00:00:00"
         ],
         "xaxis": "x",
         "y": [
          251.61,
          251.72
         ],
         "yaxis": "y"
        },
        {
         "hoverinfo": "none",
         "line": {
          "color": "green",
          "width": 3
         },
         "mode": "lines",
         "showlegend": false,
         "type": "scatter",
         "x": [
          "2024-05-16T00:00:00",
          "2024-05-17T00:00:00"
         ],
         "xaxis": "x",
         "y": [
          251.72,
          251.83
         ],
         "yaxis": "y"
        },
        {
         "hoverinfo": "none",
         "line": {
          "color": "green",
          "width": 3
         },
         "mode": "lines",
         "showlegend": false,
         "type": "scatter",
         "x": [
          "2024-05-17T00:00:00",
          "2024-05-18T00:00:00"
         ],
         "xaxis": "x",
         "y": [
          251.83,
          251.93
         ],
         "yaxis": "y"
        },
        {
         "hoverinfo": "none",
         "line": {
          "color": "green",
          "width": 3
         },
         "mode": "lines",
         "showlegend": false,
         "type": "scatter",
         "x": [
          "2024-05-18T00:00:00",
          "2024-05-19T00:00:00"
         ],
         "xaxis": "x",
         "y": [
          251.93,
          252.04
         ],
         "yaxis": "y"
        },
        {
         "hoverinfo": "none",
         "line": {
          "color": "red",
          "width": 3
         },
         "mode": "lines",
         "showlegend": false,
         "type": "scatter",
         "x": [
          "2024-05-19T00:00:00",
          "2024-05-20T00:00:00"
         ],
         "xaxis": "x",
         "y": [
          252.04,
          252.02
         ],
         "yaxis": "y"
        },
        {
         "hoverinfo": "none",
         "line": {
          "color": "red",
          "width": 3
         },
         "mode": "lines",
         "showlegend": false,
         "type": "scatter",
         "x": [
          "2024-05-20T00:00:00",
          "2024-05-21T00:00:00"
         ],
         "xaxis": "x",
         "y": [
          252.02,
          252.01
         ],
         "yaxis": "y"
        },
        {
         "hoverinfo": "none",
         "line": {
          "color": "red",
          "width": 3
         },
         "mode": "lines",
         "showlegend": false,
         "type": "scatter",
         "x": [
          "2024-05-21T00:00:00",
          "2024-05-22T00:00:00"
         ],
         "xaxis": "x",
         "y": [
          252.01,
          251.99
         ],
         "yaxis": "y"
        },
        {
         "hoverinfo": "none",
         "line": {
          "color": "red",
          "width": 3
         },
         "mode": "lines",
         "showlegend": false,
         "type": "scatter",
         "x": [
          "2024-05-22T00:00:00",
          "2024-05-23T00:00:00"
         ],
         "xaxis": "x",
         "y": [
          251.99,
          251.98
         ],
         "yaxis": "y"
        },
        {
         "hoverinfo": "none",
         "line": {
          "color": "red",
          "width": 3
         },
         "mode": "lines",
         "showlegend": false,
         "type": "scatter",
         "x": [
          "2024-05-23T00:00:00",
          "2024-05-24T00:00:00"
         ],
         "xaxis": "x",
         "y": [
          251.98,
          251.96
         ],
         "yaxis": "y"
        },
        {
         "hoverinfo": "none",
         "line": {
          "color": "red",
          "width": 3
         },
         "mode": "lines",
         "showlegend": false,
         "type": "scatter",
         "x": [
          "2024-05-24T00:00:00",
          "2024-05-25T00:00:00"
         ],
         "xaxis": "x",
         "y": [
          251.96,
          251.94
         ],
         "yaxis": "y"
        },
        {
         "hoverinfo": "none",
         "line": {
          "color": "green",
          "width": 3
         },
         "mode": "lines",
         "showlegend": false,
         "type": "scatter",
         "x": [
          "2024-05-25T00:00:00",
          "2024-05-26T00:00:00"
         ],
         "xaxis": "x",
         "y": [
          251.94,
          252.04
         ],
         "yaxis": "y"
        },
        {
         "hoverinfo": "none",
         "line": {
          "color": "green",
          "width": 3
         },
         "mode": "lines",
         "showlegend": false,
         "type": "scatter",
         "x": [
          "2024-05-26T00:00:00",
          "2024-05-27T00:00:00"
         ],
         "xaxis": "x",
         "y": [
          252.04,
          252.14
         ],
         "yaxis": "y"
        },
        {
         "hoverinfo": "none",
         "line": {
          "color": "green",
          "width": 3
         },
         "mode": "lines",
         "showlegend": false,
         "type": "scatter",
         "x": [
          "2024-05-27T00:00:00",
          "2024-05-28T00:00:00"
         ],
         "xaxis": "x",
         "y": [
          252.14,
          252.38
         ],
         "yaxis": "y"
        },
        {
         "hoverinfo": "none",
         "line": {
          "color": "green",
          "width": 3
         },
         "mode": "lines",
         "showlegend": false,
         "type": "scatter",
         "x": [
          "2024-05-28T00:00:00",
          "2024-05-29T00:00:00"
         ],
         "xaxis": "x",
         "y": [
          252.38,
          252.49
         ],
         "yaxis": "y"
        },
        {
         "hoverinfo": "none",
         "line": {
          "color": "green",
          "width": 3
         },
         "mode": "lines",
         "showlegend": false,
         "type": "scatter",
         "x": [
          "2024-05-29T00:00:00",
          "2024-05-30T00:00:00"
         ],
         "xaxis": "x",
         "y": [
          252.49,
          252.59
         ],
         "yaxis": "y"
        },
        {
         "hoverinfo": "none",
         "line": {
          "color": "green",
          "width": 3
         },
         "mode": "lines",
         "showlegend": false,
         "type": "scatter",
         "x": [
          "2024-05-30T00:00:00",
          "2024-05-31T00:00:00"
         ],
         "xaxis": "x",
         "y": [
          252.59,
          252.71
         ],
         "yaxis": "y"
        },
        {
         "hoverinfo": "none",
         "line": {
          "color": "green",
          "width": 3
         },
         "mode": "lines",
         "showlegend": false,
         "type": "scatter",
         "x": [
          "2024-05-31T00:00:00",
          "2024-06-01T00:00:00"
         ],
         "xaxis": "x",
         "y": [
          252.71,
          252.82
         ],
         "yaxis": "y"
        },
        {
         "hoverinfo": "none",
         "line": {
          "color": "green",
          "width": 3
         },
         "mode": "lines",
         "showlegend": false,
         "type": "scatter",
         "x": [
          "2024-06-01T00:00:00",
          "2024-06-02T00:00:00"
         ],
         "xaxis": "x",
         "y": [
          252.82,
          253.05
         ],
         "yaxis": "y"
        },
        {
         "hoverinfo": "none",
         "line": {
          "color": "green",
          "width": 3
         },
         "mode": "lines",
         "showlegend": false,
         "type": "scatter",
         "x": [
          "2024-06-02T00:00:00",
          "2024-06-03T00:00:00"
         ],
         "xaxis": "x",
         "y": [
          253.05,
          253.18
         ],
         "yaxis": "y"
        },
        {
         "hoverinfo": "none",
         "line": {
          "color": "green",
          "width": 3
         },
         "mode": "lines",
         "showlegend": false,
         "type": "scatter",
         "x": [
          "2024-06-03T00:00:00",
          "2024-06-04T00:00:00"
         ],
         "xaxis": "x",
         "y": [
          253.18,
          253.43
         ],
         "yaxis": "y"
        },
        {
         "hoverinfo": "none",
         "line": {
          "color": "green",
          "width": 3
         },
         "mode": "lines",
         "showlegend": false,
         "type": "scatter",
         "x": [
          "2024-06-04T00:00:00",
          "2024-06-05T00:00:00"
         ],
         "xaxis": "x",
         "y": [
          253.43,
          253.55
         ],
         "yaxis": "y"
        },
        {
         "hoverinfo": "none",
         "line": {
          "color": "green",
          "width": 3
         },
         "mode": "lines",
         "showlegend": false,
         "type": "scatter",
         "x": [
          "2024-06-05T00:00:00",
          "2024-06-06T00:00:00"
         ],
         "xaxis": "x",
         "y": [
          253.55,
          253.74
         ],
         "yaxis": "y"
        },
        {
         "hoverinfo": "none",
         "line": {
          "color": "green",
          "width": 3
         },
         "mode": "lines",
         "showlegend": false,
         "type": "scatter",
         "x": [
          "2024-06-06T00:00:00",
          "2024-06-07T00:00:00"
         ],
         "xaxis": "x",
         "y": [
          253.74,
          253.88
         ],
         "yaxis": "y"
        },
        {
         "hoverinfo": "none",
         "line": {
          "color": "green",
          "width": 3
         },
         "mode": "lines",
         "showlegend": false,
         "type": "scatter",
         "x": [
          "2024-06-07T00:00:00",
          "2024-06-08T00:00:00"
         ],
         "xaxis": "x",
         "y": [
          253.88,
          254.12
         ],
         "yaxis": "y"
        },
        {
         "hoverinfo": "none",
         "line": {
          "color": "green",
          "width": 3
         },
         "mode": "lines",
         "showlegend": false,
         "type": "scatter",
         "x": [
          "2024-06-08T00:00:00",
          "2024-06-09T00:00:00"
         ],
         "xaxis": "x",
         "y": [
          254.12,
          254.38
         ],
         "yaxis": "y"
        },
        {
         "hoverinfo": "none",
         "line": {
          "color": "green",
          "width": 3
         },
         "mode": "lines",
         "showlegend": false,
         "type": "scatter",
         "x": [
          "2024-06-09T00:00:00",
          "2024-06-10T00:00:00"
         ],
         "xaxis": "x",
         "y": [
          254.38,
          254.53
         ],
         "yaxis": "y"
        },
        {
         "hoverinfo": "none",
         "line": {
          "color": "green",
          "width": 3
         },
         "mode": "lines",
         "showlegend": false,
         "type": "scatter",
         "x": [
          "2024-06-10T00:00:00",
          "2024-06-11T00:00:00"
         ],
         "xaxis": "x",
         "y": [
          254.53,
          254.66
         ],
         "yaxis": "y"
        },
        {
         "hoverinfo": "none",
         "line": {
          "color": "green",
          "width": 3
         },
         "mode": "lines",
         "showlegend": false,
         "type": "scatter",
         "x": [
          "2024-06-11T00:00:00",
          "2024-06-12T00:00:00"
         ],
         "xaxis": "x",
         "y": [
          254.66,
          254.68
         ],
         "yaxis": "y"
        },
        {
         "hoverinfo": "none",
         "line": {
          "color": "green",
          "width": 3
         },
         "mode": "lines",
         "showlegend": false,
         "type": "scatter",
         "x": [
          "2024-06-12T00:00:00",
          "2024-06-13T00:00:00"
         ],
         "xaxis": "x",
         "y": [
          254.68,
          254.7
         ],
         "yaxis": "y"
        },
        {
         "hoverinfo": "none",
         "line": {
          "color": "green",
          "width": 3
         },
         "mode": "lines",
         "showlegend": false,
         "type": "scatter",
         "x": [
          "2024-06-13T00:00:00",
          "2024-06-14T00:00:00"
         ],
         "xaxis": "x",
         "y": [
          254.7,
          254.77
         ],
         "yaxis": "y"
        },
        {
         "hoverinfo": "none",
         "line": {
          "color": "green",
          "width": 3
         },
         "mode": "lines",
         "showlegend": false,
         "type": "scatter",
         "x": [
          "2024-06-14T00:00:00",
          "2024-06-15T00:00:00"
         ],
         "xaxis": "x",
         "y": [
          254.77,
          254.9
         ],
         "yaxis": "y"
        },
        {
         "hoverinfo": "none",
         "line": {
          "color": "green",
          "width": 3
         },
         "mode": "lines",
         "showlegend": false,
         "type": "scatter",
         "x": [
          "2024-06-15T00:00:00",
          "2024-06-16T00:00:00"
         ],
         "xaxis": "x",
         "y": [
          254.9,
          254.92
         ],
         "yaxis": "y"
        },
        {
         "hoverinfo": "none",
         "line": {
          "color": "green",
          "width": 3
         },
         "mode": "lines",
         "showlegend": false,
         "type": "scatter",
         "x": [
          "2024-06-16T00:00:00",
          "2024-06-17T00:00:00"
         ],
         "xaxis": "x",
         "y": [
          254.92,
          255.05
         ],
         "yaxis": "y"
        },
        {
         "hoverinfo": "none",
         "line": {
          "color": "green",
          "width": 3
         },
         "mode": "lines",
         "showlegend": false,
         "type": "scatter",
         "x": [
          "2024-06-17T00:00:00",
          "2024-06-18T00:00:00"
         ],
         "xaxis": "x",
         "y": [
          255.05,
          255.18
         ],
         "yaxis": "y"
        },
        {
         "hoverinfo": "none",
         "line": {
          "color": "green",
          "width": 3
         },
         "mode": "lines",
         "showlegend": false,
         "type": "scatter",
         "x": [
          "2024-06-18T00:00:00",
          "2024-06-19T00:00:00"
         ],
         "xaxis": "x",
         "y": [
          255.18,
          255.31
         ],
         "yaxis": "y"
        },
        {
         "marker": {
          "color": [
           "green",
           "green",
           "green",
           "green",
           "green",
           "green",
           "green",
           "green",
           "green",
           "green",
           "green",
           "green",
           "green",
           "green",
           "green",
           "green",
           "green",
           "green",
           "green",
           "green",
           "green",
           "green",
           "green",
           "green",
           "green",
           "green",
           "green",
           "green",
           "green",
           "green",
           "green",
           "green",
           "green",
           "green",
           "green",
           "green",
           "green",
           "green",
           "green",
           "green",
           "green",
           "green",
           "green",
           "green",
           "green",
           "green",
           "green",
           "green",
           "green",
           "green",
           "green",
           "green",
           "green",
           "green",
           "green",
           "green",
           "green",
           "green",
           "green",
           "green",
           "green",
           "green",
           "green",
           "green",
           "green"
          ]
         },
         "name": "Sales Volume",
         "type": "bar",
         "x": [
          "2019-01-01T00:00:00",
          "2019-02-01T00:00:00",
          "2019-03-01T00:00:00",
          "2019-04-01T00:00:00",
          "2019-05-01T00:00:00",
          "2019-06-01T00:00:00",
          "2019-07-01T00:00:00",
          "2019-08-01T00:00:00",
          "2019-09-01T00:00:00",
          "2019-10-01T00:00:00",
          "2019-11-01T00:00:00",
          "2019-12-01T00:00:00",
          "2020-01-01T00:00:00",
          "2020-02-01T00:00:00",
          "2020-03-01T00:00:00",
          "2020-04-01T00:00:00",
          "2020-05-01T00:00:00",
          "2020-06-01T00:00:00",
          "2020-07-01T00:00:00",
          "2020-08-01T00:00:00",
          "2020-09-01T00:00:00",
          "2020-10-01T00:00:00",
          "2020-11-01T00:00:00",
          "2020-12-01T00:00:00",
          "2021-01-01T00:00:00",
          "2021-02-01T00:00:00",
          "2021-03-01T00:00:00",
          "2021-04-01T00:00:00",
          "2021-05-01T00:00:00",
          "2021-06-01T00:00:00",
          "2021-07-01T00:00:00",
          "2021-08-01T00:00:00",
          "2021-09-01T00:00:00",
          "2021-10-01T00:00:00",
          "2021-11-01T00:00:00",
          "2021-12-01T00:00:00",
          "2022-01-01T00:00:00",
          "2022-02-01T00:00:00",
          "2022-03-01T00:00:00",
          "2022-04-01T00:00:00",
          "2022-05-01T00:00:00",
          "2022-06-01T00:00:00",
          "2022-07-01T00:00:00",
          "2022-08-01T00:00:00",
          "2022-09-01T00:00:00",
          "2022-10-01T00:00:00",
          "2022-11-01T00:00:00",
          "2022-12-01T00:00:00",
          "2023-01-01T00:00:00",
          "2023-02-01T00:00:00",
          "2023-03-01T00:00:00",
          "2023-04-01T00:00:00",
          "2023-05-01T00:00:00",
          "2023-06-01T00:00:00",
          "2023-07-01T00:00:00",
          "2023-08-01T00:00:00",
          "2023-09-01T00:00:00",
          "2023-10-01T00:00:00",
          "2023-11-01T00:00:00",
          "2023-12-01T00:00:00",
          "2024-01-01T00:00:00",
          "2024-02-01T00:00:00",
          "2024-03-01T00:00:00",
          "2024-04-01T00:00:00",
          "2024-05-01T00:00:00"
         ],
         "xaxis": "x2",
         "y": [
          1624,
          1769,
          2118,
          2259,
          2365,
          2142,
          2359,
          2390,
          2114,
          2369,
          2000,
          2129,
          2124,
          2138,
          2348,
          1682,
          1614,
          2509,
          2738,
          2596,
          2684,
          2633,
          2524,
          2626,
          2251,
          2515,
          3241,
          3060,
          2727,
          3419,
          2824,
          2849,
          2792,
          2658,
          2949,
          2836,
          2416,
          2309,
          3002,
          2691,
          2585,
          2730,
          2165,
          2069,
          2113,
          1753,
          1642,
          1410,
          1425,
          1620,
          2171,
          1704,
          2135,
          2044,
          1790,
          1934,
          1633,
          1612,
          1392,
          1394,
          1510,
          1592,
          1750,
          1999,
          1993
         ],
         "yaxis": "y2"
        },
        {
         "line": {
          "color": "#FFA500",
          "width": 2
         },
         "mode": "lines",
         "name": "6-Month Moving Average",
         "showlegend": false,
         "type": "scatter",
         "x": [
          "2019-01-01T00:00:00",
          "2019-02-01T00:00:00",
          "2019-03-01T00:00:00",
          "2019-04-01T00:00:00",
          "2019-05-01T00:00:00",
          "2019-06-01T00:00:00",
          "2019-07-01T00:00:00",
          "2019-08-01T00:00:00",
          "2019-09-01T00:00:00",
          "2019-10-01T00:00:00",
          "2019-11-01T00:00:00",
          "2019-12-01T00:00:00",
          "2020-01-01T00:00:00",
          "2020-02-01T00:00:00",
          "2020-03-01T00:00:00",
          "2020-04-01T00:00:00",
          "2020-05-01T00:00:00",
          "2020-06-01T00:00:00",
          "2020-07-01T00:00:00",
          "2020-08-01T00:00:00",
          "2020-09-01T00:00:00",
          "2020-10-01T00:00:00",
          "2020-11-01T00:00:00",
          "2020-12-01T00:00:00",
          "2021-01-01T00:00:00",
          "2021-02-01T00:00:00",
          "2021-03-01T00:00:00",
          "2021-04-01T00:00:00",
          "2021-05-01T00:00:00",
          "2021-06-01T00:00:00",
          "2021-07-01T00:00:00",
          "2021-08-01T00:00:00",
          "2021-09-01T00:00:00",
          "2021-10-01T00:00:00",
          "2021-11-01T00:00:00",
          "2021-12-01T00:00:00",
          "2022-01-01T00:00:00",
          "2022-02-01T00:00:00",
          "2022-03-01T00:00:00",
          "2022-04-01T00:00:00",
          "2022-05-01T00:00:00",
          "2022-06-01T00:00:00",
          "2022-07-01T00:00:00",
          "2022-08-01T00:00:00",
          "2022-09-01T00:00:00",
          "2022-10-01T00:00:00",
          "2022-11-01T00:00:00",
          "2022-12-01T00:00:00",
          "2023-01-01T00:00:00",
          "2023-02-01T00:00:00",
          "2023-03-01T00:00:00",
          "2023-04-01T00:00:00",
          "2023-05-01T00:00:00",
          "2023-06-01T00:00:00",
          "2023-07-01T00:00:00",
          "2023-08-01T00:00:00",
          "2023-09-01T00:00:00",
          "2023-10-01T00:00:00",
          "2023-11-01T00:00:00",
          "2023-12-01T00:00:00",
          "2024-01-01T00:00:00",
          "2024-02-01T00:00:00",
          "2024-03-01T00:00:00",
          "2024-04-01T00:00:00",
          "2024-05-01T00:00:00"
         ],
         "xaxis": "x2",
         "y": [
          null,
          null,
          null,
          null,
          null,
          2046.17,
          2168.67,
          2272.17,
          2271.5,
          2289.83,
          2229,
          2226.83,
          2187.67,
          2145.67,
          2184.67,
          2070.17,
          2005.83,
          2069.17,
          2171.5,
          2247.83,
          2303.83,
          2462.33,
          2614,
          2633.5,
          2552.33,
          2538.83,
          2631.67,
          2702.83,
          2736.67,
          2868.83,
          2964.33,
          3020,
          2945.17,
          2878.17,
          2915.17,
          2818,
          2750,
          2660,
          2695,
          2700.5,
          2639.83,
          2622.17,
          2580.33,
          2540.33,
          2392.17,
          2235.83,
          2078.67,
          1858.67,
          1735.33,
          1660.5,
          1670.17,
          1662,
          1744.17,
          1849.83,
          1910.67,
          1963,
          1873.33,
          1858,
          1734.17,
          1625.83,
          1579.17,
          1522.17,
          1541.67,
          1606.17,
          1706.33
         ],
         "yaxis": "y2"
        }
       ],
       "layout": {
        "annotations": [
         {
          "font": {
           "color": "#FFFFFF",
           "size": 14
          },
          "showarrow": false,
          "text": "LAS  (Daily) $255.31 (19 June)",
          "x": 0.002,
          "xanchor": "left",
          "xref": "paper",
          "y": 1,
          "yanchor": "top",
          "yref": "paper"
         },
         {
          "font": {
           "color": "#FFFFFF",
           "size": 14
          },
          "showarrow": false,
          "text": "<b>LAS </b> Las Vegas City Parcl Exchange",
          "x": 0,
          "xanchor": "left",
          "xref": "paper",
          "y": 1.07,
          "yanchor": "top",
          "yref": "paper"
         },
         {
          "font": {
           "color": "#FFFFFF",
           "size": 14
          },
          "showarrow": false,
          "text": "19-June-2024",
          "x": 0,
          "xanchor": "left",
          "xref": "paper",
          "y": 1.04,
          "yanchor": "top",
          "yref": "paper"
         },
         {
          "font": {
           "color": "#FFFFFF",
           "size": 14
          },
          "showarrow": false,
          "text": "<b>52w High</b> 255.31 <b>52w Low</b> 236.02 <b>Last</b> 255.31 <b>YoY Change</b> 19.29 (8.17%)",
          "x": 1,
          "xanchor": "right",
          "xref": "paper",
          "y": 1.04,
          "yanchor": "top",
          "yref": "paper"
         },
         {
          "font": {
           "color": "#FFFFFF",
           "size": 14
          },
          "showarrow": false,
          "text": "Sales Volume (Monthly) 1,993.0 (May)",
          "x": 0.003,
          "xanchor": "left",
          "xref": "paper",
          "y": 0.15,
          "yref": "paper"
         },
         {
          "font": {
           "color": "#FFFFFF",
           "size": 14
          },
          "showarrow": false,
          "text": "--- MA(6) 1,706.33",
          "x": 0.003,
          "xanchor": "left",
          "xref": "paper",
          "y": 0.12,
          "yref": "paper"
         }
        ],
        "font": {
         "color": "#FFFFFF"
        },
        "height": 700,
        "hoverlabel": {
         "bgcolor": "#1F1F1F",
         "font": {
          "family": "Rockwell",
          "size": 14
         }
        },
        "hovermode": "x unified",
        "images": [
         {
          "sizex": 0.15,
          "sizey": 0.15,
          "source": "https://parcllabs-assets.s3.amazonaws.com/powered-by-parcllabs-api-logo-white+(1).svg",
          "x": 1,
          "xanchor": "right",
          "xref": "paper",
          "y": 1.07,
          "yanchor": "top",
          "yref": "paper"
         }
        ],
        "margin": {
         "b": 10,
         "l": 10,
         "r": 10,
         "t": 50
        },
        "paper_bgcolor": "#000000",
        "plot_bgcolor": "#000000",
        "showlegend": false,
        "template": {
         "data": {
          "bar": [
           {
            "error_x": {
             "color": "#2a3f5f"
            },
            "error_y": {
             "color": "#2a3f5f"
            },
            "marker": {
             "line": {
              "color": "#E5ECF6",
              "width": 0.5
             },
             "pattern": {
              "fillmode": "overlay",
              "size": 10,
              "solidity": 0.2
             }
            },
            "type": "bar"
           }
          ],
          "barpolar": [
           {
            "marker": {
             "line": {
              "color": "#E5ECF6",
              "width": 0.5
             },
             "pattern": {
              "fillmode": "overlay",
              "size": 10,
              "solidity": 0.2
             }
            },
            "type": "barpolar"
           }
          ],
          "carpet": [
           {
            "aaxis": {
             "endlinecolor": "#2a3f5f",
             "gridcolor": "white",
             "linecolor": "white",
             "minorgridcolor": "white",
             "startlinecolor": "#2a3f5f"
            },
            "baxis": {
             "endlinecolor": "#2a3f5f",
             "gridcolor": "white",
             "linecolor": "white",
             "minorgridcolor": "white",
             "startlinecolor": "#2a3f5f"
            },
            "type": "carpet"
           }
          ],
          "choropleth": [
           {
            "colorbar": {
             "outlinewidth": 0,
             "ticks": ""
            },
            "type": "choropleth"
           }
          ],
          "contour": [
           {
            "colorbar": {
             "outlinewidth": 0,
             "ticks": ""
            },
            "colorscale": [
             [
              0,
              "#0d0887"
             ],
             [
              0.1111111111111111,
              "#46039f"
             ],
             [
              0.2222222222222222,
              "#7201a8"
             ],
             [
              0.3333333333333333,
              "#9c179e"
             ],
             [
              0.4444444444444444,
              "#bd3786"
             ],
             [
              0.5555555555555556,
              "#d8576b"
             ],
             [
              0.6666666666666666,
              "#ed7953"
             ],
             [
              0.7777777777777778,
              "#fb9f3a"
             ],
             [
              0.8888888888888888,
              "#fdca26"
             ],
             [
              1,
              "#f0f921"
             ]
            ],
            "type": "contour"
           }
          ],
          "contourcarpet": [
           {
            "colorbar": {
             "outlinewidth": 0,
             "ticks": ""
            },
            "type": "contourcarpet"
           }
          ],
          "heatmap": [
           {
            "colorbar": {
             "outlinewidth": 0,
             "ticks": ""
            },
            "colorscale": [
             [
              0,
              "#0d0887"
             ],
             [
              0.1111111111111111,
              "#46039f"
             ],
             [
              0.2222222222222222,
              "#7201a8"
             ],
             [
              0.3333333333333333,
              "#9c179e"
             ],
             [
              0.4444444444444444,
              "#bd3786"
             ],
             [
              0.5555555555555556,
              "#d8576b"
             ],
             [
              0.6666666666666666,
              "#ed7953"
             ],
             [
              0.7777777777777778,
              "#fb9f3a"
             ],
             [
              0.8888888888888888,
              "#fdca26"
             ],
             [
              1,
              "#f0f921"
             ]
            ],
            "type": "heatmap"
           }
          ],
          "heatmapgl": [
           {
            "colorbar": {
             "outlinewidth": 0,
             "ticks": ""
            },
            "colorscale": [
             [
              0,
              "#0d0887"
             ],
             [
              0.1111111111111111,
              "#46039f"
             ],
             [
              0.2222222222222222,
              "#7201a8"
             ],
             [
              0.3333333333333333,
              "#9c179e"
             ],
             [
              0.4444444444444444,
              "#bd3786"
             ],
             [
              0.5555555555555556,
              "#d8576b"
             ],
             [
              0.6666666666666666,
              "#ed7953"
             ],
             [
              0.7777777777777778,
              "#fb9f3a"
             ],
             [
              0.8888888888888888,
              "#fdca26"
             ],
             [
              1,
              "#f0f921"
             ]
            ],
            "type": "heatmapgl"
           }
          ],
          "histogram": [
           {
            "marker": {
             "pattern": {
              "fillmode": "overlay",
              "size": 10,
              "solidity": 0.2
             }
            },
            "type": "histogram"
           }
          ],
          "histogram2d": [
           {
            "colorbar": {
             "outlinewidth": 0,
             "ticks": ""
            },
            "colorscale": [
             [
              0,
              "#0d0887"
             ],
             [
              0.1111111111111111,
              "#46039f"
             ],
             [
              0.2222222222222222,
              "#7201a8"
             ],
             [
              0.3333333333333333,
              "#9c179e"
             ],
             [
              0.4444444444444444,
              "#bd3786"
             ],
             [
              0.5555555555555556,
              "#d8576b"
             ],
             [
              0.6666666666666666,
              "#ed7953"
             ],
             [
              0.7777777777777778,
              "#fb9f3a"
             ],
             [
              0.8888888888888888,
              "#fdca26"
             ],
             [
              1,
              "#f0f921"
             ]
            ],
            "type": "histogram2d"
           }
          ],
          "histogram2dcontour": [
           {
            "colorbar": {
             "outlinewidth": 0,
             "ticks": ""
            },
            "colorscale": [
             [
              0,
              "#0d0887"
             ],
             [
              0.1111111111111111,
              "#46039f"
             ],
             [
              0.2222222222222222,
              "#7201a8"
             ],
             [
              0.3333333333333333,
              "#9c179e"
             ],
             [
              0.4444444444444444,
              "#bd3786"
             ],
             [
              0.5555555555555556,
              "#d8576b"
             ],
             [
              0.6666666666666666,
              "#ed7953"
             ],
             [
              0.7777777777777778,
              "#fb9f3a"
             ],
             [
              0.8888888888888888,
              "#fdca26"
             ],
             [
              1,
              "#f0f921"
             ]
            ],
            "type": "histogram2dcontour"
           }
          ],
          "mesh3d": [
           {
            "colorbar": {
             "outlinewidth": 0,
             "ticks": ""
            },
            "type": "mesh3d"
           }
          ],
          "parcoords": [
           {
            "line": {
             "colorbar": {
              "outlinewidth": 0,
              "ticks": ""
             }
            },
            "type": "parcoords"
           }
          ],
          "pie": [
           {
            "automargin": true,
            "type": "pie"
           }
          ],
          "scatter": [
           {
            "fillpattern": {
             "fillmode": "overlay",
             "size": 10,
             "solidity": 0.2
            },
            "type": "scatter"
           }
          ],
          "scatter3d": [
           {
            "line": {
             "colorbar": {
              "outlinewidth": 0,
              "ticks": ""
             }
            },
            "marker": {
             "colorbar": {
              "outlinewidth": 0,
              "ticks": ""
             }
            },
            "type": "scatter3d"
           }
          ],
          "scattercarpet": [
           {
            "marker": {
             "colorbar": {
              "outlinewidth": 0,
              "ticks": ""
             }
            },
            "type": "scattercarpet"
           }
          ],
          "scattergeo": [
           {
            "marker": {
             "colorbar": {
              "outlinewidth": 0,
              "ticks": ""
             }
            },
            "type": "scattergeo"
           }
          ],
          "scattergl": [
           {
            "marker": {
             "colorbar": {
              "outlinewidth": 0,
              "ticks": ""
             }
            },
            "type": "scattergl"
           }
          ],
          "scattermapbox": [
           {
            "marker": {
             "colorbar": {
              "outlinewidth": 0,
              "ticks": ""
             }
            },
            "type": "scattermapbox"
           }
          ],
          "scatterpolar": [
           {
            "marker": {
             "colorbar": {
              "outlinewidth": 0,
              "ticks": ""
             }
            },
            "type": "scatterpolar"
           }
          ],
          "scatterpolargl": [
           {
            "marker": {
             "colorbar": {
              "outlinewidth": 0,
              "ticks": ""
             }
            },
            "type": "scatterpolargl"
           }
          ],
          "scatterternary": [
           {
            "marker": {
             "colorbar": {
              "outlinewidth": 0,
              "ticks": ""
             }
            },
            "type": "scatterternary"
           }
          ],
          "surface": [
           {
            "colorbar": {
             "outlinewidth": 0,
             "ticks": ""
            },
            "colorscale": [
             [
              0,
              "#0d0887"
             ],
             [
              0.1111111111111111,
              "#46039f"
             ],
             [
              0.2222222222222222,
              "#7201a8"
             ],
             [
              0.3333333333333333,
              "#9c179e"
             ],
             [
              0.4444444444444444,
              "#bd3786"
             ],
             [
              0.5555555555555556,
              "#d8576b"
             ],
             [
              0.6666666666666666,
              "#ed7953"
             ],
             [
              0.7777777777777778,
              "#fb9f3a"
             ],
             [
              0.8888888888888888,
              "#fdca26"
             ],
             [
              1,
              "#f0f921"
             ]
            ],
            "type": "surface"
           }
          ],
          "table": [
           {
            "cells": {
             "fill": {
              "color": "#EBF0F8"
             },
             "line": {
              "color": "white"
             }
            },
            "header": {
             "fill": {
              "color": "#C8D4E3"
             },
             "line": {
              "color": "white"
             }
            },
            "type": "table"
           }
          ]
         },
         "layout": {
          "annotationdefaults": {
           "arrowcolor": "#2a3f5f",
           "arrowhead": 0,
           "arrowwidth": 1
          },
          "autotypenumbers": "strict",
          "coloraxis": {
           "colorbar": {
            "outlinewidth": 0,
            "ticks": ""
           }
          },
          "colorscale": {
           "diverging": [
            [
             0,
             "#8e0152"
            ],
            [
             0.1,
             "#c51b7d"
            ],
            [
             0.2,
             "#de77ae"
            ],
            [
             0.3,
             "#f1b6da"
            ],
            [
             0.4,
             "#fde0ef"
            ],
            [
             0.5,
             "#f7f7f7"
            ],
            [
             0.6,
             "#e6f5d0"
            ],
            [
             0.7,
             "#b8e186"
            ],
            [
             0.8,
             "#7fbc41"
            ],
            [
             0.9,
             "#4d9221"
            ],
            [
             1,
             "#276419"
            ]
           ],
           "sequential": [
            [
             0,
             "#0d0887"
            ],
            [
             0.1111111111111111,
             "#46039f"
            ],
            [
             0.2222222222222222,
             "#7201a8"
            ],
            [
             0.3333333333333333,
             "#9c179e"
            ],
            [
             0.4444444444444444,
             "#bd3786"
            ],
            [
             0.5555555555555556,
             "#d8576b"
            ],
            [
             0.6666666666666666,
             "#ed7953"
            ],
            [
             0.7777777777777778,
             "#fb9f3a"
            ],
            [
             0.8888888888888888,
             "#fdca26"
            ],
            [
             1,
             "#f0f921"
            ]
           ],
           "sequentialminus": [
            [
             0,
             "#0d0887"
            ],
            [
             0.1111111111111111,
             "#46039f"
            ],
            [
             0.2222222222222222,
             "#7201a8"
            ],
            [
             0.3333333333333333,
             "#9c179e"
            ],
            [
             0.4444444444444444,
             "#bd3786"
            ],
            [
             0.5555555555555556,
             "#d8576b"
            ],
            [
             0.6666666666666666,
             "#ed7953"
            ],
            [
             0.7777777777777778,
             "#fb9f3a"
            ],
            [
             0.8888888888888888,
             "#fdca26"
            ],
            [
             1,
             "#f0f921"
            ]
           ]
          },
          "colorway": [
           "#636efa",
           "#EF553B",
           "#00cc96",
           "#ab63fa",
           "#FFA15A",
           "#19d3f3",
           "#FF6692",
           "#B6E880",
           "#FF97FF",
           "#FECB52"
          ],
          "font": {
           "color": "#2a3f5f"
          },
          "geo": {
           "bgcolor": "white",
           "lakecolor": "white",
           "landcolor": "#E5ECF6",
           "showlakes": true,
           "showland": true,
           "subunitcolor": "white"
          },
          "hoverlabel": {
           "align": "left"
          },
          "hovermode": "closest",
          "mapbox": {
           "style": "light"
          },
          "paper_bgcolor": "white",
          "plot_bgcolor": "#E5ECF6",
          "polar": {
           "angularaxis": {
            "gridcolor": "white",
            "linecolor": "white",
            "ticks": ""
           },
           "bgcolor": "#E5ECF6",
           "radialaxis": {
            "gridcolor": "white",
            "linecolor": "white",
            "ticks": ""
           }
          },
          "scene": {
           "xaxis": {
            "backgroundcolor": "#E5ECF6",
            "gridcolor": "white",
            "gridwidth": 2,
            "linecolor": "white",
            "showbackground": true,
            "ticks": "",
            "zerolinecolor": "white"
           },
           "yaxis": {
            "backgroundcolor": "#E5ECF6",
            "gridcolor": "white",
            "gridwidth": 2,
            "linecolor": "white",
            "showbackground": true,
            "ticks": "",
            "zerolinecolor": "white"
           },
           "zaxis": {
            "backgroundcolor": "#E5ECF6",
            "gridcolor": "white",
            "gridwidth": 2,
            "linecolor": "white",
            "showbackground": true,
            "ticks": "",
            "zerolinecolor": "white"
           }
          },
          "shapedefaults": {
           "line": {
            "color": "#2a3f5f"
           }
          },
          "ternary": {
           "aaxis": {
            "gridcolor": "white",
            "linecolor": "white",
            "ticks": ""
           },
           "baxis": {
            "gridcolor": "white",
            "linecolor": "white",
            "ticks": ""
           },
           "bgcolor": "#E5ECF6",
           "caxis": {
            "gridcolor": "white",
            "linecolor": "white",
            "ticks": ""
           }
          },
          "title": {
           "x": 0.05
          },
          "xaxis": {
           "automargin": true,
           "gridcolor": "white",
           "linecolor": "white",
           "ticks": "",
           "title": {
            "standoff": 15
           },
           "zerolinecolor": "white",
           "zerolinewidth": 2
          },
          "yaxis": {
           "automargin": true,
           "gridcolor": "white",
           "linecolor": "white",
           "ticks": "",
           "title": {
            "standoff": 15
           },
           "zerolinecolor": "white",
           "zerolinewidth": 2
          }
         }
        },
        "width": 1200,
        "xaxis": {
         "anchor": "y",
         "domain": [
          0,
          1
         ],
         "gridcolor": "rgba(255, 255, 255, 0.2)",
         "linecolor": "#FFFFFF",
         "linewidth": 2,
         "mirror": true,
         "range": [
          "2019-01-01T00:00:00",
          "2024-06-19T00:00:00"
         ],
         "showgrid": true,
         "showline": true,
         "tickangle": 0,
         "tickfont": {
          "size": 14
         },
         "tickformat": "`%y",
         "title": {
          "text": ""
         }
        },
        "xaxis2": {
         "anchor": "y2",
         "domain": [
          0,
          1
         ],
         "gridcolor": "rgba(255, 255, 255, 0.2)",
         "linecolor": "#FFFFFF",
         "linewidth": 2,
         "mirror": true,
         "range": [
          "2019-01-01T00:00:00",
          "2024-06-19T00:00:00"
         ],
         "showgrid": true,
         "showline": true,
         "tickangle": 0,
         "tickfont": {
          "size": 14
         },
         "tickformat": "`%y",
         "title": {
          "text": ""
         }
        },
        "yaxis": {
         "anchor": "x",
         "domain": [
          0.24,
          1
         ],
         "gridcolor": "rgba(255, 255, 255, 0.2)",
         "gridwidth": 0.5,
         "linecolor": "#FFFFFF",
         "linewidth": 2,
         "mirror": true,
         "range": [
          148.75,
          269.8
         ],
         "rangemode": "normal",
         "showgrid": true,
         "showline": true,
         "side": "right",
         "tickfont": {
          "size": 14
         },
         "ticks": "outside",
         "ticksuffix": "",
         "zeroline": false
        },
        "yaxis2": {
         "anchor": "x2",
         "domain": [
          0,
          0.19
         ],
         "gridcolor": "rgba(255, 255, 255, 0.2)",
         "gridwidth": 0.5,
         "linecolor": "#FFFFFF",
         "linewidth": 2,
         "mirror": true,
         "range": [
          1382,
          3429
         ],
         "rangemode": "normal",
         "showgrid": true,
         "showline": true,
         "side": "right",
         "tickfont": {
          "size": 14
         },
         "ticks": "outside",
         "ticksuffix": "",
         "zeroline": false
        }
       }
      }
     },
     "metadata": {},
     "output_type": "display_data"
    }
   ],
   "source": [
    "build_technical_chart(\n",
    "    line_chart_df=lv_pricefeed,\n",
    "    bar_chart_df=lv_demand,\n",
    "    value_name_main='price_feed',\n",
    "    value_name_secondary='sales',\n",
    "    header_left_primary_text=ticker_msg,\n",
    "    header_left_secondary_text=last_pf_date,\n",
    "    header_right_primary_text=msg,\n",
    "    line_chart_left_primary_text=pricefeed_msg,\n",
    "    bar_chart_left_primary_text=volume_msg,\n",
    "    # save_path='lv_chart.png',\n",
    ")"
   ]
  },
  {
   "cell_type": "code",
   "execution_count": null,
   "metadata": {},
   "outputs": [],
   "source": []
  }
 ],
 "metadata": {
  "kernelspec": {
   "display_name": "gpt-spec-mjMMhwjp",
   "language": "python",
   "name": "python3"
  },
  "language_info": {
   "codemirror_mode": {
    "name": "ipython",
    "version": 3
   },
   "file_extension": ".py",
   "mimetype": "text/x-python",
   "name": "python",
   "nbconvert_exporter": "python",
   "pygments_lexer": "ipython3",
   "version": "3.11.9"
  }
 },
 "nbformat": 4,
 "nbformat_minor": 2
}
