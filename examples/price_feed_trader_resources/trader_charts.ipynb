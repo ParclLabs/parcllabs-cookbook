{
 "cells": [
  {
   "cell_type": "markdown",
   "metadata": {},
   "source": [
    "<center>\n",
    "<h1>Welcome to the Lab 🥼🧪</h1>\n",
    "</center>\n",
    "\n",
    "### How can I create technical chart analysis of real time price feeds?\n",
    "\n",
    "In this notebook, we will be creating a simple technical analysis chart of real time price feeds. It will include rates of change for prices overlayed by housing demand metrics via home purchases.\n",
    "\n",
    "#### What will you create in this notebook?\n",
    "\n",
    "<p align=\"center\">\n",
    "  <img src=\"../../images/technical_pf_usa_vs_demand_chart.png\" alt=\"Alt text\">\n",
    "</p>\n",
    "\n",
    "#### Need help getting started?\n",
    "\n",
    "As a reminder, you can get your Parcl Labs API key [here](https://dashboard.parcllabs.com/signup) to follow along.\n",
    "\n",
    "To run this immediately, you can use Google Colab. Remember, you must set your `PARCL_LABS_API_KEY`.\n",
    "\n",
    "Run in collab --> [![Open in Colab](https://colab.research.google.com/assets/colab-badge.svg)](https://colab.research.google.com/github/ParclLabs/parcllabs-cookbook/blob/main/examples/price_feed_trader_resources/trader_charts.ipynb)"
   ]
  },
  {
   "cell_type": "markdown",
   "metadata": {},
   "source": [
    "### 1. Import the Parcl Labs Python Library"
   ]
  },
  {
   "cell_type": "code",
   "execution_count": null,
   "metadata": {},
   "outputs": [],
   "source": [
    "# if needed, install and/or upgrade to the latest verison of the Parcl Labs Python library\n",
    "%pip install --upgrade parcllabs nbformat"
   ]
  },
  {
   "cell_type": "code",
   "execution_count": 1,
   "metadata": {},
   "outputs": [],
   "source": [
    "import os\n",
    "import numpy as np\n",
    "import pandas as pd\n",
    "from parcllabs import ParclLabsClient\n",
    "from parcllabs.beta.ts_stats import TimeSeriesAnalysis\n",
    "from parcllabs.beta.charting.name_formats import format_names, create_ticker\n",
    "from parcllabs.beta.charting.technical_charts import build_technical_chart\n",
    "\n",
    "client = ParclLabsClient(\n",
    "    api_key=os.environ.get('PARCL_LABS_API_KEY', \"<your Parcl Labs API key if not set as environment variable>\"), \n",
    "    limit=12 # set default limit\n",
    ")"
   ]
  },
  {
   "cell_type": "markdown",
   "metadata": {},
   "source": [
    "### 2. Search for Price Feed Markets on Parcl Exchange"
   ]
  },
  {
   "cell_type": "code",
   "execution_count": 2,
   "metadata": {},
   "outputs": [],
   "source": [
    "sales_pricefeed_markets = client.search.markets.retrieve(\n",
    "    query='United States',\n",
    "    sort_by='PARCL_EXCHANGE_MARKET',\n",
    "    sort_order='DESC',\n",
    "    limit=1\n",
    ")\n",
    "\n",
    "sales_pricefeed_markets['clean_name'] = sales_pricefeed_markets['name'].apply(format_names)\n",
    "sales_pricefeed_markets['ticker'] = sales_pricefeed_markets['clean_name'].apply(create_ticker)"
   ]
  },
  {
   "cell_type": "code",
   "execution_count": 3,
   "metadata": {},
   "outputs": [
    {
     "data": {
      "text/html": [
       "<div>\n",
       "<style scoped>\n",
       "    .dataframe tbody tr th:only-of-type {\n",
       "        vertical-align: middle;\n",
       "    }\n",
       "\n",
       "    .dataframe tbody tr th {\n",
       "        vertical-align: top;\n",
       "    }\n",
       "\n",
       "    .dataframe thead th {\n",
       "        text-align: right;\n",
       "    }\n",
       "</style>\n",
       "<table border=\"1\" class=\"dataframe\">\n",
       "  <thead>\n",
       "    <tr style=\"text-align: right;\">\n",
       "      <th></th>\n",
       "      <th>parcl_id</th>\n",
       "      <th>country</th>\n",
       "      <th>geoid</th>\n",
       "      <th>state_fips_code</th>\n",
       "      <th>name</th>\n",
       "      <th>state_abbreviation</th>\n",
       "      <th>region</th>\n",
       "      <th>location_type</th>\n",
       "      <th>total_population</th>\n",
       "      <th>median_income</th>\n",
       "      <th>parcl_exchange_market</th>\n",
       "      <th>pricefeed_market</th>\n",
       "      <th>case_shiller_10_market</th>\n",
       "      <th>case_shiller_20_market</th>\n",
       "      <th>clean_name</th>\n",
       "      <th>ticker</th>\n",
       "    </tr>\n",
       "  </thead>\n",
       "  <tbody>\n",
       "    <tr>\n",
       "      <th>0</th>\n",
       "      <td>5826765</td>\n",
       "      <td>USA</td>\n",
       "      <td>None</td>\n",
       "      <td>None</td>\n",
       "      <td>United States Of America</td>\n",
       "      <td>None</td>\n",
       "      <td>None</td>\n",
       "      <td>COUNTRY</td>\n",
       "      <td>331097593</td>\n",
       "      <td>75149</td>\n",
       "      <td>1</td>\n",
       "      <td>1</td>\n",
       "      <td>0</td>\n",
       "      <td>0</td>\n",
       "      <td>USA</td>\n",
       "      <td>USA</td>\n",
       "    </tr>\n",
       "  </tbody>\n",
       "</table>\n",
       "</div>"
      ],
      "text/plain": [
       "   parcl_id country geoid state_fips_code                      name  \\\n",
       "0   5826765     USA  None            None  United States Of America   \n",
       "\n",
       "  state_abbreviation region location_type  total_population  median_income  \\\n",
       "0               None   None       COUNTRY         331097593          75149   \n",
       "\n",
       "   parcl_exchange_market  pricefeed_market  case_shiller_10_market  \\\n",
       "0                      1                 1                       0   \n",
       "\n",
       "   case_shiller_20_market clean_name ticker  \n",
       "0                       0        USA    USA  "
      ]
     },
     "execution_count": 3,
     "metadata": {},
     "output_type": "execute_result"
    }
   ],
   "source": [
    "sales_pricefeed_markets.head()"
   ]
  },
  {
   "cell_type": "markdown",
   "metadata": {},
   "source": [
    "### 3. Load the data for sales price feeds and sales demand"
   ]
  },
  {
   "cell_type": "code",
   "execution_count": 4,
   "metadata": {},
   "outputs": [
    {
     "name": "stdout",
     "output_type": "stream",
     "text": [
      "|████████████████████████████████████████| 1/1 [100%] in 0.4s (2.42/s) \n"
     ]
    }
   ],
   "source": [
    "# lets retrieve data back to 2011 for these price feeds\n",
    "START_DATE = '2019-01-01'\n",
    "sales_price_feeds = client.price_feed.price_feed.retrieve(\n",
    "    parcl_ids=sales_pricefeed_markets['parcl_id'].tolist(),\n",
    "    start_date=START_DATE,\n",
    "    limit=1000,  # expand the limit to 1000, these are daily series\n",
    "    auto_paginate=True, # auto paginate to get all the data - WARNING: ~6k credits can be used in one parcl price feed. Change the START_DATE to a more recent date to reduce the number of credits used\n",
    ")"
   ]
  },
  {
   "cell_type": "code",
   "execution_count": 5,
   "metadata": {},
   "outputs": [
    {
     "name": "stdout",
     "output_type": "stream",
     "text": [
      "|████████████████████████████████████████| 1/1 [100%] in 0.1s (9.14/s) \n"
     ]
    }
   ],
   "source": [
    "# get supply and demand\n",
    "demand = client.market_metrics.housing_event_counts.retrieve(\n",
    "    parcl_ids=sales_pricefeed_markets['parcl_id'].tolist(),\n",
    "    start_date=START_DATE,\n",
    "    limit=1000,  # expand the limit to 1000, these are daily series\n",
    ")"
   ]
  },
  {
   "cell_type": "markdown",
   "metadata": {},
   "source": [
    "### Prepare the data for analysis/charting"
   ]
  },
  {
   "cell_type": "code",
   "execution_count": 6,
   "metadata": {},
   "outputs": [
    {
     "data": {
      "text/html": [
       "<div>\n",
       "<style scoped>\n",
       "    .dataframe tbody tr th:only-of-type {\n",
       "        vertical-align: middle;\n",
       "    }\n",
       "\n",
       "    .dataframe tbody tr th {\n",
       "        vertical-align: top;\n",
       "    }\n",
       "\n",
       "    .dataframe thead th {\n",
       "        text-align: right;\n",
       "    }\n",
       "</style>\n",
       "<table border=\"1\" class=\"dataframe\">\n",
       "  <thead>\n",
       "    <tr style=\"text-align: right;\">\n",
       "      <th></th>\n",
       "      <th>parcl_id</th>\n",
       "      <th>country</th>\n",
       "      <th>geoid</th>\n",
       "      <th>state_fips_code</th>\n",
       "      <th>name</th>\n",
       "      <th>state_abbreviation</th>\n",
       "      <th>region</th>\n",
       "      <th>location_type</th>\n",
       "      <th>total_population</th>\n",
       "      <th>median_income</th>\n",
       "      <th>parcl_exchange_market</th>\n",
       "      <th>pricefeed_market</th>\n",
       "      <th>case_shiller_10_market</th>\n",
       "      <th>case_shiller_20_market</th>\n",
       "      <th>clean_name</th>\n",
       "      <th>ticker</th>\n",
       "    </tr>\n",
       "  </thead>\n",
       "  <tbody>\n",
       "    <tr>\n",
       "      <th>0</th>\n",
       "      <td>5826765</td>\n",
       "      <td>USA</td>\n",
       "      <td>None</td>\n",
       "      <td>None</td>\n",
       "      <td>United States Of America</td>\n",
       "      <td>None</td>\n",
       "      <td>None</td>\n",
       "      <td>COUNTRY</td>\n",
       "      <td>331097593</td>\n",
       "      <td>75149</td>\n",
       "      <td>1</td>\n",
       "      <td>1</td>\n",
       "      <td>0</td>\n",
       "      <td>0</td>\n",
       "      <td>USA</td>\n",
       "      <td>USA</td>\n",
       "    </tr>\n",
       "  </tbody>\n",
       "</table>\n",
       "</div>"
      ],
      "text/plain": [
       "   parcl_id country geoid state_fips_code                      name  \\\n",
       "0   5826765     USA  None            None  United States Of America   \n",
       "\n",
       "  state_abbreviation region location_type  total_population  median_income  \\\n",
       "0               None   None       COUNTRY         331097593          75149   \n",
       "\n",
       "   parcl_exchange_market  pricefeed_market  case_shiller_10_market  \\\n",
       "0                      1                 1                       0   \n",
       "\n",
       "   case_shiller_20_market clean_name ticker  \n",
       "0                       0        USA    USA  "
      ]
     },
     "execution_count": 6,
     "metadata": {},
     "output_type": "execute_result"
    }
   ],
   "source": [
    "# lets analyze the US housing market on the parcl exchange with parcl_id: 5826765\n",
    "# we can confirm via:\n",
    "pid = 5826765\n",
    "sales_pricefeed_markets[sales_pricefeed_markets['parcl_id'] == pid]"
   ]
  },
  {
   "cell_type": "code",
   "execution_count": 7,
   "metadata": {},
   "outputs": [],
   "source": [
    "pricefeed = sales_price_feeds[sales_price_feeds['parcl_id'] == pid].copy()\n",
    "demand = demand[demand['parcl_id'] == pid].copy()\n",
    "# sort ascending order\n",
    "pricefeed = pricefeed.sort_values('date')\n",
    "demand = demand.sort_values('date')\n",
    "metadata = sales_pricefeed_markets[sales_pricefeed_markets['parcl_id'] == pid]\n",
    "ticker = metadata['ticker'].values[0]\n",
    "name = metadata['name'].values[0]\n",
    "\n",
    "pf_ts_analysis = TimeSeriesAnalysis(pricefeed, 'date', 'price_feed', freq='D')\n",
    "pf_rate_of_change_stats = pf_ts_analysis.calculate_changes()\n",
    "\n",
    "demand_ts_analysis = TimeSeriesAnalysis(demand, 'date', 'sales', freq='M')\n",
    "demand_rate_of_change_stats = demand_ts_analysis.calculate_changes()"
   ]
  },
  {
   "cell_type": "code",
   "execution_count": 8,
   "metadata": {},
   "outputs": [],
   "source": [
    "\n",
    "# get last information for pricefeed\n",
    "last_pricefeed_value = pf_rate_of_change_stats['last']['value']\n",
    "last_pricefeed_date_str = pf_rate_of_change_stats['last']['date']\n",
    "last_pricefeed_date = pd.to_datetime(last_pricefeed_date_str).strftime('%-d %B')\n",
    "last_pf_date = pd.to_datetime(last_pricefeed_date_str).strftime('%-d-%B-%Y')\n",
    "\n",
    "# get last information for demand\n",
    "last_demand_value = demand_rate_of_change_stats['last']['value']\n",
    "last_sales_month = pd.to_datetime(demand_rate_of_change_stats['last']['date']).strftime('%b')"
   ]
  },
  {
   "cell_type": "code",
   "execution_count": 9,
   "metadata": {},
   "outputs": [],
   "source": [
    "# calculate daily return\n",
    "pricefeed['daily_return'] = pricefeed['price_feed'].pct_change()\n",
    "# drop na values\n",
    "pricefeed = pricefeed.dropna().reset_index(drop=True)\n",
    "pricefeed['month'] = pricefeed['date'].dt.month\n",
    "demand['month'] = demand['date'].dt.month\n",
    "# start and end of the month change\n",
    "monthly_returns = pricefeed.groupby('month')['price_feed'].agg(lambda x: x.iloc[-1] / x.iloc[0] - 1).reset_index(name='volColor')"
   ]
  },
  {
   "cell_type": "code",
   "execution_count": 10,
   "metadata": {},
   "outputs": [],
   "source": [
    "# merge monthly returns\n",
    "pricefeed = pricefeed.merge(monthly_returns, on='month', how='left')\n",
    "demand = demand.merge(monthly_returns, on='month', how='left')"
   ]
  },
  {
   "cell_type": "code",
   "execution_count": 11,
   "metadata": {},
   "outputs": [],
   "source": [
    "# Add volColor column directly to data_secondary\n",
    "demand['volColor'] = np.where(demand['volColor'] >= 0, 'green', 'red')"
   ]
  },
  {
   "cell_type": "code",
   "execution_count": 12,
   "metadata": {},
   "outputs": [],
   "source": [
    "# chart labels\n",
    "msg = f\"\"\"\n",
    "<b>52w High</b> {pf_rate_of_change_stats['52_week_high']['value']:.2f} \n",
    "<b>52w Low</b> {pf_rate_of_change_stats['52_week_low']['value']:.2f} \n",
    "<b>Last</b> {pf_rate_of_change_stats['last']['value']:.2f} \n",
    "<b>YoY Change</b> {pf_rate_of_change_stats['12_month']['value_diff']} ({pf_rate_of_change_stats['12_month']['percent_change']*100:.02f}%)\n",
    "\"\"\"\n",
    "msg = msg.replace('\\n', '')\n",
    "\n",
    "\n",
    "ticker_msg = f\"<b>{ticker}</b> {name} Parcl Exchange\"\n",
    "volume_msg = f'Sales Volume (Monthly) {last_demand_value:,} ({last_sales_month})'\n",
    "pricefeed_msg = f'{ticker} (Daily) ${last_pricefeed_value} ({last_pricefeed_date})'"
   ]
  },
  {
   "cell_type": "code",
   "execution_count": 13,
   "metadata": {},
   "outputs": [
    {
     "data": {
      "application/vnd.plotly.v1+json": {
       "config": {
        "plotlyServerURL": "https://plot.ly"
       },
       "data": [
        {
         "hoverinfo": "none",
         "line": {
          "color": "red",
          "width": 3
         },
         "mode": "lines",
         "showlegend": false,
         "type": "scatter",
         "x": [
          "2019-01-02T00:00:00",
          "2019-01-03T00:00:00"
         ],
         "xaxis": "x",
         "y": [
          136.69,
          136.57
         ],
         "yaxis": "y"
        },
        {
         "hoverinfo": "none",
         "line": {
          "color": "red",
          "width": 3
         },
         "mode": "lines",
         "showlegend": false,
         "type": "scatter",
         "x": [
          "2019-01-03T00:00:00",
          "2019-01-04T00:00:00"
         ],
         "xaxis": "x",
         "y": [
          136.57,
          136.43
         ],
         "yaxis": "y"
        },
        {
         "hoverinfo": "none",
         "line": {
          "color": "red",
          "width": 3
         },
         "mode": "lines",
         "showlegend": false,
         "type": "scatter",
         "x": [
          "2019-01-04T00:00:00",
          "2019-01-05T00:00:00"
         ],
         "xaxis": "x",
         "y": [
          136.43,
          136.3
         ],
         "yaxis": "y"
        },
        {
         "hoverinfo": "none",
         "line": {
          "color": "red",
          "width": 3
         },
         "mode": "lines",
         "showlegend": false,
         "type": "scatter",
         "x": [
          "2019-01-05T00:00:00",
          "2019-01-06T00:00:00"
         ],
         "xaxis": "x",
         "y": [
          136.3,
          136.18
         ],
         "yaxis": "y"
        },
        {
         "hoverinfo": "none",
         "line": {
          "color": "red",
          "width": 3
         },
         "mode": "lines",
         "showlegend": false,
         "type": "scatter",
         "x": [
          "2019-01-06T00:00:00",
          "2019-01-07T00:00:00"
         ],
         "xaxis": "x",
         "y": [
          136.18,
          136.07
         ],
         "yaxis": "y"
        },
        {
         "hoverinfo": "none",
         "line": {
          "color": "red",
          "width": 3
         },
         "mode": "lines",
         "showlegend": false,
         "type": "scatter",
         "x": [
          "2019-01-07T00:00:00",
          "2019-01-08T00:00:00"
         ],
         "xaxis": "x",
         "y": [
          136.07,
          136.01
         ],
         "yaxis": "y"
        },
        {
         "hoverinfo": "none",
         "line": {
          "color": "red",
          "width": 3
         },
         "mode": "lines",
         "showlegend": false,
         "type": "scatter",
         "x": [
          "2019-01-08T00:00:00",
          "2019-01-09T00:00:00"
         ],
         "xaxis": "x",
         "y": [
          136.01,
          135.96
         ],
         "yaxis": "y"
        },
        {
         "hoverinfo": "none",
         "line": {
          "color": "red",
          "width": 3
         },
         "mode": "lines",
         "showlegend": false,
         "type": "scatter",
         "x": [
          "2019-01-09T00:00:00",
          "2019-01-10T00:00:00"
         ],
         "xaxis": "x",
         "y": [
          135.96,
          135.91
         ],
         "yaxis": "y"
        },
        {
         "hoverinfo": "none",
         "line": {
          "color": "green",
          "width": 3
         },
         "mode": "lines",
         "showlegend": false,
         "type": "scatter",
         "x": [
          "2019-01-10T00:00:00",
          "2019-01-11T00:00:00"
         ],
         "xaxis": "x",
         "y": [
          135.91,
          135.98
         ],
         "yaxis": "y"
        },
        {
         "hoverinfo": "none",
         "line": {
          "color": "green",
          "width": 3
         },
         "mode": "lines",
         "showlegend": false,
         "type": "scatter",
         "x": [
          "2019-01-11T00:00:00",
          "2019-01-12T00:00:00"
         ],
         "xaxis": "x",
         "y": [
          135.98,
          136.07
         ],
         "yaxis": "y"
        },
        {
         "hoverinfo": "none",
         "line": {
          "color": "green",
          "width": 3
         },
         "mode": "lines",
         "showlegend": false,
         "type": "scatter",
         "x": [
          "2019-01-12T00:00:00",
          "2019-01-13T00:00:00"
         ],
         "xaxis": "x",
         "y": [
          136.07,
          136.17
         ],
         "yaxis": "y"
        },
        {
         "hoverinfo": "none",
         "line": {
          "color": "green",
          "width": 3
         },
         "mode": "lines",
         "showlegend": false,
         "type": "scatter",
         "x": [
          "2019-01-13T00:00:00",
          "2019-01-14T00:00:00"
         ],
         "xaxis": "x",
         "y": [
          136.17,
          136.27
         ],
         "yaxis": "y"
        },
        {
         "hoverinfo": "none",
         "line": {
          "color": "green",
          "width": 3
         },
         "mode": "lines",
         "showlegend": false,
         "type": "scatter",
         "x": [
          "2019-01-14T00:00:00",
          "2019-01-15T00:00:00"
         ],
         "xaxis": "x",
         "y": [
          136.27,
          136.38
         ],
         "yaxis": "y"
        },
        {
         "hoverinfo": "none",
         "line": {
          "color": "green",
          "width": 3
         },
         "mode": "lines",
         "showlegend": false,
         "type": "scatter",
         "x": [
          "2019-01-15T00:00:00",
          "2019-01-16T00:00:00"
         ],
         "xaxis": "x",
         "y": [
          136.38,
          136.45
         ],
         "yaxis": "y"
        },
        {
         "hoverinfo": "none",
         "line": {
          "color": "red",
          "width": 3
         },
         "mode": "lines",
         "showlegend": false,
         "type": "scatter",
         "x": [
          "2019-01-16T00:00:00",
          "2019-01-17T00:00:00"
         ],
         "xaxis": "x",
         "y": [
          136.45,
          136.4
         ],
         "yaxis": "y"
        },
        {
         "hoverinfo": "none",
         "line": {
          "color": "red",
          "width": 3
         },
         "mode": "lines",
         "showlegend": false,
         "type": "scatter",
         "x": [
          "2019-01-17T00:00:00",
          "2019-01-18T00:00:00"
         ],
         "xaxis": "x",
         "y": [
          136.4,
          136.36
         ],
         "yaxis": "y"
        },
        {
         "hoverinfo": "none",
         "line": {
          "color": "red",
          "width": 3
         },
         "mode": "lines",
         "showlegend": false,
         "type": "scatter",
         "x": [
          "2019-01-18T00:00:00",
          "2019-01-19T00:00:00"
         ],
         "xaxis": "x",
         "y": [
          136.36,
          136.32
         ],
         "yaxis": "y"
        },
        {
         "hoverinfo": "none",
         "line": {
          "color": "red",
          "width": 3
         },
         "mode": "lines",
         "showlegend": false,
         "type": "scatter",
         "x": [
          "2019-01-19T00:00:00",
          "2019-01-20T00:00:00"
         ],
         "xaxis": "x",
         "y": [
          136.32,
          136.27
         ],
         "yaxis": "y"
        },
        {
         "hoverinfo": "none",
         "line": {
          "color": "red",
          "width": 3
         },
         "mode": "lines",
         "showlegend": false,
         "type": "scatter",
         "x": [
          "2019-01-20T00:00:00",
          "2019-01-21T00:00:00"
         ],
         "xaxis": "x",
         "y": [
          136.27,
          136.21
         ],
         "yaxis": "y"
        },
        {
         "hoverinfo": "none",
         "line": {
          "color": "red",
          "width": 3
         },
         "mode": "lines",
         "showlegend": false,
         "type": "scatter",
         "x": [
          "2019-01-21T00:00:00",
          "2019-01-22T00:00:00"
         ],
         "xaxis": "x",
         "y": [
          136.21,
          136.14
         ],
         "yaxis": "y"
        },
        {
         "hoverinfo": "none",
         "line": {
          "color": "red",
          "width": 3
         },
         "mode": "lines",
         "showlegend": false,
         "type": "scatter",
         "x": [
          "2019-01-22T00:00:00",
          "2019-01-23T00:00:00"
         ],
         "xaxis": "x",
         "y": [
          136.14,
          136.04
         ],
         "yaxis": "y"
        },
        {
         "hoverinfo": "none",
         "line": {
          "color": "red",
          "width": 3
         },
         "mode": "lines",
         "showlegend": false,
         "type": "scatter",
         "x": [
          "2019-01-23T00:00:00",
          "2019-01-24T00:00:00"
         ],
         "xaxis": "x",
         "y": [
          136.04,
          135.94
         ],
         "yaxis": "y"
        },
        {
         "hoverinfo": "none",
         "line": {
          "color": "green",
          "width": 3
         },
         "mode": "lines",
         "showlegend": false,
         "type": "scatter",
         "x": [
          "2019-01-24T00:00:00",
          "2019-01-25T00:00:00"
         ],
         "xaxis": "x",
         "y": [
          135.94,
          135.94
         ],
         "yaxis": "y"
        },
        {
         "hoverinfo": "none",
         "line": {
          "color": "green",
          "width": 3
         },
         "mode": "lines",
         "showlegend": false,
         "type": "scatter",
         "x": [
          "2019-01-25T00:00:00",
          "2019-01-26T00:00:00"
         ],
         "xaxis": "x",
         "y": [
          135.94,
          135.94
         ],
         "yaxis": "y"
        },
        {
         "hoverinfo": "none",
         "line": {
          "color": "green",
          "width": 3
         },
         "mode": "lines",
         "showlegend": false,
         "type": "scatter",
         "x": [
          "2019-01-26T00:00:00",
          "2019-01-27T00:00:00"
         ],
         "xaxis": "x",
         "y": [
          135.94,
          135.94
         ],
         "yaxis": "y"
        },
        {
         "hoverinfo": "none",
         "line": {
          "color": "red",
          "width": 3
         },
         "mode": "lines",
         "showlegend": false,
         "type": "scatter",
         "x": [
          "2019-01-27T00:00:00",
          "2019-01-28T00:00:00"
         ],
         "xaxis": "x",
         "y": [
          135.94,
          135.92
         ],
         "yaxis": "y"
        },
        {
         "hoverinfo": "none",
         "line": {
          "color": "red",
          "width": 3
         },
         "mode": "lines",
         "showlegend": false,
         "type": "scatter",
         "x": [
          "2019-01-28T00:00:00",
          "2019-01-29T00:00:00"
         ],
         "xaxis": "x",
         "y": [
          135.92,
          135.9
         ],
         "yaxis": "y"
        },
        {
         "hoverinfo": "none",
         "line": {
          "color": "red",
          "width": 3
         },
         "mode": "lines",
         "showlegend": false,
         "type": "scatter",
         "x": [
          "2019-01-29T00:00:00",
          "2019-01-30T00:00:00"
         ],
         "xaxis": "x",
         "y": [
          135.9,
          135.89
         ],
         "yaxis": "y"
        },
        {
         "hoverinfo": "none",
         "line": {
          "color": "red",
          "width": 3
         },
         "mode": "lines",
         "showlegend": false,
         "type": "scatter",
         "x": [
          "2019-01-30T00:00:00",
          "2019-01-31T00:00:00"
         ],
         "xaxis": "x",
         "y": [
          135.89,
          135.87
         ],
         "yaxis": "y"
        },
        {
         "hoverinfo": "none",
         "line": {
          "color": "red",
          "width": 3
         },
         "mode": "lines",
         "showlegend": false,
         "type": "scatter",
         "x": [
          "2019-01-31T00:00:00",
          "2019-02-01T00:00:00"
         ],
         "xaxis": "x",
         "y": [
          135.87,
          135.76
         ],
         "yaxis": "y"
        },
        {
         "hoverinfo": "none",
         "line": {
          "color": "green",
          "width": 3
         },
         "mode": "lines",
         "showlegend": false,
         "type": "scatter",
         "x": [
          "2019-02-01T00:00:00",
          "2019-02-02T00:00:00"
         ],
         "xaxis": "x",
         "y": [
          135.76,
          135.76
         ],
         "yaxis": "y"
        },
        {
         "hoverinfo": "none",
         "line": {
          "color": "green",
          "width": 3
         },
         "mode": "lines",
         "showlegend": false,
         "type": "scatter",
         "x": [
          "2019-02-02T00:00:00",
          "2019-02-03T00:00:00"
         ],
         "xaxis": "x",
         "y": [
          135.76,
          135.78
         ],
         "yaxis": "y"
        },
        {
         "hoverinfo": "none",
         "line": {
          "color": "green",
          "width": 3
         },
         "mode": "lines",
         "showlegend": false,
         "type": "scatter",
         "x": [
          "2019-02-03T00:00:00",
          "2019-02-04T00:00:00"
         ],
         "xaxis": "x",
         "y": [
          135.78,
          135.79
         ],
         "yaxis": "y"
        },
        {
         "hoverinfo": "none",
         "line": {
          "color": "red",
          "width": 3
         },
         "mode": "lines",
         "showlegend": false,
         "type": "scatter",
         "x": [
          "2019-02-04T00:00:00",
          "2019-02-05T00:00:00"
         ],
         "xaxis": "x",
         "y": [
          135.79,
          135.78
         ],
         "yaxis": "y"
        },
        {
         "hoverinfo": "none",
         "line": {
          "color": "red",
          "width": 3
         },
         "mode": "lines",
         "showlegend": false,
         "type": "scatter",
         "x": [
          "2019-02-05T00:00:00",
          "2019-02-06T00:00:00"
         ],
         "xaxis": "x",
         "y": [
          135.78,
          135.76
         ],
         "yaxis": "y"
        },
        {
         "hoverinfo": "none",
         "line": {
          "color": "red",
          "width": 3
         },
         "mode": "lines",
         "showlegend": false,
         "type": "scatter",
         "x": [
          "2019-02-06T00:00:00",
          "2019-02-07T00:00:00"
         ],
         "xaxis": "x",
         "y": [
          135.76,
          135.75
         ],
         "yaxis": "y"
        },
        {
         "hoverinfo": "none",
         "line": {
          "color": "red",
          "width": 3
         },
         "mode": "lines",
         "showlegend": false,
         "type": "scatter",
         "x": [
          "2019-02-07T00:00:00",
          "2019-02-08T00:00:00"
         ],
         "xaxis": "x",
         "y": [
          135.75,
          135.62
         ],
         "yaxis": "y"
        },
        {
         "hoverinfo": "none",
         "line": {
          "color": "green",
          "width": 3
         },
         "mode": "lines",
         "showlegend": false,
         "type": "scatter",
         "x": [
          "2019-02-08T00:00:00",
          "2019-02-09T00:00:00"
         ],
         "xaxis": "x",
         "y": [
          135.62,
          135.62
         ],
         "yaxis": "y"
        },
        {
         "hoverinfo": "none",
         "line": {
          "color": "red",
          "width": 3
         },
         "mode": "lines",
         "showlegend": false,
         "type": "scatter",
         "x": [
          "2019-02-09T00:00:00",
          "2019-02-10T00:00:00"
         ],
         "xaxis": "x",
         "y": [
          135.62,
          135.51
         ],
         "yaxis": "y"
        },
        {
         "hoverinfo": "none",
         "line": {
          "color": "red",
          "width": 3
         },
         "mode": "lines",
         "showlegend": false,
         "type": "scatter",
         "x": [
          "2019-02-10T00:00:00",
          "2019-02-11T00:00:00"
         ],
         "xaxis": "x",
         "y": [
          135.51,
          135.39
         ],
         "yaxis": "y"
        },
        {
         "hoverinfo": "none",
         "line": {
          "color": "red",
          "width": 3
         },
         "mode": "lines",
         "showlegend": false,
         "type": "scatter",
         "x": [
          "2019-02-11T00:00:00",
          "2019-02-12T00:00:00"
         ],
         "xaxis": "x",
         "y": [
          135.39,
          135.26
         ],
         "yaxis": "y"
        },
        {
         "hoverinfo": "none",
         "line": {
          "color": "red",
          "width": 3
         },
         "mode": "lines",
         "showlegend": false,
         "type": "scatter",
         "x": [
          "2019-02-12T00:00:00",
          "2019-02-13T00:00:00"
         ],
         "xaxis": "x",
         "y": [
          135.26,
          135.17
         ],
         "yaxis": "y"
        },
        {
         "hoverinfo": "none",
         "line": {
          "color": "red",
          "width": 3
         },
         "mode": "lines",
         "showlegend": false,
         "type": "scatter",
         "x": [
          "2019-02-13T00:00:00",
          "2019-02-14T00:00:00"
         ],
         "xaxis": "x",
         "y": [
          135.17,
          134.95
         ],
         "yaxis": "y"
        },
        {
         "hoverinfo": "none",
         "line": {
          "color": "red",
          "width": 3
         },
         "mode": "lines",
         "showlegend": false,
         "type": "scatter",
         "x": [
          "2019-02-14T00:00:00",
          "2019-02-15T00:00:00"
         ],
         "xaxis": "x",
         "y": [
          134.95,
          134.73
         ],
         "yaxis": "y"
        },
        {
         "hoverinfo": "none",
         "line": {
          "color": "red",
          "width": 3
         },
         "mode": "lines",
         "showlegend": false,
         "type": "scatter",
         "x": [
          "2019-02-15T00:00:00",
          "2019-02-16T00:00:00"
         ],
         "xaxis": "x",
         "y": [
          134.73,
          134.62
         ],
         "yaxis": "y"
        },
        {
         "hoverinfo": "none",
         "line": {
          "color": "red",
          "width": 3
         },
         "mode": "lines",
         "showlegend": false,
         "type": "scatter",
         "x": [
          "2019-02-16T00:00:00",
          "2019-02-17T00:00:00"
         ],
         "xaxis": "x",
         "y": [
          134.62,
          134.5
         ],
         "yaxis": "y"
        },
        {
         "hoverinfo": "none",
         "line": {
          "color": "red",
          "width": 3
         },
         "mode": "lines",
         "showlegend": false,
         "type": "scatter",
         "x": [
          "2019-02-17T00:00:00",
          "2019-02-18T00:00:00"
         ],
         "xaxis": "x",
         "y": [
          134.5,
          134.37
         ],
         "yaxis": "y"
        },
        {
         "hoverinfo": "none",
         "line": {
          "color": "red",
          "width": 3
         },
         "mode": "lines",
         "showlegend": false,
         "type": "scatter",
         "x": [
          "2019-02-18T00:00:00",
          "2019-02-19T00:00:00"
         ],
         "xaxis": "x",
         "y": [
          134.37,
          134.23
         ],
         "yaxis": "y"
        },
        {
         "hoverinfo": "none",
         "line": {
          "color": "red",
          "width": 3
         },
         "mode": "lines",
         "showlegend": false,
         "type": "scatter",
         "x": [
          "2019-02-19T00:00:00",
          "2019-02-20T00:00:00"
         ],
         "xaxis": "x",
         "y": [
          134.23,
          134.12
         ],
         "yaxis": "y"
        },
        {
         "hoverinfo": "none",
         "line": {
          "color": "red",
          "width": 3
         },
         "mode": "lines",
         "showlegend": false,
         "type": "scatter",
         "x": [
          "2019-02-20T00:00:00",
          "2019-02-21T00:00:00"
         ],
         "xaxis": "x",
         "y": [
          134.12,
          134.02
         ],
         "yaxis": "y"
        },
        {
         "hoverinfo": "none",
         "line": {
          "color": "green",
          "width": 3
         },
         "mode": "lines",
         "showlegend": false,
         "type": "scatter",
         "x": [
          "2019-02-21T00:00:00",
          "2019-02-22T00:00:00"
         ],
         "xaxis": "x",
         "y": [
          134.02,
          134.03
         ],
         "yaxis": "y"
        },
        {
         "hoverinfo": "none",
         "line": {
          "color": "green",
          "width": 3
         },
         "mode": "lines",
         "showlegend": false,
         "type": "scatter",
         "x": [
          "2019-02-22T00:00:00",
          "2019-02-23T00:00:00"
         ],
         "xaxis": "x",
         "y": [
          134.03,
          134.05
         ],
         "yaxis": "y"
        },
        {
         "hoverinfo": "none",
         "line": {
          "color": "green",
          "width": 3
         },
         "mode": "lines",
         "showlegend": false,
         "type": "scatter",
         "x": [
          "2019-02-23T00:00:00",
          "2019-02-24T00:00:00"
         ],
         "xaxis": "x",
         "y": [
          134.05,
          134.06
         ],
         "yaxis": "y"
        },
        {
         "hoverinfo": "none",
         "line": {
          "color": "green",
          "width": 3
         },
         "mode": "lines",
         "showlegend": false,
         "type": "scatter",
         "x": [
          "2019-02-24T00:00:00",
          "2019-02-25T00:00:00"
         ],
         "xaxis": "x",
         "y": [
          134.06,
          134.08
         ],
         "yaxis": "y"
        },
        {
         "hoverinfo": "none",
         "line": {
          "color": "green",
          "width": 3
         },
         "mode": "lines",
         "showlegend": false,
         "type": "scatter",
         "x": [
          "2019-02-25T00:00:00",
          "2019-02-26T00:00:00"
         ],
         "xaxis": "x",
         "y": [
          134.08,
          134.21
         ],
         "yaxis": "y"
        },
        {
         "hoverinfo": "none",
         "line": {
          "color": "green",
          "width": 3
         },
         "mode": "lines",
         "showlegend": false,
         "type": "scatter",
         "x": [
          "2019-02-26T00:00:00",
          "2019-02-27T00:00:00"
         ],
         "xaxis": "x",
         "y": [
          134.21,
          134.24
         ],
         "yaxis": "y"
        },
        {
         "hoverinfo": "none",
         "line": {
          "color": "red",
          "width": 3
         },
         "mode": "lines",
         "showlegend": false,
         "type": "scatter",
         "x": [
          "2019-02-27T00:00:00",
          "2019-02-28T00:00:00"
         ],
         "xaxis": "x",
         "y": [
          134.24,
          134.22
         ],
         "yaxis": "y"
        },
        {
         "hoverinfo": "none",
         "line": {
          "color": "green",
          "width": 3
         },
         "mode": "lines",
         "showlegend": false,
         "type": "scatter",
         "x": [
          "2019-02-28T00:00:00",
          "2019-03-01T00:00:00"
         ],
         "xaxis": "x",
         "y": [
          134.22,
          134.22
         ],
         "yaxis": "y"
        },
        {
         "hoverinfo": "none",
         "line": {
          "color": "green",
          "width": 3
         },
         "mode": "lines",
         "showlegend": false,
         "type": "scatter",
         "x": [
          "2019-03-01T00:00:00",
          "2019-03-02T00:00:00"
         ],
         "xaxis": "x",
         "y": [
          134.22,
          134.35
         ],
         "yaxis": "y"
        },
        {
         "hoverinfo": "none",
         "line": {
          "color": "green",
          "width": 3
         },
         "mode": "lines",
         "showlegend": false,
         "type": "scatter",
         "x": [
          "2019-03-02T00:00:00",
          "2019-03-03T00:00:00"
         ],
         "xaxis": "x",
         "y": [
          134.35,
          134.47
         ],
         "yaxis": "y"
        },
        {
         "hoverinfo": "none",
         "line": {
          "color": "green",
          "width": 3
         },
         "mode": "lines",
         "showlegend": false,
         "type": "scatter",
         "x": [
          "2019-03-03T00:00:00",
          "2019-03-04T00:00:00"
         ],
         "xaxis": "x",
         "y": [
          134.47,
          134.6
         ],
         "yaxis": "y"
        },
        {
         "hoverinfo": "none",
         "line": {
          "color": "green",
          "width": 3
         },
         "mode": "lines",
         "showlegend": false,
         "type": "scatter",
         "x": [
          "2019-03-04T00:00:00",
          "2019-03-05T00:00:00"
         ],
         "xaxis": "x",
         "y": [
          134.6,
          134.85
         ],
         "yaxis": "y"
        },
        {
         "hoverinfo": "none",
         "line": {
          "color": "green",
          "width": 3
         },
         "mode": "lines",
         "showlegend": false,
         "type": "scatter",
         "x": [
          "2019-03-05T00:00:00",
          "2019-03-06T00:00:00"
         ],
         "xaxis": "x",
         "y": [
          134.85,
          134.88
         ],
         "yaxis": "y"
        },
        {
         "hoverinfo": "none",
         "line": {
          "color": "green",
          "width": 3
         },
         "mode": "lines",
         "showlegend": false,
         "type": "scatter",
         "x": [
          "2019-03-06T00:00:00",
          "2019-03-07T00:00:00"
         ],
         "xaxis": "x",
         "y": [
          134.88,
          135.02
         ],
         "yaxis": "y"
        },
        {
         "hoverinfo": "none",
         "line": {
          "color": "green",
          "width": 3
         },
         "mode": "lines",
         "showlegend": false,
         "type": "scatter",
         "x": [
          "2019-03-07T00:00:00",
          "2019-03-08T00:00:00"
         ],
         "xaxis": "x",
         "y": [
          135.02,
          135.18
         ],
         "yaxis": "y"
        },
        {
         "hoverinfo": "none",
         "line": {
          "color": "green",
          "width": 3
         },
         "mode": "lines",
         "showlegend": false,
         "type": "scatter",
         "x": [
          "2019-03-08T00:00:00",
          "2019-03-09T00:00:00"
         ],
         "xaxis": "x",
         "y": [
          135.18,
          135.32
         ],
         "yaxis": "y"
        },
        {
         "hoverinfo": "none",
         "line": {
          "color": "green",
          "width": 3
         },
         "mode": "lines",
         "showlegend": false,
         "type": "scatter",
         "x": [
          "2019-03-09T00:00:00",
          "2019-03-10T00:00:00"
         ],
         "xaxis": "x",
         "y": [
          135.32,
          135.34
         ],
         "yaxis": "y"
        },
        {
         "hoverinfo": "none",
         "line": {
          "color": "green",
          "width": 3
         },
         "mode": "lines",
         "showlegend": false,
         "type": "scatter",
         "x": [
          "2019-03-10T00:00:00",
          "2019-03-11T00:00:00"
         ],
         "xaxis": "x",
         "y": [
          135.34,
          135.46
         ],
         "yaxis": "y"
        },
        {
         "hoverinfo": "none",
         "line": {
          "color": "green",
          "width": 3
         },
         "mode": "lines",
         "showlegend": false,
         "type": "scatter",
         "x": [
          "2019-03-11T00:00:00",
          "2019-03-12T00:00:00"
         ],
         "xaxis": "x",
         "y": [
          135.46,
          135.59
         ],
         "yaxis": "y"
        },
        {
         "hoverinfo": "none",
         "line": {
          "color": "green",
          "width": 3
         },
         "mode": "lines",
         "showlegend": false,
         "type": "scatter",
         "x": [
          "2019-03-12T00:00:00",
          "2019-03-13T00:00:00"
         ],
         "xaxis": "x",
         "y": [
          135.59,
          135.59
         ],
         "yaxis": "y"
        },
        {
         "hoverinfo": "none",
         "line": {
          "color": "green",
          "width": 3
         },
         "mode": "lines",
         "showlegend": false,
         "type": "scatter",
         "x": [
          "2019-03-13T00:00:00",
          "2019-03-14T00:00:00"
         ],
         "xaxis": "x",
         "y": [
          135.59,
          135.69
         ],
         "yaxis": "y"
        },
        {
         "hoverinfo": "none",
         "line": {
          "color": "green",
          "width": 3
         },
         "mode": "lines",
         "showlegend": false,
         "type": "scatter",
         "x": [
          "2019-03-14T00:00:00",
          "2019-03-15T00:00:00"
         ],
         "xaxis": "x",
         "y": [
          135.69,
          135.8
         ],
         "yaxis": "y"
        },
        {
         "hoverinfo": "none",
         "line": {
          "color": "green",
          "width": 3
         },
         "mode": "lines",
         "showlegend": false,
         "type": "scatter",
         "x": [
          "2019-03-15T00:00:00",
          "2019-03-16T00:00:00"
         ],
         "xaxis": "x",
         "y": [
          135.8,
          135.91
         ],
         "yaxis": "y"
        },
        {
         "hoverinfo": "none",
         "line": {
          "color": "green",
          "width": 3
         },
         "mode": "lines",
         "showlegend": false,
         "type": "scatter",
         "x": [
          "2019-03-16T00:00:00",
          "2019-03-17T00:00:00"
         ],
         "xaxis": "x",
         "y": [
          135.91,
          136.02
         ],
         "yaxis": "y"
        },
        {
         "hoverinfo": "none",
         "line": {
          "color": "green",
          "width": 3
         },
         "mode": "lines",
         "showlegend": false,
         "type": "scatter",
         "x": [
          "2019-03-17T00:00:00",
          "2019-03-18T00:00:00"
         ],
         "xaxis": "x",
         "y": [
          136.02,
          136.22
         ],
         "yaxis": "y"
        },
        {
         "hoverinfo": "none",
         "line": {
          "color": "green",
          "width": 3
         },
         "mode": "lines",
         "showlegend": false,
         "type": "scatter",
         "x": [
          "2019-03-18T00:00:00",
          "2019-03-19T00:00:00"
         ],
         "xaxis": "x",
         "y": [
          136.22,
          136.31
         ],
         "yaxis": "y"
        },
        {
         "hoverinfo": "none",
         "line": {
          "color": "green",
          "width": 3
         },
         "mode": "lines",
         "showlegend": false,
         "type": "scatter",
         "x": [
          "2019-03-19T00:00:00",
          "2019-03-20T00:00:00"
         ],
         "xaxis": "x",
         "y": [
          136.31,
          136.41
         ],
         "yaxis": "y"
        },
        {
         "hoverinfo": "none",
         "line": {
          "color": "green",
          "width": 3
         },
         "mode": "lines",
         "showlegend": false,
         "type": "scatter",
         "x": [
          "2019-03-20T00:00:00",
          "2019-03-21T00:00:00"
         ],
         "xaxis": "x",
         "y": [
          136.41,
          136.5
         ],
         "yaxis": "y"
        },
        {
         "hoverinfo": "none",
         "line": {
          "color": "green",
          "width": 3
         },
         "mode": "lines",
         "showlegend": false,
         "type": "scatter",
         "x": [
          "2019-03-21T00:00:00",
          "2019-03-22T00:00:00"
         ],
         "xaxis": "x",
         "y": [
          136.5,
          136.59
         ],
         "yaxis": "y"
        },
        {
         "hoverinfo": "none",
         "line": {
          "color": "green",
          "width": 3
         },
         "mode": "lines",
         "showlegend": false,
         "type": "scatter",
         "x": [
          "2019-03-22T00:00:00",
          "2019-03-23T00:00:00"
         ],
         "xaxis": "x",
         "y": [
          136.59,
          136.7
         ],
         "yaxis": "y"
        },
        {
         "hoverinfo": "none",
         "line": {
          "color": "green",
          "width": 3
         },
         "mode": "lines",
         "showlegend": false,
         "type": "scatter",
         "x": [
          "2019-03-23T00:00:00",
          "2019-03-24T00:00:00"
         ],
         "xaxis": "x",
         "y": [
          136.7,
          136.81
         ],
         "yaxis": "y"
        },
        {
         "hoverinfo": "none",
         "line": {
          "color": "green",
          "width": 3
         },
         "mode": "lines",
         "showlegend": false,
         "type": "scatter",
         "x": [
          "2019-03-24T00:00:00",
          "2019-03-25T00:00:00"
         ],
         "xaxis": "x",
         "y": [
          136.81,
          137.03
         ],
         "yaxis": "y"
        },
        {
         "hoverinfo": "none",
         "line": {
          "color": "green",
          "width": 3
         },
         "mode": "lines",
         "showlegend": false,
         "type": "scatter",
         "x": [
          "2019-03-25T00:00:00",
          "2019-03-26T00:00:00"
         ],
         "xaxis": "x",
         "y": [
          137.03,
          137.15
         ],
         "yaxis": "y"
        },
        {
         "hoverinfo": "none",
         "line": {
          "color": "green",
          "width": 3
         },
         "mode": "lines",
         "showlegend": false,
         "type": "scatter",
         "x": [
          "2019-03-26T00:00:00",
          "2019-03-27T00:00:00"
         ],
         "xaxis": "x",
         "y": [
          137.15,
          137.28
         ],
         "yaxis": "y"
        },
        {
         "hoverinfo": "none",
         "line": {
          "color": "green",
          "width": 3
         },
         "mode": "lines",
         "showlegend": false,
         "type": "scatter",
         "x": [
          "2019-03-27T00:00:00",
          "2019-03-28T00:00:00"
         ],
         "xaxis": "x",
         "y": [
          137.28,
          137.29
         ],
         "yaxis": "y"
        },
        {
         "hoverinfo": "none",
         "line": {
          "color": "green",
          "width": 3
         },
         "mode": "lines",
         "showlegend": false,
         "type": "scatter",
         "x": [
          "2019-03-28T00:00:00",
          "2019-03-29T00:00:00"
         ],
         "xaxis": "x",
         "y": [
          137.29,
          137.31
         ],
         "yaxis": "y"
        },
        {
         "hoverinfo": "none",
         "line": {
          "color": "green",
          "width": 3
         },
         "mode": "lines",
         "showlegend": false,
         "type": "scatter",
         "x": [
          "2019-03-29T00:00:00",
          "2019-03-30T00:00:00"
         ],
         "xaxis": "x",
         "y": [
          137.31,
          137.33
         ],
         "yaxis": "y"
        },
        {
         "hoverinfo": "none",
         "line": {
          "color": "green",
          "width": 3
         },
         "mode": "lines",
         "showlegend": false,
         "type": "scatter",
         "x": [
          "2019-03-30T00:00:00",
          "2019-03-31T00:00:00"
         ],
         "xaxis": "x",
         "y": [
          137.33,
          137.45
         ],
         "yaxis": "y"
        },
        {
         "hoverinfo": "none",
         "line": {
          "color": "green",
          "width": 3
         },
         "mode": "lines",
         "showlegend": false,
         "type": "scatter",
         "x": [
          "2019-03-31T00:00:00",
          "2019-04-01T00:00:00"
         ],
         "xaxis": "x",
         "y": [
          137.45,
          137.69
         ],
         "yaxis": "y"
        },
        {
         "hoverinfo": "none",
         "line": {
          "color": "green",
          "width": 3
         },
         "mode": "lines",
         "showlegend": false,
         "type": "scatter",
         "x": [
          "2019-04-01T00:00:00",
          "2019-04-02T00:00:00"
         ],
         "xaxis": "x",
         "y": [
          137.69,
          137.83
         ],
         "yaxis": "y"
        },
        {
         "hoverinfo": "none",
         "line": {
          "color": "green",
          "width": 3
         },
         "mode": "lines",
         "showlegend": false,
         "type": "scatter",
         "x": [
          "2019-04-02T00:00:00",
          "2019-04-03T00:00:00"
         ],
         "xaxis": "x",
         "y": [
          137.83,
          137.84
         ],
         "yaxis": "y"
        },
        {
         "hoverinfo": "none",
         "line": {
          "color": "green",
          "width": 3
         },
         "mode": "lines",
         "showlegend": false,
         "type": "scatter",
         "x": [
          "2019-04-03T00:00:00",
          "2019-04-04T00:00:00"
         ],
         "xaxis": "x",
         "y": [
          137.84,
          137.86
         ],
         "yaxis": "y"
        },
        {
         "hoverinfo": "none",
         "line": {
          "color": "green",
          "width": 3
         },
         "mode": "lines",
         "showlegend": false,
         "type": "scatter",
         "x": [
          "2019-04-04T00:00:00",
          "2019-04-05T00:00:00"
         ],
         "xaxis": "x",
         "y": [
          137.86,
          137.98
         ],
         "yaxis": "y"
        },
        {
         "hoverinfo": "none",
         "line": {
          "color": "green",
          "width": 3
         },
         "mode": "lines",
         "showlegend": false,
         "type": "scatter",
         "x": [
          "2019-04-05T00:00:00",
          "2019-04-06T00:00:00"
         ],
         "xaxis": "x",
         "y": [
          137.98,
          138.12
         ],
         "yaxis": "y"
        },
        {
         "hoverinfo": "none",
         "line": {
          "color": "green",
          "width": 3
         },
         "mode": "lines",
         "showlegend": false,
         "type": "scatter",
         "x": [
          "2019-04-06T00:00:00",
          "2019-04-07T00:00:00"
         ],
         "xaxis": "x",
         "y": [
          138.12,
          138.27
         ],
         "yaxis": "y"
        },
        {
         "hoverinfo": "none",
         "line": {
          "color": "green",
          "width": 3
         },
         "mode": "lines",
         "showlegend": false,
         "type": "scatter",
         "x": [
          "2019-04-07T00:00:00",
          "2019-04-08T00:00:00"
         ],
         "xaxis": "x",
         "y": [
          138.27,
          138.39
         ],
         "yaxis": "y"
        },
        {
         "hoverinfo": "none",
         "line": {
          "color": "green",
          "width": 3
         },
         "mode": "lines",
         "showlegend": false,
         "type": "scatter",
         "x": [
          "2019-04-08T00:00:00",
          "2019-04-09T00:00:00"
         ],
         "xaxis": "x",
         "y": [
          138.39,
          138.41
         ],
         "yaxis": "y"
        },
        {
         "hoverinfo": "none",
         "line": {
          "color": "green",
          "width": 3
         },
         "mode": "lines",
         "showlegend": false,
         "type": "scatter",
         "x": [
          "2019-04-09T00:00:00",
          "2019-04-10T00:00:00"
         ],
         "xaxis": "x",
         "y": [
          138.41,
          138.41
         ],
         "yaxis": "y"
        },
        {
         "hoverinfo": "none",
         "line": {
          "color": "green",
          "width": 3
         },
         "mode": "lines",
         "showlegend": false,
         "type": "scatter",
         "x": [
          "2019-04-10T00:00:00",
          "2019-04-11T00:00:00"
         ],
         "xaxis": "x",
         "y": [
          138.41,
          138.53
         ],
         "yaxis": "y"
        },
        {
         "hoverinfo": "none",
         "line": {
          "color": "green",
          "width": 3
         },
         "mode": "lines",
         "showlegend": false,
         "type": "scatter",
         "x": [
          "2019-04-11T00:00:00",
          "2019-04-12T00:00:00"
         ],
         "xaxis": "x",
         "y": [
          138.53,
          138.66
         ],
         "yaxis": "y"
        },
        {
         "hoverinfo": "none",
         "line": {
          "color": "green",
          "width": 3
         },
         "mode": "lines",
         "showlegend": false,
         "type": "scatter",
         "x": [
          "2019-04-12T00:00:00",
          "2019-04-13T00:00:00"
         ],
         "xaxis": "x",
         "y": [
          138.66,
          138.78
         ],
         "yaxis": "y"
        },
        {
         "hoverinfo": "none",
         "line": {
          "color": "green",
          "width": 3
         },
         "mode": "lines",
         "showlegend": false,
         "type": "scatter",
         "x": [
          "2019-04-13T00:00:00",
          "2019-04-14T00:00:00"
         ],
         "xaxis": "x",
         "y": [
          138.78,
          138.91
         ],
         "yaxis": "y"
        },
        {
         "hoverinfo": "none",
         "line": {
          "color": "green",
          "width": 3
         },
         "mode": "lines",
         "showlegend": false,
         "type": "scatter",
         "x": [
          "2019-04-14T00:00:00",
          "2019-04-15T00:00:00"
         ],
         "xaxis": "x",
         "y": [
          138.91,
          139.02
         ],
         "yaxis": "y"
        },
        {
         "hoverinfo": "none",
         "line": {
          "color": "green",
          "width": 3
         },
         "mode": "lines",
         "showlegend": false,
         "type": "scatter",
         "x": [
          "2019-04-15T00:00:00",
          "2019-04-16T00:00:00"
         ],
         "xaxis": "x",
         "y": [
          139.02,
          139.03
         ],
         "yaxis": "y"
        },
        {
         "hoverinfo": "none",
         "line": {
          "color": "green",
          "width": 3
         },
         "mode": "lines",
         "showlegend": false,
         "type": "scatter",
         "x": [
          "2019-04-16T00:00:00",
          "2019-04-17T00:00:00"
         ],
         "xaxis": "x",
         "y": [
          139.03,
          139.14
         ],
         "yaxis": "y"
        },
        {
         "hoverinfo": "none",
         "line": {
          "color": "green",
          "width": 3
         },
         "mode": "lines",
         "showlegend": false,
         "type": "scatter",
         "x": [
          "2019-04-17T00:00:00",
          "2019-04-18T00:00:00"
         ],
         "xaxis": "x",
         "y": [
          139.14,
          139.14
         ],
         "yaxis": "y"
        },
        {
         "hoverinfo": "none",
         "line": {
          "color": "green",
          "width": 3
         },
         "mode": "lines",
         "showlegend": false,
         "type": "scatter",
         "x": [
          "2019-04-18T00:00:00",
          "2019-04-19T00:00:00"
         ],
         "xaxis": "x",
         "y": [
          139.14,
          139.14
         ],
         "yaxis": "y"
        },
        {
         "hoverinfo": "none",
         "line": {
          "color": "green",
          "width": 3
         },
         "mode": "lines",
         "showlegend": false,
         "type": "scatter",
         "x": [
          "2019-04-19T00:00:00",
          "2019-04-20T00:00:00"
         ],
         "xaxis": "x",
         "y": [
          139.14,
          139.14
         ],
         "yaxis": "y"
        },
        {
         "hoverinfo": "none",
         "line": {
          "color": "green",
          "width": 3
         },
         "mode": "lines",
         "showlegend": false,
         "type": "scatter",
         "x": [
          "2019-04-20T00:00:00",
          "2019-04-21T00:00:00"
         ],
         "xaxis": "x",
         "y": [
          139.14,
          139.25
         ],
         "yaxis": "y"
        },
        {
         "hoverinfo": "none",
         "line": {
          "color": "green",
          "width": 3
         },
         "mode": "lines",
         "showlegend": false,
         "type": "scatter",
         "x": [
          "2019-04-21T00:00:00",
          "2019-04-22T00:00:00"
         ],
         "xaxis": "x",
         "y": [
          139.25,
          139.34
         ],
         "yaxis": "y"
        },
        {
         "hoverinfo": "none",
         "line": {
          "color": "green",
          "width": 3
         },
         "mode": "lines",
         "showlegend": false,
         "type": "scatter",
         "x": [
          "2019-04-22T00:00:00",
          "2019-04-23T00:00:00"
         ],
         "xaxis": "x",
         "y": [
          139.34,
          139.56
         ],
         "yaxis": "y"
        },
        {
         "hoverinfo": "none",
         "line": {
          "color": "green",
          "width": 3
         },
         "mode": "lines",
         "showlegend": false,
         "type": "scatter",
         "x": [
          "2019-04-23T00:00:00",
          "2019-04-24T00:00:00"
         ],
         "xaxis": "x",
         "y": [
          139.56,
          139.76
         ],
         "yaxis": "y"
        },
        {
         "hoverinfo": "none",
         "line": {
          "color": "green",
          "width": 3
         },
         "mode": "lines",
         "showlegend": false,
         "type": "scatter",
         "x": [
          "2019-04-24T00:00:00",
          "2019-04-25T00:00:00"
         ],
         "xaxis": "x",
         "y": [
          139.76,
          139.76
         ],
         "yaxis": "y"
        },
        {
         "hoverinfo": "none",
         "line": {
          "color": "green",
          "width": 3
         },
         "mode": "lines",
         "showlegend": false,
         "type": "scatter",
         "x": [
          "2019-04-25T00:00:00",
          "2019-04-26T00:00:00"
         ],
         "xaxis": "x",
         "y": [
          139.76,
          139.85
         ],
         "yaxis": "y"
        },
        {
         "hoverinfo": "none",
         "line": {
          "color": "green",
          "width": 3
         },
         "mode": "lines",
         "showlegend": false,
         "type": "scatter",
         "x": [
          "2019-04-26T00:00:00",
          "2019-04-27T00:00:00"
         ],
         "xaxis": "x",
         "y": [
          139.85,
          140.07
         ],
         "yaxis": "y"
        },
        {
         "hoverinfo": "none",
         "line": {
          "color": "green",
          "width": 3
         },
         "mode": "lines",
         "showlegend": false,
         "type": "scatter",
         "x": [
          "2019-04-27T00:00:00",
          "2019-04-28T00:00:00"
         ],
         "xaxis": "x",
         "y": [
          140.07,
          140.29
         ],
         "yaxis": "y"
        },
        {
         "hoverinfo": "none",
         "line": {
          "color": "green",
          "width": 3
         },
         "mode": "lines",
         "showlegend": false,
         "type": "scatter",
         "x": [
          "2019-04-28T00:00:00",
          "2019-04-29T00:00:00"
         ],
         "xaxis": "x",
         "y": [
          140.29,
          140.4
         ],
         "yaxis": "y"
        },
        {
         "hoverinfo": "none",
         "line": {
          "color": "green",
          "width": 3
         },
         "mode": "lines",
         "showlegend": false,
         "type": "scatter",
         "x": [
          "2019-04-29T00:00:00",
          "2019-04-30T00:00:00"
         ],
         "xaxis": "x",
         "y": [
          140.4,
          140.51
         ],
         "yaxis": "y"
        },
        {
         "hoverinfo": "none",
         "line": {
          "color": "green",
          "width": 3
         },
         "mode": "lines",
         "showlegend": false,
         "type": "scatter",
         "x": [
          "2019-04-30T00:00:00",
          "2019-05-01T00:00:00"
         ],
         "xaxis": "x",
         "y": [
          140.51,
          140.51
         ],
         "yaxis": "y"
        },
        {
         "hoverinfo": "none",
         "line": {
          "color": "red",
          "width": 3
         },
         "mode": "lines",
         "showlegend": false,
         "type": "scatter",
         "x": [
          "2019-05-01T00:00:00",
          "2019-05-02T00:00:00"
         ],
         "xaxis": "x",
         "y": [
          140.51,
          140.4
         ],
         "yaxis": "y"
        },
        {
         "hoverinfo": "none",
         "line": {
          "color": "green",
          "width": 3
         },
         "mode": "lines",
         "showlegend": false,
         "type": "scatter",
         "x": [
          "2019-05-02T00:00:00",
          "2019-05-03T00:00:00"
         ],
         "xaxis": "x",
         "y": [
          140.4,
          140.51
         ],
         "yaxis": "y"
        },
        {
         "hoverinfo": "none",
         "line": {
          "color": "green",
          "width": 3
         },
         "mode": "lines",
         "showlegend": false,
         "type": "scatter",
         "x": [
          "2019-05-03T00:00:00",
          "2019-05-04T00:00:00"
         ],
         "xaxis": "x",
         "y": [
          140.51,
          140.63
         ],
         "yaxis": "y"
        },
        {
         "hoverinfo": "none",
         "line": {
          "color": "green",
          "width": 3
         },
         "mode": "lines",
         "showlegend": false,
         "type": "scatter",
         "x": [
          "2019-05-04T00:00:00",
          "2019-05-05T00:00:00"
         ],
         "xaxis": "x",
         "y": [
          140.63,
          140.63
         ],
         "yaxis": "y"
        },
        {
         "hoverinfo": "none",
         "line": {
          "color": "green",
          "width": 3
         },
         "mode": "lines",
         "showlegend": false,
         "type": "scatter",
         "x": [
          "2019-05-05T00:00:00",
          "2019-05-06T00:00:00"
         ],
         "xaxis": "x",
         "y": [
          140.63,
          140.74
         ],
         "yaxis": "y"
        },
        {
         "hoverinfo": "none",
         "line": {
          "color": "green",
          "width": 3
         },
         "mode": "lines",
         "showlegend": false,
         "type": "scatter",
         "x": [
          "2019-05-06T00:00:00",
          "2019-05-07T00:00:00"
         ],
         "xaxis": "x",
         "y": [
          140.74,
          140.85
         ],
         "yaxis": "y"
        },
        {
         "hoverinfo": "none",
         "line": {
          "color": "green",
          "width": 3
         },
         "mode": "lines",
         "showlegend": false,
         "type": "scatter",
         "x": [
          "2019-05-07T00:00:00",
          "2019-05-08T00:00:00"
         ],
         "xaxis": "x",
         "y": [
          140.85,
          140.96
         ],
         "yaxis": "y"
        },
        {
         "hoverinfo": "none",
         "line": {
          "color": "green",
          "width": 3
         },
         "mode": "lines",
         "showlegend": false,
         "type": "scatter",
         "x": [
          "2019-05-08T00:00:00",
          "2019-05-09T00:00:00"
         ],
         "xaxis": "x",
         "y": [
          140.96,
          141.07
         ],
         "yaxis": "y"
        },
        {
         "hoverinfo": "none",
         "line": {
          "color": "green",
          "width": 3
         },
         "mode": "lines",
         "showlegend": false,
         "type": "scatter",
         "x": [
          "2019-05-09T00:00:00",
          "2019-05-10T00:00:00"
         ],
         "xaxis": "x",
         "y": [
          141.07,
          141.28
         ],
         "yaxis": "y"
        },
        {
         "hoverinfo": "none",
         "line": {
          "color": "green",
          "width": 3
         },
         "mode": "lines",
         "showlegend": false,
         "type": "scatter",
         "x": [
          "2019-05-10T00:00:00",
          "2019-05-11T00:00:00"
         ],
         "xaxis": "x",
         "y": [
          141.28,
          141.39
         ],
         "yaxis": "y"
        },
        {
         "hoverinfo": "none",
         "line": {
          "color": "green",
          "width": 3
         },
         "mode": "lines",
         "showlegend": false,
         "type": "scatter",
         "x": [
          "2019-05-11T00:00:00",
          "2019-05-12T00:00:00"
         ],
         "xaxis": "x",
         "y": [
          141.39,
          141.5
         ],
         "yaxis": "y"
        },
        {
         "hoverinfo": "none",
         "line": {
          "color": "green",
          "width": 3
         },
         "mode": "lines",
         "showlegend": false,
         "type": "scatter",
         "x": [
          "2019-05-12T00:00:00",
          "2019-05-13T00:00:00"
         ],
         "xaxis": "x",
         "y": [
          141.5,
          141.72
         ],
         "yaxis": "y"
        },
        {
         "hoverinfo": "none",
         "line": {
          "color": "green",
          "width": 3
         },
         "mode": "lines",
         "showlegend": false,
         "type": "scatter",
         "x": [
          "2019-05-13T00:00:00",
          "2019-05-14T00:00:00"
         ],
         "xaxis": "x",
         "y": [
          141.72,
          141.83
         ],
         "yaxis": "y"
        },
        {
         "hoverinfo": "none",
         "line": {
          "color": "green",
          "width": 3
         },
         "mode": "lines",
         "showlegend": false,
         "type": "scatter",
         "x": [
          "2019-05-14T00:00:00",
          "2019-05-15T00:00:00"
         ],
         "xaxis": "x",
         "y": [
          141.83,
          141.94
         ],
         "yaxis": "y"
        },
        {
         "hoverinfo": "none",
         "line": {
          "color": "green",
          "width": 3
         },
         "mode": "lines",
         "showlegend": false,
         "type": "scatter",
         "x": [
          "2019-05-15T00:00:00",
          "2019-05-16T00:00:00"
         ],
         "xaxis": "x",
         "y": [
          141.94,
          141.94
         ],
         "yaxis": "y"
        },
        {
         "hoverinfo": "none",
         "line": {
          "color": "green",
          "width": 3
         },
         "mode": "lines",
         "showlegend": false,
         "type": "scatter",
         "x": [
          "2019-05-16T00:00:00",
          "2019-05-17T00:00:00"
         ],
         "xaxis": "x",
         "y": [
          141.94,
          141.94
         ],
         "yaxis": "y"
        },
        {
         "hoverinfo": "none",
         "line": {
          "color": "green",
          "width": 3
         },
         "mode": "lines",
         "showlegend": false,
         "type": "scatter",
         "x": [
          "2019-05-17T00:00:00",
          "2019-05-18T00:00:00"
         ],
         "xaxis": "x",
         "y": [
          141.94,
          142.05
         ],
         "yaxis": "y"
        },
        {
         "hoverinfo": "none",
         "line": {
          "color": "green",
          "width": 3
         },
         "mode": "lines",
         "showlegend": false,
         "type": "scatter",
         "x": [
          "2019-05-18T00:00:00",
          "2019-05-19T00:00:00"
         ],
         "xaxis": "x",
         "y": [
          142.05,
          142.15
         ],
         "yaxis": "y"
        },
        {
         "hoverinfo": "none",
         "line": {
          "color": "green",
          "width": 3
         },
         "mode": "lines",
         "showlegend": false,
         "type": "scatter",
         "x": [
          "2019-05-19T00:00:00",
          "2019-05-20T00:00:00"
         ],
         "xaxis": "x",
         "y": [
          142.15,
          142.26
         ],
         "yaxis": "y"
        },
        {
         "hoverinfo": "none",
         "line": {
          "color": "green",
          "width": 3
         },
         "mode": "lines",
         "showlegend": false,
         "type": "scatter",
         "x": [
          "2019-05-20T00:00:00",
          "2019-05-21T00:00:00"
         ],
         "xaxis": "x",
         "y": [
          142.26,
          142.28
         ],
         "yaxis": "y"
        },
        {
         "hoverinfo": "none",
         "line": {
          "color": "green",
          "width": 3
         },
         "mode": "lines",
         "showlegend": false,
         "type": "scatter",
         "x": [
          "2019-05-21T00:00:00",
          "2019-05-22T00:00:00"
         ],
         "xaxis": "x",
         "y": [
          142.28,
          142.3
         ],
         "yaxis": "y"
        },
        {
         "hoverinfo": "none",
         "line": {
          "color": "green",
          "width": 3
         },
         "mode": "lines",
         "showlegend": false,
         "type": "scatter",
         "x": [
          "2019-05-22T00:00:00",
          "2019-05-23T00:00:00"
         ],
         "xaxis": "x",
         "y": [
          142.3,
          142.3
         ],
         "yaxis": "y"
        },
        {
         "hoverinfo": "none",
         "line": {
          "color": "green",
          "width": 3
         },
         "mode": "lines",
         "showlegend": false,
         "type": "scatter",
         "x": [
          "2019-05-23T00:00:00",
          "2019-05-24T00:00:00"
         ],
         "xaxis": "x",
         "y": [
          142.3,
          142.4
         ],
         "yaxis": "y"
        },
        {
         "hoverinfo": "none",
         "line": {
          "color": "green",
          "width": 3
         },
         "mode": "lines",
         "showlegend": false,
         "type": "scatter",
         "x": [
          "2019-05-24T00:00:00",
          "2019-05-25T00:00:00"
         ],
         "xaxis": "x",
         "y": [
          142.4,
          142.51
         ],
         "yaxis": "y"
        },
        {
         "hoverinfo": "none",
         "line": {
          "color": "green",
          "width": 3
         },
         "mode": "lines",
         "showlegend": false,
         "type": "scatter",
         "x": [
          "2019-05-25T00:00:00",
          "2019-05-26T00:00:00"
         ],
         "xaxis": "x",
         "y": [
          142.51,
          142.51
         ],
         "yaxis": "y"
        },
        {
         "hoverinfo": "none",
         "line": {
          "color": "green",
          "width": 3
         },
         "mode": "lines",
         "showlegend": false,
         "type": "scatter",
         "x": [
          "2019-05-26T00:00:00",
          "2019-05-27T00:00:00"
         ],
         "xaxis": "x",
         "y": [
          142.51,
          142.51
         ],
         "yaxis": "y"
        },
        {
         "hoverinfo": "none",
         "line": {
          "color": "green",
          "width": 3
         },
         "mode": "lines",
         "showlegend": false,
         "type": "scatter",
         "x": [
          "2019-05-27T00:00:00",
          "2019-05-28T00:00:00"
         ],
         "xaxis": "x",
         "y": [
          142.51,
          142.51
         ],
         "yaxis": "y"
        },
        {
         "hoverinfo": "none",
         "line": {
          "color": "green",
          "width": 3
         },
         "mode": "lines",
         "showlegend": false,
         "type": "scatter",
         "x": [
          "2019-05-28T00:00:00",
          "2019-05-29T00:00:00"
         ],
         "xaxis": "x",
         "y": [
          142.51,
          142.61
         ],
         "yaxis": "y"
        },
        {
         "hoverinfo": "none",
         "line": {
          "color": "green",
          "width": 3
         },
         "mode": "lines",
         "showlegend": false,
         "type": "scatter",
         "x": [
          "2019-05-29T00:00:00",
          "2019-05-30T00:00:00"
         ],
         "xaxis": "x",
         "y": [
          142.61,
          142.7
         ],
         "yaxis": "y"
        },
        {
         "hoverinfo": "none",
         "line": {
          "color": "green",
          "width": 3
         },
         "mode": "lines",
         "showlegend": false,
         "type": "scatter",
         "x": [
          "2019-05-30T00:00:00",
          "2019-05-31T00:00:00"
         ],
         "xaxis": "x",
         "y": [
          142.7,
          142.81
         ],
         "yaxis": "y"
        },
        {
         "hoverinfo": "none",
         "line": {
          "color": "green",
          "width": 3
         },
         "mode": "lines",
         "showlegend": false,
         "type": "scatter",
         "x": [
          "2019-05-31T00:00:00",
          "2019-06-01T00:00:00"
         ],
         "xaxis": "x",
         "y": [
          142.81,
          142.92
         ],
         "yaxis": "y"
        },
        {
         "hoverinfo": "none",
         "line": {
          "color": "green",
          "width": 3
         },
         "mode": "lines",
         "showlegend": false,
         "type": "scatter",
         "x": [
          "2019-06-01T00:00:00",
          "2019-06-02T00:00:00"
         ],
         "xaxis": "x",
         "y": [
          142.92,
          143.02
         ],
         "yaxis": "y"
        },
        {
         "hoverinfo": "none",
         "line": {
          "color": "green",
          "width": 3
         },
         "mode": "lines",
         "showlegend": false,
         "type": "scatter",
         "x": [
          "2019-06-02T00:00:00",
          "2019-06-03T00:00:00"
         ],
         "xaxis": "x",
         "y": [
          143.02,
          143.13
         ],
         "yaxis": "y"
        },
        {
         "hoverinfo": "none",
         "line": {
          "color": "green",
          "width": 3
         },
         "mode": "lines",
         "showlegend": false,
         "type": "scatter",
         "x": [
          "2019-06-03T00:00:00",
          "2019-06-04T00:00:00"
         ],
         "xaxis": "x",
         "y": [
          143.13,
          143.26
         ],
         "yaxis": "y"
        },
        {
         "hoverinfo": "none",
         "line": {
          "color": "green",
          "width": 3
         },
         "mode": "lines",
         "showlegend": false,
         "type": "scatter",
         "x": [
          "2019-06-04T00:00:00",
          "2019-06-05T00:00:00"
         ],
         "xaxis": "x",
         "y": [
          143.26,
          143.48
         ],
         "yaxis": "y"
        },
        {
         "hoverinfo": "none",
         "line": {
          "color": "green",
          "width": 3
         },
         "mode": "lines",
         "showlegend": false,
         "type": "scatter",
         "x": [
          "2019-06-05T00:00:00",
          "2019-06-06T00:00:00"
         ],
         "xaxis": "x",
         "y": [
          143.48,
          143.48
         ],
         "yaxis": "y"
        },
        {
         "hoverinfo": "none",
         "line": {
          "color": "green",
          "width": 3
         },
         "mode": "lines",
         "showlegend": false,
         "type": "scatter",
         "x": [
          "2019-06-06T00:00:00",
          "2019-06-07T00:00:00"
         ],
         "xaxis": "x",
         "y": [
          143.48,
          143.48
         ],
         "yaxis": "y"
        },
        {
         "hoverinfo": "none",
         "line": {
          "color": "green",
          "width": 3
         },
         "mode": "lines",
         "showlegend": false,
         "type": "scatter",
         "x": [
          "2019-06-07T00:00:00",
          "2019-06-08T00:00:00"
         ],
         "xaxis": "x",
         "y": [
          143.48,
          143.48
         ],
         "yaxis": "y"
        },
        {
         "hoverinfo": "none",
         "line": {
          "color": "green",
          "width": 3
         },
         "mode": "lines",
         "showlegend": false,
         "type": "scatter",
         "x": [
          "2019-06-08T00:00:00",
          "2019-06-09T00:00:00"
         ],
         "xaxis": "x",
         "y": [
          143.48,
          143.48
         ],
         "yaxis": "y"
        },
        {
         "hoverinfo": "none",
         "line": {
          "color": "green",
          "width": 3
         },
         "mode": "lines",
         "showlegend": false,
         "type": "scatter",
         "x": [
          "2019-06-09T00:00:00",
          "2019-06-10T00:00:00"
         ],
         "xaxis": "x",
         "y": [
          143.48,
          143.6
         ],
         "yaxis": "y"
        },
        {
         "hoverinfo": "none",
         "line": {
          "color": "green",
          "width": 3
         },
         "mode": "lines",
         "showlegend": false,
         "type": "scatter",
         "x": [
          "2019-06-10T00:00:00",
          "2019-06-11T00:00:00"
         ],
         "xaxis": "x",
         "y": [
          143.6,
          143.73
         ],
         "yaxis": "y"
        },
        {
         "hoverinfo": "none",
         "line": {
          "color": "green",
          "width": 3
         },
         "mode": "lines",
         "showlegend": false,
         "type": "scatter",
         "x": [
          "2019-06-11T00:00:00",
          "2019-06-12T00:00:00"
         ],
         "xaxis": "x",
         "y": [
          143.73,
          143.83
         ],
         "yaxis": "y"
        },
        {
         "hoverinfo": "none",
         "line": {
          "color": "green",
          "width": 3
         },
         "mode": "lines",
         "showlegend": false,
         "type": "scatter",
         "x": [
          "2019-06-12T00:00:00",
          "2019-06-13T00:00:00"
         ],
         "xaxis": "x",
         "y": [
          143.83,
          143.83
         ],
         "yaxis": "y"
        },
        {
         "hoverinfo": "none",
         "line": {
          "color": "green",
          "width": 3
         },
         "mode": "lines",
         "showlegend": false,
         "type": "scatter",
         "x": [
          "2019-06-13T00:00:00",
          "2019-06-14T00:00:00"
         ],
         "xaxis": "x",
         "y": [
          143.83,
          143.83
         ],
         "yaxis": "y"
        },
        {
         "hoverinfo": "none",
         "line": {
          "color": "green",
          "width": 3
         },
         "mode": "lines",
         "showlegend": false,
         "type": "scatter",
         "x": [
          "2019-06-14T00:00:00",
          "2019-06-15T00:00:00"
         ],
         "xaxis": "x",
         "y": [
          143.83,
          143.94
         ],
         "yaxis": "y"
        },
        {
         "hoverinfo": "none",
         "line": {
          "color": "green",
          "width": 3
         },
         "mode": "lines",
         "showlegend": false,
         "type": "scatter",
         "x": [
          "2019-06-15T00:00:00",
          "2019-06-16T00:00:00"
         ],
         "xaxis": "x",
         "y": [
          143.94,
          144.05
         ],
         "yaxis": "y"
        },
        {
         "hoverinfo": "none",
         "line": {
          "color": "green",
          "width": 3
         },
         "mode": "lines",
         "showlegend": false,
         "type": "scatter",
         "x": [
          "2019-06-16T00:00:00",
          "2019-06-17T00:00:00"
         ],
         "xaxis": "x",
         "y": [
          144.05,
          144.16
         ],
         "yaxis": "y"
        },
        {
         "hoverinfo": "none",
         "line": {
          "color": "red",
          "width": 3
         },
         "mode": "lines",
         "showlegend": false,
         "type": "scatter",
         "x": [
          "2019-06-17T00:00:00",
          "2019-06-18T00:00:00"
         ],
         "xaxis": "x",
         "y": [
          144.16,
          144.13
         ],
         "yaxis": "y"
        },
        {
         "hoverinfo": "none",
         "line": {
          "color": "red",
          "width": 3
         },
         "mode": "lines",
         "showlegend": false,
         "type": "scatter",
         "x": [
          "2019-06-18T00:00:00",
          "2019-06-19T00:00:00"
         ],
         "xaxis": "x",
         "y": [
          144.13,
          144.1
         ],
         "yaxis": "y"
        },
        {
         "hoverinfo": "none",
         "line": {
          "color": "red",
          "width": 3
         },
         "mode": "lines",
         "showlegend": false,
         "type": "scatter",
         "x": [
          "2019-06-19T00:00:00",
          "2019-06-20T00:00:00"
         ],
         "xaxis": "x",
         "y": [
          144.1,
          144.06
         ],
         "yaxis": "y"
        },
        {
         "hoverinfo": "none",
         "line": {
          "color": "red",
          "width": 3
         },
         "mode": "lines",
         "showlegend": false,
         "type": "scatter",
         "x": [
          "2019-06-20T00:00:00",
          "2019-06-21T00:00:00"
         ],
         "xaxis": "x",
         "y": [
          144.06,
          144.05
         ],
         "yaxis": "y"
        },
        {
         "hoverinfo": "none",
         "line": {
          "color": "green",
          "width": 3
         },
         "mode": "lines",
         "showlegend": false,
         "type": "scatter",
         "x": [
          "2019-06-21T00:00:00",
          "2019-06-22T00:00:00"
         ],
         "xaxis": "x",
         "y": [
          144.05,
          144.14
         ],
         "yaxis": "y"
        },
        {
         "hoverinfo": "none",
         "line": {
          "color": "green",
          "width": 3
         },
         "mode": "lines",
         "showlegend": false,
         "type": "scatter",
         "x": [
          "2019-06-22T00:00:00",
          "2019-06-23T00:00:00"
         ],
         "xaxis": "x",
         "y": [
          144.14,
          144.14
         ],
         "yaxis": "y"
        },
        {
         "hoverinfo": "none",
         "line": {
          "color": "green",
          "width": 3
         },
         "mode": "lines",
         "showlegend": false,
         "type": "scatter",
         "x": [
          "2019-06-23T00:00:00",
          "2019-06-24T00:00:00"
         ],
         "xaxis": "x",
         "y": [
          144.14,
          144.23
         ],
         "yaxis": "y"
        },
        {
         "hoverinfo": "none",
         "line": {
          "color": "green",
          "width": 3
         },
         "mode": "lines",
         "showlegend": false,
         "type": "scatter",
         "x": [
          "2019-06-24T00:00:00",
          "2019-06-25T00:00:00"
         ],
         "xaxis": "x",
         "y": [
          144.23,
          144.32
         ],
         "yaxis": "y"
        },
        {
         "hoverinfo": "none",
         "line": {
          "color": "green",
          "width": 3
         },
         "mode": "lines",
         "showlegend": false,
         "type": "scatter",
         "x": [
          "2019-06-25T00:00:00",
          "2019-06-26T00:00:00"
         ],
         "xaxis": "x",
         "y": [
          144.32,
          144.43
         ],
         "yaxis": "y"
        },
        {
         "hoverinfo": "none",
         "line": {
          "color": "green",
          "width": 3
         },
         "mode": "lines",
         "showlegend": false,
         "type": "scatter",
         "x": [
          "2019-06-26T00:00:00",
          "2019-06-27T00:00:00"
         ],
         "xaxis": "x",
         "y": [
          144.43,
          144.43
         ],
         "yaxis": "y"
        },
        {
         "hoverinfo": "none",
         "line": {
          "color": "green",
          "width": 3
         },
         "mode": "lines",
         "showlegend": false,
         "type": "scatter",
         "x": [
          "2019-06-27T00:00:00",
          "2019-06-28T00:00:00"
         ],
         "xaxis": "x",
         "y": [
          144.43,
          144.45
         ],
         "yaxis": "y"
        },
        {
         "hoverinfo": "none",
         "line": {
          "color": "green",
          "width": 3
         },
         "mode": "lines",
         "showlegend": false,
         "type": "scatter",
         "x": [
          "2019-06-28T00:00:00",
          "2019-06-29T00:00:00"
         ],
         "xaxis": "x",
         "y": [
          144.45,
          144.56
         ],
         "yaxis": "y"
        },
        {
         "hoverinfo": "none",
         "line": {
          "color": "green",
          "width": 3
         },
         "mode": "lines",
         "showlegend": false,
         "type": "scatter",
         "x": [
          "2019-06-29T00:00:00",
          "2019-06-30T00:00:00"
         ],
         "xaxis": "x",
         "y": [
          144.56,
          144.68
         ],
         "yaxis": "y"
        },
        {
         "hoverinfo": "none",
         "line": {
          "color": "green",
          "width": 3
         },
         "mode": "lines",
         "showlegend": false,
         "type": "scatter",
         "x": [
          "2019-06-30T00:00:00",
          "2019-07-01T00:00:00"
         ],
         "xaxis": "x",
         "y": [
          144.68,
          144.9
         ],
         "yaxis": "y"
        },
        {
         "hoverinfo": "none",
         "line": {
          "color": "green",
          "width": 3
         },
         "mode": "lines",
         "showlegend": false,
         "type": "scatter",
         "x": [
          "2019-07-01T00:00:00",
          "2019-07-02T00:00:00"
         ],
         "xaxis": "x",
         "y": [
          144.9,
          145.03
         ],
         "yaxis": "y"
        },
        {
         "hoverinfo": "none",
         "line": {
          "color": "green",
          "width": 3
         },
         "mode": "lines",
         "showlegend": false,
         "type": "scatter",
         "x": [
          "2019-07-02T00:00:00",
          "2019-07-03T00:00:00"
         ],
         "xaxis": "x",
         "y": [
          145.03,
          145.15
         ],
         "yaxis": "y"
        },
        {
         "hoverinfo": "none",
         "line": {
          "color": "green",
          "width": 3
         },
         "mode": "lines",
         "showlegend": false,
         "type": "scatter",
         "x": [
          "2019-07-03T00:00:00",
          "2019-07-04T00:00:00"
         ],
         "xaxis": "x",
         "y": [
          145.15,
          145.17
         ],
         "yaxis": "y"
        },
        {
         "hoverinfo": "none",
         "line": {
          "color": "green",
          "width": 3
         },
         "mode": "lines",
         "showlegend": false,
         "type": "scatter",
         "x": [
          "2019-07-04T00:00:00",
          "2019-07-05T00:00:00"
         ],
         "xaxis": "x",
         "y": [
          145.17,
          145.28
         ],
         "yaxis": "y"
        },
        {
         "hoverinfo": "none",
         "line": {
          "color": "green",
          "width": 3
         },
         "mode": "lines",
         "showlegend": false,
         "type": "scatter",
         "x": [
          "2019-07-05T00:00:00",
          "2019-07-06T00:00:00"
         ],
         "xaxis": "x",
         "y": [
          145.28,
          145.38
         ],
         "yaxis": "y"
        },
        {
         "hoverinfo": "none",
         "line": {
          "color": "green",
          "width": 3
         },
         "mode": "lines",
         "showlegend": false,
         "type": "scatter",
         "x": [
          "2019-07-06T00:00:00",
          "2019-07-07T00:00:00"
         ],
         "xaxis": "x",
         "y": [
          145.38,
          145.4
         ],
         "yaxis": "y"
        },
        {
         "hoverinfo": "none",
         "line": {
          "color": "green",
          "width": 3
         },
         "mode": "lines",
         "showlegend": false,
         "type": "scatter",
         "x": [
          "2019-07-07T00:00:00",
          "2019-07-08T00:00:00"
         ],
         "xaxis": "x",
         "y": [
          145.4,
          145.51
         ],
         "yaxis": "y"
        },
        {
         "hoverinfo": "none",
         "line": {
          "color": "red",
          "width": 3
         },
         "mode": "lines",
         "showlegend": false,
         "type": "scatter",
         "x": [
          "2019-07-08T00:00:00",
          "2019-07-09T00:00:00"
         ],
         "xaxis": "x",
         "y": [
          145.51,
          145.49
         ],
         "yaxis": "y"
        },
        {
         "hoverinfo": "none",
         "line": {
          "color": "green",
          "width": 3
         },
         "mode": "lines",
         "showlegend": false,
         "type": "scatter",
         "x": [
          "2019-07-09T00:00:00",
          "2019-07-10T00:00:00"
         ],
         "xaxis": "x",
         "y": [
          145.49,
          145.49
         ],
         "yaxis": "y"
        },
        {
         "hoverinfo": "none",
         "line": {
          "color": "red",
          "width": 3
         },
         "mode": "lines",
         "showlegend": false,
         "type": "scatter",
         "x": [
          "2019-07-10T00:00:00",
          "2019-07-11T00:00:00"
         ],
         "xaxis": "x",
         "y": [
          145.49,
          145.48
         ],
         "yaxis": "y"
        },
        {
         "hoverinfo": "none",
         "line": {
          "color": "green",
          "width": 3
         },
         "mode": "lines",
         "showlegend": false,
         "type": "scatter",
         "x": [
          "2019-07-11T00:00:00",
          "2019-07-12T00:00:00"
         ],
         "xaxis": "x",
         "y": [
          145.48,
          145.57
         ],
         "yaxis": "y"
        },
        {
         "hoverinfo": "none",
         "line": {
          "color": "green",
          "width": 3
         },
         "mode": "lines",
         "showlegend": false,
         "type": "scatter",
         "x": [
          "2019-07-12T00:00:00",
          "2019-07-13T00:00:00"
         ],
         "xaxis": "x",
         "y": [
          145.57,
          145.68
         ],
         "yaxis": "y"
        },
        {
         "hoverinfo": "none",
         "line": {
          "color": "green",
          "width": 3
         },
         "mode": "lines",
         "showlegend": false,
         "type": "scatter",
         "x": [
          "2019-07-13T00:00:00",
          "2019-07-14T00:00:00"
         ],
         "xaxis": "x",
         "y": [
          145.68,
          145.79
         ],
         "yaxis": "y"
        },
        {
         "hoverinfo": "none",
         "line": {
          "color": "green",
          "width": 3
         },
         "mode": "lines",
         "showlegend": false,
         "type": "scatter",
         "x": [
          "2019-07-14T00:00:00",
          "2019-07-15T00:00:00"
         ],
         "xaxis": "x",
         "y": [
          145.79,
          145.88
         ],
         "yaxis": "y"
        },
        {
         "hoverinfo": "none",
         "line": {
          "color": "green",
          "width": 3
         },
         "mode": "lines",
         "showlegend": false,
         "type": "scatter",
         "x": [
          "2019-07-15T00:00:00",
          "2019-07-16T00:00:00"
         ],
         "xaxis": "x",
         "y": [
          145.88,
          145.88
         ],
         "yaxis": "y"
        },
        {
         "hoverinfo": "none",
         "line": {
          "color": "green",
          "width": 3
         },
         "mode": "lines",
         "showlegend": false,
         "type": "scatter",
         "x": [
          "2019-07-16T00:00:00",
          "2019-07-17T00:00:00"
         ],
         "xaxis": "x",
         "y": [
          145.88,
          146
         ],
         "yaxis": "y"
        },
        {
         "hoverinfo": "none",
         "line": {
          "color": "red",
          "width": 3
         },
         "mode": "lines",
         "showlegend": false,
         "type": "scatter",
         "x": [
          "2019-07-17T00:00:00",
          "2019-07-18T00:00:00"
         ],
         "xaxis": "x",
         "y": [
          146,
          145.99
         ],
         "yaxis": "y"
        },
        {
         "hoverinfo": "none",
         "line": {
          "color": "green",
          "width": 3
         },
         "mode": "lines",
         "showlegend": false,
         "type": "scatter",
         "x": [
          "2019-07-18T00:00:00",
          "2019-07-19T00:00:00"
         ],
         "xaxis": "x",
         "y": [
          145.99,
          146
         ],
         "yaxis": "y"
        },
        {
         "hoverinfo": "none",
         "line": {
          "color": "green",
          "width": 3
         },
         "mode": "lines",
         "showlegend": false,
         "type": "scatter",
         "x": [
          "2019-07-19T00:00:00",
          "2019-07-20T00:00:00"
         ],
         "xaxis": "x",
         "y": [
          146,
          146
         ],
         "yaxis": "y"
        },
        {
         "hoverinfo": "none",
         "line": {
          "color": "green",
          "width": 3
         },
         "mode": "lines",
         "showlegend": false,
         "type": "scatter",
         "x": [
          "2019-07-20T00:00:00",
          "2019-07-21T00:00:00"
         ],
         "xaxis": "x",
         "y": [
          146,
          146.02
         ],
         "yaxis": "y"
        },
        {
         "hoverinfo": "none",
         "line": {
          "color": "green",
          "width": 3
         },
         "mode": "lines",
         "showlegend": false,
         "type": "scatter",
         "x": [
          "2019-07-21T00:00:00",
          "2019-07-22T00:00:00"
         ],
         "xaxis": "x",
         "y": [
          146.02,
          146.13
         ],
         "yaxis": "y"
        },
        {
         "hoverinfo": "none",
         "line": {
          "color": "green",
          "width": 3
         },
         "mode": "lines",
         "showlegend": false,
         "type": "scatter",
         "x": [
          "2019-07-22T00:00:00",
          "2019-07-23T00:00:00"
         ],
         "xaxis": "x",
         "y": [
          146.13,
          146.25
         ],
         "yaxis": "y"
        },
        {
         "hoverinfo": "none",
         "line": {
          "color": "green",
          "width": 3
         },
         "mode": "lines",
         "showlegend": false,
         "type": "scatter",
         "x": [
          "2019-07-23T00:00:00",
          "2019-07-24T00:00:00"
         ],
         "xaxis": "x",
         "y": [
          146.25,
          146.36
         ],
         "yaxis": "y"
        },
        {
         "hoverinfo": "none",
         "line": {
          "color": "red",
          "width": 3
         },
         "mode": "lines",
         "showlegend": false,
         "type": "scatter",
         "x": [
          "2019-07-24T00:00:00",
          "2019-07-25T00:00:00"
         ],
         "xaxis": "x",
         "y": [
          146.36,
          146.24
         ],
         "yaxis": "y"
        },
        {
         "hoverinfo": "none",
         "line": {
          "color": "green",
          "width": 3
         },
         "mode": "lines",
         "showlegend": false,
         "type": "scatter",
         "x": [
          "2019-07-25T00:00:00",
          "2019-07-26T00:00:00"
         ],
         "xaxis": "x",
         "y": [
          146.24,
          146.24
         ],
         "yaxis": "y"
        },
        {
         "hoverinfo": "none",
         "line": {
          "color": "red",
          "width": 3
         },
         "mode": "lines",
         "showlegend": false,
         "type": "scatter",
         "x": [
          "2019-07-26T00:00:00",
          "2019-07-27T00:00:00"
         ],
         "xaxis": "x",
         "y": [
          146.24,
          146.22
         ],
         "yaxis": "y"
        },
        {
         "hoverinfo": "none",
         "line": {
          "color": "green",
          "width": 3
         },
         "mode": "lines",
         "showlegend": false,
         "type": "scatter",
         "x": [
          "2019-07-27T00:00:00",
          "2019-07-28T00:00:00"
         ],
         "xaxis": "x",
         "y": [
          146.22,
          146.33
         ],
         "yaxis": "y"
        },
        {
         "hoverinfo": "none",
         "line": {
          "color": "green",
          "width": 3
         },
         "mode": "lines",
         "showlegend": false,
         "type": "scatter",
         "x": [
          "2019-07-28T00:00:00",
          "2019-07-29T00:00:00"
         ],
         "xaxis": "x",
         "y": [
          146.33,
          146.42
         ],
         "yaxis": "y"
        },
        {
         "hoverinfo": "none",
         "line": {
          "color": "red",
          "width": 3
         },
         "mode": "lines",
         "showlegend": false,
         "type": "scatter",
         "x": [
          "2019-07-29T00:00:00",
          "2019-07-30T00:00:00"
         ],
         "xaxis": "x",
         "y": [
          146.42,
          146.41
         ],
         "yaxis": "y"
        },
        {
         "hoverinfo": "none",
         "line": {
          "color": "red",
          "width": 3
         },
         "mode": "lines",
         "showlegend": false,
         "type": "scatter",
         "x": [
          "2019-07-30T00:00:00",
          "2019-07-31T00:00:00"
         ],
         "xaxis": "x",
         "y": [
          146.41,
          146.39
         ],
         "yaxis": "y"
        },
        {
         "hoverinfo": "none",
         "line": {
          "color": "red",
          "width": 3
         },
         "mode": "lines",
         "showlegend": false,
         "type": "scatter",
         "x": [
          "2019-07-31T00:00:00",
          "2019-08-01T00:00:00"
         ],
         "xaxis": "x",
         "y": [
          146.39,
          146.25
         ],
         "yaxis": "y"
        },
        {
         "hoverinfo": "none",
         "line": {
          "color": "green",
          "width": 3
         },
         "mode": "lines",
         "showlegend": false,
         "type": "scatter",
         "x": [
          "2019-08-01T00:00:00",
          "2019-08-02T00:00:00"
         ],
         "xaxis": "x",
         "y": [
          146.25,
          146.25
         ],
         "yaxis": "y"
        },
        {
         "hoverinfo": "none",
         "line": {
          "color": "green",
          "width": 3
         },
         "mode": "lines",
         "showlegend": false,
         "type": "scatter",
         "x": [
          "2019-08-02T00:00:00",
          "2019-08-03T00:00:00"
         ],
         "xaxis": "x",
         "y": [
          146.25,
          146.36
         ],
         "yaxis": "y"
        },
        {
         "hoverinfo": "none",
         "line": {
          "color": "green",
          "width": 3
         },
         "mode": "lines",
         "showlegend": false,
         "type": "scatter",
         "x": [
          "2019-08-03T00:00:00",
          "2019-08-04T00:00:00"
         ],
         "xaxis": "x",
         "y": [
          146.36,
          146.47
         ],
         "yaxis": "y"
        },
        {
         "hoverinfo": "none",
         "line": {
          "color": "green",
          "width": 3
         },
         "mode": "lines",
         "showlegend": false,
         "type": "scatter",
         "x": [
          "2019-08-04T00:00:00",
          "2019-08-05T00:00:00"
         ],
         "xaxis": "x",
         "y": [
          146.47,
          146.47
         ],
         "yaxis": "y"
        },
        {
         "hoverinfo": "none",
         "line": {
          "color": "green",
          "width": 3
         },
         "mode": "lines",
         "showlegend": false,
         "type": "scatter",
         "x": [
          "2019-08-05T00:00:00",
          "2019-08-06T00:00:00"
         ],
         "xaxis": "x",
         "y": [
          146.47,
          146.47
         ],
         "yaxis": "y"
        },
        {
         "hoverinfo": "none",
         "line": {
          "color": "green",
          "width": 3
         },
         "mode": "lines",
         "showlegend": false,
         "type": "scatter",
         "x": [
          "2019-08-06T00:00:00",
          "2019-08-07T00:00:00"
         ],
         "xaxis": "x",
         "y": [
          146.47,
          146.47
         ],
         "yaxis": "y"
        },
        {
         "hoverinfo": "none",
         "line": {
          "color": "red",
          "width": 3
         },
         "mode": "lines",
         "showlegend": false,
         "type": "scatter",
         "x": [
          "2019-08-07T00:00:00",
          "2019-08-08T00:00:00"
         ],
         "xaxis": "x",
         "y": [
          146.47,
          146.45
         ],
         "yaxis": "y"
        },
        {
         "hoverinfo": "none",
         "line": {
          "color": "green",
          "width": 3
         },
         "mode": "lines",
         "showlegend": false,
         "type": "scatter",
         "x": [
          "2019-08-08T00:00:00",
          "2019-08-09T00:00:00"
         ],
         "xaxis": "x",
         "y": [
          146.45,
          146.58
         ],
         "yaxis": "y"
        },
        {
         "hoverinfo": "none",
         "line": {
          "color": "green",
          "width": 3
         },
         "mode": "lines",
         "showlegend": false,
         "type": "scatter",
         "x": [
          "2019-08-09T00:00:00",
          "2019-08-10T00:00:00"
         ],
         "xaxis": "x",
         "y": [
          146.58,
          146.58
         ],
         "yaxis": "y"
        },
        {
         "hoverinfo": "none",
         "line": {
          "color": "green",
          "width": 3
         },
         "mode": "lines",
         "showlegend": false,
         "type": "scatter",
         "x": [
          "2019-08-10T00:00:00",
          "2019-08-11T00:00:00"
         ],
         "xaxis": "x",
         "y": [
          146.58,
          146.58
         ],
         "yaxis": "y"
        },
        {
         "hoverinfo": "none",
         "line": {
          "color": "green",
          "width": 3
         },
         "mode": "lines",
         "showlegend": false,
         "type": "scatter",
         "x": [
          "2019-08-11T00:00:00",
          "2019-08-12T00:00:00"
         ],
         "xaxis": "x",
         "y": [
          146.58,
          146.58
         ],
         "yaxis": "y"
        },
        {
         "hoverinfo": "none",
         "line": {
          "color": "green",
          "width": 3
         },
         "mode": "lines",
         "showlegend": false,
         "type": "scatter",
         "x": [
          "2019-08-12T00:00:00",
          "2019-08-13T00:00:00"
         ],
         "xaxis": "x",
         "y": [
          146.58,
          146.58
         ],
         "yaxis": "y"
        },
        {
         "hoverinfo": "none",
         "line": {
          "color": "red",
          "width": 3
         },
         "mode": "lines",
         "showlegend": false,
         "type": "scatter",
         "x": [
          "2019-08-13T00:00:00",
          "2019-08-14T00:00:00"
         ],
         "xaxis": "x",
         "y": [
          146.58,
          146.56
         ],
         "yaxis": "y"
        },
        {
         "hoverinfo": "none",
         "line": {
          "color": "red",
          "width": 3
         },
         "mode": "lines",
         "showlegend": false,
         "type": "scatter",
         "x": [
          "2019-08-14T00:00:00",
          "2019-08-15T00:00:00"
         ],
         "xaxis": "x",
         "y": [
          146.56,
          146.43
         ],
         "yaxis": "y"
        },
        {
         "hoverinfo": "none",
         "line": {
          "color": "red",
          "width": 3
         },
         "mode": "lines",
         "showlegend": false,
         "type": "scatter",
         "x": [
          "2019-08-15T00:00:00",
          "2019-08-16T00:00:00"
         ],
         "xaxis": "x",
         "y": [
          146.43,
          146.33
         ],
         "yaxis": "y"
        },
        {
         "hoverinfo": "none",
         "line": {
          "color": "red",
          "width": 3
         },
         "mode": "lines",
         "showlegend": false,
         "type": "scatter",
         "x": [
          "2019-08-16T00:00:00",
          "2019-08-17T00:00:00"
         ],
         "xaxis": "x",
         "y": [
          146.33,
          146.18
         ],
         "yaxis": "y"
        },
        {
         "hoverinfo": "none",
         "line": {
          "color": "green",
          "width": 3
         },
         "mode": "lines",
         "showlegend": false,
         "type": "scatter",
         "x": [
          "2019-08-17T00:00:00",
          "2019-08-18T00:00:00"
         ],
         "xaxis": "x",
         "y": [
          146.18,
          146.26
         ],
         "yaxis": "y"
        },
        {
         "hoverinfo": "none",
         "line": {
          "color": "red",
          "width": 3
         },
         "mode": "lines",
         "showlegend": false,
         "type": "scatter",
         "x": [
          "2019-08-18T00:00:00",
          "2019-08-19T00:00:00"
         ],
         "xaxis": "x",
         "y": [
          146.26,
          146.23
         ],
         "yaxis": "y"
        },
        {
         "hoverinfo": "none",
         "line": {
          "color": "red",
          "width": 3
         },
         "mode": "lines",
         "showlegend": false,
         "type": "scatter",
         "x": [
          "2019-08-19T00:00:00",
          "2019-08-20T00:00:00"
         ],
         "xaxis": "x",
         "y": [
          146.23,
          146.2
         ],
         "yaxis": "y"
        },
        {
         "hoverinfo": "none",
         "line": {
          "color": "red",
          "width": 3
         },
         "mode": "lines",
         "showlegend": false,
         "type": "scatter",
         "x": [
          "2019-08-20T00:00:00",
          "2019-08-21T00:00:00"
         ],
         "xaxis": "x",
         "y": [
          146.2,
          146.16
         ],
         "yaxis": "y"
        },
        {
         "hoverinfo": "none",
         "line": {
          "color": "red",
          "width": 3
         },
         "mode": "lines",
         "showlegend": false,
         "type": "scatter",
         "x": [
          "2019-08-21T00:00:00",
          "2019-08-22T00:00:00"
         ],
         "xaxis": "x",
         "y": [
          146.16,
          146.04
         ],
         "yaxis": "y"
        },
        {
         "hoverinfo": "none",
         "line": {
          "color": "red",
          "width": 3
         },
         "mode": "lines",
         "showlegend": false,
         "type": "scatter",
         "x": [
          "2019-08-22T00:00:00",
          "2019-08-23T00:00:00"
         ],
         "xaxis": "x",
         "y": [
          146.04,
          146.02
         ],
         "yaxis": "y"
        },
        {
         "hoverinfo": "none",
         "line": {
          "color": "red",
          "width": 3
         },
         "mode": "lines",
         "showlegend": false,
         "type": "scatter",
         "x": [
          "2019-08-23T00:00:00",
          "2019-08-24T00:00:00"
         ],
         "xaxis": "x",
         "y": [
          146.02,
          146.01
         ],
         "yaxis": "y"
        },
        {
         "hoverinfo": "none",
         "line": {
          "color": "green",
          "width": 3
         },
         "mode": "lines",
         "showlegend": false,
         "type": "scatter",
         "x": [
          "2019-08-24T00:00:00",
          "2019-08-25T00:00:00"
         ],
         "xaxis": "x",
         "y": [
          146.01,
          146.01
         ],
         "yaxis": "y"
        },
        {
         "hoverinfo": "none",
         "line": {
          "color": "green",
          "width": 3
         },
         "mode": "lines",
         "showlegend": false,
         "type": "scatter",
         "x": [
          "2019-08-25T00:00:00",
          "2019-08-26T00:00:00"
         ],
         "xaxis": "x",
         "y": [
          146.01,
          146.02
         ],
         "yaxis": "y"
        },
        {
         "hoverinfo": "none",
         "line": {
          "color": "green",
          "width": 3
         },
         "mode": "lines",
         "showlegend": false,
         "type": "scatter",
         "x": [
          "2019-08-26T00:00:00",
          "2019-08-27T00:00:00"
         ],
         "xaxis": "x",
         "y": [
          146.02,
          146.04
         ],
         "yaxis": "y"
        },
        {
         "hoverinfo": "none",
         "line": {
          "color": "green",
          "width": 3
         },
         "mode": "lines",
         "showlegend": false,
         "type": "scatter",
         "x": [
          "2019-08-27T00:00:00",
          "2019-08-28T00:00:00"
         ],
         "xaxis": "x",
         "y": [
          146.04,
          146.04
         ],
         "yaxis": "y"
        },
        {
         "hoverinfo": "none",
         "line": {
          "color": "red",
          "width": 3
         },
         "mode": "lines",
         "showlegend": false,
         "type": "scatter",
         "x": [
          "2019-08-28T00:00:00",
          "2019-08-29T00:00:00"
         ],
         "xaxis": "x",
         "y": [
          146.04,
          145.95
         ],
         "yaxis": "y"
        },
        {
         "hoverinfo": "none",
         "line": {
          "color": "green",
          "width": 3
         },
         "mode": "lines",
         "showlegend": false,
         "type": "scatter",
         "x": [
          "2019-08-29T00:00:00",
          "2019-08-30T00:00:00"
         ],
         "xaxis": "x",
         "y": [
          145.95,
          145.96
         ],
         "yaxis": "y"
        },
        {
         "hoverinfo": "none",
         "line": {
          "color": "green",
          "width": 3
         },
         "mode": "lines",
         "showlegend": false,
         "type": "scatter",
         "x": [
          "2019-08-30T00:00:00",
          "2019-08-31T00:00:00"
         ],
         "xaxis": "x",
         "y": [
          145.96,
          145.98
         ],
         "yaxis": "y"
        },
        {
         "hoverinfo": "none",
         "line": {
          "color": "green",
          "width": 3
         },
         "mode": "lines",
         "showlegend": false,
         "type": "scatter",
         "x": [
          "2019-08-31T00:00:00",
          "2019-09-01T00:00:00"
         ],
         "xaxis": "x",
         "y": [
          145.98,
          145.99
         ],
         "yaxis": "y"
        },
        {
         "hoverinfo": "none",
         "line": {
          "color": "green",
          "width": 3
         },
         "mode": "lines",
         "showlegend": false,
         "type": "scatter",
         "x": [
          "2019-09-01T00:00:00",
          "2019-09-02T00:00:00"
         ],
         "xaxis": "x",
         "y": [
          145.99,
          146.12
         ],
         "yaxis": "y"
        },
        {
         "hoverinfo": "none",
         "line": {
          "color": "red",
          "width": 3
         },
         "mode": "lines",
         "showlegend": false,
         "type": "scatter",
         "x": [
          "2019-09-02T00:00:00",
          "2019-09-03T00:00:00"
         ],
         "xaxis": "x",
         "y": [
          146.12,
          146.1
         ],
         "yaxis": "y"
        },
        {
         "hoverinfo": "none",
         "line": {
          "color": "green",
          "width": 3
         },
         "mode": "lines",
         "showlegend": false,
         "type": "scatter",
         "x": [
          "2019-09-03T00:00:00",
          "2019-09-04T00:00:00"
         ],
         "xaxis": "x",
         "y": [
          146.1,
          146.1
         ],
         "yaxis": "y"
        },
        {
         "hoverinfo": "none",
         "line": {
          "color": "green",
          "width": 3
         },
         "mode": "lines",
         "showlegend": false,
         "type": "scatter",
         "x": [
          "2019-09-04T00:00:00",
          "2019-09-05T00:00:00"
         ],
         "xaxis": "x",
         "y": [
          146.1,
          146.12
         ],
         "yaxis": "y"
        },
        {
         "hoverinfo": "none",
         "line": {
          "color": "green",
          "width": 3
         },
         "mode": "lines",
         "showlegend": false,
         "type": "scatter",
         "x": [
          "2019-09-05T00:00:00",
          "2019-09-06T00:00:00"
         ],
         "xaxis": "x",
         "y": [
          146.12,
          146.23
         ],
         "yaxis": "y"
        },
        {
         "hoverinfo": "none",
         "line": {
          "color": "green",
          "width": 3
         },
         "mode": "lines",
         "showlegend": false,
         "type": "scatter",
         "x": [
          "2019-09-06T00:00:00",
          "2019-09-07T00:00:00"
         ],
         "xaxis": "x",
         "y": [
          146.23,
          146.34
         ],
         "yaxis": "y"
        },
        {
         "hoverinfo": "none",
         "line": {
          "color": "green",
          "width": 3
         },
         "mode": "lines",
         "showlegend": false,
         "type": "scatter",
         "x": [
          "2019-09-07T00:00:00",
          "2019-09-08T00:00:00"
         ],
         "xaxis": "x",
         "y": [
          146.34,
          146.46
         ],
         "yaxis": "y"
        },
        {
         "hoverinfo": "none",
         "line": {
          "color": "green",
          "width": 3
         },
         "mode": "lines",
         "showlegend": false,
         "type": "scatter",
         "x": [
          "2019-09-08T00:00:00",
          "2019-09-09T00:00:00"
         ],
         "xaxis": "x",
         "y": [
          146.46,
          146.59
         ],
         "yaxis": "y"
        },
        {
         "hoverinfo": "none",
         "line": {
          "color": "green",
          "width": 3
         },
         "mode": "lines",
         "showlegend": false,
         "type": "scatter",
         "x": [
          "2019-09-09T00:00:00",
          "2019-09-10T00:00:00"
         ],
         "xaxis": "x",
         "y": [
          146.59,
          146.6
         ],
         "yaxis": "y"
        },
        {
         "hoverinfo": "none",
         "line": {
          "color": "green",
          "width": 3
         },
         "mode": "lines",
         "showlegend": false,
         "type": "scatter",
         "x": [
          "2019-09-10T00:00:00",
          "2019-09-11T00:00:00"
         ],
         "xaxis": "x",
         "y": [
          146.6,
          146.64
         ],
         "yaxis": "y"
        },
        {
         "hoverinfo": "none",
         "line": {
          "color": "green",
          "width": 3
         },
         "mode": "lines",
         "showlegend": false,
         "type": "scatter",
         "x": [
          "2019-09-11T00:00:00",
          "2019-09-12T00:00:00"
         ],
         "xaxis": "x",
         "y": [
          146.64,
          146.65
         ],
         "yaxis": "y"
        },
        {
         "hoverinfo": "none",
         "line": {
          "color": "green",
          "width": 3
         },
         "mode": "lines",
         "showlegend": false,
         "type": "scatter",
         "x": [
          "2019-09-12T00:00:00",
          "2019-09-13T00:00:00"
         ],
         "xaxis": "x",
         "y": [
          146.65,
          146.65
         ],
         "yaxis": "y"
        },
        {
         "hoverinfo": "none",
         "line": {
          "color": "green",
          "width": 3
         },
         "mode": "lines",
         "showlegend": false,
         "type": "scatter",
         "x": [
          "2019-09-13T00:00:00",
          "2019-09-14T00:00:00"
         ],
         "xaxis": "x",
         "y": [
          146.65,
          146.67
         ],
         "yaxis": "y"
        },
        {
         "hoverinfo": "none",
         "line": {
          "color": "green",
          "width": 3
         },
         "mode": "lines",
         "showlegend": false,
         "type": "scatter",
         "x": [
          "2019-09-14T00:00:00",
          "2019-09-15T00:00:00"
         ],
         "xaxis": "x",
         "y": [
          146.67,
          146.68
         ],
         "yaxis": "y"
        },
        {
         "hoverinfo": "none",
         "line": {
          "color": "green",
          "width": 3
         },
         "mode": "lines",
         "showlegend": false,
         "type": "scatter",
         "x": [
          "2019-09-15T00:00:00",
          "2019-09-16T00:00:00"
         ],
         "xaxis": "x",
         "y": [
          146.68,
          146.7
         ],
         "yaxis": "y"
        },
        {
         "hoverinfo": "none",
         "line": {
          "color": "green",
          "width": 3
         },
         "mode": "lines",
         "showlegend": false,
         "type": "scatter",
         "x": [
          "2019-09-16T00:00:00",
          "2019-09-17T00:00:00"
         ],
         "xaxis": "x",
         "y": [
          146.7,
          146.72
         ],
         "yaxis": "y"
        },
        {
         "hoverinfo": "none",
         "line": {
          "color": "green",
          "width": 3
         },
         "mode": "lines",
         "showlegend": false,
         "type": "scatter",
         "x": [
          "2019-09-17T00:00:00",
          "2019-09-18T00:00:00"
         ],
         "xaxis": "x",
         "y": [
          146.72,
          146.73
         ],
         "yaxis": "y"
        },
        {
         "hoverinfo": "none",
         "line": {
          "color": "green",
          "width": 3
         },
         "mode": "lines",
         "showlegend": false,
         "type": "scatter",
         "x": [
          "2019-09-18T00:00:00",
          "2019-09-19T00:00:00"
         ],
         "xaxis": "x",
         "y": [
          146.73,
          146.75
         ],
         "yaxis": "y"
        },
        {
         "hoverinfo": "none",
         "line": {
          "color": "red",
          "width": 3
         },
         "mode": "lines",
         "showlegend": false,
         "type": "scatter",
         "x": [
          "2019-09-19T00:00:00",
          "2019-09-20T00:00:00"
         ],
         "xaxis": "x",
         "y": [
          146.75,
          146.66
         ],
         "yaxis": "y"
        },
        {
         "hoverinfo": "none",
         "line": {
          "color": "red",
          "width": 3
         },
         "mode": "lines",
         "showlegend": false,
         "type": "scatter",
         "x": [
          "2019-09-20T00:00:00",
          "2019-09-21T00:00:00"
         ],
         "xaxis": "x",
         "y": [
          146.66,
          146.56
         ],
         "yaxis": "y"
        },
        {
         "hoverinfo": "none",
         "line": {
          "color": "green",
          "width": 3
         },
         "mode": "lines",
         "showlegend": false,
         "type": "scatter",
         "x": [
          "2019-09-21T00:00:00",
          "2019-09-22T00:00:00"
         ],
         "xaxis": "x",
         "y": [
          146.56,
          146.58
         ],
         "yaxis": "y"
        },
        {
         "hoverinfo": "none",
         "line": {
          "color": "green",
          "width": 3
         },
         "mode": "lines",
         "showlegend": false,
         "type": "scatter",
         "x": [
          "2019-09-22T00:00:00",
          "2019-09-23T00:00:00"
         ],
         "xaxis": "x",
         "y": [
          146.58,
          146.58
         ],
         "yaxis": "y"
        },
        {
         "hoverinfo": "none",
         "line": {
          "color": "red",
          "width": 3
         },
         "mode": "lines",
         "showlegend": false,
         "type": "scatter",
         "x": [
          "2019-09-23T00:00:00",
          "2019-09-24T00:00:00"
         ],
         "xaxis": "x",
         "y": [
          146.58,
          146.56
         ],
         "yaxis": "y"
        },
        {
         "hoverinfo": "none",
         "line": {
          "color": "red",
          "width": 3
         },
         "mode": "lines",
         "showlegend": false,
         "type": "scatter",
         "x": [
          "2019-09-24T00:00:00",
          "2019-09-25T00:00:00"
         ],
         "xaxis": "x",
         "y": [
          146.56,
          146.55
         ],
         "yaxis": "y"
        },
        {
         "hoverinfo": "none",
         "line": {
          "color": "red",
          "width": 3
         },
         "mode": "lines",
         "showlegend": false,
         "type": "scatter",
         "x": [
          "2019-09-25T00:00:00",
          "2019-09-26T00:00:00"
         ],
         "xaxis": "x",
         "y": [
          146.55,
          146.41
         ],
         "yaxis": "y"
        },
        {
         "hoverinfo": "none",
         "line": {
          "color": "red",
          "width": 3
         },
         "mode": "lines",
         "showlegend": false,
         "type": "scatter",
         "x": [
          "2019-09-26T00:00:00",
          "2019-09-27T00:00:00"
         ],
         "xaxis": "x",
         "y": [
          146.41,
          146.27
         ],
         "yaxis": "y"
        },
        {
         "hoverinfo": "none",
         "line": {
          "color": "red",
          "width": 3
         },
         "mode": "lines",
         "showlegend": false,
         "type": "scatter",
         "x": [
          "2019-09-27T00:00:00",
          "2019-09-28T00:00:00"
         ],
         "xaxis": "x",
         "y": [
          146.27,
          146.23
         ],
         "yaxis": "y"
        },
        {
         "hoverinfo": "none",
         "line": {
          "color": "red",
          "width": 3
         },
         "mode": "lines",
         "showlegend": false,
         "type": "scatter",
         "x": [
          "2019-09-28T00:00:00",
          "2019-09-29T00:00:00"
         ],
         "xaxis": "x",
         "y": [
          146.23,
          146.22
         ],
         "yaxis": "y"
        },
        {
         "hoverinfo": "none",
         "line": {
          "color": "red",
          "width": 3
         },
         "mode": "lines",
         "showlegend": false,
         "type": "scatter",
         "x": [
          "2019-09-29T00:00:00",
          "2019-09-30T00:00:00"
         ],
         "xaxis": "x",
         "y": [
          146.22,
          146.18
         ],
         "yaxis": "y"
        },
        {
         "hoverinfo": "none",
         "line": {
          "color": "red",
          "width": 3
         },
         "mode": "lines",
         "showlegend": false,
         "type": "scatter",
         "x": [
          "2019-09-30T00:00:00",
          "2019-10-01T00:00:00"
         ],
         "xaxis": "x",
         "y": [
          146.18,
          146.17
         ],
         "yaxis": "y"
        },
        {
         "hoverinfo": "none",
         "line": {
          "color": "red",
          "width": 3
         },
         "mode": "lines",
         "showlegend": false,
         "type": "scatter",
         "x": [
          "2019-10-01T00:00:00",
          "2019-10-02T00:00:00"
         ],
         "xaxis": "x",
         "y": [
          146.17,
          146.04
         ],
         "yaxis": "y"
        },
        {
         "hoverinfo": "none",
         "line": {
          "color": "red",
          "width": 3
         },
         "mode": "lines",
         "showlegend": false,
         "type": "scatter",
         "x": [
          "2019-10-02T00:00:00",
          "2019-10-03T00:00:00"
         ],
         "xaxis": "x",
         "y": [
          146.04,
          145.9
         ],
         "yaxis": "y"
        },
        {
         "hoverinfo": "none",
         "line": {
          "color": "red",
          "width": 3
         },
         "mode": "lines",
         "showlegend": false,
         "type": "scatter",
         "x": [
          "2019-10-03T00:00:00",
          "2019-10-04T00:00:00"
         ],
         "xaxis": "x",
         "y": [
          145.9,
          145.89
         ],
         "yaxis": "y"
        },
        {
         "hoverinfo": "none",
         "line": {
          "color": "red",
          "width": 3
         },
         "mode": "lines",
         "showlegend": false,
         "type": "scatter",
         "x": [
          "2019-10-04T00:00:00",
          "2019-10-05T00:00:00"
         ],
         "xaxis": "x",
         "y": [
          145.89,
          145.87
         ],
         "yaxis": "y"
        },
        {
         "hoverinfo": "none",
         "line": {
          "color": "red",
          "width": 3
         },
         "mode": "lines",
         "showlegend": false,
         "type": "scatter",
         "x": [
          "2019-10-05T00:00:00",
          "2019-10-06T00:00:00"
         ],
         "xaxis": "x",
         "y": [
          145.87,
          145.85
         ],
         "yaxis": "y"
        },
        {
         "hoverinfo": "none",
         "line": {
          "color": "red",
          "width": 3
         },
         "mode": "lines",
         "showlegend": false,
         "type": "scatter",
         "x": [
          "2019-10-06T00:00:00",
          "2019-10-07T00:00:00"
         ],
         "xaxis": "x",
         "y": [
          145.85,
          145.84
         ],
         "yaxis": "y"
        },
        {
         "hoverinfo": "none",
         "line": {
          "color": "red",
          "width": 3
         },
         "mode": "lines",
         "showlegend": false,
         "type": "scatter",
         "x": [
          "2019-10-07T00:00:00",
          "2019-10-08T00:00:00"
         ],
         "xaxis": "x",
         "y": [
          145.84,
          145.71
         ],
         "yaxis": "y"
        },
        {
         "hoverinfo": "none",
         "line": {
          "color": "red",
          "width": 3
         },
         "mode": "lines",
         "showlegend": false,
         "type": "scatter",
         "x": [
          "2019-10-08T00:00:00",
          "2019-10-09T00:00:00"
         ],
         "xaxis": "x",
         "y": [
          145.71,
          145.6
         ],
         "yaxis": "y"
        },
        {
         "hoverinfo": "none",
         "line": {
          "color": "red",
          "width": 3
         },
         "mode": "lines",
         "showlegend": false,
         "type": "scatter",
         "x": [
          "2019-10-09T00:00:00",
          "2019-10-10T00:00:00"
         ],
         "xaxis": "x",
         "y": [
          145.6,
          145.59
         ],
         "yaxis": "y"
        },
        {
         "hoverinfo": "none",
         "line": {
          "color": "green",
          "width": 3
         },
         "mode": "lines",
         "showlegend": false,
         "type": "scatter",
         "x": [
          "2019-10-10T00:00:00",
          "2019-10-11T00:00:00"
         ],
         "xaxis": "x",
         "y": [
          145.59,
          145.6
         ],
         "yaxis": "y"
        },
        {
         "hoverinfo": "none",
         "line": {
          "color": "green",
          "width": 3
         },
         "mode": "lines",
         "showlegend": false,
         "type": "scatter",
         "x": [
          "2019-10-11T00:00:00",
          "2019-10-12T00:00:00"
         ],
         "xaxis": "x",
         "y": [
          145.6,
          145.62
         ],
         "yaxis": "y"
        },
        {
         "hoverinfo": "none",
         "line": {
          "color": "green",
          "width": 3
         },
         "mode": "lines",
         "showlegend": false,
         "type": "scatter",
         "x": [
          "2019-10-12T00:00:00",
          "2019-10-13T00:00:00"
         ],
         "xaxis": "x",
         "y": [
          145.62,
          145.64
         ],
         "yaxis": "y"
        },
        {
         "hoverinfo": "none",
         "line": {
          "color": "green",
          "width": 3
         },
         "mode": "lines",
         "showlegend": false,
         "type": "scatter",
         "x": [
          "2019-10-13T00:00:00",
          "2019-10-14T00:00:00"
         ],
         "xaxis": "x",
         "y": [
          145.64,
          145.65
         ],
         "yaxis": "y"
        },
        {
         "hoverinfo": "none",
         "line": {
          "color": "green",
          "width": 3
         },
         "mode": "lines",
         "showlegend": false,
         "type": "scatter",
         "x": [
          "2019-10-14T00:00:00",
          "2019-10-15T00:00:00"
         ],
         "xaxis": "x",
         "y": [
          145.65,
          145.78
         ],
         "yaxis": "y"
        },
        {
         "hoverinfo": "none",
         "line": {
          "color": "green",
          "width": 3
         },
         "mode": "lines",
         "showlegend": false,
         "type": "scatter",
         "x": [
          "2019-10-15T00:00:00",
          "2019-10-16T00:00:00"
         ],
         "xaxis": "x",
         "y": [
          145.78,
          145.9
         ],
         "yaxis": "y"
        },
        {
         "hoverinfo": "none",
         "line": {
          "color": "green",
          "width": 3
         },
         "mode": "lines",
         "showlegend": false,
         "type": "scatter",
         "x": [
          "2019-10-16T00:00:00",
          "2019-10-17T00:00:00"
         ],
         "xaxis": "x",
         "y": [
          145.9,
          145.9
         ],
         "yaxis": "y"
        },
        {
         "hoverinfo": "none",
         "line": {
          "color": "green",
          "width": 3
         },
         "mode": "lines",
         "showlegend": false,
         "type": "scatter",
         "x": [
          "2019-10-17T00:00:00",
          "2019-10-18T00:00:00"
         ],
         "xaxis": "x",
         "y": [
          145.9,
          145.92
         ],
         "yaxis": "y"
        },
        {
         "hoverinfo": "none",
         "line": {
          "color": "green",
          "width": 3
         },
         "mode": "lines",
         "showlegend": false,
         "type": "scatter",
         "x": [
          "2019-10-18T00:00:00",
          "2019-10-19T00:00:00"
         ],
         "xaxis": "x",
         "y": [
          145.92,
          145.92
         ],
         "yaxis": "y"
        },
        {
         "hoverinfo": "none",
         "line": {
          "color": "green",
          "width": 3
         },
         "mode": "lines",
         "showlegend": false,
         "type": "scatter",
         "x": [
          "2019-10-19T00:00:00",
          "2019-10-20T00:00:00"
         ],
         "xaxis": "x",
         "y": [
          145.92,
          145.92
         ],
         "yaxis": "y"
        },
        {
         "hoverinfo": "none",
         "line": {
          "color": "green",
          "width": 3
         },
         "mode": "lines",
         "showlegend": false,
         "type": "scatter",
         "x": [
          "2019-10-20T00:00:00",
          "2019-10-21T00:00:00"
         ],
         "xaxis": "x",
         "y": [
          145.92,
          145.92
         ],
         "yaxis": "y"
        },
        {
         "hoverinfo": "none",
         "line": {
          "color": "green",
          "width": 3
         },
         "mode": "lines",
         "showlegend": false,
         "type": "scatter",
         "x": [
          "2019-10-21T00:00:00",
          "2019-10-22T00:00:00"
         ],
         "xaxis": "x",
         "y": [
          145.92,
          145.92
         ],
         "yaxis": "y"
        },
        {
         "hoverinfo": "none",
         "line": {
          "color": "red",
          "width": 3
         },
         "mode": "lines",
         "showlegend": false,
         "type": "scatter",
         "x": [
          "2019-10-22T00:00:00",
          "2019-10-23T00:00:00"
         ],
         "xaxis": "x",
         "y": [
          145.92,
          145.81
         ],
         "yaxis": "y"
        },
        {
         "hoverinfo": "none",
         "line": {
          "color": "red",
          "width": 3
         },
         "mode": "lines",
         "showlegend": false,
         "type": "scatter",
         "x": [
          "2019-10-23T00:00:00",
          "2019-10-24T00:00:00"
         ],
         "xaxis": "x",
         "y": [
          145.81,
          145.7
         ],
         "yaxis": "y"
        },
        {
         "hoverinfo": "none",
         "line": {
          "color": "green",
          "width": 3
         },
         "mode": "lines",
         "showlegend": false,
         "type": "scatter",
         "x": [
          "2019-10-24T00:00:00",
          "2019-10-25T00:00:00"
         ],
         "xaxis": "x",
         "y": [
          145.7,
          145.7
         ],
         "yaxis": "y"
        },
        {
         "hoverinfo": "none",
         "line": {
          "color": "green",
          "width": 3
         },
         "mode": "lines",
         "showlegend": false,
         "type": "scatter",
         "x": [
          "2019-10-25T00:00:00",
          "2019-10-26T00:00:00"
         ],
         "xaxis": "x",
         "y": [
          145.7,
          145.7
         ],
         "yaxis": "y"
        },
        {
         "hoverinfo": "none",
         "line": {
          "color": "green",
          "width": 3
         },
         "mode": "lines",
         "showlegend": false,
         "type": "scatter",
         "x": [
          "2019-10-26T00:00:00",
          "2019-10-27T00:00:00"
         ],
         "xaxis": "x",
         "y": [
          145.7,
          145.7
         ],
         "yaxis": "y"
        },
        {
         "hoverinfo": "none",
         "line": {
          "color": "green",
          "width": 3
         },
         "mode": "lines",
         "showlegend": false,
         "type": "scatter",
         "x": [
          "2019-10-27T00:00:00",
          "2019-10-28T00:00:00"
         ],
         "xaxis": "x",
         "y": [
          145.7,
          145.81
         ],
         "yaxis": "y"
        },
        {
         "hoverinfo": "none",
         "line": {
          "color": "green",
          "width": 3
         },
         "mode": "lines",
         "showlegend": false,
         "type": "scatter",
         "x": [
          "2019-10-28T00:00:00",
          "2019-10-29T00:00:00"
         ],
         "xaxis": "x",
         "y": [
          145.81,
          145.92
         ],
         "yaxis": "y"
        },
        {
         "hoverinfo": "none",
         "line": {
          "color": "green",
          "width": 3
         },
         "mode": "lines",
         "showlegend": false,
         "type": "scatter",
         "x": [
          "2019-10-29T00:00:00",
          "2019-10-30T00:00:00"
         ],
         "xaxis": "x",
         "y": [
          145.92,
          146.01
         ],
         "yaxis": "y"
        },
        {
         "hoverinfo": "none",
         "line": {
          "color": "red",
          "width": 3
         },
         "mode": "lines",
         "showlegend": false,
         "type": "scatter",
         "x": [
          "2019-10-30T00:00:00",
          "2019-10-31T00:00:00"
         ],
         "xaxis": "x",
         "y": [
          146.01,
          145.99
         ],
         "yaxis": "y"
        },
        {
         "hoverinfo": "none",
         "line": {
          "color": "green",
          "width": 3
         },
         "mode": "lines",
         "showlegend": false,
         "type": "scatter",
         "x": [
          "2019-10-31T00:00:00",
          "2019-11-01T00:00:00"
         ],
         "xaxis": "x",
         "y": [
          145.99,
          145.99
         ],
         "yaxis": "y"
        },
        {
         "hoverinfo": "none",
         "line": {
          "color": "green",
          "width": 3
         },
         "mode": "lines",
         "showlegend": false,
         "type": "scatter",
         "x": [
          "2019-11-01T00:00:00",
          "2019-11-02T00:00:00"
         ],
         "xaxis": "x",
         "y": [
          145.99,
          145.99
         ],
         "yaxis": "y"
        },
        {
         "hoverinfo": "none",
         "line": {
          "color": "green",
          "width": 3
         },
         "mode": "lines",
         "showlegend": false,
         "type": "scatter",
         "x": [
          "2019-11-02T00:00:00",
          "2019-11-03T00:00:00"
         ],
         "xaxis": "x",
         "y": [
          145.99,
          145.99
         ],
         "yaxis": "y"
        },
        {
         "hoverinfo": "none",
         "line": {
          "color": "green",
          "width": 3
         },
         "mode": "lines",
         "showlegend": false,
         "type": "scatter",
         "x": [
          "2019-11-03T00:00:00",
          "2019-11-04T00:00:00"
         ],
         "xaxis": "x",
         "y": [
          145.99,
          146.1
         ],
         "yaxis": "y"
        },
        {
         "hoverinfo": "none",
         "line": {
          "color": "green",
          "width": 3
         },
         "mode": "lines",
         "showlegend": false,
         "type": "scatter",
         "x": [
          "2019-11-04T00:00:00",
          "2019-11-05T00:00:00"
         ],
         "xaxis": "x",
         "y": [
          146.1,
          146.1
         ],
         "yaxis": "y"
        },
        {
         "hoverinfo": "none",
         "line": {
          "color": "red",
          "width": 3
         },
         "mode": "lines",
         "showlegend": false,
         "type": "scatter",
         "x": [
          "2019-11-05T00:00:00",
          "2019-11-06T00:00:00"
         ],
         "xaxis": "x",
         "y": [
          146.1,
          146.09
         ],
         "yaxis": "y"
        },
        {
         "hoverinfo": "none",
         "line": {
          "color": "green",
          "width": 3
         },
         "mode": "lines",
         "showlegend": false,
         "type": "scatter",
         "x": [
          "2019-11-06T00:00:00",
          "2019-11-07T00:00:00"
         ],
         "xaxis": "x",
         "y": [
          146.09,
          146.09
         ],
         "yaxis": "y"
        },
        {
         "hoverinfo": "none",
         "line": {
          "color": "red",
          "width": 3
         },
         "mode": "lines",
         "showlegend": false,
         "type": "scatter",
         "x": [
          "2019-11-07T00:00:00",
          "2019-11-08T00:00:00"
         ],
         "xaxis": "x",
         "y": [
          146.09,
          146.07
         ],
         "yaxis": "y"
        },
        {
         "hoverinfo": "none",
         "line": {
          "color": "red",
          "width": 3
         },
         "mode": "lines",
         "showlegend": false,
         "type": "scatter",
         "x": [
          "2019-11-08T00:00:00",
          "2019-11-09T00:00:00"
         ],
         "xaxis": "x",
         "y": [
          146.07,
          146.05
         ],
         "yaxis": "y"
        },
        {
         "hoverinfo": "none",
         "line": {
          "color": "green",
          "width": 3
         },
         "mode": "lines",
         "showlegend": false,
         "type": "scatter",
         "x": [
          "2019-11-09T00:00:00",
          "2019-11-10T00:00:00"
         ],
         "xaxis": "x",
         "y": [
          146.05,
          146.15
         ],
         "yaxis": "y"
        },
        {
         "hoverinfo": "none",
         "line": {
          "color": "green",
          "width": 3
         },
         "mode": "lines",
         "showlegend": false,
         "type": "scatter",
         "x": [
          "2019-11-10T00:00:00",
          "2019-11-11T00:00:00"
         ],
         "xaxis": "x",
         "y": [
          146.15,
          146.24
         ],
         "yaxis": "y"
        },
        {
         "hoverinfo": "none",
         "line": {
          "color": "red",
          "width": 3
         },
         "mode": "lines",
         "showlegend": false,
         "type": "scatter",
         "x": [
          "2019-11-11T00:00:00",
          "2019-11-12T00:00:00"
         ],
         "xaxis": "x",
         "y": [
          146.24,
          146.22
         ],
         "yaxis": "y"
        },
        {
         "hoverinfo": "none",
         "line": {
          "color": "red",
          "width": 3
         },
         "mode": "lines",
         "showlegend": false,
         "type": "scatter",
         "x": [
          "2019-11-12T00:00:00",
          "2019-11-13T00:00:00"
         ],
         "xaxis": "x",
         "y": [
          146.22,
          146.21
         ],
         "yaxis": "y"
        },
        {
         "hoverinfo": "none",
         "line": {
          "color": "red",
          "width": 3
         },
         "mode": "lines",
         "showlegend": false,
         "type": "scatter",
         "x": [
          "2019-11-13T00:00:00",
          "2019-11-14T00:00:00"
         ],
         "xaxis": "x",
         "y": [
          146.21,
          146.08
         ],
         "yaxis": "y"
        },
        {
         "hoverinfo": "none",
         "line": {
          "color": "red",
          "width": 3
         },
         "mode": "lines",
         "showlegend": false,
         "type": "scatter",
         "x": [
          "2019-11-14T00:00:00",
          "2019-11-15T00:00:00"
         ],
         "xaxis": "x",
         "y": [
          146.08,
          145.96
         ],
         "yaxis": "y"
        },
        {
         "hoverinfo": "none",
         "line": {
          "color": "green",
          "width": 3
         },
         "mode": "lines",
         "showlegend": false,
         "type": "scatter",
         "x": [
          "2019-11-15T00:00:00",
          "2019-11-16T00:00:00"
         ],
         "xaxis": "x",
         "y": [
          145.96,
          145.96
         ],
         "yaxis": "y"
        },
        {
         "hoverinfo": "none",
         "line": {
          "color": "green",
          "width": 3
         },
         "mode": "lines",
         "showlegend": false,
         "type": "scatter",
         "x": [
          "2019-11-16T00:00:00",
          "2019-11-17T00:00:00"
         ],
         "xaxis": "x",
         "y": [
          145.96,
          146.05
         ],
         "yaxis": "y"
        },
        {
         "hoverinfo": "none",
         "line": {
          "color": "red",
          "width": 3
         },
         "mode": "lines",
         "showlegend": false,
         "type": "scatter",
         "x": [
          "2019-11-17T00:00:00",
          "2019-11-18T00:00:00"
         ],
         "xaxis": "x",
         "y": [
          146.05,
          146.03
         ],
         "yaxis": "y"
        },
        {
         "hoverinfo": "none",
         "line": {
          "color": "red",
          "width": 3
         },
         "mode": "lines",
         "showlegend": false,
         "type": "scatter",
         "x": [
          "2019-11-18T00:00:00",
          "2019-11-19T00:00:00"
         ],
         "xaxis": "x",
         "y": [
          146.03,
          146.02
         ],
         "yaxis": "y"
        },
        {
         "hoverinfo": "none",
         "line": {
          "color": "red",
          "width": 3
         },
         "mode": "lines",
         "showlegend": false,
         "type": "scatter",
         "x": [
          "2019-11-19T00:00:00",
          "2019-11-20T00:00:00"
         ],
         "xaxis": "x",
         "y": [
          146.02,
          146
         ],
         "yaxis": "y"
        },
        {
         "hoverinfo": "none",
         "line": {
          "color": "red",
          "width": 3
         },
         "mode": "lines",
         "showlegend": false,
         "type": "scatter",
         "x": [
          "2019-11-20T00:00:00",
          "2019-11-21T00:00:00"
         ],
         "xaxis": "x",
         "y": [
          146,
          145.98
         ],
         "yaxis": "y"
        },
        {
         "hoverinfo": "none",
         "line": {
          "color": "green",
          "width": 3
         },
         "mode": "lines",
         "showlegend": false,
         "type": "scatter",
         "x": [
          "2019-11-21T00:00:00",
          "2019-11-22T00:00:00"
         ],
         "xaxis": "x",
         "y": [
          145.98,
          145.98
         ],
         "yaxis": "y"
        },
        {
         "hoverinfo": "none",
         "line": {
          "color": "green",
          "width": 3
         },
         "mode": "lines",
         "showlegend": false,
         "type": "scatter",
         "x": [
          "2019-11-22T00:00:00",
          "2019-11-23T00:00:00"
         ],
         "xaxis": "x",
         "y": [
          145.98,
          146.09
         ],
         "yaxis": "y"
        },
        {
         "hoverinfo": "none",
         "line": {
          "color": "green",
          "width": 3
         },
         "mode": "lines",
         "showlegend": false,
         "type": "scatter",
         "x": [
          "2019-11-23T00:00:00",
          "2019-11-24T00:00:00"
         ],
         "xaxis": "x",
         "y": [
          146.09,
          146.2
         ],
         "yaxis": "y"
        },
        {
         "hoverinfo": "none",
         "line": {
          "color": "green",
          "width": 3
         },
         "mode": "lines",
         "showlegend": false,
         "type": "scatter",
         "x": [
          "2019-11-24T00:00:00",
          "2019-11-25T00:00:00"
         ],
         "xaxis": "x",
         "y": [
          146.2,
          146.2
         ],
         "yaxis": "y"
        },
        {
         "hoverinfo": "none",
         "line": {
          "color": "green",
          "width": 3
         },
         "mode": "lines",
         "showlegend": false,
         "type": "scatter",
         "x": [
          "2019-11-25T00:00:00",
          "2019-11-26T00:00:00"
         ],
         "xaxis": "x",
         "y": [
          146.2,
          146.2
         ],
         "yaxis": "y"
        },
        {
         "hoverinfo": "none",
         "line": {
          "color": "red",
          "width": 3
         },
         "mode": "lines",
         "showlegend": false,
         "type": "scatter",
         "x": [
          "2019-11-26T00:00:00",
          "2019-11-27T00:00:00"
         ],
         "xaxis": "x",
         "y": [
          146.2,
          146.19
         ],
         "yaxis": "y"
        },
        {
         "hoverinfo": "none",
         "line": {
          "color": "green",
          "width": 3
         },
         "mode": "lines",
         "showlegend": false,
         "type": "scatter",
         "x": [
          "2019-11-27T00:00:00",
          "2019-11-28T00:00:00"
         ],
         "xaxis": "x",
         "y": [
          146.19,
          146.19
         ],
         "yaxis": "y"
        },
        {
         "hoverinfo": "none",
         "line": {
          "color": "red",
          "width": 3
         },
         "mode": "lines",
         "showlegend": false,
         "type": "scatter",
         "x": [
          "2019-11-28T00:00:00",
          "2019-11-29T00:00:00"
         ],
         "xaxis": "x",
         "y": [
          146.19,
          146.08
         ],
         "yaxis": "y"
        },
        {
         "hoverinfo": "none",
         "line": {
          "color": "green",
          "width": 3
         },
         "mode": "lines",
         "showlegend": false,
         "type": "scatter",
         "x": [
          "2019-11-29T00:00:00",
          "2019-11-30T00:00:00"
         ],
         "xaxis": "x",
         "y": [
          146.08,
          146.19
         ],
         "yaxis": "y"
        },
        {
         "hoverinfo": "none",
         "line": {
          "color": "green",
          "width": 3
         },
         "mode": "lines",
         "showlegend": false,
         "type": "scatter",
         "x": [
          "2019-11-30T00:00:00",
          "2019-12-01T00:00:00"
         ],
         "xaxis": "x",
         "y": [
          146.19,
          146.19
         ],
         "yaxis": "y"
        },
        {
         "hoverinfo": "none",
         "line": {
          "color": "green",
          "width": 3
         },
         "mode": "lines",
         "showlegend": false,
         "type": "scatter",
         "x": [
          "2019-12-01T00:00:00",
          "2019-12-02T00:00:00"
         ],
         "xaxis": "x",
         "y": [
          146.19,
          146.19
         ],
         "yaxis": "y"
        },
        {
         "hoverinfo": "none",
         "line": {
          "color": "red",
          "width": 3
         },
         "mode": "lines",
         "showlegend": false,
         "type": "scatter",
         "x": [
          "2019-12-02T00:00:00",
          "2019-12-03T00:00:00"
         ],
         "xaxis": "x",
         "y": [
          146.19,
          146.17
         ],
         "yaxis": "y"
        },
        {
         "hoverinfo": "none",
         "line": {
          "color": "red",
          "width": 3
         },
         "mode": "lines",
         "showlegend": false,
         "type": "scatter",
         "x": [
          "2019-12-03T00:00:00",
          "2019-12-04T00:00:00"
         ],
         "xaxis": "x",
         "y": [
          146.17,
          146.15
         ],
         "yaxis": "y"
        },
        {
         "hoverinfo": "none",
         "line": {
          "color": "red",
          "width": 3
         },
         "mode": "lines",
         "showlegend": false,
         "type": "scatter",
         "x": [
          "2019-12-04T00:00:00",
          "2019-12-05T00:00:00"
         ],
         "xaxis": "x",
         "y": [
          146.15,
          146.04
         ],
         "yaxis": "y"
        },
        {
         "hoverinfo": "none",
         "line": {
          "color": "red",
          "width": 3
         },
         "mode": "lines",
         "showlegend": false,
         "type": "scatter",
         "x": [
          "2019-12-05T00:00:00",
          "2019-12-06T00:00:00"
         ],
         "xaxis": "x",
         "y": [
          146.04,
          145.92
         ],
         "yaxis": "y"
        },
        {
         "hoverinfo": "none",
         "line": {
          "color": "red",
          "width": 3
         },
         "mode": "lines",
         "showlegend": false,
         "type": "scatter",
         "x": [
          "2019-12-06T00:00:00",
          "2019-12-07T00:00:00"
         ],
         "xaxis": "x",
         "y": [
          145.92,
          145.9
         ],
         "yaxis": "y"
        },
        {
         "hoverinfo": "none",
         "line": {
          "color": "red",
          "width": 3
         },
         "mode": "lines",
         "showlegend": false,
         "type": "scatter",
         "x": [
          "2019-12-07T00:00:00",
          "2019-12-08T00:00:00"
         ],
         "xaxis": "x",
         "y": [
          145.9,
          145.79
         ],
         "yaxis": "y"
        },
        {
         "hoverinfo": "none",
         "line": {
          "color": "green",
          "width": 3
         },
         "mode": "lines",
         "showlegend": false,
         "type": "scatter",
         "x": [
          "2019-12-08T00:00:00",
          "2019-12-09T00:00:00"
         ],
         "xaxis": "x",
         "y": [
          145.79,
          145.79
         ],
         "yaxis": "y"
        },
        {
         "hoverinfo": "none",
         "line": {
          "color": "green",
          "width": 3
         },
         "mode": "lines",
         "showlegend": false,
         "type": "scatter",
         "x": [
          "2019-12-09T00:00:00",
          "2019-12-10T00:00:00"
         ],
         "xaxis": "x",
         "y": [
          145.79,
          145.79
         ],
         "yaxis": "y"
        },
        {
         "hoverinfo": "none",
         "line": {
          "color": "green",
          "width": 3
         },
         "mode": "lines",
         "showlegend": false,
         "type": "scatter",
         "x": [
          "2019-12-10T00:00:00",
          "2019-12-11T00:00:00"
         ],
         "xaxis": "x",
         "y": [
          145.79,
          145.81
         ],
         "yaxis": "y"
        },
        {
         "hoverinfo": "none",
         "line": {
          "color": "green",
          "width": 3
         },
         "mode": "lines",
         "showlegend": false,
         "type": "scatter",
         "x": [
          "2019-12-11T00:00:00",
          "2019-12-12T00:00:00"
         ],
         "xaxis": "x",
         "y": [
          145.81,
          145.83
         ],
         "yaxis": "y"
        },
        {
         "hoverinfo": "none",
         "line": {
          "color": "green",
          "width": 3
         },
         "mode": "lines",
         "showlegend": false,
         "type": "scatter",
         "x": [
          "2019-12-12T00:00:00",
          "2019-12-13T00:00:00"
         ],
         "xaxis": "x",
         "y": [
          145.83,
          145.95
         ],
         "yaxis": "y"
        },
        {
         "hoverinfo": "none",
         "line": {
          "color": "green",
          "width": 3
         },
         "mode": "lines",
         "showlegend": false,
         "type": "scatter",
         "x": [
          "2019-12-13T00:00:00",
          "2019-12-14T00:00:00"
         ],
         "xaxis": "x",
         "y": [
          145.95,
          146.09
         ],
         "yaxis": "y"
        },
        {
         "hoverinfo": "none",
         "line": {
          "color": "green",
          "width": 3
         },
         "mode": "lines",
         "showlegend": false,
         "type": "scatter",
         "x": [
          "2019-12-14T00:00:00",
          "2019-12-15T00:00:00"
         ],
         "xaxis": "x",
         "y": [
          146.09,
          146.25
         ],
         "yaxis": "y"
        },
        {
         "hoverinfo": "none",
         "line": {
          "color": "green",
          "width": 3
         },
         "mode": "lines",
         "showlegend": false,
         "type": "scatter",
         "x": [
          "2019-12-15T00:00:00",
          "2019-12-16T00:00:00"
         ],
         "xaxis": "x",
         "y": [
          146.25,
          146.52
         ],
         "yaxis": "y"
        },
        {
         "hoverinfo": "none",
         "line": {
          "color": "green",
          "width": 3
         },
         "mode": "lines",
         "showlegend": false,
         "type": "scatter",
         "x": [
          "2019-12-16T00:00:00",
          "2019-12-17T00:00:00"
         ],
         "xaxis": "x",
         "y": [
          146.52,
          146.67
         ],
         "yaxis": "y"
        },
        {
         "hoverinfo": "none",
         "line": {
          "color": "green",
          "width": 3
         },
         "mode": "lines",
         "showlegend": false,
         "type": "scatter",
         "x": [
          "2019-12-17T00:00:00",
          "2019-12-18T00:00:00"
         ],
         "xaxis": "x",
         "y": [
          146.67,
          146.83
         ],
         "yaxis": "y"
        },
        {
         "hoverinfo": "none",
         "line": {
          "color": "green",
          "width": 3
         },
         "mode": "lines",
         "showlegend": false,
         "type": "scatter",
         "x": [
          "2019-12-18T00:00:00",
          "2019-12-19T00:00:00"
         ],
         "xaxis": "x",
         "y": [
          146.83,
          146.88
         ],
         "yaxis": "y"
        },
        {
         "hoverinfo": "none",
         "line": {
          "color": "green",
          "width": 3
         },
         "mode": "lines",
         "showlegend": false,
         "type": "scatter",
         "x": [
          "2019-12-19T00:00:00",
          "2019-12-20T00:00:00"
         ],
         "xaxis": "x",
         "y": [
          146.88,
          147.04
         ],
         "yaxis": "y"
        },
        {
         "hoverinfo": "none",
         "line": {
          "color": "green",
          "width": 3
         },
         "mode": "lines",
         "showlegend": false,
         "type": "scatter",
         "x": [
          "2019-12-20T00:00:00",
          "2019-12-21T00:00:00"
         ],
         "xaxis": "x",
         "y": [
          147.04,
          147.2
         ],
         "yaxis": "y"
        },
        {
         "hoverinfo": "none",
         "line": {
          "color": "green",
          "width": 3
         },
         "mode": "lines",
         "showlegend": false,
         "type": "scatter",
         "x": [
          "2019-12-21T00:00:00",
          "2019-12-22T00:00:00"
         ],
         "xaxis": "x",
         "y": [
          147.2,
          147.35
         ],
         "yaxis": "y"
        },
        {
         "hoverinfo": "none",
         "line": {
          "color": "green",
          "width": 3
         },
         "mode": "lines",
         "showlegend": false,
         "type": "scatter",
         "x": [
          "2019-12-22T00:00:00",
          "2019-12-23T00:00:00"
         ],
         "xaxis": "x",
         "y": [
          147.35,
          147.51
         ],
         "yaxis": "y"
        },
        {
         "hoverinfo": "none",
         "line": {
          "color": "green",
          "width": 3
         },
         "mode": "lines",
         "showlegend": false,
         "type": "scatter",
         "x": [
          "2019-12-23T00:00:00",
          "2019-12-24T00:00:00"
         ],
         "xaxis": "x",
         "y": [
          147.51,
          147.54
         ],
         "yaxis": "y"
        },
        {
         "hoverinfo": "none",
         "line": {
          "color": "green",
          "width": 3
         },
         "mode": "lines",
         "showlegend": false,
         "type": "scatter",
         "x": [
          "2019-12-24T00:00:00",
          "2019-12-25T00:00:00"
         ],
         "xaxis": "x",
         "y": [
          147.54,
          147.58
         ],
         "yaxis": "y"
        },
        {
         "hoverinfo": "none",
         "line": {
          "color": "green",
          "width": 3
         },
         "mode": "lines",
         "showlegend": false,
         "type": "scatter",
         "x": [
          "2019-12-25T00:00:00",
          "2019-12-26T00:00:00"
         ],
         "xaxis": "x",
         "y": [
          147.58,
          147.59
         ],
         "yaxis": "y"
        },
        {
         "hoverinfo": "none",
         "line": {
          "color": "green",
          "width": 3
         },
         "mode": "lines",
         "showlegend": false,
         "type": "scatter",
         "x": [
          "2019-12-26T00:00:00",
          "2019-12-27T00:00:00"
         ],
         "xaxis": "x",
         "y": [
          147.59,
          147.73
         ],
         "yaxis": "y"
        },
        {
         "hoverinfo": "none",
         "line": {
          "color": "green",
          "width": 3
         },
         "mode": "lines",
         "showlegend": false,
         "type": "scatter",
         "x": [
          "2019-12-27T00:00:00",
          "2019-12-28T00:00:00"
         ],
         "xaxis": "x",
         "y": [
          147.73,
          147.78
         ],
         "yaxis": "y"
        },
        {
         "hoverinfo": "none",
         "line": {
          "color": "green",
          "width": 3
         },
         "mode": "lines",
         "showlegend": false,
         "type": "scatter",
         "x": [
          "2019-12-28T00:00:00",
          "2019-12-29T00:00:00"
         ],
         "xaxis": "x",
         "y": [
          147.78,
          147.8
         ],
         "yaxis": "y"
        },
        {
         "hoverinfo": "none",
         "line": {
          "color": "red",
          "width": 3
         },
         "mode": "lines",
         "showlegend": false,
         "type": "scatter",
         "x": [
          "2019-12-29T00:00:00",
          "2019-12-30T00:00:00"
         ],
         "xaxis": "x",
         "y": [
          147.8,
          147.78
         ],
         "yaxis": "y"
        },
        {
         "hoverinfo": "none",
         "line": {
          "color": "red",
          "width": 3
         },
         "mode": "lines",
         "showlegend": false,
         "type": "scatter",
         "x": [
          "2019-12-30T00:00:00",
          "2019-12-31T00:00:00"
         ],
         "xaxis": "x",
         "y": [
          147.78,
          147.75
         ],
         "yaxis": "y"
        },
        {
         "hoverinfo": "none",
         "line": {
          "color": "red",
          "width": 3
         },
         "mode": "lines",
         "showlegend": false,
         "type": "scatter",
         "x": [
          "2019-12-31T00:00:00",
          "2020-01-01T00:00:00"
         ],
         "xaxis": "x",
         "y": [
          147.75,
          147.73
         ],
         "yaxis": "y"
        },
        {
         "hoverinfo": "none",
         "line": {
          "color": "red",
          "width": 3
         },
         "mode": "lines",
         "showlegend": false,
         "type": "scatter",
         "x": [
          "2020-01-01T00:00:00",
          "2020-01-02T00:00:00"
         ],
         "xaxis": "x",
         "y": [
          147.73,
          147.7
         ],
         "yaxis": "y"
        },
        {
         "hoverinfo": "none",
         "line": {
          "color": "red",
          "width": 3
         },
         "mode": "lines",
         "showlegend": false,
         "type": "scatter",
         "x": [
          "2020-01-02T00:00:00",
          "2020-01-03T00:00:00"
         ],
         "xaxis": "x",
         "y": [
          147.7,
          147.68
         ],
         "yaxis": "y"
        },
        {
         "hoverinfo": "none",
         "line": {
          "color": "red",
          "width": 3
         },
         "mode": "lines",
         "showlegend": false,
         "type": "scatter",
         "x": [
          "2020-01-03T00:00:00",
          "2020-01-04T00:00:00"
         ],
         "xaxis": "x",
         "y": [
          147.68,
          147.67
         ],
         "yaxis": "y"
        },
        {
         "hoverinfo": "none",
         "line": {
          "color": "red",
          "width": 3
         },
         "mode": "lines",
         "showlegend": false,
         "type": "scatter",
         "x": [
          "2020-01-04T00:00:00",
          "2020-01-05T00:00:00"
         ],
         "xaxis": "x",
         "y": [
          147.67,
          147.64
         ],
         "yaxis": "y"
        },
        {
         "hoverinfo": "none",
         "line": {
          "color": "red",
          "width": 3
         },
         "mode": "lines",
         "showlegend": false,
         "type": "scatter",
         "x": [
          "2020-01-05T00:00:00",
          "2020-01-06T00:00:00"
         ],
         "xaxis": "x",
         "y": [
          147.64,
          147.62
         ],
         "yaxis": "y"
        },
        {
         "hoverinfo": "none",
         "line": {
          "color": "green",
          "width": 3
         },
         "mode": "lines",
         "showlegend": false,
         "type": "scatter",
         "x": [
          "2020-01-06T00:00:00",
          "2020-01-07T00:00:00"
         ],
         "xaxis": "x",
         "y": [
          147.62,
          147.62
         ],
         "yaxis": "y"
        },
        {
         "hoverinfo": "none",
         "line": {
          "color": "green",
          "width": 3
         },
         "mode": "lines",
         "showlegend": false,
         "type": "scatter",
         "x": [
          "2020-01-07T00:00:00",
          "2020-01-08T00:00:00"
         ],
         "xaxis": "x",
         "y": [
          147.62,
          147.62
         ],
         "yaxis": "y"
        },
        {
         "hoverinfo": "none",
         "line": {
          "color": "red",
          "width": 3
         },
         "mode": "lines",
         "showlegend": false,
         "type": "scatter",
         "x": [
          "2020-01-08T00:00:00",
          "2020-01-09T00:00:00"
         ],
         "xaxis": "x",
         "y": [
          147.62,
          147.6
         ],
         "yaxis": "y"
        },
        {
         "hoverinfo": "none",
         "line": {
          "color": "green",
          "width": 3
         },
         "mode": "lines",
         "showlegend": false,
         "type": "scatter",
         "x": [
          "2020-01-09T00:00:00",
          "2020-01-10T00:00:00"
         ],
         "xaxis": "x",
         "y": [
          147.6,
          147.6
         ],
         "yaxis": "y"
        },
        {
         "hoverinfo": "none",
         "line": {
          "color": "green",
          "width": 3
         },
         "mode": "lines",
         "showlegend": false,
         "type": "scatter",
         "x": [
          "2020-01-10T00:00:00",
          "2020-01-11T00:00:00"
         ],
         "xaxis": "x",
         "y": [
          147.6,
          147.6
         ],
         "yaxis": "y"
        },
        {
         "hoverinfo": "none",
         "line": {
          "color": "red",
          "width": 3
         },
         "mode": "lines",
         "showlegend": false,
         "type": "scatter",
         "x": [
          "2020-01-11T00:00:00",
          "2020-01-12T00:00:00"
         ],
         "xaxis": "x",
         "y": [
          147.6,
          147.59
         ],
         "yaxis": "y"
        },
        {
         "hoverinfo": "none",
         "line": {
          "color": "red",
          "width": 3
         },
         "mode": "lines",
         "showlegend": false,
         "type": "scatter",
         "x": [
          "2020-01-12T00:00:00",
          "2020-01-13T00:00:00"
         ],
         "xaxis": "x",
         "y": [
          147.59,
          147.57
         ],
         "yaxis": "y"
        },
        {
         "hoverinfo": "none",
         "line": {
          "color": "green",
          "width": 3
         },
         "mode": "lines",
         "showlegend": false,
         "type": "scatter",
         "x": [
          "2020-01-13T00:00:00",
          "2020-01-14T00:00:00"
         ],
         "xaxis": "x",
         "y": [
          147.57,
          147.59
         ],
         "yaxis": "y"
        },
        {
         "hoverinfo": "none",
         "line": {
          "color": "green",
          "width": 3
         },
         "mode": "lines",
         "showlegend": false,
         "type": "scatter",
         "x": [
          "2020-01-14T00:00:00",
          "2020-01-15T00:00:00"
         ],
         "xaxis": "x",
         "y": [
          147.59,
          147.6
         ],
         "yaxis": "y"
        },
        {
         "hoverinfo": "none",
         "line": {
          "color": "red",
          "width": 3
         },
         "mode": "lines",
         "showlegend": false,
         "type": "scatter",
         "x": [
          "2020-01-15T00:00:00",
          "2020-01-16T00:00:00"
         ],
         "xaxis": "x",
         "y": [
          147.6,
          147.49
         ],
         "yaxis": "y"
        },
        {
         "hoverinfo": "none",
         "line": {
          "color": "red",
          "width": 3
         },
         "mode": "lines",
         "showlegend": false,
         "type": "scatter",
         "x": [
          "2020-01-16T00:00:00",
          "2020-01-17T00:00:00"
         ],
         "xaxis": "x",
         "y": [
          147.49,
          147.4
         ],
         "yaxis": "y"
        },
        {
         "hoverinfo": "none",
         "line": {
          "color": "red",
          "width": 3
         },
         "mode": "lines",
         "showlegend": false,
         "type": "scatter",
         "x": [
          "2020-01-17T00:00:00",
          "2020-01-18T00:00:00"
         ],
         "xaxis": "x",
         "y": [
          147.4,
          147.31
         ],
         "yaxis": "y"
        },
        {
         "hoverinfo": "none",
         "line": {
          "color": "red",
          "width": 3
         },
         "mode": "lines",
         "showlegend": false,
         "type": "scatter",
         "x": [
          "2020-01-18T00:00:00",
          "2020-01-19T00:00:00"
         ],
         "xaxis": "x",
         "y": [
          147.31,
          147.22
         ],
         "yaxis": "y"
        },
        {
         "hoverinfo": "none",
         "line": {
          "color": "red",
          "width": 3
         },
         "mode": "lines",
         "showlegend": false,
         "type": "scatter",
         "x": [
          "2020-01-19T00:00:00",
          "2020-01-20T00:00:00"
         ],
         "xaxis": "x",
         "y": [
          147.22,
          147.14
         ],
         "yaxis": "y"
        },
        {
         "hoverinfo": "none",
         "line": {
          "color": "red",
          "width": 3
         },
         "mode": "lines",
         "showlegend": false,
         "type": "scatter",
         "x": [
          "2020-01-20T00:00:00",
          "2020-01-21T00:00:00"
         ],
         "xaxis": "x",
         "y": [
          147.14,
          147.08
         ],
         "yaxis": "y"
        },
        {
         "hoverinfo": "none",
         "line": {
          "color": "red",
          "width": 3
         },
         "mode": "lines",
         "showlegend": false,
         "type": "scatter",
         "x": [
          "2020-01-21T00:00:00",
          "2020-01-22T00:00:00"
         ],
         "xaxis": "x",
         "y": [
          147.08,
          146.99
         ],
         "yaxis": "y"
        },
        {
         "hoverinfo": "none",
         "line": {
          "color": "red",
          "width": 3
         },
         "mode": "lines",
         "showlegend": false,
         "type": "scatter",
         "x": [
          "2020-01-22T00:00:00",
          "2020-01-23T00:00:00"
         ],
         "xaxis": "x",
         "y": [
          146.99,
          146.9
         ],
         "yaxis": "y"
        },
        {
         "hoverinfo": "none",
         "line": {
          "color": "red",
          "width": 3
         },
         "mode": "lines",
         "showlegend": false,
         "type": "scatter",
         "x": [
          "2020-01-23T00:00:00",
          "2020-01-24T00:00:00"
         ],
         "xaxis": "x",
         "y": [
          146.9,
          146.84
         ],
         "yaxis": "y"
        },
        {
         "hoverinfo": "none",
         "line": {
          "color": "red",
          "width": 3
         },
         "mode": "lines",
         "showlegend": false,
         "type": "scatter",
         "x": [
          "2020-01-24T00:00:00",
          "2020-01-25T00:00:00"
         ],
         "xaxis": "x",
         "y": [
          146.84,
          146.76
         ],
         "yaxis": "y"
        },
        {
         "hoverinfo": "none",
         "line": {
          "color": "red",
          "width": 3
         },
         "mode": "lines",
         "showlegend": false,
         "type": "scatter",
         "x": [
          "2020-01-25T00:00:00",
          "2020-01-26T00:00:00"
         ],
         "xaxis": "x",
         "y": [
          146.76,
          146.68
         ],
         "yaxis": "y"
        },
        {
         "hoverinfo": "none",
         "line": {
          "color": "red",
          "width": 3
         },
         "mode": "lines",
         "showlegend": false,
         "type": "scatter",
         "x": [
          "2020-01-26T00:00:00",
          "2020-01-27T00:00:00"
         ],
         "xaxis": "x",
         "y": [
          146.68,
          146.61
         ],
         "yaxis": "y"
        },
        {
         "hoverinfo": "none",
         "line": {
          "color": "red",
          "width": 3
         },
         "mode": "lines",
         "showlegend": false,
         "type": "scatter",
         "x": [
          "2020-01-27T00:00:00",
          "2020-01-28T00:00:00"
         ],
         "xaxis": "x",
         "y": [
          146.61,
          146.53
         ],
         "yaxis": "y"
        },
        {
         "hoverinfo": "none",
         "line": {
          "color": "red",
          "width": 3
         },
         "mode": "lines",
         "showlegend": false,
         "type": "scatter",
         "x": [
          "2020-01-28T00:00:00",
          "2020-01-29T00:00:00"
         ],
         "xaxis": "x",
         "y": [
          146.53,
          146.44
         ],
         "yaxis": "y"
        },
        {
         "hoverinfo": "none",
         "line": {
          "color": "red",
          "width": 3
         },
         "mode": "lines",
         "showlegend": false,
         "type": "scatter",
         "x": [
          "2020-01-29T00:00:00",
          "2020-01-30T00:00:00"
         ],
         "xaxis": "x",
         "y": [
          146.44,
          146.35
         ],
         "yaxis": "y"
        },
        {
         "hoverinfo": "none",
         "line": {
          "color": "red",
          "width": 3
         },
         "mode": "lines",
         "showlegend": false,
         "type": "scatter",
         "x": [
          "2020-01-30T00:00:00",
          "2020-01-31T00:00:00"
         ],
         "xaxis": "x",
         "y": [
          146.35,
          146.27
         ],
         "yaxis": "y"
        },
        {
         "hoverinfo": "none",
         "line": {
          "color": "green",
          "width": 3
         },
         "mode": "lines",
         "showlegend": false,
         "type": "scatter",
         "x": [
          "2020-01-31T00:00:00",
          "2020-02-01T00:00:00"
         ],
         "xaxis": "x",
         "y": [
          146.27,
          146.29
         ],
         "yaxis": "y"
        },
        {
         "hoverinfo": "none",
         "line": {
          "color": "red",
          "width": 3
         },
         "mode": "lines",
         "showlegend": false,
         "type": "scatter",
         "x": [
          "2020-02-01T00:00:00",
          "2020-02-02T00:00:00"
         ],
         "xaxis": "x",
         "y": [
          146.29,
          146.18
         ],
         "yaxis": "y"
        },
        {
         "hoverinfo": "none",
         "line": {
          "color": "green",
          "width": 3
         },
         "mode": "lines",
         "showlegend": false,
         "type": "scatter",
         "x": [
          "2020-02-02T00:00:00",
          "2020-02-03T00:00:00"
         ],
         "xaxis": "x",
         "y": [
          146.18,
          146.18
         ],
         "yaxis": "y"
        },
        {
         "hoverinfo": "none",
         "line": {
          "color": "green",
          "width": 3
         },
         "mode": "lines",
         "showlegend": false,
         "type": "scatter",
         "x": [
          "2020-02-03T00:00:00",
          "2020-02-04T00:00:00"
         ],
         "xaxis": "x",
         "y": [
          146.18,
          146.18
         ],
         "yaxis": "y"
        },
        {
         "hoverinfo": "none",
         "line": {
          "color": "red",
          "width": 3
         },
         "mode": "lines",
         "showlegend": false,
         "type": "scatter",
         "x": [
          "2020-02-04T00:00:00",
          "2020-02-05T00:00:00"
         ],
         "xaxis": "x",
         "y": [
          146.18,
          146.16
         ],
         "yaxis": "y"
        },
        {
         "hoverinfo": "none",
         "line": {
          "color": "green",
          "width": 3
         },
         "mode": "lines",
         "showlegend": false,
         "type": "scatter",
         "x": [
          "2020-02-05T00:00:00",
          "2020-02-06T00:00:00"
         ],
         "xaxis": "x",
         "y": [
          146.16,
          146.16
         ],
         "yaxis": "y"
        },
        {
         "hoverinfo": "none",
         "line": {
          "color": "red",
          "width": 3
         },
         "mode": "lines",
         "showlegend": false,
         "type": "scatter",
         "x": [
          "2020-02-06T00:00:00",
          "2020-02-07T00:00:00"
         ],
         "xaxis": "x",
         "y": [
          146.16,
          146.07
         ],
         "yaxis": "y"
        },
        {
         "hoverinfo": "none",
         "line": {
          "color": "red",
          "width": 3
         },
         "mode": "lines",
         "showlegend": false,
         "type": "scatter",
         "x": [
          "2020-02-07T00:00:00",
          "2020-02-08T00:00:00"
         ],
         "xaxis": "x",
         "y": [
          146.07,
          145.94
         ],
         "yaxis": "y"
        },
        {
         "hoverinfo": "none",
         "line": {
          "color": "red",
          "width": 3
         },
         "mode": "lines",
         "showlegend": false,
         "type": "scatter",
         "x": [
          "2020-02-08T00:00:00",
          "2020-02-09T00:00:00"
         ],
         "xaxis": "x",
         "y": [
          145.94,
          145.82
         ],
         "yaxis": "y"
        },
        {
         "hoverinfo": "none",
         "line": {
          "color": "green",
          "width": 3
         },
         "mode": "lines",
         "showlegend": false,
         "type": "scatter",
         "x": [
          "2020-02-09T00:00:00",
          "2020-02-10T00:00:00"
         ],
         "xaxis": "x",
         "y": [
          145.82,
          145.82
         ],
         "yaxis": "y"
        },
        {
         "hoverinfo": "none",
         "line": {
          "color": "red",
          "width": 3
         },
         "mode": "lines",
         "showlegend": false,
         "type": "scatter",
         "x": [
          "2020-02-10T00:00:00",
          "2020-02-11T00:00:00"
         ],
         "xaxis": "x",
         "y": [
          145.82,
          145.73
         ],
         "yaxis": "y"
        },
        {
         "hoverinfo": "none",
         "line": {
          "color": "red",
          "width": 3
         },
         "mode": "lines",
         "showlegend": false,
         "type": "scatter",
         "x": [
          "2020-02-11T00:00:00",
          "2020-02-12T00:00:00"
         ],
         "xaxis": "x",
         "y": [
          145.73,
          145.62
         ],
         "yaxis": "y"
        },
        {
         "hoverinfo": "none",
         "line": {
          "color": "red",
          "width": 3
         },
         "mode": "lines",
         "showlegend": false,
         "type": "scatter",
         "x": [
          "2020-02-12T00:00:00",
          "2020-02-13T00:00:00"
         ],
         "xaxis": "x",
         "y": [
          145.62,
          145.51
         ],
         "yaxis": "y"
        },
        {
         "hoverinfo": "none",
         "line": {
          "color": "red",
          "width": 3
         },
         "mode": "lines",
         "showlegend": false,
         "type": "scatter",
         "x": [
          "2020-02-13T00:00:00",
          "2020-02-14T00:00:00"
         ],
         "xaxis": "x",
         "y": [
          145.51,
          145.4
         ],
         "yaxis": "y"
        },
        {
         "hoverinfo": "none",
         "line": {
          "color": "green",
          "width": 3
         },
         "mode": "lines",
         "showlegend": false,
         "type": "scatter",
         "x": [
          "2020-02-14T00:00:00",
          "2020-02-15T00:00:00"
         ],
         "xaxis": "x",
         "y": [
          145.4,
          145.42
         ],
         "yaxis": "y"
        },
        {
         "hoverinfo": "none",
         "line": {
          "color": "green",
          "width": 3
         },
         "mode": "lines",
         "showlegend": false,
         "type": "scatter",
         "x": [
          "2020-02-15T00:00:00",
          "2020-02-16T00:00:00"
         ],
         "xaxis": "x",
         "y": [
          145.42,
          145.45
         ],
         "yaxis": "y"
        },
        {
         "hoverinfo": "none",
         "line": {
          "color": "green",
          "width": 3
         },
         "mode": "lines",
         "showlegend": false,
         "type": "scatter",
         "x": [
          "2020-02-16T00:00:00",
          "2020-02-17T00:00:00"
         ],
         "xaxis": "x",
         "y": [
          145.45,
          145.57
         ],
         "yaxis": "y"
        },
        {
         "hoverinfo": "none",
         "line": {
          "color": "green",
          "width": 3
         },
         "mode": "lines",
         "showlegend": false,
         "type": "scatter",
         "x": [
          "2020-02-17T00:00:00",
          "2020-02-18T00:00:00"
         ],
         "xaxis": "x",
         "y": [
          145.57,
          145.59
         ],
         "yaxis": "y"
        },
        {
         "hoverinfo": "none",
         "line": {
          "color": "green",
          "width": 3
         },
         "mode": "lines",
         "showlegend": false,
         "type": "scatter",
         "x": [
          "2020-02-18T00:00:00",
          "2020-02-19T00:00:00"
         ],
         "xaxis": "x",
         "y": [
          145.59,
          145.59
         ],
         "yaxis": "y"
        },
        {
         "hoverinfo": "none",
         "line": {
          "color": "green",
          "width": 3
         },
         "mode": "lines",
         "showlegend": false,
         "type": "scatter",
         "x": [
          "2020-02-19T00:00:00",
          "2020-02-20T00:00:00"
         ],
         "xaxis": "x",
         "y": [
          145.59,
          145.61
         ],
         "yaxis": "y"
        },
        {
         "hoverinfo": "none",
         "line": {
          "color": "green",
          "width": 3
         },
         "mode": "lines",
         "showlegend": false,
         "type": "scatter",
         "x": [
          "2020-02-20T00:00:00",
          "2020-02-21T00:00:00"
         ],
         "xaxis": "x",
         "y": [
          145.61,
          145.62
         ],
         "yaxis": "y"
        },
        {
         "hoverinfo": "none",
         "line": {
          "color": "green",
          "width": 3
         },
         "mode": "lines",
         "showlegend": false,
         "type": "scatter",
         "x": [
          "2020-02-21T00:00:00",
          "2020-02-22T00:00:00"
         ],
         "xaxis": "x",
         "y": [
          145.62,
          145.62
         ],
         "yaxis": "y"
        },
        {
         "hoverinfo": "none",
         "line": {
          "color": "green",
          "width": 3
         },
         "mode": "lines",
         "showlegend": false,
         "type": "scatter",
         "x": [
          "2020-02-22T00:00:00",
          "2020-02-23T00:00:00"
         ],
         "xaxis": "x",
         "y": [
          145.62,
          145.62
         ],
         "yaxis": "y"
        },
        {
         "hoverinfo": "none",
         "line": {
          "color": "red",
          "width": 3
         },
         "mode": "lines",
         "showlegend": false,
         "type": "scatter",
         "x": [
          "2020-02-23T00:00:00",
          "2020-02-24T00:00:00"
         ],
         "xaxis": "x",
         "y": [
          145.62,
          145.54
         ],
         "yaxis": "y"
        },
        {
         "hoverinfo": "none",
         "line": {
          "color": "red",
          "width": 3
         },
         "mode": "lines",
         "showlegend": false,
         "type": "scatter",
         "x": [
          "2020-02-24T00:00:00",
          "2020-02-25T00:00:00"
         ],
         "xaxis": "x",
         "y": [
          145.54,
          145.38
         ],
         "yaxis": "y"
        },
        {
         "hoverinfo": "none",
         "line": {
          "color": "red",
          "width": 3
         },
         "mode": "lines",
         "showlegend": false,
         "type": "scatter",
         "x": [
          "2020-02-25T00:00:00",
          "2020-02-26T00:00:00"
         ],
         "xaxis": "x",
         "y": [
          145.38,
          145.33
         ],
         "yaxis": "y"
        },
        {
         "hoverinfo": "none",
         "line": {
          "color": "red",
          "width": 3
         },
         "mode": "lines",
         "showlegend": false,
         "type": "scatter",
         "x": [
          "2020-02-26T00:00:00",
          "2020-02-27T00:00:00"
         ],
         "xaxis": "x",
         "y": [
          145.33,
          145.27
         ],
         "yaxis": "y"
        },
        {
         "hoverinfo": "none",
         "line": {
          "color": "red",
          "width": 3
         },
         "mode": "lines",
         "showlegend": false,
         "type": "scatter",
         "x": [
          "2020-02-27T00:00:00",
          "2020-02-28T00:00:00"
         ],
         "xaxis": "x",
         "y": [
          145.27,
          145.2
         ],
         "yaxis": "y"
        },
        {
         "hoverinfo": "none",
         "line": {
          "color": "green",
          "width": 3
         },
         "mode": "lines",
         "showlegend": false,
         "type": "scatter",
         "x": [
          "2020-02-28T00:00:00",
          "2020-02-29T00:00:00"
         ],
         "xaxis": "x",
         "y": [
          145.2,
          145.25
         ],
         "yaxis": "y"
        },
        {
         "hoverinfo": "none",
         "line": {
          "color": "green",
          "width": 3
         },
         "mode": "lines",
         "showlegend": false,
         "type": "scatter",
         "x": [
          "2020-02-29T00:00:00",
          "2020-03-01T00:00:00"
         ],
         "xaxis": "x",
         "y": [
          145.25,
          145.28
         ],
         "yaxis": "y"
        },
        {
         "hoverinfo": "none",
         "line": {
          "color": "green",
          "width": 3
         },
         "mode": "lines",
         "showlegend": false,
         "type": "scatter",
         "x": [
          "2020-03-01T00:00:00",
          "2020-03-02T00:00:00"
         ],
         "xaxis": "x",
         "y": [
          145.28,
          145.41
         ],
         "yaxis": "y"
        },
        {
         "hoverinfo": "none",
         "line": {
          "color": "green",
          "width": 3
         },
         "mode": "lines",
         "showlegend": false,
         "type": "scatter",
         "x": [
          "2020-03-02T00:00:00",
          "2020-03-03T00:00:00"
         ],
         "xaxis": "x",
         "y": [
          145.41,
          145.65
         ],
         "yaxis": "y"
        },
        {
         "hoverinfo": "none",
         "line": {
          "color": "green",
          "width": 3
         },
         "mode": "lines",
         "showlegend": false,
         "type": "scatter",
         "x": [
          "2020-03-03T00:00:00",
          "2020-03-04T00:00:00"
         ],
         "xaxis": "x",
         "y": [
          145.65,
          145.86
         ],
         "yaxis": "y"
        },
        {
         "hoverinfo": "none",
         "line": {
          "color": "green",
          "width": 3
         },
         "mode": "lines",
         "showlegend": false,
         "type": "scatter",
         "x": [
          "2020-03-04T00:00:00",
          "2020-03-05T00:00:00"
         ],
         "xaxis": "x",
         "y": [
          145.86,
          145.97
         ],
         "yaxis": "y"
        },
        {
         "hoverinfo": "none",
         "line": {
          "color": "green",
          "width": 3
         },
         "mode": "lines",
         "showlegend": false,
         "type": "scatter",
         "x": [
          "2020-03-05T00:00:00",
          "2020-03-06T00:00:00"
         ],
         "xaxis": "x",
         "y": [
          145.97,
          146.1
         ],
         "yaxis": "y"
        },
        {
         "hoverinfo": "none",
         "line": {
          "color": "green",
          "width": 3
         },
         "mode": "lines",
         "showlegend": false,
         "type": "scatter",
         "x": [
          "2020-03-06T00:00:00",
          "2020-03-07T00:00:00"
         ],
         "xaxis": "x",
         "y": [
          146.1,
          146.22
         ],
         "yaxis": "y"
        },
        {
         "hoverinfo": "none",
         "line": {
          "color": "green",
          "width": 3
         },
         "mode": "lines",
         "showlegend": false,
         "type": "scatter",
         "x": [
          "2020-03-07T00:00:00",
          "2020-03-08T00:00:00"
         ],
         "xaxis": "x",
         "y": [
          146.22,
          146.24
         ],
         "yaxis": "y"
        },
        {
         "hoverinfo": "none",
         "line": {
          "color": "green",
          "width": 3
         },
         "mode": "lines",
         "showlegend": false,
         "type": "scatter",
         "x": [
          "2020-03-08T00:00:00",
          "2020-03-09T00:00:00"
         ],
         "xaxis": "x",
         "y": [
          146.24,
          146.4
         ],
         "yaxis": "y"
        },
        {
         "hoverinfo": "none",
         "line": {
          "color": "green",
          "width": 3
         },
         "mode": "lines",
         "showlegend": false,
         "type": "scatter",
         "x": [
          "2020-03-09T00:00:00",
          "2020-03-10T00:00:00"
         ],
         "xaxis": "x",
         "y": [
          146.4,
          146.48
         ],
         "yaxis": "y"
        },
        {
         "hoverinfo": "none",
         "line": {
          "color": "green",
          "width": 3
         },
         "mode": "lines",
         "showlegend": false,
         "type": "scatter",
         "x": [
          "2020-03-10T00:00:00",
          "2020-03-11T00:00:00"
         ],
         "xaxis": "x",
         "y": [
          146.48,
          146.54
         ],
         "yaxis": "y"
        },
        {
         "hoverinfo": "none",
         "line": {
          "color": "green",
          "width": 3
         },
         "mode": "lines",
         "showlegend": false,
         "type": "scatter",
         "x": [
          "2020-03-11T00:00:00",
          "2020-03-12T00:00:00"
         ],
         "xaxis": "x",
         "y": [
          146.54,
          146.59
         ],
         "yaxis": "y"
        },
        {
         "hoverinfo": "none",
         "line": {
          "color": "green",
          "width": 3
         },
         "mode": "lines",
         "showlegend": false,
         "type": "scatter",
         "x": [
          "2020-03-12T00:00:00",
          "2020-03-13T00:00:00"
         ],
         "xaxis": "x",
         "y": [
          146.59,
          146.76
         ],
         "yaxis": "y"
        },
        {
         "hoverinfo": "none",
         "line": {
          "color": "green",
          "width": 3
         },
         "mode": "lines",
         "showlegend": false,
         "type": "scatter",
         "x": [
          "2020-03-13T00:00:00",
          "2020-03-14T00:00:00"
         ],
         "xaxis": "x",
         "y": [
          146.76,
          146.95
         ],
         "yaxis": "y"
        },
        {
         "hoverinfo": "none",
         "line": {
          "color": "green",
          "width": 3
         },
         "mode": "lines",
         "showlegend": false,
         "type": "scatter",
         "x": [
          "2020-03-14T00:00:00",
          "2020-03-15T00:00:00"
         ],
         "xaxis": "x",
         "y": [
          146.95,
          147.14
         ],
         "yaxis": "y"
        },
        {
         "hoverinfo": "none",
         "line": {
          "color": "green",
          "width": 3
         },
         "mode": "lines",
         "showlegend": false,
         "type": "scatter",
         "x": [
          "2020-03-15T00:00:00",
          "2020-03-16T00:00:00"
         ],
         "xaxis": "x",
         "y": [
          147.14,
          147.44
         ],
         "yaxis": "y"
        },
        {
         "hoverinfo": "none",
         "line": {
          "color": "green",
          "width": 3
         },
         "mode": "lines",
         "showlegend": false,
         "type": "scatter",
         "x": [
          "2020-03-16T00:00:00",
          "2020-03-17T00:00:00"
         ],
         "xaxis": "x",
         "y": [
          147.44,
          147.62
         ],
         "yaxis": "y"
        },
        {
         "hoverinfo": "none",
         "line": {
          "color": "green",
          "width": 3
         },
         "mode": "lines",
         "showlegend": false,
         "type": "scatter",
         "x": [
          "2020-03-17T00:00:00",
          "2020-03-18T00:00:00"
         ],
         "xaxis": "x",
         "y": [
          147.62,
          147.76
         ],
         "yaxis": "y"
        },
        {
         "hoverinfo": "none",
         "line": {
          "color": "green",
          "width": 3
         },
         "mode": "lines",
         "showlegend": false,
         "type": "scatter",
         "x": [
          "2020-03-18T00:00:00",
          "2020-03-19T00:00:00"
         ],
         "xaxis": "x",
         "y": [
          147.76,
          147.88
         ],
         "yaxis": "y"
        },
        {
         "hoverinfo": "none",
         "line": {
          "color": "green",
          "width": 3
         },
         "mode": "lines",
         "showlegend": false,
         "type": "scatter",
         "x": [
          "2020-03-19T00:00:00",
          "2020-03-20T00:00:00"
         ],
         "xaxis": "x",
         "y": [
          147.88,
          148.02
         ],
         "yaxis": "y"
        },
        {
         "hoverinfo": "none",
         "line": {
          "color": "green",
          "width": 3
         },
         "mode": "lines",
         "showlegend": false,
         "type": "scatter",
         "x": [
          "2020-03-20T00:00:00",
          "2020-03-21T00:00:00"
         ],
         "xaxis": "x",
         "y": [
          148.02,
          148.15
         ],
         "yaxis": "y"
        },
        {
         "hoverinfo": "none",
         "line": {
          "color": "green",
          "width": 3
         },
         "mode": "lines",
         "showlegend": false,
         "type": "scatter",
         "x": [
          "2020-03-21T00:00:00",
          "2020-03-22T00:00:00"
         ],
         "xaxis": "x",
         "y": [
          148.15,
          148.27
         ],
         "yaxis": "y"
        },
        {
         "hoverinfo": "none",
         "line": {
          "color": "green",
          "width": 3
         },
         "mode": "lines",
         "showlegend": false,
         "type": "scatter",
         "x": [
          "2020-03-22T00:00:00",
          "2020-03-23T00:00:00"
         ],
         "xaxis": "x",
         "y": [
          148.27,
          148.51
         ],
         "yaxis": "y"
        },
        {
         "hoverinfo": "none",
         "line": {
          "color": "green",
          "width": 3
         },
         "mode": "lines",
         "showlegend": false,
         "type": "scatter",
         "x": [
          "2020-03-23T00:00:00",
          "2020-03-24T00:00:00"
         ],
         "xaxis": "x",
         "y": [
          148.51,
          148.63
         ],
         "yaxis": "y"
        },
        {
         "hoverinfo": "none",
         "line": {
          "color": "green",
          "width": 3
         },
         "mode": "lines",
         "showlegend": false,
         "type": "scatter",
         "x": [
          "2020-03-24T00:00:00",
          "2020-03-25T00:00:00"
         ],
         "xaxis": "x",
         "y": [
          148.63,
          148.77
         ],
         "yaxis": "y"
        },
        {
         "hoverinfo": "none",
         "line": {
          "color": "green",
          "width": 3
         },
         "mode": "lines",
         "showlegend": false,
         "type": "scatter",
         "x": [
          "2020-03-25T00:00:00",
          "2020-03-26T00:00:00"
         ],
         "xaxis": "x",
         "y": [
          148.77,
          148.9
         ],
         "yaxis": "y"
        },
        {
         "hoverinfo": "none",
         "line": {
          "color": "green",
          "width": 3
         },
         "mode": "lines",
         "showlegend": false,
         "type": "scatter",
         "x": [
          "2020-03-26T00:00:00",
          "2020-03-27T00:00:00"
         ],
         "xaxis": "x",
         "y": [
          148.9,
          149.04
         ],
         "yaxis": "y"
        },
        {
         "hoverinfo": "none",
         "line": {
          "color": "green",
          "width": 3
         },
         "mode": "lines",
         "showlegend": false,
         "type": "scatter",
         "x": [
          "2020-03-27T00:00:00",
          "2020-03-28T00:00:00"
         ],
         "xaxis": "x",
         "y": [
          149.04,
          149.18
         ],
         "yaxis": "y"
        },
        {
         "hoverinfo": "none",
         "line": {
          "color": "green",
          "width": 3
         },
         "mode": "lines",
         "showlegend": false,
         "type": "scatter",
         "x": [
          "2020-03-28T00:00:00",
          "2020-03-29T00:00:00"
         ],
         "xaxis": "x",
         "y": [
          149.18,
          149.34
         ],
         "yaxis": "y"
        },
        {
         "hoverinfo": "none",
         "line": {
          "color": "green",
          "width": 3
         },
         "mode": "lines",
         "showlegend": false,
         "type": "scatter",
         "x": [
          "2020-03-29T00:00:00",
          "2020-03-30T00:00:00"
         ],
         "xaxis": "x",
         "y": [
          149.34,
          149.57
         ],
         "yaxis": "y"
        },
        {
         "hoverinfo": "none",
         "line": {
          "color": "green",
          "width": 3
         },
         "mode": "lines",
         "showlegend": false,
         "type": "scatter",
         "x": [
          "2020-03-30T00:00:00",
          "2020-03-31T00:00:00"
         ],
         "xaxis": "x",
         "y": [
          149.57,
          149.7
         ],
         "yaxis": "y"
        },
        {
         "hoverinfo": "none",
         "line": {
          "color": "green",
          "width": 3
         },
         "mode": "lines",
         "showlegend": false,
         "type": "scatter",
         "x": [
          "2020-03-31T00:00:00",
          "2020-04-01T00:00:00"
         ],
         "xaxis": "x",
         "y": [
          149.7,
          149.82
         ],
         "yaxis": "y"
        },
        {
         "hoverinfo": "none",
         "line": {
          "color": "green",
          "width": 3
         },
         "mode": "lines",
         "showlegend": false,
         "type": "scatter",
         "x": [
          "2020-04-01T00:00:00",
          "2020-04-02T00:00:00"
         ],
         "xaxis": "x",
         "y": [
          149.82,
          149.82
         ],
         "yaxis": "y"
        },
        {
         "hoverinfo": "none",
         "line": {
          "color": "green",
          "width": 3
         },
         "mode": "lines",
         "showlegend": false,
         "type": "scatter",
         "x": [
          "2020-04-02T00:00:00",
          "2020-04-03T00:00:00"
         ],
         "xaxis": "x",
         "y": [
          149.82,
          149.95
         ],
         "yaxis": "y"
        },
        {
         "hoverinfo": "none",
         "line": {
          "color": "green",
          "width": 3
         },
         "mode": "lines",
         "showlegend": false,
         "type": "scatter",
         "x": [
          "2020-04-03T00:00:00",
          "2020-04-04T00:00:00"
         ],
         "xaxis": "x",
         "y": [
          149.95,
          149.95
         ],
         "yaxis": "y"
        },
        {
         "hoverinfo": "none",
         "line": {
          "color": "green",
          "width": 3
         },
         "mode": "lines",
         "showlegend": false,
         "type": "scatter",
         "x": [
          "2020-04-04T00:00:00",
          "2020-04-05T00:00:00"
         ],
         "xaxis": "x",
         "y": [
          149.95,
          150.07
         ],
         "yaxis": "y"
        },
        {
         "hoverinfo": "none",
         "line": {
          "color": "green",
          "width": 3
         },
         "mode": "lines",
         "showlegend": false,
         "type": "scatter",
         "x": [
          "2020-04-05T00:00:00",
          "2020-04-06T00:00:00"
         ],
         "xaxis": "x",
         "y": [
          150.07,
          150.17
         ],
         "yaxis": "y"
        },
        {
         "hoverinfo": "none",
         "line": {
          "color": "green",
          "width": 3
         },
         "mode": "lines",
         "showlegend": false,
         "type": "scatter",
         "x": [
          "2020-04-06T00:00:00",
          "2020-04-07T00:00:00"
         ],
         "xaxis": "x",
         "y": [
          150.17,
          150.18
         ],
         "yaxis": "y"
        },
        {
         "hoverinfo": "none",
         "line": {
          "color": "green",
          "width": 3
         },
         "mode": "lines",
         "showlegend": false,
         "type": "scatter",
         "x": [
          "2020-04-07T00:00:00",
          "2020-04-08T00:00:00"
         ],
         "xaxis": "x",
         "y": [
          150.18,
          150.18
         ],
         "yaxis": "y"
        },
        {
         "hoverinfo": "none",
         "line": {
          "color": "red",
          "width": 3
         },
         "mode": "lines",
         "showlegend": false,
         "type": "scatter",
         "x": [
          "2020-04-08T00:00:00",
          "2020-04-09T00:00:00"
         ],
         "xaxis": "x",
         "y": [
          150.18,
          150.17
         ],
         "yaxis": "y"
        },
        {
         "hoverinfo": "none",
         "line": {
          "color": "green",
          "width": 3
         },
         "mode": "lines",
         "showlegend": false,
         "type": "scatter",
         "x": [
          "2020-04-09T00:00:00",
          "2020-04-10T00:00:00"
         ],
         "xaxis": "x",
         "y": [
          150.17,
          150.26
         ],
         "yaxis": "y"
        },
        {
         "hoverinfo": "none",
         "line": {
          "color": "red",
          "width": 3
         },
         "mode": "lines",
         "showlegend": false,
         "type": "scatter",
         "x": [
          "2020-04-10T00:00:00",
          "2020-04-11T00:00:00"
         ],
         "xaxis": "x",
         "y": [
          150.26,
          150.21
         ],
         "yaxis": "y"
        },
        {
         "hoverinfo": "none",
         "line": {
          "color": "green",
          "width": 3
         },
         "mode": "lines",
         "showlegend": false,
         "type": "scatter",
         "x": [
          "2020-04-11T00:00:00",
          "2020-04-12T00:00:00"
         ],
         "xaxis": "x",
         "y": [
          150.21,
          150.29
         ],
         "yaxis": "y"
        },
        {
         "hoverinfo": "none",
         "line": {
          "color": "green",
          "width": 3
         },
         "mode": "lines",
         "showlegend": false,
         "type": "scatter",
         "x": [
          "2020-04-12T00:00:00",
          "2020-04-13T00:00:00"
         ],
         "xaxis": "x",
         "y": [
          150.29,
          150.33
         ],
         "yaxis": "y"
        },
        {
         "hoverinfo": "none",
         "line": {
          "color": "green",
          "width": 3
         },
         "mode": "lines",
         "showlegend": false,
         "type": "scatter",
         "x": [
          "2020-04-13T00:00:00",
          "2020-04-14T00:00:00"
         ],
         "xaxis": "x",
         "y": [
          150.33,
          150.39
         ],
         "yaxis": "y"
        },
        {
         "hoverinfo": "none",
         "line": {
          "color": "green",
          "width": 3
         },
         "mode": "lines",
         "showlegend": false,
         "type": "scatter",
         "x": [
          "2020-04-14T00:00:00",
          "2020-04-15T00:00:00"
         ],
         "xaxis": "x",
         "y": [
          150.39,
          150.43
         ],
         "yaxis": "y"
        },
        {
         "hoverinfo": "none",
         "line": {
          "color": "green",
          "width": 3
         },
         "mode": "lines",
         "showlegend": false,
         "type": "scatter",
         "x": [
          "2020-04-15T00:00:00",
          "2020-04-16T00:00:00"
         ],
         "xaxis": "x",
         "y": [
          150.43,
          150.48
         ],
         "yaxis": "y"
        },
        {
         "hoverinfo": "none",
         "line": {
          "color": "green",
          "width": 3
         },
         "mode": "lines",
         "showlegend": false,
         "type": "scatter",
         "x": [
          "2020-04-16T00:00:00",
          "2020-04-17T00:00:00"
         ],
         "xaxis": "x",
         "y": [
          150.48,
          150.5
         ],
         "yaxis": "y"
        },
        {
         "hoverinfo": "none",
         "line": {
          "color": "green",
          "width": 3
         },
         "mode": "lines",
         "showlegend": false,
         "type": "scatter",
         "x": [
          "2020-04-17T00:00:00",
          "2020-04-18T00:00:00"
         ],
         "xaxis": "x",
         "y": [
          150.5,
          150.53
         ],
         "yaxis": "y"
        },
        {
         "hoverinfo": "none",
         "line": {
          "color": "green",
          "width": 3
         },
         "mode": "lines",
         "showlegend": false,
         "type": "scatter",
         "x": [
          "2020-04-18T00:00:00",
          "2020-04-19T00:00:00"
         ],
         "xaxis": "x",
         "y": [
          150.53,
          150.58
         ],
         "yaxis": "y"
        },
        {
         "hoverinfo": "none",
         "line": {
          "color": "green",
          "width": 3
         },
         "mode": "lines",
         "showlegend": false,
         "type": "scatter",
         "x": [
          "2020-04-19T00:00:00",
          "2020-04-20T00:00:00"
         ],
         "xaxis": "x",
         "y": [
          150.58,
          150.62
         ],
         "yaxis": "y"
        },
        {
         "hoverinfo": "none",
         "line": {
          "color": "red",
          "width": 3
         },
         "mode": "lines",
         "showlegend": false,
         "type": "scatter",
         "x": [
          "2020-04-20T00:00:00",
          "2020-04-21T00:00:00"
         ],
         "xaxis": "x",
         "y": [
          150.62,
          150.57
         ],
         "yaxis": "y"
        },
        {
         "hoverinfo": "none",
         "line": {
          "color": "red",
          "width": 3
         },
         "mode": "lines",
         "showlegend": false,
         "type": "scatter",
         "x": [
          "2020-04-21T00:00:00",
          "2020-04-22T00:00:00"
         ],
         "xaxis": "x",
         "y": [
          150.57,
          150.52
         ],
         "yaxis": "y"
        },
        {
         "hoverinfo": "none",
         "line": {
          "color": "red",
          "width": 3
         },
         "mode": "lines",
         "showlegend": false,
         "type": "scatter",
         "x": [
          "2020-04-22T00:00:00",
          "2020-04-23T00:00:00"
         ],
         "xaxis": "x",
         "y": [
          150.52,
          150.47
         ],
         "yaxis": "y"
        },
        {
         "hoverinfo": "none",
         "line": {
          "color": "red",
          "width": 3
         },
         "mode": "lines",
         "showlegend": false,
         "type": "scatter",
         "x": [
          "2020-04-23T00:00:00",
          "2020-04-24T00:00:00"
         ],
         "xaxis": "x",
         "y": [
          150.47,
          150.44
         ],
         "yaxis": "y"
        },
        {
         "hoverinfo": "none",
         "line": {
          "color": "green",
          "width": 3
         },
         "mode": "lines",
         "showlegend": false,
         "type": "scatter",
         "x": [
          "2020-04-24T00:00:00",
          "2020-04-25T00:00:00"
         ],
         "xaxis": "x",
         "y": [
          150.44,
          150.44
         ],
         "yaxis": "y"
        },
        {
         "hoverinfo": "none",
         "line": {
          "color": "green",
          "width": 3
         },
         "mode": "lines",
         "showlegend": false,
         "type": "scatter",
         "x": [
          "2020-04-25T00:00:00",
          "2020-04-26T00:00:00"
         ],
         "xaxis": "x",
         "y": [
          150.44,
          150.44
         ],
         "yaxis": "y"
        },
        {
         "hoverinfo": "none",
         "line": {
          "color": "green",
          "width": 3
         },
         "mode": "lines",
         "showlegend": false,
         "type": "scatter",
         "x": [
          "2020-04-26T00:00:00",
          "2020-04-27T00:00:00"
         ],
         "xaxis": "x",
         "y": [
          150.44,
          150.44
         ],
         "yaxis": "y"
        },
        {
         "hoverinfo": "none",
         "line": {
          "color": "green",
          "width": 3
         },
         "mode": "lines",
         "showlegend": false,
         "type": "scatter",
         "x": [
          "2020-04-27T00:00:00",
          "2020-04-28T00:00:00"
         ],
         "xaxis": "x",
         "y": [
          150.44,
          150.44
         ],
         "yaxis": "y"
        },
        {
         "hoverinfo": "none",
         "line": {
          "color": "green",
          "width": 3
         },
         "mode": "lines",
         "showlegend": false,
         "type": "scatter",
         "x": [
          "2020-04-28T00:00:00",
          "2020-04-29T00:00:00"
         ],
         "xaxis": "x",
         "y": [
          150.44,
          150.44
         ],
         "yaxis": "y"
        },
        {
         "hoverinfo": "none",
         "line": {
          "color": "red",
          "width": 3
         },
         "mode": "lines",
         "showlegend": false,
         "type": "scatter",
         "x": [
          "2020-04-29T00:00:00",
          "2020-04-30T00:00:00"
         ],
         "xaxis": "x",
         "y": [
          150.44,
          150.33
         ],
         "yaxis": "y"
        },
        {
         "hoverinfo": "none",
         "line": {
          "color": "red",
          "width": 3
         },
         "mode": "lines",
         "showlegend": false,
         "type": "scatter",
         "x": [
          "2020-04-30T00:00:00",
          "2020-05-01T00:00:00"
         ],
         "xaxis": "x",
         "y": [
          150.33,
          150.24
         ],
         "yaxis": "y"
        },
        {
         "hoverinfo": "none",
         "line": {
          "color": "red",
          "width": 3
         },
         "mode": "lines",
         "showlegend": false,
         "type": "scatter",
         "x": [
          "2020-05-01T00:00:00",
          "2020-05-02T00:00:00"
         ],
         "xaxis": "x",
         "y": [
          150.24,
          150.18
         ],
         "yaxis": "y"
        },
        {
         "hoverinfo": "none",
         "line": {
          "color": "green",
          "width": 3
         },
         "mode": "lines",
         "showlegend": false,
         "type": "scatter",
         "x": [
          "2020-05-02T00:00:00",
          "2020-05-03T00:00:00"
         ],
         "xaxis": "x",
         "y": [
          150.18,
          150.23
         ],
         "yaxis": "y"
        },
        {
         "hoverinfo": "none",
         "line": {
          "color": "red",
          "width": 3
         },
         "mode": "lines",
         "showlegend": false,
         "type": "scatter",
         "x": [
          "2020-05-03T00:00:00",
          "2020-05-04T00:00:00"
         ],
         "xaxis": "x",
         "y": [
          150.23,
          150.17
         ],
         "yaxis": "y"
        },
        {
         "hoverinfo": "none",
         "line": {
          "color": "red",
          "width": 3
         },
         "mode": "lines",
         "showlegend": false,
         "type": "scatter",
         "x": [
          "2020-05-04T00:00:00",
          "2020-05-05T00:00:00"
         ],
         "xaxis": "x",
         "y": [
          150.17,
          150.11
         ],
         "yaxis": "y"
        },
        {
         "hoverinfo": "none",
         "line": {
          "color": "red",
          "width": 3
         },
         "mode": "lines",
         "showlegend": false,
         "type": "scatter",
         "x": [
          "2020-05-05T00:00:00",
          "2020-05-06T00:00:00"
         ],
         "xaxis": "x",
         "y": [
          150.11,
          150.06
         ],
         "yaxis": "y"
        },
        {
         "hoverinfo": "none",
         "line": {
          "color": "red",
          "width": 3
         },
         "mode": "lines",
         "showlegend": false,
         "type": "scatter",
         "x": [
          "2020-05-06T00:00:00",
          "2020-05-07T00:00:00"
         ],
         "xaxis": "x",
         "y": [
          150.06,
          150
         ],
         "yaxis": "y"
        },
        {
         "hoverinfo": "none",
         "line": {
          "color": "green",
          "width": 3
         },
         "mode": "lines",
         "showlegend": false,
         "type": "scatter",
         "x": [
          "2020-05-07T00:00:00",
          "2020-05-08T00:00:00"
         ],
         "xaxis": "x",
         "y": [
          150,
          150.07
         ],
         "yaxis": "y"
        },
        {
         "hoverinfo": "none",
         "line": {
          "color": "green",
          "width": 3
         },
         "mode": "lines",
         "showlegend": false,
         "type": "scatter",
         "x": [
          "2020-05-08T00:00:00",
          "2020-05-09T00:00:00"
         ],
         "xaxis": "x",
         "y": [
          150.07,
          150.1
         ],
         "yaxis": "y"
        },
        {
         "hoverinfo": "none",
         "line": {
          "color": "green",
          "width": 3
         },
         "mode": "lines",
         "showlegend": false,
         "type": "scatter",
         "x": [
          "2020-05-09T00:00:00",
          "2020-05-10T00:00:00"
         ],
         "xaxis": "x",
         "y": [
          150.1,
          150.12
         ],
         "yaxis": "y"
        },
        {
         "hoverinfo": "none",
         "line": {
          "color": "red",
          "width": 3
         },
         "mode": "lines",
         "showlegend": false,
         "type": "scatter",
         "x": [
          "2020-05-10T00:00:00",
          "2020-05-11T00:00:00"
         ],
         "xaxis": "x",
         "y": [
          150.12,
          150.04
         ],
         "yaxis": "y"
        },
        {
         "hoverinfo": "none",
         "line": {
          "color": "green",
          "width": 3
         },
         "mode": "lines",
         "showlegend": false,
         "type": "scatter",
         "x": [
          "2020-05-11T00:00:00",
          "2020-05-12T00:00:00"
         ],
         "xaxis": "x",
         "y": [
          150.04,
          150.07
         ],
         "yaxis": "y"
        },
        {
         "hoverinfo": "none",
         "line": {
          "color": "green",
          "width": 3
         },
         "mode": "lines",
         "showlegend": false,
         "type": "scatter",
         "x": [
          "2020-05-12T00:00:00",
          "2020-05-13T00:00:00"
         ],
         "xaxis": "x",
         "y": [
          150.07,
          150.11
         ],
         "yaxis": "y"
        },
        {
         "hoverinfo": "none",
         "line": {
          "color": "red",
          "width": 3
         },
         "mode": "lines",
         "showlegend": false,
         "type": "scatter",
         "x": [
          "2020-05-13T00:00:00",
          "2020-05-14T00:00:00"
         ],
         "xaxis": "x",
         "y": [
          150.11,
          150.01
         ],
         "yaxis": "y"
        },
        {
         "hoverinfo": "none",
         "line": {
          "color": "red",
          "width": 3
         },
         "mode": "lines",
         "showlegend": false,
         "type": "scatter",
         "x": [
          "2020-05-14T00:00:00",
          "2020-05-15T00:00:00"
         ],
         "xaxis": "x",
         "y": [
          150.01,
          149.94
         ],
         "yaxis": "y"
        },
        {
         "hoverinfo": "none",
         "line": {
          "color": "red",
          "width": 3
         },
         "mode": "lines",
         "showlegend": false,
         "type": "scatter",
         "x": [
          "2020-05-15T00:00:00",
          "2020-05-16T00:00:00"
         ],
         "xaxis": "x",
         "y": [
          149.94,
          149.85
         ],
         "yaxis": "y"
        },
        {
         "hoverinfo": "none",
         "line": {
          "color": "red",
          "width": 3
         },
         "mode": "lines",
         "showlegend": false,
         "type": "scatter",
         "x": [
          "2020-05-16T00:00:00",
          "2020-05-17T00:00:00"
         ],
         "xaxis": "x",
         "y": [
          149.85,
          149.77
         ],
         "yaxis": "y"
        },
        {
         "hoverinfo": "none",
         "line": {
          "color": "red",
          "width": 3
         },
         "mode": "lines",
         "showlegend": false,
         "type": "scatter",
         "x": [
          "2020-05-17T00:00:00",
          "2020-05-18T00:00:00"
         ],
         "xaxis": "x",
         "y": [
          149.77,
          149.68
         ],
         "yaxis": "y"
        },
        {
         "hoverinfo": "none",
         "line": {
          "color": "red",
          "width": 3
         },
         "mode": "lines",
         "showlegend": false,
         "type": "scatter",
         "x": [
          "2020-05-18T00:00:00",
          "2020-05-19T00:00:00"
         ],
         "xaxis": "x",
         "y": [
          149.68,
          149.58
         ],
         "yaxis": "y"
        },
        {
         "hoverinfo": "none",
         "line": {
          "color": "red",
          "width": 3
         },
         "mode": "lines",
         "showlegend": false,
         "type": "scatter",
         "x": [
          "2020-05-19T00:00:00",
          "2020-05-20T00:00:00"
         ],
         "xaxis": "x",
         "y": [
          149.58,
          149.48
         ],
         "yaxis": "y"
        },
        {
         "hoverinfo": "none",
         "line": {
          "color": "red",
          "width": 3
         },
         "mode": "lines",
         "showlegend": false,
         "type": "scatter",
         "x": [
          "2020-05-20T00:00:00",
          "2020-05-21T00:00:00"
         ],
         "xaxis": "x",
         "y": [
          149.48,
          149.26
         ],
         "yaxis": "y"
        },
        {
         "hoverinfo": "none",
         "line": {
          "color": "red",
          "width": 3
         },
         "mode": "lines",
         "showlegend": false,
         "type": "scatter",
         "x": [
          "2020-05-21T00:00:00",
          "2020-05-22T00:00:00"
         ],
         "xaxis": "x",
         "y": [
          149.26,
          149.17
         ],
         "yaxis": "y"
        },
        {
         "hoverinfo": "none",
         "line": {
          "color": "red",
          "width": 3
         },
         "mode": "lines",
         "showlegend": false,
         "type": "scatter",
         "x": [
          "2020-05-22T00:00:00",
          "2020-05-23T00:00:00"
         ],
         "xaxis": "x",
         "y": [
          149.17,
          149.07
         ],
         "yaxis": "y"
        },
        {
         "hoverinfo": "none",
         "line": {
          "color": "green",
          "width": 3
         },
         "mode": "lines",
         "showlegend": false,
         "type": "scatter",
         "x": [
          "2020-05-23T00:00:00",
          "2020-05-24T00:00:00"
         ],
         "xaxis": "x",
         "y": [
          149.07,
          149.09
         ],
         "yaxis": "y"
        },
        {
         "hoverinfo": "none",
         "line": {
          "color": "green",
          "width": 3
         },
         "mode": "lines",
         "showlegend": false,
         "type": "scatter",
         "x": [
          "2020-05-24T00:00:00",
          "2020-05-25T00:00:00"
         ],
         "xaxis": "x",
         "y": [
          149.09,
          149.12
         ],
         "yaxis": "y"
        },
        {
         "hoverinfo": "none",
         "line": {
          "color": "green",
          "width": 3
         },
         "mode": "lines",
         "showlegend": false,
         "type": "scatter",
         "x": [
          "2020-05-25T00:00:00",
          "2020-05-26T00:00:00"
         ],
         "xaxis": "x",
         "y": [
          149.12,
          149.14
         ],
         "yaxis": "y"
        },
        {
         "hoverinfo": "none",
         "line": {
          "color": "green",
          "width": 3
         },
         "mode": "lines",
         "showlegend": false,
         "type": "scatter",
         "x": [
          "2020-05-26T00:00:00",
          "2020-05-27T00:00:00"
         ],
         "xaxis": "x",
         "y": [
          149.14,
          149.14
         ],
         "yaxis": "y"
        },
        {
         "hoverinfo": "none",
         "line": {
          "color": "red",
          "width": 3
         },
         "mode": "lines",
         "showlegend": false,
         "type": "scatter",
         "x": [
          "2020-05-27T00:00:00",
          "2020-05-28T00:00:00"
         ],
         "xaxis": "x",
         "y": [
          149.14,
          149.05
         ],
         "yaxis": "y"
        },
        {
         "hoverinfo": "none",
         "line": {
          "color": "green",
          "width": 3
         },
         "mode": "lines",
         "showlegend": false,
         "type": "scatter",
         "x": [
          "2020-05-28T00:00:00",
          "2020-05-29T00:00:00"
         ],
         "xaxis": "x",
         "y": [
          149.05,
          149.06
         ],
         "yaxis": "y"
        },
        {
         "hoverinfo": "none",
         "line": {
          "color": "green",
          "width": 3
         },
         "mode": "lines",
         "showlegend": false,
         "type": "scatter",
         "x": [
          "2020-05-29T00:00:00",
          "2020-05-30T00:00:00"
         ],
         "xaxis": "x",
         "y": [
          149.06,
          149.06
         ],
         "yaxis": "y"
        },
        {
         "hoverinfo": "none",
         "line": {
          "color": "green",
          "width": 3
         },
         "mode": "lines",
         "showlegend": false,
         "type": "scatter",
         "x": [
          "2020-05-30T00:00:00",
          "2020-05-31T00:00:00"
         ],
         "xaxis": "x",
         "y": [
          149.06,
          149.06
         ],
         "yaxis": "y"
        },
        {
         "hoverinfo": "none",
         "line": {
          "color": "green",
          "width": 3
         },
         "mode": "lines",
         "showlegend": false,
         "type": "scatter",
         "x": [
          "2020-05-31T00:00:00",
          "2020-06-01T00:00:00"
         ],
         "xaxis": "x",
         "y": [
          149.06,
          149.06
         ],
         "yaxis": "y"
        },
        {
         "hoverinfo": "none",
         "line": {
          "color": "red",
          "width": 3
         },
         "mode": "lines",
         "showlegend": false,
         "type": "scatter",
         "x": [
          "2020-06-01T00:00:00",
          "2020-06-02T00:00:00"
         ],
         "xaxis": "x",
         "y": [
          149.06,
          149.05
         ],
         "yaxis": "y"
        },
        {
         "hoverinfo": "none",
         "line": {
          "color": "green",
          "width": 3
         },
         "mode": "lines",
         "showlegend": false,
         "type": "scatter",
         "x": [
          "2020-06-02T00:00:00",
          "2020-06-03T00:00:00"
         ],
         "xaxis": "x",
         "y": [
          149.05,
          149.05
         ],
         "yaxis": "y"
        },
        {
         "hoverinfo": "none",
         "line": {
          "color": "red",
          "width": 3
         },
         "mode": "lines",
         "showlegend": false,
         "type": "scatter",
         "x": [
          "2020-06-03T00:00:00",
          "2020-06-04T00:00:00"
         ],
         "xaxis": "x",
         "y": [
          149.05,
          148.94
         ],
         "yaxis": "y"
        },
        {
         "hoverinfo": "none",
         "line": {
          "color": "green",
          "width": 3
         },
         "mode": "lines",
         "showlegend": false,
         "type": "scatter",
         "x": [
          "2020-06-04T00:00:00",
          "2020-06-05T00:00:00"
         ],
         "xaxis": "x",
         "y": [
          148.94,
          148.94
         ],
         "yaxis": "y"
        },
        {
         "hoverinfo": "none",
         "line": {
          "color": "green",
          "width": 3
         },
         "mode": "lines",
         "showlegend": false,
         "type": "scatter",
         "x": [
          "2020-06-05T00:00:00",
          "2020-06-06T00:00:00"
         ],
         "xaxis": "x",
         "y": [
          148.94,
          148.94
         ],
         "yaxis": "y"
        },
        {
         "hoverinfo": "none",
         "line": {
          "color": "green",
          "width": 3
         },
         "mode": "lines",
         "showlegend": false,
         "type": "scatter",
         "x": [
          "2020-06-06T00:00:00",
          "2020-06-07T00:00:00"
         ],
         "xaxis": "x",
         "y": [
          148.94,
          148.94
         ],
         "yaxis": "y"
        },
        {
         "hoverinfo": "none",
         "line": {
          "color": "green",
          "width": 3
         },
         "mode": "lines",
         "showlegend": false,
         "type": "scatter",
         "x": [
          "2020-06-07T00:00:00",
          "2020-06-08T00:00:00"
         ],
         "xaxis": "x",
         "y": [
          148.94,
          149.03
         ],
         "yaxis": "y"
        },
        {
         "hoverinfo": "none",
         "line": {
          "color": "red",
          "width": 3
         },
         "mode": "lines",
         "showlegend": false,
         "type": "scatter",
         "x": [
          "2020-06-08T00:00:00",
          "2020-06-09T00:00:00"
         ],
         "xaxis": "x",
         "y": [
          149.03,
          149.01
         ],
         "yaxis": "y"
        },
        {
         "hoverinfo": "none",
         "line": {
          "color": "green",
          "width": 3
         },
         "mode": "lines",
         "showlegend": false,
         "type": "scatter",
         "x": [
          "2020-06-09T00:00:00",
          "2020-06-10T00:00:00"
         ],
         "xaxis": "x",
         "y": [
          149.01,
          149.03
         ],
         "yaxis": "y"
        },
        {
         "hoverinfo": "none",
         "line": {
          "color": "green",
          "width": 3
         },
         "mode": "lines",
         "showlegend": false,
         "type": "scatter",
         "x": [
          "2020-06-10T00:00:00",
          "2020-06-11T00:00:00"
         ],
         "xaxis": "x",
         "y": [
          149.03,
          149.03
         ],
         "yaxis": "y"
        },
        {
         "hoverinfo": "none",
         "line": {
          "color": "green",
          "width": 3
         },
         "mode": "lines",
         "showlegend": false,
         "type": "scatter",
         "x": [
          "2020-06-11T00:00:00",
          "2020-06-12T00:00:00"
         ],
         "xaxis": "x",
         "y": [
          149.03,
          149.14
         ],
         "yaxis": "y"
        },
        {
         "hoverinfo": "none",
         "line": {
          "color": "green",
          "width": 3
         },
         "mode": "lines",
         "showlegend": false,
         "type": "scatter",
         "x": [
          "2020-06-12T00:00:00",
          "2020-06-13T00:00:00"
         ],
         "xaxis": "x",
         "y": [
          149.14,
          149.25
         ],
         "yaxis": "y"
        },
        {
         "hoverinfo": "none",
         "line": {
          "color": "green",
          "width": 3
         },
         "mode": "lines",
         "showlegend": false,
         "type": "scatter",
         "x": [
          "2020-06-13T00:00:00",
          "2020-06-14T00:00:00"
         ],
         "xaxis": "x",
         "y": [
          149.25,
          149.36
         ],
         "yaxis": "y"
        },
        {
         "hoverinfo": "none",
         "line": {
          "color": "green",
          "width": 3
         },
         "mode": "lines",
         "showlegend": false,
         "type": "scatter",
         "x": [
          "2020-06-14T00:00:00",
          "2020-06-15T00:00:00"
         ],
         "xaxis": "x",
         "y": [
          149.36,
          149.46
         ],
         "yaxis": "y"
        },
        {
         "hoverinfo": "none",
         "line": {
          "color": "green",
          "width": 3
         },
         "mode": "lines",
         "showlegend": false,
         "type": "scatter",
         "x": [
          "2020-06-15T00:00:00",
          "2020-06-16T00:00:00"
         ],
         "xaxis": "x",
         "y": [
          149.46,
          149.5
         ],
         "yaxis": "y"
        },
        {
         "hoverinfo": "none",
         "line": {
          "color": "green",
          "width": 3
         },
         "mode": "lines",
         "showlegend": false,
         "type": "scatter",
         "x": [
          "2020-06-16T00:00:00",
          "2020-06-17T00:00:00"
         ],
         "xaxis": "x",
         "y": [
          149.5,
          149.64
         ],
         "yaxis": "y"
        },
        {
         "hoverinfo": "none",
         "line": {
          "color": "red",
          "width": 3
         },
         "mode": "lines",
         "showlegend": false,
         "type": "scatter",
         "x": [
          "2020-06-17T00:00:00",
          "2020-06-18T00:00:00"
         ],
         "xaxis": "x",
         "y": [
          149.64,
          149.62
         ],
         "yaxis": "y"
        },
        {
         "hoverinfo": "none",
         "line": {
          "color": "green",
          "width": 3
         },
         "mode": "lines",
         "showlegend": false,
         "type": "scatter",
         "x": [
          "2020-06-18T00:00:00",
          "2020-06-19T00:00:00"
         ],
         "xaxis": "x",
         "y": [
          149.62,
          149.64
         ],
         "yaxis": "y"
        },
        {
         "hoverinfo": "none",
         "line": {
          "color": "green",
          "width": 3
         },
         "mode": "lines",
         "showlegend": false,
         "type": "scatter",
         "x": [
          "2020-06-19T00:00:00",
          "2020-06-20T00:00:00"
         ],
         "xaxis": "x",
         "y": [
          149.64,
          149.76
         ],
         "yaxis": "y"
        },
        {
         "hoverinfo": "none",
         "line": {
          "color": "green",
          "width": 3
         },
         "mode": "lines",
         "showlegend": false,
         "type": "scatter",
         "x": [
          "2020-06-20T00:00:00",
          "2020-06-21T00:00:00"
         ],
         "xaxis": "x",
         "y": [
          149.76,
          149.89
         ],
         "yaxis": "y"
        },
        {
         "hoverinfo": "none",
         "line": {
          "color": "green",
          "width": 3
         },
         "mode": "lines",
         "showlegend": false,
         "type": "scatter",
         "x": [
          "2020-06-21T00:00:00",
          "2020-06-22T00:00:00"
         ],
         "xaxis": "x",
         "y": [
          149.89,
          150.03
         ],
         "yaxis": "y"
        },
        {
         "hoverinfo": "none",
         "line": {
          "color": "green",
          "width": 3
         },
         "mode": "lines",
         "showlegend": false,
         "type": "scatter",
         "x": [
          "2020-06-22T00:00:00",
          "2020-06-23T00:00:00"
         ],
         "xaxis": "x",
         "y": [
          150.03,
          150.17
         ],
         "yaxis": "y"
        },
        {
         "hoverinfo": "none",
         "line": {
          "color": "green",
          "width": 3
         },
         "mode": "lines",
         "showlegend": false,
         "type": "scatter",
         "x": [
          "2020-06-23T00:00:00",
          "2020-06-24T00:00:00"
         ],
         "xaxis": "x",
         "y": [
          150.17,
          150.4
         ],
         "yaxis": "y"
        },
        {
         "hoverinfo": "none",
         "line": {
          "color": "green",
          "width": 3
         },
         "mode": "lines",
         "showlegend": false,
         "type": "scatter",
         "x": [
          "2020-06-24T00:00:00",
          "2020-06-25T00:00:00"
         ],
         "xaxis": "x",
         "y": [
          150.4,
          150.5
         ],
         "yaxis": "y"
        },
        {
         "hoverinfo": "none",
         "line": {
          "color": "green",
          "width": 3
         },
         "mode": "lines",
         "showlegend": false,
         "type": "scatter",
         "x": [
          "2020-06-25T00:00:00",
          "2020-06-26T00:00:00"
         ],
         "xaxis": "x",
         "y": [
          150.5,
          150.73
         ],
         "yaxis": "y"
        },
        {
         "hoverinfo": "none",
         "line": {
          "color": "green",
          "width": 3
         },
         "mode": "lines",
         "showlegend": false,
         "type": "scatter",
         "x": [
          "2020-06-26T00:00:00",
          "2020-06-27T00:00:00"
         ],
         "xaxis": "x",
         "y": [
          150.73,
          150.95
         ],
         "yaxis": "y"
        },
        {
         "hoverinfo": "none",
         "line": {
          "color": "green",
          "width": 3
         },
         "mode": "lines",
         "showlegend": false,
         "type": "scatter",
         "x": [
          "2020-06-27T00:00:00",
          "2020-06-28T00:00:00"
         ],
         "xaxis": "x",
         "y": [
          150.95,
          151.06
         ],
         "yaxis": "y"
        },
        {
         "hoverinfo": "none",
         "line": {
          "color": "green",
          "width": 3
         },
         "mode": "lines",
         "showlegend": false,
         "type": "scatter",
         "x": [
          "2020-06-28T00:00:00",
          "2020-06-29T00:00:00"
         ],
         "xaxis": "x",
         "y": [
          151.06,
          151.18
         ],
         "yaxis": "y"
        },
        {
         "hoverinfo": "none",
         "line": {
          "color": "green",
          "width": 3
         },
         "mode": "lines",
         "showlegend": false,
         "type": "scatter",
         "x": [
          "2020-06-29T00:00:00",
          "2020-06-30T00:00:00"
         ],
         "xaxis": "x",
         "y": [
          151.18,
          151.29
         ],
         "yaxis": "y"
        },
        {
         "hoverinfo": "none",
         "line": {
          "color": "green",
          "width": 3
         },
         "mode": "lines",
         "showlegend": false,
         "type": "scatter",
         "x": [
          "2020-06-30T00:00:00",
          "2020-07-01T00:00:00"
         ],
         "xaxis": "x",
         "y": [
          151.29,
          151.51
         ],
         "yaxis": "y"
        },
        {
         "hoverinfo": "none",
         "line": {
          "color": "green",
          "width": 3
         },
         "mode": "lines",
         "showlegend": false,
         "type": "scatter",
         "x": [
          "2020-07-01T00:00:00",
          "2020-07-02T00:00:00"
         ],
         "xaxis": "x",
         "y": [
          151.51,
          151.51
         ],
         "yaxis": "y"
        },
        {
         "hoverinfo": "none",
         "line": {
          "color": "green",
          "width": 3
         },
         "mode": "lines",
         "showlegend": false,
         "type": "scatter",
         "x": [
          "2020-07-02T00:00:00",
          "2020-07-03T00:00:00"
         ],
         "xaxis": "x",
         "y": [
          151.51,
          151.65
         ],
         "yaxis": "y"
        },
        {
         "hoverinfo": "none",
         "line": {
          "color": "green",
          "width": 3
         },
         "mode": "lines",
         "showlegend": false,
         "type": "scatter",
         "x": [
          "2020-07-03T00:00:00",
          "2020-07-04T00:00:00"
         ],
         "xaxis": "x",
         "y": [
          151.65,
          151.79
         ],
         "yaxis": "y"
        },
        {
         "hoverinfo": "none",
         "line": {
          "color": "green",
          "width": 3
         },
         "mode": "lines",
         "showlegend": false,
         "type": "scatter",
         "x": [
          "2020-07-04T00:00:00",
          "2020-07-05T00:00:00"
         ],
         "xaxis": "x",
         "y": [
          151.79,
          152.04
         ],
         "yaxis": "y"
        },
        {
         "hoverinfo": "none",
         "line": {
          "color": "green",
          "width": 3
         },
         "mode": "lines",
         "showlegend": false,
         "type": "scatter",
         "x": [
          "2020-07-05T00:00:00",
          "2020-07-06T00:00:00"
         ],
         "xaxis": "x",
         "y": [
          152.04,
          152.29
         ],
         "yaxis": "y"
        },
        {
         "hoverinfo": "none",
         "line": {
          "color": "green",
          "width": 3
         },
         "mode": "lines",
         "showlegend": false,
         "type": "scatter",
         "x": [
          "2020-07-06T00:00:00",
          "2020-07-07T00:00:00"
         ],
         "xaxis": "x",
         "y": [
          152.29,
          152.52
         ],
         "yaxis": "y"
        },
        {
         "hoverinfo": "none",
         "line": {
          "color": "green",
          "width": 3
         },
         "mode": "lines",
         "showlegend": false,
         "type": "scatter",
         "x": [
          "2020-07-07T00:00:00",
          "2020-07-08T00:00:00"
         ],
         "xaxis": "x",
         "y": [
          152.52,
          152.87
         ],
         "yaxis": "y"
        },
        {
         "hoverinfo": "none",
         "line": {
          "color": "green",
          "width": 3
         },
         "mode": "lines",
         "showlegend": false,
         "type": "scatter",
         "x": [
          "2020-07-08T00:00:00",
          "2020-07-09T00:00:00"
         ],
         "xaxis": "x",
         "y": [
          152.87,
          152.98
         ],
         "yaxis": "y"
        },
        {
         "hoverinfo": "none",
         "line": {
          "color": "green",
          "width": 3
         },
         "mode": "lines",
         "showlegend": false,
         "type": "scatter",
         "x": [
          "2020-07-09T00:00:00",
          "2020-07-10T00:00:00"
         ],
         "xaxis": "x",
         "y": [
          152.98,
          153.21
         ],
         "yaxis": "y"
        },
        {
         "hoverinfo": "none",
         "line": {
          "color": "green",
          "width": 3
         },
         "mode": "lines",
         "showlegend": false,
         "type": "scatter",
         "x": [
          "2020-07-10T00:00:00",
          "2020-07-11T00:00:00"
         ],
         "xaxis": "x",
         "y": [
          153.21,
          153.33
         ],
         "yaxis": "y"
        },
        {
         "hoverinfo": "none",
         "line": {
          "color": "green",
          "width": 3
         },
         "mode": "lines",
         "showlegend": false,
         "type": "scatter",
         "x": [
          "2020-07-11T00:00:00",
          "2020-07-12T00:00:00"
         ],
         "xaxis": "x",
         "y": [
          153.33,
          153.55
         ],
         "yaxis": "y"
        },
        {
         "hoverinfo": "none",
         "line": {
          "color": "green",
          "width": 3
         },
         "mode": "lines",
         "showlegend": false,
         "type": "scatter",
         "x": [
          "2020-07-12T00:00:00",
          "2020-07-13T00:00:00"
         ],
         "xaxis": "x",
         "y": [
          153.55,
          153.66
         ],
         "yaxis": "y"
        },
        {
         "hoverinfo": "none",
         "line": {
          "color": "green",
          "width": 3
         },
         "mode": "lines",
         "showlegend": false,
         "type": "scatter",
         "x": [
          "2020-07-13T00:00:00",
          "2020-07-14T00:00:00"
         ],
         "xaxis": "x",
         "y": [
          153.66,
          153.77
         ],
         "yaxis": "y"
        },
        {
         "hoverinfo": "none",
         "line": {
          "color": "green",
          "width": 3
         },
         "mode": "lines",
         "showlegend": false,
         "type": "scatter",
         "x": [
          "2020-07-14T00:00:00",
          "2020-07-15T00:00:00"
         ],
         "xaxis": "x",
         "y": [
          153.77,
          153.88
         ],
         "yaxis": "y"
        },
        {
         "hoverinfo": "none",
         "line": {
          "color": "green",
          "width": 3
         },
         "mode": "lines",
         "showlegend": false,
         "type": "scatter",
         "x": [
          "2020-07-15T00:00:00",
          "2020-07-16T00:00:00"
         ],
         "xaxis": "x",
         "y": [
          153.88,
          153.88
         ],
         "yaxis": "y"
        },
        {
         "hoverinfo": "none",
         "line": {
          "color": "green",
          "width": 3
         },
         "mode": "lines",
         "showlegend": false,
         "type": "scatter",
         "x": [
          "2020-07-16T00:00:00",
          "2020-07-17T00:00:00"
         ],
         "xaxis": "x",
         "y": [
          153.88,
          154
         ],
         "yaxis": "y"
        },
        {
         "hoverinfo": "none",
         "line": {
          "color": "green",
          "width": 3
         },
         "mode": "lines",
         "showlegend": false,
         "type": "scatter",
         "x": [
          "2020-07-17T00:00:00",
          "2020-07-18T00:00:00"
         ],
         "xaxis": "x",
         "y": [
          154,
          154.24
         ],
         "yaxis": "y"
        },
        {
         "hoverinfo": "none",
         "line": {
          "color": "green",
          "width": 3
         },
         "mode": "lines",
         "showlegend": false,
         "type": "scatter",
         "x": [
          "2020-07-18T00:00:00",
          "2020-07-19T00:00:00"
         ],
         "xaxis": "x",
         "y": [
          154.24,
          154.47
         ],
         "yaxis": "y"
        },
        {
         "hoverinfo": "none",
         "line": {
          "color": "green",
          "width": 3
         },
         "mode": "lines",
         "showlegend": false,
         "type": "scatter",
         "x": [
          "2020-07-19T00:00:00",
          "2020-07-20T00:00:00"
         ],
         "xaxis": "x",
         "y": [
          154.47,
          154.61
         ],
         "yaxis": "y"
        },
        {
         "hoverinfo": "none",
         "line": {
          "color": "green",
          "width": 3
         },
         "mode": "lines",
         "showlegend": false,
         "type": "scatter",
         "x": [
          "2020-07-20T00:00:00",
          "2020-07-21T00:00:00"
         ],
         "xaxis": "x",
         "y": [
          154.61,
          154.75
         ],
         "yaxis": "y"
        },
        {
         "hoverinfo": "none",
         "line": {
          "color": "green",
          "width": 3
         },
         "mode": "lines",
         "showlegend": false,
         "type": "scatter",
         "x": [
          "2020-07-21T00:00:00",
          "2020-07-22T00:00:00"
         ],
         "xaxis": "x",
         "y": [
          154.75,
          154.89
         ],
         "yaxis": "y"
        },
        {
         "hoverinfo": "none",
         "line": {
          "color": "green",
          "width": 3
         },
         "mode": "lines",
         "showlegend": false,
         "type": "scatter",
         "x": [
          "2020-07-22T00:00:00",
          "2020-07-23T00:00:00"
         ],
         "xaxis": "x",
         "y": [
          154.89,
          155.04
         ],
         "yaxis": "y"
        },
        {
         "hoverinfo": "none",
         "line": {
          "color": "green",
          "width": 3
         },
         "mode": "lines",
         "showlegend": false,
         "type": "scatter",
         "x": [
          "2020-07-23T00:00:00",
          "2020-07-24T00:00:00"
         ],
         "xaxis": "x",
         "y": [
          155.04,
          155.18
         ],
         "yaxis": "y"
        },
        {
         "hoverinfo": "none",
         "line": {
          "color": "green",
          "width": 3
         },
         "mode": "lines",
         "showlegend": false,
         "type": "scatter",
         "x": [
          "2020-07-24T00:00:00",
          "2020-07-25T00:00:00"
         ],
         "xaxis": "x",
         "y": [
          155.18,
          155.33
         ],
         "yaxis": "y"
        },
        {
         "hoverinfo": "none",
         "line": {
          "color": "green",
          "width": 3
         },
         "mode": "lines",
         "showlegend": false,
         "type": "scatter",
         "x": [
          "2020-07-25T00:00:00",
          "2020-07-26T00:00:00"
         ],
         "xaxis": "x",
         "y": [
          155.33,
          155.37
         ],
         "yaxis": "y"
        },
        {
         "hoverinfo": "none",
         "line": {
          "color": "green",
          "width": 3
         },
         "mode": "lines",
         "showlegend": false,
         "type": "scatter",
         "x": [
          "2020-07-26T00:00:00",
          "2020-07-27T00:00:00"
         ],
         "xaxis": "x",
         "y": [
          155.37,
          155.51
         ],
         "yaxis": "y"
        },
        {
         "hoverinfo": "none",
         "line": {
          "color": "green",
          "width": 3
         },
         "mode": "lines",
         "showlegend": false,
         "type": "scatter",
         "x": [
          "2020-07-27T00:00:00",
          "2020-07-28T00:00:00"
         ],
         "xaxis": "x",
         "y": [
          155.51,
          155.63
         ],
         "yaxis": "y"
        },
        {
         "hoverinfo": "none",
         "line": {
          "color": "green",
          "width": 3
         },
         "mode": "lines",
         "showlegend": false,
         "type": "scatter",
         "x": [
          "2020-07-28T00:00:00",
          "2020-07-29T00:00:00"
         ],
         "xaxis": "x",
         "y": [
          155.63,
          155.76
         ],
         "yaxis": "y"
        },
        {
         "hoverinfo": "none",
         "line": {
          "color": "green",
          "width": 3
         },
         "mode": "lines",
         "showlegend": false,
         "type": "scatter",
         "x": [
          "2020-07-29T00:00:00",
          "2020-07-30T00:00:00"
         ],
         "xaxis": "x",
         "y": [
          155.76,
          155.87
         ],
         "yaxis": "y"
        },
        {
         "hoverinfo": "none",
         "line": {
          "color": "green",
          "width": 3
         },
         "mode": "lines",
         "showlegend": false,
         "type": "scatter",
         "x": [
          "2020-07-30T00:00:00",
          "2020-07-31T00:00:00"
         ],
         "xaxis": "x",
         "y": [
          155.87,
          155.99
         ],
         "yaxis": "y"
        },
        {
         "hoverinfo": "none",
         "line": {
          "color": "green",
          "width": 3
         },
         "mode": "lines",
         "showlegend": false,
         "type": "scatter",
         "x": [
          "2020-07-31T00:00:00",
          "2020-08-01T00:00:00"
         ],
         "xaxis": "x",
         "y": [
          155.99,
          156.1
         ],
         "yaxis": "y"
        },
        {
         "hoverinfo": "none",
         "line": {
          "color": "green",
          "width": 3
         },
         "mode": "lines",
         "showlegend": false,
         "type": "scatter",
         "x": [
          "2020-08-01T00:00:00",
          "2020-08-02T00:00:00"
         ],
         "xaxis": "x",
         "y": [
          156.1,
          156.19
         ],
         "yaxis": "y"
        },
        {
         "hoverinfo": "none",
         "line": {
          "color": "green",
          "width": 3
         },
         "mode": "lines",
         "showlegend": false,
         "type": "scatter",
         "x": [
          "2020-08-02T00:00:00",
          "2020-08-03T00:00:00"
         ],
         "xaxis": "x",
         "y": [
          156.19,
          156.27
         ],
         "yaxis": "y"
        },
        {
         "hoverinfo": "none",
         "line": {
          "color": "green",
          "width": 3
         },
         "mode": "lines",
         "showlegend": false,
         "type": "scatter",
         "x": [
          "2020-08-03T00:00:00",
          "2020-08-04T00:00:00"
         ],
         "xaxis": "x",
         "y": [
          156.27,
          156.35
         ],
         "yaxis": "y"
        },
        {
         "hoverinfo": "none",
         "line": {
          "color": "green",
          "width": 3
         },
         "mode": "lines",
         "showlegend": false,
         "type": "scatter",
         "x": [
          "2020-08-04T00:00:00",
          "2020-08-05T00:00:00"
         ],
         "xaxis": "x",
         "y": [
          156.35,
          156.42
         ],
         "yaxis": "y"
        },
        {
         "hoverinfo": "none",
         "line": {
          "color": "red",
          "width": 3
         },
         "mode": "lines",
         "showlegend": false,
         "type": "scatter",
         "x": [
          "2020-08-05T00:00:00",
          "2020-08-06T00:00:00"
         ],
         "xaxis": "x",
         "y": [
          156.42,
          156.39
         ],
         "yaxis": "y"
        },
        {
         "hoverinfo": "none",
         "line": {
          "color": "red",
          "width": 3
         },
         "mode": "lines",
         "showlegend": false,
         "type": "scatter",
         "x": [
          "2020-08-06T00:00:00",
          "2020-08-07T00:00:00"
         ],
         "xaxis": "x",
         "y": [
          156.39,
          156.37
         ],
         "yaxis": "y"
        },
        {
         "hoverinfo": "none",
         "line": {
          "color": "red",
          "width": 3
         },
         "mode": "lines",
         "showlegend": false,
         "type": "scatter",
         "x": [
          "2020-08-07T00:00:00",
          "2020-08-08T00:00:00"
         ],
         "xaxis": "x",
         "y": [
          156.37,
          156.34
         ],
         "yaxis": "y"
        },
        {
         "hoverinfo": "none",
         "line": {
          "color": "red",
          "width": 3
         },
         "mode": "lines",
         "showlegend": false,
         "type": "scatter",
         "x": [
          "2020-08-08T00:00:00",
          "2020-08-09T00:00:00"
         ],
         "xaxis": "x",
         "y": [
          156.34,
          156.32
         ],
         "yaxis": "y"
        },
        {
         "hoverinfo": "none",
         "line": {
          "color": "green",
          "width": 3
         },
         "mode": "lines",
         "showlegend": false,
         "type": "scatter",
         "x": [
          "2020-08-09T00:00:00",
          "2020-08-10T00:00:00"
         ],
         "xaxis": "x",
         "y": [
          156.32,
          156.42
         ],
         "yaxis": "y"
        },
        {
         "hoverinfo": "none",
         "line": {
          "color": "green",
          "width": 3
         },
         "mode": "lines",
         "showlegend": false,
         "type": "scatter",
         "x": [
          "2020-08-10T00:00:00",
          "2020-08-11T00:00:00"
         ],
         "xaxis": "x",
         "y": [
          156.42,
          156.54
         ],
         "yaxis": "y"
        },
        {
         "hoverinfo": "none",
         "line": {
          "color": "green",
          "width": 3
         },
         "mode": "lines",
         "showlegend": false,
         "type": "scatter",
         "x": [
          "2020-08-11T00:00:00",
          "2020-08-12T00:00:00"
         ],
         "xaxis": "x",
         "y": [
          156.54,
          156.56
         ],
         "yaxis": "y"
        },
        {
         "hoverinfo": "none",
         "line": {
          "color": "green",
          "width": 3
         },
         "mode": "lines",
         "showlegend": false,
         "type": "scatter",
         "x": [
          "2020-08-12T00:00:00",
          "2020-08-13T00:00:00"
         ],
         "xaxis": "x",
         "y": [
          156.56,
          156.57
         ],
         "yaxis": "y"
        },
        {
         "hoverinfo": "none",
         "line": {
          "color": "green",
          "width": 3
         },
         "mode": "lines",
         "showlegend": false,
         "type": "scatter",
         "x": [
          "2020-08-13T00:00:00",
          "2020-08-14T00:00:00"
         ],
         "xaxis": "x",
         "y": [
          156.57,
          156.68
         ],
         "yaxis": "y"
        },
        {
         "hoverinfo": "none",
         "line": {
          "color": "green",
          "width": 3
         },
         "mode": "lines",
         "showlegend": false,
         "type": "scatter",
         "x": [
          "2020-08-14T00:00:00",
          "2020-08-15T00:00:00"
         ],
         "xaxis": "x",
         "y": [
          156.68,
          156.81
         ],
         "yaxis": "y"
        },
        {
         "hoverinfo": "none",
         "line": {
          "color": "green",
          "width": 3
         },
         "mode": "lines",
         "showlegend": false,
         "type": "scatter",
         "x": [
          "2020-08-15T00:00:00",
          "2020-08-16T00:00:00"
         ],
         "xaxis": "x",
         "y": [
          156.81,
          156.93
         ],
         "yaxis": "y"
        },
        {
         "hoverinfo": "none",
         "line": {
          "color": "green",
          "width": 3
         },
         "mode": "lines",
         "showlegend": false,
         "type": "scatter",
         "x": [
          "2020-08-16T00:00:00",
          "2020-08-17T00:00:00"
         ],
         "xaxis": "x",
         "y": [
          156.93,
          157.06
         ],
         "yaxis": "y"
        },
        {
         "hoverinfo": "none",
         "line": {
          "color": "green",
          "width": 3
         },
         "mode": "lines",
         "showlegend": false,
         "type": "scatter",
         "x": [
          "2020-08-17T00:00:00",
          "2020-08-18T00:00:00"
         ],
         "xaxis": "x",
         "y": [
          157.06,
          157.09
         ],
         "yaxis": "y"
        },
        {
         "hoverinfo": "none",
         "line": {
          "color": "green",
          "width": 3
         },
         "mode": "lines",
         "showlegend": false,
         "type": "scatter",
         "x": [
          "2020-08-18T00:00:00",
          "2020-08-19T00:00:00"
         ],
         "xaxis": "x",
         "y": [
          157.09,
          157.11
         ],
         "yaxis": "y"
        },
        {
         "hoverinfo": "none",
         "line": {
          "color": "green",
          "width": 3
         },
         "mode": "lines",
         "showlegend": false,
         "type": "scatter",
         "x": [
          "2020-08-19T00:00:00",
          "2020-08-20T00:00:00"
         ],
         "xaxis": "x",
         "y": [
          157.11,
          157.11
         ],
         "yaxis": "y"
        },
        {
         "hoverinfo": "none",
         "line": {
          "color": "green",
          "width": 3
         },
         "mode": "lines",
         "showlegend": false,
         "type": "scatter",
         "x": [
          "2020-08-20T00:00:00",
          "2020-08-21T00:00:00"
         ],
         "xaxis": "x",
         "y": [
          157.11,
          157.11
         ],
         "yaxis": "y"
        },
        {
         "hoverinfo": "none",
         "line": {
          "color": "green",
          "width": 3
         },
         "mode": "lines",
         "showlegend": false,
         "type": "scatter",
         "x": [
          "2020-08-21T00:00:00",
          "2020-08-22T00:00:00"
         ],
         "xaxis": "x",
         "y": [
          157.11,
          157.12
         ],
         "yaxis": "y"
        },
        {
         "hoverinfo": "none",
         "line": {
          "color": "green",
          "width": 3
         },
         "mode": "lines",
         "showlegend": false,
         "type": "scatter",
         "x": [
          "2020-08-22T00:00:00",
          "2020-08-23T00:00:00"
         ],
         "xaxis": "x",
         "y": [
          157.12,
          157.14
         ],
         "yaxis": "y"
        },
        {
         "hoverinfo": "none",
         "line": {
          "color": "green",
          "width": 3
         },
         "mode": "lines",
         "showlegend": false,
         "type": "scatter",
         "x": [
          "2020-08-23T00:00:00",
          "2020-08-24T00:00:00"
         ],
         "xaxis": "x",
         "y": [
          157.14,
          157.26
         ],
         "yaxis": "y"
        },
        {
         "hoverinfo": "none",
         "line": {
          "color": "green",
          "width": 3
         },
         "mode": "lines",
         "showlegend": false,
         "type": "scatter",
         "x": [
          "2020-08-24T00:00:00",
          "2020-08-25T00:00:00"
         ],
         "xaxis": "x",
         "y": [
          157.26,
          157.39
         ],
         "yaxis": "y"
        },
        {
         "hoverinfo": "none",
         "line": {
          "color": "green",
          "width": 3
         },
         "mode": "lines",
         "showlegend": false,
         "type": "scatter",
         "x": [
          "2020-08-25T00:00:00",
          "2020-08-26T00:00:00"
         ],
         "xaxis": "x",
         "y": [
          157.39,
          157.48
         ],
         "yaxis": "y"
        },
        {
         "hoverinfo": "none",
         "line": {
          "color": "green",
          "width": 3
         },
         "mode": "lines",
         "showlegend": false,
         "type": "scatter",
         "x": [
          "2020-08-26T00:00:00",
          "2020-08-27T00:00:00"
         ],
         "xaxis": "x",
         "y": [
          157.48,
          157.59
         ],
         "yaxis": "y"
        },
        {
         "hoverinfo": "none",
         "line": {
          "color": "green",
          "width": 3
         },
         "mode": "lines",
         "showlegend": false,
         "type": "scatter",
         "x": [
          "2020-08-27T00:00:00",
          "2020-08-28T00:00:00"
         ],
         "xaxis": "x",
         "y": [
          157.59,
          157.7
         ],
         "yaxis": "y"
        },
        {
         "hoverinfo": "none",
         "line": {
          "color": "green",
          "width": 3
         },
         "mode": "lines",
         "showlegend": false,
         "type": "scatter",
         "x": [
          "2020-08-28T00:00:00",
          "2020-08-29T00:00:00"
         ],
         "xaxis": "x",
         "y": [
          157.7,
          157.82
         ],
         "yaxis": "y"
        },
        {
         "hoverinfo": "none",
         "line": {
          "color": "green",
          "width": 3
         },
         "mode": "lines",
         "showlegend": false,
         "type": "scatter",
         "x": [
          "2020-08-29T00:00:00",
          "2020-08-30T00:00:00"
         ],
         "xaxis": "x",
         "y": [
          157.82,
          157.95
         ],
         "yaxis": "y"
        },
        {
         "hoverinfo": "none",
         "line": {
          "color": "green",
          "width": 3
         },
         "mode": "lines",
         "showlegend": false,
         "type": "scatter",
         "x": [
          "2020-08-30T00:00:00",
          "2020-08-31T00:00:00"
         ],
         "xaxis": "x",
         "y": [
          157.95,
          158.17
         ],
         "yaxis": "y"
        },
        {
         "hoverinfo": "none",
         "line": {
          "color": "green",
          "width": 3
         },
         "mode": "lines",
         "showlegend": false,
         "type": "scatter",
         "x": [
          "2020-08-31T00:00:00",
          "2020-09-01T00:00:00"
         ],
         "xaxis": "x",
         "y": [
          158.17,
          158.28
         ],
         "yaxis": "y"
        },
        {
         "hoverinfo": "none",
         "line": {
          "color": "green",
          "width": 3
         },
         "mode": "lines",
         "showlegend": false,
         "type": "scatter",
         "x": [
          "2020-09-01T00:00:00",
          "2020-09-02T00:00:00"
         ],
         "xaxis": "x",
         "y": [
          158.28,
          158.4
         ],
         "yaxis": "y"
        },
        {
         "hoverinfo": "none",
         "line": {
          "color": "green",
          "width": 3
         },
         "mode": "lines",
         "showlegend": false,
         "type": "scatter",
         "x": [
          "2020-09-02T00:00:00",
          "2020-09-03T00:00:00"
         ],
         "xaxis": "x",
         "y": [
          158.4,
          158.54
         ],
         "yaxis": "y"
        },
        {
         "hoverinfo": "none",
         "line": {
          "color": "green",
          "width": 3
         },
         "mode": "lines",
         "showlegend": false,
         "type": "scatter",
         "x": [
          "2020-09-03T00:00:00",
          "2020-09-04T00:00:00"
         ],
         "xaxis": "x",
         "y": [
          158.54,
          158.67
         ],
         "yaxis": "y"
        },
        {
         "hoverinfo": "none",
         "line": {
          "color": "green",
          "width": 3
         },
         "mode": "lines",
         "showlegend": false,
         "type": "scatter",
         "x": [
          "2020-09-04T00:00:00",
          "2020-09-05T00:00:00"
         ],
         "xaxis": "x",
         "y": [
          158.67,
          158.79
         ],
         "yaxis": "y"
        },
        {
         "hoverinfo": "none",
         "line": {
          "color": "green",
          "width": 3
         },
         "mode": "lines",
         "showlegend": false,
         "type": "scatter",
         "x": [
          "2020-09-05T00:00:00",
          "2020-09-06T00:00:00"
         ],
         "xaxis": "x",
         "y": [
          158.79,
          158.92
         ],
         "yaxis": "y"
        },
        {
         "hoverinfo": "none",
         "line": {
          "color": "green",
          "width": 3
         },
         "mode": "lines",
         "showlegend": false,
         "type": "scatter",
         "x": [
          "2020-09-06T00:00:00",
          "2020-09-07T00:00:00"
         ],
         "xaxis": "x",
         "y": [
          158.92,
          159.13
         ],
         "yaxis": "y"
        },
        {
         "hoverinfo": "none",
         "line": {
          "color": "green",
          "width": 3
         },
         "mode": "lines",
         "showlegend": false,
         "type": "scatter",
         "x": [
          "2020-09-07T00:00:00",
          "2020-09-08T00:00:00"
         ],
         "xaxis": "x",
         "y": [
          159.13,
          159.26
         ],
         "yaxis": "y"
        },
        {
         "hoverinfo": "none",
         "line": {
          "color": "green",
          "width": 3
         },
         "mode": "lines",
         "showlegend": false,
         "type": "scatter",
         "x": [
          "2020-09-08T00:00:00",
          "2020-09-09T00:00:00"
         ],
         "xaxis": "x",
         "y": [
          159.26,
          159.38
         ],
         "yaxis": "y"
        },
        {
         "hoverinfo": "none",
         "line": {
          "color": "green",
          "width": 3
         },
         "mode": "lines",
         "showlegend": false,
         "type": "scatter",
         "x": [
          "2020-09-09T00:00:00",
          "2020-09-10T00:00:00"
         ],
         "xaxis": "x",
         "y": [
          159.38,
          159.49
         ],
         "yaxis": "y"
        },
        {
         "hoverinfo": "none",
         "line": {
          "color": "green",
          "width": 3
         },
         "mode": "lines",
         "showlegend": false,
         "type": "scatter",
         "x": [
          "2020-09-10T00:00:00",
          "2020-09-11T00:00:00"
         ],
         "xaxis": "x",
         "y": [
          159.49,
          159.59
         ],
         "yaxis": "y"
        },
        {
         "hoverinfo": "none",
         "line": {
          "color": "green",
          "width": 3
         },
         "mode": "lines",
         "showlegend": false,
         "type": "scatter",
         "x": [
          "2020-09-11T00:00:00",
          "2020-09-12T00:00:00"
         ],
         "xaxis": "x",
         "y": [
          159.59,
          159.69
         ],
         "yaxis": "y"
        },
        {
         "hoverinfo": "none",
         "line": {
          "color": "green",
          "width": 3
         },
         "mode": "lines",
         "showlegend": false,
         "type": "scatter",
         "x": [
          "2020-09-12T00:00:00",
          "2020-09-13T00:00:00"
         ],
         "xaxis": "x",
         "y": [
          159.69,
          159.82
         ],
         "yaxis": "y"
        },
        {
         "hoverinfo": "none",
         "line": {
          "color": "green",
          "width": 3
         },
         "mode": "lines",
         "showlegend": false,
         "type": "scatter",
         "x": [
          "2020-09-13T00:00:00",
          "2020-09-14T00:00:00"
         ],
         "xaxis": "x",
         "y": [
          159.82,
          160.04
         ],
         "yaxis": "y"
        },
        {
         "hoverinfo": "none",
         "line": {
          "color": "green",
          "width": 3
         },
         "mode": "lines",
         "showlegend": false,
         "type": "scatter",
         "x": [
          "2020-09-14T00:00:00",
          "2020-09-15T00:00:00"
         ],
         "xaxis": "x",
         "y": [
          160.04,
          160.16
         ],
         "yaxis": "y"
        },
        {
         "hoverinfo": "none",
         "line": {
          "color": "green",
          "width": 3
         },
         "mode": "lines",
         "showlegend": false,
         "type": "scatter",
         "x": [
          "2020-09-15T00:00:00",
          "2020-09-16T00:00:00"
         ],
         "xaxis": "x",
         "y": [
          160.16,
          160.27
         ],
         "yaxis": "y"
        },
        {
         "hoverinfo": "none",
         "line": {
          "color": "red",
          "width": 3
         },
         "mode": "lines",
         "showlegend": false,
         "type": "scatter",
         "x": [
          "2020-09-16T00:00:00",
          "2020-09-17T00:00:00"
         ],
         "xaxis": "x",
         "y": [
          160.27,
          160.25
         ],
         "yaxis": "y"
        },
        {
         "hoverinfo": "none",
         "line": {
          "color": "green",
          "width": 3
         },
         "mode": "lines",
         "showlegend": false,
         "type": "scatter",
         "x": [
          "2020-09-17T00:00:00",
          "2020-09-18T00:00:00"
         ],
         "xaxis": "x",
         "y": [
          160.25,
          160.35
         ],
         "yaxis": "y"
        },
        {
         "hoverinfo": "none",
         "line": {
          "color": "green",
          "width": 3
         },
         "mode": "lines",
         "showlegend": false,
         "type": "scatter",
         "x": [
          "2020-09-18T00:00:00",
          "2020-09-19T00:00:00"
         ],
         "xaxis": "x",
         "y": [
          160.35,
          160.46
         ],
         "yaxis": "y"
        },
        {
         "hoverinfo": "none",
         "line": {
          "color": "green",
          "width": 3
         },
         "mode": "lines",
         "showlegend": false,
         "type": "scatter",
         "x": [
          "2020-09-19T00:00:00",
          "2020-09-20T00:00:00"
         ],
         "xaxis": "x",
         "y": [
          160.46,
          160.56
         ],
         "yaxis": "y"
        },
        {
         "hoverinfo": "none",
         "line": {
          "color": "green",
          "width": 3
         },
         "mode": "lines",
         "showlegend": false,
         "type": "scatter",
         "x": [
          "2020-09-20T00:00:00",
          "2020-09-21T00:00:00"
         ],
         "xaxis": "x",
         "y": [
          160.56,
          160.67
         ],
         "yaxis": "y"
        },
        {
         "hoverinfo": "none",
         "line": {
          "color": "green",
          "width": 3
         },
         "mode": "lines",
         "showlegend": false,
         "type": "scatter",
         "x": [
          "2020-09-21T00:00:00",
          "2020-09-22T00:00:00"
         ],
         "xaxis": "x",
         "y": [
          160.67,
          160.67
         ],
         "yaxis": "y"
        },
        {
         "hoverinfo": "none",
         "line": {
          "color": "green",
          "width": 3
         },
         "mode": "lines",
         "showlegend": false,
         "type": "scatter",
         "x": [
          "2020-09-22T00:00:00",
          "2020-09-23T00:00:00"
         ],
         "xaxis": "x",
         "y": [
          160.67,
          160.78
         ],
         "yaxis": "y"
        },
        {
         "hoverinfo": "none",
         "line": {
          "color": "green",
          "width": 3
         },
         "mode": "lines",
         "showlegend": false,
         "type": "scatter",
         "x": [
          "2020-09-23T00:00:00",
          "2020-09-24T00:00:00"
         ],
         "xaxis": "x",
         "y": [
          160.78,
          160.78
         ],
         "yaxis": "y"
        },
        {
         "hoverinfo": "none",
         "line": {
          "color": "green",
          "width": 3
         },
         "mode": "lines",
         "showlegend": false,
         "type": "scatter",
         "x": [
          "2020-09-24T00:00:00",
          "2020-09-25T00:00:00"
         ],
         "xaxis": "x",
         "y": [
          160.78,
          160.91
         ],
         "yaxis": "y"
        },
        {
         "hoverinfo": "none",
         "line": {
          "color": "green",
          "width": 3
         },
         "mode": "lines",
         "showlegend": false,
         "type": "scatter",
         "x": [
          "2020-09-25T00:00:00",
          "2020-09-26T00:00:00"
         ],
         "xaxis": "x",
         "y": [
          160.91,
          160.92
         ],
         "yaxis": "y"
        },
        {
         "hoverinfo": "none",
         "line": {
          "color": "green",
          "width": 3
         },
         "mode": "lines",
         "showlegend": false,
         "type": "scatter",
         "x": [
          "2020-09-26T00:00:00",
          "2020-09-27T00:00:00"
         ],
         "xaxis": "x",
         "y": [
          160.92,
          161.06
         ],
         "yaxis": "y"
        },
        {
         "hoverinfo": "none",
         "line": {
          "color": "green",
          "width": 3
         },
         "mode": "lines",
         "showlegend": false,
         "type": "scatter",
         "x": [
          "2020-09-27T00:00:00",
          "2020-09-28T00:00:00"
         ],
         "xaxis": "x",
         "y": [
          161.06,
          161.17
         ],
         "yaxis": "y"
        },
        {
         "hoverinfo": "none",
         "line": {
          "color": "green",
          "width": 3
         },
         "mode": "lines",
         "showlegend": false,
         "type": "scatter",
         "x": [
          "2020-09-28T00:00:00",
          "2020-09-29T00:00:00"
         ],
         "xaxis": "x",
         "y": [
          161.17,
          161.3
         ],
         "yaxis": "y"
        },
        {
         "hoverinfo": "none",
         "line": {
          "color": "green",
          "width": 3
         },
         "mode": "lines",
         "showlegend": false,
         "type": "scatter",
         "x": [
          "2020-09-29T00:00:00",
          "2020-09-30T00:00:00"
         ],
         "xaxis": "x",
         "y": [
          161.3,
          161.42
         ],
         "yaxis": "y"
        },
        {
         "hoverinfo": "none",
         "line": {
          "color": "red",
          "width": 3
         },
         "mode": "lines",
         "showlegend": false,
         "type": "scatter",
         "x": [
          "2020-09-30T00:00:00",
          "2020-10-01T00:00:00"
         ],
         "xaxis": "x",
         "y": [
          161.42,
          161.31
         ],
         "yaxis": "y"
        },
        {
         "hoverinfo": "none",
         "line": {
          "color": "green",
          "width": 3
         },
         "mode": "lines",
         "showlegend": false,
         "type": "scatter",
         "x": [
          "2020-10-01T00:00:00",
          "2020-10-02T00:00:00"
         ],
         "xaxis": "x",
         "y": [
          161.31,
          161.31
         ],
         "yaxis": "y"
        },
        {
         "hoverinfo": "none",
         "line": {
          "color": "green",
          "width": 3
         },
         "mode": "lines",
         "showlegend": false,
         "type": "scatter",
         "x": [
          "2020-10-02T00:00:00",
          "2020-10-03T00:00:00"
         ],
         "xaxis": "x",
         "y": [
          161.31,
          161.44
         ],
         "yaxis": "y"
        },
        {
         "hoverinfo": "none",
         "line": {
          "color": "green",
          "width": 3
         },
         "mode": "lines",
         "showlegend": false,
         "type": "scatter",
         "x": [
          "2020-10-03T00:00:00",
          "2020-10-04T00:00:00"
         ],
         "xaxis": "x",
         "y": [
          161.44,
          161.56
         ],
         "yaxis": "y"
        },
        {
         "hoverinfo": "none",
         "line": {
          "color": "green",
          "width": 3
         },
         "mode": "lines",
         "showlegend": false,
         "type": "scatter",
         "x": [
          "2020-10-04T00:00:00",
          "2020-10-05T00:00:00"
         ],
         "xaxis": "x",
         "y": [
          161.56,
          161.56
         ],
         "yaxis": "y"
        },
        {
         "hoverinfo": "none",
         "line": {
          "color": "green",
          "width": 3
         },
         "mode": "lines",
         "showlegend": false,
         "type": "scatter",
         "x": [
          "2020-10-05T00:00:00",
          "2020-10-06T00:00:00"
         ],
         "xaxis": "x",
         "y": [
          161.56,
          161.58
         ],
         "yaxis": "y"
        },
        {
         "hoverinfo": "none",
         "line": {
          "color": "green",
          "width": 3
         },
         "mode": "lines",
         "showlegend": false,
         "type": "scatter",
         "x": [
          "2020-10-06T00:00:00",
          "2020-10-07T00:00:00"
         ],
         "xaxis": "x",
         "y": [
          161.58,
          161.58
         ],
         "yaxis": "y"
        },
        {
         "hoverinfo": "none",
         "line": {
          "color": "red",
          "width": 3
         },
         "mode": "lines",
         "showlegend": false,
         "type": "scatter",
         "x": [
          "2020-10-07T00:00:00",
          "2020-10-08T00:00:00"
         ],
         "xaxis": "x",
         "y": [
          161.58,
          161.56
         ],
         "yaxis": "y"
        },
        {
         "hoverinfo": "none",
         "line": {
          "color": "green",
          "width": 3
         },
         "mode": "lines",
         "showlegend": false,
         "type": "scatter",
         "x": [
          "2020-10-08T00:00:00",
          "2020-10-09T00:00:00"
         ],
         "xaxis": "x",
         "y": [
          161.56,
          161.69
         ],
         "yaxis": "y"
        },
        {
         "hoverinfo": "none",
         "line": {
          "color": "green",
          "width": 3
         },
         "mode": "lines",
         "showlegend": false,
         "type": "scatter",
         "x": [
          "2020-10-09T00:00:00",
          "2020-10-10T00:00:00"
         ],
         "xaxis": "x",
         "y": [
          161.69,
          161.81
         ],
         "yaxis": "y"
        },
        {
         "hoverinfo": "none",
         "line": {
          "color": "green",
          "width": 3
         },
         "mode": "lines",
         "showlegend": false,
         "type": "scatter",
         "x": [
          "2020-10-10T00:00:00",
          "2020-10-11T00:00:00"
         ],
         "xaxis": "x",
         "y": [
          161.81,
          161.81
         ],
         "yaxis": "y"
        },
        {
         "hoverinfo": "none",
         "line": {
          "color": "green",
          "width": 3
         },
         "mode": "lines",
         "showlegend": false,
         "type": "scatter",
         "x": [
          "2020-10-11T00:00:00",
          "2020-10-12T00:00:00"
         ],
         "xaxis": "x",
         "y": [
          161.81,
          161.92
         ],
         "yaxis": "y"
        },
        {
         "hoverinfo": "none",
         "line": {
          "color": "green",
          "width": 3
         },
         "mode": "lines",
         "showlegend": false,
         "type": "scatter",
         "x": [
          "2020-10-12T00:00:00",
          "2020-10-13T00:00:00"
         ],
         "xaxis": "x",
         "y": [
          161.92,
          162.03
         ],
         "yaxis": "y"
        },
        {
         "hoverinfo": "none",
         "line": {
          "color": "green",
          "width": 3
         },
         "mode": "lines",
         "showlegend": false,
         "type": "scatter",
         "x": [
          "2020-10-13T00:00:00",
          "2020-10-14T00:00:00"
         ],
         "xaxis": "x",
         "y": [
          162.03,
          162.14
         ],
         "yaxis": "y"
        },
        {
         "hoverinfo": "none",
         "line": {
          "color": "green",
          "width": 3
         },
         "mode": "lines",
         "showlegend": false,
         "type": "scatter",
         "x": [
          "2020-10-14T00:00:00",
          "2020-10-15T00:00:00"
         ],
         "xaxis": "x",
         "y": [
          162.14,
          162.14
         ],
         "yaxis": "y"
        },
        {
         "hoverinfo": "none",
         "line": {
          "color": "green",
          "width": 3
         },
         "mode": "lines",
         "showlegend": false,
         "type": "scatter",
         "x": [
          "2020-10-15T00:00:00",
          "2020-10-16T00:00:00"
         ],
         "xaxis": "x",
         "y": [
          162.14,
          162.16
         ],
         "yaxis": "y"
        },
        {
         "hoverinfo": "none",
         "line": {
          "color": "green",
          "width": 3
         },
         "mode": "lines",
         "showlegend": false,
         "type": "scatter",
         "x": [
          "2020-10-16T00:00:00",
          "2020-10-17T00:00:00"
         ],
         "xaxis": "x",
         "y": [
          162.16,
          162.27
         ],
         "yaxis": "y"
        },
        {
         "hoverinfo": "none",
         "line": {
          "color": "green",
          "width": 3
         },
         "mode": "lines",
         "showlegend": false,
         "type": "scatter",
         "x": [
          "2020-10-17T00:00:00",
          "2020-10-18T00:00:00"
         ],
         "xaxis": "x",
         "y": [
          162.27,
          162.37
         ],
         "yaxis": "y"
        },
        {
         "hoverinfo": "none",
         "line": {
          "color": "green",
          "width": 3
         },
         "mode": "lines",
         "showlegend": false,
         "type": "scatter",
         "x": [
          "2020-10-18T00:00:00",
          "2020-10-19T00:00:00"
         ],
         "xaxis": "x",
         "y": [
          162.37,
          162.48
         ],
         "yaxis": "y"
        },
        {
         "hoverinfo": "none",
         "line": {
          "color": "green",
          "width": 3
         },
         "mode": "lines",
         "showlegend": false,
         "type": "scatter",
         "x": [
          "2020-10-19T00:00:00",
          "2020-10-20T00:00:00"
         ],
         "xaxis": "x",
         "y": [
          162.48,
          162.48
         ],
         "yaxis": "y"
        },
        {
         "hoverinfo": "none",
         "line": {
          "color": "green",
          "width": 3
         },
         "mode": "lines",
         "showlegend": false,
         "type": "scatter",
         "x": [
          "2020-10-20T00:00:00",
          "2020-10-21T00:00:00"
         ],
         "xaxis": "x",
         "y": [
          162.48,
          162.48
         ],
         "yaxis": "y"
        },
        {
         "hoverinfo": "none",
         "line": {
          "color": "green",
          "width": 3
         },
         "mode": "lines",
         "showlegend": false,
         "type": "scatter",
         "x": [
          "2020-10-21T00:00:00",
          "2020-10-22T00:00:00"
         ],
         "xaxis": "x",
         "y": [
          162.48,
          162.48
         ],
         "yaxis": "y"
        },
        {
         "hoverinfo": "none",
         "line": {
          "color": "green",
          "width": 3
         },
         "mode": "lines",
         "showlegend": false,
         "type": "scatter",
         "x": [
          "2020-10-22T00:00:00",
          "2020-10-23T00:00:00"
         ],
         "xaxis": "x",
         "y": [
          162.48,
          162.59
         ],
         "yaxis": "y"
        },
        {
         "hoverinfo": "none",
         "line": {
          "color": "green",
          "width": 3
         },
         "mode": "lines",
         "showlegend": false,
         "type": "scatter",
         "x": [
          "2020-10-23T00:00:00",
          "2020-10-24T00:00:00"
         ],
         "xaxis": "x",
         "y": [
          162.59,
          162.72
         ],
         "yaxis": "y"
        },
        {
         "hoverinfo": "none",
         "line": {
          "color": "green",
          "width": 3
         },
         "mode": "lines",
         "showlegend": false,
         "type": "scatter",
         "x": [
          "2020-10-24T00:00:00",
          "2020-10-25T00:00:00"
         ],
         "xaxis": "x",
         "y": [
          162.72,
          162.73
         ],
         "yaxis": "y"
        },
        {
         "hoverinfo": "none",
         "line": {
          "color": "green",
          "width": 3
         },
         "mode": "lines",
         "showlegend": false,
         "type": "scatter",
         "x": [
          "2020-10-25T00:00:00",
          "2020-10-26T00:00:00"
         ],
         "xaxis": "x",
         "y": [
          162.73,
          162.86
         ],
         "yaxis": "y"
        },
        {
         "hoverinfo": "none",
         "line": {
          "color": "green",
          "width": 3
         },
         "mode": "lines",
         "showlegend": false,
         "type": "scatter",
         "x": [
          "2020-10-26T00:00:00",
          "2020-10-27T00:00:00"
         ],
         "xaxis": "x",
         "y": [
          162.86,
          162.98
         ],
         "yaxis": "y"
        },
        {
         "hoverinfo": "none",
         "line": {
          "color": "green",
          "width": 3
         },
         "mode": "lines",
         "showlegend": false,
         "type": "scatter",
         "x": [
          "2020-10-27T00:00:00",
          "2020-10-28T00:00:00"
         ],
         "xaxis": "x",
         "y": [
          162.98,
          163.11
         ],
         "yaxis": "y"
        },
        {
         "hoverinfo": "none",
         "line": {
          "color": "green",
          "width": 3
         },
         "mode": "lines",
         "showlegend": false,
         "type": "scatter",
         "x": [
          "2020-10-28T00:00:00",
          "2020-10-29T00:00:00"
         ],
         "xaxis": "x",
         "y": [
          163.11,
          163.23
         ],
         "yaxis": "y"
        },
        {
         "hoverinfo": "none",
         "line": {
          "color": "green",
          "width": 3
         },
         "mode": "lines",
         "showlegend": false,
         "type": "scatter",
         "x": [
          "2020-10-29T00:00:00",
          "2020-10-30T00:00:00"
         ],
         "xaxis": "x",
         "y": [
          163.23,
          163.36
         ],
         "yaxis": "y"
        },
        {
         "hoverinfo": "none",
         "line": {
          "color": "green",
          "width": 3
         },
         "mode": "lines",
         "showlegend": false,
         "type": "scatter",
         "x": [
          "2020-10-30T00:00:00",
          "2020-10-31T00:00:00"
         ],
         "xaxis": "x",
         "y": [
          163.36,
          163.48
         ],
         "yaxis": "y"
        },
        {
         "hoverinfo": "none",
         "line": {
          "color": "green",
          "width": 3
         },
         "mode": "lines",
         "showlegend": false,
         "type": "scatter",
         "x": [
          "2020-10-31T00:00:00",
          "2020-11-01T00:00:00"
         ],
         "xaxis": "x",
         "y": [
          163.48,
          163.59
         ],
         "yaxis": "y"
        },
        {
         "hoverinfo": "none",
         "line": {
          "color": "green",
          "width": 3
         },
         "mode": "lines",
         "showlegend": false,
         "type": "scatter",
         "x": [
          "2020-11-01T00:00:00",
          "2020-11-02T00:00:00"
         ],
         "xaxis": "x",
         "y": [
          163.59,
          163.79
         ],
         "yaxis": "y"
        },
        {
         "hoverinfo": "none",
         "line": {
          "color": "green",
          "width": 3
         },
         "mode": "lines",
         "showlegend": false,
         "type": "scatter",
         "x": [
          "2020-11-02T00:00:00",
          "2020-11-03T00:00:00"
         ],
         "xaxis": "x",
         "y": [
          163.79,
          163.9
         ],
         "yaxis": "y"
        },
        {
         "hoverinfo": "none",
         "line": {
          "color": "green",
          "width": 3
         },
         "mode": "lines",
         "showlegend": false,
         "type": "scatter",
         "x": [
          "2020-11-03T00:00:00",
          "2020-11-04T00:00:00"
         ],
         "xaxis": "x",
         "y": [
          163.9,
          164.01
         ],
         "yaxis": "y"
        },
        {
         "hoverinfo": "none",
         "line": {
          "color": "green",
          "width": 3
         },
         "mode": "lines",
         "showlegend": false,
         "type": "scatter",
         "x": [
          "2020-11-04T00:00:00",
          "2020-11-05T00:00:00"
         ],
         "xaxis": "x",
         "y": [
          164.01,
          164.12
         ],
         "yaxis": "y"
        },
        {
         "hoverinfo": "none",
         "line": {
          "color": "green",
          "width": 3
         },
         "mode": "lines",
         "showlegend": false,
         "type": "scatter",
         "x": [
          "2020-11-05T00:00:00",
          "2020-11-06T00:00:00"
         ],
         "xaxis": "x",
         "y": [
          164.12,
          164.21
         ],
         "yaxis": "y"
        },
        {
         "hoverinfo": "none",
         "line": {
          "color": "green",
          "width": 3
         },
         "mode": "lines",
         "showlegend": false,
         "type": "scatter",
         "x": [
          "2020-11-06T00:00:00",
          "2020-11-07T00:00:00"
         ],
         "xaxis": "x",
         "y": [
          164.21,
          164.3
         ],
         "yaxis": "y"
        },
        {
         "hoverinfo": "none",
         "line": {
          "color": "green",
          "width": 3
         },
         "mode": "lines",
         "showlegend": false,
         "type": "scatter",
         "x": [
          "2020-11-07T00:00:00",
          "2020-11-08T00:00:00"
         ],
         "xaxis": "x",
         "y": [
          164.3,
          164.4
         ],
         "yaxis": "y"
        },
        {
         "hoverinfo": "none",
         "line": {
          "color": "green",
          "width": 3
         },
         "mode": "lines",
         "showlegend": false,
         "type": "scatter",
         "x": [
          "2020-11-08T00:00:00",
          "2020-11-09T00:00:00"
         ],
         "xaxis": "x",
         "y": [
          164.4,
          164.58
         ],
         "yaxis": "y"
        },
        {
         "hoverinfo": "none",
         "line": {
          "color": "green",
          "width": 3
         },
         "mode": "lines",
         "showlegend": false,
         "type": "scatter",
         "x": [
          "2020-11-09T00:00:00",
          "2020-11-10T00:00:00"
         ],
         "xaxis": "x",
         "y": [
          164.58,
          164.67
         ],
         "yaxis": "y"
        },
        {
         "hoverinfo": "none",
         "line": {
          "color": "green",
          "width": 3
         },
         "mode": "lines",
         "showlegend": false,
         "type": "scatter",
         "x": [
          "2020-11-10T00:00:00",
          "2020-11-11T00:00:00"
         ],
         "xaxis": "x",
         "y": [
          164.67,
          164.75
         ],
         "yaxis": "y"
        },
        {
         "hoverinfo": "none",
         "line": {
          "color": "red",
          "width": 3
         },
         "mode": "lines",
         "showlegend": false,
         "type": "scatter",
         "x": [
          "2020-11-11T00:00:00",
          "2020-11-12T00:00:00"
         ],
         "xaxis": "x",
         "y": [
          164.75,
          164.7
         ],
         "yaxis": "y"
        },
        {
         "hoverinfo": "none",
         "line": {
          "color": "red",
          "width": 3
         },
         "mode": "lines",
         "showlegend": false,
         "type": "scatter",
         "x": [
          "2020-11-12T00:00:00",
          "2020-11-13T00:00:00"
         ],
         "xaxis": "x",
         "y": [
          164.7,
          164.65
         ],
         "yaxis": "y"
        },
        {
         "hoverinfo": "none",
         "line": {
          "color": "red",
          "width": 3
         },
         "mode": "lines",
         "showlegend": false,
         "type": "scatter",
         "x": [
          "2020-11-13T00:00:00",
          "2020-11-14T00:00:00"
         ],
         "xaxis": "x",
         "y": [
          164.65,
          164.62
         ],
         "yaxis": "y"
        },
        {
         "hoverinfo": "none",
         "line": {
          "color": "green",
          "width": 3
         },
         "mode": "lines",
         "showlegend": false,
         "type": "scatter",
         "x": [
          "2020-11-14T00:00:00",
          "2020-11-15T00:00:00"
         ],
         "xaxis": "x",
         "y": [
          164.62,
          164.7
         ],
         "yaxis": "y"
        },
        {
         "hoverinfo": "none",
         "line": {
          "color": "green",
          "width": 3
         },
         "mode": "lines",
         "showlegend": false,
         "type": "scatter",
         "x": [
          "2020-11-15T00:00:00",
          "2020-11-16T00:00:00"
         ],
         "xaxis": "x",
         "y": [
          164.7,
          164.77
         ],
         "yaxis": "y"
        },
        {
         "hoverinfo": "none",
         "line": {
          "color": "green",
          "width": 3
         },
         "mode": "lines",
         "showlegend": false,
         "type": "scatter",
         "x": [
          "2020-11-16T00:00:00",
          "2020-11-17T00:00:00"
         ],
         "xaxis": "x",
         "y": [
          164.77,
          164.77
         ],
         "yaxis": "y"
        },
        {
         "hoverinfo": "none",
         "line": {
          "color": "green",
          "width": 3
         },
         "mode": "lines",
         "showlegend": false,
         "type": "scatter",
         "x": [
          "2020-11-17T00:00:00",
          "2020-11-18T00:00:00"
         ],
         "xaxis": "x",
         "y": [
          164.77,
          164.77
         ],
         "yaxis": "y"
        },
        {
         "hoverinfo": "none",
         "line": {
          "color": "green",
          "width": 3
         },
         "mode": "lines",
         "showlegend": false,
         "type": "scatter",
         "x": [
          "2020-11-18T00:00:00",
          "2020-11-19T00:00:00"
         ],
         "xaxis": "x",
         "y": [
          164.77,
          164.77
         ],
         "yaxis": "y"
        },
        {
         "hoverinfo": "none",
         "line": {
          "color": "green",
          "width": 3
         },
         "mode": "lines",
         "showlegend": false,
         "type": "scatter",
         "x": [
          "2020-11-19T00:00:00",
          "2020-11-20T00:00:00"
         ],
         "xaxis": "x",
         "y": [
          164.77,
          164.79
         ],
         "yaxis": "y"
        },
        {
         "hoverinfo": "none",
         "line": {
          "color": "green",
          "width": 3
         },
         "mode": "lines",
         "showlegend": false,
         "type": "scatter",
         "x": [
          "2020-11-20T00:00:00",
          "2020-11-21T00:00:00"
         ],
         "xaxis": "x",
         "y": [
          164.79,
          164.81
         ],
         "yaxis": "y"
        },
        {
         "hoverinfo": "none",
         "line": {
          "color": "green",
          "width": 3
         },
         "mode": "lines",
         "showlegend": false,
         "type": "scatter",
         "x": [
          "2020-11-21T00:00:00",
          "2020-11-22T00:00:00"
         ],
         "xaxis": "x",
         "y": [
          164.81,
          164.95
         ],
         "yaxis": "y"
        },
        {
         "hoverinfo": "none",
         "line": {
          "color": "green",
          "width": 3
         },
         "mode": "lines",
         "showlegend": false,
         "type": "scatter",
         "x": [
          "2020-11-22T00:00:00",
          "2020-11-23T00:00:00"
         ],
         "xaxis": "x",
         "y": [
          164.95,
          164.98
         ],
         "yaxis": "y"
        },
        {
         "hoverinfo": "none",
         "line": {
          "color": "green",
          "width": 3
         },
         "mode": "lines",
         "showlegend": false,
         "type": "scatter",
         "x": [
          "2020-11-23T00:00:00",
          "2020-11-24T00:00:00"
         ],
         "xaxis": "x",
         "y": [
          164.98,
          165.03
         ],
         "yaxis": "y"
        },
        {
         "hoverinfo": "none",
         "line": {
          "color": "green",
          "width": 3
         },
         "mode": "lines",
         "showlegend": false,
         "type": "scatter",
         "x": [
          "2020-11-24T00:00:00",
          "2020-11-25T00:00:00"
         ],
         "xaxis": "x",
         "y": [
          165.03,
          165.06
         ],
         "yaxis": "y"
        },
        {
         "hoverinfo": "none",
         "line": {
          "color": "green",
          "width": 3
         },
         "mode": "lines",
         "showlegend": false,
         "type": "scatter",
         "x": [
          "2020-11-25T00:00:00",
          "2020-11-26T00:00:00"
         ],
         "xaxis": "x",
         "y": [
          165.06,
          165.09
         ],
         "yaxis": "y"
        },
        {
         "hoverinfo": "none",
         "line": {
          "color": "green",
          "width": 3
         },
         "mode": "lines",
         "showlegend": false,
         "type": "scatter",
         "x": [
          "2020-11-26T00:00:00",
          "2020-11-27T00:00:00"
         ],
         "xaxis": "x",
         "y": [
          165.09,
          165.13
         ],
         "yaxis": "y"
        },
        {
         "hoverinfo": "none",
         "line": {
          "color": "green",
          "width": 3
         },
         "mode": "lines",
         "showlegend": false,
         "type": "scatter",
         "x": [
          "2020-11-27T00:00:00",
          "2020-11-28T00:00:00"
         ],
         "xaxis": "x",
         "y": [
          165.13,
          165.28
         ],
         "yaxis": "y"
        },
        {
         "hoverinfo": "none",
         "line": {
          "color": "green",
          "width": 3
         },
         "mode": "lines",
         "showlegend": false,
         "type": "scatter",
         "x": [
          "2020-11-28T00:00:00",
          "2020-11-29T00:00:00"
         ],
         "xaxis": "x",
         "y": [
          165.28,
          165.44
         ],
         "yaxis": "y"
        },
        {
         "hoverinfo": "none",
         "line": {
          "color": "green",
          "width": 3
         },
         "mode": "lines",
         "showlegend": false,
         "type": "scatter",
         "x": [
          "2020-11-29T00:00:00",
          "2020-11-30T00:00:00"
         ],
         "xaxis": "x",
         "y": [
          165.44,
          165.47
         ],
         "yaxis": "y"
        },
        {
         "hoverinfo": "none",
         "line": {
          "color": "green",
          "width": 3
         },
         "mode": "lines",
         "showlegend": false,
         "type": "scatter",
         "x": [
          "2020-11-30T00:00:00",
          "2020-12-01T00:00:00"
         ],
         "xaxis": "x",
         "y": [
          165.47,
          165.51
         ],
         "yaxis": "y"
        },
        {
         "hoverinfo": "none",
         "line": {
          "color": "green",
          "width": 3
         },
         "mode": "lines",
         "showlegend": false,
         "type": "scatter",
         "x": [
          "2020-12-01T00:00:00",
          "2020-12-02T00:00:00"
         ],
         "xaxis": "x",
         "y": [
          165.51,
          165.52
         ],
         "yaxis": "y"
        },
        {
         "hoverinfo": "none",
         "line": {
          "color": "green",
          "width": 3
         },
         "mode": "lines",
         "showlegend": false,
         "type": "scatter",
         "x": [
          "2020-12-02T00:00:00",
          "2020-12-03T00:00:00"
         ],
         "xaxis": "x",
         "y": [
          165.52,
          165.52
         ],
         "yaxis": "y"
        },
        {
         "hoverinfo": "none",
         "line": {
          "color": "green",
          "width": 3
         },
         "mode": "lines",
         "showlegend": false,
         "type": "scatter",
         "x": [
          "2020-12-03T00:00:00",
          "2020-12-04T00:00:00"
         ],
         "xaxis": "x",
         "y": [
          165.52,
          165.52
         ],
         "yaxis": "y"
        },
        {
         "hoverinfo": "none",
         "line": {
          "color": "green",
          "width": 3
         },
         "mode": "lines",
         "showlegend": false,
         "type": "scatter",
         "x": [
          "2020-12-04T00:00:00",
          "2020-12-05T00:00:00"
         ],
         "xaxis": "x",
         "y": [
          165.52,
          165.52
         ],
         "yaxis": "y"
        },
        {
         "hoverinfo": "none",
         "line": {
          "color": "red",
          "width": 3
         },
         "mode": "lines",
         "showlegend": false,
         "type": "scatter",
         "x": [
          "2020-12-05T00:00:00",
          "2020-12-06T00:00:00"
         ],
         "xaxis": "x",
         "y": [
          165.52,
          165.51
         ],
         "yaxis": "y"
        },
        {
         "hoverinfo": "none",
         "line": {
          "color": "red",
          "width": 3
         },
         "mode": "lines",
         "showlegend": false,
         "type": "scatter",
         "x": [
          "2020-12-06T00:00:00",
          "2020-12-07T00:00:00"
         ],
         "xaxis": "x",
         "y": [
          165.51,
          165.49
         ],
         "yaxis": "y"
        },
        {
         "hoverinfo": "none",
         "line": {
          "color": "red",
          "width": 3
         },
         "mode": "lines",
         "showlegend": false,
         "type": "scatter",
         "x": [
          "2020-12-07T00:00:00",
          "2020-12-08T00:00:00"
         ],
         "xaxis": "x",
         "y": [
          165.49,
          165.47
         ],
         "yaxis": "y"
        },
        {
         "hoverinfo": "none",
         "line": {
          "color": "red",
          "width": 3
         },
         "mode": "lines",
         "showlegend": false,
         "type": "scatter",
         "x": [
          "2020-12-08T00:00:00",
          "2020-12-09T00:00:00"
         ],
         "xaxis": "x",
         "y": [
          165.47,
          165.44
         ],
         "yaxis": "y"
        },
        {
         "hoverinfo": "none",
         "line": {
          "color": "red",
          "width": 3
         },
         "mode": "lines",
         "showlegend": false,
         "type": "scatter",
         "x": [
          "2020-12-09T00:00:00",
          "2020-12-10T00:00:00"
         ],
         "xaxis": "x",
         "y": [
          165.44,
          165.41
         ],
         "yaxis": "y"
        },
        {
         "hoverinfo": "none",
         "line": {
          "color": "red",
          "width": 3
         },
         "mode": "lines",
         "showlegend": false,
         "type": "scatter",
         "x": [
          "2020-12-10T00:00:00",
          "2020-12-11T00:00:00"
         ],
         "xaxis": "x",
         "y": [
          165.41,
          165.38
         ],
         "yaxis": "y"
        },
        {
         "hoverinfo": "none",
         "line": {
          "color": "red",
          "width": 3
         },
         "mode": "lines",
         "showlegend": false,
         "type": "scatter",
         "x": [
          "2020-12-11T00:00:00",
          "2020-12-12T00:00:00"
         ],
         "xaxis": "x",
         "y": [
          165.38,
          165.34
         ],
         "yaxis": "y"
        },
        {
         "hoverinfo": "none",
         "line": {
          "color": "red",
          "width": 3
         },
         "mode": "lines",
         "showlegend": false,
         "type": "scatter",
         "x": [
          "2020-12-12T00:00:00",
          "2020-12-13T00:00:00"
         ],
         "xaxis": "x",
         "y": [
          165.34,
          165.31
         ],
         "yaxis": "y"
        },
        {
         "hoverinfo": "none",
         "line": {
          "color": "red",
          "width": 3
         },
         "mode": "lines",
         "showlegend": false,
         "type": "scatter",
         "x": [
          "2020-12-13T00:00:00",
          "2020-12-14T00:00:00"
         ],
         "xaxis": "x",
         "y": [
          165.31,
          165.28
         ],
         "yaxis": "y"
        },
        {
         "hoverinfo": "none",
         "line": {
          "color": "red",
          "width": 3
         },
         "mode": "lines",
         "showlegend": false,
         "type": "scatter",
         "x": [
          "2020-12-14T00:00:00",
          "2020-12-15T00:00:00"
         ],
         "xaxis": "x",
         "y": [
          165.28,
          165.25
         ],
         "yaxis": "y"
        },
        {
         "hoverinfo": "none",
         "line": {
          "color": "red",
          "width": 3
         },
         "mode": "lines",
         "showlegend": false,
         "type": "scatter",
         "x": [
          "2020-12-15T00:00:00",
          "2020-12-16T00:00:00"
         ],
         "xaxis": "x",
         "y": [
          165.25,
          165.21
         ],
         "yaxis": "y"
        },
        {
         "hoverinfo": "none",
         "line": {
          "color": "green",
          "width": 3
         },
         "mode": "lines",
         "showlegend": false,
         "type": "scatter",
         "x": [
          "2020-12-16T00:00:00",
          "2020-12-17T00:00:00"
         ],
         "xaxis": "x",
         "y": [
          165.21,
          165.21
         ],
         "yaxis": "y"
        },
        {
         "hoverinfo": "none",
         "line": {
          "color": "green",
          "width": 3
         },
         "mode": "lines",
         "showlegend": false,
         "type": "scatter",
         "x": [
          "2020-12-17T00:00:00",
          "2020-12-18T00:00:00"
         ],
         "xaxis": "x",
         "y": [
          165.21,
          165.25
         ],
         "yaxis": "y"
        },
        {
         "hoverinfo": "none",
         "line": {
          "color": "green",
          "width": 3
         },
         "mode": "lines",
         "showlegend": false,
         "type": "scatter",
         "x": [
          "2020-12-18T00:00:00",
          "2020-12-19T00:00:00"
         ],
         "xaxis": "x",
         "y": [
          165.25,
          165.28
         ],
         "yaxis": "y"
        },
        {
         "hoverinfo": "none",
         "line": {
          "color": "green",
          "width": 3
         },
         "mode": "lines",
         "showlegend": false,
         "type": "scatter",
         "x": [
          "2020-12-19T00:00:00",
          "2020-12-20T00:00:00"
         ],
         "xaxis": "x",
         "y": [
          165.28,
          165.33
         ],
         "yaxis": "y"
        },
        {
         "hoverinfo": "none",
         "line": {
          "color": "green",
          "width": 3
         },
         "mode": "lines",
         "showlegend": false,
         "type": "scatter",
         "x": [
          "2020-12-20T00:00:00",
          "2020-12-21T00:00:00"
         ],
         "xaxis": "x",
         "y": [
          165.33,
          165.48
         ],
         "yaxis": "y"
        },
        {
         "hoverinfo": "none",
         "line": {
          "color": "green",
          "width": 3
         },
         "mode": "lines",
         "showlegend": false,
         "type": "scatter",
         "x": [
          "2020-12-21T00:00:00",
          "2020-12-22T00:00:00"
         ],
         "xaxis": "x",
         "y": [
          165.48,
          165.66
         ],
         "yaxis": "y"
        },
        {
         "hoverinfo": "none",
         "line": {
          "color": "green",
          "width": 3
         },
         "mode": "lines",
         "showlegend": false,
         "type": "scatter",
         "x": [
          "2020-12-22T00:00:00",
          "2020-12-23T00:00:00"
         ],
         "xaxis": "x",
         "y": [
          165.66,
          165.83
         ],
         "yaxis": "y"
        },
        {
         "hoverinfo": "none",
         "line": {
          "color": "green",
          "width": 3
         },
         "mode": "lines",
         "showlegend": false,
         "type": "scatter",
         "x": [
          "2020-12-23T00:00:00",
          "2020-12-24T00:00:00"
         ],
         "xaxis": "x",
         "y": [
          165.83,
          165.88
         ],
         "yaxis": "y"
        },
        {
         "hoverinfo": "none",
         "line": {
          "color": "green",
          "width": 3
         },
         "mode": "lines",
         "showlegend": false,
         "type": "scatter",
         "x": [
          "2020-12-24T00:00:00",
          "2020-12-25T00:00:00"
         ],
         "xaxis": "x",
         "y": [
          165.88,
          165.91
         ],
         "yaxis": "y"
        },
        {
         "hoverinfo": "none",
         "line": {
          "color": "green",
          "width": 3
         },
         "mode": "lines",
         "showlegend": false,
         "type": "scatter",
         "x": [
          "2020-12-25T00:00:00",
          "2020-12-26T00:00:00"
         ],
         "xaxis": "x",
         "y": [
          165.91,
          165.93
         ],
         "yaxis": "y"
        },
        {
         "hoverinfo": "none",
         "line": {
          "color": "green",
          "width": 3
         },
         "mode": "lines",
         "showlegend": false,
         "type": "scatter",
         "x": [
          "2020-12-26T00:00:00",
          "2020-12-27T00:00:00"
         ],
         "xaxis": "x",
         "y": [
          165.93,
          165.96
         ],
         "yaxis": "y"
        },
        {
         "hoverinfo": "none",
         "line": {
          "color": "green",
          "width": 3
         },
         "mode": "lines",
         "showlegend": false,
         "type": "scatter",
         "x": [
          "2020-12-27T00:00:00",
          "2020-12-28T00:00:00"
         ],
         "xaxis": "x",
         "y": [
          165.96,
          165.98
         ],
         "yaxis": "y"
        },
        {
         "hoverinfo": "none",
         "line": {
          "color": "red",
          "width": 3
         },
         "mode": "lines",
         "showlegend": false,
         "type": "scatter",
         "x": [
          "2020-12-28T00:00:00",
          "2020-12-29T00:00:00"
         ],
         "xaxis": "x",
         "y": [
          165.98,
          165.9
         ],
         "yaxis": "y"
        },
        {
         "hoverinfo": "none",
         "line": {
          "color": "red",
          "width": 3
         },
         "mode": "lines",
         "showlegend": false,
         "type": "scatter",
         "x": [
          "2020-12-29T00:00:00",
          "2020-12-30T00:00:00"
         ],
         "xaxis": "x",
         "y": [
          165.9,
          165.81
         ],
         "yaxis": "y"
        },
        {
         "hoverinfo": "none",
         "line": {
          "color": "red",
          "width": 3
         },
         "mode": "lines",
         "showlegend": false,
         "type": "scatter",
         "x": [
          "2020-12-30T00:00:00",
          "2020-12-31T00:00:00"
         ],
         "xaxis": "x",
         "y": [
          165.81,
          165.7
         ],
         "yaxis": "y"
        },
        {
         "hoverinfo": "none",
         "line": {
          "color": "green",
          "width": 3
         },
         "mode": "lines",
         "showlegend": false,
         "type": "scatter",
         "x": [
          "2020-12-31T00:00:00",
          "2021-01-01T00:00:00"
         ],
         "xaxis": "x",
         "y": [
          165.7,
          165.7
         ],
         "yaxis": "y"
        },
        {
         "hoverinfo": "none",
         "line": {
          "color": "red",
          "width": 3
         },
         "mode": "lines",
         "showlegend": false,
         "type": "scatter",
         "x": [
          "2021-01-01T00:00:00",
          "2021-01-02T00:00:00"
         ],
         "xaxis": "x",
         "y": [
          165.7,
          165.67
         ],
         "yaxis": "y"
        },
        {
         "hoverinfo": "none",
         "line": {
          "color": "red",
          "width": 3
         },
         "mode": "lines",
         "showlegend": false,
         "type": "scatter",
         "x": [
          "2021-01-02T00:00:00",
          "2021-01-03T00:00:00"
         ],
         "xaxis": "x",
         "y": [
          165.67,
          165.62
         ],
         "yaxis": "y"
        },
        {
         "hoverinfo": "none",
         "line": {
          "color": "red",
          "width": 3
         },
         "mode": "lines",
         "showlegend": false,
         "type": "scatter",
         "x": [
          "2021-01-03T00:00:00",
          "2021-01-04T00:00:00"
         ],
         "xaxis": "x",
         "y": [
          165.62,
          165.57
         ],
         "yaxis": "y"
        },
        {
         "hoverinfo": "none",
         "line": {
          "color": "red",
          "width": 3
         },
         "mode": "lines",
         "showlegend": false,
         "type": "scatter",
         "x": [
          "2021-01-04T00:00:00",
          "2021-01-05T00:00:00"
         ],
         "xaxis": "x",
         "y": [
          165.57,
          165.51
         ],
         "yaxis": "y"
        },
        {
         "hoverinfo": "none",
         "line": {
          "color": "red",
          "width": 3
         },
         "mode": "lines",
         "showlegend": false,
         "type": "scatter",
         "x": [
          "2021-01-05T00:00:00",
          "2021-01-06T00:00:00"
         ],
         "xaxis": "x",
         "y": [
          165.51,
          165.42
         ],
         "yaxis": "y"
        },
        {
         "hoverinfo": "none",
         "line": {
          "color": "red",
          "width": 3
         },
         "mode": "lines",
         "showlegend": false,
         "type": "scatter",
         "x": [
          "2021-01-06T00:00:00",
          "2021-01-07T00:00:00"
         ],
         "xaxis": "x",
         "y": [
          165.42,
          165.23
         ],
         "yaxis": "y"
        },
        {
         "hoverinfo": "none",
         "line": {
          "color": "red",
          "width": 3
         },
         "mode": "lines",
         "showlegend": false,
         "type": "scatter",
         "x": [
          "2021-01-07T00:00:00",
          "2021-01-08T00:00:00"
         ],
         "xaxis": "x",
         "y": [
          165.23,
          165.08
         ],
         "yaxis": "y"
        },
        {
         "hoverinfo": "none",
         "line": {
          "color": "red",
          "width": 3
         },
         "mode": "lines",
         "showlegend": false,
         "type": "scatter",
         "x": [
          "2021-01-08T00:00:00",
          "2021-01-09T00:00:00"
         ],
         "xaxis": "x",
         "y": [
          165.08,
          164.94
         ],
         "yaxis": "y"
        },
        {
         "hoverinfo": "none",
         "line": {
          "color": "red",
          "width": 3
         },
         "mode": "lines",
         "showlegend": false,
         "type": "scatter",
         "x": [
          "2021-01-09T00:00:00",
          "2021-01-10T00:00:00"
         ],
         "xaxis": "x",
         "y": [
          164.94,
          164.83
         ],
         "yaxis": "y"
        },
        {
         "hoverinfo": "none",
         "line": {
          "color": "green",
          "width": 3
         },
         "mode": "lines",
         "showlegend": false,
         "type": "scatter",
         "x": [
          "2021-01-10T00:00:00",
          "2021-01-11T00:00:00"
         ],
         "xaxis": "x",
         "y": [
          164.83,
          164.83
         ],
         "yaxis": "y"
        },
        {
         "hoverinfo": "none",
         "line": {
          "color": "green",
          "width": 3
         },
         "mode": "lines",
         "showlegend": false,
         "type": "scatter",
         "x": [
          "2021-01-11T00:00:00",
          "2021-01-12T00:00:00"
         ],
         "xaxis": "x",
         "y": [
          164.83,
          164.84
         ],
         "yaxis": "y"
        },
        {
         "hoverinfo": "none",
         "line": {
          "color": "green",
          "width": 3
         },
         "mode": "lines",
         "showlegend": false,
         "type": "scatter",
         "x": [
          "2021-01-12T00:00:00",
          "2021-01-13T00:00:00"
         ],
         "xaxis": "x",
         "y": [
          164.84,
          164.88
         ],
         "yaxis": "y"
        },
        {
         "hoverinfo": "none",
         "line": {
          "color": "red",
          "width": 3
         },
         "mode": "lines",
         "showlegend": false,
         "type": "scatter",
         "x": [
          "2021-01-13T00:00:00",
          "2021-01-14T00:00:00"
         ],
         "xaxis": "x",
         "y": [
          164.88,
          164.8
         ],
         "yaxis": "y"
        },
        {
         "hoverinfo": "none",
         "line": {
          "color": "green",
          "width": 3
         },
         "mode": "lines",
         "showlegend": false,
         "type": "scatter",
         "x": [
          "2021-01-14T00:00:00",
          "2021-01-15T00:00:00"
         ],
         "xaxis": "x",
         "y": [
          164.8,
          164.83
         ],
         "yaxis": "y"
        },
        {
         "hoverinfo": "none",
         "line": {
          "color": "green",
          "width": 3
         },
         "mode": "lines",
         "showlegend": false,
         "type": "scatter",
         "x": [
          "2021-01-15T00:00:00",
          "2021-01-16T00:00:00"
         ],
         "xaxis": "x",
         "y": [
          164.83,
          164.88
         ],
         "yaxis": "y"
        },
        {
         "hoverinfo": "none",
         "line": {
          "color": "green",
          "width": 3
         },
         "mode": "lines",
         "showlegend": false,
         "type": "scatter",
         "x": [
          "2021-01-16T00:00:00",
          "2021-01-17T00:00:00"
         ],
         "xaxis": "x",
         "y": [
          164.88,
          164.93
         ],
         "yaxis": "y"
        },
        {
         "hoverinfo": "none",
         "line": {
          "color": "green",
          "width": 3
         },
         "mode": "lines",
         "showlegend": false,
         "type": "scatter",
         "x": [
          "2021-01-17T00:00:00",
          "2021-01-18T00:00:00"
         ],
         "xaxis": "x",
         "y": [
          164.93,
          164.99
         ],
         "yaxis": "y"
        },
        {
         "hoverinfo": "none",
         "line": {
          "color": "red",
          "width": 3
         },
         "mode": "lines",
         "showlegend": false,
         "type": "scatter",
         "x": [
          "2021-01-18T00:00:00",
          "2021-01-19T00:00:00"
         ],
         "xaxis": "x",
         "y": [
          164.99,
          164.95
         ],
         "yaxis": "y"
        },
        {
         "hoverinfo": "none",
         "line": {
          "color": "red",
          "width": 3
         },
         "mode": "lines",
         "showlegend": false,
         "type": "scatter",
         "x": [
          "2021-01-19T00:00:00",
          "2021-01-20T00:00:00"
         ],
         "xaxis": "x",
         "y": [
          164.95,
          164.89
         ],
         "yaxis": "y"
        },
        {
         "hoverinfo": "none",
         "line": {
          "color": "red",
          "width": 3
         },
         "mode": "lines",
         "showlegend": false,
         "type": "scatter",
         "x": [
          "2021-01-20T00:00:00",
          "2021-01-21T00:00:00"
         ],
         "xaxis": "x",
         "y": [
          164.89,
          164.83
         ],
         "yaxis": "y"
        },
        {
         "hoverinfo": "none",
         "line": {
          "color": "green",
          "width": 3
         },
         "mode": "lines",
         "showlegend": false,
         "type": "scatter",
         "x": [
          "2021-01-21T00:00:00",
          "2021-01-22T00:00:00"
         ],
         "xaxis": "x",
         "y": [
          164.83,
          164.88
         ],
         "yaxis": "y"
        },
        {
         "hoverinfo": "none",
         "line": {
          "color": "red",
          "width": 3
         },
         "mode": "lines",
         "showlegend": false,
         "type": "scatter",
         "x": [
          "2021-01-22T00:00:00",
          "2021-01-23T00:00:00"
         ],
         "xaxis": "x",
         "y": [
          164.88,
          164.84
         ],
         "yaxis": "y"
        },
        {
         "hoverinfo": "none",
         "line": {
          "color": "red",
          "width": 3
         },
         "mode": "lines",
         "showlegend": false,
         "type": "scatter",
         "x": [
          "2021-01-23T00:00:00",
          "2021-01-24T00:00:00"
         ],
         "xaxis": "x",
         "y": [
          164.84,
          164.76
         ],
         "yaxis": "y"
        },
        {
         "hoverinfo": "none",
         "line": {
          "color": "green",
          "width": 3
         },
         "mode": "lines",
         "showlegend": false,
         "type": "scatter",
         "x": [
          "2021-01-24T00:00:00",
          "2021-01-25T00:00:00"
         ],
         "xaxis": "x",
         "y": [
          164.76,
          164.79
         ],
         "yaxis": "y"
        },
        {
         "hoverinfo": "none",
         "line": {
          "color": "green",
          "width": 3
         },
         "mode": "lines",
         "showlegend": false,
         "type": "scatter",
         "x": [
          "2021-01-25T00:00:00",
          "2021-01-26T00:00:00"
         ],
         "xaxis": "x",
         "y": [
          164.79,
          164.81
         ],
         "yaxis": "y"
        },
        {
         "hoverinfo": "none",
         "line": {
          "color": "red",
          "width": 3
         },
         "mode": "lines",
         "showlegend": false,
         "type": "scatter",
         "x": [
          "2021-01-26T00:00:00",
          "2021-01-27T00:00:00"
         ],
         "xaxis": "x",
         "y": [
          164.81,
          164.72
         ],
         "yaxis": "y"
        },
        {
         "hoverinfo": "none",
         "line": {
          "color": "red",
          "width": 3
         },
         "mode": "lines",
         "showlegend": false,
         "type": "scatter",
         "x": [
          "2021-01-27T00:00:00",
          "2021-01-28T00:00:00"
         ],
         "xaxis": "x",
         "y": [
          164.72,
          164.62
         ],
         "yaxis": "y"
        },
        {
         "hoverinfo": "none",
         "line": {
          "color": "red",
          "width": 3
         },
         "mode": "lines",
         "showlegend": false,
         "type": "scatter",
         "x": [
          "2021-01-28T00:00:00",
          "2021-01-29T00:00:00"
         ],
         "xaxis": "x",
         "y": [
          164.62,
          164.53
         ],
         "yaxis": "y"
        },
        {
         "hoverinfo": "none",
         "line": {
          "color": "red",
          "width": 3
         },
         "mode": "lines",
         "showlegend": false,
         "type": "scatter",
         "x": [
          "2021-01-29T00:00:00",
          "2021-01-30T00:00:00"
         ],
         "xaxis": "x",
         "y": [
          164.53,
          164.45
         ],
         "yaxis": "y"
        },
        {
         "hoverinfo": "none",
         "line": {
          "color": "green",
          "width": 3
         },
         "mode": "lines",
         "showlegend": false,
         "type": "scatter",
         "x": [
          "2021-01-30T00:00:00",
          "2021-01-31T00:00:00"
         ],
         "xaxis": "x",
         "y": [
          164.45,
          164.47
         ],
         "yaxis": "y"
        },
        {
         "hoverinfo": "none",
         "line": {
          "color": "green",
          "width": 3
         },
         "mode": "lines",
         "showlegend": false,
         "type": "scatter",
         "x": [
          "2021-01-31T00:00:00",
          "2021-02-01T00:00:00"
         ],
         "xaxis": "x",
         "y": [
          164.47,
          164.49
         ],
         "yaxis": "y"
        },
        {
         "hoverinfo": "none",
         "line": {
          "color": "red",
          "width": 3
         },
         "mode": "lines",
         "showlegend": false,
         "type": "scatter",
         "x": [
          "2021-02-01T00:00:00",
          "2021-02-02T00:00:00"
         ],
         "xaxis": "x",
         "y": [
          164.49,
          164.39
         ],
         "yaxis": "y"
        },
        {
         "hoverinfo": "none",
         "line": {
          "color": "red",
          "width": 3
         },
         "mode": "lines",
         "showlegend": false,
         "type": "scatter",
         "x": [
          "2021-02-02T00:00:00",
          "2021-02-03T00:00:00"
         ],
         "xaxis": "x",
         "y": [
          164.39,
          164.29
         ],
         "yaxis": "y"
        },
        {
         "hoverinfo": "none",
         "line": {
          "color": "green",
          "width": 3
         },
         "mode": "lines",
         "showlegend": false,
         "type": "scatter",
         "x": [
          "2021-02-03T00:00:00",
          "2021-02-04T00:00:00"
         ],
         "xaxis": "x",
         "y": [
          164.29,
          164.29
         ],
         "yaxis": "y"
        },
        {
         "hoverinfo": "none",
         "line": {
          "color": "red",
          "width": 3
         },
         "mode": "lines",
         "showlegend": false,
         "type": "scatter",
         "x": [
          "2021-02-04T00:00:00",
          "2021-02-05T00:00:00"
         ],
         "xaxis": "x",
         "y": [
          164.29,
          164.18
         ],
         "yaxis": "y"
        },
        {
         "hoverinfo": "none",
         "line": {
          "color": "red",
          "width": 3
         },
         "mode": "lines",
         "showlegend": false,
         "type": "scatter",
         "x": [
          "2021-02-05T00:00:00",
          "2021-02-06T00:00:00"
         ],
         "xaxis": "x",
         "y": [
          164.18,
          164.05
         ],
         "yaxis": "y"
        },
        {
         "hoverinfo": "none",
         "line": {
          "color": "red",
          "width": 3
         },
         "mode": "lines",
         "showlegend": false,
         "type": "scatter",
         "x": [
          "2021-02-06T00:00:00",
          "2021-02-07T00:00:00"
         ],
         "xaxis": "x",
         "y": [
          164.05,
          163.93
         ],
         "yaxis": "y"
        },
        {
         "hoverinfo": "none",
         "line": {
          "color": "red",
          "width": 3
         },
         "mode": "lines",
         "showlegend": false,
         "type": "scatter",
         "x": [
          "2021-02-07T00:00:00",
          "2021-02-08T00:00:00"
         ],
         "xaxis": "x",
         "y": [
          163.93,
          163.91
         ],
         "yaxis": "y"
        },
        {
         "hoverinfo": "none",
         "line": {
          "color": "green",
          "width": 3
         },
         "mode": "lines",
         "showlegend": false,
         "type": "scatter",
         "x": [
          "2021-02-08T00:00:00",
          "2021-02-09T00:00:00"
         ],
         "xaxis": "x",
         "y": [
          163.91,
          163.91
         ],
         "yaxis": "y"
        },
        {
         "hoverinfo": "none",
         "line": {
          "color": "green",
          "width": 3
         },
         "mode": "lines",
         "showlegend": false,
         "type": "scatter",
         "x": [
          "2021-02-09T00:00:00",
          "2021-02-10T00:00:00"
         ],
         "xaxis": "x",
         "y": [
          163.91,
          163.91
         ],
         "yaxis": "y"
        },
        {
         "hoverinfo": "none",
         "line": {
          "color": "red",
          "width": 3
         },
         "mode": "lines",
         "showlegend": false,
         "type": "scatter",
         "x": [
          "2021-02-10T00:00:00",
          "2021-02-11T00:00:00"
         ],
         "xaxis": "x",
         "y": [
          163.91,
          163.8
         ],
         "yaxis": "y"
        },
        {
         "hoverinfo": "none",
         "line": {
          "color": "red",
          "width": 3
         },
         "mode": "lines",
         "showlegend": false,
         "type": "scatter",
         "x": [
          "2021-02-11T00:00:00",
          "2021-02-12T00:00:00"
         ],
         "xaxis": "x",
         "y": [
          163.8,
          163.69
         ],
         "yaxis": "y"
        },
        {
         "hoverinfo": "none",
         "line": {
          "color": "green",
          "width": 3
         },
         "mode": "lines",
         "showlegend": false,
         "type": "scatter",
         "x": [
          "2021-02-12T00:00:00",
          "2021-02-13T00:00:00"
         ],
         "xaxis": "x",
         "y": [
          163.69,
          163.82
         ],
         "yaxis": "y"
        },
        {
         "hoverinfo": "none",
         "line": {
          "color": "green",
          "width": 3
         },
         "mode": "lines",
         "showlegend": false,
         "type": "scatter",
         "x": [
          "2021-02-13T00:00:00",
          "2021-02-14T00:00:00"
         ],
         "xaxis": "x",
         "y": [
          163.82,
          163.94
         ],
         "yaxis": "y"
        },
        {
         "hoverinfo": "none",
         "line": {
          "color": "green",
          "width": 3
         },
         "mode": "lines",
         "showlegend": false,
         "type": "scatter",
         "x": [
          "2021-02-14T00:00:00",
          "2021-02-15T00:00:00"
         ],
         "xaxis": "x",
         "y": [
          163.94,
          164.04
         ],
         "yaxis": "y"
        },
        {
         "hoverinfo": "none",
         "line": {
          "color": "red",
          "width": 3
         },
         "mode": "lines",
         "showlegend": false,
         "type": "scatter",
         "x": [
          "2021-02-15T00:00:00",
          "2021-02-16T00:00:00"
         ],
         "xaxis": "x",
         "y": [
          164.04,
          164.02
         ],
         "yaxis": "y"
        },
        {
         "hoverinfo": "none",
         "line": {
          "color": "red",
          "width": 3
         },
         "mode": "lines",
         "showlegend": false,
         "type": "scatter",
         "x": [
          "2021-02-16T00:00:00",
          "2021-02-17T00:00:00"
         ],
         "xaxis": "x",
         "y": [
          164.02,
          163.99
         ],
         "yaxis": "y"
        },
        {
         "hoverinfo": "none",
         "line": {
          "color": "red",
          "width": 3
         },
         "mode": "lines",
         "showlegend": false,
         "type": "scatter",
         "x": [
          "2021-02-17T00:00:00",
          "2021-02-18T00:00:00"
         ],
         "xaxis": "x",
         "y": [
          163.99,
          163.85
         ],
         "yaxis": "y"
        },
        {
         "hoverinfo": "none",
         "line": {
          "color": "green",
          "width": 3
         },
         "mode": "lines",
         "showlegend": false,
         "type": "scatter",
         "x": [
          "2021-02-18T00:00:00",
          "2021-02-19T00:00:00"
         ],
         "xaxis": "x",
         "y": [
          163.85,
          163.95
         ],
         "yaxis": "y"
        },
        {
         "hoverinfo": "none",
         "line": {
          "color": "green",
          "width": 3
         },
         "mode": "lines",
         "showlegend": false,
         "type": "scatter",
         "x": [
          "2021-02-19T00:00:00",
          "2021-02-20T00:00:00"
         ],
         "xaxis": "x",
         "y": [
          163.95,
          164.06
         ],
         "yaxis": "y"
        },
        {
         "hoverinfo": "none",
         "line": {
          "color": "green",
          "width": 3
         },
         "mode": "lines",
         "showlegend": false,
         "type": "scatter",
         "x": [
          "2021-02-20T00:00:00",
          "2021-02-21T00:00:00"
         ],
         "xaxis": "x",
         "y": [
          164.06,
          164.17
         ],
         "yaxis": "y"
        },
        {
         "hoverinfo": "none",
         "line": {
          "color": "green",
          "width": 3
         },
         "mode": "lines",
         "showlegend": false,
         "type": "scatter",
         "x": [
          "2021-02-21T00:00:00",
          "2021-02-22T00:00:00"
         ],
         "xaxis": "x",
         "y": [
          164.17,
          164.3
         ],
         "yaxis": "y"
        },
        {
         "hoverinfo": "none",
         "line": {
          "color": "green",
          "width": 3
         },
         "mode": "lines",
         "showlegend": false,
         "type": "scatter",
         "x": [
          "2021-02-22T00:00:00",
          "2021-02-23T00:00:00"
         ],
         "xaxis": "x",
         "y": [
          164.3,
          164.45
         ],
         "yaxis": "y"
        },
        {
         "hoverinfo": "none",
         "line": {
          "color": "green",
          "width": 3
         },
         "mode": "lines",
         "showlegend": false,
         "type": "scatter",
         "x": [
          "2021-02-23T00:00:00",
          "2021-02-24T00:00:00"
         ],
         "xaxis": "x",
         "y": [
          164.45,
          164.6
         ],
         "yaxis": "y"
        },
        {
         "hoverinfo": "none",
         "line": {
          "color": "green",
          "width": 3
         },
         "mode": "lines",
         "showlegend": false,
         "type": "scatter",
         "x": [
          "2021-02-24T00:00:00",
          "2021-02-25T00:00:00"
         ],
         "xaxis": "x",
         "y": [
          164.6,
          164.74
         ],
         "yaxis": "y"
        },
        {
         "hoverinfo": "none",
         "line": {
          "color": "green",
          "width": 3
         },
         "mode": "lines",
         "showlegend": false,
         "type": "scatter",
         "x": [
          "2021-02-25T00:00:00",
          "2021-02-26T00:00:00"
         ],
         "xaxis": "x",
         "y": [
          164.74,
          164.99
         ],
         "yaxis": "y"
        },
        {
         "hoverinfo": "none",
         "line": {
          "color": "green",
          "width": 3
         },
         "mode": "lines",
         "showlegend": false,
         "type": "scatter",
         "x": [
          "2021-02-26T00:00:00",
          "2021-02-27T00:00:00"
         ],
         "xaxis": "x",
         "y": [
          164.99,
          165.11
         ],
         "yaxis": "y"
        },
        {
         "hoverinfo": "none",
         "line": {
          "color": "green",
          "width": 3
         },
         "mode": "lines",
         "showlegend": false,
         "type": "scatter",
         "x": [
          "2021-02-27T00:00:00",
          "2021-02-28T00:00:00"
         ],
         "xaxis": "x",
         "y": [
          165.11,
          165.36
         ],
         "yaxis": "y"
        },
        {
         "hoverinfo": "none",
         "line": {
          "color": "green",
          "width": 3
         },
         "mode": "lines",
         "showlegend": false,
         "type": "scatter",
         "x": [
          "2021-02-28T00:00:00",
          "2021-03-01T00:00:00"
         ],
         "xaxis": "x",
         "y": [
          165.36,
          165.47
         ],
         "yaxis": "y"
        },
        {
         "hoverinfo": "none",
         "line": {
          "color": "green",
          "width": 3
         },
         "mode": "lines",
         "showlegend": false,
         "type": "scatter",
         "x": [
          "2021-03-01T00:00:00",
          "2021-03-02T00:00:00"
         ],
         "xaxis": "x",
         "y": [
          165.47,
          165.7
         ],
         "yaxis": "y"
        },
        {
         "hoverinfo": "none",
         "line": {
          "color": "green",
          "width": 3
         },
         "mode": "lines",
         "showlegend": false,
         "type": "scatter",
         "x": [
          "2021-03-02T00:00:00",
          "2021-03-03T00:00:00"
         ],
         "xaxis": "x",
         "y": [
          165.7,
          165.94
         ],
         "yaxis": "y"
        },
        {
         "hoverinfo": "none",
         "line": {
          "color": "green",
          "width": 3
         },
         "mode": "lines",
         "showlegend": false,
         "type": "scatter",
         "x": [
          "2021-03-03T00:00:00",
          "2021-03-04T00:00:00"
         ],
         "xaxis": "x",
         "y": [
          165.94,
          166.06
         ],
         "yaxis": "y"
        },
        {
         "hoverinfo": "none",
         "line": {
          "color": "green",
          "width": 3
         },
         "mode": "lines",
         "showlegend": false,
         "type": "scatter",
         "x": [
          "2021-03-04T00:00:00",
          "2021-03-05T00:00:00"
         ],
         "xaxis": "x",
         "y": [
          166.06,
          166.3
         ],
         "yaxis": "y"
        },
        {
         "hoverinfo": "none",
         "line": {
          "color": "green",
          "width": 3
         },
         "mode": "lines",
         "showlegend": false,
         "type": "scatter",
         "x": [
          "2021-03-05T00:00:00",
          "2021-03-06T00:00:00"
         ],
         "xaxis": "x",
         "y": [
          166.3,
          166.42
         ],
         "yaxis": "y"
        },
        {
         "hoverinfo": "none",
         "line": {
          "color": "green",
          "width": 3
         },
         "mode": "lines",
         "showlegend": false,
         "type": "scatter",
         "x": [
          "2021-03-06T00:00:00",
          "2021-03-07T00:00:00"
         ],
         "xaxis": "x",
         "y": [
          166.42,
          166.66
         ],
         "yaxis": "y"
        },
        {
         "hoverinfo": "none",
         "line": {
          "color": "green",
          "width": 3
         },
         "mode": "lines",
         "showlegend": false,
         "type": "scatter",
         "x": [
          "2021-03-07T00:00:00",
          "2021-03-08T00:00:00"
         ],
         "xaxis": "x",
         "y": [
          166.66,
          166.76
         ],
         "yaxis": "y"
        },
        {
         "hoverinfo": "none",
         "line": {
          "color": "green",
          "width": 3
         },
         "mode": "lines",
         "showlegend": false,
         "type": "scatter",
         "x": [
          "2021-03-08T00:00:00",
          "2021-03-09T00:00:00"
         ],
         "xaxis": "x",
         "y": [
          166.76,
          167
         ],
         "yaxis": "y"
        },
        {
         "hoverinfo": "none",
         "line": {
          "color": "green",
          "width": 3
         },
         "mode": "lines",
         "showlegend": false,
         "type": "scatter",
         "x": [
          "2021-03-09T00:00:00",
          "2021-03-10T00:00:00"
         ],
         "xaxis": "x",
         "y": [
          167,
          167.11
         ],
         "yaxis": "y"
        },
        {
         "hoverinfo": "none",
         "line": {
          "color": "green",
          "width": 3
         },
         "mode": "lines",
         "showlegend": false,
         "type": "scatter",
         "x": [
          "2021-03-10T00:00:00",
          "2021-03-11T00:00:00"
         ],
         "xaxis": "x",
         "y": [
          167.11,
          167.2
         ],
         "yaxis": "y"
        },
        {
         "hoverinfo": "none",
         "line": {
          "color": "green",
          "width": 3
         },
         "mode": "lines",
         "showlegend": false,
         "type": "scatter",
         "x": [
          "2021-03-11T00:00:00",
          "2021-03-12T00:00:00"
         ],
         "xaxis": "x",
         "y": [
          167.2,
          167.42
         ],
         "yaxis": "y"
        },
        {
         "hoverinfo": "none",
         "line": {
          "color": "green",
          "width": 3
         },
         "mode": "lines",
         "showlegend": false,
         "type": "scatter",
         "x": [
          "2021-03-12T00:00:00",
          "2021-03-13T00:00:00"
         ],
         "xaxis": "x",
         "y": [
          167.42,
          167.53
         ],
         "yaxis": "y"
        },
        {
         "hoverinfo": "none",
         "line": {
          "color": "green",
          "width": 3
         },
         "mode": "lines",
         "showlegend": false,
         "type": "scatter",
         "x": [
          "2021-03-13T00:00:00",
          "2021-03-14T00:00:00"
         ],
         "xaxis": "x",
         "y": [
          167.53,
          167.76
         ],
         "yaxis": "y"
        },
        {
         "hoverinfo": "none",
         "line": {
          "color": "green",
          "width": 3
         },
         "mode": "lines",
         "showlegend": false,
         "type": "scatter",
         "x": [
          "2021-03-14T00:00:00",
          "2021-03-15T00:00:00"
         ],
         "xaxis": "x",
         "y": [
          167.76,
          167.99
         ],
         "yaxis": "y"
        },
        {
         "hoverinfo": "none",
         "line": {
          "color": "green",
          "width": 3
         },
         "mode": "lines",
         "showlegend": false,
         "type": "scatter",
         "x": [
          "2021-03-15T00:00:00",
          "2021-03-16T00:00:00"
         ],
         "xaxis": "x",
         "y": [
          167.99,
          168.23
         ],
         "yaxis": "y"
        },
        {
         "hoverinfo": "none",
         "line": {
          "color": "green",
          "width": 3
         },
         "mode": "lines",
         "showlegend": false,
         "type": "scatter",
         "x": [
          "2021-03-16T00:00:00",
          "2021-03-17T00:00:00"
         ],
         "xaxis": "x",
         "y": [
          168.23,
          168.35
         ],
         "yaxis": "y"
        },
        {
         "hoverinfo": "none",
         "line": {
          "color": "green",
          "width": 3
         },
         "mode": "lines",
         "showlegend": false,
         "type": "scatter",
         "x": [
          "2021-03-17T00:00:00",
          "2021-03-18T00:00:00"
         ],
         "xaxis": "x",
         "y": [
          168.35,
          168.48
         ],
         "yaxis": "y"
        },
        {
         "hoverinfo": "none",
         "line": {
          "color": "green",
          "width": 3
         },
         "mode": "lines",
         "showlegend": false,
         "type": "scatter",
         "x": [
          "2021-03-18T00:00:00",
          "2021-03-19T00:00:00"
         ],
         "xaxis": "x",
         "y": [
          168.48,
          168.6
         ],
         "yaxis": "y"
        },
        {
         "hoverinfo": "none",
         "line": {
          "color": "green",
          "width": 3
         },
         "mode": "lines",
         "showlegend": false,
         "type": "scatter",
         "x": [
          "2021-03-19T00:00:00",
          "2021-03-20T00:00:00"
         ],
         "xaxis": "x",
         "y": [
          168.6,
          168.74
         ],
         "yaxis": "y"
        },
        {
         "hoverinfo": "none",
         "line": {
          "color": "green",
          "width": 3
         },
         "mode": "lines",
         "showlegend": false,
         "type": "scatter",
         "x": [
          "2021-03-20T00:00:00",
          "2021-03-21T00:00:00"
         ],
         "xaxis": "x",
         "y": [
          168.74,
          168.87
         ],
         "yaxis": "y"
        },
        {
         "hoverinfo": "none",
         "line": {
          "color": "green",
          "width": 3
         },
         "mode": "lines",
         "showlegend": false,
         "type": "scatter",
         "x": [
          "2021-03-21T00:00:00",
          "2021-03-22T00:00:00"
         ],
         "xaxis": "x",
         "y": [
          168.87,
          168.98
         ],
         "yaxis": "y"
        },
        {
         "hoverinfo": "none",
         "line": {
          "color": "green",
          "width": 3
         },
         "mode": "lines",
         "showlegend": false,
         "type": "scatter",
         "x": [
          "2021-03-22T00:00:00",
          "2021-03-23T00:00:00"
         ],
         "xaxis": "x",
         "y": [
          168.98,
          168.98
         ],
         "yaxis": "y"
        },
        {
         "hoverinfo": "none",
         "line": {
          "color": "green",
          "width": 3
         },
         "mode": "lines",
         "showlegend": false,
         "type": "scatter",
         "x": [
          "2021-03-23T00:00:00",
          "2021-03-24T00:00:00"
         ],
         "xaxis": "x",
         "y": [
          168.98,
          168.99
         ],
         "yaxis": "y"
        },
        {
         "hoverinfo": "none",
         "line": {
          "color": "green",
          "width": 3
         },
         "mode": "lines",
         "showlegend": false,
         "type": "scatter",
         "x": [
          "2021-03-24T00:00:00",
          "2021-03-25T00:00:00"
         ],
         "xaxis": "x",
         "y": [
          168.99,
          169.01
         ],
         "yaxis": "y"
        },
        {
         "hoverinfo": "none",
         "line": {
          "color": "green",
          "width": 3
         },
         "mode": "lines",
         "showlegend": false,
         "type": "scatter",
         "x": [
          "2021-03-25T00:00:00",
          "2021-03-26T00:00:00"
         ],
         "xaxis": "x",
         "y": [
          169.01,
          169.03
         ],
         "yaxis": "y"
        },
        {
         "hoverinfo": "none",
         "line": {
          "color": "green",
          "width": 3
         },
         "mode": "lines",
         "showlegend": false,
         "type": "scatter",
         "x": [
          "2021-03-26T00:00:00",
          "2021-03-27T00:00:00"
         ],
         "xaxis": "x",
         "y": [
          169.03,
          169.04
         ],
         "yaxis": "y"
        },
        {
         "hoverinfo": "none",
         "line": {
          "color": "green",
          "width": 3
         },
         "mode": "lines",
         "showlegend": false,
         "type": "scatter",
         "x": [
          "2021-03-27T00:00:00",
          "2021-03-28T00:00:00"
         ],
         "xaxis": "x",
         "y": [
          169.04,
          169.06
         ],
         "yaxis": "y"
        },
        {
         "hoverinfo": "none",
         "line": {
          "color": "green",
          "width": 3
         },
         "mode": "lines",
         "showlegend": false,
         "type": "scatter",
         "x": [
          "2021-03-28T00:00:00",
          "2021-03-29T00:00:00"
         ],
         "xaxis": "x",
         "y": [
          169.06,
          169.2
         ],
         "yaxis": "y"
        },
        {
         "hoverinfo": "none",
         "line": {
          "color": "green",
          "width": 3
         },
         "mode": "lines",
         "showlegend": false,
         "type": "scatter",
         "x": [
          "2021-03-29T00:00:00",
          "2021-03-30T00:00:00"
         ],
         "xaxis": "x",
         "y": [
          169.2,
          169.34
         ],
         "yaxis": "y"
        },
        {
         "hoverinfo": "none",
         "line": {
          "color": "green",
          "width": 3
         },
         "mode": "lines",
         "showlegend": false,
         "type": "scatter",
         "x": [
          "2021-03-30T00:00:00",
          "2021-03-31T00:00:00"
         ],
         "xaxis": "x",
         "y": [
          169.34,
          169.5
         ],
         "yaxis": "y"
        },
        {
         "hoverinfo": "none",
         "line": {
          "color": "green",
          "width": 3
         },
         "mode": "lines",
         "showlegend": false,
         "type": "scatter",
         "x": [
          "2021-03-31T00:00:00",
          "2021-04-01T00:00:00"
         ],
         "xaxis": "x",
         "y": [
          169.5,
          169.62
         ],
         "yaxis": "y"
        },
        {
         "hoverinfo": "none",
         "line": {
          "color": "green",
          "width": 3
         },
         "mode": "lines",
         "showlegend": false,
         "type": "scatter",
         "x": [
          "2021-04-01T00:00:00",
          "2021-04-02T00:00:00"
         ],
         "xaxis": "x",
         "y": [
          169.62,
          169.75
         ],
         "yaxis": "y"
        },
        {
         "hoverinfo": "none",
         "line": {
          "color": "green",
          "width": 3
         },
         "mode": "lines",
         "showlegend": false,
         "type": "scatter",
         "x": [
          "2021-04-02T00:00:00",
          "2021-04-03T00:00:00"
         ],
         "xaxis": "x",
         "y": [
          169.75,
          169.89
         ],
         "yaxis": "y"
        },
        {
         "hoverinfo": "none",
         "line": {
          "color": "green",
          "width": 3
         },
         "mode": "lines",
         "showlegend": false,
         "type": "scatter",
         "x": [
          "2021-04-03T00:00:00",
          "2021-04-04T00:00:00"
         ],
         "xaxis": "x",
         "y": [
          169.89,
          170.14
         ],
         "yaxis": "y"
        },
        {
         "hoverinfo": "none",
         "line": {
          "color": "green",
          "width": 3
         },
         "mode": "lines",
         "showlegend": false,
         "type": "scatter",
         "x": [
          "2021-04-04T00:00:00",
          "2021-04-05T00:00:00"
         ],
         "xaxis": "x",
         "y": [
          170.14,
          170.5
         ],
         "yaxis": "y"
        },
        {
         "hoverinfo": "none",
         "line": {
          "color": "green",
          "width": 3
         },
         "mode": "lines",
         "showlegend": false,
         "type": "scatter",
         "x": [
          "2021-04-05T00:00:00",
          "2021-04-06T00:00:00"
         ],
         "xaxis": "x",
         "y": [
          170.5,
          170.75
         ],
         "yaxis": "y"
        },
        {
         "hoverinfo": "none",
         "line": {
          "color": "green",
          "width": 3
         },
         "mode": "lines",
         "showlegend": false,
         "type": "scatter",
         "x": [
          "2021-04-06T00:00:00",
          "2021-04-07T00:00:00"
         ],
         "xaxis": "x",
         "y": [
          170.75,
          171
         ],
         "yaxis": "y"
        },
        {
         "hoverinfo": "none",
         "line": {
          "color": "green",
          "width": 3
         },
         "mode": "lines",
         "showlegend": false,
         "type": "scatter",
         "x": [
          "2021-04-07T00:00:00",
          "2021-04-08T00:00:00"
         ],
         "xaxis": "x",
         "y": [
          171,
          171.23
         ],
         "yaxis": "y"
        },
        {
         "hoverinfo": "none",
         "line": {
          "color": "green",
          "width": 3
         },
         "mode": "lines",
         "showlegend": false,
         "type": "scatter",
         "x": [
          "2021-04-08T00:00:00",
          "2021-04-09T00:00:00"
         ],
         "xaxis": "x",
         "y": [
          171.23,
          171.5
         ],
         "yaxis": "y"
        },
        {
         "hoverinfo": "none",
         "line": {
          "color": "green",
          "width": 3
         },
         "mode": "lines",
         "showlegend": false,
         "type": "scatter",
         "x": [
          "2021-04-09T00:00:00",
          "2021-04-10T00:00:00"
         ],
         "xaxis": "x",
         "y": [
          171.5,
          171.76
         ],
         "yaxis": "y"
        },
        {
         "hoverinfo": "none",
         "line": {
          "color": "green",
          "width": 3
         },
         "mode": "lines",
         "showlegend": false,
         "type": "scatter",
         "x": [
          "2021-04-10T00:00:00",
          "2021-04-11T00:00:00"
         ],
         "xaxis": "x",
         "y": [
          171.76,
          172.03
         ],
         "yaxis": "y"
        },
        {
         "hoverinfo": "none",
         "line": {
          "color": "green",
          "width": 3
         },
         "mode": "lines",
         "showlegend": false,
         "type": "scatter",
         "x": [
          "2021-04-11T00:00:00",
          "2021-04-12T00:00:00"
         ],
         "xaxis": "x",
         "y": [
          172.03,
          172.28
         ],
         "yaxis": "y"
        },
        {
         "hoverinfo": "none",
         "line": {
          "color": "green",
          "width": 3
         },
         "mode": "lines",
         "showlegend": false,
         "type": "scatter",
         "x": [
          "2021-04-12T00:00:00",
          "2021-04-13T00:00:00"
         ],
         "xaxis": "x",
         "y": [
          172.28,
          172.42
         ],
         "yaxis": "y"
        },
        {
         "hoverinfo": "none",
         "line": {
          "color": "green",
          "width": 3
         },
         "mode": "lines",
         "showlegend": false,
         "type": "scatter",
         "x": [
          "2021-04-13T00:00:00",
          "2021-04-14T00:00:00"
         ],
         "xaxis": "x",
         "y": [
          172.42,
          172.56
         ],
         "yaxis": "y"
        },
        {
         "hoverinfo": "none",
         "line": {
          "color": "green",
          "width": 3
         },
         "mode": "lines",
         "showlegend": false,
         "type": "scatter",
         "x": [
          "2021-04-14T00:00:00",
          "2021-04-15T00:00:00"
         ],
         "xaxis": "x",
         "y": [
          172.56,
          172.69
         ],
         "yaxis": "y"
        },
        {
         "hoverinfo": "none",
         "line": {
          "color": "green",
          "width": 3
         },
         "mode": "lines",
         "showlegend": false,
         "type": "scatter",
         "x": [
          "2021-04-15T00:00:00",
          "2021-04-16T00:00:00"
         ],
         "xaxis": "x",
         "y": [
          172.69,
          172.83
         ],
         "yaxis": "y"
        },
        {
         "hoverinfo": "none",
         "line": {
          "color": "green",
          "width": 3
         },
         "mode": "lines",
         "showlegend": false,
         "type": "scatter",
         "x": [
          "2021-04-16T00:00:00",
          "2021-04-17T00:00:00"
         ],
         "xaxis": "x",
         "y": [
          172.83,
          172.95
         ],
         "yaxis": "y"
        },
        {
         "hoverinfo": "none",
         "line": {
          "color": "green",
          "width": 3
         },
         "mode": "lines",
         "showlegend": false,
         "type": "scatter",
         "x": [
          "2021-04-17T00:00:00",
          "2021-04-18T00:00:00"
         ],
         "xaxis": "x",
         "y": [
          172.95,
          173.1
         ],
         "yaxis": "y"
        },
        {
         "hoverinfo": "none",
         "line": {
          "color": "green",
          "width": 3
         },
         "mode": "lines",
         "showlegend": false,
         "type": "scatter",
         "x": [
          "2021-04-18T00:00:00",
          "2021-04-19T00:00:00"
         ],
         "xaxis": "x",
         "y": [
          173.1,
          173.33
         ],
         "yaxis": "y"
        },
        {
         "hoverinfo": "none",
         "line": {
          "color": "green",
          "width": 3
         },
         "mode": "lines",
         "showlegend": false,
         "type": "scatter",
         "x": [
          "2021-04-19T00:00:00",
          "2021-04-20T00:00:00"
         ],
         "xaxis": "x",
         "y": [
          173.33,
          173.47
         ],
         "yaxis": "y"
        },
        {
         "hoverinfo": "none",
         "line": {
          "color": "green",
          "width": 3
         },
         "mode": "lines",
         "showlegend": false,
         "type": "scatter",
         "x": [
          "2021-04-20T00:00:00",
          "2021-04-21T00:00:00"
         ],
         "xaxis": "x",
         "y": [
          173.47,
          173.6
         ],
         "yaxis": "y"
        },
        {
         "hoverinfo": "none",
         "line": {
          "color": "green",
          "width": 3
         },
         "mode": "lines",
         "showlegend": false,
         "type": "scatter",
         "x": [
          "2021-04-21T00:00:00",
          "2021-04-22T00:00:00"
         ],
         "xaxis": "x",
         "y": [
          173.6,
          173.7
         ],
         "yaxis": "y"
        },
        {
         "hoverinfo": "none",
         "line": {
          "color": "green",
          "width": 3
         },
         "mode": "lines",
         "showlegend": false,
         "type": "scatter",
         "x": [
          "2021-04-22T00:00:00",
          "2021-04-23T00:00:00"
         ],
         "xaxis": "x",
         "y": [
          173.7,
          173.85
         ],
         "yaxis": "y"
        },
        {
         "hoverinfo": "none",
         "line": {
          "color": "green",
          "width": 3
         },
         "mode": "lines",
         "showlegend": false,
         "type": "scatter",
         "x": [
          "2021-04-23T00:00:00",
          "2021-04-24T00:00:00"
         ],
         "xaxis": "x",
         "y": [
          173.85,
          173.97
         ],
         "yaxis": "y"
        },
        {
         "hoverinfo": "none",
         "line": {
          "color": "green",
          "width": 3
         },
         "mode": "lines",
         "showlegend": false,
         "type": "scatter",
         "x": [
          "2021-04-24T00:00:00",
          "2021-04-25T00:00:00"
         ],
         "xaxis": "x",
         "y": [
          173.97,
          174.19
         ],
         "yaxis": "y"
        },
        {
         "hoverinfo": "none",
         "line": {
          "color": "green",
          "width": 3
         },
         "mode": "lines",
         "showlegend": false,
         "type": "scatter",
         "x": [
          "2021-04-25T00:00:00",
          "2021-04-26T00:00:00"
         ],
         "xaxis": "x",
         "y": [
          174.19,
          174.39
         ],
         "yaxis": "y"
        },
        {
         "hoverinfo": "none",
         "line": {
          "color": "green",
          "width": 3
         },
         "mode": "lines",
         "showlegend": false,
         "type": "scatter",
         "x": [
          "2021-04-26T00:00:00",
          "2021-04-27T00:00:00"
         ],
         "xaxis": "x",
         "y": [
          174.39,
          174.5
         ],
         "yaxis": "y"
        },
        {
         "hoverinfo": "none",
         "line": {
          "color": "green",
          "width": 3
         },
         "mode": "lines",
         "showlegend": false,
         "type": "scatter",
         "x": [
          "2021-04-27T00:00:00",
          "2021-04-28T00:00:00"
         ],
         "xaxis": "x",
         "y": [
          174.5,
          174.61
         ],
         "yaxis": "y"
        },
        {
         "hoverinfo": "none",
         "line": {
          "color": "green",
          "width": 3
         },
         "mode": "lines",
         "showlegend": false,
         "type": "scatter",
         "x": [
          "2021-04-28T00:00:00",
          "2021-04-29T00:00:00"
         ],
         "xaxis": "x",
         "y": [
          174.61,
          174.7
         ],
         "yaxis": "y"
        },
        {
         "hoverinfo": "none",
         "line": {
          "color": "green",
          "width": 3
         },
         "mode": "lines",
         "showlegend": false,
         "type": "scatter",
         "x": [
          "2021-04-29T00:00:00",
          "2021-04-30T00:00:00"
         ],
         "xaxis": "x",
         "y": [
          174.7,
          174.81
         ],
         "yaxis": "y"
        },
        {
         "hoverinfo": "none",
         "line": {
          "color": "green",
          "width": 3
         },
         "mode": "lines",
         "showlegend": false,
         "type": "scatter",
         "x": [
          "2021-04-30T00:00:00",
          "2021-05-01T00:00:00"
         ],
         "xaxis": "x",
         "y": [
          174.81,
          174.92
         ],
         "yaxis": "y"
        },
        {
         "hoverinfo": "none",
         "line": {
          "color": "green",
          "width": 3
         },
         "mode": "lines",
         "showlegend": false,
         "type": "scatter",
         "x": [
          "2021-05-01T00:00:00",
          "2021-05-02T00:00:00"
         ],
         "xaxis": "x",
         "y": [
          174.92,
          175.13
         ],
         "yaxis": "y"
        },
        {
         "hoverinfo": "none",
         "line": {
          "color": "green",
          "width": 3
         },
         "mode": "lines",
         "showlegend": false,
         "type": "scatter",
         "x": [
          "2021-05-02T00:00:00",
          "2021-05-03T00:00:00"
         ],
         "xaxis": "x",
         "y": [
          175.13,
          175.26
         ],
         "yaxis": "y"
        },
        {
         "hoverinfo": "none",
         "line": {
          "color": "green",
          "width": 3
         },
         "mode": "lines",
         "showlegend": false,
         "type": "scatter",
         "x": [
          "2021-05-03T00:00:00",
          "2021-05-04T00:00:00"
         ],
         "xaxis": "x",
         "y": [
          175.26,
          175.4
         ],
         "yaxis": "y"
        },
        {
         "hoverinfo": "none",
         "line": {
          "color": "green",
          "width": 3
         },
         "mode": "lines",
         "showlegend": false,
         "type": "scatter",
         "x": [
          "2021-05-04T00:00:00",
          "2021-05-05T00:00:00"
         ],
         "xaxis": "x",
         "y": [
          175.4,
          175.63
         ],
         "yaxis": "y"
        },
        {
         "hoverinfo": "none",
         "line": {
          "color": "green",
          "width": 3
         },
         "mode": "lines",
         "showlegend": false,
         "type": "scatter",
         "x": [
          "2021-05-05T00:00:00",
          "2021-05-06T00:00:00"
         ],
         "xaxis": "x",
         "y": [
          175.63,
          175.74
         ],
         "yaxis": "y"
        },
        {
         "hoverinfo": "none",
         "line": {
          "color": "green",
          "width": 3
         },
         "mode": "lines",
         "showlegend": false,
         "type": "scatter",
         "x": [
          "2021-05-06T00:00:00",
          "2021-05-07T00:00:00"
         ],
         "xaxis": "x",
         "y": [
          175.74,
          175.88
         ],
         "yaxis": "y"
        },
        {
         "hoverinfo": "none",
         "line": {
          "color": "green",
          "width": 3
         },
         "mode": "lines",
         "showlegend": false,
         "type": "scatter",
         "x": [
          "2021-05-07T00:00:00",
          "2021-05-08T00:00:00"
         ],
         "xaxis": "x",
         "y": [
          175.88,
          176.03
         ],
         "yaxis": "y"
        },
        {
         "hoverinfo": "none",
         "line": {
          "color": "green",
          "width": 3
         },
         "mode": "lines",
         "showlegend": false,
         "type": "scatter",
         "x": [
          "2021-05-08T00:00:00",
          "2021-05-09T00:00:00"
         ],
         "xaxis": "x",
         "y": [
          176.03,
          176.17
         ],
         "yaxis": "y"
        },
        {
         "hoverinfo": "none",
         "line": {
          "color": "green",
          "width": 3
         },
         "mode": "lines",
         "showlegend": false,
         "type": "scatter",
         "x": [
          "2021-05-09T00:00:00",
          "2021-05-10T00:00:00"
         ],
         "xaxis": "x",
         "y": [
          176.17,
          176.31
         ],
         "yaxis": "y"
        },
        {
         "hoverinfo": "none",
         "line": {
          "color": "green",
          "width": 3
         },
         "mode": "lines",
         "showlegend": false,
         "type": "scatter",
         "x": [
          "2021-05-10T00:00:00",
          "2021-05-11T00:00:00"
         ],
         "xaxis": "x",
         "y": [
          176.31,
          176.47
         ],
         "yaxis": "y"
        },
        {
         "hoverinfo": "none",
         "line": {
          "color": "green",
          "width": 3
         },
         "mode": "lines",
         "showlegend": false,
         "type": "scatter",
         "x": [
          "2021-05-11T00:00:00",
          "2021-05-12T00:00:00"
         ],
         "xaxis": "x",
         "y": [
          176.47,
          176.61
         ],
         "yaxis": "y"
        },
        {
         "hoverinfo": "none",
         "line": {
          "color": "green",
          "width": 3
         },
         "mode": "lines",
         "showlegend": false,
         "type": "scatter",
         "x": [
          "2021-05-12T00:00:00",
          "2021-05-13T00:00:00"
         ],
         "xaxis": "x",
         "y": [
          176.61,
          176.64
         ],
         "yaxis": "y"
        },
        {
         "hoverinfo": "none",
         "line": {
          "color": "green",
          "width": 3
         },
         "mode": "lines",
         "showlegend": false,
         "type": "scatter",
         "x": [
          "2021-05-13T00:00:00",
          "2021-05-14T00:00:00"
         ],
         "xaxis": "x",
         "y": [
          176.64,
          176.81
         ],
         "yaxis": "y"
        },
        {
         "hoverinfo": "none",
         "line": {
          "color": "green",
          "width": 3
         },
         "mode": "lines",
         "showlegend": false,
         "type": "scatter",
         "x": [
          "2021-05-14T00:00:00",
          "2021-05-15T00:00:00"
         ],
         "xaxis": "x",
         "y": [
          176.81,
          176.97
         ],
         "yaxis": "y"
        },
        {
         "hoverinfo": "none",
         "line": {
          "color": "green",
          "width": 3
         },
         "mode": "lines",
         "showlegend": false,
         "type": "scatter",
         "x": [
          "2021-05-15T00:00:00",
          "2021-05-16T00:00:00"
         ],
         "xaxis": "x",
         "y": [
          176.97,
          177.25
         ],
         "yaxis": "y"
        },
        {
         "hoverinfo": "none",
         "line": {
          "color": "green",
          "width": 3
         },
         "mode": "lines",
         "showlegend": false,
         "type": "scatter",
         "x": [
          "2021-05-16T00:00:00",
          "2021-05-17T00:00:00"
         ],
         "xaxis": "x",
         "y": [
          177.25,
          177.52
         ],
         "yaxis": "y"
        },
        {
         "hoverinfo": "none",
         "line": {
          "color": "green",
          "width": 3
         },
         "mode": "lines",
         "showlegend": false,
         "type": "scatter",
         "x": [
          "2021-05-17T00:00:00",
          "2021-05-18T00:00:00"
         ],
         "xaxis": "x",
         "y": [
          177.52,
          177.68
         ],
         "yaxis": "y"
        },
        {
         "hoverinfo": "none",
         "line": {
          "color": "green",
          "width": 3
         },
         "mode": "lines",
         "showlegend": false,
         "type": "scatter",
         "x": [
          "2021-05-18T00:00:00",
          "2021-05-19T00:00:00"
         ],
         "xaxis": "x",
         "y": [
          177.68,
          177.82
         ],
         "yaxis": "y"
        },
        {
         "hoverinfo": "none",
         "line": {
          "color": "green",
          "width": 3
         },
         "mode": "lines",
         "showlegend": false,
         "type": "scatter",
         "x": [
          "2021-05-19T00:00:00",
          "2021-05-20T00:00:00"
         ],
         "xaxis": "x",
         "y": [
          177.82,
          177.96
         ],
         "yaxis": "y"
        },
        {
         "hoverinfo": "none",
         "line": {
          "color": "green",
          "width": 3
         },
         "mode": "lines",
         "showlegend": false,
         "type": "scatter",
         "x": [
          "2021-05-20T00:00:00",
          "2021-05-21T00:00:00"
         ],
         "xaxis": "x",
         "y": [
          177.96,
          178.1
         ],
         "yaxis": "y"
        },
        {
         "hoverinfo": "none",
         "line": {
          "color": "green",
          "width": 3
         },
         "mode": "lines",
         "showlegend": false,
         "type": "scatter",
         "x": [
          "2021-05-21T00:00:00",
          "2021-05-22T00:00:00"
         ],
         "xaxis": "x",
         "y": [
          178.1,
          178.24
         ],
         "yaxis": "y"
        },
        {
         "hoverinfo": "none",
         "line": {
          "color": "green",
          "width": 3
         },
         "mode": "lines",
         "showlegend": false,
         "type": "scatter",
         "x": [
          "2021-05-22T00:00:00",
          "2021-05-23T00:00:00"
         ],
         "xaxis": "x",
         "y": [
          178.24,
          178.49
         ],
         "yaxis": "y"
        },
        {
         "hoverinfo": "none",
         "line": {
          "color": "green",
          "width": 3
         },
         "mode": "lines",
         "showlegend": false,
         "type": "scatter",
         "x": [
          "2021-05-23T00:00:00",
          "2021-05-24T00:00:00"
         ],
         "xaxis": "x",
         "y": [
          178.49,
          178.6
         ],
         "yaxis": "y"
        },
        {
         "hoverinfo": "none",
         "line": {
          "color": "green",
          "width": 3
         },
         "mode": "lines",
         "showlegend": false,
         "type": "scatter",
         "x": [
          "2021-05-24T00:00:00",
          "2021-05-25T00:00:00"
         ],
         "xaxis": "x",
         "y": [
          178.6,
          178.73
         ],
         "yaxis": "y"
        },
        {
         "hoverinfo": "none",
         "line": {
          "color": "green",
          "width": 3
         },
         "mode": "lines",
         "showlegend": false,
         "type": "scatter",
         "x": [
          "2021-05-25T00:00:00",
          "2021-05-26T00:00:00"
         ],
         "xaxis": "x",
         "y": [
          178.73,
          178.83
         ],
         "yaxis": "y"
        },
        {
         "hoverinfo": "none",
         "line": {
          "color": "green",
          "width": 3
         },
         "mode": "lines",
         "showlegend": false,
         "type": "scatter",
         "x": [
          "2021-05-26T00:00:00",
          "2021-05-27T00:00:00"
         ],
         "xaxis": "x",
         "y": [
          178.83,
          178.94
         ],
         "yaxis": "y"
        },
        {
         "hoverinfo": "none",
         "line": {
          "color": "green",
          "width": 3
         },
         "mode": "lines",
         "showlegend": false,
         "type": "scatter",
         "x": [
          "2021-05-27T00:00:00",
          "2021-05-28T00:00:00"
         ],
         "xaxis": "x",
         "y": [
          178.94,
          179.05
         ],
         "yaxis": "y"
        },
        {
         "hoverinfo": "none",
         "line": {
          "color": "green",
          "width": 3
         },
         "mode": "lines",
         "showlegend": false,
         "type": "scatter",
         "x": [
          "2021-05-28T00:00:00",
          "2021-05-29T00:00:00"
         ],
         "xaxis": "x",
         "y": [
          179.05,
          179.16
         ],
         "yaxis": "y"
        },
        {
         "hoverinfo": "none",
         "line": {
          "color": "green",
          "width": 3
         },
         "mode": "lines",
         "showlegend": false,
         "type": "scatter",
         "x": [
          "2021-05-29T00:00:00",
          "2021-05-30T00:00:00"
         ],
         "xaxis": "x",
         "y": [
          179.16,
          179.36
         ],
         "yaxis": "y"
        },
        {
         "hoverinfo": "none",
         "line": {
          "color": "green",
          "width": 3
         },
         "mode": "lines",
         "showlegend": false,
         "type": "scatter",
         "x": [
          "2021-05-30T00:00:00",
          "2021-05-31T00:00:00"
         ],
         "xaxis": "x",
         "y": [
          179.36,
          179.45
         ],
         "yaxis": "y"
        },
        {
         "hoverinfo": "none",
         "line": {
          "color": "green",
          "width": 3
         },
         "mode": "lines",
         "showlegend": false,
         "type": "scatter",
         "x": [
          "2021-05-31T00:00:00",
          "2021-06-01T00:00:00"
         ],
         "xaxis": "x",
         "y": [
          179.45,
          179.56
         ],
         "yaxis": "y"
        },
        {
         "hoverinfo": "none",
         "line": {
          "color": "green",
          "width": 3
         },
         "mode": "lines",
         "showlegend": false,
         "type": "scatter",
         "x": [
          "2021-06-01T00:00:00",
          "2021-06-02T00:00:00"
         ],
         "xaxis": "x",
         "y": [
          179.56,
          179.78
         ],
         "yaxis": "y"
        },
        {
         "hoverinfo": "none",
         "line": {
          "color": "green",
          "width": 3
         },
         "mode": "lines",
         "showlegend": false,
         "type": "scatter",
         "x": [
          "2021-06-02T00:00:00",
          "2021-06-03T00:00:00"
         ],
         "xaxis": "x",
         "y": [
          179.78,
          179.92
         ],
         "yaxis": "y"
        },
        {
         "hoverinfo": "none",
         "line": {
          "color": "green",
          "width": 3
         },
         "mode": "lines",
         "showlegend": false,
         "type": "scatter",
         "x": [
          "2021-06-03T00:00:00",
          "2021-06-04T00:00:00"
         ],
         "xaxis": "x",
         "y": [
          179.92,
          180.08
         ],
         "yaxis": "y"
        },
        {
         "hoverinfo": "none",
         "line": {
          "color": "green",
          "width": 3
         },
         "mode": "lines",
         "showlegend": false,
         "type": "scatter",
         "x": [
          "2021-06-04T00:00:00",
          "2021-06-05T00:00:00"
         ],
         "xaxis": "x",
         "y": [
          180.08,
          180.24
         ],
         "yaxis": "y"
        },
        {
         "hoverinfo": "none",
         "line": {
          "color": "green",
          "width": 3
         },
         "mode": "lines",
         "showlegend": false,
         "type": "scatter",
         "x": [
          "2021-06-05T00:00:00",
          "2021-06-06T00:00:00"
         ],
         "xaxis": "x",
         "y": [
          180.24,
          180.5
         ],
         "yaxis": "y"
        },
        {
         "hoverinfo": "none",
         "line": {
          "color": "green",
          "width": 3
         },
         "mode": "lines",
         "showlegend": false,
         "type": "scatter",
         "x": [
          "2021-06-06T00:00:00",
          "2021-06-07T00:00:00"
         ],
         "xaxis": "x",
         "y": [
          180.5,
          180.66
         ],
         "yaxis": "y"
        },
        {
         "hoverinfo": "none",
         "line": {
          "color": "green",
          "width": 3
         },
         "mode": "lines",
         "showlegend": false,
         "type": "scatter",
         "x": [
          "2021-06-07T00:00:00",
          "2021-06-08T00:00:00"
         ],
         "xaxis": "x",
         "y": [
          180.66,
          180.82
         ],
         "yaxis": "y"
        },
        {
         "hoverinfo": "none",
         "line": {
          "color": "green",
          "width": 3
         },
         "mode": "lines",
         "showlegend": false,
         "type": "scatter",
         "x": [
          "2021-06-08T00:00:00",
          "2021-06-09T00:00:00"
         ],
         "xaxis": "x",
         "y": [
          180.82,
          180.99
         ],
         "yaxis": "y"
        },
        {
         "hoverinfo": "none",
         "line": {
          "color": "green",
          "width": 3
         },
         "mode": "lines",
         "showlegend": false,
         "type": "scatter",
         "x": [
          "2021-06-09T00:00:00",
          "2021-06-10T00:00:00"
         ],
         "xaxis": "x",
         "y": [
          180.99,
          181.02
         ],
         "yaxis": "y"
        },
        {
         "hoverinfo": "none",
         "line": {
          "color": "green",
          "width": 3
         },
         "mode": "lines",
         "showlegend": false,
         "type": "scatter",
         "x": [
          "2021-06-10T00:00:00",
          "2021-06-11T00:00:00"
         ],
         "xaxis": "x",
         "y": [
          181.02,
          181.15
         ],
         "yaxis": "y"
        },
        {
         "hoverinfo": "none",
         "line": {
          "color": "green",
          "width": 3
         },
         "mode": "lines",
         "showlegend": false,
         "type": "scatter",
         "x": [
          "2021-06-11T00:00:00",
          "2021-06-12T00:00:00"
         ],
         "xaxis": "x",
         "y": [
          181.15,
          181.27
         ],
         "yaxis": "y"
        },
        {
         "hoverinfo": "none",
         "line": {
          "color": "green",
          "width": 3
         },
         "mode": "lines",
         "showlegend": false,
         "type": "scatter",
         "x": [
          "2021-06-12T00:00:00",
          "2021-06-13T00:00:00"
         ],
         "xaxis": "x",
         "y": [
          181.27,
          181.42
         ],
         "yaxis": "y"
        },
        {
         "hoverinfo": "none",
         "line": {
          "color": "green",
          "width": 3
         },
         "mode": "lines",
         "showlegend": false,
         "type": "scatter",
         "x": [
          "2021-06-13T00:00:00",
          "2021-06-14T00:00:00"
         ],
         "xaxis": "x",
         "y": [
          181.42,
          181.56
         ],
         "yaxis": "y"
        },
        {
         "hoverinfo": "none",
         "line": {
          "color": "green",
          "width": 3
         },
         "mode": "lines",
         "showlegend": false,
         "type": "scatter",
         "x": [
          "2021-06-14T00:00:00",
          "2021-06-15T00:00:00"
         ],
         "xaxis": "x",
         "y": [
          181.56,
          181.71
         ],
         "yaxis": "y"
        },
        {
         "hoverinfo": "none",
         "line": {
          "color": "green",
          "width": 3
         },
         "mode": "lines",
         "showlegend": false,
         "type": "scatter",
         "x": [
          "2021-06-15T00:00:00",
          "2021-06-16T00:00:00"
         ],
         "xaxis": "x",
         "y": [
          181.71,
          181.87
         ],
         "yaxis": "y"
        },
        {
         "hoverinfo": "none",
         "line": {
          "color": "green",
          "width": 3
         },
         "mode": "lines",
         "showlegend": false,
         "type": "scatter",
         "x": [
          "2021-06-16T00:00:00",
          "2021-06-17T00:00:00"
         ],
         "xaxis": "x",
         "y": [
          181.87,
          181.98
         ],
         "yaxis": "y"
        },
        {
         "hoverinfo": "none",
         "line": {
          "color": "green",
          "width": 3
         },
         "mode": "lines",
         "showlegend": false,
         "type": "scatter",
         "x": [
          "2021-06-17T00:00:00",
          "2021-06-18T00:00:00"
         ],
         "xaxis": "x",
         "y": [
          181.98,
          182.11
         ],
         "yaxis": "y"
        },
        {
         "hoverinfo": "none",
         "line": {
          "color": "green",
          "width": 3
         },
         "mode": "lines",
         "showlegend": false,
         "type": "scatter",
         "x": [
          "2021-06-18T00:00:00",
          "2021-06-19T00:00:00"
         ],
         "xaxis": "x",
         "y": [
          182.11,
          182.23
         ],
         "yaxis": "y"
        },
        {
         "hoverinfo": "none",
         "line": {
          "color": "green",
          "width": 3
         },
         "mode": "lines",
         "showlegend": false,
         "type": "scatter",
         "x": [
          "2021-06-19T00:00:00",
          "2021-06-20T00:00:00"
         ],
         "xaxis": "x",
         "y": [
          182.23,
          182.34
         ],
         "yaxis": "y"
        },
        {
         "hoverinfo": "none",
         "line": {
          "color": "green",
          "width": 3
         },
         "mode": "lines",
         "showlegend": false,
         "type": "scatter",
         "x": [
          "2021-06-20T00:00:00",
          "2021-06-21T00:00:00"
         ],
         "xaxis": "x",
         "y": [
          182.34,
          182.54
         ],
         "yaxis": "y"
        },
        {
         "hoverinfo": "none",
         "line": {
          "color": "green",
          "width": 3
         },
         "mode": "lines",
         "showlegend": false,
         "type": "scatter",
         "x": [
          "2021-06-21T00:00:00",
          "2021-06-22T00:00:00"
         ],
         "xaxis": "x",
         "y": [
          182.54,
          182.63
         ],
         "yaxis": "y"
        },
        {
         "hoverinfo": "none",
         "line": {
          "color": "green",
          "width": 3
         },
         "mode": "lines",
         "showlegend": false,
         "type": "scatter",
         "x": [
          "2021-06-22T00:00:00",
          "2021-06-23T00:00:00"
         ],
         "xaxis": "x",
         "y": [
          182.63,
          182.71
         ],
         "yaxis": "y"
        },
        {
         "hoverinfo": "none",
         "line": {
          "color": "green",
          "width": 3
         },
         "mode": "lines",
         "showlegend": false,
         "type": "scatter",
         "x": [
          "2021-06-23T00:00:00",
          "2021-06-24T00:00:00"
         ],
         "xaxis": "x",
         "y": [
          182.71,
          182.79
         ],
         "yaxis": "y"
        },
        {
         "hoverinfo": "none",
         "line": {
          "color": "green",
          "width": 3
         },
         "mode": "lines",
         "showlegend": false,
         "type": "scatter",
         "x": [
          "2021-06-24T00:00:00",
          "2021-06-25T00:00:00"
         ],
         "xaxis": "x",
         "y": [
          182.79,
          182.94
         ],
         "yaxis": "y"
        },
        {
         "hoverinfo": "none",
         "line": {
          "color": "green",
          "width": 3
         },
         "mode": "lines",
         "showlegend": false,
         "type": "scatter",
         "x": [
          "2021-06-25T00:00:00",
          "2021-06-26T00:00:00"
         ],
         "xaxis": "x",
         "y": [
          182.94,
          183.1
         ],
         "yaxis": "y"
        },
        {
         "hoverinfo": "none",
         "line": {
          "color": "green",
          "width": 3
         },
         "mode": "lines",
         "showlegend": false,
         "type": "scatter",
         "x": [
          "2021-06-26T00:00:00",
          "2021-06-27T00:00:00"
         ],
         "xaxis": "x",
         "y": [
          183.1,
          183.27
         ],
         "yaxis": "y"
        },
        {
         "hoverinfo": "none",
         "line": {
          "color": "green",
          "width": 3
         },
         "mode": "lines",
         "showlegend": false,
         "type": "scatter",
         "x": [
          "2021-06-27T00:00:00",
          "2021-06-28T00:00:00"
         ],
         "xaxis": "x",
         "y": [
          183.27,
          183.43
         ],
         "yaxis": "y"
        },
        {
         "hoverinfo": "none",
         "line": {
          "color": "green",
          "width": 3
         },
         "mode": "lines",
         "showlegend": false,
         "type": "scatter",
         "x": [
          "2021-06-28T00:00:00",
          "2021-06-29T00:00:00"
         ],
         "xaxis": "x",
         "y": [
          183.43,
          183.5
         ],
         "yaxis": "y"
        },
        {
         "hoverinfo": "none",
         "line": {
          "color": "green",
          "width": 3
         },
         "mode": "lines",
         "showlegend": false,
         "type": "scatter",
         "x": [
          "2021-06-29T00:00:00",
          "2021-06-30T00:00:00"
         ],
         "xaxis": "x",
         "y": [
          183.5,
          183.56
         ],
         "yaxis": "y"
        },
        {
         "hoverinfo": "none",
         "line": {
          "color": "green",
          "width": 3
         },
         "mode": "lines",
         "showlegend": false,
         "type": "scatter",
         "x": [
          "2021-06-30T00:00:00",
          "2021-07-01T00:00:00"
         ],
         "xaxis": "x",
         "y": [
          183.56,
          183.61
         ],
         "yaxis": "y"
        },
        {
         "hoverinfo": "none",
         "line": {
          "color": "green",
          "width": 3
         },
         "mode": "lines",
         "showlegend": false,
         "type": "scatter",
         "x": [
          "2021-07-01T00:00:00",
          "2021-07-02T00:00:00"
         ],
         "xaxis": "x",
         "y": [
          183.61,
          183.66
         ],
         "yaxis": "y"
        },
        {
         "hoverinfo": "none",
         "line": {
          "color": "green",
          "width": 3
         },
         "mode": "lines",
         "showlegend": false,
         "type": "scatter",
         "x": [
          "2021-07-02T00:00:00",
          "2021-07-03T00:00:00"
         ],
         "xaxis": "x",
         "y": [
          183.66,
          183.78
         ],
         "yaxis": "y"
        },
        {
         "hoverinfo": "none",
         "line": {
          "color": "green",
          "width": 3
         },
         "mode": "lines",
         "showlegend": false,
         "type": "scatter",
         "x": [
          "2021-07-03T00:00:00",
          "2021-07-04T00:00:00"
         ],
         "xaxis": "x",
         "y": [
          183.78,
          183.91
         ],
         "yaxis": "y"
        },
        {
         "hoverinfo": "none",
         "line": {
          "color": "green",
          "width": 3
         },
         "mode": "lines",
         "showlegend": false,
         "type": "scatter",
         "x": [
          "2021-07-04T00:00:00",
          "2021-07-05T00:00:00"
         ],
         "xaxis": "x",
         "y": [
          183.91,
          184.02
         ],
         "yaxis": "y"
        },
        {
         "hoverinfo": "none",
         "line": {
          "color": "green",
          "width": 3
         },
         "mode": "lines",
         "showlegend": false,
         "type": "scatter",
         "x": [
          "2021-07-05T00:00:00",
          "2021-07-06T00:00:00"
         ],
         "xaxis": "x",
         "y": [
          184.02,
          184.16
         ],
         "yaxis": "y"
        },
        {
         "hoverinfo": "none",
         "line": {
          "color": "green",
          "width": 3
         },
         "mode": "lines",
         "showlegend": false,
         "type": "scatter",
         "x": [
          "2021-07-06T00:00:00",
          "2021-07-07T00:00:00"
         ],
         "xaxis": "x",
         "y": [
          184.16,
          184.28
         ],
         "yaxis": "y"
        },
        {
         "hoverinfo": "none",
         "line": {
          "color": "green",
          "width": 3
         },
         "mode": "lines",
         "showlegend": false,
         "type": "scatter",
         "x": [
          "2021-07-07T00:00:00",
          "2021-07-08T00:00:00"
         ],
         "xaxis": "x",
         "y": [
          184.28,
          184.52
         ],
         "yaxis": "y"
        },
        {
         "hoverinfo": "none",
         "line": {
          "color": "green",
          "width": 3
         },
         "mode": "lines",
         "showlegend": false,
         "type": "scatter",
         "x": [
          "2021-07-08T00:00:00",
          "2021-07-09T00:00:00"
         ],
         "xaxis": "x",
         "y": [
          184.52,
          184.68
         ],
         "yaxis": "y"
        },
        {
         "hoverinfo": "none",
         "line": {
          "color": "green",
          "width": 3
         },
         "mode": "lines",
         "showlegend": false,
         "type": "scatter",
         "x": [
          "2021-07-09T00:00:00",
          "2021-07-10T00:00:00"
         ],
         "xaxis": "x",
         "y": [
          184.68,
          184.78
         ],
         "yaxis": "y"
        },
        {
         "hoverinfo": "none",
         "line": {
          "color": "green",
          "width": 3
         },
         "mode": "lines",
         "showlegend": false,
         "type": "scatter",
         "x": [
          "2021-07-10T00:00:00",
          "2021-07-11T00:00:00"
         ],
         "xaxis": "x",
         "y": [
          184.78,
          184.89
         ],
         "yaxis": "y"
        },
        {
         "hoverinfo": "none",
         "line": {
          "color": "green",
          "width": 3
         },
         "mode": "lines",
         "showlegend": false,
         "type": "scatter",
         "x": [
          "2021-07-11T00:00:00",
          "2021-07-12T00:00:00"
         ],
         "xaxis": "x",
         "y": [
          184.89,
          185
         ],
         "yaxis": "y"
        },
        {
         "hoverinfo": "none",
         "line": {
          "color": "green",
          "width": 3
         },
         "mode": "lines",
         "showlegend": false,
         "type": "scatter",
         "x": [
          "2021-07-12T00:00:00",
          "2021-07-13T00:00:00"
         ],
         "xaxis": "x",
         "y": [
          185,
          185.11
         ],
         "yaxis": "y"
        },
        {
         "hoverinfo": "none",
         "line": {
          "color": "green",
          "width": 3
         },
         "mode": "lines",
         "showlegend": false,
         "type": "scatter",
         "x": [
          "2021-07-13T00:00:00",
          "2021-07-14T00:00:00"
         ],
         "xaxis": "x",
         "y": [
          185.11,
          185.2
         ],
         "yaxis": "y"
        },
        {
         "hoverinfo": "none",
         "line": {
          "color": "green",
          "width": 3
         },
         "mode": "lines",
         "showlegend": false,
         "type": "scatter",
         "x": [
          "2021-07-14T00:00:00",
          "2021-07-15T00:00:00"
         ],
         "xaxis": "x",
         "y": [
          185.2,
          185.3
         ],
         "yaxis": "y"
        },
        {
         "hoverinfo": "none",
         "line": {
          "color": "red",
          "width": 3
         },
         "mode": "lines",
         "showlegend": false,
         "type": "scatter",
         "x": [
          "2021-07-15T00:00:00",
          "2021-07-16T00:00:00"
         ],
         "xaxis": "x",
         "y": [
          185.3,
          185.28
         ],
         "yaxis": "y"
        },
        {
         "hoverinfo": "none",
         "line": {
          "color": "green",
          "width": 3
         },
         "mode": "lines",
         "showlegend": false,
         "type": "scatter",
         "x": [
          "2021-07-16T00:00:00",
          "2021-07-17T00:00:00"
         ],
         "xaxis": "x",
         "y": [
          185.28,
          185.37
         ],
         "yaxis": "y"
        },
        {
         "hoverinfo": "none",
         "line": {
          "color": "green",
          "width": 3
         },
         "mode": "lines",
         "showlegend": false,
         "type": "scatter",
         "x": [
          "2021-07-17T00:00:00",
          "2021-07-18T00:00:00"
         ],
         "xaxis": "x",
         "y": [
          185.37,
          185.53
         ],
         "yaxis": "y"
        },
        {
         "hoverinfo": "none",
         "line": {
          "color": "green",
          "width": 3
         },
         "mode": "lines",
         "showlegend": false,
         "type": "scatter",
         "x": [
          "2021-07-18T00:00:00",
          "2021-07-19T00:00:00"
         ],
         "xaxis": "x",
         "y": [
          185.53,
          185.67
         ],
         "yaxis": "y"
        },
        {
         "hoverinfo": "none",
         "line": {
          "color": "green",
          "width": 3
         },
         "mode": "lines",
         "showlegend": false,
         "type": "scatter",
         "x": [
          "2021-07-19T00:00:00",
          "2021-07-20T00:00:00"
         ],
         "xaxis": "x",
         "y": [
          185.67,
          185.83
         ],
         "yaxis": "y"
        },
        {
         "hoverinfo": "none",
         "line": {
          "color": "green",
          "width": 3
         },
         "mode": "lines",
         "showlegend": false,
         "type": "scatter",
         "x": [
          "2021-07-20T00:00:00",
          "2021-07-21T00:00:00"
         ],
         "xaxis": "x",
         "y": [
          185.83,
          185.99
         ],
         "yaxis": "y"
        },
        {
         "hoverinfo": "none",
         "line": {
          "color": "green",
          "width": 3
         },
         "mode": "lines",
         "showlegend": false,
         "type": "scatter",
         "x": [
          "2021-07-21T00:00:00",
          "2021-07-22T00:00:00"
         ],
         "xaxis": "x",
         "y": [
          185.99,
          186.03
         ],
         "yaxis": "y"
        },
        {
         "hoverinfo": "none",
         "line": {
          "color": "green",
          "width": 3
         },
         "mode": "lines",
         "showlegend": false,
         "type": "scatter",
         "x": [
          "2021-07-22T00:00:00",
          "2021-07-23T00:00:00"
         ],
         "xaxis": "x",
         "y": [
          186.03,
          186.08
         ],
         "yaxis": "y"
        },
        {
         "hoverinfo": "none",
         "line": {
          "color": "green",
          "width": 3
         },
         "mode": "lines",
         "showlegend": false,
         "type": "scatter",
         "x": [
          "2021-07-23T00:00:00",
          "2021-07-24T00:00:00"
         ],
         "xaxis": "x",
         "y": [
          186.08,
          186.15
         ],
         "yaxis": "y"
        },
        {
         "hoverinfo": "none",
         "line": {
          "color": "green",
          "width": 3
         },
         "mode": "lines",
         "showlegend": false,
         "type": "scatter",
         "x": [
          "2021-07-24T00:00:00",
          "2021-07-25T00:00:00"
         ],
         "xaxis": "x",
         "y": [
          186.15,
          186.2
         ],
         "yaxis": "y"
        },
        {
         "hoverinfo": "none",
         "line": {
          "color": "green",
          "width": 3
         },
         "mode": "lines",
         "showlegend": false,
         "type": "scatter",
         "x": [
          "2021-07-25T00:00:00",
          "2021-07-26T00:00:00"
         ],
         "xaxis": "x",
         "y": [
          186.2,
          186.34
         ],
         "yaxis": "y"
        },
        {
         "hoverinfo": "none",
         "line": {
          "color": "green",
          "width": 3
         },
         "mode": "lines",
         "showlegend": false,
         "type": "scatter",
         "x": [
          "2021-07-26T00:00:00",
          "2021-07-27T00:00:00"
         ],
         "xaxis": "x",
         "y": [
          186.34,
          186.39
         ],
         "yaxis": "y"
        },
        {
         "hoverinfo": "none",
         "line": {
          "color": "green",
          "width": 3
         },
         "mode": "lines",
         "showlegend": false,
         "type": "scatter",
         "x": [
          "2021-07-27T00:00:00",
          "2021-07-28T00:00:00"
         ],
         "xaxis": "x",
         "y": [
          186.39,
          186.42
         ],
         "yaxis": "y"
        },
        {
         "hoverinfo": "none",
         "line": {
          "color": "green",
          "width": 3
         },
         "mode": "lines",
         "showlegend": false,
         "type": "scatter",
         "x": [
          "2021-07-28T00:00:00",
          "2021-07-29T00:00:00"
         ],
         "xaxis": "x",
         "y": [
          186.42,
          186.44
         ],
         "yaxis": "y"
        },
        {
         "hoverinfo": "none",
         "line": {
          "color": "green",
          "width": 3
         },
         "mode": "lines",
         "showlegend": false,
         "type": "scatter",
         "x": [
          "2021-07-29T00:00:00",
          "2021-07-30T00:00:00"
         ],
         "xaxis": "x",
         "y": [
          186.44,
          186.56
         ],
         "yaxis": "y"
        },
        {
         "hoverinfo": "none",
         "line": {
          "color": "green",
          "width": 3
         },
         "mode": "lines",
         "showlegend": false,
         "type": "scatter",
         "x": [
          "2021-07-30T00:00:00",
          "2021-07-31T00:00:00"
         ],
         "xaxis": "x",
         "y": [
          186.56,
          186.7
         ],
         "yaxis": "y"
        },
        {
         "hoverinfo": "none",
         "line": {
          "color": "green",
          "width": 3
         },
         "mode": "lines",
         "showlegend": false,
         "type": "scatter",
         "x": [
          "2021-07-31T00:00:00",
          "2021-08-01T00:00:00"
         ],
         "xaxis": "x",
         "y": [
          186.7,
          186.84
         ],
         "yaxis": "y"
        },
        {
         "hoverinfo": "none",
         "line": {
          "color": "green",
          "width": 3
         },
         "mode": "lines",
         "showlegend": false,
         "type": "scatter",
         "x": [
          "2021-08-01T00:00:00",
          "2021-08-02T00:00:00"
         ],
         "xaxis": "x",
         "y": [
          186.84,
          186.98
         ],
         "yaxis": "y"
        },
        {
         "hoverinfo": "none",
         "line": {
          "color": "green",
          "width": 3
         },
         "mode": "lines",
         "showlegend": false,
         "type": "scatter",
         "x": [
          "2021-08-02T00:00:00",
          "2021-08-03T00:00:00"
         ],
         "xaxis": "x",
         "y": [
          186.98,
          187.06
         ],
         "yaxis": "y"
        },
        {
         "hoverinfo": "none",
         "line": {
          "color": "green",
          "width": 3
         },
         "mode": "lines",
         "showlegend": false,
         "type": "scatter",
         "x": [
          "2021-08-03T00:00:00",
          "2021-08-04T00:00:00"
         ],
         "xaxis": "x",
         "y": [
          187.06,
          187.13
         ],
         "yaxis": "y"
        },
        {
         "hoverinfo": "none",
         "line": {
          "color": "green",
          "width": 3
         },
         "mode": "lines",
         "showlegend": false,
         "type": "scatter",
         "x": [
          "2021-08-04T00:00:00",
          "2021-08-05T00:00:00"
         ],
         "xaxis": "x",
         "y": [
          187.13,
          187.19
         ],
         "yaxis": "y"
        },
        {
         "hoverinfo": "none",
         "line": {
          "color": "green",
          "width": 3
         },
         "mode": "lines",
         "showlegend": false,
         "type": "scatter",
         "x": [
          "2021-08-05T00:00:00",
          "2021-08-06T00:00:00"
         ],
         "xaxis": "x",
         "y": [
          187.19,
          187.28
         ],
         "yaxis": "y"
        },
        {
         "hoverinfo": "none",
         "line": {
          "color": "green",
          "width": 3
         },
         "mode": "lines",
         "showlegend": false,
         "type": "scatter",
         "x": [
          "2021-08-06T00:00:00",
          "2021-08-07T00:00:00"
         ],
         "xaxis": "x",
         "y": [
          187.28,
          187.36
         ],
         "yaxis": "y"
        },
        {
         "hoverinfo": "none",
         "line": {
          "color": "red",
          "width": 3
         },
         "mode": "lines",
         "showlegend": false,
         "type": "scatter",
         "x": [
          "2021-08-07T00:00:00",
          "2021-08-08T00:00:00"
         ],
         "xaxis": "x",
         "y": [
          187.36,
          187.31
         ],
         "yaxis": "y"
        },
        {
         "hoverinfo": "none",
         "line": {
          "color": "green",
          "width": 3
         },
         "mode": "lines",
         "showlegend": false,
         "type": "scatter",
         "x": [
          "2021-08-08T00:00:00",
          "2021-08-09T00:00:00"
         ],
         "xaxis": "x",
         "y": [
          187.31,
          187.36
         ],
         "yaxis": "y"
        },
        {
         "hoverinfo": "none",
         "line": {
          "color": "green",
          "width": 3
         },
         "mode": "lines",
         "showlegend": false,
         "type": "scatter",
         "x": [
          "2021-08-09T00:00:00",
          "2021-08-10T00:00:00"
         ],
         "xaxis": "x",
         "y": [
          187.36,
          187.43
         ],
         "yaxis": "y"
        },
        {
         "hoverinfo": "none",
         "line": {
          "color": "green",
          "width": 3
         },
         "mode": "lines",
         "showlegend": false,
         "type": "scatter",
         "x": [
          "2021-08-10T00:00:00",
          "2021-08-11T00:00:00"
         ],
         "xaxis": "x",
         "y": [
          187.43,
          187.46
         ],
         "yaxis": "y"
        },
        {
         "hoverinfo": "none",
         "line": {
          "color": "red",
          "width": 3
         },
         "mode": "lines",
         "showlegend": false,
         "type": "scatter",
         "x": [
          "2021-08-11T00:00:00",
          "2021-08-12T00:00:00"
         ],
         "xaxis": "x",
         "y": [
          187.46,
          187.38
         ],
         "yaxis": "y"
        },
        {
         "hoverinfo": "none",
         "line": {
          "color": "red",
          "width": 3
         },
         "mode": "lines",
         "showlegend": false,
         "type": "scatter",
         "x": [
          "2021-08-12T00:00:00",
          "2021-08-13T00:00:00"
         ],
         "xaxis": "x",
         "y": [
          187.38,
          187.32
         ],
         "yaxis": "y"
        },
        {
         "hoverinfo": "none",
         "line": {
          "color": "red",
          "width": 3
         },
         "mode": "lines",
         "showlegend": false,
         "type": "scatter",
         "x": [
          "2021-08-13T00:00:00",
          "2021-08-14T00:00:00"
         ],
         "xaxis": "x",
         "y": [
          187.32,
          187.3
         ],
         "yaxis": "y"
        },
        {
         "hoverinfo": "none",
         "line": {
          "color": "green",
          "width": 3
         },
         "mode": "lines",
         "showlegend": false,
         "type": "scatter",
         "x": [
          "2021-08-14T00:00:00",
          "2021-08-15T00:00:00"
         ],
         "xaxis": "x",
         "y": [
          187.3,
          187.3
         ],
         "yaxis": "y"
        },
        {
         "hoverinfo": "none",
         "line": {
          "color": "green",
          "width": 3
         },
         "mode": "lines",
         "showlegend": false,
         "type": "scatter",
         "x": [
          "2021-08-15T00:00:00",
          "2021-08-16T00:00:00"
         ],
         "xaxis": "x",
         "y": [
          187.3,
          187.51
         ],
         "yaxis": "y"
        },
        {
         "hoverinfo": "none",
         "line": {
          "color": "green",
          "width": 3
         },
         "mode": "lines",
         "showlegend": false,
         "type": "scatter",
         "x": [
          "2021-08-16T00:00:00",
          "2021-08-17T00:00:00"
         ],
         "xaxis": "x",
         "y": [
          187.51,
          187.64
         ],
         "yaxis": "y"
        },
        {
         "hoverinfo": "none",
         "line": {
          "color": "red",
          "width": 3
         },
         "mode": "lines",
         "showlegend": false,
         "type": "scatter",
         "x": [
          "2021-08-17T00:00:00",
          "2021-08-18T00:00:00"
         ],
         "xaxis": "x",
         "y": [
          187.64,
          187.61
         ],
         "yaxis": "y"
        },
        {
         "hoverinfo": "none",
         "line": {
          "color": "red",
          "width": 3
         },
         "mode": "lines",
         "showlegend": false,
         "type": "scatter",
         "x": [
          "2021-08-18T00:00:00",
          "2021-08-19T00:00:00"
         ],
         "xaxis": "x",
         "y": [
          187.61,
          187.57
         ],
         "yaxis": "y"
        },
        {
         "hoverinfo": "none",
         "line": {
          "color": "green",
          "width": 3
         },
         "mode": "lines",
         "showlegend": false,
         "type": "scatter",
         "x": [
          "2021-08-19T00:00:00",
          "2021-08-20T00:00:00"
         ],
         "xaxis": "x",
         "y": [
          187.57,
          187.68
         ],
         "yaxis": "y"
        },
        {
         "hoverinfo": "none",
         "line": {
          "color": "green",
          "width": 3
         },
         "mode": "lines",
         "showlegend": false,
         "type": "scatter",
         "x": [
          "2021-08-20T00:00:00",
          "2021-08-21T00:00:00"
         ],
         "xaxis": "x",
         "y": [
          187.68,
          187.81
         ],
         "yaxis": "y"
        },
        {
         "hoverinfo": "none",
         "line": {
          "color": "green",
          "width": 3
         },
         "mode": "lines",
         "showlegend": false,
         "type": "scatter",
         "x": [
          "2021-08-21T00:00:00",
          "2021-08-22T00:00:00"
         ],
         "xaxis": "x",
         "y": [
          187.81,
          187.96
         ],
         "yaxis": "y"
        },
        {
         "hoverinfo": "none",
         "line": {
          "color": "green",
          "width": 3
         },
         "mode": "lines",
         "showlegend": false,
         "type": "scatter",
         "x": [
          "2021-08-22T00:00:00",
          "2021-08-23T00:00:00"
         ],
         "xaxis": "x",
         "y": [
          187.96,
          188.19
         ],
         "yaxis": "y"
        },
        {
         "hoverinfo": "none",
         "line": {
          "color": "green",
          "width": 3
         },
         "mode": "lines",
         "showlegend": false,
         "type": "scatter",
         "x": [
          "2021-08-23T00:00:00",
          "2021-08-24T00:00:00"
         ],
         "xaxis": "x",
         "y": [
          188.19,
          188.45
         ],
         "yaxis": "y"
        },
        {
         "hoverinfo": "none",
         "line": {
          "color": "green",
          "width": 3
         },
         "mode": "lines",
         "showlegend": false,
         "type": "scatter",
         "x": [
          "2021-08-24T00:00:00",
          "2021-08-25T00:00:00"
         ],
         "xaxis": "x",
         "y": [
          188.45,
          188.7
         ],
         "yaxis": "y"
        },
        {
         "hoverinfo": "none",
         "line": {
          "color": "green",
          "width": 3
         },
         "mode": "lines",
         "showlegend": false,
         "type": "scatter",
         "x": [
          "2021-08-25T00:00:00",
          "2021-08-26T00:00:00"
         ],
         "xaxis": "x",
         "y": [
          188.7,
          188.94
         ],
         "yaxis": "y"
        },
        {
         "hoverinfo": "none",
         "line": {
          "color": "green",
          "width": 3
         },
         "mode": "lines",
         "showlegend": false,
         "type": "scatter",
         "x": [
          "2021-08-26T00:00:00",
          "2021-08-27T00:00:00"
         ],
         "xaxis": "x",
         "y": [
          188.94,
          189.2
         ],
         "yaxis": "y"
        },
        {
         "hoverinfo": "none",
         "line": {
          "color": "green",
          "width": 3
         },
         "mode": "lines",
         "showlegend": false,
         "type": "scatter",
         "x": [
          "2021-08-27T00:00:00",
          "2021-08-28T00:00:00"
         ],
         "xaxis": "x",
         "y": [
          189.2,
          189.43
         ],
         "yaxis": "y"
        },
        {
         "hoverinfo": "none",
         "line": {
          "color": "green",
          "width": 3
         },
         "mode": "lines",
         "showlegend": false,
         "type": "scatter",
         "x": [
          "2021-08-28T00:00:00",
          "2021-08-29T00:00:00"
         ],
         "xaxis": "x",
         "y": [
          189.43,
          189.75
         ],
         "yaxis": "y"
        },
        {
         "hoverinfo": "none",
         "line": {
          "color": "green",
          "width": 3
         },
         "mode": "lines",
         "showlegend": false,
         "type": "scatter",
         "x": [
          "2021-08-29T00:00:00",
          "2021-08-30T00:00:00"
         ],
         "xaxis": "x",
         "y": [
          189.75,
          190.02
         ],
         "yaxis": "y"
        },
        {
         "hoverinfo": "none",
         "line": {
          "color": "green",
          "width": 3
         },
         "mode": "lines",
         "showlegend": false,
         "type": "scatter",
         "x": [
          "2021-08-30T00:00:00",
          "2021-08-31T00:00:00"
         ],
         "xaxis": "x",
         "y": [
          190.02,
          190.2
         ],
         "yaxis": "y"
        },
        {
         "hoverinfo": "none",
         "line": {
          "color": "green",
          "width": 3
         },
         "mode": "lines",
         "showlegend": false,
         "type": "scatter",
         "x": [
          "2021-08-31T00:00:00",
          "2021-09-01T00:00:00"
         ],
         "xaxis": "x",
         "y": [
          190.2,
          190.28
         ],
         "yaxis": "y"
        },
        {
         "hoverinfo": "none",
         "line": {
          "color": "red",
          "width": 3
         },
         "mode": "lines",
         "showlegend": false,
         "type": "scatter",
         "x": [
          "2021-09-01T00:00:00",
          "2021-09-02T00:00:00"
         ],
         "xaxis": "x",
         "y": [
          190.28,
          190.2
         ],
         "yaxis": "y"
        },
        {
         "hoverinfo": "none",
         "line": {
          "color": "green",
          "width": 3
         },
         "mode": "lines",
         "showlegend": false,
         "type": "scatter",
         "x": [
          "2021-09-02T00:00:00",
          "2021-09-03T00:00:00"
         ],
         "xaxis": "x",
         "y": [
          190.2,
          190.39
         ],
         "yaxis": "y"
        },
        {
         "hoverinfo": "none",
         "line": {
          "color": "green",
          "width": 3
         },
         "mode": "lines",
         "showlegend": false,
         "type": "scatter",
         "x": [
          "2021-09-03T00:00:00",
          "2021-09-04T00:00:00"
         ],
         "xaxis": "x",
         "y": [
          190.39,
          190.54
         ],
         "yaxis": "y"
        },
        {
         "hoverinfo": "none",
         "line": {
          "color": "green",
          "width": 3
         },
         "mode": "lines",
         "showlegend": false,
         "type": "scatter",
         "x": [
          "2021-09-04T00:00:00",
          "2021-09-05T00:00:00"
         ],
         "xaxis": "x",
         "y": [
          190.54,
          190.68
         ],
         "yaxis": "y"
        },
        {
         "hoverinfo": "none",
         "line": {
          "color": "green",
          "width": 3
         },
         "mode": "lines",
         "showlegend": false,
         "type": "scatter",
         "x": [
          "2021-09-05T00:00:00",
          "2021-09-06T00:00:00"
         ],
         "xaxis": "x",
         "y": [
          190.68,
          190.69
         ],
         "yaxis": "y"
        },
        {
         "hoverinfo": "none",
         "line": {
          "color": "green",
          "width": 3
         },
         "mode": "lines",
         "showlegend": false,
         "type": "scatter",
         "x": [
          "2021-09-06T00:00:00",
          "2021-09-07T00:00:00"
         ],
         "xaxis": "x",
         "y": [
          190.69,
          190.74
         ],
         "yaxis": "y"
        },
        {
         "hoverinfo": "none",
         "line": {
          "color": "red",
          "width": 3
         },
         "mode": "lines",
         "showlegend": false,
         "type": "scatter",
         "x": [
          "2021-09-07T00:00:00",
          "2021-09-08T00:00:00"
         ],
         "xaxis": "x",
         "y": [
          190.74,
          190.68
         ],
         "yaxis": "y"
        },
        {
         "hoverinfo": "none",
         "line": {
          "color": "red",
          "width": 3
         },
         "mode": "lines",
         "showlegend": false,
         "type": "scatter",
         "x": [
          "2021-09-08T00:00:00",
          "2021-09-09T00:00:00"
         ],
         "xaxis": "x",
         "y": [
          190.68,
          190.6
         ],
         "yaxis": "y"
        },
        {
         "hoverinfo": "none",
         "line": {
          "color": "green",
          "width": 3
         },
         "mode": "lines",
         "showlegend": false,
         "type": "scatter",
         "x": [
          "2021-09-09T00:00:00",
          "2021-09-10T00:00:00"
         ],
         "xaxis": "x",
         "y": [
          190.6,
          190.69
         ],
         "yaxis": "y"
        },
        {
         "hoverinfo": "none",
         "line": {
          "color": "red",
          "width": 3
         },
         "mode": "lines",
         "showlegend": false,
         "type": "scatter",
         "x": [
          "2021-09-10T00:00:00",
          "2021-09-11T00:00:00"
         ],
         "xaxis": "x",
         "y": [
          190.69,
          190.67
         ],
         "yaxis": "y"
        },
        {
         "hoverinfo": "none",
         "line": {
          "color": "green",
          "width": 3
         },
         "mode": "lines",
         "showlegend": false,
         "type": "scatter",
         "x": [
          "2021-09-11T00:00:00",
          "2021-09-12T00:00:00"
         ],
         "xaxis": "x",
         "y": [
          190.67,
          190.75
         ],
         "yaxis": "y"
        },
        {
         "hoverinfo": "none",
         "line": {
          "color": "green",
          "width": 3
         },
         "mode": "lines",
         "showlegend": false,
         "type": "scatter",
         "x": [
          "2021-09-12T00:00:00",
          "2021-09-13T00:00:00"
         ],
         "xaxis": "x",
         "y": [
          190.75,
          190.85
         ],
         "yaxis": "y"
        },
        {
         "hoverinfo": "none",
         "line": {
          "color": "green",
          "width": 3
         },
         "mode": "lines",
         "showlegend": false,
         "type": "scatter",
         "x": [
          "2021-09-13T00:00:00",
          "2021-09-14T00:00:00"
         ],
         "xaxis": "x",
         "y": [
          190.85,
          190.98
         ],
         "yaxis": "y"
        },
        {
         "hoverinfo": "none",
         "line": {
          "color": "green",
          "width": 3
         },
         "mode": "lines",
         "showlegend": false,
         "type": "scatter",
         "x": [
          "2021-09-14T00:00:00",
          "2021-09-15T00:00:00"
         ],
         "xaxis": "x",
         "y": [
          190.98,
          191.08
         ],
         "yaxis": "y"
        },
        {
         "hoverinfo": "none",
         "line": {
          "color": "green",
          "width": 3
         },
         "mode": "lines",
         "showlegend": false,
         "type": "scatter",
         "x": [
          "2021-09-15T00:00:00",
          "2021-09-16T00:00:00"
         ],
         "xaxis": "x",
         "y": [
          191.08,
          191.22
         ],
         "yaxis": "y"
        },
        {
         "hoverinfo": "none",
         "line": {
          "color": "green",
          "width": 3
         },
         "mode": "lines",
         "showlegend": false,
         "type": "scatter",
         "x": [
          "2021-09-16T00:00:00",
          "2021-09-17T00:00:00"
         ],
         "xaxis": "x",
         "y": [
          191.22,
          191.4
         ],
         "yaxis": "y"
        },
        {
         "hoverinfo": "none",
         "line": {
          "color": "green",
          "width": 3
         },
         "mode": "lines",
         "showlegend": false,
         "type": "scatter",
         "x": [
          "2021-09-17T00:00:00",
          "2021-09-18T00:00:00"
         ],
         "xaxis": "x",
         "y": [
          191.4,
          191.58
         ],
         "yaxis": "y"
        },
        {
         "hoverinfo": "none",
         "line": {
          "color": "green",
          "width": 3
         },
         "mode": "lines",
         "showlegend": false,
         "type": "scatter",
         "x": [
          "2021-09-18T00:00:00",
          "2021-09-19T00:00:00"
         ],
         "xaxis": "x",
         "y": [
          191.58,
          191.78
         ],
         "yaxis": "y"
        },
        {
         "hoverinfo": "none",
         "line": {
          "color": "green",
          "width": 3
         },
         "mode": "lines",
         "showlegend": false,
         "type": "scatter",
         "x": [
          "2021-09-19T00:00:00",
          "2021-09-20T00:00:00"
         ],
         "xaxis": "x",
         "y": [
          191.78,
          191.89
         ],
         "yaxis": "y"
        },
        {
         "hoverinfo": "none",
         "line": {
          "color": "green",
          "width": 3
         },
         "mode": "lines",
         "showlegend": false,
         "type": "scatter",
         "x": [
          "2021-09-20T00:00:00",
          "2021-09-21T00:00:00"
         ],
         "xaxis": "x",
         "y": [
          191.89,
          192
         ],
         "yaxis": "y"
        },
        {
         "hoverinfo": "none",
         "line": {
          "color": "green",
          "width": 3
         },
         "mode": "lines",
         "showlegend": false,
         "type": "scatter",
         "x": [
          "2021-09-21T00:00:00",
          "2021-09-22T00:00:00"
         ],
         "xaxis": "x",
         "y": [
          192,
          192.09
         ],
         "yaxis": "y"
        },
        {
         "hoverinfo": "none",
         "line": {
          "color": "green",
          "width": 3
         },
         "mode": "lines",
         "showlegend": false,
         "type": "scatter",
         "x": [
          "2021-09-22T00:00:00",
          "2021-09-23T00:00:00"
         ],
         "xaxis": "x",
         "y": [
          192.09,
          192.13
         ],
         "yaxis": "y"
        },
        {
         "hoverinfo": "none",
         "line": {
          "color": "green",
          "width": 3
         },
         "mode": "lines",
         "showlegend": false,
         "type": "scatter",
         "x": [
          "2021-09-23T00:00:00",
          "2021-09-24T00:00:00"
         ],
         "xaxis": "x",
         "y": [
          192.13,
          192.2
         ],
         "yaxis": "y"
        },
        {
         "hoverinfo": "none",
         "line": {
          "color": "green",
          "width": 3
         },
         "mode": "lines",
         "showlegend": false,
         "type": "scatter",
         "x": [
          "2021-09-24T00:00:00",
          "2021-09-25T00:00:00"
         ],
         "xaxis": "x",
         "y": [
          192.2,
          192.25
         ],
         "yaxis": "y"
        },
        {
         "hoverinfo": "none",
         "line": {
          "color": "green",
          "width": 3
         },
         "mode": "lines",
         "showlegend": false,
         "type": "scatter",
         "x": [
          "2021-09-25T00:00:00",
          "2021-09-26T00:00:00"
         ],
         "xaxis": "x",
         "y": [
          192.25,
          192.26
         ],
         "yaxis": "y"
        },
        {
         "hoverinfo": "none",
         "line": {
          "color": "red",
          "width": 3
         },
         "mode": "lines",
         "showlegend": false,
         "type": "scatter",
         "x": [
          "2021-09-26T00:00:00",
          "2021-09-27T00:00:00"
         ],
         "xaxis": "x",
         "y": [
          192.26,
          192.23
         ],
         "yaxis": "y"
        },
        {
         "hoverinfo": "none",
         "line": {
          "color": "red",
          "width": 3
         },
         "mode": "lines",
         "showlegend": false,
         "type": "scatter",
         "x": [
          "2021-09-27T00:00:00",
          "2021-09-28T00:00:00"
         ],
         "xaxis": "x",
         "y": [
          192.23,
          192.22
         ],
         "yaxis": "y"
        },
        {
         "hoverinfo": "none",
         "line": {
          "color": "red",
          "width": 3
         },
         "mode": "lines",
         "showlegend": false,
         "type": "scatter",
         "x": [
          "2021-09-28T00:00:00",
          "2021-09-29T00:00:00"
         ],
         "xaxis": "x",
         "y": [
          192.22,
          192.15
         ],
         "yaxis": "y"
        },
        {
         "hoverinfo": "none",
         "line": {
          "color": "red",
          "width": 3
         },
         "mode": "lines",
         "showlegend": false,
         "type": "scatter",
         "x": [
          "2021-09-29T00:00:00",
          "2021-09-30T00:00:00"
         ],
         "xaxis": "x",
         "y": [
          192.15,
          191.95
         ],
         "yaxis": "y"
        },
        {
         "hoverinfo": "none",
         "line": {
          "color": "red",
          "width": 3
         },
         "mode": "lines",
         "showlegend": false,
         "type": "scatter",
         "x": [
          "2021-09-30T00:00:00",
          "2021-10-01T00:00:00"
         ],
         "xaxis": "x",
         "y": [
          191.95,
          191.8
         ],
         "yaxis": "y"
        },
        {
         "hoverinfo": "none",
         "line": {
          "color": "red",
          "width": 3
         },
         "mode": "lines",
         "showlegend": false,
         "type": "scatter",
         "x": [
          "2021-10-01T00:00:00",
          "2021-10-02T00:00:00"
         ],
         "xaxis": "x",
         "y": [
          191.8,
          191.67
         ],
         "yaxis": "y"
        },
        {
         "hoverinfo": "none",
         "line": {
          "color": "red",
          "width": 3
         },
         "mode": "lines",
         "showlegend": false,
         "type": "scatter",
         "x": [
          "2021-10-02T00:00:00",
          "2021-10-03T00:00:00"
         ],
         "xaxis": "x",
         "y": [
          191.67,
          191.64
         ],
         "yaxis": "y"
        },
        {
         "hoverinfo": "none",
         "line": {
          "color": "red",
          "width": 3
         },
         "mode": "lines",
         "showlegend": false,
         "type": "scatter",
         "x": [
          "2021-10-03T00:00:00",
          "2021-10-04T00:00:00"
         ],
         "xaxis": "x",
         "y": [
          191.64,
          191.5
         ],
         "yaxis": "y"
        },
        {
         "hoverinfo": "none",
         "line": {
          "color": "red",
          "width": 3
         },
         "mode": "lines",
         "showlegend": false,
         "type": "scatter",
         "x": [
          "2021-10-04T00:00:00",
          "2021-10-05T00:00:00"
         ],
         "xaxis": "x",
         "y": [
          191.5,
          191.39
         ],
         "yaxis": "y"
        },
        {
         "hoverinfo": "none",
         "line": {
          "color": "red",
          "width": 3
         },
         "mode": "lines",
         "showlegend": false,
         "type": "scatter",
         "x": [
          "2021-10-05T00:00:00",
          "2021-10-06T00:00:00"
         ],
         "xaxis": "x",
         "y": [
          191.39,
          191.37
         ],
         "yaxis": "y"
        },
        {
         "hoverinfo": "none",
         "line": {
          "color": "red",
          "width": 3
         },
         "mode": "lines",
         "showlegend": false,
         "type": "scatter",
         "x": [
          "2021-10-06T00:00:00",
          "2021-10-07T00:00:00"
         ],
         "xaxis": "x",
         "y": [
          191.37,
          191.25
         ],
         "yaxis": "y"
        },
        {
         "hoverinfo": "none",
         "line": {
          "color": "green",
          "width": 3
         },
         "mode": "lines",
         "showlegend": false,
         "type": "scatter",
         "x": [
          "2021-10-07T00:00:00",
          "2021-10-08T00:00:00"
         ],
         "xaxis": "x",
         "y": [
          191.25,
          191.25
         ],
         "yaxis": "y"
        },
        {
         "hoverinfo": "none",
         "line": {
          "color": "green",
          "width": 3
         },
         "mode": "lines",
         "showlegend": false,
         "type": "scatter",
         "x": [
          "2021-10-08T00:00:00",
          "2021-10-09T00:00:00"
         ],
         "xaxis": "x",
         "y": [
          191.25,
          191.25
         ],
         "yaxis": "y"
        },
        {
         "hoverinfo": "none",
         "line": {
          "color": "green",
          "width": 3
         },
         "mode": "lines",
         "showlegend": false,
         "type": "scatter",
         "x": [
          "2021-10-09T00:00:00",
          "2021-10-10T00:00:00"
         ],
         "xaxis": "x",
         "y": [
          191.25,
          191.25
         ],
         "yaxis": "y"
        },
        {
         "hoverinfo": "none",
         "line": {
          "color": "green",
          "width": 3
         },
         "mode": "lines",
         "showlegend": false,
         "type": "scatter",
         "x": [
          "2021-10-10T00:00:00",
          "2021-10-11T00:00:00"
         ],
         "xaxis": "x",
         "y": [
          191.25,
          191.25
         ],
         "yaxis": "y"
        },
        {
         "hoverinfo": "none",
         "line": {
          "color": "green",
          "width": 3
         },
         "mode": "lines",
         "showlegend": false,
         "type": "scatter",
         "x": [
          "2021-10-11T00:00:00",
          "2021-10-12T00:00:00"
         ],
         "xaxis": "x",
         "y": [
          191.25,
          191.36
         ],
         "yaxis": "y"
        },
        {
         "hoverinfo": "none",
         "line": {
          "color": "green",
          "width": 3
         },
         "mode": "lines",
         "showlegend": false,
         "type": "scatter",
         "x": [
          "2021-10-12T00:00:00",
          "2021-10-13T00:00:00"
         ],
         "xaxis": "x",
         "y": [
          191.36,
          191.44
         ],
         "yaxis": "y"
        },
        {
         "hoverinfo": "none",
         "line": {
          "color": "red",
          "width": 3
         },
         "mode": "lines",
         "showlegend": false,
         "type": "scatter",
         "x": [
          "2021-10-13T00:00:00",
          "2021-10-14T00:00:00"
         ],
         "xaxis": "x",
         "y": [
          191.44,
          191.41
         ],
         "yaxis": "y"
        },
        {
         "hoverinfo": "none",
         "line": {
          "color": "green",
          "width": 3
         },
         "mode": "lines",
         "showlegend": false,
         "type": "scatter",
         "x": [
          "2021-10-14T00:00:00",
          "2021-10-15T00:00:00"
         ],
         "xaxis": "x",
         "y": [
          191.41,
          191.52
         ],
         "yaxis": "y"
        },
        {
         "hoverinfo": "none",
         "line": {
          "color": "green",
          "width": 3
         },
         "mode": "lines",
         "showlegend": false,
         "type": "scatter",
         "x": [
          "2021-10-15T00:00:00",
          "2021-10-16T00:00:00"
         ],
         "xaxis": "x",
         "y": [
          191.52,
          191.62
         ],
         "yaxis": "y"
        },
        {
         "hoverinfo": "none",
         "line": {
          "color": "green",
          "width": 3
         },
         "mode": "lines",
         "showlegend": false,
         "type": "scatter",
         "x": [
          "2021-10-16T00:00:00",
          "2021-10-17T00:00:00"
         ],
         "xaxis": "x",
         "y": [
          191.62,
          191.75
         ],
         "yaxis": "y"
        },
        {
         "hoverinfo": "none",
         "line": {
          "color": "green",
          "width": 3
         },
         "mode": "lines",
         "showlegend": false,
         "type": "scatter",
         "x": [
          "2021-10-17T00:00:00",
          "2021-10-18T00:00:00"
         ],
         "xaxis": "x",
         "y": [
          191.75,
          191.87
         ],
         "yaxis": "y"
        },
        {
         "hoverinfo": "none",
         "line": {
          "color": "green",
          "width": 3
         },
         "mode": "lines",
         "showlegend": false,
         "type": "scatter",
         "x": [
          "2021-10-18T00:00:00",
          "2021-10-19T00:00:00"
         ],
         "xaxis": "x",
         "y": [
          191.87,
          191.91
         ],
         "yaxis": "y"
        },
        {
         "hoverinfo": "none",
         "line": {
          "color": "green",
          "width": 3
         },
         "mode": "lines",
         "showlegend": false,
         "type": "scatter",
         "x": [
          "2021-10-19T00:00:00",
          "2021-10-20T00:00:00"
         ],
         "xaxis": "x",
         "y": [
          191.91,
          191.92
         ],
         "yaxis": "y"
        },
        {
         "hoverinfo": "none",
         "line": {
          "color": "green",
          "width": 3
         },
         "mode": "lines",
         "showlegend": false,
         "type": "scatter",
         "x": [
          "2021-10-20T00:00:00",
          "2021-10-21T00:00:00"
         ],
         "xaxis": "x",
         "y": [
          191.92,
          191.92
         ],
         "yaxis": "y"
        },
        {
         "hoverinfo": "none",
         "line": {
          "color": "green",
          "width": 3
         },
         "mode": "lines",
         "showlegend": false,
         "type": "scatter",
         "x": [
          "2021-10-21T00:00:00",
          "2021-10-22T00:00:00"
         ],
         "xaxis": "x",
         "y": [
          191.92,
          191.97
         ],
         "yaxis": "y"
        },
        {
         "hoverinfo": "none",
         "line": {
          "color": "green",
          "width": 3
         },
         "mode": "lines",
         "showlegend": false,
         "type": "scatter",
         "x": [
          "2021-10-22T00:00:00",
          "2021-10-23T00:00:00"
         ],
         "xaxis": "x",
         "y": [
          191.97,
          192
         ],
         "yaxis": "y"
        },
        {
         "hoverinfo": "none",
         "line": {
          "color": "green",
          "width": 3
         },
         "mode": "lines",
         "showlegend": false,
         "type": "scatter",
         "x": [
          "2021-10-23T00:00:00",
          "2021-10-24T00:00:00"
         ],
         "xaxis": "x",
         "y": [
          192,
          192.16
         ],
         "yaxis": "y"
        },
        {
         "hoverinfo": "none",
         "line": {
          "color": "green",
          "width": 3
         },
         "mode": "lines",
         "showlegend": false,
         "type": "scatter",
         "x": [
          "2021-10-24T00:00:00",
          "2021-10-25T00:00:00"
         ],
         "xaxis": "x",
         "y": [
          192.16,
          192.3
         ],
         "yaxis": "y"
        },
        {
         "hoverinfo": "none",
         "line": {
          "color": "green",
          "width": 3
         },
         "mode": "lines",
         "showlegend": false,
         "type": "scatter",
         "x": [
          "2021-10-25T00:00:00",
          "2021-10-26T00:00:00"
         ],
         "xaxis": "x",
         "y": [
          192.3,
          192.44
         ],
         "yaxis": "y"
        },
        {
         "hoverinfo": "none",
         "line": {
          "color": "green",
          "width": 3
         },
         "mode": "lines",
         "showlegend": false,
         "type": "scatter",
         "x": [
          "2021-10-26T00:00:00",
          "2021-10-27T00:00:00"
         ],
         "xaxis": "x",
         "y": [
          192.44,
          192.55
         ],
         "yaxis": "y"
        },
        {
         "hoverinfo": "none",
         "line": {
          "color": "green",
          "width": 3
         },
         "mode": "lines",
         "showlegend": false,
         "type": "scatter",
         "x": [
          "2021-10-27T00:00:00",
          "2021-10-28T00:00:00"
         ],
         "xaxis": "x",
         "y": [
          192.55,
          192.66
         ],
         "yaxis": "y"
        },
        {
         "hoverinfo": "none",
         "line": {
          "color": "green",
          "width": 3
         },
         "mode": "lines",
         "showlegend": false,
         "type": "scatter",
         "x": [
          "2021-10-28T00:00:00",
          "2021-10-29T00:00:00"
         ],
         "xaxis": "x",
         "y": [
          192.66,
          192.8
         ],
         "yaxis": "y"
        },
        {
         "hoverinfo": "none",
         "line": {
          "color": "green",
          "width": 3
         },
         "mode": "lines",
         "showlegend": false,
         "type": "scatter",
         "x": [
          "2021-10-29T00:00:00",
          "2021-10-30T00:00:00"
         ],
         "xaxis": "x",
         "y": [
          192.8,
          192.91
         ],
         "yaxis": "y"
        },
        {
         "hoverinfo": "none",
         "line": {
          "color": "green",
          "width": 3
         },
         "mode": "lines",
         "showlegend": false,
         "type": "scatter",
         "x": [
          "2021-10-30T00:00:00",
          "2021-10-31T00:00:00"
         ],
         "xaxis": "x",
         "y": [
          192.91,
          193.02
         ],
         "yaxis": "y"
        },
        {
         "hoverinfo": "none",
         "line": {
          "color": "red",
          "width": 3
         },
         "mode": "lines",
         "showlegend": false,
         "type": "scatter",
         "x": [
          "2021-10-31T00:00:00",
          "2021-11-01T00:00:00"
         ],
         "xaxis": "x",
         "y": [
          193.02,
          193
         ],
         "yaxis": "y"
        },
        {
         "hoverinfo": "none",
         "line": {
          "color": "red",
          "width": 3
         },
         "mode": "lines",
         "showlegend": false,
         "type": "scatter",
         "x": [
          "2021-11-01T00:00:00",
          "2021-11-02T00:00:00"
         ],
         "xaxis": "x",
         "y": [
          193,
          192.98
         ],
         "yaxis": "y"
        },
        {
         "hoverinfo": "none",
         "line": {
          "color": "red",
          "width": 3
         },
         "mode": "lines",
         "showlegend": false,
         "type": "scatter",
         "x": [
          "2021-11-02T00:00:00",
          "2021-11-03T00:00:00"
         ],
         "xaxis": "x",
         "y": [
          192.98,
          192.82
         ],
         "yaxis": "y"
        },
        {
         "hoverinfo": "none",
         "line": {
          "color": "red",
          "width": 3
         },
         "mode": "lines",
         "showlegend": false,
         "type": "scatter",
         "x": [
          "2021-11-03T00:00:00",
          "2021-11-04T00:00:00"
         ],
         "xaxis": "x",
         "y": [
          192.82,
          192.67
         ],
         "yaxis": "y"
        },
        {
         "hoverinfo": "none",
         "line": {
          "color": "red",
          "width": 3
         },
         "mode": "lines",
         "showlegend": false,
         "type": "scatter",
         "x": [
          "2021-11-04T00:00:00",
          "2021-11-05T00:00:00"
         ],
         "xaxis": "x",
         "y": [
          192.67,
          192.57
         ],
         "yaxis": "y"
        },
        {
         "hoverinfo": "none",
         "line": {
          "color": "red",
          "width": 3
         },
         "mode": "lines",
         "showlegend": false,
         "type": "scatter",
         "x": [
          "2021-11-05T00:00:00",
          "2021-11-06T00:00:00"
         ],
         "xaxis": "x",
         "y": [
          192.57,
          192.47
         ],
         "yaxis": "y"
        },
        {
         "hoverinfo": "none",
         "line": {
          "color": "green",
          "width": 3
         },
         "mode": "lines",
         "showlegend": false,
         "type": "scatter",
         "x": [
          "2021-11-06T00:00:00",
          "2021-11-07T00:00:00"
         ],
         "xaxis": "x",
         "y": [
          192.47,
          192.5
         ],
         "yaxis": "y"
        },
        {
         "hoverinfo": "none",
         "line": {
          "color": "green",
          "width": 3
         },
         "mode": "lines",
         "showlegend": false,
         "type": "scatter",
         "x": [
          "2021-11-07T00:00:00",
          "2021-11-08T00:00:00"
         ],
         "xaxis": "x",
         "y": [
          192.5,
          192.51
         ],
         "yaxis": "y"
        },
        {
         "hoverinfo": "none",
         "line": {
          "color": "green",
          "width": 3
         },
         "mode": "lines",
         "showlegend": false,
         "type": "scatter",
         "x": [
          "2021-11-08T00:00:00",
          "2021-11-09T00:00:00"
         ],
         "xaxis": "x",
         "y": [
          192.51,
          192.53
         ],
         "yaxis": "y"
        },
        {
         "hoverinfo": "none",
         "line": {
          "color": "green",
          "width": 3
         },
         "mode": "lines",
         "showlegend": false,
         "type": "scatter",
         "x": [
          "2021-11-09T00:00:00",
          "2021-11-10T00:00:00"
         ],
         "xaxis": "x",
         "y": [
          192.53,
          192.55
         ],
         "yaxis": "y"
        },
        {
         "hoverinfo": "none",
         "line": {
          "color": "green",
          "width": 3
         },
         "mode": "lines",
         "showlegend": false,
         "type": "scatter",
         "x": [
          "2021-11-10T00:00:00",
          "2021-11-11T00:00:00"
         ],
         "xaxis": "x",
         "y": [
          192.55,
          192.67
         ],
         "yaxis": "y"
        },
        {
         "hoverinfo": "none",
         "line": {
          "color": "green",
          "width": 3
         },
         "mode": "lines",
         "showlegend": false,
         "type": "scatter",
         "x": [
          "2021-11-11T00:00:00",
          "2021-11-12T00:00:00"
         ],
         "xaxis": "x",
         "y": [
          192.67,
          192.8
         ],
         "yaxis": "y"
        },
        {
         "hoverinfo": "none",
         "line": {
          "color": "green",
          "width": 3
         },
         "mode": "lines",
         "showlegend": false,
         "type": "scatter",
         "x": [
          "2021-11-12T00:00:00",
          "2021-11-13T00:00:00"
         ],
         "xaxis": "x",
         "y": [
          192.8,
          192.9
         ],
         "yaxis": "y"
        },
        {
         "hoverinfo": "none",
         "line": {
          "color": "green",
          "width": 3
         },
         "mode": "lines",
         "showlegend": false,
         "type": "scatter",
         "x": [
          "2021-11-13T00:00:00",
          "2021-11-14T00:00:00"
         ],
         "xaxis": "x",
         "y": [
          192.9,
          193.05
         ],
         "yaxis": "y"
        },
        {
         "hoverinfo": "none",
         "line": {
          "color": "green",
          "width": 3
         },
         "mode": "lines",
         "showlegend": false,
         "type": "scatter",
         "x": [
          "2021-11-14T00:00:00",
          "2021-11-15T00:00:00"
         ],
         "xaxis": "x",
         "y": [
          193.05,
          193.06
         ],
         "yaxis": "y"
        },
        {
         "hoverinfo": "none",
         "line": {
          "color": "green",
          "width": 3
         },
         "mode": "lines",
         "showlegend": false,
         "type": "scatter",
         "x": [
          "2021-11-15T00:00:00",
          "2021-11-16T00:00:00"
         ],
         "xaxis": "x",
         "y": [
          193.06,
          193.21
         ],
         "yaxis": "y"
        },
        {
         "hoverinfo": "none",
         "line": {
          "color": "green",
          "width": 3
         },
         "mode": "lines",
         "showlegend": false,
         "type": "scatter",
         "x": [
          "2021-11-16T00:00:00",
          "2021-11-17T00:00:00"
         ],
         "xaxis": "x",
         "y": [
          193.21,
          193.35
         ],
         "yaxis": "y"
        },
        {
         "hoverinfo": "none",
         "line": {
          "color": "green",
          "width": 3
         },
         "mode": "lines",
         "showlegend": false,
         "type": "scatter",
         "x": [
          "2021-11-17T00:00:00",
          "2021-11-18T00:00:00"
         ],
         "xaxis": "x",
         "y": [
          193.35,
          193.47
         ],
         "yaxis": "y"
        },
        {
         "hoverinfo": "none",
         "line": {
          "color": "green",
          "width": 3
         },
         "mode": "lines",
         "showlegend": false,
         "type": "scatter",
         "x": [
          "2021-11-18T00:00:00",
          "2021-11-19T00:00:00"
         ],
         "xaxis": "x",
         "y": [
          193.47,
          193.6
         ],
         "yaxis": "y"
        },
        {
         "hoverinfo": "none",
         "line": {
          "color": "green",
          "width": 3
         },
         "mode": "lines",
         "showlegend": false,
         "type": "scatter",
         "x": [
          "2021-11-19T00:00:00",
          "2021-11-20T00:00:00"
         ],
         "xaxis": "x",
         "y": [
          193.6,
          193.71
         ],
         "yaxis": "y"
        },
        {
         "hoverinfo": "none",
         "line": {
          "color": "green",
          "width": 3
         },
         "mode": "lines",
         "showlegend": false,
         "type": "scatter",
         "x": [
          "2021-11-20T00:00:00",
          "2021-11-21T00:00:00"
         ],
         "xaxis": "x",
         "y": [
          193.71,
          193.92
         ],
         "yaxis": "y"
        },
        {
         "hoverinfo": "none",
         "line": {
          "color": "green",
          "width": 3
         },
         "mode": "lines",
         "showlegend": false,
         "type": "scatter",
         "x": [
          "2021-11-21T00:00:00",
          "2021-11-22T00:00:00"
         ],
         "xaxis": "x",
         "y": [
          193.92,
          194.08
         ],
         "yaxis": "y"
        },
        {
         "hoverinfo": "none",
         "line": {
          "color": "green",
          "width": 3
         },
         "mode": "lines",
         "showlegend": false,
         "type": "scatter",
         "x": [
          "2021-11-22T00:00:00",
          "2021-11-23T00:00:00"
         ],
         "xaxis": "x",
         "y": [
          194.08,
          194.27
         ],
         "yaxis": "y"
        },
        {
         "hoverinfo": "none",
         "line": {
          "color": "green",
          "width": 3
         },
         "mode": "lines",
         "showlegend": false,
         "type": "scatter",
         "x": [
          "2021-11-23T00:00:00",
          "2021-11-24T00:00:00"
         ],
         "xaxis": "x",
         "y": [
          194.27,
          194.33
         ],
         "yaxis": "y"
        },
        {
         "hoverinfo": "none",
         "line": {
          "color": "green",
          "width": 3
         },
         "mode": "lines",
         "showlegend": false,
         "type": "scatter",
         "x": [
          "2021-11-24T00:00:00",
          "2021-11-25T00:00:00"
         ],
         "xaxis": "x",
         "y": [
          194.33,
          194.35
         ],
         "yaxis": "y"
        },
        {
         "hoverinfo": "none",
         "line": {
          "color": "green",
          "width": 3
         },
         "mode": "lines",
         "showlegend": false,
         "type": "scatter",
         "x": [
          "2021-11-25T00:00:00",
          "2021-11-26T00:00:00"
         ],
         "xaxis": "x",
         "y": [
          194.35,
          194.41
         ],
         "yaxis": "y"
        },
        {
         "hoverinfo": "none",
         "line": {
          "color": "green",
          "width": 3
         },
         "mode": "lines",
         "showlegend": false,
         "type": "scatter",
         "x": [
          "2021-11-26T00:00:00",
          "2021-11-27T00:00:00"
         ],
         "xaxis": "x",
         "y": [
          194.41,
          194.44
         ],
         "yaxis": "y"
        },
        {
         "hoverinfo": "none",
         "line": {
          "color": "green",
          "width": 3
         },
         "mode": "lines",
         "showlegend": false,
         "type": "scatter",
         "x": [
          "2021-11-27T00:00:00",
          "2021-11-28T00:00:00"
         ],
         "xaxis": "x",
         "y": [
          194.44,
          194.48
         ],
         "yaxis": "y"
        },
        {
         "hoverinfo": "none",
         "line": {
          "color": "red",
          "width": 3
         },
         "mode": "lines",
         "showlegend": false,
         "type": "scatter",
         "x": [
          "2021-11-28T00:00:00",
          "2021-11-29T00:00:00"
         ],
         "xaxis": "x",
         "y": [
          194.48,
          194.4
         ],
         "yaxis": "y"
        },
        {
         "hoverinfo": "none",
         "line": {
          "color": "red",
          "width": 3
         },
         "mode": "lines",
         "showlegend": false,
         "type": "scatter",
         "x": [
          "2021-11-29T00:00:00",
          "2021-11-30T00:00:00"
         ],
         "xaxis": "x",
         "y": [
          194.4,
          194.32
         ],
         "yaxis": "y"
        },
        {
         "hoverinfo": "none",
         "line": {
          "color": "red",
          "width": 3
         },
         "mode": "lines",
         "showlegend": false,
         "type": "scatter",
         "x": [
          "2021-11-30T00:00:00",
          "2021-12-01T00:00:00"
         ],
         "xaxis": "x",
         "y": [
          194.32,
          194.19
         ],
         "yaxis": "y"
        },
        {
         "hoverinfo": "none",
         "line": {
          "color": "red",
          "width": 3
         },
         "mode": "lines",
         "showlegend": false,
         "type": "scatter",
         "x": [
          "2021-12-01T00:00:00",
          "2021-12-02T00:00:00"
         ],
         "xaxis": "x",
         "y": [
          194.19,
          193.94
         ],
         "yaxis": "y"
        },
        {
         "hoverinfo": "none",
         "line": {
          "color": "red",
          "width": 3
         },
         "mode": "lines",
         "showlegend": false,
         "type": "scatter",
         "x": [
          "2021-12-02T00:00:00",
          "2021-12-03T00:00:00"
         ],
         "xaxis": "x",
         "y": [
          193.94,
          193.82
         ],
         "yaxis": "y"
        },
        {
         "hoverinfo": "none",
         "line": {
          "color": "red",
          "width": 3
         },
         "mode": "lines",
         "showlegend": false,
         "type": "scatter",
         "x": [
          "2021-12-03T00:00:00",
          "2021-12-04T00:00:00"
         ],
         "xaxis": "x",
         "y": [
          193.82,
          193.73
         ],
         "yaxis": "y"
        },
        {
         "hoverinfo": "none",
         "line": {
          "color": "red",
          "width": 3
         },
         "mode": "lines",
         "showlegend": false,
         "type": "scatter",
         "x": [
          "2021-12-04T00:00:00",
          "2021-12-05T00:00:00"
         ],
         "xaxis": "x",
         "y": [
          193.73,
          193.68
         ],
         "yaxis": "y"
        },
        {
         "hoverinfo": "none",
         "line": {
          "color": "red",
          "width": 3
         },
         "mode": "lines",
         "showlegend": false,
         "type": "scatter",
         "x": [
          "2021-12-05T00:00:00",
          "2021-12-06T00:00:00"
         ],
         "xaxis": "x",
         "y": [
          193.68,
          193.61
         ],
         "yaxis": "y"
        },
        {
         "hoverinfo": "none",
         "line": {
          "color": "red",
          "width": 3
         },
         "mode": "lines",
         "showlegend": false,
         "type": "scatter",
         "x": [
          "2021-12-06T00:00:00",
          "2021-12-07T00:00:00"
         ],
         "xaxis": "x",
         "y": [
          193.61,
          193.6
         ],
         "yaxis": "y"
        },
        {
         "hoverinfo": "none",
         "line": {
          "color": "red",
          "width": 3
         },
         "mode": "lines",
         "showlegend": false,
         "type": "scatter",
         "x": [
          "2021-12-07T00:00:00",
          "2021-12-08T00:00:00"
         ],
         "xaxis": "x",
         "y": [
          193.6,
          193.58
         ],
         "yaxis": "y"
        },
        {
         "hoverinfo": "none",
         "line": {
          "color": "red",
          "width": 3
         },
         "mode": "lines",
         "showlegend": false,
         "type": "scatter",
         "x": [
          "2021-12-08T00:00:00",
          "2021-12-09T00:00:00"
         ],
         "xaxis": "x",
         "y": [
          193.58,
          193.56
         ],
         "yaxis": "y"
        },
        {
         "hoverinfo": "none",
         "line": {
          "color": "green",
          "width": 3
         },
         "mode": "lines",
         "showlegend": false,
         "type": "scatter",
         "x": [
          "2021-12-09T00:00:00",
          "2021-12-10T00:00:00"
         ],
         "xaxis": "x",
         "y": [
          193.56,
          193.67
         ],
         "yaxis": "y"
        },
        {
         "hoverinfo": "none",
         "line": {
          "color": "green",
          "width": 3
         },
         "mode": "lines",
         "showlegend": false,
         "type": "scatter",
         "x": [
          "2021-12-10T00:00:00",
          "2021-12-11T00:00:00"
         ],
         "xaxis": "x",
         "y": [
          193.67,
          193.69
         ],
         "yaxis": "y"
        },
        {
         "hoverinfo": "none",
         "line": {
          "color": "green",
          "width": 3
         },
         "mode": "lines",
         "showlegend": false,
         "type": "scatter",
         "x": [
          "2021-12-11T00:00:00",
          "2021-12-12T00:00:00"
         ],
         "xaxis": "x",
         "y": [
          193.69,
          193.72
         ],
         "yaxis": "y"
        },
        {
         "hoverinfo": "none",
         "line": {
          "color": "green",
          "width": 3
         },
         "mode": "lines",
         "showlegend": false,
         "type": "scatter",
         "x": [
          "2021-12-12T00:00:00",
          "2021-12-13T00:00:00"
         ],
         "xaxis": "x",
         "y": [
          193.72,
          193.74
         ],
         "yaxis": "y"
        },
        {
         "hoverinfo": "none",
         "line": {
          "color": "green",
          "width": 3
         },
         "mode": "lines",
         "showlegend": false,
         "type": "scatter",
         "x": [
          "2021-12-13T00:00:00",
          "2021-12-14T00:00:00"
         ],
         "xaxis": "x",
         "y": [
          193.74,
          193.77
         ],
         "yaxis": "y"
        },
        {
         "hoverinfo": "none",
         "line": {
          "color": "green",
          "width": 3
         },
         "mode": "lines",
         "showlegend": false,
         "type": "scatter",
         "x": [
          "2021-12-14T00:00:00",
          "2021-12-15T00:00:00"
         ],
         "xaxis": "x",
         "y": [
          193.77,
          193.77
         ],
         "yaxis": "y"
        },
        {
         "hoverinfo": "none",
         "line": {
          "color": "red",
          "width": 3
         },
         "mode": "lines",
         "showlegend": false,
         "type": "scatter",
         "x": [
          "2021-12-15T00:00:00",
          "2021-12-16T00:00:00"
         ],
         "xaxis": "x",
         "y": [
          193.77,
          193.75
         ],
         "yaxis": "y"
        },
        {
         "hoverinfo": "none",
         "line": {
          "color": "green",
          "width": 3
         },
         "mode": "lines",
         "showlegend": false,
         "type": "scatter",
         "x": [
          "2021-12-16T00:00:00",
          "2021-12-17T00:00:00"
         ],
         "xaxis": "x",
         "y": [
          193.75,
          193.75
         ],
         "yaxis": "y"
        },
        {
         "hoverinfo": "none",
         "line": {
          "color": "green",
          "width": 3
         },
         "mode": "lines",
         "showlegend": false,
         "type": "scatter",
         "x": [
          "2021-12-17T00:00:00",
          "2021-12-18T00:00:00"
         ],
         "xaxis": "x",
         "y": [
          193.75,
          193.77
         ],
         "yaxis": "y"
        },
        {
         "hoverinfo": "none",
         "line": {
          "color": "red",
          "width": 3
         },
         "mode": "lines",
         "showlegend": false,
         "type": "scatter",
         "x": [
          "2021-12-18T00:00:00",
          "2021-12-19T00:00:00"
         ],
         "xaxis": "x",
         "y": [
          193.77,
          193.75
         ],
         "yaxis": "y"
        },
        {
         "hoverinfo": "none",
         "line": {
          "color": "red",
          "width": 3
         },
         "mode": "lines",
         "showlegend": false,
         "type": "scatter",
         "x": [
          "2021-12-19T00:00:00",
          "2021-12-20T00:00:00"
         ],
         "xaxis": "x",
         "y": [
          193.75,
          193.69
         ],
         "yaxis": "y"
        },
        {
         "hoverinfo": "none",
         "line": {
          "color": "green",
          "width": 3
         },
         "mode": "lines",
         "showlegend": false,
         "type": "scatter",
         "x": [
          "2021-12-20T00:00:00",
          "2021-12-21T00:00:00"
         ],
         "xaxis": "x",
         "y": [
          193.69,
          193.72
         ],
         "yaxis": "y"
        },
        {
         "hoverinfo": "none",
         "line": {
          "color": "green",
          "width": 3
         },
         "mode": "lines",
         "showlegend": false,
         "type": "scatter",
         "x": [
          "2021-12-21T00:00:00",
          "2021-12-22T00:00:00"
         ],
         "xaxis": "x",
         "y": [
          193.72,
          193.73
         ],
         "yaxis": "y"
        },
        {
         "hoverinfo": "none",
         "line": {
          "color": "red",
          "width": 3
         },
         "mode": "lines",
         "showlegend": false,
         "type": "scatter",
         "x": [
          "2021-12-22T00:00:00",
          "2021-12-23T00:00:00"
         ],
         "xaxis": "x",
         "y": [
          193.73,
          193.61
         ],
         "yaxis": "y"
        },
        {
         "hoverinfo": "none",
         "line": {
          "color": "red",
          "width": 3
         },
         "mode": "lines",
         "showlegend": false,
         "type": "scatter",
         "x": [
          "2021-12-23T00:00:00",
          "2021-12-24T00:00:00"
         ],
         "xaxis": "x",
         "y": [
          193.61,
          193.52
         ],
         "yaxis": "y"
        },
        {
         "hoverinfo": "none",
         "line": {
          "color": "red",
          "width": 3
         },
         "mode": "lines",
         "showlegend": false,
         "type": "scatter",
         "x": [
          "2021-12-24T00:00:00",
          "2021-12-25T00:00:00"
         ],
         "xaxis": "x",
         "y": [
          193.52,
          193.43
         ],
         "yaxis": "y"
        },
        {
         "hoverinfo": "none",
         "line": {
          "color": "green",
          "width": 3
         },
         "mode": "lines",
         "showlegend": false,
         "type": "scatter",
         "x": [
          "2021-12-25T00:00:00",
          "2021-12-26T00:00:00"
         ],
         "xaxis": "x",
         "y": [
          193.43,
          193.45
         ],
         "yaxis": "y"
        },
        {
         "hoverinfo": "none",
         "line": {
          "color": "green",
          "width": 3
         },
         "mode": "lines",
         "showlegend": false,
         "type": "scatter",
         "x": [
          "2021-12-26T00:00:00",
          "2021-12-27T00:00:00"
         ],
         "xaxis": "x",
         "y": [
          193.45,
          193.46
         ],
         "yaxis": "y"
        },
        {
         "hoverinfo": "none",
         "line": {
          "color": "green",
          "width": 3
         },
         "mode": "lines",
         "showlegend": false,
         "type": "scatter",
         "x": [
          "2021-12-27T00:00:00",
          "2021-12-28T00:00:00"
         ],
         "xaxis": "x",
         "y": [
          193.46,
          193.48
         ],
         "yaxis": "y"
        },
        {
         "hoverinfo": "none",
         "line": {
          "color": "red",
          "width": 3
         },
         "mode": "lines",
         "showlegend": false,
         "type": "scatter",
         "x": [
          "2021-12-28T00:00:00",
          "2021-12-29T00:00:00"
         ],
         "xaxis": "x",
         "y": [
          193.48,
          193.4
         ],
         "yaxis": "y"
        },
        {
         "hoverinfo": "none",
         "line": {
          "color": "red",
          "width": 3
         },
         "mode": "lines",
         "showlegend": false,
         "type": "scatter",
         "x": [
          "2021-12-29T00:00:00",
          "2021-12-30T00:00:00"
         ],
         "xaxis": "x",
         "y": [
          193.4,
          193.2
         ],
         "yaxis": "y"
        },
        {
         "hoverinfo": "none",
         "line": {
          "color": "red",
          "width": 3
         },
         "mode": "lines",
         "showlegend": false,
         "type": "scatter",
         "x": [
          "2021-12-30T00:00:00",
          "2021-12-31T00:00:00"
         ],
         "xaxis": "x",
         "y": [
          193.2,
          193.13
         ],
         "yaxis": "y"
        },
        {
         "hoverinfo": "none",
         "line": {
          "color": "red",
          "width": 3
         },
         "mode": "lines",
         "showlegend": false,
         "type": "scatter",
         "x": [
          "2021-12-31T00:00:00",
          "2022-01-01T00:00:00"
         ],
         "xaxis": "x",
         "y": [
          193.13,
          193.08
         ],
         "yaxis": "y"
        },
        {
         "hoverinfo": "none",
         "line": {
          "color": "green",
          "width": 3
         },
         "mode": "lines",
         "showlegend": false,
         "type": "scatter",
         "x": [
          "2022-01-01T00:00:00",
          "2022-01-02T00:00:00"
         ],
         "xaxis": "x",
         "y": [
          193.08,
          193.11
         ],
         "yaxis": "y"
        },
        {
         "hoverinfo": "none",
         "line": {
          "color": "red",
          "width": 3
         },
         "mode": "lines",
         "showlegend": false,
         "type": "scatter",
         "x": [
          "2022-01-02T00:00:00",
          "2022-01-03T00:00:00"
         ],
         "xaxis": "x",
         "y": [
          193.11,
          193.05
         ],
         "yaxis": "y"
        },
        {
         "hoverinfo": "none",
         "line": {
          "color": "red",
          "width": 3
         },
         "mode": "lines",
         "showlegend": false,
         "type": "scatter",
         "x": [
          "2022-01-03T00:00:00",
          "2022-01-04T00:00:00"
         ],
         "xaxis": "x",
         "y": [
          193.05,
          192.9
         ],
         "yaxis": "y"
        },
        {
         "hoverinfo": "none",
         "line": {
          "color": "red",
          "width": 3
         },
         "mode": "lines",
         "showlegend": false,
         "type": "scatter",
         "x": [
          "2022-01-04T00:00:00",
          "2022-01-05T00:00:00"
         ],
         "xaxis": "x",
         "y": [
          192.9,
          192.86
         ],
         "yaxis": "y"
        },
        {
         "hoverinfo": "none",
         "line": {
          "color": "red",
          "width": 3
         },
         "mode": "lines",
         "showlegend": false,
         "type": "scatter",
         "x": [
          "2022-01-05T00:00:00",
          "2022-01-06T00:00:00"
         ],
         "xaxis": "x",
         "y": [
          192.86,
          192.71
         ],
         "yaxis": "y"
        },
        {
         "hoverinfo": "none",
         "line": {
          "color": "green",
          "width": 3
         },
         "mode": "lines",
         "showlegend": false,
         "type": "scatter",
         "x": [
          "2022-01-06T00:00:00",
          "2022-01-07T00:00:00"
         ],
         "xaxis": "x",
         "y": [
          192.71,
          192.75
         ],
         "yaxis": "y"
        },
        {
         "hoverinfo": "none",
         "line": {
          "color": "green",
          "width": 3
         },
         "mode": "lines",
         "showlegend": false,
         "type": "scatter",
         "x": [
          "2022-01-07T00:00:00",
          "2022-01-08T00:00:00"
         ],
         "xaxis": "x",
         "y": [
          192.75,
          192.83
         ],
         "yaxis": "y"
        },
        {
         "hoverinfo": "none",
         "line": {
          "color": "green",
          "width": 3
         },
         "mode": "lines",
         "showlegend": false,
         "type": "scatter",
         "x": [
          "2022-01-08T00:00:00",
          "2022-01-09T00:00:00"
         ],
         "xaxis": "x",
         "y": [
          192.83,
          192.97
         ],
         "yaxis": "y"
        },
        {
         "hoverinfo": "none",
         "line": {
          "color": "green",
          "width": 3
         },
         "mode": "lines",
         "showlegend": false,
         "type": "scatter",
         "x": [
          "2022-01-09T00:00:00",
          "2022-01-10T00:00:00"
         ],
         "xaxis": "x",
         "y": [
          192.97,
          193.17
         ],
         "yaxis": "y"
        },
        {
         "hoverinfo": "none",
         "line": {
          "color": "green",
          "width": 3
         },
         "mode": "lines",
         "showlegend": false,
         "type": "scatter",
         "x": [
          "2022-01-10T00:00:00",
          "2022-01-11T00:00:00"
         ],
         "xaxis": "x",
         "y": [
          193.17,
          193.29
         ],
         "yaxis": "y"
        },
        {
         "hoverinfo": "none",
         "line": {
          "color": "green",
          "width": 3
         },
         "mode": "lines",
         "showlegend": false,
         "type": "scatter",
         "x": [
          "2022-01-11T00:00:00",
          "2022-01-12T00:00:00"
         ],
         "xaxis": "x",
         "y": [
          193.29,
          193.61
         ],
         "yaxis": "y"
        },
        {
         "hoverinfo": "none",
         "line": {
          "color": "green",
          "width": 3
         },
         "mode": "lines",
         "showlegend": false,
         "type": "scatter",
         "x": [
          "2022-01-12T00:00:00",
          "2022-01-13T00:00:00"
         ],
         "xaxis": "x",
         "y": [
          193.61,
          193.71
         ],
         "yaxis": "y"
        },
        {
         "hoverinfo": "none",
         "line": {
          "color": "green",
          "width": 3
         },
         "mode": "lines",
         "showlegend": false,
         "type": "scatter",
         "x": [
          "2022-01-13T00:00:00",
          "2022-01-14T00:00:00"
         ],
         "xaxis": "x",
         "y": [
          193.71,
          193.97
         ],
         "yaxis": "y"
        },
        {
         "hoverinfo": "none",
         "line": {
          "color": "green",
          "width": 3
         },
         "mode": "lines",
         "showlegend": false,
         "type": "scatter",
         "x": [
          "2022-01-14T00:00:00",
          "2022-01-15T00:00:00"
         ],
         "xaxis": "x",
         "y": [
          193.97,
          194.23
         ],
         "yaxis": "y"
        },
        {
         "hoverinfo": "none",
         "line": {
          "color": "green",
          "width": 3
         },
         "mode": "lines",
         "showlegend": false,
         "type": "scatter",
         "x": [
          "2022-01-15T00:00:00",
          "2022-01-16T00:00:00"
         ],
         "xaxis": "x",
         "y": [
          194.23,
          194.49
         ],
         "yaxis": "y"
        },
        {
         "hoverinfo": "none",
         "line": {
          "color": "green",
          "width": 3
         },
         "mode": "lines",
         "showlegend": false,
         "type": "scatter",
         "x": [
          "2022-01-16T00:00:00",
          "2022-01-17T00:00:00"
         ],
         "xaxis": "x",
         "y": [
          194.49,
          194.73
         ],
         "yaxis": "y"
        },
        {
         "hoverinfo": "none",
         "line": {
          "color": "green",
          "width": 3
         },
         "mode": "lines",
         "showlegend": false,
         "type": "scatter",
         "x": [
          "2022-01-17T00:00:00",
          "2022-01-18T00:00:00"
         ],
         "xaxis": "x",
         "y": [
          194.73,
          194.87
         ],
         "yaxis": "y"
        },
        {
         "hoverinfo": "none",
         "line": {
          "color": "green",
          "width": 3
         },
         "mode": "lines",
         "showlegend": false,
         "type": "scatter",
         "x": [
          "2022-01-18T00:00:00",
          "2022-01-19T00:00:00"
         ],
         "xaxis": "x",
         "y": [
          194.87,
          195.08
         ],
         "yaxis": "y"
        },
        {
         "hoverinfo": "none",
         "line": {
          "color": "green",
          "width": 3
         },
         "mode": "lines",
         "showlegend": false,
         "type": "scatter",
         "x": [
          "2022-01-19T00:00:00",
          "2022-01-20T00:00:00"
         ],
         "xaxis": "x",
         "y": [
          195.08,
          195.17
         ],
         "yaxis": "y"
        },
        {
         "hoverinfo": "none",
         "line": {
          "color": "green",
          "width": 3
         },
         "mode": "lines",
         "showlegend": false,
         "type": "scatter",
         "x": [
          "2022-01-20T00:00:00",
          "2022-01-21T00:00:00"
         ],
         "xaxis": "x",
         "y": [
          195.17,
          195.41
         ],
         "yaxis": "y"
        },
        {
         "hoverinfo": "none",
         "line": {
          "color": "green",
          "width": 3
         },
         "mode": "lines",
         "showlegend": false,
         "type": "scatter",
         "x": [
          "2022-01-21T00:00:00",
          "2022-01-22T00:00:00"
         ],
         "xaxis": "x",
         "y": [
          195.41,
          195.67
         ],
         "yaxis": "y"
        },
        {
         "hoverinfo": "none",
         "line": {
          "color": "green",
          "width": 3
         },
         "mode": "lines",
         "showlegend": false,
         "type": "scatter",
         "x": [
          "2022-01-22T00:00:00",
          "2022-01-23T00:00:00"
         ],
         "xaxis": "x",
         "y": [
          195.67,
          195.91
         ],
         "yaxis": "y"
        },
        {
         "hoverinfo": "none",
         "line": {
          "color": "green",
          "width": 3
         },
         "mode": "lines",
         "showlegend": false,
         "type": "scatter",
         "x": [
          "2022-01-23T00:00:00",
          "2022-01-24T00:00:00"
         ],
         "xaxis": "x",
         "y": [
          195.91,
          196.09
         ],
         "yaxis": "y"
        },
        {
         "hoverinfo": "none",
         "line": {
          "color": "green",
          "width": 3
         },
         "mode": "lines",
         "showlegend": false,
         "type": "scatter",
         "x": [
          "2022-01-24T00:00:00",
          "2022-01-25T00:00:00"
         ],
         "xaxis": "x",
         "y": [
          196.09,
          196.26
         ],
         "yaxis": "y"
        },
        {
         "hoverinfo": "none",
         "line": {
          "color": "green",
          "width": 3
         },
         "mode": "lines",
         "showlegend": false,
         "type": "scatter",
         "x": [
          "2022-01-25T00:00:00",
          "2022-01-26T00:00:00"
         ],
         "xaxis": "x",
         "y": [
          196.26,
          196.39
         ],
         "yaxis": "y"
        },
        {
         "hoverinfo": "none",
         "line": {
          "color": "red",
          "width": 3
         },
         "mode": "lines",
         "showlegend": false,
         "type": "scatter",
         "x": [
          "2022-01-26T00:00:00",
          "2022-01-27T00:00:00"
         ],
         "xaxis": "x",
         "y": [
          196.39,
          196.37
         ],
         "yaxis": "y"
        },
        {
         "hoverinfo": "none",
         "line": {
          "color": "green",
          "width": 3
         },
         "mode": "lines",
         "showlegend": false,
         "type": "scatter",
         "x": [
          "2022-01-27T00:00:00",
          "2022-01-28T00:00:00"
         ],
         "xaxis": "x",
         "y": [
          196.37,
          196.44
         ],
         "yaxis": "y"
        },
        {
         "hoverinfo": "none",
         "line": {
          "color": "green",
          "width": 3
         },
         "mode": "lines",
         "showlegend": false,
         "type": "scatter",
         "x": [
          "2022-01-28T00:00:00",
          "2022-01-29T00:00:00"
         ],
         "xaxis": "x",
         "y": [
          196.44,
          196.5
         ],
         "yaxis": "y"
        },
        {
         "hoverinfo": "none",
         "line": {
          "color": "green",
          "width": 3
         },
         "mode": "lines",
         "showlegend": false,
         "type": "scatter",
         "x": [
          "2022-01-29T00:00:00",
          "2022-01-30T00:00:00"
         ],
         "xaxis": "x",
         "y": [
          196.5,
          196.5
         ],
         "yaxis": "y"
        },
        {
         "hoverinfo": "none",
         "line": {
          "color": "red",
          "width": 3
         },
         "mode": "lines",
         "showlegend": false,
         "type": "scatter",
         "x": [
          "2022-01-30T00:00:00",
          "2022-01-31T00:00:00"
         ],
         "xaxis": "x",
         "y": [
          196.5,
          196.46
         ],
         "yaxis": "y"
        },
        {
         "hoverinfo": "none",
         "line": {
          "color": "red",
          "width": 3
         },
         "mode": "lines",
         "showlegend": false,
         "type": "scatter",
         "x": [
          "2022-01-31T00:00:00",
          "2022-02-01T00:00:00"
         ],
         "xaxis": "x",
         "y": [
          196.46,
          196.43
         ],
         "yaxis": "y"
        },
        {
         "hoverinfo": "none",
         "line": {
          "color": "red",
          "width": 3
         },
         "mode": "lines",
         "showlegend": false,
         "type": "scatter",
         "x": [
          "2022-02-01T00:00:00",
          "2022-02-02T00:00:00"
         ],
         "xaxis": "x",
         "y": [
          196.43,
          196.36
         ],
         "yaxis": "y"
        },
        {
         "hoverinfo": "none",
         "line": {
          "color": "red",
          "width": 3
         },
         "mode": "lines",
         "showlegend": false,
         "type": "scatter",
         "x": [
          "2022-02-02T00:00:00",
          "2022-02-03T00:00:00"
         ],
         "xaxis": "x",
         "y": [
          196.36,
          196.23
         ],
         "yaxis": "y"
        },
        {
         "hoverinfo": "none",
         "line": {
          "color": "green",
          "width": 3
         },
         "mode": "lines",
         "showlegend": false,
         "type": "scatter",
         "x": [
          "2022-02-03T00:00:00",
          "2022-02-04T00:00:00"
         ],
         "xaxis": "x",
         "y": [
          196.23,
          196.23
         ],
         "yaxis": "y"
        },
        {
         "hoverinfo": "none",
         "line": {
          "color": "red",
          "width": 3
         },
         "mode": "lines",
         "showlegend": false,
         "type": "scatter",
         "x": [
          "2022-02-04T00:00:00",
          "2022-02-05T00:00:00"
         ],
         "xaxis": "x",
         "y": [
          196.23,
          196.17
         ],
         "yaxis": "y"
        },
        {
         "hoverinfo": "none",
         "line": {
          "color": "red",
          "width": 3
         },
         "mode": "lines",
         "showlegend": false,
         "type": "scatter",
         "x": [
          "2022-02-05T00:00:00",
          "2022-02-06T00:00:00"
         ],
         "xaxis": "x",
         "y": [
          196.17,
          196.07
         ],
         "yaxis": "y"
        },
        {
         "hoverinfo": "none",
         "line": {
          "color": "red",
          "width": 3
         },
         "mode": "lines",
         "showlegend": false,
         "type": "scatter",
         "x": [
          "2022-02-06T00:00:00",
          "2022-02-07T00:00:00"
         ],
         "xaxis": "x",
         "y": [
          196.07,
          195.97
         ],
         "yaxis": "y"
        },
        {
         "hoverinfo": "none",
         "line": {
          "color": "red",
          "width": 3
         },
         "mode": "lines",
         "showlegend": false,
         "type": "scatter",
         "x": [
          "2022-02-07T00:00:00",
          "2022-02-08T00:00:00"
         ],
         "xaxis": "x",
         "y": [
          195.97,
          195.92
         ],
         "yaxis": "y"
        },
        {
         "hoverinfo": "none",
         "line": {
          "color": "red",
          "width": 3
         },
         "mode": "lines",
         "showlegend": false,
         "type": "scatter",
         "x": [
          "2022-02-08T00:00:00",
          "2022-02-09T00:00:00"
         ],
         "xaxis": "x",
         "y": [
          195.92,
          195.84
         ],
         "yaxis": "y"
        },
        {
         "hoverinfo": "none",
         "line": {
          "color": "red",
          "width": 3
         },
         "mode": "lines",
         "showlegend": false,
         "type": "scatter",
         "x": [
          "2022-02-09T00:00:00",
          "2022-02-10T00:00:00"
         ],
         "xaxis": "x",
         "y": [
          195.84,
          195.63
         ],
         "yaxis": "y"
        },
        {
         "hoverinfo": "none",
         "line": {
          "color": "red",
          "width": 3
         },
         "mode": "lines",
         "showlegend": false,
         "type": "scatter",
         "x": [
          "2022-02-10T00:00:00",
          "2022-02-11T00:00:00"
         ],
         "xaxis": "x",
         "y": [
          195.63,
          195.62
         ],
         "yaxis": "y"
        },
        {
         "hoverinfo": "none",
         "line": {
          "color": "red",
          "width": 3
         },
         "mode": "lines",
         "showlegend": false,
         "type": "scatter",
         "x": [
          "2022-02-11T00:00:00",
          "2022-02-12T00:00:00"
         ],
         "xaxis": "x",
         "y": [
          195.62,
          195.6
         ],
         "yaxis": "y"
        },
        {
         "hoverinfo": "none",
         "line": {
          "color": "green",
          "width": 3
         },
         "mode": "lines",
         "showlegend": false,
         "type": "scatter",
         "x": [
          "2022-02-12T00:00:00",
          "2022-02-13T00:00:00"
         ],
         "xaxis": "x",
         "y": [
          195.6,
          195.62
         ],
         "yaxis": "y"
        },
        {
         "hoverinfo": "none",
         "line": {
          "color": "green",
          "width": 3
         },
         "mode": "lines",
         "showlegend": false,
         "type": "scatter",
         "x": [
          "2022-02-13T00:00:00",
          "2022-02-14T00:00:00"
         ],
         "xaxis": "x",
         "y": [
          195.62,
          195.63
         ],
         "yaxis": "y"
        },
        {
         "hoverinfo": "none",
         "line": {
          "color": "green",
          "width": 3
         },
         "mode": "lines",
         "showlegend": false,
         "type": "scatter",
         "x": [
          "2022-02-14T00:00:00",
          "2022-02-15T00:00:00"
         ],
         "xaxis": "x",
         "y": [
          195.63,
          195.68
         ],
         "yaxis": "y"
        },
        {
         "hoverinfo": "none",
         "line": {
          "color": "green",
          "width": 3
         },
         "mode": "lines",
         "showlegend": false,
         "type": "scatter",
         "x": [
          "2022-02-15T00:00:00",
          "2022-02-16T00:00:00"
         ],
         "xaxis": "x",
         "y": [
          195.68,
          195.72
         ],
         "yaxis": "y"
        },
        {
         "hoverinfo": "none",
         "line": {
          "color": "green",
          "width": 3
         },
         "mode": "lines",
         "showlegend": false,
         "type": "scatter",
         "x": [
          "2022-02-16T00:00:00",
          "2022-02-17T00:00:00"
         ],
         "xaxis": "x",
         "y": [
          195.72,
          195.73
         ],
         "yaxis": "y"
        },
        {
         "hoverinfo": "none",
         "line": {
          "color": "green",
          "width": 3
         },
         "mode": "lines",
         "showlegend": false,
         "type": "scatter",
         "x": [
          "2022-02-17T00:00:00",
          "2022-02-18T00:00:00"
         ],
         "xaxis": "x",
         "y": [
          195.73,
          195.92
         ],
         "yaxis": "y"
        },
        {
         "hoverinfo": "none",
         "line": {
          "color": "green",
          "width": 3
         },
         "mode": "lines",
         "showlegend": false,
         "type": "scatter",
         "x": [
          "2022-02-18T00:00:00",
          "2022-02-19T00:00:00"
         ],
         "xaxis": "x",
         "y": [
          195.92,
          195.99
         ],
         "yaxis": "y"
        },
        {
         "hoverinfo": "none",
         "line": {
          "color": "green",
          "width": 3
         },
         "mode": "lines",
         "showlegend": false,
         "type": "scatter",
         "x": [
          "2022-02-19T00:00:00",
          "2022-02-20T00:00:00"
         ],
         "xaxis": "x",
         "y": [
          195.99,
          196.08
         ],
         "yaxis": "y"
        },
        {
         "hoverinfo": "none",
         "line": {
          "color": "green",
          "width": 3
         },
         "mode": "lines",
         "showlegend": false,
         "type": "scatter",
         "x": [
          "2022-02-20T00:00:00",
          "2022-02-21T00:00:00"
         ],
         "xaxis": "x",
         "y": [
          196.08,
          196.24
         ],
         "yaxis": "y"
        },
        {
         "hoverinfo": "none",
         "line": {
          "color": "green",
          "width": 3
         },
         "mode": "lines",
         "showlegend": false,
         "type": "scatter",
         "x": [
          "2022-02-21T00:00:00",
          "2022-02-22T00:00:00"
         ],
         "xaxis": "x",
         "y": [
          196.24,
          196.4
         ],
         "yaxis": "y"
        },
        {
         "hoverinfo": "none",
         "line": {
          "color": "green",
          "width": 3
         },
         "mode": "lines",
         "showlegend": false,
         "type": "scatter",
         "x": [
          "2022-02-22T00:00:00",
          "2022-02-23T00:00:00"
         ],
         "xaxis": "x",
         "y": [
          196.4,
          196.49
         ],
         "yaxis": "y"
        },
        {
         "hoverinfo": "none",
         "line": {
          "color": "green",
          "width": 3
         },
         "mode": "lines",
         "showlegend": false,
         "type": "scatter",
         "x": [
          "2022-02-23T00:00:00",
          "2022-02-24T00:00:00"
         ],
         "xaxis": "x",
         "y": [
          196.49,
          196.57
         ],
         "yaxis": "y"
        },
        {
         "hoverinfo": "none",
         "line": {
          "color": "green",
          "width": 3
         },
         "mode": "lines",
         "showlegend": false,
         "type": "scatter",
         "x": [
          "2022-02-24T00:00:00",
          "2022-02-25T00:00:00"
         ],
         "xaxis": "x",
         "y": [
          196.57,
          196.71
         ],
         "yaxis": "y"
        },
        {
         "hoverinfo": "none",
         "line": {
          "color": "green",
          "width": 3
         },
         "mode": "lines",
         "showlegend": false,
         "type": "scatter",
         "x": [
          "2022-02-25T00:00:00",
          "2022-02-26T00:00:00"
         ],
         "xaxis": "x",
         "y": [
          196.71,
          196.93
         ],
         "yaxis": "y"
        },
        {
         "hoverinfo": "none",
         "line": {
          "color": "green",
          "width": 3
         },
         "mode": "lines",
         "showlegend": false,
         "type": "scatter",
         "x": [
          "2022-02-26T00:00:00",
          "2022-02-27T00:00:00"
         ],
         "xaxis": "x",
         "y": [
          196.93,
          197.14
         ],
         "yaxis": "y"
        },
        {
         "hoverinfo": "none",
         "line": {
          "color": "green",
          "width": 3
         },
         "mode": "lines",
         "showlegend": false,
         "type": "scatter",
         "x": [
          "2022-02-27T00:00:00",
          "2022-02-28T00:00:00"
         ],
         "xaxis": "x",
         "y": [
          197.14,
          197.45
         ],
         "yaxis": "y"
        },
        {
         "hoverinfo": "none",
         "line": {
          "color": "green",
          "width": 3
         },
         "mode": "lines",
         "showlegend": false,
         "type": "scatter",
         "x": [
          "2022-02-28T00:00:00",
          "2022-03-01T00:00:00"
         ],
         "xaxis": "x",
         "y": [
          197.45,
          197.69
         ],
         "yaxis": "y"
        },
        {
         "hoverinfo": "none",
         "line": {
          "color": "green",
          "width": 3
         },
         "mode": "lines",
         "showlegend": false,
         "type": "scatter",
         "x": [
          "2022-03-01T00:00:00",
          "2022-03-02T00:00:00"
         ],
         "xaxis": "x",
         "y": [
          197.69,
          197.91
         ],
         "yaxis": "y"
        },
        {
         "hoverinfo": "none",
         "line": {
          "color": "green",
          "width": 3
         },
         "mode": "lines",
         "showlegend": false,
         "type": "scatter",
         "x": [
          "2022-03-02T00:00:00",
          "2022-03-03T00:00:00"
         ],
         "xaxis": "x",
         "y": [
          197.91,
          198.22
         ],
         "yaxis": "y"
        },
        {
         "hoverinfo": "none",
         "line": {
          "color": "green",
          "width": 3
         },
         "mode": "lines",
         "showlegend": false,
         "type": "scatter",
         "x": [
          "2022-03-03T00:00:00",
          "2022-03-04T00:00:00"
         ],
         "xaxis": "x",
         "y": [
          198.22,
          198.56
         ],
         "yaxis": "y"
        },
        {
         "hoverinfo": "none",
         "line": {
          "color": "green",
          "width": 3
         },
         "mode": "lines",
         "showlegend": false,
         "type": "scatter",
         "x": [
          "2022-03-04T00:00:00",
          "2022-03-05T00:00:00"
         ],
         "xaxis": "x",
         "y": [
          198.56,
          198.88
         ],
         "yaxis": "y"
        },
        {
         "hoverinfo": "none",
         "line": {
          "color": "green",
          "width": 3
         },
         "mode": "lines",
         "showlegend": false,
         "type": "scatter",
         "x": [
          "2022-03-05T00:00:00",
          "2022-03-06T00:00:00"
         ],
         "xaxis": "x",
         "y": [
          198.88,
          199.13
         ],
         "yaxis": "y"
        },
        {
         "hoverinfo": "none",
         "line": {
          "color": "green",
          "width": 3
         },
         "mode": "lines",
         "showlegend": false,
         "type": "scatter",
         "x": [
          "2022-03-06T00:00:00",
          "2022-03-07T00:00:00"
         ],
         "xaxis": "x",
         "y": [
          199.13,
          199.48
         ],
         "yaxis": "y"
        },
        {
         "hoverinfo": "none",
         "line": {
          "color": "green",
          "width": 3
         },
         "mode": "lines",
         "showlegend": false,
         "type": "scatter",
         "x": [
          "2022-03-07T00:00:00",
          "2022-03-08T00:00:00"
         ],
         "xaxis": "x",
         "y": [
          199.48,
          199.76
         ],
         "yaxis": "y"
        },
        {
         "hoverinfo": "none",
         "line": {
          "color": "green",
          "width": 3
         },
         "mode": "lines",
         "showlegend": false,
         "type": "scatter",
         "x": [
          "2022-03-08T00:00:00",
          "2022-03-09T00:00:00"
         ],
         "xaxis": "x",
         "y": [
          199.76,
          200.03
         ],
         "yaxis": "y"
        },
        {
         "hoverinfo": "none",
         "line": {
          "color": "green",
          "width": 3
         },
         "mode": "lines",
         "showlegend": false,
         "type": "scatter",
         "x": [
          "2022-03-09T00:00:00",
          "2022-03-10T00:00:00"
         ],
         "xaxis": "x",
         "y": [
          200.03,
          200.28
         ],
         "yaxis": "y"
        },
        {
         "hoverinfo": "none",
         "line": {
          "color": "green",
          "width": 3
         },
         "mode": "lines",
         "showlegend": false,
         "type": "scatter",
         "x": [
          "2022-03-10T00:00:00",
          "2022-03-11T00:00:00"
         ],
         "xaxis": "x",
         "y": [
          200.28,
          200.45
         ],
         "yaxis": "y"
        },
        {
         "hoverinfo": "none",
         "line": {
          "color": "green",
          "width": 3
         },
         "mode": "lines",
         "showlegend": false,
         "type": "scatter",
         "x": [
          "2022-03-11T00:00:00",
          "2022-03-12T00:00:00"
         ],
         "xaxis": "x",
         "y": [
          200.45,
          200.62
         ],
         "yaxis": "y"
        },
        {
         "hoverinfo": "none",
         "line": {
          "color": "green",
          "width": 3
         },
         "mode": "lines",
         "showlegend": false,
         "type": "scatter",
         "x": [
          "2022-03-12T00:00:00",
          "2022-03-13T00:00:00"
         ],
         "xaxis": "x",
         "y": [
          200.62,
          200.89
         ],
         "yaxis": "y"
        },
        {
         "hoverinfo": "none",
         "line": {
          "color": "green",
          "width": 3
         },
         "mode": "lines",
         "showlegend": false,
         "type": "scatter",
         "x": [
          "2022-03-13T00:00:00",
          "2022-03-14T00:00:00"
         ],
         "xaxis": "x",
         "y": [
          200.89,
          201.14
         ],
         "yaxis": "y"
        },
        {
         "hoverinfo": "none",
         "line": {
          "color": "green",
          "width": 3
         },
         "mode": "lines",
         "showlegend": false,
         "type": "scatter",
         "x": [
          "2022-03-14T00:00:00",
          "2022-03-15T00:00:00"
         ],
         "xaxis": "x",
         "y": [
          201.14,
          201.41
         ],
         "yaxis": "y"
        },
        {
         "hoverinfo": "none",
         "line": {
          "color": "green",
          "width": 3
         },
         "mode": "lines",
         "showlegend": false,
         "type": "scatter",
         "x": [
          "2022-03-15T00:00:00",
          "2022-03-16T00:00:00"
         ],
         "xaxis": "x",
         "y": [
          201.41,
          201.47
         ],
         "yaxis": "y"
        },
        {
         "hoverinfo": "none",
         "line": {
          "color": "green",
          "width": 3
         },
         "mode": "lines",
         "showlegend": false,
         "type": "scatter",
         "x": [
          "2022-03-16T00:00:00",
          "2022-03-17T00:00:00"
         ],
         "xaxis": "x",
         "y": [
          201.47,
          201.62
         ],
         "yaxis": "y"
        },
        {
         "hoverinfo": "none",
         "line": {
          "color": "green",
          "width": 3
         },
         "mode": "lines",
         "showlegend": false,
         "type": "scatter",
         "x": [
          "2022-03-17T00:00:00",
          "2022-03-18T00:00:00"
         ],
         "xaxis": "x",
         "y": [
          201.62,
          201.84
         ],
         "yaxis": "y"
        },
        {
         "hoverinfo": "none",
         "line": {
          "color": "green",
          "width": 3
         },
         "mode": "lines",
         "showlegend": false,
         "type": "scatter",
         "x": [
          "2022-03-18T00:00:00",
          "2022-03-19T00:00:00"
         ],
         "xaxis": "x",
         "y": [
          201.84,
          202.07
         ],
         "yaxis": "y"
        },
        {
         "hoverinfo": "none",
         "line": {
          "color": "green",
          "width": 3
         },
         "mode": "lines",
         "showlegend": false,
         "type": "scatter",
         "x": [
          "2022-03-19T00:00:00",
          "2022-03-20T00:00:00"
         ],
         "xaxis": "x",
         "y": [
          202.07,
          202.43
         ],
         "yaxis": "y"
        },
        {
         "hoverinfo": "none",
         "line": {
          "color": "green",
          "width": 3
         },
         "mode": "lines",
         "showlegend": false,
         "type": "scatter",
         "x": [
          "2022-03-20T00:00:00",
          "2022-03-21T00:00:00"
         ],
         "xaxis": "x",
         "y": [
          202.43,
          202.68
         ],
         "yaxis": "y"
        },
        {
         "hoverinfo": "none",
         "line": {
          "color": "green",
          "width": 3
         },
         "mode": "lines",
         "showlegend": false,
         "type": "scatter",
         "x": [
          "2022-03-21T00:00:00",
          "2022-03-22T00:00:00"
         ],
         "xaxis": "x",
         "y": [
          202.68,
          202.93
         ],
         "yaxis": "y"
        },
        {
         "hoverinfo": "none",
         "line": {
          "color": "green",
          "width": 3
         },
         "mode": "lines",
         "showlegend": false,
         "type": "scatter",
         "x": [
          "2022-03-22T00:00:00",
          "2022-03-23T00:00:00"
         ],
         "xaxis": "x",
         "y": [
          202.93,
          203.04
         ],
         "yaxis": "y"
        },
        {
         "hoverinfo": "none",
         "line": {
          "color": "green",
          "width": 3
         },
         "mode": "lines",
         "showlegend": false,
         "type": "scatter",
         "x": [
          "2022-03-23T00:00:00",
          "2022-03-24T00:00:00"
         ],
         "xaxis": "x",
         "y": [
          203.04,
          203.29
         ],
         "yaxis": "y"
        },
        {
         "hoverinfo": "none",
         "line": {
          "color": "green",
          "width": 3
         },
         "mode": "lines",
         "showlegend": false,
         "type": "scatter",
         "x": [
          "2022-03-24T00:00:00",
          "2022-03-25T00:00:00"
         ],
         "xaxis": "x",
         "y": [
          203.29,
          203.48
         ],
         "yaxis": "y"
        },
        {
         "hoverinfo": "none",
         "line": {
          "color": "green",
          "width": 3
         },
         "mode": "lines",
         "showlegend": false,
         "type": "scatter",
         "x": [
          "2022-03-25T00:00:00",
          "2022-03-26T00:00:00"
         ],
         "xaxis": "x",
         "y": [
          203.48,
          203.67
         ],
         "yaxis": "y"
        },
        {
         "hoverinfo": "none",
         "line": {
          "color": "green",
          "width": 3
         },
         "mode": "lines",
         "showlegend": false,
         "type": "scatter",
         "x": [
          "2022-03-26T00:00:00",
          "2022-03-27T00:00:00"
         ],
         "xaxis": "x",
         "y": [
          203.67,
          203.97
         ],
         "yaxis": "y"
        },
        {
         "hoverinfo": "none",
         "line": {
          "color": "green",
          "width": 3
         },
         "mode": "lines",
         "showlegend": false,
         "type": "scatter",
         "x": [
          "2022-03-27T00:00:00",
          "2022-03-28T00:00:00"
         ],
         "xaxis": "x",
         "y": [
          203.97,
          204.12
         ],
         "yaxis": "y"
        },
        {
         "hoverinfo": "none",
         "line": {
          "color": "green",
          "width": 3
         },
         "mode": "lines",
         "showlegend": false,
         "type": "scatter",
         "x": [
          "2022-03-28T00:00:00",
          "2022-03-29T00:00:00"
         ],
         "xaxis": "x",
         "y": [
          204.12,
          204.28
         ],
         "yaxis": "y"
        },
        {
         "hoverinfo": "none",
         "line": {
          "color": "green",
          "width": 3
         },
         "mode": "lines",
         "showlegend": false,
         "type": "scatter",
         "x": [
          "2022-03-29T00:00:00",
          "2022-03-30T00:00:00"
         ],
         "xaxis": "x",
         "y": [
          204.28,
          204.41
         ],
         "yaxis": "y"
        },
        {
         "hoverinfo": "none",
         "line": {
          "color": "green",
          "width": 3
         },
         "mode": "lines",
         "showlegend": false,
         "type": "scatter",
         "x": [
          "2022-03-30T00:00:00",
          "2022-03-31T00:00:00"
         ],
         "xaxis": "x",
         "y": [
          204.41,
          204.56
         ],
         "yaxis": "y"
        },
        {
         "hoverinfo": "none",
         "line": {
          "color": "green",
          "width": 3
         },
         "mode": "lines",
         "showlegend": false,
         "type": "scatter",
         "x": [
          "2022-03-31T00:00:00",
          "2022-04-01T00:00:00"
         ],
         "xaxis": "x",
         "y": [
          204.56,
          204.7
         ],
         "yaxis": "y"
        },
        {
         "hoverinfo": "none",
         "line": {
          "color": "green",
          "width": 3
         },
         "mode": "lines",
         "showlegend": false,
         "type": "scatter",
         "x": [
          "2022-04-01T00:00:00",
          "2022-04-02T00:00:00"
         ],
         "xaxis": "x",
         "y": [
          204.7,
          204.92
         ],
         "yaxis": "y"
        },
        {
         "hoverinfo": "none",
         "line": {
          "color": "green",
          "width": 3
         },
         "mode": "lines",
         "showlegend": false,
         "type": "scatter",
         "x": [
          "2022-04-02T00:00:00",
          "2022-04-03T00:00:00"
         ],
         "xaxis": "x",
         "y": [
          204.92,
          205.14
         ],
         "yaxis": "y"
        },
        {
         "hoverinfo": "none",
         "line": {
          "color": "green",
          "width": 3
         },
         "mode": "lines",
         "showlegend": false,
         "type": "scatter",
         "x": [
          "2022-04-03T00:00:00",
          "2022-04-04T00:00:00"
         ],
         "xaxis": "x",
         "y": [
          205.14,
          205.22
         ],
         "yaxis": "y"
        },
        {
         "hoverinfo": "none",
         "line": {
          "color": "green",
          "width": 3
         },
         "mode": "lines",
         "showlegend": false,
         "type": "scatter",
         "x": [
          "2022-04-04T00:00:00",
          "2022-04-05T00:00:00"
         ],
         "xaxis": "x",
         "y": [
          205.22,
          205.31
         ],
         "yaxis": "y"
        },
        {
         "hoverinfo": "none",
         "line": {
          "color": "green",
          "width": 3
         },
         "mode": "lines",
         "showlegend": false,
         "type": "scatter",
         "x": [
          "2022-04-05T00:00:00",
          "2022-04-06T00:00:00"
         ],
         "xaxis": "x",
         "y": [
          205.31,
          205.49
         ],
         "yaxis": "y"
        },
        {
         "hoverinfo": "none",
         "line": {
          "color": "green",
          "width": 3
         },
         "mode": "lines",
         "showlegend": false,
         "type": "scatter",
         "x": [
          "2022-04-06T00:00:00",
          "2022-04-07T00:00:00"
         ],
         "xaxis": "x",
         "y": [
          205.49,
          205.68
         ],
         "yaxis": "y"
        },
        {
         "hoverinfo": "none",
         "line": {
          "color": "green",
          "width": 3
         },
         "mode": "lines",
         "showlegend": false,
         "type": "scatter",
         "x": [
          "2022-04-07T00:00:00",
          "2022-04-08T00:00:00"
         ],
         "xaxis": "x",
         "y": [
          205.68,
          205.85
         ],
         "yaxis": "y"
        },
        {
         "hoverinfo": "none",
         "line": {
          "color": "green",
          "width": 3
         },
         "mode": "lines",
         "showlegend": false,
         "type": "scatter",
         "x": [
          "2022-04-08T00:00:00",
          "2022-04-09T00:00:00"
         ],
         "xaxis": "x",
         "y": [
          205.85,
          206.06
         ],
         "yaxis": "y"
        },
        {
         "hoverinfo": "none",
         "line": {
          "color": "green",
          "width": 3
         },
         "mode": "lines",
         "showlegend": false,
         "type": "scatter",
         "x": [
          "2022-04-09T00:00:00",
          "2022-04-10T00:00:00"
         ],
         "xaxis": "x",
         "y": [
          206.06,
          206.21
         ],
         "yaxis": "y"
        },
        {
         "hoverinfo": "none",
         "line": {
          "color": "green",
          "width": 3
         },
         "mode": "lines",
         "showlegend": false,
         "type": "scatter",
         "x": [
          "2022-04-10T00:00:00",
          "2022-04-11T00:00:00"
         ],
         "xaxis": "x",
         "y": [
          206.21,
          206.42
         ],
         "yaxis": "y"
        },
        {
         "hoverinfo": "none",
         "line": {
          "color": "green",
          "width": 3
         },
         "mode": "lines",
         "showlegend": false,
         "type": "scatter",
         "x": [
          "2022-04-11T00:00:00",
          "2022-04-12T00:00:00"
         ],
         "xaxis": "x",
         "y": [
          206.42,
          206.67
         ],
         "yaxis": "y"
        },
        {
         "hoverinfo": "none",
         "line": {
          "color": "green",
          "width": 3
         },
         "mode": "lines",
         "showlegend": false,
         "type": "scatter",
         "x": [
          "2022-04-12T00:00:00",
          "2022-04-13T00:00:00"
         ],
         "xaxis": "x",
         "y": [
          206.67,
          206.91
         ],
         "yaxis": "y"
        },
        {
         "hoverinfo": "none",
         "line": {
          "color": "green",
          "width": 3
         },
         "mode": "lines",
         "showlegend": false,
         "type": "scatter",
         "x": [
          "2022-04-13T00:00:00",
          "2022-04-14T00:00:00"
         ],
         "xaxis": "x",
         "y": [
          206.91,
          207.03
         ],
         "yaxis": "y"
        },
        {
         "hoverinfo": "none",
         "line": {
          "color": "green",
          "width": 3
         },
         "mode": "lines",
         "showlegend": false,
         "type": "scatter",
         "x": [
          "2022-04-14T00:00:00",
          "2022-04-15T00:00:00"
         ],
         "xaxis": "x",
         "y": [
          207.03,
          207.3
         ],
         "yaxis": "y"
        },
        {
         "hoverinfo": "none",
         "line": {
          "color": "green",
          "width": 3
         },
         "mode": "lines",
         "showlegend": false,
         "type": "scatter",
         "x": [
          "2022-04-15T00:00:00",
          "2022-04-16T00:00:00"
         ],
         "xaxis": "x",
         "y": [
          207.3,
          207.61
         ],
         "yaxis": "y"
        },
        {
         "hoverinfo": "none",
         "line": {
          "color": "green",
          "width": 3
         },
         "mode": "lines",
         "showlegend": false,
         "type": "scatter",
         "x": [
          "2022-04-16T00:00:00",
          "2022-04-17T00:00:00"
         ],
         "xaxis": "x",
         "y": [
          207.61,
          207.91
         ],
         "yaxis": "y"
        },
        {
         "hoverinfo": "none",
         "line": {
          "color": "green",
          "width": 3
         },
         "mode": "lines",
         "showlegend": false,
         "type": "scatter",
         "x": [
          "2022-04-17T00:00:00",
          "2022-04-18T00:00:00"
         ],
         "xaxis": "x",
         "y": [
          207.91,
          208.27
         ],
         "yaxis": "y"
        },
        {
         "hoverinfo": "none",
         "line": {
          "color": "green",
          "width": 3
         },
         "mode": "lines",
         "showlegend": false,
         "type": "scatter",
         "x": [
          "2022-04-18T00:00:00",
          "2022-04-19T00:00:00"
         ],
         "xaxis": "x",
         "y": [
          208.27,
          208.55
         ],
         "yaxis": "y"
        },
        {
         "hoverinfo": "none",
         "line": {
          "color": "green",
          "width": 3
         },
         "mode": "lines",
         "showlegend": false,
         "type": "scatter",
         "x": [
          "2022-04-19T00:00:00",
          "2022-04-20T00:00:00"
         ],
         "xaxis": "x",
         "y": [
          208.55,
          208.8
         ],
         "yaxis": "y"
        },
        {
         "hoverinfo": "none",
         "line": {
          "color": "green",
          "width": 3
         },
         "mode": "lines",
         "showlegend": false,
         "type": "scatter",
         "x": [
          "2022-04-20T00:00:00",
          "2022-04-21T00:00:00"
         ],
         "xaxis": "x",
         "y": [
          208.8,
          209.04
         ],
         "yaxis": "y"
        },
        {
         "hoverinfo": "none",
         "line": {
          "color": "green",
          "width": 3
         },
         "mode": "lines",
         "showlegend": false,
         "type": "scatter",
         "x": [
          "2022-04-21T00:00:00",
          "2022-04-22T00:00:00"
         ],
         "xaxis": "x",
         "y": [
          209.04,
          209.32
         ],
         "yaxis": "y"
        },
        {
         "hoverinfo": "none",
         "line": {
          "color": "green",
          "width": 3
         },
         "mode": "lines",
         "showlegend": false,
         "type": "scatter",
         "x": [
          "2022-04-22T00:00:00",
          "2022-04-23T00:00:00"
         ],
         "xaxis": "x",
         "y": [
          209.32,
          209.49
         ],
         "yaxis": "y"
        },
        {
         "hoverinfo": "none",
         "line": {
          "color": "green",
          "width": 3
         },
         "mode": "lines",
         "showlegend": false,
         "type": "scatter",
         "x": [
          "2022-04-23T00:00:00",
          "2022-04-24T00:00:00"
         ],
         "xaxis": "x",
         "y": [
          209.49,
          209.65
         ],
         "yaxis": "y"
        },
        {
         "hoverinfo": "none",
         "line": {
          "color": "green",
          "width": 3
         },
         "mode": "lines",
         "showlegend": false,
         "type": "scatter",
         "x": [
          "2022-04-24T00:00:00",
          "2022-04-25T00:00:00"
         ],
         "xaxis": "x",
         "y": [
          209.65,
          209.79
         ],
         "yaxis": "y"
        },
        {
         "hoverinfo": "none",
         "line": {
          "color": "green",
          "width": 3
         },
         "mode": "lines",
         "showlegend": false,
         "type": "scatter",
         "x": [
          "2022-04-25T00:00:00",
          "2022-04-26T00:00:00"
         ],
         "xaxis": "x",
         "y": [
          209.79,
          209.95
         ],
         "yaxis": "y"
        },
        {
         "hoverinfo": "none",
         "line": {
          "color": "green",
          "width": 3
         },
         "mode": "lines",
         "showlegend": false,
         "type": "scatter",
         "x": [
          "2022-04-26T00:00:00",
          "2022-04-27T00:00:00"
         ],
         "xaxis": "x",
         "y": [
          209.95,
          210.07
         ],
         "yaxis": "y"
        },
        {
         "hoverinfo": "none",
         "line": {
          "color": "green",
          "width": 3
         },
         "mode": "lines",
         "showlegend": false,
         "type": "scatter",
         "x": [
          "2022-04-27T00:00:00",
          "2022-04-28T00:00:00"
         ],
         "xaxis": "x",
         "y": [
          210.07,
          210.2
         ],
         "yaxis": "y"
        },
        {
         "hoverinfo": "none",
         "line": {
          "color": "green",
          "width": 3
         },
         "mode": "lines",
         "showlegend": false,
         "type": "scatter",
         "x": [
          "2022-04-28T00:00:00",
          "2022-04-29T00:00:00"
         ],
         "xaxis": "x",
         "y": [
          210.2,
          210.34
         ],
         "yaxis": "y"
        },
        {
         "hoverinfo": "none",
         "line": {
          "color": "green",
          "width": 3
         },
         "mode": "lines",
         "showlegend": false,
         "type": "scatter",
         "x": [
          "2022-04-29T00:00:00",
          "2022-04-30T00:00:00"
         ],
         "xaxis": "x",
         "y": [
          210.34,
          210.48
         ],
         "yaxis": "y"
        },
        {
         "hoverinfo": "none",
         "line": {
          "color": "green",
          "width": 3
         },
         "mode": "lines",
         "showlegend": false,
         "type": "scatter",
         "x": [
          "2022-04-30T00:00:00",
          "2022-05-01T00:00:00"
         ],
         "xaxis": "x",
         "y": [
          210.48,
          210.73
         ],
         "yaxis": "y"
        },
        {
         "hoverinfo": "none",
         "line": {
          "color": "green",
          "width": 3
         },
         "mode": "lines",
         "showlegend": false,
         "type": "scatter",
         "x": [
          "2022-05-01T00:00:00",
          "2022-05-02T00:00:00"
         ],
         "xaxis": "x",
         "y": [
          210.73,
          210.95
         ],
         "yaxis": "y"
        },
        {
         "hoverinfo": "none",
         "line": {
          "color": "green",
          "width": 3
         },
         "mode": "lines",
         "showlegend": false,
         "type": "scatter",
         "x": [
          "2022-05-02T00:00:00",
          "2022-05-03T00:00:00"
         ],
         "xaxis": "x",
         "y": [
          210.95,
          211.22
         ],
         "yaxis": "y"
        },
        {
         "hoverinfo": "none",
         "line": {
          "color": "green",
          "width": 3
         },
         "mode": "lines",
         "showlegend": false,
         "type": "scatter",
         "x": [
          "2022-05-03T00:00:00",
          "2022-05-04T00:00:00"
         ],
         "xaxis": "x",
         "y": [
          211.22,
          211.36
         ],
         "yaxis": "y"
        },
        {
         "hoverinfo": "none",
         "line": {
          "color": "green",
          "width": 3
         },
         "mode": "lines",
         "showlegend": false,
         "type": "scatter",
         "x": [
          "2022-05-04T00:00:00",
          "2022-05-05T00:00:00"
         ],
         "xaxis": "x",
         "y": [
          211.36,
          211.61
         ],
         "yaxis": "y"
        },
        {
         "hoverinfo": "none",
         "line": {
          "color": "green",
          "width": 3
         },
         "mode": "lines",
         "showlegend": false,
         "type": "scatter",
         "x": [
          "2022-05-05T00:00:00",
          "2022-05-06T00:00:00"
         ],
         "xaxis": "x",
         "y": [
          211.61,
          211.89
         ],
         "yaxis": "y"
        },
        {
         "hoverinfo": "none",
         "line": {
          "color": "green",
          "width": 3
         },
         "mode": "lines",
         "showlegend": false,
         "type": "scatter",
         "x": [
          "2022-05-06T00:00:00",
          "2022-05-07T00:00:00"
         ],
         "xaxis": "x",
         "y": [
          211.89,
          212.17
         ],
         "yaxis": "y"
        },
        {
         "hoverinfo": "none",
         "line": {
          "color": "green",
          "width": 3
         },
         "mode": "lines",
         "showlegend": false,
         "type": "scatter",
         "x": [
          "2022-05-07T00:00:00",
          "2022-05-08T00:00:00"
         ],
         "xaxis": "x",
         "y": [
          212.17,
          212.42
         ],
         "yaxis": "y"
        },
        {
         "hoverinfo": "none",
         "line": {
          "color": "green",
          "width": 3
         },
         "mode": "lines",
         "showlegend": false,
         "type": "scatter",
         "x": [
          "2022-05-08T00:00:00",
          "2022-05-09T00:00:00"
         ],
         "xaxis": "x",
         "y": [
          212.42,
          212.53
         ],
         "yaxis": "y"
        },
        {
         "hoverinfo": "none",
         "line": {
          "color": "green",
          "width": 3
         },
         "mode": "lines",
         "showlegend": false,
         "type": "scatter",
         "x": [
          "2022-05-09T00:00:00",
          "2022-05-10T00:00:00"
         ],
         "xaxis": "x",
         "y": [
          212.53,
          212.64
         ],
         "yaxis": "y"
        },
        {
         "hoverinfo": "none",
         "line": {
          "color": "green",
          "width": 3
         },
         "mode": "lines",
         "showlegend": false,
         "type": "scatter",
         "x": [
          "2022-05-10T00:00:00",
          "2022-05-11T00:00:00"
         ],
         "xaxis": "x",
         "y": [
          212.64,
          212.72
         ],
         "yaxis": "y"
        },
        {
         "hoverinfo": "none",
         "line": {
          "color": "green",
          "width": 3
         },
         "mode": "lines",
         "showlegend": false,
         "type": "scatter",
         "x": [
          "2022-05-11T00:00:00",
          "2022-05-12T00:00:00"
         ],
         "xaxis": "x",
         "y": [
          212.72,
          212.78
         ],
         "yaxis": "y"
        },
        {
         "hoverinfo": "none",
         "line": {
          "color": "green",
          "width": 3
         },
         "mode": "lines",
         "showlegend": false,
         "type": "scatter",
         "x": [
          "2022-05-12T00:00:00",
          "2022-05-13T00:00:00"
         ],
         "xaxis": "x",
         "y": [
          212.78,
          212.87
         ],
         "yaxis": "y"
        },
        {
         "hoverinfo": "none",
         "line": {
          "color": "green",
          "width": 3
         },
         "mode": "lines",
         "showlegend": false,
         "type": "scatter",
         "x": [
          "2022-05-13T00:00:00",
          "2022-05-14T00:00:00"
         ],
         "xaxis": "x",
         "y": [
          212.87,
          212.96
         ],
         "yaxis": "y"
        },
        {
         "hoverinfo": "none",
         "line": {
          "color": "green",
          "width": 3
         },
         "mode": "lines",
         "showlegend": false,
         "type": "scatter",
         "x": [
          "2022-05-14T00:00:00",
          "2022-05-15T00:00:00"
         ],
         "xaxis": "x",
         "y": [
          212.96,
          213.07
         ],
         "yaxis": "y"
        },
        {
         "hoverinfo": "none",
         "line": {
          "color": "green",
          "width": 3
         },
         "mode": "lines",
         "showlegend": false,
         "type": "scatter",
         "x": [
          "2022-05-15T00:00:00",
          "2022-05-16T00:00:00"
         ],
         "xaxis": "x",
         "y": [
          213.07,
          213.16
         ],
         "yaxis": "y"
        },
        {
         "hoverinfo": "none",
         "line": {
          "color": "green",
          "width": 3
         },
         "mode": "lines",
         "showlegend": false,
         "type": "scatter",
         "x": [
          "2022-05-16T00:00:00",
          "2022-05-17T00:00:00"
         ],
         "xaxis": "x",
         "y": [
          213.16,
          213.29
         ],
         "yaxis": "y"
        },
        {
         "hoverinfo": "none",
         "line": {
          "color": "green",
          "width": 3
         },
         "mode": "lines",
         "showlegend": false,
         "type": "scatter",
         "x": [
          "2022-05-17T00:00:00",
          "2022-05-18T00:00:00"
         ],
         "xaxis": "x",
         "y": [
          213.29,
          213.4
         ],
         "yaxis": "y"
        },
        {
         "hoverinfo": "none",
         "line": {
          "color": "red",
          "width": 3
         },
         "mode": "lines",
         "showlegend": false,
         "type": "scatter",
         "x": [
          "2022-05-18T00:00:00",
          "2022-05-19T00:00:00"
         ],
         "xaxis": "x",
         "y": [
          213.4,
          213.36
         ],
         "yaxis": "y"
        },
        {
         "hoverinfo": "none",
         "line": {
          "color": "green",
          "width": 3
         },
         "mode": "lines",
         "showlegend": false,
         "type": "scatter",
         "x": [
          "2022-05-19T00:00:00",
          "2022-05-20T00:00:00"
         ],
         "xaxis": "x",
         "y": [
          213.36,
          213.36
         ],
         "yaxis": "y"
        },
        {
         "hoverinfo": "none",
         "line": {
          "color": "red",
          "width": 3
         },
         "mode": "lines",
         "showlegend": false,
         "type": "scatter",
         "x": [
          "2022-05-20T00:00:00",
          "2022-05-21T00:00:00"
         ],
         "xaxis": "x",
         "y": [
          213.36,
          213.25
         ],
         "yaxis": "y"
        },
        {
         "hoverinfo": "none",
         "line": {
          "color": "green",
          "width": 3
         },
         "mode": "lines",
         "showlegend": false,
         "type": "scatter",
         "x": [
          "2022-05-21T00:00:00",
          "2022-05-22T00:00:00"
         ],
         "xaxis": "x",
         "y": [
          213.25,
          213.25
         ],
         "yaxis": "y"
        },
        {
         "hoverinfo": "none",
         "line": {
          "color": "red",
          "width": 3
         },
         "mode": "lines",
         "showlegend": false,
         "type": "scatter",
         "x": [
          "2022-05-22T00:00:00",
          "2022-05-23T00:00:00"
         ],
         "xaxis": "x",
         "y": [
          213.25,
          213.22
         ],
         "yaxis": "y"
        },
        {
         "hoverinfo": "none",
         "line": {
          "color": "green",
          "width": 3
         },
         "mode": "lines",
         "showlegend": false,
         "type": "scatter",
         "x": [
          "2022-05-23T00:00:00",
          "2022-05-24T00:00:00"
         ],
         "xaxis": "x",
         "y": [
          213.22,
          213.22
         ],
         "yaxis": "y"
        },
        {
         "hoverinfo": "none",
         "line": {
          "color": "red",
          "width": 3
         },
         "mode": "lines",
         "showlegend": false,
         "type": "scatter",
         "x": [
          "2022-05-24T00:00:00",
          "2022-05-25T00:00:00"
         ],
         "xaxis": "x",
         "y": [
          213.22,
          213.19
         ],
         "yaxis": "y"
        },
        {
         "hoverinfo": "none",
         "line": {
          "color": "red",
          "width": 3
         },
         "mode": "lines",
         "showlegend": false,
         "type": "scatter",
         "x": [
          "2022-05-25T00:00:00",
          "2022-05-26T00:00:00"
         ],
         "xaxis": "x",
         "y": [
          213.19,
          213.14
         ],
         "yaxis": "y"
        },
        {
         "hoverinfo": "none",
         "line": {
          "color": "green",
          "width": 3
         },
         "mode": "lines",
         "showlegend": false,
         "type": "scatter",
         "x": [
          "2022-05-26T00:00:00",
          "2022-05-27T00:00:00"
         ],
         "xaxis": "x",
         "y": [
          213.14,
          213.25
         ],
         "yaxis": "y"
        },
        {
         "hoverinfo": "none",
         "line": {
          "color": "green",
          "width": 3
         },
         "mode": "lines",
         "showlegend": false,
         "type": "scatter",
         "x": [
          "2022-05-27T00:00:00",
          "2022-05-28T00:00:00"
         ],
         "xaxis": "x",
         "y": [
          213.25,
          213.36
         ],
         "yaxis": "y"
        },
        {
         "hoverinfo": "none",
         "line": {
          "color": "green",
          "width": 3
         },
         "mode": "lines",
         "showlegend": false,
         "type": "scatter",
         "x": [
          "2022-05-28T00:00:00",
          "2022-05-29T00:00:00"
         ],
         "xaxis": "x",
         "y": [
          213.36,
          213.43
         ],
         "yaxis": "y"
        },
        {
         "hoverinfo": "none",
         "line": {
          "color": "red",
          "width": 3
         },
         "mode": "lines",
         "showlegend": false,
         "type": "scatter",
         "x": [
          "2022-05-29T00:00:00",
          "2022-05-30T00:00:00"
         ],
         "xaxis": "x",
         "y": [
          213.43,
          213.35
         ],
         "yaxis": "y"
        },
        {
         "hoverinfo": "none",
         "line": {
          "color": "green",
          "width": 3
         },
         "mode": "lines",
         "showlegend": false,
         "type": "scatter",
         "x": [
          "2022-05-30T00:00:00",
          "2022-05-31T00:00:00"
         ],
         "xaxis": "x",
         "y": [
          213.35,
          213.38
         ],
         "yaxis": "y"
        },
        {
         "hoverinfo": "none",
         "line": {
          "color": "red",
          "width": 3
         },
         "mode": "lines",
         "showlegend": false,
         "type": "scatter",
         "x": [
          "2022-05-31T00:00:00",
          "2022-06-01T00:00:00"
         ],
         "xaxis": "x",
         "y": [
          213.38,
          213.28
         ],
         "yaxis": "y"
        },
        {
         "hoverinfo": "none",
         "line": {
          "color": "red",
          "width": 3
         },
         "mode": "lines",
         "showlegend": false,
         "type": "scatter",
         "x": [
          "2022-06-01T00:00:00",
          "2022-06-02T00:00:00"
         ],
         "xaxis": "x",
         "y": [
          213.28,
          213.2
         ],
         "yaxis": "y"
        },
        {
         "hoverinfo": "none",
         "line": {
          "color": "red",
          "width": 3
         },
         "mode": "lines",
         "showlegend": false,
         "type": "scatter",
         "x": [
          "2022-06-02T00:00:00",
          "2022-06-03T00:00:00"
         ],
         "xaxis": "x",
         "y": [
          213.2,
          213.17
         ],
         "yaxis": "y"
        },
        {
         "hoverinfo": "none",
         "line": {
          "color": "red",
          "width": 3
         },
         "mode": "lines",
         "showlegend": false,
         "type": "scatter",
         "x": [
          "2022-06-03T00:00:00",
          "2022-06-04T00:00:00"
         ],
         "xaxis": "x",
         "y": [
          213.17,
          213.12
         ],
         "yaxis": "y"
        },
        {
         "hoverinfo": "none",
         "line": {
          "color": "green",
          "width": 3
         },
         "mode": "lines",
         "showlegend": false,
         "type": "scatter",
         "x": [
          "2022-06-04T00:00:00",
          "2022-06-05T00:00:00"
         ],
         "xaxis": "x",
         "y": [
          213.12,
          213.2
         ],
         "yaxis": "y"
        },
        {
         "hoverinfo": "none",
         "line": {
          "color": "green",
          "width": 3
         },
         "mode": "lines",
         "showlegend": false,
         "type": "scatter",
         "x": [
          "2022-06-05T00:00:00",
          "2022-06-06T00:00:00"
         ],
         "xaxis": "x",
         "y": [
          213.2,
          213.27
         ],
         "yaxis": "y"
        },
        {
         "hoverinfo": "none",
         "line": {
          "color": "green",
          "width": 3
         },
         "mode": "lines",
         "showlegend": false,
         "type": "scatter",
         "x": [
          "2022-06-06T00:00:00",
          "2022-06-07T00:00:00"
         ],
         "xaxis": "x",
         "y": [
          213.27,
          213.38
         ],
         "yaxis": "y"
        },
        {
         "hoverinfo": "none",
         "line": {
          "color": "green",
          "width": 3
         },
         "mode": "lines",
         "showlegend": false,
         "type": "scatter",
         "x": [
          "2022-06-07T00:00:00",
          "2022-06-08T00:00:00"
         ],
         "xaxis": "x",
         "y": [
          213.38,
          213.4
         ],
         "yaxis": "y"
        },
        {
         "hoverinfo": "none",
         "line": {
          "color": "green",
          "width": 3
         },
         "mode": "lines",
         "showlegend": false,
         "type": "scatter",
         "x": [
          "2022-06-08T00:00:00",
          "2022-06-09T00:00:00"
         ],
         "xaxis": "x",
         "y": [
          213.4,
          213.49
         ],
         "yaxis": "y"
        },
        {
         "hoverinfo": "none",
         "line": {
          "color": "green",
          "width": 3
         },
         "mode": "lines",
         "showlegend": false,
         "type": "scatter",
         "x": [
          "2022-06-09T00:00:00",
          "2022-06-10T00:00:00"
         ],
         "xaxis": "x",
         "y": [
          213.49,
          213.49
         ],
         "yaxis": "y"
        },
        {
         "hoverinfo": "none",
         "line": {
          "color": "green",
          "width": 3
         },
         "mode": "lines",
         "showlegend": false,
         "type": "scatter",
         "x": [
          "2022-06-10T00:00:00",
          "2022-06-11T00:00:00"
         ],
         "xaxis": "x",
         "y": [
          213.49,
          213.49
         ],
         "yaxis": "y"
        },
        {
         "hoverinfo": "none",
         "line": {
          "color": "green",
          "width": 3
         },
         "mode": "lines",
         "showlegend": false,
         "type": "scatter",
         "x": [
          "2022-06-11T00:00:00",
          "2022-06-12T00:00:00"
         ],
         "xaxis": "x",
         "y": [
          213.49,
          213.49
         ],
         "yaxis": "y"
        },
        {
         "hoverinfo": "none",
         "line": {
          "color": "red",
          "width": 3
         },
         "mode": "lines",
         "showlegend": false,
         "type": "scatter",
         "x": [
          "2022-06-12T00:00:00",
          "2022-06-13T00:00:00"
         ],
         "xaxis": "x",
         "y": [
          213.49,
          213.37
         ],
         "yaxis": "y"
        },
        {
         "hoverinfo": "none",
         "line": {
          "color": "green",
          "width": 3
         },
         "mode": "lines",
         "showlegend": false,
         "type": "scatter",
         "x": [
          "2022-06-13T00:00:00",
          "2022-06-14T00:00:00"
         ],
         "xaxis": "x",
         "y": [
          213.37,
          213.4
         ],
         "yaxis": "y"
        },
        {
         "hoverinfo": "none",
         "line": {
          "color": "red",
          "width": 3
         },
         "mode": "lines",
         "showlegend": false,
         "type": "scatter",
         "x": [
          "2022-06-14T00:00:00",
          "2022-06-15T00:00:00"
         ],
         "xaxis": "x",
         "y": [
          213.4,
          213.32
         ],
         "yaxis": "y"
        },
        {
         "hoverinfo": "none",
         "line": {
          "color": "red",
          "width": 3
         },
         "mode": "lines",
         "showlegend": false,
         "type": "scatter",
         "x": [
          "2022-06-15T00:00:00",
          "2022-06-16T00:00:00"
         ],
         "xaxis": "x",
         "y": [
          213.32,
          213.21
         ],
         "yaxis": "y"
        },
        {
         "hoverinfo": "none",
         "line": {
          "color": "red",
          "width": 3
         },
         "mode": "lines",
         "showlegend": false,
         "type": "scatter",
         "x": [
          "2022-06-16T00:00:00",
          "2022-06-17T00:00:00"
         ],
         "xaxis": "x",
         "y": [
          213.21,
          213.12
         ],
         "yaxis": "y"
        },
        {
         "hoverinfo": "none",
         "line": {
          "color": "green",
          "width": 3
         },
         "mode": "lines",
         "showlegend": false,
         "type": "scatter",
         "x": [
          "2022-06-17T00:00:00",
          "2022-06-18T00:00:00"
         ],
         "xaxis": "x",
         "y": [
          213.12,
          213.23
         ],
         "yaxis": "y"
        },
        {
         "hoverinfo": "none",
         "line": {
          "color": "green",
          "width": 3
         },
         "mode": "lines",
         "showlegend": false,
         "type": "scatter",
         "x": [
          "2022-06-18T00:00:00",
          "2022-06-19T00:00:00"
         ],
         "xaxis": "x",
         "y": [
          213.23,
          213.34
         ],
         "yaxis": "y"
        },
        {
         "hoverinfo": "none",
         "line": {
          "color": "green",
          "width": 3
         },
         "mode": "lines",
         "showlegend": false,
         "type": "scatter",
         "x": [
          "2022-06-19T00:00:00",
          "2022-06-20T00:00:00"
         ],
         "xaxis": "x",
         "y": [
          213.34,
          213.41
         ],
         "yaxis": "y"
        },
        {
         "hoverinfo": "none",
         "line": {
          "color": "red",
          "width": 3
         },
         "mode": "lines",
         "showlegend": false,
         "type": "scatter",
         "x": [
          "2022-06-20T00:00:00",
          "2022-06-21T00:00:00"
         ],
         "xaxis": "x",
         "y": [
          213.41,
          213.38
         ],
         "yaxis": "y"
        },
        {
         "hoverinfo": "none",
         "line": {
          "color": "red",
          "width": 3
         },
         "mode": "lines",
         "showlegend": false,
         "type": "scatter",
         "x": [
          "2022-06-21T00:00:00",
          "2022-06-22T00:00:00"
         ],
         "xaxis": "x",
         "y": [
          213.38,
          213.32
         ],
         "yaxis": "y"
        },
        {
         "hoverinfo": "none",
         "line": {
          "color": "green",
          "width": 3
         },
         "mode": "lines",
         "showlegend": false,
         "type": "scatter",
         "x": [
          "2022-06-22T00:00:00",
          "2022-06-23T00:00:00"
         ],
         "xaxis": "x",
         "y": [
          213.32,
          213.34
         ],
         "yaxis": "y"
        },
        {
         "hoverinfo": "none",
         "line": {
          "color": "red",
          "width": 3
         },
         "mode": "lines",
         "showlegend": false,
         "type": "scatter",
         "x": [
          "2022-06-23T00:00:00",
          "2022-06-24T00:00:00"
         ],
         "xaxis": "x",
         "y": [
          213.34,
          213.3
         ],
         "yaxis": "y"
        },
        {
         "hoverinfo": "none",
         "line": {
          "color": "red",
          "width": 3
         },
         "mode": "lines",
         "showlegend": false,
         "type": "scatter",
         "x": [
          "2022-06-24T00:00:00",
          "2022-06-25T00:00:00"
         ],
         "xaxis": "x",
         "y": [
          213.3,
          213.26
         ],
         "yaxis": "y"
        },
        {
         "hoverinfo": "none",
         "line": {
          "color": "red",
          "width": 3
         },
         "mode": "lines",
         "showlegend": false,
         "type": "scatter",
         "x": [
          "2022-06-25T00:00:00",
          "2022-06-26T00:00:00"
         ],
         "xaxis": "x",
         "y": [
          213.26,
          213.23
         ],
         "yaxis": "y"
        },
        {
         "hoverinfo": "none",
         "line": {
          "color": "red",
          "width": 3
         },
         "mode": "lines",
         "showlegend": false,
         "type": "scatter",
         "x": [
          "2022-06-26T00:00:00",
          "2022-06-27T00:00:00"
         ],
         "xaxis": "x",
         "y": [
          213.23,
          213.06
         ],
         "yaxis": "y"
        },
        {
         "hoverinfo": "none",
         "line": {
          "color": "red",
          "width": 3
         },
         "mode": "lines",
         "showlegend": false,
         "type": "scatter",
         "x": [
          "2022-06-27T00:00:00",
          "2022-06-28T00:00:00"
         ],
         "xaxis": "x",
         "y": [
          213.06,
          212.93
         ],
         "yaxis": "y"
        },
        {
         "hoverinfo": "none",
         "line": {
          "color": "red",
          "width": 3
         },
         "mode": "lines",
         "showlegend": false,
         "type": "scatter",
         "x": [
          "2022-06-28T00:00:00",
          "2022-06-29T00:00:00"
         ],
         "xaxis": "x",
         "y": [
          212.93,
          212.9
         ],
         "yaxis": "y"
        },
        {
         "hoverinfo": "none",
         "line": {
          "color": "red",
          "width": 3
         },
         "mode": "lines",
         "showlegend": false,
         "type": "scatter",
         "x": [
          "2022-06-29T00:00:00",
          "2022-06-30T00:00:00"
         ],
         "xaxis": "x",
         "y": [
          212.9,
          212.74
         ],
         "yaxis": "y"
        },
        {
         "hoverinfo": "none",
         "line": {
          "color": "red",
          "width": 3
         },
         "mode": "lines",
         "showlegend": false,
         "type": "scatter",
         "x": [
          "2022-06-30T00:00:00",
          "2022-07-01T00:00:00"
         ],
         "xaxis": "x",
         "y": [
          212.74,
          212.58
         ],
         "yaxis": "y"
        },
        {
         "hoverinfo": "none",
         "line": {
          "color": "red",
          "width": 3
         },
         "mode": "lines",
         "showlegend": false,
         "type": "scatter",
         "x": [
          "2022-07-01T00:00:00",
          "2022-07-02T00:00:00"
         ],
         "xaxis": "x",
         "y": [
          212.58,
          212.54
         ],
         "yaxis": "y"
        },
        {
         "hoverinfo": "none",
         "line": {
          "color": "red",
          "width": 3
         },
         "mode": "lines",
         "showlegend": false,
         "type": "scatter",
         "x": [
          "2022-07-02T00:00:00",
          "2022-07-03T00:00:00"
         ],
         "xaxis": "x",
         "y": [
          212.54,
          212.47
         ],
         "yaxis": "y"
        },
        {
         "hoverinfo": "none",
         "line": {
          "color": "red",
          "width": 3
         },
         "mode": "lines",
         "showlegend": false,
         "type": "scatter",
         "x": [
          "2022-07-03T00:00:00",
          "2022-07-04T00:00:00"
         ],
         "xaxis": "x",
         "y": [
          212.47,
          212.26
         ],
         "yaxis": "y"
        },
        {
         "hoverinfo": "none",
         "line": {
          "color": "red",
          "width": 3
         },
         "mode": "lines",
         "showlegend": false,
         "type": "scatter",
         "x": [
          "2022-07-04T00:00:00",
          "2022-07-05T00:00:00"
         ],
         "xaxis": "x",
         "y": [
          212.26,
          212.17
         ],
         "yaxis": "y"
        },
        {
         "hoverinfo": "none",
         "line": {
          "color": "red",
          "width": 3
         },
         "mode": "lines",
         "showlegend": false,
         "type": "scatter",
         "x": [
          "2022-07-05T00:00:00",
          "2022-07-06T00:00:00"
         ],
         "xaxis": "x",
         "y": [
          212.17,
          212.05
         ],
         "yaxis": "y"
        },
        {
         "hoverinfo": "none",
         "line": {
          "color": "red",
          "width": 3
         },
         "mode": "lines",
         "showlegend": false,
         "type": "scatter",
         "x": [
          "2022-07-06T00:00:00",
          "2022-07-07T00:00:00"
         ],
         "xaxis": "x",
         "y": [
          212.05,
          211.96
         ],
         "yaxis": "y"
        },
        {
         "hoverinfo": "none",
         "line": {
          "color": "red",
          "width": 3
         },
         "mode": "lines",
         "showlegend": false,
         "type": "scatter",
         "x": [
          "2022-07-07T00:00:00",
          "2022-07-08T00:00:00"
         ],
         "xaxis": "x",
         "y": [
          211.96,
          211.86
         ],
         "yaxis": "y"
        },
        {
         "hoverinfo": "none",
         "line": {
          "color": "red",
          "width": 3
         },
         "mode": "lines",
         "showlegend": false,
         "type": "scatter",
         "x": [
          "2022-07-08T00:00:00",
          "2022-07-09T00:00:00"
         ],
         "xaxis": "x",
         "y": [
          211.86,
          211.79
         ],
         "yaxis": "y"
        },
        {
         "hoverinfo": "none",
         "line": {
          "color": "red",
          "width": 3
         },
         "mode": "lines",
         "showlegend": false,
         "type": "scatter",
         "x": [
          "2022-07-09T00:00:00",
          "2022-07-10T00:00:00"
         ],
         "xaxis": "x",
         "y": [
          211.79,
          211.73
         ],
         "yaxis": "y"
        },
        {
         "hoverinfo": "none",
         "line": {
          "color": "red",
          "width": 3
         },
         "mode": "lines",
         "showlegend": false,
         "type": "scatter",
         "x": [
          "2022-07-10T00:00:00",
          "2022-07-11T00:00:00"
         ],
         "xaxis": "x",
         "y": [
          211.73,
          211.54
         ],
         "yaxis": "y"
        },
        {
         "hoverinfo": "none",
         "line": {
          "color": "red",
          "width": 3
         },
         "mode": "lines",
         "showlegend": false,
         "type": "scatter",
         "x": [
          "2022-07-11T00:00:00",
          "2022-07-12T00:00:00"
         ],
         "xaxis": "x",
         "y": [
          211.54,
          211.38
         ],
         "yaxis": "y"
        },
        {
         "hoverinfo": "none",
         "line": {
          "color": "red",
          "width": 3
         },
         "mode": "lines",
         "showlegend": false,
         "type": "scatter",
         "x": [
          "2022-07-12T00:00:00",
          "2022-07-13T00:00:00"
         ],
         "xaxis": "x",
         "y": [
          211.38,
          211.24
         ],
         "yaxis": "y"
        },
        {
         "hoverinfo": "none",
         "line": {
          "color": "red",
          "width": 3
         },
         "mode": "lines",
         "showlegend": false,
         "type": "scatter",
         "x": [
          "2022-07-13T00:00:00",
          "2022-07-14T00:00:00"
         ],
         "xaxis": "x",
         "y": [
          211.24,
          211.08
         ],
         "yaxis": "y"
        },
        {
         "hoverinfo": "none",
         "line": {
          "color": "red",
          "width": 3
         },
         "mode": "lines",
         "showlegend": false,
         "type": "scatter",
         "x": [
          "2022-07-14T00:00:00",
          "2022-07-15T00:00:00"
         ],
         "xaxis": "x",
         "y": [
          211.08,
          210.92
         ],
         "yaxis": "y"
        },
        {
         "hoverinfo": "none",
         "line": {
          "color": "red",
          "width": 3
         },
         "mode": "lines",
         "showlegend": false,
         "type": "scatter",
         "x": [
          "2022-07-15T00:00:00",
          "2022-07-16T00:00:00"
         ],
         "xaxis": "x",
         "y": [
          210.92,
          210.8
         ],
         "yaxis": "y"
        },
        {
         "hoverinfo": "none",
         "line": {
          "color": "red",
          "width": 3
         },
         "mode": "lines",
         "showlegend": false,
         "type": "scatter",
         "x": [
          "2022-07-16T00:00:00",
          "2022-07-17T00:00:00"
         ],
         "xaxis": "x",
         "y": [
          210.8,
          210.66
         ],
         "yaxis": "y"
        },
        {
         "hoverinfo": "none",
         "line": {
          "color": "red",
          "width": 3
         },
         "mode": "lines",
         "showlegend": false,
         "type": "scatter",
         "x": [
          "2022-07-17T00:00:00",
          "2022-07-18T00:00:00"
         ],
         "xaxis": "x",
         "y": [
          210.66,
          210.41
         ],
         "yaxis": "y"
        },
        {
         "hoverinfo": "none",
         "line": {
          "color": "red",
          "width": 3
         },
         "mode": "lines",
         "showlegend": false,
         "type": "scatter",
         "x": [
          "2022-07-18T00:00:00",
          "2022-07-19T00:00:00"
         ],
         "xaxis": "x",
         "y": [
          210.41,
          210.32
         ],
         "yaxis": "y"
        },
        {
         "hoverinfo": "none",
         "line": {
          "color": "red",
          "width": 3
         },
         "mode": "lines",
         "showlegend": false,
         "type": "scatter",
         "x": [
          "2022-07-19T00:00:00",
          "2022-07-20T00:00:00"
         ],
         "xaxis": "x",
         "y": [
          210.32,
          210.22
         ],
         "yaxis": "y"
        },
        {
         "hoverinfo": "none",
         "line": {
          "color": "red",
          "width": 3
         },
         "mode": "lines",
         "showlegend": false,
         "type": "scatter",
         "x": [
          "2022-07-20T00:00:00",
          "2022-07-21T00:00:00"
         ],
         "xaxis": "x",
         "y": [
          210.22,
          210.11
         ],
         "yaxis": "y"
        },
        {
         "hoverinfo": "none",
         "line": {
          "color": "red",
          "width": 3
         },
         "mode": "lines",
         "showlegend": false,
         "type": "scatter",
         "x": [
          "2022-07-21T00:00:00",
          "2022-07-22T00:00:00"
         ],
         "xaxis": "x",
         "y": [
          210.11,
          210.01
         ],
         "yaxis": "y"
        },
        {
         "hoverinfo": "none",
         "line": {
          "color": "red",
          "width": 3
         },
         "mode": "lines",
         "showlegend": false,
         "type": "scatter",
         "x": [
          "2022-07-22T00:00:00",
          "2022-07-23T00:00:00"
         ],
         "xaxis": "x",
         "y": [
          210.01,
          209.79
         ],
         "yaxis": "y"
        },
        {
         "hoverinfo": "none",
         "line": {
          "color": "red",
          "width": 3
         },
         "mode": "lines",
         "showlegend": false,
         "type": "scatter",
         "x": [
          "2022-07-23T00:00:00",
          "2022-07-24T00:00:00"
         ],
         "xaxis": "x",
         "y": [
          209.79,
          209.54
         ],
         "yaxis": "y"
        },
        {
         "hoverinfo": "none",
         "line": {
          "color": "red",
          "width": 3
         },
         "mode": "lines",
         "showlegend": false,
         "type": "scatter",
         "x": [
          "2022-07-24T00:00:00",
          "2022-07-25T00:00:00"
         ],
         "xaxis": "x",
         "y": [
          209.54,
          209.27
         ],
         "yaxis": "y"
        },
        {
         "hoverinfo": "none",
         "line": {
          "color": "red",
          "width": 3
         },
         "mode": "lines",
         "showlegend": false,
         "type": "scatter",
         "x": [
          "2022-07-25T00:00:00",
          "2022-07-26T00:00:00"
         ],
         "xaxis": "x",
         "y": [
          209.27,
          209.1
         ],
         "yaxis": "y"
        },
        {
         "hoverinfo": "none",
         "line": {
          "color": "red",
          "width": 3
         },
         "mode": "lines",
         "showlegend": false,
         "type": "scatter",
         "x": [
          "2022-07-26T00:00:00",
          "2022-07-27T00:00:00"
         ],
         "xaxis": "x",
         "y": [
          209.1,
          208.78
         ],
         "yaxis": "y"
        },
        {
         "hoverinfo": "none",
         "line": {
          "color": "red",
          "width": 3
         },
         "mode": "lines",
         "showlegend": false,
         "type": "scatter",
         "x": [
          "2022-07-27T00:00:00",
          "2022-07-28T00:00:00"
         ],
         "xaxis": "x",
         "y": [
          208.78,
          208.45
         ],
         "yaxis": "y"
        },
        {
         "hoverinfo": "none",
         "line": {
          "color": "red",
          "width": 3
         },
         "mode": "lines",
         "showlegend": false,
         "type": "scatter",
         "x": [
          "2022-07-28T00:00:00",
          "2022-07-29T00:00:00"
         ],
         "xaxis": "x",
         "y": [
          208.45,
          208.14
         ],
         "yaxis": "y"
        },
        {
         "hoverinfo": "none",
         "line": {
          "color": "red",
          "width": 3
         },
         "mode": "lines",
         "showlegend": false,
         "type": "scatter",
         "x": [
          "2022-07-29T00:00:00",
          "2022-07-30T00:00:00"
         ],
         "xaxis": "x",
         "y": [
          208.14,
          207.84
         ],
         "yaxis": "y"
        },
        {
         "hoverinfo": "none",
         "line": {
          "color": "red",
          "width": 3
         },
         "mode": "lines",
         "showlegend": false,
         "type": "scatter",
         "x": [
          "2022-07-30T00:00:00",
          "2022-07-31T00:00:00"
         ],
         "xaxis": "x",
         "y": [
          207.84,
          207.52
         ],
         "yaxis": "y"
        },
        {
         "hoverinfo": "none",
         "line": {
          "color": "red",
          "width": 3
         },
         "mode": "lines",
         "showlegend": false,
         "type": "scatter",
         "x": [
          "2022-07-31T00:00:00",
          "2022-08-01T00:00:00"
         ],
         "xaxis": "x",
         "y": [
          207.52,
          207.21
         ],
         "yaxis": "y"
        },
        {
         "hoverinfo": "none",
         "line": {
          "color": "red",
          "width": 3
         },
         "mode": "lines",
         "showlegend": false,
         "type": "scatter",
         "x": [
          "2022-08-01T00:00:00",
          "2022-08-02T00:00:00"
         ],
         "xaxis": "x",
         "y": [
          207.21,
          206.89
         ],
         "yaxis": "y"
        },
        {
         "hoverinfo": "none",
         "line": {
          "color": "red",
          "width": 3
         },
         "mode": "lines",
         "showlegend": false,
         "type": "scatter",
         "x": [
          "2022-08-02T00:00:00",
          "2022-08-03T00:00:00"
         ],
         "xaxis": "x",
         "y": [
          206.89,
          206.47
         ],
         "yaxis": "y"
        },
        {
         "hoverinfo": "none",
         "line": {
          "color": "red",
          "width": 3
         },
         "mode": "lines",
         "showlegend": false,
         "type": "scatter",
         "x": [
          "2022-08-03T00:00:00",
          "2022-08-04T00:00:00"
         ],
         "xaxis": "x",
         "y": [
          206.47,
          206.17
         ],
         "yaxis": "y"
        },
        {
         "hoverinfo": "none",
         "line": {
          "color": "red",
          "width": 3
         },
         "mode": "lines",
         "showlegend": false,
         "type": "scatter",
         "x": [
          "2022-08-04T00:00:00",
          "2022-08-05T00:00:00"
         ],
         "xaxis": "x",
         "y": [
          206.17,
          205.9
         ],
         "yaxis": "y"
        },
        {
         "hoverinfo": "none",
         "line": {
          "color": "red",
          "width": 3
         },
         "mode": "lines",
         "showlegend": false,
         "type": "scatter",
         "x": [
          "2022-08-05T00:00:00",
          "2022-08-06T00:00:00"
         ],
         "xaxis": "x",
         "y": [
          205.9,
          205.53
         ],
         "yaxis": "y"
        },
        {
         "hoverinfo": "none",
         "line": {
          "color": "red",
          "width": 3
         },
         "mode": "lines",
         "showlegend": false,
         "type": "scatter",
         "x": [
          "2022-08-06T00:00:00",
          "2022-08-07T00:00:00"
         ],
         "xaxis": "x",
         "y": [
          205.53,
          205.15
         ],
         "yaxis": "y"
        },
        {
         "hoverinfo": "none",
         "line": {
          "color": "red",
          "width": 3
         },
         "mode": "lines",
         "showlegend": false,
         "type": "scatter",
         "x": [
          "2022-08-07T00:00:00",
          "2022-08-08T00:00:00"
         ],
         "xaxis": "x",
         "y": [
          205.15,
          204.89
         ],
         "yaxis": "y"
        },
        {
         "hoverinfo": "none",
         "line": {
          "color": "red",
          "width": 3
         },
         "mode": "lines",
         "showlegend": false,
         "type": "scatter",
         "x": [
          "2022-08-08T00:00:00",
          "2022-08-09T00:00:00"
         ],
         "xaxis": "x",
         "y": [
          204.89,
          204.64
         ],
         "yaxis": "y"
        },
        {
         "hoverinfo": "none",
         "line": {
          "color": "red",
          "width": 3
         },
         "mode": "lines",
         "showlegend": false,
         "type": "scatter",
         "x": [
          "2022-08-09T00:00:00",
          "2022-08-10T00:00:00"
         ],
         "xaxis": "x",
         "y": [
          204.64,
          204.4
         ],
         "yaxis": "y"
        },
        {
         "hoverinfo": "none",
         "line": {
          "color": "red",
          "width": 3
         },
         "mode": "lines",
         "showlegend": false,
         "type": "scatter",
         "x": [
          "2022-08-10T00:00:00",
          "2022-08-11T00:00:00"
         ],
         "xaxis": "x",
         "y": [
          204.4,
          204.17
         ],
         "yaxis": "y"
        },
        {
         "hoverinfo": "none",
         "line": {
          "color": "red",
          "width": 3
         },
         "mode": "lines",
         "showlegend": false,
         "type": "scatter",
         "x": [
          "2022-08-11T00:00:00",
          "2022-08-12T00:00:00"
         ],
         "xaxis": "x",
         "y": [
          204.17,
          203.94
         ],
         "yaxis": "y"
        },
        {
         "hoverinfo": "none",
         "line": {
          "color": "red",
          "width": 3
         },
         "mode": "lines",
         "showlegend": false,
         "type": "scatter",
         "x": [
          "2022-08-12T00:00:00",
          "2022-08-13T00:00:00"
         ],
         "xaxis": "x",
         "y": [
          203.94,
          203.69
         ],
         "yaxis": "y"
        },
        {
         "hoverinfo": "none",
         "line": {
          "color": "red",
          "width": 3
         },
         "mode": "lines",
         "showlegend": false,
         "type": "scatter",
         "x": [
          "2022-08-13T00:00:00",
          "2022-08-14T00:00:00"
         ],
         "xaxis": "x",
         "y": [
          203.69,
          203.56
         ],
         "yaxis": "y"
        },
        {
         "hoverinfo": "none",
         "line": {
          "color": "red",
          "width": 3
         },
         "mode": "lines",
         "showlegend": false,
         "type": "scatter",
         "x": [
          "2022-08-14T00:00:00",
          "2022-08-15T00:00:00"
         ],
         "xaxis": "x",
         "y": [
          203.56,
          203.42
         ],
         "yaxis": "y"
        },
        {
         "hoverinfo": "none",
         "line": {
          "color": "red",
          "width": 3
         },
         "mode": "lines",
         "showlegend": false,
         "type": "scatter",
         "x": [
          "2022-08-15T00:00:00",
          "2022-08-16T00:00:00"
         ],
         "xaxis": "x",
         "y": [
          203.42,
          203.3
         ],
         "yaxis": "y"
        },
        {
         "hoverinfo": "none",
         "line": {
          "color": "red",
          "width": 3
         },
         "mode": "lines",
         "showlegend": false,
         "type": "scatter",
         "x": [
          "2022-08-16T00:00:00",
          "2022-08-17T00:00:00"
         ],
         "xaxis": "x",
         "y": [
          203.3,
          203.06
         ],
         "yaxis": "y"
        },
        {
         "hoverinfo": "none",
         "line": {
          "color": "red",
          "width": 3
         },
         "mode": "lines",
         "showlegend": false,
         "type": "scatter",
         "x": [
          "2022-08-17T00:00:00",
          "2022-08-18T00:00:00"
         ],
         "xaxis": "x",
         "y": [
          203.06,
          202.81
         ],
         "yaxis": "y"
        },
        {
         "hoverinfo": "none",
         "line": {
          "color": "red",
          "width": 3
         },
         "mode": "lines",
         "showlegend": false,
         "type": "scatter",
         "x": [
          "2022-08-18T00:00:00",
          "2022-08-19T00:00:00"
         ],
         "xaxis": "x",
         "y": [
          202.81,
          202.69
         ],
         "yaxis": "y"
        },
        {
         "hoverinfo": "none",
         "line": {
          "color": "red",
          "width": 3
         },
         "mode": "lines",
         "showlegend": false,
         "type": "scatter",
         "x": [
          "2022-08-19T00:00:00",
          "2022-08-20T00:00:00"
         ],
         "xaxis": "x",
         "y": [
          202.69,
          202.55
         ],
         "yaxis": "y"
        },
        {
         "hoverinfo": "none",
         "line": {
          "color": "red",
          "width": 3
         },
         "mode": "lines",
         "showlegend": false,
         "type": "scatter",
         "x": [
          "2022-08-20T00:00:00",
          "2022-08-21T00:00:00"
         ],
         "xaxis": "x",
         "y": [
          202.55,
          202.4
         ],
         "yaxis": "y"
        },
        {
         "hoverinfo": "none",
         "line": {
          "color": "red",
          "width": 3
         },
         "mode": "lines",
         "showlegend": false,
         "type": "scatter",
         "x": [
          "2022-08-21T00:00:00",
          "2022-08-22T00:00:00"
         ],
         "xaxis": "x",
         "y": [
          202.4,
          202.12
         ],
         "yaxis": "y"
        },
        {
         "hoverinfo": "none",
         "line": {
          "color": "red",
          "width": 3
         },
         "mode": "lines",
         "showlegend": false,
         "type": "scatter",
         "x": [
          "2022-08-22T00:00:00",
          "2022-08-23T00:00:00"
         ],
         "xaxis": "x",
         "y": [
          202.12,
          201.86
         ],
         "yaxis": "y"
        },
        {
         "hoverinfo": "none",
         "line": {
          "color": "red",
          "width": 3
         },
         "mode": "lines",
         "showlegend": false,
         "type": "scatter",
         "x": [
          "2022-08-23T00:00:00",
          "2022-08-24T00:00:00"
         ],
         "xaxis": "x",
         "y": [
          201.86,
          201.59
         ],
         "yaxis": "y"
        },
        {
         "hoverinfo": "none",
         "line": {
          "color": "red",
          "width": 3
         },
         "mode": "lines",
         "showlegend": false,
         "type": "scatter",
         "x": [
          "2022-08-24T00:00:00",
          "2022-08-25T00:00:00"
         ],
         "xaxis": "x",
         "y": [
          201.59,
          201.42
         ],
         "yaxis": "y"
        },
        {
         "hoverinfo": "none",
         "line": {
          "color": "red",
          "width": 3
         },
         "mode": "lines",
         "showlegend": false,
         "type": "scatter",
         "x": [
          "2022-08-25T00:00:00",
          "2022-08-26T00:00:00"
         ],
         "xaxis": "x",
         "y": [
          201.42,
          201.26
         ],
         "yaxis": "y"
        },
        {
         "hoverinfo": "none",
         "line": {
          "color": "red",
          "width": 3
         },
         "mode": "lines",
         "showlegend": false,
         "type": "scatter",
         "x": [
          "2022-08-26T00:00:00",
          "2022-08-27T00:00:00"
         ],
         "xaxis": "x",
         "y": [
          201.26,
          201.1
         ],
         "yaxis": "y"
        },
        {
         "hoverinfo": "none",
         "line": {
          "color": "red",
          "width": 3
         },
         "mode": "lines",
         "showlegend": false,
         "type": "scatter",
         "x": [
          "2022-08-27T00:00:00",
          "2022-08-28T00:00:00"
         ],
         "xaxis": "x",
         "y": [
          201.1,
          200.96
         ],
         "yaxis": "y"
        },
        {
         "hoverinfo": "none",
         "line": {
          "color": "red",
          "width": 3
         },
         "mode": "lines",
         "showlegend": false,
         "type": "scatter",
         "x": [
          "2022-08-28T00:00:00",
          "2022-08-29T00:00:00"
         ],
         "xaxis": "x",
         "y": [
          200.96,
          200.8
         ],
         "yaxis": "y"
        },
        {
         "hoverinfo": "none",
         "line": {
          "color": "red",
          "width": 3
         },
         "mode": "lines",
         "showlegend": false,
         "type": "scatter",
         "x": [
          "2022-08-29T00:00:00",
          "2022-08-30T00:00:00"
         ],
         "xaxis": "x",
         "y": [
          200.8,
          200.79
         ],
         "yaxis": "y"
        },
        {
         "hoverinfo": "none",
         "line": {
          "color": "red",
          "width": 3
         },
         "mode": "lines",
         "showlegend": false,
         "type": "scatter",
         "x": [
          "2022-08-30T00:00:00",
          "2022-08-31T00:00:00"
         ],
         "xaxis": "x",
         "y": [
          200.79,
          200.75
         ],
         "yaxis": "y"
        },
        {
         "hoverinfo": "none",
         "line": {
          "color": "red",
          "width": 3
         },
         "mode": "lines",
         "showlegend": false,
         "type": "scatter",
         "x": [
          "2022-08-31T00:00:00",
          "2022-09-01T00:00:00"
         ],
         "xaxis": "x",
         "y": [
          200.75,
          200.7
         ],
         "yaxis": "y"
        },
        {
         "hoverinfo": "none",
         "line": {
          "color": "red",
          "width": 3
         },
         "mode": "lines",
         "showlegend": false,
         "type": "scatter",
         "x": [
          "2022-09-01T00:00:00",
          "2022-09-02T00:00:00"
         ],
         "xaxis": "x",
         "y": [
          200.7,
          200.67
         ],
         "yaxis": "y"
        },
        {
         "hoverinfo": "none",
         "line": {
          "color": "red",
          "width": 3
         },
         "mode": "lines",
         "showlegend": false,
         "type": "scatter",
         "x": [
          "2022-09-02T00:00:00",
          "2022-09-03T00:00:00"
         ],
         "xaxis": "x",
         "y": [
          200.67,
          200.66
         ],
         "yaxis": "y"
        },
        {
         "hoverinfo": "none",
         "line": {
          "color": "red",
          "width": 3
         },
         "mode": "lines",
         "showlegend": false,
         "type": "scatter",
         "x": [
          "2022-09-03T00:00:00",
          "2022-09-04T00:00:00"
         ],
         "xaxis": "x",
         "y": [
          200.66,
          200.64
         ],
         "yaxis": "y"
        },
        {
         "hoverinfo": "none",
         "line": {
          "color": "red",
          "width": 3
         },
         "mode": "lines",
         "showlegend": false,
         "type": "scatter",
         "x": [
          "2022-09-04T00:00:00",
          "2022-09-05T00:00:00"
         ],
         "xaxis": "x",
         "y": [
          200.64,
          200.61
         ],
         "yaxis": "y"
        },
        {
         "hoverinfo": "none",
         "line": {
          "color": "green",
          "width": 3
         },
         "mode": "lines",
         "showlegend": false,
         "type": "scatter",
         "x": [
          "2022-09-05T00:00:00",
          "2022-09-06T00:00:00"
         ],
         "xaxis": "x",
         "y": [
          200.61,
          200.61
         ],
         "yaxis": "y"
        },
        {
         "hoverinfo": "none",
         "line": {
          "color": "red",
          "width": 3
         },
         "mode": "lines",
         "showlegend": false,
         "type": "scatter",
         "x": [
          "2022-09-06T00:00:00",
          "2022-09-07T00:00:00"
         ],
         "xaxis": "x",
         "y": [
          200.61,
          200.59
         ],
         "yaxis": "y"
        },
        {
         "hoverinfo": "none",
         "line": {
          "color": "green",
          "width": 3
         },
         "mode": "lines",
         "showlegend": false,
         "type": "scatter",
         "x": [
          "2022-09-07T00:00:00",
          "2022-09-08T00:00:00"
         ],
         "xaxis": "x",
         "y": [
          200.59,
          200.59
         ],
         "yaxis": "y"
        },
        {
         "hoverinfo": "none",
         "line": {
          "color": "green",
          "width": 3
         },
         "mode": "lines",
         "showlegend": false,
         "type": "scatter",
         "x": [
          "2022-09-08T00:00:00",
          "2022-09-09T00:00:00"
         ],
         "xaxis": "x",
         "y": [
          200.59,
          200.62
         ],
         "yaxis": "y"
        },
        {
         "hoverinfo": "none",
         "line": {
          "color": "green",
          "width": 3
         },
         "mode": "lines",
         "showlegend": false,
         "type": "scatter",
         "x": [
          "2022-09-09T00:00:00",
          "2022-09-10T00:00:00"
         ],
         "xaxis": "x",
         "y": [
          200.62,
          200.67
         ],
         "yaxis": "y"
        },
        {
         "hoverinfo": "none",
         "line": {
          "color": "green",
          "width": 3
         },
         "mode": "lines",
         "showlegend": false,
         "type": "scatter",
         "x": [
          "2022-09-10T00:00:00",
          "2022-09-11T00:00:00"
         ],
         "xaxis": "x",
         "y": [
          200.67,
          200.7
         ],
         "yaxis": "y"
        },
        {
         "hoverinfo": "none",
         "line": {
          "color": "green",
          "width": 3
         },
         "mode": "lines",
         "showlegend": false,
         "type": "scatter",
         "x": [
          "2022-09-11T00:00:00",
          "2022-09-12T00:00:00"
         ],
         "xaxis": "x",
         "y": [
          200.7,
          200.72
         ],
         "yaxis": "y"
        },
        {
         "hoverinfo": "none",
         "line": {
          "color": "green",
          "width": 3
         },
         "mode": "lines",
         "showlegend": false,
         "type": "scatter",
         "x": [
          "2022-09-12T00:00:00",
          "2022-09-13T00:00:00"
         ],
         "xaxis": "x",
         "y": [
          200.72,
          200.8
         ],
         "yaxis": "y"
        },
        {
         "hoverinfo": "none",
         "line": {
          "color": "green",
          "width": 3
         },
         "mode": "lines",
         "showlegend": false,
         "type": "scatter",
         "x": [
          "2022-09-13T00:00:00",
          "2022-09-14T00:00:00"
         ],
         "xaxis": "x",
         "y": [
          200.8,
          200.87
         ],
         "yaxis": "y"
        },
        {
         "hoverinfo": "none",
         "line": {
          "color": "green",
          "width": 3
         },
         "mode": "lines",
         "showlegend": false,
         "type": "scatter",
         "x": [
          "2022-09-14T00:00:00",
          "2022-09-15T00:00:00"
         ],
         "xaxis": "x",
         "y": [
          200.87,
          200.93
         ],
         "yaxis": "y"
        },
        {
         "hoverinfo": "none",
         "line": {
          "color": "green",
          "width": 3
         },
         "mode": "lines",
         "showlegend": false,
         "type": "scatter",
         "x": [
          "2022-09-15T00:00:00",
          "2022-09-16T00:00:00"
         ],
         "xaxis": "x",
         "y": [
          200.93,
          201
         ],
         "yaxis": "y"
        },
        {
         "hoverinfo": "none",
         "line": {
          "color": "green",
          "width": 3
         },
         "mode": "lines",
         "showlegend": false,
         "type": "scatter",
         "x": [
          "2022-09-16T00:00:00",
          "2022-09-17T00:00:00"
         ],
         "xaxis": "x",
         "y": [
          201,
          201.06
         ],
         "yaxis": "y"
        },
        {
         "hoverinfo": "none",
         "line": {
          "color": "green",
          "width": 3
         },
         "mode": "lines",
         "showlegend": false,
         "type": "scatter",
         "x": [
          "2022-09-17T00:00:00",
          "2022-09-18T00:00:00"
         ],
         "xaxis": "x",
         "y": [
          201.06,
          201.11
         ],
         "yaxis": "y"
        },
        {
         "hoverinfo": "none",
         "line": {
          "color": "green",
          "width": 3
         },
         "mode": "lines",
         "showlegend": false,
         "type": "scatter",
         "x": [
          "2022-09-18T00:00:00",
          "2022-09-19T00:00:00"
         ],
         "xaxis": "x",
         "y": [
          201.11,
          201.16
         ],
         "yaxis": "y"
        },
        {
         "hoverinfo": "none",
         "line": {
          "color": "green",
          "width": 3
         },
         "mode": "lines",
         "showlegend": false,
         "type": "scatter",
         "x": [
          "2022-09-19T00:00:00",
          "2022-09-20T00:00:00"
         ],
         "xaxis": "x",
         "y": [
          201.16,
          201.24
         ],
         "yaxis": "y"
        },
        {
         "hoverinfo": "none",
         "line": {
          "color": "red",
          "width": 3
         },
         "mode": "lines",
         "showlegend": false,
         "type": "scatter",
         "x": [
          "2022-09-20T00:00:00",
          "2022-09-21T00:00:00"
         ],
         "xaxis": "x",
         "y": [
          201.24,
          201.16
         ],
         "yaxis": "y"
        },
        {
         "hoverinfo": "none",
         "line": {
          "color": "red",
          "width": 3
         },
         "mode": "lines",
         "showlegend": false,
         "type": "scatter",
         "x": [
          "2022-09-21T00:00:00",
          "2022-09-22T00:00:00"
         ],
         "xaxis": "x",
         "y": [
          201.16,
          201.07
         ],
         "yaxis": "y"
        },
        {
         "hoverinfo": "none",
         "line": {
          "color": "red",
          "width": 3
         },
         "mode": "lines",
         "showlegend": false,
         "type": "scatter",
         "x": [
          "2022-09-22T00:00:00",
          "2022-09-23T00:00:00"
         ],
         "xaxis": "x",
         "y": [
          201.07,
          200.96
         ],
         "yaxis": "y"
        },
        {
         "hoverinfo": "none",
         "line": {
          "color": "red",
          "width": 3
         },
         "mode": "lines",
         "showlegend": false,
         "type": "scatter",
         "x": [
          "2022-09-23T00:00:00",
          "2022-09-24T00:00:00"
         ],
         "xaxis": "x",
         "y": [
          200.96,
          200.85
         ],
         "yaxis": "y"
        },
        {
         "hoverinfo": "none",
         "line": {
          "color": "red",
          "width": 3
         },
         "mode": "lines",
         "showlegend": false,
         "type": "scatter",
         "x": [
          "2022-09-24T00:00:00",
          "2022-09-25T00:00:00"
         ],
         "xaxis": "x",
         "y": [
          200.85,
          200.71
         ],
         "yaxis": "y"
        },
        {
         "hoverinfo": "none",
         "line": {
          "color": "red",
          "width": 3
         },
         "mode": "lines",
         "showlegend": false,
         "type": "scatter",
         "x": [
          "2022-09-25T00:00:00",
          "2022-09-26T00:00:00"
         ],
         "xaxis": "x",
         "y": [
          200.71,
          200.57
         ],
         "yaxis": "y"
        },
        {
         "hoverinfo": "none",
         "line": {
          "color": "red",
          "width": 3
         },
         "mode": "lines",
         "showlegend": false,
         "type": "scatter",
         "x": [
          "2022-09-26T00:00:00",
          "2022-09-27T00:00:00"
         ],
         "xaxis": "x",
         "y": [
          200.57,
          200.45
         ],
         "yaxis": "y"
        },
        {
         "hoverinfo": "none",
         "line": {
          "color": "red",
          "width": 3
         },
         "mode": "lines",
         "showlegend": false,
         "type": "scatter",
         "x": [
          "2022-09-27T00:00:00",
          "2022-09-28T00:00:00"
         ],
         "xaxis": "x",
         "y": [
          200.45,
          200.26
         ],
         "yaxis": "y"
        },
        {
         "hoverinfo": "none",
         "line": {
          "color": "red",
          "width": 3
         },
         "mode": "lines",
         "showlegend": false,
         "type": "scatter",
         "x": [
          "2022-09-28T00:00:00",
          "2022-09-29T00:00:00"
         ],
         "xaxis": "x",
         "y": [
          200.26,
          200.16
         ],
         "yaxis": "y"
        },
        {
         "hoverinfo": "none",
         "line": {
          "color": "red",
          "width": 3
         },
         "mode": "lines",
         "showlegend": false,
         "type": "scatter",
         "x": [
          "2022-09-29T00:00:00",
          "2022-09-30T00:00:00"
         ],
         "xaxis": "x",
         "y": [
          200.16,
          200.08
         ],
         "yaxis": "y"
        },
        {
         "hoverinfo": "none",
         "line": {
          "color": "red",
          "width": 3
         },
         "mode": "lines",
         "showlegend": false,
         "type": "scatter",
         "x": [
          "2022-09-30T00:00:00",
          "2022-10-01T00:00:00"
         ],
         "xaxis": "x",
         "y": [
          200.08,
          199.9
         ],
         "yaxis": "y"
        },
        {
         "hoverinfo": "none",
         "line": {
          "color": "red",
          "width": 3
         },
         "mode": "lines",
         "showlegend": false,
         "type": "scatter",
         "x": [
          "2022-10-01T00:00:00",
          "2022-10-02T00:00:00"
         ],
         "xaxis": "x",
         "y": [
          199.9,
          199.73
         ],
         "yaxis": "y"
        },
        {
         "hoverinfo": "none",
         "line": {
          "color": "red",
          "width": 3
         },
         "mode": "lines",
         "showlegend": false,
         "type": "scatter",
         "x": [
          "2022-10-02T00:00:00",
          "2022-10-03T00:00:00"
         ],
         "xaxis": "x",
         "y": [
          199.73,
          199.57
         ],
         "yaxis": "y"
        },
        {
         "hoverinfo": "none",
         "line": {
          "color": "red",
          "width": 3
         },
         "mode": "lines",
         "showlegend": false,
         "type": "scatter",
         "x": [
          "2022-10-03T00:00:00",
          "2022-10-04T00:00:00"
         ],
         "xaxis": "x",
         "y": [
          199.57,
          199.4
         ],
         "yaxis": "y"
        },
        {
         "hoverinfo": "none",
         "line": {
          "color": "red",
          "width": 3
         },
         "mode": "lines",
         "showlegend": false,
         "type": "scatter",
         "x": [
          "2022-10-04T00:00:00",
          "2022-10-05T00:00:00"
         ],
         "xaxis": "x",
         "y": [
          199.4,
          199.21
         ],
         "yaxis": "y"
        },
        {
         "hoverinfo": "none",
         "line": {
          "color": "red",
          "width": 3
         },
         "mode": "lines",
         "showlegend": false,
         "type": "scatter",
         "x": [
          "2022-10-05T00:00:00",
          "2022-10-06T00:00:00"
         ],
         "xaxis": "x",
         "y": [
          199.21,
          198.94
         ],
         "yaxis": "y"
        },
        {
         "hoverinfo": "none",
         "line": {
          "color": "red",
          "width": 3
         },
         "mode": "lines",
         "showlegend": false,
         "type": "scatter",
         "x": [
          "2022-10-06T00:00:00",
          "2022-10-07T00:00:00"
         ],
         "xaxis": "x",
         "y": [
          198.94,
          198.69
         ],
         "yaxis": "y"
        },
        {
         "hoverinfo": "none",
         "line": {
          "color": "red",
          "width": 3
         },
         "mode": "lines",
         "showlegend": false,
         "type": "scatter",
         "x": [
          "2022-10-07T00:00:00",
          "2022-10-08T00:00:00"
         ],
         "xaxis": "x",
         "y": [
          198.69,
          198.44
         ],
         "yaxis": "y"
        },
        {
         "hoverinfo": "none",
         "line": {
          "color": "red",
          "width": 3
         },
         "mode": "lines",
         "showlegend": false,
         "type": "scatter",
         "x": [
          "2022-10-08T00:00:00",
          "2022-10-09T00:00:00"
         ],
         "xaxis": "x",
         "y": [
          198.44,
          198.3
         ],
         "yaxis": "y"
        },
        {
         "hoverinfo": "none",
         "line": {
          "color": "red",
          "width": 3
         },
         "mode": "lines",
         "showlegend": false,
         "type": "scatter",
         "x": [
          "2022-10-09T00:00:00",
          "2022-10-10T00:00:00"
         ],
         "xaxis": "x",
         "y": [
          198.3,
          198.16
         ],
         "yaxis": "y"
        },
        {
         "hoverinfo": "none",
         "line": {
          "color": "red",
          "width": 3
         },
         "mode": "lines",
         "showlegend": false,
         "type": "scatter",
         "x": [
          "2022-10-10T00:00:00",
          "2022-10-11T00:00:00"
         ],
         "xaxis": "x",
         "y": [
          198.16,
          198
         ],
         "yaxis": "y"
        },
        {
         "hoverinfo": "none",
         "line": {
          "color": "red",
          "width": 3
         },
         "mode": "lines",
         "showlegend": false,
         "type": "scatter",
         "x": [
          "2022-10-11T00:00:00",
          "2022-10-12T00:00:00"
         ],
         "xaxis": "x",
         "y": [
          198,
          197.86
         ],
         "yaxis": "y"
        },
        {
         "hoverinfo": "none",
         "line": {
          "color": "red",
          "width": 3
         },
         "mode": "lines",
         "showlegend": false,
         "type": "scatter",
         "x": [
          "2022-10-12T00:00:00",
          "2022-10-13T00:00:00"
         ],
         "xaxis": "x",
         "y": [
          197.86,
          197.6
         ],
         "yaxis": "y"
        },
        {
         "hoverinfo": "none",
         "line": {
          "color": "red",
          "width": 3
         },
         "mode": "lines",
         "showlegend": false,
         "type": "scatter",
         "x": [
          "2022-10-13T00:00:00",
          "2022-10-14T00:00:00"
         ],
         "xaxis": "x",
         "y": [
          197.6,
          197.45
         ],
         "yaxis": "y"
        },
        {
         "hoverinfo": "none",
         "line": {
          "color": "red",
          "width": 3
         },
         "mode": "lines",
         "showlegend": false,
         "type": "scatter",
         "x": [
          "2022-10-14T00:00:00",
          "2022-10-15T00:00:00"
         ],
         "xaxis": "x",
         "y": [
          197.45,
          197.44
         ],
         "yaxis": "y"
        },
        {
         "hoverinfo": "none",
         "line": {
          "color": "red",
          "width": 3
         },
         "mode": "lines",
         "showlegend": false,
         "type": "scatter",
         "x": [
          "2022-10-15T00:00:00",
          "2022-10-16T00:00:00"
         ],
         "xaxis": "x",
         "y": [
          197.44,
          197.42
         ],
         "yaxis": "y"
        },
        {
         "hoverinfo": "none",
         "line": {
          "color": "red",
          "width": 3
         },
         "mode": "lines",
         "showlegend": false,
         "type": "scatter",
         "x": [
          "2022-10-16T00:00:00",
          "2022-10-17T00:00:00"
         ],
         "xaxis": "x",
         "y": [
          197.42,
          197.28
         ],
         "yaxis": "y"
        },
        {
         "hoverinfo": "none",
         "line": {
          "color": "red",
          "width": 3
         },
         "mode": "lines",
         "showlegend": false,
         "type": "scatter",
         "x": [
          "2022-10-17T00:00:00",
          "2022-10-18T00:00:00"
         ],
         "xaxis": "x",
         "y": [
          197.28,
          197.14
         ],
         "yaxis": "y"
        },
        {
         "hoverinfo": "none",
         "line": {
          "color": "red",
          "width": 3
         },
         "mode": "lines",
         "showlegend": false,
         "type": "scatter",
         "x": [
          "2022-10-18T00:00:00",
          "2022-10-19T00:00:00"
         ],
         "xaxis": "x",
         "y": [
          197.14,
          197
         ],
         "yaxis": "y"
        },
        {
         "hoverinfo": "none",
         "line": {
          "color": "red",
          "width": 3
         },
         "mode": "lines",
         "showlegend": false,
         "type": "scatter",
         "x": [
          "2022-10-19T00:00:00",
          "2022-10-20T00:00:00"
         ],
         "xaxis": "x",
         "y": [
          197,
          196.86
         ],
         "yaxis": "y"
        },
        {
         "hoverinfo": "none",
         "line": {
          "color": "red",
          "width": 3
         },
         "mode": "lines",
         "showlegend": false,
         "type": "scatter",
         "x": [
          "2022-10-20T00:00:00",
          "2022-10-21T00:00:00"
         ],
         "xaxis": "x",
         "y": [
          196.86,
          196.84
         ],
         "yaxis": "y"
        },
        {
         "hoverinfo": "none",
         "line": {
          "color": "red",
          "width": 3
         },
         "mode": "lines",
         "showlegend": false,
         "type": "scatter",
         "x": [
          "2022-10-21T00:00:00",
          "2022-10-22T00:00:00"
         ],
         "xaxis": "x",
         "y": [
          196.84,
          196.82
         ],
         "yaxis": "y"
        },
        {
         "hoverinfo": "none",
         "line": {
          "color": "red",
          "width": 3
         },
         "mode": "lines",
         "showlegend": false,
         "type": "scatter",
         "x": [
          "2022-10-22T00:00:00",
          "2022-10-23T00:00:00"
         ],
         "xaxis": "x",
         "y": [
          196.82,
          196.68
         ],
         "yaxis": "y"
        },
        {
         "hoverinfo": "none",
         "line": {
          "color": "red",
          "width": 3
         },
         "mode": "lines",
         "showlegend": false,
         "type": "scatter",
         "x": [
          "2022-10-23T00:00:00",
          "2022-10-24T00:00:00"
         ],
         "xaxis": "x",
         "y": [
          196.68,
          196.54
         ],
         "yaxis": "y"
        },
        {
         "hoverinfo": "none",
         "line": {
          "color": "red",
          "width": 3
         },
         "mode": "lines",
         "showlegend": false,
         "type": "scatter",
         "x": [
          "2022-10-24T00:00:00",
          "2022-10-25T00:00:00"
         ],
         "xaxis": "x",
         "y": [
          196.54,
          196.53
         ],
         "yaxis": "y"
        },
        {
         "hoverinfo": "none",
         "line": {
          "color": "red",
          "width": 3
         },
         "mode": "lines",
         "showlegend": false,
         "type": "scatter",
         "x": [
          "2022-10-25T00:00:00",
          "2022-10-26T00:00:00"
         ],
         "xaxis": "x",
         "y": [
          196.53,
          196.38
         ],
         "yaxis": "y"
        },
        {
         "hoverinfo": "none",
         "line": {
          "color": "red",
          "width": 3
         },
         "mode": "lines",
         "showlegend": false,
         "type": "scatter",
         "x": [
          "2022-10-26T00:00:00",
          "2022-10-27T00:00:00"
         ],
         "xaxis": "x",
         "y": [
          196.38,
          196.26
         ],
         "yaxis": "y"
        },
        {
         "hoverinfo": "none",
         "line": {
          "color": "red",
          "width": 3
         },
         "mode": "lines",
         "showlegend": false,
         "type": "scatter",
         "x": [
          "2022-10-27T00:00:00",
          "2022-10-28T00:00:00"
         ],
         "xaxis": "x",
         "y": [
          196.26,
          196.13
         ],
         "yaxis": "y"
        },
        {
         "hoverinfo": "none",
         "line": {
          "color": "red",
          "width": 3
         },
         "mode": "lines",
         "showlegend": false,
         "type": "scatter",
         "x": [
          "2022-10-28T00:00:00",
          "2022-10-29T00:00:00"
         ],
         "xaxis": "x",
         "y": [
          196.13,
          196.01
         ],
         "yaxis": "y"
        },
        {
         "hoverinfo": "none",
         "line": {
          "color": "red",
          "width": 3
         },
         "mode": "lines",
         "showlegend": false,
         "type": "scatter",
         "x": [
          "2022-10-29T00:00:00",
          "2022-10-30T00:00:00"
         ],
         "xaxis": "x",
         "y": [
          196.01,
          195.88
         ],
         "yaxis": "y"
        },
        {
         "hoverinfo": "none",
         "line": {
          "color": "red",
          "width": 3
         },
         "mode": "lines",
         "showlegend": false,
         "type": "scatter",
         "x": [
          "2022-10-30T00:00:00",
          "2022-10-31T00:00:00"
         ],
         "xaxis": "x",
         "y": [
          195.88,
          195.74
         ],
         "yaxis": "y"
        },
        {
         "hoverinfo": "none",
         "line": {
          "color": "red",
          "width": 3
         },
         "mode": "lines",
         "showlegend": false,
         "type": "scatter",
         "x": [
          "2022-10-31T00:00:00",
          "2022-11-01T00:00:00"
         ],
         "xaxis": "x",
         "y": [
          195.74,
          195.6
         ],
         "yaxis": "y"
        },
        {
         "hoverinfo": "none",
         "line": {
          "color": "red",
          "width": 3
         },
         "mode": "lines",
         "showlegend": false,
         "type": "scatter",
         "x": [
          "2022-11-01T00:00:00",
          "2022-11-02T00:00:00"
         ],
         "xaxis": "x",
         "y": [
          195.6,
          195.46
         ],
         "yaxis": "y"
        },
        {
         "hoverinfo": "none",
         "line": {
          "color": "red",
          "width": 3
         },
         "mode": "lines",
         "showlegend": false,
         "type": "scatter",
         "x": [
          "2022-11-02T00:00:00",
          "2022-11-03T00:00:00"
         ],
         "xaxis": "x",
         "y": [
          195.46,
          195.43
         ],
         "yaxis": "y"
        },
        {
         "hoverinfo": "none",
         "line": {
          "color": "red",
          "width": 3
         },
         "mode": "lines",
         "showlegend": false,
         "type": "scatter",
         "x": [
          "2022-11-03T00:00:00",
          "2022-11-04T00:00:00"
         ],
         "xaxis": "x",
         "y": [
          195.43,
          195.4
         ],
         "yaxis": "y"
        },
        {
         "hoverinfo": "none",
         "line": {
          "color": "red",
          "width": 3
         },
         "mode": "lines",
         "showlegend": false,
         "type": "scatter",
         "x": [
          "2022-11-04T00:00:00",
          "2022-11-05T00:00:00"
         ],
         "xaxis": "x",
         "y": [
          195.4,
          195.25
         ],
         "yaxis": "y"
        },
        {
         "hoverinfo": "none",
         "line": {
          "color": "red",
          "width": 3
         },
         "mode": "lines",
         "showlegend": false,
         "type": "scatter",
         "x": [
          "2022-11-05T00:00:00",
          "2022-11-06T00:00:00"
         ],
         "xaxis": "x",
         "y": [
          195.25,
          195.11
         ],
         "yaxis": "y"
        },
        {
         "hoverinfo": "none",
         "line": {
          "color": "red",
          "width": 3
         },
         "mode": "lines",
         "showlegend": false,
         "type": "scatter",
         "x": [
          "2022-11-06T00:00:00",
          "2022-11-07T00:00:00"
         ],
         "xaxis": "x",
         "y": [
          195.11,
          194.97
         ],
         "yaxis": "y"
        },
        {
         "hoverinfo": "none",
         "line": {
          "color": "red",
          "width": 3
         },
         "mode": "lines",
         "showlegend": false,
         "type": "scatter",
         "x": [
          "2022-11-07T00:00:00",
          "2022-11-08T00:00:00"
         ],
         "xaxis": "x",
         "y": [
          194.97,
          194.85
         ],
         "yaxis": "y"
        },
        {
         "hoverinfo": "none",
         "line": {
          "color": "red",
          "width": 3
         },
         "mode": "lines",
         "showlegend": false,
         "type": "scatter",
         "x": [
          "2022-11-08T00:00:00",
          "2022-11-09T00:00:00"
         ],
         "xaxis": "x",
         "y": [
          194.85,
          194.71
         ],
         "yaxis": "y"
        },
        {
         "hoverinfo": "none",
         "line": {
          "color": "red",
          "width": 3
         },
         "mode": "lines",
         "showlegend": false,
         "type": "scatter",
         "x": [
          "2022-11-09T00:00:00",
          "2022-11-10T00:00:00"
         ],
         "xaxis": "x",
         "y": [
          194.71,
          194.56
         ],
         "yaxis": "y"
        },
        {
         "hoverinfo": "none",
         "line": {
          "color": "red",
          "width": 3
         },
         "mode": "lines",
         "showlegend": false,
         "type": "scatter",
         "x": [
          "2022-11-10T00:00:00",
          "2022-11-11T00:00:00"
         ],
         "xaxis": "x",
         "y": [
          194.56,
          194.33
         ],
         "yaxis": "y"
        },
        {
         "hoverinfo": "none",
         "line": {
          "color": "red",
          "width": 3
         },
         "mode": "lines",
         "showlegend": false,
         "type": "scatter",
         "x": [
          "2022-11-11T00:00:00",
          "2022-11-12T00:00:00"
         ],
         "xaxis": "x",
         "y": [
          194.33,
          194.08
         ],
         "yaxis": "y"
        },
        {
         "hoverinfo": "none",
         "line": {
          "color": "red",
          "width": 3
         },
         "mode": "lines",
         "showlegend": false,
         "type": "scatter",
         "x": [
          "2022-11-12T00:00:00",
          "2022-11-13T00:00:00"
         ],
         "xaxis": "x",
         "y": [
          194.08,
          193.94
         ],
         "yaxis": "y"
        },
        {
         "hoverinfo": "none",
         "line": {
          "color": "red",
          "width": 3
         },
         "mode": "lines",
         "showlegend": false,
         "type": "scatter",
         "x": [
          "2022-11-13T00:00:00",
          "2022-11-14T00:00:00"
         ],
         "xaxis": "x",
         "y": [
          193.94,
          193.8
         ],
         "yaxis": "y"
        },
        {
         "hoverinfo": "none",
         "line": {
          "color": "red",
          "width": 3
         },
         "mode": "lines",
         "showlegend": false,
         "type": "scatter",
         "x": [
          "2022-11-14T00:00:00",
          "2022-11-15T00:00:00"
         ],
         "xaxis": "x",
         "y": [
          193.8,
          193.66
         ],
         "yaxis": "y"
        },
        {
         "hoverinfo": "none",
         "line": {
          "color": "red",
          "width": 3
         },
         "mode": "lines",
         "showlegend": false,
         "type": "scatter",
         "x": [
          "2022-11-15T00:00:00",
          "2022-11-16T00:00:00"
         ],
         "xaxis": "x",
         "y": [
          193.66,
          193.5
         ],
         "yaxis": "y"
        },
        {
         "hoverinfo": "none",
         "line": {
          "color": "red",
          "width": 3
         },
         "mode": "lines",
         "showlegend": false,
         "type": "scatter",
         "x": [
          "2022-11-16T00:00:00",
          "2022-11-17T00:00:00"
         ],
         "xaxis": "x",
         "y": [
          193.5,
          193.25
         ],
         "yaxis": "y"
        },
        {
         "hoverinfo": "none",
         "line": {
          "color": "red",
          "width": 3
         },
         "mode": "lines",
         "showlegend": false,
         "type": "scatter",
         "x": [
          "2022-11-17T00:00:00",
          "2022-11-18T00:00:00"
         ],
         "xaxis": "x",
         "y": [
          193.25,
          193
         ],
         "yaxis": "y"
        },
        {
         "hoverinfo": "none",
         "line": {
          "color": "red",
          "width": 3
         },
         "mode": "lines",
         "showlegend": false,
         "type": "scatter",
         "x": [
          "2022-11-18T00:00:00",
          "2022-11-19T00:00:00"
         ],
         "xaxis": "x",
         "y": [
          193,
          192.84
         ],
         "yaxis": "y"
        },
        {
         "hoverinfo": "none",
         "line": {
          "color": "red",
          "width": 3
         },
         "mode": "lines",
         "showlegend": false,
         "type": "scatter",
         "x": [
          "2022-11-19T00:00:00",
          "2022-11-20T00:00:00"
         ],
         "xaxis": "x",
         "y": [
          192.84,
          192.7
         ],
         "yaxis": "y"
        },
        {
         "hoverinfo": "none",
         "line": {
          "color": "red",
          "width": 3
         },
         "mode": "lines",
         "showlegend": false,
         "type": "scatter",
         "x": [
          "2022-11-20T00:00:00",
          "2022-11-21T00:00:00"
         ],
         "xaxis": "x",
         "y": [
          192.7,
          192.56
         ],
         "yaxis": "y"
        },
        {
         "hoverinfo": "none",
         "line": {
          "color": "red",
          "width": 3
         },
         "mode": "lines",
         "showlegend": false,
         "type": "scatter",
         "x": [
          "2022-11-21T00:00:00",
          "2022-11-22T00:00:00"
         ],
         "xaxis": "x",
         "y": [
          192.56,
          192.4
         ],
         "yaxis": "y"
        },
        {
         "hoverinfo": "none",
         "line": {
          "color": "red",
          "width": 3
         },
         "mode": "lines",
         "showlegend": false,
         "type": "scatter",
         "x": [
          "2022-11-22T00:00:00",
          "2022-11-23T00:00:00"
         ],
         "xaxis": "x",
         "y": [
          192.4,
          192.24
         ],
         "yaxis": "y"
        },
        {
         "hoverinfo": "none",
         "line": {
          "color": "red",
          "width": 3
         },
         "mode": "lines",
         "showlegend": false,
         "type": "scatter",
         "x": [
          "2022-11-23T00:00:00",
          "2022-11-24T00:00:00"
         ],
         "xaxis": "x",
         "y": [
          192.24,
          191.98
         ],
         "yaxis": "y"
        },
        {
         "hoverinfo": "none",
         "line": {
          "color": "red",
          "width": 3
         },
         "mode": "lines",
         "showlegend": false,
         "type": "scatter",
         "x": [
          "2022-11-24T00:00:00",
          "2022-11-25T00:00:00"
         ],
         "xaxis": "x",
         "y": [
          191.98,
          191.82
         ],
         "yaxis": "y"
        },
        {
         "hoverinfo": "none",
         "line": {
          "color": "red",
          "width": 3
         },
         "mode": "lines",
         "showlegend": false,
         "type": "scatter",
         "x": [
          "2022-11-25T00:00:00",
          "2022-11-26T00:00:00"
         ],
         "xaxis": "x",
         "y": [
          191.82,
          191.66
         ],
         "yaxis": "y"
        },
        {
         "hoverinfo": "none",
         "line": {
          "color": "red",
          "width": 3
         },
         "mode": "lines",
         "showlegend": false,
         "type": "scatter",
         "x": [
          "2022-11-26T00:00:00",
          "2022-11-27T00:00:00"
         ],
         "xaxis": "x",
         "y": [
          191.66,
          191.52
         ],
         "yaxis": "y"
        },
        {
         "hoverinfo": "none",
         "line": {
          "color": "red",
          "width": 3
         },
         "mode": "lines",
         "showlegend": false,
         "type": "scatter",
         "x": [
          "2022-11-27T00:00:00",
          "2022-11-28T00:00:00"
         ],
         "xaxis": "x",
         "y": [
          191.52,
          191.38
         ],
         "yaxis": "y"
        },
        {
         "hoverinfo": "none",
         "line": {
          "color": "red",
          "width": 3
         },
         "mode": "lines",
         "showlegend": false,
         "type": "scatter",
         "x": [
          "2022-11-28T00:00:00",
          "2022-11-29T00:00:00"
         ],
         "xaxis": "x",
         "y": [
          191.38,
          191.22
         ],
         "yaxis": "y"
        },
        {
         "hoverinfo": "none",
         "line": {
          "color": "red",
          "width": 3
         },
         "mode": "lines",
         "showlegend": false,
         "type": "scatter",
         "x": [
          "2022-11-29T00:00:00",
          "2022-11-30T00:00:00"
         ],
         "xaxis": "x",
         "y": [
          191.22,
          191.08
         ],
         "yaxis": "y"
        },
        {
         "hoverinfo": "none",
         "line": {
          "color": "red",
          "width": 3
         },
         "mode": "lines",
         "showlegend": false,
         "type": "scatter",
         "x": [
          "2022-11-30T00:00:00",
          "2022-12-01T00:00:00"
         ],
         "xaxis": "x",
         "y": [
          191.08,
          190.83
         ],
         "yaxis": "y"
        },
        {
         "hoverinfo": "none",
         "line": {
          "color": "red",
          "width": 3
         },
         "mode": "lines",
         "showlegend": false,
         "type": "scatter",
         "x": [
          "2022-12-01T00:00:00",
          "2022-12-02T00:00:00"
         ],
         "xaxis": "x",
         "y": [
          190.83,
          190.82
         ],
         "yaxis": "y"
        },
        {
         "hoverinfo": "none",
         "line": {
          "color": "red",
          "width": 3
         },
         "mode": "lines",
         "showlegend": false,
         "type": "scatter",
         "x": [
          "2022-12-02T00:00:00",
          "2022-12-03T00:00:00"
         ],
         "xaxis": "x",
         "y": [
          190.82,
          190.8
         ],
         "yaxis": "y"
        },
        {
         "hoverinfo": "none",
         "line": {
          "color": "red",
          "width": 3
         },
         "mode": "lines",
         "showlegend": false,
         "type": "scatter",
         "x": [
          "2022-12-03T00:00:00",
          "2022-12-04T00:00:00"
         ],
         "xaxis": "x",
         "y": [
          190.8,
          190.78
         ],
         "yaxis": "y"
        },
        {
         "hoverinfo": "none",
         "line": {
          "color": "red",
          "width": 3
         },
         "mode": "lines",
         "showlegend": false,
         "type": "scatter",
         "x": [
          "2022-12-04T00:00:00",
          "2022-12-05T00:00:00"
         ],
         "xaxis": "x",
         "y": [
          190.78,
          190.66
         ],
         "yaxis": "y"
        },
        {
         "hoverinfo": "none",
         "line": {
          "color": "red",
          "width": 3
         },
         "mode": "lines",
         "showlegend": false,
         "type": "scatter",
         "x": [
          "2022-12-05T00:00:00",
          "2022-12-06T00:00:00"
         ],
         "xaxis": "x",
         "y": [
          190.66,
          190.53
         ],
         "yaxis": "y"
        },
        {
         "hoverinfo": "none",
         "line": {
          "color": "red",
          "width": 3
         },
         "mode": "lines",
         "showlegend": false,
         "type": "scatter",
         "x": [
          "2022-12-06T00:00:00",
          "2022-12-07T00:00:00"
         ],
         "xaxis": "x",
         "y": [
          190.53,
          190.42
         ],
         "yaxis": "y"
        },
        {
         "hoverinfo": "none",
         "line": {
          "color": "red",
          "width": 3
         },
         "mode": "lines",
         "showlegend": false,
         "type": "scatter",
         "x": [
          "2022-12-07T00:00:00",
          "2022-12-08T00:00:00"
         ],
         "xaxis": "x",
         "y": [
          190.42,
          190.3
         ],
         "yaxis": "y"
        },
        {
         "hoverinfo": "none",
         "line": {
          "color": "red",
          "width": 3
         },
         "mode": "lines",
         "showlegend": false,
         "type": "scatter",
         "x": [
          "2022-12-08T00:00:00",
          "2022-12-09T00:00:00"
         ],
         "xaxis": "x",
         "y": [
          190.3,
          190.28
         ],
         "yaxis": "y"
        },
        {
         "hoverinfo": "none",
         "line": {
          "color": "red",
          "width": 3
         },
         "mode": "lines",
         "showlegend": false,
         "type": "scatter",
         "x": [
          "2022-12-09T00:00:00",
          "2022-12-10T00:00:00"
         ],
         "xaxis": "x",
         "y": [
          190.28,
          190.14
         ],
         "yaxis": "y"
        },
        {
         "hoverinfo": "none",
         "line": {
          "color": "red",
          "width": 3
         },
         "mode": "lines",
         "showlegend": false,
         "type": "scatter",
         "x": [
          "2022-12-10T00:00:00",
          "2022-12-11T00:00:00"
         ],
         "xaxis": "x",
         "y": [
          190.14,
          190.02
         ],
         "yaxis": "y"
        },
        {
         "hoverinfo": "none",
         "line": {
          "color": "red",
          "width": 3
         },
         "mode": "lines",
         "showlegend": false,
         "type": "scatter",
         "x": [
          "2022-12-11T00:00:00",
          "2022-12-12T00:00:00"
         ],
         "xaxis": "x",
         "y": [
          190.02,
          189.89
         ],
         "yaxis": "y"
        },
        {
         "hoverinfo": "none",
         "line": {
          "color": "red",
          "width": 3
         },
         "mode": "lines",
         "showlegend": false,
         "type": "scatter",
         "x": [
          "2022-12-12T00:00:00",
          "2022-12-13T00:00:00"
         ],
         "xaxis": "x",
         "y": [
          189.89,
          189.88
         ],
         "yaxis": "y"
        },
        {
         "hoverinfo": "none",
         "line": {
          "color": "red",
          "width": 3
         },
         "mode": "lines",
         "showlegend": false,
         "type": "scatter",
         "x": [
          "2022-12-13T00:00:00",
          "2022-12-14T00:00:00"
         ],
         "xaxis": "x",
         "y": [
          189.88,
          189.84
         ],
         "yaxis": "y"
        },
        {
         "hoverinfo": "none",
         "line": {
          "color": "red",
          "width": 3
         },
         "mode": "lines",
         "showlegend": false,
         "type": "scatter",
         "x": [
          "2022-12-14T00:00:00",
          "2022-12-15T00:00:00"
         ],
         "xaxis": "x",
         "y": [
          189.84,
          189.81
         ],
         "yaxis": "y"
        },
        {
         "hoverinfo": "none",
         "line": {
          "color": "red",
          "width": 3
         },
         "mode": "lines",
         "showlegend": false,
         "type": "scatter",
         "x": [
          "2022-12-15T00:00:00",
          "2022-12-16T00:00:00"
         ],
         "xaxis": "x",
         "y": [
          189.81,
          189.79
         ],
         "yaxis": "y"
        },
        {
         "hoverinfo": "none",
         "line": {
          "color": "red",
          "width": 3
         },
         "mode": "lines",
         "showlegend": false,
         "type": "scatter",
         "x": [
          "2022-12-16T00:00:00",
          "2022-12-17T00:00:00"
         ],
         "xaxis": "x",
         "y": [
          189.79,
          189.65
         ],
         "yaxis": "y"
        },
        {
         "hoverinfo": "none",
         "line": {
          "color": "red",
          "width": 3
         },
         "mode": "lines",
         "showlegend": false,
         "type": "scatter",
         "x": [
          "2022-12-17T00:00:00",
          "2022-12-18T00:00:00"
         ],
         "xaxis": "x",
         "y": [
          189.65,
          189.64
         ],
         "yaxis": "y"
        },
        {
         "hoverinfo": "none",
         "line": {
          "color": "red",
          "width": 3
         },
         "mode": "lines",
         "showlegend": false,
         "type": "scatter",
         "x": [
          "2022-12-18T00:00:00",
          "2022-12-19T00:00:00"
         ],
         "xaxis": "x",
         "y": [
          189.64,
          189.48
         ],
         "yaxis": "y"
        },
        {
         "hoverinfo": "none",
         "line": {
          "color": "red",
          "width": 3
         },
         "mode": "lines",
         "showlegend": false,
         "type": "scatter",
         "x": [
          "2022-12-19T00:00:00",
          "2022-12-20T00:00:00"
         ],
         "xaxis": "x",
         "y": [
          189.48,
          189.32
         ],
         "yaxis": "y"
        },
        {
         "hoverinfo": "none",
         "line": {
          "color": "red",
          "width": 3
         },
         "mode": "lines",
         "showlegend": false,
         "type": "scatter",
         "x": [
          "2022-12-20T00:00:00",
          "2022-12-21T00:00:00"
         ],
         "xaxis": "x",
         "y": [
          189.32,
          189.16
         ],
         "yaxis": "y"
        },
        {
         "hoverinfo": "none",
         "line": {
          "color": "red",
          "width": 3
         },
         "mode": "lines",
         "showlegend": false,
         "type": "scatter",
         "x": [
          "2022-12-21T00:00:00",
          "2022-12-22T00:00:00"
         ],
         "xaxis": "x",
         "y": [
          189.16,
          189.01
         ],
         "yaxis": "y"
        },
        {
         "hoverinfo": "none",
         "line": {
          "color": "red",
          "width": 3
         },
         "mode": "lines",
         "showlegend": false,
         "type": "scatter",
         "x": [
          "2022-12-22T00:00:00",
          "2022-12-23T00:00:00"
         ],
         "xaxis": "x",
         "y": [
          189.01,
          188.85
         ],
         "yaxis": "y"
        },
        {
         "hoverinfo": "none",
         "line": {
          "color": "red",
          "width": 3
         },
         "mode": "lines",
         "showlegend": false,
         "type": "scatter",
         "x": [
          "2022-12-23T00:00:00",
          "2022-12-24T00:00:00"
         ],
         "xaxis": "x",
         "y": [
          188.85,
          188.69
         ],
         "yaxis": "y"
        },
        {
         "hoverinfo": "none",
         "line": {
          "color": "red",
          "width": 3
         },
         "mode": "lines",
         "showlegend": false,
         "type": "scatter",
         "x": [
          "2022-12-24T00:00:00",
          "2022-12-25T00:00:00"
         ],
         "xaxis": "x",
         "y": [
          188.69,
          188.66
         ],
         "yaxis": "y"
        },
        {
         "hoverinfo": "none",
         "line": {
          "color": "red",
          "width": 3
         },
         "mode": "lines",
         "showlegend": false,
         "type": "scatter",
         "x": [
          "2022-12-25T00:00:00",
          "2022-12-26T00:00:00"
         ],
         "xaxis": "x",
         "y": [
          188.66,
          188.5
         ],
         "yaxis": "y"
        },
        {
         "hoverinfo": "none",
         "line": {
          "color": "red",
          "width": 3
         },
         "mode": "lines",
         "showlegend": false,
         "type": "scatter",
         "x": [
          "2022-12-26T00:00:00",
          "2022-12-27T00:00:00"
         ],
         "xaxis": "x",
         "y": [
          188.5,
          188.47
         ],
         "yaxis": "y"
        },
        {
         "hoverinfo": "none",
         "line": {
          "color": "red",
          "width": 3
         },
         "mode": "lines",
         "showlegend": false,
         "type": "scatter",
         "x": [
          "2022-12-27T00:00:00",
          "2022-12-28T00:00:00"
         ],
         "xaxis": "x",
         "y": [
          188.47,
          188.44
         ],
         "yaxis": "y"
        },
        {
         "hoverinfo": "none",
         "line": {
          "color": "red",
          "width": 3
         },
         "mode": "lines",
         "showlegend": false,
         "type": "scatter",
         "x": [
          "2022-12-28T00:00:00",
          "2022-12-29T00:00:00"
         ],
         "xaxis": "x",
         "y": [
          188.44,
          188.4
         ],
         "yaxis": "y"
        },
        {
         "hoverinfo": "none",
         "line": {
          "color": "red",
          "width": 3
         },
         "mode": "lines",
         "showlegend": false,
         "type": "scatter",
         "x": [
          "2022-12-29T00:00:00",
          "2022-12-30T00:00:00"
         ],
         "xaxis": "x",
         "y": [
          188.4,
          188.37
         ],
         "yaxis": "y"
        },
        {
         "hoverinfo": "none",
         "line": {
          "color": "red",
          "width": 3
         },
         "mode": "lines",
         "showlegend": false,
         "type": "scatter",
         "x": [
          "2022-12-30T00:00:00",
          "2022-12-31T00:00:00"
         ],
         "xaxis": "x",
         "y": [
          188.37,
          188.34
         ],
         "yaxis": "y"
        },
        {
         "hoverinfo": "none",
         "line": {
          "color": "green",
          "width": 3
         },
         "mode": "lines",
         "showlegend": false,
         "type": "scatter",
         "x": [
          "2022-12-31T00:00:00",
          "2023-01-01T00:00:00"
         ],
         "xaxis": "x",
         "y": [
          188.34,
          188.4
         ],
         "yaxis": "y"
        },
        {
         "hoverinfo": "none",
         "line": {
          "color": "green",
          "width": 3
         },
         "mode": "lines",
         "showlegend": false,
         "type": "scatter",
         "x": [
          "2023-01-01T00:00:00",
          "2023-01-02T00:00:00"
         ],
         "xaxis": "x",
         "y": [
          188.4,
          188.46
         ],
         "yaxis": "y"
        },
        {
         "hoverinfo": "none",
         "line": {
          "color": "red",
          "width": 3
         },
         "mode": "lines",
         "showlegend": false,
         "type": "scatter",
         "x": [
          "2023-01-02T00:00:00",
          "2023-01-03T00:00:00"
         ],
         "xaxis": "x",
         "y": [
          188.46,
          188.41
         ],
         "yaxis": "y"
        },
        {
         "hoverinfo": "none",
         "line": {
          "color": "red",
          "width": 3
         },
         "mode": "lines",
         "showlegend": false,
         "type": "scatter",
         "x": [
          "2023-01-03T00:00:00",
          "2023-01-04T00:00:00"
         ],
         "xaxis": "x",
         "y": [
          188.41,
          188.38
         ],
         "yaxis": "y"
        },
        {
         "hoverinfo": "none",
         "line": {
          "color": "red",
          "width": 3
         },
         "mode": "lines",
         "showlegend": false,
         "type": "scatter",
         "x": [
          "2023-01-04T00:00:00",
          "2023-01-05T00:00:00"
         ],
         "xaxis": "x",
         "y": [
          188.38,
          188.36
         ],
         "yaxis": "y"
        },
        {
         "hoverinfo": "none",
         "line": {
          "color": "green",
          "width": 3
         },
         "mode": "lines",
         "showlegend": false,
         "type": "scatter",
         "x": [
          "2023-01-05T00:00:00",
          "2023-01-06T00:00:00"
         ],
         "xaxis": "x",
         "y": [
          188.36,
          188.36
         ],
         "yaxis": "y"
        },
        {
         "hoverinfo": "none",
         "line": {
          "color": "green",
          "width": 3
         },
         "mode": "lines",
         "showlegend": false,
         "type": "scatter",
         "x": [
          "2023-01-06T00:00:00",
          "2023-01-07T00:00:00"
         ],
         "xaxis": "x",
         "y": [
          188.36,
          188.38
         ],
         "yaxis": "y"
        },
        {
         "hoverinfo": "none",
         "line": {
          "color": "green",
          "width": 3
         },
         "mode": "lines",
         "showlegend": false,
         "type": "scatter",
         "x": [
          "2023-01-07T00:00:00",
          "2023-01-08T00:00:00"
         ],
         "xaxis": "x",
         "y": [
          188.38,
          188.43
         ],
         "yaxis": "y"
        },
        {
         "hoverinfo": "none",
         "line": {
          "color": "red",
          "width": 3
         },
         "mode": "lines",
         "showlegend": false,
         "type": "scatter",
         "x": [
          "2023-01-08T00:00:00",
          "2023-01-09T00:00:00"
         ],
         "xaxis": "x",
         "y": [
          188.43,
          188.38
         ],
         "yaxis": "y"
        },
        {
         "hoverinfo": "none",
         "line": {
          "color": "red",
          "width": 3
         },
         "mode": "lines",
         "showlegend": false,
         "type": "scatter",
         "x": [
          "2023-01-09T00:00:00",
          "2023-01-10T00:00:00"
         ],
         "xaxis": "x",
         "y": [
          188.38,
          188.36
         ],
         "yaxis": "y"
        },
        {
         "hoverinfo": "none",
         "line": {
          "color": "green",
          "width": 3
         },
         "mode": "lines",
         "showlegend": false,
         "type": "scatter",
         "x": [
          "2023-01-10T00:00:00",
          "2023-01-11T00:00:00"
         ],
         "xaxis": "x",
         "y": [
          188.36,
          188.45
         ],
         "yaxis": "y"
        },
        {
         "hoverinfo": "none",
         "line": {
          "color": "green",
          "width": 3
         },
         "mode": "lines",
         "showlegend": false,
         "type": "scatter",
         "x": [
          "2023-01-11T00:00:00",
          "2023-01-12T00:00:00"
         ],
         "xaxis": "x",
         "y": [
          188.45,
          188.52
         ],
         "yaxis": "y"
        },
        {
         "hoverinfo": "none",
         "line": {
          "color": "green",
          "width": 3
         },
         "mode": "lines",
         "showlegend": false,
         "type": "scatter",
         "x": [
          "2023-01-12T00:00:00",
          "2023-01-13T00:00:00"
         ],
         "xaxis": "x",
         "y": [
          188.52,
          188.57
         ],
         "yaxis": "y"
        },
        {
         "hoverinfo": "none",
         "line": {
          "color": "green",
          "width": 3
         },
         "mode": "lines",
         "showlegend": false,
         "type": "scatter",
         "x": [
          "2023-01-13T00:00:00",
          "2023-01-14T00:00:00"
         ],
         "xaxis": "x",
         "y": [
          188.57,
          188.6
         ],
         "yaxis": "y"
        },
        {
         "hoverinfo": "none",
         "line": {
          "color": "green",
          "width": 3
         },
         "mode": "lines",
         "showlegend": false,
         "type": "scatter",
         "x": [
          "2023-01-14T00:00:00",
          "2023-01-15T00:00:00"
         ],
         "xaxis": "x",
         "y": [
          188.6,
          188.65
         ],
         "yaxis": "y"
        },
        {
         "hoverinfo": "none",
         "line": {
          "color": "green",
          "width": 3
         },
         "mode": "lines",
         "showlegend": false,
         "type": "scatter",
         "x": [
          "2023-01-15T00:00:00",
          "2023-01-16T00:00:00"
         ],
         "xaxis": "x",
         "y": [
          188.65,
          188.68
         ],
         "yaxis": "y"
        },
        {
         "hoverinfo": "none",
         "line": {
          "color": "green",
          "width": 3
         },
         "mode": "lines",
         "showlegend": false,
         "type": "scatter",
         "x": [
          "2023-01-16T00:00:00",
          "2023-01-17T00:00:00"
         ],
         "xaxis": "x",
         "y": [
          188.68,
          188.71
         ],
         "yaxis": "y"
        },
        {
         "hoverinfo": "none",
         "line": {
          "color": "red",
          "width": 3
         },
         "mode": "lines",
         "showlegend": false,
         "type": "scatter",
         "x": [
          "2023-01-17T00:00:00",
          "2023-01-18T00:00:00"
         ],
         "xaxis": "x",
         "y": [
          188.71,
          188.62
         ],
         "yaxis": "y"
        },
        {
         "hoverinfo": "none",
         "line": {
          "color": "red",
          "width": 3
         },
         "mode": "lines",
         "showlegend": false,
         "type": "scatter",
         "x": [
          "2023-01-18T00:00:00",
          "2023-01-19T00:00:00"
         ],
         "xaxis": "x",
         "y": [
          188.62,
          188.51
         ],
         "yaxis": "y"
        },
        {
         "hoverinfo": "none",
         "line": {
          "color": "red",
          "width": 3
         },
         "mode": "lines",
         "showlegend": false,
         "type": "scatter",
         "x": [
          "2023-01-19T00:00:00",
          "2023-01-20T00:00:00"
         ],
         "xaxis": "x",
         "y": [
          188.51,
          188.42
         ],
         "yaxis": "y"
        },
        {
         "hoverinfo": "none",
         "line": {
          "color": "red",
          "width": 3
         },
         "mode": "lines",
         "showlegend": false,
         "type": "scatter",
         "x": [
          "2023-01-20T00:00:00",
          "2023-01-21T00:00:00"
         ],
         "xaxis": "x",
         "y": [
          188.42,
          188.33
         ],
         "yaxis": "y"
        },
        {
         "hoverinfo": "none",
         "line": {
          "color": "red",
          "width": 3
         },
         "mode": "lines",
         "showlegend": false,
         "type": "scatter",
         "x": [
          "2023-01-21T00:00:00",
          "2023-01-22T00:00:00"
         ],
         "xaxis": "x",
         "y": [
          188.33,
          188.23
         ],
         "yaxis": "y"
        },
        {
         "hoverinfo": "none",
         "line": {
          "color": "red",
          "width": 3
         },
         "mode": "lines",
         "showlegend": false,
         "type": "scatter",
         "x": [
          "2023-01-22T00:00:00",
          "2023-01-23T00:00:00"
         ],
         "xaxis": "x",
         "y": [
          188.23,
          188.13
         ],
         "yaxis": "y"
        },
        {
         "hoverinfo": "none",
         "line": {
          "color": "red",
          "width": 3
         },
         "mode": "lines",
         "showlegend": false,
         "type": "scatter",
         "x": [
          "2023-01-23T00:00:00",
          "2023-01-24T00:00:00"
         ],
         "xaxis": "x",
         "y": [
          188.13,
          188
         ],
         "yaxis": "y"
        },
        {
         "hoverinfo": "none",
         "line": {
          "color": "red",
          "width": 3
         },
         "mode": "lines",
         "showlegend": false,
         "type": "scatter",
         "x": [
          "2023-01-24T00:00:00",
          "2023-01-25T00:00:00"
         ],
         "xaxis": "x",
         "y": [
          188,
          187.88
         ],
         "yaxis": "y"
        },
        {
         "hoverinfo": "none",
         "line": {
          "color": "red",
          "width": 3
         },
         "mode": "lines",
         "showlegend": false,
         "type": "scatter",
         "x": [
          "2023-01-25T00:00:00",
          "2023-01-26T00:00:00"
         ],
         "xaxis": "x",
         "y": [
          187.88,
          187.73
         ],
         "yaxis": "y"
        },
        {
         "hoverinfo": "none",
         "line": {
          "color": "red",
          "width": 3
         },
         "mode": "lines",
         "showlegend": false,
         "type": "scatter",
         "x": [
          "2023-01-26T00:00:00",
          "2023-01-27T00:00:00"
         ],
         "xaxis": "x",
         "y": [
          187.73,
          187.61
         ],
         "yaxis": "y"
        },
        {
         "hoverinfo": "none",
         "line": {
          "color": "red",
          "width": 3
         },
         "mode": "lines",
         "showlegend": false,
         "type": "scatter",
         "x": [
          "2023-01-27T00:00:00",
          "2023-01-28T00:00:00"
         ],
         "xaxis": "x",
         "y": [
          187.61,
          187.48
         ],
         "yaxis": "y"
        },
        {
         "hoverinfo": "none",
         "line": {
          "color": "red",
          "width": 3
         },
         "mode": "lines",
         "showlegend": false,
         "type": "scatter",
         "x": [
          "2023-01-28T00:00:00",
          "2023-01-29T00:00:00"
         ],
         "xaxis": "x",
         "y": [
          187.48,
          187.36
         ],
         "yaxis": "y"
        },
        {
         "hoverinfo": "none",
         "line": {
          "color": "red",
          "width": 3
         },
         "mode": "lines",
         "showlegend": false,
         "type": "scatter",
         "x": [
          "2023-01-29T00:00:00",
          "2023-01-30T00:00:00"
         ],
         "xaxis": "x",
         "y": [
          187.36,
          187.23
         ],
         "yaxis": "y"
        },
        {
         "hoverinfo": "none",
         "line": {
          "color": "red",
          "width": 3
         },
         "mode": "lines",
         "showlegend": false,
         "type": "scatter",
         "x": [
          "2023-01-30T00:00:00",
          "2023-01-31T00:00:00"
         ],
         "xaxis": "x",
         "y": [
          187.23,
          187.11
         ],
         "yaxis": "y"
        },
        {
         "hoverinfo": "none",
         "line": {
          "color": "red",
          "width": 3
         },
         "mode": "lines",
         "showlegend": false,
         "type": "scatter",
         "x": [
          "2023-01-31T00:00:00",
          "2023-02-01T00:00:00"
         ],
         "xaxis": "x",
         "y": [
          187.11,
          186.97
         ],
         "yaxis": "y"
        },
        {
         "hoverinfo": "none",
         "line": {
          "color": "red",
          "width": 3
         },
         "mode": "lines",
         "showlegend": false,
         "type": "scatter",
         "x": [
          "2023-02-01T00:00:00",
          "2023-02-02T00:00:00"
         ],
         "xaxis": "x",
         "y": [
          186.97,
          186.72
         ],
         "yaxis": "y"
        },
        {
         "hoverinfo": "none",
         "line": {
          "color": "red",
          "width": 3
         },
         "mode": "lines",
         "showlegend": false,
         "type": "scatter",
         "x": [
          "2023-02-02T00:00:00",
          "2023-02-03T00:00:00"
         ],
         "xaxis": "x",
         "y": [
          186.72,
          186.7
         ],
         "yaxis": "y"
        },
        {
         "hoverinfo": "none",
         "line": {
          "color": "red",
          "width": 3
         },
         "mode": "lines",
         "showlegend": false,
         "type": "scatter",
         "x": [
          "2023-02-03T00:00:00",
          "2023-02-04T00:00:00"
         ],
         "xaxis": "x",
         "y": [
          186.7,
          186.69
         ],
         "yaxis": "y"
        },
        {
         "hoverinfo": "none",
         "line": {
          "color": "red",
          "width": 3
         },
         "mode": "lines",
         "showlegend": false,
         "type": "scatter",
         "x": [
          "2023-02-04T00:00:00",
          "2023-02-05T00:00:00"
         ],
         "xaxis": "x",
         "y": [
          186.69,
          186.67
         ],
         "yaxis": "y"
        },
        {
         "hoverinfo": "none",
         "line": {
          "color": "red",
          "width": 3
         },
         "mode": "lines",
         "showlegend": false,
         "type": "scatter",
         "x": [
          "2023-02-05T00:00:00",
          "2023-02-06T00:00:00"
         ],
         "xaxis": "x",
         "y": [
          186.67,
          186.65
         ],
         "yaxis": "y"
        },
        {
         "hoverinfo": "none",
         "line": {
          "color": "red",
          "width": 3
         },
         "mode": "lines",
         "showlegend": false,
         "type": "scatter",
         "x": [
          "2023-02-06T00:00:00",
          "2023-02-07T00:00:00"
         ],
         "xaxis": "x",
         "y": [
          186.65,
          186.64
         ],
         "yaxis": "y"
        },
        {
         "hoverinfo": "none",
         "line": {
          "color": "red",
          "width": 3
         },
         "mode": "lines",
         "showlegend": false,
         "type": "scatter",
         "x": [
          "2023-02-07T00:00:00",
          "2023-02-08T00:00:00"
         ],
         "xaxis": "x",
         "y": [
          186.64,
          186.62
         ],
         "yaxis": "y"
        },
        {
         "hoverinfo": "none",
         "line": {
          "color": "green",
          "width": 3
         },
         "mode": "lines",
         "showlegend": false,
         "type": "scatter",
         "x": [
          "2023-02-08T00:00:00",
          "2023-02-09T00:00:00"
         ],
         "xaxis": "x",
         "y": [
          186.62,
          186.62
         ],
         "yaxis": "y"
        },
        {
         "hoverinfo": "none",
         "line": {
          "color": "green",
          "width": 3
         },
         "mode": "lines",
         "showlegend": false,
         "type": "scatter",
         "x": [
          "2023-02-09T00:00:00",
          "2023-02-10T00:00:00"
         ],
         "xaxis": "x",
         "y": [
          186.62,
          186.73
         ],
         "yaxis": "y"
        },
        {
         "hoverinfo": "none",
         "line": {
          "color": "green",
          "width": 3
         },
         "mode": "lines",
         "showlegend": false,
         "type": "scatter",
         "x": [
          "2023-02-10T00:00:00",
          "2023-02-11T00:00:00"
         ],
         "xaxis": "x",
         "y": [
          186.73,
          186.73
         ],
         "yaxis": "y"
        },
        {
         "hoverinfo": "none",
         "line": {
          "color": "green",
          "width": 3
         },
         "mode": "lines",
         "showlegend": false,
         "type": "scatter",
         "x": [
          "2023-02-11T00:00:00",
          "2023-02-12T00:00:00"
         ],
         "xaxis": "x",
         "y": [
          186.73,
          186.73
         ],
         "yaxis": "y"
        },
        {
         "hoverinfo": "none",
         "line": {
          "color": "green",
          "width": 3
         },
         "mode": "lines",
         "showlegend": false,
         "type": "scatter",
         "x": [
          "2023-02-12T00:00:00",
          "2023-02-13T00:00:00"
         ],
         "xaxis": "x",
         "y": [
          186.73,
          186.73
         ],
         "yaxis": "y"
        },
        {
         "hoverinfo": "none",
         "line": {
          "color": "green",
          "width": 3
         },
         "mode": "lines",
         "showlegend": false,
         "type": "scatter",
         "x": [
          "2023-02-13T00:00:00",
          "2023-02-14T00:00:00"
         ],
         "xaxis": "x",
         "y": [
          186.73,
          186.73
         ],
         "yaxis": "y"
        },
        {
         "hoverinfo": "none",
         "line": {
          "color": "red",
          "width": 3
         },
         "mode": "lines",
         "showlegend": false,
         "type": "scatter",
         "x": [
          "2023-02-14T00:00:00",
          "2023-02-15T00:00:00"
         ],
         "xaxis": "x",
         "y": [
          186.73,
          186.71
         ],
         "yaxis": "y"
        },
        {
         "hoverinfo": "none",
         "line": {
          "color": "red",
          "width": 3
         },
         "mode": "lines",
         "showlegend": false,
         "type": "scatter",
         "x": [
          "2023-02-15T00:00:00",
          "2023-02-16T00:00:00"
         ],
         "xaxis": "x",
         "y": [
          186.71,
          186.7
         ],
         "yaxis": "y"
        },
        {
         "hoverinfo": "none",
         "line": {
          "color": "red",
          "width": 3
         },
         "mode": "lines",
         "showlegend": false,
         "type": "scatter",
         "x": [
          "2023-02-16T00:00:00",
          "2023-02-17T00:00:00"
         ],
         "xaxis": "x",
         "y": [
          186.7,
          186.68
         ],
         "yaxis": "y"
        },
        {
         "hoverinfo": "none",
         "line": {
          "color": "red",
          "width": 3
         },
         "mode": "lines",
         "showlegend": false,
         "type": "scatter",
         "x": [
          "2023-02-17T00:00:00",
          "2023-02-18T00:00:00"
         ],
         "xaxis": "x",
         "y": [
          186.68,
          186.66
         ],
         "yaxis": "y"
        },
        {
         "hoverinfo": "none",
         "line": {
          "color": "red",
          "width": 3
         },
         "mode": "lines",
         "showlegend": false,
         "type": "scatter",
         "x": [
          "2023-02-18T00:00:00",
          "2023-02-19T00:00:00"
         ],
         "xaxis": "x",
         "y": [
          186.66,
          186.65
         ],
         "yaxis": "y"
        },
        {
         "hoverinfo": "none",
         "line": {
          "color": "green",
          "width": 3
         },
         "mode": "lines",
         "showlegend": false,
         "type": "scatter",
         "x": [
          "2023-02-19T00:00:00",
          "2023-02-20T00:00:00"
         ],
         "xaxis": "x",
         "y": [
          186.65,
          186.76
         ],
         "yaxis": "y"
        },
        {
         "hoverinfo": "none",
         "line": {
          "color": "green",
          "width": 3
         },
         "mode": "lines",
         "showlegend": false,
         "type": "scatter",
         "x": [
          "2023-02-20T00:00:00",
          "2023-02-21T00:00:00"
         ],
         "xaxis": "x",
         "y": [
          186.76,
          186.87
         ],
         "yaxis": "y"
        },
        {
         "hoverinfo": "none",
         "line": {
          "color": "green",
          "width": 3
         },
         "mode": "lines",
         "showlegend": false,
         "type": "scatter",
         "x": [
          "2023-02-21T00:00:00",
          "2023-02-22T00:00:00"
         ],
         "xaxis": "x",
         "y": [
          186.87,
          186.97
         ],
         "yaxis": "y"
        },
        {
         "hoverinfo": "none",
         "line": {
          "color": "green",
          "width": 3
         },
         "mode": "lines",
         "showlegend": false,
         "type": "scatter",
         "x": [
          "2023-02-22T00:00:00",
          "2023-02-23T00:00:00"
         ],
         "xaxis": "x",
         "y": [
          186.97,
          187.08
         ],
         "yaxis": "y"
        },
        {
         "hoverinfo": "none",
         "line": {
          "color": "green",
          "width": 3
         },
         "mode": "lines",
         "showlegend": false,
         "type": "scatter",
         "x": [
          "2023-02-23T00:00:00",
          "2023-02-24T00:00:00"
         ],
         "xaxis": "x",
         "y": [
          187.08,
          187.19
         ],
         "yaxis": "y"
        },
        {
         "hoverinfo": "none",
         "line": {
          "color": "green",
          "width": 3
         },
         "mode": "lines",
         "showlegend": false,
         "type": "scatter",
         "x": [
          "2023-02-24T00:00:00",
          "2023-02-25T00:00:00"
         ],
         "xaxis": "x",
         "y": [
          187.19,
          187.41
         ],
         "yaxis": "y"
        },
        {
         "hoverinfo": "none",
         "line": {
          "color": "green",
          "width": 3
         },
         "mode": "lines",
         "showlegend": false,
         "type": "scatter",
         "x": [
          "2023-02-25T00:00:00",
          "2023-02-26T00:00:00"
         ],
         "xaxis": "x",
         "y": [
          187.41,
          187.63
         ],
         "yaxis": "y"
        },
        {
         "hoverinfo": "none",
         "line": {
          "color": "green",
          "width": 3
         },
         "mode": "lines",
         "showlegend": false,
         "type": "scatter",
         "x": [
          "2023-02-26T00:00:00",
          "2023-02-27T00:00:00"
         ],
         "xaxis": "x",
         "y": [
          187.63,
          187.84
         ],
         "yaxis": "y"
        },
        {
         "hoverinfo": "none",
         "line": {
          "color": "green",
          "width": 3
         },
         "mode": "lines",
         "showlegend": false,
         "type": "scatter",
         "x": [
          "2023-02-27T00:00:00",
          "2023-02-28T00:00:00"
         ],
         "xaxis": "x",
         "y": [
          187.84,
          187.94
         ],
         "yaxis": "y"
        },
        {
         "hoverinfo": "none",
         "line": {
          "color": "green",
          "width": 3
         },
         "mode": "lines",
         "showlegend": false,
         "type": "scatter",
         "x": [
          "2023-02-28T00:00:00",
          "2023-03-01T00:00:00"
         ],
         "xaxis": "x",
         "y": [
          187.94,
          188.03
         ],
         "yaxis": "y"
        },
        {
         "hoverinfo": "none",
         "line": {
          "color": "green",
          "width": 3
         },
         "mode": "lines",
         "showlegend": false,
         "type": "scatter",
         "x": [
          "2023-03-01T00:00:00",
          "2023-03-02T00:00:00"
         ],
         "xaxis": "x",
         "y": [
          188.03,
          188.21
         ],
         "yaxis": "y"
        },
        {
         "hoverinfo": "none",
         "line": {
          "color": "green",
          "width": 3
         },
         "mode": "lines",
         "showlegend": false,
         "type": "scatter",
         "x": [
          "2023-03-02T00:00:00",
          "2023-03-03T00:00:00"
         ],
         "xaxis": "x",
         "y": [
          188.21,
          188.52
         ],
         "yaxis": "y"
        },
        {
         "hoverinfo": "none",
         "line": {
          "color": "green",
          "width": 3
         },
         "mode": "lines",
         "showlegend": false,
         "type": "scatter",
         "x": [
          "2023-03-03T00:00:00",
          "2023-03-04T00:00:00"
         ],
         "xaxis": "x",
         "y": [
          188.52,
          188.85
         ],
         "yaxis": "y"
        },
        {
         "hoverinfo": "none",
         "line": {
          "color": "green",
          "width": 3
         },
         "mode": "lines",
         "showlegend": false,
         "type": "scatter",
         "x": [
          "2023-03-04T00:00:00",
          "2023-03-05T00:00:00"
         ],
         "xaxis": "x",
         "y": [
          188.85,
          189.07
         ],
         "yaxis": "y"
        },
        {
         "hoverinfo": "none",
         "line": {
          "color": "green",
          "width": 3
         },
         "mode": "lines",
         "showlegend": false,
         "type": "scatter",
         "x": [
          "2023-03-05T00:00:00",
          "2023-03-06T00:00:00"
         ],
         "xaxis": "x",
         "y": [
          189.07,
          189.29
         ],
         "yaxis": "y"
        },
        {
         "hoverinfo": "none",
         "line": {
          "color": "green",
          "width": 3
         },
         "mode": "lines",
         "showlegend": false,
         "type": "scatter",
         "x": [
          "2023-03-06T00:00:00",
          "2023-03-07T00:00:00"
         ],
         "xaxis": "x",
         "y": [
          189.29,
          189.5
         ],
         "yaxis": "y"
        },
        {
         "hoverinfo": "none",
         "line": {
          "color": "green",
          "width": 3
         },
         "mode": "lines",
         "showlegend": false,
         "type": "scatter",
         "x": [
          "2023-03-07T00:00:00",
          "2023-03-08T00:00:00"
         ],
         "xaxis": "x",
         "y": [
          189.5,
          189.7
         ],
         "yaxis": "y"
        },
        {
         "hoverinfo": "none",
         "line": {
          "color": "green",
          "width": 3
         },
         "mode": "lines",
         "showlegend": false,
         "type": "scatter",
         "x": [
          "2023-03-08T00:00:00",
          "2023-03-09T00:00:00"
         ],
         "xaxis": "x",
         "y": [
          189.7,
          190.01
         ],
         "yaxis": "y"
        },
        {
         "hoverinfo": "none",
         "line": {
          "color": "green",
          "width": 3
         },
         "mode": "lines",
         "showlegend": false,
         "type": "scatter",
         "x": [
          "2023-03-09T00:00:00",
          "2023-03-10T00:00:00"
         ],
         "xaxis": "x",
         "y": [
          190.01,
          190.23
         ],
         "yaxis": "y"
        },
        {
         "hoverinfo": "none",
         "line": {
          "color": "green",
          "width": 3
         },
         "mode": "lines",
         "showlegend": false,
         "type": "scatter",
         "x": [
          "2023-03-10T00:00:00",
          "2023-03-11T00:00:00"
         ],
         "xaxis": "x",
         "y": [
          190.23,
          190.36
         ],
         "yaxis": "y"
        },
        {
         "hoverinfo": "none",
         "line": {
          "color": "green",
          "width": 3
         },
         "mode": "lines",
         "showlegend": false,
         "type": "scatter",
         "x": [
          "2023-03-11T00:00:00",
          "2023-03-12T00:00:00"
         ],
         "xaxis": "x",
         "y": [
          190.36,
          190.47
         ],
         "yaxis": "y"
        },
        {
         "hoverinfo": "none",
         "line": {
          "color": "green",
          "width": 3
         },
         "mode": "lines",
         "showlegend": false,
         "type": "scatter",
         "x": [
          "2023-03-12T00:00:00",
          "2023-03-13T00:00:00"
         ],
         "xaxis": "x",
         "y": [
          190.47,
          190.68
         ],
         "yaxis": "y"
        },
        {
         "hoverinfo": "none",
         "line": {
          "color": "green",
          "width": 3
         },
         "mode": "lines",
         "showlegend": false,
         "type": "scatter",
         "x": [
          "2023-03-13T00:00:00",
          "2023-03-14T00:00:00"
         ],
         "xaxis": "x",
         "y": [
          190.68,
          190.9
         ],
         "yaxis": "y"
        },
        {
         "hoverinfo": "none",
         "line": {
          "color": "green",
          "width": 3
         },
         "mode": "lines",
         "showlegend": false,
         "type": "scatter",
         "x": [
          "2023-03-14T00:00:00",
          "2023-03-15T00:00:00"
         ],
         "xaxis": "x",
         "y": [
          190.9,
          191.12
         ],
         "yaxis": "y"
        },
        {
         "hoverinfo": "none",
         "line": {
          "color": "green",
          "width": 3
         },
         "mode": "lines",
         "showlegend": false,
         "type": "scatter",
         "x": [
          "2023-03-15T00:00:00",
          "2023-03-16T00:00:00"
         ],
         "xaxis": "x",
         "y": [
          191.12,
          191.35
         ],
         "yaxis": "y"
        },
        {
         "hoverinfo": "none",
         "line": {
          "color": "green",
          "width": 3
         },
         "mode": "lines",
         "showlegend": false,
         "type": "scatter",
         "x": [
          "2023-03-16T00:00:00",
          "2023-03-17T00:00:00"
         ],
         "xaxis": "x",
         "y": [
          191.35,
          191.48
         ],
         "yaxis": "y"
        },
        {
         "hoverinfo": "none",
         "line": {
          "color": "green",
          "width": 3
         },
         "mode": "lines",
         "showlegend": false,
         "type": "scatter",
         "x": [
          "2023-03-17T00:00:00",
          "2023-03-18T00:00:00"
         ],
         "xaxis": "x",
         "y": [
          191.48,
          191.6
         ],
         "yaxis": "y"
        },
        {
         "hoverinfo": "none",
         "line": {
          "color": "green",
          "width": 3
         },
         "mode": "lines",
         "showlegend": false,
         "type": "scatter",
         "x": [
          "2023-03-18T00:00:00",
          "2023-03-19T00:00:00"
         ],
         "xaxis": "x",
         "y": [
          191.6,
          191.71
         ],
         "yaxis": "y"
        },
        {
         "hoverinfo": "none",
         "line": {
          "color": "green",
          "width": 3
         },
         "mode": "lines",
         "showlegend": false,
         "type": "scatter",
         "x": [
          "2023-03-19T00:00:00",
          "2023-03-20T00:00:00"
         ],
         "xaxis": "x",
         "y": [
          191.71,
          191.82
         ],
         "yaxis": "y"
        },
        {
         "hoverinfo": "none",
         "line": {
          "color": "green",
          "width": 3
         },
         "mode": "lines",
         "showlegend": false,
         "type": "scatter",
         "x": [
          "2023-03-20T00:00:00",
          "2023-03-21T00:00:00"
         ],
         "xaxis": "x",
         "y": [
          191.82,
          191.93
         ],
         "yaxis": "y"
        },
        {
         "hoverinfo": "none",
         "line": {
          "color": "green",
          "width": 3
         },
         "mode": "lines",
         "showlegend": false,
         "type": "scatter",
         "x": [
          "2023-03-21T00:00:00",
          "2023-03-22T00:00:00"
         ],
         "xaxis": "x",
         "y": [
          191.93,
          192.04
         ],
         "yaxis": "y"
        },
        {
         "hoverinfo": "none",
         "line": {
          "color": "green",
          "width": 3
         },
         "mode": "lines",
         "showlegend": false,
         "type": "scatter",
         "x": [
          "2023-03-22T00:00:00",
          "2023-03-23T00:00:00"
         ],
         "xaxis": "x",
         "y": [
          192.04,
          192.13
         ],
         "yaxis": "y"
        },
        {
         "hoverinfo": "none",
         "line": {
          "color": "green",
          "width": 3
         },
         "mode": "lines",
         "showlegend": false,
         "type": "scatter",
         "x": [
          "2023-03-23T00:00:00",
          "2023-03-24T00:00:00"
         ],
         "xaxis": "x",
         "y": [
          192.13,
          192.22
         ],
         "yaxis": "y"
        },
        {
         "hoverinfo": "none",
         "line": {
          "color": "green",
          "width": 3
         },
         "mode": "lines",
         "showlegend": false,
         "type": "scatter",
         "x": [
          "2023-03-24T00:00:00",
          "2023-03-25T00:00:00"
         ],
         "xaxis": "x",
         "y": [
          192.22,
          192.33
         ],
         "yaxis": "y"
        },
        {
         "hoverinfo": "none",
         "line": {
          "color": "green",
          "width": 3
         },
         "mode": "lines",
         "showlegend": false,
         "type": "scatter",
         "x": [
          "2023-03-25T00:00:00",
          "2023-03-26T00:00:00"
         ],
         "xaxis": "x",
         "y": [
          192.33,
          192.44
         ],
         "yaxis": "y"
        },
        {
         "hoverinfo": "none",
         "line": {
          "color": "green",
          "width": 3
         },
         "mode": "lines",
         "showlegend": false,
         "type": "scatter",
         "x": [
          "2023-03-26T00:00:00",
          "2023-03-27T00:00:00"
         ],
         "xaxis": "x",
         "y": [
          192.44,
          192.55
         ],
         "yaxis": "y"
        },
        {
         "hoverinfo": "none",
         "line": {
          "color": "green",
          "width": 3
         },
         "mode": "lines",
         "showlegend": false,
         "type": "scatter",
         "x": [
          "2023-03-27T00:00:00",
          "2023-03-28T00:00:00"
         ],
         "xaxis": "x",
         "y": [
          192.55,
          192.66
         ],
         "yaxis": "y"
        },
        {
         "hoverinfo": "none",
         "line": {
          "color": "green",
          "width": 3
         },
         "mode": "lines",
         "showlegend": false,
         "type": "scatter",
         "x": [
          "2023-03-28T00:00:00",
          "2023-03-29T00:00:00"
         ],
         "xaxis": "x",
         "y": [
          192.66,
          192.66
         ],
         "yaxis": "y"
        },
        {
         "hoverinfo": "none",
         "line": {
          "color": "red",
          "width": 3
         },
         "mode": "lines",
         "showlegend": false,
         "type": "scatter",
         "x": [
          "2023-03-29T00:00:00",
          "2023-03-30T00:00:00"
         ],
         "xaxis": "x",
         "y": [
          192.66,
          192.64
         ],
         "yaxis": "y"
        },
        {
         "hoverinfo": "none",
         "line": {
          "color": "green",
          "width": 3
         },
         "mode": "lines",
         "showlegend": false,
         "type": "scatter",
         "x": [
          "2023-03-30T00:00:00",
          "2023-03-31T00:00:00"
         ],
         "xaxis": "x",
         "y": [
          192.64,
          192.66
         ],
         "yaxis": "y"
        },
        {
         "hoverinfo": "none",
         "line": {
          "color": "green",
          "width": 3
         },
         "mode": "lines",
         "showlegend": false,
         "type": "scatter",
         "x": [
          "2023-03-31T00:00:00",
          "2023-04-01T00:00:00"
         ],
         "xaxis": "x",
         "y": [
          192.66,
          192.67
         ],
         "yaxis": "y"
        },
        {
         "hoverinfo": "none",
         "line": {
          "color": "green",
          "width": 3
         },
         "mode": "lines",
         "showlegend": false,
         "type": "scatter",
         "x": [
          "2023-04-01T00:00:00",
          "2023-04-02T00:00:00"
         ],
         "xaxis": "x",
         "y": [
          192.67,
          192.8
         ],
         "yaxis": "y"
        },
        {
         "hoverinfo": "none",
         "line": {
          "color": "green",
          "width": 3
         },
         "mode": "lines",
         "showlegend": false,
         "type": "scatter",
         "x": [
          "2023-04-02T00:00:00",
          "2023-04-03T00:00:00"
         ],
         "xaxis": "x",
         "y": [
          192.8,
          192.91
         ],
         "yaxis": "y"
        },
        {
         "hoverinfo": "none",
         "line": {
          "color": "green",
          "width": 3
         },
         "mode": "lines",
         "showlegend": false,
         "type": "scatter",
         "x": [
          "2023-04-03T00:00:00",
          "2023-04-04T00:00:00"
         ],
         "xaxis": "x",
         "y": [
          192.91,
          193.02
         ],
         "yaxis": "y"
        },
        {
         "hoverinfo": "none",
         "line": {
          "color": "green",
          "width": 3
         },
         "mode": "lines",
         "showlegend": false,
         "type": "scatter",
         "x": [
          "2023-04-04T00:00:00",
          "2023-04-05T00:00:00"
         ],
         "xaxis": "x",
         "y": [
          193.02,
          193.12
         ],
         "yaxis": "y"
        },
        {
         "hoverinfo": "none",
         "line": {
          "color": "green",
          "width": 3
         },
         "mode": "lines",
         "showlegend": false,
         "type": "scatter",
         "x": [
          "2023-04-05T00:00:00",
          "2023-04-06T00:00:00"
         ],
         "xaxis": "x",
         "y": [
          193.12,
          193.23
         ],
         "yaxis": "y"
        },
        {
         "hoverinfo": "none",
         "line": {
          "color": "green",
          "width": 3
         },
         "mode": "lines",
         "showlegend": false,
         "type": "scatter",
         "x": [
          "2023-04-06T00:00:00",
          "2023-04-07T00:00:00"
         ],
         "xaxis": "x",
         "y": [
          193.23,
          193.36
         ],
         "yaxis": "y"
        },
        {
         "hoverinfo": "none",
         "line": {
          "color": "green",
          "width": 3
         },
         "mode": "lines",
         "showlegend": false,
         "type": "scatter",
         "x": [
          "2023-04-07T00:00:00",
          "2023-04-08T00:00:00"
         ],
         "xaxis": "x",
         "y": [
          193.36,
          193.58
         ],
         "yaxis": "y"
        },
        {
         "hoverinfo": "none",
         "line": {
          "color": "green",
          "width": 3
         },
         "mode": "lines",
         "showlegend": false,
         "type": "scatter",
         "x": [
          "2023-04-08T00:00:00",
          "2023-04-09T00:00:00"
         ],
         "xaxis": "x",
         "y": [
          193.58,
          193.79
         ],
         "yaxis": "y"
        },
        {
         "hoverinfo": "none",
         "line": {
          "color": "green",
          "width": 3
         },
         "mode": "lines",
         "showlegend": false,
         "type": "scatter",
         "x": [
          "2023-04-09T00:00:00",
          "2023-04-10T00:00:00"
         ],
         "xaxis": "x",
         "y": [
          193.79,
          193.89
         ],
         "yaxis": "y"
        },
        {
         "hoverinfo": "none",
         "line": {
          "color": "green",
          "width": 3
         },
         "mode": "lines",
         "showlegend": false,
         "type": "scatter",
         "x": [
          "2023-04-10T00:00:00",
          "2023-04-11T00:00:00"
         ],
         "xaxis": "x",
         "y": [
          193.89,
          193.99
         ],
         "yaxis": "y"
        },
        {
         "hoverinfo": "none",
         "line": {
          "color": "green",
          "width": 3
         },
         "mode": "lines",
         "showlegend": false,
         "type": "scatter",
         "x": [
          "2023-04-11T00:00:00",
          "2023-04-12T00:00:00"
         ],
         "xaxis": "x",
         "y": [
          193.99,
          194.1
         ],
         "yaxis": "y"
        },
        {
         "hoverinfo": "none",
         "line": {
          "color": "green",
          "width": 3
         },
         "mode": "lines",
         "showlegend": false,
         "type": "scatter",
         "x": [
          "2023-04-12T00:00:00",
          "2023-04-13T00:00:00"
         ],
         "xaxis": "x",
         "y": [
          194.1,
          194.32
         ],
         "yaxis": "y"
        },
        {
         "hoverinfo": "none",
         "line": {
          "color": "green",
          "width": 3
         },
         "mode": "lines",
         "showlegend": false,
         "type": "scatter",
         "x": [
          "2023-04-13T00:00:00",
          "2023-04-14T00:00:00"
         ],
         "xaxis": "x",
         "y": [
          194.32,
          194.43
         ],
         "yaxis": "y"
        },
        {
         "hoverinfo": "none",
         "line": {
          "color": "green",
          "width": 3
         },
         "mode": "lines",
         "showlegend": false,
         "type": "scatter",
         "x": [
          "2023-04-14T00:00:00",
          "2023-04-15T00:00:00"
         ],
         "xaxis": "x",
         "y": [
          194.43,
          194.65
         ],
         "yaxis": "y"
        },
        {
         "hoverinfo": "none",
         "line": {
          "color": "green",
          "width": 3
         },
         "mode": "lines",
         "showlegend": false,
         "type": "scatter",
         "x": [
          "2023-04-15T00:00:00",
          "2023-04-16T00:00:00"
         ],
         "xaxis": "x",
         "y": [
          194.65,
          194.76
         ],
         "yaxis": "y"
        },
        {
         "hoverinfo": "none",
         "line": {
          "color": "green",
          "width": 3
         },
         "mode": "lines",
         "showlegend": false,
         "type": "scatter",
         "x": [
          "2023-04-16T00:00:00",
          "2023-04-17T00:00:00"
         ],
         "xaxis": "x",
         "y": [
          194.76,
          194.86
         ],
         "yaxis": "y"
        },
        {
         "hoverinfo": "none",
         "line": {
          "color": "green",
          "width": 3
         },
         "mode": "lines",
         "showlegend": false,
         "type": "scatter",
         "x": [
          "2023-04-17T00:00:00",
          "2023-04-18T00:00:00"
         ],
         "xaxis": "x",
         "y": [
          194.86,
          194.97
         ],
         "yaxis": "y"
        },
        {
         "hoverinfo": "none",
         "line": {
          "color": "green",
          "width": 3
         },
         "mode": "lines",
         "showlegend": false,
         "type": "scatter",
         "x": [
          "2023-04-18T00:00:00",
          "2023-04-19T00:00:00"
         ],
         "xaxis": "x",
         "y": [
          194.97,
          195.08
         ],
         "yaxis": "y"
        },
        {
         "hoverinfo": "none",
         "line": {
          "color": "green",
          "width": 3
         },
         "mode": "lines",
         "showlegend": false,
         "type": "scatter",
         "x": [
          "2023-04-19T00:00:00",
          "2023-04-20T00:00:00"
         ],
         "xaxis": "x",
         "y": [
          195.08,
          195.3
         ],
         "yaxis": "y"
        },
        {
         "hoverinfo": "none",
         "line": {
          "color": "green",
          "width": 3
         },
         "mode": "lines",
         "showlegend": false,
         "type": "scatter",
         "x": [
          "2023-04-20T00:00:00",
          "2023-04-21T00:00:00"
         ],
         "xaxis": "x",
         "y": [
          195.3,
          195.41
         ],
         "yaxis": "y"
        },
        {
         "hoverinfo": "none",
         "line": {
          "color": "green",
          "width": 3
         },
         "mode": "lines",
         "showlegend": false,
         "type": "scatter",
         "x": [
          "2023-04-21T00:00:00",
          "2023-04-22T00:00:00"
         ],
         "xaxis": "x",
         "y": [
          195.41,
          195.63
         ],
         "yaxis": "y"
        },
        {
         "hoverinfo": "none",
         "line": {
          "color": "green",
          "width": 3
         },
         "mode": "lines",
         "showlegend": false,
         "type": "scatter",
         "x": [
          "2023-04-22T00:00:00",
          "2023-04-23T00:00:00"
         ],
         "xaxis": "x",
         "y": [
          195.63,
          195.75
         ],
         "yaxis": "y"
        },
        {
         "hoverinfo": "none",
         "line": {
          "color": "green",
          "width": 3
         },
         "mode": "lines",
         "showlegend": false,
         "type": "scatter",
         "x": [
          "2023-04-23T00:00:00",
          "2023-04-24T00:00:00"
         ],
         "xaxis": "x",
         "y": [
          195.75,
          195.88
         ],
         "yaxis": "y"
        },
        {
         "hoverinfo": "none",
         "line": {
          "color": "green",
          "width": 3
         },
         "mode": "lines",
         "showlegend": false,
         "type": "scatter",
         "x": [
          "2023-04-24T00:00:00",
          "2023-04-25T00:00:00"
         ],
         "xaxis": "x",
         "y": [
          195.88,
          196
         ],
         "yaxis": "y"
        },
        {
         "hoverinfo": "none",
         "line": {
          "color": "green",
          "width": 3
         },
         "mode": "lines",
         "showlegend": false,
         "type": "scatter",
         "x": [
          "2023-04-25T00:00:00",
          "2023-04-26T00:00:00"
         ],
         "xaxis": "x",
         "y": [
          196,
          196.13
         ],
         "yaxis": "y"
        },
        {
         "hoverinfo": "none",
         "line": {
          "color": "green",
          "width": 3
         },
         "mode": "lines",
         "showlegend": false,
         "type": "scatter",
         "x": [
          "2023-04-26T00:00:00",
          "2023-04-27T00:00:00"
         ],
         "xaxis": "x",
         "y": [
          196.13,
          196.34
         ],
         "yaxis": "y"
        },
        {
         "hoverinfo": "none",
         "line": {
          "color": "green",
          "width": 3
         },
         "mode": "lines",
         "showlegend": false,
         "type": "scatter",
         "x": [
          "2023-04-27T00:00:00",
          "2023-04-28T00:00:00"
         ],
         "xaxis": "x",
         "y": [
          196.34,
          196.47
         ],
         "yaxis": "y"
        },
        {
         "hoverinfo": "none",
         "line": {
          "color": "green",
          "width": 3
         },
         "mode": "lines",
         "showlegend": false,
         "type": "scatter",
         "x": [
          "2023-04-28T00:00:00",
          "2023-04-29T00:00:00"
         ],
         "xaxis": "x",
         "y": [
          196.47,
          196.59
         ],
         "yaxis": "y"
        },
        {
         "hoverinfo": "none",
         "line": {
          "color": "green",
          "width": 3
         },
         "mode": "lines",
         "showlegend": false,
         "type": "scatter",
         "x": [
          "2023-04-29T00:00:00",
          "2023-04-30T00:00:00"
         ],
         "xaxis": "x",
         "y": [
          196.59,
          196.73
         ],
         "yaxis": "y"
        },
        {
         "hoverinfo": "none",
         "line": {
          "color": "green",
          "width": 3
         },
         "mode": "lines",
         "showlegend": false,
         "type": "scatter",
         "x": [
          "2023-04-30T00:00:00",
          "2023-05-01T00:00:00"
         ],
         "xaxis": "x",
         "y": [
          196.73,
          196.95
         ],
         "yaxis": "y"
        },
        {
         "hoverinfo": "none",
         "line": {
          "color": "green",
          "width": 3
         },
         "mode": "lines",
         "showlegend": false,
         "type": "scatter",
         "x": [
          "2023-05-01T00:00:00",
          "2023-05-02T00:00:00"
         ],
         "xaxis": "x",
         "y": [
          196.95,
          197.19
         ],
         "yaxis": "y"
        },
        {
         "hoverinfo": "none",
         "line": {
          "color": "green",
          "width": 3
         },
         "mode": "lines",
         "showlegend": false,
         "type": "scatter",
         "x": [
          "2023-05-02T00:00:00",
          "2023-05-03T00:00:00"
         ],
         "xaxis": "x",
         "y": [
          197.19,
          197.29
         ],
         "yaxis": "y"
        },
        {
         "hoverinfo": "none",
         "line": {
          "color": "green",
          "width": 3
         },
         "mode": "lines",
         "showlegend": false,
         "type": "scatter",
         "x": [
          "2023-05-03T00:00:00",
          "2023-05-04T00:00:00"
         ],
         "xaxis": "x",
         "y": [
          197.29,
          197.51
         ],
         "yaxis": "y"
        },
        {
         "hoverinfo": "none",
         "line": {
          "color": "green",
          "width": 3
         },
         "mode": "lines",
         "showlegend": false,
         "type": "scatter",
         "x": [
          "2023-05-04T00:00:00",
          "2023-05-05T00:00:00"
         ],
         "xaxis": "x",
         "y": [
          197.51,
          197.65
         ],
         "yaxis": "y"
        },
        {
         "hoverinfo": "none",
         "line": {
          "color": "green",
          "width": 3
         },
         "mode": "lines",
         "showlegend": false,
         "type": "scatter",
         "x": [
          "2023-05-05T00:00:00",
          "2023-05-06T00:00:00"
         ],
         "xaxis": "x",
         "y": [
          197.65,
          197.78
         ],
         "yaxis": "y"
        },
        {
         "hoverinfo": "none",
         "line": {
          "color": "green",
          "width": 3
         },
         "mode": "lines",
         "showlegend": false,
         "type": "scatter",
         "x": [
          "2023-05-06T00:00:00",
          "2023-05-07T00:00:00"
         ],
         "xaxis": "x",
         "y": [
          197.78,
          197.92
         ],
         "yaxis": "y"
        },
        {
         "hoverinfo": "none",
         "line": {
          "color": "green",
          "width": 3
         },
         "mode": "lines",
         "showlegend": false,
         "type": "scatter",
         "x": [
          "2023-05-07T00:00:00",
          "2023-05-08T00:00:00"
         ],
         "xaxis": "x",
         "y": [
          197.92,
          198.04
         ],
         "yaxis": "y"
        },
        {
         "hoverinfo": "none",
         "line": {
          "color": "green",
          "width": 3
         },
         "mode": "lines",
         "showlegend": false,
         "type": "scatter",
         "x": [
          "2023-05-08T00:00:00",
          "2023-05-09T00:00:00"
         ],
         "xaxis": "x",
         "y": [
          198.04,
          198.08
         ],
         "yaxis": "y"
        },
        {
         "hoverinfo": "none",
         "line": {
          "color": "green",
          "width": 3
         },
         "mode": "lines",
         "showlegend": false,
         "type": "scatter",
         "x": [
          "2023-05-09T00:00:00",
          "2023-05-10T00:00:00"
         ],
         "xaxis": "x",
         "y": [
          198.08,
          198.09
         ],
         "yaxis": "y"
        },
        {
         "hoverinfo": "none",
         "line": {
          "color": "green",
          "width": 3
         },
         "mode": "lines",
         "showlegend": false,
         "type": "scatter",
         "x": [
          "2023-05-10T00:00:00",
          "2023-05-11T00:00:00"
         ],
         "xaxis": "x",
         "y": [
          198.09,
          198.23
         ],
         "yaxis": "y"
        },
        {
         "hoverinfo": "none",
         "line": {
          "color": "green",
          "width": 3
         },
         "mode": "lines",
         "showlegend": false,
         "type": "scatter",
         "x": [
          "2023-05-11T00:00:00",
          "2023-05-12T00:00:00"
         ],
         "xaxis": "x",
         "y": [
          198.23,
          198.27
         ],
         "yaxis": "y"
        },
        {
         "hoverinfo": "none",
         "line": {
          "color": "green",
          "width": 3
         },
         "mode": "lines",
         "showlegend": false,
         "type": "scatter",
         "x": [
          "2023-05-12T00:00:00",
          "2023-05-13T00:00:00"
         ],
         "xaxis": "x",
         "y": [
          198.27,
          198.28
         ],
         "yaxis": "y"
        },
        {
         "hoverinfo": "none",
         "line": {
          "color": "green",
          "width": 3
         },
         "mode": "lines",
         "showlegend": false,
         "type": "scatter",
         "x": [
          "2023-05-13T00:00:00",
          "2023-05-14T00:00:00"
         ],
         "xaxis": "x",
         "y": [
          198.28,
          198.41
         ],
         "yaxis": "y"
        },
        {
         "hoverinfo": "none",
         "line": {
          "color": "green",
          "width": 3
         },
         "mode": "lines",
         "showlegend": false,
         "type": "scatter",
         "x": [
          "2023-05-14T00:00:00",
          "2023-05-15T00:00:00"
         ],
         "xaxis": "x",
         "y": [
          198.41,
          198.52
         ],
         "yaxis": "y"
        },
        {
         "hoverinfo": "none",
         "line": {
          "color": "green",
          "width": 3
         },
         "mode": "lines",
         "showlegend": false,
         "type": "scatter",
         "x": [
          "2023-05-15T00:00:00",
          "2023-05-16T00:00:00"
         ],
         "xaxis": "x",
         "y": [
          198.52,
          198.63
         ],
         "yaxis": "y"
        },
        {
         "hoverinfo": "none",
         "line": {
          "color": "green",
          "width": 3
         },
         "mode": "lines",
         "showlegend": false,
         "type": "scatter",
         "x": [
          "2023-05-16T00:00:00",
          "2023-05-17T00:00:00"
         ],
         "xaxis": "x",
         "y": [
          198.63,
          198.73
         ],
         "yaxis": "y"
        },
        {
         "hoverinfo": "none",
         "line": {
          "color": "green",
          "width": 3
         },
         "mode": "lines",
         "showlegend": false,
         "type": "scatter",
         "x": [
          "2023-05-17T00:00:00",
          "2023-05-18T00:00:00"
         ],
         "xaxis": "x",
         "y": [
          198.73,
          198.83
         ],
         "yaxis": "y"
        },
        {
         "hoverinfo": "none",
         "line": {
          "color": "green",
          "width": 3
         },
         "mode": "lines",
         "showlegend": false,
         "type": "scatter",
         "x": [
          "2023-05-18T00:00:00",
          "2023-05-19T00:00:00"
         ],
         "xaxis": "x",
         "y": [
          198.83,
          198.94
         ],
         "yaxis": "y"
        },
        {
         "hoverinfo": "none",
         "line": {
          "color": "green",
          "width": 3
         },
         "mode": "lines",
         "showlegend": false,
         "type": "scatter",
         "x": [
          "2023-05-19T00:00:00",
          "2023-05-20T00:00:00"
         ],
         "xaxis": "x",
         "y": [
          198.94,
          199.04
         ],
         "yaxis": "y"
        },
        {
         "hoverinfo": "none",
         "line": {
          "color": "green",
          "width": 3
         },
         "mode": "lines",
         "showlegend": false,
         "type": "scatter",
         "x": [
          "2023-05-20T00:00:00",
          "2023-05-21T00:00:00"
         ],
         "xaxis": "x",
         "y": [
          199.04,
          199.26
         ],
         "yaxis": "y"
        },
        {
         "hoverinfo": "none",
         "line": {
          "color": "green",
          "width": 3
         },
         "mode": "lines",
         "showlegend": false,
         "type": "scatter",
         "x": [
          "2023-05-21T00:00:00",
          "2023-05-22T00:00:00"
         ],
         "xaxis": "x",
         "y": [
          199.26,
          199.37
         ],
         "yaxis": "y"
        },
        {
         "hoverinfo": "none",
         "line": {
          "color": "green",
          "width": 3
         },
         "mode": "lines",
         "showlegend": false,
         "type": "scatter",
         "x": [
          "2023-05-22T00:00:00",
          "2023-05-23T00:00:00"
         ],
         "xaxis": "x",
         "y": [
          199.37,
          199.48
         ],
         "yaxis": "y"
        },
        {
         "hoverinfo": "none",
         "line": {
          "color": "green",
          "width": 3
         },
         "mode": "lines",
         "showlegend": false,
         "type": "scatter",
         "x": [
          "2023-05-23T00:00:00",
          "2023-05-24T00:00:00"
         ],
         "xaxis": "x",
         "y": [
          199.48,
          199.59
         ],
         "yaxis": "y"
        },
        {
         "hoverinfo": "none",
         "line": {
          "color": "green",
          "width": 3
         },
         "mode": "lines",
         "showlegend": false,
         "type": "scatter",
         "x": [
          "2023-05-24T00:00:00",
          "2023-05-25T00:00:00"
         ],
         "xaxis": "x",
         "y": [
          199.59,
          199.79
         ],
         "yaxis": "y"
        },
        {
         "hoverinfo": "none",
         "line": {
          "color": "green",
          "width": 3
         },
         "mode": "lines",
         "showlegend": false,
         "type": "scatter",
         "x": [
          "2023-05-25T00:00:00",
          "2023-05-26T00:00:00"
         ],
         "xaxis": "x",
         "y": [
          199.79,
          200.01
         ],
         "yaxis": "y"
        },
        {
         "hoverinfo": "none",
         "line": {
          "color": "green",
          "width": 3
         },
         "mode": "lines",
         "showlegend": false,
         "type": "scatter",
         "x": [
          "2023-05-26T00:00:00",
          "2023-05-27T00:00:00"
         ],
         "xaxis": "x",
         "y": [
          200.01,
          200.21
         ],
         "yaxis": "y"
        },
        {
         "hoverinfo": "none",
         "line": {
          "color": "green",
          "width": 3
         },
         "mode": "lines",
         "showlegend": false,
         "type": "scatter",
         "x": [
          "2023-05-27T00:00:00",
          "2023-05-28T00:00:00"
         ],
         "xaxis": "x",
         "y": [
          200.21,
          200.41
         ],
         "yaxis": "y"
        },
        {
         "hoverinfo": "none",
         "line": {
          "color": "green",
          "width": 3
         },
         "mode": "lines",
         "showlegend": false,
         "type": "scatter",
         "x": [
          "2023-05-28T00:00:00",
          "2023-05-29T00:00:00"
         ],
         "xaxis": "x",
         "y": [
          200.41,
          200.5
         ],
         "yaxis": "y"
        },
        {
         "hoverinfo": "none",
         "line": {
          "color": "green",
          "width": 3
         },
         "mode": "lines",
         "showlegend": false,
         "type": "scatter",
         "x": [
          "2023-05-29T00:00:00",
          "2023-05-30T00:00:00"
         ],
         "xaxis": "x",
         "y": [
          200.5,
          200.59
         ],
         "yaxis": "y"
        },
        {
         "hoverinfo": "none",
         "line": {
          "color": "green",
          "width": 3
         },
         "mode": "lines",
         "showlegend": false,
         "type": "scatter",
         "x": [
          "2023-05-30T00:00:00",
          "2023-05-31T00:00:00"
         ],
         "xaxis": "x",
         "y": [
          200.59,
          200.69
         ],
         "yaxis": "y"
        },
        {
         "hoverinfo": "none",
         "line": {
          "color": "green",
          "width": 3
         },
         "mode": "lines",
         "showlegend": false,
         "type": "scatter",
         "x": [
          "2023-05-31T00:00:00",
          "2023-06-01T00:00:00"
         ],
         "xaxis": "x",
         "y": [
          200.69,
          200.89
         ],
         "yaxis": "y"
        },
        {
         "hoverinfo": "none",
         "line": {
          "color": "green",
          "width": 3
         },
         "mode": "lines",
         "showlegend": false,
         "type": "scatter",
         "x": [
          "2023-06-01T00:00:00",
          "2023-06-02T00:00:00"
         ],
         "xaxis": "x",
         "y": [
          200.89,
          201
         ],
         "yaxis": "y"
        },
        {
         "hoverinfo": "none",
         "line": {
          "color": "green",
          "width": 3
         },
         "mode": "lines",
         "showlegend": false,
         "type": "scatter",
         "x": [
          "2023-06-02T00:00:00",
          "2023-06-03T00:00:00"
         ],
         "xaxis": "x",
         "y": [
          201,
          201.11
         ],
         "yaxis": "y"
        },
        {
         "hoverinfo": "none",
         "line": {
          "color": "green",
          "width": 3
         },
         "mode": "lines",
         "showlegend": false,
         "type": "scatter",
         "x": [
          "2023-06-03T00:00:00",
          "2023-06-04T00:00:00"
         ],
         "xaxis": "x",
         "y": [
          201.11,
          201.23
         ],
         "yaxis": "y"
        },
        {
         "hoverinfo": "none",
         "line": {
          "color": "green",
          "width": 3
         },
         "mode": "lines",
         "showlegend": false,
         "type": "scatter",
         "x": [
          "2023-06-04T00:00:00",
          "2023-06-05T00:00:00"
         ],
         "xaxis": "x",
         "y": [
          201.23,
          201.34
         ],
         "yaxis": "y"
        },
        {
         "hoverinfo": "none",
         "line": {
          "color": "green",
          "width": 3
         },
         "mode": "lines",
         "showlegend": false,
         "type": "scatter",
         "x": [
          "2023-06-05T00:00:00",
          "2023-06-06T00:00:00"
         ],
         "xaxis": "x",
         "y": [
          201.34,
          201.45
         ],
         "yaxis": "y"
        },
        {
         "hoverinfo": "none",
         "line": {
          "color": "green",
          "width": 3
         },
         "mode": "lines",
         "showlegend": false,
         "type": "scatter",
         "x": [
          "2023-06-06T00:00:00",
          "2023-06-07T00:00:00"
         ],
         "xaxis": "x",
         "y": [
          201.45,
          201.56
         ],
         "yaxis": "y"
        },
        {
         "hoverinfo": "none",
         "line": {
          "color": "green",
          "width": 3
         },
         "mode": "lines",
         "showlegend": false,
         "type": "scatter",
         "x": [
          "2023-06-07T00:00:00",
          "2023-06-08T00:00:00"
         ],
         "xaxis": "x",
         "y": [
          201.56,
          201.77
         ],
         "yaxis": "y"
        },
        {
         "hoverinfo": "none",
         "line": {
          "color": "green",
          "width": 3
         },
         "mode": "lines",
         "showlegend": false,
         "type": "scatter",
         "x": [
          "2023-06-08T00:00:00",
          "2023-06-09T00:00:00"
         ],
         "xaxis": "x",
         "y": [
          201.77,
          201.88
         ],
         "yaxis": "y"
        },
        {
         "hoverinfo": "none",
         "line": {
          "color": "green",
          "width": 3
         },
         "mode": "lines",
         "showlegend": false,
         "type": "scatter",
         "x": [
          "2023-06-09T00:00:00",
          "2023-06-10T00:00:00"
         ],
         "xaxis": "x",
         "y": [
          201.88,
          201.99
         ],
         "yaxis": "y"
        },
        {
         "hoverinfo": "none",
         "line": {
          "color": "green",
          "width": 3
         },
         "mode": "lines",
         "showlegend": false,
         "type": "scatter",
         "x": [
          "2023-06-10T00:00:00",
          "2023-06-11T00:00:00"
         ],
         "xaxis": "x",
         "y": [
          201.99,
          202.12
         ],
         "yaxis": "y"
        },
        {
         "hoverinfo": "none",
         "line": {
          "color": "green",
          "width": 3
         },
         "mode": "lines",
         "showlegend": false,
         "type": "scatter",
         "x": [
          "2023-06-11T00:00:00",
          "2023-06-12T00:00:00"
         ],
         "xaxis": "x",
         "y": [
          202.12,
          202.23
         ],
         "yaxis": "y"
        },
        {
         "hoverinfo": "none",
         "line": {
          "color": "green",
          "width": 3
         },
         "mode": "lines",
         "showlegend": false,
         "type": "scatter",
         "x": [
          "2023-06-12T00:00:00",
          "2023-06-13T00:00:00"
         ],
         "xaxis": "x",
         "y": [
          202.23,
          202.33
         ],
         "yaxis": "y"
        },
        {
         "hoverinfo": "none",
         "line": {
          "color": "green",
          "width": 3
         },
         "mode": "lines",
         "showlegend": false,
         "type": "scatter",
         "x": [
          "2023-06-13T00:00:00",
          "2023-06-14T00:00:00"
         ],
         "xaxis": "x",
         "y": [
          202.33,
          202.44
         ],
         "yaxis": "y"
        },
        {
         "hoverinfo": "none",
         "line": {
          "color": "green",
          "width": 3
         },
         "mode": "lines",
         "showlegend": false,
         "type": "scatter",
         "x": [
          "2023-06-14T00:00:00",
          "2023-06-15T00:00:00"
         ],
         "xaxis": "x",
         "y": [
          202.44,
          202.54
         ],
         "yaxis": "y"
        },
        {
         "hoverinfo": "none",
         "line": {
          "color": "red",
          "width": 3
         },
         "mode": "lines",
         "showlegend": false,
         "type": "scatter",
         "x": [
          "2023-06-15T00:00:00",
          "2023-06-16T00:00:00"
         ],
         "xaxis": "x",
         "y": [
          202.54,
          202.52
         ],
         "yaxis": "y"
        },
        {
         "hoverinfo": "none",
         "line": {
          "color": "red",
          "width": 3
         },
         "mode": "lines",
         "showlegend": false,
         "type": "scatter",
         "x": [
          "2023-06-16T00:00:00",
          "2023-06-17T00:00:00"
         ],
         "xaxis": "x",
         "y": [
          202.52,
          202.5
         ],
         "yaxis": "y"
        },
        {
         "hoverinfo": "none",
         "line": {
          "color": "red",
          "width": 3
         },
         "mode": "lines",
         "showlegend": false,
         "type": "scatter",
         "x": [
          "2023-06-17T00:00:00",
          "2023-06-18T00:00:00"
         ],
         "xaxis": "x",
         "y": [
          202.5,
          202.49
         ],
         "yaxis": "y"
        },
        {
         "hoverinfo": "none",
         "line": {
          "color": "red",
          "width": 3
         },
         "mode": "lines",
         "showlegend": false,
         "type": "scatter",
         "x": [
          "2023-06-18T00:00:00",
          "2023-06-19T00:00:00"
         ],
         "xaxis": "x",
         "y": [
          202.49,
          202.45
         ],
         "yaxis": "y"
        },
        {
         "hoverinfo": "none",
         "line": {
          "color": "red",
          "width": 3
         },
         "mode": "lines",
         "showlegend": false,
         "type": "scatter",
         "x": [
          "2023-06-19T00:00:00",
          "2023-06-20T00:00:00"
         ],
         "xaxis": "x",
         "y": [
          202.45,
          202.42
         ],
         "yaxis": "y"
        },
        {
         "hoverinfo": "none",
         "line": {
          "color": "red",
          "width": 3
         },
         "mode": "lines",
         "showlegend": false,
         "type": "scatter",
         "x": [
          "2023-06-20T00:00:00",
          "2023-06-21T00:00:00"
         ],
         "xaxis": "x",
         "y": [
          202.42,
          202.41
         ],
         "yaxis": "y"
        },
        {
         "hoverinfo": "none",
         "line": {
          "color": "red",
          "width": 3
         },
         "mode": "lines",
         "showlegend": false,
         "type": "scatter",
         "x": [
          "2023-06-21T00:00:00",
          "2023-06-22T00:00:00"
         ],
         "xaxis": "x",
         "y": [
          202.41,
          202.37
         ],
         "yaxis": "y"
        },
        {
         "hoverinfo": "none",
         "line": {
          "color": "green",
          "width": 3
         },
         "mode": "lines",
         "showlegend": false,
         "type": "scatter",
         "x": [
          "2023-06-22T00:00:00",
          "2023-06-23T00:00:00"
         ],
         "xaxis": "x",
         "y": [
          202.37,
          202.37
         ],
         "yaxis": "y"
        },
        {
         "hoverinfo": "none",
         "line": {
          "color": "green",
          "width": 3
         },
         "mode": "lines",
         "showlegend": false,
         "type": "scatter",
         "x": [
          "2023-06-23T00:00:00",
          "2023-06-24T00:00:00"
         ],
         "xaxis": "x",
         "y": [
          202.37,
          202.37
         ],
         "yaxis": "y"
        },
        {
         "hoverinfo": "none",
         "line": {
          "color": "green",
          "width": 3
         },
         "mode": "lines",
         "showlegend": false,
         "type": "scatter",
         "x": [
          "2023-06-24T00:00:00",
          "2023-06-25T00:00:00"
         ],
         "xaxis": "x",
         "y": [
          202.37,
          202.48
         ],
         "yaxis": "y"
        },
        {
         "hoverinfo": "none",
         "line": {
          "color": "green",
          "width": 3
         },
         "mode": "lines",
         "showlegend": false,
         "type": "scatter",
         "x": [
          "2023-06-25T00:00:00",
          "2023-06-26T00:00:00"
         ],
         "xaxis": "x",
         "y": [
          202.48,
          202.59
         ],
         "yaxis": "y"
        },
        {
         "hoverinfo": "none",
         "line": {
          "color": "green",
          "width": 3
         },
         "mode": "lines",
         "showlegend": false,
         "type": "scatter",
         "x": [
          "2023-06-26T00:00:00",
          "2023-06-27T00:00:00"
         ],
         "xaxis": "x",
         "y": [
          202.59,
          202.7
         ],
         "yaxis": "y"
        },
        {
         "hoverinfo": "none",
         "line": {
          "color": "green",
          "width": 3
         },
         "mode": "lines",
         "showlegend": false,
         "type": "scatter",
         "x": [
          "2023-06-27T00:00:00",
          "2023-06-28T00:00:00"
         ],
         "xaxis": "x",
         "y": [
          202.7,
          202.7
         ],
         "yaxis": "y"
        },
        {
         "hoverinfo": "none",
         "line": {
          "color": "green",
          "width": 3
         },
         "mode": "lines",
         "showlegend": false,
         "type": "scatter",
         "x": [
          "2023-06-28T00:00:00",
          "2023-06-29T00:00:00"
         ],
         "xaxis": "x",
         "y": [
          202.7,
          202.81
         ],
         "yaxis": "y"
        },
        {
         "hoverinfo": "none",
         "line": {
          "color": "green",
          "width": 3
         },
         "mode": "lines",
         "showlegend": false,
         "type": "scatter",
         "x": [
          "2023-06-29T00:00:00",
          "2023-06-30T00:00:00"
         ],
         "xaxis": "x",
         "y": [
          202.81,
          202.93
         ],
         "yaxis": "y"
        },
        {
         "hoverinfo": "none",
         "line": {
          "color": "green",
          "width": 3
         },
         "mode": "lines",
         "showlegend": false,
         "type": "scatter",
         "x": [
          "2023-06-30T00:00:00",
          "2023-07-01T00:00:00"
         ],
         "xaxis": "x",
         "y": [
          202.93,
          203.04
         ],
         "yaxis": "y"
        },
        {
         "hoverinfo": "none",
         "line": {
          "color": "green",
          "width": 3
         },
         "mode": "lines",
         "showlegend": false,
         "type": "scatter",
         "x": [
          "2023-07-01T00:00:00",
          "2023-07-02T00:00:00"
         ],
         "xaxis": "x",
         "y": [
          203.04,
          203.15
         ],
         "yaxis": "y"
        },
        {
         "hoverinfo": "none",
         "line": {
          "color": "green",
          "width": 3
         },
         "mode": "lines",
         "showlegend": false,
         "type": "scatter",
         "x": [
          "2023-07-02T00:00:00",
          "2023-07-03T00:00:00"
         ],
         "xaxis": "x",
         "y": [
          203.15,
          203.15
         ],
         "yaxis": "y"
        },
        {
         "hoverinfo": "none",
         "line": {
          "color": "green",
          "width": 3
         },
         "mode": "lines",
         "showlegend": false,
         "type": "scatter",
         "x": [
          "2023-07-03T00:00:00",
          "2023-07-04T00:00:00"
         ],
         "xaxis": "x",
         "y": [
          203.15,
          203.15
         ],
         "yaxis": "y"
        },
        {
         "hoverinfo": "none",
         "line": {
          "color": "green",
          "width": 3
         },
         "mode": "lines",
         "showlegend": false,
         "type": "scatter",
         "x": [
          "2023-07-04T00:00:00",
          "2023-07-05T00:00:00"
         ],
         "xaxis": "x",
         "y": [
          203.15,
          203.15
         ],
         "yaxis": "y"
        },
        {
         "hoverinfo": "none",
         "line": {
          "color": "green",
          "width": 3
         },
         "mode": "lines",
         "showlegend": false,
         "type": "scatter",
         "x": [
          "2023-07-05T00:00:00",
          "2023-07-06T00:00:00"
         ],
         "xaxis": "x",
         "y": [
          203.15,
          203.26
         ],
         "yaxis": "y"
        },
        {
         "hoverinfo": "none",
         "line": {
          "color": "green",
          "width": 3
         },
         "mode": "lines",
         "showlegend": false,
         "type": "scatter",
         "x": [
          "2023-07-06T00:00:00",
          "2023-07-07T00:00:00"
         ],
         "xaxis": "x",
         "y": [
          203.26,
          203.26
         ],
         "yaxis": "y"
        },
        {
         "hoverinfo": "none",
         "line": {
          "color": "green",
          "width": 3
         },
         "mode": "lines",
         "showlegend": false,
         "type": "scatter",
         "x": [
          "2023-07-07T00:00:00",
          "2023-07-08T00:00:00"
         ],
         "xaxis": "x",
         "y": [
          203.26,
          203.26
         ],
         "yaxis": "y"
        },
        {
         "hoverinfo": "none",
         "line": {
          "color": "green",
          "width": 3
         },
         "mode": "lines",
         "showlegend": false,
         "type": "scatter",
         "x": [
          "2023-07-08T00:00:00",
          "2023-07-09T00:00:00"
         ],
         "xaxis": "x",
         "y": [
          203.26,
          203.26
         ],
         "yaxis": "y"
        },
        {
         "hoverinfo": "none",
         "line": {
          "color": "green",
          "width": 3
         },
         "mode": "lines",
         "showlegend": false,
         "type": "scatter",
         "x": [
          "2023-07-09T00:00:00",
          "2023-07-10T00:00:00"
         ],
         "xaxis": "x",
         "y": [
          203.26,
          203.26
         ],
         "yaxis": "y"
        },
        {
         "hoverinfo": "none",
         "line": {
          "color": "green",
          "width": 3
         },
         "mode": "lines",
         "showlegend": false,
         "type": "scatter",
         "x": [
          "2023-07-10T00:00:00",
          "2023-07-11T00:00:00"
         ],
         "xaxis": "x",
         "y": [
          203.26,
          203.26
         ],
         "yaxis": "y"
        },
        {
         "hoverinfo": "none",
         "line": {
          "color": "green",
          "width": 3
         },
         "mode": "lines",
         "showlegend": false,
         "type": "scatter",
         "x": [
          "2023-07-11T00:00:00",
          "2023-07-12T00:00:00"
         ],
         "xaxis": "x",
         "y": [
          203.26,
          203.26
         ],
         "yaxis": "y"
        },
        {
         "hoverinfo": "none",
         "line": {
          "color": "red",
          "width": 3
         },
         "mode": "lines",
         "showlegend": false,
         "type": "scatter",
         "x": [
          "2023-07-12T00:00:00",
          "2023-07-13T00:00:00"
         ],
         "xaxis": "x",
         "y": [
          203.26,
          203.24
         ],
         "yaxis": "y"
        },
        {
         "hoverinfo": "none",
         "line": {
          "color": "red",
          "width": 3
         },
         "mode": "lines",
         "showlegend": false,
         "type": "scatter",
         "x": [
          "2023-07-13T00:00:00",
          "2023-07-14T00:00:00"
         ],
         "xaxis": "x",
         "y": [
          203.24,
          203.23
         ],
         "yaxis": "y"
        },
        {
         "hoverinfo": "none",
         "line": {
          "color": "green",
          "width": 3
         },
         "mode": "lines",
         "showlegend": false,
         "type": "scatter",
         "x": [
          "2023-07-14T00:00:00",
          "2023-07-15T00:00:00"
         ],
         "xaxis": "x",
         "y": [
          203.23,
          203.23
         ],
         "yaxis": "y"
        },
        {
         "hoverinfo": "none",
         "line": {
          "color": "green",
          "width": 3
         },
         "mode": "lines",
         "showlegend": false,
         "type": "scatter",
         "x": [
          "2023-07-15T00:00:00",
          "2023-07-16T00:00:00"
         ],
         "xaxis": "x",
         "y": [
          203.23,
          203.23
         ],
         "yaxis": "y"
        },
        {
         "hoverinfo": "none",
         "line": {
          "color": "green",
          "width": 3
         },
         "mode": "lines",
         "showlegend": false,
         "type": "scatter",
         "x": [
          "2023-07-16T00:00:00",
          "2023-07-17T00:00:00"
         ],
         "xaxis": "x",
         "y": [
          203.23,
          203.23
         ],
         "yaxis": "y"
        },
        {
         "hoverinfo": "none",
         "line": {
          "color": "green",
          "width": 3
         },
         "mode": "lines",
         "showlegend": false,
         "type": "scatter",
         "x": [
          "2023-07-17T00:00:00",
          "2023-07-18T00:00:00"
         ],
         "xaxis": "x",
         "y": [
          203.23,
          203.23
         ],
         "yaxis": "y"
        },
        {
         "hoverinfo": "none",
         "line": {
          "color": "red",
          "width": 3
         },
         "mode": "lines",
         "showlegend": false,
         "type": "scatter",
         "x": [
          "2023-07-18T00:00:00",
          "2023-07-19T00:00:00"
         ],
         "xaxis": "x",
         "y": [
          203.23,
          203.21
         ],
         "yaxis": "y"
        },
        {
         "hoverinfo": "none",
         "line": {
          "color": "red",
          "width": 3
         },
         "mode": "lines",
         "showlegend": false,
         "type": "scatter",
         "x": [
          "2023-07-19T00:00:00",
          "2023-07-20T00:00:00"
         ],
         "xaxis": "x",
         "y": [
          203.21,
          203.19
         ],
         "yaxis": "y"
        },
        {
         "hoverinfo": "none",
         "line": {
          "color": "green",
          "width": 3
         },
         "mode": "lines",
         "showlegend": false,
         "type": "scatter",
         "x": [
          "2023-07-20T00:00:00",
          "2023-07-21T00:00:00"
         ],
         "xaxis": "x",
         "y": [
          203.19,
          203.19
         ],
         "yaxis": "y"
        },
        {
         "hoverinfo": "none",
         "line": {
          "color": "green",
          "width": 3
         },
         "mode": "lines",
         "showlegend": false,
         "type": "scatter",
         "x": [
          "2023-07-21T00:00:00",
          "2023-07-22T00:00:00"
         ],
         "xaxis": "x",
         "y": [
          203.19,
          203.19
         ],
         "yaxis": "y"
        },
        {
         "hoverinfo": "none",
         "line": {
          "color": "red",
          "width": 3
         },
         "mode": "lines",
         "showlegend": false,
         "type": "scatter",
         "x": [
          "2023-07-22T00:00:00",
          "2023-07-23T00:00:00"
         ],
         "xaxis": "x",
         "y": [
          203.19,
          203.18
         ],
         "yaxis": "y"
        },
        {
         "hoverinfo": "none",
         "line": {
          "color": "red",
          "width": 3
         },
         "mode": "lines",
         "showlegend": false,
         "type": "scatter",
         "x": [
          "2023-07-23T00:00:00",
          "2023-07-24T00:00:00"
         ],
         "xaxis": "x",
         "y": [
          203.18,
          203.16
         ],
         "yaxis": "y"
        },
        {
         "hoverinfo": "none",
         "line": {
          "color": "red",
          "width": 3
         },
         "mode": "lines",
         "showlegend": false,
         "type": "scatter",
         "x": [
          "2023-07-24T00:00:00",
          "2023-07-25T00:00:00"
         ],
         "xaxis": "x",
         "y": [
          203.16,
          203.15
         ],
         "yaxis": "y"
        },
        {
         "hoverinfo": "none",
         "line": {
          "color": "red",
          "width": 3
         },
         "mode": "lines",
         "showlegend": false,
         "type": "scatter",
         "x": [
          "2023-07-25T00:00:00",
          "2023-07-26T00:00:00"
         ],
         "xaxis": "x",
         "y": [
          203.15,
          203.11
         ],
         "yaxis": "y"
        },
        {
         "hoverinfo": "none",
         "line": {
          "color": "red",
          "width": 3
         },
         "mode": "lines",
         "showlegend": false,
         "type": "scatter",
         "x": [
          "2023-07-26T00:00:00",
          "2023-07-27T00:00:00"
         ],
         "xaxis": "x",
         "y": [
          203.11,
          203.1
         ],
         "yaxis": "y"
        },
        {
         "hoverinfo": "none",
         "line": {
          "color": "red",
          "width": 3
         },
         "mode": "lines",
         "showlegend": false,
         "type": "scatter",
         "x": [
          "2023-07-27T00:00:00",
          "2023-07-28T00:00:00"
         ],
         "xaxis": "x",
         "y": [
          203.1,
          203.08
         ],
         "yaxis": "y"
        },
        {
         "hoverinfo": "none",
         "line": {
          "color": "green",
          "width": 3
         },
         "mode": "lines",
         "showlegend": false,
         "type": "scatter",
         "x": [
          "2023-07-28T00:00:00",
          "2023-07-29T00:00:00"
         ],
         "xaxis": "x",
         "y": [
          203.08,
          203.08
         ],
         "yaxis": "y"
        },
        {
         "hoverinfo": "none",
         "line": {
          "color": "green",
          "width": 3
         },
         "mode": "lines",
         "showlegend": false,
         "type": "scatter",
         "x": [
          "2023-07-29T00:00:00",
          "2023-07-30T00:00:00"
         ],
         "xaxis": "x",
         "y": [
          203.08,
          203.08
         ],
         "yaxis": "y"
        },
        {
         "hoverinfo": "none",
         "line": {
          "color": "green",
          "width": 3
         },
         "mode": "lines",
         "showlegend": false,
         "type": "scatter",
         "x": [
          "2023-07-30T00:00:00",
          "2023-07-31T00:00:00"
         ],
         "xaxis": "x",
         "y": [
          203.08,
          203.08
         ],
         "yaxis": "y"
        },
        {
         "hoverinfo": "none",
         "line": {
          "color": "red",
          "width": 3
         },
         "mode": "lines",
         "showlegend": false,
         "type": "scatter",
         "x": [
          "2023-07-31T00:00:00",
          "2023-08-01T00:00:00"
         ],
         "xaxis": "x",
         "y": [
          203.08,
          203.06
         ],
         "yaxis": "y"
        },
        {
         "hoverinfo": "none",
         "line": {
          "color": "red",
          "width": 3
         },
         "mode": "lines",
         "showlegend": false,
         "type": "scatter",
         "x": [
          "2023-08-01T00:00:00",
          "2023-08-02T00:00:00"
         ],
         "xaxis": "x",
         "y": [
          203.06,
          203.05
         ],
         "yaxis": "y"
        },
        {
         "hoverinfo": "none",
         "line": {
          "color": "green",
          "width": 3
         },
         "mode": "lines",
         "showlegend": false,
         "type": "scatter",
         "x": [
          "2023-08-02T00:00:00",
          "2023-08-03T00:00:00"
         ],
         "xaxis": "x",
         "y": [
          203.05,
          203.05
         ],
         "yaxis": "y"
        },
        {
         "hoverinfo": "none",
         "line": {
          "color": "green",
          "width": 3
         },
         "mode": "lines",
         "showlegend": false,
         "type": "scatter",
         "x": [
          "2023-08-03T00:00:00",
          "2023-08-04T00:00:00"
         ],
         "xaxis": "x",
         "y": [
          203.05,
          203.05
         ],
         "yaxis": "y"
        },
        {
         "hoverinfo": "none",
         "line": {
          "color": "green",
          "width": 3
         },
         "mode": "lines",
         "showlegend": false,
         "type": "scatter",
         "x": [
          "2023-08-04T00:00:00",
          "2023-08-05T00:00:00"
         ],
         "xaxis": "x",
         "y": [
          203.05,
          203.05
         ],
         "yaxis": "y"
        },
        {
         "hoverinfo": "none",
         "line": {
          "color": "green",
          "width": 3
         },
         "mode": "lines",
         "showlegend": false,
         "type": "scatter",
         "x": [
          "2023-08-05T00:00:00",
          "2023-08-06T00:00:00"
         ],
         "xaxis": "x",
         "y": [
          203.05,
          203.05
         ],
         "yaxis": "y"
        },
        {
         "hoverinfo": "none",
         "line": {
          "color": "green",
          "width": 3
         },
         "mode": "lines",
         "showlegend": false,
         "type": "scatter",
         "x": [
          "2023-08-06T00:00:00",
          "2023-08-07T00:00:00"
         ],
         "xaxis": "x",
         "y": [
          203.05,
          203.05
         ],
         "yaxis": "y"
        },
        {
         "hoverinfo": "none",
         "line": {
          "color": "green",
          "width": 3
         },
         "mode": "lines",
         "showlegend": false,
         "type": "scatter",
         "x": [
          "2023-08-07T00:00:00",
          "2023-08-08T00:00:00"
         ],
         "xaxis": "x",
         "y": [
          203.05,
          203.05
         ],
         "yaxis": "y"
        },
        {
         "hoverinfo": "none",
         "line": {
          "color": "green",
          "width": 3
         },
         "mode": "lines",
         "showlegend": false,
         "type": "scatter",
         "x": [
          "2023-08-08T00:00:00",
          "2023-08-09T00:00:00"
         ],
         "xaxis": "x",
         "y": [
          203.05,
          203.05
         ],
         "yaxis": "y"
        },
        {
         "hoverinfo": "none",
         "line": {
          "color": "green",
          "width": 3
         },
         "mode": "lines",
         "showlegend": false,
         "type": "scatter",
         "x": [
          "2023-08-09T00:00:00",
          "2023-08-10T00:00:00"
         ],
         "xaxis": "x",
         "y": [
          203.05,
          203.05
         ],
         "yaxis": "y"
        },
        {
         "hoverinfo": "none",
         "line": {
          "color": "green",
          "width": 3
         },
         "mode": "lines",
         "showlegend": false,
         "type": "scatter",
         "x": [
          "2023-08-10T00:00:00",
          "2023-08-11T00:00:00"
         ],
         "xaxis": "x",
         "y": [
          203.05,
          203.05
         ],
         "yaxis": "y"
        },
        {
         "hoverinfo": "none",
         "line": {
          "color": "green",
          "width": 3
         },
         "mode": "lines",
         "showlegend": false,
         "type": "scatter",
         "x": [
          "2023-08-11T00:00:00",
          "2023-08-12T00:00:00"
         ],
         "xaxis": "x",
         "y": [
          203.05,
          203.05
         ],
         "yaxis": "y"
        },
        {
         "hoverinfo": "none",
         "line": {
          "color": "green",
          "width": 3
         },
         "mode": "lines",
         "showlegend": false,
         "type": "scatter",
         "x": [
          "2023-08-12T00:00:00",
          "2023-08-13T00:00:00"
         ],
         "xaxis": "x",
         "y": [
          203.05,
          203.05
         ],
         "yaxis": "y"
        },
        {
         "hoverinfo": "none",
         "line": {
          "color": "red",
          "width": 3
         },
         "mode": "lines",
         "showlegend": false,
         "type": "scatter",
         "x": [
          "2023-08-13T00:00:00",
          "2023-08-14T00:00:00"
         ],
         "xaxis": "x",
         "y": [
          203.05,
          203.03
         ],
         "yaxis": "y"
        },
        {
         "hoverinfo": "none",
         "line": {
          "color": "red",
          "width": 3
         },
         "mode": "lines",
         "showlegend": false,
         "type": "scatter",
         "x": [
          "2023-08-14T00:00:00",
          "2023-08-15T00:00:00"
         ],
         "xaxis": "x",
         "y": [
          203.03,
          203.02
         ],
         "yaxis": "y"
        },
        {
         "hoverinfo": "none",
         "line": {
          "color": "red",
          "width": 3
         },
         "mode": "lines",
         "showlegend": false,
         "type": "scatter",
         "x": [
          "2023-08-15T00:00:00",
          "2023-08-16T00:00:00"
         ],
         "xaxis": "x",
         "y": [
          203.02,
          203
         ],
         "yaxis": "y"
        },
        {
         "hoverinfo": "none",
         "line": {
          "color": "green",
          "width": 3
         },
         "mode": "lines",
         "showlegend": false,
         "type": "scatter",
         "x": [
          "2023-08-16T00:00:00",
          "2023-08-17T00:00:00"
         ],
         "xaxis": "x",
         "y": [
          203,
          203
         ],
         "yaxis": "y"
        },
        {
         "hoverinfo": "none",
         "line": {
          "color": "green",
          "width": 3
         },
         "mode": "lines",
         "showlegend": false,
         "type": "scatter",
         "x": [
          "2023-08-17T00:00:00",
          "2023-08-18T00:00:00"
         ],
         "xaxis": "x",
         "y": [
          203,
          203.02
         ],
         "yaxis": "y"
        },
        {
         "hoverinfo": "none",
         "line": {
          "color": "green",
          "width": 3
         },
         "mode": "lines",
         "showlegend": false,
         "type": "scatter",
         "x": [
          "2023-08-18T00:00:00",
          "2023-08-19T00:00:00"
         ],
         "xaxis": "x",
         "y": [
          203.02,
          203.14
         ],
         "yaxis": "y"
        },
        {
         "hoverinfo": "none",
         "line": {
          "color": "green",
          "width": 3
         },
         "mode": "lines",
         "showlegend": false,
         "type": "scatter",
         "x": [
          "2023-08-19T00:00:00",
          "2023-08-20T00:00:00"
         ],
         "xaxis": "x",
         "y": [
          203.14,
          203.27
         ],
         "yaxis": "y"
        },
        {
         "hoverinfo": "none",
         "line": {
          "color": "green",
          "width": 3
         },
         "mode": "lines",
         "showlegend": false,
         "type": "scatter",
         "x": [
          "2023-08-20T00:00:00",
          "2023-08-21T00:00:00"
         ],
         "xaxis": "x",
         "y": [
          203.27,
          203.28
         ],
         "yaxis": "y"
        },
        {
         "hoverinfo": "none",
         "line": {
          "color": "green",
          "width": 3
         },
         "mode": "lines",
         "showlegend": false,
         "type": "scatter",
         "x": [
          "2023-08-21T00:00:00",
          "2023-08-22T00:00:00"
         ],
         "xaxis": "x",
         "y": [
          203.28,
          203.3
         ],
         "yaxis": "y"
        },
        {
         "hoverinfo": "none",
         "line": {
          "color": "green",
          "width": 3
         },
         "mode": "lines",
         "showlegend": false,
         "type": "scatter",
         "x": [
          "2023-08-22T00:00:00",
          "2023-08-23T00:00:00"
         ],
         "xaxis": "x",
         "y": [
          203.3,
          203.31
         ],
         "yaxis": "y"
        },
        {
         "hoverinfo": "none",
         "line": {
          "color": "green",
          "width": 3
         },
         "mode": "lines",
         "showlegend": false,
         "type": "scatter",
         "x": [
          "2023-08-23T00:00:00",
          "2023-08-24T00:00:00"
         ],
         "xaxis": "x",
         "y": [
          203.31,
          203.33
         ],
         "yaxis": "y"
        },
        {
         "hoverinfo": "none",
         "line": {
          "color": "green",
          "width": 3
         },
         "mode": "lines",
         "showlegend": false,
         "type": "scatter",
         "x": [
          "2023-08-24T00:00:00",
          "2023-08-25T00:00:00"
         ],
         "xaxis": "x",
         "y": [
          203.33,
          203.36
         ],
         "yaxis": "y"
        },
        {
         "hoverinfo": "none",
         "line": {
          "color": "green",
          "width": 3
         },
         "mode": "lines",
         "showlegend": false,
         "type": "scatter",
         "x": [
          "2023-08-25T00:00:00",
          "2023-08-26T00:00:00"
         ],
         "xaxis": "x",
         "y": [
          203.36,
          203.38
         ],
         "yaxis": "y"
        },
        {
         "hoverinfo": "none",
         "line": {
          "color": "green",
          "width": 3
         },
         "mode": "lines",
         "showlegend": false,
         "type": "scatter",
         "x": [
          "2023-08-26T00:00:00",
          "2023-08-27T00:00:00"
         ],
         "xaxis": "x",
         "y": [
          203.38,
          203.4
         ],
         "yaxis": "y"
        },
        {
         "hoverinfo": "none",
         "line": {
          "color": "red",
          "width": 3
         },
         "mode": "lines",
         "showlegend": false,
         "type": "scatter",
         "x": [
          "2023-08-27T00:00:00",
          "2023-08-28T00:00:00"
         ],
         "xaxis": "x",
         "y": [
          203.4,
          203.32
         ],
         "yaxis": "y"
        },
        {
         "hoverinfo": "none",
         "line": {
          "color": "green",
          "width": 3
         },
         "mode": "lines",
         "showlegend": false,
         "type": "scatter",
         "x": [
          "2023-08-28T00:00:00",
          "2023-08-29T00:00:00"
         ],
         "xaxis": "x",
         "y": [
          203.32,
          203.35
         ],
         "yaxis": "y"
        },
        {
         "hoverinfo": "none",
         "line": {
          "color": "green",
          "width": 3
         },
         "mode": "lines",
         "showlegend": false,
         "type": "scatter",
         "x": [
          "2023-08-29T00:00:00",
          "2023-08-30T00:00:00"
         ],
         "xaxis": "x",
         "y": [
          203.35,
          203.37
         ],
         "yaxis": "y"
        },
        {
         "hoverinfo": "none",
         "line": {
          "color": "green",
          "width": 3
         },
         "mode": "lines",
         "showlegend": false,
         "type": "scatter",
         "x": [
          "2023-08-30T00:00:00",
          "2023-08-31T00:00:00"
         ],
         "xaxis": "x",
         "y": [
          203.37,
          203.37
         ],
         "yaxis": "y"
        },
        {
         "hoverinfo": "none",
         "line": {
          "color": "green",
          "width": 3
         },
         "mode": "lines",
         "showlegend": false,
         "type": "scatter",
         "x": [
          "2023-08-31T00:00:00",
          "2023-09-01T00:00:00"
         ],
         "xaxis": "x",
         "y": [
          203.37,
          203.37
         ],
         "yaxis": "y"
        },
        {
         "hoverinfo": "none",
         "line": {
          "color": "red",
          "width": 3
         },
         "mode": "lines",
         "showlegend": false,
         "type": "scatter",
         "x": [
          "2023-09-01T00:00:00",
          "2023-09-02T00:00:00"
         ],
         "xaxis": "x",
         "y": [
          203.37,
          203.35
         ],
         "yaxis": "y"
        },
        {
         "hoverinfo": "none",
         "line": {
          "color": "red",
          "width": 3
         },
         "mode": "lines",
         "showlegend": false,
         "type": "scatter",
         "x": [
          "2023-09-02T00:00:00",
          "2023-09-03T00:00:00"
         ],
         "xaxis": "x",
         "y": [
          203.35,
          203.32
         ],
         "yaxis": "y"
        },
        {
         "hoverinfo": "none",
         "line": {
          "color": "red",
          "width": 3
         },
         "mode": "lines",
         "showlegend": false,
         "type": "scatter",
         "x": [
          "2023-09-03T00:00:00",
          "2023-09-04T00:00:00"
         ],
         "xaxis": "x",
         "y": [
          203.32,
          203.16
         ],
         "yaxis": "y"
        },
        {
         "hoverinfo": "none",
         "line": {
          "color": "red",
          "width": 3
         },
         "mode": "lines",
         "showlegend": false,
         "type": "scatter",
         "x": [
          "2023-09-04T00:00:00",
          "2023-09-05T00:00:00"
         ],
         "xaxis": "x",
         "y": [
          203.16,
          203.1
         ],
         "yaxis": "y"
        },
        {
         "hoverinfo": "none",
         "line": {
          "color": "red",
          "width": 3
         },
         "mode": "lines",
         "showlegend": false,
         "type": "scatter",
         "x": [
          "2023-09-05T00:00:00",
          "2023-09-06T00:00:00"
         ],
         "xaxis": "x",
         "y": [
          203.1,
          203.03
         ],
         "yaxis": "y"
        },
        {
         "hoverinfo": "none",
         "line": {
          "color": "red",
          "width": 3
         },
         "mode": "lines",
         "showlegend": false,
         "type": "scatter",
         "x": [
          "2023-09-06T00:00:00",
          "2023-09-07T00:00:00"
         ],
         "xaxis": "x",
         "y": [
          203.03,
          202.98
         ],
         "yaxis": "y"
        },
        {
         "hoverinfo": "none",
         "line": {
          "color": "red",
          "width": 3
         },
         "mode": "lines",
         "showlegend": false,
         "type": "scatter",
         "x": [
          "2023-09-07T00:00:00",
          "2023-09-08T00:00:00"
         ],
         "xaxis": "x",
         "y": [
          202.98,
          202.95
         ],
         "yaxis": "y"
        },
        {
         "hoverinfo": "none",
         "line": {
          "color": "red",
          "width": 3
         },
         "mode": "lines",
         "showlegend": false,
         "type": "scatter",
         "x": [
          "2023-09-08T00:00:00",
          "2023-09-09T00:00:00"
         ],
         "xaxis": "x",
         "y": [
          202.95,
          202.94
         ],
         "yaxis": "y"
        },
        {
         "hoverinfo": "none",
         "line": {
          "color": "green",
          "width": 3
         },
         "mode": "lines",
         "showlegend": false,
         "type": "scatter",
         "x": [
          "2023-09-09T00:00:00",
          "2023-09-10T00:00:00"
         ],
         "xaxis": "x",
         "y": [
          202.94,
          202.94
         ],
         "yaxis": "y"
        },
        {
         "hoverinfo": "none",
         "line": {
          "color": "green",
          "width": 3
         },
         "mode": "lines",
         "showlegend": false,
         "type": "scatter",
         "x": [
          "2023-09-10T00:00:00",
          "2023-09-11T00:00:00"
         ],
         "xaxis": "x",
         "y": [
          202.94,
          202.95
         ],
         "yaxis": "y"
        },
        {
         "hoverinfo": "none",
         "line": {
          "color": "green",
          "width": 3
         },
         "mode": "lines",
         "showlegend": false,
         "type": "scatter",
         "x": [
          "2023-09-11T00:00:00",
          "2023-09-12T00:00:00"
         ],
         "xaxis": "x",
         "y": [
          202.95,
          202.97
         ],
         "yaxis": "y"
        },
        {
         "hoverinfo": "none",
         "line": {
          "color": "green",
          "width": 3
         },
         "mode": "lines",
         "showlegend": false,
         "type": "scatter",
         "x": [
          "2023-09-12T00:00:00",
          "2023-09-13T00:00:00"
         ],
         "xaxis": "x",
         "y": [
          202.97,
          202.98
         ],
         "yaxis": "y"
        },
        {
         "hoverinfo": "none",
         "line": {
          "color": "green",
          "width": 3
         },
         "mode": "lines",
         "showlegend": false,
         "type": "scatter",
         "x": [
          "2023-09-13T00:00:00",
          "2023-09-14T00:00:00"
         ],
         "xaxis": "x",
         "y": [
          202.98,
          203
         ],
         "yaxis": "y"
        },
        {
         "hoverinfo": "none",
         "line": {
          "color": "green",
          "width": 3
         },
         "mode": "lines",
         "showlegend": false,
         "type": "scatter",
         "x": [
          "2023-09-14T00:00:00",
          "2023-09-15T00:00:00"
         ],
         "xaxis": "x",
         "y": [
          203,
          203.03
         ],
         "yaxis": "y"
        },
        {
         "hoverinfo": "none",
         "line": {
          "color": "green",
          "width": 3
         },
         "mode": "lines",
         "showlegend": false,
         "type": "scatter",
         "x": [
          "2023-09-15T00:00:00",
          "2023-09-16T00:00:00"
         ],
         "xaxis": "x",
         "y": [
          203.03,
          203.06
         ],
         "yaxis": "y"
        },
        {
         "hoverinfo": "none",
         "line": {
          "color": "green",
          "width": 3
         },
         "mode": "lines",
         "showlegend": false,
         "type": "scatter",
         "x": [
          "2023-09-16T00:00:00",
          "2023-09-17T00:00:00"
         ],
         "xaxis": "x",
         "y": [
          203.06,
          203.1
         ],
         "yaxis": "y"
        },
        {
         "hoverinfo": "none",
         "line": {
          "color": "green",
          "width": 3
         },
         "mode": "lines",
         "showlegend": false,
         "type": "scatter",
         "x": [
          "2023-09-17T00:00:00",
          "2023-09-18T00:00:00"
         ],
         "xaxis": "x",
         "y": [
          203.1,
          203.13
         ],
         "yaxis": "y"
        },
        {
         "hoverinfo": "none",
         "line": {
          "color": "green",
          "width": 3
         },
         "mode": "lines",
         "showlegend": false,
         "type": "scatter",
         "x": [
          "2023-09-18T00:00:00",
          "2023-09-19T00:00:00"
         ],
         "xaxis": "x",
         "y": [
          203.13,
          203.19
         ],
         "yaxis": "y"
        },
        {
         "hoverinfo": "none",
         "line": {
          "color": "green",
          "width": 3
         },
         "mode": "lines",
         "showlegend": false,
         "type": "scatter",
         "x": [
          "2023-09-19T00:00:00",
          "2023-09-20T00:00:00"
         ],
         "xaxis": "x",
         "y": [
          203.19,
          203.26
         ],
         "yaxis": "y"
        },
        {
         "hoverinfo": "none",
         "line": {
          "color": "green",
          "width": 3
         },
         "mode": "lines",
         "showlegend": false,
         "type": "scatter",
         "x": [
          "2023-09-20T00:00:00",
          "2023-09-21T00:00:00"
         ],
         "xaxis": "x",
         "y": [
          203.26,
          203.32
         ],
         "yaxis": "y"
        },
        {
         "hoverinfo": "none",
         "line": {
          "color": "green",
          "width": 3
         },
         "mode": "lines",
         "showlegend": false,
         "type": "scatter",
         "x": [
          "2023-09-21T00:00:00",
          "2023-09-22T00:00:00"
         ],
         "xaxis": "x",
         "y": [
          203.32,
          203.39
         ],
         "yaxis": "y"
        },
        {
         "hoverinfo": "none",
         "line": {
          "color": "green",
          "width": 3
         },
         "mode": "lines",
         "showlegend": false,
         "type": "scatter",
         "x": [
          "2023-09-22T00:00:00",
          "2023-09-23T00:00:00"
         ],
         "xaxis": "x",
         "y": [
          203.39,
          203.44
         ],
         "yaxis": "y"
        },
        {
         "hoverinfo": "none",
         "line": {
          "color": "green",
          "width": 3
         },
         "mode": "lines",
         "showlegend": false,
         "type": "scatter",
         "x": [
          "2023-09-23T00:00:00",
          "2023-09-24T00:00:00"
         ],
         "xaxis": "x",
         "y": [
          203.44,
          203.49
         ],
         "yaxis": "y"
        },
        {
         "hoverinfo": "none",
         "line": {
          "color": "green",
          "width": 3
         },
         "mode": "lines",
         "showlegend": false,
         "type": "scatter",
         "x": [
          "2023-09-24T00:00:00",
          "2023-09-25T00:00:00"
         ],
         "xaxis": "x",
         "y": [
          203.49,
          203.5
         ],
         "yaxis": "y"
        },
        {
         "hoverinfo": "none",
         "line": {
          "color": "green",
          "width": 3
         },
         "mode": "lines",
         "showlegend": false,
         "type": "scatter",
         "x": [
          "2023-09-25T00:00:00",
          "2023-09-26T00:00:00"
         ],
         "xaxis": "x",
         "y": [
          203.5,
          203.5
         ],
         "yaxis": "y"
        },
        {
         "hoverinfo": "none",
         "line": {
          "color": "red",
          "width": 3
         },
         "mode": "lines",
         "showlegend": false,
         "type": "scatter",
         "x": [
          "2023-09-26T00:00:00",
          "2023-09-27T00:00:00"
         ],
         "xaxis": "x",
         "y": [
          203.5,
          203.47
         ],
         "yaxis": "y"
        },
        {
         "hoverinfo": "none",
         "line": {
          "color": "red",
          "width": 3
         },
         "mode": "lines",
         "showlegend": false,
         "type": "scatter",
         "x": [
          "2023-09-27T00:00:00",
          "2023-09-28T00:00:00"
         ],
         "xaxis": "x",
         "y": [
          203.47,
          203.45
         ],
         "yaxis": "y"
        },
        {
         "hoverinfo": "none",
         "line": {
          "color": "red",
          "width": 3
         },
         "mode": "lines",
         "showlegend": false,
         "type": "scatter",
         "x": [
          "2023-09-28T00:00:00",
          "2023-09-29T00:00:00"
         ],
         "xaxis": "x",
         "y": [
          203.45,
          203.44
         ],
         "yaxis": "y"
        },
        {
         "hoverinfo": "none",
         "line": {
          "color": "red",
          "width": 3
         },
         "mode": "lines",
         "showlegend": false,
         "type": "scatter",
         "x": [
          "2023-09-29T00:00:00",
          "2023-09-30T00:00:00"
         ],
         "xaxis": "x",
         "y": [
          203.44,
          203.42
         ],
         "yaxis": "y"
        },
        {
         "hoverinfo": "none",
         "line": {
          "color": "red",
          "width": 3
         },
         "mode": "lines",
         "showlegend": false,
         "type": "scatter",
         "x": [
          "2023-09-30T00:00:00",
          "2023-10-01T00:00:00"
         ],
         "xaxis": "x",
         "y": [
          203.42,
          203.41
         ],
         "yaxis": "y"
        },
        {
         "hoverinfo": "none",
         "line": {
          "color": "green",
          "width": 3
         },
         "mode": "lines",
         "showlegend": false,
         "type": "scatter",
         "x": [
          "2023-10-01T00:00:00",
          "2023-10-02T00:00:00"
         ],
         "xaxis": "x",
         "y": [
          203.41,
          203.5
         ],
         "yaxis": "y"
        },
        {
         "hoverinfo": "none",
         "line": {
          "color": "green",
          "width": 3
         },
         "mode": "lines",
         "showlegend": false,
         "type": "scatter",
         "x": [
          "2023-10-02T00:00:00",
          "2023-10-03T00:00:00"
         ],
         "xaxis": "x",
         "y": [
          203.5,
          203.61
         ],
         "yaxis": "y"
        },
        {
         "hoverinfo": "none",
         "line": {
          "color": "green",
          "width": 3
         },
         "mode": "lines",
         "showlegend": false,
         "type": "scatter",
         "x": [
          "2023-10-03T00:00:00",
          "2023-10-04T00:00:00"
         ],
         "xaxis": "x",
         "y": [
          203.61,
          203.61
         ],
         "yaxis": "y"
        },
        {
         "hoverinfo": "none",
         "line": {
          "color": "green",
          "width": 3
         },
         "mode": "lines",
         "showlegend": false,
         "type": "scatter",
         "x": [
          "2023-10-04T00:00:00",
          "2023-10-05T00:00:00"
         ],
         "xaxis": "x",
         "y": [
          203.61,
          203.72
         ],
         "yaxis": "y"
        },
        {
         "hoverinfo": "none",
         "line": {
          "color": "green",
          "width": 3
         },
         "mode": "lines",
         "showlegend": false,
         "type": "scatter",
         "x": [
          "2023-10-05T00:00:00",
          "2023-10-06T00:00:00"
         ],
         "xaxis": "x",
         "y": [
          203.72,
          203.82
         ],
         "yaxis": "y"
        },
        {
         "hoverinfo": "none",
         "line": {
          "color": "green",
          "width": 3
         },
         "mode": "lines",
         "showlegend": false,
         "type": "scatter",
         "x": [
          "2023-10-06T00:00:00",
          "2023-10-07T00:00:00"
         ],
         "xaxis": "x",
         "y": [
          203.82,
          203.95
         ],
         "yaxis": "y"
        },
        {
         "hoverinfo": "none",
         "line": {
          "color": "green",
          "width": 3
         },
         "mode": "lines",
         "showlegend": false,
         "type": "scatter",
         "x": [
          "2023-10-07T00:00:00",
          "2023-10-08T00:00:00"
         ],
         "xaxis": "x",
         "y": [
          203.95,
          204.07
         ],
         "yaxis": "y"
        },
        {
         "hoverinfo": "none",
         "line": {
          "color": "green",
          "width": 3
         },
         "mode": "lines",
         "showlegend": false,
         "type": "scatter",
         "x": [
          "2023-10-08T00:00:00",
          "2023-10-09T00:00:00"
         ],
         "xaxis": "x",
         "y": [
          204.07,
          204.2
         ],
         "yaxis": "y"
        },
        {
         "hoverinfo": "none",
         "line": {
          "color": "green",
          "width": 3
         },
         "mode": "lines",
         "showlegend": false,
         "type": "scatter",
         "x": [
          "2023-10-09T00:00:00",
          "2023-10-10T00:00:00"
         ],
         "xaxis": "x",
         "y": [
          204.2,
          204.22
         ],
         "yaxis": "y"
        },
        {
         "hoverinfo": "none",
         "line": {
          "color": "green",
          "width": 3
         },
         "mode": "lines",
         "showlegend": false,
         "type": "scatter",
         "x": [
          "2023-10-10T00:00:00",
          "2023-10-11T00:00:00"
         ],
         "xaxis": "x",
         "y": [
          204.22,
          204.23
         ],
         "yaxis": "y"
        },
        {
         "hoverinfo": "none",
         "line": {
          "color": "green",
          "width": 3
         },
         "mode": "lines",
         "showlegend": false,
         "type": "scatter",
         "x": [
          "2023-10-11T00:00:00",
          "2023-10-12T00:00:00"
         ],
         "xaxis": "x",
         "y": [
          204.23,
          204.36
         ],
         "yaxis": "y"
        },
        {
         "hoverinfo": "none",
         "line": {
          "color": "green",
          "width": 3
         },
         "mode": "lines",
         "showlegend": false,
         "type": "scatter",
         "x": [
          "2023-10-12T00:00:00",
          "2023-10-13T00:00:00"
         ],
         "xaxis": "x",
         "y": [
          204.36,
          204.37
         ],
         "yaxis": "y"
        },
        {
         "hoverinfo": "none",
         "line": {
          "color": "green",
          "width": 3
         },
         "mode": "lines",
         "showlegend": false,
         "type": "scatter",
         "x": [
          "2023-10-13T00:00:00",
          "2023-10-14T00:00:00"
         ],
         "xaxis": "x",
         "y": [
          204.37,
          204.39
         ],
         "yaxis": "y"
        },
        {
         "hoverinfo": "none",
         "line": {
          "color": "green",
          "width": 3
         },
         "mode": "lines",
         "showlegend": false,
         "type": "scatter",
         "x": [
          "2023-10-14T00:00:00",
          "2023-10-15T00:00:00"
         ],
         "xaxis": "x",
         "y": [
          204.39,
          204.5
         ],
         "yaxis": "y"
        },
        {
         "hoverinfo": "none",
         "line": {
          "color": "green",
          "width": 3
         },
         "mode": "lines",
         "showlegend": false,
         "type": "scatter",
         "x": [
          "2023-10-15T00:00:00",
          "2023-10-16T00:00:00"
         ],
         "xaxis": "x",
         "y": [
          204.5,
          204.5
         ],
         "yaxis": "y"
        },
        {
         "hoverinfo": "none",
         "line": {
          "color": "green",
          "width": 3
         },
         "mode": "lines",
         "showlegend": false,
         "type": "scatter",
         "x": [
          "2023-10-16T00:00:00",
          "2023-10-17T00:00:00"
         ],
         "xaxis": "x",
         "y": [
          204.5,
          204.61
         ],
         "yaxis": "y"
        },
        {
         "hoverinfo": "none",
         "line": {
          "color": "green",
          "width": 3
         },
         "mode": "lines",
         "showlegend": false,
         "type": "scatter",
         "x": [
          "2023-10-17T00:00:00",
          "2023-10-18T00:00:00"
         ],
         "xaxis": "x",
         "y": [
          204.61,
          204.72
         ],
         "yaxis": "y"
        },
        {
         "hoverinfo": "none",
         "line": {
          "color": "green",
          "width": 3
         },
         "mode": "lines",
         "showlegend": false,
         "type": "scatter",
         "x": [
          "2023-10-18T00:00:00",
          "2023-10-19T00:00:00"
         ],
         "xaxis": "x",
         "y": [
          204.72,
          204.81
         ],
         "yaxis": "y"
        },
        {
         "hoverinfo": "none",
         "line": {
          "color": "green",
          "width": 3
         },
         "mode": "lines",
         "showlegend": false,
         "type": "scatter",
         "x": [
          "2023-10-19T00:00:00",
          "2023-10-20T00:00:00"
         ],
         "xaxis": "x",
         "y": [
          204.81,
          204.9
         ],
         "yaxis": "y"
        },
        {
         "hoverinfo": "none",
         "line": {
          "color": "green",
          "width": 3
         },
         "mode": "lines",
         "showlegend": false,
         "type": "scatter",
         "x": [
          "2023-10-20T00:00:00",
          "2023-10-21T00:00:00"
         ],
         "xaxis": "x",
         "y": [
          204.9,
          205.01
         ],
         "yaxis": "y"
        },
        {
         "hoverinfo": "none",
         "line": {
          "color": "green",
          "width": 3
         },
         "mode": "lines",
         "showlegend": false,
         "type": "scatter",
         "x": [
          "2023-10-21T00:00:00",
          "2023-10-22T00:00:00"
         ],
         "xaxis": "x",
         "y": [
          205.01,
          205.21
         ],
         "yaxis": "y"
        },
        {
         "hoverinfo": "none",
         "line": {
          "color": "green",
          "width": 3
         },
         "mode": "lines",
         "showlegend": false,
         "type": "scatter",
         "x": [
          "2023-10-22T00:00:00",
          "2023-10-23T00:00:00"
         ],
         "xaxis": "x",
         "y": [
          205.21,
          205.3
         ],
         "yaxis": "y"
        },
        {
         "hoverinfo": "none",
         "line": {
          "color": "green",
          "width": 3
         },
         "mode": "lines",
         "showlegend": false,
         "type": "scatter",
         "x": [
          "2023-10-23T00:00:00",
          "2023-10-24T00:00:00"
         ],
         "xaxis": "x",
         "y": [
          205.3,
          205.5
         ],
         "yaxis": "y"
        },
        {
         "hoverinfo": "none",
         "line": {
          "color": "green",
          "width": 3
         },
         "mode": "lines",
         "showlegend": false,
         "type": "scatter",
         "x": [
          "2023-10-24T00:00:00",
          "2023-10-25T00:00:00"
         ],
         "xaxis": "x",
         "y": [
          205.5,
          205.6
         ],
         "yaxis": "y"
        },
        {
         "hoverinfo": "none",
         "line": {
          "color": "green",
          "width": 3
         },
         "mode": "lines",
         "showlegend": false,
         "type": "scatter",
         "x": [
          "2023-10-25T00:00:00",
          "2023-10-26T00:00:00"
         ],
         "xaxis": "x",
         "y": [
          205.6,
          205.78
         ],
         "yaxis": "y"
        },
        {
         "hoverinfo": "none",
         "line": {
          "color": "green",
          "width": 3
         },
         "mode": "lines",
         "showlegend": false,
         "type": "scatter",
         "x": [
          "2023-10-26T00:00:00",
          "2023-10-27T00:00:00"
         ],
         "xaxis": "x",
         "y": [
          205.78,
          205.98
         ],
         "yaxis": "y"
        },
        {
         "hoverinfo": "none",
         "line": {
          "color": "green",
          "width": 3
         },
         "mode": "lines",
         "showlegend": false,
         "type": "scatter",
         "x": [
          "2023-10-27T00:00:00",
          "2023-10-28T00:00:00"
         ],
         "xaxis": "x",
         "y": [
          205.98,
          206.19
         ],
         "yaxis": "y"
        },
        {
         "hoverinfo": "none",
         "line": {
          "color": "green",
          "width": 3
         },
         "mode": "lines",
         "showlegend": false,
         "type": "scatter",
         "x": [
          "2023-10-28T00:00:00",
          "2023-10-29T00:00:00"
         ],
         "xaxis": "x",
         "y": [
          206.19,
          206.4
         ],
         "yaxis": "y"
        },
        {
         "hoverinfo": "none",
         "line": {
          "color": "green",
          "width": 3
         },
         "mode": "lines",
         "showlegend": false,
         "type": "scatter",
         "x": [
          "2023-10-29T00:00:00",
          "2023-10-30T00:00:00"
         ],
         "xaxis": "x",
         "y": [
          206.4,
          206.62
         ],
         "yaxis": "y"
        },
        {
         "hoverinfo": "none",
         "line": {
          "color": "green",
          "width": 3
         },
         "mode": "lines",
         "showlegend": false,
         "type": "scatter",
         "x": [
          "2023-10-30T00:00:00",
          "2023-10-31T00:00:00"
         ],
         "xaxis": "x",
         "y": [
          206.62,
          206.84
         ],
         "yaxis": "y"
        },
        {
         "hoverinfo": "none",
         "line": {
          "color": "green",
          "width": 3
         },
         "mode": "lines",
         "showlegend": false,
         "type": "scatter",
         "x": [
          "2023-10-31T00:00:00",
          "2023-11-01T00:00:00"
         ],
         "xaxis": "x",
         "y": [
          206.84,
          207.06
         ],
         "yaxis": "y"
        },
        {
         "hoverinfo": "none",
         "line": {
          "color": "green",
          "width": 3
         },
         "mode": "lines",
         "showlegend": false,
         "type": "scatter",
         "x": [
          "2023-11-01T00:00:00",
          "2023-11-02T00:00:00"
         ],
         "xaxis": "x",
         "y": [
          207.06,
          207.29
         ],
         "yaxis": "y"
        },
        {
         "hoverinfo": "none",
         "line": {
          "color": "green",
          "width": 3
         },
         "mode": "lines",
         "showlegend": false,
         "type": "scatter",
         "x": [
          "2023-11-02T00:00:00",
          "2023-11-03T00:00:00"
         ],
         "xaxis": "x",
         "y": [
          207.29,
          207.41
         ],
         "yaxis": "y"
        },
        {
         "hoverinfo": "none",
         "line": {
          "color": "red",
          "width": 3
         },
         "mode": "lines",
         "showlegend": false,
         "type": "scatter",
         "x": [
          "2023-11-03T00:00:00",
          "2023-11-04T00:00:00"
         ],
         "xaxis": "x",
         "y": [
          207.41,
          207.17
         ],
         "yaxis": "y"
        },
        {
         "hoverinfo": "none",
         "line": {
          "color": "green",
          "width": 3
         },
         "mode": "lines",
         "showlegend": false,
         "type": "scatter",
         "x": [
          "2023-11-04T00:00:00",
          "2023-11-05T00:00:00"
         ],
         "xaxis": "x",
         "y": [
          207.17,
          207.25
         ],
         "yaxis": "y"
        },
        {
         "hoverinfo": "none",
         "line": {
          "color": "red",
          "width": 3
         },
         "mode": "lines",
         "showlegend": false,
         "type": "scatter",
         "x": [
          "2023-11-05T00:00:00",
          "2023-11-06T00:00:00"
         ],
         "xaxis": "x",
         "y": [
          207.25,
          207.23
         ],
         "yaxis": "y"
        },
        {
         "hoverinfo": "none",
         "line": {
          "color": "green",
          "width": 3
         },
         "mode": "lines",
         "showlegend": false,
         "type": "scatter",
         "x": [
          "2023-11-06T00:00:00",
          "2023-11-07T00:00:00"
         ],
         "xaxis": "x",
         "y": [
          207.23,
          207.23
         ],
         "yaxis": "y"
        },
        {
         "hoverinfo": "none",
         "line": {
          "color": "green",
          "width": 3
         },
         "mode": "lines",
         "showlegend": false,
         "type": "scatter",
         "x": [
          "2023-11-07T00:00:00",
          "2023-11-08T00:00:00"
         ],
         "xaxis": "x",
         "y": [
          207.23,
          207.25
         ],
         "yaxis": "y"
        },
        {
         "hoverinfo": "none",
         "line": {
          "color": "green",
          "width": 3
         },
         "mode": "lines",
         "showlegend": false,
         "type": "scatter",
         "x": [
          "2023-11-08T00:00:00",
          "2023-11-09T00:00:00"
         ],
         "xaxis": "x",
         "y": [
          207.25,
          207.25
         ],
         "yaxis": "y"
        },
        {
         "hoverinfo": "none",
         "line": {
          "color": "red",
          "width": 3
         },
         "mode": "lines",
         "showlegend": false,
         "type": "scatter",
         "x": [
          "2023-11-09T00:00:00",
          "2023-11-10T00:00:00"
         ],
         "xaxis": "x",
         "y": [
          207.25,
          207.22
         ],
         "yaxis": "y"
        },
        {
         "hoverinfo": "none",
         "line": {
          "color": "green",
          "width": 3
         },
         "mode": "lines",
         "showlegend": false,
         "type": "scatter",
         "x": [
          "2023-11-10T00:00:00",
          "2023-11-11T00:00:00"
         ],
         "xaxis": "x",
         "y": [
          207.22,
          207.22
         ],
         "yaxis": "y"
        },
        {
         "hoverinfo": "none",
         "line": {
          "color": "green",
          "width": 3
         },
         "mode": "lines",
         "showlegend": false,
         "type": "scatter",
         "x": [
          "2023-11-11T00:00:00",
          "2023-11-12T00:00:00"
         ],
         "xaxis": "x",
         "y": [
          207.22,
          207.59
         ],
         "yaxis": "y"
        },
        {
         "hoverinfo": "none",
         "line": {
          "color": "red",
          "width": 3
         },
         "mode": "lines",
         "showlegend": false,
         "type": "scatter",
         "x": [
          "2023-11-12T00:00:00",
          "2023-11-13T00:00:00"
         ],
         "xaxis": "x",
         "y": [
          207.59,
          207.51
         ],
         "yaxis": "y"
        },
        {
         "hoverinfo": "none",
         "line": {
          "color": "green",
          "width": 3
         },
         "mode": "lines",
         "showlegend": false,
         "type": "scatter",
         "x": [
          "2023-11-13T00:00:00",
          "2023-11-14T00:00:00"
         ],
         "xaxis": "x",
         "y": [
          207.51,
          207.6
         ],
         "yaxis": "y"
        },
        {
         "hoverinfo": "none",
         "line": {
          "color": "red",
          "width": 3
         },
         "mode": "lines",
         "showlegend": false,
         "type": "scatter",
         "x": [
          "2023-11-14T00:00:00",
          "2023-11-15T00:00:00"
         ],
         "xaxis": "x",
         "y": [
          207.6,
          207.47
         ],
         "yaxis": "y"
        },
        {
         "hoverinfo": "none",
         "line": {
          "color": "red",
          "width": 3
         },
         "mode": "lines",
         "showlegend": false,
         "type": "scatter",
         "x": [
          "2023-11-15T00:00:00",
          "2023-11-16T00:00:00"
         ],
         "xaxis": "x",
         "y": [
          207.47,
          207.35
         ],
         "yaxis": "y"
        },
        {
         "hoverinfo": "none",
         "line": {
          "color": "red",
          "width": 3
         },
         "mode": "lines",
         "showlegend": false,
         "type": "scatter",
         "x": [
          "2023-11-16T00:00:00",
          "2023-11-17T00:00:00"
         ],
         "xaxis": "x",
         "y": [
          207.35,
          207.24
         ],
         "yaxis": "y"
        },
        {
         "hoverinfo": "none",
         "line": {
          "color": "red",
          "width": 3
         },
         "mode": "lines",
         "showlegend": false,
         "type": "scatter",
         "x": [
          "2023-11-17T00:00:00",
          "2023-11-18T00:00:00"
         ],
         "xaxis": "x",
         "y": [
          207.24,
          207.15
         ],
         "yaxis": "y"
        },
        {
         "hoverinfo": "none",
         "line": {
          "color": "red",
          "width": 3
         },
         "mode": "lines",
         "showlegend": false,
         "type": "scatter",
         "x": [
          "2023-11-18T00:00:00",
          "2023-11-19T00:00:00"
         ],
         "xaxis": "x",
         "y": [
          207.15,
          207.04
         ],
         "yaxis": "y"
        },
        {
         "hoverinfo": "none",
         "line": {
          "color": "red",
          "width": 3
         },
         "mode": "lines",
         "showlegend": false,
         "type": "scatter",
         "x": [
          "2023-11-19T00:00:00",
          "2023-11-20T00:00:00"
         ],
         "xaxis": "x",
         "y": [
          207.04,
          206.91
         ],
         "yaxis": "y"
        },
        {
         "hoverinfo": "none",
         "line": {
          "color": "green",
          "width": 3
         },
         "mode": "lines",
         "showlegend": false,
         "type": "scatter",
         "x": [
          "2023-11-20T00:00:00",
          "2023-11-21T00:00:00"
         ],
         "xaxis": "x",
         "y": [
          206.91,
          206.91
         ],
         "yaxis": "y"
        },
        {
         "hoverinfo": "none",
         "line": {
          "color": "red",
          "width": 3
         },
         "mode": "lines",
         "showlegend": false,
         "type": "scatter",
         "x": [
          "2023-11-21T00:00:00",
          "2023-11-22T00:00:00"
         ],
         "xaxis": "x",
         "y": [
          206.91,
          206.81
         ],
         "yaxis": "y"
        },
        {
         "hoverinfo": "none",
         "line": {
          "color": "green",
          "width": 3
         },
         "mode": "lines",
         "showlegend": false,
         "type": "scatter",
         "x": [
          "2023-11-22T00:00:00",
          "2023-11-23T00:00:00"
         ],
         "xaxis": "x",
         "y": [
          206.81,
          206.82
         ],
         "yaxis": "y"
        },
        {
         "hoverinfo": "none",
         "line": {
          "color": "red",
          "width": 3
         },
         "mode": "lines",
         "showlegend": false,
         "type": "scatter",
         "x": [
          "2023-11-23T00:00:00",
          "2023-11-24T00:00:00"
         ],
         "xaxis": "x",
         "y": [
          206.82,
          206.71
         ],
         "yaxis": "y"
        },
        {
         "hoverinfo": "none",
         "line": {
          "color": "red",
          "width": 3
         },
         "mode": "lines",
         "showlegend": false,
         "type": "scatter",
         "x": [
          "2023-11-24T00:00:00",
          "2023-11-25T00:00:00"
         ],
         "xaxis": "x",
         "y": [
          206.71,
          206.48
         ],
         "yaxis": "y"
        },
        {
         "hoverinfo": "none",
         "line": {
          "color": "red",
          "width": 3
         },
         "mode": "lines",
         "showlegend": false,
         "type": "scatter",
         "x": [
          "2023-11-25T00:00:00",
          "2023-11-26T00:00:00"
         ],
         "xaxis": "x",
         "y": [
          206.48,
          206.25
         ],
         "yaxis": "y"
        },
        {
         "hoverinfo": "none",
         "line": {
          "color": "red",
          "width": 3
         },
         "mode": "lines",
         "showlegend": false,
         "type": "scatter",
         "x": [
          "2023-11-26T00:00:00",
          "2023-11-27T00:00:00"
         ],
         "xaxis": "x",
         "y": [
          206.25,
          206.01
         ],
         "yaxis": "y"
        },
        {
         "hoverinfo": "none",
         "line": {
          "color": "red",
          "width": 3
         },
         "mode": "lines",
         "showlegend": false,
         "type": "scatter",
         "x": [
          "2023-11-27T00:00:00",
          "2023-11-28T00:00:00"
         ],
         "xaxis": "x",
         "y": [
          206.01,
          205.79
         ],
         "yaxis": "y"
        },
        {
         "hoverinfo": "none",
         "line": {
          "color": "red",
          "width": 3
         },
         "mode": "lines",
         "showlegend": false,
         "type": "scatter",
         "x": [
          "2023-11-28T00:00:00",
          "2023-11-29T00:00:00"
         ],
         "xaxis": "x",
         "y": [
          205.79,
          205.58
         ],
         "yaxis": "y"
        },
        {
         "hoverinfo": "none",
         "line": {
          "color": "red",
          "width": 3
         },
         "mode": "lines",
         "showlegend": false,
         "type": "scatter",
         "x": [
          "2023-11-29T00:00:00",
          "2023-11-30T00:00:00"
         ],
         "xaxis": "x",
         "y": [
          205.58,
          205.25
         ],
         "yaxis": "y"
        },
        {
         "hoverinfo": "none",
         "line": {
          "color": "red",
          "width": 3
         },
         "mode": "lines",
         "showlegend": false,
         "type": "scatter",
         "x": [
          "2023-11-30T00:00:00",
          "2023-12-01T00:00:00"
         ],
         "xaxis": "x",
         "y": [
          205.25,
          205
         ],
         "yaxis": "y"
        },
        {
         "hoverinfo": "none",
         "line": {
          "color": "red",
          "width": 3
         },
         "mode": "lines",
         "showlegend": false,
         "type": "scatter",
         "x": [
          "2023-12-01T00:00:00",
          "2023-12-02T00:00:00"
         ],
         "xaxis": "x",
         "y": [
          205,
          204.75
         ],
         "yaxis": "y"
        },
        {
         "hoverinfo": "none",
         "line": {
          "color": "red",
          "width": 3
         },
         "mode": "lines",
         "showlegend": false,
         "type": "scatter",
         "x": [
          "2023-12-02T00:00:00",
          "2023-12-03T00:00:00"
         ],
         "xaxis": "x",
         "y": [
          204.75,
          204.62
         ],
         "yaxis": "y"
        },
        {
         "hoverinfo": "none",
         "line": {
          "color": "red",
          "width": 3
         },
         "mode": "lines",
         "showlegend": false,
         "type": "scatter",
         "x": [
          "2023-12-03T00:00:00",
          "2023-12-04T00:00:00"
         ],
         "xaxis": "x",
         "y": [
          204.62,
          204.5
         ],
         "yaxis": "y"
        },
        {
         "hoverinfo": "none",
         "line": {
          "color": "red",
          "width": 3
         },
         "mode": "lines",
         "showlegend": false,
         "type": "scatter",
         "x": [
          "2023-12-04T00:00:00",
          "2023-12-05T00:00:00"
         ],
         "xaxis": "x",
         "y": [
          204.5,
          204.37
         ],
         "yaxis": "y"
        },
        {
         "hoverinfo": "none",
         "line": {
          "color": "red",
          "width": 3
         },
         "mode": "lines",
         "showlegend": false,
         "type": "scatter",
         "x": [
          "2023-12-05T00:00:00",
          "2023-12-06T00:00:00"
         ],
         "xaxis": "x",
         "y": [
          204.37,
          204.12
         ],
         "yaxis": "y"
        },
        {
         "hoverinfo": "none",
         "line": {
          "color": "red",
          "width": 3
         },
         "mode": "lines",
         "showlegend": false,
         "type": "scatter",
         "x": [
          "2023-12-06T00:00:00",
          "2023-12-07T00:00:00"
         ],
         "xaxis": "x",
         "y": [
          204.12,
          203.98
         ],
         "yaxis": "y"
        },
        {
         "hoverinfo": "none",
         "line": {
          "color": "red",
          "width": 3
         },
         "mode": "lines",
         "showlegend": false,
         "type": "scatter",
         "x": [
          "2023-12-07T00:00:00",
          "2023-12-08T00:00:00"
         ],
         "xaxis": "x",
         "y": [
          203.98,
          203.84
         ],
         "yaxis": "y"
        },
        {
         "hoverinfo": "none",
         "line": {
          "color": "red",
          "width": 3
         },
         "mode": "lines",
         "showlegend": false,
         "type": "scatter",
         "x": [
          "2023-12-08T00:00:00",
          "2023-12-09T00:00:00"
         ],
         "xaxis": "x",
         "y": [
          203.84,
          203.61
         ],
         "yaxis": "y"
        },
        {
         "hoverinfo": "none",
         "line": {
          "color": "red",
          "width": 3
         },
         "mode": "lines",
         "showlegend": false,
         "type": "scatter",
         "x": [
          "2023-12-09T00:00:00",
          "2023-12-10T00:00:00"
         ],
         "xaxis": "x",
         "y": [
          203.61,
          203.59
         ],
         "yaxis": "y"
        },
        {
         "hoverinfo": "none",
         "line": {
          "color": "red",
          "width": 3
         },
         "mode": "lines",
         "showlegend": false,
         "type": "scatter",
         "x": [
          "2023-12-10T00:00:00",
          "2023-12-11T00:00:00"
         ],
         "xaxis": "x",
         "y": [
          203.59,
          203.58
         ],
         "yaxis": "y"
        },
        {
         "hoverinfo": "none",
         "line": {
          "color": "red",
          "width": 3
         },
         "mode": "lines",
         "showlegend": false,
         "type": "scatter",
         "x": [
          "2023-12-11T00:00:00",
          "2023-12-12T00:00:00"
         ],
         "xaxis": "x",
         "y": [
          203.58,
          203.56
         ],
         "yaxis": "y"
        },
        {
         "hoverinfo": "none",
         "line": {
          "color": "red",
          "width": 3
         },
         "mode": "lines",
         "showlegend": false,
         "type": "scatter",
         "x": [
          "2023-12-12T00:00:00",
          "2023-12-13T00:00:00"
         ],
         "xaxis": "x",
         "y": [
          203.56,
          203.54
         ],
         "yaxis": "y"
        },
        {
         "hoverinfo": "none",
         "line": {
          "color": "green",
          "width": 3
         },
         "mode": "lines",
         "showlegend": false,
         "type": "scatter",
         "x": [
          "2023-12-13T00:00:00",
          "2023-12-14T00:00:00"
         ],
         "xaxis": "x",
         "y": [
          203.54,
          203.54
         ],
         "yaxis": "y"
        },
        {
         "hoverinfo": "none",
         "line": {
          "color": "red",
          "width": 3
         },
         "mode": "lines",
         "showlegend": false,
         "type": "scatter",
         "x": [
          "2023-12-14T00:00:00",
          "2023-12-15T00:00:00"
         ],
         "xaxis": "x",
         "y": [
          203.54,
          203.44
         ],
         "yaxis": "y"
        },
        {
         "hoverinfo": "none",
         "line": {
          "color": "red",
          "width": 3
         },
         "mode": "lines",
         "showlegend": false,
         "type": "scatter",
         "x": [
          "2023-12-15T00:00:00",
          "2023-12-16T00:00:00"
         ],
         "xaxis": "x",
         "y": [
          203.44,
          203.36
         ],
         "yaxis": "y"
        },
        {
         "hoverinfo": "none",
         "line": {
          "color": "red",
          "width": 3
         },
         "mode": "lines",
         "showlegend": false,
         "type": "scatter",
         "x": [
          "2023-12-16T00:00:00",
          "2023-12-17T00:00:00"
         ],
         "xaxis": "x",
         "y": [
          203.36,
          203.35
         ],
         "yaxis": "y"
        },
        {
         "hoverinfo": "none",
         "line": {
          "color": "red",
          "width": 3
         },
         "mode": "lines",
         "showlegend": false,
         "type": "scatter",
         "x": [
          "2023-12-17T00:00:00",
          "2023-12-18T00:00:00"
         ],
         "xaxis": "x",
         "y": [
          203.35,
          203.22
         ],
         "yaxis": "y"
        },
        {
         "hoverinfo": "none",
         "line": {
          "color": "red",
          "width": 3
         },
         "mode": "lines",
         "showlegend": false,
         "type": "scatter",
         "x": [
          "2023-12-18T00:00:00",
          "2023-12-19T00:00:00"
         ],
         "xaxis": "x",
         "y": [
          203.22,
          203.08
         ],
         "yaxis": "y"
        },
        {
         "hoverinfo": "none",
         "line": {
          "color": "red",
          "width": 3
         },
         "mode": "lines",
         "showlegend": false,
         "type": "scatter",
         "x": [
          "2023-12-19T00:00:00",
          "2023-12-20T00:00:00"
         ],
         "xaxis": "x",
         "y": [
          203.08,
          202.83
         ],
         "yaxis": "y"
        },
        {
         "hoverinfo": "none",
         "line": {
          "color": "red",
          "width": 3
         },
         "mode": "lines",
         "showlegend": false,
         "type": "scatter",
         "x": [
          "2023-12-20T00:00:00",
          "2023-12-21T00:00:00"
         ],
         "xaxis": "x",
         "y": [
          202.83,
          202.67
         ],
         "yaxis": "y"
        },
        {
         "hoverinfo": "none",
         "line": {
          "color": "red",
          "width": 3
         },
         "mode": "lines",
         "showlegend": false,
         "type": "scatter",
         "x": [
          "2023-12-21T00:00:00",
          "2023-12-22T00:00:00"
         ],
         "xaxis": "x",
         "y": [
          202.67,
          202.63
         ],
         "yaxis": "y"
        },
        {
         "hoverinfo": "none",
         "line": {
          "color": "red",
          "width": 3
         },
         "mode": "lines",
         "showlegend": false,
         "type": "scatter",
         "x": [
          "2023-12-22T00:00:00",
          "2023-12-23T00:00:00"
         ],
         "xaxis": "x",
         "y": [
          202.63,
          202.47
         ],
         "yaxis": "y"
        },
        {
         "hoverinfo": "none",
         "line": {
          "color": "green",
          "width": 3
         },
         "mode": "lines",
         "showlegend": false,
         "type": "scatter",
         "x": [
          "2023-12-23T00:00:00",
          "2023-12-24T00:00:00"
         ],
         "xaxis": "x",
         "y": [
          202.47,
          202.49
         ],
         "yaxis": "y"
        },
        {
         "hoverinfo": "none",
         "line": {
          "color": "red",
          "width": 3
         },
         "mode": "lines",
         "showlegend": false,
         "type": "scatter",
         "x": [
          "2023-12-24T00:00:00",
          "2023-12-25T00:00:00"
         ],
         "xaxis": "x",
         "y": [
          202.49,
          202.35
         ],
         "yaxis": "y"
        },
        {
         "hoverinfo": "none",
         "line": {
          "color": "red",
          "width": 3
         },
         "mode": "lines",
         "showlegend": false,
         "type": "scatter",
         "x": [
          "2023-12-25T00:00:00",
          "2023-12-26T00:00:00"
         ],
         "xaxis": "x",
         "y": [
          202.35,
          202.19
         ],
         "yaxis": "y"
        },
        {
         "hoverinfo": "none",
         "line": {
          "color": "red",
          "width": 3
         },
         "mode": "lines",
         "showlegend": false,
         "type": "scatter",
         "x": [
          "2023-12-26T00:00:00",
          "2023-12-27T00:00:00"
         ],
         "xaxis": "x",
         "y": [
          202.19,
          202.05
         ],
         "yaxis": "y"
        },
        {
         "hoverinfo": "none",
         "line": {
          "color": "red",
          "width": 3
         },
         "mode": "lines",
         "showlegend": false,
         "type": "scatter",
         "x": [
          "2023-12-27T00:00:00",
          "2023-12-28T00:00:00"
         ],
         "xaxis": "x",
         "y": [
          202.05,
          202.02
         ],
         "yaxis": "y"
        },
        {
         "hoverinfo": "none",
         "line": {
          "color": "red",
          "width": 3
         },
         "mode": "lines",
         "showlegend": false,
         "type": "scatter",
         "x": [
          "2023-12-28T00:00:00",
          "2023-12-29T00:00:00"
         ],
         "xaxis": "x",
         "y": [
          202.02,
          201.89
         ],
         "yaxis": "y"
        },
        {
         "hoverinfo": "none",
         "line": {
          "color": "red",
          "width": 3
         },
         "mode": "lines",
         "showlegend": false,
         "type": "scatter",
         "x": [
          "2023-12-29T00:00:00",
          "2023-12-30T00:00:00"
         ],
         "xaxis": "x",
         "y": [
          201.89,
          201.77
         ],
         "yaxis": "y"
        },
        {
         "hoverinfo": "none",
         "line": {
          "color": "green",
          "width": 3
         },
         "mode": "lines",
         "showlegend": false,
         "type": "scatter",
         "x": [
          "2023-12-30T00:00:00",
          "2023-12-31T00:00:00"
         ],
         "xaxis": "x",
         "y": [
          201.77,
          201.77
         ],
         "yaxis": "y"
        },
        {
         "hoverinfo": "none",
         "line": {
          "color": "red",
          "width": 3
         },
         "mode": "lines",
         "showlegend": false,
         "type": "scatter",
         "x": [
          "2023-12-31T00:00:00",
          "2024-01-01T00:00:00"
         ],
         "xaxis": "x",
         "y": [
          201.77,
          201.64
         ],
         "yaxis": "y"
        },
        {
         "hoverinfo": "none",
         "line": {
          "color": "red",
          "width": 3
         },
         "mode": "lines",
         "showlegend": false,
         "type": "scatter",
         "x": [
          "2024-01-01T00:00:00",
          "2024-01-02T00:00:00"
         ],
         "xaxis": "x",
         "y": [
          201.64,
          201.61
         ],
         "yaxis": "y"
        },
        {
         "hoverinfo": "none",
         "line": {
          "color": "green",
          "width": 3
         },
         "mode": "lines",
         "showlegend": false,
         "type": "scatter",
         "x": [
          "2024-01-02T00:00:00",
          "2024-01-03T00:00:00"
         ],
         "xaxis": "x",
         "y": [
          201.61,
          201.61
         ],
         "yaxis": "y"
        },
        {
         "hoverinfo": "none",
         "line": {
          "color": "green",
          "width": 3
         },
         "mode": "lines",
         "showlegend": false,
         "type": "scatter",
         "x": [
          "2024-01-03T00:00:00",
          "2024-01-04T00:00:00"
         ],
         "xaxis": "x",
         "y": [
          201.61,
          201.61
         ],
         "yaxis": "y"
        },
        {
         "hoverinfo": "none",
         "line": {
          "color": "green",
          "width": 3
         },
         "mode": "lines",
         "showlegend": false,
         "type": "scatter",
         "x": [
          "2024-01-04T00:00:00",
          "2024-01-05T00:00:00"
         ],
         "xaxis": "x",
         "y": [
          201.61,
          201.63
         ],
         "yaxis": "y"
        },
        {
         "hoverinfo": "none",
         "line": {
          "color": "red",
          "width": 3
         },
         "mode": "lines",
         "showlegend": false,
         "type": "scatter",
         "x": [
          "2024-01-05T00:00:00",
          "2024-01-06T00:00:00"
         ],
         "xaxis": "x",
         "y": [
          201.63,
          201.57
         ],
         "yaxis": "y"
        },
        {
         "hoverinfo": "none",
         "line": {
          "color": "green",
          "width": 3
         },
         "mode": "lines",
         "showlegend": false,
         "type": "scatter",
         "x": [
          "2024-01-06T00:00:00",
          "2024-01-07T00:00:00"
         ],
         "xaxis": "x",
         "y": [
          201.57,
          201.62
         ],
         "yaxis": "y"
        },
        {
         "hoverinfo": "none",
         "line": {
          "color": "green",
          "width": 3
         },
         "mode": "lines",
         "showlegend": false,
         "type": "scatter",
         "x": [
          "2024-01-07T00:00:00",
          "2024-01-08T00:00:00"
         ],
         "xaxis": "x",
         "y": [
          201.62,
          201.77
         ],
         "yaxis": "y"
        },
        {
         "hoverinfo": "none",
         "line": {
          "color": "green",
          "width": 3
         },
         "mode": "lines",
         "showlegend": false,
         "type": "scatter",
         "x": [
          "2024-01-08T00:00:00",
          "2024-01-09T00:00:00"
         ],
         "xaxis": "x",
         "y": [
          201.77,
          201.84
         ],
         "yaxis": "y"
        },
        {
         "hoverinfo": "none",
         "line": {
          "color": "green",
          "width": 3
         },
         "mode": "lines",
         "showlegend": false,
         "type": "scatter",
         "x": [
          "2024-01-09T00:00:00",
          "2024-01-10T00:00:00"
         ],
         "xaxis": "x",
         "y": [
          201.84,
          201.94
         ],
         "yaxis": "y"
        },
        {
         "hoverinfo": "none",
         "line": {
          "color": "green",
          "width": 3
         },
         "mode": "lines",
         "showlegend": false,
         "type": "scatter",
         "x": [
          "2024-01-10T00:00:00",
          "2024-01-11T00:00:00"
         ],
         "xaxis": "x",
         "y": [
          201.94,
          202.14
         ],
         "yaxis": "y"
        },
        {
         "hoverinfo": "none",
         "line": {
          "color": "green",
          "width": 3
         },
         "mode": "lines",
         "showlegend": false,
         "type": "scatter",
         "x": [
          "2024-01-11T00:00:00",
          "2024-01-12T00:00:00"
         ],
         "xaxis": "x",
         "y": [
          202.14,
          202.24
         ],
         "yaxis": "y"
        },
        {
         "hoverinfo": "none",
         "line": {
          "color": "green",
          "width": 3
         },
         "mode": "lines",
         "showlegend": false,
         "type": "scatter",
         "x": [
          "2024-01-12T00:00:00",
          "2024-01-13T00:00:00"
         ],
         "xaxis": "x",
         "y": [
          202.24,
          202.3
         ],
         "yaxis": "y"
        },
        {
         "hoverinfo": "none",
         "line": {
          "color": "green",
          "width": 3
         },
         "mode": "lines",
         "showlegend": false,
         "type": "scatter",
         "x": [
          "2024-01-13T00:00:00",
          "2024-01-14T00:00:00"
         ],
         "xaxis": "x",
         "y": [
          202.3,
          202.48
         ],
         "yaxis": "y"
        },
        {
         "hoverinfo": "none",
         "line": {
          "color": "green",
          "width": 3
         },
         "mode": "lines",
         "showlegend": false,
         "type": "scatter",
         "x": [
          "2024-01-14T00:00:00",
          "2024-01-15T00:00:00"
         ],
         "xaxis": "x",
         "y": [
          202.48,
          202.56
         ],
         "yaxis": "y"
        },
        {
         "hoverinfo": "none",
         "line": {
          "color": "red",
          "width": 3
         },
         "mode": "lines",
         "showlegend": false,
         "type": "scatter",
         "x": [
          "2024-01-15T00:00:00",
          "2024-01-16T00:00:00"
         ],
         "xaxis": "x",
         "y": [
          202.56,
          202.53
         ],
         "yaxis": "y"
        },
        {
         "hoverinfo": "none",
         "line": {
          "color": "green",
          "width": 3
         },
         "mode": "lines",
         "showlegend": false,
         "type": "scatter",
         "x": [
          "2024-01-16T00:00:00",
          "2024-01-17T00:00:00"
         ],
         "xaxis": "x",
         "y": [
          202.53,
          202.61
         ],
         "yaxis": "y"
        },
        {
         "hoverinfo": "none",
         "line": {
          "color": "red",
          "width": 3
         },
         "mode": "lines",
         "showlegend": false,
         "type": "scatter",
         "x": [
          "2024-01-17T00:00:00",
          "2024-01-18T00:00:00"
         ],
         "xaxis": "x",
         "y": [
          202.61,
          202.57
         ],
         "yaxis": "y"
        },
        {
         "hoverinfo": "none",
         "line": {
          "color": "red",
          "width": 3
         },
         "mode": "lines",
         "showlegend": false,
         "type": "scatter",
         "x": [
          "2024-01-18T00:00:00",
          "2024-01-19T00:00:00"
         ],
         "xaxis": "x",
         "y": [
          202.57,
          202.51
         ],
         "yaxis": "y"
        },
        {
         "hoverinfo": "none",
         "line": {
          "color": "red",
          "width": 3
         },
         "mode": "lines",
         "showlegend": false,
         "type": "scatter",
         "x": [
          "2024-01-19T00:00:00",
          "2024-01-20T00:00:00"
         ],
         "xaxis": "x",
         "y": [
          202.51,
          202.46
         ],
         "yaxis": "y"
        },
        {
         "hoverinfo": "none",
         "line": {
          "color": "green",
          "width": 3
         },
         "mode": "lines",
         "showlegend": false,
         "type": "scatter",
         "x": [
          "2024-01-20T00:00:00",
          "2024-01-21T00:00:00"
         ],
         "xaxis": "x",
         "y": [
          202.46,
          202.65
         ],
         "yaxis": "y"
        },
        {
         "hoverinfo": "none",
         "line": {
          "color": "red",
          "width": 3
         },
         "mode": "lines",
         "showlegend": false,
         "type": "scatter",
         "x": [
          "2024-01-21T00:00:00",
          "2024-01-22T00:00:00"
         ],
         "xaxis": "x",
         "y": [
          202.65,
          202.61
         ],
         "yaxis": "y"
        },
        {
         "hoverinfo": "none",
         "line": {
          "color": "green",
          "width": 3
         },
         "mode": "lines",
         "showlegend": false,
         "type": "scatter",
         "x": [
          "2024-01-22T00:00:00",
          "2024-01-23T00:00:00"
         ],
         "xaxis": "x",
         "y": [
          202.61,
          202.69
         ],
         "yaxis": "y"
        },
        {
         "hoverinfo": "none",
         "line": {
          "color": "green",
          "width": 3
         },
         "mode": "lines",
         "showlegend": false,
         "type": "scatter",
         "x": [
          "2024-01-23T00:00:00",
          "2024-01-24T00:00:00"
         ],
         "xaxis": "x",
         "y": [
          202.69,
          202.76
         ],
         "yaxis": "y"
        },
        {
         "hoverinfo": "none",
         "line": {
          "color": "green",
          "width": 3
         },
         "mode": "lines",
         "showlegend": false,
         "type": "scatter",
         "x": [
          "2024-01-24T00:00:00",
          "2024-01-25T00:00:00"
         ],
         "xaxis": "x",
         "y": [
          202.76,
          202.95
         ],
         "yaxis": "y"
        },
        {
         "hoverinfo": "none",
         "line": {
          "color": "green",
          "width": 3
         },
         "mode": "lines",
         "showlegend": false,
         "type": "scatter",
         "x": [
          "2024-01-25T00:00:00",
          "2024-01-26T00:00:00"
         ],
         "xaxis": "x",
         "y": [
          202.95,
          203.14
         ],
         "yaxis": "y"
        },
        {
         "hoverinfo": "none",
         "line": {
          "color": "red",
          "width": 3
         },
         "mode": "lines",
         "showlegend": false,
         "type": "scatter",
         "x": [
          "2024-01-26T00:00:00",
          "2024-01-27T00:00:00"
         ],
         "xaxis": "x",
         "y": [
          203.14,
          203.09
         ],
         "yaxis": "y"
        },
        {
         "hoverinfo": "none",
         "line": {
          "color": "green",
          "width": 3
         },
         "mode": "lines",
         "showlegend": false,
         "type": "scatter",
         "x": [
          "2024-01-27T00:00:00",
          "2024-01-28T00:00:00"
         ],
         "xaxis": "x",
         "y": [
          203.09,
          203.16
         ],
         "yaxis": "y"
        },
        {
         "hoverinfo": "none",
         "line": {
          "color": "red",
          "width": 3
         },
         "mode": "lines",
         "showlegend": false,
         "type": "scatter",
         "x": [
          "2024-01-28T00:00:00",
          "2024-01-29T00:00:00"
         ],
         "xaxis": "x",
         "y": [
          203.16,
          203.02
         ],
         "yaxis": "y"
        },
        {
         "hoverinfo": "none",
         "line": {
          "color": "green",
          "width": 3
         },
         "mode": "lines",
         "showlegend": false,
         "type": "scatter",
         "x": [
          "2024-01-29T00:00:00",
          "2024-01-30T00:00:00"
         ],
         "xaxis": "x",
         "y": [
          203.02,
          203.07
         ],
         "yaxis": "y"
        },
        {
         "hoverinfo": "none",
         "line": {
          "color": "green",
          "width": 3
         },
         "mode": "lines",
         "showlegend": false,
         "type": "scatter",
         "x": [
          "2024-01-30T00:00:00",
          "2024-01-31T00:00:00"
         ],
         "xaxis": "x",
         "y": [
          203.07,
          203.09
         ],
         "yaxis": "y"
        },
        {
         "hoverinfo": "none",
         "line": {
          "color": "red",
          "width": 3
         },
         "mode": "lines",
         "showlegend": false,
         "type": "scatter",
         "x": [
          "2024-01-31T00:00:00",
          "2024-02-01T00:00:00"
         ],
         "xaxis": "x",
         "y": [
          203.09,
          202.99
         ],
         "yaxis": "y"
        },
        {
         "hoverinfo": "none",
         "line": {
          "color": "red",
          "width": 3
         },
         "mode": "lines",
         "showlegend": false,
         "type": "scatter",
         "x": [
          "2024-02-01T00:00:00",
          "2024-02-02T00:00:00"
         ],
         "xaxis": "x",
         "y": [
          202.99,
          202.89
         ],
         "yaxis": "y"
        },
        {
         "hoverinfo": "none",
         "line": {
          "color": "red",
          "width": 3
         },
         "mode": "lines",
         "showlegend": false,
         "type": "scatter",
         "x": [
          "2024-02-02T00:00:00",
          "2024-02-03T00:00:00"
         ],
         "xaxis": "x",
         "y": [
          202.89,
          202.78
         ],
         "yaxis": "y"
        },
        {
         "hoverinfo": "none",
         "line": {
          "color": "green",
          "width": 3
         },
         "mode": "lines",
         "showlegend": false,
         "type": "scatter",
         "x": [
          "2024-02-03T00:00:00",
          "2024-02-04T00:00:00"
         ],
         "xaxis": "x",
         "y": [
          202.78,
          202.9
         ],
         "yaxis": "y"
        },
        {
         "hoverinfo": "none",
         "line": {
          "color": "green",
          "width": 3
         },
         "mode": "lines",
         "showlegend": false,
         "type": "scatter",
         "x": [
          "2024-02-04T00:00:00",
          "2024-02-05T00:00:00"
         ],
         "xaxis": "x",
         "y": [
          202.9,
          202.9
         ],
         "yaxis": "y"
        },
        {
         "hoverinfo": "none",
         "line": {
          "color": "green",
          "width": 3
         },
         "mode": "lines",
         "showlegend": false,
         "type": "scatter",
         "x": [
          "2024-02-05T00:00:00",
          "2024-02-06T00:00:00"
         ],
         "xaxis": "x",
         "y": [
          202.9,
          202.99
         ],
         "yaxis": "y"
        },
        {
         "hoverinfo": "none",
         "line": {
          "color": "red",
          "width": 3
         },
         "mode": "lines",
         "showlegend": false,
         "type": "scatter",
         "x": [
          "2024-02-06T00:00:00",
          "2024-02-07T00:00:00"
         ],
         "xaxis": "x",
         "y": [
          202.99,
          202.96
         ],
         "yaxis": "y"
        },
        {
         "hoverinfo": "none",
         "line": {
          "color": "red",
          "width": 3
         },
         "mode": "lines",
         "showlegend": false,
         "type": "scatter",
         "x": [
          "2024-02-07T00:00:00",
          "2024-02-08T00:00:00"
         ],
         "xaxis": "x",
         "y": [
          202.96,
          202.93
         ],
         "yaxis": "y"
        },
        {
         "hoverinfo": "none",
         "line": {
          "color": "red",
          "width": 3
         },
         "mode": "lines",
         "showlegend": false,
         "type": "scatter",
         "x": [
          "2024-02-08T00:00:00",
          "2024-02-09T00:00:00"
         ],
         "xaxis": "x",
         "y": [
          202.93,
          202.88
         ],
         "yaxis": "y"
        },
        {
         "hoverinfo": "none",
         "line": {
          "color": "red",
          "width": 3
         },
         "mode": "lines",
         "showlegend": false,
         "type": "scatter",
         "x": [
          "2024-02-09T00:00:00",
          "2024-02-10T00:00:00"
         ],
         "xaxis": "x",
         "y": [
          202.88,
          202.83
         ],
         "yaxis": "y"
        },
        {
         "hoverinfo": "none",
         "line": {
          "color": "red",
          "width": 3
         },
         "mode": "lines",
         "showlegend": false,
         "type": "scatter",
         "x": [
          "2024-02-10T00:00:00",
          "2024-02-11T00:00:00"
         ],
         "xaxis": "x",
         "y": [
          202.83,
          202.8
         ],
         "yaxis": "y"
        },
        {
         "hoverinfo": "none",
         "line": {
          "color": "red",
          "width": 3
         },
         "mode": "lines",
         "showlegend": false,
         "type": "scatter",
         "x": [
          "2024-02-11T00:00:00",
          "2024-02-12T00:00:00"
         ],
         "xaxis": "x",
         "y": [
          202.8,
          202.77
         ],
         "yaxis": "y"
        },
        {
         "hoverinfo": "none",
         "line": {
          "color": "green",
          "width": 3
         },
         "mode": "lines",
         "showlegend": false,
         "type": "scatter",
         "x": [
          "2024-02-12T00:00:00",
          "2024-02-13T00:00:00"
         ],
         "xaxis": "x",
         "y": [
          202.77,
          202.84
         ],
         "yaxis": "y"
        },
        {
         "hoverinfo": "none",
         "line": {
          "color": "red",
          "width": 3
         },
         "mode": "lines",
         "showlegend": false,
         "type": "scatter",
         "x": [
          "2024-02-13T00:00:00",
          "2024-02-14T00:00:00"
         ],
         "xaxis": "x",
         "y": [
          202.84,
          202.81
         ],
         "yaxis": "y"
        },
        {
         "hoverinfo": "none",
         "line": {
          "color": "red",
          "width": 3
         },
         "mode": "lines",
         "showlegend": false,
         "type": "scatter",
         "x": [
          "2024-02-14T00:00:00",
          "2024-02-15T00:00:00"
         ],
         "xaxis": "x",
         "y": [
          202.81,
          202.79
         ],
         "yaxis": "y"
        },
        {
         "hoverinfo": "none",
         "line": {
          "color": "green",
          "width": 3
         },
         "mode": "lines",
         "showlegend": false,
         "type": "scatter",
         "x": [
          "2024-02-15T00:00:00",
          "2024-02-16T00:00:00"
         ],
         "xaxis": "x",
         "y": [
          202.79,
          202.79
         ],
         "yaxis": "y"
        },
        {
         "hoverinfo": "none",
         "line": {
          "color": "green",
          "width": 3
         },
         "mode": "lines",
         "showlegend": false,
         "type": "scatter",
         "x": [
          "2024-02-16T00:00:00",
          "2024-02-17T00:00:00"
         ],
         "xaxis": "x",
         "y": [
          202.79,
          202.92
         ],
         "yaxis": "y"
        },
        {
         "hoverinfo": "none",
         "line": {
          "color": "green",
          "width": 3
         },
         "mode": "lines",
         "showlegend": false,
         "type": "scatter",
         "x": [
          "2024-02-17T00:00:00",
          "2024-02-18T00:00:00"
         ],
         "xaxis": "x",
         "y": [
          202.92,
          202.94
         ],
         "yaxis": "y"
        },
        {
         "hoverinfo": "none",
         "line": {
          "color": "green",
          "width": 3
         },
         "mode": "lines",
         "showlegend": false,
         "type": "scatter",
         "x": [
          "2024-02-18T00:00:00",
          "2024-02-19T00:00:00"
         ],
         "xaxis": "x",
         "y": [
          202.94,
          203.06
         ],
         "yaxis": "y"
        },
        {
         "hoverinfo": "none",
         "line": {
          "color": "green",
          "width": 3
         },
         "mode": "lines",
         "showlegend": false,
         "type": "scatter",
         "x": [
          "2024-02-19T00:00:00",
          "2024-02-20T00:00:00"
         ],
         "xaxis": "x",
         "y": [
          203.06,
          203.06
         ],
         "yaxis": "y"
        },
        {
         "hoverinfo": "none",
         "line": {
          "color": "green",
          "width": 3
         },
         "mode": "lines",
         "showlegend": false,
         "type": "scatter",
         "x": [
          "2024-02-20T00:00:00",
          "2024-02-21T00:00:00"
         ],
         "xaxis": "x",
         "y": [
          203.06,
          203.06
         ],
         "yaxis": "y"
        },
        {
         "hoverinfo": "none",
         "line": {
          "color": "green",
          "width": 3
         },
         "mode": "lines",
         "showlegend": false,
         "type": "scatter",
         "x": [
          "2024-02-21T00:00:00",
          "2024-02-22T00:00:00"
         ],
         "xaxis": "x",
         "y": [
          203.06,
          203.17
         ],
         "yaxis": "y"
        },
        {
         "hoverinfo": "none",
         "line": {
          "color": "green",
          "width": 3
         },
         "mode": "lines",
         "showlegend": false,
         "type": "scatter",
         "x": [
          "2024-02-22T00:00:00",
          "2024-02-23T00:00:00"
         ],
         "xaxis": "x",
         "y": [
          203.17,
          203.28
         ],
         "yaxis": "y"
        },
        {
         "hoverinfo": "none",
         "line": {
          "color": "red",
          "width": 3
         },
         "mode": "lines",
         "showlegend": false,
         "type": "scatter",
         "x": [
          "2024-02-23T00:00:00",
          "2024-02-24T00:00:00"
         ],
         "xaxis": "x",
         "y": [
          203.28,
          203.26
         ],
         "yaxis": "y"
        },
        {
         "hoverinfo": "none",
         "line": {
          "color": "green",
          "width": 3
         },
         "mode": "lines",
         "showlegend": false,
         "type": "scatter",
         "x": [
          "2024-02-24T00:00:00",
          "2024-02-25T00:00:00"
         ],
         "xaxis": "x",
         "y": [
          203.26,
          203.26
         ],
         "yaxis": "y"
        },
        {
         "hoverinfo": "none",
         "line": {
          "color": "green",
          "width": 3
         },
         "mode": "lines",
         "showlegend": false,
         "type": "scatter",
         "x": [
          "2024-02-25T00:00:00",
          "2024-02-26T00:00:00"
         ],
         "xaxis": "x",
         "y": [
          203.26,
          203.37
         ],
         "yaxis": "y"
        },
        {
         "hoverinfo": "none",
         "line": {
          "color": "green",
          "width": 3
         },
         "mode": "lines",
         "showlegend": false,
         "type": "scatter",
         "x": [
          "2024-02-26T00:00:00",
          "2024-02-27T00:00:00"
         ],
         "xaxis": "x",
         "y": [
          203.37,
          203.46
         ],
         "yaxis": "y"
        },
        {
         "hoverinfo": "none",
         "line": {
          "color": "green",
          "width": 3
         },
         "mode": "lines",
         "showlegend": false,
         "type": "scatter",
         "x": [
          "2024-02-27T00:00:00",
          "2024-02-28T00:00:00"
         ],
         "xaxis": "x",
         "y": [
          203.46,
          203.68
         ],
         "yaxis": "y"
        },
        {
         "hoverinfo": "none",
         "line": {
          "color": "green",
          "width": 3
         },
         "mode": "lines",
         "showlegend": false,
         "type": "scatter",
         "x": [
          "2024-02-28T00:00:00",
          "2024-02-29T00:00:00"
         ],
         "xaxis": "x",
         "y": [
          203.68,
          203.9
         ],
         "yaxis": "y"
        },
        {
         "hoverinfo": "none",
         "line": {
          "color": "green",
          "width": 3
         },
         "mode": "lines",
         "showlegend": false,
         "type": "scatter",
         "x": [
          "2024-02-29T00:00:00",
          "2024-03-01T00:00:00"
         ],
         "xaxis": "x",
         "y": [
          203.9,
          204.01
         ],
         "yaxis": "y"
        },
        {
         "hoverinfo": "none",
         "line": {
          "color": "green",
          "width": 3
         },
         "mode": "lines",
         "showlegend": false,
         "type": "scatter",
         "x": [
          "2024-03-01T00:00:00",
          "2024-03-02T00:00:00"
         ],
         "xaxis": "x",
         "y": [
          204.01,
          204.24
         ],
         "yaxis": "y"
        },
        {
         "hoverinfo": "none",
         "line": {
          "color": "green",
          "width": 3
         },
         "mode": "lines",
         "showlegend": false,
         "type": "scatter",
         "x": [
          "2024-03-02T00:00:00",
          "2024-03-03T00:00:00"
         ],
         "xaxis": "x",
         "y": [
          204.24,
          204.6
         ],
         "yaxis": "y"
        },
        {
         "hoverinfo": "none",
         "line": {
          "color": "green",
          "width": 3
         },
         "mode": "lines",
         "showlegend": false,
         "type": "scatter",
         "x": [
          "2024-03-03T00:00:00",
          "2024-03-04T00:00:00"
         ],
         "xaxis": "x",
         "y": [
          204.6,
          204.94
         ],
         "yaxis": "y"
        },
        {
         "hoverinfo": "none",
         "line": {
          "color": "green",
          "width": 3
         },
         "mode": "lines",
         "showlegend": false,
         "type": "scatter",
         "x": [
          "2024-03-04T00:00:00",
          "2024-03-05T00:00:00"
         ],
         "xaxis": "x",
         "y": [
          204.94,
          205.18
         ],
         "yaxis": "y"
        },
        {
         "hoverinfo": "none",
         "line": {
          "color": "green",
          "width": 3
         },
         "mode": "lines",
         "showlegend": false,
         "type": "scatter",
         "x": [
          "2024-03-05T00:00:00",
          "2024-03-06T00:00:00"
         ],
         "xaxis": "x",
         "y": [
          205.18,
          205.41
         ],
         "yaxis": "y"
        },
        {
         "hoverinfo": "none",
         "line": {
          "color": "green",
          "width": 3
         },
         "mode": "lines",
         "showlegend": false,
         "type": "scatter",
         "x": [
          "2024-03-06T00:00:00",
          "2024-03-07T00:00:00"
         ],
         "xaxis": "x",
         "y": [
          205.41,
          205.64
         ],
         "yaxis": "y"
        },
        {
         "hoverinfo": "none",
         "line": {
          "color": "green",
          "width": 3
         },
         "mode": "lines",
         "showlegend": false,
         "type": "scatter",
         "x": [
          "2024-03-07T00:00:00",
          "2024-03-08T00:00:00"
         ],
         "xaxis": "x",
         "y": [
          205.64,
          205.78
         ],
         "yaxis": "y"
        },
        {
         "hoverinfo": "none",
         "line": {
          "color": "green",
          "width": 3
         },
         "mode": "lines",
         "showlegend": false,
         "type": "scatter",
         "x": [
          "2024-03-08T00:00:00",
          "2024-03-09T00:00:00"
         ],
         "xaxis": "x",
         "y": [
          205.78,
          206.05
         ],
         "yaxis": "y"
        },
        {
         "hoverinfo": "none",
         "line": {
          "color": "green",
          "width": 3
         },
         "mode": "lines",
         "showlegend": false,
         "type": "scatter",
         "x": [
          "2024-03-09T00:00:00",
          "2024-03-10T00:00:00"
         ],
         "xaxis": "x",
         "y": [
          206.05,
          206.43
         ],
         "yaxis": "y"
        },
        {
         "hoverinfo": "none",
         "line": {
          "color": "green",
          "width": 3
         },
         "mode": "lines",
         "showlegend": false,
         "type": "scatter",
         "x": [
          "2024-03-10T00:00:00",
          "2024-03-11T00:00:00"
         ],
         "xaxis": "x",
         "y": [
          206.43,
          206.68
         ],
         "yaxis": "y"
        },
        {
         "hoverinfo": "none",
         "line": {
          "color": "green",
          "width": 3
         },
         "mode": "lines",
         "showlegend": false,
         "type": "scatter",
         "x": [
          "2024-03-11T00:00:00",
          "2024-03-12T00:00:00"
         ],
         "xaxis": "x",
         "y": [
          206.68,
          206.93
         ],
         "yaxis": "y"
        },
        {
         "hoverinfo": "none",
         "line": {
          "color": "green",
          "width": 3
         },
         "mode": "lines",
         "showlegend": false,
         "type": "scatter",
         "x": [
          "2024-03-12T00:00:00",
          "2024-03-13T00:00:00"
         ],
         "xaxis": "x",
         "y": [
          206.93,
          207.18
         ],
         "yaxis": "y"
        },
        {
         "hoverinfo": "none",
         "line": {
          "color": "green",
          "width": 3
         },
         "mode": "lines",
         "showlegend": false,
         "type": "scatter",
         "x": [
          "2024-03-13T00:00:00",
          "2024-03-14T00:00:00"
         ],
         "xaxis": "x",
         "y": [
          207.18,
          207.53
         ],
         "yaxis": "y"
        },
        {
         "hoverinfo": "none",
         "line": {
          "color": "green",
          "width": 3
         },
         "mode": "lines",
         "showlegend": false,
         "type": "scatter",
         "x": [
          "2024-03-14T00:00:00",
          "2024-03-15T00:00:00"
         ],
         "xaxis": "x",
         "y": [
          207.53,
          207.68
         ],
         "yaxis": "y"
        },
        {
         "hoverinfo": "none",
         "line": {
          "color": "green",
          "width": 3
         },
         "mode": "lines",
         "showlegend": false,
         "type": "scatter",
         "x": [
          "2024-03-15T00:00:00",
          "2024-03-16T00:00:00"
         ],
         "xaxis": "x",
         "y": [
          207.68,
          208.02
         ],
         "yaxis": "y"
        },
        {
         "hoverinfo": "none",
         "line": {
          "color": "green",
          "width": 3
         },
         "mode": "lines",
         "showlegend": false,
         "type": "scatter",
         "x": [
          "2024-03-16T00:00:00",
          "2024-03-17T00:00:00"
         ],
         "xaxis": "x",
         "y": [
          208.02,
          208.25
         ],
         "yaxis": "y"
        },
        {
         "hoverinfo": "none",
         "line": {
          "color": "green",
          "width": 3
         },
         "mode": "lines",
         "showlegend": false,
         "type": "scatter",
         "x": [
          "2024-03-17T00:00:00",
          "2024-03-18T00:00:00"
         ],
         "xaxis": "x",
         "y": [
          208.25,
          208.49
         ],
         "yaxis": "y"
        },
        {
         "hoverinfo": "none",
         "line": {
          "color": "green",
          "width": 3
         },
         "mode": "lines",
         "showlegend": false,
         "type": "scatter",
         "x": [
          "2024-03-18T00:00:00",
          "2024-03-19T00:00:00"
         ],
         "xaxis": "x",
         "y": [
          208.49,
          208.72
         ],
         "yaxis": "y"
        },
        {
         "hoverinfo": "none",
         "line": {
          "color": "green",
          "width": 3
         },
         "mode": "lines",
         "showlegend": false,
         "type": "scatter",
         "x": [
          "2024-03-19T00:00:00",
          "2024-03-20T00:00:00"
         ],
         "xaxis": "x",
         "y": [
          208.72,
          208.95
         ],
         "yaxis": "y"
        },
        {
         "hoverinfo": "none",
         "line": {
          "color": "green",
          "width": 3
         },
         "mode": "lines",
         "showlegend": false,
         "type": "scatter",
         "x": [
          "2024-03-20T00:00:00",
          "2024-03-21T00:00:00"
         ],
         "xaxis": "x",
         "y": [
          208.95,
          209.17
         ],
         "yaxis": "y"
        },
        {
         "hoverinfo": "none",
         "line": {
          "color": "green",
          "width": 3
         },
         "mode": "lines",
         "showlegend": false,
         "type": "scatter",
         "x": [
          "2024-03-21T00:00:00",
          "2024-03-22T00:00:00"
         ],
         "xaxis": "x",
         "y": [
          209.17,
          209.3
         ],
         "yaxis": "y"
        },
        {
         "hoverinfo": "none",
         "line": {
          "color": "green",
          "width": 3
         },
         "mode": "lines",
         "showlegend": false,
         "type": "scatter",
         "x": [
          "2024-03-22T00:00:00",
          "2024-03-23T00:00:00"
         ],
         "xaxis": "x",
         "y": [
          209.3,
          209.42
         ],
         "yaxis": "y"
        },
        {
         "hoverinfo": "none",
         "line": {
          "color": "green",
          "width": 3
         },
         "mode": "lines",
         "showlegend": false,
         "type": "scatter",
         "x": [
          "2024-03-23T00:00:00",
          "2024-03-24T00:00:00"
         ],
         "xaxis": "x",
         "y": [
          209.42,
          209.44
         ],
         "yaxis": "y"
        },
        {
         "hoverinfo": "none",
         "line": {
          "color": "green",
          "width": 3
         },
         "mode": "lines",
         "showlegend": false,
         "type": "scatter",
         "x": [
          "2024-03-24T00:00:00",
          "2024-03-25T00:00:00"
         ],
         "xaxis": "x",
         "y": [
          209.44,
          209.53
         ],
         "yaxis": "y"
        },
        {
         "hoverinfo": "none",
         "line": {
          "color": "green",
          "width": 3
         },
         "mode": "lines",
         "showlegend": false,
         "type": "scatter",
         "x": [
          "2024-03-25T00:00:00",
          "2024-03-26T00:00:00"
         ],
         "xaxis": "x",
         "y": [
          209.53,
          209.53
         ],
         "yaxis": "y"
        },
        {
         "hoverinfo": "none",
         "line": {
          "color": "green",
          "width": 3
         },
         "mode": "lines",
         "showlegend": false,
         "type": "scatter",
         "x": [
          "2024-03-26T00:00:00",
          "2024-03-27T00:00:00"
         ],
         "xaxis": "x",
         "y": [
          209.53,
          209.53
         ],
         "yaxis": "y"
        },
        {
         "hoverinfo": "none",
         "line": {
          "color": "red",
          "width": 3
         },
         "mode": "lines",
         "showlegend": false,
         "type": "scatter",
         "x": [
          "2024-03-27T00:00:00",
          "2024-03-28T00:00:00"
         ],
         "xaxis": "x",
         "y": [
          209.53,
          209.51
         ],
         "yaxis": "y"
        },
        {
         "hoverinfo": "none",
         "line": {
          "color": "green",
          "width": 3
         },
         "mode": "lines",
         "showlegend": false,
         "type": "scatter",
         "x": [
          "2024-03-28T00:00:00",
          "2024-03-29T00:00:00"
         ],
         "xaxis": "x",
         "y": [
          209.51,
          209.53
         ],
         "yaxis": "y"
        },
        {
         "hoverinfo": "none",
         "line": {
          "color": "green",
          "width": 3
         },
         "mode": "lines",
         "showlegend": false,
         "type": "scatter",
         "x": [
          "2024-03-29T00:00:00",
          "2024-03-30T00:00:00"
         ],
         "xaxis": "x",
         "y": [
          209.53,
          209.53
         ],
         "yaxis": "y"
        },
        {
         "hoverinfo": "none",
         "line": {
          "color": "green",
          "width": 3
         },
         "mode": "lines",
         "showlegend": false,
         "type": "scatter",
         "x": [
          "2024-03-30T00:00:00",
          "2024-03-31T00:00:00"
         ],
         "xaxis": "x",
         "y": [
          209.53,
          209.64
         ],
         "yaxis": "y"
        },
        {
         "hoverinfo": "none",
         "line": {
          "color": "green",
          "width": 3
         },
         "mode": "lines",
         "showlegend": false,
         "type": "scatter",
         "x": [
          "2024-03-31T00:00:00",
          "2024-04-01T00:00:00"
         ],
         "xaxis": "x",
         "y": [
          209.64,
          209.84
         ],
         "yaxis": "y"
        },
        {
         "hoverinfo": "none",
         "line": {
          "color": "green",
          "width": 3
         },
         "mode": "lines",
         "showlegend": false,
         "type": "scatter",
         "x": [
          "2024-04-01T00:00:00",
          "2024-04-02T00:00:00"
         ],
         "xaxis": "x",
         "y": [
          209.84,
          209.93
         ],
         "yaxis": "y"
        },
        {
         "hoverinfo": "none",
         "line": {
          "color": "green",
          "width": 3
         },
         "mode": "lines",
         "showlegend": false,
         "type": "scatter",
         "x": [
          "2024-04-02T00:00:00",
          "2024-04-03T00:00:00"
         ],
         "xaxis": "x",
         "y": [
          209.93,
          210.02
         ],
         "yaxis": "y"
        },
        {
         "hoverinfo": "none",
         "line": {
          "color": "green",
          "width": 3
         },
         "mode": "lines",
         "showlegend": false,
         "type": "scatter",
         "x": [
          "2024-04-03T00:00:00",
          "2024-04-04T00:00:00"
         ],
         "xaxis": "x",
         "y": [
          210.02,
          210.23
         ],
         "yaxis": "y"
        },
        {
         "hoverinfo": "none",
         "line": {
          "color": "green",
          "width": 3
         },
         "mode": "lines",
         "showlegend": false,
         "type": "scatter",
         "x": [
          "2024-04-04T00:00:00",
          "2024-04-05T00:00:00"
         ],
         "xaxis": "x",
         "y": [
          210.23,
          210.44
         ],
         "yaxis": "y"
        },
        {
         "hoverinfo": "none",
         "line": {
          "color": "green",
          "width": 3
         },
         "mode": "lines",
         "showlegend": false,
         "type": "scatter",
         "x": [
          "2024-04-05T00:00:00",
          "2024-04-06T00:00:00"
         ],
         "xaxis": "x",
         "y": [
          210.44,
          210.57
         ],
         "yaxis": "y"
        },
        {
         "hoverinfo": "none",
         "line": {
          "color": "green",
          "width": 3
         },
         "mode": "lines",
         "showlegend": false,
         "type": "scatter",
         "x": [
          "2024-04-06T00:00:00",
          "2024-04-07T00:00:00"
         ],
         "xaxis": "x",
         "y": [
          210.57,
          210.8
         ],
         "yaxis": "y"
        },
        {
         "hoverinfo": "none",
         "line": {
          "color": "green",
          "width": 3
         },
         "mode": "lines",
         "showlegend": false,
         "type": "scatter",
         "x": [
          "2024-04-07T00:00:00",
          "2024-04-08T00:00:00"
         ],
         "xaxis": "x",
         "y": [
          210.8,
          211.02
         ],
         "yaxis": "y"
        },
        {
         "hoverinfo": "none",
         "line": {
          "color": "green",
          "width": 3
         },
         "mode": "lines",
         "showlegend": false,
         "type": "scatter",
         "x": [
          "2024-04-08T00:00:00",
          "2024-04-09T00:00:00"
         ],
         "xaxis": "x",
         "y": [
          211.02,
          211.14
         ],
         "yaxis": "y"
        },
        {
         "hoverinfo": "none",
         "line": {
          "color": "green",
          "width": 3
         },
         "mode": "lines",
         "showlegend": false,
         "type": "scatter",
         "x": [
          "2024-04-09T00:00:00",
          "2024-04-10T00:00:00"
         ],
         "xaxis": "x",
         "y": [
          211.14,
          211.29
         ],
         "yaxis": "y"
        },
        {
         "hoverinfo": "none",
         "line": {
          "color": "green",
          "width": 3
         },
         "mode": "lines",
         "showlegend": false,
         "type": "scatter",
         "x": [
          "2024-04-10T00:00:00",
          "2024-04-11T00:00:00"
         ],
         "xaxis": "x",
         "y": [
          211.29,
          211.52
         ],
         "yaxis": "y"
        },
        {
         "hoverinfo": "none",
         "line": {
          "color": "green",
          "width": 3
         },
         "mode": "lines",
         "showlegend": false,
         "type": "scatter",
         "x": [
          "2024-04-11T00:00:00",
          "2024-04-12T00:00:00"
         ],
         "xaxis": "x",
         "y": [
          211.52,
          211.54
         ],
         "yaxis": "y"
        },
        {
         "hoverinfo": "none",
         "line": {
          "color": "green",
          "width": 3
         },
         "mode": "lines",
         "showlegend": false,
         "type": "scatter",
         "x": [
          "2024-04-12T00:00:00",
          "2024-04-13T00:00:00"
         ],
         "xaxis": "x",
         "y": [
          211.54,
          211.68
         ],
         "yaxis": "y"
        },
        {
         "hoverinfo": "none",
         "line": {
          "color": "green",
          "width": 3
         },
         "mode": "lines",
         "showlegend": false,
         "type": "scatter",
         "x": [
          "2024-04-13T00:00:00",
          "2024-04-14T00:00:00"
         ],
         "xaxis": "x",
         "y": [
          211.68,
          211.89
         ],
         "yaxis": "y"
        },
        {
         "hoverinfo": "none",
         "line": {
          "color": "green",
          "width": 3
         },
         "mode": "lines",
         "showlegend": false,
         "type": "scatter",
         "x": [
          "2024-04-14T00:00:00",
          "2024-04-15T00:00:00"
         ],
         "xaxis": "x",
         "y": [
          211.89,
          212.02
         ],
         "yaxis": "y"
        },
        {
         "hoverinfo": "none",
         "line": {
          "color": "green",
          "width": 3
         },
         "mode": "lines",
         "showlegend": false,
         "type": "scatter",
         "x": [
          "2024-04-15T00:00:00",
          "2024-04-16T00:00:00"
         ],
         "xaxis": "x",
         "y": [
          212.02,
          212.27
         ],
         "yaxis": "y"
        },
        {
         "hoverinfo": "none",
         "line": {
          "color": "green",
          "width": 3
         },
         "mode": "lines",
         "showlegend": false,
         "type": "scatter",
         "x": [
          "2024-04-16T00:00:00",
          "2024-04-17T00:00:00"
         ],
         "xaxis": "x",
         "y": [
          212.27,
          212.52
         ],
         "yaxis": "y"
        },
        {
         "hoverinfo": "none",
         "line": {
          "color": "green",
          "width": 3
         },
         "mode": "lines",
         "showlegend": false,
         "type": "scatter",
         "x": [
          "2024-04-17T00:00:00",
          "2024-04-18T00:00:00"
         ],
         "xaxis": "x",
         "y": [
          212.52,
          212.75
         ],
         "yaxis": "y"
        },
        {
         "hoverinfo": "none",
         "line": {
          "color": "green",
          "width": 3
         },
         "mode": "lines",
         "showlegend": false,
         "type": "scatter",
         "x": [
          "2024-04-18T00:00:00",
          "2024-04-19T00:00:00"
         ],
         "xaxis": "x",
         "y": [
          212.75,
          212.88
         ],
         "yaxis": "y"
        },
        {
         "hoverinfo": "none",
         "line": {
          "color": "green",
          "width": 3
         },
         "mode": "lines",
         "showlegend": false,
         "type": "scatter",
         "x": [
          "2024-04-19T00:00:00",
          "2024-04-20T00:00:00"
         ],
         "xaxis": "x",
         "y": [
          212.88,
          213.11
         ],
         "yaxis": "y"
        },
        {
         "hoverinfo": "none",
         "line": {
          "color": "green",
          "width": 3
         },
         "mode": "lines",
         "showlegend": false,
         "type": "scatter",
         "x": [
          "2024-04-20T00:00:00",
          "2024-04-21T00:00:00"
         ],
         "xaxis": "x",
         "y": [
          213.11,
          213.24
         ],
         "yaxis": "y"
        },
        {
         "hoverinfo": "none",
         "line": {
          "color": "green",
          "width": 3
         },
         "mode": "lines",
         "showlegend": false,
         "type": "scatter",
         "x": [
          "2024-04-21T00:00:00",
          "2024-04-22T00:00:00"
         ],
         "xaxis": "x",
         "y": [
          213.24,
          213.35
         ],
         "yaxis": "y"
        },
        {
         "hoverinfo": "none",
         "line": {
          "color": "green",
          "width": 3
         },
         "mode": "lines",
         "showlegend": false,
         "type": "scatter",
         "x": [
          "2024-04-22T00:00:00",
          "2024-04-23T00:00:00"
         ],
         "xaxis": "x",
         "y": [
          213.35,
          213.44
         ],
         "yaxis": "y"
        },
        {
         "hoverinfo": "none",
         "line": {
          "color": "red",
          "width": 3
         },
         "mode": "lines",
         "showlegend": false,
         "type": "scatter",
         "x": [
          "2024-04-23T00:00:00",
          "2024-04-24T00:00:00"
         ],
         "xaxis": "x",
         "y": [
          213.44,
          213.42
         ],
         "yaxis": "y"
        },
        {
         "hoverinfo": "none",
         "line": {
          "color": "red",
          "width": 3
         },
         "mode": "lines",
         "showlegend": false,
         "type": "scatter",
         "x": [
          "2024-04-24T00:00:00",
          "2024-04-25T00:00:00"
         ],
         "xaxis": "x",
         "y": [
          213.42,
          213.41
         ],
         "yaxis": "y"
        },
        {
         "hoverinfo": "none",
         "line": {
          "color": "green",
          "width": 3
         },
         "mode": "lines",
         "showlegend": false,
         "type": "scatter",
         "x": [
          "2024-04-25T00:00:00",
          "2024-04-26T00:00:00"
         ],
         "xaxis": "x",
         "y": [
          213.41,
          213.41
         ],
         "yaxis": "y"
        },
        {
         "hoverinfo": "none",
         "line": {
          "color": "green",
          "width": 3
         },
         "mode": "lines",
         "showlegend": false,
         "type": "scatter",
         "x": [
          "2024-04-26T00:00:00",
          "2024-04-27T00:00:00"
         ],
         "xaxis": "x",
         "y": [
          213.41,
          213.41
         ],
         "yaxis": "y"
        },
        {
         "hoverinfo": "none",
         "line": {
          "color": "green",
          "width": 3
         },
         "mode": "lines",
         "showlegend": false,
         "type": "scatter",
         "x": [
          "2024-04-27T00:00:00",
          "2024-04-28T00:00:00"
         ],
         "xaxis": "x",
         "y": [
          213.41,
          213.42
         ],
         "yaxis": "y"
        },
        {
         "hoverinfo": "none",
         "line": {
          "color": "green",
          "width": 3
         },
         "mode": "lines",
         "showlegend": false,
         "type": "scatter",
         "x": [
          "2024-04-28T00:00:00",
          "2024-04-29T00:00:00"
         ],
         "xaxis": "x",
         "y": [
          213.42,
          213.53
         ],
         "yaxis": "y"
        },
        {
         "hoverinfo": "none",
         "line": {
          "color": "green",
          "width": 3
         },
         "mode": "lines",
         "showlegend": false,
         "type": "scatter",
         "x": [
          "2024-04-29T00:00:00",
          "2024-04-30T00:00:00"
         ],
         "xaxis": "x",
         "y": [
          213.53,
          213.64
         ],
         "yaxis": "y"
        },
        {
         "hoverinfo": "none",
         "line": {
          "color": "green",
          "width": 3
         },
         "mode": "lines",
         "showlegend": false,
         "type": "scatter",
         "x": [
          "2024-04-30T00:00:00",
          "2024-05-01T00:00:00"
         ],
         "xaxis": "x",
         "y": [
          213.64,
          213.75
         ],
         "yaxis": "y"
        },
        {
         "hoverinfo": "none",
         "line": {
          "color": "green",
          "width": 3
         },
         "mode": "lines",
         "showlegend": false,
         "type": "scatter",
         "x": [
          "2024-05-01T00:00:00",
          "2024-05-02T00:00:00"
         ],
         "xaxis": "x",
         "y": [
          213.75,
          213.86
         ],
         "yaxis": "y"
        },
        {
         "hoverinfo": "none",
         "line": {
          "color": "green",
          "width": 3
         },
         "mode": "lines",
         "showlegend": false,
         "type": "scatter",
         "x": [
          "2024-05-02T00:00:00",
          "2024-05-03T00:00:00"
         ],
         "xaxis": "x",
         "y": [
          213.86,
          213.97
         ],
         "yaxis": "y"
        },
        {
         "hoverinfo": "none",
         "line": {
          "color": "green",
          "width": 3
         },
         "mode": "lines",
         "showlegend": false,
         "type": "scatter",
         "x": [
          "2024-05-03T00:00:00",
          "2024-05-04T00:00:00"
         ],
         "xaxis": "x",
         "y": [
          213.97,
          214.07
         ],
         "yaxis": "y"
        },
        {
         "hoverinfo": "none",
         "line": {
          "color": "green",
          "width": 3
         },
         "mode": "lines",
         "showlegend": false,
         "type": "scatter",
         "x": [
          "2024-05-04T00:00:00",
          "2024-05-05T00:00:00"
         ],
         "xaxis": "x",
         "y": [
          214.07,
          214.2
         ],
         "yaxis": "y"
        },
        {
         "hoverinfo": "none",
         "line": {
          "color": "green",
          "width": 3
         },
         "mode": "lines",
         "showlegend": false,
         "type": "scatter",
         "x": [
          "2024-05-05T00:00:00",
          "2024-05-06T00:00:00"
         ],
         "xaxis": "x",
         "y": [
          214.2,
          214.29
         ],
         "yaxis": "y"
        },
        {
         "hoverinfo": "none",
         "line": {
          "color": "green",
          "width": 3
         },
         "mode": "lines",
         "showlegend": false,
         "type": "scatter",
         "x": [
          "2024-05-06T00:00:00",
          "2024-05-07T00:00:00"
         ],
         "xaxis": "x",
         "y": [
          214.29,
          214.38
         ],
         "yaxis": "y"
        },
        {
         "hoverinfo": "none",
         "line": {
          "color": "green",
          "width": 3
         },
         "mode": "lines",
         "showlegend": false,
         "type": "scatter",
         "x": [
          "2024-05-07T00:00:00",
          "2024-05-08T00:00:00"
         ],
         "xaxis": "x",
         "y": [
          214.38,
          214.4
         ],
         "yaxis": "y"
        },
        {
         "hoverinfo": "none",
         "line": {
          "color": "green",
          "width": 3
         },
         "mode": "lines",
         "showlegend": false,
         "type": "scatter",
         "x": [
          "2024-05-08T00:00:00",
          "2024-05-09T00:00:00"
         ],
         "xaxis": "x",
         "y": [
          214.4,
          214.51
         ],
         "yaxis": "y"
        },
        {
         "hoverinfo": "none",
         "line": {
          "color": "green",
          "width": 3
         },
         "mode": "lines",
         "showlegend": false,
         "type": "scatter",
         "x": [
          "2024-05-09T00:00:00",
          "2024-05-10T00:00:00"
         ],
         "xaxis": "x",
         "y": [
          214.51,
          214.62
         ],
         "yaxis": "y"
        },
        {
         "hoverinfo": "none",
         "line": {
          "color": "green",
          "width": 3
         },
         "mode": "lines",
         "showlegend": false,
         "type": "scatter",
         "x": [
          "2024-05-10T00:00:00",
          "2024-05-11T00:00:00"
         ],
         "xaxis": "x",
         "y": [
          214.62,
          214.74
         ],
         "yaxis": "y"
        },
        {
         "hoverinfo": "none",
         "line": {
          "color": "green",
          "width": 3
         },
         "mode": "lines",
         "showlegend": false,
         "type": "scatter",
         "x": [
          "2024-05-11T00:00:00",
          "2024-05-12T00:00:00"
         ],
         "xaxis": "x",
         "y": [
          214.74,
          214.87
         ],
         "yaxis": "y"
        },
        {
         "hoverinfo": "none",
         "line": {
          "color": "green",
          "width": 3
         },
         "mode": "lines",
         "showlegend": false,
         "type": "scatter",
         "x": [
          "2024-05-12T00:00:00",
          "2024-05-13T00:00:00"
         ],
         "xaxis": "x",
         "y": [
          214.87,
          214.98
         ],
         "yaxis": "y"
        },
        {
         "hoverinfo": "none",
         "line": {
          "color": "green",
          "width": 3
         },
         "mode": "lines",
         "showlegend": false,
         "type": "scatter",
         "x": [
          "2024-05-13T00:00:00",
          "2024-05-14T00:00:00"
         ],
         "xaxis": "x",
         "y": [
          214.98,
          215.1
         ],
         "yaxis": "y"
        },
        {
         "hoverinfo": "none",
         "line": {
          "color": "green",
          "width": 3
         },
         "mode": "lines",
         "showlegend": false,
         "type": "scatter",
         "x": [
          "2024-05-14T00:00:00",
          "2024-05-15T00:00:00"
         ],
         "xaxis": "x",
         "y": [
          215.1,
          215.12
         ],
         "yaxis": "y"
        },
        {
         "hoverinfo": "none",
         "line": {
          "color": "green",
          "width": 3
         },
         "mode": "lines",
         "showlegend": false,
         "type": "scatter",
         "x": [
          "2024-05-15T00:00:00",
          "2024-05-16T00:00:00"
         ],
         "xaxis": "x",
         "y": [
          215.12,
          215.32
         ],
         "yaxis": "y"
        },
        {
         "hoverinfo": "none",
         "line": {
          "color": "green",
          "width": 3
         },
         "mode": "lines",
         "showlegend": false,
         "type": "scatter",
         "x": [
          "2024-05-16T00:00:00",
          "2024-05-17T00:00:00"
         ],
         "xaxis": "x",
         "y": [
          215.32,
          215.34
         ],
         "yaxis": "y"
        },
        {
         "hoverinfo": "none",
         "line": {
          "color": "green",
          "width": 3
         },
         "mode": "lines",
         "showlegend": false,
         "type": "scatter",
         "x": [
          "2024-05-17T00:00:00",
          "2024-05-18T00:00:00"
         ],
         "xaxis": "x",
         "y": [
          215.34,
          215.35
         ],
         "yaxis": "y"
        },
        {
         "hoverinfo": "none",
         "line": {
          "color": "green",
          "width": 3
         },
         "mode": "lines",
         "showlegend": false,
         "type": "scatter",
         "x": [
          "2024-05-18T00:00:00",
          "2024-05-19T00:00:00"
         ],
         "xaxis": "x",
         "y": [
          215.35,
          215.46
         ],
         "yaxis": "y"
        },
        {
         "hoverinfo": "none",
         "line": {
          "color": "green",
          "width": 3
         },
         "mode": "lines",
         "showlegend": false,
         "type": "scatter",
         "x": [
          "2024-05-19T00:00:00",
          "2024-05-20T00:00:00"
         ],
         "xaxis": "x",
         "y": [
          215.46,
          215.57
         ],
         "yaxis": "y"
        },
        {
         "hoverinfo": "none",
         "line": {
          "color": "green",
          "width": 3
         },
         "mode": "lines",
         "showlegend": false,
         "type": "scatter",
         "x": [
          "2024-05-20T00:00:00",
          "2024-05-21T00:00:00"
         ],
         "xaxis": "x",
         "y": [
          215.57,
          215.68
         ],
         "yaxis": "y"
        },
        {
         "hoverinfo": "none",
         "line": {
          "color": "green",
          "width": 3
         },
         "mode": "lines",
         "showlegend": false,
         "type": "scatter",
         "x": [
          "2024-05-21T00:00:00",
          "2024-05-22T00:00:00"
         ],
         "xaxis": "x",
         "y": [
          215.68,
          215.79
         ],
         "yaxis": "y"
        },
        {
         "hoverinfo": "none",
         "line": {
          "color": "green",
          "width": 3
         },
         "mode": "lines",
         "showlegend": false,
         "type": "scatter",
         "x": [
          "2024-05-22T00:00:00",
          "2024-05-23T00:00:00"
         ],
         "xaxis": "x",
         "y": [
          215.79,
          215.88
         ],
         "yaxis": "y"
        },
        {
         "hoverinfo": "none",
         "line": {
          "color": "green",
          "width": 3
         },
         "mode": "lines",
         "showlegend": false,
         "type": "scatter",
         "x": [
          "2024-05-23T00:00:00",
          "2024-05-24T00:00:00"
         ],
         "xaxis": "x",
         "y": [
          215.88,
          215.9
         ],
         "yaxis": "y"
        },
        {
         "hoverinfo": "none",
         "line": {
          "color": "green",
          "width": 3
         },
         "mode": "lines",
         "showlegend": false,
         "type": "scatter",
         "x": [
          "2024-05-24T00:00:00",
          "2024-05-25T00:00:00"
         ],
         "xaxis": "x",
         "y": [
          215.9,
          216
         ],
         "yaxis": "y"
        },
        {
         "hoverinfo": "none",
         "line": {
          "color": "green",
          "width": 3
         },
         "mode": "lines",
         "showlegend": false,
         "type": "scatter",
         "x": [
          "2024-05-25T00:00:00",
          "2024-05-26T00:00:00"
         ],
         "xaxis": "x",
         "y": [
          216,
          216.21
         ],
         "yaxis": "y"
        },
        {
         "hoverinfo": "none",
         "line": {
          "color": "green",
          "width": 3
         },
         "mode": "lines",
         "showlegend": false,
         "type": "scatter",
         "x": [
          "2024-05-26T00:00:00",
          "2024-05-27T00:00:00"
         ],
         "xaxis": "x",
         "y": [
          216.21,
          216.3
         ],
         "yaxis": "y"
        },
        {
         "hoverinfo": "none",
         "line": {
          "color": "green",
          "width": 3
         },
         "mode": "lines",
         "showlegend": false,
         "type": "scatter",
         "x": [
          "2024-05-27T00:00:00",
          "2024-05-28T00:00:00"
         ],
         "xaxis": "x",
         "y": [
          216.3,
          216.39
         ],
         "yaxis": "y"
        },
        {
         "hoverinfo": "none",
         "line": {
          "color": "green",
          "width": 3
         },
         "mode": "lines",
         "showlegend": false,
         "type": "scatter",
         "x": [
          "2024-05-28T00:00:00",
          "2024-05-29T00:00:00"
         ],
         "xaxis": "x",
         "y": [
          216.39,
          216.48
         ],
         "yaxis": "y"
        },
        {
         "hoverinfo": "none",
         "line": {
          "color": "green",
          "width": 3
         },
         "mode": "lines",
         "showlegend": false,
         "type": "scatter",
         "x": [
          "2024-05-29T00:00:00",
          "2024-05-30T00:00:00"
         ],
         "xaxis": "x",
         "y": [
          216.48,
          216.69
         ],
         "yaxis": "y"
        },
        {
         "hoverinfo": "none",
         "line": {
          "color": "green",
          "width": 3
         },
         "mode": "lines",
         "showlegend": false,
         "type": "scatter",
         "x": [
          "2024-05-30T00:00:00",
          "2024-05-31T00:00:00"
         ],
         "xaxis": "x",
         "y": [
          216.69,
          216.79
         ],
         "yaxis": "y"
        },
        {
         "hoverinfo": "none",
         "line": {
          "color": "green",
          "width": 3
         },
         "mode": "lines",
         "showlegend": false,
         "type": "scatter",
         "x": [
          "2024-05-31T00:00:00",
          "2024-06-01T00:00:00"
         ],
         "xaxis": "x",
         "y": [
          216.79,
          216.79
         ],
         "yaxis": "y"
        },
        {
         "hoverinfo": "none",
         "line": {
          "color": "green",
          "width": 3
         },
         "mode": "lines",
         "showlegend": false,
         "type": "scatter",
         "x": [
          "2024-06-01T00:00:00",
          "2024-06-02T00:00:00"
         ],
         "xaxis": "x",
         "y": [
          216.79,
          216.9
         ],
         "yaxis": "y"
        },
        {
         "hoverinfo": "none",
         "line": {
          "color": "green",
          "width": 3
         },
         "mode": "lines",
         "showlegend": false,
         "type": "scatter",
         "x": [
          "2024-06-02T00:00:00",
          "2024-06-03T00:00:00"
         ],
         "xaxis": "x",
         "y": [
          216.9,
          216.92
         ],
         "yaxis": "y"
        },
        {
         "hoverinfo": "none",
         "line": {
          "color": "green",
          "width": 3
         },
         "mode": "lines",
         "showlegend": false,
         "type": "scatter",
         "x": [
          "2024-06-03T00:00:00",
          "2024-06-04T00:00:00"
         ],
         "xaxis": "x",
         "y": [
          216.92,
          216.94
         ],
         "yaxis": "y"
        },
        {
         "hoverinfo": "none",
         "line": {
          "color": "green",
          "width": 3
         },
         "mode": "lines",
         "showlegend": false,
         "type": "scatter",
         "x": [
          "2024-06-04T00:00:00",
          "2024-06-05T00:00:00"
         ],
         "xaxis": "x",
         "y": [
          216.94,
          216.94
         ],
         "yaxis": "y"
        },
        {
         "hoverinfo": "none",
         "line": {
          "color": "green",
          "width": 3
         },
         "mode": "lines",
         "showlegend": false,
         "type": "scatter",
         "x": [
          "2024-06-05T00:00:00",
          "2024-06-06T00:00:00"
         ],
         "xaxis": "x",
         "y": [
          216.94,
          216.94
         ],
         "yaxis": "y"
        },
        {
         "hoverinfo": "none",
         "line": {
          "color": "red",
          "width": 3
         },
         "mode": "lines",
         "showlegend": false,
         "type": "scatter",
         "x": [
          "2024-06-06T00:00:00",
          "2024-06-07T00:00:00"
         ],
         "xaxis": "x",
         "y": [
          216.94,
          216.83
         ],
         "yaxis": "y"
        },
        {
         "hoverinfo": "none",
         "line": {
          "color": "red",
          "width": 3
         },
         "mode": "lines",
         "showlegend": false,
         "type": "scatter",
         "x": [
          "2024-06-07T00:00:00",
          "2024-06-08T00:00:00"
         ],
         "xaxis": "x",
         "y": [
          216.83,
          216.72
         ],
         "yaxis": "y"
        },
        {
         "hoverinfo": "none",
         "line": {
          "color": "green",
          "width": 3
         },
         "mode": "lines",
         "showlegend": false,
         "type": "scatter",
         "x": [
          "2024-06-08T00:00:00",
          "2024-06-09T00:00:00"
         ],
         "xaxis": "x",
         "y": [
          216.72,
          216.83
         ],
         "yaxis": "y"
        },
        {
         "hoverinfo": "none",
         "line": {
          "color": "green",
          "width": 3
         },
         "mode": "lines",
         "showlegend": false,
         "type": "scatter",
         "x": [
          "2024-06-09T00:00:00",
          "2024-06-10T00:00:00"
         ],
         "xaxis": "x",
         "y": [
          216.83,
          216.83
         ],
         "yaxis": "y"
        },
        {
         "hoverinfo": "none",
         "line": {
          "color": "green",
          "width": 3
         },
         "mode": "lines",
         "showlegend": false,
         "type": "scatter",
         "x": [
          "2024-06-10T00:00:00",
          "2024-06-11T00:00:00"
         ],
         "xaxis": "x",
         "y": [
          216.83,
          216.83
         ],
         "yaxis": "y"
        },
        {
         "hoverinfo": "none",
         "line": {
          "color": "green",
          "width": 3
         },
         "mode": "lines",
         "showlegend": false,
         "type": "scatter",
         "x": [
          "2024-06-11T00:00:00",
          "2024-06-12T00:00:00"
         ],
         "xaxis": "x",
         "y": [
          216.83,
          216.83
         ],
         "yaxis": "y"
        },
        {
         "hoverinfo": "none",
         "line": {
          "color": "green",
          "width": 3
         },
         "mode": "lines",
         "showlegend": false,
         "type": "scatter",
         "x": [
          "2024-06-12T00:00:00",
          "2024-06-13T00:00:00"
         ],
         "xaxis": "x",
         "y": [
          216.83,
          216.83
         ],
         "yaxis": "y"
        },
        {
         "hoverinfo": "none",
         "line": {
          "color": "green",
          "width": 3
         },
         "mode": "lines",
         "showlegend": false,
         "type": "scatter",
         "x": [
          "2024-06-13T00:00:00",
          "2024-06-14T00:00:00"
         ],
         "xaxis": "x",
         "y": [
          216.83,
          216.83
         ],
         "yaxis": "y"
        },
        {
         "hoverinfo": "none",
         "line": {
          "color": "green",
          "width": 3
         },
         "mode": "lines",
         "showlegend": false,
         "type": "scatter",
         "x": [
          "2024-06-14T00:00:00",
          "2024-06-15T00:00:00"
         ],
         "xaxis": "x",
         "y": [
          216.83,
          216.83
         ],
         "yaxis": "y"
        },
        {
         "hoverinfo": "none",
         "line": {
          "color": "green",
          "width": 3
         },
         "mode": "lines",
         "showlegend": false,
         "type": "scatter",
         "x": [
          "2024-06-15T00:00:00",
          "2024-06-16T00:00:00"
         ],
         "xaxis": "x",
         "y": [
          216.83,
          216.94
         ],
         "yaxis": "y"
        },
        {
         "hoverinfo": "none",
         "line": {
          "color": "red",
          "width": 3
         },
         "mode": "lines",
         "showlegend": false,
         "type": "scatter",
         "x": [
          "2024-06-16T00:00:00",
          "2024-06-17T00:00:00"
         ],
         "xaxis": "x",
         "y": [
          216.94,
          216.92
         ],
         "yaxis": "y"
        },
        {
         "hoverinfo": "none",
         "line": {
          "color": "red",
          "width": 3
         },
         "mode": "lines",
         "showlegend": false,
         "type": "scatter",
         "x": [
          "2024-06-17T00:00:00",
          "2024-06-18T00:00:00"
         ],
         "xaxis": "x",
         "y": [
          216.92,
          216.9
         ],
         "yaxis": "y"
        },
        {
         "hoverinfo": "none",
         "line": {
          "color": "red",
          "width": 3
         },
         "mode": "lines",
         "showlegend": false,
         "type": "scatter",
         "x": [
          "2024-06-18T00:00:00",
          "2024-06-19T00:00:00"
         ],
         "xaxis": "x",
         "y": [
          216.9,
          216.87
         ],
         "yaxis": "y"
        },
        {
         "hoverinfo": "none",
         "line": {
          "color": "red",
          "width": 3
         },
         "mode": "lines",
         "showlegend": false,
         "type": "scatter",
         "x": [
          "2024-06-19T00:00:00",
          "2024-06-20T00:00:00"
         ],
         "xaxis": "x",
         "y": [
          216.87,
          216.73
         ],
         "yaxis": "y"
        },
        {
         "hoverinfo": "none",
         "line": {
          "color": "red",
          "width": 3
         },
         "mode": "lines",
         "showlegend": false,
         "type": "scatter",
         "x": [
          "2024-06-20T00:00:00",
          "2024-06-21T00:00:00"
         ],
         "xaxis": "x",
         "y": [
          216.73,
          216.6
         ],
         "yaxis": "y"
        },
        {
         "hoverinfo": "none",
         "line": {
          "color": "red",
          "width": 3
         },
         "mode": "lines",
         "showlegend": false,
         "type": "scatter",
         "x": [
          "2024-06-21T00:00:00",
          "2024-06-22T00:00:00"
         ],
         "xaxis": "x",
         "y": [
          216.6,
          216.48
         ],
         "yaxis": "y"
        },
        {
         "hoverinfo": "none",
         "line": {
          "color": "red",
          "width": 3
         },
         "mode": "lines",
         "showlegend": false,
         "type": "scatter",
         "x": [
          "2024-06-22T00:00:00",
          "2024-06-23T00:00:00"
         ],
         "xaxis": "x",
         "y": [
          216.48,
          216.37
         ],
         "yaxis": "y"
        },
        {
         "hoverinfo": "none",
         "line": {
          "color": "red",
          "width": 3
         },
         "mode": "lines",
         "showlegend": false,
         "type": "scatter",
         "x": [
          "2024-06-23T00:00:00",
          "2024-06-24T00:00:00"
         ],
         "xaxis": "x",
         "y": [
          216.37,
          216.25
         ],
         "yaxis": "y"
        },
        {
         "marker": {
          "color": [
           "green",
           "green",
           "green",
           "green",
           "green",
           "green",
           "green",
           "green",
           "green",
           "green",
           "green",
           "green",
           "green",
           "green",
           "green",
           "green",
           "green",
           "green",
           "green",
           "green",
           "green",
           "green",
           "green",
           "green",
           "green",
           "green",
           "green",
           "green",
           "green",
           "green",
           "green",
           "green",
           "green",
           "green",
           "green",
           "green",
           "green",
           "green",
           "green",
           "green",
           "green",
           "green",
           "green",
           "green",
           "green",
           "green",
           "green",
           "green",
           "green",
           "green",
           "green",
           "green",
           "green",
           "green",
           "green",
           "green",
           "green",
           "green",
           "green",
           "green",
           "green",
           "green",
           "green",
           "green",
           "green"
          ]
         },
         "name": "Sales Volume",
         "type": "bar",
         "x": [
          "2019-01-01T00:00:00",
          "2019-02-01T00:00:00",
          "2019-03-01T00:00:00",
          "2019-04-01T00:00:00",
          "2019-05-01T00:00:00",
          "2019-06-01T00:00:00",
          "2019-07-01T00:00:00",
          "2019-08-01T00:00:00",
          "2019-09-01T00:00:00",
          "2019-10-01T00:00:00",
          "2019-11-01T00:00:00",
          "2019-12-01T00:00:00",
          "2020-01-01T00:00:00",
          "2020-02-01T00:00:00",
          "2020-03-01T00:00:00",
          "2020-04-01T00:00:00",
          "2020-05-01T00:00:00",
          "2020-06-01T00:00:00",
          "2020-07-01T00:00:00",
          "2020-08-01T00:00:00",
          "2020-09-01T00:00:00",
          "2020-10-01T00:00:00",
          "2020-11-01T00:00:00",
          "2020-12-01T00:00:00",
          "2021-01-01T00:00:00",
          "2021-02-01T00:00:00",
          "2021-03-01T00:00:00",
          "2021-04-01T00:00:00",
          "2021-05-01T00:00:00",
          "2021-06-01T00:00:00",
          "2021-07-01T00:00:00",
          "2021-08-01T00:00:00",
          "2021-09-01T00:00:00",
          "2021-10-01T00:00:00",
          "2021-11-01T00:00:00",
          "2021-12-01T00:00:00",
          "2022-01-01T00:00:00",
          "2022-02-01T00:00:00",
          "2022-03-01T00:00:00",
          "2022-04-01T00:00:00",
          "2022-05-01T00:00:00",
          "2022-06-01T00:00:00",
          "2022-07-01T00:00:00",
          "2022-08-01T00:00:00",
          "2022-09-01T00:00:00",
          "2022-10-01T00:00:00",
          "2022-11-01T00:00:00",
          "2022-12-01T00:00:00",
          "2023-01-01T00:00:00",
          "2023-02-01T00:00:00",
          "2023-03-01T00:00:00",
          "2023-04-01T00:00:00",
          "2023-05-01T00:00:00",
          "2023-06-01T00:00:00",
          "2023-07-01T00:00:00",
          "2023-08-01T00:00:00",
          "2023-09-01T00:00:00",
          "2023-10-01T00:00:00",
          "2023-11-01T00:00:00",
          "2023-12-01T00:00:00",
          "2024-01-01T00:00:00",
          "2024-02-01T00:00:00",
          "2024-03-01T00:00:00",
          "2024-04-01T00:00:00",
          "2024-05-01T00:00:00"
         ],
         "xaxis": "x2",
         "y": [
          607825,
          589855,
          712581,
          771455,
          844001,
          812092,
          869387,
          871259,
          793273,
          862412,
          726408,
          799341,
          687893,
          648955,
          755061,
          626128,
          632431,
          840064,
          942441,
          944484,
          956576,
          1001536,
          884522,
          1001841,
          793885,
          777051,
          1004752,
          997054,
          952843,
          1068321,
          996366,
          1010312,
          960753,
          925065,
          896699,
          933771,
          758710,
          728451,
          949976,
          897382,
          901409,
          929698,
          807645,
          882784,
          791612,
          749013,
          665793,
          662952,
          565991,
          572392,
          799345,
          683661,
          766536,
          785588,
          692288,
          754422,
          654649,
          658002,
          599832,
          598673,
          543193,
          561998,
          630246,
          679633,
          600617
         ],
         "yaxis": "y2"
        },
        {
         "line": {
          "color": "#FFA500",
          "width": 2
         },
         "mode": "lines",
         "name": "6-Month Moving Average",
         "showlegend": false,
         "type": "scatter",
         "x": [
          "2019-01-01T00:00:00",
          "2019-02-01T00:00:00",
          "2019-03-01T00:00:00",
          "2019-04-01T00:00:00",
          "2019-05-01T00:00:00",
          "2019-06-01T00:00:00",
          "2019-07-01T00:00:00",
          "2019-08-01T00:00:00",
          "2019-09-01T00:00:00",
          "2019-10-01T00:00:00",
          "2019-11-01T00:00:00",
          "2019-12-01T00:00:00",
          "2020-01-01T00:00:00",
          "2020-02-01T00:00:00",
          "2020-03-01T00:00:00",
          "2020-04-01T00:00:00",
          "2020-05-01T00:00:00",
          "2020-06-01T00:00:00",
          "2020-07-01T00:00:00",
          "2020-08-01T00:00:00",
          "2020-09-01T00:00:00",
          "2020-10-01T00:00:00",
          "2020-11-01T00:00:00",
          "2020-12-01T00:00:00",
          "2021-01-01T00:00:00",
          "2021-02-01T00:00:00",
          "2021-03-01T00:00:00",
          "2021-04-01T00:00:00",
          "2021-05-01T00:00:00",
          "2021-06-01T00:00:00",
          "2021-07-01T00:00:00",
          "2021-08-01T00:00:00",
          "2021-09-01T00:00:00",
          "2021-10-01T00:00:00",
          "2021-11-01T00:00:00",
          "2021-12-01T00:00:00",
          "2022-01-01T00:00:00",
          "2022-02-01T00:00:00",
          "2022-03-01T00:00:00",
          "2022-04-01T00:00:00",
          "2022-05-01T00:00:00",
          "2022-06-01T00:00:00",
          "2022-07-01T00:00:00",
          "2022-08-01T00:00:00",
          "2022-09-01T00:00:00",
          "2022-10-01T00:00:00",
          "2022-11-01T00:00:00",
          "2022-12-01T00:00:00",
          "2023-01-01T00:00:00",
          "2023-02-01T00:00:00",
          "2023-03-01T00:00:00",
          "2023-04-01T00:00:00",
          "2023-05-01T00:00:00",
          "2023-06-01T00:00:00",
          "2023-07-01T00:00:00",
          "2023-08-01T00:00:00",
          "2023-09-01T00:00:00",
          "2023-10-01T00:00:00",
          "2023-11-01T00:00:00",
          "2023-12-01T00:00:00",
          "2024-01-01T00:00:00",
          "2024-02-01T00:00:00",
          "2024-03-01T00:00:00",
          "2024-04-01T00:00:00",
          "2024-05-01T00:00:00"
         ],
         "xaxis": "x2",
         "y": [
          null,
          null,
          null,
          null,
          null,
          722968.17,
          766561.83,
          813462.5,
          826911.17,
          842070.67,
          822471.83,
          820346.67,
          790097.67,
          753047,
          746678.33,
          707297.67,
          691634.83,
          698422,
          740846.67,
          790101.5,
          823687.33,
          886255.33,
          928270.5,
          955233.33,
          930474,
          902568.5,
          910597.83,
          909850.83,
          921237.67,
          932317.67,
          966064.5,
          1004941.33,
          997608.17,
          985610,
          976252.67,
          953827.67,
          914218.33,
          867241.5,
          865445.33,
          860831.5,
          861616.5,
          860937.67,
          869093.5,
          894815.67,
          868421.67,
          843693.5,
          804424.17,
          759966.5,
          719690.83,
          667958.83,
          669247.67,
          658355.67,
          675146.17,
          695585.5,
          716635,
          746973.33,
          722857.33,
          718580.83,
          690796.83,
          659644.33,
          634795.17,
          602724.5,
          598657.33,
          602262.5,
          602393.33
         ],
         "yaxis": "y2"
        }
       ],
       "layout": {
        "annotations": [
         {
          "font": {
           "color": "#FFFFFF",
           "size": 14
          },
          "showarrow": false,
          "text": "USA (Daily) $216.25 (24 June)",
          "x": 0.002,
          "xanchor": "left",
          "xref": "paper",
          "y": 1,
          "yanchor": "top",
          "yref": "paper"
         },
         {
          "font": {
           "color": "#FFFFFF",
           "size": 14
          },
          "showarrow": false,
          "text": "<b>USA</b> United States Of America Parcl Exchange",
          "x": 0,
          "xanchor": "left",
          "xref": "paper",
          "y": 1.07,
          "yanchor": "top",
          "yref": "paper"
         },
         {
          "font": {
           "color": "#FFFFFF",
           "size": 14
          },
          "showarrow": false,
          "text": "24-June-2024",
          "x": 0,
          "xanchor": "left",
          "xref": "paper",
          "y": 1.04,
          "yanchor": "top",
          "yref": "paper"
         },
         {
          "font": {
           "color": "#FFFFFF",
           "size": 14
          },
          "showarrow": false,
          "text": "<b>52w High</b> 216.94 <b>52w Low</b> 201.57 <b>Last</b> 216.25 <b>YoY Change</b> 13.88 (6.86%)",
          "x": 1,
          "xanchor": "right",
          "xref": "paper",
          "y": 1.04,
          "yanchor": "top",
          "yref": "paper"
         },
         {
          "font": {
           "color": "#FFFFFF",
           "size": 14
          },
          "showarrow": false,
          "text": "Sales Volume (Monthly) 600,617.0 (May)",
          "x": 0.003,
          "xanchor": "left",
          "xref": "paper",
          "y": 0.15,
          "yref": "paper"
         },
         {
          "font": {
           "color": "#FFFFFF",
           "size": 14
          },
          "showarrow": false,
          "text": "--- MA(6) 602,393.33",
          "x": 0.003,
          "xanchor": "left",
          "xref": "paper",
          "y": 0.12,
          "yref": "paper"
         }
        ],
        "font": {
         "color": "#FFFFFF"
        },
        "height": 700,
        "hoverlabel": {
         "bgcolor": "#1F1F1F",
         "font": {
          "family": "Rockwell",
          "size": 14
         }
        },
        "hovermode": "x unified",
        "images": [
         {
          "sizex": 0.15,
          "sizey": 0.15,
          "source": "https://parcllabs-assets.s3.amazonaws.com/powered-by-parcllabs-api-logo-white+(1).svg",
          "x": 1,
          "xanchor": "right",
          "xref": "paper",
          "y": 1.07,
          "yanchor": "top",
          "yref": "paper"
         }
        ],
        "margin": {
         "b": 10,
         "l": 10,
         "r": 10,
         "t": 50
        },
        "paper_bgcolor": "#000000",
        "plot_bgcolor": "#000000",
        "showlegend": false,
        "template": {
         "data": {
          "bar": [
           {
            "error_x": {
             "color": "#2a3f5f"
            },
            "error_y": {
             "color": "#2a3f5f"
            },
            "marker": {
             "line": {
              "color": "#E5ECF6",
              "width": 0.5
             },
             "pattern": {
              "fillmode": "overlay",
              "size": 10,
              "solidity": 0.2
             }
            },
            "type": "bar"
           }
          ],
          "barpolar": [
           {
            "marker": {
             "line": {
              "color": "#E5ECF6",
              "width": 0.5
             },
             "pattern": {
              "fillmode": "overlay",
              "size": 10,
              "solidity": 0.2
             }
            },
            "type": "barpolar"
           }
          ],
          "carpet": [
           {
            "aaxis": {
             "endlinecolor": "#2a3f5f",
             "gridcolor": "white",
             "linecolor": "white",
             "minorgridcolor": "white",
             "startlinecolor": "#2a3f5f"
            },
            "baxis": {
             "endlinecolor": "#2a3f5f",
             "gridcolor": "white",
             "linecolor": "white",
             "minorgridcolor": "white",
             "startlinecolor": "#2a3f5f"
            },
            "type": "carpet"
           }
          ],
          "choropleth": [
           {
            "colorbar": {
             "outlinewidth": 0,
             "ticks": ""
            },
            "type": "choropleth"
           }
          ],
          "contour": [
           {
            "colorbar": {
             "outlinewidth": 0,
             "ticks": ""
            },
            "colorscale": [
             [
              0,
              "#0d0887"
             ],
             [
              0.1111111111111111,
              "#46039f"
             ],
             [
              0.2222222222222222,
              "#7201a8"
             ],
             [
              0.3333333333333333,
              "#9c179e"
             ],
             [
              0.4444444444444444,
              "#bd3786"
             ],
             [
              0.5555555555555556,
              "#d8576b"
             ],
             [
              0.6666666666666666,
              "#ed7953"
             ],
             [
              0.7777777777777778,
              "#fb9f3a"
             ],
             [
              0.8888888888888888,
              "#fdca26"
             ],
             [
              1,
              "#f0f921"
             ]
            ],
            "type": "contour"
           }
          ],
          "contourcarpet": [
           {
            "colorbar": {
             "outlinewidth": 0,
             "ticks": ""
            },
            "type": "contourcarpet"
           }
          ],
          "heatmap": [
           {
            "colorbar": {
             "outlinewidth": 0,
             "ticks": ""
            },
            "colorscale": [
             [
              0,
              "#0d0887"
             ],
             [
              0.1111111111111111,
              "#46039f"
             ],
             [
              0.2222222222222222,
              "#7201a8"
             ],
             [
              0.3333333333333333,
              "#9c179e"
             ],
             [
              0.4444444444444444,
              "#bd3786"
             ],
             [
              0.5555555555555556,
              "#d8576b"
             ],
             [
              0.6666666666666666,
              "#ed7953"
             ],
             [
              0.7777777777777778,
              "#fb9f3a"
             ],
             [
              0.8888888888888888,
              "#fdca26"
             ],
             [
              1,
              "#f0f921"
             ]
            ],
            "type": "heatmap"
           }
          ],
          "heatmapgl": [
           {
            "colorbar": {
             "outlinewidth": 0,
             "ticks": ""
            },
            "colorscale": [
             [
              0,
              "#0d0887"
             ],
             [
              0.1111111111111111,
              "#46039f"
             ],
             [
              0.2222222222222222,
              "#7201a8"
             ],
             [
              0.3333333333333333,
              "#9c179e"
             ],
             [
              0.4444444444444444,
              "#bd3786"
             ],
             [
              0.5555555555555556,
              "#d8576b"
             ],
             [
              0.6666666666666666,
              "#ed7953"
             ],
             [
              0.7777777777777778,
              "#fb9f3a"
             ],
             [
              0.8888888888888888,
              "#fdca26"
             ],
             [
              1,
              "#f0f921"
             ]
            ],
            "type": "heatmapgl"
           }
          ],
          "histogram": [
           {
            "marker": {
             "pattern": {
              "fillmode": "overlay",
              "size": 10,
              "solidity": 0.2
             }
            },
            "type": "histogram"
           }
          ],
          "histogram2d": [
           {
            "colorbar": {
             "outlinewidth": 0,
             "ticks": ""
            },
            "colorscale": [
             [
              0,
              "#0d0887"
             ],
             [
              0.1111111111111111,
              "#46039f"
             ],
             [
              0.2222222222222222,
              "#7201a8"
             ],
             [
              0.3333333333333333,
              "#9c179e"
             ],
             [
              0.4444444444444444,
              "#bd3786"
             ],
             [
              0.5555555555555556,
              "#d8576b"
             ],
             [
              0.6666666666666666,
              "#ed7953"
             ],
             [
              0.7777777777777778,
              "#fb9f3a"
             ],
             [
              0.8888888888888888,
              "#fdca26"
             ],
             [
              1,
              "#f0f921"
             ]
            ],
            "type": "histogram2d"
           }
          ],
          "histogram2dcontour": [
           {
            "colorbar": {
             "outlinewidth": 0,
             "ticks": ""
            },
            "colorscale": [
             [
              0,
              "#0d0887"
             ],
             [
              0.1111111111111111,
              "#46039f"
             ],
             [
              0.2222222222222222,
              "#7201a8"
             ],
             [
              0.3333333333333333,
              "#9c179e"
             ],
             [
              0.4444444444444444,
              "#bd3786"
             ],
             [
              0.5555555555555556,
              "#d8576b"
             ],
             [
              0.6666666666666666,
              "#ed7953"
             ],
             [
              0.7777777777777778,
              "#fb9f3a"
             ],
             [
              0.8888888888888888,
              "#fdca26"
             ],
             [
              1,
              "#f0f921"
             ]
            ],
            "type": "histogram2dcontour"
           }
          ],
          "mesh3d": [
           {
            "colorbar": {
             "outlinewidth": 0,
             "ticks": ""
            },
            "type": "mesh3d"
           }
          ],
          "parcoords": [
           {
            "line": {
             "colorbar": {
              "outlinewidth": 0,
              "ticks": ""
             }
            },
            "type": "parcoords"
           }
          ],
          "pie": [
           {
            "automargin": true,
            "type": "pie"
           }
          ],
          "scatter": [
           {
            "fillpattern": {
             "fillmode": "overlay",
             "size": 10,
             "solidity": 0.2
            },
            "type": "scatter"
           }
          ],
          "scatter3d": [
           {
            "line": {
             "colorbar": {
              "outlinewidth": 0,
              "ticks": ""
             }
            },
            "marker": {
             "colorbar": {
              "outlinewidth": 0,
              "ticks": ""
             }
            },
            "type": "scatter3d"
           }
          ],
          "scattercarpet": [
           {
            "marker": {
             "colorbar": {
              "outlinewidth": 0,
              "ticks": ""
             }
            },
            "type": "scattercarpet"
           }
          ],
          "scattergeo": [
           {
            "marker": {
             "colorbar": {
              "outlinewidth": 0,
              "ticks": ""
             }
            },
            "type": "scattergeo"
           }
          ],
          "scattergl": [
           {
            "marker": {
             "colorbar": {
              "outlinewidth": 0,
              "ticks": ""
             }
            },
            "type": "scattergl"
           }
          ],
          "scattermapbox": [
           {
            "marker": {
             "colorbar": {
              "outlinewidth": 0,
              "ticks": ""
             }
            },
            "type": "scattermapbox"
           }
          ],
          "scatterpolar": [
           {
            "marker": {
             "colorbar": {
              "outlinewidth": 0,
              "ticks": ""
             }
            },
            "type": "scatterpolar"
           }
          ],
          "scatterpolargl": [
           {
            "marker": {
             "colorbar": {
              "outlinewidth": 0,
              "ticks": ""
             }
            },
            "type": "scatterpolargl"
           }
          ],
          "scatterternary": [
           {
            "marker": {
             "colorbar": {
              "outlinewidth": 0,
              "ticks": ""
             }
            },
            "type": "scatterternary"
           }
          ],
          "surface": [
           {
            "colorbar": {
             "outlinewidth": 0,
             "ticks": ""
            },
            "colorscale": [
             [
              0,
              "#0d0887"
             ],
             [
              0.1111111111111111,
              "#46039f"
             ],
             [
              0.2222222222222222,
              "#7201a8"
             ],
             [
              0.3333333333333333,
              "#9c179e"
             ],
             [
              0.4444444444444444,
              "#bd3786"
             ],
             [
              0.5555555555555556,
              "#d8576b"
             ],
             [
              0.6666666666666666,
              "#ed7953"
             ],
             [
              0.7777777777777778,
              "#fb9f3a"
             ],
             [
              0.8888888888888888,
              "#fdca26"
             ],
             [
              1,
              "#f0f921"
             ]
            ],
            "type": "surface"
           }
          ],
          "table": [
           {
            "cells": {
             "fill": {
              "color": "#EBF0F8"
             },
             "line": {
              "color": "white"
             }
            },
            "header": {
             "fill": {
              "color": "#C8D4E3"
             },
             "line": {
              "color": "white"
             }
            },
            "type": "table"
           }
          ]
         },
         "layout": {
          "annotationdefaults": {
           "arrowcolor": "#2a3f5f",
           "arrowhead": 0,
           "arrowwidth": 1
          },
          "autotypenumbers": "strict",
          "coloraxis": {
           "colorbar": {
            "outlinewidth": 0,
            "ticks": ""
           }
          },
          "colorscale": {
           "diverging": [
            [
             0,
             "#8e0152"
            ],
            [
             0.1,
             "#c51b7d"
            ],
            [
             0.2,
             "#de77ae"
            ],
            [
             0.3,
             "#f1b6da"
            ],
            [
             0.4,
             "#fde0ef"
            ],
            [
             0.5,
             "#f7f7f7"
            ],
            [
             0.6,
             "#e6f5d0"
            ],
            [
             0.7,
             "#b8e186"
            ],
            [
             0.8,
             "#7fbc41"
            ],
            [
             0.9,
             "#4d9221"
            ],
            [
             1,
             "#276419"
            ]
           ],
           "sequential": [
            [
             0,
             "#0d0887"
            ],
            [
             0.1111111111111111,
             "#46039f"
            ],
            [
             0.2222222222222222,
             "#7201a8"
            ],
            [
             0.3333333333333333,
             "#9c179e"
            ],
            [
             0.4444444444444444,
             "#bd3786"
            ],
            [
             0.5555555555555556,
             "#d8576b"
            ],
            [
             0.6666666666666666,
             "#ed7953"
            ],
            [
             0.7777777777777778,
             "#fb9f3a"
            ],
            [
             0.8888888888888888,
             "#fdca26"
            ],
            [
             1,
             "#f0f921"
            ]
           ],
           "sequentialminus": [
            [
             0,
             "#0d0887"
            ],
            [
             0.1111111111111111,
             "#46039f"
            ],
            [
             0.2222222222222222,
             "#7201a8"
            ],
            [
             0.3333333333333333,
             "#9c179e"
            ],
            [
             0.4444444444444444,
             "#bd3786"
            ],
            [
             0.5555555555555556,
             "#d8576b"
            ],
            [
             0.6666666666666666,
             "#ed7953"
            ],
            [
             0.7777777777777778,
             "#fb9f3a"
            ],
            [
             0.8888888888888888,
             "#fdca26"
            ],
            [
             1,
             "#f0f921"
            ]
           ]
          },
          "colorway": [
           "#636efa",
           "#EF553B",
           "#00cc96",
           "#ab63fa",
           "#FFA15A",
           "#19d3f3",
           "#FF6692",
           "#B6E880",
           "#FF97FF",
           "#FECB52"
          ],
          "font": {
           "color": "#2a3f5f"
          },
          "geo": {
           "bgcolor": "white",
           "lakecolor": "white",
           "landcolor": "#E5ECF6",
           "showlakes": true,
           "showland": true,
           "subunitcolor": "white"
          },
          "hoverlabel": {
           "align": "left"
          },
          "hovermode": "closest",
          "mapbox": {
           "style": "light"
          },
          "paper_bgcolor": "white",
          "plot_bgcolor": "#E5ECF6",
          "polar": {
           "angularaxis": {
            "gridcolor": "white",
            "linecolor": "white",
            "ticks": ""
           },
           "bgcolor": "#E5ECF6",
           "radialaxis": {
            "gridcolor": "white",
            "linecolor": "white",
            "ticks": ""
           }
          },
          "scene": {
           "xaxis": {
            "backgroundcolor": "#E5ECF6",
            "gridcolor": "white",
            "gridwidth": 2,
            "linecolor": "white",
            "showbackground": true,
            "ticks": "",
            "zerolinecolor": "white"
           },
           "yaxis": {
            "backgroundcolor": "#E5ECF6",
            "gridcolor": "white",
            "gridwidth": 2,
            "linecolor": "white",
            "showbackground": true,
            "ticks": "",
            "zerolinecolor": "white"
           },
           "zaxis": {
            "backgroundcolor": "#E5ECF6",
            "gridcolor": "white",
            "gridwidth": 2,
            "linecolor": "white",
            "showbackground": true,
            "ticks": "",
            "zerolinecolor": "white"
           }
          },
          "shapedefaults": {
           "line": {
            "color": "#2a3f5f"
           }
          },
          "ternary": {
           "aaxis": {
            "gridcolor": "white",
            "linecolor": "white",
            "ticks": ""
           },
           "baxis": {
            "gridcolor": "white",
            "linecolor": "white",
            "ticks": ""
           },
           "bgcolor": "#E5ECF6",
           "caxis": {
            "gridcolor": "white",
            "linecolor": "white",
            "ticks": ""
           }
          },
          "title": {
           "x": 0.05
          },
          "xaxis": {
           "automargin": true,
           "gridcolor": "white",
           "linecolor": "white",
           "ticks": "",
           "title": {
            "standoff": 15
           },
           "zerolinecolor": "white",
           "zerolinewidth": 2
          },
          "yaxis": {
           "automargin": true,
           "gridcolor": "white",
           "linecolor": "white",
           "ticks": "",
           "title": {
            "standoff": 15
           },
           "zerolinecolor": "white",
           "zerolinewidth": 2
          }
         }
        },
        "width": 1200,
        "xaxis": {
         "anchor": "y",
         "domain": [
          0,
          1
         ],
         "gridcolor": "rgba(255, 255, 255, 0.2)",
         "linecolor": "#FFFFFF",
         "linewidth": 2,
         "mirror": true,
         "range": [
          "2019-01-01T00:00:00",
          "2024-06-24T00:00:00"
         ],
         "showgrid": true,
         "showline": true,
         "tickangle": 0,
         "tickfont": {
          "size": 14
         },
         "tickformat": "`%y",
         "title": {
          "text": ""
         }
        },
        "xaxis2": {
         "anchor": "y2",
         "domain": [
          0,
          1
         ],
         "gridcolor": "rgba(255, 255, 255, 0.2)",
         "linecolor": "#FFFFFF",
         "linewidth": 2,
         "mirror": true,
         "range": [
          "2019-01-01T00:00:00",
          "2024-06-24T00:00:00"
         ],
         "showgrid": true,
         "showline": true,
         "tickangle": 0,
         "tickfont": {
          "size": 14
         },
         "tickformat": "`%y",
         "title": {
          "text": ""
         }
        },
        "yaxis": {
         "anchor": "x",
         "domain": [
          0.24,
          1
         ],
         "gridcolor": "rgba(255, 255, 255, 0.2)",
         "gridwidth": 0.5,
         "linecolor": "#FFFFFF",
         "linewidth": 2,
         "mirror": true,
         "range": [
          124.02000000000001,
          226.94
         ],
         "rangemode": "normal",
         "showgrid": true,
         "showline": true,
         "side": "right",
         "tickfont": {
          "size": 14
         },
         "ticks": "outside",
         "ticksuffix": "",
         "zeroline": false
        },
        "yaxis2": {
         "anchor": "x2",
         "domain": [
          0,
          0.19
         ],
         "gridcolor": "rgba(255, 255, 255, 0.2)",
         "gridwidth": 0.5,
         "linecolor": "#FFFFFF",
         "linewidth": 2,
         "mirror": true,
         "range": [
          543183,
          1068331
         ],
         "rangemode": "normal",
         "showgrid": true,
         "showline": true,
         "side": "right",
         "tickfont": {
          "size": 14
         },
         "ticks": "outside",
         "ticksuffix": "",
         "zeroline": false
        }
       }
      }
     },
     "metadata": {},
     "output_type": "display_data"
    }
   ],
   "source": [
    "build_technical_chart(\n",
    "    line_chart_df=pricefeed,\n",
    "    bar_chart_df=demand,\n",
    "    value_name_main='price_feed',\n",
    "    value_name_secondary='sales',\n",
    "    header_left_primary_text=ticker_msg,\n",
    "    header_left_secondary_text=last_pf_date,\n",
    "    header_right_primary_text=msg,\n",
    "    line_chart_left_primary_text=pricefeed_msg,\n",
    "    bar_chart_left_primary_text=volume_msg,\n",
    "    # save_path='chart.png',\n",
    ")"
   ]
  },
  {
   "cell_type": "code",
   "execution_count": null,
   "metadata": {},
   "outputs": [],
   "source": []
  }
 ],
 "metadata": {
  "kernelspec": {
   "display_name": "gpt-spec-mjMMhwjp",
   "language": "python",
   "name": "python3"
  },
  "language_info": {
   "codemirror_mode": {
    "name": "ipython",
    "version": 3
   },
   "file_extension": ".py",
   "mimetype": "text/x-python",
   "name": "python",
   "nbconvert_exporter": "python",
   "pygments_lexer": "ipython3",
   "version": "3.1.-1"
  }
 },
 "nbformat": 4,
 "nbformat_minor": 2
}
