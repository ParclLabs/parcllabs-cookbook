{
 "cells": [
  {
   "cell_type": "markdown",
   "metadata": {},
   "source": [
    "<center>\n",
    "<h1>Welcome to the Lab 🥼🧪</h1>\n",
    "</center>\n",
    "\n",
    "### How can I create technical chart analysis of real time price feeds?\n",
    "\n",
    "In this notebook, we will be creating a simple technical analysis chart of real time price feeds. It will include rates of change for prices overlayed by housing demand metrics via home purchases.\n",
    "\n",
    "#### What will you create in this notebook?\n",
    "\n",
    "<p align=\"center\">\n",
    "  <img src=\"../../images/technical_pf_usa_vs_demand_chart.png\" alt=\"Alt text\">\n",
    "</p>\n",
    "\n",
    "#### Need help getting started?\n",
    "\n",
    "As a reminder, you can get your Parcl Labs API key [here](https://dashboard.parcllabs.com/signup) to follow along.\n",
    "\n",
    "To run this immediately, you can use Google Colab. Remember, you must set your `PARCL_LABS_API_KEY`.\n",
    "\n",
    "Run in collab --> [![Open in Colab](https://colab.research.google.com/assets/colab-badge.svg)](https://colab.research.google.com/github/ParclLabs/parcllabs-cookbook/blob/main/examples/price_feed_trader_resources/trader_charts.ipynb)"
   ]
  },
  {
   "cell_type": "markdown",
   "metadata": {},
   "source": [
    "### 1. Import the Parcl Labs Python Library"
   ]
  },
  {
   "cell_type": "code",
   "execution_count": null,
   "metadata": {},
   "outputs": [],
   "source": [
    "# if needed, install and/or upgrade to the latest verison of the Parcl Labs Python library\n",
    "%pip install --upgrade parcllabs nbformat"
   ]
  },
  {
   "cell_type": "code",
   "execution_count": null,
   "metadata": {},
   "outputs": [],
   "source": [
    "import os\n",
    "import numpy as np\n",
    "import pandas as pd\n",
    "from parcllabs import ParclLabsClient\n",
    "from parcllabs.beta.ts_stats import TimeSeriesAnalysis\n",
    "from parcllabs.beta.charting.name_formats import format_names, create_ticker\n",
    "from parcllabs.beta.charting.technical_charts import build_technical_chart\n",
    "\n",
    "client = ParclLabsClient(\n",
    "    api_key=os.environ.get('PARCL_LABS_API_KEY', \"<your Parcl Labs API key if not set as environment variable>\"), \n",
    "    limit=12 # set default limit\n",
    ")"
   ]
  },
  {
   "cell_type": "markdown",
   "metadata": {},
   "source": [
    "### 2. Search for Price Feed Markets on Parcl Exchange"
   ]
  },
  {
   "cell_type": "code",
   "execution_count": null,
   "metadata": {},
   "outputs": [],
   "source": [
    "sales_pricefeed_markets = client.search.markets.retrieve(\n",
    "    query='United States',\n",
    "    sort_by='PARCL_EXCHANGE_MARKET',\n",
    "    sort_order='DESC',\n",
    "    limit=1\n",
    ")\n",
    "\n",
    "sales_pricefeed_markets['clean_name'] = sales_pricefeed_markets['name'].apply(format_names)\n",
    "sales_pricefeed_markets['ticker'] = sales_pricefeed_markets['clean_name'].apply(create_ticker)"
   ]
  },
  {
   "cell_type": "code",
   "execution_count": null,
   "metadata": {},
   "outputs": [],
   "source": [
    "sales_pricefeed_markets.head()"
   ]
  },
  {
   "cell_type": "markdown",
   "metadata": {},
   "source": [
    "### 3. Load the data for sales price feeds and sales demand"
   ]
  },
  {
   "cell_type": "code",
   "execution_count": null,
   "metadata": {},
   "outputs": [],
   "source": [
    "# lets retrieve data back to 2011 for these price feeds\n",
    "START_DATE = '2019-01-01'\n",
    "sales_price_feeds = client.price_feed.price_feed.retrieve(\n",
    "    parcl_ids=sales_pricefeed_markets['parcl_id'].tolist(),\n",
    "    start_date=START_DATE,\n",
    "    limit=1000,  # expand the limit to 1000, these are daily series\n",
    "    auto_paginate=True, # auto paginate to get all the data - WARNING: ~6k credits can be used in one parcl price feed. Change the START_DATE to a more recent date to reduce the number of credits used\n",
    ")"
   ]
  },
  {
   "cell_type": "code",
   "execution_count": null,
   "metadata": {},
   "outputs": [],
   "source": [
    "# get supply and demand\n",
    "demand = client.market_metrics.housing_event_counts.retrieve(\n",
    "    parcl_ids=sales_pricefeed_markets['parcl_id'].tolist(),\n",
    "    start_date=START_DATE,\n",
    "    limit=1000,  # expand the limit to 1000, these are daily series\n",
    ")"
   ]
  },
  {
   "cell_type": "markdown",
   "metadata": {},
   "source": [
    "### Prepare the data for analysis/charting"
   ]
  },
  {
   "cell_type": "code",
   "execution_count": null,
   "metadata": {},
   "outputs": [],
   "source": [
    "# lets analyze the US housing market on the parcl exchange with parcl_id: 5826765\n",
    "# we can confirm via:\n",
    "pid = 5826765\n",
    "sales_pricefeed_markets[sales_pricefeed_markets['parcl_id'] == pid]"
   ]
  },
  {
   "cell_type": "code",
   "execution_count": null,
   "metadata": {},
   "outputs": [],
   "source": [
    "pricefeed = sales_price_feeds[sales_price_feeds['parcl_id'] == pid].copy()\n",
    "demand = demand[demand['parcl_id'] == pid].copy()\n",
    "# sort ascending order\n",
    "pricefeed = pricefeed.sort_values('date')\n",
    "demand = demand.sort_values('date')\n",
    "metadata = sales_pricefeed_markets[sales_pricefeed_markets['parcl_id'] == pid]\n",
    "ticker = metadata['ticker'].values[0]\n",
    "name = metadata['name'].values[0]\n",
    "\n",
    "pf_ts_analysis = TimeSeriesAnalysis(pricefeed, 'date', 'price_feed', freq='D')\n",
    "pf_rate_of_change_stats = pf_ts_analysis.calculate_changes()\n",
    "\n",
    "demand_ts_analysis = TimeSeriesAnalysis(demand, 'date', 'sales', freq='M')\n",
    "demand_rate_of_change_stats = demand_ts_analysis.calculate_changes()"
   ]
  },
  {
   "cell_type": "code",
   "execution_count": null,
   "metadata": {},
   "outputs": [],
   "source": [
    "\n",
    "# get last information for pricefeed\n",
    "last_pricefeed_value = pf_rate_of_change_stats['last']['value']\n",
    "last_pricefeed_date_str = pf_rate_of_change_stats['last']['date']\n",
    "last_pricefeed_date = pd.to_datetime(last_pricefeed_date_str).strftime('%-d %B')\n",
    "last_pf_date = pd.to_datetime(last_pricefeed_date_str).strftime('%-d-%B-%Y')\n",
    "\n",
    "# get last information for demand\n",
    "last_demand_value = demand_rate_of_change_stats['last']['value']\n",
    "last_sales_month = pd.to_datetime(demand_rate_of_change_stats['last']['date']).strftime('%b')"
   ]
  },
  {
   "cell_type": "code",
   "execution_count": null,
   "metadata": {},
   "outputs": [],
   "source": [
    "# calculate daily return\n",
    "pricefeed['daily_return'] = pricefeed['price_feed'].pct_change()\n",
    "# drop na values\n",
    "pricefeed = pricefeed.dropna().reset_index(drop=True)\n",
    "pricefeed['month'] = pricefeed['date'].dt.month\n",
    "demand['month'] = demand['date'].dt.month\n",
    "# start and end of the month change\n",
    "monthly_returns = pricefeed.groupby('month')['price_feed'].agg(lambda x: x.iloc[-1] / x.iloc[0] - 1).reset_index(name='volColor')"
   ]
  },
  {
   "cell_type": "code",
   "execution_count": null,
   "metadata": {},
   "outputs": [],
   "source": [
    "# merge monthly returns\n",
    "pricefeed = pricefeed.merge(monthly_returns, on='month', how='left')\n",
    "demand = demand.merge(monthly_returns, on='month', how='left')"
   ]
  },
  {
   "cell_type": "code",
   "execution_count": null,
   "metadata": {},
   "outputs": [],
   "source": [
    "# Add volColor column directly to data_secondary\n",
    "demand['volColor'] = np.where(demand['volColor'] >= 0, 'green', 'red')"
   ]
  },
  {
   "cell_type": "code",
   "execution_count": null,
   "metadata": {},
   "outputs": [],
   "source": [
    "# chart labels\n",
    "msg = f\"\"\"\n",
    "<b>52w High</b> {pf_rate_of_change_stats['52_week_high']['value']:.2f} \n",
    "<b>52w Low</b> {pf_rate_of_change_stats['52_week_low']['value']:.2f} \n",
    "<b>Last</b> {pf_rate_of_change_stats['last']['value']:.2f} \n",
    "<b>YoY Change</b> {pf_rate_of_change_stats['12_month']['value_diff']} ({pf_rate_of_change_stats['12_month']['percent_change']*100:.02f}%)\n",
    "\"\"\"\n",
    "msg = msg.replace('\\n', '')\n",
    "\n",
    "\n",
    "ticker_msg = f\"<b>{ticker}</b> {name} Parcl Exchange\"\n",
    "volume_msg = f'Sales Volume (Monthly) {last_demand_value:,} ({last_sales_month})'\n",
    "pricefeed_msg = f'{ticker} (Daily) ${last_pricefeed_value} ({last_pricefeed_date})'"
   ]
  },
  {
   "cell_type": "code",
   "execution_count": null,
   "metadata": {},
   "outputs": [],
   "source": [
    "build_technical_chart(\n",
    "    line_chart_df=pricefeed,\n",
    "    bar_chart_df=demand,\n",
    "    value_name_main='price_feed',\n",
    "    value_name_secondary='sales',\n",
    "    header_left_primary_text=ticker_msg,\n",
    "    header_left_secondary_text=last_pf_date,\n",
    "    header_right_primary_text=msg,\n",
    "    line_chart_left_primary_text=pricefeed_msg,\n",
    "    bar_chart_left_primary_text=volume_msg,\n",
    "    # save_path='chart.png',\n",
    ")"
   ]
  },
  {
   "cell_type": "code",
   "execution_count": null,
   "metadata": {},
   "outputs": [],
   "source": []
  }
 ],
 "metadata": {
  "kernelspec": {
   "display_name": "gpt-spec-mjMMhwjp",
   "language": "python",
   "name": "python3"
  },
  "language_info": {
   "codemirror_mode": {
    "name": "ipython",
    "version": 3
   },
   "file_extension": ".py",
   "mimetype": "text/x-python",
   "name": "python",
   "nbconvert_exporter": "python",
   "pygments_lexer": "ipython3",
   "version": "3.11.9"
  }
 },
 "nbformat": 4,
 "nbformat_minor": 2
}
