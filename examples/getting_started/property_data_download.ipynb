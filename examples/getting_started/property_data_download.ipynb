{
 "cells": [
  {
   "cell_type": "markdown",
   "metadata": {},
   "source": [
    "<center>\n",
    "<h1>Welcome to the Lab 🥼🧪</h1>\n",
    "</center>\n",
    "\n",
    "### We will learn how to download individual units for a given `parcl id`. \n",
    "\n",
    "#### Need help getting started?\n",
    "\n",
    "As a reminder, you can get your Parcl Labs API key [here](https://dashboard.parcllabs.com/signup) to follow along.\n",
    "\n",
    "To run this immediately, you can use Google Colab. Remember, you must set your `PARCL_LABS_API_KEY`.\n",
    "\n",
    "You will need a paid account. \n",
    "\n",
    "Run in collab --> [![Open in Colab](https://colab.research.google.com/assets/colab-badge.svg)](https://colab.research.google.com/github/ParclLabs/parcllabs-cookbook/blob/main/examples/getting_started/bulk_data_download.ipynb)"
   ]
  },
  {
   "cell_type": "code",
   "execution_count": 1,
   "metadata": {},
   "outputs": [
    {
     "name": "stdout",
     "output_type": "stream",
     "text": [
      "Requirement already satisfied: parcllabs in /opt/anaconda3/envs/parcllabs-env/lib/python3.11/site-packages (1.5.0)\n",
      "Requirement already satisfied: aiohttp in /opt/anaconda3/envs/parcllabs-env/lib/python3.11/site-packages (from parcllabs) (3.10.5)\n",
      "Requirement already satisfied: alive-progress in /opt/anaconda3/envs/parcllabs-env/lib/python3.11/site-packages (from parcllabs) (3.1.5)\n",
      "Requirement already satisfied: kaleido in /opt/anaconda3/envs/parcllabs-env/lib/python3.11/site-packages (from parcllabs) (0.2.1)\n",
      "Requirement already satisfied: nest-asyncio in /opt/anaconda3/envs/parcllabs-env/lib/python3.11/site-packages (from parcllabs) (1.6.0)\n",
      "Requirement already satisfied: numpy in /opt/anaconda3/envs/parcllabs-env/lib/python3.11/site-packages (from parcllabs) (1.26.4)\n",
      "Requirement already satisfied: pandas in /opt/anaconda3/envs/parcllabs-env/lib/python3.11/site-packages (from parcllabs) (2.2.2)\n",
      "Requirement already satisfied: plotly in /opt/anaconda3/envs/parcllabs-env/lib/python3.11/site-packages (from parcllabs) (5.22.0)\n",
      "Requirement already satisfied: requests in /opt/anaconda3/envs/parcllabs-env/lib/python3.11/site-packages (from parcllabs) (2.31.0)\n",
      "Requirement already satisfied: aiohappyeyeballs>=2.3.0 in /opt/anaconda3/envs/parcllabs-env/lib/python3.11/site-packages (from aiohttp->parcllabs) (2.4.0)\n",
      "Requirement already satisfied: aiosignal>=1.1.2 in /opt/anaconda3/envs/parcllabs-env/lib/python3.11/site-packages (from aiohttp->parcllabs) (1.3.1)\n",
      "Requirement already satisfied: attrs>=17.3.0 in /opt/anaconda3/envs/parcllabs-env/lib/python3.11/site-packages (from aiohttp->parcllabs) (23.2.0)\n",
      "Requirement already satisfied: frozenlist>=1.1.1 in /opt/anaconda3/envs/parcllabs-env/lib/python3.11/site-packages (from aiohttp->parcllabs) (1.4.1)\n",
      "Requirement already satisfied: multidict<7.0,>=4.5 in /opt/anaconda3/envs/parcllabs-env/lib/python3.11/site-packages (from aiohttp->parcllabs) (6.0.5)\n",
      "Requirement already satisfied: yarl<2.0,>=1.0 in /opt/anaconda3/envs/parcllabs-env/lib/python3.11/site-packages (from aiohttp->parcllabs) (1.9.4)\n",
      "Requirement already satisfied: about-time==4.2.1 in /opt/anaconda3/envs/parcllabs-env/lib/python3.11/site-packages (from alive-progress->parcllabs) (4.2.1)\n",
      "Requirement already satisfied: grapheme==0.6.0 in /opt/anaconda3/envs/parcllabs-env/lib/python3.11/site-packages (from alive-progress->parcllabs) (0.6.0)\n",
      "Requirement already satisfied: python-dateutil>=2.8.2 in /opt/anaconda3/envs/parcllabs-env/lib/python3.11/site-packages (from pandas->parcllabs) (2.9.0)\n",
      "Requirement already satisfied: pytz>=2020.1 in /opt/anaconda3/envs/parcllabs-env/lib/python3.11/site-packages (from pandas->parcllabs) (2024.1)\n",
      "Requirement already satisfied: tzdata>=2022.7 in /opt/anaconda3/envs/parcllabs-env/lib/python3.11/site-packages (from pandas->parcllabs) (2024.1)\n",
      "Requirement already satisfied: tenacity>=6.2.0 in /opt/anaconda3/envs/parcllabs-env/lib/python3.11/site-packages (from plotly->parcllabs) (8.2.3)\n",
      "Requirement already satisfied: packaging in /opt/anaconda3/envs/parcllabs-env/lib/python3.11/site-packages (from plotly->parcllabs) (24.0)\n",
      "Requirement already satisfied: charset-normalizer<4,>=2 in /opt/anaconda3/envs/parcllabs-env/lib/python3.11/site-packages (from requests->parcllabs) (3.3.2)\n",
      "Requirement already satisfied: idna<4,>=2.5 in /opt/anaconda3/envs/parcllabs-env/lib/python3.11/site-packages (from requests->parcllabs) (3.7)\n",
      "Requirement already satisfied: urllib3<3,>=1.21.1 in /opt/anaconda3/envs/parcllabs-env/lib/python3.11/site-packages (from requests->parcllabs) (2.2.1)\n",
      "Requirement already satisfied: certifi>=2017.4.17 in /opt/anaconda3/envs/parcllabs-env/lib/python3.11/site-packages (from requests->parcllabs) (2024.2.2)\n",
      "Requirement already satisfied: six>=1.5 in /opt/anaconda3/envs/parcllabs-env/lib/python3.11/site-packages (from python-dateutil>=2.8.2->pandas->parcllabs) (1.16.0)\n",
      "Note: you may need to restart the kernel to use updated packages.\n"
     ]
    }
   ],
   "source": [
    "%pip install --upgrade parcllabs"
   ]
  },
  {
   "cell_type": "code",
   "execution_count": 5,
   "metadata": {},
   "outputs": [],
   "source": [
    "import os\n",
    "from datetime import datetime, timedelta\n",
    "import pandas as pd\n",
    "from parcllabs import ParclLabsClient"
   ]
  },
  {
   "cell_type": "code",
   "execution_count": 10,
   "metadata": {},
   "outputs": [
    {
     "name": "stdout",
     "output_type": "stream",
     "text": [
      "Setup complete. You can now use the 'client' object to interact with the Parcl Labs API.\n"
     ]
    }
   ],
   "source": [
    "# Instantiate account and make sure we have folder to download data \n",
    "client = ParclLabsClient(\n",
    "    api_key=os.environ.get('PARCL_LABS_API_KEY', \"<your Parcl Labs API key if not set as environment variable>\"), \n",
    "    limit=10 # set default limit\n",
    ")\n",
    "\n",
    "# Function to check and create directory if it doesn't exist\n",
    "def ensure_directory(directory):\n",
    "    if not os.path.exists(directory):\n",
    "        os.makedirs(directory)\n",
    "    return directory\n",
    "\n",
    "# Create a 'downloads' directory for our CSV files\n",
    "download_dir = ensure_directory('downloads')\n",
    "\n",
    "print(\"Setup complete. You can now use the 'client' object to interact with the Parcl Labs API.\")"
   ]
  },
  {
   "cell_type": "code",
   "execution_count": 14,
   "metadata": {},
   "outputs": [
    {
     "name": "stdout",
     "output_type": "stream",
     "text": [
      "Processing Parcl IDs |████████████████████████████████████████| 1/1 [100%] in 1.8s (0.57/s) \n",
      "Found 654 properties matching the criteria.\n"
     ]
    }
   ],
   "source": [
    "# Define the parameters we want to use in the search of properties, in this case we are using Pittasburgh, PA \n",
    "# as the market of interest \n",
    "\n",
    "# Define the search parameters\n",
    "search_params = {\n",
    "    'parcl_ids': [5377717],  # Required\n",
    "    'property_type': 'SINGLE_FAMILY',  # Required\n",
    "    #'current_entity_owner_name': 'NULL',  # Specify one of the options or 'NULL'\n",
    "    'square_footage_min': 4000,\n",
    "    'square_footage_max': 5000,\n",
    "    #'bedrooms_min': 2,\n",
    "    #'bedrooms_max': 4,\n",
    "    #'bathrooms_min': 2,\n",
    "    #'bathrooms_max': 3,\n",
    "    #'year_built_min': 1990,\n",
    "    #'year_built_max': 2023,\n",
    "    #'event_history_sale_flag': True,\n",
    "    #'event_history_rental_flag': False,\n",
    "    #'event_history_listing_flag': True,\n",
    "    #'current_new_construction_flag': False,\n",
    "    #'current_owner_occupied_flag': True,\n",
    "    #'current_investor_owned_flag': False\n",
    "}\n",
    "\n",
    "# We seach the properties in the market we defined above with the parameters that are not commented\n",
    "# we use try and except to catch any error that might occur during the search\n",
    "try:\n",
    "    search_results = client.property.search.retrieve(**search_params)\n",
    "    print(f\"Found {len(search_results)} properties matching the criteria.\")\n",
    "except Exception as e:\n",
    "    print(f\"An error occurred while searching for properties: {str(e)}\")\n",
    "    print(\"Try adjusting your search parameters or checking your API key.\")"
   ]
  },
  {
   "cell_type": "code",
   "execution_count": 24,
   "metadata": {},
   "outputs": [
    {
     "name": "stdout",
     "output_type": "stream",
     "text": [
      "Found 24 properties that have been sold.\n"
     ]
    }
   ],
   "source": [
    "# We are interested in properties that have been sold, so we will filter the search results to only include\n",
    "# properties that have been sold using the event_history_sale_flag. \n",
    "search_results = search_results.query(\"event_history_sale_flag==True\")\n",
    "print(f\"Found {len(search_results)} properties that have been sold.\")"
   ]
  },
  {
   "cell_type": "markdown",
   "metadata": {},
   "source": [
    "Alternatively, we can filter the search results to only include properties that have been listed for sale \n",
    "using by uncommenting that parameter in the search_params dictionary above. Lets modify the code slightly to only retrieve Single Family Homes with a `event_history_sale_flag` set to true and that were built since 2000 by uncomenting the parameter  `year_built_min` and setting its value to 2000."
   ]
  },
  {
   "cell_type": "code",
   "execution_count": 23,
   "metadata": {},
   "outputs": [
    {
     "name": "stdout",
     "output_type": "stream",
     "text": [
      "Processing Parcl IDs |████████████████████████████████████████| 1/1 [100%] in 1.5s (0.68/s) \n",
      "Found 24 properties matching the criteria.\n",
      "   parcl_property_id             address  unit        city state_abbreviation  \\\n",
      "0           99430895       300 ANITA AVE  None  PITTSBURGH                 PA   \n",
      "1           88547870  1543 PARKVIEW BLVD  None  PITTSBURGH                 PA   \n",
      "\n",
      "    zip5  zip4   latitude  longitude  property_type  bedrooms  bathrooms  \\\n",
      "0  15217  3171  40.423689 -79.917562  SINGLE_FAMILY         4        4.0   \n",
      "1  15217  2597  40.418775 -79.917150  SINGLE_FAMILY         4        4.0   \n",
      "\n",
      "   square_footage  year_built  cbsa_parcl_id       cbsa_name  county_parcl_id  \\\n",
      "0            5000        2009        2900251  Pittsburgh, PA          5822911   \n",
      "1            4132        2012        2900251  Pittsburgh, PA          5822911   \n",
      "\n",
      "        county_name  city_parcl_id        city_name  zip_parcl_id zip_code  \\\n",
      "0  Allegheny County        5377717  Pittsburgh city       5350774    15217   \n",
      "1  Allegheny County        5377717  Pittsburgh city       5350774    15217   \n",
      "\n",
      "   event_count  event_history_sale_flag  event_history_rental_flag  \\\n",
      "0           17                        1                          0   \n",
      "1            1                        1                          0   \n",
      "\n",
      "   event_history_listing_flag  current_new_construction_flag  \\\n",
      "0                           1                              0   \n",
      "1                           0                              1   \n",
      "\n",
      "   current_owner_occupied_flag  current_investor_owned_flag  \\\n",
      "0                            1                            0   \n",
      "1                            1                            0   \n",
      "\n",
      "  current_entity_owner_name  \n",
      "0                      None  \n",
      "1                      None  \n"
     ]
    }
   ],
   "source": [
    "# Alternatively, we can filter the search results to only include properties that have been listed for sale \n",
    "# using by uncommenting that parameter in the search_params dictionary above.\n",
    "search_params = {\n",
    "    'parcl_ids': [5377717],  # Required\n",
    "    'property_type': 'SINGLE_FAMILY',  # Required\n",
    "    #'current_entity_owner_name': 'NULL',  # Specify one of the options or 'NULL'\n",
    "    'square_footage_min': 4000,\n",
    "    'square_footage_max': 5000,\n",
    "    #'bedrooms_min': 2,\n",
    "    #'bedrooms_max': 4,\n",
    "    #'bathrooms_min': 2,\n",
    "    #'bathrooms_max': 3,\n",
    "    'year_built_min': 2000,\n",
    "    #'year_built_max': 2023,\n",
    "    'event_history_sale_flag': True,\n",
    "    #'event_history_rental_flag': False,\n",
    "    #'event_history_listing_flag': True,\n",
    "    #'current_new_construction_flag': False,\n",
    "    #'current_owner_occupied_flag': True,\n",
    "    #'current_investor_owned_flag': False\n",
    "}\n",
    "\n",
    "try:\n",
    "    search_results = client.property.search.retrieve(**search_params)\n",
    "    print(f\"Found {len(search_results)} properties matching the criteria.\")\n",
    "    print(search_results.head(2))\n",
    "except Exception as e:\n",
    "    print(f\"An error occurred while searching for properties: {str(e)}\")\n",
    "    print(\"Try adjusting your search parameters or checking your API key.\")"
   ]
  },
  {
   "cell_type": "markdown",
   "metadata": {},
   "source": [
    "Now that we have our subset of homes we can get the sale history associated with each property by using the\n",
    "`parcl_property_id` in the search_results dataframe and feeding those ids to the parcl labs client."
   ]
  },
  {
   "cell_type": "code",
   "execution_count": 30,
   "metadata": {},
   "outputs": [
    {
     "name": "stdout",
     "output_type": "stream",
     "text": [
      "|████████████████████████████████████████| 24/24 [100%] in 0.5s (52.16/s) \n",
      "Found 36 events matching the criteria.\n",
      "   parcl_property_id event_date event_type event_name     price  \\\n",
      "0           66128550 2016-08-24       SALE       SOLD       NaN   \n",
      "1           68822818 2011-02-16       SALE       SOLD  645000.0   \n",
      "\n",
      "   owner_occupied_flag  new_construction_flag  sale_index investor_flag  \\\n",
      "0                  0.0                      1           2          None   \n",
      "1                  1.0                      1           2          None   \n",
      "\n",
      "  entity_owner_name  \n",
      "0              None  \n",
      "1              None  \n"
     ]
    }
   ],
   "source": [
    "search_results_ids = search_results['parcl_property_id'].tolist()\n",
    "try:\n",
    "    sale_events = client.property.events.retrieve(\n",
    "        parcl_property_ids=search_results_ids,\n",
    "        event_type='SALE',\n",
    "        )\n",
    "    print(f\"Found {len(sale_events)} events matching the criteria.\")\n",
    "    print(sale_events.head(2))\n",
    "except Exception as e:\n",
    "    print(f\"An error occurred while searching for properties: {str(e)}\")\n",
    "    print(\"Try adjusting your search parameters or checking your API key.\")"
   ]
  },
  {
   "cell_type": "markdown",
   "metadata": {},
   "source": [
    "We can also search for all events related to the properties in the search results by modifying the `event_type` parameter when looking for event history."
   ]
  },
  {
   "cell_type": "code",
   "execution_count": 32,
   "metadata": {},
   "outputs": [
    {
     "name": "stdout",
     "output_type": "stream",
     "text": [
      "|████████████████████████████████████████| 24/24 [100%] in 0.3s (75.69/s) \n",
      "Found 96 events matching the criteria.\n",
      "   parcl_property_id event_date event_type event_name     price  \\\n",
      "0           66128550 2016-08-24       SALE       SOLD       NaN   \n",
      "1           68822818 2011-02-16       SALE       SOLD  645000.0   \n",
      "\n",
      "   owner_occupied_flag  new_construction_flag  sale_index investor_flag  \\\n",
      "0                  0.0                      1           2          None   \n",
      "1                  1.0                      1           2          None   \n",
      "\n",
      "  entity_owner_name  \n",
      "0              None  \n",
      "1              None  \n"
     ]
    }
   ],
   "source": [
    "# Re run results for for all event types \n",
    "# Define the event_type to all\n",
    "event_type = 'ALL'\n",
    "try:\n",
    "    all_events = client.property.events.retrieve(\n",
    "        parcl_property_ids=search_results_ids,\n",
    "        event_type=event_type,\n",
    "        )\n",
    "    print(f\"Found {len(all_events)} events matching the criteria.\")\n",
    "    print(all_events.head(2))\n",
    "except Exception as e:\n",
    "    print(f\"An error occurred while searching for properties: {str(e)}\")\n",
    "    print(\"Try adjusting your search parameters or checking your API key.\")"
   ]
  },
  {
   "cell_type": "code",
   "execution_count": 33,
   "metadata": {},
   "outputs": [
    {
     "name": "stdout",
     "output_type": "stream",
     "text": [
      "Final data shape: (96, 39)\n"
     ]
    }
   ],
   "source": [
    "# now that we have the sale events, we can download the data to a CSV file\n",
    "final_data_events = all_events.merge(search_results, on='parcl_property_id', how='left')\n",
    "print(f\"Final data shape: {final_data_events.shape}\")"
   ]
  },
  {
   "cell_type": "code",
   "execution_count": 27,
   "metadata": {},
   "outputs": [
    {
     "name": "stdout",
     "output_type": "stream",
     "text": [
      "Final data shape: (36, 39)\n"
     ]
    }
   ],
   "source": [
    "# Save the event results to a CSV file\n",
    "events_filename = f'property_events_{event_type}_{datetime.now().strftime(\"%Y%m%d_%H%M%S\")}.csv'\n",
    "events_file_path = os.path.join(download_dir, events_filename)\n",
    "final_data_events.to_csv(events_file_path, index=False)\n",
    "print(f\"Event history saved to {events_file_path}\")\n",
    "print(f\"Total events retrieved: {len(final_data_events)}\")"
   ]
  }
 ],
 "metadata": {
  "kernelspec": {
   "display_name": "parcllabs-env",
   "language": "python",
   "name": "python3"
  },
  "language_info": {
   "codemirror_mode": {
    "name": "ipython",
    "version": 3
   },
   "file_extension": ".py",
   "mimetype": "text/x-python",
   "name": "python",
   "nbconvert_exporter": "python",
   "pygments_lexer": "ipython3",
   "version": "3.11.9"
  }
 },
 "nbformat": 4,
 "nbformat_minor": 2
}
