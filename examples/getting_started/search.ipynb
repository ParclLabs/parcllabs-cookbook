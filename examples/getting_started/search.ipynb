{
 "cells": [
  {
   "cell_type": "markdown",
   "metadata": {},
   "source": [
    "# Welcome to the Lab 🥼🧪\n",
    "## How do I search markets?\n",
    "\n",
    "In this notebook, we will develop a basic intuition of how the search, the methods, and how downloading works\n",
    "\n",
    "The Parcl Labs API includes +70k markets, each with a unique identifier called the parcl_id. The search feature allows you to retrieve these parcl_ids, enabling you to use the rest of the API to pull data about markets.\n",
    "\n",
    "NOTE: Using the search feature does not count against your credits.\n",
    "\n",
    "As a reminder, you can get your Parcl Labs API key [here](https://dashboard.parcllabs.com/signup) to follow along. \n",
    "\n",
    "To view the technical docs for this endpoint, click [here](https://docs.parcllabs.com/reference/search_markets_v1_search_markets_get-1)\n",
    "\n",
    "To run this immediately, you can use Google Colab. Remember, you must set your `PARCL_LABS_API_KEY`.\n",
    "\n",
    "[![Open in Colab](https://colab.research.google.com/assets/colab-badge.svg)](https://colab.research.google.com/github/ParclLabs/parcllabs-cookbook/blob/main/examples/getting_started/search.ipynb)"
   ]
  },
  {
   "cell_type": "markdown",
   "metadata": {},
   "source": [
    "### 1. Import the Parcl Labs Python Library"
   ]
  },
  {
   "cell_type": "code",
   "execution_count": null,
   "metadata": {},
   "outputs": [],
   "source": [
    "# if needed, install and/or upgrade to the latest verison of the Parcl Labs Python library\n",
    "%pip install --upgrade parcllabs"
   ]
  },
  {
   "cell_type": "code",
   "execution_count": null,
   "metadata": {},
   "outputs": [],
   "source": [
    "import os\n",
    "import pandas as pd\n",
    "from parcllabs import ParclLabsClient\n",
    "\n",
    "client = ParclLabsClient(\n",
    "    api_key=os.environ.get('PARCL_LABS_API_KEY', \"<your Parcl Labs API key if not set as environment variable>\"), \n",
    "    limit=12 # set default limit\n",
    ")"
   ]
  },
  {
   "cell_type": "markdown",
   "metadata": {},
   "source": [
    "### 2. Search Markets\n",
    "Parcl Labs supports over 70,000 housing markets across the United States. This includes:\n",
    "- Zip Codes\n",
    "- Cities\n",
    "- Counties\n",
    "- Metro Areas"
   ]
  },
  {
   "cell_type": "code",
   "execution_count": null,
   "metadata": {},
   "outputs": [],
   "source": [
    "# Search for a specific market by name and type\n",
    "# In this case, we are going to search for New York CBSA (Core Based Statistical Area, also known as Metro Area)\n",
    "market = client.search.markets.retrieve(\n",
    "    query='New York',\n",
    "    location_type='CBSA',\n",
    ")\n",
    "\n",
    "market"
   ]
  },
  {
   "cell_type": "code",
   "execution_count": null,
   "metadata": {},
   "outputs": [],
   "source": [
    "# The key thing to note here is the parcl_id, which is the unique identifier for the market.\n",
    "# This allows us to distinguish between different markets with the same name, and have a central language for describing geographic areas. \n",
    "# Why can't we use FIPS codes? Boundaries change over time, a parcl_id is unique to a boundary at a point in time. \n",
    "# Fips codes can also also start with 0, which can cause issues with some programming languages and data conversions.\n",
    "\n",
    "print(f\"Market Parcl ID: {market['parcl_id'][0]} -- Market Name: {market['name'][0]}\")"
   ]
  },
  {
   "cell_type": "code",
   "execution_count": null,
   "metadata": {},
   "outputs": [],
   "source": [
    "# Now lets say you want to do analysis for the entire country\n",
    "market_df = client.search.markets.retrieve(\n",
    "    query='United States'\n",
    ")\n",
    "\n",
    "market_df"
   ]
  },
  {
   "cell_type": "code",
   "execution_count": null,
   "metadata": {},
   "outputs": [],
   "source": [
    "# Now lets search for New York City, the 5 boroughs of New York\n",
    "market_df = client.search.markets.retrieve(\n",
    "    query='New York City',\n",
    "    location_type='CITY',\n",
    ")\n",
    "\n",
    "market_df"
   ]
  },
  {
   "cell_type": "code",
   "execution_count": null,
   "metadata": {},
   "outputs": [],
   "source": [
    "# Now lets search for a specific zip code in New York City\n",
    "market_df = client.search.markets.retrieve(\n",
    "    query='10013',\n",
    "    location_type='ZIP5',\n",
    ")\n",
    "market_df"
   ]
  },
  {
   "cell_type": "code",
   "execution_count": null,
   "metadata": {},
   "outputs": [],
   "source": [
    "# Now lets search for all zip codes in New York\n",
    "market_df = client.search.markets.retrieve(\n",
    "    state_abbreviation='NY',\n",
    "    location_type='ZIP5',\n",
    "    limit=1000,  # expand the default limit of 12 to 1000\n",
    "    auto_paginate=True # Traverse all results until we have obtained all the zip codes\n",
    ")\n",
    "market_df"
   ]
  },
  {
   "cell_type": "code",
   "execution_count": null,
   "metadata": {},
   "outputs": [],
   "source": [
    "# now lets say we know the parcl_id and want to get the market details\n",
    "market_df = client.search.markets.retrieve(\n",
    "    parcl_id=2900187, # New York CBSA\n",
    ")\n",
    "market_df"
   ]
  },
  {
   "cell_type": "code",
   "execution_count": null,
   "metadata": {},
   "outputs": [],
   "source": [
    "# Now lets say we organize our data interally by fips codes and want to get the market details\n",
    "# and the parcl_id's to join against external data\n",
    "fips = [\n",
    "    '36061', # New York County\n",
    "    '36047', # Kings County\n",
    "    '36081', # Queens County\n",
    "    '36085', # Richmond County\n",
    "    '36005', # Bronx County\n",
    "]\n",
    "\n",
    "all_markets = []\n",
    "\n",
    "for fip in fips:\n",
    "    market_df = client.search.markets.retrieve(\n",
    "        geoid=fip,\n",
    "    )\n",
    "    all_markets.append(market_df)\n",
    "\n",
    "all_markets_df = pd.concat(all_markets)\n",
    "all_markets_df"
   ]
  },
  {
   "cell_type": "code",
   "execution_count": null,
   "metadata": {},
   "outputs": [],
   "source": [
    "# Now lets say I want the top 100 metros in the country based on population\n",
    "market_df = client.search.markets.retrieve(\n",
    "    location_type='CBSA',\n",
    "    sort_by='TOTAL_POPULATION',\n",
    "    sort_order='DESC', # most populous first\n",
    "    limit=100 # truncate to top 100\n",
    ")\n",
    "\n",
    "market_df.head(5)"
   ]
  },
  {
   "cell_type": "code",
   "execution_count": null,
   "metadata": {},
   "outputs": [],
   "source": [
    "# same query except with income\n",
    "market_df = client.search.markets.retrieve(\n",
    "    location_type='CBSA',\n",
    "    sort_by='MEDIAN_INCOME',\n",
    "    sort_order='DESC', # most populous first\n",
    "    limit=100 # truncate to top 100\n",
    ")\n",
    "\n",
    "market_df.head(5)"
   ]
  },
  {
   "cell_type": "code",
   "execution_count": null,
   "metadata": {},
   "outputs": [],
   "source": [
    "# Now lets say you want all cities in EAST_NORTH_CENTRAL Census Region, ordered\n",
    "# by total_population\n",
    "market_df = client.search.markets.retrieve(\n",
    "    region='EAST_NORTH_CENTRAL',\n",
    "    location_type='CITY',\n",
    "    limit=1000,  # expand the default limit of 12 to 1000\n",
    "    sort_by='TOTAL_POPULATION',\n",
    "    sort_order='DESC', # most populous first\n",
    "    auto_paginate=True # Traverse all results until we have obtained all the zip codes\n",
    ")\n",
    "\n",
    "market_df.head(5)"
   ]
  },
  {
   "cell_type": "code",
   "execution_count": null,
   "metadata": {},
   "outputs": [],
   "source": [
    "# Now lets say you want all markets that we have a daily price feed for\n",
    "market_df = client.search.markets.retrieve(\n",
    "    sort_by='PRICEFEED_MARKET',\n",
    "    limit=100,  # expand the default limit of 12 to 1000\n",
    ")\n",
    "\n",
    "market_df.head(5)"
   ]
  },
  {
   "cell_type": "code",
   "execution_count": null,
   "metadata": {},
   "outputs": [],
   "source": [
    "# Now lets say you want all price feed markets that are on the parcl exchange\n",
    "market_df = client.search.markets.retrieve(\n",
    "    sort_by='PARCL_EXCHANGE_MARKET',\n",
    "    limit=15,  # expand the default limit of 12 to 1000\n",
    ")\n",
    "\n",
    "market_df"
   ]
  },
  {
   "cell_type": "markdown",
   "metadata": {},
   "source": [
    "### 3. Retrieve data about markets"
   ]
  },
  {
   "cell_type": "code",
   "execution_count": null,
   "metadata": {},
   "outputs": [],
   "source": [
    "# Now you have a basic understanding of search. It's very powerful and the entry point to the Parcl Labs ecosystem. \n",
    "# It's scalable across all endpoints, for example\n",
    "\n",
    "# find supply/demand for many markets\n",
    "supply_demand = client.market_metrics.housing_event_counts.retrieve(\n",
    "    parcl_ids=market_df['parcl_id'].tolist(),\n",
    "    limit=1 # get most recent\n",
    ")\n",
    "\n",
    "supply_demand # note 5826765 corresponds to the entire country"
   ]
  }
 ],
 "metadata": {
  "kernelspec": {
   "display_name": "parcllabs-env",
   "language": "python",
   "name": "python3"
  },
  "language_info": {
   "codemirror_mode": {
    "name": "ipython",
    "version": 3
   },
   "file_extension": ".py",
   "mimetype": "text/x-python",
   "name": "python",
   "nbconvert_exporter": "python",
   "pygments_lexer": "ipython3",
   "version": "3.1.-1"
  }
 },
 "nbformat": 4,
 "nbformat_minor": 2
}
