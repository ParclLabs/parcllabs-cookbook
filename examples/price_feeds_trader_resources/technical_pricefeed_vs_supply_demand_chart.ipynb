{
 "cells": [
  {
   "cell_type": "markdown",
   "metadata": {},
   "source": [
    "# Welcome to the Lab 🥼🧪\n",
    "\n",
    "Create techincal charts to analyze pricing behavior against demand. "
   ]
  },
  {
   "cell_type": "code",
   "execution_count": null,
   "metadata": {},
   "outputs": [],
   "source": [
    "import os\n",
    "import sys\n",
    "import json\n",
    "\n",
    "# Collab setup from one click above\n",
    "if \"google.colab\" in sys.modules:\n",
    "    from google.colab import userdata\n",
    "    %pip install parcllabs plotly kaleido numpy\n",
    "    !git clone https://github.com/ParclLabs/parcllabs-cookbook.git\n",
    "    sys.path.append('/content/parcllabs-cookbook/examples/')\n",
    "    api_key = userdata.get('PARCL_LABS_API_KEY')\n",
    "else:\n",
    "    api_key = os.getenv('PARCL_LABS_API_KEY')\n",
    "    cur_dir = os.getcwd()\n",
    "    chart_dir = os.path.join(cur_dir, '..')\n",
    "    sys.path.append(chart_dir)"
   ]
  },
  {
   "cell_type": "code",
   "execution_count": null,
   "metadata": {},
   "outputs": [],
   "source": [
    "import parcllabs\n",
    "import numpy as np\n",
    "import pandas as pd\n",
    "import plotly.graph_objects as go\n",
    "from parcllabs import ParclLabsClient\n",
    "\n",
    "api_key = os.getenv('PARCL_LABS_API_KEY')\n",
    "print(f\"Parcl Labs Version: {parcllabs.__version__}\")"
   ]
  },
  {
   "cell_type": "code",
   "execution_count": null,
   "metadata": {},
   "outputs": [],
   "source": [
    "# import technical charts\n",
    "from charting.pricefeed_utils import TimeSeriesAnalysis\n",
    "from charting.name_formats import format_names, create_ticker, format_cs_10_names\n",
    "from charting.technical_charts import technical_pricefeed_charts, calculate_stats\n"
   ]
  },
  {
   "cell_type": "code",
   "execution_count": null,
   "metadata": {},
   "outputs": [],
   "source": [
    "# Initialize the Parcl Labs client\n",
    "client = ParclLabsClient(api_key)"
   ]
  },
  {
   "cell_type": "code",
   "execution_count": null,
   "metadata": {},
   "outputs": [],
   "source": [
    "# set nb config\n",
    "pf_options = {\n",
    "    'rental': 'rental_price_feed',\n",
    "    'pricefeed': 'price_feed'\n",
    "}\n",
    "\n",
    "PF_TYPE = pf_options['pricefeed']"
   ]
  },
  {
   "cell_type": "code",
   "execution_count": null,
   "metadata": {},
   "outputs": [],
   "source": [
    "# Get top 100 CBSAs by population\n",
    "markets = client.search_markets.retrieve(\n",
    "    as_dataframe=True,\n",
    "    sort_by='PARCL_EXCHANGE_MARKET',\n",
    "    sort_order='DESC',\n",
    "    params={\n",
    "        'limit': 15\n",
    "    }\n",
    ")\n",
    "markets['clean_name'] = markets['name'].apply(format_cs_10_names)\n",
    "markets['ticker'] = markets['clean_name'].apply(create_ticker)\n",
    "markets"
   ]
  },
  {
   "cell_type": "code",
   "execution_count": null,
   "metadata": {},
   "outputs": [],
   "source": [
    "# lets retrieve data back to 2011 for these price feeds\n",
    "START_DATE = '2019-01-01'\n",
    "feeds = client.price_feed.retrieve_many(\n",
    "    parcl_ids=markets['parcl_id'].tolist(),\n",
    "    start_date=START_DATE,\n",
    "    as_dataframe=True,\n",
    "    params={'limit': 1000},  # expand the limit to 1000, these are daily series\n",
    "    auto_paginate=True, # auto paginate to get all the data - WARNING: ~6k credits can be used in one parcl price feed. Change the START_DATE to a more recent date to reduce the number of credits used\n",
    ")"
   ]
  },
  {
   "cell_type": "code",
   "execution_count": null,
   "metadata": {},
   "outputs": [],
   "source": [
    "# get supply and demand\n",
    "demand = client.market_metrics_housing_event_counts.retrieve_many(\n",
    "    parcl_ids=markets['parcl_id'].tolist(),\n",
    "    start_date=START_DATE,\n",
    "    as_dataframe=True,\n",
    "    params={'limit': 1000},  # expand the limit to 1000, these are daily series\n",
    ")"
   ]
  },
  {
   "cell_type": "code",
   "execution_count": null,
   "metadata": {},
   "outputs": [],
   "source": [
    "LAST_CS_UPDATE = '2024-03-31'\n",
    "TICKER_MESSAGE = \"<b>{ticker}</b> {name} Parcl Exchange\"\n",
    "\n",
    "for pid in markets['parcl_id']:\n",
    "\n",
    "    mf = feeds[feeds['parcl_id'] == pid]\n",
    "    df = demand[demand['parcl_id'] == pid]\n",
    "    supply = demand[demand['parcl_id'] == pid]\n",
    "\n",
    "    # Ensure the DataFrame is sorted by date and calculate daily return\n",
    "    mf = mf.sort_values('date')\n",
    "    last_pricefeed_value = mf['price_feed'].iloc[-1]\n",
    "    last_pricefeed_date_str = mf['date'].iloc[-1]\n",
    "    last_pricefeed_date = pd.to_datetime(last_pricefeed_date_str).strftime('%-d %B')\n",
    "    last_pf_date = pd.to_datetime(last_pricefeed_date_str).strftime('%-d-%B-%Y')\n",
    "    mf['date'] = pd.to_datetime(mf['date'])\n",
    "    mf['daily_return'] = mf['price_feed'].pct_change()\n",
    "    mf = mf.dropna()  # Remove rows with NaN values resulting from pct_change calculation\n",
    "\n",
    "    mf['month'] = mf['date'].dt.to_period('M')\n",
    "    monthly_return = mf.groupby('month')['price_feed'].agg(lambda x: x.iloc[-1] / x.iloc[0] - 1).reset_index(name='volColor')\n",
    "    df = df.sort_values('date')\n",
    "    supply = supply.sort_values('date')\n",
    "    last_sales_value = df['sales'].iloc[-1]\n",
    "    last_sales_month = pd.to_datetime(df['date'].iloc[-1]).strftime('%b')\n",
    "    last_supply_value = supply['new_listings_for_sale'].iloc[-1]\n",
    "    last_supply_month = supply['date'].iloc[-1]\n",
    "    df['date'] = pd.to_datetime(df['date'])\n",
    "    df['month'] = df['date'].dt.to_period('M')\n",
    "    supply['date'] = pd.to_datetime(supply['date'])\n",
    "    supply['month'] = supply['date'].dt.to_period('M')\n",
    "    df = df.merge(monthly_return, on='month')\n",
    "    supply = supply.merge(monthly_return, on='month')\n",
    "\n",
    "    # Add volColor column directly to data_secondary\n",
    "    df['volColor'] = np.where(df['volColor'] >= 0, 'green', 'red')  # Modify this condition as per your actual data logic\n",
    "    supply['volColor'] = np.where(supply['volColor'] >= 0, 'green', 'red')  # Modify this condition as per your actual data logic\n",
    "    ticker = markets[markets['parcl_id'] == pid]['ticker'].values[0]\n",
    "    name = markets[markets['parcl_id'] == pid]['clean_name'].values[0]\n",
    "\n",
    "    high_52w, low_52w, last_value, yoy_change_delta, yoy_change_pct, yoy_sign = calculate_stats(mf)\n",
    "    msg = f\"<b>52w High</b> {high_52w:.2f} <b>52w Low</b> {low_52w:.2f} <b>Last</b> {last_value:.2f} <b>YoY Change</b> {round(yoy_change_delta, 2)} ({yoy_change_pct*100:.02f}%)\"\n",
    "    # msg = f\"52w High ${high_52w:.2f} 52w Low ${low_52w:.2f} Last ${last_value:.2f} YoY Change {round(yoy_change_delta, 2)} ({yoy_change_pct:.2f}%)\"\n",
    "    volume_msg = f'Sales Volume (Monthly) {last_sales_value:,} ({last_sales_month})'\n",
    "    pricefeed_msg = f'{ticker} (Daily) ${last_pricefeed_value} ({last_pricefeed_date})'\n",
    "    ticker_msg = TICKER_MESSAGE.format(ticker=ticker, name=name)\n",
    "\n",
    "    pf_ts_analysis = TimeSeriesAnalysis(mf, 'date', 'price_feed', freq='D')\n",
    "    pf_rate_of_change_stats = pf_ts_analysis.calculate_changes(change_since_date=LAST_CS_UPDATE)\n",
    "\n",
    "    demand_ts_analysis = TimeSeriesAnalysis(df, 'date', 'sales', freq='M')\n",
    "    demand_rate_of_change_stats = demand_ts_analysis.calculate_changes(change_since_date=LAST_CS_UPDATE)\n",
    "\n",
    "    rate_of_change_analysis = {\n",
    "        'name': name,\n",
    "        'parcl_id': pid,\n",
    "        'pricefeed': pf_rate_of_change_stats,\n",
    "        'demand': demand_rate_of_change_stats\n",
    "    }\n",
    "\n",
    "    # dump output\n",
    "    with open(f'../../graphics/pf_vs_volume_charts/parcl_exchange/2024-06-17/{name}_pf_vs_volume.json', 'w') as f:\n",
    "        json.dump(rate_of_change_analysis, f)\n",
    "\n",
    "    technical_pricefeed_charts(\n",
    "        data_main=mf,\n",
    "        data_secondary=df,\n",
    "        value_name_main='price_feed',\n",
    "        value_name_secondary='sales',\n",
    "        ticker_msg=ticker_msg,  \n",
    "        msg=msg,\n",
    "        volume_msg=volume_msg,\n",
    "        pricefeed_msg=pricefeed_msg,\n",
    "        last_pf_date=last_pf_date,\n",
    "        save_path=f'../../graphics/pf_vs_volume_charts/parcl_exchange/2024-06-17/{name}_pf_vs_volume.png'\n",
    "    )"
   ]
  },
  {
   "cell_type": "code",
   "execution_count": null,
   "metadata": {},
   "outputs": [],
   "source": []
  }
 ],
 "metadata": {
  "kernelspec": {
   "display_name": "parcllabs-env",
   "language": "python",
   "name": "python3"
  },
  "language_info": {
   "codemirror_mode": {
    "name": "ipython",
    "version": 3
   },
   "file_extension": ".py",
   "mimetype": "text/x-python",
   "name": "python",
   "nbconvert_exporter": "python",
   "pygments_lexer": "ipython3",
   "version": "3.12.3"
  }
 },
 "nbformat": 4,
 "nbformat_minor": 2
}
