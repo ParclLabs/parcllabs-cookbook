{
 "cells": [
  {
   "cell_type": "code",
   "execution_count": 1,
   "metadata": {},
   "outputs": [],
   "source": [
    "import os\n",
    "from parcllabs import ParclLabsClient\n",
    "import plotly.express as px\n",
    "import requests\n",
    "import pandas as pd"
   ]
  },
  {
   "cell_type": "code",
   "execution_count": 2,
   "metadata": {},
   "outputs": [],
   "source": [
    "api_key = os.getenv(\"PARCL_LABS_API_KEY\")\n",
    "client = ParclLabsClient(api_key, turbo_mode=True)\n",
    "\n",
    "houston_parcl_id = 5381035"
   ]
  },
  {
   "cell_type": "code",
   "execution_count": 3,
   "metadata": {},
   "outputs": [],
   "source": [
    "payload = {\n",
    "    \"event_filters\": {\n",
    "        \"event_names\": [\"LISTED_SALE\", \"SOLD\"],\n",
    "        \"max_event_date\": \"2025-04-18\",\n",
    "        \"min_event_date\": \"2024-01-01\",\n",
    "    },\n",
    "    \"owner_filters\": {\n",
    "        \"is_investor_owned\": False,\n",
    "        \"is_owner_occupied\": True,\n",
    "    },\n",
    "    \"parcl_ids\": [houston_parcl_id],\n",
    "    \"property_filters\": {\n",
    "        \"property_types\": [\"SINGLE_FAMILY\", \"CONDO\", \"TOWNHOUSE\"],\n",
    "    },\n",
    "}\n"
   ]
  },
  {
   "cell_type": "code",
   "execution_count": 4,
   "metadata": {},
   "outputs": [
    {
     "name": "stdout",
     "output_type": "stream",
     "text": [
      "https://api.parcllabs.com/v2/property_search?limit=1000&offset=0\n",
      "Fetched 1000 records. Total so far: 1000\n",
      "https://api.parcllabs.com/v2/property_search?limit=1000&offset=1000\n",
      "Fetched 1000 records. Total so far: 2000\n",
      "https://api.parcllabs.com/v2/property_search?limit=1000&offset=2000\n",
      "Fetched 1000 records. Total so far: 3000\n",
      "https://api.parcllabs.com/v2/property_search?limit=1000&offset=3000\n",
      "Fetched 1000 records. Total so far: 4000\n",
      "https://api.parcllabs.com/v2/property_search?limit=1000&offset=4000\n",
      "Fetched 1000 records. Total so far: 5000\n",
      "https://api.parcllabs.com/v2/property_search?limit=1000&offset=5000\n",
      "Fetched 1000 records. Total so far: 6000\n",
      "https://api.parcllabs.com/v2/property_search?limit=1000&offset=6000\n",
      "Fetched 1000 records. Total so far: 7000\n",
      "https://api.parcllabs.com/v2/property_search?limit=1000&offset=7000\n",
      "Fetched 1000 records. Total so far: 8000\n",
      "https://api.parcllabs.com/v2/property_search?limit=1000&offset=8000\n",
      "Fetched 1000 records. Total so far: 9000\n",
      "https://api.parcllabs.com/v2/property_search?limit=1000&offset=9000\n",
      "Fetched 1000 records. Total so far: 10000\n",
      "https://api.parcllabs.com/v2/property_search?limit=1000&offset=10000\n",
      "Fetched 1000 records. Total so far: 11000\n",
      "https://api.parcllabs.com/v2/property_search?limit=1000&offset=11000\n",
      "Fetched 1000 records. Total so far: 12000\n",
      "https://api.parcllabs.com/v2/property_search?limit=1000&offset=12000\n",
      "Fetched 1000 records. Total so far: 13000\n",
      "https://api.parcllabs.com/v2/property_search?limit=1000&offset=13000\n",
      "Fetched 1000 records. Total so far: 14000\n",
      "https://api.parcllabs.com/v2/property_search?limit=1000&offset=14000\n",
      "Fetched 1000 records. Total so far: 15000\n",
      "https://api.parcllabs.com/v2/property_search?limit=1000&offset=15000\n",
      "Fetched 1000 records. Total so far: 16000\n",
      "https://api.parcllabs.com/v2/property_search?limit=1000&offset=16000\n",
      "Fetched 1000 records. Total so far: 17000\n",
      "https://api.parcllabs.com/v2/property_search?limit=1000&offset=17000\n",
      "Fetched 1000 records. Total so far: 18000\n",
      "https://api.parcllabs.com/v2/property_search?limit=1000&offset=18000\n",
      "Fetched 1000 records. Total so far: 19000\n",
      "https://api.parcllabs.com/v2/property_search?limit=1000&offset=19000\n",
      "Fetched 1000 records. Total so far: 20000\n",
      "https://api.parcllabs.com/v2/property_search?limit=1000&offset=20000\n",
      "Fetched 1000 records. Total so far: 21000\n",
      "https://api.parcllabs.com/v2/property_search?limit=1000&offset=21000\n",
      "Fetched 1000 records. Total so far: 22000\n",
      "https://api.parcllabs.com/v2/property_search?limit=1000&offset=22000\n",
      "Fetched 1000 records. Total so far: 23000\n",
      "https://api.parcllabs.com/v2/property_search?limit=1000&offset=23000\n",
      "Fetched 511 records. Total so far: 23511\n",
      "Total listings fetched: 23511\n"
     ]
    }
   ],
   "source": [
    "def fetch_listings(payload, limit=1000):\n",
    "    offset = 0\n",
    "    headers = {\"Authorization\": api_key, \"Content-Type\": \"application/json\"}\n",
    "\n",
    "    all_results = []\n",
    "    \n",
    "    while True:\n",
    "        # Add pagination parameters to payload\n",
    "        current_payload = payload.copy()\n",
    "        base_url = f\"https://api.parcllabs.com/v2/property_search?limit={limit}&offset={offset}\"\n",
    "        print(base_url)\n",
    "\n",
    "        response = requests.post(base_url, headers=headers, json=current_payload)\n",
    "\n",
    "        if response.status_code != 200:\n",
    "            print(f\"Error: {response.status_code}\")\n",
    "            print(response.text)\n",
    "            break\n",
    "\n",
    "        data = response.json()\n",
    "        results = data.get(\"data\", [])\n",
    "\n",
    "        if not results:\n",
    "            break\n",
    "\n",
    "        all_results.extend(results)\n",
    "        offset += limit\n",
    "\n",
    "        print(f\"Fetched {len(results)} records. Total so far: {len(all_results)}\")\n",
    "\n",
    "        # Use has_more from the response to determine if we should continue\n",
    "        if data.get(\"pagination\", {}).get(\"has_more\", False) == False:\n",
    "            break\n",
    "\n",
    "    return all_results\n",
    "\n",
    "\n",
    "# Fetch all listings\n",
    "listing_events = fetch_listings(payload)\n",
    "print(f\"Total listings fetched: {len(listing_events)}\")"
   ]
  },
  {
   "cell_type": "code",
   "execution_count": 24,
   "metadata": {},
   "outputs": [],
   "source": [
    "# TODO:\n",
    "# convert to dataframe, each row is an event\n",
    "# each event should be mapped to a month and year and price level\n",
    "# create a new dataframe that aggregates/counts the events by month and year and price level and property type and zip code\n",
    "\n",
    "# Create a list to store flattened data\n",
    "flattened_data = []\n",
    "\n",
    "# Process each property and its events\n",
    "for property_data in listing_events:\n",
    "    property_meta = property_data[\"property_metadata\"]\n",
    "    for event in property_data[\"events\"]:\n",
    "        # Create a flat record combining property metadata and event data\n",
    "        record = {\n",
    "            \"parcl_property_id\": property_data[\"parcl_property_id\"],\n",
    "            \"address\": f\"{property_meta['address1']} {property_meta['address2'] or ''}\".strip(),\n",
    "            \"city\": property_meta[\"city\"],\n",
    "            \"state\": property_meta[\"state\"],\n",
    "            \"zip5\": property_meta[\"zip5\"],\n",
    "            \"latitude\": property_meta[\"latitude\"],\n",
    "            \"longitude\": property_meta[\"longitude\"],\n",
    "            \"property_type\": property_meta[\"property_type\"],\n",
    "            \"bedrooms\": property_meta[\"bedrooms\"],\n",
    "            \"bathrooms\": property_meta[\"bathrooms\"],\n",
    "            \"sq_ft\": property_meta[\"sq_ft\"],\n",
    "            \"year_built\": property_meta[\"year_built\"],\n",
    "            \"event_date\": event[\"event_date\"],\n",
    "            \"event_name\": event[\"event_name\"],\n",
    "            \"price\": event[\"price\"],\n",
    "            \"investor_flag\": event[\"investor_flag\"],\n",
    "            \"owner_occupied_flag\": event[\"owner_occupied_flag\"],\n",
    "        }\n",
    "        flattened_data.append(record)\n",
    "\n",
    "# Convert to DataFrame\n",
    "df = pd.DataFrame(flattened_data)\n",
    "\n",
    "# Convert event_date to datetime\n",
    "df[\"event_date\"] = pd.to_datetime(df[\"event_date\"])\n",
    "\n",
    "# Add month and year columns as datetime\n",
    "df[\"month\"] = df[\"event_date\"].dt.strftime(\"%Y-%m\")\n",
    "df[\"year\"] = df[\"event_date\"].dt.strftime(\"%Y\")\n",
    "\n",
    "# Create price level bins\n",
    "price_bins = [0, 250000, 500000, 750000, 1000000, float(\"inf\")]\n",
    "price_labels = [\n",
    "    \"<$250K\",\n",
    "    \"$250K-$500K\",\n",
    "    \"$500K-$750K\",\n",
    "    \"$750K-$1M\",\n",
    "    \">$1M\",\n",
    "]\n",
    "df[\"price_level\"] = pd.cut(df[\"price\"], bins=price_bins, labels=price_labels)\n"
   ]
  },
  {
   "cell_type": "code",
   "execution_count": 25,
   "metadata": {},
   "outputs": [
    {
     "name": "stdout",
     "output_type": "stream",
     "text": [
      "    year    month  price_level   event_name  price_count    price_mean  \\\n",
      "0   2024  2024-01       <$250K  LISTED_SALE          218  1.842344e+05   \n",
      "1   2024  2024-01       <$250K         SOLD          132  1.891845e+05   \n",
      "2   2024  2024-01  $250K-$500K  LISTED_SALE          396  3.597185e+05   \n",
      "3   2024  2024-01  $250K-$500K         SOLD          232  3.512255e+05   \n",
      "4   2024  2024-01  $500K-$750K  LISTED_SALE          166  6.196684e+05   \n",
      "5   2024  2024-01  $500K-$750K         SOLD           78  6.020864e+05   \n",
      "6   2024  2024-01    $750K-$1M  LISTED_SALE           82  8.744244e+05   \n",
      "7   2024  2024-01    $750K-$1M         SOLD           38  8.844036e+05   \n",
      "8   2024  2024-01         >$1M  LISTED_SALE          115  2.152081e+06   \n",
      "9   2024  2024-01         >$1M         SOLD           28  1.952635e+06   \n",
      "10  2024  2024-02       <$250K  LISTED_SALE          252  1.875419e+05   \n",
      "11  2024  2024-02       <$250K         SOLD          127  1.911096e+05   \n",
      "12  2024  2024-02  $250K-$500K  LISTED_SALE          416  3.680087e+05   \n",
      "13  2024  2024-02  $250K-$500K         SOLD          267  3.559267e+05   \n",
      "14  2024  2024-02  $500K-$750K  LISTED_SALE          205  6.166981e+05   \n",
      "15  2024  2024-02  $500K-$750K         SOLD           90  6.135808e+05   \n",
      "16  2024  2024-02    $750K-$1M  LISTED_SALE           73  8.602475e+05   \n",
      "17  2024  2024-02    $750K-$1M         SOLD           42  8.621390e+05   \n",
      "18  2024  2024-02         >$1M  LISTED_SALE          101  2.245630e+06   \n",
      "19  2024  2024-02         >$1M         SOLD           27  1.456402e+06   \n",
      "\n",
      "    price_min   price_max   sq_ft_mean  bedrooms_mean  bathrooms_mean  \n",
      "0      3200.0    250000.0  1247.633028       2.371560        1.825688  \n",
      "1      2000.0    250000.0  1404.511450       2.856061        1.795455  \n",
      "2    252000.0    500000.0  1973.909091       3.136364        2.421717  \n",
      "3    251322.0    500000.0  2011.471861       3.267241        2.370690  \n",
      "4    508000.0    750000.0  2319.969880       3.210843        2.753012  \n",
      "5    504625.0    750000.0  2543.675325       3.358974        2.935897  \n",
      "6    755000.0   1000000.0  3088.353659       3.695122        3.396341  \n",
      "7    757302.0    968750.0  3325.000000       3.921053        3.407895  \n",
      "8   1030000.0  27500000.0  4464.034783       3.939130        4.052174  \n",
      "9   1054688.0   4990000.0  4910.035714       4.428571        4.821429  \n",
      "10    73000.0    250000.0  1270.317460       2.357143        1.740079  \n",
      "11    10000.0    250000.0  1430.488189       2.826772        1.822835  \n",
      "12   251500.0    500000.0  2012.495192       3.151442        2.418269  \n",
      "13   251125.0    500000.0  2062.266917       3.292135        2.432584  \n",
      "14   505000.0    750000.0  2432.668293       3.234146        2.748780  \n",
      "15   500625.0    750000.0  2516.166667       3.433333        2.966667  \n",
      "16   759000.0    999000.0  2928.931507       3.356164        3.095890  \n",
      "17   759375.0    958188.0  3062.619048       3.785714        3.250000  \n",
      "18  1035000.0  27000000.0  4489.188119       4.009901        4.143564  \n",
      "19  1037500.0   2154375.0  4328.481481       4.407407        4.370370  \n"
     ]
    },
    {
     "name": "stderr",
     "output_type": "stream",
     "text": [
      "/var/folders/h2/y9j3mt3n5dnfz4fhqwmb77_r0000gn/T/ipykernel_64575/1796872376.py:2: FutureWarning:\n",
      "\n",
      "The default of observed=False is deprecated and will be changed to True in a future version of pandas. Pass observed=False to retain current behavior or observed=True to adopt the future default and silence this warning.\n",
      "\n"
     ]
    }
   ],
   "source": [
    "agg_df_no_property_type = (\n",
    "    df.groupby([\"year\", \"month\", \"price_level\", \"event_name\"])\n",
    "    .agg(\n",
    "        {\n",
    "            \"price\": [\"count\", \"mean\", \"min\", \"max\"],\n",
    "            \"sq_ft\": \"mean\",\n",
    "            \"bedrooms\": \"mean\",\n",
    "            \"bathrooms\": \"mean\",\n",
    "        }\n",
    "    )\n",
    "    .reset_index()\n",
    ")\n",
    "\n",
    "# Flatten the multi-level column names\n",
    "agg_df_no_property_type.columns = [\n",
    "    \"_\".join(col).strip(\"_\") for col in agg_df_no_property_type.columns.values\n",
    "]\n",
    "\n",
    "print(agg_df_no_property_type.head(n=20))\n",
    "\n",
    "# Rename columns for clarity\n",
    "agg_df_no_property_type = agg_df_no_property_type.rename(\n",
    "    columns={\n",
    "        \"price_count\": \"count\",\n",
    "        \"price_mean\": \"avg_price\",\n",
    "        \"price_min\": \"min_price\",\n",
    "        \"price_max\": \"max_price\",\n",
    "        \"sq_ft_mean\": \"avg_sq_ft\",\n",
    "        \"bedrooms_mean\": \"avg_bedrooms\",\n",
    "        \"bathrooms_mean\": \"avg_bathrooms\",\n",
    "    }\n",
    ")\n",
    "\n",
    "agg_df_no_property_type = agg_df_no_property_type[\n",
    "    agg_df_no_property_type[\"count\"] > 0\n",
    "]"
   ]
  },
  {
   "cell_type": "code",
   "execution_count": 26,
   "metadata": {},
   "outputs": [
    {
     "name": "stdout",
     "output_type": "stream",
     "text": [
      "    year    month  price_level   event_name  count     avg_price  min_price  \\\n",
      "0   2024  2024-01       <$250K  LISTED_SALE    218  1.842344e+05     3200.0   \n",
      "1   2024  2024-01       <$250K         SOLD    132  1.891845e+05     2000.0   \n",
      "2   2024  2024-01  $250K-$500K  LISTED_SALE    396  3.597185e+05   252000.0   \n",
      "3   2024  2024-01  $250K-$500K         SOLD    232  3.512255e+05   251322.0   \n",
      "4   2024  2024-01  $500K-$750K  LISTED_SALE    166  6.196684e+05   508000.0   \n",
      "5   2024  2024-01  $500K-$750K         SOLD     78  6.020864e+05   504625.0   \n",
      "6   2024  2024-01    $750K-$1M  LISTED_SALE     82  8.744244e+05   755000.0   \n",
      "7   2024  2024-01    $750K-$1M         SOLD     38  8.844036e+05   757302.0   \n",
      "8   2024  2024-01         >$1M  LISTED_SALE    115  2.152081e+06  1030000.0   \n",
      "9   2024  2024-01         >$1M         SOLD     28  1.952635e+06  1054688.0   \n",
      "10  2024  2024-02       <$250K  LISTED_SALE    252  1.875419e+05    73000.0   \n",
      "11  2024  2024-02       <$250K         SOLD    127  1.911096e+05    10000.0   \n",
      "12  2024  2024-02  $250K-$500K  LISTED_SALE    416  3.680087e+05   251500.0   \n",
      "13  2024  2024-02  $250K-$500K         SOLD    267  3.559267e+05   251125.0   \n",
      "14  2024  2024-02  $500K-$750K  LISTED_SALE    205  6.166981e+05   505000.0   \n",
      "15  2024  2024-02  $500K-$750K         SOLD     90  6.135808e+05   500625.0   \n",
      "16  2024  2024-02    $750K-$1M  LISTED_SALE     73  8.602475e+05   759000.0   \n",
      "17  2024  2024-02    $750K-$1M         SOLD     42  8.621390e+05   759375.0   \n",
      "18  2024  2024-02         >$1M  LISTED_SALE    101  2.245630e+06  1035000.0   \n",
      "19  2024  2024-02         >$1M         SOLD     27  1.456402e+06  1037500.0   \n",
      "\n",
      "     max_price    avg_sq_ft  avg_bedrooms  avg_bathrooms  \n",
      "0     250000.0  1247.633028      2.371560       1.825688  \n",
      "1     250000.0  1404.511450      2.856061       1.795455  \n",
      "2     500000.0  1973.909091      3.136364       2.421717  \n",
      "3     500000.0  2011.471861      3.267241       2.370690  \n",
      "4     750000.0  2319.969880      3.210843       2.753012  \n",
      "5     750000.0  2543.675325      3.358974       2.935897  \n",
      "6    1000000.0  3088.353659      3.695122       3.396341  \n",
      "7     968750.0  3325.000000      3.921053       3.407895  \n",
      "8   27500000.0  4464.034783      3.939130       4.052174  \n",
      "9    4990000.0  4910.035714      4.428571       4.821429  \n",
      "10    250000.0  1270.317460      2.357143       1.740079  \n",
      "11    250000.0  1430.488189      2.826772       1.822835  \n",
      "12    500000.0  2012.495192      3.151442       2.418269  \n",
      "13    500000.0  2062.266917      3.292135       2.432584  \n",
      "14    750000.0  2432.668293      3.234146       2.748780  \n",
      "15    750000.0  2516.166667      3.433333       2.966667  \n",
      "16    999000.0  2928.931507      3.356164       3.095890  \n",
      "17    958188.0  3062.619048      3.785714       3.250000  \n",
      "18  27000000.0  4489.188119      4.009901       4.143564  \n",
      "19   2154375.0  4328.481481      4.407407       4.370370  \n"
     ]
    },
    {
     "data": {
      "application/vnd.plotly.v1+json": {
       "config": {
        "plotlyServerURL": "https://plot.ly"
       },
       "data": [
        {
         "hovertemplate": "event_name=LISTED_SALE<br>price_level=<$250K<br>month=%{x}<br>count=%{y}<extra></extra>",
         "legendgroup": "LISTED_SALE",
         "line": {
          "color": "#636efa",
          "dash": "solid"
         },
         "marker": {
          "symbol": "circle"
         },
         "mode": "lines",
         "name": "LISTED_SALE",
         "orientation": "v",
         "showlegend": true,
         "type": "scatter",
         "x": [
          "2024-01",
          "2024-02",
          "2024-03",
          "2024-04",
          "2024-05",
          "2024-06",
          "2024-07",
          "2024-08",
          "2024-09",
          "2024-10",
          "2024-11",
          "2024-12",
          "2025-01",
          "2025-02",
          "2025-03",
          "2025-04"
         ],
         "xaxis": "x",
         "y": [
          218,
          252,
          251,
          247,
          259,
          255,
          206,
          307,
          253,
          311,
          211,
          170,
          269,
          266,
          311,
          157
         ],
         "yaxis": "y"
        },
        {
         "hovertemplate": "event_name=LISTED_SALE<br>price_level=$250K-$500K<br>month=%{x}<br>count=%{y}<extra></extra>",
         "legendgroup": "LISTED_SALE",
         "line": {
          "color": "#636efa",
          "dash": "solid"
         },
         "marker": {
          "symbol": "circle"
         },
         "mode": "lines",
         "name": "LISTED_SALE",
         "orientation": "v",
         "showlegend": false,
         "type": "scatter",
         "x": [
          "2024-01",
          "2024-02",
          "2024-03",
          "2024-04",
          "2024-05",
          "2024-06",
          "2024-07",
          "2024-08",
          "2024-09",
          "2024-10",
          "2024-11",
          "2024-12",
          "2025-01",
          "2025-02",
          "2025-03",
          "2025-04"
         ],
         "xaxis": "x2",
         "y": [
          396,
          416,
          477,
          546,
          553,
          563,
          445,
          536,
          514,
          509,
          427,
          327,
          537,
          470,
          593,
          402
         ],
         "yaxis": "y2"
        },
        {
         "hovertemplate": "event_name=LISTED_SALE<br>price_level=$500K-$750K<br>month=%{x}<br>count=%{y}<extra></extra>",
         "legendgroup": "LISTED_SALE",
         "line": {
          "color": "#636efa",
          "dash": "solid"
         },
         "marker": {
          "symbol": "circle"
         },
         "mode": "lines",
         "name": "LISTED_SALE",
         "orientation": "v",
         "showlegend": false,
         "type": "scatter",
         "x": [
          "2024-01",
          "2024-02",
          "2024-03",
          "2024-04",
          "2024-05",
          "2024-06",
          "2024-07",
          "2024-08",
          "2024-09",
          "2024-10",
          "2024-11",
          "2024-12",
          "2025-01",
          "2025-02",
          "2025-03",
          "2025-04"
         ],
         "xaxis": "x3",
         "y": [
          166,
          205,
          214,
          276,
          301,
          259,
          228,
          255,
          291,
          245,
          201,
          130,
          249,
          246,
          303,
          215
         ],
         "yaxis": "y3"
        },
        {
         "hovertemplate": "event_name=LISTED_SALE<br>price_level=$750K-$1M<br>month=%{x}<br>count=%{y}<extra></extra>",
         "legendgroup": "LISTED_SALE",
         "line": {
          "color": "#636efa",
          "dash": "solid"
         },
         "marker": {
          "symbol": "circle"
         },
         "mode": "lines",
         "name": "LISTED_SALE",
         "orientation": "v",
         "showlegend": false,
         "type": "scatter",
         "x": [
          "2024-01",
          "2024-02",
          "2024-03",
          "2024-04",
          "2024-05",
          "2024-06",
          "2024-07",
          "2024-08",
          "2024-09",
          "2024-10",
          "2024-11",
          "2024-12",
          "2025-01",
          "2025-02",
          "2025-03",
          "2025-04"
         ],
         "xaxis": "x4",
         "y": [
          82,
          73,
          94,
          129,
          118,
          95,
          78,
          98,
          93,
          99,
          71,
          35,
          88,
          78,
          119,
          97
         ],
         "yaxis": "y4"
        },
        {
         "hovertemplate": "event_name=LISTED_SALE<br>price_level=>$1M<br>month=%{x}<br>count=%{y}<extra></extra>",
         "legendgroup": "LISTED_SALE",
         "line": {
          "color": "#636efa",
          "dash": "solid"
         },
         "marker": {
          "symbol": "circle"
         },
         "mode": "lines",
         "name": "LISTED_SALE",
         "orientation": "v",
         "showlegend": false,
         "type": "scatter",
         "x": [
          "2024-01",
          "2024-02",
          "2024-03",
          "2024-04",
          "2024-05",
          "2024-06",
          "2024-07",
          "2024-08",
          "2024-09",
          "2024-10",
          "2024-11",
          "2024-12",
          "2025-01",
          "2025-02",
          "2025-03",
          "2025-04"
         ],
         "xaxis": "x5",
         "y": [
          115,
          101,
          143,
          155,
          196,
          151,
          115,
          130,
          147,
          127,
          99,
          59,
          132,
          174,
          223,
          138
         ],
         "yaxis": "y5"
        },
        {
         "hovertemplate": "event_name=SOLD<br>price_level=<$250K<br>month=%{x}<br>count=%{y}<extra></extra>",
         "legendgroup": "SOLD",
         "line": {
          "color": "#EF553B",
          "dash": "solid"
         },
         "marker": {
          "symbol": "circle"
         },
         "mode": "lines",
         "name": "SOLD",
         "orientation": "v",
         "showlegend": true,
         "type": "scatter",
         "x": [
          "2024-01",
          "2024-02",
          "2024-03",
          "2024-04",
          "2024-05",
          "2024-06",
          "2024-07",
          "2024-08",
          "2024-09",
          "2024-10",
          "2024-11",
          "2024-12",
          "2025-01",
          "2025-02",
          "2025-03",
          "2025-04"
         ],
         "xaxis": "x",
         "y": [
          132,
          127,
          146,
          170,
          162,
          154,
          181,
          162,
          153,
          181,
          139,
          152,
          133,
          94,
          103,
          41
         ],
         "yaxis": "y"
        },
        {
         "hovertemplate": "event_name=SOLD<br>price_level=$250K-$500K<br>month=%{x}<br>count=%{y}<extra></extra>",
         "legendgroup": "SOLD",
         "line": {
          "color": "#EF553B",
          "dash": "solid"
         },
         "marker": {
          "symbol": "circle"
         },
         "mode": "lines",
         "name": "SOLD",
         "orientation": "v",
         "showlegend": false,
         "type": "scatter",
         "x": [
          "2024-01",
          "2024-02",
          "2024-03",
          "2024-04",
          "2024-05",
          "2024-06",
          "2024-07",
          "2024-08",
          "2024-09",
          "2024-10",
          "2024-11",
          "2024-12",
          "2025-01",
          "2025-02",
          "2025-03",
          "2025-04"
         ],
         "xaxis": "x2",
         "y": [
          232,
          267,
          288,
          370,
          325,
          285,
          323,
          308,
          299,
          341,
          277,
          277,
          212,
          197,
          237,
          101
         ],
         "yaxis": "y2"
        },
        {
         "hovertemplate": "event_name=SOLD<br>price_level=$500K-$750K<br>month=%{x}<br>count=%{y}<extra></extra>",
         "legendgroup": "SOLD",
         "line": {
          "color": "#EF553B",
          "dash": "solid"
         },
         "marker": {
          "symbol": "circle"
         },
         "mode": "lines",
         "name": "SOLD",
         "orientation": "v",
         "showlegend": false,
         "type": "scatter",
         "x": [
          "2024-01",
          "2024-02",
          "2024-03",
          "2024-04",
          "2024-05",
          "2024-06",
          "2024-07",
          "2024-08",
          "2024-09",
          "2024-10",
          "2024-11",
          "2024-12",
          "2025-01",
          "2025-02",
          "2025-03",
          "2025-04"
         ],
         "xaxis": "x3",
         "y": [
          78,
          90,
          107,
          153,
          125,
          120,
          144,
          116,
          114,
          119,
          95,
          127,
          65,
          80,
          108,
          39
         ],
         "yaxis": "y3"
        },
        {
         "hovertemplate": "event_name=SOLD<br>price_level=$750K-$1M<br>month=%{x}<br>count=%{y}<extra></extra>",
         "legendgroup": "SOLD",
         "line": {
          "color": "#EF553B",
          "dash": "solid"
         },
         "marker": {
          "symbol": "circle"
         },
         "mode": "lines",
         "name": "SOLD",
         "orientation": "v",
         "showlegend": false,
         "type": "scatter",
         "x": [
          "2024-01",
          "2024-02",
          "2024-03",
          "2024-04",
          "2024-05",
          "2024-06",
          "2024-07",
          "2024-08",
          "2024-09",
          "2024-10",
          "2024-11",
          "2024-12",
          "2025-01",
          "2025-02",
          "2025-03",
          "2025-04"
         ],
         "xaxis": "x4",
         "y": [
          38,
          42,
          63,
          62,
          72,
          57,
          70,
          44,
          44,
          69,
          55,
          53,
          33,
          33,
          35,
          10
         ],
         "yaxis": "y4"
        },
        {
         "hovertemplate": "event_name=SOLD<br>price_level=>$1M<br>month=%{x}<br>count=%{y}<extra></extra>",
         "legendgroup": "SOLD",
         "line": {
          "color": "#EF553B",
          "dash": "solid"
         },
         "marker": {
          "symbol": "circle"
         },
         "mode": "lines",
         "name": "SOLD",
         "orientation": "v",
         "showlegend": false,
         "type": "scatter",
         "x": [
          "2024-01",
          "2024-02",
          "2024-03",
          "2024-04",
          "2024-05",
          "2024-06",
          "2024-07",
          "2024-08",
          "2024-09",
          "2024-10",
          "2024-11",
          "2024-12",
          "2025-01",
          "2025-02",
          "2025-03",
          "2025-04"
         ],
         "xaxis": "x5",
         "y": [
          28,
          27,
          45,
          60,
          67,
          46,
          59,
          41,
          43,
          61,
          57,
          68,
          50,
          105,
          60,
          23
         ],
         "yaxis": "y5"
        }
       ],
       "layout": {
        "annotations": [
         {
          "font": {},
          "showarrow": false,
          "text": "price_level=<$250K",
          "x": 0.09200000000000001,
          "xanchor": "center",
          "xref": "paper",
          "y": 1,
          "yanchor": "bottom",
          "yref": "paper"
         },
         {
          "font": {},
          "showarrow": false,
          "text": "price_level=$250K-$500K",
          "x": 0.29600000000000004,
          "xanchor": "center",
          "xref": "paper",
          "y": 1,
          "yanchor": "bottom",
          "yref": "paper"
         },
         {
          "font": {},
          "showarrow": false,
          "text": "price_level=$500K-$750K",
          "x": 0.5,
          "xanchor": "center",
          "xref": "paper",
          "y": 1,
          "yanchor": "bottom",
          "yref": "paper"
         },
         {
          "font": {},
          "showarrow": false,
          "text": "price_level=$750K-$1M",
          "x": 0.7040000000000002,
          "xanchor": "center",
          "xref": "paper",
          "y": 1,
          "yanchor": "bottom",
          "yref": "paper"
         },
         {
          "font": {},
          "showarrow": false,
          "text": "price_level=>$1M",
          "x": 0.908,
          "xanchor": "center",
          "xref": "paper",
          "y": 1,
          "yanchor": "bottom",
          "yref": "paper"
         }
        ],
        "legend": {
         "title": {
          "text": "event_name"
         },
         "tracegroupgap": 0
        },
        "margin": {
         "t": 60
        },
        "template": {
         "data": {
          "bar": [
           {
            "error_x": {
             "color": "#2a3f5f"
            },
            "error_y": {
             "color": "#2a3f5f"
            },
            "marker": {
             "line": {
              "color": "#E5ECF6",
              "width": 0.5
             },
             "pattern": {
              "fillmode": "overlay",
              "size": 10,
              "solidity": 0.2
             }
            },
            "type": "bar"
           }
          ],
          "barpolar": [
           {
            "marker": {
             "line": {
              "color": "#E5ECF6",
              "width": 0.5
             },
             "pattern": {
              "fillmode": "overlay",
              "size": 10,
              "solidity": 0.2
             }
            },
            "type": "barpolar"
           }
          ],
          "carpet": [
           {
            "aaxis": {
             "endlinecolor": "#2a3f5f",
             "gridcolor": "white",
             "linecolor": "white",
             "minorgridcolor": "white",
             "startlinecolor": "#2a3f5f"
            },
            "baxis": {
             "endlinecolor": "#2a3f5f",
             "gridcolor": "white",
             "linecolor": "white",
             "minorgridcolor": "white",
             "startlinecolor": "#2a3f5f"
            },
            "type": "carpet"
           }
          ],
          "choropleth": [
           {
            "colorbar": {
             "outlinewidth": 0,
             "ticks": ""
            },
            "type": "choropleth"
           }
          ],
          "contour": [
           {
            "colorbar": {
             "outlinewidth": 0,
             "ticks": ""
            },
            "colorscale": [
             [
              0,
              "#0d0887"
             ],
             [
              0.1111111111111111,
              "#46039f"
             ],
             [
              0.2222222222222222,
              "#7201a8"
             ],
             [
              0.3333333333333333,
              "#9c179e"
             ],
             [
              0.4444444444444444,
              "#bd3786"
             ],
             [
              0.5555555555555556,
              "#d8576b"
             ],
             [
              0.6666666666666666,
              "#ed7953"
             ],
             [
              0.7777777777777778,
              "#fb9f3a"
             ],
             [
              0.8888888888888888,
              "#fdca26"
             ],
             [
              1,
              "#f0f921"
             ]
            ],
            "type": "contour"
           }
          ],
          "contourcarpet": [
           {
            "colorbar": {
             "outlinewidth": 0,
             "ticks": ""
            },
            "type": "contourcarpet"
           }
          ],
          "heatmap": [
           {
            "colorbar": {
             "outlinewidth": 0,
             "ticks": ""
            },
            "colorscale": [
             [
              0,
              "#0d0887"
             ],
             [
              0.1111111111111111,
              "#46039f"
             ],
             [
              0.2222222222222222,
              "#7201a8"
             ],
             [
              0.3333333333333333,
              "#9c179e"
             ],
             [
              0.4444444444444444,
              "#bd3786"
             ],
             [
              0.5555555555555556,
              "#d8576b"
             ],
             [
              0.6666666666666666,
              "#ed7953"
             ],
             [
              0.7777777777777778,
              "#fb9f3a"
             ],
             [
              0.8888888888888888,
              "#fdca26"
             ],
             [
              1,
              "#f0f921"
             ]
            ],
            "type": "heatmap"
           }
          ],
          "heatmapgl": [
           {
            "colorbar": {
             "outlinewidth": 0,
             "ticks": ""
            },
            "colorscale": [
             [
              0,
              "#0d0887"
             ],
             [
              0.1111111111111111,
              "#46039f"
             ],
             [
              0.2222222222222222,
              "#7201a8"
             ],
             [
              0.3333333333333333,
              "#9c179e"
             ],
             [
              0.4444444444444444,
              "#bd3786"
             ],
             [
              0.5555555555555556,
              "#d8576b"
             ],
             [
              0.6666666666666666,
              "#ed7953"
             ],
             [
              0.7777777777777778,
              "#fb9f3a"
             ],
             [
              0.8888888888888888,
              "#fdca26"
             ],
             [
              1,
              "#f0f921"
             ]
            ],
            "type": "heatmapgl"
           }
          ],
          "histogram": [
           {
            "marker": {
             "pattern": {
              "fillmode": "overlay",
              "size": 10,
              "solidity": 0.2
             }
            },
            "type": "histogram"
           }
          ],
          "histogram2d": [
           {
            "colorbar": {
             "outlinewidth": 0,
             "ticks": ""
            },
            "colorscale": [
             [
              0,
              "#0d0887"
             ],
             [
              0.1111111111111111,
              "#46039f"
             ],
             [
              0.2222222222222222,
              "#7201a8"
             ],
             [
              0.3333333333333333,
              "#9c179e"
             ],
             [
              0.4444444444444444,
              "#bd3786"
             ],
             [
              0.5555555555555556,
              "#d8576b"
             ],
             [
              0.6666666666666666,
              "#ed7953"
             ],
             [
              0.7777777777777778,
              "#fb9f3a"
             ],
             [
              0.8888888888888888,
              "#fdca26"
             ],
             [
              1,
              "#f0f921"
             ]
            ],
            "type": "histogram2d"
           }
          ],
          "histogram2dcontour": [
           {
            "colorbar": {
             "outlinewidth": 0,
             "ticks": ""
            },
            "colorscale": [
             [
              0,
              "#0d0887"
             ],
             [
              0.1111111111111111,
              "#46039f"
             ],
             [
              0.2222222222222222,
              "#7201a8"
             ],
             [
              0.3333333333333333,
              "#9c179e"
             ],
             [
              0.4444444444444444,
              "#bd3786"
             ],
             [
              0.5555555555555556,
              "#d8576b"
             ],
             [
              0.6666666666666666,
              "#ed7953"
             ],
             [
              0.7777777777777778,
              "#fb9f3a"
             ],
             [
              0.8888888888888888,
              "#fdca26"
             ],
             [
              1,
              "#f0f921"
             ]
            ],
            "type": "histogram2dcontour"
           }
          ],
          "mesh3d": [
           {
            "colorbar": {
             "outlinewidth": 0,
             "ticks": ""
            },
            "type": "mesh3d"
           }
          ],
          "parcoords": [
           {
            "line": {
             "colorbar": {
              "outlinewidth": 0,
              "ticks": ""
             }
            },
            "type": "parcoords"
           }
          ],
          "pie": [
           {
            "automargin": true,
            "type": "pie"
           }
          ],
          "scatter": [
           {
            "fillpattern": {
             "fillmode": "overlay",
             "size": 10,
             "solidity": 0.2
            },
            "type": "scatter"
           }
          ],
          "scatter3d": [
           {
            "line": {
             "colorbar": {
              "outlinewidth": 0,
              "ticks": ""
             }
            },
            "marker": {
             "colorbar": {
              "outlinewidth": 0,
              "ticks": ""
             }
            },
            "type": "scatter3d"
           }
          ],
          "scattercarpet": [
           {
            "marker": {
             "colorbar": {
              "outlinewidth": 0,
              "ticks": ""
             }
            },
            "type": "scattercarpet"
           }
          ],
          "scattergeo": [
           {
            "marker": {
             "colorbar": {
              "outlinewidth": 0,
              "ticks": ""
             }
            },
            "type": "scattergeo"
           }
          ],
          "scattergl": [
           {
            "marker": {
             "colorbar": {
              "outlinewidth": 0,
              "ticks": ""
             }
            },
            "type": "scattergl"
           }
          ],
          "scattermapbox": [
           {
            "marker": {
             "colorbar": {
              "outlinewidth": 0,
              "ticks": ""
             }
            },
            "type": "scattermapbox"
           }
          ],
          "scatterpolar": [
           {
            "marker": {
             "colorbar": {
              "outlinewidth": 0,
              "ticks": ""
             }
            },
            "type": "scatterpolar"
           }
          ],
          "scatterpolargl": [
           {
            "marker": {
             "colorbar": {
              "outlinewidth": 0,
              "ticks": ""
             }
            },
            "type": "scatterpolargl"
           }
          ],
          "scatterternary": [
           {
            "marker": {
             "colorbar": {
              "outlinewidth": 0,
              "ticks": ""
             }
            },
            "type": "scatterternary"
           }
          ],
          "surface": [
           {
            "colorbar": {
             "outlinewidth": 0,
             "ticks": ""
            },
            "colorscale": [
             [
              0,
              "#0d0887"
             ],
             [
              0.1111111111111111,
              "#46039f"
             ],
             [
              0.2222222222222222,
              "#7201a8"
             ],
             [
              0.3333333333333333,
              "#9c179e"
             ],
             [
              0.4444444444444444,
              "#bd3786"
             ],
             [
              0.5555555555555556,
              "#d8576b"
             ],
             [
              0.6666666666666666,
              "#ed7953"
             ],
             [
              0.7777777777777778,
              "#fb9f3a"
             ],
             [
              0.8888888888888888,
              "#fdca26"
             ],
             [
              1,
              "#f0f921"
             ]
            ],
            "type": "surface"
           }
          ],
          "table": [
           {
            "cells": {
             "fill": {
              "color": "#EBF0F8"
             },
             "line": {
              "color": "white"
             }
            },
            "header": {
             "fill": {
              "color": "#C8D4E3"
             },
             "line": {
              "color": "white"
             }
            },
            "type": "table"
           }
          ]
         },
         "layout": {
          "annotationdefaults": {
           "arrowcolor": "#2a3f5f",
           "arrowhead": 0,
           "arrowwidth": 1
          },
          "autotypenumbers": "strict",
          "coloraxis": {
           "colorbar": {
            "outlinewidth": 0,
            "ticks": ""
           }
          },
          "colorscale": {
           "diverging": [
            [
             0,
             "#8e0152"
            ],
            [
             0.1,
             "#c51b7d"
            ],
            [
             0.2,
             "#de77ae"
            ],
            [
             0.3,
             "#f1b6da"
            ],
            [
             0.4,
             "#fde0ef"
            ],
            [
             0.5,
             "#f7f7f7"
            ],
            [
             0.6,
             "#e6f5d0"
            ],
            [
             0.7,
             "#b8e186"
            ],
            [
             0.8,
             "#7fbc41"
            ],
            [
             0.9,
             "#4d9221"
            ],
            [
             1,
             "#276419"
            ]
           ],
           "sequential": [
            [
             0,
             "#0d0887"
            ],
            [
             0.1111111111111111,
             "#46039f"
            ],
            [
             0.2222222222222222,
             "#7201a8"
            ],
            [
             0.3333333333333333,
             "#9c179e"
            ],
            [
             0.4444444444444444,
             "#bd3786"
            ],
            [
             0.5555555555555556,
             "#d8576b"
            ],
            [
             0.6666666666666666,
             "#ed7953"
            ],
            [
             0.7777777777777778,
             "#fb9f3a"
            ],
            [
             0.8888888888888888,
             "#fdca26"
            ],
            [
             1,
             "#f0f921"
            ]
           ],
           "sequentialminus": [
            [
             0,
             "#0d0887"
            ],
            [
             0.1111111111111111,
             "#46039f"
            ],
            [
             0.2222222222222222,
             "#7201a8"
            ],
            [
             0.3333333333333333,
             "#9c179e"
            ],
            [
             0.4444444444444444,
             "#bd3786"
            ],
            [
             0.5555555555555556,
             "#d8576b"
            ],
            [
             0.6666666666666666,
             "#ed7953"
            ],
            [
             0.7777777777777778,
             "#fb9f3a"
            ],
            [
             0.8888888888888888,
             "#fdca26"
            ],
            [
             1,
             "#f0f921"
            ]
           ]
          },
          "colorway": [
           "#636efa",
           "#EF553B",
           "#00cc96",
           "#ab63fa",
           "#FFA15A",
           "#19d3f3",
           "#FF6692",
           "#B6E880",
           "#FF97FF",
           "#FECB52"
          ],
          "font": {
           "color": "#2a3f5f"
          },
          "geo": {
           "bgcolor": "white",
           "lakecolor": "white",
           "landcolor": "#E5ECF6",
           "showlakes": true,
           "showland": true,
           "subunitcolor": "white"
          },
          "hoverlabel": {
           "align": "left"
          },
          "hovermode": "closest",
          "mapbox": {
           "style": "light"
          },
          "paper_bgcolor": "white",
          "plot_bgcolor": "#E5ECF6",
          "polar": {
           "angularaxis": {
            "gridcolor": "white",
            "linecolor": "white",
            "ticks": ""
           },
           "bgcolor": "#E5ECF6",
           "radialaxis": {
            "gridcolor": "white",
            "linecolor": "white",
            "ticks": ""
           }
          },
          "scene": {
           "xaxis": {
            "backgroundcolor": "#E5ECF6",
            "gridcolor": "white",
            "gridwidth": 2,
            "linecolor": "white",
            "showbackground": true,
            "ticks": "",
            "zerolinecolor": "white"
           },
           "yaxis": {
            "backgroundcolor": "#E5ECF6",
            "gridcolor": "white",
            "gridwidth": 2,
            "linecolor": "white",
            "showbackground": true,
            "ticks": "",
            "zerolinecolor": "white"
           },
           "zaxis": {
            "backgroundcolor": "#E5ECF6",
            "gridcolor": "white",
            "gridwidth": 2,
            "linecolor": "white",
            "showbackground": true,
            "ticks": "",
            "zerolinecolor": "white"
           }
          },
          "shapedefaults": {
           "line": {
            "color": "#2a3f5f"
           }
          },
          "ternary": {
           "aaxis": {
            "gridcolor": "white",
            "linecolor": "white",
            "ticks": ""
           },
           "baxis": {
            "gridcolor": "white",
            "linecolor": "white",
            "ticks": ""
           },
           "bgcolor": "#E5ECF6",
           "caxis": {
            "gridcolor": "white",
            "linecolor": "white",
            "ticks": ""
           }
          },
          "title": {
           "x": 0.05
          },
          "xaxis": {
           "automargin": true,
           "gridcolor": "white",
           "linecolor": "white",
           "ticks": "",
           "title": {
            "standoff": 15
           },
           "zerolinecolor": "white",
           "zerolinewidth": 2
          },
          "yaxis": {
           "automargin": true,
           "gridcolor": "white",
           "linecolor": "white",
           "ticks": "",
           "title": {
            "standoff": 15
           },
           "zerolinecolor": "white",
           "zerolinewidth": 2
          }
         }
        },
        "xaxis": {
         "anchor": "y",
         "domain": [
          0,
          0.18400000000000002
         ],
         "title": {
          "text": "month"
         }
        },
        "xaxis2": {
         "anchor": "y2",
         "domain": [
          0.20400000000000001,
          0.388
         ],
         "matches": "x",
         "title": {
          "text": "month"
         }
        },
        "xaxis3": {
         "anchor": "y3",
         "domain": [
          0.40800000000000003,
          0.5920000000000001
         ],
         "matches": "x",
         "title": {
          "text": "month"
         }
        },
        "xaxis4": {
         "anchor": "y4",
         "domain": [
          0.6120000000000001,
          0.7960000000000002
         ],
         "matches": "x",
         "title": {
          "text": "month"
         }
        },
        "xaxis5": {
         "anchor": "y5",
         "domain": [
          0.8160000000000001,
          1
         ],
         "matches": "x",
         "title": {
          "text": "month"
         }
        },
        "yaxis": {
         "anchor": "x",
         "domain": [
          0,
          1
         ],
         "title": {
          "text": "count"
         }
        },
        "yaxis2": {
         "anchor": "x2",
         "domain": [
          0,
          1
         ],
         "matches": "y",
         "showticklabels": false
        },
        "yaxis3": {
         "anchor": "x3",
         "domain": [
          0,
          1
         ],
         "matches": "y",
         "showticklabels": false
        },
        "yaxis4": {
         "anchor": "x4",
         "domain": [
          0,
          1
         ],
         "matches": "y",
         "showticklabels": false
        },
        "yaxis5": {
         "anchor": "x5",
         "domain": [
          0,
          1
         ],
         "matches": "y",
         "showticklabels": false
        }
       }
      }
     },
     "metadata": {},
     "output_type": "display_data"
    }
   ],
   "source": [
    "# create a scatter plot of the number of listings by price level and property type over time by month\n",
    "# x should be the month and year\n",
    "# y should be the number of listings\n",
    "# color should be the price level\n",
    "# make a custom chart per price level\n",
    "\n",
    "print(agg_df_no_property_type.head(n=20))\n",
    "\n",
    "fig = px.line(agg_df_no_property_type, x=\"month\", y=\"count\", color=\"event_name\", facet_col=\"price_level\")\n",
    "fig.show()"
   ]
  },
  {
   "cell_type": "code",
   "execution_count": 27,
   "metadata": {},
   "outputs": [
    {
     "data": {
      "application/vnd.plotly.v1+json": {
       "config": {
        "plotlyServerURL": "https://plot.ly"
       },
       "data": [
        {
         "hovertemplate": "event_name=LISTED_SALE<br>month=%{x}<br>count=%{y}<extra></extra>",
         "legendgroup": "LISTED_SALE",
         "line": {
          "color": "#636efa",
          "dash": "solid"
         },
         "marker": {
          "symbol": "circle"
         },
         "mode": "lines",
         "name": "LISTED_SALE",
         "orientation": "v",
         "showlegend": true,
         "type": "scatter",
         "x": [
          "2024-01",
          "2024-02",
          "2024-03",
          "2024-04",
          "2024-05",
          "2024-06",
          "2024-07",
          "2024-08",
          "2024-09",
          "2024-10",
          "2024-11",
          "2024-12",
          "2025-01",
          "2025-02",
          "2025-03",
          "2025-04"
         ],
         "xaxis": "x",
         "y": [
          396,
          416,
          477,
          546,
          553,
          563,
          445,
          536,
          514,
          509,
          427,
          327,
          537,
          470,
          593,
          402
         ],
         "yaxis": "y"
        },
        {
         "hovertemplate": "event_name=SOLD<br>month=%{x}<br>count=%{y}<extra></extra>",
         "legendgroup": "SOLD",
         "line": {
          "color": "#EF553B",
          "dash": "solid"
         },
         "marker": {
          "symbol": "circle"
         },
         "mode": "lines",
         "name": "SOLD",
         "orientation": "v",
         "showlegend": true,
         "type": "scatter",
         "x": [
          "2024-01",
          "2024-02",
          "2024-03",
          "2024-04",
          "2024-05",
          "2024-06",
          "2024-07",
          "2024-08",
          "2024-09",
          "2024-10",
          "2024-11",
          "2024-12",
          "2025-01",
          "2025-02",
          "2025-03",
          "2025-04"
         ],
         "xaxis": "x",
         "y": [
          232,
          267,
          288,
          370,
          325,
          285,
          323,
          308,
          299,
          341,
          277,
          277,
          212,
          197,
          237,
          101
         ],
         "yaxis": "y"
        }
       ],
       "layout": {
        "legend": {
         "title": {
          "text": "event_name"
         },
         "tracegroupgap": 0
        },
        "margin": {
         "t": 60
        },
        "template": {
         "data": {
          "bar": [
           {
            "error_x": {
             "color": "#2a3f5f"
            },
            "error_y": {
             "color": "#2a3f5f"
            },
            "marker": {
             "line": {
              "color": "#E5ECF6",
              "width": 0.5
             },
             "pattern": {
              "fillmode": "overlay",
              "size": 10,
              "solidity": 0.2
             }
            },
            "type": "bar"
           }
          ],
          "barpolar": [
           {
            "marker": {
             "line": {
              "color": "#E5ECF6",
              "width": 0.5
             },
             "pattern": {
              "fillmode": "overlay",
              "size": 10,
              "solidity": 0.2
             }
            },
            "type": "barpolar"
           }
          ],
          "carpet": [
           {
            "aaxis": {
             "endlinecolor": "#2a3f5f",
             "gridcolor": "white",
             "linecolor": "white",
             "minorgridcolor": "white",
             "startlinecolor": "#2a3f5f"
            },
            "baxis": {
             "endlinecolor": "#2a3f5f",
             "gridcolor": "white",
             "linecolor": "white",
             "minorgridcolor": "white",
             "startlinecolor": "#2a3f5f"
            },
            "type": "carpet"
           }
          ],
          "choropleth": [
           {
            "colorbar": {
             "outlinewidth": 0,
             "ticks": ""
            },
            "type": "choropleth"
           }
          ],
          "contour": [
           {
            "colorbar": {
             "outlinewidth": 0,
             "ticks": ""
            },
            "colorscale": [
             [
              0,
              "#0d0887"
             ],
             [
              0.1111111111111111,
              "#46039f"
             ],
             [
              0.2222222222222222,
              "#7201a8"
             ],
             [
              0.3333333333333333,
              "#9c179e"
             ],
             [
              0.4444444444444444,
              "#bd3786"
             ],
             [
              0.5555555555555556,
              "#d8576b"
             ],
             [
              0.6666666666666666,
              "#ed7953"
             ],
             [
              0.7777777777777778,
              "#fb9f3a"
             ],
             [
              0.8888888888888888,
              "#fdca26"
             ],
             [
              1,
              "#f0f921"
             ]
            ],
            "type": "contour"
           }
          ],
          "contourcarpet": [
           {
            "colorbar": {
             "outlinewidth": 0,
             "ticks": ""
            },
            "type": "contourcarpet"
           }
          ],
          "heatmap": [
           {
            "colorbar": {
             "outlinewidth": 0,
             "ticks": ""
            },
            "colorscale": [
             [
              0,
              "#0d0887"
             ],
             [
              0.1111111111111111,
              "#46039f"
             ],
             [
              0.2222222222222222,
              "#7201a8"
             ],
             [
              0.3333333333333333,
              "#9c179e"
             ],
             [
              0.4444444444444444,
              "#bd3786"
             ],
             [
              0.5555555555555556,
              "#d8576b"
             ],
             [
              0.6666666666666666,
              "#ed7953"
             ],
             [
              0.7777777777777778,
              "#fb9f3a"
             ],
             [
              0.8888888888888888,
              "#fdca26"
             ],
             [
              1,
              "#f0f921"
             ]
            ],
            "type": "heatmap"
           }
          ],
          "heatmapgl": [
           {
            "colorbar": {
             "outlinewidth": 0,
             "ticks": ""
            },
            "colorscale": [
             [
              0,
              "#0d0887"
             ],
             [
              0.1111111111111111,
              "#46039f"
             ],
             [
              0.2222222222222222,
              "#7201a8"
             ],
             [
              0.3333333333333333,
              "#9c179e"
             ],
             [
              0.4444444444444444,
              "#bd3786"
             ],
             [
              0.5555555555555556,
              "#d8576b"
             ],
             [
              0.6666666666666666,
              "#ed7953"
             ],
             [
              0.7777777777777778,
              "#fb9f3a"
             ],
             [
              0.8888888888888888,
              "#fdca26"
             ],
             [
              1,
              "#f0f921"
             ]
            ],
            "type": "heatmapgl"
           }
          ],
          "histogram": [
           {
            "marker": {
             "pattern": {
              "fillmode": "overlay",
              "size": 10,
              "solidity": 0.2
             }
            },
            "type": "histogram"
           }
          ],
          "histogram2d": [
           {
            "colorbar": {
             "outlinewidth": 0,
             "ticks": ""
            },
            "colorscale": [
             [
              0,
              "#0d0887"
             ],
             [
              0.1111111111111111,
              "#46039f"
             ],
             [
              0.2222222222222222,
              "#7201a8"
             ],
             [
              0.3333333333333333,
              "#9c179e"
             ],
             [
              0.4444444444444444,
              "#bd3786"
             ],
             [
              0.5555555555555556,
              "#d8576b"
             ],
             [
              0.6666666666666666,
              "#ed7953"
             ],
             [
              0.7777777777777778,
              "#fb9f3a"
             ],
             [
              0.8888888888888888,
              "#fdca26"
             ],
             [
              1,
              "#f0f921"
             ]
            ],
            "type": "histogram2d"
           }
          ],
          "histogram2dcontour": [
           {
            "colorbar": {
             "outlinewidth": 0,
             "ticks": ""
            },
            "colorscale": [
             [
              0,
              "#0d0887"
             ],
             [
              0.1111111111111111,
              "#46039f"
             ],
             [
              0.2222222222222222,
              "#7201a8"
             ],
             [
              0.3333333333333333,
              "#9c179e"
             ],
             [
              0.4444444444444444,
              "#bd3786"
             ],
             [
              0.5555555555555556,
              "#d8576b"
             ],
             [
              0.6666666666666666,
              "#ed7953"
             ],
             [
              0.7777777777777778,
              "#fb9f3a"
             ],
             [
              0.8888888888888888,
              "#fdca26"
             ],
             [
              1,
              "#f0f921"
             ]
            ],
            "type": "histogram2dcontour"
           }
          ],
          "mesh3d": [
           {
            "colorbar": {
             "outlinewidth": 0,
             "ticks": ""
            },
            "type": "mesh3d"
           }
          ],
          "parcoords": [
           {
            "line": {
             "colorbar": {
              "outlinewidth": 0,
              "ticks": ""
             }
            },
            "type": "parcoords"
           }
          ],
          "pie": [
           {
            "automargin": true,
            "type": "pie"
           }
          ],
          "scatter": [
           {
            "fillpattern": {
             "fillmode": "overlay",
             "size": 10,
             "solidity": 0.2
            },
            "type": "scatter"
           }
          ],
          "scatter3d": [
           {
            "line": {
             "colorbar": {
              "outlinewidth": 0,
              "ticks": ""
             }
            },
            "marker": {
             "colorbar": {
              "outlinewidth": 0,
              "ticks": ""
             }
            },
            "type": "scatter3d"
           }
          ],
          "scattercarpet": [
           {
            "marker": {
             "colorbar": {
              "outlinewidth": 0,
              "ticks": ""
             }
            },
            "type": "scattercarpet"
           }
          ],
          "scattergeo": [
           {
            "marker": {
             "colorbar": {
              "outlinewidth": 0,
              "ticks": ""
             }
            },
            "type": "scattergeo"
           }
          ],
          "scattergl": [
           {
            "marker": {
             "colorbar": {
              "outlinewidth": 0,
              "ticks": ""
             }
            },
            "type": "scattergl"
           }
          ],
          "scattermapbox": [
           {
            "marker": {
             "colorbar": {
              "outlinewidth": 0,
              "ticks": ""
             }
            },
            "type": "scattermapbox"
           }
          ],
          "scatterpolar": [
           {
            "marker": {
             "colorbar": {
              "outlinewidth": 0,
              "ticks": ""
             }
            },
            "type": "scatterpolar"
           }
          ],
          "scatterpolargl": [
           {
            "marker": {
             "colorbar": {
              "outlinewidth": 0,
              "ticks": ""
             }
            },
            "type": "scatterpolargl"
           }
          ],
          "scatterternary": [
           {
            "marker": {
             "colorbar": {
              "outlinewidth": 0,
              "ticks": ""
             }
            },
            "type": "scatterternary"
           }
          ],
          "surface": [
           {
            "colorbar": {
             "outlinewidth": 0,
             "ticks": ""
            },
            "colorscale": [
             [
              0,
              "#0d0887"
             ],
             [
              0.1111111111111111,
              "#46039f"
             ],
             [
              0.2222222222222222,
              "#7201a8"
             ],
             [
              0.3333333333333333,
              "#9c179e"
             ],
             [
              0.4444444444444444,
              "#bd3786"
             ],
             [
              0.5555555555555556,
              "#d8576b"
             ],
             [
              0.6666666666666666,
              "#ed7953"
             ],
             [
              0.7777777777777778,
              "#fb9f3a"
             ],
             [
              0.8888888888888888,
              "#fdca26"
             ],
             [
              1,
              "#f0f921"
             ]
            ],
            "type": "surface"
           }
          ],
          "table": [
           {
            "cells": {
             "fill": {
              "color": "#EBF0F8"
             },
             "line": {
              "color": "white"
             }
            },
            "header": {
             "fill": {
              "color": "#C8D4E3"
             },
             "line": {
              "color": "white"
             }
            },
            "type": "table"
           }
          ]
         },
         "layout": {
          "annotationdefaults": {
           "arrowcolor": "#2a3f5f",
           "arrowhead": 0,
           "arrowwidth": 1
          },
          "autotypenumbers": "strict",
          "coloraxis": {
           "colorbar": {
            "outlinewidth": 0,
            "ticks": ""
           }
          },
          "colorscale": {
           "diverging": [
            [
             0,
             "#8e0152"
            ],
            [
             0.1,
             "#c51b7d"
            ],
            [
             0.2,
             "#de77ae"
            ],
            [
             0.3,
             "#f1b6da"
            ],
            [
             0.4,
             "#fde0ef"
            ],
            [
             0.5,
             "#f7f7f7"
            ],
            [
             0.6,
             "#e6f5d0"
            ],
            [
             0.7,
             "#b8e186"
            ],
            [
             0.8,
             "#7fbc41"
            ],
            [
             0.9,
             "#4d9221"
            ],
            [
             1,
             "#276419"
            ]
           ],
           "sequential": [
            [
             0,
             "#0d0887"
            ],
            [
             0.1111111111111111,
             "#46039f"
            ],
            [
             0.2222222222222222,
             "#7201a8"
            ],
            [
             0.3333333333333333,
             "#9c179e"
            ],
            [
             0.4444444444444444,
             "#bd3786"
            ],
            [
             0.5555555555555556,
             "#d8576b"
            ],
            [
             0.6666666666666666,
             "#ed7953"
            ],
            [
             0.7777777777777778,
             "#fb9f3a"
            ],
            [
             0.8888888888888888,
             "#fdca26"
            ],
            [
             1,
             "#f0f921"
            ]
           ],
           "sequentialminus": [
            [
             0,
             "#0d0887"
            ],
            [
             0.1111111111111111,
             "#46039f"
            ],
            [
             0.2222222222222222,
             "#7201a8"
            ],
            [
             0.3333333333333333,
             "#9c179e"
            ],
            [
             0.4444444444444444,
             "#bd3786"
            ],
            [
             0.5555555555555556,
             "#d8576b"
            ],
            [
             0.6666666666666666,
             "#ed7953"
            ],
            [
             0.7777777777777778,
             "#fb9f3a"
            ],
            [
             0.8888888888888888,
             "#fdca26"
            ],
            [
             1,
             "#f0f921"
            ]
           ]
          },
          "colorway": [
           "#636efa",
           "#EF553B",
           "#00cc96",
           "#ab63fa",
           "#FFA15A",
           "#19d3f3",
           "#FF6692",
           "#B6E880",
           "#FF97FF",
           "#FECB52"
          ],
          "font": {
           "color": "#2a3f5f"
          },
          "geo": {
           "bgcolor": "white",
           "lakecolor": "white",
           "landcolor": "#E5ECF6",
           "showlakes": true,
           "showland": true,
           "subunitcolor": "white"
          },
          "hoverlabel": {
           "align": "left"
          },
          "hovermode": "closest",
          "mapbox": {
           "style": "light"
          },
          "paper_bgcolor": "white",
          "plot_bgcolor": "#E5ECF6",
          "polar": {
           "angularaxis": {
            "gridcolor": "white",
            "linecolor": "white",
            "ticks": ""
           },
           "bgcolor": "#E5ECF6",
           "radialaxis": {
            "gridcolor": "white",
            "linecolor": "white",
            "ticks": ""
           }
          },
          "scene": {
           "xaxis": {
            "backgroundcolor": "#E5ECF6",
            "gridcolor": "white",
            "gridwidth": 2,
            "linecolor": "white",
            "showbackground": true,
            "ticks": "",
            "zerolinecolor": "white"
           },
           "yaxis": {
            "backgroundcolor": "#E5ECF6",
            "gridcolor": "white",
            "gridwidth": 2,
            "linecolor": "white",
            "showbackground": true,
            "ticks": "",
            "zerolinecolor": "white"
           },
           "zaxis": {
            "backgroundcolor": "#E5ECF6",
            "gridcolor": "white",
            "gridwidth": 2,
            "linecolor": "white",
            "showbackground": true,
            "ticks": "",
            "zerolinecolor": "white"
           }
          },
          "shapedefaults": {
           "line": {
            "color": "#2a3f5f"
           }
          },
          "ternary": {
           "aaxis": {
            "gridcolor": "white",
            "linecolor": "white",
            "ticks": ""
           },
           "baxis": {
            "gridcolor": "white",
            "linecolor": "white",
            "ticks": ""
           },
           "bgcolor": "#E5ECF6",
           "caxis": {
            "gridcolor": "white",
            "linecolor": "white",
            "ticks": ""
           }
          },
          "title": {
           "x": 0.05
          },
          "xaxis": {
           "automargin": true,
           "gridcolor": "white",
           "linecolor": "white",
           "ticks": "",
           "title": {
            "standoff": 15
           },
           "zerolinecolor": "white",
           "zerolinewidth": 2
          },
          "yaxis": {
           "automargin": true,
           "gridcolor": "white",
           "linecolor": "white",
           "ticks": "",
           "title": {
            "standoff": 15
           },
           "zerolinecolor": "white",
           "zerolinewidth": 2
          }
         }
        },
        "xaxis": {
         "anchor": "y",
         "domain": [
          0,
          1
         ],
         "title": {
          "text": "month"
         }
        },
        "yaxis": {
         "anchor": "x",
         "domain": [
          0,
          1
         ],
         "title": {
          "text": "count"
         }
        }
       }
      }
     },
     "metadata": {},
     "output_type": "display_data"
    }
   ],
   "source": [
    "# Filter data for $250K-$500K price level\n",
    "price_level_data = agg_df_no_property_type[\n",
    "    agg_df_no_property_type[\"price_level\"] == \"$250K-$500K\"\n",
    "]\n",
    "\n",
    "fig = px.line(\n",
    "    price_level_data,\n",
    "    x=\"month\",\n",
    "    y=\"count\",\n",
    "    color=\"event_name\",\n",
    ")\n",
    "fig.show()"
   ]
  }
 ],
 "metadata": {
  "kernelspec": {
   "display_name": "builders-for-builders-Fa07Wzap",
   "language": "python",
   "name": "python3"
  },
  "language_info": {
   "codemirror_mode": {
    "name": "ipython",
    "version": 3
   },
   "file_extension": ".py",
   "mimetype": "text/x-python",
   "name": "python",
   "nbconvert_exporter": "python",
   "pygments_lexer": "ipython3",
   "version": "3.12.2"
  }
 },
 "nbformat": 4,
 "nbformat_minor": 2
}
