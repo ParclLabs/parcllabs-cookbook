{
 "cells": [
  {
   "cell_type": "markdown",
   "metadata": {},
   "source": [
    "<center>\n",
    "<h1>Welcome to the Lab 🥼🧪</h1>\n",
    "</center>\n",
    "\n",
    "#### What will you create in this notebook?\n",
    "\n",
    "In this notebook, we will be creating a real time, interactive view of unit level data, combined with market level metrics. This notebook will work with zipcodes nationwide. \n",
    "\n",
    "<p align=\"center\">\n",
    "  <img src=\"../../../images/unit_level_dashboard.png\" alt=\"Alt text\">\n",
    "</p>\n",
    "\n",
    "#### Need help getting started?\n",
    "\n",
    "You will need an upgraded Parcl Labs API account to use this notebook. You can register and upgrade your account [here](https://dashboard.parcllabs.com/signup).\n",
    "\n",
    "To run this immediately, you can use Google Colab. Remember, you must set your `PARCL_LABS_API_KEY`.\n",
    "\n",
    "Run in collab --> [![Open in Colab](https://colab.research.google.com/assets/colab-badge.svg)](https://colab.research.google.com/github/ParclLabs/parcllabs-cookbook/blob/main/examples/housing_market_research/unit_level/unit_level_data.ipynb)"
   ]
  },
  {
   "cell_type": "markdown",
   "metadata": {},
   "source": [
    "### 1. Import the Parcl Labs Python Library"
   ]
  },
  {
   "cell_type": "code",
   "execution_count": 1,
   "metadata": {},
   "outputs": [],
   "source": [
    "import os\n",
    "import pandas as pd\n",
    "import plotly.express as px\n",
    "import plotly.graph_objects as go\n",
    "from parcllabs import ParclLabsClient\n",
    "from parcllabs.beta.charting.utils import create_labs_logo_dict\n",
    "\n",
    "\n",
    "client = ParclLabsClient(\n",
    "    api_key=os.environ.get('PARCL_LABS_API_KEY', \"<your Parcl Labs API key if not set as environment variable>\"), \n",
    "    limit=12 # set default limit\n",
    ")"
   ]
  },
  {
   "cell_type": "markdown",
   "metadata": {},
   "source": [
    "### 2. Retrieve Data"
   ]
  },
  {
   "cell_type": "code",
   "execution_count": 2,
   "metadata": {},
   "outputs": [],
   "source": [
    "# set buy box criteria and zip code\n",
    "ZIP_CODE = 30088\n",
    "SQ_FT_MIN = 1000\n",
    "SQ_FT_MAX = 2500\n",
    "YEAR_BUILT_MIN = 1990\n",
    "YEAR_BUILT_MAX = 2024\n",
    "PROPERTY_TYPE = 'single_family'\n",
    "\n",
    "\n",
    "unit_ids = client.property.search.retrieve(\n",
    "    zip=ZIP_CODE,\n",
    "    sq_ft_min=SQ_FT_MIN,\n",
    "    sq_ft_max=SQ_FT_MAX,\n",
    "    year_built_min=YEAR_BUILT_MIN,\n",
    "    year_built_max=YEAR_BUILT_MAX,\n",
    "    property_type=PROPERTY_TYPE\n",
    ")"
   ]
  },
  {
   "cell_type": "code",
   "execution_count": 3,
   "metadata": {},
   "outputs": [
    {
     "name": "stderr",
     "output_type": "stream",
     "text": [
      "on 298: /opt/anaconda3/envs/parcllabs/lib/python3.11/site-packages/parcllabs/services/data_utils.py:15: FutureWarning: The behavior of DataFrame concatenation with empty or all-NA entries is deprecated. In a future version, this will no longer exclude empty or all-NA columns when determining the result dtypes. To retain the old behavior, exclude the relevant entries before the concat operation.\n",
      "          output = pd.concat(non_empty_dfs).reset_index(drop=True)\n"
     ]
    },
    {
     "name": "stdout",
     "output_type": "stream",
     "text": [
      "|████████████████████████████████████████| 298/298 [100%] in 0.5s (597.66/s) \n"
     ]
    }
   ],
   "source": [
    "hist = client.property.events.retrieve(parcl_property_ids=unit_ids['parcl_property_id'].tolist())\n",
    "hist['event_date'] = pd.to_datetime(hist['event_date'])"
   ]
  },
  {
   "cell_type": "code",
   "execution_count": 4,
   "metadata": {},
   "outputs": [
    {
     "name": "stdout",
     "output_type": "stream",
     "text": [
      "|████████████████████████████████████████| 1/1 [100%] in 0.1s (9.36/s) \n",
      "|████████████████████████████████████████| 1/1 [100%] in 0.1s (10.28/s) \n",
      "|████████████████████████████████████████| 1/1 [100%] in 0.1s (9.97/s) \n"
     ]
    }
   ],
   "source": [
    "# retrieve market metrics\n",
    "# now lets enrich this same map with trending rental rates. First lets get the market id\n",
    "market_id = client.search.markets.retrieve(\n",
    "    query=ZIP_CODE,\n",
    "    location_type='ZIP5',\n",
    "    limit=1\n",
    ")\n",
    "\n",
    "start_date = '2023-01-01'\n",
    "yields = client.rental_market_metrics.gross_yield.retrieve(\n",
    "    parcl_ids=market_id['parcl_id'].tolist(),\n",
    "    property_type='SINGLE_FAMILY',\n",
    "    limit=1\n",
    ")\n",
    "\n",
    "prices = client.market_metrics.housing_event_prices.retrieve(\n",
    "    parcl_ids=market_id['parcl_id'].tolist(),\n",
    "    # start_date=start_date,\n",
    "    property_type='SINGLE_FAMILY',\n",
    "    limit=1\n",
    ")\n",
    "\n",
    "rental_inventory = client.rental_market_metrics.new_listings_for_rent_rolling_counts.retrieve(\n",
    "    parcl_ids=market_id['parcl_id'].tolist(),\n",
    "    property_type='SINGLE_FAMILY',\n",
    "    limit=1\n",
    ")\n",
    "\n",
    "rental_inventory_7_day = rental_inventory['rolling_7_day'].values[0]\n",
    "rental_inventory_30_day = rental_inventory['rolling_30_day'].values[0]\n",
    "gross_yields = yields['pct_gross_yield'].values[0]\n",
    "rental_price = prices['price_median_new_rental_listings'].values[0]"
   ]
  },
  {
   "cell_type": "markdown",
   "metadata": {},
   "source": [
    "### 3. Format Data"
   ]
  },
  {
   "cell_type": "code",
   "execution_count": 5,
   "metadata": {},
   "outputs": [],
   "source": [
    "df = hist.copy()\n",
    "df['rental'] = df['event_type'].apply(lambda x: 'Rentals' if 'RENTAL' in x else 'Sales or Listings')\n",
    "total_number_of_bbox_rental_units = df[df['rental'] == 'Rentals'].shape[0]\n",
    "total_number_of_bbox_recent_rentals = df[(df['rental'] == 'Rentals') & (df['event_date'] >= '6/1/2024')].shape[0]\n",
    "vacancy_rate = total_number_of_bbox_recent_rentals / total_number_of_bbox_rental_units"
   ]
  },
  {
   "cell_type": "code",
   "execution_count": 6,
   "metadata": {},
   "outputs": [],
   "source": [
    "# capture the last event date for each property\n",
    "maxv = df.groupby('parcl_property_id')['event_date'].max().reset_index(name='event_date')\n",
    "df = df.merge(maxv, on=['parcl_property_id', 'event_date'], how='inner')"
   ]
  },
  {
   "cell_type": "code",
   "execution_count": 7,
   "metadata": {},
   "outputs": [],
   "source": [
    "# date format for text\n",
    "df['event_date'] = df['event_date'].dt.strftime('%Y-%m-%d')"
   ]
  },
  {
   "cell_type": "code",
   "execution_count": 8,
   "metadata": {},
   "outputs": [],
   "source": [
    "def hover_data(row):\n",
    "    price = f\"{int(row['price'])}\" if not pd.isnull(row['price']) else ''\n",
    "    return f\"Date: {str(row['event_date']).split(' ')[0]}<br>Event Type: {row['event_type']}<br>Price: ${price}<br>Beds: {row['bedrooms']}<br>Baths: {row['bathrooms']}<br>Square Feet: {row['square_footage']}<br>Year Built: {row['year_built']}\"\n",
    "\n",
    "# tooltip data\n",
    "df['hover_data'] = df.apply(hover_data, axis=1)"
   ]
  },
  {
   "cell_type": "markdown",
   "metadata": {},
   "source": [
    "### 4. Plot Data"
   ]
  },
  {
   "cell_type": "code",
   "execution_count": 9,
   "metadata": {},
   "outputs": [
    {
     "data": {
      "application/vnd.plotly.v1+json": {
       "config": {
        "plotlyServerURL": "https://plot.ly"
       },
       "data": [
        {
         "hovertemplate": "%{hovertext}",
         "hovertext": [
          "Date: 2022-05-11<br>Event Type: SALE<br>Price: $350000<br>Beds: 4<br>Baths: 2.5<br>Square Feet: 2230<br>Year Built: 1992",
          "Date: 2021-09-20<br>Event Type: SALE<br>Price: $256000<br>Beds: 4<br>Baths: 2.5<br>Square Feet: 2036<br>Year Built: 2000",
          "Date: 2020-10-06<br>Event Type: SALE<br>Price: $165000<br>Beds: 4<br>Baths: 2.5<br>Square Feet: 1648<br>Year Built: 1990",
          "Date: 2022-05-31<br>Event Type: SALE<br>Price: $340000<br>Beds: 4<br>Baths: 2.5<br>Square Feet: 2283<br>Year Built: 1999",
          "Date: 2022-10-03<br>Event Type: SALE<br>Price: $384900<br>Beds: 3<br>Baths: 2.5<br>Square Feet: 2481<br>Year Built: 2022",
          "Date: 2020-05-18<br>Event Type: SALE<br>Price: $169450<br>Beds: 4<br>Baths: 2.5<br>Square Feet: 2346<br>Year Built: 1990",
          "Date: 2022-11-02<br>Event Type: SALE<br>Price: $267500<br>Beds: 3<br>Baths: 3.5<br>Square Feet: 1842<br>Year Built: 1991",
          "Date: 2024-05-22<br>Event Type: LISTING<br>Price: $209900<br>Beds: 2<br>Baths: 2.0<br>Square Feet: 1310<br>Year Built: 2006",
          "Date: 2020-04-10<br>Event Type: SALE<br>Price: $<br>Beds: 3<br>Baths: 3.0<br>Square Feet: 1608<br>Year Built: 1990",
          "Date: 2021-08-03<br>Event Type: SALE<br>Price: $220000<br>Beds: 3<br>Baths: 3.0<br>Square Feet: 2012<br>Year Built: 1992",
          "Date: 2023-10-04<br>Event Type: SALE<br>Price: $389900<br>Beds: 3<br>Baths: 2.5<br>Square Feet: 2481<br>Year Built: 2022",
          "Date: 2019-09-17<br>Event Type: SALE<br>Price: $177000<br>Beds: 3<br>Baths: 0.0<br>Square Feet: 1837<br>Year Built: 1992",
          "Date: 2021-11-12<br>Event Type: SALE<br>Price: $371839<br>Beds: 5<br>Baths: 0.0<br>Square Feet: 1796<br>Year Built: 1994",
          "Date: 2020-11-02<br>Event Type: SALE<br>Price: $237000<br>Beds: 4<br>Baths: 3.5<br>Square Feet: 2324<br>Year Built: 1990",
          "Date: 2024-06-10<br>Event Type: LISTING<br>Price: $399995<br>Beds: 3<br>Baths: 2.5<br>Square Feet: 2486<br>Year Built: 2024",
          "Date: 2023-08-03<br>Event Type: SALE<br>Price: $<br>Beds: 3<br>Baths: 3.0<br>Square Feet: 1954<br>Year Built: 1992",
          "Date: 2020-08-12<br>Event Type: SALE<br>Price: $262000<br>Beds: 3<br>Baths: 2.5<br>Square Feet: 2481<br>Year Built: 2019",
          "Date: 2022-10-28<br>Event Type: SALE<br>Price: $276000<br>Beds: 3<br>Baths: 2.0<br>Square Feet: 1498<br>Year Built: 1990",
          "Date: 2023-11-07<br>Event Type: SALE<br>Price: $320000<br>Beds: 3<br>Baths: 2.5<br>Square Feet: 2170<br>Year Built: 1992",
          "Date: 2019-07-19<br>Event Type: SALE<br>Price: $<br>Beds: 4<br>Baths: 4.0<br>Square Feet: 2494<br>Year Built: 1997",
          "Date: 2022-09-21<br>Event Type: SALE<br>Price: $<br>Beds: 3<br>Baths: 3.0<br>Square Feet: 1730<br>Year Built: 1992",
          "Date: 2022-11-07<br>Event Type: SALE<br>Price: $320000<br>Beds: 3<br>Baths: 2.5<br>Square Feet: 1940<br>Year Built: 1991",
          "Date: 2021-10-21<br>Event Type: SALE<br>Price: $265000<br>Beds: 3<br>Baths: 2.5<br>Square Feet: 2018<br>Year Built: 1991",
          "Date: 2020-12-04<br>Event Type: SALE<br>Price: $<br>Beds: 3<br>Baths: 2.5<br>Square Feet: 1826<br>Year Built: 1993",
          "Date: 2024-05-24<br>Event Type: LISTING<br>Price: $310000<br>Beds: 3<br>Baths: 2.5<br>Square Feet: 2147<br>Year Built: 1994",
          "Date: 2019-11-05<br>Event Type: SALE<br>Price: $183000<br>Beds: 4<br>Baths: 2.5<br>Square Feet: 1824<br>Year Built: 1992",
          "Date: 2023-09-26<br>Event Type: SALE<br>Price: $<br>Beds: 3<br>Baths: 2.5<br>Square Feet: 2395<br>Year Built: 2019",
          "Date: 2022-08-02<br>Event Type: SALE<br>Price: $353900<br>Beds: 3<br>Baths: 2.5<br>Square Feet: 2273<br>Year Built: 2022",
          "Date: 2023-02-09<br>Event Type: SALE<br>Price: $<br>Beds: 3<br>Baths: 3.0<br>Square Feet: 1684<br>Year Built: 2002",
          "Date: 2020-07-02<br>Event Type: SALE<br>Price: $144000<br>Beds: 3<br>Baths: 2.5<br>Square Feet: 1636<br>Year Built: 1993",
          "Date: 2019-12-26<br>Event Type: SALE<br>Price: $120000<br>Beds: 3<br>Baths: 0.0<br>Square Feet: 2158<br>Year Built: 1993",
          "Date: 2019-12-30<br>Event Type: SALE<br>Price: $168000<br>Beds: 5<br>Baths: 3.0<br>Square Feet: 1746<br>Year Built: 1993",
          "Date: 2022-07-14<br>Event Type: SALE<br>Price: $350000<br>Beds: 3<br>Baths: 2.5<br>Square Feet: 1806<br>Year Built: 1993",
          "Date: 2020-08-28<br>Event Type: SALE<br>Price: $<br>Beds: 3<br>Baths: 0.0<br>Square Feet: 1452<br>Year Built: 1990",
          "Date: 2021-01-08<br>Event Type: SALE<br>Price: $199900<br>Beds: 3<br>Baths: 3.0<br>Square Feet: 1683<br>Year Built: 1997",
          "Date: 2022-11-23<br>Event Type: SALE<br>Price: $<br>Beds: 3<br>Baths: 3.0<br>Square Feet: 1644<br>Year Built: 1996",
          "Date: 2024-01-22<br>Event Type: SALE<br>Price: $<br>Beds: 3<br>Baths: 3.5<br>Square Feet: 1992<br>Year Built: 2006",
          "Date: 2021-06-16<br>Event Type: SALE<br>Price: $<br>Beds: 4<br>Baths: 3.0<br>Square Feet: 2374<br>Year Built: 1990",
          "Date: 2024-05-02<br>Event Type: SALE<br>Price: $342000<br>Beds: 4<br>Baths: 3.5<br>Square Feet: 2487<br>Year Built: 1990",
          "Date: 2019-04-03<br>Event Type: SALE<br>Price: $100000<br>Beds: 3<br>Baths: 3.0<br>Square Feet: 1558<br>Year Built: 1992",
          "Date: 2024-04-15<br>Event Type: SALE<br>Price: $296000<br>Beds: 4<br>Baths: 3.5<br>Square Feet: 2078<br>Year Built: 1992",
          "Date: 2023-02-28<br>Event Type: SALE<br>Price: $265000<br>Beds: 4<br>Baths: 3.0<br>Square Feet: 1542<br>Year Built: 2004",
          "Date: 2020-10-20<br>Event Type: SALE<br>Price: $<br>Beds: 4<br>Baths: 0.0<br>Square Feet: 2466<br>Year Built: 1992",
          "Date: 2021-07-23<br>Event Type: SALE<br>Price: $<br>Beds: 4<br>Baths: 3.0<br>Square Feet: 2478<br>Year Built: 1993",
          "Date: 2024-06-10<br>Event Type: LISTING<br>Price: $399995<br>Beds: 3<br>Baths: 2.5<br>Square Feet: 2436<br>Year Built: 2024",
          "Date: 2022-08-17<br>Event Type: SALE<br>Price: $283000<br>Beds: 3<br>Baths: 0.0<br>Square Feet: 1674<br>Year Built: 1990",
          "Date: 2020-01-08<br>Event Type: SALE<br>Price: $253400<br>Beds: 3<br>Baths: 0.0<br>Square Feet: 2499<br>Year Built: 2019",
          "Date: 2020-11-04<br>Event Type: SALE<br>Price: $<br>Beds: 3<br>Baths: 3.0<br>Square Feet: 2163<br>Year Built: 1991",
          "Date: 2020-12-31<br>Event Type: SALE<br>Price: $236000<br>Beds: 4<br>Baths: 2.5<br>Square Feet: 2411<br>Year Built: 1997",
          "Date: 2022-04-09<br>Event Type: SALE<br>Price: $<br>Beds: 3<br>Baths: 2.0<br>Square Feet: 1847<br>Year Built: 1990",
          "Date: 2023-06-01<br>Event Type: SALE<br>Price: $<br>Beds: 3<br>Baths: 2.5<br>Square Feet: 2273<br>Year Built: 2022",
          "Date: 2020-05-20<br>Event Type: SALE<br>Price: $262500<br>Beds: 3<br>Baths: 3.0<br>Square Feet: 2395<br>Year Built: 2019",
          "Date: 2024-04-16<br>Event Type: SALE<br>Price: $<br>Beds: 4<br>Baths: 3.0<br>Square Feet: 1713<br>Year Built: 1995",
          "Date: 2023-12-14<br>Event Type: LISTING<br>Price: $249900<br>Beds: 3<br>Baths: 3.5<br>Square Feet: 1852<br>Year Built: 1991",
          "Date: 2019-06-06<br>Event Type: SALE<br>Price: $241000<br>Beds: 3<br>Baths: 3.0<br>Square Feet: 2395<br>Year Built: 2019",
          "Date: 2019-05-30<br>Event Type: SALE<br>Price: $204500<br>Beds: 4<br>Baths: 3.0<br>Square Feet: 2308<br>Year Built: 1990",
          "Date: 2023-06-07<br>Event Type: SALE<br>Price: $305000<br>Beds: 4<br>Baths: 3.5<br>Square Feet: 2384<br>Year Built: 1996",
          "Date: 2021-04-08<br>Event Type: SALE<br>Price: $<br>Beds: 3<br>Baths: 3.0<br>Square Feet: 1640<br>Year Built: 1990",
          "Date: 2023-07-19<br>Event Type: SALE<br>Price: $389900<br>Beds: 3<br>Baths: 3.5<br>Square Feet: 2481<br>Year Built: 2022",
          "Date: 2024-06-27<br>Event Type: LISTING<br>Price: $249900<br>Beds: 4<br>Baths: 3.5<br>Square Feet: 2072<br>Year Built: 1991",
          "Date: 2019-02-14<br>Event Type: SALE<br>Price: $150000<br>Beds: 3<br>Baths: 3.0<br>Square Feet: 1700<br>Year Built: 1992",
          "Date: 2022-04-14<br>Event Type: SALE<br>Price: $<br>Beds: 3<br>Baths: 2.0<br>Square Feet: 1546<br>Year Built: 1994",
          "Date: 2024-05-02<br>Event Type: SALE<br>Price: $<br>Beds: 3<br>Baths: 3.0<br>Square Feet: 2031<br>Year Built: 1990",
          "Date: 2019-02-20<br>Event Type: SALE<br>Price: $145000<br>Beds: 3<br>Baths: 3.0<br>Square Feet: 2080<br>Year Built: 1991",
          "Date: 2021-01-27<br>Event Type: SALE<br>Price: $<br>Beds: 4<br>Baths: 3.0<br>Square Feet: 2056<br>Year Built: 1990",
          "Date: 2024-01-19<br>Event Type: SALE<br>Price: $<br>Beds: 4<br>Baths: 2.0<br>Square Feet: 2024<br>Year Built: 2004",
          "Date: 2019-02-04<br>Event Type: SALE<br>Price: $155000<br>Beds: 4<br>Baths: 3.0<br>Square Feet: 2290<br>Year Built: 1992",
          "Date: 2024-03-18<br>Event Type: SALE<br>Price: $350000<br>Beds: 4<br>Baths: 3.0<br>Square Feet: 2061<br>Year Built: 1990",
          "Date: 2020-04-13<br>Event Type: SALE<br>Price: $215000<br>Beds: 4<br>Baths: 0.0<br>Square Feet: 2181<br>Year Built: 1991",
          "Date: 2021-12-20<br>Event Type: SALE<br>Price: $285000<br>Beds: 4<br>Baths: 2.5<br>Square Feet: 2332<br>Year Built: 1995",
          "Date: 2021-10-29<br>Event Type: SALE<br>Price: $275000<br>Beds: 4<br>Baths: 2.5<br>Square Feet: 2200<br>Year Built: 1991",
          "Date: 2020-12-15<br>Event Type: SALE<br>Price: $186000<br>Beds: 3<br>Baths: 3.0<br>Square Feet: 1633<br>Year Built: 1990",
          "Date: 2020-02-07<br>Event Type: SALE<br>Price: $165000<br>Beds: 3<br>Baths: 3.0<br>Square Feet: 2351<br>Year Built: 2018",
          "Date: 2023-09-12<br>Event Type: SALE<br>Price: $386000<br>Beds: 3<br>Baths: 3.0<br>Square Feet: 2194<br>Year Built: 2023",
          "Date: 2024-05-31<br>Event Type: LISTING<br>Price: $375000<br>Beds: 3<br>Baths: 2.5<br>Square Feet: 1192<br>Year Built: 1993",
          "Date: 2020-09-08<br>Event Type: SALE<br>Price: $<br>Beds: 4<br>Baths: 3.0<br>Square Feet: 2294<br>Year Built: 1995",
          "Date: 2023-01-31<br>Event Type: SALE<br>Price: $275000<br>Beds: 3<br>Baths: 2.0<br>Square Feet: 1780<br>Year Built: 2004",
          "Date: 2023-07-27<br>Event Type: SALE<br>Price: $305000<br>Beds: 4<br>Baths: 2.5<br>Square Feet: 2282<br>Year Built: 1991",
          "Date: 2019-10-21<br>Event Type: SALE<br>Price: $210000<br>Beds: 4<br>Baths: 2.5<br>Square Feet: 2172<br>Year Built: 2002",
          "Date: 2021-08-19<br>Event Type: SALE<br>Price: $295000<br>Beds: 3<br>Baths: 2.5<br>Square Feet: 2481<br>Year Built: 2020",
          "Date: 2020-03-19<br>Event Type: SALE<br>Price: $257900<br>Beds: 3<br>Baths: 2.5<br>Square Feet: 2273<br>Year Built: 2019",
          "Date: 2023-10-09<br>Event Type: SALE<br>Price: $99000<br>Beds: 3<br>Baths: 2.0<br>Square Feet: 1512<br>Year Built: 1995",
          "Date: 2024-04-23<br>Event Type: SALE<br>Price: $<br>Beds: 3<br>Baths: 3.0<br>Square Feet: 1860<br>Year Built: 1997",
          "Date: 2020-09-29<br>Event Type: SALE<br>Price: $189500<br>Beds: 3<br>Baths: 2.5<br>Square Feet: 2127<br>Year Built: 1997",
          "Date: 2024-01-23<br>Event Type: SALE<br>Price: $305000<br>Beds: 4<br>Baths: 3.5<br>Square Feet: 2139<br>Year Built: 1992",
          "Date: 2021-06-30<br>Event Type: SALE<br>Price: $200000<br>Beds: 3<br>Baths: 2.5<br>Square Feet: 1643<br>Year Built: 1990",
          "Date: 2024-06-13<br>Event Type: LISTING<br>Price: $349000<br>Beds: 3<br>Baths: 2.0<br>Square Feet: 1889<br>Year Built: 1990",
          "Date: 2020-11-18<br>Event Type: SALE<br>Price: $176500<br>Beds: 3<br>Baths: 2.5<br>Square Feet: 2186<br>Year Built: 1991",
          "Date: 2020-10-29<br>Event Type: SALE<br>Price: $<br>Beds: 4<br>Baths: 3.0<br>Square Feet: 2036<br>Year Built: 1992",
          "Date: 2020-06-11<br>Event Type: SALE<br>Price: $203500<br>Beds: 4<br>Baths: 2.5<br>Square Feet: 2051<br>Year Built: 1991",
          "Date: 2019-09-24<br>Event Type: SALE<br>Price: $170000<br>Beds: 4<br>Baths: 2.5<br>Square Feet: 2022<br>Year Built: 1990",
          "Date: 2019-01-24<br>Event Type: SALE<br>Price: $<br>Beds: 4<br>Baths: 3.0<br>Square Feet: 2282<br>Year Built: 1991",
          "Date: 2022-05-05<br>Event Type: SALE<br>Price: $<br>Beds: 3<br>Baths: 0.0<br>Square Feet: 1451<br>Year Built: 1991",
          "Date: 2020-07-02<br>Event Type: SALE<br>Price: $142000<br>Beds: 4<br>Baths: 3.0<br>Square Feet: 1964<br>Year Built: 1995",
          "Date: 2023-02-27<br>Event Type: SALE<br>Price: $305000<br>Beds: 4<br>Baths: 2.5<br>Square Feet: 2242<br>Year Built: 1991",
          "Date: 2021-10-06<br>Event Type: SALE<br>Price: $<br>Beds: 4<br>Baths: 3.0<br>Square Feet: 2463<br>Year Built: 2006",
          "Date: 2023-05-09<br>Event Type: SALE<br>Price: $178800<br>Beds: 4<br>Baths: 0.0<br>Square Feet: 1120<br>Year Built: 1990",
          "Date: 2019-04-30<br>Event Type: SALE<br>Price: $602400<br>Beds: 4<br>Baths: 3.0<br>Square Feet: 2028<br>Year Built: 1991",
          "Date: 2023-11-17<br>Event Type: SALE<br>Price: $275000<br>Beds: 3<br>Baths: 3.5<br>Square Feet: 1665<br>Year Built: 1990",
          "Date: 2021-06-29<br>Event Type: SALE<br>Price: $170000<br>Beds: 4<br>Baths: 0.0<br>Square Feet: 2250<br>Year Built: 2009",
          "Date: 2020-01-28<br>Event Type: SALE<br>Price: $<br>Beds: 3<br>Baths: 3.0<br>Square Feet: 1727<br>Year Built: 1993",
          "Date: 2020-08-21<br>Event Type: SALE<br>Price: $<br>Beds: 3<br>Baths: 3.0<br>Square Feet: 2488<br>Year Built: 1994",
          "Date: 2019-06-25<br>Event Type: SALE<br>Price: $155500<br>Beds: 3<br>Baths: 3.0<br>Square Feet: 2190<br>Year Built: 1994",
          "Date: 2024-06-03<br>Event Type: SALE<br>Price: $329000<br>Beds: 3<br>Baths: 3.5<br>Square Feet: 1838<br>Year Built: 1991",
          "Date: 2023-05-01<br>Event Type: SALE<br>Price: $310000<br>Beds: 3<br>Baths: 2.5<br>Square Feet: 2398<br>Year Built: 1996",
          "Date: 2021-03-23<br>Event Type: SALE<br>Price: $210000<br>Beds: 4<br>Baths: 2.0<br>Square Feet: 1720<br>Year Built: 2003",
          "Date: 2023-11-05<br>Event Type: LISTING<br>Price: $240000<br>Beds: 3<br>Baths: 2.0<br>Square Feet: 1392<br>Year Built: 1998",
          "Date: 2019-06-13<br>Event Type: SALE<br>Price: $<br>Beds: 4<br>Baths: 3.0<br>Square Feet: 2028<br>Year Built: 1991",
          "Date: 2019-11-05<br>Event Type: SALE<br>Price: $128000<br>Beds: 3<br>Baths: 2.0<br>Square Feet: 1452<br>Year Built: 1991",
          "Date: 2019-07-29<br>Event Type: SALE<br>Price: $<br>Beds: 3<br>Baths: 2.0<br>Square Feet: 1338<br>Year Built: 1990",
          "Date: 2021-08-19<br>Event Type: SALE<br>Price: $242500<br>Beds: 4<br>Baths: 0.0<br>Square Feet: 1720<br>Year Built: 1999",
          "Date: 2020-11-25<br>Event Type: SALE<br>Price: $<br>Beds: 4<br>Baths: 3.0<br>Square Feet: 2247<br>Year Built: 1990",
          "Date: 2020-12-30<br>Event Type: SALE<br>Price: $<br>Beds: 4<br>Baths: 3.0<br>Square Feet: 1588<br>Year Built: 1999",
          "Date: 2022-02-24<br>Event Type: SALE<br>Price: $265000<br>Beds: 3<br>Baths: 2.0<br>Square Feet: 1587<br>Year Built: 1990",
          "Date: 2023-03-20<br>Event Type: SALE<br>Price: $290000<br>Beds: 3<br>Baths: 3.0<br>Square Feet: 2046<br>Year Built: 1991",
          "Date: 2023-03-31<br>Event Type: SALE<br>Price: $295000<br>Beds: 4<br>Baths: 2.0<br>Square Feet: 1953<br>Year Built: 1990",
          "Date: 2021-07-01<br>Event Type: SALE<br>Price: $282000<br>Beds: 4<br>Baths: 2.5<br>Square Feet: 2194<br>Year Built: 1993",
          "Date: 2024-04-12<br>Event Type: SALE<br>Price: $<br>Beds: 3<br>Baths: 2.0<br>Square Feet: 1390<br>Year Built: 1991",
          "Date: 2019-07-11<br>Event Type: SALE<br>Price: $144500<br>Beds: 3<br>Baths: 3.0<br>Square Feet: 1810<br>Year Built: 1990",
          "Date: 2022-01-26<br>Event Type: SALE<br>Price: $<br>Beds: 4<br>Baths: 4.0<br>Square Feet: 2410<br>Year Built: 1991",
          "Date: 2019-03-29<br>Event Type: SALE<br>Price: $<br>Beds: 3<br>Baths: 3.0<br>Square Feet: 1736<br>Year Built: 1992",
          "Date: 2022-10-31<br>Event Type: SALE<br>Price: $267500<br>Beds: 3<br>Baths: 2.5<br>Square Feet: 1936<br>Year Built: 1991",
          "Date: 2020-12-30<br>Event Type: SALE<br>Price: $249500<br>Beds: 4<br>Baths: 2.5<br>Square Feet: 2000<br>Year Built: 2002",
          "Date: 2024-06-28<br>Event Type: LISTING<br>Price: $279900<br>Beds: 3<br>Baths: 3.0<br>Square Feet: 1694<br>Year Built: 1990",
          "Date: 2024-02-14<br>Event Type: SALE<br>Price: $275000<br>Beds: 3<br>Baths: 2.0<br>Square Feet: 1587<br>Year Built: 1990",
          "Date: 2020-01-22<br>Event Type: SALE<br>Price: $200000<br>Beds: 4<br>Baths: 2.5<br>Square Feet: 2234<br>Year Built: 1992",
          "Date: 2019-04-24<br>Event Type: SALE<br>Price: $170000<br>Beds: 3<br>Baths: 3.0<br>Square Feet: 2428<br>Year Built: 2003",
          "Date: 2022-05-09<br>Event Type: SALE<br>Price: $305000<br>Beds: 3<br>Baths: 2.5<br>Square Feet: 1897<br>Year Built: 1992",
          "Date: 2019-12-18<br>Event Type: SALE<br>Price: $75000<br>Beds: 3<br>Baths: 0.0<br>Square Feet: 1570<br>Year Built: 1991",
          "Date: 2022-10-14<br>Event Type: SALE<br>Price: $<br>Beds: 4<br>Baths: 3.0<br>Square Feet: 2408<br>Year Built: 1994",
          "Date: 2022-04-12<br>Event Type: SALE<br>Price: $263000<br>Beds: 3<br>Baths: 2.5<br>Square Feet: 1712<br>Year Built: 1993",
          "Date: 2019-11-25<br>Event Type: SALE<br>Price: $193000<br>Beds: 4<br>Baths: 3.5<br>Square Feet: 2242<br>Year Built: 1990",
          "Date: 2021-04-09<br>Event Type: SALE<br>Price: $162000<br>Beds: 5<br>Baths: 0.0<br>Square Feet: 1448<br>Year Built: 1990",
          "Date: 2022-06-01<br>Event Type: SALE<br>Price: $145000<br>Beds: 3<br>Baths: 0.0<br>Square Feet: 1361<br>Year Built: 1995",
          "Date: 2020-10-01<br>Event Type: SALE<br>Price: $<br>Beds: 4<br>Baths: 3.0<br>Square Feet: 2334<br>Year Built: 1992",
          "Date: 2024-03-18<br>Event Type: LISTING<br>Price: $274000<br>Beds: 3<br>Baths: 2.0<br>Square Feet: 1571<br>Year Built: 1997",
          "Date: 2021-12-08<br>Event Type: SALE<br>Price: $7574319<br>Beds: 3<br>Baths: 3.0<br>Square Feet: 2462<br>Year Built: 1992",
          "Date: 2019-09-12<br>Event Type: SALE<br>Price: $206000<br>Beds: 4<br>Baths: 3.0<br>Square Feet: 2232<br>Year Built: 1991",
          "Date: 2022-09-15<br>Event Type: SALE<br>Price: $<br>Beds: 3<br>Baths: 2.5<br>Square Feet: 1852<br>Year Built: 1991",
          "Date: 2023-11-07<br>Event Type: SALE<br>Price: $325000<br>Beds: 4<br>Baths: 3.5<br>Square Feet: 2364<br>Year Built: 1992",
          "Date: 2020-11-19<br>Event Type: SALE<br>Price: $142500<br>Beds: 3<br>Baths: 0.0<br>Square Feet: 1546<br>Year Built: 1995",
          "Date: 2024-05-17<br>Event Type: LISTING<br>Price: $286000<br>Beds: 3<br>Baths: 3.5<br>Square Feet: 1400<br>Year Built: 1995",
          "Date: 2024-06-14<br>Event Type: LISTING<br>Price: $290000<br>Beds: 4<br>Baths: 3.0<br>Square Feet: 1824<br>Year Built: 1996",
          "Date: 2023-08-02<br>Event Type: SALE<br>Price: $<br>Beds: 4<br>Baths: 3.0<br>Square Feet: 2208<br>Year Built: 1994",
          "Date: 2020-07-08<br>Event Type: SALE<br>Price: $185000<br>Beds: 4<br>Baths: 2.5<br>Square Feet: 2295<br>Year Built: 1990",
          "Date: 2023-05-12<br>Event Type: SALE<br>Price: $300000<br>Beds: 3<br>Baths: 2.5<br>Square Feet: 1712<br>Year Built: 1991",
          "Date: 2019-08-16<br>Event Type: SALE<br>Price: $188600<br>Beds: 4<br>Baths: 3.0<br>Square Feet: 2422<br>Year Built: 1991",
          "Date: 2020-01-29<br>Event Type: SALE<br>Price: $195000<br>Beds: 4<br>Baths: 2.5<br>Square Feet: 2230<br>Year Built: 1992",
          "Date: 2020-01-31<br>Event Type: SALE<br>Price: $119400<br>Beds: 3<br>Baths: 0.0<br>Square Feet: 1484<br>Year Built: 1991",
          "Date: 2021-02-22<br>Event Type: SALE<br>Price: $<br>Beds: 3<br>Baths: 2.0<br>Square Feet: 1760<br>Year Built: 1990",
          "Date: 2021-05-14<br>Event Type: SALE<br>Price: $215000<br>Beds: 3<br>Baths: 2.5<br>Square Feet: 2018<br>Year Built: 1991",
          "Date: 2021-02-18<br>Event Type: SALE<br>Price: $<br>Beds: 3<br>Baths: 3.0<br>Square Feet: 1781<br>Year Built: 1992",
          "Date: 2020-11-20<br>Event Type: SALE<br>Price: $156000<br>Beds: 3<br>Baths: 2.0<br>Square Feet: 1392<br>Year Built: 1995",
          "Date: 2021-03-01<br>Event Type: SALE<br>Price: $<br>Beds: 3<br>Baths: 3.0<br>Square Feet: 2283<br>Year Built: 1999",
          "Date: 2019-04-05<br>Event Type: SALE<br>Price: $162500<br>Beds: 3<br>Baths: 3.0<br>Square Feet: 2060<br>Year Built: 1992",
          "Date: 2023-06-02<br>Event Type: SALE<br>Price: $354900<br>Beds: 3<br>Baths: 2.0<br>Square Feet: 2180<br>Year Built: 2023",
          "Date: 2024-06-07<br>Event Type: LISTING<br>Price: $244000<br>Beds: 3<br>Baths: 2.0<br>Square Feet: 1482<br>Year Built: 1999",
          "Date: 2019-07-15<br>Event Type: SALE<br>Price: $132000<br>Beds: 3<br>Baths: 3.0<br>Square Feet: 2396<br>Year Built: 1993",
          "Date: 2020-09-29<br>Event Type: SALE<br>Price: $171000<br>Beds: 3<br>Baths: 3.0<br>Square Feet: 1580<br>Year Built: 2002",
          "Date: 2023-03-17<br>Event Type: SALE<br>Price: $267000<br>Beds: 3<br>Baths: 2.5<br>Square Feet: 1400<br>Year Built: 1995",
          "Date: 2020-03-09<br>Event Type: SALE<br>Price: $<br>Beds: 4<br>Baths: 3.0<br>Square Feet: 2344<br>Year Built: 1992",
          "Date: 2021-12-08<br>Event Type: SALE<br>Price: $<br>Beds: 3<br>Baths: 2.0<br>Square Feet: 1360<br>Year Built: 1998",
          "Date: 2020-01-23<br>Event Type: SALE<br>Price: $<br>Beds: 3<br>Baths: 3.0<br>Square Feet: 1725<br>Year Built: 1992",
          "Date: 2019-01-10<br>Event Type: SALE<br>Price: $125000<br>Beds: 4<br>Baths: 2.0<br>Square Feet: 2003<br>Year Built: 1990",
          "Date: 2024-04-04<br>Event Type: SALE<br>Price: $293000<br>Beds: 3<br>Baths: 3.5<br>Square Feet: 2000<br>Year Built: 1993",
          "Date: 2021-08-30<br>Event Type: SALE<br>Price: $253500<br>Beds: 3<br>Baths: 2.5<br>Square Feet: 1897<br>Year Built: 1993",
          "Date: 2021-07-28<br>Event Type: SALE<br>Price: $260000<br>Beds: 4<br>Baths: 2.5<br>Square Feet: 2400<br>Year Built: 1998",
          "Date: 2021-11-08<br>Event Type: SALE<br>Price: $250000<br>Beds: 4<br>Baths: 0.0<br>Square Feet: 2440<br>Year Built: 1991",
          "Date: 2020-02-25<br>Event Type: SALE<br>Price: $<br>Beds: 3<br>Baths: 2.0<br>Square Feet: 1284<br>Year Built: 1995",
          "Date: 2021-12-14<br>Event Type: SALE<br>Price: $<br>Beds: 4<br>Baths: 3.0<br>Square Feet: 1472<br>Year Built: 2000",
          "Date: 2022-01-28<br>Event Type: SALE<br>Price: $310000<br>Beds: 4<br>Baths: 2.5<br>Square Feet: 2326<br>Year Built: 1997",
          "Date: 2024-03-27<br>Event Type: SALE<br>Price: $<br>Beds: 3<br>Baths: 2.0<br>Square Feet: 1736<br>Year Built: 1990",
          "Date: 2020-01-14<br>Event Type: SALE<br>Price: $162800<br>Beds: 4<br>Baths: 2.5<br>Square Feet: 2036<br>Year Built: 1991",
          "Date: 2022-10-27<br>Event Type: SALE<br>Price: $<br>Beds: 4<br>Baths: 3.0<br>Square Feet: 2166<br>Year Built: 2006",
          "Date: 2024-06-13<br>Event Type: SALE<br>Price: $<br>Beds: 3<br>Baths: 2.0<br>Square Feet: 1344<br>Year Built: 1996",
          "Date: 2020-08-25<br>Event Type: SALE<br>Price: $202000<br>Beds: 4<br>Baths: 2.5<br>Square Feet: 2477<br>Year Built: 1991",
          "Date: 2024-06-20<br>Event Type: SALE<br>Price: $385000<br>Beds: 3<br>Baths: 3.5<br>Square Feet: 1800<br>Year Built: 1990",
          "Date: 2021-04-08<br>Event Type: SALE<br>Price: $<br>Beds: 3<br>Baths: 3.0<br>Square Feet: 1808<br>Year Built: 1996",
          "Date: 2020-01-29<br>Event Type: SALE<br>Price: $158000<br>Beds: 3<br>Baths: 2.0<br>Square Feet: 1662<br>Year Built: 1995",
          "Date: 2024-02-02<br>Event Type: SALE<br>Price: $260000<br>Beds: 3<br>Baths: 2.0<br>Square Feet: 1701<br>Year Built: 1992",
          "Date: 2023-03-27<br>Event Type: SALE<br>Price: $245589<br>Beds: 3<br>Baths: 2.0<br>Square Feet: 1510<br>Year Built: 1994",
          "Date: 2021-08-31<br>Event Type: SALE<br>Price: $<br>Beds: 5<br>Baths: 3.0<br>Square Feet: 2408<br>Year Built: 1991",
          "Date: 2022-09-27<br>Event Type: SALE<br>Price: $178000<br>Beds: 3<br>Baths: 0.0<br>Square Feet: 1883<br>Year Built: 1997",
          "Date: 2024-05-03<br>Event Type: SALE<br>Price: $303000<br>Beds: 3<br>Baths: 3.5<br>Square Feet: 1400<br>Year Built: 1995",
          "Date: 2024-04-23<br>Event Type: SALE<br>Price: $309900<br>Beds: 4<br>Baths: 2.5<br>Square Feet: 2415<br>Year Built: 1991",
          "Date: 2023-09-12<br>Event Type: SALE<br>Price: $260000<br>Beds: 4<br>Baths: 3.0<br>Square Feet: 1795<br>Year Built: 1990",
          "Date: 2020-07-01<br>Event Type: SALE<br>Price: $<br>Beds: 3<br>Baths: 2.0<br>Square Feet: 1458<br>Year Built: 1997",
          "Date: 2019-11-05<br>Event Type: SALE<br>Price: $<br>Beds: 3<br>Baths: 2.0<br>Square Feet: 1414<br>Year Built: 1991",
          "Date: 2021-07-12<br>Event Type: SALE<br>Price: $<br>Beds: 4<br>Baths: 3.0<br>Square Feet: 2405<br>Year Built: 2006",
          "Date: 2019-08-30<br>Event Type: SALE<br>Price: $170000<br>Beds: 4<br>Baths: 2.0<br>Square Feet: 1808<br>Year Built: 1994",
          "Date: 2021-11-09<br>Event Type: SALE<br>Price: $255000<br>Beds: 4<br>Baths: 2.5<br>Square Feet: 2402<br>Year Built: 1994",
          "Date: 2022-02-04<br>Event Type: SALE<br>Price: $<br>Beds: 4<br>Baths: 3.0<br>Square Feet: 1806<br>Year Built: 1992",
          "Date: 2021-09-30<br>Event Type: SALE<br>Price: $<br>Beds: 4<br>Baths: 2.0<br>Square Feet: 2000<br>Year Built: 1990",
          "Date: 2021-05-24<br>Event Type: SALE<br>Price: $175000<br>Beds: 3<br>Baths: 0.0<br>Square Feet: 2203<br>Year Built: 1992",
          "Date: 2020-11-16<br>Event Type: SALE<br>Price: $<br>Beds: 3<br>Baths: 2.5<br>Square Feet: 2490<br>Year Built: 1990",
          "Date: 2023-01-23<br>Event Type: SALE<br>Price: $<br>Beds: 3<br>Baths: 3.0<br>Square Feet: 1854<br>Year Built: 1992",
          "Date: 2021-08-20<br>Event Type: SALE<br>Price: $<br>Beds: 5<br>Baths: 0.0<br>Square Feet: 1806<br>Year Built: 1993",
          "Date: 2020-11-25<br>Event Type: SALE<br>Price: $232000<br>Beds: 5<br>Baths: 3.0<br>Square Feet: 2425<br>Year Built: 1991",
          "Date: 2022-06-06<br>Event Type: SALE<br>Price: $1674500<br>Beds: 3<br>Baths: 2.0<br>Square Feet: 1808<br>Year Built: 1995",
          "Date: 2019-05-29<br>Event Type: SALE<br>Price: $<br>Beds: 4<br>Baths: 3.0<br>Square Feet: 2122<br>Year Built: 1990",
          "Date: 2024-04-12<br>Event Type: SALE<br>Price: $276000<br>Beds: 3<br>Baths: 2.0<br>Square Feet: 2375<br>Year Built: 1990",
          "Date: 2019-08-23<br>Event Type: SALE<br>Price: $179900<br>Beds: 4<br>Baths: 2.5<br>Square Feet: 2069<br>Year Built: 1991",
          "Date: 2024-05-24<br>Event Type: SALE<br>Price: $330000<br>Beds: 4<br>Baths: 3.0<br>Square Feet: 2142<br>Year Built: 1990",
          "Date: 2019-07-10<br>Event Type: SALE<br>Price: $<br>Beds: 3<br>Baths: 2.0<br>Square Feet: 1580<br>Year Built: 2004",
          "Date: 2023-08-09<br>Event Type: SALE<br>Price: $354000<br>Beds: 5<br>Baths: 3.0<br>Square Feet: 2125<br>Year Built: 2023",
          "Date: 2023-09-18<br>Event Type: SALE<br>Price: $<br>Beds: 3<br>Baths: 2.5<br>Square Feet: 1633<br>Year Built: 1990",
          "Date: 2023-06-13<br>Event Type: SALE<br>Price: $300000<br>Beds: 4<br>Baths: 3.0<br>Square Feet: 1991<br>Year Built: 1991",
          "Date: 2022-03-11<br>Event Type: SALE<br>Price: $355000<br>Beds: 3<br>Baths: 3.0<br>Square Feet: 1766<br>Year Built: 1992",
          "Date: 2021-02-23<br>Event Type: SALE<br>Price: $140000<br>Beds: 3<br>Baths: 2.5<br>Square Feet: 1858<br>Year Built: 1996",
          "Date: 2022-05-16<br>Event Type: SALE<br>Price: $306000<br>Beds: 3<br>Baths: 2.0<br>Square Feet: 1634<br>Year Built: 1991",
          "Date: 2024-06-14<br>Event Type: LISTING<br>Price: $300000<br>Beds: 3<br>Baths: 3.5<br>Square Feet: 1994<br>Year Built: 1991",
          "Date: 2023-07-24<br>Event Type: SALE<br>Price: $<br>Beds: 4<br>Baths: 3.0<br>Square Feet: 2156<br>Year Built: 1992",
          "Date: 2021-05-13<br>Event Type: SALE<br>Price: $270000<br>Beds: 3<br>Baths: 3.0<br>Square Feet: 2052<br>Year Built: 1991",
          "Date: 2020-09-17<br>Event Type: SALE<br>Price: $175000<br>Beds: 5<br>Baths: 2.5<br>Square Feet: 2286<br>Year Built: 1999",
          "Date: 2021-09-09<br>Event Type: SALE<br>Price: $<br>Beds: 4<br>Baths: 2.5<br>Square Feet: 2500<br>Year Built: 1991",
          "Date: 2020-08-28<br>Event Type: SALE<br>Price: $<br>Beds: 3<br>Baths: 3.0<br>Square Feet: 1816<br>Year Built: 1990",
          "Date: 2023-08-03<br>Event Type: SALE<br>Price: $<br>Beds: 3<br>Baths: 2.5<br>Square Feet: 2273<br>Year Built: 2022",
          "Date: 2024-06-13<br>Event Type: LISTING<br>Price: $299900<br>Beds: 4<br>Baths: 3.5<br>Square Feet: 1642<br>Year Built: 1991",
          "Date: 2021-05-17<br>Event Type: SALE<br>Price: $181700<br>Beds: 4<br>Baths: 2.0<br>Square Feet: 1987<br>Year Built: 1990",
          "Date: 2023-06-28<br>Event Type: SALE<br>Price: $280000<br>Beds: 3<br>Baths: 2.5<br>Square Feet: 2020<br>Year Built: 1992"
         ],
         "lat": [
          33.736997,
          33.730329,
          33.766461,
          33.739714,
          33.742432,
          33.739419,
          33.737222,
          33.751828,
          33.756625,
          33.734091,
          33.74115,
          33.749278,
          33.75091,
          33.743757,
          33.740655,
          33.733243,
          33.74236,
          33.767317,
          33.737329,
          33.730234,
          33.737413,
          33.733855,
          33.737066,
          33.731944,
          33.731677,
          33.736666,
          33.742173,
          33.742597,
          33.776282,
          33.764183,
          33.735915,
          33.749059,
          33.734529,
          33.74916,
          33.751483,
          33.743459,
          33.76369,
          33.739089,
          33.737681,
          33.733608,
          33.736121,
          33.773757,
          33.736913,
          33.736278,
          33.740476,
          33.744136,
          33.743356,
          33.748441,
          33.733051,
          33.765429,
          33.741861,
          33.742005,
          33.73304,
          33.767703,
          33.742147,
          33.744261,
          33.732509,
          33.767713,
          33.741473,
          33.749262,
          33.735221,
          33.750279,
          33.740717,
          33.765857,
          33.767698,
          33.78085,
          33.768367,
          33.766253,
          33.736494,
          33.730674,
          33.743901,
          33.767673,
          33.785874,
          33.7416,
          33.733459,
          33.730493,
          33.772612,
          33.736758,
          33.739368,
          33.74104,
          33.741709,
          33.749638,
          33.729865,
          33.730333,
          33.735015,
          33.767709,
          33.745013,
          33.740452,
          33.735372,
          33.767077,
          33.74086,
          33.742796,
          33.736975,
          33.745289,
          33.762111,
          33.734736,
          33.765369,
          33.737573,
          33.748097,
          33.757891,
          33.735246,
          33.732451,
          33.73673,
          33.751368,
          33.730675,
          33.754022,
          33.750184,
          33.749116,
          33.747898,
          33.761782,
          33.773156,
          33.740575,
          33.773129,
          33.753019,
          33.737451,
          33.765554,
          33.751738,
          33.748431,
          33.764018,
          33.73625,
          33.749274,
          33.736795,
          33.777391,
          33.772388,
          33.753724,
          33.736656,
          33.761618,
          33.735819,
          33.748028,
          33.749796,
          33.735069,
          33.779572,
          33.764193,
          33.751007,
          33.751873,
          33.75062,
          33.745468,
          33.740709,
          33.765147,
          33.750155,
          33.751306,
          33.75001,
          33.733026,
          33.733086,
          33.741406,
          33.735161,
          33.767681,
          33.736634,
          33.764151,
          33.764989,
          33.735579,
          33.73501,
          33.751503,
          33.739369,
          33.734346,
          33.764811,
          33.750784,
          33.750136,
          33.777663,
          33.749495,
          33.765834,
          33.750268,
          33.733529,
          33.763351,
          33.735545,
          33.73499,
          33.731198,
          33.779487,
          33.745472,
          33.771419,
          33.730944,
          33.745485,
          33.73467,
          33.734247,
          33.74643,
          33.738202,
          33.751521,
          33.750584,
          33.751454,
          33.764696,
          33.750821,
          33.750715,
          33.730181,
          33.751765,
          33.742183,
          33.737397,
          33.751105,
          33.736803,
          33.734101,
          33.751477,
          33.731382,
          33.735921,
          33.765359,
          33.734769,
          33.741733,
          33.749169,
          33.735646,
          33.749317,
          33.750561,
          33.740872,
          33.732006,
          33.737569,
          33.740599,
          33.773683,
          33.771444,
          33.767616,
          33.736975,
          33.733284,
          33.750366,
          33.748531,
          33.734595,
          33.742105,
          33.763511,
          33.750743,
          33.736918,
          33.765047,
          33.742928,
          33.734617,
          33.764595,
          33.734906
         ],
         "legendgroup": "Sales or Listings",
         "lon": [
          -84.190278,
          -84.178853,
          -84.170987,
          -84.184096,
          -84.165254,
          -84.186923,
          -84.187472,
          -84.191845,
          -84.172806,
          -84.18706,
          -84.165586,
          -84.161487,
          -84.160427,
          -84.190013,
          -84.165584,
          -84.18708,
          -84.165789,
          -84.169866,
          -84.190727,
          -84.175427,
          -84.187024,
          -84.186626,
          -84.184404,
          -84.178656,
          -84.177952,
          -84.186237,
          -84.16579,
          -84.165253,
          -84.167638,
          -84.169839,
          -84.187923,
          -84.16191,
          -84.187556,
          -84.171973,
          -84.159969,
          -84.175845,
          -84.194955,
          -84.186517,
          -84.183156,
          -84.187631,
          -84.190343,
          -84.189965,
          -84.190914,
          -84.191134,
          -84.165542,
          -84.187609,
          -84.165508,
          -84.160224,
          -84.177092,
          -84.169484,
          -84.165313,
          -84.16592,
          -84.175564,
          -84.172624,
          -84.166124,
          -84.189008,
          -84.176617,
          -84.173336,
          -84.165572,
          -84.173761,
          -84.186919,
          -84.159185,
          -84.185822,
          -84.170237,
          -84.172163,
          -84.179644,
          -84.174391,
          -84.170698,
          -84.191126,
          -84.178124,
          -84.187952,
          -84.169902,
          -84.188143,
          -84.165508,
          -84.185888,
          -84.178353,
          -84.191657,
          -84.188444,
          -84.183462,
          -84.166108,
          -84.166185,
          -84.159949,
          -84.175767,
          -84.176479,
          -84.187473,
          -84.173085,
          -84.187872,
          -84.189808,
          -84.185332,
          -84.170222,
          -84.188673,
          -84.178755,
          -84.186767,
          -84.159594,
          -84.170317,
          -84.179778,
          -84.168926,
          -84.189293,
          -84.161065,
          -84.171184,
          -84.187973,
          -84.178404,
          -84.188068,
          -84.172866,
          -84.179891,
          -84.160743,
          -84.160863,
          -84.173447,
          -84.17418,
          -84.169964,
          -84.189218,
          -84.188711,
          -84.18905,
          -84.172852,
          -84.186238,
          -84.170709,
          -84.184075,
          -84.171745,
          -84.170259,
          -84.184306,
          -84.16107,
          -84.185801,
          -84.168212,
          -84.191692,
          -84.172268,
          -84.18913,
          -84.182586,
          -84.18517,
          -84.1606,
          -84.173702,
          -84.18543,
          -84.174486,
          -84.168118,
          -84.16985,
          -84.174013,
          -84.159152,
          -84.186422,
          -84.186693,
          -84.170757,
          -84.174764,
          -84.170533,
          -84.170604,
          -84.177484,
          -84.180385,
          -84.188569,
          -84.187365,
          -84.170781,
          -84.189541,
          -84.168809,
          -84.167958,
          -84.184028,
          -84.186456,
          -84.16057,
          -84.183185,
          -84.186743,
          -84.181259,
          -84.159133,
          -84.17128,
          -84.16917,
          -84.170544,
          -84.169143,
          -84.160285,
          -84.186978,
          -84.169067,
          -84.188166,
          -84.189159,
          -84.176926,
          -84.173774,
          -84.159634,
          -84.162673,
          -84.179325,
          -84.191959,
          -84.185074,
          -84.179009,
          -84.160257,
          -84.189617,
          -84.171596,
          -84.160435,
          -84.170272,
          -84.171482,
          -84.159891,
          -84.173201,
          -84.177749,
          -84.174813,
          -84.189463,
          -84.182907,
          -84.160481,
          -84.18699,
          -84.179617,
          -84.170831,
          -84.176127,
          -84.185716,
          -84.167521,
          -84.188418,
          -84.180127,
          -84.170758,
          -84.186491,
          -84.172961,
          -84.169907,
          -84.189009,
          -84.180565,
          -84.189006,
          -84.187786,
          -84.189614,
          -84.167748,
          -84.1692,
          -84.185253,
          -84.186301,
          -84.159665,
          -84.174176,
          -84.185541,
          -84.188164,
          -84.170271,
          -84.160963,
          -84.189939,
          -84.170241,
          -84.165253,
          -84.186298,
          -84.170993,
          -84.187106
         ],
         "marker": {
          "color": "#636efa"
         },
         "mode": "markers",
         "name": "Sales or Listings",
         "showlegend": true,
         "subplot": "mapbox",
         "type": "scattermapbox"
        },
        {
         "hovertemplate": "%{hovertext}",
         "hovertext": [
          "Date: 2023-12-18<br>Event Type: RENTAL<br>Price: $1625<br>Beds: 3<br>Baths: 2.0<br>Square Feet: 1833<br>Year Built: 1990",
          "Date: 2023-07-26<br>Event Type: RENTAL<br>Price: $2200<br>Beds: 4<br>Baths: 2.5<br>Square Feet: 2495<br>Year Built: 1994",
          "Date: 2023-10-25<br>Event Type: RENTAL<br>Price: $1995<br>Beds: 4<br>Baths: 3.0<br>Square Feet: 2152<br>Year Built: 1990",
          "Date: 2023-01-22<br>Event Type: RENTAL<br>Price: $2085<br>Beds: 4<br>Baths: 2.5<br>Square Feet: 2016<br>Year Built: 1991",
          "Date: 2023-12-07<br>Event Type: RENTAL<br>Price: $1995<br>Beds: 4<br>Baths: 3.0<br>Square Feet: 2237<br>Year Built: 1990",
          "Date: 2024-05-23<br>Event Type: RENTAL<br>Price: $2015<br>Beds: 3<br>Baths: 2.5<br>Square Feet: 1928<br>Year Built: 1993",
          "Date: 2024-04-03<br>Event Type: RENTAL<br>Price: $2245<br>Beds: 4<br>Baths: 2.0<br>Square Feet: 2372<br>Year Built: 1991",
          "Date: 2024-06-16<br>Event Type: RENTAL<br>Price: $2000<br>Beds: 4<br>Baths: 3.0<br>Square Feet: 2302<br>Year Built: 1990",
          "Date: 2024-02-09<br>Event Type: RENTAL<br>Price: $2200<br>Beds: 4<br>Baths: 2.5<br>Square Feet: 1830<br>Year Built: 1995",
          "Date: 2022-10-18<br>Event Type: RENTAL<br>Price: $2035<br>Beds: 4<br>Baths: 0.0<br>Square Feet: 1996<br>Year Built: 1990",
          "Date: 2024-03-05<br>Event Type: RENTAL<br>Price: $1950<br>Beds: 3<br>Baths: 3.0<br>Square Feet: 1618<br>Year Built: 1997",
          "Date: 2023-11-21<br>Event Type: RENTAL<br>Price: $<br>Beds: 3<br>Baths: 2.0<br>Square Feet: 1630<br>Year Built: 1991",
          "Date: 2023-12-05<br>Event Type: RENTAL<br>Price: $1098<br>Beds: 3<br>Baths: 2.5<br>Square Feet: 2159<br>Year Built: 1993",
          "Date: 2023-05-02<br>Event Type: RENTAL<br>Price: $1780<br>Beds: 4<br>Baths: 2.5<br>Square Feet: 2334<br>Year Built: 1992",
          "Date: 2024-03-20<br>Event Type: RENTAL<br>Price: $1999<br>Beds: 4<br>Baths: 4.0<br>Square Feet: 1926<br>Year Built: 1991",
          "Date: 2024-05-30<br>Event Type: RENTAL<br>Price: $1700<br>Beds: 3<br>Baths: 3.0<br>Square Feet: 1770<br>Year Built: 1994",
          "Date: 2024-05-16<br>Event Type: RENTAL<br>Price: $1675<br>Beds: 3<br>Baths: 2.0<br>Square Feet: 1344<br>Year Built: 1991",
          "Date: 2024-02-24<br>Event Type: RENTAL<br>Price: $2050<br>Beds: 4<br>Baths: 3.0<br>Square Feet: 1990<br>Year Built: 2000",
          "Date: 2023-04-26<br>Event Type: RENTAL<br>Price: $<br>Beds: 3<br>Baths: 2.0<br>Square Feet: 1492<br>Year Built: 1996",
          "Date: 2023-08-22<br>Event Type: RENTAL<br>Price: $1465<br>Beds: 3<br>Baths: 3.0<br>Square Feet: 1572<br>Year Built: 1997",
          "Date: 2023-12-11<br>Event Type: RENTAL<br>Price: $1600<br>Beds: 4<br>Baths: 3.0<br>Square Feet: 2377<br>Year Built: 1993",
          "Date: 2023-09-25<br>Event Type: RENTAL<br>Price: $1865<br>Beds: 3<br>Baths: 3.0<br>Square Feet: 1717<br>Year Built: 1997",
          "Date: 2023-02-08<br>Event Type: RENTAL<br>Price: $2050<br>Beds: 4<br>Baths: 2.5<br>Square Feet: 2096<br>Year Built: 1990",
          "Date: 2023-12-18<br>Event Type: RENTAL<br>Price: $1800<br>Beds: 4<br>Baths: 3.0<br>Square Feet: 1750<br>Year Built: 1998",
          "Date: 2023-09-20<br>Event Type: RENTAL<br>Price: $2330<br>Beds: 3<br>Baths: 3.0<br>Square Feet: 1976<br>Year Built: 1991",
          "Date: 2022-10-15<br>Event Type: RENTAL<br>Price: $1995<br>Beds: 3<br>Baths: 0.0<br>Square Feet: 1816<br>Year Built: 1996",
          "Date: 2023-09-12<br>Event Type: RENTAL<br>Price: $1600<br>Beds: 3<br>Baths: 2.0<br>Square Feet: 1512<br>Year Built: 1991",
          "Date: 2023-07-07<br>Event Type: RENTAL<br>Price: $<br>Beds: 3<br>Baths: 0.0<br>Square Feet: 1826<br>Year Built: 1992",
          "Date: 2024-06-07<br>Event Type: RENTAL<br>Price: $1799<br>Beds: 3<br>Baths: 2.5<br>Square Feet: 1585<br>Year Built: 1990",
          "Date: 2024-06-20<br>Event Type: RENTAL<br>Price: $1950<br>Beds: 3<br>Baths: 3.0<br>Square Feet: 1826<br>Year Built: 1992",
          "Date: 2024-04-05<br>Event Type: RENTAL<br>Price: $1820<br>Beds: 3<br>Baths: 3.0<br>Square Feet: 2003<br>Year Built: 1992",
          "Date: 2023-12-08<br>Event Type: RENTAL<br>Price: $<br>Beds: 4<br>Baths: 3.0<br>Square Feet: 2422<br>Year Built: 1991",
          "Date: 2023-03-11<br>Event Type: RENTAL<br>Price: $1795<br>Beds: 3<br>Baths: 2.5<br>Square Feet: 1549<br>Year Built: 1991",
          "Date: 2024-02-11<br>Event Type: RENTAL<br>Price: $2060<br>Beds: 3<br>Baths: 2.0<br>Square Feet: 2038<br>Year Built: 1993",
          "Date: 2024-04-19<br>Event Type: RENTAL<br>Price: $2200<br>Beds: 3<br>Baths: 2.0<br>Square Feet: 1658<br>Year Built: 1991",
          "Date: 2023-06-13<br>Event Type: RENTAL<br>Price: $2100<br>Beds: 4<br>Baths: 3.0<br>Square Feet: 1632<br>Year Built: 1997",
          "Date: 2023-07-19<br>Event Type: RENTAL<br>Price: $1995<br>Beds: 3<br>Baths: 3.0<br>Square Feet: 2462<br>Year Built: 2000",
          "Date: 2024-05-29<br>Event Type: RENTAL<br>Price: $2049<br>Beds: 3<br>Baths: 3.0<br>Square Feet: 1788<br>Year Built: 1990",
          "Date: 2024-06-02<br>Event Type: RENTAL<br>Price: $1750<br>Beds: 4<br>Baths: 2.0<br>Square Feet: 1882<br>Year Built: 1990",
          "Date: 2024-06-30<br>Event Type: RENTAL<br>Price: $2050<br>Beds: 4<br>Baths: 2.5<br>Square Feet: 1854<br>Year Built: 1994",
          "Date: 2023-12-01<br>Event Type: RENTAL<br>Price: $2010<br>Beds: 4<br>Baths: 3.0<br>Square Feet: 1500<br>Year Built: 1995",
          "Date: 2024-04-24<br>Event Type: RENTAL<br>Price: $2225<br>Beds: 4<br>Baths: 2.5<br>Square Feet: 2287<br>Year Built: 1992",
          "Date: 2024-03-13<br>Event Type: RENTAL<br>Price: $2095<br>Beds: 4<br>Baths: 3.0<br>Square Feet: 2244<br>Year Built: 1993",
          "Date: 2023-03-07<br>Event Type: RENTAL<br>Price: $2000<br>Beds: 4<br>Baths: 3.0<br>Square Feet: 1700<br>Year Built: 1995",
          "Date: 2023-06-07<br>Event Type: RENTAL<br>Price: $1895<br>Beds: 3<br>Baths: 2.5<br>Square Feet: 2082<br>Year Built: 1992",
          "Date: 2023-09-06<br>Event Type: RENTAL<br>Price: $1900<br>Beds: 3<br>Baths: 3.0<br>Square Feet: 1920<br>Year Built: 1990",
          "Date: 2024-02-22<br>Event Type: RENTAL<br>Price: $1695<br>Beds: 4<br>Baths: 2.0<br>Square Feet: 1536<br>Year Built: 1996",
          "Date: 2024-01-13<br>Event Type: RENTAL<br>Price: $1845<br>Beds: 3<br>Baths: 2.0<br>Square Feet: 1795<br>Year Built: 1990",
          "Date: 2024-06-27<br>Event Type: RENTAL<br>Price: $1740<br>Beds: 3<br>Baths: 2.0<br>Square Feet: 1486<br>Year Built: 1998",
          "Date: 2024-06-14<br>Event Type: RENTAL<br>Price: $2220<br>Beds: 4<br>Baths: 2.5<br>Square Feet: 2382<br>Year Built: 1999",
          "Date: 2023-11-17<br>Event Type: RENTAL<br>Price: $1995<br>Beds: 4<br>Baths: 3.5<br>Square Feet: 2132<br>Year Built: 1992",
          "Date: 2024-05-08<br>Event Type: RENTAL<br>Price: $1899<br>Beds: 3<br>Baths: 3.0<br>Square Feet: 2251<br>Year Built: 1993",
          "Date: 2024-01-19<br>Event Type: RENTAL<br>Price: $2100<br>Beds: 4<br>Baths: 3.0<br>Square Feet: 2308<br>Year Built: 1991",
          "Date: 2023-09-04<br>Event Type: RENTAL<br>Price: $2100<br>Beds: 4<br>Baths: 4.0<br>Square Feet: 2123<br>Year Built: 2002",
          "Date: 2024-06-20<br>Event Type: RENTAL<br>Price: $2090<br>Beds: 5<br>Baths: 3.0<br>Square Feet: 2494<br>Year Built: 1990",
          "Date: 2023-10-19<br>Event Type: RENTAL<br>Price: $2150<br>Beds: 5<br>Baths: 3.0<br>Square Feet: 2334<br>Year Built: 1991",
          "Date: 2022-10-17<br>Event Type: RENTAL<br>Price: $1895<br>Beds: 4<br>Baths: 0.0<br>Square Feet: 1600<br>Year Built: 2015",
          "Date: 2024-05-23<br>Event Type: RENTAL<br>Price: $1949<br>Beds: 3<br>Baths: 2.0<br>Square Feet: 1344<br>Year Built: 1997",
          "Date: 2023-04-05<br>Event Type: RENTAL<br>Price: $2050<br>Beds: 3<br>Baths: 2.5<br>Square Feet: 1500<br>Year Built: 1998",
          "Date: 2023-08-19<br>Event Type: RENTAL<br>Price: $1645<br>Beds: 4<br>Baths: 2.0<br>Square Feet: 1512<br>Year Built: 1991",
          "Date: 2023-03-06<br>Event Type: RENTAL<br>Price: $1745<br>Beds: 4<br>Baths: 2.5<br>Square Feet: 1648<br>Year Built: 2001",
          "Date: 2023-09-12<br>Event Type: RENTAL<br>Price: $2200<br>Beds: 4<br>Baths: 3.0<br>Square Feet: 1972<br>Year Built: 1991",
          "Date: 2024-05-23<br>Event Type: RENTAL<br>Price: $2150<br>Beds: 3<br>Baths: 3.0<br>Square Feet: 2270<br>Year Built: 1992",
          "Date: 2024-05-23<br>Event Type: RENTAL<br>Price: $2150<br>Beds: 3<br>Baths: 3.0<br>Square Feet: 2270<br>Year Built: 1992",
          "Date: 2023-05-19<br>Event Type: RENTAL<br>Price: $1595<br>Beds: 4<br>Baths: 2.0<br>Square Feet: 1792<br>Year Built: 1990",
          "Date: 2024-04-06<br>Event Type: RENTAL<br>Price: $2099<br>Beds: 4<br>Baths: 3.0<br>Square Feet: 2016<br>Year Built: 1995",
          "Date: 2023-08-19<br>Event Type: RENTAL<br>Price: $1595<br>Beds: 3<br>Baths: 2.0<br>Square Feet: 1382<br>Year Built: 1991",
          "Date: 2024-01-14<br>Event Type: RENTAL<br>Price: $2200<br>Beds: 5<br>Baths: 3.0<br>Square Feet: 1592<br>Year Built: 1999",
          "Date: 2024-02-11<br>Event Type: RENTAL<br>Price: $2025<br>Beds: 3<br>Baths: 3.0<br>Square Feet: 2339<br>Year Built: 1994",
          "Date: 2024-06-27<br>Event Type: RENTAL<br>Price: $2065<br>Beds: 4<br>Baths: 3.0<br>Square Feet: 1832<br>Year Built: 1991",
          "Date: 2023-09-16<br>Event Type: RENTAL<br>Price: $2095<br>Beds: 4<br>Baths: 3.0<br>Square Feet: 2280<br>Year Built: 1992",
          "Date: 2022-10-06<br>Event Type: RENTAL<br>Price: $2800<br>Beds: 6<br>Baths: 0.0<br>Square Feet: 2008<br>Year Built: 1990",
          "Date: 2024-04-22<br>Event Type: RENTAL<br>Price: $1950<br>Beds: 4<br>Baths: 1.5<br>Square Feet: 2013<br>Year Built: 1990",
          "Date: 2023-08-04<br>Event Type: RENTAL<br>Price: $2200<br>Beds: 4<br>Baths: 3.0<br>Square Feet: 2010<br>Year Built: 1992",
          "Date: 2024-06-16<br>Event Type: RENTAL<br>Price: $1790<br>Beds: 3<br>Baths: 2.0<br>Square Feet: 1648<br>Year Built: 1991",
          "Date: 2023-11-08<br>Event Type: RENTAL<br>Price: $898<br>Beds: 3<br>Baths: 3.0<br>Square Feet: 1599<br>Year Built: 1992",
          "Date: 2023-08-08<br>Event Type: RENTAL<br>Price: $2235<br>Beds: 4<br>Baths: 3.0<br>Square Feet: 1936<br>Year Built: 1993",
          "Date: 2024-05-11<br>Event Type: RENTAL<br>Price: $2095<br>Beds: 3<br>Baths: 2.5<br>Square Feet: 2270<br>Year Built: 1991",
          "Date: 2023-07-12<br>Event Type: RENTAL<br>Price: $<br>Beds: 3<br>Baths: 2.0<br>Square Feet: 1473<br>Year Built: 2000"
         ],
         "lat": [
          33.744416,
          33.731772,
          33.772352,
          33.764012,
          33.74394,
          33.734253,
          33.736367,
          33.744115,
          33.72989,
          33.74008,
          33.761958,
          33.75332,
          33.736683,
          33.73578,
          33.738442,
          33.750194,
          33.748442,
          33.739968,
          33.750099,
          33.749257,
          33.736513,
          33.770224,
          33.739479,
          33.773084,
          33.733575,
          33.74975,
          33.7488,
          33.733996,
          33.748531,
          33.735918,
          33.747905,
          33.765271,
          33.73502,
          33.734961,
          33.74847,
          33.751358,
          33.739275,
          33.764312,
          33.76298,
          33.749968,
          33.745113,
          33.735721,
          33.736163,
          33.744762,
          33.767684,
          33.739299,
          33.770067,
          33.763613,
          33.750422,
          33.739367,
          33.743952,
          33.735313,
          33.735204,
          33.739751,
          33.765559,
          33.750299,
          33.775663,
          33.751113,
          33.773115,
          33.764204,
          33.767695,
          33.763633,
          33.737446,
          33.737446,
          33.763277,
          33.744938,
          33.749443,
          33.75092,
          33.736481,
          33.738018,
          33.743656,
          33.767706,
          33.743912,
          33.735061,
          33.749458,
          33.748694,
          33.735126,
          33.736642,
          33.771423
         ],
         "legendgroup": "Rentals",
         "lon": [
          -84.188821,
          -84.175468,
          -84.188585,
          -84.1708,
          -84.18936,
          -84.18801,
          -84.190051,
          -84.189213,
          -84.178758,
          -84.185963,
          -84.186054,
          -84.17259,
          -84.186833,
          -84.19006,
          -84.187819,
          -84.159731,
          -84.160422,
          -84.183474,
          -84.159901,
          -84.159876,
          -84.186738,
          -84.171865,
          -84.186212,
          -84.188458,
          -84.185482,
          -84.159241,
          -84.160791,
          -84.186774,
          -84.160021,
          -84.185439,
          -84.173157,
          -84.171142,
          -84.185838,
          -84.18826,
          -84.160815,
          -84.159056,
          -84.184241,
          -84.170251,
          -84.169701,
          -84.169915,
          -84.15956,
          -84.186914,
          -84.188444,
          -84.159492,
          -84.171012,
          -84.188227,
          -84.166232,
          -84.170872,
          -84.16037,
          -84.183782,
          -84.184474,
          -84.187268,
          -84.183702,
          -84.182874,
          -84.167981,
          -84.172804,
          -84.180682,
          -84.159099,
          -84.188678,
          -84.167892,
          -84.171933,
          -84.170516,
          -84.186435,
          -84.186435,
          -84.171429,
          -84.159526,
          -84.16155,
          -84.16095,
          -84.187597,
          -84.188766,
          -84.188449,
          -84.172854,
          -84.187617,
          -84.187021,
          -84.161261,
          -84.160545,
          -84.185171,
          -84.187465,
          -84.162674
         ],
         "marker": {
          "color": "#EF553B"
         },
         "mode": "markers",
         "name": "Rentals",
         "showlegend": true,
         "subplot": "mapbox",
         "type": "scattermapbox"
        }
       ],
       "layout": {
        "annotations": [
         {
          "align": "left",
          "font": {
           "color": "blue",
           "size": 16
          },
          "showarrow": false,
          "text": "Location:",
          "x": -0.05,
          "xref": "paper",
          "xshift": -210,
          "y": 1,
          "yref": "paper"
         },
         {
          "align": "left",
          "font": {
           "size": 14
          },
          "showarrow": false,
          "text": "Metro: Atlanta",
          "x": -0.05,
          "xref": "paper",
          "xshift": -210,
          "y": 0.95,
          "yref": "paper"
         },
         {
          "align": "left",
          "font": {
           "size": 14
          },
          "showarrow": false,
          "text": "Zip: 30088",
          "x": -0.05,
          "xref": "paper",
          "xshift": -210,
          "y": 0.9,
          "yref": "paper"
         },
         {
          "align": "left",
          "font": {
           "color": "blue",
           "size": 16
          },
          "showarrow": false,
          "text": "Buy Box Criteria:",
          "x": -0.05,
          "xref": "paper",
          "xshift": -210,
          "y": 0.6,
          "yref": "paper"
         },
         {
          "align": "left",
          "font": {
           "size": 14
          },
          "showarrow": false,
          "text": "Property Type: Single Family",
          "x": -0.05,
          "xref": "paper",
          "xshift": -210,
          "y": 0.5499999999999999,
          "yref": "paper"
         },
         {
          "align": "left",
          "font": {
           "size": 14
          },
          "showarrow": false,
          "text": "Square Footage: 1000-2500 sq ft.",
          "x": -0.05,
          "xref": "paper",
          "xshift": -210,
          "y": 0.5,
          "yref": "paper"
         },
         {
          "align": "left",
          "font": {
           "size": 14
          },
          "showarrow": false,
          "text": "Year Built: 1990-2024",
          "x": -0.05,
          "xref": "paper",
          "xshift": -210,
          "y": 0.44999999999999996,
          "yref": "paper"
         },
         {
          "align": "left",
          "font": {
           "size": 14
          },
          "showarrow": false,
          "text": "Vacancy Rate: 4.26%",
          "x": -0.05,
          "xref": "paper",
          "xshift": -210,
          "y": 0.39999999999999997,
          "yref": "paper"
         },
         {
          "align": "left",
          "font": {
           "color": "blue",
           "size": 16
          },
          "showarrow": false,
          "text": "Single Family Market Metrics:",
          "x": -0.05,
          "xref": "paper",
          "xshift": -210,
          "y": 0.85,
          "yref": "paper"
         },
         {
          "align": "left",
          "font": {
           "size": 14
          },
          "showarrow": false,
          "text": "New Rentals (7 day): 15",
          "x": -0.05,
          "xref": "paper",
          "xshift": -210,
          "y": 0.7999999999999999,
          "yref": "paper"
         },
         {
          "align": "left",
          "font": {
           "size": 14
          },
          "showarrow": false,
          "text": "New Rentals (30 day): 67",
          "x": -0.05,
          "xref": "paper",
          "xshift": -210,
          "y": 0.75,
          "yref": "paper"
         },
         {
          "align": "left",
          "font": {
           "size": 14
          },
          "showarrow": false,
          "text": "Current Rental Price: 1760",
          "x": -0.05,
          "xref": "paper",
          "xshift": -210,
          "y": 0.7,
          "yref": "paper"
         },
         {
          "align": "left",
          "font": {
           "size": 14
          },
          "showarrow": false,
          "text": "Gross Yield: 7.54",
          "x": -0.05,
          "xref": "paper",
          "xshift": -210,
          "y": 0.6499999999999999,
          "yref": "paper"
         }
        ],
        "height": 800,
        "images": [
         {
          "sizex": 0.25,
          "sizey": 0.25,
          "source": "https://parcllabs-assets.s3.amazonaws.com/powered-by-parcllabs-api.png",
          "x": -0.29,
          "xanchor": "left",
          "xref": "paper",
          "y": 0,
          "yanchor": "bottom",
          "yref": "paper"
         }
        ],
        "legend": {
         "bgcolor": "rgba(255, 255, 255, 0.5)",
         "title": {
          "text": ""
         },
         "tracegroupgap": 0,
         "x": 0.01,
         "y": 0.99
        },
        "mapbox": {
         "center": {
          "lat": 33.74762826421407,
          "lon": -84.17682215384617
         },
         "domain": {
          "x": [
           0,
           1
          ],
          "y": [
           0,
           1
          ]
         },
         "style": "open-street-map",
         "zoom": 13
        },
        "margin": {
         "b": 10,
         "l": 250,
         "r": 10,
         "t": 30
        },
        "template": {
         "data": {
          "bar": [
           {
            "error_x": {
             "color": "#2a3f5f"
            },
            "error_y": {
             "color": "#2a3f5f"
            },
            "marker": {
             "line": {
              "color": "#E5ECF6",
              "width": 0.5
             },
             "pattern": {
              "fillmode": "overlay",
              "size": 10,
              "solidity": 0.2
             }
            },
            "type": "bar"
           }
          ],
          "barpolar": [
           {
            "marker": {
             "line": {
              "color": "#E5ECF6",
              "width": 0.5
             },
             "pattern": {
              "fillmode": "overlay",
              "size": 10,
              "solidity": 0.2
             }
            },
            "type": "barpolar"
           }
          ],
          "carpet": [
           {
            "aaxis": {
             "endlinecolor": "#2a3f5f",
             "gridcolor": "white",
             "linecolor": "white",
             "minorgridcolor": "white",
             "startlinecolor": "#2a3f5f"
            },
            "baxis": {
             "endlinecolor": "#2a3f5f",
             "gridcolor": "white",
             "linecolor": "white",
             "minorgridcolor": "white",
             "startlinecolor": "#2a3f5f"
            },
            "type": "carpet"
           }
          ],
          "choropleth": [
           {
            "colorbar": {
             "outlinewidth": 0,
             "ticks": ""
            },
            "type": "choropleth"
           }
          ],
          "contour": [
           {
            "colorbar": {
             "outlinewidth": 0,
             "ticks": ""
            },
            "colorscale": [
             [
              0,
              "#0d0887"
             ],
             [
              0.1111111111111111,
              "#46039f"
             ],
             [
              0.2222222222222222,
              "#7201a8"
             ],
             [
              0.3333333333333333,
              "#9c179e"
             ],
             [
              0.4444444444444444,
              "#bd3786"
             ],
             [
              0.5555555555555556,
              "#d8576b"
             ],
             [
              0.6666666666666666,
              "#ed7953"
             ],
             [
              0.7777777777777778,
              "#fb9f3a"
             ],
             [
              0.8888888888888888,
              "#fdca26"
             ],
             [
              1,
              "#f0f921"
             ]
            ],
            "type": "contour"
           }
          ],
          "contourcarpet": [
           {
            "colorbar": {
             "outlinewidth": 0,
             "ticks": ""
            },
            "type": "contourcarpet"
           }
          ],
          "heatmap": [
           {
            "colorbar": {
             "outlinewidth": 0,
             "ticks": ""
            },
            "colorscale": [
             [
              0,
              "#0d0887"
             ],
             [
              0.1111111111111111,
              "#46039f"
             ],
             [
              0.2222222222222222,
              "#7201a8"
             ],
             [
              0.3333333333333333,
              "#9c179e"
             ],
             [
              0.4444444444444444,
              "#bd3786"
             ],
             [
              0.5555555555555556,
              "#d8576b"
             ],
             [
              0.6666666666666666,
              "#ed7953"
             ],
             [
              0.7777777777777778,
              "#fb9f3a"
             ],
             [
              0.8888888888888888,
              "#fdca26"
             ],
             [
              1,
              "#f0f921"
             ]
            ],
            "type": "heatmap"
           }
          ],
          "heatmapgl": [
           {
            "colorbar": {
             "outlinewidth": 0,
             "ticks": ""
            },
            "colorscale": [
             [
              0,
              "#0d0887"
             ],
             [
              0.1111111111111111,
              "#46039f"
             ],
             [
              0.2222222222222222,
              "#7201a8"
             ],
             [
              0.3333333333333333,
              "#9c179e"
             ],
             [
              0.4444444444444444,
              "#bd3786"
             ],
             [
              0.5555555555555556,
              "#d8576b"
             ],
             [
              0.6666666666666666,
              "#ed7953"
             ],
             [
              0.7777777777777778,
              "#fb9f3a"
             ],
             [
              0.8888888888888888,
              "#fdca26"
             ],
             [
              1,
              "#f0f921"
             ]
            ],
            "type": "heatmapgl"
           }
          ],
          "histogram": [
           {
            "marker": {
             "pattern": {
              "fillmode": "overlay",
              "size": 10,
              "solidity": 0.2
             }
            },
            "type": "histogram"
           }
          ],
          "histogram2d": [
           {
            "colorbar": {
             "outlinewidth": 0,
             "ticks": ""
            },
            "colorscale": [
             [
              0,
              "#0d0887"
             ],
             [
              0.1111111111111111,
              "#46039f"
             ],
             [
              0.2222222222222222,
              "#7201a8"
             ],
             [
              0.3333333333333333,
              "#9c179e"
             ],
             [
              0.4444444444444444,
              "#bd3786"
             ],
             [
              0.5555555555555556,
              "#d8576b"
             ],
             [
              0.6666666666666666,
              "#ed7953"
             ],
             [
              0.7777777777777778,
              "#fb9f3a"
             ],
             [
              0.8888888888888888,
              "#fdca26"
             ],
             [
              1,
              "#f0f921"
             ]
            ],
            "type": "histogram2d"
           }
          ],
          "histogram2dcontour": [
           {
            "colorbar": {
             "outlinewidth": 0,
             "ticks": ""
            },
            "colorscale": [
             [
              0,
              "#0d0887"
             ],
             [
              0.1111111111111111,
              "#46039f"
             ],
             [
              0.2222222222222222,
              "#7201a8"
             ],
             [
              0.3333333333333333,
              "#9c179e"
             ],
             [
              0.4444444444444444,
              "#bd3786"
             ],
             [
              0.5555555555555556,
              "#d8576b"
             ],
             [
              0.6666666666666666,
              "#ed7953"
             ],
             [
              0.7777777777777778,
              "#fb9f3a"
             ],
             [
              0.8888888888888888,
              "#fdca26"
             ],
             [
              1,
              "#f0f921"
             ]
            ],
            "type": "histogram2dcontour"
           }
          ],
          "mesh3d": [
           {
            "colorbar": {
             "outlinewidth": 0,
             "ticks": ""
            },
            "type": "mesh3d"
           }
          ],
          "parcoords": [
           {
            "line": {
             "colorbar": {
              "outlinewidth": 0,
              "ticks": ""
             }
            },
            "type": "parcoords"
           }
          ],
          "pie": [
           {
            "automargin": true,
            "type": "pie"
           }
          ],
          "scatter": [
           {
            "fillpattern": {
             "fillmode": "overlay",
             "size": 10,
             "solidity": 0.2
            },
            "type": "scatter"
           }
          ],
          "scatter3d": [
           {
            "line": {
             "colorbar": {
              "outlinewidth": 0,
              "ticks": ""
             }
            },
            "marker": {
             "colorbar": {
              "outlinewidth": 0,
              "ticks": ""
             }
            },
            "type": "scatter3d"
           }
          ],
          "scattercarpet": [
           {
            "marker": {
             "colorbar": {
              "outlinewidth": 0,
              "ticks": ""
             }
            },
            "type": "scattercarpet"
           }
          ],
          "scattergeo": [
           {
            "marker": {
             "colorbar": {
              "outlinewidth": 0,
              "ticks": ""
             }
            },
            "type": "scattergeo"
           }
          ],
          "scattergl": [
           {
            "marker": {
             "colorbar": {
              "outlinewidth": 0,
              "ticks": ""
             }
            },
            "type": "scattergl"
           }
          ],
          "scattermapbox": [
           {
            "marker": {
             "colorbar": {
              "outlinewidth": 0,
              "ticks": ""
             }
            },
            "type": "scattermapbox"
           }
          ],
          "scatterpolar": [
           {
            "marker": {
             "colorbar": {
              "outlinewidth": 0,
              "ticks": ""
             }
            },
            "type": "scatterpolar"
           }
          ],
          "scatterpolargl": [
           {
            "marker": {
             "colorbar": {
              "outlinewidth": 0,
              "ticks": ""
             }
            },
            "type": "scatterpolargl"
           }
          ],
          "scatterternary": [
           {
            "marker": {
             "colorbar": {
              "outlinewidth": 0,
              "ticks": ""
             }
            },
            "type": "scatterternary"
           }
          ],
          "surface": [
           {
            "colorbar": {
             "outlinewidth": 0,
             "ticks": ""
            },
            "colorscale": [
             [
              0,
              "#0d0887"
             ],
             [
              0.1111111111111111,
              "#46039f"
             ],
             [
              0.2222222222222222,
              "#7201a8"
             ],
             [
              0.3333333333333333,
              "#9c179e"
             ],
             [
              0.4444444444444444,
              "#bd3786"
             ],
             [
              0.5555555555555556,
              "#d8576b"
             ],
             [
              0.6666666666666666,
              "#ed7953"
             ],
             [
              0.7777777777777778,
              "#fb9f3a"
             ],
             [
              0.8888888888888888,
              "#fdca26"
             ],
             [
              1,
              "#f0f921"
             ]
            ],
            "type": "surface"
           }
          ],
          "table": [
           {
            "cells": {
             "fill": {
              "color": "#EBF0F8"
             },
             "line": {
              "color": "white"
             }
            },
            "header": {
             "fill": {
              "color": "#C8D4E3"
             },
             "line": {
              "color": "white"
             }
            },
            "type": "table"
           }
          ]
         },
         "layout": {
          "annotationdefaults": {
           "arrowcolor": "#2a3f5f",
           "arrowhead": 0,
           "arrowwidth": 1
          },
          "autotypenumbers": "strict",
          "coloraxis": {
           "colorbar": {
            "outlinewidth": 0,
            "ticks": ""
           }
          },
          "colorscale": {
           "diverging": [
            [
             0,
             "#8e0152"
            ],
            [
             0.1,
             "#c51b7d"
            ],
            [
             0.2,
             "#de77ae"
            ],
            [
             0.3,
             "#f1b6da"
            ],
            [
             0.4,
             "#fde0ef"
            ],
            [
             0.5,
             "#f7f7f7"
            ],
            [
             0.6,
             "#e6f5d0"
            ],
            [
             0.7,
             "#b8e186"
            ],
            [
             0.8,
             "#7fbc41"
            ],
            [
             0.9,
             "#4d9221"
            ],
            [
             1,
             "#276419"
            ]
           ],
           "sequential": [
            [
             0,
             "#0d0887"
            ],
            [
             0.1111111111111111,
             "#46039f"
            ],
            [
             0.2222222222222222,
             "#7201a8"
            ],
            [
             0.3333333333333333,
             "#9c179e"
            ],
            [
             0.4444444444444444,
             "#bd3786"
            ],
            [
             0.5555555555555556,
             "#d8576b"
            ],
            [
             0.6666666666666666,
             "#ed7953"
            ],
            [
             0.7777777777777778,
             "#fb9f3a"
            ],
            [
             0.8888888888888888,
             "#fdca26"
            ],
            [
             1,
             "#f0f921"
            ]
           ],
           "sequentialminus": [
            [
             0,
             "#0d0887"
            ],
            [
             0.1111111111111111,
             "#46039f"
            ],
            [
             0.2222222222222222,
             "#7201a8"
            ],
            [
             0.3333333333333333,
             "#9c179e"
            ],
            [
             0.4444444444444444,
             "#bd3786"
            ],
            [
             0.5555555555555556,
             "#d8576b"
            ],
            [
             0.6666666666666666,
             "#ed7953"
            ],
            [
             0.7777777777777778,
             "#fb9f3a"
            ],
            [
             0.8888888888888888,
             "#fdca26"
            ],
            [
             1,
             "#f0f921"
            ]
           ]
          },
          "colorway": [
           "#636efa",
           "#EF553B",
           "#00cc96",
           "#ab63fa",
           "#FFA15A",
           "#19d3f3",
           "#FF6692",
           "#B6E880",
           "#FF97FF",
           "#FECB52"
          ],
          "font": {
           "color": "#2a3f5f"
          },
          "geo": {
           "bgcolor": "white",
           "lakecolor": "white",
           "landcolor": "#E5ECF6",
           "showlakes": true,
           "showland": true,
           "subunitcolor": "white"
          },
          "hoverlabel": {
           "align": "left"
          },
          "hovermode": "closest",
          "mapbox": {
           "style": "light"
          },
          "paper_bgcolor": "white",
          "plot_bgcolor": "#E5ECF6",
          "polar": {
           "angularaxis": {
            "gridcolor": "white",
            "linecolor": "white",
            "ticks": ""
           },
           "bgcolor": "#E5ECF6",
           "radialaxis": {
            "gridcolor": "white",
            "linecolor": "white",
            "ticks": ""
           }
          },
          "scene": {
           "xaxis": {
            "backgroundcolor": "#E5ECF6",
            "gridcolor": "white",
            "gridwidth": 2,
            "linecolor": "white",
            "showbackground": true,
            "ticks": "",
            "zerolinecolor": "white"
           },
           "yaxis": {
            "backgroundcolor": "#E5ECF6",
            "gridcolor": "white",
            "gridwidth": 2,
            "linecolor": "white",
            "showbackground": true,
            "ticks": "",
            "zerolinecolor": "white"
           },
           "zaxis": {
            "backgroundcolor": "#E5ECF6",
            "gridcolor": "white",
            "gridwidth": 2,
            "linecolor": "white",
            "showbackground": true,
            "ticks": "",
            "zerolinecolor": "white"
           }
          },
          "shapedefaults": {
           "line": {
            "color": "#2a3f5f"
           }
          },
          "ternary": {
           "aaxis": {
            "gridcolor": "white",
            "linecolor": "white",
            "ticks": ""
           },
           "baxis": {
            "gridcolor": "white",
            "linecolor": "white",
            "ticks": ""
           },
           "bgcolor": "#E5ECF6",
           "caxis": {
            "gridcolor": "white",
            "linecolor": "white",
            "ticks": ""
           }
          },
          "title": {
           "x": 0.05
          },
          "xaxis": {
           "automargin": true,
           "gridcolor": "white",
           "linecolor": "white",
           "ticks": "",
           "title": {
            "standoff": 15
           },
           "zerolinecolor": "white",
           "zerolinewidth": 2
          },
          "yaxis": {
           "automargin": true,
           "gridcolor": "white",
           "linecolor": "white",
           "ticks": "",
           "title": {
            "standoff": 15
           },
           "zerolinecolor": "white",
           "zerolinewidth": 2
          }
         }
        },
        "title": {
         "text": ""
        },
        "width": 1000
       }
      }
     },
     "metadata": {},
     "output_type": "display_data"
    }
   ],
   "source": [
    "# Create the scatter mapbox figure\n",
    "fig = px.scatter_mapbox(\n",
    "    df,\n",
    "    lat='latitude',\n",
    "    lon='longitude',\n",
    "    color='rental',\n",
    "    color_continuous_scale=px.colors.cyclical.IceFire,\n",
    "    hover_name='hover_data',\n",
    "    size_max=10,\n",
    "    zoom=13,\n",
    "    mapbox_style='open-street-map'\n",
    ")\n",
    "\n",
    "# Update hover template\n",
    "fig.update_traces(hovertemplate='%{hovertext}')\n",
    "\n",
    "# Update layout\n",
    "fig.update_layout(\n",
    "    title='',\n",
    "    legend=dict(\n",
    "        title='',\n",
    "        x=0.01,\n",
    "        y=0.99,\n",
    "        bgcolor='rgba(255, 255, 255, 0.5)' \n",
    "    ),\n",
    "    width=1000,  # Increased width to accommodate the text pane\n",
    "    height=800,\n",
    "    margin=dict(l=250, r=10, t=30, b=10),\n",
    ")\n",
    "\n",
    "# Add text annotations\n",
    "x_annotation = -0.05\n",
    "\n",
    "location_anchor = 1\n",
    "bbox_anchor = 0.6\n",
    "market_anchor = 0.85\n",
    "annotations = [\n",
    "    dict(\n",
    "        text=\"Location:\",\n",
    "        x=x_annotation,\n",
    "        y=location_anchor,\n",
    "        xref='paper',\n",
    "        yref='paper',\n",
    "        showarrow=False,\n",
    "        align='left',\n",
    "        xshift=-210,\n",
    "        font=dict(size=16, color='blue')\n",
    "    ),\n",
    "    dict(\n",
    "        text=\"Metro: Atlanta\",\n",
    "        x=x_annotation,\n",
    "        y=location_anchor-0.05,\n",
    "        xref='paper',\n",
    "        yref='paper',\n",
    "        showarrow=False,\n",
    "        align='left',\n",
    "        xshift=-210,\n",
    "        font=dict(size=14)\n",
    "    ),\n",
    "    dict(\n",
    "        text=f\"Zip: {ZIP_CODE}\",\n",
    "        x=x_annotation,\n",
    "        y=location_anchor-0.1,\n",
    "        xref='paper',\n",
    "        yref='paper',\n",
    "        showarrow=False,\n",
    "        align='left',\n",
    "        xshift=-210,\n",
    "        font=dict(size=14)\n",
    "    ),\n",
    "    dict(\n",
    "        text=\"Buy Box Criteria:\",\n",
    "        x=x_annotation,\n",
    "        y=bbox_anchor,\n",
    "        xref='paper',\n",
    "        yref='paper',\n",
    "        showarrow=False,\n",
    "        align='left',\n",
    "        xshift=-210,\n",
    "        font=dict(size=16, color='blue')\n",
    "    ),\n",
    "    dict(\n",
    "        text=f\"Property Type: Single Family\",\n",
    "        x=x_annotation,\n",
    "        y=bbox_anchor - 0.05,\n",
    "        xref='paper',\n",
    "        yref='paper',\n",
    "        showarrow=False,\n",
    "        align='left',\n",
    "        xshift=-210,\n",
    "        font=dict(size=14)\n",
    "    ),\n",
    "    dict(\n",
    "        text=f\"Square Footage: {SQ_FT_MIN}-{SQ_FT_MAX} sq ft.\",\n",
    "        x=x_annotation,\n",
    "        y=bbox_anchor - 0.1,\n",
    "        xref='paper',\n",
    "        yref='paper',\n",
    "        showarrow=False,\n",
    "        align='left',\n",
    "        xshift=-210, \n",
    "        font=dict(size=14)\n",
    "    ),\n",
    "    dict(\n",
    "        text=f\"Year Built: {YEAR_BUILT_MIN}-{YEAR_BUILT_MAX}\",\n",
    "        x=x_annotation,\n",
    "        y=bbox_anchor - 0.15,\n",
    "        xref='paper',\n",
    "        yref='paper',\n",
    "        showarrow=False,\n",
    "        align='left',\n",
    "        xshift=-210,\n",
    "        font=dict(size=14)\n",
    "    ),\n",
    "    dict(\n",
    "        text=f\"Vacancy Rate: {vacancy_rate:.2%}\",\n",
    "        x=x_annotation,\n",
    "        y=bbox_anchor - 0.2,\n",
    "        xref='paper',\n",
    "        yref='paper',\n",
    "        showarrow=False,\n",
    "        align='left',\n",
    "        xshift=-210,\n",
    "        font=dict(size=14)\n",
    "    ),\n",
    "    dict(\n",
    "        text=\"Single Family Market Metrics:\",\n",
    "        x=x_annotation, \n",
    "        y=market_anchor,\n",
    "        xref='paper',\n",
    "        yref='paper',\n",
    "        showarrow=False,\n",
    "        align='left',\n",
    "        xshift=-210,\n",
    "        font=dict(size=16, color='blue')\n",
    "    ),\n",
    "    dict(\n",
    "        text=f\"New Rentals (7 day): {rental_inventory_7_day}\",\n",
    "        x=x_annotation,\n",
    "        y=market_anchor-0.05,\n",
    "        xref='paper',\n",
    "        yref='paper',\n",
    "        showarrow=False,\n",
    "        align='left',\n",
    "        xshift=-210,\n",
    "        font=dict(size=14)\n",
    "    ),\n",
    "    dict(\n",
    "        text=f\"New Rentals (30 day): {rental_inventory_30_day}\",\n",
    "        x=x_annotation,\n",
    "        y=market_anchor-0.1,\n",
    "        xref='paper',\n",
    "        yref='paper',\n",
    "        showarrow=False,\n",
    "        align='left',\n",
    "        xshift=-210,\n",
    "        font=dict(size=14)\n",
    "    ),\n",
    "    dict(\n",
    "        text=f\"Current Rental Price: {rental_price}\",\n",
    "        x=x_annotation,\n",
    "        y=market_anchor-0.15,\n",
    "        xref='paper',\n",
    "        yref='paper',\n",
    "        showarrow=False,\n",
    "        align='left',\n",
    "        xshift=-210,\n",
    "        font=dict(size=14)\n",
    "    ),\n",
    "    dict(\n",
    "        text=f\"Gross Yield: {gross_yields}\",\n",
    "        x=x_annotation,\n",
    "        y=market_anchor-0.2,\n",
    "        xref='paper',\n",
    "        yref='paper',\n",
    "        showarrow=False,\n",
    "        align='left',\n",
    "        xshift=-210, \n",
    "        font=dict(size=14)\n",
    "    ),\n",
    "]\n",
    "\n",
    "fig.update_layout(annotations=annotations)\n",
    "\n",
    "# Add logo (assuming create_labs_logo_dict is defined elsewhere)\n",
    "fig.add_layout_image(\n",
    "    create_labs_logo_dict(\n",
    "        color='blue',\n",
    "        xanchor='left',\n",
    "        yanchor='bottom',\n",
    "        x=-0.29,\n",
    "        y=0,\n",
    "        sizex=0.25,\n",
    "        sizey=0.25,\n",
    "    ),\n",
    ")\n",
    "\n",
    "# Show figure\n",
    "fig.show()\n"
   ]
  }
 ],
 "metadata": {
  "kernelspec": {
   "display_name": "parcllabs",
   "language": "python",
   "name": "python3"
  },
  "language_info": {
   "codemirror_mode": {
    "name": "ipython",
    "version": 3
   },
   "file_extension": ".py",
   "mimetype": "text/x-python",
   "name": "python",
   "nbconvert_exporter": "python",
   "pygments_lexer": "ipython3",
   "version": "3.11.9"
  }
 },
 "nbformat": 4,
 "nbformat_minor": 2
}
