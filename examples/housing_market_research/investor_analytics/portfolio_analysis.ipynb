{
 "cells": [
  {
   "cell_type": "markdown",
   "metadata": {},
   "source": [
    "<center>\n",
    "<h1>Welcome to the Lab 🥼🧪</h1>\n",
    "</center>\n",
    "\n",
    "### In this notebook, we will analyze investor ownership concentration in the Milwaukee metropolitan area.\n",
    "\n",
    "In this notebook, we will be examining investors in the Milwaukee metro housing market, one of the metropolitan markets where large institutional investors slashed prices of their inventory [last year](https://www.parcllabs.com/articles/where-are-large-operators-cutting-home-prices). We will download information to understand the concentration of single-family homes for rental (SFRs) based on portfolio size. Specifically, we will look at the share of total housing stock by portfolio size to understand local trends.\n",
    "\n",
    "#### Need help getting started?\n",
    "\n",
    "As a reminder, you can get your Parcl Labs API key [here](https://dashboard.parcllabs.com/signup) to follow along.\n",
    "\n",
    "To run this immediately, you can use Google Colab. Remember, you must set your `PARCL_LABS_API_KEY`.\n",
    "\n",
    "Run in Colab --> [![Open in Colab](https://colab.research.google.com/assets/colab-badge.svg)](https://colab.research.google.com/github/ParclLabs/parcllabs-cookbook/blob/main/examples/housing_market_research/investor_analytics/portfolio_analysis.ipynb)\n"
   ]
  },
  {
   "cell_type": "code",
   "execution_count": 1,
   "metadata": {},
   "outputs": [
    {
     "name": "stdout",
     "output_type": "stream",
     "text": [
      "Requirement already satisfied: parcllabs in /opt/anaconda3/envs/parcllabs-env/lib/python3.11/site-packages (1.6.1)\n",
      "Requirement already satisfied: aiohttp in /opt/anaconda3/envs/parcllabs-env/lib/python3.11/site-packages (from parcllabs) (3.10.5)\n",
      "Requirement already satisfied: alive-progress in /opt/anaconda3/envs/parcllabs-env/lib/python3.11/site-packages (from parcllabs) (3.1.5)\n",
      "Requirement already satisfied: kaleido in /opt/anaconda3/envs/parcllabs-env/lib/python3.11/site-packages (from parcllabs) (0.2.1)\n",
      "Requirement already satisfied: nest-asyncio in /opt/anaconda3/envs/parcllabs-env/lib/python3.11/site-packages (from parcllabs) (1.6.0)\n",
      "Requirement already satisfied: numpy in /opt/anaconda3/envs/parcllabs-env/lib/python3.11/site-packages (from parcllabs) (1.26.4)\n",
      "Requirement already satisfied: pandas in /opt/anaconda3/envs/parcllabs-env/lib/python3.11/site-packages (from parcllabs) (2.2.2)\n",
      "Requirement already satisfied: plotly in /opt/anaconda3/envs/parcllabs-env/lib/python3.11/site-packages (from parcllabs) (5.22.0)\n",
      "Requirement already satisfied: requests in /opt/anaconda3/envs/parcllabs-env/lib/python3.11/site-packages (from parcllabs) (2.31.0)\n",
      "Requirement already satisfied: aiohappyeyeballs>=2.3.0 in /opt/anaconda3/envs/parcllabs-env/lib/python3.11/site-packages (from aiohttp->parcllabs) (2.4.0)\n",
      "Requirement already satisfied: aiosignal>=1.1.2 in /opt/anaconda3/envs/parcllabs-env/lib/python3.11/site-packages (from aiohttp->parcllabs) (1.3.1)\n",
      "Requirement already satisfied: attrs>=17.3.0 in /opt/anaconda3/envs/parcllabs-env/lib/python3.11/site-packages (from aiohttp->parcllabs) (23.2.0)\n",
      "Requirement already satisfied: frozenlist>=1.1.1 in /opt/anaconda3/envs/parcllabs-env/lib/python3.11/site-packages (from aiohttp->parcllabs) (1.4.1)\n",
      "Requirement already satisfied: multidict<7.0,>=4.5 in /opt/anaconda3/envs/parcllabs-env/lib/python3.11/site-packages (from aiohttp->parcllabs) (6.0.5)\n",
      "Requirement already satisfied: yarl<2.0,>=1.0 in /opt/anaconda3/envs/parcllabs-env/lib/python3.11/site-packages (from aiohttp->parcllabs) (1.9.4)\n",
      "Requirement already satisfied: about-time==4.2.1 in /opt/anaconda3/envs/parcllabs-env/lib/python3.11/site-packages (from alive-progress->parcllabs) (4.2.1)\n",
      "Requirement already satisfied: grapheme==0.6.0 in /opt/anaconda3/envs/parcllabs-env/lib/python3.11/site-packages (from alive-progress->parcllabs) (0.6.0)\n",
      "Requirement already satisfied: python-dateutil>=2.8.2 in /opt/anaconda3/envs/parcllabs-env/lib/python3.11/site-packages (from pandas->parcllabs) (2.9.0)\n",
      "Requirement already satisfied: pytz>=2020.1 in /opt/anaconda3/envs/parcllabs-env/lib/python3.11/site-packages (from pandas->parcllabs) (2024.1)\n",
      "Requirement already satisfied: tzdata>=2022.7 in /opt/anaconda3/envs/parcllabs-env/lib/python3.11/site-packages (from pandas->parcllabs) (2024.1)\n",
      "Requirement already satisfied: tenacity>=6.2.0 in /opt/anaconda3/envs/parcllabs-env/lib/python3.11/site-packages (from plotly->parcllabs) (8.2.3)\n",
      "Requirement already satisfied: packaging in /opt/anaconda3/envs/parcllabs-env/lib/python3.11/site-packages (from plotly->parcllabs) (24.0)\n",
      "Requirement already satisfied: charset-normalizer<4,>=2 in /opt/anaconda3/envs/parcllabs-env/lib/python3.11/site-packages (from requests->parcllabs) (3.3.2)\n",
      "Requirement already satisfied: idna<4,>=2.5 in /opt/anaconda3/envs/parcllabs-env/lib/python3.11/site-packages (from requests->parcllabs) (3.7)\n",
      "Requirement already satisfied: urllib3<3,>=1.21.1 in /opt/anaconda3/envs/parcllabs-env/lib/python3.11/site-packages (from requests->parcllabs) (2.2.1)\n",
      "Requirement already satisfied: certifi>=2017.4.17 in /opt/anaconda3/envs/parcllabs-env/lib/python3.11/site-packages (from requests->parcllabs) (2024.2.2)\n",
      "Requirement already satisfied: six>=1.5 in /opt/anaconda3/envs/parcllabs-env/lib/python3.11/site-packages (from python-dateutil>=2.8.2->pandas->parcllabs) (1.16.0)\n",
      "Note: you may need to restart the kernel to use updated packages.\n"
     ]
    }
   ],
   "source": [
    "# if needed, install and/or upgrade to the latest verison of the Parcl Labs Python library\n",
    "%pip install --upgrade parcllabs"
   ]
  },
  {
   "cell_type": "markdown",
   "metadata": {},
   "source": [
    "After installing the required libraries, we need to load them and instantiate the Parcl Labs client. The client is a Python library designed to facilitate and optimize the user experience with the Parcl Labs API. It takes care of searching, retrieving, and formatting the data for us. To use the client, you need to have an `API_KEY` available in your [dashboard](https://dashboard.parcllabs.com/). While you can simply enter your `API_KEY` directly, it is recommended that you save it as an environment variable to make it more secure. If you are using Colab, you can follow these [steps](https://medium.com/@parthdasawant/how-to-use-secrets-in-google-colab-450c38e3ec75).\n"
   ]
  },
  {
   "cell_type": "code",
   "execution_count": 2,
   "metadata": {},
   "outputs": [],
   "source": [
    "# Environment setup\n",
    "import os\n",
    "import pandas as pd\n",
    "import matplotlib.pyplot as plt\n",
    "import matplotlib.dates as mdates\n",
    "import plotly\n",
    "import requests as re\n",
    "import numpy as np\n",
    "import pandas as pd\n",
    "import plotly.express as px\n",
    "from datetime import datetime\n",
    "import plotly.graph_objects as go\n",
    "from parcllabs import ParclLabsClient\n",
    "from parcllabs.beta.charting.utils import create_labs_logo_dict\n",
    "from parcllabs.beta.charting.styling import default_style_config as style_config\n",
    "from parcllabs import ParclLabsClient\n",
    "\n",
    "# Create a Parcl Labs client\n",
    "client = ParclLabsClient(\n",
    "    api_key=os.environ.get('PARCL_LABS_API_KEY', \"<your Parcl Labs API key if not set as environment variable>\"), \n",
    "    limit=10 # set default limit\n",
    ")"
   ]
  },
  {
   "cell_type": "markdown",
   "metadata": {},
   "source": [
    "We will analyze the Milwaukee metro market. To find the corresponding `parcl_id` for that market we can use the `search.markets.retrieve` method of the client with the corresponding parameters, in this case the main one defining the type of market we are looking for. In the case of the Milwaukee metro area we set this value to `CBSA` which an abbreviation for core-based statistical area, the official term used by the Census Bureau.\n"
   ]
  },
  {
   "cell_type": "code",
   "execution_count": 3,
   "metadata": {},
   "outputs": [
    {
     "name": "stdout",
     "output_type": "stream",
     "text": [
      " The parcl_id for Milwaukee metro is 2900134\n"
     ]
    }
   ],
   "source": [
    "# Search for a specific market by name and type\n",
    "# In this case, we are going to search for Milwaukee CBSA (Core Based Statistical Area)\n",
    "market = client.search.markets.retrieve(\n",
    "    query='milwaukee',\n",
    "    location_type='CBSA',\n",
    ")\n",
    "\n",
    "print(f' The parcl_id for Milwaukee metro is {market[\"parcl_id\"].iloc[0]}')"
   ]
  },
  {
   "cell_type": "markdown",
   "metadata": {},
   "source": [
    "Now that we have the information on `parcl_id` we are going to retrieve the concentration of single-family homes by investor portfolio size, which can be accessed using the `portfolio_metrics.sf_housing_stock_ownership` method. Alternatively, you can access this data via the API using this [endpoint](https://docs.parcllabs.com/reference/sf_housing_stock_ownership_v1_portfolio_metrics__parcl_id__sf_housing_stock_ownership_get-1). This analysis will help us understand the composition of the SFR market in the Milwaukee metro area. We will examine investor concentration as of July 2024. The `portfolio_metrics.sf_housing_stock_ownership` method accepts `parcl_ids`, `start_date`, and `end_date` as parameters, so we need to define them in a dictionary that we can pass to the client."
   ]
  },
  {
   "cell_type": "code",
   "execution_count": 4,
   "metadata": {},
   "outputs": [],
   "source": [
    "# Focus on two of the largest investors\n",
    "housing_stock_ownership = {\n",
    "    'parcl_ids': [2900134],  # Replace with appropriate Parcl IDs if needed\n",
    "    'start_date': '2024-07-01',  # Set the start date for the data retrieval, data starts from 2024-03-01\n",
    "    'end_date': '2024-07-31',    # Set the end date for the data retrieval\n",
    "    'limit': 100,   # Limit the number of records retrieved, if we set this to 1 we will get the most recent record\n",
    "}\n",
    "\n",
    "# Retrieve the data\n",
    "sf_investor_portfolio_concentration = client.portfolio_metrics.sf_housing_stock_ownership.retrieve(\n",
    "    **housing_stock_ownership\n",
    ")"
   ]
  },
  {
   "cell_type": "code",
   "execution_count": 5,
   "metadata": {},
   "outputs": [
    {
     "data": {
      "text/html": [
       "<div>\n",
       "<style scoped>\n",
       "    .dataframe tbody tr th:only-of-type {\n",
       "        vertical-align: middle;\n",
       "    }\n",
       "\n",
       "    .dataframe tbody tr th {\n",
       "        vertical-align: top;\n",
       "    }\n",
       "\n",
       "    .dataframe thead th {\n",
       "        text-align: right;\n",
       "    }\n",
       "</style>\n",
       "<table border=\"1\" class=\"dataframe\">\n",
       "  <thead>\n",
       "    <tr style=\"text-align: right;\">\n",
       "      <th></th>\n",
       "      <th>parcl_id</th>\n",
       "      <th>date</th>\n",
       "      <th>count_portfolio_2_to_9</th>\n",
       "      <th>count_portfolio_10_to_99</th>\n",
       "      <th>count_portfolio_100_to_999</th>\n",
       "      <th>count_portfolio_1000_plus</th>\n",
       "      <th>count_all_portfolios</th>\n",
       "      <th>pct_sf_housing_stock_portfolio_2_to_9</th>\n",
       "      <th>pct_sf_housing_stock_portfolio_10_to_99</th>\n",
       "      <th>pct_sf_housing_stock_portfolio_100_to_999</th>\n",
       "      <th>pct_sf_housing_stock_portfolio_1000_plus</th>\n",
       "      <th>pct_sf_housing_stock_all_portfolios</th>\n",
       "    </tr>\n",
       "  </thead>\n",
       "  <tbody>\n",
       "    <tr>\n",
       "      <th>0</th>\n",
       "      <td>2900134</td>\n",
       "      <td>2024-07-01</td>\n",
       "      <td>17327</td>\n",
       "      <td>2590</td>\n",
       "      <td>633</td>\n",
       "      <td>1097</td>\n",
       "      <td>21647</td>\n",
       "      <td>4.64</td>\n",
       "      <td>0.69</td>\n",
       "      <td>0.17</td>\n",
       "      <td>0.29</td>\n",
       "      <td>5.79</td>\n",
       "    </tr>\n",
       "  </tbody>\n",
       "</table>\n",
       "</div>"
      ],
      "text/plain": [
       "  parcl_id       date  count_portfolio_2_to_9  count_portfolio_10_to_99  \\\n",
       "0  2900134 2024-07-01                   17327                      2590   \n",
       "\n",
       "   count_portfolio_100_to_999  count_portfolio_1000_plus  \\\n",
       "0                         633                       1097   \n",
       "\n",
       "   count_all_portfolios  pct_sf_housing_stock_portfolio_2_to_9  \\\n",
       "0                 21647                                   4.64   \n",
       "\n",
       "   pct_sf_housing_stock_portfolio_10_to_99  \\\n",
       "0                                     0.69   \n",
       "\n",
       "   pct_sf_housing_stock_portfolio_100_to_999  \\\n",
       "0                                       0.17   \n",
       "\n",
       "   pct_sf_housing_stock_portfolio_1000_plus  \\\n",
       "0                                      0.29   \n",
       "\n",
       "   pct_sf_housing_stock_all_portfolios  \n",
       "0                                 5.79  "
      ]
     },
     "execution_count": 5,
     "metadata": {},
     "output_type": "execute_result"
    }
   ],
   "source": [
    "# We can also get the most recent data with this call\n",
    "housing_stock_ownership = {\n",
    "    'parcl_ids': [2900134],  # Replace with appropriate Parcl IDs if needed\n",
    "    'limit': 1,   # Limit the number of records retrieved, if we set this to 1 we will get the most recent record\n",
    "    }\n",
    "\n",
    "# Retrieve the data\n",
    "sf_investor_portfolio_concentration = client.portfolio_metrics.sf_housing_stock_ownership.retrieve(\n",
    "    **housing_stock_ownership\n",
    ")\n",
    "sf_investor_portfolio_concentration"
   ]
  },
  {
   "cell_type": "markdown",
   "metadata": {},
   "source": [
    "The resulting dataframe contains information about the ownership of single-family homes (SFH) by portfolio size in the Milwaukee metro. There are several variables we can use for our analysis. One group of variables presents the raw counts of properties owned by each portfolio size (e.g., `count_portfolio_2_to_9`, `count_portfolio_10_to_99`, etc.), and another group presents the share of all housing available in that market (e.g., `pct_sf_housing_stock_portfolio_2_to_9`, `pct_sf_housing_stock_portfolio_10_to_99`, etc.). We can visualize these percentages as a bar chart using the code snippet below.\n"
   ]
  },
  {
   "cell_type": "code",
   "execution_count": 6,
   "metadata": {},
   "outputs": [
    {
     "data": {
      "application/vnd.plotly.v1+json": {
       "config": {
        "plotlyServerURL": "https://plot.ly"
       },
       "data": [
        {
         "alignmentgroup": "True",
         "hovertemplate": "Category=%{y}<br>Percentage=%{x}<extra></extra>",
         "legendgroup": "pct_sf_housing_stock_portfolio_2_to_9",
         "marker": {
          "color": "#142872",
          "line": {
           "width": 0
          },
          "pattern": {
           "shape": ""
          }
         },
         "name": "pct_sf_housing_stock_portfolio_2_to_9",
         "offsetgroup": "pct_sf_housing_stock_portfolio_2_to_9",
         "orientation": "h",
         "showlegend": true,
         "textposition": "auto",
         "type": "bar",
         "x": [
          0.0464
         ],
         "xaxis": "x",
         "y": [
          "pct_sf_housing_stock_portfolio_2_to_9"
         ],
         "yaxis": "y"
        },
        {
         "alignmentgroup": "True",
         "hovertemplate": "Category=%{y}<br>Percentage=%{x}<extra></extra>",
         "legendgroup": "pct_sf_housing_stock_portfolio_10_to_99",
         "marker": {
          "color": "#8a9cb7",
          "line": {
           "width": 0
          },
          "pattern": {
           "shape": ""
          }
         },
         "name": "pct_sf_housing_stock_portfolio_10_to_99",
         "offsetgroup": "pct_sf_housing_stock_portfolio_10_to_99",
         "orientation": "h",
         "showlegend": true,
         "textposition": "auto",
         "type": "bar",
         "x": [
          0.0069
         ],
         "xaxis": "x",
         "y": [
          "pct_sf_housing_stock_portfolio_10_to_99"
         ],
         "yaxis": "y"
        },
        {
         "alignmentgroup": "True",
         "hovertemplate": "Category=%{y}<br>Percentage=%{x}<extra></extra>",
         "legendgroup": "pct_sf_housing_stock_portfolio_1000_plus",
         "marker": {
          "color": "#4882db",
          "line": {
           "width": 0
          },
          "pattern": {
           "shape": ""
          }
         },
         "name": "pct_sf_housing_stock_portfolio_1000_plus",
         "offsetgroup": "pct_sf_housing_stock_portfolio_1000_plus",
         "orientation": "h",
         "showlegend": true,
         "textposition": "auto",
         "type": "bar",
         "x": [
          0.0029
         ],
         "xaxis": "x",
         "y": [
          "pct_sf_housing_stock_portfolio_1000_plus"
         ],
         "yaxis": "y"
        },
        {
         "alignmentgroup": "True",
         "hovertemplate": "Category=%{y}<br>Percentage=%{x}<extra></extra>",
         "legendgroup": "pct_sf_housing_stock_portfolio_100_to_999",
         "marker": {
          "color": "#d4d4d4",
          "line": {
           "width": 0
          },
          "pattern": {
           "shape": ""
          }
         },
         "name": "pct_sf_housing_stock_portfolio_100_to_999",
         "offsetgroup": "pct_sf_housing_stock_portfolio_100_to_999",
         "orientation": "h",
         "showlegend": true,
         "textposition": "auto",
         "type": "bar",
         "x": [
          0.0017000000000000001
         ],
         "xaxis": "x",
         "y": [
          "pct_sf_housing_stock_portfolio_100_to_999"
         ],
         "yaxis": "y"
        }
       ],
       "layout": {
        "autosize": false,
        "barmode": "relative",
        "font": {
         "color": "#ffffff"
        },
        "height": 800,
        "images": [
         {
          "sizex": 0.15,
          "sizey": 0.15,
          "source": "https://parcllabs-assets.s3.amazonaws.com/powered-by-parcllabs-api-logo-white+(1).svg",
          "x": 1,
          "xanchor": "right",
          "xref": "paper",
          "y": 0,
          "yanchor": "bottom",
          "yref": "paper"
         }
        ],
        "legend": {
         "bgcolor": "rgba(0, 0, 0, 0)",
         "font": {
          "color": "#ffffff",
          "family": "Arial",
          "size": 12
         },
         "title": {
          "font": {
           "size": 14
          },
          "text": ""
         },
         "tracegroupgap": 0,
         "x": 0.01,
         "xanchor": "left",
         "y": 0.98,
         "yanchor": "top"
        },
        "margin": {
         "b": 40,
         "l": 40,
         "r": 40,
         "t": 100
        },
        "paper_bgcolor": "#1e1e1e",
        "plot_bgcolor": "#1e1e1e",
        "showlegend": false,
        "template": {
         "data": {
          "bar": [
           {
            "error_x": {
             "color": "#2a3f5f"
            },
            "error_y": {
             "color": "#2a3f5f"
            },
            "marker": {
             "line": {
              "color": "#E5ECF6",
              "width": 0.5
             },
             "pattern": {
              "fillmode": "overlay",
              "size": 10,
              "solidity": 0.2
             }
            },
            "type": "bar"
           }
          ],
          "barpolar": [
           {
            "marker": {
             "line": {
              "color": "#E5ECF6",
              "width": 0.5
             },
             "pattern": {
              "fillmode": "overlay",
              "size": 10,
              "solidity": 0.2
             }
            },
            "type": "barpolar"
           }
          ],
          "carpet": [
           {
            "aaxis": {
             "endlinecolor": "#2a3f5f",
             "gridcolor": "white",
             "linecolor": "white",
             "minorgridcolor": "white",
             "startlinecolor": "#2a3f5f"
            },
            "baxis": {
             "endlinecolor": "#2a3f5f",
             "gridcolor": "white",
             "linecolor": "white",
             "minorgridcolor": "white",
             "startlinecolor": "#2a3f5f"
            },
            "type": "carpet"
           }
          ],
          "choropleth": [
           {
            "colorbar": {
             "outlinewidth": 0,
             "ticks": ""
            },
            "type": "choropleth"
           }
          ],
          "contour": [
           {
            "colorbar": {
             "outlinewidth": 0,
             "ticks": ""
            },
            "colorscale": [
             [
              0,
              "#0d0887"
             ],
             [
              0.1111111111111111,
              "#46039f"
             ],
             [
              0.2222222222222222,
              "#7201a8"
             ],
             [
              0.3333333333333333,
              "#9c179e"
             ],
             [
              0.4444444444444444,
              "#bd3786"
             ],
             [
              0.5555555555555556,
              "#d8576b"
             ],
             [
              0.6666666666666666,
              "#ed7953"
             ],
             [
              0.7777777777777778,
              "#fb9f3a"
             ],
             [
              0.8888888888888888,
              "#fdca26"
             ],
             [
              1,
              "#f0f921"
             ]
            ],
            "type": "contour"
           }
          ],
          "contourcarpet": [
           {
            "colorbar": {
             "outlinewidth": 0,
             "ticks": ""
            },
            "type": "contourcarpet"
           }
          ],
          "heatmap": [
           {
            "colorbar": {
             "outlinewidth": 0,
             "ticks": ""
            },
            "colorscale": [
             [
              0,
              "#0d0887"
             ],
             [
              0.1111111111111111,
              "#46039f"
             ],
             [
              0.2222222222222222,
              "#7201a8"
             ],
             [
              0.3333333333333333,
              "#9c179e"
             ],
             [
              0.4444444444444444,
              "#bd3786"
             ],
             [
              0.5555555555555556,
              "#d8576b"
             ],
             [
              0.6666666666666666,
              "#ed7953"
             ],
             [
              0.7777777777777778,
              "#fb9f3a"
             ],
             [
              0.8888888888888888,
              "#fdca26"
             ],
             [
              1,
              "#f0f921"
             ]
            ],
            "type": "heatmap"
           }
          ],
          "heatmapgl": [
           {
            "colorbar": {
             "outlinewidth": 0,
             "ticks": ""
            },
            "colorscale": [
             [
              0,
              "#0d0887"
             ],
             [
              0.1111111111111111,
              "#46039f"
             ],
             [
              0.2222222222222222,
              "#7201a8"
             ],
             [
              0.3333333333333333,
              "#9c179e"
             ],
             [
              0.4444444444444444,
              "#bd3786"
             ],
             [
              0.5555555555555556,
              "#d8576b"
             ],
             [
              0.6666666666666666,
              "#ed7953"
             ],
             [
              0.7777777777777778,
              "#fb9f3a"
             ],
             [
              0.8888888888888888,
              "#fdca26"
             ],
             [
              1,
              "#f0f921"
             ]
            ],
            "type": "heatmapgl"
           }
          ],
          "histogram": [
           {
            "marker": {
             "pattern": {
              "fillmode": "overlay",
              "size": 10,
              "solidity": 0.2
             }
            },
            "type": "histogram"
           }
          ],
          "histogram2d": [
           {
            "colorbar": {
             "outlinewidth": 0,
             "ticks": ""
            },
            "colorscale": [
             [
              0,
              "#0d0887"
             ],
             [
              0.1111111111111111,
              "#46039f"
             ],
             [
              0.2222222222222222,
              "#7201a8"
             ],
             [
              0.3333333333333333,
              "#9c179e"
             ],
             [
              0.4444444444444444,
              "#bd3786"
             ],
             [
              0.5555555555555556,
              "#d8576b"
             ],
             [
              0.6666666666666666,
              "#ed7953"
             ],
             [
              0.7777777777777778,
              "#fb9f3a"
             ],
             [
              0.8888888888888888,
              "#fdca26"
             ],
             [
              1,
              "#f0f921"
             ]
            ],
            "type": "histogram2d"
           }
          ],
          "histogram2dcontour": [
           {
            "colorbar": {
             "outlinewidth": 0,
             "ticks": ""
            },
            "colorscale": [
             [
              0,
              "#0d0887"
             ],
             [
              0.1111111111111111,
              "#46039f"
             ],
             [
              0.2222222222222222,
              "#7201a8"
             ],
             [
              0.3333333333333333,
              "#9c179e"
             ],
             [
              0.4444444444444444,
              "#bd3786"
             ],
             [
              0.5555555555555556,
              "#d8576b"
             ],
             [
              0.6666666666666666,
              "#ed7953"
             ],
             [
              0.7777777777777778,
              "#fb9f3a"
             ],
             [
              0.8888888888888888,
              "#fdca26"
             ],
             [
              1,
              "#f0f921"
             ]
            ],
            "type": "histogram2dcontour"
           }
          ],
          "mesh3d": [
           {
            "colorbar": {
             "outlinewidth": 0,
             "ticks": ""
            },
            "type": "mesh3d"
           }
          ],
          "parcoords": [
           {
            "line": {
             "colorbar": {
              "outlinewidth": 0,
              "ticks": ""
             }
            },
            "type": "parcoords"
           }
          ],
          "pie": [
           {
            "automargin": true,
            "type": "pie"
           }
          ],
          "scatter": [
           {
            "fillpattern": {
             "fillmode": "overlay",
             "size": 10,
             "solidity": 0.2
            },
            "type": "scatter"
           }
          ],
          "scatter3d": [
           {
            "line": {
             "colorbar": {
              "outlinewidth": 0,
              "ticks": ""
             }
            },
            "marker": {
             "colorbar": {
              "outlinewidth": 0,
              "ticks": ""
             }
            },
            "type": "scatter3d"
           }
          ],
          "scattercarpet": [
           {
            "marker": {
             "colorbar": {
              "outlinewidth": 0,
              "ticks": ""
             }
            },
            "type": "scattercarpet"
           }
          ],
          "scattergeo": [
           {
            "marker": {
             "colorbar": {
              "outlinewidth": 0,
              "ticks": ""
             }
            },
            "type": "scattergeo"
           }
          ],
          "scattergl": [
           {
            "marker": {
             "colorbar": {
              "outlinewidth": 0,
              "ticks": ""
             }
            },
            "type": "scattergl"
           }
          ],
          "scattermapbox": [
           {
            "marker": {
             "colorbar": {
              "outlinewidth": 0,
              "ticks": ""
             }
            },
            "type": "scattermapbox"
           }
          ],
          "scatterpolar": [
           {
            "marker": {
             "colorbar": {
              "outlinewidth": 0,
              "ticks": ""
             }
            },
            "type": "scatterpolar"
           }
          ],
          "scatterpolargl": [
           {
            "marker": {
             "colorbar": {
              "outlinewidth": 0,
              "ticks": ""
             }
            },
            "type": "scatterpolargl"
           }
          ],
          "scatterternary": [
           {
            "marker": {
             "colorbar": {
              "outlinewidth": 0,
              "ticks": ""
             }
            },
            "type": "scatterternary"
           }
          ],
          "surface": [
           {
            "colorbar": {
             "outlinewidth": 0,
             "ticks": ""
            },
            "colorscale": [
             [
              0,
              "#0d0887"
             ],
             [
              0.1111111111111111,
              "#46039f"
             ],
             [
              0.2222222222222222,
              "#7201a8"
             ],
             [
              0.3333333333333333,
              "#9c179e"
             ],
             [
              0.4444444444444444,
              "#bd3786"
             ],
             [
              0.5555555555555556,
              "#d8576b"
             ],
             [
              0.6666666666666666,
              "#ed7953"
             ],
             [
              0.7777777777777778,
              "#fb9f3a"
             ],
             [
              0.8888888888888888,
              "#fdca26"
             ],
             [
              1,
              "#f0f921"
             ]
            ],
            "type": "surface"
           }
          ],
          "table": [
           {
            "cells": {
             "fill": {
              "color": "#EBF0F8"
             },
             "line": {
              "color": "white"
             }
            },
            "header": {
             "fill": {
              "color": "#C8D4E3"
             },
             "line": {
              "color": "white"
             }
            },
            "type": "table"
           }
          ]
         },
         "layout": {
          "annotationdefaults": {
           "arrowcolor": "#2a3f5f",
           "arrowhead": 0,
           "arrowwidth": 1
          },
          "autotypenumbers": "strict",
          "coloraxis": {
           "colorbar": {
            "outlinewidth": 0,
            "ticks": ""
           }
          },
          "colorscale": {
           "diverging": [
            [
             0,
             "#8e0152"
            ],
            [
             0.1,
             "#c51b7d"
            ],
            [
             0.2,
             "#de77ae"
            ],
            [
             0.3,
             "#f1b6da"
            ],
            [
             0.4,
             "#fde0ef"
            ],
            [
             0.5,
             "#f7f7f7"
            ],
            [
             0.6,
             "#e6f5d0"
            ],
            [
             0.7,
             "#b8e186"
            ],
            [
             0.8,
             "#7fbc41"
            ],
            [
             0.9,
             "#4d9221"
            ],
            [
             1,
             "#276419"
            ]
           ],
           "sequential": [
            [
             0,
             "#0d0887"
            ],
            [
             0.1111111111111111,
             "#46039f"
            ],
            [
             0.2222222222222222,
             "#7201a8"
            ],
            [
             0.3333333333333333,
             "#9c179e"
            ],
            [
             0.4444444444444444,
             "#bd3786"
            ],
            [
             0.5555555555555556,
             "#d8576b"
            ],
            [
             0.6666666666666666,
             "#ed7953"
            ],
            [
             0.7777777777777778,
             "#fb9f3a"
            ],
            [
             0.8888888888888888,
             "#fdca26"
            ],
            [
             1,
             "#f0f921"
            ]
           ],
           "sequentialminus": [
            [
             0,
             "#0d0887"
            ],
            [
             0.1111111111111111,
             "#46039f"
            ],
            [
             0.2222222222222222,
             "#7201a8"
            ],
            [
             0.3333333333333333,
             "#9c179e"
            ],
            [
             0.4444444444444444,
             "#bd3786"
            ],
            [
             0.5555555555555556,
             "#d8576b"
            ],
            [
             0.6666666666666666,
             "#ed7953"
            ],
            [
             0.7777777777777778,
             "#fb9f3a"
            ],
            [
             0.8888888888888888,
             "#fdca26"
            ],
            [
             1,
             "#f0f921"
            ]
           ]
          },
          "colorway": [
           "#636efa",
           "#EF553B",
           "#00cc96",
           "#ab63fa",
           "#FFA15A",
           "#19d3f3",
           "#FF6692",
           "#B6E880",
           "#FF97FF",
           "#FECB52"
          ],
          "font": {
           "color": "#2a3f5f"
          },
          "geo": {
           "bgcolor": "white",
           "lakecolor": "white",
           "landcolor": "#E5ECF6",
           "showlakes": true,
           "showland": true,
           "subunitcolor": "white"
          },
          "hoverlabel": {
           "align": "left"
          },
          "hovermode": "closest",
          "mapbox": {
           "style": "light"
          },
          "paper_bgcolor": "white",
          "plot_bgcolor": "#E5ECF6",
          "polar": {
           "angularaxis": {
            "gridcolor": "white",
            "linecolor": "white",
            "ticks": ""
           },
           "bgcolor": "#E5ECF6",
           "radialaxis": {
            "gridcolor": "white",
            "linecolor": "white",
            "ticks": ""
           }
          },
          "scene": {
           "xaxis": {
            "backgroundcolor": "#E5ECF6",
            "gridcolor": "white",
            "gridwidth": 2,
            "linecolor": "white",
            "showbackground": true,
            "ticks": "",
            "zerolinecolor": "white"
           },
           "yaxis": {
            "backgroundcolor": "#E5ECF6",
            "gridcolor": "white",
            "gridwidth": 2,
            "linecolor": "white",
            "showbackground": true,
            "ticks": "",
            "zerolinecolor": "white"
           },
           "zaxis": {
            "backgroundcolor": "#E5ECF6",
            "gridcolor": "white",
            "gridwidth": 2,
            "linecolor": "white",
            "showbackground": true,
            "ticks": "",
            "zerolinecolor": "white"
           }
          },
          "shapedefaults": {
           "line": {
            "color": "#2a3f5f"
           }
          },
          "ternary": {
           "aaxis": {
            "gridcolor": "white",
            "linecolor": "white",
            "ticks": ""
           },
           "baxis": {
            "gridcolor": "white",
            "linecolor": "white",
            "ticks": ""
           },
           "bgcolor": "#E5ECF6",
           "caxis": {
            "gridcolor": "white",
            "linecolor": "white",
            "ticks": ""
           }
          },
          "title": {
           "x": 0.05
          },
          "xaxis": {
           "automargin": true,
           "gridcolor": "white",
           "linecolor": "white",
           "ticks": "",
           "title": {
            "standoff": 15
           },
           "zerolinecolor": "white",
           "zerolinewidth": 2
          },
          "yaxis": {
           "automargin": true,
           "gridcolor": "white",
           "linecolor": "white",
           "ticks": "",
           "title": {
            "standoff": 15
           },
           "zerolinecolor": "white",
           "zerolinewidth": 2
          }
         }
        },
        "title": {
         "font": {
          "color": "#ffffff",
          "family": "Arial Black",
          "size": 24
         },
         "text": "Rate of Single-Family Housing Stock Growth Since 2010",
         "x": 0.5,
         "xanchor": "center",
         "y": 0.95,
         "yanchor": "top"
        },
        "width": 1600,
        "xaxis": {
         "anchor": "y",
         "domain": [
          0,
          1
         ],
         "gridcolor": "rgba(255, 255, 255, 0.2)",
         "gridwidth": 0.5,
         "linecolor": "rgba(255, 255, 255, 0.7)",
         "linewidth": 1,
         "showgrid": true,
         "tickfont": {
          "color": "#ffffff",
          "size": 12
         },
         "tickformat": ".2%",
         "title": {
          "font": {
           "color": "#ffffff",
           "family": "Arial Black",
           "size": 18
          },
          "text": ""
         }
        },
        "yaxis": {
         "anchor": "x",
         "categoryarray": [
          "pct_sf_housing_stock_portfolio_100_to_999",
          "pct_sf_housing_stock_portfolio_1000_plus",
          "pct_sf_housing_stock_portfolio_10_to_99",
          "pct_sf_housing_stock_portfolio_2_to_9"
         ],
         "categoryorder": "array",
         "domain": [
          0,
          1
         ],
         "gridcolor": "rgba(255, 255, 255, 0.2)",
         "gridwidth": 0.5,
         "linecolor": "rgba(255, 255, 255, 0.7)",
         "linewidth": 1,
         "showgrid": true,
         "tickfont": {
          "color": "#ffffff",
          "family": "Arial",
          "size": 12
         },
         "tickformat": ".1%",
         "title": {
          "font": {
           "color": "#ffffff",
           "family": "Arial Black",
           "size": 18
          },
          "text": "% Housing Stock Growth"
         },
         "zeroline": false
        }
       }
      }
     },
     "metadata": {},
     "output_type": "display_data"
    }
   ],
   "source": [
    "from parcllabs.beta.charting.styling import SIZE_CONFIG\n",
    "from parcllabs.beta.charting.default_charts import create_dual_axis_chart\n",
    "\n",
    "# Prepare the data by melting the dataframe and formatting the percentages\n",
    "df_melted = (sf_investor_portfolio_concentration\n",
    "             .drop(columns=['pct_sf_housing_stock_all_portfolios'])  # Drop irrelevant columns\n",
    "             .filter(like='pct')  # Filter to keep only percentage columns\n",
    "             .melt(var_name='Category', value_name='Percentage')  # Melt the dataframe to long format\n",
    "             .sort_values(by='Percentage', ascending=False)  # Sort by percentage for better visualization\n",
    "             .assign(Percentage=lambda x: x['Percentage'] * 0.01)  # Convert percentage values to decimal\n",
    ")\n",
    "\n",
    "# Add a fixed date column\n",
    "df_melted['date'] = pd.to_datetime('2024-07-01')\n",
    "\n",
    "# Define custom colors for the chart\n",
    "colors = ['#142872', '#8a9cb7', '#4882db', '#d4d4d4']\n",
    "\n",
    "# Create the stacked bar chart using Plotly Express\n",
    "fig = px.bar(df_melted, \n",
    "             x='Percentage', \n",
    "             y='Category', \n",
    "             barmode='relative', \n",
    "             title='Rate of Single-Family Housing Stock Growth Since 2010',  # Corrected title text\n",
    "             color='Category',\n",
    "             color_discrete_sequence=colors\n",
    ")\n",
    "\n",
    "# Update trace properties\n",
    "fig.update_traces(marker=dict(line=dict(width=0)))\n",
    "\n",
    "# Customize the layout of the chart\n",
    "fig.update_layout(\n",
    "    margin=dict(l=40, r=40, t=100, b=40),  # Adjust margins to fit the subtitle\n",
    "    showlegend=False,\n",
    "    title={\n",
    "        'text': 'Rate of Single-Family Housing Stock Growth Since 2010',  # Corrected title text\n",
    "        'y': 0.95,\n",
    "        'x': 0.5,\n",
    "        'xanchor': 'center',\n",
    "        'yanchor': 'top',\n",
    "        'font': style_config['title_font']\n",
    "    },\n",
    "    xaxis=dict(\n",
    "        title_text='',\n",
    "        tickformat='.2%',\n",
    "        showgrid=style_config['showgrid'],\n",
    "        gridwidth=style_config['gridwidth'],\n",
    "        gridcolor=style_config['grid_color'],\n",
    "        linecolor=style_config['line_color_axis'],\n",
    "        linewidth=style_config['linewidth'],\n",
    "        titlefont=style_config['title_font_axis'],\n",
    "        tickfont=dict(size=style_config['axis_font']['size'], color=style_config['axis_font']['color']),\n",
    "    ),\n",
    "    yaxis=dict(\n",
    "        title_text='% Housing Stock Growth',\n",
    "        showgrid=style_config['showgrid'],\n",
    "        gridwidth=style_config['gridwidth'],\n",
    "        gridcolor=style_config['grid_color'],\n",
    "        tickfont=style_config['axis_font'],\n",
    "        zeroline=False,\n",
    "        tickformat='.1%',\n",
    "        linecolor=style_config['line_color_axis'],\n",
    "        linewidth=style_config['linewidth'],\n",
    "        titlefont=style_config['title_font_axis']\n",
    "    ),\n",
    "    plot_bgcolor=style_config['background_color'],\n",
    "    paper_bgcolor=style_config['background_color'],\n",
    "    font=dict(color=style_config['font_color']),\n",
    "    legend_title_text='',\n",
    "    autosize=False,\n",
    "    width=1600,\n",
    "    height=800,\n",
    "    title_font=dict(size=24),\n",
    "    xaxis_title_font=dict(size=18),\n",
    "    yaxis_title_font=dict(size=18),\n",
    "    legend_title_font=dict(size=14),\n",
    "    legend_font=dict(size=12),\n",
    "    legend=dict(\n",
    "        x=style_config['legend_x'],\n",
    "        y=style_config['legend_y'],\n",
    "        xanchor=style_config['legend_xanchor'],\n",
    "        yanchor=style_config['legend_yanchor'],\n",
    "        font=style_config['legend_font'],\n",
    "        bgcolor='rgba(0, 0, 0, 0)'\n",
    "    ),\n",
    ")\n",
    "\n",
    "# Set the background color to black\n",
    "fig.add_layout_image(create_labs_logo_dict())\n",
    "\n",
    "# Display the chart\n",
    "fig.show()\n"
   ]
  },
  {
   "cell_type": "markdown",
   "metadata": {},
   "source": [
    "As we can see from the chart, mom-and-pop investors own the largest share of the SFR stock in the Milwaukee MSA, at 4.6 percent of all available housing. We can also see that large institutional investors own less than 1 percent of the total inventory in the market. Next, we will examine how this ownership has changed over time. To do this, we will use another endpoint of the Parcl Labs API, specifically the endpoint that tracks acquisitions and dispositions. This will allow us to understand how different investors have behaved across these markets.\n",
    "\n",
    "We will start by retrieving the activities for medium-sized players (10 to 99 units) by setting the `portfolio_size` parameter to `PORTFOLIO_10_TO_99`.\n"
   ]
  },
  {
   "cell_type": "code",
   "execution_count": 8,
   "metadata": {},
   "outputs": [
    {
     "data": {
      "text/html": [
       "<div>\n",
       "<style scoped>\n",
       "    .dataframe tbody tr th:only-of-type {\n",
       "        vertical-align: middle;\n",
       "    }\n",
       "\n",
       "    .dataframe tbody tr th {\n",
       "        vertical-align: top;\n",
       "    }\n",
       "\n",
       "    .dataframe thead th {\n",
       "        text-align: right;\n",
       "    }\n",
       "</style>\n",
       "<table border=\"1\" class=\"dataframe\">\n",
       "  <thead>\n",
       "    <tr style=\"text-align: right;\">\n",
       "      <th></th>\n",
       "      <th>parcl_id</th>\n",
       "      <th>date</th>\n",
       "      <th>acquisitions</th>\n",
       "      <th>dispositions</th>\n",
       "      <th>new_listings_for_sale</th>\n",
       "      <th>new_rental_listings</th>\n",
       "      <th>portfolio_size</th>\n",
       "    </tr>\n",
       "  </thead>\n",
       "  <tbody>\n",
       "    <tr>\n",
       "      <th>0</th>\n",
       "      <td>2900134</td>\n",
       "      <td>2024-07-01</td>\n",
       "      <td>32</td>\n",
       "      <td>20</td>\n",
       "      <td>18</td>\n",
       "      <td>26</td>\n",
       "      <td>PORTFOLIO_10_TO_99</td>\n",
       "    </tr>\n",
       "    <tr>\n",
       "      <th>1</th>\n",
       "      <td>2900134</td>\n",
       "      <td>2024-06-01</td>\n",
       "      <td>29</td>\n",
       "      <td>17</td>\n",
       "      <td>20</td>\n",
       "      <td>25</td>\n",
       "      <td>PORTFOLIO_10_TO_99</td>\n",
       "    </tr>\n",
       "    <tr>\n",
       "      <th>2</th>\n",
       "      <td>2900134</td>\n",
       "      <td>2024-05-01</td>\n",
       "      <td>27</td>\n",
       "      <td>23</td>\n",
       "      <td>23</td>\n",
       "      <td>23</td>\n",
       "      <td>PORTFOLIO_10_TO_99</td>\n",
       "    </tr>\n",
       "    <tr>\n",
       "      <th>3</th>\n",
       "      <td>2900134</td>\n",
       "      <td>2024-04-01</td>\n",
       "      <td>35</td>\n",
       "      <td>18</td>\n",
       "      <td>25</td>\n",
       "      <td>20</td>\n",
       "      <td>PORTFOLIO_10_TO_99</td>\n",
       "    </tr>\n",
       "    <tr>\n",
       "      <th>4</th>\n",
       "      <td>2900134</td>\n",
       "      <td>2024-03-01</td>\n",
       "      <td>32</td>\n",
       "      <td>25</td>\n",
       "      <td>26</td>\n",
       "      <td>18</td>\n",
       "      <td>PORTFOLIO_10_TO_99</td>\n",
       "    </tr>\n",
       "  </tbody>\n",
       "</table>\n",
       "</div>"
      ],
      "text/plain": [
       "  parcl_id       date  acquisitions  dispositions  new_listings_for_sale  \\\n",
       "0  2900134 2024-07-01            32            20                     18   \n",
       "1  2900134 2024-06-01            29            17                     20   \n",
       "2  2900134 2024-05-01            27            23                     23   \n",
       "3  2900134 2024-04-01            35            18                     25   \n",
       "4  2900134 2024-03-01            32            25                     26   \n",
       "\n",
       "   new_rental_listings      portfolio_size  \n",
       "0                   26  PORTFOLIO_10_TO_99  \n",
       "1                   25  PORTFOLIO_10_TO_99  \n",
       "2                   23  PORTFOLIO_10_TO_99  \n",
       "3                   20  PORTFOLIO_10_TO_99  \n",
       "4                   18  PORTFOLIO_10_TO_99  "
      ]
     },
     "execution_count": 8,
     "metadata": {},
     "output_type": "execute_result"
    }
   ],
   "source": [
    "# Define parameters to focus on medium-sized investors with 10 to 99 units\n",
    "large_investor_params = {\n",
    "    'parcl_ids': [2900134],  # Replace with the appropriate Parcl IDs if needed\n",
    "    'start_date': '2024-03-01',  # Set the start date for the data retrieval\n",
    "    'end_date': '2024-07-31',    # Set the end date for the data retrieval\n",
    "    'portfolio_size': 'PORTFOLIO_10_TO_99',  # Specify the portfolio size; use ALL_PORTFOLIOS to get data for all sizes\n",
    "    'limit': 100,  # Limit the number of records retrieved\n",
    "}\n",
    "\n",
    "# Retrieve the data\n",
    "mid_investor_behavior = client.portfolio_metrics.sf_housing_event_counts.retrieve(\n",
    "    **large_investor_params \n",
    ")\n",
    "\n",
    "# Display the first few rows of the retrieved data\n",
    "mid_investor_behavior.head()\n"
   ]
  },
  {
   "cell_type": "markdown",
   "metadata": {},
   "source": [
    "We can also calculate the net balance by looking at acquisitions minus dispositions, meaning the difference between houses sold and houses acquired."
   ]
  },
  {
   "cell_type": "code",
   "execution_count": 9,
   "metadata": {},
   "outputs": [
    {
     "name": "stdout",
     "output_type": "stream",
     "text": [
      "Since March 2024, the net monthly flow of properties for mid size portfolios in Milwaukee MSA has been 10.40 properties per month.\n"
     ]
    }
   ],
   "source": [
    "# We calculate the variable of interest and and calculate how many new observations we are getting on a monthly basis\n",
    "mid_investor_behavior['net_monthly_flow']  = mid_investor_behavior['acquisitions']-mid_investor_behavior['dispositions']\n",
    "\n",
    "# Print the average monthly flow of properties\n",
    "print(f'Since March 2024, the net monthly flow of properties for mid size portfolios in Milwaukee MSA has been {mid_investor_behavior[\"net_monthly_flow\"].mean():.2f} properties per month.')\n"
   ]
  },
  {
   "cell_type": "markdown",
   "metadata": {},
   "source": [
    "We can now look at the distribution of the net monthly flow of properties for large institutional investors, with a very similar approach."
   ]
  },
  {
   "cell_type": "code",
   "execution_count": 10,
   "metadata": {},
   "outputs": [
    {
     "name": "stdout",
     "output_type": "stream",
     "text": [
      "Since March 2024, the net monthly flow of properties for large portfolios in Milwaukee MSA has been -1.80 properties per month.\n"
     ]
    }
   ],
   "source": [
    "# Define parameters to focus on large investors with 1000+ units\n",
    "large_investor_params = {\n",
    "    'parcl_ids': [2900134],  # Replace with the appropriate Parcl IDs if needed\n",
    "    'start_date': '2024-03-01',  # Set the start date for the data retrieval\n",
    "    'end_date': '2024-07-31',    # Set the end date for the data retrieval\n",
    "    'portfolio_size': 'PORTFOLIO_1000_PLUS',  # Specify the portfolio size; use ALL_PORTFOLIOS to get data for all sizes\n",
    "    'limit': 100,  # Limit the number of records retrieved\n",
    "}\n",
    "\n",
    "# Retrieve the data\n",
    "large_investor_behavior = client.portfolio_metrics.sf_housing_event_counts.retrieve(\n",
    "    **large_investor_params \n",
    ")\n",
    "\n",
    "# Calculate the variable of interest: net monthly flow\n",
    "large_investor_behavior['net_monthly_flow'] = large_investor_behavior['acquisitions'] - large_investor_behavior['dispositions']\n",
    "\n",
    "# Print the average net monthly flow of properties\n",
    "print(f'Since March 2024, the net monthly flow of properties for large portfolios in Milwaukee MSA has been {large_investor_behavior[\"net_monthly_flow\"].mean():.2f} properties per month.')\n"
   ]
  },
  {
   "cell_type": "markdown",
   "metadata": {},
   "source": [
    "It seems that dispositions are happening at a faster rate for large operators than for mid-sized ones. This could be due to a variety of factors, such as the need to free up capital for new acquisitions. Let's retrieve information for all portfolio sizes and visualize them side by side."
   ]
  },
  {
   "cell_type": "code",
   "execution_count": 11,
   "metadata": {},
   "outputs": [
    {
     "data": {
      "text/html": [
       "<div>\n",
       "<style scoped>\n",
       "    .dataframe tbody tr th:only-of-type {\n",
       "        vertical-align: middle;\n",
       "    }\n",
       "\n",
       "    .dataframe tbody tr th {\n",
       "        vertical-align: top;\n",
       "    }\n",
       "\n",
       "    .dataframe thead th {\n",
       "        text-align: right;\n",
       "    }\n",
       "</style>\n",
       "<table border=\"1\" class=\"dataframe\">\n",
       "  <thead>\n",
       "    <tr style=\"text-align: right;\">\n",
       "      <th></th>\n",
       "      <th>parcl_id</th>\n",
       "      <th>date</th>\n",
       "      <th>acquisitions</th>\n",
       "      <th>dispositions</th>\n",
       "      <th>new_listings_for_sale</th>\n",
       "      <th>new_rental_listings</th>\n",
       "      <th>portfolio_size</th>\n",
       "      <th>net_monthly_flow</th>\n",
       "    </tr>\n",
       "  </thead>\n",
       "  <tbody>\n",
       "    <tr>\n",
       "      <th>0</th>\n",
       "      <td>2900134</td>\n",
       "      <td>2024-07-01</td>\n",
       "      <td>207</td>\n",
       "      <td>131</td>\n",
       "      <td>136</td>\n",
       "      <td>99</td>\n",
       "      <td>ALL_PORTFOLIOS</td>\n",
       "      <td>76</td>\n",
       "    </tr>\n",
       "    <tr>\n",
       "      <th>1</th>\n",
       "      <td>2900134</td>\n",
       "      <td>2024-06-01</td>\n",
       "      <td>224</td>\n",
       "      <td>144</td>\n",
       "      <td>153</td>\n",
       "      <td>99</td>\n",
       "      <td>ALL_PORTFOLIOS</td>\n",
       "      <td>80</td>\n",
       "    </tr>\n",
       "    <tr>\n",
       "      <th>2</th>\n",
       "      <td>2900134</td>\n",
       "      <td>2024-05-01</td>\n",
       "      <td>217</td>\n",
       "      <td>133</td>\n",
       "      <td>143</td>\n",
       "      <td>96</td>\n",
       "      <td>ALL_PORTFOLIOS</td>\n",
       "      <td>84</td>\n",
       "    </tr>\n",
       "    <tr>\n",
       "      <th>3</th>\n",
       "      <td>2900134</td>\n",
       "      <td>2024-04-01</td>\n",
       "      <td>239</td>\n",
       "      <td>151</td>\n",
       "      <td>148</td>\n",
       "      <td>104</td>\n",
       "      <td>ALL_PORTFOLIOS</td>\n",
       "      <td>88</td>\n",
       "    </tr>\n",
       "    <tr>\n",
       "      <th>4</th>\n",
       "      <td>2900134</td>\n",
       "      <td>2024-03-01</td>\n",
       "      <td>180</td>\n",
       "      <td>108</td>\n",
       "      <td>151</td>\n",
       "      <td>93</td>\n",
       "      <td>ALL_PORTFOLIOS</td>\n",
       "      <td>72</td>\n",
       "    </tr>\n",
       "  </tbody>\n",
       "</table>\n",
       "</div>"
      ],
      "text/plain": [
       "  parcl_id       date  acquisitions  dispositions  new_listings_for_sale  \\\n",
       "0  2900134 2024-07-01           207           131                    136   \n",
       "1  2900134 2024-06-01           224           144                    153   \n",
       "2  2900134 2024-05-01           217           133                    143   \n",
       "3  2900134 2024-04-01           239           151                    148   \n",
       "4  2900134 2024-03-01           180           108                    151   \n",
       "\n",
       "   new_rental_listings  portfolio_size  net_monthly_flow  \n",
       "0                   99  ALL_PORTFOLIOS                76  \n",
       "1                   99  ALL_PORTFOLIOS                80  \n",
       "2                   96  ALL_PORTFOLIOS                84  \n",
       "3                  104  ALL_PORTFOLIOS                88  \n",
       "4                   93  ALL_PORTFOLIOS                72  "
      ]
     },
     "execution_count": 11,
     "metadata": {},
     "output_type": "execute_result"
    }
   ],
   "source": [
    "# Define parameters to retrieve data for all portfolio sizes\n",
    "all_investor_params = {\n",
    "    'parcl_ids': [2900134],  # Replace with the appropriate Parcl IDs if needed\n",
    "    'start_date': '2024-03-01',  # Set the start date for the data retrieval\n",
    "    'end_date': '2024-07-31',    # Set the end date for the data retrieval\n",
    "    'portfolio_size': 'ALL_PORTFOLIOS',  # Retrieve data for all portfolio sizes\n",
    "    'limit': 100,  # Limit the number of records retrieved\n",
    "}\n",
    "\n",
    "# Retrieve the data\n",
    "all_investor_behavior = client.portfolio_metrics.sf_housing_event_counts.retrieve(\n",
    "    **all_investor_params \n",
    ")\n",
    "\n",
    "# Calculate the variable of interest: net monthly flow\n",
    "all_investor_behavior['net_monthly_flow'] = all_investor_behavior['acquisitions'] - all_investor_behavior['dispositions']\n",
    "\n",
    "# Display the first few rows of the retrieved data\n",
    "all_investor_behavior.head()\n"
   ]
  },
  {
   "cell_type": "markdown",
   "metadata": {},
   "source": [
    "Now that we have seen how the data looks, we can plot the net monthly flow of properties for all portfolios and compare it with large entities (1000+ properties) and mid-sized entities (10-99 properties). To do this, we need to concatenate the dataframes and plot them."
   ]
  },
  {
   "cell_type": "code",
   "execution_count": 12,
   "metadata": {},
   "outputs": [
    {
     "data": {
      "image/png": "[encoded data removed]",
      "text/plain": [
       "<Figure size 1000x600 with 1 Axes>"
      ]
     },
     "metadata": {},
     "output_type": "display_data"
    }
   ],
   "source": [
    "# Concatenate the dataframes for large, mid-sized, and all investors\n",
    "all_investor_data = pd.concat([large_investor_behavior, mid_investor_behavior, all_investor_behavior])\n",
    "\n",
    "# Convert 'date' to datetime format for accurate plotting and sort the data\n",
    "all_investor_data['date'] = pd.to_datetime(all_investor_data['date']).dt.strftime('%Y-%m')\n",
    "all_investor_data.sort_values(by=['portfolio_size','date'], inplace=True)\n",
    "\n",
    "# Set the background and line colors to match the previous plot\n",
    "fig, ax = plt.subplots(figsize=(10, 6))\n",
    "fig.patch.set_facecolor('black')\n",
    "ax.set_facecolor('black')\n",
    "\n",
    "# Define colors for the line plot\n",
    "colors_line = ['#00adff', '#FFFFFF', '#419dfa']\n",
    "categories = all_investor_data['portfolio_size'].unique()\n",
    "\n",
    "# Plot the line chart for each portfolio size\n",
    "for index, value in enumerate(categories):\n",
    "    portfolio_data = all_investor_data[all_investor_data['portfolio_size'] == value]\n",
    "    ax.plot(portfolio_data['date'], portfolio_data['net_monthly_flow'], label=value, \n",
    "            color=colors_line[index], linewidth=1.25, alpha=0.7, zorder=3)\n",
    "\n",
    "# Customize the spines: remove all but the bottom x-axis spine\n",
    "ax.spines['top'].set_visible(False)\n",
    "ax.spines['right'].set_visible(False)\n",
    "ax.spines['left'].set_visible(False)\n",
    "ax.spines['bottom'].set_position(('outward', 5))\n",
    "ax.spines['bottom'].set_color('white')\n",
    "\n",
    "# Label the axes with bold white text\n",
    "ax.set_xlabel('Date', color='white', fontweight='bold')\n",
    "ax.set_ylabel('Net Monthly Flow', color='white', fontweight='bold')\n",
    "\n",
    "# Add gridlines\n",
    "ax.grid(axis='x', color='white', linestyle='--', linewidth=0.75, alpha=0.35, zorder=1)  \n",
    "ax.grid(axis='y', color='white', linestyle='--', linewidth=0.75, alpha=0.35, zorder=1)  \n",
    "\n",
    "# Format the x-axis dates\n",
    "ax.tick_params(axis='x', colors='white')\n",
    "ax.tick_params(axis='y', colors='white')\n",
    "\n",
    "# Set the title with white text\n",
    "ax.set_title('Net Monthly Flow of SFH by Portfolio Size', color='white')\n",
    "\n",
    "# Add a legend with white text; position it in the top left corner with 3 columns\n",
    "legend = ax.legend(facecolor='black', frameon=False, framealpha=1, loc='upper left', ncol=3)\n",
    "for text in legend.get_texts():\n",
    "    text.set_color('white')\n",
    "\n",
    "# Set the y-axis limit\n",
    "ax.set_ylim(all_investor_data['net_monthly_flow'].min(), all_investor_data['net_monthly_flow'].max() * 1.2)\n",
    "\n",
    "# Set the font family for the plot\n",
    "plt.rcParams['font.family'] = 'Arial'\n",
    "\n",
    "\n",
    "# Save the plot as a PNG file\n",
    "#plt.savefig('downloads/acquisitions_vs_dispositions_various_pf_Milwaukee.png', dpi=400, bbox_inches='tight')\n",
    "\n",
    "# Show the plot\n",
    "plt.show()"
   ]
  },
  {
   "cell_type": "markdown",
   "metadata": {},
   "source": [
    "The behavior for large portfolios indicates that there is not a lot of activity happening at the moment, as they hover around 0 net acquisitions. On the other hand, mid-sized portfolios have been acquiring properties at a steady pace since March 2024. The overall trend for all portfolios is positive, with a slight increase in acquisitions over the last few months. We can take an even deeper look at the trends by visualizing the acquisition and disposition trends of large portfolios over time.\n"
   ]
  },
  {
   "cell_type": "code",
   "execution_count": 13,
   "metadata": {},
   "outputs": [
    {
     "data": {
      "application/vnd.plotly.v1+json": {
       "config": {
        "plotlyServerURL": "https://plot.ly"
       },
       "data": [
        {
         "line": {
          "color": "#2ca02c",
          "width": 3
         },
         "marker": {
          "color": "#2ca02c",
          "line": {
           "color": "#ffffff",
           "width": 1
          },
          "size": 8
         },
         "mode": "lines+markers",
         "name": "Acquisitions",
         "type": "scatter",
         "x": [
          "2024-03-01T00:00:00",
          "2024-04-01T00:00:00",
          "2024-05-01T00:00:00",
          "2024-06-01T00:00:00",
          "2024-07-01T00:00:00"
         ],
         "y": [
          0,
          5,
          2,
          0,
          3
         ]
        },
        {
         "marker": {
          "color": "#1f77b4",
          "opacity": 0.8
         },
         "name": "dispositions",
         "type": "bar",
         "x": [
          "2024-03-01T00:00:00",
          "2024-04-01T00:00:00",
          "2024-05-01T00:00:00",
          "2024-06-01T00:00:00",
          "2024-07-01T00:00:00"
         ],
         "y": [
          13,
          2,
          1,
          1,
          2
         ],
         "yaxis": "y2"
        }
       ],
       "layout": {
        "barmode": "group",
        "font": {
         "color": "#ffffff"
        },
        "height": 675,
        "hoverlabel": {
         "bgcolor": "#2f2f2f",
         "font": {
          "color": "#ffffff",
          "family": "Arial",
          "size": 12
         }
        },
        "hovermode": "x unified",
        "images": [
         {
          "sizex": 0.15,
          "sizey": 0.15,
          "source": "https://parcllabs-assets.s3.amazonaws.com/powered-by-parcllabs-api-logo-white+(1).svg",
          "x": 1,
          "xanchor": "right",
          "xref": "paper",
          "y": 0,
          "yanchor": "bottom",
          "yref": "paper"
         }
        ],
        "legend": {
         "bgcolor": "rgba(0, 0, 0, 0)",
         "font": {
          "color": "#ffffff",
          "family": "Arial",
          "size": 12
         },
         "x": 0.01,
         "xanchor": "left",
         "y": 0.98,
         "yanchor": "top"
        },
        "margin": {
         "b": 40,
         "l": 40,
         "r": 40,
         "t": 80
        },
        "paper_bgcolor": "#1e1e1e",
        "plot_bgcolor": "#1e1e1e",
        "template": {
         "data": {
          "bar": [
           {
            "error_x": {
             "color": "#2a3f5f"
            },
            "error_y": {
             "color": "#2a3f5f"
            },
            "marker": {
             "line": {
              "color": "#E5ECF6",
              "width": 0.5
             },
             "pattern": {
              "fillmode": "overlay",
              "size": 10,
              "solidity": 0.2
             }
            },
            "type": "bar"
           }
          ],
          "barpolar": [
           {
            "marker": {
             "line": {
              "color": "#E5ECF6",
              "width": 0.5
             },
             "pattern": {
              "fillmode": "overlay",
              "size": 10,
              "solidity": 0.2
             }
            },
            "type": "barpolar"
           }
          ],
          "carpet": [
           {
            "aaxis": {
             "endlinecolor": "#2a3f5f",
             "gridcolor": "white",
             "linecolor": "white",
             "minorgridcolor": "white",
             "startlinecolor": "#2a3f5f"
            },
            "baxis": {
             "endlinecolor": "#2a3f5f",
             "gridcolor": "white",
             "linecolor": "white",
             "minorgridcolor": "white",
             "startlinecolor": "#2a3f5f"
            },
            "type": "carpet"
           }
          ],
          "choropleth": [
           {
            "colorbar": {
             "outlinewidth": 0,
             "ticks": ""
            },
            "type": "choropleth"
           }
          ],
          "contour": [
           {
            "colorbar": {
             "outlinewidth": 0,
             "ticks": ""
            },
            "colorscale": [
             [
              0,
              "#0d0887"
             ],
             [
              0.1111111111111111,
              "#46039f"
             ],
             [
              0.2222222222222222,
              "#7201a8"
             ],
             [
              0.3333333333333333,
              "#9c179e"
             ],
             [
              0.4444444444444444,
              "#bd3786"
             ],
             [
              0.5555555555555556,
              "#d8576b"
             ],
             [
              0.6666666666666666,
              "#ed7953"
             ],
             [
              0.7777777777777778,
              "#fb9f3a"
             ],
             [
              0.8888888888888888,
              "#fdca26"
             ],
             [
              1,
              "#f0f921"
             ]
            ],
            "type": "contour"
           }
          ],
          "contourcarpet": [
           {
            "colorbar": {
             "outlinewidth": 0,
             "ticks": ""
            },
            "type": "contourcarpet"
           }
          ],
          "heatmap": [
           {
            "colorbar": {
             "outlinewidth": 0,
             "ticks": ""
            },
            "colorscale": [
             [
              0,
              "#0d0887"
             ],
             [
              0.1111111111111111,
              "#46039f"
             ],
             [
              0.2222222222222222,
              "#7201a8"
             ],
             [
              0.3333333333333333,
              "#9c179e"
             ],
             [
              0.4444444444444444,
              "#bd3786"
             ],
             [
              0.5555555555555556,
              "#d8576b"
             ],
             [
              0.6666666666666666,
              "#ed7953"
             ],
             [
              0.7777777777777778,
              "#fb9f3a"
             ],
             [
              0.8888888888888888,
              "#fdca26"
             ],
             [
              1,
              "#f0f921"
             ]
            ],
            "type": "heatmap"
           }
          ],
          "heatmapgl": [
           {
            "colorbar": {
             "outlinewidth": 0,
             "ticks": ""
            },
            "colorscale": [
             [
              0,
              "#0d0887"
             ],
             [
              0.1111111111111111,
              "#46039f"
             ],
             [
              0.2222222222222222,
              "#7201a8"
             ],
             [
              0.3333333333333333,
              "#9c179e"
             ],
             [
              0.4444444444444444,
              "#bd3786"
             ],
             [
              0.5555555555555556,
              "#d8576b"
             ],
             [
              0.6666666666666666,
              "#ed7953"
             ],
             [
              0.7777777777777778,
              "#fb9f3a"
             ],
             [
              0.8888888888888888,
              "#fdca26"
             ],
             [
              1,
              "#f0f921"
             ]
            ],
            "type": "heatmapgl"
           }
          ],
          "histogram": [
           {
            "marker": {
             "pattern": {
              "fillmode": "overlay",
              "size": 10,
              "solidity": 0.2
             }
            },
            "type": "histogram"
           }
          ],
          "histogram2d": [
           {
            "colorbar": {
             "outlinewidth": 0,
             "ticks": ""
            },
            "colorscale": [
             [
              0,
              "#0d0887"
             ],
             [
              0.1111111111111111,
              "#46039f"
             ],
             [
              0.2222222222222222,
              "#7201a8"
             ],
             [
              0.3333333333333333,
              "#9c179e"
             ],
             [
              0.4444444444444444,
              "#bd3786"
             ],
             [
              0.5555555555555556,
              "#d8576b"
             ],
             [
              0.6666666666666666,
              "#ed7953"
             ],
             [
              0.7777777777777778,
              "#fb9f3a"
             ],
             [
              0.8888888888888888,
              "#fdca26"
             ],
             [
              1,
              "#f0f921"
             ]
            ],
            "type": "histogram2d"
           }
          ],
          "histogram2dcontour": [
           {
            "colorbar": {
             "outlinewidth": 0,
             "ticks": ""
            },
            "colorscale": [
             [
              0,
              "#0d0887"
             ],
             [
              0.1111111111111111,
              "#46039f"
             ],
             [
              0.2222222222222222,
              "#7201a8"
             ],
             [
              0.3333333333333333,
              "#9c179e"
             ],
             [
              0.4444444444444444,
              "#bd3786"
             ],
             [
              0.5555555555555556,
              "#d8576b"
             ],
             [
              0.6666666666666666,
              "#ed7953"
             ],
             [
              0.7777777777777778,
              "#fb9f3a"
             ],
             [
              0.8888888888888888,
              "#fdca26"
             ],
             [
              1,
              "#f0f921"
             ]
            ],
            "type": "histogram2dcontour"
           }
          ],
          "mesh3d": [
           {
            "colorbar": {
             "outlinewidth": 0,
             "ticks": ""
            },
            "type": "mesh3d"
           }
          ],
          "parcoords": [
           {
            "line": {
             "colorbar": {
              "outlinewidth": 0,
              "ticks": ""
             }
            },
            "type": "parcoords"
           }
          ],
          "pie": [
           {
            "automargin": true,
            "type": "pie"
           }
          ],
          "scatter": [
           {
            "fillpattern": {
             "fillmode": "overlay",
             "size": 10,
             "solidity": 0.2
            },
            "type": "scatter"
           }
          ],
          "scatter3d": [
           {
            "line": {
             "colorbar": {
              "outlinewidth": 0,
              "ticks": ""
             }
            },
            "marker": {
             "colorbar": {
              "outlinewidth": 0,
              "ticks": ""
             }
            },
            "type": "scatter3d"
           }
          ],
          "scattercarpet": [
           {
            "marker": {
             "colorbar": {
              "outlinewidth": 0,
              "ticks": ""
             }
            },
            "type": "scattercarpet"
           }
          ],
          "scattergeo": [
           {
            "marker": {
             "colorbar": {
              "outlinewidth": 0,
              "ticks": ""
             }
            },
            "type": "scattergeo"
           }
          ],
          "scattergl": [
           {
            "marker": {
             "colorbar": {
              "outlinewidth": 0,
              "ticks": ""
             }
            },
            "type": "scattergl"
           }
          ],
          "scattermapbox": [
           {
            "marker": {
             "colorbar": {
              "outlinewidth": 0,
              "ticks": ""
             }
            },
            "type": "scattermapbox"
           }
          ],
          "scatterpolar": [
           {
            "marker": {
             "colorbar": {
              "outlinewidth": 0,
              "ticks": ""
             }
            },
            "type": "scatterpolar"
           }
          ],
          "scatterpolargl": [
           {
            "marker": {
             "colorbar": {
              "outlinewidth": 0,
              "ticks": ""
             }
            },
            "type": "scatterpolargl"
           }
          ],
          "scatterternary": [
           {
            "marker": {
             "colorbar": {
              "outlinewidth": 0,
              "ticks": ""
             }
            },
            "type": "scatterternary"
           }
          ],
          "surface": [
           {
            "colorbar": {
             "outlinewidth": 0,
             "ticks": ""
            },
            "colorscale": [
             [
              0,
              "#0d0887"
             ],
             [
              0.1111111111111111,
              "#46039f"
             ],
             [
              0.2222222222222222,
              "#7201a8"
             ],
             [
              0.3333333333333333,
              "#9c179e"
             ],
             [
              0.4444444444444444,
              "#bd3786"
             ],
             [
              0.5555555555555556,
              "#d8576b"
             ],
             [
              0.6666666666666666,
              "#ed7953"
             ],
             [
              0.7777777777777778,
              "#fb9f3a"
             ],
             [
              0.8888888888888888,
              "#fdca26"
             ],
             [
              1,
              "#f0f921"
             ]
            ],
            "type": "surface"
           }
          ],
          "table": [
           {
            "cells": {
             "fill": {
              "color": "#EBF0F8"
             },
             "line": {
              "color": "white"
             }
            },
            "header": {
             "fill": {
              "color": "#C8D4E3"
             },
             "line": {
              "color": "white"
             }
            },
            "type": "table"
           }
          ]
         },
         "layout": {
          "annotationdefaults": {
           "arrowcolor": "#2a3f5f",
           "arrowhead": 0,
           "arrowwidth": 1
          },
          "autotypenumbers": "strict",
          "coloraxis": {
           "colorbar": {
            "outlinewidth": 0,
            "ticks": ""
           }
          },
          "colorscale": {
           "diverging": [
            [
             0,
             "#8e0152"
            ],
            [
             0.1,
             "#c51b7d"
            ],
            [
             0.2,
             "#de77ae"
            ],
            [
             0.3,
             "#f1b6da"
            ],
            [
             0.4,
             "#fde0ef"
            ],
            [
             0.5,
             "#f7f7f7"
            ],
            [
             0.6,
             "#e6f5d0"
            ],
            [
             0.7,
             "#b8e186"
            ],
            [
             0.8,
             "#7fbc41"
            ],
            [
             0.9,
             "#4d9221"
            ],
            [
             1,
             "#276419"
            ]
           ],
           "sequential": [
            [
             0,
             "#0d0887"
            ],
            [
             0.1111111111111111,
             "#46039f"
            ],
            [
             0.2222222222222222,
             "#7201a8"
            ],
            [
             0.3333333333333333,
             "#9c179e"
            ],
            [
             0.4444444444444444,
             "#bd3786"
            ],
            [
             0.5555555555555556,
             "#d8576b"
            ],
            [
             0.6666666666666666,
             "#ed7953"
            ],
            [
             0.7777777777777778,
             "#fb9f3a"
            ],
            [
             0.8888888888888888,
             "#fdca26"
            ],
            [
             1,
             "#f0f921"
            ]
           ],
           "sequentialminus": [
            [
             0,
             "#0d0887"
            ],
            [
             0.1111111111111111,
             "#46039f"
            ],
            [
             0.2222222222222222,
             "#7201a8"
            ],
            [
             0.3333333333333333,
             "#9c179e"
            ],
            [
             0.4444444444444444,
             "#bd3786"
            ],
            [
             0.5555555555555556,
             "#d8576b"
            ],
            [
             0.6666666666666666,
             "#ed7953"
            ],
            [
             0.7777777777777778,
             "#fb9f3a"
            ],
            [
             0.8888888888888888,
             "#fdca26"
            ],
            [
             1,
             "#f0f921"
            ]
           ]
          },
          "colorway": [
           "#636efa",
           "#EF553B",
           "#00cc96",
           "#ab63fa",
           "#FFA15A",
           "#19d3f3",
           "#FF6692",
           "#B6E880",
           "#FF97FF",
           "#FECB52"
          ],
          "font": {
           "color": "#2a3f5f"
          },
          "geo": {
           "bgcolor": "white",
           "lakecolor": "white",
           "landcolor": "#E5ECF6",
           "showlakes": true,
           "showland": true,
           "subunitcolor": "white"
          },
          "hoverlabel": {
           "align": "left"
          },
          "hovermode": "closest",
          "mapbox": {
           "style": "light"
          },
          "paper_bgcolor": "white",
          "plot_bgcolor": "#E5ECF6",
          "polar": {
           "angularaxis": {
            "gridcolor": "white",
            "linecolor": "white",
            "ticks": ""
           },
           "bgcolor": "#E5ECF6",
           "radialaxis": {
            "gridcolor": "white",
            "linecolor": "white",
            "ticks": ""
           }
          },
          "scene": {
           "xaxis": {
            "backgroundcolor": "#E5ECF6",
            "gridcolor": "white",
            "gridwidth": 2,
            "linecolor": "white",
            "showbackground": true,
            "ticks": "",
            "zerolinecolor": "white"
           },
           "yaxis": {
            "backgroundcolor": "#E5ECF6",
            "gridcolor": "white",
            "gridwidth": 2,
            "linecolor": "white",
            "showbackground": true,
            "ticks": "",
            "zerolinecolor": "white"
           },
           "zaxis": {
            "backgroundcolor": "#E5ECF6",
            "gridcolor": "white",
            "gridwidth": 2,
            "linecolor": "white",
            "showbackground": true,
            "ticks": "",
            "zerolinecolor": "white"
           }
          },
          "shapedefaults": {
           "line": {
            "color": "#2a3f5f"
           }
          },
          "ternary": {
           "aaxis": {
            "gridcolor": "white",
            "linecolor": "white",
            "ticks": ""
           },
           "baxis": {
            "gridcolor": "white",
            "linecolor": "white",
            "ticks": ""
           },
           "bgcolor": "#E5ECF6",
           "caxis": {
            "gridcolor": "white",
            "linecolor": "white",
            "ticks": ""
           }
          },
          "title": {
           "x": 0.05
          },
          "xaxis": {
           "automargin": true,
           "gridcolor": "white",
           "linecolor": "white",
           "ticks": "",
           "title": {
            "standoff": 15
           },
           "zerolinecolor": "white",
           "zerolinewidth": 2
          },
          "yaxis": {
           "automargin": true,
           "gridcolor": "white",
           "linecolor": "white",
           "ticks": "",
           "title": {
            "standoff": 15
           },
           "zerolinecolor": "white",
           "zerolinewidth": 2
          }
         }
        },
        "title": {
         "font": {
          "color": "#ffffff",
          "family": "Arial Black",
          "size": 24
         },
         "text": "Acquisitions vs Dispositions for Large Portfolios (1000+) in Milwaukee MSA",
         "x": 0.5,
         "xanchor": "center",
         "y": 0.95,
         "yanchor": "top"
        },
        "width": 1200,
        "xaxis": {
         "gridcolor": "rgba(255, 255, 255, 0.2)",
         "gridwidth": 0.5,
         "linecolor": "rgba(255, 255, 255, 0.7)",
         "linewidth": 1,
         "showgrid": true,
         "tickangle": -45,
         "tickfont": {
          "color": "#ffffff",
          "family": "Arial",
          "size": 12
         },
         "title": {
          "font": {
           "color": "#ffffff",
           "family": "Arial Black",
           "size": 14
          },
          "text": ""
         }
        },
        "yaxis": {
         "gridcolor": "rgba(255, 255, 255, 0.2)",
         "gridwidth": 0.5,
         "linecolor": "rgba(255, 255, 255, 0.7)",
         "linewidth": 1,
         "showgrid": true,
         "tickfont": {
          "color": "#ffffff",
          "family": "Arial",
          "size": 12
         },
         "tickprefix": "",
         "title": {
          "font": {
           "color": "#ffffff",
           "family": "Arial Black",
           "size": 14
          },
          "text": "Acquisitions"
         },
         "zeroline": false
        },
        "yaxis2": {
         "gridwidth": 0.5,
         "linecolor": "rgba(255, 255, 255, 0.7)",
         "linewidth": 1,
         "overlaying": "y",
         "showgrid": false,
         "side": "right",
         "tickfont": {
          "color": "#ffffff",
          "family": "Arial",
          "size": 12
         },
         "ticksuffix": " units",
         "title": {
          "font": {
           "color": "#ffffff",
           "family": "Arial Black",
           "size": 14
          },
          "text": "Dispositions"
         },
         "zeroline": false
        }
       }
      }
     },
     "metadata": {},
     "output_type": "display_data"
    }
   ],
   "source": [
    "# Change the units of the chart to not display as percentages\n",
    "style_config['tick_prefix'] = ''\n",
    "\n",
    "# Create a dual-axis chart to compare acquisitions and dispositions for large portfolios\n",
    "create_dual_axis_chart(\n",
    "    title='Acquisitions vs Dispositions for Large Portfolios (1000+) in Milwaukee MSA',\n",
    "    line_data=large_investor_behavior,\n",
    "    bar1_data=large_investor_behavior,\n",
    "    line_series='acquisitions',\n",
    "    bar1_series='dispositions',\n",
    "    yaxis1_title='Acquisitions',\n",
    "    yaxis2_title='Dispositions',  \n",
    "    height=SIZE_CONFIG['x']['height'],\n",
    "    width=SIZE_CONFIG['x']['width'],\n",
    "    style_config=style_config,\n",
    "    # save_path='tampa_market_price_drops.png' # Uncomment to save the figure\n",
    ")\n"
   ]
  },
  {
   "cell_type": "markdown",
   "metadata": {},
   "source": [
    "We can do the same for mid size portoflios (`10 to 99 units`)"
   ]
  },
  {
   "cell_type": "code",
   "execution_count": 14,
   "metadata": {},
   "outputs": [
    {
     "data": {
      "application/vnd.plotly.v1+json": {
       "config": {
        "plotlyServerURL": "https://plot.ly"
       },
       "data": [
        {
         "line": {
          "color": "#2ca02c",
          "width": 3
         },
         "marker": {
          "color": "#2ca02c",
          "line": {
           "color": "#ffffff",
           "width": 1
          },
          "size": 8
         },
         "mode": "lines+markers",
         "name": "Acquisitions",
         "type": "scatter",
         "x": [
          "2024-03-01T00:00:00",
          "2024-04-01T00:00:00",
          "2024-05-01T00:00:00",
          "2024-06-01T00:00:00",
          "2024-07-01T00:00:00"
         ],
         "y": [
          32,
          35,
          27,
          29,
          32
         ]
        },
        {
         "marker": {
          "color": "#1f77b4",
          "opacity": 0.8
         },
         "name": "dispositions",
         "type": "bar",
         "x": [
          "2024-03-01T00:00:00",
          "2024-04-01T00:00:00",
          "2024-05-01T00:00:00",
          "2024-06-01T00:00:00",
          "2024-07-01T00:00:00"
         ],
         "y": [
          25,
          18,
          23,
          17,
          20
         ],
         "yaxis": "y2"
        }
       ],
       "layout": {
        "barmode": "group",
        "font": {
         "color": "#ffffff"
        },
        "height": 675,
        "hoverlabel": {
         "bgcolor": "#2f2f2f",
         "font": {
          "color": "#ffffff",
          "family": "Arial",
          "size": 12
         }
        },
        "hovermode": "x unified",
        "images": [
         {
          "sizex": 0.15,
          "sizey": 0.15,
          "source": "https://parcllabs-assets.s3.amazonaws.com/powered-by-parcllabs-api-logo-white+(1).svg",
          "x": 1,
          "xanchor": "right",
          "xref": "paper",
          "y": 0,
          "yanchor": "bottom",
          "yref": "paper"
         }
        ],
        "legend": {
         "bgcolor": "rgba(0, 0, 0, 0)",
         "font": {
          "color": "#ffffff",
          "family": "Arial",
          "size": 12
         },
         "x": 0.01,
         "xanchor": "left",
         "y": 0.98,
         "yanchor": "top"
        },
        "margin": {
         "b": 40,
         "l": 40,
         "r": 40,
         "t": 80
        },
        "paper_bgcolor": "#1e1e1e",
        "plot_bgcolor": "#1e1e1e",
        "template": {
         "data": {
          "bar": [
           {
            "error_x": {
             "color": "#2a3f5f"
            },
            "error_y": {
             "color": "#2a3f5f"
            },
            "marker": {
             "line": {
              "color": "#E5ECF6",
              "width": 0.5
             },
             "pattern": {
              "fillmode": "overlay",
              "size": 10,
              "solidity": 0.2
             }
            },
            "type": "bar"
           }
          ],
          "barpolar": [
           {
            "marker": {
             "line": {
              "color": "#E5ECF6",
              "width": 0.5
             },
             "pattern": {
              "fillmode": "overlay",
              "size": 10,
              "solidity": 0.2
             }
            },
            "type": "barpolar"
           }
          ],
          "carpet": [
           {
            "aaxis": {
             "endlinecolor": "#2a3f5f",
             "gridcolor": "white",
             "linecolor": "white",
             "minorgridcolor": "white",
             "startlinecolor": "#2a3f5f"
            },
            "baxis": {
             "endlinecolor": "#2a3f5f",
             "gridcolor": "white",
             "linecolor": "white",
             "minorgridcolor": "white",
             "startlinecolor": "#2a3f5f"
            },
            "type": "carpet"
           }
          ],
          "choropleth": [
           {
            "colorbar": {
             "outlinewidth": 0,
             "ticks": ""
            },
            "type": "choropleth"
           }
          ],
          "contour": [
           {
            "colorbar": {
             "outlinewidth": 0,
             "ticks": ""
            },
            "colorscale": [
             [
              0,
              "#0d0887"
             ],
             [
              0.1111111111111111,
              "#46039f"
             ],
             [
              0.2222222222222222,
              "#7201a8"
             ],
             [
              0.3333333333333333,
              "#9c179e"
             ],
             [
              0.4444444444444444,
              "#bd3786"
             ],
             [
              0.5555555555555556,
              "#d8576b"
             ],
             [
              0.6666666666666666,
              "#ed7953"
             ],
             [
              0.7777777777777778,
              "#fb9f3a"
             ],
             [
              0.8888888888888888,
              "#fdca26"
             ],
             [
              1,
              "#f0f921"
             ]
            ],
            "type": "contour"
           }
          ],
          "contourcarpet": [
           {
            "colorbar": {
             "outlinewidth": 0,
             "ticks": ""
            },
            "type": "contourcarpet"
           }
          ],
          "heatmap": [
           {
            "colorbar": {
             "outlinewidth": 0,
             "ticks": ""
            },
            "colorscale": [
             [
              0,
              "#0d0887"
             ],
             [
              0.1111111111111111,
              "#46039f"
             ],
             [
              0.2222222222222222,
              "#7201a8"
             ],
             [
              0.3333333333333333,
              "#9c179e"
             ],
             [
              0.4444444444444444,
              "#bd3786"
             ],
             [
              0.5555555555555556,
              "#d8576b"
             ],
             [
              0.6666666666666666,
              "#ed7953"
             ],
             [
              0.7777777777777778,
              "#fb9f3a"
             ],
             [
              0.8888888888888888,
              "#fdca26"
             ],
             [
              1,
              "#f0f921"
             ]
            ],
            "type": "heatmap"
           }
          ],
          "heatmapgl": [
           {
            "colorbar": {
             "outlinewidth": 0,
             "ticks": ""
            },
            "colorscale": [
             [
              0,
              "#0d0887"
             ],
             [
              0.1111111111111111,
              "#46039f"
             ],
             [
              0.2222222222222222,
              "#7201a8"
             ],
             [
              0.3333333333333333,
              "#9c179e"
             ],
             [
              0.4444444444444444,
              "#bd3786"
             ],
             [
              0.5555555555555556,
              "#d8576b"
             ],
             [
              0.6666666666666666,
              "#ed7953"
             ],
             [
              0.7777777777777778,
              "#fb9f3a"
             ],
             [
              0.8888888888888888,
              "#fdca26"
             ],
             [
              1,
              "#f0f921"
             ]
            ],
            "type": "heatmapgl"
           }
          ],
          "histogram": [
           {
            "marker": {
             "pattern": {
              "fillmode": "overlay",
              "size": 10,
              "solidity": 0.2
             }
            },
            "type": "histogram"
           }
          ],
          "histogram2d": [
           {
            "colorbar": {
             "outlinewidth": 0,
             "ticks": ""
            },
            "colorscale": [
             [
              0,
              "#0d0887"
             ],
             [
              0.1111111111111111,
              "#46039f"
             ],
             [
              0.2222222222222222,
              "#7201a8"
             ],
             [
              0.3333333333333333,
              "#9c179e"
             ],
             [
              0.4444444444444444,
              "#bd3786"
             ],
             [
              0.5555555555555556,
              "#d8576b"
             ],
             [
              0.6666666666666666,
              "#ed7953"
             ],
             [
              0.7777777777777778,
              "#fb9f3a"
             ],
             [
              0.8888888888888888,
              "#fdca26"
             ],
             [
              1,
              "#f0f921"
             ]
            ],
            "type": "histogram2d"
           }
          ],
          "histogram2dcontour": [
           {
            "colorbar": {
             "outlinewidth": 0,
             "ticks": ""
            },
            "colorscale": [
             [
              0,
              "#0d0887"
             ],
             [
              0.1111111111111111,
              "#46039f"
             ],
             [
              0.2222222222222222,
              "#7201a8"
             ],
             [
              0.3333333333333333,
              "#9c179e"
             ],
             [
              0.4444444444444444,
              "#bd3786"
             ],
             [
              0.5555555555555556,
              "#d8576b"
             ],
             [
              0.6666666666666666,
              "#ed7953"
             ],
             [
              0.7777777777777778,
              "#fb9f3a"
             ],
             [
              0.8888888888888888,
              "#fdca26"
             ],
             [
              1,
              "#f0f921"
             ]
            ],
            "type": "histogram2dcontour"
           }
          ],
          "mesh3d": [
           {
            "colorbar": {
             "outlinewidth": 0,
             "ticks": ""
            },
            "type": "mesh3d"
           }
          ],
          "parcoords": [
           {
            "line": {
             "colorbar": {
              "outlinewidth": 0,
              "ticks": ""
             }
            },
            "type": "parcoords"
           }
          ],
          "pie": [
           {
            "automargin": true,
            "type": "pie"
           }
          ],
          "scatter": [
           {
            "fillpattern": {
             "fillmode": "overlay",
             "size": 10,
             "solidity": 0.2
            },
            "type": "scatter"
           }
          ],
          "scatter3d": [
           {
            "line": {
             "colorbar": {
              "outlinewidth": 0,
              "ticks": ""
             }
            },
            "marker": {
             "colorbar": {
              "outlinewidth": 0,
              "ticks": ""
             }
            },
            "type": "scatter3d"
           }
          ],
          "scattercarpet": [
           {
            "marker": {
             "colorbar": {
              "outlinewidth": 0,
              "ticks": ""
             }
            },
            "type": "scattercarpet"
           }
          ],
          "scattergeo": [
           {
            "marker": {
             "colorbar": {
              "outlinewidth": 0,
              "ticks": ""
             }
            },
            "type": "scattergeo"
           }
          ],
          "scattergl": [
           {
            "marker": {
             "colorbar": {
              "outlinewidth": 0,
              "ticks": ""
             }
            },
            "type": "scattergl"
           }
          ],
          "scattermapbox": [
           {
            "marker": {
             "colorbar": {
              "outlinewidth": 0,
              "ticks": ""
             }
            },
            "type": "scattermapbox"
           }
          ],
          "scatterpolar": [
           {
            "marker": {
             "colorbar": {
              "outlinewidth": 0,
              "ticks": ""
             }
            },
            "type": "scatterpolar"
           }
          ],
          "scatterpolargl": [
           {
            "marker": {
             "colorbar": {
              "outlinewidth": 0,
              "ticks": ""
             }
            },
            "type": "scatterpolargl"
           }
          ],
          "scatterternary": [
           {
            "marker": {
             "colorbar": {
              "outlinewidth": 0,
              "ticks": ""
             }
            },
            "type": "scatterternary"
           }
          ],
          "surface": [
           {
            "colorbar": {
             "outlinewidth": 0,
             "ticks": ""
            },
            "colorscale": [
             [
              0,
              "#0d0887"
             ],
             [
              0.1111111111111111,
              "#46039f"
             ],
             [
              0.2222222222222222,
              "#7201a8"
             ],
             [
              0.3333333333333333,
              "#9c179e"
             ],
             [
              0.4444444444444444,
              "#bd3786"
             ],
             [
              0.5555555555555556,
              "#d8576b"
             ],
             [
              0.6666666666666666,
              "#ed7953"
             ],
             [
              0.7777777777777778,
              "#fb9f3a"
             ],
             [
              0.8888888888888888,
              "#fdca26"
             ],
             [
              1,
              "#f0f921"
             ]
            ],
            "type": "surface"
           }
          ],
          "table": [
           {
            "cells": {
             "fill": {
              "color": "#EBF0F8"
             },
             "line": {
              "color": "white"
             }
            },
            "header": {
             "fill": {
              "color": "#C8D4E3"
             },
             "line": {
              "color": "white"
             }
            },
            "type": "table"
           }
          ]
         },
         "layout": {
          "annotationdefaults": {
           "arrowcolor": "#2a3f5f",
           "arrowhead": 0,
           "arrowwidth": 1
          },
          "autotypenumbers": "strict",
          "coloraxis": {
           "colorbar": {
            "outlinewidth": 0,
            "ticks": ""
           }
          },
          "colorscale": {
           "diverging": [
            [
             0,
             "#8e0152"
            ],
            [
             0.1,
             "#c51b7d"
            ],
            [
             0.2,
             "#de77ae"
            ],
            [
             0.3,
             "#f1b6da"
            ],
            [
             0.4,
             "#fde0ef"
            ],
            [
             0.5,
             "#f7f7f7"
            ],
            [
             0.6,
             "#e6f5d0"
            ],
            [
             0.7,
             "#b8e186"
            ],
            [
             0.8,
             "#7fbc41"
            ],
            [
             0.9,
             "#4d9221"
            ],
            [
             1,
             "#276419"
            ]
           ],
           "sequential": [
            [
             0,
             "#0d0887"
            ],
            [
             0.1111111111111111,
             "#46039f"
            ],
            [
             0.2222222222222222,
             "#7201a8"
            ],
            [
             0.3333333333333333,
             "#9c179e"
            ],
            [
             0.4444444444444444,
             "#bd3786"
            ],
            [
             0.5555555555555556,
             "#d8576b"
            ],
            [
             0.6666666666666666,
             "#ed7953"
            ],
            [
             0.7777777777777778,
             "#fb9f3a"
            ],
            [
             0.8888888888888888,
             "#fdca26"
            ],
            [
             1,
             "#f0f921"
            ]
           ],
           "sequentialminus": [
            [
             0,
             "#0d0887"
            ],
            [
             0.1111111111111111,
             "#46039f"
            ],
            [
             0.2222222222222222,
             "#7201a8"
            ],
            [
             0.3333333333333333,
             "#9c179e"
            ],
            [
             0.4444444444444444,
             "#bd3786"
            ],
            [
             0.5555555555555556,
             "#d8576b"
            ],
            [
             0.6666666666666666,
             "#ed7953"
            ],
            [
             0.7777777777777778,
             "#fb9f3a"
            ],
            [
             0.8888888888888888,
             "#fdca26"
            ],
            [
             1,
             "#f0f921"
            ]
           ]
          },
          "colorway": [
           "#636efa",
           "#EF553B",
           "#00cc96",
           "#ab63fa",
           "#FFA15A",
           "#19d3f3",
           "#FF6692",
           "#B6E880",
           "#FF97FF",
           "#FECB52"
          ],
          "font": {
           "color": "#2a3f5f"
          },
          "geo": {
           "bgcolor": "white",
           "lakecolor": "white",
           "landcolor": "#E5ECF6",
           "showlakes": true,
           "showland": true,
           "subunitcolor": "white"
          },
          "hoverlabel": {
           "align": "left"
          },
          "hovermode": "closest",
          "mapbox": {
           "style": "light"
          },
          "paper_bgcolor": "white",
          "plot_bgcolor": "#E5ECF6",
          "polar": {
           "angularaxis": {
            "gridcolor": "white",
            "linecolor": "white",
            "ticks": ""
           },
           "bgcolor": "#E5ECF6",
           "radialaxis": {
            "gridcolor": "white",
            "linecolor": "white",
            "ticks": ""
           }
          },
          "scene": {
           "xaxis": {
            "backgroundcolor": "#E5ECF6",
            "gridcolor": "white",
            "gridwidth": 2,
            "linecolor": "white",
            "showbackground": true,
            "ticks": "",
            "zerolinecolor": "white"
           },
           "yaxis": {
            "backgroundcolor": "#E5ECF6",
            "gridcolor": "white",
            "gridwidth": 2,
            "linecolor": "white",
            "showbackground": true,
            "ticks": "",
            "zerolinecolor": "white"
           },
           "zaxis": {
            "backgroundcolor": "#E5ECF6",
            "gridcolor": "white",
            "gridwidth": 2,
            "linecolor": "white",
            "showbackground": true,
            "ticks": "",
            "zerolinecolor": "white"
           }
          },
          "shapedefaults": {
           "line": {
            "color": "#2a3f5f"
           }
          },
          "ternary": {
           "aaxis": {
            "gridcolor": "white",
            "linecolor": "white",
            "ticks": ""
           },
           "baxis": {
            "gridcolor": "white",
            "linecolor": "white",
            "ticks": ""
           },
           "bgcolor": "#E5ECF6",
           "caxis": {
            "gridcolor": "white",
            "linecolor": "white",
            "ticks": ""
           }
          },
          "title": {
           "x": 0.05
          },
          "xaxis": {
           "automargin": true,
           "gridcolor": "white",
           "linecolor": "white",
           "ticks": "",
           "title": {
            "standoff": 15
           },
           "zerolinecolor": "white",
           "zerolinewidth": 2
          },
          "yaxis": {
           "automargin": true,
           "gridcolor": "white",
           "linecolor": "white",
           "ticks": "",
           "title": {
            "standoff": 15
           },
           "zerolinecolor": "white",
           "zerolinewidth": 2
          }
         }
        },
        "title": {
         "font": {
          "color": "#ffffff",
          "family": "Arial Black",
          "size": 24
         },
         "text": "Acquisitions vs Dispositions for Mid-Sized Portfolios (10 to 99 Units) in Milwaukee MSA",
         "x": 0.5,
         "xanchor": "center",
         "y": 0.95,
         "yanchor": "top"
        },
        "width": 1200,
        "xaxis": {
         "gridcolor": "rgba(255, 255, 255, 0.2)",
         "gridwidth": 0.5,
         "linecolor": "rgba(255, 255, 255, 0.7)",
         "linewidth": 1,
         "showgrid": true,
         "tickangle": -45,
         "tickfont": {
          "color": "#ffffff",
          "family": "Arial",
          "size": 12
         },
         "title": {
          "font": {
           "color": "#ffffff",
           "family": "Arial Black",
           "size": 14
          },
          "text": ""
         }
        },
        "yaxis": {
         "gridcolor": "rgba(255, 255, 255, 0.2)",
         "gridwidth": 0.5,
         "linecolor": "rgba(255, 255, 255, 0.7)",
         "linewidth": 1,
         "showgrid": true,
         "tickfont": {
          "color": "#ffffff",
          "family": "Arial",
          "size": 12
         },
         "tickprefix": "",
         "title": {
          "font": {
           "color": "#ffffff",
           "family": "Arial Black",
           "size": 14
          },
          "text": "Acquisitions"
         },
         "zeroline": false
        },
        "yaxis2": {
         "gridwidth": 0.5,
         "linecolor": "rgba(255, 255, 255, 0.7)",
         "linewidth": 1,
         "overlaying": "y",
         "showgrid": false,
         "side": "right",
         "tickfont": {
          "color": "#ffffff",
          "family": "Arial",
          "size": 12
         },
         "ticksuffix": " units",
         "title": {
          "font": {
           "color": "#ffffff",
           "family": "Arial Black",
           "size": 14
          },
          "text": "Dispositions"
         },
         "zeroline": false
        }
       }
      }
     },
     "metadata": {},
     "output_type": "display_data"
    }
   ],
   "source": [
    "# Change the units of the chart to not display as percentages\n",
    "style_config['tick_prefix'] = ''\n",
    "\n",
    "# Create a dual-axis chart to compare acquisitions and dispositions for mid-sized portfolios\n",
    "create_dual_axis_chart(\n",
    "    title='Acquisitions vs Dispositions for Mid-Sized Portfolios (10 to 99 Units) in Milwaukee MSA',\n",
    "    line_data=mid_investor_behavior,\n",
    "    bar1_data=mid_investor_behavior,\n",
    "    line_series='acquisitions',\n",
    "    bar1_series='dispositions',\n",
    "    yaxis1_title='Acquisitions',\n",
    "    yaxis2_title='Dispositions',\n",
    "    height=SIZE_CONFIG['x']['height'],\n",
    "    width=SIZE_CONFIG['x']['width'],\n",
    "    style_config=style_config,\n",
    "    # save_path='tampa_market_price_drops.png' # Uncomment to save the figure\n",
    ")\n"
   ]
  },
  {
   "cell_type": "markdown",
   "metadata": {},
   "source": [
    "The movements in acquisitions and dispositions help us understand how institutional investors approach their portfolio balance in the Milwaukee metro. However, this is not the only analysis we can perform with the API; we can also assess if they are experiencing high vacancy rates as a result of market cool-downs. To obtain this information, we can use the `portfolio_metrics.sf_new_listings_for_rent_rolling_counts` method, which returns data on the number of units each portfolio lists for rent over different time periods (7, 30, 45, 60 days). This can reveal tightening market conditions in terms of inventory. In the next chart, we will examine what share of all their units large portfolios listed for rent over different periods of time. This endpoint starts on `2024-04-22`, so we will modify the `start_date` accordingly. We also need to provide a list of markets (`parcl_ids`) and specify the type of portfolio.\n",
    "\n"
   ]
  },
  {
   "cell_type": "code",
   "execution_count": 15,
   "metadata": {},
   "outputs": [
    {
     "data": {
      "text/html": [
       "<div>\n",
       "<style scoped>\n",
       "    .dataframe tbody tr th:only-of-type {\n",
       "        vertical-align: middle;\n",
       "    }\n",
       "\n",
       "    .dataframe tbody tr th {\n",
       "        vertical-align: top;\n",
       "    }\n",
       "\n",
       "    .dataframe thead th {\n",
       "        text-align: right;\n",
       "    }\n",
       "</style>\n",
       "<table border=\"1\" class=\"dataframe\">\n",
       "  <thead>\n",
       "    <tr style=\"text-align: right;\">\n",
       "      <th></th>\n",
       "      <th>parcl_id</th>\n",
       "      <th>date</th>\n",
       "      <th>count_rolling_7_day</th>\n",
       "      <th>count_rolling_30_day</th>\n",
       "      <th>count_rolling_60_day</th>\n",
       "      <th>count_rolling_90_day</th>\n",
       "      <th>pct_sf_for_rent_market_rolling_7_day</th>\n",
       "      <th>pct_sf_for_rent_market_rolling_30_day</th>\n",
       "      <th>pct_sf_for_rent_market_rolling_60_day</th>\n",
       "      <th>pct_sf_for_rent_market_rolling_90_day</th>\n",
       "      <th>portfolio_size</th>\n",
       "    </tr>\n",
       "  </thead>\n",
       "  <tbody>\n",
       "    <tr>\n",
       "      <th>0</th>\n",
       "      <td>2900134</td>\n",
       "      <td>2024-08-26</td>\n",
       "      <td>5</td>\n",
       "      <td>18</td>\n",
       "      <td>34</td>\n",
       "      <td>54</td>\n",
       "      <td>10.2</td>\n",
       "      <td>7.29</td>\n",
       "      <td>6.28</td>\n",
       "      <td>6.59</td>\n",
       "      <td>PORTFOLIO_1000_PLUS</td>\n",
       "    </tr>\n",
       "  </tbody>\n",
       "</table>\n",
       "</div>"
      ],
      "text/plain": [
       "  parcl_id       date  count_rolling_7_day  count_rolling_30_day  \\\n",
       "0  2900134 2024-08-26                    5                    18   \n",
       "\n",
       "   count_rolling_60_day  count_rolling_90_day  \\\n",
       "0                    34                    54   \n",
       "\n",
       "   pct_sf_for_rent_market_rolling_7_day  \\\n",
       "0                                  10.2   \n",
       "\n",
       "   pct_sf_for_rent_market_rolling_30_day  \\\n",
       "0                                   7.29   \n",
       "\n",
       "   pct_sf_for_rent_market_rolling_60_day  \\\n",
       "0                                   6.28   \n",
       "\n",
       "   pct_sf_for_rent_market_rolling_90_day       portfolio_size  \n",
       "0                                   6.59  PORTFOLIO_1000_PLUS  "
      ]
     },
     "execution_count": 15,
     "metadata": {},
     "output_type": "execute_result"
    }
   ],
   "source": [
    "# Retrieve information about new listings for rent by large investors\n",
    "listings_for_rent_large_investors = client.portfolio_metrics.sf_new_listings_for_rent_rolling_counts.retrieve(\n",
    "    parcl_ids=[2900134],  # Replace with appropriate Parcl IDs if needed\n",
    "    portfolio_size='PORTFOLIO_1000_PLUS',  \n",
    "    start_date='2024-08-20',  # Adjusted start date\n",
    "    end_date='2024-08-30',\n",
    "    limit=100  # Limit the number of records retrieved\n",
    ")\n",
    "\n",
    "# Display the first few rows of the retrieved data\n",
    "listings_for_rent_large_investors.head()\n"
   ]
  },
  {
   "cell_type": "code",
   "execution_count": 16,
   "metadata": {},
   "outputs": [
    {
     "data": {
      "application/vnd.plotly.v1+json": {
       "config": {
        "plotlyServerURL": "https://plot.ly"
       },
       "data": [
        {
         "alignmentgroup": "True",
         "hovertemplate": "Rolling Period=%{y}<br>Percentage=%{x}<extra></extra>",
         "legendgroup": "pct_sf_for_rent_market_rolling_90_day",
         "marker": {
          "color": "#142872",
          "line": {
           "width": 0
          },
          "pattern": {
           "shape": ""
          }
         },
         "name": "pct_sf_for_rent_market_rolling_90_day",
         "offsetgroup": "pct_sf_for_rent_market_rolling_90_day",
         "orientation": "h",
         "showlegend": true,
         "textposition": "auto",
         "type": "bar",
         "x": [
          0.0659
         ],
         "xaxis": "x",
         "y": [
          "pct_sf_for_rent_market_rolling_90_day"
         ],
         "yaxis": "y"
        },
        {
         "alignmentgroup": "True",
         "hovertemplate": "Rolling Period=%{y}<br>Percentage=%{x}<extra></extra>",
         "legendgroup": "pct_sf_for_rent_market_rolling_60_day",
         "marker": {
          "color": "#8a9cb7",
          "line": {
           "width": 0
          },
          "pattern": {
           "shape": ""
          }
         },
         "name": "pct_sf_for_rent_market_rolling_60_day",
         "offsetgroup": "pct_sf_for_rent_market_rolling_60_day",
         "orientation": "h",
         "showlegend": true,
         "textposition": "auto",
         "type": "bar",
         "x": [
          0.06280000000000001
         ],
         "xaxis": "x",
         "y": [
          "pct_sf_for_rent_market_rolling_60_day"
         ],
         "yaxis": "y"
        },
        {
         "alignmentgroup": "True",
         "hovertemplate": "Rolling Period=%{y}<br>Percentage=%{x}<extra></extra>",
         "legendgroup": "pct_sf_for_rent_market_rolling_30_day",
         "marker": {
          "color": "#4882db",
          "line": {
           "width": 0
          },
          "pattern": {
           "shape": ""
          }
         },
         "name": "pct_sf_for_rent_market_rolling_30_day",
         "offsetgroup": "pct_sf_for_rent_market_rolling_30_day",
         "orientation": "h",
         "showlegend": true,
         "textposition": "auto",
         "type": "bar",
         "x": [
          0.0729
         ],
         "xaxis": "x",
         "y": [
          "pct_sf_for_rent_market_rolling_30_day"
         ],
         "yaxis": "y"
        },
        {
         "alignmentgroup": "True",
         "hovertemplate": "Rolling Period=%{y}<br>Percentage=%{x}<extra></extra>",
         "legendgroup": "pct_sf_for_rent_market_rolling_7_day",
         "marker": {
          "color": "#d4d4d4",
          "line": {
           "width": 0
          },
          "pattern": {
           "shape": ""
          }
         },
         "name": "pct_sf_for_rent_market_rolling_7_day",
         "offsetgroup": "pct_sf_for_rent_market_rolling_7_day",
         "orientation": "h",
         "showlegend": true,
         "textposition": "auto",
         "type": "bar",
         "x": [
          0.102
         ],
         "xaxis": "x",
         "y": [
          "pct_sf_for_rent_market_rolling_7_day"
         ],
         "yaxis": "y"
        }
       ],
       "layout": {
        "autosize": false,
        "barmode": "relative",
        "font": {
         "color": "#ffffff"
        },
        "height": 800,
        "images": [
         {
          "sizex": 0.15,
          "sizey": 0.15,
          "source": "https://parcllabs-assets.s3.amazonaws.com/powered-by-parcllabs-api-logo-white+(1).svg",
          "x": 1,
          "xanchor": "right",
          "xref": "paper",
          "y": 0,
          "yanchor": "bottom",
          "yref": "paper"
         }
        ],
        "legend": {
         "bgcolor": "rgba(0, 0, 0, 0)",
         "font": {
          "color": "#ffffff",
          "family": "Arial",
          "size": 12
         },
         "title": {
          "font": {
           "size": 14
          },
          "text": ""
         },
         "tracegroupgap": 0,
         "x": 0.01,
         "xanchor": "left",
         "y": 0.98,
         "yanchor": "top"
        },
        "margin": {
         "b": 40,
         "l": 40,
         "r": 40,
         "t": 100
        },
        "paper_bgcolor": "#1e1e1e",
        "plot_bgcolor": "#1e1e1e",
        "showlegend": false,
        "template": {
         "data": {
          "bar": [
           {
            "error_x": {
             "color": "#2a3f5f"
            },
            "error_y": {
             "color": "#2a3f5f"
            },
            "marker": {
             "line": {
              "color": "#E5ECF6",
              "width": 0.5
             },
             "pattern": {
              "fillmode": "overlay",
              "size": 10,
              "solidity": 0.2
             }
            },
            "type": "bar"
           }
          ],
          "barpolar": [
           {
            "marker": {
             "line": {
              "color": "#E5ECF6",
              "width": 0.5
             },
             "pattern": {
              "fillmode": "overlay",
              "size": 10,
              "solidity": 0.2
             }
            },
            "type": "barpolar"
           }
          ],
          "carpet": [
           {
            "aaxis": {
             "endlinecolor": "#2a3f5f",
             "gridcolor": "white",
             "linecolor": "white",
             "minorgridcolor": "white",
             "startlinecolor": "#2a3f5f"
            },
            "baxis": {
             "endlinecolor": "#2a3f5f",
             "gridcolor": "white",
             "linecolor": "white",
             "minorgridcolor": "white",
             "startlinecolor": "#2a3f5f"
            },
            "type": "carpet"
           }
          ],
          "choropleth": [
           {
            "colorbar": {
             "outlinewidth": 0,
             "ticks": ""
            },
            "type": "choropleth"
           }
          ],
          "contour": [
           {
            "colorbar": {
             "outlinewidth": 0,
             "ticks": ""
            },
            "colorscale": [
             [
              0,
              "#0d0887"
             ],
             [
              0.1111111111111111,
              "#46039f"
             ],
             [
              0.2222222222222222,
              "#7201a8"
             ],
             [
              0.3333333333333333,
              "#9c179e"
             ],
             [
              0.4444444444444444,
              "#bd3786"
             ],
             [
              0.5555555555555556,
              "#d8576b"
             ],
             [
              0.6666666666666666,
              "#ed7953"
             ],
             [
              0.7777777777777778,
              "#fb9f3a"
             ],
             [
              0.8888888888888888,
              "#fdca26"
             ],
             [
              1,
              "#f0f921"
             ]
            ],
            "type": "contour"
           }
          ],
          "contourcarpet": [
           {
            "colorbar": {
             "outlinewidth": 0,
             "ticks": ""
            },
            "type": "contourcarpet"
           }
          ],
          "heatmap": [
           {
            "colorbar": {
             "outlinewidth": 0,
             "ticks": ""
            },
            "colorscale": [
             [
              0,
              "#0d0887"
             ],
             [
              0.1111111111111111,
              "#46039f"
             ],
             [
              0.2222222222222222,
              "#7201a8"
             ],
             [
              0.3333333333333333,
              "#9c179e"
             ],
             [
              0.4444444444444444,
              "#bd3786"
             ],
             [
              0.5555555555555556,
              "#d8576b"
             ],
             [
              0.6666666666666666,
              "#ed7953"
             ],
             [
              0.7777777777777778,
              "#fb9f3a"
             ],
             [
              0.8888888888888888,
              "#fdca26"
             ],
             [
              1,
              "#f0f921"
             ]
            ],
            "type": "heatmap"
           }
          ],
          "heatmapgl": [
           {
            "colorbar": {
             "outlinewidth": 0,
             "ticks": ""
            },
            "colorscale": [
             [
              0,
              "#0d0887"
             ],
             [
              0.1111111111111111,
              "#46039f"
             ],
             [
              0.2222222222222222,
              "#7201a8"
             ],
             [
              0.3333333333333333,
              "#9c179e"
             ],
             [
              0.4444444444444444,
              "#bd3786"
             ],
             [
              0.5555555555555556,
              "#d8576b"
             ],
             [
              0.6666666666666666,
              "#ed7953"
             ],
             [
              0.7777777777777778,
              "#fb9f3a"
             ],
             [
              0.8888888888888888,
              "#fdca26"
             ],
             [
              1,
              "#f0f921"
             ]
            ],
            "type": "heatmapgl"
           }
          ],
          "histogram": [
           {
            "marker": {
             "pattern": {
              "fillmode": "overlay",
              "size": 10,
              "solidity": 0.2
             }
            },
            "type": "histogram"
           }
          ],
          "histogram2d": [
           {
            "colorbar": {
             "outlinewidth": 0,
             "ticks": ""
            },
            "colorscale": [
             [
              0,
              "#0d0887"
             ],
             [
              0.1111111111111111,
              "#46039f"
             ],
             [
              0.2222222222222222,
              "#7201a8"
             ],
             [
              0.3333333333333333,
              "#9c179e"
             ],
             [
              0.4444444444444444,
              "#bd3786"
             ],
             [
              0.5555555555555556,
              "#d8576b"
             ],
             [
              0.6666666666666666,
              "#ed7953"
             ],
             [
              0.7777777777777778,
              "#fb9f3a"
             ],
             [
              0.8888888888888888,
              "#fdca26"
             ],
             [
              1,
              "#f0f921"
             ]
            ],
            "type": "histogram2d"
           }
          ],
          "histogram2dcontour": [
           {
            "colorbar": {
             "outlinewidth": 0,
             "ticks": ""
            },
            "colorscale": [
             [
              0,
              "#0d0887"
             ],
             [
              0.1111111111111111,
              "#46039f"
             ],
             [
              0.2222222222222222,
              "#7201a8"
             ],
             [
              0.3333333333333333,
              "#9c179e"
             ],
             [
              0.4444444444444444,
              "#bd3786"
             ],
             [
              0.5555555555555556,
              "#d8576b"
             ],
             [
              0.6666666666666666,
              "#ed7953"
             ],
             [
              0.7777777777777778,
              "#fb9f3a"
             ],
             [
              0.8888888888888888,
              "#fdca26"
             ],
             [
              1,
              "#f0f921"
             ]
            ],
            "type": "histogram2dcontour"
           }
          ],
          "mesh3d": [
           {
            "colorbar": {
             "outlinewidth": 0,
             "ticks": ""
            },
            "type": "mesh3d"
           }
          ],
          "parcoords": [
           {
            "line": {
             "colorbar": {
              "outlinewidth": 0,
              "ticks": ""
             }
            },
            "type": "parcoords"
           }
          ],
          "pie": [
           {
            "automargin": true,
            "type": "pie"
           }
          ],
          "scatter": [
           {
            "fillpattern": {
             "fillmode": "overlay",
             "size": 10,
             "solidity": 0.2
            },
            "type": "scatter"
           }
          ],
          "scatter3d": [
           {
            "line": {
             "colorbar": {
              "outlinewidth": 0,
              "ticks": ""
             }
            },
            "marker": {
             "colorbar": {
              "outlinewidth": 0,
              "ticks": ""
             }
            },
            "type": "scatter3d"
           }
          ],
          "scattercarpet": [
           {
            "marker": {
             "colorbar": {
              "outlinewidth": 0,
              "ticks": ""
             }
            },
            "type": "scattercarpet"
           }
          ],
          "scattergeo": [
           {
            "marker": {
             "colorbar": {
              "outlinewidth": 0,
              "ticks": ""
             }
            },
            "type": "scattergeo"
           }
          ],
          "scattergl": [
           {
            "marker": {
             "colorbar": {
              "outlinewidth": 0,
              "ticks": ""
             }
            },
            "type": "scattergl"
           }
          ],
          "scattermapbox": [
           {
            "marker": {
             "colorbar": {
              "outlinewidth": 0,
              "ticks": ""
             }
            },
            "type": "scattermapbox"
           }
          ],
          "scatterpolar": [
           {
            "marker": {
             "colorbar": {
              "outlinewidth": 0,
              "ticks": ""
             }
            },
            "type": "scatterpolar"
           }
          ],
          "scatterpolargl": [
           {
            "marker": {
             "colorbar": {
              "outlinewidth": 0,
              "ticks": ""
             }
            },
            "type": "scatterpolargl"
           }
          ],
          "scatterternary": [
           {
            "marker": {
             "colorbar": {
              "outlinewidth": 0,
              "ticks": ""
             }
            },
            "type": "scatterternary"
           }
          ],
          "surface": [
           {
            "colorbar": {
             "outlinewidth": 0,
             "ticks": ""
            },
            "colorscale": [
             [
              0,
              "#0d0887"
             ],
             [
              0.1111111111111111,
              "#46039f"
             ],
             [
              0.2222222222222222,
              "#7201a8"
             ],
             [
              0.3333333333333333,
              "#9c179e"
             ],
             [
              0.4444444444444444,
              "#bd3786"
             ],
             [
              0.5555555555555556,
              "#d8576b"
             ],
             [
              0.6666666666666666,
              "#ed7953"
             ],
             [
              0.7777777777777778,
              "#fb9f3a"
             ],
             [
              0.8888888888888888,
              "#fdca26"
             ],
             [
              1,
              "#f0f921"
             ]
            ],
            "type": "surface"
           }
          ],
          "table": [
           {
            "cells": {
             "fill": {
              "color": "#EBF0F8"
             },
             "line": {
              "color": "white"
             }
            },
            "header": {
             "fill": {
              "color": "#C8D4E3"
             },
             "line": {
              "color": "white"
             }
            },
            "type": "table"
           }
          ]
         },
         "layout": {
          "annotationdefaults": {
           "arrowcolor": "#2a3f5f",
           "arrowhead": 0,
           "arrowwidth": 1
          },
          "autotypenumbers": "strict",
          "coloraxis": {
           "colorbar": {
            "outlinewidth": 0,
            "ticks": ""
           }
          },
          "colorscale": {
           "diverging": [
            [
             0,
             "#8e0152"
            ],
            [
             0.1,
             "#c51b7d"
            ],
            [
             0.2,
             "#de77ae"
            ],
            [
             0.3,
             "#f1b6da"
            ],
            [
             0.4,
             "#fde0ef"
            ],
            [
             0.5,
             "#f7f7f7"
            ],
            [
             0.6,
             "#e6f5d0"
            ],
            [
             0.7,
             "#b8e186"
            ],
            [
             0.8,
             "#7fbc41"
            ],
            [
             0.9,
             "#4d9221"
            ],
            [
             1,
             "#276419"
            ]
           ],
           "sequential": [
            [
             0,
             "#0d0887"
            ],
            [
             0.1111111111111111,
             "#46039f"
            ],
            [
             0.2222222222222222,
             "#7201a8"
            ],
            [
             0.3333333333333333,
             "#9c179e"
            ],
            [
             0.4444444444444444,
             "#bd3786"
            ],
            [
             0.5555555555555556,
             "#d8576b"
            ],
            [
             0.6666666666666666,
             "#ed7953"
            ],
            [
             0.7777777777777778,
             "#fb9f3a"
            ],
            [
             0.8888888888888888,
             "#fdca26"
            ],
            [
             1,
             "#f0f921"
            ]
           ],
           "sequentialminus": [
            [
             0,
             "#0d0887"
            ],
            [
             0.1111111111111111,
             "#46039f"
            ],
            [
             0.2222222222222222,
             "#7201a8"
            ],
            [
             0.3333333333333333,
             "#9c179e"
            ],
            [
             0.4444444444444444,
             "#bd3786"
            ],
            [
             0.5555555555555556,
             "#d8576b"
            ],
            [
             0.6666666666666666,
             "#ed7953"
            ],
            [
             0.7777777777777778,
             "#fb9f3a"
            ],
            [
             0.8888888888888888,
             "#fdca26"
            ],
            [
             1,
             "#f0f921"
            ]
           ]
          },
          "colorway": [
           "#636efa",
           "#EF553B",
           "#00cc96",
           "#ab63fa",
           "#FFA15A",
           "#19d3f3",
           "#FF6692",
           "#B6E880",
           "#FF97FF",
           "#FECB52"
          ],
          "font": {
           "color": "#2a3f5f"
          },
          "geo": {
           "bgcolor": "white",
           "lakecolor": "white",
           "landcolor": "#E5ECF6",
           "showlakes": true,
           "showland": true,
           "subunitcolor": "white"
          },
          "hoverlabel": {
           "align": "left"
          },
          "hovermode": "closest",
          "mapbox": {
           "style": "light"
          },
          "paper_bgcolor": "white",
          "plot_bgcolor": "#E5ECF6",
          "polar": {
           "angularaxis": {
            "gridcolor": "white",
            "linecolor": "white",
            "ticks": ""
           },
           "bgcolor": "#E5ECF6",
           "radialaxis": {
            "gridcolor": "white",
            "linecolor": "white",
            "ticks": ""
           }
          },
          "scene": {
           "xaxis": {
            "backgroundcolor": "#E5ECF6",
            "gridcolor": "white",
            "gridwidth": 2,
            "linecolor": "white",
            "showbackground": true,
            "ticks": "",
            "zerolinecolor": "white"
           },
           "yaxis": {
            "backgroundcolor": "#E5ECF6",
            "gridcolor": "white",
            "gridwidth": 2,
            "linecolor": "white",
            "showbackground": true,
            "ticks": "",
            "zerolinecolor": "white"
           },
           "zaxis": {
            "backgroundcolor": "#E5ECF6",
            "gridcolor": "white",
            "gridwidth": 2,
            "linecolor": "white",
            "showbackground": true,
            "ticks": "",
            "zerolinecolor": "white"
           }
          },
          "shapedefaults": {
           "line": {
            "color": "#2a3f5f"
           }
          },
          "ternary": {
           "aaxis": {
            "gridcolor": "white",
            "linecolor": "white",
            "ticks": ""
           },
           "baxis": {
            "gridcolor": "white",
            "linecolor": "white",
            "ticks": ""
           },
           "bgcolor": "#E5ECF6",
           "caxis": {
            "gridcolor": "white",
            "linecolor": "white",
            "ticks": ""
           }
          },
          "title": {
           "x": 0.05
          },
          "xaxis": {
           "automargin": true,
           "gridcolor": "white",
           "linecolor": "white",
           "ticks": "",
           "title": {
            "standoff": 15
           },
           "zerolinecolor": "white",
           "zerolinewidth": 2
          },
          "yaxis": {
           "automargin": true,
           "gridcolor": "white",
           "linecolor": "white",
           "ticks": "",
           "title": {
            "standoff": 15
           },
           "zerolinecolor": "white",
           "zerolinewidth": 2
          }
         }
        },
        "title": {
         "font": {
          "color": "#ffffff",
          "family": "Arial Black",
          "size": 24
         },
         "text": "Share of Housing Stock Listed for Rent for Large Portfolios Over Different Rolling Periods",
         "x": 0.5,
         "xanchor": "center",
         "y": 0.95,
         "yanchor": "top"
        },
        "width": 1600,
        "xaxis": {
         "anchor": "y",
         "domain": [
          0,
          1
         ],
         "gridcolor": "rgba(255, 255, 255, 0.2)",
         "gridwidth": 0.5,
         "linecolor": "rgba(255, 255, 255, 0.7)",
         "linewidth": 1,
         "showgrid": true,
         "tickfont": {
          "color": "#ffffff",
          "size": 12
         },
         "tickformat": ".2%",
         "title": {
          "font": {
           "color": "#ffffff",
           "family": "Arial Black",
           "size": 18
          },
          "text": ""
         }
        },
        "yaxis": {
         "anchor": "x",
         "categoryarray": [
          "pct_sf_for_rent_market_rolling_7_day",
          "pct_sf_for_rent_market_rolling_30_day",
          "pct_sf_for_rent_market_rolling_60_day",
          "pct_sf_for_rent_market_rolling_90_day"
         ],
         "categoryorder": "array",
         "domain": [
          0,
          1
         ],
         "gridcolor": "rgba(255, 255, 255, 0.2)",
         "gridwidth": 0.5,
         "linecolor": "rgba(255, 255, 255, 0.7)",
         "linewidth": 1,
         "showgrid": true,
         "tickfont": {
          "color": "#ffffff",
          "family": "Arial",
          "size": 12
         },
         "tickformat": ".1%",
         "title": {
          "font": {
           "size": 18,
           "weight": "bold"
          },
          "text": "Housing Stock Listed for Rent"
         },
         "zeroline": false
        }
       }
      }
     },
     "metadata": {},
     "output_type": "display_data"
    }
   ],
   "source": [
    "# Define the order of the columns for rolling periods\n",
    "sort_columns = ['pct_sf_for_rent_market_rolling_90_day', 'pct_sf_for_rent_market_rolling_60_day',\n",
    "                'pct_sf_for_rent_market_rolling_30_day', 'pct_sf_for_rent_market_rolling_7_day']\n",
    "\n",
    "# Melt the dataframe to convert it into a long format suitable for plotting\n",
    "df_melted = (\n",
    "    listings_for_rent_large_investors\n",
    "    .filter(like='pct')  # Filter columns containing percentage data\n",
    "    .melt(var_name='Rolling Period', value_name='Percentage')  # Reshape the dataframe to long format\n",
    "    .assign(Percentage=lambda x: x['Percentage'] * 0.01)  # Convert percentages to decimal\n",
    "    .assign(**{'Rolling Period': lambda df: pd.Categorical(df['Rolling Period'], categories=sort_columns, ordered=True)})\n",
    "    .sort_values(by='Rolling Period')  # Sort the data based on the defined order\n",
    ")\n",
    "\n",
    "# Define a color palette\n",
    "colors = ['#142872', '#8a9cb7', '#4882db', '#d4d4d4']\n",
    "\n",
    "# Create the stacked bar chart using Plotly Express\n",
    "fig = px.bar(df_melted, \n",
    "             x='Percentage', \n",
    "             y='Rolling Period', \n",
    "             barmode='relative', \n",
    "             title='Share of Housing Stock Listed for Rent for Large Portfolios over Different Rolling Periods',\n",
    "             color='Rolling Period',\n",
    "             color_discrete_sequence=colors\n",
    ")\n",
    "\n",
    "fig.update_traces(marker=dict(line=dict(width=0)))\n",
    "\n",
    "# Customize the layout of the chart\n",
    "fig.update_layout(\n",
    "    margin=dict(l=40, r=40, t=100, b=40),  # Increase top margin to accommodate the subtitle\n",
    "    showlegend=False,\n",
    "    title={\n",
    "        'text': 'Share of Housing Stock Listed for Rent for Large Portfolios Over Different Rolling Periods',\n",
    "        'y': 0.95,\n",
    "        'x': 0.5,\n",
    "        'xanchor': 'center',\n",
    "        'yanchor': 'top',\n",
    "        'font': style_config['title_font']\n",
    "    },\n",
    "    xaxis=dict(\n",
    "        title_text='',\n",
    "        tickformat='.2%',\n",
    "        showgrid=style_config['showgrid'],\n",
    "        gridwidth=style_config['gridwidth'],\n",
    "        gridcolor=style_config['grid_color'],\n",
    "        linecolor=style_config['line_color_axis'],\n",
    "        linewidth=style_config['linewidth'],\n",
    "        titlefont=style_config['title_font_axis'],\n",
    "        tickfont=dict(size=style_config['axis_font']['size'], color=style_config['axis_font']['color']),\n",
    "    ),\n",
    "    yaxis=dict(\n",
    "        title_text='Housing Stock Listed for Rent',\n",
    "        showgrid=style_config['showgrid'],\n",
    "        gridwidth=style_config['gridwidth'],\n",
    "        gridcolor=style_config['grid_color'],\n",
    "        tickfont=style_config['axis_font'],\n",
    "        zeroline=False,\n",
    "        tickformat='.1%',\n",
    "        linecolor=style_config['line_color_axis'],\n",
    "        linewidth=style_config['linewidth'],\n",
    "        titlefont=dict(size=18, weight='bold')  # Set y-axis title to bold\n",
    "    ),\n",
    "    plot_bgcolor=style_config['background_color'],\n",
    "    paper_bgcolor=style_config['background_color'],\n",
    "    font=dict(color=style_config['font_color']),\n",
    "    legend_title_text='',\n",
    "    autosize=False,\n",
    "    width=1600,\n",
    "    height=800,\n",
    "    title_font=dict(size=24),\n",
    "    xaxis_title_font=dict(size=18),\n",
    "    legend_title_font=dict(size=14),\n",
    "    legend_font=dict(size=12),\n",
    "    legend=dict(\n",
    "        x=style_config['legend_x'],\n",
    "        y=style_config['legend_y'],\n",
    "        xanchor=style_config['legend_xanchor'],\n",
    "        yanchor=style_config['legend_yanchor'],\n",
    "        font=style_config['legend_font'],\n",
    "        bgcolor='rgba(0, 0, 0, 0)'\n",
    "    ),\n",
    ")\n",
    "\n",
    "# Add the Parcl Labs watermark to the plot\n",
    "fig.add_layout_image(create_labs_logo_dict())\n",
    "\n",
    "# Display the chart\n",
    "fig.show()\n"
   ]
  },
  {
   "cell_type": "markdown",
   "metadata": {},
   "source": [
    "Conditions seem to have deteriorated for large portfolios (1000+ units) in the Milwaukee MSA, with the share of housing stock listed for rent increasing across all rolling periods. Let's see if this trend is common across the entire market in Milwaukee. For this, we will use the `rental_market_metrics.new_listings_for_rent_rolling_counts` method of the client, which provides information on the rolling number of new listings for rent for different types of properties. Since we are focusing on single-family homes (SFH), we need to specify that in the `property_type` argument. Additional information about this endpoint can be found [here](https://docs.parcllabs.com/reference/new_listings_for_rent_rolling_counts_v1_rental_market_metrics__parcl_id__new_listings_for_rent_rolling_counts_get-1).\n"
   ]
  },
  {
   "cell_type": "code",
   "execution_count": 17,
   "metadata": {},
   "outputs": [
    {
     "name": "stdout",
     "output_type": "stream",
     "text": [
      "10\n"
     ]
    },
    {
     "data": {
      "text/html": [
       "<div>\n",
       "<style scoped>\n",
       "    .dataframe tbody tr th:only-of-type {\n",
       "        vertical-align: middle;\n",
       "    }\n",
       "\n",
       "    .dataframe tbody tr th {\n",
       "        vertical-align: top;\n",
       "    }\n",
       "\n",
       "    .dataframe thead th {\n",
       "        text-align: right;\n",
       "    }\n",
       "</style>\n",
       "<table border=\"1\" class=\"dataframe\">\n",
       "  <thead>\n",
       "    <tr style=\"text-align: right;\">\n",
       "      <th></th>\n",
       "      <th>parcl_id</th>\n",
       "      <th>date</th>\n",
       "      <th>rolling_7_day</th>\n",
       "      <th>rolling_30_day</th>\n",
       "      <th>rolling_60_day</th>\n",
       "      <th>rolling_90_day</th>\n",
       "      <th>property_type</th>\n",
       "    </tr>\n",
       "  </thead>\n",
       "  <tbody>\n",
       "    <tr>\n",
       "      <th>0</th>\n",
       "      <td>2900134</td>\n",
       "      <td>2024-08-26</td>\n",
       "      <td>49</td>\n",
       "      <td>247</td>\n",
       "      <td>541</td>\n",
       "      <td>820</td>\n",
       "      <td>SINGLE_FAMILY</td>\n",
       "    </tr>\n",
       "    <tr>\n",
       "      <th>1</th>\n",
       "      <td>2900134</td>\n",
       "      <td>2024-08-19</td>\n",
       "      <td>62</td>\n",
       "      <td>274</td>\n",
       "      <td>560</td>\n",
       "      <td>842</td>\n",
       "      <td>SINGLE_FAMILY</td>\n",
       "    </tr>\n",
       "    <tr>\n",
       "      <th>2</th>\n",
       "      <td>2900134</td>\n",
       "      <td>2024-08-12</td>\n",
       "      <td>47</td>\n",
       "      <td>290</td>\n",
       "      <td>553</td>\n",
       "      <td>848</td>\n",
       "      <td>SINGLE_FAMILY</td>\n",
       "    </tr>\n",
       "    <tr>\n",
       "      <th>3</th>\n",
       "      <td>2900134</td>\n",
       "      <td>2024-08-05</td>\n",
       "      <td>78</td>\n",
       "      <td>309</td>\n",
       "      <td>575</td>\n",
       "      <td>876</td>\n",
       "      <td>SINGLE_FAMILY</td>\n",
       "    </tr>\n",
       "    <tr>\n",
       "      <th>4</th>\n",
       "      <td>2900134</td>\n",
       "      <td>2024-07-29</td>\n",
       "      <td>72</td>\n",
       "      <td>291</td>\n",
       "      <td>582</td>\n",
       "      <td>894</td>\n",
       "      <td>SINGLE_FAMILY</td>\n",
       "    </tr>\n",
       "    <tr>\n",
       "      <th>5</th>\n",
       "      <td>2900134</td>\n",
       "      <td>2024-07-22</td>\n",
       "      <td>85</td>\n",
       "      <td>284</td>\n",
       "      <td>567</td>\n",
       "      <td>913</td>\n",
       "      <td>SINGLE_FAMILY</td>\n",
       "    </tr>\n",
       "    <tr>\n",
       "      <th>6</th>\n",
       "      <td>2900134</td>\n",
       "      <td>2024-07-15</td>\n",
       "      <td>65</td>\n",
       "      <td>260</td>\n",
       "      <td>565</td>\n",
       "      <td>892</td>\n",
       "      <td>SINGLE_FAMILY</td>\n",
       "    </tr>\n",
       "    <tr>\n",
       "      <th>7</th>\n",
       "      <td>2900134</td>\n",
       "      <td>2024-07-08</td>\n",
       "      <td>59</td>\n",
       "      <td>271</td>\n",
       "      <td>575</td>\n",
       "      <td>909</td>\n",
       "      <td>SINGLE_FAMILY</td>\n",
       "    </tr>\n",
       "    <tr>\n",
       "      <th>8</th>\n",
       "      <td>2900134</td>\n",
       "      <td>2024-07-01</td>\n",
       "      <td>63</td>\n",
       "      <td>283</td>\n",
       "      <td>583</td>\n",
       "      <td>940</td>\n",
       "      <td>SINGLE_FAMILY</td>\n",
       "    </tr>\n",
       "    <tr>\n",
       "      <th>9</th>\n",
       "      <td>2900134</td>\n",
       "      <td>2024-06-24</td>\n",
       "      <td>65</td>\n",
       "      <td>274</td>\n",
       "      <td>613</td>\n",
       "      <td>951</td>\n",
       "      <td>SINGLE_FAMILY</td>\n",
       "    </tr>\n",
       "  </tbody>\n",
       "</table>\n",
       "</div>"
      ],
      "text/plain": [
       "  parcl_id       date  rolling_7_day  rolling_30_day  rolling_60_day  \\\n",
       "0  2900134 2024-08-26             49             247             541   \n",
       "1  2900134 2024-08-19             62             274             560   \n",
       "2  2900134 2024-08-12             47             290             553   \n",
       "3  2900134 2024-08-05             78             309             575   \n",
       "4  2900134 2024-07-29             72             291             582   \n",
       "5  2900134 2024-07-22             85             284             567   \n",
       "6  2900134 2024-07-15             65             260             565   \n",
       "7  2900134 2024-07-08             59             271             575   \n",
       "8  2900134 2024-07-01             63             283             583   \n",
       "9  2900134 2024-06-24             65             274             613   \n",
       "\n",
       "   rolling_90_day  property_type  \n",
       "0             820  SINGLE_FAMILY  \n",
       "1             842  SINGLE_FAMILY  \n",
       "2             848  SINGLE_FAMILY  \n",
       "3             876  SINGLE_FAMILY  \n",
       "4             894  SINGLE_FAMILY  \n",
       "5             913  SINGLE_FAMILY  \n",
       "6             892  SINGLE_FAMILY  \n",
       "7             909  SINGLE_FAMILY  \n",
       "8             940  SINGLE_FAMILY  \n",
       "9             951  SINGLE_FAMILY  "
      ]
     },
     "execution_count": 17,
     "metadata": {},
     "output_type": "execute_result"
    }
   ],
   "source": [
    "# Retrieve information about new listings for rent across the Milwaukee market\n",
    "rentals_new_listings_rolling_counts_milwaukee = client.rental_market_metrics.new_listings_for_rent_rolling_counts.retrieve(\n",
    "    parcl_ids=[2900134],  # Replace with appropriate Parcl IDs if needed\n",
    "    start_date='2024-06-20',  # Set the start date for data retrieval\n",
    "    end_date='2024-08-30',    # Set the end date for data retrieval\n",
    "    property_type='SINGLE_FAMILY',  # Focus on single-family properties\n",
    "    limit=100  # Limit the number of records retrieved\n",
    ")\n",
    "\n",
    "# Print the number of records retrieved\n",
    "print(len(rentals_new_listings_rolling_counts_milwaukee))\n",
    "\n",
    "# Display the first 20 rows of the retrieved data\n",
    "rentals_new_listings_rolling_counts_milwaukee.head(20)\n"
   ]
  },
  {
   "cell_type": "code",
   "execution_count": 18,
   "metadata": {},
   "outputs": [],
   "source": [
    "# Sort values by date in ascending order\n",
    "rentals_new_listings_rolling_counts_milwaukee = rentals_new_listings_rolling_counts_milwaukee.sort_values(by='date', ascending=True)\n",
    "\n",
    "# Calculate the percentage change for each rolling period\n",
    "rentals_new_listings_rolling_counts_milwaukee = (\n",
    "    rentals_new_listings_rolling_counts_milwaukee\n",
    "    .assign(rolling_90_day_pct_change=lambda x: x['rolling_90_day'].pct_change(),\n",
    "            rolling_60_day_pct_change=lambda x: x['rolling_60_day'].pct_change(),\n",
    "            rolling_30_day_pct_change=lambda x: x['rolling_30_day'].pct_change(),\n",
    "            rolling_7_day_pct_change=lambda x: x['rolling_7_day'].pct_change()\n",
    "            )\n",
    "    # Drop rows with missing values after calculating percentage changes\n",
    "    .dropna()\n",
    ")\n",
    "\n",
    "# Display the updated dataframe\n",
    "rentals_new_listings_rolling_counts_milwaukee['date'] = pd.to_datetime(rentals_new_listings_rolling_counts_milwaukee['date'])\n"
   ]
  },
  {
   "cell_type": "code",
   "execution_count": 19,
   "metadata": {},
   "outputs": [
    {
     "data": {
      "image/png": "[encoded data removed]",
      "text/plain": [
       "<Figure size 1000x600 with 1 Axes>"
      ]
     },
     "metadata": {},
     "output_type": "display_data"
    }
   ],
   "source": [
    "# Set the background and line colors to match the previous plot\n",
    "fig, ax = plt.subplots(figsize=(10, 6))\n",
    "fig.patch.set_facecolor('black')\n",
    "ax.set_facecolor('black')\n",
    "\n",
    "# Define colors for the lines\n",
    "colors_line = ['#00adff','#FFFFFF','#62c1e5']\n",
    "\n",
    "# Plot the line chart for the rolling 90-day percentage change\n",
    "ax.plot(rentals_new_listings_rolling_counts_milwaukee['date'], \n",
    "        rentals_new_listings_rolling_counts_milwaukee['rolling_90_day_pct_change'], \n",
    "        label='Rolling Change in New Listings 90 days', \n",
    "        color=colors_line[0], linewidth=1.25, alpha=0.7, zorder=3)\n",
    "\n",
    "# Plot the line chart for the rolling 60-day percentage change\n",
    "ax.plot(rentals_new_listings_rolling_counts_milwaukee['date'],\n",
    "        rentals_new_listings_rolling_counts_milwaukee['rolling_60_day_pct_change'], \n",
    "        label='Rolling Change in New Listings 60 days', \n",
    "        color=colors_line[1], linewidth=1.25, alpha=0.7, zorder=3)\n",
    "\n",
    "# Plot the line chart for the rolling 30-day percentage change\n",
    "ax.plot(rentals_new_listings_rolling_counts_milwaukee['date'],\n",
    "        rentals_new_listings_rolling_counts_milwaukee['rolling_30_day_pct_change'], \n",
    "        label='Rolling Change in New Listings 30 days', \n",
    "        color=colors_line[2], linewidth=1.25, alpha=0.7, zorder=3)\n",
    "\n",
    "# Customize the spines: remove all but the bottom x-axis spine\n",
    "ax.spines['top'].set_visible(False)\n",
    "ax.spines['right'].set_visible(False)\n",
    "ax.spines['left'].set_visible(False)\n",
    "ax.spines['bottom'].set_position(('outward', 5))\n",
    "ax.spines['bottom'].set_color('white')\n",
    "\n",
    "# Label the axes with bold white text\n",
    "ax.set_xlabel('Date', color='white', fontweight='bold', fontsize=12)\n",
    "ax.set_ylabel('Change in New Listings for Rent SFH', color='white', fontweight='bold', fontsize=12)\n",
    "\n",
    "# Add gridlines\n",
    "ax.grid(axis='x', color='white', linestyle='--', linewidth=0.75, alpha=0.35, zorder=1)  \n",
    "ax.grid(axis='y', color='white', linestyle='--', linewidth=0.75, alpha=0.35, zorder=1)\n",
    "\n",
    "# Format the x-axis dates\n",
    "ax.tick_params(axis='x', colors='white')\n",
    "ax.tick_params(axis='y', colors='white')\n",
    "\n",
    "# Add line around 0 for reference\n",
    "ax.axhline(0.00, color='red', linewidth=1.5, linestyle='--', zorder=2)\n",
    "\n",
    "\n",
    "# Set the title with bold white text\n",
    "ax.set_title('Change in New Listings for Rent', color='white', fontweight='bold', fontsize=22)\n",
    "\n",
    "# Add a legend with white text, positioned in the top left corner with 3 columns\n",
    "legend = ax.legend(facecolor='black', frameon=False, framealpha=1, loc='upper left', ncol=3)\n",
    "for text in legend.get_texts():\n",
    "    text.set_color('white')\n",
    "\n",
    "# Set the y-axis limit\n",
    "ax.set_ylim(-0.15, 0.15)\n",
    "ax.set_xlim(rentals_new_listings_rolling_counts_milwaukee['date'].min(), pd.to_datetime('2024-08-30'))\n",
    "\n",
    "# Format y-axis as percentage points and make the numbers bold\n",
    "ax.yaxis.set_major_formatter(plt.FuncFormatter(lambda x, _: f'{x*100:.1f}%'))\n",
    "ax.xaxis.set_major_locator(mdates.WeekdayLocator(interval=1))  # Adjust the interval for more or fewer ticks\n",
    "ax.xaxis.set_major_formatter(mdates.DateFormatter('%Y-%m-%d'))\n",
    "ax.tick_params(axis='y', colors='white', labelsize=10)\n",
    "ax.tick_params(axis='x', colors='white', labelsize=10)\n",
    "for label in ax.get_yticklabels():\n",
    "    label.set_fontweight('bold')\n",
    "\n",
    "# Set the font family for the plot\n",
    "plt.rcParams['font.family'] = 'Arial'\n",
    "\n",
    "# Save the plot as a PNG file\n",
    "#plt.savefig('downloads/changes_single_family_rent_Milwaukee_metro.png', dpi=400, bbox_inches='tight')\n",
    "\n",
    "# Show the plot\n",
    "plt.show()\n",
    "\n"
   ]
  },
  {
   "cell_type": "markdown",
   "metadata": {},
   "source": [
    "Based on this analysis seems that the number of units in the Milwaukee metro market have been trending down which does not bode well for large SFR operators.  "
   ]
  }
 ],
 "metadata": {
  "kernelspec": {
   "display_name": "parcllabs-env",
   "language": "python",
   "name": "python3"
  },
  "language_info": {
   "codemirror_mode": {
    "name": "ipython",
    "version": 3
   },
   "file_extension": ".py",
   "mimetype": "text/x-python",
   "name": "python",
   "nbconvert_exporter": "python",
   "pygments_lexer": "ipython3",
   "version": "3.11.9"
  }
 },
 "nbformat": 4,
 "nbformat_minor": 2
}
