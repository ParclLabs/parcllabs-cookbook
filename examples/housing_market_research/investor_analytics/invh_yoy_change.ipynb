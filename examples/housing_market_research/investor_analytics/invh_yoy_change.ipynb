{
 "cells": [
  {
   "cell_type": "markdown",
   "metadata": {},
   "source": [
    "<center>\n",
    "<h1>Welcome to the Lab 🥼🧪</h1>\n",
    "</center>\n",
    "\n",
    "## Tracking Invitation Homes Activity Over Time\n",
    "\n",
    "In this notebook, we will analyze Invitation Homes activity in five tertiary markets to answer the following questions:\n",
    "- How many homes does Invitation Homes own in these markets today? How many did they own a year ago?\n",
    "- What is the rent rate that Invitation Homes is charging renters in these homes? What was it a year ago? \n",
    "- How have these metrics changed year over year?\n",
    "\n",
    "The notebook is broken up into the following sections:\n",
    "1. Import required packages and setup the Parcl Labs API key\n",
    "2. Pull Parcl IDs for Five Tertiary Markets\n",
    "3. Retrieve the Data for the Current Invitation Homes Properties\n",
    "4. Prepare the Data for the Current Invitation Homes Properties\n",
    "5. Retrieve the Data for the Nov 2023 Invitation Homes Properties\n",
    "6. Prepare the Data for the November 2023 Invitation Homes Properties\n",
    "7. Calculate the YoY Change for the Invitation Homes Portfolio in the Tertiary Markets\n",
    "\n",
    "#### What will you create in this notebook?\n",
    "\n",
    "##### Understand changes in supply and Demand YoY\n",
    "<p align=\"center\">\n",
    "  <img src=\"../../../images/INVH_YoY_Changes_tertiary_markets.png\" alt=\"Alt text\">\n",
    "</p>\n",
    "\n",
    "#### Need help getting started?\n",
    "\n",
    "**Reminders:**\n",
    "\n",
    "- You can get your Parcl Labs API key [here](https://dashboard.parcllabs.com/signup) to follow along.\n",
    "\n",
    "- To run this immediately, you can use Google Colab. Remember, you must set your `PARCL_LABS_API_KEY`. \n",
    "- To run this notebook at scale and download data for multiple markets and endpoints, you will need to upgrade your Parcl Labs API account from free to starter to get additional credits. You can easily upgrade at any time by visiting your [Parcl Labs dashboard](https://dashboard.parcllabs.com/login), clicking \"Upgrade Now\" ($99, no commitment). This will unlock more credits immediately.\n",
    "\n",
    "Run in collab --> [![Open in Colab](https://colab.research.google.com/assets/colab-badge.svg)](https://colab.research.google.com/github/ParclLabs/parcllabs-cookbook/blob/main/examples/housing_market_research/investor_analytics/invh_yoy_change.ipynb)"
   ]
  },
  {
   "cell_type": "markdown",
   "metadata": {},
   "source": [
    "### 1. Import required packages and setup the Parcl Labs API key"
   ]
  },
  {
   "cell_type": "code",
   "execution_count": null,
   "metadata": {},
   "outputs": [],
   "source": [
    "# if needed, install and/or upgrade to the latest verison of the Parcl Labs Python library\n",
    "%pip install --upgrade parcllabs nbformat"
   ]
  },
  {
   "cell_type": "code",
   "execution_count": 2,
   "metadata": {},
   "outputs": [],
   "source": [
    "import os\n",
    "import pandas as pd\n",
    "from parcllabs import ParclLabsClient\n",
    "from requests.exceptions import RequestException"
   ]
  },
  {
   "cell_type": "code",
   "execution_count": 3,
   "metadata": {},
   "outputs": [],
   "source": [
    "api_key = os.getenv('PARCL_LABS_API_KEY')\n",
    "client = ParclLabsClient(api_key, turbo_mode=True)"
   ]
  },
  {
   "cell_type": "markdown",
   "metadata": {},
   "source": [
    "### 2. Pull Parcl IDs for Five Tertiary Markets"
   ]
  },
  {
   "cell_type": "code",
   "execution_count": 4,
   "metadata": {},
   "outputs": [],
   "source": [
    "# List of markets\n",
    "queries = ['Indianapolis', 'Cincinnati', 'Columbia, SC', 'Columbus']\n",
    "\n",
    "# Empty list to store parcl_ids\n",
    "market_parcl_id_list = []\n",
    "\n",
    "# Loop through each query and make the API request\n",
    "for query in queries:\n",
    "    markets = client.search.markets.retrieve(\n",
    "        query=query,\n",
    "        location_type='CBSA'\n",
    "    )\n",
    "\n",
    "    # Append Parcl IDs\n",
    "    parcl_id = int(markets['parcl_id'].iloc[0]) if hasattr(markets, 'iloc') else markets['parcl_id']\n",
    "    market_parcl_id_list.append(parcl_id)"
   ]
  },
  {
   "cell_type": "markdown",
   "metadata": {},
   "source": [
    "### 3. Retrieve the Data for the Current Invitation Homes Properties"
   ]
  },
  {
   "cell_type": "markdown",
   "metadata": {},
   "source": [
    "In steps 3 and 4 we can leverage the property search endpoint to pull the current Invitation Homes portfolio so we pass in less properties to the events endpoint. Once we have the parcl property IDs for the homes IH currently owns in these markets, we can partition on parcl property ID and sort by event date descending to get the most recent event at those properties.\n",
    "\n",
    "Reminder that this will consume a lot of creidts at scale and you will need to upgrade your Parcl Labs API account from free to starter to get additional credits. If you would like to use less credits consider doing the analysis for only one market."
   ]
  },
  {
   "cell_type": "code",
   "execution_count": null,
   "metadata": {},
   "outputs": [],
   "source": [
    "# pass in the parcl IDs and use the invitation homes parameter to pull current IH properties in the 5 markets\n",
    "current_ih_units = client.property.search.retrieve(\n",
    "    parcl_ids=market_parcl_id_list,\n",
    "    property_type='single_family',\n",
    "    current_entity_owner_name='invitation_homes'\n",
    ")\n",
    "\n",
    "#Dataframe of properties with CBSA and Current Owner \n",
    "current_ih_units_df = current_ih_units[['parcl_property_id', 'cbsa', 'cbsa_parcl_id', 'current_entity_owner_name']]\n",
    "\n",
    "#Create Parcl Prop ID list to pass into events\n",
    "parcl_property_id_list = current_ih_units_df['parcl_property_id'].tolist()"
   ]
  },
  {
   "cell_type": "code",
   "execution_count": 6,
   "metadata": {},
   "outputs": [],
   "source": [
    "# pass in the parcl_property_id_list and use the RENTAL parameter to pull in all rental events at the properties\n",
    "rental_events = client.property.events.retrieve(\n",
    "        parcl_property_ids=parcl_property_id_list,\n",
    "        event_type='RENTAL',\n",
    "        end_date='2024-11-30'\n",
    ")"
   ]
  },
  {
   "cell_type": "markdown",
   "metadata": {},
   "source": [
    "### 4. Prepare the Data for the Current Invitation Homes Properties"
   ]
  },
  {
   "cell_type": "code",
   "execution_count": 7,
   "metadata": {},
   "outputs": [],
   "source": [
    "# Pulling only the current rent rate (either PRICE_CHANGE or LISTED_RENT) at a given property\n",
    "filtered_rental_events = rental_events[\n",
    "    rental_events['event_name'].isin(['PRICE_CHANGE', 'LISTED_RENT'])\n",
    "]\n",
    "\n",
    "filtered_rental_events = filtered_rental_events.sort_values(\n",
    "    by=['parcl_property_id', 'event_date'], ascending=[True, False]\n",
    ")\n",
    "\n",
    "latest_events_df = filtered_rental_events.drop_duplicates(\n",
    "    subset=['parcl_property_id'], keep='first'\n",
    ")\n",
    "\n",
    "latest_events_df = latest_events_df[['parcl_property_id', 'price']]"
   ]
  },
  {
   "cell_type": "code",
   "execution_count": null,
   "metadata": {},
   "outputs": [],
   "source": [
    "merged_current_props = current_ih_units_df.merge(latest_events_df, on='parcl_property_id', how='left')\n",
    "\n",
    "# Calculate inventory and rent rates\n",
    "current_state_invh = merged_current_props.groupby(['cbsa', 'current_entity_owner_name']).agg(\n",
    "    Current_Inventory=('parcl_property_id', 'count'),  # Count of 'parcl_property_id'\n",
    "    Current_Rent_Rates=('price', 'median')  # Median of 'price'\n",
    ").reset_index()\n",
    "\n",
    "# Rename columns for the final output format\n",
    "current_state_invh.rename(columns={\n",
    "    'cbsa': 'Market',\n",
    "    'current_entity_owner_name': 'Entity_Name',\n",
    "}, inplace=True)\n",
    "\n",
    "#print final current state df\n",
    "current_state_invh\n"
   ]
  },
  {
   "cell_type": "markdown",
   "metadata": {},
   "source": [
    "### 5. Retrieve the Data for the Nov 2023 Invitation Homes Properties"
   ]
  },
  {
   "cell_type": "markdown",
   "metadata": {},
   "source": [
    "In steps 5 and 6 we'll show how we can leverage the historical nature of our data to gain insight into what an operator such as Invitation Homes was doing a year ago. First we pull in all properties and event prior to 11/30/2023 in the five markets. Once we have the parcl property IDs, we can partition on parcl property ID and sort by event date descending to get the most recent event at those properties prior to 11/30/23. Once we have the most recent events prior to 11/30/23, we can filter on owner to identify whether or not IH owned the homes at the time of that event. Once we've zeroed in on the universe we can continue with the analysis. Reminder that this process will consume millions of credits due to the amount of data we need to pull from the API for this analysis."
   ]
  },
  {
   "cell_type": "code",
   "execution_count": 9,
   "metadata": {},
   "outputs": [],
   "source": [
    "# Since we want a point in time portfolio analysis (Nov 2023), we cannot pull the current IH portfolio to truncate this query and must grab all units in the five markets, a much larger query\n",
    "total_market_units = client.property.search.retrieve(\n",
    "    parcl_ids=market_parcl_id_list,\n",
    "    property_type='single_family'\n",
    ")\n",
    "\n",
    "#Dataframe of properties with CBSA and Current Owner \n",
    "total_market_units = total_market_units[['parcl_property_id', 'cbsa', 'cbsa_parcl_id', 'property_type']]\n",
    "\n",
    "#Parcl Prop ID list to pass into events\n",
    "total_unit_list = total_market_units['parcl_property_id'].tolist()"
   ]
  },
  {
   "cell_type": "code",
   "execution_count": 10,
   "metadata": {},
   "outputs": [],
   "source": [
    "# pass in the parcl_property_id_list to pull in all events in the five markets through November 2023\n",
    "\n",
    "market_events_2023 = client.property.events.retrieve(\n",
    "        parcl_property_ids=total_unit_list,\n",
    "        end_date='2023-11-30'\n",
    ")"
   ]
  },
  {
   "cell_type": "markdown",
   "metadata": {},
   "source": [
    "### 6. Prepare the Data for the November 2023 Invitation Homes Properties"
   ]
  },
  {
   "cell_type": "code",
   "execution_count": 11,
   "metadata": {},
   "outputs": [],
   "source": [
    "# Pulling only the latest eventat every property prior to November 2023\n",
    "latest_2023_event = market_events_2023.sort_values(\n",
    "    by=['parcl_property_id', 'event_date'], ascending=[True, False]\n",
    ")\n",
    "\n",
    "latest_2023_event_dedupe = latest_2023_event.drop_duplicates(\n",
    "    subset=['parcl_property_id'], keep='first'\n",
    ")"
   ]
  },
  {
   "cell_type": "code",
   "execution_count": 12,
   "metadata": {},
   "outputs": [],
   "source": [
    "# find the props owned by IH at the time\n",
    "\n",
    "props_owned_by_ih_nov_2023 = latest_2023_event_dedupe[\n",
    "    latest_2023_event_dedupe['entity_owner_name'].isin(['INVITATION_HOMES'])\n",
    "]"
   ]
  },
  {
   "cell_type": "code",
   "execution_count": 13,
   "metadata": {},
   "outputs": [],
   "source": [
    "# Merge the two DataFrames on 'parcl_property_id'\n",
    "parcls_events_ih = props_owned_by_ih_nov_2023.merge(total_market_units, on='parcl_property_id', how='inner')\n",
    "\n",
    "# Select only the columns 'parcl_property_id', 'cbsa', 'price', and 'entity_owner_name'\n",
    "final_events = parcls_events_ih[['parcl_property_id', 'cbsa', 'entity_owner_name', 'transfer_index']]\n",
    "\n",
    "# Filter latest_2023_event_dedupe for rows where event_type is 'RENTAL' and event_name is either 'LISTED_RENT' or 'PRICE_CHANGE'\n",
    "rentals_2023 = latest_2023_event_dedupe[\n",
    "    (latest_2023_event_dedupe['event_type'] == 'RENTAL') &\n",
    "    (latest_2023_event_dedupe['event_name'].isin(['LISTED_RENT', 'PRICE_CHANGE'])) &\n",
    "    (latest_2023_event_dedupe['price'] <= 8000)\n",
    "]\n",
    "\n",
    "# Select only the columns needed for the join\n",
    "rentals_2023 = rentals_2023[['parcl_property_id', 'transfer_index', 'price']]\n",
    "\n",
    "# Perform a left join on final_events with filtered_latest_2023 using 'parcl_property_id' and 'transfer_index'\n",
    "final_events_with_prices = final_events.merge(\n",
    "    rentals_2023,\n",
    "    on=['parcl_property_id', 'transfer_index'],\n",
    "    how='left',\n",
    "    suffixes=('', '_rental')  # to avoid column name conflicts if needed\n",
    ")"
   ]
  },
  {
   "cell_type": "code",
   "execution_count": null,
   "metadata": {},
   "outputs": [],
   "source": [
    "# Calculate IH 2023 inventory and rent rates\n",
    "invh_2023 = final_events_with_prices.groupby(['cbsa', 'entity_owner_name']).agg(\n",
    "    November_2023_Inventory=('parcl_property_id', 'count'),  # Count of 'parcl_property_id'\n",
    "    November_2023_Rent_Rates=('price', 'median')  # Median of 'price'\n",
    ").reset_index()\n",
    "\n",
    "# Rename columns for the final output format\n",
    "invh_2023.rename(columns={\n",
    "    'cbsa': 'Market',\n",
    "    'entity_owner_name': 'Entity_Name',\n",
    "}, inplace=True)\n",
    "\n",
    "invh_2023"
   ]
  },
  {
   "cell_type": "markdown",
   "metadata": {},
   "source": [
    "### 7. Calculate the YoY Change for the Invitation Homes Portfolio in the Tertiary Markets"
   ]
  },
  {
   "cell_type": "code",
   "execution_count": null,
   "metadata": {},
   "outputs": [],
   "source": [
    "# Calc the YoY changes\n",
    "YoY_changes = pd.merge(\n",
    "    invh_2023,\n",
    "    current_state_invh,\n",
    "    on=['Market', 'Entity_Name'],\n",
    "    how='left'\n",
    ")\n",
    "\n",
    "# Calculate YoY Inventory Change and YoY Rent Change\n",
    "YoY_changes['YoY Inventory Change'] = ((YoY_changes['Current_Inventory'] - YoY_changes['November_2023_Inventory']) \n",
    "                                     / YoY_changes['November_2023_Inventory']) * 100\n",
    "YoY_changes['YoY Rent Change'] = ((YoY_changes['Current_Rent_Rates'] - YoY_changes['November_2023_Rent_Rates']) \n",
    "                                / YoY_changes['November_2023_Rent_Rates']) * 100\n",
    "\n",
    "# Rename columns for the final output\n",
    "YoY_changes.rename(columns={\n",
    "    'November_2023_Inventory': 'November 2023 Inventory',\n",
    "    'Current_Inventory': 'Current Inventory',\n",
    "    'November_2023_Rent_Rates': 'November 2023 Rent Rates',\n",
    "    'Current_Rent_Rates': 'Current Rent Rates'\n",
    "}, inplace=True)\n",
    "\n",
    "# Reorder columns to match the desired format\n",
    "final = YoY_changes[['Market', 'Entity_Name', 'November 2023 Inventory', 'Current Inventory', \n",
    "                      'YoY Inventory Change', 'November 2023 Rent Rates', 'Current Rent Rates', \n",
    "                      'YoY Rent Change']]\n",
    "\n",
    "# Export the final DataFrame to CSV\n",
    "final.to_csv('final_market_data.csv', index=False)\n",
    "\n",
    "# Display the final DataFrame to confirm\n",
    "final"
   ]
  }
 ],
 "metadata": {
  "kernelspec": {
   "display_name": "parcllabs-env",
   "language": "python",
   "name": "python3"
  },
  "language_info": {
   "codemirror_mode": {
    "name": "ipython",
    "version": 3
   },
   "file_extension": ".py",
   "mimetype": "text/x-python",
   "name": "python",
   "nbconvert_exporter": "python",
   "pygments_lexer": "ipython3",
   "version": "3.11.9"
  }
 },
 "nbformat": 4,
 "nbformat_minor": 2
}
