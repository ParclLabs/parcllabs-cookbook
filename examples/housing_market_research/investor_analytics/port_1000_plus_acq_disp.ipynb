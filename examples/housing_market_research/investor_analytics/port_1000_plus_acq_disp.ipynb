{
 "cells": [
  {
   "cell_type": "markdown",
   "id": "00775985-42bd-4ebc-87d6-6a8abbe0035a",
   "metadata": {},
   "source": [
    "# Welcome to the Lab 🥼🧪\n",
    "\n",
    "## 1000+ Portfolio Acquisitions/Dispositions Analysis\n",
    "\n",
    "We will be examining 1000+ portfolio acquisitions, dispositions, and resale inventory. Let's begin. \n",
    "\n",
    "**Note** This notebook will work with any of the 70k+ markets supported by the Parcl Labs API.\n",
    "\n",
    "As a reminder, you can get your Parcl Labs API key [here](https://dashboard.parcllabs.com/signup) to follow along. \n",
    "\n",
    "To run this immediately, you can use Google Colab. Remember, you must set your `PARCL_LABS_API_KEY` as a secret. See this [guide](https://medium.com/@parthdasawant/how-to-use-secrets-in-google-colab-450c38e3ec75) for more information.\n",
    "\n",
    "[![Open in Colab](https://colab.research.google.com/assets/colab-badge.svg)](https://colab.research.google.com/github/ParclLabs/parcllabs-examples/blob/main/python/inspiration/investors/port_1000_plus_acq_disp.ipynb)"
   ]
  },
  {
   "cell_type": "markdown",
   "id": "6726c337",
   "metadata": {},
   "source": [
    "### 1. Import the Parcl Labs Python Library"
   ]
  },
  {
   "cell_type": "code",
   "execution_count": null,
   "id": "033ffe6b",
   "metadata": {},
   "outputs": [],
   "source": [
    "# if needed, install and/or upgrade to the latest verison of the Parcl Labs Python library\n",
    "%pip install --upgrade parcllabs"
   ]
  },
  {
   "cell_type": "code",
   "execution_count": 3,
   "id": "cd87dd1d-b6d0-491c-922a-88e9a75cdb49",
   "metadata": {},
   "outputs": [],
   "source": [
    "# Environment setup\n",
    "import os\n",
    "import pandas as pd\n",
    "from parcllabs import ParclLabsClient\n",
    "\n",
    "client = ParclLabsClient(\n",
    "    api_key=os.environ.get('PARCL_LABS_API_KEY', \"<your Parcl Labs API key if not set as environment variable>\"), \n",
    "    limit=12 # set default limit\n",
    ")"
   ]
  },
  {
   "cell_type": "markdown",
   "id": "b99ea208",
   "metadata": {},
   "source": [
    "### 2. Search for Markets"
   ]
  },
  {
   "cell_type": "code",
   "execution_count": 4,
   "id": "79f8e9fc-73e0-4c53-88ff-1fdd92b95849",
   "metadata": {},
   "outputs": [
    {
     "data": {
      "text/html": [
       "<div>\n",
       "<style scoped>\n",
       "    .dataframe tbody tr th:only-of-type {\n",
       "        vertical-align: middle;\n",
       "    }\n",
       "\n",
       "    .dataframe tbody tr th {\n",
       "        vertical-align: top;\n",
       "    }\n",
       "\n",
       "    .dataframe thead th {\n",
       "        text-align: right;\n",
       "    }\n",
       "</style>\n",
       "<table border=\"1\" class=\"dataframe\">\n",
       "  <thead>\n",
       "    <tr style=\"text-align: right;\">\n",
       "      <th></th>\n",
       "      <th>parcl_id</th>\n",
       "      <th>country</th>\n",
       "      <th>geoid</th>\n",
       "      <th>state_fips_code</th>\n",
       "      <th>name</th>\n",
       "      <th>state_abbreviation</th>\n",
       "      <th>region</th>\n",
       "      <th>location_type</th>\n",
       "      <th>total_population</th>\n",
       "      <th>median_income</th>\n",
       "      <th>parcl_exchange_market</th>\n",
       "      <th>pricefeed_market</th>\n",
       "      <th>case_shiller_10_market</th>\n",
       "      <th>case_shiller_20_market</th>\n",
       "    </tr>\n",
       "  </thead>\n",
       "  <tbody>\n",
       "    <tr>\n",
       "      <th>0</th>\n",
       "      <td>2900187</td>\n",
       "      <td>USA</td>\n",
       "      <td>35620</td>\n",
       "      <td>None</td>\n",
       "      <td>New York-Newark-Jersey City, Ny-Nj-Pa</td>\n",
       "      <td>None</td>\n",
       "      <td>None</td>\n",
       "      <td>CBSA</td>\n",
       "      <td>19908595</td>\n",
       "      <td>93610</td>\n",
       "      <td>0</td>\n",
       "      <td>1</td>\n",
       "      <td>1</td>\n",
       "      <td>1</td>\n",
       "    </tr>\n",
       "    <tr>\n",
       "      <th>1</th>\n",
       "      <td>2900078</td>\n",
       "      <td>USA</td>\n",
       "      <td>31080</td>\n",
       "      <td>None</td>\n",
       "      <td>Los Angeles-Long Beach-Anaheim, Ca</td>\n",
       "      <td>None</td>\n",
       "      <td>None</td>\n",
       "      <td>CBSA</td>\n",
       "      <td>13111917</td>\n",
       "      <td>89105</td>\n",
       "      <td>0</td>\n",
       "      <td>1</td>\n",
       "      <td>1</td>\n",
       "      <td>1</td>\n",
       "    </tr>\n",
       "    <tr>\n",
       "      <th>2</th>\n",
       "      <td>2899845</td>\n",
       "      <td>USA</td>\n",
       "      <td>16980</td>\n",
       "      <td>None</td>\n",
       "      <td>Chicago-Naperville-Elgin, Il-In-Wi</td>\n",
       "      <td>None</td>\n",
       "      <td>None</td>\n",
       "      <td>CBSA</td>\n",
       "      <td>9566955</td>\n",
       "      <td>85087</td>\n",
       "      <td>0</td>\n",
       "      <td>1</td>\n",
       "      <td>1</td>\n",
       "      <td>1</td>\n",
       "    </tr>\n",
       "    <tr>\n",
       "      <th>3</th>\n",
       "      <td>2899734</td>\n",
       "      <td>USA</td>\n",
       "      <td>19100</td>\n",
       "      <td>None</td>\n",
       "      <td>Dallas-Fort Worth-Arlington, Tx</td>\n",
       "      <td>None</td>\n",
       "      <td>None</td>\n",
       "      <td>CBSA</td>\n",
       "      <td>7673379</td>\n",
       "      <td>83398</td>\n",
       "      <td>0</td>\n",
       "      <td>1</td>\n",
       "      <td>0</td>\n",
       "      <td>1</td>\n",
       "    </tr>\n",
       "    <tr>\n",
       "      <th>4</th>\n",
       "      <td>2899967</td>\n",
       "      <td>USA</td>\n",
       "      <td>26420</td>\n",
       "      <td>None</td>\n",
       "      <td>Houston-The Woodlands-Sugar Land, Tx</td>\n",
       "      <td>None</td>\n",
       "      <td>None</td>\n",
       "      <td>CBSA</td>\n",
       "      <td>7142603</td>\n",
       "      <td>78061</td>\n",
       "      <td>0</td>\n",
       "      <td>1</td>\n",
       "      <td>0</td>\n",
       "      <td>0</td>\n",
       "    </tr>\n",
       "  </tbody>\n",
       "</table>\n",
       "</div>"
      ],
      "text/plain": [
       "   parcl_id country  geoid state_fips_code  \\\n",
       "0   2900187     USA  35620            None   \n",
       "1   2900078     USA  31080            None   \n",
       "2   2899845     USA  16980            None   \n",
       "3   2899734     USA  19100            None   \n",
       "4   2899967     USA  26420            None   \n",
       "\n",
       "                                    name state_abbreviation region  \\\n",
       "0  New York-Newark-Jersey City, Ny-Nj-Pa               None   None   \n",
       "1     Los Angeles-Long Beach-Anaheim, Ca               None   None   \n",
       "2     Chicago-Naperville-Elgin, Il-In-Wi               None   None   \n",
       "3        Dallas-Fort Worth-Arlington, Tx               None   None   \n",
       "4   Houston-The Woodlands-Sugar Land, Tx               None   None   \n",
       "\n",
       "  location_type  total_population  median_income  parcl_exchange_market  \\\n",
       "0          CBSA          19908595          93610                      0   \n",
       "1          CBSA          13111917          89105                      0   \n",
       "2          CBSA           9566955          85087                      0   \n",
       "3          CBSA           7673379          83398                      0   \n",
       "4          CBSA           7142603          78061                      0   \n",
       "\n",
       "   pricefeed_market  case_shiller_10_market  case_shiller_20_market  \n",
       "0                 1                       1                       1  \n",
       "1                 1                       1                       1  \n",
       "2                 1                       1                       1  \n",
       "3                 1                       0                       1  \n",
       "4                 1                       0                       0  "
      ]
     },
     "execution_count": 4,
     "metadata": {},
     "output_type": "execute_result"
    }
   ],
   "source": [
    "# Get top 100 CBSAs by population\n",
    "markets = client.search.markets.retrieve(\n",
    "    location_type='CBSA',\n",
    "    sort_by='TOTAL_POPULATION',\n",
    "    sort_order='DESC',\n",
    "    limit=100\n",
    ")\n",
    "\n",
    "markets.head()"
   ]
  },
  {
   "cell_type": "markdown",
   "id": "d1069156",
   "metadata": {},
   "source": [
    "### 3. Retrieve the Data"
   ]
  },
  {
   "cell_type": "code",
   "execution_count": 6,
   "id": "21cba39a-a2fc-4007-ab26-7e93af97e6ab",
   "metadata": {},
   "outputs": [
    {
     "name": "stdout",
     "output_type": "stream",
     "text": [
      "|████████████████████████████████████████| 100/100 [100%] in 7.6s (13.14/s) \n"
     ]
    }
   ],
   "source": [
    "# get housing events for top 100 CBSA's for \n",
    "# portfolios of 1000 or more units\n",
    "# get the most recent data from April\n",
    "\n",
    "data = client.portfolio_metrics.sf_housing_event_counts.retrieve(\n",
    "    parcl_ids=markets['parcl_id'].tolist(),\n",
    "    portfolio_size='PORTFOLIO_1000_PLUS',\n",
    "    limit=1\n",
    ")"
   ]
  },
  {
   "cell_type": "markdown",
   "id": "7c0926bf",
   "metadata": {},
   "source": [
    "### 4. Prepare the Data"
   ]
  },
  {
   "cell_type": "code",
   "execution_count": 24,
   "id": "9e5c9e45",
   "metadata": {},
   "outputs": [
    {
     "data": {
      "text/html": [
       "<div>\n",
       "<style scoped>\n",
       "    .dataframe tbody tr th:only-of-type {\n",
       "        vertical-align: middle;\n",
       "    }\n",
       "\n",
       "    .dataframe tbody tr th {\n",
       "        vertical-align: top;\n",
       "    }\n",
       "\n",
       "    .dataframe thead th {\n",
       "        text-align: right;\n",
       "    }\n",
       "</style>\n",
       "<table border=\"1\" class=\"dataframe\">\n",
       "  <thead>\n",
       "    <tr style=\"text-align: right;\">\n",
       "      <th></th>\n",
       "      <th>date</th>\n",
       "      <th>acquisitions</th>\n",
       "      <th>dispositions</th>\n",
       "      <th>new_listings_for_sale</th>\n",
       "      <th>new_rental_listings</th>\n",
       "      <th>parcl_id</th>\n",
       "      <th>portfolio_size</th>\n",
       "      <th>name</th>\n",
       "    </tr>\n",
       "  </thead>\n",
       "  <tbody>\n",
       "    <tr>\n",
       "      <th>0</th>\n",
       "      <td>2024-05-01</td>\n",
       "      <td>17</td>\n",
       "      <td>14</td>\n",
       "      <td>12</td>\n",
       "      <td>1</td>\n",
       "      <td>2900187</td>\n",
       "      <td>PORTFOLIO_1000_PLUS</td>\n",
       "      <td>New York-Newark-Jersey City, Ny-Nj-Pa</td>\n",
       "    </tr>\n",
       "    <tr>\n",
       "      <th>1</th>\n",
       "      <td>2024-05-01</td>\n",
       "      <td>13</td>\n",
       "      <td>19</td>\n",
       "      <td>13</td>\n",
       "      <td>59</td>\n",
       "      <td>2900078</td>\n",
       "      <td>PORTFOLIO_1000_PLUS</td>\n",
       "      <td>Los Angeles-Long Beach-Anaheim, Ca</td>\n",
       "    </tr>\n",
       "    <tr>\n",
       "      <th>2</th>\n",
       "      <td>2024-05-01</td>\n",
       "      <td>99</td>\n",
       "      <td>50</td>\n",
       "      <td>35</td>\n",
       "      <td>146</td>\n",
       "      <td>2899845</td>\n",
       "      <td>PORTFOLIO_1000_PLUS</td>\n",
       "      <td>Chicago-Naperville-Elgin, Il-In-Wi</td>\n",
       "    </tr>\n",
       "    <tr>\n",
       "      <th>3</th>\n",
       "      <td>2024-05-01</td>\n",
       "      <td>111</td>\n",
       "      <td>136</td>\n",
       "      <td>181</td>\n",
       "      <td>1478</td>\n",
       "      <td>2899734</td>\n",
       "      <td>PORTFOLIO_1000_PLUS</td>\n",
       "      <td>Dallas-Fort Worth-Arlington, Tx</td>\n",
       "    </tr>\n",
       "    <tr>\n",
       "      <th>4</th>\n",
       "      <td>2024-05-01</td>\n",
       "      <td>83</td>\n",
       "      <td>65</td>\n",
       "      <td>114</td>\n",
       "      <td>822</td>\n",
       "      <td>2899967</td>\n",
       "      <td>PORTFOLIO_1000_PLUS</td>\n",
       "      <td>Houston-The Woodlands-Sugar Land, Tx</td>\n",
       "    </tr>\n",
       "  </tbody>\n",
       "</table>\n",
       "</div>"
      ],
      "text/plain": [
       "        date  acquisitions  dispositions  new_listings_for_sale  \\\n",
       "0 2024-05-01            17            14                     12   \n",
       "1 2024-05-01            13            19                     13   \n",
       "2 2024-05-01            99            50                     35   \n",
       "3 2024-05-01           111           136                    181   \n",
       "4 2024-05-01            83            65                    114   \n",
       "\n",
       "   new_rental_listings parcl_id       portfolio_size  \\\n",
       "0                    1  2900187  PORTFOLIO_1000_PLUS   \n",
       "1                   59  2900078  PORTFOLIO_1000_PLUS   \n",
       "2                  146  2899845  PORTFOLIO_1000_PLUS   \n",
       "3                 1478  2899734  PORTFOLIO_1000_PLUS   \n",
       "4                  822  2899967  PORTFOLIO_1000_PLUS   \n",
       "\n",
       "                                    name  \n",
       "0  New York-Newark-Jersey City, Ny-Nj-Pa  \n",
       "1     Los Angeles-Long Beach-Anaheim, Ca  \n",
       "2     Chicago-Naperville-Elgin, Il-In-Wi  \n",
       "3        Dallas-Fort Worth-Arlington, Tx  \n",
       "4   Houston-The Woodlands-Sugar Land, Tx  "
      ]
     },
     "execution_count": 24,
     "metadata": {},
     "output_type": "execute_result"
    }
   ],
   "source": [
    "# join with market name for friendly display\n",
    "df = data.merge(markets[['name', 'parcl_id']], on='parcl_id')\n",
    "df.head()"
   ]
  },
  {
   "cell_type": "code",
   "execution_count": 25,
   "id": "785a81f0",
   "metadata": {},
   "outputs": [],
   "source": [
    "# capture the net acquisitions (are they net buyers or net sellers in a given market)\n",
    "df['net'] = df['acquisitions'] - df['dispositions']\n",
    "# format col names\n",
    "df = df.rename(columns={\n",
    "    'name': 'Metro',\n",
    "    'acquisitions': 'Acquisitions',\n",
    "    'dispositions': 'Dispositions',\n",
    "    'net': 'Net',\n",
    "    'new_listings_for_sale': 'New Listings for Sale',\n",
    "    'new_rental_listings': 'New Rental Listings'\n",
    "})\n",
    "\n",
    "# sort on acquisitions to show the most acquiriing markets first\n",
    "df = df.sort_values(by='Acquisitions', ascending=False)"
   ]
  },
  {
   "cell_type": "code",
   "execution_count": 26,
   "id": "cafc936b",
   "metadata": {},
   "outputs": [
    {
     "data": {
      "text/html": [
       "<div>\n",
       "<style scoped>\n",
       "    .dataframe tbody tr th:only-of-type {\n",
       "        vertical-align: middle;\n",
       "    }\n",
       "\n",
       "    .dataframe tbody tr th {\n",
       "        vertical-align: top;\n",
       "    }\n",
       "\n",
       "    .dataframe thead th {\n",
       "        text-align: right;\n",
       "    }\n",
       "</style>\n",
       "<table border=\"1\" class=\"dataframe\">\n",
       "  <thead>\n",
       "    <tr style=\"text-align: right;\">\n",
       "      <th></th>\n",
       "      <th>Metro</th>\n",
       "      <th>date</th>\n",
       "      <th>Acquisitions</th>\n",
       "      <th>Dispositions</th>\n",
       "      <th>Net</th>\n",
       "      <th>New Listings for Sale</th>\n",
       "      <th>New Rental Listings</th>\n",
       "    </tr>\n",
       "  </thead>\n",
       "  <tbody>\n",
       "    <tr>\n",
       "      <th>28</th>\n",
       "      <td>Las Vegas-Henderson-Paradise, Nv</td>\n",
       "      <td>2024-05-01</td>\n",
       "      <td>322</td>\n",
       "      <td>299</td>\n",
       "      <td>23</td>\n",
       "      <td>63</td>\n",
       "      <td>539</td>\n",
       "    </tr>\n",
       "    <tr>\n",
       "      <th>8</th>\n",
       "      <td>Atlanta-Sandy Springs-Alpharetta, Ga</td>\n",
       "      <td>2024-05-01</td>\n",
       "      <td>189</td>\n",
       "      <td>95</td>\n",
       "      <td>94</td>\n",
       "      <td>274</td>\n",
       "      <td>3151</td>\n",
       "    </tr>\n",
       "    <tr>\n",
       "      <th>10</th>\n",
       "      <td>Phoenix-Mesa-Chandler, Az</td>\n",
       "      <td>2024-05-01</td>\n",
       "      <td>134</td>\n",
       "      <td>105</td>\n",
       "      <td>29</td>\n",
       "      <td>108</td>\n",
       "      <td>1450</td>\n",
       "    </tr>\n",
       "    <tr>\n",
       "      <th>38</th>\n",
       "      <td>Jacksonville, Fl</td>\n",
       "      <td>2024-05-01</td>\n",
       "      <td>119</td>\n",
       "      <td>108</td>\n",
       "      <td>11</td>\n",
       "      <td>71</td>\n",
       "      <td>846</td>\n",
       "    </tr>\n",
       "    <tr>\n",
       "      <th>22</th>\n",
       "      <td>Charlotte-Concord-Gastonia, Nc-Sc</td>\n",
       "      <td>2024-05-01</td>\n",
       "      <td>118</td>\n",
       "      <td>107</td>\n",
       "      <td>11</td>\n",
       "      <td>107</td>\n",
       "      <td>1091</td>\n",
       "    </tr>\n",
       "    <tr>\n",
       "      <th>17</th>\n",
       "      <td>Tampa-St. Petersburg-Clearwater, Fl</td>\n",
       "      <td>2024-05-01</td>\n",
       "      <td>113</td>\n",
       "      <td>90</td>\n",
       "      <td>23</td>\n",
       "      <td>115</td>\n",
       "      <td>1138</td>\n",
       "    </tr>\n",
       "    <tr>\n",
       "      <th>3</th>\n",
       "      <td>Dallas-Fort Worth-Arlington, Tx</td>\n",
       "      <td>2024-05-01</td>\n",
       "      <td>111</td>\n",
       "      <td>136</td>\n",
       "      <td>-25</td>\n",
       "      <td>181</td>\n",
       "      <td>1478</td>\n",
       "    </tr>\n",
       "    <tr>\n",
       "      <th>13</th>\n",
       "      <td>Detroit-Warren-Dearborn, Mi</td>\n",
       "      <td>2024-05-01</td>\n",
       "      <td>103</td>\n",
       "      <td>125</td>\n",
       "      <td>-22</td>\n",
       "      <td>30</td>\n",
       "      <td>15</td>\n",
       "    </tr>\n",
       "    <tr>\n",
       "      <th>2</th>\n",
       "      <td>Chicago-Naperville-Elgin, Il-In-Wi</td>\n",
       "      <td>2024-05-01</td>\n",
       "      <td>99</td>\n",
       "      <td>50</td>\n",
       "      <td>49</td>\n",
       "      <td>35</td>\n",
       "      <td>146</td>\n",
       "    </tr>\n",
       "    <tr>\n",
       "      <th>32</th>\n",
       "      <td>Indianapolis-Carmel-Anderson, In</td>\n",
       "      <td>2024-05-01</td>\n",
       "      <td>83</td>\n",
       "      <td>77</td>\n",
       "      <td>6</td>\n",
       "      <td>57</td>\n",
       "      <td>534</td>\n",
       "    </tr>\n",
       "  </tbody>\n",
       "</table>\n",
       "</div>"
      ],
      "text/plain": [
       "                                   Metro       date  Acquisitions  \\\n",
       "28      Las Vegas-Henderson-Paradise, Nv 2024-05-01           322   \n",
       "8   Atlanta-Sandy Springs-Alpharetta, Ga 2024-05-01           189   \n",
       "10             Phoenix-Mesa-Chandler, Az 2024-05-01           134   \n",
       "38                      Jacksonville, Fl 2024-05-01           119   \n",
       "22     Charlotte-Concord-Gastonia, Nc-Sc 2024-05-01           118   \n",
       "17   Tampa-St. Petersburg-Clearwater, Fl 2024-05-01           113   \n",
       "3        Dallas-Fort Worth-Arlington, Tx 2024-05-01           111   \n",
       "13           Detroit-Warren-Dearborn, Mi 2024-05-01           103   \n",
       "2     Chicago-Naperville-Elgin, Il-In-Wi 2024-05-01            99   \n",
       "32      Indianapolis-Carmel-Anderson, In 2024-05-01            83   \n",
       "\n",
       "    Dispositions  Net  New Listings for Sale  New Rental Listings  \n",
       "28           299   23                     63                  539  \n",
       "8             95   94                    274                 3151  \n",
       "10           105   29                    108                 1450  \n",
       "38           108   11                     71                  846  \n",
       "22           107   11                    107                 1091  \n",
       "17            90   23                    115                 1138  \n",
       "3            136  -25                    181                 1478  \n",
       "13           125  -22                     30                   15  \n",
       "2             50   49                     35                  146  \n",
       "32            77    6                     57                  534  "
      ]
     },
     "execution_count": 26,
     "metadata": {},
     "output_type": "execute_result"
    }
   ],
   "source": [
    "# reorder columns for friendly display\n",
    "df = df[['Metro', 'date', 'Acquisitions', 'Dispositions', 'Net', 'New Listings for Sale', 'New Rental Listings']]\n",
    "df.head(10)"
   ]
  },
  {
   "cell_type": "markdown",
   "id": "c3f6b992",
   "metadata": {},
   "source": [
    "### 5. Save the Data"
   ]
  },
  {
   "cell_type": "code",
   "execution_count": null,
   "id": "731cbce6",
   "metadata": {},
   "outputs": [],
   "source": [
    "# save to csv file\n",
    "df.to_csv('top_100_cbsas_institutional_sfh_events.csv', index=False)"
   ]
  },
  {
   "cell_type": "markdown",
   "id": "18349e39",
   "metadata": {},
   "source": [
    "### 6. OPTIONAL: Chart the Data"
   ]
  },
  {
   "cell_type": "code",
   "execution_count": 28,
   "id": "a780c724",
   "metadata": {},
   "outputs": [],
   "source": [
    "# chart top 25 markets based on acquisitions\n",
    "charting_data = df.sort_values(by='Acquisitions', ascending=False).head(25)"
   ]
  },
  {
   "cell_type": "code",
   "execution_count": 40,
   "id": "d67a579a",
   "metadata": {},
   "outputs": [
    {
     "data": {
      "application/vnd.plotly.v1+json": {
       "config": {
        "plotlyServerURL": "https://plot.ly"
       },
       "data": [
        {
         "cells": {
          "align": "center",
          "fill": {
           "color": [
            [
             "#000000",
             "#000000",
             "#000000",
             "#000000",
             "#000000",
             "#000000",
             "#000000",
             "#000000",
             "#000000",
             "#000000",
             "#000000",
             "#000000",
             "#000000",
             "#000000",
             "#000000",
             "#000000",
             "#000000",
             "#000000",
             "#000000",
             "#000000",
             "#000000",
             "#000000",
             "#000000",
             "#000000",
             "#000000"
            ],
            [
             "rgba(46, 64, 87, 1.0)",
             "rgba(46, 64, 87, 0.5413793103448276)",
             "rgba(46, 64, 87, 0.35172413793103446)",
             "rgba(46, 64, 87, 0.3)",
             "rgba(46, 64, 87, 0.296551724137931)",
             "rgba(46, 64, 87, 0.2793103448275862)",
             "rgba(46, 64, 87, 0.27241379310344827)",
             "rgba(46, 64, 87, 0.24482758620689654)",
             "rgba(46, 64, 87, 0.23103448275862068)",
             "rgba(46, 64, 87, 0.17586206896551723)",
             "rgba(46, 64, 87, 0.17586206896551723)",
             "rgba(46, 64, 87, 0.17586206896551723)",
             "rgba(46, 64, 87, 0.1724137931034483)",
             "rgba(46, 64, 87, 0.16551724137931034)",
             "rgba(46, 64, 87, 0.09655172413793103)",
             "rgba(46, 64, 87, 0.0896551724137931)",
             "rgba(46, 64, 87, 0.06206896551724138)",
             "rgba(46, 64, 87, 0.06206896551724138)",
             "rgba(46, 64, 87, 0.05517241379310345)",
             "rgba(46, 64, 87, 0.013793103448275862)",
             "rgba(46, 64, 87, 0.013793103448275862)",
             "rgba(46, 64, 87, 0.013793103448275862)",
             "rgba(46, 64, 87, 0.010344827586206896)",
             "rgba(46, 64, 87, 0.010344827586206896)",
             "rgba(46, 64, 87, 0.0)"
            ],
            [
             "rgba(59, 81, 106, 1.0)",
             "rgba(59, 81, 106, 0.25274725274725274)",
             "rgba(59, 81, 106, 0.2893772893772894)",
             "rgba(59, 81, 106, 0.30036630036630035)",
             "rgba(59, 81, 106, 0.2967032967032967)",
             "rgba(59, 81, 106, 0.23443223443223443)",
             "rgba(59, 81, 106, 0.40293040293040294)",
             "rgba(59, 81, 106, 0.3626373626373626)",
             "rgba(59, 81, 106, 0.08791208791208792)",
             "rgba(59, 81, 106, 0.18681318681318682)",
             "rgba(59, 81, 106, 0.2454212454212454)",
             "rgba(59, 81, 106, 0.14285714285714285)",
             "rgba(59, 81, 106, 0.14652014652014653)",
             "rgba(59, 81, 106, 0.1684981684981685)",
             "rgba(59, 81, 106, 0.0695970695970696)",
             "rgba(59, 81, 106, 0.15018315018315018)",
             "rgba(59, 81, 106, 0.08424908424908426)",
             "rgba(59, 81, 106, 0.029304029304029304)",
             "rgba(59, 81, 106, 0.0695970695970696)",
             "rgba(59, 81, 106, 0.01098901098901099)",
             "rgba(59, 81, 106, 0.05860805860805861)",
             "rgba(59, 81, 106, 0.03663003663003663)",
             "rgba(59, 81, 106, 0.047619047619047616)",
             "rgba(59, 81, 106, 0.03663003663003663)",
             "rgba(59, 81, 106, 0.0)"
            ],
            [
             "rgba(72, 99, 125, 0.22140221402214022)",
             "rgba(72, 99, 125, 1.0)",
             "rgba(72, 99, 125, 0.3874538745387454)",
             "rgba(72, 99, 125, 0.25092250922509224)",
             "rgba(72, 99, 125, 0.3837638376383764)",
             "rgba(72, 99, 125, 0.4132841328413284)",
             "rgba(72, 99, 125, 0.6568265682656826)",
             "rgba(72, 99, 125, 0.0996309963099631)",
             "rgba(72, 99, 125, 0.11808118081180811)",
             "rgba(72, 99, 125, 0.1992619926199262)",
             "rgba(72, 99, 125, 0.0996309963099631)",
             "rgba(72, 99, 125, 0.4095940959409594)",
             "rgba(72, 99, 125, 0.22140221402214022)",
             "rgba(72, 99, 125, 0.06642066420664207)",
             "rgba(72, 99, 125, 0.0)",
             "rgba(72, 99, 125, 0.04797047970479705)",
             "rgba(72, 99, 125, 0.033210332103321034)",
             "rgba(72, 99, 125, 0.055350553505535055)",
             "rgba(72, 99, 125, 0.15867158671586715)",
             "rgba(72, 99, 125, 0.11808118081180811)",
             "rgba(72, 99, 125, 0.1033210332103321)",
             "rgba(72, 99, 125, 0.31365313653136534)",
             "rgba(72, 99, 125, 0.1033210332103321)",
             "rgba(72, 99, 125, 0.18081180811808117)",
             "rgba(72, 99, 125, 0.08118081180811808)"
            ],
            [
             "rgba(84, 117, 144, 0.16709183673469388)",
             "rgba(84, 117, 144, 1.0)",
             "rgba(84, 117, 144, 0.4575892857142857)",
             "rgba(84, 117, 144, 0.26498724489795916)",
             "rgba(84, 117, 144, 0.34311224489795916)",
             "rgba(84, 117, 144, 0.3580994897959184)",
             "rgba(84, 117, 144, 0.46651785714285715)",
             "rgba(84, 117, 144, 0.0)",
             "rgba(84, 117, 144, 0.04177295918367347)",
             "rgba(84, 117, 144, 0.16549744897959184)",
             "rgba(84, 117, 144, 0.06600765306122448)",
             "rgba(84, 117, 144, 0.2573341836734694)",
             "rgba(84, 117, 144, 0.2669005102040816)",
             "rgba(84, 117, 144, 0.06536989795918367)",
             "rgba(84, 117, 144, 0.14955357142857142)",
             "rgba(84, 117, 144, 0.021683673469387755)",
             "rgba(84, 117, 144, 0.018176020408163265)",
             "rgba(84, 117, 144, 0.028698979591836735)",
             "rgba(84, 117, 144, 0.10778061224489796)",
             "rgba(84, 117, 144, 0.109375)",
             "rgba(84, 117, 144, 0.07876275510204081)",
             "rgba(84, 117, 144, 0.13329081632653061)",
             "rgba(84, 117, 144, 0.18048469387755103)",
             "rgba(84, 117, 144, 0.023596938775510203)",
             "rgba(84, 117, 144, 0.02295918367346939)"
            ]
           ]
          },
          "font": {
           "color": "#FFFFFF",
           "family": "Arial, sans-serif",
           "size": 12
          },
          "height": 30,
          "values": [
           [
            "Las Vegas",
            "Atlanta",
            "Phoenix",
            "Jacksonville, Fl",
            "Charlotte",
            "Tampa",
            "Dallas",
            "Detroit",
            "Chicago",
            "Indianapolis",
            "Cape Coral",
            "Houston",
            "Orlando",
            "Columbus, Oh",
            "Memphis, Tn",
            "Minneapolis",
            "Columbia, Sc",
            "Cincinnati, Oh",
            "Raleigh",
            "San Antonio",
            "Lakeland",
            "Miami",
            "Nashville",
            "Riverside",
            "Oklahoma City, Ok"
           ],
           [
            322,
            189,
            134,
            119,
            118,
            113,
            111,
            103,
            99,
            83,
            83,
            83,
            82,
            80,
            60,
            58,
            50,
            50,
            48,
            36,
            36,
            36,
            35,
            35,
            32
           ],
           [
            299,
            95,
            105,
            108,
            107,
            90,
            136,
            125,
            50,
            77,
            93,
            65,
            66,
            72,
            45,
            67,
            49,
            34,
            45,
            29,
            42,
            36,
            39,
            36,
            26
           ],
           [
            23,
            94,
            29,
            11,
            11,
            23,
            -25,
            -22,
            49,
            6,
            -10,
            18,
            16,
            8,
            15,
            -9,
            1,
            16,
            3,
            7,
            -6,
            0,
            -4,
            -1,
            6
           ],
           [
            63,
            274,
            108,
            71,
            107,
            115,
            181,
            30,
            35,
            57,
            30,
            114,
            63,
            21,
            3,
            16,
            12,
            18,
            46,
            35,
            31,
            88,
            31,
            52,
            25
           ],
           [
            539,
            3151,
            1450,
            846,
            1091,
            1138,
            1478,
            15,
            146,
            534,
            222,
            822,
            852,
            220,
            484,
            83,
            72,
            105,
            353,
            358,
            262,
            433,
            581,
            89,
            87
           ]
          ]
         },
         "header": {
          "align": "center",
          "fill": {
           "color": "#000000"
          },
          "font": {
           "color": "#FFFFFF",
           "family": "Arial, sans-serif",
           "size": 14
          },
          "height": 35,
          "values": [
           "<b>Metro</b>",
           "<b>Acquisitions</b>",
           "<b>Dispositions</b>",
           "<b>Net</b>",
           "<b>New Listings for Sale</b>",
           "<b>New Rental Listings</b>"
          ]
         },
         "type": "table"
        }
       ],
       "layout": {
        "height": 870,
        "images": [
         {
          "sizex": 0.15,
          "sizey": 0.15,
          "source": "https://parcllabs-assets.s3.amazonaws.com/powered-by-parcllabs-api-logo-white+(1).svg",
          "x": 1,
          "xanchor": "right",
          "xref": "paper",
          "y": 0,
          "yanchor": "bottom",
          "yref": "paper"
         }
        ],
        "margin": {
         "b": 10,
         "l": 10,
         "r": 10,
         "t": 50
        },
        "paper_bgcolor": "#000000",
        "template": {
         "data": {
          "bar": [
           {
            "error_x": {
             "color": "#2a3f5f"
            },
            "error_y": {
             "color": "#2a3f5f"
            },
            "marker": {
             "line": {
              "color": "#E5ECF6",
              "width": 0.5
             },
             "pattern": {
              "fillmode": "overlay",
              "size": 10,
              "solidity": 0.2
             }
            },
            "type": "bar"
           }
          ],
          "barpolar": [
           {
            "marker": {
             "line": {
              "color": "#E5ECF6",
              "width": 0.5
             },
             "pattern": {
              "fillmode": "overlay",
              "size": 10,
              "solidity": 0.2
             }
            },
            "type": "barpolar"
           }
          ],
          "carpet": [
           {
            "aaxis": {
             "endlinecolor": "#2a3f5f",
             "gridcolor": "white",
             "linecolor": "white",
             "minorgridcolor": "white",
             "startlinecolor": "#2a3f5f"
            },
            "baxis": {
             "endlinecolor": "#2a3f5f",
             "gridcolor": "white",
             "linecolor": "white",
             "minorgridcolor": "white",
             "startlinecolor": "#2a3f5f"
            },
            "type": "carpet"
           }
          ],
          "choropleth": [
           {
            "colorbar": {
             "outlinewidth": 0,
             "ticks": ""
            },
            "type": "choropleth"
           }
          ],
          "contour": [
           {
            "colorbar": {
             "outlinewidth": 0,
             "ticks": ""
            },
            "colorscale": [
             [
              0,
              "#0d0887"
             ],
             [
              0.1111111111111111,
              "#46039f"
             ],
             [
              0.2222222222222222,
              "#7201a8"
             ],
             [
              0.3333333333333333,
              "#9c179e"
             ],
             [
              0.4444444444444444,
              "#bd3786"
             ],
             [
              0.5555555555555556,
              "#d8576b"
             ],
             [
              0.6666666666666666,
              "#ed7953"
             ],
             [
              0.7777777777777778,
              "#fb9f3a"
             ],
             [
              0.8888888888888888,
              "#fdca26"
             ],
             [
              1,
              "#f0f921"
             ]
            ],
            "type": "contour"
           }
          ],
          "contourcarpet": [
           {
            "colorbar": {
             "outlinewidth": 0,
             "ticks": ""
            },
            "type": "contourcarpet"
           }
          ],
          "heatmap": [
           {
            "colorbar": {
             "outlinewidth": 0,
             "ticks": ""
            },
            "colorscale": [
             [
              0,
              "#0d0887"
             ],
             [
              0.1111111111111111,
              "#46039f"
             ],
             [
              0.2222222222222222,
              "#7201a8"
             ],
             [
              0.3333333333333333,
              "#9c179e"
             ],
             [
              0.4444444444444444,
              "#bd3786"
             ],
             [
              0.5555555555555556,
              "#d8576b"
             ],
             [
              0.6666666666666666,
              "#ed7953"
             ],
             [
              0.7777777777777778,
              "#fb9f3a"
             ],
             [
              0.8888888888888888,
              "#fdca26"
             ],
             [
              1,
              "#f0f921"
             ]
            ],
            "type": "heatmap"
           }
          ],
          "heatmapgl": [
           {
            "colorbar": {
             "outlinewidth": 0,
             "ticks": ""
            },
            "colorscale": [
             [
              0,
              "#0d0887"
             ],
             [
              0.1111111111111111,
              "#46039f"
             ],
             [
              0.2222222222222222,
              "#7201a8"
             ],
             [
              0.3333333333333333,
              "#9c179e"
             ],
             [
              0.4444444444444444,
              "#bd3786"
             ],
             [
              0.5555555555555556,
              "#d8576b"
             ],
             [
              0.6666666666666666,
              "#ed7953"
             ],
             [
              0.7777777777777778,
              "#fb9f3a"
             ],
             [
              0.8888888888888888,
              "#fdca26"
             ],
             [
              1,
              "#f0f921"
             ]
            ],
            "type": "heatmapgl"
           }
          ],
          "histogram": [
           {
            "marker": {
             "pattern": {
              "fillmode": "overlay",
              "size": 10,
              "solidity": 0.2
             }
            },
            "type": "histogram"
           }
          ],
          "histogram2d": [
           {
            "colorbar": {
             "outlinewidth": 0,
             "ticks": ""
            },
            "colorscale": [
             [
              0,
              "#0d0887"
             ],
             [
              0.1111111111111111,
              "#46039f"
             ],
             [
              0.2222222222222222,
              "#7201a8"
             ],
             [
              0.3333333333333333,
              "#9c179e"
             ],
             [
              0.4444444444444444,
              "#bd3786"
             ],
             [
              0.5555555555555556,
              "#d8576b"
             ],
             [
              0.6666666666666666,
              "#ed7953"
             ],
             [
              0.7777777777777778,
              "#fb9f3a"
             ],
             [
              0.8888888888888888,
              "#fdca26"
             ],
             [
              1,
              "#f0f921"
             ]
            ],
            "type": "histogram2d"
           }
          ],
          "histogram2dcontour": [
           {
            "colorbar": {
             "outlinewidth": 0,
             "ticks": ""
            },
            "colorscale": [
             [
              0,
              "#0d0887"
             ],
             [
              0.1111111111111111,
              "#46039f"
             ],
             [
              0.2222222222222222,
              "#7201a8"
             ],
             [
              0.3333333333333333,
              "#9c179e"
             ],
             [
              0.4444444444444444,
              "#bd3786"
             ],
             [
              0.5555555555555556,
              "#d8576b"
             ],
             [
              0.6666666666666666,
              "#ed7953"
             ],
             [
              0.7777777777777778,
              "#fb9f3a"
             ],
             [
              0.8888888888888888,
              "#fdca26"
             ],
             [
              1,
              "#f0f921"
             ]
            ],
            "type": "histogram2dcontour"
           }
          ],
          "mesh3d": [
           {
            "colorbar": {
             "outlinewidth": 0,
             "ticks": ""
            },
            "type": "mesh3d"
           }
          ],
          "parcoords": [
           {
            "line": {
             "colorbar": {
              "outlinewidth": 0,
              "ticks": ""
             }
            },
            "type": "parcoords"
           }
          ],
          "pie": [
           {
            "automargin": true,
            "type": "pie"
           }
          ],
          "scatter": [
           {
            "fillpattern": {
             "fillmode": "overlay",
             "size": 10,
             "solidity": 0.2
            },
            "type": "scatter"
           }
          ],
          "scatter3d": [
           {
            "line": {
             "colorbar": {
              "outlinewidth": 0,
              "ticks": ""
             }
            },
            "marker": {
             "colorbar": {
              "outlinewidth": 0,
              "ticks": ""
             }
            },
            "type": "scatter3d"
           }
          ],
          "scattercarpet": [
           {
            "marker": {
             "colorbar": {
              "outlinewidth": 0,
              "ticks": ""
             }
            },
            "type": "scattercarpet"
           }
          ],
          "scattergeo": [
           {
            "marker": {
             "colorbar": {
              "outlinewidth": 0,
              "ticks": ""
             }
            },
            "type": "scattergeo"
           }
          ],
          "scattergl": [
           {
            "marker": {
             "colorbar": {
              "outlinewidth": 0,
              "ticks": ""
             }
            },
            "type": "scattergl"
           }
          ],
          "scattermapbox": [
           {
            "marker": {
             "colorbar": {
              "outlinewidth": 0,
              "ticks": ""
             }
            },
            "type": "scattermapbox"
           }
          ],
          "scatterpolar": [
           {
            "marker": {
             "colorbar": {
              "outlinewidth": 0,
              "ticks": ""
             }
            },
            "type": "scatterpolar"
           }
          ],
          "scatterpolargl": [
           {
            "marker": {
             "colorbar": {
              "outlinewidth": 0,
              "ticks": ""
             }
            },
            "type": "scatterpolargl"
           }
          ],
          "scatterternary": [
           {
            "marker": {
             "colorbar": {
              "outlinewidth": 0,
              "ticks": ""
             }
            },
            "type": "scatterternary"
           }
          ],
          "surface": [
           {
            "colorbar": {
             "outlinewidth": 0,
             "ticks": ""
            },
            "colorscale": [
             [
              0,
              "#0d0887"
             ],
             [
              0.1111111111111111,
              "#46039f"
             ],
             [
              0.2222222222222222,
              "#7201a8"
             ],
             [
              0.3333333333333333,
              "#9c179e"
             ],
             [
              0.4444444444444444,
              "#bd3786"
             ],
             [
              0.5555555555555556,
              "#d8576b"
             ],
             [
              0.6666666666666666,
              "#ed7953"
             ],
             [
              0.7777777777777778,
              "#fb9f3a"
             ],
             [
              0.8888888888888888,
              "#fdca26"
             ],
             [
              1,
              "#f0f921"
             ]
            ],
            "type": "surface"
           }
          ],
          "table": [
           {
            "cells": {
             "fill": {
              "color": "#EBF0F8"
             },
             "line": {
              "color": "white"
             }
            },
            "header": {
             "fill": {
              "color": "#C8D4E3"
             },
             "line": {
              "color": "white"
             }
            },
            "type": "table"
           }
          ]
         },
         "layout": {
          "annotationdefaults": {
           "arrowcolor": "#2a3f5f",
           "arrowhead": 0,
           "arrowwidth": 1
          },
          "autotypenumbers": "strict",
          "coloraxis": {
           "colorbar": {
            "outlinewidth": 0,
            "ticks": ""
           }
          },
          "colorscale": {
           "diverging": [
            [
             0,
             "#8e0152"
            ],
            [
             0.1,
             "#c51b7d"
            ],
            [
             0.2,
             "#de77ae"
            ],
            [
             0.3,
             "#f1b6da"
            ],
            [
             0.4,
             "#fde0ef"
            ],
            [
             0.5,
             "#f7f7f7"
            ],
            [
             0.6,
             "#e6f5d0"
            ],
            [
             0.7,
             "#b8e186"
            ],
            [
             0.8,
             "#7fbc41"
            ],
            [
             0.9,
             "#4d9221"
            ],
            [
             1,
             "#276419"
            ]
           ],
           "sequential": [
            [
             0,
             "#0d0887"
            ],
            [
             0.1111111111111111,
             "#46039f"
            ],
            [
             0.2222222222222222,
             "#7201a8"
            ],
            [
             0.3333333333333333,
             "#9c179e"
            ],
            [
             0.4444444444444444,
             "#bd3786"
            ],
            [
             0.5555555555555556,
             "#d8576b"
            ],
            [
             0.6666666666666666,
             "#ed7953"
            ],
            [
             0.7777777777777778,
             "#fb9f3a"
            ],
            [
             0.8888888888888888,
             "#fdca26"
            ],
            [
             1,
             "#f0f921"
            ]
           ],
           "sequentialminus": [
            [
             0,
             "#0d0887"
            ],
            [
             0.1111111111111111,
             "#46039f"
            ],
            [
             0.2222222222222222,
             "#7201a8"
            ],
            [
             0.3333333333333333,
             "#9c179e"
            ],
            [
             0.4444444444444444,
             "#bd3786"
            ],
            [
             0.5555555555555556,
             "#d8576b"
            ],
            [
             0.6666666666666666,
             "#ed7953"
            ],
            [
             0.7777777777777778,
             "#fb9f3a"
            ],
            [
             0.8888888888888888,
             "#fdca26"
            ],
            [
             1,
             "#f0f921"
            ]
           ]
          },
          "colorway": [
           "#636efa",
           "#EF553B",
           "#00cc96",
           "#ab63fa",
           "#FFA15A",
           "#19d3f3",
           "#FF6692",
           "#B6E880",
           "#FF97FF",
           "#FECB52"
          ],
          "font": {
           "color": "#2a3f5f"
          },
          "geo": {
           "bgcolor": "white",
           "lakecolor": "white",
           "landcolor": "#E5ECF6",
           "showlakes": true,
           "showland": true,
           "subunitcolor": "white"
          },
          "hoverlabel": {
           "align": "left"
          },
          "hovermode": "closest",
          "mapbox": {
           "style": "light"
          },
          "paper_bgcolor": "white",
          "plot_bgcolor": "#E5ECF6",
          "polar": {
           "angularaxis": {
            "gridcolor": "white",
            "linecolor": "white",
            "ticks": ""
           },
           "bgcolor": "#E5ECF6",
           "radialaxis": {
            "gridcolor": "white",
            "linecolor": "white",
            "ticks": ""
           }
          },
          "scene": {
           "xaxis": {
            "backgroundcolor": "#E5ECF6",
            "gridcolor": "white",
            "gridwidth": 2,
            "linecolor": "white",
            "showbackground": true,
            "ticks": "",
            "zerolinecolor": "white"
           },
           "yaxis": {
            "backgroundcolor": "#E5ECF6",
            "gridcolor": "white",
            "gridwidth": 2,
            "linecolor": "white",
            "showbackground": true,
            "ticks": "",
            "zerolinecolor": "white"
           },
           "zaxis": {
            "backgroundcolor": "#E5ECF6",
            "gridcolor": "white",
            "gridwidth": 2,
            "linecolor": "white",
            "showbackground": true,
            "ticks": "",
            "zerolinecolor": "white"
           }
          },
          "shapedefaults": {
           "line": {
            "color": "#2a3f5f"
           }
          },
          "ternary": {
           "aaxis": {
            "gridcolor": "white",
            "linecolor": "white",
            "ticks": ""
           },
           "baxis": {
            "gridcolor": "white",
            "linecolor": "white",
            "ticks": ""
           },
           "bgcolor": "#E5ECF6",
           "caxis": {
            "gridcolor": "white",
            "linecolor": "white",
            "ticks": ""
           }
          },
          "title": {
           "x": 0.05
          },
          "xaxis": {
           "automargin": true,
           "gridcolor": "white",
           "linecolor": "white",
           "ticks": "",
           "title": {
            "standoff": 15
           },
           "zerolinecolor": "white",
           "zerolinewidth": 2
          },
          "yaxis": {
           "automargin": true,
           "gridcolor": "white",
           "linecolor": "white",
           "ticks": "",
           "title": {
            "standoff": 15
           },
           "zerolinecolor": "white",
           "zerolinewidth": 2
          }
         }
        },
        "title": {
         "font": {
          "color": "#FFFFFF",
          "family": "Arial, sans-serif",
          "size": 20
         },
         "text": "Institutional Activity Review: May, 2024",
         "x": 0.5,
         "xanchor": "center",
         "y": 0.98,
         "yanchor": "top"
        },
        "width": 1000
       }
      }
     },
     "metadata": {},
     "output_type": "display_data"
    }
   ],
   "source": [
    "import numpy as np\n",
    "from plotly import graph_objects as go\n",
    "from parcllabs.beta.charting.utils import create_labs_logo_dict\n",
    "\n",
    "# cleanup metro names\n",
    "charting_data['Metro'] = charting_data['Metro'].apply(lambda x: x.split('-')[0].strip())\n",
    "\n",
    "# Define the month and year for the title\n",
    "month = charting_data['date'].iloc[0].month_name()\n",
    "year = charting_data['date'].iloc[0].year\n",
    "\n",
    "# define the table\n",
    "# Function to normalize column values for color scale\n",
    "def normalize_column(column):\n",
    "    col_min = np.min(column)\n",
    "    col_max = np.max(column)\n",
    "    return [(val - col_min) / (col_max - col_min) for val in column]\n",
    "\n",
    "# Normalizing data for each column\n",
    "normalized_acquisitions = normalize_column(charting_data['Acquisitions'])\n",
    "normalized_dispositions = normalize_column(charting_data['Dispositions'])\n",
    "normalized_net = normalize_column(charting_data['Net'])\n",
    "normalized_new_listings_for_sale = normalize_column(charting_data['New Listings for Sale'])\n",
    "normalized_new_rental_listings = normalize_column(charting_data['New Rental Listings'])\n",
    "\n",
    "# Define the table with new column headers and improved readability\n",
    "fig = go.Figure(\n",
    "    data=[go.Table(\n",
    "        header=dict(\n",
    "            values=['<b>Metro</b>', '<b>Acquisitions</b>', '<b>Dispositions</b>', '<b>Net</b>', '<b>New Listings for Sale</b>', '<b>New Rental Listings</b>'],\n",
    "            fill_color='#000000',\n",
    "            font=dict(color='#FFFFFF', size=14, family=\"Arial, sans-serif\"),\n",
    "            align='center',\n",
    "            height=35\n",
    "        ),\n",
    "        cells=dict(\n",
    "            values=[\n",
    "                [f\"{name}\" for name in charting_data['Metro'].values],\n",
    "                charting_data['Acquisitions'],\n",
    "                charting_data['Dispositions'],\n",
    "                charting_data['Net'],\n",
    "                charting_data['New Listings for Sale'],\n",
    "                charting_data['New Rental Listings']\n",
    "            ],\n",
    "            fill=dict(\n",
    "                color=[\n",
    "                    ['#000000']*len(charting_data.index),\n",
    "                    [f\"rgba(46, 64, 87, {v})\" for v in normalized_acquisitions],\n",
    "                    [f\"rgba(59, 81, 106, {v})\" for v in normalized_dispositions],\n",
    "                    [f\"rgba(72, 99, 125, {v})\" for v in normalized_new_listings_for_sale],\n",
    "                    [f\"rgba(84, 117, 144, {v})\" for v in normalized_new_rental_listings]\n",
    "                ]\n",
    "            ),\n",
    "            font=dict(\n",
    "                color='#FFFFFF',\n",
    "                size=12,  # Slightly increased size for better readability\n",
    "                family=\"Arial, sans-serif\"\n",
    "            ),\n",
    "            align='center',\n",
    "            height=30\n",
    "        ))\n",
    "])\n",
    "\n",
    "# Adding logo image\n",
    "fig.add_layout_image(create_labs_logo_dict())\n",
    "\n",
    "# Updating the layout with the new title and adjusted dimensions\n",
    "fig.update_layout(\n",
    "    title={\n",
    "        'text': f'Institutional Activity Review: {month}, {year}',\n",
    "        'y': 0.98,\n",
    "        'x': 0.5,\n",
    "        'xanchor': 'center',\n",
    "        'yanchor': 'top',\n",
    "        'font': dict(size=20, color='#FFFFFF', family=\"Arial, sans-serif\")\n",
    "    },\n",
    "    width=1000,  # Increased width for better fit of new headers\n",
    "    height=870, \n",
    "    paper_bgcolor='#000000',\n",
    "    margin=dict(l=10, r=10, t=50, b=10)\n",
    ")\n",
    "\n",
    "# Display the figure\n",
    "fig.show()\n",
    "\n",
    "# Save the plot\n",
    "# fig.write_image(f'{month}_{year}_institutional_activity.png', width=1000, height=1800)"
   ]
  }
 ],
 "metadata": {
  "kernelspec": {
   "display_name": "Python 3 (ipykernel)",
   "language": "python",
   "name": "python3"
  },
  "language_info": {
   "codemirror_mode": {
    "name": "ipython",
    "version": 3
   },
   "file_extension": ".py",
   "mimetype": "text/x-python",
   "name": "python",
   "nbconvert_exporter": "python",
   "pygments_lexer": "ipython3",
   "version": "3.11.9"
  }
 },
 "nbformat": 4,
 "nbformat_minor": 5
}
