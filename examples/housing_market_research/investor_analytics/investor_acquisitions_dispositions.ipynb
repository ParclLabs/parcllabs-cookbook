{
 "cells": [
  {
   "cell_type": "code",
   "execution_count": 1,
   "metadata": {},
   "outputs": [],
   "source": [
    "import os\n",
    "import plotly\n",
    "import numpy as np\n",
    "import pandas as pd\n",
    "import plotly.express as px\n",
    "from datetime import datetime\n",
    "import plotly.graph_objects as go\n",
    "from parcllabs import ParclLabsClient\n",
    "from plotly.subplots import make_subplots\n",
    "from parcllabs.beta.charting.utils import create_labs_logo_dict\n",
    "from parcllabs.beta.charting.styling import default_style_config as style_config\n"
   ]
  },
  {
   "cell_type": "code",
   "execution_count": 2,
   "metadata": {},
   "outputs": [],
   "source": [
    "client = ParclLabsClient(\n",
    "    api_key=os.environ.get('PARCL_LABS_API_KEY', \"<your Parcl Labs API key if not set as environment variable>\"), \n",
    "    turbo_mode=True,\n",
    "    limit=12 # set default limit\n",
    ")"
   ]
  },
  {
   "cell_type": "code",
   "execution_count": 23,
   "metadata": {},
   "outputs": [],
   "source": [
    "# in this case, lets look at US market overall\n",
    "us_market = client.search.markets.retrieve(\n",
    "    query='United States',\n",
    "    sort_by='TOTAL_POPULATION',\n",
    "    sort_order='DESC',\n",
    "    limit=1\n",
    ")\n",
    "\n",
    "metros = client.search.markets.retrieve(\n",
    "    sort_by='TOTAL_POPULATION',\n",
    "    sort_order='DESC',\n",
    "    limit=100,\n",
    "    location_type='CBSA'\n",
    ")\n",
    "\n",
    "markets = pd.concat([us_market, metros])\n",
    "market_ids = markets['parcl_id'].unique().tolist()\n",
    "markets['state'] = markets['name'].apply(lambda x: x.split(',')[-1].strip().upper().split('-')[0])\n",
    "markets['clean_name'] = markets.apply(lambda x: f\"{x['name'].split('-')[0].split(',')[0].strip()}, {x['state']}\", axis=1)\n",
    "markets['clean_name'] = markets['clean_name'].replace({'United States Of America, UNITED STATES OF AMERICA': 'USA'})"
   ]
  },
  {
   "cell_type": "code",
   "execution_count": 4,
   "metadata": {},
   "outputs": [
    {
     "name": "stdout",
     "output_type": "stream",
     "text": [
      "data: {'parcl_id': ['5826765', '2900187', '2900078', '2899845', '2899734', '2899967', '2900475', '2900244', '2900128', '2887280', '2899625', '2900245', '2900336', '2900295', '2899753', '2900353', '2900137', '2900332', '2900417', '2899750', '2887292', '2900321', '2900213', '2899841', '2900331', '2900266', '2900315', '2900251', '2887289', '2900049', '2899647', '2900012', '2899671', '2899979', '2899654', '2900174', '2900338', '2900462', '2900275', '2899989', '2900134', '2900205', '2900282', '2900122', '2900292', '2900079', '2900182', '2900329', '2899944', '2899645', '2899611', '2899916', '2900301', '2900436', '2900438', '2900447', '2899715', '2899896', '2900208', '2899636', '2899929', '2899862', '2887291', '2899858', '2900030', '2900116', '2899589', '2899787', '2900181', '2899867', '2900192', '2900223', '2899666', '2899742', '2899840', '2900404', '2899924', '2899822', '2899621', '2899664', '2900070', '2900041', '2899752', '2899854', '2900271', '2900201', '2900391', '2900089', '2900503', '2900276', '2899748', '2900413', '2899768', '2900491', '2900429', '2887286', '2900229', '2899941', '2899985', '2900389', '2900351'], 'start_date': '2024-08-01'}, params: {}\n",
      "data: {'parcl_id': ['5826765', '2900187', '2900078', '2899845', '2899734', '2899967', '2900475', '2900244', '2900128', '2887280', '2899625', '2900245', '2900336', '2900295', '2899753', '2900353', '2900137', '2900332', '2900417', '2899750', '2887292', '2900321', '2900213', '2899841', '2900331', '2900266', '2900315', '2900251', '2887289', '2900049', '2899647', '2900012', '2899671', '2899979', '2899654', '2900174', '2900338', '2900462', '2900275', '2899989', '2900134', '2900205', '2900282', '2900122', '2900292', '2900079', '2900182', '2900329', '2899944', '2899645', '2899611', '2899916', '2900301', '2900436', '2900438', '2900447', '2899715', '2899896', '2900208', '2899636', '2899929', '2899862', '2887291', '2899858', '2900030', '2900116', '2899589', '2899787', '2900181', '2899867', '2900192', '2900223', '2899666', '2899742', '2899840', '2900404', '2899924', '2899822', '2899621', '2899664', '2900070', '2900041', '2899752', '2899854', '2900271', '2900201', '2900391', '2900089', '2900503', '2900276', '2899748', '2900413', '2899768', '2900491', '2900429', '2887286', '2900229', '2899941', '2899985', '2900389', '2900351'], 'start_date': '2024-06-01', 'portfolio_size': 'PORTFOLIO_1000_PLUS'}, params: {}\n"
     ]
    }
   ],
   "source": [
    "# GET TOTAL STOCK\n",
    "stock = client.portfolio_metrics.sf_housing_stock_ownership.retrieve(\n",
    "    parcl_ids=markets['parcl_id'].tolist(),\n",
    "    start_date='2024-08-01',\n",
    "    auto_paginate=True\n",
    ")\n",
    "\n",
    "stock = stock[['parcl_id', 'pct_sf_housing_stock_portfolio_1000_plus', 'count_portfolio_1000_plus']]\n",
    "\n",
    "\n",
    "acq = client.portfolio_metrics.sf_housing_event_counts.retrieve(\n",
    "    parcl_ids=markets['parcl_id'].tolist(),\n",
    "    start_date='2024-06-01',\n",
    "    auto_paginate=True,\n",
    "    portfolio_size='PORTFOLIO_1000_PLUS'\n",
    ")\n",
    "\n",
    "acq['net'] = acq['acquisitions'] - acq['dispositions']\n",
    "\n",
    "acq_3 = acq.groupby('parcl_id').agg({'acquisitions': 'sum', 'dispositions': 'sum', 'net': 'sum'}).reset_index()\n",
    "acq_3 = pd.merge(acq_3, markets[['parcl_id', 'clean_name']], on='parcl_id', how='left')\n",
    "acq_3.sort_values('net', ascending=False, inplace=True)"
   ]
  },
  {
   "cell_type": "code",
   "execution_count": 5,
   "metadata": {},
   "outputs": [
    {
     "data": {
      "text/html": [
       "<div>\n",
       "<style scoped>\n",
       "    .dataframe tbody tr th:only-of-type {\n",
       "        vertical-align: middle;\n",
       "    }\n",
       "\n",
       "    .dataframe tbody tr th {\n",
       "        vertical-align: top;\n",
       "    }\n",
       "\n",
       "    .dataframe thead th {\n",
       "        text-align: right;\n",
       "    }\n",
       "</style>\n",
       "<table border=\"1\" class=\"dataframe\">\n",
       "  <thead>\n",
       "    <tr style=\"text-align: right;\">\n",
       "      <th></th>\n",
       "      <th>parcl_id</th>\n",
       "      <th>acquisitions</th>\n",
       "      <th>dispositions</th>\n",
       "      <th>net</th>\n",
       "      <th>clean_name</th>\n",
       "    </tr>\n",
       "  </thead>\n",
       "  <tbody>\n",
       "    <tr>\n",
       "      <th>42</th>\n",
       "      <td>2899989</td>\n",
       "      <td>300</td>\n",
       "      <td>322</td>\n",
       "      <td>-22</td>\n",
       "      <td>Jacksonville, FL</td>\n",
       "    </tr>\n",
       "    <tr>\n",
       "      <th>66</th>\n",
       "      <td>2900229</td>\n",
       "      <td>52</td>\n",
       "      <td>75</td>\n",
       "      <td>-23</td>\n",
       "      <td>Palm Bay, FL</td>\n",
       "    </tr>\n",
       "    <tr>\n",
       "      <th>20</th>\n",
       "      <td>2899750</td>\n",
       "      <td>114</td>\n",
       "      <td>138</td>\n",
       "      <td>-24</td>\n",
       "      <td>Denver, CO</td>\n",
       "    </tr>\n",
       "    <tr>\n",
       "      <th>17</th>\n",
       "      <td>2899734</td>\n",
       "      <td>643</td>\n",
       "      <td>667</td>\n",
       "      <td>-24</td>\n",
       "      <td>Dallas, TX</td>\n",
       "    </tr>\n",
       "    <tr>\n",
       "      <th>40</th>\n",
       "      <td>2899979</td>\n",
       "      <td>335</td>\n",
       "      <td>363</td>\n",
       "      <td>-28</td>\n",
       "      <td>Indianapolis, IN</td>\n",
       "    </tr>\n",
       "    <tr>\n",
       "      <th>48</th>\n",
       "      <td>2900078</td>\n",
       "      <td>54</td>\n",
       "      <td>84</td>\n",
       "      <td>-30</td>\n",
       "      <td>Los Angeles, CA</td>\n",
       "    </tr>\n",
       "    <tr>\n",
       "      <th>15</th>\n",
       "      <td>2899671</td>\n",
       "      <td>66</td>\n",
       "      <td>97</td>\n",
       "      <td>-31</td>\n",
       "      <td>Columbus, OH</td>\n",
       "    </tr>\n",
       "    <tr>\n",
       "      <th>60</th>\n",
       "      <td>2900192</td>\n",
       "      <td>102</td>\n",
       "      <td>135</td>\n",
       "      <td>-33</td>\n",
       "      <td>North Port, FL</td>\n",
       "    </tr>\n",
       "    <tr>\n",
       "      <th>46</th>\n",
       "      <td>2900049</td>\n",
       "      <td>399</td>\n",
       "      <td>436</td>\n",
       "      <td>-37</td>\n",
       "      <td>Las Vegas, NV</td>\n",
       "    </tr>\n",
       "    <tr>\n",
       "      <th>76</th>\n",
       "      <td>2900295</td>\n",
       "      <td>86</td>\n",
       "      <td>124</td>\n",
       "      <td>-38</td>\n",
       "      <td>Riverside, CA</td>\n",
       "    </tr>\n",
       "    <tr>\n",
       "      <th>86</th>\n",
       "      <td>2900353</td>\n",
       "      <td>21</td>\n",
       "      <td>59</td>\n",
       "      <td>-38</td>\n",
       "      <td>Seattle, WA</td>\n",
       "    </tr>\n",
       "    <tr>\n",
       "      <th>91</th>\n",
       "      <td>2900417</td>\n",
       "      <td>564</td>\n",
       "      <td>608</td>\n",
       "      <td>-44</td>\n",
       "      <td>Tampa, FL</td>\n",
       "    </tr>\n",
       "    <tr>\n",
       "      <th>25</th>\n",
       "      <td>2899822</td>\n",
       "      <td>111</td>\n",
       "      <td>155</td>\n",
       "      <td>-44</td>\n",
       "      <td>Cape Coral, FL</td>\n",
       "    </tr>\n",
       "    <tr>\n",
       "      <th>53</th>\n",
       "      <td>2900128</td>\n",
       "      <td>171</td>\n",
       "      <td>218</td>\n",
       "      <td>-47</td>\n",
       "      <td>Miami, FL</td>\n",
       "    </tr>\n",
       "    <tr>\n",
       "      <th>14</th>\n",
       "      <td>2899666</td>\n",
       "      <td>71</td>\n",
       "      <td>120</td>\n",
       "      <td>-49</td>\n",
       "      <td>Columbia, SC</td>\n",
       "    </tr>\n",
       "    <tr>\n",
       "      <th>55</th>\n",
       "      <td>2900137</td>\n",
       "      <td>103</td>\n",
       "      <td>158</td>\n",
       "      <td>-55</td>\n",
       "      <td>Minneapolis, MN</td>\n",
       "    </tr>\n",
       "    <tr>\n",
       "      <th>22</th>\n",
       "      <td>2899753</td>\n",
       "      <td>404</td>\n",
       "      <td>459</td>\n",
       "      <td>-55</td>\n",
       "      <td>Detroit, MI</td>\n",
       "    </tr>\n",
       "    <tr>\n",
       "      <th>13</th>\n",
       "      <td>2899664</td>\n",
       "      <td>28</td>\n",
       "      <td>84</td>\n",
       "      <td>-56</td>\n",
       "      <td>Colorado Springs, CO</td>\n",
       "    </tr>\n",
       "    <tr>\n",
       "      <th>68</th>\n",
       "      <td>2900245</td>\n",
       "      <td>640</td>\n",
       "      <td>746</td>\n",
       "      <td>-106</td>\n",
       "      <td>Phoenix, AZ</td>\n",
       "    </tr>\n",
       "    <tr>\n",
       "      <th>100</th>\n",
       "      <td>5826765</td>\n",
       "      <td>10345</td>\n",
       "      <td>11192</td>\n",
       "      <td>-847</td>\n",
       "      <td>USA</td>\n",
       "    </tr>\n",
       "  </tbody>\n",
       "</table>\n",
       "</div>"
      ],
      "text/plain": [
       "     parcl_id  acquisitions  dispositions  net            clean_name\n",
       "42    2899989           300           322  -22      Jacksonville, FL\n",
       "66    2900229            52            75  -23          Palm Bay, FL\n",
       "20    2899750           114           138  -24            Denver, CO\n",
       "17    2899734           643           667  -24            Dallas, TX\n",
       "40    2899979           335           363  -28      Indianapolis, IN\n",
       "48    2900078            54            84  -30       Los Angeles, CA\n",
       "15    2899671            66            97  -31          Columbus, OH\n",
       "60    2900192           102           135  -33        North Port, FL\n",
       "46    2900049           399           436  -37         Las Vegas, NV\n",
       "76    2900295            86           124  -38         Riverside, CA\n",
       "86    2900353            21            59  -38           Seattle, WA\n",
       "91    2900417           564           608  -44             Tampa, FL\n",
       "25    2899822           111           155  -44        Cape Coral, FL\n",
       "53    2900128           171           218  -47             Miami, FL\n",
       "14    2899666            71           120  -49          Columbia, SC\n",
       "55    2900137           103           158  -55       Minneapolis, MN\n",
       "22    2899753           404           459  -55           Detroit, MI\n",
       "13    2899664            28            84  -56  Colorado Springs, CO\n",
       "68    2900245           640           746 -106           Phoenix, AZ\n",
       "100   5826765         10345         11192 -847                   USA"
      ]
     },
     "execution_count": 5,
     "metadata": {},
     "output_type": "execute_result"
    }
   ],
   "source": [
    "acq_3.tail(20)"
   ]
  },
  {
   "cell_type": "code",
   "execution_count": 6,
   "metadata": {},
   "outputs": [
    {
     "name": "stdout",
     "output_type": "stream",
     "text": [
      "data: {'parcl_id': ['5826765', '2900187', '2900078', '2899845', '2899734', '2899967', '2900475', '2900244', '2900128', '2887280', '2899625', '2900245', '2900336', '2900295', '2899753', '2900353', '2900137', '2900332', '2900417', '2899750', '2887292', '2900321', '2900213', '2899841', '2900331', '2900266', '2900315', '2900251', '2887289', '2900049', '2899647', '2900012', '2899671', '2899979', '2899654', '2900174', '2900338', '2900462', '2900275', '2899989', '2900134', '2900205', '2900282', '2900122', '2900292', '2900079', '2900182', '2900329', '2899944', '2899645', '2899611', '2899916', '2900301', '2900436', '2900438', '2900447', '2899715', '2899896', '2900208', '2899636', '2899929', '2899862', '2887291', '2899858', '2900030', '2900116', '2899589', '2899787', '2900181', '2899867', '2900192', '2900223', '2899666', '2899742', '2899840', '2900404', '2899924', '2899822', '2899621', '2899664', '2900070', '2900041', '2899752', '2899854', '2900271', '2900201', '2900391', '2900089', '2900503', '2900276', '2899748', '2900413', '2899768', '2900491', '2900429', '2887286', '2900229', '2899941', '2899985', '2900389', '2900351'], 'start_date': '2024-06-01', 'end_date': '2024-06-01'}, params: {}\n"
     ]
    },
    {
     "data": {
      "text/html": [
       "<div>\n",
       "<style scoped>\n",
       "    .dataframe tbody tr th:only-of-type {\n",
       "        vertical-align: middle;\n",
       "    }\n",
       "\n",
       "    .dataframe tbody tr th {\n",
       "        vertical-align: top;\n",
       "    }\n",
       "\n",
       "    .dataframe thead th {\n",
       "        text-align: right;\n",
       "    }\n",
       "</style>\n",
       "<table border=\"1\" class=\"dataframe\">\n",
       "  <thead>\n",
       "    <tr style=\"text-align: right;\">\n",
       "      <th></th>\n",
       "      <th>parcl_id</th>\n",
       "      <th>acquisitions</th>\n",
       "      <th>dispositions</th>\n",
       "      <th>net</th>\n",
       "      <th>clean_name</th>\n",
       "      <th>pct_sf_housing_stock_portfolio_1000_plus</th>\n",
       "      <th>current_portfolio_size</th>\n",
       "      <th>start_portfolio_size</th>\n",
       "    </tr>\n",
       "  </thead>\n",
       "  <tbody>\n",
       "    <tr>\n",
       "      <th>0</th>\n",
       "      <td>2887280</td>\n",
       "      <td>1026</td>\n",
       "      <td>923</td>\n",
       "      <td>103</td>\n",
       "      <td>Atlanta, GA</td>\n",
       "      <td>3.80</td>\n",
       "      <td>63200</td>\n",
       "      <td>71807</td>\n",
       "    </tr>\n",
       "    <tr>\n",
       "      <th>1</th>\n",
       "      <td>2899845</td>\n",
       "      <td>253</td>\n",
       "      <td>183</td>\n",
       "      <td>70</td>\n",
       "      <td>Chicago, IL</td>\n",
       "      <td>0.66</td>\n",
       "      <td>13197</td>\n",
       "      <td>10639</td>\n",
       "    </tr>\n",
       "    <tr>\n",
       "      <th>2</th>\n",
       "      <td>2899841</td>\n",
       "      <td>443</td>\n",
       "      <td>415</td>\n",
       "      <td>28</td>\n",
       "      <td>Charlotte, NC</td>\n",
       "      <td>3.40</td>\n",
       "      <td>26364</td>\n",
       "      <td>25188</td>\n",
       "    </tr>\n",
       "    <tr>\n",
       "      <th>3</th>\n",
       "      <td>2899621</td>\n",
       "      <td>45</td>\n",
       "      <td>20</td>\n",
       "      <td>25</td>\n",
       "      <td>Boise City, ID</td>\n",
       "      <td>0.75</td>\n",
       "      <td>1830</td>\n",
       "      <td>1526</td>\n",
       "    </tr>\n",
       "    <tr>\n",
       "      <th>4</th>\n",
       "      <td>2899967</td>\n",
       "      <td>268</td>\n",
       "      <td>246</td>\n",
       "      <td>22</td>\n",
       "      <td>Houston, TX</td>\n",
       "      <td>1.82</td>\n",
       "      <td>32588</td>\n",
       "      <td>23078</td>\n",
       "    </tr>\n",
       "  </tbody>\n",
       "</table>\n",
       "</div>"
      ],
      "text/plain": [
       "   parcl_id  acquisitions  dispositions  net      clean_name  \\\n",
       "0   2887280          1026           923  103     Atlanta, GA   \n",
       "1   2899845           253           183   70     Chicago, IL   \n",
       "2   2899841           443           415   28   Charlotte, NC   \n",
       "3   2899621            45            20   25  Boise City, ID   \n",
       "4   2899967           268           246   22     Houston, TX   \n",
       "\n",
       "   pct_sf_housing_stock_portfolio_1000_plus  current_portfolio_size  \\\n",
       "0                                      3.80                   63200   \n",
       "1                                      0.66                   13197   \n",
       "2                                      3.40                   26364   \n",
       "3                                      0.75                    1830   \n",
       "4                                      1.82                   32588   \n",
       "\n",
       "   start_portfolio_size  \n",
       "0                 71807  \n",
       "1                 10639  \n",
       "2                 25188  \n",
       "3                  1526  \n",
       "4                 23078  "
      ]
     },
     "execution_count": 6,
     "metadata": {},
     "output_type": "execute_result"
    }
   ],
   "source": [
    "# find starting value of portfolio sizes for each market\n",
    "start_stock = client.portfolio_metrics.sf_housing_stock_ownership.retrieve(\n",
    "    parcl_ids=markets['parcl_id'].tolist(),\n",
    "    start_date='2024-06-01',\n",
    "    end_date='2024-06-01',\n",
    "    auto_paginate=True\n",
    ")\n",
    "\n",
    "start_stock = start_stock[['parcl_id', 'count_portfolio_1000_plus']].rename(columns={'count_portfolio_1000_plus': 'start_portfolio_size'})\n",
    "stock = stock.rename(columns={\n",
    "    'count_portfolio_1000_plus': 'current_portfolio_size'\n",
    "})\n",
    "\n",
    "data = pd.merge(acq_3, stock, on='parcl_id')\n",
    "data = pd.merge(data, start_stock, on='parcl_id')\n",
    "data.head()"
   ]
  },
  {
   "cell_type": "code",
   "execution_count": 7,
   "metadata": {},
   "outputs": [
    {
     "data": {
      "text/html": [
       "<div>\n",
       "<style scoped>\n",
       "    .dataframe tbody tr th:only-of-type {\n",
       "        vertical-align: middle;\n",
       "    }\n",
       "\n",
       "    .dataframe tbody tr th {\n",
       "        vertical-align: top;\n",
       "    }\n",
       "\n",
       "    .dataframe thead th {\n",
       "        text-align: right;\n",
       "    }\n",
       "</style>\n",
       "<table border=\"1\" class=\"dataframe\">\n",
       "  <thead>\n",
       "    <tr style=\"text-align: right;\">\n",
       "      <th></th>\n",
       "      <th>parcl_id</th>\n",
       "      <th>acquisitions</th>\n",
       "      <th>dispositions</th>\n",
       "      <th>net</th>\n",
       "      <th>clean_name</th>\n",
       "      <th>pct_sf_housing_stock_portfolio_1000_plus</th>\n",
       "      <th>current_portfolio_size</th>\n",
       "      <th>start_portfolio_size</th>\n",
       "      <th>port_start</th>\n",
       "      <th>port_size_change</th>\n",
       "    </tr>\n",
       "  </thead>\n",
       "  <tbody>\n",
       "    <tr>\n",
       "      <th>0</th>\n",
       "      <td>2887280</td>\n",
       "      <td>1026</td>\n",
       "      <td>923</td>\n",
       "      <td>103</td>\n",
       "      <td>Atlanta, GA</td>\n",
       "      <td>3.80</td>\n",
       "      <td>63200</td>\n",
       "      <td>71807</td>\n",
       "      <td>63097</td>\n",
       "      <td>0.001632</td>\n",
       "    </tr>\n",
       "    <tr>\n",
       "      <th>1</th>\n",
       "      <td>2899845</td>\n",
       "      <td>253</td>\n",
       "      <td>183</td>\n",
       "      <td>70</td>\n",
       "      <td>Chicago, IL</td>\n",
       "      <td>0.66</td>\n",
       "      <td>13197</td>\n",
       "      <td>10639</td>\n",
       "      <td>13127</td>\n",
       "      <td>0.005333</td>\n",
       "    </tr>\n",
       "    <tr>\n",
       "      <th>2</th>\n",
       "      <td>2899841</td>\n",
       "      <td>443</td>\n",
       "      <td>415</td>\n",
       "      <td>28</td>\n",
       "      <td>Charlotte, NC</td>\n",
       "      <td>3.40</td>\n",
       "      <td>26364</td>\n",
       "      <td>25188</td>\n",
       "      <td>26336</td>\n",
       "      <td>0.001063</td>\n",
       "    </tr>\n",
       "    <tr>\n",
       "      <th>3</th>\n",
       "      <td>2899621</td>\n",
       "      <td>45</td>\n",
       "      <td>20</td>\n",
       "      <td>25</td>\n",
       "      <td>Boise City, ID</td>\n",
       "      <td>0.75</td>\n",
       "      <td>1830</td>\n",
       "      <td>1526</td>\n",
       "      <td>1805</td>\n",
       "      <td>0.013850</td>\n",
       "    </tr>\n",
       "    <tr>\n",
       "      <th>4</th>\n",
       "      <td>2899967</td>\n",
       "      <td>268</td>\n",
       "      <td>246</td>\n",
       "      <td>22</td>\n",
       "      <td>Houston, TX</td>\n",
       "      <td>1.82</td>\n",
       "      <td>32588</td>\n",
       "      <td>23078</td>\n",
       "      <td>32566</td>\n",
       "      <td>0.000676</td>\n",
       "    </tr>\n",
       "    <tr>\n",
       "      <th>...</th>\n",
       "      <td>...</td>\n",
       "      <td>...</td>\n",
       "      <td>...</td>\n",
       "      <td>...</td>\n",
       "      <td>...</td>\n",
       "      <td>...</td>\n",
       "      <td>...</td>\n",
       "      <td>...</td>\n",
       "      <td>...</td>\n",
       "      <td>...</td>\n",
       "    </tr>\n",
       "    <tr>\n",
       "      <th>96</th>\n",
       "      <td>2900137</td>\n",
       "      <td>103</td>\n",
       "      <td>158</td>\n",
       "      <td>-55</td>\n",
       "      <td>Minneapolis, MN</td>\n",
       "      <td>0.48</td>\n",
       "      <td>4488</td>\n",
       "      <td>3762</td>\n",
       "      <td>4543</td>\n",
       "      <td>-0.012107</td>\n",
       "    </tr>\n",
       "    <tr>\n",
       "      <th>97</th>\n",
       "      <td>2899753</td>\n",
       "      <td>404</td>\n",
       "      <td>459</td>\n",
       "      <td>-55</td>\n",
       "      <td>Detroit, MI</td>\n",
       "      <td>1.03</td>\n",
       "      <td>13075</td>\n",
       "      <td>12545</td>\n",
       "      <td>13130</td>\n",
       "      <td>-0.004189</td>\n",
       "    </tr>\n",
       "    <tr>\n",
       "      <th>98</th>\n",
       "      <td>2899664</td>\n",
       "      <td>28</td>\n",
       "      <td>84</td>\n",
       "      <td>-56</td>\n",
       "      <td>Colorado Springs, CO</td>\n",
       "      <td>1.46</td>\n",
       "      <td>3042</td>\n",
       "      <td>2973</td>\n",
       "      <td>3098</td>\n",
       "      <td>-0.018076</td>\n",
       "    </tr>\n",
       "    <tr>\n",
       "      <th>99</th>\n",
       "      <td>2900245</td>\n",
       "      <td>640</td>\n",
       "      <td>746</td>\n",
       "      <td>-106</td>\n",
       "      <td>Phoenix, AZ</td>\n",
       "      <td>2.45</td>\n",
       "      <td>32084</td>\n",
       "      <td>32579</td>\n",
       "      <td>32190</td>\n",
       "      <td>-0.003293</td>\n",
       "    </tr>\n",
       "    <tr>\n",
       "      <th>100</th>\n",
       "      <td>5826765</td>\n",
       "      <td>10345</td>\n",
       "      <td>11192</td>\n",
       "      <td>-847</td>\n",
       "      <td>USA</td>\n",
       "      <td>0.74</td>\n",
       "      <td>611388</td>\n",
       "      <td>545680</td>\n",
       "      <td>612235</td>\n",
       "      <td>-0.001383</td>\n",
       "    </tr>\n",
       "  </tbody>\n",
       "</table>\n",
       "<p>101 rows × 10 columns</p>\n",
       "</div>"
      ],
      "text/plain": [
       "     parcl_id  acquisitions  dispositions  net            clean_name  \\\n",
       "0     2887280          1026           923  103           Atlanta, GA   \n",
       "1     2899845           253           183   70           Chicago, IL   \n",
       "2     2899841           443           415   28         Charlotte, NC   \n",
       "3     2899621            45            20   25        Boise City, ID   \n",
       "4     2899967           268           246   22           Houston, TX   \n",
       "..        ...           ...           ...  ...                   ...   \n",
       "96    2900137           103           158  -55       Minneapolis, MN   \n",
       "97    2899753           404           459  -55           Detroit, MI   \n",
       "98    2899664            28            84  -56  Colorado Springs, CO   \n",
       "99    2900245           640           746 -106           Phoenix, AZ   \n",
       "100   5826765         10345         11192 -847                   USA   \n",
       "\n",
       "     pct_sf_housing_stock_portfolio_1000_plus  current_portfolio_size  \\\n",
       "0                                        3.80                   63200   \n",
       "1                                        0.66                   13197   \n",
       "2                                        3.40                   26364   \n",
       "3                                        0.75                    1830   \n",
       "4                                        1.82                   32588   \n",
       "..                                        ...                     ...   \n",
       "96                                       0.48                    4488   \n",
       "97                                       1.03                   13075   \n",
       "98                                       1.46                    3042   \n",
       "99                                       2.45                   32084   \n",
       "100                                      0.74                  611388   \n",
       "\n",
       "     start_portfolio_size  port_start  port_size_change  \n",
       "0                   71807       63097          0.001632  \n",
       "1                   10639       13127          0.005333  \n",
       "2                   25188       26336          0.001063  \n",
       "3                    1526        1805          0.013850  \n",
       "4                   23078       32566          0.000676  \n",
       "..                    ...         ...               ...  \n",
       "96                   3762        4543         -0.012107  \n",
       "97                  12545       13130         -0.004189  \n",
       "98                   2973        3098         -0.018076  \n",
       "99                  32579       32190         -0.003293  \n",
       "100                545680      612235         -0.001383  \n",
       "\n",
       "[101 rows x 10 columns]"
      ]
     },
     "execution_count": 7,
     "metadata": {},
     "output_type": "execute_result"
    }
   ],
   "source": [
    "data['port_start'] = data['current_portfolio_size'] - data['net']\n",
    "data['port_size_change'] = (data['current_portfolio_size'] - data['port_start'])/data['port_start']\n",
    "data"
   ]
  },
  {
   "cell_type": "code",
   "execution_count": 8,
   "metadata": {},
   "outputs": [
    {
     "data": {
      "text/html": [
       "<div>\n",
       "<style scoped>\n",
       "    .dataframe tbody tr th:only-of-type {\n",
       "        vertical-align: middle;\n",
       "    }\n",
       "\n",
       "    .dataframe tbody tr th {\n",
       "        vertical-align: top;\n",
       "    }\n",
       "\n",
       "    .dataframe thead th {\n",
       "        text-align: right;\n",
       "    }\n",
       "</style>\n",
       "<table border=\"1\" class=\"dataframe\">\n",
       "  <thead>\n",
       "    <tr style=\"text-align: right;\">\n",
       "      <th></th>\n",
       "      <th>parcl_id</th>\n",
       "      <th>acquisitions</th>\n",
       "      <th>dispositions</th>\n",
       "      <th>net</th>\n",
       "      <th>clean_name</th>\n",
       "      <th>pct_sf_housing_stock_portfolio_1000_plus</th>\n",
       "      <th>current_portfolio_size</th>\n",
       "      <th>start_portfolio_size</th>\n",
       "      <th>port_start</th>\n",
       "      <th>port_size_change</th>\n",
       "    </tr>\n",
       "  </thead>\n",
       "  <tbody>\n",
       "    <tr>\n",
       "      <th>100</th>\n",
       "      <td>5826765</td>\n",
       "      <td>10345</td>\n",
       "      <td>11192</td>\n",
       "      <td>-847</td>\n",
       "      <td>USA</td>\n",
       "      <td>0.74</td>\n",
       "      <td>611388</td>\n",
       "      <td>545680</td>\n",
       "      <td>612235</td>\n",
       "      <td>-0.001383</td>\n",
       "    </tr>\n",
       "  </tbody>\n",
       "</table>\n",
       "</div>"
      ],
      "text/plain": [
       "     parcl_id  acquisitions  dispositions  net clean_name  \\\n",
       "100   5826765         10345         11192 -847        USA   \n",
       "\n",
       "     pct_sf_housing_stock_portfolio_1000_plus  current_portfolio_size  \\\n",
       "100                                      0.74                  611388   \n",
       "\n",
       "     start_portfolio_size  port_start  port_size_change  \n",
       "100                545680      612235         -0.001383  "
      ]
     },
     "execution_count": 8,
     "metadata": {},
     "output_type": "execute_result"
    }
   ],
   "source": [
    "data.loc[data['parcl_id']==5826765]"
   ]
  },
  {
   "cell_type": "code",
   "execution_count": 9,
   "metadata": {},
   "outputs": [
    {
     "name": "stdout",
     "output_type": "stream",
     "text": [
      "data: {'parcl_id': ['5826765', '2900187', '2900078', '2899845', '2899734', '2899967', '2900475', '2900244', '2900128', '2887280', '2899625', '2900245', '2900336', '2900295', '2899753', '2900353', '2900137', '2900332', '2900417', '2899750', '2887292', '2900321', '2900213', '2899841', '2900331', '2900266', '2900315', '2900251', '2887289', '2900049', '2899647', '2900012', '2899671', '2899979', '2899654', '2900174', '2900338', '2900462', '2900275', '2899989', '2900134', '2900205', '2900282', '2900122', '2900292', '2900079', '2900182', '2900329', '2899944', '2899645', '2899611', '2899916', '2900301', '2900436', '2900438', '2900447', '2899715', '2899896', '2900208', '2899636', '2899929', '2899862', '2887291', '2899858', '2900030', '2900116', '2899589', '2899787', '2900181', '2899867', '2900192', '2900223', '2899666', '2899742', '2899840', '2900404', '2899924', '2899822', '2899621', '2899664', '2900070', '2900041', '2899752', '2899854', '2900271', '2900201', '2900391', '2900089', '2900503', '2900276', '2899748', '2900413', '2899768', '2900491', '2900429', '2887286', '2900229', '2899941', '2899985', '2900389', '2900351'], 'start_date': '2024-04-15', 'portfolio_size': 'PORTFOLIO_1000_PLUS'}, params: {}\n"
     ]
    }
   ],
   "source": [
    "listings = client.portfolio_metrics.sf_new_listings_for_sale_rolling_counts.retrieve(\n",
    "    parcl_ids=markets['parcl_id'].tolist(),\n",
    "    start_date='2024-04-15',\n",
    "    auto_paginate=True,\n",
    "    portfolio_size='PORTFOLIO_1000_PLUS'\n",
    ")"
   ]
  },
  {
   "cell_type": "code",
   "execution_count": 10,
   "metadata": {},
   "outputs": [],
   "source": [
    "listings = listings.sort_values(['pct_sf_for_sale_market_rolling_30_day']).merge(markets[['parcl_id', 'clean_name']], on='parcl_id', how='left')"
   ]
  },
  {
   "cell_type": "code",
   "execution_count": 12,
   "metadata": {},
   "outputs": [
    {
     "data": {
      "text/plain": [
       "array([['Omaha, NE', 2900208],\n",
       "       ['Knoxville, TN', 2900030],\n",
       "       ['Providence, RI', 2900275],\n",
       "       ['Bridgeport, CT', 2899636],\n",
       "       ['San Jose, CA', 2900338],\n",
       "       ['Grand Rapids, MI', 2899916],\n",
       "       ['Hartford, CT', 2899944],\n",
       "       ['Des Moines, IA', 2899752],\n",
       "       ['Spokane, WA', 2900389],\n",
       "       ['Rochester, NY', 2900301],\n",
       "       ['New Orleans, LA', 2900182],\n",
       "       ['Toledo, OH', 2900429],\n",
       "       ['Allentown, PA', 2899867],\n",
       "       ['El Paso, TX', 2899787],\n",
       "       ['Mcallen, TX', 2900116],\n",
       "       ['Baton Rouge, LA', 2899589],\n",
       "       ['Provo, UT', 2900276],\n",
       "       ['Madison, WI', 2900089],\n",
       "       ['Fresno, CA', 2899715],\n",
       "       ['Richmond, VA', 2900292],\n",
       "       ['Buffalo, NY', 2899645],\n",
       "       ['Little Rock, AR', 2900070],\n",
       "       ['Boston, MA', 2899625],\n",
       "       ['Milwaukee, WI', 2900134],\n",
       "       ['Greenville, SC', 2899929],\n",
       "       ['Harrisburg, PA', 2899941],\n",
       "       ['Jackson, MS', 2899985],\n",
       "       ['Memphis, TN', 2900122],\n",
       "       ['Louisville/Jefferson County, KY', 2900079],\n",
       "       ['Worcester, MA', 2899896],\n",
       "       ['Augusta, GA', 2887286],\n",
       "       ['Springfield, MA', 2900391],\n",
       "       ['New Haven, CT', 2900181],\n",
       "       ['Tulsa, OK', 2900438],\n",
       "       ['Virginia Beach, VA', 2900462],\n",
       "       ['Seattle, WA', 2900353],\n",
       "       ['San Francisco, CA', 2900336],\n",
       "       ['Dayton, OH', 2899742],\n",
       "       ['Wichita, KS', 2900491],\n",
       "       ['Syracuse, NY', 2900413],\n",
       "       ['Portland, OR', 2900266],\n",
       "       ['Boise City, ID', 2899621],\n",
       "       ['Philadelphia, PA', 2900244],\n",
       "       ['Albany, NY', 2899858],\n",
       "       ['Washington, DC', 2900475],\n",
       "       ['Urban Honolulu, HI', 2900447],\n",
       "       ['Tucson, AZ', 2900436],\n",
       "       ['Bakersfield, CA', 2887291],\n",
       "       ['Minneapolis, MN', 2900137],\n",
       "       ['Nashville, TN', 2900174],\n",
       "       ['Salt Lake City, UT', 2900329],\n",
       "       ['San Diego, CA', 2900332],\n",
       "       ['Albuquerque, NM', 2899862],\n",
       "       ['Los Angeles, CA', 2900078],\n",
       "       ['Stockton, CA', 2900404],\n",
       "       ['Denver, CO', 2899750],\n",
       "       ['Scranton, PA', 2900351],\n",
       "       ['New York, NY', 2900187],\n",
       "       ['Deltona, FL', 2899748],\n",
       "       ['Oxnard, CA', 2900223],\n",
       "       ['Oklahoma City, OK', 2900205],\n",
       "       ['Baltimore, MD', 2887292],\n",
       "       ['Austin, TX', 2887289],\n",
       "       ['Cincinnati, OH', 2899647],\n",
       "       ['Poughkeepsie, NY', 2900271],\n",
       "       ['Palm Bay, FL', 2900229],\n",
       "       ['Akron, OH', 2899854],\n",
       "       ['Charleston, SC', 2899840],\n",
       "       ['Riverside, CA', 2900295],\n",
       "       ['Cleveland, OH', 2899654],\n",
       "       ['Ogden, UT', 2900201],\n",
       "       ['Miami, FL', 2900128],\n",
       "       ['Cape Coral, FL', 2899822],\n",
       "       ['USA', 5826765],\n",
       "       ['Kansas City, MO', 2900012],\n",
       "       ['Greensboro, NC', 2899924],\n",
       "       ['North Port, FL', 2900192],\n",
       "       ['Chicago, IL', 2899845],\n",
       "       ['Winston, NC', 2900503],\n",
       "       ['Pittsburgh, PA', 2900251],\n",
       "       ['Columbus, OH', 2899671],\n",
       "       ['Colorado Springs, CO', 2899664],\n",
       "       ['Sacramento, CA', 2900315],\n",
       "       ['St. Louis, MO', 2900321],\n",
       "       ['Detroit, MI', 2899753],\n",
       "       ['Houston, TX', 2899967],\n",
       "       ['Columbia, SC', 2899666],\n",
       "       ['Phoenix, AZ', 2900245],\n",
       "       ['Las Vegas, NV', 2900049],\n",
       "       ['Orlando, FL', 2900213],\n",
       "       ['San Antonio, TX', 2900331],\n",
       "       ['Durham, NC', 2899768],\n",
       "       ['Birmingham, AL', 2899611],\n",
       "       ['Dallas, TX', 2899734],\n",
       "       ['Tampa, FL', 2900417],\n",
       "       ['Lakeland, FL', 2900041],\n",
       "       ['Raleigh, NC', 2900282],\n",
       "       ['Charlotte, NC', 2899841],\n",
       "       ['Atlanta, GA', 2887280],\n",
       "       ['Indianapolis, IN', 2899979],\n",
       "       ['Jacksonville, FL', 2899989]], dtype=object)"
      ]
     },
     "execution_count": 12,
     "metadata": {},
     "output_type": "execute_result"
    }
   ],
   "source": [
    "listings[['clean_name', 'parcl_id']].drop_duplicates().values"
   ]
  },
  {
   "cell_type": "code",
   "execution_count": 19,
   "metadata": {},
   "outputs": [
    {
     "name": "stderr",
     "output_type": "stream",
     "text": [
      "/var/folders/cs/pgg3ckbn3d397n3_x2b312k80000gn/T/ipykernel_54553/1342805152.py:3: SettingWithCopyWarning:\n",
      "\n",
      "\n",
      "A value is trying to be set on a copy of a slice from a DataFrame.\n",
      "Try using .loc[row_indexer,col_indexer] = value instead\n",
      "\n",
      "See the caveats in the documentation: https://pandas.pydata.org/pandas-docs/stable/user_guide/indexing.html#returning-a-view-versus-a-copy\n",
      "\n",
      "/var/folders/cs/pgg3ckbn3d397n3_x2b312k80000gn/T/ipykernel_54553/1342805152.py:4: SettingWithCopyWarning:\n",
      "\n",
      "\n",
      "A value is trying to be set on a copy of a slice from a DataFrame.\n",
      "Try using .loc[row_indexer,col_indexer] = value instead\n",
      "\n",
      "See the caveats in the documentation: https://pandas.pydata.org/pandas-docs/stable/user_guide/indexing.html#returning-a-view-versus-a-copy\n",
      "\n",
      "/var/folders/cs/pgg3ckbn3d397n3_x2b312k80000gn/T/ipykernel_54553/1342805152.py:5: SettingWithCopyWarning:\n",
      "\n",
      "\n",
      "A value is trying to be set on a copy of a slice from a DataFrame.\n",
      "Try using .loc[row_indexer,col_indexer] = value instead\n",
      "\n",
      "See the caveats in the documentation: https://pandas.pydata.org/pandas-docs/stable/user_guide/indexing.html#returning-a-view-versus-a-copy\n",
      "\n"
     ]
    }
   ],
   "source": [
    "fl_pids = markets.loc[markets['state']=='FL']['parcl_id'].tolist()\n",
    "fl = listings.loc[listings['parcl_id'].isin(fl_pids)]\n",
    "\n",
    "fl['pct_sf_for_sale_market_rolling_7_day'] = fl['pct_sf_for_sale_market_rolling_7_day']/100\n",
    "fl['pct_sf_for_sale_market_rolling_30_day'] = fl['pct_sf_for_sale_market_rolling_30_day']/100\n",
    "fl['pct_sf_for_sale_market_rolling_60_day'] = fl['pct_sf_for_sale_market_rolling_60_day']/100\n"
   ]
  },
  {
   "cell_type": "code",
   "execution_count": 22,
   "metadata": {},
   "outputs": [
    {
     "data": {
      "application/vnd.plotly.v1+json": {
       "config": {
        "plotlyServerURL": "https://plot.ly"
       },
       "data": [
        {
         "hovertemplate": "clean_name=Deltona, FL<br>date=%{x}<br>% of SFH Inventory=%{y}<extra></extra>",
         "legendgroup": "Deltona, FL",
         "line": {
          "color": "lightblue",
          "dash": "dash",
          "width": 2
         },
         "marker": {
          "symbol": "circle"
         },
         "mode": "lines",
         "name": "Deltona, FL",
         "opacity": 0.8,
         "orientation": "v",
         "showlegend": true,
         "type": "scatter",
         "x": [
          "2024-04-15T00:00:00",
          "2024-04-22T00:00:00",
          "2024-04-29T00:00:00",
          "2024-05-06T00:00:00",
          "2024-05-13T00:00:00",
          "2024-05-20T00:00:00",
          "2024-05-27T00:00:00",
          "2024-06-03T00:00:00",
          "2024-06-10T00:00:00",
          "2024-06-17T00:00:00",
          "2024-06-24T00:00:00",
          "2024-07-01T00:00:00",
          "2024-07-08T00:00:00",
          "2024-07-15T00:00:00",
          "2024-07-22T00:00:00",
          "2024-07-29T00:00:00",
          "2024-08-05T00:00:00",
          "2024-08-12T00:00:00",
          "2024-08-19T00:00:00",
          "2024-08-26T00:00:00",
          "2024-09-02T00:00:00",
          "2024-09-09T00:00:00",
          "2024-09-16T00:00:00",
          "2024-09-23T00:00:00",
          "2024-09-30T00:00:00",
          "2024-10-07T00:00:00"
         ],
         "xaxis": "x",
         "y": [
          0.0058,
          0.0085,
          0.009899999999999999,
          0.0128,
          0.0129,
          0.0116,
          0.0161,
          0.0144,
          0.0173,
          0.015700000000000002,
          0.014199999999999999,
          0.0161,
          0.0104,
          0.0076,
          0.0085,
          0.013500000000000002,
          0.019,
          0.018000000000000002,
          0.0226,
          0.0174,
          0.0163,
          0.0217,
          0.0229,
          0.02,
          0.019799999999999998,
          0.0177
         ],
         "yaxis": "y"
        },
        {
         "hovertemplate": "clean_name=Cape Coral, FL<br>date=%{x}<br>% of SFH Inventory=%{y}<extra></extra>",
         "legendgroup": "Cape Coral, FL",
         "line": {
          "color": "lightblue",
          "dash": "dash",
          "width": 2
         },
         "marker": {
          "symbol": "circle"
         },
         "mode": "lines",
         "name": "Cape Coral, FL",
         "opacity": 0.8,
         "orientation": "v",
         "showlegend": true,
         "type": "scatter",
         "x": [
          "2024-04-15T00:00:00",
          "2024-04-22T00:00:00",
          "2024-04-29T00:00:00",
          "2024-05-06T00:00:00",
          "2024-05-13T00:00:00",
          "2024-05-20T00:00:00",
          "2024-05-27T00:00:00",
          "2024-06-03T00:00:00",
          "2024-06-10T00:00:00",
          "2024-06-17T00:00:00",
          "2024-06-24T00:00:00",
          "2024-07-01T00:00:00",
          "2024-07-08T00:00:00",
          "2024-07-15T00:00:00",
          "2024-07-22T00:00:00",
          "2024-07-29T00:00:00",
          "2024-08-05T00:00:00",
          "2024-08-12T00:00:00",
          "2024-08-19T00:00:00",
          "2024-08-26T00:00:00",
          "2024-09-02T00:00:00",
          "2024-09-09T00:00:00",
          "2024-09-16T00:00:00",
          "2024-09-23T00:00:00",
          "2024-09-30T00:00:00",
          "2024-10-07T00:00:00"
         ],
         "xaxis": "x",
         "y": [
          0.0124,
          0.0259,
          0.0285,
          0.0291,
          0.0287,
          0.0097,
          0.019,
          0.0163,
          0.0128,
          0.0288,
          0.0395,
          0.04019999999999999,
          0.037000000000000005,
          0.019799999999999998,
          0.025699999999999997,
          0.0212,
          0.0255,
          0.028999999999999998,
          0.0246,
          0.022799999999999997,
          0.023399999999999997,
          0.0326,
          0.0317,
          0.0315,
          0.0311,
          0.031400000000000004
         ],
         "yaxis": "y"
        },
        {
         "hovertemplate": "clean_name=Jacksonville, FL<br>date=%{x}<br>% of SFH Inventory=%{y}<extra></extra>",
         "legendgroup": "Jacksonville, FL",
         "line": {
          "color": "lightblue",
          "dash": "dash",
          "width": 2
         },
         "marker": {
          "symbol": "circle"
         },
         "mode": "lines",
         "name": "Jacksonville, FL",
         "opacity": 0.8,
         "orientation": "v",
         "showlegend": true,
         "type": "scatter",
         "x": [
          "2024-04-15T00:00:00",
          "2024-04-22T00:00:00",
          "2024-04-29T00:00:00",
          "2024-05-06T00:00:00",
          "2024-05-13T00:00:00",
          "2024-05-20T00:00:00",
          "2024-05-27T00:00:00",
          "2024-06-03T00:00:00",
          "2024-06-10T00:00:00",
          "2024-06-17T00:00:00",
          "2024-06-24T00:00:00",
          "2024-07-01T00:00:00",
          "2024-07-08T00:00:00",
          "2024-07-15T00:00:00",
          "2024-07-22T00:00:00",
          "2024-07-29T00:00:00",
          "2024-08-05T00:00:00",
          "2024-08-12T00:00:00",
          "2024-08-19T00:00:00",
          "2024-08-26T00:00:00",
          "2024-09-02T00:00:00",
          "2024-09-09T00:00:00",
          "2024-09-16T00:00:00",
          "2024-09-23T00:00:00",
          "2024-09-30T00:00:00",
          "2024-10-07T00:00:00"
         ],
         "xaxis": "x",
         "y": [
          0.0374,
          0.0321,
          0.030699999999999998,
          0.0322,
          0.0316,
          0.0338,
          0.0341,
          0.0339,
          0.0323,
          0.0349,
          0.0333,
          0.032,
          0.033,
          0.0344,
          0.036000000000000004,
          0.0354,
          0.0369,
          0.0408,
          0.0414,
          0.0412,
          0.0383,
          0.0344,
          0.038599999999999995,
          0.035,
          0.0359,
          0.0383
         ],
         "yaxis": "y"
        },
        {
         "hovertemplate": "clean_name=Lakeland, FL<br>date=%{x}<br>% of SFH Inventory=%{y}<extra></extra>",
         "legendgroup": "Lakeland, FL",
         "line": {
          "color": "lightblue",
          "dash": "dash",
          "width": 2
         },
         "marker": {
          "symbol": "circle"
         },
         "mode": "lines",
         "name": "Lakeland, FL",
         "opacity": 0.8,
         "orientation": "v",
         "showlegend": true,
         "type": "scatter",
         "x": [
          "2024-04-15T00:00:00",
          "2024-04-22T00:00:00",
          "2024-04-29T00:00:00",
          "2024-05-06T00:00:00",
          "2024-05-13T00:00:00",
          "2024-05-20T00:00:00",
          "2024-05-27T00:00:00",
          "2024-06-03T00:00:00",
          "2024-06-10T00:00:00",
          "2024-06-17T00:00:00",
          "2024-06-24T00:00:00",
          "2024-07-01T00:00:00",
          "2024-07-08T00:00:00",
          "2024-07-15T00:00:00",
          "2024-07-22T00:00:00",
          "2024-07-29T00:00:00",
          "2024-08-05T00:00:00",
          "2024-08-12T00:00:00",
          "2024-08-19T00:00:00",
          "2024-08-26T00:00:00",
          "2024-09-02T00:00:00",
          "2024-09-09T00:00:00",
          "2024-09-16T00:00:00",
          "2024-09-23T00:00:00",
          "2024-09-30T00:00:00",
          "2024-10-07T00:00:00"
         ],
         "xaxis": "x",
         "y": [
          0.0192,
          0.0241,
          0.022099999999999998,
          0.0206,
          0.027000000000000003,
          0.026600000000000002,
          0.032,
          0.0344,
          0.0274,
          0.028300000000000002,
          0.0254,
          0.019,
          0.020499999999999997,
          0.0226,
          0.0262,
          0.029900000000000003,
          0.0394,
          0.0323,
          0.0273,
          0.026699999999999998,
          0.02,
          0.0478,
          0.046799999999999994,
          0.045599999999999995,
          0.0393,
          0.0341
         ],
         "yaxis": "y"
        },
        {
         "hovertemplate": "clean_name=Miami, FL<br>date=%{x}<br>% of SFH Inventory=%{y}<extra></extra>",
         "legendgroup": "Miami, FL",
         "line": {
          "color": "lightblue",
          "dash": "dash",
          "width": 2
         },
         "marker": {
          "symbol": "circle"
         },
         "mode": "lines",
         "name": "Miami, FL",
         "opacity": 0.8,
         "orientation": "v",
         "showlegend": true,
         "type": "scatter",
         "x": [
          "2024-04-15T00:00:00",
          "2024-04-22T00:00:00",
          "2024-04-29T00:00:00",
          "2024-05-06T00:00:00",
          "2024-05-13T00:00:00",
          "2024-05-20T00:00:00",
          "2024-05-27T00:00:00",
          "2024-06-03T00:00:00",
          "2024-06-10T00:00:00",
          "2024-06-17T00:00:00",
          "2024-06-24T00:00:00",
          "2024-07-01T00:00:00",
          "2024-07-08T00:00:00",
          "2024-07-15T00:00:00",
          "2024-07-22T00:00:00",
          "2024-07-29T00:00:00",
          "2024-08-05T00:00:00",
          "2024-08-12T00:00:00",
          "2024-08-19T00:00:00",
          "2024-08-26T00:00:00",
          "2024-09-02T00:00:00",
          "2024-09-09T00:00:00",
          "2024-09-16T00:00:00",
          "2024-09-23T00:00:00",
          "2024-09-30T00:00:00",
          "2024-10-07T00:00:00"
         ],
         "xaxis": "x",
         "y": [
          0.011399999999999999,
          0.0146,
          0.016399999999999998,
          0.022400000000000003,
          0.024700000000000003,
          0.0233,
          0.0227,
          0.0175,
          0.0123,
          0.0128,
          0.011399999999999999,
          0.0097,
          0.0097,
          0.010700000000000001,
          0.011200000000000002,
          0.0106,
          0.009899999999999999,
          0.0108,
          0.013600000000000001,
          0.013000000000000001,
          0.013000000000000001,
          0.0277,
          0.0275,
          0.0248,
          0.0265,
          0.0209
         ],
         "yaxis": "y"
        },
        {
         "hovertemplate": "clean_name=North Port, FL<br>date=%{x}<br>% of SFH Inventory=%{y}<extra></extra>",
         "legendgroup": "North Port, FL",
         "line": {
          "color": "lightblue",
          "dash": "dash",
          "width": 2
         },
         "marker": {
          "symbol": "circle"
         },
         "mode": "lines",
         "name": "North Port, FL",
         "opacity": 0.8,
         "orientation": "v",
         "showlegend": true,
         "type": "scatter",
         "x": [
          "2024-04-15T00:00:00",
          "2024-04-22T00:00:00",
          "2024-04-29T00:00:00",
          "2024-05-06T00:00:00",
          "2024-05-13T00:00:00",
          "2024-05-20T00:00:00",
          "2024-05-27T00:00:00",
          "2024-06-03T00:00:00",
          "2024-06-10T00:00:00",
          "2024-06-17T00:00:00",
          "2024-06-24T00:00:00",
          "2024-07-01T00:00:00",
          "2024-07-08T00:00:00",
          "2024-07-15T00:00:00",
          "2024-07-22T00:00:00",
          "2024-07-29T00:00:00",
          "2024-08-05T00:00:00",
          "2024-08-12T00:00:00",
          "2024-08-19T00:00:00",
          "2024-08-26T00:00:00",
          "2024-09-02T00:00:00",
          "2024-09-09T00:00:00",
          "2024-09-16T00:00:00",
          "2024-09-23T00:00:00",
          "2024-09-30T00:00:00",
          "2024-10-07T00:00:00"
         ],
         "xaxis": "x",
         "y": [
          0.0148,
          0.011399999999999999,
          0.0105,
          0.0118,
          0.0108,
          0.0104,
          0.011699999999999999,
          0.015,
          0.0166,
          0.0183,
          0.013000000000000001,
          0.0149,
          0.015300000000000001,
          0.0178,
          0.02,
          0.0232,
          0.0239,
          0.023799999999999998,
          0.020499999999999997,
          0.0197,
          0.0158,
          0.0638,
          0.0464,
          0.0373,
          0.0387,
          0.037599999999999995
         ],
         "yaxis": "y"
        },
        {
         "hovertemplate": "clean_name=Orlando, FL<br>date=%{x}<br>% of SFH Inventory=%{y}<extra></extra>",
         "legendgroup": "Orlando, FL",
         "line": {
          "color": "lightblue",
          "dash": "dash",
          "width": 2
         },
         "marker": {
          "symbol": "circle"
         },
         "mode": "lines",
         "name": "Orlando, FL",
         "opacity": 0.8,
         "orientation": "v",
         "showlegend": true,
         "type": "scatter",
         "x": [
          "2024-04-15T00:00:00",
          "2024-04-22T00:00:00",
          "2024-04-29T00:00:00",
          "2024-05-06T00:00:00",
          "2024-05-13T00:00:00",
          "2024-05-20T00:00:00",
          "2024-05-27T00:00:00",
          "2024-06-03T00:00:00",
          "2024-06-10T00:00:00",
          "2024-06-17T00:00:00",
          "2024-06-24T00:00:00",
          "2024-07-01T00:00:00",
          "2024-07-08T00:00:00",
          "2024-07-15T00:00:00",
          "2024-07-22T00:00:00",
          "2024-07-29T00:00:00",
          "2024-08-05T00:00:00",
          "2024-08-12T00:00:00",
          "2024-08-19T00:00:00",
          "2024-08-26T00:00:00",
          "2024-09-02T00:00:00",
          "2024-09-09T00:00:00",
          "2024-09-16T00:00:00",
          "2024-09-23T00:00:00",
          "2024-09-30T00:00:00",
          "2024-10-07T00:00:00"
         ],
         "xaxis": "x",
         "y": [
          0.0239,
          0.0216,
          0.0191,
          0.019,
          0.018799999999999997,
          0.0173,
          0.02,
          0.018000000000000002,
          0.0168,
          0.0192,
          0.0213,
          0.0187,
          0.0191,
          0.024,
          0.0264,
          0.0297,
          0.031,
          0.0311,
          0.0322,
          0.0331,
          0.0347,
          0.0397,
          0.04019999999999999,
          0.0387,
          0.0379,
          0.0378
         ],
         "yaxis": "y"
        },
        {
         "hovertemplate": "clean_name=Palm Bay, FL<br>date=%{x}<br>% of SFH Inventory=%{y}<extra></extra>",
         "legendgroup": "Palm Bay, FL",
         "line": {
          "color": "lightblue",
          "dash": "dash",
          "width": 2
         },
         "marker": {
          "symbol": "circle"
         },
         "mode": "lines",
         "name": "Palm Bay, FL",
         "opacity": 0.8,
         "orientation": "v",
         "showlegend": true,
         "type": "scatter",
         "x": [
          "2024-04-15T00:00:00",
          "2024-04-22T00:00:00",
          "2024-04-29T00:00:00",
          "2024-05-06T00:00:00",
          "2024-05-13T00:00:00",
          "2024-05-20T00:00:00",
          "2024-05-27T00:00:00",
          "2024-06-03T00:00:00",
          "2024-06-10T00:00:00",
          "2024-06-17T00:00:00",
          "2024-06-24T00:00:00",
          "2024-07-01T00:00:00",
          "2024-07-08T00:00:00",
          "2024-07-15T00:00:00",
          "2024-07-22T00:00:00",
          "2024-07-29T00:00:00",
          "2024-08-05T00:00:00",
          "2024-08-12T00:00:00",
          "2024-08-19T00:00:00",
          "2024-08-26T00:00:00",
          "2024-09-02T00:00:00",
          "2024-09-09T00:00:00",
          "2024-09-16T00:00:00",
          "2024-09-23T00:00:00",
          "2024-09-30T00:00:00",
          "2024-10-07T00:00:00"
         ],
         "xaxis": "x",
         "y": [
          0.0066,
          0.0184,
          0.0179,
          0.018500000000000003,
          0.0231,
          0.012,
          0.0172,
          0.0141,
          0.0139,
          0.013500000000000002,
          0.0108,
          0.018500000000000003,
          0.0172,
          0.0147,
          0.0192,
          0.0106,
          0.0074,
          0.0076,
          0.0102,
          0.0084,
          0.0095,
          0.016,
          0.012,
          0.0129,
          0.0128,
          0.0158
         ],
         "yaxis": "y"
        },
        {
         "hovertemplate": "clean_name=Tampa, FL<br>date=%{x}<br>% of SFH Inventory=%{y}<extra></extra>",
         "legendgroup": "Tampa, FL",
         "line": {
          "color": "lightblue",
          "dash": "dash",
          "width": 2
         },
         "marker": {
          "symbol": "circle"
         },
         "mode": "lines",
         "name": "Tampa, FL",
         "opacity": 0.8,
         "orientation": "v",
         "showlegend": true,
         "type": "scatter",
         "x": [
          "2024-04-15T00:00:00",
          "2024-04-22T00:00:00",
          "2024-04-29T00:00:00",
          "2024-05-06T00:00:00",
          "2024-05-13T00:00:00",
          "2024-05-20T00:00:00",
          "2024-05-27T00:00:00",
          "2024-06-03T00:00:00",
          "2024-06-10T00:00:00",
          "2024-06-17T00:00:00",
          "2024-06-24T00:00:00",
          "2024-07-01T00:00:00",
          "2024-07-08T00:00:00",
          "2024-07-15T00:00:00",
          "2024-07-22T00:00:00",
          "2024-07-29T00:00:00",
          "2024-08-05T00:00:00",
          "2024-08-12T00:00:00",
          "2024-08-19T00:00:00",
          "2024-08-26T00:00:00",
          "2024-09-02T00:00:00",
          "2024-09-09T00:00:00",
          "2024-09-16T00:00:00",
          "2024-09-23T00:00:00",
          "2024-09-30T00:00:00",
          "2024-10-07T00:00:00"
         ],
         "xaxis": "x",
         "y": [
          0.019799999999999998,
          0.0197,
          0.0208,
          0.0209,
          0.0203,
          0.019,
          0.0233,
          0.024,
          0.0231,
          0.0255,
          0.0315,
          0.0298,
          0.024900000000000002,
          0.0263,
          0.024900000000000002,
          0.0241,
          0.0286,
          0.030600000000000002,
          0.0342,
          0.035699999999999996,
          0.0344,
          0.0542,
          0.052000000000000005,
          0.045,
          0.0493,
          0.0509
         ],
         "yaxis": "y"
        }
       ],
       "layout": {
        "annotations": [
         {
          "font": {
           "size": 12
          },
          "showarrow": false,
          "text": "Deltona, FL",
          "x": "2024-10-07T00:00:00",
          "xanchor": "left",
          "xref": "x",
          "y": 0.0177,
          "yref": "y"
         },
         {
          "font": {
           "size": 12
          },
          "showarrow": false,
          "text": "Cape Coral, FL",
          "x": "2024-10-07T00:00:00",
          "xanchor": "left",
          "xref": "x",
          "y": 0.031400000000000004,
          "yref": "y"
         },
         {
          "font": {
           "size": 12
          },
          "showarrow": false,
          "text": "Jacksonville, FL",
          "x": "2024-10-07T00:00:00",
          "xanchor": "left",
          "xref": "x",
          "y": 0.0383,
          "yref": "y"
         },
         {
          "font": {
           "size": 12
          },
          "showarrow": false,
          "text": "Lakeland, FL",
          "x": "2024-10-07T00:00:00",
          "xanchor": "left",
          "xref": "x",
          "y": 0.0341,
          "yref": "y"
         },
         {
          "font": {
           "size": 12
          },
          "showarrow": false,
          "text": "Miami, FL",
          "x": "2024-10-07T00:00:00",
          "xanchor": "left",
          "xref": "x",
          "y": 0.0209,
          "yref": "y"
         },
         {
          "font": {
           "size": 12
          },
          "showarrow": false,
          "text": "Tampa, FL",
          "x": "2024-10-07T00:00:00",
          "xanchor": "left",
          "xref": "x",
          "y": 0.0509,
          "yref": "y"
         }
        ],
        "font": {
         "color": "#ffffff"
        },
        "height": 800,
        "images": [
         {
          "sizex": 0.15,
          "sizey": 0.15,
          "source": "https://parcllabs-assets.s3.amazonaws.com/powered-by-parcllabs-api-logo-white+(1).svg",
          "x": 1,
          "xanchor": "right",
          "xref": "paper",
          "y": 0,
          "yanchor": "bottom",
          "yref": "paper"
         }
        ],
        "legend": {
         "title": {
          "text": "clean_name"
         },
         "tracegroupgap": 0
        },
        "margin": {
         "b": 40,
         "l": 40,
         "r": 40,
         "t": 100
        },
        "paper_bgcolor": "#1e1e1e",
        "plot_bgcolor": "#1e1e1e",
        "showlegend": false,
        "template": {
         "data": {
          "bar": [
           {
            "error_x": {
             "color": "#2a3f5f"
            },
            "error_y": {
             "color": "#2a3f5f"
            },
            "marker": {
             "line": {
              "color": "#E5ECF6",
              "width": 0.5
             },
             "pattern": {
              "fillmode": "overlay",
              "size": 10,
              "solidity": 0.2
             }
            },
            "type": "bar"
           }
          ],
          "barpolar": [
           {
            "marker": {
             "line": {
              "color": "#E5ECF6",
              "width": 0.5
             },
             "pattern": {
              "fillmode": "overlay",
              "size": 10,
              "solidity": 0.2
             }
            },
            "type": "barpolar"
           }
          ],
          "carpet": [
           {
            "aaxis": {
             "endlinecolor": "#2a3f5f",
             "gridcolor": "white",
             "linecolor": "white",
             "minorgridcolor": "white",
             "startlinecolor": "#2a3f5f"
            },
            "baxis": {
             "endlinecolor": "#2a3f5f",
             "gridcolor": "white",
             "linecolor": "white",
             "minorgridcolor": "white",
             "startlinecolor": "#2a3f5f"
            },
            "type": "carpet"
           }
          ],
          "choropleth": [
           {
            "colorbar": {
             "outlinewidth": 0,
             "ticks": ""
            },
            "type": "choropleth"
           }
          ],
          "contour": [
           {
            "colorbar": {
             "outlinewidth": 0,
             "ticks": ""
            },
            "colorscale": [
             [
              0,
              "#0d0887"
             ],
             [
              0.1111111111111111,
              "#46039f"
             ],
             [
              0.2222222222222222,
              "#7201a8"
             ],
             [
              0.3333333333333333,
              "#9c179e"
             ],
             [
              0.4444444444444444,
              "#bd3786"
             ],
             [
              0.5555555555555556,
              "#d8576b"
             ],
             [
              0.6666666666666666,
              "#ed7953"
             ],
             [
              0.7777777777777778,
              "#fb9f3a"
             ],
             [
              0.8888888888888888,
              "#fdca26"
             ],
             [
              1,
              "#f0f921"
             ]
            ],
            "type": "contour"
           }
          ],
          "contourcarpet": [
           {
            "colorbar": {
             "outlinewidth": 0,
             "ticks": ""
            },
            "type": "contourcarpet"
           }
          ],
          "heatmap": [
           {
            "colorbar": {
             "outlinewidth": 0,
             "ticks": ""
            },
            "colorscale": [
             [
              0,
              "#0d0887"
             ],
             [
              0.1111111111111111,
              "#46039f"
             ],
             [
              0.2222222222222222,
              "#7201a8"
             ],
             [
              0.3333333333333333,
              "#9c179e"
             ],
             [
              0.4444444444444444,
              "#bd3786"
             ],
             [
              0.5555555555555556,
              "#d8576b"
             ],
             [
              0.6666666666666666,
              "#ed7953"
             ],
             [
              0.7777777777777778,
              "#fb9f3a"
             ],
             [
              0.8888888888888888,
              "#fdca26"
             ],
             [
              1,
              "#f0f921"
             ]
            ],
            "type": "heatmap"
           }
          ],
          "heatmapgl": [
           {
            "colorbar": {
             "outlinewidth": 0,
             "ticks": ""
            },
            "colorscale": [
             [
              0,
              "#0d0887"
             ],
             [
              0.1111111111111111,
              "#46039f"
             ],
             [
              0.2222222222222222,
              "#7201a8"
             ],
             [
              0.3333333333333333,
              "#9c179e"
             ],
             [
              0.4444444444444444,
              "#bd3786"
             ],
             [
              0.5555555555555556,
              "#d8576b"
             ],
             [
              0.6666666666666666,
              "#ed7953"
             ],
             [
              0.7777777777777778,
              "#fb9f3a"
             ],
             [
              0.8888888888888888,
              "#fdca26"
             ],
             [
              1,
              "#f0f921"
             ]
            ],
            "type": "heatmapgl"
           }
          ],
          "histogram": [
           {
            "marker": {
             "pattern": {
              "fillmode": "overlay",
              "size": 10,
              "solidity": 0.2
             }
            },
            "type": "histogram"
           }
          ],
          "histogram2d": [
           {
            "colorbar": {
             "outlinewidth": 0,
             "ticks": ""
            },
            "colorscale": [
             [
              0,
              "#0d0887"
             ],
             [
              0.1111111111111111,
              "#46039f"
             ],
             [
              0.2222222222222222,
              "#7201a8"
             ],
             [
              0.3333333333333333,
              "#9c179e"
             ],
             [
              0.4444444444444444,
              "#bd3786"
             ],
             [
              0.5555555555555556,
              "#d8576b"
             ],
             [
              0.6666666666666666,
              "#ed7953"
             ],
             [
              0.7777777777777778,
              "#fb9f3a"
             ],
             [
              0.8888888888888888,
              "#fdca26"
             ],
             [
              1,
              "#f0f921"
             ]
            ],
            "type": "histogram2d"
           }
          ],
          "histogram2dcontour": [
           {
            "colorbar": {
             "outlinewidth": 0,
             "ticks": ""
            },
            "colorscale": [
             [
              0,
              "#0d0887"
             ],
             [
              0.1111111111111111,
              "#46039f"
             ],
             [
              0.2222222222222222,
              "#7201a8"
             ],
             [
              0.3333333333333333,
              "#9c179e"
             ],
             [
              0.4444444444444444,
              "#bd3786"
             ],
             [
              0.5555555555555556,
              "#d8576b"
             ],
             [
              0.6666666666666666,
              "#ed7953"
             ],
             [
              0.7777777777777778,
              "#fb9f3a"
             ],
             [
              0.8888888888888888,
              "#fdca26"
             ],
             [
              1,
              "#f0f921"
             ]
            ],
            "type": "histogram2dcontour"
           }
          ],
          "mesh3d": [
           {
            "colorbar": {
             "outlinewidth": 0,
             "ticks": ""
            },
            "type": "mesh3d"
           }
          ],
          "parcoords": [
           {
            "line": {
             "colorbar": {
              "outlinewidth": 0,
              "ticks": ""
             }
            },
            "type": "parcoords"
           }
          ],
          "pie": [
           {
            "automargin": true,
            "type": "pie"
           }
          ],
          "scatter": [
           {
            "fillpattern": {
             "fillmode": "overlay",
             "size": 10,
             "solidity": 0.2
            },
            "type": "scatter"
           }
          ],
          "scatter3d": [
           {
            "line": {
             "colorbar": {
              "outlinewidth": 0,
              "ticks": ""
             }
            },
            "marker": {
             "colorbar": {
              "outlinewidth": 0,
              "ticks": ""
             }
            },
            "type": "scatter3d"
           }
          ],
          "scattercarpet": [
           {
            "marker": {
             "colorbar": {
              "outlinewidth": 0,
              "ticks": ""
             }
            },
            "type": "scattercarpet"
           }
          ],
          "scattergeo": [
           {
            "marker": {
             "colorbar": {
              "outlinewidth": 0,
              "ticks": ""
             }
            },
            "type": "scattergeo"
           }
          ],
          "scattergl": [
           {
            "marker": {
             "colorbar": {
              "outlinewidth": 0,
              "ticks": ""
             }
            },
            "type": "scattergl"
           }
          ],
          "scattermapbox": [
           {
            "marker": {
             "colorbar": {
              "outlinewidth": 0,
              "ticks": ""
             }
            },
            "type": "scattermapbox"
           }
          ],
          "scatterpolar": [
           {
            "marker": {
             "colorbar": {
              "outlinewidth": 0,
              "ticks": ""
             }
            },
            "type": "scatterpolar"
           }
          ],
          "scatterpolargl": [
           {
            "marker": {
             "colorbar": {
              "outlinewidth": 0,
              "ticks": ""
             }
            },
            "type": "scatterpolargl"
           }
          ],
          "scatterternary": [
           {
            "marker": {
             "colorbar": {
              "outlinewidth": 0,
              "ticks": ""
             }
            },
            "type": "scatterternary"
           }
          ],
          "surface": [
           {
            "colorbar": {
             "outlinewidth": 0,
             "ticks": ""
            },
            "colorscale": [
             [
              0,
              "#0d0887"
             ],
             [
              0.1111111111111111,
              "#46039f"
             ],
             [
              0.2222222222222222,
              "#7201a8"
             ],
             [
              0.3333333333333333,
              "#9c179e"
             ],
             [
              0.4444444444444444,
              "#bd3786"
             ],
             [
              0.5555555555555556,
              "#d8576b"
             ],
             [
              0.6666666666666666,
              "#ed7953"
             ],
             [
              0.7777777777777778,
              "#fb9f3a"
             ],
             [
              0.8888888888888888,
              "#fdca26"
             ],
             [
              1,
              "#f0f921"
             ]
            ],
            "type": "surface"
           }
          ],
          "table": [
           {
            "cells": {
             "fill": {
              "color": "#EBF0F8"
             },
             "line": {
              "color": "white"
             }
            },
            "header": {
             "fill": {
              "color": "#C8D4E3"
             },
             "line": {
              "color": "white"
             }
            },
            "type": "table"
           }
          ]
         },
         "layout": {
          "annotationdefaults": {
           "arrowcolor": "#2a3f5f",
           "arrowhead": 0,
           "arrowwidth": 1
          },
          "autotypenumbers": "strict",
          "coloraxis": {
           "colorbar": {
            "outlinewidth": 0,
            "ticks": ""
           }
          },
          "colorscale": {
           "diverging": [
            [
             0,
             "#8e0152"
            ],
            [
             0.1,
             "#c51b7d"
            ],
            [
             0.2,
             "#de77ae"
            ],
            [
             0.3,
             "#f1b6da"
            ],
            [
             0.4,
             "#fde0ef"
            ],
            [
             0.5,
             "#f7f7f7"
            ],
            [
             0.6,
             "#e6f5d0"
            ],
            [
             0.7,
             "#b8e186"
            ],
            [
             0.8,
             "#7fbc41"
            ],
            [
             0.9,
             "#4d9221"
            ],
            [
             1,
             "#276419"
            ]
           ],
           "sequential": [
            [
             0,
             "#0d0887"
            ],
            [
             0.1111111111111111,
             "#46039f"
            ],
            [
             0.2222222222222222,
             "#7201a8"
            ],
            [
             0.3333333333333333,
             "#9c179e"
            ],
            [
             0.4444444444444444,
             "#bd3786"
            ],
            [
             0.5555555555555556,
             "#d8576b"
            ],
            [
             0.6666666666666666,
             "#ed7953"
            ],
            [
             0.7777777777777778,
             "#fb9f3a"
            ],
            [
             0.8888888888888888,
             "#fdca26"
            ],
            [
             1,
             "#f0f921"
            ]
           ],
           "sequentialminus": [
            [
             0,
             "#0d0887"
            ],
            [
             0.1111111111111111,
             "#46039f"
            ],
            [
             0.2222222222222222,
             "#7201a8"
            ],
            [
             0.3333333333333333,
             "#9c179e"
            ],
            [
             0.4444444444444444,
             "#bd3786"
            ],
            [
             0.5555555555555556,
             "#d8576b"
            ],
            [
             0.6666666666666666,
             "#ed7953"
            ],
            [
             0.7777777777777778,
             "#fb9f3a"
            ],
            [
             0.8888888888888888,
             "#fdca26"
            ],
            [
             1,
             "#f0f921"
            ]
           ]
          },
          "colorway": [
           "#636efa",
           "#EF553B",
           "#00cc96",
           "#ab63fa",
           "#FFA15A",
           "#19d3f3",
           "#FF6692",
           "#B6E880",
           "#FF97FF",
           "#FECB52"
          ],
          "font": {
           "color": "#2a3f5f"
          },
          "geo": {
           "bgcolor": "white",
           "lakecolor": "white",
           "landcolor": "#E5ECF6",
           "showlakes": true,
           "showland": true,
           "subunitcolor": "white"
          },
          "hoverlabel": {
           "align": "left"
          },
          "hovermode": "closest",
          "mapbox": {
           "style": "light"
          },
          "paper_bgcolor": "white",
          "plot_bgcolor": "#E5ECF6",
          "polar": {
           "angularaxis": {
            "gridcolor": "white",
            "linecolor": "white",
            "ticks": ""
           },
           "bgcolor": "#E5ECF6",
           "radialaxis": {
            "gridcolor": "white",
            "linecolor": "white",
            "ticks": ""
           }
          },
          "scene": {
           "xaxis": {
            "backgroundcolor": "#E5ECF6",
            "gridcolor": "white",
            "gridwidth": 2,
            "linecolor": "white",
            "showbackground": true,
            "ticks": "",
            "zerolinecolor": "white"
           },
           "yaxis": {
            "backgroundcolor": "#E5ECF6",
            "gridcolor": "white",
            "gridwidth": 2,
            "linecolor": "white",
            "showbackground": true,
            "ticks": "",
            "zerolinecolor": "white"
           },
           "zaxis": {
            "backgroundcolor": "#E5ECF6",
            "gridcolor": "white",
            "gridwidth": 2,
            "linecolor": "white",
            "showbackground": true,
            "ticks": "",
            "zerolinecolor": "white"
           }
          },
          "shapedefaults": {
           "line": {
            "color": "#2a3f5f"
           }
          },
          "ternary": {
           "aaxis": {
            "gridcolor": "white",
            "linecolor": "white",
            "ticks": ""
           },
           "baxis": {
            "gridcolor": "white",
            "linecolor": "white",
            "ticks": ""
           },
           "bgcolor": "#E5ECF6",
           "caxis": {
            "gridcolor": "white",
            "linecolor": "white",
            "ticks": ""
           }
          },
          "title": {
           "x": 0.05
          },
          "xaxis": {
           "automargin": true,
           "gridcolor": "white",
           "linecolor": "white",
           "ticks": "",
           "title": {
            "standoff": 15
           },
           "zerolinecolor": "white",
           "zerolinewidth": 2
          },
          "yaxis": {
           "automargin": true,
           "gridcolor": "white",
           "linecolor": "white",
           "ticks": "",
           "title": {
            "standoff": 15
           },
           "zerolinecolor": "white",
           "zerolinewidth": 2
          }
         }
        },
        "title": {
         "text": "<span style='font-size:20px;'>% of Single Family Home Listings coming from Institutional Portfolios (1000+ Units)</span><br><span style='font-size:12px; font-style: italic;'>October 07, 2024 - Rolling 30 Days</span>",
         "x": 0.5,
         "xanchor": "center",
         "y": 0.96,
         "yanchor": "top"
        },
        "width": 1600,
        "xaxis": {
         "anchor": "y",
         "domain": [
          0,
          1
         ],
         "gridcolor": "rgba(255, 255, 255, 0.2)",
         "gridwidth": 0.5,
         "linecolor": "rgba(255, 255, 255, 0.7)",
         "linewidth": 1,
         "showgrid": true,
         "title": {
          "font": {
           "color": "#ffffff",
           "family": "Arial Black",
           "size": 14
          },
          "text": ""
         }
        },
        "yaxis": {
         "anchor": "x",
         "domain": [
          0,
          1
         ],
         "gridcolor": "rgba(255, 255, 255, 0.2)",
         "gridwidth": 0.5,
         "linecolor": "rgba(255, 255, 255, 0.7)",
         "linewidth": 1,
         "showgrid": true,
         "tickfont": {
          "color": "#ffffff",
          "family": "Arial",
          "size": 12
         },
         "tickformat": ".0%",
         "title": {
          "font": {
           "color": "#ffffff",
           "family": "Arial Black",
           "size": 14
          },
          "text": "% of Single Family Home Listings"
         },
         "zeroline": false
        }
       }
      }
     },
     "metadata": {},
     "output_type": "display_data"
    }
   ],
   "source": [
    "# Get max date for chart\n",
    "max_date_for_chart = fl['date'].max().date()\n",
    "max_date_for_chart = max_date_for_chart.strftime('%B %d, %Y')\n",
    "fl = fl.sort_values(['parcl_id', 'date'])\n",
    "\n",
    "WINDOW_PERIOD = 30\n",
    "\n",
    "CHART_WIDTH = 1600\n",
    "CHART_HEIGHT = 800\n",
    "# Create the line chart using Plotly Express\n",
    "fig = px.line(\n",
    "    fl,\n",
    "    x='date',\n",
    "    y=f'pct_sf_for_sale_market_rolling_{WINDOW_PERIOD}_day',\n",
    "    color='clean_name',\n",
    "    line_group='clean_name',\n",
    "    labels={f'pct_sf_for_sale_market_rolling_{WINDOW_PERIOD}_day': '% of SFH Inventory'},\n",
    "    title=f\"<span style='font-size:20px;'>% of Single Family Home Listings coming from Institutional Portfolios (1000+ Units)</span><br><span style='font-size:12px; font-style: italic;'>{max_date_for_chart} - Rolling {WINDOW_PERIOD} Days</span>\"\n",
    ")\n",
    "\n",
    "# Define the cities to be highlighted in red\n",
    "highlighted_cities = []# ['North Port, FL', 'Tampa, FL', 'Lakeland, FL', 'Jacksonville, FL']\n",
    "\n",
    "# Update traces to apply specific styles\n",
    "for trace in fig.data:\n",
    "    if trace.name in highlighted_cities:\n",
    "        trace.update(\n",
    "            line=dict(color='red', width=3, dash='dash'),\n",
    "            opacity=1\n",
    "        )\n",
    "    else:\n",
    "        trace.update(\n",
    "            line=dict(color='lightblue', dash='dash', width=2),\n",
    "            opacity=0.8\n",
    "        )\n",
    "    # Remove text annotations from traces\n",
    "    trace.update(\n",
    "        mode='lines'\n",
    "    )\n",
    "\n",
    "# Find the latest date in the dataset\n",
    "latest_date = max(fl['date'])\n",
    "\n",
    "# Add annotations for each line on the far right\n",
    "annotations = []\n",
    "y_positions = []\n",
    "\n",
    "for trace in fig.data:\n",
    "    # Get the last y-value for each clean_name\n",
    "    last_y_value = fl[\n",
    "        (fl['clean_name'] == trace.name) &\n",
    "        (fl['date'] == latest_date)\n",
    "    ][f'pct_sf_for_sale_market_rolling_{WINDOW_PERIOD}_day'].values[0]\n",
    "    \n",
    "    # Only add the annotation if it doesn't overlap with existing annotations\n",
    "    if not any(abs(last_y_value - y) < 0.002 for y in y_positions):  # Adjust threshold as needed\n",
    "        annotations.append(dict(\n",
    "            x=latest_date,\n",
    "            y=last_y_value,\n",
    "            xref='x',\n",
    "            yref='y',\n",
    "            text=trace.name,\n",
    "            showarrow=False,\n",
    "            xanchor='left',\n",
    "            font=dict(size=12)  # Adjust the font size if needed\n",
    "        ))\n",
    "        y_positions.append(last_y_value)\n",
    "\n",
    "fig.add_layout_image(\n",
    "    create_labs_logo_dict()\n",
    ")\n",
    "\n",
    "# Update layout for axes, title, and other styling\n",
    "fig.update_layout(\n",
    "    width=CHART_WIDTH,\n",
    "    height=CHART_HEIGHT,\n",
    "    xaxis=dict(\n",
    "        title='',\n",
    "        showgrid=style_config['showgrid'],\n",
    "        gridwidth=style_config['gridwidth'],\n",
    "        gridcolor=style_config['grid_color'],\n",
    "        # tickangle=style_config['tick_angle'],\n",
    "        linecolor=style_config['line_color_axis'],\n",
    "        linewidth=style_config['linewidth'],\n",
    "        titlefont=style_config['title_font_axis']\n",
    "    ),\n",
    "    yaxis=dict(\n",
    "        title='% of Single Family Home Listings',\n",
    "        showgrid=style_config['showgrid'],\n",
    "        gridwidth=style_config['gridwidth'],\n",
    "        gridcolor=style_config['grid_color'],\n",
    "        tickfont=style_config['axis_font'],\n",
    "        zeroline=False,\n",
    "        tickformat='.0%',\n",
    "        linecolor=style_config['line_color_axis'],\n",
    "        linewidth=style_config['linewidth'],\n",
    "        titlefont=style_config['title_font_axis']\n",
    "    ),\n",
    "    plot_bgcolor=style_config['background_color'],\n",
    "    paper_bgcolor=style_config['background_color'],\n",
    "    font=dict(color=style_config['font_color']),\n",
    "    showlegend=False,  # Remove the legend\n",
    "    margin=dict(l=40, r=40, t=100, b=40),\n",
    "    title={\n",
    "        'y': 0.96,\n",
    "        'x': 0.5,\n",
    "        'xanchor': 'center',\n",
    "        'yanchor': 'top',\n",
    "    },\n",
    "    annotations=annotations  # Add annotations\n",
    ")\n",
    "\n",
    "fig.show()\n"
   ]
  },
  {
   "cell_type": "markdown",
   "metadata": {},
   "source": []
  },
  {
   "cell_type": "code",
   "execution_count": 168,
   "metadata": {},
   "outputs": [],
   "source": [
    "out = fl[['parcl_id', 'clean_name', 'portfolio_size', 'date', 'pct_sf_for_sale_market_rolling_60_day']].reset_index(drop=True)\n",
    "out.to_csv('fl_institutional_listings.csv', index=False)"
   ]
  },
  {
   "cell_type": "code",
   "execution_count": 169,
   "metadata": {},
   "outputs": [
    {
     "data": {
      "text/html": [
       "<div>\n",
       "<style scoped>\n",
       "    .dataframe tbody tr th:only-of-type {\n",
       "        vertical-align: middle;\n",
       "    }\n",
       "\n",
       "    .dataframe tbody tr th {\n",
       "        vertical-align: top;\n",
       "    }\n",
       "\n",
       "    .dataframe thead th {\n",
       "        text-align: right;\n",
       "    }\n",
       "</style>\n",
       "<table border=\"1\" class=\"dataframe\">\n",
       "  <thead>\n",
       "    <tr style=\"text-align: right;\">\n",
       "      <th></th>\n",
       "      <th>parcl_id</th>\n",
       "      <th>clean_name</th>\n",
       "      <th>portfolio_size</th>\n",
       "      <th>date</th>\n",
       "      <th>pct_sf_for_sale_market_rolling_60_day</th>\n",
       "    </tr>\n",
       "  </thead>\n",
       "  <tbody>\n",
       "    <tr>\n",
       "      <th>0</th>\n",
       "      <td>2899748</td>\n",
       "      <td>Deltona, FL</td>\n",
       "      <td>PORTFOLIO_1000_PLUS</td>\n",
       "      <td>2024-04-15</td>\n",
       "      <td>0.0109</td>\n",
       "    </tr>\n",
       "    <tr>\n",
       "      <th>1</th>\n",
       "      <td>2900192</td>\n",
       "      <td>North Port, FL</td>\n",
       "      <td>PORTFOLIO_1000_PLUS</td>\n",
       "      <td>2024-04-15</td>\n",
       "      <td>0.0163</td>\n",
       "    </tr>\n",
       "    <tr>\n",
       "      <th>2</th>\n",
       "      <td>2900128</td>\n",
       "      <td>Miami, FL</td>\n",
       "      <td>PORTFOLIO_1000_PLUS</td>\n",
       "      <td>2024-04-15</td>\n",
       "      <td>0.0107</td>\n",
       "    </tr>\n",
       "    <tr>\n",
       "      <th>3</th>\n",
       "      <td>2900041</td>\n",
       "      <td>Lakeland, FL</td>\n",
       "      <td>PORTFOLIO_1000_PLUS</td>\n",
       "      <td>2024-04-15</td>\n",
       "      <td>0.0240</td>\n",
       "    </tr>\n",
       "    <tr>\n",
       "      <th>4</th>\n",
       "      <td>2900417</td>\n",
       "      <td>Tampa, FL</td>\n",
       "      <td>PORTFOLIO_1000_PLUS</td>\n",
       "      <td>2024-04-15</td>\n",
       "      <td>0.0212</td>\n",
       "    </tr>\n",
       "  </tbody>\n",
       "</table>\n",
       "</div>"
      ],
      "text/plain": [
       "   parcl_id      clean_name       portfolio_size       date  \\\n",
       "0   2899748     Deltona, FL  PORTFOLIO_1000_PLUS 2024-04-15   \n",
       "1   2900192  North Port, FL  PORTFOLIO_1000_PLUS 2024-04-15   \n",
       "2   2900128       Miami, FL  PORTFOLIO_1000_PLUS 2024-04-15   \n",
       "3   2900041    Lakeland, FL  PORTFOLIO_1000_PLUS 2024-04-15   \n",
       "4   2900417       Tampa, FL  PORTFOLIO_1000_PLUS 2024-04-15   \n",
       "\n",
       "   pct_sf_for_sale_market_rolling_60_day  \n",
       "0                                 0.0109  \n",
       "1                                 0.0163  \n",
       "2                                 0.0107  \n",
       "3                                 0.0240  \n",
       "4                                 0.0212  "
      ]
     },
     "execution_count": 169,
     "metadata": {},
     "output_type": "execute_result"
    }
   ],
   "source": [
    "out.head()"
   ]
  },
  {
   "cell_type": "code",
   "execution_count": 114,
   "metadata": {},
   "outputs": [],
   "source": [
    "data_fl = data.loc[data['parcl_id'].isin(fl_pids)].sort_values('net', ascending=False)"
   ]
  },
  {
   "cell_type": "code",
   "execution_count": 113,
   "metadata": {},
   "outputs": [],
   "source": [
    "import os\n",
    "from itertools import islice\n",
    "\n",
    "import plotly\n",
    "import plotly.io as pio\n",
    "import numpy as np\n",
    "import pandas as pd\n",
    "import plotly.express as px\n",
    "from datetime import datetime\n",
    "import plotly.graph_objects as go\n",
    "from parcllabs import ParclLabsClient\n",
    "from plotly.subplots import make_subplots\n",
    "from parcllabs.beta.charting.utils import create_labs_logo_dict\n",
    "from parcllabs.beta.charting.styling import default_style_config as style_config\n",
    "import plotly.graph_objects as go\n",
    "\n",
    "\n",
    "import plotly.io as pio\n",
    "\n",
    "### Global Settings\n",
    "ADD_WATERMARK = False\n",
    "ADD_LOGO = True\n",
    "BG_COLOR = '#080D16'\n",
    "FIRST_COLOR = '#448CF2'\n",
    "SECOND_COLOR = '#3ED8ED'\n",
    "THIRD_COLOR = '#8CE9A6'\n",
    "FOURTH_COLOR = '#9ED84C'\n",
    "TITLE_Y = 0.97\n",
    "TITLE_X = 0.5\n",
    "TITLE_FONT_SIZE = 20\n",
    "TITLE_Y_AXIS_FONT_SIZE = 10\n",
    "CHART_BORDER_COLOR = '#132D59'\n",
    "GRID_LINES_COLOR = '#0A1B39'\n",
    "Y_AXIS_TITLE_STANDOFF = 8\n",
    "\n",
    "\n",
    "# Create a custom template with Inter font\n",
    "pio.templates[\"custom\"] = pio.templates[\"plotly\"].update(\n",
    "    layout=dict(\n",
    "        font=dict(family=\"Inter, Arial, sans-serif\")\n",
    "    )\n",
    ")\n",
    "\n",
    "# Set the custom template as default\n",
    "pio.templates.default = \"custom\"\n",
    "\n",
    "def add_watermark(fig):\n",
    "    # Add annotations\n",
    "    if ADD_WATERMARK:\n",
    "        fig.add_annotation(\n",
    "            text=\"@ParclLabs\",\n",
    "            xref=\"paper\", yref=\"paper\",\n",
    "            x=0.5, y=0.5,\n",
    "            showarrow=False,\n",
    "            font=dict(size=60, color=\"rgba(255,255,255,0.1)\"),\n",
    "            textangle=-30\n",
    "        )\n",
    "    return fig\n",
    "\n",
    "def add_logo(fig, x=1, sizex=0.1, sizey=0.1):\n",
    "    if ADD_LOGO:\n",
    "        fig.add_layout_image(\n",
    "            create_labs_logo_dict(color='white', x=x, sizex=sizex, sizey=sizey),\n",
    "        )\n",
    "    return fig\n",
    "\n",
    "def lab_plot_utils(fig, logo_x=1, logo_sizex=0.1, logo_sizey=0.1):\n",
    "    fig = add_watermark(fig)\n",
    "    fig = add_logo(fig, x=logo_x, sizex=logo_sizex, sizey=logo_sizey)\n",
    "    return fig\n",
    "\n",
    "def update_x_axis_tick_marks(fig, tickformat=None, tickangle=45):\n",
    "    # Update x-axis\n",
    "    fig.update_xaxes(\n",
    "        title_text=\"\",\n",
    "        showgrid=True,\n",
    "        gridwidth=0.5,\n",
    "        gridcolor=GRID_LINES_COLOR,\n",
    "        tickangle=tickangle,\n",
    "        dtick=\"M6\",\n",
    "        tickformat=tickformat,\n",
    "        tickfont=dict(size=12),\n",
    "        linecolor=CHART_BORDER_COLOR,\n",
    "        linewidth=2,\n",
    "        mirror=True,\n",
    "        title_font=dict(family=\"Inter\")\n",
    "    )\n",
    "\n",
    "    return fig\n",
    "\n",
    "\n",
    "def save_file(fig, path, filename, width=1000, height=600):\n",
    "    fname_png = os.path.join(path, f'{filename}.png')\n",
    "    fname_svg = os.path.join(path, f'{filename}.svg')\n",
    "    to_write = [fname_png]# , fname_svg]\n",
    "    for f in to_write:\n",
    "        fig.write_image(f, engine='kaleido', width=width, height=height)"
   ]
  },
  {
   "cell_type": "code",
   "execution_count": 118,
   "metadata": {},
   "outputs": [
    {
     "data": {
      "application/vnd.plotly.v1+json": {
       "config": {
        "plotlyServerURL": "https://plot.ly"
       },
       "data": [
        {
         "marker": {
          "color": "#448CF2"
         },
         "name": "Acquisitions",
         "type": "bar",
         "x": [
          "Lakeland, FL",
          "Orlando, FL",
          "Deltona, FL",
          "Jacksonville, FL",
          "Palm Bay, FL",
          "North Port, FL",
          "Tampa, FL",
          "Cape Coral, FL",
          "Miami, FL"
         ],
         "xaxis": "x",
         "y": [
          131,
          394,
          143,
          300,
          52,
          102,
          564,
          111,
          171
         ],
         "yaxis": "y"
        },
        {
         "marker": {
          "color": "#3ED8ED"
         },
         "name": "Dispositions",
         "type": "bar",
         "x": [
          "Lakeland, FL",
          "Orlando, FL",
          "Deltona, FL",
          "Jacksonville, FL",
          "Palm Bay, FL",
          "North Port, FL",
          "Tampa, FL",
          "Cape Coral, FL",
          "Miami, FL"
         ],
         "xaxis": "x",
         "y": [
          -130,
          -401,
          -161,
          -322,
          -75,
          -135,
          -608,
          -155,
          -218
         ],
         "yaxis": "y"
        },
        {
         "hovertemplate": "%{x}<br>Net: %{text:.2f}<extra></extra>",
         "line": {
          "color": "#FCC054",
          "width": 3
         },
         "marker": {
          "color": "#FCC054",
          "size": 8
         },
         "mode": "lines+markers+text",
         "name": "Net Effect",
         "text": [
          1,
          -7,
          -18,
          -22,
          -23,
          -33,
          -44,
          -44,
          -47
         ],
         "textfont": {
          "color": "#FCC054"
         },
         "textposition": "top center",
         "texttemplate": "<span style=\"text-shadow: -1px -1px 0 #000, 1px -1px 0 #000, -1px 1px 0 #000, 1px 1px 0 #000;\">%{text:.0f}</span>",
         "type": "scatter",
         "x": [
          "Lakeland, FL",
          "Orlando, FL",
          "Deltona, FL",
          "Jacksonville, FL",
          "Palm Bay, FL",
          "North Port, FL",
          "Tampa, FL",
          "Cape Coral, FL",
          "Miami, FL"
         ],
         "xaxis": "x",
         "y": [
          8.925957446808509,
          -62.48170212765956,
          -160.66723404255316,
          -196.3710638297872,
          -205.2970212765957,
          -294.5565957446808,
          -392.7421276595744,
          -392.7421276595744,
          -419.5199999999999
         ],
         "yaxis": "y"
        }
       ],
       "layout": {
        "barmode": "relative",
        "font": {
         "color": "white",
         "size": 14
        },
        "height": 785,
        "hovermode": "x unified",
        "images": [
         {
          "sizex": 0.1,
          "sizey": 0.1,
          "source": "https://parcllabs-assets.s3.amazonaws.com/powered-by-parcllabs-api-logo-white+(1).svg",
          "x": 0.94,
          "xanchor": "right",
          "xref": "paper",
          "y": 0,
          "yanchor": "bottom",
          "yref": "paper"
         }
        ],
        "legend": {
         "orientation": "h",
         "x": 0,
         "xanchor": "left",
         "y": 0,
         "yanchor": "bottom"
        },
        "margin": {
         "b": 0,
         "l": 0,
         "r": 0,
         "t": 0
        },
        "paper_bgcolor": "#080D16",
        "plot_bgcolor": "#080D16",
        "template": {
         "data": {
          "bar": [
           {
            "error_x": {
             "color": "#2a3f5f"
            },
            "error_y": {
             "color": "#2a3f5f"
            },
            "marker": {
             "line": {
              "color": "#E5ECF6",
              "width": 0.5
             },
             "pattern": {
              "fillmode": "overlay",
              "size": 10,
              "solidity": 0.2
             }
            },
            "type": "bar"
           }
          ],
          "barpolar": [
           {
            "marker": {
             "line": {
              "color": "#E5ECF6",
              "width": 0.5
             },
             "pattern": {
              "fillmode": "overlay",
              "size": 10,
              "solidity": 0.2
             }
            },
            "type": "barpolar"
           }
          ],
          "carpet": [
           {
            "aaxis": {
             "endlinecolor": "#2a3f5f",
             "gridcolor": "white",
             "linecolor": "white",
             "minorgridcolor": "white",
             "startlinecolor": "#2a3f5f"
            },
            "baxis": {
             "endlinecolor": "#2a3f5f",
             "gridcolor": "white",
             "linecolor": "white",
             "minorgridcolor": "white",
             "startlinecolor": "#2a3f5f"
            },
            "type": "carpet"
           }
          ],
          "choropleth": [
           {
            "colorbar": {
             "outlinewidth": 0,
             "ticks": ""
            },
            "type": "choropleth"
           }
          ],
          "contour": [
           {
            "colorbar": {
             "outlinewidth": 0,
             "ticks": ""
            },
            "colorscale": [
             [
              0,
              "#0d0887"
             ],
             [
              0.1111111111111111,
              "#46039f"
             ],
             [
              0.2222222222222222,
              "#7201a8"
             ],
             [
              0.3333333333333333,
              "#9c179e"
             ],
             [
              0.4444444444444444,
              "#bd3786"
             ],
             [
              0.5555555555555556,
              "#d8576b"
             ],
             [
              0.6666666666666666,
              "#ed7953"
             ],
             [
              0.7777777777777778,
              "#fb9f3a"
             ],
             [
              0.8888888888888888,
              "#fdca26"
             ],
             [
              1,
              "#f0f921"
             ]
            ],
            "type": "contour"
           }
          ],
          "contourcarpet": [
           {
            "colorbar": {
             "outlinewidth": 0,
             "ticks": ""
            },
            "type": "contourcarpet"
           }
          ],
          "heatmap": [
           {
            "colorbar": {
             "outlinewidth": 0,
             "ticks": ""
            },
            "colorscale": [
             [
              0,
              "#0d0887"
             ],
             [
              0.1111111111111111,
              "#46039f"
             ],
             [
              0.2222222222222222,
              "#7201a8"
             ],
             [
              0.3333333333333333,
              "#9c179e"
             ],
             [
              0.4444444444444444,
              "#bd3786"
             ],
             [
              0.5555555555555556,
              "#d8576b"
             ],
             [
              0.6666666666666666,
              "#ed7953"
             ],
             [
              0.7777777777777778,
              "#fb9f3a"
             ],
             [
              0.8888888888888888,
              "#fdca26"
             ],
             [
              1,
              "#f0f921"
             ]
            ],
            "type": "heatmap"
           }
          ],
          "heatmapgl": [
           {
            "colorbar": {
             "outlinewidth": 0,
             "ticks": ""
            },
            "colorscale": [
             [
              0,
              "#0d0887"
             ],
             [
              0.1111111111111111,
              "#46039f"
             ],
             [
              0.2222222222222222,
              "#7201a8"
             ],
             [
              0.3333333333333333,
              "#9c179e"
             ],
             [
              0.4444444444444444,
              "#bd3786"
             ],
             [
              0.5555555555555556,
              "#d8576b"
             ],
             [
              0.6666666666666666,
              "#ed7953"
             ],
             [
              0.7777777777777778,
              "#fb9f3a"
             ],
             [
              0.8888888888888888,
              "#fdca26"
             ],
             [
              1,
              "#f0f921"
             ]
            ],
            "type": "heatmapgl"
           }
          ],
          "histogram": [
           {
            "marker": {
             "pattern": {
              "fillmode": "overlay",
              "size": 10,
              "solidity": 0.2
             }
            },
            "type": "histogram"
           }
          ],
          "histogram2d": [
           {
            "colorbar": {
             "outlinewidth": 0,
             "ticks": ""
            },
            "colorscale": [
             [
              0,
              "#0d0887"
             ],
             [
              0.1111111111111111,
              "#46039f"
             ],
             [
              0.2222222222222222,
              "#7201a8"
             ],
             [
              0.3333333333333333,
              "#9c179e"
             ],
             [
              0.4444444444444444,
              "#bd3786"
             ],
             [
              0.5555555555555556,
              "#d8576b"
             ],
             [
              0.6666666666666666,
              "#ed7953"
             ],
             [
              0.7777777777777778,
              "#fb9f3a"
             ],
             [
              0.8888888888888888,
              "#fdca26"
             ],
             [
              1,
              "#f0f921"
             ]
            ],
            "type": "histogram2d"
           }
          ],
          "histogram2dcontour": [
           {
            "colorbar": {
             "outlinewidth": 0,
             "ticks": ""
            },
            "colorscale": [
             [
              0,
              "#0d0887"
             ],
             [
              0.1111111111111111,
              "#46039f"
             ],
             [
              0.2222222222222222,
              "#7201a8"
             ],
             [
              0.3333333333333333,
              "#9c179e"
             ],
             [
              0.4444444444444444,
              "#bd3786"
             ],
             [
              0.5555555555555556,
              "#d8576b"
             ],
             [
              0.6666666666666666,
              "#ed7953"
             ],
             [
              0.7777777777777778,
              "#fb9f3a"
             ],
             [
              0.8888888888888888,
              "#fdca26"
             ],
             [
              1,
              "#f0f921"
             ]
            ],
            "type": "histogram2dcontour"
           }
          ],
          "mesh3d": [
           {
            "colorbar": {
             "outlinewidth": 0,
             "ticks": ""
            },
            "type": "mesh3d"
           }
          ],
          "parcoords": [
           {
            "line": {
             "colorbar": {
              "outlinewidth": 0,
              "ticks": ""
             }
            },
            "type": "parcoords"
           }
          ],
          "pie": [
           {
            "automargin": true,
            "type": "pie"
           }
          ],
          "scatter": [
           {
            "fillpattern": {
             "fillmode": "overlay",
             "size": 10,
             "solidity": 0.2
            },
            "type": "scatter"
           }
          ],
          "scatter3d": [
           {
            "line": {
             "colorbar": {
              "outlinewidth": 0,
              "ticks": ""
             }
            },
            "marker": {
             "colorbar": {
              "outlinewidth": 0,
              "ticks": ""
             }
            },
            "type": "scatter3d"
           }
          ],
          "scattercarpet": [
           {
            "marker": {
             "colorbar": {
              "outlinewidth": 0,
              "ticks": ""
             }
            },
            "type": "scattercarpet"
           }
          ],
          "scattergeo": [
           {
            "marker": {
             "colorbar": {
              "outlinewidth": 0,
              "ticks": ""
             }
            },
            "type": "scattergeo"
           }
          ],
          "scattergl": [
           {
            "marker": {
             "colorbar": {
              "outlinewidth": 0,
              "ticks": ""
             }
            },
            "type": "scattergl"
           }
          ],
          "scattermapbox": [
           {
            "marker": {
             "colorbar": {
              "outlinewidth": 0,
              "ticks": ""
             }
            },
            "type": "scattermapbox"
           }
          ],
          "scatterpolar": [
           {
            "marker": {
             "colorbar": {
              "outlinewidth": 0,
              "ticks": ""
             }
            },
            "type": "scatterpolar"
           }
          ],
          "scatterpolargl": [
           {
            "marker": {
             "colorbar": {
              "outlinewidth": 0,
              "ticks": ""
             }
            },
            "type": "scatterpolargl"
           }
          ],
          "scatterternary": [
           {
            "marker": {
             "colorbar": {
              "outlinewidth": 0,
              "ticks": ""
             }
            },
            "type": "scatterternary"
           }
          ],
          "surface": [
           {
            "colorbar": {
             "outlinewidth": 0,
             "ticks": ""
            },
            "colorscale": [
             [
              0,
              "#0d0887"
             ],
             [
              0.1111111111111111,
              "#46039f"
             ],
             [
              0.2222222222222222,
              "#7201a8"
             ],
             [
              0.3333333333333333,
              "#9c179e"
             ],
             [
              0.4444444444444444,
              "#bd3786"
             ],
             [
              0.5555555555555556,
              "#d8576b"
             ],
             [
              0.6666666666666666,
              "#ed7953"
             ],
             [
              0.7777777777777778,
              "#fb9f3a"
             ],
             [
              0.8888888888888888,
              "#fdca26"
             ],
             [
              1,
              "#f0f921"
             ]
            ],
            "type": "surface"
           }
          ],
          "table": [
           {
            "cells": {
             "fill": {
              "color": "#EBF0F8"
             },
             "line": {
              "color": "white"
             }
            },
            "header": {
             "fill": {
              "color": "#C8D4E3"
             },
             "line": {
              "color": "white"
             }
            },
            "type": "table"
           }
          ]
         },
         "layout": {
          "annotationdefaults": {
           "arrowcolor": "#2a3f5f",
           "arrowhead": 0,
           "arrowwidth": 1
          },
          "autotypenumbers": "strict",
          "coloraxis": {
           "colorbar": {
            "outlinewidth": 0,
            "ticks": ""
           }
          },
          "colorscale": {
           "diverging": [
            [
             0,
             "#8e0152"
            ],
            [
             0.1,
             "#c51b7d"
            ],
            [
             0.2,
             "#de77ae"
            ],
            [
             0.3,
             "#f1b6da"
            ],
            [
             0.4,
             "#fde0ef"
            ],
            [
             0.5,
             "#f7f7f7"
            ],
            [
             0.6,
             "#e6f5d0"
            ],
            [
             0.7,
             "#b8e186"
            ],
            [
             0.8,
             "#7fbc41"
            ],
            [
             0.9,
             "#4d9221"
            ],
            [
             1,
             "#276419"
            ]
           ],
           "sequential": [
            [
             0,
             "#0d0887"
            ],
            [
             0.1111111111111111,
             "#46039f"
            ],
            [
             0.2222222222222222,
             "#7201a8"
            ],
            [
             0.3333333333333333,
             "#9c179e"
            ],
            [
             0.4444444444444444,
             "#bd3786"
            ],
            [
             0.5555555555555556,
             "#d8576b"
            ],
            [
             0.6666666666666666,
             "#ed7953"
            ],
            [
             0.7777777777777778,
             "#fb9f3a"
            ],
            [
             0.8888888888888888,
             "#fdca26"
            ],
            [
             1,
             "#f0f921"
            ]
           ],
           "sequentialminus": [
            [
             0,
             "#0d0887"
            ],
            [
             0.1111111111111111,
             "#46039f"
            ],
            [
             0.2222222222222222,
             "#7201a8"
            ],
            [
             0.3333333333333333,
             "#9c179e"
            ],
            [
             0.4444444444444444,
             "#bd3786"
            ],
            [
             0.5555555555555556,
             "#d8576b"
            ],
            [
             0.6666666666666666,
             "#ed7953"
            ],
            [
             0.7777777777777778,
             "#fb9f3a"
            ],
            [
             0.8888888888888888,
             "#fdca26"
            ],
            [
             1,
             "#f0f921"
            ]
           ]
          },
          "colorway": [
           "#636efa",
           "#EF553B",
           "#00cc96",
           "#ab63fa",
           "#FFA15A",
           "#19d3f3",
           "#FF6692",
           "#B6E880",
           "#FF97FF",
           "#FECB52"
          ],
          "font": {
           "color": "#2a3f5f",
           "family": "Inter, Arial, sans-serif"
          },
          "geo": {
           "bgcolor": "white",
           "lakecolor": "white",
           "landcolor": "#E5ECF6",
           "showlakes": true,
           "showland": true,
           "subunitcolor": "white"
          },
          "hoverlabel": {
           "align": "left"
          },
          "hovermode": "closest",
          "mapbox": {
           "style": "light"
          },
          "paper_bgcolor": "white",
          "plot_bgcolor": "#E5ECF6",
          "polar": {
           "angularaxis": {
            "gridcolor": "white",
            "linecolor": "white",
            "ticks": ""
           },
           "bgcolor": "#E5ECF6",
           "radialaxis": {
            "gridcolor": "white",
            "linecolor": "white",
            "ticks": ""
           }
          },
          "scene": {
           "xaxis": {
            "backgroundcolor": "#E5ECF6",
            "gridcolor": "white",
            "gridwidth": 2,
            "linecolor": "white",
            "showbackground": true,
            "ticks": "",
            "zerolinecolor": "white"
           },
           "yaxis": {
            "backgroundcolor": "#E5ECF6",
            "gridcolor": "white",
            "gridwidth": 2,
            "linecolor": "white",
            "showbackground": true,
            "ticks": "",
            "zerolinecolor": "white"
           },
           "zaxis": {
            "backgroundcolor": "#E5ECF6",
            "gridcolor": "white",
            "gridwidth": 2,
            "linecolor": "white",
            "showbackground": true,
            "ticks": "",
            "zerolinecolor": "white"
           }
          },
          "shapedefaults": {
           "line": {
            "color": "#2a3f5f"
           }
          },
          "ternary": {
           "aaxis": {
            "gridcolor": "white",
            "linecolor": "white",
            "ticks": ""
           },
           "baxis": {
            "gridcolor": "white",
            "linecolor": "white",
            "ticks": ""
           },
           "bgcolor": "#E5ECF6",
           "caxis": {
            "gridcolor": "white",
            "linecolor": "white",
            "ticks": ""
           }
          },
          "title": {
           "x": 0.05
          },
          "xaxis": {
           "automargin": true,
           "gridcolor": "white",
           "linecolor": "white",
           "ticks": "",
           "title": {
            "standoff": 15
           },
           "zerolinecolor": "white",
           "zerolinewidth": 2
          },
          "yaxis": {
           "automargin": true,
           "gridcolor": "white",
           "linecolor": "white",
           "ticks": "",
           "title": {
            "standoff": 15
           },
           "zerolinecolor": "white",
           "zerolinewidth": 2
          }
         }
        },
        "title": {
         "font": {
          "color": "white",
          "size": 20
         },
         "text": "INSTITUTIONAL SINGLE FAMILY HOME ACQUISITIONS, DISPOSITIONS AND NET EFFECT<BR><SPAN STYLE='FONT-SIZE: 16PX; FONT-STYLE: ITALIC;'>JUNE TO AUGUST, 2024</SPAN>",
         "x": 0.5,
         "xanchor": "center",
         "y": 0.97,
         "yanchor": "top"
        },
        "width": 1480,
        "xaxis": {
         "anchor": "y",
         "domain": [
          0,
          0.94
         ],
         "dtick": "M6",
         "gridcolor": "#0A1B39",
         "gridwidth": 0.5,
         "linecolor": "#132D59",
         "linewidth": 2,
         "mirror": true,
         "showgrid": true,
         "tickangle": 45,
         "tickfont": {
          "size": 12
         },
         "title": {
          "font": {
           "family": "Inter"
          },
          "text": ""
         }
        },
        "yaxis": {
         "anchor": "x",
         "domain": [
          0,
          1
         ],
         "gridcolor": "#0A1B39",
         "gridwidth": 0.5,
         "linecolor": "#132D59",
         "linewidth": 2,
         "mirror": true,
         "range": [
          -769.1199999999999,
          769.1199999999999
         ],
         "showgrid": true,
         "tickfont": {
          "size": 12
         },
         "title": {
          "font": {
           "size": 10
          },
          "standoff": 8,
          "text": "ACQUISITIONS VS. DISPOSITIONS"
         }
        },
        "yaxis2": {
         "anchor": "x",
         "overlaying": "y",
         "side": "right"
        }
       }
      }
     },
     "metadata": {},
     "output_type": "display_data"
    }
   ],
   "source": [
    "# Convert Period to string for Plotly compatibility\n",
    "\n",
    "CHART_HEIGHT=785\n",
    "CHART_WIDTH=1480\n",
    "\n",
    "# Create subplot with secondary y-axis\n",
    "fig = make_subplots(specs=[[{\"secondary_y\": True}]])\n",
    "\n",
    "# Add trace for Acquisitions\n",
    "fig.add_trace(\n",
    "    go.Bar(\n",
    "        x=data_fl['clean_name'],\n",
    "        y=data_fl['acquisitions'],\n",
    "        name=\"Acquisitions\",\n",
    "        marker_color=FIRST_COLOR\n",
    "    ),\n",
    "    secondary_y=False,\n",
    ")\n",
    "\n",
    "# Add trace for Dispositions (negative values)\n",
    "fig.add_trace(\n",
    "    go.Bar(\n",
    "        x=data_fl['clean_name'],\n",
    "        y=-data_fl['dispositions'],\n",
    "        name=\"Dispositions\",\n",
    "        marker_color=SECOND_COLOR\n",
    "    ),\n",
    "    secondary_y=False,\n",
    ")\n",
    "\n",
    "# Calculate y-axis ranges\n",
    "y_max = max(data_fl['acquisitions'].max(), data_fl['dispositions'].max()) * 1.15\n",
    "y_min = -y_max\n",
    "y_range = y_max - y_min\n",
    "\n",
    "# Compress net effect range\n",
    "net_max = max(abs(data_fl['net'].max()), abs(data_fl['net'].min()))\n",
    "compression_factor = 0.6  # Adjust this value to change compression\n",
    "net_range = y_range * compression_factor\n",
    "net_scale = net_range / (2 * net_max)\n",
    "\n",
    "# Scale net effect values\n",
    "scaled_net = data_fl['net'] * net_scale\n",
    "\n",
    "# Add trace for Net Effect\n",
    "fig.add_trace(\n",
    "    go.Scatter(\n",
    "        x=data_fl['clean_name'],\n",
    "        y=scaled_net,\n",
    "        mode='lines+markers+text',\n",
    "        name=\"Net Effect\",\n",
    "        line=dict(color='#FCC054', width=3),\n",
    "        marker=dict(size=8, color='#FCC054'),\n",
    "        text=data_fl['net'].round(2),\n",
    "        textposition='top center',\n",
    "        textfont=dict(color='white'),\n",
    "        hovertemplate='%{x}<br>Net: %{text:.2f}<extra></extra>'\n",
    "    ),\n",
    "    secondary_y=False,\n",
    ")\n",
    "\n",
    "# Update layout for dark mode and styling\n",
    "title_text = f\"Institutional Single Family Home Acquisitions, Dispositions and Net Effect<br><span style='font-size: 16px; font-style: italic;'>June to August, 2024</span>\".upper()\n",
    "\n",
    "fig.update_layout(\n",
    "    title={\n",
    "        'text': title_text, # <br><span style='font-size: 16px; font-style: italic;'>{market_name}</span>\",\n",
    "        'y': TITLE_Y,\n",
    "        'x': TITLE_X,\n",
    "        'xanchor': 'center',\n",
    "        'yanchor': 'top',\n",
    "        'font': dict(size=20, color='white')\n",
    "    },\n",
    "    font=dict(color='white', size=14),\n",
    "    plot_bgcolor=BG_COLOR,\n",
    "    paper_bgcolor=BG_COLOR,\n",
    "    height=CHART_HEIGHT,\n",
    "    width=CHART_WIDTH,\n",
    "    hovermode=\"x unified\",\n",
    "    barmode='relative',\n",
    "    margin=dict(l=0, r=0, t=0, b=0),\n",
    "    legend=dict(\n",
    "        orientation=\"h\",\n",
    "        yanchor=\"bottom\",\n",
    "        y=0,\n",
    "        xanchor=\"left\",\n",
    "        x=0\n",
    "    )\n",
    ")\n",
    "\n",
    "# Update x-axis\n",
    "fig = update_x_axis_tick_marks(fig)\n",
    "\n",
    "# Update y-axis (Acquisitions, Dispositions, and Net Effect)\n",
    "fig.update_yaxes(\n",
    "    title_text=\"Acquisitions vs. Dispositions\".upper(),\n",
    "    title_font=dict(size=10),\n",
    "    showgrid=True,\n",
    "    gridwidth=0.5,\n",
    "    gridcolor=GRID_LINES_COLOR,\n",
    "    tickfont=dict(size=12),\n",
    "    title_standoff=Y_AXIS_TITLE_STANDOFF,\n",
    "    linecolor=CHART_BORDER_COLOR,\n",
    "    linewidth=2,\n",
    "    mirror=True,\n",
    "    range=[y_min + (y_min*0.1), y_max + (y_max*0.1)],\n",
    "    secondary_y=False\n",
    ")\n",
    "\n",
    "# Add Parcl Labs watermark\n",
    "fig = lab_plot_utils(fig, logo_x=0.94)\n",
    "\n",
    "fig.update_traces(\n",
    "    textfont=dict(color='#FCC054'),\n",
    "    texttemplate='<span style=\"text-shadow: -1px -1px 0 #000, 1px -1px 0 #000, -1px 1px 0 #000, 1px 1px 0 #000;\">%{text:.0f}</span>',\n",
    "    selector=dict(type='scatter', mode='lines+markers+text')\n",
    ")\n",
    "\n",
    "# Show the figure\n",
    "fig.show()\n",
    "\n",
    "\n",
    "# save_file(fig, path, f'{root}', width=CHART_WIDTH, height=CHART_HEIGHT)\n"
   ]
  },
  {
   "cell_type": "code",
   "execution_count": 152,
   "metadata": {},
   "outputs": [
    {
     "data": {
      "text/html": [
       "<div>\n",
       "<style scoped>\n",
       "    .dataframe tbody tr th:only-of-type {\n",
       "        vertical-align: middle;\n",
       "    }\n",
       "\n",
       "    .dataframe tbody tr th {\n",
       "        vertical-align: top;\n",
       "    }\n",
       "\n",
       "    .dataframe thead th {\n",
       "        text-align: right;\n",
       "    }\n",
       "</style>\n",
       "<table border=\"1\" class=\"dataframe\">\n",
       "  <thead>\n",
       "    <tr style=\"text-align: right;\">\n",
       "      <th></th>\n",
       "      <th>parcl_id</th>\n",
       "      <th>acquisitions</th>\n",
       "      <th>dispositions</th>\n",
       "      <th>net</th>\n",
       "      <th>clean_name</th>\n",
       "      <th>pct_sf_housing_stock_portfolio_1000_plus</th>\n",
       "      <th>current_portfolio_size</th>\n",
       "      <th>start_portfolio_size</th>\n",
       "      <th>port_start</th>\n",
       "      <th>port_size_change</th>\n",
       "    </tr>\n",
       "  </thead>\n",
       "  <tbody>\n",
       "    <tr>\n",
       "      <th>21</th>\n",
       "      <td>2900041</td>\n",
       "      <td>131</td>\n",
       "      <td>130</td>\n",
       "      <td>1</td>\n",
       "      <td>Lakeland, FL</td>\n",
       "      <td>2.88</td>\n",
       "      <td>6242</td>\n",
       "      <td>6204</td>\n",
       "      <td>6241</td>\n",
       "      <td>0.000160</td>\n",
       "    </tr>\n",
       "    <tr>\n",
       "      <th>66</th>\n",
       "      <td>2900213</td>\n",
       "      <td>394</td>\n",
       "      <td>401</td>\n",
       "      <td>-7</td>\n",
       "      <td>Orlando, FL</td>\n",
       "      <td>2.79</td>\n",
       "      <td>18780</td>\n",
       "      <td>18579</td>\n",
       "      <td>18787</td>\n",
       "      <td>-0.000373</td>\n",
       "    </tr>\n",
       "    <tr>\n",
       "      <th>78</th>\n",
       "      <td>2899748</td>\n",
       "      <td>143</td>\n",
       "      <td>161</td>\n",
       "      <td>-18</td>\n",
       "      <td>Deltona, FL</td>\n",
       "      <td>1.17</td>\n",
       "      <td>2813</td>\n",
       "      <td>2786</td>\n",
       "      <td>2831</td>\n",
       "      <td>-0.006358</td>\n",
       "    </tr>\n",
       "    <tr>\n",
       "      <th>81</th>\n",
       "      <td>2899989</td>\n",
       "      <td>300</td>\n",
       "      <td>322</td>\n",
       "      <td>-22</td>\n",
       "      <td>Jacksonville, FL</td>\n",
       "      <td>3.74</td>\n",
       "      <td>17755</td>\n",
       "      <td>17645</td>\n",
       "      <td>17777</td>\n",
       "      <td>-0.001238</td>\n",
       "    </tr>\n",
       "    <tr>\n",
       "      <th>82</th>\n",
       "      <td>2900229</td>\n",
       "      <td>52</td>\n",
       "      <td>75</td>\n",
       "      <td>-23</td>\n",
       "      <td>Palm Bay, FL</td>\n",
       "      <td>1.55</td>\n",
       "      <td>3050</td>\n",
       "      <td>2942</td>\n",
       "      <td>3073</td>\n",
       "      <td>-0.007485</td>\n",
       "    </tr>\n",
       "  </tbody>\n",
       "</table>\n",
       "</div>"
      ],
      "text/plain": [
       "    parcl_id  acquisitions  dispositions  net        clean_name  \\\n",
       "21   2900041           131           130    1      Lakeland, FL   \n",
       "66   2900213           394           401   -7       Orlando, FL   \n",
       "78   2899748           143           161  -18       Deltona, FL   \n",
       "81   2899989           300           322  -22  Jacksonville, FL   \n",
       "82   2900229            52            75  -23      Palm Bay, FL   \n",
       "\n",
       "    pct_sf_housing_stock_portfolio_1000_plus  current_portfolio_size  \\\n",
       "21                                      2.88                    6242   \n",
       "66                                      2.79                   18780   \n",
       "78                                      1.17                    2813   \n",
       "81                                      3.74                   17755   \n",
       "82                                      1.55                    3050   \n",
       "\n",
       "    start_portfolio_size  port_start  port_size_change  \n",
       "21                  6204        6241          0.000160  \n",
       "66                 18579       18787         -0.000373  \n",
       "78                  2786        2831         -0.006358  \n",
       "81                 17645       17777         -0.001238  \n",
       "82                  2942        3073         -0.007485  "
      ]
     },
     "execution_count": 152,
     "metadata": {},
     "output_type": "execute_result"
    }
   ],
   "source": [
    "['North Port, FL', 'Tampa, FL', 'Lakeland, FL', 'Jacksonville, FL']"
   ]
  },
  {
   "cell_type": "code",
   "execution_count": 155,
   "metadata": {},
   "outputs": [],
   "source": [
    "data_fl['portfolio_size'] = 'PORTFOLIO_1000_PLUS'\n",
    "data_out = data_fl[['parcl_id', 'clean_name', 'portfolio_size', 'acquisitions', 'dispositions', 'net', 'pct_sf_housing_stock_portfolio_1000_plus']]\n",
    "data_out = data_out.rename(columns={'pct_sf_housing_stock_portfolio_1000_plus': 'pct_of_single_family_homes_owned'})\n",
    "data_out['pct_of_single_family_homes_owned'] = data_out['pct_of_single_family_homes_owned']/100\n",
    "data_out.to_csv('institutional_acquisitions_dispositions.csv', index=False)"
   ]
  },
  {
   "cell_type": "code",
   "execution_count": 157,
   "metadata": {},
   "outputs": [
    {
     "data": {
      "text/html": [
       "<div>\n",
       "<style scoped>\n",
       "    .dataframe tbody tr th:only-of-type {\n",
       "        vertical-align: middle;\n",
       "    }\n",
       "\n",
       "    .dataframe tbody tr th {\n",
       "        vertical-align: top;\n",
       "    }\n",
       "\n",
       "    .dataframe thead th {\n",
       "        text-align: right;\n",
       "    }\n",
       "</style>\n",
       "<table border=\"1\" class=\"dataframe\">\n",
       "  <thead>\n",
       "    <tr style=\"text-align: right;\">\n",
       "      <th></th>\n",
       "      <th>parcl_id</th>\n",
       "      <th>clean_name</th>\n",
       "      <th>portfolio_size</th>\n",
       "      <th>acquisitions</th>\n",
       "      <th>dispositions</th>\n",
       "      <th>net</th>\n",
       "      <th>pct_of_single_family_homes_owned</th>\n",
       "    </tr>\n",
       "  </thead>\n",
       "  <tbody>\n",
       "    <tr>\n",
       "      <th>21</th>\n",
       "      <td>2900041</td>\n",
       "      <td>Lakeland, FL</td>\n",
       "      <td>PORTFOLIO_1000_PLUS</td>\n",
       "      <td>131</td>\n",
       "      <td>130</td>\n",
       "      <td>1</td>\n",
       "      <td>0.0288</td>\n",
       "    </tr>\n",
       "    <tr>\n",
       "      <th>66</th>\n",
       "      <td>2900213</td>\n",
       "      <td>Orlando, FL</td>\n",
       "      <td>PORTFOLIO_1000_PLUS</td>\n",
       "      <td>394</td>\n",
       "      <td>401</td>\n",
       "      <td>-7</td>\n",
       "      <td>0.0279</td>\n",
       "    </tr>\n",
       "    <tr>\n",
       "      <th>78</th>\n",
       "      <td>2899748</td>\n",
       "      <td>Deltona, FL</td>\n",
       "      <td>PORTFOLIO_1000_PLUS</td>\n",
       "      <td>143</td>\n",
       "      <td>161</td>\n",
       "      <td>-18</td>\n",
       "      <td>0.0117</td>\n",
       "    </tr>\n",
       "    <tr>\n",
       "      <th>81</th>\n",
       "      <td>2899989</td>\n",
       "      <td>Jacksonville, FL</td>\n",
       "      <td>PORTFOLIO_1000_PLUS</td>\n",
       "      <td>300</td>\n",
       "      <td>322</td>\n",
       "      <td>-22</td>\n",
       "      <td>0.0374</td>\n",
       "    </tr>\n",
       "    <tr>\n",
       "      <th>82</th>\n",
       "      <td>2900229</td>\n",
       "      <td>Palm Bay, FL</td>\n",
       "      <td>PORTFOLIO_1000_PLUS</td>\n",
       "      <td>52</td>\n",
       "      <td>75</td>\n",
       "      <td>-23</td>\n",
       "      <td>0.0155</td>\n",
       "    </tr>\n",
       "    <tr>\n",
       "      <th>88</th>\n",
       "      <td>2900192</td>\n",
       "      <td>North Port, FL</td>\n",
       "      <td>PORTFOLIO_1000_PLUS</td>\n",
       "      <td>102</td>\n",
       "      <td>135</td>\n",
       "      <td>-33</td>\n",
       "      <td>0.0186</td>\n",
       "    </tr>\n",
       "    <tr>\n",
       "      <th>92</th>\n",
       "      <td>2900417</td>\n",
       "      <td>Tampa, FL</td>\n",
       "      <td>PORTFOLIO_1000_PLUS</td>\n",
       "      <td>564</td>\n",
       "      <td>608</td>\n",
       "      <td>-44</td>\n",
       "      <td>0.0278</td>\n",
       "    </tr>\n",
       "    <tr>\n",
       "      <th>93</th>\n",
       "      <td>2899822</td>\n",
       "      <td>Cape Coral, FL</td>\n",
       "      <td>PORTFOLIO_1000_PLUS</td>\n",
       "      <td>111</td>\n",
       "      <td>155</td>\n",
       "      <td>-44</td>\n",
       "      <td>0.0188</td>\n",
       "    </tr>\n",
       "    <tr>\n",
       "      <th>94</th>\n",
       "      <td>2900128</td>\n",
       "      <td>Miami, FL</td>\n",
       "      <td>PORTFOLIO_1000_PLUS</td>\n",
       "      <td>171</td>\n",
       "      <td>218</td>\n",
       "      <td>-47</td>\n",
       "      <td>0.0116</td>\n",
       "    </tr>\n",
       "  </tbody>\n",
       "</table>\n",
       "</div>"
      ],
      "text/plain": [
       "    parcl_id        clean_name       portfolio_size  acquisitions  \\\n",
       "21   2900041      Lakeland, FL  PORTFOLIO_1000_PLUS           131   \n",
       "66   2900213       Orlando, FL  PORTFOLIO_1000_PLUS           394   \n",
       "78   2899748       Deltona, FL  PORTFOLIO_1000_PLUS           143   \n",
       "81   2899989  Jacksonville, FL  PORTFOLIO_1000_PLUS           300   \n",
       "82   2900229      Palm Bay, FL  PORTFOLIO_1000_PLUS            52   \n",
       "88   2900192    North Port, FL  PORTFOLIO_1000_PLUS           102   \n",
       "92   2900417         Tampa, FL  PORTFOLIO_1000_PLUS           564   \n",
       "93   2899822    Cape Coral, FL  PORTFOLIO_1000_PLUS           111   \n",
       "94   2900128         Miami, FL  PORTFOLIO_1000_PLUS           171   \n",
       "\n",
       "    dispositions  net  pct_of_single_family_homes_owned  \n",
       "21           130    1                            0.0288  \n",
       "66           401   -7                            0.0279  \n",
       "78           161  -18                            0.0117  \n",
       "81           322  -22                            0.0374  \n",
       "82            75  -23                            0.0155  \n",
       "88           135  -33                            0.0186  \n",
       "92           608  -44                            0.0278  \n",
       "93           155  -44                            0.0188  \n",
       "94           218  -47                            0.0116  "
      ]
     },
     "execution_count": 157,
     "metadata": {},
     "output_type": "execute_result"
    }
   ],
   "source": [
    "data_out"
   ]
  },
  {
   "cell_type": "markdown",
   "metadata": {},
   "source": [
    "- Single family home analysis only\n",
    "- Institutional Portfolios defined as 1000+ units owned in portfolio\n",
    "- Tampa, Orlando and Jacksonville Stand out. In all three markets today, institutional portfolios account for nearly 1 in 20 listings over the last 60 days, with substnatial spikes occurring in September in Tampa in particular. \n",
    "- Tampa, Orlando, and Jackonsville all have a strong instiutional presence with 2.8%, 2.8%, and 3.7% of all single family homes owned in these areas by institutional portfolios. \n",
    "- In all 3 markets, institutional operators have been net sellers over the last 90 days. \n",
    "\n",
    "In short, Tampa, Orlando and Jacksonville are all heavily owned institutional markets, where an increasing share of all available inventory coming to market is coming from these portfolios and they have have already been reducing their exposure in these markets over the last 90 days. These are the markets to watch in my opinion as that is a lot of inventory that could come to market and these operators are typically very motivated to exit when they start selling, and will actively reduce prices to do so. "
   ]
  }
 ],
 "metadata": {
  "kernelspec": {
   "display_name": "parcllabs",
   "language": "python",
   "name": "python3"
  },
  "language_info": {
   "codemirror_mode": {
    "name": "ipython",
    "version": 3
   },
   "file_extension": ".py",
   "mimetype": "text/x-python",
   "name": "python",
   "nbconvert_exporter": "python",
   "pygments_lexer": "ipython3",
   "version": "3.11.9"
  }
 },
 "nbformat": 4,
 "nbformat_minor": 2
}
