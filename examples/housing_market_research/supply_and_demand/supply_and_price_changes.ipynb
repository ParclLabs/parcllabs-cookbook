{
 "cells": [
  {
   "cell_type": "markdown",
   "metadata": {},
   "source": [
    "<center>\n",
    "<h1>Welcome to the Lab 🥼🧪</h1>\n",
    "</center>\n",
    "\n",
    "## How can I analyze supply, and ongoing price change behavior of the total supply in a given market?\n",
    "\n",
    "In this notebook, we will be looking for supply stressors that may indicate downward momentum for home prices. Specifically analyzing YoY supply trends relative to price cut changes.\n",
    "\n",
    "#### What will you create in this notebook?\n",
    "\n",
    "<p align=\"center\">\n",
    "  <img src=\"../../../images/tampa_market_price_drops.png\" alt=\"Alt text\">\n",
    "</p>\n",
    "\n",
    "#### Need help getting started?\n",
    "\n",
    "As a reminder, you can get your Parcl Labs API key [here](https://dashboard.parcllabs.com/signup) to follow along.\n",
    "\n",
    "To run this immediately, you can use Google Colab. Remember, you must set your `PARCL_LABS_API_KEY`.\n",
    "\n",
    "Run in collab --> [![Open in Colab](https://colab.research.google.com/assets/colab-badge.svg)](https://colab.research.google.com/github/ParclLabs/parcllabs-cookbook/blob/main/examples/housing_market_research/supply_and_demand/supply_and_price_changes.ipynb)"
   ]
  },
  {
   "cell_type": "markdown",
   "metadata": {},
   "source": [
    "### 1. Import the Parcl Labs Python Library"
   ]
  },
  {
   "cell_type": "code",
   "execution_count": null,
   "metadata": {},
   "outputs": [],
   "source": [
    "# if needed, install and/or upgrade to the latest verison of the Parcl Labs Python library\n",
    "%pip install --upgrade parcllabs nbformat"
   ]
  },
  {
   "cell_type": "code",
   "execution_count": 1,
   "metadata": {},
   "outputs": [],
   "source": [
    "import os\n",
    "import pandas as pd\n",
    "from parcllabs import ParclLabsClient\n",
    "from parcllabs.beta.charting.styling import SIZE_CONFIG\n",
    "from parcllabs.beta.charting.default_charts import create_dual_axis_chart\n",
    "\n",
    "client = ParclLabsClient(\n",
    "    api_key=os.environ.get('PARCL_LABS_API_KEY', \"<your Parcl Labs API key if not set as environment variable>\"), \n",
    "    limit=12 # set default limit\n",
    ")"
   ]
  },
  {
   "cell_type": "markdown",
   "metadata": {},
   "source": [
    "### 2. Search for Markets"
   ]
  },
  {
   "cell_type": "code",
   "execution_count": 2,
   "metadata": {},
   "outputs": [
    {
     "data": {
      "text/html": [
       "<div>\n",
       "<style scoped>\n",
       "    .dataframe tbody tr th:only-of-type {\n",
       "        vertical-align: middle;\n",
       "    }\n",
       "\n",
       "    .dataframe tbody tr th {\n",
       "        vertical-align: top;\n",
       "    }\n",
       "\n",
       "    .dataframe thead th {\n",
       "        text-align: right;\n",
       "    }\n",
       "</style>\n",
       "<table border=\"1\" class=\"dataframe\">\n",
       "  <thead>\n",
       "    <tr style=\"text-align: right;\">\n",
       "      <th></th>\n",
       "      <th>parcl_id</th>\n",
       "      <th>country</th>\n",
       "      <th>geoid</th>\n",
       "      <th>state_fips_code</th>\n",
       "      <th>name</th>\n",
       "      <th>state_abbreviation</th>\n",
       "      <th>region</th>\n",
       "      <th>location_type</th>\n",
       "      <th>total_population</th>\n",
       "      <th>median_income</th>\n",
       "      <th>parcl_exchange_market</th>\n",
       "      <th>pricefeed_market</th>\n",
       "      <th>case_shiller_10_market</th>\n",
       "      <th>case_shiller_20_market</th>\n",
       "    </tr>\n",
       "  </thead>\n",
       "  <tbody>\n",
       "    <tr>\n",
       "      <th>0</th>\n",
       "      <td>5352995</td>\n",
       "      <td>USA</td>\n",
       "      <td>1271000</td>\n",
       "      <td>12</td>\n",
       "      <td>Tampa City</td>\n",
       "      <td>FL</td>\n",
       "      <td>SOUTH_ATLANTIC</td>\n",
       "      <td>CITY</td>\n",
       "      <td>388768</td>\n",
       "      <td>66802</td>\n",
       "      <td>0</td>\n",
       "      <td>1</td>\n",
       "      <td>0</td>\n",
       "      <td>0</td>\n",
       "    </tr>\n",
       "  </tbody>\n",
       "</table>\n",
       "</div>"
      ],
      "text/plain": [
       "   parcl_id country    geoid state_fips_code        name state_abbreviation  \\\n",
       "0   5352995     USA  1271000              12  Tampa City                 FL   \n",
       "\n",
       "           region location_type  total_population  median_income  \\\n",
       "0  SOUTH_ATLANTIC          CITY            388768          66802   \n",
       "\n",
       "   parcl_exchange_market  pricefeed_market  case_shiller_10_market  \\\n",
       "0                      0                 1                       0   \n",
       "\n",
       "   case_shiller_20_market  \n",
       "0                       0  "
      ]
     },
     "execution_count": 2,
     "metadata": {},
     "output_type": "execute_result"
    }
   ],
   "source": [
    "# in this case, lets look at Tampa market at the metro level\n",
    "tampa_market = client.search.markets.retrieve(\n",
    "    query='Tampa',\n",
    "    sort_by='TOTAL_POPULATION',\n",
    "    location_type='CITY',\n",
    "    sort_order='DESC',\n",
    "    limit=1\n",
    ")\n",
    "\n",
    "tampa_market.head()"
   ]
  },
  {
   "cell_type": "code",
   "execution_count": 3,
   "metadata": {},
   "outputs": [],
   "source": [
    "tampa_parcl_id = tampa_market['parcl_id'].values[0]"
   ]
  },
  {
   "cell_type": "markdown",
   "metadata": {},
   "source": [
    "### 3. Retrieve the Data"
   ]
  },
  {
   "cell_type": "code",
   "execution_count": 4,
   "metadata": {},
   "outputs": [
    {
     "name": "stdout",
     "output_type": "stream",
     "text": [
      "|████████████████████████████████████████| 1/1 [100%] in 0.1s (7.11/s) \n",
      "|████████████████████████████████████████| 1/1 [100%] in 0.2s (5.66/s) \n"
     ]
    }
   ],
   "source": [
    "# Lets get YoY changes for tampa market\n",
    "\n",
    "start_date='2023-06-01'\n",
    "\n",
    "supply = client.for_sale_market_metrics.for_sale_inventory.retrieve(\n",
    "    parcl_ids=[tampa_parcl_id],\n",
    "    limit=60,\n",
    "    start_date=start_date\n",
    ")\n",
    "\n",
    "supply_price_changes = client.for_sale_market_metrics.for_sale_inventory_price_changes.retrieve(\n",
    "    parcl_ids=[tampa_parcl_id],\n",
    "    limit=60,\n",
    "    start_date=start_date\n",
    ")"
   ]
  },
  {
   "cell_type": "code",
   "execution_count": 5,
   "metadata": {},
   "outputs": [
    {
     "data": {
      "text/html": [
       "<div>\n",
       "<style scoped>\n",
       "    .dataframe tbody tr th:only-of-type {\n",
       "        vertical-align: middle;\n",
       "    }\n",
       "\n",
       "    .dataframe tbody tr th {\n",
       "        vertical-align: top;\n",
       "    }\n",
       "\n",
       "    .dataframe thead th {\n",
       "        text-align: right;\n",
       "    }\n",
       "</style>\n",
       "<table border=\"1\" class=\"dataframe\">\n",
       "  <thead>\n",
       "    <tr style=\"text-align: right;\">\n",
       "      <th></th>\n",
       "      <th>date</th>\n",
       "      <th>for_sale_inventory</th>\n",
       "      <th>parcl_id</th>\n",
       "      <th>property_type</th>\n",
       "    </tr>\n",
       "  </thead>\n",
       "  <tbody>\n",
       "    <tr>\n",
       "      <th>0</th>\n",
       "      <td>2024-07-08</td>\n",
       "      <td>1860</td>\n",
       "      <td>5352995</td>\n",
       "      <td>ALL_PROPERTIES</td>\n",
       "    </tr>\n",
       "    <tr>\n",
       "      <th>1</th>\n",
       "      <td>2024-07-01</td>\n",
       "      <td>1864</td>\n",
       "      <td>5352995</td>\n",
       "      <td>ALL_PROPERTIES</td>\n",
       "    </tr>\n",
       "    <tr>\n",
       "      <th>2</th>\n",
       "      <td>2024-06-24</td>\n",
       "      <td>1835</td>\n",
       "      <td>5352995</td>\n",
       "      <td>ALL_PROPERTIES</td>\n",
       "    </tr>\n",
       "    <tr>\n",
       "      <th>3</th>\n",
       "      <td>2024-06-17</td>\n",
       "      <td>1851</td>\n",
       "      <td>5352995</td>\n",
       "      <td>ALL_PROPERTIES</td>\n",
       "    </tr>\n",
       "    <tr>\n",
       "      <th>4</th>\n",
       "      <td>2024-06-10</td>\n",
       "      <td>1840</td>\n",
       "      <td>5352995</td>\n",
       "      <td>ALL_PROPERTIES</td>\n",
       "    </tr>\n",
       "  </tbody>\n",
       "</table>\n",
       "</div>"
      ],
      "text/plain": [
       "        date  for_sale_inventory parcl_id   property_type\n",
       "0 2024-07-08                1860  5352995  ALL_PROPERTIES\n",
       "1 2024-07-01                1864  5352995  ALL_PROPERTIES\n",
       "2 2024-06-24                1835  5352995  ALL_PROPERTIES\n",
       "3 2024-06-17                1851  5352995  ALL_PROPERTIES\n",
       "4 2024-06-10                1840  5352995  ALL_PROPERTIES"
      ]
     },
     "execution_count": 5,
     "metadata": {},
     "output_type": "execute_result"
    }
   ],
   "source": [
    "supply.head()"
   ]
  },
  {
   "cell_type": "code",
   "execution_count": 6,
   "metadata": {},
   "outputs": [
    {
     "data": {
      "text/html": [
       "<div>\n",
       "<style scoped>\n",
       "    .dataframe tbody tr th:only-of-type {\n",
       "        vertical-align: middle;\n",
       "    }\n",
       "\n",
       "    .dataframe tbody tr th {\n",
       "        vertical-align: top;\n",
       "    }\n",
       "\n",
       "    .dataframe thead th {\n",
       "        text-align: right;\n",
       "    }\n",
       "</style>\n",
       "<table border=\"1\" class=\"dataframe\">\n",
       "  <thead>\n",
       "    <tr style=\"text-align: right;\">\n",
       "      <th></th>\n",
       "      <th>date</th>\n",
       "      <th>count_price_change</th>\n",
       "      <th>count_price_drop</th>\n",
       "      <th>median_days_bt_change</th>\n",
       "      <th>median_price_change</th>\n",
       "      <th>median_pct_price_change</th>\n",
       "      <th>pct_inventory_price_change</th>\n",
       "      <th>parcl_id</th>\n",
       "      <th>property_type</th>\n",
       "    </tr>\n",
       "  </thead>\n",
       "  <tbody>\n",
       "    <tr>\n",
       "      <th>0</th>\n",
       "      <td>2024-07-08</td>\n",
       "      <td>913</td>\n",
       "      <td>864</td>\n",
       "      <td>20</td>\n",
       "      <td>-10001</td>\n",
       "      <td>-2.44</td>\n",
       "      <td>49.09</td>\n",
       "      <td>5352995</td>\n",
       "      <td>ALL_PROPERTIES</td>\n",
       "    </tr>\n",
       "    <tr>\n",
       "      <th>1</th>\n",
       "      <td>2024-07-01</td>\n",
       "      <td>898</td>\n",
       "      <td>850</td>\n",
       "      <td>20</td>\n",
       "      <td>-10100</td>\n",
       "      <td>-2.36</td>\n",
       "      <td>48.18</td>\n",
       "      <td>5352995</td>\n",
       "      <td>ALL_PROPERTIES</td>\n",
       "    </tr>\n",
       "    <tr>\n",
       "      <th>2</th>\n",
       "      <td>2024-06-24</td>\n",
       "      <td>857</td>\n",
       "      <td>812</td>\n",
       "      <td>21</td>\n",
       "      <td>-10000</td>\n",
       "      <td>-2.38</td>\n",
       "      <td>46.70</td>\n",
       "      <td>5352995</td>\n",
       "      <td>ALL_PROPERTIES</td>\n",
       "    </tr>\n",
       "    <tr>\n",
       "      <th>3</th>\n",
       "      <td>2024-06-17</td>\n",
       "      <td>831</td>\n",
       "      <td>785</td>\n",
       "      <td>22</td>\n",
       "      <td>-10000</td>\n",
       "      <td>-2.37</td>\n",
       "      <td>44.89</td>\n",
       "      <td>5352995</td>\n",
       "      <td>ALL_PROPERTIES</td>\n",
       "    </tr>\n",
       "    <tr>\n",
       "      <th>4</th>\n",
       "      <td>2024-06-10</td>\n",
       "      <td>791</td>\n",
       "      <td>742</td>\n",
       "      <td>23</td>\n",
       "      <td>-10900</td>\n",
       "      <td>-2.55</td>\n",
       "      <td>42.99</td>\n",
       "      <td>5352995</td>\n",
       "      <td>ALL_PROPERTIES</td>\n",
       "    </tr>\n",
       "  </tbody>\n",
       "</table>\n",
       "</div>"
      ],
      "text/plain": [
       "        date  count_price_change  count_price_drop  median_days_bt_change  \\\n",
       "0 2024-07-08                 913               864                     20   \n",
       "1 2024-07-01                 898               850                     20   \n",
       "2 2024-06-24                 857               812                     21   \n",
       "3 2024-06-17                 831               785                     22   \n",
       "4 2024-06-10                 791               742                     23   \n",
       "\n",
       "   median_price_change  median_pct_price_change  pct_inventory_price_change  \\\n",
       "0               -10001                    -2.44                       49.09   \n",
       "1               -10100                    -2.36                       48.18   \n",
       "2               -10000                    -2.38                       46.70   \n",
       "3               -10000                    -2.37                       44.89   \n",
       "4               -10900                    -2.55                       42.99   \n",
       "\n",
       "  parcl_id   property_type  \n",
       "0  5352995  ALL_PROPERTIES  \n",
       "1  5352995  ALL_PROPERTIES  \n",
       "2  5352995  ALL_PROPERTIES  \n",
       "3  5352995  ALL_PROPERTIES  \n",
       "4  5352995  ALL_PROPERTIES  "
      ]
     },
     "execution_count": 6,
     "metadata": {},
     "output_type": "execute_result"
    }
   ],
   "source": [
    "supply_price_changes.head()"
   ]
  },
  {
   "cell_type": "markdown",
   "metadata": {},
   "source": [
    "### 4. Prepare the data for analysis/charting"
   ]
  },
  {
   "cell_type": "code",
   "execution_count": 7,
   "metadata": {},
   "outputs": [],
   "source": [
    "# lets focus on price drops, combine total supply with count of price drops\n",
    "data = pd.merge(supply, supply_price_changes[['parcl_id', 'date', 'count_price_drop']], on=['date', 'parcl_id'], how='left')"
   ]
  },
  {
   "cell_type": "code",
   "execution_count": 8,
   "metadata": {},
   "outputs": [],
   "source": [
    "data['% Price Drops'] = round(data['count_price_drop'] / data['for_sale_inventory'] * 100, 2)\n",
    "data = data.rename(columns={'for_sale_inventory': 'Total Supply'})"
   ]
  },
  {
   "cell_type": "markdown",
   "metadata": {},
   "source": [
    "### 5. Chart the Data"
   ]
  },
  {
   "cell_type": "code",
   "execution_count": 9,
   "metadata": {},
   "outputs": [],
   "source": [
    "data = data.sort_values('date')"
   ]
  },
  {
   "cell_type": "code",
   "execution_count": 11,
   "metadata": {},
   "outputs": [
    {
     "data": {
      "application/vnd.plotly.v1+json": {
       "config": {
        "plotlyServerURL": "https://plot.ly"
       },
       "data": [
        {
         "line": {
          "color": "#2ca02c",
          "width": 3
         },
         "marker": {
          "color": "#2ca02c",
          "line": {
           "color": "#ffffff",
           "width": 1
          },
          "size": 8
         },
         "mode": "lines+markers",
         "name": "% Price Drops",
         "type": "scatter",
         "x": [
          "2023-06-05T00:00:00",
          "2023-06-12T00:00:00",
          "2023-06-19T00:00:00",
          "2023-06-26T00:00:00",
          "2023-07-03T00:00:00",
          "2023-07-10T00:00:00",
          "2023-07-17T00:00:00",
          "2023-07-24T00:00:00",
          "2023-07-31T00:00:00",
          "2023-08-07T00:00:00",
          "2023-08-14T00:00:00",
          "2023-08-21T00:00:00",
          "2023-08-28T00:00:00",
          "2023-09-04T00:00:00",
          "2023-09-11T00:00:00",
          "2023-09-18T00:00:00",
          "2023-09-25T00:00:00",
          "2023-10-02T00:00:00",
          "2023-10-09T00:00:00",
          "2023-10-16T00:00:00",
          "2023-10-23T00:00:00",
          "2023-10-30T00:00:00",
          "2023-11-06T00:00:00",
          "2023-11-13T00:00:00",
          "2023-11-20T00:00:00",
          "2023-11-27T00:00:00",
          "2023-12-04T00:00:00",
          "2023-12-11T00:00:00",
          "2023-12-18T00:00:00",
          "2023-12-25T00:00:00",
          "2024-01-01T00:00:00",
          "2024-01-08T00:00:00",
          "2024-01-15T00:00:00",
          "2024-01-22T00:00:00",
          "2024-01-29T00:00:00",
          "2024-02-05T00:00:00",
          "2024-02-12T00:00:00",
          "2024-02-19T00:00:00",
          "2024-02-26T00:00:00",
          "2024-03-04T00:00:00",
          "2024-03-11T00:00:00",
          "2024-03-18T00:00:00",
          "2024-03-25T00:00:00",
          "2024-04-01T00:00:00",
          "2024-04-08T00:00:00",
          "2024-04-15T00:00:00",
          "2024-04-22T00:00:00",
          "2024-04-29T00:00:00",
          "2024-05-06T00:00:00",
          "2024-05-13T00:00:00",
          "2024-05-20T00:00:00",
          "2024-05-27T00:00:00",
          "2024-06-03T00:00:00",
          "2024-06-10T00:00:00",
          "2024-06-17T00:00:00",
          "2024-06-24T00:00:00",
          "2024-07-01T00:00:00",
          "2024-07-08T00:00:00"
         ],
         "y": [
          27.11,
          27.63,
          29.67,
          33.28,
          35.37,
          36.84,
          36.57,
          39.12,
          38.45,
          37.52,
          36.15,
          37.43,
          35.57,
          35.35,
          35.39,
          36.19,
          36.51,
          38.03,
          37.66,
          40.08,
          40.75,
          41.21,
          40.06,
          41.64,
          42.84,
          42.91,
          43.19,
          44.42,
          43.24,
          41.96,
          39.46,
          37.29,
          37.36,
          38.34,
          36.26,
          35.65,
          37.34,
          37.12,
          38.34,
          39.44,
          39.83,
          39.88,
          39.66,
          42.15,
          40.49,
          39.81,
          38.34,
          38.96,
          35.52,
          34.88,
          36.08,
          37.51,
          39.41,
          40.33,
          42.41,
          44.25,
          45.6,
          46.45
         ]
        },
        {
         "marker": {
          "color": "#1f77b4",
          "opacity": 0.8
         },
         "name": "Total Supply",
         "type": "bar",
         "x": [
          "2023-06-05T00:00:00",
          "2023-06-12T00:00:00",
          "2023-06-19T00:00:00",
          "2023-06-26T00:00:00",
          "2023-07-03T00:00:00",
          "2023-07-10T00:00:00",
          "2023-07-17T00:00:00",
          "2023-07-24T00:00:00",
          "2023-07-31T00:00:00",
          "2023-08-07T00:00:00",
          "2023-08-14T00:00:00",
          "2023-08-21T00:00:00",
          "2023-08-28T00:00:00",
          "2023-09-04T00:00:00",
          "2023-09-11T00:00:00",
          "2023-09-18T00:00:00",
          "2023-09-25T00:00:00",
          "2023-10-02T00:00:00",
          "2023-10-09T00:00:00",
          "2023-10-16T00:00:00",
          "2023-10-23T00:00:00",
          "2023-10-30T00:00:00",
          "2023-11-06T00:00:00",
          "2023-11-13T00:00:00",
          "2023-11-20T00:00:00",
          "2023-11-27T00:00:00",
          "2023-12-04T00:00:00",
          "2023-12-11T00:00:00",
          "2023-12-18T00:00:00",
          "2023-12-25T00:00:00",
          "2024-01-01T00:00:00",
          "2024-01-08T00:00:00",
          "2024-01-15T00:00:00",
          "2024-01-22T00:00:00",
          "2024-01-29T00:00:00",
          "2024-02-05T00:00:00",
          "2024-02-12T00:00:00",
          "2024-02-19T00:00:00",
          "2024-02-26T00:00:00",
          "2024-03-04T00:00:00",
          "2024-03-11T00:00:00",
          "2024-03-18T00:00:00",
          "2024-03-25T00:00:00",
          "2024-04-01T00:00:00",
          "2024-04-08T00:00:00",
          "2024-04-15T00:00:00",
          "2024-04-22T00:00:00",
          "2024-04-29T00:00:00",
          "2024-05-06T00:00:00",
          "2024-05-13T00:00:00",
          "2024-05-20T00:00:00",
          "2024-05-27T00:00:00",
          "2024-06-03T00:00:00",
          "2024-06-10T00:00:00",
          "2024-06-17T00:00:00",
          "2024-06-24T00:00:00",
          "2024-07-01T00:00:00",
          "2024-07-08T00:00:00"
         ],
         "y": [
          1265,
          1263,
          1230,
          1154,
          1097,
          1102,
          1113,
          1089,
          1087,
          1122,
          1209,
          1277,
          1358,
          1358,
          1427,
          1459,
          1490,
          1504,
          1519,
          1527,
          1563,
          1519,
          1550,
          1549,
          1536,
          1482,
          1447,
          1434,
          1413,
          1275,
          1148,
          1196,
          1250,
          1278,
          1274,
          1321,
          1390,
          1495,
          1570,
          1572,
          1607,
          1620,
          1669,
          1663,
          1677,
          1683,
          1716,
          1730,
          1802,
          1832,
          1871,
          1842,
          1827,
          1840,
          1851,
          1835,
          1864,
          1860
         ],
         "yaxis": "y2"
        }
       ],
       "layout": {
        "barmode": "group",
        "font": {
         "color": "#ffffff"
        },
        "height": 675,
        "hoverlabel": {
         "bgcolor": "#2f2f2f",
         "font": {
          "color": "#ffffff",
          "family": "Arial",
          "size": 12
         }
        },
        "hovermode": "x unified",
        "images": [
         {
          "sizex": 0.15,
          "sizey": 0.15,
          "source": "https://parcllabs-assets.s3.amazonaws.com/powered-by-parcllabs-api-logo-white+(1).svg",
          "x": 1,
          "xanchor": "right",
          "xref": "paper",
          "y": 0,
          "yanchor": "bottom",
          "yref": "paper"
         }
        ],
        "legend": {
         "bgcolor": "rgba(0, 0, 0, 0)",
         "font": {
          "color": "#ffffff",
          "family": "Arial",
          "size": 12
         },
         "x": 0.01,
         "xanchor": "left",
         "y": 0.98,
         "yanchor": "top"
        },
        "margin": {
         "b": 40,
         "l": 40,
         "r": 40,
         "t": 80
        },
        "paper_bgcolor": "#1e1e1e",
        "plot_bgcolor": "#1e1e1e",
        "template": {
         "data": {
          "bar": [
           {
            "error_x": {
             "color": "#2a3f5f"
            },
            "error_y": {
             "color": "#2a3f5f"
            },
            "marker": {
             "line": {
              "color": "#E5ECF6",
              "width": 0.5
             },
             "pattern": {
              "fillmode": "overlay",
              "size": 10,
              "solidity": 0.2
             }
            },
            "type": "bar"
           }
          ],
          "barpolar": [
           {
            "marker": {
             "line": {
              "color": "#E5ECF6",
              "width": 0.5
             },
             "pattern": {
              "fillmode": "overlay",
              "size": 10,
              "solidity": 0.2
             }
            },
            "type": "barpolar"
           }
          ],
          "carpet": [
           {
            "aaxis": {
             "endlinecolor": "#2a3f5f",
             "gridcolor": "white",
             "linecolor": "white",
             "minorgridcolor": "white",
             "startlinecolor": "#2a3f5f"
            },
            "baxis": {
             "endlinecolor": "#2a3f5f",
             "gridcolor": "white",
             "linecolor": "white",
             "minorgridcolor": "white",
             "startlinecolor": "#2a3f5f"
            },
            "type": "carpet"
           }
          ],
          "choropleth": [
           {
            "colorbar": {
             "outlinewidth": 0,
             "ticks": ""
            },
            "type": "choropleth"
           }
          ],
          "contour": [
           {
            "colorbar": {
             "outlinewidth": 0,
             "ticks": ""
            },
            "colorscale": [
             [
              0,
              "#0d0887"
             ],
             [
              0.1111111111111111,
              "#46039f"
             ],
             [
              0.2222222222222222,
              "#7201a8"
             ],
             [
              0.3333333333333333,
              "#9c179e"
             ],
             [
              0.4444444444444444,
              "#bd3786"
             ],
             [
              0.5555555555555556,
              "#d8576b"
             ],
             [
              0.6666666666666666,
              "#ed7953"
             ],
             [
              0.7777777777777778,
              "#fb9f3a"
             ],
             [
              0.8888888888888888,
              "#fdca26"
             ],
             [
              1,
              "#f0f921"
             ]
            ],
            "type": "contour"
           }
          ],
          "contourcarpet": [
           {
            "colorbar": {
             "outlinewidth": 0,
             "ticks": ""
            },
            "type": "contourcarpet"
           }
          ],
          "heatmap": [
           {
            "colorbar": {
             "outlinewidth": 0,
             "ticks": ""
            },
            "colorscale": [
             [
              0,
              "#0d0887"
             ],
             [
              0.1111111111111111,
              "#46039f"
             ],
             [
              0.2222222222222222,
              "#7201a8"
             ],
             [
              0.3333333333333333,
              "#9c179e"
             ],
             [
              0.4444444444444444,
              "#bd3786"
             ],
             [
              0.5555555555555556,
              "#d8576b"
             ],
             [
              0.6666666666666666,
              "#ed7953"
             ],
             [
              0.7777777777777778,
              "#fb9f3a"
             ],
             [
              0.8888888888888888,
              "#fdca26"
             ],
             [
              1,
              "#f0f921"
             ]
            ],
            "type": "heatmap"
           }
          ],
          "heatmapgl": [
           {
            "colorbar": {
             "outlinewidth": 0,
             "ticks": ""
            },
            "colorscale": [
             [
              0,
              "#0d0887"
             ],
             [
              0.1111111111111111,
              "#46039f"
             ],
             [
              0.2222222222222222,
              "#7201a8"
             ],
             [
              0.3333333333333333,
              "#9c179e"
             ],
             [
              0.4444444444444444,
              "#bd3786"
             ],
             [
              0.5555555555555556,
              "#d8576b"
             ],
             [
              0.6666666666666666,
              "#ed7953"
             ],
             [
              0.7777777777777778,
              "#fb9f3a"
             ],
             [
              0.8888888888888888,
              "#fdca26"
             ],
             [
              1,
              "#f0f921"
             ]
            ],
            "type": "heatmapgl"
           }
          ],
          "histogram": [
           {
            "marker": {
             "pattern": {
              "fillmode": "overlay",
              "size": 10,
              "solidity": 0.2
             }
            },
            "type": "histogram"
           }
          ],
          "histogram2d": [
           {
            "colorbar": {
             "outlinewidth": 0,
             "ticks": ""
            },
            "colorscale": [
             [
              0,
              "#0d0887"
             ],
             [
              0.1111111111111111,
              "#46039f"
             ],
             [
              0.2222222222222222,
              "#7201a8"
             ],
             [
              0.3333333333333333,
              "#9c179e"
             ],
             [
              0.4444444444444444,
              "#bd3786"
             ],
             [
              0.5555555555555556,
              "#d8576b"
             ],
             [
              0.6666666666666666,
              "#ed7953"
             ],
             [
              0.7777777777777778,
              "#fb9f3a"
             ],
             [
              0.8888888888888888,
              "#fdca26"
             ],
             [
              1,
              "#f0f921"
             ]
            ],
            "type": "histogram2d"
           }
          ],
          "histogram2dcontour": [
           {
            "colorbar": {
             "outlinewidth": 0,
             "ticks": ""
            },
            "colorscale": [
             [
              0,
              "#0d0887"
             ],
             [
              0.1111111111111111,
              "#46039f"
             ],
             [
              0.2222222222222222,
              "#7201a8"
             ],
             [
              0.3333333333333333,
              "#9c179e"
             ],
             [
              0.4444444444444444,
              "#bd3786"
             ],
             [
              0.5555555555555556,
              "#d8576b"
             ],
             [
              0.6666666666666666,
              "#ed7953"
             ],
             [
              0.7777777777777778,
              "#fb9f3a"
             ],
             [
              0.8888888888888888,
              "#fdca26"
             ],
             [
              1,
              "#f0f921"
             ]
            ],
            "type": "histogram2dcontour"
           }
          ],
          "mesh3d": [
           {
            "colorbar": {
             "outlinewidth": 0,
             "ticks": ""
            },
            "type": "mesh3d"
           }
          ],
          "parcoords": [
           {
            "line": {
             "colorbar": {
              "outlinewidth": 0,
              "ticks": ""
             }
            },
            "type": "parcoords"
           }
          ],
          "pie": [
           {
            "automargin": true,
            "type": "pie"
           }
          ],
          "scatter": [
           {
            "fillpattern": {
             "fillmode": "overlay",
             "size": 10,
             "solidity": 0.2
            },
            "type": "scatter"
           }
          ],
          "scatter3d": [
           {
            "line": {
             "colorbar": {
              "outlinewidth": 0,
              "ticks": ""
             }
            },
            "marker": {
             "colorbar": {
              "outlinewidth": 0,
              "ticks": ""
             }
            },
            "type": "scatter3d"
           }
          ],
          "scattercarpet": [
           {
            "marker": {
             "colorbar": {
              "outlinewidth": 0,
              "ticks": ""
             }
            },
            "type": "scattercarpet"
           }
          ],
          "scattergeo": [
           {
            "marker": {
             "colorbar": {
              "outlinewidth": 0,
              "ticks": ""
             }
            },
            "type": "scattergeo"
           }
          ],
          "scattergl": [
           {
            "marker": {
             "colorbar": {
              "outlinewidth": 0,
              "ticks": ""
             }
            },
            "type": "scattergl"
           }
          ],
          "scattermapbox": [
           {
            "marker": {
             "colorbar": {
              "outlinewidth": 0,
              "ticks": ""
             }
            },
            "type": "scattermapbox"
           }
          ],
          "scatterpolar": [
           {
            "marker": {
             "colorbar": {
              "outlinewidth": 0,
              "ticks": ""
             }
            },
            "type": "scatterpolar"
           }
          ],
          "scatterpolargl": [
           {
            "marker": {
             "colorbar": {
              "outlinewidth": 0,
              "ticks": ""
             }
            },
            "type": "scatterpolargl"
           }
          ],
          "scatterternary": [
           {
            "marker": {
             "colorbar": {
              "outlinewidth": 0,
              "ticks": ""
             }
            },
            "type": "scatterternary"
           }
          ],
          "surface": [
           {
            "colorbar": {
             "outlinewidth": 0,
             "ticks": ""
            },
            "colorscale": [
             [
              0,
              "#0d0887"
             ],
             [
              0.1111111111111111,
              "#46039f"
             ],
             [
              0.2222222222222222,
              "#7201a8"
             ],
             [
              0.3333333333333333,
              "#9c179e"
             ],
             [
              0.4444444444444444,
              "#bd3786"
             ],
             [
              0.5555555555555556,
              "#d8576b"
             ],
             [
              0.6666666666666666,
              "#ed7953"
             ],
             [
              0.7777777777777778,
              "#fb9f3a"
             ],
             [
              0.8888888888888888,
              "#fdca26"
             ],
             [
              1,
              "#f0f921"
             ]
            ],
            "type": "surface"
           }
          ],
          "table": [
           {
            "cells": {
             "fill": {
              "color": "#EBF0F8"
             },
             "line": {
              "color": "white"
             }
            },
            "header": {
             "fill": {
              "color": "#C8D4E3"
             },
             "line": {
              "color": "white"
             }
            },
            "type": "table"
           }
          ]
         },
         "layout": {
          "annotationdefaults": {
           "arrowcolor": "#2a3f5f",
           "arrowhead": 0,
           "arrowwidth": 1
          },
          "autotypenumbers": "strict",
          "coloraxis": {
           "colorbar": {
            "outlinewidth": 0,
            "ticks": ""
           }
          },
          "colorscale": {
           "diverging": [
            [
             0,
             "#8e0152"
            ],
            [
             0.1,
             "#c51b7d"
            ],
            [
             0.2,
             "#de77ae"
            ],
            [
             0.3,
             "#f1b6da"
            ],
            [
             0.4,
             "#fde0ef"
            ],
            [
             0.5,
             "#f7f7f7"
            ],
            [
             0.6,
             "#e6f5d0"
            ],
            [
             0.7,
             "#b8e186"
            ],
            [
             0.8,
             "#7fbc41"
            ],
            [
             0.9,
             "#4d9221"
            ],
            [
             1,
             "#276419"
            ]
           ],
           "sequential": [
            [
             0,
             "#0d0887"
            ],
            [
             0.1111111111111111,
             "#46039f"
            ],
            [
             0.2222222222222222,
             "#7201a8"
            ],
            [
             0.3333333333333333,
             "#9c179e"
            ],
            [
             0.4444444444444444,
             "#bd3786"
            ],
            [
             0.5555555555555556,
             "#d8576b"
            ],
            [
             0.6666666666666666,
             "#ed7953"
            ],
            [
             0.7777777777777778,
             "#fb9f3a"
            ],
            [
             0.8888888888888888,
             "#fdca26"
            ],
            [
             1,
             "#f0f921"
            ]
           ],
           "sequentialminus": [
            [
             0,
             "#0d0887"
            ],
            [
             0.1111111111111111,
             "#46039f"
            ],
            [
             0.2222222222222222,
             "#7201a8"
            ],
            [
             0.3333333333333333,
             "#9c179e"
            ],
            [
             0.4444444444444444,
             "#bd3786"
            ],
            [
             0.5555555555555556,
             "#d8576b"
            ],
            [
             0.6666666666666666,
             "#ed7953"
            ],
            [
             0.7777777777777778,
             "#fb9f3a"
            ],
            [
             0.8888888888888888,
             "#fdca26"
            ],
            [
             1,
             "#f0f921"
            ]
           ]
          },
          "colorway": [
           "#636efa",
           "#EF553B",
           "#00cc96",
           "#ab63fa",
           "#FFA15A",
           "#19d3f3",
           "#FF6692",
           "#B6E880",
           "#FF97FF",
           "#FECB52"
          ],
          "font": {
           "color": "#2a3f5f"
          },
          "geo": {
           "bgcolor": "white",
           "lakecolor": "white",
           "landcolor": "#E5ECF6",
           "showlakes": true,
           "showland": true,
           "subunitcolor": "white"
          },
          "hoverlabel": {
           "align": "left"
          },
          "hovermode": "closest",
          "mapbox": {
           "style": "light"
          },
          "paper_bgcolor": "white",
          "plot_bgcolor": "#E5ECF6",
          "polar": {
           "angularaxis": {
            "gridcolor": "white",
            "linecolor": "white",
            "ticks": ""
           },
           "bgcolor": "#E5ECF6",
           "radialaxis": {
            "gridcolor": "white",
            "linecolor": "white",
            "ticks": ""
           }
          },
          "scene": {
           "xaxis": {
            "backgroundcolor": "#E5ECF6",
            "gridcolor": "white",
            "gridwidth": 2,
            "linecolor": "white",
            "showbackground": true,
            "ticks": "",
            "zerolinecolor": "white"
           },
           "yaxis": {
            "backgroundcolor": "#E5ECF6",
            "gridcolor": "white",
            "gridwidth": 2,
            "linecolor": "white",
            "showbackground": true,
            "ticks": "",
            "zerolinecolor": "white"
           },
           "zaxis": {
            "backgroundcolor": "#E5ECF6",
            "gridcolor": "white",
            "gridwidth": 2,
            "linecolor": "white",
            "showbackground": true,
            "ticks": "",
            "zerolinecolor": "white"
           }
          },
          "shapedefaults": {
           "line": {
            "color": "#2a3f5f"
           }
          },
          "ternary": {
           "aaxis": {
            "gridcolor": "white",
            "linecolor": "white",
            "ticks": ""
           },
           "baxis": {
            "gridcolor": "white",
            "linecolor": "white",
            "ticks": ""
           },
           "bgcolor": "#E5ECF6",
           "caxis": {
            "gridcolor": "white",
            "linecolor": "white",
            "ticks": ""
           }
          },
          "title": {
           "x": 0.05
          },
          "xaxis": {
           "automargin": true,
           "gridcolor": "white",
           "linecolor": "white",
           "ticks": "",
           "title": {
            "standoff": 15
           },
           "zerolinecolor": "white",
           "zerolinewidth": 2
          },
          "yaxis": {
           "automargin": true,
           "gridcolor": "white",
           "linecolor": "white",
           "ticks": "",
           "title": {
            "standoff": 15
           },
           "zerolinecolor": "white",
           "zerolinewidth": 2
          }
         }
        },
        "title": {
         "font": {
          "color": "#ffffff",
          "family": "Arial Black",
          "size": 24
         },
         "text": "Tampa City: % of Inventory with Price Drops vs Total Supply",
         "x": 0.5,
         "xanchor": "center",
         "y": 0.95,
         "yanchor": "top"
        },
        "width": 1200,
        "xaxis": {
         "gridcolor": "rgba(255, 255, 255, 0.2)",
         "gridwidth": 0.5,
         "linecolor": "rgba(255, 255, 255, 0.7)",
         "linewidth": 1,
         "showgrid": true,
         "tickangle": -45,
         "tickfont": {
          "color": "#ffffff",
          "family": "Arial",
          "size": 12
         },
         "title": {
          "font": {
           "color": "#ffffff",
           "family": "Arial Black",
           "size": 14
          },
          "text": ""
         }
        },
        "yaxis": {
         "gridcolor": "rgba(255, 255, 255, 0.2)",
         "gridwidth": 0.5,
         "linecolor": "rgba(255, 255, 255, 0.7)",
         "linewidth": 1,
         "showgrid": true,
         "tickfont": {
          "color": "#ffffff",
          "family": "Arial",
          "size": 12
         },
         "tickprefix": "",
         "title": {
          "font": {
           "color": "#ffffff",
           "family": "Arial Black",
           "size": 14
          },
          "text": "% Price Drops"
         },
         "zeroline": false
        },
        "yaxis2": {
         "gridwidth": 0.5,
         "linecolor": "rgba(255, 255, 255, 0.7)",
         "linewidth": 1,
         "overlaying": "y",
         "showgrid": false,
         "side": "right",
         "tickfont": {
          "color": "#ffffff",
          "family": "Arial",
          "size": 12
         },
         "ticksuffix": " units",
         "title": {
          "font": {
           "color": "#ffffff",
           "family": "Arial Black",
           "size": 14
          },
          "text": "Total Supply"
         },
         "zeroline": false
        }
       }
      }
     },
     "metadata": {},
     "output_type": "display_data"
    }
   ],
   "source": [
    "from parcllabs.beta.charting.styling import default_style_config\n",
    "\n",
    "default_style_config['tick_prefix'] = ''\n",
    "\n",
    "create_dual_axis_chart(\n",
    "    title='Tampa City: % of Inventory with Price Drops vs Total Supply',\n",
    "    line_data=data,\n",
    "    bar1_data=data,\n",
    "    line_series='% Price Drops',\n",
    "    bar1_series='Total Supply',\n",
    "    yaxis1_title='% Price Drops',\n",
    "    yaxis2_title='Total Supply',\n",
    "    height=SIZE_CONFIG['x']['height'],\n",
    "    width=SIZE_CONFIG['x']['width'],\n",
    "    style_config=default_style_config,\n",
    "    # save_path='tampa_market_price_drops.png' # to save figure\n",
    ")"
   ]
  },
  {
   "cell_type": "code",
   "execution_count": null,
   "metadata": {},
   "outputs": [],
   "source": []
  }
 ],
 "metadata": {
  "kernelspec": {
   "display_name": "gpt-spec-mjMMhwjp",
   "language": "python",
   "name": "python3"
  },
  "language_info": {
   "codemirror_mode": {
    "name": "ipython",
    "version": 3
   },
   "file_extension": ".py",
   "mimetype": "text/x-python",
   "name": "python",
   "nbconvert_exporter": "python",
   "pygments_lexer": "ipython3",
   "version": "3.11.9"
  }
 },
 "nbformat": 4,
 "nbformat_minor": 2
}
