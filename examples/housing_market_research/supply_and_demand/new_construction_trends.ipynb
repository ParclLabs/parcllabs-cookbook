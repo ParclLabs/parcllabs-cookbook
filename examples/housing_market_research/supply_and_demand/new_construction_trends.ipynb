{
 "cells": [
  {
   "cell_type": "markdown",
   "metadata": {},
   "source": [
    "<center>\n",
    "<h1>Welcome to the Lab 🥼🧪</h1>\n",
    "</center>\n",
    "\n",
    "### How can I analyze supply, demand, and price trends for new construction?\n",
    "\n",
    "In this notebook, we will be creating an analysis on new construction. We will be comparing new construction demand relative to the price of new construction sales for the US housing market. This notebook will work for any location in the US, whether it be a zip code, city, or metro area. To fine tune it for your location, modify the search criteria. \n",
    "\n",
    "#### What will you create in this notebook?\n",
    "\n",
    "<p align=\"center\">\n",
    "  <img src=\"../../../images/new_construction_pricing_and_demand.png\" alt=\"Alt text\">\n",
    "</p>\n",
    "\n",
    "#### Need help getting started?\n",
    "\n",
    "As a reminder, you can get your Parcl Labs API key [here](https://dashboard.parcllabs.com/signup) to follow along.\n",
    "\n",
    "To run this immediately, you can use Google Colab. Remember, you must set your `PARCL_LABS_API_KEY`.\n",
    "\n",
    "Run in collab --> [![Open in Colab](https://colab.research.google.com/assets/colab-badge.svg)](https://colab.research.google.com/github/ParclLabs/parcllabs-cookbook/blob/main/examples/housing_market_research/supply_and_demand/new_construction_trends.ipynb)"
   ]
  },
  {
   "cell_type": "markdown",
   "metadata": {},
   "source": [
    "### 1. Import the Parcl Labs Python Library"
   ]
  },
  {
   "cell_type": "code",
   "execution_count": null,
   "metadata": {},
   "outputs": [],
   "source": [
    "# if needed, install and/or upgrade to the latest verison of the Parcl Labs Python library\n",
    "%pip install --upgrade parcllabs nbformat"
   ]
  },
  {
   "cell_type": "code",
   "execution_count": 2,
   "metadata": {},
   "outputs": [],
   "source": [
    "import os\n",
    "import pandas as pd\n",
    "from parcllabs import ParclLabsClient\n",
    "from parcllabs.beta.charting.styling import SIZE_CONFIG\n",
    "from parcllabs.beta.charting.default_charts import create_dual_axis_chart\n",
    "\n",
    "client = ParclLabsClient(\n",
    "    api_key=os.environ.get('PARCL_LABS_API_KEY', \"<your Parcl Labs API key if not set as environment variable>\"), \n",
    "    limit=12 # set default limit\n",
    ")"
   ]
  },
  {
   "cell_type": "markdown",
   "metadata": {},
   "source": [
    "### 2. Search for Markets"
   ]
  },
  {
   "cell_type": "code",
   "execution_count": 3,
   "metadata": {},
   "outputs": [
    {
     "data": {
      "text/html": [
       "<div>\n",
       "<style scoped>\n",
       "    .dataframe tbody tr th:only-of-type {\n",
       "        vertical-align: middle;\n",
       "    }\n",
       "\n",
       "    .dataframe tbody tr th {\n",
       "        vertical-align: top;\n",
       "    }\n",
       "\n",
       "    .dataframe thead th {\n",
       "        text-align: right;\n",
       "    }\n",
       "</style>\n",
       "<table border=\"1\" class=\"dataframe\">\n",
       "  <thead>\n",
       "    <tr style=\"text-align: right;\">\n",
       "      <th></th>\n",
       "      <th>parcl_id</th>\n",
       "      <th>country</th>\n",
       "      <th>geoid</th>\n",
       "      <th>state_fips_code</th>\n",
       "      <th>name</th>\n",
       "      <th>state_abbreviation</th>\n",
       "      <th>region</th>\n",
       "      <th>location_type</th>\n",
       "      <th>total_population</th>\n",
       "      <th>median_income</th>\n",
       "      <th>parcl_exchange_market</th>\n",
       "      <th>pricefeed_market</th>\n",
       "      <th>case_shiller_10_market</th>\n",
       "      <th>case_shiller_20_market</th>\n",
       "    </tr>\n",
       "  </thead>\n",
       "  <tbody>\n",
       "    <tr>\n",
       "      <th>0</th>\n",
       "      <td>5826765</td>\n",
       "      <td>USA</td>\n",
       "      <td>None</td>\n",
       "      <td>None</td>\n",
       "      <td>United States Of America</td>\n",
       "      <td>None</td>\n",
       "      <td>None</td>\n",
       "      <td>COUNTRY</td>\n",
       "      <td>331097593</td>\n",
       "      <td>75149</td>\n",
       "      <td>1</td>\n",
       "      <td>1</td>\n",
       "      <td>0</td>\n",
       "      <td>0</td>\n",
       "    </tr>\n",
       "  </tbody>\n",
       "</table>\n",
       "</div>"
      ],
      "text/plain": [
       "   parcl_id country geoid state_fips_code                      name  \\\n",
       "0   5826765     USA  None            None  United States Of America   \n",
       "\n",
       "  state_abbreviation region location_type  total_population  median_income  \\\n",
       "0               None   None       COUNTRY         331097593          75149   \n",
       "\n",
       "   parcl_exchange_market  pricefeed_market  case_shiller_10_market  \\\n",
       "0                      1                 1                       0   \n",
       "\n",
       "   case_shiller_20_market  \n",
       "0                       0  "
      ]
     },
     "execution_count": 3,
     "metadata": {},
     "output_type": "execute_result"
    }
   ],
   "source": [
    "# in this case, lets look at US market overall\n",
    "us_market = client.search.markets.retrieve(\n",
    "    query='United States',\n",
    "    sort_by='TOTAL_POPULATION',\n",
    "    sort_order='DESC',\n",
    "    limit=1\n",
    ")\n",
    "\n",
    "us_market.head()"
   ]
  },
  {
   "cell_type": "code",
   "execution_count": 4,
   "metadata": {},
   "outputs": [],
   "source": [
    "us_parcl_id = us_market['parcl_id'].values[0]"
   ]
  },
  {
   "cell_type": "markdown",
   "metadata": {},
   "source": [
    "### 3. Retrieve the Data"
   ]
  },
  {
   "cell_type": "code",
   "execution_count": 5,
   "metadata": {},
   "outputs": [
    {
     "name": "stdout",
     "output_type": "stream",
     "text": [
      "|████████████████████████████████████████| 1/1 [100%] in 0.1s (8.89/s) \n",
      "|████████████████████████████████████████| 1/1 [100%] in 0.1s (9.74/s) \n"
     ]
    }
   ],
   "source": [
    "# lets get new construction demand and supply counts in addition to prices\n",
    "new_construction_housing_event_prices = client.new_construction_metrics.housing_event_prices.retrieve(\n",
    "    parcl_ids=[us_parcl_id],\n",
    "    limit=100, # lets get the full series\n",
    ")\n",
    "\n",
    "new_construction_housing_event_counts = client.new_construction_metrics.housing_event_counts.retrieve(\n",
    "    parcl_ids=[us_parcl_id],\n",
    "    limit=100\n",
    ")"
   ]
  },
  {
   "cell_type": "code",
   "execution_count": 6,
   "metadata": {},
   "outputs": [
    {
     "data": {
      "text/html": [
       "<div>\n",
       "<style scoped>\n",
       "    .dataframe tbody tr th:only-of-type {\n",
       "        vertical-align: middle;\n",
       "    }\n",
       "\n",
       "    .dataframe tbody tr th {\n",
       "        vertical-align: top;\n",
       "    }\n",
       "\n",
       "    .dataframe thead th {\n",
       "        text-align: right;\n",
       "    }\n",
       "</style>\n",
       "<table border=\"1\" class=\"dataframe\">\n",
       "  <thead>\n",
       "    <tr style=\"text-align: right;\">\n",
       "      <th></th>\n",
       "      <th>date</th>\n",
       "      <th>price_median_sales</th>\n",
       "      <th>price_median_new_listings_for_sale</th>\n",
       "      <th>price_median_new_rental_listings</th>\n",
       "      <th>price_per_square_foot_median_sales</th>\n",
       "      <th>price_per_square_foot_median_new_listings_for_sale</th>\n",
       "      <th>price_per_square_foot_median_new_rental_listings</th>\n",
       "      <th>parcl_id</th>\n",
       "      <th>property_type</th>\n",
       "    </tr>\n",
       "  </thead>\n",
       "  <tbody>\n",
       "    <tr>\n",
       "      <th>0</th>\n",
       "      <td>2024-05-01</td>\n",
       "      <td>430000.0</td>\n",
       "      <td>462989.0</td>\n",
       "      <td>2300.0</td>\n",
       "      <td>213.70</td>\n",
       "      <td>221.03</td>\n",
       "      <td>1.42</td>\n",
       "      <td>5826765</td>\n",
       "      <td>ALL_PROPERTIES</td>\n",
       "    </tr>\n",
       "    <tr>\n",
       "      <th>1</th>\n",
       "      <td>2024-04-01</td>\n",
       "      <td>425000.0</td>\n",
       "      <td>464700.0</td>\n",
       "      <td>2295.0</td>\n",
       "      <td>213.35</td>\n",
       "      <td>220.05</td>\n",
       "      <td>1.40</td>\n",
       "      <td>5826765</td>\n",
       "      <td>ALL_PROPERTIES</td>\n",
       "    </tr>\n",
       "    <tr>\n",
       "      <th>2</th>\n",
       "      <td>2024-03-01</td>\n",
       "      <td>428950.0</td>\n",
       "      <td>459995.0</td>\n",
       "      <td>2290.0</td>\n",
       "      <td>211.52</td>\n",
       "      <td>219.82</td>\n",
       "      <td>1.41</td>\n",
       "      <td>5826765</td>\n",
       "      <td>ALL_PROPERTIES</td>\n",
       "    </tr>\n",
       "    <tr>\n",
       "      <th>3</th>\n",
       "      <td>2024-02-01</td>\n",
       "      <td>426490.0</td>\n",
       "      <td>449160.0</td>\n",
       "      <td>2200.0</td>\n",
       "      <td>209.30</td>\n",
       "      <td>217.53</td>\n",
       "      <td>1.39</td>\n",
       "      <td>5826765</td>\n",
       "      <td>ALL_PROPERTIES</td>\n",
       "    </tr>\n",
       "    <tr>\n",
       "      <th>4</th>\n",
       "      <td>2024-01-01</td>\n",
       "      <td>413911.0</td>\n",
       "      <td>459000.0</td>\n",
       "      <td>2250.0</td>\n",
       "      <td>206.20</td>\n",
       "      <td>216.90</td>\n",
       "      <td>1.40</td>\n",
       "      <td>5826765</td>\n",
       "      <td>ALL_PROPERTIES</td>\n",
       "    </tr>\n",
       "  </tbody>\n",
       "</table>\n",
       "</div>"
      ],
      "text/plain": [
       "        date  price_median_sales  price_median_new_listings_for_sale  \\\n",
       "0 2024-05-01            430000.0                            462989.0   \n",
       "1 2024-04-01            425000.0                            464700.0   \n",
       "2 2024-03-01            428950.0                            459995.0   \n",
       "3 2024-02-01            426490.0                            449160.0   \n",
       "4 2024-01-01            413911.0                            459000.0   \n",
       "\n",
       "   price_median_new_rental_listings  price_per_square_foot_median_sales  \\\n",
       "0                            2300.0                              213.70   \n",
       "1                            2295.0                              213.35   \n",
       "2                            2290.0                              211.52   \n",
       "3                            2200.0                              209.30   \n",
       "4                            2250.0                              206.20   \n",
       "\n",
       "   price_per_square_foot_median_new_listings_for_sale  \\\n",
       "0                                             221.03    \n",
       "1                                             220.05    \n",
       "2                                             219.82    \n",
       "3                                             217.53    \n",
       "4                                             216.90    \n",
       "\n",
       "   price_per_square_foot_median_new_rental_listings parcl_id   property_type  \n",
       "0                                              1.42  5826765  ALL_PROPERTIES  \n",
       "1                                              1.40  5826765  ALL_PROPERTIES  \n",
       "2                                              1.41  5826765  ALL_PROPERTIES  \n",
       "3                                              1.39  5826765  ALL_PROPERTIES  \n",
       "4                                              1.40  5826765  ALL_PROPERTIES  "
      ]
     },
     "execution_count": 6,
     "metadata": {},
     "output_type": "execute_result"
    }
   ],
   "source": [
    "new_construction_housing_event_prices.head()"
   ]
  },
  {
   "cell_type": "code",
   "execution_count": 7,
   "metadata": {},
   "outputs": [
    {
     "data": {
      "text/html": [
       "<div>\n",
       "<style scoped>\n",
       "    .dataframe tbody tr th:only-of-type {\n",
       "        vertical-align: middle;\n",
       "    }\n",
       "\n",
       "    .dataframe tbody tr th {\n",
       "        vertical-align: top;\n",
       "    }\n",
       "\n",
       "    .dataframe thead th {\n",
       "        text-align: right;\n",
       "    }\n",
       "</style>\n",
       "<table border=\"1\" class=\"dataframe\">\n",
       "  <thead>\n",
       "    <tr style=\"text-align: right;\">\n",
       "      <th></th>\n",
       "      <th>date</th>\n",
       "      <th>sales</th>\n",
       "      <th>new_listings_for_sale</th>\n",
       "      <th>new_rental_listings</th>\n",
       "      <th>parcl_id</th>\n",
       "      <th>property_type</th>\n",
       "    </tr>\n",
       "  </thead>\n",
       "  <tbody>\n",
       "    <tr>\n",
       "      <th>0</th>\n",
       "      <td>2024-05-01</td>\n",
       "      <td>30685</td>\n",
       "      <td>39000.0</td>\n",
       "      <td>38257.0</td>\n",
       "      <td>5826765</td>\n",
       "      <td>ALL_PROPERTIES</td>\n",
       "    </tr>\n",
       "    <tr>\n",
       "      <th>1</th>\n",
       "      <td>2024-04-01</td>\n",
       "      <td>33180</td>\n",
       "      <td>36892.0</td>\n",
       "      <td>36475.0</td>\n",
       "      <td>5826765</td>\n",
       "      <td>ALL_PROPERTIES</td>\n",
       "    </tr>\n",
       "    <tr>\n",
       "      <th>2</th>\n",
       "      <td>2024-03-01</td>\n",
       "      <td>33275</td>\n",
       "      <td>35527.0</td>\n",
       "      <td>33806.0</td>\n",
       "      <td>5826765</td>\n",
       "      <td>ALL_PROPERTIES</td>\n",
       "    </tr>\n",
       "    <tr>\n",
       "      <th>3</th>\n",
       "      <td>2024-02-01</td>\n",
       "      <td>29958</td>\n",
       "      <td>34417.0</td>\n",
       "      <td>32334.0</td>\n",
       "      <td>5826765</td>\n",
       "      <td>ALL_PROPERTIES</td>\n",
       "    </tr>\n",
       "    <tr>\n",
       "      <th>4</th>\n",
       "      <td>2024-01-01</td>\n",
       "      <td>28885</td>\n",
       "      <td>34064.0</td>\n",
       "      <td>39281.0</td>\n",
       "      <td>5826765</td>\n",
       "      <td>ALL_PROPERTIES</td>\n",
       "    </tr>\n",
       "  </tbody>\n",
       "</table>\n",
       "</div>"
      ],
      "text/plain": [
       "        date  sales  new_listings_for_sale  new_rental_listings parcl_id  \\\n",
       "0 2024-05-01  30685                39000.0              38257.0  5826765   \n",
       "1 2024-04-01  33180                36892.0              36475.0  5826765   \n",
       "2 2024-03-01  33275                35527.0              33806.0  5826765   \n",
       "3 2024-02-01  29958                34417.0              32334.0  5826765   \n",
       "4 2024-01-01  28885                34064.0              39281.0  5826765   \n",
       "\n",
       "    property_type  \n",
       "0  ALL_PROPERTIES  \n",
       "1  ALL_PROPERTIES  \n",
       "2  ALL_PROPERTIES  \n",
       "3  ALL_PROPERTIES  \n",
       "4  ALL_PROPERTIES  "
      ]
     },
     "execution_count": 7,
     "metadata": {},
     "output_type": "execute_result"
    }
   ],
   "source": [
    "new_construction_housing_event_counts.head()"
   ]
  },
  {
   "cell_type": "markdown",
   "metadata": {},
   "source": [
    "### 4. Prepare the data for analysis/charting"
   ]
  },
  {
   "cell_type": "code",
   "execution_count": 8,
   "metadata": {},
   "outputs": [
    {
     "data": {
      "text/html": [
       "<div>\n",
       "<style scoped>\n",
       "    .dataframe tbody tr th:only-of-type {\n",
       "        vertical-align: middle;\n",
       "    }\n",
       "\n",
       "    .dataframe tbody tr th {\n",
       "        vertical-align: top;\n",
       "    }\n",
       "\n",
       "    .dataframe thead th {\n",
       "        text-align: right;\n",
       "    }\n",
       "</style>\n",
       "<table border=\"1\" class=\"dataframe\">\n",
       "  <thead>\n",
       "    <tr style=\"text-align: right;\">\n",
       "      <th></th>\n",
       "      <th>parcl_id</th>\n",
       "      <th>date</th>\n",
       "      <th>price_median_sales</th>\n",
       "      <th>sales</th>\n",
       "      <th>new_listings_for_sale</th>\n",
       "    </tr>\n",
       "  </thead>\n",
       "  <tbody>\n",
       "    <tr>\n",
       "      <th>0</th>\n",
       "      <td>5826765</td>\n",
       "      <td>2024-05-01</td>\n",
       "      <td>430000.0</td>\n",
       "      <td>30685</td>\n",
       "      <td>39000.0</td>\n",
       "    </tr>\n",
       "    <tr>\n",
       "      <th>1</th>\n",
       "      <td>5826765</td>\n",
       "      <td>2024-04-01</td>\n",
       "      <td>425000.0</td>\n",
       "      <td>33180</td>\n",
       "      <td>36892.0</td>\n",
       "    </tr>\n",
       "    <tr>\n",
       "      <th>2</th>\n",
       "      <td>5826765</td>\n",
       "      <td>2024-03-01</td>\n",
       "      <td>428950.0</td>\n",
       "      <td>33275</td>\n",
       "      <td>35527.0</td>\n",
       "    </tr>\n",
       "    <tr>\n",
       "      <th>3</th>\n",
       "      <td>5826765</td>\n",
       "      <td>2024-02-01</td>\n",
       "      <td>426490.0</td>\n",
       "      <td>29958</td>\n",
       "      <td>34417.0</td>\n",
       "    </tr>\n",
       "    <tr>\n",
       "      <th>4</th>\n",
       "      <td>5826765</td>\n",
       "      <td>2024-01-01</td>\n",
       "      <td>413911.0</td>\n",
       "      <td>28885</td>\n",
       "      <td>34064.0</td>\n",
       "    </tr>\n",
       "    <tr>\n",
       "      <th>...</th>\n",
       "      <td>...</td>\n",
       "      <td>...</td>\n",
       "      <td>...</td>\n",
       "      <td>...</td>\n",
       "      <td>...</td>\n",
       "    </tr>\n",
       "    <tr>\n",
       "      <th>60</th>\n",
       "      <td>5826765</td>\n",
       "      <td>2019-05-01</td>\n",
       "      <td>287707.0</td>\n",
       "      <td>115795</td>\n",
       "      <td>NaN</td>\n",
       "    </tr>\n",
       "    <tr>\n",
       "      <th>61</th>\n",
       "      <td>5826765</td>\n",
       "      <td>2019-04-01</td>\n",
       "      <td>284681.0</td>\n",
       "      <td>109841</td>\n",
       "      <td>NaN</td>\n",
       "    </tr>\n",
       "    <tr>\n",
       "      <th>62</th>\n",
       "      <td>5826765</td>\n",
       "      <td>2019-03-01</td>\n",
       "      <td>288000.0</td>\n",
       "      <td>103179</td>\n",
       "      <td>NaN</td>\n",
       "    </tr>\n",
       "    <tr>\n",
       "      <th>63</th>\n",
       "      <td>5826765</td>\n",
       "      <td>2019-02-01</td>\n",
       "      <td>285000.0</td>\n",
       "      <td>83707</td>\n",
       "      <td>NaN</td>\n",
       "    </tr>\n",
       "    <tr>\n",
       "      <th>64</th>\n",
       "      <td>5826765</td>\n",
       "      <td>2019-01-01</td>\n",
       "      <td>287240.0</td>\n",
       "      <td>86498</td>\n",
       "      <td>NaN</td>\n",
       "    </tr>\n",
       "  </tbody>\n",
       "</table>\n",
       "<p>65 rows × 5 columns</p>\n",
       "</div>"
      ],
      "text/plain": [
       "   parcl_id       date  price_median_sales   sales  new_listings_for_sale\n",
       "0   5826765 2024-05-01            430000.0   30685                39000.0\n",
       "1   5826765 2024-04-01            425000.0   33180                36892.0\n",
       "2   5826765 2024-03-01            428950.0   33275                35527.0\n",
       "3   5826765 2024-02-01            426490.0   29958                34417.0\n",
       "4   5826765 2024-01-01            413911.0   28885                34064.0\n",
       "..      ...        ...                 ...     ...                    ...\n",
       "60  5826765 2019-05-01            287707.0  115795                    NaN\n",
       "61  5826765 2019-04-01            284681.0  109841                    NaN\n",
       "62  5826765 2019-03-01            288000.0  103179                    NaN\n",
       "63  5826765 2019-02-01            285000.0   83707                    NaN\n",
       "64  5826765 2019-01-01            287240.0   86498                    NaN\n",
       "\n",
       "[65 rows x 5 columns]"
      ]
     },
     "execution_count": 8,
     "metadata": {},
     "output_type": "execute_result"
    }
   ],
   "source": [
    "# in this notebook, we will focus on median sales price and demand counts\n",
    "# lets merge the two dataframes\n",
    "new_construction = pd.merge(new_construction_housing_event_prices[['parcl_id', 'date', 'price_median_sales']], new_construction_housing_event_counts[['parcl_id', 'date', 'sales', 'new_listings_for_sale']], on=['date', 'parcl_id'], how='inner')\n",
    "new_construction"
   ]
  },
  {
   "cell_type": "markdown",
   "metadata": {},
   "source": [
    "### 5. Chart the Data"
   ]
  },
  {
   "cell_type": "code",
   "execution_count": 9,
   "metadata": {},
   "outputs": [
    {
     "data": {
      "text/html": [
       "<div>\n",
       "<style scoped>\n",
       "    .dataframe tbody tr th:only-of-type {\n",
       "        vertical-align: middle;\n",
       "    }\n",
       "\n",
       "    .dataframe tbody tr th {\n",
       "        vertical-align: top;\n",
       "    }\n",
       "\n",
       "    .dataframe thead th {\n",
       "        text-align: right;\n",
       "    }\n",
       "</style>\n",
       "<table border=\"1\" class=\"dataframe\">\n",
       "  <thead>\n",
       "    <tr style=\"text-align: right;\">\n",
       "      <th></th>\n",
       "      <th>parcl_id</th>\n",
       "      <th>date</th>\n",
       "      <th>price_median_sales</th>\n",
       "      <th>Number of Units Sold</th>\n",
       "      <th>new_listings_for_sale</th>\n",
       "    </tr>\n",
       "  </thead>\n",
       "  <tbody>\n",
       "    <tr>\n",
       "      <th>64</th>\n",
       "      <td>5826765</td>\n",
       "      <td>2019-01-01</td>\n",
       "      <td>287240.0</td>\n",
       "      <td>86498</td>\n",
       "      <td>NaN</td>\n",
       "    </tr>\n",
       "    <tr>\n",
       "      <th>63</th>\n",
       "      <td>5826765</td>\n",
       "      <td>2019-02-01</td>\n",
       "      <td>285000.0</td>\n",
       "      <td>83707</td>\n",
       "      <td>NaN</td>\n",
       "    </tr>\n",
       "    <tr>\n",
       "      <th>62</th>\n",
       "      <td>5826765</td>\n",
       "      <td>2019-03-01</td>\n",
       "      <td>288000.0</td>\n",
       "      <td>103179</td>\n",
       "      <td>NaN</td>\n",
       "    </tr>\n",
       "    <tr>\n",
       "      <th>61</th>\n",
       "      <td>5826765</td>\n",
       "      <td>2019-04-01</td>\n",
       "      <td>284681.0</td>\n",
       "      <td>109841</td>\n",
       "      <td>NaN</td>\n",
       "    </tr>\n",
       "    <tr>\n",
       "      <th>60</th>\n",
       "      <td>5826765</td>\n",
       "      <td>2019-05-01</td>\n",
       "      <td>287707.0</td>\n",
       "      <td>115795</td>\n",
       "      <td>NaN</td>\n",
       "    </tr>\n",
       "  </tbody>\n",
       "</table>\n",
       "</div>"
      ],
      "text/plain": [
       "   parcl_id       date  price_median_sales  Number of Units Sold  \\\n",
       "64  5826765 2019-01-01            287240.0                 86498   \n",
       "63  5826765 2019-02-01            285000.0                 83707   \n",
       "62  5826765 2019-03-01            288000.0                103179   \n",
       "61  5826765 2019-04-01            284681.0                109841   \n",
       "60  5826765 2019-05-01            287707.0                115795   \n",
       "\n",
       "    new_listings_for_sale  \n",
       "64                    NaN  \n",
       "63                    NaN  \n",
       "62                    NaN  \n",
       "61                    NaN  \n",
       "60                    NaN  "
      ]
     },
     "execution_count": 9,
     "metadata": {},
     "output_type": "execute_result"
    }
   ],
   "source": [
    "new_construction = new_construction.sort_values('date')\n",
    "# rename sales to Number of Units Sold for readability\n",
    "new_construction = new_construction.rename(columns={'sales': 'Number of Units Sold'})\n",
    "new_construction.head()"
   ]
  },
  {
   "cell_type": "code",
   "execution_count": 10,
   "metadata": {},
   "outputs": [
    {
     "data": {
      "application/vnd.plotly.v1+json": {
       "config": {
        "plotlyServerURL": "https://plot.ly"
       },
       "data": [
        {
         "line": {
          "color": "#2ca02c",
          "width": 3
         },
         "marker": {
          "color": "#2ca02c",
          "line": {
           "color": "#ffffff",
           "width": 1
          },
          "size": 8
         },
         "mode": "lines+markers",
         "name": "Median Sales Price",
         "type": "scatter",
         "x": [
          "2019-01-01T00:00:00",
          "2019-02-01T00:00:00",
          "2019-03-01T00:00:00",
          "2019-04-01T00:00:00",
          "2019-05-01T00:00:00",
          "2019-06-01T00:00:00",
          "2019-07-01T00:00:00",
          "2019-08-01T00:00:00",
          "2019-09-01T00:00:00",
          "2019-10-01T00:00:00",
          "2019-11-01T00:00:00",
          "2019-12-01T00:00:00",
          "2020-01-01T00:00:00",
          "2020-02-01T00:00:00",
          "2020-03-01T00:00:00",
          "2020-04-01T00:00:00",
          "2020-05-01T00:00:00",
          "2020-06-01T00:00:00",
          "2020-07-01T00:00:00",
          "2020-08-01T00:00:00",
          "2020-09-01T00:00:00",
          "2020-10-01T00:00:00",
          "2020-11-01T00:00:00",
          "2020-12-01T00:00:00",
          "2021-01-01T00:00:00",
          "2021-02-01T00:00:00",
          "2021-03-01T00:00:00",
          "2021-04-01T00:00:00",
          "2021-05-01T00:00:00",
          "2021-06-01T00:00:00",
          "2021-07-01T00:00:00",
          "2021-08-01T00:00:00",
          "2021-09-01T00:00:00",
          "2021-10-01T00:00:00",
          "2021-11-01T00:00:00",
          "2021-12-01T00:00:00",
          "2022-01-01T00:00:00",
          "2022-02-01T00:00:00",
          "2022-03-01T00:00:00",
          "2022-04-01T00:00:00",
          "2022-05-01T00:00:00",
          "2022-06-01T00:00:00",
          "2022-07-01T00:00:00",
          "2022-08-01T00:00:00",
          "2022-09-01T00:00:00",
          "2022-10-01T00:00:00",
          "2022-11-01T00:00:00",
          "2022-12-01T00:00:00",
          "2023-01-01T00:00:00",
          "2023-02-01T00:00:00",
          "2023-03-01T00:00:00",
          "2023-04-01T00:00:00",
          "2023-05-01T00:00:00",
          "2023-06-01T00:00:00",
          "2023-07-01T00:00:00",
          "2023-08-01T00:00:00",
          "2023-09-01T00:00:00",
          "2023-10-01T00:00:00",
          "2023-11-01T00:00:00",
          "2023-12-01T00:00:00",
          "2024-01-01T00:00:00",
          "2024-02-01T00:00:00",
          "2024-03-01T00:00:00",
          "2024-04-01T00:00:00",
          "2024-05-01T00:00:00"
         ],
         "y": [
          287240,
          285000,
          288000,
          284681,
          287707,
          290000,
          293000,
          297660,
          300000,
          304990,
          314000,
          320512,
          305875,
          309286,
          308500,
          305000,
          306000,
          306971,
          313500,
          315843,
          319295,
          323504,
          329000,
          332668,
          322400,
          332614,
          336883,
          341500,
          348632,
          358052,
          362764,
          370000,
          378000,
          385105,
          393990,
          402000,
          399990,
          409990,
          419000,
          421000,
          430000,
          434690,
          432000,
          433000,
          431899,
          436614,
          435000,
          437395,
          424050,
          425000,
          425000,
          425000,
          422262,
          421951,
          415700,
          416075,
          414645,
          411346,
          416000,
          420000,
          413911,
          426490,
          428950,
          425000,
          430000
         ]
        },
        {
         "marker": {
          "color": "#1f77b4",
          "opacity": 0.8
         },
         "name": "Number of Units Sold",
         "type": "bar",
         "x": [
          "2019-01-01T00:00:00",
          "2019-02-01T00:00:00",
          "2019-03-01T00:00:00",
          "2019-04-01T00:00:00",
          "2019-05-01T00:00:00",
          "2019-06-01T00:00:00",
          "2019-07-01T00:00:00",
          "2019-08-01T00:00:00",
          "2019-09-01T00:00:00",
          "2019-10-01T00:00:00",
          "2019-11-01T00:00:00",
          "2019-12-01T00:00:00",
          "2020-01-01T00:00:00",
          "2020-02-01T00:00:00",
          "2020-03-01T00:00:00",
          "2020-04-01T00:00:00",
          "2020-05-01T00:00:00",
          "2020-06-01T00:00:00",
          "2020-07-01T00:00:00",
          "2020-08-01T00:00:00",
          "2020-09-01T00:00:00",
          "2020-10-01T00:00:00",
          "2020-11-01T00:00:00",
          "2020-12-01T00:00:00",
          "2021-01-01T00:00:00",
          "2021-02-01T00:00:00",
          "2021-03-01T00:00:00",
          "2021-04-01T00:00:00",
          "2021-05-01T00:00:00",
          "2021-06-01T00:00:00",
          "2021-07-01T00:00:00",
          "2021-08-01T00:00:00",
          "2021-09-01T00:00:00",
          "2021-10-01T00:00:00",
          "2021-11-01T00:00:00",
          "2021-12-01T00:00:00",
          "2022-01-01T00:00:00",
          "2022-02-01T00:00:00",
          "2022-03-01T00:00:00",
          "2022-04-01T00:00:00",
          "2022-05-01T00:00:00",
          "2022-06-01T00:00:00",
          "2022-07-01T00:00:00",
          "2022-08-01T00:00:00",
          "2022-09-01T00:00:00",
          "2022-10-01T00:00:00",
          "2022-11-01T00:00:00",
          "2022-12-01T00:00:00",
          "2023-01-01T00:00:00",
          "2023-02-01T00:00:00",
          "2023-03-01T00:00:00",
          "2023-04-01T00:00:00",
          "2023-05-01T00:00:00",
          "2023-06-01T00:00:00",
          "2023-07-01T00:00:00",
          "2023-08-01T00:00:00",
          "2023-09-01T00:00:00",
          "2023-10-01T00:00:00",
          "2023-11-01T00:00:00",
          "2023-12-01T00:00:00",
          "2024-01-01T00:00:00",
          "2024-02-01T00:00:00",
          "2024-03-01T00:00:00",
          "2024-04-01T00:00:00",
          "2024-05-01T00:00:00"
         ],
         "y": [
          86498,
          83707,
          103179,
          109841,
          115795,
          110316,
          116903,
          118209,
          111010,
          122301,
          106070,
          122988,
          94084,
          92276,
          107642,
          89816,
          90352,
          118390,
          127148,
          122570,
          123677,
          124773,
          112639,
          132792,
          91404,
          86608,
          115709,
          106354,
          99279,
          104287,
          91101,
          92900,
          90531,
          87223,
          86372,
          95960,
          65324,
          63033,
          79891,
          68289,
          68540,
          70690,
          58381,
          64842,
          60195,
          56192,
          51304,
          55450,
          38067,
          40166,
          54566,
          46184,
          51706,
          50576,
          41319,
          44001,
          38084,
          36808,
          36054,
          36928,
          28885,
          29958,
          33275,
          33180,
          30685
         ],
         "yaxis": "y2"
        }
       ],
       "layout": {
        "barmode": "stack",
        "font": {
         "color": "#ffffff"
        },
        "height": 675,
        "hoverlabel": {
         "bgcolor": "#2f2f2f",
         "font": {
          "color": "#ffffff",
          "family": "Arial",
          "size": 12
         }
        },
        "hovermode": "x unified",
        "images": [
         {
          "sizex": 0.15,
          "sizey": 0.15,
          "source": "https://parcllabs-assets.s3.amazonaws.com/powered-by-parcllabs-api-logo-white+(1).svg",
          "x": 1,
          "xanchor": "right",
          "xref": "paper",
          "y": 0,
          "yanchor": "bottom",
          "yref": "paper"
         }
        ],
        "legend": {
         "bgcolor": "rgba(0, 0, 0, 0)",
         "font": {
          "color": "#ffffff",
          "family": "Arial",
          "size": 12
         },
         "x": 0.01,
         "xanchor": "left",
         "y": 0.98,
         "yanchor": "top"
        },
        "margin": {
         "b": 40,
         "l": 40,
         "r": 40,
         "t": 80
        },
        "paper_bgcolor": "#1e1e1e",
        "plot_bgcolor": "#1e1e1e",
        "template": {
         "data": {
          "bar": [
           {
            "error_x": {
             "color": "#2a3f5f"
            },
            "error_y": {
             "color": "#2a3f5f"
            },
            "marker": {
             "line": {
              "color": "#E5ECF6",
              "width": 0.5
             },
             "pattern": {
              "fillmode": "overlay",
              "size": 10,
              "solidity": 0.2
             }
            },
            "type": "bar"
           }
          ],
          "barpolar": [
           {
            "marker": {
             "line": {
              "color": "#E5ECF6",
              "width": 0.5
             },
             "pattern": {
              "fillmode": "overlay",
              "size": 10,
              "solidity": 0.2
             }
            },
            "type": "barpolar"
           }
          ],
          "carpet": [
           {
            "aaxis": {
             "endlinecolor": "#2a3f5f",
             "gridcolor": "white",
             "linecolor": "white",
             "minorgridcolor": "white",
             "startlinecolor": "#2a3f5f"
            },
            "baxis": {
             "endlinecolor": "#2a3f5f",
             "gridcolor": "white",
             "linecolor": "white",
             "minorgridcolor": "white",
             "startlinecolor": "#2a3f5f"
            },
            "type": "carpet"
           }
          ],
          "choropleth": [
           {
            "colorbar": {
             "outlinewidth": 0,
             "ticks": ""
            },
            "type": "choropleth"
           }
          ],
          "contour": [
           {
            "colorbar": {
             "outlinewidth": 0,
             "ticks": ""
            },
            "colorscale": [
             [
              0,
              "#0d0887"
             ],
             [
              0.1111111111111111,
              "#46039f"
             ],
             [
              0.2222222222222222,
              "#7201a8"
             ],
             [
              0.3333333333333333,
              "#9c179e"
             ],
             [
              0.4444444444444444,
              "#bd3786"
             ],
             [
              0.5555555555555556,
              "#d8576b"
             ],
             [
              0.6666666666666666,
              "#ed7953"
             ],
             [
              0.7777777777777778,
              "#fb9f3a"
             ],
             [
              0.8888888888888888,
              "#fdca26"
             ],
             [
              1,
              "#f0f921"
             ]
            ],
            "type": "contour"
           }
          ],
          "contourcarpet": [
           {
            "colorbar": {
             "outlinewidth": 0,
             "ticks": ""
            },
            "type": "contourcarpet"
           }
          ],
          "heatmap": [
           {
            "colorbar": {
             "outlinewidth": 0,
             "ticks": ""
            },
            "colorscale": [
             [
              0,
              "#0d0887"
             ],
             [
              0.1111111111111111,
              "#46039f"
             ],
             [
              0.2222222222222222,
              "#7201a8"
             ],
             [
              0.3333333333333333,
              "#9c179e"
             ],
             [
              0.4444444444444444,
              "#bd3786"
             ],
             [
              0.5555555555555556,
              "#d8576b"
             ],
             [
              0.6666666666666666,
              "#ed7953"
             ],
             [
              0.7777777777777778,
              "#fb9f3a"
             ],
             [
              0.8888888888888888,
              "#fdca26"
             ],
             [
              1,
              "#f0f921"
             ]
            ],
            "type": "heatmap"
           }
          ],
          "heatmapgl": [
           {
            "colorbar": {
             "outlinewidth": 0,
             "ticks": ""
            },
            "colorscale": [
             [
              0,
              "#0d0887"
             ],
             [
              0.1111111111111111,
              "#46039f"
             ],
             [
              0.2222222222222222,
              "#7201a8"
             ],
             [
              0.3333333333333333,
              "#9c179e"
             ],
             [
              0.4444444444444444,
              "#bd3786"
             ],
             [
              0.5555555555555556,
              "#d8576b"
             ],
             [
              0.6666666666666666,
              "#ed7953"
             ],
             [
              0.7777777777777778,
              "#fb9f3a"
             ],
             [
              0.8888888888888888,
              "#fdca26"
             ],
             [
              1,
              "#f0f921"
             ]
            ],
            "type": "heatmapgl"
           }
          ],
          "histogram": [
           {
            "marker": {
             "pattern": {
              "fillmode": "overlay",
              "size": 10,
              "solidity": 0.2
             }
            },
            "type": "histogram"
           }
          ],
          "histogram2d": [
           {
            "colorbar": {
             "outlinewidth": 0,
             "ticks": ""
            },
            "colorscale": [
             [
              0,
              "#0d0887"
             ],
             [
              0.1111111111111111,
              "#46039f"
             ],
             [
              0.2222222222222222,
              "#7201a8"
             ],
             [
              0.3333333333333333,
              "#9c179e"
             ],
             [
              0.4444444444444444,
              "#bd3786"
             ],
             [
              0.5555555555555556,
              "#d8576b"
             ],
             [
              0.6666666666666666,
              "#ed7953"
             ],
             [
              0.7777777777777778,
              "#fb9f3a"
             ],
             [
              0.8888888888888888,
              "#fdca26"
             ],
             [
              1,
              "#f0f921"
             ]
            ],
            "type": "histogram2d"
           }
          ],
          "histogram2dcontour": [
           {
            "colorbar": {
             "outlinewidth": 0,
             "ticks": ""
            },
            "colorscale": [
             [
              0,
              "#0d0887"
             ],
             [
              0.1111111111111111,
              "#46039f"
             ],
             [
              0.2222222222222222,
              "#7201a8"
             ],
             [
              0.3333333333333333,
              "#9c179e"
             ],
             [
              0.4444444444444444,
              "#bd3786"
             ],
             [
              0.5555555555555556,
              "#d8576b"
             ],
             [
              0.6666666666666666,
              "#ed7953"
             ],
             [
              0.7777777777777778,
              "#fb9f3a"
             ],
             [
              0.8888888888888888,
              "#fdca26"
             ],
             [
              1,
              "#f0f921"
             ]
            ],
            "type": "histogram2dcontour"
           }
          ],
          "mesh3d": [
           {
            "colorbar": {
             "outlinewidth": 0,
             "ticks": ""
            },
            "type": "mesh3d"
           }
          ],
          "parcoords": [
           {
            "line": {
             "colorbar": {
              "outlinewidth": 0,
              "ticks": ""
             }
            },
            "type": "parcoords"
           }
          ],
          "pie": [
           {
            "automargin": true,
            "type": "pie"
           }
          ],
          "scatter": [
           {
            "fillpattern": {
             "fillmode": "overlay",
             "size": 10,
             "solidity": 0.2
            },
            "type": "scatter"
           }
          ],
          "scatter3d": [
           {
            "line": {
             "colorbar": {
              "outlinewidth": 0,
              "ticks": ""
             }
            },
            "marker": {
             "colorbar": {
              "outlinewidth": 0,
              "ticks": ""
             }
            },
            "type": "scatter3d"
           }
          ],
          "scattercarpet": [
           {
            "marker": {
             "colorbar": {
              "outlinewidth": 0,
              "ticks": ""
             }
            },
            "type": "scattercarpet"
           }
          ],
          "scattergeo": [
           {
            "marker": {
             "colorbar": {
              "outlinewidth": 0,
              "ticks": ""
             }
            },
            "type": "scattergeo"
           }
          ],
          "scattergl": [
           {
            "marker": {
             "colorbar": {
              "outlinewidth": 0,
              "ticks": ""
             }
            },
            "type": "scattergl"
           }
          ],
          "scattermapbox": [
           {
            "marker": {
             "colorbar": {
              "outlinewidth": 0,
              "ticks": ""
             }
            },
            "type": "scattermapbox"
           }
          ],
          "scatterpolar": [
           {
            "marker": {
             "colorbar": {
              "outlinewidth": 0,
              "ticks": ""
             }
            },
            "type": "scatterpolar"
           }
          ],
          "scatterpolargl": [
           {
            "marker": {
             "colorbar": {
              "outlinewidth": 0,
              "ticks": ""
             }
            },
            "type": "scatterpolargl"
           }
          ],
          "scatterternary": [
           {
            "marker": {
             "colorbar": {
              "outlinewidth": 0,
              "ticks": ""
             }
            },
            "type": "scatterternary"
           }
          ],
          "surface": [
           {
            "colorbar": {
             "outlinewidth": 0,
             "ticks": ""
            },
            "colorscale": [
             [
              0,
              "#0d0887"
             ],
             [
              0.1111111111111111,
              "#46039f"
             ],
             [
              0.2222222222222222,
              "#7201a8"
             ],
             [
              0.3333333333333333,
              "#9c179e"
             ],
             [
              0.4444444444444444,
              "#bd3786"
             ],
             [
              0.5555555555555556,
              "#d8576b"
             ],
             [
              0.6666666666666666,
              "#ed7953"
             ],
             [
              0.7777777777777778,
              "#fb9f3a"
             ],
             [
              0.8888888888888888,
              "#fdca26"
             ],
             [
              1,
              "#f0f921"
             ]
            ],
            "type": "surface"
           }
          ],
          "table": [
           {
            "cells": {
             "fill": {
              "color": "#EBF0F8"
             },
             "line": {
              "color": "white"
             }
            },
            "header": {
             "fill": {
              "color": "#C8D4E3"
             },
             "line": {
              "color": "white"
             }
            },
            "type": "table"
           }
          ]
         },
         "layout": {
          "annotationdefaults": {
           "arrowcolor": "#2a3f5f",
           "arrowhead": 0,
           "arrowwidth": 1
          },
          "autotypenumbers": "strict",
          "coloraxis": {
           "colorbar": {
            "outlinewidth": 0,
            "ticks": ""
           }
          },
          "colorscale": {
           "diverging": [
            [
             0,
             "#8e0152"
            ],
            [
             0.1,
             "#c51b7d"
            ],
            [
             0.2,
             "#de77ae"
            ],
            [
             0.3,
             "#f1b6da"
            ],
            [
             0.4,
             "#fde0ef"
            ],
            [
             0.5,
             "#f7f7f7"
            ],
            [
             0.6,
             "#e6f5d0"
            ],
            [
             0.7,
             "#b8e186"
            ],
            [
             0.8,
             "#7fbc41"
            ],
            [
             0.9,
             "#4d9221"
            ],
            [
             1,
             "#276419"
            ]
           ],
           "sequential": [
            [
             0,
             "#0d0887"
            ],
            [
             0.1111111111111111,
             "#46039f"
            ],
            [
             0.2222222222222222,
             "#7201a8"
            ],
            [
             0.3333333333333333,
             "#9c179e"
            ],
            [
             0.4444444444444444,
             "#bd3786"
            ],
            [
             0.5555555555555556,
             "#d8576b"
            ],
            [
             0.6666666666666666,
             "#ed7953"
            ],
            [
             0.7777777777777778,
             "#fb9f3a"
            ],
            [
             0.8888888888888888,
             "#fdca26"
            ],
            [
             1,
             "#f0f921"
            ]
           ],
           "sequentialminus": [
            [
             0,
             "#0d0887"
            ],
            [
             0.1111111111111111,
             "#46039f"
            ],
            [
             0.2222222222222222,
             "#7201a8"
            ],
            [
             0.3333333333333333,
             "#9c179e"
            ],
            [
             0.4444444444444444,
             "#bd3786"
            ],
            [
             0.5555555555555556,
             "#d8576b"
            ],
            [
             0.6666666666666666,
             "#ed7953"
            ],
            [
             0.7777777777777778,
             "#fb9f3a"
            ],
            [
             0.8888888888888888,
             "#fdca26"
            ],
            [
             1,
             "#f0f921"
            ]
           ]
          },
          "colorway": [
           "#636efa",
           "#EF553B",
           "#00cc96",
           "#ab63fa",
           "#FFA15A",
           "#19d3f3",
           "#FF6692",
           "#B6E880",
           "#FF97FF",
           "#FECB52"
          ],
          "font": {
           "color": "#2a3f5f"
          },
          "geo": {
           "bgcolor": "white",
           "lakecolor": "white",
           "landcolor": "#E5ECF6",
           "showlakes": true,
           "showland": true,
           "subunitcolor": "white"
          },
          "hoverlabel": {
           "align": "left"
          },
          "hovermode": "closest",
          "mapbox": {
           "style": "light"
          },
          "paper_bgcolor": "white",
          "plot_bgcolor": "#E5ECF6",
          "polar": {
           "angularaxis": {
            "gridcolor": "white",
            "linecolor": "white",
            "ticks": ""
           },
           "bgcolor": "#E5ECF6",
           "radialaxis": {
            "gridcolor": "white",
            "linecolor": "white",
            "ticks": ""
           }
          },
          "scene": {
           "xaxis": {
            "backgroundcolor": "#E5ECF6",
            "gridcolor": "white",
            "gridwidth": 2,
            "linecolor": "white",
            "showbackground": true,
            "ticks": "",
            "zerolinecolor": "white"
           },
           "yaxis": {
            "backgroundcolor": "#E5ECF6",
            "gridcolor": "white",
            "gridwidth": 2,
            "linecolor": "white",
            "showbackground": true,
            "ticks": "",
            "zerolinecolor": "white"
           },
           "zaxis": {
            "backgroundcolor": "#E5ECF6",
            "gridcolor": "white",
            "gridwidth": 2,
            "linecolor": "white",
            "showbackground": true,
            "ticks": "",
            "zerolinecolor": "white"
           }
          },
          "shapedefaults": {
           "line": {
            "color": "#2a3f5f"
           }
          },
          "ternary": {
           "aaxis": {
            "gridcolor": "white",
            "linecolor": "white",
            "ticks": ""
           },
           "baxis": {
            "gridcolor": "white",
            "linecolor": "white",
            "ticks": ""
           },
           "bgcolor": "#E5ECF6",
           "caxis": {
            "gridcolor": "white",
            "linecolor": "white",
            "ticks": ""
           }
          },
          "title": {
           "x": 0.05
          },
          "xaxis": {
           "automargin": true,
           "gridcolor": "white",
           "linecolor": "white",
           "ticks": "",
           "title": {
            "standoff": 15
           },
           "zerolinecolor": "white",
           "zerolinewidth": 2
          },
          "yaxis": {
           "automargin": true,
           "gridcolor": "white",
           "linecolor": "white",
           "ticks": "",
           "title": {
            "standoff": 15
           },
           "zerolinecolor": "white",
           "zerolinewidth": 2
          }
         }
        },
        "title": {
         "font": {
          "color": "#ffffff",
          "family": "Arial Black",
          "size": 24
         },
         "text": "US New Construction Median Sales Price vs. Number of Units Sold",
         "x": 0.5,
         "xanchor": "center",
         "y": 0.95,
         "yanchor": "top"
        },
        "width": 1200,
        "xaxis": {
         "gridcolor": "rgba(255, 255, 255, 0.2)",
         "gridwidth": 0.5,
         "linecolor": "rgba(255, 255, 255, 0.7)",
         "linewidth": 1,
         "showgrid": true,
         "tickangle": -45,
         "tickfont": {
          "color": "#ffffff",
          "family": "Arial",
          "size": 12
         },
         "title": {
          "font": {
           "color": "#ffffff",
           "family": "Arial Black",
           "size": 14
          },
          "text": ""
         }
        },
        "yaxis": {
         "gridcolor": "rgba(255, 255, 255, 0.2)",
         "gridwidth": 0.5,
         "linecolor": "rgba(255, 255, 255, 0.7)",
         "linewidth": 1,
         "showgrid": true,
         "tickfont": {
          "color": "#ffffff",
          "family": "Arial",
          "size": 12
         },
         "tickprefix": "$",
         "title": {
          "font": {
           "color": "#ffffff",
           "family": "Arial Black",
           "size": 14
          },
          "text": "Median Sales Price"
         },
         "zeroline": false
        },
        "yaxis2": {
         "gridwidth": 0.5,
         "linecolor": "rgba(255, 255, 255, 0.7)",
         "linewidth": 1,
         "overlaying": "y",
         "showgrid": false,
         "side": "right",
         "tickfont": {
          "color": "#ffffff",
          "family": "Arial",
          "size": 12
         },
         "ticksuffix": " units",
         "title": {
          "font": {
           "color": "#ffffff",
           "family": "Arial Black",
           "size": 14
          },
          "text": "Number of Units Sold"
         },
         "zeroline": false
        }
       }
      }
     },
     "metadata": {},
     "output_type": "display_data"
    }
   ],
   "source": [
    "create_dual_axis_chart(\n",
    "    title='US New Construction Median Sales Price vs. Number of Units Sold',\n",
    "    line_data=new_construction,\n",
    "    bar1_data=new_construction,\n",
    "    bar2_data=new_construction,\n",
    "    line_series='price_median_sales',\n",
    "    bar1_series='Number of Units Sold',\n",
    "    yaxis1_title='Median Sales Price',\n",
    "    yaxis2_title='Number of Units Sold',\n",
    "    height=SIZE_CONFIG['x']['height'],\n",
    "    width=SIZE_CONFIG['x']['width']\n",
    ")"
   ]
  },
  {
   "cell_type": "code",
   "execution_count": null,
   "metadata": {},
   "outputs": [],
   "source": []
  },
  {
   "cell_type": "code",
   "execution_count": null,
   "metadata": {},
   "outputs": [],
   "source": []
  }
 ],
 "metadata": {
  "kernelspec": {
   "display_name": "gpt-spec-mjMMhwjp",
   "language": "python",
   "name": "python3"
  },
  "language_info": {
   "codemirror_mode": {
    "name": "ipython",
    "version": 3
   },
   "file_extension": ".py",
   "mimetype": "text/x-python",
   "name": "python",
   "nbconvert_exporter": "python",
   "pygments_lexer": "ipython3",
   "version": "3.11.9"
  }
 },
 "nbformat": 4,
 "nbformat_minor": 2
}
