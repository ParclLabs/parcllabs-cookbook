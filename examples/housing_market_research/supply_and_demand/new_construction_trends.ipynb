{
 "cells": [
  {
   "cell_type": "markdown",
   "metadata": {},
   "source": [
    "<center>\n",
    "<h1>Welcome to the Lab 🥼🧪</h1>\n",
    "</center>\n",
    "\n",
    "### How can I analyze supply, demand, and price trends for new construction?\n",
    "\n",
    "In this notebook, we will be creating an analysis on new construction. We will be comparing new construction demand relative to the price of new construction sales for the US housing market. This notebook will work for any location in the US, whether it be a zip code, city, or metro area. To fine tune it for your location, modify the search criteria. \n",
    "\n",
    "#### What will you create in this notebook?\n",
    "\n",
    "<p align=\"center\">\n",
    "  <img src=\"../../../images/new_construction_pricing_and_demand.png\" alt=\"Alt text\">\n",
    "</p>\n",
    "\n",
    "#### Need help getting started?\n",
    "\n",
    "As a reminder, you can get your Parcl Labs API key [here](https://dashboard.parcllabs.com/signup) to follow along.\n",
    "\n",
    "To run this immediately, you can use Google Colab. Remember, you must set your `PARCL_LABS_API_KEY`.\n",
    "\n",
    "Run in collab --> [![Open in Colab](https://colab.research.google.com/assets/colab-badge.svg)](https://colab.research.google.com/github/ParclLabs/parcllabs-cookbook/blob/main/examples/housing_market_research/supply_and_demand/new_construction_trends.ipynb)"
   ]
  },
  {
   "cell_type": "markdown",
   "metadata": {},
   "source": [
    "### 1. Import the Parcl Labs Python Library"
   ]
  },
  {
   "cell_type": "code",
   "execution_count": null,
   "metadata": {},
   "outputs": [],
   "source": [
    "# if needed, install and/or upgrade to the latest verison of the Parcl Labs Python library\n",
    "%pip install --upgrade parcllabs==1.10.0 nbformat"
   ]
  },
  {
   "cell_type": "code",
   "execution_count": 2,
   "metadata": {},
   "outputs": [],
   "source": [
    "import os\n",
    "import pandas as pd\n",
    "from parcllabs import ParclLabsClient\n",
    "from parcllabs.beta.charting.styling import SIZE_CONFIG\n",
    "from parcllabs.beta.charting.default_charts import create_dual_axis_chart\n",
    "\n",
    "client = ParclLabsClient(\n",
    "    api_key=os.environ.get('PARCL_LABS_API_KEY', \"<your Parcl Labs API key if not set as environment variable>\"), \n",
    "    limit=12 # set default limit\n",
    ")"
   ]
  },
  {
   "cell_type": "markdown",
   "metadata": {},
   "source": [
    "### 2. Search for Markets"
   ]
  },
  {
   "cell_type": "code",
   "execution_count": null,
   "metadata": {},
   "outputs": [],
   "source": [
    "# in this case, lets look at US market overall\n",
    "us_market = client.search.markets.retrieve(\n",
    "    query='United States',\n",
    "    sort_by='TOTAL_POPULATION',\n",
    "    sort_order='DESC',\n",
    "    limit=1\n",
    ")\n",
    "\n",
    "us_market.head()"
   ]
  },
  {
   "cell_type": "code",
   "execution_count": 4,
   "metadata": {},
   "outputs": [],
   "source": [
    "us_parcl_id = us_market['parcl_id'].values[0]"
   ]
  },
  {
   "cell_type": "markdown",
   "metadata": {},
   "source": [
    "### 3. Retrieve the Data"
   ]
  },
  {
   "cell_type": "code",
   "execution_count": null,
   "metadata": {},
   "outputs": [],
   "source": [
    "# lets get new construction demand and supply counts in addition to prices\n",
    "new_construction_housing_event_prices = client.new_construction_metrics.housing_event_prices.retrieve(\n",
    "    parcl_ids=[us_parcl_id],\n",
    "    limit=100, # lets get the full series\n",
    ")\n",
    "\n",
    "new_construction_housing_event_counts = client.new_construction_metrics.housing_event_counts.retrieve(\n",
    "    parcl_ids=[us_parcl_id],\n",
    "    limit=100\n",
    ")"
   ]
  },
  {
   "cell_type": "code",
   "execution_count": null,
   "metadata": {},
   "outputs": [],
   "source": [
    "new_construction_housing_event_prices.head()"
   ]
  },
  {
   "cell_type": "code",
   "execution_count": null,
   "metadata": {},
   "outputs": [],
   "source": [
    "new_construction_housing_event_counts.head()"
   ]
  },
  {
   "cell_type": "markdown",
   "metadata": {},
   "source": [
    "### 4. Prepare the data for analysis/charting"
   ]
  },
  {
   "cell_type": "code",
   "execution_count": null,
   "metadata": {},
   "outputs": [],
   "source": [
    "# in this notebook, we will focus on median sales price and demand counts\n",
    "# lets merge the two dataframes\n",
    "new_construction = pd.merge(new_construction_housing_event_prices[['parcl_id', 'date', 'price_median_sales']], new_construction_housing_event_counts[['parcl_id', 'date', 'sales', 'new_listings_for_sale']], on=['date', 'parcl_id'], how='inner')\n",
    "new_construction"
   ]
  },
  {
   "cell_type": "markdown",
   "metadata": {},
   "source": [
    "### 5. Chart the Data"
   ]
  },
  {
   "cell_type": "code",
   "execution_count": null,
   "metadata": {},
   "outputs": [],
   "source": [
    "new_construction = new_construction.sort_values('date')\n",
    "# rename sales to Number of Units Sold for readability\n",
    "new_construction = new_construction.rename(columns={'sales': 'Number of Units Sold'})\n",
    "new_construction.head()"
   ]
  },
  {
   "cell_type": "code",
   "execution_count": null,
   "metadata": {},
   "outputs": [],
   "source": [
    "create_dual_axis_chart(\n",
    "    title='US New Construction Median Sales Price vs. Number of Units Sold',\n",
    "    line_data=new_construction,\n",
    "    bar1_data=new_construction,\n",
    "    bar2_data=new_construction,\n",
    "    line_series='price_median_sales',\n",
    "    bar1_series='Number of Units Sold',\n",
    "    yaxis1_title='Median Sales Price',\n",
    "    yaxis2_title='Number of Units Sold',\n",
    "    height=SIZE_CONFIG['x']['height'],\n",
    "    width=SIZE_CONFIG['x']['width']\n",
    ")"
   ]
  }
 ],
 "metadata": {
  "kernelspec": {
   "display_name": "parcllabs-env",
   "language": "python",
   "name": "python3"
  },
  "language_info": {
   "codemirror_mode": {
    "name": "ipython",
    "version": 3
   },
   "file_extension": ".py",
   "mimetype": "text/x-python",
   "name": "python",
   "nbconvert_exporter": "python",
   "pygments_lexer": "ipython3",
   "version": "3.11.9"
  }
 },
 "nbformat": 4,
 "nbformat_minor": 2
}
