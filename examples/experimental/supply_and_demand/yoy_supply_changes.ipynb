{
 "cells": [
  {
   "cell_type": "markdown",
   "metadata": {},
   "source": [
    "<center>\n",
    "<h1>Welcome to the Lab 🥼🧪</h1>\n",
    "</center>\n",
    "\n",
    "## How can we analyze and compare shifts in demand and supply changes?\n",
    "\n",
    "In this notebook, we will look for inflection points in the housing market in Tampa, Florida. We will analyze the supply and demand changes in the housing market.\n",
    "\n",
    "#### What will you create in this notebook?\n",
    "\n",
    "<p align=\"center\">\n",
    "  <img src=\"../../../images/tampa_yoy_supply_demand.png\" alt=\"Alt text\">\n",
    "</p>\n",
    "\n",
    "#### Need help getting started?\n",
    "\n",
    "As a reminder, you can get your Parcl Labs API key [here](https://dashboard.parcllabs.com/signup) to follow along.\n",
    "\n",
    "To run this immediately, you can use Google Colab. Remember, you must set your `PARCL_LABS_API_KEY`.\n",
    "\n",
    "Run in collab --> [![Open in Colab](https://colab.research.google.com/assets/colab-badge.svg)](https://colab.research.google.com/github/ParclLabs/parcllabs-cookbook/blob/main/examples/experimental/supply_and_demand/yoy_supply_changes.ipynb)"
   ]
  },
  {
   "cell_type": "markdown",
   "metadata": {},
   "source": [
    "### 1. Import the Parcl Labs Python Library"
   ]
  },
  {
   "cell_type": "code",
   "execution_count": null,
   "metadata": {},
   "outputs": [],
   "source": [
    "# if needed, install and/or upgrade to the latest verison of the Parcl Labs Python library\n",
    "%pip install --upgrade parcllabs nbformat"
   ]
  },
  {
   "cell_type": "code",
   "execution_count": 1,
   "metadata": {},
   "outputs": [],
   "source": [
    "import os\n",
    "import pandas as pd\n",
    "from parcllabs import ParclLabsClient\n",
    "from parcllabs.beta.charting.styling import SIZE_CONFIG\n",
    "from parcllabs.beta.charting.default_charts import create_dual_axis_chart\n",
    "\n",
    "client = ParclLabsClient(\n",
    "    api_key=os.environ.get('PARCL_LABS_API_KEY', \"<your Parcl Labs API key if not set as environment variable>\"), \n",
    "    limit=12 # set default limit\n",
    ")"
   ]
  },
  {
   "cell_type": "markdown",
   "metadata": {},
   "source": [
    "### 2. Search for Markets"
   ]
  },
  {
   "cell_type": "code",
   "execution_count": 2,
   "metadata": {},
   "outputs": [
    {
     "data": {
      "text/html": [
       "<div>\n",
       "<style scoped>\n",
       "    .dataframe tbody tr th:only-of-type {\n",
       "        vertical-align: middle;\n",
       "    }\n",
       "\n",
       "    .dataframe tbody tr th {\n",
       "        vertical-align: top;\n",
       "    }\n",
       "\n",
       "    .dataframe thead th {\n",
       "        text-align: right;\n",
       "    }\n",
       "</style>\n",
       "<table border=\"1\" class=\"dataframe\">\n",
       "  <thead>\n",
       "    <tr style=\"text-align: right;\">\n",
       "      <th></th>\n",
       "      <th>parcl_id</th>\n",
       "      <th>country</th>\n",
       "      <th>geoid</th>\n",
       "      <th>state_fips_code</th>\n",
       "      <th>name</th>\n",
       "      <th>state_abbreviation</th>\n",
       "      <th>region</th>\n",
       "      <th>location_type</th>\n",
       "      <th>total_population</th>\n",
       "      <th>median_income</th>\n",
       "      <th>parcl_exchange_market</th>\n",
       "      <th>pricefeed_market</th>\n",
       "      <th>case_shiller_10_market</th>\n",
       "      <th>case_shiller_20_market</th>\n",
       "    </tr>\n",
       "  </thead>\n",
       "  <tbody>\n",
       "    <tr>\n",
       "      <th>0</th>\n",
       "      <td>5352995</td>\n",
       "      <td>USA</td>\n",
       "      <td>1271000</td>\n",
       "      <td>12</td>\n",
       "      <td>Tampa City</td>\n",
       "      <td>FL</td>\n",
       "      <td>SOUTH_ATLANTIC</td>\n",
       "      <td>CITY</td>\n",
       "      <td>388768</td>\n",
       "      <td>66802</td>\n",
       "      <td>0</td>\n",
       "      <td>1</td>\n",
       "      <td>0</td>\n",
       "      <td>0</td>\n",
       "    </tr>\n",
       "  </tbody>\n",
       "</table>\n",
       "</div>"
      ],
      "text/plain": [
       "   parcl_id country    geoid state_fips_code        name state_abbreviation  \\\n",
       "0   5352995     USA  1271000              12  Tampa City                 FL   \n",
       "\n",
       "           region location_type  total_population  median_income  \\\n",
       "0  SOUTH_ATLANTIC          CITY            388768          66802   \n",
       "\n",
       "   parcl_exchange_market  pricefeed_market  case_shiller_10_market  \\\n",
       "0                      0                 1                       0   \n",
       "\n",
       "   case_shiller_20_market  \n",
       "0                       0  "
      ]
     },
     "execution_count": 2,
     "metadata": {},
     "output_type": "execute_result"
    }
   ],
   "source": [
    "# get tampa metro\n",
    "tampa = client.search.markets.retrieve(\n",
    "    query='Tampa',\n",
    "    sort_by='TOTAL_POPULATION',\n",
    "    sort_order='DESC',\n",
    "    location_type='CITY',\n",
    "    limit=1 # get \n",
    ")\n",
    "\n",
    "tampa"
   ]
  },
  {
   "cell_type": "code",
   "execution_count": 3,
   "metadata": {},
   "outputs": [],
   "source": [
    "# us parcl id\n",
    "tampa_parcl_id = tampa['parcl_id'].tolist()"
   ]
  },
  {
   "cell_type": "markdown",
   "metadata": {},
   "source": [
    "### 3. Retrieve the Data"
   ]
  },
  {
   "cell_type": "code",
   "execution_count": 4,
   "metadata": {},
   "outputs": [
    {
     "name": "stdout",
     "output_type": "stream",
     "text": [
      "|████████████████████████████████████████| 1/1 [100%] in 0.2s (5.68/s) \n",
      "|████████████████████████████████████████| 1/1 [100%] in 0.2s (6.35/s) \n"
     ]
    }
   ],
   "source": [
    "# Lets get YoY changes for tampa market -- warning, you need a starter account to do this work. \n",
    "# this will pull back a lot of data and use a lot of credits. We are \n",
    "# capturing weekly supply numbers for 100 metros across the country. \n",
    "\n",
    "start_date='2022-09-01'\n",
    "\n",
    "supply = client.for_sale_market_metrics.for_sale_inventory.retrieve(\n",
    "    parcl_ids=tampa_parcl_id,\n",
    "    start_date=start_date,\n",
    "    limit=200\n",
    ")\n",
    "\n",
    "demand = client.market_metrics.housing_event_counts.retrieve(\n",
    "    parcl_ids=tampa_parcl_id,\n",
    "    start_date=start_date,\n",
    "    limit=200\n",
    ")"
   ]
  },
  {
   "cell_type": "markdown",
   "metadata": {},
   "source": [
    "### 4. Prepare the data for analysis/charting"
   ]
  },
  {
   "cell_type": "code",
   "execution_count": 5,
   "metadata": {},
   "outputs": [],
   "source": [
    "# supply is a weekly series while demand is a monthly series, need to truncate supply to the month\n",
    "# and then compress it to a monthly series. We will take the median value of the month to represent\n",
    "# that month\n",
    "supply['date'] = supply['date'].dt.to_period('M').dt.to_timestamp()\n",
    "supply = supply.groupby(['date', 'parcl_id'])['for_sale_inventory'].median().reset_index()"
   ]
  },
  {
   "cell_type": "code",
   "execution_count": 6,
   "metadata": {},
   "outputs": [
    {
     "data": {
      "text/html": [
       "<div>\n",
       "<style scoped>\n",
       "    .dataframe tbody tr th:only-of-type {\n",
       "        vertical-align: middle;\n",
       "    }\n",
       "\n",
       "    .dataframe tbody tr th {\n",
       "        vertical-align: top;\n",
       "    }\n",
       "\n",
       "    .dataframe thead th {\n",
       "        text-align: right;\n",
       "    }\n",
       "</style>\n",
       "<table border=\"1\" class=\"dataframe\">\n",
       "  <thead>\n",
       "    <tr style=\"text-align: right;\">\n",
       "      <th></th>\n",
       "      <th>date</th>\n",
       "      <th>parcl_id</th>\n",
       "      <th>sales</th>\n",
       "      <th>for_sale_inventory</th>\n",
       "    </tr>\n",
       "  </thead>\n",
       "  <tbody>\n",
       "    <tr>\n",
       "      <th>0</th>\n",
       "      <td>2024-06-01</td>\n",
       "      <td>5352995</td>\n",
       "      <td>905</td>\n",
       "      <td>1837.5</td>\n",
       "    </tr>\n",
       "    <tr>\n",
       "      <th>1</th>\n",
       "      <td>2024-05-01</td>\n",
       "      <td>5352995</td>\n",
       "      <td>1128</td>\n",
       "      <td>1837.0</td>\n",
       "    </tr>\n",
       "    <tr>\n",
       "      <th>2</th>\n",
       "      <td>2024-04-01</td>\n",
       "      <td>5352995</td>\n",
       "      <td>1098</td>\n",
       "      <td>1683.0</td>\n",
       "    </tr>\n",
       "    <tr>\n",
       "      <th>3</th>\n",
       "      <td>2024-03-01</td>\n",
       "      <td>5352995</td>\n",
       "      <td>991</td>\n",
       "      <td>1613.5</td>\n",
       "    </tr>\n",
       "    <tr>\n",
       "      <th>4</th>\n",
       "      <td>2024-02-01</td>\n",
       "      <td>5352995</td>\n",
       "      <td>848</td>\n",
       "      <td>1442.5</td>\n",
       "    </tr>\n",
       "    <tr>\n",
       "      <th>5</th>\n",
       "      <td>2024-01-01</td>\n",
       "      <td>5352995</td>\n",
       "      <td>795</td>\n",
       "      <td>1250.0</td>\n",
       "    </tr>\n",
       "    <tr>\n",
       "      <th>6</th>\n",
       "      <td>2023-12-01</td>\n",
       "      <td>5352995</td>\n",
       "      <td>908</td>\n",
       "      <td>1423.5</td>\n",
       "    </tr>\n",
       "    <tr>\n",
       "      <th>7</th>\n",
       "      <td>2023-11-01</td>\n",
       "      <td>5352995</td>\n",
       "      <td>844</td>\n",
       "      <td>1542.5</td>\n",
       "    </tr>\n",
       "    <tr>\n",
       "      <th>8</th>\n",
       "      <td>2023-10-01</td>\n",
       "      <td>5352995</td>\n",
       "      <td>950</td>\n",
       "      <td>1519.0</td>\n",
       "    </tr>\n",
       "    <tr>\n",
       "      <th>9</th>\n",
       "      <td>2023-09-01</td>\n",
       "      <td>5352995</td>\n",
       "      <td>990</td>\n",
       "      <td>1443.0</td>\n",
       "    </tr>\n",
       "    <tr>\n",
       "      <th>10</th>\n",
       "      <td>2023-08-01</td>\n",
       "      <td>5352995</td>\n",
       "      <td>1057</td>\n",
       "      <td>1243.0</td>\n",
       "    </tr>\n",
       "    <tr>\n",
       "      <th>11</th>\n",
       "      <td>2023-07-01</td>\n",
       "      <td>5352995</td>\n",
       "      <td>1102</td>\n",
       "      <td>1097.0</td>\n",
       "    </tr>\n",
       "    <tr>\n",
       "      <th>12</th>\n",
       "      <td>2023-06-01</td>\n",
       "      <td>5352995</td>\n",
       "      <td>1139</td>\n",
       "      <td>1246.5</td>\n",
       "    </tr>\n",
       "    <tr>\n",
       "      <th>13</th>\n",
       "      <td>2023-05-01</td>\n",
       "      <td>5352995</td>\n",
       "      <td>1215</td>\n",
       "      <td>1293.0</td>\n",
       "    </tr>\n",
       "    <tr>\n",
       "      <th>14</th>\n",
       "      <td>2023-04-01</td>\n",
       "      <td>5352995</td>\n",
       "      <td>1110</td>\n",
       "      <td>1304.5</td>\n",
       "    </tr>\n",
       "    <tr>\n",
       "      <th>15</th>\n",
       "      <td>2023-03-01</td>\n",
       "      <td>5352995</td>\n",
       "      <td>1130</td>\n",
       "      <td>1312.0</td>\n",
       "    </tr>\n",
       "    <tr>\n",
       "      <th>16</th>\n",
       "      <td>2023-02-01</td>\n",
       "      <td>5352995</td>\n",
       "      <td>1022</td>\n",
       "      <td>1324.5</td>\n",
       "    </tr>\n",
       "    <tr>\n",
       "      <th>17</th>\n",
       "      <td>2023-01-01</td>\n",
       "      <td>5352995</td>\n",
       "      <td>830</td>\n",
       "      <td>1210.0</td>\n",
       "    </tr>\n",
       "    <tr>\n",
       "      <th>18</th>\n",
       "      <td>2022-12-01</td>\n",
       "      <td>5352995</td>\n",
       "      <td>953</td>\n",
       "      <td>1353.0</td>\n",
       "    </tr>\n",
       "    <tr>\n",
       "      <th>19</th>\n",
       "      <td>2022-11-01</td>\n",
       "      <td>5352995</td>\n",
       "      <td>1000</td>\n",
       "      <td>1552.0</td>\n",
       "    </tr>\n",
       "    <tr>\n",
       "      <th>20</th>\n",
       "      <td>2022-10-01</td>\n",
       "      <td>5352995</td>\n",
       "      <td>1095</td>\n",
       "      <td>1584.0</td>\n",
       "    </tr>\n",
       "    <tr>\n",
       "      <th>21</th>\n",
       "      <td>2022-09-01</td>\n",
       "      <td>5352995</td>\n",
       "      <td>928</td>\n",
       "      <td>1740.0</td>\n",
       "    </tr>\n",
       "  </tbody>\n",
       "</table>\n",
       "</div>"
      ],
      "text/plain": [
       "         date parcl_id  sales  for_sale_inventory\n",
       "0  2024-06-01  5352995    905              1837.5\n",
       "1  2024-05-01  5352995   1128              1837.0\n",
       "2  2024-04-01  5352995   1098              1683.0\n",
       "3  2024-03-01  5352995    991              1613.5\n",
       "4  2024-02-01  5352995    848              1442.5\n",
       "5  2024-01-01  5352995    795              1250.0\n",
       "6  2023-12-01  5352995    908              1423.5\n",
       "7  2023-11-01  5352995    844              1542.5\n",
       "8  2023-10-01  5352995    950              1519.0\n",
       "9  2023-09-01  5352995    990              1443.0\n",
       "10 2023-08-01  5352995   1057              1243.0\n",
       "11 2023-07-01  5352995   1102              1097.0\n",
       "12 2023-06-01  5352995   1139              1246.5\n",
       "13 2023-05-01  5352995   1215              1293.0\n",
       "14 2023-04-01  5352995   1110              1304.5\n",
       "15 2023-03-01  5352995   1130              1312.0\n",
       "16 2023-02-01  5352995   1022              1324.5\n",
       "17 2023-01-01  5352995    830              1210.0\n",
       "18 2022-12-01  5352995    953              1353.0\n",
       "19 2022-11-01  5352995   1000              1552.0\n",
       "20 2022-10-01  5352995   1095              1584.0\n",
       "21 2022-09-01  5352995    928              1740.0"
      ]
     },
     "execution_count": 6,
     "metadata": {},
     "output_type": "execute_result"
    }
   ],
   "source": [
    "# now we can join with demand\n",
    "data = pd.merge(demand[['date', 'parcl_id', 'sales']], supply[['date', 'parcl_id', 'for_sale_inventory']], on=['date', 'parcl_id'])\n",
    "data"
   ]
  },
  {
   "cell_type": "code",
   "execution_count": 7,
   "metadata": {},
   "outputs": [],
   "source": [
    "data = data.sort_values('date')\n",
    "data['pct_change_demand'] = data['sales'].pct_change(periods=12)\n",
    "data['pct_change_supply'] = data['for_sale_inventory'].pct_change(periods=12)"
   ]
  },
  {
   "cell_type": "markdown",
   "metadata": {},
   "source": [
    "### 5. Chart the Data"
   ]
  },
  {
   "cell_type": "code",
   "execution_count": 9,
   "metadata": {},
   "outputs": [
    {
     "data": {
      "application/vnd.plotly.v1+json": {
       "config": {
        "plotlyServerURL": "https://plot.ly"
       },
       "data": [
        {
         "line": {
          "color": "red",
          "width": 3
         },
         "marker": {
          "color": "red",
          "line": {
           "color": "red",
           "width": 1
          },
          "size": 8
         },
         "mode": "lines+markers",
         "name": "YoY Change in Demand",
         "type": "scatter",
         "x": [
          "2023-09-01T00:00:00",
          "2023-10-01T00:00:00",
          "2023-11-01T00:00:00",
          "2023-12-01T00:00:00",
          "2024-01-01T00:00:00",
          "2024-02-01T00:00:00",
          "2024-03-01T00:00:00",
          "2024-04-01T00:00:00",
          "2024-05-01T00:00:00",
          "2024-06-01T00:00:00"
         ],
         "y": [
          6.68,
          -13.24,
          -15.6,
          -4.72,
          -4.22,
          -17.03,
          -12.3,
          -1.08,
          -7.16,
          -20.54
         ]
        },
        {
         "line": {
          "color": "green",
          "width": 3
         },
         "marker": {
          "color": "green",
          "line": {
           "color": "green",
           "width": 1
          },
          "size": 8
         },
         "mode": "lines+markers",
         "name": "YoY Change in Supply",
         "type": "scatter",
         "x": [
          "2023-09-01T00:00:00",
          "2023-10-01T00:00:00",
          "2023-11-01T00:00:00",
          "2023-12-01T00:00:00",
          "2024-01-01T00:00:00",
          "2024-02-01T00:00:00",
          "2024-03-01T00:00:00",
          "2024-04-01T00:00:00",
          "2024-05-01T00:00:00",
          "2024-06-01T00:00:00"
         ],
         "y": [
          -17.07,
          -4.1,
          -0.61,
          5.21,
          3.31,
          8.91,
          22.98,
          29.01,
          42.07,
          47.41
         ]
        }
       ],
       "layout": {
        "font": {
         "color": "#ffffff"
        },
        "height": 675,
        "hoverlabel": {
         "bgcolor": "#2f2f2f",
         "font": {
          "color": "#ffffff",
          "family": "Arial",
          "size": 12
         }
        },
        "hovermode": "x unified",
        "images": [
         {
          "sizex": 0.15,
          "sizey": 0.15,
          "source": "https://parcllabs-assets.s3.amazonaws.com/powered-by-parcllabs-api-logo-white+(1).svg",
          "x": 1,
          "xanchor": "right",
          "xref": "paper",
          "y": 0,
          "yanchor": "bottom",
          "yref": "paper"
         }
        ],
        "legend": {
         "bgcolor": "rgba(0, 0, 0, 0)",
         "font": {
          "color": "#ffffff",
          "family": "Arial",
          "size": 12
         },
         "x": 0.01,
         "xanchor": "left",
         "y": 0.98,
         "yanchor": "top"
        },
        "margin": {
         "b": 40,
         "l": 40,
         "r": 40,
         "t": 80
        },
        "paper_bgcolor": "#1e1e1e",
        "plot_bgcolor": "#1e1e1e",
        "template": {
         "data": {
          "bar": [
           {
            "error_x": {
             "color": "#2a3f5f"
            },
            "error_y": {
             "color": "#2a3f5f"
            },
            "marker": {
             "line": {
              "color": "#E5ECF6",
              "width": 0.5
             },
             "pattern": {
              "fillmode": "overlay",
              "size": 10,
              "solidity": 0.2
             }
            },
            "type": "bar"
           }
          ],
          "barpolar": [
           {
            "marker": {
             "line": {
              "color": "#E5ECF6",
              "width": 0.5
             },
             "pattern": {
              "fillmode": "overlay",
              "size": 10,
              "solidity": 0.2
             }
            },
            "type": "barpolar"
           }
          ],
          "carpet": [
           {
            "aaxis": {
             "endlinecolor": "#2a3f5f",
             "gridcolor": "white",
             "linecolor": "white",
             "minorgridcolor": "white",
             "startlinecolor": "#2a3f5f"
            },
            "baxis": {
             "endlinecolor": "#2a3f5f",
             "gridcolor": "white",
             "linecolor": "white",
             "minorgridcolor": "white",
             "startlinecolor": "#2a3f5f"
            },
            "type": "carpet"
           }
          ],
          "choropleth": [
           {
            "colorbar": {
             "outlinewidth": 0,
             "ticks": ""
            },
            "type": "choropleth"
           }
          ],
          "contour": [
           {
            "colorbar": {
             "outlinewidth": 0,
             "ticks": ""
            },
            "colorscale": [
             [
              0,
              "#0d0887"
             ],
             [
              0.1111111111111111,
              "#46039f"
             ],
             [
              0.2222222222222222,
              "#7201a8"
             ],
             [
              0.3333333333333333,
              "#9c179e"
             ],
             [
              0.4444444444444444,
              "#bd3786"
             ],
             [
              0.5555555555555556,
              "#d8576b"
             ],
             [
              0.6666666666666666,
              "#ed7953"
             ],
             [
              0.7777777777777778,
              "#fb9f3a"
             ],
             [
              0.8888888888888888,
              "#fdca26"
             ],
             [
              1,
              "#f0f921"
             ]
            ],
            "type": "contour"
           }
          ],
          "contourcarpet": [
           {
            "colorbar": {
             "outlinewidth": 0,
             "ticks": ""
            },
            "type": "contourcarpet"
           }
          ],
          "heatmap": [
           {
            "colorbar": {
             "outlinewidth": 0,
             "ticks": ""
            },
            "colorscale": [
             [
              0,
              "#0d0887"
             ],
             [
              0.1111111111111111,
              "#46039f"
             ],
             [
              0.2222222222222222,
              "#7201a8"
             ],
             [
              0.3333333333333333,
              "#9c179e"
             ],
             [
              0.4444444444444444,
              "#bd3786"
             ],
             [
              0.5555555555555556,
              "#d8576b"
             ],
             [
              0.6666666666666666,
              "#ed7953"
             ],
             [
              0.7777777777777778,
              "#fb9f3a"
             ],
             [
              0.8888888888888888,
              "#fdca26"
             ],
             [
              1,
              "#f0f921"
             ]
            ],
            "type": "heatmap"
           }
          ],
          "heatmapgl": [
           {
            "colorbar": {
             "outlinewidth": 0,
             "ticks": ""
            },
            "colorscale": [
             [
              0,
              "#0d0887"
             ],
             [
              0.1111111111111111,
              "#46039f"
             ],
             [
              0.2222222222222222,
              "#7201a8"
             ],
             [
              0.3333333333333333,
              "#9c179e"
             ],
             [
              0.4444444444444444,
              "#bd3786"
             ],
             [
              0.5555555555555556,
              "#d8576b"
             ],
             [
              0.6666666666666666,
              "#ed7953"
             ],
             [
              0.7777777777777778,
              "#fb9f3a"
             ],
             [
              0.8888888888888888,
              "#fdca26"
             ],
             [
              1,
              "#f0f921"
             ]
            ],
            "type": "heatmapgl"
           }
          ],
          "histogram": [
           {
            "marker": {
             "pattern": {
              "fillmode": "overlay",
              "size": 10,
              "solidity": 0.2
             }
            },
            "type": "histogram"
           }
          ],
          "histogram2d": [
           {
            "colorbar": {
             "outlinewidth": 0,
             "ticks": ""
            },
            "colorscale": [
             [
              0,
              "#0d0887"
             ],
             [
              0.1111111111111111,
              "#46039f"
             ],
             [
              0.2222222222222222,
              "#7201a8"
             ],
             [
              0.3333333333333333,
              "#9c179e"
             ],
             [
              0.4444444444444444,
              "#bd3786"
             ],
             [
              0.5555555555555556,
              "#d8576b"
             ],
             [
              0.6666666666666666,
              "#ed7953"
             ],
             [
              0.7777777777777778,
              "#fb9f3a"
             ],
             [
              0.8888888888888888,
              "#fdca26"
             ],
             [
              1,
              "#f0f921"
             ]
            ],
            "type": "histogram2d"
           }
          ],
          "histogram2dcontour": [
           {
            "colorbar": {
             "outlinewidth": 0,
             "ticks": ""
            },
            "colorscale": [
             [
              0,
              "#0d0887"
             ],
             [
              0.1111111111111111,
              "#46039f"
             ],
             [
              0.2222222222222222,
              "#7201a8"
             ],
             [
              0.3333333333333333,
              "#9c179e"
             ],
             [
              0.4444444444444444,
              "#bd3786"
             ],
             [
              0.5555555555555556,
              "#d8576b"
             ],
             [
              0.6666666666666666,
              "#ed7953"
             ],
             [
              0.7777777777777778,
              "#fb9f3a"
             ],
             [
              0.8888888888888888,
              "#fdca26"
             ],
             [
              1,
              "#f0f921"
             ]
            ],
            "type": "histogram2dcontour"
           }
          ],
          "mesh3d": [
           {
            "colorbar": {
             "outlinewidth": 0,
             "ticks": ""
            },
            "type": "mesh3d"
           }
          ],
          "parcoords": [
           {
            "line": {
             "colorbar": {
              "outlinewidth": 0,
              "ticks": ""
             }
            },
            "type": "parcoords"
           }
          ],
          "pie": [
           {
            "automargin": true,
            "type": "pie"
           }
          ],
          "scatter": [
           {
            "fillpattern": {
             "fillmode": "overlay",
             "size": 10,
             "solidity": 0.2
            },
            "type": "scatter"
           }
          ],
          "scatter3d": [
           {
            "line": {
             "colorbar": {
              "outlinewidth": 0,
              "ticks": ""
             }
            },
            "marker": {
             "colorbar": {
              "outlinewidth": 0,
              "ticks": ""
             }
            },
            "type": "scatter3d"
           }
          ],
          "scattercarpet": [
           {
            "marker": {
             "colorbar": {
              "outlinewidth": 0,
              "ticks": ""
             }
            },
            "type": "scattercarpet"
           }
          ],
          "scattergeo": [
           {
            "marker": {
             "colorbar": {
              "outlinewidth": 0,
              "ticks": ""
             }
            },
            "type": "scattergeo"
           }
          ],
          "scattergl": [
           {
            "marker": {
             "colorbar": {
              "outlinewidth": 0,
              "ticks": ""
             }
            },
            "type": "scattergl"
           }
          ],
          "scattermapbox": [
           {
            "marker": {
             "colorbar": {
              "outlinewidth": 0,
              "ticks": ""
             }
            },
            "type": "scattermapbox"
           }
          ],
          "scatterpolar": [
           {
            "marker": {
             "colorbar": {
              "outlinewidth": 0,
              "ticks": ""
             }
            },
            "type": "scatterpolar"
           }
          ],
          "scatterpolargl": [
           {
            "marker": {
             "colorbar": {
              "outlinewidth": 0,
              "ticks": ""
             }
            },
            "type": "scatterpolargl"
           }
          ],
          "scatterternary": [
           {
            "marker": {
             "colorbar": {
              "outlinewidth": 0,
              "ticks": ""
             }
            },
            "type": "scatterternary"
           }
          ],
          "surface": [
           {
            "colorbar": {
             "outlinewidth": 0,
             "ticks": ""
            },
            "colorscale": [
             [
              0,
              "#0d0887"
             ],
             [
              0.1111111111111111,
              "#46039f"
             ],
             [
              0.2222222222222222,
              "#7201a8"
             ],
             [
              0.3333333333333333,
              "#9c179e"
             ],
             [
              0.4444444444444444,
              "#bd3786"
             ],
             [
              0.5555555555555556,
              "#d8576b"
             ],
             [
              0.6666666666666666,
              "#ed7953"
             ],
             [
              0.7777777777777778,
              "#fb9f3a"
             ],
             [
              0.8888888888888888,
              "#fdca26"
             ],
             [
              1,
              "#f0f921"
             ]
            ],
            "type": "surface"
           }
          ],
          "table": [
           {
            "cells": {
             "fill": {
              "color": "#EBF0F8"
             },
             "line": {
              "color": "white"
             }
            },
            "header": {
             "fill": {
              "color": "#C8D4E3"
             },
             "line": {
              "color": "white"
             }
            },
            "type": "table"
           }
          ]
         },
         "layout": {
          "annotationdefaults": {
           "arrowcolor": "#2a3f5f",
           "arrowhead": 0,
           "arrowwidth": 1
          },
          "autotypenumbers": "strict",
          "coloraxis": {
           "colorbar": {
            "outlinewidth": 0,
            "ticks": ""
           }
          },
          "colorscale": {
           "diverging": [
            [
             0,
             "#8e0152"
            ],
            [
             0.1,
             "#c51b7d"
            ],
            [
             0.2,
             "#de77ae"
            ],
            [
             0.3,
             "#f1b6da"
            ],
            [
             0.4,
             "#fde0ef"
            ],
            [
             0.5,
             "#f7f7f7"
            ],
            [
             0.6,
             "#e6f5d0"
            ],
            [
             0.7,
             "#b8e186"
            ],
            [
             0.8,
             "#7fbc41"
            ],
            [
             0.9,
             "#4d9221"
            ],
            [
             1,
             "#276419"
            ]
           ],
           "sequential": [
            [
             0,
             "#0d0887"
            ],
            [
             0.1111111111111111,
             "#46039f"
            ],
            [
             0.2222222222222222,
             "#7201a8"
            ],
            [
             0.3333333333333333,
             "#9c179e"
            ],
            [
             0.4444444444444444,
             "#bd3786"
            ],
            [
             0.5555555555555556,
             "#d8576b"
            ],
            [
             0.6666666666666666,
             "#ed7953"
            ],
            [
             0.7777777777777778,
             "#fb9f3a"
            ],
            [
             0.8888888888888888,
             "#fdca26"
            ],
            [
             1,
             "#f0f921"
            ]
           ],
           "sequentialminus": [
            [
             0,
             "#0d0887"
            ],
            [
             0.1111111111111111,
             "#46039f"
            ],
            [
             0.2222222222222222,
             "#7201a8"
            ],
            [
             0.3333333333333333,
             "#9c179e"
            ],
            [
             0.4444444444444444,
             "#bd3786"
            ],
            [
             0.5555555555555556,
             "#d8576b"
            ],
            [
             0.6666666666666666,
             "#ed7953"
            ],
            [
             0.7777777777777778,
             "#fb9f3a"
            ],
            [
             0.8888888888888888,
             "#fdca26"
            ],
            [
             1,
             "#f0f921"
            ]
           ]
          },
          "colorway": [
           "#636efa",
           "#EF553B",
           "#00cc96",
           "#ab63fa",
           "#FFA15A",
           "#19d3f3",
           "#FF6692",
           "#B6E880",
           "#FF97FF",
           "#FECB52"
          ],
          "font": {
           "color": "#2a3f5f"
          },
          "geo": {
           "bgcolor": "white",
           "lakecolor": "white",
           "landcolor": "#E5ECF6",
           "showlakes": true,
           "showland": true,
           "subunitcolor": "white"
          },
          "hoverlabel": {
           "align": "left"
          },
          "hovermode": "closest",
          "mapbox": {
           "style": "light"
          },
          "paper_bgcolor": "white",
          "plot_bgcolor": "#E5ECF6",
          "polar": {
           "angularaxis": {
            "gridcolor": "white",
            "linecolor": "white",
            "ticks": ""
           },
           "bgcolor": "#E5ECF6",
           "radialaxis": {
            "gridcolor": "white",
            "linecolor": "white",
            "ticks": ""
           }
          },
          "scene": {
           "xaxis": {
            "backgroundcolor": "#E5ECF6",
            "gridcolor": "white",
            "gridwidth": 2,
            "linecolor": "white",
            "showbackground": true,
            "ticks": "",
            "zerolinecolor": "white"
           },
           "yaxis": {
            "backgroundcolor": "#E5ECF6",
            "gridcolor": "white",
            "gridwidth": 2,
            "linecolor": "white",
            "showbackground": true,
            "ticks": "",
            "zerolinecolor": "white"
           },
           "zaxis": {
            "backgroundcolor": "#E5ECF6",
            "gridcolor": "white",
            "gridwidth": 2,
            "linecolor": "white",
            "showbackground": true,
            "ticks": "",
            "zerolinecolor": "white"
           }
          },
          "shapedefaults": {
           "line": {
            "color": "#2a3f5f"
           }
          },
          "ternary": {
           "aaxis": {
            "gridcolor": "white",
            "linecolor": "white",
            "ticks": ""
           },
           "baxis": {
            "gridcolor": "white",
            "linecolor": "white",
            "ticks": ""
           },
           "bgcolor": "#E5ECF6",
           "caxis": {
            "gridcolor": "white",
            "linecolor": "white",
            "ticks": ""
           }
          },
          "title": {
           "x": 0.05
          },
          "xaxis": {
           "automargin": true,
           "gridcolor": "white",
           "linecolor": "white",
           "ticks": "",
           "title": {
            "standoff": 15
           },
           "zerolinecolor": "white",
           "zerolinewidth": 2
          },
          "yaxis": {
           "automargin": true,
           "gridcolor": "white",
           "linecolor": "white",
           "ticks": "",
           "title": {
            "standoff": 15
           },
           "zerolinecolor": "white",
           "zerolinewidth": 2
          }
         }
        },
        "title": {
         "font": {
          "color": "#ffffff",
          "family": "Arial Black",
          "size": 24
         },
         "text": "Tampa City: YoY Changes in Supply & Demand",
         "x": 0.5,
         "xanchor": "center",
         "y": 0.95,
         "yanchor": "top"
        },
        "width": 1200,
        "xaxis": {
         "gridcolor": "rgba(255, 255, 255, 0.2)",
         "gridwidth": 0.5,
         "linecolor": "rgba(255, 255, 255, 0.7)",
         "linewidth": 1,
         "showgrid": true,
         "tickangle": -45,
         "tickfont": {
          "color": "#ffffff",
          "family": "Arial",
          "size": 12
         },
         "title": {
          "font": {
           "color": "#ffffff",
           "family": "Arial Black",
           "size": 14
          },
          "text": ""
         }
        },
        "yaxis": {
         "gridcolor": "rgba(255, 255, 255, 0.2)",
         "gridwidth": 0.5,
         "linecolor": "rgba(255, 255, 255, 0.7)",
         "linewidth": 1,
         "showgrid": true,
         "tickfont": {
          "color": "#ffffff",
          "family": "Arial",
          "size": 12
         },
         "tickprefix": "",
         "ticksuffix": "%",
         "title": {
          "font": {
           "color": "#ffffff",
           "family": "Arial Black",
           "size": 14
          },
          "text": "Year-over-Year % Change"
         },
         "zeroline": false
        }
       }
      }
     },
     "metadata": {},
     "output_type": "display_data"
    }
   ],
   "source": [
    "import pandas as pd\n",
    "import plotly.graph_objects as go\n",
    "\n",
    "from parcllabs.beta.charting.styling import default_style_config\n",
    "from parcllabs.beta.charting.utils import create_labs_logo_dict, save_figure, sort_chart_data\n",
    "\n",
    "def create_yoy_comparison_chart(\n",
    "    title: str,\n",
    "    line1_data: pd.DataFrame,\n",
    "    line1_series: str,\n",
    "    line2_data: pd.DataFrame,\n",
    "    line2_series: str,\n",
    "    save_path: str = None,\n",
    "    yaxis_title: str = 'Year-over-Year % Change',\n",
    "    height=675,\n",
    "    width=1200,\n",
    "    style_config=default_style_config\n",
    "):\n",
    "    fig = go.Figure()\n",
    "\n",
    "    # Sort the data\n",
    "    line1_data = sort_chart_data(line1_data)\n",
    "    line2_data = sort_chart_data(line2_data)\n",
    "\n",
    "    # Multiply the series values by 100 and round to 2 decimal points\n",
    "    line1_data[line1_series] = (line1_data[line1_series] * 100).round(2)\n",
    "    line2_data[line2_series] = (line2_data[line2_series] * 100).round(2)\n",
    "\n",
    "    # Add the first line series\n",
    "    fig.add_trace(go.Scatter(\n",
    "        x=line1_data['date'],\n",
    "        y=line1_data[line1_series],\n",
    "        mode='lines+markers',\n",
    "        line=dict(width=style_config['line_width'], color=style_config['line_color']),\n",
    "        marker=dict(size=style_config['marker_size'], color=style_config['marker_color'], line=dict(width=1, color=style_config['marker_outline_color'])),\n",
    "        name=line1_series\n",
    "    ))\n",
    "\n",
    "    # Add the second line series\n",
    "    fig.add_trace(go.Scatter(\n",
    "        x=line2_data['date'],\n",
    "        y=line2_data[line2_series],\n",
    "        mode='lines+markers',\n",
    "        line=dict(width=style_config['line_width'], color=style_config['line2_color']),\n",
    "        marker=dict(size=style_config['marker_size'], color=style_config['marker2_color'], line=dict(width=1, color=style_config['marker2_outline_color'])),\n",
    "        name=line2_series\n",
    "    ))\n",
    "\n",
    "    fig.update_layout(\n",
    "        margin=dict(l=40, r=40, t=80, b=40),\n",
    "        height=height,\n",
    "        width=width,\n",
    "        title={\n",
    "            'text': title,\n",
    "            'y': 0.95,\n",
    "            'x': 0.5,\n",
    "            'xanchor': 'center',\n",
    "            'yanchor': 'top',\n",
    "            'font': style_config['title_font'],\n",
    "        },\n",
    "        plot_bgcolor=style_config['background_color'],\n",
    "        paper_bgcolor=style_config['background_color'],\n",
    "        font=dict(color=style_config['font_color']),\n",
    "        xaxis=dict(\n",
    "            title_text='',\n",
    "            showgrid=style_config['showgrid'],\n",
    "            gridwidth=style_config['gridwidth'],\n",
    "            gridcolor=style_config['grid_color'],\n",
    "            tickangle=style_config['tick_angle'],\n",
    "            tickfont=style_config['axis_font'],\n",
    "            linecolor=style_config['line_color_axis'],\n",
    "            linewidth=style_config['linewidth'],\n",
    "            titlefont=style_config['title_font_axis']\n",
    "        ),\n",
    "        yaxis=dict(\n",
    "            title_text=yaxis_title,\n",
    "            showgrid=style_config['showgrid'],\n",
    "            gridwidth=style_config['gridwidth'],\n",
    "            gridcolor=style_config['grid_color'],\n",
    "            tickfont=style_config['axis_font'],\n",
    "            tickprefix='',\n",
    "            ticksuffix='%',\n",
    "            zeroline=False,\n",
    "            linecolor=style_config['line_color_axis'],\n",
    "            linewidth=style_config['linewidth'],\n",
    "            titlefont=style_config['title_font_axis']\n",
    "        ),\n",
    "        hovermode='x unified',\n",
    "        hoverlabel=dict(\n",
    "            bgcolor=style_config['hover_bg_color'],\n",
    "            font_size=style_config['hover_font_size'],\n",
    "            font_family=style_config['hover_font_family'],\n",
    "            font_color=style_config['hover_font_color']\n",
    "        ),\n",
    "        legend=dict(\n",
    "            x=style_config['legend_x'],\n",
    "            y=style_config['legend_y'],\n",
    "            xanchor=style_config['legend_xanchor'],\n",
    "            yanchor=style_config['legend_yanchor'],\n",
    "            font=style_config['legend_font'],\n",
    "            bgcolor='rgba(0, 0, 0, 0)'\n",
    "        ),\n",
    "    )\n",
    "\n",
    "    fig.add_layout_image(\n",
    "        create_labs_logo_dict()\n",
    "    )\n",
    "\n",
    "    save_figure(fig, save_path=save_path, width=width, height=height)\n",
    "\n",
    "    fig.show()\n",
    "\n",
    "# Update style configuration for second line\n",
    "default_style_config['line2_color'] = 'green'\n",
    "default_style_config['marker2_color'] = 'green'\n",
    "default_style_config['marker2_outline_color'] = 'green'\n",
    "default_style_config['line_color'] = 'red'\n",
    "default_style_config['marker_color'] = 'red'\n",
    "default_style_config['marker_outline_color'] = 'red'\n",
    "\n",
    "data = data.dropna()\n",
    "\n",
    "data = data.rename(columns={'pct_change_demand': 'YoY Change in Demand', 'pct_change_supply': 'YoY Change in Supply'})\n",
    "\n",
    "# Create the chart\n",
    "create_yoy_comparison_chart(\n",
    "    title='Tampa City: YoY Changes in Supply & Demand',\n",
    "    line1_data=data,\n",
    "    line1_series='YoY Change in Demand',\n",
    "    line2_data=data,\n",
    "    line2_series='YoY Change in Supply',\n",
    "    save_path=None,\n",
    "    style_config=default_style_config\n",
    ")\n"
   ]
  },
  {
   "cell_type": "code",
   "execution_count": null,
   "metadata": {},
   "outputs": [],
   "source": []
  }
 ],
 "metadata": {
  "kernelspec": {
   "display_name": "gpt-spec-mjMMhwjp",
   "language": "python",
   "name": "python3"
  },
  "language_info": {
   "codemirror_mode": {
    "name": "ipython",
    "version": 3
   },
   "file_extension": ".py",
   "mimetype": "text/x-python",
   "name": "python",
   "nbconvert_exporter": "python",
   "pygments_lexer": "ipython3",
   "version": "3.11.9"
  }
 },
 "nbformat": 4,
 "nbformat_minor": 2
}
