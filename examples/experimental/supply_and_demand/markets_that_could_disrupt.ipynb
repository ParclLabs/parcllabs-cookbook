{
 "cells": [
  {
   "cell_type": "markdown",
   "metadata": {},
   "source": [
    "<center>\n",
    "<h1>Welcome to the Lab 🥼🧪</h1>\n",
    "</center>\n",
    "\n",
    "## How can we analyze supply shifts accounting for seasonality to understand which markets are over or under supplied relative to US totals?\n",
    "\n",
    "In this notebook, we will be looking for markets that are outpacing supply growth nationwide to look for the needle in the haystack on markets changing faster than the US. \n",
    "\n",
    "#### What will you create in this notebook?\n",
    "\n",
    "<p align=\"center\">\n",
    "  <img src=\"../../../images/tampa_market_price_drops.png\" alt=\"Alt text\">\n",
    "</p>\n",
    "\n",
    "#### Need help getting started?\n",
    "\n",
    "As a reminder, you can get your Parcl Labs API key [here](https://dashboard.parcllabs.com/signup) to follow along.\n",
    "\n",
    "To run this immediately, you can use Google Colab. Remember, you must set your `PARCL_LABS_API_KEY`.\n",
    "\n",
    "Run in collab --> [![Open in Colab](https://colab.research.google.com/assets/colab-badge.svg)](https://colab.research.google.com/github/ParclLabs/parcllabs-cookbook/blob/main/examples/housing_market_research/supply_and_demand/supply_and_price_changes.ipynb)"
   ]
  },
  {
   "cell_type": "markdown",
   "metadata": {},
   "source": [
    "### 1. Import the Parcl Labs Python Library"
   ]
  },
  {
   "cell_type": "code",
   "execution_count": null,
   "metadata": {},
   "outputs": [],
   "source": [
    "# if needed, install and/or upgrade to the latest verison of the Parcl Labs Python library\n",
    "%pip install --upgrade parcllabs nbformat"
   ]
  },
  {
   "cell_type": "code",
   "execution_count": 1,
   "metadata": {},
   "outputs": [],
   "source": [
    "import os\n",
    "import pandas as pd\n",
    "from parcllabs import ParclLabsClient\n",
    "from parcllabs.beta.charting.styling import SIZE_CONFIG\n",
    "from parcllabs.beta.ts_stats import TimeSeriesAnalysis\n",
    "from parcllabs.beta.charting.default_charts import create_dual_axis_chart\n",
    "\n",
    "client = ParclLabsClient(\n",
    "    api_key=os.environ.get('PARCL_LABS_API_KEY', \"<your Parcl Labs API key if not set as environment variable>\"), \n",
    "    limit=12 # set default limit\n",
    ")"
   ]
  },
  {
   "cell_type": "markdown",
   "metadata": {},
   "source": [
    "### 2. Search for Markets"
   ]
  },
  {
   "cell_type": "code",
   "execution_count": 3,
   "metadata": {},
   "outputs": [
    {
     "data": {
      "text/html": [
       "<div>\n",
       "<style scoped>\n",
       "    .dataframe tbody tr th:only-of-type {\n",
       "        vertical-align: middle;\n",
       "    }\n",
       "\n",
       "    .dataframe tbody tr th {\n",
       "        vertical-align: top;\n",
       "    }\n",
       "\n",
       "    .dataframe thead th {\n",
       "        text-align: right;\n",
       "    }\n",
       "</style>\n",
       "<table border=\"1\" class=\"dataframe\">\n",
       "  <thead>\n",
       "    <tr style=\"text-align: right;\">\n",
       "      <th></th>\n",
       "      <th>parcl_id</th>\n",
       "      <th>country</th>\n",
       "      <th>geoid</th>\n",
       "      <th>state_fips_code</th>\n",
       "      <th>name</th>\n",
       "      <th>state_abbreviation</th>\n",
       "      <th>region</th>\n",
       "      <th>location_type</th>\n",
       "      <th>total_population</th>\n",
       "      <th>median_income</th>\n",
       "      <th>parcl_exchange_market</th>\n",
       "      <th>pricefeed_market</th>\n",
       "      <th>case_shiller_10_market</th>\n",
       "      <th>case_shiller_20_market</th>\n",
       "    </tr>\n",
       "  </thead>\n",
       "  <tbody>\n",
       "    <tr>\n",
       "      <th>0</th>\n",
       "      <td>2900187</td>\n",
       "      <td>USA</td>\n",
       "      <td>35620</td>\n",
       "      <td>None</td>\n",
       "      <td>New York-Newark-Jersey City, Ny-Nj-Pa</td>\n",
       "      <td>None</td>\n",
       "      <td>None</td>\n",
       "      <td>CBSA</td>\n",
       "      <td>19908595</td>\n",
       "      <td>93610</td>\n",
       "      <td>0</td>\n",
       "      <td>1</td>\n",
       "      <td>1</td>\n",
       "      <td>1</td>\n",
       "    </tr>\n",
       "    <tr>\n",
       "      <th>1</th>\n",
       "      <td>2900078</td>\n",
       "      <td>USA</td>\n",
       "      <td>31080</td>\n",
       "      <td>None</td>\n",
       "      <td>Los Angeles-Long Beach-Anaheim, Ca</td>\n",
       "      <td>None</td>\n",
       "      <td>None</td>\n",
       "      <td>CBSA</td>\n",
       "      <td>13111917</td>\n",
       "      <td>89105</td>\n",
       "      <td>0</td>\n",
       "      <td>1</td>\n",
       "      <td>1</td>\n",
       "      <td>1</td>\n",
       "    </tr>\n",
       "    <tr>\n",
       "      <th>2</th>\n",
       "      <td>2899845</td>\n",
       "      <td>USA</td>\n",
       "      <td>16980</td>\n",
       "      <td>None</td>\n",
       "      <td>Chicago-Naperville-Elgin, Il-In-Wi</td>\n",
       "      <td>None</td>\n",
       "      <td>None</td>\n",
       "      <td>CBSA</td>\n",
       "      <td>9566955</td>\n",
       "      <td>85087</td>\n",
       "      <td>0</td>\n",
       "      <td>1</td>\n",
       "      <td>1</td>\n",
       "      <td>1</td>\n",
       "    </tr>\n",
       "    <tr>\n",
       "      <th>3</th>\n",
       "      <td>2899734</td>\n",
       "      <td>USA</td>\n",
       "      <td>19100</td>\n",
       "      <td>None</td>\n",
       "      <td>Dallas-Fort Worth-Arlington, Tx</td>\n",
       "      <td>None</td>\n",
       "      <td>None</td>\n",
       "      <td>CBSA</td>\n",
       "      <td>7673379</td>\n",
       "      <td>83398</td>\n",
       "      <td>0</td>\n",
       "      <td>1</td>\n",
       "      <td>0</td>\n",
       "      <td>1</td>\n",
       "    </tr>\n",
       "    <tr>\n",
       "      <th>4</th>\n",
       "      <td>2899967</td>\n",
       "      <td>USA</td>\n",
       "      <td>26420</td>\n",
       "      <td>None</td>\n",
       "      <td>Houston-The Woodlands-Sugar Land, Tx</td>\n",
       "      <td>None</td>\n",
       "      <td>None</td>\n",
       "      <td>CBSA</td>\n",
       "      <td>7142603</td>\n",
       "      <td>78061</td>\n",
       "      <td>0</td>\n",
       "      <td>1</td>\n",
       "      <td>0</td>\n",
       "      <td>0</td>\n",
       "    </tr>\n",
       "    <tr>\n",
       "      <th>...</th>\n",
       "      <td>...</td>\n",
       "      <td>...</td>\n",
       "      <td>...</td>\n",
       "      <td>...</td>\n",
       "      <td>...</td>\n",
       "      <td>...</td>\n",
       "      <td>...</td>\n",
       "      <td>...</td>\n",
       "      <td>...</td>\n",
       "      <td>...</td>\n",
       "      <td>...</td>\n",
       "      <td>...</td>\n",
       "      <td>...</td>\n",
       "      <td>...</td>\n",
       "    </tr>\n",
       "    <tr>\n",
       "      <th>922</th>\n",
       "      <td>2900020</td>\n",
       "      <td>USA</td>\n",
       "      <td>28540</td>\n",
       "      <td>None</td>\n",
       "      <td>Ketchikan, Ak</td>\n",
       "      <td>None</td>\n",
       "      <td>None</td>\n",
       "      <td>CBSA</td>\n",
       "      <td>13910</td>\n",
       "      <td>82763</td>\n",
       "      <td>0</td>\n",
       "      <td>0</td>\n",
       "      <td>0</td>\n",
       "      <td>0</td>\n",
       "    </tr>\n",
       "    <tr>\n",
       "      <th>923</th>\n",
       "      <td>2899906</td>\n",
       "      <td>USA</td>\n",
       "      <td>49820</td>\n",
       "      <td>None</td>\n",
       "      <td>Zapata, Tx</td>\n",
       "      <td>None</td>\n",
       "      <td>None</td>\n",
       "      <td>CBSA</td>\n",
       "      <td>13896</td>\n",
       "      <td>35061</td>\n",
       "      <td>0</td>\n",
       "      <td>0</td>\n",
       "      <td>0</td>\n",
       "      <td>0</td>\n",
       "    </tr>\n",
       "    <tr>\n",
       "      <th>924</th>\n",
       "      <td>2899685</td>\n",
       "      <td>USA</td>\n",
       "      <td>18780</td>\n",
       "      <td>None</td>\n",
       "      <td>Craig, Co</td>\n",
       "      <td>None</td>\n",
       "      <td>None</td>\n",
       "      <td>CBSA</td>\n",
       "      <td>13232</td>\n",
       "      <td>63983</td>\n",
       "      <td>0</td>\n",
       "      <td>0</td>\n",
       "      <td>0</td>\n",
       "      <td>0</td>\n",
       "    </tr>\n",
       "    <tr>\n",
       "      <th>925</th>\n",
       "      <td>2900455</td>\n",
       "      <td>USA</td>\n",
       "      <td>46900</td>\n",
       "      <td>None</td>\n",
       "      <td>Vernon, Tx</td>\n",
       "      <td>None</td>\n",
       "      <td>None</td>\n",
       "      <td>CBSA</td>\n",
       "      <td>12795</td>\n",
       "      <td>50769</td>\n",
       "      <td>0</td>\n",
       "      <td>0</td>\n",
       "      <td>0</td>\n",
       "      <td>0</td>\n",
       "    </tr>\n",
       "    <tr>\n",
       "      <th>926</th>\n",
       "      <td>2900042</td>\n",
       "      <td>USA</td>\n",
       "      <td>29500</td>\n",
       "      <td>None</td>\n",
       "      <td>Lamesa, Tx</td>\n",
       "      <td>None</td>\n",
       "      <td>None</td>\n",
       "      <td>CBSA</td>\n",
       "      <td>12342</td>\n",
       "      <td>45268</td>\n",
       "      <td>0</td>\n",
       "      <td>0</td>\n",
       "      <td>0</td>\n",
       "      <td>0</td>\n",
       "    </tr>\n",
       "  </tbody>\n",
       "</table>\n",
       "<p>927 rows × 14 columns</p>\n",
       "</div>"
      ],
      "text/plain": [
       "     parcl_id country  geoid state_fips_code  \\\n",
       "0     2900187     USA  35620            None   \n",
       "1     2900078     USA  31080            None   \n",
       "2     2899845     USA  16980            None   \n",
       "3     2899734     USA  19100            None   \n",
       "4     2899967     USA  26420            None   \n",
       "..        ...     ...    ...             ...   \n",
       "922   2900020     USA  28540            None   \n",
       "923   2899906     USA  49820            None   \n",
       "924   2899685     USA  18780            None   \n",
       "925   2900455     USA  46900            None   \n",
       "926   2900042     USA  29500            None   \n",
       "\n",
       "                                      name state_abbreviation region  \\\n",
       "0    New York-Newark-Jersey City, Ny-Nj-Pa               None   None   \n",
       "1       Los Angeles-Long Beach-Anaheim, Ca               None   None   \n",
       "2       Chicago-Naperville-Elgin, Il-In-Wi               None   None   \n",
       "3          Dallas-Fort Worth-Arlington, Tx               None   None   \n",
       "4     Houston-The Woodlands-Sugar Land, Tx               None   None   \n",
       "..                                     ...                ...    ...   \n",
       "922                          Ketchikan, Ak               None   None   \n",
       "923                             Zapata, Tx               None   None   \n",
       "924                              Craig, Co               None   None   \n",
       "925                             Vernon, Tx               None   None   \n",
       "926                             Lamesa, Tx               None   None   \n",
       "\n",
       "    location_type  total_population  median_income  parcl_exchange_market  \\\n",
       "0            CBSA          19908595          93610                      0   \n",
       "1            CBSA          13111917          89105                      0   \n",
       "2            CBSA           9566955          85087                      0   \n",
       "3            CBSA           7673379          83398                      0   \n",
       "4            CBSA           7142603          78061                      0   \n",
       "..            ...               ...            ...                    ...   \n",
       "922          CBSA             13910          82763                      0   \n",
       "923          CBSA             13896          35061                      0   \n",
       "924          CBSA             13232          63983                      0   \n",
       "925          CBSA             12795          50769                      0   \n",
       "926          CBSA             12342          45268                      0   \n",
       "\n",
       "     pricefeed_market  case_shiller_10_market  case_shiller_20_market  \n",
       "0                   1                       1                       1  \n",
       "1                   1                       1                       1  \n",
       "2                   1                       1                       1  \n",
       "3                   1                       0                       1  \n",
       "4                   1                       0                       0  \n",
       "..                ...                     ...                     ...  \n",
       "922                 0                       0                       0  \n",
       "923                 0                       0                       0  \n",
       "924                 0                       0                       0  \n",
       "925                 0                       0                       0  \n",
       "926                 0                       0                       0  \n",
       "\n",
       "[927 rows x 14 columns]"
      ]
     },
     "execution_count": 3,
     "metadata": {},
     "output_type": "execute_result"
    }
   ],
   "source": [
    "# get us benchmark\n",
    "metros = client.search.markets.retrieve(\n",
    "    sort_by='TOTAL_POPULATION',\n",
    "    sort_order='DESC',\n",
    "    location_type='CBSA',\n",
    "    limit=1000 # get \n",
    ")\n",
    "metros"
   ]
  },
  {
   "cell_type": "code",
   "execution_count": 4,
   "metadata": {},
   "outputs": [],
   "source": [
    "# Metro parcl id\n",
    "metro_parcl_ids = metros['parcl_id'].tolist()"
   ]
  },
  {
   "cell_type": "markdown",
   "metadata": {},
   "source": [
    "### 3. Retrieve the Data"
   ]
  },
  {
   "cell_type": "code",
   "execution_count": 6,
   "metadata": {},
   "outputs": [
    {
     "name": "stdout",
     "output_type": "stream",
     "text": [
      "|████████████████████████████████████████| 927/927 [100%] in 1:18.0 (11.88/s) \n",
      "|████████████████████████████████████████| 927/927 [100%] in 4:01.6 (3.84/s) \n",
      "|████████████████████████████████████████| 927/927 [100%] in 2:15.0 (6.87/s) \n"
     ]
    },
    {
     "name": "stderr",
     "output_type": "stream",
     "text": [
      "/opt/anaconda3/envs/parcllabs/lib/python3.11/site-packages/parcllabs/services/data_utils.py:15: FutureWarning: The behavior of DataFrame concatenation with empty or all-NA entries is deprecated. In a future version, this will no longer exclude empty or all-NA columns when determining the result dtypes. To retain the old behavior, exclude the relevant entries before the concat operation.\n",
      "  output = pd.concat(non_empty_dfs).reset_index(drop=True)\n"
     ]
    }
   ],
   "source": [
    "# Lets get YoY changes for tampa market -- warning, you need a starter account to do this work. \n",
    "# this will pull back a lot of data and use a lot of credits. We are \n",
    "# capturing weekly supply numbers for 100 metros across the country. \n",
    "\n",
    "start_date='2022-09-01'\n",
    "\n",
    "supply = client.for_sale_market_metrics.for_sale_inventory.retrieve(\n",
    "    parcl_ids=metro_parcl_ids,\n",
    "    start_date=start_date,\n",
    "    limit=200\n",
    ")\n",
    "\n",
    "demand = client.market_metrics.housing_event_counts.retrieve(\n",
    "    parcl_ids=metro_parcl_ids,\n",
    "    start_date=start_date,\n",
    "    limit=200\n",
    ")\n",
    "\n",
    "prices = client.market_metrics.housing_event_prices.retrieve(\n",
    "    parcl_ids=metro_parcl_ids,\n",
    "    start_date='2019-01-01',\n",
    "    limit=200\n",
    ")\n",
    "\n",
    "price_changes = client.for_sale_market_metrics.for_sale_inventory_price_changes.retrieve(\n",
    "    parcl_ids=metro_parcl_ids,\n",
    "    limit=200,\n",
    "    start_date=start_date\n",
    ")"
   ]
  },
  {
   "cell_type": "markdown",
   "metadata": {},
   "source": [
    "### 4. Prepare the data for analysis/charting\n",
    "\n",
    "The algorithm:\n",
    "\n",
    "- YTD delta between YoY Change in Demand and supply\n",
    "- Peak to current within 5%\n",
    "- 5 year price appreciation over 80%\n",
    "- at least 40% of inventory experiencing price changes"
   ]
  },
  {
   "cell_type": "code",
   "execution_count": 46,
   "metadata": {},
   "outputs": [
    {
     "data": {
      "text/html": [
       "<div>\n",
       "<style scoped>\n",
       "    .dataframe tbody tr th:only-of-type {\n",
       "        vertical-align: middle;\n",
       "    }\n",
       "\n",
       "    .dataframe tbody tr th {\n",
       "        vertical-align: top;\n",
       "    }\n",
       "\n",
       "    .dataframe thead th {\n",
       "        text-align: right;\n",
       "    }\n",
       "</style>\n",
       "<table border=\"1\" class=\"dataframe\">\n",
       "  <thead>\n",
       "    <tr style=\"text-align: right;\">\n",
       "      <th></th>\n",
       "      <th>date</th>\n",
       "      <th>parcl_id</th>\n",
       "      <th>for_sale_inventory</th>\n",
       "      <th>pct_price_drops</th>\n",
       "    </tr>\n",
       "  </thead>\n",
       "  <tbody>\n",
       "    <tr>\n",
       "      <th>0</th>\n",
       "      <td>2022-09-01</td>\n",
       "      <td>2887279</td>\n",
       "      <td>227.5</td>\n",
       "      <td>0.279625</td>\n",
       "    </tr>\n",
       "    <tr>\n",
       "      <th>1</th>\n",
       "      <td>2022-09-01</td>\n",
       "      <td>2887280</td>\n",
       "      <td>23500.5</td>\n",
       "      <td>0.307429</td>\n",
       "    </tr>\n",
       "    <tr>\n",
       "      <th>2</th>\n",
       "      <td>2022-09-01</td>\n",
       "      <td>2887281</td>\n",
       "      <td>281.5</td>\n",
       "      <td>0.232460</td>\n",
       "    </tr>\n",
       "    <tr>\n",
       "      <th>3</th>\n",
       "      <td>2022-09-01</td>\n",
       "      <td>2887282</td>\n",
       "      <td>18.5</td>\n",
       "      <td>0.108187</td>\n",
       "    </tr>\n",
       "    <tr>\n",
       "      <th>4</th>\n",
       "      <td>2022-09-01</td>\n",
       "      <td>2887283</td>\n",
       "      <td>11.5</td>\n",
       "      <td>0.309524</td>\n",
       "    </tr>\n",
       "    <tr>\n",
       "      <th>...</th>\n",
       "      <td>...</td>\n",
       "      <td>...</td>\n",
       "      <td>...</td>\n",
       "      <td>...</td>\n",
       "    </tr>\n",
       "    <tr>\n",
       "      <th>20381</th>\n",
       "      <td>2024-06-01</td>\n",
       "      <td>2900501</td>\n",
       "      <td>53.0</td>\n",
       "      <td>0.207547</td>\n",
       "    </tr>\n",
       "    <tr>\n",
       "      <th>20382</th>\n",
       "      <td>2024-06-01</td>\n",
       "      <td>2900502</td>\n",
       "      <td>78.0</td>\n",
       "      <td>0.289157</td>\n",
       "    </tr>\n",
       "    <tr>\n",
       "      <th>20383</th>\n",
       "      <td>2024-06-01</td>\n",
       "      <td>2900503</td>\n",
       "      <td>271.0</td>\n",
       "      <td>0.343284</td>\n",
       "    </tr>\n",
       "    <tr>\n",
       "      <th>20384</th>\n",
       "      <td>2024-06-01</td>\n",
       "      <td>2900504</td>\n",
       "      <td>156.0</td>\n",
       "      <td>0.251613</td>\n",
       "    </tr>\n",
       "    <tr>\n",
       "      <th>20385</th>\n",
       "      <td>2024-06-01</td>\n",
       "      <td>2900505</td>\n",
       "      <td>66.0</td>\n",
       "      <td>0.200000</td>\n",
       "    </tr>\n",
       "  </tbody>\n",
       "</table>\n",
       "<p>20386 rows × 4 columns</p>\n",
       "</div>"
      ],
      "text/plain": [
       "            date  parcl_id  for_sale_inventory  pct_price_drops\n",
       "0     2022-09-01   2887279               227.5         0.279625\n",
       "1     2022-09-01   2887280             23500.5         0.307429\n",
       "2     2022-09-01   2887281               281.5         0.232460\n",
       "3     2022-09-01   2887282                18.5         0.108187\n",
       "4     2022-09-01   2887283                11.5         0.309524\n",
       "...          ...       ...                 ...              ...\n",
       "20381 2024-06-01   2900501                53.0         0.207547\n",
       "20382 2024-06-01   2900502                78.0         0.289157\n",
       "20383 2024-06-01   2900503               271.0         0.343284\n",
       "20384 2024-06-01   2900504               156.0         0.251613\n",
       "20385 2024-06-01   2900505                66.0         0.200000\n",
       "\n",
       "[20386 rows x 4 columns]"
      ]
     },
     "execution_count": 46,
     "metadata": {},
     "output_type": "execute_result"
    }
   ],
   "source": [
    "# supply is a weekly series while demand is a monthly series, need to truncate supply to the month\n",
    "# and then compress it to a monthly series. We will take the median value of the month to represent\n",
    "# that month\n",
    "supply_monthly = supply.copy(deep=True)\n",
    "supply_monthly = supply_monthly.merge(price_changes[['parcl_id', 'date', 'count_price_drop']], on=['parcl_id', 'date'])\n",
    "supply_monthly['pct_price_drops'] = supply_monthly['count_price_drop']/supply_monthly['for_sale_inventory']\n",
    "supply_monthly['date'] = supply_monthly['date'].dt.to_period('M').dt.to_timestamp()\n",
    "supply_monthly = supply_monthly.groupby(['date', 'parcl_id'])[['for_sale_inventory', 'pct_price_drops']].median().reset_index()\n",
    "\n",
    "supply_monthly"
   ]
  },
  {
   "cell_type": "code",
   "execution_count": 13,
   "metadata": {},
   "outputs": [
    {
     "data": {
      "text/html": [
       "<div>\n",
       "<style scoped>\n",
       "    .dataframe tbody tr th:only-of-type {\n",
       "        vertical-align: middle;\n",
       "    }\n",
       "\n",
       "    .dataframe tbody tr th {\n",
       "        vertical-align: top;\n",
       "    }\n",
       "\n",
       "    .dataframe thead th {\n",
       "        text-align: right;\n",
       "    }\n",
       "</style>\n",
       "<table border=\"1\" class=\"dataframe\">\n",
       "  <thead>\n",
       "    <tr style=\"text-align: right;\">\n",
       "      <th></th>\n",
       "      <th>date</th>\n",
       "      <th>parcl_id</th>\n",
       "      <th>for_sale_inventory</th>\n",
       "      <th>pct_price_drops</th>\n",
       "    </tr>\n",
       "  </thead>\n",
       "  <tbody>\n",
       "    <tr>\n",
       "      <th>10531</th>\n",
       "      <td>2024-05-01</td>\n",
       "      <td>2899906</td>\n",
       "      <td>15.0</td>\n",
       "      <td>0.633929</td>\n",
       "    </tr>\n",
       "    <tr>\n",
       "      <th>3363</th>\n",
       "      <td>2023-09-01</td>\n",
       "      <td>2900157</td>\n",
       "      <td>13.5</td>\n",
       "      <td>0.629121</td>\n",
       "    </tr>\n",
       "    <tr>\n",
       "      <th>8722</th>\n",
       "      <td>2024-03-01</td>\n",
       "      <td>2899952</td>\n",
       "      <td>31.0</td>\n",
       "      <td>0.627451</td>\n",
       "    </tr>\n",
       "    <tr>\n",
       "      <th>9604</th>\n",
       "      <td>2024-04-01</td>\n",
       "      <td>2899906</td>\n",
       "      <td>17.0</td>\n",
       "      <td>0.611111</td>\n",
       "    </tr>\n",
       "    <tr>\n",
       "      <th>4892</th>\n",
       "      <td>2023-11-01</td>\n",
       "      <td>2899826</td>\n",
       "      <td>41.5</td>\n",
       "      <td>0.609524</td>\n",
       "    </tr>\n",
       "    <tr>\n",
       "      <th>...</th>\n",
       "      <td>...</td>\n",
       "      <td>...</td>\n",
       "      <td>...</td>\n",
       "      <td>...</td>\n",
       "    </tr>\n",
       "    <tr>\n",
       "      <th>6981</th>\n",
       "      <td>2024-01-01</td>\n",
       "      <td>2900066</td>\n",
       "      <td>16.0</td>\n",
       "      <td>0.000000</td>\n",
       "    </tr>\n",
       "    <tr>\n",
       "      <th>7546</th>\n",
       "      <td>2024-02-01</td>\n",
       "      <td>2899699</td>\n",
       "      <td>25.0</td>\n",
       "      <td>0.000000</td>\n",
       "    </tr>\n",
       "    <tr>\n",
       "      <th>8720</th>\n",
       "      <td>2024-03-01</td>\n",
       "      <td>2899950</td>\n",
       "      <td>11.0</td>\n",
       "      <td>0.000000</td>\n",
       "    </tr>\n",
       "    <tr>\n",
       "      <th>1261</th>\n",
       "      <td>2023-07-01</td>\n",
       "      <td>2899906</td>\n",
       "      <td>19.5</td>\n",
       "      <td>0.000000</td>\n",
       "    </tr>\n",
       "    <tr>\n",
       "      <th>8473</th>\n",
       "      <td>2024-03-01</td>\n",
       "      <td>2899699</td>\n",
       "      <td>21.0</td>\n",
       "      <td>0.000000</td>\n",
       "    </tr>\n",
       "  </tbody>\n",
       "</table>\n",
       "<p>12051 rows × 4 columns</p>\n",
       "</div>"
      ],
      "text/plain": [
       "            date  parcl_id  for_sale_inventory  pct_price_drops\n",
       "10531 2024-05-01   2899906                15.0         0.633929\n",
       "3363  2023-09-01   2900157                13.5         0.629121\n",
       "8722  2024-03-01   2899952                31.0         0.627451\n",
       "9604  2024-04-01   2899906                17.0         0.611111\n",
       "4892  2023-11-01   2899826                41.5         0.609524\n",
       "...          ...       ...                 ...              ...\n",
       "6981  2024-01-01   2900066                16.0         0.000000\n",
       "7546  2024-02-01   2899699                25.0         0.000000\n",
       "8720  2024-03-01   2899950                11.0         0.000000\n",
       "1261  2023-07-01   2899906                19.5         0.000000\n",
       "8473  2024-03-01   2899699                21.0         0.000000\n",
       "\n",
       "[12051 rows x 4 columns]"
      ]
     },
     "execution_count": 13,
     "metadata": {},
     "output_type": "execute_result"
    }
   ],
   "source": [
    "supply_monthly.sort_values('pct_price_drops', ascending=False)"
   ]
  },
  {
   "cell_type": "code",
   "execution_count": 16,
   "metadata": {},
   "outputs": [
    {
     "data": {
      "text/html": [
       "<div>\n",
       "<style scoped>\n",
       "    .dataframe tbody tr th:only-of-type {\n",
       "        vertical-align: middle;\n",
       "    }\n",
       "\n",
       "    .dataframe tbody tr th {\n",
       "        vertical-align: top;\n",
       "    }\n",
       "\n",
       "    .dataframe thead th {\n",
       "        text-align: right;\n",
       "    }\n",
       "</style>\n",
       "<table border=\"1\" class=\"dataframe\">\n",
       "  <thead>\n",
       "    <tr style=\"text-align: right;\">\n",
       "      <th></th>\n",
       "      <th>parcl_id</th>\n",
       "      <th>country</th>\n",
       "      <th>geoid</th>\n",
       "      <th>state_fips_code</th>\n",
       "      <th>name</th>\n",
       "      <th>state_abbreviation</th>\n",
       "      <th>region</th>\n",
       "      <th>location_type</th>\n",
       "      <th>total_population</th>\n",
       "      <th>median_income</th>\n",
       "      <th>parcl_exchange_market</th>\n",
       "      <th>pricefeed_market</th>\n",
       "      <th>case_shiller_10_market</th>\n",
       "      <th>case_shiller_20_market</th>\n",
       "    </tr>\n",
       "  </thead>\n",
       "  <tbody>\n",
       "    <tr>\n",
       "      <th>906</th>\n",
       "      <td>2899952</td>\n",
       "      <td>USA</td>\n",
       "      <td>25820</td>\n",
       "      <td>None</td>\n",
       "      <td>Hereford, Tx</td>\n",
       "      <td>None</td>\n",
       "      <td>None</td>\n",
       "      <td>CBSA</td>\n",
       "      <td>18585</td>\n",
       "      <td>51942</td>\n",
       "      <td>0</td>\n",
       "      <td>0</td>\n",
       "      <td>0</td>\n",
       "      <td>0</td>\n",
       "    </tr>\n",
       "  </tbody>\n",
       "</table>\n",
       "</div>"
      ],
      "text/plain": [
       "     parcl_id country  geoid state_fips_code          name state_abbreviation  \\\n",
       "906   2899952     USA  25820            None  Hereford, Tx               None   \n",
       "\n",
       "    region location_type  total_population  median_income  \\\n",
       "906   None          CBSA             18585          51942   \n",
       "\n",
       "     parcl_exchange_market  pricefeed_market  case_shiller_10_market  \\\n",
       "906                      0                 0                       0   \n",
       "\n",
       "     case_shiller_20_market  \n",
       "906                       0  "
      ]
     },
     "execution_count": 16,
     "metadata": {},
     "output_type": "execute_result"
    }
   ],
   "source": [
    "metros.loc[metros['parcl_id']==2899952]"
   ]
  },
  {
   "cell_type": "code",
   "execution_count": 47,
   "metadata": {},
   "outputs": [
    {
     "data": {
      "text/html": [
       "<div>\n",
       "<style scoped>\n",
       "    .dataframe tbody tr th:only-of-type {\n",
       "        vertical-align: middle;\n",
       "    }\n",
       "\n",
       "    .dataframe tbody tr th {\n",
       "        vertical-align: top;\n",
       "    }\n",
       "\n",
       "    .dataframe thead th {\n",
       "        text-align: right;\n",
       "    }\n",
       "</style>\n",
       "<table border=\"1\" class=\"dataframe\">\n",
       "  <thead>\n",
       "    <tr style=\"text-align: right;\">\n",
       "      <th></th>\n",
       "      <th>date</th>\n",
       "      <th>parcl_id</th>\n",
       "      <th>sales</th>\n",
       "      <th>for_sale_inventory</th>\n",
       "    </tr>\n",
       "  </thead>\n",
       "  <tbody>\n",
       "    <tr>\n",
       "      <th>0</th>\n",
       "      <td>2024-05-01</td>\n",
       "      <td>2900187</td>\n",
       "      <td>18573</td>\n",
       "      <td>27381.0</td>\n",
       "    </tr>\n",
       "    <tr>\n",
       "      <th>1</th>\n",
       "      <td>2024-04-01</td>\n",
       "      <td>2900187</td>\n",
       "      <td>20806</td>\n",
       "      <td>26028.0</td>\n",
       "    </tr>\n",
       "    <tr>\n",
       "      <th>2</th>\n",
       "      <td>2024-03-01</td>\n",
       "      <td>2900187</td>\n",
       "      <td>20148</td>\n",
       "      <td>24117.0</td>\n",
       "    </tr>\n",
       "    <tr>\n",
       "      <th>3</th>\n",
       "      <td>2024-02-01</td>\n",
       "      <td>2900187</td>\n",
       "      <td>18694</td>\n",
       "      <td>21852.0</td>\n",
       "    </tr>\n",
       "    <tr>\n",
       "      <th>4</th>\n",
       "      <td>2024-01-01</td>\n",
       "      <td>2900187</td>\n",
       "      <td>20935</td>\n",
       "      <td>16994.0</td>\n",
       "    </tr>\n",
       "    <tr>\n",
       "      <th>...</th>\n",
       "      <td>...</td>\n",
       "      <td>...</td>\n",
       "      <td>...</td>\n",
       "      <td>...</td>\n",
       "    </tr>\n",
       "    <tr>\n",
       "      <th>19454</th>\n",
       "      <td>2023-01-01</td>\n",
       "      <td>2900042</td>\n",
       "      <td>0</td>\n",
       "      <td>15.0</td>\n",
       "    </tr>\n",
       "    <tr>\n",
       "      <th>19455</th>\n",
       "      <td>2022-12-01</td>\n",
       "      <td>2900042</td>\n",
       "      <td>0</td>\n",
       "      <td>16.5</td>\n",
       "    </tr>\n",
       "    <tr>\n",
       "      <th>19456</th>\n",
       "      <td>2022-11-01</td>\n",
       "      <td>2900042</td>\n",
       "      <td>0</td>\n",
       "      <td>20.5</td>\n",
       "    </tr>\n",
       "    <tr>\n",
       "      <th>19457</th>\n",
       "      <td>2022-10-01</td>\n",
       "      <td>2900042</td>\n",
       "      <td>0</td>\n",
       "      <td>17.0</td>\n",
       "    </tr>\n",
       "    <tr>\n",
       "      <th>19458</th>\n",
       "      <td>2022-09-01</td>\n",
       "      <td>2900042</td>\n",
       "      <td>0</td>\n",
       "      <td>15.5</td>\n",
       "    </tr>\n",
       "  </tbody>\n",
       "</table>\n",
       "<p>19459 rows × 4 columns</p>\n",
       "</div>"
      ],
      "text/plain": [
       "            date parcl_id  sales  for_sale_inventory\n",
       "0     2024-05-01  2900187  18573             27381.0\n",
       "1     2024-04-01  2900187  20806             26028.0\n",
       "2     2024-03-01  2900187  20148             24117.0\n",
       "3     2024-02-01  2900187  18694             21852.0\n",
       "4     2024-01-01  2900187  20935             16994.0\n",
       "...          ...      ...    ...                 ...\n",
       "19454 2023-01-01  2900042      0                15.0\n",
       "19455 2022-12-01  2900042      0                16.5\n",
       "19456 2022-11-01  2900042      0                20.5\n",
       "19457 2022-10-01  2900042      0                17.0\n",
       "19458 2022-09-01  2900042      0                15.5\n",
       "\n",
       "[19459 rows x 4 columns]"
      ]
     },
     "execution_count": 47,
     "metadata": {},
     "output_type": "execute_result"
    }
   ],
   "source": [
    "# now we can join with demand\n",
    "data = pd.merge(demand[['date', 'parcl_id', 'sales']], supply_monthly[['date', 'parcl_id', 'for_sale_inventory']], on=['date', 'parcl_id'])\n",
    "data"
   ]
  },
  {
   "cell_type": "code",
   "execution_count": 48,
   "metadata": {},
   "outputs": [],
   "source": [
    "data = data.sort_values(['parcl_id', 'date'])\n",
    "# Calculate percentage change in 'sales' for each 'parcl_id' over 12 periods\n",
    "data['pct_change_demand'] = data.groupby('parcl_id')['sales'].pct_change(periods=12)\n",
    "# Calculate percentage change in 'for_sale_inventory' for each 'parcl_id' over 12 periods\n",
    "data['pct_change_supply'] = data.groupby('parcl_id')['for_sale_inventory'].pct_change(periods=12)"
   ]
  },
  {
   "cell_type": "code",
   "execution_count": 51,
   "metadata": {},
   "outputs": [],
   "source": [
    "# calculate a 3 month moving average to account for spikiness in the data\n",
    "data['ma_pct_change_demand'] = data.groupby('parcl_id')['pct_change_demand'].transform(lambda x: x.rolling(window=3).mean())\n",
    "\n",
    "# Calculate a 3-month moving average for 'pct_change_supply'\n",
    "data['ma_pct_change_supply'] = data.groupby('parcl_id')['pct_change_supply'].transform(lambda x: x.rolling(window=3).mean())\n"
   ]
  },
  {
   "cell_type": "code",
   "execution_count": 57,
   "metadata": {},
   "outputs": [
    {
     "data": {
      "text/html": [
       "<div>\n",
       "<style scoped>\n",
       "    .dataframe tbody tr th:only-of-type {\n",
       "        vertical-align: middle;\n",
       "    }\n",
       "\n",
       "    .dataframe tbody tr th {\n",
       "        vertical-align: top;\n",
       "    }\n",
       "\n",
       "    .dataframe thead th {\n",
       "        text-align: right;\n",
       "    }\n",
       "</style>\n",
       "<table border=\"1\" class=\"dataframe\">\n",
       "  <thead>\n",
       "    <tr style=\"text-align: right;\">\n",
       "      <th></th>\n",
       "      <th>date</th>\n",
       "      <th>parcl_id</th>\n",
       "      <th>sales</th>\n",
       "      <th>for_sale_inventory</th>\n",
       "      <th>pct_change_demand</th>\n",
       "      <th>pct_change_supply</th>\n",
       "      <th>ma_pct_change_demand</th>\n",
       "      <th>ma_pct_change_supply</th>\n",
       "    </tr>\n",
       "  </thead>\n",
       "  <tbody>\n",
       "    <tr>\n",
       "      <th>4458</th>\n",
       "      <td>2023-11-01</td>\n",
       "      <td>2887279</td>\n",
       "      <td>402</td>\n",
       "      <td>419.5</td>\n",
       "      <td>0.069149</td>\n",
       "      <td>0.946636</td>\n",
       "      <td>0.001291</td>\n",
       "      <td>0.909787</td>\n",
       "    </tr>\n",
       "    <tr>\n",
       "      <th>4457</th>\n",
       "      <td>2023-12-01</td>\n",
       "      <td>2887279</td>\n",
       "      <td>377</td>\n",
       "      <td>368.5</td>\n",
       "      <td>-0.095923</td>\n",
       "      <td>0.609170</td>\n",
       "      <td>-0.010643</td>\n",
       "      <td>0.805152</td>\n",
       "    </tr>\n",
       "    <tr>\n",
       "      <th>4456</th>\n",
       "      <td>2024-01-01</td>\n",
       "      <td>2887279</td>\n",
       "      <td>341</td>\n",
       "      <td>358.0</td>\n",
       "      <td>-0.095491</td>\n",
       "      <td>0.563319</td>\n",
       "      <td>-0.040755</td>\n",
       "      <td>0.706375</td>\n",
       "    </tr>\n",
       "    <tr>\n",
       "      <th>4455</th>\n",
       "      <td>2024-02-01</td>\n",
       "      <td>2887279</td>\n",
       "      <td>453</td>\n",
       "      <td>459.5</td>\n",
       "      <td>0.195251</td>\n",
       "      <td>0.454114</td>\n",
       "      <td>0.001279</td>\n",
       "      <td>0.542201</td>\n",
       "    </tr>\n",
       "    <tr>\n",
       "      <th>4454</th>\n",
       "      <td>2024-03-01</td>\n",
       "      <td>2887279</td>\n",
       "      <td>557</td>\n",
       "      <td>510.5</td>\n",
       "      <td>0.092157</td>\n",
       "      <td>0.271482</td>\n",
       "      <td>0.063972</td>\n",
       "      <td>0.429638</td>\n",
       "    </tr>\n",
       "    <tr>\n",
       "      <th>4453</th>\n",
       "      <td>2024-04-01</td>\n",
       "      <td>2887279</td>\n",
       "      <td>492</td>\n",
       "      <td>554.0</td>\n",
       "      <td>0.113122</td>\n",
       "      <td>0.154167</td>\n",
       "      <td>0.133510</td>\n",
       "      <td>0.293254</td>\n",
       "    </tr>\n",
       "    <tr>\n",
       "      <th>4452</th>\n",
       "      <td>2024-05-01</td>\n",
       "      <td>2887279</td>\n",
       "      <td>385</td>\n",
       "      <td>573.5</td>\n",
       "      <td>-0.253876</td>\n",
       "      <td>0.113592</td>\n",
       "      <td>-0.016199</td>\n",
       "      <td>0.179747</td>\n",
       "    </tr>\n",
       "    <tr>\n",
       "      <th>174</th>\n",
       "      <td>2023-11-01</td>\n",
       "      <td>2887280</td>\n",
       "      <td>12382</td>\n",
       "      <td>19617.0</td>\n",
       "      <td>-0.112529</td>\n",
       "      <td>-0.113196</td>\n",
       "      <td>-0.164999</td>\n",
       "      <td>-0.141390</td>\n",
       "    </tr>\n",
       "    <tr>\n",
       "      <th>173</th>\n",
       "      <td>2023-12-01</td>\n",
       "      <td>2887280</td>\n",
       "      <td>13402</td>\n",
       "      <td>16985.5</td>\n",
       "      <td>-0.039283</td>\n",
       "      <td>-0.108349</td>\n",
       "      <td>-0.104251</td>\n",
       "      <td>-0.118373</td>\n",
       "    </tr>\n",
       "    <tr>\n",
       "      <th>172</th>\n",
       "      <td>2024-01-01</td>\n",
       "      <td>2887280</td>\n",
       "      <td>11998</td>\n",
       "      <td>15450.0</td>\n",
       "      <td>0.138222</td>\n",
       "      <td>-0.068660</td>\n",
       "      <td>-0.004530</td>\n",
       "      <td>-0.096735</td>\n",
       "    </tr>\n",
       "    <tr>\n",
       "      <th>171</th>\n",
       "      <td>2024-02-01</td>\n",
       "      <td>2887280</td>\n",
       "      <td>12211</td>\n",
       "      <td>18499.5</td>\n",
       "      <td>-0.004484</td>\n",
       "      <td>0.014283</td>\n",
       "      <td>0.031485</td>\n",
       "      <td>-0.054242</td>\n",
       "    </tr>\n",
       "    <tr>\n",
       "      <th>170</th>\n",
       "      <td>2024-03-01</td>\n",
       "      <td>2887280</td>\n",
       "      <td>13685</td>\n",
       "      <td>20184.5</td>\n",
       "      <td>-0.186143</td>\n",
       "      <td>0.093833</td>\n",
       "      <td>-0.017468</td>\n",
       "      <td>0.013152</td>\n",
       "    </tr>\n",
       "    <tr>\n",
       "      <th>169</th>\n",
       "      <td>2024-04-01</td>\n",
       "      <td>2887280</td>\n",
       "      <td>15067</td>\n",
       "      <td>22244.0</td>\n",
       "      <td>0.065860</td>\n",
       "      <td>0.225835</td>\n",
       "      <td>-0.041589</td>\n",
       "      <td>0.111317</td>\n",
       "    </tr>\n",
       "    <tr>\n",
       "      <th>168</th>\n",
       "      <td>2024-05-01</td>\n",
       "      <td>2887280</td>\n",
       "      <td>11527</td>\n",
       "      <td>24153.0</td>\n",
       "      <td>-0.285989</td>\n",
       "      <td>0.320774</td>\n",
       "      <td>-0.135424</td>\n",
       "      <td>0.213481</td>\n",
       "    </tr>\n",
       "    <tr>\n",
       "      <th>3765</th>\n",
       "      <td>2023-11-01</td>\n",
       "      <td>2887281</td>\n",
       "      <td>708</td>\n",
       "      <td>668.5</td>\n",
       "      <td>-0.313953</td>\n",
       "      <td>1.125596</td>\n",
       "      <td>-0.280778</td>\n",
       "      <td>1.163148</td>\n",
       "    </tr>\n",
       "    <tr>\n",
       "      <th>3764</th>\n",
       "      <td>2023-12-01</td>\n",
       "      <td>2887281</td>\n",
       "      <td>705</td>\n",
       "      <td>576.0</td>\n",
       "      <td>-0.155689</td>\n",
       "      <td>0.975986</td>\n",
       "      <td>-0.243061</td>\n",
       "      <td>1.088832</td>\n",
       "    </tr>\n",
       "    <tr>\n",
       "      <th>3763</th>\n",
       "      <td>2024-01-01</td>\n",
       "      <td>2887281</td>\n",
       "      <td>823</td>\n",
       "      <td>510.0</td>\n",
       "      <td>-0.091611</td>\n",
       "      <td>0.734694</td>\n",
       "      <td>-0.187085</td>\n",
       "      <td>0.945425</td>\n",
       "    </tr>\n",
       "    <tr>\n",
       "      <th>3762</th>\n",
       "      <td>2024-02-01</td>\n",
       "      <td>2887281</td>\n",
       "      <td>711</td>\n",
       "      <td>575.0</td>\n",
       "      <td>0.028944</td>\n",
       "      <td>0.356132</td>\n",
       "      <td>-0.072786</td>\n",
       "      <td>0.688937</td>\n",
       "    </tr>\n",
       "    <tr>\n",
       "      <th>3761</th>\n",
       "      <td>2024-03-01</td>\n",
       "      <td>2887281</td>\n",
       "      <td>724</td>\n",
       "      <td>607.0</td>\n",
       "      <td>-0.088161</td>\n",
       "      <td>0.031436</td>\n",
       "      <td>-0.050276</td>\n",
       "      <td>0.374087</td>\n",
       "    </tr>\n",
       "    <tr>\n",
       "      <th>3760</th>\n",
       "      <td>2024-04-01</td>\n",
       "      <td>2887281</td>\n",
       "      <td>803</td>\n",
       "      <td>609.0</td>\n",
       "      <td>0.142248</td>\n",
       "      <td>-0.050663</td>\n",
       "      <td>0.027677</td>\n",
       "      <td>0.112302</td>\n",
       "    </tr>\n",
       "  </tbody>\n",
       "</table>\n",
       "</div>"
      ],
      "text/plain": [
       "           date parcl_id  sales  for_sale_inventory  pct_change_demand  \\\n",
       "4458 2023-11-01  2887279    402               419.5           0.069149   \n",
       "4457 2023-12-01  2887279    377               368.5          -0.095923   \n",
       "4456 2024-01-01  2887279    341               358.0          -0.095491   \n",
       "4455 2024-02-01  2887279    453               459.5           0.195251   \n",
       "4454 2024-03-01  2887279    557               510.5           0.092157   \n",
       "4453 2024-04-01  2887279    492               554.0           0.113122   \n",
       "4452 2024-05-01  2887279    385               573.5          -0.253876   \n",
       "174  2023-11-01  2887280  12382             19617.0          -0.112529   \n",
       "173  2023-12-01  2887280  13402             16985.5          -0.039283   \n",
       "172  2024-01-01  2887280  11998             15450.0           0.138222   \n",
       "171  2024-02-01  2887280  12211             18499.5          -0.004484   \n",
       "170  2024-03-01  2887280  13685             20184.5          -0.186143   \n",
       "169  2024-04-01  2887280  15067             22244.0           0.065860   \n",
       "168  2024-05-01  2887280  11527             24153.0          -0.285989   \n",
       "3765 2023-11-01  2887281    708               668.5          -0.313953   \n",
       "3764 2023-12-01  2887281    705               576.0          -0.155689   \n",
       "3763 2024-01-01  2887281    823               510.0          -0.091611   \n",
       "3762 2024-02-01  2887281    711               575.0           0.028944   \n",
       "3761 2024-03-01  2887281    724               607.0          -0.088161   \n",
       "3760 2024-04-01  2887281    803               609.0           0.142248   \n",
       "\n",
       "      pct_change_supply  ma_pct_change_demand  ma_pct_change_supply  \n",
       "4458           0.946636              0.001291              0.909787  \n",
       "4457           0.609170             -0.010643              0.805152  \n",
       "4456           0.563319             -0.040755              0.706375  \n",
       "4455           0.454114              0.001279              0.542201  \n",
       "4454           0.271482              0.063972              0.429638  \n",
       "4453           0.154167              0.133510              0.293254  \n",
       "4452           0.113592             -0.016199              0.179747  \n",
       "174           -0.113196             -0.164999             -0.141390  \n",
       "173           -0.108349             -0.104251             -0.118373  \n",
       "172           -0.068660             -0.004530             -0.096735  \n",
       "171            0.014283              0.031485             -0.054242  \n",
       "170            0.093833             -0.017468              0.013152  \n",
       "169            0.225835             -0.041589              0.111317  \n",
       "168            0.320774             -0.135424              0.213481  \n",
       "3765           1.125596             -0.280778              1.163148  \n",
       "3764           0.975986             -0.243061              1.088832  \n",
       "3763           0.734694             -0.187085              0.945425  \n",
       "3762           0.356132             -0.072786              0.688937  \n",
       "3761           0.031436             -0.050276              0.374087  \n",
       "3760          -0.050663              0.027677              0.112302  "
      ]
     },
     "execution_count": 57,
     "metadata": {},
     "output_type": "execute_result"
    }
   ],
   "source": [
    "tmp = data.dropna()\n",
    "tmp.head(20)"
   ]
  },
  {
   "cell_type": "code",
   "execution_count": 59,
   "metadata": {},
   "outputs": [
    {
     "data": {
      "text/html": [
       "<div>\n",
       "<style scoped>\n",
       "    .dataframe tbody tr th:only-of-type {\n",
       "        vertical-align: middle;\n",
       "    }\n",
       "\n",
       "    .dataframe tbody tr th {\n",
       "        vertical-align: top;\n",
       "    }\n",
       "\n",
       "    .dataframe thead th {\n",
       "        text-align: right;\n",
       "    }\n",
       "</style>\n",
       "<table border=\"1\" class=\"dataframe\">\n",
       "  <thead>\n",
       "    <tr style=\"text-align: right;\">\n",
       "      <th></th>\n",
       "      <th>date</th>\n",
       "      <th>parcl_id</th>\n",
       "      <th>sales</th>\n",
       "      <th>for_sale_inventory</th>\n",
       "      <th>pct_change_demand</th>\n",
       "      <th>pct_change_supply</th>\n",
       "      <th>ma_pct_change_demand</th>\n",
       "      <th>ma_pct_change_supply</th>\n",
       "    </tr>\n",
       "  </thead>\n",
       "  <tbody>\n",
       "    <tr>\n",
       "      <th>168</th>\n",
       "      <td>2024-05-01</td>\n",
       "      <td>2887280</td>\n",
       "      <td>11527</td>\n",
       "      <td>24153.0</td>\n",
       "      <td>-0.285989</td>\n",
       "      <td>0.320774</td>\n",
       "      <td>-0.135424</td>\n",
       "      <td>0.213481</td>\n",
       "    </tr>\n",
       "    <tr>\n",
       "      <th>3765</th>\n",
       "      <td>2023-11-01</td>\n",
       "      <td>2887281</td>\n",
       "      <td>708</td>\n",
       "      <td>668.5</td>\n",
       "      <td>-0.313953</td>\n",
       "      <td>1.125596</td>\n",
       "      <td>-0.280778</td>\n",
       "      <td>1.163148</td>\n",
       "    </tr>\n",
       "    <tr>\n",
       "      <th>3764</th>\n",
       "      <td>2023-12-01</td>\n",
       "      <td>2887281</td>\n",
       "      <td>705</td>\n",
       "      <td>576.0</td>\n",
       "      <td>-0.155689</td>\n",
       "      <td>0.975986</td>\n",
       "      <td>-0.243061</td>\n",
       "      <td>1.088832</td>\n",
       "    </tr>\n",
       "    <tr>\n",
       "      <th>3763</th>\n",
       "      <td>2024-01-01</td>\n",
       "      <td>2887281</td>\n",
       "      <td>823</td>\n",
       "      <td>510.0</td>\n",
       "      <td>-0.091611</td>\n",
       "      <td>0.734694</td>\n",
       "      <td>-0.187085</td>\n",
       "      <td>0.945425</td>\n",
       "    </tr>\n",
       "    <tr>\n",
       "      <th>13866</th>\n",
       "      <td>2023-11-01</td>\n",
       "      <td>2887283</td>\n",
       "      <td>109</td>\n",
       "      <td>117.5</td>\n",
       "      <td>0.018692</td>\n",
       "      <td>4.731707</td>\n",
       "      <td>-0.146058</td>\n",
       "      <td>6.755290</td>\n",
       "    </tr>\n",
       "    <tr>\n",
       "      <th>...</th>\n",
       "      <td>...</td>\n",
       "      <td>...</td>\n",
       "      <td>...</td>\n",
       "      <td>...</td>\n",
       "      <td>...</td>\n",
       "      <td>...</td>\n",
       "      <td>...</td>\n",
       "      <td>...</td>\n",
       "    </tr>\n",
       "    <tr>\n",
       "      <th>1831</th>\n",
       "      <td>2024-01-01</td>\n",
       "      <td>2900503</td>\n",
       "      <td>957</td>\n",
       "      <td>256.0</td>\n",
       "      <td>-0.211697</td>\n",
       "      <td>0.939394</td>\n",
       "      <td>-0.138871</td>\n",
       "      <td>0.922639</td>\n",
       "    </tr>\n",
       "    <tr>\n",
       "      <th>1830</th>\n",
       "      <td>2024-02-01</td>\n",
       "      <td>2900503</td>\n",
       "      <td>1006</td>\n",
       "      <td>276.0</td>\n",
       "      <td>-0.210361</td>\n",
       "      <td>0.821782</td>\n",
       "      <td>-0.173194</td>\n",
       "      <td>0.843959</td>\n",
       "    </tr>\n",
       "    <tr>\n",
       "      <th>1829</th>\n",
       "      <td>2024-03-01</td>\n",
       "      <td>2900503</td>\n",
       "      <td>1257</td>\n",
       "      <td>281.0</td>\n",
       "      <td>-0.284576</td>\n",
       "      <td>0.729231</td>\n",
       "      <td>-0.235545</td>\n",
       "      <td>0.830136</td>\n",
       "    </tr>\n",
       "    <tr>\n",
       "      <th>1828</th>\n",
       "      <td>2024-04-01</td>\n",
       "      <td>2900503</td>\n",
       "      <td>1218</td>\n",
       "      <td>297.0</td>\n",
       "      <td>-0.086957</td>\n",
       "      <td>0.850467</td>\n",
       "      <td>-0.193965</td>\n",
       "      <td>0.800493</td>\n",
       "    </tr>\n",
       "    <tr>\n",
       "      <th>1827</th>\n",
       "      <td>2024-05-01</td>\n",
       "      <td>2900503</td>\n",
       "      <td>1366</td>\n",
       "      <td>294.5</td>\n",
       "      <td>-0.162990</td>\n",
       "      <td>0.692529</td>\n",
       "      <td>-0.178174</td>\n",
       "      <td>0.757409</td>\n",
       "    </tr>\n",
       "  </tbody>\n",
       "</table>\n",
       "<p>1595 rows × 8 columns</p>\n",
       "</div>"
      ],
      "text/plain": [
       "            date parcl_id  sales  for_sale_inventory  pct_change_demand  \\\n",
       "168   2024-05-01  2887280  11527             24153.0          -0.285989   \n",
       "3765  2023-11-01  2887281    708               668.5          -0.313953   \n",
       "3764  2023-12-01  2887281    705               576.0          -0.155689   \n",
       "3763  2024-01-01  2887281    823               510.0          -0.091611   \n",
       "13866 2023-11-01  2887283    109               117.5           0.018692   \n",
       "...          ...      ...    ...                 ...                ...   \n",
       "1831  2024-01-01  2900503    957               256.0          -0.211697   \n",
       "1830  2024-02-01  2900503   1006               276.0          -0.210361   \n",
       "1829  2024-03-01  2900503   1257               281.0          -0.284576   \n",
       "1828  2024-04-01  2900503   1218               297.0          -0.086957   \n",
       "1827  2024-05-01  2900503   1366               294.5          -0.162990   \n",
       "\n",
       "       pct_change_supply  ma_pct_change_demand  ma_pct_change_supply  \n",
       "168             0.320774             -0.135424              0.213481  \n",
       "3765            1.125596             -0.280778              1.163148  \n",
       "3764            0.975986             -0.243061              1.088832  \n",
       "3763            0.734694             -0.187085              0.945425  \n",
       "13866           4.731707             -0.146058              6.755290  \n",
       "...                  ...                   ...                   ...  \n",
       "1831            0.939394             -0.138871              0.922639  \n",
       "1830            0.821782             -0.173194              0.843959  \n",
       "1829            0.729231             -0.235545              0.830136  \n",
       "1828            0.850467             -0.193965              0.800493  \n",
       "1827            0.692529             -0.178174              0.757409  \n",
       "\n",
       "[1595 rows x 8 columns]"
      ]
     },
     "execution_count": 59,
     "metadata": {},
     "output_type": "execute_result"
    }
   ],
   "source": [
    "tmp.loc[(tmp['ma_pct_change_supply']>.2) & (tmp['ma_pct_change_demand']<= -.1) & (tmp['for_sale_inventory']>100)]"
   ]
  },
  {
   "cell_type": "code",
   "execution_count": 95,
   "metadata": {},
   "outputs": [
    {
     "name": "stderr",
     "output_type": "stream",
     "text": [
      "/var/folders/cs/pgg3ckbn3d397n3_x2b312k80000gn/T/ipykernel_4763/446601132.py:1: SettingWithCopyWarning: \n",
      "A value is trying to be set on a copy of a slice from a DataFrame.\n",
      "Try using .loc[row_indexer,col_indexer] = value instead\n",
      "\n",
      "See the caveats in the documentation: https://pandas.pydata.org/pandas-docs/stable/user_guide/indexing.html#returning-a-view-versus-a-copy\n",
      "  tmp['test'] = tmp['ma_pct_change_demand'] - tmp['ma_pct_change_supply']\n"
     ]
    }
   ],
   "source": [
    "tmp['test'] = tmp['ma_pct_change_demand'] - tmp['ma_pct_change_supply']\n",
    "skew = tmp.loc[(tmp['for_sale_inventory']>100)&(tmp['date']=='5/1/2024')&(tmp['sales']>100)].sort_values('test', ascending=True).head(100)"
   ]
  },
  {
   "cell_type": "code",
   "execution_count": 75,
   "metadata": {},
   "outputs": [
    {
     "data": {
      "text/html": [
       "<div>\n",
       "<style scoped>\n",
       "    .dataframe tbody tr th:only-of-type {\n",
       "        vertical-align: middle;\n",
       "    }\n",
       "\n",
       "    .dataframe tbody tr th {\n",
       "        vertical-align: top;\n",
       "    }\n",
       "\n",
       "    .dataframe thead th {\n",
       "        text-align: right;\n",
       "    }\n",
       "</style>\n",
       "<table border=\"1\" class=\"dataframe\">\n",
       "  <thead>\n",
       "    <tr style=\"text-align: right;\">\n",
       "      <th></th>\n",
       "      <th>date</th>\n",
       "      <th>parcl_id</th>\n",
       "      <th>for_sale_inventory</th>\n",
       "      <th>pct_price_drops</th>\n",
       "    </tr>\n",
       "  </thead>\n",
       "  <tbody>\n",
       "    <tr>\n",
       "      <th>0</th>\n",
       "      <td>2022-09-01</td>\n",
       "      <td>2887279</td>\n",
       "      <td>227.5</td>\n",
       "      <td>0.279625</td>\n",
       "    </tr>\n",
       "    <tr>\n",
       "      <th>1</th>\n",
       "      <td>2022-09-01</td>\n",
       "      <td>2887280</td>\n",
       "      <td>23500.5</td>\n",
       "      <td>0.307429</td>\n",
       "    </tr>\n",
       "    <tr>\n",
       "      <th>2</th>\n",
       "      <td>2022-09-01</td>\n",
       "      <td>2887281</td>\n",
       "      <td>281.5</td>\n",
       "      <td>0.232460</td>\n",
       "    </tr>\n",
       "    <tr>\n",
       "      <th>3</th>\n",
       "      <td>2022-09-01</td>\n",
       "      <td>2887282</td>\n",
       "      <td>18.5</td>\n",
       "      <td>0.108187</td>\n",
       "    </tr>\n",
       "    <tr>\n",
       "      <th>4</th>\n",
       "      <td>2022-09-01</td>\n",
       "      <td>2887283</td>\n",
       "      <td>11.5</td>\n",
       "      <td>0.309524</td>\n",
       "    </tr>\n",
       "  </tbody>\n",
       "</table>\n",
       "</div>"
      ],
      "text/plain": [
       "        date  parcl_id  for_sale_inventory  pct_price_drops\n",
       "0 2022-09-01   2887279               227.5         0.279625\n",
       "1 2022-09-01   2887280             23500.5         0.307429\n",
       "2 2022-09-01   2887281               281.5         0.232460\n",
       "3 2022-09-01   2887282                18.5         0.108187\n",
       "4 2022-09-01   2887283                11.5         0.309524"
      ]
     },
     "execution_count": 75,
     "metadata": {},
     "output_type": "execute_result"
    }
   ],
   "source": [
    "supply_monthly.head()"
   ]
  },
  {
   "cell_type": "code",
   "execution_count": 77,
   "metadata": {},
   "outputs": [
    {
     "data": {
      "text/html": [
       "<div>\n",
       "<style scoped>\n",
       "    .dataframe tbody tr th:only-of-type {\n",
       "        vertical-align: middle;\n",
       "    }\n",
       "\n",
       "    .dataframe tbody tr th {\n",
       "        vertical-align: top;\n",
       "    }\n",
       "\n",
       "    .dataframe thead th {\n",
       "        text-align: right;\n",
       "    }\n",
       "</style>\n",
       "<table border=\"1\" class=\"dataframe\">\n",
       "  <thead>\n",
       "    <tr style=\"text-align: right;\">\n",
       "      <th></th>\n",
       "      <th>date</th>\n",
       "      <th>parcl_id</th>\n",
       "      <th>for_sale_inventory</th>\n",
       "      <th>pct_price_drops</th>\n",
       "      <th>ma_price_changes</th>\n",
       "    </tr>\n",
       "  </thead>\n",
       "  <tbody>\n",
       "    <tr>\n",
       "      <th>20381</th>\n",
       "      <td>2024-06-01</td>\n",
       "      <td>2900501</td>\n",
       "      <td>53.0</td>\n",
       "      <td>0.207547</td>\n",
       "      <td>0.136717</td>\n",
       "    </tr>\n",
       "    <tr>\n",
       "      <th>20382</th>\n",
       "      <td>2024-06-01</td>\n",
       "      <td>2900502</td>\n",
       "      <td>78.0</td>\n",
       "      <td>0.289157</td>\n",
       "      <td>0.250672</td>\n",
       "    </tr>\n",
       "    <tr>\n",
       "      <th>20383</th>\n",
       "      <td>2024-06-01</td>\n",
       "      <td>2900503</td>\n",
       "      <td>271.0</td>\n",
       "      <td>0.343284</td>\n",
       "      <td>0.288005</td>\n",
       "    </tr>\n",
       "    <tr>\n",
       "      <th>20384</th>\n",
       "      <td>2024-06-01</td>\n",
       "      <td>2900504</td>\n",
       "      <td>156.0</td>\n",
       "      <td>0.251613</td>\n",
       "      <td>0.231398</td>\n",
       "    </tr>\n",
       "    <tr>\n",
       "      <th>20385</th>\n",
       "      <td>2024-06-01</td>\n",
       "      <td>2900505</td>\n",
       "      <td>66.0</td>\n",
       "      <td>0.200000</td>\n",
       "      <td>0.178739</td>\n",
       "    </tr>\n",
       "  </tbody>\n",
       "</table>\n",
       "</div>"
      ],
      "text/plain": [
       "            date  parcl_id  for_sale_inventory  pct_price_drops  \\\n",
       "20381 2024-06-01   2900501                53.0         0.207547   \n",
       "20382 2024-06-01   2900502                78.0         0.289157   \n",
       "20383 2024-06-01   2900503               271.0         0.343284   \n",
       "20384 2024-06-01   2900504               156.0         0.251613   \n",
       "20385 2024-06-01   2900505                66.0         0.200000   \n",
       "\n",
       "       ma_price_changes  \n",
       "20381          0.136717  \n",
       "20382          0.250672  \n",
       "20383          0.288005  \n",
       "20384          0.231398  \n",
       "20385          0.178739  "
      ]
     },
     "execution_count": 77,
     "metadata": {},
     "output_type": "execute_result"
    }
   ],
   "source": [
    "# now lets calculate the 3 month moving average on price changes\n",
    "supply_monthly['ma_price_changes'] = supply_monthly.groupby('parcl_id')['pct_price_drops'].transform(lambda x: x.rolling(window=3).mean())\n",
    "supply_monthly.tail()\n"
   ]
  },
  {
   "cell_type": "code",
   "execution_count": 104,
   "metadata": {},
   "outputs": [],
   "source": [
    "s1 = supply_monthly.loc[(supply_monthly['ma_price_changes']>0.35) & (supply_monthly['date']=='5/1/2024')].sort_values('ma_price_changes', ascending=False)\n",
    "s1 = s1.loc[s1['parcl_id'].isin(skew['parcl_id'].tolist())]"
   ]
  },
  {
   "cell_type": "code",
   "execution_count": 110,
   "metadata": {},
   "outputs": [],
   "source": [
    "prices_skew = prices.loc[prices['parcl_id'].isin(skew['parcl_id'].tolist())]\n",
    "prices_skew_test = prices_skew.loc[prices_skew['parcl_id']==2900128]"
   ]
  },
  {
   "cell_type": "code",
   "execution_count": 121,
   "metadata": {},
   "outputs": [],
   "source": [
    "all_rows = []\n",
    "for pid in prices_skew['parcl_id'].unique().tolist():\n",
    "    prices_skew_test = prices_skew.loc[prices_skew['parcl_id']==pid]\n",
    "    price_ts_analysis = TimeSeriesAnalysis(prices_skew_test, 'date', 'price_per_square_foot_median_sales', freq='M')\n",
    "    price_rate_of_change_stats = price_ts_analysis.calculate_changes(change_since_date='3/1/2020')\n",
    "    row = pd.json_normalize(price_rate_of_change_stats)\n",
    "    row['parcl_id'] = pid\n",
    "    all_rows.append(row)"
   ]
  },
  {
   "cell_type": "code",
   "execution_count": 200,
   "metadata": {},
   "outputs": [],
   "source": [
    "ts_analysis = pd.concat(all_rows)"
   ]
  },
  {
   "cell_type": "code",
   "execution_count": 206,
   "metadata": {},
   "outputs": [],
   "source": [
    "high_flyers = ts_analysis.loc[(ts_analysis['peak_to_current.percent_change'] > -.05) & (ts_analysis['change_since_date.percent_change']>.5)]\n",
    "hf = high_flyers.loc[high_flyers['parcl_id'].isin(s1.loc[s1['for_sale_inventory']>1000]['parcl_id'].tolist())]"
   ]
  },
  {
   "cell_type": "code",
   "execution_count": 195,
   "metadata": {},
   "outputs": [
    {
     "data": {
      "text/html": [
       "<div>\n",
       "<style scoped>\n",
       "    .dataframe tbody tr th:only-of-type {\n",
       "        vertical-align: middle;\n",
       "    }\n",
       "\n",
       "    .dataframe tbody tr th {\n",
       "        vertical-align: top;\n",
       "    }\n",
       "\n",
       "    .dataframe thead th {\n",
       "        text-align: right;\n",
       "    }\n",
       "</style>\n",
       "<table border=\"1\" class=\"dataframe\">\n",
       "  <thead>\n",
       "    <tr style=\"text-align: right;\">\n",
       "      <th></th>\n",
       "      <th>1_month.value_diff</th>\n",
       "      <th>1_month.percent_change</th>\n",
       "      <th>3_month.value_diff</th>\n",
       "      <th>3_month.percent_change</th>\n",
       "      <th>6_month.value_diff</th>\n",
       "      <th>6_month.percent_change</th>\n",
       "      <th>12_month.value_diff</th>\n",
       "      <th>12_month.percent_change</th>\n",
       "      <th>2_year.value_diff</th>\n",
       "      <th>2_year.percent_change</th>\n",
       "      <th>...</th>\n",
       "      <th>52_week_high.value</th>\n",
       "      <th>52_week_high.date</th>\n",
       "      <th>52_week_low.value</th>\n",
       "      <th>52_week_low.date</th>\n",
       "      <th>change_since_date.value_diff</th>\n",
       "      <th>change_since_date.percent_change</th>\n",
       "      <th>change_since_date.change_date</th>\n",
       "      <th>change_since_date.change_value</th>\n",
       "      <th>parcl_id</th>\n",
       "      <th>name</th>\n",
       "    </tr>\n",
       "  </thead>\n",
       "  <tbody>\n",
       "    <tr>\n",
       "      <th>8</th>\n",
       "      <td>-4.05</td>\n",
       "      <td>-0.0178</td>\n",
       "      <td>-1.87</td>\n",
       "      <td>-0.0083</td>\n",
       "      <td>1.92</td>\n",
       "      <td>0.0086</td>\n",
       "      <td>-6.31</td>\n",
       "      <td>-0.0274</td>\n",
       "      <td>4.71</td>\n",
       "      <td>0.0215</td>\n",
       "      <td>...</td>\n",
       "      <td>228.51</td>\n",
       "      <td>2023-06-01</td>\n",
       "      <td>214.85</td>\n",
       "      <td>2023-10-01</td>\n",
       "      <td>81.61</td>\n",
       "      <td>0.5728</td>\n",
       "      <td>2020-03-01</td>\n",
       "      <td>142.47</td>\n",
       "      <td>2899822</td>\n",
       "      <td>Cape Coral-Fort Myers, Fl</td>\n",
       "    </tr>\n",
       "  </tbody>\n",
       "</table>\n",
       "<p>1 rows × 28 columns</p>\n",
       "</div>"
      ],
      "text/plain": [
       "   1_month.value_diff  1_month.percent_change  3_month.value_diff  \\\n",
       "8               -4.05                 -0.0178               -1.87   \n",
       "\n",
       "   3_month.percent_change  6_month.value_diff  6_month.percent_change  \\\n",
       "8                 -0.0083                1.92                  0.0086   \n",
       "\n",
       "   12_month.value_diff  12_month.percent_change  2_year.value_diff  \\\n",
       "8                -6.31                  -0.0274               4.71   \n",
       "\n",
       "   2_year.percent_change  ...  52_week_high.value  52_week_high.date  \\\n",
       "8                 0.0215  ...              228.51         2023-06-01   \n",
       "\n",
       "   52_week_low.value  52_week_low.date change_since_date.value_diff  \\\n",
       "8             214.85        2023-10-01                        81.61   \n",
       "\n",
       "   change_since_date.percent_change  change_since_date.change_date  \\\n",
       "8                            0.5728                     2020-03-01   \n",
       "\n",
       "  change_since_date.change_value  parcl_id                       name  \n",
       "8                         142.47   2899822  Cape Coral-Fort Myers, Fl  \n",
       "\n",
       "[1 rows x 28 columns]"
      ]
     },
     "execution_count": 195,
     "metadata": {},
     "output_type": "execute_result"
    }
   ],
   "source": [
    "ts_analysis.loc[ts_analysis['parcl_id']==2899822]"
   ]
  },
  {
   "cell_type": "code",
   "execution_count": 208,
   "metadata": {},
   "outputs": [
    {
     "data": {
      "application/vnd.plotly.v1+json": {
       "config": {
        "plotlyServerURL": "https://plot.ly"
       },
       "data": [
        {
         "alignmentgroup": "True",
         "hovertemplate": "name=%{x}<br>Percent Change=%{y}<extra></extra>",
         "legendgroup": "",
         "marker": {
          "color": "#636efa",
          "pattern": {
           "shape": ""
          }
         },
         "name": "",
         "offsetgroup": "",
         "orientation": "v",
         "showlegend": false,
         "textposition": "auto",
         "type": "bar",
         "x": [
          "Gainesville, Fl",
          "Lakeland-Winter Haven, Fl",
          "Deltona-Daytona Beach-Ormond Beach, Fl",
          "Cape Coral-Fort Myers, Fl",
          "Crestview-Fort Walton Beach-Destin, Fl",
          "Sebastian-Vero Beach, Fl",
          "Miami-Fort Lauderdale-Pompano Beach, Fl",
          "Port St. Lucie, Fl",
          "Tampa-St. Petersburg-Clearwater, Fl",
          "Homosassa Springs, Fl",
          "Key West, Fl",
          "Naples-Marco Island, Fl",
          "Palm Bay-Melbourne-Titusville, Fl"
         ],
         "xaxis": "x",
         "y": [
          0.5021,
          0.5136,
          0.5546,
          0.5728,
          0.6029,
          0.6143,
          0.6373,
          0.655,
          0.6655,
          0.6703,
          0.7184,
          0.8904,
          0.938
         ],
         "yaxis": "y"
        }
       ],
       "layout": {
        "barmode": "relative",
        "legend": {
         "tracegroupgap": 0
        },
        "template": {
         "data": {
          "bar": [
           {
            "error_x": {
             "color": "#2a3f5f"
            },
            "error_y": {
             "color": "#2a3f5f"
            },
            "marker": {
             "line": {
              "color": "#E5ECF6",
              "width": 0.5
             },
             "pattern": {
              "fillmode": "overlay",
              "size": 10,
              "solidity": 0.2
             }
            },
            "type": "bar"
           }
          ],
          "barpolar": [
           {
            "marker": {
             "line": {
              "color": "#E5ECF6",
              "width": 0.5
             },
             "pattern": {
              "fillmode": "overlay",
              "size": 10,
              "solidity": 0.2
             }
            },
            "type": "barpolar"
           }
          ],
          "carpet": [
           {
            "aaxis": {
             "endlinecolor": "#2a3f5f",
             "gridcolor": "white",
             "linecolor": "white",
             "minorgridcolor": "white",
             "startlinecolor": "#2a3f5f"
            },
            "baxis": {
             "endlinecolor": "#2a3f5f",
             "gridcolor": "white",
             "linecolor": "white",
             "minorgridcolor": "white",
             "startlinecolor": "#2a3f5f"
            },
            "type": "carpet"
           }
          ],
          "choropleth": [
           {
            "colorbar": {
             "outlinewidth": 0,
             "ticks": ""
            },
            "type": "choropleth"
           }
          ],
          "contour": [
           {
            "colorbar": {
             "outlinewidth": 0,
             "ticks": ""
            },
            "colorscale": [
             [
              0,
              "#0d0887"
             ],
             [
              0.1111111111111111,
              "#46039f"
             ],
             [
              0.2222222222222222,
              "#7201a8"
             ],
             [
              0.3333333333333333,
              "#9c179e"
             ],
             [
              0.4444444444444444,
              "#bd3786"
             ],
             [
              0.5555555555555556,
              "#d8576b"
             ],
             [
              0.6666666666666666,
              "#ed7953"
             ],
             [
              0.7777777777777778,
              "#fb9f3a"
             ],
             [
              0.8888888888888888,
              "#fdca26"
             ],
             [
              1,
              "#f0f921"
             ]
            ],
            "type": "contour"
           }
          ],
          "contourcarpet": [
           {
            "colorbar": {
             "outlinewidth": 0,
             "ticks": ""
            },
            "type": "contourcarpet"
           }
          ],
          "heatmap": [
           {
            "colorbar": {
             "outlinewidth": 0,
             "ticks": ""
            },
            "colorscale": [
             [
              0,
              "#0d0887"
             ],
             [
              0.1111111111111111,
              "#46039f"
             ],
             [
              0.2222222222222222,
              "#7201a8"
             ],
             [
              0.3333333333333333,
              "#9c179e"
             ],
             [
              0.4444444444444444,
              "#bd3786"
             ],
             [
              0.5555555555555556,
              "#d8576b"
             ],
             [
              0.6666666666666666,
              "#ed7953"
             ],
             [
              0.7777777777777778,
              "#fb9f3a"
             ],
             [
              0.8888888888888888,
              "#fdca26"
             ],
             [
              1,
              "#f0f921"
             ]
            ],
            "type": "heatmap"
           }
          ],
          "heatmapgl": [
           {
            "colorbar": {
             "outlinewidth": 0,
             "ticks": ""
            },
            "colorscale": [
             [
              0,
              "#0d0887"
             ],
             [
              0.1111111111111111,
              "#46039f"
             ],
             [
              0.2222222222222222,
              "#7201a8"
             ],
             [
              0.3333333333333333,
              "#9c179e"
             ],
             [
              0.4444444444444444,
              "#bd3786"
             ],
             [
              0.5555555555555556,
              "#d8576b"
             ],
             [
              0.6666666666666666,
              "#ed7953"
             ],
             [
              0.7777777777777778,
              "#fb9f3a"
             ],
             [
              0.8888888888888888,
              "#fdca26"
             ],
             [
              1,
              "#f0f921"
             ]
            ],
            "type": "heatmapgl"
           }
          ],
          "histogram": [
           {
            "marker": {
             "pattern": {
              "fillmode": "overlay",
              "size": 10,
              "solidity": 0.2
             }
            },
            "type": "histogram"
           }
          ],
          "histogram2d": [
           {
            "colorbar": {
             "outlinewidth": 0,
             "ticks": ""
            },
            "colorscale": [
             [
              0,
              "#0d0887"
             ],
             [
              0.1111111111111111,
              "#46039f"
             ],
             [
              0.2222222222222222,
              "#7201a8"
             ],
             [
              0.3333333333333333,
              "#9c179e"
             ],
             [
              0.4444444444444444,
              "#bd3786"
             ],
             [
              0.5555555555555556,
              "#d8576b"
             ],
             [
              0.6666666666666666,
              "#ed7953"
             ],
             [
              0.7777777777777778,
              "#fb9f3a"
             ],
             [
              0.8888888888888888,
              "#fdca26"
             ],
             [
              1,
              "#f0f921"
             ]
            ],
            "type": "histogram2d"
           }
          ],
          "histogram2dcontour": [
           {
            "colorbar": {
             "outlinewidth": 0,
             "ticks": ""
            },
            "colorscale": [
             [
              0,
              "#0d0887"
             ],
             [
              0.1111111111111111,
              "#46039f"
             ],
             [
              0.2222222222222222,
              "#7201a8"
             ],
             [
              0.3333333333333333,
              "#9c179e"
             ],
             [
              0.4444444444444444,
              "#bd3786"
             ],
             [
              0.5555555555555556,
              "#d8576b"
             ],
             [
              0.6666666666666666,
              "#ed7953"
             ],
             [
              0.7777777777777778,
              "#fb9f3a"
             ],
             [
              0.8888888888888888,
              "#fdca26"
             ],
             [
              1,
              "#f0f921"
             ]
            ],
            "type": "histogram2dcontour"
           }
          ],
          "mesh3d": [
           {
            "colorbar": {
             "outlinewidth": 0,
             "ticks": ""
            },
            "type": "mesh3d"
           }
          ],
          "parcoords": [
           {
            "line": {
             "colorbar": {
              "outlinewidth": 0,
              "ticks": ""
             }
            },
            "type": "parcoords"
           }
          ],
          "pie": [
           {
            "automargin": true,
            "type": "pie"
           }
          ],
          "scatter": [
           {
            "fillpattern": {
             "fillmode": "overlay",
             "size": 10,
             "solidity": 0.2
            },
            "type": "scatter"
           }
          ],
          "scatter3d": [
           {
            "line": {
             "colorbar": {
              "outlinewidth": 0,
              "ticks": ""
             }
            },
            "marker": {
             "colorbar": {
              "outlinewidth": 0,
              "ticks": ""
             }
            },
            "type": "scatter3d"
           }
          ],
          "scattercarpet": [
           {
            "marker": {
             "colorbar": {
              "outlinewidth": 0,
              "ticks": ""
             }
            },
            "type": "scattercarpet"
           }
          ],
          "scattergeo": [
           {
            "marker": {
             "colorbar": {
              "outlinewidth": 0,
              "ticks": ""
             }
            },
            "type": "scattergeo"
           }
          ],
          "scattergl": [
           {
            "marker": {
             "colorbar": {
              "outlinewidth": 0,
              "ticks": ""
             }
            },
            "type": "scattergl"
           }
          ],
          "scattermapbox": [
           {
            "marker": {
             "colorbar": {
              "outlinewidth": 0,
              "ticks": ""
             }
            },
            "type": "scattermapbox"
           }
          ],
          "scatterpolar": [
           {
            "marker": {
             "colorbar": {
              "outlinewidth": 0,
              "ticks": ""
             }
            },
            "type": "scatterpolar"
           }
          ],
          "scatterpolargl": [
           {
            "marker": {
             "colorbar": {
              "outlinewidth": 0,
              "ticks": ""
             }
            },
            "type": "scatterpolargl"
           }
          ],
          "scatterternary": [
           {
            "marker": {
             "colorbar": {
              "outlinewidth": 0,
              "ticks": ""
             }
            },
            "type": "scatterternary"
           }
          ],
          "surface": [
           {
            "colorbar": {
             "outlinewidth": 0,
             "ticks": ""
            },
            "colorscale": [
             [
              0,
              "#0d0887"
             ],
             [
              0.1111111111111111,
              "#46039f"
             ],
             [
              0.2222222222222222,
              "#7201a8"
             ],
             [
              0.3333333333333333,
              "#9c179e"
             ],
             [
              0.4444444444444444,
              "#bd3786"
             ],
             [
              0.5555555555555556,
              "#d8576b"
             ],
             [
              0.6666666666666666,
              "#ed7953"
             ],
             [
              0.7777777777777778,
              "#fb9f3a"
             ],
             [
              0.8888888888888888,
              "#fdca26"
             ],
             [
              1,
              "#f0f921"
             ]
            ],
            "type": "surface"
           }
          ],
          "table": [
           {
            "cells": {
             "fill": {
              "color": "#EBF0F8"
             },
             "line": {
              "color": "white"
             }
            },
            "header": {
             "fill": {
              "color": "#C8D4E3"
             },
             "line": {
              "color": "white"
             }
            },
            "type": "table"
           }
          ]
         },
         "layout": {
          "annotationdefaults": {
           "arrowcolor": "#2a3f5f",
           "arrowhead": 0,
           "arrowwidth": 1
          },
          "autotypenumbers": "strict",
          "coloraxis": {
           "colorbar": {
            "outlinewidth": 0,
            "ticks": ""
           }
          },
          "colorscale": {
           "diverging": [
            [
             0,
             "#8e0152"
            ],
            [
             0.1,
             "#c51b7d"
            ],
            [
             0.2,
             "#de77ae"
            ],
            [
             0.3,
             "#f1b6da"
            ],
            [
             0.4,
             "#fde0ef"
            ],
            [
             0.5,
             "#f7f7f7"
            ],
            [
             0.6,
             "#e6f5d0"
            ],
            [
             0.7,
             "#b8e186"
            ],
            [
             0.8,
             "#7fbc41"
            ],
            [
             0.9,
             "#4d9221"
            ],
            [
             1,
             "#276419"
            ]
           ],
           "sequential": [
            [
             0,
             "#0d0887"
            ],
            [
             0.1111111111111111,
             "#46039f"
            ],
            [
             0.2222222222222222,
             "#7201a8"
            ],
            [
             0.3333333333333333,
             "#9c179e"
            ],
            [
             0.4444444444444444,
             "#bd3786"
            ],
            [
             0.5555555555555556,
             "#d8576b"
            ],
            [
             0.6666666666666666,
             "#ed7953"
            ],
            [
             0.7777777777777778,
             "#fb9f3a"
            ],
            [
             0.8888888888888888,
             "#fdca26"
            ],
            [
             1,
             "#f0f921"
            ]
           ],
           "sequentialminus": [
            [
             0,
             "#0d0887"
            ],
            [
             0.1111111111111111,
             "#46039f"
            ],
            [
             0.2222222222222222,
             "#7201a8"
            ],
            [
             0.3333333333333333,
             "#9c179e"
            ],
            [
             0.4444444444444444,
             "#bd3786"
            ],
            [
             0.5555555555555556,
             "#d8576b"
            ],
            [
             0.6666666666666666,
             "#ed7953"
            ],
            [
             0.7777777777777778,
             "#fb9f3a"
            ],
            [
             0.8888888888888888,
             "#fdca26"
            ],
            [
             1,
             "#f0f921"
            ]
           ]
          },
          "colorway": [
           "#636efa",
           "#EF553B",
           "#00cc96",
           "#ab63fa",
           "#FFA15A",
           "#19d3f3",
           "#FF6692",
           "#B6E880",
           "#FF97FF",
           "#FECB52"
          ],
          "font": {
           "color": "#2a3f5f"
          },
          "geo": {
           "bgcolor": "white",
           "lakecolor": "white",
           "landcolor": "#E5ECF6",
           "showlakes": true,
           "showland": true,
           "subunitcolor": "white"
          },
          "hoverlabel": {
           "align": "left"
          },
          "hovermode": "closest",
          "mapbox": {
           "style": "light"
          },
          "paper_bgcolor": "white",
          "plot_bgcolor": "#E5ECF6",
          "polar": {
           "angularaxis": {
            "gridcolor": "white",
            "linecolor": "white",
            "ticks": ""
           },
           "bgcolor": "#E5ECF6",
           "radialaxis": {
            "gridcolor": "white",
            "linecolor": "white",
            "ticks": ""
           }
          },
          "scene": {
           "xaxis": {
            "backgroundcolor": "#E5ECF6",
            "gridcolor": "white",
            "gridwidth": 2,
            "linecolor": "white",
            "showbackground": true,
            "ticks": "",
            "zerolinecolor": "white"
           },
           "yaxis": {
            "backgroundcolor": "#E5ECF6",
            "gridcolor": "white",
            "gridwidth": 2,
            "linecolor": "white",
            "showbackground": true,
            "ticks": "",
            "zerolinecolor": "white"
           },
           "zaxis": {
            "backgroundcolor": "#E5ECF6",
            "gridcolor": "white",
            "gridwidth": 2,
            "linecolor": "white",
            "showbackground": true,
            "ticks": "",
            "zerolinecolor": "white"
           }
          },
          "shapedefaults": {
           "line": {
            "color": "#2a3f5f"
           }
          },
          "ternary": {
           "aaxis": {
            "gridcolor": "white",
            "linecolor": "white",
            "ticks": ""
           },
           "baxis": {
            "gridcolor": "white",
            "linecolor": "white",
            "ticks": ""
           },
           "bgcolor": "#E5ECF6",
           "caxis": {
            "gridcolor": "white",
            "linecolor": "white",
            "ticks": ""
           }
          },
          "title": {
           "x": 0.05
          },
          "xaxis": {
           "automargin": true,
           "gridcolor": "white",
           "linecolor": "white",
           "ticks": "",
           "title": {
            "standoff": 15
           },
           "zerolinecolor": "white",
           "zerolinewidth": 2
          },
          "yaxis": {
           "automargin": true,
           "gridcolor": "white",
           "linecolor": "white",
           "ticks": "",
           "title": {
            "standoff": 15
           },
           "zerolinecolor": "white",
           "zerolinewidth": 2
          }
         }
        },
        "title": {
         "text": "Percent Change by Parcel ID"
        },
        "xaxis": {
         "anchor": "y",
         "domain": [
          0,
          1
         ],
         "title": {
          "text": "name"
         }
        },
        "yaxis": {
         "anchor": "x",
         "domain": [
          0,
          1
         ],
         "title": {
          "text": "Percent Change"
         }
        }
       }
      }
     },
     "metadata": {},
     "output_type": "display_data"
    }
   ],
   "source": [
    "import plotly.express as px\n",
    "\n",
    "# Ensure 'parcl_id' is treated as a categorical variable by converting to string\n",
    "hf = high_flyers.loc[high_flyers['parcl_id'].isin(s1.loc[s1['for_sale_inventory']>1000]['parcl_id'].tolist())]\n",
    "hf = pd.merge(hf, metros[['parcl_id', 'name']], on='parcl_id')\n",
    "\n",
    "# Sort the DataFrame based on 'change_since_date.percent_change'\n",
    "ts_analysis_sorted = hf.sort_values('change_since_date.percent_change')\n",
    "\n",
    "# Create an interactive bar chart\n",
    "fig = px.bar(ts_analysis_sorted, x='name', y='change_since_date.percent_change',\n",
    "             labels={'parcl_id': 'Parcel ID', 'change_since_date.percent_change': 'Percent Change'},\n",
    "             title='Percent Change by Parcel ID',\n",
    "             category_orders={'parcl_id': ts_analysis_sorted['parcl_id'].tolist()})  # This ensures the sorting order is preserved in the plot\n",
    "\n",
    "fig.show()\n"
   ]
  },
  {
   "cell_type": "code",
   "execution_count": 211,
   "metadata": {},
   "outputs": [
    {
     "data": {
      "text/html": [
       "<div>\n",
       "<style scoped>\n",
       "    .dataframe tbody tr th:only-of-type {\n",
       "        vertical-align: middle;\n",
       "    }\n",
       "\n",
       "    .dataframe tbody tr th {\n",
       "        vertical-align: top;\n",
       "    }\n",
       "\n",
       "    .dataframe thead th {\n",
       "        text-align: right;\n",
       "    }\n",
       "</style>\n",
       "<table border=\"1\" class=\"dataframe\">\n",
       "  <thead>\n",
       "    <tr style=\"text-align: right;\">\n",
       "      <th></th>\n",
       "      <th>date</th>\n",
       "      <th>parcl_id</th>\n",
       "      <th>sales</th>\n",
       "      <th>for_sale_inventory</th>\n",
       "      <th>pct_change_demand</th>\n",
       "      <th>pct_change_supply</th>\n",
       "      <th>ma_pct_change_demand</th>\n",
       "      <th>ma_pct_change_supply</th>\n",
       "      <th>test</th>\n",
       "      <th>name</th>\n",
       "      <th>demand_ratio</th>\n",
       "    </tr>\n",
       "  </thead>\n",
       "  <tbody>\n",
       "    <tr>\n",
       "      <th>0</th>\n",
       "      <td>2024-05-01</td>\n",
       "      <td>2900354</td>\n",
       "      <td>504</td>\n",
       "      <td>1862.0</td>\n",
       "      <td>-0.514451</td>\n",
       "      <td>0.386448</td>\n",
       "      <td>-0.315879</td>\n",
       "      <td>0.378819</td>\n",
       "      <td>-0.694699</td>\n",
       "      <td>Sebastian-Vero Beach, Fl</td>\n",
       "      <td>3.694444</td>\n",
       "    </tr>\n",
       "    <tr>\n",
       "      <th>1</th>\n",
       "      <td>2024-05-01</td>\n",
       "      <td>2900268</td>\n",
       "      <td>1668</td>\n",
       "      <td>5028.5</td>\n",
       "      <td>-0.339929</td>\n",
       "      <td>0.404217</td>\n",
       "      <td>-0.231927</td>\n",
       "      <td>0.398934</td>\n",
       "      <td>-0.630860</td>\n",
       "      <td>Port St. Lucie, Fl</td>\n",
       "      <td>3.014688</td>\n",
       "    </tr>\n",
       "    <tr>\n",
       "      <th>2</th>\n",
       "      <td>2024-05-01</td>\n",
       "      <td>2900021</td>\n",
       "      <td>302</td>\n",
       "      <td>1172.0</td>\n",
       "      <td>-0.382413</td>\n",
       "      <td>0.358053</td>\n",
       "      <td>-0.185886</td>\n",
       "      <td>0.443093</td>\n",
       "      <td>-0.628979</td>\n",
       "      <td>Key West, Fl</td>\n",
       "      <td>3.880795</td>\n",
       "    </tr>\n",
       "    <tr>\n",
       "      <th>3</th>\n",
       "      <td>2024-05-01</td>\n",
       "      <td>2899729</td>\n",
       "      <td>1076</td>\n",
       "      <td>3962.0</td>\n",
       "      <td>-0.321991</td>\n",
       "      <td>0.374263</td>\n",
       "      <td>-0.235234</td>\n",
       "      <td>0.356438</td>\n",
       "      <td>-0.591672</td>\n",
       "      <td>Crestview-Fort Walton Beach-Destin, Fl</td>\n",
       "      <td>3.682156</td>\n",
       "    </tr>\n",
       "    <tr>\n",
       "      <th>4</th>\n",
       "      <td>2024-05-01</td>\n",
       "      <td>2900173</td>\n",
       "      <td>2558</td>\n",
       "      <td>5771.5</td>\n",
       "      <td>-0.112114</td>\n",
       "      <td>0.365712</td>\n",
       "      <td>-0.141620</td>\n",
       "      <td>0.442202</td>\n",
       "      <td>-0.583823</td>\n",
       "      <td>Naples-Marco Island, Fl</td>\n",
       "      <td>2.256255</td>\n",
       "    </tr>\n",
       "    <tr>\n",
       "      <th>5</th>\n",
       "      <td>2024-05-01</td>\n",
       "      <td>2899748</td>\n",
       "      <td>2493</td>\n",
       "      <td>6909.0</td>\n",
       "      <td>-0.341173</td>\n",
       "      <td>0.361111</td>\n",
       "      <td>-0.217588</td>\n",
       "      <td>0.358934</td>\n",
       "      <td>-0.576522</td>\n",
       "      <td>Deltona-Daytona Beach-Ormond Beach, Fl</td>\n",
       "      <td>2.771360</td>\n",
       "    </tr>\n",
       "    <tr>\n",
       "      <th>6</th>\n",
       "      <td>2024-05-01</td>\n",
       "      <td>2900041</td>\n",
       "      <td>2235</td>\n",
       "      <td>5614.0</td>\n",
       "      <td>-0.294953</td>\n",
       "      <td>0.412682</td>\n",
       "      <td>-0.188959</td>\n",
       "      <td>0.383816</td>\n",
       "      <td>-0.572775</td>\n",
       "      <td>Lakeland-Winter Haven, Fl</td>\n",
       "      <td>2.511857</td>\n",
       "    </tr>\n",
       "    <tr>\n",
       "      <th>7</th>\n",
       "      <td>2024-05-01</td>\n",
       "      <td>2900229</td>\n",
       "      <td>2139</td>\n",
       "      <td>5070.5</td>\n",
       "      <td>-0.295918</td>\n",
       "      <td>0.409647</td>\n",
       "      <td>-0.178310</td>\n",
       "      <td>0.391494</td>\n",
       "      <td>-0.569804</td>\n",
       "      <td>Palm Bay-Melbourne-Titusville, Fl</td>\n",
       "      <td>2.370500</td>\n",
       "    </tr>\n",
       "    <tr>\n",
       "      <th>8</th>\n",
       "      <td>2024-05-01</td>\n",
       "      <td>2899822</td>\n",
       "      <td>5757</td>\n",
       "      <td>10645.0</td>\n",
       "      <td>-0.038898</td>\n",
       "      <td>0.406023</td>\n",
       "      <td>-0.047012</td>\n",
       "      <td>0.512647</td>\n",
       "      <td>-0.559659</td>\n",
       "      <td>Cape Coral-Fort Myers, Fl</td>\n",
       "      <td>1.849053</td>\n",
       "    </tr>\n",
       "    <tr>\n",
       "      <th>9</th>\n",
       "      <td>2024-05-01</td>\n",
       "      <td>2900417</td>\n",
       "      <td>9288</td>\n",
       "      <td>22462.5</td>\n",
       "      <td>-0.275451</td>\n",
       "      <td>0.406279</td>\n",
       "      <td>-0.155309</td>\n",
       "      <td>0.373752</td>\n",
       "      <td>-0.529060</td>\n",
       "      <td>Tampa-St. Petersburg-Clearwater, Fl</td>\n",
       "      <td>2.418443</td>\n",
       "    </tr>\n",
       "    <tr>\n",
       "      <th>10</th>\n",
       "      <td>2024-05-01</td>\n",
       "      <td>2899718</td>\n",
       "      <td>674</td>\n",
       "      <td>1506.0</td>\n",
       "      <td>-0.387273</td>\n",
       "      <td>0.360434</td>\n",
       "      <td>-0.182593</td>\n",
       "      <td>0.344668</td>\n",
       "      <td>-0.527262</td>\n",
       "      <td>Gainesville, Fl</td>\n",
       "      <td>2.234421</td>\n",
       "    </tr>\n",
       "    <tr>\n",
       "      <th>11</th>\n",
       "      <td>2024-05-01</td>\n",
       "      <td>2899961</td>\n",
       "      <td>905</td>\n",
       "      <td>1672.5</td>\n",
       "      <td>-0.331116</td>\n",
       "      <td>0.316929</td>\n",
       "      <td>-0.211007</td>\n",
       "      <td>0.309459</td>\n",
       "      <td>-0.520466</td>\n",
       "      <td>Homosassa Springs, Fl</td>\n",
       "      <td>1.848066</td>\n",
       "    </tr>\n",
       "    <tr>\n",
       "      <th>12</th>\n",
       "      <td>2024-05-01</td>\n",
       "      <td>2900128</td>\n",
       "      <td>13883</td>\n",
       "      <td>37757.5</td>\n",
       "      <td>-0.373426</td>\n",
       "      <td>0.331412</td>\n",
       "      <td>-0.197244</td>\n",
       "      <td>0.308461</td>\n",
       "      <td>-0.505705</td>\n",
       "      <td>Miami-Fort Lauderdale-Pompano Beach, Fl</td>\n",
       "      <td>2.719693</td>\n",
       "    </tr>\n",
       "  </tbody>\n",
       "</table>\n",
       "</div>"
      ],
      "text/plain": [
       "         date parcl_id  sales  for_sale_inventory  pct_change_demand  \\\n",
       "0  2024-05-01  2900354    504              1862.0          -0.514451   \n",
       "1  2024-05-01  2900268   1668              5028.5          -0.339929   \n",
       "2  2024-05-01  2900021    302              1172.0          -0.382413   \n",
       "3  2024-05-01  2899729   1076              3962.0          -0.321991   \n",
       "4  2024-05-01  2900173   2558              5771.5          -0.112114   \n",
       "5  2024-05-01  2899748   2493              6909.0          -0.341173   \n",
       "6  2024-05-01  2900041   2235              5614.0          -0.294953   \n",
       "7  2024-05-01  2900229   2139              5070.5          -0.295918   \n",
       "8  2024-05-01  2899822   5757             10645.0          -0.038898   \n",
       "9  2024-05-01  2900417   9288             22462.5          -0.275451   \n",
       "10 2024-05-01  2899718    674              1506.0          -0.387273   \n",
       "11 2024-05-01  2899961    905              1672.5          -0.331116   \n",
       "12 2024-05-01  2900128  13883             37757.5          -0.373426   \n",
       "\n",
       "    pct_change_supply  ma_pct_change_demand  ma_pct_change_supply      test  \\\n",
       "0            0.386448             -0.315879              0.378819 -0.694699   \n",
       "1            0.404217             -0.231927              0.398934 -0.630860   \n",
       "2            0.358053             -0.185886              0.443093 -0.628979   \n",
       "3            0.374263             -0.235234              0.356438 -0.591672   \n",
       "4            0.365712             -0.141620              0.442202 -0.583823   \n",
       "5            0.361111             -0.217588              0.358934 -0.576522   \n",
       "6            0.412682             -0.188959              0.383816 -0.572775   \n",
       "7            0.409647             -0.178310              0.391494 -0.569804   \n",
       "8            0.406023             -0.047012              0.512647 -0.559659   \n",
       "9            0.406279             -0.155309              0.373752 -0.529060   \n",
       "10           0.360434             -0.182593              0.344668 -0.527262   \n",
       "11           0.316929             -0.211007              0.309459 -0.520466   \n",
       "12           0.331412             -0.197244              0.308461 -0.505705   \n",
       "\n",
       "                                       name  demand_ratio  \n",
       "0                  Sebastian-Vero Beach, Fl      3.694444  \n",
       "1                        Port St. Lucie, Fl      3.014688  \n",
       "2                              Key West, Fl      3.880795  \n",
       "3    Crestview-Fort Walton Beach-Destin, Fl      3.682156  \n",
       "4                   Naples-Marco Island, Fl      2.256255  \n",
       "5    Deltona-Daytona Beach-Ormond Beach, Fl      2.771360  \n",
       "6                 Lakeland-Winter Haven, Fl      2.511857  \n",
       "7         Palm Bay-Melbourne-Titusville, Fl      2.370500  \n",
       "8                 Cape Coral-Fort Myers, Fl      1.849053  \n",
       "9       Tampa-St. Petersburg-Clearwater, Fl      2.418443  \n",
       "10                          Gainesville, Fl      2.234421  \n",
       "11                    Homosassa Springs, Fl      1.848066  \n",
       "12  Miami-Fort Lauderdale-Pompano Beach, Fl      2.719693  "
      ]
     },
     "execution_count": 211,
     "metadata": {},
     "output_type": "execute_result"
    }
   ],
   "source": [
    "hf_ids = hf['parcl_id'].unique().tolist()\n",
    "zzz = skew.loc[skew['parcl_id'].isin(hf_ids)].merge(metros[['parcl_id', 'name']], on='parcl_id')\n",
    "zzz['demand_ratio'] = zzz['for_sale_inventory']/zzz['sales']\n",
    "zzz"
   ]
  },
  {
   "cell_type": "code",
   "execution_count": 210,
   "metadata": {},
   "outputs": [
    {
     "data": {
      "text/html": [
       "<div>\n",
       "<style scoped>\n",
       "    .dataframe tbody tr th:only-of-type {\n",
       "        vertical-align: middle;\n",
       "    }\n",
       "\n",
       "    .dataframe tbody tr th {\n",
       "        vertical-align: top;\n",
       "    }\n",
       "\n",
       "    .dataframe thead th {\n",
       "        text-align: right;\n",
       "    }\n",
       "</style>\n",
       "<table border=\"1\" class=\"dataframe\">\n",
       "  <thead>\n",
       "    <tr style=\"text-align: right;\">\n",
       "      <th></th>\n",
       "      <th>date</th>\n",
       "      <th>parcl_id</th>\n",
       "      <th>for_sale_inventory</th>\n",
       "      <th>pct_price_drops</th>\n",
       "      <th>ma_price_changes</th>\n",
       "      <th>name</th>\n",
       "    </tr>\n",
       "  </thead>\n",
       "  <tbody>\n",
       "    <tr>\n",
       "      <th>0</th>\n",
       "      <td>2024-05-01</td>\n",
       "      <td>2899822</td>\n",
       "      <td>10645.0</td>\n",
       "      <td>0.489137</td>\n",
       "      <td>0.492953</td>\n",
       "      <td>Cape Coral-Fort Myers, Fl</td>\n",
       "    </tr>\n",
       "    <tr>\n",
       "      <th>1</th>\n",
       "      <td>2024-05-01</td>\n",
       "      <td>2900173</td>\n",
       "      <td>5771.5</td>\n",
       "      <td>0.499319</td>\n",
       "      <td>0.488775</td>\n",
       "      <td>Naples-Marco Island, Fl</td>\n",
       "    </tr>\n",
       "    <tr>\n",
       "      <th>2</th>\n",
       "      <td>2024-05-01</td>\n",
       "      <td>2900417</td>\n",
       "      <td>22462.5</td>\n",
       "      <td>0.451207</td>\n",
       "      <td>0.446891</td>\n",
       "      <td>Tampa-St. Petersburg-Clearwater, Fl</td>\n",
       "    </tr>\n",
       "    <tr>\n",
       "      <th>3</th>\n",
       "      <td>2024-05-01</td>\n",
       "      <td>2900021</td>\n",
       "      <td>1172.0</td>\n",
       "      <td>0.445785</td>\n",
       "      <td>0.441276</td>\n",
       "      <td>Key West, Fl</td>\n",
       "    </tr>\n",
       "    <tr>\n",
       "      <th>4</th>\n",
       "      <td>2024-05-01</td>\n",
       "      <td>2900268</td>\n",
       "      <td>5028.5</td>\n",
       "      <td>0.413966</td>\n",
       "      <td>0.422495</td>\n",
       "      <td>Port St. Lucie, Fl</td>\n",
       "    </tr>\n",
       "    <tr>\n",
       "      <th>5</th>\n",
       "      <td>2024-05-01</td>\n",
       "      <td>2900354</td>\n",
       "      <td>1862.0</td>\n",
       "      <td>0.413841</td>\n",
       "      <td>0.412941</td>\n",
       "      <td>Sebastian-Vero Beach, Fl</td>\n",
       "    </tr>\n",
       "    <tr>\n",
       "      <th>6</th>\n",
       "      <td>2024-05-01</td>\n",
       "      <td>2900229</td>\n",
       "      <td>5070.5</td>\n",
       "      <td>0.403343</td>\n",
       "      <td>0.404745</td>\n",
       "      <td>Palm Bay-Melbourne-Titusville, Fl</td>\n",
       "    </tr>\n",
       "    <tr>\n",
       "      <th>7</th>\n",
       "      <td>2024-05-01</td>\n",
       "      <td>2899748</td>\n",
       "      <td>6909.0</td>\n",
       "      <td>0.423590</td>\n",
       "      <td>0.404032</td>\n",
       "      <td>Deltona-Daytona Beach-Ormond Beach, Fl</td>\n",
       "    </tr>\n",
       "    <tr>\n",
       "      <th>8</th>\n",
       "      <td>2024-05-01</td>\n",
       "      <td>2900041</td>\n",
       "      <td>5614.0</td>\n",
       "      <td>0.394804</td>\n",
       "      <td>0.400548</td>\n",
       "      <td>Lakeland-Winter Haven, Fl</td>\n",
       "    </tr>\n",
       "    <tr>\n",
       "      <th>9</th>\n",
       "      <td>2024-05-01</td>\n",
       "      <td>2899961</td>\n",
       "      <td>1672.5</td>\n",
       "      <td>0.393461</td>\n",
       "      <td>0.393875</td>\n",
       "      <td>Homosassa Springs, Fl</td>\n",
       "    </tr>\n",
       "    <tr>\n",
       "      <th>10</th>\n",
       "      <td>2024-05-01</td>\n",
       "      <td>2900128</td>\n",
       "      <td>37757.5</td>\n",
       "      <td>0.387065</td>\n",
       "      <td>0.385161</td>\n",
       "      <td>Miami-Fort Lauderdale-Pompano Beach, Fl</td>\n",
       "    </tr>\n",
       "    <tr>\n",
       "      <th>11</th>\n",
       "      <td>2024-05-01</td>\n",
       "      <td>2899729</td>\n",
       "      <td>3962.0</td>\n",
       "      <td>0.419667</td>\n",
       "      <td>0.376005</td>\n",
       "      <td>Crestview-Fort Walton Beach-Destin, Fl</td>\n",
       "    </tr>\n",
       "    <tr>\n",
       "      <th>12</th>\n",
       "      <td>2024-05-01</td>\n",
       "      <td>2899718</td>\n",
       "      <td>1506.0</td>\n",
       "      <td>0.381778</td>\n",
       "      <td>0.359432</td>\n",
       "      <td>Gainesville, Fl</td>\n",
       "    </tr>\n",
       "  </tbody>\n",
       "</table>\n",
       "</div>"
      ],
      "text/plain": [
       "         date  parcl_id  for_sale_inventory  pct_price_drops  \\\n",
       "0  2024-05-01   2899822             10645.0         0.489137   \n",
       "1  2024-05-01   2900173              5771.5         0.499319   \n",
       "2  2024-05-01   2900417             22462.5         0.451207   \n",
       "3  2024-05-01   2900021              1172.0         0.445785   \n",
       "4  2024-05-01   2900268              5028.5         0.413966   \n",
       "5  2024-05-01   2900354              1862.0         0.413841   \n",
       "6  2024-05-01   2900229              5070.5         0.403343   \n",
       "7  2024-05-01   2899748              6909.0         0.423590   \n",
       "8  2024-05-01   2900041              5614.0         0.394804   \n",
       "9  2024-05-01   2899961              1672.5         0.393461   \n",
       "10 2024-05-01   2900128             37757.5         0.387065   \n",
       "11 2024-05-01   2899729              3962.0         0.419667   \n",
       "12 2024-05-01   2899718              1506.0         0.381778   \n",
       "\n",
       "    ma_price_changes                                     name  \n",
       "0           0.492953                Cape Coral-Fort Myers, Fl  \n",
       "1           0.488775                  Naples-Marco Island, Fl  \n",
       "2           0.446891      Tampa-St. Petersburg-Clearwater, Fl  \n",
       "3           0.441276                             Key West, Fl  \n",
       "4           0.422495                       Port St. Lucie, Fl  \n",
       "5           0.412941                 Sebastian-Vero Beach, Fl  \n",
       "6           0.404745        Palm Bay-Melbourne-Titusville, Fl  \n",
       "7           0.404032   Deltona-Daytona Beach-Ormond Beach, Fl  \n",
       "8           0.400548                Lakeland-Winter Haven, Fl  \n",
       "9           0.393875                    Homosassa Springs, Fl  \n",
       "10          0.385161  Miami-Fort Lauderdale-Pompano Beach, Fl  \n",
       "11          0.376005   Crestview-Fort Walton Beach-Destin, Fl  \n",
       "12          0.359432                          Gainesville, Fl  "
      ]
     },
     "execution_count": 210,
     "metadata": {},
     "output_type": "execute_result"
    }
   ],
   "source": [
    "zz = s1.loc[s1['parcl_id'].isin(hf_ids)].merge(metros[['parcl_id', 'name']], on='parcl_id')\n",
    "zz.loc[zz['for_sale_inventory']>1000]"
   ]
  },
  {
   "cell_type": "code",
   "execution_count": 189,
   "metadata": {},
   "outputs": [
    {
     "data": {
      "text/plain": [
       "<Axes: xlabel='date'>"
      ]
     },
     "execution_count": 189,
     "metadata": {},
     "output_type": "execute_result"
    },
    {
     "data": {
      "image/png": "[encoded data removed]",
      "text/plain": [
       "<Figure size 640x480 with 1 Axes>"
      ]
     },
     "metadata": {},
     "output_type": "display_data"
    }
   ],
   "source": [
    "ex_id = 2899729\n",
    "supply_monthly.loc[supply_monthly['parcl_id']==ex_id].plot(x='date', y='pct_price_drops')"
   ]
  },
  {
   "cell_type": "code",
   "execution_count": 190,
   "metadata": {},
   "outputs": [
    {
     "data": {
      "text/plain": [
       "<Axes: xlabel='date'>"
      ]
     },
     "execution_count": 190,
     "metadata": {},
     "output_type": "execute_result"
    },
    {
     "data": {
      "image/png": "[encoded data removed]",
      "text/plain": [
       "<Figure size 640x480 with 1 Axes>"
      ]
     },
     "metadata": {},
     "output_type": "display_data"
    }
   ],
   "source": [
    "tmp.loc[tmp['parcl_id']==ex_id].plot(x='date', y='pct_change_supply')"
   ]
  },
  {
   "cell_type": "code",
   "execution_count": 191,
   "metadata": {},
   "outputs": [
    {
     "data": {
      "text/plain": [
       "<Axes: xlabel='date'>"
      ]
     },
     "execution_count": 191,
     "metadata": {},
     "output_type": "execute_result"
    },
    {
     "data": {
      "image/png": "[encoded data removed]",
      "text/plain": [
       "<Figure size 640x480 with 1 Axes>"
      ]
     },
     "metadata": {},
     "output_type": "display_data"
    }
   ],
   "source": [
    "tmp.loc[tmp['parcl_id']==ex_id].plot(x='date', y='pct_change_demand')"
   ]
  },
  {
   "cell_type": "markdown",
   "metadata": {},
   "source": [
    "### 5. Chart the Data"
   ]
  },
  {
   "cell_type": "code",
   "execution_count": 192,
   "metadata": {},
   "outputs": [
    {
     "data": {
      "application/vnd.plotly.v1+json": {
       "config": {
        "plotlyServerURL": "https://plot.ly"
       },
       "data": [
        {
         "line": {
          "color": "red",
          "width": 3
         },
         "marker": {
          "color": "red",
          "line": {
           "color": "red",
           "width": 1
          },
          "size": 8
         },
         "mode": "lines+markers",
         "name": "YoY Change in Demand",
         "type": "scatter",
         "x": [
          "2024-01-01T00:00:00",
          "2024-02-01T00:00:00",
          "2024-03-01T00:00:00",
          "2024-04-01T00:00:00",
          "2024-05-01T00:00:00"
         ],
         "y": [
          2.55,
          7.06,
          -29.65,
          -8.72,
          -32.2
         ]
        },
        {
         "line": {
          "color": "green",
          "width": 3
         },
         "marker": {
          "color": "green",
          "line": {
           "color": "green",
           "width": 1
          },
          "size": 8
         },
         "mode": "lines+markers",
         "name": "YoY Change in Supply",
         "type": "scatter",
         "x": [
          "2024-01-01T00:00:00",
          "2024-02-01T00:00:00",
          "2024-03-01T00:00:00",
          "2024-04-01T00:00:00",
          "2024-05-01T00:00:00"
         ],
         "y": [
          69.86,
          43.98,
          34.91,
          34.6,
          37.43
         ]
        }
       ],
       "layout": {
        "font": {
         "color": "#ffffff"
        },
        "height": 675,
        "hoverlabel": {
         "bgcolor": "#2f2f2f",
         "font": {
          "color": "#ffffff",
          "family": "Arial",
          "size": 12
         }
        },
        "hovermode": "x unified",
        "images": [
         {
          "sizex": 0.15,
          "sizey": 0.15,
          "source": "https://parcllabs-assets.s3.amazonaws.com/powered-by-parcllabs-api-logo-white+(1).svg",
          "x": 1,
          "xanchor": "right",
          "xref": "paper",
          "y": 0,
          "yanchor": "bottom",
          "yref": "paper"
         }
        ],
        "legend": {
         "bgcolor": "rgba(0, 0, 0, 0)",
         "font": {
          "color": "#ffffff",
          "family": "Arial",
          "size": 12
         },
         "x": 0.01,
         "xanchor": "left",
         "y": 0.98,
         "yanchor": "top"
        },
        "margin": {
         "b": 40,
         "l": 40,
         "r": 40,
         "t": 80
        },
        "paper_bgcolor": "#1e1e1e",
        "plot_bgcolor": "#1e1e1e",
        "template": {
         "data": {
          "bar": [
           {
            "error_x": {
             "color": "#2a3f5f"
            },
            "error_y": {
             "color": "#2a3f5f"
            },
            "marker": {
             "line": {
              "color": "#E5ECF6",
              "width": 0.5
             },
             "pattern": {
              "fillmode": "overlay",
              "size": 10,
              "solidity": 0.2
             }
            },
            "type": "bar"
           }
          ],
          "barpolar": [
           {
            "marker": {
             "line": {
              "color": "#E5ECF6",
              "width": 0.5
             },
             "pattern": {
              "fillmode": "overlay",
              "size": 10,
              "solidity": 0.2
             }
            },
            "type": "barpolar"
           }
          ],
          "carpet": [
           {
            "aaxis": {
             "endlinecolor": "#2a3f5f",
             "gridcolor": "white",
             "linecolor": "white",
             "minorgridcolor": "white",
             "startlinecolor": "#2a3f5f"
            },
            "baxis": {
             "endlinecolor": "#2a3f5f",
             "gridcolor": "white",
             "linecolor": "white",
             "minorgridcolor": "white",
             "startlinecolor": "#2a3f5f"
            },
            "type": "carpet"
           }
          ],
          "choropleth": [
           {
            "colorbar": {
             "outlinewidth": 0,
             "ticks": ""
            },
            "type": "choropleth"
           }
          ],
          "contour": [
           {
            "colorbar": {
             "outlinewidth": 0,
             "ticks": ""
            },
            "colorscale": [
             [
              0,
              "#0d0887"
             ],
             [
              0.1111111111111111,
              "#46039f"
             ],
             [
              0.2222222222222222,
              "#7201a8"
             ],
             [
              0.3333333333333333,
              "#9c179e"
             ],
             [
              0.4444444444444444,
              "#bd3786"
             ],
             [
              0.5555555555555556,
              "#d8576b"
             ],
             [
              0.6666666666666666,
              "#ed7953"
             ],
             [
              0.7777777777777778,
              "#fb9f3a"
             ],
             [
              0.8888888888888888,
              "#fdca26"
             ],
             [
              1,
              "#f0f921"
             ]
            ],
            "type": "contour"
           }
          ],
          "contourcarpet": [
           {
            "colorbar": {
             "outlinewidth": 0,
             "ticks": ""
            },
            "type": "contourcarpet"
           }
          ],
          "heatmap": [
           {
            "colorbar": {
             "outlinewidth": 0,
             "ticks": ""
            },
            "colorscale": [
             [
              0,
              "#0d0887"
             ],
             [
              0.1111111111111111,
              "#46039f"
             ],
             [
              0.2222222222222222,
              "#7201a8"
             ],
             [
              0.3333333333333333,
              "#9c179e"
             ],
             [
              0.4444444444444444,
              "#bd3786"
             ],
             [
              0.5555555555555556,
              "#d8576b"
             ],
             [
              0.6666666666666666,
              "#ed7953"
             ],
             [
              0.7777777777777778,
              "#fb9f3a"
             ],
             [
              0.8888888888888888,
              "#fdca26"
             ],
             [
              1,
              "#f0f921"
             ]
            ],
            "type": "heatmap"
           }
          ],
          "heatmapgl": [
           {
            "colorbar": {
             "outlinewidth": 0,
             "ticks": ""
            },
            "colorscale": [
             [
              0,
              "#0d0887"
             ],
             [
              0.1111111111111111,
              "#46039f"
             ],
             [
              0.2222222222222222,
              "#7201a8"
             ],
             [
              0.3333333333333333,
              "#9c179e"
             ],
             [
              0.4444444444444444,
              "#bd3786"
             ],
             [
              0.5555555555555556,
              "#d8576b"
             ],
             [
              0.6666666666666666,
              "#ed7953"
             ],
             [
              0.7777777777777778,
              "#fb9f3a"
             ],
             [
              0.8888888888888888,
              "#fdca26"
             ],
             [
              1,
              "#f0f921"
             ]
            ],
            "type": "heatmapgl"
           }
          ],
          "histogram": [
           {
            "marker": {
             "pattern": {
              "fillmode": "overlay",
              "size": 10,
              "solidity": 0.2
             }
            },
            "type": "histogram"
           }
          ],
          "histogram2d": [
           {
            "colorbar": {
             "outlinewidth": 0,
             "ticks": ""
            },
            "colorscale": [
             [
              0,
              "#0d0887"
             ],
             [
              0.1111111111111111,
              "#46039f"
             ],
             [
              0.2222222222222222,
              "#7201a8"
             ],
             [
              0.3333333333333333,
              "#9c179e"
             ],
             [
              0.4444444444444444,
              "#bd3786"
             ],
             [
              0.5555555555555556,
              "#d8576b"
             ],
             [
              0.6666666666666666,
              "#ed7953"
             ],
             [
              0.7777777777777778,
              "#fb9f3a"
             ],
             [
              0.8888888888888888,
              "#fdca26"
             ],
             [
              1,
              "#f0f921"
             ]
            ],
            "type": "histogram2d"
           }
          ],
          "histogram2dcontour": [
           {
            "colorbar": {
             "outlinewidth": 0,
             "ticks": ""
            },
            "colorscale": [
             [
              0,
              "#0d0887"
             ],
             [
              0.1111111111111111,
              "#46039f"
             ],
             [
              0.2222222222222222,
              "#7201a8"
             ],
             [
              0.3333333333333333,
              "#9c179e"
             ],
             [
              0.4444444444444444,
              "#bd3786"
             ],
             [
              0.5555555555555556,
              "#d8576b"
             ],
             [
              0.6666666666666666,
              "#ed7953"
             ],
             [
              0.7777777777777778,
              "#fb9f3a"
             ],
             [
              0.8888888888888888,
              "#fdca26"
             ],
             [
              1,
              "#f0f921"
             ]
            ],
            "type": "histogram2dcontour"
           }
          ],
          "mesh3d": [
           {
            "colorbar": {
             "outlinewidth": 0,
             "ticks": ""
            },
            "type": "mesh3d"
           }
          ],
          "parcoords": [
           {
            "line": {
             "colorbar": {
              "outlinewidth": 0,
              "ticks": ""
             }
            },
            "type": "parcoords"
           }
          ],
          "pie": [
           {
            "automargin": true,
            "type": "pie"
           }
          ],
          "scatter": [
           {
            "fillpattern": {
             "fillmode": "overlay",
             "size": 10,
             "solidity": 0.2
            },
            "type": "scatter"
           }
          ],
          "scatter3d": [
           {
            "line": {
             "colorbar": {
              "outlinewidth": 0,
              "ticks": ""
             }
            },
            "marker": {
             "colorbar": {
              "outlinewidth": 0,
              "ticks": ""
             }
            },
            "type": "scatter3d"
           }
          ],
          "scattercarpet": [
           {
            "marker": {
             "colorbar": {
              "outlinewidth": 0,
              "ticks": ""
             }
            },
            "type": "scattercarpet"
           }
          ],
          "scattergeo": [
           {
            "marker": {
             "colorbar": {
              "outlinewidth": 0,
              "ticks": ""
             }
            },
            "type": "scattergeo"
           }
          ],
          "scattergl": [
           {
            "marker": {
             "colorbar": {
              "outlinewidth": 0,
              "ticks": ""
             }
            },
            "type": "scattergl"
           }
          ],
          "scattermapbox": [
           {
            "marker": {
             "colorbar": {
              "outlinewidth": 0,
              "ticks": ""
             }
            },
            "type": "scattermapbox"
           }
          ],
          "scatterpolar": [
           {
            "marker": {
             "colorbar": {
              "outlinewidth": 0,
              "ticks": ""
             }
            },
            "type": "scatterpolar"
           }
          ],
          "scatterpolargl": [
           {
            "marker": {
             "colorbar": {
              "outlinewidth": 0,
              "ticks": ""
             }
            },
            "type": "scatterpolargl"
           }
          ],
          "scatterternary": [
           {
            "marker": {
             "colorbar": {
              "outlinewidth": 0,
              "ticks": ""
             }
            },
            "type": "scatterternary"
           }
          ],
          "surface": [
           {
            "colorbar": {
             "outlinewidth": 0,
             "ticks": ""
            },
            "colorscale": [
             [
              0,
              "#0d0887"
             ],
             [
              0.1111111111111111,
              "#46039f"
             ],
             [
              0.2222222222222222,
              "#7201a8"
             ],
             [
              0.3333333333333333,
              "#9c179e"
             ],
             [
              0.4444444444444444,
              "#bd3786"
             ],
             [
              0.5555555555555556,
              "#d8576b"
             ],
             [
              0.6666666666666666,
              "#ed7953"
             ],
             [
              0.7777777777777778,
              "#fb9f3a"
             ],
             [
              0.8888888888888888,
              "#fdca26"
             ],
             [
              1,
              "#f0f921"
             ]
            ],
            "type": "surface"
           }
          ],
          "table": [
           {
            "cells": {
             "fill": {
              "color": "#EBF0F8"
             },
             "line": {
              "color": "white"
             }
            },
            "header": {
             "fill": {
              "color": "#C8D4E3"
             },
             "line": {
              "color": "white"
             }
            },
            "type": "table"
           }
          ]
         },
         "layout": {
          "annotationdefaults": {
           "arrowcolor": "#2a3f5f",
           "arrowhead": 0,
           "arrowwidth": 1
          },
          "autotypenumbers": "strict",
          "coloraxis": {
           "colorbar": {
            "outlinewidth": 0,
            "ticks": ""
           }
          },
          "colorscale": {
           "diverging": [
            [
             0,
             "#8e0152"
            ],
            [
             0.1,
             "#c51b7d"
            ],
            [
             0.2,
             "#de77ae"
            ],
            [
             0.3,
             "#f1b6da"
            ],
            [
             0.4,
             "#fde0ef"
            ],
            [
             0.5,
             "#f7f7f7"
            ],
            [
             0.6,
             "#e6f5d0"
            ],
            [
             0.7,
             "#b8e186"
            ],
            [
             0.8,
             "#7fbc41"
            ],
            [
             0.9,
             "#4d9221"
            ],
            [
             1,
             "#276419"
            ]
           ],
           "sequential": [
            [
             0,
             "#0d0887"
            ],
            [
             0.1111111111111111,
             "#46039f"
            ],
            [
             0.2222222222222222,
             "#7201a8"
            ],
            [
             0.3333333333333333,
             "#9c179e"
            ],
            [
             0.4444444444444444,
             "#bd3786"
            ],
            [
             0.5555555555555556,
             "#d8576b"
            ],
            [
             0.6666666666666666,
             "#ed7953"
            ],
            [
             0.7777777777777778,
             "#fb9f3a"
            ],
            [
             0.8888888888888888,
             "#fdca26"
            ],
            [
             1,
             "#f0f921"
            ]
           ],
           "sequentialminus": [
            [
             0,
             "#0d0887"
            ],
            [
             0.1111111111111111,
             "#46039f"
            ],
            [
             0.2222222222222222,
             "#7201a8"
            ],
            [
             0.3333333333333333,
             "#9c179e"
            ],
            [
             0.4444444444444444,
             "#bd3786"
            ],
            [
             0.5555555555555556,
             "#d8576b"
            ],
            [
             0.6666666666666666,
             "#ed7953"
            ],
            [
             0.7777777777777778,
             "#fb9f3a"
            ],
            [
             0.8888888888888888,
             "#fdca26"
            ],
            [
             1,
             "#f0f921"
            ]
           ]
          },
          "colorway": [
           "#636efa",
           "#EF553B",
           "#00cc96",
           "#ab63fa",
           "#FFA15A",
           "#19d3f3",
           "#FF6692",
           "#B6E880",
           "#FF97FF",
           "#FECB52"
          ],
          "font": {
           "color": "#2a3f5f"
          },
          "geo": {
           "bgcolor": "white",
           "lakecolor": "white",
           "landcolor": "#E5ECF6",
           "showlakes": true,
           "showland": true,
           "subunitcolor": "white"
          },
          "hoverlabel": {
           "align": "left"
          },
          "hovermode": "closest",
          "mapbox": {
           "style": "light"
          },
          "paper_bgcolor": "white",
          "plot_bgcolor": "#E5ECF6",
          "polar": {
           "angularaxis": {
            "gridcolor": "white",
            "linecolor": "white",
            "ticks": ""
           },
           "bgcolor": "#E5ECF6",
           "radialaxis": {
            "gridcolor": "white",
            "linecolor": "white",
            "ticks": ""
           }
          },
          "scene": {
           "xaxis": {
            "backgroundcolor": "#E5ECF6",
            "gridcolor": "white",
            "gridwidth": 2,
            "linecolor": "white",
            "showbackground": true,
            "ticks": "",
            "zerolinecolor": "white"
           },
           "yaxis": {
            "backgroundcolor": "#E5ECF6",
            "gridcolor": "white",
            "gridwidth": 2,
            "linecolor": "white",
            "showbackground": true,
            "ticks": "",
            "zerolinecolor": "white"
           },
           "zaxis": {
            "backgroundcolor": "#E5ECF6",
            "gridcolor": "white",
            "gridwidth": 2,
            "linecolor": "white",
            "showbackground": true,
            "ticks": "",
            "zerolinecolor": "white"
           }
          },
          "shapedefaults": {
           "line": {
            "color": "#2a3f5f"
           }
          },
          "ternary": {
           "aaxis": {
            "gridcolor": "white",
            "linecolor": "white",
            "ticks": ""
           },
           "baxis": {
            "gridcolor": "white",
            "linecolor": "white",
            "ticks": ""
           },
           "bgcolor": "#E5ECF6",
           "caxis": {
            "gridcolor": "white",
            "linecolor": "white",
            "ticks": ""
           }
          },
          "title": {
           "x": 0.05
          },
          "xaxis": {
           "automargin": true,
           "gridcolor": "white",
           "linecolor": "white",
           "ticks": "",
           "title": {
            "standoff": 15
           },
           "zerolinecolor": "white",
           "zerolinewidth": 2
          },
          "yaxis": {
           "automargin": true,
           "gridcolor": "white",
           "linecolor": "white",
           "ticks": "",
           "title": {
            "standoff": 15
           },
           "zerolinecolor": "white",
           "zerolinewidth": 2
          }
         }
        },
        "title": {
         "font": {
          "color": "#ffffff",
          "family": "Arial Black",
          "size": 24
         },
         "text": "Crestview-Fort Walton Beach-Destin, Fl Metro: YoY Changes in Supply & Demand",
         "x": 0.5,
         "xanchor": "center",
         "y": 0.95,
         "yanchor": "top"
        },
        "width": 1200,
        "xaxis": {
         "gridcolor": "rgba(255, 255, 255, 0.2)",
         "gridwidth": 0.5,
         "linecolor": "rgba(255, 255, 255, 0.7)",
         "linewidth": 1,
         "showgrid": true,
         "tickangle": -45,
         "tickfont": {
          "color": "#ffffff",
          "family": "Arial",
          "size": 12
         },
         "title": {
          "font": {
           "color": "#ffffff",
           "family": "Arial Black",
           "size": 14
          },
          "text": ""
         }
        },
        "yaxis": {
         "gridcolor": "rgba(255, 255, 255, 0.2)",
         "gridwidth": 0.5,
         "linecolor": "rgba(255, 255, 255, 0.7)",
         "linewidth": 1,
         "showgrid": true,
         "tickfont": {
          "color": "#ffffff",
          "family": "Arial",
          "size": 12
         },
         "tickprefix": "",
         "ticksuffix": "%",
         "title": {
          "font": {
           "color": "#ffffff",
           "family": "Arial Black",
           "size": 14
          },
          "text": "Year-over-Year % Change"
         },
         "zeroline": false
        }
       }
      }
     },
     "metadata": {},
     "output_type": "display_data"
    }
   ],
   "source": [
    "import pandas as pd\n",
    "import plotly.graph_objects as go\n",
    "\n",
    "from parcllabs.beta.charting.styling import default_style_config\n",
    "from parcllabs.beta.charting.utils import create_labs_logo_dict, save_figure, sort_chart_data\n",
    "\n",
    "def create_yoy_comparison_chart(\n",
    "    title: str,\n",
    "    line1_data: pd.DataFrame,\n",
    "    line1_series: str,\n",
    "    line2_data: pd.DataFrame,\n",
    "    line2_series: str,\n",
    "    save_path: str = None,\n",
    "    yaxis_title: str = 'Year-over-Year % Change',\n",
    "    height=675,\n",
    "    width=1200,\n",
    "    style_config=default_style_config\n",
    "):\n",
    "    fig = go.Figure()\n",
    "\n",
    "    # Sort the data\n",
    "    line1_data = sort_chart_data(line1_data)\n",
    "    line2_data = sort_chart_data(line2_data)\n",
    "\n",
    "    # Multiply the series values by 100 and round to 2 decimal points\n",
    "    line1_data[line1_series] = (line1_data[line1_series] * 100).round(2)\n",
    "    line2_data[line2_series] = (line2_data[line2_series] * 100).round(2)\n",
    "\n",
    "    # Add the first line series\n",
    "    fig.add_trace(go.Scatter(\n",
    "        x=line1_data['date'],\n",
    "        y=line1_data[line1_series],\n",
    "        mode='lines+markers',\n",
    "        line=dict(width=style_config['line_width'], color=style_config['line_color']),\n",
    "        marker=dict(size=style_config['marker_size'], color=style_config['marker_color'], line=dict(width=1, color=style_config['marker_outline_color'])),\n",
    "        name=line1_series\n",
    "    ))\n",
    "\n",
    "    # Add the second line series\n",
    "    fig.add_trace(go.Scatter(\n",
    "        x=line2_data['date'],\n",
    "        y=line2_data[line2_series],\n",
    "        mode='lines+markers',\n",
    "        line=dict(width=style_config['line_width'], color=style_config['line2_color']),\n",
    "        marker=dict(size=style_config['marker_size'], color=style_config['marker2_color'], line=dict(width=1, color=style_config['marker2_outline_color'])),\n",
    "        name=line2_series\n",
    "    ))\n",
    "\n",
    "    fig.update_layout(\n",
    "        margin=dict(l=40, r=40, t=80, b=40),\n",
    "        height=height,\n",
    "        width=width,\n",
    "        title={\n",
    "            'text': title,\n",
    "            'y': 0.95,\n",
    "            'x': 0.5,\n",
    "            'xanchor': 'center',\n",
    "            'yanchor': 'top',\n",
    "            'font': style_config['title_font'],\n",
    "        },\n",
    "        plot_bgcolor=style_config['background_color'],\n",
    "        paper_bgcolor=style_config['background_color'],\n",
    "        font=dict(color=style_config['font_color']),\n",
    "        xaxis=dict(\n",
    "            title_text='',\n",
    "            showgrid=style_config['showgrid'],\n",
    "            gridwidth=style_config['gridwidth'],\n",
    "            gridcolor=style_config['grid_color'],\n",
    "            tickangle=style_config['tick_angle'],\n",
    "            tickfont=style_config['axis_font'],\n",
    "            linecolor=style_config['line_color_axis'],\n",
    "            linewidth=style_config['linewidth'],\n",
    "            titlefont=style_config['title_font_axis']\n",
    "        ),\n",
    "        yaxis=dict(\n",
    "            title_text=yaxis_title,\n",
    "            showgrid=style_config['showgrid'],\n",
    "            gridwidth=style_config['gridwidth'],\n",
    "            gridcolor=style_config['grid_color'],\n",
    "            tickfont=style_config['axis_font'],\n",
    "            tickprefix='',\n",
    "            ticksuffix='%',\n",
    "            zeroline=False,\n",
    "            linecolor=style_config['line_color_axis'],\n",
    "            linewidth=style_config['linewidth'],\n",
    "            titlefont=style_config['title_font_axis']\n",
    "        ),\n",
    "        hovermode='x unified',\n",
    "        hoverlabel=dict(\n",
    "            bgcolor=style_config['hover_bg_color'],\n",
    "            font_size=style_config['hover_font_size'],\n",
    "            font_family=style_config['hover_font_family'],\n",
    "            font_color=style_config['hover_font_color']\n",
    "        ),\n",
    "        legend=dict(\n",
    "            x=style_config['legend_x'],\n",
    "            y=style_config['legend_y'],\n",
    "            xanchor=style_config['legend_xanchor'],\n",
    "            yanchor=style_config['legend_yanchor'],\n",
    "            font=style_config['legend_font'],\n",
    "            bgcolor='rgba(0, 0, 0, 0)'\n",
    "        ),\n",
    "    )\n",
    "\n",
    "    fig.add_layout_image(\n",
    "        create_labs_logo_dict()\n",
    "    )\n",
    "\n",
    "    save_figure(fig, save_path=save_path, width=width, height=height)\n",
    "\n",
    "    fig.show()\n",
    "\n",
    "# Update style configuration for second line\n",
    "default_style_config['line2_color'] = 'green'\n",
    "default_style_config['marker2_color'] = 'green'\n",
    "default_style_config['marker2_outline_color'] = 'green'\n",
    "default_style_config['line_color'] = 'red'\n",
    "default_style_config['marker_color'] = 'red'\n",
    "default_style_config['marker_outline_color'] = 'red'\n",
    "\n",
    "chart_data = tmp.loc[tmp['parcl_id']==ex_id].dropna()\n",
    "chart_data = chart_data.loc[chart_data['date']>='1/1/2024']\n",
    "name = metros.loc[metros['parcl_id']==ex_id]['name'].values[0]\n",
    "\n",
    "chart_data = chart_data.rename(columns={'pct_change_demand': 'YoY Change in Demand', 'pct_change_supply': 'YoY Change in Supply'})\n",
    "\n",
    "# Create the chart\n",
    "create_yoy_comparison_chart(\n",
    "    title=f'{name} Metro: YoY Changes in Supply & Demand',\n",
    "    line1_data=chart_data,\n",
    "    line1_series='YoY Change in Demand',\n",
    "    line2_data=chart_data,\n",
    "    line2_series='YoY Change in Supply',\n",
    "    save_path=None,\n",
    "    style_config=default_style_config\n",
    ")\n"
   ]
  },
  {
   "cell_type": "code",
   "execution_count": null,
   "metadata": {},
   "outputs": [],
   "source": []
  }
 ],
 "metadata": {
  "kernelspec": {
   "display_name": "gpt-spec-mjMMhwjp",
   "language": "python",
   "name": "python3"
  },
  "language_info": {
   "codemirror_mode": {
    "name": "ipython",
    "version": 3
   },
   "file_extension": ".py",
   "mimetype": "text/x-python",
   "name": "python",
   "nbconvert_exporter": "python",
   "pygments_lexer": "ipython3",
   "version": "3.11.9"
  }
 },
 "nbformat": 4,
 "nbformat_minor": 2
}
