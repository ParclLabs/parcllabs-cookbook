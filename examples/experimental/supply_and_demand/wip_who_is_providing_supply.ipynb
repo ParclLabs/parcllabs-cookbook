{
 "cells": [
  {
   "cell_type": "markdown",
   "metadata": {},
   "source": [
    "<center>\n",
    "<h1>Welcome to the Lab 🥼🧪</h1>\n",
    "</center>\n",
    "\n",
    "## How to identify who is providing the actual supply to housing markets?\n",
    "\n",
    "We will analyze if supply is coming from investors, new construction or existing homeowners. We will breakout investors into portfolio sizes and analyze the impact of each group on the housing market.\n",
    "\n",
    "#### Need help getting started?\n",
    "\n",
    "As a reminder, you can get your Parcl Labs API key [here](https://dashboard.parcllabs.com/signup) to follow along.\n",
    "\n",
    "To run this immediately, you can use Google Colab. Remember, you must set your `PARCL_LABS_API_KEY`.\n",
    "\n",
    "Run in collab --> [![Open in Colab](https://colab.research.google.com/assets/colab-badge.svg)](https://colab.research.google.com/github/ParclLabs/parcllabs-cookbook/blob/main/examples/experimental/supply_and_demand/who_is_providing_supply.ipynb)"
   ]
  },
  {
   "cell_type": "code",
   "execution_count": null,
   "metadata": {},
   "outputs": [],
   "source": [
    "# if needed, install and/or upgrade to the latest verison of the Parcl Labs Python library\n",
    "%pip install --upgrade parcllabs nbformat"
   ]
  },
  {
   "cell_type": "code",
   "execution_count": 4,
   "metadata": {},
   "outputs": [],
   "source": [
    "import os\n",
    "import pandas as pd\n",
    "import plotly.express as px\n",
    "from datetime import datetime\n",
    "import plotly.graph_objects as go\n",
    "from parcllabs import ParclLabsClient\n",
    "from parcllabs.beta.charting.styling import SIZE_CONFIG\n",
    "from parcllabs.beta.ts_stats import TimeSeriesAnalysis\n",
    "from parcllabs.beta.charting.utils import create_labs_logo_dict\n",
    "from parcllabs.beta.charting.default_charts import create_dual_axis_chart\n",
    "from parcllabs.beta.charting.styling import default_style_config as style_config\n",
    "\n",
    "\n",
    "client = ParclLabsClient(\n",
    "    api_key=os.environ.get('PARCL_LABS_API_KEY', \"<your Parcl Labs API key if not set as environment variable>\"), \n",
    "    limit=200 # set global default limit, will be handy when retrieving the market data itself\n",
    ")"
   ]
  },
  {
   "cell_type": "code",
   "execution_count": 7,
   "metadata": {},
   "outputs": [],
   "source": [
    "# STEP 1. Retrieve Markets\n",
    "\n",
    "# lets analyze the top 100 markets comped against US average\n",
    "\n",
    "metros = client.search.markets.retrieve(\n",
    "    sort_by='TOTAL_POPULATION',\n",
    "    sort_order='DESC',\n",
    "    location_type='CBSA',\n",
    "    limit=100 # get top 300 metros based on population\n",
    ")\n",
    "\n",
    "# add us national to comp markets against national numbers\n",
    "us = client.search.markets.retrieve(\n",
    "    query='United States',\n",
    "    limit=1\n",
    ")\n",
    "\n",
    "markets = pd.concat([metros, us])\n",
    "market_parcl_ids = markets['parcl_id'].tolist()"
   ]
  },
  {
   "cell_type": "code",
   "execution_count": null,
   "metadata": {},
   "outputs": [],
   "source": []
  },
  {
   "cell_type": "code",
   "execution_count": 9,
   "metadata": {},
   "outputs": [
    {
     "name": "stdout",
     "output_type": "stream",
     "text": [
      "|████████████████████████████████████████| 101/101 [100%] in 8.2s (12.38/s) \n",
      "|████████████████████████████████████████| 101/101 [100%] in 7.5s (13.51/s) \n",
      "|████████████████████████████████████████| 101/101 [100%] in 7.7s (13.04/s) \n",
      "|████████████████████████████████████████| 101/101 [100%] in 7.6s (13.29/s) \n"
     ]
    }
   ],
   "source": [
    "start_date = '2022-09-01'\n",
    "\n",
    "supply = client.for_sale_market_metrics.for_sale_inventory.retrieve(\n",
    "    parcl_ids=market_parcl_ids,\n",
    "    start_date=start_date\n",
    ")\n",
    "\n",
    "new_listings = client.market_metrics.housing_event_counts.retrieve(\n",
    "    parcl_ids=market_parcl_ids,\n",
    "    start_date=start_date\n",
    ")\n",
    "\n",
    "# we will need to secure data from 3 separate endpoints\n",
    "nc_listings = client.new_construction_metrics.housing_event_counts.retrieve(\n",
    "    parcl_ids=market_parcl_ids,\n",
    "    start_date=start_date\n",
    ")\n",
    "\n",
    "investor_listings = client.investor_metrics.housing_event_counts.retrieve(\n",
    "    parcl_ids=market_parcl_ids,\n",
    "    start_date=start_date\n",
    ")"
   ]
  },
  {
   "cell_type": "code",
   "execution_count": null,
   "metadata": {},
   "outputs": [],
   "source": []
  },
  {
   "cell_type": "code",
   "execution_count": 52,
   "metadata": {},
   "outputs": [
    {
     "name": "stdout",
     "output_type": "stream",
     "text": [
      "|████████████████████████████████████████| 101/101 [100%] in 8.5s (11.82/s) \n"
     ]
    },
    {
     "data": {
      "text/html": [
       "<div>\n",
       "<style scoped>\n",
       "    .dataframe tbody tr th:only-of-type {\n",
       "        vertical-align: middle;\n",
       "    }\n",
       "\n",
       "    .dataframe tbody tr th {\n",
       "        vertical-align: top;\n",
       "    }\n",
       "\n",
       "    .dataframe thead th {\n",
       "        text-align: right;\n",
       "    }\n",
       "</style>\n",
       "<table border=\"1\" class=\"dataframe\">\n",
       "  <thead>\n",
       "    <tr style=\"text-align: right;\">\n",
       "      <th></th>\n",
       "      <th>date</th>\n",
       "      <th>count</th>\n",
       "      <th>pct_ownership</th>\n",
       "      <th>parcl_id</th>\n",
       "    </tr>\n",
       "  </thead>\n",
       "  <tbody>\n",
       "    <tr>\n",
       "      <th>0</th>\n",
       "      <td>2024-05-01</td>\n",
       "      <td>352299</td>\n",
       "      <td>6.47</td>\n",
       "      <td>2900187</td>\n",
       "    </tr>\n",
       "    <tr>\n",
       "      <th>1</th>\n",
       "      <td>2024-04-01</td>\n",
       "      <td>351312</td>\n",
       "      <td>6.45</td>\n",
       "      <td>2900187</td>\n",
       "    </tr>\n",
       "    <tr>\n",
       "      <th>2</th>\n",
       "      <td>2024-03-01</td>\n",
       "      <td>350113</td>\n",
       "      <td>6.43</td>\n",
       "      <td>2900187</td>\n",
       "    </tr>\n",
       "    <tr>\n",
       "      <th>3</th>\n",
       "      <td>2024-02-01</td>\n",
       "      <td>348896</td>\n",
       "      <td>6.41</td>\n",
       "      <td>2900187</td>\n",
       "    </tr>\n",
       "    <tr>\n",
       "      <th>4</th>\n",
       "      <td>2024-01-01</td>\n",
       "      <td>347824</td>\n",
       "      <td>6.39</td>\n",
       "      <td>2900187</td>\n",
       "    </tr>\n",
       "    <tr>\n",
       "      <th>...</th>\n",
       "      <td>...</td>\n",
       "      <td>...</td>\n",
       "      <td>...</td>\n",
       "      <td>...</td>\n",
       "    </tr>\n",
       "    <tr>\n",
       "      <th>2116</th>\n",
       "      <td>2023-01-01</td>\n",
       "      <td>9924827</td>\n",
       "      <td>7.93</td>\n",
       "      <td>5826765</td>\n",
       "    </tr>\n",
       "    <tr>\n",
       "      <th>2117</th>\n",
       "      <td>2022-12-01</td>\n",
       "      <td>9922237</td>\n",
       "      <td>7.93</td>\n",
       "      <td>5826765</td>\n",
       "    </tr>\n",
       "    <tr>\n",
       "      <th>2118</th>\n",
       "      <td>2022-11-01</td>\n",
       "      <td>9921070</td>\n",
       "      <td>7.93</td>\n",
       "      <td>5826765</td>\n",
       "    </tr>\n",
       "    <tr>\n",
       "      <th>2119</th>\n",
       "      <td>2022-10-01</td>\n",
       "      <td>9920807</td>\n",
       "      <td>7.93</td>\n",
       "      <td>5826765</td>\n",
       "    </tr>\n",
       "    <tr>\n",
       "      <th>2120</th>\n",
       "      <td>2022-09-01</td>\n",
       "      <td>9919792</td>\n",
       "      <td>7.93</td>\n",
       "      <td>5826765</td>\n",
       "    </tr>\n",
       "  </tbody>\n",
       "</table>\n",
       "<p>2121 rows × 4 columns</p>\n",
       "</div>"
      ],
      "text/plain": [
       "           date    count  pct_ownership parcl_id\n",
       "0    2024-05-01   352299           6.47  2900187\n",
       "1    2024-04-01   351312           6.45  2900187\n",
       "2    2024-03-01   350113           6.43  2900187\n",
       "3    2024-02-01   348896           6.41  2900187\n",
       "4    2024-01-01   347824           6.39  2900187\n",
       "...         ...      ...            ...      ...\n",
       "2116 2023-01-01  9924827           7.93  5826765\n",
       "2117 2022-12-01  9922237           7.93  5826765\n",
       "2118 2022-11-01  9921070           7.93  5826765\n",
       "2119 2022-10-01  9920807           7.93  5826765\n",
       "2120 2022-09-01  9919792           7.93  5826765\n",
       "\n",
       "[2121 rows x 4 columns]"
      ]
     },
     "execution_count": 52,
     "metadata": {},
     "output_type": "execute_result"
    }
   ],
   "source": [
    "# get investor ownership\n",
    "investor_ownership = client.investor_metrics.housing_stock_ownership.retrieve(\n",
    "    parcl_ids=market_parcl_ids,\n",
    "    start_date=start_date\n",
    ")\n",
    "\n",
    "investor_ownership"
   ]
  },
  {
   "cell_type": "code",
   "execution_count": 23,
   "metadata": {},
   "outputs": [],
   "source": [
    "# need to index supply monthly as its currently a weekly series\n",
    "supply['date_month'] = supply['date'].dt.to_period('M').dt.to_timestamp()\n",
    "max_weekly_date = supply.groupby(['parcl_id', 'date_month'])['date'].max().reset_index()\n",
    "supply = supply.merge(max_weekly_date, on=['parcl_id', 'date_month', 'date'], how='inner') # inner join will get us the last week of each month\n",
    "supply = supply.rename(columns={\n",
    "    'date': 'date_arch',\n",
    "    'date_month': 'date'\n",
    "})\n",
    "supply = supply[['date', 'parcl_id', 'for_sale_inventory']]"
   ]
  },
  {
   "cell_type": "code",
   "execution_count": 12,
   "metadata": {},
   "outputs": [],
   "source": [
    "cols = ['date', 'parcl_id', 'new_listings_for_sale']\n",
    "nl = new_listings[cols]\n",
    "ncl = nc_listings[cols]\n",
    "nil = investor_listings[cols]"
   ]
  },
  {
   "cell_type": "code",
   "execution_count": 59,
   "metadata": {},
   "outputs": [],
   "source": [
    "ncl = ncl.rename(columns={\n",
    "    'new_listings_for_sale': 'new_construction_listings_for_sale' \n",
    "})\n",
    "\n",
    "nil = nil.rename(columns={\n",
    "    'new_listings_for_sale': 'new_investor_listings_for_sale'\n",
    "})\n",
    "\n",
    "data = pd.merge(nl, ncl, on=['date', 'parcl_id'])\n",
    "data = data.merge(nil, on=['date', 'parcl_id'])\n",
    "data = pd.merge(markets[['parcl_id', 'name']], data, on='parcl_id')\n",
    "data = data.merge(supply, on=['parcl_id', 'date'])\n",
    "data = data.merge(investor_ownership[['date', 'parcl_id', 'pct_ownership']], on=['date', 'parcl_id'])\n",
    "data['pct_ownership'] = data['pct_ownership']/100"
   ]
  },
  {
   "cell_type": "code",
   "execution_count": 60,
   "metadata": {},
   "outputs": [
    {
     "data": {
      "text/html": [
       "<div>\n",
       "<style scoped>\n",
       "    .dataframe tbody tr th:only-of-type {\n",
       "        vertical-align: middle;\n",
       "    }\n",
       "\n",
       "    .dataframe tbody tr th {\n",
       "        vertical-align: top;\n",
       "    }\n",
       "\n",
       "    .dataframe thead th {\n",
       "        text-align: right;\n",
       "    }\n",
       "</style>\n",
       "<table border=\"1\" class=\"dataframe\">\n",
       "  <thead>\n",
       "    <tr style=\"text-align: right;\">\n",
       "      <th></th>\n",
       "      <th>parcl_id</th>\n",
       "      <th>name</th>\n",
       "      <th>date</th>\n",
       "      <th>new_listings_for_sale</th>\n",
       "      <th>new_construction_listings_for_sale</th>\n",
       "      <th>new_investor_listings_for_sale</th>\n",
       "      <th>for_sale_inventory</th>\n",
       "      <th>pct_ownership</th>\n",
       "    </tr>\n",
       "  </thead>\n",
       "  <tbody>\n",
       "    <tr>\n",
       "      <th>0</th>\n",
       "      <td>2900187</td>\n",
       "      <td>New York-Newark-Jersey City, Ny-Nj-Pa</td>\n",
       "      <td>2024-05-01</td>\n",
       "      <td>14754</td>\n",
       "      <td>848</td>\n",
       "      <td>1439</td>\n",
       "      <td>27642</td>\n",
       "      <td>0.0647</td>\n",
       "    </tr>\n",
       "    <tr>\n",
       "      <th>1</th>\n",
       "      <td>2900187</td>\n",
       "      <td>New York-Newark-Jersey City, Ny-Nj-Pa</td>\n",
       "      <td>2024-04-01</td>\n",
       "      <td>14475</td>\n",
       "      <td>728</td>\n",
       "      <td>1347</td>\n",
       "      <td>26328</td>\n",
       "      <td>0.0645</td>\n",
       "    </tr>\n",
       "    <tr>\n",
       "      <th>2</th>\n",
       "      <td>2900187</td>\n",
       "      <td>New York-Newark-Jersey City, Ny-Nj-Pa</td>\n",
       "      <td>2024-03-01</td>\n",
       "      <td>13290</td>\n",
       "      <td>768</td>\n",
       "      <td>1308</td>\n",
       "      <td>24960</td>\n",
       "      <td>0.0643</td>\n",
       "    </tr>\n",
       "    <tr>\n",
       "      <th>3</th>\n",
       "      <td>2900187</td>\n",
       "      <td>New York-Newark-Jersey City, Ny-Nj-Pa</td>\n",
       "      <td>2024-02-01</td>\n",
       "      <td>12080</td>\n",
       "      <td>808</td>\n",
       "      <td>1233</td>\n",
       "      <td>22714</td>\n",
       "      <td>0.0641</td>\n",
       "    </tr>\n",
       "    <tr>\n",
       "      <th>4</th>\n",
       "      <td>2900187</td>\n",
       "      <td>New York-Newark-Jersey City, Ny-Nj-Pa</td>\n",
       "      <td>2024-01-01</td>\n",
       "      <td>11417</td>\n",
       "      <td>786</td>\n",
       "      <td>1203</td>\n",
       "      <td>18649</td>\n",
       "      <td>0.0639</td>\n",
       "    </tr>\n",
       "  </tbody>\n",
       "</table>\n",
       "</div>"
      ],
      "text/plain": [
       "  parcl_id                                   name       date  \\\n",
       "0  2900187  New York-Newark-Jersey City, Ny-Nj-Pa 2024-05-01   \n",
       "1  2900187  New York-Newark-Jersey City, Ny-Nj-Pa 2024-04-01   \n",
       "2  2900187  New York-Newark-Jersey City, Ny-Nj-Pa 2024-03-01   \n",
       "3  2900187  New York-Newark-Jersey City, Ny-Nj-Pa 2024-02-01   \n",
       "4  2900187  New York-Newark-Jersey City, Ny-Nj-Pa 2024-01-01   \n",
       "\n",
       "   new_listings_for_sale  new_construction_listings_for_sale  \\\n",
       "0                  14754                                 848   \n",
       "1                  14475                                 728   \n",
       "2                  13290                                 768   \n",
       "3                  12080                                 808   \n",
       "4                  11417                                 786   \n",
       "\n",
       "   new_investor_listings_for_sale  for_sale_inventory  pct_ownership  \n",
       "0                            1439               27642         0.0647  \n",
       "1                            1347               26328         0.0645  \n",
       "2                            1308               24960         0.0643  \n",
       "3                            1233               22714         0.0641  \n",
       "4                            1203               18649         0.0639  "
      ]
     },
     "execution_count": 60,
     "metadata": {},
     "output_type": "execute_result"
    }
   ],
   "source": [
    "data.head()"
   ]
  },
  {
   "cell_type": "code",
   "execution_count": 61,
   "metadata": {},
   "outputs": [],
   "source": [
    "data['pct_new_listings_of_all'] = data['new_listings_for_sale']/data['for_sale_inventory']\n",
    "data['pct_new_construction_listings_of_new'] = data['new_construction_listings_for_sale']/data['new_listings_for_sale']\n",
    "data['pct_new_investor_listings_of_new'] = data['new_investor_listings_for_sale'] / data['new_listings_for_sale']\n",
    "data['pct_new_construction_listings_of_all'] = data['new_construction_listings_for_sale']/data['for_sale_inventory']\n",
    "data['pct_new_investor_listings_of_all'] = data['new_investor_listings_for_sale']/data['for_sale_inventory']\n",
    "data['ownership_to_list_skew_new_listings'] = data['pct_new_investor_listings_of_new'] - data['pct_ownership']\n",
    "data['ownership_to_list_skew_of_all'] = data['pct_new_investor_listings_of_all'] - data['pct_ownership']"
   ]
  },
  {
   "cell_type": "code",
   "execution_count": 64,
   "metadata": {},
   "outputs": [
    {
     "data": {
      "text/html": [
       "<div>\n",
       "<style scoped>\n",
       "    .dataframe tbody tr th:only-of-type {\n",
       "        vertical-align: middle;\n",
       "    }\n",
       "\n",
       "    .dataframe tbody tr th {\n",
       "        vertical-align: top;\n",
       "    }\n",
       "\n",
       "    .dataframe thead th {\n",
       "        text-align: right;\n",
       "    }\n",
       "</style>\n",
       "<table border=\"1\" class=\"dataframe\">\n",
       "  <thead>\n",
       "    <tr style=\"text-align: right;\">\n",
       "      <th></th>\n",
       "      <th>parcl_id</th>\n",
       "      <th>name</th>\n",
       "      <th>date</th>\n",
       "      <th>new_listings_for_sale</th>\n",
       "      <th>new_construction_listings_for_sale</th>\n",
       "      <th>new_investor_listings_for_sale</th>\n",
       "      <th>for_sale_inventory</th>\n",
       "      <th>pct_ownership</th>\n",
       "      <th>pct_new_listings_of_all</th>\n",
       "      <th>pct_new_construction_listings_of_new</th>\n",
       "      <th>pct_new_investor_listings_of_new</th>\n",
       "      <th>pct_new_construction_listings_of_all</th>\n",
       "      <th>pct_new_investor_listings_of_all</th>\n",
       "      <th>ownership_to_list_skew_new_listings</th>\n",
       "      <th>ownership_to_list_skew_of_all</th>\n",
       "    </tr>\n",
       "  </thead>\n",
       "  <tbody>\n",
       "    <tr>\n",
       "      <th>1071</th>\n",
       "      <td>2900301</td>\n",
       "      <td>Rochester, Ny</td>\n",
       "      <td>2024-05-01</td>\n",
       "      <td>3057</td>\n",
       "      <td>121</td>\n",
       "      <td>399</td>\n",
       "      <td>2678</td>\n",
       "      <td>0.0560</td>\n",
       "      <td>1.141524</td>\n",
       "      <td>0.039581</td>\n",
       "      <td>0.130520</td>\n",
       "      <td>0.045183</td>\n",
       "      <td>0.148992</td>\n",
       "      <td>0.074520</td>\n",
       "      <td>0.092992</td>\n",
       "    </tr>\n",
       "    <tr>\n",
       "      <th>903</th>\n",
       "      <td>2900292</td>\n",
       "      <td>Richmond, Va</td>\n",
       "      <td>2024-05-01</td>\n",
       "      <td>2139</td>\n",
       "      <td>184</td>\n",
       "      <td>236</td>\n",
       "      <td>3219</td>\n",
       "      <td>0.0442</td>\n",
       "      <td>0.664492</td>\n",
       "      <td>0.086022</td>\n",
       "      <td>0.110332</td>\n",
       "      <td>0.057161</td>\n",
       "      <td>0.073315</td>\n",
       "      <td>0.066132</td>\n",
       "      <td>0.029115</td>\n",
       "    </tr>\n",
       "    <tr>\n",
       "      <th>756</th>\n",
       "      <td>2900462</td>\n",
       "      <td>Virginia Beach-Norfolk-Newport News, Va-Nc</td>\n",
       "      <td>2024-05-01</td>\n",
       "      <td>2682</td>\n",
       "      <td>135</td>\n",
       "      <td>307</td>\n",
       "      <td>4775</td>\n",
       "      <td>0.0499</td>\n",
       "      <td>0.561675</td>\n",
       "      <td>0.050336</td>\n",
       "      <td>0.114467</td>\n",
       "      <td>0.028272</td>\n",
       "      <td>0.064293</td>\n",
       "      <td>0.064567</td>\n",
       "      <td>0.014393</td>\n",
       "    </tr>\n",
       "    <tr>\n",
       "      <th>420</th>\n",
       "      <td>2900321</td>\n",
       "      <td>St. Louis, Mo-Il</td>\n",
       "      <td>2024-05-01</td>\n",
       "      <td>4673</td>\n",
       "      <td>96</td>\n",
       "      <td>847</td>\n",
       "      <td>8313</td>\n",
       "      <td>0.1179</td>\n",
       "      <td>0.562132</td>\n",
       "      <td>0.020544</td>\n",
       "      <td>0.181254</td>\n",
       "      <td>0.011548</td>\n",
       "      <td>0.101889</td>\n",
       "      <td>0.063354</td>\n",
       "      <td>-0.016011</td>\n",
       "    </tr>\n",
       "    <tr>\n",
       "      <th>1281</th>\n",
       "      <td>2887291</td>\n",
       "      <td>Bakersfield, Ca</td>\n",
       "      <td>2024-05-01</td>\n",
       "      <td>1202</td>\n",
       "      <td>32</td>\n",
       "      <td>207</td>\n",
       "      <td>2071</td>\n",
       "      <td>0.1090</td>\n",
       "      <td>0.580396</td>\n",
       "      <td>0.026622</td>\n",
       "      <td>0.172213</td>\n",
       "      <td>0.015451</td>\n",
       "      <td>0.099952</td>\n",
       "      <td>0.063213</td>\n",
       "      <td>-0.009048</td>\n",
       "    </tr>\n",
       "    <tr>\n",
       "      <th>1953</th>\n",
       "      <td>2900429</td>\n",
       "      <td>Toledo, Oh</td>\n",
       "      <td>2024-05-01</td>\n",
       "      <td>1010</td>\n",
       "      <td>26</td>\n",
       "      <td>155</td>\n",
       "      <td>1479</td>\n",
       "      <td>0.0916</td>\n",
       "      <td>0.682894</td>\n",
       "      <td>0.025743</td>\n",
       "      <td>0.153465</td>\n",
       "      <td>0.017579</td>\n",
       "      <td>0.104801</td>\n",
       "      <td>0.061865</td>\n",
       "      <td>0.013201</td>\n",
       "    </tr>\n",
       "    <tr>\n",
       "      <th>1995</th>\n",
       "      <td>2900229</td>\n",
       "      <td>Palm Bay-Melbourne-Titusville, Fl</td>\n",
       "      <td>2024-05-01</td>\n",
       "      <td>2117</td>\n",
       "      <td>114</td>\n",
       "      <td>354</td>\n",
       "      <td>4928</td>\n",
       "      <td>0.1076</td>\n",
       "      <td>0.429586</td>\n",
       "      <td>0.053850</td>\n",
       "      <td>0.167218</td>\n",
       "      <td>0.023133</td>\n",
       "      <td>0.071834</td>\n",
       "      <td>0.059618</td>\n",
       "      <td>-0.035766</td>\n",
       "    </tr>\n",
       "    <tr>\n",
       "      <th>1596</th>\n",
       "      <td>2899822</td>\n",
       "      <td>Cape Coral-Fort Myers, Fl</td>\n",
       "      <td>2024-05-01</td>\n",
       "      <td>3496</td>\n",
       "      <td>239</td>\n",
       "      <td>738</td>\n",
       "      <td>10354</td>\n",
       "      <td>0.1526</td>\n",
       "      <td>0.337647</td>\n",
       "      <td>0.068364</td>\n",
       "      <td>0.211098</td>\n",
       "      <td>0.023083</td>\n",
       "      <td>0.071277</td>\n",
       "      <td>0.058498</td>\n",
       "      <td>-0.081323</td>\n",
       "    </tr>\n",
       "    <tr>\n",
       "      <th>1722</th>\n",
       "      <td>2899854</td>\n",
       "      <td>Akron, Oh</td>\n",
       "      <td>2024-05-01</td>\n",
       "      <td>868</td>\n",
       "      <td>14</td>\n",
       "      <td>133</td>\n",
       "      <td>1232</td>\n",
       "      <td>0.0955</td>\n",
       "      <td>0.704545</td>\n",
       "      <td>0.016129</td>\n",
       "      <td>0.153226</td>\n",
       "      <td>0.011364</td>\n",
       "      <td>0.107955</td>\n",
       "      <td>0.057726</td>\n",
       "      <td>0.012455</td>\n",
       "    </tr>\n",
       "    <tr>\n",
       "      <th>693</th>\n",
       "      <td>2899654</td>\n",
       "      <td>Cleveland-Elyria, Oh</td>\n",
       "      <td>2024-05-01</td>\n",
       "      <td>3069</td>\n",
       "      <td>66</td>\n",
       "      <td>447</td>\n",
       "      <td>4611</td>\n",
       "      <td>0.0882</td>\n",
       "      <td>0.665582</td>\n",
       "      <td>0.021505</td>\n",
       "      <td>0.145650</td>\n",
       "      <td>0.014314</td>\n",
       "      <td>0.096942</td>\n",
       "      <td>0.057450</td>\n",
       "      <td>0.008742</td>\n",
       "    </tr>\n",
       "    <tr>\n",
       "      <th>126</th>\n",
       "      <td>2900244</td>\n",
       "      <td>Philadelphia-Camden-Wilmington, Pa-Nj-De-Md</td>\n",
       "      <td>2024-05-01</td>\n",
       "      <td>8815</td>\n",
       "      <td>264</td>\n",
       "      <td>1014</td>\n",
       "      <td>15125</td>\n",
       "      <td>0.0596</td>\n",
       "      <td>0.582810</td>\n",
       "      <td>0.029949</td>\n",
       "      <td>0.115031</td>\n",
       "      <td>0.017455</td>\n",
       "      <td>0.067041</td>\n",
       "      <td>0.055431</td>\n",
       "      <td>0.007441</td>\n",
       "    </tr>\n",
       "    <tr>\n",
       "      <th>1029</th>\n",
       "      <td>2899611</td>\n",
       "      <td>Birmingham-Hoover, Al</td>\n",
       "      <td>2024-05-01</td>\n",
       "      <td>2187</td>\n",
       "      <td>186</td>\n",
       "      <td>239</td>\n",
       "      <td>4316</td>\n",
       "      <td>0.0608</td>\n",
       "      <td>0.506719</td>\n",
       "      <td>0.085048</td>\n",
       "      <td>0.109282</td>\n",
       "      <td>0.043095</td>\n",
       "      <td>0.055375</td>\n",
       "      <td>0.048482</td>\n",
       "      <td>-0.005425</td>\n",
       "    </tr>\n",
       "    <tr>\n",
       "      <th>42</th>\n",
       "      <td>2899845</td>\n",
       "      <td>Chicago-Naperville-Elgin, Il-In-Wi</td>\n",
       "      <td>2024-05-01</td>\n",
       "      <td>14009</td>\n",
       "      <td>475</td>\n",
       "      <td>2238</td>\n",
       "      <td>20310</td>\n",
       "      <td>0.1128</td>\n",
       "      <td>0.689759</td>\n",
       "      <td>0.033907</td>\n",
       "      <td>0.159754</td>\n",
       "      <td>0.023387</td>\n",
       "      <td>0.110192</td>\n",
       "      <td>0.046954</td>\n",
       "      <td>-0.002608</td>\n",
       "    </tr>\n",
       "    <tr>\n",
       "      <th>1428</th>\n",
       "      <td>2899867</td>\n",
       "      <td>Allentown-Bethlehem-Easton, Pa-Nj</td>\n",
       "      <td>2024-05-01</td>\n",
       "      <td>1138</td>\n",
       "      <td>62</td>\n",
       "      <td>103</td>\n",
       "      <td>1762</td>\n",
       "      <td>0.0454</td>\n",
       "      <td>0.645857</td>\n",
       "      <td>0.054482</td>\n",
       "      <td>0.090510</td>\n",
       "      <td>0.035187</td>\n",
       "      <td>0.058456</td>\n",
       "      <td>0.045110</td>\n",
       "      <td>0.013056</td>\n",
       "    </tr>\n",
       "    <tr>\n",
       "      <th>483</th>\n",
       "      <td>2900331</td>\n",
       "      <td>San Antonio-New Braunfels, Tx</td>\n",
       "      <td>2024-05-01</td>\n",
       "      <td>5256</td>\n",
       "      <td>737</td>\n",
       "      <td>514</td>\n",
       "      <td>12981</td>\n",
       "      <td>0.0543</td>\n",
       "      <td>0.404899</td>\n",
       "      <td>0.140221</td>\n",
       "      <td>0.097793</td>\n",
       "      <td>0.056775</td>\n",
       "      <td>0.039596</td>\n",
       "      <td>0.043493</td>\n",
       "      <td>-0.014704</td>\n",
       "    </tr>\n",
       "    <tr>\n",
       "      <th>1785</th>\n",
       "      <td>2900391</td>\n",
       "      <td>Springfield, Ma</td>\n",
       "      <td>2024-05-01</td>\n",
       "      <td>915</td>\n",
       "      <td>73</td>\n",
       "      <td>73</td>\n",
       "      <td>1344</td>\n",
       "      <td>0.0365</td>\n",
       "      <td>0.680804</td>\n",
       "      <td>0.079781</td>\n",
       "      <td>0.079781</td>\n",
       "      <td>0.054315</td>\n",
       "      <td>0.054315</td>\n",
       "      <td>0.043281</td>\n",
       "      <td>0.017815</td>\n",
       "    </tr>\n",
       "    <tr>\n",
       "      <th>1491</th>\n",
       "      <td>2899666</td>\n",
       "      <td>Columbia, Sc</td>\n",
       "      <td>2024-05-01</td>\n",
       "      <td>1551</td>\n",
       "      <td>169</td>\n",
       "      <td>169</td>\n",
       "      <td>3086</td>\n",
       "      <td>0.0676</td>\n",
       "      <td>0.502592</td>\n",
       "      <td>0.108962</td>\n",
       "      <td>0.108962</td>\n",
       "      <td>0.054763</td>\n",
       "      <td>0.054763</td>\n",
       "      <td>0.041362</td>\n",
       "      <td>-0.012837</td>\n",
       "    </tr>\n",
       "    <tr>\n",
       "      <th>672</th>\n",
       "      <td>2899979</td>\n",
       "      <td>Indianapolis-Carmel-Anderson, In</td>\n",
       "      <td>2024-05-01</td>\n",
       "      <td>3766</td>\n",
       "      <td>261</td>\n",
       "      <td>538</td>\n",
       "      <td>6621</td>\n",
       "      <td>0.1019</td>\n",
       "      <td>0.568796</td>\n",
       "      <td>0.069304</td>\n",
       "      <td>0.142857</td>\n",
       "      <td>0.039420</td>\n",
       "      <td>0.081257</td>\n",
       "      <td>0.040957</td>\n",
       "      <td>-0.020643</td>\n",
       "    </tr>\n",
       "    <tr>\n",
       "      <th>630</th>\n",
       "      <td>2900012</td>\n",
       "      <td>Kansas City, Mo-Ks</td>\n",
       "      <td>2024-05-01</td>\n",
       "      <td>4394</td>\n",
       "      <td>245</td>\n",
       "      <td>581</td>\n",
       "      <td>7711</td>\n",
       "      <td>0.0929</td>\n",
       "      <td>0.569835</td>\n",
       "      <td>0.055758</td>\n",
       "      <td>0.132226</td>\n",
       "      <td>0.031773</td>\n",
       "      <td>0.075347</td>\n",
       "      <td>0.039326</td>\n",
       "      <td>-0.017553</td>\n",
       "    </tr>\n",
       "    <tr>\n",
       "      <th>1470</th>\n",
       "      <td>2900223</td>\n",
       "      <td>Oxnard-Thousand Oaks-Ventura, Ca</td>\n",
       "      <td>2024-05-01</td>\n",
       "      <td>905</td>\n",
       "      <td>16</td>\n",
       "      <td>232</td>\n",
       "      <td>1530</td>\n",
       "      <td>0.2171</td>\n",
       "      <td>0.591503</td>\n",
       "      <td>0.017680</td>\n",
       "      <td>0.256354</td>\n",
       "      <td>0.010458</td>\n",
       "      <td>0.151634</td>\n",
       "      <td>0.039254</td>\n",
       "      <td>-0.065466</td>\n",
       "    </tr>\n",
       "  </tbody>\n",
       "</table>\n",
       "</div>"
      ],
      "text/plain": [
       "     parcl_id                                         name       date  \\\n",
       "1071  2900301                                Rochester, Ny 2024-05-01   \n",
       "903   2900292                                 Richmond, Va 2024-05-01   \n",
       "756   2900462   Virginia Beach-Norfolk-Newport News, Va-Nc 2024-05-01   \n",
       "420   2900321                             St. Louis, Mo-Il 2024-05-01   \n",
       "1281  2887291                              Bakersfield, Ca 2024-05-01   \n",
       "1953  2900429                                   Toledo, Oh 2024-05-01   \n",
       "1995  2900229            Palm Bay-Melbourne-Titusville, Fl 2024-05-01   \n",
       "1596  2899822                    Cape Coral-Fort Myers, Fl 2024-05-01   \n",
       "1722  2899854                                    Akron, Oh 2024-05-01   \n",
       "693   2899654                         Cleveland-Elyria, Oh 2024-05-01   \n",
       "126   2900244  Philadelphia-Camden-Wilmington, Pa-Nj-De-Md 2024-05-01   \n",
       "1029  2899611                        Birmingham-Hoover, Al 2024-05-01   \n",
       "42    2899845           Chicago-Naperville-Elgin, Il-In-Wi 2024-05-01   \n",
       "1428  2899867            Allentown-Bethlehem-Easton, Pa-Nj 2024-05-01   \n",
       "483   2900331                San Antonio-New Braunfels, Tx 2024-05-01   \n",
       "1785  2900391                              Springfield, Ma 2024-05-01   \n",
       "1491  2899666                                 Columbia, Sc 2024-05-01   \n",
       "672   2899979             Indianapolis-Carmel-Anderson, In 2024-05-01   \n",
       "630   2900012                           Kansas City, Mo-Ks 2024-05-01   \n",
       "1470  2900223             Oxnard-Thousand Oaks-Ventura, Ca 2024-05-01   \n",
       "\n",
       "      new_listings_for_sale  new_construction_listings_for_sale  \\\n",
       "1071                   3057                                 121   \n",
       "903                    2139                                 184   \n",
       "756                    2682                                 135   \n",
       "420                    4673                                  96   \n",
       "1281                   1202                                  32   \n",
       "1953                   1010                                  26   \n",
       "1995                   2117                                 114   \n",
       "1596                   3496                                 239   \n",
       "1722                    868                                  14   \n",
       "693                    3069                                  66   \n",
       "126                    8815                                 264   \n",
       "1029                   2187                                 186   \n",
       "42                    14009                                 475   \n",
       "1428                   1138                                  62   \n",
       "483                    5256                                 737   \n",
       "1785                    915                                  73   \n",
       "1491                   1551                                 169   \n",
       "672                    3766                                 261   \n",
       "630                    4394                                 245   \n",
       "1470                    905                                  16   \n",
       "\n",
       "      new_investor_listings_for_sale  for_sale_inventory  pct_ownership  \\\n",
       "1071                             399                2678         0.0560   \n",
       "903                              236                3219         0.0442   \n",
       "756                              307                4775         0.0499   \n",
       "420                              847                8313         0.1179   \n",
       "1281                             207                2071         0.1090   \n",
       "1953                             155                1479         0.0916   \n",
       "1995                             354                4928         0.1076   \n",
       "1596                             738               10354         0.1526   \n",
       "1722                             133                1232         0.0955   \n",
       "693                              447                4611         0.0882   \n",
       "126                             1014               15125         0.0596   \n",
       "1029                             239                4316         0.0608   \n",
       "42                              2238               20310         0.1128   \n",
       "1428                             103                1762         0.0454   \n",
       "483                              514               12981         0.0543   \n",
       "1785                              73                1344         0.0365   \n",
       "1491                             169                3086         0.0676   \n",
       "672                              538                6621         0.1019   \n",
       "630                              581                7711         0.0929   \n",
       "1470                             232                1530         0.2171   \n",
       "\n",
       "      pct_new_listings_of_all  pct_new_construction_listings_of_new  \\\n",
       "1071                 1.141524                              0.039581   \n",
       "903                  0.664492                              0.086022   \n",
       "756                  0.561675                              0.050336   \n",
       "420                  0.562132                              0.020544   \n",
       "1281                 0.580396                              0.026622   \n",
       "1953                 0.682894                              0.025743   \n",
       "1995                 0.429586                              0.053850   \n",
       "1596                 0.337647                              0.068364   \n",
       "1722                 0.704545                              0.016129   \n",
       "693                  0.665582                              0.021505   \n",
       "126                  0.582810                              0.029949   \n",
       "1029                 0.506719                              0.085048   \n",
       "42                   0.689759                              0.033907   \n",
       "1428                 0.645857                              0.054482   \n",
       "483                  0.404899                              0.140221   \n",
       "1785                 0.680804                              0.079781   \n",
       "1491                 0.502592                              0.108962   \n",
       "672                  0.568796                              0.069304   \n",
       "630                  0.569835                              0.055758   \n",
       "1470                 0.591503                              0.017680   \n",
       "\n",
       "      pct_new_investor_listings_of_new  pct_new_construction_listings_of_all  \\\n",
       "1071                          0.130520                              0.045183   \n",
       "903                           0.110332                              0.057161   \n",
       "756                           0.114467                              0.028272   \n",
       "420                           0.181254                              0.011548   \n",
       "1281                          0.172213                              0.015451   \n",
       "1953                          0.153465                              0.017579   \n",
       "1995                          0.167218                              0.023133   \n",
       "1596                          0.211098                              0.023083   \n",
       "1722                          0.153226                              0.011364   \n",
       "693                           0.145650                              0.014314   \n",
       "126                           0.115031                              0.017455   \n",
       "1029                          0.109282                              0.043095   \n",
       "42                            0.159754                              0.023387   \n",
       "1428                          0.090510                              0.035187   \n",
       "483                           0.097793                              0.056775   \n",
       "1785                          0.079781                              0.054315   \n",
       "1491                          0.108962                              0.054763   \n",
       "672                           0.142857                              0.039420   \n",
       "630                           0.132226                              0.031773   \n",
       "1470                          0.256354                              0.010458   \n",
       "\n",
       "      pct_new_investor_listings_of_all  ownership_to_list_skew_new_listings  \\\n",
       "1071                          0.148992                             0.074520   \n",
       "903                           0.073315                             0.066132   \n",
       "756                           0.064293                             0.064567   \n",
       "420                           0.101889                             0.063354   \n",
       "1281                          0.099952                             0.063213   \n",
       "1953                          0.104801                             0.061865   \n",
       "1995                          0.071834                             0.059618   \n",
       "1596                          0.071277                             0.058498   \n",
       "1722                          0.107955                             0.057726   \n",
       "693                           0.096942                             0.057450   \n",
       "126                           0.067041                             0.055431   \n",
       "1029                          0.055375                             0.048482   \n",
       "42                            0.110192                             0.046954   \n",
       "1428                          0.058456                             0.045110   \n",
       "483                           0.039596                             0.043493   \n",
       "1785                          0.054315                             0.043281   \n",
       "1491                          0.054763                             0.041362   \n",
       "672                           0.081257                             0.040957   \n",
       "630                           0.075347                             0.039326   \n",
       "1470                          0.151634                             0.039254   \n",
       "\n",
       "      ownership_to_list_skew_of_all  \n",
       "1071                       0.092992  \n",
       "903                        0.029115  \n",
       "756                        0.014393  \n",
       "420                       -0.016011  \n",
       "1281                      -0.009048  \n",
       "1953                       0.013201  \n",
       "1995                      -0.035766  \n",
       "1596                      -0.081323  \n",
       "1722                       0.012455  \n",
       "693                        0.008742  \n",
       "126                        0.007441  \n",
       "1029                      -0.005425  \n",
       "42                        -0.002608  \n",
       "1428                       0.013056  \n",
       "483                       -0.014704  \n",
       "1785                       0.017815  \n",
       "1491                      -0.012837  \n",
       "672                       -0.020643  \n",
       "630                       -0.017553  \n",
       "1470                      -0.065466  "
      ]
     },
     "execution_count": 64,
     "metadata": {},
     "output_type": "execute_result"
    }
   ],
   "source": [
    "data.loc[data['date']=='5/1/2024'].sort_values('ownership_to_list_skew_new_listings', ascending=False).head(20)"
   ]
  },
  {
   "cell_type": "code",
   "execution_count": 28,
   "metadata": {},
   "outputs": [
    {
     "data": {
      "text/html": [
       "<div>\n",
       "<style scoped>\n",
       "    .dataframe tbody tr th:only-of-type {\n",
       "        vertical-align: middle;\n",
       "    }\n",
       "\n",
       "    .dataframe tbody tr th {\n",
       "        vertical-align: top;\n",
       "    }\n",
       "\n",
       "    .dataframe thead th {\n",
       "        text-align: right;\n",
       "    }\n",
       "</style>\n",
       "<table border=\"1\" class=\"dataframe\">\n",
       "  <thead>\n",
       "    <tr style=\"text-align: right;\">\n",
       "      <th></th>\n",
       "      <th>parcl_id</th>\n",
       "      <th>name</th>\n",
       "      <th>date</th>\n",
       "      <th>new_listings_for_sale</th>\n",
       "      <th>new_construction_listings_for_sale</th>\n",
       "      <th>new_investor_listings_for_sale</th>\n",
       "      <th>for_sale_inventory</th>\n",
       "      <th>pct_new_listings_of_all</th>\n",
       "      <th>pct_new_construction_listings_of_new</th>\n",
       "      <th>pct_new_investor_listings_of_new</th>\n",
       "      <th>pct_new_construction_listings_of_all</th>\n",
       "      <th>pct_new_investor_listings_of_all</th>\n",
       "    </tr>\n",
       "  </thead>\n",
       "  <tbody>\n",
       "    <tr>\n",
       "      <th>357</th>\n",
       "      <td>2900417</td>\n",
       "      <td>Tampa-St. Petersburg-Clearwater, Fl</td>\n",
       "      <td>2024-05-01</td>\n",
       "      <td>8994</td>\n",
       "      <td>395</td>\n",
       "      <td>1148</td>\n",
       "      <td>22583</td>\n",
       "      <td>0.398264</td>\n",
       "      <td>0.043918</td>\n",
       "      <td>0.127641</td>\n",
       "      <td>0.017491</td>\n",
       "      <td>0.050835</td>\n",
       "    </tr>\n",
       "    <tr>\n",
       "      <th>358</th>\n",
       "      <td>2900417</td>\n",
       "      <td>Tampa-St. Petersburg-Clearwater, Fl</td>\n",
       "      <td>2024-04-01</td>\n",
       "      <td>9478</td>\n",
       "      <td>399</td>\n",
       "      <td>1112</td>\n",
       "      <td>22880</td>\n",
       "      <td>0.414248</td>\n",
       "      <td>0.042097</td>\n",
       "      <td>0.117324</td>\n",
       "      <td>0.017439</td>\n",
       "      <td>0.048601</td>\n",
       "    </tr>\n",
       "    <tr>\n",
       "      <th>359</th>\n",
       "      <td>2900417</td>\n",
       "      <td>Tampa-St. Petersburg-Clearwater, Fl</td>\n",
       "      <td>2024-03-01</td>\n",
       "      <td>9672</td>\n",
       "      <td>348</td>\n",
       "      <td>1096</td>\n",
       "      <td>22792</td>\n",
       "      <td>0.424359</td>\n",
       "      <td>0.035980</td>\n",
       "      <td>0.113317</td>\n",
       "      <td>0.015269</td>\n",
       "      <td>0.048087</td>\n",
       "    </tr>\n",
       "    <tr>\n",
       "      <th>360</th>\n",
       "      <td>2900417</td>\n",
       "      <td>Tampa-St. Petersburg-Clearwater, Fl</td>\n",
       "      <td>2024-02-01</td>\n",
       "      <td>9535</td>\n",
       "      <td>336</td>\n",
       "      <td>1128</td>\n",
       "      <td>21917</td>\n",
       "      <td>0.435050</td>\n",
       "      <td>0.035239</td>\n",
       "      <td>0.118301</td>\n",
       "      <td>0.015331</td>\n",
       "      <td>0.051467</td>\n",
       "    </tr>\n",
       "    <tr>\n",
       "      <th>361</th>\n",
       "      <td>2900417</td>\n",
       "      <td>Tampa-St. Petersburg-Clearwater, Fl</td>\n",
       "      <td>2024-01-01</td>\n",
       "      <td>8993</td>\n",
       "      <td>429</td>\n",
       "      <td>1136</td>\n",
       "      <td>17945</td>\n",
       "      <td>0.501142</td>\n",
       "      <td>0.047704</td>\n",
       "      <td>0.126320</td>\n",
       "      <td>0.023906</td>\n",
       "      <td>0.063305</td>\n",
       "    </tr>\n",
       "    <tr>\n",
       "      <th>362</th>\n",
       "      <td>2900417</td>\n",
       "      <td>Tampa-St. Petersburg-Clearwater, Fl</td>\n",
       "      <td>2023-12-01</td>\n",
       "      <td>5749</td>\n",
       "      <td>280</td>\n",
       "      <td>703</td>\n",
       "      <td>16418</td>\n",
       "      <td>0.350164</td>\n",
       "      <td>0.048704</td>\n",
       "      <td>0.122282</td>\n",
       "      <td>0.017054</td>\n",
       "      <td>0.042819</td>\n",
       "    </tr>\n",
       "    <tr>\n",
       "      <th>363</th>\n",
       "      <td>2900417</td>\n",
       "      <td>Tampa-St. Petersburg-Clearwater, Fl</td>\n",
       "      <td>2023-11-01</td>\n",
       "      <td>7747</td>\n",
       "      <td>470</td>\n",
       "      <td>975</td>\n",
       "      <td>18297</td>\n",
       "      <td>0.423403</td>\n",
       "      <td>0.060669</td>\n",
       "      <td>0.125855</td>\n",
       "      <td>0.025687</td>\n",
       "      <td>0.053287</td>\n",
       "    </tr>\n",
       "    <tr>\n",
       "      <th>364</th>\n",
       "      <td>2900417</td>\n",
       "      <td>Tampa-St. Petersburg-Clearwater, Fl</td>\n",
       "      <td>2023-10-01</td>\n",
       "      <td>8479</td>\n",
       "      <td>478</td>\n",
       "      <td>1091</td>\n",
       "      <td>18200</td>\n",
       "      <td>0.465879</td>\n",
       "      <td>0.056375</td>\n",
       "      <td>0.128671</td>\n",
       "      <td>0.026264</td>\n",
       "      <td>0.059945</td>\n",
       "    </tr>\n",
       "    <tr>\n",
       "      <th>365</th>\n",
       "      <td>2900417</td>\n",
       "      <td>Tampa-St. Petersburg-Clearwater, Fl</td>\n",
       "      <td>2023-09-01</td>\n",
       "      <td>8508</td>\n",
       "      <td>447</td>\n",
       "      <td>993</td>\n",
       "      <td>16702</td>\n",
       "      <td>0.509400</td>\n",
       "      <td>0.052539</td>\n",
       "      <td>0.116714</td>\n",
       "      <td>0.026763</td>\n",
       "      <td>0.059454</td>\n",
       "    </tr>\n",
       "    <tr>\n",
       "      <th>366</th>\n",
       "      <td>2900417</td>\n",
       "      <td>Tampa-St. Petersburg-Clearwater, Fl</td>\n",
       "      <td>2023-08-01</td>\n",
       "      <td>8167</td>\n",
       "      <td>395</td>\n",
       "      <td>1006</td>\n",
       "      <td>15276</td>\n",
       "      <td>0.534629</td>\n",
       "      <td>0.048365</td>\n",
       "      <td>0.123179</td>\n",
       "      <td>0.025858</td>\n",
       "      <td>0.065855</td>\n",
       "    </tr>\n",
       "    <tr>\n",
       "      <th>367</th>\n",
       "      <td>2900417</td>\n",
       "      <td>Tampa-St. Petersburg-Clearwater, Fl</td>\n",
       "      <td>2023-07-01</td>\n",
       "      <td>7904</td>\n",
       "      <td>374</td>\n",
       "      <td>916</td>\n",
       "      <td>13308</td>\n",
       "      <td>0.593928</td>\n",
       "      <td>0.047318</td>\n",
       "      <td>0.115891</td>\n",
       "      <td>0.028103</td>\n",
       "      <td>0.068831</td>\n",
       "    </tr>\n",
       "    <tr>\n",
       "      <th>368</th>\n",
       "      <td>2900417</td>\n",
       "      <td>Tampa-St. Petersburg-Clearwater, Fl</td>\n",
       "      <td>2023-06-01</td>\n",
       "      <td>9158</td>\n",
       "      <td>461</td>\n",
       "      <td>1083</td>\n",
       "      <td>14385</td>\n",
       "      <td>0.636635</td>\n",
       "      <td>0.050339</td>\n",
       "      <td>0.118257</td>\n",
       "      <td>0.032047</td>\n",
       "      <td>0.075287</td>\n",
       "    </tr>\n",
       "    <tr>\n",
       "      <th>369</th>\n",
       "      <td>2900417</td>\n",
       "      <td>Tampa-St. Petersburg-Clearwater, Fl</td>\n",
       "      <td>2023-05-01</td>\n",
       "      <td>8835</td>\n",
       "      <td>450</td>\n",
       "      <td>1078</td>\n",
       "      <td>16033</td>\n",
       "      <td>0.551051</td>\n",
       "      <td>0.050934</td>\n",
       "      <td>0.122015</td>\n",
       "      <td>0.028067</td>\n",
       "      <td>0.067236</td>\n",
       "    </tr>\n",
       "    <tr>\n",
       "      <th>370</th>\n",
       "      <td>2900417</td>\n",
       "      <td>Tampa-St. Petersburg-Clearwater, Fl</td>\n",
       "      <td>2023-04-01</td>\n",
       "      <td>8666</td>\n",
       "      <td>422</td>\n",
       "      <td>1066</td>\n",
       "      <td>16583</td>\n",
       "      <td>0.522583</td>\n",
       "      <td>0.048696</td>\n",
       "      <td>0.123009</td>\n",
       "      <td>0.025448</td>\n",
       "      <td>0.064283</td>\n",
       "    </tr>\n",
       "    <tr>\n",
       "      <th>371</th>\n",
       "      <td>2900417</td>\n",
       "      <td>Tampa-St. Petersburg-Clearwater, Fl</td>\n",
       "      <td>2023-03-01</td>\n",
       "      <td>9238</td>\n",
       "      <td>471</td>\n",
       "      <td>1137</td>\n",
       "      <td>16919</td>\n",
       "      <td>0.546013</td>\n",
       "      <td>0.050985</td>\n",
       "      <td>0.123079</td>\n",
       "      <td>0.027839</td>\n",
       "      <td>0.067203</td>\n",
       "    </tr>\n",
       "    <tr>\n",
       "      <th>372</th>\n",
       "      <td>2900417</td>\n",
       "      <td>Tampa-St. Petersburg-Clearwater, Fl</td>\n",
       "      <td>2023-02-01</td>\n",
       "      <td>8222</td>\n",
       "      <td>487</td>\n",
       "      <td>1062</td>\n",
       "      <td>17426</td>\n",
       "      <td>0.471824</td>\n",
       "      <td>0.059231</td>\n",
       "      <td>0.129166</td>\n",
       "      <td>0.027947</td>\n",
       "      <td>0.060943</td>\n",
       "    </tr>\n",
       "    <tr>\n",
       "      <th>373</th>\n",
       "      <td>2900417</td>\n",
       "      <td>Tampa-St. Petersburg-Clearwater, Fl</td>\n",
       "      <td>2023-01-01</td>\n",
       "      <td>8131</td>\n",
       "      <td>498</td>\n",
       "      <td>1048</td>\n",
       "      <td>15658</td>\n",
       "      <td>0.519287</td>\n",
       "      <td>0.061247</td>\n",
       "      <td>0.128889</td>\n",
       "      <td>0.031805</td>\n",
       "      <td>0.066931</td>\n",
       "    </tr>\n",
       "    <tr>\n",
       "      <th>374</th>\n",
       "      <td>2900417</td>\n",
       "      <td>Tampa-St. Petersburg-Clearwater, Fl</td>\n",
       "      <td>2022-12-01</td>\n",
       "      <td>5916</td>\n",
       "      <td>384</td>\n",
       "      <td>846</td>\n",
       "      <td>15033</td>\n",
       "      <td>0.393534</td>\n",
       "      <td>0.064909</td>\n",
       "      <td>0.143002</td>\n",
       "      <td>0.025544</td>\n",
       "      <td>0.056276</td>\n",
       "    </tr>\n",
       "    <tr>\n",
       "      <th>375</th>\n",
       "      <td>2900417</td>\n",
       "      <td>Tampa-St. Petersburg-Clearwater, Fl</td>\n",
       "      <td>2022-11-01</td>\n",
       "      <td>7591</td>\n",
       "      <td>557</td>\n",
       "      <td>1086</td>\n",
       "      <td>17280</td>\n",
       "      <td>0.439294</td>\n",
       "      <td>0.073376</td>\n",
       "      <td>0.143064</td>\n",
       "      <td>0.032234</td>\n",
       "      <td>0.062847</td>\n",
       "    </tr>\n",
       "    <tr>\n",
       "      <th>376</th>\n",
       "      <td>2900417</td>\n",
       "      <td>Tampa-St. Petersburg-Clearwater, Fl</td>\n",
       "      <td>2022-10-01</td>\n",
       "      <td>8729</td>\n",
       "      <td>606</td>\n",
       "      <td>1228</td>\n",
       "      <td>16901</td>\n",
       "      <td>0.516478</td>\n",
       "      <td>0.069424</td>\n",
       "      <td>0.140680</td>\n",
       "      <td>0.035856</td>\n",
       "      <td>0.072658</td>\n",
       "    </tr>\n",
       "    <tr>\n",
       "      <th>377</th>\n",
       "      <td>2900417</td>\n",
       "      <td>Tampa-St. Petersburg-Clearwater, Fl</td>\n",
       "      <td>2022-09-01</td>\n",
       "      <td>8205</td>\n",
       "      <td>706</td>\n",
       "      <td>1094</td>\n",
       "      <td>17541</td>\n",
       "      <td>0.467761</td>\n",
       "      <td>0.086045</td>\n",
       "      <td>0.133333</td>\n",
       "      <td>0.040249</td>\n",
       "      <td>0.062368</td>\n",
       "    </tr>\n",
       "  </tbody>\n",
       "</table>\n",
       "</div>"
      ],
      "text/plain": [
       "    parcl_id                                 name       date  \\\n",
       "357  2900417  Tampa-St. Petersburg-Clearwater, Fl 2024-05-01   \n",
       "358  2900417  Tampa-St. Petersburg-Clearwater, Fl 2024-04-01   \n",
       "359  2900417  Tampa-St. Petersburg-Clearwater, Fl 2024-03-01   \n",
       "360  2900417  Tampa-St. Petersburg-Clearwater, Fl 2024-02-01   \n",
       "361  2900417  Tampa-St. Petersburg-Clearwater, Fl 2024-01-01   \n",
       "362  2900417  Tampa-St. Petersburg-Clearwater, Fl 2023-12-01   \n",
       "363  2900417  Tampa-St. Petersburg-Clearwater, Fl 2023-11-01   \n",
       "364  2900417  Tampa-St. Petersburg-Clearwater, Fl 2023-10-01   \n",
       "365  2900417  Tampa-St. Petersburg-Clearwater, Fl 2023-09-01   \n",
       "366  2900417  Tampa-St. Petersburg-Clearwater, Fl 2023-08-01   \n",
       "367  2900417  Tampa-St. Petersburg-Clearwater, Fl 2023-07-01   \n",
       "368  2900417  Tampa-St. Petersburg-Clearwater, Fl 2023-06-01   \n",
       "369  2900417  Tampa-St. Petersburg-Clearwater, Fl 2023-05-01   \n",
       "370  2900417  Tampa-St. Petersburg-Clearwater, Fl 2023-04-01   \n",
       "371  2900417  Tampa-St. Petersburg-Clearwater, Fl 2023-03-01   \n",
       "372  2900417  Tampa-St. Petersburg-Clearwater, Fl 2023-02-01   \n",
       "373  2900417  Tampa-St. Petersburg-Clearwater, Fl 2023-01-01   \n",
       "374  2900417  Tampa-St. Petersburg-Clearwater, Fl 2022-12-01   \n",
       "375  2900417  Tampa-St. Petersburg-Clearwater, Fl 2022-11-01   \n",
       "376  2900417  Tampa-St. Petersburg-Clearwater, Fl 2022-10-01   \n",
       "377  2900417  Tampa-St. Petersburg-Clearwater, Fl 2022-09-01   \n",
       "\n",
       "     new_listings_for_sale  new_construction_listings_for_sale  \\\n",
       "357                   8994                                 395   \n",
       "358                   9478                                 399   \n",
       "359                   9672                                 348   \n",
       "360                   9535                                 336   \n",
       "361                   8993                                 429   \n",
       "362                   5749                                 280   \n",
       "363                   7747                                 470   \n",
       "364                   8479                                 478   \n",
       "365                   8508                                 447   \n",
       "366                   8167                                 395   \n",
       "367                   7904                                 374   \n",
       "368                   9158                                 461   \n",
       "369                   8835                                 450   \n",
       "370                   8666                                 422   \n",
       "371                   9238                                 471   \n",
       "372                   8222                                 487   \n",
       "373                   8131                                 498   \n",
       "374                   5916                                 384   \n",
       "375                   7591                                 557   \n",
       "376                   8729                                 606   \n",
       "377                   8205                                 706   \n",
       "\n",
       "     new_investor_listings_for_sale  for_sale_inventory  \\\n",
       "357                            1148               22583   \n",
       "358                            1112               22880   \n",
       "359                            1096               22792   \n",
       "360                            1128               21917   \n",
       "361                            1136               17945   \n",
       "362                             703               16418   \n",
       "363                             975               18297   \n",
       "364                            1091               18200   \n",
       "365                             993               16702   \n",
       "366                            1006               15276   \n",
       "367                             916               13308   \n",
       "368                            1083               14385   \n",
       "369                            1078               16033   \n",
       "370                            1066               16583   \n",
       "371                            1137               16919   \n",
       "372                            1062               17426   \n",
       "373                            1048               15658   \n",
       "374                             846               15033   \n",
       "375                            1086               17280   \n",
       "376                            1228               16901   \n",
       "377                            1094               17541   \n",
       "\n",
       "     pct_new_listings_of_all  pct_new_construction_listings_of_new  \\\n",
       "357                 0.398264                              0.043918   \n",
       "358                 0.414248                              0.042097   \n",
       "359                 0.424359                              0.035980   \n",
       "360                 0.435050                              0.035239   \n",
       "361                 0.501142                              0.047704   \n",
       "362                 0.350164                              0.048704   \n",
       "363                 0.423403                              0.060669   \n",
       "364                 0.465879                              0.056375   \n",
       "365                 0.509400                              0.052539   \n",
       "366                 0.534629                              0.048365   \n",
       "367                 0.593928                              0.047318   \n",
       "368                 0.636635                              0.050339   \n",
       "369                 0.551051                              0.050934   \n",
       "370                 0.522583                              0.048696   \n",
       "371                 0.546013                              0.050985   \n",
       "372                 0.471824                              0.059231   \n",
       "373                 0.519287                              0.061247   \n",
       "374                 0.393534                              0.064909   \n",
       "375                 0.439294                              0.073376   \n",
       "376                 0.516478                              0.069424   \n",
       "377                 0.467761                              0.086045   \n",
       "\n",
       "     pct_new_investor_listings_of_new  pct_new_construction_listings_of_all  \\\n",
       "357                          0.127641                              0.017491   \n",
       "358                          0.117324                              0.017439   \n",
       "359                          0.113317                              0.015269   \n",
       "360                          0.118301                              0.015331   \n",
       "361                          0.126320                              0.023906   \n",
       "362                          0.122282                              0.017054   \n",
       "363                          0.125855                              0.025687   \n",
       "364                          0.128671                              0.026264   \n",
       "365                          0.116714                              0.026763   \n",
       "366                          0.123179                              0.025858   \n",
       "367                          0.115891                              0.028103   \n",
       "368                          0.118257                              0.032047   \n",
       "369                          0.122015                              0.028067   \n",
       "370                          0.123009                              0.025448   \n",
       "371                          0.123079                              0.027839   \n",
       "372                          0.129166                              0.027947   \n",
       "373                          0.128889                              0.031805   \n",
       "374                          0.143002                              0.025544   \n",
       "375                          0.143064                              0.032234   \n",
       "376                          0.140680                              0.035856   \n",
       "377                          0.133333                              0.040249   \n",
       "\n",
       "     pct_new_investor_listings_of_all  \n",
       "357                          0.050835  \n",
       "358                          0.048601  \n",
       "359                          0.048087  \n",
       "360                          0.051467  \n",
       "361                          0.063305  \n",
       "362                          0.042819  \n",
       "363                          0.053287  \n",
       "364                          0.059945  \n",
       "365                          0.059454  \n",
       "366                          0.065855  \n",
       "367                          0.068831  \n",
       "368                          0.075287  \n",
       "369                          0.067236  \n",
       "370                          0.064283  \n",
       "371                          0.067203  \n",
       "372                          0.060943  \n",
       "373                          0.066931  \n",
       "374                          0.056276  \n",
       "375                          0.062847  \n",
       "376                          0.072658  \n",
       "377                          0.062368  "
      ]
     },
     "execution_count": 28,
     "metadata": {},
     "output_type": "execute_result"
    }
   ],
   "source": [
    "data.loc[data['name'].str.contains('Tampa')]"
   ]
  },
  {
   "cell_type": "code",
   "execution_count": 33,
   "metadata": {},
   "outputs": [
    {
     "data": {
      "text/html": [
       "<div>\n",
       "<style scoped>\n",
       "    .dataframe tbody tr th:only-of-type {\n",
       "        vertical-align: middle;\n",
       "    }\n",
       "\n",
       "    .dataframe tbody tr th {\n",
       "        vertical-align: top;\n",
       "    }\n",
       "\n",
       "    .dataframe thead th {\n",
       "        text-align: right;\n",
       "    }\n",
       "</style>\n",
       "<table border=\"1\" class=\"dataframe\">\n",
       "  <thead>\n",
       "    <tr style=\"text-align: right;\">\n",
       "      <th></th>\n",
       "      <th>parcl_id</th>\n",
       "      <th>name</th>\n",
       "      <th>date</th>\n",
       "      <th>new_listings_for_sale</th>\n",
       "      <th>new_construction_listings_for_sale</th>\n",
       "      <th>new_investor_listings_for_sale</th>\n",
       "      <th>for_sale_inventory</th>\n",
       "      <th>pct_new_listings_of_all</th>\n",
       "      <th>pct_new_construction_listings_of_new</th>\n",
       "      <th>pct_new_investor_listings_of_new</th>\n",
       "      <th>pct_new_construction_listings_of_all</th>\n",
       "      <th>pct_new_investor_listings_of_all</th>\n",
       "    </tr>\n",
       "  </thead>\n",
       "  <tbody>\n",
       "    <tr>\n",
       "      <th>1344</th>\n",
       "      <td>2900116</td>\n",
       "      <td>Mcallen-Edinburg-Mission, Tx</td>\n",
       "      <td>2024-05-01</td>\n",
       "      <td>866</td>\n",
       "      <td>160</td>\n",
       "      <td>53</td>\n",
       "      <td>1929</td>\n",
       "      <td>0.448937</td>\n",
       "      <td>0.184758</td>\n",
       "      <td>0.061201</td>\n",
       "      <td>0.082945</td>\n",
       "      <td>0.027475</td>\n",
       "    </tr>\n",
       "    <tr>\n",
       "      <th>1701</th>\n",
       "      <td>2899752</td>\n",
       "      <td>Des Moines-West Des Moines, Ia</td>\n",
       "      <td>2024-05-01</td>\n",
       "      <td>1538</td>\n",
       "      <td>250</td>\n",
       "      <td>124</td>\n",
       "      <td>3057</td>\n",
       "      <td>0.503108</td>\n",
       "      <td>0.162549</td>\n",
       "      <td>0.080624</td>\n",
       "      <td>0.081780</td>\n",
       "      <td>0.040563</td>\n",
       "    </tr>\n",
       "    <tr>\n",
       "      <th>714</th>\n",
       "      <td>2900174</td>\n",
       "      <td>Nashville-Davidson--Murfreesboro--Franklin, Tn</td>\n",
       "      <td>2024-05-01</td>\n",
       "      <td>5350</td>\n",
       "      <td>848</td>\n",
       "      <td>436</td>\n",
       "      <td>9230</td>\n",
       "      <td>0.579632</td>\n",
       "      <td>0.158505</td>\n",
       "      <td>0.081495</td>\n",
       "      <td>0.091874</td>\n",
       "      <td>0.047237</td>\n",
       "    </tr>\n",
       "    <tr>\n",
       "      <th>567</th>\n",
       "      <td>2887289</td>\n",
       "      <td>Austin-Round Rock-Georgetown, Tx</td>\n",
       "      <td>2024-05-01</td>\n",
       "      <td>5984</td>\n",
       "      <td>904</td>\n",
       "      <td>388</td>\n",
       "      <td>14983</td>\n",
       "      <td>0.399386</td>\n",
       "      <td>0.151070</td>\n",
       "      <td>0.064840</td>\n",
       "      <td>0.060335</td>\n",
       "      <td>0.025896</td>\n",
       "    </tr>\n",
       "    <tr>\n",
       "      <th>882</th>\n",
       "      <td>2900122</td>\n",
       "      <td>Memphis, Tn-Ms-Ar</td>\n",
       "      <td>2024-05-01</td>\n",
       "      <td>517</td>\n",
       "      <td>78</td>\n",
       "      <td>43</td>\n",
       "      <td>1107</td>\n",
       "      <td>0.467028</td>\n",
       "      <td>0.150870</td>\n",
       "      <td>0.083172</td>\n",
       "      <td>0.070461</td>\n",
       "      <td>0.038844</td>\n",
       "    </tr>\n",
       "    <tr>\n",
       "      <th>1848</th>\n",
       "      <td>2900276</td>\n",
       "      <td>Provo-Orem, Ut</td>\n",
       "      <td>2024-05-01</td>\n",
       "      <td>1294</td>\n",
       "      <td>194</td>\n",
       "      <td>115</td>\n",
       "      <td>2487</td>\n",
       "      <td>0.520306</td>\n",
       "      <td>0.149923</td>\n",
       "      <td>0.088872</td>\n",
       "      <td>0.078006</td>\n",
       "      <td>0.046240</td>\n",
       "    </tr>\n",
       "    <tr>\n",
       "      <th>84</th>\n",
       "      <td>2899967</td>\n",
       "      <td>Houston-The Woodlands-Sugar Land, Tx</td>\n",
       "      <td>2024-05-01</td>\n",
       "      <td>15024</td>\n",
       "      <td>2185</td>\n",
       "      <td>1323</td>\n",
       "      <td>30860</td>\n",
       "      <td>0.486844</td>\n",
       "      <td>0.145434</td>\n",
       "      <td>0.088059</td>\n",
       "      <td>0.070804</td>\n",
       "      <td>0.042871</td>\n",
       "    </tr>\n",
       "    <tr>\n",
       "      <th>1974</th>\n",
       "      <td>2887286</td>\n",
       "      <td>Augusta-Richmond County, Ga-Sc</td>\n",
       "      <td>2024-05-01</td>\n",
       "      <td>1233</td>\n",
       "      <td>178</td>\n",
       "      <td>94</td>\n",
       "      <td>2498</td>\n",
       "      <td>0.493595</td>\n",
       "      <td>0.144363</td>\n",
       "      <td>0.076237</td>\n",
       "      <td>0.071257</td>\n",
       "      <td>0.037630</td>\n",
       "    </tr>\n",
       "    <tr>\n",
       "      <th>1617</th>\n",
       "      <td>2899621</td>\n",
       "      <td>Boise City, Id</td>\n",
       "      <td>2024-05-01</td>\n",
       "      <td>2052</td>\n",
       "      <td>289</td>\n",
       "      <td>167</td>\n",
       "      <td>3912</td>\n",
       "      <td>0.524540</td>\n",
       "      <td>0.140838</td>\n",
       "      <td>0.081384</td>\n",
       "      <td>0.073875</td>\n",
       "      <td>0.042689</td>\n",
       "    </tr>\n",
       "    <tr>\n",
       "      <th>483</th>\n",
       "      <td>2900331</td>\n",
       "      <td>San Antonio-New Braunfels, Tx</td>\n",
       "      <td>2024-05-01</td>\n",
       "      <td>5256</td>\n",
       "      <td>737</td>\n",
       "      <td>514</td>\n",
       "      <td>12981</td>\n",
       "      <td>0.404899</td>\n",
       "      <td>0.140221</td>\n",
       "      <td>0.097793</td>\n",
       "      <td>0.056775</td>\n",
       "      <td>0.039596</td>\n",
       "    </tr>\n",
       "    <tr>\n",
       "      <th>1239</th>\n",
       "      <td>2899929</td>\n",
       "      <td>Greenville-Anderson, Sc</td>\n",
       "      <td>2024-05-01</td>\n",
       "      <td>755</td>\n",
       "      <td>104</td>\n",
       "      <td>69</td>\n",
       "      <td>1463</td>\n",
       "      <td>0.516063</td>\n",
       "      <td>0.137748</td>\n",
       "      <td>0.091391</td>\n",
       "      <td>0.071087</td>\n",
       "      <td>0.047163</td>\n",
       "    </tr>\n",
       "    <tr>\n",
       "      <th>861</th>\n",
       "      <td>2900282</td>\n",
       "      <td>Raleigh-Cary, Nc</td>\n",
       "      <td>2024-05-01</td>\n",
       "      <td>2817</td>\n",
       "      <td>384</td>\n",
       "      <td>251</td>\n",
       "      <td>5073</td>\n",
       "      <td>0.555293</td>\n",
       "      <td>0.136315</td>\n",
       "      <td>0.089102</td>\n",
       "      <td>0.075695</td>\n",
       "      <td>0.049478</td>\n",
       "    </tr>\n",
       "    <tr>\n",
       "      <th>798</th>\n",
       "      <td>2899989</td>\n",
       "      <td>Jacksonville, Fl</td>\n",
       "      <td>2024-05-01</td>\n",
       "      <td>4680</td>\n",
       "      <td>633</td>\n",
       "      <td>596</td>\n",
       "      <td>11513</td>\n",
       "      <td>0.406497</td>\n",
       "      <td>0.135256</td>\n",
       "      <td>0.127350</td>\n",
       "      <td>0.054981</td>\n",
       "      <td>0.051768</td>\n",
       "    </tr>\n",
       "    <tr>\n",
       "      <th>63</th>\n",
       "      <td>2899734</td>\n",
       "      <td>Dallas-Fort Worth-Arlington, Tx</td>\n",
       "      <td>2024-05-01</td>\n",
       "      <td>15315</td>\n",
       "      <td>1886</td>\n",
       "      <td>1574</td>\n",
       "      <td>30657</td>\n",
       "      <td>0.499560</td>\n",
       "      <td>0.123147</td>\n",
       "      <td>0.102775</td>\n",
       "      <td>0.061519</td>\n",
       "      <td>0.051342</td>\n",
       "    </tr>\n",
       "    <tr>\n",
       "      <th>1386</th>\n",
       "      <td>2899787</td>\n",
       "      <td>El Paso, Tx</td>\n",
       "      <td>2024-05-01</td>\n",
       "      <td>1143</td>\n",
       "      <td>128</td>\n",
       "      <td>74</td>\n",
       "      <td>2280</td>\n",
       "      <td>0.501316</td>\n",
       "      <td>0.111986</td>\n",
       "      <td>0.064742</td>\n",
       "      <td>0.056140</td>\n",
       "      <td>0.032456</td>\n",
       "    </tr>\n",
       "    <tr>\n",
       "      <th>1491</th>\n",
       "      <td>2899666</td>\n",
       "      <td>Columbia, Sc</td>\n",
       "      <td>2024-05-01</td>\n",
       "      <td>1551</td>\n",
       "      <td>169</td>\n",
       "      <td>169</td>\n",
       "      <td>3086</td>\n",
       "      <td>0.502592</td>\n",
       "      <td>0.108962</td>\n",
       "      <td>0.108962</td>\n",
       "      <td>0.054763</td>\n",
       "      <td>0.054763</td>\n",
       "    </tr>\n",
       "    <tr>\n",
       "      <th>1449</th>\n",
       "      <td>2900192</td>\n",
       "      <td>North Port-Sarasota-Bradenton, Fl</td>\n",
       "      <td>2024-05-01</td>\n",
       "      <td>3438</td>\n",
       "      <td>364</td>\n",
       "      <td>337</td>\n",
       "      <td>10438</td>\n",
       "      <td>0.329373</td>\n",
       "      <td>0.105876</td>\n",
       "      <td>0.098022</td>\n",
       "      <td>0.034873</td>\n",
       "      <td>0.032286</td>\n",
       "    </tr>\n",
       "    <tr>\n",
       "      <th>1680</th>\n",
       "      <td>2900041</td>\n",
       "      <td>Lakeland-Winter Haven, Fl</td>\n",
       "      <td>2024-05-01</td>\n",
       "      <td>2329</td>\n",
       "      <td>245</td>\n",
       "      <td>271</td>\n",
       "      <td>5691</td>\n",
       "      <td>0.409243</td>\n",
       "      <td>0.105195</td>\n",
       "      <td>0.116359</td>\n",
       "      <td>0.043050</td>\n",
       "      <td>0.047619</td>\n",
       "    </tr>\n",
       "    <tr>\n",
       "      <th>462</th>\n",
       "      <td>2899841</td>\n",
       "      <td>Charlotte-Concord-Gastonia, Nc-Sc</td>\n",
       "      <td>2024-05-01</td>\n",
       "      <td>5209</td>\n",
       "      <td>533</td>\n",
       "      <td>546</td>\n",
       "      <td>9889</td>\n",
       "      <td>0.526747</td>\n",
       "      <td>0.102323</td>\n",
       "      <td>0.104819</td>\n",
       "      <td>0.053898</td>\n",
       "      <td>0.055213</td>\n",
       "    </tr>\n",
       "    <tr>\n",
       "      <th>1911</th>\n",
       "      <td>2899768</td>\n",
       "      <td>Durham-Chapel Hill, Nc</td>\n",
       "      <td>2024-05-01</td>\n",
       "      <td>1065</td>\n",
       "      <td>106</td>\n",
       "      <td>98</td>\n",
       "      <td>1716</td>\n",
       "      <td>0.620629</td>\n",
       "      <td>0.099531</td>\n",
       "      <td>0.092019</td>\n",
       "      <td>0.061772</td>\n",
       "      <td>0.057110</td>\n",
       "    </tr>\n",
       "  </tbody>\n",
       "</table>\n",
       "</div>"
      ],
      "text/plain": [
       "     parcl_id                                            name       date  \\\n",
       "1344  2900116                    Mcallen-Edinburg-Mission, Tx 2024-05-01   \n",
       "1701  2899752                  Des Moines-West Des Moines, Ia 2024-05-01   \n",
       "714   2900174  Nashville-Davidson--Murfreesboro--Franklin, Tn 2024-05-01   \n",
       "567   2887289                Austin-Round Rock-Georgetown, Tx 2024-05-01   \n",
       "882   2900122                               Memphis, Tn-Ms-Ar 2024-05-01   \n",
       "1848  2900276                                  Provo-Orem, Ut 2024-05-01   \n",
       "84    2899967            Houston-The Woodlands-Sugar Land, Tx 2024-05-01   \n",
       "1974  2887286                  Augusta-Richmond County, Ga-Sc 2024-05-01   \n",
       "1617  2899621                                  Boise City, Id 2024-05-01   \n",
       "483   2900331                   San Antonio-New Braunfels, Tx 2024-05-01   \n",
       "1239  2899929                         Greenville-Anderson, Sc 2024-05-01   \n",
       "861   2900282                                Raleigh-Cary, Nc 2024-05-01   \n",
       "798   2899989                                Jacksonville, Fl 2024-05-01   \n",
       "63    2899734                 Dallas-Fort Worth-Arlington, Tx 2024-05-01   \n",
       "1386  2899787                                     El Paso, Tx 2024-05-01   \n",
       "1491  2899666                                    Columbia, Sc 2024-05-01   \n",
       "1449  2900192               North Port-Sarasota-Bradenton, Fl 2024-05-01   \n",
       "1680  2900041                       Lakeland-Winter Haven, Fl 2024-05-01   \n",
       "462   2899841               Charlotte-Concord-Gastonia, Nc-Sc 2024-05-01   \n",
       "1911  2899768                          Durham-Chapel Hill, Nc 2024-05-01   \n",
       "\n",
       "      new_listings_for_sale  new_construction_listings_for_sale  \\\n",
       "1344                    866                                 160   \n",
       "1701                   1538                                 250   \n",
       "714                    5350                                 848   \n",
       "567                    5984                                 904   \n",
       "882                     517                                  78   \n",
       "1848                   1294                                 194   \n",
       "84                    15024                                2185   \n",
       "1974                   1233                                 178   \n",
       "1617                   2052                                 289   \n",
       "483                    5256                                 737   \n",
       "1239                    755                                 104   \n",
       "861                    2817                                 384   \n",
       "798                    4680                                 633   \n",
       "63                    15315                                1886   \n",
       "1386                   1143                                 128   \n",
       "1491                   1551                                 169   \n",
       "1449                   3438                                 364   \n",
       "1680                   2329                                 245   \n",
       "462                    5209                                 533   \n",
       "1911                   1065                                 106   \n",
       "\n",
       "      new_investor_listings_for_sale  for_sale_inventory  \\\n",
       "1344                              53                1929   \n",
       "1701                             124                3057   \n",
       "714                              436                9230   \n",
       "567                              388               14983   \n",
       "882                               43                1107   \n",
       "1848                             115                2487   \n",
       "84                              1323               30860   \n",
       "1974                              94                2498   \n",
       "1617                             167                3912   \n",
       "483                              514               12981   \n",
       "1239                              69                1463   \n",
       "861                              251                5073   \n",
       "798                              596               11513   \n",
       "63                              1574               30657   \n",
       "1386                              74                2280   \n",
       "1491                             169                3086   \n",
       "1449                             337               10438   \n",
       "1680                             271                5691   \n",
       "462                              546                9889   \n",
       "1911                              98                1716   \n",
       "\n",
       "      pct_new_listings_of_all  pct_new_construction_listings_of_new  \\\n",
       "1344                 0.448937                              0.184758   \n",
       "1701                 0.503108                              0.162549   \n",
       "714                  0.579632                              0.158505   \n",
       "567                  0.399386                              0.151070   \n",
       "882                  0.467028                              0.150870   \n",
       "1848                 0.520306                              0.149923   \n",
       "84                   0.486844                              0.145434   \n",
       "1974                 0.493595                              0.144363   \n",
       "1617                 0.524540                              0.140838   \n",
       "483                  0.404899                              0.140221   \n",
       "1239                 0.516063                              0.137748   \n",
       "861                  0.555293                              0.136315   \n",
       "798                  0.406497                              0.135256   \n",
       "63                   0.499560                              0.123147   \n",
       "1386                 0.501316                              0.111986   \n",
       "1491                 0.502592                              0.108962   \n",
       "1449                 0.329373                              0.105876   \n",
       "1680                 0.409243                              0.105195   \n",
       "462                  0.526747                              0.102323   \n",
       "1911                 0.620629                              0.099531   \n",
       "\n",
       "      pct_new_investor_listings_of_new  pct_new_construction_listings_of_all  \\\n",
       "1344                          0.061201                              0.082945   \n",
       "1701                          0.080624                              0.081780   \n",
       "714                           0.081495                              0.091874   \n",
       "567                           0.064840                              0.060335   \n",
       "882                           0.083172                              0.070461   \n",
       "1848                          0.088872                              0.078006   \n",
       "84                            0.088059                              0.070804   \n",
       "1974                          0.076237                              0.071257   \n",
       "1617                          0.081384                              0.073875   \n",
       "483                           0.097793                              0.056775   \n",
       "1239                          0.091391                              0.071087   \n",
       "861                           0.089102                              0.075695   \n",
       "798                           0.127350                              0.054981   \n",
       "63                            0.102775                              0.061519   \n",
       "1386                          0.064742                              0.056140   \n",
       "1491                          0.108962                              0.054763   \n",
       "1449                          0.098022                              0.034873   \n",
       "1680                          0.116359                              0.043050   \n",
       "462                           0.104819                              0.053898   \n",
       "1911                          0.092019                              0.061772   \n",
       "\n",
       "      pct_new_investor_listings_of_all  \n",
       "1344                          0.027475  \n",
       "1701                          0.040563  \n",
       "714                           0.047237  \n",
       "567                           0.025896  \n",
       "882                           0.038844  \n",
       "1848                          0.046240  \n",
       "84                            0.042871  \n",
       "1974                          0.037630  \n",
       "1617                          0.042689  \n",
       "483                           0.039596  \n",
       "1239                          0.047163  \n",
       "861                           0.049478  \n",
       "798                           0.051768  \n",
       "63                            0.051342  \n",
       "1386                          0.032456  \n",
       "1491                          0.054763  \n",
       "1449                          0.032286  \n",
       "1680                          0.047619  \n",
       "462                           0.055213  \n",
       "1911                          0.057110  "
      ]
     },
     "execution_count": 33,
     "metadata": {},
     "output_type": "execute_result"
    }
   ],
   "source": [
    "data.loc[data['date']=='5/1/2024'].sort_values('pct_new_construction_listings_of_new', ascending=False).head(20)"
   ]
  },
  {
   "cell_type": "code",
   "execution_count": 66,
   "metadata": {},
   "outputs": [],
   "source": [
    "data['state'] = data['name'].apply(lambda x: x.split(',')[-1].strip().upper().split('-')[0])\n",
    "data['clean_name'] = data.apply(lambda x: f\"{x['name'].split('-')[0].split(',')[0].strip()}, {x['state']}\", axis=1)\n",
    "data['clean_name'] = data['clean_name'].replace({'United States Of America, UNITED STATES OF AMERICA': 'USA'})"
   ]
  },
  {
   "cell_type": "code",
   "execution_count": 40,
   "metadata": {},
   "outputs": [],
   "source": [
    "def multi_market_line_chart_as_pct(\n",
    "    data: pd.DataFrame,\n",
    "    y: str='pct_new_construction_listings_of_new',\n",
    "    x: str='date',\n",
    "    title: str='Percentage of New Listings coming from New Construction',\n",
    "    label: str='% of New Listings from New Construction',\n",
    "    color: str='clean_name'\n",
    "): \n",
    "\n",
    "    max_date_for_chart = data['date'].max().date()\n",
    "    max_date_for_chart = max_date_for_chart.strftime('%B %d, %Y')\n",
    "\n",
    "    # Create the line chart using Plotly Express\n",
    "    fig = px.line(\n",
    "        data,\n",
    "        x=x,\n",
    "        y=y,\n",
    "        color=color,\n",
    "        line_group=color,\n",
    "        labels={y: label},\n",
    "        title=f'{title} ({max_date_for_chart})'\n",
    "    )\n",
    "\n",
    "    # Update traces to apply specific styles\n",
    "    for trace in fig.data:\n",
    "        if trace.name == 'USA':\n",
    "            trace.update(\n",
    "                line=dict(color='red', width=4),\n",
    "                opacity=1\n",
    "            )\n",
    "        else:\n",
    "            trace.update(\n",
    "                line=dict(color='lightblue', dash='dash', width=2),\n",
    "                opacity=0.8\n",
    "            )\n",
    "        # Remove text annotations from traces\n",
    "        trace.update(\n",
    "            mode='lines'\n",
    "        )\n",
    "\n",
    "    # Find the latest date in the dataset\n",
    "    latest_date = max(data[x])\n",
    "\n",
    "    # Add annotations for each line on the far right\n",
    "    annotations = []\n",
    "    y_positions = []\n",
    "\n",
    "    for trace in fig.data:\n",
    "        # Get the last y-value for each clean_name\n",
    "        last_y_value = data[\n",
    "            (data[color] == trace.name) &\n",
    "            (data[x] == latest_date)\n",
    "        ][y].values[0]\n",
    "        \n",
    "        # Only add the annotation if it doesn't overlap with existing annotations\n",
    "        if not any(abs(last_y_value - y) < 0.01 for y in y_positions):  # Adjust threshold as needed\n",
    "            annotations.append(dict(\n",
    "                x=latest_date,\n",
    "                y=last_y_value,\n",
    "                xref='x',\n",
    "                yref='y',\n",
    "                text=trace.name,\n",
    "                showarrow=False,\n",
    "                xanchor='left',\n",
    "                font=dict(size=12)  # Adjust the font size if needed\n",
    "            ))\n",
    "            y_positions.append(last_y_value)\n",
    "\n",
    "    fig.add_layout_image(\n",
    "            create_labs_logo_dict()\n",
    "    )\n",
    "\n",
    "    # Update layout for axes, title, and other styling\n",
    "    fig.update_layout(\n",
    "        width=1600,\n",
    "        height=800,\n",
    "        xaxis=dict(\n",
    "            title='',\n",
    "            showgrid=style_config['showgrid'],\n",
    "            gridwidth=style_config['gridwidth'],\n",
    "            gridcolor=style_config['grid_color'],\n",
    "            # tickangle=style_config['tick_angle'],\n",
    "            linecolor=style_config['line_color_axis'],\n",
    "            linewidth=style_config['linewidth'],\n",
    "            titlefont=style_config['title_font_axis']\n",
    "        ),\n",
    "        yaxis=dict(\n",
    "            title='% Price Reductions',\n",
    "            showgrid=style_config['showgrid'],\n",
    "            gridwidth=style_config['gridwidth'],\n",
    "            gridcolor=style_config['grid_color'],\n",
    "            tickfont=style_config['axis_font'],\n",
    "            zeroline=False,\n",
    "            tickformat='.0%',\n",
    "            linecolor=style_config['line_color_axis'],\n",
    "            linewidth=style_config['linewidth'],\n",
    "            titlefont=style_config['title_font_axis']\n",
    "        ),\n",
    "        plot_bgcolor=style_config['background_color'],\n",
    "        paper_bgcolor=style_config['background_color'],\n",
    "        font=dict(color=style_config['font_color']),\n",
    "        showlegend=False,  # Remove the legend\n",
    "        margin=dict(l=40, r=40, t=80, b=40),\n",
    "        title={\n",
    "            'y': 0.98,\n",
    "            'x': 0.5,\n",
    "            'xanchor': 'center',\n",
    "            'yanchor': 'top',\n",
    "            'font': dict(size=24)\n",
    "        },\n",
    "        annotations=annotations  # Add annotations\n",
    "    )\n",
    "\n",
    "    fig.show()\n"
   ]
  },
  {
   "cell_type": "code",
   "execution_count": 42,
   "metadata": {},
   "outputs": [
    {
     "data": {
      "application/vnd.plotly.v1+json": {
       "config": {
        "plotlyServerURL": "https://plot.ly"
       },
       "data": [
        {
         "hovertemplate": "clean_name=New York, NY<br>date=%{x}<br>% of New Listings from New Construction=%{y}<extra></extra>",
         "legendgroup": "New York, NY",
         "line": {
          "color": "lightblue",
          "dash": "dash",
          "width": 2
         },
         "marker": {
          "symbol": "circle"
         },
         "mode": "lines",
         "name": "New York, NY",
         "opacity": 0.8,
         "showlegend": true,
         "type": "scattergl",
         "x": [
          "2024-05-01T00:00:00",
          "2024-04-01T00:00:00",
          "2024-03-01T00:00:00",
          "2024-02-01T00:00:00",
          "2024-01-01T00:00:00",
          "2023-12-01T00:00:00",
          "2023-11-01T00:00:00",
          "2023-10-01T00:00:00",
          "2023-09-01T00:00:00",
          "2023-08-01T00:00:00",
          "2023-07-01T00:00:00",
          "2023-06-01T00:00:00",
          "2023-05-01T00:00:00",
          "2023-04-01T00:00:00",
          "2023-03-01T00:00:00",
          "2023-02-01T00:00:00",
          "2023-01-01T00:00:00",
          "2022-12-01T00:00:00",
          "2022-11-01T00:00:00",
          "2022-10-01T00:00:00",
          "2022-09-01T00:00:00"
         ],
         "xaxis": "x",
         "y": [
          0.05747593872848041,
          0.05029360967184801,
          0.057787810383747175,
          0.06688741721854305,
          0.06884470526407988,
          0.06412425034599416,
          0.058625803262481464,
          0.060808385383013856,
          0.05514135971063704,
          0.05179282868525897,
          0.051877394636015324,
          0.062014508570328045,
          0.0605411361410382,
          0.05762146382150553,
          0.06525136754363116,
          0.06769124503539976,
          0.07204246713852376,
          0.07905308464849355,
          0.06757518796992482,
          0.06758581479638974,
          0.07265854682906342
         ],
         "yaxis": "y"
        },
        {
         "hovertemplate": "clean_name=Los Angeles, CA<br>date=%{x}<br>% of New Listings from New Construction=%{y}<extra></extra>",
         "legendgroup": "Los Angeles, CA",
         "line": {
          "color": "lightblue",
          "dash": "dash",
          "width": 2
         },
         "marker": {
          "symbol": "circle"
         },
         "mode": "lines",
         "name": "Los Angeles, CA",
         "opacity": 0.8,
         "showlegend": true,
         "type": "scattergl",
         "x": [
          "2024-05-01T00:00:00",
          "2024-04-01T00:00:00",
          "2024-03-01T00:00:00",
          "2024-02-01T00:00:00",
          "2024-01-01T00:00:00",
          "2023-12-01T00:00:00",
          "2023-11-01T00:00:00",
          "2023-10-01T00:00:00",
          "2023-09-01T00:00:00",
          "2023-08-01T00:00:00",
          "2023-07-01T00:00:00",
          "2023-06-01T00:00:00",
          "2023-05-01T00:00:00",
          "2023-04-01T00:00:00",
          "2023-03-01T00:00:00",
          "2023-02-01T00:00:00",
          "2023-01-01T00:00:00",
          "2022-12-01T00:00:00",
          "2022-11-01T00:00:00",
          "2022-10-01T00:00:00",
          "2022-09-01T00:00:00"
         ],
         "xaxis": "x",
         "y": [
          0.029453602209020165,
          0.02809903195408207,
          0.031770935477544615,
          0.0289238621863037,
          0.03174766259118463,
          0.025024061597690085,
          0.031886957609103414,
          0.032744282744282746,
          0.030501089324618737,
          0.03191695770275514,
          0.030134139429435103,
          0.035453597497393116,
          0.03764600848151179,
          0.03649564375605034,
          0.03685897435897436,
          0.037936618089289845,
          0.04521064048407353,
          0.04750219106047327,
          0.04324450677886863,
          0.04270200625805264,
          0.035857238158772516
         ],
         "yaxis": "y"
        },
        {
         "hovertemplate": "clean_name=Chicago, IL<br>date=%{x}<br>% of New Listings from New Construction=%{y}<extra></extra>",
         "legendgroup": "Chicago, IL",
         "line": {
          "color": "lightblue",
          "dash": "dash",
          "width": 2
         },
         "marker": {
          "symbol": "circle"
         },
         "mode": "lines",
         "name": "Chicago, IL",
         "opacity": 0.8,
         "showlegend": true,
         "type": "scattergl",
         "x": [
          "2024-05-01T00:00:00",
          "2024-04-01T00:00:00",
          "2024-03-01T00:00:00",
          "2024-02-01T00:00:00",
          "2024-01-01T00:00:00",
          "2023-12-01T00:00:00",
          "2023-11-01T00:00:00",
          "2023-10-01T00:00:00",
          "2023-09-01T00:00:00",
          "2023-08-01T00:00:00",
          "2023-07-01T00:00:00",
          "2023-06-01T00:00:00",
          "2023-05-01T00:00:00",
          "2023-04-01T00:00:00",
          "2023-03-01T00:00:00",
          "2023-02-01T00:00:00",
          "2023-01-01T00:00:00",
          "2022-12-01T00:00:00",
          "2022-11-01T00:00:00",
          "2022-10-01T00:00:00",
          "2022-09-01T00:00:00"
         ],
         "xaxis": "x",
         "y": [
          0.03390677421657506,
          0.03727788279773157,
          0.034894796086241235,
          0.04442177501622925,
          0.05531813865147198,
          0.052384937238493724,
          0.04778780068728522,
          0.04563199444781817,
          0.03730569948186528,
          0.03536693191865606,
          0.043726098564109965,
          0.039253326272588866,
          0.04294223576672669,
          0.04691531785127844,
          0.05631097795190904,
          0.0603464686845612,
          0.07009116753259484,
          0.0650500943807173,
          0.05253067484662577,
          0.051984185092985795,
          0.05169931776929336
         ],
         "yaxis": "y"
        },
        {
         "hovertemplate": "clean_name=Dallas, TX<br>date=%{x}<br>% of New Listings from New Construction=%{y}<extra></extra>",
         "legendgroup": "Dallas, TX",
         "line": {
          "color": "lightblue",
          "dash": "dash",
          "width": 2
         },
         "marker": {
          "symbol": "circle"
         },
         "mode": "lines",
         "name": "Dallas, TX",
         "opacity": 0.8,
         "showlegend": true,
         "type": "scattergl",
         "x": [
          "2024-05-01T00:00:00",
          "2024-04-01T00:00:00",
          "2024-03-01T00:00:00",
          "2024-02-01T00:00:00",
          "2024-01-01T00:00:00",
          "2023-12-01T00:00:00",
          "2023-11-01T00:00:00",
          "2023-10-01T00:00:00",
          "2023-09-01T00:00:00",
          "2023-08-01T00:00:00",
          "2023-07-01T00:00:00",
          "2023-06-01T00:00:00",
          "2023-05-01T00:00:00",
          "2023-04-01T00:00:00",
          "2023-03-01T00:00:00",
          "2023-02-01T00:00:00",
          "2023-01-01T00:00:00",
          "2022-12-01T00:00:00",
          "2022-11-01T00:00:00",
          "2022-10-01T00:00:00",
          "2022-09-01T00:00:00"
         ],
         "xaxis": "x",
         "y": [
          0.12314724126673196,
          0.12277227722772277,
          0.12454886419927819,
          0.13577229362138296,
          0.16358863785506703,
          0.1695613019426219,
          0.14762952590518102,
          0.15687977762334954,
          0.13710967090312262,
          0.15272837357148264,
          0.1397129186602871,
          0.1592055686825468,
          0.1692680301399354,
          0.1818737115369932,
          0.1989814477991997,
          0.21290905440674562,
          0.24195899329511222,
          0.2731932342388519,
          0.24104046242774566,
          0.24585170340681362,
          0.21580680570801317
         ],
         "yaxis": "y"
        },
        {
         "hovertemplate": "clean_name=Houston, TX<br>date=%{x}<br>% of New Listings from New Construction=%{y}<extra></extra>",
         "legendgroup": "Houston, TX",
         "line": {
          "color": "lightblue",
          "dash": "dash",
          "width": 2
         },
         "marker": {
          "symbol": "circle"
         },
         "mode": "lines",
         "name": "Houston, TX",
         "opacity": 0.8,
         "showlegend": true,
         "type": "scattergl",
         "x": [
          "2024-05-01T00:00:00",
          "2024-04-01T00:00:00",
          "2024-03-01T00:00:00",
          "2024-02-01T00:00:00",
          "2024-01-01T00:00:00",
          "2023-12-01T00:00:00",
          "2023-11-01T00:00:00",
          "2023-10-01T00:00:00",
          "2023-09-01T00:00:00",
          "2023-08-01T00:00:00",
          "2023-07-01T00:00:00",
          "2023-06-01T00:00:00",
          "2023-05-01T00:00:00",
          "2023-04-01T00:00:00",
          "2023-03-01T00:00:00",
          "2023-02-01T00:00:00",
          "2023-01-01T00:00:00",
          "2022-12-01T00:00:00",
          "2022-11-01T00:00:00",
          "2022-10-01T00:00:00",
          "2022-09-01T00:00:00"
         ],
         "xaxis": "x",
         "y": [
          0.1454339723109691,
          0.12895506514224941,
          0.1289822385114181,
          0.1418570659281483,
          0.15800433116774945,
          0.17545519035232915,
          0.1477110497763396,
          0.1523291397483849,
          0.1453512655584329,
          0.14521477015825168,
          0.14980944004690708,
          0.15473636304531566,
          0.1685016754427956,
          0.1846234309623431,
          0.1904694669961172,
          0.23299438990182328,
          0.24690712667712145,
          0.2703888821162989,
          0.266786840919333,
          0.2544838581108011,
          0.23788901198509416
         ],
         "yaxis": "y"
        },
        {
         "hovertemplate": "clean_name=Washington, DC<br>date=%{x}<br>% of New Listings from New Construction=%{y}<extra></extra>",
         "legendgroup": "Washington, DC",
         "line": {
          "color": "lightblue",
          "dash": "dash",
          "width": 2
         },
         "marker": {
          "symbol": "circle"
         },
         "mode": "lines",
         "name": "Washington, DC",
         "opacity": 0.8,
         "showlegend": true,
         "type": "scattergl",
         "x": [
          "2024-05-01T00:00:00",
          "2024-04-01T00:00:00",
          "2024-03-01T00:00:00",
          "2024-02-01T00:00:00",
          "2024-01-01T00:00:00",
          "2023-12-01T00:00:00",
          "2023-11-01T00:00:00",
          "2023-10-01T00:00:00",
          "2023-09-01T00:00:00",
          "2023-08-01T00:00:00",
          "2023-07-01T00:00:00",
          "2023-06-01T00:00:00",
          "2023-05-01T00:00:00",
          "2023-04-01T00:00:00",
          "2023-03-01T00:00:00",
          "2023-02-01T00:00:00",
          "2023-01-01T00:00:00",
          "2022-12-01T00:00:00",
          "2022-11-01T00:00:00",
          "2022-10-01T00:00:00",
          "2022-09-01T00:00:00"
         ],
         "xaxis": "x",
         "y": [
          0.046132008516678494,
          0.047206582936336075,
          0.049300060864272674,
          0.04853223189260953,
          0.06658358554388463,
          0.05962800875273523,
          0.06283470189218136,
          0.05840235855678787,
          0.05457444199166053,
          0.059194440869900916,
          0.06569168065212179,
          0.06861819326408561,
          0.07192107775538348,
          0.07255520504731862,
          0.08590072742832691,
          0.1142194744976816,
          0.12540822991508818,
          0.13005109150023222,
          0.11312007417709782,
          0.11670663469224621,
          0.08443373493975903
         ],
         "yaxis": "y"
        },
        {
         "hovertemplate": "clean_name=Philadelphia, PA<br>date=%{x}<br>% of New Listings from New Construction=%{y}<extra></extra>",
         "legendgroup": "Philadelphia, PA",
         "line": {
          "color": "lightblue",
          "dash": "dash",
          "width": 2
         },
         "marker": {
          "symbol": "circle"
         },
         "mode": "lines",
         "name": "Philadelphia, PA",
         "opacity": 0.8,
         "showlegend": true,
         "type": "scattergl",
         "x": [
          "2024-05-01T00:00:00",
          "2024-04-01T00:00:00",
          "2024-03-01T00:00:00",
          "2024-02-01T00:00:00",
          "2024-01-01T00:00:00",
          "2023-12-01T00:00:00",
          "2023-11-01T00:00:00",
          "2023-10-01T00:00:00",
          "2023-09-01T00:00:00",
          "2023-08-01T00:00:00",
          "2023-07-01T00:00:00",
          "2023-06-01T00:00:00",
          "2023-05-01T00:00:00",
          "2023-04-01T00:00:00",
          "2023-03-01T00:00:00",
          "2023-02-01T00:00:00",
          "2023-01-01T00:00:00",
          "2022-12-01T00:00:00",
          "2022-11-01T00:00:00",
          "2022-10-01T00:00:00",
          "2022-09-01T00:00:00"
         ],
         "xaxis": "x",
         "y": [
          0.02994895065229722,
          0.030003614893360647,
          0.02689189189189189,
          0.02926015767131595,
          0.023111919927206553,
          0.02258678078934855,
          0.024490466798159107,
          0.022916382485336242,
          0.023647765874052783,
          0.021404333072304882,
          0.025869874531108523,
          0.028850574712643677,
          0.035029975314446925,
          0.03500554665351904,
          0.03918495297805643,
          0.03904155495978552,
          0.04059701492537313,
          0.04889896373056995,
          0.046365612170973194,
          0.04035124398912816,
          0.04762857714628777
         ],
         "yaxis": "y"
        },
        {
         "hovertemplate": "clean_name=Miami, FL<br>date=%{x}<br>% of New Listings from New Construction=%{y}<extra></extra>",
         "legendgroup": "Miami, FL",
         "line": {
          "color": "lightblue",
          "dash": "dash",
          "width": 2
         },
         "marker": {
          "symbol": "circle"
         },
         "mode": "lines",
         "name": "Miami, FL",
         "opacity": 0.8,
         "showlegend": true,
         "type": "scattergl",
         "x": [
          "2024-05-01T00:00:00",
          "2024-04-01T00:00:00",
          "2024-03-01T00:00:00",
          "2024-02-01T00:00:00",
          "2024-01-01T00:00:00",
          "2023-12-01T00:00:00",
          "2023-11-01T00:00:00",
          "2023-10-01T00:00:00",
          "2023-09-01T00:00:00",
          "2023-08-01T00:00:00",
          "2023-07-01T00:00:00",
          "2023-06-01T00:00:00",
          "2023-05-01T00:00:00",
          "2023-04-01T00:00:00",
          "2023-03-01T00:00:00",
          "2023-02-01T00:00:00",
          "2023-01-01T00:00:00",
          "2022-12-01T00:00:00",
          "2022-11-01T00:00:00",
          "2022-10-01T00:00:00",
          "2022-09-01T00:00:00"
         ],
         "xaxis": "x",
         "y": [
          0.019400467168440176,
          0.019239990409973626,
          0.021237864077669904,
          0.020584095707248416,
          0.020656959024720624,
          0.023456364263539153,
          0.023653860280614118,
          0.021817695087672333,
          0.02832574607991907,
          0.025854700854700853,
          0.0278455124675529,
          0.026792127567878177,
          0.02656239466055417,
          0.028534556925724118,
          0.03098270290819236,
          0.02976232456449679,
          0.03408403361344538,
          0.035770259057804,
          0.03919738684087728,
          0.034800261001957516,
          0.031872224609654776
         ],
         "yaxis": "y"
        },
        {
         "hovertemplate": "clean_name=Atlanta, GA<br>date=%{x}<br>% of New Listings from New Construction=%{y}<extra></extra>",
         "legendgroup": "Atlanta, GA",
         "line": {
          "color": "lightblue",
          "dash": "dash",
          "width": 2
         },
         "marker": {
          "symbol": "circle"
         },
         "mode": "lines",
         "name": "Atlanta, GA",
         "opacity": 0.8,
         "showlegend": true,
         "type": "scattergl",
         "x": [
          "2024-05-01T00:00:00",
          "2024-04-01T00:00:00",
          "2024-03-01T00:00:00",
          "2024-02-01T00:00:00",
          "2024-01-01T00:00:00",
          "2023-12-01T00:00:00",
          "2023-11-01T00:00:00",
          "2023-10-01T00:00:00",
          "2023-09-01T00:00:00",
          "2023-08-01T00:00:00",
          "2023-07-01T00:00:00",
          "2023-06-01T00:00:00",
          "2023-05-01T00:00:00",
          "2023-04-01T00:00:00",
          "2023-03-01T00:00:00",
          "2023-02-01T00:00:00",
          "2023-01-01T00:00:00",
          "2022-12-01T00:00:00",
          "2022-11-01T00:00:00",
          "2022-10-01T00:00:00",
          "2022-09-01T00:00:00"
         ],
         "xaxis": "x",
         "y": [
          0.06857697186777106,
          0.0675384501077346,
          0.0711850971066191,
          0.07914298207258418,
          0.09288044521205142,
          0.09275985663082437,
          0.10006380263717567,
          0.09726526891522333,
          0.10034943105456501,
          0.09016120990526841,
          0.09176900099568536,
          0.09530191348373167,
          0.10860671555384022,
          0.11425699447143575,
          0.120350278983261,
          0.12682326198143587,
          0.14809510169006015,
          0.15373855544252288,
          0.12908163265306122,
          0.11932097752993276,
          0.1258436751578489
         ],
         "yaxis": "y"
        },
        {
         "hovertemplate": "clean_name=Boston, MA<br>date=%{x}<br>% of New Listings from New Construction=%{y}<extra></extra>",
         "legendgroup": "Boston, MA",
         "line": {
          "color": "lightblue",
          "dash": "dash",
          "width": 2
         },
         "marker": {
          "symbol": "circle"
         },
         "mode": "lines",
         "name": "Boston, MA",
         "opacity": 0.8,
         "showlegend": true,
         "type": "scattergl",
         "x": [
          "2024-05-01T00:00:00",
          "2024-04-01T00:00:00",
          "2024-03-01T00:00:00",
          "2024-02-01T00:00:00",
          "2024-01-01T00:00:00",
          "2023-12-01T00:00:00",
          "2023-11-01T00:00:00",
          "2023-10-01T00:00:00",
          "2023-09-01T00:00:00",
          "2023-08-01T00:00:00",
          "2023-07-01T00:00:00",
          "2023-06-01T00:00:00",
          "2023-05-01T00:00:00",
          "2023-04-01T00:00:00",
          "2023-03-01T00:00:00",
          "2023-02-01T00:00:00",
          "2023-01-01T00:00:00",
          "2022-12-01T00:00:00",
          "2022-11-01T00:00:00",
          "2022-10-01T00:00:00",
          "2022-09-01T00:00:00"
         ],
         "xaxis": "x",
         "y": [
          0.0915246322671025,
          0.0965481443031404,
          0.11689008042895442,
          0.12164652877329511,
          0.14926679798643028,
          0.11549165120593692,
          0.1059663671964985,
          0.10959141274238227,
          0.11515863689776733,
          0.0940186573989391,
          0.11266865253197828,
          0.11418234442836468,
          0.12954545454545455,
          0.1276083467094703,
          0.1407035175879397,
          0.1986349729348082,
          0.20995670995670995,
          0.17471166168304145,
          0.15635813148788927,
          0.14209535759096611,
          0.13399951842041896
         ],
         "yaxis": "y"
        },
        {
         "hovertemplate": "clean_name=Phoenix, AZ<br>date=%{x}<br>% of New Listings from New Construction=%{y}<extra></extra>",
         "legendgroup": "Phoenix, AZ",
         "line": {
          "color": "lightblue",
          "dash": "dash",
          "width": 2
         },
         "marker": {
          "symbol": "circle"
         },
         "mode": "lines",
         "name": "Phoenix, AZ",
         "opacity": 0.8,
         "showlegend": true,
         "type": "scattergl",
         "x": [
          "2024-05-01T00:00:00",
          "2024-04-01T00:00:00",
          "2024-03-01T00:00:00",
          "2024-02-01T00:00:00",
          "2024-01-01T00:00:00",
          "2023-12-01T00:00:00",
          "2023-11-01T00:00:00",
          "2023-10-01T00:00:00",
          "2023-09-01T00:00:00",
          "2023-08-01T00:00:00",
          "2023-07-01T00:00:00",
          "2023-06-01T00:00:00",
          "2023-05-01T00:00:00",
          "2023-04-01T00:00:00",
          "2023-03-01T00:00:00",
          "2023-02-01T00:00:00",
          "2023-01-01T00:00:00",
          "2022-12-01T00:00:00",
          "2022-11-01T00:00:00",
          "2022-10-01T00:00:00",
          "2022-09-01T00:00:00"
         ],
         "xaxis": "x",
         "y": [
          0.07896305125148986,
          0.06643869076697606,
          0.07278846153846154,
          0.07724404640749033,
          0.03823409461663948,
          0.03598326359832636,
          0.03377857693295659,
          0.03872799545712663,
          0.04131054131054131,
          0.06609334235191806,
          0.06523148748541045,
          0.07594644506001846,
          0.09571106094808127,
          0.0979336117828094,
          0.10930845670249442,
          0.11696742957746478,
          0.11562911003945638,
          0.13456221198156681,
          0.12089590226520742,
          0.11466901684292989,
          0.09828799860954202
         ],
         "yaxis": "y"
        },
        {
         "hovertemplate": "clean_name=San Francisco, CA<br>date=%{x}<br>% of New Listings from New Construction=%{y}<extra></extra>",
         "legendgroup": "San Francisco, CA",
         "line": {
          "color": "lightblue",
          "dash": "dash",
          "width": 2
         },
         "marker": {
          "symbol": "circle"
         },
         "mode": "lines",
         "name": "San Francisco, CA",
         "opacity": 0.8,
         "showlegend": true,
         "type": "scattergl",
         "x": [
          "2024-05-01T00:00:00",
          "2024-04-01T00:00:00",
          "2024-03-01T00:00:00",
          "2024-02-01T00:00:00",
          "2024-01-01T00:00:00",
          "2023-12-01T00:00:00",
          "2023-11-01T00:00:00",
          "2023-10-01T00:00:00",
          "2023-09-01T00:00:00",
          "2023-08-01T00:00:00",
          "2023-07-01T00:00:00",
          "2023-06-01T00:00:00",
          "2023-05-01T00:00:00",
          "2023-04-01T00:00:00",
          "2023-03-01T00:00:00",
          "2023-02-01T00:00:00",
          "2023-01-01T00:00:00",
          "2022-12-01T00:00:00",
          "2022-11-01T00:00:00",
          "2022-10-01T00:00:00",
          "2022-09-01T00:00:00"
         ],
         "xaxis": "x",
         "y": [
          0.021383413908516176,
          0.017899291896144767,
          0.021098058019659555,
          0.026621353724157464,
          0.029504080351537978,
          0.04683648315529992,
          0.024286322965487855,
          0.022167487684729065,
          0.027420375448217675,
          0.0275049115913556,
          0.028490759753593428,
          0.03538998835855646,
          0.03636363636363636,
          0.03138337936228973,
          0.03774521976657561,
          0.05223647169221145,
          0.05277777777777778,
          0.05520614954577219,
          0.04679708477176832,
          0.050785083415112856,
          0.03563262195121951
         ],
         "yaxis": "y"
        },
        {
         "hovertemplate": "clean_name=Riverside, CA<br>date=%{x}<br>% of New Listings from New Construction=%{y}<extra></extra>",
         "legendgroup": "Riverside, CA",
         "line": {
          "color": "lightblue",
          "dash": "dash",
          "width": 2
         },
         "marker": {
          "symbol": "circle"
         },
         "mode": "lines",
         "name": "Riverside, CA",
         "opacity": 0.8,
         "showlegend": true,
         "type": "scattergl",
         "x": [
          "2024-05-01T00:00:00",
          "2024-04-01T00:00:00",
          "2024-03-01T00:00:00",
          "2024-02-01T00:00:00",
          "2024-01-01T00:00:00",
          "2023-12-01T00:00:00",
          "2023-11-01T00:00:00",
          "2023-10-01T00:00:00",
          "2023-09-01T00:00:00",
          "2023-08-01T00:00:00",
          "2023-07-01T00:00:00",
          "2023-06-01T00:00:00",
          "2023-05-01T00:00:00",
          "2023-04-01T00:00:00",
          "2023-03-01T00:00:00",
          "2023-02-01T00:00:00",
          "2023-01-01T00:00:00",
          "2022-12-01T00:00:00",
          "2022-11-01T00:00:00",
          "2022-10-01T00:00:00",
          "2022-09-01T00:00:00"
         ],
         "xaxis": "x",
         "y": [
          0.05732484076433121,
          0.055514102372780184,
          0.0468465736810188,
          0.05498167277574142,
          0.056907947767209414,
          0.05696063338464922,
          0.06677921590695929,
          0.0624053826745164,
          0.06959332993023652,
          0.07455640566498453,
          0.07220971373431971,
          0.07135561068145338,
          0.0730400451212634,
          0.07674125433343838,
          0.0805379268661227,
          0.08856022808267996,
          0.08425640094425277,
          0.10439708659293229,
          0.08138969873663751,
          0.09368787276341949,
          0.08969072164948454
         ],
         "yaxis": "y"
        },
        {
         "hovertemplate": "clean_name=Detroit, MI<br>date=%{x}<br>% of New Listings from New Construction=%{y}<extra></extra>",
         "legendgroup": "Detroit, MI",
         "line": {
          "color": "lightblue",
          "dash": "dash",
          "width": 2
         },
         "marker": {
          "symbol": "circle"
         },
         "mode": "lines",
         "name": "Detroit, MI",
         "opacity": 0.8,
         "showlegend": true,
         "type": "scattergl",
         "x": [
          "2024-05-01T00:00:00",
          "2024-04-01T00:00:00",
          "2024-03-01T00:00:00",
          "2024-02-01T00:00:00",
          "2024-01-01T00:00:00",
          "2023-12-01T00:00:00",
          "2023-11-01T00:00:00",
          "2023-10-01T00:00:00",
          "2023-09-01T00:00:00",
          "2023-08-01T00:00:00",
          "2023-07-01T00:00:00",
          "2023-06-01T00:00:00",
          "2023-05-01T00:00:00",
          "2023-04-01T00:00:00",
          "2023-03-01T00:00:00",
          "2023-02-01T00:00:00",
          "2023-01-01T00:00:00",
          "2022-12-01T00:00:00",
          "2022-11-01T00:00:00",
          "2022-10-01T00:00:00",
          "2022-09-01T00:00:00"
         ],
         "xaxis": "x",
         "y": [
          0.028936392075078206,
          0.02252762822329272,
          0.031385108086469174,
          0.033533807180608714,
          0.042383185686989754,
          0.03480589022757698,
          0.0302828618968386,
          0.03190271816881259,
          0.03597122302158273,
          0.05129329241560719,
          0.03283468559837728,
          0.03892973363866458,
          0.04439849166768033,
          0.048465266558966075,
          0.05860589018795324,
          0.0709013209013209,
          0.06331959535406519,
          0.059595029912563276,
          0.048358402070192465,
          0.046192424442391446,
          0.04180298073427845
         ],
         "yaxis": "y"
        },
        {
         "hovertemplate": "clean_name=Seattle, WA<br>date=%{x}<br>% of New Listings from New Construction=%{y}<extra></extra>",
         "legendgroup": "Seattle, WA",
         "line": {
          "color": "lightblue",
          "dash": "dash",
          "width": 2
         },
         "marker": {
          "symbol": "circle"
         },
         "mode": "lines",
         "name": "Seattle, WA",
         "opacity": 0.8,
         "showlegend": true,
         "type": "scattergl",
         "x": [
          "2024-05-01T00:00:00",
          "2024-04-01T00:00:00",
          "2024-03-01T00:00:00",
          "2024-02-01T00:00:00",
          "2024-01-01T00:00:00",
          "2023-12-01T00:00:00",
          "2023-11-01T00:00:00",
          "2023-10-01T00:00:00",
          "2023-09-01T00:00:00",
          "2023-08-01T00:00:00",
          "2023-07-01T00:00:00",
          "2023-06-01T00:00:00",
          "2023-05-01T00:00:00",
          "2023-04-01T00:00:00",
          "2023-03-01T00:00:00",
          "2023-02-01T00:00:00",
          "2023-01-01T00:00:00",
          "2022-12-01T00:00:00",
          "2022-11-01T00:00:00",
          "2022-10-01T00:00:00",
          "2022-09-01T00:00:00"
         ],
         "xaxis": "x",
         "y": [
          0.07869798104655953,
          0.08565380231232698,
          0.10643015521064302,
          0.11990511106318741,
          0.16585644838432942,
          0.18430562725864738,
          0.12807244501940493,
          0.18250087320991967,
          0.07160975609756097,
          0.06277939747327503,
          0.06609569912493019,
          0.09146151449049549,
          0.10286458333333333,
          0.10610079575596817,
          0.11582685153872167,
          0.1459206310081341,
          0.1450381679389313,
          0.15521628498727735,
          0.1369827807761501,
          0.11925640126271483,
          0.10560965573995337
         ],
         "yaxis": "y"
        },
        {
         "hovertemplate": "clean_name=Minneapolis, MN<br>date=%{x}<br>% of New Listings from New Construction=%{y}<extra></extra>",
         "legendgroup": "Minneapolis, MN",
         "line": {
          "color": "lightblue",
          "dash": "dash",
          "width": 2
         },
         "marker": {
          "symbol": "circle"
         },
         "mode": "lines",
         "name": "Minneapolis, MN",
         "opacity": 0.8,
         "showlegend": true,
         "type": "scattergl",
         "x": [
          "2024-05-01T00:00:00",
          "2024-04-01T00:00:00",
          "2024-03-01T00:00:00",
          "2024-02-01T00:00:00",
          "2024-01-01T00:00:00",
          "2023-12-01T00:00:00",
          "2023-11-01T00:00:00",
          "2023-10-01T00:00:00",
          "2023-09-01T00:00:00",
          "2023-08-01T00:00:00",
          "2023-07-01T00:00:00",
          "2023-06-01T00:00:00",
          "2023-05-01T00:00:00",
          "2023-04-01T00:00:00",
          "2023-03-01T00:00:00",
          "2023-02-01T00:00:00",
          "2023-01-01T00:00:00",
          "2022-12-01T00:00:00",
          "2022-11-01T00:00:00",
          "2022-10-01T00:00:00",
          "2022-09-01T00:00:00"
         ],
         "xaxis": "x",
         "y": [
          0.0664413101760112,
          0.07430175063477215,
          0.09397024275646046,
          0.10031757892770408,
          0.15181818181818182,
          0.16785969935576234,
          0.11766109785202863,
          0.10671225481374842,
          0.09637065637065637,
          0.08099101709649377,
          0.08351909644820925,
          0.09505933640106563,
          0.10101668404588113,
          0.12114611260053619,
          0.14550353654429102,
          0.17165030814882448,
          0.20698131760078664,
          0.20156889495225103,
          0.16991391028545538,
          0.1372340425531915,
          0.11994868505452214
         ],
         "yaxis": "y"
        },
        {
         "hovertemplate": "clean_name=San Diego, CA<br>date=%{x}<br>% of New Listings from New Construction=%{y}<extra></extra>",
         "legendgroup": "San Diego, CA",
         "line": {
          "color": "lightblue",
          "dash": "dash",
          "width": 2
         },
         "marker": {
          "symbol": "circle"
         },
         "mode": "lines",
         "name": "San Diego, CA",
         "opacity": 0.8,
         "showlegend": true,
         "type": "scattergl",
         "x": [
          "2024-05-01T00:00:00",
          "2024-04-01T00:00:00",
          "2024-03-01T00:00:00",
          "2024-02-01T00:00:00",
          "2024-01-01T00:00:00",
          "2023-12-01T00:00:00",
          "2023-11-01T00:00:00",
          "2023-10-01T00:00:00",
          "2023-09-01T00:00:00",
          "2023-08-01T00:00:00",
          "2023-07-01T00:00:00",
          "2023-06-01T00:00:00",
          "2023-05-01T00:00:00",
          "2023-04-01T00:00:00",
          "2023-03-01T00:00:00",
          "2023-02-01T00:00:00",
          "2023-01-01T00:00:00",
          "2022-12-01T00:00:00",
          "2022-11-01T00:00:00",
          "2022-10-01T00:00:00",
          "2022-09-01T00:00:00"
         ],
         "xaxis": "x",
         "y": [
          0.033877038895859475,
          0.028224668360146768,
          0.024969549330085262,
          0.017047391749062394,
          0.017976031957390146,
          0.021021021021021023,
          0.028794734677087618,
          0.02202027263194687,
          0.02372644801116539,
          0.024830699774266364,
          0.02296991264962795,
          0.025540275049115914,
          0.0312310491206792,
          0.02805949966193374,
          0.031478537360890305,
          0.04072398190045249,
          0.04069329314242653,
          0.05895691609977324,
          0.04648482520169036,
          0.03827893175074184,
          0.03906457613606165
         ],
         "yaxis": "y"
        },
        {
         "hovertemplate": "clean_name=Tampa, FL<br>date=%{x}<br>% of New Listings from New Construction=%{y}<extra></extra>",
         "legendgroup": "Tampa, FL",
         "line": {
          "color": "lightblue",
          "dash": "dash",
          "width": 2
         },
         "marker": {
          "symbol": "circle"
         },
         "mode": "lines",
         "name": "Tampa, FL",
         "opacity": 0.8,
         "showlegend": true,
         "type": "scattergl",
         "x": [
          "2024-05-01T00:00:00",
          "2024-04-01T00:00:00",
          "2024-03-01T00:00:00",
          "2024-02-01T00:00:00",
          "2024-01-01T00:00:00",
          "2023-12-01T00:00:00",
          "2023-11-01T00:00:00",
          "2023-10-01T00:00:00",
          "2023-09-01T00:00:00",
          "2023-08-01T00:00:00",
          "2023-07-01T00:00:00",
          "2023-06-01T00:00:00",
          "2023-05-01T00:00:00",
          "2023-04-01T00:00:00",
          "2023-03-01T00:00:00",
          "2023-02-01T00:00:00",
          "2023-01-01T00:00:00",
          "2022-12-01T00:00:00",
          "2022-11-01T00:00:00",
          "2022-10-01T00:00:00",
          "2022-09-01T00:00:00"
         ],
         "xaxis": "x",
         "y": [
          0.04391816766733378,
          0.042097488921713444,
          0.03598014888337469,
          0.03523859465128474,
          0.04770376959857667,
          0.048704122456079316,
          0.060668645927455786,
          0.05637457247316901,
          0.052538787023977435,
          0.04836537284192482,
          0.04731781376518219,
          0.050338501856300504,
          0.050933786078098474,
          0.0486960535425802,
          0.05098506170166703,
          0.05923133057650207,
          0.06124707908006395,
          0.06490872210953347,
          0.0733763667500988,
          0.06942375988085692,
          0.08604509445460086
         ],
         "yaxis": "y"
        },
        {
         "hovertemplate": "clean_name=Denver, CO<br>date=%{x}<br>% of New Listings from New Construction=%{y}<extra></extra>",
         "legendgroup": "Denver, CO",
         "line": {
          "color": "lightblue",
          "dash": "dash",
          "width": 2
         },
         "marker": {
          "symbol": "circle"
         },
         "mode": "lines",
         "name": "Denver, CO",
         "opacity": 0.8,
         "showlegend": true,
         "type": "scattergl",
         "x": [
          "2024-05-01T00:00:00",
          "2024-04-01T00:00:00",
          "2024-03-01T00:00:00",
          "2024-02-01T00:00:00",
          "2024-01-01T00:00:00",
          "2023-12-01T00:00:00",
          "2023-11-01T00:00:00",
          "2023-10-01T00:00:00",
          "2023-09-01T00:00:00",
          "2023-08-01T00:00:00",
          "2023-07-01T00:00:00",
          "2023-06-01T00:00:00",
          "2023-05-01T00:00:00",
          "2023-04-01T00:00:00",
          "2023-03-01T00:00:00",
          "2023-02-01T00:00:00",
          "2023-01-01T00:00:00",
          "2022-12-01T00:00:00",
          "2022-11-01T00:00:00",
          "2022-10-01T00:00:00",
          "2022-09-01T00:00:00"
         ],
         "xaxis": "x",
         "y": [
          0.06366438815172229,
          0.05998125585754452,
          0.06114801567024357,
          0.06952879581151833,
          0.10300316122233931,
          0.13604766633565044,
          0.11634615384615385,
          0.09219190968955786,
          0.07786319731914054,
          0.07128233761399591,
          0.07625069741491539,
          0.07369545315837657,
          0.07750784994215833,
          0.08694214876033057,
          0.08713762079306897,
          0.08602403959462644,
          0.0986784140969163,
          0.10971524288107203,
          0.09637155297532655,
          0.0850665557404326,
          0.0775105622359441
         ],
         "yaxis": "y"
        },
        {
         "hovertemplate": "clean_name=Baltimore, MD<br>date=%{x}<br>% of New Listings from New Construction=%{y}<extra></extra>",
         "legendgroup": "Baltimore, MD",
         "line": {
          "color": "lightblue",
          "dash": "dash",
          "width": 2
         },
         "marker": {
          "symbol": "circle"
         },
         "mode": "lines",
         "name": "Baltimore, MD",
         "opacity": 0.8,
         "showlegend": true,
         "type": "scattergl",
         "x": [
          "2024-05-01T00:00:00",
          "2024-04-01T00:00:00",
          "2024-03-01T00:00:00",
          "2024-02-01T00:00:00",
          "2024-01-01T00:00:00",
          "2023-12-01T00:00:00",
          "2023-11-01T00:00:00",
          "2023-10-01T00:00:00",
          "2023-09-01T00:00:00",
          "2023-08-01T00:00:00",
          "2023-07-01T00:00:00",
          "2023-06-01T00:00:00",
          "2023-05-01T00:00:00",
          "2023-04-01T00:00:00",
          "2023-03-01T00:00:00",
          "2023-02-01T00:00:00",
          "2023-01-01T00:00:00",
          "2022-12-01T00:00:00",
          "2022-11-01T00:00:00",
          "2022-10-01T00:00:00",
          "2022-09-01T00:00:00"
         ],
         "xaxis": "x",
         "y": [
          0.024395702775290958,
          0.01974000962927299,
          0.025,
          0.025997045790251107,
          0.020518358531317494,
          0.022559652928416486,
          0.029282115869017633,
          0.023491724506139882,
          0.022370789406016972,
          0.024721279689772176,
          0.025547445255474453,
          0.02619250425894378,
          0.02889784946236559,
          0.03135970044465247,
          0.038629570016095655,
          0.04572502348888193,
          0.05722070844686648,
          0.048538622129436326,
          0.04845360824742268,
          0.07731694828469023,
          0.05425935973955507
         ],
         "yaxis": "y"
        },
        {
         "hovertemplate": "clean_name=St. Louis, MO<br>date=%{x}<br>% of New Listings from New Construction=%{y}<extra></extra>",
         "legendgroup": "St. Louis, MO",
         "line": {
          "color": "lightblue",
          "dash": "dash",
          "width": 2
         },
         "marker": {
          "symbol": "circle"
         },
         "mode": "lines",
         "name": "St. Louis, MO",
         "opacity": 0.8,
         "showlegend": true,
         "type": "scattergl",
         "x": [
          "2024-05-01T00:00:00",
          "2024-04-01T00:00:00",
          "2024-03-01T00:00:00",
          "2024-02-01T00:00:00",
          "2024-01-01T00:00:00",
          "2023-12-01T00:00:00",
          "2023-11-01T00:00:00",
          "2023-10-01T00:00:00",
          "2023-09-01T00:00:00",
          "2023-08-01T00:00:00",
          "2023-07-01T00:00:00",
          "2023-06-01T00:00:00",
          "2023-05-01T00:00:00",
          "2023-04-01T00:00:00",
          "2023-03-01T00:00:00",
          "2023-02-01T00:00:00",
          "2023-01-01T00:00:00",
          "2022-12-01T00:00:00",
          "2022-11-01T00:00:00",
          "2022-10-01T00:00:00",
          "2022-09-01T00:00:00"
         ],
         "xaxis": "x",
         "y": [
          0.020543548041943076,
          0.022952200463255423,
          0.022480058013052938,
          0.025891829689298044,
          0.026973026973026972,
          0.028250934773577065,
          0.02364765001477978,
          0.024036173250832935,
          0.02781609195402299,
          0.028670191134607562,
          0.026262214983713356,
          0.0294,
          0.03199343724364233,
          0.03225806451612903,
          0.034524677850717236,
          0.0279491833030853,
          0.03705783267827063,
          0.030828516377649325,
          0.04427736006683375,
          0.032852564102564104,
          0.0316622691292876
         ],
         "yaxis": "y"
        },
        {
         "hovertemplate": "clean_name=Orlando, FL<br>date=%{x}<br>% of New Listings from New Construction=%{y}<extra></extra>",
         "legendgroup": "Orlando, FL",
         "line": {
          "color": "lightblue",
          "dash": "dash",
          "width": 2
         },
         "marker": {
          "symbol": "circle"
         },
         "mode": "lines",
         "name": "Orlando, FL",
         "opacity": 0.8,
         "showlegend": true,
         "type": "scattergl",
         "x": [
          "2024-05-01T00:00:00",
          "2024-04-01T00:00:00",
          "2024-03-01T00:00:00",
          "2024-02-01T00:00:00",
          "2024-01-01T00:00:00",
          "2023-12-01T00:00:00",
          "2023-11-01T00:00:00",
          "2023-10-01T00:00:00",
          "2023-09-01T00:00:00",
          "2023-08-01T00:00:00",
          "2023-07-01T00:00:00",
          "2023-06-01T00:00:00",
          "2023-05-01T00:00:00",
          "2023-04-01T00:00:00",
          "2023-03-01T00:00:00",
          "2023-02-01T00:00:00",
          "2023-01-01T00:00:00",
          "2022-12-01T00:00:00",
          "2022-11-01T00:00:00",
          "2022-10-01T00:00:00",
          "2022-09-01T00:00:00"
         ],
         "xaxis": "x",
         "y": [
          0.06553804894401609,
          0.06750418760469011,
          0.05872103153859557,
          0.06559139784946237,
          0.06958021851638872,
          0.06926854484362885,
          0.08201000652599522,
          0.0813976573357157,
          0.08313301282051282,
          0.08783029400818756,
          0.08712984054669703,
          0.08678601875532822,
          0.08190644307149161,
          0.08302583025830258,
          0.07429472577536358,
          0.0878942014242116,
          0.09339263024142312,
          0.11412535079513564,
          0.09233644859813084,
          0.12450436161776368,
          0.14201183431952663
         ],
         "yaxis": "y"
        },
        {
         "hovertemplate": "clean_name=Charlotte, NC<br>date=%{x}<br>% of New Listings from New Construction=%{y}<extra></extra>",
         "legendgroup": "Charlotte, NC",
         "line": {
          "color": "lightblue",
          "dash": "dash",
          "width": 2
         },
         "marker": {
          "symbol": "circle"
         },
         "mode": "lines",
         "name": "Charlotte, NC",
         "opacity": 0.8,
         "showlegend": true,
         "type": "scattergl",
         "x": [
          "2024-05-01T00:00:00",
          "2024-04-01T00:00:00",
          "2024-03-01T00:00:00",
          "2024-02-01T00:00:00",
          "2024-01-01T00:00:00",
          "2023-12-01T00:00:00",
          "2023-11-01T00:00:00",
          "2023-10-01T00:00:00",
          "2023-09-01T00:00:00",
          "2023-08-01T00:00:00",
          "2023-07-01T00:00:00",
          "2023-06-01T00:00:00",
          "2023-05-01T00:00:00",
          "2023-04-01T00:00:00",
          "2023-03-01T00:00:00",
          "2023-02-01T00:00:00",
          "2023-01-01T00:00:00",
          "2022-12-01T00:00:00",
          "2022-11-01T00:00:00",
          "2022-10-01T00:00:00",
          "2022-09-01T00:00:00"
         ],
         "xaxis": "x",
         "y": [
          0.10232290266845843,
          0.10447185813415574,
          0.09637801831806828,
          0.10392020412897239,
          0.12008390141583639,
          0.12518796992481204,
          0.13522196261682243,
          0.12228654124457308,
          0.1275011633317822,
          0.12710401381096245,
          0.1403113016016242,
          0.1486652977412731,
          0.16978033258057892,
          0.1795970852978997,
          0.20512820512820512,
          0.22579858571080225,
          0.2388758782201405,
          0.24189696349368817,
          0.24700897308075773,
          0.2560519582759299,
          0.21846846846846846
         ],
         "yaxis": "y"
        },
        {
         "hovertemplate": "clean_name=San Antonio, TX<br>date=%{x}<br>% of New Listings from New Construction=%{y}<extra></extra>",
         "legendgroup": "San Antonio, TX",
         "line": {
          "color": "lightblue",
          "dash": "dash",
          "width": 2
         },
         "marker": {
          "symbol": "circle"
         },
         "mode": "lines",
         "name": "San Antonio, TX",
         "opacity": 0.8,
         "showlegend": true,
         "type": "scattergl",
         "x": [
          "2024-05-01T00:00:00",
          "2024-04-01T00:00:00",
          "2024-03-01T00:00:00",
          "2024-02-01T00:00:00",
          "2024-01-01T00:00:00",
          "2023-12-01T00:00:00",
          "2023-11-01T00:00:00",
          "2023-10-01T00:00:00",
          "2023-09-01T00:00:00",
          "2023-08-01T00:00:00",
          "2023-07-01T00:00:00",
          "2023-06-01T00:00:00",
          "2023-05-01T00:00:00",
          "2023-04-01T00:00:00",
          "2023-03-01T00:00:00",
          "2023-02-01T00:00:00",
          "2023-01-01T00:00:00",
          "2022-12-01T00:00:00",
          "2022-11-01T00:00:00",
          "2022-10-01T00:00:00",
          "2022-09-01T00:00:00"
         ],
         "xaxis": "x",
         "y": [
          0.140220700152207,
          0.13428516303299248,
          0.12772646885439182,
          0.12436715826546335,
          0.1508204633204633,
          0.12353666050523722,
          0.13598937583001328,
          0.1451156205757433,
          0.1459838942804047,
          0.13416320885200553,
          0.12853773584905662,
          0.1420654911838791,
          0.17417824466282616,
          0.17939898624185374,
          0.19724852599606932,
          0.22382598089042488,
          0.23205268935236004,
          0.24991832734400524,
          0.2712783994574432,
          0.2865776081424936,
          0.2627419992097985
         ],
         "yaxis": "y"
        },
        {
         "hovertemplate": "clean_name=Portland, OR<br>date=%{x}<br>% of New Listings from New Construction=%{y}<extra></extra>",
         "legendgroup": "Portland, OR",
         "line": {
          "color": "lightblue",
          "dash": "dash",
          "width": 2
         },
         "marker": {
          "symbol": "circle"
         },
         "mode": "lines",
         "name": "Portland, OR",
         "opacity": 0.8,
         "showlegend": true,
         "type": "scattergl",
         "x": [
          "2024-05-01T00:00:00",
          "2024-04-01T00:00:00",
          "2024-03-01T00:00:00",
          "2024-02-01T00:00:00",
          "2024-01-01T00:00:00",
          "2023-12-01T00:00:00",
          "2023-11-01T00:00:00",
          "2023-10-01T00:00:00",
          "2023-09-01T00:00:00",
          "2023-08-01T00:00:00",
          "2023-07-01T00:00:00",
          "2023-06-01T00:00:00",
          "2023-05-01T00:00:00",
          "2023-04-01T00:00:00",
          "2023-03-01T00:00:00",
          "2023-02-01T00:00:00",
          "2023-01-01T00:00:00",
          "2022-12-01T00:00:00",
          "2022-11-01T00:00:00",
          "2022-10-01T00:00:00",
          "2022-09-01T00:00:00"
         ],
         "xaxis": "x",
         "y": [
          0.06419799032378116,
          0.07528409090909091,
          0.08115792194365469,
          0.08746447742342911,
          0.12268437609227544,
          0.12263575350823673,
          0.11313732787495348,
          0.09466019417475728,
          0.10371767241379311,
          0.09236363636363637,
          0.08236927348449792,
          0.0992156862745098,
          0.11394422310756971,
          0.13175591531755915,
          0.14725163893091275,
          0.16430092264017032,
          0.18359643102264928,
          0.16989485334809076,
          0.14218009478672985,
          0.12676417757249167,
          0.11317567567567567
         ],
         "yaxis": "y"
        },
        {
         "hovertemplate": "clean_name=Sacramento, CA<br>date=%{x}<br>% of New Listings from New Construction=%{y}<extra></extra>",
         "legendgroup": "Sacramento, CA",
         "line": {
          "color": "lightblue",
          "dash": "dash",
          "width": 2
         },
         "marker": {
          "symbol": "circle"
         },
         "mode": "lines",
         "name": "Sacramento, CA",
         "opacity": 0.8,
         "showlegend": true,
         "type": "scattergl",
         "x": [
          "2024-05-01T00:00:00",
          "2024-04-01T00:00:00",
          "2024-03-01T00:00:00",
          "2024-02-01T00:00:00",
          "2024-01-01T00:00:00",
          "2023-12-01T00:00:00",
          "2023-11-01T00:00:00",
          "2023-10-01T00:00:00",
          "2023-09-01T00:00:00",
          "2023-08-01T00:00:00",
          "2023-07-01T00:00:00",
          "2023-06-01T00:00:00",
          "2023-05-01T00:00:00",
          "2023-04-01T00:00:00",
          "2023-03-01T00:00:00",
          "2023-02-01T00:00:00",
          "2023-01-01T00:00:00",
          "2022-12-01T00:00:00",
          "2022-11-01T00:00:00",
          "2022-10-01T00:00:00",
          "2022-09-01T00:00:00"
         ],
         "xaxis": "x",
         "y": [
          0.043382756727073035,
          0.04270573566084788,
          0.04671584123638918,
          0.047769265434880574,
          0.08803301237964237,
          0.08357558139534883,
          0.06699266503667482,
          0.06647398843930635,
          0.06780923994038748,
          0.06484196806777452,
          0.05816788575409265,
          0.0625,
          0.06832107843137254,
          0.06680369989722508,
          0.06426155580608793,
          0.06669535283993115,
          0.07407407407407407,
          0.11189358372456965,
          0.10254237288135593,
          0.09642301710730948,
          0.11253430924062215
         ],
         "yaxis": "y"
        },
        {
         "hovertemplate": "clean_name=Pittsburgh, PA<br>date=%{x}<br>% of New Listings from New Construction=%{y}<extra></extra>",
         "legendgroup": "Pittsburgh, PA",
         "line": {
          "color": "lightblue",
          "dash": "dash",
          "width": 2
         },
         "marker": {
          "symbol": "circle"
         },
         "mode": "lines",
         "name": "Pittsburgh, PA",
         "opacity": 0.8,
         "showlegend": true,
         "type": "scattergl",
         "x": [
          "2024-05-01T00:00:00",
          "2024-04-01T00:00:00",
          "2024-03-01T00:00:00",
          "2024-02-01T00:00:00",
          "2024-01-01T00:00:00",
          "2023-12-01T00:00:00",
          "2023-11-01T00:00:00",
          "2023-10-01T00:00:00",
          "2023-09-01T00:00:00",
          "2023-08-01T00:00:00",
          "2023-07-01T00:00:00",
          "2023-06-01T00:00:00",
          "2023-05-01T00:00:00",
          "2023-04-01T00:00:00",
          "2023-03-01T00:00:00",
          "2023-02-01T00:00:00",
          "2023-01-01T00:00:00",
          "2022-12-01T00:00:00",
          "2022-11-01T00:00:00",
          "2022-10-01T00:00:00",
          "2022-09-01T00:00:00"
         ],
         "xaxis": "x",
         "y": [
          0.04461538461538461,
          0.041245791245791245,
          0.05302651325662831,
          0.048701298701298704,
          0.0473186119873817,
          0.03145235892691952,
          0.03970678069639585,
          0.030407062285434036,
          0.03895463510848126,
          0.0451505016722408,
          0.048875432525951557,
          0.038553259141494434,
          0.038605230386052306,
          0.04659661946094107,
          0.05398110661268556,
          0.05110410094637224,
          0.06092436974789916,
          0.0641925777331996,
          0.060126582278481014,
          0.061628760088041086,
          0.05630791161796151
         ],
         "yaxis": "y"
        },
        {
         "hovertemplate": "clean_name=Austin, TX<br>date=%{x}<br>% of New Listings from New Construction=%{y}<extra></extra>",
         "legendgroup": "Austin, TX",
         "line": {
          "color": "lightblue",
          "dash": "dash",
          "width": 2
         },
         "marker": {
          "symbol": "circle"
         },
         "mode": "lines",
         "name": "Austin, TX",
         "opacity": 0.8,
         "showlegend": true,
         "type": "scattergl",
         "x": [
          "2024-05-01T00:00:00",
          "2024-04-01T00:00:00",
          "2024-03-01T00:00:00",
          "2024-02-01T00:00:00",
          "2024-01-01T00:00:00",
          "2023-12-01T00:00:00",
          "2023-11-01T00:00:00",
          "2023-10-01T00:00:00",
          "2023-09-01T00:00:00",
          "2023-08-01T00:00:00",
          "2023-07-01T00:00:00",
          "2023-06-01T00:00:00",
          "2023-05-01T00:00:00",
          "2023-04-01T00:00:00",
          "2023-03-01T00:00:00",
          "2023-02-01T00:00:00",
          "2023-01-01T00:00:00",
          "2022-12-01T00:00:00",
          "2022-11-01T00:00:00",
          "2022-10-01T00:00:00",
          "2022-09-01T00:00:00"
         ],
         "xaxis": "x",
         "y": [
          0.15106951871657753,
          0.1730800193205603,
          0.1632,
          0.18496395468589083,
          0.20544290288153683,
          0.2230497843982752,
          0.1986490635554191,
          0.1837908496732026,
          0.17361601884570083,
          0.17441133569493644,
          0.1634513461946152,
          0.17002118644067796,
          0.19507845934379459,
          0.18500986193293886,
          0.20356281313787344,
          0.22886653982060343,
          0.25382877228219936,
          0.2783143107989464,
          0.2848053892215569,
          0.2300511894007829,
          0.22049356223175964
         ],
         "yaxis": "y"
        },
        {
         "hovertemplate": "clean_name=Las Vegas, NV<br>date=%{x}<br>% of New Listings from New Construction=%{y}<extra></extra>",
         "legendgroup": "Las Vegas, NV",
         "line": {
          "color": "lightblue",
          "dash": "dash",
          "width": 2
         },
         "marker": {
          "symbol": "circle"
         },
         "mode": "lines",
         "name": "Las Vegas, NV",
         "opacity": 0.8,
         "showlegend": true,
         "type": "scattergl",
         "x": [
          "2024-05-01T00:00:00",
          "2024-04-01T00:00:00",
          "2024-03-01T00:00:00",
          "2024-02-01T00:00:00",
          "2024-01-01T00:00:00",
          "2023-12-01T00:00:00",
          "2023-11-01T00:00:00",
          "2023-10-01T00:00:00",
          "2023-09-01T00:00:00",
          "2023-08-01T00:00:00",
          "2023-07-01T00:00:00",
          "2023-06-01T00:00:00",
          "2023-05-01T00:00:00",
          "2023-04-01T00:00:00",
          "2023-03-01T00:00:00",
          "2023-02-01T00:00:00",
          "2023-01-01T00:00:00",
          "2022-12-01T00:00:00",
          "2022-11-01T00:00:00",
          "2022-10-01T00:00:00",
          "2022-09-01T00:00:00"
         ],
         "xaxis": "x",
         "y": [
          0.07191489361702127,
          0.06878565607171964,
          0.06498523062940241,
          0.07592190889370933,
          0.07466870540265036,
          0.08320552147239264,
          0.08159117305458768,
          0.06833996023856859,
          0.08797729618163054,
          0.08089995213020584,
          0.08195020746887967,
          0.09200637667957186,
          0.09148889377611612,
          0.09968210717529519,
          0.0897377938517179,
          0.08457085325950163,
          0.1054369918699187,
          0.11754855994641661,
          0.1075147762454264,
          0.09895939604162415,
          0.0942872026393471
         ],
         "yaxis": "y"
        },
        {
         "hovertemplate": "clean_name=Cincinnati, OH<br>date=%{x}<br>% of New Listings from New Construction=%{y}<extra></extra>",
         "legendgroup": "Cincinnati, OH",
         "line": {
          "color": "lightblue",
          "dash": "dash",
          "width": 2
         },
         "marker": {
          "symbol": "circle"
         },
         "mode": "lines",
         "name": "Cincinnati, OH",
         "opacity": 0.8,
         "showlegend": true,
         "type": "scattergl",
         "x": [
          "2024-05-01T00:00:00",
          "2024-04-01T00:00:00",
          "2024-03-01T00:00:00",
          "2024-02-01T00:00:00",
          "2024-01-01T00:00:00",
          "2023-12-01T00:00:00",
          "2023-11-01T00:00:00",
          "2023-10-01T00:00:00",
          "2023-09-01T00:00:00",
          "2023-08-01T00:00:00",
          "2023-07-01T00:00:00",
          "2023-06-01T00:00:00",
          "2023-05-01T00:00:00",
          "2023-04-01T00:00:00",
          "2023-03-01T00:00:00",
          "2023-02-01T00:00:00",
          "2023-01-01T00:00:00",
          "2022-12-01T00:00:00",
          "2022-11-01T00:00:00",
          "2022-10-01T00:00:00",
          "2022-09-01T00:00:00"
         ],
         "xaxis": "x",
         "y": [
          0.04125508425334108,
          0.027325759901750075,
          0.03126061841658172,
          0.03986981285598047,
          0.03417602996254682,
          0.04539800995024876,
          0.035184400169563375,
          0.04780048493245584,
          0.0462406015037594,
          0.03312704768838733,
          0.03375,
          0.03447332421340629,
          0.04131717924821373,
          0.04034273473759371,
          0.042495784148397976,
          0.041423570595099185,
          0.07293666026871401,
          0.09500805152979067,
          0.06307692307692307,
          0.06800618238021638,
          0.053516819571865444
         ],
         "yaxis": "y"
        },
        {
         "hovertemplate": "clean_name=Kansas City, MO<br>date=%{x}<br>% of New Listings from New Construction=%{y}<extra></extra>",
         "legendgroup": "Kansas City, MO",
         "line": {
          "color": "lightblue",
          "dash": "dash",
          "width": 2
         },
         "marker": {
          "symbol": "circle"
         },
         "mode": "lines",
         "name": "Kansas City, MO",
         "opacity": 0.8,
         "showlegend": true,
         "type": "scattergl",
         "x": [
          "2024-05-01T00:00:00",
          "2024-04-01T00:00:00",
          "2024-03-01T00:00:00",
          "2024-02-01T00:00:00",
          "2024-01-01T00:00:00",
          "2023-12-01T00:00:00",
          "2023-11-01T00:00:00",
          "2023-10-01T00:00:00",
          "2023-09-01T00:00:00",
          "2023-08-01T00:00:00",
          "2023-07-01T00:00:00",
          "2023-06-01T00:00:00",
          "2023-05-01T00:00:00",
          "2023-04-01T00:00:00",
          "2023-03-01T00:00:00",
          "2023-02-01T00:00:00",
          "2023-01-01T00:00:00",
          "2022-12-01T00:00:00",
          "2022-11-01T00:00:00",
          "2022-10-01T00:00:00",
          "2022-09-01T00:00:00"
         ],
         "xaxis": "x",
         "y": [
          0.05575785161583978,
          0.06005398110661268,
          0.06388088376560999,
          0.06370597243491577,
          0.06983240223463687,
          0.07028913260219342,
          0.06802721088435375,
          0.06096832038254633,
          0.07029177718832891,
          0.06314398943196829,
          0.05570890840652447,
          0.061283185840707965,
          0.057279780921953447,
          0.094976255936016,
          0.0887335305189567,
          0.11148225469728601,
          0.1831069108092144,
          0.1895424836601307,
          0.2287655719139298,
          0.20708154506437768,
          0.2436040044493882
         ],
         "yaxis": "y"
        },
        {
         "hovertemplate": "clean_name=Columbus, OH<br>date=%{x}<br>% of New Listings from New Construction=%{y}<extra></extra>",
         "legendgroup": "Columbus, OH",
         "line": {
          "color": "lightblue",
          "dash": "dash",
          "width": 2
         },
         "marker": {
          "symbol": "circle"
         },
         "mode": "lines",
         "name": "Columbus, OH",
         "opacity": 0.8,
         "showlegend": true,
         "type": "scattergl",
         "x": [
          "2024-05-01T00:00:00",
          "2024-04-01T00:00:00",
          "2024-03-01T00:00:00",
          "2024-02-01T00:00:00",
          "2024-01-01T00:00:00",
          "2023-12-01T00:00:00",
          "2023-11-01T00:00:00",
          "2023-10-01T00:00:00",
          "2023-09-01T00:00:00",
          "2023-08-01T00:00:00",
          "2023-07-01T00:00:00",
          "2023-06-01T00:00:00",
          "2023-05-01T00:00:00",
          "2023-04-01T00:00:00",
          "2023-03-01T00:00:00",
          "2023-02-01T00:00:00",
          "2023-01-01T00:00:00",
          "2022-12-01T00:00:00",
          "2022-11-01T00:00:00",
          "2022-10-01T00:00:00",
          "2022-09-01T00:00:00"
         ],
         "xaxis": "x",
         "y": [
          0.05383542538354254,
          0.05344454742045104,
          0.05378973105134474,
          0.05199025182778229,
          0.0489254686785551,
          0.058673469387755105,
          0.06977739726027397,
          0.05081734186211798,
          0.04625984251968504,
          0.04749262536873156,
          0.04609622587150677,
          0.040515653775322284,
          0.049439494107502154,
          0.06395348837209303,
          0.0667989417989418,
          0.07789382071366406,
          0.089798087141339,
          0.09917355371900827,
          0.09958071278825996,
          0.1557632398753894,
          0.15267175572519084
         ],
         "yaxis": "y"
        },
        {
         "hovertemplate": "clean_name=Indianapolis, IN<br>date=%{x}<br>% of New Listings from New Construction=%{y}<extra></extra>",
         "legendgroup": "Indianapolis, IN",
         "line": {
          "color": "lightblue",
          "dash": "dash",
          "width": 2
         },
         "marker": {
          "symbol": "circle"
         },
         "mode": "lines",
         "name": "Indianapolis, IN",
         "opacity": 0.8,
         "showlegend": true,
         "type": "scattergl",
         "x": [
          "2024-05-01T00:00:00",
          "2024-04-01T00:00:00",
          "2024-03-01T00:00:00",
          "2024-02-01T00:00:00",
          "2024-01-01T00:00:00",
          "2023-12-01T00:00:00",
          "2023-11-01T00:00:00",
          "2023-10-01T00:00:00",
          "2023-09-01T00:00:00",
          "2023-08-01T00:00:00",
          "2023-07-01T00:00:00",
          "2023-06-01T00:00:00",
          "2023-05-01T00:00:00",
          "2023-04-01T00:00:00",
          "2023-03-01T00:00:00",
          "2023-02-01T00:00:00",
          "2023-01-01T00:00:00",
          "2022-12-01T00:00:00",
          "2022-11-01T00:00:00",
          "2022-10-01T00:00:00",
          "2022-09-01T00:00:00"
         ],
         "xaxis": "x",
         "y": [
          0.06930430164630907,
          0.0627023844568737,
          0.06937132239083307,
          0.061532792925571116,
          0.10744165565830031,
          0.07797381900967558,
          0.06703689012296708,
          0.0504364694471387,
          0.0527876631079478,
          0.05782493368700265,
          0.05688789737869492,
          0.07104210773935545,
          0.07938092860708937,
          0.08020624462904612,
          0.10120888389091931,
          0.11649782923299566,
          0.11352040816326531,
          0.1381361533377396,
          0.1744186046511628,
          0.15991316931982633,
          0.167420814479638
         ],
         "yaxis": "y"
        },
        {
         "hovertemplate": "clean_name=Cleveland, OH<br>date=%{x}<br>% of New Listings from New Construction=%{y}<extra></extra>",
         "legendgroup": "Cleveland, OH",
         "line": {
          "color": "lightblue",
          "dash": "dash",
          "width": 2
         },
         "marker": {
          "symbol": "circle"
         },
         "mode": "lines",
         "name": "Cleveland, OH",
         "opacity": 0.8,
         "showlegend": true,
         "type": "scattergl",
         "x": [
          "2024-05-01T00:00:00",
          "2024-04-01T00:00:00",
          "2024-03-01T00:00:00",
          "2024-02-01T00:00:00",
          "2024-01-01T00:00:00",
          "2023-12-01T00:00:00",
          "2023-11-01T00:00:00",
          "2023-10-01T00:00:00",
          "2023-09-01T00:00:00",
          "2023-08-01T00:00:00",
          "2023-07-01T00:00:00",
          "2023-06-01T00:00:00",
          "2023-05-01T00:00:00",
          "2023-04-01T00:00:00",
          "2023-03-01T00:00:00",
          "2023-02-01T00:00:00",
          "2023-01-01T00:00:00",
          "2022-12-01T00:00:00",
          "2022-11-01T00:00:00",
          "2022-10-01T00:00:00",
          "2022-09-01T00:00:00"
         ],
         "xaxis": "x",
         "y": [
          0.021505376344086023,
          0.020713463751438434,
          0.024539877300613498,
          0.028819762122598354,
          0.030967127203430204,
          0.018007878446820485,
          0.02015316404675534,
          0.021850899742930592,
          0.02269900497512438,
          0.030366806975345762,
          0.021739130434782608,
          0.028615622583139984,
          0.03441410693970421,
          0.02444515921518173,
          0.04151800194615634,
          0.043424825891028265,
          0.05031731640979148,
          0.039289558665231435,
          0.033712121212121214,
          0.028615384615384615,
          0.027185033615901782
         ],
         "yaxis": "y"
        },
        {
         "hovertemplate": "clean_name=Nashville, TN<br>date=%{x}<br>% of New Listings from New Construction=%{y}<extra></extra>",
         "legendgroup": "Nashville, TN",
         "line": {
          "color": "lightblue",
          "dash": "dash",
          "width": 2
         },
         "marker": {
          "symbol": "circle"
         },
         "mode": "lines",
         "name": "Nashville, TN",
         "opacity": 0.8,
         "showlegend": true,
         "type": "scattergl",
         "x": [
          "2024-05-01T00:00:00",
          "2024-04-01T00:00:00",
          "2024-03-01T00:00:00",
          "2024-02-01T00:00:00",
          "2024-01-01T00:00:00",
          "2023-12-01T00:00:00",
          "2023-11-01T00:00:00",
          "2023-10-01T00:00:00",
          "2023-09-01T00:00:00",
          "2023-08-01T00:00:00",
          "2023-07-01T00:00:00",
          "2023-06-01T00:00:00",
          "2023-05-01T00:00:00",
          "2023-04-01T00:00:00",
          "2023-03-01T00:00:00",
          "2023-02-01T00:00:00",
          "2023-01-01T00:00:00",
          "2022-12-01T00:00:00",
          "2022-11-01T00:00:00",
          "2022-10-01T00:00:00",
          "2022-09-01T00:00:00"
         ],
         "xaxis": "x",
         "y": [
          0.15850467289719627,
          0.1658803547839215,
          0.16433069266707293,
          0.1797510770703686,
          0.21930267812026275,
          0.2265892002734108,
          0.20594262295081966,
          0.18221050107887796,
          0.17614019321500787,
          0.16283566058002147,
          0.1632696390658174,
          0.25903026358607223,
          0.28251279336509616,
          0.28917220990391723,
          0.27590746661651305,
          0.253227408142999,
          0.2914325842696629,
          0.2956596476149549,
          0.2970760233918129,
          0.2982932505818464,
          0.27792436235708
         ],
         "yaxis": "y"
        },
        {
         "hovertemplate": "clean_name=San Jose, CA<br>date=%{x}<br>% of New Listings from New Construction=%{y}<extra></extra>",
         "legendgroup": "San Jose, CA",
         "line": {
          "color": "lightblue",
          "dash": "dash",
          "width": 2
         },
         "marker": {
          "symbol": "circle"
         },
         "mode": "lines",
         "name": "San Jose, CA",
         "opacity": 0.8,
         "showlegend": true,
         "type": "scattergl",
         "x": [
          "2024-05-01T00:00:00",
          "2024-04-01T00:00:00",
          "2024-03-01T00:00:00",
          "2024-02-01T00:00:00",
          "2024-01-01T00:00:00",
          "2023-12-01T00:00:00",
          "2023-11-01T00:00:00",
          "2023-10-01T00:00:00",
          "2023-09-01T00:00:00",
          "2023-08-01T00:00:00",
          "2023-07-01T00:00:00",
          "2023-06-01T00:00:00",
          "2023-05-01T00:00:00",
          "2023-04-01T00:00:00",
          "2023-03-01T00:00:00",
          "2023-02-01T00:00:00",
          "2023-01-01T00:00:00",
          "2022-12-01T00:00:00",
          "2022-11-01T00:00:00",
          "2022-10-01T00:00:00",
          "2022-09-01T00:00:00"
         ],
         "xaxis": "x",
         "y": [
          0.03435897435897436,
          0.03582887700534759,
          0.03934426229508197,
          0.047775947281713346,
          0.0326530612244898,
          0.03655913978494624,
          0.038901601830663615,
          0.03386960203217612,
          0.04296296296296296,
          0.03719599427753934,
          0.03646677471636953,
          0.05592841163310962,
          0.04849279161205767,
          0.05322338830584707,
          0.07307979120059657,
          0.07029053420805999,
          0.08304093567251462,
          0.07159353348729793,
          0.09453471196454949,
          0.08140947752126367,
          0.06236786469344609
         ],
         "yaxis": "y"
        },
        {
         "hovertemplate": "clean_name=Virginia Beach, VA<br>date=%{x}<br>% of New Listings from New Construction=%{y}<extra></extra>",
         "legendgroup": "Virginia Beach, VA",
         "line": {
          "color": "lightblue",
          "dash": "dash",
          "width": 2
         },
         "marker": {
          "symbol": "circle"
         },
         "mode": "lines",
         "name": "Virginia Beach, VA",
         "opacity": 0.8,
         "showlegend": true,
         "type": "scattergl",
         "x": [
          "2024-05-01T00:00:00",
          "2024-04-01T00:00:00",
          "2024-03-01T00:00:00",
          "2024-02-01T00:00:00",
          "2024-01-01T00:00:00",
          "2023-12-01T00:00:00",
          "2023-11-01T00:00:00",
          "2023-10-01T00:00:00",
          "2023-09-01T00:00:00",
          "2023-08-01T00:00:00",
          "2023-07-01T00:00:00",
          "2023-06-01T00:00:00",
          "2023-05-01T00:00:00",
          "2023-04-01T00:00:00",
          "2023-03-01T00:00:00",
          "2023-02-01T00:00:00",
          "2023-01-01T00:00:00",
          "2022-12-01T00:00:00",
          "2022-11-01T00:00:00",
          "2022-10-01T00:00:00",
          "2022-09-01T00:00:00"
         ],
         "xaxis": "x",
         "y": [
          0.050335570469798654,
          0.04842883548983364,
          0.053784860557768925,
          0.07119437939110071,
          0.07896051974012994,
          0.05901639344262295,
          0.07399463806970509,
          0.05989804587935429,
          0.07167530224525043,
          0.059017746595130004,
          0.058673469387755105,
          0.06915306915306915,
          0.08718487394957983,
          0.07239643825009678,
          0.10125968992248062,
          0.11979166666666667,
          0.15304948216340622,
          0.1595744680851064,
          0.15964523281596452,
          0.1736641221374046,
          0.18924731182795698
         ],
         "yaxis": "y"
        },
        {
         "hovertemplate": "clean_name=Providence, RI<br>date=%{x}<br>% of New Listings from New Construction=%{y}<extra></extra>",
         "legendgroup": "Providence, RI",
         "line": {
          "color": "lightblue",
          "dash": "dash",
          "width": 2
         },
         "marker": {
          "symbol": "circle"
         },
         "mode": "lines",
         "name": "Providence, RI",
         "opacity": 0.8,
         "showlegend": true,
         "type": "scattergl",
         "x": [
          "2024-05-01T00:00:00",
          "2024-04-01T00:00:00",
          "2024-03-01T00:00:00",
          "2024-02-01T00:00:00",
          "2024-01-01T00:00:00",
          "2023-12-01T00:00:00",
          "2023-11-01T00:00:00",
          "2023-10-01T00:00:00",
          "2023-09-01T00:00:00",
          "2023-08-01T00:00:00",
          "2023-07-01T00:00:00",
          "2023-06-01T00:00:00",
          "2023-05-01T00:00:00",
          "2023-04-01T00:00:00",
          "2023-03-01T00:00:00",
          "2023-02-01T00:00:00",
          "2023-01-01T00:00:00",
          "2022-12-01T00:00:00",
          "2022-11-01T00:00:00",
          "2022-10-01T00:00:00",
          "2022-09-01T00:00:00"
         ],
         "xaxis": "x",
         "y": [
          0.04791666666666667,
          0.04985754985754986,
          0.06234718826405868,
          0.0656984785615491,
          0.06589673913043478,
          0.06625258799171843,
          0.05976863753213368,
          0.0592,
          0.05558524853019776,
          0.048302247728359636,
          0.057702488088935945,
          0.061694290976058934,
          0.05430879712746858,
          0.08592910848549946,
          0.07122668174109667,
          0.10835913312693499,
          0.10365335598980459,
          0.1625487646293888,
          0.11140583554376658,
          0.09601301871440195,
          0.08402100525131283
         ],
         "yaxis": "y"
        },
        {
         "hovertemplate": "clean_name=Jacksonville, FL<br>date=%{x}<br>% of New Listings from New Construction=%{y}<extra></extra>",
         "legendgroup": "Jacksonville, FL",
         "line": {
          "color": "lightblue",
          "dash": "dash",
          "width": 2
         },
         "marker": {
          "symbol": "circle"
         },
         "mode": "lines",
         "name": "Jacksonville, FL",
         "opacity": 0.8,
         "showlegend": true,
         "type": "scattergl",
         "x": [
          "2024-05-01T00:00:00",
          "2024-04-01T00:00:00",
          "2024-03-01T00:00:00",
          "2024-02-01T00:00:00",
          "2024-01-01T00:00:00",
          "2023-12-01T00:00:00",
          "2023-11-01T00:00:00",
          "2023-10-01T00:00:00",
          "2023-09-01T00:00:00",
          "2023-08-01T00:00:00",
          "2023-07-01T00:00:00",
          "2023-06-01T00:00:00",
          "2023-05-01T00:00:00",
          "2023-04-01T00:00:00",
          "2023-03-01T00:00:00",
          "2023-02-01T00:00:00",
          "2023-01-01T00:00:00",
          "2022-12-01T00:00:00",
          "2022-11-01T00:00:00",
          "2022-10-01T00:00:00",
          "2022-09-01T00:00:00"
         ],
         "xaxis": "x",
         "y": [
          0.13525641025641025,
          0.11419315650941486,
          0.11349885249321928,
          0.12524939037907337,
          0.12540868752919196,
          0.16370106761565836,
          0.14674237895995218,
          0.14026445423904588,
          0.15192354814996326,
          0.14501027631879423,
          0.14702530202872122,
          0.17689806846433354,
          0.15308066906627144,
          0.16422287390029325,
          0.18796372629843364,
          0.18339438339438338,
          0.170873786407767,
          0.19404958677685952,
          0.17818981772470144,
          0.17578692493946732,
          0.1696279844530816
         ],
         "yaxis": "y"
        },
        {
         "hovertemplate": "clean_name=Milwaukee, WI<br>date=%{x}<br>% of New Listings from New Construction=%{y}<extra></extra>",
         "legendgroup": "Milwaukee, WI",
         "line": {
          "color": "lightblue",
          "dash": "dash",
          "width": 2
         },
         "marker": {
          "symbol": "circle"
         },
         "mode": "lines",
         "name": "Milwaukee, WI",
         "opacity": 0.8,
         "showlegend": true,
         "type": "scattergl",
         "x": [
          "2024-05-01T00:00:00",
          "2024-04-01T00:00:00",
          "2024-03-01T00:00:00",
          "2024-02-01T00:00:00",
          "2024-01-01T00:00:00",
          "2023-12-01T00:00:00",
          "2023-11-01T00:00:00",
          "2023-10-01T00:00:00",
          "2023-09-01T00:00:00",
          "2023-08-01T00:00:00",
          "2023-07-01T00:00:00",
          "2023-06-01T00:00:00",
          "2023-05-01T00:00:00",
          "2023-04-01T00:00:00",
          "2023-03-01T00:00:00",
          "2023-02-01T00:00:00",
          "2023-01-01T00:00:00",
          "2022-12-01T00:00:00",
          "2022-11-01T00:00:00",
          "2022-10-01T00:00:00",
          "2022-09-01T00:00:00"
         ],
         "xaxis": "x",
         "y": [
          0.027765912003417343,
          0.03067484662576687,
          0.028418230563002682,
          0.03691275167785235,
          0.06808199121522694,
          0.029411764705882353,
          0.04342105263157895,
          0.037829766052762566,
          0.03345227475468332,
          0.03382233088834556,
          0.03830734966592428,
          0.032348242811501594,
          0.035342093339374714,
          0.04012188928390046,
          0.03691275167785235,
          0.08337934842628382,
          0.07478797224363917,
          0.08441558441558442,
          0.0625,
          0.05221339387060159,
          0.036585365853658534
         ],
         "yaxis": "y"
        },
        {
         "hovertemplate": "clean_name=Oklahoma City, OK<br>date=%{x}<br>% of New Listings from New Construction=%{y}<extra></extra>",
         "legendgroup": "Oklahoma City, OK",
         "line": {
          "color": "lightblue",
          "dash": "dash",
          "width": 2
         },
         "marker": {
          "symbol": "circle"
         },
         "mode": "lines",
         "name": "Oklahoma City, OK",
         "opacity": 0.8,
         "showlegend": true,
         "type": "scattergl",
         "x": [
          "2024-05-01T00:00:00",
          "2024-04-01T00:00:00",
          "2024-03-01T00:00:00",
          "2024-02-01T00:00:00",
          "2024-01-01T00:00:00",
          "2023-12-01T00:00:00",
          "2023-11-01T00:00:00",
          "2023-10-01T00:00:00",
          "2023-09-01T00:00:00",
          "2023-08-01T00:00:00",
          "2023-07-01T00:00:00",
          "2023-06-01T00:00:00",
          "2023-05-01T00:00:00",
          "2023-04-01T00:00:00",
          "2023-03-01T00:00:00",
          "2023-02-01T00:00:00",
          "2023-01-01T00:00:00",
          "2022-12-01T00:00:00",
          "2022-11-01T00:00:00",
          "2022-10-01T00:00:00",
          "2022-09-01T00:00:00"
         ],
         "xaxis": "x",
         "y": [
          0.08827539195637356,
          0.10804597701149425,
          0.10421205519244735,
          0.11461661341853036,
          0.14667270258035311,
          0.15154749199573106,
          0.13280212483399734,
          0.11981945014361921,
          0.12277304415182029,
          0.11734342739160358,
          0.11661284535342663,
          0.12461590986684876,
          0.12530973451327435,
          0.13492359299291837,
          0.16938472942920682,
          0.1904103273397879,
          0.23196605374823195,
          0.24813153961136025,
          0.25223759153783565,
          0.2645324347093513,
          0.3113113113113113
         ],
         "yaxis": "y"
        },
        {
         "hovertemplate": "clean_name=Raleigh, NC<br>date=%{x}<br>% of New Listings from New Construction=%{y}<extra></extra>",
         "legendgroup": "Raleigh, NC",
         "line": {
          "color": "lightblue",
          "dash": "dash",
          "width": 2
         },
         "marker": {
          "symbol": "circle"
         },
         "mode": "lines",
         "name": "Raleigh, NC",
         "opacity": 0.8,
         "showlegend": true,
         "type": "scattergl",
         "x": [
          "2024-05-01T00:00:00",
          "2024-04-01T00:00:00",
          "2024-03-01T00:00:00",
          "2024-02-01T00:00:00",
          "2024-01-01T00:00:00",
          "2023-12-01T00:00:00",
          "2023-11-01T00:00:00",
          "2023-10-01T00:00:00",
          "2023-09-01T00:00:00",
          "2023-08-01T00:00:00",
          "2023-07-01T00:00:00",
          "2023-06-01T00:00:00",
          "2023-05-01T00:00:00",
          "2023-04-01T00:00:00",
          "2023-03-01T00:00:00",
          "2023-02-01T00:00:00",
          "2023-01-01T00:00:00",
          "2022-12-01T00:00:00",
          "2022-11-01T00:00:00",
          "2022-10-01T00:00:00",
          "2022-09-01T00:00:00"
         ],
         "xaxis": "x",
         "y": [
          0.13631522896698617,
          0.13896056026538886,
          0.11601766358892011,
          0.14162720619888075,
          0.17208672086720866,
          0.2028766086298259,
          0.17264957264957265,
          0.17785843920145192,
          0.1553398058252427,
          0.15956099620092867,
          0.14814814814814814,
          0.18354885057471265,
          0.18569780853517878,
          0.20402178466694595,
          0.2269449715370019,
          0.27223230490018147,
          0.34172003659652334,
          0.368375325803649,
          0.33950046253469013,
          0.3738404452690167,
          0.40978886756238003
         ],
         "yaxis": "y"
        },
        {
         "hovertemplate": "clean_name=Memphis, TN<br>date=%{x}<br>% of New Listings from New Construction=%{y}<extra></extra>",
         "legendgroup": "Memphis, TN",
         "line": {
          "color": "lightblue",
          "dash": "dash",
          "width": 2
         },
         "marker": {
          "symbol": "circle"
         },
         "mode": "lines",
         "name": "Memphis, TN",
         "opacity": 0.8,
         "showlegend": true,
         "type": "scattergl",
         "x": [
          "2024-05-01T00:00:00",
          "2024-04-01T00:00:00",
          "2024-03-01T00:00:00",
          "2024-02-01T00:00:00",
          "2024-01-01T00:00:00",
          "2023-12-01T00:00:00",
          "2023-11-01T00:00:00",
          "2023-10-01T00:00:00",
          "2023-09-01T00:00:00",
          "2023-08-01T00:00:00",
          "2023-07-01T00:00:00",
          "2023-06-01T00:00:00",
          "2023-05-01T00:00:00",
          "2023-04-01T00:00:00",
          "2023-03-01T00:00:00",
          "2023-02-01T00:00:00",
          "2023-01-01T00:00:00",
          "2022-12-01T00:00:00",
          "2022-11-01T00:00:00",
          "2022-10-01T00:00:00",
          "2022-09-01T00:00:00"
         ],
         "xaxis": "x",
         "y": [
          0.15087040618955513,
          0.13931297709923665,
          0.13972055888223553,
          0.15145228215767634,
          0.12536443148688048,
          0.15625,
          0.12962962962962962,
          0.12698412698412698,
          0.1480637813211845,
          0.15221579961464354,
          0.10642570281124498,
          0.13043478260869565,
          0.15140186915887852,
          0.13596491228070176,
          0.1910828025477707,
          0.19881305637982197,
          0.2185430463576159,
          0.2885572139303483,
          0.18315018315018314,
          0.18095238095238095,
          0.15479876160990713
         ],
         "yaxis": "y"
        },
        {
         "hovertemplate": "clean_name=Richmond, VA<br>date=%{x}<br>% of New Listings from New Construction=%{y}<extra></extra>",
         "legendgroup": "Richmond, VA",
         "line": {
          "color": "lightblue",
          "dash": "dash",
          "width": 2
         },
         "marker": {
          "symbol": "circle"
         },
         "mode": "lines",
         "name": "Richmond, VA",
         "opacity": 0.8,
         "showlegend": true,
         "type": "scattergl",
         "x": [
          "2024-05-01T00:00:00",
          "2024-04-01T00:00:00",
          "2024-03-01T00:00:00",
          "2024-02-01T00:00:00",
          "2024-01-01T00:00:00",
          "2023-12-01T00:00:00",
          "2023-11-01T00:00:00",
          "2023-10-01T00:00:00",
          "2023-09-01T00:00:00",
          "2023-08-01T00:00:00",
          "2023-07-01T00:00:00",
          "2023-06-01T00:00:00",
          "2023-05-01T00:00:00",
          "2023-04-01T00:00:00",
          "2023-03-01T00:00:00",
          "2023-02-01T00:00:00",
          "2023-01-01T00:00:00",
          "2022-12-01T00:00:00",
          "2022-11-01T00:00:00",
          "2022-10-01T00:00:00",
          "2022-09-01T00:00:00"
         ],
         "xaxis": "x",
         "y": [
          0.08602150537634409,
          0.07929104477611941,
          0.08639813193228255,
          0.09601449275362318,
          0.09718498659517426,
          0.0907103825136612,
          0.09686221009549795,
          0.08231707317073171,
          0.09484649122807018,
          0.11639081687132942,
          0.08186469584991472,
          0.1036077705827937,
          0.12071395021136684,
          0.1336227689339122,
          0.14729458917835672,
          0.1609719058466211,
          0.1705170517051705,
          0.2476007677543186,
          0.2771929824561403,
          0.2687813021702838,
          0.1794871794871795
         ],
         "yaxis": "y"
        },
        {
         "hovertemplate": "clean_name=Louisville/Jefferson County, KY<br>date=%{x}<br>% of New Listings from New Construction=%{y}<extra></extra>",
         "legendgroup": "Louisville/Jefferson County, KY",
         "line": {
          "color": "lightblue",
          "dash": "dash",
          "width": 2
         },
         "marker": {
          "symbol": "circle"
         },
         "mode": "lines",
         "name": "Louisville/Jefferson County, KY",
         "opacity": 0.8,
         "showlegend": true,
         "type": "scattergl",
         "x": [
          "2024-05-01T00:00:00",
          "2024-04-01T00:00:00",
          "2024-03-01T00:00:00",
          "2024-02-01T00:00:00",
          "2024-01-01T00:00:00",
          "2023-12-01T00:00:00",
          "2023-11-01T00:00:00",
          "2023-10-01T00:00:00",
          "2023-09-01T00:00:00",
          "2023-08-01T00:00:00",
          "2023-07-01T00:00:00",
          "2023-06-01T00:00:00",
          "2023-05-01T00:00:00",
          "2023-04-01T00:00:00",
          "2023-03-01T00:00:00",
          "2023-02-01T00:00:00",
          "2023-01-01T00:00:00",
          "2022-12-01T00:00:00",
          "2022-11-01T00:00:00",
          "2022-10-01T00:00:00",
          "2022-09-01T00:00:00"
         ],
         "xaxis": "x",
         "y": [
          0.06013745704467354,
          0.06685499058380415,
          0.06027253668763103,
          0.07474518686296716,
          0.0867992766726944,
          0.07325684024713151,
          0.0681421083284799,
          0.0626517727051967,
          0.06741050674105067,
          0.06645425580336822,
          0.05722326454033771,
          0.07064555420219244,
          0.09376443418013856,
          0.08353929807217005,
          0.10605276771857217,
          0.11061946902654868,
          0.14554973821989528,
          0.14935064935064934,
          0.16041666666666668,
          0.18004338394793926,
          0.17733990147783252
         ],
         "yaxis": "y"
        },
        {
         "hovertemplate": "clean_name=New Orleans, LA<br>date=%{x}<br>% of New Listings from New Construction=%{y}<extra></extra>",
         "legendgroup": "New Orleans, LA",
         "line": {
          "color": "lightblue",
          "dash": "dash",
          "width": 2
         },
         "marker": {
          "symbol": "circle"
         },
         "mode": "lines",
         "name": "New Orleans, LA",
         "opacity": 0.8,
         "showlegend": true,
         "type": "scattergl",
         "x": [
          "2024-05-01T00:00:00",
          "2024-04-01T00:00:00",
          "2024-03-01T00:00:00",
          "2024-02-01T00:00:00",
          "2024-01-01T00:00:00",
          "2023-12-01T00:00:00",
          "2023-11-01T00:00:00",
          "2023-10-01T00:00:00",
          "2023-09-01T00:00:00",
          "2023-08-01T00:00:00",
          "2023-07-01T00:00:00",
          "2023-06-01T00:00:00",
          "2023-05-01T00:00:00",
          "2023-04-01T00:00:00",
          "2023-03-01T00:00:00",
          "2023-02-01T00:00:00",
          "2023-01-01T00:00:00",
          "2022-12-01T00:00:00",
          "2022-11-01T00:00:00",
          "2022-10-01T00:00:00",
          "2022-09-01T00:00:00"
         ],
         "xaxis": "x",
         "y": [
          0.04354904354904355,
          0.05656722200697404,
          0.10966057441253264,
          0.15538461538461537,
          0.10703043022035677,
          0.08483896307934014,
          0.09957238851557727,
          0.09364046069103656,
          0.08625730994152046,
          0.08740601503759399,
          0.10298102981029811,
          0.09833401056481106,
          0.07683397683397683,
          0.06155778894472362,
          0.07100357001190004,
          0.0676818950930626,
          0.07900677200902935,
          0.06857142857142857,
          0.07584501236603462,
          0.07236842105263158,
          0.07561307901907358
         ],
         "yaxis": "y"
        },
        {
         "hovertemplate": "clean_name=Salt Lake City, UT<br>date=%{x}<br>% of New Listings from New Construction=%{y}<extra></extra>",
         "legendgroup": "Salt Lake City, UT",
         "line": {
          "color": "lightblue",
          "dash": "dash",
          "width": 2
         },
         "marker": {
          "symbol": "circle"
         },
         "mode": "lines",
         "name": "Salt Lake City, UT",
         "opacity": 0.8,
         "showlegend": true,
         "type": "scattergl",
         "x": [
          "2024-05-01T00:00:00",
          "2024-04-01T00:00:00",
          "2024-03-01T00:00:00",
          "2024-02-01T00:00:00",
          "2024-01-01T00:00:00",
          "2023-12-01T00:00:00",
          "2023-11-01T00:00:00",
          "2023-10-01T00:00:00",
          "2023-09-01T00:00:00",
          "2023-08-01T00:00:00",
          "2023-07-01T00:00:00",
          "2023-06-01T00:00:00",
          "2023-05-01T00:00:00",
          "2023-04-01T00:00:00",
          "2023-03-01T00:00:00",
          "2023-02-01T00:00:00",
          "2023-01-01T00:00:00",
          "2022-12-01T00:00:00",
          "2022-11-01T00:00:00",
          "2022-10-01T00:00:00",
          "2022-09-01T00:00:00"
         ],
         "xaxis": "x",
         "y": [
          0.059191329720716966,
          0.05647382920110193,
          0.06391752577319587,
          0.07446808510638298,
          0.08261731658955718,
          0.09837728194726167,
          0.0797592174567344,
          0.0778688524590164,
          0.07343518974864466,
          0.06300997280145058,
          0.06666666666666667,
          0.08114374034003091,
          0.09052631578947369,
          0.09582059123343527,
          0.11908247925817472,
          0.16922094508301405,
          0.1679550245959241,
          0.17397260273972603,
          0.2076923076923077,
          0.16057441253263707,
          0.17103448275862068
         ],
         "yaxis": "y"
        },
        {
         "hovertemplate": "clean_name=Hartford, CT<br>date=%{x}<br>% of New Listings from New Construction=%{y}<extra></extra>",
         "legendgroup": "Hartford, CT",
         "line": {
          "color": "lightblue",
          "dash": "dash",
          "width": 2
         },
         "marker": {
          "symbol": "circle"
         },
         "mode": "lines",
         "name": "Hartford, CT",
         "opacity": 0.8,
         "showlegend": true,
         "type": "scattergl",
         "x": [
          "2024-05-01T00:00:00",
          "2024-04-01T00:00:00",
          "2024-03-01T00:00:00",
          "2024-02-01T00:00:00",
          "2024-01-01T00:00:00",
          "2023-12-01T00:00:00",
          "2023-11-01T00:00:00",
          "2023-10-01T00:00:00",
          "2023-09-01T00:00:00",
          "2023-08-01T00:00:00",
          "2023-07-01T00:00:00",
          "2023-06-01T00:00:00",
          "2023-05-01T00:00:00",
          "2023-04-01T00:00:00",
          "2023-03-01T00:00:00",
          "2023-02-01T00:00:00",
          "2023-01-01T00:00:00",
          "2022-12-01T00:00:00",
          "2022-11-01T00:00:00",
          "2022-10-01T00:00:00",
          "2022-09-01T00:00:00"
         ],
         "xaxis": "x",
         "y": [
          0.024903154399557276,
          0.01924310455420141,
          0.01141552511415525,
          0.014146772767462422,
          0.0254323499491353,
          0.01627906976744186,
          0.026276276276276277,
          0.029769959404600813,
          0.03489137590520079,
          0.028486646884272996,
          0.02433371958285052,
          0.02737603305785124,
          0.03753501400560224,
          0.041263700838168924,
          0.03237410071942446,
          0.03965702036441586,
          0.06436420722135008,
          0.07421875,
          0.05964912280701754,
          0.07738095238095238,
          0.09090909090909091
         ],
         "yaxis": "y"
        },
        {
         "hovertemplate": "clean_name=Buffalo, NY<br>date=%{x}<br>% of New Listings from New Construction=%{y}<extra></extra>",
         "legendgroup": "Buffalo, NY",
         "line": {
          "color": "lightblue",
          "dash": "dash",
          "width": 2
         },
         "marker": {
          "symbol": "circle"
         },
         "mode": "lines",
         "name": "Buffalo, NY",
         "opacity": 0.8,
         "showlegend": true,
         "type": "scattergl",
         "x": [
          "2024-05-01T00:00:00",
          "2024-04-01T00:00:00",
          "2024-03-01T00:00:00",
          "2024-02-01T00:00:00",
          "2024-01-01T00:00:00",
          "2023-12-01T00:00:00",
          "2023-11-01T00:00:00",
          "2023-10-01T00:00:00",
          "2023-09-01T00:00:00",
          "2023-08-01T00:00:00",
          "2023-07-01T00:00:00",
          "2023-06-01T00:00:00",
          "2023-05-01T00:00:00",
          "2023-04-01T00:00:00",
          "2023-03-01T00:00:00",
          "2023-02-01T00:00:00",
          "2023-01-01T00:00:00",
          "2022-12-01T00:00:00",
          "2022-11-01T00:00:00",
          "2022-10-01T00:00:00",
          "2022-09-01T00:00:00"
         ],
         "xaxis": "x",
         "y": [
          0.03516249334043687,
          0.02606310013717421,
          0.025573192239858905,
          0.030176899063475548,
          0.04043126684636118,
          0.03409090909090909,
          0.029356060606060608,
          0.024054982817869417,
          0.031420765027322405,
          0.032196969696969696,
          0.028203556100551808,
          0.029964747356051705,
          0.04,
          0.027048528241845664,
          0.04388984509466437,
          0.03121387283236994,
          0.07419898819561552,
          0.03293413173652695,
          0.05405405405405406,
          0.049479166666666664,
          0.046296296296296294
         ],
         "yaxis": "y"
        },
        {
         "hovertemplate": "clean_name=Birmingham, AL<br>date=%{x}<br>% of New Listings from New Construction=%{y}<extra></extra>",
         "legendgroup": "Birmingham, AL",
         "line": {
          "color": "lightblue",
          "dash": "dash",
          "width": 2
         },
         "marker": {
          "symbol": "circle"
         },
         "mode": "lines",
         "name": "Birmingham, AL",
         "opacity": 0.8,
         "showlegend": true,
         "type": "scattergl",
         "x": [
          "2024-05-01T00:00:00",
          "2024-04-01T00:00:00",
          "2024-03-01T00:00:00",
          "2024-02-01T00:00:00",
          "2024-01-01T00:00:00",
          "2023-12-01T00:00:00",
          "2023-11-01T00:00:00",
          "2023-10-01T00:00:00",
          "2023-09-01T00:00:00",
          "2023-08-01T00:00:00",
          "2023-07-01T00:00:00",
          "2023-06-01T00:00:00",
          "2023-05-01T00:00:00",
          "2023-04-01T00:00:00",
          "2023-03-01T00:00:00",
          "2023-02-01T00:00:00",
          "2023-01-01T00:00:00",
          "2022-12-01T00:00:00",
          "2022-11-01T00:00:00",
          "2022-10-01T00:00:00",
          "2022-09-01T00:00:00"
         ],
         "xaxis": "x",
         "y": [
          0.0850480109739369,
          0.07600341588385995,
          0.08345752608047691,
          0.08476454293628809,
          0.10600706713780919,
          0.08836023789294817,
          0.07580751483190508,
          0.09567567567567567,
          0.0782800441014333,
          0.09879638916750251,
          0.09052729818012133,
          0.10831960461285008,
          0.11533180778032037,
          0.09687936655798789,
          0.09332023575638507,
          0.09971305595408896,
          0.1564501372369625,
          0.18025078369905956,
          0.15066469719350073,
          0.18246110325318246,
          0.14959349593495935
         ],
         "yaxis": "y"
        },
        {
         "hovertemplate": "clean_name=Grand Rapids, MI<br>date=%{x}<br>% of New Listings from New Construction=%{y}<extra></extra>",
         "legendgroup": "Grand Rapids, MI",
         "line": {
          "color": "lightblue",
          "dash": "dash",
          "width": 2
         },
         "marker": {
          "symbol": "circle"
         },
         "mode": "lines",
         "name": "Grand Rapids, MI",
         "opacity": 0.8,
         "showlegend": true,
         "type": "scattergl",
         "x": [
          "2024-05-01T00:00:00",
          "2024-04-01T00:00:00",
          "2024-03-01T00:00:00",
          "2024-02-01T00:00:00",
          "2024-01-01T00:00:00",
          "2023-12-01T00:00:00",
          "2023-11-01T00:00:00",
          "2023-10-01T00:00:00",
          "2023-09-01T00:00:00",
          "2023-08-01T00:00:00",
          "2023-07-01T00:00:00",
          "2023-06-01T00:00:00",
          "2023-05-01T00:00:00",
          "2023-04-01T00:00:00",
          "2023-03-01T00:00:00",
          "2023-02-01T00:00:00",
          "2023-01-01T00:00:00",
          "2022-12-01T00:00:00",
          "2022-11-01T00:00:00",
          "2022-10-01T00:00:00",
          "2022-09-01T00:00:00"
         ],
         "xaxis": "x",
         "y": [
          0.057962858750703436,
          0.054929577464788736,
          0.07465007776049767,
          0.09808102345415778,
          0.0917312661498708,
          0.113997113997114,
          0.0968063872255489,
          0.08307692307692308,
          0.06041222459132907,
          0.07967377666248432,
          0.06675843083275981,
          0.0830912260313771,
          0.08292383292383293,
          0.08818897637795275,
          0.09573612228479485,
          0.16856780735107732,
          0.2250996015936255,
          0.23715415019762845,
          0.19615384615384615,
          0.2847457627118644,
          0.30067567567567566
         ],
         "yaxis": "y"
        },
        {
         "hovertemplate": "clean_name=Rochester, NY<br>date=%{x}<br>% of New Listings from New Construction=%{y}<extra></extra>",
         "legendgroup": "Rochester, NY",
         "line": {
          "color": "lightblue",
          "dash": "dash",
          "width": 2
         },
         "marker": {
          "symbol": "circle"
         },
         "mode": "lines",
         "name": "Rochester, NY",
         "opacity": 0.8,
         "showlegend": true,
         "type": "scattergl",
         "x": [
          "2024-05-01T00:00:00",
          "2024-04-01T00:00:00",
          "2024-03-01T00:00:00",
          "2024-02-01T00:00:00",
          "2024-01-01T00:00:00",
          "2023-12-01T00:00:00",
          "2023-11-01T00:00:00",
          "2023-10-01T00:00:00",
          "2023-09-01T00:00:00",
          "2023-08-01T00:00:00",
          "2023-07-01T00:00:00",
          "2023-06-01T00:00:00",
          "2023-05-01T00:00:00",
          "2023-04-01T00:00:00",
          "2023-03-01T00:00:00",
          "2023-02-01T00:00:00",
          "2023-01-01T00:00:00",
          "2022-12-01T00:00:00",
          "2022-11-01T00:00:00",
          "2022-10-01T00:00:00",
          "2022-09-01T00:00:00"
         ],
         "xaxis": "x",
         "y": [
          0.03958128884527314,
          0.037165082108902334,
          0.05088495575221239,
          0.0343558282208589,
          0.03195266272189349,
          0.05443548387096774,
          0.026607538802660754,
          0.029783393501805054,
          0.034892942109436956,
          0.03781818181818182,
          0.04002965159377316,
          0.04036186499652053,
          0.044798785117691725,
          0.03790613718411552,
          0.05986903648269411,
          0.06161745827984596,
          0.11232876712328767,
          0.12222222222222222,
          0.10880829015544041,
          0.1366120218579235,
          0.12021857923497267
         ],
         "yaxis": "y"
        },
        {
         "hovertemplate": "clean_name=Tucson, AZ<br>date=%{x}<br>% of New Listings from New Construction=%{y}<extra></extra>",
         "legendgroup": "Tucson, AZ",
         "line": {
          "color": "lightblue",
          "dash": "dash",
          "width": 2
         },
         "marker": {
          "symbol": "circle"
         },
         "mode": "lines",
         "name": "Tucson, AZ",
         "opacity": 0.8,
         "showlegend": true,
         "type": "scattergl",
         "x": [
          "2024-05-01T00:00:00",
          "2024-04-01T00:00:00",
          "2024-03-01T00:00:00",
          "2024-02-01T00:00:00",
          "2024-01-01T00:00:00",
          "2023-12-01T00:00:00",
          "2023-11-01T00:00:00",
          "2023-10-01T00:00:00",
          "2023-09-01T00:00:00",
          "2023-08-01T00:00:00",
          "2023-07-01T00:00:00",
          "2023-06-01T00:00:00",
          "2023-05-01T00:00:00",
          "2023-04-01T00:00:00",
          "2023-03-01T00:00:00",
          "2023-02-01T00:00:00",
          "2023-01-01T00:00:00",
          "2022-12-01T00:00:00",
          "2022-11-01T00:00:00",
          "2022-10-01T00:00:00",
          "2022-09-01T00:00:00"
         ],
         "xaxis": "x",
         "y": [
          0.08472998137802606,
          0.06518590053114437,
          0.05517909002904162,
          0.07820954254795869,
          0.053948013732221675,
          0.05924170616113744,
          0.05913621262458472,
          0.05719139297848245,
          0.06689151208544127,
          0.05851063829787234,
          0.07194244604316546,
          0.07498568975386377,
          0.08039936941671046,
          0.06662995594713657,
          0.05945121951219512,
          0.08028759736369083,
          0.10311418685121107,
          0.1234866828087167,
          0.10403916768665851,
          0.13370786516853933,
          0.11534025374855825
         ],
         "yaxis": "y"
        },
        {
         "hovertemplate": "clean_name=Tulsa, OK<br>date=%{x}<br>% of New Listings from New Construction=%{y}<extra></extra>",
         "legendgroup": "Tulsa, OK",
         "line": {
          "color": "lightblue",
          "dash": "dash",
          "width": 2
         },
         "marker": {
          "symbol": "circle"
         },
         "mode": "lines",
         "name": "Tulsa, OK",
         "opacity": 0.8,
         "showlegend": true,
         "type": "scattergl",
         "x": [
          "2024-05-01T00:00:00",
          "2024-04-01T00:00:00",
          "2024-03-01T00:00:00",
          "2024-02-01T00:00:00",
          "2024-01-01T00:00:00",
          "2023-12-01T00:00:00",
          "2023-11-01T00:00:00",
          "2023-10-01T00:00:00",
          "2023-09-01T00:00:00",
          "2023-08-01T00:00:00",
          "2023-07-01T00:00:00",
          "2023-06-01T00:00:00",
          "2023-05-01T00:00:00",
          "2023-04-01T00:00:00",
          "2023-03-01T00:00:00",
          "2023-02-01T00:00:00",
          "2023-01-01T00:00:00",
          "2022-12-01T00:00:00",
          "2022-11-01T00:00:00",
          "2022-10-01T00:00:00",
          "2022-09-01T00:00:00"
         ],
         "xaxis": "x",
         "y": [
          0.05738161559888579,
          0.06382978723404255,
          0.07259528130671507,
          0.09022038567493113,
          0.10655021834061135,
          0.09505703422053231,
          0.07572209211553474,
          0.08934707903780069,
          0.0878148400272294,
          0.08653260207190737,
          0.080545229244114,
          0.09211986681465038,
          0.08197709463532249,
          0.09866017052375152,
          0.11275415896487985,
          0.12564991334488734,
          0.18372379778051787,
          0.24660194174757283,
          0.1953125,
          0.22727272727272727,
          0.2028301886792453
         ],
         "yaxis": "y"
        },
        {
         "hovertemplate": "clean_name=Urban Honolulu, HI<br>date=%{x}<br>% of New Listings from New Construction=%{y}<extra></extra>",
         "legendgroup": "Urban Honolulu, HI",
         "line": {
          "color": "lightblue",
          "dash": "dash",
          "width": 2
         },
         "marker": {
          "symbol": "circle"
         },
         "mode": "lines",
         "name": "Urban Honolulu, HI",
         "opacity": 0.8,
         "showlegend": true,
         "type": "scattergl",
         "x": [
          "2024-05-01T00:00:00",
          "2024-04-01T00:00:00",
          "2024-03-01T00:00:00",
          "2024-02-01T00:00:00",
          "2024-01-01T00:00:00",
          "2023-12-01T00:00:00",
          "2023-11-01T00:00:00",
          "2023-10-01T00:00:00",
          "2023-09-01T00:00:00",
          "2023-08-01T00:00:00",
          "2023-07-01T00:00:00",
          "2023-06-01T00:00:00",
          "2023-05-01T00:00:00",
          "2023-04-01T00:00:00",
          "2023-03-01T00:00:00",
          "2023-02-01T00:00:00",
          "2023-01-01T00:00:00",
          "2022-12-01T00:00:00",
          "2022-11-01T00:00:00",
          "2022-10-01T00:00:00",
          "2022-09-01T00:00:00"
         ],
         "xaxis": "x",
         "y": [
          0.032180209171359615,
          0.03472770323599053,
          0.02512998266897747,
          0.032411820781696854,
          0.034265103697024346,
          0.025974025974025976,
          0.0465587044534413,
          0.04900181488203267,
          0.029356060606060608,
          0.018229166666666668,
          0.023234200743494422,
          0.04943273905996758,
          0.03536184210526316,
          0.0417036379769299,
          0.03436426116838488,
          0.06681766704416761,
          0.05161290322580645,
          0.08041237113402062,
          0.052525252525252523,
          0.14038876889848811,
          0.06887052341597796
         ],
         "yaxis": "y"
        },
        {
         "hovertemplate": "clean_name=Fresno, CA<br>date=%{x}<br>% of New Listings from New Construction=%{y}<extra></extra>",
         "legendgroup": "Fresno, CA",
         "line": {
          "color": "lightblue",
          "dash": "dash",
          "width": 2
         },
         "marker": {
          "symbol": "circle"
         },
         "mode": "lines",
         "name": "Fresno, CA",
         "opacity": 0.8,
         "showlegend": true,
         "type": "scattergl",
         "x": [
          "2024-05-01T00:00:00",
          "2024-04-01T00:00:00",
          "2024-03-01T00:00:00",
          "2024-02-01T00:00:00",
          "2024-01-01T00:00:00",
          "2023-12-01T00:00:00",
          "2023-11-01T00:00:00",
          "2023-10-01T00:00:00",
          "2023-09-01T00:00:00",
          "2023-08-01T00:00:00",
          "2023-07-01T00:00:00",
          "2023-06-01T00:00:00",
          "2023-05-01T00:00:00",
          "2023-04-01T00:00:00",
          "2023-03-01T00:00:00",
          "2023-02-01T00:00:00",
          "2023-01-01T00:00:00",
          "2022-12-01T00:00:00",
          "2022-11-01T00:00:00",
          "2022-10-01T00:00:00",
          "2022-09-01T00:00:00"
         ],
         "xaxis": "x",
         "y": [
          0.03403403403403404,
          0.030751708428246014,
          0.03762135922330097,
          0.030585106382978722,
          0.012968299711815562,
          0.012089810017271158,
          0.009900990099009901,
          0.014473684210526316,
          0.01182033096926714,
          0.024918743228602384,
          0.02140309155766944,
          0.02848722986247544,
          0.05091649694501019,
          0.027522935779816515,
          0.06025492468134415,
          0.05750350631136045,
          0.06607929515418502,
          0.04697986577181208,
          0.02527075812274368,
          0.0706713780918728,
          0.04329004329004329
         ],
         "yaxis": "y"
        },
        {
         "hovertemplate": "clean_name=Worcester, MA<br>date=%{x}<br>% of New Listings from New Construction=%{y}<extra></extra>",
         "legendgroup": "Worcester, MA",
         "line": {
          "color": "lightblue",
          "dash": "dash",
          "width": 2
         },
         "marker": {
          "symbol": "circle"
         },
         "mode": "lines",
         "name": "Worcester, MA",
         "opacity": 0.8,
         "showlegend": true,
         "type": "scattergl",
         "x": [
          "2024-05-01T00:00:00",
          "2024-04-01T00:00:00",
          "2024-03-01T00:00:00",
          "2024-02-01T00:00:00",
          "2024-01-01T00:00:00",
          "2023-12-01T00:00:00",
          "2023-11-01T00:00:00",
          "2023-10-01T00:00:00",
          "2023-09-01T00:00:00",
          "2023-08-01T00:00:00",
          "2023-07-01T00:00:00",
          "2023-06-01T00:00:00",
          "2023-05-01T00:00:00",
          "2023-04-01T00:00:00",
          "2023-03-01T00:00:00",
          "2023-02-01T00:00:00",
          "2023-01-01T00:00:00",
          "2022-12-01T00:00:00",
          "2022-11-01T00:00:00",
          "2022-10-01T00:00:00",
          "2022-09-01T00:00:00"
         ],
         "xaxis": "x",
         "y": [
          0.05982324949014276,
          0.04781533388293487,
          0.09597806215722121,
          0.0711825487944891,
          0.0913907284768212,
          0.08990825688073395,
          0.065625,
          0.07100591715976332,
          0.062402496099843996,
          0.08421052631578947,
          0.07921635434412266,
          0.09827833572453372,
          0.08990318118948824,
          0.10162254483347566,
          0.12511332728921123,
          0.12247838616714697,
          0.2027439024390244,
          0.15346534653465346,
          0.10454545454545454,
          0.09964830011723329,
          0.09304812834224599
         ],
         "yaxis": "y"
        },
        {
         "hovertemplate": "clean_name=Omaha, NE<br>date=%{x}<br>% of New Listings from New Construction=%{y}<extra></extra>",
         "legendgroup": "Omaha, NE",
         "line": {
          "color": "lightblue",
          "dash": "dash",
          "width": 2
         },
         "marker": {
          "symbol": "circle"
         },
         "mode": "lines",
         "name": "Omaha, NE",
         "opacity": 0.8,
         "showlegend": true,
         "type": "scattergl",
         "x": [
          "2024-05-01T00:00:00",
          "2024-04-01T00:00:00",
          "2024-03-01T00:00:00",
          "2024-02-01T00:00:00",
          "2024-01-01T00:00:00",
          "2023-12-01T00:00:00",
          "2023-11-01T00:00:00",
          "2023-10-01T00:00:00",
          "2023-09-01T00:00:00",
          "2023-08-01T00:00:00",
          "2023-07-01T00:00:00",
          "2023-06-01T00:00:00",
          "2023-05-01T00:00:00",
          "2023-04-01T00:00:00",
          "2023-03-01T00:00:00",
          "2023-02-01T00:00:00",
          "2023-01-01T00:00:00",
          "2022-12-01T00:00:00",
          "2022-11-01T00:00:00",
          "2022-10-01T00:00:00",
          "2022-09-01T00:00:00"
         ],
         "xaxis": "x",
         "y": [
          0.07688311688311689,
          0.08076728924785462,
          0.08314220183486239,
          0.0901932712956335,
          0.14638157894736842,
          0.18415178571428573,
          0.12652232746955344,
          0.11138014527845036,
          0.1198501872659176,
          0.1259175607001694,
          0.12064036592338478,
          0.10607621009268794,
          0.1277205040091638,
          0.12468030690537084,
          0.15399002493765587,
          0.2343612334801762,
          0.2709251101321586,
          0.30844793713163066,
          0.3280943025540275,
          0.3642072213500785,
          0.27712418300653596
         ],
         "yaxis": "y"
        },
        {
         "hovertemplate": "clean_name=Bridgeport, CT<br>date=%{x}<br>% of New Listings from New Construction=%{y}<extra></extra>",
         "legendgroup": "Bridgeport, CT",
         "line": {
          "color": "lightblue",
          "dash": "dash",
          "width": 2
         },
         "marker": {
          "symbol": "circle"
         },
         "mode": "lines",
         "name": "Bridgeport, CT",
         "opacity": 0.8,
         "showlegend": true,
         "type": "scattergl",
         "x": [
          "2024-05-01T00:00:00",
          "2024-04-01T00:00:00",
          "2024-03-01T00:00:00",
          "2024-02-01T00:00:00",
          "2024-01-01T00:00:00",
          "2023-12-01T00:00:00",
          "2023-11-01T00:00:00",
          "2023-10-01T00:00:00",
          "2023-09-01T00:00:00",
          "2023-08-01T00:00:00",
          "2023-07-01T00:00:00",
          "2023-06-01T00:00:00",
          "2023-05-01T00:00:00",
          "2023-04-01T00:00:00",
          "2023-03-01T00:00:00",
          "2023-02-01T00:00:00",
          "2023-01-01T00:00:00",
          "2022-12-01T00:00:00",
          "2022-11-01T00:00:00",
          "2022-10-01T00:00:00",
          "2022-09-01T00:00:00"
         ],
         "xaxis": "x",
         "y": [
          0.03617571059431524,
          0.027491408934707903,
          0.03700361010830325,
          0.03121852970795569,
          0.03617269544924154,
          0.03428571428571429,
          0.03721488595438175,
          0.03722504230118443,
          0.02986279257465698,
          0.028547439126784216,
          0.03195635229929852,
          0.039473684210526314,
          0.03654883163571001,
          0.05183585313174946,
          0.046460176991150445,
          0.048106448311156604,
          0.06299212598425197,
          0.058823529411764705,
          0.07666098807495741,
          0.05247376311844078,
          0.04466501240694789
         ],
         "yaxis": "y"
        },
        {
         "hovertemplate": "clean_name=Greenville, SC<br>date=%{x}<br>% of New Listings from New Construction=%{y}<extra></extra>",
         "legendgroup": "Greenville, SC",
         "line": {
          "color": "lightblue",
          "dash": "dash",
          "width": 2
         },
         "marker": {
          "symbol": "circle"
         },
         "mode": "lines",
         "name": "Greenville, SC",
         "opacity": 0.8,
         "showlegend": true,
         "type": "scattergl",
         "x": [
          "2024-05-01T00:00:00",
          "2024-04-01T00:00:00",
          "2024-03-01T00:00:00",
          "2024-02-01T00:00:00",
          "2024-01-01T00:00:00",
          "2023-12-01T00:00:00",
          "2023-11-01T00:00:00",
          "2023-10-01T00:00:00",
          "2023-09-01T00:00:00",
          "2023-08-01T00:00:00",
          "2023-07-01T00:00:00",
          "2023-06-01T00:00:00",
          "2023-05-01T00:00:00",
          "2023-04-01T00:00:00",
          "2023-03-01T00:00:00",
          "2023-02-01T00:00:00",
          "2023-01-01T00:00:00",
          "2022-12-01T00:00:00",
          "2022-11-01T00:00:00",
          "2022-10-01T00:00:00",
          "2022-09-01T00:00:00"
         ],
         "xaxis": "x",
         "y": [
          0.13774834437086092,
          0.10773480662983426,
          0.13432835820895522,
          0.16220238095238096,
          0.08869814020028613,
          0.06766917293233082,
          0.09574468085106383,
          0.09090909090909091,
          0.09442724458204334,
          0.102880658436214,
          0.11234177215189874,
          0.10967741935483871,
          0.1381668946648427,
          0.15549215406562053,
          0.13010590015128592,
          0.1686143572621035,
          0.22422680412371135,
          0.17587939698492464,
          0.18518518518518517,
          0.17511520737327188,
          0.16587677725118483
         ],
         "yaxis": "y"
        },
        {
         "hovertemplate": "clean_name=Albuquerque, NM<br>date=%{x}<br>% of New Listings from New Construction=%{y}<extra></extra>",
         "legendgroup": "Albuquerque, NM",
         "line": {
          "color": "lightblue",
          "dash": "dash",
          "width": 2
         },
         "marker": {
          "symbol": "circle"
         },
         "mode": "lines",
         "name": "Albuquerque, NM",
         "opacity": 0.8,
         "showlegend": true,
         "type": "scattergl",
         "x": [
          "2024-05-01T00:00:00",
          "2024-04-01T00:00:00",
          "2024-03-01T00:00:00",
          "2024-02-01T00:00:00",
          "2024-01-01T00:00:00",
          "2023-12-01T00:00:00",
          "2023-11-01T00:00:00",
          "2023-10-01T00:00:00",
          "2023-09-01T00:00:00",
          "2023-08-01T00:00:00",
          "2023-07-01T00:00:00",
          "2023-06-01T00:00:00",
          "2023-05-01T00:00:00",
          "2023-04-01T00:00:00",
          "2023-03-01T00:00:00",
          "2023-02-01T00:00:00",
          "2023-01-01T00:00:00",
          "2022-12-01T00:00:00",
          "2022-11-01T00:00:00",
          "2022-10-01T00:00:00",
          "2022-09-01T00:00:00"
         ],
         "xaxis": "x",
         "y": [
          0.07920792079207921,
          0.05483207676490747,
          0.06944444444444445,
          0.0935672514619883,
          0.09433962264150944,
          0.08816120906801007,
          0.07371483996120272,
          0.07431874483897605,
          0.07317073170731707,
          0.08534946236559139,
          0.05112044817927171,
          0.06954887218045112,
          0.08994378513429106,
          0.07981580966999233,
          0.08134328358208955,
          0.09234234234234234,
          0.09711684370257967,
          0.1446700507614213,
          0.12418300653594772,
          0.1182108626198083,
          0.1888111888111888
         ],
         "yaxis": "y"
        },
        {
         "hovertemplate": "clean_name=Bakersfield, CA<br>date=%{x}<br>% of New Listings from New Construction=%{y}<extra></extra>",
         "legendgroup": "Bakersfield, CA",
         "line": {
          "color": "lightblue",
          "dash": "dash",
          "width": 2
         },
         "marker": {
          "symbol": "circle"
         },
         "mode": "lines",
         "name": "Bakersfield, CA",
         "opacity": 0.8,
         "showlegend": true,
         "type": "scattergl",
         "x": [
          "2024-05-01T00:00:00",
          "2024-04-01T00:00:00",
          "2024-03-01T00:00:00",
          "2024-02-01T00:00:00",
          "2024-01-01T00:00:00",
          "2023-12-01T00:00:00",
          "2023-11-01T00:00:00",
          "2023-10-01T00:00:00",
          "2023-09-01T00:00:00",
          "2023-08-01T00:00:00",
          "2023-07-01T00:00:00",
          "2023-06-01T00:00:00",
          "2023-05-01T00:00:00",
          "2023-04-01T00:00:00",
          "2023-03-01T00:00:00",
          "2023-02-01T00:00:00",
          "2023-01-01T00:00:00",
          "2022-12-01T00:00:00",
          "2022-11-01T00:00:00",
          "2022-10-01T00:00:00",
          "2022-09-01T00:00:00"
         ],
         "xaxis": "x",
         "y": [
          0.026622296173044926,
          0.034031413612565446,
          0.02862595419847328,
          0.022703818369453045,
          0.016293279022403257,
          0.012195121951219513,
          0.023170731707317073,
          0.017958412098298678,
          0.017035775127768313,
          0.0287569573283859,
          0.030798845043310877,
          0.03608660785886127,
          0.02468212415856395,
          0.040674603174603176,
          0.027892561983471075,
          0.030495552731893267,
          0.03814262023217247,
          0.06956521739130435,
          0.061124694376528114,
          0.05057471264367816,
          0.03664921465968586
         ],
         "yaxis": "y"
        },
        {
         "hovertemplate": "clean_name=Albany, NY<br>date=%{x}<br>% of New Listings from New Construction=%{y}<extra></extra>",
         "legendgroup": "Albany, NY",
         "line": {
          "color": "lightblue",
          "dash": "dash",
          "width": 2
         },
         "marker": {
          "symbol": "circle"
         },
         "mode": "lines",
         "name": "Albany, NY",
         "opacity": 0.8,
         "showlegend": true,
         "type": "scattergl",
         "x": [
          "2024-05-01T00:00:00",
          "2024-04-01T00:00:00",
          "2024-03-01T00:00:00",
          "2024-02-01T00:00:00",
          "2024-01-01T00:00:00",
          "2023-12-01T00:00:00",
          "2023-11-01T00:00:00",
          "2023-10-01T00:00:00",
          "2023-09-01T00:00:00",
          "2023-08-01T00:00:00",
          "2023-07-01T00:00:00",
          "2023-06-01T00:00:00",
          "2023-05-01T00:00:00",
          "2023-04-01T00:00:00",
          "2023-03-01T00:00:00",
          "2023-02-01T00:00:00",
          "2023-01-01T00:00:00",
          "2022-12-01T00:00:00",
          "2022-11-01T00:00:00",
          "2022-10-01T00:00:00",
          "2022-09-01T00:00:00"
         ],
         "xaxis": "x",
         "y": [
          0.0343027591349739,
          0.031073446327683617,
          0.03598691384950927,
          0.04755434782608696,
          0.04735376044568245,
          0.05137614678899083,
          0.039397450753186555,
          0.024826216484607744,
          0.04719501335707925,
          0.05196850393700787,
          0.030638297872340424,
          0.045420699925539834,
          0.037821482602118005,
          0.040877367896311065,
          0.03415154749199573,
          0.030013642564802184,
          0.07597173144876325,
          0.06340057636887608,
          0.10198300283286119,
          0.08791208791208792,
          0.060810810810810814
         ],
         "yaxis": "y"
        },
        {
         "hovertemplate": "clean_name=Knoxville, TN<br>date=%{x}<br>% of New Listings from New Construction=%{y}<extra></extra>",
         "legendgroup": "Knoxville, TN",
         "line": {
          "color": "lightblue",
          "dash": "dash",
          "width": 2
         },
         "marker": {
          "symbol": "circle"
         },
         "mode": "lines",
         "name": "Knoxville, TN",
         "opacity": 0.8,
         "showlegend": true,
         "type": "scattergl",
         "x": [
          "2024-05-01T00:00:00",
          "2024-04-01T00:00:00",
          "2024-03-01T00:00:00",
          "2024-02-01T00:00:00",
          "2024-01-01T00:00:00",
          "2023-12-01T00:00:00",
          "2023-11-01T00:00:00",
          "2023-10-01T00:00:00",
          "2023-09-01T00:00:00",
          "2023-08-01T00:00:00",
          "2023-07-01T00:00:00",
          "2023-06-01T00:00:00",
          "2023-05-01T00:00:00",
          "2023-04-01T00:00:00",
          "2023-03-01T00:00:00",
          "2023-02-01T00:00:00",
          "2023-01-01T00:00:00",
          "2022-12-01T00:00:00",
          "2022-11-01T00:00:00",
          "2022-10-01T00:00:00",
          "2022-09-01T00:00:00"
         ],
         "xaxis": "x",
         "y": [
          0.09349593495934959,
          0.09355026147588612,
          0.10702976567447751,
          0.10798816568047337,
          0.10855565777368906,
          0.10481283422459893,
          0.1021671826625387,
          0.09041835357624832,
          0.10046265697290152,
          0.09645669291338582,
          0.08887425938117183,
          0.07591324200913242,
          0.08843125378558449,
          0.09692513368983957,
          0.11851851851851852,
          0.12871287128712872,
          0.1712121212121212,
          0.15833333333333333,
          0.18292682926829268,
          0.11306532663316583,
          0.1421188630490956
         ],
         "yaxis": "y"
        },
        {
         "hovertemplate": "clean_name=Mcallen, TX<br>date=%{x}<br>% of New Listings from New Construction=%{y}<extra></extra>",
         "legendgroup": "Mcallen, TX",
         "line": {
          "color": "lightblue",
          "dash": "dash",
          "width": 2
         },
         "marker": {
          "symbol": "circle"
         },
         "mode": "lines",
         "name": "Mcallen, TX",
         "opacity": 0.8,
         "showlegend": true,
         "type": "scattergl",
         "x": [
          "2024-05-01T00:00:00",
          "2024-04-01T00:00:00",
          "2024-03-01T00:00:00",
          "2024-02-01T00:00:00",
          "2024-01-01T00:00:00",
          "2023-12-01T00:00:00",
          "2023-11-01T00:00:00",
          "2023-10-01T00:00:00",
          "2023-09-01T00:00:00",
          "2023-08-01T00:00:00",
          "2023-07-01T00:00:00",
          "2023-06-01T00:00:00",
          "2023-05-01T00:00:00",
          "2023-04-01T00:00:00",
          "2023-03-01T00:00:00",
          "2023-02-01T00:00:00",
          "2023-01-01T00:00:00",
          "2022-12-01T00:00:00",
          "2022-11-01T00:00:00",
          "2022-10-01T00:00:00",
          "2022-09-01T00:00:00"
         ],
         "xaxis": "x",
         "y": [
          0.18475750577367206,
          0.2100350058343057,
          0.1930232558139535,
          0.2091121495327103,
          0.2043132803632236,
          0.21,
          0.19849624060150375,
          0.14960629921259844,
          0.1721311475409836,
          0.19325842696629214,
          0.15943877551020408,
          0.2092426187419769,
          0.20822622107969152,
          0.21115537848605578,
          0.208955223880597,
          0.21792890262751158,
          0.24302134646962234,
          0.2981029810298103,
          0.30997304582210244,
          0.2962962962962963,
          0.2543859649122807
         ],
         "yaxis": "y"
        },
        {
         "hovertemplate": "clean_name=Baton Rouge, LA<br>date=%{x}<br>% of New Listings from New Construction=%{y}<extra></extra>",
         "legendgroup": "Baton Rouge, LA",
         "line": {
          "color": "lightblue",
          "dash": "dash",
          "width": 2
         },
         "marker": {
          "symbol": "circle"
         },
         "mode": "lines",
         "name": "Baton Rouge, LA",
         "opacity": 0.8,
         "showlegend": true,
         "type": "scattergl",
         "x": [
          "2024-05-01T00:00:00",
          "2024-04-01T00:00:00",
          "2024-03-01T00:00:00",
          "2024-02-01T00:00:00",
          "2024-01-01T00:00:00",
          "2023-12-01T00:00:00",
          "2023-11-01T00:00:00",
          "2023-10-01T00:00:00",
          "2023-09-01T00:00:00",
          "2023-08-01T00:00:00",
          "2023-07-01T00:00:00",
          "2023-06-01T00:00:00",
          "2023-05-01T00:00:00",
          "2023-04-01T00:00:00",
          "2023-03-01T00:00:00",
          "2023-02-01T00:00:00",
          "2023-01-01T00:00:00",
          "2022-12-01T00:00:00",
          "2022-11-01T00:00:00",
          "2022-10-01T00:00:00",
          "2022-09-01T00:00:00"
         ],
         "xaxis": "x",
         "y": [
          0.09645817633760362,
          0.08084772370486656,
          0.08673026886383348,
          0.14768683274021352,
          0.20438683948155534,
          0.17305151915455746,
          0.18783930510314875,
          0.16837209302325581,
          0.18454106280193236,
          0.18188736681887366,
          0.16629044394281414,
          0.18609550561797752,
          0.19504876219054765,
          0.21745788667687596,
          0.20447976878612717,
          0.21721311475409835,
          0.24191461836998707,
          0.21188630490956073,
          0.23076923076923078,
          0.2462686567164179,
          0.2261904761904762
         ],
         "yaxis": "y"
        },
        {
         "hovertemplate": "clean_name=El Paso, TX<br>date=%{x}<br>% of New Listings from New Construction=%{y}<extra></extra>",
         "legendgroup": "El Paso, TX",
         "line": {
          "color": "lightblue",
          "dash": "dash",
          "width": 2
         },
         "marker": {
          "symbol": "circle"
         },
         "mode": "lines",
         "name": "El Paso, TX",
         "opacity": 0.8,
         "showlegend": true,
         "type": "scattergl",
         "x": [
          "2024-05-01T00:00:00",
          "2024-04-01T00:00:00",
          "2024-03-01T00:00:00",
          "2024-02-01T00:00:00",
          "2024-01-01T00:00:00",
          "2023-12-01T00:00:00",
          "2023-11-01T00:00:00",
          "2023-10-01T00:00:00",
          "2023-09-01T00:00:00",
          "2023-08-01T00:00:00",
          "2023-07-01T00:00:00",
          "2023-06-01T00:00:00",
          "2023-05-01T00:00:00",
          "2023-04-01T00:00:00",
          "2023-03-01T00:00:00",
          "2023-02-01T00:00:00",
          "2023-01-01T00:00:00",
          "2022-12-01T00:00:00",
          "2022-11-01T00:00:00",
          "2022-10-01T00:00:00",
          "2022-09-01T00:00:00"
         ],
         "xaxis": "x",
         "y": [
          0.11198600174978128,
          0.15287162162162163,
          0.15637065637065636,
          0.13924050632911392,
          0.17794970986460348,
          0.14599686028257458,
          0.12349726775956284,
          0.1896551724137931,
          0.15655577299412915,
          0.16860986547085202,
          0.13380909901873328,
          0.20254957507082152,
          0.15625,
          0.229776247848537,
          0.19705340699815838,
          0.24812030075187969,
          0.3732283464566929,
          0.3643122676579926,
          0.34798534798534797,
          0.42443729903536975,
          0.5
         ],
         "yaxis": "y"
        },
        {
         "hovertemplate": "clean_name=New Haven, CT<br>date=%{x}<br>% of New Listings from New Construction=%{y}<extra></extra>",
         "legendgroup": "New Haven, CT",
         "line": {
          "color": "lightblue",
          "dash": "dash",
          "width": 2
         },
         "marker": {
          "symbol": "circle"
         },
         "mode": "lines",
         "name": "New Haven, CT",
         "opacity": 0.8,
         "showlegend": true,
         "type": "scattergl",
         "x": [
          "2024-05-01T00:00:00",
          "2024-04-01T00:00:00",
          "2024-03-01T00:00:00",
          "2024-02-01T00:00:00",
          "2024-01-01T00:00:00",
          "2023-12-01T00:00:00",
          "2023-11-01T00:00:00",
          "2023-10-01T00:00:00",
          "2023-09-01T00:00:00",
          "2023-08-01T00:00:00",
          "2023-07-01T00:00:00",
          "2023-06-01T00:00:00",
          "2023-05-01T00:00:00",
          "2023-04-01T00:00:00",
          "2023-03-01T00:00:00",
          "2023-02-01T00:00:00",
          "2023-01-01T00:00:00",
          "2022-12-01T00:00:00",
          "2022-11-01T00:00:00",
          "2022-10-01T00:00:00",
          "2022-09-01T00:00:00"
         ],
         "xaxis": "x",
         "y": [
          0.011811023622047244,
          0.016608391608391608,
          0.010193679918450561,
          0.014405762304921969,
          0.01456953642384106,
          0.015151515151515152,
          0.018285714285714287,
          0.023506366307541625,
          0.030414746543778803,
          0.025394045534150613,
          0.023140495867768594,
          0.026499302649930265,
          0.028023598820058997,
          0.027097902097902096,
          0.03894927536231884,
          0.028187919463087248,
          0.06739526411657559,
          0.07236842105263158,
          0.057750759878419454,
          0.09345794392523364,
          0.07664233576642336
         ],
         "yaxis": "y"
        },
        {
         "hovertemplate": "clean_name=Allentown, PA<br>date=%{x}<br>% of New Listings from New Construction=%{y}<extra></extra>",
         "legendgroup": "Allentown, PA",
         "line": {
          "color": "lightblue",
          "dash": "dash",
          "width": 2
         },
         "marker": {
          "symbol": "circle"
         },
         "mode": "lines",
         "name": "Allentown, PA",
         "opacity": 0.8,
         "showlegend": true,
         "type": "scattergl",
         "x": [
          "2024-05-01T00:00:00",
          "2024-04-01T00:00:00",
          "2024-03-01T00:00:00",
          "2024-02-01T00:00:00",
          "2024-01-01T00:00:00",
          "2023-12-01T00:00:00",
          "2023-11-01T00:00:00",
          "2023-10-01T00:00:00",
          "2023-09-01T00:00:00",
          "2023-08-01T00:00:00",
          "2023-07-01T00:00:00",
          "2023-06-01T00:00:00",
          "2023-05-01T00:00:00",
          "2023-04-01T00:00:00",
          "2023-03-01T00:00:00",
          "2023-02-01T00:00:00",
          "2023-01-01T00:00:00",
          "2022-12-01T00:00:00",
          "2022-11-01T00:00:00",
          "2022-10-01T00:00:00",
          "2022-09-01T00:00:00"
         ],
         "xaxis": "x",
         "y": [
          0.054481546572934976,
          0.04702750665483585,
          0.058343057176196034,
          0.060196560196560195,
          0.06030855539971949,
          0.052830188679245285,
          0.04551724137931035,
          0.0473568281938326,
          0.05159958720330237,
          0.05325443786982249,
          0.03557312252964427,
          0.06946983546617916,
          0.08544600938967137,
          0.06726457399103139,
          0.06680805938494168,
          0.08480565371024736,
          0.07939508506616257,
          0.14671814671814673,
          0.07407407407407407,
          0.09375,
          0.09246575342465753
         ],
         "yaxis": "y"
        },
        {
         "hovertemplate": "clean_name=North Port, FL<br>date=%{x}<br>% of New Listings from New Construction=%{y}<extra></extra>",
         "legendgroup": "North Port, FL",
         "line": {
          "color": "lightblue",
          "dash": "dash",
          "width": 2
         },
         "marker": {
          "symbol": "circle"
         },
         "mode": "lines",
         "name": "North Port, FL",
         "opacity": 0.8,
         "showlegend": true,
         "type": "scattergl",
         "x": [
          "2024-05-01T00:00:00",
          "2024-04-01T00:00:00",
          "2024-03-01T00:00:00",
          "2024-02-01T00:00:00",
          "2024-01-01T00:00:00",
          "2023-12-01T00:00:00",
          "2023-11-01T00:00:00",
          "2023-10-01T00:00:00",
          "2023-09-01T00:00:00",
          "2023-08-01T00:00:00",
          "2023-07-01T00:00:00",
          "2023-06-01T00:00:00",
          "2023-05-01T00:00:00",
          "2023-04-01T00:00:00",
          "2023-03-01T00:00:00",
          "2023-02-01T00:00:00",
          "2023-01-01T00:00:00",
          "2022-12-01T00:00:00",
          "2022-11-01T00:00:00",
          "2022-10-01T00:00:00",
          "2022-09-01T00:00:00"
         ],
         "xaxis": "x",
         "y": [
          0.10587550901687028,
          0.08076923076923077,
          0.06509019990248659,
          0.07218639484085708,
          0.08939137785291631,
          0.07998483699772554,
          0.09083069847657373,
          0.09428172942817294,
          0.08531422989254314,
          0.0927694406548431,
          0.09241379310344827,
          0.09137826350941106,
          0.08297480024585126,
          0.08753920729968634,
          0.09547865622631978,
          0.08731739707835326,
          0.09177095183921123,
          0.11176040905770636,
          0.1469359331476323,
          0.17685411572942136,
          0.1532399299474606
         ],
         "yaxis": "y"
        },
        {
         "hovertemplate": "clean_name=Oxnard, CA<br>date=%{x}<br>% of New Listings from New Construction=%{y}<extra></extra>",
         "legendgroup": "Oxnard, CA",
         "line": {
          "color": "lightblue",
          "dash": "dash",
          "width": 2
         },
         "marker": {
          "symbol": "circle"
         },
         "mode": "lines",
         "name": "Oxnard, CA",
         "opacity": 0.8,
         "showlegend": true,
         "type": "scattergl",
         "x": [
          "2024-05-01T00:00:00",
          "2024-04-01T00:00:00",
          "2024-03-01T00:00:00",
          "2024-02-01T00:00:00",
          "2024-01-01T00:00:00",
          "2023-12-01T00:00:00",
          "2023-11-01T00:00:00",
          "2023-10-01T00:00:00",
          "2023-09-01T00:00:00",
          "2023-08-01T00:00:00",
          "2023-07-01T00:00:00",
          "2023-06-01T00:00:00",
          "2023-05-01T00:00:00",
          "2023-04-01T00:00:00",
          "2023-03-01T00:00:00",
          "2023-02-01T00:00:00",
          "2023-01-01T00:00:00",
          "2022-12-01T00:00:00",
          "2022-11-01T00:00:00",
          "2022-10-01T00:00:00",
          "2022-09-01T00:00:00"
         ],
         "xaxis": "x",
         "y": [
          0.017679558011049725,
          0.012485811577752554,
          0.015815085158150853,
          0.025495750708215296,
          0.01023391812865497,
          0.020356234096692113,
          0.016025641025641024,
          0.01702127659574468,
          0.030855539971949508,
          0.012853470437017995,
          0.025893958076448828,
          0.017738359201773836,
          0.032640949554896145,
          0.01910828025477707,
          0.017834394904458598,
          0.056851311953352766,
          0.030303030303030304,
          0.03745318352059925,
          0.018575851393188854,
          0.03430079155672823,
          0.02763819095477387
         ],
         "yaxis": "y"
        },
        {
         "hovertemplate": "clean_name=Columbia, SC<br>date=%{x}<br>% of New Listings from New Construction=%{y}<extra></extra>",
         "legendgroup": "Columbia, SC",
         "line": {
          "color": "lightblue",
          "dash": "dash",
          "width": 2
         },
         "marker": {
          "symbol": "circle"
         },
         "mode": "lines",
         "name": "Columbia, SC",
         "opacity": 0.8,
         "showlegend": true,
         "type": "scattergl",
         "x": [
          "2024-05-01T00:00:00",
          "2024-04-01T00:00:00",
          "2024-03-01T00:00:00",
          "2024-02-01T00:00:00",
          "2024-01-01T00:00:00",
          "2023-12-01T00:00:00",
          "2023-11-01T00:00:00",
          "2023-10-01T00:00:00",
          "2023-09-01T00:00:00",
          "2023-08-01T00:00:00",
          "2023-07-01T00:00:00",
          "2023-06-01T00:00:00",
          "2023-05-01T00:00:00",
          "2023-04-01T00:00:00",
          "2023-03-01T00:00:00",
          "2023-02-01T00:00:00",
          "2023-01-01T00:00:00",
          "2022-12-01T00:00:00",
          "2022-11-01T00:00:00",
          "2022-10-01T00:00:00",
          "2022-09-01T00:00:00"
         ],
         "xaxis": "x",
         "y": [
          0.10896196002578981,
          0.10349554489376285,
          0.11548913043478261,
          0.1026252983293556,
          0.13288789903489234,
          0.11328976034858387,
          0.09700176366843033,
          0.1378012048192771,
          0.10815047021943573,
          0.08829712683952348,
          0.11753614079195475,
          0.17228853139595227,
          0.2234902520209225,
          0.1942535915053092,
          0.2335058214747736,
          0.19196428571428573,
          0.3020689655172414,
          0.34293193717277487,
          0.2127659574468085,
          0.22388059701492538,
          0.2512437810945274
         ],
         "yaxis": "y"
        },
        {
         "hovertemplate": "clean_name=Dayton, OH<br>date=%{x}<br>% of New Listings from New Construction=%{y}<extra></extra>",
         "legendgroup": "Dayton, OH",
         "line": {
          "color": "lightblue",
          "dash": "dash",
          "width": 2
         },
         "marker": {
          "symbol": "circle"
         },
         "mode": "lines",
         "name": "Dayton, OH",
         "opacity": 0.8,
         "showlegend": true,
         "type": "scattergl",
         "x": [
          "2024-05-01T00:00:00",
          "2024-04-01T00:00:00",
          "2024-03-01T00:00:00",
          "2024-02-01T00:00:00",
          "2024-01-01T00:00:00",
          "2023-12-01T00:00:00",
          "2023-11-01T00:00:00",
          "2023-10-01T00:00:00",
          "2023-09-01T00:00:00",
          "2023-08-01T00:00:00",
          "2023-07-01T00:00:00",
          "2023-06-01T00:00:00",
          "2023-05-01T00:00:00",
          "2023-04-01T00:00:00",
          "2023-03-01T00:00:00",
          "2023-02-01T00:00:00",
          "2023-01-01T00:00:00",
          "2022-12-01T00:00:00",
          "2022-11-01T00:00:00",
          "2022-10-01T00:00:00",
          "2022-09-01T00:00:00"
         ],
         "xaxis": "x",
         "y": [
          0.019508670520231215,
          0.01848998459167951,
          0.01918047079337402,
          0.01634320735444331,
          0.009625668449197862,
          0.022606382978723406,
          0.019114688128772636,
          0.02218430034129693,
          0.017041053446940357,
          0.011627906976744186,
          0.01105379513633014,
          0.019005847953216373,
          0.018368846436443792,
          0.02457002457002457,
          0.018867924528301886,
          0.02219626168224299,
          0.024291497975708502,
          0.03676470588235294,
          0.020689655172413793,
          0.06551724137931035,
          0.06691449814126393
         ],
         "yaxis": "y"
        },
        {
         "hovertemplate": "clean_name=Charleston, SC<br>date=%{x}<br>% of New Listings from New Construction=%{y}<extra></extra>",
         "legendgroup": "Charleston, SC",
         "line": {
          "color": "lightblue",
          "dash": "dash",
          "width": 2
         },
         "marker": {
          "symbol": "circle"
         },
         "mode": "lines",
         "name": "Charleston, SC",
         "opacity": 0.8,
         "showlegend": true,
         "type": "scattergl",
         "x": [
          "2024-05-01T00:00:00",
          "2024-04-01T00:00:00",
          "2024-03-01T00:00:00",
          "2024-02-01T00:00:00",
          "2024-01-01T00:00:00",
          "2023-12-01T00:00:00",
          "2023-11-01T00:00:00",
          "2023-10-01T00:00:00",
          "2023-09-01T00:00:00",
          "2023-08-01T00:00:00",
          "2023-07-01T00:00:00",
          "2023-06-01T00:00:00",
          "2023-05-01T00:00:00",
          "2023-04-01T00:00:00",
          "2023-03-01T00:00:00",
          "2023-02-01T00:00:00",
          "2023-01-01T00:00:00",
          "2022-12-01T00:00:00",
          "2022-11-01T00:00:00",
          "2022-10-01T00:00:00",
          "2022-09-01T00:00:00"
         ],
         "xaxis": "x",
         "y": [
          0.08775981524249422,
          0.07362581946545638,
          0.07121951219512195,
          0.08732694355697551,
          0.08711885500933417,
          0.10431293881644935,
          0.09866102889358704,
          0.10754716981132076,
          0.09884075655887736,
          0.09707666850523994,
          0.09276018099547512,
          0.0962671905697446,
          0.11254612546125461,
          0.08963001563314227,
          0.11183597390493942,
          0.13424657534246576,
          0.12392426850258176,
          0.12816901408450704,
          0.12376779846659365,
          0.125,
          0.14090431125131442
         ],
         "yaxis": "y"
        },
        {
         "hovertemplate": "clean_name=Stockton, CA<br>date=%{x}<br>% of New Listings from New Construction=%{y}<extra></extra>",
         "legendgroup": "Stockton, CA",
         "line": {
          "color": "lightblue",
          "dash": "dash",
          "width": 2
         },
         "marker": {
          "symbol": "circle"
         },
         "mode": "lines",
         "name": "Stockton, CA",
         "opacity": 0.8,
         "showlegend": true,
         "type": "scattergl",
         "x": [
          "2024-05-01T00:00:00",
          "2024-04-01T00:00:00",
          "2024-03-01T00:00:00",
          "2024-02-01T00:00:00",
          "2024-01-01T00:00:00",
          "2023-12-01T00:00:00",
          "2023-11-01T00:00:00",
          "2023-10-01T00:00:00",
          "2023-09-01T00:00:00",
          "2023-08-01T00:00:00",
          "2023-07-01T00:00:00",
          "2023-06-01T00:00:00",
          "2023-05-01T00:00:00",
          "2023-04-01T00:00:00",
          "2023-03-01T00:00:00",
          "2023-02-01T00:00:00",
          "2023-01-01T00:00:00",
          "2022-12-01T00:00:00",
          "2022-11-01T00:00:00",
          "2022-10-01T00:00:00",
          "2022-09-01T00:00:00"
         ],
         "xaxis": "x",
         "y": [
          0.05632183908045977,
          0.04639175257731959,
          0.05508474576271186,
          0.05921052631578947,
          0.06363636363636363,
          0.09207161125319693,
          0.1206581352833638,
          0.08598726114649681,
          0.061046511627906974,
          0.06944444444444445,
          0.072992700729927,
          0.07387862796833773,
          0.08894536213468869,
          0.08053691275167785,
          0.09487951807228916,
          0.09265734265734266,
          0.1292372881355932,
          0.09302325581395349,
          0.0944700460829493,
          0.09,
          0.1023454157782516
         ],
         "yaxis": "y"
        },
        {
         "hovertemplate": "clean_name=Greensboro, NC<br>date=%{x}<br>% of New Listings from New Construction=%{y}<extra></extra>",
         "legendgroup": "Greensboro, NC",
         "line": {
          "color": "lightblue",
          "dash": "dash",
          "width": 2
         },
         "marker": {
          "symbol": "circle"
         },
         "mode": "lines",
         "name": "Greensboro, NC",
         "opacity": 0.8,
         "showlegend": true,
         "type": "scattergl",
         "x": [
          "2024-05-01T00:00:00",
          "2024-04-01T00:00:00",
          "2024-03-01T00:00:00",
          "2024-02-01T00:00:00",
          "2024-01-01T00:00:00",
          "2023-12-01T00:00:00",
          "2023-11-01T00:00:00",
          "2023-10-01T00:00:00",
          "2023-09-01T00:00:00",
          "2023-08-01T00:00:00",
          "2023-07-01T00:00:00",
          "2023-06-01T00:00:00",
          "2023-05-01T00:00:00",
          "2023-04-01T00:00:00",
          "2023-03-01T00:00:00",
          "2023-02-01T00:00:00",
          "2023-01-01T00:00:00",
          "2022-12-01T00:00:00",
          "2022-11-01T00:00:00",
          "2022-10-01T00:00:00",
          "2022-09-01T00:00:00"
         ],
         "xaxis": "x",
         "y": [
          0.030612244897959183,
          0.03669724770642202,
          0.11016949152542373,
          0.16129032258064516,
          0.05357142857142857,
          0.058394160583941604,
          0.06557377049180328,
          0.08928571428571429,
          0.0472972972972973,
          0.09322033898305085,
          0.0873015873015873,
          0.06422018348623854,
          0.10526315789473684,
          0.15217391304347827,
          0.15476190476190477,
          0.2608695652173913,
          0.2857142857142857,
          0.047619047619047616,
          0.13043478260869565,
          0.16666666666666666,
          0.0625
         ],
         "yaxis": "y"
        },
        {
         "hovertemplate": "clean_name=Cape Coral, FL<br>date=%{x}<br>% of New Listings from New Construction=%{y}<extra></extra>",
         "legendgroup": "Cape Coral, FL",
         "line": {
          "color": "lightblue",
          "dash": "dash",
          "width": 2
         },
         "marker": {
          "symbol": "circle"
         },
         "mode": "lines",
         "name": "Cape Coral, FL",
         "opacity": 0.8,
         "showlegend": true,
         "type": "scattergl",
         "x": [
          "2024-05-01T00:00:00",
          "2024-04-01T00:00:00",
          "2024-03-01T00:00:00",
          "2024-02-01T00:00:00",
          "2024-01-01T00:00:00",
          "2023-12-01T00:00:00",
          "2023-11-01T00:00:00",
          "2023-10-01T00:00:00",
          "2023-09-01T00:00:00",
          "2023-08-01T00:00:00",
          "2023-07-01T00:00:00",
          "2023-06-01T00:00:00",
          "2023-05-01T00:00:00",
          "2023-04-01T00:00:00",
          "2023-03-01T00:00:00",
          "2023-02-01T00:00:00",
          "2023-01-01T00:00:00",
          "2022-12-01T00:00:00",
          "2022-11-01T00:00:00",
          "2022-10-01T00:00:00",
          "2022-09-01T00:00:00"
         ],
         "xaxis": "x",
         "y": [
          0.06836384439359268,
          0.05883825738607912,
          0.06692160611854685,
          0.06045445069835314,
          0.09191919191919191,
          0.1301416048550236,
          0.1178631995477671,
          0.1292677689499678,
          0.13440693713223908,
          0.1167563930013459,
          0.127212020033389,
          0.1218741017533774,
          0.12584757255221046,
          0.10837438423645321,
          0.10843096714909257,
          0.11609022556390977,
          0.12400635930047695,
          0.13436866981769074,
          0.15622641509433963,
          0.1852216748768473,
          0.19541375872382852
         ],
         "yaxis": "y"
        },
        {
         "hovertemplate": "clean_name=Boise City, ID<br>date=%{x}<br>% of New Listings from New Construction=%{y}<extra></extra>",
         "legendgroup": "Boise City, ID",
         "line": {
          "color": "lightblue",
          "dash": "dash",
          "width": 2
         },
         "marker": {
          "symbol": "circle"
         },
         "mode": "lines",
         "name": "Boise City, ID",
         "opacity": 0.8,
         "showlegend": true,
         "type": "scattergl",
         "x": [
          "2024-05-01T00:00:00",
          "2024-04-01T00:00:00",
          "2024-03-01T00:00:00",
          "2024-02-01T00:00:00",
          "2024-01-01T00:00:00",
          "2023-12-01T00:00:00",
          "2023-11-01T00:00:00",
          "2023-10-01T00:00:00",
          "2023-09-01T00:00:00",
          "2023-08-01T00:00:00",
          "2023-07-01T00:00:00",
          "2023-06-01T00:00:00",
          "2023-05-01T00:00:00",
          "2023-04-01T00:00:00",
          "2023-03-01T00:00:00",
          "2023-02-01T00:00:00",
          "2023-01-01T00:00:00",
          "2022-12-01T00:00:00",
          "2022-11-01T00:00:00",
          "2022-10-01T00:00:00",
          "2022-09-01T00:00:00"
         ],
         "xaxis": "x",
         "y": [
          0.14083820662768032,
          0.12545739675901724,
          0.11597374179431072,
          0.13295210864903503,
          0.10412757973733583,
          0.0853932584269663,
          0.13508771929824562,
          0.061237373737373736,
          0.03873239436619718,
          0.07251461988304093,
          0.08636363636363636,
          0.09382151029748284,
          0.11735807860262008,
          0.15191545574636725,
          0.22696351267779838,
          0.27969018932874357,
          0.3695652173913043,
          0.4218009478672986,
          0.3016194331983806,
          0.27416173570019725,
          0.2966666666666667
         ],
         "yaxis": "y"
        },
        {
         "hovertemplate": "clean_name=Colorado Springs, CO<br>date=%{x}<br>% of New Listings from New Construction=%{y}<extra></extra>",
         "legendgroup": "Colorado Springs, CO",
         "line": {
          "color": "lightblue",
          "dash": "dash",
          "width": 2
         },
         "marker": {
          "symbol": "circle"
         },
         "mode": "lines",
         "name": "Colorado Springs, CO",
         "opacity": 0.8,
         "showlegend": true,
         "type": "scattergl",
         "x": [
          "2024-05-01T00:00:00",
          "2024-04-01T00:00:00",
          "2024-03-01T00:00:00",
          "2024-02-01T00:00:00",
          "2024-01-01T00:00:00",
          "2023-12-01T00:00:00",
          "2023-11-01T00:00:00",
          "2023-10-01T00:00:00",
          "2023-09-01T00:00:00",
          "2023-08-01T00:00:00",
          "2023-07-01T00:00:00",
          "2023-06-01T00:00:00",
          "2023-05-01T00:00:00",
          "2023-04-01T00:00:00",
          "2023-03-01T00:00:00",
          "2023-02-01T00:00:00",
          "2023-01-01T00:00:00",
          "2022-12-01T00:00:00",
          "2022-11-01T00:00:00",
          "2022-10-01T00:00:00",
          "2022-09-01T00:00:00"
         ],
         "xaxis": "x",
         "y": [
          0.05704534373476353,
          0.035256410256410256,
          0.06064281382656155,
          0.07915360501567398,
          0.059252506836827715,
          0.05380577427821522,
          0.06552706552706553,
          0.06802721088435375,
          0.06951135581555402,
          0.060534124629080116,
          0.0672027570361861,
          0.07264529058116233,
          0.0938529088913282,
          0.0991237677984666,
          0.10502864417568428,
          0.0881567230632235,
          0.0979020979020979,
          0.15164835164835164,
          0.12125748502994012,
          0.12916111850865514,
          0.09863429438543247
         ],
         "yaxis": "y"
        },
        {
         "hovertemplate": "clean_name=Little Rock, AR<br>date=%{x}<br>% of New Listings from New Construction=%{y}<extra></extra>",
         "legendgroup": "Little Rock, AR",
         "line": {
          "color": "lightblue",
          "dash": "dash",
          "width": 2
         },
         "marker": {
          "symbol": "circle"
         },
         "mode": "lines",
         "name": "Little Rock, AR",
         "opacity": 0.8,
         "showlegend": true,
         "type": "scattergl",
         "x": [
          "2024-05-01T00:00:00",
          "2024-04-01T00:00:00",
          "2024-03-01T00:00:00",
          "2024-02-01T00:00:00",
          "2024-01-01T00:00:00",
          "2023-12-01T00:00:00",
          "2023-11-01T00:00:00",
          "2023-10-01T00:00:00",
          "2023-09-01T00:00:00",
          "2023-08-01T00:00:00",
          "2023-07-01T00:00:00",
          "2023-06-01T00:00:00",
          "2023-05-01T00:00:00",
          "2023-04-01T00:00:00",
          "2023-03-01T00:00:00",
          "2023-02-01T00:00:00",
          "2023-01-01T00:00:00",
          "2022-12-01T00:00:00",
          "2022-11-01T00:00:00",
          "2022-10-01T00:00:00",
          "2022-09-01T00:00:00"
         ],
         "xaxis": "x",
         "y": [
          0.08132322536181943,
          0.06930693069306931,
          0.07378335949764521,
          0.0852372583479789,
          0.07164179104477612,
          0.06199770378874857,
          0.0686936936936937,
          0.06976744186046512,
          0.08539709649871904,
          0.07768469154607768,
          0.07413647851727043,
          0.09204712812960236,
          0.09563886763580719,
          0.1116584564860427,
          0.1192,
          0.10033076074972437,
          0.15620827770360482,
          0.1662531017369727,
          0.20789473684210527,
          0.1868421052631579,
          0.16151202749140894
         ],
         "yaxis": "y"
        },
        {
         "hovertemplate": "clean_name=Lakeland, FL<br>date=%{x}<br>% of New Listings from New Construction=%{y}<extra></extra>",
         "legendgroup": "Lakeland, FL",
         "line": {
          "color": "lightblue",
          "dash": "dash",
          "width": 2
         },
         "marker": {
          "symbol": "circle"
         },
         "mode": "lines",
         "name": "Lakeland, FL",
         "opacity": 0.8,
         "showlegend": true,
         "type": "scattergl",
         "x": [
          "2024-05-01T00:00:00",
          "2024-04-01T00:00:00",
          "2024-03-01T00:00:00",
          "2024-02-01T00:00:00",
          "2024-01-01T00:00:00",
          "2023-12-01T00:00:00",
          "2023-11-01T00:00:00",
          "2023-10-01T00:00:00",
          "2023-09-01T00:00:00",
          "2023-08-01T00:00:00",
          "2023-07-01T00:00:00",
          "2023-06-01T00:00:00",
          "2023-05-01T00:00:00",
          "2023-04-01T00:00:00",
          "2023-03-01T00:00:00",
          "2023-02-01T00:00:00",
          "2023-01-01T00:00:00",
          "2022-12-01T00:00:00",
          "2022-11-01T00:00:00",
          "2022-10-01T00:00:00",
          "2022-09-01T00:00:00"
         ],
         "xaxis": "x",
         "y": [
          0.1051953628166595,
          0.07755102040816327,
          0.06698564593301436,
          0.06975717439293598,
          0.11305952930318412,
          0.11310711909514305,
          0.12311015118790497,
          0.11211832061068702,
          0.12013958125623131,
          0.12475822050290135,
          0.09939455095862765,
          0.1057922450933461,
          0.09826839826839827,
          0.10588772250114104,
          0.10209424083769633,
          0.09852216748768473,
          0.10727367870225013,
          0.11275272161741835,
          0.11176470588235295,
          0.10455974842767296,
          0.11653813196229648
         ],
         "yaxis": "y"
        },
        {
         "hovertemplate": "clean_name=Des Moines, IA<br>date=%{x}<br>% of New Listings from New Construction=%{y}<extra></extra>",
         "legendgroup": "Des Moines, IA",
         "line": {
          "color": "lightblue",
          "dash": "dash",
          "width": 2
         },
         "marker": {
          "symbol": "circle"
         },
         "mode": "lines",
         "name": "Des Moines, IA",
         "opacity": 0.8,
         "showlegend": true,
         "type": "scattergl",
         "x": [
          "2024-05-01T00:00:00",
          "2024-04-01T00:00:00",
          "2024-03-01T00:00:00",
          "2024-02-01T00:00:00",
          "2024-01-01T00:00:00",
          "2023-12-01T00:00:00",
          "2023-11-01T00:00:00",
          "2023-10-01T00:00:00",
          "2023-09-01T00:00:00",
          "2023-08-01T00:00:00",
          "2023-07-01T00:00:00",
          "2023-06-01T00:00:00",
          "2023-05-01T00:00:00",
          "2023-04-01T00:00:00",
          "2023-03-01T00:00:00",
          "2023-02-01T00:00:00",
          "2023-01-01T00:00:00",
          "2022-12-01T00:00:00",
          "2022-11-01T00:00:00",
          "2022-10-01T00:00:00",
          "2022-09-01T00:00:00"
         ],
         "xaxis": "x",
         "y": [
          0.1625487646293888,
          0.1342801807617818,
          0.12568681318681318,
          0.1536502546689304,
          0.17827868852459017,
          0.181058495821727,
          0.21842105263157896,
          0.14153327716933445,
          0.1494542401343409,
          0.18893678160919541,
          0.14899925871015568,
          0.1665615141955836,
          0.20626151012891344,
          0.22081575246132207,
          0.19519094766619519,
          0.25418060200668896,
          0.3532846715328467,
          0.4274193548387097,
          0.46153846153846156,
          0.5049900199600799,
          0.4364508393285372
         ],
         "yaxis": "y"
        },
        {
         "hovertemplate": "clean_name=Akron, OH<br>date=%{x}<br>% of New Listings from New Construction=%{y}<extra></extra>",
         "legendgroup": "Akron, OH",
         "line": {
          "color": "lightblue",
          "dash": "dash",
          "width": 2
         },
         "marker": {
          "symbol": "circle"
         },
         "mode": "lines",
         "name": "Akron, OH",
         "opacity": 0.8,
         "showlegend": true,
         "type": "scattergl",
         "x": [
          "2024-05-01T00:00:00",
          "2024-04-01T00:00:00",
          "2024-03-01T00:00:00",
          "2024-02-01T00:00:00",
          "2024-01-01T00:00:00",
          "2023-12-01T00:00:00",
          "2023-11-01T00:00:00",
          "2023-10-01T00:00:00",
          "2023-09-01T00:00:00",
          "2023-08-01T00:00:00",
          "2023-07-01T00:00:00",
          "2023-06-01T00:00:00",
          "2023-05-01T00:00:00",
          "2023-04-01T00:00:00",
          "2023-03-01T00:00:00",
          "2023-02-01T00:00:00",
          "2023-01-01T00:00:00",
          "2022-12-01T00:00:00",
          "2022-11-01T00:00:00",
          "2022-10-01T00:00:00",
          "2022-09-01T00:00:00"
         ],
         "xaxis": "x",
         "y": [
          0.016129032258064516,
          0.025906735751295335,
          0.01478494623655914,
          0.03125,
          0.018575851393188854,
          0.019762845849802372,
          0.029831387808041506,
          0.02754237288135593,
          0.033367037411526794,
          0.01777362020579981,
          0.020114942528735632,
          0.027684563758389263,
          0.02,
          0.04287245444801715,
          0.03549060542797495,
          0.043227665706051875,
          0.02895752895752896,
          0.05699481865284974,
          0.029055690072639227,
          0.04786324786324787,
          0.02159468438538206
         ],
         "yaxis": "y"
        },
        {
         "hovertemplate": "clean_name=Poughkeepsie, NY<br>date=%{x}<br>% of New Listings from New Construction=%{y}<extra></extra>",
         "legendgroup": "Poughkeepsie, NY",
         "line": {
          "color": "lightblue",
          "dash": "dash",
          "width": 2
         },
         "marker": {
          "symbol": "circle"
         },
         "mode": "lines",
         "name": "Poughkeepsie, NY",
         "opacity": 0.8,
         "showlegend": true,
         "type": "scattergl",
         "x": [
          "2024-05-01T00:00:00",
          "2024-04-01T00:00:00",
          "2024-03-01T00:00:00",
          "2024-02-01T00:00:00",
          "2024-01-01T00:00:00",
          "2023-12-01T00:00:00",
          "2023-11-01T00:00:00",
          "2023-10-01T00:00:00",
          "2023-09-01T00:00:00",
          "2023-08-01T00:00:00",
          "2023-07-01T00:00:00",
          "2023-06-01T00:00:00",
          "2023-05-01T00:00:00",
          "2023-04-01T00:00:00",
          "2023-03-01T00:00:00",
          "2023-02-01T00:00:00",
          "2023-01-01T00:00:00",
          "2022-12-01T00:00:00",
          "2022-11-01T00:00:00",
          "2022-10-01T00:00:00",
          "2022-09-01T00:00:00"
         ],
         "xaxis": "x",
         "y": [
          0.03630705394190872,
          0.05098493626882966,
          0.02304147465437788,
          0.06451612903225806,
          0.04671280276816609,
          0.0650759219088937,
          0.05090311986863711,
          0.0510688836104513,
          0.04950495049504951,
          0.04103671706263499,
          0.054878048780487805,
          0.04743083003952569,
          0.04924623115577889,
          0.07043879907621248,
          0.03670886075949367,
          0.06296851574212893,
          0.05595667870036101,
          0.0472636815920398,
          0.05,
          0.07807807807807808,
          0.044755244755244755
         ],
         "yaxis": "y"
        },
        {
         "hovertemplate": "clean_name=Ogden, UT<br>date=%{x}<br>% of New Listings from New Construction=%{y}<extra></extra>",
         "legendgroup": "Ogden, UT",
         "line": {
          "color": "lightblue",
          "dash": "dash",
          "width": 2
         },
         "marker": {
          "symbol": "circle"
         },
         "mode": "lines",
         "name": "Ogden, UT",
         "opacity": 0.8,
         "showlegend": true,
         "type": "scattergl",
         "x": [
          "2024-05-01T00:00:00",
          "2024-04-01T00:00:00",
          "2024-03-01T00:00:00",
          "2024-02-01T00:00:00",
          "2024-01-01T00:00:00",
          "2023-12-01T00:00:00",
          "2023-11-01T00:00:00",
          "2023-10-01T00:00:00",
          "2023-09-01T00:00:00",
          "2023-08-01T00:00:00",
          "2023-07-01T00:00:00",
          "2023-06-01T00:00:00",
          "2023-05-01T00:00:00",
          "2023-04-01T00:00:00",
          "2023-03-01T00:00:00",
          "2023-02-01T00:00:00",
          "2023-01-01T00:00:00",
          "2022-12-01T00:00:00",
          "2022-11-01T00:00:00",
          "2022-10-01T00:00:00",
          "2022-09-01T00:00:00"
         ],
         "xaxis": "x",
         "y": [
          0.06520090978013647,
          0.07299912049252419,
          0.10216110019646366,
          0.12124463519313304,
          0.12831858407079647,
          0.12181818181818181,
          0.11054637865311309,
          0.09528795811518324,
          0.10231316725978648,
          0.11645569620253164,
          0.08934707903780069,
          0.11781818181818182,
          0.13126323218066338,
          0.1605960264900662,
          0.16611842105263158,
          0.2828810020876827,
          0.23427041499330656,
          0.30319148936170215,
          0.295,
          0.2161520190023753,
          0.2236503856041131
         ],
         "yaxis": "y"
        },
        {
         "hovertemplate": "clean_name=Springfield, MA<br>date=%{x}<br>% of New Listings from New Construction=%{y}<extra></extra>",
         "legendgroup": "Springfield, MA",
         "line": {
          "color": "lightblue",
          "dash": "dash",
          "width": 2
         },
         "marker": {
          "symbol": "circle"
         },
         "mode": "lines",
         "name": "Springfield, MA",
         "opacity": 0.8,
         "showlegend": true,
         "type": "scattergl",
         "x": [
          "2024-05-01T00:00:00",
          "2024-04-01T00:00:00",
          "2024-03-01T00:00:00",
          "2024-02-01T00:00:00",
          "2024-01-01T00:00:00",
          "2023-12-01T00:00:00",
          "2023-11-01T00:00:00",
          "2023-10-01T00:00:00",
          "2023-09-01T00:00:00",
          "2023-08-01T00:00:00",
          "2023-07-01T00:00:00",
          "2023-06-01T00:00:00",
          "2023-05-01T00:00:00",
          "2023-04-01T00:00:00",
          "2023-03-01T00:00:00",
          "2023-02-01T00:00:00",
          "2023-01-01T00:00:00",
          "2022-12-01T00:00:00",
          "2022-11-01T00:00:00",
          "2022-10-01T00:00:00",
          "2022-09-01T00:00:00"
         ],
         "xaxis": "x",
         "y": [
          0.07978142076502732,
          0.04774193548387097,
          0.04882154882154882,
          0.044444444444444446,
          0.05400696864111498,
          0.03608247422680412,
          0.026687598116169546,
          0.041968162083936326,
          0.05131761442441054,
          0.04216867469879518,
          0.03717948717948718,
          0.05812574139976275,
          0.04844290657439446,
          0.07114093959731543,
          0.052884615384615384,
          0.06896551724137931,
          0.0683453237410072,
          0.07563025210084033,
          0.09395973154362416,
          0.11920529801324503,
          0.06818181818181818
         ],
         "yaxis": "y"
        },
        {
         "hovertemplate": "clean_name=Madison, WI<br>date=%{x}<br>% of New Listings from New Construction=%{y}<extra></extra>",
         "legendgroup": "Madison, WI",
         "line": {
          "color": "lightblue",
          "dash": "dash",
          "width": 2
         },
         "marker": {
          "symbol": "circle"
         },
         "mode": "lines",
         "name": "Madison, WI",
         "opacity": 0.8,
         "showlegend": true,
         "type": "scattergl",
         "x": [
          "2024-05-01T00:00:00",
          "2024-04-01T00:00:00",
          "2024-03-01T00:00:00",
          "2024-02-01T00:00:00",
          "2024-01-01T00:00:00",
          "2023-12-01T00:00:00",
          "2023-11-01T00:00:00",
          "2023-10-01T00:00:00",
          "2023-09-01T00:00:00",
          "2023-08-01T00:00:00",
          "2023-07-01T00:00:00",
          "2023-06-01T00:00:00",
          "2023-05-01T00:00:00",
          "2023-04-01T00:00:00",
          "2023-03-01T00:00:00",
          "2023-02-01T00:00:00",
          "2023-01-01T00:00:00",
          "2022-12-01T00:00:00",
          "2022-11-01T00:00:00",
          "2022-10-01T00:00:00",
          "2022-09-01T00:00:00"
         ],
         "xaxis": "x",
         "y": [
          0.09475806451612903,
          0.08664259927797834,
          0.12447552447552447,
          0.12871287128712872,
          0.22111553784860558,
          0.14814814814814814,
          0.14908256880733944,
          0.11908646003262642,
          0.09117647058823529,
          0.10684931506849316,
          0.1001410437235543,
          0.11342592592592593,
          0.12823529411764706,
          0.12857142857142856,
          0.15725806451612903,
          0.18457300275482094,
          0.24770642201834864,
          0.36363636363636365,
          0.3951612903225806,
          0.2550335570469799,
          0.3305084745762712
         ],
         "yaxis": "y"
        },
        {
         "hovertemplate": "clean_name=Winston, NC<br>date=%{x}<br>% of New Listings from New Construction=%{y}<extra></extra>",
         "legendgroup": "Winston, NC",
         "line": {
          "color": "lightblue",
          "dash": "dash",
          "width": 2
         },
         "marker": {
          "symbol": "circle"
         },
         "mode": "lines",
         "name": "Winston, NC",
         "opacity": 0.8,
         "showlegend": true,
         "type": "scattergl",
         "x": [
          "2024-05-01T00:00:00",
          "2024-04-01T00:00:00",
          "2024-03-01T00:00:00",
          "2024-02-01T00:00:00",
          "2024-01-01T00:00:00",
          "2023-12-01T00:00:00",
          "2023-11-01T00:00:00",
          "2023-10-01T00:00:00",
          "2023-09-01T00:00:00",
          "2023-08-01T00:00:00",
          "2023-07-01T00:00:00",
          "2023-06-01T00:00:00",
          "2023-05-01T00:00:00",
          "2023-04-01T00:00:00",
          "2023-03-01T00:00:00",
          "2023-02-01T00:00:00",
          "2023-01-01T00:00:00",
          "2022-12-01T00:00:00",
          "2022-11-01T00:00:00",
          "2022-10-01T00:00:00",
          "2022-09-01T00:00:00"
         ],
         "xaxis": "x",
         "y": [
          0.045454545454545456,
          0.06206896551724138,
          0.09933774834437085,
          0.08695652173913043,
          0.05555555555555555,
          0.15841584158415842,
          0.125,
          0.12269938650306748,
          0.09302325581395349,
          0.08904109589041095,
          0.07317073170731707,
          0.19337016574585636,
          0.14035087719298245,
          0.16822429906542055,
          0.19607843137254902,
          0.25806451612903225,
          0.20512820512820512,
          0.4,
          0.40476190476190477,
          0.1774193548387097,
          0.35526315789473684
         ],
         "yaxis": "y"
        },
        {
         "hovertemplate": "clean_name=Provo, UT<br>date=%{x}<br>% of New Listings from New Construction=%{y}<extra></extra>",
         "legendgroup": "Provo, UT",
         "line": {
          "color": "lightblue",
          "dash": "dash",
          "width": 2
         },
         "marker": {
          "symbol": "circle"
         },
         "mode": "lines",
         "name": "Provo, UT",
         "opacity": 0.8,
         "showlegend": true,
         "type": "scattergl",
         "x": [
          "2024-05-01T00:00:00",
          "2024-04-01T00:00:00",
          "2024-03-01T00:00:00",
          "2024-02-01T00:00:00",
          "2024-01-01T00:00:00",
          "2023-12-01T00:00:00",
          "2023-11-01T00:00:00",
          "2023-10-01T00:00:00",
          "2023-09-01T00:00:00",
          "2023-08-01T00:00:00",
          "2023-07-01T00:00:00",
          "2023-06-01T00:00:00",
          "2023-05-01T00:00:00",
          "2023-04-01T00:00:00",
          "2023-03-01T00:00:00",
          "2023-02-01T00:00:00",
          "2023-01-01T00:00:00",
          "2022-12-01T00:00:00",
          "2022-11-01T00:00:00",
          "2022-10-01T00:00:00",
          "2022-09-01T00:00:00"
         ],
         "xaxis": "x",
         "y": [
          0.14992272024729522,
          0.137429264349232,
          0.14973730297723292,
          0.19185423365487675,
          0.1628415300546448,
          0.18769230769230769,
          0.1843191196698762,
          0.12472160356347439,
          0.13771839671120248,
          0.13832599118942732,
          0.14129443938012762,
          0.14109926168990977,
          0.17388114453411593,
          0.20103986135181975,
          0.24842484248424843,
          0.3238095238095238,
          0.3323572474377745,
          0.38023952095808383,
          0.42894736842105263,
          0.324468085106383,
          0.34502923976608185
         ],
         "yaxis": "y"
        },
        {
         "hovertemplate": "clean_name=Deltona, FL<br>date=%{x}<br>% of New Listings from New Construction=%{y}<extra></extra>",
         "legendgroup": "Deltona, FL",
         "line": {
          "color": "lightblue",
          "dash": "dash",
          "width": 2
         },
         "marker": {
          "symbol": "circle"
         },
         "mode": "lines",
         "name": "Deltona, FL",
         "opacity": 0.8,
         "showlegend": true,
         "type": "scattergl",
         "x": [
          "2024-05-01T00:00:00",
          "2024-04-01T00:00:00",
          "2024-03-01T00:00:00",
          "2024-02-01T00:00:00",
          "2024-01-01T00:00:00",
          "2023-12-01T00:00:00",
          "2023-11-01T00:00:00",
          "2023-10-01T00:00:00",
          "2023-09-01T00:00:00",
          "2023-08-01T00:00:00",
          "2023-07-01T00:00:00",
          "2023-06-01T00:00:00",
          "2023-05-01T00:00:00",
          "2023-04-01T00:00:00",
          "2023-03-01T00:00:00",
          "2023-02-01T00:00:00",
          "2023-01-01T00:00:00",
          "2022-12-01T00:00:00",
          "2022-11-01T00:00:00",
          "2022-10-01T00:00:00",
          "2022-09-01T00:00:00"
         ],
         "xaxis": "x",
         "y": [
          0.05012098167991704,
          0.050774810418727334,
          0.056218057921635436,
          0.059244126659857,
          0.07081471295978,
          0.07435344827586207,
          0.07470049330514447,
          0.09362549800796813,
          0.085680285600952,
          0.09268113276940051,
          0.09191629052113254,
          0.08524590163934426,
          0.07738944365192582,
          0.07873134328358208,
          0.08200777659950513,
          0.06850961538461539,
          0.0784030784030784,
          0.0918918918918919,
          0.08403361344537816,
          0.10265811182401467,
          0.16175156389633602
         ],
         "yaxis": "y"
        },
        {
         "hovertemplate": "clean_name=Syracuse, NY<br>date=%{x}<br>% of New Listings from New Construction=%{y}<extra></extra>",
         "legendgroup": "Syracuse, NY",
         "line": {
          "color": "lightblue",
          "dash": "dash",
          "width": 2
         },
         "marker": {
          "symbol": "circle"
         },
         "mode": "lines",
         "name": "Syracuse, NY",
         "opacity": 0.8,
         "showlegend": true,
         "type": "scattergl",
         "x": [
          "2024-05-01T00:00:00",
          "2024-04-01T00:00:00",
          "2024-03-01T00:00:00",
          "2024-02-01T00:00:00",
          "2024-01-01T00:00:00",
          "2023-12-01T00:00:00",
          "2023-11-01T00:00:00",
          "2023-10-01T00:00:00",
          "2023-09-01T00:00:00",
          "2023-08-01T00:00:00",
          "2023-07-01T00:00:00",
          "2023-06-01T00:00:00",
          "2023-05-01T00:00:00",
          "2023-04-01T00:00:00",
          "2023-03-01T00:00:00",
          "2023-02-01T00:00:00",
          "2023-01-01T00:00:00",
          "2022-12-01T00:00:00",
          "2022-11-01T00:00:00",
          "2022-10-01T00:00:00",
          "2022-09-01T00:00:00"
         ],
         "xaxis": "x",
         "y": [
          0.03528114663726571,
          0.04516129032258064,
          0.0464,
          0.04468085106382979,
          0.041304347826086954,
          0.04201680672268908,
          0.03368794326241135,
          0.030165912518853696,
          0.04190751445086705,
          0.03800475059382423,
          0.03713188220230474,
          0.033936651583710405,
          0.05082592121982211,
          0.03955696202531646,
          0.07165109034267912,
          0.0430622009569378,
          0.05573770491803279,
          0.07471264367816093,
          0.07853403141361257,
          0.06167400881057269,
          0.09937888198757763
         ],
         "yaxis": "y"
        },
        {
         "hovertemplate": "clean_name=Durham, NC<br>date=%{x}<br>% of New Listings from New Construction=%{y}<extra></extra>",
         "legendgroup": "Durham, NC",
         "line": {
          "color": "lightblue",
          "dash": "dash",
          "width": 2
         },
         "marker": {
          "symbol": "circle"
         },
         "mode": "lines",
         "name": "Durham, NC",
         "opacity": 0.8,
         "showlegend": true,
         "type": "scattergl",
         "x": [
          "2024-05-01T00:00:00",
          "2024-04-01T00:00:00",
          "2024-03-01T00:00:00",
          "2024-02-01T00:00:00",
          "2024-01-01T00:00:00",
          "2023-12-01T00:00:00",
          "2023-11-01T00:00:00",
          "2023-10-01T00:00:00",
          "2023-09-01T00:00:00",
          "2023-08-01T00:00:00",
          "2023-07-01T00:00:00",
          "2023-06-01T00:00:00",
          "2023-05-01T00:00:00",
          "2023-04-01T00:00:00",
          "2023-03-01T00:00:00",
          "2023-02-01T00:00:00",
          "2023-01-01T00:00:00",
          "2022-12-01T00:00:00",
          "2022-11-01T00:00:00",
          "2022-10-01T00:00:00",
          "2022-09-01T00:00:00"
         ],
         "xaxis": "x",
         "y": [
          0.09953051643192488,
          0.0918580375782881,
          0.0912906610703043,
          0.11676300578034682,
          0.11502029769959404,
          0.111358574610245,
          0.11070780399274047,
          0.08641975308641975,
          0.07788944723618091,
          0.10348977135980746,
          0.1045828437132785,
          0.1384297520661157,
          0.14793467819404418,
          0.1791497975708502,
          0.16435643564356436,
          0.2106631989596879,
          0.20540540540540542,
          0.21574344023323616,
          0.24745762711864408,
          0.20604395604395603,
          0.20056497175141244
         ],
         "yaxis": "y"
        },
        {
         "hovertemplate": "clean_name=Wichita, KS<br>date=%{x}<br>% of New Listings from New Construction=%{y}<extra></extra>",
         "legendgroup": "Wichita, KS",
         "line": {
          "color": "lightblue",
          "dash": "dash",
          "width": 2
         },
         "marker": {
          "symbol": "circle"
         },
         "mode": "lines",
         "name": "Wichita, KS",
         "opacity": 0.8,
         "showlegend": true,
         "type": "scattergl",
         "x": [
          "2024-05-01T00:00:00",
          "2024-04-01T00:00:00",
          "2024-03-01T00:00:00",
          "2024-02-01T00:00:00",
          "2024-01-01T00:00:00",
          "2023-12-01T00:00:00",
          "2023-11-01T00:00:00",
          "2023-10-01T00:00:00",
          "2023-09-01T00:00:00",
          "2023-08-01T00:00:00",
          "2023-07-01T00:00:00",
          "2023-06-01T00:00:00",
          "2023-05-01T00:00:00",
          "2023-04-01T00:00:00",
          "2023-03-01T00:00:00",
          "2023-02-01T00:00:00",
          "2023-01-01T00:00:00",
          "2022-12-01T00:00:00",
          "2022-11-01T00:00:00",
          "2022-10-01T00:00:00",
          "2022-09-01T00:00:00"
         ],
         "xaxis": "x",
         "y": [
          0.09731876861966236,
          0.08605341246290801,
          0.09014675052410902,
          0.07810499359795134,
          0.07740916271721959,
          0.057494866529774126,
          0.07923497267759563,
          0.07852193995381063,
          0.0839080459770115,
          0.07824427480916031,
          0.0853413654618474,
          0.059192825112107626,
          0.09110867178924259,
          0.09497816593886463,
          0.09312638580931264,
          0.10463121783876501,
          0.1642512077294686,
          0.1870967741935484,
          0.16666666666666666,
          0.28110599078341014,
          0.23353293413173654
         ],
         "yaxis": "y"
        },
        {
         "hovertemplate": "clean_name=Toledo, OH<br>date=%{x}<br>% of New Listings from New Construction=%{y}<extra></extra>",
         "legendgroup": "Toledo, OH",
         "line": {
          "color": "lightblue",
          "dash": "dash",
          "width": 2
         },
         "marker": {
          "symbol": "circle"
         },
         "mode": "lines",
         "name": "Toledo, OH",
         "opacity": 0.8,
         "showlegend": true,
         "type": "scattergl",
         "x": [
          "2024-05-01T00:00:00",
          "2024-04-01T00:00:00",
          "2024-03-01T00:00:00",
          "2024-02-01T00:00:00",
          "2024-01-01T00:00:00",
          "2023-12-01T00:00:00",
          "2023-11-01T00:00:00",
          "2023-10-01T00:00:00",
          "2023-09-01T00:00:00",
          "2023-08-01T00:00:00",
          "2023-07-01T00:00:00",
          "2023-06-01T00:00:00",
          "2023-05-01T00:00:00",
          "2023-04-01T00:00:00",
          "2023-03-01T00:00:00",
          "2023-02-01T00:00:00",
          "2023-01-01T00:00:00",
          "2022-12-01T00:00:00",
          "2022-11-01T00:00:00",
          "2022-10-01T00:00:00",
          "2022-09-01T00:00:00"
         ],
         "xaxis": "x",
         "y": [
          0.02574257425742574,
          0.024727992087042534,
          0.02097902097902098,
          0.04794520547945205,
          0.044630404463040445,
          0.028862478777589132,
          0.02972972972972973,
          0.029896907216494847,
          0.03556485355648536,
          0.015482695810564663,
          0.019569471624266144,
          0.02276707530647986,
          0.03871499176276771,
          0.034658511722731905,
          0.030405405405405407,
          0.08433734939759036,
          0.05491990846681922,
          0.05527638190954774,
          0.04504504504504504,
          0.06097560975609756,
          0.0821917808219178
         ],
         "yaxis": "y"
        },
        {
         "hovertemplate": "clean_name=Augusta, GA<br>date=%{x}<br>% of New Listings from New Construction=%{y}<extra></extra>",
         "legendgroup": "Augusta, GA",
         "line": {
          "color": "lightblue",
          "dash": "dash",
          "width": 2
         },
         "marker": {
          "symbol": "circle"
         },
         "mode": "lines",
         "name": "Augusta, GA",
         "opacity": 0.8,
         "showlegend": true,
         "type": "scattergl",
         "x": [
          "2024-05-01T00:00:00",
          "2024-04-01T00:00:00",
          "2024-03-01T00:00:00",
          "2024-02-01T00:00:00",
          "2024-01-01T00:00:00",
          "2023-12-01T00:00:00",
          "2023-11-01T00:00:00",
          "2023-10-01T00:00:00",
          "2023-09-01T00:00:00",
          "2023-08-01T00:00:00",
          "2023-07-01T00:00:00",
          "2023-06-01T00:00:00",
          "2023-05-01T00:00:00",
          "2023-04-01T00:00:00",
          "2023-03-01T00:00:00",
          "2023-02-01T00:00:00",
          "2023-01-01T00:00:00",
          "2022-12-01T00:00:00",
          "2022-11-01T00:00:00",
          "2022-10-01T00:00:00",
          "2022-09-01T00:00:00"
         ],
         "xaxis": "x",
         "y": [
          0.14436334144363341,
          0.09663120567375887,
          0.12805872756933115,
          0.13102119460500963,
          0.10897435897435898,
          0.11392405063291139,
          0.11358024691358025,
          0.10840932117527863,
          0.09889001009081735,
          0.11691762621789194,
          0.11261261261261261,
          0.17005813953488372,
          0.13707165109034267,
          0.1837270341207349,
          0.13100081366965013,
          0.11363636363636363,
          0.1674565560821485,
          0.2254335260115607,
          0.21683673469387754,
          0.21153846153846154,
          0.28169014084507044
         ],
         "yaxis": "y"
        },
        {
         "hovertemplate": "clean_name=Palm Bay, FL<br>date=%{x}<br>% of New Listings from New Construction=%{y}<extra></extra>",
         "legendgroup": "Palm Bay, FL",
         "line": {
          "color": "lightblue",
          "dash": "dash",
          "width": 2
         },
         "marker": {
          "symbol": "circle"
         },
         "mode": "lines",
         "name": "Palm Bay, FL",
         "opacity": 0.8,
         "showlegend": true,
         "type": "scattergl",
         "x": [
          "2024-05-01T00:00:00",
          "2024-04-01T00:00:00",
          "2024-03-01T00:00:00",
          "2024-02-01T00:00:00",
          "2024-01-01T00:00:00",
          "2023-12-01T00:00:00",
          "2023-11-01T00:00:00",
          "2023-10-01T00:00:00",
          "2023-09-01T00:00:00",
          "2023-08-01T00:00:00",
          "2023-07-01T00:00:00",
          "2023-06-01T00:00:00",
          "2023-05-01T00:00:00",
          "2023-04-01T00:00:00",
          "2023-03-01T00:00:00",
          "2023-02-01T00:00:00",
          "2023-01-01T00:00:00",
          "2022-12-01T00:00:00",
          "2022-11-01T00:00:00",
          "2022-10-01T00:00:00",
          "2022-09-01T00:00:00"
         ],
         "xaxis": "x",
         "y": [
          0.0538497874350496,
          0.05587840858292356,
          0.06272241992882563,
          0.04963144963144963,
          0.061390157280568236,
          0.07827359180687637,
          0.07845433255269321,
          0.10878447395301327,
          0.10437881873727088,
          0.09394904458598727,
          0.07000538502961766,
          0.0797675647120972,
          0.07272727272727272,
          0.07929969104016478,
          0.06418121755545068,
          0.057367149758454104,
          0.07697594501718213,
          0.0752797558494405,
          0.09079601990049752,
          0.08756345177664974,
          0.07120743034055728
         ],
         "yaxis": "y"
        },
        {
         "hovertemplate": "clean_name=Harrisburg, PA<br>date=%{x}<br>% of New Listings from New Construction=%{y}<extra></extra>",
         "legendgroup": "Harrisburg, PA",
         "line": {
          "color": "lightblue",
          "dash": "dash",
          "width": 2
         },
         "marker": {
          "symbol": "circle"
         },
         "mode": "lines",
         "name": "Harrisburg, PA",
         "opacity": 0.8,
         "showlegend": true,
         "type": "scattergl",
         "x": [
          "2024-05-01T00:00:00",
          "2024-04-01T00:00:00",
          "2024-03-01T00:00:00",
          "2024-02-01T00:00:00",
          "2024-01-01T00:00:00",
          "2023-12-01T00:00:00",
          "2023-11-01T00:00:00",
          "2023-10-01T00:00:00",
          "2023-09-01T00:00:00",
          "2023-08-01T00:00:00",
          "2023-07-01T00:00:00",
          "2023-06-01T00:00:00",
          "2023-05-01T00:00:00",
          "2023-04-01T00:00:00",
          "2023-03-01T00:00:00",
          "2023-02-01T00:00:00",
          "2023-01-01T00:00:00",
          "2022-12-01T00:00:00",
          "2022-11-01T00:00:00",
          "2022-10-01T00:00:00",
          "2022-09-01T00:00:00"
         ],
         "xaxis": "x",
         "y": [
          0.05200945626477541,
          0.05042016806722689,
          0.043668122270742356,
          0.06272401433691756,
          0.04725897920604915,
          0.06601466992665037,
          0.056218057921635436,
          0.05652173913043478,
          0.05,
          0.053475935828877004,
          0.06542056074766354,
          0.08051948051948052,
          0.07219251336898395,
          0.07022900763358779,
          0.06210191082802548,
          0.08163265306122448,
          0.1625441696113074,
          0.17682926829268292,
          0.09497206703910614,
          0.17647058823529413,
          0.1323529411764706
         ],
         "yaxis": "y"
        },
        {
         "hovertemplate": "clean_name=Jackson, MS<br>date=%{x}<br>% of New Listings from New Construction=%{y}<extra></extra>",
         "legendgroup": "Jackson, MS",
         "line": {
          "color": "lightblue",
          "dash": "dash",
          "width": 2
         },
         "marker": {
          "symbol": "circle"
         },
         "mode": "lines",
         "name": "Jackson, MS",
         "opacity": 0.8,
         "showlegend": true,
         "type": "scattergl",
         "x": [
          "2024-05-01T00:00:00",
          "2024-04-01T00:00:00",
          "2024-03-01T00:00:00",
          "2024-02-01T00:00:00",
          "2024-01-01T00:00:00",
          "2023-12-01T00:00:00",
          "2023-11-01T00:00:00",
          "2023-10-01T00:00:00",
          "2023-09-01T00:00:00",
          "2023-08-01T00:00:00",
          "2023-07-01T00:00:00",
          "2023-06-01T00:00:00",
          "2023-05-01T00:00:00",
          "2023-04-01T00:00:00",
          "2023-03-01T00:00:00",
          "2023-02-01T00:00:00",
          "2023-01-01T00:00:00",
          "2022-12-01T00:00:00",
          "2022-11-01T00:00:00",
          "2022-10-01T00:00:00",
          "2022-09-01T00:00:00"
         ],
         "xaxis": "x",
         "y": [
          0.07412060301507538,
          0.08415841584158416,
          0.05319148936170213,
          0.06573426573426573,
          0.08981001727115717,
          0.09355509355509356,
          0.05823627287853577,
          0.05646359583952452,
          0.06998654104979811,
          0.05053191489361702,
          0.07204968944099378,
          0.07454128440366972,
          0.06896551724137931,
          0.055793991416309016,
          0.0735930735930736,
          0.064891846921797,
          0.10893246187363835,
          0.12916666666666668,
          0.1659919028340081,
          0.21673003802281368,
          0.15021459227467812
         ],
         "yaxis": "y"
        },
        {
         "hovertemplate": "clean_name=Spokane, WA<br>date=%{x}<br>% of New Listings from New Construction=%{y}<extra></extra>",
         "legendgroup": "Spokane, WA",
         "line": {
          "color": "lightblue",
          "dash": "dash",
          "width": 2
         },
         "marker": {
          "symbol": "circle"
         },
         "mode": "lines",
         "name": "Spokane, WA",
         "opacity": 0.8,
         "showlegend": true,
         "type": "scattergl",
         "x": [
          "2024-05-01T00:00:00",
          "2024-04-01T00:00:00",
          "2024-03-01T00:00:00",
          "2024-02-01T00:00:00",
          "2024-01-01T00:00:00",
          "2023-12-01T00:00:00",
          "2023-11-01T00:00:00",
          "2023-10-01T00:00:00",
          "2023-09-01T00:00:00",
          "2023-08-01T00:00:00",
          "2023-07-01T00:00:00",
          "2023-06-01T00:00:00",
          "2023-05-01T00:00:00",
          "2023-04-01T00:00:00",
          "2023-03-01T00:00:00",
          "2023-02-01T00:00:00",
          "2023-01-01T00:00:00",
          "2022-12-01T00:00:00",
          "2022-11-01T00:00:00",
          "2022-10-01T00:00:00",
          "2022-09-01T00:00:00"
         ],
         "xaxis": "x",
         "y": [
          0.05845511482254697,
          0.0653386454183267,
          0.06578947368421052,
          0.0547945205479452,
          0.0589622641509434,
          0.05845511482254697,
          0.0392156862745098,
          0.04153686396677051,
          0.038593481989708404,
          0.04180327868852459,
          0.04051863857374392,
          0.0440028388928318,
          0.05102040816326531,
          0.06159420289855073,
          0.08726178535606821,
          0.09225700164744646,
          0.11937377690802348,
          0.1507537688442211,
          0.12186379928315412,
          0.10122699386503067,
          0.10294117647058823
         ],
         "yaxis": "y"
        },
        {
         "hovertemplate": "clean_name=Scranton, PA<br>date=%{x}<br>% of New Listings from New Construction=%{y}<extra></extra>",
         "legendgroup": "Scranton, PA",
         "line": {
          "color": "lightblue",
          "dash": "dash",
          "width": 2
         },
         "marker": {
          "symbol": "circle"
         },
         "mode": "lines",
         "name": "Scranton, PA",
         "opacity": 0.8,
         "showlegend": true,
         "type": "scattergl",
         "x": [
          "2024-05-01T00:00:00",
          "2024-04-01T00:00:00",
          "2024-03-01T00:00:00",
          "2024-02-01T00:00:00",
          "2024-01-01T00:00:00",
          "2023-12-01T00:00:00",
          "2023-11-01T00:00:00",
          "2023-10-01T00:00:00",
          "2023-09-01T00:00:00",
          "2023-08-01T00:00:00",
          "2023-07-01T00:00:00",
          "2023-06-01T00:00:00",
          "2023-05-01T00:00:00",
          "2023-04-01T00:00:00",
          "2023-03-01T00:00:00",
          "2023-02-01T00:00:00",
          "2023-01-01T00:00:00",
          "2022-12-01T00:00:00",
          "2022-11-01T00:00:00",
          "2022-10-01T00:00:00",
          "2022-09-01T00:00:00"
         ],
         "xaxis": "x",
         "y": [
          0.06812339331619537,
          0.08633093525179857,
          0.0713224368499257,
          0.10969793322734499,
          0.07212475633528265,
          0.035256410256410256,
          0.07269789983844911,
          0.06887052341597796,
          0.07372654155495978,
          0.07974683544303797,
          0.08827085852478839,
          0.06735751295336788,
          0.07692307692307693,
          0.08783783783783784,
          0.06040268456375839,
          0.09563409563409564,
          0.07046979865771812,
          0.06060606060606061,
          0.09722222222222222,
          0.08450704225352113,
          0.10465116279069768
         ],
         "yaxis": "y"
        },
        {
         "hovertemplate": "clean_name=USA<br>date=%{x}<br>% of New Listings from New Construction=%{y}<extra></extra>",
         "legendgroup": "USA",
         "line": {
          "color": "red",
          "dash": "solid",
          "width": 4
         },
         "marker": {
          "symbol": "circle"
         },
         "mode": "lines",
         "name": "USA",
         "opacity": 1,
         "showlegend": true,
         "type": "scattergl",
         "x": [
          "2024-05-01T00:00:00",
          "2024-04-01T00:00:00",
          "2024-03-01T00:00:00",
          "2024-02-01T00:00:00",
          "2024-01-01T00:00:00",
          "2023-12-01T00:00:00",
          "2023-11-01T00:00:00",
          "2023-10-01T00:00:00",
          "2023-09-01T00:00:00",
          "2023-08-01T00:00:00",
          "2023-07-01T00:00:00",
          "2023-06-01T00:00:00",
          "2023-05-01T00:00:00",
          "2023-04-01T00:00:00",
          "2023-03-01T00:00:00",
          "2023-02-01T00:00:00",
          "2023-01-01T00:00:00",
          "2022-12-01T00:00:00",
          "2022-11-01T00:00:00",
          "2022-10-01T00:00:00",
          "2022-09-01T00:00:00"
         ],
         "xaxis": "x",
         "y": [
          0.07027976753615353,
          0.06921082549461764,
          0.0725873348616168,
          0.07903559897304473,
          0.08552691044581254,
          0.0869893331398302,
          0.08108252318396704,
          0.07923251113978913,
          0.07673397793158272,
          0.07698970397172435,
          0.07588716829947091,
          0.08514217377835731,
          0.09305207311312184,
          0.09698913759663903,
          0.10504504724765595,
          0.11564288889007888,
          0.13217376460510954,
          0.1411636540859768,
          0.13026793054143243,
          0.12603121423714195,
          0.11604893789842637
         ],
         "yaxis": "y"
        }
       ],
       "layout": {
        "annotations": [
         {
          "font": {
           "size": 12
          },
          "showarrow": false,
          "text": "New York, NY",
          "x": "2024-05-01T00:00:00",
          "xanchor": "left",
          "xref": "x",
          "y": 0.05747593872848041,
          "yref": "y"
         },
         {
          "font": {
           "size": 12
          },
          "showarrow": false,
          "text": "Los Angeles, CA",
          "x": "2024-05-01T00:00:00",
          "xanchor": "left",
          "xref": "x",
          "y": 0.029453602209020165,
          "yref": "y"
         },
         {
          "font": {
           "size": 12
          },
          "showarrow": false,
          "text": "Dallas, TX",
          "x": "2024-05-01T00:00:00",
          "xanchor": "left",
          "xref": "x",
          "y": 0.12314724126673196,
          "yref": "y"
         },
         {
          "font": {
           "size": 12
          },
          "showarrow": false,
          "text": "Houston, TX",
          "x": "2024-05-01T00:00:00",
          "xanchor": "left",
          "xref": "x",
          "y": 0.1454339723109691,
          "yref": "y"
         },
         {
          "font": {
           "size": 12
          },
          "showarrow": false,
          "text": "Washington, DC",
          "x": "2024-05-01T00:00:00",
          "xanchor": "left",
          "xref": "x",
          "y": 0.046132008516678494,
          "yref": "y"
         },
         {
          "font": {
           "size": 12
          },
          "showarrow": false,
          "text": "Miami, FL",
          "x": "2024-05-01T00:00:00",
          "xanchor": "left",
          "xref": "x",
          "y": 0.019400467168440176,
          "yref": "y"
         },
         {
          "font": {
           "size": 12
          },
          "showarrow": false,
          "text": "Atlanta, GA",
          "x": "2024-05-01T00:00:00",
          "xanchor": "left",
          "xref": "x",
          "y": 0.06857697186777106,
          "yref": "y"
         },
         {
          "font": {
           "size": 12
          },
          "showarrow": false,
          "text": "Boston, MA",
          "x": "2024-05-01T00:00:00",
          "xanchor": "left",
          "xref": "x",
          "y": 0.0915246322671025,
          "yref": "y"
         },
         {
          "font": {
           "size": 12
          },
          "showarrow": false,
          "text": "Phoenix, AZ",
          "x": "2024-05-01T00:00:00",
          "xanchor": "left",
          "xref": "x",
          "y": 0.07896305125148986,
          "yref": "y"
         },
         {
          "font": {
           "size": 12
          },
          "showarrow": false,
          "text": "Charlotte, NC",
          "x": "2024-05-01T00:00:00",
          "xanchor": "left",
          "xref": "x",
          "y": 0.10232290266845843,
          "yref": "y"
         },
         {
          "font": {
           "size": 12
          },
          "showarrow": false,
          "text": "Nashville, TN",
          "x": "2024-05-01T00:00:00",
          "xanchor": "left",
          "xref": "x",
          "y": 0.15850467289719627,
          "yref": "y"
         },
         {
          "font": {
           "size": 12
          },
          "showarrow": false,
          "text": "Jacksonville, FL",
          "x": "2024-05-01T00:00:00",
          "xanchor": "left",
          "xref": "x",
          "y": 0.13525641025641025,
          "yref": "y"
         },
         {
          "font": {
           "size": 12
          },
          "showarrow": false,
          "text": "Mcallen, TX",
          "x": "2024-05-01T00:00:00",
          "xanchor": "left",
          "xref": "x",
          "y": 0.18475750577367206,
          "yref": "y"
         }
        ],
        "font": {
         "color": "#ffffff"
        },
        "height": 800,
        "images": [
         {
          "sizex": 0.15,
          "sizey": 0.15,
          "source": "https://parcllabs-assets.s3.amazonaws.com/powered-by-parcllabs-api-logo-white+(1).svg",
          "x": 1,
          "xanchor": "right",
          "xref": "paper",
          "y": 0,
          "yanchor": "bottom",
          "yref": "paper"
         }
        ],
        "legend": {
         "title": {
          "text": "clean_name"
         },
         "tracegroupgap": 0
        },
        "margin": {
         "b": 40,
         "l": 40,
         "r": 40,
         "t": 80
        },
        "paper_bgcolor": "#1e1e1e",
        "plot_bgcolor": "#1e1e1e",
        "showlegend": false,
        "template": {
         "data": {
          "bar": [
           {
            "error_x": {
             "color": "#2a3f5f"
            },
            "error_y": {
             "color": "#2a3f5f"
            },
            "marker": {
             "line": {
              "color": "#E5ECF6",
              "width": 0.5
             },
             "pattern": {
              "fillmode": "overlay",
              "size": 10,
              "solidity": 0.2
             }
            },
            "type": "bar"
           }
          ],
          "barpolar": [
           {
            "marker": {
             "line": {
              "color": "#E5ECF6",
              "width": 0.5
             },
             "pattern": {
              "fillmode": "overlay",
              "size": 10,
              "solidity": 0.2
             }
            },
            "type": "barpolar"
           }
          ],
          "carpet": [
           {
            "aaxis": {
             "endlinecolor": "#2a3f5f",
             "gridcolor": "white",
             "linecolor": "white",
             "minorgridcolor": "white",
             "startlinecolor": "#2a3f5f"
            },
            "baxis": {
             "endlinecolor": "#2a3f5f",
             "gridcolor": "white",
             "linecolor": "white",
             "minorgridcolor": "white",
             "startlinecolor": "#2a3f5f"
            },
            "type": "carpet"
           }
          ],
          "choropleth": [
           {
            "colorbar": {
             "outlinewidth": 0,
             "ticks": ""
            },
            "type": "choropleth"
           }
          ],
          "contour": [
           {
            "colorbar": {
             "outlinewidth": 0,
             "ticks": ""
            },
            "colorscale": [
             [
              0,
              "#0d0887"
             ],
             [
              0.1111111111111111,
              "#46039f"
             ],
             [
              0.2222222222222222,
              "#7201a8"
             ],
             [
              0.3333333333333333,
              "#9c179e"
             ],
             [
              0.4444444444444444,
              "#bd3786"
             ],
             [
              0.5555555555555556,
              "#d8576b"
             ],
             [
              0.6666666666666666,
              "#ed7953"
             ],
             [
              0.7777777777777778,
              "#fb9f3a"
             ],
             [
              0.8888888888888888,
              "#fdca26"
             ],
             [
              1,
              "#f0f921"
             ]
            ],
            "type": "contour"
           }
          ],
          "contourcarpet": [
           {
            "colorbar": {
             "outlinewidth": 0,
             "ticks": ""
            },
            "type": "contourcarpet"
           }
          ],
          "heatmap": [
           {
            "colorbar": {
             "outlinewidth": 0,
             "ticks": ""
            },
            "colorscale": [
             [
              0,
              "#0d0887"
             ],
             [
              0.1111111111111111,
              "#46039f"
             ],
             [
              0.2222222222222222,
              "#7201a8"
             ],
             [
              0.3333333333333333,
              "#9c179e"
             ],
             [
              0.4444444444444444,
              "#bd3786"
             ],
             [
              0.5555555555555556,
              "#d8576b"
             ],
             [
              0.6666666666666666,
              "#ed7953"
             ],
             [
              0.7777777777777778,
              "#fb9f3a"
             ],
             [
              0.8888888888888888,
              "#fdca26"
             ],
             [
              1,
              "#f0f921"
             ]
            ],
            "type": "heatmap"
           }
          ],
          "heatmapgl": [
           {
            "colorbar": {
             "outlinewidth": 0,
             "ticks": ""
            },
            "colorscale": [
             [
              0,
              "#0d0887"
             ],
             [
              0.1111111111111111,
              "#46039f"
             ],
             [
              0.2222222222222222,
              "#7201a8"
             ],
             [
              0.3333333333333333,
              "#9c179e"
             ],
             [
              0.4444444444444444,
              "#bd3786"
             ],
             [
              0.5555555555555556,
              "#d8576b"
             ],
             [
              0.6666666666666666,
              "#ed7953"
             ],
             [
              0.7777777777777778,
              "#fb9f3a"
             ],
             [
              0.8888888888888888,
              "#fdca26"
             ],
             [
              1,
              "#f0f921"
             ]
            ],
            "type": "heatmapgl"
           }
          ],
          "histogram": [
           {
            "marker": {
             "pattern": {
              "fillmode": "overlay",
              "size": 10,
              "solidity": 0.2
             }
            },
            "type": "histogram"
           }
          ],
          "histogram2d": [
           {
            "colorbar": {
             "outlinewidth": 0,
             "ticks": ""
            },
            "colorscale": [
             [
              0,
              "#0d0887"
             ],
             [
              0.1111111111111111,
              "#46039f"
             ],
             [
              0.2222222222222222,
              "#7201a8"
             ],
             [
              0.3333333333333333,
              "#9c179e"
             ],
             [
              0.4444444444444444,
              "#bd3786"
             ],
             [
              0.5555555555555556,
              "#d8576b"
             ],
             [
              0.6666666666666666,
              "#ed7953"
             ],
             [
              0.7777777777777778,
              "#fb9f3a"
             ],
             [
              0.8888888888888888,
              "#fdca26"
             ],
             [
              1,
              "#f0f921"
             ]
            ],
            "type": "histogram2d"
           }
          ],
          "histogram2dcontour": [
           {
            "colorbar": {
             "outlinewidth": 0,
             "ticks": ""
            },
            "colorscale": [
             [
              0,
              "#0d0887"
             ],
             [
              0.1111111111111111,
              "#46039f"
             ],
             [
              0.2222222222222222,
              "#7201a8"
             ],
             [
              0.3333333333333333,
              "#9c179e"
             ],
             [
              0.4444444444444444,
              "#bd3786"
             ],
             [
              0.5555555555555556,
              "#d8576b"
             ],
             [
              0.6666666666666666,
              "#ed7953"
             ],
             [
              0.7777777777777778,
              "#fb9f3a"
             ],
             [
              0.8888888888888888,
              "#fdca26"
             ],
             [
              1,
              "#f0f921"
             ]
            ],
            "type": "histogram2dcontour"
           }
          ],
          "mesh3d": [
           {
            "colorbar": {
             "outlinewidth": 0,
             "ticks": ""
            },
            "type": "mesh3d"
           }
          ],
          "parcoords": [
           {
            "line": {
             "colorbar": {
              "outlinewidth": 0,
              "ticks": ""
             }
            },
            "type": "parcoords"
           }
          ],
          "pie": [
           {
            "automargin": true,
            "type": "pie"
           }
          ],
          "scatter": [
           {
            "fillpattern": {
             "fillmode": "overlay",
             "size": 10,
             "solidity": 0.2
            },
            "type": "scatter"
           }
          ],
          "scatter3d": [
           {
            "line": {
             "colorbar": {
              "outlinewidth": 0,
              "ticks": ""
             }
            },
            "marker": {
             "colorbar": {
              "outlinewidth": 0,
              "ticks": ""
             }
            },
            "type": "scatter3d"
           }
          ],
          "scattercarpet": [
           {
            "marker": {
             "colorbar": {
              "outlinewidth": 0,
              "ticks": ""
             }
            },
            "type": "scattercarpet"
           }
          ],
          "scattergeo": [
           {
            "marker": {
             "colorbar": {
              "outlinewidth": 0,
              "ticks": ""
             }
            },
            "type": "scattergeo"
           }
          ],
          "scattergl": [
           {
            "marker": {
             "colorbar": {
              "outlinewidth": 0,
              "ticks": ""
             }
            },
            "type": "scattergl"
           }
          ],
          "scattermapbox": [
           {
            "marker": {
             "colorbar": {
              "outlinewidth": 0,
              "ticks": ""
             }
            },
            "type": "scattermapbox"
           }
          ],
          "scatterpolar": [
           {
            "marker": {
             "colorbar": {
              "outlinewidth": 0,
              "ticks": ""
             }
            },
            "type": "scatterpolar"
           }
          ],
          "scatterpolargl": [
           {
            "marker": {
             "colorbar": {
              "outlinewidth": 0,
              "ticks": ""
             }
            },
            "type": "scatterpolargl"
           }
          ],
          "scatterternary": [
           {
            "marker": {
             "colorbar": {
              "outlinewidth": 0,
              "ticks": ""
             }
            },
            "type": "scatterternary"
           }
          ],
          "surface": [
           {
            "colorbar": {
             "outlinewidth": 0,
             "ticks": ""
            },
            "colorscale": [
             [
              0,
              "#0d0887"
             ],
             [
              0.1111111111111111,
              "#46039f"
             ],
             [
              0.2222222222222222,
              "#7201a8"
             ],
             [
              0.3333333333333333,
              "#9c179e"
             ],
             [
              0.4444444444444444,
              "#bd3786"
             ],
             [
              0.5555555555555556,
              "#d8576b"
             ],
             [
              0.6666666666666666,
              "#ed7953"
             ],
             [
              0.7777777777777778,
              "#fb9f3a"
             ],
             [
              0.8888888888888888,
              "#fdca26"
             ],
             [
              1,
              "#f0f921"
             ]
            ],
            "type": "surface"
           }
          ],
          "table": [
           {
            "cells": {
             "fill": {
              "color": "#EBF0F8"
             },
             "line": {
              "color": "white"
             }
            },
            "header": {
             "fill": {
              "color": "#C8D4E3"
             },
             "line": {
              "color": "white"
             }
            },
            "type": "table"
           }
          ]
         },
         "layout": {
          "annotationdefaults": {
           "arrowcolor": "#2a3f5f",
           "arrowhead": 0,
           "arrowwidth": 1
          },
          "autotypenumbers": "strict",
          "coloraxis": {
           "colorbar": {
            "outlinewidth": 0,
            "ticks": ""
           }
          },
          "colorscale": {
           "diverging": [
            [
             0,
             "#8e0152"
            ],
            [
             0.1,
             "#c51b7d"
            ],
            [
             0.2,
             "#de77ae"
            ],
            [
             0.3,
             "#f1b6da"
            ],
            [
             0.4,
             "#fde0ef"
            ],
            [
             0.5,
             "#f7f7f7"
            ],
            [
             0.6,
             "#e6f5d0"
            ],
            [
             0.7,
             "#b8e186"
            ],
            [
             0.8,
             "#7fbc41"
            ],
            [
             0.9,
             "#4d9221"
            ],
            [
             1,
             "#276419"
            ]
           ],
           "sequential": [
            [
             0,
             "#0d0887"
            ],
            [
             0.1111111111111111,
             "#46039f"
            ],
            [
             0.2222222222222222,
             "#7201a8"
            ],
            [
             0.3333333333333333,
             "#9c179e"
            ],
            [
             0.4444444444444444,
             "#bd3786"
            ],
            [
             0.5555555555555556,
             "#d8576b"
            ],
            [
             0.6666666666666666,
             "#ed7953"
            ],
            [
             0.7777777777777778,
             "#fb9f3a"
            ],
            [
             0.8888888888888888,
             "#fdca26"
            ],
            [
             1,
             "#f0f921"
            ]
           ],
           "sequentialminus": [
            [
             0,
             "#0d0887"
            ],
            [
             0.1111111111111111,
             "#46039f"
            ],
            [
             0.2222222222222222,
             "#7201a8"
            ],
            [
             0.3333333333333333,
             "#9c179e"
            ],
            [
             0.4444444444444444,
             "#bd3786"
            ],
            [
             0.5555555555555556,
             "#d8576b"
            ],
            [
             0.6666666666666666,
             "#ed7953"
            ],
            [
             0.7777777777777778,
             "#fb9f3a"
            ],
            [
             0.8888888888888888,
             "#fdca26"
            ],
            [
             1,
             "#f0f921"
            ]
           ]
          },
          "colorway": [
           "#636efa",
           "#EF553B",
           "#00cc96",
           "#ab63fa",
           "#FFA15A",
           "#19d3f3",
           "#FF6692",
           "#B6E880",
           "#FF97FF",
           "#FECB52"
          ],
          "font": {
           "color": "#2a3f5f"
          },
          "geo": {
           "bgcolor": "white",
           "lakecolor": "white",
           "landcolor": "#E5ECF6",
           "showlakes": true,
           "showland": true,
           "subunitcolor": "white"
          },
          "hoverlabel": {
           "align": "left"
          },
          "hovermode": "closest",
          "mapbox": {
           "style": "light"
          },
          "paper_bgcolor": "white",
          "plot_bgcolor": "#E5ECF6",
          "polar": {
           "angularaxis": {
            "gridcolor": "white",
            "linecolor": "white",
            "ticks": ""
           },
           "bgcolor": "#E5ECF6",
           "radialaxis": {
            "gridcolor": "white",
            "linecolor": "white",
            "ticks": ""
           }
          },
          "scene": {
           "xaxis": {
            "backgroundcolor": "#E5ECF6",
            "gridcolor": "white",
            "gridwidth": 2,
            "linecolor": "white",
            "showbackground": true,
            "ticks": "",
            "zerolinecolor": "white"
           },
           "yaxis": {
            "backgroundcolor": "#E5ECF6",
            "gridcolor": "white",
            "gridwidth": 2,
            "linecolor": "white",
            "showbackground": true,
            "ticks": "",
            "zerolinecolor": "white"
           },
           "zaxis": {
            "backgroundcolor": "#E5ECF6",
            "gridcolor": "white",
            "gridwidth": 2,
            "linecolor": "white",
            "showbackground": true,
            "ticks": "",
            "zerolinecolor": "white"
           }
          },
          "shapedefaults": {
           "line": {
            "color": "#2a3f5f"
           }
          },
          "ternary": {
           "aaxis": {
            "gridcolor": "white",
            "linecolor": "white",
            "ticks": ""
           },
           "baxis": {
            "gridcolor": "white",
            "linecolor": "white",
            "ticks": ""
           },
           "bgcolor": "#E5ECF6",
           "caxis": {
            "gridcolor": "white",
            "linecolor": "white",
            "ticks": ""
           }
          },
          "title": {
           "x": 0.05
          },
          "xaxis": {
           "automargin": true,
           "gridcolor": "white",
           "linecolor": "white",
           "ticks": "",
           "title": {
            "standoff": 15
           },
           "zerolinecolor": "white",
           "zerolinewidth": 2
          },
          "yaxis": {
           "automargin": true,
           "gridcolor": "white",
           "linecolor": "white",
           "ticks": "",
           "title": {
            "standoff": 15
           },
           "zerolinecolor": "white",
           "zerolinewidth": 2
          }
         }
        },
        "title": {
         "font": {
          "size": 24
         },
         "text": "Percentage of New Listings coming from New Construction (May 01, 2024)",
         "x": 0.5,
         "xanchor": "center",
         "y": 0.98,
         "yanchor": "top"
        },
        "width": 1600,
        "xaxis": {
         "anchor": "y",
         "domain": [
          0,
          1
         ],
         "gridcolor": "rgba(255, 255, 255, 0.2)",
         "gridwidth": 0.5,
         "linecolor": "rgba(255, 255, 255, 0.7)",
         "linewidth": 1,
         "showgrid": true,
         "title": {
          "font": {
           "color": "#ffffff",
           "family": "Arial Black",
           "size": 14
          },
          "text": ""
         }
        },
        "yaxis": {
         "anchor": "x",
         "domain": [
          0,
          1
         ],
         "gridcolor": "rgba(255, 255, 255, 0.2)",
         "gridwidth": 0.5,
         "linecolor": "rgba(255, 255, 255, 0.7)",
         "linewidth": 1,
         "showgrid": true,
         "tickfont": {
          "color": "#ffffff",
          "family": "Arial",
          "size": 12
         },
         "tickformat": ".0%",
         "title": {
          "font": {
           "color": "#ffffff",
           "family": "Arial Black",
           "size": 14
          },
          "text": "% Price Reductions"
         },
         "zeroline": false
        }
       }
      }
     },
     "metadata": {},
     "output_type": "display_data"
    }
   ],
   "source": [
    "multi_market_line_chart_as_pct(\n",
    "    data=data,\n",
    "    y='pct_new_construction_listings_of_new',\n",
    "    x='date',\n",
    "    title='Percentage of New Listings coming from New Construction',\n",
    "    label='% of New Listings from New Construction',\n",
    "    color='clean_name'\n",
    ")\n"
   ]
  },
  {
   "cell_type": "code",
   "execution_count": 70,
   "metadata": {},
   "outputs": [
    {
     "data": {
      "application/vnd.plotly.v1+json": {
       "config": {
        "plotlyServerURL": "https://plot.ly"
       },
       "data": [
        {
         "hovertemplate": "clean_name=Miami, FL<br>date=%{x}<br>% of New Listings from Investors=%{y}<extra></extra>",
         "legendgroup": "Miami, FL",
         "line": {
          "color": "lightblue",
          "dash": "dash",
          "width": 2
         },
         "marker": {
          "symbol": "circle"
         },
         "mode": "lines",
         "name": "Miami, FL",
         "opacity": 0.8,
         "orientation": "v",
         "showlegend": true,
         "type": "scatter",
         "x": [
          "2024-05-01T00:00:00",
          "2024-04-01T00:00:00",
          "2024-03-01T00:00:00",
          "2024-02-01T00:00:00",
          "2024-01-01T00:00:00",
          "2023-12-01T00:00:00",
          "2023-11-01T00:00:00",
          "2023-10-01T00:00:00",
          "2023-09-01T00:00:00",
          "2023-08-01T00:00:00",
          "2023-07-01T00:00:00",
          "2023-06-01T00:00:00",
          "2023-05-01T00:00:00",
          "2023-04-01T00:00:00",
          "2023-03-01T00:00:00",
          "2023-02-01T00:00:00",
          "2023-01-01T00:00:00",
          "2022-12-01T00:00:00",
          "2022-11-01T00:00:00",
          "2022-10-01T00:00:00",
          "2022-09-01T00:00:00"
         ],
         "xaxis": "x",
         "y": [
          0.14715805865559303,
          0.14852553344521696,
          0.14538834951456311,
          0.1418015482054891,
          0.15312111976521053,
          0.1507416350465678,
          0.15610078601336957,
          0.15279079105876053,
          0.1540573740877231,
          0.1571937321937322,
          0.1483520805474711,
          0.15198965665852607,
          0.15013820535292927,
          0.14840837396042444,
          0.14908445796109737,
          0.15198533041822412,
          0.1516638655462185,
          0.1495344334839126,
          0.15523409550474412,
          0.15355615167113754,
          0.15535023635582296
         ],
         "yaxis": "y"
        },
        {
         "hovertemplate": "clean_name=Tampa, FL<br>date=%{x}<br>% of New Listings from Investors=%{y}<extra></extra>",
         "legendgroup": "Tampa, FL",
         "line": {
          "color": "lightblue",
          "dash": "dash",
          "width": 2
         },
         "marker": {
          "symbol": "circle"
         },
         "mode": "lines",
         "name": "Tampa, FL",
         "opacity": 0.8,
         "orientation": "v",
         "showlegend": true,
         "type": "scatter",
         "x": [
          "2024-05-01T00:00:00",
          "2024-04-01T00:00:00",
          "2024-03-01T00:00:00",
          "2024-02-01T00:00:00",
          "2024-01-01T00:00:00",
          "2023-12-01T00:00:00",
          "2023-11-01T00:00:00",
          "2023-10-01T00:00:00",
          "2023-09-01T00:00:00",
          "2023-08-01T00:00:00",
          "2023-07-01T00:00:00",
          "2023-06-01T00:00:00",
          "2023-05-01T00:00:00",
          "2023-04-01T00:00:00",
          "2023-03-01T00:00:00",
          "2023-02-01T00:00:00",
          "2023-01-01T00:00:00",
          "2022-12-01T00:00:00",
          "2022-11-01T00:00:00",
          "2022-10-01T00:00:00",
          "2022-09-01T00:00:00"
         ],
         "xaxis": "x",
         "y": [
          0.12764064932177008,
          0.11732433002743195,
          0.11331679073614558,
          0.11830099632931305,
          0.12632047147781608,
          0.12228213602365628,
          0.12585516974312638,
          0.12867083382474348,
          0.11671368124118477,
          0.12317864576956043,
          0.11589068825910931,
          0.11825726141078838,
          0.12201471420486701,
          0.12300946226632818,
          0.12307858843905607,
          0.12916565312576014,
          0.1288894354937892,
          0.14300202839756593,
          0.14306415492030036,
          0.14068049031962424,
          0.13333333333333333
         ],
         "yaxis": "y"
        },
        {
         "hovertemplate": "clean_name=Orlando, FL<br>date=%{x}<br>% of New Listings from Investors=%{y}<extra></extra>",
         "legendgroup": "Orlando, FL",
         "line": {
          "color": "lightblue",
          "dash": "dash",
          "width": 2
         },
         "marker": {
          "symbol": "circle"
         },
         "mode": "lines",
         "name": "Orlando, FL",
         "opacity": 0.8,
         "orientation": "v",
         "showlegend": true,
         "type": "scatter",
         "x": [
          "2024-05-01T00:00:00",
          "2024-04-01T00:00:00",
          "2024-03-01T00:00:00",
          "2024-02-01T00:00:00",
          "2024-01-01T00:00:00",
          "2023-12-01T00:00:00",
          "2023-11-01T00:00:00",
          "2023-10-01T00:00:00",
          "2023-09-01T00:00:00",
          "2023-08-01T00:00:00",
          "2023-07-01T00:00:00",
          "2023-06-01T00:00:00",
          "2023-05-01T00:00:00",
          "2023-04-01T00:00:00",
          "2023-03-01T00:00:00",
          "2023-02-01T00:00:00",
          "2023-01-01T00:00:00",
          "2022-12-01T00:00:00",
          "2022-11-01T00:00:00",
          "2022-10-01T00:00:00",
          "2022-09-01T00:00:00"
         ],
         "xaxis": "x",
         "y": [
          0.10090512906469996,
          0.10469011725293133,
          0.11395713538944068,
          0.10734767025089606,
          0.11903392754456585,
          0.13052468338071854,
          0.12290624320208832,
          0.12864800476474092,
          0.11478365384615384,
          0.11202084108671381,
          0.11370539104024298,
          0.10878090366581415,
          0.11067961165048544,
          0.11752767527675277,
          0.1149465568599965,
          0.12451678535096643,
          0.12388818297331639,
          0.1350171499844091,
          0.1319626168224299,
          0.12450436161776368,
          0.11925352753755121
         ],
         "yaxis": "y"
        },
        {
         "hovertemplate": "clean_name=Jacksonville, FL<br>date=%{x}<br>% of New Listings from Investors=%{y}<extra></extra>",
         "legendgroup": "Jacksonville, FL",
         "line": {
          "color": "lightblue",
          "dash": "dash",
          "width": 2
         },
         "marker": {
          "symbol": "circle"
         },
         "mode": "lines",
         "name": "Jacksonville, FL",
         "opacity": 0.8,
         "orientation": "v",
         "showlegend": true,
         "type": "scatter",
         "x": [
          "2024-05-01T00:00:00",
          "2024-04-01T00:00:00",
          "2024-03-01T00:00:00",
          "2024-02-01T00:00:00",
          "2024-01-01T00:00:00",
          "2023-12-01T00:00:00",
          "2023-11-01T00:00:00",
          "2023-10-01T00:00:00",
          "2023-09-01T00:00:00",
          "2023-08-01T00:00:00",
          "2023-07-01T00:00:00",
          "2023-06-01T00:00:00",
          "2023-05-01T00:00:00",
          "2023-04-01T00:00:00",
          "2023-03-01T00:00:00",
          "2023-02-01T00:00:00",
          "2023-01-01T00:00:00",
          "2022-12-01T00:00:00",
          "2022-11-01T00:00:00",
          "2022-10-01T00:00:00",
          "2022-09-01T00:00:00"
         ],
         "xaxis": "x",
         "y": [
          0.12735042735042734,
          0.12208949179995951,
          0.12518255789693303,
          0.13500332520505431,
          0.1335824381130313,
          0.14341637010676156,
          0.14554692169754932,
          0.1392273787918071,
          0.13354569958343543,
          0.12491436401004796,
          0.1198997036699339,
          0.11761331038439472,
          0.12259157315265722,
          0.13264155199639072,
          0.12407254740313273,
          0.13846153846153847,
          0.13519417475728154,
          0.16132231404958677,
          0.16279069767441862,
          0.15108958837772396,
          0.1535258189894503
         ],
         "yaxis": "y"
        },
        {
         "hovertemplate": "clean_name=North Port, FL<br>date=%{x}<br>% of New Listings from Investors=%{y}<extra></extra>",
         "legendgroup": "North Port, FL",
         "line": {
          "color": "lightblue",
          "dash": "dash",
          "width": 2
         },
         "marker": {
          "symbol": "circle"
         },
         "mode": "lines",
         "name": "North Port, FL",
         "opacity": 0.8,
         "orientation": "v",
         "showlegend": true,
         "type": "scatter",
         "x": [
          "2024-05-01T00:00:00",
          "2024-04-01T00:00:00",
          "2024-03-01T00:00:00",
          "2024-02-01T00:00:00",
          "2024-01-01T00:00:00",
          "2023-12-01T00:00:00",
          "2023-11-01T00:00:00",
          "2023-10-01T00:00:00",
          "2023-09-01T00:00:00",
          "2023-08-01T00:00:00",
          "2023-07-01T00:00:00",
          "2023-06-01T00:00:00",
          "2023-05-01T00:00:00",
          "2023-04-01T00:00:00",
          "2023-03-01T00:00:00",
          "2023-02-01T00:00:00",
          "2023-01-01T00:00:00",
          "2022-12-01T00:00:00",
          "2022-11-01T00:00:00",
          "2022-10-01T00:00:00",
          "2022-09-01T00:00:00"
         ],
         "xaxis": "x",
         "y": [
          0.09802210587550901,
          0.10137362637362637,
          0.11165285226718674,
          0.10588724776367797,
          0.11411665257819104,
          0.12168309325246399,
          0.11123886174187984,
          0.10404463040446305,
          0.11169000325626832,
          0.10948158253751705,
          0.10275862068965518,
          0.10321797207043108,
          0.10909649661954518,
          0.10835471913316225,
          0.11139176559737307,
          0.11786188579017265,
          0.11642017444065225,
          0.1095690284879474,
          0.12534818941504178,
          0.1165444172779136,
          0.10595446584938704
         ],
         "yaxis": "y"
        },
        {
         "hovertemplate": "clean_name=Cape Coral, FL<br>date=%{x}<br>% of New Listings from Investors=%{y}<extra></extra>",
         "legendgroup": "Cape Coral, FL",
         "line": {
          "color": "lightblue",
          "dash": "dash",
          "width": 2
         },
         "marker": {
          "symbol": "circle"
         },
         "mode": "lines",
         "name": "Cape Coral, FL",
         "opacity": 0.8,
         "orientation": "v",
         "showlegend": true,
         "type": "scatter",
         "x": [
          "2024-05-01T00:00:00",
          "2024-04-01T00:00:00",
          "2024-03-01T00:00:00",
          "2024-02-01T00:00:00",
          "2024-01-01T00:00:00",
          "2023-12-01T00:00:00",
          "2023-11-01T00:00:00",
          "2023-10-01T00:00:00",
          "2023-09-01T00:00:00",
          "2023-08-01T00:00:00",
          "2023-07-01T00:00:00",
          "2023-06-01T00:00:00",
          "2023-05-01T00:00:00",
          "2023-04-01T00:00:00",
          "2023-03-01T00:00:00",
          "2023-02-01T00:00:00",
          "2023-01-01T00:00:00",
          "2022-12-01T00:00:00",
          "2022-11-01T00:00:00",
          "2022-10-01T00:00:00",
          "2022-09-01T00:00:00"
         ],
         "xaxis": "x",
         "y": [
          0.21109839816933637,
          0.21106659989984977,
          0.19048757170172084,
          0.1944965603502189,
          0.18525252525252525,
          0.2100472016183412,
          0.22046353872244207,
          0.2052823706248658,
          0.21090120780427377,
          0.19380888290713325,
          0.203338898163606,
          0.20724346076458752,
          0.20531597504746407,
          0.19937775473165673,
          0.18584883988054215,
          0.19428571428571428,
          0.20588235294117646,
          0.19918973666441595,
          0.2158490566037736,
          0.24729064039408866,
          0.24227318045862412
         ],
         "yaxis": "y"
        },
        {
         "hovertemplate": "clean_name=Lakeland, FL<br>date=%{x}<br>% of New Listings from Investors=%{y}<extra></extra>",
         "legendgroup": "Lakeland, FL",
         "line": {
          "color": "lightblue",
          "dash": "dash",
          "width": 2
         },
         "marker": {
          "symbol": "circle"
         },
         "mode": "lines",
         "name": "Lakeland, FL",
         "opacity": 0.8,
         "orientation": "v",
         "showlegend": true,
         "type": "scatter",
         "x": [
          "2024-05-01T00:00:00",
          "2024-04-01T00:00:00",
          "2024-03-01T00:00:00",
          "2024-02-01T00:00:00",
          "2024-01-01T00:00:00",
          "2023-12-01T00:00:00",
          "2023-11-01T00:00:00",
          "2023-10-01T00:00:00",
          "2023-09-01T00:00:00",
          "2023-08-01T00:00:00",
          "2023-07-01T00:00:00",
          "2023-06-01T00:00:00",
          "2023-05-01T00:00:00",
          "2023-04-01T00:00:00",
          "2023-03-01T00:00:00",
          "2023-02-01T00:00:00",
          "2023-01-01T00:00:00",
          "2022-12-01T00:00:00",
          "2022-11-01T00:00:00",
          "2022-10-01T00:00:00",
          "2022-09-01T00:00:00"
         ],
         "xaxis": "x",
         "y": [
          0.1163589523400601,
          0.11224489795918367,
          0.10352327098738583,
          0.1055187637969095,
          0.11490539916935856,
          0.1217564870259481,
          0.1193304535637149,
          0.11164122137404581,
          0.1106679960119641,
          0.1155705996131528,
          0.1104944500504541,
          0.10483484921014839,
          0.10562770562770563,
          0.12505705157462346,
          0.12652705061082026,
          0.12758620689655173,
          0.12192569335426479,
          0.12752721617418353,
          0.11691176470588235,
          0.13757861635220126,
          0.1319622964867181
         ],
         "yaxis": "y"
        },
        {
         "hovertemplate": "clean_name=Deltona, FL<br>date=%{x}<br>% of New Listings from Investors=%{y}<extra></extra>",
         "legendgroup": "Deltona, FL",
         "line": {
          "color": "lightblue",
          "dash": "dash",
          "width": 2
         },
         "marker": {
          "symbol": "circle"
         },
         "mode": "lines",
         "name": "Deltona, FL",
         "opacity": 0.8,
         "orientation": "v",
         "showlegend": true,
         "type": "scatter",
         "x": [
          "2024-05-01T00:00:00",
          "2024-04-01T00:00:00",
          "2024-03-01T00:00:00",
          "2024-02-01T00:00:00",
          "2024-01-01T00:00:00",
          "2023-12-01T00:00:00",
          "2023-11-01T00:00:00",
          "2023-10-01T00:00:00",
          "2023-09-01T00:00:00",
          "2023-08-01T00:00:00",
          "2023-07-01T00:00:00",
          "2023-06-01T00:00:00",
          "2023-05-01T00:00:00",
          "2023-04-01T00:00:00",
          "2023-03-01T00:00:00",
          "2023-02-01T00:00:00",
          "2023-01-01T00:00:00",
          "2022-12-01T00:00:00",
          "2022-11-01T00:00:00",
          "2022-10-01T00:00:00",
          "2022-09-01T00:00:00"
         ],
         "xaxis": "x",
         "y": [
          0.12720359488420324,
          0.1404549950544016,
          0.12640545144804088,
          0.1331290432414028,
          0.1423169474046064,
          0.12877155172413793,
          0.12966878083157152,
          0.14063745019920318,
          0.13248710829036098,
          0.13644722324383965,
          0.1440295445219532,
          0.15227686703096538,
          0.15121255349500715,
          0.14477611940298507,
          0.14987628137150938,
          0.14703525641025642,
          0.1491101491101491,
          0.16833976833976835,
          0.13109243697478992,
          0.1677360219981668,
          0.14387846291331546
         ],
         "yaxis": "y"
        },
        {
         "hovertemplate": "clean_name=Palm Bay, FL<br>date=%{x}<br>% of New Listings from Investors=%{y}<extra></extra>",
         "legendgroup": "Palm Bay, FL",
         "line": {
          "color": "lightblue",
          "dash": "dash",
          "width": 2
         },
         "marker": {
          "symbol": "circle"
         },
         "mode": "lines",
         "name": "Palm Bay, FL",
         "opacity": 0.8,
         "orientation": "v",
         "showlegend": true,
         "type": "scatter",
         "x": [
          "2024-05-01T00:00:00",
          "2024-04-01T00:00:00",
          "2024-03-01T00:00:00",
          "2024-02-01T00:00:00",
          "2024-01-01T00:00:00",
          "2023-12-01T00:00:00",
          "2023-11-01T00:00:00",
          "2023-10-01T00:00:00",
          "2023-09-01T00:00:00",
          "2023-08-01T00:00:00",
          "2023-07-01T00:00:00",
          "2023-06-01T00:00:00",
          "2023-05-01T00:00:00",
          "2023-04-01T00:00:00",
          "2023-03-01T00:00:00",
          "2023-02-01T00:00:00",
          "2023-01-01T00:00:00",
          "2022-12-01T00:00:00",
          "2022-11-01T00:00:00",
          "2022-10-01T00:00:00",
          "2022-09-01T00:00:00"
         ],
         "xaxis": "x",
         "y": [
          0.16721776098252245,
          0.1551184622261958,
          0.13745551601423486,
          0.142997542997543,
          0.1476407914764079,
          0.15215801024140455,
          0.14754098360655737,
          0.1470888661899898,
          0.14663951120162932,
          0.13641188959660297,
          0.15293484114162628,
          0.14949815108293713,
          0.15724815724815724,
          0.1513903192584964,
          0.14346389806512505,
          0.15640096618357488,
          0.170446735395189,
          0.14649033570701933,
          0.1890547263681592,
          0.1865482233502538,
          0.17647058823529413
         ],
         "yaxis": "y"
        },
        {
         "hovertemplate": "clean_name=USA<br>date=%{x}<br>% of New Listings from Investors=%{y}<extra></extra>",
         "legendgroup": "USA",
         "line": {
          "color": "red",
          "dash": "solid",
          "width": 4
         },
         "marker": {
          "symbol": "circle"
         },
         "mode": "lines",
         "name": "USA",
         "opacity": 1,
         "orientation": "v",
         "showlegend": true,
         "type": "scatter",
         "x": [
          "2024-05-01T00:00:00",
          "2024-04-01T00:00:00",
          "2024-03-01T00:00:00",
          "2024-02-01T00:00:00",
          "2024-01-01T00:00:00",
          "2023-12-01T00:00:00",
          "2023-11-01T00:00:00",
          "2023-10-01T00:00:00",
          "2023-09-01T00:00:00",
          "2023-08-01T00:00:00",
          "2023-07-01T00:00:00",
          "2023-06-01T00:00:00",
          "2023-05-01T00:00:00",
          "2023-04-01T00:00:00",
          "2023-03-01T00:00:00",
          "2023-02-01T00:00:00",
          "2023-01-01T00:00:00",
          "2022-12-01T00:00:00",
          "2022-11-01T00:00:00",
          "2022-10-01T00:00:00",
          "2022-09-01T00:00:00"
         ],
         "xaxis": "x",
         "y": [
          0.10669369734648826,
          0.10941809026748563,
          0.11523625055676102,
          0.12214154162705357,
          0.12701238312360025,
          0.13037152601407737,
          0.12413693747532202,
          0.12100256995433406,
          0.11668438015743406,
          0.11259172924978096,
          0.10909035303232646,
          0.10769834808982126,
          0.10785639013045532,
          0.11062136086767035,
          0.11617340847320189,
          0.12423491108100437,
          0.12862250916772594,
          0.13804834463349722,
          0.1337977410770987,
          0.1301809496956529,
          0.12721514786615717
         ],
         "yaxis": "y"
        }
       ],
       "layout": {
        "annotations": [
         {
          "font": {
           "size": 12
          },
          "showarrow": false,
          "text": "Miami, FL",
          "x": "2024-05-01T00:00:00",
          "xanchor": "left",
          "xref": "x",
          "y": 0.14715805865559303,
          "yref": "y"
         },
         {
          "font": {
           "size": 12
          },
          "showarrow": false,
          "text": "Tampa, FL",
          "x": "2024-05-01T00:00:00",
          "xanchor": "left",
          "xref": "x",
          "y": 0.12764064932177008,
          "yref": "y"
         },
         {
          "font": {
           "size": 12
          },
          "showarrow": false,
          "text": "Orlando, FL",
          "x": "2024-05-01T00:00:00",
          "xanchor": "left",
          "xref": "x",
          "y": 0.10090512906469996,
          "yref": "y"
         },
         {
          "font": {
           "size": 12
          },
          "showarrow": false,
          "text": "Cape Coral, FL",
          "x": "2024-05-01T00:00:00",
          "xanchor": "left",
          "xref": "x",
          "y": 0.21109839816933637,
          "yref": "y"
         },
         {
          "font": {
           "size": 12
          },
          "showarrow": false,
          "text": "Lakeland, FL",
          "x": "2024-05-01T00:00:00",
          "xanchor": "left",
          "xref": "x",
          "y": 0.1163589523400601,
          "yref": "y"
         },
         {
          "font": {
           "size": 12
          },
          "showarrow": false,
          "text": "Palm Bay, FL",
          "x": "2024-05-01T00:00:00",
          "xanchor": "left",
          "xref": "x",
          "y": 0.16721776098252245,
          "yref": "y"
         }
        ],
        "font": {
         "color": "#ffffff"
        },
        "height": 800,
        "images": [
         {
          "sizex": 0.15,
          "sizey": 0.15,
          "source": "https://parcllabs-assets.s3.amazonaws.com/powered-by-parcllabs-api-logo-white+(1).svg",
          "x": 1,
          "xanchor": "right",
          "xref": "paper",
          "y": 0,
          "yanchor": "bottom",
          "yref": "paper"
         }
        ],
        "legend": {
         "title": {
          "text": "clean_name"
         },
         "tracegroupgap": 0
        },
        "margin": {
         "b": 40,
         "l": 40,
         "r": 40,
         "t": 80
        },
        "paper_bgcolor": "#1e1e1e",
        "plot_bgcolor": "#1e1e1e",
        "showlegend": false,
        "template": {
         "data": {
          "bar": [
           {
            "error_x": {
             "color": "#2a3f5f"
            },
            "error_y": {
             "color": "#2a3f5f"
            },
            "marker": {
             "line": {
              "color": "#E5ECF6",
              "width": 0.5
             },
             "pattern": {
              "fillmode": "overlay",
              "size": 10,
              "solidity": 0.2
             }
            },
            "type": "bar"
           }
          ],
          "barpolar": [
           {
            "marker": {
             "line": {
              "color": "#E5ECF6",
              "width": 0.5
             },
             "pattern": {
              "fillmode": "overlay",
              "size": 10,
              "solidity": 0.2
             }
            },
            "type": "barpolar"
           }
          ],
          "carpet": [
           {
            "aaxis": {
             "endlinecolor": "#2a3f5f",
             "gridcolor": "white",
             "linecolor": "white",
             "minorgridcolor": "white",
             "startlinecolor": "#2a3f5f"
            },
            "baxis": {
             "endlinecolor": "#2a3f5f",
             "gridcolor": "white",
             "linecolor": "white",
             "minorgridcolor": "white",
             "startlinecolor": "#2a3f5f"
            },
            "type": "carpet"
           }
          ],
          "choropleth": [
           {
            "colorbar": {
             "outlinewidth": 0,
             "ticks": ""
            },
            "type": "choropleth"
           }
          ],
          "contour": [
           {
            "colorbar": {
             "outlinewidth": 0,
             "ticks": ""
            },
            "colorscale": [
             [
              0,
              "#0d0887"
             ],
             [
              0.1111111111111111,
              "#46039f"
             ],
             [
              0.2222222222222222,
              "#7201a8"
             ],
             [
              0.3333333333333333,
              "#9c179e"
             ],
             [
              0.4444444444444444,
              "#bd3786"
             ],
             [
              0.5555555555555556,
              "#d8576b"
             ],
             [
              0.6666666666666666,
              "#ed7953"
             ],
             [
              0.7777777777777778,
              "#fb9f3a"
             ],
             [
              0.8888888888888888,
              "#fdca26"
             ],
             [
              1,
              "#f0f921"
             ]
            ],
            "type": "contour"
           }
          ],
          "contourcarpet": [
           {
            "colorbar": {
             "outlinewidth": 0,
             "ticks": ""
            },
            "type": "contourcarpet"
           }
          ],
          "heatmap": [
           {
            "colorbar": {
             "outlinewidth": 0,
             "ticks": ""
            },
            "colorscale": [
             [
              0,
              "#0d0887"
             ],
             [
              0.1111111111111111,
              "#46039f"
             ],
             [
              0.2222222222222222,
              "#7201a8"
             ],
             [
              0.3333333333333333,
              "#9c179e"
             ],
             [
              0.4444444444444444,
              "#bd3786"
             ],
             [
              0.5555555555555556,
              "#d8576b"
             ],
             [
              0.6666666666666666,
              "#ed7953"
             ],
             [
              0.7777777777777778,
              "#fb9f3a"
             ],
             [
              0.8888888888888888,
              "#fdca26"
             ],
             [
              1,
              "#f0f921"
             ]
            ],
            "type": "heatmap"
           }
          ],
          "heatmapgl": [
           {
            "colorbar": {
             "outlinewidth": 0,
             "ticks": ""
            },
            "colorscale": [
             [
              0,
              "#0d0887"
             ],
             [
              0.1111111111111111,
              "#46039f"
             ],
             [
              0.2222222222222222,
              "#7201a8"
             ],
             [
              0.3333333333333333,
              "#9c179e"
             ],
             [
              0.4444444444444444,
              "#bd3786"
             ],
             [
              0.5555555555555556,
              "#d8576b"
             ],
             [
              0.6666666666666666,
              "#ed7953"
             ],
             [
              0.7777777777777778,
              "#fb9f3a"
             ],
             [
              0.8888888888888888,
              "#fdca26"
             ],
             [
              1,
              "#f0f921"
             ]
            ],
            "type": "heatmapgl"
           }
          ],
          "histogram": [
           {
            "marker": {
             "pattern": {
              "fillmode": "overlay",
              "size": 10,
              "solidity": 0.2
             }
            },
            "type": "histogram"
           }
          ],
          "histogram2d": [
           {
            "colorbar": {
             "outlinewidth": 0,
             "ticks": ""
            },
            "colorscale": [
             [
              0,
              "#0d0887"
             ],
             [
              0.1111111111111111,
              "#46039f"
             ],
             [
              0.2222222222222222,
              "#7201a8"
             ],
             [
              0.3333333333333333,
              "#9c179e"
             ],
             [
              0.4444444444444444,
              "#bd3786"
             ],
             [
              0.5555555555555556,
              "#d8576b"
             ],
             [
              0.6666666666666666,
              "#ed7953"
             ],
             [
              0.7777777777777778,
              "#fb9f3a"
             ],
             [
              0.8888888888888888,
              "#fdca26"
             ],
             [
              1,
              "#f0f921"
             ]
            ],
            "type": "histogram2d"
           }
          ],
          "histogram2dcontour": [
           {
            "colorbar": {
             "outlinewidth": 0,
             "ticks": ""
            },
            "colorscale": [
             [
              0,
              "#0d0887"
             ],
             [
              0.1111111111111111,
              "#46039f"
             ],
             [
              0.2222222222222222,
              "#7201a8"
             ],
             [
              0.3333333333333333,
              "#9c179e"
             ],
             [
              0.4444444444444444,
              "#bd3786"
             ],
             [
              0.5555555555555556,
              "#d8576b"
             ],
             [
              0.6666666666666666,
              "#ed7953"
             ],
             [
              0.7777777777777778,
              "#fb9f3a"
             ],
             [
              0.8888888888888888,
              "#fdca26"
             ],
             [
              1,
              "#f0f921"
             ]
            ],
            "type": "histogram2dcontour"
           }
          ],
          "mesh3d": [
           {
            "colorbar": {
             "outlinewidth": 0,
             "ticks": ""
            },
            "type": "mesh3d"
           }
          ],
          "parcoords": [
           {
            "line": {
             "colorbar": {
              "outlinewidth": 0,
              "ticks": ""
             }
            },
            "type": "parcoords"
           }
          ],
          "pie": [
           {
            "automargin": true,
            "type": "pie"
           }
          ],
          "scatter": [
           {
            "fillpattern": {
             "fillmode": "overlay",
             "size": 10,
             "solidity": 0.2
            },
            "type": "scatter"
           }
          ],
          "scatter3d": [
           {
            "line": {
             "colorbar": {
              "outlinewidth": 0,
              "ticks": ""
             }
            },
            "marker": {
             "colorbar": {
              "outlinewidth": 0,
              "ticks": ""
             }
            },
            "type": "scatter3d"
           }
          ],
          "scattercarpet": [
           {
            "marker": {
             "colorbar": {
              "outlinewidth": 0,
              "ticks": ""
             }
            },
            "type": "scattercarpet"
           }
          ],
          "scattergeo": [
           {
            "marker": {
             "colorbar": {
              "outlinewidth": 0,
              "ticks": ""
             }
            },
            "type": "scattergeo"
           }
          ],
          "scattergl": [
           {
            "marker": {
             "colorbar": {
              "outlinewidth": 0,
              "ticks": ""
             }
            },
            "type": "scattergl"
           }
          ],
          "scattermapbox": [
           {
            "marker": {
             "colorbar": {
              "outlinewidth": 0,
              "ticks": ""
             }
            },
            "type": "scattermapbox"
           }
          ],
          "scatterpolar": [
           {
            "marker": {
             "colorbar": {
              "outlinewidth": 0,
              "ticks": ""
             }
            },
            "type": "scatterpolar"
           }
          ],
          "scatterpolargl": [
           {
            "marker": {
             "colorbar": {
              "outlinewidth": 0,
              "ticks": ""
             }
            },
            "type": "scatterpolargl"
           }
          ],
          "scatterternary": [
           {
            "marker": {
             "colorbar": {
              "outlinewidth": 0,
              "ticks": ""
             }
            },
            "type": "scatterternary"
           }
          ],
          "surface": [
           {
            "colorbar": {
             "outlinewidth": 0,
             "ticks": ""
            },
            "colorscale": [
             [
              0,
              "#0d0887"
             ],
             [
              0.1111111111111111,
              "#46039f"
             ],
             [
              0.2222222222222222,
              "#7201a8"
             ],
             [
              0.3333333333333333,
              "#9c179e"
             ],
             [
              0.4444444444444444,
              "#bd3786"
             ],
             [
              0.5555555555555556,
              "#d8576b"
             ],
             [
              0.6666666666666666,
              "#ed7953"
             ],
             [
              0.7777777777777778,
              "#fb9f3a"
             ],
             [
              0.8888888888888888,
              "#fdca26"
             ],
             [
              1,
              "#f0f921"
             ]
            ],
            "type": "surface"
           }
          ],
          "table": [
           {
            "cells": {
             "fill": {
              "color": "#EBF0F8"
             },
             "line": {
              "color": "white"
             }
            },
            "header": {
             "fill": {
              "color": "#C8D4E3"
             },
             "line": {
              "color": "white"
             }
            },
            "type": "table"
           }
          ]
         },
         "layout": {
          "annotationdefaults": {
           "arrowcolor": "#2a3f5f",
           "arrowhead": 0,
           "arrowwidth": 1
          },
          "autotypenumbers": "strict",
          "coloraxis": {
           "colorbar": {
            "outlinewidth": 0,
            "ticks": ""
           }
          },
          "colorscale": {
           "diverging": [
            [
             0,
             "#8e0152"
            ],
            [
             0.1,
             "#c51b7d"
            ],
            [
             0.2,
             "#de77ae"
            ],
            [
             0.3,
             "#f1b6da"
            ],
            [
             0.4,
             "#fde0ef"
            ],
            [
             0.5,
             "#f7f7f7"
            ],
            [
             0.6,
             "#e6f5d0"
            ],
            [
             0.7,
             "#b8e186"
            ],
            [
             0.8,
             "#7fbc41"
            ],
            [
             0.9,
             "#4d9221"
            ],
            [
             1,
             "#276419"
            ]
           ],
           "sequential": [
            [
             0,
             "#0d0887"
            ],
            [
             0.1111111111111111,
             "#46039f"
            ],
            [
             0.2222222222222222,
             "#7201a8"
            ],
            [
             0.3333333333333333,
             "#9c179e"
            ],
            [
             0.4444444444444444,
             "#bd3786"
            ],
            [
             0.5555555555555556,
             "#d8576b"
            ],
            [
             0.6666666666666666,
             "#ed7953"
            ],
            [
             0.7777777777777778,
             "#fb9f3a"
            ],
            [
             0.8888888888888888,
             "#fdca26"
            ],
            [
             1,
             "#f0f921"
            ]
           ],
           "sequentialminus": [
            [
             0,
             "#0d0887"
            ],
            [
             0.1111111111111111,
             "#46039f"
            ],
            [
             0.2222222222222222,
             "#7201a8"
            ],
            [
             0.3333333333333333,
             "#9c179e"
            ],
            [
             0.4444444444444444,
             "#bd3786"
            ],
            [
             0.5555555555555556,
             "#d8576b"
            ],
            [
             0.6666666666666666,
             "#ed7953"
            ],
            [
             0.7777777777777778,
             "#fb9f3a"
            ],
            [
             0.8888888888888888,
             "#fdca26"
            ],
            [
             1,
             "#f0f921"
            ]
           ]
          },
          "colorway": [
           "#636efa",
           "#EF553B",
           "#00cc96",
           "#ab63fa",
           "#FFA15A",
           "#19d3f3",
           "#FF6692",
           "#B6E880",
           "#FF97FF",
           "#FECB52"
          ],
          "font": {
           "color": "#2a3f5f"
          },
          "geo": {
           "bgcolor": "white",
           "lakecolor": "white",
           "landcolor": "#E5ECF6",
           "showlakes": true,
           "showland": true,
           "subunitcolor": "white"
          },
          "hoverlabel": {
           "align": "left"
          },
          "hovermode": "closest",
          "mapbox": {
           "style": "light"
          },
          "paper_bgcolor": "white",
          "plot_bgcolor": "#E5ECF6",
          "polar": {
           "angularaxis": {
            "gridcolor": "white",
            "linecolor": "white",
            "ticks": ""
           },
           "bgcolor": "#E5ECF6",
           "radialaxis": {
            "gridcolor": "white",
            "linecolor": "white",
            "ticks": ""
           }
          },
          "scene": {
           "xaxis": {
            "backgroundcolor": "#E5ECF6",
            "gridcolor": "white",
            "gridwidth": 2,
            "linecolor": "white",
            "showbackground": true,
            "ticks": "",
            "zerolinecolor": "white"
           },
           "yaxis": {
            "backgroundcolor": "#E5ECF6",
            "gridcolor": "white",
            "gridwidth": 2,
            "linecolor": "white",
            "showbackground": true,
            "ticks": "",
            "zerolinecolor": "white"
           },
           "zaxis": {
            "backgroundcolor": "#E5ECF6",
            "gridcolor": "white",
            "gridwidth": 2,
            "linecolor": "white",
            "showbackground": true,
            "ticks": "",
            "zerolinecolor": "white"
           }
          },
          "shapedefaults": {
           "line": {
            "color": "#2a3f5f"
           }
          },
          "ternary": {
           "aaxis": {
            "gridcolor": "white",
            "linecolor": "white",
            "ticks": ""
           },
           "baxis": {
            "gridcolor": "white",
            "linecolor": "white",
            "ticks": ""
           },
           "bgcolor": "#E5ECF6",
           "caxis": {
            "gridcolor": "white",
            "linecolor": "white",
            "ticks": ""
           }
          },
          "title": {
           "x": 0.05
          },
          "xaxis": {
           "automargin": true,
           "gridcolor": "white",
           "linecolor": "white",
           "ticks": "",
           "title": {
            "standoff": 15
           },
           "zerolinecolor": "white",
           "zerolinewidth": 2
          },
          "yaxis": {
           "automargin": true,
           "gridcolor": "white",
           "linecolor": "white",
           "ticks": "",
           "title": {
            "standoff": 15
           },
           "zerolinecolor": "white",
           "zerolinewidth": 2
          }
         }
        },
        "title": {
         "font": {
          "size": 24
         },
         "text": "Percentage of New Listings coming from Investors (May 01, 2024)",
         "x": 0.5,
         "xanchor": "center",
         "y": 0.98,
         "yanchor": "top"
        },
        "width": 1600,
        "xaxis": {
         "anchor": "y",
         "domain": [
          0,
          1
         ],
         "gridcolor": "rgba(255, 255, 255, 0.2)",
         "gridwidth": 0.5,
         "linecolor": "rgba(255, 255, 255, 0.7)",
         "linewidth": 1,
         "showgrid": true,
         "title": {
          "font": {
           "color": "#ffffff",
           "family": "Arial Black",
           "size": 14
          },
          "text": ""
         }
        },
        "yaxis": {
         "anchor": "x",
         "domain": [
          0,
          1
         ],
         "gridcolor": "rgba(255, 255, 255, 0.2)",
         "gridwidth": 0.5,
         "linecolor": "rgba(255, 255, 255, 0.7)",
         "linewidth": 1,
         "showgrid": true,
         "tickfont": {
          "color": "#ffffff",
          "family": "Arial",
          "size": 12
         },
         "tickformat": ".0%",
         "title": {
          "font": {
           "color": "#ffffff",
           "family": "Arial Black",
           "size": 14
          },
          "text": "% Price Reductions"
         },
         "zeroline": false
        }
       }
      }
     },
     "metadata": {},
     "output_type": "display_data"
    }
   ],
   "source": [
    "multi_market_line_chart_as_pct(\n",
    "    data=data.loc[data['parcl_id'].isin([2899822, 5826765, 2900417, 2900128,\n",
    " 2900417,\n",
    " 2900213,\n",
    " 2899989,\n",
    " 2900192,\n",
    " 2899822,\n",
    " 2900041,\n",
    " 2899748,\n",
    " 2900229])],\n",
    "    y='pct_new_investor_listings_of_new',\n",
    "    x='date',\n",
    "    title='Percentage of New Listings coming from Investors',\n",
    "    label='% of New Listings from Investors',\n",
    "    color='clean_name'\n",
    ")"
   ]
  },
  {
   "cell_type": "code",
   "execution_count": 69,
   "metadata": {},
   "outputs": [
    {
     "data": {
      "text/plain": [
       "[2900128,\n",
       " 2900417,\n",
       " 2900213,\n",
       " 2899989,\n",
       " 2900192,\n",
       " 2899822,\n",
       " 2900041,\n",
       " 2899748,\n",
       " 2900229]"
      ]
     },
     "execution_count": 69,
     "metadata": {},
     "output_type": "execute_result"
    }
   ],
   "source": [
    "# cape coral pid: 2899822, 5826765, 2900417\n",
    "data.loc[data['clean_name'].str.contains(', FL')]['parcl_id'].unique().tolist()"
   ]
  },
  {
   "cell_type": "code",
   "execution_count": null,
   "metadata": {},
   "outputs": [],
   "source": []
  }
 ],
 "metadata": {
  "kernelspec": {
   "display_name": "parcllabs",
   "language": "python",
   "name": "python3"
  },
  "language_info": {
   "codemirror_mode": {
    "name": "ipython",
    "version": 3
   },
   "file_extension": ".py",
   "mimetype": "text/x-python",
   "name": "python",
   "nbconvert_exporter": "python",
   "pygments_lexer": "ipython3",
   "version": "3.1.-1"
  }
 },
 "nbformat": 4,
 "nbformat_minor": 2
}
