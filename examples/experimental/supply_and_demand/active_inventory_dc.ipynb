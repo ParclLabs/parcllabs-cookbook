{
 "cells": [
  {
   "cell_type": "markdown",
   "metadata": {},
   "source": [
    "<center>\n",
    "<h1>Welcome to the Lab 🥼🧪</h1>\n",
    "</center>\n",
    "\n",
    "## Deep dive analysis into a market\n",
    "\n",
    "In this notebook we will have a deep dive into the market dynamics of a specific market. We will be using our properties search endpoint to identify all the single family homes currently available for sale in the Washington DC Market. We will then create a map to visualize where the inventory is located. \n",
    "\n",
    "#### What will you create in this notebook?\n",
    "\n",
    "##### Location of Single Family Homes for Sale in Washington DC\n",
    "<p align=\"center\">\n",
    "  <img src=\"../../../images/dc_properties_map.png\" alt=\"Alt text\">\n",
    "</p>\n",
    "\n",
    "#### Need help getting started?\n",
    "\n",
    "As a reminder, you can get your Parcl Labs API key [here](https://dashboard.parcllabs.com/signup) to follow along.\n",
    "\n",
    "To run this immediately, you can use Google Colab. Remember, you must set your `PARCL_LABS_API_KEY`.\n",
    "\n",
    "Run in collab --> [![Open in Colab](https://colab.research.google.com/assets/colab-badge.svg)](https://colab.research.google.com/github/ParclLabs/parcllabs-cookbook/blob/main/examples/experimental/supply_and_demand/active_inventory_dc.ipynb)"
   ]
  },
  {
   "cell_type": "markdown",
   "metadata": {},
   "source": [
    "### Import required packages and setup the Parcl Labs API key"
   ]
  },
  {
   "cell_type": "code",
   "execution_count": null,
   "metadata": {},
   "outputs": [],
   "source": [
    "# if needed, install and/or upgrade to the latest verison of the Parcl Labs Python library\n",
    "%pip install --upgrade parcllabs geopandas plotly"
   ]
  },
  {
   "cell_type": "code",
   "execution_count": 19,
   "metadata": {},
   "outputs": [],
   "source": [
    "import os\n",
    "import pandas as pd\n",
    "import geopandas as gpd\n",
    "import plotly.express as px\n",
    "from datetime import datetime\n",
    "import plotly.graph_objects as go\n",
    "from parcllabs import ParclLabsClient\n",
    "import plotly.io as pio\n",
    "from PIL import Image\n",
    "import base64\n",
    "from io import BytesIO\n",
    "\n",
    "\n",
    "# Create a ParclLabsClient instance\n",
    "client = ParclLabsClient(\n",
    "    api_key=os.environ.get('PARCL_LABS_API_KEY', \"<your Parcl Labs API key if not set as environment variable>\"), \n",
    "    limit=1000, \n",
    "    turbo_mode=True # set turbo mode to True\n",
    ")"
   ]
  },
  {
   "cell_type": "code",
   "execution_count": null,
   "metadata": {},
   "outputs": [],
   "source": [
    "# We now search for the Washington DC market so we can identify the parcl id to download the data\n",
    "markets = client.search.markets.retrieve(\n",
    "    query = 'Washington',\n",
    "    location_type = 'city',\n",
    "    sort_by='TOTAL_POPULATION',  # Sort by total population\n",
    "    sort_order='DESC',           # In descending order\n",
    "    limit=100                    # Limit results to top 100 metros\n",
    ")\n",
    "# subset to only include the Washington DC market by selecting the first row\n",
    "market_for_analysis_id = int(markets.iloc[0]['parcl_id']) # make sure the value is an integer\n",
    "market_for_analysis_name = markets.iloc[0]['name']\n",
    "market_for_analysis_state = markets.iloc[0]['state_abbreviation']\n",
    "print(f'The market for analysis id is {market_for_analysis_id} and the name is {market_for_analysis_name}'\n",
    "      f' in the {market_for_analysis_state} state')\n"
   ]
  },
  {
   "cell_type": "markdown",
   "metadata": {},
   "source": [
    "\n",
    "This API call retrieves all single family homes currently available for sale on Washington D.C. We have a wide variety of available filters see the [documentation](https://docs.parcllabs.com/reference/search_v1_property_search_get) but in this case we are interested in the `property_type` and the `current_on_market_flag` which will tell us what market is active at the time of the query. This brand new functionality on our API is updated daily so you will get the most up to date information on the real estate market. \n",
    "\n",
    "Calling this endpoint **can consume a lot of credits** as we will pull every property that is active in the specific market so be cafeful."
   ]
  },
  {
   "cell_type": "code",
   "execution_count": null,
   "metadata": {},
   "outputs": [],
   "source": [
    "# now we can search for all the single family homes for sale in the Washington DC market\n",
    "\n",
    "# Define the search parameters,\n",
    "search_params = {\n",
    "    'parcl_ids': [market_for_analysis_id],  # Required\n",
    "    'property_type': 'SINGLE_FAMILY',  # Required\n",
    "    'current_on_market_flag':True,\n",
    "    #'current_owner_occupied_flag': True,\n",
    "    #'current_investor_owned_flag': False\n",
    "}\n",
    "\n",
    "# We search for properties in the market we defined above using the parameters that are not commented out.\n",
    "active_properties_dc = client.property.search.retrieve(**search_params)\n",
    "\n",
    "print(f\"Found {len(active_properties_dc)} active single family homes in Washington D.C.\")"
   ]
  },
  {
   "cell_type": "code",
   "execution_count": null,
   "metadata": {},
   "outputs": [],
   "source": [
    "# explore the data\n",
    "active_properties_dc.head()\n"
   ]
  },
  {
   "cell_type": "markdown",
   "metadata": {},
   "source": [
    "With this information we can get the particular information of prices of homes for sale in Washington D.C. "
   ]
  },
  {
   "cell_type": "code",
   "execution_count": null,
   "metadata": {},
   "outputs": [],
   "source": [
    "# now retrieve information for sale events to get prices\n",
    "# Pass the parcl_property_ids from the search results to a list named search_results_ids to retrieve the sale events \n",
    "# for those properties.\n",
    "search_results_ids = active_properties_dc['parcl_property_id'].tolist()\n",
    "\n",
    "# Define the parameters we want to use in the search for property events.\n",
    "property_events_parameters = {\n",
    "    'parcl_property_ids': search_results_ids,\n",
    "    'event_type': 'LISTING',\n",
    "    #'entity_owner_name': None, # Specify one of the options or None\n",
    "    #'start_date': '2020-01-01',\n",
    "    #'end_date': '2021-01-01',\n",
    "}\n",
    "\n",
    "# we can pass the search_params dictionary to the retrieve method to get the search results using **property_events_parameters\n",
    "listing_events = client.property.events.retrieve(\n",
    "    **property_events_parameters\n",
    "    )\n",
    "\n",
    "print(f\"Found {len(listing_events)} events matching the criteria.\")\n",
    "print(listing_events.head(2))"
   ]
  },
  {
   "cell_type": "code",
   "execution_count": null,
   "metadata": {},
   "outputs": [],
   "source": [
    "# then we merge with the original properties, get the latest price\n",
    "# Assuming your DataFrame is named 'listing_events'\n",
    "last_events = (listing_events\n",
    "               .sort_values(by=['parcl_property_id','event_date'], ascending=[True,True])\n",
    "               .groupby('parcl_property_id')\n",
    "               .last()\n",
    "               .reset_index())\n",
    "\n",
    "last_events.head(2)\n"
   ]
  },
  {
   "cell_type": "code",
   "execution_count": null,
   "metadata": {},
   "outputs": [],
   "source": [
    "# merge for the map\n",
    "pd.set_option('display.max_columns', None)\n",
    "listing_events_final =active_properties_dc.merge(last_events[[\n",
    "    'parcl_property_id',\n",
    "    'event_date',\n",
    "    'price'\n",
    "    ]], \n",
    "    on='parcl_property_id', \n",
    "    how='left')\n",
    "listing_events_final.head(1)"
   ]
  },
  {
   "cell_type": "code",
   "execution_count": 28,
   "metadata": {},
   "outputs": [
    {
     "name": "stderr",
     "output_type": "stream",
     "text": [
      "/var/folders/my/sxxq1f894438zpwvw5mv83p40000gn/T/ipykernel_68040/1802297315.py:48: DeprecationWarning:\n",
      "\n",
      "*scatter_mapbox* is deprecated! Use *scatter_map* instead. Learn more at: https://plotly.com/python/mapbox-to-maplibre/\n",
      "\n"
     ]
    },
    {
     "name": "stdout",
     "output_type": "stream",
     "text": [
      "Figure saved as dc_properties_map.png\n"
     ]
    },
    {
     "data": {
      "application/vnd.plotly.v1+json": {
       "config": {
        "plotlyServerURL": "https://plot.ly"
       },
       "data": [
        {
         "customdata": [
          [
           "<b style='font-family: Arial, sans-serif; font-size: 14px;'>3434 OAKWOOD TER NW</b><br><span style='font-family: Arial, sans-serif;'>WASHINGTON, DC, 20010</span><br><span style='font-family: Arial, sans-serif;'><b>Type:</b> SINGLE_FAMILY</span><br><span style='font-family: Arial, sans-serif;'><b>Beds:</b> 5.0</span><br><span style='font-family: Arial, sans-serif;'><b>Baths:</b> 4.0</span><br><span style='font-family: Arial, sans-serif;'><b>Sq Ft:</b> 4,791</span><br><span style='font-family: Arial, sans-serif;'><b>Year Built:</b> 1909</span><br><span style='font-family: Arial, sans-serif;'><b>Price:</b> $1,799,000</span>",
           38.935145,
           -77.038584
          ],
          [
           "<b style='font-family: Arial, sans-serif; font-size: 14px;'>2605 MONROE ST NE</b><br><span style='font-family: Arial, sans-serif;'>WASHINGTON, DC, 20018</span><br><span style='font-family: Arial, sans-serif;'><b>Type:</b> SINGLE_FAMILY</span><br><span style='font-family: Arial, sans-serif;'><b>Beds:</b> 3.0</span><br><span style='font-family: Arial, sans-serif;'><b>Baths:</b> 1.5</span><br><span style='font-family: Arial, sans-serif;'><b>Sq Ft:</b> 1,444</span><br><span style='font-family: Arial, sans-serif;'><b>Year Built:</b> 1920</span><br><span style='font-family: Arial, sans-serif;'><b>Price:</b> $500,000</span>",
           38.932884,
           -76.969634
          ],
          [
           "<b style='font-family: Arial, sans-serif; font-size: 14px;'>1248 31ST ST NW</b><br><span style='font-family: Arial, sans-serif;'>WASHINGTON, DC, 20007</span><br><span style='font-family: Arial, sans-serif;'><b>Type:</b> SINGLE_FAMILY</span><br><span style='font-family: Arial, sans-serif;'><b>Beds:</b> 5.0</span><br><span style='font-family: Arial, sans-serif;'><b>Baths:</b> 5.5</span><br><span style='font-family: Arial, sans-serif;'><b>Sq Ft:</b> 4,982</span><br><span style='font-family: Arial, sans-serif;'><b>Price:</b> $3,195,000</span>",
           38.906384,
           -77.061462
          ],
          [
           "<b style='font-family: Arial, sans-serif; font-size: 14px;'>5643 CLAY PL NE</b><br><span style='font-family: Arial, sans-serif;'>WASHINGTON, DC, 20019</span><br><span style='font-family: Arial, sans-serif;'><b>Type:</b> SINGLE_FAMILY</span><br><span style='font-family: Arial, sans-serif;'><b>Beds:</b> 4.0</span><br><span style='font-family: Arial, sans-serif;'><b>Baths:</b> 3.0</span><br><span style='font-family: Arial, sans-serif;'><b>Sq Ft:</b> 1,800</span><br><span style='font-family: Arial, sans-serif;'><b>Year Built:</b> 1943</span><br><span style='font-family: Arial, sans-serif;'><b>Price:</b> $488,000</span>",
           38.893609,
           -76.919339
          ],
          [
           "<b style='font-family: Arial, sans-serif; font-size: 14px;'>3826 VAN NESS ST NW</b><br><span style='font-family: Arial, sans-serif;'>WASHINGTON, DC, 20016</span><br><span style='font-family: Arial, sans-serif;'><b>Type:</b> SINGLE_FAMILY</span><br><span style='font-family: Arial, sans-serif;'><b>Beds:</b> 3.0</span><br><span style='font-family: Arial, sans-serif;'><b>Baths:</b> 2.0</span><br><span style='font-family: Arial, sans-serif;'><b>Sq Ft:</b> 1,232</span><br><span style='font-family: Arial, sans-serif;'><b>Year Built:</b> 1927</span><br><span style='font-family: Arial, sans-serif;'><b>Price:</b> $1,995,000</span>",
           38.94294,
           -77.076021
          ],
          [
           "<b style='font-family: Arial, sans-serif; font-size: 14px;'>3115 G ST SE</b><br><span style='font-family: Arial, sans-serif;'>WASHINGTON, DC, 20019</span><br><span style='font-family: Arial, sans-serif;'><b>Type:</b> SINGLE_FAMILY</span><br><span style='font-family: Arial, sans-serif;'><b>Beds:</b> 2.0</span><br><span style='font-family: Arial, sans-serif;'><b>Baths:</b> 1.0</span><br><span style='font-family: Arial, sans-serif;'><b>Sq Ft:</b> 840</span><br><span style='font-family: Arial, sans-serif;'><b>Year Built:</b> 1926</span><br><span style='font-family: Arial, sans-serif;'><b>Price:</b> $255,000</span>",
           38.879991,
           -76.962113
          ],
          [
           "<b style='font-family: Arial, sans-serif; font-size: 14px;'>3027 YOST PL NE</b><br><span style='font-family: Arial, sans-serif;'>WASHINGTON, DC, 20018</span><br><span style='font-family: Arial, sans-serif;'><b>Type:</b> SINGLE_FAMILY</span><br><span style='font-family: Arial, sans-serif;'><b>Beds:</b> 2.0</span><br><span style='font-family: Arial, sans-serif;'><b>Baths:</b> 1.0</span><br><span style='font-family: Arial, sans-serif;'><b>Sq Ft:</b> 1,079</span><br><span style='font-family: Arial, sans-serif;'><b>Year Built:</b> 1926</span><br><span style='font-family: Arial, sans-serif;'><b>Price:</b> $501,000</span>",
           38.9259,
           -76.964839
          ],
          [
           "<b style='font-family: Arial, sans-serif; font-size: 14px;'>2830 FORT BAKER DR SE</b><br><span style='font-family: Arial, sans-serif;'>WASHINGTON, DC, 20020</span><br><span style='font-family: Arial, sans-serif;'><b>Type:</b> SINGLE_FAMILY</span><br><span style='font-family: Arial, sans-serif;'><b>Beds:</b> 3.0</span><br><span style='font-family: Arial, sans-serif;'><b>Baths:</b> 2.0</span><br><span style='font-family: Arial, sans-serif;'><b>Sq Ft:</b> 1,922</span><br><span style='font-family: Arial, sans-serif;'><b>Year Built:</b> 1952</span><br><span style='font-family: Arial, sans-serif;'><b>Price:</b> $509,900</span>",
           38.864372,
           -76.967571
          ],
          [
           "<b style='font-family: Arial, sans-serif; font-size: 14px;'>4358 ARGYLE TER NW</b><br><span style='font-family: Arial, sans-serif;'>WASHINGTON, DC, 20011</span><br><span style='font-family: Arial, sans-serif;'><b>Type:</b> SINGLE_FAMILY</span><br><span style='font-family: Arial, sans-serif;'><b>Beds:</b> 7.0</span><br><span style='font-family: Arial, sans-serif;'><b>Baths:</b> 5.5</span><br><span style='font-family: Arial, sans-serif;'><b>Sq Ft:</b> 4,895</span><br><span style='font-family: Arial, sans-serif;'><b>Year Built:</b> 1931</span><br><span style='font-family: Arial, sans-serif;'><b>Price:</b> $2,299,999</span>",
           38.944317,
           -77.042387
          ],
          [
           "<b style='font-family: Arial, sans-serif; font-size: 14px;'>3904 18TH ST NW</b><br><span style='font-family: Arial, sans-serif;'>WASHINGTON, DC, 20011</span><br><span style='font-family: Arial, sans-serif;'><b>Type:</b> SINGLE_FAMILY</span><br><span style='font-family: Arial, sans-serif;'><b>Beds:</b> 4.0</span><br><span style='font-family: Arial, sans-serif;'><b>Baths:</b> 4.5</span><br><span style='font-family: Arial, sans-serif;'><b>Sq Ft:</b> 3,594</span><br><span style='font-family: Arial, sans-serif;'><b>Year Built:</b> 1939</span><br><span style='font-family: Arial, sans-serif;'><b>Price:</b> $2,395,000</span>",
           38.939134,
           -77.041954
          ],
          [
           "<b style='font-family: Arial, sans-serif; font-size: 14px;'>322 56TH ST NE</b><br><span style='font-family: Arial, sans-serif;'>WASHINGTON, DC, 20019</span><br><span style='font-family: Arial, sans-serif;'><b>Type:</b> SINGLE_FAMILY</span><br><span style='font-family: Arial, sans-serif;'><b>Beds:</b> 4.0</span><br><span style='font-family: Arial, sans-serif;'><b>Baths:</b> 3.5</span><br><span style='font-family: Arial, sans-serif;'><b>Sq Ft:</b> 2,300</span><br><span style='font-family: Arial, sans-serif;'><b>Year Built:</b> 2025</span>",
           38.893817,
           -76.921146
          ],
          [
           "<b style='font-family: Arial, sans-serif; font-size: 14px;'>4506 BROOKS ST NE</b><br><span style='font-family: Arial, sans-serif;'>WASHINGTON, DC, 20019</span><br><span style='font-family: Arial, sans-serif;'><b>Type:</b> SINGLE_FAMILY</span><br><span style='font-family: Arial, sans-serif;'><b>Beds:</b> 2.0</span><br><span style='font-family: Arial, sans-serif;'><b>Baths:</b> 2.0</span><br><span style='font-family: Arial, sans-serif;'><b>Sq Ft:</b> 1,626</span><br><span style='font-family: Arial, sans-serif;'><b>Year Built:</b> 1917</span><br><span style='font-family: Arial, sans-serif;'><b>Price:</b> $150,000</span>",
           38.893365,
           -76.936992
          ],
          [
           "<b style='font-family: Arial, sans-serif; font-size: 14px;'>5102 CALL PL SE</b><br><span style='font-family: Arial, sans-serif;'>WASHINGTON, DC, 20019</span><br><span style='font-family: Arial, sans-serif;'><b>Type:</b> SINGLE_FAMILY</span><br><span style='font-family: Arial, sans-serif;'><b>Beds:</b> 4.0</span><br><span style='font-family: Arial, sans-serif;'><b>Baths:</b> 2.0</span><br><span style='font-family: Arial, sans-serif;'><b>Sq Ft:</b> 1,971</span><br><span style='font-family: Arial, sans-serif;'><b>Year Built:</b> 1965</span><br><span style='font-family: Arial, sans-serif;'><b>Price:</b> $550,000</span>",
           38.884507,
           -76.928207
          ],
          [
           "<b style='font-family: Arial, sans-serif; font-size: 14px;'>3619 AUSTIN ST SE</b><br><span style='font-family: Arial, sans-serif;'>WASHINGTON, DC, 20020</span><br><span style='font-family: Arial, sans-serif;'><b>Type:</b> SINGLE_FAMILY</span><br><span style='font-family: Arial, sans-serif;'><b>Beds:</b> 1.0</span><br><span style='font-family: Arial, sans-serif;'><b>Baths:</b> 1.0</span><br><span style='font-family: Arial, sans-serif;'><b>Sq Ft:</b> 1,108</span><br><span style='font-family: Arial, sans-serif;'><b>Year Built:</b> 1928</span><br><span style='font-family: Arial, sans-serif;'><b>Price:</b> $500,000</span>",
           38.86126,
           -76.95531
          ],
          [
           "<b style='font-family: Arial, sans-serif; font-size: 14px;'>3819 KANAWHA ST NW</b><br><span style='font-family: Arial, sans-serif;'>WASHINGTON, DC, 20015</span><br><span style='font-family: Arial, sans-serif;'><b>Type:</b> SINGLE_FAMILY</span><br><span style='font-family: Arial, sans-serif;'><b>Beds:</b> 5.0</span><br><span style='font-family: Arial, sans-serif;'><b>Baths:</b> 3.5</span><br><span style='font-family: Arial, sans-serif;'><b>Sq Ft:</b> 3,400</span><br><span style='font-family: Arial, sans-serif;'><b>Year Built:</b> 1912</span><br><span style='font-family: Arial, sans-serif;'><b>Price:</b> $2,195,000</span>",
           38.960513,
           -77.076611
          ],
          [
           "<b style='font-family: Arial, sans-serif; font-size: 14px;'>1406 INGRAHAM ST NW</b><br><span style='font-family: Arial, sans-serif;'>WASHINGTON, DC, 20011</span><br><span style='font-family: Arial, sans-serif;'><b>Type:</b> SINGLE_FAMILY</span><br><span style='font-family: Arial, sans-serif;'><b>Beds:</b> 4.0</span><br><span style='font-family: Arial, sans-serif;'><b>Baths:</b> 4.0</span><br><span style='font-family: Arial, sans-serif;'><b>Sq Ft:</b> 3,820</span><br><span style='font-family: Arial, sans-serif;'><b>Year Built:</b> 1924</span><br><span style='font-family: Arial, sans-serif;'><b>Price:</b> $1,300,000</span>",
           38.953755,
           -77.034066
          ],
          [
           "<b style='font-family: Arial, sans-serif; font-size: 14px;'>114 SHERIDAN ST NW</b><br><span style='font-family: Arial, sans-serif;'>WASHINGTON, DC, 20011</span><br><span style='font-family: Arial, sans-serif;'><b>Type:</b> SINGLE_FAMILY</span><br><span style='font-family: Arial, sans-serif;'><b>Beds:</b> 3.0</span><br><span style='font-family: Arial, sans-serif;'><b>Baths:</b> 3.0</span><br><span style='font-family: Arial, sans-serif;'><b>Sq Ft:</b> 2,359</span><br><span style='font-family: Arial, sans-serif;'><b>Year Built:</b> 1926</span><br><span style='font-family: Arial, sans-serif;'><b>Price:</b> $865,000</span>",
           38.965986,
           -77.013272
          ],
          [
           "<b style='font-family: Arial, sans-serif; font-size: 14px;'>1908 IRVING ST NE</b><br><span style='font-family: Arial, sans-serif;'>WASHINGTON, DC, 20018</span><br><span style='font-family: Arial, sans-serif;'><b>Type:</b> SINGLE_FAMILY</span><br><span style='font-family: Arial, sans-serif;'><b>Beds:</b> 3.0</span><br><span style='font-family: Arial, sans-serif;'><b>Baths:</b> 2.0</span><br><span style='font-family: Arial, sans-serif;'><b>Sq Ft:</b> 1,444</span><br><span style='font-family: Arial, sans-serif;'><b>Year Built:</b> 1921</span><br><span style='font-family: Arial, sans-serif;'><b>Price:</b> $980,000</span>",
           38.929414,
           -76.977154
          ],
          [
           "<b style='font-family: Arial, sans-serif; font-size: 14px;'>1317 GALLATIN ST NW</b><br><span style='font-family: Arial, sans-serif;'>WASHINGTON, DC, 20011</span><br><span style='font-family: Arial, sans-serif;'><b>Type:</b> SINGLE_FAMILY</span><br><span style='font-family: Arial, sans-serif;'><b>Beds:</b> 5.0</span><br><span style='font-family: Arial, sans-serif;'><b>Baths:</b> 3.0</span><br><span style='font-family: Arial, sans-serif;'><b>Sq Ft:</b> 2,736</span><br><span style='font-family: Arial, sans-serif;'><b>Year Built:</b> 1917</span><br><span style='font-family: Arial, sans-serif;'><b>Price:</b> $750,000</span>",
           38.952185,
           -77.031187
          ],
          [
           "<b style='font-family: Arial, sans-serif; font-size: 14px;'>3418 RESERVOIR RD NW</b><br><span style='font-family: Arial, sans-serif;'>WASHINGTON, DC, 20007</span><br><span style='font-family: Arial, sans-serif;'><b>Type:</b> SINGLE_FAMILY</span><br><span style='font-family: Arial, sans-serif;'><b>Beds:</b> 4.0</span><br><span style='font-family: Arial, sans-serif;'><b>Baths:</b> 3.5</span><br><span style='font-family: Arial, sans-serif;'><b>Sq Ft:</b> 3,100</span><br><span style='font-family: Arial, sans-serif;'><b>Year Built:</b> 2023</span><br><span style='font-family: Arial, sans-serif;'><b>Price:</b> $4,590,000</span>",
           38.912375,
           -77.068577
          ],
          [
           "<b style='font-family: Arial, sans-serif; font-size: 14px;'>4641 DEXTER ST NW</b><br><span style='font-family: Arial, sans-serif;'>WASHINGTON, DC, 20007</span><br><span style='font-family: Arial, sans-serif;'><b>Type:</b> SINGLE_FAMILY</span><br><span style='font-family: Arial, sans-serif;'><b>Beds:</b> 6.0</span><br><span style='font-family: Arial, sans-serif;'><b>Baths:</b> 6.5</span><br><span style='font-family: Arial, sans-serif;'><b>Sq Ft:</b> 9,084</span><br><span style='font-family: Arial, sans-serif;'><b>Year Built:</b> 1951</span><br><span style='font-family: Arial, sans-serif;'><b>Price:</b> $7,600,000</span>",
           38.925633,
           -77.091338
          ],
          [
           "<b style='font-family: Arial, sans-serif; font-size: 14px;'>4501 CATHEDRAL AVE NW</b><br><span style='font-family: Arial, sans-serif;'>WASHINGTON, DC, 20016</span><br><span style='font-family: Arial, sans-serif;'><b>Type:</b> SINGLE_FAMILY</span><br><span style='font-family: Arial, sans-serif;'><b>Beds:</b> 4.0</span><br><span style='font-family: Arial, sans-serif;'><b>Baths:</b> 3.5</span><br><span style='font-family: Arial, sans-serif;'><b>Sq Ft:</b> 4,248</span><br><span style='font-family: Arial, sans-serif;'><b>Year Built:</b> 1925</span><br><span style='font-family: Arial, sans-serif;'><b>Price:</b> $2,950,000</span>",
           38.930475,
           -77.088975
          ],
          [
           "<b style='font-family: Arial, sans-serif; font-size: 14px;'>3406 MACOMB ST NW</b><br><span style='font-family: Arial, sans-serif;'>WASHINGTON, DC, 20016</span><br><span style='font-family: Arial, sans-serif;'><b>Type:</b> SINGLE_FAMILY</span><br><span style='font-family: Arial, sans-serif;'><b>Beds:</b> 7.0</span><br><span style='font-family: Arial, sans-serif;'><b>Baths:</b> 4.5</span><br><span style='font-family: Arial, sans-serif;'><b>Sq Ft:</b> 3,636</span><br><span style='font-family: Arial, sans-serif;'><b>Year Built:</b> 1920</span><br><span style='font-family: Arial, sans-serif;'><b>Price:</b> $3,800,000</span>",
           38.933187,
           -77.067142
          ],
          [
           "<b style='font-family: Arial, sans-serif; font-size: 14px;'>3737 HORNER PL SE</b><br><span style='font-family: Arial, sans-serif;'>WASHINGTON, DC, 20032</span><br><span style='font-family: Arial, sans-serif;'><b>Type:</b> SINGLE_FAMILY</span><br><span style='font-family: Arial, sans-serif;'><b>Beds:</b> 3.0</span><br><span style='font-family: Arial, sans-serif;'><b>Baths:</b> 2.0</span><br><span style='font-family: Arial, sans-serif;'><b>Sq Ft:</b> 1,388</span><br><span style='font-family: Arial, sans-serif;'><b>Year Built:</b> 1941</span><br><span style='font-family: Arial, sans-serif;'><b>Price:</b> $300,000</span>",
           38.836496,
           -77.004589
          ],
          [
           "<b style='font-family: Arial, sans-serif; font-size: 14px;'>712 ALABAMA AVE SE</b><br><span style='font-family: Arial, sans-serif;'>WASHINGTON, DC, 20032</span><br><span style='font-family: Arial, sans-serif;'><b>Type:</b> SINGLE_FAMILY</span><br><span style='font-family: Arial, sans-serif;'><b>Beds:</b> 3.0</span><br><span style='font-family: Arial, sans-serif;'><b>Baths:</b> 2.5</span><br><span style='font-family: Arial, sans-serif;'><b>Sq Ft:</b> 1,564</span><br><span style='font-family: Arial, sans-serif;'><b>Year Built:</b> 1966</span><br><span style='font-family: Arial, sans-serif;'><b>Price:</b> $329,000</span>",
           38.843815,
           -76.99529
          ],
          [
           "<b style='font-family: Arial, sans-serif; font-size: 14px;'>4905 QUARLES ST NE</b><br><span style='font-family: Arial, sans-serif;'>WASHINGTON, DC, 20019</span><br><span style='font-family: Arial, sans-serif;'><b>Type:</b> SINGLE_FAMILY</span><br><span style='font-family: Arial, sans-serif;'><b>Beds:</b> 4.0</span><br><span style='font-family: Arial, sans-serif;'><b>Baths:</b> 1.5</span><br><span style='font-family: Arial, sans-serif;'><b>Sq Ft:</b> 1,456</span><br><span style='font-family: Arial, sans-serif;'><b>Year Built:</b> 1922</span><br><span style='font-family: Arial, sans-serif;'><b>Price:</b> $400,000</span>",
           38.908186,
           -76.931052
          ],
          [
           "<b style='font-family: Arial, sans-serif; font-size: 14px;'>4304 RIVER RD NW</b><br><span style='font-family: Arial, sans-serif;'>WASHINGTON, DC, 20016</span><br><span style='font-family: Arial, sans-serif;'><b>Type:</b> SINGLE_FAMILY</span><br><span style='font-family: Arial, sans-serif;'><b>Beds:</b> 4.0</span><br><span style='font-family: Arial, sans-serif;'><b>Baths:</b> 2.5</span><br><span style='font-family: Arial, sans-serif;'><b>Sq Ft:</b> 2,601</span><br><span style='font-family: Arial, sans-serif;'><b>Year Built:</b> 1922</span><br><span style='font-family: Arial, sans-serif;'><b>Price:</b> $1,160,000</span>",
           38.951362,
           -77.084415
          ],
          [
           "<b style='font-family: Arial, sans-serif; font-size: 14px;'>3316 OXON RUN RD SE</b><br><span style='font-family: Arial, sans-serif;'>WASHINGTON, DC, 20032</span><br><span style='font-family: Arial, sans-serif;'><b>Type:</b> SINGLE_FAMILY</span><br><span style='font-family: Arial, sans-serif;'><b>Beds:</b> 4.0</span><br><span style='font-family: Arial, sans-serif;'><b>Baths:</b> 2.5</span><br><span style='font-family: Arial, sans-serif;'><b>Sq Ft:</b> 2,800</span><br><span style='font-family: Arial, sans-serif;'><b>Year Built:</b> 2003</span><br><span style='font-family: Arial, sans-serif;'><b>Price:</b> $558,900</span>",
           38.840448,
           -76.995356
          ],
          [
           "<b style='font-family: Arial, sans-serif; font-size: 14px;'>150 CHESAPEAKE ST SW</b><br><span style='font-family: Arial, sans-serif;'>WASHINGTON, DC, 20032</span><br><span style='font-family: Arial, sans-serif;'><b>Type:</b> SINGLE_FAMILY</span><br><span style='font-family: Arial, sans-serif;'><b>Beds:</b> 3.0</span><br><span style='font-family: Arial, sans-serif;'><b>Baths:</b> 2.5</span><br><span style='font-family: Arial, sans-serif;'><b>Sq Ft:</b> 1,768</span><br><span style='font-family: Arial, sans-serif;'><b>Year Built:</b> 1941</span><br><span style='font-family: Arial, sans-serif;'><b>Price:</b> $509,000</span>",
           38.8284629,
           -77.0104974
          ],
          [
           "<b style='font-family: Arial, sans-serif; font-size: 14px;'>2038 34TH ST SE</b><br><span style='font-family: Arial, sans-serif;'>WASHINGTON, DC, 20020</span><br><span style='font-family: Arial, sans-serif;'><b>Type:</b> SINGLE_FAMILY</span><br><span style='font-family: Arial, sans-serif;'><b>Beds:</b> 5.0</span><br><span style='font-family: Arial, sans-serif;'><b>Baths:</b> 3.5</span><br><span style='font-family: Arial, sans-serif;'><b>Sq Ft:</b> 2,268</span><br><span style='font-family: Arial, sans-serif;'><b>Year Built:</b> 1938</span><br><span style='font-family: Arial, sans-serif;'><b>Price:</b> $630,000</span>",
           38.864289,
           -76.957691
          ],
          [
           "<b style='font-family: Arial, sans-serif; font-size: 14px;'>1518 W ST SE</b><br><span style='font-family: Arial, sans-serif;'>WASHINGTON, DC, 20020</span><br><span style='font-family: Arial, sans-serif;'><b>Type:</b> SINGLE_FAMILY</span><br><span style='font-family: Arial, sans-serif;'><b>Beds:</b> 2.0</span><br><span style='font-family: Arial, sans-serif;'><b>Baths:</b> 1.5</span><br><span style='font-family: Arial, sans-serif;'><b>Sq Ft:</b> 1,714</span><br><span style='font-family: Arial, sans-serif;'><b>Year Built:</b> 1905</span><br><span style='font-family: Arial, sans-serif;'><b>Price:</b> $525,000</span>",
           38.863956,
           -76.983176
          ],
          [
           "<b style='font-family: Arial, sans-serif; font-size: 14px;'>1321 LONGFELLOW ST NW</b><br><span style='font-family: Arial, sans-serif;'>WASHINGTON, DC, 20011</span><br><span style='font-family: Arial, sans-serif;'><b>Type:</b> SINGLE_FAMILY</span><br><span style='font-family: Arial, sans-serif;'><b>Beds:</b> 6.0</span><br><span style='font-family: Arial, sans-serif;'><b>Baths:</b> 4.0</span><br><span style='font-family: Arial, sans-serif;'><b>Sq Ft:</b> 3,078</span><br><span style='font-family: Arial, sans-serif;'><b>Year Built:</b> 1917</span><br><span style='font-family: Arial, sans-serif;'><b>Price:</b> $1,249,900</span>",
           38.957613,
           -77.030987
          ],
          [
           "<b style='font-family: Arial, sans-serif; font-size: 14px;'>3016 THAYER ST NE</b><br><span style='font-family: Arial, sans-serif;'>WASHINGTON, DC, 20018</span><br><span style='font-family: Arial, sans-serif;'><b>Type:</b> SINGLE_FAMILY</span><br><span style='font-family: Arial, sans-serif;'><b>Beds:</b> 4.0</span><br><span style='font-family: Arial, sans-serif;'><b>Baths:</b> 4.5</span><br><span style='font-family: Arial, sans-serif;'><b>Sq Ft:</b> 2,137</span><br><span style='font-family: Arial, sans-serif;'><b>Year Built:</b> 1927</span><br><span style='font-family: Arial, sans-serif;'><b>Price:</b> $949,900</span>",
           38.928162,
           -76.972587
          ],
          [
           "<b style='font-family: Arial, sans-serif; font-size: 14px;'>3307 NEWARK ST NW</b><br><span style='font-family: Arial, sans-serif;'>WASHINGTON, DC, 20008</span><br><span style='font-family: Arial, sans-serif;'><b>Type:</b> SINGLE_FAMILY</span><br><span style='font-family: Arial, sans-serif;'><b>Beds:</b> 7.0</span><br><span style='font-family: Arial, sans-serif;'><b>Baths:</b> 4.5</span><br><span style='font-family: Arial, sans-serif;'><b>Sq Ft:</b> 4,383</span><br><span style='font-family: Arial, sans-serif;'><b>Year Built:</b> 1904</span><br><span style='font-family: Arial, sans-serif;'><b>Price:</b> $3,995,000</span>",
           38.93494,
           -77.065269
          ],
          [
           "<b style='font-family: Arial, sans-serif; font-size: 14px;'>2428 SOUTH DAKOTA AVE NE</b><br><span style='font-family: Arial, sans-serif;'>WASHINGTON, DC, 20018</span><br><span style='font-family: Arial, sans-serif;'><b>Type:</b> SINGLE_FAMILY</span><br><span style='font-family: Arial, sans-serif;'><b>Beds:</b> 4.0</span><br><span style='font-family: Arial, sans-serif;'><b>Baths:</b> 2.0</span><br><span style='font-family: Arial, sans-serif;'><b>Sq Ft:</b> 2,304</span><br><span style='font-family: Arial, sans-serif;'><b>Year Built:</b> 1950</span><br><span style='font-family: Arial, sans-serif;'><b>Price:</b> $650,000</span>",
           38.923146,
           -76.962776
          ],
          [
           "<b style='font-family: Arial, sans-serif; font-size: 14px;'>2112 BRANCH AVE SE</b><br><span style='font-family: Arial, sans-serif;'>WASHINGTON, DC, 20020</span><br><span style='font-family: Arial, sans-serif;'><b>Type:</b> SINGLE_FAMILY</span><br><span style='font-family: Arial, sans-serif;'><b>Beds:</b> 5.0</span><br><span style='font-family: Arial, sans-serif;'><b>Baths:</b> 4.0</span><br><span style='font-family: Arial, sans-serif;'><b>Sq Ft:</b> 3,153</span><br><span style='font-family: Arial, sans-serif;'><b>Year Built:</b> 1937</span><br><span style='font-family: Arial, sans-serif;'><b>Price:</b> $825,000</span>",
           38.864386,
           -76.958945
          ],
          [
           "<b style='font-family: Arial, sans-serif; font-size: 14px;'>5700 BLAIR RD NE</b><br><span style='font-family: Arial, sans-serif;'>WASHINGTON, DC, 20011</span><br><span style='font-family: Arial, sans-serif;'><b>Type:</b> SINGLE_FAMILY</span><br><span style='font-family: Arial, sans-serif;'><b>Beds:</b> 5.0</span><br><span style='font-family: Arial, sans-serif;'><b>Baths:</b> 4.5</span><br><span style='font-family: Arial, sans-serif;'><b>Sq Ft:</b> 3,280</span><br><span style='font-family: Arial, sans-serif;'><b>Year Built:</b> 2020</span><br><span style='font-family: Arial, sans-serif;'><b>Price:</b> $995,000</span>",
           38.958914,
           -77.008819
          ],
          [
           "<b style='font-family: Arial, sans-serif; font-size: 14px;'>3082 CLINTON ST NE</b><br><span style='font-family: Arial, sans-serif;'>WASHINGTON, DC, 20018</span><br><span style='font-family: Arial, sans-serif;'><b>Type:</b> SINGLE_FAMILY</span><br><span style='font-family: Arial, sans-serif;'><b>Beds:</b> 5.0</span><br><span style='font-family: Arial, sans-serif;'><b>Baths:</b> 3.0</span><br><span style='font-family: Arial, sans-serif;'><b>Sq Ft:</b> 2,625</span><br><span style='font-family: Arial, sans-serif;'><b>Year Built:</b> 1941</span><br><span style='font-family: Arial, sans-serif;'><b>Price:</b> $775,000</span>",
           38.932542,
           -76.964359
          ],
          [
           "<b style='font-family: Arial, sans-serif; font-size: 14px;'>4914 3RD ST NW</b><br><span style='font-family: Arial, sans-serif;'>WASHINGTON, DC, 20011</span><br><span style='font-family: Arial, sans-serif;'><b>Type:</b> SINGLE_FAMILY</span><br><span style='font-family: Arial, sans-serif;'><b>Beds:</b> 4.0</span><br><span style='font-family: Arial, sans-serif;'><b>Baths:</b> 4.0</span><br><span style='font-family: Arial, sans-serif;'><b>Sq Ft:</b> 2,400</span><br><span style='font-family: Arial, sans-serif;'><b>Year Built:</b> 1932</span><br><span style='font-family: Arial, sans-serif;'><b>Price:</b> $849,000</span>",
           38.950599,
           -77.01612
          ],
          [
           "<b style='font-family: Arial, sans-serif; font-size: 14px;'>2800 32ND ST NW</b><br><span style='font-family: Arial, sans-serif;'>WASHINGTON, DC, 20008</span><br><span style='font-family: Arial, sans-serif;'><b>Type:</b> SINGLE_FAMILY</span><br><span style='font-family: Arial, sans-serif;'><b>Beds:</b> 6.0</span><br><span style='font-family: Arial, sans-serif;'><b>Baths:</b> 5.5</span><br><span style='font-family: Arial, sans-serif;'><b>Sq Ft:</b> 6,411</span><br><span style='font-family: Arial, sans-serif;'><b>Price:</b> $6,900,000</span>",
           38.926932,
           -77.063773
          ],
          [
           "<b style='font-family: Arial, sans-serif; font-size: 14px;'>225 56TH PL NE</b><br><span style='font-family: Arial, sans-serif;'>WASHINGTON, DC, 20019</span><br><span style='font-family: Arial, sans-serif;'><b>Type:</b> SINGLE_FAMILY</span><br><span style='font-family: Arial, sans-serif;'><b>Beds:</b> 6.0</span><br><span style='font-family: Arial, sans-serif;'><b>Baths:</b> 4.5</span><br><span style='font-family: Arial, sans-serif;'><b>Sq Ft:</b> 2,957</span><br><span style='font-family: Arial, sans-serif;'><b>Year Built:</b> 2006</span>",
           38.892126,
           -76.920317
          ],
          [
           "<b style='font-family: Arial, sans-serif; font-size: 14px;'>1401 MONROE ST NE</b><br><span style='font-family: Arial, sans-serif;'>WASHINGTON, DC, 20017</span><br><span style='font-family: Arial, sans-serif;'><b>Type:</b> SINGLE_FAMILY</span><br><span style='font-family: Arial, sans-serif;'><b>Beds:</b> 4.0</span><br><span style='font-family: Arial, sans-serif;'><b>Baths:</b> 3.5</span><br><span style='font-family: Arial, sans-serif;'><b>Sq Ft:</b> 2,631</span><br><span style='font-family: Arial, sans-serif;'><b>Year Built:</b> 1914</span><br><span style='font-family: Arial, sans-serif;'><b>Price:</b> $1,148,000</span>",
           38.93257,
           -76.98615
          ],
          [
           "<b style='font-family: Arial, sans-serif; font-size: 14px;'>7225 WESTERN AVE NW</b><br><span style='font-family: Arial, sans-serif;'>WASHINGTON, DC, 20015</span><br><span style='font-family: Arial, sans-serif;'><b>Type:</b> SINGLE_FAMILY</span><br><span style='font-family: Arial, sans-serif;'><b>Beds:</b> 4.0</span><br><span style='font-family: Arial, sans-serif;'><b>Baths:</b> 3.0</span><br><span style='font-family: Arial, sans-serif;'><b>Sq Ft:</b> 3,062</span><br><span style='font-family: Arial, sans-serif;'><b>Year Built:</b> 1953</span><br><span style='font-family: Arial, sans-serif;'><b>Price:</b> $1,225,000</span>",
           38.983792,
           -77.055689
          ],
          [
           "<b style='font-family: Arial, sans-serif; font-size: 14px;'>3195 WESTOVER DR SE</b><br><span style='font-family: Arial, sans-serif;'>WASHINGTON, DC, 20020</span><br><span style='font-family: Arial, sans-serif;'><b>Type:</b> SINGLE_FAMILY</span><br><span style='font-family: Arial, sans-serif;'><b>Beds:</b> 7.0</span><br><span style='font-family: Arial, sans-serif;'><b>Baths:</b> 6.0</span><br><span style='font-family: Arial, sans-serif;'><b>Sq Ft:</b> 3,921</span><br><span style='font-family: Arial, sans-serif;'><b>Year Built:</b> 1941</span><br><span style='font-family: Arial, sans-serif;'><b>Price:</b> $1,399,900</span>",
           38.867829,
           -76.963524
          ],
          [
           "<b style='font-family: Arial, sans-serif; font-size: 14px;'>1022 BRYANT ST NE</b><br><span style='font-family: Arial, sans-serif;'>WASHINGTON, DC, 20018</span><br><span style='font-family: Arial, sans-serif;'><b>Type:</b> SINGLE_FAMILY</span><br><span style='font-family: Arial, sans-serif;'><b>Beds:</b> 6.0</span><br><span style='font-family: Arial, sans-serif;'><b>Baths:</b> 3.5</span><br><span style='font-family: Arial, sans-serif;'><b>Sq Ft:</b> 2,728</span><br><span style='font-family: Arial, sans-serif;'><b>Year Built:</b> 1917</span><br><span style='font-family: Arial, sans-serif;'><b>Price:</b> $895,000</span>",
           38.921856,
           -76.990445
          ],
          [
           "<b style='font-family: Arial, sans-serif; font-size: 14px;'>3500 GARFIELD ST NW</b><br><span style='font-family: Arial, sans-serif;'>WASHINGTON, DC, 20007</span><br><span style='font-family: Arial, sans-serif;'><b>Type:</b> SINGLE_FAMILY</span><br><span style='font-family: Arial, sans-serif;'><b>Beds:</b> 5.0</span><br><span style='font-family: Arial, sans-serif;'><b>Baths:</b> 3.5</span><br><span style='font-family: Arial, sans-serif;'><b>Sq Ft:</b> 3,556</span><br><span style='font-family: Arial, sans-serif;'><b>Year Built:</b> 1923</span><br><span style='font-family: Arial, sans-serif;'><b>Price:</b> $2,750,000</span>",
           38.927255,
           -77.068834
          ],
          [
           "<b style='font-family: Arial, sans-serif; font-size: 14px;'>4625 TILDEN ST NW</b><br><span style='font-family: Arial, sans-serif;'>WASHINGTON, DC, 20016</span><br><span style='font-family: Arial, sans-serif;'><b>Type:</b> SINGLE_FAMILY</span><br><span style='font-family: Arial, sans-serif;'><b>Beds:</b> 2.0</span><br><span style='font-family: Arial, sans-serif;'><b>Baths:</b> 2.5</span><br><span style='font-family: Arial, sans-serif;'><b>Sq Ft:</b> 1,349</span><br><span style='font-family: Arial, sans-serif;'><b>Year Built:</b> 1951</span><br><span style='font-family: Arial, sans-serif;'><b>Price:</b> $1,400,000</span>",
           38.941458,
           -77.091857
          ],
          [
           "<b style='font-family: Arial, sans-serif; font-size: 14px;'>5135 YUMA ST NW</b><br><span style='font-family: Arial, sans-serif;'>WASHINGTON, DC, 20016</span><br><span style='font-family: Arial, sans-serif;'><b>Type:</b> SINGLE_FAMILY</span><br><span style='font-family: Arial, sans-serif;'><b>Beds:</b> 4.0</span><br><span style='font-family: Arial, sans-serif;'><b>Baths:</b> 6.5</span><br><span style='font-family: Arial, sans-serif;'><b>Sq Ft:</b> 5,420</span><br><span style='font-family: Arial, sans-serif;'><b>Year Built:</b> 1988</span><br><span style='font-family: Arial, sans-serif;'><b>Price:</b> $2,490,000</span>",
           38.946033,
           -77.101885
          ],
          [
           "<b style='font-family: Arial, sans-serif; font-size: 14px;'>1400 MONTAGUE ST NW</b><br><span style='font-family: Arial, sans-serif;'>WASHINGTON, DC, 20011</span><br><span style='font-family: Arial, sans-serif;'><b>Type:</b> SINGLE_FAMILY</span><br><span style='font-family: Arial, sans-serif;'><b>Beds:</b> 6.0</span><br><span style='font-family: Arial, sans-serif;'><b>Baths:</b> 5.0</span><br><span style='font-family: Arial, sans-serif;'><b>Sq Ft:</b> 2,890</span><br><span style='font-family: Arial, sans-serif;'><b>Year Built:</b> 1930</span><br><span style='font-family: Arial, sans-serif;'><b>Price:</b> $1,499,000</span>",
           38.959079,
           -77.033724
          ],
          [
           "<b style='font-family: Arial, sans-serif; font-size: 14px;'>3300 18TH PL SE</b><br><span style='font-family: Arial, sans-serif;'>WASHINGTON, DC, 20020</span><br><span style='font-family: Arial, sans-serif;'><b>Type:</b> SINGLE_FAMILY</span><br><span style='font-family: Arial, sans-serif;'><b>Beds:</b> 5.0</span><br><span style='font-family: Arial, sans-serif;'><b>Baths:</b> 2.5</span><br><span style='font-family: Arial, sans-serif;'><b>Sq Ft:</b> 1,901</span><br><span style='font-family: Arial, sans-serif;'><b>Year Built:</b> 1991</span><br><span style='font-family: Arial, sans-serif;'><b>Price:</b> $560,000</span>",
           38.84838,
           -76.977757
          ],
          [
           "<b style='font-family: Arial, sans-serif; font-size: 14px;'>3207 NORTHAMPTON ST NW</b><br><span style='font-family: Arial, sans-serif;'>WASHINGTON, DC, 20015</span><br><span style='font-family: Arial, sans-serif;'><b>Type:</b> SINGLE_FAMILY</span><br><span style='font-family: Arial, sans-serif;'><b>Beds:</b> 6.0</span><br><span style='font-family: Arial, sans-serif;'><b>Baths:</b> 7.0</span><br><span style='font-family: Arial, sans-serif;'><b>Sq Ft:</b> 10,480</span><br><span style='font-family: Arial, sans-serif;'><b>Year Built:</b> 2013</span><br><span style='font-family: Arial, sans-serif;'><b>Price:</b> $3,850,000</span>",
           38.966067,
           -77.064634
          ],
          [
           "<b style='font-family: Arial, sans-serif; font-size: 14px;'>5024 GREEN VALLEY RD</b><br><span style='font-family: Arial, sans-serif;'>MONROVIA, MD, 20003</span><br><span style='font-family: Arial, sans-serif;'><b>Type:</b> SINGLE_FAMILY</span><br><span style='font-family: Arial, sans-serif;'><b>Beds:</b> 3.0</span><br><span style='font-family: Arial, sans-serif;'><b>Baths:</b> 2.0</span><br><span style='font-family: Arial, sans-serif;'><b>Sq Ft:</b> 1,644</span><br><span style='font-family: Arial, sans-serif;'><b>Year Built:</b> 1910</span><br><span style='font-family: Arial, sans-serif;'><b>Price:</b> $499,900</span>",
           38.877468921886,
           -77.008381025812
          ],
          [
           "<b style='font-family: Arial, sans-serif; font-size: 14px;'>5501 MACARTHUR BLVD NW</b><br><span style='font-family: Arial, sans-serif;'>WASHINGTON, DC, 20016</span><br><span style='font-family: Arial, sans-serif;'><b>Type:</b> SINGLE_FAMILY</span><br><span style='font-family: Arial, sans-serif;'><b>Beds:</b> 4.0</span><br><span style='font-family: Arial, sans-serif;'><b>Baths:</b> 3.5</span><br><span style='font-family: Arial, sans-serif;'><b>Sq Ft:</b> 3,071</span><br><span style='font-family: Arial, sans-serif;'><b>Year Built:</b> 1923</span><br><span style='font-family: Arial, sans-serif;'><b>Price:</b> $1,950,000</span>",
           38.930487,
           -77.106618
          ],
          [
           "<b style='font-family: Arial, sans-serif; font-size: 14px;'>4723 SHERIFF RD NE</b><br><span style='font-family: Arial, sans-serif;'>WASHINGTON, DC, 20019</span><br><span style='font-family: Arial, sans-serif;'><b>Type:</b> SINGLE_FAMILY</span><br><span style='font-family: Arial, sans-serif;'><b>Beds:</b> 2.0</span><br><span style='font-family: Arial, sans-serif;'><b>Baths:</b> 1.0</span><br><span style='font-family: Arial, sans-serif;'><b>Sq Ft:</b> 814</span><br><span style='font-family: Arial, sans-serif;'><b>Year Built:</b> 1924</span><br><span style='font-family: Arial, sans-serif;'><b>Price:</b> $529,000</span>",
           38.902629,
           -76.934557
          ],
          [
           "<b style='font-family: Arial, sans-serif; font-size: 14px;'>1414 HEMLOCK ST NW</b><br><span style='font-family: Arial, sans-serif;'>WASHINGTON, DC, 20012</span><br><span style='font-family: Arial, sans-serif;'><b>Type:</b> SINGLE_FAMILY</span><br><span style='font-family: Arial, sans-serif;'><b>Beds:</b> 7.0</span><br><span style='font-family: Arial, sans-serif;'><b>Baths:</b> 6.5</span><br><span style='font-family: Arial, sans-serif;'><b>Sq Ft:</b> 6,200</span><br><span style='font-family: Arial, sans-serif;'><b>Year Built:</b> 2025</span><br><span style='font-family: Arial, sans-serif;'><b>Price:</b> $3,000,000</span>",
           38.981051,
           -77.034186
          ],
          [
           "<b style='font-family: Arial, sans-serif; font-size: 14px;'>4217 46TH ST NW</b><br><span style='font-family: Arial, sans-serif;'>WASHINGTON, DC, 20016</span><br><span style='font-family: Arial, sans-serif;'><b>Type:</b> SINGLE_FAMILY</span><br><span style='font-family: Arial, sans-serif;'><b>Beds:</b> 5.0</span><br><span style='font-family: Arial, sans-serif;'><b>Baths:</b> 6.5</span><br><span style='font-family: Arial, sans-serif;'><b>Sq Ft:</b> 8,000</span><br><span style='font-family: Arial, sans-serif;'><b>Year Built:</b> 2025</span><br><span style='font-family: Arial, sans-serif;'><b>Price:</b> $4,500,000</span>",
           38.943806,
           -77.090277
          ],
          [
           "<b style='font-family: Arial, sans-serif; font-size: 14px;'>6144 UTAH AVE NW</b><br><span style='font-family: Arial, sans-serif;'>WASHINGTON, DC, 20015</span><br><span style='font-family: Arial, sans-serif;'><b>Type:</b> SINGLE_FAMILY</span><br><span style='font-family: Arial, sans-serif;'><b>Beds:</b> 4.0</span><br><span style='font-family: Arial, sans-serif;'><b>Baths:</b> 3.0</span><br><span style='font-family: Arial, sans-serif;'><b>Sq Ft:</b> 1,947</span><br><span style='font-family: Arial, sans-serif;'><b>Year Built:</b> 1939</span><br><span style='font-family: Arial, sans-serif;'><b>Price:</b> $1,275,000</span>",
           38.970978,
           -77.063261
          ],
          [
           "<b style='font-family: Arial, sans-serif; font-size: 14px;'>1820 47TH PL NW</b><br><span style='font-family: Arial, sans-serif;'>WASHINGTON, DC, 20007</span><br><span style='font-family: Arial, sans-serif;'><b>Type:</b> SINGLE_FAMILY</span><br><span style='font-family: Arial, sans-serif;'><b>Beds:</b> 6.0</span><br><span style='font-family: Arial, sans-serif;'><b>Baths:</b> 6.0</span><br><span style='font-family: Arial, sans-serif;'><b>Sq Ft:</b> 7,101</span><br><span style='font-family: Arial, sans-serif;'><b>Year Built:</b> 2010</span><br><span style='font-family: Arial, sans-serif;'><b>Price:</b> $3,595,000</span>",
           38.913359,
           -77.090887
          ],
          [
           "<b style='font-family: Arial, sans-serif; font-size: 14px;'>4907 14TH ST NW</b><br><span style='font-family: Arial, sans-serif;'>WASHINGTON, DC, 20011</span><br><span style='font-family: Arial, sans-serif;'><b>Type:</b> SINGLE_FAMILY</span><br><span style='font-family: Arial, sans-serif;'><b>Beds:</b> 11.0</span><br><span style='font-family: Arial, sans-serif;'><b>Baths:</b> 11.5</span><br><span style='font-family: Arial, sans-serif;'><b>Sq Ft:</b> 6,500</span><br><span style='font-family: Arial, sans-serif;'><b>Year Built:</b> 1909</span><br><span style='font-family: Arial, sans-serif;'><b>Price:</b> $2,299,000</span>",
           38.950216,
           -77.033056
          ],
          [
           "<b style='font-family: Arial, sans-serif; font-size: 14px;'>6200 CLAY ST NE</b><br><span style='font-family: Arial, sans-serif;'>WASHINGTON, DC, 20019</span><br><span style='font-family: Arial, sans-serif;'><b>Type:</b> SINGLE_FAMILY</span><br><span style='font-family: Arial, sans-serif;'><b>Beds:</b> 4.0</span><br><span style='font-family: Arial, sans-serif;'><b>Baths:</b> 3.5</span><br><span style='font-family: Arial, sans-serif;'><b>Sq Ft:</b> 2,524</span><br><span style='font-family: Arial, sans-serif;'><b>Year Built:</b> 1920</span><br><span style='font-family: Arial, sans-serif;'><b>Price:</b> $599,000</span>",
           38.893169,
           -76.912096
          ],
          [
           "<b style='font-family: Arial, sans-serif; font-size: 14px;'>4604 JAY ST NE</b><br><span style='font-family: Arial, sans-serif;'>WASHINGTON, DC, 20019</span><br><span style='font-family: Arial, sans-serif;'><b>Type:</b> SINGLE_FAMILY</span><br><span style='font-family: Arial, sans-serif;'><b>Beds:</b> 3.0</span><br><span style='font-family: Arial, sans-serif;'><b>Baths:</b> 1.5</span><br><span style='font-family: Arial, sans-serif;'><b>Sq Ft:</b> 1,315</span><br><span style='font-family: Arial, sans-serif;'><b>Year Built:</b> 1970</span><br><span style='font-family: Arial, sans-serif;'><b>Price:</b> $330,000</span>",
           38.901735,
           -76.936201
          ],
          [
           "<b style='font-family: Arial, sans-serif; font-size: 14px;'>4299 SANDY HOLLOW LN</b><br><span style='font-family: Arial, sans-serif;'>MILLINGTON, TN, 20002</span><br><span style='font-family: Arial, sans-serif;'><b>Type:</b> SINGLE_FAMILY</span><br><span style='font-family: Arial, sans-serif;'><b>Beds:</b> 3.0</span><br><span style='font-family: Arial, sans-serif;'><b>Baths:</b> 2.0</span><br><span style='font-family: Arial, sans-serif;'><b>Sq Ft:</b> 1,796</span><br><span style='font-family: Arial, sans-serif;'><b>Price:</b> $341,990</span>",
           38.903149560272,
           -76.990965725494
          ],
          [
           "<b style='font-family: Arial, sans-serif; font-size: 14px;'>224 21ST ST NE</b><br><span style='font-family: Arial, sans-serif;'>WASHINGTON, DC, 20002</span><br><span style='font-family: Arial, sans-serif;'><b>Type:</b> SINGLE_FAMILY</span><br><span style='font-family: Arial, sans-serif;'><b>Beds:</b> 4.0</span><br><span style='font-family: Arial, sans-serif;'><b>Baths:</b> 4.0</span><br><span style='font-family: Arial, sans-serif;'><b>Sq Ft:</b> 3,465</span><br><span style='font-family: Arial, sans-serif;'><b>Year Built:</b> 1938</span><br><span style='font-family: Arial, sans-serif;'><b>Price:</b> $1,600,000</span>",
           38.892747,
           -76.97549
          ],
          [
           "<b style='font-family: Arial, sans-serif; font-size: 14px;'>256 57TH ST NE</b><br><span style='font-family: Arial, sans-serif;'>WASHINGTON, DC, 20019</span><br><span style='font-family: Arial, sans-serif;'><b>Type:</b> SINGLE_FAMILY</span><br><span style='font-family: Arial, sans-serif;'><b>Beds:</b> 7.0</span><br><span style='font-family: Arial, sans-serif;'><b>Baths:</b> 6.5</span><br><span style='font-family: Arial, sans-serif;'><b>Sq Ft:</b> 2,760</span><br><span style='font-family: Arial, sans-serif;'><b>Year Built:</b> 2008</span><br><span style='font-family: Arial, sans-serif;'><b>Price:</b> $275,000</span>",
           38.892832,
           -76.919699
          ],
          [
           "<b style='font-family: Arial, sans-serif; font-size: 14px;'>4214 8TH ST NW</b><br><span style='font-family: Arial, sans-serif;'>WASHINGTON, DC, 20011</span><br><span style='font-family: Arial, sans-serif;'><b>Type:</b> SINGLE_FAMILY</span><br><span style='font-family: Arial, sans-serif;'><b>Beds:</b> 6.0</span><br><span style='font-family: Arial, sans-serif;'><b>Baths:</b> 2.0</span><br><span style='font-family: Arial, sans-serif;'><b>Sq Ft:</b> 2,009</span><br><span style='font-family: Arial, sans-serif;'><b>Year Built:</b> 1906</span><br><span style='font-family: Arial, sans-serif;'><b>Price:</b> $750,000</span>",
           38.942438,
           -77.023699
          ],
          [
           "<b style='font-family: Arial, sans-serif; font-size: 14px;'>2701 32ND ST NW</b><br><span style='font-family: Arial, sans-serif;'>WASHINGTON, DC, 20008</span><br><span style='font-family: Arial, sans-serif;'><b>Type:</b> SINGLE_FAMILY</span><br><span style='font-family: Arial, sans-serif;'><b>Beds:</b> 5.0</span><br><span style='font-family: Arial, sans-serif;'><b>Baths:</b> 5.5</span><br><span style='font-family: Arial, sans-serif;'><b>Sq Ft:</b> 5,300</span><br><span style='font-family: Arial, sans-serif;'><b>Year Built:</b> 1930</span><br><span style='font-family: Arial, sans-serif;'><b>Price:</b> $2,995,000</span>",
           38.9244862,
           -77.0636194
          ],
          [
           "<b style='font-family: Arial, sans-serif; font-size: 14px;'>3320 M ST SE</b><br><span style='font-family: Arial, sans-serif;'>WASHINGTON, DC, 20019</span><br><span style='font-family: Arial, sans-serif;'><b>Type:</b> SINGLE_FAMILY</span><br><span style='font-family: Arial, sans-serif;'><b>Beds:</b> 3.0</span><br><span style='font-family: Arial, sans-serif;'><b>Baths:</b> 1.0</span><br><span style='font-family: Arial, sans-serif;'><b>Sq Ft:</b> 1,645</span><br><span style='font-family: Arial, sans-serif;'><b>Year Built:</b> 1915</span><br><span style='font-family: Arial, sans-serif;'><b>Price:</b> $274,000</span>",
           38.875928,
           -76.959291
          ],
          [
           "<b style='font-family: Arial, sans-serif; font-size: 14px;'>3639 ALTON PL NW</b><br><span style='font-family: Arial, sans-serif;'>WASHINGTON, DC, 20008</span><br><span style='font-family: Arial, sans-serif;'><b>Type:</b> SINGLE_FAMILY</span><br><span style='font-family: Arial, sans-serif;'><b>Beds:</b> 3.0</span><br><span style='font-family: Arial, sans-serif;'><b>Baths:</b> 3.0</span><br><span style='font-family: Arial, sans-serif;'><b>Sq Ft:</b> 1,296</span><br><span style='font-family: Arial, sans-serif;'><b>Year Built:</b> 1948</span>",
           38.94734,
           -77.071467
          ],
          [
           "<b style='font-family: Arial, sans-serif; font-size: 14px;'>1234 MONROE ST NE</b><br><span style='font-family: Arial, sans-serif;'>WASHINGTON, DC, 20017</span><br><span style='font-family: Arial, sans-serif;'><b>Type:</b> SINGLE_FAMILY</span><br><span style='font-family: Arial, sans-serif;'><b>Beds:</b> 8.0</span><br><span style='font-family: Arial, sans-serif;'><b>Baths:</b> 5.0</span><br><span style='font-family: Arial, sans-serif;'><b>Sq Ft:</b> 6,562</span><br><span style='font-family: Arial, sans-serif;'><b>Year Built:</b> 1910</span>",
           38.932886,
           -76.98995
          ],
          [
           "<b style='font-family: Arial, sans-serif; font-size: 14px;'>3115 CLEVELAND AVE NW</b><br><span style='font-family: Arial, sans-serif;'>WASHINGTON, DC, 20008</span><br><span style='font-family: Arial, sans-serif;'><b>Type:</b> SINGLE_FAMILY</span><br><span style='font-family: Arial, sans-serif;'><b>Beds:</b> 5.0</span><br><span style='font-family: Arial, sans-serif;'><b>Baths:</b> 5.0</span><br><span style='font-family: Arial, sans-serif;'><b>Sq Ft:</b> 6,703</span><br><span style='font-family: Arial, sans-serif;'><b>Year Built:</b> 1935</span><br><span style='font-family: Arial, sans-serif;'><b>Price:</b> $4,200,000</span>",
           38.926906,
           -77.061911
          ],
          [
           "<b style='font-family: Arial, sans-serif; font-size: 14px;'>4110 4TH ST NW</b><br><span style='font-family: Arial, sans-serif;'>WASHINGTON, DC, 20011</span><br><span style='font-family: Arial, sans-serif;'><b>Type:</b> SINGLE_FAMILY</span><br><span style='font-family: Arial, sans-serif;'><b>Beds:</b> 3.0</span><br><span style='font-family: Arial, sans-serif;'><b>Baths:</b> 2.0</span><br><span style='font-family: Arial, sans-serif;'><b>Sq Ft:</b> 1,737</span><br><span style='font-family: Arial, sans-serif;'><b>Year Built:</b> 1920</span><br><span style='font-family: Arial, sans-serif;'><b>Price:</b> $975,000</span>",
           38.941668,
           -77.017448
          ],
          [
           "<b style='font-family: Arial, sans-serif; font-size: 14px;'>4104 MARTIN LUTHER KING JR AVE SW</b><br><span style='font-family: Arial, sans-serif;'>WASHINGTON, DC, 20032</span><br><span style='font-family: Arial, sans-serif;'><b>Type:</b> SINGLE_FAMILY</span><br><span style='font-family: Arial, sans-serif;'><b>Beds:</b> 4.0</span><br><span style='font-family: Arial, sans-serif;'><b>Baths:</b> 2.5</span><br><span style='font-family: Arial, sans-serif;'><b>Sq Ft:</b> 1,944</span><br><span style='font-family: Arial, sans-serif;'><b>Year Built:</b> 1941</span><br><span style='font-family: Arial, sans-serif;'><b>Price:</b> $535,000</span>",
           38.829274,
           -77.011963
          ],
          [
           "<b style='font-family: Arial, sans-serif; font-size: 14px;'>2837 MYRTLE AVE NE</b><br><span style='font-family: Arial, sans-serif;'>WASHINGTON, DC, 20018</span><br><span style='font-family: Arial, sans-serif;'><b>Type:</b> SINGLE_FAMILY</span><br><span style='font-family: Arial, sans-serif;'><b>Beds:</b> 4.0</span><br><span style='font-family: Arial, sans-serif;'><b>Baths:</b> 3.5</span><br><span style='font-family: Arial, sans-serif;'><b>Sq Ft:</b> 3,297</span><br><span style='font-family: Arial, sans-serif;'><b>Year Built:</b> 2012</span><br><span style='font-family: Arial, sans-serif;'><b>Price:</b> $1,024,900</span>",
           38.931438,
           -76.965255
          ],
          [
           "<b style='font-family: Arial, sans-serif; font-size: 14px;'>7054 WYNDALE ST NW</b><br><span style='font-family: Arial, sans-serif;'>WASHINGTON, DC, 20015</span><br><span style='font-family: Arial, sans-serif;'><b>Type:</b> SINGLE_FAMILY</span><br><span style='font-family: Arial, sans-serif;'><b>Beds:</b> 4.0</span><br><span style='font-family: Arial, sans-serif;'><b>Baths:</b> 3.0</span><br><span style='font-family: Arial, sans-serif;'><b>Sq Ft:</b> 2,569</span><br><span style='font-family: Arial, sans-serif;'><b>Year Built:</b> 1951</span><br><span style='font-family: Arial, sans-serif;'><b>Price:</b> $1,625,000</span>",
           38.983023,
           -77.055274
          ],
          [
           "<b style='font-family: Arial, sans-serif; font-size: 14px;'>1935 FOXVIEW CIR NW</b><br><span style='font-family: Arial, sans-serif;'>WASHINGTON, DC, 20007</span><br><span style='font-family: Arial, sans-serif;'><b>Type:</b> SINGLE_FAMILY</span><br><span style='font-family: Arial, sans-serif;'><b>Beds:</b> 7.0</span><br><span style='font-family: Arial, sans-serif;'><b>Baths:</b> 5.5</span><br><span style='font-family: Arial, sans-serif;'><b>Sq Ft:</b> 7,506</span><br><span style='font-family: Arial, sans-serif;'><b>Year Built:</b> 2011</span><br><span style='font-family: Arial, sans-serif;'><b>Price:</b> $5,500,000</span>",
           38.915955,
           -77.084871
          ],
          [
           "<b style='font-family: Arial, sans-serif; font-size: 14px;'>2528 ELVANS RD SE</b><br><span style='font-family: Arial, sans-serif;'>WASHINGTON, DC, 20020</span><br><span style='font-family: Arial, sans-serif;'><b>Type:</b> SINGLE_FAMILY</span><br><span style='font-family: Arial, sans-serif;'><b>Beds:</b> 5.0</span><br><span style='font-family: Arial, sans-serif;'><b>Baths:</b> 3.0</span><br><span style='font-family: Arial, sans-serif;'><b>Sq Ft:</b> 3,448</span><br><span style='font-family: Arial, sans-serif;'><b>Year Built:</b> 1929</span><br><span style='font-family: Arial, sans-serif;'><b>Price:</b> $799,400</span>",
           38.854074,
           -76.990354
          ],
          [
           "<b style='font-family: Arial, sans-serif; font-size: 14px;'>5823 FIELD PL NE</b><br><span style='font-family: Arial, sans-serif;'>WASHINGTON, DC, 20019</span><br><span style='font-family: Arial, sans-serif;'><b>Type:</b> SINGLE_FAMILY</span><br><span style='font-family: Arial, sans-serif;'><b>Beds:</b> 4.0</span><br><span style='font-family: Arial, sans-serif;'><b>Baths:</b> 3.5</span><br><span style='font-family: Arial, sans-serif;'><b>Sq Ft:</b> 2,700</span><br><span style='font-family: Arial, sans-serif;'><b>Year Built:</b> 2015</span><br><span style='font-family: Arial, sans-serif;'><b>Price:</b> $516,700</span>",
           38.89773,
           -76.916512
          ],
          [
           "<b style='font-family: Arial, sans-serif; font-size: 14px;'>6932 8TH ST NW</b><br><span style='font-family: Arial, sans-serif;'>WASHINGTON, DC, 20012</span><br><span style='font-family: Arial, sans-serif;'><b>Type:</b> SINGLE_FAMILY</span><br><span style='font-family: Arial, sans-serif;'><b>Beds:</b> 4.0</span><br><span style='font-family: Arial, sans-serif;'><b>Baths:</b> 3.5</span><br><span style='font-family: Arial, sans-serif;'><b>Sq Ft:</b> 1,925</span><br><span style='font-family: Arial, sans-serif;'><b>Year Built:</b> 1940</span><br><span style='font-family: Arial, sans-serif;'><b>Price:</b> $1,050,000</span>",
           38.975074,
           -77.024868
          ],
          [
           "<b style='font-family: Arial, sans-serif; font-size: 14px;'>622 JEFFERSON ST NW</b><br><span style='font-family: Arial, sans-serif;'>WASHINGTON, DC, 20011</span><br><span style='font-family: Arial, sans-serif;'><b>Type:</b> SINGLE_FAMILY</span><br><span style='font-family: Arial, sans-serif;'><b>Beds:</b> 4.0</span><br><span style='font-family: Arial, sans-serif;'><b>Baths:</b> 4.0</span><br><span style='font-family: Arial, sans-serif;'><b>Sq Ft:</b> 2,506</span><br><span style='font-family: Arial, sans-serif;'><b>Year Built:</b> 1925</span><br><span style='font-family: Arial, sans-serif;'><b>Price:</b> $1,399,900</span>",
           38.955031,
           -77.02153
          ],
          [
           "<b style='font-family: Arial, sans-serif; font-size: 14px;'>4414 LOWELL ST NW</b><br><span style='font-family: Arial, sans-serif;'>WASHINGTON, DC, 20016</span><br><span style='font-family: Arial, sans-serif;'><b>Type:</b> SINGLE_FAMILY</span><br><span style='font-family: Arial, sans-serif;'><b>Beds:</b> 5.0</span><br><span style='font-family: Arial, sans-serif;'><b>Baths:</b> 4.5</span><br><span style='font-family: Arial, sans-serif;'><b>Sq Ft:</b> 3,958</span><br><span style='font-family: Arial, sans-serif;'><b>Year Built:</b> 1926</span><br><span style='font-family: Arial, sans-serif;'><b>Price:</b> $2,950,000</span>",
           38.932095,
           -77.086985
          ],
          [
           "<b style='font-family: Arial, sans-serif; font-size: 14px;'>6302 30TH ST NW</b><br><span style='font-family: Arial, sans-serif;'>WASHINGTON, DC, 20015</span><br><span style='font-family: Arial, sans-serif;'><b>Type:</b> SINGLE_FAMILY</span><br><span style='font-family: Arial, sans-serif;'><b>Beds:</b> 4.0</span><br><span style='font-family: Arial, sans-serif;'><b>Baths:</b> 3.5</span><br><span style='font-family: Arial, sans-serif;'><b>Sq Ft:</b> 3,276</span><br><span style='font-family: Arial, sans-serif;'><b>Year Built:</b> 1988</span><br><span style='font-family: Arial, sans-serif;'><b>Price:</b> $1,650,000</span>",
           38.973385,
           -77.058085
          ],
          [
           "<b style='font-family: Arial, sans-serif; font-size: 14px;'>21 EVARTS ST NE</b><br><span style='font-family: Arial, sans-serif;'>WASHINGTON, DC, 20002</span><br><span style='font-family: Arial, sans-serif;'><b>Type:</b> SINGLE_FAMILY</span><br><span style='font-family: Arial, sans-serif;'><b>Beds:</b> 4.0</span><br><span style='font-family: Arial, sans-serif;'><b>Baths:</b> 2.5</span><br><span style='font-family: Arial, sans-serif;'><b>Sq Ft:</b> 3,500</span><br><span style='font-family: Arial, sans-serif;'><b>Year Built:</b> 2025</span><br><span style='font-family: Arial, sans-serif;'><b>Price:</b> $1,085,000</span>",
           38.924012,
           -77.008359
          ],
          [
           "<b style='font-family: Arial, sans-serif; font-size: 14px;'>3740 KANAWHA ST NW</b><br><span style='font-family: Arial, sans-serif;'>WASHINGTON, DC, 20015</span><br><span style='font-family: Arial, sans-serif;'><b>Type:</b> SINGLE_FAMILY</span><br><span style='font-family: Arial, sans-serif;'><b>Beds:</b> 5.0</span><br><span style='font-family: Arial, sans-serif;'><b>Baths:</b> 4.5</span><br><span style='font-family: Arial, sans-serif;'><b>Sq Ft:</b> 3,502</span><br><span style='font-family: Arial, sans-serif;'><b>Year Built:</b> 1912</span><br><span style='font-family: Arial, sans-serif;'><b>Price:</b> $2,395,000</span>",
           38.960169,
           -77.072019
          ],
          [
           "<b style='font-family: Arial, sans-serif; font-size: 14px;'>210 PEABODY ST NW</b><br><span style='font-family: Arial, sans-serif;'>WASHINGTON, DC, 20011</span><br><span style='font-family: Arial, sans-serif;'><b>Type:</b> SINGLE_FAMILY</span><br><span style='font-family: Arial, sans-serif;'><b>Beds:</b> 4.0</span><br><span style='font-family: Arial, sans-serif;'><b>Baths:</b> 3.5</span><br><span style='font-family: Arial, sans-serif;'><b>Sq Ft:</b> 2,222</span><br><span style='font-family: Arial, sans-serif;'><b>Year Built:</b> 1935</span><br><span style='font-family: Arial, sans-serif;'><b>Price:</b> $799,000</span>",
           38.962492,
           -77.014141
          ],
          [
           "<b style='font-family: Arial, sans-serif; font-size: 14px;'>3838 52ND ST NW</b><br><span style='font-family: Arial, sans-serif;'>WASHINGTON, DC, 20016</span><br><span style='font-family: Arial, sans-serif;'><b>Type:</b> SINGLE_FAMILY</span><br><span style='font-family: Arial, sans-serif;'><b>Beds:</b> 8.0</span><br><span style='font-family: Arial, sans-serif;'><b>Baths:</b> 7.5</span><br><span style='font-family: Arial, sans-serif;'><b>Sq Ft:</b> 7,300</span><br><span style='font-family: Arial, sans-serif;'><b>Year Built:</b> 1958</span><br><span style='font-family: Arial, sans-serif;'><b>Price:</b> $3,650,000</span>",
           38.940244,
           -77.103164
          ],
          [
           "<b style='font-family: Arial, sans-serif; font-size: 14px;'>2807 13TH ST NE</b><br><span style='font-family: Arial, sans-serif;'>WASHINGTON, DC, 20017</span><br><span style='font-family: Arial, sans-serif;'><b>Type:</b> SINGLE_FAMILY</span><br><span style='font-family: Arial, sans-serif;'><b>Beds:</b> 4.0</span><br><span style='font-family: Arial, sans-serif;'><b>Baths:</b> 3.0</span><br><span style='font-family: Arial, sans-serif;'><b>Sq Ft:</b> 2,556</span><br><span style='font-family: Arial, sans-serif;'><b>Year Built:</b> 1920</span><br><span style='font-family: Arial, sans-serif;'><b>Price:</b> $925,000</span>",
           38.926088,
           -76.98785
          ],
          [
           "<b style='font-family: Arial, sans-serif; font-size: 14px;'>651 CONSTITUTION AVE NE UNIT 1-4</b><br><span style='font-family: Arial, sans-serif;'>WASHINGTON, DC, 20002</span><br><span style='font-family: Arial, sans-serif;'><b>Type:</b> SINGLE_FAMILY</span><br><span style='font-family: Arial, sans-serif;'><b>Beds:</b> 5.0</span><br><span style='font-family: Arial, sans-serif;'><b>Baths:</b> 4.0</span><br><span style='font-family: Arial, sans-serif;'><b>Sq Ft:</b> 3,228</span><br><span style='font-family: Arial, sans-serif;'><b>Price:</b> $1,499,651</span>",
           38.8918559,
           -76.9966443
          ],
          [
           "<b style='font-family: Arial, sans-serif; font-size: 14px;'>3309 22ND ST NE</b><br><span style='font-family: Arial, sans-serif;'>WASHINGTON, DC, 20018</span><br><span style='font-family: Arial, sans-serif;'><b>Type:</b> SINGLE_FAMILY</span><br><span style='font-family: Arial, sans-serif;'><b>Beds:</b> 4.0</span><br><span style='font-family: Arial, sans-serif;'><b>Baths:</b> 3.5</span><br><span style='font-family: Arial, sans-serif;'><b>Sq Ft:</b> 1,985</span><br><span style='font-family: Arial, sans-serif;'><b>Year Built:</b> 2025</span><br><span style='font-family: Arial, sans-serif;'><b>Price:</b> $499,900</span>",
           38.931756,
           -76.973881
          ],
          [
           "<b style='font-family: Arial, sans-serif; font-size: 14px;'>2901 ELLICOTT TER NW</b><br><span style='font-family: Arial, sans-serif;'>WASHINGTON, DC, 20008</span><br><span style='font-family: Arial, sans-serif;'><b>Type:</b> SINGLE_FAMILY</span><br><span style='font-family: Arial, sans-serif;'><b>Beds:</b> 4.0</span><br><span style='font-family: Arial, sans-serif;'><b>Baths:</b> 4.5</span><br><span style='font-family: Arial, sans-serif;'><b>Sq Ft:</b> 3,240</span><br><span style='font-family: Arial, sans-serif;'><b>Year Built:</b> 1912</span><br><span style='font-family: Arial, sans-serif;'><b>Price:</b> $1,795,000</span>",
           38.953063,
           -77.059022
          ],
          [
           "<b style='font-family: Arial, sans-serif; font-size: 14px;'>2109 DUNMORE LN NW</b><br><span style='font-family: Arial, sans-serif;'>WASHINGTON, DC, 20007</span><br><span style='font-family: Arial, sans-serif;'><b>Type:</b> SINGLE_FAMILY</span><br><span style='font-family: Arial, sans-serif;'><b>Beds:</b> 5.0</span><br><span style='font-family: Arial, sans-serif;'><b>Baths:</b> 6.5</span><br><span style='font-family: Arial, sans-serif;'><b>Sq Ft:</b> 10,635</span><br><span style='font-family: Arial, sans-serif;'><b>Year Built:</b> 2013</span><br><span style='font-family: Arial, sans-serif;'><b>Price:</b> $11,500,000</span>",
           38.918142,
           -77.087807
          ],
          [
           "<b style='font-family: Arial, sans-serif; font-size: 14px;'>3521 HIGHWOOD DR SE</b><br><span style='font-family: Arial, sans-serif;'>WASHINGTON, DC, 20020</span><br><span style='font-family: Arial, sans-serif;'><b>Type:</b> SINGLE_FAMILY</span><br><span style='font-family: Arial, sans-serif;'><b>Beds:</b> 3.0</span><br><span style='font-family: Arial, sans-serif;'><b>Baths:</b> 2.0</span><br><span style='font-family: Arial, sans-serif;'><b>Sq Ft:</b> 1,041</span><br><span style='font-family: Arial, sans-serif;'><b>Year Built:</b> 1952</span><br><span style='font-family: Arial, sans-serif;'><b>Price:</b> $649,000</span>",
           38.869356,
           -76.954039
          ],
          [
           "<b style='font-family: Arial, sans-serif; font-size: 14px;'>1137 WAHLER PL SE</b><br><span style='font-family: Arial, sans-serif;'>WASHINGTON, DC, 20032</span><br><span style='font-family: Arial, sans-serif;'><b>Type:</b> SINGLE_FAMILY</span><br><span style='font-family: Arial, sans-serif;'><b>Beds:</b> 4.0</span><br><span style='font-family: Arial, sans-serif;'><b>Baths:</b> 3.5</span><br><span style='font-family: Arial, sans-serif;'><b>Sq Ft:</b> 1,639</span><br><span style='font-family: Arial, sans-serif;'><b>Year Built:</b> 2002</span><br><span style='font-family: Arial, sans-serif;'><b>Price:</b> $575,000</span>",
           38.83579,
           -76.987651
          ],
          [
           "<b style='font-family: Arial, sans-serif; font-size: 14px;'>217 PEABODY ST NW</b><br><span style='font-family: Arial, sans-serif;'>WASHINGTON, DC, 20011</span><br><span style='font-family: Arial, sans-serif;'><b>Type:</b> SINGLE_FAMILY</span><br><span style='font-family: Arial, sans-serif;'><b>Beds:</b> 3.0</span><br><span style='font-family: Arial, sans-serif;'><b>Baths:</b> 2.0</span><br><span style='font-family: Arial, sans-serif;'><b>Sq Ft:</b> 1,368</span><br><span style='font-family: Arial, sans-serif;'><b>Year Built:</b> 1925</span><br><span style='font-family: Arial, sans-serif;'><b>Price:</b> $725,000</span>",
           38.96301,
           -77.01481
          ],
          [
           "<b style='font-family: Arial, sans-serif; font-size: 14px;'>143 SAWMILL RD</b><br><span style='font-family: Arial, sans-serif;'>NEW WHITELAND, IN, 20003</span><br><span style='font-family: Arial, sans-serif;'><b>Type:</b> SINGLE_FAMILY</span><br><span style='font-family: Arial, sans-serif;'><b>Beds:</b> 3.0</span><br><span style='font-family: Arial, sans-serif;'><b>Baths:</b> 1.0</span><br><span style='font-family: Arial, sans-serif;'><b>Sq Ft:</b> 925</span><br><span style='font-family: Arial, sans-serif;'><b>Year Built:</b> 1958</span><br><span style='font-family: Arial, sans-serif;'><b>Price:</b> $218,000</span>",
           38.885384856459,
           -76.999441976229
          ],
          [
           "<b style='font-family: Arial, sans-serif; font-size: 14px;'>5022 CATHEDRAL AVE NW</b><br><span style='font-family: Arial, sans-serif;'>WASHINGTON, DC, 20016</span><br><span style='font-family: Arial, sans-serif;'><b>Type:</b> SINGLE_FAMILY</span><br><span style='font-family: Arial, sans-serif;'><b>Beds:</b> 6.0</span><br><span style='font-family: Arial, sans-serif;'><b>Baths:</b> 4.5</span><br><span style='font-family: Arial, sans-serif;'><b>Sq Ft:</b> 5,631</span><br><span style='font-family: Arial, sans-serif;'><b>Year Built:</b> 2024</span><br><span style='font-family: Arial, sans-serif;'><b>Price:</b> $3,499,000</span>",
           38.930042,
           -77.102308
          ],
          [
           "<b style='font-family: Arial, sans-serif; font-size: 14px;'>1227 MICHIGAN AVE NE</b><br><span style='font-family: Arial, sans-serif;'>WASHINGTON, DC, 20017</span><br><span style='font-family: Arial, sans-serif;'><b>Type:</b> SINGLE_FAMILY</span><br><span style='font-family: Arial, sans-serif;'><b>Beds:</b> 6.0</span><br><span style='font-family: Arial, sans-serif;'><b>Baths:</b> 4.0</span><br><span style='font-family: Arial, sans-serif;'><b>Sq Ft:</b> 1,677</span><br><span style='font-family: Arial, sans-serif;'><b>Year Built:</b> 1921</span><br><span style='font-family: Arial, sans-serif;'><b>Price:</b> $995,000</span>",
           38.939564,
           -76.98881
          ],
          [
           "<b style='font-family: Arial, sans-serif; font-size: 14px;'>2204 BUNKER HILL RD NE</b><br><span style='font-family: Arial, sans-serif;'>WASHINGTON, DC, 20018</span><br><span style='font-family: Arial, sans-serif;'><b>Type:</b> SINGLE_FAMILY</span><br><span style='font-family: Arial, sans-serif;'><b>Beds:</b> 3.0</span><br><span style='font-family: Arial, sans-serif;'><b>Baths:</b> 2.0</span><br><span style='font-family: Arial, sans-serif;'><b>Sq Ft:</b> 1,891</span><br><span style='font-family: Arial, sans-serif;'><b>Year Built:</b> 1957</span><br><span style='font-family: Arial, sans-serif;'><b>Price:</b> $412,300</span>",
           38.939848,
           -76.973805
          ],
          [
           "<b style='font-family: Arial, sans-serif; font-size: 14px;'>317 60TH ST NE</b><br><span style='font-family: Arial, sans-serif;'>WASHINGTON, DC, 20019</span><br><span style='font-family: Arial, sans-serif;'><b>Type:</b> SINGLE_FAMILY</span><br><span style='font-family: Arial, sans-serif;'><b>Beds:</b> 3.0</span><br><span style='font-family: Arial, sans-serif;'><b>Baths:</b> 1.0</span><br><span style='font-family: Arial, sans-serif;'><b>Sq Ft:</b> 1,551</span><br><span style='font-family: Arial, sans-serif;'><b>Year Built:</b> 1911</span><br><span style='font-family: Arial, sans-serif;'><b>Price:</b> $125,000</span>",
           38.893592,
           -76.91464
          ],
          [
           "<b style='font-family: Arial, sans-serif; font-size: 14px;'>1671 31ST ST NW</b><br><span style='font-family: Arial, sans-serif;'>WASHINGTON, DC, 20007</span><br><span style='font-family: Arial, sans-serif;'><b>Type:</b> SINGLE_FAMILY</span><br><span style='font-family: Arial, sans-serif;'><b>Beds:</b> 6.0</span><br><span style='font-family: Arial, sans-serif;'><b>Baths:</b> 5.5</span><br><span style='font-family: Arial, sans-serif;'><b>Sq Ft:</b> 6,300</span><br><span style='font-family: Arial, sans-serif;'><b>Price:</b> $7,500,000</span>",
           38.912471,
           -77.062442
          ],
          [
           "<b style='font-family: Arial, sans-serif; font-size: 14px;'>1610 FOXHALL RD NW</b><br><span style='font-family: Arial, sans-serif;'>WASHINGTON, DC, 20007</span><br><span style='font-family: Arial, sans-serif;'><b>Type:</b> SINGLE_FAMILY</span><br><span style='font-family: Arial, sans-serif;'><b>Beds:</b> 7.0</span><br><span style='font-family: Arial, sans-serif;'><b>Baths:</b> 7.0</span><br><span style='font-family: Arial, sans-serif;'><b>Sq Ft:</b> 6,770</span><br><span style='font-family: Arial, sans-serif;'><b>Year Built:</b> 1948</span><br><span style='font-family: Arial, sans-serif;'><b>Price:</b> $3,950,000</span>",
           38.910913,
           -77.084604
          ],
          [
           "<b style='font-family: Arial, sans-serif; font-size: 14px;'>1363 H ST NE</b><br><span style='font-family: Arial, sans-serif;'>WASHINGTON, DC, 20002</span><br><span style='font-family: Arial, sans-serif;'><b>Type:</b> SINGLE_FAMILY</span><br><span style='font-family: Arial, sans-serif;'><b>Beds:</b> 3.0</span><br><span style='font-family: Arial, sans-serif;'><b>Baths:</b> 1.5</span><br><span style='font-family: Arial, sans-serif;'><b>Sq Ft:</b> 1,924</span><br><span style='font-family: Arial, sans-serif;'><b>Year Built:</b> 1930</span><br><span style='font-family: Arial, sans-serif;'><b>Price:</b> $649,900</span>",
           38.899974,
           -76.986276
          ],
          [
           "<b style='font-family: Arial, sans-serif; font-size: 14px;'>4101 21ST ST NE</b><br><span style='font-family: Arial, sans-serif;'>WASHINGTON, DC, 20018</span><br><span style='font-family: Arial, sans-serif;'><b>Type:</b> SINGLE_FAMILY</span><br><span style='font-family: Arial, sans-serif;'><b>Beds:</b> 4.0</span><br><span style='font-family: Arial, sans-serif;'><b>Baths:</b> 3.5</span><br><span style='font-family: Arial, sans-serif;'><b>Sq Ft:</b> 1,228</span><br><span style='font-family: Arial, sans-serif;'><b>Year Built:</b> 1930</span><br><span style='font-family: Arial, sans-serif;'><b>Price:</b> $469,000</span>",
           38.939806,
           -76.974914
          ],
          [
           "<b style='font-family: Arial, sans-serif; font-size: 14px;'>2206 32ND PL SE</b><br><span style='font-family: Arial, sans-serif;'>WASHINGTON, DC, 20020</span><br><span style='font-family: Arial, sans-serif;'><b>Type:</b> SINGLE_FAMILY</span><br><span style='font-family: Arial, sans-serif;'><b>Beds:</b> 3.0</span><br><span style='font-family: Arial, sans-serif;'><b>Baths:</b> 2.0</span><br><span style='font-family: Arial, sans-serif;'><b>Sq Ft:</b> 1,587</span><br><span style='font-family: Arial, sans-serif;'><b>Year Built:</b> 1937</span><br><span style='font-family: Arial, sans-serif;'><b>Price:</b> $700,000</span>",
           38.862487,
           -76.960146
          ],
          [
           "<b style='font-family: Arial, sans-serif; font-size: 14px;'>613 4TH PL SW</b><br><span style='font-family: Arial, sans-serif;'>WASHINGTON, DC, 20024</span><br><span style='font-family: Arial, sans-serif;'><b>Type:</b> SINGLE_FAMILY</span><br><span style='font-family: Arial, sans-serif;'><b>Beds:</b> 3.0</span><br><span style='font-family: Arial, sans-serif;'><b>Baths:</b> 2.5</span><br><span style='font-family: Arial, sans-serif;'><b>Sq Ft:</b> 1,640</span><br><span style='font-family: Arial, sans-serif;'><b>Year Built:</b> 1968</span>",
           38.881752,
           -77.019154
          ],
          [
           "<b style='font-family: Arial, sans-serif; font-size: 14px;'>1336 30TH ST SE</b><br><span style='font-family: Arial, sans-serif;'>WASHINGTON, DC, 20020</span><br><span style='font-family: Arial, sans-serif;'><b>Type:</b> SINGLE_FAMILY</span><br><span style='font-family: Arial, sans-serif;'><b>Beds:</b> 3.0</span><br><span style='font-family: Arial, sans-serif;'><b>Baths:</b> 2.0</span><br><span style='font-family: Arial, sans-serif;'><b>Sq Ft:</b> 1,120</span><br><span style='font-family: Arial, sans-serif;'><b>Year Built:</b> 1956</span><br><span style='font-family: Arial, sans-serif;'><b>Price:</b> $499,900</span>",
           38.873416,
           -76.964438
          ],
          [
           "<b style='font-family: Arial, sans-serif; font-size: 14px;'>3023 NW #Q</b><br><span style='font-family: Arial, sans-serif;'>WASHINGTON, DC, 20007</span><br><span style='font-family: Arial, sans-serif;'><b>Type:</b> SINGLE_FAMILY</span><br><span style='font-family: Arial, sans-serif;'><b>Beds:</b> 6.0</span><br><span style='font-family: Arial, sans-serif;'><b>Baths:</b> 7.5</span><br><span style='font-family: Arial, sans-serif;'><b>Sq Ft:</b> 4,817</span><br><span style='font-family: Arial, sans-serif;'><b>Price:</b> $11,000,000</span>",
           38.91075,
           -77.06038
          ],
          [
           "<b style='font-family: Arial, sans-serif; font-size: 14px;'>717 46TH ST SE</b><br><span style='font-family: Arial, sans-serif;'>WASHINGTON, DC, 20019</span><br><span style='font-family: Arial, sans-serif;'><b>Type:</b> SINGLE_FAMILY</span><br><span style='font-family: Arial, sans-serif;'><b>Beds:</b> 5.0</span><br><span style='font-family: Arial, sans-serif;'><b>Baths:</b> 2.0</span><br><span style='font-family: Arial, sans-serif;'><b>Sq Ft:</b> 2,312</span><br><span style='font-family: Arial, sans-serif;'><b>Year Built:</b> 1957</span><br><span style='font-family: Arial, sans-serif;'><b>Price:</b> $640,000</span>",
           38.8792638,
           -76.9359602
          ],
          [
           "<b style='font-family: Arial, sans-serif; font-size: 14px;'>216 WHITTIER ST NW</b><br><span style='font-family: Arial, sans-serif;'>WASHINGTON, DC, 20012</span><br><span style='font-family: Arial, sans-serif;'><b>Type:</b> SINGLE_FAMILY</span><br><span style='font-family: Arial, sans-serif;'><b>Beds:</b> 3.0</span><br><span style='font-family: Arial, sans-serif;'><b>Baths:</b> 1.5</span><br><span style='font-family: Arial, sans-serif;'><b>Sq Ft:</b> 2,504</span><br><span style='font-family: Arial, sans-serif;'><b>Year Built:</b> 1932</span><br><span style='font-family: Arial, sans-serif;'><b>Price:</b> $565,000</span>",
           38.970697,
           -77.013785
          ],
          [
           "<b style='font-family: Arial, sans-serif; font-size: 14px;'>3914 18TH ST NE</b><br><span style='font-family: Arial, sans-serif;'>WASHINGTON, DC, 20018</span><br><span style='font-family: Arial, sans-serif;'><b>Type:</b> SINGLE_FAMILY</span><br><span style='font-family: Arial, sans-serif;'><b>Beds:</b> 5.0</span><br><span style='font-family: Arial, sans-serif;'><b>Baths:</b> 3.0</span><br><span style='font-family: Arial, sans-serif;'><b>Sq Ft:</b> 2,606</span><br><span style='font-family: Arial, sans-serif;'><b>Year Built:</b> 1954</span><br><span style='font-family: Arial, sans-serif;'><b>Price:</b> $949,000</span>",
           38.937717,
           -76.980255
          ],
          [
           "<b style='font-family: Arial, sans-serif; font-size: 14px;'>3717 CAMDEN ST SE</b><br><span style='font-family: Arial, sans-serif;'>WASHINGTON, DC, 20020</span><br><span style='font-family: Arial, sans-serif;'><b>Type:</b> SINGLE_FAMILY</span><br><span style='font-family: Arial, sans-serif;'><b>Beds:</b> 4.0</span><br><span style='font-family: Arial, sans-serif;'><b>Baths:</b> 4.5</span><br><span style='font-family: Arial, sans-serif;'><b>Sq Ft:</b> 2,562</span><br><span style='font-family: Arial, sans-serif;'><b>Year Built:</b> 1928</span><br><span style='font-family: Arial, sans-serif;'><b>Price:</b> $899,000</span>",
           38.860503,
           -76.952308
          ],
          [
           "<b style='font-family: Arial, sans-serif; font-size: 14px;'>4511 43RD PL NW</b><br><span style='font-family: Arial, sans-serif;'>WASHINGTON, DC, 20016</span><br><span style='font-family: Arial, sans-serif;'><b>Type:</b> SINGLE_FAMILY</span><br><span style='font-family: Arial, sans-serif;'><b>Beds:</b> 3.0</span><br><span style='font-family: Arial, sans-serif;'><b>Baths:</b> 3.0</span><br><span style='font-family: Arial, sans-serif;'><b>Sq Ft:</b> 1,972</span><br><span style='font-family: Arial, sans-serif;'><b>Year Built:</b> 1922</span><br><span style='font-family: Arial, sans-serif;'><b>Price:</b> $1,250,000</span>",
           38.948526,
           -77.084769
          ],
          [
           "<b style='font-family: Arial, sans-serif; font-size: 14px;'>4911 SARGENT RD NE</b><br><span style='font-family: Arial, sans-serif;'>WASHINGTON, DC, 20017</span><br><span style='font-family: Arial, sans-serif;'><b>Type:</b> SINGLE_FAMILY</span><br><span style='font-family: Arial, sans-serif;'><b>Beds:</b> 4.0</span><br><span style='font-family: Arial, sans-serif;'><b>Baths:</b> 3.0</span><br><span style='font-family: Arial, sans-serif;'><b>Sq Ft:</b> 3,325</span><br><span style='font-family: Arial, sans-serif;'><b>Year Built:</b> 1983</span><br><span style='font-family: Arial, sans-serif;'><b>Price:</b> $899,500</span>",
           38.948892,
           -76.989162
          ],
          [
           "<b style='font-family: Arial, sans-serif; font-size: 14px;'>5706 26TH ST NW</b><br><span style='font-family: Arial, sans-serif;'>WASHINGTON, DC, 20015</span><br><span style='font-family: Arial, sans-serif;'><b>Type:</b> SINGLE_FAMILY</span><br><span style='font-family: Arial, sans-serif;'><b>Beds:</b> 5.0</span><br><span style='font-family: Arial, sans-serif;'><b>Baths:</b> 3.0</span><br><span style='font-family: Arial, sans-serif;'><b>Sq Ft:</b> 2,712</span><br><span style='font-family: Arial, sans-serif;'><b>Year Built:</b> 1950</span><br><span style='font-family: Arial, sans-serif;'><b>Price:</b> $1,495,000</span>",
           38.968048,
           -77.055512
          ],
          [
           "<b style='font-family: Arial, sans-serif; font-size: 14px;'>2439 WYOMING AVE NW</b><br><span style='font-family: Arial, sans-serif;'>WASHINGTON, DC, 20008</span><br><span style='font-family: Arial, sans-serif;'><b>Type:</b> SINGLE_FAMILY</span><br><span style='font-family: Arial, sans-serif;'><b>Beds:</b> 4.0</span><br><span style='font-family: Arial, sans-serif;'><b>Baths:</b> 6.0</span><br><span style='font-family: Arial, sans-serif;'><b>Sq Ft:</b> 6,544</span><br><span style='font-family: Arial, sans-serif;'><b>Year Built:</b> 1929</span><br><span style='font-family: Arial, sans-serif;'><b>Price:</b> $6,400,000</span>",
           38.917254,
           -77.054335
          ],
          [
           "<b style='font-family: Arial, sans-serif; font-size: 14px;'>4821 RODMAN ST NW</b><br><span style='font-family: Arial, sans-serif;'>WASHINGTON, DC, 20016</span><br><span style='font-family: Arial, sans-serif;'><b>Type:</b> SINGLE_FAMILY</span><br><span style='font-family: Arial, sans-serif;'><b>Beds:</b> 7.0</span><br><span style='font-family: Arial, sans-serif;'><b>Baths:</b> 8.5</span><br><span style='font-family: Arial, sans-serif;'><b>Sq Ft:</b> 7,540</span><br><span style='font-family: Arial, sans-serif;'><b>Year Built:</b> 2025</span><br><span style='font-family: Arial, sans-serif;'><b>Price:</b> $8,995,000</span>",
           38.939669,
           -77.095252
          ],
          [
           "<b style='font-family: Arial, sans-serif; font-size: 14px;'>405 60TH ST NE</b><br><span style='font-family: Arial, sans-serif;'>WASHINGTON, DC, 20019</span><br><span style='font-family: Arial, sans-serif;'><b>Type:</b> SINGLE_FAMILY</span><br><span style='font-family: Arial, sans-serif;'><b>Beds:</b> 4.0</span><br><span style='font-family: Arial, sans-serif;'><b>Baths:</b> 2.0</span><br><span style='font-family: Arial, sans-serif;'><b>Sq Ft:</b> 1,910</span><br><span style='font-family: Arial, sans-serif;'><b>Year Built:</b> 1940</span><br><span style='font-family: Arial, sans-serif;'><b>Price:</b> $624,000</span>",
           38.894939,
           -76.914642
          ],
          [
           "<b style='font-family: Arial, sans-serif; font-size: 14px;'>4927 BUTTERWORTH PL NW</b><br><span style='font-family: Arial, sans-serif;'>WASHINGTON, DC, 20016</span><br><span style='font-family: Arial, sans-serif;'><b>Type:</b> SINGLE_FAMILY</span><br><span style='font-family: Arial, sans-serif;'><b>Beds:</b> 4.0</span><br><span style='font-family: Arial, sans-serif;'><b>Baths:</b> 5.5</span><br><span style='font-family: Arial, sans-serif;'><b>Sq Ft:</b> 4,000</span><br><span style='font-family: Arial, sans-serif;'><b>Year Built:</b> 2025</span><br><span style='font-family: Arial, sans-serif;'><b>Price:</b> $2,700,000</span>",
           38.949082,
           -77.097823
          ],
          [
           "<b style='font-family: Arial, sans-serif; font-size: 14px;'>3930 1ST ST SW</b><br><span style='font-family: Arial, sans-serif;'>WASHINGTON, DC, 20032</span><br><span style='font-family: Arial, sans-serif;'><b>Type:</b> SINGLE_FAMILY</span><br><span style='font-family: Arial, sans-serif;'><b>Beds:</b> 5.0</span><br><span style='font-family: Arial, sans-serif;'><b>Baths:</b> 4.0</span><br><span style='font-family: Arial, sans-serif;'><b>Sq Ft:</b> 1,778</span><br><span style='font-family: Arial, sans-serif;'><b>Year Built:</b> 1936</span><br><span style='font-family: Arial, sans-serif;'><b>Price:</b> $539,000</span>",
           38.833052,
           -77.009607
          ],
          [
           "<b style='font-family: Arial, sans-serif; font-size: 14px;'>5402 BASS PL SE</b><br><span style='font-family: Arial, sans-serif;'>WASHINGTON, DC, 20019</span><br><span style='font-family: Arial, sans-serif;'><b>Type:</b> SINGLE_FAMILY</span><br><span style='font-family: Arial, sans-serif;'><b>Beds:</b> 3.0</span><br><span style='font-family: Arial, sans-serif;'><b>Baths:</b> 2.0</span><br><span style='font-family: Arial, sans-serif;'><b>Sq Ft:</b> 1,200</span><br><span style='font-family: Arial, sans-serif;'><b>Year Built:</b> 1947</span><br><span style='font-family: Arial, sans-serif;'><b>Price:</b> $409,900</span>",
           38.88581,
           -76.923217
          ],
          [
           "<b style='font-family: Arial, sans-serif; font-size: 14px;'>1501 ERIE ST SE</b><br><span style='font-family: Arial, sans-serif;'>WASHINGTON, DC, 20020</span><br><span style='font-family: Arial, sans-serif;'><b>Type:</b> SINGLE_FAMILY</span><br><span style='font-family: Arial, sans-serif;'><b>Beds:</b> 4.0</span><br><span style='font-family: Arial, sans-serif;'><b>Baths:</b> 4.5</span><br><span style='font-family: Arial, sans-serif;'><b>Sq Ft:</b> 2,493</span><br><span style='font-family: Arial, sans-serif;'><b>Year Built:</b> 2024</span><br><span style='font-family: Arial, sans-serif;'><b>Price:</b> $583,000</span>",
           38.857085,
           -76.984909
          ],
          [
           "<b style='font-family: Arial, sans-serif; font-size: 14px;'>900 HAMLIN ST NE</b><br><span style='font-family: Arial, sans-serif;'>WASHINGTON, DC, 20017</span><br><span style='font-family: Arial, sans-serif;'><b>Type:</b> SINGLE_FAMILY</span><br><span style='font-family: Arial, sans-serif;'><b>Beds:</b> 3.0</span><br><span style='font-family: Arial, sans-serif;'><b>Baths:</b> 1.0</span><br><span style='font-family: Arial, sans-serif;'><b>Sq Ft:</b> 1,032</span><br><span style='font-family: Arial, sans-serif;'><b>Year Built:</b> 1925</span>",
           38.927761,
           -76.99355
          ],
          [
           "<b style='font-family: Arial, sans-serif; font-size: 14px;'>2549 ALABAMA AVE SE</b><br><span style='font-family: Arial, sans-serif;'>WASHINGTON, DC, 20020</span><br><span style='font-family: Arial, sans-serif;'><b>Type:</b> SINGLE_FAMILY</span><br><span style='font-family: Arial, sans-serif;'><b>Beds:</b> 3.0</span><br><span style='font-family: Arial, sans-serif;'><b>Baths:</b> 3.5</span><br><span style='font-family: Arial, sans-serif;'><b>Sq Ft:</b> 1,581</span><br><span style='font-family: Arial, sans-serif;'><b>Year Built:</b> 1932</span><br><span style='font-family: Arial, sans-serif;'><b>Price:</b> $529,000</span>",
           38.857938,
           -76.968578
          ],
          [
           "<b style='font-family: Arial, sans-serif; font-size: 14px;'>408 44TH ST NE</b><br><span style='font-family: Arial, sans-serif;'>WASHINGTON, DC, 20019</span><br><span style='font-family: Arial, sans-serif;'><b>Type:</b> SINGLE_FAMILY</span><br><span style='font-family: Arial, sans-serif;'><b>Beds:</b> 3.0</span><br><span style='font-family: Arial, sans-serif;'><b>Baths:</b> 1.0</span><br><span style='font-family: Arial, sans-serif;'><b>Sq Ft:</b> 1,857</span><br><span style='font-family: Arial, sans-serif;'><b>Year Built:</b> 1947</span><br><span style='font-family: Arial, sans-serif;'><b>Price:</b> $624,000</span>",
           38.895389,
           -76.939507
          ],
          [
           "<b style='font-family: Arial, sans-serif; font-size: 14px;'>4445 FARADAY PL NW</b><br><span style='font-family: Arial, sans-serif;'>WASHINGTON, DC, 20016</span><br><span style='font-family: Arial, sans-serif;'><b>Type:</b> SINGLE_FAMILY</span><br><span style='font-family: Arial, sans-serif;'><b>Beds:</b> 3.0</span><br><span style='font-family: Arial, sans-serif;'><b>Baths:</b> 2.0</span><br><span style='font-family: Arial, sans-serif;'><b>Sq Ft:</b> 1,765</span><br><span style='font-family: Arial, sans-serif;'><b>Year Built:</b> 1930</span><br><span style='font-family: Arial, sans-serif;'><b>Price:</b> $1,295,000</span>",
           38.955532,
           -77.088005
          ],
          [
           "<b style='font-family: Arial, sans-serif; font-size: 14px;'>3102 SOUTH DAKOTA AVE NE</b><br><span style='font-family: Arial, sans-serif;'>WASHINGTON, DC, 20018</span><br><span style='font-family: Arial, sans-serif;'><b>Type:</b> SINGLE_FAMILY</span><br><span style='font-family: Arial, sans-serif;'><b>Beds:</b> 4.0</span><br><span style='font-family: Arial, sans-serif;'><b>Baths:</b> 3.5</span><br><span style='font-family: Arial, sans-serif;'><b>Sq Ft:</b> 2,181</span><br><span style='font-family: Arial, sans-serif;'><b>Year Built:</b> 1936</span><br><span style='font-family: Arial, sans-serif;'><b>Price:</b> $975,000</span>",
           38.929861,
           -76.97087
          ],
          [
           "<b style='font-family: Arial, sans-serif; font-size: 14px;'>2005 48TH ST NW</b><br><span style='font-family: Arial, sans-serif;'>WASHINGTON, DC, 20007</span><br><span style='font-family: Arial, sans-serif;'><b>Type:</b> SINGLE_FAMILY</span><br><span style='font-family: Arial, sans-serif;'><b>Beds:</b> 6.0</span><br><span style='font-family: Arial, sans-serif;'><b>Baths:</b> 6.5</span><br><span style='font-family: Arial, sans-serif;'><b>Sq Ft:</b> 6,930</span><br><span style='font-family: Arial, sans-serif;'><b>Year Built:</b> 2014</span><br><span style='font-family: Arial, sans-serif;'><b>Price:</b> $3,695,000</span>",
           38.917362,
           -77.093983
          ],
          [
           "<b style='font-family: Arial, sans-serif; font-size: 14px;'>5015 WARREN ST NW</b><br><span style='font-family: Arial, sans-serif;'>WASHINGTON, DC, 20016</span><br><span style='font-family: Arial, sans-serif;'><b>Type:</b> SINGLE_FAMILY</span><br><span style='font-family: Arial, sans-serif;'><b>Beds:</b> 5.0</span><br><span style='font-family: Arial, sans-serif;'><b>Baths:</b> 6.5</span><br><span style='font-family: Arial, sans-serif;'><b>Sq Ft:</b> 6,300</span><br><span style='font-family: Arial, sans-serif;'><b>Year Built:</b> 1993</span><br><span style='font-family: Arial, sans-serif;'><b>Price:</b> $3,750,000</span>",
           38.943996,
           -77.100295
          ],
          [
           "<b style='font-family: Arial, sans-serif; font-size: 14px;'>1535 KEARNY ST NE</b><br><span style='font-family: Arial, sans-serif;'>WASHINGTON, DC, 20017</span><br><span style='font-family: Arial, sans-serif;'><b>Type:</b> SINGLE_FAMILY</span><br><span style='font-family: Arial, sans-serif;'><b>Beds:</b> 4.0</span><br><span style='font-family: Arial, sans-serif;'><b>Baths:</b> 3.5</span><br><span style='font-family: Arial, sans-serif;'><b>Sq Ft:</b> 2,875</span><br><span style='font-family: Arial, sans-serif;'><b>Year Built:</b> 1925</span><br><span style='font-family: Arial, sans-serif;'><b>Price:</b> $1,350,000</span>",
           38.930678,
           -76.982794
          ],
          [
           "<b style='font-family: Arial, sans-serif; font-size: 14px;'>4421 LOWELL ST NW</b><br><span style='font-family: Arial, sans-serif;'>WASHINGTON, DC, 20016</span><br><span style='font-family: Arial, sans-serif;'><b>Type:</b> SINGLE_FAMILY</span><br><span style='font-family: Arial, sans-serif;'><b>Beds:</b> 6.0</span><br><span style='font-family: Arial, sans-serif;'><b>Baths:</b> 5.5</span><br><span style='font-family: Arial, sans-serif;'><b>Sq Ft:</b> 6,800</span><br><span style='font-family: Arial, sans-serif;'><b>Year Built:</b> 2006</span><br><span style='font-family: Arial, sans-serif;'><b>Price:</b> $3,600,000</span>",
           38.932754,
           -77.087346
          ],
          [
           "<b style='font-family: Arial, sans-serif; font-size: 14px;'>1907 FREDERICK DOUGLASS CT SE</b><br><span style='font-family: Arial, sans-serif;'>WASHINGTON, DC, 20020</span><br><span style='font-family: Arial, sans-serif;'><b>Type:</b> SINGLE_FAMILY</span><br><span style='font-family: Arial, sans-serif;'><b>Beds:</b> 3.0</span><br><span style='font-family: Arial, sans-serif;'><b>Baths:</b> 3.5</span><br><span style='font-family: Arial, sans-serif;'><b>Sq Ft:</b> 1,710</span><br><span style='font-family: Arial, sans-serif;'><b>Year Built:</b> 2006</span>",
           38.85181,
           -76.97694
          ],
          [
           "<b style='font-family: Arial, sans-serif; font-size: 14px;'>4729 13TH ST NW</b><br><span style='font-family: Arial, sans-serif;'>WASHINGTON, DC, 20011</span><br><span style='font-family: Arial, sans-serif;'><b>Type:</b> SINGLE_FAMILY</span><br><span style='font-family: Arial, sans-serif;'><b>Beds:</b> 5.0</span><br><span style='font-family: Arial, sans-serif;'><b>Baths:</b> 4.5</span><br><span style='font-family: Arial, sans-serif;'><b>Sq Ft:</b> 2,784</span><br><span style='font-family: Arial, sans-serif;'><b>Year Built:</b> 1909</span><br><span style='font-family: Arial, sans-serif;'><b>Price:</b> $1,100,000</span>",
           38.947718,
           -77.029351
          ],
          [
           "<b style='font-family: Arial, sans-serif; font-size: 14px;'>3605 BROTHERS PL SE</b><br><span style='font-family: Arial, sans-serif;'>WASHINGTON, DC, 20032</span><br><span style='font-family: Arial, sans-serif;'><b>Type:</b> SINGLE_FAMILY</span><br><span style='font-family: Arial, sans-serif;'><b>Beds:</b> 3.0</span><br><span style='font-family: Arial, sans-serif;'><b>Baths:</b> 3.0</span><br><span style='font-family: Arial, sans-serif;'><b>Sq Ft:</b> 1,632</span><br><span style='font-family: Arial, sans-serif;'><b>Year Built:</b> 1910</span><br><span style='font-family: Arial, sans-serif;'><b>Price:</b> $545,000</span>",
           38.839859,
           -77.006256
          ],
          [
           "<b style='font-family: Arial, sans-serif; font-size: 14px;'>5037 C ST SE</b><br><span style='font-family: Arial, sans-serif;'>WASHINGTON, DC, 20019</span><br><span style='font-family: Arial, sans-serif;'><b>Type:</b> SINGLE_FAMILY</span><br><span style='font-family: Arial, sans-serif;'><b>Beds:</b> 4.0</span><br><span style='font-family: Arial, sans-serif;'><b>Baths:</b> 2.5</span><br><span style='font-family: Arial, sans-serif;'><b>Sq Ft:</b> 2,079</span><br><span style='font-family: Arial, sans-serif;'><b>Year Built:</b> 1959</span><br><span style='font-family: Arial, sans-serif;'><b>Price:</b> $410,000</span>",
           38.884931,
           -76.929301
          ],
          [
           "<b style='font-family: Arial, sans-serif; font-size: 14px;'>2211 32ND PL SE</b><br><span style='font-family: Arial, sans-serif;'>WASHINGTON, DC, 20020</span><br><span style='font-family: Arial, sans-serif;'><b>Type:</b> SINGLE_FAMILY</span><br><span style='font-family: Arial, sans-serif;'><b>Beds:</b> 3.0</span><br><span style='font-family: Arial, sans-serif;'><b>Baths:</b> 2.5</span><br><span style='font-family: Arial, sans-serif;'><b>Sq Ft:</b> 2,569</span><br><span style='font-family: Arial, sans-serif;'><b>Year Built:</b> 1937</span><br><span style='font-family: Arial, sans-serif;'><b>Price:</b> $675,000</span>",
           38.862458,
           -76.960765
          ],
          [
           "<b style='font-family: Arial, sans-serif; font-size: 14px;'>4947 ESKRIDGE TER NW</b><br><span style='font-family: Arial, sans-serif;'>WASHINGTON, DC, 20016</span><br><span style='font-family: Arial, sans-serif;'><b>Type:</b> SINGLE_FAMILY</span><br><span style='font-family: Arial, sans-serif;'><b>Beds:</b> 4.0</span><br><span style='font-family: Arial, sans-serif;'><b>Baths:</b> 4.0</span><br><span style='font-family: Arial, sans-serif;'><b>Sq Ft:</b> 3,158</span><br><span style='font-family: Arial, sans-serif;'><b>Year Built:</b> 1930</span><br><span style='font-family: Arial, sans-serif;'><b>Price:</b> $2,200,000</span>",
           38.927361,
           -77.100067
          ],
          [
           "<b style='font-family: Arial, sans-serif; font-size: 14px;'>5500 D ST SE</b><br><span style='font-family: Arial, sans-serif;'>WASHINGTON, DC, 20019</span><br><span style='font-family: Arial, sans-serif;'><b>Type:</b> SINGLE_FAMILY</span><br><span style='font-family: Arial, sans-serif;'><b>Beds:</b> 3.0</span><br><span style='font-family: Arial, sans-serif;'><b>Baths:</b> 1.5</span><br><span style='font-family: Arial, sans-serif;'><b>Sq Ft:</b> 1,360</span><br><span style='font-family: Arial, sans-serif;'><b>Year Built:</b> 1972</span><br><span style='font-family: Arial, sans-serif;'><b>Price:</b> $350,000</span>",
           38.883074,
           -76.922737
          ],
          [
           "<b style='font-family: Arial, sans-serif; font-size: 14px;'>329 CONSTITUTION AVE NE</b><br><span style='font-family: Arial, sans-serif;'>WASHINGTON, DC, 20002</span><br><span style='font-family: Arial, sans-serif;'><b>Type:</b> SINGLE_FAMILY</span><br><span style='font-family: Arial, sans-serif;'><b>Beds:</b> 4.0</span><br><span style='font-family: Arial, sans-serif;'><b>Baths:</b> 3.5</span><br><span style='font-family: Arial, sans-serif;'><b>Sq Ft:</b> 2,541</span><br><span style='font-family: Arial, sans-serif;'><b>Year Built:</b> 1905</span><br><span style='font-family: Arial, sans-serif;'><b>Price:</b> $1,350,000</span>",
           38.891796,
           -77.000819
          ],
          [
           "<b style='font-family: Arial, sans-serif; font-size: 14px;'>404 BURBANK ST SE</b><br><span style='font-family: Arial, sans-serif;'>WASHINGTON, DC, 20019</span><br><span style='font-family: Arial, sans-serif;'><b>Type:</b> SINGLE_FAMILY</span><br><span style='font-family: Arial, sans-serif;'><b>Beds:</b> 3.0</span><br><span style='font-family: Arial, sans-serif;'><b>Baths:</b> 1.0</span><br><span style='font-family: Arial, sans-serif;'><b>Sq Ft:</b> 1,360</span><br><span style='font-family: Arial, sans-serif;'><b>Year Built:</b> 1952</span><br><span style='font-family: Arial, sans-serif;'><b>Price:</b> $279,999</span>",
           38.884709,
           -76.943265
          ],
          [
           "<b style='font-family: Arial, sans-serif; font-size: 14px;'>616 46TH ST NE</b><br><span style='font-family: Arial, sans-serif;'>WASHINGTON, DC, 20019</span><br><span style='font-family: Arial, sans-serif;'><b>Type:</b> SINGLE_FAMILY</span><br><span style='font-family: Arial, sans-serif;'><b>Beds:</b> 4.0</span><br><span style='font-family: Arial, sans-serif;'><b>Baths:</b> 2.5</span><br><span style='font-family: Arial, sans-serif;'><b>Sq Ft:</b> 2,046</span><br><span style='font-family: Arial, sans-serif;'><b>Year Built:</b> 1990</span><br><span style='font-family: Arial, sans-serif;'><b>Price:</b> $525,000</span>",
           38.898111,
           -76.936782
          ],
          [
           "<b style='font-family: Arial, sans-serif; font-size: 14px;'>6210 8TH ST NW</b><br><span style='font-family: Arial, sans-serif;'>WASHINGTON, DC, 20011</span><br><span style='font-family: Arial, sans-serif;'><b>Type:</b> SINGLE_FAMILY</span><br><span style='font-family: Arial, sans-serif;'><b>Beds:</b> 3.0</span><br><span style='font-family: Arial, sans-serif;'><b>Baths:</b> 2.5</span><br><span style='font-family: Arial, sans-serif;'><b>Sq Ft:</b> 2,456</span><br><span style='font-family: Arial, sans-serif;'><b>Year Built:</b> 1923</span><br><span style='font-family: Arial, sans-serif;'><b>Price:</b> $699,000</span>",
           38.965633,
           -77.02454
          ],
          [
           "<b style='font-family: Arial, sans-serif; font-size: 14px;'>2921 LANGSTON PL SE</b><br><span style='font-family: Arial, sans-serif;'>WASHINGTON, DC, 20020</span><br><span style='font-family: Arial, sans-serif;'><b>Type:</b> SINGLE_FAMILY</span><br><span style='font-family: Arial, sans-serif;'><b>Beds:</b> 3.0</span><br><span style='font-family: Arial, sans-serif;'><b>Baths:</b> 1.0</span><br><span style='font-family: Arial, sans-serif;'><b>Sq Ft:</b> 1,350</span><br><span style='font-family: Arial, sans-serif;'><b>Year Built:</b> 1953</span><br><span style='font-family: Arial, sans-serif;'><b>Price:</b> $768,000</span>",
           38.854926,
           -76.97429
          ],
          [
           "<b style='font-family: Arial, sans-serif; font-size: 14px;'>3101 CLEVELAND AVE NW</b><br><span style='font-family: Arial, sans-serif;'>WASHINGTON, DC, 20008</span><br><span style='font-family: Arial, sans-serif;'><b>Type:</b> SINGLE_FAMILY</span><br><span style='font-family: Arial, sans-serif;'><b>Beds:</b> 4.0</span><br><span style='font-family: Arial, sans-serif;'><b>Baths:</b> 2.5</span><br><span style='font-family: Arial, sans-serif;'><b>Sq Ft:</b> 3,925</span><br><span style='font-family: Arial, sans-serif;'><b>Year Built:</b> 1946</span><br><span style='font-family: Arial, sans-serif;'><b>Price:</b> $2,200,000</span>",
           38.926497,
           -77.06154
          ],
          [
           "<b style='font-family: Arial, sans-serif; font-size: 14px;'>1605 KENNEDY PL NW</b><br><span style='font-family: Arial, sans-serif;'>WASHINGTON, DC, 20011</span><br><span style='font-family: Arial, sans-serif;'><b>Type:</b> SINGLE_FAMILY</span><br><span style='font-family: Arial, sans-serif;'><b>Beds:</b> 5.0</span><br><span style='font-family: Arial, sans-serif;'><b>Baths:</b> 5.5</span><br><span style='font-family: Arial, sans-serif;'><b>Sq Ft:</b> 4,971</span><br><span style='font-family: Arial, sans-serif;'><b>Year Built:</b> 1928</span><br><span style='font-family: Arial, sans-serif;'><b>Price:</b> $1,899,999</span>",
           38.956991,
           -77.037259
          ],
          [
           "<b style='font-family: Arial, sans-serif; font-size: 14px;'>4928 ASTOR PL SE</b><br><span style='font-family: Arial, sans-serif;'>WASHINGTON, DC, 20019</span><br><span style='font-family: Arial, sans-serif;'><b>Type:</b> SINGLE_FAMILY</span><br><span style='font-family: Arial, sans-serif;'><b>Beds:</b> 6.0</span><br><span style='font-family: Arial, sans-serif;'><b>Baths:</b> 5.0</span><br><span style='font-family: Arial, sans-serif;'><b>Sq Ft:</b> 3,000</span><br><span style='font-family: Arial, sans-serif;'><b>Year Built:</b> 2024</span><br><span style='font-family: Arial, sans-serif;'><b>Price:</b> $849,990</span>",
           38.887707,
           -76.931284
          ],
          [
           "<b style='font-family: Arial, sans-serif; font-size: 14px;'>8028 EASTERN AVE NW</b><br><span style='font-family: Arial, sans-serif;'>WASHINGTON, DC, 20012</span><br><span style='font-family: Arial, sans-serif;'><b>Type:</b> SINGLE_FAMILY</span><br><span style='font-family: Arial, sans-serif;'><b>Beds:</b> 4.0</span><br><span style='font-family: Arial, sans-serif;'><b>Baths:</b> 2.5</span><br><span style='font-family: Arial, sans-serif;'><b>Sq Ft:</b> 1,934</span><br><span style='font-family: Arial, sans-serif;'><b>Year Built:</b> 1952</span><br><span style='font-family: Arial, sans-serif;'><b>Price:</b> $810,000</span>",
           38.98751,
           -77.030853
          ],
          [
           "<b style='font-family: Arial, sans-serif; font-size: 14px;'>2522 33RD ST SE</b><br><span style='font-family: Arial, sans-serif;'>WASHINGTON, DC, 20020</span><br><span style='font-family: Arial, sans-serif;'><b>Type:</b> SINGLE_FAMILY</span><br><span style='font-family: Arial, sans-serif;'><b>Beds:</b> 3.0</span><br><span style='font-family: Arial, sans-serif;'><b>Baths:</b> 2.5</span><br><span style='font-family: Arial, sans-serif;'><b>Sq Ft:</b> 2,432</span><br><span style='font-family: Arial, sans-serif;'><b>Year Built:</b> 1936</span><br><span style='font-family: Arial, sans-serif;'><b>Price:</b> $650,000</span>",
           38.858536,
           -76.959837
          ],
          [
           "<b style='font-family: Arial, sans-serif; font-size: 14px;'>1321 HOLLY ST NW</b><br><span style='font-family: Arial, sans-serif;'>WASHINGTON, DC, 20012</span><br><span style='font-family: Arial, sans-serif;'><b>Type:</b> SINGLE_FAMILY</span><br><span style='font-family: Arial, sans-serif;'><b>Beds:</b> 3.0</span><br><span style='font-family: Arial, sans-serif;'><b>Baths:</b> 2.5</span><br><span style='font-family: Arial, sans-serif;'><b>Sq Ft:</b> 1,034</span><br><span style='font-family: Arial, sans-serif;'><b>Year Built:</b> 1923</span><br><span style='font-family: Arial, sans-serif;'><b>Price:</b> $789,000</span>",
           38.9805812,
           -77.0321857
          ],
          [
           "<b style='font-family: Arial, sans-serif; font-size: 14px;'>1601 N PORTAL DR NW</b><br><span style='font-family: Arial, sans-serif;'>WASHINGTON, DC, 20012</span><br><span style='font-family: Arial, sans-serif;'><b>Type:</b> SINGLE_FAMILY</span><br><span style='font-family: Arial, sans-serif;'><b>Beds:</b> 6.0</span><br><span style='font-family: Arial, sans-serif;'><b>Baths:</b> 6.5</span><br><span style='font-family: Arial, sans-serif;'><b>Sq Ft:</b> 4,821</span><br><span style='font-family: Arial, sans-serif;'><b>Year Built:</b> 1957</span><br><span style='font-family: Arial, sans-serif;'><b>Price:</b> $1,300,000</span>",
           38.992299,
           -77.036852
          ],
          [
           "<b style='font-family: Arial, sans-serif; font-size: 14px;'>5834 OREGON AVE NW</b><br><span style='font-family: Arial, sans-serif;'>WASHINGTON, DC, 20015</span><br><span style='font-family: Arial, sans-serif;'><b>Type:</b> SINGLE_FAMILY</span><br><span style='font-family: Arial, sans-serif;'><b>Beds:</b> 4.0</span><br><span style='font-family: Arial, sans-serif;'><b>Baths:</b> 3.0</span><br><span style='font-family: Arial, sans-serif;'><b>Sq Ft:</b> 2,605</span><br><span style='font-family: Arial, sans-serif;'><b>Year Built:</b> 1959</span><br><span style='font-family: Arial, sans-serif;'><b>Price:</b> $1,200,000</span>",
           38.968931,
           -77.05429
          ],
          [
           "<b style='font-family: Arial, sans-serif; font-size: 14px;'>3113 44TH ST NW</b><br><span style='font-family: Arial, sans-serif;'>WASHINGTON, DC, 20016</span><br><span style='font-family: Arial, sans-serif;'><b>Type:</b> SINGLE_FAMILY</span><br><span style='font-family: Arial, sans-serif;'><b>Beds:</b> 5.0</span><br><span style='font-family: Arial, sans-serif;'><b>Baths:</b> 3.5</span><br><span style='font-family: Arial, sans-serif;'><b>Sq Ft:</b> 3,893</span><br><span style='font-family: Arial, sans-serif;'><b>Year Built:</b> 1926</span><br><span style='font-family: Arial, sans-serif;'><b>Price:</b> $2,999,900</span>",
           38.932099,
           -77.08582
          ],
          [
           "<b style='font-family: Arial, sans-serif; font-size: 14px;'>1337 U ST SE</b><br><span style='font-family: Arial, sans-serif;'>WASHINGTON, DC, 20020</span><br><span style='font-family: Arial, sans-serif;'><b>Type:</b> SINGLE_FAMILY</span><br><span style='font-family: Arial, sans-serif;'><b>Beds:</b> 3.0</span><br><span style='font-family: Arial, sans-serif;'><b>Baths:</b> 2.0</span><br><span style='font-family: Arial, sans-serif;'><b>Sq Ft:</b> 1,622</span><br><span style='font-family: Arial, sans-serif;'><b>Year Built:</b> 1905</span><br><span style='font-family: Arial, sans-serif;'><b>Price:</b> $907,500</span>",
           38.865806,
           -76.986229
          ],
          [
           "<b style='font-family: Arial, sans-serif; font-size: 14px;'>3410 MORRISON ST NW</b><br><span style='font-family: Arial, sans-serif;'>WASHINGTON, DC, 20015</span><br><span style='font-family: Arial, sans-serif;'><b>Type:</b> SINGLE_FAMILY</span><br><span style='font-family: Arial, sans-serif;'><b>Beds:</b> 6.0</span><br><span style='font-family: Arial, sans-serif;'><b>Baths:</b> 6.0</span><br><span style='font-family: Arial, sans-serif;'><b>Sq Ft:</b> 4,531</span><br><span style='font-family: Arial, sans-serif;'><b>Year Built:</b> 1927</span><br><span style='font-family: Arial, sans-serif;'><b>Price:</b> $2,295,000</span>",
           38.963759,
           -77.068413
          ],
          [
           "<b style='font-family: Arial, sans-serif; font-size: 14px;'>6518 7TH ST NW</b><br><span style='font-family: Arial, sans-serif;'>WASHINGTON, DC, 20012</span><br><span style='font-family: Arial, sans-serif;'><b>Type:</b> SINGLE_FAMILY</span><br><span style='font-family: Arial, sans-serif;'><b>Beds:</b> 3.0</span><br><span style='font-family: Arial, sans-serif;'><b>Baths:</b> 3.0</span><br><span style='font-family: Arial, sans-serif;'><b>Sq Ft:</b> 1,594</span><br><span style='font-family: Arial, sans-serif;'><b>Year Built:</b> 1920</span><br><span style='font-family: Arial, sans-serif;'><b>Price:</b> $669,000</span>",
           38.9693347,
           -77.0227342
          ],
          [
           "<b style='font-family: Arial, sans-serif; font-size: 14px;'>2318 NEBRASKA AVE NW</b><br><span style='font-family: Arial, sans-serif;'>WASHINGTON, DC, 20016</span><br><span style='font-family: Arial, sans-serif;'><b>Type:</b> SINGLE_FAMILY</span><br><span style='font-family: Arial, sans-serif;'><b>Beds:</b> 4.0</span><br><span style='font-family: Arial, sans-serif;'><b>Baths:</b> 4.0</span><br><span style='font-family: Arial, sans-serif;'><b>Sq Ft:</b> 4,100</span><br><span style='font-family: Arial, sans-serif;'><b>Year Built:</b> 2004</span><br><span style='font-family: Arial, sans-serif;'><b>Price:</b> $3,095,000</span>",
           38.920981,
           -77.100743
          ],
          [
           "<b style='font-family: Arial, sans-serif; font-size: 14px;'>1023 49TH PL NE</b><br><span style='font-family: Arial, sans-serif;'>WASHINGTON, DC, 20019</span><br><span style='font-family: Arial, sans-serif;'><b>Type:</b> SINGLE_FAMILY</span><br><span style='font-family: Arial, sans-serif;'><b>Beds:</b> 3.0</span><br><span style='font-family: Arial, sans-serif;'><b>Baths:</b> 1.0</span><br><span style='font-family: Arial, sans-serif;'><b>Sq Ft:</b> 1,104</span><br><span style='font-family: Arial, sans-serif;'><b>Year Built:</b> 1960</span><br><span style='font-family: Arial, sans-serif;'><b>Price:</b> $225,000</span>",
           38.903986,
           -76.930445
          ],
          [
           "<b style='font-family: Arial, sans-serif; font-size: 14px;'>8120 EASTERN AVE NW</b><br><span style='font-family: Arial, sans-serif;'>WASHINGTON, DC, 20012</span><br><span style='font-family: Arial, sans-serif;'><b>Type:</b> SINGLE_FAMILY</span><br><span style='font-family: Arial, sans-serif;'><b>Beds:</b> 6.0</span><br><span style='font-family: Arial, sans-serif;'><b>Baths:</b> 4.5</span><br><span style='font-family: Arial, sans-serif;'><b>Sq Ft:</b> 4,600</span><br><span style='font-family: Arial, sans-serif;'><b>Year Built:</b> 1952</span><br><span style='font-family: Arial, sans-serif;'><b>Price:</b> $1,749,000</span>",
           38.98852,
           -77.032137
          ],
          [
           "<b style='font-family: Arial, sans-serif; font-size: 14px;'>3549 SPRINGLAND LN NW</b><br><span style='font-family: Arial, sans-serif;'>WASHINGTON, DC, 20008</span><br><span style='font-family: Arial, sans-serif;'><b>Type:</b> SINGLE_FAMILY</span><br><span style='font-family: Arial, sans-serif;'><b>Beds:</b> 5.0</span><br><span style='font-family: Arial, sans-serif;'><b>Baths:</b> 6.0</span><br><span style='font-family: Arial, sans-serif;'><b>Sq Ft:</b> 4,545</span><br><span style='font-family: Arial, sans-serif;'><b>Year Built:</b> 1937</span><br><span style='font-family: Arial, sans-serif;'><b>Price:</b> $2,800,000</span>",
           38.940461,
           -77.070257
          ],
          [
           "<b style='font-family: Arial, sans-serif; font-size: 14px;'>1821 SUDBURY LN NW</b><br><span style='font-family: Arial, sans-serif;'>WASHINGTON, DC, 20012</span><br><span style='font-family: Arial, sans-serif;'><b>Type:</b> SINGLE_FAMILY</span><br><span style='font-family: Arial, sans-serif;'><b>Beds:</b> 5.0</span><br><span style='font-family: Arial, sans-serif;'><b>Baths:</b> 4.5</span><br><span style='font-family: Arial, sans-serif;'><b>Sq Ft:</b> 5,032</span><br><span style='font-family: Arial, sans-serif;'><b>Year Built:</b> 1987</span><br><span style='font-family: Arial, sans-serif;'><b>Price:</b> $1,890,000</span>",
           38.987711,
           -77.043773
          ],
          [
           "<b style='font-family: Arial, sans-serif; font-size: 14px;'>4244 CLAY ST NE</b><br><span style='font-family: Arial, sans-serif;'>WASHINGTON, DC, 20019</span><br><span style='font-family: Arial, sans-serif;'><b>Type:</b> SINGLE_FAMILY</span><br><span style='font-family: Arial, sans-serif;'><b>Beds:</b> 5.0</span><br><span style='font-family: Arial, sans-serif;'><b>Baths:</b> 2.5</span><br><span style='font-family: Arial, sans-serif;'><b>Sq Ft:</b> 1,932</span><br><span style='font-family: Arial, sans-serif;'><b>Year Built:</b> 1925</span><br><span style='font-family: Arial, sans-serif;'><b>Price:</b> $619,900</span>",
           38.894449,
           -76.940056
          ],
          [
           "<b style='font-family: Arial, sans-serif; font-size: 14px;'>5017 KLINGLE ST NW</b><br><span style='font-family: Arial, sans-serif;'>WASHINGTON, DC, 20016</span><br><span style='font-family: Arial, sans-serif;'><b>Type:</b> SINGLE_FAMILY</span><br><span style='font-family: Arial, sans-serif;'><b>Beds:</b> 6.0</span><br><span style='font-family: Arial, sans-serif;'><b>Baths:</b> 5.5</span><br><span style='font-family: Arial, sans-serif;'><b>Sq Ft:</b> 6,850</span><br><span style='font-family: Arial, sans-serif;'><b>Year Built:</b> 2001</span><br><span style='font-family: Arial, sans-serif;'><b>Price:</b> $3,999,900</span>",
           38.931817,
           -77.100594
          ],
          [
           "<b style='font-family: Arial, sans-serif; font-size: 14px;'>2609 KLINGLE RD NW</b><br><span style='font-family: Arial, sans-serif;'>WASHINGTON, DC, 20008</span><br><span style='font-family: Arial, sans-serif;'><b>Type:</b> SINGLE_FAMILY</span><br><span style='font-family: Arial, sans-serif;'><b>Beds:</b> 4.0</span><br><span style='font-family: Arial, sans-serif;'><b>Baths:</b> 3.0</span><br><span style='font-family: Arial, sans-serif;'><b>Sq Ft:</b> 3,590</span><br><span style='font-family: Arial, sans-serif;'><b>Year Built:</b> 1981</span><br><span style='font-family: Arial, sans-serif;'><b>Price:</b> $2,800,000</span>",
           38.934019,
           -77.053373
          ],
          [
           "<b style='font-family: Arial, sans-serif; font-size: 14px;'>7310 ALASKA AVE NW</b><br><span style='font-family: Arial, sans-serif;'>WASHINGTON, DC, 20012</span><br><span style='font-family: Arial, sans-serif;'><b>Type:</b> SINGLE_FAMILY</span><br><span style='font-family: Arial, sans-serif;'><b>Beds:</b> 5.0</span><br><span style='font-family: Arial, sans-serif;'><b>Baths:</b> 4.5</span><br><span style='font-family: Arial, sans-serif;'><b>Sq Ft:</b> 4,640</span><br><span style='font-family: Arial, sans-serif;'><b>Year Built:</b> 1937</span><br><span style='font-family: Arial, sans-serif;'><b>Price:</b> $1,350,000</span>",
           38.978935,
           -77.032435
          ],
          [
           "<b style='font-family: Arial, sans-serif; font-size: 14px;'>2123 BRANCH AVE SE</b><br><span style='font-family: Arial, sans-serif;'>WASHINGTON, DC, 20020</span><br><span style='font-family: Arial, sans-serif;'><b>Type:</b> SINGLE_FAMILY</span><br><span style='font-family: Arial, sans-serif;'><b>Beds:</b> 3.0</span><br><span style='font-family: Arial, sans-serif;'><b>Baths:</b> 3.5</span><br><span style='font-family: Arial, sans-serif;'><b>Sq Ft:</b> 1,743</span><br><span style='font-family: Arial, sans-serif;'><b>Year Built:</b> 1936</span><br><span style='font-family: Arial, sans-serif;'><b>Price:</b> $584,999</span>",
           38.863689,
           -76.959788
          ],
          [
           "<b style='font-family: Arial, sans-serif; font-size: 14px;'>1424 42ND PL SE</b><br><span style='font-family: Arial, sans-serif;'>WASHINGTON, DC, 20020</span><br><span style='font-family: Arial, sans-serif;'><b>Type:</b> SINGLE_FAMILY</span><br><span style='font-family: Arial, sans-serif;'><b>Beds:</b> 5.0</span><br><span style='font-family: Arial, sans-serif;'><b>Baths:</b> 2.0</span><br><span style='font-family: Arial, sans-serif;'><b>Sq Ft:</b> 1,608</span><br><span style='font-family: Arial, sans-serif;'><b>Year Built:</b> 1964</span><br><span style='font-family: Arial, sans-serif;'><b>Price:</b> $525,000</span>",
           38.8682214,
           -76.9429932
          ],
          [
           "<b style='font-family: Arial, sans-serif; font-size: 14px;'>5020 MEADE ST NE</b><br><span style='font-family: Arial, sans-serif;'>WASHINGTON, DC, 20019</span><br><span style='font-family: Arial, sans-serif;'><b>Type:</b> SINGLE_FAMILY</span><br><span style='font-family: Arial, sans-serif;'><b>Beds:</b> 3.0</span><br><span style='font-family: Arial, sans-serif;'><b>Baths:</b> 3.0</span><br><span style='font-family: Arial, sans-serif;'><b>Sq Ft:</b> 1,872</span><br><span style='font-family: Arial, sans-serif;'><b>Year Built:</b> 1924</span><br><span style='font-family: Arial, sans-serif;'><b>Price:</b> $524,999</span>",
           38.906325,
           -76.928842
          ],
          [
           "<b style='font-family: Arial, sans-serif; font-size: 14px;'>2838 27TH ST NE</b><br><span style='font-family: Arial, sans-serif;'>WASHINGTON, DC, 20018</span><br><span style='font-family: Arial, sans-serif;'><b>Type:</b> SINGLE_FAMILY</span><br><span style='font-family: Arial, sans-serif;'><b>Beds:</b> 2.0</span><br><span style='font-family: Arial, sans-serif;'><b>Baths:</b> 1.0</span><br><span style='font-family: Arial, sans-serif;'><b>Sq Ft:</b> 918</span><br><span style='font-family: Arial, sans-serif;'><b>Year Built:</b> 1922</span><br><span style='font-family: Arial, sans-serif;'><b>Price:</b> $200,000</span>",
           38.927134,
           -76.969306
          ],
          [
           "<b style='font-family: Arial, sans-serif; font-size: 14px;'>4607 MEADE ST NE</b><br><span style='font-family: Arial, sans-serif;'>WASHINGTON, DC, 20019</span><br><span style='font-family: Arial, sans-serif;'><b>Type:</b> SINGLE_FAMILY</span><br><span style='font-family: Arial, sans-serif;'><b>Beds:</b> 3.0</span><br><span style='font-family: Arial, sans-serif;'><b>Baths:</b> 2.5</span><br><span style='font-family: Arial, sans-serif;'><b>Sq Ft:</b> 1,716</span><br><span style='font-family: Arial, sans-serif;'><b>Year Built:</b> 1915</span><br><span style='font-family: Arial, sans-serif;'><b>Price:</b> $659,500</span>",
           38.905818,
           -76.935565
          ],
          [
           "<b style='font-family: Arial, sans-serif; font-size: 14px;'>1810 IRVING ST NE</b><br><span style='font-family: Arial, sans-serif;'>WASHINGTON, DC, 20018</span><br><span style='font-family: Arial, sans-serif;'><b>Type:</b> SINGLE_FAMILY</span><br><span style='font-family: Arial, sans-serif;'><b>Beds:</b> 4.0</span><br><span style='font-family: Arial, sans-serif;'><b>Baths:</b> 3.0</span><br><span style='font-family: Arial, sans-serif;'><b>Sq Ft:</b> 1,761</span><br><span style='font-family: Arial, sans-serif;'><b>Year Built:</b> 1939</span><br><span style='font-family: Arial, sans-serif;'><b>Price:</b> $549,999</span>",
           38.929348,
           -76.97866
          ],
          [
           "<b style='font-family: Arial, sans-serif; font-size: 14px;'>4920 43RD PL NW</b><br><span style='font-family: Arial, sans-serif;'>WASHINGTON, DC, 20016</span><br><span style='font-family: Arial, sans-serif;'><b>Type:</b> SINGLE_FAMILY</span><br><span style='font-family: Arial, sans-serif;'><b>Beds:</b> 4.0</span><br><span style='font-family: Arial, sans-serif;'><b>Baths:</b> 2.5</span><br><span style='font-family: Arial, sans-serif;'><b>Sq Ft:</b> 1,664</span><br><span style='font-family: Arial, sans-serif;'><b>Year Built:</b> 1936</span><br><span style='font-family: Arial, sans-serif;'><b>Price:</b> $1,100,000</span>",
           38.954111,
           -77.085326
          ],
          [
           "<b style='font-family: Arial, sans-serif; font-size: 14px;'>4233 CLAY ST NE</b><br><span style='font-family: Arial, sans-serif;'>WASHINGTON, DC, 20019</span><br><span style='font-family: Arial, sans-serif;'><b>Type:</b> SINGLE_FAMILY</span><br><span style='font-family: Arial, sans-serif;'><b>Beds:</b> 3.0</span><br><span style='font-family: Arial, sans-serif;'><b>Baths:</b> 2.0</span><br><span style='font-family: Arial, sans-serif;'><b>Sq Ft:</b> 868</span><br><span style='font-family: Arial, sans-serif;'><b>Year Built:</b> 1920</span><br><span style='font-family: Arial, sans-serif;'><b>Price:</b> $399,000</span>",
           38.894139,
           -76.940715
          ],
          [
           "<b style='font-family: Arial, sans-serif; font-size: 14px;'>4414 13TH PL NE</b><br><span style='font-family: Arial, sans-serif;'>WASHINGTON, DC, 20017</span><br><span style='font-family: Arial, sans-serif;'><b>Type:</b> SINGLE_FAMILY</span><br><span style='font-family: Arial, sans-serif;'><b>Beds:</b> 3.0</span><br><span style='font-family: Arial, sans-serif;'><b>Baths:</b> 2.0</span><br><span style='font-family: Arial, sans-serif;'><b>Sq Ft:</b> 1,636</span><br><span style='font-family: Arial, sans-serif;'><b>Year Built:</b> 1932</span><br><span style='font-family: Arial, sans-serif;'><b>Price:</b> $989,999</span>",
           38.9434691,
           -76.9875052
          ],
          [
           "<b style='font-family: Arial, sans-serif; font-size: 14px;'>4410 MEADOW RD NW</b><br><span style='font-family: Arial, sans-serif;'>WASHINGTON, DC, 20007</span><br><span style='font-family: Arial, sans-serif;'><b>Type:</b> SINGLE_FAMILY</span><br><span style='font-family: Arial, sans-serif;'><b>Beds:</b> 5.0</span><br><span style='font-family: Arial, sans-serif;'><b>Baths:</b> 6.5</span><br><span style='font-family: Arial, sans-serif;'><b>Sq Ft:</b> 7,297</span><br><span style='font-family: Arial, sans-serif;'><b>Year Built:</b> 2014</span><br><span style='font-family: Arial, sans-serif;'><b>Price:</b> $5,575,000</span>",
           38.918543,
           -77.086941
          ],
          [
           "<b style='font-family: Arial, sans-serif; font-size: 14px;'>5244 WATSON ST NW</b><br><span style='font-family: Arial, sans-serif;'>WASHINGTON, DC, 20016</span><br><span style='font-family: Arial, sans-serif;'><b>Type:</b> SINGLE_FAMILY</span><br><span style='font-family: Arial, sans-serif;'><b>Beds:</b> 5.0</span><br><span style='font-family: Arial, sans-serif;'><b>Baths:</b> 6.0</span><br><span style='font-family: Arial, sans-serif;'><b>Sq Ft:</b> 6,175</span><br><span style='font-family: Arial, sans-serif;'><b>Year Built:</b> 2024</span><br><span style='font-family: Arial, sans-serif;'><b>Price:</b> $4,250,000</span>",
           38.934607,
           -77.10914
          ],
          [
           "<b style='font-family: Arial, sans-serif; font-size: 14px;'>1601 28TH ST NW</b><br><span style='font-family: Arial, sans-serif;'>WASHINGTON, DC, 20007</span><br><span style='font-family: Arial, sans-serif;'><b>Type:</b> SINGLE_FAMILY</span><br><span style='font-family: Arial, sans-serif;'><b>Beds:</b> 5.0</span><br><span style='font-family: Arial, sans-serif;'><b>Baths:</b> 5.5</span><br><span style='font-family: Arial, sans-serif;'><b>Sq Ft:</b> 4,700</span><br><span style='font-family: Arial, sans-serif;'><b>Price:</b> $8,500,000</span>",
           38.910713,
           -77.056865
          ],
          [
           "<b style='font-family: Arial, sans-serif; font-size: 14px;'>2950 MACOMB ST NW</b><br><span style='font-family: Arial, sans-serif;'>WASHINGTON, DC, 20008</span><br><span style='font-family: Arial, sans-serif;'><b>Type:</b> SINGLE_FAMILY</span><br><span style='font-family: Arial, sans-serif;'><b>Beds:</b> 6.0</span><br><span style='font-family: Arial, sans-serif;'><b>Baths:</b> 4.5</span><br><span style='font-family: Arial, sans-serif;'><b>Sq Ft:</b> 5,577</span><br><span style='font-family: Arial, sans-serif;'><b>Year Built:</b> 1922</span><br><span style='font-family: Arial, sans-serif;'><b>Price:</b> $5,300,000</span>",
           38.933168,
           -77.059828
          ],
          [
           "<b style='font-family: Arial, sans-serif; font-size: 14px;'>3719 S ST NW</b><br><span style='font-family: Arial, sans-serif;'>WASHINGTON, DC, 20007</span><br><span style='font-family: Arial, sans-serif;'><b>Type:</b> SINGLE_FAMILY</span><br><span style='font-family: Arial, sans-serif;'><b>Beds:</b> 3.0</span><br><span style='font-family: Arial, sans-serif;'><b>Baths:</b> 1.5</span><br><span style='font-family: Arial, sans-serif;'><b>Sq Ft:</b> 1,692</span><br><span style='font-family: Arial, sans-serif;'><b>Year Built:</b> 1923</span><br><span style='font-family: Arial, sans-serif;'><b>Price:</b> $2,875,000</span>",
           38.914713,
           -77.073842
          ],
          [
           "<b style='font-family: Arial, sans-serif; font-size: 14px;'>4839 JAY ST NE</b><br><span style='font-family: Arial, sans-serif;'>WASHINGTON, DC, 20019</span><br><span style='font-family: Arial, sans-serif;'><b>Type:</b> SINGLE_FAMILY</span><br><span style='font-family: Arial, sans-serif;'><b>Beds:</b> 3.0</span><br><span style='font-family: Arial, sans-serif;'><b>Baths:</b> 1.5</span><br><span style='font-family: Arial, sans-serif;'><b>Sq Ft:</b> 1,602</span><br><span style='font-family: Arial, sans-serif;'><b>Year Built:</b> 1924</span><br><span style='font-family: Arial, sans-serif;'><b>Price:</b> $565,000</span>",
           38.901248,
           -76.932227
          ],
          [
           "<b style='font-family: Arial, sans-serif; font-size: 14px;'>7407 9TH ST NW</b><br><span style='font-family: Arial, sans-serif;'>WASHINGTON, DC, 20012</span><br><span style='font-family: Arial, sans-serif;'><b>Type:</b> SINGLE_FAMILY</span><br><span style='font-family: Arial, sans-serif;'><b>Beds:</b> 3.0</span><br><span style='font-family: Arial, sans-serif;'><b>Baths:</b> 3.5</span><br><span style='font-family: Arial, sans-serif;'><b>Sq Ft:</b> 1,750</span><br><span style='font-family: Arial, sans-serif;'><b>Year Built:</b> 1960</span><br><span style='font-family: Arial, sans-serif;'><b>Price:</b> $949,900</span>",
           38.979887,
           -77.025131
          ],
          [
           "<b style='font-family: Arial, sans-serif; font-size: 14px;'>4404 16TH ST NW</b><br><span style='font-family: Arial, sans-serif;'>WASHINGTON, DC, 20011</span><br><span style='font-family: Arial, sans-serif;'><b>Type:</b> SINGLE_FAMILY</span><br><span style='font-family: Arial, sans-serif;'><b>Beds:</b> 7.0</span><br><span style='font-family: Arial, sans-serif;'><b>Baths:</b> 3.0</span><br><span style='font-family: Arial, sans-serif;'><b>Sq Ft:</b> 4,145</span><br><span style='font-family: Arial, sans-serif;'><b>Year Built:</b> 1925</span><br><span style='font-family: Arial, sans-serif;'><b>Price:</b> $1,200,000</span>",
           38.944542,
           -77.036919
          ],
          [
           "<b style='font-family: Arial, sans-serif; font-size: 14px;'>3031 GATES RD NW</b><br><span style='font-family: Arial, sans-serif;'>WASHINGTON, DC, 20008</span><br><span style='font-family: Arial, sans-serif;'><b>Type:</b> SINGLE_FAMILY</span><br><span style='font-family: Arial, sans-serif;'><b>Beds:</b> 8.0</span><br><span style='font-family: Arial, sans-serif;'><b>Baths:</b> 6.5</span><br><span style='font-family: Arial, sans-serif;'><b>Sq Ft:</b> 10,780</span><br><span style='font-family: Arial, sans-serif;'><b>Year Built:</b> 1905</span><br><span style='font-family: Arial, sans-serif;'><b>Price:</b> $12,000,000</span>",
           38.950998,
           -77.063725
          ],
          [
           "<b style='font-family: Arial, sans-serif; font-size: 14px;'>1030 KEARNY ST NE</b><br><span style='font-family: Arial, sans-serif;'>WASHINGTON, DC, 20017</span><br><span style='font-family: Arial, sans-serif;'><b>Type:</b> SINGLE_FAMILY</span><br><span style='font-family: Arial, sans-serif;'><b>Beds:</b> 4.0</span><br><span style='font-family: Arial, sans-serif;'><b>Baths:</b> 2.5</span><br><span style='font-family: Arial, sans-serif;'><b>Sq Ft:</b> 2,500</span><br><span style='font-family: Arial, sans-serif;'><b>Price:</b> $799,999</span>",
           38.930838,
           -76.99141
          ],
          [
           "<b style='font-family: Arial, sans-serif; font-size: 14px;'>1263 SUMNER RD SE</b><br><span style='font-family: Arial, sans-serif;'>WASHINGTON, DC, 20020</span><br><span style='font-family: Arial, sans-serif;'><b>Type:</b> SINGLE_FAMILY</span><br><span style='font-family: Arial, sans-serif;'><b>Beds:</b> 4.0</span><br><span style='font-family: Arial, sans-serif;'><b>Baths:</b> 1.5</span><br><span style='font-family: Arial, sans-serif;'><b>Sq Ft:</b> 1,548</span><br><span style='font-family: Arial, sans-serif;'><b>Price:</b> $325,000</span>",
           38.859526,
           -76.99597
          ],
          [
           "<b style='font-family: Arial, sans-serif; font-size: 14px;'>3222 BROAD BRANCH TER NW</b><br><span style='font-family: Arial, sans-serif;'>WASHINGTON, DC, 20008</span><br><span style='font-family: Arial, sans-serif;'><b>Type:</b> SINGLE_FAMILY</span><br><span style='font-family: Arial, sans-serif;'><b>Beds:</b> 6.0</span><br><span style='font-family: Arial, sans-serif;'><b>Baths:</b> 5.5</span><br><span style='font-family: Arial, sans-serif;'><b>Sq Ft:</b> 4,410</span><br><span style='font-family: Arial, sans-serif;'><b>Year Built:</b> 1959</span><br><span style='font-family: Arial, sans-serif;'><b>Price:</b> $3,250,000</span>",
           38.955271,
           -77.066198
          ],
          [
           "<b style='font-family: Arial, sans-serif; font-size: 14px;'>4237 FOOTE ST NE</b><br><span style='font-family: Arial, sans-serif;'>WASHINGTON, DC, 20019</span><br><span style='font-family: Arial, sans-serif;'><b>Type:</b> SINGLE_FAMILY</span><br><span style='font-family: Arial, sans-serif;'><b>Beds:</b> 4.0</span><br><span style='font-family: Arial, sans-serif;'><b>Baths:</b> 2.0</span><br><span style='font-family: Arial, sans-serif;'><b>Sq Ft:</b> 1,080</span><br><span style='font-family: Arial, sans-serif;'><b>Year Built:</b> 1947</span><br><span style='font-family: Arial, sans-serif;'><b>Price:</b> $435,000</span>",
           38.897281,
           -76.940929
          ],
          [
           "<b style='font-family: Arial, sans-serif; font-size: 14px;'>2804 RHODE ISLAND AVE NE</b><br><span style='font-family: Arial, sans-serif;'>WASHINGTON, DC, 20018</span><br><span style='font-family: Arial, sans-serif;'><b>Type:</b> SINGLE_FAMILY</span><br><span style='font-family: Arial, sans-serif;'><b>Beds:</b> 6.0</span><br><span style='font-family: Arial, sans-serif;'><b>Baths:</b> 6.5</span><br><span style='font-family: Arial, sans-serif;'><b>Sq Ft:</b> 4,298</span><br><span style='font-family: Arial, sans-serif;'><b>Year Built:</b> 1921</span><br><span style='font-family: Arial, sans-serif;'><b>Price:</b> $1,069,999</span>",
           38.933462,
           -76.967861
          ],
          [
           "<b style='font-family: Arial, sans-serif; font-size: 14px;'>1420 MICHIGAN AVE NE</b><br><span style='font-family: Arial, sans-serif;'>WASHINGTON, DC, 20017</span><br><span style='font-family: Arial, sans-serif;'><b>Type:</b> SINGLE_FAMILY</span><br><span style='font-family: Arial, sans-serif;'><b>Beds:</b> 3.0</span><br><span style='font-family: Arial, sans-serif;'><b>Baths:</b> 2.5</span><br><span style='font-family: Arial, sans-serif;'><b>Sq Ft:</b> 1,935</span><br><span style='font-family: Arial, sans-serif;'><b>Year Built:</b> 1937</span><br><span style='font-family: Arial, sans-serif;'><b>Price:</b> $709,000</span>",
           38.942847,
           -76.984711
          ],
          [
           "<b style='font-family: Arial, sans-serif; font-size: 14px;'>1334 CORBIN PL NE</b><br><span style='font-family: Arial, sans-serif;'>WASHINGTON, DC, 20002</span><br><span style='font-family: Arial, sans-serif;'><b>Type:</b> SINGLE_FAMILY</span><br><span style='font-family: Arial, sans-serif;'><b>Beds:</b> 3.0</span><br><span style='font-family: Arial, sans-serif;'><b>Baths:</b> 1.5</span><br><span style='font-family: Arial, sans-serif;'><b>Sq Ft:</b> 1,404</span><br><span style='font-family: Arial, sans-serif;'><b>Year Built:</b> 1915</span><br><span style='font-family: Arial, sans-serif;'><b>Price:</b> $790,000</span>",
           38.894361,
           -76.987004
          ],
          [
           "<b style='font-family: Arial, sans-serif; font-size: 14px;'>1753 VERBENA ST NW</b><br><span style='font-family: Arial, sans-serif;'>WASHINGTON, DC, 20012</span><br><span style='font-family: Arial, sans-serif;'><b>Type:</b> SINGLE_FAMILY</span><br><span style='font-family: Arial, sans-serif;'><b>Beds:</b> 4.0</span><br><span style='font-family: Arial, sans-serif;'><b>Baths:</b> 3.0</span><br><span style='font-family: Arial, sans-serif;'><b>Sq Ft:</b> 2,790</span><br><span style='font-family: Arial, sans-serif;'><b>Year Built:</b> 1955</span><br><span style='font-family: Arial, sans-serif;'><b>Price:</b> $1,499,000</span>",
           38.993729,
           -77.0387
          ],
          [
           "<b style='font-family: Arial, sans-serif; font-size: 14px;'>3030 44TH ST NW</b><br><span style='font-family: Arial, sans-serif;'>WASHINGTON, DC, 20016</span><br><span style='font-family: Arial, sans-serif;'><b>Type:</b> SINGLE_FAMILY</span><br><span style='font-family: Arial, sans-serif;'><b>Beds:</b> 5.0</span><br><span style='font-family: Arial, sans-serif;'><b>Baths:</b> 3.5</span><br><span style='font-family: Arial, sans-serif;'><b>Sq Ft:</b> 3,198</span><br><span style='font-family: Arial, sans-serif;'><b>Year Built:</b> 1928</span><br><span style='font-family: Arial, sans-serif;'><b>Price:</b> $2,995,000</span>",
           38.929823,
           -77.086616
          ],
          [
           "<b style='font-family: Arial, sans-serif; font-size: 14px;'>1358 MADISON ST NW</b><br><span style='font-family: Arial, sans-serif;'>WASHINGTON, DC, 20011</span><br><span style='font-family: Arial, sans-serif;'><b>Type:</b> SINGLE_FAMILY</span><br><span style='font-family: Arial, sans-serif;'><b>Beds:</b> 6.0</span><br><span style='font-family: Arial, sans-serif;'><b>Baths:</b> 4.0</span><br><span style='font-family: Arial, sans-serif;'><b>Sq Ft:</b> 3,050</span><br><span style='font-family: Arial, sans-serif;'><b>Year Built:</b> 1923</span><br><span style='font-family: Arial, sans-serif;'><b>Price:</b> $1,599,000</span>",
           38.958129,
           -77.032985
          ],
          [
           "<b style='font-family: Arial, sans-serif; font-size: 14px;'>5347 BASS PL SE</b><br><span style='font-family: Arial, sans-serif;'>WASHINGTON, DC, 20019</span><br><span style='font-family: Arial, sans-serif;'><b>Type:</b> SINGLE_FAMILY</span><br><span style='font-family: Arial, sans-serif;'><b>Beds:</b> 4.0</span><br><span style='font-family: Arial, sans-serif;'><b>Baths:</b> 2.0</span><br><span style='font-family: Arial, sans-serif;'><b>Sq Ft:</b> 1,564</span><br><span style='font-family: Arial, sans-serif;'><b>Year Built:</b> 1935</span><br><span style='font-family: Arial, sans-serif;'><b>Price:</b> $510,000</span>",
           38.884942,
           -76.924229
          ],
          [
           "<b style='font-family: Arial, sans-serif; font-size: 14px;'>1224 BRENTWOOD RD NE</b><br><span style='font-family: Arial, sans-serif;'>WASHINGTON, DC, 20018</span><br><span style='font-family: Arial, sans-serif;'><b>Type:</b> SINGLE_FAMILY</span><br><span style='font-family: Arial, sans-serif;'><b>Beds:</b> 3.0</span><br><span style='font-family: Arial, sans-serif;'><b>Baths:</b> 1.5</span><br><span style='font-family: Arial, sans-serif;'><b>Sq Ft:</b> 1,850</span><br><span style='font-family: Arial, sans-serif;'><b>Year Built:</b> 1916</span><br><span style='font-family: Arial, sans-serif;'><b>Price:</b> $1,000,000</span>",
           38.922597,
           -76.988788
          ],
          [
           "<b style='font-family: Arial, sans-serif; font-size: 14px;'>1355 MONTAGUE ST NW</b><br><span style='font-family: Arial, sans-serif;'>WASHINGTON, DC, 20011</span><br><span style='font-family: Arial, sans-serif;'><b>Type:</b> SINGLE_FAMILY</span><br><span style='font-family: Arial, sans-serif;'><b>Beds:</b> 5.0</span><br><span style='font-family: Arial, sans-serif;'><b>Baths:</b> 4.5</span><br><span style='font-family: Arial, sans-serif;'><b>Sq Ft:</b> 1,901</span><br><span style='font-family: Arial, sans-serif;'><b>Year Built:</b> 1916</span><br><span style='font-family: Arial, sans-serif;'><b>Price:</b> $1,195,000</span>",
           38.959553,
           -77.032486
          ],
          [
           "<b style='font-family: Arial, sans-serif; font-size: 14px;'>4615 SEDGWICK ST NW</b><br><span style='font-family: Arial, sans-serif;'>WASHINGTON, DC, 20016</span><br><span style='font-family: Arial, sans-serif;'><b>Type:</b> SINGLE_FAMILY</span><br><span style='font-family: Arial, sans-serif;'><b>Beds:</b> 4.0</span><br><span style='font-family: Arial, sans-serif;'><b>Baths:</b> 4.5</span><br><span style='font-family: Arial, sans-serif;'><b>Sq Ft:</b> 3,463</span><br><span style='font-family: Arial, sans-serif;'><b>Year Built:</b> 1950</span>",
           38.940617,
           -77.091696
          ],
          [
           "<b style='font-family: Arial, sans-serif; font-size: 14px;'>1319 DECATUR ST NW</b><br><span style='font-family: Arial, sans-serif;'>WASHINGTON, DC, 20011</span><br><span style='font-family: Arial, sans-serif;'><b>Type:</b> SINGLE_FAMILY</span><br><span style='font-family: Arial, sans-serif;'><b>Beds:</b> 4.0</span><br><span style='font-family: Arial, sans-serif;'><b>Baths:</b> 3.0</span><br><span style='font-family: Arial, sans-serif;'><b>Sq Ft:</b> 2,620</span><br><span style='font-family: Arial, sans-serif;'><b>Year Built:</b> 1950</span><br><span style='font-family: Arial, sans-serif;'><b>Price:</b> $925,000</span>",
           38.948481,
           -77.031491
          ],
          [
           "<b style='font-family: Arial, sans-serif; font-size: 14px;'>3100 APPLETON ST NW</b><br><span style='font-family: Arial, sans-serif;'>WASHINGTON, DC, 20008</span><br><span style='font-family: Arial, sans-serif;'><b>Type:</b> SINGLE_FAMILY</span><br><span style='font-family: Arial, sans-serif;'><b>Beds:</b> 3.0</span><br><span style='font-family: Arial, sans-serif;'><b>Baths:</b> 2.0</span><br><span style='font-family: Arial, sans-serif;'><b>Sq Ft:</b> 3,342</span><br><span style='font-family: Arial, sans-serif;'><b>Year Built:</b> 1925</span><br><span style='font-family: Arial, sans-serif;'><b>Price:</b> $4,999,000</span>",
           38.948642,
           -77.063377
          ],
          [
           "<b style='font-family: Arial, sans-serif; font-size: 14px;'>3363 BROTHERS PL SE</b><br><span style='font-family: Arial, sans-serif;'>WASHINGTON, DC, 20032</span><br><span style='font-family: Arial, sans-serif;'><b>Type:</b> SINGLE_FAMILY</span><br><span style='font-family: Arial, sans-serif;'><b>Beds:</b> 3.0</span><br><span style='font-family: Arial, sans-serif;'><b>Baths:</b> 1.5</span><br><span style='font-family: Arial, sans-serif;'><b>Sq Ft:</b> 1,663</span><br><span style='font-family: Arial, sans-serif;'><b>Year Built:</b> 1910</span><br><span style='font-family: Arial, sans-serif;'><b>Price:</b> $410,000</span>",
           38.842506,
           -77.004375
          ],
          [
           "<b style='font-family: Arial, sans-serif; font-size: 14px;'>3022 23RD ST SE</b><br><span style='font-family: Arial, sans-serif;'>WASHINGTON, DC, 20020</span><br><span style='font-family: Arial, sans-serif;'><b>Type:</b> SINGLE_FAMILY</span><br><span style='font-family: Arial, sans-serif;'><b>Beds:</b> 4.0</span><br><span style='font-family: Arial, sans-serif;'><b>Baths:</b> 2.0</span><br><span style='font-family: Arial, sans-serif;'><b>Sq Ft:</b> 1,514</span><br><span style='font-family: Arial, sans-serif;'><b>Year Built:</b> 1949</span><br><span style='font-family: Arial, sans-serif;'><b>Price:</b> $502,500</span>",
           38.853489,
           -76.972904
          ],
          [
           "<b style='font-family: Arial, sans-serif; font-size: 14px;'>4423 P ST NW</b><br><span style='font-family: Arial, sans-serif;'>WASHINGTON, DC, 20007</span><br><span style='font-family: Arial, sans-serif;'><b>Type:</b> SINGLE_FAMILY</span><br><span style='font-family: Arial, sans-serif;'><b>Beds:</b> 6.0</span><br><span style='font-family: Arial, sans-serif;'><b>Baths:</b> 6.5</span><br><span style='font-family: Arial, sans-serif;'><b>Sq Ft:</b> 4,500</span><br><span style='font-family: Arial, sans-serif;'><b>Year Built:</b> 2025</span><br><span style='font-family: Arial, sans-serif;'><b>Price:</b> $2,475,500</span>",
           38.90893,
           -77.081194
          ],
          [
           "<b style='font-family: Arial, sans-serif; font-size: 14px;'>2411 TRACY PL NW</b><br><span style='font-family: Arial, sans-serif;'>WASHINGTON, DC, 20008</span><br><span style='font-family: Arial, sans-serif;'><b>Type:</b> SINGLE_FAMILY</span><br><span style='font-family: Arial, sans-serif;'><b>Beds:</b> 4.0</span><br><span style='font-family: Arial, sans-serif;'><b>Baths:</b> 4.5</span><br><span style='font-family: Arial, sans-serif;'><b>Sq Ft:</b> 3,600</span><br><span style='font-family: Arial, sans-serif;'><b>Year Built:</b> 1950</span><br><span style='font-family: Arial, sans-serif;'><b>Price:</b> $4,495,000</span>",
           38.9164586,
           -77.0532307
          ],
          [
           "<b style='font-family: Arial, sans-serif; font-size: 14px;'>5620 FOOTE ST NE</b><br><span style='font-family: Arial, sans-serif;'>WASHINGTON, DC, 20019</span><br><span style='font-family: Arial, sans-serif;'><b>Type:</b> SINGLE_FAMILY</span><br><span style='font-family: Arial, sans-serif;'><b>Beds:</b> 4.0</span><br><span style='font-family: Arial, sans-serif;'><b>Baths:</b> 3.0</span><br><span style='font-family: Arial, sans-serif;'><b>Sq Ft:</b> 2,444</span><br><span style='font-family: Arial, sans-serif;'><b>Year Built:</b> 2000</span><br><span style='font-family: Arial, sans-serif;'><b>Price:</b> $589,000</span>",
           38.897361,
           -76.919686
          ],
          [
           "<b style='font-family: Arial, sans-serif; font-size: 14px;'>2628 MYRTLE AVE NE</b><br><span style='font-family: Arial, sans-serif;'>WASHINGTON, DC, 20018</span><br><span style='font-family: Arial, sans-serif;'><b>Type:</b> SINGLE_FAMILY</span><br><span style='font-family: Arial, sans-serif;'><b>Beds:</b> 3.0</span><br><span style='font-family: Arial, sans-serif;'><b>Baths:</b> 1.5</span><br><span style='font-family: Arial, sans-serif;'><b>Sq Ft:</b> 2,344</span><br><span style='font-family: Arial, sans-serif;'><b>Year Built:</b> 1910</span><br><span style='font-family: Arial, sans-serif;'><b>Price:</b> $525,000</span>",
           38.930773,
           -76.969003
          ],
          [
           "<b style='font-family: Arial, sans-serif; font-size: 14px;'>2030 JASPER ST SE</b><br><span style='font-family: Arial, sans-serif;'>WASHINGTON, DC, 20020</span><br><span style='font-family: Arial, sans-serif;'><b>Type:</b> SINGLE_FAMILY</span><br><span style='font-family: Arial, sans-serif;'><b>Beds:</b> 3.0</span><br><span style='font-family: Arial, sans-serif;'><b>Baths:</b> 2.0</span><br><span style='font-family: Arial, sans-serif;'><b>Sq Ft:</b> 1,656</span><br><span style='font-family: Arial, sans-serif;'><b>Year Built:</b> 1967</span><br><span style='font-family: Arial, sans-serif;'><b>Price:</b> $499,999</span>",
           38.851918,
           -76.974823
          ],
          [
           "<b style='font-family: Arial, sans-serif; font-size: 14px;'>913 L ST NE</b><br><span style='font-family: Arial, sans-serif;'>WASHINGTON, DC, 20002</span><br><span style='font-family: Arial, sans-serif;'><b>Type:</b> SINGLE_FAMILY</span><br><span style='font-family: Arial, sans-serif;'><b>Beds:</b> 3.0</span><br><span style='font-family: Arial, sans-serif;'><b>Baths:</b> 1.0</span><br><span style='font-family: Arial, sans-serif;'><b>Sq Ft:</b> 1,388</span><br><span style='font-family: Arial, sans-serif;'><b>Year Built:</b> 1910</span><br><span style='font-family: Arial, sans-serif;'><b>Price:</b> $1,199,000</span>",
           38.903524,
           -76.993157
          ],
          [
           "<b style='font-family: Arial, sans-serif; font-size: 14px;'>5431 POTOMAC AVE NW</b><br><span style='font-family: Arial, sans-serif;'>WASHINGTON, DC, 20016</span><br><span style='font-family: Arial, sans-serif;'><b>Type:</b> SINGLE_FAMILY</span><br><span style='font-family: Arial, sans-serif;'><b>Beds:</b> 5.0</span><br><span style='font-family: Arial, sans-serif;'><b>Baths:</b> 4.5</span><br><span style='font-family: Arial, sans-serif;'><b>Sq Ft:</b> 5,357</span><br><span style='font-family: Arial, sans-serif;'><b>Year Built:</b> 1979</span><br><span style='font-family: Arial, sans-serif;'><b>Price:</b> $4,990,000</span>",
           38.927893,
           -77.109055
          ],
          [
           "<b style='font-family: Arial, sans-serif; font-size: 14px;'>2907 CARLTON AVE NE</b><br><span style='font-family: Arial, sans-serif;'>WASHINGTON, DC, 20018</span><br><span style='font-family: Arial, sans-serif;'><b>Type:</b> SINGLE_FAMILY</span><br><span style='font-family: Arial, sans-serif;'><b>Beds:</b> 4.0</span><br><span style='font-family: Arial, sans-serif;'><b>Baths:</b> 3.5</span><br><span style='font-family: Arial, sans-serif;'><b>Sq Ft:</b> 3,090</span><br><span style='font-family: Arial, sans-serif;'><b>Year Built:</b> 1909</span><br><span style='font-family: Arial, sans-serif;'><b>Price:</b> $997,000</span>",
           38.9287972,
           -76.9680583
          ],
          [
           "<b style='font-family: Arial, sans-serif; font-size: 14px;'>2830 30TH ST NE</b><br><span style='font-family: Arial, sans-serif;'>WASHINGTON, DC, 20018</span><br><span style='font-family: Arial, sans-serif;'><b>Type:</b> SINGLE_FAMILY</span><br><span style='font-family: Arial, sans-serif;'><b>Beds:</b> 3.0</span><br><span style='font-family: Arial, sans-serif;'><b>Baths:</b> 2.5</span><br><span style='font-family: Arial, sans-serif;'><b>Sq Ft:</b> 1,599</span><br><span style='font-family: Arial, sans-serif;'><b>Year Built:</b> 1947</span><br><span style='font-family: Arial, sans-serif;'><b>Price:</b> $640,000</span>",
           38.92767,
           -76.964985
          ],
          [
           "<b style='font-family: Arial, sans-serif; font-size: 14px;'>6920 8TH ST NW</b><br><span style='font-family: Arial, sans-serif;'>WASHINGTON, DC, 20012</span><br><span style='font-family: Arial, sans-serif;'><b>Type:</b> SINGLE_FAMILY</span><br><span style='font-family: Arial, sans-serif;'><b>Beds:</b> 6.0</span><br><span style='font-family: Arial, sans-serif;'><b>Baths:</b> 5.5</span><br><span style='font-family: Arial, sans-serif;'><b>Sq Ft:</b> 2,655</span><br><span style='font-family: Arial, sans-serif;'><b>Year Built:</b> 1936</span><br><span style='font-family: Arial, sans-serif;'><b>Price:</b> $1,275,000</span>",
           38.974735,
           -77.02482
          ],
          [
           "<b style='font-family: Arial, sans-serif; font-size: 14px;'>2319 BANCROFT PL NW</b><br><span style='font-family: Arial, sans-serif;'>WASHINGTON, DC, 20008</span><br><span style='font-family: Arial, sans-serif;'><b>Type:</b> SINGLE_FAMILY</span><br><span style='font-family: Arial, sans-serif;'><b>Beds:</b> 5.0</span><br><span style='font-family: Arial, sans-serif;'><b>Baths:</b> 3.5</span><br><span style='font-family: Arial, sans-serif;'><b>Sq Ft:</b> 5,024</span><br><span style='font-family: Arial, sans-serif;'><b>Year Built:</b> 1978</span><br><span style='font-family: Arial, sans-serif;'><b>Price:</b> $3,799,000</span>",
           38.915057,
           -77.051655
          ],
          [
           "<b style='font-family: Arial, sans-serif; font-size: 14px;'>1323 TEWKESBURY PL NW</b><br><span style='font-family: Arial, sans-serif;'>WASHINGTON, DC, 20012</span><br><span style='font-family: Arial, sans-serif;'><b>Type:</b> SINGLE_FAMILY</span><br><span style='font-family: Arial, sans-serif;'><b>Beds:</b> 4.0</span><br><span style='font-family: Arial, sans-serif;'><b>Baths:</b> 2.5</span><br><span style='font-family: Arial, sans-serif;'><b>Sq Ft:</b> 2,056</span><br><span style='font-family: Arial, sans-serif;'><b>Year Built:</b> 1939</span><br><span style='font-family: Arial, sans-serif;'><b>Price:</b> $814,500</span>",
           38.96849,
           -77.030636
          ],
          [
           "<b style='font-family: Arial, sans-serif; font-size: 14px;'>1207 33RD PL SE</b><br><span style='font-family: Arial, sans-serif;'>WASHINGTON, DC, 20019</span><br><span style='font-family: Arial, sans-serif;'><b>Type:</b> SINGLE_FAMILY</span><br><span style='font-family: Arial, sans-serif;'><b>Beds:</b> 4.0</span><br><span style='font-family: Arial, sans-serif;'><b>Baths:</b> 4.0</span><br><span style='font-family: Arial, sans-serif;'><b>Sq Ft:</b> 4,158</span><br><span style='font-family: Arial, sans-serif;'><b>Year Built:</b> 2002</span><br><span style='font-family: Arial, sans-serif;'><b>Price:</b> $849,990</span>",
           38.875034,
           -76.959136
          ],
          [
           "<b style='font-family: Arial, sans-serif; font-size: 14px;'>89 58TH ST SE</b><br><span style='font-family: Arial, sans-serif;'>WASHINGTON, DC, 20019</span><br><span style='font-family: Arial, sans-serif;'><b>Type:</b> SINGLE_FAMILY</span><br><span style='font-family: Arial, sans-serif;'><b>Beds:</b> 3.0</span><br><span style='font-family: Arial, sans-serif;'><b>Baths:</b> 2.0</span><br><span style='font-family: Arial, sans-serif;'><b>Sq Ft:</b> 1,248</span><br><span style='font-family: Arial, sans-serif;'><b>Year Built:</b> 1925</span><br><span style='font-family: Arial, sans-serif;'><b>Price:</b> $396,000</span>",
           38.887001,
           -76.917298
          ],
          [
           "<b style='font-family: Arial, sans-serif; font-size: 14px;'>6201 UTAH AVE NW</b><br><span style='font-family: Arial, sans-serif;'>WASHINGTON, DC, 20015</span><br><span style='font-family: Arial, sans-serif;'><b>Type:</b> SINGLE_FAMILY</span><br><span style='font-family: Arial, sans-serif;'><b>Beds:</b> 4.0</span><br><span style='font-family: Arial, sans-serif;'><b>Baths:</b> 3.5</span><br><span style='font-family: Arial, sans-serif;'><b>Sq Ft:</b> 2,013</span><br><span style='font-family: Arial, sans-serif;'><b>Year Built:</b> 1947</span><br><span style='font-family: Arial, sans-serif;'><b>Price:</b> $1,042,900</span>",
           38.971871,
           -77.063088
          ],
          [
           "<b style='font-family: Arial, sans-serif; font-size: 14px;'>669 OGLETHORPE ST NE</b><br><span style='font-family: Arial, sans-serif;'>WASHINGTON, DC, 20011</span><br><span style='font-family: Arial, sans-serif;'><b>Type:</b> SINGLE_FAMILY</span><br><span style='font-family: Arial, sans-serif;'><b>Beds:</b> 4.0</span><br><span style='font-family: Arial, sans-serif;'><b>Baths:</b> 3.5</span><br><span style='font-family: Arial, sans-serif;'><b>Sq Ft:</b> 1,589</span><br><span style='font-family: Arial, sans-serif;'><b>Year Built:</b> 1953</span><br><span style='font-family: Arial, sans-serif;'><b>Price:</b> $625,000</span>",
           38.960242,
           -76.997633
          ],
          [
           "<b style='font-family: Arial, sans-serif; font-size: 14px;'>3702 22ND ST NE</b><br><span style='font-family: Arial, sans-serif;'>WASHINGTON, DC, 20018</span><br><span style='font-family: Arial, sans-serif;'><b>Type:</b> SINGLE_FAMILY</span><br><span style='font-family: Arial, sans-serif;'><b>Beds:</b> 3.0</span><br><span style='font-family: Arial, sans-serif;'><b>Baths:</b> 3.5</span><br><span style='font-family: Arial, sans-serif;'><b>Sq Ft:</b> 2,158</span><br><span style='font-family: Arial, sans-serif;'><b>Year Built:</b> 2019</span><br><span style='font-family: Arial, sans-serif;'><b>Price:</b> $825,000</span>",
           38.935322,
           -76.974465
          ],
          [
           "<b style='font-family: Arial, sans-serif; font-size: 14px;'>3131 CHAIN BRIDGE RD NW</b><br><span style='font-family: Arial, sans-serif;'>WASHINGTON, DC, 20016</span><br><span style='font-family: Arial, sans-serif;'><b>Type:</b> SINGLE_FAMILY</span><br><span style='font-family: Arial, sans-serif;'><b>Beds:</b> 6.0</span><br><span style='font-family: Arial, sans-serif;'><b>Baths:</b> 8.0</span><br><span style='font-family: Arial, sans-serif;'><b>Sq Ft:</b> 12,200</span><br><span style='font-family: Arial, sans-serif;'><b>Year Built:</b> 2020</span><br><span style='font-family: Arial, sans-serif;'><b>Price:</b> $9,495,000</span>",
           38.9323433,
           -77.0935233
          ],
          [
           "<b style='font-family: Arial, sans-serif; font-size: 14px;'>3614 14TH ST NE</b><br><span style='font-family: Arial, sans-serif;'>WASHINGTON, DC, 20017</span><br><span style='font-family: Arial, sans-serif;'><b>Type:</b> SINGLE_FAMILY</span><br><span style='font-family: Arial, sans-serif;'><b>Beds:</b> 3.0</span><br><span style='font-family: Arial, sans-serif;'><b>Baths:</b> 2.0</span><br><span style='font-family: Arial, sans-serif;'><b>Sq Ft:</b> 1,693</span><br><span style='font-family: Arial, sans-serif;'><b>Year Built:</b> 1936</span><br><span style='font-family: Arial, sans-serif;'><b>Price:</b> $989,000</span>",
           38.934427,
           -76.986779
          ],
          [
           "<b style='font-family: Arial, sans-serif; font-size: 14px;'>1639 35TH ST NW</b><br><span style='font-family: Arial, sans-serif;'>WASHINGTON, DC, 20007</span><br><span style='font-family: Arial, sans-serif;'><b>Type:</b> SINGLE_FAMILY</span><br><span style='font-family: Arial, sans-serif;'><b>Beds:</b> 4.0</span><br><span style='font-family: Arial, sans-serif;'><b>Baths:</b> 3.5</span><br><span style='font-family: Arial, sans-serif;'><b>Sq Ft:</b> 2,517</span><br><span style='font-family: Arial, sans-serif;'><b>Year Built:</b> 1908</span><br><span style='font-family: Arial, sans-serif;'><b>Price:</b> $2,950,000</span>",
           38.912038,
           -77.068903
          ],
          [
           "<b style='font-family: Arial, sans-serif; font-size: 14px;'>1711 25TH ST SE</b><br><span style='font-family: Arial, sans-serif;'>WASHINGTON, DC, 20020</span><br><span style='font-family: Arial, sans-serif;'><b>Type:</b> SINGLE_FAMILY</span><br><span style='font-family: Arial, sans-serif;'><b>Beds:</b> 4.0</span><br><span style='font-family: Arial, sans-serif;'><b>Baths:</b> 3.0</span><br><span style='font-family: Arial, sans-serif;'><b>Sq Ft:</b> 2,647</span><br><span style='font-family: Arial, sans-serif;'><b>Year Built:</b> 1926</span><br><span style='font-family: Arial, sans-serif;'><b>Price:</b> $639,900</span>",
           38.869087,
           -76.971176
          ],
          [
           "<b style='font-family: Arial, sans-serif; font-size: 14px;'>715 G ST SE</b><br><span style='font-family: Arial, sans-serif;'>WASHINGTON, DC, 20003</span><br><span style='font-family: Arial, sans-serif;'><b>Type:</b> SINGLE_FAMILY</span><br><span style='font-family: Arial, sans-serif;'><b>Beds:</b> 0.0</span><br><span style='font-family: Arial, sans-serif;'><b>Baths:</b> 1.5</span><br><span style='font-family: Arial, sans-serif;'><b>Sq Ft:</b> 7,142</span><br><span style='font-family: Arial, sans-serif;'><b>Price:</b> $1,699,000</span>",
           38.881011,
           -76.995527
          ],
          [
           "<b style='font-family: Arial, sans-serif; font-size: 14px;'>1329 TUCKERMAN ST NW</b><br><span style='font-family: Arial, sans-serif;'>WASHINGTON, DC, 20012</span><br><span style='font-family: Arial, sans-serif;'><b>Type:</b> SINGLE_FAMILY</span><br><span style='font-family: Arial, sans-serif;'><b>Beds:</b> 4.0</span><br><span style='font-family: Arial, sans-serif;'><b>Baths:</b> 3.5</span><br><span style='font-family: Arial, sans-serif;'><b>Sq Ft:</b> 2,434</span><br><span style='font-family: Arial, sans-serif;'><b>Year Built:</b> 1939</span><br><span style='font-family: Arial, sans-serif;'><b>Price:</b> $824,900</span>",
           38.967793,
           -77.031038
          ],
          [
           "<b style='font-family: Arial, sans-serif; font-size: 14px;'>5531 33RD ST NW</b><br><span style='font-family: Arial, sans-serif;'>WASHINGTON, DC, 20015</span><br><span style='font-family: Arial, sans-serif;'><b>Type:</b> SINGLE_FAMILY</span><br><span style='font-family: Arial, sans-serif;'><b>Beds:</b> 3.0</span><br><span style='font-family: Arial, sans-serif;'><b>Baths:</b> 3.0</span><br><span style='font-family: Arial, sans-serif;'><b>Sq Ft:</b> 2,061</span><br><span style='font-family: Arial, sans-serif;'><b>Year Built:</b> 1926</span><br><span style='font-family: Arial, sans-serif;'><b>Price:</b> $1,150,000</span>",
           38.964293,
           -77.066057
          ],
          [
           "<b style='font-family: Arial, sans-serif; font-size: 14px;'>5021 A ST SE</b><br><span style='font-family: Arial, sans-serif;'>WASHINGTON, DC, 20019</span><br><span style='font-family: Arial, sans-serif;'><b>Type:</b> SINGLE_FAMILY</span><br><span style='font-family: Arial, sans-serif;'><b>Beds:</b> 4.0</span><br><span style='font-family: Arial, sans-serif;'><b>Baths:</b> 2.0</span><br><span style='font-family: Arial, sans-serif;'><b>Sq Ft:</b> 2,237</span><br><span style='font-family: Arial, sans-serif;'><b>Year Built:</b> 1939</span><br><span style='font-family: Arial, sans-serif;'><b>Price:</b> $360,000</span>",
           38.887689,
           -76.92919
          ],
          [
           "<b style='font-family: Arial, sans-serif; font-size: 14px;'>2824 CHAIN BRIDGE RD NW</b><br><span style='font-family: Arial, sans-serif;'>WASHINGTON, DC, 20016</span><br><span style='font-family: Arial, sans-serif;'><b>Type:</b> SINGLE_FAMILY</span><br><span style='font-family: Arial, sans-serif;'><b>Beds:</b> 5.0</span><br><span style='font-family: Arial, sans-serif;'><b>Baths:</b> 4.5</span><br><span style='font-family: Arial, sans-serif;'><b>Sq Ft:</b> 8,000</span><br><span style='font-family: Arial, sans-serif;'><b>Year Built:</b> 1937</span><br><span style='font-family: Arial, sans-serif;'><b>Price:</b> $7,800,000</span>",
           38.927944,
           -77.096124
          ],
          [
           "<b style='font-family: Arial, sans-serif; font-size: 14px;'>4433 HUNT PL NE</b><br><span style='font-family: Arial, sans-serif;'>WASHINGTON, DC, 20019</span><br><span style='font-family: Arial, sans-serif;'><b>Type:</b> SINGLE_FAMILY</span><br><span style='font-family: Arial, sans-serif;'><b>Beds:</b> 3.0</span><br><span style='font-family: Arial, sans-serif;'><b>Baths:</b> 3.5</span><br><span style='font-family: Arial, sans-serif;'><b>Sq Ft:</b> 1,567</span><br><span style='font-family: Arial, sans-serif;'><b>Year Built:</b> 1999</span><br><span style='font-family: Arial, sans-serif;'><b>Price:</b> $499,000</span>",
           38.900484,
           -76.937303
          ],
          [
           "<b style='font-family: Arial, sans-serif; font-size: 14px;'>1323 FERNWAY RD NW</b><br><span style='font-family: Arial, sans-serif;'>WASHINGTON, DC, 20012</span><br><span style='font-family: Arial, sans-serif;'><b>Type:</b> SINGLE_FAMILY</span><br><span style='font-family: Arial, sans-serif;'><b>Beds:</b> 4.0</span><br><span style='font-family: Arial, sans-serif;'><b>Baths:</b> 3.5</span><br><span style='font-family: Arial, sans-serif;'><b>Sq Ft:</b> 3,506</span><br><span style='font-family: Arial, sans-serif;'><b>Year Built:</b> 1953</span><br><span style='font-family: Arial, sans-serif;'><b>Price:</b> $1,250,000</span>",
           38.98603,
           -77.030467
          ],
          [
           "<b style='font-family: Arial, sans-serif; font-size: 14px;'>1735 FRASER CT NW</b><br><span style='font-family: Arial, sans-serif;'>WASHINGTON, DC, 20009</span><br><span style='font-family: Arial, sans-serif;'><b>Type:</b> SINGLE_FAMILY</span><br><span style='font-family: Arial, sans-serif;'><b>Beds:</b> 6.0</span><br><span style='font-family: Arial, sans-serif;'><b>Baths:</b> 4.0</span><br><span style='font-family: Arial, sans-serif;'><b>Sq Ft:</b> 5,887</span><br><span style='font-family: Arial, sans-serif;'><b>Price:</b> $1,999,000</span>",
           38.913636,
           -77.044016
          ],
          [
           "<b style='font-family: Arial, sans-serif; font-size: 14px;'>1606 25TH ST SE</b><br><span style='font-family: Arial, sans-serif;'>WASHINGTON, DC, 20020</span><br><span style='font-family: Arial, sans-serif;'><b>Type:</b> SINGLE_FAMILY</span><br><span style='font-family: Arial, sans-serif;'><b>Beds:</b> 3.0</span><br><span style='font-family: Arial, sans-serif;'><b>Baths:</b> 3.5</span><br><span style='font-family: Arial, sans-serif;'><b>Sq Ft:</b> 5,193</span><br><span style='font-family: Arial, sans-serif;'><b>Year Built:</b> 1910</span><br><span style='font-family: Arial, sans-serif;'><b>Price:</b> $875,000</span>",
           38.870122,
           -76.970408
          ],
          [
           "<b style='font-family: Arial, sans-serif; font-size: 14px;'>809 55TH ST NE</b><br><span style='font-family: Arial, sans-serif;'>WASHINGTON, DC, 20019</span><br><span style='font-family: Arial, sans-serif;'><b>Type:</b> SINGLE_FAMILY</span><br><span style='font-family: Arial, sans-serif;'><b>Beds:</b> 3.0</span><br><span style='font-family: Arial, sans-serif;'><b>Baths:</b> 3.0</span><br><span style='font-family: Arial, sans-serif;'><b>Sq Ft:</b> 2,038</span><br><span style='font-family: Arial, sans-serif;'><b>Year Built:</b> 1965</span><br><span style='font-family: Arial, sans-serif;'><b>Price:</b> $459,900</span>",
           38.8997,
           -76.921431
          ],
          [
           "<b style='font-family: Arial, sans-serif; font-size: 14px;'>2866 ARIZONA TER NW</b><br><span style='font-family: Arial, sans-serif;'>WASHINGTON, DC, 20016</span><br><span style='font-family: Arial, sans-serif;'><b>Type:</b> SINGLE_FAMILY</span><br><span style='font-family: Arial, sans-serif;'><b>Beds:</b> 4.0</span><br><span style='font-family: Arial, sans-serif;'><b>Baths:</b> 4.0</span><br><span style='font-family: Arial, sans-serif;'><b>Sq Ft:</b> 3,579</span><br><span style='font-family: Arial, sans-serif;'><b>Year Built:</b> 1950</span><br><span style='font-family: Arial, sans-serif;'><b>Price:</b> $1,675,000</span>",
           38.929258,
           -77.102635
          ],
          [
           "<b style='font-family: Arial, sans-serif; font-size: 14px;'>1216 42ND PL NE</b><br><span style='font-family: Arial, sans-serif;'>WASHINGTON, DC, 20019</span><br><span style='font-family: Arial, sans-serif;'><b>Type:</b> SINGLE_FAMILY</span><br><span style='font-family: Arial, sans-serif;'><b>Beds:</b> 3.0</span><br><span style='font-family: Arial, sans-serif;'><b>Baths:</b> 2.0</span><br><span style='font-family: Arial, sans-serif;'><b>Sq Ft:</b> 1,314</span><br><span style='font-family: Arial, sans-serif;'><b>Year Built:</b> 1928</span><br><span style='font-family: Arial, sans-serif;'><b>Price:</b> $350,000</span>",
           38.906242,
           -76.94217
          ],
          [
           "<b style='font-family: Arial, sans-serif; font-size: 14px;'>5821 MACARTHUR BLVD NW</b><br><span style='font-family: Arial, sans-serif;'>WASHINGTON, DC, 20016</span><br><span style='font-family: Arial, sans-serif;'><b>Type:</b> SINGLE_FAMILY</span><br><span style='font-family: Arial, sans-serif;'><b>Beds:</b> 3.0</span><br><span style='font-family: Arial, sans-serif;'><b>Baths:</b> 2.5</span><br><span style='font-family: Arial, sans-serif;'><b>Sq Ft:</b> 2,024</span><br><span style='font-family: Arial, sans-serif;'><b>Year Built:</b> 1941</span><br><span style='font-family: Arial, sans-serif;'><b>Price:</b> $1,325,000</span>",
           38.9354,
           -77.110946
          ],
          [
           "<b style='font-family: Arial, sans-serif; font-size: 14px;'>609 TEWKESBURY PL NW</b><br><span style='font-family: Arial, sans-serif;'>WASHINGTON, DC, 20012</span><br><span style='font-family: Arial, sans-serif;'><b>Type:</b> SINGLE_FAMILY</span><br><span style='font-family: Arial, sans-serif;'><b>Beds:</b> 5.0</span><br><span style='font-family: Arial, sans-serif;'><b>Baths:</b> 2.0</span><br><span style='font-family: Arial, sans-serif;'><b>Sq Ft:</b> 1,369</span><br><span style='font-family: Arial, sans-serif;'><b>Year Built:</b> 1937</span><br><span style='font-family: Arial, sans-serif;'><b>Price:</b> $585,000</span>",
           38.968105,
           -77.021717
          ],
          [
           "<b style='font-family: Arial, sans-serif; font-size: 14px;'>5320 27TH ST NW</b><br><span style='font-family: Arial, sans-serif;'>WASHINGTON, DC, 20015</span><br><span style='font-family: Arial, sans-serif;'><b>Type:</b> SINGLE_FAMILY</span><br><span style='font-family: Arial, sans-serif;'><b>Beds:</b> 5.0</span><br><span style='font-family: Arial, sans-serif;'><b>Baths:</b> 6.5</span><br><span style='font-family: Arial, sans-serif;'><b>Sq Ft:</b> 12,650</span><br><span style='font-family: Arial, sans-serif;'><b>Year Built:</b> 1928</span><br><span style='font-family: Arial, sans-serif;'><b>Price:</b> $9,495,000</span>",
           38.95943,
           -77.056659
          ],
          [
           "<b style='font-family: Arial, sans-serif; font-size: 14px;'>5903 WHIPPOORWILL RD</b><br><span style='font-family: Arial, sans-serif;'>TEMPLE, TX, 20037</span><br><span style='font-family: Arial, sans-serif;'><b>Type:</b> SINGLE_FAMILY</span><br><span style='font-family: Arial, sans-serif;'><b>Beds:</b> 4.0</span><br><span style='font-family: Arial, sans-serif;'><b>Baths:</b> 3.0</span><br><span style='font-family: Arial, sans-serif;'><b>Sq Ft:</b> 3,011</span><br><span style='font-family: Arial, sans-serif;'><b>Year Built:</b> 2025</span><br><span style='font-family: Arial, sans-serif;'><b>Price:</b> $699,000</span>",
           38.901910445898,
           -77.054678883222
          ],
          [
           "<b style='font-family: Arial, sans-serif; font-size: 14px;'>1843 47TH PL NW</b><br><span style='font-family: Arial, sans-serif;'>WASHINGTON, DC, 20007</span><br><span style='font-family: Arial, sans-serif;'><b>Type:</b> SINGLE_FAMILY</span><br><span style='font-family: Arial, sans-serif;'><b>Beds:</b> 2.0</span><br><span style='font-family: Arial, sans-serif;'><b>Baths:</b> 1.5</span><br><span style='font-family: Arial, sans-serif;'><b>Sq Ft:</b> 2,368</span><br><span style='font-family: Arial, sans-serif;'><b>Year Built:</b> 1961</span><br><span style='font-family: Arial, sans-serif;'><b>Price:</b> $2,195,000</span>",
           38.913303,
           -77.089662
          ],
          [
           "<b style='font-family: Arial, sans-serif; font-size: 14px;'>3030 OTIS ST NE</b><br><span style='font-family: Arial, sans-serif;'>WASHINGTON, DC, 20018</span><br><span style='font-family: Arial, sans-serif;'><b>Type:</b> SINGLE_FAMILY</span><br><span style='font-family: Arial, sans-serif;'><b>Beds:</b> 5.0</span><br><span style='font-family: Arial, sans-serif;'><b>Baths:</b> 4.0</span><br><span style='font-family: Arial, sans-serif;'><b>Sq Ft:</b> 1,651</span><br><span style='font-family: Arial, sans-serif;'><b>Year Built:</b> 1927</span><br><span style='font-family: Arial, sans-serif;'><b>Price:</b> $850,000</span>",
           38.935308,
           -76.965195
          ],
          [
           "<b style='font-family: Arial, sans-serif; font-size: 14px;'>8112 W BEACH DR NW</b><br><span style='font-family: Arial, sans-serif;'>WASHINGTON, DC, 20012</span><br><span style='font-family: Arial, sans-serif;'><b>Type:</b> SINGLE_FAMILY</span><br><span style='font-family: Arial, sans-serif;'><b>Beds:</b> 3.0</span><br><span style='font-family: Arial, sans-serif;'><b>Baths:</b> 2.5</span><br><span style='font-family: Arial, sans-serif;'><b>Sq Ft:</b> 2,856</span><br><span style='font-family: Arial, sans-serif;'><b>Year Built:</b> 1952</span><br><span style='font-family: Arial, sans-serif;'><b>Price:</b> $1,200,000</span>",
           38.989314,
           -77.044681
          ],
          [
           "<b style='font-family: Arial, sans-serif; font-size: 14px;'>1013 48TH ST NE</b><br><span style='font-family: Arial, sans-serif;'>WASHINGTON, DC, 20019</span><br><span style='font-family: Arial, sans-serif;'><b>Type:</b> SINGLE_FAMILY</span><br><span style='font-family: Arial, sans-serif;'><b>Beds:</b> 4.0</span><br><span style='font-family: Arial, sans-serif;'><b>Baths:</b> 3.5</span><br><span style='font-family: Arial, sans-serif;'><b>Sq Ft:</b> 2,820</span><br><span style='font-family: Arial, sans-serif;'><b>Year Built:</b> 2025</span><br><span style='font-family: Arial, sans-serif;'><b>Price:</b> $669,999</span>",
           38.903364807976,
           -76.933684021755
          ],
          [
           "<b style='font-family: Arial, sans-serif; font-size: 14px;'>1370 PERRY PL NW</b><br><span style='font-family: Arial, sans-serif;'>WASHINGTON, DC, 20010</span><br><span style='font-family: Arial, sans-serif;'><b>Type:</b> SINGLE_FAMILY</span><br><span style='font-family: Arial, sans-serif;'><b>Beds:</b> 5.0</span><br><span style='font-family: Arial, sans-serif;'><b>Baths:</b> 3.5</span><br><span style='font-family: Arial, sans-serif;'><b>Sq Ft:</b> 2,328</span><br><span style='font-family: Arial, sans-serif;'><b>Year Built:</b> 1910</span><br><span style='font-family: Arial, sans-serif;'><b>Price:</b> $699,000</span>",
           38.93599,
           -77.032233
          ],
          [
           "<b style='font-family: Arial, sans-serif; font-size: 14px;'>108 COURTLAND DR</b><br><span style='font-family: Arial, sans-serif;'>KING, NC, 20002</span><br><span style='font-family: Arial, sans-serif;'><b>Type:</b> SINGLE_FAMILY</span><br><span style='font-family: Arial, sans-serif;'><b>Beds:</b> 4.0</span><br><span style='font-family: Arial, sans-serif;'><b>Baths:</b> 2.5</span><br><span style='font-family: Arial, sans-serif;'><b>Sq Ft:</b> 2,218</span><br><span style='font-family: Arial, sans-serif;'><b>Year Built:</b> 2025</span><br><span style='font-family: Arial, sans-serif;'><b>Price:</b> $377,900</span>",
           38.893639509524,
           -76.995039833599
          ],
          [
           "<b style='font-family: Arial, sans-serif; font-size: 14px;'>1009 CONGRESS ST SE</b><br><span style='font-family: Arial, sans-serif;'>WASHINGTON, DC, 20032</span><br><span style='font-family: Arial, sans-serif;'><b>Type:</b> SINGLE_FAMILY</span><br><span style='font-family: Arial, sans-serif;'><b>Beds:</b> 4.0</span><br><span style='font-family: Arial, sans-serif;'><b>Baths:</b> 1.0</span><br><span style='font-family: Arial, sans-serif;'><b>Sq Ft:</b> 1,618</span><br><span style='font-family: Arial, sans-serif;'><b>Year Built:</b> 1933</span><br><span style='font-family: Arial, sans-serif;'><b>Price:</b> $449,000</span>",
           38.8408733,
           -76.991374
          ],
          [
           "<b style='font-family: Arial, sans-serif; font-size: 14px;'>840 DIVISION AVE NE</b><br><span style='font-family: Arial, sans-serif;'>WASHINGTON, DC, 20019</span><br><span style='font-family: Arial, sans-serif;'><b>Type:</b> SINGLE_FAMILY</span><br><span style='font-family: Arial, sans-serif;'><b>Beds:</b> 2.0</span><br><span style='font-family: Arial, sans-serif;'><b>Baths:</b> 1.0</span><br><span style='font-family: Arial, sans-serif;'><b>Sq Ft:</b> 810</span><br><span style='font-family: Arial, sans-serif;'><b>Year Built:</b> 1945</span>",
           38.901173,
           -76.924939
          ],
          [
           "<b style='font-family: Arial, sans-serif; font-size: 14px;'>2429 CALIFORNIA ST NW</b><br><span style='font-family: Arial, sans-serif;'>WASHINGTON, DC, 20008</span><br><span style='font-family: Arial, sans-serif;'><b>Type:</b> SINGLE_FAMILY</span><br><span style='font-family: Arial, sans-serif;'><b>Beds:</b> 4.0</span><br><span style='font-family: Arial, sans-serif;'><b>Baths:</b> 4.5</span><br><span style='font-family: Arial, sans-serif;'><b>Sq Ft:</b> 4,752</span><br><span style='font-family: Arial, sans-serif;'><b>Year Built:</b> 1967</span><br><span style='font-family: Arial, sans-serif;'><b>Price:</b> $5,475,000</span>",
           38.915834,
           -77.054041
          ],
          [
           "<b style='font-family: Arial, sans-serif; font-size: 14px;'>4314 BOWEN RD SE</b><br><span style='font-family: Arial, sans-serif;'>WASHINGTON, DC, 20019</span><br><span style='font-family: Arial, sans-serif;'><b>Type:</b> SINGLE_FAMILY</span><br><span style='font-family: Arial, sans-serif;'><b>Beds:</b> 4.0</span><br><span style='font-family: Arial, sans-serif;'><b>Baths:</b> 2.0</span><br><span style='font-family: Arial, sans-serif;'><b>Sq Ft:</b> 1,300</span><br><span style='font-family: Arial, sans-serif;'><b>Year Built:</b> 1962</span><br><span style='font-family: Arial, sans-serif;'><b>Price:</b> $249,999</span>",
           38.873065,
           -76.937047
          ],
          [
           "<b style='font-family: Arial, sans-serif; font-size: 14px;'>2815 WOODLAND DR NW</b><br><span style='font-family: Arial, sans-serif;'>WASHINGTON, DC, 20008</span><br><span style='font-family: Arial, sans-serif;'><b>Type:</b> SINGLE_FAMILY</span><br><span style='font-family: Arial, sans-serif;'><b>Beds:</b> 5.0</span><br><span style='font-family: Arial, sans-serif;'><b>Baths:</b> 10.0</span><br><span style='font-family: Arial, sans-serif;'><b>Sq Ft:</b> 14,697</span><br><span style='font-family: Arial, sans-serif;'><b>Year Built:</b> 2010</span><br><span style='font-family: Arial, sans-serif;'><b>Price:</b> $13,500,000</span>",
           38.921205,
           -77.054545
          ],
          [
           "<b style='font-family: Arial, sans-serif; font-size: 14px;'>3415 FULTON ST NW</b><br><span style='font-family: Arial, sans-serif;'>WASHINGTON, DC, 20007</span><br><span style='font-family: Arial, sans-serif;'><b>Type:</b> SINGLE_FAMILY</span><br><span style='font-family: Arial, sans-serif;'><b>Beds:</b> 5.0</span><br><span style='font-family: Arial, sans-serif;'><b>Baths:</b> 4.5</span><br><span style='font-family: Arial, sans-serif;'><b>Sq Ft:</b> 3,613</span><br><span style='font-family: Arial, sans-serif;'><b>Year Built:</b> 1925</span><br><span style='font-family: Arial, sans-serif;'><b>Price:</b> $2,395,000</span>",
           38.926429,
           -77.067127
          ],
          [
           "<b style='font-family: Arial, sans-serif; font-size: 14px;'>5330 32ND ST NW</b><br><span style='font-family: Arial, sans-serif;'>WASHINGTON, DC, 20015</span><br><span style='font-family: Arial, sans-serif;'><b>Type:</b> SINGLE_FAMILY</span><br><span style='font-family: Arial, sans-serif;'><b>Beds:</b> 5.0</span><br><span style='font-family: Arial, sans-serif;'><b>Baths:</b> 4.5</span><br><span style='font-family: Arial, sans-serif;'><b>Sq Ft:</b> 2,587</span><br><span style='font-family: Arial, sans-serif;'><b>Year Built:</b> 1931</span><br><span style='font-family: Arial, sans-serif;'><b>Price:</b> $1,949,000</span>",
           38.960103,
           -77.064615
          ],
          [
           "<b style='font-family: Arial, sans-serif; font-size: 14px;'>1614 TUCKERMAN ST NW</b><br><span style='font-family: Arial, sans-serif;'>WASHINGTON, DC, 20011</span><br><span style='font-family: Arial, sans-serif;'><b>Type:</b> SINGLE_FAMILY</span><br><span style='font-family: Arial, sans-serif;'><b>Beds:</b> 4.0</span><br><span style='font-family: Arial, sans-serif;'><b>Baths:</b> 5.0</span><br><span style='font-family: Arial, sans-serif;'><b>Sq Ft:</b> 3,496</span><br><span style='font-family: Arial, sans-serif;'><b>Year Built:</b> 1925</span><br><span style='font-family: Arial, sans-serif;'><b>Price:</b> $1,490,000</span>",
           38.967609,
           -77.037614
          ],
          [
           "<b style='font-family: Arial, sans-serif; font-size: 14px;'>2 LOIS MAILOU JONES ALY NW</b><br><span style='font-family: Arial, sans-serif;'>WASHINGTON, DC, 20010</span><br><span style='font-family: Arial, sans-serif;'><b>Type:</b> SINGLE_FAMILY</span><br><span style='font-family: Arial, sans-serif;'><b>Beds:</b> 6.0</span><br><span style='font-family: Arial, sans-serif;'><b>Baths:</b> 5.0</span><br><span style='font-family: Arial, sans-serif;'><b>Sq Ft:</b> 3,234</span><br><span style='font-family: Arial, sans-serif;'><b>Year Built:</b> 2024</span><br><span style='font-family: Arial, sans-serif;'><b>Price:</b> $1,389,900</span>",
           38.930058,
           -77.018766
          ],
          [
           "<b style='font-family: Arial, sans-serif; font-size: 14px;'>2622 RHODE ISLAND AVE NE</b><br><span style='font-family: Arial, sans-serif;'>WASHINGTON, DC, 20018</span><br><span style='font-family: Arial, sans-serif;'><b>Type:</b> SINGLE_FAMILY</span><br><span style='font-family: Arial, sans-serif;'><b>Beds:</b> 3.0</span><br><span style='font-family: Arial, sans-serif;'><b>Baths:</b> 1.0</span><br><span style='font-family: Arial, sans-serif;'><b>Sq Ft:</b> 1,536</span><br><span style='font-family: Arial, sans-serif;'><b>Year Built:</b> 1920</span><br><span style='font-family: Arial, sans-serif;'><b>Price:</b> $500,000</span>",
           38.932786,
           -76.969003
          ],
          [
           "<b style='font-family: Arial, sans-serif; font-size: 14px;'>5332 D ST SE</b><br><span style='font-family: Arial, sans-serif;'>WASHINGTON, DC, 20019</span><br><span style='font-family: Arial, sans-serif;'><b>Type:</b> SINGLE_FAMILY</span><br><span style='font-family: Arial, sans-serif;'><b>Beds:</b> 4.0</span><br><span style='font-family: Arial, sans-serif;'><b>Baths:</b> 3.0</span><br><span style='font-family: Arial, sans-serif;'><b>Sq Ft:</b> 2,235</span><br><span style='font-family: Arial, sans-serif;'><b>Year Built:</b> 2022</span><br><span style='font-family: Arial, sans-serif;'><b>Price:</b> $639,999</span>",
           38.883395,
           -76.925121
          ],
          [
           "<b style='font-family: Arial, sans-serif; font-size: 14px;'>3701 SOUTH DAKOTA AVE NE</b><br><span style='font-family: Arial, sans-serif;'>WASHINGTON, DC, 20018</span><br><span style='font-family: Arial, sans-serif;'><b>Type:</b> SINGLE_FAMILY</span><br><span style='font-family: Arial, sans-serif;'><b>Beds:</b> 5.0</span><br><span style='font-family: Arial, sans-serif;'><b>Baths:</b> 3.5</span><br><span style='font-family: Arial, sans-serif;'><b>Sq Ft:</b> 3,282</span><br><span style='font-family: Arial, sans-serif;'><b>Year Built:</b> 1933</span><br><span style='font-family: Arial, sans-serif;'><b>Price:</b> $995,000</span>",
           38.935292,
           -76.975393
          ],
          [
           "<b style='font-family: Arial, sans-serif; font-size: 14px;'>3508 PROSPECT ST NW</b><br><span style='font-family: Arial, sans-serif;'>WASHINGTON, DC, 20007</span><br><span style='font-family: Arial, sans-serif;'><b>Type:</b> SINGLE_FAMILY</span><br><span style='font-family: Arial, sans-serif;'><b>Beds:</b> 8.0</span><br><span style='font-family: Arial, sans-serif;'><b>Baths:</b> 6.5</span><br><span style='font-family: Arial, sans-serif;'><b>Sq Ft:</b> 9,086</span><br><span style='font-family: Arial, sans-serif;'><b>Price:</b> $12,500,000</span>",
           38.90564,
           -77.069355
          ],
          [
           "<b style='font-family: Arial, sans-serif; font-size: 14px;'>5309 2ND ST NW</b><br><span style='font-family: Arial, sans-serif;'>WASHINGTON, DC, 20011</span><br><span style='font-family: Arial, sans-serif;'><b>Type:</b> SINGLE_FAMILY</span><br><span style='font-family: Arial, sans-serif;'><b>Beds:</b> 4.0</span><br><span style='font-family: Arial, sans-serif;'><b>Baths:</b> 3.0</span><br><span style='font-family: Arial, sans-serif;'><b>Sq Ft:</b> 1,949</span><br><span style='font-family: Arial, sans-serif;'><b>Year Built:</b> 1936</span><br><span style='font-family: Arial, sans-serif;'><b>Price:</b> $615,000</span>",
           38.954877,
           -77.013254
          ],
          [
           "<b style='font-family: Arial, sans-serif; font-size: 14px;'>5409 E CAPITOL ST SE</b><br><span style='font-family: Arial, sans-serif;'>WASHINGTON, DC, 20019</span><br><span style='font-family: Arial, sans-serif;'><b>Type:</b> SINGLE_FAMILY</span><br><span style='font-family: Arial, sans-serif;'><b>Beds:</b> 3.0</span><br><span style='font-family: Arial, sans-serif;'><b>Baths:</b> 2.0</span><br><span style='font-family: Arial, sans-serif;'><b>Sq Ft:</b> 1,804</span><br><span style='font-family: Arial, sans-serif;'><b>Year Built:</b> 1940</span><br><span style='font-family: Arial, sans-serif;'><b>Price:</b> $459,000</span>",
           38.889437,
           -76.92346
          ],
          [
           "<b style='font-family: Arial, sans-serif; font-size: 14px;'>1631 G ST SE</b><br><span style='font-family: Arial, sans-serif;'>WASHINGTON, DC, 20003</span><br><span style='font-family: Arial, sans-serif;'><b>Type:</b> SINGLE_FAMILY</span><br><span style='font-family: Arial, sans-serif;'><b>Beds:</b> 3.0</span><br><span style='font-family: Arial, sans-serif;'><b>Baths:</b> 0.0</span><br><span style='font-family: Arial, sans-serif;'><b>Sq Ft:</b> 1,660</span><br><span style='font-family: Arial, sans-serif;'><b>Year Built:</b> 1930</span><br><span style='font-family: Arial, sans-serif;'><b>Price:</b> $1,850,000</span>",
           38.881037,
           -76.980979
          ],
          [
           "<b style='font-family: Arial, sans-serif; font-size: 14px;'>5006 LEE ST NE</b><br><span style='font-family: Arial, sans-serif;'>WASHINGTON, DC, 20019</span><br><span style='font-family: Arial, sans-serif;'><b>Type:</b> SINGLE_FAMILY</span><br><span style='font-family: Arial, sans-serif;'><b>Beds:</b> 3.0</span><br><span style='font-family: Arial, sans-serif;'><b>Baths:</b> 2.0</span><br><span style='font-family: Arial, sans-serif;'><b>Sq Ft:</b> 1,280</span><br><span style='font-family: Arial, sans-serif;'><b>Year Built:</b> 1933</span><br><span style='font-family: Arial, sans-serif;'><b>Price:</b> $435,000</span>",
           38.9048782,
           -76.9293528
          ],
          [
           "<b style='font-family: Arial, sans-serif; font-size: 14px;'>3922 JENIFER ST NW</b><br><span style='font-family: Arial, sans-serif;'>WASHINGTON, DC, 20015</span><br><span style='font-family: Arial, sans-serif;'><b>Type:</b> SINGLE_FAMILY</span><br><span style='font-family: Arial, sans-serif;'><b>Beds:</b> 3.0</span><br><span style='font-family: Arial, sans-serif;'><b>Baths:</b> 3.0</span><br><span style='font-family: Arial, sans-serif;'><b>Sq Ft:</b> 2,281</span><br><span style='font-family: Arial, sans-serif;'><b>Year Built:</b> 1929</span><br><span style='font-family: Arial, sans-serif;'><b>Price:</b> $1,299,000</span>",
           38.958825,
           -77.080034
          ],
          [
           "<b style='font-family: Arial, sans-serif; font-size: 14px;'>3130 38TH ST NW</b><br><span style='font-family: Arial, sans-serif;'>WASHINGTON, DC, 20016</span><br><span style='font-family: Arial, sans-serif;'><b>Type:</b> SINGLE_FAMILY</span><br><span style='font-family: Arial, sans-serif;'><b>Beds:</b> 3.0</span><br><span style='font-family: Arial, sans-serif;'><b>Baths:</b> 3.0</span><br><span style='font-family: Arial, sans-serif;'><b>Sq Ft:</b> 1,971</span><br><span style='font-family: Arial, sans-serif;'><b>Year Built:</b> 1940</span><br><span style='font-family: Arial, sans-serif;'><b>Price:</b> $1,600,000</span>",
           38.931631,
           -77.07457
          ],
          [
           "<b style='font-family: Arial, sans-serif; font-size: 14px;'>2715 22ND ST NE</b><br><span style='font-family: Arial, sans-serif;'>WASHINGTON, DC, 20018</span><br><span style='font-family: Arial, sans-serif;'><b>Type:</b> SINGLE_FAMILY</span><br><span style='font-family: Arial, sans-serif;'><b>Beds:</b> 0.0</span><br><span style='font-family: Arial, sans-serif;'><b>Baths:</b> 0.0</span><br><span style='font-family: Arial, sans-serif;'><b>Sq Ft:</b> 8,502</span><br><span style='font-family: Arial, sans-serif;'><b>Year Built:</b> 1910</span><br><span style='font-family: Arial, sans-serif;'><b>Price:</b> $2,100,000</span>",
           38.924972,
           -76.973865
          ],
          [
           "<b style='font-family: Arial, sans-serif; font-size: 14px;'>3718 BRANDYWINE ST NW</b><br><span style='font-family: Arial, sans-serif;'>WASHINGTON, DC, 20016</span><br><span style='font-family: Arial, sans-serif;'><b>Type:</b> SINGLE_FAMILY</span><br><span style='font-family: Arial, sans-serif;'><b>Beds:</b> 6.0</span><br><span style='font-family: Arial, sans-serif;'><b>Baths:</b> 5.5</span><br><span style='font-family: Arial, sans-serif;'><b>Sq Ft:</b> 6,000</span><br><span style='font-family: Arial, sans-serif;'><b>Year Built:</b> 2025</span><br><span style='font-family: Arial, sans-serif;'><b>Price:</b> $3,399,990</span>",
           38.949426,
           -77.073477
          ],
          [
           "<b style='font-family: Arial, sans-serif; font-size: 14px;'>1922 CAPITOL AVE NE</b><br><span style='font-family: Arial, sans-serif;'>WASHINGTON, DC, 20002</span><br><span style='font-family: Arial, sans-serif;'><b>Type:</b> SINGLE_FAMILY</span><br><span style='font-family: Arial, sans-serif;'><b>Beds:</b> 3.0</span><br><span style='font-family: Arial, sans-serif;'><b>Baths:</b> 1.5</span><br><span style='font-family: Arial, sans-serif;'><b>Sq Ft:</b> 1,120</span><br><span style='font-family: Arial, sans-serif;'><b>Year Built:</b> 1905</span><br><span style='font-family: Arial, sans-serif;'><b>Price:</b> $875,000</span>",
           38.912376,
           -76.9846815
          ],
          [
           "<b style='font-family: Arial, sans-serif; font-size: 14px;'>1210 F ST NE</b><br><span style='font-family: Arial, sans-serif;'>WASHINGTON, DC, 20002</span><br><span style='font-family: Arial, sans-serif;'><b>Type:</b> SINGLE_FAMILY</span><br><span style='font-family: Arial, sans-serif;'><b>Beds:</b> 2.0</span><br><span style='font-family: Arial, sans-serif;'><b>Baths:</b> 2.0</span><br><span style='font-family: Arial, sans-serif;'><b>Sq Ft:</b> 1,292</span><br><span style='font-family: Arial, sans-serif;'><b>Year Built:</b> 1917</span><br><span style='font-family: Arial, sans-serif;'><b>Price:</b> $769,000</span>",
           38.897522,
           -76.989019
          ],
          [
           "<b style='font-family: Arial, sans-serif; font-size: 14px;'>1440 NEWTON ST NE</b><br><span style='font-family: Arial, sans-serif;'>WASHINGTON, DC, 20017</span><br><span style='font-family: Arial, sans-serif;'><b>Type:</b> SINGLE_FAMILY</span><br><span style='font-family: Arial, sans-serif;'><b>Beds:</b> 4.0</span><br><span style='font-family: Arial, sans-serif;'><b>Baths:</b> 2.0</span><br><span style='font-family: Arial, sans-serif;'><b>Sq Ft:</b> 1,784</span>",
           38.934158,
           -76.985016
          ],
          [
           "<b style='font-family: Arial, sans-serif; font-size: 14px;'>5068 SHERIER PL NW</b><br><span style='font-family: Arial, sans-serif;'>WASHINGTON, DC, 20016</span><br><span style='font-family: Arial, sans-serif;'><b>Type:</b> SINGLE_FAMILY</span><br><span style='font-family: Arial, sans-serif;'><b>Beds:</b> 7.0</span><br><span style='font-family: Arial, sans-serif;'><b>Baths:</b> 5.5</span><br><span style='font-family: Arial, sans-serif;'><b>Sq Ft:</b> 6,340</span><br><span style='font-family: Arial, sans-serif;'><b>Year Built:</b> 2022</span><br><span style='font-family: Arial, sans-serif;'><b>Price:</b> $3,987,000</span>",
           38.924069,
           -77.102557
          ],
          [
           "<b style='font-family: Arial, sans-serif; font-size: 14px;'>1523 31ST ST NW</b><br><span style='font-family: Arial, sans-serif;'>WASHINGTON, DC, 20007</span><br><span style='font-family: Arial, sans-serif;'><b>Type:</b> SINGLE_FAMILY</span><br><span style='font-family: Arial, sans-serif;'><b>Beds:</b> 5.0</span><br><span style='font-family: Arial, sans-serif;'><b>Baths:</b> 3.5</span><br><span style='font-family: Arial, sans-serif;'><b>Sq Ft:</b> 3,722</span><br><span style='font-family: Arial, sans-serif;'><b>Price:</b> $3,400,000</span>",
           38.910049,
           -77.061384
          ],
          [
           "<b style='font-family: Arial, sans-serif; font-size: 14px;'>1027 COOK DR SE</b><br><span style='font-family: Arial, sans-serif;'>WASHINGTON, DC, 20032</span><br><span style='font-family: Arial, sans-serif;'><b>Type:</b> SINGLE_FAMILY</span><br><span style='font-family: Arial, sans-serif;'><b>Beds:</b> 4.0</span><br><span style='font-family: Arial, sans-serif;'><b>Baths:</b> 3.5</span><br><span style='font-family: Arial, sans-serif;'><b>Sq Ft:</b> 2,468</span><br><span style='font-family: Arial, sans-serif;'><b>Year Built:</b> 2017</span><br><span style='font-family: Arial, sans-serif;'><b>Price:</b> $725,000</span>",
           38.84359,
           -76.98251
          ],
          [
           "<b style='font-family: Arial, sans-serif; font-size: 14px;'>2396 ELVANS RD SE</b><br><span style='font-family: Arial, sans-serif;'>WASHINGTON, DC, 20020</span><br><span style='font-family: Arial, sans-serif;'><b>Type:</b> SINGLE_FAMILY</span><br><span style='font-family: Arial, sans-serif;'><b>Beds:</b> 3.0</span><br><span style='font-family: Arial, sans-serif;'><b>Baths:</b> 3.5</span><br><span style='font-family: Arial, sans-serif;'><b>Sq Ft:</b> 1,770</span><br><span style='font-family: Arial, sans-serif;'><b>Year Built:</b> 1997</span><br><span style='font-family: Arial, sans-serif;'><b>Price:</b> $525,000</span>",
           38.85443,
           -76.985357
          ],
          [
           "<b style='font-family: Arial, sans-serif; font-size: 14px;'>1671 FORT DUPONT ST SE</b><br><span style='font-family: Arial, sans-serif;'>WASHINGTON, DC, 20020</span><br><span style='font-family: Arial, sans-serif;'><b>Type:</b> SINGLE_FAMILY</span><br><span style='font-family: Arial, sans-serif;'><b>Beds:</b> 3.0</span><br><span style='font-family: Arial, sans-serif;'><b>Baths:</b> 2.5</span><br><span style='font-family: Arial, sans-serif;'><b>Sq Ft:</b> 1,350</span><br><span style='font-family: Arial, sans-serif;'><b>Year Built:</b> 1947</span><br><span style='font-family: Arial, sans-serif;'><b>Price:</b> $0</span>",
           38.865079,
           -76.946079
          ],
          [
           "<b style='font-family: Arial, sans-serif; font-size: 14px;'>4915 NASH ST NE</b><br><span style='font-family: Arial, sans-serif;'>WASHINGTON, DC, 20019</span><br><span style='font-family: Arial, sans-serif;'><b>Type:</b> SINGLE_FAMILY</span><br><span style='font-family: Arial, sans-serif;'><b>Beds:</b> 6.0</span><br><span style='font-family: Arial, sans-serif;'><b>Baths:</b> 2.0</span><br><span style='font-family: Arial, sans-serif;'><b>Sq Ft:</b> 1,262</span><br><span style='font-family: Arial, sans-serif;'><b>Year Built:</b> 1946</span><br><span style='font-family: Arial, sans-serif;'><b>Price:</b> $1,500,000</span>",
           38.906976,
           -76.93091
          ],
          [
           "<b style='font-family: Arial, sans-serif; font-size: 14px;'>3313 22ND ST NE</b><br><span style='font-family: Arial, sans-serif;'>WASHINGTON, DC, 20018</span><br><span style='font-family: Arial, sans-serif;'><b>Type:</b> SINGLE_FAMILY</span><br><span style='font-family: Arial, sans-serif;'><b>Beds:</b> 4.0</span><br><span style='font-family: Arial, sans-serif;'><b>Baths:</b> 3.0</span><br><span style='font-family: Arial, sans-serif;'><b>Sq Ft:</b> 2,272</span><br><span style='font-family: Arial, sans-serif;'><b>Year Built:</b> 1909</span><br><span style='font-family: Arial, sans-serif;'><b>Price:</b> $870,000</span>",
           38.932001,
           -76.973881
          ],
          [
           "<b style='font-family: Arial, sans-serif; font-size: 14px;'>1512 MONTANA AVE NE</b><br><span style='font-family: Arial, sans-serif;'>WASHINGTON, DC, 20018</span><br><span style='font-family: Arial, sans-serif;'><b>Type:</b> SINGLE_FAMILY</span><br><span style='font-family: Arial, sans-serif;'><b>Beds:</b> 4.0</span><br><span style='font-family: Arial, sans-serif;'><b>Baths:</b> 1.5</span><br><span style='font-family: Arial, sans-serif;'><b>Sq Ft:</b> 1,677</span><br><span style='font-family: Arial, sans-serif;'><b>Year Built:</b> 1941</span><br><span style='font-family: Arial, sans-serif;'><b>Price:</b> $699,900</span>",
           38.922525,
           -76.982281
          ],
          [
           "<b style='font-family: Arial, sans-serif; font-size: 14px;'>3951 MASSACHUSETTS AVE NW</b><br><span style='font-family: Arial, sans-serif;'>WASHINGTON, DC, 20016</span><br><span style='font-family: Arial, sans-serif;'><b>Type:</b> SINGLE_FAMILY</span><br><span style='font-family: Arial, sans-serif;'><b>Beds:</b> 5.0</span><br><span style='font-family: Arial, sans-serif;'><b>Baths:</b> 5.0</span><br><span style='font-family: Arial, sans-serif;'><b>Sq Ft:</b> 3,719</span><br><span style='font-family: Arial, sans-serif;'><b>Year Built:</b> 1938</span><br><span style='font-family: Arial, sans-serif;'><b>Price:</b> $2,495,000</span>",
           38.933231,
           -77.078708
          ],
          [
           "<b style='font-family: Arial, sans-serif; font-size: 14px;'>208 ELLIE WAY</b><br><span style='font-family: Arial, sans-serif;'>SAVANNAH, GA, 20010</span><br><span style='font-family: Arial, sans-serif;'><b>Type:</b> SINGLE_FAMILY</span><br><span style='font-family: Arial, sans-serif;'><b>Beds:</b> 4.0</span><br><span style='font-family: Arial, sans-serif;'><b>Baths:</b> 2.5</span><br><span style='font-family: Arial, sans-serif;'><b>Sq Ft:</b> 1,927</span><br><span style='font-family: Arial, sans-serif;'><b>Year Built:</b> 2025</span><br><span style='font-family: Arial, sans-serif;'><b>Price:</b> $367,990</span>",
           38.934834422695,
           -77.027128341467
          ],
          [
           "<b style='font-family: Arial, sans-serif; font-size: 14px;'>1925 LAWRENCE ST NE</b><br><span style='font-family: Arial, sans-serif;'>WASHINGTON, DC, 20018</span><br><span style='font-family: Arial, sans-serif;'><b>Type:</b> SINGLE_FAMILY</span><br><span style='font-family: Arial, sans-serif;'><b>Beds:</b> 6.0</span><br><span style='font-family: Arial, sans-serif;'><b>Baths:</b> 4.5</span><br><span style='font-family: Arial, sans-serif;'><b>Sq Ft:</b> 3,540</span><br><span style='font-family: Arial, sans-serif;'><b>Year Built:</b> 1916</span><br><span style='font-family: Arial, sans-serif;'><b>Price:</b> $1,350,000</span>",
           38.931841,
           -76.977185
          ],
          [
           "<b style='font-family: Arial, sans-serif; font-size: 14px;'>5816 MACARTHUR BLVD NW</b><br><span style='font-family: Arial, sans-serif;'>WASHINGTON, DC, 20016</span><br><span style='font-family: Arial, sans-serif;'><b>Type:</b> SINGLE_FAMILY</span><br><span style='font-family: Arial, sans-serif;'><b>Beds:</b> 5.0</span><br><span style='font-family: Arial, sans-serif;'><b>Baths:</b> 5.0</span><br><span style='font-family: Arial, sans-serif;'><b>Sq Ft:</b> 2,679</span><br><span style='font-family: Arial, sans-serif;'><b>Year Built:</b> 1932</span><br><span style='font-family: Arial, sans-serif;'><b>Price:</b> $1,595,000</span>",
           38.935047,
           -77.111541
          ],
          [
           "<b style='font-family: Arial, sans-serif; font-size: 14px;'>1432 SHERIDAN ST NW</b><br><span style='font-family: Arial, sans-serif;'>WASHINGTON, DC, 20011</span><br><span style='font-family: Arial, sans-serif;'><b>Type:</b> SINGLE_FAMILY</span><br><span style='font-family: Arial, sans-serif;'><b>Beds:</b> 3.0</span><br><span style='font-family: Arial, sans-serif;'><b>Baths:</b> 5.0</span><br><span style='font-family: Arial, sans-serif;'><b>Sq Ft:</b> 1,844</span><br><span style='font-family: Arial, sans-serif;'><b>Year Built:</b> 1950</span><br><span style='font-family: Arial, sans-serif;'><b>Price:</b> $699,999</span>",
           38.965936,
           -77.034592
          ],
          [
           "<b style='font-family: Arial, sans-serif; font-size: 14px;'>5200 AMES ST NE</b><br><span style='font-family: Arial, sans-serif;'>WASHINGTON, DC, 20019</span><br><span style='font-family: Arial, sans-serif;'><b>Type:</b> SINGLE_FAMILY</span><br><span style='font-family: Arial, sans-serif;'><b>Beds:</b> 2.0</span><br><span style='font-family: Arial, sans-serif;'><b>Baths:</b> 2.0</span><br><span style='font-family: Arial, sans-serif;'><b>Sq Ft:</b> 1,080</span><br><span style='font-family: Arial, sans-serif;'><b>Year Built:</b> 1938</span><br><span style='font-family: Arial, sans-serif;'><b>Price:</b> $449,950</span>",
           38.890931,
           -76.927663
          ],
          [
           "<b style='font-family: Arial, sans-serif; font-size: 14px;'>47 GALLATIN ST NW</b><br><span style='font-family: Arial, sans-serif;'>WASHINGTON, DC, 20011</span><br><span style='font-family: Arial, sans-serif;'><b>Type:</b> SINGLE_FAMILY</span><br><span style='font-family: Arial, sans-serif;'><b>Beds:</b> 3.0</span><br><span style='font-family: Arial, sans-serif;'><b>Baths:</b> 2.5</span><br><span style='font-family: Arial, sans-serif;'><b>Sq Ft:</b> 1,457</span><br><span style='font-family: Arial, sans-serif;'><b>Year Built:</b> 1938</span><br><span style='font-family: Arial, sans-serif;'><b>Price:</b> $995,000</span>",
           38.952679,
           -77.010689
          ],
          [
           "<b style='font-family: Arial, sans-serif; font-size: 14px;'>5126 WARREN PL NW</b><br><span style='font-family: Arial, sans-serif;'>WASHINGTON, DC, 20016</span><br><span style='font-family: Arial, sans-serif;'><b>Type:</b> SINGLE_FAMILY</span><br><span style='font-family: Arial, sans-serif;'><b>Beds:</b> 5.0</span><br><span style='font-family: Arial, sans-serif;'><b>Baths:</b> 4.5</span><br><span style='font-family: Arial, sans-serif;'><b>Sq Ft:</b> 3,532</span><br><span style='font-family: Arial, sans-serif;'><b>Year Built:</b> 2000</span><br><span style='font-family: Arial, sans-serif;'><b>Price:</b> $2,199,000</span>",
           38.945246,
           -77.102887
          ],
          [
           "<b style='font-family: Arial, sans-serif; font-size: 14px;'>4564 INDIAN ROCK TER NW</b><br><span style='font-family: Arial, sans-serif;'>WASHINGTON, DC, 20007</span><br><span style='font-family: Arial, sans-serif;'><b>Type:</b> SINGLE_FAMILY</span><br><span style='font-family: Arial, sans-serif;'><b>Beds:</b> 3.0</span><br><span style='font-family: Arial, sans-serif;'><b>Baths:</b> 2.5</span><br><span style='font-family: Arial, sans-serif;'><b>Sq Ft:</b> 2,300</span><br><span style='font-family: Arial, sans-serif;'><b>Year Built:</b> 1956</span><br><span style='font-family: Arial, sans-serif;'><b>Price:</b> $1,750,000</span>",
           38.910194,
           -77.087214
          ],
          [
           "<b style='font-family: Arial, sans-serif; font-size: 14px;'>4519 CATHEDRAL AVE NW</b><br><span style='font-family: Arial, sans-serif;'>WASHINGTON, DC, 20016</span><br><span style='font-family: Arial, sans-serif;'><b>Type:</b> SINGLE_FAMILY</span><br><span style='font-family: Arial, sans-serif;'><b>Beds:</b> 6.0</span><br><span style='font-family: Arial, sans-serif;'><b>Baths:</b> 6.5</span><br><span style='font-family: Arial, sans-serif;'><b>Sq Ft:</b> 9,824</span><br><span style='font-family: Arial, sans-serif;'><b>Year Built:</b> 2001</span><br><span style='font-family: Arial, sans-serif;'><b>Price:</b> $7,400,000</span>",
           38.930612,
           -77.089854
          ],
          [
           "<b style='font-family: Arial, sans-serif; font-size: 14px;'>2711 14TH ST NE</b><br><span style='font-family: Arial, sans-serif;'>WASHINGTON, DC, 20018</span><br><span style='font-family: Arial, sans-serif;'><b>Type:</b> SINGLE_FAMILY</span><br><span style='font-family: Arial, sans-serif;'><b>Beds:</b> 3.0</span><br><span style='font-family: Arial, sans-serif;'><b>Baths:</b> 2.5</span><br><span style='font-family: Arial, sans-serif;'><b>Sq Ft:</b> 2,323</span><br><span style='font-family: Arial, sans-serif;'><b>Year Built:</b> 1956</span><br><span style='font-family: Arial, sans-serif;'><b>Price:</b> $735,000</span>",
           38.925358,
           -76.985534
          ],
          [
           "<b style='font-family: Arial, sans-serif; font-size: 14px;'>600 G ST SE</b><br><span style='font-family: Arial, sans-serif;'>WASHINGTON, DC, 20003</span><br><span style='font-family: Arial, sans-serif;'><b>Type:</b> SINGLE_FAMILY</span><br><span style='font-family: Arial, sans-serif;'><b>Beds:</b> 5.0</span><br><span style='font-family: Arial, sans-serif;'><b>Baths:</b> 5.0</span><br><span style='font-family: Arial, sans-serif;'><b>Sq Ft:</b> 4,850</span>",
           38.881527,
           -76.998234
          ],
          [
           "<b style='font-family: Arial, sans-serif; font-size: 14px;'>1714 33RD PL SE</b><br><span style='font-family: Arial, sans-serif;'>WASHINGTON, DC, 20020</span><br><span style='font-family: Arial, sans-serif;'><b>Type:</b> SINGLE_FAMILY</span><br><span style='font-family: Arial, sans-serif;'><b>Beds:</b> 4.0</span><br><span style='font-family: Arial, sans-serif;'><b>Baths:</b> 2.5</span><br><span style='font-family: Arial, sans-serif;'><b>Sq Ft:</b> 1,954</span><br><span style='font-family: Arial, sans-serif;'><b>Year Built:</b> 1945</span><br><span style='font-family: Arial, sans-serif;'><b>Price:</b> $649,000</span>",
           38.869177,
           -76.957276
          ],
          [
           "<b style='font-family: Arial, sans-serif; font-size: 14px;'>5509 33RD ST NW</b><br><span style='font-family: Arial, sans-serif;'>WASHINGTON, DC, 20015</span><br><span style='font-family: Arial, sans-serif;'><b>Type:</b> SINGLE_FAMILY</span><br><span style='font-family: Arial, sans-serif;'><b>Beds:</b> 6.0</span><br><span style='font-family: Arial, sans-serif;'><b>Baths:</b> 5.5</span><br><span style='font-family: Arial, sans-serif;'><b>Sq Ft:</b> 6,600</span><br><span style='font-family: Arial, sans-serif;'><b>Year Built:</b> 2009</span><br><span style='font-family: Arial, sans-serif;'><b>Price:</b> $3,150,000</span>",
           38.96369,
           -77.066058
          ],
          [
           "<b style='font-family: Arial, sans-serif; font-size: 14px;'>5463 NEBRASKA AVE NW</b><br><span style='font-family: Arial, sans-serif;'>WASHINGTON, DC, 20015</span><br><span style='font-family: Arial, sans-serif;'><b>Type:</b> SINGLE_FAMILY</span><br><span style='font-family: Arial, sans-serif;'><b>Beds:</b> 3.0</span><br><span style='font-family: Arial, sans-serif;'><b>Baths:</b> 2.0</span><br><span style='font-family: Arial, sans-serif;'><b>Sq Ft:</b> 1,436</span><br><span style='font-family: Arial, sans-serif;'><b>Year Built:</b> 1926</span><br><span style='font-family: Arial, sans-serif;'><b>Price:</b> $1,099,999</span>",
           38.962688,
           -77.064282
          ],
          [
           "<b style='font-family: Arial, sans-serif; font-size: 14px;'>2946 MACOMB ST NW</b><br><span style='font-family: Arial, sans-serif;'>WASHINGTON, DC, 20008</span><br><span style='font-family: Arial, sans-serif;'><b>Type:</b> SINGLE_FAMILY</span><br><span style='font-family: Arial, sans-serif;'><b>Beds:</b> 6.0</span><br><span style='font-family: Arial, sans-serif;'><b>Baths:</b> 4.5</span><br><span style='font-family: Arial, sans-serif;'><b>Sq Ft:</b> 5,200</span><br><span style='font-family: Arial, sans-serif;'><b>Year Built:</b> 1922</span><br><span style='font-family: Arial, sans-serif;'><b>Price:</b> $2,530,000</span>",
           38.933168,
           -77.059456
          ],
          [
           "<b style='font-family: Arial, sans-serif; font-size: 14px;'>3006 SOUTH DAKOTA AVE NE</b><br><span style='font-family: Arial, sans-serif;'>WASHINGTON, DC, 20018</span><br><span style='font-family: Arial, sans-serif;'><b>Type:</b> SINGLE_FAMILY</span><br><span style='font-family: Arial, sans-serif;'><b>Beds:</b> 7.0</span><br><span style='font-family: Arial, sans-serif;'><b>Baths:</b> 2.0</span><br><span style='font-family: Arial, sans-serif;'><b>Sq Ft:</b> 1,506</span><br><span style='font-family: Arial, sans-serif;'><b>Year Built:</b> 1922</span><br><span style='font-family: Arial, sans-serif;'><b>Price:</b> $699,000</span>",
           38.928124,
           -76.968763
          ],
          [
           "<b style='font-family: Arial, sans-serif; font-size: 14px;'>3124 38TH ST NW</b><br><span style='font-family: Arial, sans-serif;'>WASHINGTON, DC, 20016</span><br><span style='font-family: Arial, sans-serif;'><b>Type:</b> SINGLE_FAMILY</span><br><span style='font-family: Arial, sans-serif;'><b>Beds:</b> 5.0</span><br><span style='font-family: Arial, sans-serif;'><b>Baths:</b> 5.5</span><br><span style='font-family: Arial, sans-serif;'><b>Sq Ft:</b> 6,450</span><br><span style='font-family: Arial, sans-serif;'><b>Year Built:</b> 1923</span><br><span style='font-family: Arial, sans-serif;'><b>Price:</b> $5,650,000</span>",
           38.931377,
           -77.074789
          ],
          [
           "<b style='font-family: Arial, sans-serif; font-size: 14px;'>4516 43RD ST NW</b><br><span style='font-family: Arial, sans-serif;'>WASHINGTON, DC, 20016</span><br><span style='font-family: Arial, sans-serif;'><b>Type:</b> SINGLE_FAMILY</span><br><span style='font-family: Arial, sans-serif;'><b>Beds:</b> 4.0</span><br><span style='font-family: Arial, sans-serif;'><b>Baths:</b> 3.5</span><br><span style='font-family: Arial, sans-serif;'><b>Sq Ft:</b> 1,986</span><br><span style='font-family: Arial, sans-serif;'><b>Year Built:</b> 1954</span><br><span style='font-family: Arial, sans-serif;'><b>Price:</b> $1,525,000</span>",
           38.948313,
           -77.08407
          ],
          [
           "<b style='font-family: Arial, sans-serif; font-size: 14px;'>4869 GLENBROOK RD NW</b><br><span style='font-family: Arial, sans-serif;'>WASHINGTON, DC, 20016</span><br><span style='font-family: Arial, sans-serif;'><b>Type:</b> SINGLE_FAMILY</span><br><span style='font-family: Arial, sans-serif;'><b>Beds:</b> 7.0</span><br><span style='font-family: Arial, sans-serif;'><b>Baths:</b> 7.5</span><br><span style='font-family: Arial, sans-serif;'><b>Sq Ft:</b> 10,168</span><br><span style='font-family: Arial, sans-serif;'><b>Year Built:</b> 2014</span><br><span style='font-family: Arial, sans-serif;'><b>Price:</b> $9,500,000</span>",
           38.93596,
           -77.09514
          ],
          [
           "<b style='font-family: Arial, sans-serif; font-size: 14px;'>5738 7TH ST NW</b><br><span style='font-family: Arial, sans-serif;'>WASHINGTON, DC, 20011</span><br><span style='font-family: Arial, sans-serif;'><b>Type:</b> SINGLE_FAMILY</span><br><span style='font-family: Arial, sans-serif;'><b>Beds:</b> 5.0</span><br><span style='font-family: Arial, sans-serif;'><b>Baths:</b> 3.0</span><br><span style='font-family: Arial, sans-serif;'><b>Sq Ft:</b> 2,132</span><br><span style='font-family: Arial, sans-serif;'><b>Year Built:</b> 1926</span>",
           38.959957,
           -77.022681
          ],
          [
           "<b style='font-family: Arial, sans-serif; font-size: 14px;'>3137 18TH ST NE</b><br><span style='font-family: Arial, sans-serif;'>WASHINGTON, DC, 20018</span><br><span style='font-family: Arial, sans-serif;'><b>Type:</b> SINGLE_FAMILY</span><br><span style='font-family: Arial, sans-serif;'><b>Beds:</b> 5.0</span><br><span style='font-family: Arial, sans-serif;'><b>Baths:</b> 3.5</span><br><span style='font-family: Arial, sans-serif;'><b>Sq Ft:</b> 2,967</span><br><span style='font-family: Arial, sans-serif;'><b>Year Built:</b> 1910</span><br><span style='font-family: Arial, sans-serif;'><b>Price:</b> $1,600,000</span>",
           38.929917,
           -76.979117
          ],
          [
           "<b style='font-family: Arial, sans-serif; font-size: 14px;'>4908 A ST SE</b><br><span style='font-family: Arial, sans-serif;'>WASHINGTON, DC, 20019</span><br><span style='font-family: Arial, sans-serif;'><b>Type:</b> SINGLE_FAMILY</span><br><span style='font-family: Arial, sans-serif;'><b>Beds:</b> 3.0</span><br><span style='font-family: Arial, sans-serif;'><b>Baths:</b> 2.0</span><br><span style='font-family: Arial, sans-serif;'><b>Sq Ft:</b> 1,698</span><br><span style='font-family: Arial, sans-serif;'><b>Year Built:</b> 1945</span><br><span style='font-family: Arial, sans-serif;'><b>Price:</b> $399,900</span>",
           38.888449,
           -76.931692
          ],
          [
           "<b style='font-family: Arial, sans-serif; font-size: 14px;'>4838 SHERIFF RD NE</b><br><span style='font-family: Arial, sans-serif;'>WASHINGTON, DC, 20019</span><br><span style='font-family: Arial, sans-serif;'><b>Type:</b> SINGLE_FAMILY</span><br><span style='font-family: Arial, sans-serif;'><b>Beds:</b> 4.0</span><br><span style='font-family: Arial, sans-serif;'><b>Baths:</b> 3.0</span><br><span style='font-family: Arial, sans-serif;'><b>Sq Ft:</b> 2,024</span><br><span style='font-family: Arial, sans-serif;'><b>Year Built:</b> 1926</span><br><span style='font-family: Arial, sans-serif;'><b>Price:</b> $499,999</span>",
           38.903259,
           -76.932007
          ],
          [
           "<b style='font-family: Arial, sans-serif; font-size: 14px;'>4424 ALABAMA AVE SE</b><br><span style='font-family: Arial, sans-serif;'>WASHINGTON, DC, 20019</span><br><span style='font-family: Arial, sans-serif;'><b>Type:</b> SINGLE_FAMILY</span><br><span style='font-family: Arial, sans-serif;'><b>Beds:</b> 3.0</span><br><span style='font-family: Arial, sans-serif;'><b>Baths:</b> 2.0</span><br><span style='font-family: Arial, sans-serif;'><b>Sq Ft:</b> 2,280</span><br><span style='font-family: Arial, sans-serif;'><b>Year Built:</b> 1935</span><br><span style='font-family: Arial, sans-serif;'><b>Price:</b> $260,000</span>",
           38.874942,
           -76.937128
          ],
          [
           "<b style='font-family: Arial, sans-serif; font-size: 14px;'>4920 LOUGHBORO RD NW</b><br><span style='font-family: Arial, sans-serif;'>WASHINGTON, DC, 20016</span><br><span style='font-family: Arial, sans-serif;'><b>Type:</b> SINGLE_FAMILY</span><br><span style='font-family: Arial, sans-serif;'><b>Beds:</b> 7.0</span><br><span style='font-family: Arial, sans-serif;'><b>Baths:</b> 9.0</span><br><span style='font-family: Arial, sans-serif;'><b>Sq Ft:</b> 9,994</span><br><span style='font-family: Arial, sans-serif;'><b>Year Built:</b> 2024</span><br><span style='font-family: Arial, sans-serif;'><b>Price:</b> $5,500,000</span>",
           38.932459,
           -77.097709
          ],
          [
           "<b style='font-family: Arial, sans-serif; font-size: 14px;'>2855 MILLS AVE NE</b><br><span style='font-family: Arial, sans-serif;'>WASHINGTON, DC, 20018</span><br><span style='font-family: Arial, sans-serif;'><b>Type:</b> SINGLE_FAMILY</span><br><span style='font-family: Arial, sans-serif;'><b>Beds:</b> 3.0</span><br><span style='font-family: Arial, sans-serif;'><b>Baths:</b> 2.0</span><br><span style='font-family: Arial, sans-serif;'><b>Sq Ft:</b> 1,216</span><br><span style='font-family: Arial, sans-serif;'><b>Year Built:</b> 1905</span><br><span style='font-family: Arial, sans-serif;'><b>Price:</b> $649,000</span>",
           38.927034,
           -76.972682
          ],
          [
           "<b style='font-family: Arial, sans-serif; font-size: 14px;'>2754 CHAIN BRIDGE RD NW</b><br><span style='font-family: Arial, sans-serif;'>WASHINGTON, DC, 20016</span><br><span style='font-family: Arial, sans-serif;'><b>Type:</b> SINGLE_FAMILY</span><br><span style='font-family: Arial, sans-serif;'><b>Beds:</b> 7.0</span><br><span style='font-family: Arial, sans-serif;'><b>Baths:</b> 9.0</span><br><span style='font-family: Arial, sans-serif;'><b>Sq Ft:</b> 10,862</span><br><span style='font-family: Arial, sans-serif;'><b>Year Built:</b> 2025</span><br><span style='font-family: Arial, sans-serif;'><b>Price:</b> $9,995,000</span>",
           38.926777,
           -77.095987
          ],
          [
           "<b style='font-family: Arial, sans-serif; font-size: 14px;'>3519 ALTON PL NW</b><br><span style='font-family: Arial, sans-serif;'>WASHINGTON, DC, 20008</span><br><span style='font-family: Arial, sans-serif;'><b>Type:</b> SINGLE_FAMILY</span><br><span style='font-family: Arial, sans-serif;'><b>Beds:</b> 3.0</span><br><span style='font-family: Arial, sans-serif;'><b>Baths:</b> 2.5</span><br><span style='font-family: Arial, sans-serif;'><b>Sq Ft:</b> 1,755</span><br><span style='font-family: Arial, sans-serif;'><b>Year Built:</b> 1939</span><br><span style='font-family: Arial, sans-serif;'><b>Price:</b> $987,000</span>",
           38.947298,
           -77.068242
          ],
          [
           "<b style='font-family: Arial, sans-serif; font-size: 14px;'>3101 ALABAMA AVE SE</b><br><span style='font-family: Arial, sans-serif;'>WASHINGTON, DC, 20020</span><br><span style='font-family: Arial, sans-serif;'><b>Type:</b> SINGLE_FAMILY</span><br><span style='font-family: Arial, sans-serif;'><b>Beds:</b> 4.0</span><br><span style='font-family: Arial, sans-serif;'><b>Baths:</b> 2.5</span><br><span style='font-family: Arial, sans-serif;'><b>Sq Ft:</b> 2,999</span><br><span style='font-family: Arial, sans-serif;'><b>Year Built:</b> 1932</span><br><span style='font-family: Arial, sans-serif;'><b>Price:</b> $499,900</span>",
           38.861127,
           -76.962728
          ],
          [
           "<b style='font-family: Arial, sans-serif; font-size: 14px;'>2717 38TH ST NW</b><br><span style='font-family: Arial, sans-serif;'>WASHINGTON, DC, 20007</span><br><span style='font-family: Arial, sans-serif;'><b>Type:</b> SINGLE_FAMILY</span><br><span style='font-family: Arial, sans-serif;'><b>Beds:</b> 5.0</span><br><span style='font-family: Arial, sans-serif;'><b>Baths:</b> 4.5</span><br><span style='font-family: Arial, sans-serif;'><b>Sq Ft:</b> 5,010</span><br><span style='font-family: Arial, sans-serif;'><b>Year Built:</b> 1939</span><br><span style='font-family: Arial, sans-serif;'><b>Price:</b> $3,995,000</span>",
           38.925654,
           -77.074218
          ],
          [
           "<b style='font-family: Arial, sans-serif; font-size: 14px;'>504 45TH ST NE</b><br><span style='font-family: Arial, sans-serif;'>WASHINGTON, DC, 20019</span><br><span style='font-family: Arial, sans-serif;'><b>Type:</b> SINGLE_FAMILY</span><br><span style='font-family: Arial, sans-serif;'><b>Beds:</b> 2.0</span><br><span style='font-family: Arial, sans-serif;'><b>Baths:</b> 2.5</span><br><span style='font-family: Arial, sans-serif;'><b>Sq Ft:</b> 1,054</span><br><span style='font-family: Arial, sans-serif;'><b>Year Built:</b> 1947</span><br><span style='font-family: Arial, sans-serif;'><b>Price:</b> $285,000</span>",
           38.895651,
           -76.937988
          ],
          [
           "<b style='font-family: Arial, sans-serif; font-size: 14px;'>5001 ASTOR PL SE</b><br><span style='font-family: Arial, sans-serif;'>WASHINGTON, DC, 20019</span><br><span style='font-family: Arial, sans-serif;'><b>Type:</b> SINGLE_FAMILY</span><br><span style='font-family: Arial, sans-serif;'><b>Beds:</b> 5.0</span><br><span style='font-family: Arial, sans-serif;'><b>Baths:</b> 4.5</span><br><span style='font-family: Arial, sans-serif;'><b>Sq Ft:</b> 4,733</span><br><span style='font-family: Arial, sans-serif;'><b>Year Built:</b> 2018</span><br><span style='font-family: Arial, sans-serif;'><b>Price:</b> $1,200,000</span>",
           38.887116,
           -76.930019
          ],
          [
           "<b style='font-family: Arial, sans-serif; font-size: 14px;'>5100 QUEENS STROLL PL SE</b><br><span style='font-family: Arial, sans-serif;'>WASHINGTON, DC, 20019</span><br><span style='font-family: Arial, sans-serif;'><b>Type:</b> SINGLE_FAMILY</span><br><span style='font-family: Arial, sans-serif;'><b>Beds:</b> 2.0</span><br><span style='font-family: Arial, sans-serif;'><b>Baths:</b> 1.0</span><br><span style='font-family: Arial, sans-serif;'><b>Sq Ft:</b> 800</span><br><span style='font-family: Arial, sans-serif;'><b>Year Built:</b> 1942</span><br><span style='font-family: Arial, sans-serif;'><b>Price:</b> $249,900</span>",
           38.883162,
           -76.928637
          ],
          [
           "<b style='font-family: Arial, sans-serif; font-size: 14px;'>7053 WESTERN AVE NW</b><br><span style='font-family: Arial, sans-serif;'>WASHINGTON, DC, 20015</span><br><span style='font-family: Arial, sans-serif;'><b>Type:</b> SINGLE_FAMILY</span><br><span style='font-family: Arial, sans-serif;'><b>Beds:</b> 5.0</span><br><span style='font-family: Arial, sans-serif;'><b>Baths:</b> 4.0</span><br><span style='font-family: Arial, sans-serif;'><b>Sq Ft:</b> 3,440</span><br><span style='font-family: Arial, sans-serif;'><b>Year Built:</b> 1951</span><br><span style='font-family: Arial, sans-serif;'><b>Price:</b> $1,695,000</span>",
           38.981149,
           -77.059166
          ],
          [
           "<b style='font-family: Arial, sans-serif; font-size: 14px;'>2716 36TH PL NW</b><br><span style='font-family: Arial, sans-serif;'>WASHINGTON, DC, 20007</span><br><span style='font-family: Arial, sans-serif;'><b>Type:</b> SINGLE_FAMILY</span><br><span style='font-family: Arial, sans-serif;'><b>Beds:</b> 6.0</span><br><span style='font-family: Arial, sans-serif;'><b>Baths:</b> 4.5</span><br><span style='font-family: Arial, sans-serif;'><b>Sq Ft:</b> 4,371</span><br><span style='font-family: Arial, sans-serif;'><b>Year Built:</b> 1925</span><br><span style='font-family: Arial, sans-serif;'><b>Price:</b> $3,850,000</span>",
           38.925283,
           -77.072335
          ],
          [
           "<b style='font-family: Arial, sans-serif; font-size: 14px;'>3121 APPLETON ST NW</b><br><span style='font-family: Arial, sans-serif;'>WASHINGTON, DC, 20008</span><br><span style='font-family: Arial, sans-serif;'><b>Type:</b> SINGLE_FAMILY</span><br><span style='font-family: Arial, sans-serif;'><b>Beds:</b> 6.0</span><br><span style='font-family: Arial, sans-serif;'><b>Baths:</b> 5.0</span><br><span style='font-family: Arial, sans-serif;'><b>Sq Ft:</b> 5,325</span><br><span style='font-family: Arial, sans-serif;'><b>Year Built:</b> 1965</span><br><span style='font-family: Arial, sans-serif;'><b>Price:</b> $2,649,000</span>",
           38.949132,
           -77.063714
          ],
          [
           "<b style='font-family: Arial, sans-serif; font-size: 14px;'>1135 46TH ST SE</b><br><span style='font-family: Arial, sans-serif;'>WASHINGTON, DC, 20019</span><br><span style='font-family: Arial, sans-serif;'><b>Type:</b> SINGLE_FAMILY</span><br><span style='font-family: Arial, sans-serif;'><b>Beds:</b> 3.0</span><br><span style='font-family: Arial, sans-serif;'><b>Baths:</b> 1.0</span><br><span style='font-family: Arial, sans-serif;'><b>Sq Ft:</b> 1,160</span><br><span style='font-family: Arial, sans-serif;'><b>Year Built:</b> 1938</span><br><span style='font-family: Arial, sans-serif;'><b>Price:</b> $425,000</span>",
           38.877374,
           -76.93476
          ],
          [
           "<b style='font-family: Arial, sans-serif; font-size: 14px;'>4267 BROOKS ST NE</b><br><span style='font-family: Arial, sans-serif;'>WASHINGTON, DC, 20019</span><br><span style='font-family: Arial, sans-serif;'><b>Type:</b> SINGLE_FAMILY</span><br><span style='font-family: Arial, sans-serif;'><b>Beds:</b> 4.0</span><br><span style='font-family: Arial, sans-serif;'><b>Baths:</b> 2.0</span><br><span style='font-family: Arial, sans-serif;'><b>Sq Ft:</b> 976</span><br><span style='font-family: Arial, sans-serif;'><b>Year Built:</b> 1922</span><br><span style='font-family: Arial, sans-serif;'><b>Price:</b> $315,250</span>",
           38.893293,
           -76.940209
          ],
          [
           "<b style='font-family: Arial, sans-serif; font-size: 14px;'>2735 MACOMB ST NW</b><br><span style='font-family: Arial, sans-serif;'>WASHINGTON, DC, 20008</span><br><span style='font-family: Arial, sans-serif;'><b>Type:</b> SINGLE_FAMILY</span><br><span style='font-family: Arial, sans-serif;'><b>Beds:</b> 4.0</span><br><span style='font-family: Arial, sans-serif;'><b>Baths:</b> 3.5</span><br><span style='font-family: Arial, sans-serif;'><b>Sq Ft:</b> 2,426</span><br><span style='font-family: Arial, sans-serif;'><b>Year Built:</b> 1917</span><br><span style='font-family: Arial, sans-serif;'><b>Price:</b> $2,450,000</span>",
           38.933716,
           -77.055559
          ],
          [
           "<b style='font-family: Arial, sans-serif; font-size: 14px;'>1416 HOLLY ST NW</b><br><span style='font-family: Arial, sans-serif;'>WASHINGTON, DC, 20012</span><br><span style='font-family: Arial, sans-serif;'><b>Type:</b> SINGLE_FAMILY</span><br><span style='font-family: Arial, sans-serif;'><b>Beds:</b> 4.0</span><br><span style='font-family: Arial, sans-serif;'><b>Baths:</b> 2.5</span><br><span style='font-family: Arial, sans-serif;'><b>Sq Ft:</b> 2,172</span><br><span style='font-family: Arial, sans-serif;'><b>Year Built:</b> 1931</span><br><span style='font-family: Arial, sans-serif;'><b>Price:</b> $1,000,000</span>",
           38.98011,
           -77.034338
          ],
          [
           "<b style='font-family: Arial, sans-serif; font-size: 14px;'>2506 I ST NW</b><br><span style='font-family: Arial, sans-serif;'>WASHINGTON, DC, 20037</span><br><span style='font-family: Arial, sans-serif;'><b>Type:</b> SINGLE_FAMILY</span><br><span style='font-family: Arial, sans-serif;'><b>Beds:</b> 3.0</span><br><span style='font-family: Arial, sans-serif;'><b>Baths:</b> 3.5</span><br><span style='font-family: Arial, sans-serif;'><b>Sq Ft:</b> 1,970</span><br><span style='font-family: Arial, sans-serif;'><b>Year Built:</b> 1920</span><br><span style='font-family: Arial, sans-serif;'><b>Price:</b> $1,695,000</span>",
           38.90048,
           -77.053686
          ],
          [
           "<b style='font-family: Arial, sans-serif; font-size: 14px;'>2321 HIGH ST SE</b><br><span style='font-family: Arial, sans-serif;'>WASHINGTON, DC, 20020</span><br><span style='font-family: Arial, sans-serif;'><b>Type:</b> SINGLE_FAMILY</span><br><span style='font-family: Arial, sans-serif;'><b>Beds:</b> 4.0</span><br><span style='font-family: Arial, sans-serif;'><b>Baths:</b> 3.0</span><br><span style='font-family: Arial, sans-serif;'><b>Sq Ft:</b> 1,421</span><br><span style='font-family: Arial, sans-serif;'><b>Year Built:</b> 1905</span><br><span style='font-family: Arial, sans-serif;'><b>Price:</b> $550,000</span>",
           38.862127,
           -76.987346
          ],
          [
           "<b style='font-family: Arial, sans-serif; font-size: 14px;'>2913 UNIVERSITY TER NW</b><br><span style='font-family: Arial, sans-serif;'>WASHINGTON, DC, 20016</span><br><span style='font-family: Arial, sans-serif;'><b>Type:</b> SINGLE_FAMILY</span><br><span style='font-family: Arial, sans-serif;'><b>Beds:</b> 6.0</span><br><span style='font-family: Arial, sans-serif;'><b>Baths:</b> 5.5</span><br><span style='font-family: Arial, sans-serif;'><b>Sq Ft:</b> 7,184</span><br><span style='font-family: Arial, sans-serif;'><b>Year Built:</b> 2006</span><br><span style='font-family: Arial, sans-serif;'><b>Price:</b> $5,495,000</span>",
           38.928177,
           -77.096891
          ],
          [
           "<b style='font-family: Arial, sans-serif; font-size: 14px;'>3901 NEW HAMPSHIRE AVE NW</b><br><span style='font-family: Arial, sans-serif;'>WASHINGTON, DC, 20011</span><br><span style='font-family: Arial, sans-serif;'><b>Type:</b> SINGLE_FAMILY</span><br><span style='font-family: Arial, sans-serif;'><b>Beds:</b> 6.0</span><br><span style='font-family: Arial, sans-serif;'><b>Baths:</b> 4.5</span><br><span style='font-family: Arial, sans-serif;'><b>Sq Ft:</b> 3,487</span><br><span style='font-family: Arial, sans-serif;'><b>Year Built:</b> 2024</span><br><span style='font-family: Arial, sans-serif;'><b>Price:</b> $1,699,000</span>",
           38.938961,
           -77.022054
          ],
          [
           "<b style='font-family: Arial, sans-serif; font-size: 14px;'>4894 MACARTHUR BLVD NW</b><br><span style='font-family: Arial, sans-serif;'>WASHINGTON, DC, 20007</span><br><span style='font-family: Arial, sans-serif;'><b>Type:</b> SINGLE_FAMILY</span><br><span style='font-family: Arial, sans-serif;'><b>Beds:</b> 5.0</span><br><span style='font-family: Arial, sans-serif;'><b>Baths:</b> 5.5</span><br><span style='font-family: Arial, sans-serif;'><b>Sq Ft:</b> 5,273</span><br><span style='font-family: Arial, sans-serif;'><b>Year Built:</b> 2024</span><br><span style='font-family: Arial, sans-serif;'><b>Price:</b> $3,095,000</span>",
           38.9186203,
           -77.0988832
          ],
          [
           "<b style='font-family: Arial, sans-serif; font-size: 14px;'>1530 15TH ST NW</b><br><span style='font-family: Arial, sans-serif;'>WASHINGTON, DC, 20005</span><br><span style='font-family: Arial, sans-serif;'><b>Type:</b> SINGLE_FAMILY</span><br><span style='font-family: Arial, sans-serif;'><b>Beds:</b> 4.0</span><br><span style='font-family: Arial, sans-serif;'><b>Baths:</b> 3.5</span><br><span style='font-family: Arial, sans-serif;'><b>Sq Ft:</b> 3,265</span><br><span style='font-family: Arial, sans-serif;'><b>Price:</b> $2,200,000</span>",
           38.9106156,
           -77.034875
          ],
          [
           "<b style='font-family: Arial, sans-serif; font-size: 14px;'>3517 RODMAN ST NW</b><br><span style='font-family: Arial, sans-serif;'>WASHINGTON, DC, 20008</span><br><span style='font-family: Arial, sans-serif;'><b>Type:</b> SINGLE_FAMILY</span><br><span style='font-family: Arial, sans-serif;'><b>Beds:</b> 6.0</span><br><span style='font-family: Arial, sans-serif;'><b>Baths:</b> 4.5</span><br><span style='font-family: Arial, sans-serif;'><b>Sq Ft:</b> 3,014</span><br><span style='font-family: Arial, sans-serif;'><b>Year Built:</b> 1931</span><br><span style='font-family: Arial, sans-serif;'><b>Price:</b> $3,900,000</span>",
           38.939296,
           -77.069875
          ],
          [
           "<b style='font-family: Arial, sans-serif; font-size: 14px;'>2804 MYRTLE AVE NE</b><br><span style='font-family: Arial, sans-serif;'>WASHINGTON, DC, 20018</span><br><span style='font-family: Arial, sans-serif;'><b>Type:</b> SINGLE_FAMILY</span><br><span style='font-family: Arial, sans-serif;'><b>Beds:</b> 4.0</span><br><span style='font-family: Arial, sans-serif;'><b>Baths:</b> 3.0</span><br><span style='font-family: Arial, sans-serif;'><b>Sq Ft:</b> 2,356</span><br><span style='font-family: Arial, sans-serif;'><b>Year Built:</b> 1914</span><br><span style='font-family: Arial, sans-serif;'><b>Price:</b> $799,000</span>",
           38.931389,
           -76.967026
          ],
          [
           "<b style='font-family: Arial, sans-serif; font-size: 14px;'>3703 LEGATION ST NW</b><br><span style='font-family: Arial, sans-serif;'>WASHINGTON, DC, 20015</span><br><span style='font-family: Arial, sans-serif;'><b>Type:</b> SINGLE_FAMILY</span><br><span style='font-family: Arial, sans-serif;'><b>Beds:</b> 4.0</span><br><span style='font-family: Arial, sans-serif;'><b>Baths:</b> 3.0</span><br><span style='font-family: Arial, sans-serif;'><b>Sq Ft:</b> 2,232</span><br><span style='font-family: Arial, sans-serif;'><b>Year Built:</b> 1927</span><br><span style='font-family: Arial, sans-serif;'><b>Price:</b> $1,450,000</span>",
           38.962295,
           -77.071609
          ],
          [
           "<b style='font-family: Arial, sans-serif; font-size: 14px;'>5115 42ND ST NW</b><br><span style='font-family: Arial, sans-serif;'>WASHINGTON, DC, 20016</span><br><span style='font-family: Arial, sans-serif;'><b>Type:</b> SINGLE_FAMILY</span><br><span style='font-family: Arial, sans-serif;'><b>Beds:</b> 6.0</span><br><span style='font-family: Arial, sans-serif;'><b>Baths:</b> 5.5</span><br><span style='font-family: Arial, sans-serif;'><b>Sq Ft:</b> 4,700</span><br><span style='font-family: Arial, sans-serif;'><b>Year Built:</b> 1908</span><br><span style='font-family: Arial, sans-serif;'><b>Price:</b> $2,975,000</span>",
           38.956763,
           -77.081724
          ],
          [
           "<b style='font-family: Arial, sans-serif; font-size: 14px;'>1427 JACKSON ST NE</b><br><span style='font-family: Arial, sans-serif;'>WASHINGTON, DC, 20017</span><br><span style='font-family: Arial, sans-serif;'><b>Type:</b> SINGLE_FAMILY</span><br><span style='font-family: Arial, sans-serif;'><b>Beds:</b> 4.0</span><br><span style='font-family: Arial, sans-serif;'><b>Baths:</b> 4.0</span><br><span style='font-family: Arial, sans-serif;'><b>Sq Ft:</b> 1,450</span><br><span style='font-family: Arial, sans-serif;'><b>Year Built:</b> 1925</span><br><span style='font-family: Arial, sans-serif;'><b>Price:</b> $1,150,000</span>",
           38.929586,
           -76.985014
          ],
          [
           "<b style='font-family: Arial, sans-serif; font-size: 14px;'>4853 ROCKWOOD PKWY NW</b><br><span style='font-family: Arial, sans-serif;'>WASHINGTON, DC, 20016</span><br><span style='font-family: Arial, sans-serif;'><b>Type:</b> SINGLE_FAMILY</span><br><span style='font-family: Arial, sans-serif;'><b>Beds:</b> 5.0</span><br><span style='font-family: Arial, sans-serif;'><b>Baths:</b> 5.5</span><br><span style='font-family: Arial, sans-serif;'><b>Sq Ft:</b> 5,936</span><br><span style='font-family: Arial, sans-serif;'><b>Year Built:</b> 1930</span><br><span style='font-family: Arial, sans-serif;'><b>Price:</b> $3,650,000</span>",
           38.933707,
           -77.0962
          ],
          [
           "<b style='font-family: Arial, sans-serif; font-size: 14px;'>4520 YUMA ST NW</b><br><span style='font-family: Arial, sans-serif;'>WASHINGTON, DC, 20016</span><br><span style='font-family: Arial, sans-serif;'><b>Type:</b> SINGLE_FAMILY</span><br><span style='font-family: Arial, sans-serif;'><b>Beds:</b> 5.0</span><br><span style='font-family: Arial, sans-serif;'><b>Baths:</b> 5.0</span><br><span style='font-family: Arial, sans-serif;'><b>Sq Ft:</b> 4,765</span><br><span style='font-family: Arial, sans-serif;'><b>Year Built:</b> 1963</span><br><span style='font-family: Arial, sans-serif;'><b>Price:</b> $1,950,000</span>",
           38.946056,
           -77.089984
          ],
          [
           "<b style='font-family: Arial, sans-serif; font-size: 14px;'>3030 CHAIN BRIDGE RD NW</b><br><span style='font-family: Arial, sans-serif;'>WASHINGTON, DC, 20016</span><br><span style='font-family: Arial, sans-serif;'><b>Type:</b> SINGLE_FAMILY</span><br><span style='font-family: Arial, sans-serif;'><b>Beds:</b> 8.0</span><br><span style='font-family: Arial, sans-serif;'><b>Baths:</b> 11.5</span><br><span style='font-family: Arial, sans-serif;'><b>Sq Ft:</b> 12,911</span><br><span style='font-family: Arial, sans-serif;'><b>Year Built:</b> 2016</span><br><span style='font-family: Arial, sans-serif;'><b>Price:</b> $23,500,000</span>",
           38.931288,
           -77.095829
          ],
          [
           "<b style='font-family: Arial, sans-serif; font-size: 14px;'>4510 BROOKS ST NE</b><br><span style='font-family: Arial, sans-serif;'>WASHINGTON, DC, 20019</span><br><span style='font-family: Arial, sans-serif;'><b>Type:</b> SINGLE_FAMILY</span><br><span style='font-family: Arial, sans-serif;'><b>Beds:</b> 0.0</span><br><span style='font-family: Arial, sans-serif;'><b>Baths:</b> 2.0</span><br><span style='font-family: Arial, sans-serif;'><b>Sq Ft:</b> 3,400</span><br><span style='font-family: Arial, sans-serif;'><b>Year Built:</b> 1967</span><br><span style='font-family: Arial, sans-serif;'><b>Price:</b> $699,900</span>",
           38.893348,
           -76.936862
          ],
          [
           "<b style='font-family: Arial, sans-serif; font-size: 14px;'>3300 NEBRASKA AVE NW</b><br><span style='font-family: Arial, sans-serif;'>WASHINGTON, DC, 20016</span><br><span style='font-family: Arial, sans-serif;'><b>Type:</b> SINGLE_FAMILY</span><br><span style='font-family: Arial, sans-serif;'><b>Beds:</b> 4.0</span><br><span style='font-family: Arial, sans-serif;'><b>Baths:</b> 8.0</span><br><span style='font-family: Arial, sans-serif;'><b>Sq Ft:</b> 7,185</span><br><span style='font-family: Arial, sans-serif;'><b>Year Built:</b> 1950</span><br><span style='font-family: Arial, sans-serif;'><b>Price:</b> $6,495,000</span>",
           38.934068,
           -77.090379
          ],
          [
           "<b style='font-family: Arial, sans-serif; font-size: 14px;'>716 GRESHAM PL NW</b><br><span style='font-family: Arial, sans-serif;'>WASHINGTON, DC, 20001</span><br><span style='font-family: Arial, sans-serif;'><b>Type:</b> SINGLE_FAMILY</span><br><span style='font-family: Arial, sans-serif;'><b>Beds:</b> 4.0</span><br><span style='font-family: Arial, sans-serif;'><b>Baths:</b> 4.0</span><br><span style='font-family: Arial, sans-serif;'><b>Sq Ft:</b> 2,076</span><br><span style='font-family: Arial, sans-serif;'><b>Year Built:</b> 1910</span><br><span style='font-family: Arial, sans-serif;'><b>Price:</b> $929,000</span>",
           38.926442,
           -77.023304
          ],
          [
           "<b style='font-family: Arial, sans-serif; font-size: 14px;'>4850 EASTERN AVE NE</b><br><span style='font-family: Arial, sans-serif;'>WASHINGTON, DC, 20017</span><br><span style='font-family: Arial, sans-serif;'><b>Type:</b> SINGLE_FAMILY</span><br><span style='font-family: Arial, sans-serif;'><b>Beds:</b> 3.0</span><br><span style='font-family: Arial, sans-serif;'><b>Baths:</b> 3.5</span><br><span style='font-family: Arial, sans-serif;'><b>Sq Ft:</b> 2,174</span><br><span style='font-family: Arial, sans-serif;'><b>Year Built:</b> 1950</span><br><span style='font-family: Arial, sans-serif;'><b>Price:</b> $850,000</span>",
           38.949558,
           -76.982798
          ],
          [
           "<b style='font-family: Arial, sans-serif; font-size: 14px;'>1400 FRANKLIN ST NE</b><br><span style='font-family: Arial, sans-serif;'>WASHINGTON, DC, 20018</span><br><span style='font-family: Arial, sans-serif;'><b>Type:</b> SINGLE_FAMILY</span><br><span style='font-family: Arial, sans-serif;'><b>Beds:</b> 5.0</span><br><span style='font-family: Arial, sans-serif;'><b>Baths:</b> 4.5</span><br><span style='font-family: Arial, sans-serif;'><b>Sq Ft:</b> 3,523</span><br><span style='font-family: Arial, sans-serif;'><b>Year Built:</b> 1933</span><br><span style='font-family: Arial, sans-serif;'><b>Price:</b> $1,189,000</span>",
           38.926143,
           -76.985533
          ],
          [
           "<b style='font-family: Arial, sans-serif; font-size: 14px;'>5338 JAY ST NE</b><br><span style='font-family: Arial, sans-serif;'>WASHINGTON, DC, 20019</span><br><span style='font-family: Arial, sans-serif;'><b>Type:</b> SINGLE_FAMILY</span><br><span style='font-family: Arial, sans-serif;'><b>Beds:</b> 3.0</span><br><span style='font-family: Arial, sans-serif;'><b>Baths:</b> 1.5</span><br><span style='font-family: Arial, sans-serif;'><b>Sq Ft:</b> 1,054</span><br><span style='font-family: Arial, sans-serif;'><b>Year Built:</b> 1970</span><br><span style='font-family: Arial, sans-serif;'><b>Price:</b> $399,750</span>",
           38.9013775,
           -76.9226333
          ],
          [
           "<b style='font-family: Arial, sans-serif; font-size: 14px;'>4701 LINNEAN AVE NW</b><br><span style='font-family: Arial, sans-serif;'>WASHINGTON, DC, 20008</span><br><span style='font-family: Arial, sans-serif;'><b>Type:</b> SINGLE_FAMILY</span><br><span style='font-family: Arial, sans-serif;'><b>Beds:</b> 8.0</span><br><span style='font-family: Arial, sans-serif;'><b>Baths:</b> 8.0</span><br><span style='font-family: Arial, sans-serif;'><b>Sq Ft:</b> 9,042</span><br><span style='font-family: Arial, sans-serif;'><b>Year Built:</b> 1938</span><br><span style='font-family: Arial, sans-serif;'><b>Price:</b> $7,950,000</span>",
           38.951208,
           -77.05803
          ],
          [
           "<b style='font-family: Arial, sans-serif; font-size: 14px;'>3121 SOUTH DAKOTA AVE NE</b><br><span style='font-family: Arial, sans-serif;'>WASHINGTON, DC, 20018</span><br><span style='font-family: Arial, sans-serif;'><b>Type:</b> SINGLE_FAMILY</span><br><span style='font-family: Arial, sans-serif;'><b>Beds:</b> 3.0</span><br><span style='font-family: Arial, sans-serif;'><b>Baths:</b> 1.0</span><br><span style='font-family: Arial, sans-serif;'><b>Sq Ft:</b> 1,592</span><br><span style='font-family: Arial, sans-serif;'><b>Year Built:</b> 1925</span><br><span style='font-family: Arial, sans-serif;'><b>Price:</b> $475,000</span>",
           38.931043,
           -76.970854
          ],
          [
           "<b style='font-family: Arial, sans-serif; font-size: 14px;'>3405 CARPENTER ST SE</b><br><span style='font-family: Arial, sans-serif;'>WASHINGTON, DC, 20020</span><br><span style='font-family: Arial, sans-serif;'><b>Type:</b> SINGLE_FAMILY</span><br><span style='font-family: Arial, sans-serif;'><b>Beds:</b> 3.0</span><br><span style='font-family: Arial, sans-serif;'><b>Baths:</b> 2.5</span><br><span style='font-family: Arial, sans-serif;'><b>Sq Ft:</b> 2,530</span><br><span style='font-family: Arial, sans-serif;'><b>Year Built:</b> 1938</span><br><span style='font-family: Arial, sans-serif;'><b>Price:</b> $750,000</span>",
           38.870104,
           -76.956704
          ],
          [
           "<b style='font-family: Arial, sans-serif; font-size: 14px;'>2316 CHESTER ST SE</b><br><span style='font-family: Arial, sans-serif;'>WASHINGTON, DC, 20020</span><br><span style='font-family: Arial, sans-serif;'><b>Type:</b> SINGLE_FAMILY</span><br><span style='font-family: Arial, sans-serif;'><b>Beds:</b> 4.0</span><br><span style='font-family: Arial, sans-serif;'><b>Baths:</b> 2.5</span><br><span style='font-family: Arial, sans-serif;'><b>Sq Ft:</b> 2,428</span><br><span style='font-family: Arial, sans-serif;'><b>Year Built:</b> 1908</span><br><span style='font-family: Arial, sans-serif;'><b>Price:</b> $589,000</span>",
           38.862335,
           -76.987745
          ],
          [
           "<b style='font-family: Arial, sans-serif; font-size: 14px;'>5056 MACOMB ST NW</b><br><span style='font-family: Arial, sans-serif;'>WASHINGTON, DC, 20016</span><br><span style='font-family: Arial, sans-serif;'><b>Type:</b> SINGLE_FAMILY</span><br><span style='font-family: Arial, sans-serif;'><b>Beds:</b> 6.0</span><br><span style='font-family: Arial, sans-serif;'><b>Baths:</b> 4.5</span><br><span style='font-family: Arial, sans-serif;'><b>Sq Ft:</b> 6,164</span><br><span style='font-family: Arial, sans-serif;'><b>Year Built:</b> 1955</span><br><span style='font-family: Arial, sans-serif;'><b>Price:</b> $4,150,000</span>",
           38.933567,
           -77.103438
          ],
          [
           "<b style='font-family: Arial, sans-serif; font-size: 14px;'>2804 13TH ST NE</b><br><span style='font-family: Arial, sans-serif;'>WASHINGTON, DC, 20017</span><br><span style='font-family: Arial, sans-serif;'><b>Type:</b> SINGLE_FAMILY</span><br><span style='font-family: Arial, sans-serif;'><b>Beds:</b> 6.0</span><br><span style='font-family: Arial, sans-serif;'><b>Baths:</b> 6.0</span><br><span style='font-family: Arial, sans-serif;'><b>Sq Ft:</b> 5,034</span><br><span style='font-family: Arial, sans-serif;'><b>Year Built:</b> 2011</span><br><span style='font-family: Arial, sans-serif;'><b>Price:</b> $1,350,000</span>",
           38.926197,
           -76.988493
          ],
          [
           "<b style='font-family: Arial, sans-serif; font-size: 14px;'>1511 FREEDOM WAY SE</b><br><span style='font-family: Arial, sans-serif;'>WASHINGTON, DC, 20003</span><br><span style='font-family: Arial, sans-serif;'><b>Type:</b> SINGLE_FAMILY</span><br><span style='font-family: Arial, sans-serif;'><b>Beds:</b> 3.0</span><br><span style='font-family: Arial, sans-serif;'><b>Baths:</b> 3.5</span><br><span style='font-family: Arial, sans-serif;'><b>Sq Ft:</b> 1,512</span><br><span style='font-family: Arial, sans-serif;'><b>Year Built:</b> 1979</span><br><span style='font-family: Arial, sans-serif;'><b>Price:</b> $899,000</span>",
           38.879695,
           -76.982698
          ],
          [
           "<b style='font-family: Arial, sans-serif; font-size: 14px;'>4269 MEADE ST NE</b><br><span style='font-family: Arial, sans-serif;'>WASHINGTON, DC, 20019</span><br><span style='font-family: Arial, sans-serif;'><b>Type:</b> SINGLE_FAMILY</span><br><span style='font-family: Arial, sans-serif;'><b>Beds:</b> 5.0</span><br><span style='font-family: Arial, sans-serif;'><b>Baths:</b> 5.5</span><br><span style='font-family: Arial, sans-serif;'><b>Sq Ft:</b> 3,032</span><br><span style='font-family: Arial, sans-serif;'><b>Year Built:</b> 2024</span><br><span style='font-family: Arial, sans-serif;'><b>Price:</b> $598,000</span>",
           38.905481,
           -76.940681
          ],
          [
           "<b style='font-family: Arial, sans-serif; font-size: 14px;'>2934 ELLICOTT TER NW</b><br><span style='font-family: Arial, sans-serif;'>WASHINGTON, DC, 20008</span><br><span style='font-family: Arial, sans-serif;'><b>Type:</b> SINGLE_FAMILY</span><br><span style='font-family: Arial, sans-serif;'><b>Beds:</b> 8.0</span><br><span style='font-family: Arial, sans-serif;'><b>Baths:</b> 7.5</span><br><span style='font-family: Arial, sans-serif;'><b>Sq Ft:</b> 9,539</span><br><span style='font-family: Arial, sans-serif;'><b>Year Built:</b> 2025</span><br><span style='font-family: Arial, sans-serif;'><b>Price:</b> $6,995,000</span>",
           38.953028,
           -77.060438
          ],
          [
           "<b style='font-family: Arial, sans-serif; font-size: 14px;'>4938 EADS PL NE</b><br><span style='font-family: Arial, sans-serif;'>WASHINGTON, DC, 20019</span><br><span style='font-family: Arial, sans-serif;'><b>Type:</b> SINGLE_FAMILY</span><br><span style='font-family: Arial, sans-serif;'><b>Beds:</b> 5.0</span><br><span style='font-family: Arial, sans-serif;'><b>Baths:</b> 3.5</span><br><span style='font-family: Arial, sans-serif;'><b>Sq Ft:</b> 2,386</span><br><span style='font-family: Arial, sans-serif;'><b>Year Built:</b> 2025</span><br><span style='font-family: Arial, sans-serif;'><b>Price:</b> $678,500</span>",
           38.895814,
           -76.93116
          ],
          [
           "<b style='font-family: Arial, sans-serif; font-size: 14px;'>1017 48TH ST NE</b><br><span style='font-family: Arial, sans-serif;'>WASHINGTON, DC, 20019</span><br><span style='font-family: Arial, sans-serif;'><b>Type:</b> SINGLE_FAMILY</span><br><span style='font-family: Arial, sans-serif;'><b>Beds:</b> 4.0</span><br><span style='font-family: Arial, sans-serif;'><b>Baths:</b> 3.5</span><br><span style='font-family: Arial, sans-serif;'><b>Sq Ft:</b> 2,100</span><br><span style='font-family: Arial, sans-serif;'><b>Year Built:</b> 2012</span><br><span style='font-family: Arial, sans-serif;'><b>Price:</b> $545,000</span>",
           38.903579,
           -76.933451
          ],
          [
           "<b style='font-family: Arial, sans-serif; font-size: 14px;'>4522 ALBEMARLE ST NW</b><br><span style='font-family: Arial, sans-serif;'>WASHINGTON, DC, 20016</span><br><span style='font-family: Arial, sans-serif;'><b>Type:</b> SINGLE_FAMILY</span><br><span style='font-family: Arial, sans-serif;'><b>Beds:</b> 3.0</span><br><span style='font-family: Arial, sans-serif;'><b>Baths:</b> 2.0</span><br><span style='font-family: Arial, sans-serif;'><b>Sq Ft:</b> 2,365</span><br><span style='font-family: Arial, sans-serif;'><b>Year Built:</b> 1952</span><br><span style='font-family: Arial, sans-serif;'><b>Price:</b> $1,388,000</span>",
           38.947651,
           -77.089544
          ],
          [
           "<b style='font-family: Arial, sans-serif; font-size: 14px;'>828 49TH ST NE</b><br><span style='font-family: Arial, sans-serif;'>WASHINGTON, DC, 20019</span><br><span style='font-family: Arial, sans-serif;'><b>Type:</b> SINGLE_FAMILY</span><br><span style='font-family: Arial, sans-serif;'><b>Beds:</b> 5.0</span><br><span style='font-family: Arial, sans-serif;'><b>Baths:</b> 3.5</span><br><span style='font-family: Arial, sans-serif;'><b>Sq Ft:</b> 3,700</span><br><span style='font-family: Arial, sans-serif;'><b>Year Built:</b> 1924</span><br><span style='font-family: Arial, sans-serif;'><b>Price:</b> $625,000</span>",
           38.900747,
           -76.932015
          ],
          [
           "<b style='font-family: Arial, sans-serif; font-size: 14px;'>2906 25TH ST NE</b><br><span style='font-family: Arial, sans-serif;'>WASHINGTON, DC, 20018</span><br><span style='font-family: Arial, sans-serif;'><b>Type:</b> SINGLE_FAMILY</span><br><span style='font-family: Arial, sans-serif;'><b>Beds:</b> 5.0</span><br><span style='font-family: Arial, sans-serif;'><b>Baths:</b> 3.0</span><br><span style='font-family: Arial, sans-serif;'><b>Sq Ft:</b> 2,200</span><br><span style='font-family: Arial, sans-serif;'><b>Year Built:</b> 1917</span><br><span style='font-family: Arial, sans-serif;'><b>Price:</b> $733,000</span>",
           38.9272484,
           -76.9713875
          ],
          [
           "<b style='font-family: Arial, sans-serif; font-size: 14px;'>651 CONSTITUTION AVE NE # 1-4</b><br><span style='font-family: Arial, sans-serif;'>WASHINGTON, DC, 20002</span><br><span style='font-family: Arial, sans-serif;'><b>Type:</b> SINGLE_FAMILY</span><br><span style='font-family: Arial, sans-serif;'><b>Beds:</b> 5.0</span><br><span style='font-family: Arial, sans-serif;'><b>Baths:</b> 4.0</span><br><span style='font-family: Arial, sans-serif;'><b>Sq Ft:</b> 3,228</span><br><span style='font-family: Arial, sans-serif;'><b>Price:</b> $1,651,651</span>",
           38.89182,
           -76.99664
          ],
          [
           "<b style='font-family: Arial, sans-serif; font-size: 14px;'>4016 21ST ST NE</b><br><span style='font-family: Arial, sans-serif;'>WASHINGTON, DC, 20018</span><br><span style='font-family: Arial, sans-serif;'><b>Type:</b> SINGLE_FAMILY</span><br><span style='font-family: Arial, sans-serif;'><b>Beds:</b> 3.0</span><br><span style='font-family: Arial, sans-serif;'><b>Baths:</b> 2.0</span><br><span style='font-family: Arial, sans-serif;'><b>Sq Ft:</b> 1,942</span><br><span style='font-family: Arial, sans-serif;'><b>Year Built:</b> 1931</span><br><span style='font-family: Arial, sans-serif;'><b>Price:</b> $849,900</span>",
           38.939367,
           -76.975481
          ],
          [
           "<b style='font-family: Arial, sans-serif; font-size: 14px;'>4711 FOXHALL CRES NW</b><br><span style='font-family: Arial, sans-serif;'>WASHINGTON, DC, 20007</span><br><span style='font-family: Arial, sans-serif;'><b>Type:</b> SINGLE_FAMILY</span><br><span style='font-family: Arial, sans-serif;'><b>Beds:</b> 5.0</span><br><span style='font-family: Arial, sans-serif;'><b>Baths:</b> 6.5</span><br><span style='font-family: Arial, sans-serif;'><b>Sq Ft:</b> 7,040</span><br><span style='font-family: Arial, sans-serif;'><b>Year Built:</b> 1983</span><br><span style='font-family: Arial, sans-serif;'><b>Price:</b> $2,575,000</span>",
           38.921816,
           -77.093731
          ],
          [
           "<b style='font-family: Arial, sans-serif; font-size: 14px;'>1117 FERN ST NW</b><br><span style='font-family: Arial, sans-serif;'>WASHINGTON, DC, 20012</span><br><span style='font-family: Arial, sans-serif;'><b>Type:</b> SINGLE_FAMILY</span><br><span style='font-family: Arial, sans-serif;'><b>Beds:</b> 4.0</span><br><span style='font-family: Arial, sans-serif;'><b>Baths:</b> 4.5</span><br><span style='font-family: Arial, sans-serif;'><b>Sq Ft:</b> 2,820</span><br><span style='font-family: Arial, sans-serif;'><b>Year Built:</b> 1927</span><br><span style='font-family: Arial, sans-serif;'><b>Price:</b> $1,299,000</span>",
           38.978243,
           -77.027189
          ],
          [
           "<b style='font-family: Arial, sans-serif; font-size: 14px;'>5305 CUSHING PL NW</b><br><span style='font-family: Arial, sans-serif;'>WASHINGTON, DC, 20016</span><br><span style='font-family: Arial, sans-serif;'><b>Type:</b> SINGLE_FAMILY</span><br><span style='font-family: Arial, sans-serif;'><b>Beds:</b> 5.0</span><br><span style='font-family: Arial, sans-serif;'><b>Baths:</b> 4.5</span><br><span style='font-family: Arial, sans-serif;'><b>Sq Ft:</b> 4,400</span><br><span style='font-family: Arial, sans-serif;'><b>Year Built:</b> 2000</span><br><span style='font-family: Arial, sans-serif;'><b>Price:</b> $2,285,000</span>",
           38.923502,
           -77.100953
          ],
          [
           "<b style='font-family: Arial, sans-serif; font-size: 14px;'>6021 NORTH DAKOTA AVE NW</b><br><span style='font-family: Arial, sans-serif;'>WASHINGTON, DC, 20011</span><br><span style='font-family: Arial, sans-serif;'><b>Type:</b> SINGLE_FAMILY</span><br><span style='font-family: Arial, sans-serif;'><b>Beds:</b> 3.0</span><br><span style='font-family: Arial, sans-serif;'><b>Baths:</b> 2.0</span><br><span style='font-family: Arial, sans-serif;'><b>Sq Ft:</b> 1,737</span><br><span style='font-family: Arial, sans-serif;'><b>Year Built:</b> 1933</span>",
           38.96354,
           -77.011934
          ],
          [
           "<b style='font-family: Arial, sans-serif; font-size: 14px;'>1112 51ST PL NE</b><br><span style='font-family: Arial, sans-serif;'>WASHINGTON, DC, 20019</span><br><span style='font-family: Arial, sans-serif;'><b>Type:</b> SINGLE_FAMILY</span><br><span style='font-family: Arial, sans-serif;'><b>Beds:</b> 4.0</span><br><span style='font-family: Arial, sans-serif;'><b>Baths:</b> 3.0</span><br><span style='font-family: Arial, sans-serif;'><b>Sq Ft:</b> 1,829</span><br><span style='font-family: Arial, sans-serif;'><b>Year Built:</b> 1966</span><br><span style='font-family: Arial, sans-serif;'><b>Price:</b> $530,000</span>",
           38.90507,
           -76.927782
          ],
          [
           "<b style='font-family: Arial, sans-serif; font-size: 14px;'>4704 44TH ST NW</b><br><span style='font-family: Arial, sans-serif;'>WASHINGTON, DC, 20016</span><br><span style='font-family: Arial, sans-serif;'><b>Type:</b> SINGLE_FAMILY</span><br><span style='font-family: Arial, sans-serif;'><b>Beds:</b> 4.0</span><br><span style='font-family: Arial, sans-serif;'><b>Baths:</b> 3.5</span><br><span style='font-family: Arial, sans-serif;'><b>Sq Ft:</b> 3,024</span><br><span style='font-family: Arial, sans-serif;'><b>Year Built:</b> 1939</span><br><span style='font-family: Arial, sans-serif;'><b>Price:</b> $1,795,000</span>",
           38.95134,
           -77.08656
          ],
          [
           "<b style='font-family: Arial, sans-serif; font-size: 14px;'>6838 6TH ST NW</b><br><span style='font-family: Arial, sans-serif;'>WASHINGTON, DC, 20012</span><br><span style='font-family: Arial, sans-serif;'><b>Type:</b> SINGLE_FAMILY</span><br><span style='font-family: Arial, sans-serif;'><b>Beds:</b> 5.0</span><br><span style='font-family: Arial, sans-serif;'><b>Baths:</b> 3.5</span><br><span style='font-family: Arial, sans-serif;'><b>Sq Ft:</b> 2,885</span><br><span style='font-family: Arial, sans-serif;'><b>Year Built:</b> 1912</span><br><span style='font-family: Arial, sans-serif;'><b>Price:</b> $1,300,000</span>",
           38.973122,
           -77.021879
          ],
          [
           "<b style='font-family: Arial, sans-serif; font-size: 14px;'>1846 REDWOOD TER NW</b><br><span style='font-family: Arial, sans-serif;'>WASHINGTON, DC, 20012</span><br><span style='font-family: Arial, sans-serif;'><b>Type:</b> SINGLE_FAMILY</span><br><span style='font-family: Arial, sans-serif;'><b>Beds:</b> 5.0</span><br><span style='font-family: Arial, sans-serif;'><b>Baths:</b> 5.0</span><br><span style='font-family: Arial, sans-serif;'><b>Sq Ft:</b> 5,300</span><br><span style='font-family: Arial, sans-serif;'><b>Year Built:</b> 1930</span><br><span style='font-family: Arial, sans-serif;'><b>Price:</b> $2,200,000</span>",
           38.9892,
           -77.041798
          ],
          [
           "<b style='font-family: Arial, sans-serif; font-size: 14px;'>2611 OTIS ST NE</b><br><span style='font-family: Arial, sans-serif;'>WASHINGTON, DC, 20018</span><br><span style='font-family: Arial, sans-serif;'><b>Type:</b> SINGLE_FAMILY</span><br><span style='font-family: Arial, sans-serif;'><b>Beds:</b> 5.0</span><br><span style='font-family: Arial, sans-serif;'><b>Baths:</b> 3.5</span><br><span style='font-family: Arial, sans-serif;'><b>Sq Ft:</b> 2,118</span><br><span style='font-family: Arial, sans-serif;'><b>Year Built:</b> 1932</span><br><span style='font-family: Arial, sans-serif;'><b>Price:</b> $899,000</span>",
           38.934818,
           -76.969548
          ],
          [
           "<b style='font-family: Arial, sans-serif; font-size: 14px;'>1121 48TH PL NE</b><br><span style='font-family: Arial, sans-serif;'>WASHINGTON, DC, 20019</span><br><span style='font-family: Arial, sans-serif;'><b>Type:</b> SINGLE_FAMILY</span><br><span style='font-family: Arial, sans-serif;'><b>Beds:</b> 4.0</span><br><span style='font-family: Arial, sans-serif;'><b>Baths:</b> 2.5</span><br><span style='font-family: Arial, sans-serif;'><b>Sq Ft:</b> 2,225</span><br><span style='font-family: Arial, sans-serif;'><b>Year Built:</b> 2025</span><br><span style='font-family: Arial, sans-serif;'><b>Price:</b> $629,900</span>",
           38.905334,
           -76.932439
          ],
          [
           "<b style='font-family: Arial, sans-serif; font-size: 14px;'>2927 44TH ST NW</b><br><span style='font-family: Arial, sans-serif;'>WASHINGTON, DC, 20016</span><br><span style='font-family: Arial, sans-serif;'><b>Type:</b> SINGLE_FAMILY</span><br><span style='font-family: Arial, sans-serif;'><b>Beds:</b> 6.0</span><br><span style='font-family: Arial, sans-serif;'><b>Baths:</b> 6.0</span><br><span style='font-family: Arial, sans-serif;'><b>Sq Ft:</b> 5,100</span><br><span style='font-family: Arial, sans-serif;'><b>Year Built:</b> 1927</span><br><span style='font-family: Arial, sans-serif;'><b>Price:</b> $7,595,000</span>",
           38.928606,
           -77.085728
          ],
          [
           "<b style='font-family: Arial, sans-serif; font-size: 14px;'>1707 MINNESOTA AVE SE</b><br><span style='font-family: Arial, sans-serif;'>WASHINGTON, DC, 20020</span><br><span style='font-family: Arial, sans-serif;'><b>Type:</b> SINGLE_FAMILY</span><br><span style='font-family: Arial, sans-serif;'><b>Beds:</b> 4.0</span><br><span style='font-family: Arial, sans-serif;'><b>Baths:</b> 3.0</span><br><span style='font-family: Arial, sans-serif;'><b>Sq Ft:</b> 2,967</span><br><span style='font-family: Arial, sans-serif;'><b>Year Built:</b> 2025</span><br><span style='font-family: Arial, sans-serif;'><b>Price:</b> $999,999</span>",
           38.868435,
           -76.9803452
          ],
          [
           "<b style='font-family: Arial, sans-serif; font-size: 14px;'>2639 MYRTLE AVE NE</b><br><span style='font-family: Arial, sans-serif;'>WASHINGTON, DC, 20018</span><br><span style='font-family: Arial, sans-serif;'><b>Type:</b> SINGLE_FAMILY</span><br><span style='font-family: Arial, sans-serif;'><b>Beds:</b> 3.0</span><br><span style='font-family: Arial, sans-serif;'><b>Baths:</b> 1.0</span><br><span style='font-family: Arial, sans-serif;'><b>Sq Ft:</b> 1,815</span><br><span style='font-family: Arial, sans-serif;'><b>Year Built:</b> 1913</span><br><span style='font-family: Arial, sans-serif;'><b>Price:</b> $525,000</span>",
           38.93023,
           -76.968143
          ],
          [
           "<b style='font-family: Arial, sans-serif; font-size: 14px;'>6139 SLIGO MILL RD NE</b><br><span style='font-family: Arial, sans-serif;'>WASHINGTON, DC, 20011</span><br><span style='font-family: Arial, sans-serif;'><b>Type:</b> SINGLE_FAMILY</span><br><span style='font-family: Arial, sans-serif;'><b>Beds:</b> 4.0</span><br><span style='font-family: Arial, sans-serif;'><b>Baths:</b> 3.5</span><br><span style='font-family: Arial, sans-serif;'><b>Sq Ft:</b> 2,816</span><br><span style='font-family: Arial, sans-serif;'><b>Year Built:</b> 2013</span><br><span style='font-family: Arial, sans-serif;'><b>Price:</b> $1,195,000</span>",
           38.964723,
           -77.005369
          ],
          [
           "<b style='font-family: Arial, sans-serif; font-size: 14px;'>1520 MONTANA AVE NE</b><br><span style='font-family: Arial, sans-serif;'>WASHINGTON, DC, 20018</span><br><span style='font-family: Arial, sans-serif;'><b>Type:</b> SINGLE_FAMILY</span><br><span style='font-family: Arial, sans-serif;'><b>Beds:</b> 7.0</span><br><span style='font-family: Arial, sans-serif;'><b>Baths:</b> 3.0</span><br><span style='font-family: Arial, sans-serif;'><b>Sq Ft:</b> 3,174</span><br><span style='font-family: Arial, sans-serif;'><b>Year Built:</b> 1940</span><br><span style='font-family: Arial, sans-serif;'><b>Price:</b> $849,999</span>",
           38.9223195,
           -76.9820604
          ],
          [
           "<b style='font-family: Arial, sans-serif; font-size: 14px;'>3115 CHAIN BRIDGE RD NW</b><br><span style='font-family: Arial, sans-serif;'>WASHINGTON, DC, 20016</span><br><span style='font-family: Arial, sans-serif;'><b>Type:</b> SINGLE_FAMILY</span><br><span style='font-family: Arial, sans-serif;'><b>Beds:</b> 4.0</span><br><span style='font-family: Arial, sans-serif;'><b>Baths:</b> 6.5</span><br><span style='font-family: Arial, sans-serif;'><b>Sq Ft:</b> 4,650</span><br><span style='font-family: Arial, sans-serif;'><b>Year Built:</b> 1934</span><br><span style='font-family: Arial, sans-serif;'><b>Price:</b> $3,695,000</span>",
           38.931681,
           -77.094299
          ],
          [
           "<b style='font-family: Arial, sans-serif; font-size: 14px;'>713 CROISSANT PL SE</b><br><span style='font-family: Arial, sans-serif;'>WASHINGTON, DC, 20019</span><br><span style='font-family: Arial, sans-serif;'><b>Type:</b> SINGLE_FAMILY</span><br><span style='font-family: Arial, sans-serif;'><b>Beds:</b> 4.0</span><br><span style='font-family: Arial, sans-serif;'><b>Baths:</b> 4.0</span><br><span style='font-family: Arial, sans-serif;'><b>Sq Ft:</b> 1,362</span><br><span style='font-family: Arial, sans-serif;'><b>Year Built:</b> 1924</span><br><span style='font-family: Arial, sans-serif;'><b>Price:</b> $699,000</span>",
           38.879779,
           -76.962525
          ],
          [
           "<b style='font-family: Arial, sans-serif; font-size: 14px;'>525 T ST NW</b><br><span style='font-family: Arial, sans-serif;'>WASHINGTON, DC, 20001</span><br><span style='font-family: Arial, sans-serif;'><b>Type:</b> SINGLE_FAMILY</span><br><span style='font-family: Arial, sans-serif;'><b>Beds:</b> 4.0</span><br><span style='font-family: Arial, sans-serif;'><b>Baths:</b> 4.5</span><br><span style='font-family: Arial, sans-serif;'><b>Sq Ft:</b> 5,216</span><br><span style='font-family: Arial, sans-serif;'><b>Price:</b> $3,595,000</span>",
           38.916016,
           -77.019443
          ],
          [
           "<b style='font-family: Arial, sans-serif; font-size: 14px;'>3229 VISTA ST NE</b><br><span style='font-family: Arial, sans-serif;'>WASHINGTON, DC, 20018</span><br><span style='font-family: Arial, sans-serif;'><b>Type:</b> SINGLE_FAMILY</span><br><span style='font-family: Arial, sans-serif;'><b>Beds:</b> 4.0</span><br><span style='font-family: Arial, sans-serif;'><b>Baths:</b> 2.0</span><br><span style='font-family: Arial, sans-serif;'><b>Sq Ft:</b> 2,571</span><br><span style='font-family: Arial, sans-serif;'><b>Year Built:</b> 1929</span><br><span style='font-family: Arial, sans-serif;'><b>Price:</b> $899,000</span>",
           38.931517,
           -76.961355
          ],
          [
           "<b style='font-family: Arial, sans-serif; font-size: 14px;'>7223 BLAIR RD NW</b><br><span style='font-family: Arial, sans-serif;'>WASHINGTON, DC, 20012</span><br><span style='font-family: Arial, sans-serif;'><b>Type:</b> SINGLE_FAMILY</span><br><span style='font-family: Arial, sans-serif;'><b>Beds:</b> 4.0</span><br><span style='font-family: Arial, sans-serif;'><b>Baths:</b> 3.5</span><br><span style='font-family: Arial, sans-serif;'><b>Sq Ft:</b> 3,636</span><br><span style='font-family: Arial, sans-serif;'><b>Year Built:</b> 1920</span><br><span style='font-family: Arial, sans-serif;'><b>Price:</b> $1,399,000</span>",
           38.977888,
           -77.021067
          ],
          [
           "<b style='font-family: Arial, sans-serif; font-size: 14px;'>1860 19TH ST NW</b><br><span style='font-family: Arial, sans-serif;'>WASHINGTON, DC, 20009</span><br><span style='font-family: Arial, sans-serif;'><b>Type:</b> SINGLE_FAMILY</span><br><span style='font-family: Arial, sans-serif;'><b>Beds:</b> 7.0</span><br><span style='font-family: Arial, sans-serif;'><b>Baths:</b> 2.5</span><br><span style='font-family: Arial, sans-serif;'><b>Sq Ft:</b> 8,198</span><br><span style='font-family: Arial, sans-serif;'><b>Year Built:</b> 1907</span><br><span style='font-family: Arial, sans-serif;'><b>Price:</b> $3,999,999</span>",
           38.915191,
           -77.04377
          ],
          [
           "<b style='font-family: Arial, sans-serif; font-size: 14px;'>3729 CARPENTER ST SE</b><br><span style='font-family: Arial, sans-serif;'>WASHINGTON, DC, 20020</span><br><span style='font-family: Arial, sans-serif;'><b>Type:</b> SINGLE_FAMILY</span><br><span style='font-family: Arial, sans-serif;'><b>Beds:</b> 3.0</span><br><span style='font-family: Arial, sans-serif;'><b>Baths:</b> 3.5</span><br><span style='font-family: Arial, sans-serif;'><b>Sq Ft:</b> 2,855</span><br><span style='font-family: Arial, sans-serif;'><b>Year Built:</b> 1953</span><br><span style='font-family: Arial, sans-serif;'><b>Price:</b> $985,000</span>",
           38.869862,
           -76.951125
          ],
          [
           "<b style='font-family: Arial, sans-serif; font-size: 14px;'>1414 PARKWOOD PL NW</b><br><span style='font-family: Arial, sans-serif;'>WASHINGTON, DC, 20010</span><br><span style='font-family: Arial, sans-serif;'><b>Type:</b> SINGLE_FAMILY</span><br><span style='font-family: Arial, sans-serif;'><b>Beds:</b> 3.0</span><br><span style='font-family: Arial, sans-serif;'><b>Baths:</b> 2.5</span><br><span style='font-family: Arial, sans-serif;'><b>Sq Ft:</b> 1,400</span><br><span style='font-family: Arial, sans-serif;'><b>Year Built:</b> 1927</span><br><span style='font-family: Arial, sans-serif;'><b>Price:</b> $999,999</span>",
           38.935591,
           -77.033451
          ],
          [
           "<b style='font-family: Arial, sans-serif; font-size: 14px;'>426 61ST ST NE</b><br><span style='font-family: Arial, sans-serif;'>WASHINGTON, DC, 20019</span><br><span style='font-family: Arial, sans-serif;'><b>Type:</b> SINGLE_FAMILY</span><br><span style='font-family: Arial, sans-serif;'><b>Beds:</b> 3.0</span><br><span style='font-family: Arial, sans-serif;'><b>Baths:</b> 1.0</span><br><span style='font-family: Arial, sans-serif;'><b>Sq Ft:</b> 1,025</span><br><span style='font-family: Arial, sans-serif;'><b>Year Built:</b> 1939</span><br><span style='font-family: Arial, sans-serif;'><b>Price:</b> $399,000</span>",
           38.895596,
           -76.913985
          ],
          [
           "<b style='font-family: Arial, sans-serif; font-size: 14px;'>2947 DAVENPORT ST NW</b><br><span style='font-family: Arial, sans-serif;'>WASHINGTON, DC, 20008</span><br><span style='font-family: Arial, sans-serif;'><b>Type:</b> SINGLE_FAMILY</span><br><span style='font-family: Arial, sans-serif;'><b>Beds:</b> 6.0</span><br><span style='font-family: Arial, sans-serif;'><b>Baths:</b> 4.5</span><br><span style='font-family: Arial, sans-serif;'><b>Sq Ft:</b> 4,800</span><br><span style='font-family: Arial, sans-serif;'><b>Year Built:</b> 1937</span><br><span style='font-family: Arial, sans-serif;'><b>Price:</b> $2,495,000</span>",
           38.952044,
           -77.060728
          ],
          [
           "<b style='font-family: Arial, sans-serif; font-size: 14px;'>1616 22ND ST SE</b><br><span style='font-family: Arial, sans-serif;'>WASHINGTON, DC, 20020</span><br><span style='font-family: Arial, sans-serif;'><b>Type:</b> SINGLE_FAMILY</span><br><span style='font-family: Arial, sans-serif;'><b>Beds:</b> 3.0</span><br><span style='font-family: Arial, sans-serif;'><b>Baths:</b> 1.5</span><br><span style='font-family: Arial, sans-serif;'><b>Sq Ft:</b> 1,650</span><br><span style='font-family: Arial, sans-serif;'><b>Year Built:</b> 1925</span>",
           38.870255,
           -76.974592
          ],
          [
           "<b style='font-family: Arial, sans-serif; font-size: 14px;'>5127 CATHEDRAL AVE NW</b><br><span style='font-family: Arial, sans-serif;'>WASHINGTON, DC, 20016</span><br><span style='font-family: Arial, sans-serif;'><b>Type:</b> SINGLE_FAMILY</span><br><span style='font-family: Arial, sans-serif;'><b>Beds:</b> 7.0</span><br><span style='font-family: Arial, sans-serif;'><b>Baths:</b> 6.5</span><br><span style='font-family: Arial, sans-serif;'><b>Sq Ft:</b> 5,731</span><br><span style='font-family: Arial, sans-serif;'><b>Year Built:</b> 2000</span><br><span style='font-family: Arial, sans-serif;'><b>Price:</b> $3,270,000</span>",
           38.930656,
           -77.10463
          ],
          [
           "<b style='font-family: Arial, sans-serif; font-size: 14px;'>1419 LAWRENCE ST NE</b><br><span style='font-family: Arial, sans-serif;'>WASHINGTON, DC, 20017</span><br><span style='font-family: Arial, sans-serif;'><b>Type:</b> SINGLE_FAMILY</span><br><span style='font-family: Arial, sans-serif;'><b>Beds:</b> 4.0</span><br><span style='font-family: Arial, sans-serif;'><b>Baths:</b> 2.5</span><br><span style='font-family: Arial, sans-serif;'><b>Sq Ft:</b> 2,610</span><br><span style='font-family: Arial, sans-serif;'><b>Year Built:</b> 1923</span><br><span style='font-family: Arial, sans-serif;'><b>Price:</b> $974,900</span>",
           38.931611,
           -76.985412
          ],
          [
           "<b style='font-family: Arial, sans-serif; font-size: 14px;'>4515 GAULT PL NE</b><br><span style='font-family: Arial, sans-serif;'>WASHINGTON, DC, 20019</span><br><span style='font-family: Arial, sans-serif;'><b>Type:</b> SINGLE_FAMILY</span><br><span style='font-family: Arial, sans-serif;'><b>Beds:</b> 3.0</span><br><span style='font-family: Arial, sans-serif;'><b>Baths:</b> 2.0</span><br><span style='font-family: Arial, sans-serif;'><b>Sq Ft:</b> 1,350</span><br><span style='font-family: Arial, sans-serif;'><b>Year Built:</b> 1924</span><br><span style='font-family: Arial, sans-serif;'><b>Price:</b> $515,000</span>",
           38.898894,
           -76.937185
          ],
          [
           "<b style='font-family: Arial, sans-serif; font-size: 14px;'>1625 31ST ST NW</b><br><span style='font-family: Arial, sans-serif;'>WASHINGTON, DC, 20007</span><br><span style='font-family: Arial, sans-serif;'><b>Type:</b> SINGLE_FAMILY</span><br><span style='font-family: Arial, sans-serif;'><b>Beds:</b> 6.0</span><br><span style='font-family: Arial, sans-serif;'><b>Baths:</b> 6.5</span><br><span style='font-family: Arial, sans-serif;'><b>Sq Ft:</b> 4,104</span><br><span style='font-family: Arial, sans-serif;'><b>Year Built:</b> 1980</span><br><span style='font-family: Arial, sans-serif;'><b>Price:</b> $5,995,000</span>",
           38.911247,
           -77.06202
          ],
          [
           "<b style='font-family: Arial, sans-serif; font-size: 14px;'>1413 SWANN ST NW</b><br><span style='font-family: Arial, sans-serif;'>WASHINGTON, DC, 20009</span><br><span style='font-family: Arial, sans-serif;'><b>Type:</b> SINGLE_FAMILY</span><br><span style='font-family: Arial, sans-serif;'><b>Beds:</b> 2.0</span><br><span style='font-family: Arial, sans-serif;'><b>Baths:</b> 2.0</span><br><span style='font-family: Arial, sans-serif;'><b>Sq Ft:</b> 1,250</span><br><span style='font-family: Arial, sans-serif;'><b>Price:</b> $1,345,000</span>",
           38.915113,
           -77.032715
          ],
          [
           "<b style='font-family: Arial, sans-serif; font-size: 14px;'>3617 10TH ST NE</b><br><span style='font-family: Arial, sans-serif;'>WASHINGTON, DC, 20017</span><br><span style='font-family: Arial, sans-serif;'><b>Type:</b> SINGLE_FAMILY</span><br><span style='font-family: Arial, sans-serif;'><b>Beds:</b> 5.0</span><br><span style='font-family: Arial, sans-serif;'><b>Baths:</b> 2.5</span><br><span style='font-family: Arial, sans-serif;'><b>Sq Ft:</b> 1,597</span><br><span style='font-family: Arial, sans-serif;'><b>Year Built:</b> 1905</span><br><span style='font-family: Arial, sans-serif;'><b>Price:</b> $949,000</span>",
           38.93389,
           -76.992449
          ],
          [
           "<b style='font-family: Arial, sans-serif; font-size: 14px;'>2101 FOXHALL RD NW</b><br><span style='font-family: Arial, sans-serif;'>WASHINGTON, DC, 20007</span><br><span style='font-family: Arial, sans-serif;'><b>Type:</b> SINGLE_FAMILY</span><br><span style='font-family: Arial, sans-serif;'><b>Beds:</b> 6.0</span><br><span style='font-family: Arial, sans-serif;'><b>Baths:</b> 5.5</span><br><span style='font-family: Arial, sans-serif;'><b>Sq Ft:</b> 6,915</span><br><span style='font-family: Arial, sans-serif;'><b>Year Built:</b> 2014</span><br><span style='font-family: Arial, sans-serif;'><b>Price:</b> $5,395,000</span>",
           38.91784,
           -77.088427
          ],
          [
           "<b style='font-family: Arial, sans-serif; font-size: 14px;'>2236 CHESTER ST SE</b><br><span style='font-family: Arial, sans-serif;'>WASHINGTON, DC, 20020</span><br><span style='font-family: Arial, sans-serif;'><b>Type:</b> SINGLE_FAMILY</span><br><span style='font-family: Arial, sans-serif;'><b>Beds:</b> 3.0</span><br><span style='font-family: Arial, sans-serif;'><b>Baths:</b> 2.0</span><br><span style='font-family: Arial, sans-serif;'><b>Sq Ft:</b> 1,652</span><br><span style='font-family: Arial, sans-serif;'><b>Year Built:</b> 1920</span><br><span style='font-family: Arial, sans-serif;'><b>Price:</b> $420,000</span>",
           38.863459,
           -76.986821
          ],
          [
           "<b style='font-family: Arial, sans-serif; font-size: 14px;'>3226 CLEVELAND AVE NW</b><br><span style='font-family: Arial, sans-serif;'>WASHINGTON, DC, 20008</span><br><span style='font-family: Arial, sans-serif;'><b>Type:</b> SINGLE_FAMILY</span><br><span style='font-family: Arial, sans-serif;'><b>Beds:</b> 5.0</span><br><span style='font-family: Arial, sans-serif;'><b>Baths:</b> 4.5</span><br><span style='font-family: Arial, sans-serif;'><b>Sq Ft:</b> 3,950</span><br><span style='font-family: Arial, sans-serif;'><b>Year Built:</b> 1922</span><br><span style='font-family: Arial, sans-serif;'><b>Price:</b> $2,699,000</span>",
           38.928428,
           -77.064867
          ],
          [
           "<b style='font-family: Arial, sans-serif; font-size: 14px;'>3141 ABERFOYLE PL NW</b><br><span style='font-family: Arial, sans-serif;'>WASHINGTON, DC, 20015</span><br><span style='font-family: Arial, sans-serif;'><b>Type:</b> SINGLE_FAMILY</span><br><span style='font-family: Arial, sans-serif;'><b>Beds:</b> 7.0</span><br><span style='font-family: Arial, sans-serif;'><b>Baths:</b> 7.0</span><br><span style='font-family: Arial, sans-serif;'><b>Sq Ft:</b> 6,489</span><br><span style='font-family: Arial, sans-serif;'><b>Year Built:</b> 1941</span><br><span style='font-family: Arial, sans-serif;'><b>Price:</b> $4,595,000</span>",
           38.977635,
           -77.056433
          ],
          [
           "<b style='font-family: Arial, sans-serif; font-size: 14px;'>4619 WARREN ST NW</b><br><span style='font-family: Arial, sans-serif;'>WASHINGTON, DC, 20016</span><br><span style='font-family: Arial, sans-serif;'><b>Type:</b> SINGLE_FAMILY</span><br><span style='font-family: Arial, sans-serif;'><b>Beds:</b> 3.0</span><br><span style='font-family: Arial, sans-serif;'><b>Baths:</b> 2.0</span><br><span style='font-family: Arial, sans-serif;'><b>Sq Ft:</b> 1,606</span><br><span style='font-family: Arial, sans-serif;'><b>Year Built:</b> 1939</span><br><span style='font-family: Arial, sans-serif;'><b>Price:</b> $1,185,000</span>",
           38.945046,
           -77.091536
          ],
          [
           "<b style='font-family: Arial, sans-serif; font-size: 14px;'>4525 28TH ST NW</b><br><span style='font-family: Arial, sans-serif;'>WASHINGTON, DC, 20008</span><br><span style='font-family: Arial, sans-serif;'><b>Type:</b> SINGLE_FAMILY</span><br><span style='font-family: Arial, sans-serif;'><b>Beds:</b> 6.0</span><br><span style='font-family: Arial, sans-serif;'><b>Baths:</b> 3.5</span><br><span style='font-family: Arial, sans-serif;'><b>Sq Ft:</b> 4,665</span><br><span style='font-family: Arial, sans-serif;'><b>Year Built:</b> 1949</span>",
           38.949265,
           -77.054336
          ],
          [
           "<b style='font-family: Arial, sans-serif; font-size: 14px;'>700 6TH ST SE</b><br><span style='font-family: Arial, sans-serif;'>WASHINGTON, DC, 20003</span><br><span style='font-family: Arial, sans-serif;'><b>Type:</b> SINGLE_FAMILY</span><br><span style='font-family: Arial, sans-serif;'><b>Beds:</b> 5.0</span><br><span style='font-family: Arial, sans-serif;'><b>Baths:</b> 3.5</span><br><span style='font-family: Arial, sans-serif;'><b>Sq Ft:</b> 3,966</span><br><span style='font-family: Arial, sans-serif;'><b>Price:</b> $3,495,000</span>",
           38.881016,
           -76.998193
          ],
          [
           "<b style='font-family: Arial, sans-serif; font-size: 14px;'>3005 45TH ST NW</b><br><span style='font-family: Arial, sans-serif;'>WASHINGTON, DC, 20016</span><br><span style='font-family: Arial, sans-serif;'><b>Type:</b> SINGLE_FAMILY</span><br><span style='font-family: Arial, sans-serif;'><b>Beds:</b> 8.0</span><br><span style='font-family: Arial, sans-serif;'><b>Baths:</b> 11.0</span><br><span style='font-family: Arial, sans-serif;'><b>Sq Ft:</b> 14,400</span><br><span style='font-family: Arial, sans-serif;'><b>Year Built:</b> 1927</span><br><span style='font-family: Arial, sans-serif;'><b>Price:</b> $9,850,000</span>",
           38.929492,
           -77.08825
          ],
          [
           "<b style='font-family: Arial, sans-serif; font-size: 14px;'>2217 46TH ST NW</b><br><span style='font-family: Arial, sans-serif;'>WASHINGTON, DC, 20007</span><br><span style='font-family: Arial, sans-serif;'><b>Type:</b> SINGLE_FAMILY</span><br><span style='font-family: Arial, sans-serif;'><b>Beds:</b> 4.0</span><br><span style='font-family: Arial, sans-serif;'><b>Baths:</b> 3.5</span><br><span style='font-family: Arial, sans-serif;'><b>Sq Ft:</b> 3,084</span><br><span style='font-family: Arial, sans-serif;'><b>Year Built:</b> 1954</span><br><span style='font-family: Arial, sans-serif;'><b>Price:</b> $1,999,000</span>",
           38.920046,
           -77.091865
          ],
          [
           "<b style='font-family: Arial, sans-serif; font-size: 14px;'>5625 WESTERN AVE NW</b><br><span style='font-family: Arial, sans-serif;'>WASHINGTON, DC, 20015</span><br><span style='font-family: Arial, sans-serif;'><b>Type:</b> SINGLE_FAMILY</span><br><span style='font-family: Arial, sans-serif;'><b>Beds:</b> 4.0</span><br><span style='font-family: Arial, sans-serif;'><b>Baths:</b> 3.5</span><br><span style='font-family: Arial, sans-serif;'><b>Sq Ft:</b> 3,274</span><br><span style='font-family: Arial, sans-serif;'><b>Year Built:</b> 1926</span><br><span style='font-family: Arial, sans-serif;'><b>Price:</b> $1,625,000</span>",
           38.965439,
           -77.079336
          ],
          [
           "<b style='font-family: Arial, sans-serif; font-size: 14px;'>4509 CLARK PL NW</b><br><span style='font-family: Arial, sans-serif;'>WASHINGTON, DC, 20007</span><br><span style='font-family: Arial, sans-serif;'><b>Type:</b> SINGLE_FAMILY</span><br><span style='font-family: Arial, sans-serif;'><b>Beds:</b> 4.0</span><br><span style='font-family: Arial, sans-serif;'><b>Baths:</b> 3.0</span><br><span style='font-family: Arial, sans-serif;'><b>Sq Ft:</b> 1,959</span><br><span style='font-family: Arial, sans-serif;'><b>Year Built:</b> 1947</span><br><span style='font-family: Arial, sans-serif;'><b>Price:</b> $1,279,000</span>",
           38.907878,
           -77.086951
          ],
          [
           "<b style='font-family: Arial, sans-serif; font-size: 14px;'>407 LEBAUM ST SE</b><br><span style='font-family: Arial, sans-serif;'>WASHINGTON, DC, 20032</span><br><span style='font-family: Arial, sans-serif;'><b>Type:</b> SINGLE_FAMILY</span><br><span style='font-family: Arial, sans-serif;'><b>Beds:</b> 12.0</span><br><span style='font-family: Arial, sans-serif;'><b>Baths:</b> 5.0</span><br><span style='font-family: Arial, sans-serif;'><b>Sq Ft:</b> 4,007</span><br><span style='font-family: Arial, sans-serif;'><b>Year Built:</b> 1943</span><br><span style='font-family: Arial, sans-serif;'><b>Price:</b> $900,000</span>",
           38.848687,
           -77.001505
          ],
          [
           "<b style='font-family: Arial, sans-serif; font-size: 14px;'>4501 DEXTER ST NW</b><br><span style='font-family: Arial, sans-serif;'>WASHINGTON, DC, 20007</span><br><span style='font-family: Arial, sans-serif;'><b>Type:</b> SINGLE_FAMILY</span><br><span style='font-family: Arial, sans-serif;'><b>Beds:</b> 5.0</span><br><span style='font-family: Arial, sans-serif;'><b>Baths:</b> 3.5</span><br><span style='font-family: Arial, sans-serif;'><b>Sq Ft:</b> 3,569</span><br><span style='font-family: Arial, sans-serif;'><b>Year Built:</b> 1936</span><br><span style='font-family: Arial, sans-serif;'><b>Price:</b> $1,629,000</span>",
           38.925045,
           -77.087433
          ],
          [
           "<b style='font-family: Arial, sans-serif; font-size: 14px;'>2410 21ST PL NE</b><br><span style='font-family: Arial, sans-serif;'>WASHINGTON, DC, 20018</span><br><span style='font-family: Arial, sans-serif;'><b>Type:</b> SINGLE_FAMILY</span><br><span style='font-family: Arial, sans-serif;'><b>Beds:</b> 4.0</span><br><span style='font-family: Arial, sans-serif;'><b>Baths:</b> 3.0</span><br><span style='font-family: Arial, sans-serif;'><b>Sq Ft:</b> 1,878</span><br><span style='font-family: Arial, sans-serif;'><b>Year Built:</b> 1937</span><br><span style='font-family: Arial, sans-serif;'><b>Price:</b> $839,900</span>",
           38.922116,
           -76.975409
          ],
          [
           "<b style='font-family: Arial, sans-serif; font-size: 14px;'>2826 EVARTS ST NE</b><br><span style='font-family: Arial, sans-serif;'>WASHINGTON, DC, 20018</span><br><span style='font-family: Arial, sans-serif;'><b>Type:</b> SINGLE_FAMILY</span><br><span style='font-family: Arial, sans-serif;'><b>Beds:</b> 3.0</span><br><span style='font-family: Arial, sans-serif;'><b>Baths:</b> 2.0</span><br><span style='font-family: Arial, sans-serif;'><b>Sq Ft:</b> 1,794</span><br><span style='font-family: Arial, sans-serif;'><b>Year Built:</b> 1925</span><br><span style='font-family: Arial, sans-serif;'><b>Price:</b> $740,000</span>",
           38.924848,
           -76.966949
          ],
          [
           "<b style='font-family: Arial, sans-serif; font-size: 14px;'>4224 VAN NESS ST NW</b><br><span style='font-family: Arial, sans-serif;'>WASHINGTON, DC, 20016</span><br><span style='font-family: Arial, sans-serif;'><b>Type:</b> SINGLE_FAMILY</span><br><span style='font-family: Arial, sans-serif;'><b>Beds:</b> 7.0</span><br><span style='font-family: Arial, sans-serif;'><b>Baths:</b> 6.0</span><br><span style='font-family: Arial, sans-serif;'><b>Sq Ft:</b> 4,790</span><br><span style='font-family: Arial, sans-serif;'><b>Year Built:</b> 1936</span><br><span style='font-family: Arial, sans-serif;'><b>Price:</b> $2,850,000</span>",
           38.942874,
           -77.083437
          ],
          [
           "<b style='font-family: Arial, sans-serif; font-size: 14px;'>1520 OLIVE ST NE</b><br><span style='font-family: Arial, sans-serif;'>WASHINGTON, DC, 20019</span><br><span style='font-family: Arial, sans-serif;'><b>Type:</b> SINGLE_FAMILY</span><br><span style='font-family: Arial, sans-serif;'><b>Beds:</b> 4.0</span><br><span style='font-family: Arial, sans-serif;'><b>Baths:</b> 1.0</span><br><span style='font-family: Arial, sans-serif;'><b>Sq Ft:</b> 2,034</span><br><span style='font-family: Arial, sans-serif;'><b>Year Built:</b> 1910</span><br><span style='font-family: Arial, sans-serif;'><b>Price:</b> $400,000</span>",
           38.909905,
           -76.934912
          ],
          [
           "<b style='font-family: Arial, sans-serif; font-size: 14px;'>1926 QUINCY ST NE</b><br><span style='font-family: Arial, sans-serif;'>WASHINGTON, DC, 20018</span><br><span style='font-family: Arial, sans-serif;'><b>Type:</b> SINGLE_FAMILY</span><br><span style='font-family: Arial, sans-serif;'><b>Beds:</b> 4.0</span><br><span style='font-family: Arial, sans-serif;'><b>Baths:</b> 1.5</span><br><span style='font-family: Arial, sans-serif;'><b>Sq Ft:</b> 2,032</span><br><span style='font-family: Arial, sans-serif;'><b>Year Built:</b> 1934</span><br><span style='font-family: Arial, sans-serif;'><b>Price:</b> $689,000</span>",
           38.937471,
           -76.977313
          ],
          [
           "<b style='font-family: Arial, sans-serif; font-size: 14px;'>5126 CALL PL SE</b><br><span style='font-family: Arial, sans-serif;'>WASHINGTON, DC, 20019</span><br><span style='font-family: Arial, sans-serif;'><b>Type:</b> SINGLE_FAMILY</span><br><span style='font-family: Arial, sans-serif;'><b>Beds:</b> 4.0</span><br><span style='font-family: Arial, sans-serif;'><b>Baths:</b> 3.5</span><br><span style='font-family: Arial, sans-serif;'><b>Sq Ft:</b> 1,717</span><br><span style='font-family: Arial, sans-serif;'><b>Year Built:</b> 1908</span><br><span style='font-family: Arial, sans-serif;'><b>Price:</b> $459,000</span>",
           38.884415,
           -76.927515
          ],
          [
           "<b style='font-family: Arial, sans-serif; font-size: 14px;'>2750 CHAIN BRIDGE RD NW</b><br><span style='font-family: Arial, sans-serif;'>WASHINGTON, DC, 20016</span><br><span style='font-family: Arial, sans-serif;'><b>Type:</b> SINGLE_FAMILY</span><br><span style='font-family: Arial, sans-serif;'><b>Beds:</b> 7.0</span><br><span style='font-family: Arial, sans-serif;'><b>Baths:</b> 8.5</span><br><span style='font-family: Arial, sans-serif;'><b>Sq Ft:</b> 10,365</span><br><span style='font-family: Arial, sans-serif;'><b>Year Built:</b> 2025</span><br><span style='font-family: Arial, sans-serif;'><b>Price:</b> $9,995,000</span>",
           38.926564,
           -77.096336
          ],
          [
           "<b style='font-family: Arial, sans-serif; font-size: 14px;'>4125 46TH ST NW</b><br><span style='font-family: Arial, sans-serif;'>WASHINGTON, DC, 20016</span><br><span style='font-family: Arial, sans-serif;'><b>Type:</b> SINGLE_FAMILY</span><br><span style='font-family: Arial, sans-serif;'><b>Beds:</b> 5.0</span><br><span style='font-family: Arial, sans-serif;'><b>Baths:</b> 3.5</span><br><span style='font-family: Arial, sans-serif;'><b>Sq Ft:</b> 2,900</span><br><span style='font-family: Arial, sans-serif;'><b>Year Built:</b> 1944</span><br><span style='font-family: Arial, sans-serif;'><b>Price:</b> $1,695,000</span>",
           38.942859,
           -77.090291
          ],
          [
           "<b style='font-family: Arial, sans-serif; font-size: 14px;'>6116 30TH ST NW</b><br><span style='font-family: Arial, sans-serif;'>WASHINGTON, DC, 20015</span><br><span style='font-family: Arial, sans-serif;'><b>Type:</b> SINGLE_FAMILY</span><br><span style='font-family: Arial, sans-serif;'><b>Beds:</b> 7.0</span><br><span style='font-family: Arial, sans-serif;'><b>Baths:</b> 7.0</span><br><span style='font-family: Arial, sans-serif;'><b>Sq Ft:</b> 5,072</span><br><span style='font-family: Arial, sans-serif;'><b>Year Built:</b> 2024</span><br><span style='font-family: Arial, sans-serif;'><b>Price:</b> $2,490,000</span>",
           38.970509,
           -77.061588
          ],
          [
           "<b style='font-family: Arial, sans-serif; font-size: 14px;'>4301 KANSAS AVE NW</b><br><span style='font-family: Arial, sans-serif;'>WASHINGTON, DC, 20011</span><br><span style='font-family: Arial, sans-serif;'><b>Type:</b> SINGLE_FAMILY</span><br><span style='font-family: Arial, sans-serif;'><b>Beds:</b> 9.0</span><br><span style='font-family: Arial, sans-serif;'><b>Baths:</b> 4.5</span><br><span style='font-family: Arial, sans-serif;'><b>Sq Ft:</b> 4,733</span><br><span style='font-family: Arial, sans-serif;'><b>Year Built:</b> 1907</span><br><span style='font-family: Arial, sans-serif;'><b>Price:</b> $1,750,000</span>",
           38.943156,
           -77.024591
          ],
          [
           "<b style='font-family: Arial, sans-serif; font-size: 14px;'>4324 YUMA ST NW</b><br><span style='font-family: Arial, sans-serif;'>WASHINGTON, DC, 20016</span><br><span style='font-family: Arial, sans-serif;'><b>Type:</b> SINGLE_FAMILY</span><br><span style='font-family: Arial, sans-serif;'><b>Beds:</b> 6.0</span><br><span style='font-family: Arial, sans-serif;'><b>Baths:</b> 6.0</span><br><span style='font-family: Arial, sans-serif;'><b>Sq Ft:</b> 3,507</span><br><span style='font-family: Arial, sans-serif;'><b>Year Built:</b> 1950</span><br><span style='font-family: Arial, sans-serif;'><b>Price:</b> $1,100,000</span>",
           38.946047,
           -77.085173
          ],
          [
           "<b style='font-family: Arial, sans-serif; font-size: 14px;'>3730 CAMDEN ST SE</b><br><span style='font-family: Arial, sans-serif;'>WASHINGTON, DC, 20020</span><br><span style='font-family: Arial, sans-serif;'><b>Type:</b> SINGLE_FAMILY</span><br><span style='font-family: Arial, sans-serif;'><b>Beds:</b> 3.0</span><br><span style='font-family: Arial, sans-serif;'><b>Baths:</b> 2.0</span><br><span style='font-family: Arial, sans-serif;'><b>Sq Ft:</b> 1,588</span><br><span style='font-family: Arial, sans-serif;'><b>Year Built:</b> 1951</span><br><span style='font-family: Arial, sans-serif;'><b>Price:</b> $575,000</span>",
           38.861075,
           -76.952798
          ],
          [
           "<b style='font-family: Arial, sans-serif; font-size: 14px;'>4825 DEXTER TER NW</b><br><span style='font-family: Arial, sans-serif;'>WASHINGTON, DC, 20007</span><br><span style='font-family: Arial, sans-serif;'><b>Type:</b> SINGLE_FAMILY</span><br><span style='font-family: Arial, sans-serif;'><b>Beds:</b> 8.0</span><br><span style='font-family: Arial, sans-serif;'><b>Baths:</b> 9.0</span><br><span style='font-family: Arial, sans-serif;'><b>Sq Ft:</b> 13,391</span><br><span style='font-family: Arial, sans-serif;'><b>Year Built:</b> 2004</span><br><span style='font-family: Arial, sans-serif;'><b>Price:</b> $11,500,000</span>",
           38.925531,
           -77.093406
          ],
          [
           "<b style='font-family: Arial, sans-serif; font-size: 14px;'>4714 UPTON ST NW</b><br><span style='font-family: Arial, sans-serif;'>WASHINGTON, DC, 20016</span><br><span style='font-family: Arial, sans-serif;'><b>Type:</b> SINGLE_FAMILY</span><br><span style='font-family: Arial, sans-serif;'><b>Beds:</b> 5.0</span><br><span style='font-family: Arial, sans-serif;'><b>Baths:</b> 5.0</span><br><span style='font-family: Arial, sans-serif;'><b>Sq Ft:</b> 3,472</span><br><span style='font-family: Arial, sans-serif;'><b>Year Built:</b> 1937</span><br><span style='font-family: Arial, sans-serif;'><b>Price:</b> $2,100,000</span>",
           38.941935,
           -77.093379
          ],
          [
           "<b style='font-family: Arial, sans-serif; font-size: 14px;'>1230 CONGRESS ST SE</b><br><span style='font-family: Arial, sans-serif;'>WASHINGTON, DC, 20032</span><br><span style='font-family: Arial, sans-serif;'><b>Type:</b> SINGLE_FAMILY</span><br><span style='font-family: Arial, sans-serif;'><b>Beds:</b> 6.0</span><br><span style='font-family: Arial, sans-serif;'><b>Baths:</b> 2.5</span><br><span style='font-family: Arial, sans-serif;'><b>Sq Ft:</b> 3,768</span><br><span style='font-family: Arial, sans-serif;'><b>Year Built:</b> 1991</span><br><span style='font-family: Arial, sans-serif;'><b>Price:</b> $675,000</span>",
           38.842059,
           -76.988844
          ],
          [
           "<b style='font-family: Arial, sans-serif; font-size: 14px;'>5064 SEDGWICK ST NW</b><br><span style='font-family: Arial, sans-serif;'>WASHINGTON, DC, 20016</span><br><span style='font-family: Arial, sans-serif;'><b>Type:</b> SINGLE_FAMILY</span><br><span style='font-family: Arial, sans-serif;'><b>Beds:</b> 5.0</span><br><span style='font-family: Arial, sans-serif;'><b>Baths:</b> 5.5</span><br><span style='font-family: Arial, sans-serif;'><b>Sq Ft:</b> 4,410</span><br><span style='font-family: Arial, sans-serif;'><b>Year Built:</b> 1950</span><br><span style='font-family: Arial, sans-serif;'><b>Price:</b> $3,400,000</span>",
           38.937866,
           -77.100944
          ],
          [
           "<b style='font-family: Arial, sans-serif; font-size: 14px;'>1720 MASSACHUSETTS AVE NW</b><br><span style='font-family: Arial, sans-serif;'>WASHINGTON, DC, 20036</span><br><span style='font-family: Arial, sans-serif;'><b>Type:</b> SINGLE_FAMILY</span><br><span style='font-family: Arial, sans-serif;'><b>Beds:</b> 9.0</span><br><span style='font-family: Arial, sans-serif;'><b>Baths:</b> 5.0</span><br><span style='font-family: Arial, sans-serif;'><b>Sq Ft:</b> 11,800</span><br><span style='font-family: Arial, sans-serif;'><b>Year Built:</b> 1930</span><br><span style='font-family: Arial, sans-serif;'><b>Price:</b> $4,999,900</span>",
           38.907834,
           -77.039329
          ],
          [
           "<b style='font-family: Arial, sans-serif; font-size: 14px;'>140 WILMINGTON PL SE</b><br><span style='font-family: Arial, sans-serif;'>WASHINGTON, DC, 20032</span><br><span style='font-family: Arial, sans-serif;'><b>Type:</b> SINGLE_FAMILY</span><br><span style='font-family: Arial, sans-serif;'><b>Beds:</b> 4.0</span><br><span style='font-family: Arial, sans-serif;'><b>Baths:</b> 2.0</span><br><span style='font-family: Arial, sans-serif;'><b>Sq Ft:</b> 2,278</span><br><span style='font-family: Arial, sans-serif;'><b>Year Built:</b> 2008</span><br><span style='font-family: Arial, sans-serif;'><b>Price:</b> $670,000</span>",
           38.8363037,
           -77.0037937
          ],
          [
           "<b style='font-family: Arial, sans-serif; font-size: 14px;'>4532 MACOMB ST NW</b><br><span style='font-family: Arial, sans-serif;'>WASHINGTON, DC, 20016</span><br><span style='font-family: Arial, sans-serif;'><b>Type:</b> SINGLE_FAMILY</span><br><span style='font-family: Arial, sans-serif;'><b>Beds:</b> 4.0</span><br><span style='font-family: Arial, sans-serif;'><b>Baths:</b> 4.0</span><br><span style='font-family: Arial, sans-serif;'><b>Sq Ft:</b> 2,345</span><br><span style='font-family: Arial, sans-serif;'><b>Year Built:</b> 1941</span><br><span style='font-family: Arial, sans-serif;'><b>Price:</b> $1,700,000</span>",
           38.933169,
           -77.089932
          ],
          [
           "<b style='font-family: Arial, sans-serif; font-size: 14px;'>2008 TAYLOR ST NE</b><br><span style='font-family: Arial, sans-serif;'>WASHINGTON, DC, 20018</span><br><span style='font-family: Arial, sans-serif;'><b>Type:</b> SINGLE_FAMILY</span><br><span style='font-family: Arial, sans-serif;'><b>Beds:</b> 4.0</span><br><span style='font-family: Arial, sans-serif;'><b>Baths:</b> 3.0</span><br><span style='font-family: Arial, sans-serif;'><b>Sq Ft:</b> 1,728</span><br><span style='font-family: Arial, sans-serif;'><b>Year Built:</b> 1937</span><br><span style='font-family: Arial, sans-serif;'><b>Price:</b> $699,900</span>",
           38.941025,
           -76.97559
          ],
          [
           "<b style='font-family: Arial, sans-serif; font-size: 14px;'>3530 QUESADA ST NW</b><br><span style='font-family: Arial, sans-serif;'>WASHINGTON, DC, 20015</span><br><span style='font-family: Arial, sans-serif;'><b>Type:</b> SINGLE_FAMILY</span><br><span style='font-family: Arial, sans-serif;'><b>Beds:</b> 5.0</span><br><span style='font-family: Arial, sans-serif;'><b>Baths:</b> 4.5</span><br><span style='font-family: Arial, sans-serif;'><b>Sq Ft:</b> 2,166</span><br><span style='font-family: Arial, sans-serif;'><b>Year Built:</b> 1935</span><br><span style='font-family: Arial, sans-serif;'><b>Price:</b> $1,400,000</span>",
           38.968487,
           -77.072104
          ],
          [
           "<b style='font-family: Arial, sans-serif; font-size: 14px;'>3008 30TH ST SE</b><br><span style='font-family: Arial, sans-serif;'>WASHINGTON, DC, 20020</span><br><span style='font-family: Arial, sans-serif;'><b>Type:</b> SINGLE_FAMILY</span><br><span style='font-family: Arial, sans-serif;'><b>Beds:</b> 3.0</span><br><span style='font-family: Arial, sans-serif;'><b>Baths:</b> 1.0</span><br><span style='font-family: Arial, sans-serif;'><b>Sq Ft:</b> 1,144</span><br><span style='font-family: Arial, sans-serif;'><b>Year Built:</b> 1928</span><br><span style='font-family: Arial, sans-serif;'><b>Price:</b> $230,000</span>",
           38.852996,
           -76.965287
          ],
          [
           "<b style='font-family: Arial, sans-serif; font-size: 14px;'>1316 31ST PL SE</b><br><span style='font-family: Arial, sans-serif;'>WASHINGTON, DC, 20020</span><br><span style='font-family: Arial, sans-serif;'><b>Type:</b> SINGLE_FAMILY</span><br><span style='font-family: Arial, sans-serif;'><b>Beds:</b> 4.0</span><br><span style='font-family: Arial, sans-serif;'><b>Baths:</b> 3.0</span><br><span style='font-family: Arial, sans-serif;'><b>Sq Ft:</b> 1,917</span><br><span style='font-family: Arial, sans-serif;'><b>Year Built:</b> 1963</span><br><span style='font-family: Arial, sans-serif;'><b>Price:</b> $750,000</span>",
           38.873967,
           -76.962066
          ],
          [
           "<b style='font-family: Arial, sans-serif; font-size: 14px;'>1326 EMERSON ST NW</b><br><span style='font-family: Arial, sans-serif;'>WASHINGTON, DC, 20011</span><br><span style='font-family: Arial, sans-serif;'><b>Type:</b> SINGLE_FAMILY</span><br><span style='font-family: Arial, sans-serif;'><b>Beds:</b> 5.0</span><br><span style='font-family: Arial, sans-serif;'><b>Baths:</b> 3.0</span><br><span style='font-family: Arial, sans-serif;'><b>Sq Ft:</b> 2,706</span><br><span style='font-family: Arial, sans-serif;'><b>Year Built:</b> 1920</span><br><span style='font-family: Arial, sans-serif;'><b>Price:</b> $799,000</span>",
           38.949539,
           -77.032193
          ],
          [
           "<b style='font-family: Arial, sans-serif; font-size: 14px;'>1414 KEARNY ST NE</b><br><span style='font-family: Arial, sans-serif;'>WASHINGTON, DC, 20017</span><br><span style='font-family: Arial, sans-serif;'><b>Type:</b> SINGLE_FAMILY</span><br><span style='font-family: Arial, sans-serif;'><b>Beds:</b> 4.0</span><br><span style='font-family: Arial, sans-serif;'><b>Baths:</b> 3.5</span><br><span style='font-family: Arial, sans-serif;'><b>Sq Ft:</b> 2,198</span><br><span style='font-family: Arial, sans-serif;'><b>Year Built:</b> 1913</span><br><span style='font-family: Arial, sans-serif;'><b>Price:</b> $949,999</span>",
           38.9310745,
           -76.9850865
          ],
          [
           "<b style='font-family: Arial, sans-serif; font-size: 14px;'>26 NICHOLSON ST NW</b><br><span style='font-family: Arial, sans-serif;'>WASHINGTON, DC, 20011</span><br><span style='font-family: Arial, sans-serif;'><b>Type:</b> SINGLE_FAMILY</span><br><span style='font-family: Arial, sans-serif;'><b>Beds:</b> 7.0</span><br><span style='font-family: Arial, sans-serif;'><b>Baths:</b> 5.5</span><br><span style='font-family: Arial, sans-serif;'><b>Sq Ft:</b> 4,865</span><br><span style='font-family: Arial, sans-serif;'><b>Year Built:</b> 1941</span><br><span style='font-family: Arial, sans-serif;'><b>Price:</b> $1,350,000</span>",
           38.959949,
           -77.010478
          ],
          [
           "<b style='font-family: Arial, sans-serif; font-size: 14px;'>5206 CLAY ST NE</b><br><span style='font-family: Arial, sans-serif;'>WASHINGTON, DC, 20019</span><br><span style='font-family: Arial, sans-serif;'><b>Type:</b> SINGLE_FAMILY</span><br><span style='font-family: Arial, sans-serif;'><b>Beds:</b> 0.0</span><br><span style='font-family: Arial, sans-serif;'><b>Baths:</b> 0.0</span><br><span style='font-family: Arial, sans-serif;'><b>Sq Ft:</b> 1,200</span><br><span style='font-family: Arial, sans-serif;'><b>Year Built:</b> 1940</span><br><span style='font-family: Arial, sans-serif;'><b>Price:</b> $524,999</span>",
           38.893815,
           -76.926547
          ],
          [
           "<b style='font-family: Arial, sans-serif; font-size: 14px;'>650 MORTON ST NW</b><br><span style='font-family: Arial, sans-serif;'>WASHINGTON, DC, 20010</span><br><span style='font-family: Arial, sans-serif;'><b>Type:</b> SINGLE_FAMILY</span><br><span style='font-family: Arial, sans-serif;'><b>Beds:</b> 3.0</span><br><span style='font-family: Arial, sans-serif;'><b>Baths:</b> 1.5</span><br><span style='font-family: Arial, sans-serif;'><b>Sq Ft:</b> 2,140</span><br><span style='font-family: Arial, sans-serif;'><b>Year Built:</b> 1909</span><br><span style='font-family: Arial, sans-serif;'><b>Price:</b> $1,999,995</span>",
           38.93183,
           -77.02278
          ],
          [
           "<b style='font-family: Arial, sans-serif; font-size: 14px;'>4956 SARGENT RD NE</b><br><span style='font-family: Arial, sans-serif;'>WASHINGTON, DC, 20017</span><br><span style='font-family: Arial, sans-serif;'><b>Type:</b> SINGLE_FAMILY</span><br><span style='font-family: Arial, sans-serif;'><b>Beds:</b> 3.0</span><br><span style='font-family: Arial, sans-serif;'><b>Baths:</b> 2.0</span><br><span style='font-family: Arial, sans-serif;'><b>Sq Ft:</b> 1,080</span><br><span style='font-family: Arial, sans-serif;'><b>Year Built:</b> 1950</span><br><span style='font-family: Arial, sans-serif;'><b>Price:</b> $450,000</span>",
           38.949515,
           -76.989852
          ],
          [
           "<b style='font-family: Arial, sans-serif; font-size: 14px;'>2611 MYRTLE AVE NE</b><br><span style='font-family: Arial, sans-serif;'>WASHINGTON, DC, 20018</span><br><span style='font-family: Arial, sans-serif;'><b>Type:</b> SINGLE_FAMILY</span><br><span style='font-family: Arial, sans-serif;'><b>Beds:</b> 4.0</span><br><span style='font-family: Arial, sans-serif;'><b>Baths:</b> 2.0</span><br><span style='font-family: Arial, sans-serif;'><b>Sq Ft:</b> 1,600</span><br><span style='font-family: Arial, sans-serif;'><b>Year Built:</b> 1926</span><br><span style='font-family: Arial, sans-serif;'><b>Price:</b> $569,000</span>",
           38.929994,
           -76.969124
          ],
          [
           "<b style='font-family: Arial, sans-serif; font-size: 14px;'>1231 V ST SE</b><br><span style='font-family: Arial, sans-serif;'>WASHINGTON, DC, 20020</span><br><span style='font-family: Arial, sans-serif;'><b>Type:</b> SINGLE_FAMILY</span><br><span style='font-family: Arial, sans-serif;'><b>Beds:</b> 4.0</span><br><span style='font-family: Arial, sans-serif;'><b>Baths:</b> 2.0</span><br><span style='font-family: Arial, sans-serif;'><b>Sq Ft:</b> 3,335</span><br><span style='font-family: Arial, sans-serif;'><b>Year Built:</b> 1905</span><br><span style='font-family: Arial, sans-serif;'><b>Price:</b> $400,000</span>",
           38.8653763,
           -76.9882927
          ],
          [
           "<b style='font-family: Arial, sans-serif; font-size: 14px;'>3219 MORRISON ST NW</b><br><span style='font-family: Arial, sans-serif;'>WASHINGTON, DC, 20015</span><br><span style='font-family: Arial, sans-serif;'><b>Type:</b> SINGLE_FAMILY</span><br><span style='font-family: Arial, sans-serif;'><b>Beds:</b> 4.0</span><br><span style='font-family: Arial, sans-serif;'><b>Baths:</b> 3.0</span><br><span style='font-family: Arial, sans-serif;'><b>Sq Ft:</b> 3,500</span><br><span style='font-family: Arial, sans-serif;'><b>Year Built:</b> 1925</span><br><span style='font-family: Arial, sans-serif;'><b>Price:</b> $2,200,000</span>",
           38.964259,
           -77.065433
          ],
          [
           "<b style='font-family: Arial, sans-serif; font-size: 14px;'>5706 NEVADA AVE NW</b><br><span style='font-family: Arial, sans-serif;'>WASHINGTON, DC, 20015</span><br><span style='font-family: Arial, sans-serif;'><b>Type:</b> SINGLE_FAMILY</span><br><span style='font-family: Arial, sans-serif;'><b>Beds:</b> 6.0</span><br><span style='font-family: Arial, sans-serif;'><b>Baths:</b> 4.5</span><br><span style='font-family: Arial, sans-serif;'><b>Sq Ft:</b> 6,258</span><br><span style='font-family: Arial, sans-serif;'><b>Year Built:</b> 1930</span><br><span style='font-family: Arial, sans-serif;'><b>Price:</b> $2,850,000</span>",
           38.966032,
           -77.071026
          ],
          [
           "<b style='font-family: Arial, sans-serif; font-size: 14px;'>1405 42ND PL SE</b><br><span style='font-family: Arial, sans-serif;'>WASHINGTON, DC, 20020</span><br><span style='font-family: Arial, sans-serif;'><b>Type:</b> SINGLE_FAMILY</span><br><span style='font-family: Arial, sans-serif;'><b>Beds:</b> 4.0</span><br><span style='font-family: Arial, sans-serif;'><b>Baths:</b> 2.0</span><br><span style='font-family: Arial, sans-serif;'><b>Sq Ft:</b> 1,602</span><br><span style='font-family: Arial, sans-serif;'><b>Year Built:</b> 1964</span><br><span style='font-family: Arial, sans-serif;'><b>Price:</b> $499,999</span>",
           38.868709,
           -76.9433976
          ],
          [
           "<b style='font-family: Arial, sans-serif; font-size: 14px;'>2502 CHAIN BRIDGE RD NW</b><br><span style='font-family: Arial, sans-serif;'>WASHINGTON, DC, 20016</span><br><span style='font-family: Arial, sans-serif;'><b>Type:</b> SINGLE_FAMILY</span><br><span style='font-family: Arial, sans-serif;'><b>Beds:</b> 7.0</span><br><span style='font-family: Arial, sans-serif;'><b>Baths:</b> 5.5</span><br><span style='font-family: Arial, sans-serif;'><b>Sq Ft:</b> 7,016</span><br><span style='font-family: Arial, sans-serif;'><b>Year Built:</b> 2004</span><br><span style='font-family: Arial, sans-serif;'><b>Price:</b> $2,699,000</span>",
           38.922499,
           -77.100354
          ],
          [
           "<b style='font-family: Arial, sans-serif; font-size: 14px;'>1337 HARVARD ST NW</b><br><span style='font-family: Arial, sans-serif;'>WASHINGTON, DC, 20009</span><br><span style='font-family: Arial, sans-serif;'><b>Type:</b> SINGLE_FAMILY</span><br><span style='font-family: Arial, sans-serif;'><b>Price:</b> $775,000</span>",
           38.926974,
           -77.031012
          ],
          [
           "<b style='font-family: Arial, sans-serif; font-size: 14px;'>4822 BLAGDEN AVE NW</b><br><span style='font-family: Arial, sans-serif;'>WASHINGTON, DC, 20011</span><br><span style='font-family: Arial, sans-serif;'><b>Type:</b> SINGLE_FAMILY</span><br><span style='font-family: Arial, sans-serif;'><b>Beds:</b> 5.0</span><br><span style='font-family: Arial, sans-serif;'><b>Baths:</b> 4.5</span><br><span style='font-family: Arial, sans-serif;'><b>Sq Ft:</b> 5,345</span><br><span style='font-family: Arial, sans-serif;'><b>Year Built:</b> 1940</span><br><span style='font-family: Arial, sans-serif;'><b>Price:</b> $1,899,000</span>",
           38.949515,
           -77.038431
          ],
          [
           "<b style='font-family: Arial, sans-serif; font-size: 14px;'>4022 WARREN ST NW</b><br><span style='font-family: Arial, sans-serif;'>WASHINGTON, DC, 20016</span><br><span style='font-family: Arial, sans-serif;'><b>Type:</b> SINGLE_FAMILY</span><br><span style='font-family: Arial, sans-serif;'><b>Beds:</b> 5.0</span><br><span style='font-family: Arial, sans-serif;'><b>Baths:</b> 4.5</span><br><span style='font-family: Arial, sans-serif;'><b>Sq Ft:</b> 2,071</span><br><span style='font-family: Arial, sans-serif;'><b>Year Built:</b> 1941</span><br><span style='font-family: Arial, sans-serif;'><b>Price:</b> $1,850,000</span>",
           38.944584,
           -77.079767
          ],
          [
           "<b style='font-family: Arial, sans-serif; font-size: 14px;'>3108 WESTOVER DR SE</b><br><span style='font-family: Arial, sans-serif;'>WASHINGTON, DC, 20020</span><br><span style='font-family: Arial, sans-serif;'><b>Type:</b> SINGLE_FAMILY</span><br><span style='font-family: Arial, sans-serif;'><b>Beds:</b> 4.0</span><br><span style='font-family: Arial, sans-serif;'><b>Baths:</b> 4.0</span><br><span style='font-family: Arial, sans-serif;'><b>Sq Ft:</b> 2,775</span><br><span style='font-family: Arial, sans-serif;'><b>Year Built:</b> 1950</span><br><span style='font-family: Arial, sans-serif;'><b>Price:</b> $900,000</span>",
           38.868548,
           -76.963423
          ],
          [
           "<b style='font-family: Arial, sans-serif; font-size: 14px;'>7721 16TH ST NW</b><br><span style='font-family: Arial, sans-serif;'>WASHINGTON, DC, 20012</span><br><span style='font-family: Arial, sans-serif;'><b>Type:</b> SINGLE_FAMILY</span><br><span style='font-family: Arial, sans-serif;'><b>Beds:</b> 4.0</span><br><span style='font-family: Arial, sans-serif;'><b>Baths:</b> 3.5</span><br><span style='font-family: Arial, sans-serif;'><b>Sq Ft:</b> 3,059</span><br><span style='font-family: Arial, sans-serif;'><b>Year Built:</b> 1934</span><br><span style='font-family: Arial, sans-serif;'><b>Price:</b> $1,200,000</span>",
           38.98433,
           -77.035873
          ],
          [
           "<b style='font-family: Arial, sans-serif; font-size: 14px;'>4423 19TH PL NE</b><br><span style='font-family: Arial, sans-serif;'>WASHINGTON, DC, 20018</span><br><span style='font-family: Arial, sans-serif;'><b>Type:</b> SINGLE_FAMILY</span><br><span style='font-family: Arial, sans-serif;'><b>Beds:</b> 6.0</span><br><span style='font-family: Arial, sans-serif;'><b>Baths:</b> 4.5</span><br><span style='font-family: Arial, sans-serif;'><b>Sq Ft:</b> 3,500</span><br><span style='font-family: Arial, sans-serif;'><b>Year Built:</b> 1962</span><br><span style='font-family: Arial, sans-serif;'><b>Price:</b> $1,050,000</span>",
           38.943944,
           -76.976994
          ],
          [
           "<b style='font-family: Arial, sans-serif; font-size: 14px;'>1430 33RD ST NW</b><br><span style='font-family: Arial, sans-serif;'>WASHINGTON, DC, 20007</span><br><span style='font-family: Arial, sans-serif;'><b>Type:</b> SINGLE_FAMILY</span><br><span style='font-family: Arial, sans-serif;'><b>Beds:</b> 5.0</span><br><span style='font-family: Arial, sans-serif;'><b>Baths:</b> 5.5</span><br><span style='font-family: Arial, sans-serif;'><b>Sq Ft:</b> 4,230</span><br><span style='font-family: Arial, sans-serif;'><b>Price:</b> $4,750,000</span>",
           38.908635,
           -77.066332
          ],
          [
           "<b style='font-family: Arial, sans-serif; font-size: 14px;'>2213 KING PL NW</b><br><span style='font-family: Arial, sans-serif;'>WASHINGTON, DC, 20007</span><br><span style='font-family: Arial, sans-serif;'><b>Type:</b> SINGLE_FAMILY</span><br><span style='font-family: Arial, sans-serif;'><b>Beds:</b> 7.0</span><br><span style='font-family: Arial, sans-serif;'><b>Baths:</b> 9.0</span><br><span style='font-family: Arial, sans-serif;'><b>Sq Ft:</b> 8,044</span><br><span style='font-family: Arial, sans-serif;'><b>Year Built:</b> 2007</span><br><span style='font-family: Arial, sans-serif;'><b>Price:</b> $3,795,000</span>",
           38.920194,
           -77.09519
          ],
          [
           "<b style='font-family: Arial, sans-serif; font-size: 14px;'>2738 BRANDYWINE ST NW</b><br><span style='font-family: Arial, sans-serif;'>WASHINGTON, DC, 20008</span><br><span style='font-family: Arial, sans-serif;'><b>Type:</b> SINGLE_FAMILY</span><br><span style='font-family: Arial, sans-serif;'><b>Beds:</b> 4.0</span><br><span style='font-family: Arial, sans-serif;'><b>Baths:</b> 4.0</span><br><span style='font-family: Arial, sans-serif;'><b>Sq Ft:</b> 7,319</span><br><span style='font-family: Arial, sans-serif;'><b>Year Built:</b> 2001</span><br><span style='font-family: Arial, sans-serif;'><b>Price:</b> $2,900,000</span>",
           38.950004,
           -77.054243
          ],
          [
           "<b style='font-family: Arial, sans-serif; font-size: 14px;'>806 FERN PL NW</b><br><span style='font-family: Arial, sans-serif;'>WASHINGTON, DC, 20012</span><br><span style='font-family: Arial, sans-serif;'><b>Type:</b> SINGLE_FAMILY</span><br><span style='font-family: Arial, sans-serif;'><b>Beds:</b> 3.0</span><br><span style='font-family: Arial, sans-serif;'><b>Baths:</b> 4.5</span><br><span style='font-family: Arial, sans-serif;'><b>Sq Ft:</b> 2,465</span><br><span style='font-family: Arial, sans-serif;'><b>Year Built:</b> 1923</span><br><span style='font-family: Arial, sans-serif;'><b>Price:</b> $1,100,000</span>",
           38.978032,
           -77.025101
          ],
          [
           "<b style='font-family: Arial, sans-serif; font-size: 14px;'>3824 17TH ST NE</b><br><span style='font-family: Arial, sans-serif;'>WASHINGTON, DC, 20018</span><br><span style='font-family: Arial, sans-serif;'><b>Type:</b> SINGLE_FAMILY</span><br><span style='font-family: Arial, sans-serif;'><b>Beds:</b> 3.0</span><br><span style='font-family: Arial, sans-serif;'><b>Baths:</b> 2.5</span><br><span style='font-family: Arial, sans-serif;'><b>Sq Ft:</b> 2,344</span><br><span style='font-family: Arial, sans-serif;'><b>Year Built:</b> 1958</span><br><span style='font-family: Arial, sans-serif;'><b>Price:</b> $584,900</span>",
           38.937083,
           -76.981776
          ],
          [
           "<b style='font-family: Arial, sans-serif; font-size: 14px;'>3305 CHESTNUT ST NW</b><br><span style='font-family: Arial, sans-serif;'>WASHINGTON, DC, 20015</span><br><span style='font-family: Arial, sans-serif;'><b>Type:</b> SINGLE_FAMILY</span><br><span style='font-family: Arial, sans-serif;'><b>Beds:</b> 3.0</span><br><span style='font-family: Arial, sans-serif;'><b>Baths:</b> 2.5</span><br><span style='font-family: Arial, sans-serif;'><b>Sq Ft:</b> 2,100</span><br><span style='font-family: Arial, sans-serif;'><b>Year Built:</b> 1948</span><br><span style='font-family: Arial, sans-serif;'><b>Price:</b> $1,160,000</span>",
           38.980076,
           -77.06033
          ],
          [
           "<b style='font-family: Arial, sans-serif; font-size: 14px;'>2105 4TH ST NE</b><br><span style='font-family: Arial, sans-serif;'>WASHINGTON, DC, 20002</span><br><span style='font-family: Arial, sans-serif;'><b>Type:</b> SINGLE_FAMILY</span><br><span style='font-family: Arial, sans-serif;'><b>Beds:</b> 4.0</span><br><span style='font-family: Arial, sans-serif;'><b>Baths:</b> 3.0</span><br><span style='font-family: Arial, sans-serif;'><b>Sq Ft:</b> 1,926</span><br><span style='font-family: Arial, sans-serif;'><b>Year Built:</b> 1905</span><br><span style='font-family: Arial, sans-serif;'><b>Price:</b> $1,199,000</span>",
           38.918389,
           -77.000244
          ],
          [
           "<b style='font-family: Arial, sans-serif; font-size: 14px;'>1660 MICHIGAN AVE NE</b><br><span style='font-family: Arial, sans-serif;'>WASHINGTON, DC, 20017</span><br><span style='font-family: Arial, sans-serif;'><b>Type:</b> SINGLE_FAMILY</span><br><span style='font-family: Arial, sans-serif;'><b>Beds:</b> 3.0</span><br><span style='font-family: Arial, sans-serif;'><b>Baths:</b> 1.0</span><br><span style='font-family: Arial, sans-serif;'><b>Sq Ft:</b> 1,885</span><br><span style='font-family: Arial, sans-serif;'><b>Year Built:</b> 1940</span><br><span style='font-family: Arial, sans-serif;'><b>Price:</b> $605,000</span>",
           38.943184,
           -76.980848
          ],
          [
           "<b style='font-family: Arial, sans-serif; font-size: 14px;'>2600 30TH ST NE</b><br><span style='font-family: Arial, sans-serif;'>WASHINGTON, DC, 20018</span><br><span style='font-family: Arial, sans-serif;'><b>Type:</b> SINGLE_FAMILY</span><br><span style='font-family: Arial, sans-serif;'><b>Beds:</b> 4.0</span><br><span style='font-family: Arial, sans-serif;'><b>Baths:</b> 3.5</span><br><span style='font-family: Arial, sans-serif;'><b>Sq Ft:</b> 1,800</span><br><span style='font-family: Arial, sans-serif;'><b>Year Built:</b> 1925</span><br><span style='font-family: Arial, sans-serif;'><b>Price:</b> $599,900</span>",
           38.924143,
           -76.966872
          ],
          [
           "<b style='font-family: Arial, sans-serif; font-size: 14px;'>3111 GARFIELD ST NW</b><br><span style='font-family: Arial, sans-serif;'>WASHINGTON, DC, 20008</span><br><span style='font-family: Arial, sans-serif;'><b>Type:</b> SINGLE_FAMILY</span><br><span style='font-family: Arial, sans-serif;'><b>Beds:</b> 4.0</span><br><span style='font-family: Arial, sans-serif;'><b>Baths:</b> 4.0</span><br><span style='font-family: Arial, sans-serif;'><b>Sq Ft:</b> 3,362</span><br><span style='font-family: Arial, sans-serif;'><b>Year Built:</b> 1925</span><br><span style='font-family: Arial, sans-serif;'><b>Price:</b> $2,475,000</span>",
           38.927746,
           -77.062614
          ],
          [
           "<b style='font-family: Arial, sans-serif; font-size: 14px;'>2862 28TH ST NW</b><br><span style='font-family: Arial, sans-serif;'>WASHINGTON, DC, 20008</span><br><span style='font-family: Arial, sans-serif;'><b>Type:</b> SINGLE_FAMILY</span><br><span style='font-family: Arial, sans-serif;'><b>Beds:</b> 5.0</span><br><span style='font-family: Arial, sans-serif;'><b>Baths:</b> 3.5</span><br><span style='font-family: Arial, sans-serif;'><b>Sq Ft:</b> 4,350</span><br><span style='font-family: Arial, sans-serif;'><b>Year Built:</b> 1910</span><br><span style='font-family: Arial, sans-serif;'><b>Price:</b> $2,495,000</span>",
           38.928335,
           -77.05663
          ],
          [
           "<b style='font-family: Arial, sans-serif; font-size: 14px;'>4835 LINNEAN AVE NW</b><br><span style='font-family: Arial, sans-serif;'>WASHINGTON, DC, 20008</span><br><span style='font-family: Arial, sans-serif;'><b>Type:</b> SINGLE_FAMILY</span><br><span style='font-family: Arial, sans-serif;'><b>Beds:</b> 3.0</span><br><span style='font-family: Arial, sans-serif;'><b>Baths:</b> 3.5</span><br><span style='font-family: Arial, sans-serif;'><b>Sq Ft:</b> 2,431</span><br><span style='font-family: Arial, sans-serif;'><b>Year Built:</b> 1928</span><br><span style='font-family: Arial, sans-serif;'><b>Price:</b> $1,599,000</span>",
           38.952833,
           -77.061062
          ],
          [
           "<b style='font-family: Arial, sans-serif; font-size: 14px;'>1323 IRVING ST NE</b><br><span style='font-family: Arial, sans-serif;'>WASHINGTON, DC, 20017</span><br><span style='font-family: Arial, sans-serif;'><b>Type:</b> SINGLE_FAMILY</span><br><span style='font-family: Arial, sans-serif;'><b>Beds:</b> 2.0</span><br><span style='font-family: Arial, sans-serif;'><b>Baths:</b> 1.0</span><br><span style='font-family: Arial, sans-serif;'><b>Sq Ft:</b> 750</span><br><span style='font-family: Arial, sans-serif;'><b>Year Built:</b> 1925</span><br><span style='font-family: Arial, sans-serif;'><b>Price:</b> $375,000</span>",
           38.928462,
           -76.987339
          ],
          [
           "<b style='font-family: Arial, sans-serif; font-size: 14px;'>5224 CLOUD PL NE</b><br><span style='font-family: Arial, sans-serif;'>WASHINGTON, DC, 20019</span><br><span style='font-family: Arial, sans-serif;'><b>Type:</b> SINGLE_FAMILY</span><br><span style='font-family: Arial, sans-serif;'><b>Beds:</b> 2.0</span><br><span style='font-family: Arial, sans-serif;'><b>Baths:</b> 1.0</span><br><span style='font-family: Arial, sans-serif;'><b>Sq Ft:</b> 1,242</span><br><span style='font-family: Arial, sans-serif;'><b>Year Built:</b> 1905</span><br><span style='font-family: Arial, sans-serif;'><b>Price:</b> $299,000</span>",
           38.894578,
           -76.925807
          ],
          [
           "<b style='font-family: Arial, sans-serif; font-size: 14px;'>4709 FOXHALL CRES NW</b><br><span style='font-family: Arial, sans-serif;'>WASHINGTON, DC, 20007</span><br><span style='font-family: Arial, sans-serif;'><b>Type:</b> SINGLE_FAMILY</span><br><span style='font-family: Arial, sans-serif;'><b>Beds:</b> 4.0</span><br><span style='font-family: Arial, sans-serif;'><b>Baths:</b> 4.5</span><br><span style='font-family: Arial, sans-serif;'><b>Sq Ft:</b> 5,406</span><br><span style='font-family: Arial, sans-serif;'><b>Year Built:</b> 1987</span><br><span style='font-family: Arial, sans-serif;'><b>Price:</b> $2,550,000</span>",
           38.921736,
           -77.093468
          ],
          [
           "<b style='font-family: Arial, sans-serif; font-size: 14px;'>2330 PAYNE TER SE</b><br><span style='font-family: Arial, sans-serif;'>WASHINGTON, DC, 20020</span><br><span style='font-family: Arial, sans-serif;'><b>Type:</b> SINGLE_FAMILY</span><br><span style='font-family: Arial, sans-serif;'><b>Beds:</b> 4.0</span><br><span style='font-family: Arial, sans-serif;'><b>Baths:</b> 2.5</span><br><span style='font-family: Arial, sans-serif;'><b>Sq Ft:</b> 1,400</span><br><span style='font-family: Arial, sans-serif;'><b>Year Built:</b> 1950</span><br><span style='font-family: Arial, sans-serif;'><b>Price:</b> $549,000</span>",
           38.8629566,
           -76.9886414
          ],
          [
           "<b style='font-family: Arial, sans-serif; font-size: 14px;'>2409 49TH ST NW</b><br><span style='font-family: Arial, sans-serif;'>WASHINGTON, DC, 20007</span><br><span style='font-family: Arial, sans-serif;'><b>Type:</b> SINGLE_FAMILY</span><br><span style='font-family: Arial, sans-serif;'><b>Beds:</b> 5.0</span><br><span style='font-family: Arial, sans-serif;'><b>Baths:</b> 5.5</span><br><span style='font-family: Arial, sans-serif;'><b>Sq Ft:</b> 4,928</span><br><span style='font-family: Arial, sans-serif;'><b>Year Built:</b> 1969</span><br><span style='font-family: Arial, sans-serif;'><b>Price:</b> $3,125,000</span>",
           38.923197,
           -77.094975
          ],
          [
           "<b style='font-family: Arial, sans-serif; font-size: 14px;'>3750 NORTHAMPTON ST NW</b><br><span style='font-family: Arial, sans-serif;'>WASHINGTON, DC, 20015</span><br><span style='font-family: Arial, sans-serif;'><b>Type:</b> SINGLE_FAMILY</span><br><span style='font-family: Arial, sans-serif;'><b>Beds:</b> 4.0</span><br><span style='font-family: Arial, sans-serif;'><b>Baths:</b> 3.5</span><br><span style='font-family: Arial, sans-serif;'><b>Sq Ft:</b> 3,212</span><br><span style='font-family: Arial, sans-serif;'><b>Year Built:</b> 1908</span><br><span style='font-family: Arial, sans-serif;'><b>Price:</b> $2,200,000</span>",
           38.96557,
           -77.074414
          ],
          [
           "<b style='font-family: Arial, sans-serif; font-size: 14px;'>2414 32ND ST SE</b><br><span style='font-family: Arial, sans-serif;'>WASHINGTON, DC, 20020</span><br><span style='font-family: Arial, sans-serif;'><b>Type:</b> SINGLE_FAMILY</span><br><span style='font-family: Arial, sans-serif;'><b>Beds:</b> 3.0</span><br><span style='font-family: Arial, sans-serif;'><b>Baths:</b> 3.0</span><br><span style='font-family: Arial, sans-serif;'><b>Sq Ft:</b> 2,510</span><br><span style='font-family: Arial, sans-serif;'><b>Year Built:</b> 1934</span><br><span style='font-family: Arial, sans-serif;'><b>Price:</b> $725,000</span>",
           38.859903,
           -76.961128
          ],
          [
           "<b style='font-family: Arial, sans-serif; font-size: 14px;'>6915 33RD ST NW</b><br><span style='font-family: Arial, sans-serif;'>WASHINGTON, DC, 20015</span><br><span style='font-family: Arial, sans-serif;'><b>Type:</b> SINGLE_FAMILY</span><br><span style='font-family: Arial, sans-serif;'><b>Beds:</b> 3.0</span><br><span style='font-family: Arial, sans-serif;'><b>Baths:</b> 2.0</span><br><span style='font-family: Arial, sans-serif;'><b>Sq Ft:</b> 1,848</span><br><span style='font-family: Arial, sans-serif;'><b>Year Built:</b> 1950</span><br><span style='font-family: Arial, sans-serif;'><b>Price:</b> $1,165,000</span>",
           38.980481,
           -77.058622
          ],
          [
           "<b style='font-family: Arial, sans-serif; font-size: 14px;'>2241 DOUGLAS ST NE</b><br><span style='font-family: Arial, sans-serif;'>WASHINGTON, DC, 20018</span><br><span style='font-family: Arial, sans-serif;'><b>Type:</b> SINGLE_FAMILY</span><br><span style='font-family: Arial, sans-serif;'><b>Beds:</b> 4.0</span><br><span style='font-family: Arial, sans-serif;'><b>Baths:</b> 3.5</span><br><span style='font-family: Arial, sans-serif;'><b>Sq Ft:</b> 2,000</span><br><span style='font-family: Arial, sans-serif;'><b>Year Built:</b> 1908</span><br><span style='font-family: Arial, sans-serif;'><b>Price:</b> $649,999</span>",
           38.923182,
           -76.972719
          ],
          [
           "<b style='font-family: Arial, sans-serif; font-size: 14px;'>1821 41ST PL SE</b><br><span style='font-family: Arial, sans-serif;'>WASHINGTON, DC, 20020</span><br><span style='font-family: Arial, sans-serif;'><b>Type:</b> SINGLE_FAMILY</span><br><span style='font-family: Arial, sans-serif;'><b>Beds:</b> 3.0</span><br><span style='font-family: Arial, sans-serif;'><b>Baths:</b> 2.0</span><br><span style='font-family: Arial, sans-serif;'><b>Sq Ft:</b> 1,782</span><br><span style='font-family: Arial, sans-serif;'><b>Year Built:</b> 1941</span><br><span style='font-family: Arial, sans-serif;'><b>Price:</b> $359,900</span>",
           38.865953,
           -76.945058
          ],
          [
           "<b style='font-family: Arial, sans-serif; font-size: 14px;'>3313 CORNWELL DR SE</b><br><span style='font-family: Arial, sans-serif;'>WASHINGTON, DC, 20032</span><br><span style='font-family: Arial, sans-serif;'><b>Type:</b> SINGLE_FAMILY</span><br><span style='font-family: Arial, sans-serif;'><b>Beds:</b> 3.0</span><br><span style='font-family: Arial, sans-serif;'><b>Baths:</b> 3.5</span><br><span style='font-family: Arial, sans-serif;'><b>Sq Ft:</b> 2,052</span><br><span style='font-family: Arial, sans-serif;'><b>Year Built:</b> 2004</span><br><span style='font-family: Arial, sans-serif;'><b>Price:</b> $580,000</span>",
           38.840616,
           -76.996459
          ],
          [
           "<b style='font-family: Arial, sans-serif; font-size: 14px;'>3541 ORDWAY ST NW</b><br><span style='font-family: Arial, sans-serif;'>WASHINGTON, DC, 20016</span><br><span style='font-family: Arial, sans-serif;'><b>Type:</b> SINGLE_FAMILY</span><br><span style='font-family: Arial, sans-serif;'><b>Beds:</b> 5.0</span><br><span style='font-family: Arial, sans-serif;'><b>Baths:</b> 5.5</span><br><span style='font-family: Arial, sans-serif;'><b>Sq Ft:</b> 4,324</span><br><span style='font-family: Arial, sans-serif;'><b>Year Built:</b> 1967</span><br><span style='font-family: Arial, sans-serif;'><b>Price:</b> $2,600,000</span>",
           38.936612,
           -77.070408
          ],
          [
           "<b style='font-family: Arial, sans-serif; font-size: 14px;'>7030 OREGON AVE NW</b><br><span style='font-family: Arial, sans-serif;'>WASHINGTON, DC, 20015</span><br><span style='font-family: Arial, sans-serif;'><b>Type:</b> SINGLE_FAMILY</span><br><span style='font-family: Arial, sans-serif;'><b>Beds:</b> 6.0</span><br><span style='font-family: Arial, sans-serif;'><b>Baths:</b> 5.5</span><br><span style='font-family: Arial, sans-serif;'><b>Sq Ft:</b> 6,044</span><br><span style='font-family: Arial, sans-serif;'><b>Year Built:</b> 1956</span><br><span style='font-family: Arial, sans-serif;'><b>Price:</b> $1,499,000</span>",
           38.984332,
           -77.053568
          ],
          [
           "<b style='font-family: Arial, sans-serif; font-size: 14px;'>5050 B ST SE</b><br><span style='font-family: Arial, sans-serif;'>WASHINGTON, DC, 20019</span><br><span style='font-family: Arial, sans-serif;'><b>Type:</b> SINGLE_FAMILY</span><br><span style='font-family: Arial, sans-serif;'><b>Beds:</b> 5.0</span><br><span style='font-family: Arial, sans-serif;'><b>Baths:</b> 3.5</span><br><span style='font-family: Arial, sans-serif;'><b>Sq Ft:</b> 2,760</span><br><span style='font-family: Arial, sans-serif;'><b>Year Built:</b> 2025</span><br><span style='font-family: Arial, sans-serif;'><b>Price:</b> $650,000</span>",
           38.886634,
           -76.928482
          ],
          [
           "<b style='font-family: Arial, sans-serif; font-size: 14px;'>5361 SHERIER PL NW</b><br><span style='font-family: Arial, sans-serif;'>WASHINGTON, DC, 20016</span><br><span style='font-family: Arial, sans-serif;'><b>Type:</b> SINGLE_FAMILY</span><br><span style='font-family: Arial, sans-serif;'><b>Beds:</b> 6.0</span><br><span style='font-family: Arial, sans-serif;'><b>Baths:</b> 5.5</span><br><span style='font-family: Arial, sans-serif;'><b>Sq Ft:</b> 4,321</span><br><span style='font-family: Arial, sans-serif;'><b>Year Built:</b> 2024</span><br><span style='font-family: Arial, sans-serif;'><b>Price:</b> $2,495,000</span>",
           38.928403,
           -77.106187
          ],
          [
           "<b style='font-family: Arial, sans-serif; font-size: 14px;'>3801 17TH ST NE</b><br><span style='font-family: Arial, sans-serif;'>WASHINGTON, DC, 20018</span><br><span style='font-family: Arial, sans-serif;'><b>Type:</b> SINGLE_FAMILY</span><br><span style='font-family: Arial, sans-serif;'><b>Beds:</b> 4.0</span><br><span style='font-family: Arial, sans-serif;'><b>Baths:</b> 2.5</span><br><span style='font-family: Arial, sans-serif;'><b>Sq Ft:</b> 1,803</span><br><span style='font-family: Arial, sans-serif;'><b>Year Built:</b> 1941</span><br><span style='font-family: Arial, sans-serif;'><b>Price:</b> $700,000</span>",
           38.936174,
           -76.9812
          ],
          [
           "<b style='font-family: Arial, sans-serif; font-size: 14px;'>2511 PALMER PL SE</b><br><span style='font-family: Arial, sans-serif;'>WASHINGTON, DC, 20020</span><br><span style='font-family: Arial, sans-serif;'><b>Type:</b> SINGLE_FAMILY</span><br><span style='font-family: Arial, sans-serif;'><b>Beds:</b> 3.0</span><br><span style='font-family: Arial, sans-serif;'><b>Baths:</b> 2.0</span><br><span style='font-family: Arial, sans-serif;'><b>Sq Ft:</b> 2,242</span><br><span style='font-family: Arial, sans-serif;'><b>Year Built:</b> 1928</span><br><span style='font-family: Arial, sans-serif;'><b>Price:</b> $550,000</span>",
           38.872068,
           -76.970316
          ],
          [
           "<b style='font-family: Arial, sans-serif; font-size: 14px;'>315 QUACKENBOS ST NE</b><br><span style='font-family: Arial, sans-serif;'>WASHINGTON, DC, 20011</span><br><span style='font-family: Arial, sans-serif;'><b>Type:</b> SINGLE_FAMILY</span><br><span style='font-family: Arial, sans-serif;'><b>Beds:</b> 4.0</span><br><span style='font-family: Arial, sans-serif;'><b>Baths:</b> 3.0</span><br><span style='font-family: Arial, sans-serif;'><b>Sq Ft:</b> 1,917</span><br><span style='font-family: Arial, sans-serif;'><b>Year Built:</b> 1950</span><br><span style='font-family: Arial, sans-serif;'><b>Price:</b> $549,000</span>",
           38.96347,
           -77.001962
          ]
         ],
         "hovertemplate": "%{customdata[0]}",
         "hovertext": [
          "3434 OAKWOOD TER NW",
          "2605 MONROE ST NE",
          "1248 31ST ST NW",
          "5643 CLAY PL NE",
          "3826 VAN NESS ST NW",
          "3115 G ST SE",
          "3027 YOST PL NE",
          "2830 FORT BAKER DR SE",
          "4358 ARGYLE TER NW",
          "3904 18TH ST NW",
          "322 56TH ST NE",
          "4506 BROOKS ST NE",
          "5102 CALL PL SE",
          "3619 AUSTIN ST SE",
          "3819 KANAWHA ST NW",
          "1406 INGRAHAM ST NW",
          "114 SHERIDAN ST NW",
          "1908 IRVING ST NE",
          "1317 GALLATIN ST NW",
          "3418 RESERVOIR RD NW",
          "4641 DEXTER ST NW",
          "4501 CATHEDRAL AVE NW",
          "3406 MACOMB ST NW",
          "3737 HORNER PL SE",
          "712 ALABAMA AVE SE",
          "4905 QUARLES ST NE",
          "4304 RIVER RD NW",
          "3316 OXON RUN RD SE",
          "150 CHESAPEAKE ST SW",
          "2038 34TH ST SE",
          "1518 W ST SE",
          "1321 LONGFELLOW ST NW",
          "3016 THAYER ST NE",
          "3307 NEWARK ST NW",
          "2428 SOUTH DAKOTA AVE NE",
          "2112 BRANCH AVE SE",
          "5700 BLAIR RD NE",
          "3082 CLINTON ST NE",
          "4914 3RD ST NW",
          "2800 32ND ST NW",
          "225 56TH PL NE",
          "1401 MONROE ST NE",
          "7225 WESTERN AVE NW",
          "3195 WESTOVER DR SE",
          "1022 BRYANT ST NE",
          "3500 GARFIELD ST NW",
          "4625 TILDEN ST NW",
          "5135 YUMA ST NW",
          "1400 MONTAGUE ST NW",
          "3300 18TH PL SE",
          "3207 NORTHAMPTON ST NW",
          "5024 GREEN VALLEY RD",
          "5501 MACARTHUR BLVD NW",
          "4723 SHERIFF RD NE",
          "1414 HEMLOCK ST NW",
          "4217 46TH ST NW",
          "6144 UTAH AVE NW",
          "1820 47TH PL NW",
          "4907 14TH ST NW",
          "6200 CLAY ST NE",
          "4604 JAY ST NE",
          "4299 SANDY HOLLOW LN",
          "224 21ST ST NE",
          "256 57TH ST NE",
          "4214 8TH ST NW",
          "2701 32ND ST NW",
          "3320 M ST SE",
          "3639 ALTON PL NW",
          "1234 MONROE ST NE",
          "3115 CLEVELAND AVE NW",
          "4110 4TH ST NW",
          "4104 MARTIN LUTHER KING JR AVE SW",
          "2837 MYRTLE AVE NE",
          "7054 WYNDALE ST NW",
          "1935 FOXVIEW CIR NW",
          "2528 ELVANS RD SE",
          "5823 FIELD PL NE",
          "6932 8TH ST NW",
          "622 JEFFERSON ST NW",
          "4414 LOWELL ST NW",
          "6302 30TH ST NW",
          "21 EVARTS ST NE",
          "3740 KANAWHA ST NW",
          "210 PEABODY ST NW",
          "3838 52ND ST NW",
          "2807 13TH ST NE",
          "651 CONSTITUTION AVE NE UNIT 1-4",
          "3309 22ND ST NE",
          "2901 ELLICOTT TER NW",
          "2109 DUNMORE LN NW",
          "3521 HIGHWOOD DR SE",
          "1137 WAHLER PL SE",
          "217 PEABODY ST NW",
          "143 SAWMILL RD",
          "5022 CATHEDRAL AVE NW",
          "1227 MICHIGAN AVE NE",
          "2204 BUNKER HILL RD NE",
          "317 60TH ST NE",
          "1671 31ST ST NW",
          "1610 FOXHALL RD NW",
          "1363 H ST NE",
          "4101 21ST ST NE",
          "2206 32ND PL SE",
          "613 4TH PL SW",
          "1336 30TH ST SE",
          "3023 NW #Q",
          "717 46TH ST SE",
          "216 WHITTIER ST NW",
          "3914 18TH ST NE",
          "3717 CAMDEN ST SE",
          "4511 43RD PL NW",
          "4911 SARGENT RD NE",
          "5706 26TH ST NW",
          "2439 WYOMING AVE NW",
          "4821 RODMAN ST NW",
          "405 60TH ST NE",
          "4927 BUTTERWORTH PL NW",
          "3930 1ST ST SW",
          "5402 BASS PL SE",
          "1501 ERIE ST SE",
          "900 HAMLIN ST NE",
          "2549 ALABAMA AVE SE",
          "408 44TH ST NE",
          "4445 FARADAY PL NW",
          "3102 SOUTH DAKOTA AVE NE",
          "2005 48TH ST NW",
          "5015 WARREN ST NW",
          "1535 KEARNY ST NE",
          "4421 LOWELL ST NW",
          "1907 FREDERICK DOUGLASS CT SE",
          "4729 13TH ST NW",
          "3605 BROTHERS PL SE",
          "5037 C ST SE",
          "2211 32ND PL SE",
          "4947 ESKRIDGE TER NW",
          "5500 D ST SE",
          "329 CONSTITUTION AVE NE",
          "404 BURBANK ST SE",
          "616 46TH ST NE",
          "6210 8TH ST NW",
          "2921 LANGSTON PL SE",
          "3101 CLEVELAND AVE NW",
          "1605 KENNEDY PL NW",
          "4928 ASTOR PL SE",
          "8028 EASTERN AVE NW",
          "2522 33RD ST SE",
          "1321 HOLLY ST NW",
          "1601 N PORTAL DR NW",
          "5834 OREGON AVE NW",
          "3113 44TH ST NW",
          "1337 U ST SE",
          "3410 MORRISON ST NW",
          "6518 7TH ST NW",
          "2318 NEBRASKA AVE NW",
          "1023 49TH PL NE",
          "8120 EASTERN AVE NW",
          "3549 SPRINGLAND LN NW",
          "1821 SUDBURY LN NW",
          "4244 CLAY ST NE",
          "5017 KLINGLE ST NW",
          "2609 KLINGLE RD NW",
          "7310 ALASKA AVE NW",
          "2123 BRANCH AVE SE",
          "1424 42ND PL SE",
          "5020 MEADE ST NE",
          "2838 27TH ST NE",
          "4607 MEADE ST NE",
          "1810 IRVING ST NE",
          "4920 43RD PL NW",
          "4233 CLAY ST NE",
          "4414 13TH PL NE",
          "4410 MEADOW RD NW",
          "5244 WATSON ST NW",
          "1601 28TH ST NW",
          "2950 MACOMB ST NW",
          "3719 S ST NW",
          "4839 JAY ST NE",
          "7407 9TH ST NW",
          "4404 16TH ST NW",
          "3031 GATES RD NW",
          "1030 KEARNY ST NE",
          "1263 SUMNER RD SE",
          "3222 BROAD BRANCH TER NW",
          "4237 FOOTE ST NE",
          "2804 RHODE ISLAND AVE NE",
          "1420 MICHIGAN AVE NE",
          "1334 CORBIN PL NE",
          "1753 VERBENA ST NW",
          "3030 44TH ST NW",
          "1358 MADISON ST NW",
          "5347 BASS PL SE",
          "1224 BRENTWOOD RD NE",
          "1355 MONTAGUE ST NW",
          "4615 SEDGWICK ST NW",
          "1319 DECATUR ST NW",
          "3100 APPLETON ST NW",
          "3363 BROTHERS PL SE",
          "3022 23RD ST SE",
          "4423 P ST NW",
          "2411 TRACY PL NW",
          "5620 FOOTE ST NE",
          "2628 MYRTLE AVE NE",
          "2030 JASPER ST SE",
          "913 L ST NE",
          "5431 POTOMAC AVE NW",
          "2907 CARLTON AVE NE",
          "2830 30TH ST NE",
          "6920 8TH ST NW",
          "2319 BANCROFT PL NW",
          "1323 TEWKESBURY PL NW",
          "1207 33RD PL SE",
          "89 58TH ST SE",
          "6201 UTAH AVE NW",
          "669 OGLETHORPE ST NE",
          "3702 22ND ST NE",
          "3131 CHAIN BRIDGE RD NW",
          "3614 14TH ST NE",
          "1639 35TH ST NW",
          "1711 25TH ST SE",
          "715 G ST SE",
          "1329 TUCKERMAN ST NW",
          "5531 33RD ST NW",
          "5021 A ST SE",
          "2824 CHAIN BRIDGE RD NW",
          "4433 HUNT PL NE",
          "1323 FERNWAY RD NW",
          "1735 FRASER CT NW",
          "1606 25TH ST SE",
          "809 55TH ST NE",
          "2866 ARIZONA TER NW",
          "1216 42ND PL NE",
          "5821 MACARTHUR BLVD NW",
          "609 TEWKESBURY PL NW",
          "5320 27TH ST NW",
          "5903 WHIPPOORWILL RD",
          "1843 47TH PL NW",
          "3030 OTIS ST NE",
          "8112 W BEACH DR NW",
          "1013 48TH ST NE",
          "1370 PERRY PL NW",
          "108 COURTLAND DR",
          "1009 CONGRESS ST SE",
          "840 DIVISION AVE NE",
          "2429 CALIFORNIA ST NW",
          "4314 BOWEN RD SE",
          "2815 WOODLAND DR NW",
          "3415 FULTON ST NW",
          "5330 32ND ST NW",
          "1614 TUCKERMAN ST NW",
          "2 LOIS MAILOU JONES ALY NW",
          "2622 RHODE ISLAND AVE NE",
          "5332 D ST SE",
          "3701 SOUTH DAKOTA AVE NE",
          "3508 PROSPECT ST NW",
          "5309 2ND ST NW",
          "5409 E CAPITOL ST SE",
          "1631 G ST SE",
          "5006 LEE ST NE",
          "3922 JENIFER ST NW",
          "3130 38TH ST NW",
          "2715 22ND ST NE",
          "3718 BRANDYWINE ST NW",
          "1922 CAPITOL AVE NE",
          "1210 F ST NE",
          "1440 NEWTON ST NE",
          "5068 SHERIER PL NW",
          "1523 31ST ST NW",
          "1027 COOK DR SE",
          "2396 ELVANS RD SE",
          "1671 FORT DUPONT ST SE",
          "4915 NASH ST NE",
          "3313 22ND ST NE",
          "1512 MONTANA AVE NE",
          "3951 MASSACHUSETTS AVE NW",
          "208 ELLIE WAY",
          "1925 LAWRENCE ST NE",
          "5816 MACARTHUR BLVD NW",
          "1432 SHERIDAN ST NW",
          "5200 AMES ST NE",
          "47 GALLATIN ST NW",
          "5126 WARREN PL NW",
          "4564 INDIAN ROCK TER NW",
          "4519 CATHEDRAL AVE NW",
          "2711 14TH ST NE",
          "600 G ST SE",
          "1714 33RD PL SE",
          "5509 33RD ST NW",
          "5463 NEBRASKA AVE NW",
          "2946 MACOMB ST NW",
          "3006 SOUTH DAKOTA AVE NE",
          "3124 38TH ST NW",
          "4516 43RD ST NW",
          "4869 GLENBROOK RD NW",
          "5738 7TH ST NW",
          "3137 18TH ST NE",
          "4908 A ST SE",
          "4838 SHERIFF RD NE",
          "4424 ALABAMA AVE SE",
          "4920 LOUGHBORO RD NW",
          "2855 MILLS AVE NE",
          "2754 CHAIN BRIDGE RD NW",
          "3519 ALTON PL NW",
          "3101 ALABAMA AVE SE",
          "2717 38TH ST NW",
          "504 45TH ST NE",
          "5001 ASTOR PL SE",
          "5100 QUEENS STROLL PL SE",
          "7053 WESTERN AVE NW",
          "2716 36TH PL NW",
          "3121 APPLETON ST NW",
          "1135 46TH ST SE",
          "4267 BROOKS ST NE",
          "2735 MACOMB ST NW",
          "1416 HOLLY ST NW",
          "2506 I ST NW",
          "2321 HIGH ST SE",
          "2913 UNIVERSITY TER NW",
          "3901 NEW HAMPSHIRE AVE NW",
          "4894 MACARTHUR BLVD NW",
          "1530 15TH ST NW",
          "3517 RODMAN ST NW",
          "2804 MYRTLE AVE NE",
          "3703 LEGATION ST NW",
          "5115 42ND ST NW",
          "1427 JACKSON ST NE",
          "4853 ROCKWOOD PKWY NW",
          "4520 YUMA ST NW",
          "3030 CHAIN BRIDGE RD NW",
          "4510 BROOKS ST NE",
          "3300 NEBRASKA AVE NW",
          "716 GRESHAM PL NW",
          "4850 EASTERN AVE NE",
          "1400 FRANKLIN ST NE",
          "5338 JAY ST NE",
          "4701 LINNEAN AVE NW",
          "3121 SOUTH DAKOTA AVE NE",
          "3405 CARPENTER ST SE",
          "2316 CHESTER ST SE",
          "5056 MACOMB ST NW",
          "2804 13TH ST NE",
          "1511 FREEDOM WAY SE",
          "4269 MEADE ST NE",
          "2934 ELLICOTT TER NW",
          "4938 EADS PL NE",
          "1017 48TH ST NE",
          "4522 ALBEMARLE ST NW",
          "828 49TH ST NE",
          "2906 25TH ST NE",
          "651 CONSTITUTION AVE NE # 1-4",
          "4016 21ST ST NE",
          "4711 FOXHALL CRES NW",
          "1117 FERN ST NW",
          "5305 CUSHING PL NW",
          "6021 NORTH DAKOTA AVE NW",
          "1112 51ST PL NE",
          "4704 44TH ST NW",
          "6838 6TH ST NW",
          "1846 REDWOOD TER NW",
          "2611 OTIS ST NE",
          "1121 48TH PL NE",
          "2927 44TH ST NW",
          "1707 MINNESOTA AVE SE",
          "2639 MYRTLE AVE NE",
          "6139 SLIGO MILL RD NE",
          "1520 MONTANA AVE NE",
          "3115 CHAIN BRIDGE RD NW",
          "713 CROISSANT PL SE",
          "525 T ST NW",
          "3229 VISTA ST NE",
          "7223 BLAIR RD NW",
          "1860 19TH ST NW",
          "3729 CARPENTER ST SE",
          "1414 PARKWOOD PL NW",
          "426 61ST ST NE",
          "2947 DAVENPORT ST NW",
          "1616 22ND ST SE",
          "5127 CATHEDRAL AVE NW",
          "1419 LAWRENCE ST NE",
          "4515 GAULT PL NE",
          "1625 31ST ST NW",
          "1413 SWANN ST NW",
          "3617 10TH ST NE",
          "2101 FOXHALL RD NW",
          "2236 CHESTER ST SE",
          "3226 CLEVELAND AVE NW",
          "3141 ABERFOYLE PL NW",
          "4619 WARREN ST NW",
          "4525 28TH ST NW",
          "700 6TH ST SE",
          "3005 45TH ST NW",
          "2217 46TH ST NW",
          "5625 WESTERN AVE NW",
          "4509 CLARK PL NW",
          "407 LEBAUM ST SE",
          "4501 DEXTER ST NW",
          "2410 21ST PL NE",
          "2826 EVARTS ST NE",
          "4224 VAN NESS ST NW",
          "1520 OLIVE ST NE",
          "1926 QUINCY ST NE",
          "5126 CALL PL SE",
          "2750 CHAIN BRIDGE RD NW",
          "4125 46TH ST NW",
          "6116 30TH ST NW",
          "4301 KANSAS AVE NW",
          "4324 YUMA ST NW",
          "3730 CAMDEN ST SE",
          "4825 DEXTER TER NW",
          "4714 UPTON ST NW",
          "1230 CONGRESS ST SE",
          "5064 SEDGWICK ST NW",
          "1720 MASSACHUSETTS AVE NW",
          "140 WILMINGTON PL SE",
          "4532 MACOMB ST NW",
          "2008 TAYLOR ST NE",
          "3530 QUESADA ST NW",
          "3008 30TH ST SE",
          "1316 31ST PL SE",
          "1326 EMERSON ST NW",
          "1414 KEARNY ST NE",
          "26 NICHOLSON ST NW",
          "5206 CLAY ST NE",
          "650 MORTON ST NW",
          "4956 SARGENT RD NE",
          "2611 MYRTLE AVE NE",
          "1231 V ST SE",
          "3219 MORRISON ST NW",
          "5706 NEVADA AVE NW",
          "1405 42ND PL SE",
          "2502 CHAIN BRIDGE RD NW",
          "1337 HARVARD ST NW",
          "4822 BLAGDEN AVE NW",
          "4022 WARREN ST NW",
          "3108 WESTOVER DR SE",
          "7721 16TH ST NW",
          "4423 19TH PL NE",
          "1430 33RD ST NW",
          "2213 KING PL NW",
          "2738 BRANDYWINE ST NW",
          "806 FERN PL NW",
          "3824 17TH ST NE",
          "3305 CHESTNUT ST NW",
          "2105 4TH ST NE",
          "1660 MICHIGAN AVE NE",
          "2600 30TH ST NE",
          "3111 GARFIELD ST NW",
          "2862 28TH ST NW",
          "4835 LINNEAN AVE NW",
          "1323 IRVING ST NE",
          "5224 CLOUD PL NE",
          "4709 FOXHALL CRES NW",
          "2330 PAYNE TER SE",
          "2409 49TH ST NW",
          "3750 NORTHAMPTON ST NW",
          "2414 32ND ST SE",
          "6915 33RD ST NW",
          "2241 DOUGLAS ST NE",
          "1821 41ST PL SE",
          "3313 CORNWELL DR SE",
          "3541 ORDWAY ST NW",
          "7030 OREGON AVE NW",
          "5050 B ST SE",
          "5361 SHERIER PL NW",
          "3801 17TH ST NE",
          "2511 PALMER PL SE",
          "315 QUACKENBOS ST NE"
         ],
         "lat": {
          "bdata": "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",
          "dtype": "f8"
         },
         "legendgroup": "",
         "lon": {
          "bdata": "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",
          "dtype": "f8"
         },
         "marker": {
          "color": "#0d47a1",
          "opacity": 0.65
         },
         "mode": "markers",
         "name": "",
         "showlegend": false,
         "subplot": "mapbox",
         "type": "scattermapbox"
        }
       ],
       "layout": {
        "height": 800,
        "hoverlabel": {
         "bgcolor": "rgba(50, 50, 50, 0.9)",
         "bordercolor": "white",
         "font": {
          "color": "white",
          "family": "Arial, sans-serif",
          "size": 14
         }
        },
        "images": [
         {
          "sizex": 0.15,
          "sizey": 0.15,
          "source": "data:image/png;base64,iVBORw0KGgoAAAANSUhEUgAAGRIAAANvCAYAAAAFIXCbAAEAAElEQVR4nOzd27MlWV7Q8d+q/8K3ArxL2yCD2jhQNYHyD4wPzngrvNFctLR7UCaY6aqCoQW5WQgqzIDlDQSbi+KMRkzE9Kk2YmAu3U3/A1J/A288UMuHk3l6nzxnn70zd+bKlZmfT0QFvXKtXHvtcwxrz6mz9zcFALBoOedvb/7zayPiayIiN38ulnRu+X8R8Swifj+l9Gzq8wEAAAAAAAAAAAAAAAAAAAAAAAAAAAAAx0lzHwAA6C/n/LUR8e1xHg+JuBoLORQT2Z0/C1ERAAAAAAAAAAAAAAAAAAAAAAAAAAAAAJidkAgALEgTEPlrcR4Q6RMLOWb+9yPiTFAEAAAAAAAAAAAAAAAAAAAAAAAAAAAAAOYhJAIAC5Bz/ro4D4h8TXcqxo2J5Ih4FoIiAAAAAAAAAAAAAAAAAAAAAAAAAAAAAFCckAgAVC7n/B0R8Vd3L3WXxPgxkYjzmMhZr8MCAAAAAAAAAAAAAAAAAAAAAAAAAAAAAIMJiQBAxXLO3x0RXxfTxUIOzT9LKT3pcWQAAAAAAAAAAAAAAAAAAAAAAAAAAAAAYCAhEQCoUM756yLiO+I8InJxOcREAAAAAAAAAAAAAAAAAAAAAAAAAAAAAGC1hEQAoDJNROR72mF3OsREAAAAAAAAAAAAAAAAAAAAAAAAAAAAAGCVhEQAoCI55z8eEd/dvXzNWEwEAAAAAAAAAAAAAAAAAAAAAAAAAAAAAFbm1twHAADONRGR74mroa/rxmmG+ds553tXDg4AAAAAAAAAAAAAAAAAAAAAAAAAAAAAjEJIBAAq0EREvnfnkpgIAAAAAAAAAAAAAAAAAAAAAAAAAAAAAGyMkAgAzKyJiHxfHBf36I7FRAAAAAAAAAAAAAAAAAAAAAAAAAAAAABgJYREAGBGOxGRlpgIAAAAAAAAAAAAAAAAAAAAAAAAAAAAAGyUkAgAzKSJiPzjGBb36LteTAQAAAAAAAAAAAAAAAAAAAAAAAAAAAAAKickAgAzyDn/iYj4JzuXxEQAAAAAAAAAAAAAAAAAAAAAAAAAAAAAYOOERACgsJ2IyBhxj77rxUQAAAAAAAAAAAAAAAAAAAAAAAAAAAAAoFJCIgBQ0E5EpCUmAgAAAAAAAAAAAAAAAAAAAAAAAAAAAABEhJAIABTTRETuxzRxj7H3ExMBAAAAAAAAAAAAAAAAAAAAAAAAAAAAgMKERACggJ2ISEtMBAAAAAAAAAAAAAAAAAAAAAAAAAAAAAC4REgEACbWRET+aZSJf4y9n5gIAAAAAAAAAAAAAAAAAAAAAAAAAAAAABTS/UBwAGBEOec/GRH3u5ePGOcT58feb8j8s5TSkwAAAAAAAAAAAAAAAAAAAAAAAAAAAAAAjnJr7gMAwFo1EZF/Flf/vu2GvK4bpxPnx95vyPztnPO9AAAAAAAAAAAAAAAAAAAAAAAAAAAAAACOIiQCABPYiYi0xEQAAAAAAAAAAAAAAAAAAAAAAAAAAAAAgBsJiQDAyJqIyCtxNbYhJgIAAAAAAAAAAAAAAAAAAAAAAAAAAAAA7CUkAgAj2omItMREzomJAAAAAAAAAAAAAAAAAAAAAAAAAAAAAMABQiIAMJImIvJqHI55iIkAAAAAAAAAAAAAAAAAAAAAAAAAAAAAAFd0P/gbABgg5/ynIuKV7uUD4+c91+fOtSHzY+83ZP5ZSulJAAAAAAAAAAAAAAAAAAAAAAAAAAAAAACX3Jr7AACwdE1E5GNx9e/VbrCrO+67PnWuDZkfe78h87dzzvcCAAAAAAAAAAAAAAAAAAAAAAAAAAAAALhESAQATrATEWmJiRw3LyYCAAAAAAAAAAAAAAAAAAAAAAAAAAAAAB1CIgAwUBMR+f44PQ4iJgIAAAAAAAAAAAAAAAAAAAAAAAAAAAAACIkAwBA7EZGWmIiYCAAAAAAAAAAAAAAAAAAAAAAAAAAAAACcREgEAHpqIiL/PMaPg4iJAAAAAAAAAAAAAAAAAAAAAAAAAAAAAMCGdT/gGwC4Qc75T0fE93cvHxg/n3h97lwbMj/2fkPmn6WUngQAAAAAAAAAAAAAAAAAAAAAAAAAAAAAbNStuQ8AAEvRRET+RVz9+7Mb5uqOp16fOteGzI+935D52znnewEAAAAAAAAAAAAAAAAAAAAAAAAAAAAAGyUkAgBH2ImItMRExEQAAAAAAAAAAAAAAAAAAAAAAAAAAAAAYFRCIgBwQBMR+YEoHwcREwEAAAAAAAAAAAAAAAAAAAAAAAAAAACADRESAYAb7EREWmIiZebFRAAAAAAAAAAAAAAAAAAAAAAAAAAAAADYHCERANijiYh8POaPg4iJAAAAAAAAAAAAAAAAAAAAAAAAAAAAAMAGdD/IGwCIiJzzn4mIH+hePjB+Xtn63Lk2ZH7s/YbMP0spPQkAAAAAAAAAAAAAAAAAAAAAAAAAAAAAWLlbcx8AAGrTREQ+HleDW4fG3b9X516fOteGzI+935D52znnewEAAAAAAAAAAAAAAAAAAAAAAAAAAAAAKyckAgA7diIiLTGR8fcTEwEAAAAAAAAAAAAAAAAAAAAAAAAAAACAawiJAECjiYj8YAyLdewSExETAQAAAAAAAAAAAAAAAAAAAAAAAAAAAIDehEQAIC5FRFpiItPvJyYCAAAAAAAAAAAAAAAAAAAAAAAAAAAAADuERADYvCYi8okYJ9Zxyv1iIsfNi4kAAAAAAAAAAAAAAAAAAAAAAAAAAAAAsErdD+wGgE3JOf/ZiPjB7uXO+PmB+UPjvvdPvT53rg2ZH3u/IfPPUkpPAgAAAAAAAAAAAAAAAAAAAAAAAAAAAABW4tbcBwCAuTQRkU/E1bBWd9z9+/LQ+lPvn3p96lwbMj/2fkPmb+ec7wUAAAAAAAAAAAAAAAAAAAAAAAAAAAAArISQCACbtBMRaYmJ9J8fez8xEQAAAAAAAAAAAAAAAAAAAAAAAAAAAAA2TUgEgM1pIiKfjOljIGIiZebFRAAAAAAAAAAAAAAAAAAAAAAAAAAAAABYBSERADZlJyLSEhMREwEAAAAAAAAAAAAAAAAAAAAAAAAAAACAKgiJALAZTUTkQfSPf4iJiIkAAAAAAAAAAAAAAAAAAAAAAAAAAAAAwOSERADYhJ2ISMTVEEUMGIuJTL+fmAgAAAAAAAAAAAAAAAAAAAAAAAAAAAAAmyIkAsDq5Zz/XEQ87FwWExETAQAAAAAAAAAAAAAAAAAAAAAAAAAAAICqCIkAsGpNRORBMzwUoti35qaxmMj0+4mJAAAAAAAAAAAAAAAAAAAAAAAAAAAAALAJQiIArFYTEXnYuSwmIiYCAAAAAAAAAAAAAAAAAAAAAAAAAAAAAFUSEgFglToRkb6hi2Pv2SUmMv1+YiIAAAAAAAAAAAAAAAAAAAAAAAAAAAAArJqQCACr00REHnUui4mIiQAAAAAAAAAAAAAAAAAAAAAAAAAAAABA1YREAFiVTkRkSBhETOTqWEwEAAAAAAAAAAAAAAAAAAAAAAAAAAAAAAoQEgFgNZqIyA91LouJiImIiQAAAAAAAAAAAAAAAAAAAAAAAAAAAACwCEIiAKxCJyJyaghETERMBAAAAAAAAAAAAAAAAAAAAAAAAAAAAACKExIBYPFyzl8fET/cuSwmIiYiJgIAAAAAAAAAAAAAAAAAAAAAAAAAAADAogiJALBoTUTkh5rhGPGQ7lhM5OpYTAQAAAAAAAAAAAAAAAAAAAAAAAAAAAAAJiAkAsBiNRGRT0X/cEXfsZjI1bGYCAAAAAAAAAAAAAAAAAAAAAAAAAAAAACMTEgEgEXaiYhEDAtX9B2LiVwdi4kAAAAAAAAAAAAAAAAAAAAAAAAAAAAAwIiERABYnCYi8iOdy2IiYiJiIgAAAAAAAAAAAAAAAAAAAAAAAAAAAAAsmpAIAIvSiYiMEa7oOxYTuToWEwEAAAAAAAAAAAAAAAAAAAAAAAAAAACAEQiJALAYOecXIuL1zmUxkfnXi4kAAAAAAAAAAAAAAAAAAAAAAAAAAAAAwAiERABYhCYi8iPNcIwQxaljMZGrYzERAAAAAAAAAAAAAAAAAAAAAAAAAAAAADiBkAgA1WsiIq93LouJiImIiQAAAAAAAAAAAAAAAAAAAAAAAAAAAACwKkIiAFStExE5NfYhJiImIiYCAAAAAAAAAAAAAAAAAAAAAAAAAAAAQLWERACoVhMR+Zedy2IiYiJiIgAAAAAAAAAAAAAAAAAAAAAAAAAAAACskpAIAFXqRETGjn2IiYiJiIkAAAAAAAAAAAAAAAAAAAAAAAAAAAAAUB0hEQCq00REfrRzWUxk/jiImAgAAAAAAAAAAAAAAAAAAAAAAAAAAAAATEhIBICqdCIiU8c+xETERMREAAAAAAAAAAAAAAAAAAAAAAAAAAAAAKiGkAgA1cg5//mI+LHOZTERMRExEQAAAAAAAAAAAAAAAAAAAAAAAAAAAAA2QUgEgCo0EZEfbYZTxD26YzGRsuvFRAAAAAAAAAAAAAAAAAAAAAAAAAAAAADgACERAGbXRER+rHNZTERMREwEAAAAAAAAAAAAAAAAAAAAAAAAAAAAgE0REgFgVp2ISIl4SHcsJlJ2vZgIAAAAAAAAAAAAAAAAAAAAAAAAAAAAAOwhJALAbJqIyL/qXBYTERMREwEAAAAAAAAAAAAAAAAAAAAAAAAAAABgk4REAJhFJyIyRzykOxYTKbteTAQAAAAAAAAAAAAAAAAAAAAAAAAAAAAAOoREACiuiYj8eOeymIiYiJgIAAAAAAAAAAAAAAAAAAAAAAAAAAAAAJsmJAJAUZ2ISA3xkO5YTKTsejERAAAAAAAAAAAAAAAAAAAAAAAAAAAAAGgIiQBQTM75xYj4ic7lGuIh3bGYSNn1YiIAAAAAAAAAAAAAAAAAAAAAAAAAAAAAEEIiABTSRER+vBnWEAs5NBYTKbteTAQAAAAAAAAAAAAAAAAAAAAAAAAAAACAzRMSAWByTUTkJzqXa4iFHBqLiZRdLyYCAAAAAAAAAAAAAAAAAAAAAAAAAAAAwKYJiQAwqU5EpIY4SN+xmEjZ9WIiAAAAAAAAAAAAAAAAAAAAAAAAAAAAAGyWkAgAk2kiIj/ZuVxDHKTvWEyk7HoxEQAAAAAAAAAAAAAAAAAAAAAAAAAAAAA2SUgEgEl0IiI1xEBOHYuJlF0vJgIAAAAAAAAAAAAAAAAAAAAAAAAAAADA5giJADC6JiLyU53LNcRATh2LiZRdLyYCAAAAAAAAAAAAAAAAAAAAAAAAAAAAwKYIiQAwqk5EpIb4x9hjMZGy68VEAAAAAAAAAAAAAAAAAAAAAAAAAAAAANgMIREARpNz/oaI+OnO5RriH2OPxUTKrhcTAQAAAAAAAAAAAAAAAAAAAAAAAAAAAGAThEQAGEUTEfmpZlhD7GPqsZhI2fViIgAAAAAAAAAAAAAAAAAAAAAAAAAAAACsnpAIACdrIiI/3blcQ+xj6rGYSNn1YiIAAAAAAAAAAAAAAAAAAAAAAAAAAAAArJqQCAAn6UREaoh7lB6LiZRdLyYCAAAAAAAAAAAAAAAAAAAAAAAAAAAAwGoJiQAwWBMR+dedyzXEPUqPxUTKrhcTAQAAAAAAAAAAAAAAAAAAAAAAAAAAAGCVhEQAGKQTEakh5jH3WEyk7HoxEQAAAAAAAAAAAAAAAAAAAAAAAAAAAABWR0gEgN6aiMjjzuUaYh5zj8VEyq4XEwEAAAAAAAAAAAAAAAAAAAAAAAAAAABgVYREAOilExGpId5R21hMpOx6MREAAAAAAAAAAAAAAAAAAAAAAAAAAAAAVkNIBICj5Zy/MSJ+pnO5hnhHbWMxkbLrxUQAAAAAAAAAAAAAAAAAAAAAAAAAAAAAWAUhEQCO0kREHjfDGmIdtY/FRMquFxMBAAAAAAAAAAAAAAAAAAAAAAAAAAAAYPGERAA4qImI/Ezncg2xjtrHYiJl14uJAAAAAAAAAAAAAAAAAAAAAAAAAAAAALBoQiIA3KgTEakhzrG0sZhI2fViIgAAAAAAAAAAAAAAAAAAAAAAAAAAAAAslpAIAHs1EZF/07lcQ5xjaWMxkbLrxUQAAAAAAAAAAAAAAAAAAAAAAAAAAAAAWCQhEQCu1YmI1BDjWPpYTKTsejERAAAAAAAAAAAAAAAAAAAAAAAAAAAAABZHSASAK5qIyM92LtcQ41j6WEyk7HoxEQAAAAAAAAAAAAAAAAAAAAAAAAAAAAAWRUgEgEs6EZEa4htrG4uJlF0vJgIAAAAAAAAAAAAAAAAAAAAAAAAAAADAYgiJAHAh5/wXIuLnOpdriG+sbSwmUna9mAgAAAAAAAAAAAAAAAAAAAAAAAAAAAAAiyAkAkBEXEREfrYZ1hDbWPtYTKTsejERAAAAAAAAAAAAAAAAAAAAAAAAAAAAAKonJAJANyLSqiG2sfaxmEjZ9WIiAAAAAAAAAAAAAAAAAAAAAAAAAAAAAFRNSARg45qIyM/F1YhBXHPNePyxmEjZ9WIiAAAAAAAAAAAAAAAAAAAAAAAAAAAAAFRLSARgw3YiIi0xETGR68ZiItPvJyYCAAAAAAAAAAAAAAAAAAAAAAAAAAAAgJAIwFY1EZF/G4cjCdddMx5/LCZSdr2YCAAAAAAAAAAAAAAAAAAAAAAAAAAAAADVERIB2KCdiEhLTKSOsZhI2fViIgAAAAAAAAAAAAAAAAAAAAAAAAAAAABURUgEYGOuiYi0xETqGIuJlF0vJgIAAAAAAAAAAAAAAAAAAAAAAAAAAABANYREADbkhohIS0ykjrGYSNn1YiIAAAAAAAAAAAAAAAAAAAAAAAAAAAAAVEFIBGAjmojIv4vr4yC7xETqGIuJlF0vJgIAAAAAAAAAAAAAAAAAAAAAAAAAAADA7IREADYg5/xNcR4RaYmJLGMsJlJ2vZgIAAAAAAAAAAAAAAAAAAAAAAAAAAAAALMSEgFYuZ2IyDFxkJvmxUTERK4bi4lMv5+YCAAAAAAAAAAAAAAAAAAAAAAAAAAAAMBGCIkArNhORKQlJrLMsZhI2fViIgAAAAAAAAAAAAAAAAAAAAAAAAAAAADMQkgEYKWaiMi/j/5Rhy4xkTrGYiJl14uJAAAAAAAAAAAAAAAAAAAAAAAAAAAAAFCckAjACu1ERFpiIusYi4mUXS8mAgAAAAAAAAAAAAAAAAAAAAAAAAAAAEBRQiIAK9NERH4+To9CdImJ1DEWEym7XkwEAAAAAAAAAAAAAAAAAAAAAAAAAAAAgGKERABWZCci0hITWedYTKTsejERAAAAAAAAAAAAAAAAAAAAAAAAAAAAAIoQEgFYiSYi8gsxfliiS0ykjrGYSNn1YiIAAAAAAAAAAAAAAAAAAAAAAAAAAAAATE5IBGAFcs4fiPOISEtMZBtjMZGy68VEAAAAAAAAAAAAAAAAAAAAAAAAAAAAAJiUkAjAwu1ERKYOV3SJidQxFhMpu15MBAAAAAAAAAAAAAAAAAAAAAAAAAAAAIDJCIkALNhORKQlJrLNsZhI2fViIgAAAAAAAAAAAAAAAAAAAAAAAAAAAABMQkgEYKGuiYi0xES2ORYTKbteTAQAAAAAAAAAAAAAAAAAAAAAAAAAAACA0QmJACzQDRGRlpjINsdiImXXi4kAAAAAAAAAAAAAAAAAAAAAAAAAAAAAMCohEYCFaSIin47T4x5iIusci4mUXS8mAgAAAAAAAAAAAAAAAAAAAAAAAAAAAMBohEQAFmQnItISEzEWE5l/vZgIAAAAAAAAAAAAAAAAAAAAAAAAAAAAAKMQEgFYiCYi8pkYP+4hJrLOsZhI2fViIgAAAAAAAAAAAAAAAAAAAAAAAAAAAACcTEgEYAF2IiItMRFjMRExETERAAAAAAAAAAAAAAAAAAAAAAAAAAAAgJUREgGoXBMR+cWYPu4hJrLOsZhI2fViIgAAAAAAAAAAAAAAAAAAAAAAAAAAAAAMJiQCULGc8zfHeUSkJSZiLCYiJiImAgAAAAAAAAAAAAAAAAAAAAAAAAAAALBSQiIAldqJiJSOe4iJrHMsJlJ2vZgIAAAAAAAAAAAAAAAAAAAAAAAAAAAAAL0JiQBUaCci0hITMRYTmT8OIiYCAAAAAAAAAAAAAAAAAAAAAAAAAAAAwKSERAAqc01EpCUmYiwmMn8cREwEAAAAAAAAAAAAAAAAAAAAAAAAAAAAgMkIiQBU5IaISEtMxFhMZP44iJgIAAAAAAAAAAAAAAAAAAAAAAAAAAAAAJMQEgGoRBMR+aWYPv4x9n5iIssci4mUXS8mAgAAAAAAAAAAAAAAAAAAAAAAAAAAAMBBQiIAFdiJiLTEROqIbax9LCZSdr2YCAAAAAAAAAAAAAAAAAAAAAAAAAAAAAA3EhIBmFkTEfkPUT7+MfZ+YiLLHIuJlF0vJgIAAAAAAAAAAAAAAAAAAAAAAAAAAADAXkIiADPaiYi0xETKn8lYTERMREwEAAAAAAAAAAAAAAAAAAAAAAAAAAAAoApCIgAzaSIiT2L++MfY+4mJLHMsJlJ2vZgIAAAAAAAAAAAAAAAAAAAAAAAAAAAAAFcIiQDMYCci0po7/jH2fmIiyxyLiZRdLyYCAAAAAAAAAAAAAAAAAAAAAAAAAAAAwCVCIgCFXRMRac0d/xh7PzGRZY7FRMquFxMBAAAAAAAAAAAAAAAAAAAAAAAAAAAA4IKQCEBBOee/GNdHRFpzxz/G3k9MZJljMZGy68VEAAAAAAAAAAAAAAAAAAAAAAAAAAAAAIgIIRGAYnYiImPHO069X0zEWExk/vViIgAAAAAAAAAAAAAAAAAAAAAAAAAAAAAIiQCUsBMRaYmJnPZ4Jc5kLCYiJiImAgAAAAAAAAAAAAAAAAAAAAAAAAAAAFCUkAjAxJqIyH+M6eMdp94vJmIsJjL/ejERAAAAAAAAAAAAAAAAAAAAAAAAAAAAgA0TEgGY0E5EpCUmMu7jlTiTsZiImIiYCAAAAAAAAAAAAAAAAAAAAAAAAAAAAEARQiIAE7kmItISExn38UqcyVhMRExETAQAAAAAAAAAAAAAAAAAAAAAAAAAAABgckIiABO4ISLSEhMZ9/FKnMlYTERMREwEAAAAAAAAAAAAAAAAAAAAAAAAAAAAYFJCIgAjayIi/ynGiWP0WS8mUkdsY+1jMZGy68VEAAAAAAAAAAAAAAAAAAAAAAAAAAAAADZESARgRDsRkZaYSNnHK3EmYzERMRExEQAAAAAAAAAAAAAAAAAAAAAAAAAAAIBJCIkAjKSJiPznmCaO0We9mEgdsY21j8VEyq4XEwEAAAAAAAAAAAAAAAAAAAAAAAAAAADYACERgBHsRERaYiLzPl6JMxmLiYiJiIkAAAAAAAAAAAAAAAAAAAAAAAAAAAAAjEpIBOBE10REWmIi8z5eiTMZi4mIiYiJAAAAAAAAAAAAAAAAAAAAAAAAAAAAAIxGSATgBDnnvxTXR0RaYiLzPl6JMxmLiYiJiIkAAAAAAAAAAAAAAAAAAAAAAAAAAAAAjEJIBGCgnYhI6ThI3/ViInXENtY+FhMpu15MBAAAAAAAAAAAAAAAAAAAAAAAAAAAAGCFhEQABtiJiLTERMbdT0xkmWMxkbLrxUQAAAAAAAAAAAAAAAAAAAAAAAAAAAAAVkZIBKCnJiLyX2L+OEjf9WIidcQ21j4WEym7XkwEAAAAAAAAAAAAAAAAAAAAAAAAAAAAYEWERAB62ImItOaOg/RdLyZSR2xj7WMxkbLrxUQAAAAAAAAAAAAAAAAAAAAAAAAAAAAAVkJIBOBI10REWnPHQfquFxOpI7ax9rGYSNn1YiIAAAAAAAAAAAAAAAAAAAAAAAAAAAAAKyAkAnCEGyIirbnjIH3Xi4nUEdtY+1hMpOx6MREAAAAAAAAAAAAAAAAAAAAAAAAAAACAhRMSATigiYj816g/DtJ3vZhIHbGNtY/FRMquFxMBAAAAAAAAAAAAAAAAAAAAAAAAAAAAWDAhEYAb7EREWrXHQfquFxOpI7ax9rGYSNn1YiIAAAAAAAAAAAAAAAAAAAAAAAAAAAAACyUkArBHExH55Zg/9jH1ejGROmIbax+LiZRdLyYCAAAAAAAAAAAAAAAAAAAAAAAAAAAAsEBCIgDX2ImItOaOfUy9XkykjtjG2sdiImXXi4kAAAAAAAAAAAAAAAAAAAAAAAAAAAAALIyQCEDHNRGR1tyxj6nXi4nUEdtY+1hMpOx6MREAAAAAAAAAAAAAAAAAAAAAAAAAAACABRESAdhxQ0SkNXfsY+r1YiJ1xDbWPhYTKbteTAQAAAAAAAAAAAAAAAAAAAAAAAAAAABgIYREABo5578cEb9yxNK5Yx9TrxcTqSO2sfaxmEjZ9WIiAAAAAAAAAAAAAAAAAAAAAAAAAAAAAAsgJAIQFxGRX26Gh0IU162pPQ7Sd72YSB2xjbWPxUTKrhcTAQAAAAAAAAAAAAAAAAAAAAAAAAAAAKickAiweU1E5Fc6l8VExERKnMlYTERMREwEAAAAAAAAAAAAAAAAAAAAAAAAAAAA4IKQCLBpnYhI3xDFkHuWtl5MpI7YxtrHYiJl14uJAAAAAAAAAAAAAAAAAAAAAAAAAAAAAFRKSATYrE5EpCUmIiYiJiImct1YTGT6/cREAAAAAAAAAAAAAAAAAAAAAAAAAAAAgM0TEgE2aU9EpCUmIiYiJiImct1YTGT6/cREAAAAAAAAAAAAAAAAAAAAAAAAAAAAgE0TEgE2p4mI/LcDy8RExETERMRErhuLiUy/n5gIAAAAAAAAAAAAAAAAAAAAAAAAAAAAsFlCIsCmdCIiY4c4htyztPViInXENtY+FhMpu15MBAAAAAAAAAAAAAAAAAAAAAAAAAAAAKASQiLAZnQiIi0xkf7rxUTqiG2sfSwmUna9mAgAAAAAAAAAAAAAAAAAAAAAAAAAAABABYREgE3YExFpiYn0Xy8mUkdsY+1jMZGy68VEAAAAAAAAAAAAAAAAAAAAAAAAAAAAAGYmJAKsXhMR+dUDy8RE+q8XE6kjtrH2sZhI2fViIgAAAAAAAAAAAAAAAAAAAAAAAAAAAAAzEhIBVq0TEekbjjg0LyYiJlLiTMZiImIiYiIAAAAAAAAAAAAAAAAAAAAAAAAAAADARgiJAKuVc34pIn6tc1lMRExETGSZYzGRsuvFRAAAAAAAAAAAAAAAAAAAAAAAAAAAAABmICQCrFITEfnVZnhqOOLQvJiImEiJMxmLiYiJiIkAAAAAAAAAAAAAAAAAAAAAAAAAAAAAKyckAqxOJyLSEhOZfr2YSB2xjbWPxUTKrhcTAQAAAAAAAAAAAAAAAAAAAAAAAAAAAChISARYlT0RkZaYyPTrxUTqiG2sfSwmUna9mAgAAAAAAAAAAAAAAAAAAAAAAAAAAABAIUIiwGo0EZFfO7BMTGT69WIidcQ21j4WEym7XkwEAAAAAAAAAAAAAAAAAAAAAAAAAAAAoAAhEWAVOhGRqcMZp+43xhlqXy8mUkdsY+1jMZGy68VEAAAAAAAAAAAAAAAAAAAAAAAAAAAAACYmJAIsXici0hITmX+9mEgdsY21j8VEyq4XEwEAAAAAAAAAAAAAAAAAAAAAAAAAAACYkJAIsGh7IiItMZH514uJ1BHbWPtYTKTsejERAAAAAAAAAAAAAAAAAAAAAAAAAAAAgIkIiQCL1URE/vuBZWIi868XE6kjtrH2sZhI2fViIgAAAAAAAAAAAAAAAAAAAAAAAAAAAAATEBIBFqkTESkd/xAT6b9eTKSO2Mbax2IiZdeLiQAAAAAAAAAAAAAAAAAAAAAAAAAAAACMTEgEWJxORKQlJlL/ejGROmIbax+LiZRdLyYCAAAAAAAAAAAAAAAAAAAAAAAAAAAAMCIhEWBR9kREWmIi9a8XE6kjtrH2sZhI2fViIgAAAAAAAAAAAAAAAAAAAAAAAAAAAAAjERIBFqOJiLxxYJmYSP3rxUTqiG2sfSwmUna9mAgAAAAAAAAAAAAAAAAAAAAAAAAAAADACIREgEXoRETGjnscmhcTERMRE1nmWEyk7HoxEQAAAAAAAAAAAAAAAAAAAAAAAAAAAIATCYkA1etERFpiIstfLyZSR2xj7WMxkbLrxUQAAAAAAAAAAAAAAAAAAAAAAAAAAAAATiAkAlRtT0SkJSay/PViInXENtY+FhMpu15MBAAAAAAAAAAAAAAAAAAAAAAAAAAAAGAgIRGgWjnnb4mIXz+wTExk+evFROqIbax9LCZSdr2YCAAAAAAAAAAAAAAAAAAAAAAAAAAAAMAAQiJAlZqIyBvNsHQs5NC8mIiYiJjIMsdiImXXi4kAAAAAAAAAAAAAAAAAAAAAAAAAAAAA9CQkAlSnExFpiYnMH/uYer2YSB2xjbWPxUTKrhcTAQAAAAAAAAAAAAAAAAAAAAAAAAAAAOhBSASoyp6ISEtMZP7Yx9TrxUTqiG2sfSwmUna9mAgAAAAAAAAAAAAAAAAAAAAAAAAAAADAkYREgGo0EZFfP7BMTGT+2MfU68VE6ohtrH0sJlJ2vZgIAAAAAAAAAAAAAAAAAAAAAAAAAAAAwBGERIAqdCIitcVCDs2LiYiJiIkscywmUna9mAgAAAAAAAAAAAAAAAAAAAAAAAAAAADAAUIiwOw6EZFWbbGQQ/NiImIiYiLLHIuJlF0vJgIAAAAAAAAAAAAAAAAAAAAAAAAAAABwAyERYFZ7IiKt2mIhh+bFRMRExESWORYTKbteTAQAAAAAAAAAAAAAAAAAAAAAAAAAAABgDyERYDZNROQ3DiyrLRZyaF5MRExETGSZYzGRsuvFRAAAAAAAAAAAAAAAAAAAAAAAAAAAAACuccwH1AOM7pqISD50y8LmS+83xhlqXz/2/VPvN8XX69jHeLf503Vv4H5bGucD82PuP2SP54Xvn3r9MV/zvt+TU/cbMv8spfQkAAAAAAAAAAAAAAAAAAAAAAAAAAAAAE4kJAIUd01E5GLq0K0LmxcTERMpGRN5NyLeTSn90o0PkPM3RMQ3xvtRkRriHbWNxUTKrhcTAQAAAAAAAAAAAAAAAAAAAAAAAAAAAGgIiQBF3RARuVhyaIuFzYuJiIlMHRN5NyJ+MaX07oF9r26S83fGeVCkhnhHbWMxkbLrxUQAAAAAAAAAAAAAAAAAAAAAAAAAAAAAQkgEKKiJiPxm1Bf7mHpeTERMZKqYyLsppe87sNfND5TzN0TE4yMec4tjMZGy68VEAAAAAAAAAAAAAAAAAAAAAAAAAAAAgM0TEgGK2ImIXFw6dMvK5sVExETGfrx3To2IXNo858cR8WLPM2xhLCZSdr2YCAAAAAAAAAAAAAAAAAAAAAAAAAAAALBpQiLA5K6JiFxMHbp1ZfNiImIiYz3euyml7z1wb29iInvHYiJl14uJAAAAAAAAAAAAAAAAAAAAAAAAAAAAAJt1a+4DAOt2Q0Qk4nDMaG3zpfcb4wy1rx/7/qn3G+PxJomIRESklO5HxHtHnGFr43Rgfsz9h+zRfT039f1Trz/ma973e3LqfkPmb+ec7wUAAAAAAAAAAAAAAAAAAAAAAAAAAABAD0IiwGRyzn8lIn7rwLLaYh9Tz4uJiImc8njvTBURuXgwMZF9YzGRsuvFRAAAAAAAAAAAAAAAAAAAAAAAAAAAAIBNOuYD6AF6ayIiv7l76dAtG5svvd8YZ6h9/dj3T71f38d7J6X0PQfWjCbn/DgiXuxeNr50ber9h+zxvPD9U68/5mve93ty6n5D5p+llJ4EAAAAAAAAAAAAAAAAAAAAAAAAAAAAwAG35j4AsD7XREQiDoeLtjZfer8xzlD7+rHvn3q/Po9XNCISEZFSuh8R73UvG1+6NvX+Q/bovrab+v6p1x/zNe/7PTl1vyHzt3PO9wIAAAAAAAAAAAAAAAAAAAAAAAAAAADgACERYFR7IiKt2mIec8+LiYiJHPN4xSMiLTGRvWMxkbLrxUQAAAAAAAAAAAAAAAAAAAAAAAAAAACAzRASAUbTRER+68Cy2mIec8+LiYiJ3DSeLSLSEhPZOxYTKbteTAQAAAAAAAAAAAAAAAAAAAAAAAAAAADYBCERYBSdiEhtsY7a58VExESuG88eEWmJiewdi4mUXS8mAgAAAAAAAAAAAAAAAAAAAAAAAAAAAKzeMR82D3CjTkTk0tShW83Put8YZ6h9/dj3T71fO34npfTdBx6ruJzz44h4sXvZ+NK1qfcfssfzwvdPvf6Yr3nf78mp+w2Zf5ZSehIAAAAAAAAAAAAAAAAAAAAAAAAAAAAAO27NfQBg2W6IiEQcjhWZn3e/Mc5Q+/qx7596vxSVRkQiIlJK9yPive5l40vXpt5/yB7d13tT3z/1+mO+5n2/J6fuN2T+ds75XgAAAAAAAAAAAAAAAAAAAAAAAAAAAADsEBIBBmsiIv/jwLLaYh21z4uJbDsmUm1EpCUmsncsJlJ2vZgIAAAAAAAAAAAAAAAAAAAAAAAAAAAAsEpCIsAgnYhIbTGOpc+LiWwzJvJOSunlA/tWQUxk71hMpOx6MREAAAAAAAAAAAAAAAAAAAAAAAAAAABgdYREgN46EZFWbTGOpc+LiWwrJvL2UiIiLTGRvWMxkbLrxUQAAAAAAAAAAAAAAAAAAAAAAAAAAACAVTnmg+UBLuyJiFxacmgL873mS+83xhlqXz/2/afu93ZK6bsO7FGtnPPjiHixe9n40rWp9x+yx/PC90+9/pived/vyan7DZl/llJ6EgAAAAAAAAAAAAAAAAAAAAAAAAAAAMBm3Zr7AMByHBERiTgcKDLfb770fmOcofb1Y99/yn6LjohERKSU7kfEe93LxpeuTb3/kD26rwGnvn/q9cd8zft+T07db8j87ZzzvQAAAAAAAAAAAAAAAAAAAAAAAAAAAAA2S0gEOMqREZFWbTGOpc+LiawzJrL4iEhLTGTvWEyk7HoxEQAAAAAAAAAAAAAAAAAAAAAAAAAAAGDxjvkweWDjekZELt1qftT50vuNcYba1499/7H7vZ1S+kcH1i5OzvlxRLzYvWx86drU+w/Z43nh+6def8zXvO/35NT9hsw/Syk9CQAAAAAAAAAAAAAAAAAAAAAAAAAAAGBTbs19AKBuTUTkf8aw8NChe8z3my+93xhnqH392Pcfs98qIyIRESml+xHxXvey8aVrU+8/ZI/u68Gp7596/TFf877fk1P3GzJ/O+d8LwAAAAAAAAAAAAAAAAAAAAAAAAAAAIBNGRIGADZiJyJy6fKQrcyPOl96vzHOUPv6se/ft9/bKaV/eOCxFi/n/DgiXuxeNr50ber9h+zxvPD9U68/5mve93ty6n5D5p+llJ4EAAAAAAAAAAAAAAAAAAAAAAAAAAAAsAm35j4AUKc9EZGIYQGiQ/eY7zdfer8xzlD7+rHvv26/TUREIiJSSvcj4r3uZeNL16bef8ge3deFU98/9fpjvuZ9vyen7jdk/nbO+V4AAAAAAAAAAAAAAAAAAAAAAAAAAAAAmyAkAlyRc/5gXB8RaYmJzD8vJrKsmMhmIiItMZG9YzGRsuvFRAAAAAAAAAAAAAAAAAAAAAAAAAAAAIBFERIBLtmJiJwaqhhyj/l+82Iiy4iJbC4i0hIT2TsWEym7XkwEAAAAAAAAAAAAAAAAAAAAAAAAAAAAWAwhEeDCTkSkJSZS/7yYSN0xka9uNSLSEhPZOxYTKbteTAQAAAAAAAAAAAAAAAAAAAAAAAAAAABYhCERAGCFromIXJo+dPuQhzQ/6nzp/cY4Q+3rT73/qymlf3Bgj83IOT+OiBe7l40vXZt6/yF7PC98/9Trj/ma9/2enLrfkPlnKaUnAQAAAAAAAAAAAAAAAAAAAAAAAAAAAKzOrbkPAMzvQEQk4nB0aEiU6NQ9zc+73xhnqH39KfeLiHSklO5HxHvdy8aXrk29/5A9uq8Vp75/6vXHfM37fk9O3W/I/O2c870AAAAAAAAAAAAAAAAAAAAAAAAAAAAAVkdIBDauiYj8dkwfvphiT/Pz7jfGGWpfP+R+EZE9xET2jsVEyq4XEwEAAAAAAAAAAAAAAAAAAAAAAAAAAACqNeSD/4GV2ImIXLp86LYT56fY0/y8+41xhtrXH3v/V1NKf//A2s3LOT+OiBe7l40vXZt6/yF7PC98/9Trj/ma9/2enLrfkPlnKaUnAQAAAAAAAAAAAAAAAAAAAAAAAAAAAKzCrbkPAMxjT0Qk4nBg6NT5KfY0P+9+Y5yh9vXH3C8icqSU0v2IeK972fjStan3H7JH93Xj1PdPvf6Yr3nf78mp+w2Zv51zvhcAAAAAAAAAAAAAAAAAAAAAAAAAAADAKgz5wH9g4W6IiFxaNvH8HI+5tfnS+41xhtrX77v/qymlv3dgbzpyzo8j4sXuZeNL16bef8gezwvfP/X6Y77mfb8np+43ZP5ZSulJAAAAAAAAAAAAAAAAAAAAAAAAAAAAAIt2a+4DAGUdGRGJOBwaOnV+jsfc2nzp/cY4Q+3rr7tfRGSglNL9iHive9n40rWp9x+yR/f149T3T73+mK953+/JqfsNmb+dc74XAAAAAAAAAAAAAAAAAAAAAAAAAAAAwKIJicCG9IiItMRElj8vJjJtTERE5ERiInvHYiJl14uJAAAAAAAAAAAAAAAAAAAAAAAAAAAAAFUQEoGNaCIi/yv6xz3ERJY/LyYyTUxERGQkYiJ7x2IiZdeLiQAAAAAAAAAAAAAAAAAAAAAAAAAAAACzExKBDdiJiLTERLY3LyYy7vqviIiMS0xk71hMpOx6MREAAAAAAAAAAAAAAAAAAAAAAAAAAABgVkIisHLXRERaYiLbmxcTGWe9iMhExET2jsVEyq4XEwEAAAAAAAAAAAAAAAAAAAAAAAAAAABmM+SD/YGFuCEicmlZ320nnp/jMbc2X3q/Mc5Qy/qvpJS+88BaTpRzfhwRL3YvG1+6NvX+Q/Z4Xvj+qdcf8zXv+z05db8h889SSk8CAAAAAAAAAAAAAAAAAAAAAAAAAAAAWIRbcx8AmMaREZGI/kGhQ+tPnZ/jMbc2X3q/Mc5Qw3oRkUJSSvcj4r3uZeNL16bef8ge3deVU98/9fpjvuZ9vyen7jdk/nbO+V4AAAAAAAAAAAAAAAAAAAAAAAAAAAAAizDkA/2ByvWIiFy6beT1p87P8Zhbmy+93xhnmGv9V1JK9w7sxchyzo8j4sXuZeNL16bef8gezwvfP/X6Y77mfb8np+43ZP5ZSulJAAAAAAAAAAAAAAAAAAAAAAAAAAAAAFW7NfcBgHE1EZHPRv9Q0NjrT52f4zG3Nl96vzHOMMd6EZGZpJTuR8R73cvGl65Nvf+QPbqvL6e+f+r1x3zN+35PTt1vyPztnPO9AAAAAAAAAAAAAAAAAAAAAAAAAAAAAKomJAIrshMRaYmJmD80LyZy83oRkZmJiewdi4mUXS8mAgAAAAAAAAAAAAAAAAAAAAAAAAAAABQhJAIrcU1EpCUmYv7QvJjI9etFRCohJrJ3LCZSdr2YCAAAAAAAAAAAAAAAAAAAAAAAAAAAADC5IR/gD1TmhojIpWV9tx15/anzczzm1uZL7zfGGaZa/5WU0t89sJbCcs6PI+LF7mXjS9em3n/IHs8L3z/1+mO+5n2/J6fuN2T+WUrpSQAAAAAAAAAAAAAAAAAAAAAAAAAAAABVuTX3AYDTHBkRiegfDhp7/anzczzm1uZL7zfGGaZYLyJSqZTS/Yh4r3vZ+NK1qfcfskf39ebU90+9/pived/vyan7DZm/nXO+FwAAAAAAAAAAAAAAAAAAAAAAAAAAAEBVhERgwXLO3xrHRURaYiLmD81vPSbyZRGRuomJ7B2LiZRdLyYCAAAAAAAAAAAAAAAAAAAAAAAAAAAATGLIh/YDFehERHLf22def+r8HI+5tfnS+41xhlPXi4gsSM75cUS82L1sfOna1PsP2eN54funXn/M17zv9+TU/YbMP0spPQkAAAAAAAAAAACoSM75TkTcPbDstQJHuU73/TiPDt6Q0sE1AAAAAAAAAAAAAMB65ZzvxuHfkd51zO9Un2LI7zifpZTOxj4IcJWQCCxQJyJycbnvNjOvFxOpf35LMRERkQUSE9k7FhMpu15MBAAAAAAAAAAAAI6Uc35wzeW5YiBDjf1enOvefPfUm+sAAAAAAAAAAAAAoF43REGu+53pLTmLiKfXTaSUHhY9CSyckAgszJ6IyMV03+1mXi8mUv/8FmIiXxIRWS4xkb1jMZGy68VEAAAAAAAAAAAA2Lyc8524/Ea4O82fNZnzfTiXgiMppesCJAAAAAAAAAAAAADAiXLODzuXur8rzXjOohMeERyBc0IisCAHIiIXy/puO/N6MZH659ccE/lySunvHHEeKiYmsncsJlJ2vZgIAAAAAAAAAAAAq3dNLOS1mY4yh5rfg/M0zt9AFxEiIwAAAAAAAAAAAABwk5zz3bj8e9EP5jkJRzqLndiI0AhbUfObGIAdR0ZELpb33X7m9WIi9c+vMSbyJRGR9RAT2TsWEym7XkwEAAAAAAAAAACAVegEQ+40f7Zsye+/2Y2MPE0pne1fCgAAAAAAAAAAAADr0QmG7P6ONOvyqP0PkRHWZMlvZIDN6BkRubhtYevFROqfX1NM5Msppb99xOOzIGIie8diImXXi4kAAAAAAAAAAACwKDnnB81/CoZcb63vvdl9s9yjmxYCAAAAAAAAAAAAQM0EQ9jjLCKetv+dUjqb7yjQ31rfzACr0UREPtcO+96+sPViIvXPryEmIiKyYmIie8diImXXi4kAAAAAAAAAAABQJdGQ3rb2vpuncf5mOXERAAAAAAAAAAAAAKrUiYY82L8S9rr4XemU0sMZzwE32tobGmBROhGRi8t9t1nYejGR+ueXHBMREdkAMZG9YzGRsuvFRAAAAAAAAAAAAJhVzvlOnL9BTjRkGO+5Ode+Se5pSulszoMAAAAAAAAAAAAAsD0554fNf4qGMKWziHgaIS5CPbypASq1JyJyMd13u4WtFxOpf36JMZEviYhsh5jI3rGYSNn1YiIAAAuRc34hIl4YeHupn7H2fZxaz7Wmx6j1XDU+Rvs476SU3in0eADAhHLOr+4Mfyel9MXZDgMAAADAhZxz+8a412Y9yDp4v81+T6N5k5ywCLBFOee7cR7qWjxvdAYAAACAbbrm55xn/t0HAAAAqMXOzy7uxEp+V4tFe9T8Xz9DYxbe2AAVOhARuVjWd9uFrRcTqX9+STGRL6eU/tYR+7MiYiJ7x2IiZdeLiQAAVCjn/NGI+Pq4Gg8pEesocc+tAo8x5J5aH6PE16vW/7eyhHO90/y5jjAJAExsJxjyyp4l1/09/zsR8cUQGAHYlJzzxyPiWyPig1Hn76TVeKaIes81hOeyDiki3mr+7PNWSummeQCgIOGQyWz5NeFQjyIiUkqPDi0EWJqc88PYxhvSH4U3OgMAFWleh0VEPLhp3cK0//v54cznAABgQwa+tvbaFWCjOrGpNf1cBhjmLCKe3rTAa0YAxiAcwsKcxflrJL9vRxHe3ACVOTIicrG87/YLWy8mUv/8EmIiXxIR2S4xkb1jMZGy68VEAAAq0QREPrJnei0BBhGRfkRE6rtnjMf4TGf8tuAIABwv5/xSRLwaES8dWHrs39s/mVL6ydNOBUCNmt9x+Xicx0NaNf4+Wo1niqj3XEN4Lutw6nO/LkAiOgIAIxMOKWLLrwnH8jSaN8h5cxywZM2H623xw5HOIuKR/z8cAJjDzgcEbeF12Fl43QUAwERGDiSfxfm/+zwcYS8AKjXy3x0AEddESLymBKAlHMIKCfMyGW9wgIr0jIhc3Lby9WIi9c/XHBMREUFMZP9YTKTsejERAIAZ5ZxfiIjXb1iylgCDiEg/IiL13VPqXO9GxNsXG6T06QF7AMDq9AiIRAz7O1hQBGBFcs6fi8sBkYg6fxetxjNF1HuuITyXdSj53D916YFT+tS+hQBARM65fXPcneYP09rya8IpPY2Is5TSo7kPAnCM5k3qD8Ib1M9SSh+a+xAAwHZsOeTmdRcAAGMp8Lr6kQ9DBFiX5t/G3pz7HMBmncVObMRrTYB1a35uEbHNfxNkW87i/d+fPpv3KKyBNzlAJZqIyP9uh31vX/l6MZH652uMiYiIcEFMZO9YTKTsejERAIAZ5Jxfj4gXblhSa+hARGTaxxARqe+eWs71TrwfGXknpfT2TYsBYA16BkQiTv89A0ERgAVrfr/ls9dM1fh7aDWeKaLecw3huaxDTc/9reZPRMRbKaW3bloMAGuVc27fHPfarAfZnppeF63do4h46o1xQI18UNIVPtQaAJickNuFD/nfygAADDXDzza9fgVYgZzzm+FnMkC9zuL9yIgP4QZYoObnFXcj4k543cm2ncX5704/nPkcLJQ3OkAFOhGRi8t9t1n5ejGR+udriomIiHCFmMjesZhI2fViIgAABYmIjPoYQ+6p9TFEROq7ZwnnejvOIyORUvqFAY8NAFXKOb8aEa/0uGWs3zH4nTgPinxxpP0AKEBEZBS1nmsIz2UdlvTcP9X8X4ERAFapiYfcaf5Q3pJeF63N0zh/o/+juQ8CICKyl5gIADAZr8Gu8GHMAAD0NuOHwPvZIcBCCbsCC3cWAiMA1dqJhzyY9yRQtUfhdQw9eLMDzGxPRORiuu92K18vJlL/fA0xkd8VEWEfMZG9YzGRsuvFRAAAChARGfUxhtxT62OIiNR3z5LPJS4CwKLlnN+IiJd63DLF7xf8dTERgGUQERlFrecawnNZhzU897ci4v9GRKSUfnjmswBALznnO3H+JjnxkPmt4XXRWoiKALPxAdYH+UBAAGB0XoPtJSYCAMBRKnpN7TUswIJU9PcHwNgeRUSklB7OfA6AzREPgZOIinCQNzzAjA5ERC6W9d125evFROqfnzMm8qWU0t88Yj0bJiaydywmUna9mAgAwIRyzi9ExOs3LFlL6EBEpB8RkfruWeO53m7/pJTeHrAPAEwu5/xSRLwa80dEWmIiAAuQc/6Day7X+LtnNZ4pot5zDeG5rMNanvt1z+Ot5o+4CADV2YmHvDbzUXjfWl4XrZGoCFBUzvnNOP97mv0e+cAVAGBMOech7wnfCh/EDADAjSr8EHivYQEWws9kgA05i/d/B+ls3qMArE/zs4kH4XeuYExnEfHU7+nR5U0PMJMjIyIXy/tuv/L1YiL1z88RE/ldERGOJSaydywmUna9mAgAwAREREZ9jCH31PoYIiL13bOVcwmLAFCVJiLyRs/bSvxegZgIQMVyzp+LiA92Ltf4e2c1nimi3nMN4bmsw1qee5/n8akIYREA5iEeUrW1vC7aAlERYFI554dx/qZ2Dkgp+fsTABiFkNtBZymlD819CAAA6lRhRKQlJgJQOT+TAYhHERE+nBtgmOZnEnfD71pBCWchKkLDL27CDHpGRC5us37U+Tkec2vzJff7Ukrpowf2g0vERPaOxUTKrhcTAQAYWc759Yh4Yc/03EGBse4REelHRKS+e7Z8rrcj4p2I+KqwCABzyDm/EREvHbm81O8TtI/zYTERgPo0v+Py2c7lGn/nrMYzRdR7riE8l3VYy3M/9Xm81fx5mlJ6a4TzAMAVOecHEXGn+UN91vK6aItERYDR5ZyHvAdpqx55YzIAcKqKP/S4Nl57AQBwxQJeT4uJAFQq5/wwfOAzwK6zeP93kc7mPQpAvcRDoAqPwmuWTfPmByis+YCF/9MO+95u/ajzczzm1uZL7CciwmBiInvHYiJl14uJAACMJOf8QkS8vme6xqDAkHtERPoREanvHue67O3mj7AIAJOrPCLSEhMBqEzO+XMR8cGdSzX+vlmNZ4qo91xDeC7rsJbnPsXzeCsi3kop/fAEewOwIeIhi7GW10WcvynuqTfFAafwgUn9pZT8XQoAnETI7XheewEA0LWE19NexwLUZwEhKoAanMX57yI9nPkcAFVofq/qTpxHRIB6iIpskB+4QkGdiMjF5b7bWD/q/ByPubX5KfcTEeFkYiJ7x2IiZdeLiQAAjCDn/NGI+Mg1U0sJChwiItKPiEh99zjXYb8QEZFS+vkB+wPAXjnnVyPilSOXzxUROb+Y0h8r9PgAHND8nstndy7V+LtmNZ4pot5zDeG5rMNannup5/GpiAhhEQCOkXNu3yD32sxH4ThreV3EVY9SSo/mPgSwPDnnN8Ob3ft65INTAIChhNx689oLAIALC/p55llK6UNzHwKA9y3o7xCAmviQbmBzmgDdg/DaEZbgLETQNsObIKCQPRGRi+m+21k/6vwcj7m1+Sn2+2hK6UsH7oOjiInsHYuJlF0vJgIAcKKc829fc3nJQYFdIiL9iIjUd49z9V//dkR8VVQEgFPlnF+KiDeOXD5rRKTxxZTShwudA4Ab5Jw/HhEfb4Y1/p5ZjWeKqPdcQ3gu67CW5z7X83ir+fM0pfTWTGcAoEI55wchHrI0a3ldxM2exvmHrJ7NfRBgGXLOQ95ztHU+zBoAGMyHVvbmA5gBAIiIRUb5/BwRoCL+TQzgZKIiwKot8OcOwGVeq6ycN0JAAQciIhfL+m5r/ajzczzm1ubH3O+jKaXfPbAeehET2TsWEym7XkwEAGCgnPMLEfF65/JaggIiIv2IiNR3j3Odvl5UBIDBcs5vRMRLRyytISLS+nBK6YuTnwSAG+WcPxcRH4w6f8esxjNF1HuuITyXdVjLc6/peXwqREUANivnfCfO3yR3Z+6z0FtNryco51FK6dHchwDq5kOTBvFh1gDAYF5/9ZdS8nMNAAAW+Vraa1mAOvhQaIDR+aBuYBVyzncj4m54rQhrchbn73t7OPM5GJkftMLEjoyIXCzvu731o87P8Zhbmx9jPxERJiMmsncsJlJ2vZgIAMAAOeePRsRHdi6tJSggItKPiEh99zjX+OtFRQA4Ws751Yh45YilNUVEIiK+mFL68KQnAeCgnPMfRJ2/X1bjmSLqPdcQnss6rOW51/w8REUANiLn/CAiXpv7HAxW8+sJynga51GRs7kPAtTFhyYN5wMAAYAhmg8jenPucyzQIx/0AgCwbTnnN+P8gz2XRpQYoAIL/nsEYAlERYDFaf7N7kF4jQhr59+ZV2TIh6oBR+oZEYmY/sPu1r7+1Pk5HnNr86fuJyLCpFJK9yPive5l40vXpt5/yB7d17RT3z/1+mO+5n2/J6fuN2T+ds75XgAAzGMtQQERkX5EROq7x7mmWf9NEfFdOed3cs6fzjm/3PNxANiWJUZEIiK+Jef8LZOdBIBj1fhhgDWeKaLecw3huazDWp577c/jExHx+ZzzH+acP5lz/ra5DwTAeHLOd3LOX8g5/1GIiCxZ7a8nKONORHwh5/xmEwYCAABgHnfnPgAAACxN8+Ged2c+xlB3m/MDMK+7cx8AYMUeRMSbze8lPZz7MAA3yTk/zDnniBCag214kM+96Wd0yyckAhMZEBFpzR3jWPp6MZH654fu9xEREUoQE9k7FhMpu15MBABguLUEBURE+hERqe8e5yrzGB+I86jIu01U5AMD9gFgpXLOrx6xrMaISOvXRz8FAEtX6wcA13quITyXdVjLc1/a8xAVAViJnPODnPMXIuILcR4fYLmW9nqC6d2J8zfFPRcUAQAAAAAAFmLp/6ax9PMDLJoPiwUo5m74sG6gUjsBEf8bHbbpbrwfPrs781kYSEgEJtC8CXhIRKQ1d4xj6evFROqf77teRISixET2jsVEyq4XEwEA6G8tQQERkX5EROq7x7nmeYwPRMSnm6jIy6IiAETEKwfma46IREREzvljYx4EgEWr9QOAaz3XEJ7LOqzluS/9eYiKACxQExD5o4h4LQRE1mDpryeYXhsU8aY4AAAAAACgSs2/Ydyd+RinuuvfYgBmdXfuAwBs0N04/7DunHN+OPNZgA0TEAE67sb7QZGHM5+FnoREYGQ7EZFT33w0d4xj6evFROqfP3a9iAizEBPZOxYTKbteTAQAYDq1BgVERPoREanvHueq4zG+K86jIp/OOb884DEAWLic86sHllQfEWkceh4AbEOtHwBc67mG8FzWYS3PfS3Po9VGRT6fc/7k3IcB4KpOQIR1WNvrCaZ1JyK+ICgCAAAAAABUaC0f9LmW5wEAAH09aIMifjcJKCHnfLf5fUgBEWCfu7HzGmXms3AkIREY0U5EpCUmMu96MZH65w+tFxFhVmIie8diImXXi4kAAIyv1qCAiEg/IiL13eNc9T3GN0fEyznn38s5v5xz/sCAxwRgmV65YW4pEZGIiMg5f2yMfQBYrFo/ALjWcw3huazDWp77Wp7Hdb4tIj6Rc/7DnPMnm981BGAmOec7OecvCIis0ppfTzAtQREAAAAAAKAazb9X3J35GGO5699fAADYuAcR8abfTQKm0gZEIuLNWM/PE4DpCYoshJAIjOSaiEhLTGTe9WIi9c/vW/83RESogZjI3rGYSNn1YiIAAOOpNSggItKPiEh99zhX/Y/xckR8Juf8GUERgHXLOb96w/SiIiKNm54PAOtW6wcA13quITyXdVjLc1/L8zjGJyLi8znnz+ecPzn3YQC2pA2IRMQX4jwawLps6fUE0xEUAQAAAAAAavBg7gOMbG3PBwAAhrgb50ERH9gNjEJABBhJGxS5O/dBuJ6QCIzghohIS0xk3vViIvXPd8ciIlRFTGTvWEyk7HoxEQCA09UaFBAR6UdEpL57nGtZj/GBOA+K/F7O+eUBZwGgfq/sub7EiEhEROScPzb2ngBUr9YPAP7/7P1dryxZeif2rdWkZgB9AF/3vWFzBLG7yVOFPnnK3bJs+UWUJcvAjMSeGcGakdnswdQpVhOYqrNP1RiarjJgU+S8ARpOa0aXJgy/3NhdrpOn3cURu3lheqB7fgjeaAD244sTu2qfXTv3zoiMiPXEit8PaHTFyYi1noiduTIyM2L9s9Y1hX3pQy/73st+jPXNUsrfiYj/LiLeG65DBGABAkR2Ya/nEyxHoAgAAAAAANDE8NvEoXEZczv4zQUAAF7zTKAIcIlh/BAgAszphWuncxIkAhc6I0TkmjCRtusLE8n/+PWyEBFSEiZyclmYyLrrCxMBAJgua6CAEJFxhIjk20Zd2+7jbwgUAehLRLx94qHNhogMTu0XAH3KOgFw1rqmsC996GXfe9mPS/2dUsqPIuJHAkUA5iNAZDecT7AkgSIAAAAAAMDanrUuYCG97hcAAFxCoAgwSkRcRUQUn7OBZRyKQJF0BInABUaEiFwTJtJ2fWEi+R8XIkJqwkROLgsTWXd9YSIAAONlDRQQIjKOEJF826irjz5KuREoEhG/PLENAHL423f829ZDREoppUTE0yXbByCNrBMAZ61rCvvSh172vZf9mNM3yxeBIu+1LgZgqwSI7IrzCdYiUAQAAAAAAFjc8DvEoXEZSzn4nQUAAE4SKALcS4AIsLJDGQJFWheCIBGYbEKIyDVhIm3XFyaS9/H/UIgIWyBM5OSyMJF11xcmAgBwvqyBAkJExhEikm8bdfXRx21/o5TyX0bEfylQBGB7IuLtO/65ixCRgSARgP5lnQA4a11T2Jc+9LLvvezHUr5ZSvk7EfHfCRQBOJ8Akd1xPkELAkUAAAAAAIAl9T4ZaO/7BwAAlxIoArwmIg7DRP4+UwMtHJybtCdIBCa4IETkmjCRtusLE8n3+P9GiAhbIkzk5LIwkXXXFyYCAPCwrIECQkTGESKSbxt19dHHfX65CBQB2KK/fWu5pxCRWkopESFMBKBfWScAzlrXFPalD73sey/7sZb3IuJfCRQBOE2AyC45n6A1gSIAAAAAAMCsht8cDo3LWNrBbysAAHCWZ65Ngn27ESDyovT/fQGQ33XY2aF1IXskSARGGkJE/p8zNCVMpO36wkTyPP4f1lr/xQPbQjrCRE4uCxNZd31hIgAAp2UNFBAiMo4QkXzbqKuPPs4lUARgIyLi7Vv/1F2IyECQCECfsk4AnLWuKexLH3rZ9172Yy03j5dAEYA7CBDZJecTZHIdKPKsdSEAAAAAAMDm7eX3hr3sJwAAXOpQSnkhUAT2JyKuigARICfnJg0IEoERboWIzHEDkjCRtusLE2n/uBARNk2YyMllYSLrri9MBADgy7IGCggRGUeISL5t1NVHH1N8rZTyTyLinwgUAUjrb9/4715DREoppUSEMBGAvmSdADhrXVPYlz70su+97MdaTh0vgSIApZSIeBYRf14EiOyN8wmyehYRPxcoAgAAAAAATDFMvHdoXMZaDiYaBACAUQ5lmLS7dSHAsiLiEBFRhHACuR3Kq3OTq8Z17IYgETjTrRCRa8JEtr++MJF2jwsRoQvCRE4uCxNZd31hIgAAX8gaKCBEZBwhIvm2UVcffUxxs59fLkOgyEp9A3CGiHj7xmLXISIDQSIA/cg6AXDWuqawL33oZd972Y+1nHO8BIoAu3QjQOT91rWwOucTbMGziHhh8isAAAAAAGCkvU0Qurf9BQCAORzilavWhQDzGgJEXpRSBAYBW+K66ZUIEoEznAgRuSZMZPvrCxNZ/3EhInRFmMjJZWEi664vTAQAIG+ggBCRcYSI5NtGXX30McWpfn45Iv4kIv7mSnUAcL+/Pfx/6/eH1fqICGEiANuXdQLgrHVNYV/60Mu+97Ifaxl7vASKALsQEY8j4tMiQGSvnE+wJY9LKZ+6MQ4AAAAAADjH8HvCoXEZazv4HQUAACYzaTd0ZAgHelH2990A0IdDKeXFEIbEQgSJwAMeCBG5Jkxk++sLE1nv8f+1EBF6JEzk5LIwkXXXFyYCAOxZ1kABISLjCBHJt426+uhjinP6+RsCRQDaioi3h//M9P6wRh+CRAC2LesEwFnrmsK+9KGXfe9lP9ZyyfESKAJ06UaAyKfl1eT87I/zCbbqOlDkWetCAAAAAACA1Pb6W8Je9xsAAOZwKCbthk2LiMPwGvb5GOjBIV45tC6kR4JE4B5nhohcEyay/fWFiSz/uBARuiZM5OSyMJF11xcmAgBwHiEi+foQIpJvG3X10ccUY/v5mxHx+xHxtUWqAeA+f7vkfX9YtI+IECYCsE1ZJwDOWtcU9qUPvex7L/uxlrmO13sR8UlEmGwf2Lxh8n0BIvvmfIIePIuIF26MAwAAAAAAbht+Pzg0LqOVg99PAADgYibthg2KiKtSyouy3+8EgH69GMY4ZiRIBE4YGSJyTZjI9tcXJrLc40JE2AVhIieXhYmsu74wEQCA+wkRydeHEJF826irjz6mmFrXL5dS/klE/P7M9QBwQkS8XfK+P6zRhyARgO3JOgFw1rqmsC996GXfe9mPtcx9vL5ZSvmRQBFgqyLicUT8eSnl/da10JTzCXryuJTyaUS8aF0IAAAAAACQyrPWBTS29/0HAIC5vHBtEuQXEYfhterzMNCzZxHxQtDZfASJwB0mhohcEyay/fWFicz/uBARdkWYyMllYSLrri9MBADgbkJE8vUhRCTfNurqo48p5qjrlyPi/xcRf3OOggC419sr9ZMxRKSUUkpECBMB2I6sEwBnrWsK+9KHXva9l/1Yy5LH6zpQ5L0F+wCYzRAg8mkp5dPWtdCc8wl69Tgifu7GOAAAAAAAYPi94NC4jNYOfjcBAIDZHOKVQ+tCgC+LiKtSyoviuwBgHw7lVdDZVeM6uiBIBG4ZQkT+Xxc2I0xk++sLE5nv8f9AiAh7JEzk5LIwkXXXFyYCAPA6ISL5+hAikm8bdfXRxxRz1/U3I+L3I+JrUwsC4LSI2H2IyECQCMA2ZJ0AOGtdU9iXPvSy773sx1rWOl7vRcS/iojHK/UHMFpEPCuvAkSMVTifYA8+jYgXbtoHAAAAAIBde9a6gCQcBwAAmNeLiHjRugjglYg4DK9Jn3+BPXrmvORygkTghlshImsHeSzRRuswjq2vL0zk8seFiLBrwkROLgsTWXd9YSIAAK8IEcnXhxCRfNuoq48+pliqrl8upfyTiPj9ke0D8LA1gkSyh4iUUkqJCGEiALllnQA4a11T2Jc+9LLvvezHWlocrx9FxCcCRYBMIuJxRHxaSnm/dS2k4HyCPXlcXgWKuDkYAAAAAAB2ZggbPzQuI4uD8HUAAJjdISJeONeGtiLiqpTyovgOANi3Q7xyaF3IVgkSgcGtEJFrwkSsL0xk+uNCRKAIE7lnWZjIuusLEwEA9k6ISL4+hIjk20ZdffQxxRp1fS0i/mVEfG3CtgDcEhFCRF4nSAQgr6wTAGetawr70ode9r2X/VhLy+P1zfIqUOS9hjUAlFJKGSbP/7S8mkwfnE+wV8/ctA8AAAAAALsjaPx1jgcAAMzvUEpxXRI0EhEvis+7ADe9GAKWGEmQCJSTISLXhIlYX5jI+MeFiMANwkROLgsTWXd9YSIAwF4JEcnXhxCRfNuoq48+plh7338/In5/QhsAvG7pIJEthYiUUkqJCGEiAPlknQA4a11T2Jc+9LLvvezHWrIcr/ci4pOIMHk/sLqIeBwRf15Keb91LaSR5f0RWnlcSvl0CFgCAAAAAAA6Nkzie2hcRjYHkxsDAMBiXgyBBsAKIuIQEVF89ge4yzPnJeMJEmH3HggRuSZMxPrCRM5//N8XIgJfJkzk5LIwkXXXFyYCAOyNEJF8fQgRybeNuvroY4pW+/61iPiXEfG1Ce0B7F5ECBG5myARgFyyTgCcta4p7Esfetn3XvZjLdmO1zdLKT+KiPdaFwLsR0R8Wkr5tHUdpJLt/RFacnMcAAAAAAD0T7D43RwXAABYziEiXgjwg2VFxFUpxTWAAPdzXjKSIBF27cwQkWvCRKwvTOThx4WIwD2EiZxcFiay7vrCRACAvRAikq8PISL5tlFXH31MkWHffz8ifn9CuwB7t2SQyFZDREoppUSEMBGAHLJOAJy1rinsSx962fde9mMtmY/XexHxSUQ8bl0I0K+IeBwRf15KMdZwU+b3R2jlcUT83M1xAAAAAADQn+H7/0PjMrI6+H0EAAAWdSilmLQbFhIRL4qQTIBzHYrzkrMJEmG3RoaIXBMmYn1hIqcfFyICZxAmcnJZmMi66wsTAQB6J0QkXx9CRPJto64++pgi075/LSL+ZUR8bUIfALsTEUJE7idIBKC9rBMAZ61rCvvSh172vZf9WMsWjtc3Syk/ioj3WhcC9CcinpVSPm1dB+ls4f0RWvp0uLEYAAAAAADohwlF7+f4AADA8l5ExFXrIqAXEXGIiCiCQwGmECZyBkEi7NLEEJFrwkSsL0zky/4DISJwPmEiJ5eFiay7vjARAKBXQkTy9SFEJN826uqjjyky7nsppfzTiPinE7YD2JulgkR6CBEppZQaEe+s0A8Ad8s6AXDWuqawL33oZd972Y+1bO14vRcRn0TE49aFANsXEY8j4tNSyvutayGdrb0/QiuPI8INcgAAAAAA0IHh+/5D4zKyO/hdBAAAVvEsIl60LgK2bvgM67UEcJkXzkvuJ0iE3bkwROSaMBHrCxP5wr9fa/3DB7YFbhEmcnJZmMi66wsTAQB6I0QkXx9CRPJto64++pgi477f3OZrEfFPI+JrE9oA6F5ECBE5r4+nK/QFwJdlnQA4a11T2Jc+9LLvvezHWrZ6vL5ZSvmRMBHgEhHxrJTyaSnFWMJtW31/hFYel1I+HcZVAAAAAABgu3zXfx7HCQAA1nEwaTdMN7x+vIYA5uG85B6CRNiVmUJErgkTsb4wESEicBFhIieXhYmsu74wEQBgz4SILNuHEJF826irjz6myLjvd23ztVLKP42I/2xCWwC9WyJIpLcQkVJKKRHxzgp9AvCFrBMAZ61rCvvSh172vZf9WEsPx+tHEfFJ6yKA7YmIT0sp77eug5R6eH+EVp65QQ4AAAAAALYpIg6llEPjMrbiMBwvAABgeYeIeOEcHMYZruU7tK4DoDPCRE4QJMJuDCEiP5q5WWEi1t9zmIgQEZiBMJGTy8JE1l1fmAgAsEdCRJbtQ4hIvm3U1UcfU2Tc94e2+c8i4p9OaBOgSxEhRGRcH09X6BeAV7JOAJy1rinsSx962fde9mMtPR2vb0bEJxHxuHUhQH4R8Tgi/ryUYszgLj29P0IrjyPi527cBwAAAACAzXnWuoCNcbwAAGA9h1KKMBE4Q0QchIgALEqYyB0EibALt0JE5r4BSZiI9fcYJiJEBGYkTOTksjCRddcXJgIA7IkQkWX7ECKSbxt19dHHFBn3/dxtvhYR/zQivjahfYDezB0k0nOISCmllIh4Z4X+AfYu6wTAWeuawr70oZd972U/1tLj8fpmKeVHwkSA+0TEp6WUT1vXQVo9vj9CS5+6cR8AAAAAALZh+E7/0LiMrTn4LQQAAFYnTATuMbw+hIgALO8QrxxaF5KFIBG6dytE5Jowkcu3t/68j7foc+rj/yshIjA/YSInl4WJrLu+MBEAYA+EiCzbhxCRfNuoq48+psi472O3+Vop5YfCRIA9iwghItP6eLpCDQB7lnUC4Kx1TWFf+tDLvveyH2vp/Xj9KCI+aV0EkEtEPB5CRIQNcUrv74/QyqcR8aJ1EQAAAAAAwIOetS5goxw3AABYnzARuMONEBEA1uO8ZCBIhK6dCBG5Jkzk8u2tP+/jLfoc+7gQEViQMJGTy8JE1l1fmAgA0DMhIsv2IUQk3zbq6qOPKTLu+5Rtrtf/YUT8cEJ/AD2YM0gkQ8DHan1ExDtLFwKwU1knAM5a1xT2pQ+97Hsv+7GWvRyvb0bEJxEhMAAow1ggRIT77OX9EVp5LEwEAAAAAADyGia6OzQuY6sOJgoEAIAmTNoNNwgRAWjKeUkRJELHHggRuSZM5PLtrT/v4y36PPdxISKwAmEiJ5eFiay7vjARAKBHQkSW7UOISL5t1NVHH1Nk3Pcp29xe/2vCRIC9iYg/mLG5NAEfK/bxdLEqAPYr6wTAWeuawr70oZd972U/1rK34/XNUsqPhInAvkXEp+VViAicsrf3R2jlcUT83E1yAAAAAACQ0rPWBWyc4wcAAG2YtBtKKRFxVYSIALS2+/MSQSJ06cwQkWvCRC7f3vrzPt6iz4ceFyICKxImcnJZmMi66wsTAQB6IkRk2T6EiOTbRl199DFFxn2fss2p9b8WEf9tRHxtQg0AmxIRj0opvzpTc9kCPlbrIyLeWaIQgJ3KOgFw1rqmsC996GXfe9mPtez5eAkTgZ0aQkS8/rnPnt8foZVP936THAAAAAAAZDJ8b39oXMbWHfz+AQAAzex+0m72LSJeFAGXAFns+rxEkAjdGRkick2YyOXbW3/ex1v0eerxf0+ICKxPmMjJZWEi664vTAQA6IEQkWX7ECKSbxt19dHHFBn3fco256z/Q2EiwA68PVM7KQM+Vuzj6axVAOxX1gmAs9Y1hX3pQy/73st+rMXxehUm8knrIoB1RMTjiPjzIkSE+3l/hHY+HW5eBgAAAAAA2jPZ6DwcRwAAaGfXk3azX8N1eIfWdQDwmt2elwgSoSsTQ0SuCRO5fHvrz/t4iz5vPy5EBBoSJnJyWZjIuusLEwEAtkyIyLJ9CBHJt426+uhjioz7PmWbMesLEwG6FRGPSim/OkNTmQM+VusjIt6ZqxCAnco6AXDWuqawL33oZd972Y+1OF5f+KYwEehfRDwupXzaug7S8/4I7T0WJgIAAAAAAG0NE9odGpfRi8NeJwgEAIAkdjtpN/skRAQgtV2elwgSoRsXhohcEyZy+fbWn/fxFn1ePy5EBBIQJnJyWZjIuusLEwEAtkiIyLJ9CBHJt426+uhjioz7PmWbKX38MCJ+OGE7gOzenqGN9AEfK/bxdIY2APYq6wTAWeuawr70oZd972U/1uJ4fZkwEehYRHxahIjwMO+PkIcwEQAAAAAAaMv39PN61roAAADYuV1O2s3+CBEB2ITdffcqSIQuzBQick2YyOXbW3/ex1v0KUQEEhEmcnJZmMi66wsTAQC2RIjIsn0IEcm3jbr66GOKjPs+ZZtLjtfXhIkAPYmIR6WUX72wma0EfKzWR0S8M1dbADTX08TE9qUPvex7L/uxFsfrtG9GxL+KiMetCwHmM4SIeF3zEO+PkM/jiPi5G/gBAAAAAGBdEXHVuoYOHfzmAQAAzQkToWtCRAC2Yxizd0OQCJs33HD6yczNChO5fHvrz/v4mn3+mhARyEeYyMllYSLrri9MBADYAiEiy/YhRCTfNurqo48pMu77lG3mOF7CRICevH3h9psK+Fixj6cztwdAGz1NTGxf+tDLvveyH2txvM7zI2EisH0R8Tgi/rwIEeFh3h8ht0/dwA8AAAAAAKt61rqATjmuAADQnjARuiREBGBzDnsKExEkwqYNN5r+aFjMFv4xd3vCRLa//hbCRISIQGLCRE4uCxNZd31hIgBAZkJElu1DiEi+bdTVRx9TZNz3KdvMebyEiQCbFxGPSim/ekETWwz4WK2PiHhniXYBWE1PExPblz70su+97MdaHK9xPhEmAts1vH4/bV0Hm+D9EbZBmAgAAAAAAKwgIq5a19Cxg+MLAAApCPmjK0JEADZrN2EigkTYrFshIteyhX/M3Z4wke2vnzlMRIgIbIAwkZPLwkTWXV+YCACQkRCRZfsQIpJvG3X10ccUGfd9yjZLHK+vRcR/GxFfW6BtgDW8fcG2mw34WLGPpwu2DcCyepqY2L70oZd972U/1uJ4jXN9vISJwAYJEWEE74+wLcJEAAAAAABgeSbUXZbjCwAA7e1m0m76J0QEYPN2cV4iSIRNOhEici1b+Mfc7QkT2f76GcNE/j0hIrAdwkROLgsTWXd9YSIAwJYJERlHiEi+bdTVRx9TZNz3Kdssfbx+KEwE2JqIeFRK+dWJm2894GO1PiLi/7J0HwDMrqeJie1LH3rZ9172Yy2O1zi3j5cwEdiQiPi0CBHhPN4fYZs+3cPNcgAAAAAA0EJEXLWuYQ8cZwAASGEXk3bTNyEiAN04RMShdRFLEiTC5jwQInItW/jH3O0JE9n++pnCRH6t1vrZhP6AhoSJnFwWJrLu+sJEAIAtEiIyjhCRfNuoq48+psi471O2Wet4/VcR8fWV+gKYw9sTt+si4GOlPkop5Y2IeGOlvgC4XE8TE9uXPvSy773sx1ocr3FOHS9hIrABQ4iI1yrn8P4I2/bYTfwAAAAAALCIZ60L2AnHGQAAcjgI+mOrhIgAdOdFz2Eiv9i6ABjjzBCRa7WUEjN2n629OepZuwbrz/v4HG0KEYENq7V+LyJ+p5TySzf/ubz+Ot/jcrnxb0u3P6WNr5RSfr7i9kuvf84xf+jxudub8vhXI+I7tdYfFgCgZ0JExhEikm8bdfXRxxQZ933KNmsfrx8On/V+ulK/AJNExKNSyq9O2LSXgI+13x/eKaX4fQwgv54mJrYvfehl33vZj7U4XuM8dLw+iYhv1VpfrlINMIoQEUbY0vvjy1LKceY2D8VrhT48jogXtdYnrQsBAAAAAIAemDx3XRFxVWu9al0HAABQnkXEsdZ6bF0InEuICDvwvAhiZZ9eRMSTHs9LtnQTBzs3MkTktU3nLiVZe3PUs3YN1p/38altChGBTtwRJlLKl8eBPS7HA4/P2f6UNn7+wONzb7/0+ucc87F/k0vbm/L4nwoTAYBtioi/Ukr5y/esIkRkHCEi+bZRVx99TJFx36ds0/J4CRMBUouIPyjjg0R6Cfho9f7gdzKAM0TEnzXquqdr2uxLH3rZ9172Yy2O1zhjjpcwEUhkuD77WRGMwHlavT/eGQhSa32+fikPi4hDufs1derfoaWXwkTYs2FiPzdMT1Br9bkZABjN+ddkz02QDACQX0TMPScVD/A9JcDDfB8DwIq6nLSb/gzXeL5oXQeUV9dG33lvTZbfBh8Izn1cBPKQ07HHa6N/sXUBcI4LQkRKeXXD0pw/tGRrb4561q7B+vM+PmUbkyNBR2qt37sjTOT2OLDH5XLj35Zuf0obXymvh3Usvf3S659zzB96fO72pjz+1Yj4jjARAOiOEJFxhIjk20ZdffQxRcZ9n7JN6+P1w+GznjARIJ2IeFSEiLTo551Sit/KAHLq6cZe+9KHXva9l/1Yi+M1ztjj9UlECBOBBIbrsz9tXQebseT742uBIFkDQs413Ax9vOOhL+3XHaEjt5dhaY8j4kWPN8wBAAAAAMBaHphUkYVExFWWiTUBAIDyrNx93RykIUSEFd2+NvqqUR0XGVv38Bo73PpnwYas7dDjtdFudiS9C0NEXmtqhjYytzdHPWvXYP15Hz93m39XiAj06Y4wkVK+PA7scTkeeHzO9qe08fMHHp97+6XXP+eYj/2bXNrelMf/VJgIAGxLRPyVUspfvuMhISLjCBHJt426+uhjioz7PmWbTMdLmAiQTkT8QRkXJNJLwEeG94df85sZwP0i4s9W7rKna9nsSx962fde9mMtjtc4lxwvYSLQkBARRprj/fFl+eIm4ZdD2AYPiIibN8+5kY4lvezthjk4xzC5n/F1glqrz88AwGjOvyZ7vtXJhQAA9iIi5p6HijP5rhLgfr6PAWBlR9cgkZUQERZwMyzk6Nro89wK5H1cvhw8AnN50tPr8hdbFwD3mTFEpJRXNzDN+aNLtvbmqGftGqw/7+PnbCNEBDpWa/3eHWEit8eBPS6XG/+2dPtT2vhKeT2sY+ntl17/nGP+0ONztzfl8a9GxHeEiQDA5gkRGUeISL5t1NVHH1Nk3Pcp22Q7Xj8cPusJEwFSiIhHRYhIy37eKaX43Qwgj55u5rUvfehl33vZj7U4XuNcerw+iQhhItCAEBFGmjLeX98YJzDkQrXWmzcZfv7fAkZYwOOIeOFGfgAAAAAAGOfW5IesLCKuBO8BAEAah4g4uG6QbISIcKHPr9/1HcTlTh3D4XV6GBZdG80cXkREN2EibnokrZlDRF5ruvP25qhn7RqsP+/jp7YRIgI7cUeYSClfHjv2uBwPPD5n+1Pa+PkDj8+9/dLrn3PMx/5NLm1vyuN/KkwEALYhIv5KKeUv3/gnISLjCBHJt426+uhjioz7PmWbzMfr14WJABlExB+U84NEegn4yPb+8Gt+PwM4LSL+bKWuerqGzb70oZd972U/1uJ4jTPn8RImAisSIsJI54z3QkOSGG6gezwsuoGOqV4KE2FPhgn+jJkT1Fp9jgYARnP+NdlzkxIBAOQVEXPPPcVIvq8EOM33MQA00s2k3fQhIl6ULwIK4D7X10UfjWM53AjxfVy8jhnv2Mt10b/YugC4y4IhIqW8uqFpzh9gsrU3Rz1r12D9eR+/ixAR2JFa6/fuCBO5PXbscbnc+Lel25/SxlfK62EdS2+/9PrnHPOHHp+7vSmPfzUiviNMBAA2R4jIOEJE8m2jrj76mCLjvk/ZJvvx+t+VUgSJAE1FxKMiRCRDP++UUvyGBtBWTzfw2pc+9LLvvezHWhyvceY+Xp9EhDARWIEQEUa6a7x/WUo5FqEhKQ1/k+Ow+LyU18JFrv8fHvI4Il70ctMcAAAAAAAs6cZEhjQUEVfC9wAAIJVn5Ytr2aApISI84HkppfheIa/bf5vh2ujDsCg0kYccerku2s2PpDPcpPZJmTec486uOm9vjnrWrsH68z5+7X8pRAT26Y4wkVK+PHbscTkeeHzO9qe08fMHHp97+6XXP+eYj/2bXNrelMf/VJgIAOQWEX+llPKXixCRsYSI5NtGXX30MUXGfZ+yzVaO109rrb8+VzEAY0XEH5TzgkR6CfjI+v5QSim/5rc0gLtFxJ8t3EVP167Zlz70su+97MdaHK9xFjtetdZ/bam2ASEijHY93gsO6YxgEUZ42cNNc/CQYZI/NxNPUGv1eRoAGM3512TPTV4EAJBTRCw9PxZn8p0lwN18HwNAQ77bpjkhItxyLMO10a6L7suNsF+ffTjlydZf91MmiYPF3AgRKWX5G3Tnbj9be3PUs3YN1p/38VKEiMCu1Vq/V0r5k9v/bPm1f1u6/Slt3D5HX3r7pdc/55iP/Ztc2t6Ux78aEd8pAEB2QkTGESKSbxt19dHHFBn3fco2WzpeX4+I/2qOYgDGiohHRYhIpn7embUKAM7V00279qUPvex7L/uxFsdrnEWPV0R88vBawBRCRBjpg1LKW7XWr9Ran9Ran2/9phm+UGs9Dn/TJ7XWr5RS3iqlPC+vboyEmx4PN1EDAAAAAAB3uDFBIQn4ewAAQDrPIuLQugj2a3j+HRqXQXvPy6tgozpcO3vluuj+DH/Xq+HvXMurv/uxcVnksvlrot0ESRq3QkRee2jprjtvb4561q7B+vM8LkQEKKWUEhG/U0r5pdv/bPm1f1u6/Slt/Hzl7Zde/5xjPvZvcml7Ux7/01rrDwsAkE5E/EellL8ycrOsk+qvGSLy/x3+t1Q/U/QymXUvfSzdz/92Yh9ZX1tTZNz3Kdts9Xj9tNb661OLAZgiIv6gPBwk0su5RNb3h9t+ze9qAF8WEX+2UNM9XbN2177871evYh49/V32bMzf8ZvD//bKc36ctY7Xy1rrt1bqC3ZBiAhneFlejb/PWxdCexHxbPjPZ/euyJ68rLU+aV0ELGWYWM6YN8FwwzUAwCjOvyZ7Xmu9al0EAACvi4il58RiJN9bAnyZ72MmO5ZX19TAXhgnWMrRtUe0MISIbH7SeCY5llfncUeBIZTyWqiQ8x02fV7ii09SuCdE5PNVli6h8/aEiWx//bGPCxEBXiNM5OSyMJF11xcmAgAsZkKQSNZJ9dcMESmllB86tyGjiPg3Sym/fOuf/83hf1lfW1NkHFembLP14yVMBFhNRDwqpfyfH1itl4CPrO8Pd/nDWuu/O0M7AF1ZKEikp+vV7tyXWuu/vnYhMLeI+GYp5fGtf+4peKSnsWgNax8vYSIwEyEi3OODUkoRHsJ9hhvnHhc3ziFMhI6ZOGk6E/IBAFM4/5pMkAgAQDLObdNy7gxwi/esybynwC3DeHLb4/JqYm64jzGV1Qn/3J1jeXWd41XjOkhOqAhlw+clLtikuTNCRD5fdelSOm9PmMj21z/3cSEiwJ2EiZxcFiay7vrCRACARYwMEsk6qf7aISKlCBJhwyLiP72x+MvlVcjIXfYWirH2Nr0cr1+vtf505DYAo0XEH5RSfvWeVXoJ+Mj6/nCfX/MbG8DrFggS6elatZP7IkiEPYmI924sbiVopKexaA2tjte3aq0vG/UNXRAiwh0+KKUcja9MIVSEUspbtdZj6yJgbiZOmk6QCAAwhfOvyTY7mQkAQK9MSJqX7y4BXuf7mMl8HwMT3QocETTCtSeuPWItEfGiGHv24FiEh3ABoSK7tsnzkl9sXQD7NiJEpJRXN6Qu+SPK3O1na2+OetauwfrjH/9fmOAIOKXW+r07wkRujy17XC43/m3p9qe08ZXyeljH0tsvvf45x/yhx+dub8rjX42I75h0GwA2Keuk+i1CRGDTaq3/+Mbi5/8dETdDRf7G2GYvrWuhfoSILLt+KaX8s4j4j4WJAEuKiEdFiEjmft4ppfidDWA5Pd2c29O+wEVqrR/e9e8R8c3y6savUnIFjHj9jtPyeH0SEcJEYCIhItwgPIRZDDdLHUspz4WK7NanESFMBAAAAACA3bs1MTLJRMSVSUQBANq571zsxrm0gJH9eVZeXX8GixrGmUPjMljOsQgPYSY3ro2+EiqyO5s8L3FTJM2MDBF5bdO5a1m4/WztzVHP2jVY/7zHhYgAZ7kjTKSUL48te1yOBx6fs/0pbfz8gcfn3n7p9c855mP/Jpe2N+XxPxUmAgA5RMR/VEr5Kw+slnVS/ZYhIj90PsMeDOEivzws/qcnVss66bkQkWXXv72NMBFgMRHxB+V0kEgvAR9Z3x/O9Wt+bwP4QkT82UxN9XSN2oP7Umv919coBLboVsDI31m5+57GojWkOF611n+tdQ2wNUJEKKW8LK9uknveuhD6J1Rkl4SJ0JVh8gBj2AS11hSfGwGAbXH+NdlzEyIBAOQREUvPfcWFfH8J8AXfx0zm+xhYyY2Ju4WL9O+J645Y0jCevGhdB4t4Xko5GkNYwzCWPCvOS3q3ufOSU5PHwaIuCBEpZfkbVOduP1t7c9Szdg3Wf/hxISLA2Wqt3yul/Mntf7b82r8t3f6UNm6fuy+9/dLrn3PMx/5NLm1vyuNfjYjvFABgC7JOqt8yRAR2o9b6x7XWfzT879+otf4bpZR/PPyvlLyTngsRWXb9u7b5jQltADwoIh4VISJb6OedBdsG2KuebsjtaV+giVrrj2utHw7/+4u11r9YSvm7w/9+vGTXC7bdozTHKyKmXmcKuyREZPc+qLX+Qq31LSEirKXWeqy1Pq+1fqW8ulHzZeuaWNynw02SAAAAAACwO8Nk7CTn7wQAsB3D9UdXtdYndVBeXYfkGrj+CHhgaZ5jfTmWVxP91+F94ti4HnZiODd5cuOchD5t7j3DBHKs7sIQkWvCRNpu36IG659+XIgIMJowkZPLwkTWXV+YCACwlqyT6gsRgYZuBYv8pVLKPxr+t1iXC6+/1jZZJ4mfa9+/HhH/bEJbAA95+8S/9xLwkfX9YaxHEfHGwn0A7Emaiehn0NO+QCo3gkW+PQSLfLvMGyzi9TtOtuP1WJgInEeIyG69LKW8NQSIuFGJpoZAkSellLeKG+d65/0GAAAAAIC9eta6AM7i7wQAsGHDhPFXwwTeT8qra5GObatiDkL/WEpEbG5CeE56PoSHPBEeQms3zkeci3Roa+8dJpFjVTOFiFwTJtJ2+xY1WP/LjwsRASYTJnJyWZjIuusLEwEAlpZ1Un0hIpDMjWCRv3QjWOSP52p+4fXX2ibrJPFz7/vXI+I3JrQJcKeIeFRK+dU7Huol4CPr+8PUPt5ZoR+APcg2Ef0letoXSK/W+uMTwSKTmpuxtD3IerweD9eeAicIEdmlD4bwkLdqrS9bFwM31VqPQ6jIV8qrG+c8Rzu0tZvnAAAAAADgUia83RZ/LwCAPgzXIl0NE8qbyHv7nkXEoXUR9GV4Th0al8FljuWLAJGrxrXAl1yfi5RXAWfHxuUwn8OWzktMJMdqZg4RuSZMpO32LWqw/heEiAAXEyZyclmYyLrrCxMBAJaSdVJ9ISKwAUOoyH8yQ6hIxnFlyjZZJ4lfat9/IyK+PqFtgLu8fce/9RLwkfX94ZI+3oiIN1boD6BnWSein6KnfYFNuhEs8heHYJG/W0r58TmbLlxab7Ifr0+EicDdhIjsystSyltDgMjz1sXAOYZAkSellLeKQJHePBYmAgAAAADAzjxrXQCj+HsBAHRIqEgXnKszm2ECeNexbdexlPJkGNevGtcCDxoCzq4DRVzP34fNnJeYTI5VLBQick2YSNvtW9Rg/VchIj8Z2Q7AnYSJnFwWJrLu+sJEAIC5ZZ1UX4gIbNAFoSIZx5Up22SdJH7pff9nwkSAS0XEo1LKr976514CPrK+P8zRxzsr9AnQq+wT0Y/R075AN4ZQkW/fCBX5u3ettnJZW7eV4/Ve6wIgGyEiu/FBeRUg8latVRADm3R941yt9SvFjXM9ESYCAAAAAMAuRMRV6xoYz98NAKBvQkU26zCEP8AcNjMBPK85li8CRI6Na4HRhuuir26cg7BdmzkvMaEcixtuUvt/L9yNMJG227eoYc/rCxEBZidM5OSyMJF11xcmAgDMJeuk+kJEoAMjQkUyjitTtsk6Sfxax+u7E7YBuOntW8u9BHxkfX+Yq483IuKNFfoG6M1WJqI/R0/7At0aQkU+HEJFvl1K+XHx+h1rS8frcUR80roISEaISN8+qLX+Qq31uQARejI8pwWK9OPxVm6gAwAAAACAC5iYdJv83QAAduI6VKSU8qS4LmkLnKtzsSE88tC4DMY5FgEidOZGoMixdS1M9qJ1AecwqRyLuhUisrWwj6Xbz9aeMJFtrC9EBFiMMJGTy8JE1l1fmAgAcKmsk+pnDRHZ0iRxkM51qEgp5T8pr0JFPn9obFNTul9hm6yTxK95vL4eEf98wrYAJSIelVJ+9cY/9RLwkfX9Ye4+3lmhf4Ce9PQdQ0/7ArtRa/1xrfXbtda/UEr5sLwKFeF+WxzvHg/XpcLuRYQQkX59HiDSuhBYkkCRrnwqTAQAAAAAgF4NE5OyUf5+AAD7Ums93pjQ23VJeR1cb8QlhuePQJrtOBYBInTuRqDZsXEpTLCF7xAFibCYWyEi17YW9rF0+9naEyaSe/3/uRARYGnCRE4uCxNZd31hIgDAVFkn1RciAp2rtf7xECryl0op/7iU8sdjNp/S5QrbZJ0kvsXx+npEfH1CGwBv3/jv1qEYW+pjrX4e6uONiHhjhToAetDTdww97QvsVq31w1rrt26EivBlWx7vPmldALQ2hIgI1emPABF2SaBINwRcAQAAAADQKxOTbpu/HwDATt0KFDk2Locvc67OJTx/tuFYBIiwI0OgmUCRbUr/viJIhEWcCBG5trWwj6Xbz9aeMJGc6wsRAVYjTOTksjCRddcXJgIArCHj5PVCRGDjaq3/sNb610spf72U8o8eWn1KFytsk3WS+JbH659PaAfYsYh4VEr51WExQyjGVvpYq59z+3hn0SoA+tDTdww97QswGEJF/kIp5dullB+3rieJzY93ESFMhN0SItIlASJQBIr0ICJetK4BAAAAAADmFBFXrWvgcv6OAAD7NgSKmNQ7n0NEHFoXwfYMz5tD4zJ4mAARdutGoIhrojck+3eIgkSY3QMhIte2FvaxdPvZ2hMmkmt9ISLA6oSJnFwWJrLu+sJEAIAlZZy8XogIdKTW+sdDqMgvlbsDRYSILLv+7NtEhDARYIy3h//PFIqRvY+1+hnTxxsR8cZilQBsX0/fMfS0L8Adaq0va63fKq8CRT5sXU9DvYx3j4drVWFXIuJZESLSEwEicAeBIpv2WJgIAAAAAACdeda6AGbh7wgAgEm9c3KuzhSuUcvteX3l2LoQaG0IM6tFkNlWpD4vESTCrM4MEbm2tbCPpdvP1p4wkRzrCxEBmhEmcnJZmMi66wsTAQCWkHHyeiEi0LE7AkWah2LM2McUGcfhc7b5ekR8d0K7wM5ExKNSyq+WfKEYmftYq58pfbwzexUAfejpO4ae9gV4wBAo8mGt9S+U/QWK9DbefdK6AFjTcI32+63rYBYCROAMNwJFXrauhVEeR8ShdREAAAAAAHCpiLhqXQPz8fcEAODajUm9XcPX3sG1RowREUJE8joOASJXrQuBbIYgsydFoEh6mb9DFCTCbEaGiFzbWtjH0u1na0+YSNv1hYgAzQkTObksTGTd9YWJAABzyjh5vRAR2IkbgSL/cOymU7pboY8pMo7DY7b5jYj4+oT2gX15u+QNxcjYx1r9TO3jjYh4Y9ZKALavp+8YetoXYKSdBYp0Od5FhDARdmG4RvvT1nVwMQEiMMFw89xbRaDIVtRSygs3+AMAAAAA0IFnrQtgVv6eAAC85kagyLF1LTvnXJ2zDNekHRqXwZcdSylPhms9gRNqrcfhdeJegtzSnpcIEmEWE0NErm0t7GPp9rO1J0ykzfpCRIA0hImcXBYmsu76wkQAgDlknLxeiAjs0BAo8j8s5wWKZB2Lpsg4Dk/Z5rsT+gB2IiIelVIerdBV5uCNjP1c2sc7s1QB0IeevmPoaV+AC9wIFPl2KeXHretZQM/j3ePh+lXonRCRbXtZSnlLgAhMd+Pmubda18K9bp53pr2RDgAAAAAAHhIRV61rYH7+rgAA3GW4LskE+O0choAIeIhr0vJ5Xmt9Ums9ti4EtqLWelVenXcc21bCKVm/QxQkwsUuDBG5trWwj6Xbz9aeMJF11/+fCREBshEmcnJZmMi66wsTAQAukXHyeiEisHNnBIpkHYumyDgOT93m6xEhTAQ45e0V+thC8Eamfubo442IeGOGdgC2rqfvGHraF2AmtdaXtdZvlVI+bF3LjPYw3n3SugBYUkQIEdmu6wCRt2qtL1sXAz0YAkW+UkoRzJPP7fPOQ0S8aFIJAAAAAABczuSkffJ3BQDgTsN1SbWY1LsV5+rca5jU/dC4DL5wLKU8GQIRgJGG844nxfXQWaU8LxEkwkVmChG5trWwj6Xbz9aeMJF11hciAqQlTOTksjCRddcXJgIATJFx8nohIsDnbgSK/PHNf57S1MLrT5VxHJ66zbXfiIivX7A90KGIeFRKebRwN1sJ3sjSz5x9vDNjWwBb1NN3DD3tC7CAWuuHtda/ULYfKLKb8S4i3m9dAyxhCBF53LoOJvlAgAgsp9b6vJTyVnkV2EN7p847DxFxWLMQAAAAAAC41DA5KZ3y9wUA4D7DpN5PWtexQ4fWBZBeykndd+p5rfVJrfXYuhDYuiGMx3lHQhm/QxQkwmQzh4hc21rYx9LtZ2tPmMiy6wsRAdITJnJyWZjIuusLEwEAxsg4eb0QEeBOtda/Vkr56+X1QJGzN194/akyjsNTt7ntuzO0AfTl7YXb31rwRut+5u7jjYh4Y+Y2Abaip+8YetoXYGEbDxTZ23j33nBNK3QjIp4VISJb9LLW+gtDyAGwoFrrcbhx3+utrYfOO1+sUgUAAAAAAMzH5KR98/cFAOBew+T4T0opx7aV7EvGCbvJwXMjlSdD8AEwk+F66Fqcd2ST7jtEQSJMslCIyLWthX0s3X629oSJLLO+EBFgM4SJnFwWJrLu+sJEAIBzZJy8XogIcK9a68+GQJG/Nmazsd2MXH+qjOPw1G3u8vWIECYClFJKiYhHpZRHC3axxeCNlv0s1cc7C7ULkFlP3zH0tC/AimqtH5ZSvl1K+XHrWs601/HuvdYFwFyG67Tfb10Ho7wspbxVa32rdSGwN7XW57XWr5RXr0PWddZ5Z0QIEwEAAAAAYBNMTroP/s4AADxkmNRbmMi60k3YTXsRcSieGxkc6yvH1oVAr4bzjuet6+AL2b5DFCTCaAuHiFzbWtjH0u1na0+YyLzrCxEBNkeYyMllYSLrri9MBAC4T8bJ64WIAGcbAkX+B6WUf/jQqmObnljSWBnH4anb3Oc3Zm4P2K63F2x7y8EbLfpZso83IuKNBdsHyKan7xh62heggVrry1rrt8qrQJHM9jzePR6ub4VNG57Hn7aug1E+qLW+VWsVYgANDTfQCfNZz5jzzkO2m+kAAAAAAOAEk5Pug78zAABnMan3ulxjxB18fmvvyTAWAgurtV6VUrze8kj1HiRIhFFWChG5trWwj6Xbz9aeMJF51hciAmyWMJGTy8JE1l1fmAgAcJeMk9cLEQEmqbX+g1LKXyul/Oyuh8c2d3lFi/Sz1RCRUkopEfHPl2gX2I6IeFpKebRQ81sP3li7nzX6+K0V+gBgXr4vAWYzBIr8hVLKh61ruYPxrpRPWhcAM0h1swH3ellKeavW6iZhSKLWeqy1fqW8en2ynCnnnc8i4jB3IQAAAAAAMBcT1u6LvzcAAOcyqfeqHrcugDyG680OjcvYuye11mPrImBPhtec844kMl37LEiEs60cInJta2EfS7efrT1hIpet/+8IEQG2TpjIyWVhIuuuL0wEALgp4+T1WUNETCoHG1Fr/Vmt9a+VUv7hzX8e28yMJc3Zz6ZDRAZfj4ivL9g+kN/bC7XbS/DGWv2s1ccbEfHGCn0BMA/ffwCLqLV+WEr5dinlx61rGRjvBhHxfusaYKqI+LS4CXIrPqi1vlVrFVYACdVan5RShPws45LzTmFZAAAAAABk5nvsffH3BgDgbCb1Xs0h04TdNOdzWzvH+sqxdSGwR7XWY621llKOrWshz3uRIBHO0ihE5NrWwj6Wbj9be8JEpq0vRATohjCRk8vCRNZdX5gIAFBKzsnrhYgAs6m1/oNSyl8rpfzx2E0XKGeOfnoIEbn2X6/QB5BQRDxdqOlegjfW6mftPn5rhf4AuJzvP4BF1Vpf1lq/VUr5sHUpjfvP5r3WBcAUw7XaQkTye1lKeavWKqAAkhtep2+VV69b5nHpeechIq7mKAQAAAAAAObk++t98ncHAGAMYSKrObQugPaGQJlD4zL26lhrNdZBAsNr8di6jp1LE3ImSIQHNQ4Ruba1sI+l28/WnjCRcesLEQG6I0zk5LIwkXXXFyYCAPuWcfJ6ISLA7GqtP6u1/tVSys/O3WTJei7op6cQkVpKKRHx3RX6AvJ5e4E2ewneWKufFn28ERFvrNAvANP5/gNYTa31w1LKt0spP27RfYM+04uI91vXAGMM12p/2roOHvRBrfWtWqtQAtiIWuv1Da1et5eb67zzWZYb6gAAAAAAoJTPJyd91roOmvB3BwBgFGEiq3CeTimeB608ESICuQgTSeHQuoBSBInwgCQhIte2FvaxdPvZ2hMmct76QkSAbgkTObksTGTd9YWJAADnECICbN4QJvJXH1ptjVom9NNdiMhAkAjsTEQ8XaDZXoI31uqnZR+/tULfAEzj+w9gdbXWl7XWb5V1w0SMd6e9N1z/ClvhZrf83qq1Pm9dBDDNcBPdW63r2LC5zzu97wEAAAAAkInvrXcsIq5a1wAAwLYIE1neEPjITg1//0PjMvboyTC+AckIE2kuxffHgkQ4KVmIyLWthX0s3X629oSJ3L++EBGge8JETi4LE1l3fWEiAMB9hIgA3ai1/qy8ChP52V0Pr1XGwuuvuc3FfUTEf71Cv0Aeb8/cXi/BG2v107qPNyLijRVqAGAc338ATQ1hIt9eo6sV+ti691oXAOeIiE9LKYJv8npZa/2FWuvL1oUAlxlucBUmMt4S550Hk3IBAAAAAJCByUkppTwzSTEAAGMJE1ncoXUBNJViwvadESICyQkTaSvDdc+CRLjTECLyacl5s+nWwj6Wbj9be8JE7l5fiAiwG8JETi4LE1l3fWEiAMBdhIgA3am1/qzWejtMJOsk8V2HiAy+HhHfWKF/oLGIeDpzk61DMbbWT5Y+fmvxKgAYw/cfQArDZPPfLqX8eKkuFmq3N4+Ha2EhreE56nma11u1VqED0JFa67HW+pVSinCg8yx53mlSLgAAAAAAMjA5KaV4HgAAMIEwkUU5R98pgZ+rOxYhIrAZwkSaan7fjyARvuRGiMi1jDedbi3sY+n2s7UnTOR1QkSA3REmcnJZmMi66wsTAQBuEiICdG0IE/mrJe8k8XsIEbn23RVqANp7e8a2MoxdW+onUx9vRMQbi1YCwLl8/wGkUmt9WWv9Vpk/TMR4N857rQuAU+64Xps8XpZXISKCBqBTw410XuP3W+O80w3/AAAAAAA0Y3JSbjgIQAcAYIph8v1j4zK65Bx9t1xTtp5jrVWICGyMMJFmDq0LECTCa+65KS3jzadbC/tYuv1s7QkTeeXfqbX+f0a2C9AFYSInl4WJrLu+MBEAoBQhIsBO1Fp/Vkr5zhpdLbz+mtss0cfXI+Ibi1cCNBMRT2dsLsvYtZV+Mvbxf12kCgDG8P0HkNYQJvLhXM3N1M6ePB6ui4WM3OiW08taqxAR2IHhRrq3WteR1FrnnYeIuFqpLwAAAAAAuM1vttzk+QAAwCQm9F7MoXUBrEvg56qOw9gFbJBzjzZaX/MsSITP3RMici3jTahbC/tYuv1s7e09TESICLB7wkROLgsTWXd9YSIAsG9CRIBdqbX+rNb63y+l/GypLhZef81tluzju4tVAWTw9kztZBu7sveTto+I+K25CwHgbL7/ANKrtX5YSvn2pc3MUctOvde6ALgtIp6VUoTc5PNWrVWoAOxIrfVYhInctvZ5p0m5AAAAAABYnclJucNheF4AAMBoJuRfhOuK9ufQuoCdECICHRAm0kTTcxNBIpRSzgoRuZbxZtSthX0s3X629vYaJiJEBGAgTOTksjCRddcXJgIA+yREBNitWut3yvxhIkJEzvf1iPjNRSoBmoqIpzM1lXHsytxP9j4EiQC04fsPYDNqrS/L9DAR491lHg/XyEIKw/Px/dZ18CVvDWM1sDPCRF7T5LwzIl606BcAAAAAgF0zIS138bwAAOASJuafmbC/3fGZbHlCRKAjwkTW1/LcRJAIY0JErmW8KXVrYR9Lt5+tvb2FiQgRAbhFmMjJZWEi664vTAQA9kWICLB7M4eJCBEZv8135y4ESOHtGdrIOnZl7WcTfUSEMBGAdfn+A9iciWEixrt5CBIhkzHXbLO8l7XWXxAiAvt2I0xkz2NBy/POg5v+AQAAAABYy/Cd9KFxGeTkNwsAACYbrkF63rqOzhxaF8A6IuKqdQ07IEQEOiRMZHWHVh0LEtm5CSEi1zLenLq1sI+l28/W3l7CRISIAJwgTOTksjCRddcXJgIA+yBEBGAwhIn8g0ubWXj9NbdZo4/Pt4mI35yxFqCxiHg6QzNZx66s/WypD0EiAOvx/QewWbXWl7XWv1BK+fE5qy9dz46817oAKKWUiBAiksvLWutbrYsAcqi1Xt8ku8cwkQznnc9aFwAAAAAAwG74Tpr7eH4AADBZrfWqmMx7To9bF8BqfBZbnqAj6JfX93qavV8JEtmxC0JErmW4WeC2rYV9LN1+tvZ6DxP5nwoRAbifMJGTy8JE1l1fmAgA9E2ICMAttda/X0r5ztTNF15/zW3W6OP2Nt+doxAgjbcv3D7r2JW1n831ERHCRACW5/sPoAu11m+V+8NEjHczi4j3W9fAvg3XbbuhMY8PhIgAd9lhmEiW885DRFy1LgIAAAAAgL5FxKGUcmhcBrkdhucJAABMZTLv+RxaF8DyfAZbxZNa67F1EcAyhtf3k9Z17EWr9y1BIjs1Q4jItSw3Ddy0tbCPpdvP1l6vYSJCRADOJEzk5LIwkXXXFyYCAH0SIjJ+m4zf7wELqLX+rIwPExEiMsM2EfGbF9YCJBARTy9sIuvYlbWfrfYhSARgWb7HALpyT5iI8W4Z77UugN2b47pt5vFWrdWNusBJOwoTyXbe+ax1AQAAAAAAdM930ZzD8wQAgMmGybyPjcvoRkRcta6BxfkMtiwhIrADw+vcPRLrOLToVJDIDs0YInIt280DpWwv7GPp9rO111uYiBARgJGEiZxcFiay7vrCRACAvYeIADszMkwk61iUdWL5+7b57tRCgFTevmDbrGNX1n423UdECBMBWIbvMoAu3REmYrxbUES837oG9ikihIjk8VatdQ/hAMCFdhAmkvK8MyJetK4BAAAAAIA+RcShNJrkjc05DM8XAACYZLj2CHiAz+qLEyICO1JrvSrCzNbQJABLkMjOLBAici3jTQRbC/tYuv1s7fUSJiJEBGAiYSInl4WJrLu+MBEA2C8hIsAunRkmknUsyjqx/IPbRMRvTmgXSCIinl6wedaxK2s/PfQhSARgfr7LALp2I0zEeLe8b7YugP0Zrt1+3LoOSilCRICROg4TyXzeaWIuAAAAAACW0mSCNzbL8wUAgEs9b11AJ5yb9+3QuoCOHYWIwP4M1z4fW9fB/ASJ7MiCISLXMt5MsLWwj6Xbz9be1sNEhIgAXEiYyMllYSLrri9MBAD2R4gIsGsPhIlkHYuyTix/7jbfndA2kMfbE7fLOnZl7aeXPkpECBMBmI/vMoBdGMJEWN7j4VpaWNOS125znpe11l8QIgJM0WGYyBY+Z7v5HwAAAACAWQ0h1ofGZbAtws8BALhIrfWqdQ2wAa4VW8ZxuPYR2CdhZguLiKu1+xQkshMrhIhcy3hTwdbCPpZuP1t7Ww0TESICMBNhIieXhYmsu74wEQDYDyEiAOVkmEjWsSjrxPKjtomIb0zoA2gsIp5O3DTr2JW1n176uCZIBGAevssA9kaYyDoEibCaiBAi0t7LWutbrYsAtq2jMJGtfM42MRcAAAAAAHMzMSlTeN4AAHApE3nPoMVk3SzPNWLLESIC+1ZrPRbnIEtb/d40QSI7sGKIyLWMNxdsLexj6faztbe1MJH/iRARgHkJEzm5LExk3fWFiQBA/4SIANwwhIn8g+vFsZtP6XKlbdboY8o2352wDdDe2xO2yTp2Ze2nlz5eExHCRAAu47sMYHdqrS+LMJE1vNe6APZhuH5bcE1bQkSA2XQQJrK1z9km5gIAAAAAYBbDxKSHxmWwTcLPAQC4SK31qnUNkJhrxJYhRAS4Pgc5Ni6jZ4e1OxQk0rkGISLXMt5ksLWwj6Xbz9beVsJEhIgALESYyMllYSLrri9MBAD6JUQE4A611r9fSvnjsZtN6WqlbdboY2pd34iIb0zcFmggIp5O2Czr2JW1n176uIsgEYDpfJcB7JYwkXVExPuta2AX3NzWlhARYHYbDhPZ4udsE3MBAAAAADAXv91yCc8fAAAu9bx1AR143LoAFnFoXUCHntdaj62LANJwDrKgta9zFiTSsYYhItcy3mywtbCPpdvP1l72MBEhIgALEyZyclmYyLrrCxMBgP4IEQG4R63110spPzt39SldrLTNGn1cWtd3L9weWNfbI9fPOnZl7aeXPk6KCGEiAOP5LgPYvSFM5MPWdXTum60LoG8R8ay4abElISLAYoYwkS3Z8udsE3MBAAAAAHCRYTK3Q+My2Dbh5wAAXKTWetW6hg4cWhfAvCLiqnUNHToab4CbhmAhYSLLOazZmSCRTiUIEbmW8aaDrYV9LN1+tvayhokIEQFYiTCRk8vCRNZdX5gIAPRDiAjAGc4MExEicrlvzNAGsIKIeDpyk6xjV9Z+eunjIYJEAMbJMHYDpFBr/aCU8rJ1HR17PFxnC7Mbnlvvt65jx4SIAGvYyjiz9c/ZBzeMAwAAAABwIaHVzMHzCACAS5nE+0IC/rrjWv75GWeALxkCho6Ny+jVqt8ZChLpUKIQkWsZbz7YWtjH0u1nay9bmIgQEYCVCRM5uSxMZN31hYkAwPYJEQEY5+/f85gQkZlExG/O1RawqLdHrJt17MraTy99nCUihIkAnCfN2A2QRa31W61r6Jybj1iKCUTaESICrKLWeiz5w0R6+ZztfRUAAAAAgEmGSWYPjcugDweTFgMAcKFj6wI6cGhdALM6tC6gM8+H6xoB7iJoqAOCRDqTMETkWsabELYW9rF0+9nayxImIkQEoBFhIieXhYmsu74wEQDYLiEiACPVWn9aSvnOXQ9NaW6lbdboY+66vjtze8DMIuLpiNWzjl1Z++mljzEEiQA8LNvYfYme9gXIQZjIct5rXQD9Ga7jFlLThhARYFXJw0S6+mwaEVetawAAAAAAYJOEVTMnzycAACYbrjU6Ni4DUnA92OyOtdar1kUAeTkPWc6a72mCRDoypFZnDBG5lvFmhK2FfSzdfrb2WoeJ/NtCRADaEiZyclmYyLrrCxMBgO0RIgIw0R1hIkJEFhARv7lEu8Bs3j5zvaxj16L91Fr/ezf/V0r5eO4+LpDyfDgihIkAnJZy7J6op30Bkqi1viylfNi6jk7VIfQB5pT5Ou6eCREBmhhurHveuo5bevxsamIuAAAAAABGGebhOjQuI7V6SzGZ4EMOw/MKAACmetm6gI1z3Xc//C3nle0aRiChWuuT1jVwGUEinbgRIpL9ov+M9W0t7GPp9rO11ypMRIgIQBLCRE4uCxNZd31hIgCwHUJEAC40hIn8rAgRWbKury/YNnCBiHh65qpZx66l+/nDL21c6zlBIj0dr7FqKeXd1kUAJJV17J6ip30Bkqm1flDcODa363HbTUjMJiJMct6GEBGgqVrr85LnXK3bz6YRcdW6BgAAAAAANsXvt/e7a5JRE48+zPMKAIDJaq1XrWvYuEPrApjNoXUBHTnWWo+tiwA2w/d/81vtvjRBIh24ESJyLfvF/xnr21rYx9LtZ2tv7TARISIAyQgTObksTGTd9YWJAEB+QkSW3wbYiVrrr5dSfjp2syldTdhmjT6WrusbEfGNhfsApnn7jHWyjl1r9HMqNORLASMX9DFF1nPbz+uKCGEiAK/LOnZP0dO+AEnVWr/VuoaO3By3329WBV2JiMfF86kFISJACrXWJ6V9mEjvn01NzAUAAAAAwFmGubgOjctI7a4JjE08epbD8PwCAICpjq0LgJZ8pprXcO0iwFmEmi3isFZHgkQ27o4QkWvZbwLIWN/Wwj6Wbj9be2uFiQgRAUhKmMjJZWEi664vTAQA8hIisvw2wP78/RHrZh2LMtclSASSiYinZ6yWdexao58/rLV+duKxUwEjPR2vsW7X9VtNqgDIKevYPUVP+wLkJ0zkcl8at4cACLiUyc3XJ0QEyOZ5w7538dnUTeQAAAAAAJzJ77f3u+83jZa/d2yF5xcAAJd42bqALYuIq9Y1cLFD6wI64jM8MIWxY2ZrXd8sSGTD7gkRuZb9ZoCM9W0t7GPp9rO1t3SYiBARgOSEiZxcFiay7vrCRABg+4SIAJyh1vrTUsqvn7PqlOYnbLNGH2vW9Zsr9AWM8/YDj2cdu9bq51RYSBkCRv5whj7Gynpue2ddEfHu2oUAJJR17J6ip30BNqDW+rK4eewSp8ZtQSJcZAij8TxalxARIJ1a67GU0mJs2tNnUxNzAQAAAABwr2E+rkPjMlKrtV5NeYzPHYSfAwAwlXNucA3YTI7GE2AKY8ciDmt0Ikhko84IEbmW/aaAjPVtLexj6faztbdUmIgQEYCNECZyclmYyLrrCxMBgO0SIgIwwhAm8tP7VpnS7MRylu5j9boiQpgIJBERTx9YJevYtVY/fziEhdznZtBIT8drrPvq+q3VqgDIKevYPUVP+wJsSK31W61r2Kj7xu33V6uCXrmhbWVCRICshjCRNYPf9vbZ1MRcAAAAAAA8xO+393s+0zp753kGAAAwkmu/ZuWzO3AJY8gGCRLZoBEhItey3xyQsb6thX0s3X629uYOExEiArAxwkROLgsTWXd9YSIAsD1CRAAmqLX++qmHpjR3SS0L9tGqrm+s0C9wnrfveSzr2LVmPx8/tMIQNPKHF/QxRtZz2wfrioh31ygEIKGsY/cUPe0LsE0fti5gY845T3+8RiH0JyKelVI8f9YlRARIrdb6pKwTJrLXz6Ym5gIAAAAA4E7DnFyHxmWkVmu9mmMdhJ8DAHARk3dP55rdbTu0LqATx1rrsXURwHb5/m92q1zbLEhkYyaEiFzLfpNAxvq2FvaxdPvZ2psrTESICMBGCRM5uSxMZN31hYkAwHYIEQG4zO0wkaxj0dbqEiQCCUTE03sezjp2rdnPHw4hIed4MHBkBlnPbc+t67cWrQIgp6xj9xQ97QuwUbXWD8o6k1P34Nxx201lTPV+6wJ25q1aq/EP2IKlb/bf82dTE3MBAAAAAHCKMOr7jfn9wsTGD/N8AwCA9R1aF8BFXLM/D5/ZgTkYSzZGkMiGXBAici37zQIZ69ta2MfS7Wdr79LthYgAbJwwkZPLwkTWXV+YCADkJ0QE4EK11p+WUn56vTiliRnLmbOP5nVFxG+uUANwv7dP/HvzMSJJP+eGiJQhcOTs9SfIem47qq6IeHepQgASyjp2T9HTvgDb92HrAjZgzLgtDILRIsKkIOsSIgJsRq31WEp5a6nmF2p3Sw6tCwAAAAAAIJdhXq5D4zKyO567Yq31arkyuiH8HACASZxvs2OH1gV04DhcnwhwEecj81rje0JBIhsxQ4jItew3DWSsb2thH0u3n629qdv/27XWH1/YNwAJCBM5uSxMZN31hYkAQF5CRABmUmv99ZJ3LNpyXd9YvArgpIh4euKhLGNE835qrR+P3GTs+ufKem47pa7fmr0KgJyyjt1T9LQvQAeGyfRNqH+acZs1CKBZzwdCRICtGW7WnXvsco7zijAvAAAAAABu893x/aZMNPp8iUI643kHAABwBkGMs3E9NTCnY+sCOnJYugNBIhswY4jItew3D2Ssb2thH0u3n629sdsLEQHojDCRk8vCRNZdX5gIAOQjRARgfr83cv2sE/FnqkuQCLT19h3/lmmMaN3P6FCQWutnF/Z5Z7MLtDmHyXVFxLtzFgKQUNaxe4qe9gXoSK31W61rSGrSuB0RQiE4W0SYDGQ9L2utJqgBNqnW+mTO5mZsa/Mi4qp1DQAAAAAA5DDMzXVoXEZ2o39zrbVeLVBHbw4mwwUAYKJj6wK2yjn4Zh1aF9ADn9WBmblPY0MEiSS3QIjItew3EWSsb2thH0u3n629c7cXIgLQKWEiJ5eFiay7vjARAMhDiAjAAmqtv1dK+em5qy9ZywV9pKsrIn5zqUKA0yLi6R3/nG6MaNlPrXV0kMhg6nZ3ljFjW3O6tK7fmqUKgJyyjt1T9LQvQJ8+bF1AMpeM249nq4I9EDyzjpe11rdaFwFwoTnGMZ9Nv0yoFwAAAAAA13xnfL9jrfU4ddsZ6+iV5x8AAFO8bF3Ahh1aF8AkrtW/nAn/gVld8J0hX7b4+5wgkcQWDBG5lv1mgoz1bS3sY+n2s7X30PZCRAA6J0zk5LIwkXXXFyYCAO0JEQFY1u+dsU7Wifgz1lVLKb+yRCHAg96+tZxxjGjZz+QwkFrrRzP0X0rec9tZ6oqId+doByCZrGP3FD3tC9CpWusHrWtI5NJx281JnCUilry2m9e54Q3YvOEmu0tu/PfZ9IThnisAAAAAAHZs+K740LiM7C753dVvtg87+M0CAADgQYfWBWxdrfWqdQ1Al3z/N4/D0h0IEklqhRCRa9lvKshY39bCPpZuP1t7p7YXIgKwE8JETi4LE1l3fWEiANCOEBGAhdVaf1pK+el9q6xRxkrbLN3H9frfmLsQ4H4R8fTWP2UcI5r2U2udHCQyuHT7rOe2c9b1WzO2BZBB1rF7ip72Bejfh60LSGCusD9hItxreI54nqzjrVrrJRPvA6RRa30yddNZC+nPs9YFAAAAAADQnO+K73ccQs8nGbadvP2OeB4CADCKQABgJBP9A4twTrIdgkQSWjFE5Fr2mwsy1re1sI+l28/W3u3thYgA7IwwkZPLwkTWXV+YCACsT4jI+PUzfvcGbECt9T8+9dAa3a+0zdJ9vLZ+RHxvxlqAh719478zjhGt+7k0BKTUWj+6ZPNL+1/I7HVFxLtztwnQSNaxe4qe9gXYgVrrB61raGzOcVtABA8x+cc6PhAiAnRo7I28Pps+7NC6AAAAAAAA2hnm6Do0LiO7OSYaNVnpww7D8xEAAIBbIuKqdQ0dOLYuAOjasXUBPEyQSDINQkSuZb/JIGN9Wwv7WLr9bO1dby9EBGCnhImcXBYmsu76wkQAILe9h4gAXOr3bi1nnYg/Y113rf+NOQoBHhYRT28sZhwjmvdTa704SGQwpZ2s56pL1fVbC7ULsKasY/cUPe0LsC8fti6gkbnHbUEinBQRj4vnyBpe1lpNRAN0Zxjbzg1J8tn0TG4yBwAAAADYtWetC8iu1nqcqY2L29kBz0cAAAAWMcfne4B7nHt9M/dY+ppmQSKJNAwRuZb9ZoOM9W0t7GPp9rO1J0QEYOeEiZxcFiay7vrCRAAgJyEiABeqtd4MEsk6EX/Guk6tL0gEVhARj0opbw+LGceIDP384VwN1Vo/GrvJXH3PbNG6IuLdJdsHWFjWsXuKnvYF2Jla6weta2hgiXFbSAT3MenH8l7WWt9qXQTAgs4JSvLZdBzvzwAAAAAAOzTM03VoXEZ25/wu0aKtXh2G5yUAALAs13tvj7/ZZXwmBxZVa71qXQMPEySSRIIQkWvZbzrIWN/Wwj6Wbj9Le/9jISIAlCJM5J5lYSLrri9MBAByESICMJ/fK3kn4s9Y173rR8T3LqgFOI8QkYd93Ki9rOeqa9QlSATYqqxj9xQ97QuwXy9bF7Ai4zariojHxU1sa3CjG9C1Wuux3H/O5hxnApNyAQAAAADskqDpB8w5AeDwG8dxrvY65nkJAMAYrpmc5tC6AEY7tC5g446tCwB24di6AO4nSCSBRCEi17LffJCxvq2FfSzdfuv2hIgA8BphIieXhYmsu74wEQDIQYgIwIxqrb+3RjcrbbN0H8ZhaCwiHpVSHpWcY0SWfv6w1vrZzG2e017WMXK150pECBMBtibr2D1FT/sC7NuHrQtYyaLjdkS8v2T7bJbJPpb3Vq11T4FIwE7VWp+cemjVQvpyaF0AAAAAAADrGebqOjQuI7slJiT2e+7DDgLQAQAAmNMQ7gmwNN/9Xe7xko0LEmksYYjItew3IWSsb2thH0u336o9ISIA3EmYyMllYSLrri9MBADaEiICsIwlw0T2FiLym2MLAUZ5u+QcIzL18/HcDQ7BJPeFiWQ9V137uSJIBNiSrGP3FD3tC7BzwwT8vV+4bdxmdRHxuCx8QT/lpRARYGduT97lHOcyAr8AAAAAAPbF98IPqLVebaHNTnl+AgAADCLiqnUNG7dEUCjAl/jubxaHJRsXJNJQ4hCRa9lvRshY39bCPpZuf+32hIgAcC9hIieXhYmsu74wEQBoQ4gIwEJqrb+7VNMrbbN0H6PWj4hvjGwfOENEPCqlvLFCV1sOEfnDIfRjCacCSrKeqzZ5P4kIYSLAFmQdu6foaV8ArvV8/dxa4/b7K/XDdpjkY2G11rda1wCwplrrzZt7fTadgRvOAQAAAAD2Yfg++NC4jOyWnGTUBKYPOwzzygEAAMCljq0LACAHQSKNbCBE5Fr2mxIy1re1sI+l21+rPSEiAJxFmMjJZWEi664vTAQA1iVEBGB5vzdze7sMERn8yoRtgIc9XaGPLYeIlHI67ONiQ0DJ7ZCSrOeqLd9PBIkA2WUdu6foaV8APldr/aB1DQsxbtPS49YFdE6ICLBXz4tznDl5vwYAAAAA2IdnrQvIrtZ6tcW2O+N5CgAAwMVqrcfWNQC7IkQ4MUEiDWwoRORa9psTMta3tbCPpdtfuj0hIgCMIkzk5LIwkXXXFyYCAOsQIgKwglrr787Z3ErbLN3H1P0QJAIzi4hHpZRHC3ez9RCRPxzCPpZ0M6gk67lq8/eTiBAmAmSVdeyeoqd9AbjLy9YFzGz1cTsiTERNKaWUiDC5x7I+qLX2NmYBnKXW+ryUcmxdR0cOrQsAAAAAAGBZEXHVuoYNWGOyPxMKPuzg+QoAAFBKKcV1+dP5/A3A5wSJrGyDISLXst9An7G+rYV9LN3+Uu0JEQFgEmEiJ5eFiay7vjARAFiWEBGAdf3eDG3sPUSklFK+MWFb4H5PF25/6yEipZSydIhIGYJKPit5z1WzvJ8IEgEyyjp2T9HTvgCc8mHrAmbUatx2wxLX3m9dQMdeDpPoA+yZcXBGJuQCAAAAAOjes9YFbMBx6Q5qrVdL99EJz1cAAO7l3JqdOLQuAIDzODe53JLXMgsSWdGGQ0SuZb+RPmN9Wwv7WLr9udsTIgLARYSJnFwWJrLu+sJEAGAZQkQAVlZr/d1Lm1hpm6X7uHg/IuJXJrQB3CEiHpVSHi3YRQ8hIqXW+vGS7d+wVj9jpXo/iYj/+5KFAIzU0/cMPe0LwEm11peta5iJcZumIsKkHssyeT6we7XWY1lhQq8dEQYHAAAAANApYdJnOQ6/PazB771n8LwFAABgKhP6A3CTIJGVdBAici37jZkZ69ta2MfS7c/V3r8lRASAOQgTObksTGTd9YWJAMC8hIgAtPN7E7cTIvK6b0xoB7jb0wXb7iJEpKwY7lFr/ayU8tla/Z0p4/vJGxHx5iKVAIzT0/cMPe0LwDk+bF3AhVqP2+837p8cPA+W80FHoUcAlzLR1nwOrQsAAAAAAGAxz1oXsAGr/eZgMtOzed4CAAAAsCWua05KkMgKOgoRudb6Bs2HZKxva2EfS7d/aXtCRACYlTCRk8vCRNZdX5gIAMxDiAhAW380YRshIl/2KxPaAm6JiEellEcLNd9LiEipta4WJDLIFCSS8f3k2ruzVgGwb74zAfZoyxP0G7dpLiJM5rGcl7VWN5cADGqtx1LKsXEZ3YiIq9Y1AAAAAAAwL9/9nuU4/OawJr/7nsHzFwAA2Cufhy5ybF0AALkIEllYhyEi17LfqJmxvq2FfSzd/tT2hIgAsAhhIieXhYmsu74wEQC4jBCR5bcBuFet9aellJ+O2WRKNxO2WbqPuffjGxPaA77s6ULtdhMiUkr5P6zQx2tqrR+t3ecJGd9PbnojIt6crRKA/fL9B7BLtdatBokYt8ni/dYFdMxkMgBfttVzt4wety4AAAAAAIDZPWtdwAa0+B322KDPLfL8BQAAYCzXFAKtHFsXwN0EiSyo4xCRa9lv2MxY39bCPpZuf2x7QkQAWJQwkZPLwkTWXV+YCABM01NYR9a6AM51bpBI1vErxTgcEb8yoV1gEBGPSimPFmi6pxCR2jDUo3WYSMb3k7u8O0MbAHvm+w9g77Z280iqcTsiBEnsVESYgHw5H2w46AhgMbXWq9Y1dOTQugAAAAAAAOYTEVeta9iAY631uHanQ5+r97tFnscAAAAAbEGL7xk5jyCRhewgRORaqhs375Cxvq2FfSzd/rntCREBYBXCRE4uCxNZd31hIgCwvBSTxM+wTdZJ+IEdq7X+7jmrTWl6wjZL97HkfnxjQtvAF54u0GZXISKllI9X6OfuztsFmJSS8/3klDci4s2Z2gLYG99/AJSypevtjNtk8qx1Ab2qtT5vXQNAYsbImZiMCwAAAACgK36/fdjLhn37feM8nscAAACcrdZ61boGACZZ7HtAQSIL2FGIyLXsN3BmrG9rYR9Lt/9Qe0JEAFiVMJGTy8JE1l1fmAgALCfTJPGXbJN1En6AUkr5vXseyzp+ZRuHf2VC+0ApJSIelVIezdxsbyEipZTy2Qp93adFmEjG95OHvDtzewB74PsPgFJKrfWD1jWcybhNGhHxuJTyuHUdnXqrdQEAmbnxFwAAAAAAXic4+jwtf2OotR5LKcdW/W+J5zMAALBDrskG2KZj6wL4MkEiM9thiMi17DdyZqxva2EfS7d/qj0hIgA0IUzk5LIwkXXXFyYCAPPLNkn81G2yTsIPcO2PTvx71vEr4zj8jQl9AK88nbm9LkNEaq1Ng0RqrWsHiWR8PznHGxHx5gLtAvTK9x8A25J53H6/dQE0cWhdQKde1lpfti4CYAOety6gE89aFwAAAAAAwCx83/uwDL8tZKhhCzyfAQCAvTm0LgCASdz7kZAgkRntOETkWuYbOkvJWd/Wwj6Wbv92e0JEAGhKmMjJZWEi664vTAQA5pNxkvgp22SdhB/gc7XWn971z1OaurSWBfrIuh9AKSUiHpVSHs3YZI8hIqWU8vEK/Z1jrTCRjO8nY7y7YNsAPXHeDfBlH7Yu4B7GbTISILOAWutbrWsA2Ihj6wJ6MdzfBQAAAADARkXEVesatqDWepWghmPxG8dZPK8BAAA4g8BOAL5EkMhMhIh8LvuNnRnr21rYx9LtX7cnRASAFISJnFwWJrLu+sJEAOByWSeJz1oXwBx+78Z/Zx2/Uo/DEfG9qdvCjj2dsa1eQ0Q+q7V+tkKfD6q1rhEkkvH9ZKw3IuLNhfsA2DrffwBsi3GbdCLiWesaOvVB6wIAtsJEW7M6tC4AAAAAAICL+P32YZkmFs1US2ae1wAAfE7QHAAA5xIkMgMhIl+S/QbPjPVtLexj6faFiACQijCRk8vCRNZdX5gIAEyXdZL4rHUBzOWPhv/POn4Zh6EzEfGolPJopuZ6DREppZSPV+hzjCVDTTK+n0z17kr9AGyR826AE2qtGSfwN26T1ePWBXToZa3VhDEA4xg35+F9HQAAAABgo0yme55a61XrGq4NYemcwfMbAAAAgMwyfe/IFwSJXEiIyEnZb/TMWN/Wwj6Wav/bQkQAyEiYyMllYSLrri9MBADGyzpJfNa6AGZTa/1pyTt+bWUc/pUZ2oA9eTpTOz2HiHxWa10yuGOKjxZqN+P7ySXeiIg3V+wPYCt8/wGwLZsatyPi/dY1sI6IeFxMOL4Ek+EDjGSirdkcWhcAAAAAAMBkz1oXsAEZf4vNWFNGnt8AAAAAwCiCRC4gRORB2W/4zFjfVsI+lmpfiAgAqQkTObksTGTd9YWJAMD5sk4Sn7UugCX87sj1M0763nIc/sZM7UD3IuJRKeXRDE31HCJSSikfr9DvKEOwydzhJhnfT+bwboM+ATLz/QfAeV62LmBg3CYzE3XM72WtNcv4A7A1JtqawXDPFwAAAAAAGxIRV61r2IJa61XrGm7LWFNWnucAAADc49i6AADyESQykRCRs2W/8TNjfdnDPpZqX4gIAJsgTOTksjCRddcXJgIAD8s6SXzWugCW8tMR62ac9N04DNvxdIY2eg8RuQ7tyOijGdvK+H4ylzci4s1GfQNk47wb4HwZrsszbpPd49YFdMgk+ADTHVsX0IlD6wIAAAAAABjtWesCNuDYuoB7+J34PJ7nAAAA3KnWemxdAwD5CBKZQIjIaNlvAM1YX9awj6XaFyICwKYIEzm5LExk3fWFiQDAaVknic9aF8Biaq1/dO6qixYyrY8U43BEfG/uNqE3EfGolPLowma6DxEppXy8Qt+TDAEnc4ScZHw/mdu7jfsHyKD1WAzAOMZtUosIE3TM74Na68vWRQBs1XAj8LFxGT0QFAYAAAAAsCERcdW6ho1IG9ZRa71qXcNWeL4DAAAAAOcSJDLSECLyonUdG5T9RtCM9WUL+1iqfSEiAGySMJGTy8JE1l1fmAgAfFnWSeJ7qQtgip8+8HjGSd+NqbAtTy/cfg8hIqXW+tEK/V/i0voyvp8s4Y2IeLN1EQANZRiLATal1vpBy+4b9j0Hk0/vg7/zzGqtaSeuAdgQgUyXO7QuAAAAAACAUZ61LmADjkMgeWZ+Lz6P5zsAAEzjM8cGDHN3A7Bd3m+TESQywq0Qka3f3NhC9mOWsb4sYR9LtS9EBIBNEyZyclmYyLrrCxMBgC9knSS+l7oApvqjex7LOOm7MRU2JCIelVIeXdDELkJESikfr9D/RWqtn5VSPpu6+Zy1NOzjXO+2LgCgkUxjMQAP62HcFjDRuYh4XPyd59YyvAigG7XWq9Y19MAN6QAAAAAA2xARV61r2Ij0E/j5jeN8nvcAAEDHDq0LAICeCBI5060QkWs93OS4tuzHLGN9rcM+lmpfiAgAXRAmcnJZmMi66wsTAYC8k8T3UhfAZLXW3z310BrdL7z+1G3G+N7C7cPWPb1g272EiJRa60cr1DCHKUEizY9vA29ExJutiwBYWbaxGID7GbfZikPrAnpTa00/cQ3AhhxbF9CBQ+sCAAAAAAA4y7PWBWzAsdZ6bF3EmfxufB7PewCAfXM+CADAWQSJnOFEiMg1NzuOl/2YZayvtzARISIAdEWYyMllYSLrri9MBADOlzWsI2tdAEvIOOl71jHVuA0nRMSjUsqjiZvvJkSklPLxCjXMYkLgSYbj28q7rQsAWFHWsRhgSz5csS/jNlvyfusCOvNB6wIAOvOydQEdeNy6AAAAAAAA7hcRV61r2IjNhHPUWq9a17AVnv8AAAAAZOP7vXwEiTzggRCRa256HC/7MctYXy9hIkJEAOiSMJGTy8JE1l1fmAgAPCxrWEfWugDm8rs3/jvjpO9Zx1TjNtzv6cTt9hQiMiWco7Vz601xfBuppZQ3I+LN1oUArCDrWAzA3YzbbEZEmFh8ZrXWzUxcA7AFbsKbxaF1AQAAAAAAPOhZ6wI24FhrPbYuYqRj6wI2wvMfAAAAALiXIJF7nBkics3Nj+NlP2YZ69t6mMi/JUQEgJ4JEzm5LExk3fWFiQDAaVnDOrLWBbCEjJO+Zx1TP+8jIv7WCv3BpkTEo1LKowmb7ipEpJTy8eJVzOzM4JMsx7eFm3W926wKgHVkHYsBuJtxm60xGce8PmhdAECnjq0LAAAAAACApUTEVesaNuJl6wImeN66gK3wOgAAgFGOrQsAgJ3w/V4igkROGBkics1NkONlP2YZ69tqmMi3a61b/FEKAEYRJnJyWZjIuusLEwGAL8sa1pG1LoBZ1Vp/t+Sc9D3rmGrchoc9nbDN3kJESinls0WrWM59YSKZju/abtf1ZkS82aQSgOVlHYsBtmrpa/e6Hbcj4nHrGliMv+2Maq1uEgFYhnswLmTyLQAAAACA1J61LmALaq1XrWsYq9Z6LCb4PZfXAQDAzgzzHTPB8FkDAFjesXUBG3RcqmFBIneYGCJyrdubIReU/ZhlrG9rYSJCRADYFWEiJ5eFiay7vjARAPhC1rCOrHUBbFXWcThjH7BpEfGolPJo5Ga7DBGptW4ySKTWeipIJNPxXduput5dtQqAdWQdiwE2a+Hr93oft4VNdCgiTMIxrw9aFwDQsWPrAgAAAAAAYAmCoM/2vHUBF9hy7avyegAA2J1D6wIAAO4jKHiSxb4PFSRyy4UhItd6vylyCdmPWcb6thImIkQEgF0SJnJyWZjIuusLEwGAvGEdWesCWNIfLdh21nE4Yx/Qg6cj199jiEgppXy8WBXruB0mku34rum+ut6MiDdXqwRgeVnHYgDuZtxmqwTEzKjWavIXgIUMN+FxGe/7AAAAAAA5PWtdwBbUWq9a1zCVyQZH8XoAAAB6cmxdAACzcK/I+Z4ved23IJEbZgoRuebmyPGyH7OM9WUPExEiAsCuCRM5uSxMZN31hYkAsGdZwzqy1gWwtJ8u1G7WcXjOPr63Qv+wCRHxqJTyaMQmew0R+azW+tlilayg1nozSCTb8V3TOXW9u3gVAOvIOhYDcDfjNltmQvH5fNC6AIAdcBPeZQ6tCwAAAAAA4HURcdW6ho3o4TeCHvZhFV4XAABAL5acSB2A9Qzj+ZPWdWzA86UDoQWJDGYOEbnmJsnxsh+zjPVlDRMRIgIARZjIPcvCRNZdX5gIAHuUNawja10AW5V1HM7YB/Ti6Yh19xoiUkopHy9Sxfo+KjmP71rOrevNiHhz0UoAlpd1LAbgbsZtNisinrWuoSe1VpO+AAAAAAAAAGP53fYMS08+t4ZhssFj4zK2wusCAGA/nPtN45pVujfMjw6QhjCRex1LKU/W+B5XkEhZLETkmpslx8t+zDLWly1MRIgIANwgTOTksjCRddcXJgLAnmQN68haF8Aqaq3/xdxNLrz+1G0y9gFdiIhHpZRHZ66+5xCRz2qtny1SyfrW2I+s4/DYut5dpAqAdWQdiwG4m3GbrXvcuoCOfNC6AIA96GGSsNbcXA0AAAAAkEdEXLWuYSN6miDXPFRn8voAAADYvUPrAgBuq7Uea6219PWd5SWel1cBIk+GoJXF/eIanWS2cIjItVpKiYX76E32Y5axvqVrOrd9ISIAcIda6/ci4ndKKb9085/L6++ve1wuN/5t6fantPGVUsrPV9x+6fXPOeYPPT53e1Me/2pEfKfW+sMCAF+WNawja10AW5V1HM7YB/Tk6Znr7TlEpJRSPp69ikZqrZ9FxGellDeW6mKhdi81pa43I+LNWutPZq8GYFlZx2KAHn1YSnnvwjaM2/RAkMhMaq1uAgFgKw6llGPjGgAAAAAAeOVZ6wK2oKeg8VrrVUT4u5/nWSnlqnURAAAsZ5gDGQBgc4bvLK9K2WcgbsvvbHcdJLJSiMi1jMET2WU/Zhnrax0mIkQEAO4hTOTkcin3B0kIExEmctfjwkQAuEvWsI6e6gK41B+VUr5xYRtZx+FF+4iIv1Vr/T8tVAukFxGPSimPzlh17yEipdb62dyFNPaDUsr/bYF2s54PX1LXu6UUQSLAlmQdiwG4m3GbzTMxyaw+aF0AwM48LyZWAwAAAABg4/Y4udxEx9YFLMBvHWeKiKuegmQAAPiSQ+sCNuzYugAA4BXfX63rK60LaGXlEJFrbqIcL/sxy1jf0jWdal+ICACcodb6vVLKn9z+Z8uv/dvS7U9p4/Znp6W3X3r9c4752L/Jpe1NefyrEfGdAgDTZQ3ryFoXwBx+euH2WcfhjH1Ab56esc7uQ0RKKR/PWkUCQzDK3OEoWcfhS+t6MyLenKUSgOVlHYsBuJtxm148bl1AR46tCwCAEZwDAAAAAADkIEjiPM9bFzA3EwuO4nUCAAB3qLUeW9cAK3CtGwBfsssgkUYhItfcTDle9mOWsb61w0SEiADACMJETi4LE1l3fWEiAOxd1rCOrHUBZJB1HF6jD2M3uxYRj0opjx5YTYhIKaXW+tGchSTygxnbyjqmzlXXuzO1A7CkrGMxAHczbtMTN1bN46XrhgHWZXKtix1aFwAAAAAAsHcRcdW6ho04djw5bncBKUvxegEA6JrgOOA+h9YFAJDP7oJEGoeIXHNT5XjZj1nG+tYKExEiAgATCBM5uSxMZN31hYkAsFdZwzqy1gUwpz+auF3WcXiNPozdUMrTBx4XIvLKx7NVkUyt9bNSymdzNDVDG0uYs643I+LNGdsDmFvWsRiAuxm36UZEuPFyPiZ3AQAAAAAAAMbym+15uv09VnD6KF4vAADwumPrAgAAWtlVkEiSEJFrbq4cL/sxy1jf0jUJEQGACwgTObksTGTd9YWJALA3WcM6stYFMKta65Qgkazj8Bp9GLvZvYh4VEp5dM8qQkSuN671o7kKSeoHF26fdUxdoq53F2gTYA5Zx2IA7mbcpjePWxfQiZeuHQZo5ti6AAAAAAAAmCIirlrXsBHHWuuxdREL6zYoZW5eNwAA/XGOdxHXrrIbxgoAbttNkEiyEJFrbrIcL/sxy1jfUjV9y42AAHA5YSInl4WJrLu+MBEA9iJrWEfWugAyyDoOr9HH7W3+1gx1wBY9vecxISJf+HiWKhKrtX52yeazFTKvpep6MyLeXKhtgKmyjsUA3M24TY8EiczDtcMA7RiDL+DmagAAAACApp61LmAjug/ZqLVeta5hQ7xuAACALev+My4ArGUXQSJJQ0SuudlyvOzHLGN9c9ckRAQAZiRM5OSyMJF11xcmAkDvsoZ1ZK0LIIOs4/AafRi7oZQSEU9LKY9OPCxE5GYDtX40RyEbMGU/s46pS9f17sLtA4yRdSwG4G7GbboTESbXmEmt1U19AAAAAAAAwNkEPZ/tWGs9ti5iJcfWBWyF1w8AQHdczzqRUEJ25nHrAgDIpfsgkeQhItfcdDle9mOWsb65ahIiAgALECZyclmYyLrrCxMBoFdZwzqy1gWwtD86Y52s4/AafRi74QtPT/y7EJHXfTxDG5tQa/3B2E0WKeRya9T1ZkS8uUI/AA/JOhYDcDfjNnCfD1oXALBnboYHAAAAAGCjTJR7nj3N5/S8dQEb4vUDANCJYW5kgHMcWhcAQC5dB4lsJETkmpsvx8t+zDLWd2lNQkQAYEHCRE4uCxNZd31hIgD0JmtYR9a6ANbw0wcezzoOr9GHsRsGESFE5HyfzdTOVnx05npZx9Q1n8PfX6kvgFOyjsUA3M24Tc/eb11AJ46tCwAAAAAAAAC2IyKuWtewFXsKFK+1Hovfn8/mdQQA0I1D6wI27Ni6AFibz4IA3NRtkMjGQkSuuQlzvOzHLGN9U2sSIgIAKxAmcnJZmMi66wsTAaAXWcM6stYFkEHWcXiNPozd8Lq7gkSEiHzZZ7XWXQWJ1Fp/cM5qixcyzdrP4Tcj4s2V+gS4LetYDMDdjNt0KyIet66hEy9dRwzAxj1rXQAAAAAAwJ4M83/5bvY8z1sX0MAe93kqryMAgD44r5vO9asAwK51GSSy0RCRa27GHC/7MctY39iahIgAwIqEiZxcFiay7vrCRADYuqxhHVnrAsgg6zi8Rh/GbrghIoSInO/jGdvako/ueSzrmNrqOfz9lfoFuCnrWLyGPe87sF3GLnp3aF1AJ1xHDJCDSbUAAAAAANgKk+SeqdZ61bqGtdVaj6WUY+MyNiMirlrXAADAdMMcyUx3bF0A4+3xs+7MfK8CwOe6CxLZeIjINTdljpf9mGWs79yahIgAQAPCRE4uCxNZd31hIgBsVdawjqx1AWSQdRxeow9jN3zZ7SARISJ3+6zW+tmM7W1GrfUHpx5atZDztXwOvxkRb67UP0ApecfiNex534HtMnaxB49bF9CDWquJ6wEAAAAAAICzDHOAHRqXsRV7/i12z/s+1jOTTwMAbNqhdQFbNgQRwu4IlQTgWldBIp2EiFxzc+Z42Y9ZxvoeqkmICAA0JEzk5LIwkXXXFyYCwNZkDevoqS6Ai9Ra/4vb/zS2iSndTthmjT5GbRMRf2tCH7ApESFE5Hwfz9ze1nx0aznruW2G5/D3V6oBIOtYvIY97zuwXcYu9kKQyOU+aF0AAAAAAAAAsCnPWhewFbXWq9Y1tDJMBnxsXMaWeF0BAGyXc7npjq0LgIZcBw9AKaWjIJHOQkSuuUlzvOzHLGN9p2oSIgIACQgTObksTGTd9YWJALAVPYV1ZK0LYG69jHdZ64ItuhkkkiGAIWsfn9VaP5u5za35yY3/zjqmZnkOvxkRb65SCbBnWcfiNex534HtMnaxCxHhxst5HFsXAMDnjq0LAAAAAACA+wzzgB0al7EVz1sXkID5rc53GF5fAABsSERcta5h43xmYM8OrQsAIIcugkQ6DRG55mbN8bIfs4z13a5JiAgAJCJM5OSyMJF11xcmAkB2PYV1ZK0LYG69jHdZ64LNiQghIuf7eIE2N2UIUvms5B1Tsz2H/x+LVgHsXdaxeA173ndgu4xdwCiuKQbIo9Z6bF3DlpmYAQAAAABgFc9aF7AVtdar1jW05hiM5vUFALA9j1sXsHHH1gVwEQGaF3LNGwCldBAk0nmIyDU3bY6X/ZhlrO+6JiEiAJCQMJGTy8JE1l1fmAgAPck6eX3WugDm1st4l7Uu2KrrIJFsAQzp+hhCNCjlo9YFnJDyORwR31+qEGDX9nx+u+d9B7bpvWLsYn/eb11ABz5oXQAAAAAAAACwDcNcYIfGZWzFsXUBiZhY9nyH4XUGAMAG+Ix0uVrrsXUN0JhASQC2HSSykxCRa27eHC/7MctYnxARAEhMmMjJZWEi664vTASAHmSdvD5rXQCtZR3vstYFmxQRQkTO9/FC7W5OrfUnpZRsoSqZn8OCRIC57fn8ds/7DmyXsQuY4ti6AAAAAAAAAGAzTG55PuEZg1rrVesaNsbrDABgO5y7XebYugDIICKuWtcAQFubDRLZWYjINTdxjpf9mGWq738kRAQA8hMmcnJZmMi66wsTAWDLsoZ1ZK0LoLWs413WumDLnpbcAQxp+qi1frRU2xv1g9YF3JD+ORwRwkSAuez5/HbP+w4AmxERbr6cgWuLAVI6ti4AAAAAAABuG+YDOzQuYyuOtdZj6yKSEaxyvsPwegMAIDGfkWbhGtaNExw5G9fFA+zcJoNEdhoics2N6ONlP2YZ6hMiAgAbIkzk5LIwkXXXFyYCwBZlDevIWhdAa1nHu6x1wWZFhBCR8328YNubVGv9SSnls9Z1lO08hwWJAHPY8/ntnvcdANifD1oXAMCd3PsBAAAAAEBGJrU8n9CMW0wuO5rXGwBAfs7ZLuRzAnwhIq5a1wBAO5sLEtl5iMg1N6SPl/2YtaxPiAgAbJAwkZPLwkTWXV+YCABbkjWsI2tdAK1lHe+y1gVb985K/WQdJ85vvNaPlmx/w37QuP+thIiUUkqJCGEiwCX2fH67530HgC16v3UBHTi2LgAAAAAAAADIb5gT7NC4jK041lqPrYtISsDK+Q7D6w4AgIR8RprFsXUBzObYuoBOCCcC2LFNBYkIEXmNG9PHy37MWtQnRAQANkyYyMllYSLrri9MBIAtyBrWkbUugNayjndZ64JNiwghIuf7eOH2N6vW+pOW3W+wH0EiwFR7Pr/d874DHYiIx61r2DDXWLJbrjEGAAAAAAAAzmQyy/MJyzih1nrVuoaN8boDAMjLvMmXcw1rP/wtZxIRxhaAndpMkIgQkTu5QX287MdszfqEiABAB4SJnFwWJrLu+sJEAMgsa1hH1roA1vJHJ/4963iXtS7owdMV+sg6TozroNaPlu5j437QoM8thoiUUkqJCGEiwFh7Pr/d874D/RAkMpHrLLcpIkyWcbkPWhcAAAAAAAAA5DfMC3ZoXMZWHGutx9ZFJHdsXcCGHIbXHwAAiUTEVesaeiBoEO7kcyDATm0iSESIyL3cqD5e9mO2Rn1CRACgI8JETi4LE1l3fWEiAGSUNawja10Aa7orSCTreJe1Lti8iHhnhW6yjhNjfbxCH5tWa107SGSzISIDQSLAGHs+v93zvgMA+3ZsXQAAAAAAAACwCc9aF7Ah5nt62PPWBWyM1x8AQCLD3MnO0S53bF0A8xEKMztjDMAOpQ8SESJyFjesj5f9mC1ZnxARAOiQMJGTy8JE1l1fmAgAmWQN68haF0BrWce7rHVBL54u3H7WcWJKH5+t0E8P1goT2XqISCmllIgQJgKcY8/nt3vedwDYuvdbF7B1rjUGyMuN1QAAAAAAZDHMDXZoXMZm+I7/YbXWYzFp8BiH4XUIAEAOJvifh2tY4bRDRJinHWBnUgeJCBEZxY3r42U/ZkvUJ0QEADomTOTksjCRddcXJgJABlnDOrLWBdBa1vEua13QhYh4Z+Euso4TU/r4rNYqSOQMtdY1gkS6CBEZCBIBHrLn89s97zvQJ6EKwBgftC4AAAAAAAAA2AST5J7veesCNsSxGsfrEAAggYi4KoIWZyGEsUvH1gV0RqgkwM6kDRIRIjKJG9jHy37M5qxPiAgA7IAwkZPLwkTWXV+YCAAtZQ3ryFoXQGtZx7usdUFPni7YdtZxYmofH63QV0+WDBPpKUSklFJKRAgTAfgy5/YAsGERYYKMyx1bFwAAC3GeAAAAAAAwk2F+sEPjMjbDRLjnq7Uei9+txzCBLABAY8P5mOtS5nFsXQCLMBfy/F74LAiwHymDRISIXMSN7ONlP2Zz1CdEBAB2RJjIyWVhIuuuL0wEgBayhnX0UhfA3LKOXZnrMnbThYh4Z8Hms44TU/v4rNb62Qr9daPWulSQSHchIgNBIgCvc84NwE2uu2SXXHMMsAnH1gUAAAAAALB7Jsk93/PWBWyQYzaO1yMAQCPmT56da1j7dGxdQKd8FgTYiXRBIk6CZ+GG9vGyH7NL6hMiAgA7JEzk5LIwkXXXFyYCQGZZwzqy1gUwt6xjV091QWZPF2q3l9fjzT4+WqG/Hs0dvtJriEgppZSIECYC8IrzbqBLEfF+6xo2zLWX2/S4dQEb90HrAgA4i/MUAAAAAACaGeYIOzQuYzNqrVeta9iaWuuxdQ0bcxhelwAArM9E/jPy+alPPuMt5hAR5nAH2IFUQSJCRGblxvbxsh+zKfUJEQGAHRMmcnJZmMi66wsTASCjrGEdWesCWMJvjlw/azhA1rogrYh4Z6Gme3k93uzjs1rr3IEYe/GDGdvqOkRkIEgEwHk3APREkAgAcMrz1gUAAAAAAHTCRLnn8930dI7dOF6XAAArGybwP7SuoyM+A/Tt2LqATgkTAdiBNEEiQkQW4Qb38bIfszH1CREBAISJnF4WJrLu+sJEAMgka1hH1roAMsgaDpC1Lsju6QJt9vJ6vN3HRyv02aVa609KKXOEsOwhRKSUUkpECBMB9qz5OAywMKEK7EZEeL5fptZa3YQJsAG11qvWNQAAAAAAsE/DPGGHxmVshu/0p3PsRjsMr08AAFYgRGQRx9YFsCjzIy9HmAhA51IEiQgRWZQb3cfLfszOqU+ICADwOWEiJ5eFiay7vjARADLIGtaRtS6ADLKGA2StC1KLiHcWaLaX1+OX+qi1zhGEsWc/uHD73YSIDASJAHuVZRwGWJJgBfbk0LqADXNeBLA9x9YFbNCxdQEAAAAAAB141rqADTm2LqADz1sXsDFenwAAKxAisohjrfXYuggWdWxdQOeEiQB0rHmQiBCRVbixa7zsx+y++oSIAABfIkzk5LIwkXXXFyYCQEtZwzqy1gWQQdZwgKx1wRY8nbm9Xl6Pd/Xx0Qr9dq3W+pNSytQwlr2FiJRSSokIYSLA3qQahwGWEBFCRC5Qa/2gdQ2wkuvzIhOwAGyLcXsckw0AAAAAAFxomCvs0LiMLfFd/oVqrVeta9iYw/A6BQBgIUJEFuPzU+dcu7UKYSIAnWoaJCJEZFVufB8v+zG7qz4hIgDAScJETi4LE1l3fWEiALSQNawja10AGWQNB8haF6QXEe/M3GQvr8c7+6i1ChKZxw8mbLPLEJGBIBFgTzKOwwBLECTC3rzfuoANunle5BpkgA0Zbqx2A/35HCsAAAAAgMs9a13Ahgi4no/v+MfxOgUAWIgQkeX4/LQbPt8tT5gIQIeaBYkIEWnCDfDjZT9mN+sTIgIAPEiYyMllYSLrri9MBIA1ZQ3ryFoXQAZZwwGy1gVb8XTGtnp5PZ7qQ4jITGqtPymlfDZmk6VqadTPWDUifrt1EQAryDoOAyxBkAhwn9fOi9yECbA9tdarUsqxcRlb8MT7HAAAAADAZYb5wg6Ny9gSk6POZPg9hPMdhtcrAAAzEiKyKJ+f9uPYuoCdECYC0JkmQSJCRJpyI/x42Y9ZLUJEAIARhImcXBYmsu76wkQAWEPWsI6sdQFkkDUcIGtdsAkR8c6MzfXyejzZR61VkMi8fnLmersPERn+//tNqwBYXtZxGGApgkSmc03mxkSE5/s4t8+LPOcBNqrW+qS4mf6U5/WVY+tCAAAAAAA68Kx1ARty9N307PwWMo7XKwDATCLiEBFRhIgsRnjgfvisvKpDRLwQNAnQh9WDRISIpOCG+PEyH7O3hIgAAGMJEzm5LExk3fWFiQCwpKxhHVnrAsggazhA1rpgS57O1E4vr8f7+hAiMrNa6w/OWW3xQtbtZ6zX6oqI325VCMDCso7DAIsQqnAx12Vuz6F1ARty13nRce0iAJjPcDO9QJFXjuWLAJGrxrUAAAAAAHRhmDPs0LiMLfF9/fyOrQvYmIPJYgEALmf+5FX4/LQ//ubrOZRShIkAdOAX1+zMSXAqtZQSrYvYmIzHTIgIADBZrfV7EfE7pZRfuvnP5fVznj0ulxv/tnT7U9r4Sinl5ytuv/T65xzzhx6fu70pj381Ir5Ta/1hASCDrGEdWesCyKD1xP1zbpOxD2gmIt6ZqaleXo/39lFrFSSyjB+UUt498ZgQkS/7finlP1+7EICFZR2HAZYkSAS4y6nzItcjA2xcrfVYXk2idVXK/iZ1ExoCAAAAALCoZ60L2JDj8J09M6q1HiPiWHb028cMnhUBLAAAk0XEi+L8c3Gu+dmlY/E9w9peRMSx1vqkdSEATLNakIgQkZQyBmNkl+mYCREBAC4mTOTkcin3B0kIExEmctfjwkQAcsga1pG1LoDVRcT3bv1T84n7Z9xm0T5qrf/HpQqBBT2doY10r8eF+hAispBa6w8i4q4gESEiJ0TEb9dahYkAvcg6DgMs7f3WBWyc6zO3x3P+YSfPi0xkA9CfG8EiAAAAAAAw2d6Cq2fgeoPlPC+ei2McIuLgegAAgHHMnbyq560LYH1DUGTrMvboMAQkPfc5EWB7vrJGJ06EU3Oj/HgZjpkQEQBgNrXW75VS/uT2P1t+7d+Wbn9KG7c/zy29/dLrn3PMx/5NLm1vyuNfjYjvFABayRrWkbmuDN91AfuWYeL+ubbJ2Ac0FRHvzNBML6/Hc/r4bPEq9u0Ht5aFiNzv+6tUAbC8rOMwAMm5RpMO3Xde5PkOAAAAAAAAnPKsdQFbUmu9al1Dr4SoT+L1CwAwwjDJvrmTV+Lz064JkWnjUEp5ERFXjesAYKTFg0SEiGyCG+bHa3nMhIgAALMTJnJyWZjIuusLEwHgEpnDOpbuY8o2vhMEMsgycf8c22TsAzJ4euH2vbwezwoRqbUKEllQrfVmkIgQkTNExG8vXQjAwrKOwwCLi4j3W9cApPLQedFxjSIAAAAAAACAbRnmDjs0LmNLTIS6PMd4nMPwOgYA4B4RcRURUXz+WZNz+307ti5g555FxAufFwG2Y9EgESEim+LG+fFaHDMhIgDAYoSJnFwWJrLu+sJEAFhL1rCOrHUBzC3LxP1zbJOxD2guIt65sIleXo/n9vHRolVw7QdFiMiYur6/WBUAy8s6DgOs5XHrAjbOdZobExHPWteQ2DnnRZ7zAAAAAAAAwF38FjtCrfWqdQ29q7Ueiwlnx/I6BgA44UaAiHOmlfn8tG8+26VwKKW8ECgCsA2LBYkIEdkkN9CPt+YxEyICACxOmMjJZWEi664vTASApWUN68haF8AWCRGB9p5esG0vr8dz+/is1vrZopVwba3jnHW8H11XRPz2EoUALCzrOAywJkEil3GtJr0467xouBkPAAAAAAAA4HPD/GGHxmVsyfPWBeyI6zrGOZgUFgDgdQJEmnvSugBS8Nkuh0N5FShy1bgOAO6xSJCIEJFNcyP9eGscMyEiAMBqhImcXBYmsu76wkQAWErWsI6sdQEs4XsLty9EBBqLiHcu2LyX1+OYPj5arApeU2v9SSnlJ0t3s3D7U02t6/uzVgGwvKzjMMBqIuL91jUAKTgvAgAAAAAAAC5hQt0Raq1XrWvYC8d6Eq9nAIAiQCSJY6312LoI2vPZLp1n8cpV60IA+LLZg0SEiHTBjWPjLXnMhIgAAKsTJnJyWZjIuusLEwFgblnDOrLWBbBFQkQgh6cTt+vl9Timj89qrZ8tVgl3+cGCbWcd7y+qKyJ+e65CABaWdRwGWJsgkQvVWj9oXQOjed6/bsx50fPFqgAAAAAAAAA2aZhD7NC4jC3xu+v6HPNxDsPrGgBgdyLiIEAkFefy3OT5kI9AEYCEZg0SESLSFTfWj7fEMRMiAgA0I0zk5LIwkXXXFyYCwFyyhnVkrQtgi3oPEflvZmoHFhUR70zcdEuvxzn7+GiRKjip1vqTUspPlmh6gTbnMEdd35+hDYClZR2HAVYVEY9b1wA057wIAAAAAAAAuJTJdUeotV61rmFvHPNJvK4BgF0ZwkNelFdzJDsXyuFYaz22LoJUjq0L4KTrQJEXgikB2pstSESISJfcSDbenMdMiAgA0JwwkZPLwkTWXV+YCACXyhrWkbUugMVExK8s1HTvISKlCBJhO55O2GZrr8fZ+qi1frZEITzoBzO3l/W8e7a6IuK352oLYAFZx2GAFt5vXUAHXLfJlk05L/KcBwAAAAAAAD43zCN2aFzGlhxbF7Bjz1sXsDEHk78CAL27Dg+JiCivwkMOjUvihlrrk9Y1kMsQLHNsXAb3O5RSXgxj61XjWgB2a5YgESEiXXOj/XhzHDMhIgBAGsJETi4LE1l3fWEiAEyVNawja10AS/vGAm3uIUQENiEi3pmwWS+vxyl9fDR7FZyl1vqTUspP5mpupnbmNndd35+5PYC5ZB2HAVp53LqADrh2c2Mi4lnrGpKYdF403IAHAAAAAAAAcM1vsOMIs2ik1nrVuoYN8voGALoSEYchPCSEh6TnsxOneG5sw6GU8mwYbq8EVQKs6+IgESEiu+CG+/EuOWZCRACAdISJnFwWJrLu+sJEABgra1hH1roAtkiICCQREY9KKU9HbtbL63HqRJ2CRNr6bIY2so73i9QVEb+9RLsAF8g6DgM0ERHvt66hE67fZIucFwEAAAAAAAAXG+YSOzQuY0uOtdZj6yJ2zoSz4xxM9goAbNmN4JAXQ3DIiyIsbQuOggA5ZfhcfWxcBuM8K6W8ECoCsJ6LgkSEiOyKG8zGm3LMhIgAAGkJEzm5LExk3fWFiQBwrqxhHVnrAljLr8zYlhARyOWdkev38nqc2ocQkcZqrX/v0iZmKWR+S9b1/QXbBhgr6zgM0JIgkRm4hpMNuuS8yIQqAAAAAAAAwE0m4B3Hb67tHVsXsEFe5wDAJtwIDbkaJqu/GRxyaFsdI/nsxEM8R7ZLqAjACiYHiQgR2SU34I835pgJEQEA0hMmcnJZmMi66wsTAeAhWcM6stYFsKZvzNTOHkNE/sWCbcNFIuJRKeXRiE22/nq8uI9aqyCRHH4wcbus592L1xURv710HwBnyDoOAzQTEUJE5uEazm3a8/PfeREAAAAAAAAwi2E+sUPjMrbkWGs9ti5i74a/wbFxGVtzMLErAJDJjbCQq4h4cUdoiCC0bXvusxMP8dmuGzdDRV5ExFXrggB68YtTNhIismu1lBKti9iYc46ZEBEAYDNqrd+LiN8ppfzSzX8ur5/z7HG53Pi3pduf0sZXSik/X3H7pdc/55g/9Pjc7U15/KsR8Z1a6w8LAHPJGtaRtS6ALdpjiEiptf43S7YPF3pnxLqbfz3O0IcQkSRqrX8vIt4du9kixVxurbq+X0r5z1fqC+AuWcdhgNb2HKQwJ9dxsiVznBd5zgMAAAAAAADXTM47zvPWBfC550UIzljPikl6AYCF3TOBvM8e+3GstV61LoLN8NmuL4fyKsjyesx/XkopxgSAaUYHiQgRoQgTmeK+YyZEBADYHGEiJ5dLGRdcIUxEmIgwEYB5ZQ3r6KkugMki4ldmaCbreGdMZbci4lEp5dGZq/fyeryoj1qrIJFcflBKOTdMJOt4v2pdEfHbtVZhIkALWcdhgKYiQojIfFzLyVbMcl5Uaz3O0Q4AAAAAAACwbcMEv4fGZWzJ0e+tedRajxFxLJ7DYxwi4uB5DHDSsxuTXgMwnQBGzuazXfeelVLKjXOsYxnu3xAuAvCwr4xZWYgIN7gxf7y7jpkQEQBgs2qt3yul/Mntf7b82r8t3f6UNm5/Dlx6+6XXP+eYj/2bXNrelMe/GhHfKQCsLWtYR9a6AC71jQu3zzreGVPZu3fOXK+X1+OlfQgRSabW+vfOXXXRQqZrUdf3G/QJkHUcBshAkMhMXM/JRjgvAgAAAAAAAOZmouxxXF+QjwmKx/O6BwBgSU8E1zGBz3b7cSivPpc+iy+8iIir4X+HtuUB5HJ2kIgQEe7gRrTxbh4zISIAwOYJEzm5LExk3fWFiQAwRdawjqx1AczhVy7YNut4t9aY+kcr9QOjRMSjUsqjM1bt5fU4Rx+fzdAG8/vBA49nPYduVldE/HarvoFdyjoOAzQXEUJE5uN6zg2KiL1NajHneZHnPAAAAAAAAFAi4qp1DVtTa71qXQOvGyYoPjYuY2sOXv8AACzkKESEKXy2271DGcJFSikv4nVXQkaAPTsrSESICPdwo/54tQgRAQA6Ikzk5LIwkXXXFyYCwBhZwzqy1gUwl29M3C7reLfWmFpLKf9ipb5grHfOWKeX1+MsISK1VkEiCdVa/959D69WyDit6/p+4/6B/Wg93gFkJ0hkPq7pJLu5z4uOM7cHAAAAAAAAbNOz1gVszPPWBXCSv814Xv8AAMyu1vqkdQ1sms923OVZOR0yEhHx4lbYiNARoCu/+NAKQkQ4Qy2lROsiNkSICADQnVrr9yLid0opv3Tzn8vr54l7XC43/m3p9qe08ZVSys9X3H7p9c855g89Pnd7Ux7/akR8p9b6wwLw/2fv35pmudL8sO9Z4IQ/gK81B1KyGFbYomwdBsTG7l0bTUmUFPaFI3omSNkhWifSlk2MFUaLAHqw3xemGo2WjCZlHR0hWadgm5IPknmQbKt7v5sAtMe+sD22JevAU4gXvvAHcNCamMcXu/agUKjKyszKzLUy6/eLQGBX5jo8VfXmqnoPtf7ModWwjlbrAqit1fVuyRARaFJmvhURb11otpXrcao5fjjROMzji4h4++hYq+twE3Vl5p8ppfw9tesANq2J9Q6gVZkpRGRa/q6TlnlfBAAAAAAAAEwuM+9q17A2pZS72jVwWinlIdM2aENl5p2vawAAJiREhKvsv7e7D8GHDLPb/3fsWcfPCs6G1vg+GWhNZ5CIEBEGECbSzzullIfaRQAAzEGYyNnbEd1BEsJEhImcOi9MBGAerYZ1tFoXwGQy890R3Vpd74SIwCvvXTi/letxqjm+LKV8OdFYzOPT+HqQSKvrcEt1vZ2Zb5dSvqhdCLBJLa13AK0SJDKhUoogkXV6UruABcz1vsjXPAAAAAAAAGBTzmHObjBJM2w2O9yziLirXQQAAJvw1H67TKGUcpeZvrdjbme/xi58/Z37+dCDNRCYy9kgESEijCBMpJsQEQBg84SJnL0dMSy4QpiIMBFhIgDTazWso9W6AGprdb2rEiJSSvnRQvNCL5n5VkS81dFkK9fjlHP8cMKxmEEp5YvM/CJehYm0+h66xbrej4i/p3YRwOa0uN4BNCUzf1K7ho35uHYBjLb1IJHZ3hf5m2YAAAAAAAC4bZl5V7uGtSml3NWugW42mx0nM+98fQMAcCUb6DO1p2FfdNp07ucOzzLPbsv+EBEvzp2zfgKXnAwSESLCFYSJnCZEBAC4GcJEzt6O6A6SECYiTOTUeWEiANNoNayj1boA5vDugLatrndVQkSgUe91nNvK9TjlHF+WUr6ccDzm82lEPK5dxBmtvj48zszHpZTPaxcCbEar6x1AMzLzSWw/PGFp5z6QATV5XwQAAAAAAADMSdjCMPe1C6C3+/D1PdSziLirXQQAAKv1UEp5WrsItqWU8pCZDxGxq1wKTGEX57+WuwJIzv48SiAo3JZvBIkIEWECwkS+TogIAHBzhImcvR0xLLhCmIgwEWEiANdrNayj1boAamt1vRMiAnuZ+VZEvHXm9Faux6nn+OHE4zGTUsoXmflFRLxdu5Yjrb4+vK7r/YgQJAJModX1DqA1H9UuYGtKKYJEaI33RQAAAAAAAMBsMvOudg1rY3PG9Sil3GWmIJGBMvPO1zkAAGMIEWFG9yFIhNt29ucbF372cS6A5MEe6bBOXwsSESLChISJvCJEBAC4WcJEzt6O6A6SECYiTOTUeWEiAOO0GtbRal0As8jMd3s2bXW9qx0i8qOF5oe+3jtzfCvX4+RzlFK+nHpMZvWDiPjTtYs40Op7+8O63s7Mx6UUYSLANVpd74bayv0AGpWZH0XEk9p1bMzHtQuAI0u8nzj3wSAAAAAAAADgNghZGOahdgEMdh++zod6FhF3tYsAAGB1hIgwm1LKQ2b6/g6GO3fNPMs8u138Q0S8OHfO/upQ188c3fbCyJRuPUxEiAgAcPOEiZy9HTEsuEKYiDCR12EiO99nAPTWalhHq3UBzOnNHm1aXe9qh4hAUzLzrYh468SprVyPc8zxwxnGZEallC8y84uIeLt2LdHu68Oput6PCEEiwFitrndDbeV+AI3KzCcR8VHtOjamxPkPOtC4zNzi3717PwEAAAAAAADMKjPvatewQve1C2CYUsrdRv+uYFaZeVdKuatdBwAAq/HUXljMbf/93ZOI2NWuBTZuF+evs64AkrM/N/MzBpjObwWJ7H/Av6tWCVt1q2EiQkQAAPaEiZy9HdEdJCFMRJjIqfO7zPzLpZS/HAB0aTWso9W6AOb2ixfOt7reCRGBb3rvxLGtXI+zzFFKESSyTi0EibT6+nCurrcz83EpRZgIMFSr691QW7kfQNuEiEyrRESUUgSJ0ArvJwAAAAAAAIAlCFcY5sE+Uqt1H77eh3oWEXe1iwAAYBWEiLCk+7BnOrTq7M9eLoS8CiCBAX7m4N9+4Mlcbi1MRIgIAMARYSJnb0cMC64QJiJMJOPVD7T/5QDgnFbDOrZSF8AgmfnmhSatrl3NhIiUUn60RCFwSWa+FRFvHR3eyvU41xxCRFaqlPKDzPwjNUuoOHeXS3W9HxGCRIAhWl3vhtrK/QAalpk/iYgntevYkNdr98dVq4CvLP1+QoAOAAAAAAAA3KDMvKtdwwqd3dSQ5j2EffUGy8w7G3YCAHDBvT13WVIp5SEzn0bE89q1AJMZE0DyEOc/CyEMmE37mQg/4GcRtxImIkQEAOAMYSJnb0d0B0kIExEmcnz+FzLzF0opfzkAOLaVsI5W6wIY4xc7zrW6djUTIgKNee/o9laux9nmKKUIElm3H0REjTCRVl8f+tT1dmY+LqUIEwH6aHW9G2or9wNoWGY+CSEiUzpcux9qFQEHFn8/4W+dAQAAAAAA4GYJVRjGBoQrtt9o9iEidpVLWZtnEXFXuwgAAJr1IHiOGnyPB8Sr63935tyzzLNb3z/EmQASr2msxc/s/+8H/Cxh62EiQkQAAC4QJnL2dsSw4AphIsJEdhHxLwcAh7YS1tFqXQBjvXvmeKtrV2shIr82axXQU2a+FRFvHRzayvU45xxCRFaulPKDzFw6SKTV9+lD6no/IgSJAJe0ut4NtZX7AbTvJ7UL2JCvrd2llJMfBIAFeT8BAAAAAAAALCIz72rXsEL3tQvgavdhk9nBMvPORpoAAJzwUEp5WrsIblcp5WlmPg/f5wHD7OLMupGZXbkMJ3826Gcm1PAzmbmrXQQ3ZathIkJEAAB6EiZy9nbEsOAKYSK3HSby2wOAa7Qa1tFqXQCjZOabZ061una1FiISEfFytipgmPcO/r2V63HWOUopgkS24QcRsVSYSKvv04fW9XZmPi6lCBMBzml1vRtqK/cDaFxmChGZzvHa/XGVKpjSR7ULuJL3EwAAAAAAAMCSujbF45se7Ce1fqWUh8x8CJvMDvUsIu5qFwEAQFOEiNAKgZHAUk7+PPVM+Mhx6IifLTKpN8KLH8vb2gffhIgAAAxUSnk3In79+LDbXzs29/hjxnhj4f5zt+/zmA99Tq4dr/f5zPSLFYBxWg3raLUugGv84oljra5dLYaIQBMy862IeGt/cyvX49xzCBHZiFLKD5aaaqF5hhpb1/uTVgFsSavr3VBbuR9A4/YhIk9q17ERp9buh6WLgAM130+8qDg3AAAAAAAAUEFm3tWuYYX8bnU7jjdypAfrBgAAB4SI0Iz9/s++HoHWPDv673l+3d3hf1UrZZXeCEnh1LGVD9QLEQEAGEmYyNnbwkSWbb/qMBEABms1rKPVugCu9e7R7VbXrlZDREop5UezVALDvLf//1auxyXm+HKBOVjO3GEirb5Pv6autzPz8WSVAFvR6no31FbuB9C4zHwSQkSmcmrtflFKseEHtdR+P/FQeX4AAAAAAABgefYYG6iUcle7Bqax3x/soXIZa2TdAAAgQogIDfJ9HrBCXwsaOQoZeX4QMrKrWyat+pnaBXDTSkRk7SKuIEQEaEZm/g0R8Te8vnl46rjp/r//qJTyHy1RG0CXUsq7mfnHI+J3HR6Or69ft3g7Do7NPf6YMd6IiN9csP/c7fs85pfOTz1en/O/EAAM0WpYR6t1AVwlM4WIXDePdZsmZOZbEfFWbOd6XCREpJQiSGRDSik/yMw/MtfwM417rSnqej8iPp9gHGAbWl3vhtrK/QAatw8R+UntOjbi3NotRIRavJ8AAAAAAAAAFpWZd7VrWKH72gUwufuI2NUuYm0y806oDgDATRMiQrNKKU8z83n4Xg9Yv118tZY9y/ytLScfYv/5Jz+fQZAIta01TESICDCrzPyvRMR/Nb6+Rv5yfBUEkgfnjv8d8Wrz9ONjXzu3f3N4rv2fOrr9n5RS/pOr7hTAGcJEzt6Og2PCRISJnDr/2wOAvloN62i1LoApvHnw71bXrtZDRF5OXQiM8F5s53pc6pr/4ULzsKwvIuLticds9X36VHW9nZmPSynCRIBW17uhtnI/gMYJEZnU2bW7lGLDD2rwfgIAAAAAAACo4VntAtbGxnzbU0p5ONiEkf6eRcRd7SIAAKhCiAjNEyYCbNxu/19k5uHPeF9/JurB/vi3Q5AILVhbmIgQEWASmfk3RsTfGF+tgb8/zgeFvP7/8YeJD4+9/nfGV5unHx7rOnd87L+xH/P1Buy5Tx55/d+ffV1XKeXPjnsEAL4iTOTs7Tg4JkxEmMi58wB0azWso9W6AKbyi/v/t7p2tR4iEhHxa1MWAkNl5qOIeLTAVFu65r8spXy50Fws6wcR8acnHK/V9+lT1/V+RAgSgdvW6no31FbuB7AOQkSm0bV2f7xYFfAV7ycAAAAAAACAxWXmXe0aVuj+chNW6j4E6wyWmXfCdQAAbs6994CsyH0IEgFuy+ufbz07CM69jxCQvGWCRGjFWsJEhIgAo2Tm74pXoSEREf/tOB0S0hUUcvz/U22O218bJnJ47HjOv/uru5Z/10H9/+7+/3++lPLnOx8UgCPCRM7ejoNjwkSEiazleyeAVrQa1tFqXQCTyMx39/9sde1aQ4hIRMTLqQqBkd5bYI4tXfMRET9ccC4WVEr5IjO/iIi3pxhugjHmMEddb2fm41KKMBG4Ta2ud0Nt5X4AK5CZQkSm0bl2l1Js+LEBmbmmjT1aez/xonYBAAAAAAAAwGLW9LvVJthsb7tKKXcr+3uDVjyLiLvaRQAAsJin9txlTUopD5n5NCKe164FoKJnEV/7rM1DvPrsyIPX9W0QJEJLWt8QV4gI0Ftm/n37f/6N8WpD/FOBIafCQdYUJnKqjt+7//9v5qtour8QEX8+XgWL/IUAuECYyNnbcXBMmIgwkda/dwJoRathHa3WBTCld6PdtWstISJRShEkQjWZ+Sgi3pp5mi1d8xERX5ZSvlxwPpb3g4j401eO0er79Dnrej8iBInA7Wl1vRtqK/cDWIF9iMiT2nVswKW1W4ACS2vu/YS/hQYAAAAAAIDbkJl3tWtYofvaBTC7+xCwM1hm3gnZAQC4CUJEWCVhIgDfsNv/9+zV1tCCRdbujdoFwJHmPjC3J0QE6JSZf1Nm/oHMfJ6ZzyPi79v/9zftm5SD/5cTx06dKz3bn+p32O6NjjFOnTt37NKc5cQYf21E/J0R8d/PzH8yM/9QZv4dmfk7AuCMUsq7EfHrx4fd/tqxuccfM8bx95dz95+7fZ/HfOhzcu14XecB+LpWwzparQtgMpn5ZrS7dq0mRCQihIhQ23szj7+la/61Hy48HwsrpXwREV9cM8RUtUxs7rrezszHM88BtKXV9W6ordwPYAWEiEymz9ptww+W5P0EAAAAAAAAUJOwhIEEJWyf53g06wkAwPYJEWHV9l+/T2vXAdCoXbz6+c7zfOV5Zt5l5q5uWfQlSIQWtfbBOSEiwEmZ+fdn5j+VmX8uIv54RPx343I4SNexU+e2ECZyeP6vi4i/PSL+e5n5aWb+nsz8PQFwRJjI2dvCRJZtL0wEYJ1aDetotS6Aqb07os+WAgWmen34tWsLgbEy81FEvDXjFFu65r+asJQvl56TKn4wsl+r79OXquv9heYB6mt1vRtqK/cDWAEhIpPps3a/KKW8mL0SeMX7CQAAAAAAAKCazLyrXcMKPdQugMXc1y5gjawrAACb9RBCRNgIYSIAve3i68Eid3720zZBIrSqlQ/QCREBviYz/4HM/Kcz84t4FRzyX9ufGhMccqthIofn/vaI+D2Z+YPM/Icy89sBsCdM5OxtYSLLtm85TOSnAcCxVsM6tlQXwFmZ+WZEvDmw25YCBaZch19eUwhc6b0Zx97SNX/ohxXmpIJSyhcR8cXQbnPUMoEl63o7Mx8vOB9QR6vr3VBbuR/ACggRmUzftdsmECzF+wkAAAAAAACgtme1C1ghf1dwI0opd7VrWCnrCgDA9jyUUoSIsCnCRABGeRYRz/ahIs+FirTnjZCETbtqf5BOiAgQERGZ+Q9m5j+Tmf9+RPwD8So8ZEgQyNBjp85tOUzk9b//2oj4dmZ+f/+YvxPAzRMmcva2MJFl27ccJgLAdVoN62i1LoBL3h3YfkuBApOuw6UUQSJUkZmPIuKtmYbf0jX/9UlLESRyW4YEibT6vrtGXe9XmBNYTqvr3VBbuR/ACggRmUzvtbuU8mLOQmDP+wkAAAAAAACgKpu8jfJgn6mbIzhmBOsLAMCm3JdShC2wScJEAK6yi69CRTIz7zJzV7mmm/dGRPhgHC2r9YE6ISJw4zLzH8rMfy4z/08R8Q9GxN8c1wWBDD126typ0I5T7U/1O2zXcpjI63F/R7wKFfmjmfn3Z+ZvD+BmCRM5e3tocMU1448ZQ5jIzOOVUn4aAFyj1bCOVusC6OPNAW23FCgw9TosRISa3ptp3C1d88eEiNyYUsoP+jadtZDxatX1dmY+rjQ3MK9W17uhtnI/gBUQIjKZIWv3x7NVAV/xfgIAAAAAAABowbPaBayQUInb81C7gJWyvgAAbMPTUspd7SJgTsJEACbzLCKeCxWp6w1v3liBpT9YJ0QEblRm/s2Z+Q9n5v85XoWH/Nf3p6YKAplijFsKE3l9/ndExN+fmR9npm/G4UYJEzl7W5jIsu1bChP5SwHANVoN62i1LoCLMvNXBjTfUqDAHOvwr40pBK6VmY8i4q0Zht7SNf/NiUsRJHKbLoWJtPq+u3Zd71eeH5he7XVlKlu5H0DjMvNJZv5GCBGZwqC1u5Riww/mtpb3E64FAAAAAAAA2LDMvKtdwwo92Gvq9uyf84fKZaySdQYAYPXufQ/ErRAmAjA5oSKVvN409aFmEdDDUh+wEyICNygz/2Bm/gsR8S9ExD8U3RunXxsEMsUYp0I7TrU/1e+w3ZrCRF7/93QfKPIHMvMXArgpwkTO3h4aXHHN+GPGECYyz3h/MQAYa8zPmebYJL5Gn7VsYgWs07s9220pUGCudfjl0EJgIu/NMOaWrvlThIjcqFJKV5BIq++7W6jr7cx8XLsIYDItrCtT2Mr9ABqXmU8i4ie169iIoWv3x7NUQW0tBfJ4PwEAAAAAAAC04lntAlbovnYBVOO5H8c6AwCwbi39DS7MTpgIwGxeh4o8Fzw7v9cbpvqBJmsw9wfthIjAjcnMP5SZ/5eI+IMR8bfsD58K3oiOc2OCQKYY41Rox6n2p/odtltjmEhExO+IiD+QmX/ffqMF4EYIEzl7e2hwxTXjjxlDmMjE45VSbDIEMM6Yny/NtUn80n1sYgXMJjN/pWfTJdaipda72dbhUoogERaXmY8i4q2Jh93SNX968lIEidy2U2Eirb7vbqmu92sXAEyipXXlGlu5H0DjhIhMavDaXUq5n6MQqmvlb8a8nwAAAAAAAACaYLO2UR7sN3W79s/9Q+UyVsl6AwCwart85a52IbAUYSIAs9pFxLP9+4vnmbmrXM8mvRHhB5qsylwfuBMiAjciM/+WfYDI/zVeBYj0DfaIjnNjgkCmGONUaMep9qf6HbZba5jIGxHx2+PVD6Q+EigCt0OYyNnbQ4Mrrhl/zBjCRKYbzyZDAOOM+bnS0D5LzDGmj02sgLm926PNEmvRUuvdnOvwjwaODVN5b+LxtnTNnyNE5MaVUo6DRGp/TZ7TWl1vZ+bj2kUAV2ltXRlrK/cDaFxm/iT8fm8qY9bujyevAr7i/QQAAAAAAADQkme1C1ihF7ULoLr72gWslPUGAGD9ntnsm1tSSnkopZSw/zrAnHYR8Vxo2fQON0r1A03WYuoP3gkRgRuQmX9rZv6LEfEvRsQfitMbdV8K9hjavu+5a8Y4Fdpxqv2pfoft1hwm8vr2k8z8VYEicBuEiZy9PTS44prxx4whTOT68f5SKeXfCwCGGvPzpKF9lphjTB+bWAGzysxf6dFsibVoqfXOOszmZOajiHhrwiG3dM13+bJ2ATThdZhIC1+Tp7Ra1/u1CwBGa3VdGWor9wNo3D5ExN+xTGPM2v2ilHI/eSXwivcTAAAAAAAAQDNsyjZOKeWudg3Utd937KFyGatk3QEA2IRdvNrs+3ntQmAppZSn4ftAgCU82weKCC6bwG9tkrr/gebTeqXAIFN9AE+ICGzcPkDkX4pXASJ/6/7wcQDG8bGu8I6h7fueu2aMU6Edp9qf6nfYbgthIiUivrUPFPlWAJsmTOTs7aHBFdeMP2YMYSLXjSdEBGC4MT9HGtpniTnG9LGJFTCrzHwzIt690GyJtWip9W72dbiU8tnQPjCB9yYca0vXfJcvSymCRIhSyg+ija/JU1qu63FmPq5dCDBYq+vKUFu5H0DDMvNJZv5GCBGZyti1+37SKuAr3k8AAAAAAAAArXlWu4AV8ncFvOZrYRzrDgDAduz2G33vahcCS9iHifheEGAZu3gVXJaCacf72gap0pFZmWs/iCdEBDYuM/8XEfEvxasAka6QjThxrCu8Y2j7vueuGeNUaMep9qf6HbbbSphIRMSTzPxQoAhsmzCRs7eHBldcM/6YMYSJjBvvXyil/MUAYIgxPz8a2meJOcb0ufZnZwB9CBGZrn1ExMsRfeAqmfkoIt6aaLgtXfOX/LB2ATTli9oFnNDKtXLssK73q1UBjNHqujLUVu4H0LDM/CgiflK7jg0Zu3a/KKW8mLQSeMX7CQAAAAAAAKApNl8bp5RyV7sG2mAPsvGsPwAAm/M8M5/XLgKWsP+5wNPadQDcmGcCRcY53hz1dSrWw/KlwChjP5AnRAQ2LDP/kcz8D+LrASJx8O9z/z8+1hXeMbR933PXjHEqtONU+1P9DtttKUzkjYh4vA8UeRzAJgkTOXt7aHDFNeOPGUOYyLDx/udCRAAGG/Nzo6F9lphjTB+bWAGzy8w3I+LNjiZLrEVLrXdLrcO/NrIfXOO9icbZ0jV/yZellC9rF0FTPqldwJFWrpVjx3U99rsbWI1W15WhtnI/gEZl5pPM/ElEfFS7lg25Zu2+n6wK+Ir3EwAAAAAAAECLntUuYIX8XQHHfE2MY/0BANie3X6D713tQmBu+32pn4Z92AGW9jpQ5Ln3HP18I0gkIoSJsDZDP5gnRAQ2ah8g8h9GxD8SpwMy4sSxS226wjuGtu977poxToV2nGp/qt9hu62FiUREfCsz/97M/LkANkeYyNnbQ4Mrrhl/zBjCRPqN9y+UUv5CADDEmI2chvZZYo4xfcbMATDGux3nlliLllrvFluHSymfje0LY2Tmo4h4a4KhtnTN9/HD2gXQllLKFxHxRe069lq6Vg6dq+v9RasAxmh1XRlqK/cDaFRmPomIn0TEk9q1bMg1a/eLUsqLySqBV7yfAAAAAAAAAJqTmXe1a1ijUspd7Rpoi6+J8axDAACb9Twzn9cuAuZWSnmwDztANbvYv+cQKNLtZJBIRAgTYW36fkBPiAhsUGb+bZn5r0bE/+Do1KmAjDhx7FKbrvCOoe37nrtmjFOhHafan+p32G6LYSK/EBF/b2b+foEisD3CRM7eHhpccc34Y8YQJtI93j8vRARgsDEbOQ3ts8QcY/osVRdw4zLzVyLizTOnl1hXllq7lliHX3t5RV8Y670JxtjSNd/Hl6WUL2sXQZM+qV1AtHWtHOqq63FmPl6sEuBWtbo+AhuRmT+JVyEiTOeqtbuU8s5UhcCe9xMAAAAAAABAq57VLmCF7msXQLN8bYxjHQIA2K5dvrKrXQjMbb8P+9PadQDcqF0IFOl0NkgkIoSJsDaXPqgnRAQ2KDP/tYj41yLib4vzm5kfh1vEiWOX2nSFdwxt3/fcNWOcCu041f5Uv8N2WwwTeSMifj4ifn9mvh3ApggTOXt7SHDFteOPGUOYyOnx/jkhIgCDjdnIaWifJeYY02epugAiIt49c3yJdWWptWuJdfjQr13ZHwbJzPci4q0rh9nSNd/XD2sXQJtKKV9ExBc1S6g4d5c+db0/exXALWt1fQQ2IDM/yszfiIgntWvZmGvX7o8nqQK+sqn3E6WU+9o1AAAAAAAAANPIzLvaNaxRKeWudg20ydfGeNYjAIDNe+49H7dgv2f107AXO0AtuxAoclJnkEhECBNhbc59YE+ICGxMZv4PM/M/jlcBIhGnwzDixLFTm3af+/+5cS/N1ad933PXjHEqtONU+1P9DtttNUykRMTbmflHMvPnAtgMYSJnb/cJrphq/DFjCBP5OiEiAMON2chpaJ8l5hjTZ6m6ACIzf3zm1BLrylJr1xLr8NcHKOWza8eAgd67sv+WrvneSilf1q6Bpn1Sad7mrpW9vnU9zszHs1YC3KpW10dg5TLzSWb+JCI+ql3LBk3xM5b7KQqBPe8nAAAAAAAAgJY9q13ACj3ULoDm+duTcaxHAADb9ywzn9cuAuZWSnnY78Xu+0OAenYhUORrLgaJRIQwEdbm+IN7QkRgQzLzFzPzX4+IPxznN/A+t5n5cbjFcZ9T/z837qW5+rTve+6aMU6Fdpxqf6rfYbsth4lERPz+zPx9AWyGMJGzty8FW0w5/pgxhIm88s8KEQFYxPG6PHX7pfosVRdAZOabEfHmiVNLrCtLrV1LrMPHXk4wBvSWmUJExvlh7QJoWynli4j4YulpF56vr6F1vT9LFcAta3V9BFZuHyDyk4h4UruWDZpi7X5ngjHgNe8nAAAAAAAAgGZl5l3tGlbqvnYBtK2Ucle7hrWyLgEA3IRdvrKrXQjMbf/94dOwHztATbt4FShyV7mO6noFiUSEMBHW5vUH+ISIwIZk5h+OiH89In5xf6hrw/Jz547DLY77nPr/uXEvzdWnfd9z14xxKrTjVPtT/Q7bbT1M5Ocz8x/LzJ8LYBOEiZy9fSnYYsrxx4xx62Ei/5wQEYBFDN38aWj7pfosVRfAaz8+cWyJdWWptWuJdfiUX5toHOjrmiCRLV3zg5RSBInQx5JBIk1eKzGurseZ+XjySoBb1er6CKxYZn6Umb8RAkTmMsXa/aKU8mKCcSDC+wkAAAAAAACgYfsNW5/VrmOFHuxDRU/3tQtYKesSAMDtsKE3N6GU8rDfj933iQB1PduHmd3VLqSW3kEiESFMhLURIgIbkZm/mJl/IiLejWEblp87dxxucdzn1P/PjXtprj7t+567ZoxToR2n2p/qd9hu62EiJSJ+X2b+vgA2QZjI2duXgi2mHH/MGLcaJvLPllL+fAAwt+N1eOr2S/VZqi6AiIjITCEi17U/P1Apn001FlySmUJExhEiQi+llE+WmmqheYa6pq73J6sCuGWtro/ASmXmk8z8SUR8VLuWDZtk7S6lvDPFOBDeTwAAAAAAAADts1n/OPe1C2A1HmoXsFa3vJkjAMANepaZz2sXAUsopdxFxNPw/SJAbc8y8/k+bPumDAoSiQhhIqzFUyEisA2Z+W5E/ImI+MX9oXObk5/bwPtS+1Obep/7/7lxL83Vp33fc9eMcSq041T7U/0O291CmMjPZeZ3M/NnA1g9YSJnb18Ktphy/DFj3FqYyD8jRARgEUM3fxqzWdQSfZaqCyAiIjLzzYh48+jwEuvKUmvXEuvwOT+acCzoY2yQyJau+aFKKUWQCEP8YObxm71Wruz/ODMfT1IJcKtaXR+BFToIEPlJRDypXc+GTbV2CxFhKt5PAAAAAAAAAE3bb5C2q1zGGj3Yi4q+9l8rD5XLWKtnt7iRIwDADdvd6mbe3J5SysN+T/antWsBuHG7iHh+a+9BBgeJRIQwEVonRAQ2IjN/HBHvRv/Nyc9t4H2p/alNvc/9/9y4l+bq077vuWvGOBXacar9qX6H7W4hTKRExO/LzLcCWD1hImdvdwVbTD3+mDFuJUzknxYiArCI43V56vZL9VmqLoBDPz66vcS6stTatcQ63OXlxOPBWZkpRGS4EhFCRBiklPLJnMPPOPY1pqrr/YnGAW5Pq+sjsDICRBY11dr9opTyYqKxuG3eTwAAAAAAAABr8Kx2ASt1X7sAVsfXzHjWKQCA27KLV5t57yrXAYvYB4qU8H0jQG27ePUe5K5yHYsYFSQSEcJEaJUQEdiAzHwzM/9SRLwZ3wyfiIPbQzYsv9T+1Kbe5/5/btxLc/Vp3/fcNWMcB2mca3+q32G7WwkTeTszfzmA1RMmcvb2qde3ucYfM8bWw0SEiAAs43g9nrr9Un2Wqgvgt+zDfg8tsa4stXYtsQ53D1iKIBGWNCZIZEvX/FAlIqKU8mntQlilH8wwZtPXykQeZ+bjCccDbkOr6yOwIgJEFjfZ2l1KeWeqsbhp3k8AAAAAAAAAzdtvyrqrXMYaPdiPiqH2XzMPlctYq51NpAEAbpIwEW5KKeUuIp6G7x0BanuWmZt/HzI6SCQihInQGiEisAGZ+T+KiP9lnN7UvO/m5Oc28L7UvmvOS226wjuGtu977poxToV2nGp/qt9hu1sJE/n5zPwfZ+bPBrBqwkTO3j71+jbX+GPG2GqYyP9MiAjAIo7X4anbL9VnqboAfktm/kq8Cvt9bYl1Zam1a4l1+JIfzTAmnJSZQkSGeV3XD6tWwWqVUj6ZesiJx5vKHHX92RnGBLar1fURWAkBIlVMuXYLEWEK3k8AAAAAAAAAa/GsdgEr9aJ2AazWfe0CVsx6BQBwm55n5l3tImAppZSH/d7sT8P+7AA17WLj70OuChKJCGEitEKICGxAZv7JiPiV+GbQRJw59vr2kA3LL7XvmvNSm3NhHJfquHRsaPu+YxwHaZxrf6rfYbtbCRN5IyJ+OTPfCmDVhImcvX3q9W2u8ceMsbUwESEiAMs4Xn+nbr9Un6XqAvgtmflmRLx7cGiJdWWptWuJdfjyoKV8Nse4cMbQIJEtXfNDHdb1RbUq2IIfTDTOGq6VSWXmB3ONDWxKq+sjsAKZ+VFm/kYIEFnalGv3i1LKiwnH4zZ5PwEAAAAAAACsQmbuImJXuYxVKqXc1a6BddrvZ/ZQuYy12u3XLQAAbs+zzHxeuwhY0lGgCAD1PMvM51v8udTVQSIRIUyE2oSIwMpl5u/OzH8jIn73weHjoIlzx17fHrJh+aX2XXNeatMV3jG0fd9z14xxKrTjVPtT/Q7b3VKYyFuZ+csBrJowkbO3T72+zTX+mDG2EibyT5VS/tMAYG7H6/DU7Zfqs1RdAMd+fPDvJdaVpdauJdbhPl7ONC58Q2YKEenvsK4vSylfVquE1SulfDLFMBOMMYe563p/5vGB9Wt1fQQalplPDgJEPqpdzw2adO0upbwz5XjcJO8nAAAAAAAAgDV5VruAlbqvXQCr52toPOsWAMDt2gkT4RbtA0VK+F4SoKZdRDzPzLvKdUxqkiCRiBAmQi1CRGDlMvN3R8S/ERFv7g+d2sD80rHXt4dsWH6pfdecl9qcC+O4VMelY0Pb9x3jOEjjXPtT/Q7b3VKYyM9m5i9n5s8GsFrCRM7ePvX6Ntf4Y8ZYe5iIEBGAZRyvv1O3X6rPUnUBfE1mChEZ136IH804NhwbEiSypWt+qOO6Pq1SBVvzxRV913KtzCIzP1hiHmCVWl0fgUbtw0N+EhE/CQEitUy9dgsR4VreTwAAAAAAAACrkZm7iNhVLmOVSil3tWtg3extdpXdfv0CAOA2CRPhZpVS7gSKAFT3LDOfb+XnU5MFiUSEMBGWJkQEVu4gRCTi/Kblx0ET5469vj1kw/JL7bvmvNSmK7xjaPu+564Z41Rox6n2p/odtrupMJGI+CVhIrBuwkTO3j73ujzH+GPGWGuYyB8XIgKwiON1eer2S/VpdQ5g4/YhIqdCf+ey1FrU1BpZSnk55/jwWmYKEennuK4vSylfVqmErflkZL+1XCtzen/BuYD1aHV9BBqTmU/2ASK/Ea/CQ57UrumGTb12f1xKeTHxmNwW7ycAAAAAAACAtXlWu4CVuq9dAJvha2k86xcAwG0TJsJNEygCUN0uIjYRJjJpkEhECBNhKUJEYOUy89+MiH/z6PC5TcuPgybOHXt9e8iG5Zfad815qc25MI5LdVw6NrR93zGOgzTOtT/V77DdLYWJlBAmAqsnTOTs7XOvy3OMP2aMtYWJCBEBWMbxejx1+6X6tDoHsHGZ+WYIERnTfqgfzTw+HOobJLKla36oU3V9ungVbFIp5YuI+GJotzlqmcDidWXmB0vPCTSt1fURaMRReMhP4lWACHVNvXa/KKXcTzwmt8X7CQAAAAAAAGBV9huc7SqXhpN2+wAAzxdJREFUsUqllLvaNbANvpaustvCRo0AAFxFmAg37yBQ5GnYsx2ghudrfz8yeZBIRAgTYW5CRGDlMvN/FRFv7W92bcJ96t+Xjr2+PWTD8kvtu+a81OZcGMelOi4dG9q+7xjHQRrn2p/qd9hOmAiwKsJEzt4+97o8x/hjxlhLmMgfEyIC0KTjdbuVPq3OAWzcPkTkx/ubS6wTS61Fza2RpZTP5p4DIiIyU4jIZafq+rKU8uXilbBlnwxou6ZrZQnvV5oXaE+r6yPQgH14yE9CeEhrJl+7SynvTD0mN8X7CQAAAAAAAGCNntUuYKXuaxfA5viaGs86BgCAMBGIiFLKw37P9qdh33aApe0y8/laQ29nCRKJCGEizEWICKxcZv6vI+J3728eB0fEidun/n3p2OvbQzYsv9S+a85Lbc6FcVyq49Kxoe37jnEcpHGu/al+h+1uMUzklwJYLWEiZ2+fe12eY/wxY7QeJvLHhYgANOl4vW6lT6tzABsnRGR0+zF+tMAc8FqfIJEtXfNDnavr00WrYPNKKV9ExBd9ms5dy0hV68rMD2rODzSh1fURqCQzn+zDQ34jM38jXoWHPKldF18zx9otRIRreD8BAAAAAAAArM5+Q7Nd5TJWqZRyV7sGtsXX1FV2a92gEQCASQkTgb3XgSKllBKCKwGWtIuIVYaJzBYkEhHCRJiaEBFYuYMQkVMbkndtwn2pfdcYQzYsv9S+a85Lbc6FcVyq49Kxoe37jnEcpHGu/al+h+1uLUzkZ4WJwLoJEzl7+9zr8hzjjxmj1TCRH5VS/pMAoDXH63YrfVqdA9g4ISKj249SSvlsiXkgM4WIdDtbVynlyyUL4WZ8cuH86q6VBb1fuwCgqhbWIaAB++CQj/bBIT+JV+EhtGmOtfvjUsqLGcblNng/AQAAAAAAAKzVs9oFrNRD7QLYrPvaBayY9QwAgIgQJgLHSil3B4EiD5XLAbgVzzPzrnYRQ8waJBIRwkSYihARWLl9iMhbB4dObUjetWn3pfZdYwzZsPxS+645L7U5F8ZxqY5Lx4a27zvGcZDGufan+h22EyYCrIowkbO3z70uzzH+mDFaCxMRIgLQpuP1upU+rc4B3AYhIsvV9WsLzQMREZeCRLZ0zQ/VVdcPF6uCm1JK+SIivjh3eslaBmimrsz8oHYNQBXNrEPA8jLzyT445Cf78JCPQnjIGsyxdr8opdzPMC63wfsJAAAAAAAAYJUycxcRu8plrJW/M2AWpZS72jWs2G6/rgEAgDAROGEfKPI0Ip6Gn20ALOHZmt6TzB4kEhHCRLiWEBFYscx8KzP/3/FViMi5TciPgyO62pxr3zXGkA3LL7XvmvNSm3NhHJfquHRsaPu+YxwHaZxrf6rfYTthIsCqCBM5e/vc6/Ic448Zo5Uwkc+EiAA06Xgdb6VPq3MANyAzhYgsW9dnC83FjctMISLnddZVSvl0qUK4SaeCRFZ5rVTwfu0CgMW1tg4BM9uHhhwGh/wkXgWHPKlcGv3NsXa/KKW8M8O43AbvJ07IzGe1awAAAAAAAAB68bu9cR7sU8XM7msXsGLWNQAAXhMmAmeUUh72oSIlXn0P+lC5JIAtW817kkWCRCJCmAhjCRGBFcvMtyLifxPdm3Cf+vc17bvGGLJh+aX2XXNeanMujONSHZeODW3fd4zjII1z7U/1O2wnTARYFWEiZ2+fe12eY/wxY9QOExEiAtCm4/W7lT6tzgHcgH2IyJuxzDqx1FrU6hpZIuJlKeXlQvNBV5DIlq75oS7V9cNFquBmlVI+OT5UpZDLWqyrZOYHtYsAFtPiOgRMKDOfHASH/MY+OOSjEByyZrOs3UJEuIL3EwAAAAAAAMBqZeYuInaVy1ir+9oFsHkPtQtYsd1+fQMAgIhYz8bdUMs+UOSpUBGAWe3ylV3tQrosFiQSEcJEGEqICKzYPkTkf3twqGsT7lP/vqZ91xhDNiy/1L5rzkttzoVxXKrj0rGh7fuOcRykca79qX6H7YSJAKsiTOTs7XOvy3OMP2aMWmEi/1MhIgBNOl63W+nT6hzADRAiMqr9WK/n+Wyh+bhxmSlE5LSLdZVSPl2iEG7eD/b/X+21UsHrmgSJwG1ocR0CrnAQGPJRZv7nmfmfR8S/FxG/Gq+CQ1i/udZuISKM5f0EAAAAAAAAsHbPahewUg/2qmJu+6+xh8plrJn1DQCAQ8JEoCehIgCze95ymMiiQSIRIUyEvoSIwIodhYj03Wj81L+vad81xpANyy+175rzUptzYRyX6rh0bGj7vmMcB2mca3+q32E7YSLAqggTOXu772v8FOOPGWPpMJHPhIgANOl4vW6lT6tzADdAiMio9mO9nudlKeXlQnPCuSCRLV3zQ/Wp64ezVwERUUr5JNZ9rSztazVlpjAR2LYW1yGgp1OBIfvQkF89+O+Qa34b5noe3ymlvJhpbLbN2gIAAAAAAACs2n6jsl3lMtbqvnYB3Axfa+PtWt6QEQCAKrxHhIGEigDMptkwkcWDRCJCmAiXCBGB9fvu0e2+G42f+vc17bvGGLJh+aX2XXNeanOqXZ86Lh0b2r7vGMdBGufan+p32E6YCLAqwkTO3u77Gj/F+GPGWCpM5J8spfzHAUBrjtftVvq0OgdwA4SIjGo/1uE8ny00JzcuM4WIfFOvukopn85dCBz4pHYBJ7R4DZ+qSZAIbFeL6xCwl5lPjoJCvhYWciEw5BTX/DbM9TwKEWEsawsAAAAAAACwBc9qF7BSD/arYin7r7WHymWsmXUOAIBjzW7aDa0TKgIwuSbfl/xMrYlLKU8z83lE7GrVQJOEiMDKZea/FRFvvb55cKoc3C49z73+9zXtu8Y4VeO5ui+175rzUl3HY/St49Kxoe37jnGoq/1xm+P2b0TEb54Z49S5rmNdcx4eOx7j3LmucV+fO3Xs1Pivj/1sZv5SKeXfCGCVSinvZuYfj4jfdXg4zr9G3crtODg29/hjxjhet6fuL0QEoE1CRAAOZOabEfFuCBGpUdfLUsrLheaFU0EiW7rmh+pb1w9nrQKOlFI+ycz3a9dxoMVr+GxNmflBKeX7SxYDzK7FdQg2KTOfRMSTC836BIFcwzW/DXM9jx8LEWEkawsAAAAAAACwevvNyXaVy1grf2/A0u7D9TrWLjN39pkDAODI88y0HzFcoZRy9/rfBz9nEuYIMFxz70uqBYlECBPhG5q6OIDh9iEij2J4YEjXOWEi3XUIExEmAixImMjZ23Fw7JbCRP4JISIATRIiAnBgHyLy4/3NLQUKtLpGHs/z2ULzcuMyU4jI1w2p64vZqoDzPomIFsJEWryGL9X0QUQIEoHtaHEdulpm/tWZht7k4zUjj1d7PCfbMNfz+KKUcj/T2GybtQUAAAAAAADYChs7jnS4USYsoZTykJkPYe+8sZ5FxEPtIgAAaM7z8LfBMIn9/t4PEXEXEZGZd/tTfv4E0E9TYSJv1C6glPI0/EAPISKwepn5b8erEJGIr38DfvzN+Jhz5cSxoe27xuh7rE/7rjkvtTnVrk8dl44Nbd93jNKz/al+h+3e6Bjj1Llzxy7NWTrGOHeua9w3zhw7N/7rYz+bmT8bwGqVUt6NiF8/Pux279f4KcYfM8bx97/X9hciAtCm4/W7lT6tzgFsnBCR0e3HOp7nZSnl5UJzw3GQyJau+aGG1PVlKeXL2SqBM0opn9SuIdq8hnvVlJkfzF0IsIgW16GWebyG8Xi1x3OyDXM9jy9KKe/MNDbbZm0BAAAAAAAANiEzdxGxq1zGWt3XLoCb5WtvvN1+3QMAgK/JzOe1a4AtKqXc7f8rEfE0Xn1P+1C3KoDmPW/lZ1jVg0QiQpgIQkRg5Q5CRM5tIN61MXffc8fBEWPad40xZMPyS+275rzU5lS7PnVcOja0fd8xjoM0zrU/1e+w3a2FifySMBFYN2EiZ2/3fY2fYvwxY0wVJvJDISIATTpet1vp0+ocwMYJERndfqxT83y20NzcuMwUIvKVoXV9OksV0M8XFedu8RoeUpMgEVi/Ftehlnm8hvF4tcdzsg1zPY9CRBjL2gIAAAAAAABsybPaBaxVKeWudg3cJnumXc26BwDAKTthIjCvUsrDPlTkadmLV8Ei97VrA2hQE2EiTQSJRIQwkdslRARWLjO/G69CRF47t4F418bcfc8dB0eMad81xpANyy+175rzUptT7frUcenY0PZ9xzgO0jjX/lS/w3bCRIBVESZy9nbf1/gpxh8zxrVhIv+EEBGAzThe4+fo0+ocwMZl5q+EEJEx7cc6Nc/LUsrLheaHwyCRLV3zQw2t68tSypezVAL9fFJp3hav4cE1ZaYwEVivFtehlnm8hvF4tcdzsg1zPY9CRLjGfe0CAAAAAAAAAKaw34RsV7mMtfK7Y2rzNTjeroVNGAEAaJL3irCwfbDI3YlgkYe6lQE0oXqYSDNBIhEhTOT2CBGBlcvMRxHx3ROnzm0g3rUxd99zx8ERY9p3jTFkw/JL7bvmvNTmVLs+dVw6NrR93zGOgzTOtT/V77CdMBFgVYSJnL3d9zV+ivHHjDE2TOTTUsp/FABswfFaP0efVucANi4zfxwR7+5vLrFOLLUWtbpGnpvns4Xm58ZlphCRV8bU9enkVcAApZTPI+KLpaddeL4+xtYkSATWqcV1qGUer2E8Xu3xnGzDXM+jEBGo41ntAgAAAAAAAIBv8Hu8kUopd7Vr4Lb5Grya9Q8AgHOqb9gNt+wgWOSpcBGAiKj83qSpIJGIECZyO4SIwMrtQ0T+d3H+w+LnNhDv2qi777nj4Igx7bvGGLJh+aX2XXNeanMujONSHZeODW3fd4zjII1z7U/1O2x3a2EibwWwasJEzt7u+xo/xfhjxhgaJiJEBGA7jtf4Ofq0OgewYZn55j5E5M39oSXWiaXWolbXyHPzfFZKeblQDfA6SGRL1/xQY+r6spTy5eSVwHCfLDhXi9fwVTVlpjARWJcW16GWebyG8Xi1x3OyDXM9j0JEAAAAAAAAACAi9huP7SqXsVb3tQuAPV+L4+1sDg0AQAfBc9CQM+EiT+OrgBGArasWJvIzNSa9pJTyNDOfh19ybJUQEdiGPxURuf93Ofj3oXKmzXH7Mede//ua9l1jRM9j2aN915yX6joeo28dl44Nbd93jENd7Y/bHLd/IyJ+88wYp851Heua8/DY8RjnznWN+/rcqWOnxn8jIn42M3+5lPInA1itUsq7mfnHI+J3HR6O869Rt3I7Do7NPf6YMY7X7XPtfyBEBGAzWg34aHWDfGAlMvPNiPjxwaEtBQq0ukaenaeU8tlCNXDjMlOIyPi6Pp20ChiplPJ5Zn4REW/PPdXM448xRU0fRMT3JxgHmF+L61DLPF7DeLza4znZBiEiAAAAAAAAADA/m6KOVEq5q10DRLz6WsxM1/J4zyLioXYRAEfuvdeA03qEIXpfxJR2mfm8lPK0diHAafv9xR/2N+9eH8/Mu4NmT8Ie88B2PM/MxfMVmgwSiRAmsmFCRGADMvNP7f/ZFQASF9oIExEmctzmuP2thYm8VUr59wNYLWEiZ2/HwbE1hokIEQHYjlYDPlrdIB9Yicz8cUS8eXBoS4ECra6RXfMIEWFJ78W2rvmhRtdVSvlyykLgSp9ExJ+ZcfwWr+HJasrMD0opwkSgbS2uQy3zeA3j8WqP52QbhIgAAAAAAAAAwMx6bMDLeQ+1C4Aj92HT7LF2mbmzLx0ArMPRhvGn3B0fOPO9j/dO9OX9IqxQVyjbUchIhNcEYH0WD8ZtNkgkQpjIBgkRgQ3Yh4i8Hf3CQeJCG2EiwkSO2xy3v6Uwkbcy86+UUv5KAKslTOTs7Tg4tqYwkU+EiABsRqsBH61ukA+sQGa+GRHvhhCRse3H6prnZSlFkAiLyEwhIuP9cLIqYAKllM8z84t49fu3yYefYcxrTV3TBxEhSATa1eI61DKP1zAer/Z4TrZBiAgAAAAAAAAALMMmiePd1y4ADpVS7jLTNT3e4psvAgDLORM+cvf6HyeCRryv4tjz8HkF2IwTISNfu30iaORJ2JseaMsuM5+XUp4uNWHTQSIRwkQ2RIgIbEBmvh1fbWLUNxwkBrYXJiJM5Lj9LYWJ/HJm/klhIrBuwkTO3o6DY2sIE/mBEBGAzWg14KPVDfKBFcjMX4lXISKHthQo0OoaeWkeISIs6bsLzNHq+4+r6iqlfDpVITChz2P6IJEWr+FZasrMD0opwkSgPS2uQy3zeA3j8WqP52QbhIgAAAAAAAAAwAJObJRLfw/2saJR92HT67F2mblzbQPAbToRNHL3+h8Hm8nbRP7GLb1ZN1DPiaCRk04EjrzmNQNYwqJhIs0HiUQIE9kAISKwAfsQkT91dFiYiDARYSLTh4m8FRF/MoBVEyZy9nYcHGs5TOSTUsr/KwDYglYDPlrdIB9Ygcz8cUS8eXRYiMj8Ls3zspTycpFKuHmZKURkvB9OUgVMrJTySWa+P+WQE441lTlr+iAiBIlAW1pch1rm8RrG49Uez8k2zPU8flxKuZ9pbGAEG28AAAAAAABAE4QNjOfvEGjVQ7i2r/Esvr6BOADAyc3khYvcLOFzwNf0DRw5dCHc1+sKMNRi709WESQSIUxkxYSIwHb8kTgdECJMRJiIMJFpw0R+PjN/uZQiTARWTpjI2dtxcKzFMBEhIgDb0WrAR6sb5AONy8w3I+LHJ04JEZnfxXlKKd9ZohDYe2/m8Vt9/3F1XaWUT6coBGbySURMESbS4jU8e02Z+UEpRZgItKHFdahlHq9hPF7t8Zxsw1zP4zullBczjc2NK6XcZ6bNN8Z5EjbeAAAAAAAAgGoubFhItwd7WdGqUspDZj6E63ssG0MDAL0cbxx/9D2Wvy3dtufhMwzAFfbfcz4M7SeABOjwPDNnz2BYTZBIhDCRFRIiAhuRmX86It7e3xQmIkxEmMjpc1OHifxsKeWvBLBqwkTO3o6DYy2FifzjQkQANqPVgI9WN8gHGrYPEHk3It48cVqIyPz6zPPZ7FXAXmZ+d+YpWn3/MUVdP5xgDJhNKeWTzLw2SKTFa3ipmj6ICEEiUF+L61DLPF7DeLza4znZBiEiAAAAAAAAALAsG9uOd1+7ALjgPuyPd41nMWJDVwDgth1tCn93sNm7jd03KDOfl1Ke1q4DuC0CSIALZg87W1WQSIQwkRURIgIbkZlvx1chIq8JExEmIkzk9Lkpw0R+X9jYDjZBmMjZ23FwrIUwESEiANvRasDHmjfIByrJzF+JVyEipwgRmV+feV6WUgSJsKT3Zhy71fcFk9RVSvl0inFgZp9ExNgwkRav4UVryswPSinCRKCeFtehlnm8hvF4tcdzsg1zPI8vIuJeiAgAAAAAAAAAfNOFzQPp9mA/K1pXSnnIzIdwnY+1y8ydax0AuMbxZu8H34cJddwG7xmB1RBAArdj7rCz1QWJRAgTWQEhIrAtfyYuB4GcOiZMRJiIMJHzY5w69o3xM/P3lVJ+HMDqCRM5ezsOjtUME/mjQkQANqPVgI81b5APVJCZb8arAJE3zzQRIjK/vvMIEWExmfndGYdv9X3BVHUJbWYVSimfZOaYIJEWr+EaNX0QEYJEoI4W16GWebyG8Xi1x3OyDbOEiJRS3plhXAAAAAAAAADYChvXjveidgHQ033YG+8az2LEJqsAAOccbOJ+J1RkM56HzzUAGzZTAInXPpjXLjPvSil3cwy+yiCRCGEiDRMiAhuSmX9m/88+QSCnjgkTESYiTOT8GKeOHY//c5n5qJTyZQCrJ0zk7O04OFYjTOQfFyICcNOEiABN6REgEiFEZAm9Q0RKKS9nrQS+7r2Zxm31fcGUdX0x4Vgwt08iYkiYSIvXcLWaMvODUoowEVhWi+tQyzxew3i82uM52QYhInDbnsWrTUsAAAAAAACABV3YyI8L5tqADaZWSnnIzIdwvY+1y8ydfewAgDkIFdmOzHxeSnlauw6AllwIILk71y8zz54Lr5MwxLPMfJjj51qrDRKJECbSICEisCGZ+X5EPI5hQSCnjgkTESYiTOT8GKeOHY//dmb+lVLKfxbA6gkTOXs7Do4tGSbyR0sp/2EAcKuEiABNycxfiVchIl2EiMyv7zwvSymfzVoJHMjM7840dKvvC6as60thzaxJKeWT/e/pejWftZhxatf0QUQIEoHl1L7m18bjNYzHqz2ek22Y43l8p5TyYoZxAQAAAAAAAGBLbLo33n3tAmCg+7Av3jWexfmNTwEAJnEUKnIXEU/Ce7g1EUAHMJELAb5nzwkggZNm+bnWqoNEIoSJNESICGxIZj6OiNcbFA0NAjl1TJiIMBFhIufHOHXsePxHESFIBDZCmMjZ23FwbIkwESEiALdNiAjQjJ4BIhFCRJYwZB4hIiwmMx9FxHszDN3q+4Kp6/p04vFgCV9ExNsX2rR4DTdRU2Z+UEoRJgLza+KaXxGP1zAer/Z4TrZBiAhbcx8+XAIAAAAAAACsQGbuwv5Yo13YzBCaU0p5yDy1vRI92RQaAFjU6+85Dr538/ep6yCADqAiASRw0i4zn5dSnk456OqDRCKEiTRAiAhsz/tHt4WJXB4jeh4TJvL1c4eEiZwPE/n5zHy7lPJFAJsgTOTs7Tg4Nuf4/xMhIgA3TYgI0IQBASIRQkSWMChEpJTycrZK4JuEiIz3ZSnly4nHhCV8EhF/puN8i9dwSzV9EBGCRGBeLV3za+DxGsbj1R7PyTZM/Ty+KKW8M/GYAAAAAAAAALBVNsAb7752ATDSfbj2r2FTaABgcft9dR8i4m6/ybn3c20TQAewQgJIuAGTv0fZRJBIhDCRioSIwMZk5uOIeBz9Q0HOtbnUT5hId3thIsJEjsNE3s7M/6yU8p8FsAnCRM7ejoNjc4z/sRARgJsmRASobmCASIQQkSUMmedlKeWz2SqBI5n5KCIeTTxsq+8L5qjr0xnGhNmVUj7PzC8i4u1Tp5eup4fmasrMD0opwkRgHs1d843zeA3j8WqP52Qbpn4ePy6l2KQDVsyHJgEAAAAAAGA5mbkLe2KNdmFjQWhWKeUuM21iOZ5NoQGAqvbfi9ztv6d7Fr6va9Xz8LkHgJswQwDJk/D6znwmDcndTJBIhDCRCoSIwDb92f3/h4SCnGtzqZ8wke72wkSEiXwjTCQi/kQAmyFM5OztODg25fj3QkQAbpoQEaCqEQEiEUJEljB0HiEiLO29icdr9X3BHHV9WUr5coZxYSmfRMSfOTrW4jXcYk0RER9GhCARmF6r13yrPF7DeLza4znZhqmfx3dKKS8mHhNY3pOY8AMJAAAAAAAAQCdBAuPd1y4ArnQf1oBrTLrhIgDAGPs9dx8EirQrM++EUAJwzpjXiDPh0IJHGGI35XuUN6YYpCWllKfhB39LECICG5SZf/bo0KkPkpcL54f26zNGV/sx58qJY0Pbd43R91if9l1zXmpzql2fOi4dG9q+7xilZ/tT/Q7bvdExxqlz545dmrN0jHHuXNe4b5w5dnju5zLz5wLYlFLKuxHx68eH3e79Gt/3thARgNt27nvPqdovNccYS80DnJCZb2bmu5n5l0KIyJztxxo6z2ellJezVAInZOajiHg04ZCtvi+Yq65PZxoXFlFK+Twivjg8VKuWDi3WFLGvKzM/rF0IbEyr13yrPF7DeLza4znZhimfxxellN8mRAQAAAAAAAAA+svMu4jYVS5jtWwEy9r5Gr7abr9xJwBAdaWUh/1+x0/DnsetEd4HwKT2r/t3R/89LQfi1XuC+4P/4NizqX62tbkgkYgQJjI/ISKwQZn5OCIenzh16gPlXRt7j+nXZ4y+m4n3PXccHDGmfdcYfY/1ad8156U2p9r1qePSsaHt+45xHKRxrv2pfoftthwm8vsD2BxhImdv932Nv3RbiAjAbTv3PedU7ZeaY4yl5gGO7ANEfhwRfyIifmXEEEtcv62uRa3W9bKU8tkslcB57004VqvvC2arq5Ty5Vxjw4I+2f+/xWu4xZoivl7XB9WqgO1p9ZpvlcdrGI9Xezwn2zDl8/hxKeWdCceDSZRS7mvXAAAAAAAAAHCBzUzHe6hdAEzE3zdcxzoKADTlKFCERuyDPAFgMSfCRg5DRu5DwAivTPKzrU0GiUSEMJH5CBGB7fp3Os6d+mB518beY/r1GaPvZuJ9zx0HR4xp3zVG32N92nfNeanNuTCOS3VcOja0fd8xjoM0zrU/1e+w3WbDRDJTmAhskDCRs7f7vsafu31fSvkPAoBbde57zanaLzXHGEvNAxzIzHcz8y/GqwCRX4xl1pUxWl2LWq0rSinfmaMQOCczH0XEo4mGa/V9wZx1/XDGsWExpZTPI+KL2nWcsJp1JTM/rFEIbEyr13yrPF7DeLza4znZhqmexxcR8Y6wBtgkm2wAAAAAAADAzGxiejV/r8AmlFLuatewcjvrKQDQov3m4SV879IKfxsLQDNOBYzEqxCy+/De4dbsMnN37SCbDRKJCGEi0xMiAhuVmR/s/9n1IfJT57o29h7Tr88YfTcT73vuODhiTPuuMfoe69O+a85Lbc6FcVyq49Kxoe37jnEcpHGu/al+h+22Giby85n5cwFsjjCRs7f7vsYf374TIgJw07q+x52i/VJzjLHUPEBEZOabmfnjfYDIuwenllhXxmh1LWq1rogIISLU8N5E47T6vmDWukopn845PiystSCRta0rH5w5DvTT6jXfKo/XMB6v9nhOtmGq5/HjUso7pZQXE40HAAAAAAAAALfGJqbjPdjnio25r13AyllPAYBm7YPjnoa9j6sTQAdAy/YhZMfhIvfh50a34Pm1A2w6SCQihIlMR4gIbNvhBjpdHyY/da5rY+8x/fqM0Xcz8b7njoMjxrTvGqPvsT7tu+a81OZcGMelOi4dG9q+7xjHQRrn2p/qd9huq2EijwPYJGEiZ2/3fY1/fVuICMBt6/redor2S80xxlLzwE3bh4e8uw8P+RMR8YtHTZZYV8ZodS1qta6IiM9KKS8nrwQ6ZOajiHg0wVCtvi+Yu64fzjw+LKqU8v3aNRxY5bqSmf/uUoUAN63VNbJVHq/2eE62YYrn8UVEvFNKuZ9gLAAAAAAAAAC4STYvvZq/W2BrHmoXsHbWVQCgZfuNwZ/Gq0AR6hFAB8CqCBa5Hdf+bGvzQSIRIUzkekJEYMPObJzT9aHyU+e6NvYe06/PGH03E+977jg4Ykz7rjH6HuvTvmvOS23OhXFcquPSsaHt+45xHKRxrv2pfoftthgm8guZ+XMBbJIwkbO3+77GPxMiAnDTur6nnaL9UnOM0WpdsAknwkPePdN0iXVljFtfi8bM87KU8tnklcBl700wRquv87PXVUr5dO45oIJPahcQ615XHmemgHZgTq2uka3yeLXHc7INUzyPH5dS3imlvJhgLFiKr9eRMnNXuwYAAAAAAADYMJuXjvdgryu2Zv81/VC5jLWzrgIAzdsHipTw3q8aAXQArNlhsEi8Cii7r10Tk7nqZ1s3ESQSEcJExhMiAhu23zDncZz+IHnXh8svtT/Xd0i/PmP03Uy877nj4Igx7bvG6HusT/uuOS+1ORfGcamOS8eGtu87xnGQxrn2p/odtttimMh/J4DNEiZy9val13ghIgC3ret72SnaLzXHGK3WBas2IDzktSXWlTFufS0aM8/LUsp3Jq8ELsjMRxHx6MphWn2dX6KuHy4wByyulPL92iVUnv+cIXV9OFsVwK1rdY1slcerPZ6Tbbj2eXwREe+UUu6nKAYW9lC7gBV7UrsAAAAAAAAA2CKbll7N3y+wVb62r2R9BQDWYr//sfd/dQigA2AT9gFld2UvXr23eKhcFlfIzOdj+95MkEhECBMZTogIbN/hhjmnPlDe9SHzS+3P9R3Sr88YlzYTH3ruODhiTPuuMfoe69O+a85Lbc6FcVyq49Kxoe37jnEcpHGu/al+h+02FyaSmd8KYLOEiZy9fe51+SMhIgA3ret72CnaLzXHGK3WBau0Dw4ZEh7y2hLryhi3vhaNneezSauA/t67sn+rr/OLrHellE8XmAdq+aTSvFtZVx5n5uNZKgFuWatrZKs8Xu3xnGzDtc/jx6WUd0opLyapBgAAAAAAAACwael4D/a7Yqv2X9sPlctYO+srALAapZS7iHga3gMuTgAdAFu0DxV5Gq/eX9zXrodRdpm5G9PxpoJEIkKYSH9CRGDj9uEDx5vlnPpgedeHzS+1P9d3SL8+Y3S1H3PuODhiTPuuMfoe69O+a85Lbc6FcVyq49Kxoe37jnEcpHGu/al+h+22FiZi0yvYOGEiZ28fv74JEQFgiK7vdafqM2aOMVqtC1YjM9/cB4f8eB8e8m70Dw95bYl1ZYxbX4vGzvOdUsrLSSuBHjLzUUQ8umKIVl/nl1rvhIiwaaWU79eYtsKcfYyt68NJqwBuXatrZKs8Xu3xnGzDNc/ji1LKbyul3E9WDbA2u9oFAAAAAAAAwNbYrPRqL2oXADPztzpXss4CAGtSSnmwB3IVAugA2Kz9+4u7UkoJoWVrNOp9ys0FiUSEMJHLhIjAbfgwTn+YvO+xvu3P9R3Sr88YXe3HnDsOjhjTvmuMvsf6tO+a81Kbc2Ecl+q4dGxo+75jHAdpnGt/qt9hu02FieyDgYANEyZy9vbrY0JEABii63vcqfqMmWOMVuuCpp0IDvkT8So45BdHDrnEujLGra9FY+f5TIgIFb13Rd9WX+eXXO++XGAuqO2TBefa4rryODMFtANTaHWNbJXHqz2ek20Y+zy+iIh3SinvTFkMVPSidgEr9qR2AQAAAAAAALBBNiu9QinlrnYNMKf9vm4PlctYO+ssALA6+z2Q72vXcUsE0AFwC16Hlu1DRbzXWIddZu6GdrrJIJGIECZynhARuAGZ+WFEvN4k59SHyvse69v+XN8h/fqM0dV+zLnj4Igx7bvG6HusT/uuOS+1ORfGcamOS8eGtu87xnGQxrn2p/odtttSmMiTzPz5ADZNmMjZ2x+VUv6fAQD9dH1vO1WfMXOM0Wpd0JSD0JB3M/MvThQccmiJdWWMW1+Lxs7zspTy2aSVQE+Z+SgiHo3s3urr/JLr3ZellC8WmA+qKqV8f6mpFppnqCnq+nCCMYDb1uoa2SqPV3s8J9sw9nn8uJTyTinlxaTVQEX+5hkAAAAAAABohU1Kr3ZfuwBYiK/1K1lvAYA12gcnPq1dxw0RQAfATSml3B0EijxULodug9+n3GyQSEQIE/kmISJwO443yDn14fK+x/q2P9d3SL8+Y3S1H3PuODhiTPuuMfoe69O+a85LbbrCOIa0PzfnNcdOnTuur6v+rvE3FSYSwOYJE/nG7e8JEQFggK7vaafqM2aOMVqtC6o6CAw5FRry7gxTLrGujHHra9HYeV6WUr4zaSUwzHsj+7X6Or/0evfpAvNBKz6fefytryuPM/PxRGMBt6fVNbJVHq/2eE62Yczz+HEp5beVUu4nrwZYtcz0IUkAAAAAAACYjt+/XWG/qS5snj3eJmG9BQBWaf9e8GntOm5FZu5q1wAAS9sHijyNV+85HiqXw2m7oe9TbjpIJCKEiXxFiAjciMw8DhF57dSHzPse69v+XN8h/fqM0dV+zLlTIRxD23eN0fdYn/Zdc15qM0X7rjGuOXbq3KnQjlPtT/U7bLeVMJGfz8yfD2DzhIn81m0hIgAMMWZjtaF9xswxRqt1wSKOwkLezcy/8Pq/iPjD+//mCA05tsS6Msatr0Wj5xEiQk2Z+SgiHo3o2urr/NLr3ZellC8WmBNa8cmMY9/KunLu96UAXVpdI1vl8WqP52Qbhj6PLwSIAAAAAAAAAMD8MvOudg0r528buDW+5q9k3QUA1kqYyKIE0AFws0opDwJFmrYb0vjmg0QiQpiIEBG4Nd/rOHfqw+Z9j/Vtf67vkH59xuhqP+bcqVCNoe27xuh7rE/7rjkvtZmifdcY1xw7de44XONc+1P9DtttJUzkSQA3QZhIfChEBIABur6HnarPmDnGaLUuuFpm/uET/30tKOQoLOT1f8eW+LpfYl0Z49bXomvmESJCbe+N6NPq63yN9e7TBeaEZpRSPo+Iz+cYeoYxpzBHXY8z8/EM4wLb1eoa2SqPV3s8J9sw5Hl8ERHvlFLemasYaMx97QIAAAAAAACAm2dz0iuUUu5q1wBL8jU/CesuALBawkQWs8vMXe0iAKCmo0AR2jHoZ1s/M1cVa1NKeZqZzyNiV7uWhQkRgRuSma9DREpE5Jlmp871Pda3/bm+Q/r1GaOr/Zhzr/99TfuuMaLnsezRvmvOS3UdjzGmfdcYfdv3HeNQV/vjNsft34iI3zwzxqlzXce65jw8djzGuXNd474+FxHxC5n5C6WUvxzA5pVS3s3MPx4Rv+vwcJx/jdrK7Q+EiAAwgBCRy/7WzN96ud1S0MFQrT6PS5myrr8tIn5xgjm2FNbRal1LzNNqXYe+U0p5OVklMFBmPoqIRwO73cLrSd85viylfLHAvNCaTyJiyiCMW1xXPoyI3zvj+MB2tLpGtsrj1R7PyTb0fR5fRMR9KeXFnMUAm/IsBLEAAAAAAADAVTLzrnYNK+d3ltyq+xCGcZXMvBPKAgCsVSnlITOfRsTz2rVs3C4iHirXAADV7TMIyv7n2X4m1YAhP9vyIdEjNxYmIkQEbkxm/n+PD3U1v+JY3/bn+g7p12eMrvZjzuWJY0Pbd43R91if9l1zXmozRfuuMa45dupc9mx/qt9hu9880/fcuXPHLs2ZHWOcO9c17ut2DzaEgNtyIkwkovs1as23Pyyl/D8CAE7IzD8YEf/wwSEhIu318XjNbyt1beV+jO3T4hxj5mm1rkNCRKguM/+tGBYk0urvd2utd/9NQSLcqsz8szFNmMgtryu/t5Ty+QLzwGpl5l+tXUNlra6RrfJ4tcdzsg19nkcBIty0zHwWPsQwWinljdo1AADU4gOx45VS/NwBABjM+6/R7m2MCwBty8yufVe4wM+auGXWj+tZQ6Cbn8eM5ucxwGIycxfCRGblPSMAfNON5TA0q+/7FB/8OVJKeRq3kRYnRARuTGZ+78ThrheLU+f6Huvb/lzfIf36jNHVfsy5cuLY0PZdY/Q91qd915yX2kzRvmuMa46dOld6tj/V77DdGx1jnDp37tilOUvHGOfOdY37ut0ugJtSSnk3In79+PAGbwsRAWCIMb/EHdpnqV8UL1GXx6vNPkvM0WJdW7kfY/u0OMeYeVqt65AQEarLzEchROSqOYSIcOM+mWCMW15XIiI+XGgeYJ1aXSNb5fFqj+dkGy49jy8i4p1SyjtCRLhxvv6vsP8AKgAAAAAAADDCfnNuxnuoXQBUdl+7gLWzDgMAa7ffF/hp7Tq2zHtGAPimfQ6D9yCV9X2fIkjkhBsIExEiArfpW2eOd33g/NS5vsf6tj/Xd0i/PmN0tR9z7jg4Ykz7rjH6HuvTvmvOS22maN81xjXHTp07Dtc41/5Uv8N2qw4T8eFuuD03ECbygRARAAYYs0He0D5j5hhjibo8Xm32WWKOFuvayv0Y26fFOcbM02pdhz4TIkIj3hvQdqlra6ia692nC8wNzSqlfB4Rn18zxFS1TGzJuh5n5uMF5wPWo9U1slUer/Z4Trah63l8EQJE4Lf4m+irPaldAAAAAAAAAKzYs9oFrNx97QKgplLKXe0aNsA6DACsnjCR2flbWQA4oZTyUEopse0shtb1ep8iSOSMDYeJCBGBG5SZ34rzQSIR3R88P3Wu77G+7c/1HdKvzxhd7cecOw6OGNO+a4y+x/q075rzUpsp2neNcc2xU+eOwzXOtT/V77DdmsNEdgHcnA2HiQgRAWCIMRvkDe2z1CZ8S9Tl8WqzzxJztFjXVu7H2D4tzjFmnlbrOvSylPLZZJXASJn5KCIe9Wy+1LU1VNX1rpQiSAQivhjZ75bXlWMfVpgTaFura2SrPF7t8Zxsw7nn8UUIEAGmt6tdAAAAAAAAAKxRZt7VrmHlHuyDBREhUOdq1mMAYAuEicxqV7sAAGjZPovB+5A6dpm5u9RIkEiHDYaJCBGB2/W9/f+7NgsYeq7vsb7tz/Ud0q/PGF3tx5w7Do4Y075rjL7H+rTvmvNSmynad41xzbFT547DNc61P9XvsN1qw0T6vBEEtmeDYSLvCxEBYGZDN9Ub2n6sJepaoo/Ha35bqWsr92NsnxbnGDNPq3UdellK+c5klcB13uvZbqlra6ja650QEYiIUsr3x3SbvJBp1KrrcWY+rjQ30J5W18hWebza4znZhlPP48ellN8mQAQ6uTbGe1K7AAAAAAAAAFipZ7ULWLn72gVAIx5qF7AB1mMAYBP2+wU/VC5jk4TPAUC3g1Czh7qV3KTdpQaCRC7YUJiIEBG4UZn5rYj41sGhrk0Dhp7re6xv+3N9h/TrM0ZX+zHnToVqDG3fNUbfY33ad815qc0U7bvGuObYqXPH4Rrn2p/qd9hurWEi7wRwkzYUJiJEBIC5Dd1Ub6lN+Jaoa4k+Hq/5baWurdyPsX1anGPMPK3WdUiICM3IzEcR8ahH06WuraGqr3elFEEi8JVPBrS95XWly4eV5wfaUHstWhuPV3s8J9tw/Dy+DhC5r1INrMtD7QIAAAAAAACA22ED0qs92AsLXrFZ9DSsywDAVmxoD+TWPKldAAC0rpTy4L1IFRdDcgWJ9LCBL14hInDbvnXiWNfmAUPP9T3Wt/25vkP69Rmjq/2Yc6dCNYa27xqj77E+7bvmvNRmivZdY1xz7NS543CNc+1P9Ttst8owkcz87QHcpA2EifwRISIAzGzopnpLbcK3RF1L9PF4zW8rdW3lfozt0+IcY+Zpta5DQkRozXs92ix1bQ3VwnonRAQOlFK+37fprIWM10JdjzPzce0igKpaWIvWxOPVHs/JNrx+Hl9ExDsCRIAlZebFDx0AAAAAAAAAX+N3bNfxNxHwda6J61mXAYDN2O+BzLR2mbmrXQQArMH+vYj3Iwu6FJIrSKSnFYeJCBEBvnfmeNcmAkPP9T3Wt/25vkP69Rmjq/2Yc8fBEWPad43R91if9l1zXmozRfuuMa45durccQjHufan+h22W2OYiDfecMNWHCYiRASAuQ3dVG+pTfiWqGuJPh6v+W2lrq3cj7F9WpxjzDyt1nVIiAhNycxHEfHoQrOlrq2hmljvSimCROCbPrlw/pbXlb4+rF0AUE1La9EaeLza4znZhhIRH+/DQ94ppbyoXRCskOsGAAAAAAAAWMSlDb246MF+WPB1+2vioXIZq2d9BgA2xh6C09vVLgAA1mL/8yrvR5bzpOukIJEBVhgmIkQEblxmngsRea1rM4Gh5/oe69v+XN8h/fqM0dV+zLlToRpD23eN0fdYn/Zdc15qM0X7rjGuOXbq3HEIx7n2p/odtltbmMhvz8zfHsDNWmGYiBARAOY2dFO9pTbhW6KuJfp4vOa3lbq2cj/G9mlxjjHztFrXISEitOi9C+eXuraGamW9EyICJ5RSvt91erFChmmtrseZ+bh2EcDiWluLWufxao/nZP1exFcBIve1i4E18/fSV3tWuwAAAAAAAABYEb9fu86L2gVAo/z90PWszwDAZgibm4X3iwAwgDCRRe26TgoSGWhFYSJCRICIiF+Ny5sGdJ0feq7vsb7tz/Ud0q/PGF3tx5w7FaoxtH3XGH2P9WnfNeelNlO07xrjmmOnzh2HcJxrf6rfYbvVhYkEcNNWFCbyR0op//cAgPkM3VRvqU34lqhriT4er/ltpa6t3I+xfVqcY8w8rdZ1SIgIzcnMRxHxqKPJUtfWUC2td1/OWgWs2ycnjt3yujLGh7ULABbV6lrUKo9Xezwn6/ZxKeVnSinfLqV8XLsYAAAAAAAAAKCfzLyrXcPalVLuatcALbJR9DSs0wDAluz3PwYAqEaYyHK6fq4lSGSEFYSJCBEBIjO/dXDz0uYBXeeHnut7rG/7c32H9OszRlf7MedOhWoMbd81Rt9jfdp3zXmpzRTtu8a45tipc8chHOfan+p32G5NYSLvBHDzVhAm8o8JEQFgZlvZIH9MXUv08XjNbyt1beV+jO3T4hxj5mm1rkNCRGjVex3nlrq2hmppvfuylPLFrJXAipVSvn98qEohl7VaV0TE48x8XLsIYBEtr0Ut8ni1x3OyTh9HxLf3ASLCQ2Ae97ULWLPMfFa7BgAAAAAAAFgBv1e7jt/rQjfXyPWs0wDA1jytXcCWCJ4DgOGEiSzmybkTgkRGajhMRIgI8NqvHt2+tIlA1/mh5/oe69v+XN8h/fqM0dV+zLlToRpD23eN0fdYn/Zdc15qM0X7rjGuOXbq3HEIx7n2p/odtltNmEhmChMBWg4TESICwNyGbqq31CZ8S9S1RB+P1/y2UtdW7sfYPi3OMWaeVus69B0hIrQoMx9FxKMzp5e6toZqbb37dLYqYDs+3///lteVa31YuwBgdmtYi1ri8WqP52RdXkTEx6/DQ0opL2oXBAAAAAAAAACMY7PR65VS7mrXAC2zd9w0rNcAwJbs3yM+VC5jS85u0A0AnCdMZBG7cycEiVyhwTARISLAoW+dOHZpM4Gu80PP9T3Wt/25vkP69Rmjq/2Yc6dCNYa27xqj77E+7bvmvNRmivZdY1xz7NS5U6Edp9qf6nfYbi1hIr8jACJaDBP5rhARAGa2lQ3yx9S1RB+P1/y2UtdW7sfYPi3OMWaeVus69J1SysvJKoFpvXfm+FLX1lCtrXdfllK+mK0S2I5P4rbXlSk8zszHtYsAZrOWtagVHq/2eE7W4UV8FR7y7VLKx7ULAujpWe0CAAAAAAAAoHF+p3ad+9oFwEq4Vq5nvQYANmW/9zHT2NUuAADWSpjI/M4F5AoSuVJDYSJCRIDfkpm/2nH60qYCXeeHnut7rG/7c32H9OszRlf7MedOhWoMbd81Rt9jfdp3zXmpzRTtu8a45tipc6dCO061P9XvsN0awkQEiQC/paEwESEiAMxtKxvkj6lriT4er/ltpa6t3I+xfVqcY8w8rdZ1SIgIzcrMRxHx6MSppa6toVpc7z6dpQrYmFLK5xHxee06Tmh1vTvnw9oFALNY21pUm8erPZ6Ttr0I4SFQXSnlvnYNAAAAAAAAwDad27yL/kopd7VrgDVwrUzDug0AbJC/k52I94oAMJ4wkToEiUyggTARISLAsW9dOH9pc4Gu80PP9T3Wt/25vkP69Rmjq/2Yc6dCNYa27xqj77E+7bvmvNRmivaXgj2mHONUaMep9qf6HbZrPkwkM78dAHsNhIm8J0QEgJltZYP8MXUt0cfjNb+t1LWV+zG2T4tzjJmn1boOCRGhde+dOLbUtTVUi+vdl6WUL2apBLbp+7ULONLqetflcWY+rl0EMKk1rkU1ebza4zlp08cR8W3hIcCWZOaz2jUAAAAAAABAo/wu7Tr3tQuAlXHNXM+6DQBsisA5AKAVwkRmdfJnWoJEJlIxTESICHDKkx5tLm0y0HV+6Lm+x/q2P9d3SL8+Y3S1H3PuVKjG0PZdY/Q91qd915yX2kzR/lKwx5RjnArtONX+VL/Ddq2HiQgSAb6mYpiIEBEA5raVDfLH1LVEH4/X/LZS11bux9g+Lc4xZp5W63rtZQgRoXGZ+SgiHh0dXuraGqrV9e7TyauADSulfB4Rn9euY6/V9a6PD2sXAExmzWtRDR6v9nhO2vEivh4e8nEp5UXtooBvcF0CAAAAAAAAk8rMu9o1rJ0Nb2EY18w0rN8AwAY9rV3ARgidA4Ar7TMRHiqXsUmZuTs+JkhkQhXCRISIAN+Qmb+6/2efjQQutek6P/Rc32N925/rO6RfnzG62o85dypUY2j7rjH6HuvTvmvOS22maH8p2GPKMU6Fdpxqf6rfYbumw0Qy83cEwIEKYSJCRACY21Y2yB9T1xJ9PF7z20pdW7kfY/u0OMeYeVqt67WXpRQhIqzBe0e3l7q2hmp2vSulfDF1IXADvl+7gGh3vevrcWY+rl0EcLW1r0VL83i1x3NS38cR8fE+OOTbwkNgFR5qF7ByPhgJAAAAAAAA3+T3aNd5qF0ArNR97QI2wPoNAGyKDbsBgJZUyGO4FbvjA4JEJrb/4l3iB7BCRIBzfvXg3302FLjUpuv80HN9j/Vtf67vkH59xuhqP+bcqVCNoe27xuh7rE/7rjkvtZmi/aVgjynHOBXacar9qX6H7VoOExEkAnzDgmEi75VSjucBgCltZYP8MXUt0cfjNb+t1LWV+zG2T4tzjJmn1bpee1lK+c6klcAMMvNRRDw6OLTUtTVUy+vdp5NWATeilPJ5RHxes4SKc0/pw9oFAFfZylq0FI9Xezwn9b0ODvm4diHAIC9qF7B2mbmrXQMAAAAAAAC0IjPvatewAfe1C4A1KqXc1a5hC6zjAMAG+R5rAt4nAsBkvDeZ3pPjA4JEZrD/AezTmYZ/KK88zDQ+sGKZ+Y2FPvptLHCpTdf5oef6Huvb/lzfIf36jNHVfsy5U6EaQ9t3jdH3WJ/2XXNeajNF+0vBHlOOcSq041T7U/0O27UaJvJ7AuCEfZjIrxwfnuj2r5dS/nYhIgA0ptUN8pcKOthKoECrj9cYW6lrK/djbJ8W5xgzT6t1vfYdISKsyHsH/17q2hqq6fWulCJIBMarFSTS6no3xrcy81u1iwBG2dJatASPV3s8J234Se0CgOH8ffUkTv0dKgAAAAAAANyqZ7ULWLkHv8eFq9zXLmADrOMAwKb4HgsAaMn+vYmfYU1rd3zgZyoUcRP2X8BlnzI31Q8Sn3rTDlxwbiObEhF5oe+lNl3nh57re6xv+3N9h/TrM0ZX+zHnXv/7mvZdY0TPY9mjfdecl+o6HmNM+64x+rbvO8ahrvbHbY7bvxERv3lmjFPnuo51zXl47HiMb5zLzN9RSvmLAXCklPJ/i4hdZv6BiPgDrw/H+deoS7d/PSL+VQEiADSo1Q3yWw3F8HjNbyt1beV+jO3T4hxj5mm1rte+U0p5OWklMJPMfBQRj/Y3W90EuPX1TogIXKGU8v3M/GDpaReeb06v78uHEfHnahYCDLaltWgJHq/2eE4akpk/KaV8u3YdAAvbhQ9xAGxGZu7ixIfJboTN6QAAAACAq+z3jeI6fvcI13kIQRhXy8y7Uspd7ToAACZ0H94nXutZRNzVLgIAtqCUcpeZT+J2/2Z5cpm5O/w7aB86Xcj+F0NjvpgfIuLeH68DfWTm/+9Skz7DXHF+6Lm+x/q2P9d3SL8+Y3S1H3MuTxwb2r5rjL7H+rTvmvNSmynad41xzbFT57Jn+1P9Dtv95pm+586dO3ZpzuwY4/Dc/6GU8n8MgAuOAkW6XqOOb/96RPwrAkQAWFpm/qGI+IMXmrW6QX6roRger/ltpa6t3I+xfVqcY8w8rdYVEfGylPKdySuBGWXmvxWvgkRa/X1s8+tdKeW/OFUhcKv2QSJLhYm0ut6NcXxffm8pRZgINykz/2rtGgba0lq0BI9Xezwnbfq4lPJx7SKA/jLzWfhw5FVKKW/UrgGAca747NKW3dsYinP214z3jiOUUvwcAwAYzPuv0XxfAwCVZGafPVo476GU8rR2EbB2mfk8/O7nan6uza3y85jR/DwGaJ7vWa/nPSIATCczdxHxvHYdG/K170t9yGchpZS7UsrT/RvF+4P/Dj0cHH9aXnkqRAQY4NI3o32+Wb1mjKHn+h7r2/5c3yH9+ozR1X7MuXLi2ND2XWP0Pdanfdecl9pM0b5rjGuOnTpXerY/1e+w3RsdY5w6d+7YpTlLxxiH5/6OAOihlPIvl1J2pZRdRPwrB/9FfLWm/Pr+2L8aEf9oKeXbpZR/VIgIAI1a6he4Q+cZU9cSfTxe89tKXVu5H2P7tDjHmHlarStCiAgrlJmPQojItXN8OkkVcONKKd9faqqF5lnCqfvy4eJVAGNsaS1agserPZ6Tdn2UmU9qFwGwpH0YCwArkpl3+80BnkXErnI5rXm232ALAAAAAKC3/abbXOe+dgGwEa6lCVjXAYAN8j7xSt4jAsB09hkK3p9M52ufZ/ThU4CNyMyPIuJXX9+81LzPkFecH3qu77G+7c/1HdKvzxhd7cecyxPHhrbvGqPvsT7tu+a81GaK9l1jXHPs1Lns2f5Uv8N2v9kxxqlz545dmjM7xnj93z9fSvkLAQAAG5KZfygi/uCZ061ukN9qKIbHa35bqWsr92NsnxbnGDNPq3VFRHynlPJy8kpgZpn5/4l2fw+7ivWulPJfnKIQICIzP4iID2acotX1boyu+/J7Syl/brFKoBGZ+Vdr19DTltaiJXi82uM5WYFSys/UrgHoLzN/83IrOrwopTytXQQA/exDMna161iBB69vHNtvCCFEbYRSip9nAACDef812n0p5a52EQBwa/bhzYznZ7IwIb8PmoafbXOL/DxmND+PAZqXmbuIeF67jpWz3gPAxPxsfTqHP8t6o2YhAEzqWwf/vvRLiz6/1LhmjKHn+h7r2/5c3yH9+ozR1X7MuXLi2ND2XWP0Pdanfdecl9pM0b5rjGuOnTpXerY/1e+w3RsdY5w6d+7YpTlLxxiv//trAwAAbkerG+QvFXSwlUCBVh+vMbZS11bux9g+Lc4xZp5W63oZQkRYqcz8brS7CfBa1rtPJxgD2CulfH/O4Wcce2mX7suHi1QBjLGltWgJHq/2eE5WIjN/UrsGgAU9qV0AAP3YNGqQ3X4DBQAAAACATvsNt7nOi9oFwMbc1y5gC6zvAMCWlFIeIuKhchlr5+9lAWB6T2sXsEWCRAC24/gb0UsbDfTZiOCaMYae63usb/tzfYf06zNGV/sx506Fagxt3zVG32N92nfNeanNFO37BoFMMcap0I5T7U/1O2zXSpiIIBEAAG5FqxvkLxV0sJVAgVYfrzG2UtdW7sfYPi3OMWaeVut6WUoRIsKafbd2AWesab37cqJxgK/MESay1HuJJfS5L48z81uzVwIMtaW1aAker/Z4TtblSWb6oBCsx4vaBaxdZj6rXQMA3fahGLvKZazNrnYBAAAAAMAq+F3ZlUopd7VrgC2xSfRkrO8AwNb4e9nr7GoXAABb4+dY0zkMxRUkArABmfnRmVOXNhzosyHBNWMMPdf3WN/25/oO6ddnjK72Y851BYH0bd81Rt9jfdp3zTkmHGRo+75BIFOMcSq041T7U/0O27UQJvLXBQAAbF+rG+S3Gorh8ZrfVurayv0Y26fFOcbM02pd3ymlfGeWSmABmSlE5HpfllK+mGgsYK+UMnWQyFLvJZYw5L58OFsVwBhbWouW4PFqj+dknX4iTARW46F2AQCwABsdAQAAAABMLDOf165hA+5rFwAb5dqawOEGjAAAayfEEQBolJ9jTUyQCMD2Xdp4oM/GBNeMcU0QyBRj9AkCudSvzxhd7cec6woC6du+a4y+x/q075pzTDjI0PZ9g0CmGONUaMep9qf6HbarHiaSmX9nAADAdrW6QX6roRger/ltpa6t3I+xfVqcY8w8Ldb1Ml6FiLycqxhYSItBImtb7z6dcCzg6z6faJwtbXo+9L48zsxvzVIJMNSW1qIleLza4zlZt49qFwD08qJ2ARtgc3qA9u1qF7BCXt8AAAAAgLMycxd+9no1G9nCPEopD7Vr2Ai/LwIAtuahdgFrJmgOAKa3/znWQ+UytuDJ63/8TM0qAJjMr144XyIirzh/7RhDz/U91rf9ub5D+vUZo6v9mHOv/31N+64xouex7NG+a85LdR2PMaZ91xh92/cd41BX++M2x+3fiIjfPDPGqXNdx7rmPDx2OAYAAGxVixvkj2m/VB+P1/y2UtdW7sfYPi3OMWaeFuv6rJTy2WyVwEIyU4jI9b4spXwx4XjA130/Iv6dK8fY0qbnY+/LhxHx56YsBBis+bWolPJfqF0DtyMzfxIHfxDKIp5k5kellI9rFwKcV0p5yPQnUtfKzJ2NSADa5APsAAAAAACzsLn89e5rFwAbdx/Wqqtl5p3QIwBgQ16EUEwAoD3eo1xv9/ofb1QsAoBlXdpMo89mG9eMMfRc32N925/rO6RfnzG62o85V04cG9q+a4y+x/q075rzUpsp2neNcc2xU+dKz/an+h22e6NjjFPnzh27NGc5McbfGQAAsD0tbpA/pv1SfTxe89tKXVu5H2P7tDjHmHlaq+tlRHxHiAgb0lqQyBrXu08nHg84UEr5PCI+v2aIqWppwDX35XFmfmuySoChtrQWwVSEWSyvRMSzzBTgAu17UbuADbD5CAAAAAAAADchM3dhU7Or2Zgf5uUam8yz/boPALB63iNezecCAGAG3qNMS5AIwMpl5kcDmgsTub6fMJHu9sJELrdpKUwEAAAYrtUAhrUHCoxtv2SfJeZosa6t3I+xfVqcY8w8rdX1WSnlO6WUl7NWAwvJTCEi1/uylPLFxGMC3/T9kf229DuFKe7LhxOMAQy3pbUIJlNKeRER365dxw05XIt+Wq0KoK+H2gVsgA9HArTLGj3OQ+0CAAAAAIBmPatdwAbc1y4AboRrbRrWfQBgSx5qF7Biu9oFAMCG+TnWlTLzLkKQCMAWDP0Q0DVBIFOMcU0QyBRj9AkCudSvzxhjAkP6jHFN+64x+h7r075rzjHhIEPb9w0CmWKMU6Edp9qf6nfYrkqYSGb+3gAAAIZoNYBh7YECY9sv2WeJOVqsayv3Y2yfFucYM09Ldb2MiO+UUj6buxhYWEtBImtd7z6dYUzgSCnl84j4fGi3OWqpZKr78jgzvzXRWEA/W1qLYHL7MJEXteu4Ad9YizJTmAi0zdo4gcy0cQZAm3a1C1gp7w8AAAAAgG/IzF34uevVSil3tWuAW+Bam8xuv/4DAGyBv4kBAFr0ULuArRAkArB+T2L6zQP7jHfNGEPP9T3Wt32fIJBL/fqM0dV+zLmuIJC+7bvG6HusT/uuOceEgwxt3zcIZIoxToV2nGp/qt9huxphIjbcAQCA/loNYFhzoMA17Zfss8QcLda1lfsxtk+Lc4yZp6W6PiulfKeU8nL2amBBmSlEZIpBS/lijnGBk74/oO2Wfo8w9X35dyceDzhvS2sRzKaU8u3aNWzcubXoSWY+WbQSoLdSykPtGjZiV7sAAAAAAAAAmNmz2gVswEPtAuDG3NcuYCOs/wDAVjzULmDNBMwBwDz2n+t5qFzGJggSAdgOYSLD2gsT6R8cIkzk8rm1hon83gAAAPpoNYBhzYEC17Rfss8Sc7RY11bux9g+Lc4xZp5W6noZEd8ppXy2RDFQQStBImte7z6daVzghFLK5xHxeZ+mc9eyoFnuS2Z+OMe4wNdsaS2CJQgTmcelteinwkSgaTbOuJ41DgAAAAAAgM3abxa6q1zGFvjdLCyolHJXu4aN2Nk0GgDYgv0m3Yy3q10AAGzYi9oFrNyTCEEiAKuWmR8dHZp6M8E+410zxjVBIFOM0ScI5FK/PmOMCQzpM8Y17bvG6HusT/uuOceEgwxt3zcIZIoxToV2nGp/qt9hu6XDRAAAgG6tBjCsNVDg2vZL9llijhbr2sr9GNunxTnGzNNKXd8ppXynlPJykWpgYZkpRGSKgUsRJALLuxQksqXfH8x5XwSJwLy2tBbBIkopLyLi49p1bEzftejZrFUAVJaZ1jmAhtjMCAAAAABgUn4Xdr0Hm9ZCFfe1C9gIrwMAwFY81C4AAOCYQNyr7SIEiQBskTCRYe2FiQgTmXKM1YWJZObfFQAAwDmtBjCsNVDg2vZL9llijhbr2sr9GNunxTnGzNNCXZ+VUv4aASLcgBaCRNa+3gkRgQpKKd/vOr1YIfOb/b5kpjARmMeW1iJYVCnl44h4UbuOjRiyFj3JzJ/OVgkwWinFphnT2NUuAICv2dUuAAAAAABgC/bBzbvKZWyB38tCHQ+1C9iI3f71AABg7XyOAABo1UPtAtbuZ2oXAMBVPjpzvEREDhjnUvs+410zxtBzfY/1bX+u75B+fcboaj/m3Ot/X9O+a4zoeSx7tO+a81Jdx2OMad81Rt/2fcc41NX+uM1x+zci4jfPjHHqXNexrjltwgMAAKe1GsCwxkCBKdov2WeJOVqsayv3Y2yfFucYM0/tul7GqxARASJsXmYKEZli8FIEiUA934+ID46Obel3Bkvdlw8j4h9faC64FVtai6CWjyPiJ7WLWLkxa9GTzHxSSvEBLGCLnmTmrpTyULsQAAAAAAAAmNCz2gVswIPfI0IdpZSHzHwIgUhTeBY2tAQA1u8hfJ871rOIuKtdxC250XBXP0MBbtmLuL11f1KCRAC2S5jIsPbCRISJ3GqYyN8dEX82AACAQ60GMKwtUGCq9kv2WWKOFuvayv0Y26fFOcbMU7MuASLcotpBIltY74SIQEWllO9n5mGQyJY27l/0vmTmh6UUYSIwjS2tRVBNKeVFZn47hImMdc1a9NOI+G1TFQJM5j58MHIKT8KmGQAAAAAAAGzEjW5YOYf72gXAjbsPa9kUdpm5s6kvALBm+6C52mXAWZl5F7f9N93PDq7R+xAsAtyWh7jt14CrZOadIBGAlcrMJz2aCRMZ1l6YiDCRWw0TAQAAvtJqAMOaAgWmbL9knyXmaLGurdyPsX1anGPMPDXr+qyU8tlC80MTMlOIyEQy8x8b2OXWf5556/d/KI/XZZ9HxOPY1mNV4758GBGCROB6W1qLoLp9mMiLeLXpO/1dvRZl5k9LKe9MUQwwmRe1C9iIZ2ETIAAAAAAAALbDpmXT2O1DWQDW7lm82tQSAACY0P7nBs9r19GYZ/EqWOQhIu4FigBbJ/DseoJEANar7wf9hYkMay9MRJjIzYWJZOZ/qZTynwYAANBqAMOaAgWmbL9knyXmaLGurdyPsX1anGPMPLXqEiDCLasZJLKl9a7VEJFWNzFX1zAt1tViTRHt1jVGtfuSmR+WUoSJwHhbWougGaWUb2fmb9SuY0WmWoueZOazUorN9qERPnAwHesbQDMEBgIAAAAAXGG/geWuchlbIZAF2IpdZu5s4AsArNx9+D6NhggRuWgXr74Xeep7EeAGPISfy4/2Ru0CAFjE1JsP9hnvmjGGnut7rG/7c32H9OszRlf7MefKiWND23eN0fdYn/Zdc15qM0X7rjGuOXbqXOnZ/lS/w3ZvdIxx6ty5Y6fm/OsDAABoNYBhLYECU7dfss8Sc7RY11bux9g+Lc4xZp4adX1WSvlrhIhwqzJTiEgdra7DS1HXMC3W1WJNEe3WNUbt+/Jh5flhzWpfv7B1365dwEpMvRZ9lJk2d4a2vKhdwEbsahcAQERYjwEAAAAArmVTVQBO8foAAHCj9oEXTE+ISD8eJ+AW+FzPFQSJAKzXRwPbT70JYZ/xrhnjmiCQKcboEwRyqV+fMbrajznXFQTSt33XGH2P9WnfNeeYcJCh7fsGgUwxxqmgkFPtT/U7bDdXmAgAANy6VgMY1hAoMEf7JfssMUeLdW3lfozt0+IcY+ZZuq6XEfEdASIQtYJEtrTeDdXqOrwUdQ3TYl0t1hTRbl1jNHFfMlOYCAzXxPULW1ZKeRERH9euo3FzrUU+VA5teahdwEY88UFJAFbuoXYBAAAAAEBd+9937SqXAUCbdv4uAgDgZu1qF7A1mXlXu4Y18XgB0EWQCMBtmXozwj7jXTPGNUEgU4zRJwjkUr8+Y4wJDOkzxjXtu8boe6xP+645x4SDDG3fNwhkijFOBYWcan+q32G7OcJE/voAAIDb1WoAQ+uBAnO1X7LPEnO0WNdW7sfYPi3OMWaeJet6HSDynVLKy4XmhSZlphCR5bW6Di9FXcO0WFeLNUW0W9cYLd0XQSIwTEvXL2xaKeXjiHhRu45GzbkWPcnMn844PjBAKeW+dg0bIigJgNUqpTzUrgEAAAAAqM7vuwDo4nUCAFitUspd7RrggPfWw3i8gE3zPuUqzwSJAKxQZj6J8R9kFyYyrL0wke4gkEvH+rQXJnK5zdxhIr8zAADgNrUawNByoMCc7Zfss8QcLda1lfsxtk+Lc4yZZ6m6fi0EiMCxGkEiW1rvhmp1HV6KuoZpsa4Wa4pot64xmrsvmSlMBPpp7vqFrSulfLt2DQ1aYi16sv87L6ANQpWmYV0DqCgz72rXAAAAAACwVpm5i4hd5TIAaNtu/3oBAACwKH8fCMA5gkQA1mm3/78wEWEifcYQJiJMpOvY4W0AALglrQYwtBoosJXHa4yt1LWV+zG2T4tzjJlnibp+FBG/JEAEvi4zhYgsq9V1eCnqGqbFulqsKaLdusZo9b4IEoHLWr1+4RYIE/nKkmvRT4WJQDMeahewFZn5rHYNAAAAAAAAMILfcwHQh9cLAAAAAJohSARg/YSJCBPpM4YwEWEiXcciM//6AACA29FqAEOLgQJj5mn18RpjK3Vt5X6M7dPiHGPmmbuuH5VSfraU8pkAEThp6SCRLa13Q7W6Di9FXcO0WFeLNUW0W9cYTd+XzBQmAuc1ff3C1pVSXkTEi9p1NKDGWuSD5dCAUsp97Ro2xLoGAAAAAADAqmTmLiJ2lcsAYB12+9cNAABghMy8q13DSj2pXQDAzHyuZyRBIgDrdPwGX5iIMJE+YwgTESbSdex3BgAA3IZWAxhaCxQYO0+rj9cYW6lrK/djbJ8W5xgzz5x1/VaAyIxzwKplphCR5bS6Di9FXcO0WFeLNUW0W9cYa7gvgkTgtDVcv7B5pZRvx22HidRai55kpk33gU2xrgFUY/0FAAAAABjHz1cBGMLrBgCwVjboHsf7P1qwq10AAG0SJAKwTqeSAoWJCBPpM4YwEWEil9oDAMCWtRrA0FKgwDXztPp4jbGVurZyP8b2aXGOMfPMUdfLiPglASLQ25JBIlta74ZqdR1eirqGabGuFmuKaLeuMVZzXzJTmAh83WquX7gRH9cuoJLaa9FHmXnqb76AZflw5HR2tQsAgIG8DwAAAACAG5WZu/D7LQCG2e1fPwAAAACgKkEiANsiTESYSJ8xhIkIEzl17HcGAABsW6sBDC0ECkwxT6uP1xhbqWsr92NsnxbnGDPP1HX9KF4FiPxSKeXlxGPDJmWmEJFltLoOL0Vdw7RYV4s1RbRb1xhruy+CROAra7t+YfNKKS/i9sJEWlmLflq7ACBe1C5gQ57YMAMAAAAAAICVeFa7AABWyesHAAAAANUJEgHYHmEiwkT6jCFMRJjI8TFBIgAAbFmrAQy1AwWmmqfVx2uMrdS1lfsxtk+Lc4yZZ8q6flRK+dlSymcCRGCwpYJEtrTeDdXqOrwUdQ3TYl0t1hTRbl1jrPK+ZKYwEVjp9Qu3oJTycdzOZvpNrUWZKUwEKiqlPNSuYWNsmAGwoMy8q10DAAAAAMDaZOYuInaVywBgnXb71xEAAAAArlRKuatdw1oJEgFYmcx80qOZMBFhIn3GECYiTOT4GAAAbFGrAQxCRObvs8QcLda1lfsxtk+Lc4yZZ4q6XkbEL70OEJlgPLg5mSlEZH6trsNLUdcwLdbVYk0R7dY1xprviyARbt2ar1+4CaWUb9euYQEtrkVPev79FzCf+9oFbMgTG2YAAAAAAADQuGe1CwBg1byOAAAAAFCVIBGA9dn1bCdMRJhInzGEiQgTOT4GAABb0moAgxCR+fssMUeLdW3lfozt0+IcY+a5pq6XEfGjfXjIL5VSXl4xFhCxRJDIlta7oVpdh5eirmFarKvFmiLarWuM1d+XzBQmwq1a/fULN2TLYSItr0U/FSYCVb2oXcDG2DADYDnW3Os81C4AAAAAAFhWZu6i/x4tAHDKbv96AgAAAABVCBIB2DZhIsJE+owhTESYSETEG5n5OwMAALaj1QAGISLz91lijhbr2sr9GNunxTnGzDO2rh9FxC/tw0M+GzkGcCAzhYjMq9V1eCnqGqbFulqsKaLdusbYyn0RJMIt2sr1CzehlPIiIj6uXccM1rAW2QQaKimlPNSuYWOe2DADgDXwHgAAAAAAbpLfzQMwBa8nAMBqlFLuatcAAMC0BIkAbJ8wEWEifcYQJiJMJCLivxwAALANrQYwCBGZv88Sc7RY11bux9g+Lc4xZp6h7V+Hh/xsKeWzUsrLgf2BbnMHiWxpvRuq1XV4KeoapsW6Wqwpot26xtjUfcnM79UuAha0pesXbkYp5eOIeFG7jgmtZS16kpk+YA713NcuYGOsZwAzE9oEAAAAADDM/uequ8plALANO7+vAwAAAKAWQSIAt0GYiDCRPmMIExEmAgAAW9BqAIMQkfn7LDFHi3Vt5X6M7dPiHGPm6dteeAgsIDOFiMyn1XV4KeoapsW6Wqwpot26xtjiffmwahWwnC1dv3CLPq5dwETWthZ9lJlPahcBt6iUIkhkWk9smAEwu13tAgAAAAAAVuZZ7QIA2BSvKwAAAABUIUgEYH0+GtlPmIgwkT5jCBO57TARAABYu1YDGISIzN9niTlarGsr92NsnxbnGDPPpfbCQ2B5cwaJbGm9G6rVdXgp6hqmxbparCmi3brG2Ox9yczv1SoEFrKl6xduUinlRUR8u3YdV1rrWvTT2gXADXtRu4CNsWEGwLwE0F1HiBgAAAAA3JDM3IWAZgCmtdu/vgAAAADAogSJANwWYSLCRPqMIUxEmAgAAKxRqwEMQkTm77PEHC3WtZX7MbZPi3OMmedce+EhUElmChGZR6vr8FLUNUyLdbVYU0S7dY2x9fvy4eJVwHK2dP3CTduHiax1U/1Vr0WZKUwE6nioXcDGPLFhBsCsdrULAAAAAABYkWe1CwBgk7y+AAAAALA4QSIAt0eYiDCRPmMIExEmAgAAW9ZqKEarG2y3+niNsZW6tnI/xvZpcY4x8xy2fxkRP9oHhwgPgbrmChLZ0no3VKvr8FLUNUyLdbVYU0S7dY1xE/clM7+3ZCGwkC1dv0BElFK+XbuGEbawFj3JTB8yh4WVUu5r17BB1jKAGQhqAgAAAADob/8z1V3lMgDYpp3f3QEAAACwNEEiAOszxYffhYkIE+kzhjCR2wsT+W8FAABsX6uhGK1usN3q4zXGVurayv0Y26fFOcbMUyLiRxHxS/vgkF8qpXw2Q13AAJkpRGR6ra7DS1HXMC3W1WJNEe3WNcYt3ZcPF6kClrOl6xf4ujWFiWxpLfooM5/ULgJu0IvaBWzMExtmAMxiV7uAtSul3NWuAQAAAABYzLPaBQCwaV5nAACA2WTmXe0aAGiPIBGAdRIm0v+8MBFhIl1thImcf54AAGCLWg3FaHWD7VYfrzG2UtdW7sfYPi3OMWSeH0XEj0opP7cPD/mslPJyzsKAweYIEtnSejdUa+vw0tQ1TIt1tVhTRLt1jXFz9yUzvzd3IbCQLV2/wJFSyouI+Lh2HT1scS3yIXNY3n3tAjbIWgYwPWsrAAAAAEAP+9D7XeUyANi23f71BgAAOO+hdgEAsCWCRADWS5hI//PCRISJdLURJiJMBACA29BqKEarG2y3+niNsZW6tnI/xvZpcY5L8xwGh/xcKeVHpZQfLVQXMFBmChGZVgvrcE3qGqbFulqsKaLdusa41fvy4WxVwHK2dP0CZ5RSPo6IF7Xr6LDVtehJZv60dhFwS0opD7Vr2KAnNswAoDEPtQsAAAAAABYjmBmAJXi9AQCADv5GGwCmJUgEYEVOfLhSmEj/88JEhIl0tREmst1NNgAAIKLdUIxWN9hu9fEaYyt1beV+jO3T4hzH8/xavAoO+WXBIbBaUweJbGm9G6rV9zhLUdcwLdbVYk0R7dY1xk3fl8z83hyFwEK2dP0CF5RSvl27hjO2vhY9ycwntYuAG3Nfu4ANEooEMJHMvKtdwwa0HJIIAAAAAExkvx/LrnIZANyG3Yl9wAAAAABgFoJEANbl1IfEhYn0Py9MRJhIVxthItvfbAMAgNvUaihGqxtst/p4jbGVurZyP8b2aXGOX4uIPxYRPzoIDfmlfXDIywXmByaWmUJEptPqe5ylqGuYFutqsaaIdusaw32J+HDSKmA5W7p+gf5aCxO5lbXIBvywoFKKIJEZZOaz2jUAbISQOQAAAACAfvx+CoAled0BAAAAYBGCRAC2QZhI//PCRISJdLURJgIAANvSaihGqxtst/p4jbGVurZyP8b2aWGOP/b6v1LKz+//++V9aMiPZpgPqGPKIJG1rndTaPU9zlLUNUyLdbVYU0S7dY3hvuxl5vemKgQWsqXrFxiglPIiIl7UrmPvptaizBQmAstqZa3bEhtmAExjV7uAtSul3NWuAQAAAACYV2buws9TAVjWbv/6AwAAMKUntQsAmEtm3tWuYa0EiQBshzCR/ueFiQgT6WojTAQAALah1VCMVjfYbvXxGmMrdW3lfozts/Qcfyy+GRjy868DQ4SGwHZl5r894XBrWO/m0up7nKWoa5gW62qxpoh26xrDffm6DycYA5aypet3CR4vNqeU8u2ov8H+LV5bTzLTJvywnIfaBWxRZj6vXQPAmvmwHAAAAABAb36/DkANXn8AAICp7WoXAEB7fqZ2AQBMqkREVhpjaL9L7fuMd80YQ8/1Pda3/bm+Q/r1GaOr/Zhzr/99TfuuMaLnsezRvmvOS3UdjzGmfdcYfdv3HeNQV/vjNsfthcwBALAVrYZitLrBdquP1xhbqWsr92Nsnznm+LX9f6+9LKX82rnGwG3IzEcR8Wii4VpZ72po9T3OUtQ1TIt1tVhTRLt1jeG+nJCZ3yul/NGpxoOZbOn6XYLHiy37OCJ+UmnuW762PsrMh1JK7SAX2LxSyr3wnlk8ycxdKeWhdiEAK/WkdgEb8FC7AAAAAABgXpm5CxssAlDHzt9FAAAAADA3QSIA2yNMpP95YSLCRISJnH6sAABgzVoNxWh1g+1WH68xtlLXVu7H2D5j5vhj3zhYyo8WmBtYv+9ONE6r6/ASWn2PsxR1DdNiXS3WFNFuXWO4L+d9GBGCRGA7trTewTeUUl5k5scR8dHSUy88X4t+GhG/rXYRcCPuI0KYyPSehU3cAcba1S5gA4TyAQAAAMD2+R0fADX5uwgAoCmZeVe7BgAApiVIBGCbhIn0Py9MRJiIMJHzYwAAwNq0GorR6gbbrT5eY2ylrq3cjyF9fm3/38V2pZQ+7QB6ycxHEfFogqFaXYeX0Op7nKWoa5gW62qxpoh26xrDfbkgM79XShEmAuu3pfUOziqlfJyZTyLiyVJTLjRP8zLzp6WUd2rXAVtXSrnPTJsMTe9JZu5KKQ+1CwFYEx/on8xD7QIAAAAAgPlk5i6EMgNQ187fRQAAAFPKzLtSyl3tOgBoxoMgEYDtEibS/7wwEWEiwkS++jcAANwSISIR/0wp5Z+euhgAWIHvTjCGEJHtzDOUuoZpsa4Wa4pot64x3Jd+PowIQSKwblta7+CiUsq3M/M3lphqgTnW5ElmPimlvKhdCNyAF7FcYNIt+WlEvFG7CICVEW41ARs2AQAAAMDmPa9dAADEq9/tPdQuAgAAGvMQAmAB+Dqf1xnnhQ/kAGzbFB+qHzvG1Bur9hnvmjGGnut7rG/7c32H9OszRlf7MefKiWND23eN0fdYn/Zdc15qM0X7rjGuOXbqXOnZ/lQ/AAC4FUJEAOBGZeajiHh05TBCRLYzz1DqGqbFulqsKaLdusZwXwbIzO/NPQcwmy2tdzDEt2ce37V12k8z0x9Lw/zuaxewVZlpEyeAnjJzV7sGAAAAAIDWZeZd7RoAYG/nd3wAAPANL2oXAEBzdrULWCtBIgDbJ0yk/3lhIsJEutrcSpgIAADcAiEiAHDbvntlfyEi25lnKHUN02JdLdYU0W5dY7gvw3240DzAtLa03sEgpZQXEfHxXMPPNO5WPKtdAGxdKeUhfGhtLk9smgHQm/d90xAQBgAAAADb5mepALTE6xIAADAV318A8DWCRABugzCR/ueFiQgT6WpzC2EiAACwdUJEAOCGZeajiHh0xRBCRLYzz1DqGqbFulqsKaLdusZwX0bKzO8tOR9wtS2tdzBKKeXjmH6jfdfWZU8y0wdCYH4PtQvYMGsYQD+72gUAAAAAALQsM+9q1wAAR3ZenwAAAACYgyARgNshTKT/eWEiwkS62ggTAQCA9RIiAgB894q+QkS2M89Q6hqmxbparCmi3brGcF+u82GFOYFxtrTewbU+nnAs11Z/H2Xmk9pFwJaVUu5r17BhApEALrC50HRKKXe1awAAAAAAZuN3TgC0yOsTANAC70nGeahdAABsmb+RHq+UcidIBOC2CBPpf16YiDCRrjZd7fq2bzVMBAAAtkqICADcuMx8FBGPRnYXIrKdeYZS1zAt1tViTRHt1jWG+zKBzPzf15ob6G1L6x1crZTyIiK+PcVQE4xxa35auwC4AcJE5vMsM3e1iwBomA/yT+OhdgEAAAAAwDxsNgZAy7xOAQCs1ovaBWzQQ+0C1sz3FgAcEiQCcHuEifQ/L0xEmEhXm67wjqHtWwoTAQCALRIiAgBERHx3ZD8hItuZZyh1DdNiXS3WFNFuXWO4L9P5VmZ+q3INwHm11who0j5M5JoPzLi2RspMYSIwo1KKIJF52SQf4ARBS5PywX4AAAAA2C6/awKgZV6nAAAgIkopD7VrAICtECQCcJuEifQ/L0xEmEhXmy2GiQAAwNYIEQEAIjMfRcSjEV2FiGxnnqHUNUyLdbVYU0S7dY3hvkzvw9oFACe1skZAk0op3x7bddJCbs+TzHxSuwjYOGEi83mSmTbOAPgma+N0HmoXAAAAAABMLzPvatcAAJd4vQIAACbg7wmBrbGujfMQIUgE4JYJE+l/XpiIMJGuNlsLEwEAgC0RIgIAvPbdEX2EiGxnnqHUNUyLdbVYU0S7dY3hvszjW5n5rdpFAF/T0hoBLRsaJuLamsZPhYnArF7ULmDjnmXmrnYRAK3Yr4m7ymVsRinloXYNAAAAAMAsbDQGwBp4vQIAqhBoBgCwOS8iBIkA3DphIv3PCxMRJtLVRpgIAAC0R4gIABAREZn5KCIeDewmRGQ78wylrmFarKvFmiLarWsM92VeH9YuAPgtLa4R0KRSyouI+Lhv8zlruUE+dA4z2W9ALkxkXtYwgK9YE6dzX7sAAAAAAGB6NkMFYE28bgEAQEREPNQuYM18XwFsRWbuatewdoJEABAm0v+8MBFhIl1tthImAgAAWyBEBAA49N2B7YWIbGeeodQ1TIt1tVhTRLt1jeG+zO9bmfmt2kUAza4R0KxSysdxecN919b0nmTmT2sXARtmI/J5PcnM57WLAKht/+G4XeUyAAAAAABaJ5AZgDXxugUAsC4PtQvYqEufMQHgNuxqF7B2gkQAVqSUMteHUoWJ9D8vTESYSFcbYSIAAFCfEBEA4Ldk5qOIeDSgixCR7cwzlLqGabGuFmuKaLeuMdyX5XxYuwC4ca2vEdCsUsq3u04vVsjteZKZT2oXAVtUSnkIH2Cb25P9BvoAt8wmQhMqpdzVrgEAAAAAmFZm3tWuAQCG8voFAFTg75BG2v/NMLTGNQ1shc+9jfT676IFiQDwmjCR/ueFiQgT6Wqz9jARAABYMyEi8/cBgLX57oC2QkS2M89Q6hqmxbparCmi3brGcF+W9a3M/FbtIuBGrWGNgNadChNxbc3vp7ULgA27r13ADbCGATdrH6a0q1zGljzULgAAAAAAmIVNEwFYI69fAADcuofaBQDQhF3tAtZOkAgAh4SJ9D8vTESYSFcbYSIAALA8ISLz9wGAVcnMRxHxqGdzISLbmWcodQ3TYl0t1hTRbl1juC91fFi7ALhBa1ojoFmllBcR8eL/397fLFeSremB3velVZHjvgD1ZYiDSAM24tQhKbJ6oDZ1t/EaWN3DjEFlHACZkTpRbJFmVdVqGiWZTAMONGaNVKQFHHGiilVFis1uXU0brW1pAI+TyEgA+8/d1/Llz2N27EQC/vMiM+Due++11vv4S7WybE0pxUL8MIPMHOKn1zVmUEq5q50BoBKLB03LPRsAAAAAOlNKuamdAQBO5T4GAMCWjeOwOYPXFMDalVJ2tTOs2PD5D4pEAPiSMpHDv69MRJnIS9ussUzk/x0AALAdSkQAoH/fHLidEpF+znMsuY7TYq4WM0W0m+sUfpZ6LkopF7VDwIas7RoBTcvMX8TDAr5+t5Z1WUqxEDXM47Z2gA1wDQM2Z5wYt6scoyuZeVM7AwAAAAAwOZ8hAbBm7mMAwCKUDUC3LmsHADjTrnaAFbv//AdFIgA8RZnI4d9XJqJM5KVt1lYmAgAAW6FEBAA6V0p5FRGvDthUiUg/5zmWXMdpMVeLmSLazXUKP0t9f1g7AGzEWq8R0LrvagfYqF+VUkwUgYll5hCPBuAzm+txUX2ArbBo0LSG2gEAAAAAgGlZBBWAHrifAQA077Z2gM4NtQOs3K52AIAzmec2AUUiADxHmcjh31cmokzkpW2UiQAAQFuUiADANnxzwDZKRPo5z7HkOk6LuVrMFNFurlP4WdpwUUq5qB0COrfmawQ0LTPvQ5lILRakhnmYJLiMD8pEgC0Yr3W7yjF6o/QLAAAAAPrj828AeuB+BgAswTMHrTKu60zKCYGV29UOsFaZefP5z4pEANZnyRdCykQO/74yEWUiL22zpjIRAADomRIRANiAUsqriHi1ZzMlIv2c51hyHafFXC1mimg31yn8LG35w9oBoGM9XCOgaZl5GyZ91HBZSvlQOwT0JjOHcE1bismswBbc1Q7Qm8eT5QAAAACA9bNAIgA9cV8DAADOcFk7AMApvB8yHUUiAOszLHw+ZSKHf1+ZiDKRl7ZZQ5kIAAD0TIkIAGzHN3u+r0Skn/McS67jtJirxUwR7eY6hZ+lPRellIvaIaBDvVwjoHmZ+bp2ho26LKWYLALTu60dYCMuSykW2Ae6ZVLcLIbaAQAAAACAySmfB6An7msAwGyMRzrbUDtAzzLzpnaGDuxqBwA4kbltpxse/4MiEQAOoUzk8O8rE1Em8tI2rZeJ/P8CAAD6pEQEADailPIqIl69sIkSkX7Ocyy5jtNirhYzRbSb6xR+lnb9Ye0A0JnerhGwBspE6vigTASmlZlDRNzXzrERl6WUXe0QAFMbr20WCZqe+zMAAAAAdMQCqAD0yP0NAKBN4/hgaJrXE8BK7WoHWLGfjI1WJALAoZSJHP59ZSLKRF7aptkykcz8XwIAAPqjRAQAtuWbF76nRKSf8xxLruO0mKvFTBHt5jqFn6VtF6WUi9ohoBM9XiOgeZl5HxHf1c6xURaphund1g6wIR+UiQAd8nw2g8y8qZ0BAAAAAJiU91IB6JH7GwAwF88ZtM746/P5PQdWRQHS2YbH/6BIBGB97vdvMhtlIod/X5mIMpGXtmm1TAQAAHqjRAQANqSU8ioiXj3zbSUi/ZznWHIdp8VcLWaKaDfXKfws6/CHtQNAB3q+RkDzMvM26o572qrLUooJIzChzBzC9WxJykSAbozXs13lGD0yyRwAAAAAOmJxMQB65j4HAEzNGEvYDr/vwMpc1g6wZuPcpd9SJAKwMuOFvObiFspEDv++MhFlIi9to0wEAADmpUQEALbnm2e+rkSkn/McS67jtJirxUwR7eY6hZ9lPS5KKRe1Q8CK9X6NgLWwwG8dvyqlGHwN03I9W5ZCJKAXd7UDdGqoHQAAAAAAmJTPhgDomfscADC1Xe0AK2dM8DKG2gE64fUEsCa72gFWbPjyC4pEANZLmcg02ysT2b+fMpFtlIn8LwEAAP1QIgIAG1NKeRURr574lhKRfs5zLLmO02KuFjNFtJvrFH6W9fnD2gFgpbZyjYDmZeZ9RLyunWOjPtQOAD3JzCEi7mvn2JDLUorF94FVcx2bz3hfBgAAAAA6UEq5qZ0BAObmfgcATEyxAM0zxmsyu1LKrnYIgH2893G2n81XUiQCsG7KRKbZXpnI/v2UifRfJqJIBACAXigRmX8fAGjRN098TYlIP+c5llzHaTFXi5ki2s11Cj/LOl2UUi5qh4CV2dI1AlZhLBOx+H4FpRRlIjChzLyqnWFjlIkAqzVO3N1VjtGr29oBAAAAAIBJWfwUgC1wvwMAJqFQgJUZagfoxK52AIADeO/jPMOXX1AkArBOjye8KBOZZntlIvv3UybSf5kIAACsnRKR+fcBgOaUUl5FxKsvvqxEpJ/zHEuu47SYq8VMEe3mOoWfZd3+sHYAWJEtXiNgFTLzde0MG3VZSrmsHQI6Y/HyZV2WUkwoAdZIEdJMMvOmdgYAAAAAYBqllJvaGQBgKe57AMBEdrUDrJ3xR4u6rx2gE8ZSA01TdHa+zBy+/JoiEYA+KBOZZntlIvv3UybSb5nI/xwAALAtrS6wrUQEAI73zRf/rESkn/McS67jtJirxUwR7eY6hZ9l/S5KKRe1Q8AKbPUaAWuiTKSOD8pEYDqZqUhkedcmlgBrUkpRIjKfoXYAAAAAAGBSFkEEYEvc9wCAKXimYE2G2gF6oZgQaJznk/M8OU9JkQhAP5SJTLO9MpH9+ykT6bBMJDMViQAAsCWtLrCtRAQAjlRKeRURrx59SYlIP+c5llzHaTFXi5ki2s11Cj9LHzIivq0dAhq35WsErEZm3kfEd7VzbJQB2TAtZSLL+6BMBFiD8Vq1qxyjZ+7BAAAAANAJix8CsEXufwDAOYyjnMRQO8CWZOZQO0NHzAkBmmTs9HwUiQCsUGbePPetJXPMcG5lIspEDjmGMpGZykQAAGAjWl1gW4kIAJzmm0d/ViLSz3mOJddxWszVYqaIdnOdws/Sh88/+0Up5aJqEmjXlq8RsDqZeRsR97VzbNBlKeVD7RDQC9eyapSJAE0br1F3tXN0bDCxHAAAAAC6YvFDALbI/Q8AOIdnifMZ/7u829oBeqGYEGiU55MzPbfmvCIRgP4oE5lme2Ui+/dTJtJPmcj/HAAAsA2tLrCtRAQATlBKeRURr8Z/VCLSz3mOJddxWszVYqaIdnOdws/Shy9/9m+rpIC2bfkaAauVma9rZ9ioy1LKZe0Q0BGT2upQJgK0zES4eZnEDwAAAACdsOghAFvmPggAnGFXO0AHhtoB4AzGKAJNGed27CrHWLvhuW8oEgHokzKRabZXJrJ/P2UifZSJKBIBAGALWl1gW4kIAJzum/H/lYj0c55jyXWcFnO1mCmi3Vyn8LP04amf/aKUcrF4EmjXlq8R0ANlInV8qB0AepGZQ1jQvBZlIkBzSil3YSLcrDLzpnYGAAAAAGAyFj0EYMvcBwGAoykjm8Y4/pcFGfc1rXGsIkArvMdxvmfnJSkSAViv2z3fVyYyzfbKRPbvp0ykjzIRAADoWasLbCsRAYATlVJeRcSrUCLS03mOJddxWszVYqaIdnOdws/Sh5d+9m8XSwFt2/I1ArqQmfdhAf4qSinKRGAimXlVO8OGKRMBmjFej3aVY/Ru3zwKAAAAAGAlLHwKAO6HAMBJLNTNmg21A3RkZww10ALjp6fxUuGWIhGAvikTmWZ7ZSL791MmsuIykcz8fwUAAPSr1QW2lYgAwHm+CSUiPZ3nWHIdp8VcLWaKaDfXKfwsfdj3s1+UUi4WSQLt2vI1ArqSma9DmUgNl6UUE8lgOhY2r0eZCFDdeB26q52jdy9NkgMAAAAAVsfn1QDgfggAHEEJ2WSM+a3HvJFpeT0BtMC16HzDS99UJAKwXsOB2ykTmWZ7ZSL791Mmst4yEQAA6FWrC2wrEQGAM5RSXkXE1wucqtV7aavPOEuR6zgt5moxU0S7uU7hZ+nDoT/7t7OmgLZt+RoBvTIZp45flVIua4eAHmTmbZjcVpMyEaAaJSKL8ZoBAAAAADph4VMA+JH7IgBwBAt1s2qZeVM7Q2d2xk8DNY3XoF3lGD14cS6SIhGAlcrM4ZjN58qx0LmViSgTOeQYykROKxP5jwEAAH1qdYFtJSIAcL43C5yj1Xtpq884S5HrOC3majFTRLu5TuFn6cMxP/tFKeVitiTQri1fI6BbmXkfEd/VzrFRJpTBdCxwXpcyEaAWz1MLMIkcAAAAALrifVUA+JH7IgCwl/Kx6RiHVN1QO0Bn7moHADbNexoT2PdsokgEYN2GI7ZVJjLN9spE9u+nTGRdZSL/MQAAoD+tLrCtRAQAzlRKeRURr2Y+Tav30lafcZYi13FazNVipoh2c53Cz9KHU372bydPAW3b8jUCupeZtxFxXzvHBl2WUj7UDgE9yMwhXMdqUyYCLKqUchcRu9o5NmCoHQAAAAAAmIaFTwHg59wfAYADWKibXhhrPbFxHCPAosb3MnaVY/Rg2LeBIhGAdTv2BZAykWm2Vyayfz9lIuspE/mPAQAAfWl1gW0lIgAwjTczH7/Ve2mrzzhLkes4LeZqMVNEu7lO4Wfpw6k/+0Up5WLSJNCuLV8jYDMy83XtDBt1WUq5rB0CepCZV7UzoEwEWIYSkUXd1g4AAAAAAEzGwqcA8HPujwDAs5SOTco4pMoy86Z2hg7tjJ0GKvBexjT2ri+vSARg3YYT9lEmMs32ykT276dMZAVlIpn5PwUAAPSj1QW2lYgAwARKKa8i4tWMp2j1XtrqM85S5DpOi7lazBTRbq5T+Fn6cO7P/u0kKaBtW75GwBYpE6njgzIRmIzrWH3KRIBZjZPzd5VjbMWQmUPtEAAAAADA+Sx8CgDPc58EAJ4yjoW0UDe9GWoH6NBd7QDAdpRSXHMmckjB1u8skAOAmWTmUEo5adeIOGnHCUxx7lOPcex++7Y/5HjnHOPY7x36tUO3f27fY/Y75BgvbX/K9z7/+ZztXzpGHPi1csD2L51zX64vj3FojsdfUyICAEBPWl1gW4kIAEznzYzHbvVeOnmuzPzPpj4mwDlKKX8YEX8Y7V6LlzDFz35RSrnIzI8THAtatOVrBGxSZt6XUr6LiF/VzrJB16EAAc42ju+8jwjlPHV9KKW8tvg8MDWT8xd3WzsAAAAAADAZ762eb8jMq9ohAB4bF4/c1c7RgeuIuKkdAgBojtfSEzpksW4WcR9eQ0yulHLnfSNgbuM46l3lGL04aIz0V3OnAGB2w4n71VxkY4pzn3qMqRd8PeR45xzj2O8d+rVDt39u32P2O+QYL21/yvfyia8du/1Lxzj0a4ds/9I5923z1HaH5Pj8//8xAACAYygRAYBKSilvIuLVTIdv9V46R64/muGYAGfJzB+i3WvxEqb82b+d8FjQki1fI2DTMvM2HiaHsKzLUorJZjANi5634cM4UQVgEuM15a52jg0ZFEIBAAAAQB9KKTe1M3TC55BAi1ybJuJ+CQA8ZqHuyQ21A/BAoctsdsZNAwswjno6wyEbKRIBWL9zJssrE5lme2Ui+/dTJtJmmch/CAAA4FBKRACgrm9mOm6r99JZcmXm+zmOCzCBH2oHqGTq6/1FKeVi4mNCba0+rwHLMcG8jl+VUi5rh4C1Gxc9dx1rgzIRYBJKRKpwLwUAAACAflzXDtAB5ctAk8Zr01A5Ri/cLwGAx4xVmtY5a7cyPWPD5nFn3DQwl1KKZ5PpHPx+vyIRgPUbztxfmcg02ysT2b+fMpHGykQy838KAADgEEpEAKCiUsqbmQ7d6r10rlx/NNNxAc6Wme9qZ6hgruv9tzMdF2po9XkNWFBm3kfE69o5NupD7QDQg8y8DZMOW/HBpBXgHEpEqri1IB4AAAAA9KGUclM7QycssAm0zDVqIu6bAECEhbpnMtQOwE8MtQN0zPUDmNw4lnpXOUZPDp5rpEgEYOUmmhijTGSa7ZWJ7N9PmUg7ZSL/zwAAAA6hRAQA6vtmhmO2ei+dLVdmvp/r2AAT+aF2gAXNeR+6KKVczHh8WEqrz2tABWOZiEX4KyilKBOBaVgoox2XJtYCp1AiUkdm3tTOAAAAAACcb3yP9bp2jg4MypeBlo3XqKFyjF64bwLAxlmoex5eV7fFa4h5GTMNTMlY6ukdM05akQhAH6aYZKpMZJrtlYns30+ZSBtlIgAAwH5KRACgslLKmxkO2+q9dM5cfzTjsQEmkZnvamdYyBL3oW8XOAfMqdXnNaCizHxdO8NGXZZSLmuHgLUbJ7kpE2mHMhHgKCa+VePeCQAAAAD9sBj6NLxvCqyBa9VESik3tTMAAHUYrzQbz6ptuq8doGM7Y6aBCXmff1pHPZcoEgHgMWUi02yvTGT/fspEKpeJZOb/IwAAgJcoEQGANnwz8fFavZfOmisz3895fIAJ/VA7wMyWug9dlFIuFjoXTK3V5zWgDcpE6vigTATOl5m3YaJbS3blwa52EKBtJuXXk5k3tTMAAAAAAOcb32fdVY7RhcwcamcA2Ge8Vg2VY/Ti2rgGANgsC3XPY6gdgJ8zTmx2O68rgHONpUS72jk6MxyzsSIRgA5M/OJHmcg02ysT2b+fMpF6ZSL/IQAAgJcoEQGABpRS3kx8yFbvpXPn+qOZjw8wmcx8VzvDjJa+D3278PlgCq0+rwGNyMz7iPiudo6NMhkNpnFbOwAR8dPnzjuT44DnKBGpyj0TAAAAAPrh8+ZpeN8UWBPXrOm4jwLAxlioez4KOpvmNcS8jJcGTqYsfBbDsc8likQA+jFMeCxlItNsr0xk/37KROqUiSgSAQCA5ykRAYB2fDPhsVq9l86eKzPfz30OgIn9UDvADGrchy5KKRcVzgunavV5DWhMZt5GxH3tHBt0WUoxKR3ONA70f107x8Y99dx5V0q5WToI0LbxuqBEpI4hM29qhwAAAAAAzmeBsel43xRYk3F8xFA5Ri92FvwFgO0YxyztKsfolaKKhnnfYxHKRICjjdcN46mnd/RziSIRgH5MPUFemcg02ysT2b+fMpGFy0Qy8/8eAADAU5SIAEAjSilvJjxcq/fSJXL90QLnAJhUZr6rnWFiNe9Df17x3HCMVp/XgEZlpkX46/hVKeWydghYu3GxDIVIdbz03HldSjHBBYiIiPF6oEStHpP2AQAAAKAf3mudhvdNgTVy7ZqO+ykAbMC4ULf7/nyG2gHYa6gdYAOUiQAHUyIym2GcV3QURSIAnZipRVGZyDTbKxPZv58ykeXKRP5DAAAAT1EiAgBt+Wai47R6L10q16eFzgMwtR9qB5hI9ftQKeXb2hlgj+q/J8BqKROp40PtANCDzLyqnWGDDnnu3JUHu7nDAO0aS0R2tXNs2EmT4wAAAACA9oyfuewqx+jCTOvJAMxq/MxnqByjFztjGQCgbxbqnp8xSaugjHAZykSAvTybzOr+lJ0UiQD0ZZjhmMpEptlemcj+/ZSJLFMmokgEAAB+TokIADSklPJmokO1ei9dKtdfZKYiEWCVMvNd7QwTaOU+pEiElrXyewKsUGbex4kDZzlPKUWZCExDIdJyjn3uNEEONqiUslMiUp+yLQAAAADoynXtAJ2wiCawZq5h03FfBYBOWah7EZ5LV0AZ4aKMlQb28T7ETE4tDlckAtCXuSbHKxOZZntlIvv3UyYyc5lIZv7fAgAAeGzLJSIW6wSgVd9McIxW73NL5cqIeL/QuQDm8kPtAGdo6j5USlEmQoua+j0B1ikzX4cykRouSykGhMOZxslurmHzO/W5824sFAA24NFk/F3dJJtnwj4AAAAAdGJ833VXOUYXTl1UDKAFFgKe1M5CvwDQHyUiy/DaelWMIVuOMhHgSeM8il3tHJ06+T6nSASgIzO/SFUmMs32ykT276dMZL4ykf8QAADAY0pEAKAxpZQ3Exym1fvckiUinzLz00LnA5hFZr6rneFELd6HFInQmhZ/T4D1MlGkjl+VUi5rh4C1y8yrUCYyp3OfO3flwW6KMECbTMZvxmDCPgAAAAB05bp2gE4YEwH0wLVsOu6vANAR45YWM9QOwOGUES5OmQjwE0pE5nXOWGlFIgD9GWY8tjKRabZXJrJ/P2Ui85SJ/H8DAAD4TIkIALTpmzP3b/U+t2SJSETE+4XOBzC3H2oHOFKr96EopSgToRXN/p4A65SZ9xHxXe0cG2ViOkzDghnzmPK5866UcjPh8YBGjJPdTMZvg/shAAAAAHRiXHxwVzlGFxQwAz2wEPCkdhb5BYA+KBFZlHFJ6+O/2bKUiQARoURkAWfd3xSJAPRn7hc+ykSm2V6ZyP79lIlMXCaSmf8iAACACCUiANCkUsqbMw/R6n1u6RKRT5n5aaFzAswqM9/VznCEVu9DnykSoQWt/54AK5WZtxFxXzvHBl2WUj7UDgFrNy6Y8bp2js7M8dx5XUoxUQ46UUrZmezWlGG8HwIAAAAAfbiuHaATFs0EeuKaNh33WQBYOSUiyzIuaX2UEVZhjDRsnHHV8zu3OFyRCEBnFnqxqkxkmu2ViezfT5nIdGUi/z4AAIAIJSIA0LJvzti31fvc0iUiERHvFzonwFJ+qB3gAK3eh36ilKJMhJpW8XsCrFdmWoS/jstSymXtELB247hPhUjTmPO5cxcmysHqPZqIv6ubhM8y86p2BgAAAABgGuN7sLvKMbpw7qJiAC2xEPCkdsYtAMB6KRFZnEK79fLfbnl3Y5EAsCGllJ0SkUWcfV9TJALQpyVe+CgTmWZ7ZSL791MmMk2ZyL8IAABAiQgANKqU8uaM3Vu9z9UoEfmUmZ8WOi/AIjLzXe0Me7R6H3qKIhFqWdPvCbBuykTq+FA7APRgXERdmch5lnruNFEOVmr83fX72xYlIgAAAADQl+vaATphsUygR65t03G/BYAVMnZpeUo610sZYTU7Y6RhOx4VnO3qJunfFM8kikQA+jQsdB5lItNsr0xk/37KRM4sE8nMfx8AALBtSkQAoG3fnLhfq/e5GiUiERHvFzovwNJ+qB3gGa3eh55VSlEmwtJW93sCrFdm3kfEd7VzbJHJIjAZi2acbunnzl15sFv4vMAJSimfJ7fuamfhJ4ZxwjcAAAAA0IHxc5Nd5RhdsNAp0CMLAU9qZ7wCAKyLsUtVDLUDcDbjquswRho24FGJCPO7muIgikQAOrTwByfKRKbZXpnI/v2UiZxeJvIvAgAAtk2JCAA0rJTy5sRdW73P1SoR+ZSZnxY6N8CiMvNd7QxPaPU+tI8iEZa01t8TYMUy8zYi7mvn2JiMiMtSynXtILB249jP17VzrFDN5867UsqdyXLQrlLKTTxMdNvVTcKXMnOSiXEAAAAAQDN8ZjwNi2QCPXONm477LgCsQCllV0opYexSDZ49V04ZYXXGR0OnHo2tZn7DeD87myIRgH4tOSFemcg02ysT2b+fMpETykQy858HAABslxIRAGjfNyfs0+p9rlaJSETE+4XODVDLD7UDPNLqfeggpRRlIixh1b8nwOqZ9LOcx9f7axNF4HzjJAHXscO18Ny5i4fJcjeVcwCPjJPw78ICOq1SIgIAAAAAHRk/K95VjtGFzLypnQFgLhYCntTOWC0AaJtFuquabNFu6spM48zquhvHYQKdMLZ6cZPNDVIkAtCpCh8OKxOZZntlIvv3UyZyXJnIvw8AANguJSIA0LhSypsTdmv1PlezRORTZn5a6PwAVWTmu9oZRq3eh46hSIS59fB7AqxYZt5HxOvaOTbgqev9h8VTQIcy8zYi7mvnWIHWnjuvSyl3FuqA+h5Nwt/VTcIzTNQHAAAAgP5YeGwaky0qBtAw17rpuP8CQINKKTuLdFfnmbMv/nvWtSsPdrWDAKd79Hyyq51lQyYdL61IBKBvS7/oUSYyzfbKRPbvp0zk8DKRfx4AALBNSkQAYB2+OXL7Vu9zNUtEIiLeL3R+gNp+qHz+Vu9Dx8pSytvaIehWL78nwMqNZSIW4Z/Ps9f7cWA5cKbMvArXsZe0+ty5i4g710KowyT8dRjvcQAAAABAJ8ZFBHeVY3QhM29qZwCY27iA4lA5Ri92FvMFgLaUUm4iwiLddU26aDf1eb+kGXfjNQ5YmfG9A88ny5t0TXhFIgB9GyqcU5nINNsrE9m/nzKRA8pEMvPfBQAAbI8SEQBYgVLKmyN3afU+V7tE5FNmflooA0BVmfmu5ukrnntKn3+Ob6umoFe9/J4AncjM17UzdGrf9f7SBHWYzKQTBzqyhufOXXlwUzsIbMVYIGKSW/uUiAAAAABAf5Q7T8Nng8CWuOZNx30YABpQStmN45fcm+u7rx2AWRh31obrUsqd+SKwHo/GV7Os26mLzRSJAHSsYgO7MpFptlcmsn8/ZSIvb//PAwAAtkeJyPz7AMBUvjli21bvWbVLRCIi3i+UAaAVP1Q4Z6v3oWP95OcopbytFYQu9fJ7AvRHmci0Dr3efzA5BM43jgF1HfuptT13mjAHMyul3JRSSigQWYPJJ8UBAAAAAHWNn4HsKsfoQmbe1M4AsJSKa2L1aGdMAgDU9WiB7l3lKITX173yGqIpu4i4K6XcVM4BvOBRydmudpYtmuN5RJEIQP9qNbArE5lme2Ui+/dTJvLM9pn5PwYAAGyLEpH59wGASZRS3hyxeav3rBZKRD5l5qeFcgA0ITPfLX3Khc83l6d+jm8XT0Gvevk9ATqUmfcR8V3tHJ049np/PUsK2BhlIj+x1ufOXTxMmFMoAhN6NMHNM8c6DCbpAwAAAECXvEc7jVrrwgDU5No3HfdjAKiglHJTSilhge6WeMbsm/++bbkuD3a1gwA/NRb9KBGp52qOgyoSAejcOIm02ulXfm5lIspEDjlGq2UiSkQAAOBlSkQAoK5vDtyu1XtWCyUiERHvF0kB0J4fFjpPq/ehYz37c5RS3i4ZhC718nsCdCwzbyPivnaOlTvlen9ZSjFJHSYwjgPd+nWsh+fOXYyFIrWDwJo9KhAxwW1FMnOWSXEAAAAAQD3jIoG7yjG6oIgZ2KJxLMRQOUYvdhbvBYDlPCoQMU66LYPX130bX0MoE2nPXSnlzmsSqO/RGGvPKPUMc60Dr0gEYBtqvuBRJjLN9spE9u+nTOSn3/t3AQAAPEeJCABUVEp5c+Cmrd6zWikR+ZSZnxZJAtCYzHy3xGkWOMcS9v0c3y6Sgl718nsCbEBmvq6dYcXOud5fmxAC0xgXYN9qmUhvz5278uCmdhBYGwUiq6VEBAAAAAD6ZDGyaVgAE9gy18DpuC8DwMwUiDTPs+UGjGUxQ+UY/NwuHgpFbirngM0yxroZsz2PKBIB2IAG2jGViUyzvTKR/fspE3n437/LzL8JAADgKUpEAKC+bw7YptV7VislIhER72dPAdC2H2Y8dqv3oWMd9HOUUt7OHYQu9fJ7AmyLMpHjTXG9/zDBMYDYbJlIz8+d1wpF4DCPJuHvamfhaLeZOdQOAQAAAABMq5SyC+/ZTqKB9WAAqhk/Rxoqx+jFbrw/AwATUyCyCoMxSpuiNKZdxkbDwoyxbsqsY6YViQBsR+0XPMpEptlemcj+/ZSJRPxfAwAAeIoSEQCorJTy5oDNWr1ntVQi8ikzP82eBKBhmflurkPPdNylHfNzfDtbCnrVy+8JsDGZeR/bW4D/HJNd70spd1MdC7ZuLBPZiq08d5o0B88wCX/1BgvgAQAAAEC3vG87jdrrwABUt7FxEHNzfwaACRm7tCpeX2/IuEi7/+ZtMzYaZlZK2Y1ztTyntGH2MdOKRAA2opFJOMpEptlemcj+/bZcJvI3mfk3AQAAfEmJCAC04Zs932/1ntVSiUhExPtZUwCsxw8TH6/V+9Cxjv45Silv5whCl3r5PQE2KjNfhzKRQ0x9vb8spRicDtN5XTvAArb43GnSHIxMwu+DRZ8AAAAAoE+llF1E7CrH6EIj68AAtMAiwNPYjfdpAOBEnxflNnZpVYaxWIINGd9TGSrHYD9jo2FijwpE7sL79C2Z/b0tRSIA29LChybKRKbZXpnI/v22WibyPwQAAPAlJSIA0IBSyps9m7R6z2qtRORTZn6aNQnASmTmuykPN+Gxajr15/h20hT0qpffE4AWxlC1bK7r/bWJ6jCNccJjz2UiW3/uNGmOzVIg0hUlIgAAAADQL+/hTsPYBYCRYqVJuU8DwAkejVuyKPf6eH29Xf7br4ex0TABBSLNul2i1EyRCMC2DLUDjJSJTLO9MpH9+22uTCQz/yYAAIDHlIgAQDu+eeF7rd6zWisRiYh4P1sKgHX6exMco9X70LHO+jlKKW+nCkKXevk9AYjMvI+I72rnaNTc13sT1WEiHZeJeO780edJc3eKmOhZKWU3/j1XINKPqyUmxAEAAAAAyxs/s9hVjtEFi+YD/IxFgKexM8YAAA4zlocYt7RuiyzcTZvG//ZeR6yLQhE4waPCs13tLPzMsNR7/YpEADZkfLEzVI7xmTKRabZXJrJ/vy2VifwPAQAAPKZEBAAaUUp588K3W71ntVgi8ikzP82WBGCFMvNjRHw85xBTZalsip/j2wmOQZ96+T0B+K3MvI2I+9o5GrPE9f6ylHK3wHlgEzosE/Hc+bRdRNwpFKE3nwtEIuIuTGzryWByPgAAAAB0zcKq07DIJcAXFCxNyv0aAJ7xRHnIrnIkzuAZkvHvwFA5Bsf7baGIsdHwtHGc9c2jZxbatNh7/YpEALanpQ+UlYlMs70ykf37baJMJDP/NAAAgM+UiABAW7555uut3rNaLBGJiHg/SwqA9fvhxP1avQ8da7Kfo5Tydqpj0Y1efk8AfiYze1p8/1xLXu8vTfaA6XRUJuK5c79dPBSKlFLKTeUscLJHk9oUiPRnyMyr2iEAAAAAgHmMn/PuKsfogoVOAZ7V0rpYa7YzPgsAfqQ8pFvGKfGZ1xHrdR0PY6PvjI2GB2OByF08jLNWINK223E+zyIUiQBszHiTGSrHeEyZyDTbKxPZv1/vZSJKRAAA4EdKRACgIaWUN898q9V7VqslIp8y89MsSQBWLjM/RsTHY3ebI0sFU/8c3058PNatl98TgJf0sPj+uWpc7z9UOCd0axwXel87xxk8dx7veiwUubP4B2vweVLbo8n49EeJCAAAAAD0z/u707C4JcAzFC1Nyn0bgM0ai0NuxjF2ykP6NCy5cDdtG/8uGLu2brv4cWz0jbHRbNEXBSK7ynHYb1j6fSxFIgDb1NoHy8pEptlemcj+/botE8nMPwkAACBCiYiFlgBo0TdPfK3Ve1arJSIREe8nTwHQlx+O2LbV+9CxZvk5Silv5zguALQoM+8j4rvaOSqq9lw0DnAHJjIu3r7GMpFeXp/VsouIu88T5ypngZ/5PCE/TGrbgtbmJwAAAAAAExoX79tVjtEFi+QD7OVzp2nsLL4LwFY8UxyiVKtvnhn5ibFMZKgcg2lcx8PY6Dtjo9kCY61Xa/FnEUUiABvU6AsdZSLTbK9MZP9+PZaJ/GkAAAARSkQstARAc0opb574cqv3rJZLRD5l5qfJkwB0JDM/RsTHQzadO8tC5vw5vp3x2ADQnMy8jXUuvn+u2s9Fl6UUk/RgQissE6l9HerN9TgP2sQ5qhontN09mpRP/67G+QkAAAAAQL+83zsNC50C7KFwaVLu3wB0p5SyUxyyebfGKvGUcRz1UDsHk9nFT8dG7yrngcmMzzPGWq9XlXHTikQAtqvFD5iViUyzvTKR/ft1VSaSmX8SAACAEhEAaNM3X/xzq/eslktEIiLeT5oCoF8/7Pl+q/ehY83+c5RS3s59DgBoTItjqebUynPRtQkdMK0VlYm0ch3q0S5+nDh34zrLEp4oD9lVjsRylIgAAAAAQOfGzxp2lWN0weL4AAfb2liuueyMGQBgzR4VhjwuDbkLxSFbNnhtzR5eS/RpFxF3xkazZo/K0D4/z+wqR+I0Q61x04pEADZqvPEMlWM8RZnINNsrE9m/Xy9lIkpEAADgNK2WdbSaCwCOVkp588WXWr1ntV4i8ikzP02aBKBTmfkxIj4+9+0ls8xoqZ/j24XOAwBNyMz7iHhdO8dCWnsu+lA7APRmBWUirV2HenYdJs4xE+UhhBIRAAAAANgKi7NOw0KWAAeyOPSk3McBaNqjRbV/UhjyaEyS0hAe89qaF43j2a5q52BWj8dG35VSbmoHgpd8UR7imWbdhnGuThW/U+vEADThNtqctJURUVZ87lOPcex++7Y/5HjnHOPY7x36tUO3f27fY/Y75BgvbX/K9z7/+ZztP//5bzLzj5/IDwAAvKzVso5WcwHAqb559OdW71mtl4hERLyfLAXANvwQERdffK3V+9CxFv05SilvM/P7Jc8JADVl5n0p5T4iLmtnmVGTz0WllLuag6mhR5l5VUq5i/auaU1ehzbiOiKuH+YhxW08TGQZqiZidcYJl5fR5vhzluUaAgAAAAAbMJaU7yrH6IJF8QGOdhsW2JzCrpSy89keADU885rS/Z1T3Xqm4RCZOZRSvJ7Yhl08vOa5joghIu7D2EYqe/T8Y7x1f6oWmikSAdiw8UXOEG0+XCgTmWZ7ZSL791tzmYgSEQAAOF6rZR2t5gKAk5RS3jz6x1bvWWsoEfmUmZ8mSwKwAZn5sZTyMX4sE2n1PnSsGj/HtxGhSASATcnM16WU/612jpm0/Fx0acI6TK/BMpGWr0Nb82WpiMWreNKjyWwm1PLYoAQOAAAAADbD+8PTqLrAGMAaZebNuBgs5/u8qC4AHOWIckn3bOY2GOPIMcbXExbx35bd+D/jo1mc8dabcFV7zpvJOABEGZ90G1Uz2xTnPvUYx+63b/tDjnfOMY793qFfO3T75/Y9Zr9DjvHS9qd8rzzxtUO3/6vM/Ec/SwsAABtVSvmDiPjHezZrtayjZq4/zcw/mehYABAREaWUVxHxr8Z/bPXzyDWUiERE/L4iEYDjlVIuIuL/E+3eh45V8+d4l5nKRDaqlPKfamdYo8z83doZgPOME0Y+1M4xsbU8F72uPbAaetRImcharkNbN0TEfTxMuh3qRqGWUspNPFwzdnWT0CglInRlvOaZvAuwXrfh9QusiucvgFUawvvGmzUufnZXO0cPMtNnZQAn8DpyUtUXvKQOv0cAdMKzDCcZx1DvauegCYpFmJTx1pty28K146vaAQBowm3tAC+o+YH4FOc+9RjH7rdv+0OOd84xjv3eoV87dPvn9j1mv0OO8dL2p3wvn/jaodv/8c+SAgAAL1EiAgDLeTP+f6v3rLWUiHxSIgJwmsz8GBG/qZ1jIrXvp99WPj8ALC4z7yPiu9o5JlT7eeIYJizDDMYF3+9rRqh4bo6zi4dr8V15cDNOcqJjn/87j//NSzz8HdhVjkWblIgAAK35yeuX2mEAADq1C89dW+bz22m0vJ4LQNNaWKSxI+7rAMBaKRHhHN6X4bPriLguPzJGmqMYb71ZQyvvTykSAWANH5ooE5lme2Ui+/dbS5nIX2XmXz0dFQAAeEKrZR2t5gKAk5VSXkXEq2j3nrWWEpGIiPcTHANgy97VDjCBJu6npZS3tTMAwNIy8zbqLro/lSaeJ45wWUoxaR1mULFMZG3XIX7KpLnOlFJ243/Huy8msrn/so8SEQCgdZ9fu+xqBwEA6Nzn566b2kGY1/hsvascowsrWM8FoHUW/p3GzntnAMAKDUpEOMf498e4N57y5RjpO+OkeeyZ4hDjrbelqbHTJuYAEBEPDynR/kNJWfm5Tz3Gsfvt2/6Q451zjGO/d+jXDt3+uX2P2e+QY7y0/SnfK0987blt/htFIgAA8FOllD+IiH/8xLdaLetoJdefZuafzHBcADaqlPKvIuLr2jmesaYSkU+Z+fsTHAdg00opfx4RF7VznKipMT2Z+bdrZ2B5pZT/VDvDGmXm79bOAEynlPK/1c5whqaeJ4702qQvmEcp5S4iLhc63ZqvQxxmiIeCGpN1G/TFIm+tjxGnbU1NhIMprWQeDQDH8/wCjfL8BdCdISJuvT/cp/EzpV3tHB24VSQCcL5xwU7O532zDfJ+DAAr5tmFyYzjKe9q52B1hngYJ60suHOPCmQuw/vi/Oiqpc/ATM4B4LdW8qGJMpFptlcmsn+/VstE/m1m/jfPZAMAgM16pkiklbKOKc4xVy5FIgBMppTyKiL+rHaOZ6ypRCQi4vcz89NExwLYrFLKRUT8ee0cJ2hxPM+7zPy+dgiWpUjkNIpEoC+llMuI+FA7xwlafJ44SmZ+VTsD9GqhMpHVX4c42e34/8pFFvRoAluEBUCYlgn5dM3CSQBd8xwDDfL8BdCtphZS4nzu2dPJTJ+ZAUzAvWlSnt02xu8PACvmuYVJKRNhQp/HSisYWZnxOrAb/1FpCC9p7jnEhw0A/NaKXtwoE5lme2Ui+/drrkwkM//zZzIBAMCmPVEk0lJZx7nnmDOXIhEAJlNK+bOIeFU7xxPWViLyKTN/f6JjAWxeKeXPI+Kido4jNDuWJzP/du0MLEuRyGkUiUB/SikfYv4F96fU7PPEke4t9gjzGceLzlWU1Mt1iOkMEXH/+c+tTapZE4UhLMzi23TPwkkA3fM8A43x/AXQteYWVOJ0pZSa63n05NZCggDTcX+ajPfMNsb7MQCslPeamEUp5S4UBzCfIX4cL61kpCKFIZypyeeQ36kdAIB2ZOZQShmi/YecjHplIlOc+9RjHLvfvu0POd45xzj2e4d+7dDtn9v3mP0OOcZL25/yvc9/fmr7f/ZEFgAA4OdaK+s45xwWWgJgFUopX4cSkam8n/BYAES8i4g/rx3iQE2/BiylvM3M72vnAIClZebrFZWJNP08caTLUsquxcHX0INxvOjrmL5MpKfrENPZxY9jk68fre8yhAlzP/HFxLUIk9eoxwJCAEAPdqWUO881AACLuCulNLmwEsf5otCaM/jcA2Byt6EMYQq7UsqN+xQA0LBb7zExl8y8UibCjHbx6O9WKeXL17C3X+7gtdnpnngv23sGTKHZ5xATdQD4iXEC2l3tHAeq2RQ/xblPPcax++3b/pDjnXOMY7936NcO3f65fY/Z75BjvLT9Kd8rX34tM/93z+QAAIDNK6X8QUT842i3rKPVXH+amX+ywHkA6Fwp5c+ivSKRNZaIfMrM35/weABERCnlzyPionaOPVYxhicz/3btDCynlPKfamdYo8z83doZgOmVUi5j+sX2p7aK54kTvG51EDb0YBwzOtX1rdfrEPUM8aho5PPX1nhfeGbhNSUhtEqJCJsxXp9NIAbonwWtoRGevwD6l5k+K1i58qgNnLPcWgQQYHruU9Px3LYd3o8BYGWMW2IRykRo3M8KR0arHEN9jHFuw+6Jb3lNwxKafg75ndoBAGhLZg6llCHW8cImo16ZyBTnPvUYx+63b/tDjnfOMY793qFfO3T75/Y9Zr9DjvHS9qd87/OfP///f/3E+QEAgJ9qtayjp1wA8DOllK9DichU3k98PAAevIuIP68d4gWreX1WSvnXmfnL2jkAYGmZeV9K+S4iflU7yzNW8zxxgut4WEgemME4ZvR1nF8m0vN1iHp28fPxzNcvrA3z3MS5JSgFoRdNT4IDADjRXXjdCgCwiFLKnfeX1uuZUmxOoEQEYDa3YfHQSZRSbtyvAIDGGLfEYjLzSpkIDXvude9LY6g/m2Qs9UuvFyd4H9nrelrU/HOIgU8APGllDew1s05x7lOPcex++7Y/5HjnHOPY7x36tUO3f27fY/Y75BgvbX/K90pE/NvM/K+eOTcAABARpZQ/iIg/OHK3Vss6lsz1J5n5JwucD4COlVL+LNoqEllricinzPz9iY8JwKiU8ucRcVE7xxPWOHbnl5n5sXYI5ldK+U+1M6xRZv5u7QzAfEopH+JhofCWrPF54lj3rQ/IhrUrpezi9DKRLVyHALag+UlwMLVxUrOJyQDbcGthRKjP8xfAZlxl5lA7BMdb2RojLfP6A2BG7lfTyUzjPTbA+zEArIRxS1ShTASAWMlzyFe1AwDQrEma5BZS80OJKc596jGO3W/f9occ75xjHPu9Q7926PbP7XvMfocc46XtT/leRsQ/e+a8AADA6ZSIAMAESilfhxKRqbyf4ZgA/Ohd7QBPWOvrs7e1AwBALZn5unaGL6z1eeJYl2PJATCTzBwy86uIuD921znyALC4VUyCAwA4Q2vlwAAAPbNI8QqNC0wzASUiALNb05pYTXP/BwAa4hmPKsYxc0PtHABUs5rx04pEAHjS+OH0UDnGMZSJTLO9MpH9+y1dJvLPMvPfPnNOAADgNK2WdbSaCwBe8qZ2gEfWXCLyKTM/zXBcAEaZ+TEiPtbO8ciaX59dlFIuaocAgIpaKRNZ8/PEKT7UDgBbME6COLRMZGvXIYBerWYSHADAGXaKagEAFuPZa50UwEzDwqcAM1PYNCn3fwCgBVeZOdQOwXYpEwHYrFWNn1YkAsBL1vYhtTKRabZXJrJ/v8XKRDLznz5zLgAA4DStlnW0mgsAnlVK+ToiXtXOMVpziUhExPuZjgvAT72rHWDUw+uzt7UDAEAtmXkfEd/VjlH5/FWUUu5qZ4AtOLBMZJPXIYAO3a5pEhwAwJl2tQMAAGzIrnYADldKuamdoRcWtwdYzNrWxGqW5wAAoDIlIjRBmQjA5qyqRCRCkQgALxhfWA+VYxxLmcg02ysT2b/fEmUi/6dnzgEAAJym1bKOVnMBwD5vagcYrb1E5FNmfprp2AA8kpkfI+Jj7RiVzz+Vi1LKRe0QAFBLZt7G/kX2Zzt9pfO24LKUcl07BGzBOCni9XPfXjILALO5sqgdALAxl7UDAABsiM/01sV/r2lY1B5gIT7jmpTnAACgFiUiNEWZCMB2rK1EJEKRCAB7rPHmFspEptpemcj+/eYsE/m3mfmXzxwfAAA4XqtlHa3mAoAXlVK+johXtXPE+ktEIiLez3hsAH7uXcVz9/b67G3tAABQWY1FQHp7njjFdSllVzsEbME4QfPLMhHXIYA+mIgPAGzRrnYAAABoTSnlpnaGXljUHmBxCpwm4nkAAKjA2CWapEwEYBPWuM66IhEADrLGD06UiUyzvTKR/fvNVSbyT585LgAAcLxWyzpazQUAh3hTO0D0USLyKTM/zXh8AL6QmR8j4mONU1c459wuSikXtUMAQC2ZeR8/X2B/1lMueK7WXdcOAFvxqEzkPlyHAHphIj4AAAAAs7Mg9Wr47HUaa1yTBWDVFDhNyvMAALAkY5domjIRgG4NseLnEEUiAOw1fnAyVI5xCmUi02yvTGT/flOXifzTzPzLZ44JAAAcp9WyjlZzAcBepZSvI+JV5Rg9lIhERLyf+fgAPO3dwufr+fXZ29oBAKCmsUzkfolTLXCONbkspdzVDgFbkZmDSXEAXRjywVA7CAAAAABQn7KX6VjMHqAaRU4T8VwAACxktYt3sy3juGmvNwD6MWTmqp9DFIkAcKi1vpBRJjLN9spE9u83WZlIZv5fnjkWAABwnFbLOlrNBQCHelP5/L2UiHzKzE8znwOAJ2Tmx4j4uNTpFjpPLRellIvaIaAhvf/OA0/IzNdzn2Lm46/VZSllVzsEbIlJcQCr9rkUCgAAAADgs+vaATrh8zOAShQ5TcpzAQAwt1Uv3s32jK83jLkDWL8uxlArEgHgIOML77V+gK1MZJrtlYns32+KMpH/8pljAAAAx2m1rKPVXABwkFLK1xHxqmKEXkpEIiLeL3AOAJ73boFzbOX12dvaAaARW/mdB542V5mIa8vLPigTgWWZFAewSrc9TIADAAAAAKZTSrmpnaEXFrEHqG6t62E1x/MBADAjJSKs0vj31tg7gPXqokQkQpEIAEdY+QfYykSm2V6ZyP79zikT+cvM/Mtn9gcAAA7XallHq7kA4BhvKp67pxKRT5n5aYHzAPCMzPwYER/nPMWMx27NRSnlonYIqGxLv/PAEzLzPiK+m/qwEx+vV9e1A8DWPJoUN9RNAsABrlY+BwAAAAAAmIfPWacx1A4AsHU+C5uU5wMAYA5KRFg1ZSIAq9VNiUiEIhEAjrfmm6AykWm2Vyayf7+TykQy8//4zH4AAMDhWi3raDFXnrAPABtWSvk6Il5VOn1PJSIREe8XOg8AL3s303G3+Frrbe0AUNEWf+eBJ2TmbUTcT3W4iY6zBZelFJPYYWGZ+XlSxVA7CwBPGsIkfAAAAADgCaWUm9oZOnJbOwAAEeF6PBnPCQDAxIxfoguPykSGukkAOFBXJSIRikQAONL4ImaoHOMcykSm2V6ZyP79ji0T+S+f2R4AADhci2Udp+4z9zksQgfAKd5UOm9vJSKfMvPTQucC4AWZ+TEiPk592ImPtxYXpZSL2iGggq3+zgPPyMzXUxxmgmNszXUpZVc7BGzROLmiqwkWAB0YMtMkfAAAAADgOde1A3Ri8D4sQBsy86Z2ho54TgAApmL8El3JzM+L0g+1swDwou5KRCIUiQBwgg5uiMpEptlemcj+/Q4tE/nLzPyLZ7YFAAAO02JZx6n7zH0Oi9ABcLRSytcR8arCqXsrEYmIeL/guQDY792Ex9r66623tQPAwrb+Ow8875wyEdeW032oHQC2apzoaWIcQBtuOxjrDwAAAADMpJRyUztDR25rBwDgJ1yXJ+J5AQA40xBKROjYOD7P6w+ANl31Oo5akQgAp1r7jVGZyDTbKxPZv98hx/jvn9kGAABohxIRALbuTYVz9lgiEpn5acnzAfCyzPwYER+nONQEx1i7i1LKRe0QsBC/88CzMvM+Iu5P2XXqLFtTSrmrnQG2KjOHccLFUDsLwIZdZeZN7RAAAAAAQNOuawfoxGBBVIC2+JxsUp4XAIBTDZmpRITuja8/1r4eL0Bvun4GUSQCwEnGm+NQOca5lIlMs70ykf37vXSM/z4z/+L5eAAAQAOUiACwaaWUryPi1cKn7bJEJCLeL3w+AA7z7sz9vd760dvaAWABfueBvTLzdRxXJuLaMo3LUsqudgjYsrFMxMQ4gGUN+WCoHQQAAAAAaFcp5aZ2ho7c1g4AwJNcnyfiuQEAOMEwjiGFTRjH613F+tfkBehB1yUiEYpEADhDJy/WlYlMs70ykf37PbXtX2TmP3khFwAAUJ8SEQCIeLPw+XotEYnMVCQC0KDM/BgRH0/dfcosHbgopVzUDgEz8jsPHOPQiemuLdP6oEwE6srMITMzTIwDWMJtJ2P6AQAAAID5XdcO0Imh9wXJANYqM29qZ+iI5wYA4BjGMLFJ45hpZSIA9Qz5YKgdZG6KRAA4Vw8v2pWJTLO9MpH9+325rRIRAABomxIRADavlPJ1RLxa8JTdlohEhBIRgLa9O2Efr7ee9rZ2AJiJ33ngKJl5HxHf7dtsiSwbZCI7NGCcGHdoqRIAx7uyGBIAAAAAcIhSyk3tDB3x+RdA21ynJ+L5AQA4kDFMbJ4x0wBVDFsqMlMkAsBZxtatoXKMKSgTmWZ7ZSL79/v853+SmX/xQhYAAKAuJSIA8ODNgufquUQkMlORCEDDMvNjRHw8Zpe5snTgopRyUTsETMzvPHCSzLyNiPvnvr1klo25LKXc1Q4BRIyTQ6+ij3GmAK0Y8sFQOwgAAAAAsBrXtQN0YvDeLEDbLGI9Kc8PAMBLhngoERkq54AmPBozDcD8brdUIhKhSASACXR081QmMs32ykT27/eXmflPXsgAAADUpUQEACKilPJ1RLxa6HRdl4hEhBIRgHV4d+B2Xm/t97Z2AJiQ33ngLJn5+qkvLx5key5LKbvaIYCIzBzGcaa3tbMAdOCqo7H7AAAAAMACSik3tTN0xOddAOvgej0RzxEAwDOGzFQiAl8Yx0xnPBTtADCPqy0WySoSAWAqvUxIUiYyzfbKRF7e749eODcAAFCXEhEA+NGbhc7Te4lIZKYiEYAVyMyPEfFx32ZLZOnARSnlonYImIDfeWAqj8tEXFuW86F2AOBH42SNqzA5DuAUQzxMfBsq5wAAAAAA1ue6doBODN6jBViHLS4mOSPPEQDAl64ys5d1R2EW4++I3xOAaQ35YKgdpAZFIgBMYryRDpVjTEWZyDTbKxN5+mv/JDP/4oXzAgAA9SgRAYBRKeXriHi1wKm6LxGJCCUiAOvy7oXveb11nLe1A8CZ/M4Dk8nM+4j4LlxbFldKuaudAfhRZg7j5Ljb2lkAVuQ2M5WIAAAAAABHK6Xc1M7QEZ9vAayL6/ZEPE8AAKMhHkpEhso5YBXG35Wr6GeNXoCahq0XmSkSAWAynd1UlYlMs70ykZ9+7S8y849eOB8AAFCPEhEA+Kk3C5xjCyUikZmKRABWJDM/RsTHp761dJaVy4i4LKVc1g4CJ/I7D0wuM28j4r52jg26LKVc1w4B/FRm3oTJcQD7DPEw+f6mcg4AAAAAYL18VjqNwUKpAOviM7ZJeZ4AAG4zU4kIHCkzPy98r+gQ4HRXna13fhJFIgBMraebqzKRabZXJvL5C5n/xQvnAQAA6lEiAgCPlFK+johXM59mEyUiEaFEBGCd3n3xz7XvJ2vz+N/X22op4HR+54E5mQBSx3UpZVc7BPBTJscBvMjkewAAAADgLKWUm9oZOuLzLIB1cv2eiOcKANi0KyVtcJ7xd+gqIoa6SQBWZcgHQ+0gLVAkAsCkxhvsUDnGlJSJTLO9MpEIJSIAANCmLZeIWBQTgOe8mfn4WykRicxUJAKwQpn5MSI+fv7HmllW6Mt/XxellMsqSeA0fueBWY1jq17XzrFR17UDAE/LzJvMzOhr7CnAqYYw+R4AAAAAmIbPSKcxWKgMYJ185jYpzxUAsD0W74YJZeaQmVeh8BDgELfjNZORIhEAJtfhzVaZyDTbb7lM5FNmfnrh2AAAQB2tlm8oEQGgmlLK1xHxasZTbKZEJCKUiACs27to436yJs/9+3q7aAo4nd95YBHjZKr72jk26LKUclc7BPC8cexpb+NPAY5xlZlXJt8DAAAAAOcqpdzUztARizsCrJvr+EQ8XwDAplx1uJ4oNGEsPLyKiKFuEoAmDfHwHHJTOUdzFIkAMJfeXvwrE5lm+02WiWTmf/HCMQEAgDpaLd9QIgJAbW9mPPaWSkQiMxWJAKxYZn6MiI+1c6zIS/ffi1LK5WJJ4DRNPEMC22FiVTWXpZRd7RDA8zJzyMwMC3kA2zLkg6F2EAAAAACgG9e1A3Ri8N4twLpZeHJSni8AoH+3xjHB/Mbx0ldhvDTAY0NmXnkOeZoiEQBmMd54e3thokxkmu23Viby+y8cCwAAqKPV8g0lIgBUVUr5OiJezXT4TZWIRIQSEYA+fF87wEoccv99O3sKOF0rz5DA9ryuHWCjPigTgfaNC3lcRcRQNwnArIaIuFIyBwAAAABMqZRyUztDR3pbMwVgq1zPJ+I5AwC6NcTDOKabyjlgUzLzJjMzjJcGMJ56D0UiAMxmfDNgqBxjaspEptl+K2UinzLz0wvHAQAAltdq+YYSEQBa8Gam426tRCQyU5EIQAcy82NEfKydo3GH3n8vSimXsyaB0zTzDAlsT2YOYZJ6Lde1AwD7ZeYwTgYxIQTo0W1mXo3PhAAAAAAAU/J56DQG7+EC9MGC2JPynAEA/TGOCSozXhrYsCEfDLWDtE6RCABz63GyuzKRabbvvUzkLzLz91/YHwAAWF6r5RtKRACorpTydUS8muHQmysRiQglIgB9+b52gIYde/99O0sKOF1Lz5DARmXmbUTc186xQZelFJPaYSXGQpGMPsejAtvzecLbTe0gAAAAAEB/Sik3tTN0xGdTAH1xXZ+I5w0A6MatcUzQDuOlgY0ZIuJqLFLiAIpEAJjV2OrV44sRZSLTbN9zmcivX9gPAABYXqvlG0pEAGjFmxmOucUSkchMRSIAHcnMjxHxsXaOBp1y/70opVxOngRO09QzJLBtBj1Xc11K2dUOARwuM2/GCXJD7SwAJxjChDcAAAAAYH7XtQN0YhjXSgGgExbInpTnDQBYtyEexjHdVM4BPMF4aWADbjPzynvwx1EkAsDsxjcKhsox5qBMZJrteywTeZ+Zn17YBwAAWFar5RtKRABoQinl64h4NfFhN1kiEhFKRAD69H3tAI055/77drIUcLrWniEBIiJe1w6wUR9qBwCONy7CfxV9jksF+nRlwhsAAAAAMLdSyk3tDB25rR0AgFm4vk/EcwcArNIQxjHBahgvDXRoCGVmJ1MkAsAixhciPVImMs32PZWJfMrMX7+wLQAAsKxWyzeUiADQkjcTH2+rJSKRmYpEADqUmR8j4mPtHI049/57UUq5nCQJnKa5Z0iAiIhxMtZ97RxbVEq5q50BOF5mDibIAStwmw+G2kEAAAAAgE24rh2gE4P3dQH6NC5UOVSO0QvPHQCwLrcKRGB9vhgvDbBmyszOpEgEgCX1+gJEmcg023dRJpKZ/+CFbQAAgGW1Wr6hRASAZpRS3kTEqwkPudkSkYhQIgLQt+9rB2jAVPfftxMdB47V4jMkwG+NEzyUiSzvspSyqx0COM2jCXK3tbMAPPK5QOSmdhAAAAAAYBtKKTe1M3TE504AfXOdn4jnDwBYBeOYoAPjeOkMr2eA9fn8LDLUDrJ2ikQAWMx44+71xYcykWm2X3uZyD984XsAAMCyWi3fUCICQGveTHisLZeIRGYqEgHoWGZ+jIiPtXNUNOX996KUcjnh8eAQTT5DAjyh17FVrfugTATWLTNvTJADGjCYeA8AAAAAVHJdO0AnBguaAfRtvM4PlWP0wvMHALRLgQh0yHhpYEWGiLjyLDIdRSIALGq8iQ+VY8xFmcg026+1TOQ3mfmbF1MBAABLabV8Q4kIAE0ppSgRmc4f1Q4AwCK+rx2gkjnuv29nOCY8p9VnSICfGSeqm9RRh4nt0AET5IBKhniY7HZVOwgAAAAAsD2llJvaGTriMyaAbXC9n4jnEABojgIR2ADjpYGGDTGOqVbaPS1FIgDU0PMLDmUi02y/tjKR32TmP9iTBwAAWEar5RtKRABo0VRFIlsvEcnM/HXtEADMLzM/RsTH2jkWNtf996KUcjnTseGxVp8hAZ6VmbcRcV87xwZdllLuaocApmGCHLCQIUx2AwAAAAAqKqXsIuK6do5ODN7rBdiG8Xo/VI7RC88hANAGBSKwQcZLA425NaZ6PopEAFjceFO/qp1jRspEptl+TWUiFgkEAIA2tFq+oUQEgOaUUpSITCMj4n3tEAAsJzN/WTvDgua+/76d+fjQ6jMkwF6Z2fPYqpZdjgvtAJ0wQQ6YyRAKRAAAAACANli8ezo+TwLYFtf9iZRSbmpnAICNGkKBCBDGSwPVeR5ZgCIRAKrYQDO7MpFptl9Dmcg/yMzf7MkAAAC0SYkIAFs2RZGIEpGIyExFwwDb8652gAUscf+9KKVcLnAetqnVZ0iAY7yuHWCjPtQOAEzPBDlgIkMoEAEAAAAAGlFK2UXErnKMXgze9wXYlg2sfbWk6/G5BABYxhA/jmG6qZwFaIjx0sDCFIgsSJEIANVk5lX0/YGKMpFptm+5TOQ3SkQAAGC1lIgAsFmlFCUi5/uc633VFABUkZnf184wsyXvv28XPBfb0eozJMBRxsnqJnBUUEq5q50BmIcJcsCJPk90UyACAAAAALTkunaAjvjsCGCbXP+n47kEAOZnDBNwEOOlgZkpEKlAkQgAtfX+4kKZyDTbt1gm8pvM/D/sTQUAALRIiQgAW3dukYgSkc9/yPx1zSAAVPWudoCZLH3/vSilXC58TvrW6jMkwEky8zYi7mvn2KDLUorJ7dCxRxPkriJiqBwHaJeJbgAAAABAk0opu4jYVY7Ri8ECrADbNF7/h8oxerEbn08AgGkNYQwTcCKFIsDEPJNUpEgEgKrGD1SuaueYmTKRabZvrUzk/7w/DgAA0CAlIgBsWilFich5Hud6Xy0FANVl5ve1M8yg1v33baXz0p9WnyEBzmXSRh3XJrdD/zJzyMyrUCgC/JSJbgAAAABA665rB+iIz+QBts19YDqeTwBgOrcRcZWZV8YwAed6VChivDRwCuOqG6BIBIDqNtLOrkxkmu1bKRP5+5n5mwOyAAAAbVEiAgAR5xSJKBF5/A+Zv64VBIBmvKsdYEI1778XpRRlIpyr1WdIgLONY6te186xUR9qBwCW8UWhiEVCYJuGeJh8b6IbAAAAANC0UsouInaVY/RiGD+TB2CjNrLu1VJ243MKAHCaIR4t1O31KjA146WBIykQaYgiEQCaML6g6J0ykWm2r10m8hslIgAAsEpKRADYvFKKEpHTfZnrfZUUADQlM7+vnWEiLdx/FYlwjhb+DgPMapwIdl87xxaVUu5qZwCWM06Qu8nMDBPkYCtu46FA5MrkewAAAACY1FA7QMeuawfoiM+DAIhwP5iS55TGWPAVoHlD/LhI95XrNrAE46WBPRSINEiRCAAtUSbS/rm3Xibym8z8+wecGwAAaIsSEQB4cGqRiBKRL7+Q+esaQQBo0rvaAc7UzP23lKJMhFM083d4ZJF/YDaZuYWxVS26LKXsaocAlvdogtxVWOwMejPEo0luCkQAADZjqB0AAGBLvO82j/Gzy13lGL0Y/D0FIOK3zy1D5Ri92BlrBQAHuY2IK+UhQG3GSwOjIR6eTRSINEqRCADNGD9U2UIjoTKRabavUSbywwHnBAAA6vibZ76uRORlfz3TcQFoTClFichpnsr1fvEUADQrM7+vneEMrd1/FYlwrNb+DkcoEgHm97p2gI36UDsAUE9mDuNk3YxtjHGFng1hAj7wiGsBwOZ4Dx8q8/wFsClD7QAdu64doCM+9wHgMfeF6XheaY+/3wBt+FwekuPC/UPtQACfGS8NmzXEj2Orh8pZeIEiEQCaMg4EHCrHWIIykWm2X7JM5O9n5scDzgcAAFSQmU8VYigR2XfgzL+a69gANOeUIhElIk99MfPXSwcBoHnvagc4QZP331KKMpG2tFyU0+Tf4bAIGTCzcVC2SRkVlFLuamcA6hsn72ZEXMU2xrpCD4aIuB0n4JvkBgAAAADLMH5iBqWUXUTsKsfoxeD9YgAeG+8LQ+UYvdiNzy20Y6gdAGCjhvhx3JLyEGA1vhgvbf4K9MnY6pVpdUI1ABtXSim1Myyk5s85xblPPcax++3b/pDjnXOMj5n59w44BwAAUFEp5V9GxP9+/EclIvv9dWb+oxmPD0AjSilv4vgiESUiT3uvSASAp5RS/tfaGY7Q6v03IiIy82/VzsCDUsplRPyb2jme0Ozf4cz8ndoZgG0YSy0ua+fYoNcGyANfKqXcRMR17RzAz9yGheCAA4yvr3a1cwAwv3GhE6Ay76UAbINnr3l4H2NSFkcD4GfG8ou72jk6MWTmVe0Q/GhD67kB1HYb8bAIf+UcAJMaP+O7DO9PwpoN8VAgMlTOwQm+qh0AAJ6xlQ8Cag6CmeLcpx5j6sV2DzneqcdQIgIAAOvxp+P/KxE5zB/PfHwA2qFE5DjP5lIiAsAL3tUOcKBW77+/NZZX0IDMvI+I+9o5vtDy3+HvagcAtsMk62osbgf8TGbejAuiXcU4CRioZoiHxd9y/N0cKucB1qG1978AmIfXa9COoXYAAGbn2Ws+u9oBOqGEGoAnjfeHoXKMXuxqB+BnPKcDzGOIh2vs4zFLN3UjAUxvvL5djWOmb8NrJ1iT2/E5RcH2irU8sRqAjdtYS3vNxu4pzn3qMY7db9/2hxzv2GP8vcz8eMBxAQCABpRS/mVE/J2ZT9NDichfZ+Y/mvkcADSglPJ1RPyrI3ZRIvK894pEAHhJKeV/rZ1hj1bvv1/6mJm/VzsED8Zil39TO8eo6b/Dmfk7tTMA2zKOrfpQO8cGvTZwHtinlHITEZdhYQxYwhAR9ybgA+copdSczwHAMiyGAA0ppdyF900AujUuJMfExs8ermvn6ITXBwA8a2PrXc3t1ue4bfGeDMBkbkNJJcDn10+78L4ltGiIh9flQ+UcTOSr2gEA4Dkba2mvOSBminOfeoypF9895HjHHEOJCAAArM+fznz8HkpEIiL+eIFzANCGV0dsq0TkeZ+UiABwgF/WDvCCVu+/T7moHYAfZeZ9RNzXzhHt/x3+rnYAYHvGsVUtXKO3xiQXYK/MvMnMq3GxtNvYzlhYWMoQD5Pbcvxdu6mcB1i/oXYAAGZlYQRoz23tAADM5qp2gI5d1g7QCa8PAHjReJ/wunUanl/a4+82wPGGeLh+fh6rlOP4wKFuLID6MnMYr4kZD+8Ne96Euob46fjqoXIeJtT6BGsA2FqTdVn5uU89xrH77dv+kOPt2+ZjZv7dA/MAAAANKaX8y4j4OzMcupcSkb/OzH+0wHkAaEAp5U1EvDlgUyUiL/uHmflpkSQArFop5V9He0UYrd5/n5WZf6t2Bn5USrmMiH9TMULrf4fvM/MXtUMA2zWOrTLpekGZ+VXtDMA6lVJu4uGavaubBFZpiIfXXzeVcwCdKqXUnMsBwHyGzLSYNTRofJ9EcTNAXzx7zch7F9MYFzUEgL3ce6fh3tueUsouIu5q5wBo2OdF8AeLbwOcZnzm3IUx07CEIYyv3gRvsADQvA2++axMZJrtzykTUSICAAArN0OZiBIRAFbpwCIRJSIve5+Zv14kCQCrV0q5iIh/XTvHI63ef1+kSKQ9FctE1vB3+BeZeV87BLBd49iqD7VzbIkiEWAKSkXgIEOY3AYsZIPzVgC24soiT9CusSh7VzsHAJNQIjIzi5lPwusDAA7mc4NpKBJpk/dkAH5riIj7iAjjkwDmY8w0TG4I46s3xxssAKzCBj9cUSYyzfanlon83cz8eGQWAACgMROWiSgRAWC1DigSUSLysk+Z+Q8XSQJANxoqE2n1/ruXIpE2lVJ+FRFvFzzlGv4OKxEBmqBMZFmKRICpmSAHP3EbYXI+UIdFkwC6Y5FgWAHPYABdUCKyAPfMs/l7CsDR3H/P5v7bMH+/gQ26Hf9/8PkRQD3j3JddRFzXTQKrM4TykE1bw2RrAIiITb75rExkmu2PLRNRIgIAAB2ZoExEiQgAq1ZK+Toi/tUz31Yist8/zMxPsycBoDullH8dERcVI7R6/z3E95n5fe0QPK2UchkR/2aBU63h77ASEaApykSWo0gEmJMJcmzUbZikDzRig/NWAHqlRARWxDMYwKpZHHohYym5zw5O4+8pACfzmvUstxY4bds4RuWudg6AiX0uDAn3IYD2je97XobXXfCUIZSHMFrDhGsA+K0NfriiTGSa7Q8tE/mYmX/3yHMDAACNK6X8dxHx356way8lIn+cmX+8wHkAaFQp5c8i4tUXX1Yisp8SEQDOUrFMpNX770Ey82/VzsDLFigTaf3v8H1m/qJ2CICnjBN7r+NhIgXzuLfIDLCUR6UiJsjRm9sIk/WBdlk0CWDVLBAMK2VxdIBVUt62sA2utTEFrxEAOJt78Encg1fi0ZjDXd0kAEe5ffTnwfsTAH0wbhoi4uE5x/MNP9P6pGsA+ImNTshQJjLN9vu+/zEzf3nkOQEAgJUopfydeCgT+TsH7tJDichfx0OJyF/NfB4AVuCLMhElIi/7FBG/ViICwBQqlIm0ev891C8z8752CA5TSvlVRLyd+LCt/x3+hb+jwBqMY6w+1M7RqdcG5AO1PJogZ1FN1maIiPswsQ1YEYsmAayShaxh5TyDAazGrZLgeixkfhQLmAMwGffgo7gHr5CSV6Aht1/8s/FGABulWISNGCLi3ucu7NP6xGsA+BllIqs89xrKRH6ZmR+PPB8AALAyY6HI51KR56y9ROSPI+KvFYgA8KVSytcR8SYivl7gdK1+DvlSrk8R8Skzf71UGAC2oZRyEQ+DFb+d+VSt3n8P8X1mfl87BKcZC0U+/z0/R6t/h+/jYTDmd7WDABzr0aJr516jebgf3JqMCLRkXMQhwkIOtGcIxSFAJxR5ATRvCO/ZQHc8gwE0aQgLWTXDIs97DeF1AgAzUIB5EKVzK+fvOTCDL4tBPjOuCICjKBahE0MYY80JWp18DQAv2mhLuzKRabZ/6vtKRAAAYKNKKf/dBIdp4n3WzPzj2hkAWIexUGSJMpHWPHfP/k1mflo0CQCbVkp5WztDQz5m5n3tEEynlHIZ/SxWf+/vJ9CTcdJEL9foRWXmc5MYAZqiWISKPt8rTWoDuvZoMjoA9Xn2hA159J4HAMvz3NUw71X8jL+vACzGffhn3Ic75O85sI/yKABq+uJ51dhpWjWE4hAm0MQCdwBwCmUiqzx3i2Ui7zLz+yOPDwAAAAAAAAAAANCsRxPkLmN7422ZzxAPE9osBgAAAAAAAAAAAABAE4ydpgG34/8rDmFSikQAWLVSSs1ijVqUiUyzfYmIj5n5yxPzAAAAAAAAAAAAAKxGKeVm/ON1zRysigltAAAAAAAAAAAAAKzOo3KRCOOnmdYQEfcREZl5UzUJ3VMkAsCqjQ/ld7VzVKBMZILtM/NvnZgDAAAAAAAAAAAAYNW+mBx3+ejPbM8QJrMBAAAAAAAAAAAA0DHjpznBEMZZU5EiEQBWr5RyE9ts9lMmct72v8zM+xMzAAAAAAAAAAAAAHRpHJv72RbH6PZsiHEiW0QMmTnUiwIAAAAAAAAAAAAA9X1RMBJhDPUWDWGcNQ1SJAJAF0opd7HNFj9lIqdtr0QEAAAAAAAAAAAA4AgKRlbl9tGfTWQDAAAAAAAAAAAAgBN8MYY6wjjqtRtCYQgrokgEgG4oE1ntuZcuE/mYmb934jkBAAAAAAAAAAAAeKSUsoufjuG9jG2O6V3SED9OYIswiQ0AAAAAAAAAAAAAFqdopEm3j/5snDWrpkgEgG6MkxDvaueoRJnIYe6ViAAAAAAAAAAAAAAs54mikQhlIy+5/fILmXlTIQcAAAAAAAAAAAAAcKYnykYijKc+xRAR919+TVEIPVMkAkBXlIms+tyzl4lk5u+eeA4AAAAAAAAAAAAAZvbMJLnPrpfKMZEhfj5R7beUgwAAAAAAAAAAAAAAj41rK+9e2KSXApIhjLWGvRSJANCdcQLh2iYKTkWZyPN+LzOffYEAAAAAAAAAAAAAQB8OmEB3NJPRAAAAAAAAAAAAAIC1GddqXsKQmcNC54JNUCQCQJdKKXfRRzveKZSJ/JwSEQAAAAAAAAAAAAAAAAAAAAAAAAAAAACa91XtAAAwh8y8ioihdo5KahaFTXHuU4/x3H73SkQAAAAAAAAAAAAAAAAAAAAAAAAAAAAAWANFIgD07LZ2gIqUiTy4z8zfOzcMAAAAAAAAAAAAAAAAAAAAAAAAAAAAACyh5iLjADC7UsouIu5q56iorPzcpx6jRERk5u9OkAEAAAAAAAAAAAAAAAAAAAAAAAAAAAAAFvFV7QAAMKfMHCLitnaOimqWhk1x7lOPkRHxexOcHwAAAAAAAAAAAAAAAAAAAAAAAAAAAAAWU3NxcQBYTCnlLiJ2tXNUVFZ+7mOP8YvMvJ/gvAAAAAAAAAAAAAAAAAAAAAAAAAAAAACwmK9qBwCAJWTmVUQMtXNUVLM8bIpzH3OMeyUiAAAAAAAAAAAAAAAAAAAAAAAAAAAAAKyRIhEAtuS2doDKtlAmcp+Zv5jgXAAAAAAAAAAAAAAAAAAAAAAAAAAAAACwuJoLigPA4kopu4i4q52jsrLycz97jMz8nQmODwAAAAAAAAAAAAAAAAAAAAAAAAAAAABVfFU7AAAsKTOHiLiqnaOymkViU5z7uWP8YoJjAwAAAAAAAAAAAAAAAAAAAAAAAAAAAEA1ikQA2JyxTGSoHKO23spEfpGZ9xMcFwAAAAAAAAAAAAAAAAAAAAAAAAAAAACqUSQCwCZl5lUoE+mlTOQ7JSIAAAAAAAAAAAAAAAAAAAAAAAAAAAAA9KDmAuIAUF0ppdTO0ICa/w7OPfd9Zr6eJAkAAAAAAAAAAAAAAAAAAAAAAAAAAAAAVPZV7QAAUNlV7QANqFksds65lYgAAAAAAAAAAAAAAAAAAAAAAAAAAAAA0BVFIgBsWmYOoUwkYp1lIreTpgAAAAAAAAAAAAAAAAAAAAAAAAAAAACAyhSJALB5Y5mIUop1lYm8zsz7WZIAAAAAAAAAAAAAAAAAAAAAAAAAAAAAQCU1FwwHgKaUUu4iYlc7RwNK4+dWIgIAAAAAAAAAAAAAAAAAAAAAAAAAAABAl76qHQAAWpGZVxEx1M7RgJpFY/vOfa9EBAAAAAAAAAAAAAAAAAAAAAAAAAAAAIBe1VwoHACaVEoptTM0oua/h6fOfZ+ZrxdPAgAAAAAAAAAAAAAAAAAAAAAAAAAAAAAL+ap2AABo0FXtAI2oWTj25bmViAAAAAAAAAAAAAAAAAAAAAAAAAAAAADQPUUiAPCFzBxCmchnrZSJ3FZLAQAAAAAAAAAAAAAAAAAAAAAAAAAAAAALUSQCAE8Yy0SUVzyoXSbyOjPvK2YAAAAAAAAAAAAAAAAAAAAAAAAAAAAAgEXUXBgcAJpXSrmLiF3tHI0oFc75eix1AQAAAAAAAAAAAAAAAAAAAAAAAAAAAIDufVU7AAC0LDOvImKonaMRSxeQ3SoRAQAAAAAAAAAAAAAAAAAAAAAAAAAAAGBLll4QHABWqZRyFxG72jkaURY4x/1Y4gIAAAAAAAAAAAAAAAAAAAAAAAAAAAAAm/FV7QAAsBK3tQM0ZO4iMiUiAAAAAAAAAAAAAAAAAAAAAAAAAAAAAGySIhEAOEBmDhGh3OJHc5WJKBEBAAAAAAAAAAAAAAAAAAAAAAAAAAAAYLMUiQDAgZSJ/MwcZSK3MxwTAAAAAAAAAAAAAAAAAAAAAAAAAAAAAFZBkQgAHGEsE1F28aMpy0Rej/9+AQAAAAAAAAAAAAAAAAAAAAAAAAAAAGCTplz8GwA2o5RyFxG72jkaUs7cX4kIAAAAAAAAAAAAAAAAAAAAAAAAAAAAAJv3Ve0AALBGmXkVEUPtHA05p5zsVokIAAAAAAAAAAAAAAAAAAAAAAAAAAAAAJy36DcAbF4p5S4idrVzNKQcuf39WMoCAAAAAAAAAAAAAAAAAAAAAAAAAAAAAJunSAQAzlRKObY8o3eH/vtQIgIAAAAAAAAAAAAAAAAAAAAAAAAAAAAAj3xVOwAAdEAZxk8dUlSmRAQAAAAAAAAAAAAAAAAAAAAAAAAAAAAAvnDIQt8AwB6llF1E3NXO0Zjy3DcyU5kZAAAAAAAAAAAAAAAAAAAAAAAAAAAAAHzBIt4AMIHMHCLiqnaOxjxXWPZ60RQAAAAAAAAAAAAAAAAAAAAAAAAAAAAAsBKKRABgImOZyG3tHI35skzk9fjvCQAAAAAAAAAAAAAAAAAAAAAAAAAAAAD4wpeLewMAZyql3EXErnaOxpRQIgIAAAAAAAAAAAAAAAAAAAAAAAAAAAAAL/qqdgAA6E1mXkXEUDtHY75TIgIAAAAAAAAAAAAAAAAAAAAAAAAAAAAAL8vaAQCgV6WUu4jY1c7RgGEsVwEAAAAAAAAAAAAAAAAAAAAAAAAAAAAAXvBV7QAA0KuxPGOonaMyJSIAAAAAAAAAAAAAAAAAAAAAAAAAAAAAcCBFIgAwr9vaASpSIgIAAAAAAAAAAAAAAAAAAAAAAAAAAAAAR1AkAgAzyswhIrZYpqFEBAAAAAAAAAAAAAAAAAAAAAAAAAAAAACOlLUDAMAWlFJ2EXFXO8dSMtMzBgAAAAAAAAAAAAAAAAAAAAAAAAAAAAAc6avaAQBgCzJziIir2jkWspWfEwAAAAAAAAAAAAAAAAAAAAAAAAAAAAAmpUgEABaykTKRq/HnBAAAAAAAAAAAAAAAAAAAAAAAAAAAAACOpEgEABY0lmwMlWPMRYkIAAAAAAAAAAAAAAAAAAAAAAAAAAAAAJxBkQgALCwzr6K/MhElIgAAAAAAAAAAAAAAAAAAAAAAAAAAAABwJkUiAFBBZ2UiSkQAAAAAAAAAAAAAAAAAAAAAAAAAAAAAYAKKRACgkk7KRAYlIgAAAAAAAAAAAAAAAAAAAAAAAAAAAAAwDUUiAFDRystEhjE/AAAAAAAAAAAAAAAAAAAAAAAAAAAAADABRSIAUNlKy0SUiAAAAAAAAAAAAAAAAAAAAAAAAAAAAADAxBSJAEAbbmsHOIISEQAAAAAAAAAAAAAAAAAAAAAAAAAAAACYgSIRAGhAZg4RsYZyDiUiAAAAAAAAAAAAAAAAAAAAAAAAAAAAADATRSIA0IgVlIkoEQEAAAAAAAAAAAAAAAAAAAAAAAAAAACAGSkSAYCGNFwmokQEAAAAAAAAAAAAAAAAAAAAAAAAAAAAAGamSAQAGtNomcht7QAAAAAAAAAAAAAAAAAAAAAAAAAAAAAA0DtFIgDQoMbKRK7GPAAAAAAAAAAAAAAAAAAAAAAAAAAAAAAAALBNpZRdqWtX+98BAAAAAAAAAAAAAAAAAAAAAAAAAAAAAAAANKFimciu9s8OAAAAAAAAAAAAAAAAAAAAAAAAAAAAAAAATSml3CkRAQAAAAAAAAAAAAAAAAAAAAAAAAAAAAAAgAYsWCayq/2zAgAAAAAAAAAAAAAAAAAAAAAAAAAAAAAAQNMWKBPZ1f4ZAQAAAAAAAAAAAAAAAAAAAAAAAAAAAAAAYBVmLBPZ1f7ZAAAAAAAAAAAAAAAAAAAAAAAAAAAAAAAAYFVmKBPZ1f6ZAAAAAAAAAAAAAAAAAAAAAAAAAAAAAAAAYJUmLBPZ1f5ZAAAAAAAAAAAAAAAAAAAAAAAAAAAAAAAAYNUmKBO5qf0zAAAAAAAAAAAAAAAAAAAAAAAAAAAAAAAAQBfOKBO5q50dAAAAAAAAAAAAAAAAAAAAAAAAAAAAAAAAunJCmYgSEQAAAAAAAAAAAAAAAAAAAAAAAAAAAAAAAJjDEWUiSkQAAAAAAAAAAAAAAAAAAAAAAAAAAAAAAABgTgeUiSgRAQAAAAAAAAAAAAAAAAAAAAAAAAAAAAAAgCW8UCaiRAQAAAAAAAAAAAAAAAAAAAAAAAAAAAAAAACW9ESZiBIRAAAAAAAAAAAAAAAAAAAAAAAAAAAAAAAAqOFRmYgSEQAAAAAAAAAAAAAAAAAAAAAAAAAAAAAAAKiplHJTOwMAAAAAAAAAAAAAAAAAAAAAAAAAAAAAcJj/P+QmcgSQXqfVAAAAAElFTkSuQmCC",
          "x": 0.97,
          "xanchor": "right",
          "xref": "paper",
          "y": 0.05,
          "yanchor": "bottom",
          "yref": "paper"
         }
        ],
        "legend": {
         "tracegroupgap": 0
        },
        "mapbox": {
         "center": {
          "lat": 38.9072,
          "lon": -77.0369
         },
         "domain": {
          "x": [
           0,
           1
          ],
          "y": [
           0,
           1
          ]
         },
         "style": "carto-darkmatter",
         "zoom": 11
        },
        "margin": {
         "b": 0,
         "l": 0,
         "r": 0,
         "t": 50
        },
        "paper_bgcolor": "rgb(30, 30, 30)",
        "plot_bgcolor": "rgb(30, 30, 30)",
        "template": {
         "data": {
          "bar": [
           {
            "error_x": {
             "color": "#2a3f5f"
            },
            "error_y": {
             "color": "#2a3f5f"
            },
            "marker": {
             "line": {
              "color": "#E5ECF6",
              "width": 0.5
             },
             "pattern": {
              "fillmode": "overlay",
              "size": 10,
              "solidity": 0.2
             }
            },
            "type": "bar"
           }
          ],
          "barpolar": [
           {
            "marker": {
             "line": {
              "color": "#E5ECF6",
              "width": 0.5
             },
             "pattern": {
              "fillmode": "overlay",
              "size": 10,
              "solidity": 0.2
             }
            },
            "type": "barpolar"
           }
          ],
          "carpet": [
           {
            "aaxis": {
             "endlinecolor": "#2a3f5f",
             "gridcolor": "white",
             "linecolor": "white",
             "minorgridcolor": "white",
             "startlinecolor": "#2a3f5f"
            },
            "baxis": {
             "endlinecolor": "#2a3f5f",
             "gridcolor": "white",
             "linecolor": "white",
             "minorgridcolor": "white",
             "startlinecolor": "#2a3f5f"
            },
            "type": "carpet"
           }
          ],
          "choropleth": [
           {
            "colorbar": {
             "outlinewidth": 0,
             "ticks": ""
            },
            "type": "choropleth"
           }
          ],
          "contour": [
           {
            "colorbar": {
             "outlinewidth": 0,
             "ticks": ""
            },
            "colorscale": [
             [
              0,
              "#0d0887"
             ],
             [
              0.1111111111111111,
              "#46039f"
             ],
             [
              0.2222222222222222,
              "#7201a8"
             ],
             [
              0.3333333333333333,
              "#9c179e"
             ],
             [
              0.4444444444444444,
              "#bd3786"
             ],
             [
              0.5555555555555556,
              "#d8576b"
             ],
             [
              0.6666666666666666,
              "#ed7953"
             ],
             [
              0.7777777777777778,
              "#fb9f3a"
             ],
             [
              0.8888888888888888,
              "#fdca26"
             ],
             [
              1,
              "#f0f921"
             ]
            ],
            "type": "contour"
           }
          ],
          "contourcarpet": [
           {
            "colorbar": {
             "outlinewidth": 0,
             "ticks": ""
            },
            "type": "contourcarpet"
           }
          ],
          "heatmap": [
           {
            "colorbar": {
             "outlinewidth": 0,
             "ticks": ""
            },
            "colorscale": [
             [
              0,
              "#0d0887"
             ],
             [
              0.1111111111111111,
              "#46039f"
             ],
             [
              0.2222222222222222,
              "#7201a8"
             ],
             [
              0.3333333333333333,
              "#9c179e"
             ],
             [
              0.4444444444444444,
              "#bd3786"
             ],
             [
              0.5555555555555556,
              "#d8576b"
             ],
             [
              0.6666666666666666,
              "#ed7953"
             ],
             [
              0.7777777777777778,
              "#fb9f3a"
             ],
             [
              0.8888888888888888,
              "#fdca26"
             ],
             [
              1,
              "#f0f921"
             ]
            ],
            "type": "heatmap"
           }
          ],
          "histogram": [
           {
            "marker": {
             "pattern": {
              "fillmode": "overlay",
              "size": 10,
              "solidity": 0.2
             }
            },
            "type": "histogram"
           }
          ],
          "histogram2d": [
           {
            "colorbar": {
             "outlinewidth": 0,
             "ticks": ""
            },
            "colorscale": [
             [
              0,
              "#0d0887"
             ],
             [
              0.1111111111111111,
              "#46039f"
             ],
             [
              0.2222222222222222,
              "#7201a8"
             ],
             [
              0.3333333333333333,
              "#9c179e"
             ],
             [
              0.4444444444444444,
              "#bd3786"
             ],
             [
              0.5555555555555556,
              "#d8576b"
             ],
             [
              0.6666666666666666,
              "#ed7953"
             ],
             [
              0.7777777777777778,
              "#fb9f3a"
             ],
             [
              0.8888888888888888,
              "#fdca26"
             ],
             [
              1,
              "#f0f921"
             ]
            ],
            "type": "histogram2d"
           }
          ],
          "histogram2dcontour": [
           {
            "colorbar": {
             "outlinewidth": 0,
             "ticks": ""
            },
            "colorscale": [
             [
              0,
              "#0d0887"
             ],
             [
              0.1111111111111111,
              "#46039f"
             ],
             [
              0.2222222222222222,
              "#7201a8"
             ],
             [
              0.3333333333333333,
              "#9c179e"
             ],
             [
              0.4444444444444444,
              "#bd3786"
             ],
             [
              0.5555555555555556,
              "#d8576b"
             ],
             [
              0.6666666666666666,
              "#ed7953"
             ],
             [
              0.7777777777777778,
              "#fb9f3a"
             ],
             [
              0.8888888888888888,
              "#fdca26"
             ],
             [
              1,
              "#f0f921"
             ]
            ],
            "type": "histogram2dcontour"
           }
          ],
          "mesh3d": [
           {
            "colorbar": {
             "outlinewidth": 0,
             "ticks": ""
            },
            "type": "mesh3d"
           }
          ],
          "parcoords": [
           {
            "line": {
             "colorbar": {
              "outlinewidth": 0,
              "ticks": ""
             }
            },
            "type": "parcoords"
           }
          ],
          "pie": [
           {
            "automargin": true,
            "type": "pie"
           }
          ],
          "scatter": [
           {
            "fillpattern": {
             "fillmode": "overlay",
             "size": 10,
             "solidity": 0.2
            },
            "type": "scatter"
           }
          ],
          "scatter3d": [
           {
            "line": {
             "colorbar": {
              "outlinewidth": 0,
              "ticks": ""
             }
            },
            "marker": {
             "colorbar": {
              "outlinewidth": 0,
              "ticks": ""
             }
            },
            "type": "scatter3d"
           }
          ],
          "scattercarpet": [
           {
            "marker": {
             "colorbar": {
              "outlinewidth": 0,
              "ticks": ""
             }
            },
            "type": "scattercarpet"
           }
          ],
          "scattergeo": [
           {
            "marker": {
             "colorbar": {
              "outlinewidth": 0,
              "ticks": ""
             }
            },
            "type": "scattergeo"
           }
          ],
          "scattergl": [
           {
            "marker": {
             "colorbar": {
              "outlinewidth": 0,
              "ticks": ""
             }
            },
            "type": "scattergl"
           }
          ],
          "scattermap": [
           {
            "marker": {
             "colorbar": {
              "outlinewidth": 0,
              "ticks": ""
             }
            },
            "type": "scattermap"
           }
          ],
          "scattermapbox": [
           {
            "marker": {
             "colorbar": {
              "outlinewidth": 0,
              "ticks": ""
             }
            },
            "type": "scattermapbox"
           }
          ],
          "scatterpolar": [
           {
            "marker": {
             "colorbar": {
              "outlinewidth": 0,
              "ticks": ""
             }
            },
            "type": "scatterpolar"
           }
          ],
          "scatterpolargl": [
           {
            "marker": {
             "colorbar": {
              "outlinewidth": 0,
              "ticks": ""
             }
            },
            "type": "scatterpolargl"
           }
          ],
          "scatterternary": [
           {
            "marker": {
             "colorbar": {
              "outlinewidth": 0,
              "ticks": ""
             }
            },
            "type": "scatterternary"
           }
          ],
          "surface": [
           {
            "colorbar": {
             "outlinewidth": 0,
             "ticks": ""
            },
            "colorscale": [
             [
              0,
              "#0d0887"
             ],
             [
              0.1111111111111111,
              "#46039f"
             ],
             [
              0.2222222222222222,
              "#7201a8"
             ],
             [
              0.3333333333333333,
              "#9c179e"
             ],
             [
              0.4444444444444444,
              "#bd3786"
             ],
             [
              0.5555555555555556,
              "#d8576b"
             ],
             [
              0.6666666666666666,
              "#ed7953"
             ],
             [
              0.7777777777777778,
              "#fb9f3a"
             ],
             [
              0.8888888888888888,
              "#fdca26"
             ],
             [
              1,
              "#f0f921"
             ]
            ],
            "type": "surface"
           }
          ],
          "table": [
           {
            "cells": {
             "fill": {
              "color": "#EBF0F8"
             },
             "line": {
              "color": "white"
             }
            },
            "header": {
             "fill": {
              "color": "#C8D4E3"
             },
             "line": {
              "color": "white"
             }
            },
            "type": "table"
           }
          ]
         },
         "layout": {
          "annotationdefaults": {
           "arrowcolor": "#2a3f5f",
           "arrowhead": 0,
           "arrowwidth": 1
          },
          "autotypenumbers": "strict",
          "coloraxis": {
           "colorbar": {
            "outlinewidth": 0,
            "ticks": ""
           }
          },
          "colorscale": {
           "diverging": [
            [
             0,
             "#8e0152"
            ],
            [
             0.1,
             "#c51b7d"
            ],
            [
             0.2,
             "#de77ae"
            ],
            [
             0.3,
             "#f1b6da"
            ],
            [
             0.4,
             "#fde0ef"
            ],
            [
             0.5,
             "#f7f7f7"
            ],
            [
             0.6,
             "#e6f5d0"
            ],
            [
             0.7,
             "#b8e186"
            ],
            [
             0.8,
             "#7fbc41"
            ],
            [
             0.9,
             "#4d9221"
            ],
            [
             1,
             "#276419"
            ]
           ],
           "sequential": [
            [
             0,
             "#0d0887"
            ],
            [
             0.1111111111111111,
             "#46039f"
            ],
            [
             0.2222222222222222,
             "#7201a8"
            ],
            [
             0.3333333333333333,
             "#9c179e"
            ],
            [
             0.4444444444444444,
             "#bd3786"
            ],
            [
             0.5555555555555556,
             "#d8576b"
            ],
            [
             0.6666666666666666,
             "#ed7953"
            ],
            [
             0.7777777777777778,
             "#fb9f3a"
            ],
            [
             0.8888888888888888,
             "#fdca26"
            ],
            [
             1,
             "#f0f921"
            ]
           ],
           "sequentialminus": [
            [
             0,
             "#0d0887"
            ],
            [
             0.1111111111111111,
             "#46039f"
            ],
            [
             0.2222222222222222,
             "#7201a8"
            ],
            [
             0.3333333333333333,
             "#9c179e"
            ],
            [
             0.4444444444444444,
             "#bd3786"
            ],
            [
             0.5555555555555556,
             "#d8576b"
            ],
            [
             0.6666666666666666,
             "#ed7953"
            ],
            [
             0.7777777777777778,
             "#fb9f3a"
            ],
            [
             0.8888888888888888,
             "#fdca26"
            ],
            [
             1,
             "#f0f921"
            ]
           ]
          },
          "colorway": [
           "#636efa",
           "#EF553B",
           "#00cc96",
           "#ab63fa",
           "#FFA15A",
           "#19d3f3",
           "#FF6692",
           "#B6E880",
           "#FF97FF",
           "#FECB52"
          ],
          "font": {
           "color": "#2a3f5f"
          },
          "geo": {
           "bgcolor": "white",
           "lakecolor": "white",
           "landcolor": "#E5ECF6",
           "showlakes": true,
           "showland": true,
           "subunitcolor": "white"
          },
          "hoverlabel": {
           "align": "left"
          },
          "hovermode": "closest",
          "mapbox": {
           "style": "light"
          },
          "paper_bgcolor": "white",
          "plot_bgcolor": "#E5ECF6",
          "polar": {
           "angularaxis": {
            "gridcolor": "white",
            "linecolor": "white",
            "ticks": ""
           },
           "bgcolor": "#E5ECF6",
           "radialaxis": {
            "gridcolor": "white",
            "linecolor": "white",
            "ticks": ""
           }
          },
          "scene": {
           "xaxis": {
            "backgroundcolor": "#E5ECF6",
            "gridcolor": "white",
            "gridwidth": 2,
            "linecolor": "white",
            "showbackground": true,
            "ticks": "",
            "zerolinecolor": "white"
           },
           "yaxis": {
            "backgroundcolor": "#E5ECF6",
            "gridcolor": "white",
            "gridwidth": 2,
            "linecolor": "white",
            "showbackground": true,
            "ticks": "",
            "zerolinecolor": "white"
           },
           "zaxis": {
            "backgroundcolor": "#E5ECF6",
            "gridcolor": "white",
            "gridwidth": 2,
            "linecolor": "white",
            "showbackground": true,
            "ticks": "",
            "zerolinecolor": "white"
           }
          },
          "shapedefaults": {
           "line": {
            "color": "#2a3f5f"
           }
          },
          "ternary": {
           "aaxis": {
            "gridcolor": "white",
            "linecolor": "white",
            "ticks": ""
           },
           "baxis": {
            "gridcolor": "white",
            "linecolor": "white",
            "ticks": ""
           },
           "bgcolor": "#E5ECF6",
           "caxis": {
            "gridcolor": "white",
            "linecolor": "white",
            "ticks": ""
           }
          },
          "title": {
           "x": 0.05
          },
          "xaxis": {
           "automargin": true,
           "gridcolor": "white",
           "linecolor": "white",
           "ticks": "",
           "title": {
            "standoff": 15
           },
           "zerolinecolor": "white",
           "zerolinewidth": 2
          },
          "yaxis": {
           "automargin": true,
           "gridcolor": "white",
           "linecolor": "white",
           "ticks": "",
           "title": {
            "standoff": 15
           },
           "zerolinecolor": "white",
           "zerolinewidth": 2
          }
         }
        },
        "title": {
         "font": {
          "color": "white",
          "family": "Arial, sans-serif",
          "size": 24
         },
         "text": "Washington DC Active Properties",
         "x": 0.5,
         "xanchor": "center"
        },
        "width": 1200
       }
      }
     },
     "metadata": {},
     "output_type": "display_data"
    }
   ],
   "source": [
    "\n",
    "# Data preparation - make sure lat/long columns are properly formatted\n",
    "listing_events_final['latitude'] = pd.to_numeric(listing_events_final['latitude'], errors='coerce')\n",
    "listing_events_final['longitude'] = pd.to_numeric(listing_events_final['longitude'], errors='coerce')\n",
    "\n",
    "# Drop rows with invalid coordinates\n",
    "listing_events_final = listing_events_final.dropna(subset=['latitude', 'longitude'])\n",
    "\n",
    "# Create hover text for each property with improved typography\n",
    "hover_text = []\n",
    "for idx, row in listing_events_final.iterrows():\n",
    "    property_info = []\n",
    "    \n",
    "    # Add address if available - making it more prominent\n",
    "    if 'address' in row and not pd.isna(row['address']):\n",
    "        property_info.append(f\"<b style='font-family: Arial, sans-serif; font-size: 14px;'>{row['address']}</b>\")\n",
    "    \n",
    "    # Add city, state, zip if available\n",
    "    location_parts = []\n",
    "    if 'city' in row and not pd.isna(row['city']):\n",
    "        location_parts.append(row['city'])\n",
    "    if 'state_abbreviation' in row and not pd.isna(row['state_abbreviation']):\n",
    "        location_parts.append(row['state_abbreviation'])\n",
    "    if 'zip_code' in row and not pd.isna(row['zip_code']):\n",
    "        location_parts.append(str(row['zip_code']))\n",
    "    \n",
    "    if location_parts:\n",
    "        property_info.append(f\"<span style='font-family: Arial, sans-serif;'>{', '.join(location_parts)}</span>\")\n",
    "    \n",
    "    # Add property details with improved labels and readability\n",
    "    if 'property_type' in row and not pd.isna(row['property_type']):\n",
    "        property_info.append(f\"<span style='font-family: Arial, sans-serif;'><b>Type:</b> {row['property_type']}</span>\")\n",
    "    if 'bedrooms' in row and not pd.isna(row['bedrooms']):\n",
    "        property_info.append(f\"<span style='font-family: Arial, sans-serif;'><b>Beds:</b> {row['bedrooms']}</span>\")\n",
    "    if 'bathrooms' in row and not pd.isna(row['bathrooms']):\n",
    "        property_info.append(f\"<span style='font-family: Arial, sans-serif;'><b>Baths:</b> {row['bathrooms']}</span>\")\n",
    "    if 'square_footage' in row and not pd.isna(row['square_footage']):\n",
    "        property_info.append(f\"<span style='font-family: Arial, sans-serif;'><b>Sq Ft:</b> {row['square_footage']:,.0f}</span>\")\n",
    "    if 'year_built' in row and not pd.isna(row['year_built']):\n",
    "        property_info.append(f\"<span style='font-family: Arial, sans-serif;'><b>Year Built:</b> {int(row['year_built'])}</span>\")\n",
    "    if 'price' in row and not pd.isna(row['price']):\n",
    "        property_info.append(f\"<span style='font-family: Arial, sans-serif;'><b>Price:</b> ${row['price']:,.0f}</span>\")\n",
    "    \n",
    "    hover_text.append(\"<br>\".join(property_info))\n",
    "\n",
    "listing_events_final['hover_text'] = hover_text\n",
    "\n",
    "# Create the map using scatter_mapbox with fixed figure size\n",
    "fig = px.scatter_mapbox(\n",
    "    listing_events_final, \n",
    "    lat=\"latitude\", \n",
    "    lon=\"longitude\", \n",
    "    hover_name=\"address\" if \"address\" in listing_events_final.columns else None,\n",
    "    hover_data={\"latitude\": False, \"longitude\": False},\n",
    "    custom_data=[\"hover_text\"],\n",
    "    color_discrete_sequence=[blue_color],\n",
    "    zoom=11, \n",
    "    height=800,\n",
    "    width=1200,\n",
    "    title=\"Washington DC Properties\")\n",
    "\n",
    "# Update the hover template to use our custom hover text\n",
    "fig.update_traces(\n",
    "    hovertemplate=\"%{customdata[0]}\",\n",
    "    marker=dict(opacity=0.65)  # Reduced opacity for better map readability\n",
    ")\n",
    "\n",
    "# Use a dark theme map style\n",
    "fig.update_layout(\n",
    "    mapbox_style=\"carto-darkmatter\",\n",
    "    mapbox=dict(\n",
    "        center=dict(lat=38.9072, lon=-77.0369),  # Center on DC\n",
    "        zoom=11\n",
    "    ),\n",
    "    margin=dict(l=0, r=0, t=50, b=0),\n",
    "    paper_bgcolor=\"rgb(30, 30, 30)\",\n",
    "    plot_bgcolor=\"rgb(30, 30, 30)\",\n",
    "    title=dict(\n",
    "        text=\"Washington DC Active Properties\",\n",
    "        x=0.5,\n",
    "        xanchor=\"center\",\n",
    "        font=dict(family=\"Arial, sans-serif\", size=24, color=\"white\")\n",
    "    ),\n",
    "    hoverlabel=dict(\n",
    "        bgcolor=\"rgba(50, 50, 50, 0.9)\",\n",
    "        bordercolor=\"white\",\n",
    "        font=dict(\n",
    "            family=\"Arial, sans-serif\",\n",
    "            size=14,\n",
    "            color=\"white\"\n",
    "        )\n",
    "    )\n",
    ")\n",
    "\n",
    "# Add logo to the lower left corner\n",
    "logo_path = '../../../images/Logo_ParclLabs_White_Dec2024.png'\n",
    "try:\n",
    "    # Load the logo image\n",
    "    logo_img = Image.open(logo_path)\n",
    "    \n",
    "    # Convert to base64 string for embedding\n",
    "    buffer = BytesIO()\n",
    "    logo_img.save(buffer, format=\"PNG\")\n",
    "    logo_base64 = base64.b64encode(buffer.getvalue()).decode('utf-8')\n",
    "    \n",
    "    # Add as layout image using base64 encoding\n",
    "    fig.add_layout_image(\n",
    "        dict(\n",
    "            source=f'data:image/png;base64,{logo_base64}',\n",
    "            xref=\"paper\", yref=\"paper\",\n",
    "            x=0.97, y=0.05,  # Position in the lower right\n",
    "            sizex=0.15, sizey=0.15,  # Size of the image relative to the plot\n",
    "            xanchor=\"right\", yanchor=\"bottom\"  # Anchor point changed to right\n",
    "        )\n",
    "    )\n",
    "except Exception as e:\n",
    "    print(f\"Failed to add logo: {e}\")\n",
    "\n",
    "# Save the figure as a PNG file using plotly.io\n",
    "try:\n",
    "    # Using plotly.io with higher resolution (scale=2)\n",
    "    pio.write_image(fig, \"dc_properties_map.png\", scale=2)\n",
    "    print(\"Figure saved as dc_properties_map.png\")\n",
    "except Exception as e:\n",
    "    print(f\"Failed to save image: {e}\")\n",
    "    print(\"Make sure the kaleido package is installed: pip install -U kaleido\")\n",
    "\n",
    "# Display the map\n",
    "fig.show()"
   ]
  },
  {
   "cell_type": "code",
   "execution_count": 27,
   "metadata": {},
   "outputs": [],
   "source": [
    "# if we want to save the csv and the map we can do it here\n",
    "active_properties_dc.to_csv('active_properties_dc.csv', index=False)"
   ]
  }
 ],
 "metadata": {
  "kernelspec": {
   "display_name": "parcllabs-env",
   "language": "python",
   "name": "python3"
  },
  "language_info": {
   "codemirror_mode": {
    "name": "ipython",
    "version": 3
   },
   "file_extension": ".py",
   "mimetype": "text/x-python",
   "name": "python",
   "nbconvert_exporter": "python",
   "pygments_lexer": "ipython3",
   "version": "3.11.9"
  }
 },
 "nbformat": 4,
 "nbformat_minor": 2
}
