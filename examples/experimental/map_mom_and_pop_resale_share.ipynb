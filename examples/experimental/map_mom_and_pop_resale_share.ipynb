{
 "cells": [
  {
   "cell_type": "code",
   "execution_count": null,
   "id": "64636b5e-2f47-4e05-aab5-e551384bab13",
   "metadata": {},
   "outputs": [],
   "source": [
    "# Environment setup\n",
    "import os\n",
    "import sys\n",
    "import json\n",
    "import subprocess\n",
    "from datetime import datetime\n",
    "from urllib.request import urlopen\n",
    "\n",
    "# Collab setup from one click above\n",
    "if \"google.colab\" in sys.modules:\n",
    "    from google.colab import userdata\n",
    "    %pip install parcllabs plotly kaleido\n",
    "    api_key = userdata.get('PARCL_LABS_API_KEY')\n",
    "else:\n",
    "    api_key = os.getenv('PARCL_LABS_API_KEY')"
   ]
  },
  {
   "cell_type": "code",
   "execution_count": null,
   "id": "db0d416e-dbb2-4b18-b078-541154820167",
   "metadata": {},
   "outputs": [],
   "source": [
    "import parcllabs\n",
    "import pandas as pd\n",
    "import plotly.express as px\n",
    "from parcllabs import ParclLabsClient\n",
    "\n",
    "print(f\"Parcl Labs Version: {parcllabs.__version__}\")"
   ]
  },
  {
   "cell_type": "code",
   "execution_count": null,
   "id": "cc46aa3c-457a-4211-9d6d-904dced07b6a",
   "metadata": {},
   "outputs": [],
   "source": [
    "client = ParclLabsClient(api_key=api_key)"
   ]
  },
  {
   "cell_type": "code",
   "execution_count": null,
   "id": "b24a6f1b-ae9b-4e73-a339-e1a8e2e54a67",
   "metadata": {},
   "outputs": [],
   "source": [
    "# lets get all metros in the country\n",
    "counties_df = client.search_markets.retrieve(\n",
    "    location_type='COUNTY',\n",
    "    as_dataframe=True,\n",
    "    params={\n",
    "        'limit': 1000\n",
    "    },\n",
    "    auto_paginate=True\n",
    ")"
   ]
  },
  {
   "cell_type": "code",
   "execution_count": null,
   "id": "d6cf9f25-af81-4b51-982c-200bc644588f",
   "metadata": {},
   "outputs": [],
   "source": [
    "# get the ids\n",
    "county_ids = counties['parcl_id'].tolist()\n",
    "len(county_ids)"
   ]
  },
  {
   "cell_type": "code",
   "execution_count": null,
   "id": "9101571b-af14-4f1b-b920-8bad8a7abadf",
   "metadata": {},
   "outputs": [],
   "source": [
    "# How big are the investors? Let's find out\n",
    "df = client.portfolio_metrics_new_listings_for_sale_rolling_counts.retrieve_many(\n",
    "    parcl_ids=county_ids,\n",
    "    as_dataframe=True,\n",
    "    portfolio_size='PORTFOLIO_2_TO_9',\n",
    "    params={\n",
    "        'limit': 1\n",
    "    }\n",
    ")"
   ]
  },
  {
   "cell_type": "code",
   "execution_count": null,
   "id": "c2733fa3-55ef-46c7-aba9-70fdd0e53874",
   "metadata": {},
   "outputs": [],
   "source": [
    "tmp = df.loc[(df['date']=='2024-05-06') & (df['period']=='rolling_30_day')]\n",
    "out = pd.merge(tmp[['parcl_id', 'counts', 'pct_sf_for_sale_market']], counties_df[['parcl_id', 'geoid', 'name', 'state_abbreviation', 'total_population', 'median_income']], on='parcl_id', how='right')\n",
    "out['pct_sf_for_sale_market'] = out['pct_sf_for_sale_market']/100\n",
    "out = out.rename(columns={'geoid': 'id'})\n",
    "out = out.fillna(0)\n",
    "out.to_csv('/Users/jasonlewris/repos/viz/maps/resale_mom_pop/resale.csv', index=False)"
   ]
  },
  {
   "cell_type": "code",
   "execution_count": null,
   "id": "68436de2-16e7-4da9-938e-d4d84f8e5f5d",
   "metadata": {},
   "outputs": [],
   "source": [
    "# lets create the map\n",
    "with urlopen('https://raw.githubusercontent.com/plotly/datasets/master/geojson-counties-fips.json') as response:\n",
    "    counties = json.load(response)"
   ]
  },
  {
   "cell_type": "code",
   "execution_count": null,
   "id": "3d736237-d40c-4af3-b0f2-427ed55639d0",
   "metadata": {},
   "outputs": [],
   "source": [
    "# rename geoid to fips\n",
    "out = out.rename(columns={'id': 'fips'})\n",
    "out.head()"
   ]
  },
  {
   "cell_type": "code",
   "execution_count": null,
   "id": "d9647476-1772-49e0-acca-82b01168e787",
   "metadata": {},
   "outputs": [],
   "source": [
    "all_fips_ids = [i['id'] for i in counties['features']]\n",
    "len(all_fips_ids)"
   ]
  },
  {
   "cell_type": "code",
   "execution_count": null,
   "id": "8e05afa3-7f01-4c6d-b111-7efde0324428",
   "metadata": {},
   "outputs": [],
   "source": [
    "# fill holes with no data\n",
    "map_ids = out['fips'].unique().tolist()\n",
    "missing = [i for i in all_fips_ids if i not in map_ids]\n",
    "missing_df = pd.DataFrame({'fips': missing})\n",
    "missing_df['counts'] = 0\n",
    "missing_df['pct_sf_for_sale_market'] = 0\n",
    "\n",
    "\n",
    "out = pd.concat([out, missing_df])\n",
    "out"
   ]
  },
  {
   "cell_type": "code",
   "execution_count": null,
   "id": "0be8ae2a-261f-4a4e-b2af-20937f2014ed",
   "metadata": {},
   "outputs": [],
   "source": [
    "labs_logo_lookup = {\n",
    "    'blue': 'https://parcllabs-assets.s3.amazonaws.com/powered-by-parcllabs-api.png',\n",
    "    'white': 'https://parcllabs-assets.s3.amazonaws.com/powered-by-parcllabs-api-logo-white+(1).svg'\n",
    "}\n",
    "\n",
    "# set charting constants\n",
    "labs_logo_dict = dict(\n",
    "        source=labs_logo_lookup['white'],\n",
    "        xref=\"paper\",\n",
    "        yref=\"paper\",\n",
    "        x=0.5,  # Centering the logo below the title\n",
    "        y=1.05,  # Adjust this value to position the logo just below the title\n",
    "        sizex=0.15, \n",
    "        sizey=0.15,\n",
    "        xanchor=\"center\",\n",
    "        yanchor=\"bottom\"\n",
    ")\n",
    "\n",
    "media_img_size_lookup = {\n",
    "    'X': {\n",
    "        'width': 1600,\n",
    "        'height': 900\n",
    "    }\n",
    "}\n",
    "\n",
    "PLATFORM = 'X'\n",
    "\n",
    "# set image sizes\n",
    "IMG_WIDTH = media_img_size_lookup[PLATFORM]['width']\n",
    "IMG_HEIGHT = media_img_size_lookup[PLATFORM]['height']\n",
    "\n",
    "# plotting title settings\n",
    "PLOT_TITLE_SETTINGS = {\n",
    "        'y':0,\n",
    "        'x':0,\n",
    "        'xanchor': 'left',\n",
    "        'yanchor': 'bottom'\n",
    "    }"
   ]
  },
  {
   "cell_type": "code",
   "execution_count": null,
   "id": "1288bf92-6ae8-49fc-9f3a-5709f5743a43",
   "metadata": {},
   "outputs": [],
   "source": [
    "# df['pct_sf_housing_stock_portfolio_1000_plus'] = df['pct_sf_housing_stock_portfolio_1000_plus']+100"
   ]
  },
  {
   "cell_type": "code",
   "execution_count": null,
   "id": "5ef44bfc-6ee4-4553-804f-c0b2ebc3d120",
   "metadata": {},
   "outputs": [],
   "source": [
    "# df.head()\n",
    "# out['pct_sf_for_sale_market'] = out['pct_sf_for_sale_market']*100"
   ]
  },
  {
   "cell_type": "code",
   "execution_count": null,
   "id": "04ff8758-9108-432f-9a51-075ead47c6f5",
   "metadata": {},
   "outputs": [],
   "source": [
    "import plotly.express as px\n",
    "import pandas as pd\n",
    "import os\n",
    "\n",
    "# Assuming 'df', 'out', 'counties', and 'labs_logo_lookup' are properly configured\n",
    "\n",
    "# Define the color scale\n",
    "color_continuous_scale=[\n",
    "    (0, \"#FFFFFF\"),\n",
    "    (0.5, \"#B0CFFF\"),  \n",
    "    (1, \"#04428C\") \n",
    "]\n",
    "\n",
    "# Set your Mapbox access token\n",
    "mapbox_access_token = os.getenv('MBOX_ACCESS_TOKEN')\n",
    "\n",
    "px.set_mapbox_access_token(mapbox_access_token)\n",
    "\n",
    "# Create the choropleth map\n",
    "fig = px.choropleth_mapbox(out,\n",
    "                           geojson=counties, \n",
    "                           locations='fips', \n",
    "                           color='pct_sf_for_sale_market',\n",
    "                           color_continuous_scale=color_continuous_scale,\n",
    "                           range_color=(5, 20),\n",
    "                           mapbox_style=\"mapbox://styles/mapbox/dark-v9\",\n",
    "                           zoom=6,\n",
    "                           center={\"lat\": 32.3846, \"lon\": -83.2554},\n",
    "                           opacity=0.9,  # Set opacity for the map\n",
    "                           labels={'pct_sf_for_sale_market':\"% of SFH's Listed\"}\n",
    "                          )\n",
    "\n",
    "# Adjust color bar and title text color\n",
    "fig.update_coloraxes(colorbar=dict(\n",
    "    title=\"% of New SFH's Listed\",\n",
    "    tickfont=dict(color='white', size=12),\n",
    "    title_font=dict(color='white', size=14),  # Title font size set to 14\n",
    "    y=-0.01, # Color bar y position (below the map)\n",
    "    len=0.35, # Length of the color bar (35% of the horizontal dimension)\n",
    "    orientation='h',  # Horizontal color bar\n",
    "    thickness=15,  # Thickness of the color bar\n",
    "    xanchor='center',  # Center the color bar horizontally\n",
    "))\n",
    "\n",
    "fig.add_layout_image(dict(\n",
    "     source=labs_logo_lookup['white'],\n",
    "     xref=\"paper\",\n",
    "     yref=\"paper\",\n",
    "     x=0.5,\n",
    "     y=1.05,\n",
    "     sizex=0.15, \n",
    "     sizey=0.15,\n",
    "     xanchor=\"center\",\n",
    "     yanchor=\"top\"\n",
    "))\n",
    "\n",
    "# Update the layout for background color, margins, and figure dimensions\n",
    "fig.update_layout(\n",
    "    title=\"🏠 % of all New SFH's Listed coming from Mom and Pops\",\n",
    "    title_x=0.5,  # Center the title\n",
    "    title_font=dict(color='white', size=20),  # Title font size set to 20\n",
    "    paper_bgcolor='#080D16',  # Background color of the paper\n",
    "    geo_bgcolor='#080D16',  # Background color of the map\n",
    "    margin={\"r\":0, \"t\":100, \"l\":0, \"b\":0},  # Adjust top margin to give space for the title\n",
    "    width=1600,\n",
    "    height=900,\n",
    "    mapbox=dict(\n",
    "        layers=[\n",
    "            {\n",
    "                'source': counties,\n",
    "                'type': 'fill',\n",
    "                'below': 'traces',\n",
    "                'opacity': 1,\n",
    "                'color': 'rgba(255,255,255,0.5)',  # Adjust the fill color and opacity\n",
    "            }\n",
    "        ],\n",
    "        style='mapbox://styles/mapbox/dark-v9',\n",
    "        center={\"lat\": 32.3846, \"lon\": -83.2554},\n",
    "        zoom=6,\n",
    "    ),\n",
    "    showlegend=False,  # Hide the legend\n",
    "    annotations=[],  # Remove any annotations\n",
    ")\n",
    "\n",
    "# Display the map\n",
    "fig.show()\n"
   ]
  },
  {
   "cell_type": "code",
   "execution_count": null,
   "id": "610653f3-b325-4c0b-babb-f1aee1d5512a",
   "metadata": {},
   "outputs": [],
   "source": [
    "out['pct_sf_for_sale_market'].mean()"
   ]
  },
  {
   "cell_type": "code",
   "execution_count": null,
   "id": "15ddb1f9-950c-4f9b-a62a-98753b44e6a8",
   "metadata": {},
   "outputs": [],
   "source": [
    "out.sort_values(['total_population', 'pct_sf_for_sale_market'], ascending=False)"
   ]
  },
  {
   "cell_type": "code",
   "execution_count": null,
   "id": "8e4c3bbd-47f7-4a0c-93c7-e63baa1569a0",
   "metadata": {},
   "outputs": [],
   "source": [
    "top = out.loc[(out['total_population'] > 10000) & (out['counts']>10)].sort_values('pct_sf_for_sale_market', ascending=False).head(50).reset_index()\n",
    "for index, row in top.iterrows():\n",
    "    rank = index + 1\n",
    "    name = row['name']\n",
    "    state = row['state_abbreviation']\n",
    "    pct = row['pct_sf_for_sale_market']\n",
    "    msg = f\"{rank}. {name}, {state}: {pct:.02%}\"\n",
    "    print(msg)"
   ]
  },
  {
   "cell_type": "code",
   "execution_count": null,
   "id": "95f773cd-054d-4bdb-a5d6-5ad2bba6e6af",
   "metadata": {},
   "outputs": [],
   "source": [
    "out['median_income'].describe()"
   ]
  },
  {
   "cell_type": "code",
   "execution_count": null,
   "id": "acd08ebd-6bd5-4ace-95e6-f4e73e33b65e",
   "metadata": {},
   "outputs": [],
   "source": [
    "def income_buckets(inc):\n",
    "    if inc <= 50000:\n",
    "        return '< $50,000'\n",
    "    if inc > 50000 and inc <= 60000:\n",
    "        return '$50k to $60k'\n",
    "    if inc > 60000 and inc <= 70000:\n",
    "        return '$60k to $70k'\n",
    "    else:\n",
    "        return '> $70k'\n",
    "\n",
    "out['inc_buckets'] = out['median_income'].apply(lambda x: income_buckets(x))"
   ]
  },
  {
   "cell_type": "code",
   "execution_count": null,
   "id": "ba4b42d3-47a3-4007-9cab-df1a4f029e4a",
   "metadata": {},
   "outputs": [],
   "source": [
    "out.groupby('inc_buckets')['pct_sf_for_sale_market'].mean()"
   ]
  },
  {
   "cell_type": "code",
   "execution_count": null,
   "id": "0dd93f4d-dafe-408e-86a5-a47c0be3da23",
   "metadata": {},
   "outputs": [],
   "source": [
    "out.groupby('inc_buckets')['parcl_id'].nunique()"
   ]
  }
 ],
 "metadata": {
  "kernelspec": {
   "display_name": "parcllabs-env",
   "language": "python",
   "name": "python3"
  },
  "language_info": {
   "codemirror_mode": {
    "name": "ipython",
    "version": 3
   },
   "file_extension": ".py",
   "mimetype": "text/x-python",
   "name": "python",
   "nbconvert_exporter": "python",
   "pygments_lexer": "ipython3",
   "version": "3.12.3"
  }
 },
 "nbformat": 4,
 "nbformat_minor": 5
}
