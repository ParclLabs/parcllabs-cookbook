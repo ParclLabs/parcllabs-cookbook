{
 "cells": [
  {
   "cell_type": "code",
   "execution_count": 1,
   "metadata": {},
   "outputs": [],
   "source": [
    "import os\n",
    "import sys\n",
    "import json\n",
    "import subprocess\n",
    "from datetime import datetime, timedelta\n",
    "from urllib.request import urlopen\n",
    "\n",
    "# Collab setup from one click above\n",
    "if \"google.colab\" in sys.modules:\n",
    "    from google.colab import userdata\n",
    "    %pip install parcllabs plotly kaleido\n",
    "    api_key = userdata.get('PARCL_LABS_API_KEY')\n",
    "else:\n",
    "    api_key = os.getenv('PARCL_LABS_API_KEY')"
   ]
  },
  {
   "cell_type": "code",
   "execution_count": 2,
   "metadata": {},
   "outputs": [
    {
     "name": "stdout",
     "output_type": "stream",
     "text": [
      "Parcl Labs Version: 0.4.0\n"
     ]
    }
   ],
   "source": [
    "import parcllabs\n",
    "import pandas as pd\n",
    "import plotly.express as px\n",
    "import plotly.graph_objects as go\n",
    "from parcllabs import ParclLabsClient\n",
    "\n",
    "import pandas as pd\n",
    "import numpy as np\n",
    "import seaborn as sns\n",
    "import matplotlib.pyplot as plt\n",
    "\n",
    "\n",
    "print(f\"Parcl Labs Version: {parcllabs.__version__}\")"
   ]
  },
  {
   "cell_type": "code",
   "execution_count": 3,
   "metadata": {},
   "outputs": [],
   "source": [
    "# Let's get total housing supply for the US\n",
    "\n",
    "# Initialize the Parcl Labs client\n",
    "client = ParclLabsClient(api_key)\n",
    "\n",
    "market_df = client.search_markets.retrieve(\n",
    "    sort_by='TOTAL_POPULATION',\n",
    "    sort_order='DESC',\n",
    "    as_dataframe=True,\n",
    "    params={'limit': 1},  # expand the default limit to 14, as of this writing, 14 markets are available\n",
    ")"
   ]
  },
  {
   "cell_type": "code",
   "execution_count": 4,
   "metadata": {},
   "outputs": [
    {
     "data": {
      "text/html": [
       "<div>\n",
       "<style scoped>\n",
       "    .dataframe tbody tr th:only-of-type {\n",
       "        vertical-align: middle;\n",
       "    }\n",
       "\n",
       "    .dataframe tbody tr th {\n",
       "        vertical-align: top;\n",
       "    }\n",
       "\n",
       "    .dataframe thead th {\n",
       "        text-align: right;\n",
       "    }\n",
       "</style>\n",
       "<table border=\"1\" class=\"dataframe\">\n",
       "  <thead>\n",
       "    <tr style=\"text-align: right;\">\n",
       "      <th></th>\n",
       "      <th>date</th>\n",
       "      <th>for_sale_inventory</th>\n",
       "      <th>parcl_id</th>\n",
       "    </tr>\n",
       "  </thead>\n",
       "  <tbody>\n",
       "    <tr>\n",
       "      <th>0</th>\n",
       "      <td>2024-05-27</td>\n",
       "      <td>1038764</td>\n",
       "      <td>5826765</td>\n",
       "    </tr>\n",
       "    <tr>\n",
       "      <th>1</th>\n",
       "      <td>2024-05-20</td>\n",
       "      <td>1044918</td>\n",
       "      <td>5826765</td>\n",
       "    </tr>\n",
       "    <tr>\n",
       "      <th>2</th>\n",
       "      <td>2024-05-13</td>\n",
       "      <td>1013473</td>\n",
       "      <td>5826765</td>\n",
       "    </tr>\n",
       "    <tr>\n",
       "      <th>3</th>\n",
       "      <td>2024-05-06</td>\n",
       "      <td>995607</td>\n",
       "      <td>5826765</td>\n",
       "    </tr>\n",
       "    <tr>\n",
       "      <th>4</th>\n",
       "      <td>2024-04-29</td>\n",
       "      <td>973452</td>\n",
       "      <td>5826765</td>\n",
       "    </tr>\n",
       "    <tr>\n",
       "      <th>...</th>\n",
       "      <td>...</td>\n",
       "      <td>...</td>\n",
       "      <td>...</td>\n",
       "    </tr>\n",
       "    <tr>\n",
       "      <th>86</th>\n",
       "      <td>2022-10-03</td>\n",
       "      <td>578151</td>\n",
       "      <td>5826765</td>\n",
       "    </tr>\n",
       "    <tr>\n",
       "      <th>87</th>\n",
       "      <td>2022-09-26</td>\n",
       "      <td>583000</td>\n",
       "      <td>5826765</td>\n",
       "    </tr>\n",
       "    <tr>\n",
       "      <th>88</th>\n",
       "      <td>2022-09-19</td>\n",
       "      <td>575952</td>\n",
       "      <td>5826765</td>\n",
       "    </tr>\n",
       "    <tr>\n",
       "      <th>89</th>\n",
       "      <td>2022-09-12</td>\n",
       "      <td>565995</td>\n",
       "      <td>5826765</td>\n",
       "    </tr>\n",
       "    <tr>\n",
       "      <th>90</th>\n",
       "      <td>2022-09-05</td>\n",
       "      <td>547444</td>\n",
       "      <td>5826765</td>\n",
       "    </tr>\n",
       "  </tbody>\n",
       "</table>\n",
       "<p>91 rows × 3 columns</p>\n",
       "</div>"
      ],
      "text/plain": [
       "          date  for_sale_inventory  parcl_id\n",
       "0   2024-05-27             1038764   5826765\n",
       "1   2024-05-20             1044918   5826765\n",
       "2   2024-05-13             1013473   5826765\n",
       "3   2024-05-06              995607   5826765\n",
       "4   2024-04-29              973452   5826765\n",
       "..         ...                 ...       ...\n",
       "86  2022-10-03              578151   5826765\n",
       "87  2022-09-26              583000   5826765\n",
       "88  2022-09-19              575952   5826765\n",
       "89  2022-09-12              565995   5826765\n",
       "90  2022-09-05              547444   5826765\n",
       "\n",
       "[91 rows x 3 columns]"
      ]
     },
     "execution_count": 4,
     "metadata": {},
     "output_type": "execute_result"
    }
   ],
   "source": [
    "us_parcl_id = market_df['parcl_id'].values[0]\n",
    "\n",
    "start_date = '2022-09-01'\n",
    "\n",
    "# get total inventory\n",
    "for_sale_inventory = client.for_sale_market_metrics_for_sale_inventory.retrieve(\n",
    "    parcl_id=us_parcl_id,\n",
    "    start_date=start_date,\n",
    "    as_dataframe=True,\n",
    "    params={\n",
    "        'limit': 100\n",
    "    }\n",
    ")\n",
    "\n",
    "for_sale_inventory"
   ]
  },
  {
   "cell_type": "code",
   "execution_count": 5,
   "metadata": {},
   "outputs": [
    {
     "data": {
      "text/plain": [
       "<Axes: title={'center': 'Total Inventory'}, xlabel='date'>"
      ]
     },
     "execution_count": 5,
     "metadata": {},
     "output_type": "execute_result"
    },
    {
     "data": {
      "image/png": "[encoded data removed]",
      "text/plain": [
       "<Figure size 640x480 with 1 Axes>"
      ]
     },
     "metadata": {},
     "output_type": "display_data"
    }
   ],
   "source": [
    "for_sale_inventory.sort_values('date').plot(x='date', y='for_sale_inventory', title='Total Inventory')"
   ]
  },
  {
   "cell_type": "code",
   "execution_count": 6,
   "metadata": {},
   "outputs": [],
   "source": [
    "import sys\n",
    "\n",
    "cur_dir = os.getcwd()\n",
    "chart_dir = os.path.join(cur_dir, '../..')\n",
    "\n",
    "sys.path.append(chart_dir)\n",
    "\n",
    "from charting.utils import build_line_chart"
   ]
  },
  {
   "cell_type": "code",
   "execution_count": 20,
   "metadata": {},
   "outputs": [],
   "source": [
    "import os\n",
    "from datetime import datetime\n",
    "\n",
    "import pandas as pd\n",
    "import plotly.graph_objects as go\n",
    "\n",
    "\n",
    "labs_logo_lookup = {\n",
    "    'blue': 'https://parcllabs-assets.s3.amazonaws.com/powered-by-parcllabs-api.png',\n",
    "    'white': 'https://parcllabs-assets.s3.amazonaws.com/powered-by-parcllabs-api-logo-white+(1).svg'\n",
    "}\n",
    "\n",
    "# Set charting constants\n",
    "labs_logo_dict = dict(\n",
    "    source=labs_logo_lookup['white'],\n",
    "    xref=\"paper\",\n",
    "    yref=\"paper\",\n",
    "    x=0.475,  # Centering the logo below the title\n",
    "    y=1.04,  # Adjust this value to position the logo just below the title\n",
    "    sizex=0.15, \n",
    "    sizey=0.15,\n",
    "    xanchor=\"center\",\n",
    "    yanchor=\"bottom\",\n",
    ")\n",
    "\n",
    "\n",
    "def build_line_chart(\n",
    "    data: pd.DataFrame,\n",
    "    title: str = None,\n",
    "    x_axis_title: str = None,\n",
    "    y_axis_title: str = None,\n",
    "    save_path: str = None,\n",
    "    value_name: str = None\n",
    "):\n",
    "    HEIGHT = 900\n",
    "    WIDTH = 1600\n",
    "    \n",
    "    fig = go.Figure()\n",
    "\n",
    "    # Plot the entire series with a single blue line\n",
    "    fig.add_trace(go.Scatter(\n",
    "        x=data['date'],\n",
    "        y=data[value_name],\n",
    "        mode='lines',\n",
    "        line=dict(width=2, color='#57A3FF'),  # Blue line\n",
    "        showlegend=False\n",
    "    ))\n",
    "\n",
    "    fig.add_layout_image(labs_logo_dict)\n",
    "    \n",
    "    fig.update_layout(\n",
    "        margin=dict(l=0, r=0, t=110, b=0),\n",
    "        height=HEIGHT,\n",
    "        width=WIDTH,\n",
    "        title={\n",
    "            'text': title,\n",
    "            'y': 0.99,\n",
    "            'x': 0.5,\n",
    "            'xanchor': 'center',\n",
    "            'yanchor': 'top',\n",
    "            'font': dict(size=28, color='#FFFFFF'),\n",
    "        },\n",
    "        plot_bgcolor='#000000',  # Dark background for better contrast\n",
    "        paper_bgcolor='#000000',  # Dark background for the paper\n",
    "        font=dict(color='#FFFFFF'),\n",
    "        xaxis=dict(\n",
    "            title_text=x_axis_title,\n",
    "            showgrid=False,  # Disable vertical grid lines\n",
    "            tickangle=-45,\n",
    "            tickfont=dict(size=14),\n",
    "            linecolor='rgba(255, 255, 255, 0.7)',  # Axis line color with opacity\n",
    "            linewidth=1  # Axis line width\n",
    "        ),\n",
    "        yaxis=dict(\n",
    "            title_text=y_axis_title,\n",
    "            showgrid=True,\n",
    "            gridwidth=0.5,  # Horizontal grid line width\n",
    "            gridcolor='rgba(255, 255, 255, 0.2)',  # Horizontal grid line color with opacity\n",
    "            tickfont=dict(size=14),\n",
    "            tickprefix='',  # Add dollar sign to y-axis labels\n",
    "            zeroline=False,\n",
    "            linecolor='rgba(255, 255, 255, 0.7)',  # Axis line color with opacity\n",
    "            linewidth=1  # Axis line width\n",
    "        ),\n",
    "        hovermode='x unified',  # Unified hover mode for better interactivity\n",
    "        hoverlabel=dict(\n",
    "            bgcolor='#1F1F1F',\n",
    "            font_size=14,\n",
    "            font_family=\"Rockwell\"\n",
    "        )\n",
    "    )\n",
    "\n",
    "    if save_path:\n",
    "        fig.write_image(save_path, width=WIDTH, height=HEIGHT)\n",
    "    \n",
    "    # Show the plot\n",
    "    fig.show()"
   ]
  },
  {
   "cell_type": "code",
   "execution_count": 22,
   "metadata": {},
   "outputs": [
    {
     "data": {
      "application/vnd.plotly.v1+json": {
       "config": {
        "plotlyServerURL": "https://plot.ly"
       },
       "data": [
        {
         "line": {
          "color": "#57A3FF",
          "width": 2
         },
         "mode": "lines",
         "showlegend": false,
         "type": "scatter",
         "x": [
          "2024-05-27",
          "2024-05-20",
          "2024-05-13",
          "2024-05-06",
          "2024-04-29",
          "2024-04-22",
          "2024-04-15",
          "2024-04-08",
          "2024-04-01",
          "2024-03-25",
          "2024-03-18",
          "2024-03-11",
          "2024-03-04",
          "2024-02-26",
          "2024-02-19",
          "2024-02-12",
          "2024-02-05",
          "2024-01-29",
          "2024-01-22",
          "2024-01-15",
          "2024-01-08",
          "2024-01-01",
          "2023-12-25",
          "2023-12-18",
          "2023-12-11",
          "2023-12-04",
          "2023-11-27",
          "2023-11-20",
          "2023-11-13",
          "2023-11-06",
          "2023-10-30",
          "2023-10-23",
          "2023-10-16",
          "2023-10-09",
          "2023-10-02",
          "2023-09-25",
          "2023-09-18",
          "2023-09-11",
          "2023-09-04",
          "2023-08-28",
          "2023-08-21",
          "2023-08-14",
          "2023-08-07",
          "2023-07-31",
          "2023-07-24",
          "2023-07-17",
          "2023-07-10",
          "2023-07-03",
          "2023-06-26",
          "2023-06-19",
          "2023-06-12",
          "2023-06-05",
          "2023-05-29",
          "2023-05-22",
          "2023-05-15",
          "2023-05-08",
          "2023-05-01",
          "2023-04-24",
          "2023-04-17",
          "2023-04-10",
          "2023-04-03",
          "2023-03-27",
          "2023-03-20",
          "2023-03-13",
          "2023-03-06",
          "2023-02-27",
          "2023-02-20",
          "2023-02-13",
          "2023-02-06",
          "2023-01-30",
          "2023-01-23",
          "2023-01-16",
          "2023-01-09",
          "2023-01-02",
          "2022-12-26",
          "2022-12-19",
          "2022-12-12",
          "2022-12-05",
          "2022-11-28",
          "2022-11-21",
          "2022-11-14",
          "2022-11-07",
          "2022-10-31",
          "2022-10-24",
          "2022-10-17",
          "2022-10-10",
          "2022-10-03",
          "2022-09-26",
          "2022-09-19",
          "2022-09-12",
          "2022-09-05"
         ],
         "y": [
          1038764,
          1044918,
          1013473,
          995607,
          973452,
          961885,
          942497,
          916236,
          887653,
          889925,
          876828,
          857651,
          830358,
          816176,
          806044,
          757758,
          717560,
          688862,
          678156,
          667181,
          634735,
          624433,
          680583,
          741114,
          778029,
          803276,
          828523,
          869694,
          886652,
          887830,
          892439,
          900094,
          906520,
          910793,
          902559,
          906933,
          907162,
          895997,
          871016,
          862236,
          831911,
          798671,
          771306,
          761055,
          773115,
          771293,
          774216,
          785386,
          822802,
          852987,
          864928,
          869602,
          871459,
          868710,
          852862,
          839309,
          816774,
          813524,
          802709,
          778558,
          769597,
          760548,
          748590,
          731703,
          710305,
          693517,
          679044,
          634498,
          588594,
          555931,
          530930,
          512823,
          476050,
          460849,
          492433,
          530830,
          550041,
          562830,
          574486,
          597339,
          601571,
          601988,
          598352,
          600662,
          594142,
          588445,
          578151,
          583000,
          575952,
          565995,
          547444
         ]
        }
       ],
       "layout": {
        "font": {
         "color": "#FFFFFF"
        },
        "height": 900,
        "hoverlabel": {
         "bgcolor": "#1F1F1F",
         "font": {
          "family": "Rockwell",
          "size": 14
         }
        },
        "hovermode": "x unified",
        "images": [
         {
          "sizex": 0.15,
          "sizey": 0.15,
          "source": "https://parcllabs-assets.s3.amazonaws.com/powered-by-parcllabs-api-logo-white+(1).svg",
          "x": 0.475,
          "xanchor": "center",
          "xref": "paper",
          "y": 1.04,
          "yanchor": "bottom",
          "yref": "paper"
         }
        ],
        "margin": {
         "b": 0,
         "l": 0,
         "r": 0,
         "t": 110
        },
        "paper_bgcolor": "#000000",
        "plot_bgcolor": "#000000",
        "template": {
         "data": {
          "bar": [
           {
            "error_x": {
             "color": "#2a3f5f"
            },
            "error_y": {
             "color": "#2a3f5f"
            },
            "marker": {
             "line": {
              "color": "#E5ECF6",
              "width": 0.5
             },
             "pattern": {
              "fillmode": "overlay",
              "size": 10,
              "solidity": 0.2
             }
            },
            "type": "bar"
           }
          ],
          "barpolar": [
           {
            "marker": {
             "line": {
              "color": "#E5ECF6",
              "width": 0.5
             },
             "pattern": {
              "fillmode": "overlay",
              "size": 10,
              "solidity": 0.2
             }
            },
            "type": "barpolar"
           }
          ],
          "carpet": [
           {
            "aaxis": {
             "endlinecolor": "#2a3f5f",
             "gridcolor": "white",
             "linecolor": "white",
             "minorgridcolor": "white",
             "startlinecolor": "#2a3f5f"
            },
            "baxis": {
             "endlinecolor": "#2a3f5f",
             "gridcolor": "white",
             "linecolor": "white",
             "minorgridcolor": "white",
             "startlinecolor": "#2a3f5f"
            },
            "type": "carpet"
           }
          ],
          "choropleth": [
           {
            "colorbar": {
             "outlinewidth": 0,
             "ticks": ""
            },
            "type": "choropleth"
           }
          ],
          "contour": [
           {
            "colorbar": {
             "outlinewidth": 0,
             "ticks": ""
            },
            "colorscale": [
             [
              0,
              "#0d0887"
             ],
             [
              0.1111111111111111,
              "#46039f"
             ],
             [
              0.2222222222222222,
              "#7201a8"
             ],
             [
              0.3333333333333333,
              "#9c179e"
             ],
             [
              0.4444444444444444,
              "#bd3786"
             ],
             [
              0.5555555555555556,
              "#d8576b"
             ],
             [
              0.6666666666666666,
              "#ed7953"
             ],
             [
              0.7777777777777778,
              "#fb9f3a"
             ],
             [
              0.8888888888888888,
              "#fdca26"
             ],
             [
              1,
              "#f0f921"
             ]
            ],
            "type": "contour"
           }
          ],
          "contourcarpet": [
           {
            "colorbar": {
             "outlinewidth": 0,
             "ticks": ""
            },
            "type": "contourcarpet"
           }
          ],
          "heatmap": [
           {
            "colorbar": {
             "outlinewidth": 0,
             "ticks": ""
            },
            "colorscale": [
             [
              0,
              "#0d0887"
             ],
             [
              0.1111111111111111,
              "#46039f"
             ],
             [
              0.2222222222222222,
              "#7201a8"
             ],
             [
              0.3333333333333333,
              "#9c179e"
             ],
             [
              0.4444444444444444,
              "#bd3786"
             ],
             [
              0.5555555555555556,
              "#d8576b"
             ],
             [
              0.6666666666666666,
              "#ed7953"
             ],
             [
              0.7777777777777778,
              "#fb9f3a"
             ],
             [
              0.8888888888888888,
              "#fdca26"
             ],
             [
              1,
              "#f0f921"
             ]
            ],
            "type": "heatmap"
           }
          ],
          "heatmapgl": [
           {
            "colorbar": {
             "outlinewidth": 0,
             "ticks": ""
            },
            "colorscale": [
             [
              0,
              "#0d0887"
             ],
             [
              0.1111111111111111,
              "#46039f"
             ],
             [
              0.2222222222222222,
              "#7201a8"
             ],
             [
              0.3333333333333333,
              "#9c179e"
             ],
             [
              0.4444444444444444,
              "#bd3786"
             ],
             [
              0.5555555555555556,
              "#d8576b"
             ],
             [
              0.6666666666666666,
              "#ed7953"
             ],
             [
              0.7777777777777778,
              "#fb9f3a"
             ],
             [
              0.8888888888888888,
              "#fdca26"
             ],
             [
              1,
              "#f0f921"
             ]
            ],
            "type": "heatmapgl"
           }
          ],
          "histogram": [
           {
            "marker": {
             "pattern": {
              "fillmode": "overlay",
              "size": 10,
              "solidity": 0.2
             }
            },
            "type": "histogram"
           }
          ],
          "histogram2d": [
           {
            "colorbar": {
             "outlinewidth": 0,
             "ticks": ""
            },
            "colorscale": [
             [
              0,
              "#0d0887"
             ],
             [
              0.1111111111111111,
              "#46039f"
             ],
             [
              0.2222222222222222,
              "#7201a8"
             ],
             [
              0.3333333333333333,
              "#9c179e"
             ],
             [
              0.4444444444444444,
              "#bd3786"
             ],
             [
              0.5555555555555556,
              "#d8576b"
             ],
             [
              0.6666666666666666,
              "#ed7953"
             ],
             [
              0.7777777777777778,
              "#fb9f3a"
             ],
             [
              0.8888888888888888,
              "#fdca26"
             ],
             [
              1,
              "#f0f921"
             ]
            ],
            "type": "histogram2d"
           }
          ],
          "histogram2dcontour": [
           {
            "colorbar": {
             "outlinewidth": 0,
             "ticks": ""
            },
            "colorscale": [
             [
              0,
              "#0d0887"
             ],
             [
              0.1111111111111111,
              "#46039f"
             ],
             [
              0.2222222222222222,
              "#7201a8"
             ],
             [
              0.3333333333333333,
              "#9c179e"
             ],
             [
              0.4444444444444444,
              "#bd3786"
             ],
             [
              0.5555555555555556,
              "#d8576b"
             ],
             [
              0.6666666666666666,
              "#ed7953"
             ],
             [
              0.7777777777777778,
              "#fb9f3a"
             ],
             [
              0.8888888888888888,
              "#fdca26"
             ],
             [
              1,
              "#f0f921"
             ]
            ],
            "type": "histogram2dcontour"
           }
          ],
          "mesh3d": [
           {
            "colorbar": {
             "outlinewidth": 0,
             "ticks": ""
            },
            "type": "mesh3d"
           }
          ],
          "parcoords": [
           {
            "line": {
             "colorbar": {
              "outlinewidth": 0,
              "ticks": ""
             }
            },
            "type": "parcoords"
           }
          ],
          "pie": [
           {
            "automargin": true,
            "type": "pie"
           }
          ],
          "scatter": [
           {
            "fillpattern": {
             "fillmode": "overlay",
             "size": 10,
             "solidity": 0.2
            },
            "type": "scatter"
           }
          ],
          "scatter3d": [
           {
            "line": {
             "colorbar": {
              "outlinewidth": 0,
              "ticks": ""
             }
            },
            "marker": {
             "colorbar": {
              "outlinewidth": 0,
              "ticks": ""
             }
            },
            "type": "scatter3d"
           }
          ],
          "scattercarpet": [
           {
            "marker": {
             "colorbar": {
              "outlinewidth": 0,
              "ticks": ""
             }
            },
            "type": "scattercarpet"
           }
          ],
          "scattergeo": [
           {
            "marker": {
             "colorbar": {
              "outlinewidth": 0,
              "ticks": ""
             }
            },
            "type": "scattergeo"
           }
          ],
          "scattergl": [
           {
            "marker": {
             "colorbar": {
              "outlinewidth": 0,
              "ticks": ""
             }
            },
            "type": "scattergl"
           }
          ],
          "scattermapbox": [
           {
            "marker": {
             "colorbar": {
              "outlinewidth": 0,
              "ticks": ""
             }
            },
            "type": "scattermapbox"
           }
          ],
          "scatterpolar": [
           {
            "marker": {
             "colorbar": {
              "outlinewidth": 0,
              "ticks": ""
             }
            },
            "type": "scatterpolar"
           }
          ],
          "scatterpolargl": [
           {
            "marker": {
             "colorbar": {
              "outlinewidth": 0,
              "ticks": ""
             }
            },
            "type": "scatterpolargl"
           }
          ],
          "scatterternary": [
           {
            "marker": {
             "colorbar": {
              "outlinewidth": 0,
              "ticks": ""
             }
            },
            "type": "scatterternary"
           }
          ],
          "surface": [
           {
            "colorbar": {
             "outlinewidth": 0,
             "ticks": ""
            },
            "colorscale": [
             [
              0,
              "#0d0887"
             ],
             [
              0.1111111111111111,
              "#46039f"
             ],
             [
              0.2222222222222222,
              "#7201a8"
             ],
             [
              0.3333333333333333,
              "#9c179e"
             ],
             [
              0.4444444444444444,
              "#bd3786"
             ],
             [
              0.5555555555555556,
              "#d8576b"
             ],
             [
              0.6666666666666666,
              "#ed7953"
             ],
             [
              0.7777777777777778,
              "#fb9f3a"
             ],
             [
              0.8888888888888888,
              "#fdca26"
             ],
             [
              1,
              "#f0f921"
             ]
            ],
            "type": "surface"
           }
          ],
          "table": [
           {
            "cells": {
             "fill": {
              "color": "#EBF0F8"
             },
             "line": {
              "color": "white"
             }
            },
            "header": {
             "fill": {
              "color": "#C8D4E3"
             },
             "line": {
              "color": "white"
             }
            },
            "type": "table"
           }
          ]
         },
         "layout": {
          "annotationdefaults": {
           "arrowcolor": "#2a3f5f",
           "arrowhead": 0,
           "arrowwidth": 1
          },
          "autotypenumbers": "strict",
          "coloraxis": {
           "colorbar": {
            "outlinewidth": 0,
            "ticks": ""
           }
          },
          "colorscale": {
           "diverging": [
            [
             0,
             "#8e0152"
            ],
            [
             0.1,
             "#c51b7d"
            ],
            [
             0.2,
             "#de77ae"
            ],
            [
             0.3,
             "#f1b6da"
            ],
            [
             0.4,
             "#fde0ef"
            ],
            [
             0.5,
             "#f7f7f7"
            ],
            [
             0.6,
             "#e6f5d0"
            ],
            [
             0.7,
             "#b8e186"
            ],
            [
             0.8,
             "#7fbc41"
            ],
            [
             0.9,
             "#4d9221"
            ],
            [
             1,
             "#276419"
            ]
           ],
           "sequential": [
            [
             0,
             "#0d0887"
            ],
            [
             0.1111111111111111,
             "#46039f"
            ],
            [
             0.2222222222222222,
             "#7201a8"
            ],
            [
             0.3333333333333333,
             "#9c179e"
            ],
            [
             0.4444444444444444,
             "#bd3786"
            ],
            [
             0.5555555555555556,
             "#d8576b"
            ],
            [
             0.6666666666666666,
             "#ed7953"
            ],
            [
             0.7777777777777778,
             "#fb9f3a"
            ],
            [
             0.8888888888888888,
             "#fdca26"
            ],
            [
             1,
             "#f0f921"
            ]
           ],
           "sequentialminus": [
            [
             0,
             "#0d0887"
            ],
            [
             0.1111111111111111,
             "#46039f"
            ],
            [
             0.2222222222222222,
             "#7201a8"
            ],
            [
             0.3333333333333333,
             "#9c179e"
            ],
            [
             0.4444444444444444,
             "#bd3786"
            ],
            [
             0.5555555555555556,
             "#d8576b"
            ],
            [
             0.6666666666666666,
             "#ed7953"
            ],
            [
             0.7777777777777778,
             "#fb9f3a"
            ],
            [
             0.8888888888888888,
             "#fdca26"
            ],
            [
             1,
             "#f0f921"
            ]
           ]
          },
          "colorway": [
           "#636efa",
           "#EF553B",
           "#00cc96",
           "#ab63fa",
           "#FFA15A",
           "#19d3f3",
           "#FF6692",
           "#B6E880",
           "#FF97FF",
           "#FECB52"
          ],
          "font": {
           "color": "#2a3f5f"
          },
          "geo": {
           "bgcolor": "white",
           "lakecolor": "white",
           "landcolor": "#E5ECF6",
           "showlakes": true,
           "showland": true,
           "subunitcolor": "white"
          },
          "hoverlabel": {
           "align": "left"
          },
          "hovermode": "closest",
          "mapbox": {
           "style": "light"
          },
          "paper_bgcolor": "white",
          "plot_bgcolor": "#E5ECF6",
          "polar": {
           "angularaxis": {
            "gridcolor": "white",
            "linecolor": "white",
            "ticks": ""
           },
           "bgcolor": "#E5ECF6",
           "radialaxis": {
            "gridcolor": "white",
            "linecolor": "white",
            "ticks": ""
           }
          },
          "scene": {
           "xaxis": {
            "backgroundcolor": "#E5ECF6",
            "gridcolor": "white",
            "gridwidth": 2,
            "linecolor": "white",
            "showbackground": true,
            "ticks": "",
            "zerolinecolor": "white"
           },
           "yaxis": {
            "backgroundcolor": "#E5ECF6",
            "gridcolor": "white",
            "gridwidth": 2,
            "linecolor": "white",
            "showbackground": true,
            "ticks": "",
            "zerolinecolor": "white"
           },
           "zaxis": {
            "backgroundcolor": "#E5ECF6",
            "gridcolor": "white",
            "gridwidth": 2,
            "linecolor": "white",
            "showbackground": true,
            "ticks": "",
            "zerolinecolor": "white"
           }
          },
          "shapedefaults": {
           "line": {
            "color": "#2a3f5f"
           }
          },
          "ternary": {
           "aaxis": {
            "gridcolor": "white",
            "linecolor": "white",
            "ticks": ""
           },
           "baxis": {
            "gridcolor": "white",
            "linecolor": "white",
            "ticks": ""
           },
           "bgcolor": "#E5ECF6",
           "caxis": {
            "gridcolor": "white",
            "linecolor": "white",
            "ticks": ""
           }
          },
          "title": {
           "x": 0.05
          },
          "xaxis": {
           "automargin": true,
           "gridcolor": "white",
           "linecolor": "white",
           "ticks": "",
           "title": {
            "standoff": 15
           },
           "zerolinecolor": "white",
           "zerolinewidth": 2
          },
          "yaxis": {
           "automargin": true,
           "gridcolor": "white",
           "linecolor": "white",
           "ticks": "",
           "title": {
            "standoff": 15
           },
           "zerolinecolor": "white",
           "zerolinewidth": 2
          }
         }
        },
        "title": {
         "font": {
          "color": "#FFFFFF",
          "size": 28
         },
         "text": "USA Total Housing Inventory",
         "x": 0.5,
         "xanchor": "center",
         "y": 0.99,
         "yanchor": "top"
        },
        "width": 1600,
        "xaxis": {
         "linecolor": "rgba(255, 255, 255, 0.7)",
         "linewidth": 1,
         "showgrid": false,
         "tickangle": -45,
         "tickfont": {
          "size": 14
         }
        },
        "yaxis": {
         "gridcolor": "rgba(255, 255, 255, 0.2)",
         "gridwidth": 0.5,
         "linecolor": "rgba(255, 255, 255, 0.7)",
         "linewidth": 1,
         "showgrid": true,
         "tickfont": {
          "size": 14
         },
         "tickprefix": "",
         "title": {
          "text": "Total Inventory"
         },
         "zeroline": false
        }
       }
      }
     },
     "metadata": {},
     "output_type": "display_data"
    }
   ],
   "source": [
    "build_line_chart(\n",
    "    data=for_sale_inventory,\n",
    "    title='USA Total Housing Inventory',\n",
    "    y_axis_title='Total Inventory',\n",
    "    value_name='for_sale_inventory',\n",
    "    save_path='total_inventory.png'\n",
    ")"
   ]
  },
  {
   "cell_type": "code",
   "execution_count": null,
   "metadata": {},
   "outputs": [],
   "source": [
    "root = f'../../graphics/{pf_type}'\n",
    "    # timestamp\n",
    "    timestamp = datetime.now().strftime('%Y-%m-%d')\n",
    "    # join the path\n",
    "    path = os.path.join(root, timestamp)\n",
    "    if not os.path.exists(path):\n",
    "        os.makedirs(path)"
   ]
  }
 ],
 "metadata": {
  "kernelspec": {
   "display_name": "parcllabs-env",
   "language": "python",
   "name": "python3"
  },
  "language_info": {
   "codemirror_mode": {
    "name": "ipython",
    "version": 3
   },
   "file_extension": ".py",
   "mimetype": "text/x-python",
   "name": "python",
   "nbconvert_exporter": "python",
   "pygments_lexer": "ipython3",
   "version": "3.11.9"
  }
 },
 "nbformat": 4,
 "nbformat_minor": 2
}
