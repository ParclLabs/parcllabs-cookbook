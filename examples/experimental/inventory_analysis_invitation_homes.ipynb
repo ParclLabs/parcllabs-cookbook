{
 "cells": [
  {
   "cell_type": "markdown",
   "id": "02467986",
   "metadata": {},
   "source": [
    "<center>\n",
    "<h1>Welcome to the Lab 🥼🧪</h1>\n",
    "</center>\n",
    "\n",
    "### How can I analyze dispostions by SFR operators and how profitable those sales were\n",
    "\n",
    "In this notebook, we will be examining homes solf by Invitation Homes in the Houston MSA market for the last 12 months (as of July 22 2025). We will use the Parcl Labs API to get the event history for the properties of interest.\n",
    "\n",
    "#### Need help getting started?\n",
    "\n",
    "As a reminder, you can get your Parcl Labs API key [here](https://app.parcllabs.com/) to follow along.\n",
    "\n",
    "To run this immediately, you can use Google Colab.\n",
    "\n",
    "Run in collab --> [![Open in Colab](https://colab.research.google.com/assets/colab-badge.svg)](https://colab.research.google.com/github/ParclLabs/parcllabs-cookbook/blob/main/examples/experimental/inventory_analysis_invitation_homes.ipynb)"
   ]
  },
  {
   "cell_type": "code",
   "execution_count": 20,
   "id": "2d616b74",
   "metadata": {},
   "outputs": [
    {
     "name": "stdout",
     "output_type": "stream",
     "text": [
      "Requirement already satisfied: parcllabs in /opt/anaconda3/envs/parcllabs-env/lib/python3.11/site-packages (1.14.4)\n",
      "Requirement already satisfied: numpy in /opt/anaconda3/envs/parcllabs-env/lib/python3.11/site-packages (from parcllabs) (1.26.4)\n",
      "Requirement already satisfied: pandas in /opt/anaconda3/envs/parcllabs-env/lib/python3.11/site-packages (from parcllabs) (2.2.2)\n",
      "Requirement already satisfied: pydantic>=2.0.0 in /opt/anaconda3/envs/parcllabs-env/lib/python3.11/site-packages (from parcllabs) (2.11.7)\n",
      "Requirement already satisfied: requests in /opt/anaconda3/envs/parcllabs-env/lib/python3.11/site-packages (from parcllabs) (2.31.0)\n",
      "Requirement already satisfied: annotated-types>=0.6.0 in /opt/anaconda3/envs/parcllabs-env/lib/python3.11/site-packages (from pydantic>=2.0.0->parcllabs) (0.7.0)\n",
      "Requirement already satisfied: pydantic-core==2.33.2 in /opt/anaconda3/envs/parcllabs-env/lib/python3.11/site-packages (from pydantic>=2.0.0->parcllabs) (2.33.2)\n",
      "Requirement already satisfied: typing-extensions>=4.12.2 in /opt/anaconda3/envs/parcllabs-env/lib/python3.11/site-packages (from pydantic>=2.0.0->parcllabs) (4.14.0)\n",
      "Requirement already satisfied: typing-inspection>=0.4.0 in /opt/anaconda3/envs/parcllabs-env/lib/python3.11/site-packages (from pydantic>=2.0.0->parcllabs) (0.4.1)\n",
      "Requirement already satisfied: python-dateutil>=2.8.2 in /opt/anaconda3/envs/parcllabs-env/lib/python3.11/site-packages (from pandas->parcllabs) (2.9.0)\n",
      "Requirement already satisfied: pytz>=2020.1 in /opt/anaconda3/envs/parcllabs-env/lib/python3.11/site-packages (from pandas->parcllabs) (2024.1)\n",
      "Requirement already satisfied: tzdata>=2022.7 in /opt/anaconda3/envs/parcllabs-env/lib/python3.11/site-packages (from pandas->parcllabs) (2024.1)\n",
      "Requirement already satisfied: charset-normalizer<4,>=2 in /opt/anaconda3/envs/parcllabs-env/lib/python3.11/site-packages (from requests->parcllabs) (3.3.2)\n",
      "Requirement already satisfied: idna<4,>=2.5 in /opt/anaconda3/envs/parcllabs-env/lib/python3.11/site-packages (from requests->parcllabs) (3.7)\n",
      "Requirement already satisfied: urllib3<3,>=1.21.1 in /opt/anaconda3/envs/parcllabs-env/lib/python3.11/site-packages (from requests->parcllabs) (2.2.1)\n",
      "Requirement already satisfied: certifi>=2017.4.17 in /opt/anaconda3/envs/parcllabs-env/lib/python3.11/site-packages (from requests->parcllabs) (2024.2.2)\n",
      "Requirement already satisfied: six>=1.5 in /opt/anaconda3/envs/parcllabs-env/lib/python3.11/site-packages (from python-dateutil>=2.8.2->pandas->parcllabs) (1.16.0)\n",
      "Note: you may need to restart the kernel to use updated packages.\n"
     ]
    }
   ],
   "source": [
    "# install most recent version of parcllabs\n",
    "%pip install --upgrade parcllabs"
   ]
  },
  {
   "cell_type": "code",
   "execution_count": 22,
   "id": "287a72a4",
   "metadata": {},
   "outputs": [],
   "source": [
    "# import the libraries for the analysis\n",
    "import os\n",
    "import pandas as pd\n",
    "import numpy as np\n",
    "from parcllabs import ParclLabsClient\n",
    "\n",
    "\n",
    "# Create a ParclLabsClient instance\n",
    "client = ParclLabsClient(\n",
    "    api_key=os.environ.get('PARCL_LABS_API_KEY', \"<your Parcl Labs API key if not set as environment variable>\"), \n",
    "    limit=1000, \n",
    ")"
   ]
  },
  {
   "cell_type": "code",
   "execution_count": 23,
   "id": "57c6bfef",
   "metadata": {},
   "outputs": [
    {
     "data": {
      "text/html": [
       "<div>\n",
       "<style scoped>\n",
       "    .dataframe tbody tr th:only-of-type {\n",
       "        vertical-align: middle;\n",
       "    }\n",
       "\n",
       "    .dataframe tbody tr th {\n",
       "        vertical-align: top;\n",
       "    }\n",
       "\n",
       "    .dataframe thead th {\n",
       "        text-align: right;\n",
       "    }\n",
       "</style>\n",
       "<table border=\"1\" class=\"dataframe\">\n",
       "  <thead>\n",
       "    <tr style=\"text-align: right;\">\n",
       "      <th></th>\n",
       "      <th>parcl_id</th>\n",
       "      <th>country</th>\n",
       "      <th>geoid</th>\n",
       "      <th>state_fips_code</th>\n",
       "      <th>name</th>\n",
       "      <th>state_abbreviation</th>\n",
       "      <th>region</th>\n",
       "      <th>location_type</th>\n",
       "      <th>total_population</th>\n",
       "      <th>median_income</th>\n",
       "      <th>parcl_exchange_market</th>\n",
       "      <th>pricefeed_market</th>\n",
       "      <th>case_shiller_10_market</th>\n",
       "      <th>case_shiller_20_market</th>\n",
       "    </tr>\n",
       "  </thead>\n",
       "  <tbody>\n",
       "    <tr>\n",
       "      <th>0</th>\n",
       "      <td>2899967</td>\n",
       "      <td>USA</td>\n",
       "      <td>26420</td>\n",
       "      <td>48</td>\n",
       "      <td>Houston-The Woodlands-Sugar Land, Tx</td>\n",
       "      <td>TX</td>\n",
       "      <td>WEST_SOUTH_CENTRAL</td>\n",
       "      <td>CBSA</td>\n",
       "      <td>7142603</td>\n",
       "      <td>78061</td>\n",
       "      <td>0</td>\n",
       "      <td>1</td>\n",
       "      <td>0</td>\n",
       "      <td>0</td>\n",
       "    </tr>\n",
       "  </tbody>\n",
       "</table>\n",
       "</div>"
      ],
      "text/plain": [
       "   parcl_id country  geoid state_fips_code  \\\n",
       "0   2899967     USA  26420              48   \n",
       "\n",
       "                                   name state_abbreviation  \\\n",
       "0  Houston-The Woodlands-Sugar Land, Tx                 TX   \n",
       "\n",
       "               region location_type  total_population  median_income  \\\n",
       "0  WEST_SOUTH_CENTRAL          CBSA           7142603          78061   \n",
       "\n",
       "   parcl_exchange_market  pricefeed_market  case_shiller_10_market  \\\n",
       "0                      0                 1                       0   \n",
       "\n",
       "   case_shiller_20_market  \n",
       "0                       0  "
      ]
     },
     "execution_count": 23,
     "metadata": {},
     "output_type": "execute_result"
    }
   ],
   "source": [
    "# search for Houston market\n",
    "markets = client.search.markets.retrieve(\n",
    "    query = 'Houston',\n",
    "    location_type = 'CBSA',\n",
    "    sort_by='TOTAL_POPULATION',  # Sort by total population\n",
    "    sort_order='DESC',           # In descending order\n",
    "    limit=10                    # Limit results to top 100 metros\n",
    ")\n",
    "markets"
   ]
  },
  {
   "cell_type": "code",
   "execution_count": 24,
   "id": "244f368a",
   "metadata": {},
   "outputs": [
    {
     "name": "stdout",
     "output_type": "stream",
     "text": [
      "Houston market parcl id:  2899967\n"
     ]
    }
   ],
   "source": [
    "# save the parcl id of the houston market, in this case it is the first market \n",
    "# in the list with index 0\n",
    "market_for_analysis_id = markets.iloc[0]['parcl_id']\n",
    "print('Houston market parcl id: ', market_for_analysis_id)"
   ]
  },
  {
   "cell_type": "code",
   "execution_count": 25,
   "id": "4d7ccf03",
   "metadata": {},
   "outputs": [],
   "source": [
    "# set the data frame to show all columns\n",
    "pd.set_option('display.max_columns', None)"
   ]
  },
  {
   "cell_type": "code",
   "execution_count": 26,
   "id": "f142aaf6",
   "metadata": {},
   "outputs": [
    {
     "name": "stdout",
     "output_type": "stream",
     "text": [
      "Processing property search request...\n",
      "We found 85 properties that were listed for sale in the last 12 months\n",
      "total number of rows: 296\n"
     ]
    },
    {
     "data": {
      "text/html": [
       "<div>\n",
       "<style scoped>\n",
       "    .dataframe tbody tr th:only-of-type {\n",
       "        vertical-align: middle;\n",
       "    }\n",
       "\n",
       "    .dataframe tbody tr th {\n",
       "        vertical-align: top;\n",
       "    }\n",
       "\n",
       "    .dataframe thead th {\n",
       "        text-align: right;\n",
       "    }\n",
       "</style>\n",
       "<table border=\"1\" class=\"dataframe\">\n",
       "  <thead>\n",
       "    <tr style=\"text-align: right;\">\n",
       "      <th></th>\n",
       "      <th>parcl_property_id</th>\n",
       "      <th>property_metadata_bathrooms</th>\n",
       "      <th>property_metadata_bedrooms</th>\n",
       "      <th>property_metadata_sq_ft</th>\n",
       "      <th>property_metadata_year_built</th>\n",
       "      <th>property_metadata_property_type</th>\n",
       "      <th>property_metadata_address1</th>\n",
       "      <th>property_metadata_address2</th>\n",
       "      <th>property_metadata_city</th>\n",
       "      <th>property_metadata_state</th>\n",
       "      <th>property_metadata_latitude</th>\n",
       "      <th>property_metadata_longitude</th>\n",
       "      <th>property_metadata_city_name</th>\n",
       "      <th>property_metadata_county_name</th>\n",
       "      <th>property_metadata_metro_name</th>\n",
       "      <th>property_metadata_record_added_date</th>\n",
       "      <th>property_metadata_current_on_market_flag</th>\n",
       "      <th>property_metadata_current_on_market_rental_flag</th>\n",
       "      <th>event_event_type</th>\n",
       "      <th>event_event_name</th>\n",
       "      <th>event_event_date</th>\n",
       "      <th>event_entity_owner_name</th>\n",
       "      <th>event_true_sale_index</th>\n",
       "      <th>event_price</th>\n",
       "      <th>event_transfer_index</th>\n",
       "      <th>event_investor_flag</th>\n",
       "      <th>event_owner_occupied_flag</th>\n",
       "      <th>event_new_construction_flag</th>\n",
       "      <th>event_current_owner_flag</th>\n",
       "      <th>event_record_updated_date</th>\n",
       "    </tr>\n",
       "  </thead>\n",
       "  <tbody>\n",
       "    <tr>\n",
       "      <th>0</th>\n",
       "      <td>66650970</td>\n",
       "      <td>2.0</td>\n",
       "      <td>3</td>\n",
       "      <td>1750</td>\n",
       "      <td>1995.0</td>\n",
       "      <td>SINGLE_FAMILY</td>\n",
       "      <td>4558 BUCKLERIDGE RD</td>\n",
       "      <td>None</td>\n",
       "      <td>HOUSTON</td>\n",
       "      <td>TX</td>\n",
       "      <td>29.58446</td>\n",
       "      <td>-95.45311</td>\n",
       "      <td>Houston City</td>\n",
       "      <td>Fort Bend County</td>\n",
       "      <td>None</td>\n",
       "      <td>2024-12-13</td>\n",
       "      <td>1</td>\n",
       "      <td>0.0</td>\n",
       "      <td>LISTING</td>\n",
       "      <td>PRICE_CHANGE</td>\n",
       "      <td>2025-06-25</td>\n",
       "      <td>INVITATION_HOMES</td>\n",
       "      <td>7</td>\n",
       "      <td>150000.0</td>\n",
       "      <td>8</td>\n",
       "      <td>1</td>\n",
       "      <td>0</td>\n",
       "      <td>0</td>\n",
       "      <td>1</td>\n",
       "      <td>2025-07-23</td>\n",
       "    </tr>\n",
       "    <tr>\n",
       "      <th>1</th>\n",
       "      <td>66650970</td>\n",
       "      <td>2.0</td>\n",
       "      <td>3</td>\n",
       "      <td>1750</td>\n",
       "      <td>1995.0</td>\n",
       "      <td>SINGLE_FAMILY</td>\n",
       "      <td>4558 BUCKLERIDGE RD</td>\n",
       "      <td>None</td>\n",
       "      <td>HOUSTON</td>\n",
       "      <td>TX</td>\n",
       "      <td>29.58446</td>\n",
       "      <td>-95.45311</td>\n",
       "      <td>Houston City</td>\n",
       "      <td>Fort Bend County</td>\n",
       "      <td>None</td>\n",
       "      <td>2024-12-13</td>\n",
       "      <td>1</td>\n",
       "      <td>0.0</td>\n",
       "      <td>LISTING</td>\n",
       "      <td>LISTED_SALE</td>\n",
       "      <td>2025-06-25</td>\n",
       "      <td>INVITATION_HOMES</td>\n",
       "      <td>7</td>\n",
       "      <td>150000.0</td>\n",
       "      <td>8</td>\n",
       "      <td>1</td>\n",
       "      <td>0</td>\n",
       "      <td>0</td>\n",
       "      <td>1</td>\n",
       "      <td>2025-07-23</td>\n",
       "    </tr>\n",
       "    <tr>\n",
       "      <th>2</th>\n",
       "      <td>66650970</td>\n",
       "      <td>2.0</td>\n",
       "      <td>3</td>\n",
       "      <td>1750</td>\n",
       "      <td>1995.0</td>\n",
       "      <td>SINGLE_FAMILY</td>\n",
       "      <td>4558 BUCKLERIDGE RD</td>\n",
       "      <td>None</td>\n",
       "      <td>HOUSTON</td>\n",
       "      <td>TX</td>\n",
       "      <td>29.58446</td>\n",
       "      <td>-95.45311</td>\n",
       "      <td>Houston City</td>\n",
       "      <td>Fort Bend County</td>\n",
       "      <td>None</td>\n",
       "      <td>2024-12-13</td>\n",
       "      <td>1</td>\n",
       "      <td>0.0</td>\n",
       "      <td>LISTING</td>\n",
       "      <td>LISTING_REMOVED</td>\n",
       "      <td>2025-06-14</td>\n",
       "      <td>INVITATION_HOMES</td>\n",
       "      <td>7</td>\n",
       "      <td>219000.0</td>\n",
       "      <td>8</td>\n",
       "      <td>1</td>\n",
       "      <td>0</td>\n",
       "      <td>0</td>\n",
       "      <td>1</td>\n",
       "      <td>2025-07-23</td>\n",
       "    </tr>\n",
       "    <tr>\n",
       "      <th>3</th>\n",
       "      <td>66650970</td>\n",
       "      <td>2.0</td>\n",
       "      <td>3</td>\n",
       "      <td>1750</td>\n",
       "      <td>1995.0</td>\n",
       "      <td>SINGLE_FAMILY</td>\n",
       "      <td>4558 BUCKLERIDGE RD</td>\n",
       "      <td>None</td>\n",
       "      <td>HOUSTON</td>\n",
       "      <td>TX</td>\n",
       "      <td>29.58446</td>\n",
       "      <td>-95.45311</td>\n",
       "      <td>Houston City</td>\n",
       "      <td>Fort Bend County</td>\n",
       "      <td>None</td>\n",
       "      <td>2024-12-13</td>\n",
       "      <td>1</td>\n",
       "      <td>0.0</td>\n",
       "      <td>LISTING</td>\n",
       "      <td>PRICE_CHANGE</td>\n",
       "      <td>2025-05-22</td>\n",
       "      <td>INVITATION_HOMES</td>\n",
       "      <td>7</td>\n",
       "      <td>219000.0</td>\n",
       "      <td>8</td>\n",
       "      <td>1</td>\n",
       "      <td>0</td>\n",
       "      <td>0</td>\n",
       "      <td>1</td>\n",
       "      <td>2025-07-23</td>\n",
       "    </tr>\n",
       "    <tr>\n",
       "      <th>4</th>\n",
       "      <td>66650970</td>\n",
       "      <td>2.0</td>\n",
       "      <td>3</td>\n",
       "      <td>1750</td>\n",
       "      <td>1995.0</td>\n",
       "      <td>SINGLE_FAMILY</td>\n",
       "      <td>4558 BUCKLERIDGE RD</td>\n",
       "      <td>None</td>\n",
       "      <td>HOUSTON</td>\n",
       "      <td>TX</td>\n",
       "      <td>29.58446</td>\n",
       "      <td>-95.45311</td>\n",
       "      <td>Houston City</td>\n",
       "      <td>Fort Bend County</td>\n",
       "      <td>None</td>\n",
       "      <td>2024-12-13</td>\n",
       "      <td>1</td>\n",
       "      <td>0.0</td>\n",
       "      <td>LISTING</td>\n",
       "      <td>LISTED_SALE</td>\n",
       "      <td>2024-12-18</td>\n",
       "      <td>INVITATION_HOMES</td>\n",
       "      <td>7</td>\n",
       "      <td>245000.0</td>\n",
       "      <td>8</td>\n",
       "      <td>1</td>\n",
       "      <td>0</td>\n",
       "      <td>0</td>\n",
       "      <td>1</td>\n",
       "      <td>2025-07-23</td>\n",
       "    </tr>\n",
       "  </tbody>\n",
       "</table>\n",
       "</div>"
      ],
      "text/plain": [
       "   parcl_property_id  property_metadata_bathrooms  property_metadata_bedrooms  \\\n",
       "0           66650970                          2.0                           3   \n",
       "1           66650970                          2.0                           3   \n",
       "2           66650970                          2.0                           3   \n",
       "3           66650970                          2.0                           3   \n",
       "4           66650970                          2.0                           3   \n",
       "\n",
       "   property_metadata_sq_ft  property_metadata_year_built  \\\n",
       "0                     1750                        1995.0   \n",
       "1                     1750                        1995.0   \n",
       "2                     1750                        1995.0   \n",
       "3                     1750                        1995.0   \n",
       "4                     1750                        1995.0   \n",
       "\n",
       "  property_metadata_property_type property_metadata_address1  \\\n",
       "0                   SINGLE_FAMILY        4558 BUCKLERIDGE RD   \n",
       "1                   SINGLE_FAMILY        4558 BUCKLERIDGE RD   \n",
       "2                   SINGLE_FAMILY        4558 BUCKLERIDGE RD   \n",
       "3                   SINGLE_FAMILY        4558 BUCKLERIDGE RD   \n",
       "4                   SINGLE_FAMILY        4558 BUCKLERIDGE RD   \n",
       "\n",
       "  property_metadata_address2 property_metadata_city property_metadata_state  \\\n",
       "0                       None                HOUSTON                      TX   \n",
       "1                       None                HOUSTON                      TX   \n",
       "2                       None                HOUSTON                      TX   \n",
       "3                       None                HOUSTON                      TX   \n",
       "4                       None                HOUSTON                      TX   \n",
       "\n",
       "   property_metadata_latitude  property_metadata_longitude  \\\n",
       "0                    29.58446                    -95.45311   \n",
       "1                    29.58446                    -95.45311   \n",
       "2                    29.58446                    -95.45311   \n",
       "3                    29.58446                    -95.45311   \n",
       "4                    29.58446                    -95.45311   \n",
       "\n",
       "  property_metadata_city_name property_metadata_county_name  \\\n",
       "0                Houston City              Fort Bend County   \n",
       "1                Houston City              Fort Bend County   \n",
       "2                Houston City              Fort Bend County   \n",
       "3                Houston City              Fort Bend County   \n",
       "4                Houston City              Fort Bend County   \n",
       "\n",
       "  property_metadata_metro_name property_metadata_record_added_date  \\\n",
       "0                         None                          2024-12-13   \n",
       "1                         None                          2024-12-13   \n",
       "2                         None                          2024-12-13   \n",
       "3                         None                          2024-12-13   \n",
       "4                         None                          2024-12-13   \n",
       "\n",
       "   property_metadata_current_on_market_flag  \\\n",
       "0                                         1   \n",
       "1                                         1   \n",
       "2                                         1   \n",
       "3                                         1   \n",
       "4                                         1   \n",
       "\n",
       "   property_metadata_current_on_market_rental_flag event_event_type  \\\n",
       "0                                              0.0          LISTING   \n",
       "1                                              0.0          LISTING   \n",
       "2                                              0.0          LISTING   \n",
       "3                                              0.0          LISTING   \n",
       "4                                              0.0          LISTING   \n",
       "\n",
       "  event_event_name event_event_date event_entity_owner_name  \\\n",
       "0     PRICE_CHANGE       2025-06-25        INVITATION_HOMES   \n",
       "1      LISTED_SALE       2025-06-25        INVITATION_HOMES   \n",
       "2  LISTING_REMOVED       2025-06-14        INVITATION_HOMES   \n",
       "3     PRICE_CHANGE       2025-05-22        INVITATION_HOMES   \n",
       "4      LISTED_SALE       2024-12-18        INVITATION_HOMES   \n",
       "\n",
       "   event_true_sale_index  event_price  event_transfer_index  \\\n",
       "0                      7     150000.0                     8   \n",
       "1                      7     150000.0                     8   \n",
       "2                      7     219000.0                     8   \n",
       "3                      7     219000.0                     8   \n",
       "4                      7     245000.0                     8   \n",
       "\n",
       "   event_investor_flag  event_owner_occupied_flag  \\\n",
       "0                    1                          0   \n",
       "1                    1                          0   \n",
       "2                    1                          0   \n",
       "3                    1                          0   \n",
       "4                    1                          0   \n",
       "\n",
       "   event_new_construction_flag  event_current_owner_flag  \\\n",
       "0                            0                         1   \n",
       "1                            0                         1   \n",
       "2                            0                         1   \n",
       "3                            0                         1   \n",
       "4                            0                         1   \n",
       "\n",
       "  event_record_updated_date  \n",
       "0                2025-07-23  \n",
       "1                2025-07-23  \n",
       "2                2025-07-23  \n",
       "3                2025-07-23  \n",
       "4                2025-07-23  "
      ]
     },
     "execution_count": 26,
     "metadata": {},
     "output_type": "execute_result"
    }
   ],
   "source": [
    "# now we will get the event history for the properties of interest using the same endpoint as before\n",
    "# this will allow us to get the average time in market\n",
    "df_properties_listed_last_12_months, metadata = client.property_v2.search.retrieve(\n",
    "    parcl_ids=[market_for_analysis_id],\n",
    "    event_names=['ALL_LISTINGS'], # search all listings events\n",
    "    max_event_date=\"2025-07-22\", # get the events for the last 12 months\n",
    "    min_event_date=\"2024-07-22\",\n",
    "    include_property_details=True, # include the property details in the response\n",
    "    owner_name=[\"INVITATION_HOMES\"], # only get the properties that are owned by Invitation Homes at the time of the event\n",
    "    limit = 10000 # set a high limit to get all the events\n",
    "    )\n",
    "all_properties_of_interest = df_properties_listed_last_12_months.parcl_property_id.unique().tolist()\n",
    "print(f'We found {len(all_properties_of_interest)} properties that were listed for sale in the last 12 months')\n",
    "print(f'total number of rows: {len(df_properties_listed_last_12_months)}')\n",
    "df_properties_listed_last_12_months.head()"
   ]
  },
  {
   "cell_type": "code",
   "execution_count": 27,
   "id": "9d586a85",
   "metadata": {},
   "outputs": [
    {
     "name": "stdout",
     "output_type": "stream",
     "text": [
      "Processing property search request...\n",
      "434\n"
     ]
    },
    {
     "data": {
      "text/html": [
       "<div>\n",
       "<style scoped>\n",
       "    .dataframe tbody tr th:only-of-type {\n",
       "        vertical-align: middle;\n",
       "    }\n",
       "\n",
       "    .dataframe tbody tr th {\n",
       "        vertical-align: top;\n",
       "    }\n",
       "\n",
       "    .dataframe thead th {\n",
       "        text-align: right;\n",
       "    }\n",
       "</style>\n",
       "<table border=\"1\" class=\"dataframe\">\n",
       "  <thead>\n",
       "    <tr style=\"text-align: right;\">\n",
       "      <th></th>\n",
       "      <th>parcl_property_id</th>\n",
       "      <th>property_metadata_bathrooms</th>\n",
       "      <th>property_metadata_bedrooms</th>\n",
       "      <th>property_metadata_sq_ft</th>\n",
       "      <th>property_metadata_year_built</th>\n",
       "      <th>property_metadata_property_type</th>\n",
       "      <th>property_metadata_address1</th>\n",
       "      <th>property_metadata_address2</th>\n",
       "      <th>property_metadata_city</th>\n",
       "      <th>property_metadata_state</th>\n",
       "      <th>property_metadata_latitude</th>\n",
       "      <th>property_metadata_longitude</th>\n",
       "      <th>property_metadata_city_name</th>\n",
       "      <th>property_metadata_county_name</th>\n",
       "      <th>property_metadata_metro_name</th>\n",
       "      <th>property_metadata_record_added_date</th>\n",
       "      <th>property_metadata_current_on_market_flag</th>\n",
       "      <th>property_metadata_current_on_market_rental_flag</th>\n",
       "      <th>event_event_type</th>\n",
       "      <th>event_event_name</th>\n",
       "      <th>event_event_date</th>\n",
       "      <th>event_entity_owner_name</th>\n",
       "      <th>event_true_sale_index</th>\n",
       "      <th>event_price</th>\n",
       "      <th>event_transfer_index</th>\n",
       "      <th>event_investor_flag</th>\n",
       "      <th>event_owner_occupied_flag</th>\n",
       "      <th>event_new_construction_flag</th>\n",
       "      <th>event_current_owner_flag</th>\n",
       "      <th>event_record_updated_date</th>\n",
       "    </tr>\n",
       "  </thead>\n",
       "  <tbody>\n",
       "    <tr>\n",
       "      <th>0</th>\n",
       "      <td>66650970</td>\n",
       "      <td>2.0</td>\n",
       "      <td>3</td>\n",
       "      <td>1750</td>\n",
       "      <td>1995.0</td>\n",
       "      <td>SINGLE_FAMILY</td>\n",
       "      <td>4558 BUCKLERIDGE RD</td>\n",
       "      <td>None</td>\n",
       "      <td>HOUSTON</td>\n",
       "      <td>TX</td>\n",
       "      <td>29.58446</td>\n",
       "      <td>-95.45311</td>\n",
       "      <td>Houston City</td>\n",
       "      <td>Fort Bend County</td>\n",
       "      <td>None</td>\n",
       "      <td>2024-12-13</td>\n",
       "      <td>1</td>\n",
       "      <td>0.0</td>\n",
       "      <td>LISTING</td>\n",
       "      <td>PRICE_CHANGE</td>\n",
       "      <td>2025-06-25</td>\n",
       "      <td>INVITATION_HOMES</td>\n",
       "      <td>7</td>\n",
       "      <td>150000.0</td>\n",
       "      <td>8</td>\n",
       "      <td>1.0</td>\n",
       "      <td>0.0</td>\n",
       "      <td>0</td>\n",
       "      <td>1</td>\n",
       "      <td>2025-07-23</td>\n",
       "    </tr>\n",
       "    <tr>\n",
       "      <th>1</th>\n",
       "      <td>66650970</td>\n",
       "      <td>2.0</td>\n",
       "      <td>3</td>\n",
       "      <td>1750</td>\n",
       "      <td>1995.0</td>\n",
       "      <td>SINGLE_FAMILY</td>\n",
       "      <td>4558 BUCKLERIDGE RD</td>\n",
       "      <td>None</td>\n",
       "      <td>HOUSTON</td>\n",
       "      <td>TX</td>\n",
       "      <td>29.58446</td>\n",
       "      <td>-95.45311</td>\n",
       "      <td>Houston City</td>\n",
       "      <td>Fort Bend County</td>\n",
       "      <td>None</td>\n",
       "      <td>2024-12-13</td>\n",
       "      <td>1</td>\n",
       "      <td>0.0</td>\n",
       "      <td>LISTING</td>\n",
       "      <td>LISTED_SALE</td>\n",
       "      <td>2025-06-25</td>\n",
       "      <td>INVITATION_HOMES</td>\n",
       "      <td>7</td>\n",
       "      <td>150000.0</td>\n",
       "      <td>8</td>\n",
       "      <td>1.0</td>\n",
       "      <td>0.0</td>\n",
       "      <td>0</td>\n",
       "      <td>1</td>\n",
       "      <td>2025-07-23</td>\n",
       "    </tr>\n",
       "    <tr>\n",
       "      <th>2</th>\n",
       "      <td>66650970</td>\n",
       "      <td>2.0</td>\n",
       "      <td>3</td>\n",
       "      <td>1750</td>\n",
       "      <td>1995.0</td>\n",
       "      <td>SINGLE_FAMILY</td>\n",
       "      <td>4558 BUCKLERIDGE RD</td>\n",
       "      <td>None</td>\n",
       "      <td>HOUSTON</td>\n",
       "      <td>TX</td>\n",
       "      <td>29.58446</td>\n",
       "      <td>-95.45311</td>\n",
       "      <td>Houston City</td>\n",
       "      <td>Fort Bend County</td>\n",
       "      <td>None</td>\n",
       "      <td>2024-12-13</td>\n",
       "      <td>1</td>\n",
       "      <td>0.0</td>\n",
       "      <td>LISTING</td>\n",
       "      <td>LISTING_REMOVED</td>\n",
       "      <td>2025-06-14</td>\n",
       "      <td>INVITATION_HOMES</td>\n",
       "      <td>7</td>\n",
       "      <td>219000.0</td>\n",
       "      <td>8</td>\n",
       "      <td>1.0</td>\n",
       "      <td>0.0</td>\n",
       "      <td>0</td>\n",
       "      <td>1</td>\n",
       "      <td>2025-07-23</td>\n",
       "    </tr>\n",
       "    <tr>\n",
       "      <th>3</th>\n",
       "      <td>66650970</td>\n",
       "      <td>2.0</td>\n",
       "      <td>3</td>\n",
       "      <td>1750</td>\n",
       "      <td>1995.0</td>\n",
       "      <td>SINGLE_FAMILY</td>\n",
       "      <td>4558 BUCKLERIDGE RD</td>\n",
       "      <td>None</td>\n",
       "      <td>HOUSTON</td>\n",
       "      <td>TX</td>\n",
       "      <td>29.58446</td>\n",
       "      <td>-95.45311</td>\n",
       "      <td>Houston City</td>\n",
       "      <td>Fort Bend County</td>\n",
       "      <td>None</td>\n",
       "      <td>2024-12-13</td>\n",
       "      <td>1</td>\n",
       "      <td>0.0</td>\n",
       "      <td>LISTING</td>\n",
       "      <td>PRICE_CHANGE</td>\n",
       "      <td>2025-05-22</td>\n",
       "      <td>INVITATION_HOMES</td>\n",
       "      <td>7</td>\n",
       "      <td>219000.0</td>\n",
       "      <td>8</td>\n",
       "      <td>1.0</td>\n",
       "      <td>0.0</td>\n",
       "      <td>0</td>\n",
       "      <td>1</td>\n",
       "      <td>2025-07-23</td>\n",
       "    </tr>\n",
       "    <tr>\n",
       "      <th>4</th>\n",
       "      <td>66650970</td>\n",
       "      <td>2.0</td>\n",
       "      <td>3</td>\n",
       "      <td>1750</td>\n",
       "      <td>1995.0</td>\n",
       "      <td>SINGLE_FAMILY</td>\n",
       "      <td>4558 BUCKLERIDGE RD</td>\n",
       "      <td>None</td>\n",
       "      <td>HOUSTON</td>\n",
       "      <td>TX</td>\n",
       "      <td>29.58446</td>\n",
       "      <td>-95.45311</td>\n",
       "      <td>Houston City</td>\n",
       "      <td>Fort Bend County</td>\n",
       "      <td>None</td>\n",
       "      <td>2024-12-13</td>\n",
       "      <td>1</td>\n",
       "      <td>0.0</td>\n",
       "      <td>LISTING</td>\n",
       "      <td>LISTED_SALE</td>\n",
       "      <td>2024-12-18</td>\n",
       "      <td>INVITATION_HOMES</td>\n",
       "      <td>7</td>\n",
       "      <td>245000.0</td>\n",
       "      <td>8</td>\n",
       "      <td>1.0</td>\n",
       "      <td>0.0</td>\n",
       "      <td>0</td>\n",
       "      <td>1</td>\n",
       "      <td>2025-07-23</td>\n",
       "    </tr>\n",
       "  </tbody>\n",
       "</table>\n",
       "</div>"
      ],
      "text/plain": [
       "   parcl_property_id  property_metadata_bathrooms  property_metadata_bedrooms  \\\n",
       "0           66650970                          2.0                           3   \n",
       "1           66650970                          2.0                           3   \n",
       "2           66650970                          2.0                           3   \n",
       "3           66650970                          2.0                           3   \n",
       "4           66650970                          2.0                           3   \n",
       "\n",
       "   property_metadata_sq_ft  property_metadata_year_built  \\\n",
       "0                     1750                        1995.0   \n",
       "1                     1750                        1995.0   \n",
       "2                     1750                        1995.0   \n",
       "3                     1750                        1995.0   \n",
       "4                     1750                        1995.0   \n",
       "\n",
       "  property_metadata_property_type property_metadata_address1  \\\n",
       "0                   SINGLE_FAMILY        4558 BUCKLERIDGE RD   \n",
       "1                   SINGLE_FAMILY        4558 BUCKLERIDGE RD   \n",
       "2                   SINGLE_FAMILY        4558 BUCKLERIDGE RD   \n",
       "3                   SINGLE_FAMILY        4558 BUCKLERIDGE RD   \n",
       "4                   SINGLE_FAMILY        4558 BUCKLERIDGE RD   \n",
       "\n",
       "  property_metadata_address2 property_metadata_city property_metadata_state  \\\n",
       "0                       None                HOUSTON                      TX   \n",
       "1                       None                HOUSTON                      TX   \n",
       "2                       None                HOUSTON                      TX   \n",
       "3                       None                HOUSTON                      TX   \n",
       "4                       None                HOUSTON                      TX   \n",
       "\n",
       "   property_metadata_latitude  property_metadata_longitude  \\\n",
       "0                    29.58446                    -95.45311   \n",
       "1                    29.58446                    -95.45311   \n",
       "2                    29.58446                    -95.45311   \n",
       "3                    29.58446                    -95.45311   \n",
       "4                    29.58446                    -95.45311   \n",
       "\n",
       "  property_metadata_city_name property_metadata_county_name  \\\n",
       "0                Houston City              Fort Bend County   \n",
       "1                Houston City              Fort Bend County   \n",
       "2                Houston City              Fort Bend County   \n",
       "3                Houston City              Fort Bend County   \n",
       "4                Houston City              Fort Bend County   \n",
       "\n",
       "  property_metadata_metro_name property_metadata_record_added_date  \\\n",
       "0                         None                          2024-12-13   \n",
       "1                         None                          2024-12-13   \n",
       "2                         None                          2024-12-13   \n",
       "3                         None                          2024-12-13   \n",
       "4                         None                          2024-12-13   \n",
       "\n",
       "   property_metadata_current_on_market_flag  \\\n",
       "0                                         1   \n",
       "1                                         1   \n",
       "2                                         1   \n",
       "3                                         1   \n",
       "4                                         1   \n",
       "\n",
       "   property_metadata_current_on_market_rental_flag event_event_type  \\\n",
       "0                                              0.0          LISTING   \n",
       "1                                              0.0          LISTING   \n",
       "2                                              0.0          LISTING   \n",
       "3                                              0.0          LISTING   \n",
       "4                                              0.0          LISTING   \n",
       "\n",
       "  event_event_name event_event_date event_entity_owner_name  \\\n",
       "0     PRICE_CHANGE       2025-06-25        INVITATION_HOMES   \n",
       "1      LISTED_SALE       2025-06-25        INVITATION_HOMES   \n",
       "2  LISTING_REMOVED       2025-06-14        INVITATION_HOMES   \n",
       "3     PRICE_CHANGE       2025-05-22        INVITATION_HOMES   \n",
       "4      LISTED_SALE       2024-12-18        INVITATION_HOMES   \n",
       "\n",
       "   event_true_sale_index  event_price  event_transfer_index  \\\n",
       "0                      7     150000.0                     8   \n",
       "1                      7     150000.0                     8   \n",
       "2                      7     219000.0                     8   \n",
       "3                      7     219000.0                     8   \n",
       "4                      7     245000.0                     8   \n",
       "\n",
       "   event_investor_flag  event_owner_occupied_flag  \\\n",
       "0                  1.0                        0.0   \n",
       "1                  1.0                        0.0   \n",
       "2                  1.0                        0.0   \n",
       "3                  1.0                        0.0   \n",
       "4                  1.0                        0.0   \n",
       "\n",
       "   event_new_construction_flag  event_current_owner_flag  \\\n",
       "0                            0                         1   \n",
       "1                            0                         1   \n",
       "2                            0                         1   \n",
       "3                            0                         1   \n",
       "4                            0                         1   \n",
       "\n",
       "  event_record_updated_date  \n",
       "0                2025-07-23  \n",
       "1                2025-07-23  \n",
       "2                2025-07-23  \n",
       "3                2025-07-23  \n",
       "4                2025-07-23  "
      ]
     },
     "execution_count": 27,
     "metadata": {},
     "output_type": "execute_result"
    }
   ],
   "source": [
    "# now lets get all the event data for those properties\n",
    "# we dont include the owner name here \n",
    "# to make sure we also get whena property was sold by invitation homes\n",
    "# and is no longer associated to them \n",
    "all_events_for_properties_of_interest, metadata = client.property_v2.search.retrieve(\n",
    "    parcl_property_ids=all_properties_of_interest,\n",
    "    event_names=['ALL_SOLD','ALL_LISTINGS'], # search all listings and all sold events\n",
    "    max_event_date=\"2025-07-22\", # get the events for the last 12 months\n",
    "    min_event_date=\"2024-07-22\",\n",
    "    include_property_details=True, # include the property details in the response\n",
    "    \n",
    "    limit = 10000 # set a high limit to get all the events\n",
    "    )\n",
    "print(len(all_events_for_properties_of_interest))\n",
    "all_events_for_properties_of_interest.head()"
   ]
  },
  {
   "cell_type": "code",
   "execution_count": 28,
   "id": "0326082b",
   "metadata": {},
   "outputs": [],
   "source": [
    "# we can save this data to a csv file\n",
    "all_events_for_properties_of_interest.to_csv('all_events_for_properties_of_interest_invitation_homes_072225.csv', index=False)"
   ]
  },
  {
   "cell_type": "code",
   "execution_count": 29,
   "id": "0f3d69b0",
   "metadata": {},
   "outputs": [
    {
     "name": "stdout",
     "output_type": "stream",
     "text": [
      "Number of unique properties listed for sale in the last 12 months: 83\n"
     ]
    }
   ],
   "source": [
    "# Lets find number of properties listed for sale in the last 12 months\n",
    "number_of_unique_properties_listed_for_sale_in_12_months = (all_events_for_properties_of_interest\n",
    "                                                .query('event_event_name == \"LISTED_SALE\"')\n",
    "                                                .query('event_event_date >= \"2024-07-22\"')\n",
    "                                                .parcl_property_id.nunique())\n",
    "print(f'Number of unique properties listed for sale in the last 12 months: {number_of_unique_properties_listed_for_sale_in_12_months}')\n"
   ]
  },
  {
   "cell_type": "code",
   "execution_count": 30,
   "id": "b064b42a",
   "metadata": {},
   "outputs": [
    {
     "name": "stdout",
     "output_type": "stream",
     "text": [
      "Number of unique properties sold in the last 12 months: 51\n"
     ]
    }
   ],
   "source": [
    "# now lets do how many were sold in the last 12 months\n",
    "number_of_unique_properties_sold_in_12_months = (all_events_for_properties_of_interest\n",
    "                                                .query('event_event_name == \"SOLD\"')\n",
    "                                                .parcl_property_id.nunique())\n",
    "print(f'Number of unique properties sold in the last 12 months: {number_of_unique_properties_sold_in_12_months}')\n",
    "number_of_unique_properties_sold_in_12_months_ids = (all_events_for_properties_of_interest\n",
    "                                                .query('event_event_name == \"SOLD\"')\n",
    "                                                .parcl_property_id.unique().tolist())"
   ]
  },
  {
   "cell_type": "code",
   "execution_count": 31,
   "id": "9d8d15fa",
   "metadata": {},
   "outputs": [
    {
     "name": "stdout",
     "output_type": "stream",
     "text": [
      "51\n"
     ]
    }
   ],
   "source": [
    "# get a list of the properties that actually sold\n",
    "properties_sold_in_12_months = (all_events_for_properties_of_interest\n",
    "                                .query('event_event_name == \"SOLD\"')\n",
    "                                .parcl_property_id.unique().tolist())\n",
    "print(len(properties_sold_in_12_months))"
   ]
  },
  {
   "cell_type": "code",
   "execution_count": 32,
   "id": "bfaa86a9",
   "metadata": {},
   "outputs": [
    {
     "data": {
      "text/html": [
       "<div>\n",
       "<style scoped>\n",
       "    .dataframe tbody tr th:only-of-type {\n",
       "        vertical-align: middle;\n",
       "    }\n",
       "\n",
       "    .dataframe tbody tr th {\n",
       "        vertical-align: top;\n",
       "    }\n",
       "\n",
       "    .dataframe thead th {\n",
       "        text-align: right;\n",
       "    }\n",
       "</style>\n",
       "<table border=\"1\" class=\"dataframe\">\n",
       "  <thead>\n",
       "    <tr style=\"text-align: right;\">\n",
       "      <th></th>\n",
       "      <th>parcl_property_id</th>\n",
       "      <th>property_metadata_bathrooms</th>\n",
       "      <th>property_metadata_bedrooms</th>\n",
       "      <th>property_metadata_sq_ft</th>\n",
       "      <th>property_metadata_year_built</th>\n",
       "      <th>property_metadata_property_type</th>\n",
       "      <th>property_metadata_address1</th>\n",
       "      <th>property_metadata_address2</th>\n",
       "      <th>property_metadata_city</th>\n",
       "      <th>property_metadata_state</th>\n",
       "      <th>property_metadata_latitude</th>\n",
       "      <th>property_metadata_longitude</th>\n",
       "      <th>property_metadata_city_name</th>\n",
       "      <th>property_metadata_county_name</th>\n",
       "      <th>property_metadata_metro_name</th>\n",
       "      <th>property_metadata_record_added_date</th>\n",
       "      <th>property_metadata_current_on_market_flag</th>\n",
       "      <th>property_metadata_current_on_market_rental_flag</th>\n",
       "      <th>event_event_type</th>\n",
       "      <th>event_event_name</th>\n",
       "      <th>event_event_date</th>\n",
       "      <th>event_entity_owner_name</th>\n",
       "      <th>event_true_sale_index</th>\n",
       "      <th>event_price</th>\n",
       "      <th>event_transfer_index</th>\n",
       "      <th>event_investor_flag</th>\n",
       "      <th>event_owner_occupied_flag</th>\n",
       "      <th>event_new_construction_flag</th>\n",
       "      <th>event_current_owner_flag</th>\n",
       "      <th>event_record_updated_date</th>\n",
       "    </tr>\n",
       "  </thead>\n",
       "  <tbody>\n",
       "    <tr>\n",
       "      <th>18</th>\n",
       "      <td>75571945</td>\n",
       "      <td>2.0</td>\n",
       "      <td>3</td>\n",
       "      <td>2025</td>\n",
       "      <td>1979.0</td>\n",
       "      <td>SINGLE_FAMILY</td>\n",
       "      <td>12919 VENICE LN</td>\n",
       "      <td>None</td>\n",
       "      <td>STAFFORD</td>\n",
       "      <td>TX</td>\n",
       "      <td>29.629315</td>\n",
       "      <td>-95.53977</td>\n",
       "      <td>Stafford City</td>\n",
       "      <td>Fort Bend County</td>\n",
       "      <td>None</td>\n",
       "      <td>2024-12-13</td>\n",
       "      <td>0</td>\n",
       "      <td>0.0</td>\n",
       "      <td>LISTING</td>\n",
       "      <td>LISTED_SALE</td>\n",
       "      <td>2024-08-29</td>\n",
       "      <td>INVITATION_HOMES</td>\n",
       "      <td>3</td>\n",
       "      <td>225000.0</td>\n",
       "      <td>5</td>\n",
       "      <td>1.0</td>\n",
       "      <td>0.0</td>\n",
       "      <td>0</td>\n",
       "      <td>0</td>\n",
       "      <td>2025-02-06</td>\n",
       "    </tr>\n",
       "    <tr>\n",
       "      <th>17</th>\n",
       "      <td>75571945</td>\n",
       "      <td>2.0</td>\n",
       "      <td>3</td>\n",
       "      <td>2025</td>\n",
       "      <td>1979.0</td>\n",
       "      <td>SINGLE_FAMILY</td>\n",
       "      <td>12919 VENICE LN</td>\n",
       "      <td>None</td>\n",
       "      <td>STAFFORD</td>\n",
       "      <td>TX</td>\n",
       "      <td>29.629315</td>\n",
       "      <td>-95.53977</td>\n",
       "      <td>Stafford City</td>\n",
       "      <td>Fort Bend County</td>\n",
       "      <td>None</td>\n",
       "      <td>2024-12-13</td>\n",
       "      <td>0</td>\n",
       "      <td>0.0</td>\n",
       "      <td>SALE</td>\n",
       "      <td>SOLD</td>\n",
       "      <td>2024-10-01</td>\n",
       "      <td>None</td>\n",
       "      <td>4</td>\n",
       "      <td>0.0</td>\n",
       "      <td>6</td>\n",
       "      <td>NaN</td>\n",
       "      <td>NaN</td>\n",
       "      <td>0</td>\n",
       "      <td>0</td>\n",
       "      <td>2025-02-07</td>\n",
       "    </tr>\n",
       "    <tr>\n",
       "      <th>16</th>\n",
       "      <td>75571945</td>\n",
       "      <td>2.0</td>\n",
       "      <td>3</td>\n",
       "      <td>2025</td>\n",
       "      <td>1979.0</td>\n",
       "      <td>SINGLE_FAMILY</td>\n",
       "      <td>12919 VENICE LN</td>\n",
       "      <td>None</td>\n",
       "      <td>STAFFORD</td>\n",
       "      <td>TX</td>\n",
       "      <td>29.629315</td>\n",
       "      <td>-95.53977</td>\n",
       "      <td>Stafford City</td>\n",
       "      <td>Fort Bend County</td>\n",
       "      <td>None</td>\n",
       "      <td>2024-12-13</td>\n",
       "      <td>0</td>\n",
       "      <td>0.0</td>\n",
       "      <td>SALE</td>\n",
       "      <td>SOLD</td>\n",
       "      <td>2024-10-03</td>\n",
       "      <td>None</td>\n",
       "      <td>5</td>\n",
       "      <td>0.0</td>\n",
       "      <td>7</td>\n",
       "      <td>0.0</td>\n",
       "      <td>1.0</td>\n",
       "      <td>0</td>\n",
       "      <td>1</td>\n",
       "      <td>2025-02-07</td>\n",
       "    </tr>\n",
       "  </tbody>\n",
       "</table>\n",
       "</div>"
      ],
      "text/plain": [
       "    parcl_property_id  property_metadata_bathrooms  \\\n",
       "18           75571945                          2.0   \n",
       "17           75571945                          2.0   \n",
       "16           75571945                          2.0   \n",
       "\n",
       "    property_metadata_bedrooms  property_metadata_sq_ft  \\\n",
       "18                           3                     2025   \n",
       "17                           3                     2025   \n",
       "16                           3                     2025   \n",
       "\n",
       "    property_metadata_year_built property_metadata_property_type  \\\n",
       "18                        1979.0                   SINGLE_FAMILY   \n",
       "17                        1979.0                   SINGLE_FAMILY   \n",
       "16                        1979.0                   SINGLE_FAMILY   \n",
       "\n",
       "   property_metadata_address1 property_metadata_address2  \\\n",
       "18            12919 VENICE LN                       None   \n",
       "17            12919 VENICE LN                       None   \n",
       "16            12919 VENICE LN                       None   \n",
       "\n",
       "   property_metadata_city property_metadata_state  property_metadata_latitude  \\\n",
       "18               STAFFORD                      TX                   29.629315   \n",
       "17               STAFFORD                      TX                   29.629315   \n",
       "16               STAFFORD                      TX                   29.629315   \n",
       "\n",
       "    property_metadata_longitude property_metadata_city_name  \\\n",
       "18                    -95.53977               Stafford City   \n",
       "17                    -95.53977               Stafford City   \n",
       "16                    -95.53977               Stafford City   \n",
       "\n",
       "   property_metadata_county_name property_metadata_metro_name  \\\n",
       "18              Fort Bend County                         None   \n",
       "17              Fort Bend County                         None   \n",
       "16              Fort Bend County                         None   \n",
       "\n",
       "   property_metadata_record_added_date  \\\n",
       "18                          2024-12-13   \n",
       "17                          2024-12-13   \n",
       "16                          2024-12-13   \n",
       "\n",
       "    property_metadata_current_on_market_flag  \\\n",
       "18                                         0   \n",
       "17                                         0   \n",
       "16                                         0   \n",
       "\n",
       "    property_metadata_current_on_market_rental_flag event_event_type  \\\n",
       "18                                              0.0          LISTING   \n",
       "17                                              0.0             SALE   \n",
       "16                                              0.0             SALE   \n",
       "\n",
       "   event_event_name event_event_date event_entity_owner_name  \\\n",
       "18      LISTED_SALE       2024-08-29        INVITATION_HOMES   \n",
       "17             SOLD       2024-10-01                    None   \n",
       "16             SOLD       2024-10-03                    None   \n",
       "\n",
       "    event_true_sale_index  event_price  event_transfer_index  \\\n",
       "18                      3     225000.0                     5   \n",
       "17                      4          0.0                     6   \n",
       "16                      5          0.0                     7   \n",
       "\n",
       "    event_investor_flag  event_owner_occupied_flag  \\\n",
       "18                  1.0                        0.0   \n",
       "17                  NaN                        NaN   \n",
       "16                  0.0                        1.0   \n",
       "\n",
       "    event_new_construction_flag  event_current_owner_flag  \\\n",
       "18                            0                         0   \n",
       "17                            0                         0   \n",
       "16                            0                         1   \n",
       "\n",
       "   event_record_updated_date  \n",
       "18                2025-02-06  \n",
       "17                2025-02-07  \n",
       "16                2025-02-07  "
      ]
     },
     "execution_count": 32,
     "metadata": {},
     "output_type": "execute_result"
    }
   ],
   "source": [
    "# check values for a specific property\n",
    "all_events_for_properties_of_interest.query('parcl_property_id==75571945').sort_values(by='event_event_date', ascending=True)\n"
   ]
  },
  {
   "cell_type": "code",
   "execution_count": 33,
   "id": "79b4a912",
   "metadata": {},
   "outputs": [
    {
     "name": "stdout",
     "output_type": "stream",
     "text": [
      "Average days on market: 89.03921568627452\n",
      "Median days on market: 68.0\n",
      "Number of properties sold used for the analysis: 51\n"
     ]
    },
    {
     "data": {
      "text/html": [
       "<div>\n",
       "<style scoped>\n",
       "    .dataframe tbody tr th:only-of-type {\n",
       "        vertical-align: middle;\n",
       "    }\n",
       "\n",
       "    .dataframe tbody tr th {\n",
       "        vertical-align: top;\n",
       "    }\n",
       "\n",
       "    .dataframe thead th {\n",
       "        text-align: right;\n",
       "    }\n",
       "</style>\n",
       "<table border=\"1\" class=\"dataframe\">\n",
       "  <thead>\n",
       "    <tr style=\"text-align: right;\">\n",
       "      <th>normalized_event_name</th>\n",
       "      <th>LISTED_SALE</th>\n",
       "      <th>SOLD</th>\n",
       "      <th>days_on_market</th>\n",
       "    </tr>\n",
       "    <tr>\n",
       "      <th>parcl_property_id</th>\n",
       "      <th></th>\n",
       "      <th></th>\n",
       "      <th></th>\n",
       "    </tr>\n",
       "  </thead>\n",
       "  <tbody>\n",
       "    <tr>\n",
       "      <th>75571945</th>\n",
       "      <td>2024-08-29</td>\n",
       "      <td>2024-10-01</td>\n",
       "      <td>33</td>\n",
       "    </tr>\n",
       "    <tr>\n",
       "      <th>75577853</th>\n",
       "      <td>2025-02-21</td>\n",
       "      <td>2025-05-06</td>\n",
       "      <td>74</td>\n",
       "    </tr>\n",
       "    <tr>\n",
       "      <th>76017546</th>\n",
       "      <td>2025-02-21</td>\n",
       "      <td>2025-04-03</td>\n",
       "      <td>41</td>\n",
       "    </tr>\n",
       "    <tr>\n",
       "      <th>76468961</th>\n",
       "      <td>2024-09-20</td>\n",
       "      <td>2024-10-31</td>\n",
       "      <td>41</td>\n",
       "    </tr>\n",
       "    <tr>\n",
       "      <th>79456747</th>\n",
       "      <td>2024-08-14</td>\n",
       "      <td>2025-03-31</td>\n",
       "      <td>229</td>\n",
       "    </tr>\n",
       "    <tr>\n",
       "      <th>81163110</th>\n",
       "      <td>2024-09-27</td>\n",
       "      <td>2025-04-17</td>\n",
       "      <td>202</td>\n",
       "    </tr>\n",
       "    <tr>\n",
       "      <th>83049510</th>\n",
       "      <td>2024-12-23</td>\n",
       "      <td>2025-06-17</td>\n",
       "      <td>176</td>\n",
       "    </tr>\n",
       "    <tr>\n",
       "      <th>84115018</th>\n",
       "      <td>2025-03-12</td>\n",
       "      <td>2025-04-25</td>\n",
       "      <td>44</td>\n",
       "    </tr>\n",
       "    <tr>\n",
       "      <th>91835509</th>\n",
       "      <td>2024-08-30</td>\n",
       "      <td>2025-02-25</td>\n",
       "      <td>179</td>\n",
       "    </tr>\n",
       "    <tr>\n",
       "      <th>92917625</th>\n",
       "      <td>2024-08-27</td>\n",
       "      <td>2024-12-30</td>\n",
       "      <td>125</td>\n",
       "    </tr>\n",
       "    <tr>\n",
       "      <th>99756922</th>\n",
       "      <td>2024-08-21</td>\n",
       "      <td>2025-05-01</td>\n",
       "      <td>253</td>\n",
       "    </tr>\n",
       "    <tr>\n",
       "      <th>109714187</th>\n",
       "      <td>2025-06-02</td>\n",
       "      <td>2025-07-10</td>\n",
       "      <td>38</td>\n",
       "    </tr>\n",
       "    <tr>\n",
       "      <th>110027738</th>\n",
       "      <td>2024-12-13</td>\n",
       "      <td>2025-01-28</td>\n",
       "      <td>46</td>\n",
       "    </tr>\n",
       "    <tr>\n",
       "      <th>111016397</th>\n",
       "      <td>2025-02-11</td>\n",
       "      <td>2025-06-30</td>\n",
       "      <td>139</td>\n",
       "    </tr>\n",
       "    <tr>\n",
       "      <th>111123650</th>\n",
       "      <td>2024-10-10</td>\n",
       "      <td>2024-12-20</td>\n",
       "      <td>71</td>\n",
       "    </tr>\n",
       "  </tbody>\n",
       "</table>\n",
       "</div>"
      ],
      "text/plain": [
       "normalized_event_name LISTED_SALE       SOLD  days_on_market\n",
       "parcl_property_id                                           \n",
       "75571945               2024-08-29 2024-10-01              33\n",
       "75577853               2025-02-21 2025-05-06              74\n",
       "76017546               2025-02-21 2025-04-03              41\n",
       "76468961               2024-09-20 2024-10-31              41\n",
       "79456747               2024-08-14 2025-03-31             229\n",
       "81163110               2024-09-27 2025-04-17             202\n",
       "83049510               2024-12-23 2025-06-17             176\n",
       "84115018               2025-03-12 2025-04-25              44\n",
       "91835509               2024-08-30 2025-02-25             179\n",
       "92917625               2024-08-27 2024-12-30             125\n",
       "99756922               2024-08-21 2025-05-01             253\n",
       "109714187              2025-06-02 2025-07-10              38\n",
       "110027738              2024-12-13 2025-01-28              46\n",
       "111016397              2025-02-11 2025-06-30             139\n",
       "111123650              2024-10-10 2024-12-20              71"
      ]
     },
     "execution_count": 33,
     "metadata": {},
     "output_type": "execute_result"
    }
   ],
   "source": [
    "# Ensure the 'event_event_date' column is of datetime type before any calculations\n",
    "all_events_for_properties_of_interest['event_event_date'] = pd.to_datetime(all_events_for_properties_of_interest['event_event_date'])\n",
    "\n",
    "# Calculate days from first listing event to first SOLD event for each property\n",
    "days_on_market_df = (all_events_for_properties_of_interest\n",
    "    .query('parcl_property_id in @properties_sold_in_12_months')\n",
    "    .query('event_event_name in [\"LISTED_SALE\", \"RELISTED\", \"PRICE_CHANGE\", \"SOLD\"]')\n",
    "    .sort_values(['parcl_property_id', 'event_event_date'])\n",
    "    .assign(\n",
    "        # Mark properties that have SOLD events\n",
    "        has_sold = lambda x: x.groupby('parcl_property_id')['event_event_name'].transform(lambda y: 'SOLD' in y.values),\n",
    "        # Mark the first event for each property\n",
    "        is_first_event = lambda x: x.groupby('parcl_property_id').cumcount() == 0,\n",
    "        # Create normalized event name - only transform if it's first event AND property has SOLD\n",
    "        normalized_event_name = lambda x: np.where(\n",
    "            (x['has_sold']) & \n",
    "            (x['is_first_event']) & \n",
    "            (x['event_event_name'].isin(['RELISTED', 'PRICE_CHANGE'])),\n",
    "            'LISTED_SALE',\n",
    "            x['event_event_name']\n",
    "        )\n",
    "    )\n",
    "    .query('normalized_event_name in [\"LISTED_SALE\", \"SOLD\"]')\n",
    "    .groupby(['parcl_property_id', 'normalized_event_name'])['event_event_date'].first()\n",
    "    .unstack('normalized_event_name')\n",
    "    .dropna()  # Only keep properties with both LISTED_SALE and SOLD events\n",
    "    .assign(days_on_market = lambda x: (x['SOLD'] - x['LISTED_SALE']).dt.days)\n",
    "    .query('days_on_market >= 0')  # Ensure SOLD comes after LISTED_SALE\n",
    ")\n",
    "\n",
    "# Calculate average days on market\n",
    "avg_days_on_market = days_on_market_df['days_on_market'].mean()\n",
    "median_days_on_market = days_on_market_df['days_on_market'].median()\n",
    "print(f'Average days on market: {avg_days_on_market}')\n",
    "print(f'Median days on market: {median_days_on_market}')\n",
    "print(f'Number of properties sold used for the analysis: {len(days_on_market_df)}')\n",
    "days_on_market_df.head(15)"
   ]
  },
  {
   "cell_type": "code",
   "execution_count": 37,
   "id": "172ef7ca",
   "metadata": {},
   "outputs": [
    {
     "name": "stdout",
     "output_type": "stream",
     "text": [
      "Number of properties with price changes: 67\n",
      "Price changes per property statistics:\n",
      "count    67.000000\n",
      "mean      1.686567\n",
      "std       1.698564\n",
      "min       0.000000\n",
      "25%       0.000000\n",
      "50%       1.000000\n",
      "75%       3.000000\n",
      "max       6.000000\n",
      "Name: price_changes_per_property, dtype: float64\n"
     ]
    },
    {
     "data": {
      "text/html": [
       "<div>\n",
       "<style scoped>\n",
       "    .dataframe tbody tr th:only-of-type {\n",
       "        vertical-align: middle;\n",
       "    }\n",
       "\n",
       "    .dataframe tbody tr th {\n",
       "        vertical-align: top;\n",
       "    }\n",
       "\n",
       "    .dataframe thead th {\n",
       "        text-align: right;\n",
       "    }\n",
       "</style>\n",
       "<table border=\"1\" class=\"dataframe\">\n",
       "  <thead>\n",
       "    <tr style=\"text-align: right;\">\n",
       "      <th></th>\n",
       "      <th>parcl_property_id</th>\n",
       "      <th>event_event_name</th>\n",
       "      <th>event_event_date</th>\n",
       "      <th>event_price</th>\n",
       "      <th>previous_price</th>\n",
       "      <th>price_change_absolute</th>\n",
       "      <th>price_change_percentage</th>\n",
       "      <th>price_changes_per_property</th>\n",
       "    </tr>\n",
       "  </thead>\n",
       "  <tbody>\n",
       "    <tr>\n",
       "      <th>3</th>\n",
       "      <td>66650970</td>\n",
       "      <td>PRICE_CHANGE</td>\n",
       "      <td>2025-05-22</td>\n",
       "      <td>219000.0</td>\n",
       "      <td>245000.0</td>\n",
       "      <td>-26000.0</td>\n",
       "      <td>-10.612245</td>\n",
       "      <td>2</td>\n",
       "    </tr>\n",
       "    <tr>\n",
       "      <th>0</th>\n",
       "      <td>66650970</td>\n",
       "      <td>PRICE_CHANGE</td>\n",
       "      <td>2025-06-25</td>\n",
       "      <td>150000.0</td>\n",
       "      <td>219000.0</td>\n",
       "      <td>-69000.0</td>\n",
       "      <td>-31.506849</td>\n",
       "      <td>2</td>\n",
       "    </tr>\n",
       "    <tr>\n",
       "      <th>9</th>\n",
       "      <td>70880233</td>\n",
       "      <td>PRICE_CHANGE</td>\n",
       "      <td>2025-06-14</td>\n",
       "      <td>248000.0</td>\n",
       "      <td>258000.0</td>\n",
       "      <td>-10000.0</td>\n",
       "      <td>-3.875969</td>\n",
       "      <td>3</td>\n",
       "    </tr>\n",
       "    <tr>\n",
       "      <th>8</th>\n",
       "      <td>70880233</td>\n",
       "      <td>PRICE_CHANGE</td>\n",
       "      <td>2025-07-07</td>\n",
       "      <td>235000.0</td>\n",
       "      <td>248000.0</td>\n",
       "      <td>-13000.0</td>\n",
       "      <td>-5.241935</td>\n",
       "      <td>3</td>\n",
       "    </tr>\n",
       "    <tr>\n",
       "      <th>7</th>\n",
       "      <td>70880233</td>\n",
       "      <td>PRICE_CHANGE</td>\n",
       "      <td>2025-07-14</td>\n",
       "      <td>224950.0</td>\n",
       "      <td>235000.0</td>\n",
       "      <td>-10050.0</td>\n",
       "      <td>-4.276596</td>\n",
       "      <td>3</td>\n",
       "    </tr>\n",
       "    <tr>\n",
       "      <th>24</th>\n",
       "      <td>75577853</td>\n",
       "      <td>PRICE_CHANGE</td>\n",
       "      <td>2025-03-20</td>\n",
       "      <td>237500.0</td>\n",
       "      <td>245000.0</td>\n",
       "      <td>-7500.0</td>\n",
       "      <td>-3.061224</td>\n",
       "      <td>3</td>\n",
       "    </tr>\n",
       "    <tr>\n",
       "      <th>22</th>\n",
       "      <td>75577853</td>\n",
       "      <td>PRICE_CHANGE</td>\n",
       "      <td>2025-05-01</td>\n",
       "      <td>227500.0</td>\n",
       "      <td>237500.0</td>\n",
       "      <td>-10000.0</td>\n",
       "      <td>-4.210526</td>\n",
       "      <td>3</td>\n",
       "    </tr>\n",
       "    <tr>\n",
       "      <th>20</th>\n",
       "      <td>75577853</td>\n",
       "      <td>PRICE_CHANGE</td>\n",
       "      <td>2025-05-22</td>\n",
       "      <td>219000.0</td>\n",
       "      <td>227500.0</td>\n",
       "      <td>-8500.0</td>\n",
       "      <td>-3.736264</td>\n",
       "      <td>3</td>\n",
       "    </tr>\n",
       "    <tr>\n",
       "      <th>26</th>\n",
       "      <td>76017546</td>\n",
       "      <td>SOLD</td>\n",
       "      <td>2025-04-04</td>\n",
       "      <td>225000.0</td>\n",
       "      <td>215000.0</td>\n",
       "      <td>10000.0</td>\n",
       "      <td>4.651163</td>\n",
       "      <td>0</td>\n",
       "    </tr>\n",
       "    <tr>\n",
       "      <th>42</th>\n",
       "      <td>76468961</td>\n",
       "      <td>SOLD</td>\n",
       "      <td>2024-10-31</td>\n",
       "      <td>350000.0</td>\n",
       "      <td>160000.0</td>\n",
       "      <td>190000.0</td>\n",
       "      <td>118.750000</td>\n",
       "      <td>3</td>\n",
       "    </tr>\n",
       "  </tbody>\n",
       "</table>\n",
       "</div>"
      ],
      "text/plain": [
       "    parcl_property_id event_event_name event_event_date  event_price  \\\n",
       "3            66650970     PRICE_CHANGE       2025-05-22     219000.0   \n",
       "0            66650970     PRICE_CHANGE       2025-06-25     150000.0   \n",
       "9            70880233     PRICE_CHANGE       2025-06-14     248000.0   \n",
       "8            70880233     PRICE_CHANGE       2025-07-07     235000.0   \n",
       "7            70880233     PRICE_CHANGE       2025-07-14     224950.0   \n",
       "24           75577853     PRICE_CHANGE       2025-03-20     237500.0   \n",
       "22           75577853     PRICE_CHANGE       2025-05-01     227500.0   \n",
       "20           75577853     PRICE_CHANGE       2025-05-22     219000.0   \n",
       "26           76017546             SOLD       2025-04-04     225000.0   \n",
       "42           76468961             SOLD       2024-10-31     350000.0   \n",
       "\n",
       "    previous_price  price_change_absolute  price_change_percentage  \\\n",
       "3         245000.0               -26000.0               -10.612245   \n",
       "0         219000.0               -69000.0               -31.506849   \n",
       "9         258000.0               -10000.0                -3.875969   \n",
       "8         248000.0               -13000.0                -5.241935   \n",
       "7         235000.0               -10050.0                -4.276596   \n",
       "24        245000.0                -7500.0                -3.061224   \n",
       "22        237500.0               -10000.0                -4.210526   \n",
       "20        227500.0                -8500.0                -3.736264   \n",
       "26        215000.0                10000.0                 4.651163   \n",
       "42        160000.0               190000.0               118.750000   \n",
       "\n",
       "    price_changes_per_property  \n",
       "3                            2  \n",
       "0                            2  \n",
       "9                            3  \n",
       "8                            3  \n",
       "7                            3  \n",
       "24                           3  \n",
       "22                           3  \n",
       "20                           3  \n",
       "26                           0  \n",
       "42                           3  "
      ]
     },
     "execution_count": 37,
     "metadata": {},
     "output_type": "execute_result"
    }
   ],
   "source": [
    "# Calculate price changes (absolute and percentage) for properties with price changes\n",
    "price_changes_analysis = (all_events_for_properties_of_interest\n",
    "    .query('event_event_name in [\"LISTED_SALE\", \"PRICE_CHANGE\", \"RELISTED\", \"SOLD\"]')  # Events with prices\n",
    "    .query('event_price>0')\n",
    "    .sort_values(['parcl_property_id', 'event_event_date'], ascending=[True, True])\n",
    "    .assign(\n",
    "        previous_price = lambda x: x.groupby('parcl_property_id')['event_price'].shift(1),\n",
    "        price_change_absolute = lambda x: x['event_price'] - x['previous_price'],\n",
    "        price_change_percentage = lambda x: ((x['event_price'] - x['previous_price']) / x['previous_price'] * 100)\n",
    "    )\n",
    "    .assign(\n",
    "        is_price_change = lambda x: (\n",
    "            (x['event_event_name'].isin(['PRICE_CHANGE', 'RELISTED','LISTED_SALE'])) & \n",
    "            (x['previous_price'].notna()) &  # Must have a previous price\n",
    "            (x['price_change_absolute'] != 0)  # Price must actually change\n",
    "        )\n",
    "    )\n",
    "    .assign(\n",
    "        price_changes_per_property = lambda x: x.groupby('parcl_property_id')['is_price_change'].transform('sum')\n",
    "    )\n",
    "    .query('event_price > 0')  # remove properties with no price\n",
    "    .query('is_price_change == True or event_event_name == \"SOLD\"')  # Show price changes and final sales\n",
    "    # can be modified to only show is_price_change, meaning a true price change\n",
    "    .loc[:, ['parcl_property_id', 'event_event_name', 'event_event_date', \n",
    "            'event_price', 'previous_price', \n",
    "            'price_change_absolute', 'price_change_percentage', \n",
    "            'price_changes_per_property']]\n",
    ")\n",
    "\n",
    "print(f'Number of properties with price changes: {price_changes_analysis.parcl_property_id.nunique()}')\n",
    "\n",
    "# Summary statistics for price changes per property\n",
    "price_change_counts_summary = (price_changes_analysis\n",
    "    .groupby('parcl_property_id')['price_changes_per_property']\n",
    "    .first()  # Get unique count per property\n",
    "    .describe()\n",
    ")\n",
    "\n",
    "print(f'Price changes per property statistics:')\n",
    "print(price_change_counts_summary)\n",
    "\n",
    "price_changes_analysis.head(10)"
   ]
  },
  {
   "cell_type": "code",
   "execution_count": 38,
   "id": "52f4fdda",
   "metadata": {},
   "outputs": [
    {
     "data": {
      "text/html": [
       "<div>\n",
       "<style scoped>\n",
       "    .dataframe tbody tr th:only-of-type {\n",
       "        vertical-align: middle;\n",
       "    }\n",
       "\n",
       "    .dataframe tbody tr th {\n",
       "        vertical-align: top;\n",
       "    }\n",
       "\n",
       "    .dataframe thead th {\n",
       "        text-align: right;\n",
       "    }\n",
       "</style>\n",
       "<table border=\"1\" class=\"dataframe\">\n",
       "  <thead>\n",
       "    <tr style=\"text-align: right;\">\n",
       "      <th></th>\n",
       "      <th>price_change_absolute</th>\n",
       "      <th>price_change_percentage</th>\n",
       "    </tr>\n",
       "  </thead>\n",
       "  <tbody>\n",
       "    <tr>\n",
       "      <th>mean</th>\n",
       "      <td>-1247.94</td>\n",
       "      <td>0.92</td>\n",
       "    </tr>\n",
       "    <tr>\n",
       "      <th>median</th>\n",
       "      <td>-10000.00</td>\n",
       "      <td>-4.15</td>\n",
       "    </tr>\n",
       "    <tr>\n",
       "      <th>std</th>\n",
       "      <td>40227.41</td>\n",
       "      <td>19.53</td>\n",
       "    </tr>\n",
       "    <tr>\n",
       "      <th>min</th>\n",
       "      <td>-190000.00</td>\n",
       "      <td>-54.29</td>\n",
       "    </tr>\n",
       "    <tr>\n",
       "      <th>max</th>\n",
       "      <td>240079.00</td>\n",
       "      <td>118.75</td>\n",
       "    </tr>\n",
       "  </tbody>\n",
       "</table>\n",
       "</div>"
      ],
      "text/plain": [
       "        price_change_absolute  price_change_percentage\n",
       "mean                 -1247.94                     0.92\n",
       "median              -10000.00                    -4.15\n",
       "std                  40227.41                    19.53\n",
       "min                -190000.00                   -54.29\n",
       "max                 240079.00                   118.75"
      ]
     },
     "execution_count": 38,
     "metadata": {},
     "output_type": "execute_result"
    }
   ],
   "source": [
    "# Summary statistics for price changes\n",
    "price_change_summary = (price_changes_analysis\n",
    "    .agg({\n",
    "        'price_change_absolute': ['mean', 'median', 'std', 'min', 'max'],\n",
    "        'price_change_percentage': ['mean', 'median', 'std', 'min', 'max']\n",
    "    })\n",
    "    .round(2)\n",
    ")\n",
    "price_change_summary"
   ]
  },
  {
   "cell_type": "code",
   "execution_count": 39,
   "id": "97ec272e",
   "metadata": {},
   "outputs": [
    {
     "name": "stderr",
     "output_type": "stream",
     "text": [
      "/var/folders/bc/83s9d7s97k59np5nj0lj29g80000gn/T/ipykernel_20752/1701747161.py:17: DeprecationWarning:\n",
      "\n",
      "DataFrameGroupBy.apply operated on the grouping columns. This behavior is deprecated, and in a future version of pandas the grouping columns will be excluded from the operation. Either pass `include_groups=False` to exclude the groupings or explicitly select the grouping columns after groupby to silence this warning.\n",
      "\n"
     ]
    },
    {
     "data": {
      "text/html": [
       "<div>\n",
       "<style scoped>\n",
       "    .dataframe tbody tr th:only-of-type {\n",
       "        vertical-align: middle;\n",
       "    }\n",
       "\n",
       "    .dataframe tbody tr th {\n",
       "        vertical-align: top;\n",
       "    }\n",
       "\n",
       "    .dataframe thead th {\n",
       "        text-align: right;\n",
       "    }\n",
       "</style>\n",
       "<table border=\"1\" class=\"dataframe\">\n",
       "  <thead>\n",
       "    <tr style=\"text-align: right;\">\n",
       "      <th></th>\n",
       "      <th>original_listing_price</th>\n",
       "      <th>final_sale_price</th>\n",
       "      <th>price_difference_absolute</th>\n",
       "      <th>price_difference_percentage</th>\n",
       "    </tr>\n",
       "    <tr>\n",
       "      <th>parcl_property_id</th>\n",
       "      <th></th>\n",
       "      <th></th>\n",
       "      <th></th>\n",
       "      <th></th>\n",
       "    </tr>\n",
       "  </thead>\n",
       "  <tbody>\n",
       "    <tr>\n",
       "      <th>76017546</th>\n",
       "      <td>215000.0</td>\n",
       "      <td>225000.0</td>\n",
       "      <td>10000.0</td>\n",
       "      <td>4.651163</td>\n",
       "    </tr>\n",
       "    <tr>\n",
       "      <th>76468961</th>\n",
       "      <td>160000.0</td>\n",
       "      <td>350000.0</td>\n",
       "      <td>190000.0</td>\n",
       "      <td>118.750000</td>\n",
       "    </tr>\n",
       "    <tr>\n",
       "      <th>81163110</th>\n",
       "      <td>260000.0</td>\n",
       "      <td>215000.0</td>\n",
       "      <td>-45000.0</td>\n",
       "      <td>-17.307692</td>\n",
       "    </tr>\n",
       "    <tr>\n",
       "      <th>83049510</th>\n",
       "      <td>245000.0</td>\n",
       "      <td>270019.0</td>\n",
       "      <td>25019.0</td>\n",
       "      <td>10.211837</td>\n",
       "    </tr>\n",
       "    <tr>\n",
       "      <th>84115018</th>\n",
       "      <td>240000.0</td>\n",
       "      <td>240000.0</td>\n",
       "      <td>0.0</td>\n",
       "      <td>0.000000</td>\n",
       "    </tr>\n",
       "    <tr>\n",
       "      <th>91835509</th>\n",
       "      <td>200000.0</td>\n",
       "      <td>201875.0</td>\n",
       "      <td>1875.0</td>\n",
       "      <td>0.937500</td>\n",
       "    </tr>\n",
       "    <tr>\n",
       "      <th>99756922</th>\n",
       "      <td>195000.0</td>\n",
       "      <td>225625.0</td>\n",
       "      <td>30625.0</td>\n",
       "      <td>15.705128</td>\n",
       "    </tr>\n",
       "    <tr>\n",
       "      <th>110027738</th>\n",
       "      <td>280000.0</td>\n",
       "      <td>315000.0</td>\n",
       "      <td>35000.0</td>\n",
       "      <td>12.500000</td>\n",
       "    </tr>\n",
       "    <tr>\n",
       "      <th>111123650</th>\n",
       "      <td>305000.0</td>\n",
       "      <td>270000.0</td>\n",
       "      <td>-35000.0</td>\n",
       "      <td>-11.475410</td>\n",
       "    </tr>\n",
       "    <tr>\n",
       "      <th>113497416</th>\n",
       "      <td>130000.0</td>\n",
       "      <td>266998.0</td>\n",
       "      <td>136998.0</td>\n",
       "      <td>105.383077</td>\n",
       "    </tr>\n",
       "  </tbody>\n",
       "</table>\n",
       "</div>"
      ],
      "text/plain": [
       "                   original_listing_price  final_sale_price  \\\n",
       "parcl_property_id                                             \n",
       "76017546                         215000.0          225000.0   \n",
       "76468961                         160000.0          350000.0   \n",
       "81163110                         260000.0          215000.0   \n",
       "83049510                         245000.0          270019.0   \n",
       "84115018                         240000.0          240000.0   \n",
       "91835509                         200000.0          201875.0   \n",
       "99756922                         195000.0          225625.0   \n",
       "110027738                        280000.0          315000.0   \n",
       "111123650                        305000.0          270000.0   \n",
       "113497416                        130000.0          266998.0   \n",
       "\n",
       "                   price_difference_absolute  price_difference_percentage  \n",
       "parcl_property_id                                                          \n",
       "76017546                             10000.0                     4.651163  \n",
       "76468961                            190000.0                   118.750000  \n",
       "81163110                            -45000.0                   -17.307692  \n",
       "83049510                             25019.0                    10.211837  \n",
       "84115018                                 0.0                     0.000000  \n",
       "91835509                              1875.0                     0.937500  \n",
       "99756922                             30625.0                    15.705128  \n",
       "110027738                            35000.0                    12.500000  \n",
       "111123650                           -35000.0                   -11.475410  \n",
       "113497416                           136998.0                   105.383077  "
      ]
     },
     "execution_count": 39,
     "metadata": {},
     "output_type": "execute_result"
    }
   ],
   "source": [
    "# Calculate original listing vs final sale price analysis\n",
    "listing_vs_sale_analysis = (all_events_for_properties_of_interest\n",
    "    .query('event_event_name in [\"LISTED_SALE\", \"RELISTED\", \"PRICE_CHANGE\", \"SOLD\"]')\n",
    "    .sort_values(['parcl_property_id', 'event_event_date'])\n",
    "    .assign(\n",
    "        # Mark first event for each property\n",
    "        is_first_event = lambda x: x.groupby('parcl_property_id').cumcount() == 0,\n",
    "        # Mark listing-type events\n",
    "        is_listing_event = lambda x: x['event_event_name'].isin(['LISTED_SALE', 'RELISTED', 'PRICE_CHANGE']),\n",
    "        # First listing could be LISTED_SALE, RELISTED, or PRICE_CHANGE if it's the first event\n",
    "        is_first_listing = lambda x: x['is_first_event'] & x['is_listing_event'],\n",
    "        \n",
    "        # Mark valid sale events (SOLD with price > 0)\n",
    "        is_valid_sale = lambda x: (x['event_event_name'] == 'SOLD') & (x['event_price'] > 0)\n",
    "    )\n",
    "    .groupby('parcl_property_id')\n",
    "    .apply(lambda group: {\n",
    "        'original_listing_price': group.loc[group['is_first_listing'], 'event_price'].iloc[0] \n",
    "            if group['is_first_listing'].any() else None,\n",
    "        'final_sale_price': group.loc[group['is_valid_sale'], 'event_price'].iloc[-1] \n",
    "            if group['is_valid_sale'].any() else None\n",
    "    })\n",
    "    .apply(pd.Series)\n",
    "    .dropna()  # Only keep properties with both valid listing and sale prices\n",
    "    .assign(\n",
    "        price_difference_absolute = lambda x: x['final_sale_price'] - x['original_listing_price'],\n",
    "        price_difference_percentage = lambda x: (((x['final_sale_price'] - x['original_listing_price']) / x['original_listing_price']) * 100)\n",
    "    )\n",
    ")\n",
    "listing_vs_sale_analysis.head(10)"
   ]
  },
  {
   "cell_type": "code",
   "execution_count": 40,
   "id": "f3d4d4f3",
   "metadata": {},
   "outputs": [
    {
     "name": "stdout",
     "output_type": "stream",
     "text": [
      "=== LISTING VS SALE PRICE ANALYSIS ===\n",
      "Properties analyzed where final price is available and different to 0: 38\n",
      "Average original listing: $218,828.95\n",
      "Average final sale: $240,782.84\n",
      "Average absolute difference: $21,953.89\n",
      "Average percentage difference: 14.14%\n",
      "Median absolute difference: $2,692.00\n",
      "Median percentage difference: 1.49%\n",
      "\n",
      "=== PERFORMANCE BREAKDOWN ===\n",
      "                   price_difference_absolute                     \\\n",
      "                                       count      mean   median   \n",
      "performance                                                       \n",
      "Sold Above Listing                        20  58726.60  32994.0   \n",
      "Sold Below Listing                        17 -20016.71 -12748.0   \n",
      "Sold at Listing                            1      0.00      0.0   \n",
      "\n",
      "                   price_difference_percentage         \n",
      "                                          mean median  \n",
      "performance                                            \n",
      "Sold Above Listing                       33.85  16.44  \n",
      "Sold Below Listing                       -8.22  -6.25  \n",
      "Sold at Listing                           0.00   0.00  \n",
      "\n",
      "=== DETAILED STATISTICS ===\n",
      "        original_listing_price  final_sale_price  price_difference_absolute  \\\n",
      "count                    38.00             38.00                        NaN   \n",
      "mean                 218828.95         240782.84                   21953.89   \n",
      "median               220000.00         232031.50                    2692.00   \n",
      "std                   49719.79          64989.90                   61643.40   \n",
      "min                  110000.00         150000.00                  -45000.00   \n",
      "max                  310000.00         540079.00                  240079.00   \n",
      "\n",
      "        price_difference_percentage  \n",
      "count                           NaN  \n",
      "mean                          14.14  \n",
      "median                         1.49  \n",
      "std                           35.16  \n",
      "min                          -17.92  \n",
      "max                          118.75  \n"
     ]
    }
   ],
   "source": [
    "\n",
    "# Calculate comprehensive summary statistics\n",
    "listing_vs_sale_summary = {\n",
    "    'properties_analyzed': len(listing_vs_sale_analysis),\n",
    "    'avg_original_listing_price': listing_vs_sale_analysis['original_listing_price'].mean(),\n",
    "    'median_original_listing_price': listing_vs_sale_analysis['original_listing_price'].median(),\n",
    "    'avg_final_sale_price': listing_vs_sale_analysis['final_sale_price'].mean(),\n",
    "    'median_final_sale_price': listing_vs_sale_analysis['final_sale_price'].median(),\n",
    "    'avg_absolute_difference': listing_vs_sale_analysis['price_difference_absolute'].mean(),\n",
    "    'median_absolute_difference': listing_vs_sale_analysis['price_difference_absolute'].median(),\n",
    "    'avg_percentage_difference': listing_vs_sale_analysis['price_difference_percentage'].mean(),\n",
    "    'median_percentage_difference': listing_vs_sale_analysis['price_difference_percentage'].median(),\n",
    "    'std_absolute_difference': listing_vs_sale_analysis['price_difference_absolute'].std(),\n",
    "    'std_percentage_difference': listing_vs_sale_analysis['price_difference_percentage'].std()\n",
    "}\n",
    "\n",
    "# Show properties that sold above vs below listing\n",
    "price_performance = (listing_vs_sale_analysis\n",
    "    .assign(\n",
    "        performance = lambda x: x['price_difference_absolute'].apply(\n",
    "            lambda y: 'Sold Above Listing' if y > 0 else 'Sold Below Listing' if y < 0 else 'Sold at Listing'\n",
    "        )\n",
    "    )\n",
    "    .groupby('performance')\n",
    "    .agg({\n",
    "        'price_difference_absolute': ['count', 'mean', 'median'],\n",
    "        'price_difference_percentage': ['mean', 'median']\n",
    "    })\n",
    "    .round(2)\n",
    ")\n",
    "\n",
    "# Additional detailed statistics\n",
    "detailed_stats = (listing_vs_sale_analysis\n",
    "    .agg({\n",
    "        'original_listing_price': ['count', 'mean', 'median', 'std', 'min', 'max'],\n",
    "        'final_sale_price': ['count', 'mean', 'median', 'std', 'min', 'max'],\n",
    "        'price_difference_absolute': ['mean', 'median', 'std', 'min', 'max'],\n",
    "        'price_difference_percentage': ['mean', 'median', 'std', 'min', 'max']\n",
    "    })\n",
    "    .round(2)\n",
    ")\n",
    "\n",
    "# Print summary\n",
    "print(\"=== LISTING VS SALE PRICE ANALYSIS ===\")\n",
    "print(f\"Properties analyzed where final price is available and different to 0: {listing_vs_sale_summary['properties_analyzed']}\")\n",
    "print(f\"Average original listing: ${listing_vs_sale_summary['avg_original_listing_price']:,.2f}\")\n",
    "print(f\"Average final sale: ${listing_vs_sale_summary['avg_final_sale_price']:,.2f}\")\n",
    "print(f\"Average absolute difference: ${listing_vs_sale_summary['avg_absolute_difference']:,.2f}\")\n",
    "print(f\"Average percentage difference: {listing_vs_sale_summary['avg_percentage_difference']:.2f}%\")\n",
    "print(f\"Median absolute difference: ${listing_vs_sale_summary['median_absolute_difference']:,.2f}\")\n",
    "print(f\"Median percentage difference: {listing_vs_sale_summary['median_percentage_difference']:.2f}%\")\n",
    "\n",
    "print(\"\\n=== PERFORMANCE BREAKDOWN ===\")\n",
    "print(price_performance)\n",
    "\n",
    "print(\"\\n=== DETAILED STATISTICS ===\")\n",
    "print(detailed_stats)"
   ]
  },
  {
   "cell_type": "code",
   "execution_count": 41,
   "id": "2027e901",
   "metadata": {},
   "outputs": [
    {
     "data": {
      "application/vnd.plotly.v1+json": {
       "config": {
        "plotlyServerURL": "https://plot.ly"
       },
       "data": [
        {
         "customdata": [
          [
           "5514 LONG CREEK LN , HOUSTON",
           75577853
          ],
          [
           "4310 HARTSVILLE RD , HOUSTON",
           76468961
          ],
          [
           "6327 LUDINGTON DR , HOUSTON",
           79456747
          ],
          [
           "10307 RIPPLING FIELDS DR , HOUSTON",
           81163110
          ],
          [
           "4706 ELMBROOK DR , SPRING",
           83049510
          ],
          [
           "209 W 3RD ST , DEER PARK",
           91835509
          ],
          [
           "2009 SUNSET CT N , LEAGUE CITY",
           92917625
          ],
          [
           "4412 W CYPRESS VILLAS DR , SPRING",
           111016397
          ],
          [
           "12851 CHAMBERLAIN DR , HOUSTON",
           111123650
          ],
          [
           "12047 JILLIAN CROSSING DR , HOUSTON",
           115108461
          ],
          [
           "9846 SAGEROYAL LN , HOUSTON",
           117683445
          ],
          [
           "9023 ROLLING RAPIDS RD , HUMBLE",
           117959486
          ],
          [
           "16802 ATASCOCITA BEND DR , HUMBLE",
           139105424
          ],
          [
           "526 BAYWOOD ST , SHOREACRES",
           141169519
          ],
          [
           "14934 HIDALGO VALLEY LN , HOUSTON",
           141481386
          ],
          [
           "14611 S HEARTHSTONE GREEN DR , HOUSTON",
           151028122
          ],
          [
           "11727 BOLLINGER PARK CT , HOUSTON",
           157207143
          ],
          [
           "3627 WINTERGREEN DR , HUMBLE",
           164738636
          ],
          [
           "160 CAMELOT PLACE CT , CONROE",
           164977636
          ],
          [
           "12630 WARRENWOOD DR , HOUSTON",
           165534398
          ],
          [
           "15127 HILLSIDE PARK WAY , CYPRESS",
           169874854
          ],
          [
           "11123 HIDDEN BEND DR , HOUSTON",
           178250927
          ],
          [
           "9214 MIRAWOOD ST , HOUSTON",
           180077131
          ],
          [
           "1202 14TH AVE N , TEXAS CITY",
           181741008
          ]
         ],
         "hovertemplate": "<b>%{customdata[0]}</b><br>Days on Market: %{x}<br>Price Cuts: %{y}<br>Property ID: %{customdata[1]}<extra></extra>",
         "legendgroup": "",
         "marker": {
          "color": "#636efa",
          "symbol": "circle"
         },
         "mode": "markers",
         "name": "",
         "orientation": "v",
         "showlegend": false,
         "type": "scatter",
         "x": {
          "bdata": "SgApAOUAygCwALMAfQCLAEcAhgDDAIcAYQBYAFIAKgBAAC8AHQBuAEQAqQDoADwA",
          "dtype": "i2"
         },
         "xaxis": "x",
         "y": {
          "bdata": "AwICAgICAgECAQYBAQEDAgEBAQIBAQMB",
          "dtype": "i1"
         },
         "yaxis": "y"
        }
       ],
       "layout": {
        "height": 600,
        "legend": {
         "tracegroupgap": 0
        },
        "template": {
         "data": {
          "bar": [
           {
            "error_x": {
             "color": "#2a3f5f"
            },
            "error_y": {
             "color": "#2a3f5f"
            },
            "marker": {
             "line": {
              "color": "white",
              "width": 0.5
             },
             "pattern": {
              "fillmode": "overlay",
              "size": 10,
              "solidity": 0.2
             }
            },
            "type": "bar"
           }
          ],
          "barpolar": [
           {
            "marker": {
             "line": {
              "color": "white",
              "width": 0.5
             },
             "pattern": {
              "fillmode": "overlay",
              "size": 10,
              "solidity": 0.2
             }
            },
            "type": "barpolar"
           }
          ],
          "carpet": [
           {
            "aaxis": {
             "endlinecolor": "#2a3f5f",
             "gridcolor": "#C8D4E3",
             "linecolor": "#C8D4E3",
             "minorgridcolor": "#C8D4E3",
             "startlinecolor": "#2a3f5f"
            },
            "baxis": {
             "endlinecolor": "#2a3f5f",
             "gridcolor": "#C8D4E3",
             "linecolor": "#C8D4E3",
             "minorgridcolor": "#C8D4E3",
             "startlinecolor": "#2a3f5f"
            },
            "type": "carpet"
           }
          ],
          "choropleth": [
           {
            "colorbar": {
             "outlinewidth": 0,
             "ticks": ""
            },
            "type": "choropleth"
           }
          ],
          "contour": [
           {
            "colorbar": {
             "outlinewidth": 0,
             "ticks": ""
            },
            "colorscale": [
             [
              0,
              "#0d0887"
             ],
             [
              0.1111111111111111,
              "#46039f"
             ],
             [
              0.2222222222222222,
              "#7201a8"
             ],
             [
              0.3333333333333333,
              "#9c179e"
             ],
             [
              0.4444444444444444,
              "#bd3786"
             ],
             [
              0.5555555555555556,
              "#d8576b"
             ],
             [
              0.6666666666666666,
              "#ed7953"
             ],
             [
              0.7777777777777778,
              "#fb9f3a"
             ],
             [
              0.8888888888888888,
              "#fdca26"
             ],
             [
              1,
              "#f0f921"
             ]
            ],
            "type": "contour"
           }
          ],
          "contourcarpet": [
           {
            "colorbar": {
             "outlinewidth": 0,
             "ticks": ""
            },
            "type": "contourcarpet"
           }
          ],
          "heatmap": [
           {
            "colorbar": {
             "outlinewidth": 0,
             "ticks": ""
            },
            "colorscale": [
             [
              0,
              "#0d0887"
             ],
             [
              0.1111111111111111,
              "#46039f"
             ],
             [
              0.2222222222222222,
              "#7201a8"
             ],
             [
              0.3333333333333333,
              "#9c179e"
             ],
             [
              0.4444444444444444,
              "#bd3786"
             ],
             [
              0.5555555555555556,
              "#d8576b"
             ],
             [
              0.6666666666666666,
              "#ed7953"
             ],
             [
              0.7777777777777778,
              "#fb9f3a"
             ],
             [
              0.8888888888888888,
              "#fdca26"
             ],
             [
              1,
              "#f0f921"
             ]
            ],
            "type": "heatmap"
           }
          ],
          "histogram": [
           {
            "marker": {
             "pattern": {
              "fillmode": "overlay",
              "size": 10,
              "solidity": 0.2
             }
            },
            "type": "histogram"
           }
          ],
          "histogram2d": [
           {
            "colorbar": {
             "outlinewidth": 0,
             "ticks": ""
            },
            "colorscale": [
             [
              0,
              "#0d0887"
             ],
             [
              0.1111111111111111,
              "#46039f"
             ],
             [
              0.2222222222222222,
              "#7201a8"
             ],
             [
              0.3333333333333333,
              "#9c179e"
             ],
             [
              0.4444444444444444,
              "#bd3786"
             ],
             [
              0.5555555555555556,
              "#d8576b"
             ],
             [
              0.6666666666666666,
              "#ed7953"
             ],
             [
              0.7777777777777778,
              "#fb9f3a"
             ],
             [
              0.8888888888888888,
              "#fdca26"
             ],
             [
              1,
              "#f0f921"
             ]
            ],
            "type": "histogram2d"
           }
          ],
          "histogram2dcontour": [
           {
            "colorbar": {
             "outlinewidth": 0,
             "ticks": ""
            },
            "colorscale": [
             [
              0,
              "#0d0887"
             ],
             [
              0.1111111111111111,
              "#46039f"
             ],
             [
              0.2222222222222222,
              "#7201a8"
             ],
             [
              0.3333333333333333,
              "#9c179e"
             ],
             [
              0.4444444444444444,
              "#bd3786"
             ],
             [
              0.5555555555555556,
              "#d8576b"
             ],
             [
              0.6666666666666666,
              "#ed7953"
             ],
             [
              0.7777777777777778,
              "#fb9f3a"
             ],
             [
              0.8888888888888888,
              "#fdca26"
             ],
             [
              1,
              "#f0f921"
             ]
            ],
            "type": "histogram2dcontour"
           }
          ],
          "mesh3d": [
           {
            "colorbar": {
             "outlinewidth": 0,
             "ticks": ""
            },
            "type": "mesh3d"
           }
          ],
          "parcoords": [
           {
            "line": {
             "colorbar": {
              "outlinewidth": 0,
              "ticks": ""
             }
            },
            "type": "parcoords"
           }
          ],
          "pie": [
           {
            "automargin": true,
            "type": "pie"
           }
          ],
          "scatter": [
           {
            "fillpattern": {
             "fillmode": "overlay",
             "size": 10,
             "solidity": 0.2
            },
            "type": "scatter"
           }
          ],
          "scatter3d": [
           {
            "line": {
             "colorbar": {
              "outlinewidth": 0,
              "ticks": ""
             }
            },
            "marker": {
             "colorbar": {
              "outlinewidth": 0,
              "ticks": ""
             }
            },
            "type": "scatter3d"
           }
          ],
          "scattercarpet": [
           {
            "marker": {
             "colorbar": {
              "outlinewidth": 0,
              "ticks": ""
             }
            },
            "type": "scattercarpet"
           }
          ],
          "scattergeo": [
           {
            "marker": {
             "colorbar": {
              "outlinewidth": 0,
              "ticks": ""
             }
            },
            "type": "scattergeo"
           }
          ],
          "scattergl": [
           {
            "marker": {
             "colorbar": {
              "outlinewidth": 0,
              "ticks": ""
             }
            },
            "type": "scattergl"
           }
          ],
          "scattermap": [
           {
            "marker": {
             "colorbar": {
              "outlinewidth": 0,
              "ticks": ""
             }
            },
            "type": "scattermap"
           }
          ],
          "scattermapbox": [
           {
            "marker": {
             "colorbar": {
              "outlinewidth": 0,
              "ticks": ""
             }
            },
            "type": "scattermapbox"
           }
          ],
          "scatterpolar": [
           {
            "marker": {
             "colorbar": {
              "outlinewidth": 0,
              "ticks": ""
             }
            },
            "type": "scatterpolar"
           }
          ],
          "scatterpolargl": [
           {
            "marker": {
             "colorbar": {
              "outlinewidth": 0,
              "ticks": ""
             }
            },
            "type": "scatterpolargl"
           }
          ],
          "scatterternary": [
           {
            "marker": {
             "colorbar": {
              "outlinewidth": 0,
              "ticks": ""
             }
            },
            "type": "scatterternary"
           }
          ],
          "surface": [
           {
            "colorbar": {
             "outlinewidth": 0,
             "ticks": ""
            },
            "colorscale": [
             [
              0,
              "#0d0887"
             ],
             [
              0.1111111111111111,
              "#46039f"
             ],
             [
              0.2222222222222222,
              "#7201a8"
             ],
             [
              0.3333333333333333,
              "#9c179e"
             ],
             [
              0.4444444444444444,
              "#bd3786"
             ],
             [
              0.5555555555555556,
              "#d8576b"
             ],
             [
              0.6666666666666666,
              "#ed7953"
             ],
             [
              0.7777777777777778,
              "#fb9f3a"
             ],
             [
              0.8888888888888888,
              "#fdca26"
             ],
             [
              1,
              "#f0f921"
             ]
            ],
            "type": "surface"
           }
          ],
          "table": [
           {
            "cells": {
             "fill": {
              "color": "#EBF0F8"
             },
             "line": {
              "color": "white"
             }
            },
            "header": {
             "fill": {
              "color": "#C8D4E3"
             },
             "line": {
              "color": "white"
             }
            },
            "type": "table"
           }
          ]
         },
         "layout": {
          "annotationdefaults": {
           "arrowcolor": "#2a3f5f",
           "arrowhead": 0,
           "arrowwidth": 1
          },
          "autotypenumbers": "strict",
          "coloraxis": {
           "colorbar": {
            "outlinewidth": 0,
            "ticks": ""
           }
          },
          "colorscale": {
           "diverging": [
            [
             0,
             "#8e0152"
            ],
            [
             0.1,
             "#c51b7d"
            ],
            [
             0.2,
             "#de77ae"
            ],
            [
             0.3,
             "#f1b6da"
            ],
            [
             0.4,
             "#fde0ef"
            ],
            [
             0.5,
             "#f7f7f7"
            ],
            [
             0.6,
             "#e6f5d0"
            ],
            [
             0.7,
             "#b8e186"
            ],
            [
             0.8,
             "#7fbc41"
            ],
            [
             0.9,
             "#4d9221"
            ],
            [
             1,
             "#276419"
            ]
           ],
           "sequential": [
            [
             0,
             "#0d0887"
            ],
            [
             0.1111111111111111,
             "#46039f"
            ],
            [
             0.2222222222222222,
             "#7201a8"
            ],
            [
             0.3333333333333333,
             "#9c179e"
            ],
            [
             0.4444444444444444,
             "#bd3786"
            ],
            [
             0.5555555555555556,
             "#d8576b"
            ],
            [
             0.6666666666666666,
             "#ed7953"
            ],
            [
             0.7777777777777778,
             "#fb9f3a"
            ],
            [
             0.8888888888888888,
             "#fdca26"
            ],
            [
             1,
             "#f0f921"
            ]
           ],
           "sequentialminus": [
            [
             0,
             "#0d0887"
            ],
            [
             0.1111111111111111,
             "#46039f"
            ],
            [
             0.2222222222222222,
             "#7201a8"
            ],
            [
             0.3333333333333333,
             "#9c179e"
            ],
            [
             0.4444444444444444,
             "#bd3786"
            ],
            [
             0.5555555555555556,
             "#d8576b"
            ],
            [
             0.6666666666666666,
             "#ed7953"
            ],
            [
             0.7777777777777778,
             "#fb9f3a"
            ],
            [
             0.8888888888888888,
             "#fdca26"
            ],
            [
             1,
             "#f0f921"
            ]
           ]
          },
          "colorway": [
           "#636efa",
           "#EF553B",
           "#00cc96",
           "#ab63fa",
           "#FFA15A",
           "#19d3f3",
           "#FF6692",
           "#B6E880",
           "#FF97FF",
           "#FECB52"
          ],
          "font": {
           "color": "#2a3f5f"
          },
          "geo": {
           "bgcolor": "white",
           "lakecolor": "white",
           "landcolor": "white",
           "showlakes": true,
           "showland": true,
           "subunitcolor": "#C8D4E3"
          },
          "hoverlabel": {
           "align": "left"
          },
          "hovermode": "closest",
          "mapbox": {
           "style": "light"
          },
          "paper_bgcolor": "white",
          "plot_bgcolor": "white",
          "polar": {
           "angularaxis": {
            "gridcolor": "#EBF0F8",
            "linecolor": "#EBF0F8",
            "ticks": ""
           },
           "bgcolor": "white",
           "radialaxis": {
            "gridcolor": "#EBF0F8",
            "linecolor": "#EBF0F8",
            "ticks": ""
           }
          },
          "scene": {
           "xaxis": {
            "backgroundcolor": "white",
            "gridcolor": "#DFE8F3",
            "gridwidth": 2,
            "linecolor": "#EBF0F8",
            "showbackground": true,
            "ticks": "",
            "zerolinecolor": "#EBF0F8"
           },
           "yaxis": {
            "backgroundcolor": "white",
            "gridcolor": "#DFE8F3",
            "gridwidth": 2,
            "linecolor": "#EBF0F8",
            "showbackground": true,
            "ticks": "",
            "zerolinecolor": "#EBF0F8"
           },
           "zaxis": {
            "backgroundcolor": "white",
            "gridcolor": "#DFE8F3",
            "gridwidth": 2,
            "linecolor": "#EBF0F8",
            "showbackground": true,
            "ticks": "",
            "zerolinecolor": "#EBF0F8"
           }
          },
          "shapedefaults": {
           "line": {
            "color": "#2a3f5f"
           }
          },
          "ternary": {
           "aaxis": {
            "gridcolor": "#DFE8F3",
            "linecolor": "#A2B1C6",
            "ticks": ""
           },
           "baxis": {
            "gridcolor": "#DFE8F3",
            "linecolor": "#A2B1C6",
            "ticks": ""
           },
           "bgcolor": "white",
           "caxis": {
            "gridcolor": "#DFE8F3",
            "linecolor": "#A2B1C6",
            "ticks": ""
           }
          },
          "title": {
           "x": 0.05
          },
          "xaxis": {
           "automargin": true,
           "gridcolor": "#EBF0F8",
           "linecolor": "#EBF0F8",
           "ticks": "",
           "title": {
            "standoff": 15
           },
           "zerolinecolor": "#EBF0F8",
           "zerolinewidth": 2
          },
          "yaxis": {
           "automargin": true,
           "gridcolor": "#EBF0F8",
           "linecolor": "#EBF0F8",
           "ticks": "",
           "title": {
            "standoff": 15
           },
           "zerolinecolor": "#EBF0F8",
           "zerolinewidth": 2
          }
         }
        },
        "title": {
         "font": {
          "size": 16
         },
         "text": "Days on Market vs. Number of Price Cuts (Properties with Price Cuts Only)"
        },
        "width": 800,
        "xaxis": {
         "anchor": "y",
         "domain": [
          0,
          1
         ],
         "title": {
          "font": {
           "size": 14
          },
          "text": "Days on Market"
         }
        },
        "yaxis": {
         "anchor": "x",
         "domain": [
          0,
          1
         ],
         "title": {
          "font": {
           "size": 14
          },
          "text": "Number of Price Cuts"
         }
        }
       }
      }
     },
     "metadata": {},
     "output_type": "display_data"
    },
    {
     "name": "stdout",
     "output_type": "stream",
     "text": [
      "=== SCATTER PLOT DATA SUMMARY (Properties with Price Cuts Only) ===\n",
      "Total properties plotted: 24\n",
      "Average days on market: 116.2\n",
      "Average price cuts: 1.8\n",
      "Max days on market: 232\n",
      "Max price cuts: 6\n",
      "Min price cuts: 1\n"
     ]
    }
   ],
   "source": [
    "import plotly.express as px\n",
    "import plotly.graph_objects as go\n",
    "\n",
    "# First, let's combine the days on market with price changes data\n",
    "scatter_plot_data = (all_events_for_properties_of_interest\n",
    "    .pipe(lambda df: \n",
    "        # Get days on market data\n",
    "        df.query('event_event_name in [\"LISTED_SALE\", \"RELISTED\", \"PRICE_CHANGE\", \"SOLD\"]')\n",
    "        .sort_values(['parcl_property_id', 'event_event_date'])\n",
    "        .assign(\n",
    "            has_sold = lambda x: x.groupby('parcl_property_id')['event_event_name'].transform(lambda y: 'SOLD' in y.values),\n",
    "            is_first_event = lambda x: x.groupby('parcl_property_id').cumcount() == 0,\n",
    "            normalized_event_name = lambda x: np.where(\n",
    "                (x['has_sold']) & \n",
    "                (x['is_first_event']) & \n",
    "                (x['event_event_name'].isin(['RELISTED', 'PRICE_CHANGE'])),\n",
    "                'LISTED_SALE',\n",
    "                x['event_event_name']\n",
    "            )\n",
    "        )\n",
    "        .query('normalized_event_name in [\"LISTED_SALE\", \"SOLD\"]')\n",
    "        .groupby(['parcl_property_id', 'normalized_event_name'])['event_event_date'].first()\n",
    "        .unstack('normalized_event_name')\n",
    "        .dropna()\n",
    "        .assign(days_on_market = lambda x: (x['SOLD'] - x['LISTED_SALE']).dt.days)\n",
    "        .query('days_on_market >= 0')\n",
    "        .reset_index()\n",
    "    )\n",
    "    .merge(\n",
    "        # Get price changes count\n",
    "        all_events_for_properties_of_interest\n",
    "        .groupby('parcl_property_id')['event_event_name']\n",
    "        .apply(lambda x: (x == 'PRICE_CHANGE').sum())\n",
    "        .reset_index(name='price_cuts'),\n",
    "        on='parcl_property_id'\n",
    "    )\n",
    "    .query('price_cuts > 0')  # Exclude properties with 0 price cuts\n",
    "    .merge(\n",
    "        # Get property address and combine fields\n",
    "        all_events_for_properties_of_interest[['parcl_property_id', 'property_metadata_address1', 'property_metadata_address2', 'property_metadata_city']]\n",
    "        .drop_duplicates()\n",
    "        .assign(\n",
    "            full_address = lambda x: (\n",
    "                x['property_metadata_address1'].fillna('').astype(str) + ' ' +\n",
    "                x['property_metadata_address2'].fillna('').astype(str) + ', ' +\n",
    "                x['property_metadata_city'].fillna('').astype(str)\n",
    "            ).str.replace(r'\\s+', ' ', regex=True).str.strip().str.rstrip(',')\n",
    "        ),\n",
    "        on='parcl_property_id'\n",
    "    )\n",
    "    .assign(\n",
    "        hover_text = lambda x: x['full_address'] + '<br>' + \n",
    "                              'Days on Market: ' + x['days_on_market'].astype(str) + '<br>' +\n",
    "                              'Price Cuts: ' + x['price_cuts'].astype(str)\n",
    "    )\n",
    ")\n",
    "\n",
    "# Create the scatter plot\n",
    "fig = px.scatter(\n",
    "    scatter_plot_data,\n",
    "    x='days_on_market',\n",
    "    y='price_cuts',\n",
    "    hover_data={'full_address': True, 'parcl_property_id': True},\n",
    "    title='Days on Market vs. Number of Price Cuts (Properties with Price Cuts Only)',\n",
    "    labels={\n",
    "        'days_on_market': 'Days on Market',\n",
    "        'price_cuts': 'Number of Price Cuts'\n",
    "    },\n",
    "    template='plotly_white'\n",
    ")\n",
    "\n",
    "# Customize the hover template\n",
    "fig.update_traces(\n",
    "    hovertemplate='<b>%{customdata[0]}</b><br>' +\n",
    "                  'Days on Market: %{x}<br>' +\n",
    "                  'Price Cuts: %{y}<br>' +\n",
    "                  'Property ID: %{customdata[1]}<extra></extra>',\n",
    "    customdata=scatter_plot_data[['full_address', 'parcl_property_id']].values\n",
    ")\n",
    "\n",
    "# Update layout for better appearance\n",
    "fig.update_layout(\n",
    "    width=800,\n",
    "    height=600,\n",
    "    title_font_size=16,\n",
    "    xaxis_title_font_size=14,\n",
    "    yaxis_title_font_size=14\n",
    ")\n",
    "\n",
    "# Show the plot\n",
    "fig.show()\n",
    "\n",
    "# Print summary statistics for context\n",
    "print(\"=== SCATTER PLOT DATA SUMMARY (Properties with Price Cuts Only) ===\")\n",
    "print(f\"Total properties plotted: {len(scatter_plot_data)}\")\n",
    "print(f\"Average days on market: {scatter_plot_data['days_on_market'].mean():.1f}\")\n",
    "print(f\"Average price cuts: {scatter_plot_data['price_cuts'].mean():.1f}\")\n",
    "print(f\"Max days on market: {scatter_plot_data['days_on_market'].max()}\")\n",
    "print(f\"Max price cuts: {scatter_plot_data['price_cuts'].max()}\")\n",
    "print(f\"Min price cuts: {scatter_plot_data['price_cuts'].min()}\")  # Should be 1 now"
   ]
  }
 ],
 "metadata": {
  "kernelspec": {
   "display_name": "parcllabs-env",
   "language": "python",
   "name": "python3"
  },
  "language_info": {
   "codemirror_mode": {
    "name": "ipython",
    "version": 3
   },
   "file_extension": ".py",
   "mimetype": "text/x-python",
   "name": "python",
   "nbconvert_exporter": "python",
   "pygments_lexer": "ipython3",
   "version": "3.11.9"
  }
 },
 "nbformat": 4,
 "nbformat_minor": 5
}
