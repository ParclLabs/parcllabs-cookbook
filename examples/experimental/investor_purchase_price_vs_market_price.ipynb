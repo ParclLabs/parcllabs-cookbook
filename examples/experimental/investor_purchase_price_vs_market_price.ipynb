{
 "cells": [
  {
   "cell_type": "markdown",
   "id": "f3efb2e5-450a-40c4-adc8-ab658bc163cb",
   "metadata": {},
   "source": [
    "# Welcome to the Lab 🥼🧪\n",
    "\n",
    "## Investor Purchase Price vs. Market Price\n",
    "\n",
    "In this notebook, we will go over how much investors are paying for properties vs. the market prices. \n",
    "\n",
    "We will create a chart like this: \n",
    "\n",
    "![Chart](../assets/atlanta_investor_share.png)\n",
    "\n",
    "**Note** This notebook will work with any of the 70k+ markets supported by the Parcl Labs API.\n",
    "\n",
    "As a reminder, you can get your Parcl Labs API key [here](https://dashboard.parcllabs.com/signup) to follow along. \n",
    "\n",
    "To run this immediately, you can use Google Colab. Remember, you must set your `PARCL_LABS_API_KEY` as a secret. See this [guide](https://medium.com/@parthdasawant/how-to-use-secrets-in-google-colab-450c38e3ec75) for more information.\n",
    "\n",
    "[![Open in Colab](https://colab.research.google.com/assets/colab-badge.svg)](https://colab.research.google.com/github/ParclLabs/parcllabs-examples/blob/main/python/inspiration/investor_purchase_price_vs_market_price.ipynb)"
   ]
  },
  {
   "cell_type": "code",
   "execution_count": null,
   "id": "26ee502a-3815-401f-8681-59311d2db750",
   "metadata": {},
   "outputs": [],
   "source": [
    "# Environment setup\n",
    "import os\n",
    "import sys\n",
    "import subprocess\n",
    "from datetime import datetime\n",
    "\n",
    "# Collab setup from one click above\n",
    "if \"google.colab\" in sys.modules:\n",
    "    from google.colab import userdata\n",
    "    %pip install parcllabs plotly kaleido\n",
    "    api_key = userdata.get('PARCL_LABS_API_KEY')\n",
    "else:\n",
    "    api_key = os.getenv('PARCL_LABS_API_KEY')"
   ]
  },
  {
   "cell_type": "code",
   "execution_count": null,
   "id": "0c14e32c-9570-42f0-889f-fe737fdb9450",
   "metadata": {},
   "outputs": [],
   "source": [
    "import parcllabs\n",
    "import pandas as pd\n",
    "import plotly.express as px\n",
    "from parcllabs import ParclLabsClient\n",
    "\n",
    "print(f\"Parcl Labs Version: {parcllabs.__version__}\")"
   ]
  },
  {
   "cell_type": "code",
   "execution_count": null,
   "id": "a61daf63-1e1a-4fd2-bac6-5fc5033b1d64",
   "metadata": {},
   "outputs": [],
   "source": [
    "labs_logo_lookup = {\n",
    "    'blue': 'https://parcllabs-assets.s3.amazonaws.com/powered-by-parcllabs-api.png',\n",
    "    'white': 'https://parcllabs-assets.s3.amazonaws.com/powered-by-parcllabs-api-logo-white+(1).svg'\n",
    "}\n",
    "\n",
    "# set charting constants\n",
    "labs_logo_dict = dict(\n",
    "        source=labs_logo_lookup['white'],\n",
    "        xref=\"paper\",\n",
    "        yref=\"paper\",\n",
    "        x=0.5,  # Centering the logo below the title\n",
    "        y=1.02,  # Adjust this value to position the logo just below the title\n",
    "        sizex=0.15, \n",
    "        sizey=0.15,\n",
    "        xanchor=\"center\",\n",
    "        yanchor=\"bottom\"\n",
    ")\n",
    "\n",
    "def build_chart(\n",
    "    name,\n",
    "    data\n",
    "): \n",
    "    HEIGHT = 900\n",
    "    WIDTH = 1600\n",
    "    fig = px.line(\n",
    "        data,\n",
    "        x='date',\n",
    "        y='price_median_sales',\n",
    "        color='type',  # This creates separate lines for each period\n",
    "        title=f'Investor Purchases vs. All Purchases (Median Purchase Price): {name}',\n",
    "        labels={'price_median_sales': 'Median Purchase Price ($)'},\n",
    "        line_shape='spline'  # 'spline' for smooth lines\n",
    "    )\n",
    "    \n",
    "    fig.add_layout_image(labs_logo_dict)\n",
    "    \n",
    "    fig.update_layout(\n",
    "        margin=dict(l=0, r=0, t=110, b=0),\n",
    "        height=HEIGHT,\n",
    "        width=WIDTH,\n",
    "        legend=dict(\n",
    "            x=0.01,\n",
    "            y=0.99,\n",
    "            traceorder=\"normal\",\n",
    "            xanchor='left',\n",
    "            yanchor='top',\n",
    "            title='Buyer Type',\n",
    "            font=dict(size=12),\n",
    "            bgcolor='rgba(0, 0, 0, 0)',\n",
    "        ),\n",
    "        title={\n",
    "            'y':0.98,\n",
    "            'x':0.5,\n",
    "            'xanchor': 'center',\n",
    "            'yanchor': 'top',\n",
    "            'font': dict(size=24),\n",
    "        },\n",
    "        plot_bgcolor='#080D16',\n",
    "        paper_bgcolor='#080D16',\n",
    "        font=dict(color='#FFFFFF'),\n",
    "        xaxis=dict(\n",
    "            title_text='',\n",
    "            showgrid=True,\n",
    "            gridwidth=1,\n",
    "            gridcolor='LightGrey',\n",
    "            tickangle=-45,\n",
    "            tickfont=dict(size=12),\n",
    "        ),\n",
    "        yaxis=dict(\n",
    "            title_text='Median Purchase Price ($)',\n",
    "            showgrid=True,\n",
    "            gridwidth=1,\n",
    "            gridcolor='LightGrey',\n",
    "            tickfont=dict(size=12),\n",
    "        ),\n",
    "    )\n",
    "    \n",
    "    color_map = {\n",
    "        'Investor': '#448CF2',\n",
    "        'All': '#FFFFFF',\n",
    "    }\n",
    "    \n",
    "    fig.update_traces(\n",
    "        line=dict(width=3),\n",
    "        mode='lines+markers',\n",
    "        marker=dict(size=8, symbol='circle', line=dict(width=2, color='#080D16'))\n",
    "    )\n",
    "    \n",
    "    for trace in fig.data:\n",
    "        if trace.name in color_map:\n",
    "            trace.line.color = color_map[trace.name]\n",
    "            trace.marker.color = color_map[trace.name]\n",
    "    \n",
    "    # Adding gridlines\n",
    "    fig.update_xaxes(showgrid=True, gridwidth=1, gridcolor='LightGrey')\n",
    "    fig.update_yaxes(showgrid=True, gridwidth=1, gridcolor='LightGrey')\n",
    "    \n",
    "    fig.write_image(os.path.join(output_dir, f'{name}.png'), width=WIDTH, height=HEIGHT)\n",
    "    \n",
    "    # Show the plot\n",
    "    fig.show()\n",
    "\n",
    "def format_names(nme):\n",
    "    state = nme.split(',')[-1].strip().upper().split('-')[0]\n",
    "    metro = nme.split(',')[0].split('-')[0].strip()\n",
    "    metro = metro.split('/')[0].strip()\n",
    "    return f\"{metro}, {state}\""
   ]
  },
  {
   "cell_type": "code",
   "execution_count": null,
   "id": "5cae0ff9-5cc5-46a7-9a3c-6d536a5ac5ce",
   "metadata": {},
   "outputs": [],
   "source": [
    "# set output location\n",
    "# set default save directory\n",
    "save_dir = './graphics'\n",
    "new_dir_name = f\"investor-vs-market-buying-{datetime.today().date()}\"\n",
    "output_dir = os.path.join(save_dir, new_dir_name)\n",
    "\n",
    "if not os.path.exists(output_dir):\n",
    "    os.makedirs(output_dir)"
   ]
  },
  {
   "cell_type": "code",
   "execution_count": null,
   "id": "710cba2b-a582-4da8-a2eb-f6e4e8e656b0",
   "metadata": {},
   "outputs": [],
   "source": [
    "# initialize client\n",
    "client = ParclLabsClient(api_key=api_key, limit=100)"
   ]
  },
  {
   "cell_type": "code",
   "execution_count": null,
   "id": "a56776e8-b6b4-4b1f-bf69-6c51a9872bea",
   "metadata": {},
   "outputs": [],
   "source": [
    "# retrieving info for the Phoenix Parcl\n",
    "usa = client.search_markets.retrieve(\n",
    "    query='United States',\n",
    "    as_dataframe=True\n",
    ")\n",
    "\n",
    "usa_parcl_id = usa['parcl_id'].values[0]\n",
    "us_name = usa['name'].values[0]"
   ]
  },
  {
   "cell_type": "code",
   "execution_count": null,
   "id": "e4bd1805-565e-48fb-84cc-00f93346ef57",
   "metadata": {},
   "outputs": [],
   "source": [
    "# top 25 markets\n",
    "# retrieving info for the Phoenix Parcl\n",
    "mkts = client.search_markets.retrieve(\n",
    "    as_dataframe=True,\n",
    "    location_type='CBSA',\n",
    "    sort_by='TOTAL_POPULATION',\n",
    "    params={'limit': 50}\n",
    ")\n",
    "\n",
    "mkts_parcl_ids = mkts['parcl_id'].tolist()"
   ]
  },
  {
   "cell_type": "code",
   "execution_count": null,
   "id": "38f817a2-f407-475c-9f51-9f97842bac81",
   "metadata": {},
   "outputs": [],
   "source": [
    "# identify top investor owned markets\n",
    "results = client.investor_metrics_housing_stock_ownership.retrieve_many(\n",
    "    as_dataframe=True,\n",
    "    params={'limit': 1},\n",
    "    parcl_ids=mkts_parcl_ids\n",
    ")\n",
    "results.head()\n",
    "\n",
    "us_results = client.investor_metrics_housing_stock_ownership.retrieve(\n",
    "    as_dataframe=True,\n",
    "    params={'limit': 1},\n",
    "    parcl_id=usa_parcl_id\n",
    ")\n",
    "\n",
    "us_results"
   ]
  },
  {
   "cell_type": "code",
   "execution_count": null,
   "id": "5f36b518-f41b-442f-a0a8-2486cfbc5289",
   "metadata": {},
   "outputs": [],
   "source": [
    "def print_text(pid, name):\n",
    "    \n",
    "    investor_sales = mkt_data.loc[(mkt_data['parcl_id'] == pid) & (mkt_data['date']=='2024-03-01') & (mkt_data['type'] == 'Investor')]['price_median_sales'].values[0]\n",
    "    all_sales = mkt_data.loc[(mkt_data['parcl_id'] == pid) & (mkt_data['date']=='2024-03-01') & (mkt_data['type'] == 'All')]['price_median_sales'].values[0]\n",
    "    \n",
    "    pct_diff = (investor_sales-all_sales)/all_sales\n",
    "    diff2 = abs(pct_diff)\n",
    "    pct_diff_str = f\"{diff2:.02%}\"\n",
    "    direction = 'Discount' if pct_diff < 0 else 'Premium'\n",
    "    investor_ownership = results.loc[(results['parcl_id'] == pid) & (results['date']=='2024-03-01')]['pct_ownership'].values[0]/100\n",
    "    investor_ownership_str = f\"{investor_ownership:.02%}\"\n",
    "    print(f'{name}')\n",
    "    print('')\n",
    "    print(f\"Total Investor Market Ownership: {investor_ownership_str}\")\n",
    "    print(f\"Investor Purchase Price: ${investor_sales:,.0f}\")\n",
    "    print(f\"Market Purchase Price: ${all_sales:,.0f}\")\n",
    "    print(f\"Investors Buy at {pct_diff_str} {direction}\")\n",
    "\n",
    "print_text(2899753, 'NY')"
   ]
  },
  {
   "cell_type": "code",
   "execution_count": null,
   "id": "0bd6488d-32e3-4dbc-9274-4eb520696d83",
   "metadata": {},
   "outputs": [],
   "source": [
    "diff = (98000-240000)/240000\n",
    "f\"{diff:.02%}\""
   ]
  },
  {
   "cell_type": "code",
   "execution_count": null,
   "id": "0e03f45d-e959-4150-801a-19370bbd4ffb",
   "metadata": {},
   "outputs": [],
   "source": [
    "ids = results.sort_values('pct_ownership', ascending=False).head(50)['parcl_id'].tolist()"
   ]
  },
  {
   "cell_type": "code",
   "execution_count": null,
   "id": "e07c31ce-a7e0-4b12-b96e-90a6cbb171d3",
   "metadata": {},
   "outputs": [],
   "source": [
    "# now lets get the investor share of listings for multiple markets\n",
    "\n",
    "START_DATE = '2021-03-01'\n",
    "\n",
    "usa_investor_prices = client.investor_metrics_housing_event_prices.retrieve(\n",
    "    parcl_id=usa_parcl_id,\n",
    "    start_date=START_DATE,\n",
    "    as_dataframe=True\n",
    ")\n",
    "\n",
    "usa_prices = client.market_metrics_housing_event_prices.retrieve(\n",
    "    parcl_id=usa_parcl_id,\n",
    "    start_date=START_DATE,\n",
    "    as_dataframe=True\n",
    ")\n",
    "\n",
    "\n",
    "mkt_investor_prices = client.investor_metrics_housing_event_prices.retrieve_many(\n",
    "    parcl_ids=ids,\n",
    "    start_date=START_DATE,\n",
    "    as_dataframe=True\n",
    ")\n",
    "\n",
    "mkt_prices = client.market_metrics_housing_event_prices.retrieve_many(\n",
    "    parcl_ids=ids,\n",
    "    start_date=START_DATE,\n",
    "    as_dataframe=True\n",
    ")"
   ]
  },
  {
   "cell_type": "code",
   "execution_count": null,
   "id": "2cf769ef-6c15-49e4-bead-3499a3d80be0",
   "metadata": {},
   "outputs": [],
   "source": [
    "def prepare_data(\n",
    "    investors,\n",
    "    all_purchases\n",
    "):\n",
    "    investors['type'] = 'Investor'\n",
    "    all_purchases['type'] = 'All'\n",
    "    \n",
    "    investors = investors.rename(columns={'price_median_acquisitions': 'price_median_sales'})\n",
    "    out = pd.concat([all_purchases[['parcl_id', 'date', 'price_median_sales', 'type']], investors[['parcl_id', 'date', 'price_median_sales', 'type']]], axis=0)\n",
    "    return out\n",
    "\n",
    "usa = prepare_data(usa_investor_prices, usa_prices)\n",
    "mkt_data = prepare_data(mkt_investor_prices, mkt_prices)"
   ]
  },
  {
   "cell_type": "code",
   "execution_count": null,
   "id": "99c498e2-9b26-47ba-a332-fd7055962b8c",
   "metadata": {},
   "outputs": [],
   "source": [
    "mkt_data = pd.merge(mkts[['parcl_id', 'name']], mkt_data, on='parcl_id')\n",
    "mkt_data['name'] = mkt_data['name'].apply(lambda x: format_names(x))\n",
    "mkt_data['name'].unique()"
   ]
  },
  {
   "cell_type": "code",
   "execution_count": null,
   "id": "b6a4ae83-03ed-4267-86bf-acbd59ed87e6",
   "metadata": {},
   "outputs": [],
   "source": [
    "build_chart(us_name, out)"
   ]
  },
  {
   "cell_type": "code",
   "execution_count": null,
   "id": "00f16d89-7278-418d-b3fc-45a9a76f4334",
   "metadata": {},
   "outputs": [],
   "source": [
    "tmp = mkt_data[['parcl_id', 'name']].drop_duplicates().head(25)\n",
    "tmp"
   ]
  },
  {
   "cell_type": "code",
   "execution_count": null,
   "id": "70647d1b-b94b-4a15-a97c-e2bccfe8bff7",
   "metadata": {},
   "outputs": [],
   "source": [
    "pid = 2900266\n",
    "print_text(pid, tmp.loc[tmp['parcl_id']==pid]['name'].values[0])"
   ]
  },
  {
   "cell_type": "code",
   "execution_count": null,
   "id": "74dad548-ec9b-4eda-814c-8438ebfd6182",
   "metadata": {},
   "outputs": [],
   "source": [
    "for name in mkt_data['name'].unique():\n",
    "    data = mkt_data.loc[mkt_data['name']==name]\n",
    "    build_chart(name, data)"
   ]
  },
  {
   "cell_type": "code",
   "execution_count": null,
   "id": "2cbcdca9-2205-4b26-b0fb-e245272ef2cf",
   "metadata": {},
   "outputs": [],
   "source": []
  },
  {
   "cell_type": "code",
   "execution_count": null,
   "id": "71245730-af40-4f93-a47f-a1917533716e",
   "metadata": {},
   "outputs": [],
   "source": [
    "format_names('San Antonio-New Braunfels, Tx')"
   ]
  }
 ],
 "metadata": {
  "kernelspec": {
   "display_name": "Python (parcllabs-env)",
   "language": "python",
   "name": "parcllabs-env"
  },
  "language_info": {
   "codemirror_mode": {
    "name": "ipython",
    "version": 3
   },
   "file_extension": ".py",
   "mimetype": "text/x-python",
   "name": "python",
   "nbconvert_exporter": "python",
   "pygments_lexer": "ipython3",
   "version": "3.11.7"
  }
 },
 "nbformat": 4,
 "nbformat_minor": 5
}
